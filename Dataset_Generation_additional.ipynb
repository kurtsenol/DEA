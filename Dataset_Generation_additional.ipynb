{
 "cells": [
  {
   "cell_type": "code",
   "execution_count": 301,
   "id": "fc798ec7",
   "metadata": {},
   "outputs": [],
   "source": [
    "import pandas as pd\n",
    "import numpy as np\n",
    "import random\n",
    "\n",
    "import matplotlib.pyplot as plt\n",
    "import seaborn as sns\n",
    "\n",
    "np.set_printoptions(linewidth=np.inf, suppress=True, precision=2)"
   ]
  },
  {
   "cell_type": "code",
   "execution_count": 302,
   "id": "6d565361-d152-4459-be65-97e811d5d01e",
   "metadata": {},
   "outputs": [
    {
     "data": {
      "text/html": [
       "        <script type=\"text/javascript\">\n",
       "        window.PlotlyConfig = {MathJaxConfig: 'local'};\n",
       "        if (window.MathJax && window.MathJax.Hub && window.MathJax.Hub.Config) {window.MathJax.Hub.Config({SVG: {font: \"STIX-Web\"}});}\n",
       "        if (typeof require !== 'undefined') {\n",
       "        require.undef(\"plotly\");\n",
       "        requirejs.config({\n",
       "            paths: {\n",
       "                'plotly': ['https://cdn.plot.ly/plotly-2.18.2.min']\n",
       "            }\n",
       "        });\n",
       "        require(['plotly'], function(Plotly) {\n",
       "            window._Plotly = Plotly;\n",
       "        });\n",
       "        }\n",
       "        </script>\n",
       "        "
      ]
     },
     "metadata": {},
     "output_type": "display_data"
    }
   ],
   "source": [
    "import plotly.express as px\n",
    "import plotly.offline as pyo\n",
    "import plotly.graph_objs as go\n",
    "from plotly.subplots import make_subplots\n",
    "import plotly.figure_factory as ff\n",
    "\n",
    "pyo.init_notebook_mode(connected=True)"
   ]
  },
  {
   "cell_type": "markdown",
   "id": "80939c62-57af-42fd-9439-e650c630e5a1",
   "metadata": {},
   "source": [
    "### 5 Input 1 Output - 1"
   ]
  },
  {
   "cell_type": "code",
   "execution_count": 303,
   "id": "b7588326-d6ae-449c-9f9d-ad8f30f46b03",
   "metadata": {},
   "outputs": [],
   "source": [
    "m = n_input = 5"
   ]
  },
  {
   "cell_type": "code",
   "execution_count": 304,
   "id": "b065de57-e533-44fe-9271-eaa67dedca47",
   "metadata": {},
   "outputs": [
    {
     "data": {
      "text/plain": [
       "array([5.94, 7.44, 6.42, 5.9 , 4.81])"
      ]
     },
     "execution_count": 304,
     "metadata": {},
     "output_type": "execute_result"
    }
   ],
   "source": [
    "np.random.seed(0)\n",
    "x_min = np.random.uniform(1,10, m)\n",
    "x_min"
   ]
  },
  {
   "cell_type": "code",
   "execution_count": 305,
   "id": "f9fe3036-8d3c-43df-9fc2-b34359d95683",
   "metadata": {},
   "outputs": [
    {
     "data": {
      "text/plain": [
       "array([967.06, 547.69, 972.71, 715.1 , 698.03])"
      ]
     },
     "execution_count": 305,
     "metadata": {},
     "output_type": "execute_result"
    }
   ],
   "source": [
    "np.random.seed(4)\n",
    "delta_x = np.random.uniform(1,1000, m)\n",
    "delta_x"
   ]
  },
  {
   "cell_type": "code",
   "execution_count": 306,
   "id": "a4842996-56f3-4e9c-9d4e-5f6e1ae59daa",
   "metadata": {},
   "outputs": [
    {
     "data": {
      "text/plain": [
       "array([973.  , 555.12, 979.14, 721.01, 702.84])"
      ]
     },
     "execution_count": 306,
     "metadata": {},
     "output_type": "execute_result"
    }
   ],
   "source": [
    "x_max = x_min + delta_x\n",
    "x_max"
   ]
  },
  {
   "cell_type": "code",
   "execution_count": 307,
   "id": "32f57f48-3f15-4ac3-8f9b-92b4cd980847",
   "metadata": {},
   "outputs": [
    {
     "data": {
      "text/plain": [
       "array([489.47, 281.28, 492.78, 363.45, 353.83])"
      ]
     },
     "execution_count": 307,
     "metadata": {},
     "output_type": "execute_result"
    }
   ],
   "source": [
    "mean_q = (x_min + x_max)  * 0.5\n",
    "mean_q"
   ]
  },
  {
   "cell_type": "code",
   "execution_count": 308,
   "id": "42f1f20f-8962-4149-b815-c8648c200485",
   "metadata": {},
   "outputs": [
    {
     "data": {
      "text/plain": [
       "array([161.18,  91.28, 162.12, 119.18, 116.34])"
      ]
     },
     "execution_count": 308,
     "metadata": {},
     "output_type": "execute_result"
    }
   ],
   "source": [
    "std_max = (x_max - x_min) * 0.5 * (1/3)\n",
    "std_max"
   ]
  },
  {
   "cell_type": "code",
   "execution_count": 309,
   "id": "aa82b289-85b5-46f8-a483-4be334270e4d",
   "metadata": {},
   "outputs": [],
   "source": [
    "np.random.seed(0)\n",
    "std_list = []\n",
    "\n",
    "for i in std_max:\n",
    "    std_list.append(np.random.uniform(0,i))"
   ]
  },
  {
   "cell_type": "code",
   "execution_count": 310,
   "id": "a3188e53-6728-4980-8605-a7253fa4eaf2",
   "metadata": {},
   "outputs": [
    {
     "data": {
      "text/plain": [
       "[88.45618813682478,\n",
       " 65.28308337122745,\n",
       " 97.71916225532115,\n",
       " 64.94110097658067,\n",
       " 49.28737063531463]"
      ]
     },
     "execution_count": 310,
     "metadata": {},
     "output_type": "execute_result"
    }
   ],
   "source": [
    "std_list"
   ]
  },
  {
   "cell_type": "code",
   "execution_count": 311,
   "id": "f270d63a-6393-4bd3-8e6f-e54a4f61f9e9",
   "metadata": {},
   "outputs": [],
   "source": [
    "cov_matrix_int = []\n",
    "\n",
    "for i in range(m):\n",
    "    for j in range(m):\n",
    "        \n",
    "        if j>i:\n",
    "            min_ = - std_list[i] *  std_list[j]\n",
    "            max_ = std_list[i] *  std_list[j]\n",
    "            \n",
    "            cov_matrix_int.append((i, j, min_, max_)) "
   ]
  },
  {
   "cell_type": "code",
   "execution_count": 312,
   "id": "618ef7bd-9220-4c9c-810a-e11b40f6bb47",
   "metadata": {},
   "outputs": [
    {
     "data": {
      "text/plain": [
       "[(0, 1, -5774.692704837313, 5774.692704837313),\n",
       " (0, 2, -8643.864601029594, 8643.864601029594),\n",
       " (0, 3, -5744.442245796955, 5744.442245796955),\n",
       " (0, 4, -4359.772929686804, 4359.772929686804),\n",
       " (1, 2, -6379.408216480633, 6379.408216480633),\n",
       " (1, 3, -4239.555309273416, 4239.555309273416),\n",
       " (1, 4, -3217.6315263338324, 3217.6315263338324),\n",
       " (2, 3, -6345.989983369682, 6345.989983369682),\n",
       " (2, 4, -4816.320568250461, 4816.320568250461),\n",
       " (3, 4, -3200.7761132981245, 3200.7761132981245)]"
      ]
     },
     "execution_count": 312,
     "metadata": {},
     "output_type": "execute_result"
    }
   ],
   "source": [
    "cov_matrix_int"
   ]
  },
  {
   "cell_type": "code",
   "execution_count": 313,
   "id": "7e183bba-dc04-4fdb-a465-a15f1d8da179",
   "metadata": {},
   "outputs": [
    {
     "data": {
      "text/plain": [
       "10"
      ]
     },
     "execution_count": 313,
     "metadata": {},
     "output_type": "execute_result"
    }
   ],
   "source": [
    "len(cov_matrix_int)"
   ]
  },
  {
   "cell_type": "code",
   "execution_count": 314,
   "id": "307417e2-b29d-4a0a-81e9-5b535b27b966",
   "metadata": {},
   "outputs": [
    {
     "data": {
      "text/plain": [
       "[-739.2195433459383,\n",
       " -8195.6589259592,\n",
       " 570.5664719148272,\n",
       " -563.9593636394957,\n",
       " -1016.012595318969,\n",
       " -1438.6098208237,\n",
       " -1900.6637329311984,\n",
       " 1513.7847155362688,\n",
       " -1929.8546318684898,\n",
       " -1492.6673762467587]"
      ]
     },
     "execution_count": 314,
     "metadata": {},
     "output_type": "execute_result"
    }
   ],
   "source": [
    "cov_list = []\n",
    "np.random.seed(2)\n",
    "\n",
    "for i, el in enumerate(cov_matrix_int):\n",
    "    n = np.random.uniform(el[2],el[3])\n",
    "#    print(i)\n",
    "#    if i>(len(cov_matrix_int)/2)-1:\n",
    "#        if (cov_list[el[0]-1] * cov_list[el[1]-1] < 0) and  n < 0:\n",
    "#            n = n   \n",
    "#        else:\n",
    "#            n=-n\n",
    "    cov_list.append(n)\n",
    "cov_list"
   ]
  },
  {
   "cell_type": "code",
   "execution_count": 315,
   "id": "882e72b4-abf1-46dc-892e-14378138882d",
   "metadata": {},
   "outputs": [
    {
     "name": "stdout",
     "output_type": "stream",
     "text": [
      "5\n"
     ]
    },
    {
     "data": {
      "text/plain": [
       "array([[0., 0., 0., 0., 0.],\n",
       "       [0., 0., 0., 0., 0.],\n",
       "       [0., 0., 0., 0., 0.],\n",
       "       [0., 0., 0., 0., 0.],\n",
       "       [0., 0., 0., 0., 0.]])"
      ]
     },
     "execution_count": 315,
     "metadata": {},
     "output_type": "execute_result"
    }
   ],
   "source": [
    "cov_matrix = np.zeros((m, m))\n",
    "print(len(cov_matrix))\n",
    "cov_matrix"
   ]
  },
  {
   "cell_type": "code",
   "execution_count": 316,
   "id": "d31fcdce-2d9c-470a-b316-83b45633c9e6",
   "metadata": {},
   "outputs": [
    {
     "name": "stdout",
     "output_type": "stream",
     "text": [
      "[[ 7824.5   -739.22 -8195.66   570.57  -563.96]\n",
      " [ -739.22  4261.88 -1016.01 -1438.61 -1900.66]\n",
      " [-8195.66 -1016.01  9549.03  1513.78 -1929.85]\n",
      " [  570.57 -1438.61  1513.78  4217.35 -1492.67]\n",
      " [ -563.96 -1900.66 -1929.85 -1492.67  2429.24]]\n"
     ]
    }
   ],
   "source": [
    "k=0\n",
    "l=0\n",
    "for i in range(len(cov_matrix)):\n",
    "    for j in range(len(cov_matrix)):\n",
    "        if j>i:\n",
    "            cov_matrix[i][j] = cov_matrix[j][i] = cov_list[k]\n",
    "            k += 1\n",
    "        if i == j:\n",
    "            cov_matrix[i][j] = np.square(std_list[l]) \n",
    "            l += 1 \n",
    "np.set_printoptions(suppress=True)\n",
    "print(cov_matrix)"
   ]
  },
  {
   "cell_type": "code",
   "execution_count": 317,
   "id": "2031ba96-620e-4258-a51b-420a11c76cb0",
   "metadata": {},
   "outputs": [
    {
     "data": {
      "image/png": "[encoded data removed]",
      "text/plain": [
       "<Figure size 800x600 with 2 Axes>"
      ]
     },
     "metadata": {},
     "output_type": "display_data"
    }
   ],
   "source": [
    "plt.figure(figsize = (8,6))\n",
    "sns.heatmap(cov_matrix, annot=True, fmt='.2f', cmap='YlGnBu');"
   ]
  },
  {
   "cell_type": "code",
   "execution_count": 338,
   "id": "6e5a3734-ee83-4e14-8d71-6e669a19881f",
   "metadata": {},
   "outputs": [
    {
     "name": "stderr",
     "output_type": "stream",
     "text": [
      "/var/folders/6l/c4m0953s1_jgnd_y35l2l7kc0000gp/T/ipykernel_11436/3340323176.py:2: RuntimeWarning:\n",
      "\n",
      "covariance is not positive-semidefinite.\n",
      "\n"
     ]
    },
    {
     "data": {
      "text/html": [
       "<div><div id=87b5fa4e-7873-4009-990c-799d5fcc942f style=\"display:none; background-color:#9D6CFF; color:white; width:200px; height:30px; padding-left:5px; border-radius:4px; flex-direction:row; justify-content:space-around; align-items:center;\" onmouseover=\"this.style.backgroundColor='#BA9BF8'\" onmouseout=\"this.style.backgroundColor='#9D6CFF'\" onclick=\"window.commands?.execute('create-mitosheet-from-dataframe-output');\">See Full Dataframe in Mito</div> <script> if (window.commands.hasCommand('create-mitosheet-from-dataframe-output')) document.getElementById('87b5fa4e-7873-4009-990c-799d5fcc942f').style.display = 'flex' </script> <table border=\"1\" class=\"dataframe\">\n",
       "  <thead>\n",
       "    <tr style=\"text-align: right;\">\n",
       "      <th></th>\n",
       "      <th>Input 1</th>\n",
       "      <th>Input 2</th>\n",
       "      <th>Input 3</th>\n",
       "      <th>Input 4</th>\n",
       "      <th>Input 5</th>\n",
       "    </tr>\n",
       "  </thead>\n",
       "  <tbody>\n",
       "    <tr>\n",
       "      <th>DMU 0001</th>\n",
       "      <td>297.05</td>\n",
       "      <td>278.35</td>\n",
       "      <td>610.26</td>\n",
       "      <td>346.60</td>\n",
       "      <td>359.56</td>\n",
       "    </tr>\n",
       "    <tr>\n",
       "      <th>DMU 0002</th>\n",
       "      <td>726.55</td>\n",
       "      <td>170.31</td>\n",
       "      <td>295.74</td>\n",
       "      <td>417.47</td>\n",
       "      <td>403.38</td>\n",
       "    </tr>\n",
       "    <tr>\n",
       "      <th>DMU 0003</th>\n",
       "      <td>289.29</td>\n",
       "      <td>369.62</td>\n",
       "      <td>586.33</td>\n",
       "      <td>275.17</td>\n",
       "      <td>380.85</td>\n",
       "    </tr>\n",
       "    <tr>\n",
       "      <th>DMU 0004</th>\n",
       "      <td>560.78</td>\n",
       "      <td>259.74</td>\n",
       "      <td>372.31</td>\n",
       "      <td>334.00</td>\n",
       "      <td>419.41</td>\n",
       "    </tr>\n",
       "    <tr>\n",
       "      <th>DMU 0005</th>\n",
       "      <td>620.35</td>\n",
       "      <td>285.85</td>\n",
       "      <td>404.26</td>\n",
       "      <td>458.16</td>\n",
       "      <td>334.64</td>\n",
       "    </tr>\n",
       "    <tr>\n",
       "      <th>...</th>\n",
       "      <td>...</td>\n",
       "      <td>...</td>\n",
       "      <td>...</td>\n",
       "      <td>...</td>\n",
       "      <td>...</td>\n",
       "    </tr>\n",
       "    <tr>\n",
       "      <th>DMU 0996</th>\n",
       "      <td>360.84</td>\n",
       "      <td>159.65</td>\n",
       "      <td>684.56</td>\n",
       "      <td>410.24</td>\n",
       "      <td>375.58</td>\n",
       "    </tr>\n",
       "    <tr>\n",
       "      <th>DMU 0997</th>\n",
       "      <td>627.54</td>\n",
       "      <td>303.87</td>\n",
       "      <td>326.63</td>\n",
       "      <td>440.97</td>\n",
       "      <td>333.79</td>\n",
       "    </tr>\n",
       "    <tr>\n",
       "      <th>DMU 0998</th>\n",
       "      <td>372.33</td>\n",
       "      <td>297.94</td>\n",
       "      <td>620.79</td>\n",
       "      <td>374.65</td>\n",
       "      <td>397.02</td>\n",
       "    </tr>\n",
       "    <tr>\n",
       "      <th>DMU 0999</th>\n",
       "      <td>574.33</td>\n",
       "      <td>356.52</td>\n",
       "      <td>471.89</td>\n",
       "      <td>391.15</td>\n",
       "      <td>361.48</td>\n",
       "    </tr>\n",
       "    <tr>\n",
       "      <th>DMU 1000</th>\n",
       "      <td>346.98</td>\n",
       "      <td>254.52</td>\n",
       "      <td>648.26</td>\n",
       "      <td>437.41</td>\n",
       "      <td>426.24</td>\n",
       "    </tr>\n",
       "  </tbody>\n",
       "</table></div>"
      ],
      "text/plain": [
       "          Input 1  Input 2  Input 3  Input 4  Input 5\n",
       "DMU 0001   297.05   278.35   610.26   346.60   359.56\n",
       "DMU 0002   726.55   170.31   295.74   417.47   403.38\n",
       "DMU 0003   289.29   369.62   586.33   275.17   380.85\n",
       "DMU 0004   560.78   259.74   372.31   334.00   419.41\n",
       "DMU 0005   620.35   285.85   404.26   458.16   334.64\n",
       "...           ...      ...      ...      ...      ...\n",
       "DMU 0996   360.84   159.65   684.56   410.24   375.58\n",
       "DMU 0997   627.54   303.87   326.63   440.97   333.79\n",
       "DMU 0998   372.33   297.94   620.79   374.65   397.02\n",
       "DMU 0999   574.33   356.52   471.89   391.15   361.48\n",
       "DMU 1000   346.98   254.52   648.26   437.41   426.24\n",
       "\n",
       "[1000 rows x 5 columns]"
      ]
     },
     "execution_count": 338,
     "metadata": {},
     "output_type": "execute_result"
    }
   ],
   "source": [
    "np.random.seed(1)\n",
    "df51 = pd.DataFrame(np.random.multivariate_normal(mean_q, cov_matrix, 1000))\n",
    "df51.columns = [\"Input \" + str(i + 1) for i in range(m)]\n",
    "df51.index = [\"DMU \" + str(i + 1).zfill(4) for i in range(len(df51))]\n",
    "df51 = df51.round(2)\n",
    "df51"
   ]
  },
  {
   "cell_type": "code",
   "execution_count": 339,
   "id": "b1dfe679-935e-4317-832e-58ae9359141b",
   "metadata": {},
   "outputs": [
    {
     "data": {
      "text/html": [
       "<div><div id=04393081-c926-4d5c-b897-83f4eacd2245 style=\"display:none; background-color:#9D6CFF; color:white; width:200px; height:30px; padding-left:5px; border-radius:4px; flex-direction:row; justify-content:space-around; align-items:center;\" onmouseover=\"this.style.backgroundColor='#BA9BF8'\" onmouseout=\"this.style.backgroundColor='#9D6CFF'\" onclick=\"window.commands?.execute('create-mitosheet-from-dataframe-output');\">See Full Dataframe in Mito</div> <script> if (window.commands.hasCommand('create-mitosheet-from-dataframe-output')) document.getElementById('04393081-c926-4d5c-b897-83f4eacd2245').style.display = 'flex' </script> <table border=\"1\" class=\"dataframe\">\n",
       "  <thead>\n",
       "    <tr style=\"text-align: right;\">\n",
       "      <th></th>\n",
       "      <th>Input 1</th>\n",
       "      <th>Input 2</th>\n",
       "      <th>Input 3</th>\n",
       "      <th>Input 4</th>\n",
       "      <th>Input 5</th>\n",
       "    </tr>\n",
       "  </thead>\n",
       "  <tbody>\n",
       "    <tr>\n",
       "      <th>count</th>\n",
       "      <td>1000.000000</td>\n",
       "      <td>1000.000000</td>\n",
       "      <td>1000.00000</td>\n",
       "      <td>1000.000000</td>\n",
       "      <td>1000.000000</td>\n",
       "    </tr>\n",
       "    <tr>\n",
       "      <th>mean</th>\n",
       "      <td>493.069940</td>\n",
       "      <td>281.187200</td>\n",
       "      <td>493.89575</td>\n",
       "      <td>366.340230</td>\n",
       "      <td>353.777480</td>\n",
       "    </tr>\n",
       "    <tr>\n",
       "      <th>std</th>\n",
       "      <td>91.920458</td>\n",
       "      <td>66.829564</td>\n",
       "      <td>97.11625</td>\n",
       "      <td>66.142017</td>\n",
       "      <td>56.113152</td>\n",
       "    </tr>\n",
       "    <tr>\n",
       "      <th>min</th>\n",
       "      <td>139.920000</td>\n",
       "      <td>88.390000</td>\n",
       "      <td>223.58000</td>\n",
       "      <td>150.280000</td>\n",
       "      <td>156.120000</td>\n",
       "    </tr>\n",
       "    <tr>\n",
       "      <th>25%</th>\n",
       "      <td>430.272500</td>\n",
       "      <td>237.772500</td>\n",
       "      <td>424.82250</td>\n",
       "      <td>322.237500</td>\n",
       "      <td>316.220000</td>\n",
       "    </tr>\n",
       "    <tr>\n",
       "      <th>50%</th>\n",
       "      <td>491.065000</td>\n",
       "      <td>284.050000</td>\n",
       "      <td>492.89000</td>\n",
       "      <td>366.455000</td>\n",
       "      <td>355.295000</td>\n",
       "    </tr>\n",
       "    <tr>\n",
       "      <th>75%</th>\n",
       "      <td>556.462500</td>\n",
       "      <td>327.697500</td>\n",
       "      <td>555.78250</td>\n",
       "      <td>409.147500</td>\n",
       "      <td>389.082500</td>\n",
       "    </tr>\n",
       "    <tr>\n",
       "      <th>max</th>\n",
       "      <td>726.550000</td>\n",
       "      <td>479.440000</td>\n",
       "      <td>861.62000</td>\n",
       "      <td>575.590000</td>\n",
       "      <td>562.150000</td>\n",
       "    </tr>\n",
       "  </tbody>\n",
       "</table></div>"
      ],
      "text/plain": [
       "           Input 1      Input 2     Input 3      Input 4      Input 5\n",
       "count  1000.000000  1000.000000  1000.00000  1000.000000  1000.000000\n",
       "mean    493.069940   281.187200   493.89575   366.340230   353.777480\n",
       "std      91.920458    66.829564    97.11625    66.142017    56.113152\n",
       "min     139.920000    88.390000   223.58000   150.280000   156.120000\n",
       "25%     430.272500   237.772500   424.82250   322.237500   316.220000\n",
       "50%     491.065000   284.050000   492.89000   366.455000   355.295000\n",
       "75%     556.462500   327.697500   555.78250   409.147500   389.082500\n",
       "max     726.550000   479.440000   861.62000   575.590000   562.150000"
      ]
     },
     "execution_count": 339,
     "metadata": {},
     "output_type": "execute_result"
    }
   ],
   "source": [
    "df51.describe()"
   ]
  },
  {
   "cell_type": "code",
   "execution_count": 340,
   "id": "7e51c0ad-ec06-45d1-831b-26ffbf9a3267",
   "metadata": {},
   "outputs": [
    {
     "name": "stdout",
     "output_type": "stream",
     "text": [
      "[1.2687284882248024, 2.6948674738744653]\n"
     ]
    }
   ],
   "source": [
    "random.seed(1)  # Set the random seed for reproducibility\n",
    "\n",
    "numbers = sorted([random.uniform(1, 3) for _ in range(2)])\n",
    "print(numbers)"
   ]
  },
  {
   "cell_type": "code",
   "execution_count": 341,
   "id": "13c071a9-6b19-4e34-baed-3277a86c81b1",
   "metadata": {},
   "outputs": [],
   "source": [
    "df511 = df51.iloc[:,:2] * np.array(numbers)"
   ]
  },
  {
   "cell_type": "code",
   "execution_count": 342,
   "id": "528d61fc-1817-479e-ac0a-b79c80264a72",
   "metadata": {},
   "outputs": [],
   "source": [
    "# Add noise to each column\n",
    "noise_std = df51.std().mean()\n",
    "df512 = df511 + np.random.normal(0, noise_std, size=df51.iloc[:,:2].shape)"
   ]
  },
  {
   "cell_type": "code",
   "execution_count": 343,
   "id": "8f267bd7-168d-4c51-af2d-b2a64976ce1c",
   "metadata": {},
   "outputs": [],
   "source": [
    "df51[\"Output\"] = df512.sum(axis=1)"
   ]
  },
  {
   "cell_type": "code",
   "execution_count": 344,
   "id": "b4cb1007-b5d4-4fcf-8250-53578022519a",
   "metadata": {},
   "outputs": [
    {
     "data": {
      "text/html": [
       "<div><div id=b6900ccf-fa82-4bc9-8207-49c77ffddfd4 style=\"display:none; background-color:#9D6CFF; color:white; width:200px; height:30px; padding-left:5px; border-radius:4px; flex-direction:row; justify-content:space-around; align-items:center;\" onmouseover=\"this.style.backgroundColor='#BA9BF8'\" onmouseout=\"this.style.backgroundColor='#9D6CFF'\" onclick=\"window.commands?.execute('create-mitosheet-from-dataframe-output');\">See Full Dataframe in Mito</div> <script> if (window.commands.hasCommand('create-mitosheet-from-dataframe-output')) document.getElementById('b6900ccf-fa82-4bc9-8207-49c77ffddfd4').style.display = 'flex' </script> <table border=\"1\" class=\"dataframe\">\n",
       "  <thead>\n",
       "    <tr style=\"text-align: right;\">\n",
       "      <th></th>\n",
       "      <th>Input 1</th>\n",
       "      <th>Input 2</th>\n",
       "      <th>Input 3</th>\n",
       "      <th>Input 4</th>\n",
       "      <th>Input 5</th>\n",
       "      <th>Output</th>\n",
       "    </tr>\n",
       "  </thead>\n",
       "  <tbody>\n",
       "    <tr>\n",
       "      <th>DMU 0001</th>\n",
       "      <td>297.05</td>\n",
       "      <td>278.35</td>\n",
       "      <td>610.26</td>\n",
       "      <td>346.60</td>\n",
       "      <td>359.56</td>\n",
       "      <td>1142.429694</td>\n",
       "    </tr>\n",
       "    <tr>\n",
       "      <th>DMU 0002</th>\n",
       "      <td>726.55</td>\n",
       "      <td>170.31</td>\n",
       "      <td>295.74</td>\n",
       "      <td>417.47</td>\n",
       "      <td>403.38</td>\n",
       "      <td>1240.585759</td>\n",
       "    </tr>\n",
       "    <tr>\n",
       "      <th>DMU 0003</th>\n",
       "      <td>289.29</td>\n",
       "      <td>369.62</td>\n",
       "      <td>586.33</td>\n",
       "      <td>275.17</td>\n",
       "      <td>380.85</td>\n",
       "      <td>1519.009699</td>\n",
       "    </tr>\n",
       "    <tr>\n",
       "      <th>DMU 0004</th>\n",
       "      <td>560.78</td>\n",
       "      <td>259.74</td>\n",
       "      <td>372.31</td>\n",
       "      <td>334.00</td>\n",
       "      <td>419.41</td>\n",
       "      <td>1394.024111</td>\n",
       "    </tr>\n",
       "    <tr>\n",
       "      <th>DMU 0005</th>\n",
       "      <td>620.35</td>\n",
       "      <td>285.85</td>\n",
       "      <td>404.26</td>\n",
       "      <td>458.16</td>\n",
       "      <td>334.64</td>\n",
       "      <td>1693.505421</td>\n",
       "    </tr>\n",
       "    <tr>\n",
       "      <th>...</th>\n",
       "      <td>...</td>\n",
       "      <td>...</td>\n",
       "      <td>...</td>\n",
       "      <td>...</td>\n",
       "      <td>...</td>\n",
       "      <td>...</td>\n",
       "    </tr>\n",
       "    <tr>\n",
       "      <th>DMU 0996</th>\n",
       "      <td>360.84</td>\n",
       "      <td>159.65</td>\n",
       "      <td>684.56</td>\n",
       "      <td>410.24</td>\n",
       "      <td>375.58</td>\n",
       "      <td>744.446355</td>\n",
       "    </tr>\n",
       "    <tr>\n",
       "      <th>DMU 0997</th>\n",
       "      <td>627.54</td>\n",
       "      <td>303.87</td>\n",
       "      <td>326.63</td>\n",
       "      <td>440.97</td>\n",
       "      <td>333.79</td>\n",
       "      <td>1720.904676</td>\n",
       "    </tr>\n",
       "    <tr>\n",
       "      <th>DMU 0998</th>\n",
       "      <td>372.33</td>\n",
       "      <td>297.94</td>\n",
       "      <td>620.79</td>\n",
       "      <td>374.65</td>\n",
       "      <td>397.02</td>\n",
       "      <td>1261.041060</td>\n",
       "    </tr>\n",
       "    <tr>\n",
       "      <th>DMU 0999</th>\n",
       "      <td>574.33</td>\n",
       "      <td>356.52</td>\n",
       "      <td>471.89</td>\n",
       "      <td>391.15</td>\n",
       "      <td>361.48</td>\n",
       "      <td>1500.422656</td>\n",
       "    </tr>\n",
       "    <tr>\n",
       "      <th>DMU 1000</th>\n",
       "      <td>346.98</td>\n",
       "      <td>254.52</td>\n",
       "      <td>648.26</td>\n",
       "      <td>437.41</td>\n",
       "      <td>426.24</td>\n",
       "      <td>1041.514714</td>\n",
       "    </tr>\n",
       "  </tbody>\n",
       "</table></div>"
      ],
      "text/plain": [
       "          Input 1  Input 2  Input 3  Input 4  Input 5       Output\n",
       "DMU 0001   297.05   278.35   610.26   346.60   359.56  1142.429694\n",
       "DMU 0002   726.55   170.31   295.74   417.47   403.38  1240.585759\n",
       "DMU 0003   289.29   369.62   586.33   275.17   380.85  1519.009699\n",
       "DMU 0004   560.78   259.74   372.31   334.00   419.41  1394.024111\n",
       "DMU 0005   620.35   285.85   404.26   458.16   334.64  1693.505421\n",
       "...           ...      ...      ...      ...      ...          ...\n",
       "DMU 0996   360.84   159.65   684.56   410.24   375.58   744.446355\n",
       "DMU 0997   627.54   303.87   326.63   440.97   333.79  1720.904676\n",
       "DMU 0998   372.33   297.94   620.79   374.65   397.02  1261.041060\n",
       "DMU 0999   574.33   356.52   471.89   391.15   361.48  1500.422656\n",
       "DMU 1000   346.98   254.52   648.26   437.41   426.24  1041.514714\n",
       "\n",
       "[1000 rows x 6 columns]"
      ]
     },
     "execution_count": 344,
     "metadata": {},
     "output_type": "execute_result"
    }
   ],
   "source": [
    "df51"
   ]
  },
  {
   "cell_type": "code",
   "execution_count": 345,
   "id": "350940fb-a4f9-4c2a-ba10-bae6960052db",
   "metadata": {},
   "outputs": [
    {
     "data": {
      "text/html": [
       "<div><div id=a5ee14bb-b9c7-4502-b18d-9dc8b88632f4 style=\"display:none; background-color:#9D6CFF; color:white; width:200px; height:30px; padding-left:5px; border-radius:4px; flex-direction:row; justify-content:space-around; align-items:center;\" onmouseover=\"this.style.backgroundColor='#BA9BF8'\" onmouseout=\"this.style.backgroundColor='#9D6CFF'\" onclick=\"window.commands?.execute('create-mitosheet-from-dataframe-output');\">See Full Dataframe in Mito</div> <script> if (window.commands.hasCommand('create-mitosheet-from-dataframe-output')) document.getElementById('a5ee14bb-b9c7-4502-b18d-9dc8b88632f4').style.display = 'flex' </script> <table border=\"1\" class=\"dataframe\">\n",
       "  <thead>\n",
       "    <tr style=\"text-align: right;\">\n",
       "      <th></th>\n",
       "      <th>Input 1</th>\n",
       "      <th>Input 2</th>\n",
       "      <th>Input 3</th>\n",
       "      <th>Input 4</th>\n",
       "      <th>Input 5</th>\n",
       "      <th>Output</th>\n",
       "    </tr>\n",
       "  </thead>\n",
       "  <tbody>\n",
       "    <tr>\n",
       "      <th>count</th>\n",
       "      <td>1000.000000</td>\n",
       "      <td>1000.000000</td>\n",
       "      <td>1000.00000</td>\n",
       "      <td>1000.000000</td>\n",
       "      <td>1000.000000</td>\n",
       "      <td>1000.000000</td>\n",
       "    </tr>\n",
       "    <tr>\n",
       "      <th>mean</th>\n",
       "      <td>493.069940</td>\n",
       "      <td>281.187200</td>\n",
       "      <td>493.89575</td>\n",
       "      <td>366.340230</td>\n",
       "      <td>353.777480</td>\n",
       "      <td>1378.296371</td>\n",
       "    </tr>\n",
       "    <tr>\n",
       "      <th>std</th>\n",
       "      <td>91.920458</td>\n",
       "      <td>66.829564</td>\n",
       "      <td>97.11625</td>\n",
       "      <td>66.142017</td>\n",
       "      <td>56.113152</td>\n",
       "      <td>233.182698</td>\n",
       "    </tr>\n",
       "    <tr>\n",
       "      <th>min</th>\n",
       "      <td>139.920000</td>\n",
       "      <td>88.390000</td>\n",
       "      <td>223.58000</td>\n",
       "      <td>150.280000</td>\n",
       "      <td>156.120000</td>\n",
       "      <td>535.665810</td>\n",
       "    </tr>\n",
       "    <tr>\n",
       "      <th>25%</th>\n",
       "      <td>430.272500</td>\n",
       "      <td>237.772500</td>\n",
       "      <td>424.82250</td>\n",
       "      <td>322.237500</td>\n",
       "      <td>316.220000</td>\n",
       "      <td>1229.499785</td>\n",
       "    </tr>\n",
       "    <tr>\n",
       "      <th>50%</th>\n",
       "      <td>491.065000</td>\n",
       "      <td>284.050000</td>\n",
       "      <td>492.89000</td>\n",
       "      <td>366.455000</td>\n",
       "      <td>355.295000</td>\n",
       "      <td>1387.781109</td>\n",
       "    </tr>\n",
       "    <tr>\n",
       "      <th>75%</th>\n",
       "      <td>556.462500</td>\n",
       "      <td>327.697500</td>\n",
       "      <td>555.78250</td>\n",
       "      <td>409.147500</td>\n",
       "      <td>389.082500</td>\n",
       "      <td>1532.594010</td>\n",
       "    </tr>\n",
       "    <tr>\n",
       "      <th>max</th>\n",
       "      <td>726.550000</td>\n",
       "      <td>479.440000</td>\n",
       "      <td>861.62000</td>\n",
       "      <td>575.590000</td>\n",
       "      <td>562.150000</td>\n",
       "      <td>2131.354184</td>\n",
       "    </tr>\n",
       "  </tbody>\n",
       "</table></div>"
      ],
      "text/plain": [
       "           Input 1      Input 2     Input 3      Input 4      Input 5  \\\n",
       "count  1000.000000  1000.000000  1000.00000  1000.000000  1000.000000   \n",
       "mean    493.069940   281.187200   493.89575   366.340230   353.777480   \n",
       "std      91.920458    66.829564    97.11625    66.142017    56.113152   \n",
       "min     139.920000    88.390000   223.58000   150.280000   156.120000   \n",
       "25%     430.272500   237.772500   424.82250   322.237500   316.220000   \n",
       "50%     491.065000   284.050000   492.89000   366.455000   355.295000   \n",
       "75%     556.462500   327.697500   555.78250   409.147500   389.082500   \n",
       "max     726.550000   479.440000   861.62000   575.590000   562.150000   \n",
       "\n",
       "            Output  \n",
       "count  1000.000000  \n",
       "mean   1378.296371  \n",
       "std     233.182698  \n",
       "min     535.665810  \n",
       "25%    1229.499785  \n",
       "50%    1387.781109  \n",
       "75%    1532.594010  \n",
       "max    2131.354184  "
      ]
     },
     "execution_count": 345,
     "metadata": {},
     "output_type": "execute_result"
    }
   ],
   "source": [
    "df51.describe()"
   ]
  },
  {
   "cell_type": "code",
   "execution_count": 346,
   "id": "2e9cc3e2-4548-4ea0-99d5-4a9f17dfa250",
   "metadata": {},
   "outputs": [],
   "source": [
    "df51.to_excel(\"Data/RealData/Simulation/df51.xlsx\")"
   ]
  },
  {
   "cell_type": "code",
   "execution_count": 347,
   "id": "b12ca163-dc26-4021-8479-c594cd67fd37",
   "metadata": {},
   "outputs": [
    {
     "data": {
      "text/plain": [
       "Input 1    0\n",
       "Input 2    0\n",
       "Input 3    0\n",
       "Input 4    0\n",
       "Input 5    0\n",
       "Output     0\n",
       "dtype: int64"
      ]
     },
     "execution_count": 347,
     "metadata": {},
     "output_type": "execute_result"
    }
   ],
   "source": [
    "(df51<=0).sum()"
   ]
  },
  {
   "cell_type": "markdown",
   "id": "51583aed-2597-4da8-9259-b30cd37f6db9",
   "metadata": {},
   "source": [
    "### 5 Input 1 Output - 2"
   ]
  },
  {
   "cell_type": "code",
   "execution_count": 91,
   "id": "54b8cd1e-41f4-4a47-b7cf-21484e6a1146",
   "metadata": {},
   "outputs": [],
   "source": [
    "m = n_input = 5"
   ]
  },
  {
   "cell_type": "code",
   "execution_count": 92,
   "id": "5059123d-3c4f-4a31-9090-5466c71d2b64",
   "metadata": {},
   "outputs": [
    {
     "data": {
      "text/plain": [
       "array([4.75, 7.48, 1.  , 3.72, 2.32])"
      ]
     },
     "execution_count": 92,
     "metadata": {},
     "output_type": "execute_result"
    }
   ],
   "source": [
    "np.random.seed(1)\n",
    "x_min = np.random.uniform(1,10, m)\n",
    "x_min"
   ]
  },
  {
   "cell_type": "code",
   "execution_count": 93,
   "id": "8d1acf12-72ff-499c-89ac-93476439ed07",
   "metadata": {},
   "outputs": [
    {
     "data": {
      "text/plain": [
       "array([436.56,  26.9 , 550.11, 435.89, 420.95])"
      ]
     },
     "execution_count": 93,
     "metadata": {},
     "output_type": "execute_result"
    }
   ],
   "source": [
    "np.random.seed(2)\n",
    "delta_x = np.random.uniform(1,1000, m)\n",
    "delta_x"
   ]
  },
  {
   "cell_type": "code",
   "execution_count": 94,
   "id": "304b0e3c-3988-4edb-9a4b-777f56f33e20",
   "metadata": {},
   "outputs": [
    {
     "data": {
      "text/plain": [
       "array([441.31,  34.38, 551.11, 439.61, 423.27])"
      ]
     },
     "execution_count": 94,
     "metadata": {},
     "output_type": "execute_result"
    }
   ],
   "source": [
    "x_max = x_min + delta_x\n",
    "x_max"
   ]
  },
  {
   "cell_type": "code",
   "execution_count": 95,
   "id": "bb4eea60-d162-46dc-a908-b527567db461",
   "metadata": {},
   "outputs": [
    {
     "data": {
      "text/plain": [
       "array([223.03,  20.93, 276.06, 221.66, 212.79])"
      ]
     },
     "execution_count": 95,
     "metadata": {},
     "output_type": "execute_result"
    }
   ],
   "source": [
    "mean_q = (x_min + x_max)  * 0.5\n",
    "mean_q"
   ]
  },
  {
   "cell_type": "code",
   "execution_count": 96,
   "id": "aaaca979-f95e-4fd4-ba64-3489b5c9951e",
   "metadata": {},
   "outputs": [
    {
     "data": {
      "text/plain": [
       "array([72.76,  4.48, 91.69, 72.65, 70.16])"
      ]
     },
     "execution_count": 96,
     "metadata": {},
     "output_type": "execute_result"
    }
   ],
   "source": [
    "std_max = (x_max - x_min) * 0.5 * (1/3)\n",
    "std_max"
   ]
  },
  {
   "cell_type": "code",
   "execution_count": 99,
   "id": "e8e78df9-97ce-43ea-b2ff-c40fb552fa87",
   "metadata": {},
   "outputs": [],
   "source": [
    "np.random.seed(21)\n",
    "std_list = []\n",
    "\n",
    "for i in std_max:\n",
    "    std_list.append(np.random.uniform(0,i))"
   ]
  },
  {
   "cell_type": "code",
   "execution_count": 100,
   "id": "bb2ba750-4a4b-45c5-b1c3-dce9c6d0e869",
   "metadata": {},
   "outputs": [
    {
     "data": {
      "text/plain": [
       "[3.5452134535708533,\n",
       " 1.2961896998533344,\n",
       " 66.10213781076324,\n",
       " 1.5703739741881655,\n",
       " 14.44710995004724]"
      ]
     },
     "execution_count": 100,
     "metadata": {},
     "output_type": "execute_result"
    }
   ],
   "source": [
    "std_list"
   ]
  },
  {
   "cell_type": "code",
   "execution_count": 101,
   "id": "8041b412-bfbe-4701-adc2-66f1510dcc99",
   "metadata": {},
   "outputs": [],
   "source": [
    "cov_matrix_int = []\n",
    "\n",
    "for i in range(m):\n",
    "    for j in range(m):\n",
    "        \n",
    "        if j>i:\n",
    "            min_ = - std_list[i] *  std_list[j]\n",
    "            max_ = std_list[i] *  std_list[j]\n",
    "            \n",
    "            cov_matrix_int.append((i, j, min_, max_)) "
   ]
  },
  {
   "cell_type": "code",
   "execution_count": 102,
   "id": "41ca73c5-6bc6-4e27-bfe7-86183cd6e757",
   "metadata": {},
   "outputs": [
    {
     "data": {
      "text/plain": [
       "[(0, 1, -4.595269162300007, 4.595269162300007),\n",
       " (0, 2, -234.34618827651244, 234.34618827651244),\n",
       " (0, 3, -5.5673109404294125, 5.5673109404294125),\n",
       " (0, 4, -51.21808856012481, 51.21808856012481),\n",
       " (1, 2, -85.68091016859695, 85.68091016859695),\n",
       " (1, 3, -2.035502570260446, 2.035502570260446),\n",
       " (1, 4, -18.726195109899855, 18.726195109899855),\n",
       " (2, 3, -103.80507685622207, 103.80507685622207),\n",
       " (2, 4, -954.9848528852715, 954.9848528852715),\n",
       " (3, 4, -22.687365467789075, 22.687365467789075)]"
      ]
     },
     "execution_count": 102,
     "metadata": {},
     "output_type": "execute_result"
    }
   ],
   "source": [
    "cov_matrix_int"
   ]
  },
  {
   "cell_type": "code",
   "execution_count": 103,
   "id": "a7a494d4-fd4d-4152-9124-158088250849",
   "metadata": {},
   "outputs": [
    {
     "data": {
      "text/plain": [
       "10"
      ]
     },
     "execution_count": 103,
     "metadata": {},
     "output_type": "execute_result"
    }
   ],
   "source": [
    "len(cov_matrix_int)"
   ]
  },
  {
   "cell_type": "code",
   "execution_count": 104,
   "id": "ba822658-b08b-47ed-b18b-1e49bb58ad6f",
   "metadata": {},
   "outputs": [
    {
     "data": {
      "text/plain": [
       "[-2.5550324156002686,\n",
       " 173.7594056472582,\n",
       " -3.265571310194381,\n",
       " 42.88090110999744,\n",
       " -1.985879783662142,\n",
       " 0.4549098402983325,\n",
       " 9.958884803411276,\n",
       " 3.823761293375682,\n",
       " -388.10488621718525,\n",
       " -14.169565226388642]"
      ]
     },
     "execution_count": 104,
     "metadata": {},
     "output_type": "execute_result"
    }
   ],
   "source": [
    "cov_list = []\n",
    "np.random.seed(5)\n",
    "\n",
    "for i, el in enumerate(cov_matrix_int):\n",
    "    n = np.random.uniform(el[2],el[3])\n",
    "#    print(i)\n",
    "#    if i>(len(cov_matrix_int)/2)-1:\n",
    "#        if (cov_list[el[0]-1] * cov_list[el[1]-1] < 0) and  n < 0:\n",
    "#            n = n   \n",
    "#        else:\n",
    "#            n=-n\n",
    "    cov_list.append(n)\n",
    "cov_list"
   ]
  },
  {
   "cell_type": "code",
   "execution_count": 105,
   "id": "4a50360a-a9d0-4771-b85d-28cb710679d4",
   "metadata": {},
   "outputs": [
    {
     "name": "stdout",
     "output_type": "stream",
     "text": [
      "5\n"
     ]
    },
    {
     "data": {
      "text/plain": [
       "array([[0., 0., 0., 0., 0.],\n",
       "       [0., 0., 0., 0., 0.],\n",
       "       [0., 0., 0., 0., 0.],\n",
       "       [0., 0., 0., 0., 0.],\n",
       "       [0., 0., 0., 0., 0.]])"
      ]
     },
     "execution_count": 105,
     "metadata": {},
     "output_type": "execute_result"
    }
   ],
   "source": [
    "cov_matrix = np.zeros((m, m))\n",
    "print(len(cov_matrix))\n",
    "cov_matrix"
   ]
  },
  {
   "cell_type": "code",
   "execution_count": 106,
   "id": "33437aad-504a-4773-9893-33bbf470ad46",
   "metadata": {},
   "outputs": [
    {
     "name": "stdout",
     "output_type": "stream",
     "text": [
      "[[  12.57   -2.56  173.76   -3.27   42.88]\n",
      " [  -2.56    1.68   -1.99    0.45    9.96]\n",
      " [ 173.76   -1.99 4369.49    3.82 -388.1 ]\n",
      " [  -3.27    0.45    3.82    2.47  -14.17]\n",
      " [  42.88    9.96 -388.1   -14.17  208.72]]\n"
     ]
    }
   ],
   "source": [
    "k=0\n",
    "l=0\n",
    "for i in range(len(cov_matrix)):\n",
    "    for j in range(len(cov_matrix)):\n",
    "        if j>i:\n",
    "            cov_matrix[i][j] = cov_matrix[j][i] = cov_list[k]\n",
    "            k += 1\n",
    "        if i == j:\n",
    "            cov_matrix[i][j] = np.square(std_list[l]) \n",
    "            l += 1 \n",
    "np.set_printoptions(suppress=True)\n",
    "print(cov_matrix)"
   ]
  },
  {
   "cell_type": "code",
   "execution_count": 108,
   "id": "79beea9a-9bd5-48e1-8fe9-b5a9f7281d7c",
   "metadata": {},
   "outputs": [
    {
     "data": {
      "image/png": "[encoded data removed]",
      "text/plain": [
       "<Figure size 800x600 with 2 Axes>"
      ]
     },
     "metadata": {},
     "output_type": "display_data"
    }
   ],
   "source": [
    "plt.figure(figsize = (8,6))\n",
    "sns.heatmap(cov_matrix, annot=True, fmt='.2f', cmap='YlGnBu');"
   ]
  },
  {
   "cell_type": "code",
   "execution_count": 109,
   "id": "cf929080-70fa-4b2d-88da-5d31c9beef92",
   "metadata": {},
   "outputs": [
    {
     "name": "stderr",
     "output_type": "stream",
     "text": [
      "/var/folders/6l/c4m0953s1_jgnd_y35l2l7kc0000gp/T/ipykernel_11436/1252492691.py:2: RuntimeWarning:\n",
      "\n",
      "covariance is not positive-semidefinite.\n",
      "\n"
     ]
    },
    {
     "data": {
      "text/html": [
       "<div><div id=37dde9da-3112-4826-b435-59443e082060 style=\"display:none; background-color:#9D6CFF; color:white; width:200px; height:30px; padding-left:5px; border-radius:4px; flex-direction:row; justify-content:space-around; align-items:center;\" onmouseover=\"this.style.backgroundColor='#BA9BF8'\" onmouseout=\"this.style.backgroundColor='#9D6CFF'\" onclick=\"window.commands?.execute('create-mitosheet-from-dataframe-output');\">See Full Dataframe in Mito</div> <script> if (window.commands.hasCommand('create-mitosheet-from-dataframe-output')) document.getElementById('37dde9da-3112-4826-b435-59443e082060').style.display = 'flex' </script> <table border=\"1\" class=\"dataframe\">\n",
       "  <thead>\n",
       "    <tr style=\"text-align: right;\">\n",
       "      <th></th>\n",
       "      <th>Input 1</th>\n",
       "      <th>Input 2</th>\n",
       "      <th>Input 3</th>\n",
       "      <th>Input 4</th>\n",
       "      <th>Input 5</th>\n",
       "    </tr>\n",
       "  </thead>\n",
       "  <tbody>\n",
       "    <tr>\n",
       "      <th>DMU 0001</th>\n",
       "      <td>217.56</td>\n",
       "      <td>17.09</td>\n",
       "      <td>160.06</td>\n",
       "      <td>217.98</td>\n",
       "      <td>229.55</td>\n",
       "    </tr>\n",
       "    <tr>\n",
       "      <th>DMU 0002</th>\n",
       "      <td>229.84</td>\n",
       "      <td>21.98</td>\n",
       "      <td>341.62</td>\n",
       "      <td>220.38</td>\n",
       "      <td>219.18</td>\n",
       "    </tr>\n",
       "    <tr>\n",
       "      <th>DMU 0003</th>\n",
       "      <td>226.09</td>\n",
       "      <td>20.87</td>\n",
       "      <td>268.24</td>\n",
       "      <td>219.84</td>\n",
       "      <td>233.63</td>\n",
       "    </tr>\n",
       "    <tr>\n",
       "      <th>DMU 0004</th>\n",
       "      <td>229.42</td>\n",
       "      <td>21.30</td>\n",
       "      <td>255.51</td>\n",
       "      <td>220.69</td>\n",
       "      <td>234.23</td>\n",
       "    </tr>\n",
       "    <tr>\n",
       "      <th>DMU 0005</th>\n",
       "      <td>228.47</td>\n",
       "      <td>22.19</td>\n",
       "      <td>445.72</td>\n",
       "      <td>219.65</td>\n",
       "      <td>206.89</td>\n",
       "    </tr>\n",
       "    <tr>\n",
       "      <th>...</th>\n",
       "      <td>...</td>\n",
       "      <td>...</td>\n",
       "      <td>...</td>\n",
       "      <td>...</td>\n",
       "      <td>...</td>\n",
       "    </tr>\n",
       "    <tr>\n",
       "      <th>DMU 0996</th>\n",
       "      <td>210.29</td>\n",
       "      <td>20.80</td>\n",
       "      <td>161.08</td>\n",
       "      <td>224.62</td>\n",
       "      <td>199.55</td>\n",
       "    </tr>\n",
       "    <tr>\n",
       "      <th>DMU 0997</th>\n",
       "      <td>216.77</td>\n",
       "      <td>19.46</td>\n",
       "      <td>363.59</td>\n",
       "      <td>222.25</td>\n",
       "      <td>198.45</td>\n",
       "    </tr>\n",
       "    <tr>\n",
       "      <th>DMU 0998</th>\n",
       "      <td>238.38</td>\n",
       "      <td>21.33</td>\n",
       "      <td>407.61</td>\n",
       "      <td>217.43</td>\n",
       "      <td>232.88</td>\n",
       "    </tr>\n",
       "    <tr>\n",
       "      <th>DMU 0999</th>\n",
       "      <td>227.18</td>\n",
       "      <td>22.06</td>\n",
       "      <td>314.35</td>\n",
       "      <td>223.21</td>\n",
       "      <td>214.72</td>\n",
       "    </tr>\n",
       "    <tr>\n",
       "      <th>DMU 1000</th>\n",
       "      <td>223.27</td>\n",
       "      <td>20.03</td>\n",
       "      <td>283.76</td>\n",
       "      <td>220.59</td>\n",
       "      <td>223.01</td>\n",
       "    </tr>\n",
       "  </tbody>\n",
       "</table></div>"
      ],
      "text/plain": [
       "          Input 1  Input 2  Input 3  Input 4  Input 5\n",
       "DMU 0001   217.56    17.09   160.06   217.98   229.55\n",
       "DMU 0002   229.84    21.98   341.62   220.38   219.18\n",
       "DMU 0003   226.09    20.87   268.24   219.84   233.63\n",
       "DMU 0004   229.42    21.30   255.51   220.69   234.23\n",
       "DMU 0005   228.47    22.19   445.72   219.65   206.89\n",
       "...           ...      ...      ...      ...      ...\n",
       "DMU 0996   210.29    20.80   161.08   224.62   199.55\n",
       "DMU 0997   216.77    19.46   363.59   222.25   198.45\n",
       "DMU 0998   238.38    21.33   407.61   217.43   232.88\n",
       "DMU 0999   227.18    22.06   314.35   223.21   214.72\n",
       "DMU 1000   223.27    20.03   283.76   220.59   223.01\n",
       "\n",
       "[1000 rows x 5 columns]"
      ]
     },
     "execution_count": 109,
     "metadata": {},
     "output_type": "execute_result"
    }
   ],
   "source": [
    "np.random.seed(0)\n",
    "df51 = pd.DataFrame(np.random.multivariate_normal(mean_q, cov_matrix, 1000))\n",
    "df51.columns = [\"Input \" + str(i + 1) for i in range(m)]\n",
    "df51.index = [\"DMU \" + str(i + 1).zfill(4) for i in range(len(df51))]\n",
    "df51 = df51.round(2)\n",
    "df51"
   ]
  },
  {
   "cell_type": "code",
   "execution_count": 110,
   "id": "1e5aaadc-d337-4c1f-8406-f4dbe11646fc",
   "metadata": {},
   "outputs": [
    {
     "data": {
      "text/html": [
       "<div><div id=edd07937-e90d-4d72-b0f5-f8d2ffa94cc7 style=\"display:none; background-color:#9D6CFF; color:white; width:200px; height:30px; padding-left:5px; border-radius:4px; flex-direction:row; justify-content:space-around; align-items:center;\" onmouseover=\"this.style.backgroundColor='#BA9BF8'\" onmouseout=\"this.style.backgroundColor='#9D6CFF'\" onclick=\"window.commands?.execute('create-mitosheet-from-dataframe-output');\">See Full Dataframe in Mito</div> <script> if (window.commands.hasCommand('create-mitosheet-from-dataframe-output')) document.getElementById('edd07937-e90d-4d72-b0f5-f8d2ffa94cc7').style.display = 'flex' </script> <table border=\"1\" class=\"dataframe\">\n",
       "  <thead>\n",
       "    <tr style=\"text-align: right;\">\n",
       "      <th></th>\n",
       "      <th>Input 1</th>\n",
       "      <th>Input 2</th>\n",
       "      <th>Input 3</th>\n",
       "      <th>Input 4</th>\n",
       "      <th>Input 5</th>\n",
       "    </tr>\n",
       "  </thead>\n",
       "  <tbody>\n",
       "    <tr>\n",
       "      <th>count</th>\n",
       "      <td>1000.000000</td>\n",
       "      <td>1000.00000</td>\n",
       "      <td>1000.000000</td>\n",
       "      <td>1000.000000</td>\n",
       "      <td>1000.000000</td>\n",
       "    </tr>\n",
       "    <tr>\n",
       "      <th>mean</th>\n",
       "      <td>223.387690</td>\n",
       "      <td>21.00710</td>\n",
       "      <td>280.170070</td>\n",
       "      <td>221.647800</td>\n",
       "      <td>212.833470</td>\n",
       "    </tr>\n",
       "    <tr>\n",
       "      <th>std</th>\n",
       "      <td>5.834212</td>\n",
       "      <td>2.16012</td>\n",
       "      <td>65.375153</td>\n",
       "      <td>1.604246</td>\n",
       "      <td>13.882685</td>\n",
       "    </tr>\n",
       "    <tr>\n",
       "      <th>min</th>\n",
       "      <td>204.210000</td>\n",
       "      <td>15.04000</td>\n",
       "      <td>82.960000</td>\n",
       "      <td>215.990000</td>\n",
       "      <td>169.300000</td>\n",
       "    </tr>\n",
       "    <tr>\n",
       "      <th>25%</th>\n",
       "      <td>219.435000</td>\n",
       "      <td>19.50500</td>\n",
       "      <td>234.965000</td>\n",
       "      <td>220.617500</td>\n",
       "      <td>203.587500</td>\n",
       "    </tr>\n",
       "    <tr>\n",
       "      <th>50%</th>\n",
       "      <td>223.250000</td>\n",
       "      <td>20.98500</td>\n",
       "      <td>280.640000</td>\n",
       "      <td>221.740000</td>\n",
       "      <td>212.855000</td>\n",
       "    </tr>\n",
       "    <tr>\n",
       "      <th>75%</th>\n",
       "      <td>227.450000</td>\n",
       "      <td>22.56000</td>\n",
       "      <td>327.200000</td>\n",
       "      <td>222.720000</td>\n",
       "      <td>222.497500</td>\n",
       "    </tr>\n",
       "    <tr>\n",
       "      <th>max</th>\n",
       "      <td>243.970000</td>\n",
       "      <td>28.25000</td>\n",
       "      <td>465.270000</td>\n",
       "      <td>226.790000</td>\n",
       "      <td>251.480000</td>\n",
       "    </tr>\n",
       "  </tbody>\n",
       "</table></div>"
      ],
      "text/plain": [
       "           Input 1     Input 2      Input 3      Input 4      Input 5\n",
       "count  1000.000000  1000.00000  1000.000000  1000.000000  1000.000000\n",
       "mean    223.387690    21.00710   280.170070   221.647800   212.833470\n",
       "std       5.834212     2.16012    65.375153     1.604246    13.882685\n",
       "min     204.210000    15.04000    82.960000   215.990000   169.300000\n",
       "25%     219.435000    19.50500   234.965000   220.617500   203.587500\n",
       "50%     223.250000    20.98500   280.640000   221.740000   212.855000\n",
       "75%     227.450000    22.56000   327.200000   222.720000   222.497500\n",
       "max     243.970000    28.25000   465.270000   226.790000   251.480000"
      ]
     },
     "execution_count": 110,
     "metadata": {},
     "output_type": "execute_result"
    }
   ],
   "source": [
    "df51.describe()"
   ]
  },
  {
   "cell_type": "code",
   "execution_count": 112,
   "id": "7ba991b1-8d1b-488c-bb44-08e1d0d85f2a",
   "metadata": {},
   "outputs": [
    {
     "name": "stdout",
     "output_type": "stream",
     "text": [
      "[0.6182946964185052, 1.286667164025344, 1.7142077840697405, 1.7342739034034111, 2.43996375407196]\n"
     ]
    }
   ],
   "source": [
    "random.seed(10)  # Set the random seed for reproducibility\n",
    "\n",
    "numbers = sorted([random.uniform(0, 3) for _ in range(5)])\n",
    "print(numbers)"
   ]
  },
  {
   "cell_type": "code",
   "execution_count": 113,
   "id": "9eabb176-c76e-4fb3-8f5b-d87c5094b151",
   "metadata": {},
   "outputs": [
    {
     "data": {
      "text/plain": [
       "75.62428825178479"
      ]
     },
     "execution_count": 113,
     "metadata": {},
     "output_type": "execute_result"
    }
   ],
   "source": [
    "\n",
    "noise_std"
   ]
  },
  {
   "cell_type": "code",
   "execution_count": 114,
   "id": "5dbbe807-e0bd-4b6d-87cd-c37940598b2d",
   "metadata": {},
   "outputs": [],
   "source": [
    "df511 = df51 * np.array(numbers)"
   ]
  },
  {
   "cell_type": "code",
   "execution_count": 115,
   "id": "8245a92c-bddf-44b9-9e53-e9ddbea51dba",
   "metadata": {},
   "outputs": [],
   "source": [
    "# Add noise to each column\n",
    "noise_std = df51.std().mean()\n",
    "df512 = df511 + np.random.normal(0, noise_std, size=df51.shape)"
   ]
  },
  {
   "cell_type": "code",
   "execution_count": 116,
   "id": "72f36ef8-d174-4284-afe8-fa06e1ebf8dd",
   "metadata": {},
   "outputs": [],
   "source": [
    "df51[\"Output\"] = df512.sum(axis=1)"
   ]
  },
  {
   "cell_type": "code",
   "execution_count": 117,
   "id": "e9d77d2e-b92a-4b67-ba99-5d402f793c74",
   "metadata": {},
   "outputs": [
    {
     "data": {
      "text/html": [
       "<div><div id=e67775eb-2b0a-4264-ba65-ddb830b4d2fc style=\"display:none; background-color:#9D6CFF; color:white; width:200px; height:30px; padding-left:5px; border-radius:4px; flex-direction:row; justify-content:space-around; align-items:center;\" onmouseover=\"this.style.backgroundColor='#BA9BF8'\" onmouseout=\"this.style.backgroundColor='#9D6CFF'\" onclick=\"window.commands?.execute('create-mitosheet-from-dataframe-output');\">See Full Dataframe in Mito</div> <script> if (window.commands.hasCommand('create-mitosheet-from-dataframe-output')) document.getElementById('e67775eb-2b0a-4264-ba65-ddb830b4d2fc').style.display = 'flex' </script> <table border=\"1\" class=\"dataframe\">\n",
       "  <thead>\n",
       "    <tr style=\"text-align: right;\">\n",
       "      <th></th>\n",
       "      <th>Input 1</th>\n",
       "      <th>Input 2</th>\n",
       "      <th>Input 3</th>\n",
       "      <th>Input 4</th>\n",
       "      <th>Input 5</th>\n",
       "      <th>Output</th>\n",
       "    </tr>\n",
       "  </thead>\n",
       "  <tbody>\n",
       "    <tr>\n",
       "      <th>DMU 0001</th>\n",
       "      <td>217.56</td>\n",
       "      <td>17.09</td>\n",
       "      <td>160.06</td>\n",
       "      <td>217.98</td>\n",
       "      <td>229.55</td>\n",
       "      <td>1295.680392</td>\n",
       "    </tr>\n",
       "    <tr>\n",
       "      <th>DMU 0002</th>\n",
       "      <td>229.84</td>\n",
       "      <td>21.98</td>\n",
       "      <td>341.62</td>\n",
       "      <td>220.38</td>\n",
       "      <td>219.18</td>\n",
       "      <td>1745.196275</td>\n",
       "    </tr>\n",
       "    <tr>\n",
       "      <th>DMU 0003</th>\n",
       "      <td>226.09</td>\n",
       "      <td>20.87</td>\n",
       "      <td>268.24</td>\n",
       "      <td>219.84</td>\n",
       "      <td>233.63</td>\n",
       "      <td>1531.557748</td>\n",
       "    </tr>\n",
       "    <tr>\n",
       "      <th>DMU 0004</th>\n",
       "      <td>229.42</td>\n",
       "      <td>21.30</td>\n",
       "      <td>255.51</td>\n",
       "      <td>220.69</td>\n",
       "      <td>234.23</td>\n",
       "      <td>1563.294976</td>\n",
       "    </tr>\n",
       "    <tr>\n",
       "      <th>DMU 0005</th>\n",
       "      <td>228.47</td>\n",
       "      <td>22.19</td>\n",
       "      <td>445.72</td>\n",
       "      <td>219.65</td>\n",
       "      <td>206.89</td>\n",
       "      <td>1751.695613</td>\n",
       "    </tr>\n",
       "    <tr>\n",
       "      <th>...</th>\n",
       "      <td>...</td>\n",
       "      <td>...</td>\n",
       "      <td>...</td>\n",
       "      <td>...</td>\n",
       "      <td>...</td>\n",
       "      <td>...</td>\n",
       "    </tr>\n",
       "    <tr>\n",
       "      <th>DMU 0996</th>\n",
       "      <td>210.29</td>\n",
       "      <td>20.80</td>\n",
       "      <td>161.08</td>\n",
       "      <td>224.62</td>\n",
       "      <td>199.55</td>\n",
       "      <td>1332.687803</td>\n",
       "    </tr>\n",
       "    <tr>\n",
       "      <th>DMU 0997</th>\n",
       "      <td>216.77</td>\n",
       "      <td>19.46</td>\n",
       "      <td>363.59</td>\n",
       "      <td>222.25</td>\n",
       "      <td>198.45</td>\n",
       "      <td>1636.510721</td>\n",
       "    </tr>\n",
       "    <tr>\n",
       "      <th>DMU 0998</th>\n",
       "      <td>238.38</td>\n",
       "      <td>21.33</td>\n",
       "      <td>407.61</td>\n",
       "      <td>217.43</td>\n",
       "      <td>232.88</td>\n",
       "      <td>1812.002726</td>\n",
       "    </tr>\n",
       "    <tr>\n",
       "      <th>DMU 0999</th>\n",
       "      <td>227.18</td>\n",
       "      <td>22.06</td>\n",
       "      <td>314.35</td>\n",
       "      <td>223.21</td>\n",
       "      <td>214.72</td>\n",
       "      <td>1661.317781</td>\n",
       "    </tr>\n",
       "    <tr>\n",
       "      <th>DMU 1000</th>\n",
       "      <td>223.27</td>\n",
       "      <td>20.03</td>\n",
       "      <td>283.76</td>\n",
       "      <td>220.59</td>\n",
       "      <td>223.01</td>\n",
       "      <td>1577.211056</td>\n",
       "    </tr>\n",
       "  </tbody>\n",
       "</table></div>"
      ],
      "text/plain": [
       "          Input 1  Input 2  Input 3  Input 4  Input 5       Output\n",
       "DMU 0001   217.56    17.09   160.06   217.98   229.55  1295.680392\n",
       "DMU 0002   229.84    21.98   341.62   220.38   219.18  1745.196275\n",
       "DMU 0003   226.09    20.87   268.24   219.84   233.63  1531.557748\n",
       "DMU 0004   229.42    21.30   255.51   220.69   234.23  1563.294976\n",
       "DMU 0005   228.47    22.19   445.72   219.65   206.89  1751.695613\n",
       "...           ...      ...      ...      ...      ...          ...\n",
       "DMU 0996   210.29    20.80   161.08   224.62   199.55  1332.687803\n",
       "DMU 0997   216.77    19.46   363.59   222.25   198.45  1636.510721\n",
       "DMU 0998   238.38    21.33   407.61   217.43   232.88  1812.002726\n",
       "DMU 0999   227.18    22.06   314.35   223.21   214.72  1661.317781\n",
       "DMU 1000   223.27    20.03   283.76   220.59   223.01  1577.211056\n",
       "\n",
       "[1000 rows x 6 columns]"
      ]
     },
     "execution_count": 117,
     "metadata": {},
     "output_type": "execute_result"
    }
   ],
   "source": [
    "df51"
   ]
  },
  {
   "cell_type": "code",
   "execution_count": 118,
   "id": "138fff07-81dc-4f78-87c8-9b2494cf2e0c",
   "metadata": {},
   "outputs": [
    {
     "data": {
      "text/html": [
       "<div><div id=a808eb0d-fb08-41db-b15a-64719ef84534 style=\"display:none; background-color:#9D6CFF; color:white; width:200px; height:30px; padding-left:5px; border-radius:4px; flex-direction:row; justify-content:space-around; align-items:center;\" onmouseover=\"this.style.backgroundColor='#BA9BF8'\" onmouseout=\"this.style.backgroundColor='#9D6CFF'\" onclick=\"window.commands?.execute('create-mitosheet-from-dataframe-output');\">See Full Dataframe in Mito</div> <script> if (window.commands.hasCommand('create-mitosheet-from-dataframe-output')) document.getElementById('a808eb0d-fb08-41db-b15a-64719ef84534').style.display = 'flex' </script> <table border=\"1\" class=\"dataframe\">\n",
       "  <thead>\n",
       "    <tr style=\"text-align: right;\">\n",
       "      <th></th>\n",
       "      <th>Input 1</th>\n",
       "      <th>Input 2</th>\n",
       "      <th>Input 3</th>\n",
       "      <th>Input 4</th>\n",
       "      <th>Input 5</th>\n",
       "      <th>Output</th>\n",
       "    </tr>\n",
       "  </thead>\n",
       "  <tbody>\n",
       "    <tr>\n",
       "      <th>count</th>\n",
       "      <td>1000.000000</td>\n",
       "      <td>1000.00000</td>\n",
       "      <td>1000.000000</td>\n",
       "      <td>1000.000000</td>\n",
       "      <td>1000.000000</td>\n",
       "      <td>1000.000000</td>\n",
       "    </tr>\n",
       "    <tr>\n",
       "      <th>mean</th>\n",
       "      <td>223.387690</td>\n",
       "      <td>21.00710</td>\n",
       "      <td>280.170070</td>\n",
       "      <td>221.647800</td>\n",
       "      <td>212.833470</td>\n",
       "      <td>1547.154827</td>\n",
       "    </tr>\n",
       "    <tr>\n",
       "      <th>std</th>\n",
       "      <td>5.834212</td>\n",
       "      <td>2.16012</td>\n",
       "      <td>65.375153</td>\n",
       "      <td>1.604246</td>\n",
       "      <td>13.882685</td>\n",
       "      <td>109.789565</td>\n",
       "    </tr>\n",
       "    <tr>\n",
       "      <th>min</th>\n",
       "      <td>204.210000</td>\n",
       "      <td>15.04000</td>\n",
       "      <td>82.960000</td>\n",
       "      <td>215.990000</td>\n",
       "      <td>169.300000</td>\n",
       "      <td>1207.382179</td>\n",
       "    </tr>\n",
       "    <tr>\n",
       "      <th>25%</th>\n",
       "      <td>219.435000</td>\n",
       "      <td>19.50500</td>\n",
       "      <td>234.965000</td>\n",
       "      <td>220.617500</td>\n",
       "      <td>203.587500</td>\n",
       "      <td>1470.006500</td>\n",
       "    </tr>\n",
       "    <tr>\n",
       "      <th>50%</th>\n",
       "      <td>223.250000</td>\n",
       "      <td>20.98500</td>\n",
       "      <td>280.640000</td>\n",
       "      <td>221.740000</td>\n",
       "      <td>212.855000</td>\n",
       "      <td>1547.706355</td>\n",
       "    </tr>\n",
       "    <tr>\n",
       "      <th>75%</th>\n",
       "      <td>227.450000</td>\n",
       "      <td>22.56000</td>\n",
       "      <td>327.200000</td>\n",
       "      <td>222.720000</td>\n",
       "      <td>222.497500</td>\n",
       "      <td>1622.732352</td>\n",
       "    </tr>\n",
       "    <tr>\n",
       "      <th>max</th>\n",
       "      <td>243.970000</td>\n",
       "      <td>28.25000</td>\n",
       "      <td>465.270000</td>\n",
       "      <td>226.790000</td>\n",
       "      <td>251.480000</td>\n",
       "      <td>1892.593325</td>\n",
       "    </tr>\n",
       "  </tbody>\n",
       "</table></div>"
      ],
      "text/plain": [
       "           Input 1     Input 2      Input 3      Input 4      Input 5  \\\n",
       "count  1000.000000  1000.00000  1000.000000  1000.000000  1000.000000   \n",
       "mean    223.387690    21.00710   280.170070   221.647800   212.833470   \n",
       "std       5.834212     2.16012    65.375153     1.604246    13.882685   \n",
       "min     204.210000    15.04000    82.960000   215.990000   169.300000   \n",
       "25%     219.435000    19.50500   234.965000   220.617500   203.587500   \n",
       "50%     223.250000    20.98500   280.640000   221.740000   212.855000   \n",
       "75%     227.450000    22.56000   327.200000   222.720000   222.497500   \n",
       "max     243.970000    28.25000   465.270000   226.790000   251.480000   \n",
       "\n",
       "            Output  \n",
       "count  1000.000000  \n",
       "mean   1547.154827  \n",
       "std     109.789565  \n",
       "min    1207.382179  \n",
       "25%    1470.006500  \n",
       "50%    1547.706355  \n",
       "75%    1622.732352  \n",
       "max    1892.593325  "
      ]
     },
     "execution_count": 118,
     "metadata": {},
     "output_type": "execute_result"
    }
   ],
   "source": [
    "df51.describe()"
   ]
  },
  {
   "cell_type": "code",
   "execution_count": 119,
   "id": "918009d5-a2d0-466a-ac1a-76136a4afe66",
   "metadata": {},
   "outputs": [],
   "source": [
    "df51.to_excel(\"Data/RealData/Simulation/df52.xlsx\")"
   ]
  },
  {
   "cell_type": "code",
   "execution_count": 120,
   "id": "bfbc3a3b-6a5d-4418-9fe4-3fb501276dc2",
   "metadata": {},
   "outputs": [
    {
     "data": {
      "text/plain": [
       "Input 1    0\n",
       "Input 2    0\n",
       "Input 3    0\n",
       "Input 4    0\n",
       "Input 5    0\n",
       "Output     0\n",
       "dtype: int64"
      ]
     },
     "execution_count": 120,
     "metadata": {},
     "output_type": "execute_result"
    }
   ],
   "source": [
    "(df51<=0).sum()"
   ]
  },
  {
   "cell_type": "code",
   "execution_count": null,
   "id": "37fb2c65-41ba-49ce-abc9-707155a122f0",
   "metadata": {},
   "outputs": [],
   "source": []
  },
  {
   "cell_type": "markdown",
   "id": "c26f8691-2382-4512-9703-af7d0f9b8e5a",
   "metadata": {
    "jp-MarkdownHeadingCollapsed": true,
    "tags": []
   },
   "source": [
    "### 10 Input 1 Output - 1"
   ]
  },
  {
   "cell_type": "code",
   "execution_count": 146,
   "id": "b0dccfbc-8999-4f87-b962-7c1f61379d7c",
   "metadata": {},
   "outputs": [],
   "source": [
    "m = n_input = 10"
   ]
  },
  {
   "cell_type": "code",
   "execution_count": 243,
   "id": "c1a6b2ca-5e97-4dc6-8e9c-edb9f0092c91",
   "metadata": {},
   "outputs": [
    {
     "data": {
      "text/plain": [
       "array([ 9.64,  7.3 , 10.  ,  2.98,  4.25,  7.66,  9.97,  3.85,  2.23,  4.46])"
      ]
     },
     "execution_count": 243,
     "metadata": {},
     "output_type": "execute_result"
    }
   ],
   "source": [
    "np.random.seed(24)\n",
    "x_min = np.random.uniform(1,10, m)\n",
    "x_min"
   ]
  },
  {
   "cell_type": "code",
   "execution_count": 244,
   "id": "b81e1b68-f210-4658-a0ac-1f87b3f7611d",
   "metadata": {},
   "outputs": [
    {
     "data": {
      "text/plain": [
       "array([249.26, 450.53, 411.53, 261.04, 870.53, 185.85,  20.64, 953.3 , 680.77, 487.1 ])"
      ]
     },
     "execution_count": 244,
     "metadata": {},
     "output_type": "execute_result"
    }
   ],
   "source": [
    "np.random.seed(33)\n",
    "delta_x = np.random.uniform(1,1000, m)\n",
    "delta_x"
   ]
  },
  {
   "cell_type": "code",
   "execution_count": 245,
   "id": "8246a5c0-0405-4554-97b5-1f6b3bd35eb9",
   "metadata": {},
   "outputs": [
    {
     "data": {
      "text/plain": [
       "array([258.9 , 457.82, 421.53, 264.02, 874.77, 193.51,  30.61, 957.15, 683.  , 491.56])"
      ]
     },
     "execution_count": 245,
     "metadata": {},
     "output_type": "execute_result"
    }
   ],
   "source": [
    "x_max = x_min + delta_x\n",
    "x_max"
   ]
  },
  {
   "cell_type": "code",
   "execution_count": 246,
   "id": "0ad1e1f2-df1b-4728-b04c-79f49c32317b",
   "metadata": {},
   "outputs": [
    {
     "data": {
      "text/plain": [
       "array([134.27, 232.56, 215.76, 133.5 , 439.51, 100.59,  20.29, 480.5 , 342.61, 248.01])"
      ]
     },
     "execution_count": 246,
     "metadata": {},
     "output_type": "execute_result"
    }
   ],
   "source": [
    "mean_q = (x_min + x_max)  * 0.5\n",
    "mean_q"
   ]
  },
  {
   "cell_type": "code",
   "execution_count": 247,
   "id": "eb80a019-1927-40ed-b283-d87fc20cf1df",
   "metadata": {},
   "outputs": [
    {
     "data": {
      "text/plain": [
       "array([ 37.43,  67.65,  61.79,  39.2 , 130.71,  27.91,   3.1 , 143.14, 102.22,  73.14])"
      ]
     },
     "execution_count": 247,
     "metadata": {},
     "output_type": "execute_result"
    }
   ],
   "source": [
    "std_max = (x_max - x_min) * 0.5 * (1/3.33)\n",
    "std_max"
   ]
  },
  {
   "cell_type": "code",
   "execution_count": 248,
   "id": "1e5d3957-a41d-4d9b-b9d1-3c4464a13f2c",
   "metadata": {},
   "outputs": [],
   "source": [
    "np.random.seed(7)\n",
    "std_list = []\n",
    "\n",
    "for i in std_max:\n",
    "    std_list.append(np.random.uniform(0,i))"
   ]
  },
  {
   "cell_type": "code",
   "execution_count": 249,
   "id": "c14cccd6-ceb3-43df-be84-efdeae8a19fb",
   "metadata": {},
   "outputs": [
    {
     "data": {
      "text/plain": [
       "[2.8559651086387907,\n",
       " 52.7587479623108,\n",
       " 27.089863453340623,\n",
       " 28.356292728604227,\n",
       " 127.8325234456286,\n",
       " 15.027340731457352,\n",
       " 1.553154707019695,\n",
       " 10.313251875593092,\n",
       " 27.4392341578931,\n",
       " 36.560590868371676]"
      ]
     },
     "execution_count": 249,
     "metadata": {},
     "output_type": "execute_result"
    }
   ],
   "source": [
    "std_list"
   ]
  },
  {
   "cell_type": "code",
   "execution_count": 250,
   "id": "3f04beec-f70e-4b2e-aa41-592405ff249e",
   "metadata": {},
   "outputs": [],
   "source": [
    "cov_matrix_int = []\n",
    "\n",
    "for i in range(m):\n",
    "    for j in range(m):\n",
    "        \n",
    "        if j>i:\n",
    "            min_ = - std_list[i] *  std_list[j]\n",
    "            max_ = std_list[i] *  std_list[j]\n",
    "            \n",
    "            cov_matrix_int.append((i, j, min_, max_)) "
   ]
  },
  {
   "cell_type": "code",
   "execution_count": 251,
   "id": "3a8a7476-1332-41bf-9ea5-8ecc5dd57b7b",
   "metadata": {},
   "outputs": [
    {
     "data": {
      "text/plain": [
       "[(0, 1, -150.67714335582755, 150.67714335582755),\n",
       " (0, 2, -77.36770482052997, 77.36770482052997),\n",
       " (0, 3, -80.98458264324152, 80.98458264324152),\n",
       " (0, 4, -365.0852267099654, 365.0852267099654),\n",
       " (0, 5, -42.917560804668724, 42.917560804668724),\n",
       " (0, 6, -4.435755651566352, 4.435755651566352),\n",
       " (0, 7, -29.454287513297437, 29.454287513297437),\n",
       " (0, 8, -78.36549536271238, 78.36549536271238),\n",
       " (0, 9, -104.41577187128749, 104.41577187128749),\n",
       " (1, 2, -1429.2272782682123, 1429.2272782682123),\n",
       " (1, 3, -1496.042501213937, 1496.042501213937),\n",
       " (1, 4, -6744.283885854105, 6744.283885854105),\n",
       " (1, 5, -792.8236821947256, 792.8236821947256),\n",
       " (1, 6, -81.94249773412875, 81.94249773412875),\n",
       " (1, 7, -544.1142563762451, 544.1142563762451),\n",
       " (1, 8, -1447.6596392151114, 1447.6596392151114),\n",
       " (1, 9, -1928.890998977583, 1928.890998977583),\n",
       " (2, 3, -768.1680980608442, 768.1680980608442),\n",
       " (2, 4, -3462.965605038042, 3462.965605038042),\n",
       " (2, 5, -407.08860848200345, 407.08860848200345),\n",
       " (2, 6, -42.0747489350768, 42.0747489350768),\n",
       " (2, 7, -279.384585069726, 279.384585069726),\n",
       " (2, 8, -743.325106601564, 743.325106601564),\n",
       " (2, 9, -990.4214143976408, 990.4214143976408),\n",
       " (3, 4, -3624.8564550604074, 3624.8564550604074),\n",
       " (3, 5, -426.11967271368223, 426.11967271368223),\n",
       " (3, 6, -44.04170952506001, 44.04170952506001),\n",
       " (3, 7, -292.4455891681443, 292.4455891681443),\n",
       " (3, 8, -778.0749560299329, 778.0749560299329),\n",
       " (3, 9, -1036.7228169942819, 1036.7228169942819),\n",
       " (4, 5, -1920.9828863794714, 1920.9828863794714),\n",
       " (4, 6, -198.54368549978358, 198.54368549978358),\n",
       " (4, 7, -1318.369012187427, 1318.369012187427),\n",
       " (4, 8, -3507.6265438189625, 3507.6265438189625),\n",
       " (4, 9, -4673.632589367157, 4673.632589367157),\n",
       " (5, 6, -23.339784991051772, 23.339784991051772),\n",
       " (5, 7, -154.980749983879, 154.980749983879),\n",
       " (5, 8, -412.3387211009029, 412.3387211009029),\n",
       " (5, 9, -549.4084563224294, 549.4084563224294),\n",
       " (6, 7, -16.01807569525711, 16.01807569525711),\n",
       " (6, 8, -42.61737568934726, 42.61737568934726),\n",
       " (6, 9, -56.78425379863275, 56.78425379863275),\n",
       " (7, 8, -282.9877331437291, 282.9877331437291),\n",
       " (7, 9, -377.0585823460259, 377.0585823460259),\n",
       " (8, 9, -1003.1946137881787, 1003.1946137881787)]"
      ]
     },
     "execution_count": 251,
     "metadata": {},
     "output_type": "execute_result"
    }
   ],
   "source": [
    "cov_matrix_int"
   ]
  },
  {
   "cell_type": "code",
   "execution_count": 252,
   "id": "e71adb24-b3bd-4c55-a87f-c3cd87f5d7eb",
   "metadata": {},
   "outputs": [
    {
     "data": {
      "text/plain": [
       "45"
      ]
     },
     "execution_count": 252,
     "metadata": {},
     "output_type": "execute_result"
    }
   ],
   "source": [
    "len(cov_matrix_int)"
   ]
  },
  {
   "cell_type": "code",
   "execution_count": 253,
   "id": "56b2df6c-3005-4016-a587-a794eebdeb8b",
   "metadata": {},
   "outputs": [
    {
     "data": {
      "text/plain": [
       "[-83.7785496272207,\n",
       " 57.365415263531204,\n",
       " -47.5024536041878,\n",
       " 305.6573164555611,\n",
       " -0.9947270191034931,\n",
       " 0.9913369427965328,\n",
       " 15.664252913631692,\n",
       " 2.8866694864952507,\n",
       " -42.4344649435545,\n",
       " -892.6346768428415,\n",
       " -1254.4577618655567,\n",
       " 3216.218094785987,\n",
       " -93.06287602900068,\n",
       " -55.99788578146046,\n",
       " 413.45831040376413,\n",
       " -654.0918218522909,\n",
       " -330.8625994440886,\n",
       " -313.2897804568661,\n",
       " 891.9761975888482,\n",
       " 65.00212610862445,\n",
       " 8.40899171856055,\n",
       " -130.85305735720914,\n",
       " -320.0967814501603,\n",
       " -488.10303552357163,\n",
       " -1250.1118746112525,\n",
       " -303.2571834908174,\n",
       " -29.45396247177939,\n",
       " 271.34887381272625,\n",
       " 716.1817625194334,\n",
       " -646.0552719694311,\n",
       " -1827.5979085455267,\n",
       " -117.31726136438894,\n",
       " 526.9352562959898,\n",
       " 1960.8655593582648,\n",
       " -4459.270892970636,\n",
       " 3.6252688210781265,\n",
       " -154.4717396656075,\n",
       " 12.759914010321154,\n",
       " 153.60930383875268,\n",
       " 15.557536887163053,\n",
       " -20.53325647642933,\n",
       " 34.35411981212542,\n",
       " 209.68433791728137,\n",
       " 318.802740243368,\n",
       " -998.7520416155193]"
      ]
     },
     "execution_count": 253,
     "metadata": {},
     "output_type": "execute_result"
    }
   ],
   "source": [
    "cov_list = []\n",
    "np.random.seed(5)\n",
    "\n",
    "for i, el in enumerate(cov_matrix_int):\n",
    "    n = np.random.uniform(el[2],el[3])\n",
    "#    print(i)\n",
    "#    if i>(len(cov_matrix_int)/2)-1:\n",
    "#        if (cov_list[el[0]-1] * cov_list[el[1]-1] < 0) and  n < 0:\n",
    "#            n = n   \n",
    "#        else:\n",
    "#            n=-n\n",
    "    cov_list.append(n)\n",
    "cov_list"
   ]
  },
  {
   "cell_type": "code",
   "execution_count": 254,
   "id": "01f8133b-3dbd-4acf-a67d-61fad475c9d5",
   "metadata": {},
   "outputs": [
    {
     "name": "stdout",
     "output_type": "stream",
     "text": [
      "10\n"
     ]
    },
    {
     "data": {
      "text/plain": [
       "array([[0., 0., 0., 0., 0., 0., 0., 0., 0., 0.],\n",
       "       [0., 0., 0., 0., 0., 0., 0., 0., 0., 0.],\n",
       "       [0., 0., 0., 0., 0., 0., 0., 0., 0., 0.],\n",
       "       [0., 0., 0., 0., 0., 0., 0., 0., 0., 0.],\n",
       "       [0., 0., 0., 0., 0., 0., 0., 0., 0., 0.],\n",
       "       [0., 0., 0., 0., 0., 0., 0., 0., 0., 0.],\n",
       "       [0., 0., 0., 0., 0., 0., 0., 0., 0., 0.],\n",
       "       [0., 0., 0., 0., 0., 0., 0., 0., 0., 0.],\n",
       "       [0., 0., 0., 0., 0., 0., 0., 0., 0., 0.],\n",
       "       [0., 0., 0., 0., 0., 0., 0., 0., 0., 0.]])"
      ]
     },
     "execution_count": 254,
     "metadata": {},
     "output_type": "execute_result"
    }
   ],
   "source": [
    "cov_matrix = np.zeros((m, m))\n",
    "print(len(cov_matrix))\n",
    "cov_matrix"
   ]
  },
  {
   "cell_type": "code",
   "execution_count": 255,
   "id": "419e43e7-acbf-4f25-8d15-007967e54d1f",
   "metadata": {},
   "outputs": [
    {
     "name": "stdout",
     "output_type": "stream",
     "text": [
      "[[    8.16   -83.78    57.37   -47.5    305.66    -0.99     0.99    15.66     2.89   -42.43]\n",
      " [  -83.78  2783.49  -892.63 -1254.46  3216.22   -93.06   -56.     413.46  -654.09  -330.86]\n",
      " [   57.37  -892.63   733.86  -313.29   891.98    65.       8.41  -130.85  -320.1   -488.1 ]\n",
      " [  -47.5  -1254.46  -313.29   804.08 -1250.11  -303.26   -29.45   271.35   716.18  -646.06]\n",
      " [  305.66  3216.22   891.98 -1250.11 16341.15 -1827.6   -117.32   526.94  1960.87 -4459.27]\n",
      " [   -0.99   -93.06    65.    -303.26 -1827.6    225.82     3.63  -154.47    12.76   153.61]\n",
      " [    0.99   -56.       8.41   -29.45  -117.32     3.63     2.41    15.56   -20.53    34.35]\n",
      " [   15.66   413.46  -130.85   271.35   526.94  -154.47    15.56   106.36   209.68   318.8 ]\n",
      " [    2.89  -654.09  -320.1    716.18  1960.87    12.76   -20.53   209.68   752.91  -998.75]\n",
      " [  -42.43  -330.86  -488.1   -646.06 -4459.27   153.61    34.35   318.8   -998.75  1336.68]]\n"
     ]
    }
   ],
   "source": [
    "k=0\n",
    "l=0\n",
    "for i in range(len(cov_matrix)):\n",
    "    for j in range(len(cov_matrix)):\n",
    "        if j>i:\n",
    "            cov_matrix[i][j] = cov_matrix[j][i] = cov_list[k]\n",
    "            k += 1\n",
    "        if i == j:\n",
    "            cov_matrix[i][j] = np.square(std_list[l]) \n",
    "            l += 1 \n",
    "np.set_printoptions(suppress=True)\n",
    "print(cov_matrix)"
   ]
  },
  {
   "cell_type": "code",
   "execution_count": 256,
   "id": "ee458ea6-edd3-4ff8-b75c-11c3684d69bd",
   "metadata": {},
   "outputs": [
    {
     "data": {
      "image/png": "[encoded data removed]",
      "text/plain": [
       "<Figure size 800x600 with 2 Axes>"
      ]
     },
     "metadata": {},
     "output_type": "display_data"
    }
   ],
   "source": [
    "plt.figure(figsize = (8,6))\n",
    "sns.heatmap(cov_matrix, annot=True, fmt='.2f', cmap='YlGnBu');"
   ]
  },
  {
   "cell_type": "code",
   "execution_count": 262,
   "id": "bd23caa0-c1d6-4531-90d2-20a54926cd7c",
   "metadata": {},
   "outputs": [
    {
     "name": "stderr",
     "output_type": "stream",
     "text": [
      "/var/folders/6l/c4m0953s1_jgnd_y35l2l7kc0000gp/T/ipykernel_11436/3340323176.py:2: RuntimeWarning:\n",
      "\n",
      "covariance is not positive-semidefinite.\n",
      "\n"
     ]
    },
    {
     "data": {
      "text/html": [
       "<div><div id=726e5455-987a-496e-a632-fddac94d7106 style=\"display:none; background-color:#9D6CFF; color:white; width:200px; height:30px; padding-left:5px; border-radius:4px; flex-direction:row; justify-content:space-around; align-items:center;\" onmouseover=\"this.style.backgroundColor='#BA9BF8'\" onmouseout=\"this.style.backgroundColor='#9D6CFF'\" onclick=\"window.commands?.execute('create-mitosheet-from-dataframe-output');\">See Full Dataframe in Mito</div> <script> if (window.commands.hasCommand('create-mitosheet-from-dataframe-output')) document.getElementById('726e5455-987a-496e-a632-fddac94d7106').style.display = 'flex' </script> <table border=\"1\" class=\"dataframe\">\n",
       "  <thead>\n",
       "    <tr style=\"text-align: right;\">\n",
       "      <th></th>\n",
       "      <th>Input 1</th>\n",
       "      <th>Input 2</th>\n",
       "      <th>Input 3</th>\n",
       "      <th>Input 4</th>\n",
       "      <th>Input 5</th>\n",
       "      <th>Input 6</th>\n",
       "      <th>Input 7</th>\n",
       "      <th>Input 8</th>\n",
       "      <th>Input 9</th>\n",
       "      <th>Input 10</th>\n",
       "    </tr>\n",
       "  </thead>\n",
       "  <tbody>\n",
       "    <tr>\n",
       "      <th>DMU 0001</th>\n",
       "      <td>138.34</td>\n",
       "      <td>201.53</td>\n",
       "      <td>176.01</td>\n",
       "      <td>155.67</td>\n",
       "      <td>250.67</td>\n",
       "      <td>117.58</td>\n",
       "      <td>26.72</td>\n",
       "      <td>498.92</td>\n",
       "      <td>309.58</td>\n",
       "      <td>377.51</td>\n",
       "    </tr>\n",
       "    <tr>\n",
       "      <th>DMU 0002</th>\n",
       "      <td>127.61</td>\n",
       "      <td>274.75</td>\n",
       "      <td>160.44</td>\n",
       "      <td>112.76</td>\n",
       "      <td>258.94</td>\n",
       "      <td>122.94</td>\n",
       "      <td>21.59</td>\n",
       "      <td>492.00</td>\n",
       "      <td>257.03</td>\n",
       "      <td>358.92</td>\n",
       "    </tr>\n",
       "    <tr>\n",
       "      <th>DMU 0003</th>\n",
       "      <td>138.95</td>\n",
       "      <td>181.35</td>\n",
       "      <td>243.06</td>\n",
       "      <td>132.79</td>\n",
       "      <td>592.47</td>\n",
       "      <td>80.72</td>\n",
       "      <td>19.07</td>\n",
       "      <td>484.57</td>\n",
       "      <td>350.32</td>\n",
       "      <td>193.69</td>\n",
       "    </tr>\n",
       "    <tr>\n",
       "      <th>DMU 0004</th>\n",
       "      <td>137.64</td>\n",
       "      <td>294.26</td>\n",
       "      <td>214.60</td>\n",
       "      <td>151.06</td>\n",
       "      <td>522.92</td>\n",
       "      <td>80.91</td>\n",
       "      <td>19.89</td>\n",
       "      <td>476.19</td>\n",
       "      <td>357.85</td>\n",
       "      <td>237.64</td>\n",
       "    </tr>\n",
       "    <tr>\n",
       "      <th>DMU 0005</th>\n",
       "      <td>131.51</td>\n",
       "      <td>272.78</td>\n",
       "      <td>176.59</td>\n",
       "      <td>94.47</td>\n",
       "      <td>451.56</td>\n",
       "      <td>81.66</td>\n",
       "      <td>19.04</td>\n",
       "      <td>530.57</td>\n",
       "      <td>330.32</td>\n",
       "      <td>229.65</td>\n",
       "    </tr>\n",
       "    <tr>\n",
       "      <th>...</th>\n",
       "      <td>...</td>\n",
       "      <td>...</td>\n",
       "      <td>...</td>\n",
       "      <td>...</td>\n",
       "      <td>...</td>\n",
       "      <td>...</td>\n",
       "      <td>...</td>\n",
       "      <td>...</td>\n",
       "      <td>...</td>\n",
       "      <td>...</td>\n",
       "    </tr>\n",
       "    <tr>\n",
       "      <th>DMU 0996</th>\n",
       "      <td>143.34</td>\n",
       "      <td>208.77</td>\n",
       "      <td>235.56</td>\n",
       "      <td>133.78</td>\n",
       "      <td>385.87</td>\n",
       "      <td>78.69</td>\n",
       "      <td>23.73</td>\n",
       "      <td>487.25</td>\n",
       "      <td>374.76</td>\n",
       "      <td>255.10</td>\n",
       "    </tr>\n",
       "    <tr>\n",
       "      <th>DMU 0997</th>\n",
       "      <td>131.75</td>\n",
       "      <td>253.49</td>\n",
       "      <td>199.08</td>\n",
       "      <td>66.98</td>\n",
       "      <td>366.79</td>\n",
       "      <td>152.38</td>\n",
       "      <td>20.42</td>\n",
       "      <td>483.19</td>\n",
       "      <td>301.28</td>\n",
       "      <td>275.55</td>\n",
       "    </tr>\n",
       "    <tr>\n",
       "      <th>DMU 0998</th>\n",
       "      <td>136.53</td>\n",
       "      <td>145.29</td>\n",
       "      <td>248.34</td>\n",
       "      <td>174.66</td>\n",
       "      <td>293.38</td>\n",
       "      <td>114.44</td>\n",
       "      <td>22.78</td>\n",
       "      <td>454.27</td>\n",
       "      <td>319.74</td>\n",
       "      <td>279.53</td>\n",
       "    </tr>\n",
       "    <tr>\n",
       "      <th>DMU 0999</th>\n",
       "      <td>134.21</td>\n",
       "      <td>329.98</td>\n",
       "      <td>221.42</td>\n",
       "      <td>74.81</td>\n",
       "      <td>650.98</td>\n",
       "      <td>98.17</td>\n",
       "      <td>19.95</td>\n",
       "      <td>498.20</td>\n",
       "      <td>313.00</td>\n",
       "      <td>238.53</td>\n",
       "    </tr>\n",
       "    <tr>\n",
       "      <th>DMU 1000</th>\n",
       "      <td>131.30</td>\n",
       "      <td>199.69</td>\n",
       "      <td>187.81</td>\n",
       "      <td>163.43</td>\n",
       "      <td>189.64</td>\n",
       "      <td>120.84</td>\n",
       "      <td>22.91</td>\n",
       "      <td>470.12</td>\n",
       "      <td>341.68</td>\n",
       "      <td>321.14</td>\n",
       "    </tr>\n",
       "  </tbody>\n",
       "</table></div>"
      ],
      "text/plain": [
       "          Input 1  Input 2  Input 3  Input 4  Input 5  Input 6  Input 7  \\\n",
       "DMU 0001   138.34   201.53   176.01   155.67   250.67   117.58    26.72   \n",
       "DMU 0002   127.61   274.75   160.44   112.76   258.94   122.94    21.59   \n",
       "DMU 0003   138.95   181.35   243.06   132.79   592.47    80.72    19.07   \n",
       "DMU 0004   137.64   294.26   214.60   151.06   522.92    80.91    19.89   \n",
       "DMU 0005   131.51   272.78   176.59    94.47   451.56    81.66    19.04   \n",
       "...           ...      ...      ...      ...      ...      ...      ...   \n",
       "DMU 0996   143.34   208.77   235.56   133.78   385.87    78.69    23.73   \n",
       "DMU 0997   131.75   253.49   199.08    66.98   366.79   152.38    20.42   \n",
       "DMU 0998   136.53   145.29   248.34   174.66   293.38   114.44    22.78   \n",
       "DMU 0999   134.21   329.98   221.42    74.81   650.98    98.17    19.95   \n",
       "DMU 1000   131.30   199.69   187.81   163.43   189.64   120.84    22.91   \n",
       "\n",
       "          Input 8  Input 9  Input 10  \n",
       "DMU 0001   498.92   309.58    377.51  \n",
       "DMU 0002   492.00   257.03    358.92  \n",
       "DMU 0003   484.57   350.32    193.69  \n",
       "DMU 0004   476.19   357.85    237.64  \n",
       "DMU 0005   530.57   330.32    229.65  \n",
       "...           ...      ...       ...  \n",
       "DMU 0996   487.25   374.76    255.10  \n",
       "DMU 0997   483.19   301.28    275.55  \n",
       "DMU 0998   454.27   319.74    279.53  \n",
       "DMU 0999   498.20   313.00    238.53  \n",
       "DMU 1000   470.12   341.68    321.14  \n",
       "\n",
       "[1000 rows x 10 columns]"
      ]
     },
     "execution_count": 262,
     "metadata": {},
     "output_type": "execute_result"
    }
   ],
   "source": [
    "np.random.seed(1)\n",
    "df51 = pd.DataFrame(np.random.multivariate_normal(mean_q, cov_matrix, 1000))\n",
    "df51.columns = [\"Input \" + str(i + 1) for i in range(m)]\n",
    "df51.index = [\"DMU \" + str(i + 1).zfill(4) for i in range(len(df51))]\n",
    "df51 = df51.round(2)\n",
    "df51"
   ]
  },
  {
   "cell_type": "code",
   "execution_count": 263,
   "id": "935b5714-1b16-46db-9546-62d3955f955b",
   "metadata": {},
   "outputs": [
    {
     "data": {
      "text/html": [
       "<div><div id=8d53a9f8-7130-4235-b3e7-e629b221360a style=\"display:none; background-color:#9D6CFF; color:white; width:200px; height:30px; padding-left:5px; border-radius:4px; flex-direction:row; justify-content:space-around; align-items:center;\" onmouseover=\"this.style.backgroundColor='#BA9BF8'\" onmouseout=\"this.style.backgroundColor='#9D6CFF'\" onclick=\"window.commands?.execute('create-mitosheet-from-dataframe-output');\">See Full Dataframe in Mito</div> <script> if (window.commands.hasCommand('create-mitosheet-from-dataframe-output')) document.getElementById('8d53a9f8-7130-4235-b3e7-e629b221360a').style.display = 'flex' </script> <table border=\"1\" class=\"dataframe\">\n",
       "  <thead>\n",
       "    <tr style=\"text-align: right;\">\n",
       "      <th></th>\n",
       "      <th>Input 1</th>\n",
       "      <th>Input 2</th>\n",
       "      <th>Input 3</th>\n",
       "      <th>Input 4</th>\n",
       "      <th>Input 5</th>\n",
       "      <th>Input 6</th>\n",
       "      <th>Input 7</th>\n",
       "      <th>Input 8</th>\n",
       "      <th>Input 9</th>\n",
       "      <th>Input 10</th>\n",
       "    </tr>\n",
       "  </thead>\n",
       "  <tbody>\n",
       "    <tr>\n",
       "      <th>count</th>\n",
       "      <td>1000.000000</td>\n",
       "      <td>1000.000000</td>\n",
       "      <td>1000.000000</td>\n",
       "      <td>1000.000000</td>\n",
       "      <td>1000.000000</td>\n",
       "      <td>1000.000000</td>\n",
       "      <td>1000.000000</td>\n",
       "      <td>1000.000000</td>\n",
       "      <td>1000.000000</td>\n",
       "      <td>1000.00000</td>\n",
       "    </tr>\n",
       "    <tr>\n",
       "      <th>mean</th>\n",
       "      <td>134.574300</td>\n",
       "      <td>231.429910</td>\n",
       "      <td>215.474490</td>\n",
       "      <td>132.348550</td>\n",
       "      <td>438.791620</td>\n",
       "      <td>99.934510</td>\n",
       "      <td>20.385390</td>\n",
       "      <td>481.636250</td>\n",
       "      <td>342.952200</td>\n",
       "      <td>247.13678</td>\n",
       "    </tr>\n",
       "    <tr>\n",
       "      <th>std</th>\n",
       "      <td>6.616084</td>\n",
       "      <td>53.371601</td>\n",
       "      <td>35.378927</td>\n",
       "      <td>38.552123</td>\n",
       "      <td>127.084543</td>\n",
       "      <td>27.704327</td>\n",
       "      <td>2.621528</td>\n",
       "      <td>21.307112</td>\n",
       "      <td>36.524995</td>\n",
       "      <td>46.06161</td>\n",
       "    </tr>\n",
       "    <tr>\n",
       "      <th>min</th>\n",
       "      <td>112.260000</td>\n",
       "      <td>77.200000</td>\n",
       "      <td>91.790000</td>\n",
       "      <td>11.150000</td>\n",
       "      <td>78.820000</td>\n",
       "      <td>7.710000</td>\n",
       "      <td>13.440000</td>\n",
       "      <td>404.500000</td>\n",
       "      <td>201.010000</td>\n",
       "      <td>76.15000</td>\n",
       "    </tr>\n",
       "    <tr>\n",
       "      <th>25%</th>\n",
       "      <td>130.277500</td>\n",
       "      <td>194.550000</td>\n",
       "      <td>192.522500</td>\n",
       "      <td>105.265000</td>\n",
       "      <td>347.497500</td>\n",
       "      <td>81.550000</td>\n",
       "      <td>18.475000</td>\n",
       "      <td>468.450000</td>\n",
       "      <td>317.960000</td>\n",
       "      <td>217.32500</td>\n",
       "    </tr>\n",
       "    <tr>\n",
       "      <th>50%</th>\n",
       "      <td>134.805000</td>\n",
       "      <td>232.100000</td>\n",
       "      <td>217.555000</td>\n",
       "      <td>131.820000</td>\n",
       "      <td>436.110000</td>\n",
       "      <td>100.505000</td>\n",
       "      <td>20.290000</td>\n",
       "      <td>482.645000</td>\n",
       "      <td>344.030000</td>\n",
       "      <td>246.84000</td>\n",
       "    </tr>\n",
       "    <tr>\n",
       "      <th>75%</th>\n",
       "      <td>138.832500</td>\n",
       "      <td>267.837500</td>\n",
       "      <td>237.232500</td>\n",
       "      <td>158.892500</td>\n",
       "      <td>529.755000</td>\n",
       "      <td>118.530000</td>\n",
       "      <td>22.220000</td>\n",
       "      <td>495.325000</td>\n",
       "      <td>367.685000</td>\n",
       "      <td>278.23750</td>\n",
       "    </tr>\n",
       "    <tr>\n",
       "      <th>max</th>\n",
       "      <td>153.510000</td>\n",
       "      <td>418.620000</td>\n",
       "      <td>354.860000</td>\n",
       "      <td>266.440000</td>\n",
       "      <td>898.170000</td>\n",
       "      <td>183.410000</td>\n",
       "      <td>28.450000</td>\n",
       "      <td>555.760000</td>\n",
       "      <td>450.620000</td>\n",
       "      <td>381.70000</td>\n",
       "    </tr>\n",
       "  </tbody>\n",
       "</table></div>"
      ],
      "text/plain": [
       "           Input 1      Input 2      Input 3      Input 4      Input 5  \\\n",
       "count  1000.000000  1000.000000  1000.000000  1000.000000  1000.000000   \n",
       "mean    134.574300   231.429910   215.474490   132.348550   438.791620   \n",
       "std       6.616084    53.371601    35.378927    38.552123   127.084543   \n",
       "min     112.260000    77.200000    91.790000    11.150000    78.820000   \n",
       "25%     130.277500   194.550000   192.522500   105.265000   347.497500   \n",
       "50%     134.805000   232.100000   217.555000   131.820000   436.110000   \n",
       "75%     138.832500   267.837500   237.232500   158.892500   529.755000   \n",
       "max     153.510000   418.620000   354.860000   266.440000   898.170000   \n",
       "\n",
       "           Input 6      Input 7      Input 8      Input 9    Input 10  \n",
       "count  1000.000000  1000.000000  1000.000000  1000.000000  1000.00000  \n",
       "mean     99.934510    20.385390   481.636250   342.952200   247.13678  \n",
       "std      27.704327     2.621528    21.307112    36.524995    46.06161  \n",
       "min       7.710000    13.440000   404.500000   201.010000    76.15000  \n",
       "25%      81.550000    18.475000   468.450000   317.960000   217.32500  \n",
       "50%     100.505000    20.290000   482.645000   344.030000   246.84000  \n",
       "75%     118.530000    22.220000   495.325000   367.685000   278.23750  \n",
       "max     183.410000    28.450000   555.760000   450.620000   381.70000  "
      ]
     },
     "execution_count": 263,
     "metadata": {},
     "output_type": "execute_result"
    }
   ],
   "source": [
    "df51.describe()"
   ]
  },
  {
   "cell_type": "code",
   "execution_count": 264,
   "id": "4effad9a-d5d1-4802-a172-37c882de88c4",
   "metadata": {},
   "outputs": [
    {
     "name": "stdout",
     "output_type": "stream",
     "text": [
      "[0.08504242956601893, 0.2815787603227047, 0.40309273233720366, 0.7652070772182651, 1.3484731943662145, 1.486305261275823, 1.9547789181682889, 2.291323856929842, 2.3661700534065395, 2.542301210811698]\n"
     ]
    }
   ],
   "source": [
    "random.seed(1)  # Set the random seed for reproducibility\n",
    "\n",
    "numbers = sorted([random.uniform(0, 3) for _ in range(m)])\n",
    "print(numbers)"
   ]
  },
  {
   "cell_type": "code",
   "execution_count": 265,
   "id": "cf3dd594-19ce-485e-ad7c-7e22df8f8515",
   "metadata": {},
   "outputs": [],
   "source": [
    "df511 = df51 * np.array(numbers)"
   ]
  },
  {
   "cell_type": "code",
   "execution_count": 266,
   "id": "6ce66be8-db32-4ff6-8e1f-7db3d64a110c",
   "metadata": {},
   "outputs": [],
   "source": [
    "# Add noise to each column\n",
    "noise_std = df51.std().mean()\n",
    "df512 = df511 + np.random.normal(0, noise_std, size=df51.shape)"
   ]
  },
  {
   "cell_type": "code",
   "execution_count": 267,
   "id": "1dc9b32f-1538-4ea0-ad7a-c8b3d27b159b",
   "metadata": {},
   "outputs": [],
   "source": [
    "df51[\"Output\"] = df512.sum(axis=1)"
   ]
  },
  {
   "cell_type": "code",
   "execution_count": 268,
   "id": "30620d61-8cd0-4c9a-9035-4c8dac8ecd84",
   "metadata": {},
   "outputs": [
    {
     "data": {
      "text/html": [
       "<div><div id=aa0d60a1-e5aa-4ff5-b698-76d63ff2cb80 style=\"display:none; background-color:#9D6CFF; color:white; width:200px; height:30px; padding-left:5px; border-radius:4px; flex-direction:row; justify-content:space-around; align-items:center;\" onmouseover=\"this.style.backgroundColor='#BA9BF8'\" onmouseout=\"this.style.backgroundColor='#9D6CFF'\" onclick=\"window.commands?.execute('create-mitosheet-from-dataframe-output');\">See Full Dataframe in Mito</div> <script> if (window.commands.hasCommand('create-mitosheet-from-dataframe-output')) document.getElementById('aa0d60a1-e5aa-4ff5-b698-76d63ff2cb80').style.display = 'flex' </script> <table border=\"1\" class=\"dataframe\">\n",
       "  <thead>\n",
       "    <tr style=\"text-align: right;\">\n",
       "      <th></th>\n",
       "      <th>Input 1</th>\n",
       "      <th>Input 2</th>\n",
       "      <th>Input 3</th>\n",
       "      <th>Input 4</th>\n",
       "      <th>Input 5</th>\n",
       "      <th>Input 6</th>\n",
       "      <th>Input 7</th>\n",
       "      <th>Input 8</th>\n",
       "      <th>Input 9</th>\n",
       "      <th>Input 10</th>\n",
       "      <th>Output</th>\n",
       "    </tr>\n",
       "  </thead>\n",
       "  <tbody>\n",
       "    <tr>\n",
       "      <th>DMU 0001</th>\n",
       "      <td>138.34</td>\n",
       "      <td>201.53</td>\n",
       "      <td>176.01</td>\n",
       "      <td>155.67</td>\n",
       "      <td>250.67</td>\n",
       "      <td>117.58</td>\n",
       "      <td>26.72</td>\n",
       "      <td>498.92</td>\n",
       "      <td>309.58</td>\n",
       "      <td>377.51</td>\n",
       "      <td>3635.214666</td>\n",
       "    </tr>\n",
       "    <tr>\n",
       "      <th>DMU 0002</th>\n",
       "      <td>127.61</td>\n",
       "      <td>274.75</td>\n",
       "      <td>160.44</td>\n",
       "      <td>112.76</td>\n",
       "      <td>258.94</td>\n",
       "      <td>122.94</td>\n",
       "      <td>21.59</td>\n",
       "      <td>492.00</td>\n",
       "      <td>257.03</td>\n",
       "      <td>358.92</td>\n",
       "      <td>3396.975933</td>\n",
       "    </tr>\n",
       "    <tr>\n",
       "      <th>DMU 0003</th>\n",
       "      <td>138.95</td>\n",
       "      <td>181.35</td>\n",
       "      <td>243.06</td>\n",
       "      <td>132.79</td>\n",
       "      <td>592.47</td>\n",
       "      <td>80.72</td>\n",
       "      <td>19.07</td>\n",
       "      <td>484.57</td>\n",
       "      <td>350.32</td>\n",
       "      <td>193.69</td>\n",
       "      <td>3894.242341</td>\n",
       "    </tr>\n",
       "    <tr>\n",
       "      <th>DMU 0004</th>\n",
       "      <td>137.64</td>\n",
       "      <td>294.26</td>\n",
       "      <td>214.60</td>\n",
       "      <td>151.06</td>\n",
       "      <td>522.92</td>\n",
       "      <td>80.91</td>\n",
       "      <td>19.89</td>\n",
       "      <td>476.19</td>\n",
       "      <td>357.85</td>\n",
       "      <td>237.64</td>\n",
       "      <td>3560.494311</td>\n",
       "    </tr>\n",
       "    <tr>\n",
       "      <th>DMU 0005</th>\n",
       "      <td>131.51</td>\n",
       "      <td>272.78</td>\n",
       "      <td>176.59</td>\n",
       "      <td>94.47</td>\n",
       "      <td>451.56</td>\n",
       "      <td>81.66</td>\n",
       "      <td>19.04</td>\n",
       "      <td>530.57</td>\n",
       "      <td>330.32</td>\n",
       "      <td>229.65</td>\n",
       "      <td>3414.093999</td>\n",
       "    </tr>\n",
       "    <tr>\n",
       "      <th>...</th>\n",
       "      <td>...</td>\n",
       "      <td>...</td>\n",
       "      <td>...</td>\n",
       "      <td>...</td>\n",
       "      <td>...</td>\n",
       "      <td>...</td>\n",
       "      <td>...</td>\n",
       "      <td>...</td>\n",
       "      <td>...</td>\n",
       "      <td>...</td>\n",
       "      <td>...</td>\n",
       "    </tr>\n",
       "    <tr>\n",
       "      <th>DMU 0996</th>\n",
       "      <td>143.34</td>\n",
       "      <td>208.77</td>\n",
       "      <td>235.56</td>\n",
       "      <td>133.78</td>\n",
       "      <td>385.87</td>\n",
       "      <td>78.69</td>\n",
       "      <td>23.73</td>\n",
       "      <td>487.25</td>\n",
       "      <td>374.76</td>\n",
       "      <td>255.10</td>\n",
       "      <td>3370.013005</td>\n",
       "    </tr>\n",
       "    <tr>\n",
       "      <th>DMU 0997</th>\n",
       "      <td>131.75</td>\n",
       "      <td>253.49</td>\n",
       "      <td>199.08</td>\n",
       "      <td>66.98</td>\n",
       "      <td>366.79</td>\n",
       "      <td>152.38</td>\n",
       "      <td>20.42</td>\n",
       "      <td>483.19</td>\n",
       "      <td>301.28</td>\n",
       "      <td>275.55</td>\n",
       "      <td>3357.103834</td>\n",
       "    </tr>\n",
       "    <tr>\n",
       "      <th>DMU 0998</th>\n",
       "      <td>136.53</td>\n",
       "      <td>145.29</td>\n",
       "      <td>248.34</td>\n",
       "      <td>174.66</td>\n",
       "      <td>293.38</td>\n",
       "      <td>114.44</td>\n",
       "      <td>22.78</td>\n",
       "      <td>454.27</td>\n",
       "      <td>319.74</td>\n",
       "      <td>279.53</td>\n",
       "      <td>3393.153973</td>\n",
       "    </tr>\n",
       "    <tr>\n",
       "      <th>DMU 0999</th>\n",
       "      <td>134.21</td>\n",
       "      <td>329.98</td>\n",
       "      <td>221.42</td>\n",
       "      <td>74.81</td>\n",
       "      <td>650.98</td>\n",
       "      <td>98.17</td>\n",
       "      <td>19.95</td>\n",
       "      <td>498.20</td>\n",
       "      <td>313.00</td>\n",
       "      <td>238.53</td>\n",
       "      <td>3917.810692</td>\n",
       "    </tr>\n",
       "    <tr>\n",
       "      <th>DMU 1000</th>\n",
       "      <td>131.30</td>\n",
       "      <td>199.69</td>\n",
       "      <td>187.81</td>\n",
       "      <td>163.43</td>\n",
       "      <td>189.64</td>\n",
       "      <td>120.84</td>\n",
       "      <td>22.91</td>\n",
       "      <td>470.12</td>\n",
       "      <td>341.68</td>\n",
       "      <td>321.14</td>\n",
       "      <td>3456.652744</td>\n",
       "    </tr>\n",
       "  </tbody>\n",
       "</table></div>"
      ],
      "text/plain": [
       "          Input 1  Input 2  Input 3  Input 4  Input 5  Input 6  Input 7  \\\n",
       "DMU 0001   138.34   201.53   176.01   155.67   250.67   117.58    26.72   \n",
       "DMU 0002   127.61   274.75   160.44   112.76   258.94   122.94    21.59   \n",
       "DMU 0003   138.95   181.35   243.06   132.79   592.47    80.72    19.07   \n",
       "DMU 0004   137.64   294.26   214.60   151.06   522.92    80.91    19.89   \n",
       "DMU 0005   131.51   272.78   176.59    94.47   451.56    81.66    19.04   \n",
       "...           ...      ...      ...      ...      ...      ...      ...   \n",
       "DMU 0996   143.34   208.77   235.56   133.78   385.87    78.69    23.73   \n",
       "DMU 0997   131.75   253.49   199.08    66.98   366.79   152.38    20.42   \n",
       "DMU 0998   136.53   145.29   248.34   174.66   293.38   114.44    22.78   \n",
       "DMU 0999   134.21   329.98   221.42    74.81   650.98    98.17    19.95   \n",
       "DMU 1000   131.30   199.69   187.81   163.43   189.64   120.84    22.91   \n",
       "\n",
       "          Input 8  Input 9  Input 10       Output  \n",
       "DMU 0001   498.92   309.58    377.51  3635.214666  \n",
       "DMU 0002   492.00   257.03    358.92  3396.975933  \n",
       "DMU 0003   484.57   350.32    193.69  3894.242341  \n",
       "DMU 0004   476.19   357.85    237.64  3560.494311  \n",
       "DMU 0005   530.57   330.32    229.65  3414.093999  \n",
       "...           ...      ...       ...          ...  \n",
       "DMU 0996   487.25   374.76    255.10  3370.013005  \n",
       "DMU 0997   483.19   301.28    275.55  3357.103834  \n",
       "DMU 0998   454.27   319.74    279.53  3393.153973  \n",
       "DMU 0999   498.20   313.00    238.53  3917.810692  \n",
       "DMU 1000   470.12   341.68    321.14  3456.652744  \n",
       "\n",
       "[1000 rows x 11 columns]"
      ]
     },
     "execution_count": 268,
     "metadata": {},
     "output_type": "execute_result"
    }
   ],
   "source": [
    "df51"
   ]
  },
  {
   "cell_type": "code",
   "execution_count": 269,
   "id": "3a158a29-7172-4c82-b469-5eb33c00a367",
   "metadata": {},
   "outputs": [
    {
     "data": {
      "text/html": [
       "<div><div id=17666621-a01e-4931-8cf9-aec224766710 style=\"display:none; background-color:#9D6CFF; color:white; width:200px; height:30px; padding-left:5px; border-radius:4px; flex-direction:row; justify-content:space-around; align-items:center;\" onmouseover=\"this.style.backgroundColor='#BA9BF8'\" onmouseout=\"this.style.backgroundColor='#9D6CFF'\" onclick=\"window.commands?.execute('create-mitosheet-from-dataframe-output');\">See Full Dataframe in Mito</div> <script> if (window.commands.hasCommand('create-mitosheet-from-dataframe-output')) document.getElementById('17666621-a01e-4931-8cf9-aec224766710').style.display = 'flex' </script> <table border=\"1\" class=\"dataframe\">\n",
       "  <thead>\n",
       "    <tr style=\"text-align: right;\">\n",
       "      <th></th>\n",
       "      <th>Input 1</th>\n",
       "      <th>Input 2</th>\n",
       "      <th>Input 3</th>\n",
       "      <th>Input 4</th>\n",
       "      <th>Input 5</th>\n",
       "      <th>Input 6</th>\n",
       "      <th>Input 7</th>\n",
       "      <th>Input 8</th>\n",
       "      <th>Input 9</th>\n",
       "      <th>Input 10</th>\n",
       "      <th>Output</th>\n",
       "    </tr>\n",
       "  </thead>\n",
       "  <tbody>\n",
       "    <tr>\n",
       "      <th>count</th>\n",
       "      <td>1000.000000</td>\n",
       "      <td>1000.000000</td>\n",
       "      <td>1000.000000</td>\n",
       "      <td>1000.000000</td>\n",
       "      <td>1000.000000</td>\n",
       "      <td>1000.000000</td>\n",
       "      <td>1000.000000</td>\n",
       "      <td>1000.000000</td>\n",
       "      <td>1000.000000</td>\n",
       "      <td>1000.00000</td>\n",
       "      <td>1000.000000</td>\n",
       "    </tr>\n",
       "    <tr>\n",
       "      <th>mean</th>\n",
       "      <td>134.574300</td>\n",
       "      <td>231.429910</td>\n",
       "      <td>215.474490</td>\n",
       "      <td>132.348550</td>\n",
       "      <td>438.791620</td>\n",
       "      <td>99.934510</td>\n",
       "      <td>20.385390</td>\n",
       "      <td>481.636250</td>\n",
       "      <td>342.952200</td>\n",
       "      <td>247.13678</td>\n",
       "      <td>3591.914458</td>\n",
       "    </tr>\n",
       "    <tr>\n",
       "      <th>std</th>\n",
       "      <td>6.616084</td>\n",
       "      <td>53.371601</td>\n",
       "      <td>35.378927</td>\n",
       "      <td>38.552123</td>\n",
       "      <td>127.084543</td>\n",
       "      <td>27.704327</td>\n",
       "      <td>2.621528</td>\n",
       "      <td>21.307112</td>\n",
       "      <td>36.524995</td>\n",
       "      <td>46.06161</td>\n",
       "      <td>192.467708</td>\n",
       "    </tr>\n",
       "    <tr>\n",
       "      <th>min</th>\n",
       "      <td>112.260000</td>\n",
       "      <td>77.200000</td>\n",
       "      <td>91.790000</td>\n",
       "      <td>11.150000</td>\n",
       "      <td>78.820000</td>\n",
       "      <td>7.710000</td>\n",
       "      <td>13.440000</td>\n",
       "      <td>404.500000</td>\n",
       "      <td>201.010000</td>\n",
       "      <td>76.15000</td>\n",
       "      <td>2798.152759</td>\n",
       "    </tr>\n",
       "    <tr>\n",
       "      <th>25%</th>\n",
       "      <td>130.277500</td>\n",
       "      <td>194.550000</td>\n",
       "      <td>192.522500</td>\n",
       "      <td>105.265000</td>\n",
       "      <td>347.497500</td>\n",
       "      <td>81.550000</td>\n",
       "      <td>18.475000</td>\n",
       "      <td>468.450000</td>\n",
       "      <td>317.960000</td>\n",
       "      <td>217.32500</td>\n",
       "      <td>3456.742585</td>\n",
       "    </tr>\n",
       "    <tr>\n",
       "      <th>50%</th>\n",
       "      <td>134.805000</td>\n",
       "      <td>232.100000</td>\n",
       "      <td>217.555000</td>\n",
       "      <td>131.820000</td>\n",
       "      <td>436.110000</td>\n",
       "      <td>100.505000</td>\n",
       "      <td>20.290000</td>\n",
       "      <td>482.645000</td>\n",
       "      <td>344.030000</td>\n",
       "      <td>246.84000</td>\n",
       "      <td>3591.767398</td>\n",
       "    </tr>\n",
       "    <tr>\n",
       "      <th>75%</th>\n",
       "      <td>138.832500</td>\n",
       "      <td>267.837500</td>\n",
       "      <td>237.232500</td>\n",
       "      <td>158.892500</td>\n",
       "      <td>529.755000</td>\n",
       "      <td>118.530000</td>\n",
       "      <td>22.220000</td>\n",
       "      <td>495.325000</td>\n",
       "      <td>367.685000</td>\n",
       "      <td>278.23750</td>\n",
       "      <td>3728.206841</td>\n",
       "    </tr>\n",
       "    <tr>\n",
       "      <th>max</th>\n",
       "      <td>153.510000</td>\n",
       "      <td>418.620000</td>\n",
       "      <td>354.860000</td>\n",
       "      <td>266.440000</td>\n",
       "      <td>898.170000</td>\n",
       "      <td>183.410000</td>\n",
       "      <td>28.450000</td>\n",
       "      <td>555.760000</td>\n",
       "      <td>450.620000</td>\n",
       "      <td>381.70000</td>\n",
       "      <td>4308.692469</td>\n",
       "    </tr>\n",
       "  </tbody>\n",
       "</table></div>"
      ],
      "text/plain": [
       "           Input 1      Input 2      Input 3      Input 4      Input 5  \\\n",
       "count  1000.000000  1000.000000  1000.000000  1000.000000  1000.000000   \n",
       "mean    134.574300   231.429910   215.474490   132.348550   438.791620   \n",
       "std       6.616084    53.371601    35.378927    38.552123   127.084543   \n",
       "min     112.260000    77.200000    91.790000    11.150000    78.820000   \n",
       "25%     130.277500   194.550000   192.522500   105.265000   347.497500   \n",
       "50%     134.805000   232.100000   217.555000   131.820000   436.110000   \n",
       "75%     138.832500   267.837500   237.232500   158.892500   529.755000   \n",
       "max     153.510000   418.620000   354.860000   266.440000   898.170000   \n",
       "\n",
       "           Input 6      Input 7      Input 8      Input 9    Input 10  \\\n",
       "count  1000.000000  1000.000000  1000.000000  1000.000000  1000.00000   \n",
       "mean     99.934510    20.385390   481.636250   342.952200   247.13678   \n",
       "std      27.704327     2.621528    21.307112    36.524995    46.06161   \n",
       "min       7.710000    13.440000   404.500000   201.010000    76.15000   \n",
       "25%      81.550000    18.475000   468.450000   317.960000   217.32500   \n",
       "50%     100.505000    20.290000   482.645000   344.030000   246.84000   \n",
       "75%     118.530000    22.220000   495.325000   367.685000   278.23750   \n",
       "max     183.410000    28.450000   555.760000   450.620000   381.70000   \n",
       "\n",
       "            Output  \n",
       "count  1000.000000  \n",
       "mean   3591.914458  \n",
       "std     192.467708  \n",
       "min    2798.152759  \n",
       "25%    3456.742585  \n",
       "50%    3591.767398  \n",
       "75%    3728.206841  \n",
       "max    4308.692469  "
      ]
     },
     "execution_count": 269,
     "metadata": {},
     "output_type": "execute_result"
    }
   ],
   "source": [
    "df51.describe()"
   ]
  },
  {
   "cell_type": "code",
   "execution_count": 270,
   "id": "89c43ce3-c92d-40fd-b416-935df8fc5a8f",
   "metadata": {},
   "outputs": [],
   "source": [
    "df51.to_excel(\"Data/RealData/Simulation/df101.xlsx\")"
   ]
  },
  {
   "cell_type": "code",
   "execution_count": 271,
   "id": "6d74d0a0-5481-4695-8222-b8c18bf1d82d",
   "metadata": {},
   "outputs": [
    {
     "data": {
      "text/plain": [
       "Input 1     0\n",
       "Input 2     0\n",
       "Input 3     0\n",
       "Input 4     0\n",
       "Input 5     0\n",
       "Input 6     0\n",
       "Input 7     0\n",
       "Input 8     0\n",
       "Input 9     0\n",
       "Input 10    0\n",
       "Output      0\n",
       "dtype: int64"
      ]
     },
     "execution_count": 271,
     "metadata": {},
     "output_type": "execute_result"
    }
   ],
   "source": [
    "(df51<=0).sum()"
   ]
  },
  {
   "cell_type": "markdown",
   "id": "fa086332-b46e-4534-878b-cf13885c029a",
   "metadata": {},
   "source": [
    "### 10 Input 1 Output - 2"
   ]
  },
  {
   "cell_type": "code",
   "execution_count": 272,
   "id": "33ed5b24-d30d-469c-9894-22af701c34b8",
   "metadata": {},
   "outputs": [],
   "source": [
    "m = n_input = 10"
   ]
  },
  {
   "cell_type": "code",
   "execution_count": 273,
   "id": "9ddab2fd-927d-466e-b355-72b1df25a9f9",
   "metadata": {},
   "outputs": [
    {
     "data": {
      "text/plain": [
       "array([1.35, 8.02, 1.83, 6.7 , 1.13, 9.43, 4.84, 3.28, 2.71, 4.73])"
      ]
     },
     "execution_count": 273,
     "metadata": {},
     "output_type": "execute_result"
    }
   ],
   "source": [
    "np.random.seed(34)\n",
    "x_min = np.random.uniform(1,10, m)\n",
    "x_min"
   ]
  },
  {
   "cell_type": "code",
   "execution_count": 274,
   "id": "18cf16b8-18c0-4340-85bd-6ea3800001ab",
   "metadata": {},
   "outputs": [
    {
     "data": {
      "text/plain": [
       "array([375.17, 950.76, 732.26, 599.06, 156.86, 156.84,  59.03, 866.31, 601.51, 708.36])"
      ]
     },
     "execution_count": 274,
     "metadata": {},
     "output_type": "execute_result"
    }
   ],
   "source": [
    "np.random.seed(42)\n",
    "delta_x = np.random.uniform(1,1000, m)\n",
    "delta_x"
   ]
  },
  {
   "cell_type": "code",
   "execution_count": 275,
   "id": "530e15c6-3029-4047-ab11-da50fe359377",
   "metadata": {},
   "outputs": [
    {
     "data": {
      "text/plain": [
       "array([376.51, 958.78, 734.1 , 605.76, 157.99, 166.26,  63.86, 869.59, 604.22, 713.1 ])"
      ]
     },
     "execution_count": 275,
     "metadata": {},
     "output_type": "execute_result"
    }
   ],
   "source": [
    "x_max = x_min + delta_x\n",
    "x_max"
   ]
  },
  {
   "cell_type": "code",
   "execution_count": 276,
   "id": "88730f9c-9081-4c3b-a7a5-210e36a1e929",
   "metadata": {},
   "outputs": [
    {
     "data": {
      "text/plain": [
       "array([188.93, 483.4 , 367.97, 306.23,  79.56,  87.84,  34.35, 436.43, 303.47, 358.92])"
      ]
     },
     "execution_count": 276,
     "metadata": {},
     "output_type": "execute_result"
    }
   ],
   "source": [
    "mean_q = (x_min + x_max)  * 0.5\n",
    "mean_q"
   ]
  },
  {
   "cell_type": "code",
   "execution_count": 277,
   "id": "3a86470b-09d4-47c7-89e5-1e2fe7f66d28",
   "metadata": {},
   "outputs": [
    {
     "data": {
      "text/plain": [
       "array([ 62.53, 158.46, 122.04,  99.84,  26.14,  26.14,   9.84, 144.38, 100.25, 118.06])"
      ]
     },
     "execution_count": 277,
     "metadata": {},
     "output_type": "execute_result"
    }
   ],
   "source": [
    "std_max = (x_max - x_min) * 0.5 * (1/3)\n",
    "std_max"
   ]
  },
  {
   "cell_type": "code",
   "execution_count": 278,
   "id": "a250ff4f-1891-4175-9118-89189ea19f2c",
   "metadata": {},
   "outputs": [],
   "source": [
    "np.random.seed(41)\n",
    "std_list = []\n",
    "\n",
    "for i in std_max:\n",
    "    std_list.append(np.random.uniform(0,i))"
   ]
  },
  {
   "cell_type": "code",
   "execution_count": 279,
   "id": "789724c1-da5b-44cb-bb5a-cd75b32a4174",
   "metadata": {},
   "outputs": [
    {
     "data": {
      "text/plain": [
       "[15.689651086487775,\n",
       " 7.304371340608568,\n",
       " 82.60112984423233,\n",
       " 4.340137082361992,\n",
       " 3.0437545530998698,\n",
       " 15.784900740919065,\n",
       " 1.878297214687911,\n",
       " 96.52363845273773,\n",
       " 91.97627177037229,\n",
       " 49.4414915145164]"
      ]
     },
     "execution_count": 279,
     "metadata": {},
     "output_type": "execute_result"
    }
   ],
   "source": [
    "std_list"
   ]
  },
  {
   "cell_type": "code",
   "execution_count": 280,
   "id": "f8c4bad7-fd0c-4a8a-9427-d29269655a97",
   "metadata": {},
   "outputs": [],
   "source": [
    "cov_matrix_int = []\n",
    "\n",
    "for i in range(m):\n",
    "    for j in range(m):\n",
    "        \n",
    "        if j>i:\n",
    "            min_ = - std_list[i] *  std_list[j]\n",
    "            max_ = std_list[i] *  std_list[j]\n",
    "            \n",
    "            cov_matrix_int.append((i, j, min_, max_)) "
   ]
  },
  {
   "cell_type": "code",
   "execution_count": 281,
   "id": "4568bdf4-7edf-456b-80c4-eeba7d996442",
   "metadata": {},
   "outputs": [
    {
     "data": {
      "text/plain": [
       "[(0, 1, -114.60303774028938, 114.60303774028938),\n",
       " (0, 2, -1295.9829066056775, 1295.9829066056775),\n",
       " (0, 3, -68.09523648978671, 68.09523648978671),\n",
       " (0, 4, -47.75544693104548, 47.75544693104548),\n",
       " (0, 5, -247.65958505986248, 247.65958505986248),\n",
       " (0, 6, -29.469827935175147, 29.469827935175147),\n",
       " (0, 7, -1514.4222089217496, 1514.4222089217496),\n",
       " (0, 8, -1443.0756123131164, 1443.0756123131164),\n",
       " (0, 9, -775.7197510583084, 775.7197510583084),\n",
       " (1, 2, -603.3493255360977, 603.3493255360977),\n",
       " (1, 3, -31.701972918717424, 31.701972918717424),\n",
       " (1, 4, -22.232713525509528, 22.232713525509528),\n",
       " (1, 5, -115.29877658632017, 115.29877658632017),\n",
       " (1, 6, -13.719780344111276, 13.719780344111276),\n",
       " (1, 7, -705.0444984054405, 705.0444984054405),\n",
       " (1, 8, -671.8288435355322, 671.8288435355322),\n",
       " (1, 9, -361.1390136555753, 361.1390136555753),\n",
       " (2, 3, -358.5002266819506, 358.5002266819506),\n",
       " (2, 4, -251.4175650545757, 251.4175650545757),\n",
       " (2, 5, -1303.8506356789749, 1303.8506356789749),\n",
       " (2, 6, -155.14947211649607, 155.14947211649607),\n",
       " (2, 7, -7972.961592872326, 7972.961592872326),\n",
       " (2, 8, -7597.343967092923, 7597.343967092923),\n",
       " (2, 9, -4083.9230602830803, 4083.9230602830803),\n",
       " (3, 4, -13.210312005516899, 13.210312005516899),\n",
       " (3, 5, -68.50863304706613, 68.50863304706613),\n",
       " (3, 6, -8.152067393164247, 8.152067393164247),\n",
       " (3, 7, -418.9258225732289, 418.9258225732289),\n",
       " (3, 8, -399.1896278079973, 399.1896278079973),\n",
       " (3, 9, -214.5828507294384, 214.5828507294384),\n",
       " (4, 5, -48.04536350040191, 48.04536350040191),\n",
       " (4, 6, -5.717075699281133, 5.717075699281133),\n",
       " (4, 7, -293.79426402228614, 293.79426402228614),\n",
       " (4, 8, -279.9531959782217, 279.9531959782217),\n",
       " (4, 9, -150.48776490935788, 150.48776490935788),\n",
       " (5, 6, -29.648735095793423, 29.648735095793423),\n",
       " (5, 7, -1523.6160521288236, 1523.6160521288236),\n",
       " (5, 8, -1451.8363204151228, 1451.8363204151228),\n",
       " (5, 9, -780.4290360396336, 780.4290360396336),\n",
       " (6, 7, -181.30008125732022, 181.30008125732022),\n",
       " (6, 8, -172.75877508366864, 172.75877508366864),\n",
       " (6, 9, -92.86581580173214, 92.86581580173214),\n",
       " (7, 8, -8877.884402594163, 8877.884402594163),\n",
       " (7, 9, -4772.272651511281, 4772.272651511281),\n",
       " (8, 9, -4547.444060271716, 4547.444060271716)]"
      ]
     },
     "execution_count": 281,
     "metadata": {},
     "output_type": "execute_result"
    }
   ],
   "source": [
    "cov_matrix_int"
   ]
  },
  {
   "cell_type": "code",
   "execution_count": 282,
   "id": "05297b0a-4ebb-425c-b150-3091e1a71fd5",
   "metadata": {},
   "outputs": [
    {
     "data": {
      "text/plain": [
       "45"
      ]
     },
     "execution_count": 282,
     "metadata": {},
     "output_type": "execute_result"
    }
   ],
   "source": [
    "len(cov_matrix_int)"
   ]
  },
  {
   "cell_type": "code",
   "execution_count": 284,
   "id": "abcf4456-6d3e-4294-bd3a-45bdb80f8d0c",
   "metadata": {},
   "outputs": [
    {
     "data": {
      "text/plain": [
       "[84.83470079696076,\n",
       " 213.25898633530392,\n",
       " -30.120029270584887,\n",
       " -29.998898975109814,\n",
       " -44.033810859882635,\n",
       " -22.551753579460932,\n",
       " 560.2415488731199,\n",
       " -180.0639165664329,\n",
       " 87.23639624915484,\n",
       " -160.3939966029119,\n",
       " -6.190398042141709,\n",
       " -17.20631049498677,\n",
       " -12.214557244342387,\n",
       " 2.344576460016812,\n",
       " -476.6310858264252,\n",
       " 27.83895883378443,\n",
       " -125.63944946616758,\n",
       " 142.81662291001413,\n",
       " -67.18151437897237,\n",
       " 877.1642328577973,\n",
       " -5.789265012790366,\n",
       " 263.1443761664841,\n",
       " -1777.0471957853379,\n",
       " 4063.8374762167105,\n",
       " 0.3763482683298385,\n",
       " 8.091318202393865,\n",
       " -7.590393730564337,\n",
       " 184.26873440897515,\n",
       " -63.06912885763421,\n",
       " -27.0652811913682,\n",
       " -20.97653327214432,\n",
       " 4.576797382299749,\n",
       " 99.66222883129745,\n",
       " -24.59738740811008,\n",
       " -63.263748697768364,\n",
       " 1.5309992164270163,\n",
       " 180.5243117299649,\n",
       " 712.2239515790061,\n",
       " 512.5019003268766,\n",
       " 117.3716608731103,\n",
       " -146.10544073988547,\n",
       " 26.90546868556774,\n",
       " -3386.7782107809016,\n",
       " 231.49068994872778,\n",
       " 4166.2985587512385]"
      ]
     },
     "execution_count": 284,
     "metadata": {},
     "output_type": "execute_result"
    }
   ],
   "source": [
    "cov_list = []\n",
    "np.random.seed(25)\n",
    "\n",
    "for i, el in enumerate(cov_matrix_int):\n",
    "    n = np.random.uniform(el[2],el[3])\n",
    "#    print(i)\n",
    "#    if i>(len(cov_matrix_int)/2)-1:\n",
    "#        if (cov_list[el[0]-1] * cov_list[el[1]-1] < 0) and  n < 0:\n",
    "#            n = n   \n",
    "#        else:\n",
    "#            n=-n\n",
    "    cov_list.append(n)\n",
    "cov_list"
   ]
  },
  {
   "cell_type": "code",
   "execution_count": 285,
   "id": "3581ee76-5717-4227-9947-4b65c93a6e35",
   "metadata": {},
   "outputs": [
    {
     "name": "stdout",
     "output_type": "stream",
     "text": [
      "10\n"
     ]
    },
    {
     "data": {
      "text/plain": [
       "array([[0., 0., 0., 0., 0., 0., 0., 0., 0., 0.],\n",
       "       [0., 0., 0., 0., 0., 0., 0., 0., 0., 0.],\n",
       "       [0., 0., 0., 0., 0., 0., 0., 0., 0., 0.],\n",
       "       [0., 0., 0., 0., 0., 0., 0., 0., 0., 0.],\n",
       "       [0., 0., 0., 0., 0., 0., 0., 0., 0., 0.],\n",
       "       [0., 0., 0., 0., 0., 0., 0., 0., 0., 0.],\n",
       "       [0., 0., 0., 0., 0., 0., 0., 0., 0., 0.],\n",
       "       [0., 0., 0., 0., 0., 0., 0., 0., 0., 0.],\n",
       "       [0., 0., 0., 0., 0., 0., 0., 0., 0., 0.],\n",
       "       [0., 0., 0., 0., 0., 0., 0., 0., 0., 0.]])"
      ]
     },
     "execution_count": 285,
     "metadata": {},
     "output_type": "execute_result"
    }
   ],
   "source": [
    "cov_matrix = np.zeros((m, m))\n",
    "print(len(cov_matrix))\n",
    "cov_matrix"
   ]
  },
  {
   "cell_type": "code",
   "execution_count": 286,
   "id": "a52136e8-c8e7-4948-8030-ba7531d92c3b",
   "metadata": {},
   "outputs": [
    {
     "name": "stdout",
     "output_type": "stream",
     "text": [
      "[[  246.17    84.83   213.26   -30.12   -30.     -44.03   -22.55   560.24  -180.06    87.24]\n",
      " [   84.83    53.35  -160.39    -6.19   -17.21   -12.21     2.34  -476.63    27.84  -125.64]\n",
      " [  213.26  -160.39  6822.95   142.82   -67.18   877.16    -5.79   263.14 -1777.05  4063.84]\n",
      " [  -30.12    -6.19   142.82    18.84     0.38     8.09    -7.59   184.27   -63.07   -27.07]\n",
      " [  -30.     -17.21   -67.18     0.38     9.26   -20.98     4.58    99.66   -24.6    -63.26]\n",
      " [  -44.03   -12.21   877.16     8.09   -20.98   249.16     1.53   180.52   712.22   512.5 ]\n",
      " [  -22.55     2.34    -5.79    -7.59     4.58     1.53     3.53   117.37  -146.11    26.91]\n",
      " [  560.24  -476.63   263.14   184.27    99.66   180.52   117.37  9316.81 -3386.78   231.49]\n",
      " [ -180.06    27.84 -1777.05   -63.07   -24.6    712.22  -146.11 -3386.78  8459.63  4166.3 ]\n",
      " [   87.24  -125.64  4063.84   -27.07   -63.26   512.5     26.91   231.49  4166.3   2444.46]]\n"
     ]
    }
   ],
   "source": [
    "k=0\n",
    "l=0\n",
    "for i in range(len(cov_matrix)):\n",
    "    for j in range(len(cov_matrix)):\n",
    "        if j>i:\n",
    "            cov_matrix[i][j] = cov_matrix[j][i] = cov_list[k]\n",
    "            k += 1\n",
    "        if i == j:\n",
    "            cov_matrix[i][j] = np.square(std_list[l]) \n",
    "            l += 1 \n",
    "np.set_printoptions(suppress=True)\n",
    "print(cov_matrix)"
   ]
  },
  {
   "cell_type": "code",
   "execution_count": 287,
   "id": "9dc01475-9379-4aa0-b5bb-f35e007a7900",
   "metadata": {},
   "outputs": [
    {
     "data": {
      "image/png": "[encoded data removed]",
      "text/plain": [
       "<Figure size 800x600 with 2 Axes>"
      ]
     },
     "metadata": {},
     "output_type": "display_data"
    }
   ],
   "source": [
    "plt.figure(figsize = (8,6))\n",
    "sns.heatmap(cov_matrix, annot=True, fmt='.2f', cmap='YlGnBu');"
   ]
  },
  {
   "cell_type": "code",
   "execution_count": 288,
   "id": "97d3c97e-8daa-429d-9877-05a6c2ea5bd6",
   "metadata": {},
   "outputs": [
    {
     "name": "stderr",
     "output_type": "stream",
     "text": [
      "/var/folders/6l/c4m0953s1_jgnd_y35l2l7kc0000gp/T/ipykernel_11436/3338156928.py:2: RuntimeWarning:\n",
      "\n",
      "covariance is not positive-semidefinite.\n",
      "\n"
     ]
    },
    {
     "data": {
      "text/html": [
       "<div><div id=f79619f8-d5d5-492a-b32c-19570d89be10 style=\"display:none; background-color:#9D6CFF; color:white; width:200px; height:30px; padding-left:5px; border-radius:4px; flex-direction:row; justify-content:space-around; align-items:center;\" onmouseover=\"this.style.backgroundColor='#BA9BF8'\" onmouseout=\"this.style.backgroundColor='#9D6CFF'\" onclick=\"window.commands?.execute('create-mitosheet-from-dataframe-output');\">See Full Dataframe in Mito</div> <script> if (window.commands.hasCommand('create-mitosheet-from-dataframe-output')) document.getElementById('f79619f8-d5d5-492a-b32c-19570d89be10').style.display = 'flex' </script> <table border=\"1\" class=\"dataframe\">\n",
       "  <thead>\n",
       "    <tr style=\"text-align: right;\">\n",
       "      <th></th>\n",
       "      <th>Input 1</th>\n",
       "      <th>Input 2</th>\n",
       "      <th>Input 3</th>\n",
       "      <th>Input 4</th>\n",
       "      <th>Input 5</th>\n",
       "      <th>Input 6</th>\n",
       "      <th>Input 7</th>\n",
       "      <th>Input 8</th>\n",
       "      <th>Input 9</th>\n",
       "      <th>Input 10</th>\n",
       "    </tr>\n",
       "  </thead>\n",
       "  <tbody>\n",
       "    <tr>\n",
       "      <th>DMU 0001</th>\n",
       "      <td>169.60</td>\n",
       "      <td>492.50</td>\n",
       "      <td>352.52</td>\n",
       "      <td>305.09</td>\n",
       "      <td>77.81</td>\n",
       "      <td>91.39</td>\n",
       "      <td>32.77</td>\n",
       "      <td>231.94</td>\n",
       "      <td>338.23</td>\n",
       "      <td>332.79</td>\n",
       "    </tr>\n",
       "    <tr>\n",
       "      <th>DMU 0002</th>\n",
       "      <td>172.26</td>\n",
       "      <td>496.10</td>\n",
       "      <td>281.77</td>\n",
       "      <td>305.23</td>\n",
       "      <td>81.63</td>\n",
       "      <td>73.50</td>\n",
       "      <td>31.20</td>\n",
       "      <td>315.55</td>\n",
       "      <td>264.37</td>\n",
       "      <td>331.67</td>\n",
       "    </tr>\n",
       "    <tr>\n",
       "      <th>DMU 0003</th>\n",
       "      <td>186.21</td>\n",
       "      <td>455.96</td>\n",
       "      <td>462.86</td>\n",
       "      <td>323.79</td>\n",
       "      <td>85.23</td>\n",
       "      <td>104.32</td>\n",
       "      <td>32.89</td>\n",
       "      <td>621.81</td>\n",
       "      <td>121.90</td>\n",
       "      <td>485.79</td>\n",
       "    </tr>\n",
       "    <tr>\n",
       "      <th>DMU 0004</th>\n",
       "      <td>173.44</td>\n",
       "      <td>471.56</td>\n",
       "      <td>418.37</td>\n",
       "      <td>310.61</td>\n",
       "      <td>83.49</td>\n",
       "      <td>96.41</td>\n",
       "      <td>41.67</td>\n",
       "      <td>479.39</td>\n",
       "      <td>301.93</td>\n",
       "      <td>364.33</td>\n",
       "    </tr>\n",
       "    <tr>\n",
       "      <th>DMU 0005</th>\n",
       "      <td>195.20</td>\n",
       "      <td>495.97</td>\n",
       "      <td>431.04</td>\n",
       "      <td>303.77</td>\n",
       "      <td>75.72</td>\n",
       "      <td>85.24</td>\n",
       "      <td>32.11</td>\n",
       "      <td>343.47</td>\n",
       "      <td>329.76</td>\n",
       "      <td>364.38</td>\n",
       "    </tr>\n",
       "    <tr>\n",
       "      <th>...</th>\n",
       "      <td>...</td>\n",
       "      <td>...</td>\n",
       "      <td>...</td>\n",
       "      <td>...</td>\n",
       "      <td>...</td>\n",
       "      <td>...</td>\n",
       "      <td>...</td>\n",
       "      <td>...</td>\n",
       "      <td>...</td>\n",
       "      <td>...</td>\n",
       "    </tr>\n",
       "    <tr>\n",
       "      <th>DMU 0996</th>\n",
       "      <td>172.49</td>\n",
       "      <td>489.03</td>\n",
       "      <td>340.92</td>\n",
       "      <td>307.38</td>\n",
       "      <td>79.45</td>\n",
       "      <td>80.75</td>\n",
       "      <td>30.37</td>\n",
       "      <td>345.27</td>\n",
       "      <td>382.56</td>\n",
       "      <td>301.37</td>\n",
       "    </tr>\n",
       "    <tr>\n",
       "      <th>DMU 0997</th>\n",
       "      <td>184.94</td>\n",
       "      <td>474.55</td>\n",
       "      <td>373.24</td>\n",
       "      <td>302.08</td>\n",
       "      <td>80.16</td>\n",
       "      <td>85.76</td>\n",
       "      <td>34.21</td>\n",
       "      <td>422.80</td>\n",
       "      <td>363.30</td>\n",
       "      <td>354.95</td>\n",
       "    </tr>\n",
       "    <tr>\n",
       "      <th>DMU 0998</th>\n",
       "      <td>176.65</td>\n",
       "      <td>479.97</td>\n",
       "      <td>355.14</td>\n",
       "      <td>309.04</td>\n",
       "      <td>82.61</td>\n",
       "      <td>90.41</td>\n",
       "      <td>29.81</td>\n",
       "      <td>408.28</td>\n",
       "      <td>342.84</td>\n",
       "      <td>428.24</td>\n",
       "    </tr>\n",
       "    <tr>\n",
       "      <th>DMU 0999</th>\n",
       "      <td>184.19</td>\n",
       "      <td>473.24</td>\n",
       "      <td>368.16</td>\n",
       "      <td>309.93</td>\n",
       "      <td>85.10</td>\n",
       "      <td>63.12</td>\n",
       "      <td>40.97</td>\n",
       "      <td>641.36</td>\n",
       "      <td>85.58</td>\n",
       "      <td>241.68</td>\n",
       "    </tr>\n",
       "    <tr>\n",
       "      <th>DMU 1000</th>\n",
       "      <td>199.42</td>\n",
       "      <td>490.69</td>\n",
       "      <td>375.84</td>\n",
       "      <td>308.83</td>\n",
       "      <td>75.82</td>\n",
       "      <td>92.46</td>\n",
       "      <td>34.56</td>\n",
       "      <td>522.95</td>\n",
       "      <td>296.88</td>\n",
       "      <td>338.21</td>\n",
       "    </tr>\n",
       "  </tbody>\n",
       "</table></div>"
      ],
      "text/plain": [
       "          Input 1  Input 2  Input 3  Input 4  Input 5  Input 6  Input 7  \\\n",
       "DMU 0001   169.60   492.50   352.52   305.09    77.81    91.39    32.77   \n",
       "DMU 0002   172.26   496.10   281.77   305.23    81.63    73.50    31.20   \n",
       "DMU 0003   186.21   455.96   462.86   323.79    85.23   104.32    32.89   \n",
       "DMU 0004   173.44   471.56   418.37   310.61    83.49    96.41    41.67   \n",
       "DMU 0005   195.20   495.97   431.04   303.77    75.72    85.24    32.11   \n",
       "...           ...      ...      ...      ...      ...      ...      ...   \n",
       "DMU 0996   172.49   489.03   340.92   307.38    79.45    80.75    30.37   \n",
       "DMU 0997   184.94   474.55   373.24   302.08    80.16    85.76    34.21   \n",
       "DMU 0998   176.65   479.97   355.14   309.04    82.61    90.41    29.81   \n",
       "DMU 0999   184.19   473.24   368.16   309.93    85.10    63.12    40.97   \n",
       "DMU 1000   199.42   490.69   375.84   308.83    75.82    92.46    34.56   \n",
       "\n",
       "          Input 8  Input 9  Input 10  \n",
       "DMU 0001   231.94   338.23    332.79  \n",
       "DMU 0002   315.55   264.37    331.67  \n",
       "DMU 0003   621.81   121.90    485.79  \n",
       "DMU 0004   479.39   301.93    364.33  \n",
       "DMU 0005   343.47   329.76    364.38  \n",
       "...           ...      ...       ...  \n",
       "DMU 0996   345.27   382.56    301.37  \n",
       "DMU 0997   422.80   363.30    354.95  \n",
       "DMU 0998   408.28   342.84    428.24  \n",
       "DMU 0999   641.36    85.58    241.68  \n",
       "DMU 1000   522.95   296.88    338.21  \n",
       "\n",
       "[1000 rows x 10 columns]"
      ]
     },
     "execution_count": 288,
     "metadata": {},
     "output_type": "execute_result"
    }
   ],
   "source": [
    "np.random.seed(10)\n",
    "df51 = pd.DataFrame(np.random.multivariate_normal(mean_q, cov_matrix, 1000))\n",
    "df51.columns = [\"Input \" + str(i + 1) for i in range(m)]\n",
    "df51.index = [\"DMU \" + str(i + 1).zfill(4) for i in range(len(df51))]\n",
    "df51 = df51.round(2)\n",
    "df51"
   ]
  },
  {
   "cell_type": "code",
   "execution_count": 289,
   "id": "4623de75-9155-4253-bc11-968554ac7ae3",
   "metadata": {},
   "outputs": [
    {
     "data": {
      "text/html": [
       "<div><div id=83f7a7d7-ffb7-4c50-a987-8f2e09118d59 style=\"display:none; background-color:#9D6CFF; color:white; width:200px; height:30px; padding-left:5px; border-radius:4px; flex-direction:row; justify-content:space-around; align-items:center;\" onmouseover=\"this.style.backgroundColor='#BA9BF8'\" onmouseout=\"this.style.backgroundColor='#9D6CFF'\" onclick=\"window.commands?.execute('create-mitosheet-from-dataframe-output');\">See Full Dataframe in Mito</div> <script> if (window.commands.hasCommand('create-mitosheet-from-dataframe-output')) document.getElementById('83f7a7d7-ffb7-4c50-a987-8f2e09118d59').style.display = 'flex' </script> <table border=\"1\" class=\"dataframe\">\n",
       "  <thead>\n",
       "    <tr style=\"text-align: right;\">\n",
       "      <th></th>\n",
       "      <th>Input 1</th>\n",
       "      <th>Input 2</th>\n",
       "      <th>Input 3</th>\n",
       "      <th>Input 4</th>\n",
       "      <th>Input 5</th>\n",
       "      <th>Input 6</th>\n",
       "      <th>Input 7</th>\n",
       "      <th>Input 8</th>\n",
       "      <th>Input 9</th>\n",
       "      <th>Input 10</th>\n",
       "    </tr>\n",
       "  </thead>\n",
       "  <tbody>\n",
       "    <tr>\n",
       "      <th>count</th>\n",
       "      <td>1000.000000</td>\n",
       "      <td>1000.000000</td>\n",
       "      <td>1000.000000</td>\n",
       "      <td>1000.000000</td>\n",
       "      <td>1000.000000</td>\n",
       "      <td>1000.000000</td>\n",
       "      <td>1000.000000</td>\n",
       "      <td>1000.000000</td>\n",
       "      <td>1000.000000</td>\n",
       "      <td>1000.000000</td>\n",
       "    </tr>\n",
       "    <tr>\n",
       "      <th>mean</th>\n",
       "      <td>188.304340</td>\n",
       "      <td>483.744350</td>\n",
       "      <td>368.238880</td>\n",
       "      <td>306.221910</td>\n",
       "      <td>79.519320</td>\n",
       "      <td>87.978500</td>\n",
       "      <td>34.430610</td>\n",
       "      <td>430.841340</td>\n",
       "      <td>302.910420</td>\n",
       "      <td>358.565130</td>\n",
       "    </tr>\n",
       "    <tr>\n",
       "      <th>std</th>\n",
       "      <td>15.967485</td>\n",
       "      <td>10.712813</td>\n",
       "      <td>85.745906</td>\n",
       "      <td>5.965851</td>\n",
       "      <td>3.211277</td>\n",
       "      <td>17.799558</td>\n",
       "      <td>5.013746</td>\n",
       "      <td>96.122814</td>\n",
       "      <td>97.186221</td>\n",
       "      <td>69.438651</td>\n",
       "    </tr>\n",
       "    <tr>\n",
       "      <th>min</th>\n",
       "      <td>143.380000</td>\n",
       "      <td>447.530000</td>\n",
       "      <td>103.780000</td>\n",
       "      <td>285.660000</td>\n",
       "      <td>70.040000</td>\n",
       "      <td>30.170000</td>\n",
       "      <td>15.070000</td>\n",
       "      <td>130.060000</td>\n",
       "      <td>29.240000</td>\n",
       "      <td>117.050000</td>\n",
       "    </tr>\n",
       "    <tr>\n",
       "      <th>25%</th>\n",
       "      <td>177.217500</td>\n",
       "      <td>476.237500</td>\n",
       "      <td>309.850000</td>\n",
       "      <td>302.180000</td>\n",
       "      <td>77.280000</td>\n",
       "      <td>76.075000</td>\n",
       "      <td>31.097500</td>\n",
       "      <td>359.480000</td>\n",
       "      <td>237.662500</td>\n",
       "      <td>309.717500</td>\n",
       "    </tr>\n",
       "    <tr>\n",
       "      <th>50%</th>\n",
       "      <td>188.425000</td>\n",
       "      <td>483.550000</td>\n",
       "      <td>367.875000</td>\n",
       "      <td>306.225000</td>\n",
       "      <td>79.360000</td>\n",
       "      <td>87.605000</td>\n",
       "      <td>34.580000</td>\n",
       "      <td>431.960000</td>\n",
       "      <td>307.530000</td>\n",
       "      <td>358.435000</td>\n",
       "    </tr>\n",
       "    <tr>\n",
       "      <th>75%</th>\n",
       "      <td>198.872500</td>\n",
       "      <td>490.795000</td>\n",
       "      <td>425.865000</td>\n",
       "      <td>310.012500</td>\n",
       "      <td>81.790000</td>\n",
       "      <td>100.727500</td>\n",
       "      <td>37.697500</td>\n",
       "      <td>495.205000</td>\n",
       "      <td>367.452500</td>\n",
       "      <td>405.082500</td>\n",
       "    </tr>\n",
       "    <tr>\n",
       "      <th>max</th>\n",
       "      <td>233.270000</td>\n",
       "      <td>517.030000</td>\n",
       "      <td>644.810000</td>\n",
       "      <td>325.040000</td>\n",
       "      <td>90.650000</td>\n",
       "      <td>139.250000</td>\n",
       "      <td>49.930000</td>\n",
       "      <td>700.410000</td>\n",
       "      <td>626.470000</td>\n",
       "      <td>588.740000</td>\n",
       "    </tr>\n",
       "  </tbody>\n",
       "</table></div>"
      ],
      "text/plain": [
       "           Input 1      Input 2      Input 3      Input 4      Input 5  \\\n",
       "count  1000.000000  1000.000000  1000.000000  1000.000000  1000.000000   \n",
       "mean    188.304340   483.744350   368.238880   306.221910    79.519320   \n",
       "std      15.967485    10.712813    85.745906     5.965851     3.211277   \n",
       "min     143.380000   447.530000   103.780000   285.660000    70.040000   \n",
       "25%     177.217500   476.237500   309.850000   302.180000    77.280000   \n",
       "50%     188.425000   483.550000   367.875000   306.225000    79.360000   \n",
       "75%     198.872500   490.795000   425.865000   310.012500    81.790000   \n",
       "max     233.270000   517.030000   644.810000   325.040000    90.650000   \n",
       "\n",
       "           Input 6      Input 7      Input 8      Input 9     Input 10  \n",
       "count  1000.000000  1000.000000  1000.000000  1000.000000  1000.000000  \n",
       "mean     87.978500    34.430610   430.841340   302.910420   358.565130  \n",
       "std      17.799558     5.013746    96.122814    97.186221    69.438651  \n",
       "min      30.170000    15.070000   130.060000    29.240000   117.050000  \n",
       "25%      76.075000    31.097500   359.480000   237.662500   309.717500  \n",
       "50%      87.605000    34.580000   431.960000   307.530000   358.435000  \n",
       "75%     100.727500    37.697500   495.205000   367.452500   405.082500  \n",
       "max     139.250000    49.930000   700.410000   626.470000   588.740000  "
      ]
     },
     "execution_count": 289,
     "metadata": {},
     "output_type": "execute_result"
    }
   ],
   "source": [
    "df51.describe()"
   ]
  },
  {
   "cell_type": "code",
   "execution_count": 293,
   "id": "e8c3fa71-f8d3-4911-a6e7-316ceaeae7b7",
   "metadata": {},
   "outputs": [
    {
     "name": "stdout",
     "output_type": "stream",
     "text": [
      "[0.09011072565338119, 0.6300260866491934, 0.7718309249388277, 0.8675893309191616, 1.1915947878996822, 1.384599030187875, 1.6172446938174319, 1.9247344613240183, 1.9609072616782854, 2.9664336312111645]\n"
     ]
    }
   ],
   "source": [
    "random.seed(30)  # Set the random seed for reproducibility\n",
    "\n",
    "numbers = sorted([random.uniform(0, 3) for _ in range(m)])\n",
    "print(numbers)"
   ]
  },
  {
   "cell_type": "code",
   "execution_count": 294,
   "id": "8f72100e-7af7-4ec1-b25d-0a4297760d29",
   "metadata": {},
   "outputs": [],
   "source": [
    "df511 = df51 * np.array(numbers)"
   ]
  },
  {
   "cell_type": "code",
   "execution_count": 295,
   "id": "82b7f892-61d4-4570-b111-8ddb992a8a05",
   "metadata": {},
   "outputs": [],
   "source": [
    "# Add noise to each column\n",
    "noise_std = df51.std().mean()\n",
    "df512 = df511 + np.random.normal(0, noise_std, size=df51.shape)"
   ]
  },
  {
   "cell_type": "code",
   "execution_count": 296,
   "id": "e86fed07-8d84-4ad9-aa09-285a3dad5bc6",
   "metadata": {},
   "outputs": [],
   "source": [
    "df51[\"Output\"] = df512.sum(axis=1)"
   ]
  },
  {
   "cell_type": "code",
   "execution_count": 297,
   "id": "781b8222-ecb4-4bd4-8dc3-323985393e33",
   "metadata": {},
   "outputs": [
    {
     "data": {
      "text/html": [
       "<div><div id=bda35daf-b699-4308-94c9-703b01786648 style=\"display:none; background-color:#9D6CFF; color:white; width:200px; height:30px; padding-left:5px; border-radius:4px; flex-direction:row; justify-content:space-around; align-items:center;\" onmouseover=\"this.style.backgroundColor='#BA9BF8'\" onmouseout=\"this.style.backgroundColor='#9D6CFF'\" onclick=\"window.commands?.execute('create-mitosheet-from-dataframe-output');\">See Full Dataframe in Mito</div> <script> if (window.commands.hasCommand('create-mitosheet-from-dataframe-output')) document.getElementById('bda35daf-b699-4308-94c9-703b01786648').style.display = 'flex' </script> <table border=\"1\" class=\"dataframe\">\n",
       "  <thead>\n",
       "    <tr style=\"text-align: right;\">\n",
       "      <th></th>\n",
       "      <th>Input 1</th>\n",
       "      <th>Input 2</th>\n",
       "      <th>Input 3</th>\n",
       "      <th>Input 4</th>\n",
       "      <th>Input 5</th>\n",
       "      <th>Input 6</th>\n",
       "      <th>Input 7</th>\n",
       "      <th>Input 8</th>\n",
       "      <th>Input 9</th>\n",
       "      <th>Input 10</th>\n",
       "      <th>Output</th>\n",
       "    </tr>\n",
       "  </thead>\n",
       "  <tbody>\n",
       "    <tr>\n",
       "      <th>DMU 0001</th>\n",
       "      <td>169.60</td>\n",
       "      <td>492.50</td>\n",
       "      <td>352.52</td>\n",
       "      <td>305.09</td>\n",
       "      <td>77.81</td>\n",
       "      <td>91.39</td>\n",
       "      <td>32.77</td>\n",
       "      <td>231.94</td>\n",
       "      <td>338.23</td>\n",
       "      <td>332.79</td>\n",
       "      <td>3177.431552</td>\n",
       "    </tr>\n",
       "    <tr>\n",
       "      <th>DMU 0002</th>\n",
       "      <td>172.26</td>\n",
       "      <td>496.10</td>\n",
       "      <td>281.77</td>\n",
       "      <td>305.23</td>\n",
       "      <td>81.63</td>\n",
       "      <td>73.50</td>\n",
       "      <td>31.20</td>\n",
       "      <td>315.55</td>\n",
       "      <td>264.37</td>\n",
       "      <td>331.67</td>\n",
       "      <td>3393.323380</td>\n",
       "    </tr>\n",
       "    <tr>\n",
       "      <th>DMU 0003</th>\n",
       "      <td>186.21</td>\n",
       "      <td>455.96</td>\n",
       "      <td>462.86</td>\n",
       "      <td>323.79</td>\n",
       "      <td>85.23</td>\n",
       "      <td>104.32</td>\n",
       "      <td>32.89</td>\n",
       "      <td>621.81</td>\n",
       "      <td>121.90</td>\n",
       "      <td>485.79</td>\n",
       "      <td>3939.339460</td>\n",
       "    </tr>\n",
       "    <tr>\n",
       "      <th>DMU 0004</th>\n",
       "      <td>173.44</td>\n",
       "      <td>471.56</td>\n",
       "      <td>418.37</td>\n",
       "      <td>310.61</td>\n",
       "      <td>83.49</td>\n",
       "      <td>96.41</td>\n",
       "      <td>41.67</td>\n",
       "      <td>479.39</td>\n",
       "      <td>301.93</td>\n",
       "      <td>364.33</td>\n",
       "      <td>3760.153721</td>\n",
       "    </tr>\n",
       "    <tr>\n",
       "      <th>DMU 0005</th>\n",
       "      <td>195.20</td>\n",
       "      <td>495.97</td>\n",
       "      <td>431.04</td>\n",
       "      <td>303.77</td>\n",
       "      <td>75.72</td>\n",
       "      <td>85.24</td>\n",
       "      <td>32.11</td>\n",
       "      <td>343.47</td>\n",
       "      <td>329.76</td>\n",
       "      <td>364.38</td>\n",
       "      <td>3712.694196</td>\n",
       "    </tr>\n",
       "    <tr>\n",
       "      <th>...</th>\n",
       "      <td>...</td>\n",
       "      <td>...</td>\n",
       "      <td>...</td>\n",
       "      <td>...</td>\n",
       "      <td>...</td>\n",
       "      <td>...</td>\n",
       "      <td>...</td>\n",
       "      <td>...</td>\n",
       "      <td>...</td>\n",
       "      <td>...</td>\n",
       "      <td>...</td>\n",
       "    </tr>\n",
       "    <tr>\n",
       "      <th>DMU 0996</th>\n",
       "      <td>172.49</td>\n",
       "      <td>489.03</td>\n",
       "      <td>340.92</td>\n",
       "      <td>307.38</td>\n",
       "      <td>79.45</td>\n",
       "      <td>80.75</td>\n",
       "      <td>30.37</td>\n",
       "      <td>345.27</td>\n",
       "      <td>382.56</td>\n",
       "      <td>301.37</td>\n",
       "      <td>3159.503640</td>\n",
       "    </tr>\n",
       "    <tr>\n",
       "      <th>DMU 0997</th>\n",
       "      <td>184.94</td>\n",
       "      <td>474.55</td>\n",
       "      <td>373.24</td>\n",
       "      <td>302.08</td>\n",
       "      <td>80.16</td>\n",
       "      <td>85.76</td>\n",
       "      <td>34.21</td>\n",
       "      <td>422.80</td>\n",
       "      <td>363.30</td>\n",
       "      <td>354.95</td>\n",
       "      <td>3784.893512</td>\n",
       "    </tr>\n",
       "    <tr>\n",
       "      <th>DMU 0998</th>\n",
       "      <td>176.65</td>\n",
       "      <td>479.97</td>\n",
       "      <td>355.14</td>\n",
       "      <td>309.04</td>\n",
       "      <td>82.61</td>\n",
       "      <td>90.41</td>\n",
       "      <td>29.81</td>\n",
       "      <td>408.28</td>\n",
       "      <td>342.84</td>\n",
       "      <td>428.24</td>\n",
       "      <td>3834.117488</td>\n",
       "    </tr>\n",
       "    <tr>\n",
       "      <th>DMU 0999</th>\n",
       "      <td>184.19</td>\n",
       "      <td>473.24</td>\n",
       "      <td>368.16</td>\n",
       "      <td>309.93</td>\n",
       "      <td>85.10</td>\n",
       "      <td>63.12</td>\n",
       "      <td>40.97</td>\n",
       "      <td>641.36</td>\n",
       "      <td>85.58</td>\n",
       "      <td>241.68</td>\n",
       "      <td>3272.959890</td>\n",
       "    </tr>\n",
       "    <tr>\n",
       "      <th>DMU 1000</th>\n",
       "      <td>199.42</td>\n",
       "      <td>490.69</td>\n",
       "      <td>375.84</td>\n",
       "      <td>308.83</td>\n",
       "      <td>75.82</td>\n",
       "      <td>92.46</td>\n",
       "      <td>34.56</td>\n",
       "      <td>522.95</td>\n",
       "      <td>296.88</td>\n",
       "      <td>338.21</td>\n",
       "      <td>3603.570316</td>\n",
       "    </tr>\n",
       "  </tbody>\n",
       "</table></div>"
      ],
      "text/plain": [
       "          Input 1  Input 2  Input 3  Input 4  Input 5  Input 6  Input 7  \\\n",
       "DMU 0001   169.60   492.50   352.52   305.09    77.81    91.39    32.77   \n",
       "DMU 0002   172.26   496.10   281.77   305.23    81.63    73.50    31.20   \n",
       "DMU 0003   186.21   455.96   462.86   323.79    85.23   104.32    32.89   \n",
       "DMU 0004   173.44   471.56   418.37   310.61    83.49    96.41    41.67   \n",
       "DMU 0005   195.20   495.97   431.04   303.77    75.72    85.24    32.11   \n",
       "...           ...      ...      ...      ...      ...      ...      ...   \n",
       "DMU 0996   172.49   489.03   340.92   307.38    79.45    80.75    30.37   \n",
       "DMU 0997   184.94   474.55   373.24   302.08    80.16    85.76    34.21   \n",
       "DMU 0998   176.65   479.97   355.14   309.04    82.61    90.41    29.81   \n",
       "DMU 0999   184.19   473.24   368.16   309.93    85.10    63.12    40.97   \n",
       "DMU 1000   199.42   490.69   375.84   308.83    75.82    92.46    34.56   \n",
       "\n",
       "          Input 8  Input 9  Input 10       Output  \n",
       "DMU 0001   231.94   338.23    332.79  3177.431552  \n",
       "DMU 0002   315.55   264.37    331.67  3393.323380  \n",
       "DMU 0003   621.81   121.90    485.79  3939.339460  \n",
       "DMU 0004   479.39   301.93    364.33  3760.153721  \n",
       "DMU 0005   343.47   329.76    364.38  3712.694196  \n",
       "...           ...      ...       ...          ...  \n",
       "DMU 0996   345.27   382.56    301.37  3159.503640  \n",
       "DMU 0997   422.80   363.30    354.95  3784.893512  \n",
       "DMU 0998   408.28   342.84    428.24  3834.117488  \n",
       "DMU 0999   641.36    85.58    241.68  3272.959890  \n",
       "DMU 1000   522.95   296.88    338.21  3603.570316  \n",
       "\n",
       "[1000 rows x 11 columns]"
      ]
     },
     "execution_count": 297,
     "metadata": {},
     "output_type": "execute_result"
    }
   ],
   "source": [
    "df51"
   ]
  },
  {
   "cell_type": "code",
   "execution_count": 298,
   "id": "715f467d-d375-49c3-836a-c80f8aef87fc",
   "metadata": {},
   "outputs": [
    {
     "data": {
      "text/html": [
       "<div><div id=81a213aa-8965-4a0e-af66-483a55aa89ab style=\"display:none; background-color:#9D6CFF; color:white; width:200px; height:30px; padding-left:5px; border-radius:4px; flex-direction:row; justify-content:space-around; align-items:center;\" onmouseover=\"this.style.backgroundColor='#BA9BF8'\" onmouseout=\"this.style.backgroundColor='#9D6CFF'\" onclick=\"window.commands?.execute('create-mitosheet-from-dataframe-output');\">See Full Dataframe in Mito</div> <script> if (window.commands.hasCommand('create-mitosheet-from-dataframe-output')) document.getElementById('81a213aa-8965-4a0e-af66-483a55aa89ab').style.display = 'flex' </script> <table border=\"1\" class=\"dataframe\">\n",
       "  <thead>\n",
       "    <tr style=\"text-align: right;\">\n",
       "      <th></th>\n",
       "      <th>Input 1</th>\n",
       "      <th>Input 2</th>\n",
       "      <th>Input 3</th>\n",
       "      <th>Input 4</th>\n",
       "      <th>Input 5</th>\n",
       "      <th>Input 6</th>\n",
       "      <th>Input 7</th>\n",
       "      <th>Input 8</th>\n",
       "      <th>Input 9</th>\n",
       "      <th>Input 10</th>\n",
       "      <th>Output</th>\n",
       "    </tr>\n",
       "  </thead>\n",
       "  <tbody>\n",
       "    <tr>\n",
       "      <th>count</th>\n",
       "      <td>1000.000000</td>\n",
       "      <td>1000.000000</td>\n",
       "      <td>1000.000000</td>\n",
       "      <td>1000.000000</td>\n",
       "      <td>1000.000000</td>\n",
       "      <td>1000.000000</td>\n",
       "      <td>1000.000000</td>\n",
       "      <td>1000.000000</td>\n",
       "      <td>1000.000000</td>\n",
       "      <td>1000.000000</td>\n",
       "      <td>1000.000000</td>\n",
       "    </tr>\n",
       "    <tr>\n",
       "      <th>mean</th>\n",
       "      <td>188.304340</td>\n",
       "      <td>483.744350</td>\n",
       "      <td>368.238880</td>\n",
       "      <td>306.221910</td>\n",
       "      <td>79.519320</td>\n",
       "      <td>87.978500</td>\n",
       "      <td>34.430610</td>\n",
       "      <td>430.841340</td>\n",
       "      <td>302.910420</td>\n",
       "      <td>358.565130</td>\n",
       "      <td>3629.857527</td>\n",
       "    </tr>\n",
       "    <tr>\n",
       "      <th>std</th>\n",
       "      <td>15.967485</td>\n",
       "      <td>10.712813</td>\n",
       "      <td>85.745906</td>\n",
       "      <td>5.965851</td>\n",
       "      <td>3.211277</td>\n",
       "      <td>17.799558</td>\n",
       "      <td>5.013746</td>\n",
       "      <td>96.122814</td>\n",
       "      <td>97.186221</td>\n",
       "      <td>69.438651</td>\n",
       "      <td>393.690460</td>\n",
       "    </tr>\n",
       "    <tr>\n",
       "      <th>min</th>\n",
       "      <td>143.380000</td>\n",
       "      <td>447.530000</td>\n",
       "      <td>103.780000</td>\n",
       "      <td>285.660000</td>\n",
       "      <td>70.040000</td>\n",
       "      <td>30.170000</td>\n",
       "      <td>15.070000</td>\n",
       "      <td>130.060000</td>\n",
       "      <td>29.240000</td>\n",
       "      <td>117.050000</td>\n",
       "      <td>2280.913676</td>\n",
       "    </tr>\n",
       "    <tr>\n",
       "      <th>25%</th>\n",
       "      <td>177.217500</td>\n",
       "      <td>476.237500</td>\n",
       "      <td>309.850000</td>\n",
       "      <td>302.180000</td>\n",
       "      <td>77.280000</td>\n",
       "      <td>76.075000</td>\n",
       "      <td>31.097500</td>\n",
       "      <td>359.480000</td>\n",
       "      <td>237.662500</td>\n",
       "      <td>309.717500</td>\n",
       "      <td>3352.302998</td>\n",
       "    </tr>\n",
       "    <tr>\n",
       "      <th>50%</th>\n",
       "      <td>188.425000</td>\n",
       "      <td>483.550000</td>\n",
       "      <td>367.875000</td>\n",
       "      <td>306.225000</td>\n",
       "      <td>79.360000</td>\n",
       "      <td>87.605000</td>\n",
       "      <td>34.580000</td>\n",
       "      <td>431.960000</td>\n",
       "      <td>307.530000</td>\n",
       "      <td>358.435000</td>\n",
       "      <td>3644.106885</td>\n",
       "    </tr>\n",
       "    <tr>\n",
       "      <th>75%</th>\n",
       "      <td>198.872500</td>\n",
       "      <td>490.795000</td>\n",
       "      <td>425.865000</td>\n",
       "      <td>310.012500</td>\n",
       "      <td>81.790000</td>\n",
       "      <td>100.727500</td>\n",
       "      <td>37.697500</td>\n",
       "      <td>495.205000</td>\n",
       "      <td>367.452500</td>\n",
       "      <td>405.082500</td>\n",
       "      <td>3900.942397</td>\n",
       "    </tr>\n",
       "    <tr>\n",
       "      <th>max</th>\n",
       "      <td>233.270000</td>\n",
       "      <td>517.030000</td>\n",
       "      <td>644.810000</td>\n",
       "      <td>325.040000</td>\n",
       "      <td>90.650000</td>\n",
       "      <td>139.250000</td>\n",
       "      <td>49.930000</td>\n",
       "      <td>700.410000</td>\n",
       "      <td>626.470000</td>\n",
       "      <td>588.740000</td>\n",
       "      <td>4901.006726</td>\n",
       "    </tr>\n",
       "  </tbody>\n",
       "</table></div>"
      ],
      "text/plain": [
       "           Input 1      Input 2      Input 3      Input 4      Input 5  \\\n",
       "count  1000.000000  1000.000000  1000.000000  1000.000000  1000.000000   \n",
       "mean    188.304340   483.744350   368.238880   306.221910    79.519320   \n",
       "std      15.967485    10.712813    85.745906     5.965851     3.211277   \n",
       "min     143.380000   447.530000   103.780000   285.660000    70.040000   \n",
       "25%     177.217500   476.237500   309.850000   302.180000    77.280000   \n",
       "50%     188.425000   483.550000   367.875000   306.225000    79.360000   \n",
       "75%     198.872500   490.795000   425.865000   310.012500    81.790000   \n",
       "max     233.270000   517.030000   644.810000   325.040000    90.650000   \n",
       "\n",
       "           Input 6      Input 7      Input 8      Input 9     Input 10  \\\n",
       "count  1000.000000  1000.000000  1000.000000  1000.000000  1000.000000   \n",
       "mean     87.978500    34.430610   430.841340   302.910420   358.565130   \n",
       "std      17.799558     5.013746    96.122814    97.186221    69.438651   \n",
       "min      30.170000    15.070000   130.060000    29.240000   117.050000   \n",
       "25%      76.075000    31.097500   359.480000   237.662500   309.717500   \n",
       "50%      87.605000    34.580000   431.960000   307.530000   358.435000   \n",
       "75%     100.727500    37.697500   495.205000   367.452500   405.082500   \n",
       "max     139.250000    49.930000   700.410000   626.470000   588.740000   \n",
       "\n",
       "            Output  \n",
       "count  1000.000000  \n",
       "mean   3629.857527  \n",
       "std     393.690460  \n",
       "min    2280.913676  \n",
       "25%    3352.302998  \n",
       "50%    3644.106885  \n",
       "75%    3900.942397  \n",
       "max    4901.006726  "
      ]
     },
     "execution_count": 298,
     "metadata": {},
     "output_type": "execute_result"
    }
   ],
   "source": [
    "df51.describe()"
   ]
  },
  {
   "cell_type": "code",
   "execution_count": 299,
   "id": "f951edd5-0428-4b85-97b9-c8f60d253dab",
   "metadata": {},
   "outputs": [],
   "source": [
    "df51.to_excel(\"Data/RealData/Simulation/df102.xlsx\")"
   ]
  },
  {
   "cell_type": "code",
   "execution_count": 300,
   "id": "f1e73b91-256d-4d94-9794-e0ecddf060f8",
   "metadata": {},
   "outputs": [
    {
     "data": {
      "text/plain": [
       "Input 1     0\n",
       "Input 2     0\n",
       "Input 3     0\n",
       "Input 4     0\n",
       "Input 5     0\n",
       "Input 6     0\n",
       "Input 7     0\n",
       "Input 8     0\n",
       "Input 9     0\n",
       "Input 10    0\n",
       "Output      0\n",
       "dtype: int64"
      ]
     },
     "execution_count": 300,
     "metadata": {},
     "output_type": "execute_result"
    }
   ],
   "source": [
    "(df51<=0).sum()"
   ]
  },
  {
   "cell_type": "code",
   "execution_count": null,
   "id": "dcd509f9-aa77-4858-8a95-4c8a1223d2e4",
   "metadata": {},
   "outputs": [],
   "source": []
  }
 ],
 "metadata": {
  "kernelspec": {
   "display_name": "Python 3 (ipykernel)",
   "language": "python",
   "name": "python3"
  },
  "language_info": {
   "codemirror_mode": {
    "name": "ipython",
    "version": 3
   },
   "file_extension": ".py",
   "mimetype": "text/x-python",
   "name": "python",
   "nbconvert_exporter": "python",
   "pygments_lexer": "ipython3",
   "version": "3.8.15"
  },
  "toc-autonumbering": false,
  "toc-showcode": false,
  "toc-showmarkdowntxt": true
 },
 "nbformat": 4,
 "nbformat_minor": 5
}

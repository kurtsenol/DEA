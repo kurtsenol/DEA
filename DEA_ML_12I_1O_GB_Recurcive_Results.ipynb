{
 "cells": [
  {
   "cell_type": "code",
   "execution_count": null,
   "id": "a86954ba-3efc-4b5d-b5f8-d37efabd5366",
   "metadata": {},
   "outputs": [],
   "source": []
  },
  {
   "cell_type": "code",
   "execution_count": 1,
   "id": "fc798ec7",
   "metadata": {},
   "outputs": [],
   "source": [
    "import pandas as pd\n",
    "import numpy as np\n",
    "from scipy import stats\n",
    "import pickle\n",
    "\n",
    "import matplotlib.pyplot as plt\n",
    "import seaborn as sns\n",
    "\n",
    "import xgboost as xgb\n",
    "\n",
    "np.set_printoptions(linewidth=np.inf, suppress=True, precision=2)"
   ]
  },
  {
   "cell_type": "code",
   "execution_count": 2,
   "id": "0dc16ee5-c9ac-4236-9b59-996fecd94413",
   "metadata": {},
   "outputs": [],
   "source": [
    "import mitosheet"
   ]
  },
  {
   "cell_type": "code",
   "execution_count": 3,
   "id": "6d565361-d152-4459-be65-97e811d5d01e",
   "metadata": {},
   "outputs": [
    {
     "data": {
      "text/html": [
       "        <script type=\"text/javascript\">\n",
       "        window.PlotlyConfig = {MathJaxConfig: 'local'};\n",
       "        if (window.MathJax) {MathJax.Hub.Config({SVG: {font: \"STIX-Web\"}});}\n",
       "        if (typeof require !== 'undefined') {\n",
       "        require.undef(\"plotly\");\n",
       "        requirejs.config({\n",
       "            paths: {\n",
       "                'plotly': ['https://cdn.plot.ly/plotly-2.4.1.min']\n",
       "            }\n",
       "        });\n",
       "        require(['plotly'], function(Plotly) {\n",
       "            window._Plotly = Plotly;\n",
       "        });\n",
       "        }\n",
       "        </script>\n",
       "        "
      ]
     },
     "metadata": {},
     "output_type": "display_data"
    }
   ],
   "source": [
    "import plotly.express as px\n",
    "import plotly.offline as pyo\n",
    "import plotly.graph_objs as go\n",
    "from plotly.subplots import make_subplots\n",
    "import plotly.figure_factory as ff\n",
    "\n",
    "pyo.init_notebook_mode(connected=True)"
   ]
  },
  {
   "cell_type": "code",
   "execution_count": 4,
   "id": "94578b71-4eee-47aa-89d8-2b22a5251865",
   "metadata": {},
   "outputs": [],
   "source": [
    "with open('Data/Data12/GB_result_12I1O.pkl', 'rb') as f:\n",
    "    result = pickle.load(f)"
   ]
  },
  {
   "cell_type": "code",
   "execution_count": 5,
   "id": "b4763213-b476-405b-b312-c69d8483b778",
   "metadata": {},
   "outputs": [
    {
     "data": {
      "text/plain": [
       "[(0,\n",
       "  'gradientboostingregressor',\n",
       "  ['Input 01',\n",
       "   'Input 08',\n",
       "   'Input 03',\n",
       "   'Input 09',\n",
       "   'Input 06',\n",
       "   'Input 07',\n",
       "   'Input 04',\n",
       "   'Input 11',\n",
       "   'Input 02',\n",
       "   'Input 12',\n",
       "   'Input 05',\n",
       "   'Input 10'],\n",
       "  {'r2': 0.9365859623389753,\n",
       "   'neg_root_mean_squared_error': -0.03160467707981062,\n",
       "   'total_zeros': 7203}),\n",
       " (1,\n",
       "  'gradientboostingregressor',\n",
       "  ['Input 01',\n",
       "   'Input 06',\n",
       "   'Input 08',\n",
       "   'Input 03',\n",
       "   'Input 12',\n",
       "   'Input 04',\n",
       "   'Input 07',\n",
       "   'Input 11',\n",
       "   'Input 05',\n",
       "   'Input 10',\n",
       "   'Input 02',\n",
       "   'Input 09'],\n",
       "  {'r2': 0.96980598298908,\n",
       "   'neg_root_mean_squared_error': -0.01896877051970531,\n",
       "   'total_zeros': 3765}),\n",
       " (2,\n",
       "  'gradientboostingregressor',\n",
       "  ['Input 01',\n",
       "   'Input 06',\n",
       "   'Input 04',\n",
       "   'Input 12',\n",
       "   'Input 03',\n",
       "   'Input 08',\n",
       "   'Input 05',\n",
       "   'Input 07',\n",
       "   'Input 11',\n",
       "   'Input 09',\n",
       "   'Input 10',\n",
       "   'Input 02'],\n",
       "  {'r2': 0.9701486177450065,\n",
       "   'neg_root_mean_squared_error': -0.019407200891519295,\n",
       "   'total_zeros': 4154}),\n",
       " (3,\n",
       "  'gradientboostingregressor',\n",
       "  ['Input 01',\n",
       "   'Input 06',\n",
       "   'Input 04',\n",
       "   'Input 12',\n",
       "   'Input 09',\n",
       "   'Input 05',\n",
       "   'Input 07',\n",
       "   'Input 11',\n",
       "   'Input 03',\n",
       "   'Input 10',\n",
       "   'Input 08',\n",
       "   'Input 02'],\n",
       "  {'r2': 0.9712688150323772,\n",
       "   'neg_root_mean_squared_error': -0.019407069607957135,\n",
       "   'total_zeros': 3138}),\n",
       " (4,\n",
       "  'gradientboostingregressor',\n",
       "  ['Input 01',\n",
       "   'Input 06',\n",
       "   'Input 04',\n",
       "   'Input 12',\n",
       "   'Input 09',\n",
       "   'Input 05',\n",
       "   'Input 10',\n",
       "   'Input 11',\n",
       "   'Input 07',\n",
       "   'Input 03',\n",
       "   'Input 08',\n",
       "   'Input 02'],\n",
       "  {'r2': 0.9719848144422911,\n",
       "   'neg_root_mean_squared_error': -0.01933521378585893,\n",
       "   'total_zeros': 2661}),\n",
       " (5,\n",
       "  'gradientboostingregressor',\n",
       "  ['Input 01',\n",
       "   'Input 06',\n",
       "   'Input 04',\n",
       "   'Input 12',\n",
       "   'Input 05',\n",
       "   'Input 09',\n",
       "   'Input 10',\n",
       "   'Input 07',\n",
       "   'Input 11',\n",
       "   'Input 02',\n",
       "   'Input 03',\n",
       "   'Input 08'],\n",
       "  {'r2': 0.970683857702238,\n",
       "   'neg_root_mean_squared_error': -0.019802983535445767,\n",
       "   'total_zeros': 2417}),\n",
       " (6,\n",
       "  'gradientboostingregressor',\n",
       "  ['Input 01',\n",
       "   'Input 06',\n",
       "   'Input 04',\n",
       "   'Input 12',\n",
       "   'Input 09',\n",
       "   'Input 05',\n",
       "   'Input 10',\n",
       "   'Input 07',\n",
       "   'Input 03',\n",
       "   'Input 11',\n",
       "   'Input 02',\n",
       "   'Input 08'],\n",
       "  {'r2': 0.9721059310807837,\n",
       "   'neg_root_mean_squared_error': -0.019488438980616207,\n",
       "   'total_zeros': 2965}),\n",
       " (7,\n",
       "  'gradientboostingregressor',\n",
       "  ['Input 01',\n",
       "   'Input 06',\n",
       "   'Input 04',\n",
       "   'Input 09',\n",
       "   'Input 12',\n",
       "   'Input 05',\n",
       "   'Input 10',\n",
       "   'Input 07',\n",
       "   'Input 11',\n",
       "   'Input 08',\n",
       "   'Input 03',\n",
       "   'Input 02'],\n",
       "  {'r2': 0.9702606230159432,\n",
       "   'neg_root_mean_squared_error': -0.019958744620245127,\n",
       "   'total_zeros': 2868}),\n",
       " (8,\n",
       "  'gradientboostingregressor',\n",
       "  ['Input 01',\n",
       "   'Input 06',\n",
       "   'Input 04',\n",
       "   'Input 12',\n",
       "   'Input 05',\n",
       "   'Input 09',\n",
       "   'Input 10',\n",
       "   'Input 07',\n",
       "   'Input 11',\n",
       "   'Input 03',\n",
       "   'Input 02',\n",
       "   'Input 08'],\n",
       "  {'r2': 0.9724805966728987,\n",
       "   'neg_root_mean_squared_error': -0.01914965871673812,\n",
       "   'total_zeros': 2417}),\n",
       " (9,\n",
       "  'gradientboostingregressor',\n",
       "  ['Input 01',\n",
       "   'Input 06',\n",
       "   'Input 04',\n",
       "   'Input 12',\n",
       "   'Input 09',\n",
       "   'Input 05',\n",
       "   'Input 10',\n",
       "   'Input 11',\n",
       "   'Input 07',\n",
       "   'Input 08',\n",
       "   'Input 03',\n",
       "   'Input 02'],\n",
       "  {'r2': 0.9711376012168387,\n",
       "   'neg_root_mean_squared_error': -0.01968460300431094,\n",
       "   'total_zeros': 2731}),\n",
       " (10,\n",
       "  'gradientboostingregressor',\n",
       "  ['Input 01',\n",
       "   'Input 06',\n",
       "   'Input 04',\n",
       "   'Input 12',\n",
       "   'Input 09',\n",
       "   'Input 05',\n",
       "   'Input 07',\n",
       "   'Input 10',\n",
       "   'Input 11',\n",
       "   'Input 02',\n",
       "   'Input 08',\n",
       "   'Input 03'],\n",
       "  {'r2': 0.9716122759437844,\n",
       "   'neg_root_mean_squared_error': -0.019442266585563358,\n",
       "   'total_zeros': 2336})]"
      ]
     },
     "execution_count": 5,
     "metadata": {},
     "output_type": "execute_result"
    }
   ],
   "source": [
    "result"
   ]
  },
  {
   "cell_type": "code",
   "execution_count": 6,
   "id": "7243dc87-96b6-4821-9925-bee6a4180acd",
   "metadata": {},
   "outputs": [
    {
     "data": {
      "text/html": [
       "<div><div id=fed0d8e4-61e7-4098-b4f9-b297b4c9d1f8 style=\"display:none; background-color:#9D6CFF; color:white; width:200px; height:30px; padding-left:5px; border-radius:4px; flex-direction:row; justify-content:space-around; align-items:center;\" onmouseover=\"this.style.backgroundColor='#BA9BF8'\" onmouseout=\"this.style.backgroundColor='#9D6CFF'\" onclick=\"window.commands?.execute('create-mitosheet-from-dataframe-output');\">See Full Dataframe in Mito</div> <script> if (window.commands.hasCommand('create-mitosheet-from-dataframe-output')) document.getElementById('fed0d8e4-61e7-4098-b4f9-b297b4c9d1f8').style.display = 'flex' </script> <table border=\"1\" class=\"dataframe\">\n",
       "  <thead>\n",
       "    <tr style=\"text-align: right;\">\n",
       "      <th></th>\n",
       "      <th>0</th>\n",
       "      <th>1</th>\n",
       "      <th>2</th>\n",
       "      <th>3</th>\n",
       "    </tr>\n",
       "  </thead>\n",
       "  <tbody>\n",
       "    <tr>\n",
       "      <th>0</th>\n",
       "      <td>0</td>\n",
       "      <td>gradientboostingregressor</td>\n",
       "      <td>[Input 01, Input 08, Input 03, Input 09, Input 06, Input 07, Input 04, Input 11, Input 02, Input 12, Input 05, Input 10]</td>\n",
       "      <td>{'r2': 0.9365859623389753, 'neg_root_mean_squared_error': -0.03160467707981062, 'total_zeros': 7203}</td>\n",
       "    </tr>\n",
       "    <tr>\n",
       "      <th>1</th>\n",
       "      <td>1</td>\n",
       "      <td>gradientboostingregressor</td>\n",
       "      <td>[Input 01, Input 06, Input 08, Input 03, Input 12, Input 04, Input 07, Input 11, Input 05, Input 10, Input 02, Input 09]</td>\n",
       "      <td>{'r2': 0.96980598298908, 'neg_root_mean_squared_error': -0.01896877051970531, 'total_zeros': 3765}</td>\n",
       "    </tr>\n",
       "    <tr>\n",
       "      <th>2</th>\n",
       "      <td>2</td>\n",
       "      <td>gradientboostingregressor</td>\n",
       "      <td>[Input 01, Input 06, Input 04, Input 12, Input 03, Input 08, Input 05, Input 07, Input 11, Input 09, Input 10, Input 02]</td>\n",
       "      <td>{'r2': 0.9701486177450065, 'neg_root_mean_squared_error': -0.019407200891519295, 'total_zeros': 4154}</td>\n",
       "    </tr>\n",
       "    <tr>\n",
       "      <th>3</th>\n",
       "      <td>3</td>\n",
       "      <td>gradientboostingregressor</td>\n",
       "      <td>[Input 01, Input 06, Input 04, Input 12, Input 09, Input 05, Input 07, Input 11, Input 03, Input 10, Input 08, Input 02]</td>\n",
       "      <td>{'r2': 0.9712688150323772, 'neg_root_mean_squared_error': -0.019407069607957135, 'total_zeros': 3138}</td>\n",
       "    </tr>\n",
       "    <tr>\n",
       "      <th>4</th>\n",
       "      <td>4</td>\n",
       "      <td>gradientboostingregressor</td>\n",
       "      <td>[Input 01, Input 06, Input 04, Input 12, Input 09, Input 05, Input 10, Input 11, Input 07, Input 03, Input 08, Input 02]</td>\n",
       "      <td>{'r2': 0.9719848144422911, 'neg_root_mean_squared_error': -0.01933521378585893, 'total_zeros': 2661}</td>\n",
       "    </tr>\n",
       "    <tr>\n",
       "      <th>...</th>\n",
       "      <td>...</td>\n",
       "      <td>...</td>\n",
       "      <td>...</td>\n",
       "      <td>...</td>\n",
       "    </tr>\n",
       "    <tr>\n",
       "      <th>6</th>\n",
       "      <td>6</td>\n",
       "      <td>gradientboostingregressor</td>\n",
       "      <td>[Input 01, Input 06, Input 04, Input 12, Input 09, Input 05, Input 10, Input 07, Input 03, Input 11, Input 02, Input 08]</td>\n",
       "      <td>{'r2': 0.9721059310807837, 'neg_root_mean_squared_error': -0.019488438980616207, 'total_zeros': 2965}</td>\n",
       "    </tr>\n",
       "    <tr>\n",
       "      <th>7</th>\n",
       "      <td>7</td>\n",
       "      <td>gradientboostingregressor</td>\n",
       "      <td>[Input 01, Input 06, Input 04, Input 09, Input 12, Input 05, Input 10, Input 07, Input 11, Input 08, Input 03, Input 02]</td>\n",
       "      <td>{'r2': 0.9702606230159432, 'neg_root_mean_squared_error': -0.019958744620245127, 'total_zeros': 2868}</td>\n",
       "    </tr>\n",
       "    <tr>\n",
       "      <th>8</th>\n",
       "      <td>8</td>\n",
       "      <td>gradientboostingregressor</td>\n",
       "      <td>[Input 01, Input 06, Input 04, Input 12, Input 05, Input 09, Input 10, Input 07, Input 11, Input 03, Input 02, Input 08]</td>\n",
       "      <td>{'r2': 0.9724805966728987, 'neg_root_mean_squared_error': -0.01914965871673812, 'total_zeros': 2417}</td>\n",
       "    </tr>\n",
       "    <tr>\n",
       "      <th>9</th>\n",
       "      <td>9</td>\n",
       "      <td>gradientboostingregressor</td>\n",
       "      <td>[Input 01, Input 06, Input 04, Input 12, Input 09, Input 05, Input 10, Input 11, Input 07, Input 08, Input 03, Input 02]</td>\n",
       "      <td>{'r2': 0.9711376012168387, 'neg_root_mean_squared_error': -0.01968460300431094, 'total_zeros': 2731}</td>\n",
       "    </tr>\n",
       "    <tr>\n",
       "      <th>10</th>\n",
       "      <td>10</td>\n",
       "      <td>gradientboostingregressor</td>\n",
       "      <td>[Input 01, Input 06, Input 04, Input 12, Input 09, Input 05, Input 07, Input 10, Input 11, Input 02, Input 08, Input 03]</td>\n",
       "      <td>{'r2': 0.9716122759437844, 'neg_root_mean_squared_error': -0.019442266585563358, 'total_zeros': 2336}</td>\n",
       "    </tr>\n",
       "  </tbody>\n",
       "</table></div>"
      ],
      "text/plain": [
       "     0                          1  \\\n",
       "0    0  gradientboostingregressor   \n",
       "1    1  gradientboostingregressor   \n",
       "2    2  gradientboostingregressor   \n",
       "3    3  gradientboostingregressor   \n",
       "4    4  gradientboostingregressor   \n",
       "5    5  gradientboostingregressor   \n",
       "6    6  gradientboostingregressor   \n",
       "7    7  gradientboostingregressor   \n",
       "8    8  gradientboostingregressor   \n",
       "9    9  gradientboostingregressor   \n",
       "10  10  gradientboostingregressor   \n",
       "\n",
       "                                                    2  \\\n",
       "0   [Input 01, Input 08, Input 03, Input 09, Input...   \n",
       "1   [Input 01, Input 06, Input 08, Input 03, Input...   \n",
       "2   [Input 01, Input 06, Input 04, Input 12, Input...   \n",
       "3   [Input 01, Input 06, Input 04, Input 12, Input...   \n",
       "4   [Input 01, Input 06, Input 04, Input 12, Input...   \n",
       "5   [Input 01, Input 06, Input 04, Input 12, Input...   \n",
       "6   [Input 01, Input 06, Input 04, Input 12, Input...   \n",
       "7   [Input 01, Input 06, Input 04, Input 09, Input...   \n",
       "8   [Input 01, Input 06, Input 04, Input 12, Input...   \n",
       "9   [Input 01, Input 06, Input 04, Input 12, Input...   \n",
       "10  [Input 01, Input 06, Input 04, Input 12, Input...   \n",
       "\n",
       "                                                    3  \n",
       "0   {'r2': 0.9365859623389753, 'neg_root_mean_squa...  \n",
       "1   {'r2': 0.96980598298908, 'neg_root_mean_square...  \n",
       "2   {'r2': 0.9701486177450065, 'neg_root_mean_squa...  \n",
       "3   {'r2': 0.9712688150323772, 'neg_root_mean_squa...  \n",
       "4   {'r2': 0.9719848144422911, 'neg_root_mean_squa...  \n",
       "5   {'r2': 0.970683857702238, 'neg_root_mean_squar...  \n",
       "6   {'r2': 0.9721059310807837, 'neg_root_mean_squa...  \n",
       "7   {'r2': 0.9702606230159432, 'neg_root_mean_squa...  \n",
       "8   {'r2': 0.9724805966728987, 'neg_root_mean_squa...  \n",
       "9   {'r2': 0.9711376012168387, 'neg_root_mean_squa...  \n",
       "10  {'r2': 0.9716122759437844, 'neg_root_mean_squa...  "
      ]
     },
     "execution_count": 6,
     "metadata": {},
     "output_type": "execute_result"
    }
   ],
   "source": [
    "df_r = pd.DataFrame(result)\n",
    "df_r"
   ]
  },
  {
   "cell_type": "code",
   "execution_count": 7,
   "id": "4cdef42d-3561-475a-a782-0c98efb5675e",
   "metadata": {},
   "outputs": [
    {
     "data": {
      "text/html": [
       "<div><div id=bd87a406-0ecf-4e2c-b7af-3b3e5cb3f025 style=\"display:none; background-color:#9D6CFF; color:white; width:200px; height:30px; padding-left:5px; border-radius:4px; flex-direction:row; justify-content:space-around; align-items:center;\" onmouseover=\"this.style.backgroundColor='#BA9BF8'\" onmouseout=\"this.style.backgroundColor='#9D6CFF'\" onclick=\"window.commands?.execute('create-mitosheet-from-dataframe-output');\">See Full Dataframe in Mito</div> <script> if (window.commands.hasCommand('create-mitosheet-from-dataframe-output')) document.getElementById('bd87a406-0ecf-4e2c-b7af-3b3e5cb3f025').style.display = 'flex' </script> <table border=\"1\" class=\"dataframe\">\n",
       "  <thead>\n",
       "    <tr style=\"text-align: right;\">\n",
       "      <th></th>\n",
       "      <th>r2</th>\n",
       "      <th>neg_root_mean_squared_error</th>\n",
       "      <th>total_zeros</th>\n",
       "    </tr>\n",
       "  </thead>\n",
       "  <tbody>\n",
       "    <tr>\n",
       "      <th>0</th>\n",
       "      <td>0.936586</td>\n",
       "      <td>-0.031605</td>\n",
       "      <td>7203.0</td>\n",
       "    </tr>\n",
       "    <tr>\n",
       "      <th>1</th>\n",
       "      <td>0.969806</td>\n",
       "      <td>-0.018969</td>\n",
       "      <td>3765.0</td>\n",
       "    </tr>\n",
       "    <tr>\n",
       "      <th>2</th>\n",
       "      <td>0.970149</td>\n",
       "      <td>-0.019407</td>\n",
       "      <td>4154.0</td>\n",
       "    </tr>\n",
       "    <tr>\n",
       "      <th>3</th>\n",
       "      <td>0.971269</td>\n",
       "      <td>-0.019407</td>\n",
       "      <td>3138.0</td>\n",
       "    </tr>\n",
       "    <tr>\n",
       "      <th>4</th>\n",
       "      <td>0.971985</td>\n",
       "      <td>-0.019335</td>\n",
       "      <td>2661.0</td>\n",
       "    </tr>\n",
       "    <tr>\n",
       "      <th>...</th>\n",
       "      <td>...</td>\n",
       "      <td>...</td>\n",
       "      <td>...</td>\n",
       "    </tr>\n",
       "    <tr>\n",
       "      <th>6</th>\n",
       "      <td>0.972106</td>\n",
       "      <td>-0.019488</td>\n",
       "      <td>2965.0</td>\n",
       "    </tr>\n",
       "    <tr>\n",
       "      <th>7</th>\n",
       "      <td>0.970261</td>\n",
       "      <td>-0.019959</td>\n",
       "      <td>2868.0</td>\n",
       "    </tr>\n",
       "    <tr>\n",
       "      <th>8</th>\n",
       "      <td>0.972481</td>\n",
       "      <td>-0.019150</td>\n",
       "      <td>2417.0</td>\n",
       "    </tr>\n",
       "    <tr>\n",
       "      <th>9</th>\n",
       "      <td>0.971138</td>\n",
       "      <td>-0.019685</td>\n",
       "      <td>2731.0</td>\n",
       "    </tr>\n",
       "    <tr>\n",
       "      <th>10</th>\n",
       "      <td>0.971612</td>\n",
       "      <td>-0.019442</td>\n",
       "      <td>2336.0</td>\n",
       "    </tr>\n",
       "  </tbody>\n",
       "</table></div>"
      ],
      "text/plain": [
       "          r2  neg_root_mean_squared_error  total_zeros\n",
       "0   0.936586                    -0.031605       7203.0\n",
       "1   0.969806                    -0.018969       3765.0\n",
       "2   0.970149                    -0.019407       4154.0\n",
       "3   0.971269                    -0.019407       3138.0\n",
       "4   0.971985                    -0.019335       2661.0\n",
       "5   0.970684                    -0.019803       2417.0\n",
       "6   0.972106                    -0.019488       2965.0\n",
       "7   0.970261                    -0.019959       2868.0\n",
       "8   0.972481                    -0.019150       2417.0\n",
       "9   0.971138                    -0.019685       2731.0\n",
       "10  0.971612                    -0.019442       2336.0"
      ]
     },
     "execution_count": 7,
     "metadata": {},
     "output_type": "execute_result"
    }
   ],
   "source": [
    "r2 = df_r[3].apply(pd.Series)\n",
    "r2"
   ]
  },
  {
   "cell_type": "code",
   "execution_count": 8,
   "id": "916c3cc5-5c18-4eae-8fce-555bc2852d5d",
   "metadata": {},
   "outputs": [
    {
     "data": {
      "application/vnd.plotly.v1+json": {
       "config": {
        "plotlyServerURL": "https://plot.ly"
       },
       "data": [
        {
         "name": "R2",
         "type": "scatter",
         "x": [
          0,
          1,
          2,
          3,
          4,
          5,
          6,
          7,
          8,
          9,
          10
         ],
         "xaxis": "x",
         "y": [
          0.9365859623389753,
          0.96980598298908,
          0.9701486177450065,
          0.9712688150323772,
          0.9719848144422911,
          0.970683857702238,
          0.9721059310807837,
          0.9702606230159432,
          0.9724805966728987,
          0.9711376012168387,
          0.9716122759437844
         ],
         "yaxis": "y"
        },
        {
         "name": "RMSE",
         "type": "scatter",
         "x": [
          0,
          1,
          2,
          3,
          4,
          5,
          6,
          7,
          8,
          9,
          10
         ],
         "xaxis": "x",
         "y": [
          0.03160467707981062,
          0.01896877051970531,
          0.019407200891519295,
          0.019407069607957135,
          0.01933521378585893,
          0.019802983535445767,
          0.019488438980616207,
          0.019958744620245127,
          0.01914965871673812,
          0.01968460300431094,
          0.019442266585563358
         ],
         "yaxis": "y2"
        }
       ],
       "layout": {
        "autosize": false,
        "height": 500,
        "template": {
         "data": {
          "bar": [
           {
            "error_x": {
             "color": "#2a3f5f"
            },
            "error_y": {
             "color": "#2a3f5f"
            },
            "marker": {
             "line": {
              "color": "#E5ECF6",
              "width": 0.5
             },
             "pattern": {
              "fillmode": "overlay",
              "size": 10,
              "solidity": 0.2
             }
            },
            "type": "bar"
           }
          ],
          "barpolar": [
           {
            "marker": {
             "line": {
              "color": "#E5ECF6",
              "width": 0.5
             },
             "pattern": {
              "fillmode": "overlay",
              "size": 10,
              "solidity": 0.2
             }
            },
            "type": "barpolar"
           }
          ],
          "carpet": [
           {
            "aaxis": {
             "endlinecolor": "#2a3f5f",
             "gridcolor": "white",
             "linecolor": "white",
             "minorgridcolor": "white",
             "startlinecolor": "#2a3f5f"
            },
            "baxis": {
             "endlinecolor": "#2a3f5f",
             "gridcolor": "white",
             "linecolor": "white",
             "minorgridcolor": "white",
             "startlinecolor": "#2a3f5f"
            },
            "type": "carpet"
           }
          ],
          "choropleth": [
           {
            "colorbar": {
             "outlinewidth": 0,
             "ticks": ""
            },
            "type": "choropleth"
           }
          ],
          "contour": [
           {
            "colorbar": {
             "outlinewidth": 0,
             "ticks": ""
            },
            "colorscale": [
             [
              0,
              "#0d0887"
             ],
             [
              0.1111111111111111,
              "#46039f"
             ],
             [
              0.2222222222222222,
              "#7201a8"
             ],
             [
              0.3333333333333333,
              "#9c179e"
             ],
             [
              0.4444444444444444,
              "#bd3786"
             ],
             [
              0.5555555555555556,
              "#d8576b"
             ],
             [
              0.6666666666666666,
              "#ed7953"
             ],
             [
              0.7777777777777778,
              "#fb9f3a"
             ],
             [
              0.8888888888888888,
              "#fdca26"
             ],
             [
              1,
              "#f0f921"
             ]
            ],
            "type": "contour"
           }
          ],
          "contourcarpet": [
           {
            "colorbar": {
             "outlinewidth": 0,
             "ticks": ""
            },
            "type": "contourcarpet"
           }
          ],
          "heatmap": [
           {
            "colorbar": {
             "outlinewidth": 0,
             "ticks": ""
            },
            "colorscale": [
             [
              0,
              "#0d0887"
             ],
             [
              0.1111111111111111,
              "#46039f"
             ],
             [
              0.2222222222222222,
              "#7201a8"
             ],
             [
              0.3333333333333333,
              "#9c179e"
             ],
             [
              0.4444444444444444,
              "#bd3786"
             ],
             [
              0.5555555555555556,
              "#d8576b"
             ],
             [
              0.6666666666666666,
              "#ed7953"
             ],
             [
              0.7777777777777778,
              "#fb9f3a"
             ],
             [
              0.8888888888888888,
              "#fdca26"
             ],
             [
              1,
              "#f0f921"
             ]
            ],
            "type": "heatmap"
           }
          ],
          "heatmapgl": [
           {
            "colorbar": {
             "outlinewidth": 0,
             "ticks": ""
            },
            "colorscale": [
             [
              0,
              "#0d0887"
             ],
             [
              0.1111111111111111,
              "#46039f"
             ],
             [
              0.2222222222222222,
              "#7201a8"
             ],
             [
              0.3333333333333333,
              "#9c179e"
             ],
             [
              0.4444444444444444,
              "#bd3786"
             ],
             [
              0.5555555555555556,
              "#d8576b"
             ],
             [
              0.6666666666666666,
              "#ed7953"
             ],
             [
              0.7777777777777778,
              "#fb9f3a"
             ],
             [
              0.8888888888888888,
              "#fdca26"
             ],
             [
              1,
              "#f0f921"
             ]
            ],
            "type": "heatmapgl"
           }
          ],
          "histogram": [
           {
            "marker": {
             "pattern": {
              "fillmode": "overlay",
              "size": 10,
              "solidity": 0.2
             }
            },
            "type": "histogram"
           }
          ],
          "histogram2d": [
           {
            "colorbar": {
             "outlinewidth": 0,
             "ticks": ""
            },
            "colorscale": [
             [
              0,
              "#0d0887"
             ],
             [
              0.1111111111111111,
              "#46039f"
             ],
             [
              0.2222222222222222,
              "#7201a8"
             ],
             [
              0.3333333333333333,
              "#9c179e"
             ],
             [
              0.4444444444444444,
              "#bd3786"
             ],
             [
              0.5555555555555556,
              "#d8576b"
             ],
             [
              0.6666666666666666,
              "#ed7953"
             ],
             [
              0.7777777777777778,
              "#fb9f3a"
             ],
             [
              0.8888888888888888,
              "#fdca26"
             ],
             [
              1,
              "#f0f921"
             ]
            ],
            "type": "histogram2d"
           }
          ],
          "histogram2dcontour": [
           {
            "colorbar": {
             "outlinewidth": 0,
             "ticks": ""
            },
            "colorscale": [
             [
              0,
              "#0d0887"
             ],
             [
              0.1111111111111111,
              "#46039f"
             ],
             [
              0.2222222222222222,
              "#7201a8"
             ],
             [
              0.3333333333333333,
              "#9c179e"
             ],
             [
              0.4444444444444444,
              "#bd3786"
             ],
             [
              0.5555555555555556,
              "#d8576b"
             ],
             [
              0.6666666666666666,
              "#ed7953"
             ],
             [
              0.7777777777777778,
              "#fb9f3a"
             ],
             [
              0.8888888888888888,
              "#fdca26"
             ],
             [
              1,
              "#f0f921"
             ]
            ],
            "type": "histogram2dcontour"
           }
          ],
          "mesh3d": [
           {
            "colorbar": {
             "outlinewidth": 0,
             "ticks": ""
            },
            "type": "mesh3d"
           }
          ],
          "parcoords": [
           {
            "line": {
             "colorbar": {
              "outlinewidth": 0,
              "ticks": ""
             }
            },
            "type": "parcoords"
           }
          ],
          "pie": [
           {
            "automargin": true,
            "type": "pie"
           }
          ],
          "scatter": [
           {
            "marker": {
             "colorbar": {
              "outlinewidth": 0,
              "ticks": ""
             }
            },
            "type": "scatter"
           }
          ],
          "scatter3d": [
           {
            "line": {
             "colorbar": {
              "outlinewidth": 0,
              "ticks": ""
             }
            },
            "marker": {
             "colorbar": {
              "outlinewidth": 0,
              "ticks": ""
             }
            },
            "type": "scatter3d"
           }
          ],
          "scattercarpet": [
           {
            "marker": {
             "colorbar": {
              "outlinewidth": 0,
              "ticks": ""
             }
            },
            "type": "scattercarpet"
           }
          ],
          "scattergeo": [
           {
            "marker": {
             "colorbar": {
              "outlinewidth": 0,
              "ticks": ""
             }
            },
            "type": "scattergeo"
           }
          ],
          "scattergl": [
           {
            "marker": {
             "colorbar": {
              "outlinewidth": 0,
              "ticks": ""
             }
            },
            "type": "scattergl"
           }
          ],
          "scattermapbox": [
           {
            "marker": {
             "colorbar": {
              "outlinewidth": 0,
              "ticks": ""
             }
            },
            "type": "scattermapbox"
           }
          ],
          "scatterpolar": [
           {
            "marker": {
             "colorbar": {
              "outlinewidth": 0,
              "ticks": ""
             }
            },
            "type": "scatterpolar"
           }
          ],
          "scatterpolargl": [
           {
            "marker": {
             "colorbar": {
              "outlinewidth": 0,
              "ticks": ""
             }
            },
            "type": "scatterpolargl"
           }
          ],
          "scatterternary": [
           {
            "marker": {
             "colorbar": {
              "outlinewidth": 0,
              "ticks": ""
             }
            },
            "type": "scatterternary"
           }
          ],
          "surface": [
           {
            "colorbar": {
             "outlinewidth": 0,
             "ticks": ""
            },
            "colorscale": [
             [
              0,
              "#0d0887"
             ],
             [
              0.1111111111111111,
              "#46039f"
             ],
             [
              0.2222222222222222,
              "#7201a8"
             ],
             [
              0.3333333333333333,
              "#9c179e"
             ],
             [
              0.4444444444444444,
              "#bd3786"
             ],
             [
              0.5555555555555556,
              "#d8576b"
             ],
             [
              0.6666666666666666,
              "#ed7953"
             ],
             [
              0.7777777777777778,
              "#fb9f3a"
             ],
             [
              0.8888888888888888,
              "#fdca26"
             ],
             [
              1,
              "#f0f921"
             ]
            ],
            "type": "surface"
           }
          ],
          "table": [
           {
            "cells": {
             "fill": {
              "color": "#EBF0F8"
             },
             "line": {
              "color": "white"
             }
            },
            "header": {
             "fill": {
              "color": "#C8D4E3"
             },
             "line": {
              "color": "white"
             }
            },
            "type": "table"
           }
          ]
         },
         "layout": {
          "annotationdefaults": {
           "arrowcolor": "#2a3f5f",
           "arrowhead": 0,
           "arrowwidth": 1
          },
          "autotypenumbers": "strict",
          "coloraxis": {
           "colorbar": {
            "outlinewidth": 0,
            "ticks": ""
           }
          },
          "colorscale": {
           "diverging": [
            [
             0,
             "#8e0152"
            ],
            [
             0.1,
             "#c51b7d"
            ],
            [
             0.2,
             "#de77ae"
            ],
            [
             0.3,
             "#f1b6da"
            ],
            [
             0.4,
             "#fde0ef"
            ],
            [
             0.5,
             "#f7f7f7"
            ],
            [
             0.6,
             "#e6f5d0"
            ],
            [
             0.7,
             "#b8e186"
            ],
            [
             0.8,
             "#7fbc41"
            ],
            [
             0.9,
             "#4d9221"
            ],
            [
             1,
             "#276419"
            ]
           ],
           "sequential": [
            [
             0,
             "#0d0887"
            ],
            [
             0.1111111111111111,
             "#46039f"
            ],
            [
             0.2222222222222222,
             "#7201a8"
            ],
            [
             0.3333333333333333,
             "#9c179e"
            ],
            [
             0.4444444444444444,
             "#bd3786"
            ],
            [
             0.5555555555555556,
             "#d8576b"
            ],
            [
             0.6666666666666666,
             "#ed7953"
            ],
            [
             0.7777777777777778,
             "#fb9f3a"
            ],
            [
             0.8888888888888888,
             "#fdca26"
            ],
            [
             1,
             "#f0f921"
            ]
           ],
           "sequentialminus": [
            [
             0,
             "#0d0887"
            ],
            [
             0.1111111111111111,
             "#46039f"
            ],
            [
             0.2222222222222222,
             "#7201a8"
            ],
            [
             0.3333333333333333,
             "#9c179e"
            ],
            [
             0.4444444444444444,
             "#bd3786"
            ],
            [
             0.5555555555555556,
             "#d8576b"
            ],
            [
             0.6666666666666666,
             "#ed7953"
            ],
            [
             0.7777777777777778,
             "#fb9f3a"
            ],
            [
             0.8888888888888888,
             "#fdca26"
            ],
            [
             1,
             "#f0f921"
            ]
           ]
          },
          "colorway": [
           "#636efa",
           "#EF553B",
           "#00cc96",
           "#ab63fa",
           "#FFA15A",
           "#19d3f3",
           "#FF6692",
           "#B6E880",
           "#FF97FF",
           "#FECB52"
          ],
          "font": {
           "color": "#2a3f5f"
          },
          "geo": {
           "bgcolor": "white",
           "lakecolor": "white",
           "landcolor": "#E5ECF6",
           "showlakes": true,
           "showland": true,
           "subunitcolor": "white"
          },
          "hoverlabel": {
           "align": "left"
          },
          "hovermode": "closest",
          "mapbox": {
           "style": "light"
          },
          "paper_bgcolor": "white",
          "plot_bgcolor": "#E5ECF6",
          "polar": {
           "angularaxis": {
            "gridcolor": "white",
            "linecolor": "white",
            "ticks": ""
           },
           "bgcolor": "#E5ECF6",
           "radialaxis": {
            "gridcolor": "white",
            "linecolor": "white",
            "ticks": ""
           }
          },
          "scene": {
           "xaxis": {
            "backgroundcolor": "#E5ECF6",
            "gridcolor": "white",
            "gridwidth": 2,
            "linecolor": "white",
            "showbackground": true,
            "ticks": "",
            "zerolinecolor": "white"
           },
           "yaxis": {
            "backgroundcolor": "#E5ECF6",
            "gridcolor": "white",
            "gridwidth": 2,
            "linecolor": "white",
            "showbackground": true,
            "ticks": "",
            "zerolinecolor": "white"
           },
           "zaxis": {
            "backgroundcolor": "#E5ECF6",
            "gridcolor": "white",
            "gridwidth": 2,
            "linecolor": "white",
            "showbackground": true,
            "ticks": "",
            "zerolinecolor": "white"
           }
          },
          "shapedefaults": {
           "line": {
            "color": "#2a3f5f"
           }
          },
          "ternary": {
           "aaxis": {
            "gridcolor": "white",
            "linecolor": "white",
            "ticks": ""
           },
           "baxis": {
            "gridcolor": "white",
            "linecolor": "white",
            "ticks": ""
           },
           "bgcolor": "#E5ECF6",
           "caxis": {
            "gridcolor": "white",
            "linecolor": "white",
            "ticks": ""
           }
          },
          "title": {
           "x": 0.05
          },
          "xaxis": {
           "automargin": true,
           "gridcolor": "white",
           "linecolor": "white",
           "ticks": "",
           "title": {
            "standoff": 15
           },
           "zerolinecolor": "white",
           "zerolinewidth": 2
          },
          "yaxis": {
           "automargin": true,
           "gridcolor": "white",
           "linecolor": "white",
           "ticks": "",
           "title": {
            "standoff": 15
           },
           "zerolinecolor": "white",
           "zerolinewidth": 2
          }
         }
        },
        "title": {
         "text": "R2 and RMSE Per Iteration"
        },
        "width": 900,
        "xaxis": {
         "anchor": "y",
         "autorange": true,
         "domain": [
          0,
          0.94
         ],
         "range": [
          -0.6254023173479241,
          10.625402317347923
         ],
         "title": {
          "text": "Iteration"
         },
         "type": "linear"
        },
        "yaxis": {
         "anchor": "x",
         "autorange": true,
         "domain": [
          0,
          1
         ],
         "range": [
          0.9340586217753568,
          0.9750079372365171
         ],
         "title": {
          "text": "R2"
         },
         "type": "linear"
        },
        "yaxis2": {
         "anchor": "x",
         "autorange": true,
         "overlaying": "y",
         "range": [
          0.01807907656404727,
          0.03249437103546866
         ],
         "side": "right",
         "title": {
          "text": "RMSE"
         },
         "type": "linear"
        }
       }
      },
      "image/png": "[encoded data removed]",
      "text/html": [
       "<div>                            <div id=\"10bbbac7-d0a6-4c76-bb93-277fe5574201\" class=\"plotly-graph-div\" style=\"height:500px; width:900px;\"></div>            <script type=\"text/javascript\">                require([\"plotly\"], function(Plotly) {                    window.PLOTLYENV=window.PLOTLYENV || {};                                    if (document.getElementById(\"10bbbac7-d0a6-4c76-bb93-277fe5574201\")) {                    Plotly.newPlot(                        \"10bbbac7-d0a6-4c76-bb93-277fe5574201\",                        [{\"name\":\"R2\",\"type\":\"scatter\",\"x\":[0,1,2,3,4,5,6,7,8,9,10],\"xaxis\":\"x\",\"y\":[0.9365859623389753,0.96980598298908,0.9701486177450065,0.9712688150323772,0.9719848144422911,0.970683857702238,0.9721059310807837,0.9702606230159432,0.9724805966728987,0.9711376012168387,0.9716122759437844],\"yaxis\":\"y\"},{\"name\":\"RMSE\",\"type\":\"scatter\",\"x\":[0,1,2,3,4,5,6,7,8,9,10],\"xaxis\":\"x\",\"y\":[0.03160467707981062,0.01896877051970531,0.019407200891519295,0.019407069607957135,0.01933521378585893,0.019802983535445767,0.019488438980616207,0.019958744620245127,0.01914965871673812,0.01968460300431094,0.019442266585563358],\"yaxis\":\"y2\"}],                        {\"autosize\":false,\"height\":500,\"template\":{\"data\":{\"bar\":[{\"error_x\":{\"color\":\"#2a3f5f\"},\"error_y\":{\"color\":\"#2a3f5f\"},\"marker\":{\"line\":{\"color\":\"#E5ECF6\",\"width\":0.5},\"pattern\":{\"fillmode\":\"overlay\",\"size\":10,\"solidity\":0.2}},\"type\":\"bar\"}],\"barpolar\":[{\"marker\":{\"line\":{\"color\":\"#E5ECF6\",\"width\":0.5},\"pattern\":{\"fillmode\":\"overlay\",\"size\":10,\"solidity\":0.2}},\"type\":\"barpolar\"}],\"carpet\":[{\"aaxis\":{\"endlinecolor\":\"#2a3f5f\",\"gridcolor\":\"white\",\"linecolor\":\"white\",\"minorgridcolor\":\"white\",\"startlinecolor\":\"#2a3f5f\"},\"baxis\":{\"endlinecolor\":\"#2a3f5f\",\"gridcolor\":\"white\",\"linecolor\":\"white\",\"minorgridcolor\":\"white\",\"startlinecolor\":\"#2a3f5f\"},\"type\":\"carpet\"}],\"choropleth\":[{\"colorbar\":{\"outlinewidth\":0,\"ticks\":\"\"},\"type\":\"choropleth\"}],\"contour\":[{\"colorbar\":{\"outlinewidth\":0,\"ticks\":\"\"},\"colorscale\":[[0.0,\"#0d0887\"],[0.1111111111111111,\"#46039f\"],[0.2222222222222222,\"#7201a8\"],[0.3333333333333333,\"#9c179e\"],[0.4444444444444444,\"#bd3786\"],[0.5555555555555556,\"#d8576b\"],[0.6666666666666666,\"#ed7953\"],[0.7777777777777778,\"#fb9f3a\"],[0.8888888888888888,\"#fdca26\"],[1.0,\"#f0f921\"]],\"type\":\"contour\"}],\"contourcarpet\":[{\"colorbar\":{\"outlinewidth\":0,\"ticks\":\"\"},\"type\":\"contourcarpet\"}],\"heatmap\":[{\"colorbar\":{\"outlinewidth\":0,\"ticks\":\"\"},\"colorscale\":[[0.0,\"#0d0887\"],[0.1111111111111111,\"#46039f\"],[0.2222222222222222,\"#7201a8\"],[0.3333333333333333,\"#9c179e\"],[0.4444444444444444,\"#bd3786\"],[0.5555555555555556,\"#d8576b\"],[0.6666666666666666,\"#ed7953\"],[0.7777777777777778,\"#fb9f3a\"],[0.8888888888888888,\"#fdca26\"],[1.0,\"#f0f921\"]],\"type\":\"heatmap\"}],\"heatmapgl\":[{\"colorbar\":{\"outlinewidth\":0,\"ticks\":\"\"},\"colorscale\":[[0.0,\"#0d0887\"],[0.1111111111111111,\"#46039f\"],[0.2222222222222222,\"#7201a8\"],[0.3333333333333333,\"#9c179e\"],[0.4444444444444444,\"#bd3786\"],[0.5555555555555556,\"#d8576b\"],[0.6666666666666666,\"#ed7953\"],[0.7777777777777778,\"#fb9f3a\"],[0.8888888888888888,\"#fdca26\"],[1.0,\"#f0f921\"]],\"type\":\"heatmapgl\"}],\"histogram\":[{\"marker\":{\"pattern\":{\"fillmode\":\"overlay\",\"size\":10,\"solidity\":0.2}},\"type\":\"histogram\"}],\"histogram2d\":[{\"colorbar\":{\"outlinewidth\":0,\"ticks\":\"\"},\"colorscale\":[[0.0,\"#0d0887\"],[0.1111111111111111,\"#46039f\"],[0.2222222222222222,\"#7201a8\"],[0.3333333333333333,\"#9c179e\"],[0.4444444444444444,\"#bd3786\"],[0.5555555555555556,\"#d8576b\"],[0.6666666666666666,\"#ed7953\"],[0.7777777777777778,\"#fb9f3a\"],[0.8888888888888888,\"#fdca26\"],[1.0,\"#f0f921\"]],\"type\":\"histogram2d\"}],\"histogram2dcontour\":[{\"colorbar\":{\"outlinewidth\":0,\"ticks\":\"\"},\"colorscale\":[[0.0,\"#0d0887\"],[0.1111111111111111,\"#46039f\"],[0.2222222222222222,\"#7201a8\"],[0.3333333333333333,\"#9c179e\"],[0.4444444444444444,\"#bd3786\"],[0.5555555555555556,\"#d8576b\"],[0.6666666666666666,\"#ed7953\"],[0.7777777777777778,\"#fb9f3a\"],[0.8888888888888888,\"#fdca26\"],[1.0,\"#f0f921\"]],\"type\":\"histogram2dcontour\"}],\"mesh3d\":[{\"colorbar\":{\"outlinewidth\":0,\"ticks\":\"\"},\"type\":\"mesh3d\"}],\"parcoords\":[{\"line\":{\"colorbar\":{\"outlinewidth\":0,\"ticks\":\"\"}},\"type\":\"parcoords\"}],\"pie\":[{\"automargin\":true,\"type\":\"pie\"}],\"scatter\":[{\"marker\":{\"colorbar\":{\"outlinewidth\":0,\"ticks\":\"\"}},\"type\":\"scatter\"}],\"scatter3d\":[{\"line\":{\"colorbar\":{\"outlinewidth\":0,\"ticks\":\"\"}},\"marker\":{\"colorbar\":{\"outlinewidth\":0,\"ticks\":\"\"}},\"type\":\"scatter3d\"}],\"scattercarpet\":[{\"marker\":{\"colorbar\":{\"outlinewidth\":0,\"ticks\":\"\"}},\"type\":\"scattercarpet\"}],\"scattergeo\":[{\"marker\":{\"colorbar\":{\"outlinewidth\":0,\"ticks\":\"\"}},\"type\":\"scattergeo\"}],\"scattergl\":[{\"marker\":{\"colorbar\":{\"outlinewidth\":0,\"ticks\":\"\"}},\"type\":\"scattergl\"}],\"scattermapbox\":[{\"marker\":{\"colorbar\":{\"outlinewidth\":0,\"ticks\":\"\"}},\"type\":\"scattermapbox\"}],\"scatterpolar\":[{\"marker\":{\"colorbar\":{\"outlinewidth\":0,\"ticks\":\"\"}},\"type\":\"scatterpolar\"}],\"scatterpolargl\":[{\"marker\":{\"colorbar\":{\"outlinewidth\":0,\"ticks\":\"\"}},\"type\":\"scatterpolargl\"}],\"scatterternary\":[{\"marker\":{\"colorbar\":{\"outlinewidth\":0,\"ticks\":\"\"}},\"type\":\"scatterternary\"}],\"surface\":[{\"colorbar\":{\"outlinewidth\":0,\"ticks\":\"\"},\"colorscale\":[[0.0,\"#0d0887\"],[0.1111111111111111,\"#46039f\"],[0.2222222222222222,\"#7201a8\"],[0.3333333333333333,\"#9c179e\"],[0.4444444444444444,\"#bd3786\"],[0.5555555555555556,\"#d8576b\"],[0.6666666666666666,\"#ed7953\"],[0.7777777777777778,\"#fb9f3a\"],[0.8888888888888888,\"#fdca26\"],[1.0,\"#f0f921\"]],\"type\":\"surface\"}],\"table\":[{\"cells\":{\"fill\":{\"color\":\"#EBF0F8\"},\"line\":{\"color\":\"white\"}},\"header\":{\"fill\":{\"color\":\"#C8D4E3\"},\"line\":{\"color\":\"white\"}},\"type\":\"table\"}]},\"layout\":{\"annotationdefaults\":{\"arrowcolor\":\"#2a3f5f\",\"arrowhead\":0,\"arrowwidth\":1},\"autotypenumbers\":\"strict\",\"coloraxis\":{\"colorbar\":{\"outlinewidth\":0,\"ticks\":\"\"}},\"colorscale\":{\"diverging\":[[0,\"#8e0152\"],[0.1,\"#c51b7d\"],[0.2,\"#de77ae\"],[0.3,\"#f1b6da\"],[0.4,\"#fde0ef\"],[0.5,\"#f7f7f7\"],[0.6,\"#e6f5d0\"],[0.7,\"#b8e186\"],[0.8,\"#7fbc41\"],[0.9,\"#4d9221\"],[1,\"#276419\"]],\"sequential\":[[0.0,\"#0d0887\"],[0.1111111111111111,\"#46039f\"],[0.2222222222222222,\"#7201a8\"],[0.3333333333333333,\"#9c179e\"],[0.4444444444444444,\"#bd3786\"],[0.5555555555555556,\"#d8576b\"],[0.6666666666666666,\"#ed7953\"],[0.7777777777777778,\"#fb9f3a\"],[0.8888888888888888,\"#fdca26\"],[1.0,\"#f0f921\"]],\"sequentialminus\":[[0.0,\"#0d0887\"],[0.1111111111111111,\"#46039f\"],[0.2222222222222222,\"#7201a8\"],[0.3333333333333333,\"#9c179e\"],[0.4444444444444444,\"#bd3786\"],[0.5555555555555556,\"#d8576b\"],[0.6666666666666666,\"#ed7953\"],[0.7777777777777778,\"#fb9f3a\"],[0.8888888888888888,\"#fdca26\"],[1.0,\"#f0f921\"]]},\"colorway\":[\"#636efa\",\"#EF553B\",\"#00cc96\",\"#ab63fa\",\"#FFA15A\",\"#19d3f3\",\"#FF6692\",\"#B6E880\",\"#FF97FF\",\"#FECB52\"],\"font\":{\"color\":\"#2a3f5f\"},\"geo\":{\"bgcolor\":\"white\",\"lakecolor\":\"white\",\"landcolor\":\"#E5ECF6\",\"showlakes\":true,\"showland\":true,\"subunitcolor\":\"white\"},\"hoverlabel\":{\"align\":\"left\"},\"hovermode\":\"closest\",\"mapbox\":{\"style\":\"light\"},\"paper_bgcolor\":\"white\",\"plot_bgcolor\":\"#E5ECF6\",\"polar\":{\"angularaxis\":{\"gridcolor\":\"white\",\"linecolor\":\"white\",\"ticks\":\"\"},\"bgcolor\":\"#E5ECF6\",\"radialaxis\":{\"gridcolor\":\"white\",\"linecolor\":\"white\",\"ticks\":\"\"}},\"scene\":{\"xaxis\":{\"backgroundcolor\":\"#E5ECF6\",\"gridcolor\":\"white\",\"gridwidth\":2,\"linecolor\":\"white\",\"showbackground\":true,\"ticks\":\"\",\"zerolinecolor\":\"white\"},\"yaxis\":{\"backgroundcolor\":\"#E5ECF6\",\"gridcolor\":\"white\",\"gridwidth\":2,\"linecolor\":\"white\",\"showbackground\":true,\"ticks\":\"\",\"zerolinecolor\":\"white\"},\"zaxis\":{\"backgroundcolor\":\"#E5ECF6\",\"gridcolor\":\"white\",\"gridwidth\":2,\"linecolor\":\"white\",\"showbackground\":true,\"ticks\":\"\",\"zerolinecolor\":\"white\"}},\"shapedefaults\":{\"line\":{\"color\":\"#2a3f5f\"}},\"ternary\":{\"aaxis\":{\"gridcolor\":\"white\",\"linecolor\":\"white\",\"ticks\":\"\"},\"baxis\":{\"gridcolor\":\"white\",\"linecolor\":\"white\",\"ticks\":\"\"},\"bgcolor\":\"#E5ECF6\",\"caxis\":{\"gridcolor\":\"white\",\"linecolor\":\"white\",\"ticks\":\"\"}},\"title\":{\"x\":0.05},\"xaxis\":{\"automargin\":true,\"gridcolor\":\"white\",\"linecolor\":\"white\",\"ticks\":\"\",\"title\":{\"standoff\":15},\"zerolinecolor\":\"white\",\"zerolinewidth\":2},\"yaxis\":{\"automargin\":true,\"gridcolor\":\"white\",\"linecolor\":\"white\",\"ticks\":\"\",\"title\":{\"standoff\":15},\"zerolinecolor\":\"white\",\"zerolinewidth\":2}}},\"title\":{\"text\":\"R2 and RMSE Per Iteration\"},\"width\":900,\"xaxis\":{\"anchor\":\"y\",\"domain\":[0.0,0.94],\"title\":{\"text\":\"Iteration\"}},\"yaxis\":{\"anchor\":\"x\",\"domain\":[0.0,1.0],\"title\":{\"text\":\"R2\"}},\"yaxis2\":{\"anchor\":\"x\",\"overlaying\":\"y\",\"side\":\"right\",\"title\":{\"text\":\"RMSE\"}}},                        {\"responsive\": true}                    ).then(function(){\n",
       "                            \n",
       "var gd = document.getElementById('10bbbac7-d0a6-4c76-bb93-277fe5574201');\n",
       "var x = new MutationObserver(function (mutations, observer) {{\n",
       "        var display = window.getComputedStyle(gd).display;\n",
       "        if (!display || display === 'none') {{\n",
       "            console.log([gd, 'removed!']);\n",
       "            Plotly.purge(gd);\n",
       "            observer.disconnect();\n",
       "        }}\n",
       "}});\n",
       "\n",
       "// Listen for the removal of the full notebook cells\n",
       "var notebookContainer = gd.closest('#notebook-container');\n",
       "if (notebookContainer) {{\n",
       "    x.observe(notebookContainer, {childList: true});\n",
       "}}\n",
       "\n",
       "// Listen for the clearing of the current output cell\n",
       "var outputEl = gd.closest('.output');\n",
       "if (outputEl) {{\n",
       "    x.observe(outputEl, {childList: true});\n",
       "}}\n",
       "\n",
       "                        })                };                });            </script>        </div>"
      ]
     },
     "metadata": {},
     "output_type": "display_data"
    }
   ],
   "source": [
    "fig = make_subplots(specs=[[{\"secondary_y\": True}]])\n",
    "\n",
    "\n",
    "fig.add_trace(go.Scatter(y =  r2.r2, x = r2.index, name = \"R2\"),  secondary_y=False)\n",
    "fig.add_trace(go.Scatter(y =  r2.neg_root_mean_squared_error * -1, x = r2.index, name = \"RMSE\"), secondary_y=True)\n",
    "\n",
    "\n",
    "fig.update_layout(title=\"R2 and RMSE Per Iteration\",\n",
    "                    xaxis_title='Iteration',\n",
    "                    yaxis_title='R2',\n",
    "                    yaxis2_title='RMSE',\n",
    "                   autosize=False,\n",
    "                   width=900,\n",
    "                  height=500,\n",
    "                 )\n",
    "fig.update_layout(title_text = \"R2 and RMSE Per Iteration\")\n",
    "\n",
    "fig.show()"
   ]
  },
  {
   "cell_type": "code",
   "execution_count": 9,
   "id": "b26ad91c-ba65-4196-ab52-2b91c36190fe",
   "metadata": {},
   "outputs": [
    {
     "data": {
      "application/vnd.plotly.v1+json": {
       "config": {
        "plotlyServerURL": "https://plot.ly"
       },
       "data": [
        {
         "hovertemplate": "index=%{x}<br>total_zeros=%{y}<extra></extra>",
         "legendgroup": "",
         "line": {
          "color": "#636efa",
          "dash": "solid"
         },
         "marker": {
          "symbol": "circle"
         },
         "mode": "lines",
         "name": "",
         "orientation": "v",
         "showlegend": false,
         "type": "scatter",
         "x": [
          0,
          1,
          2,
          3,
          4,
          5,
          6,
          7,
          8,
          9,
          10
         ],
         "xaxis": "x",
         "y": [
          7203,
          3765,
          4154,
          3138,
          2661,
          2417,
          2965,
          2868,
          2417,
          2731,
          2336
         ],
         "yaxis": "y"
        }
       ],
       "layout": {
        "autosize": false,
        "height": 500,
        "legend": {
         "tracegroupgap": 0
        },
        "margin": {
         "t": 60
        },
        "template": {
         "data": {
          "bar": [
           {
            "error_x": {
             "color": "#2a3f5f"
            },
            "error_y": {
             "color": "#2a3f5f"
            },
            "marker": {
             "line": {
              "color": "#E5ECF6",
              "width": 0.5
             },
             "pattern": {
              "fillmode": "overlay",
              "size": 10,
              "solidity": 0.2
             }
            },
            "type": "bar"
           }
          ],
          "barpolar": [
           {
            "marker": {
             "line": {
              "color": "#E5ECF6",
              "width": 0.5
             },
             "pattern": {
              "fillmode": "overlay",
              "size": 10,
              "solidity": 0.2
             }
            },
            "type": "barpolar"
           }
          ],
          "carpet": [
           {
            "aaxis": {
             "endlinecolor": "#2a3f5f",
             "gridcolor": "white",
             "linecolor": "white",
             "minorgridcolor": "white",
             "startlinecolor": "#2a3f5f"
            },
            "baxis": {
             "endlinecolor": "#2a3f5f",
             "gridcolor": "white",
             "linecolor": "white",
             "minorgridcolor": "white",
             "startlinecolor": "#2a3f5f"
            },
            "type": "carpet"
           }
          ],
          "choropleth": [
           {
            "colorbar": {
             "outlinewidth": 0,
             "ticks": ""
            },
            "type": "choropleth"
           }
          ],
          "contour": [
           {
            "colorbar": {
             "outlinewidth": 0,
             "ticks": ""
            },
            "colorscale": [
             [
              0,
              "#0d0887"
             ],
             [
              0.1111111111111111,
              "#46039f"
             ],
             [
              0.2222222222222222,
              "#7201a8"
             ],
             [
              0.3333333333333333,
              "#9c179e"
             ],
             [
              0.4444444444444444,
              "#bd3786"
             ],
             [
              0.5555555555555556,
              "#d8576b"
             ],
             [
              0.6666666666666666,
              "#ed7953"
             ],
             [
              0.7777777777777778,
              "#fb9f3a"
             ],
             [
              0.8888888888888888,
              "#fdca26"
             ],
             [
              1,
              "#f0f921"
             ]
            ],
            "type": "contour"
           }
          ],
          "contourcarpet": [
           {
            "colorbar": {
             "outlinewidth": 0,
             "ticks": ""
            },
            "type": "contourcarpet"
           }
          ],
          "heatmap": [
           {
            "colorbar": {
             "outlinewidth": 0,
             "ticks": ""
            },
            "colorscale": [
             [
              0,
              "#0d0887"
             ],
             [
              0.1111111111111111,
              "#46039f"
             ],
             [
              0.2222222222222222,
              "#7201a8"
             ],
             [
              0.3333333333333333,
              "#9c179e"
             ],
             [
              0.4444444444444444,
              "#bd3786"
             ],
             [
              0.5555555555555556,
              "#d8576b"
             ],
             [
              0.6666666666666666,
              "#ed7953"
             ],
             [
              0.7777777777777778,
              "#fb9f3a"
             ],
             [
              0.8888888888888888,
              "#fdca26"
             ],
             [
              1,
              "#f0f921"
             ]
            ],
            "type": "heatmap"
           }
          ],
          "heatmapgl": [
           {
            "colorbar": {
             "outlinewidth": 0,
             "ticks": ""
            },
            "colorscale": [
             [
              0,
              "#0d0887"
             ],
             [
              0.1111111111111111,
              "#46039f"
             ],
             [
              0.2222222222222222,
              "#7201a8"
             ],
             [
              0.3333333333333333,
              "#9c179e"
             ],
             [
              0.4444444444444444,
              "#bd3786"
             ],
             [
              0.5555555555555556,
              "#d8576b"
             ],
             [
              0.6666666666666666,
              "#ed7953"
             ],
             [
              0.7777777777777778,
              "#fb9f3a"
             ],
             [
              0.8888888888888888,
              "#fdca26"
             ],
             [
              1,
              "#f0f921"
             ]
            ],
            "type": "heatmapgl"
           }
          ],
          "histogram": [
           {
            "marker": {
             "pattern": {
              "fillmode": "overlay",
              "size": 10,
              "solidity": 0.2
             }
            },
            "type": "histogram"
           }
          ],
          "histogram2d": [
           {
            "colorbar": {
             "outlinewidth": 0,
             "ticks": ""
            },
            "colorscale": [
             [
              0,
              "#0d0887"
             ],
             [
              0.1111111111111111,
              "#46039f"
             ],
             [
              0.2222222222222222,
              "#7201a8"
             ],
             [
              0.3333333333333333,
              "#9c179e"
             ],
             [
              0.4444444444444444,
              "#bd3786"
             ],
             [
              0.5555555555555556,
              "#d8576b"
             ],
             [
              0.6666666666666666,
              "#ed7953"
             ],
             [
              0.7777777777777778,
              "#fb9f3a"
             ],
             [
              0.8888888888888888,
              "#fdca26"
             ],
             [
              1,
              "#f0f921"
             ]
            ],
            "type": "histogram2d"
           }
          ],
          "histogram2dcontour": [
           {
            "colorbar": {
             "outlinewidth": 0,
             "ticks": ""
            },
            "colorscale": [
             [
              0,
              "#0d0887"
             ],
             [
              0.1111111111111111,
              "#46039f"
             ],
             [
              0.2222222222222222,
              "#7201a8"
             ],
             [
              0.3333333333333333,
              "#9c179e"
             ],
             [
              0.4444444444444444,
              "#bd3786"
             ],
             [
              0.5555555555555556,
              "#d8576b"
             ],
             [
              0.6666666666666666,
              "#ed7953"
             ],
             [
              0.7777777777777778,
              "#fb9f3a"
             ],
             [
              0.8888888888888888,
              "#fdca26"
             ],
             [
              1,
              "#f0f921"
             ]
            ],
            "type": "histogram2dcontour"
           }
          ],
          "mesh3d": [
           {
            "colorbar": {
             "outlinewidth": 0,
             "ticks": ""
            },
            "type": "mesh3d"
           }
          ],
          "parcoords": [
           {
            "line": {
             "colorbar": {
              "outlinewidth": 0,
              "ticks": ""
             }
            },
            "type": "parcoords"
           }
          ],
          "pie": [
           {
            "automargin": true,
            "type": "pie"
           }
          ],
          "scatter": [
           {
            "marker": {
             "colorbar": {
              "outlinewidth": 0,
              "ticks": ""
             }
            },
            "type": "scatter"
           }
          ],
          "scatter3d": [
           {
            "line": {
             "colorbar": {
              "outlinewidth": 0,
              "ticks": ""
             }
            },
            "marker": {
             "colorbar": {
              "outlinewidth": 0,
              "ticks": ""
             }
            },
            "type": "scatter3d"
           }
          ],
          "scattercarpet": [
           {
            "marker": {
             "colorbar": {
              "outlinewidth": 0,
              "ticks": ""
             }
            },
            "type": "scattercarpet"
           }
          ],
          "scattergeo": [
           {
            "marker": {
             "colorbar": {
              "outlinewidth": 0,
              "ticks": ""
             }
            },
            "type": "scattergeo"
           }
          ],
          "scattergl": [
           {
            "marker": {
             "colorbar": {
              "outlinewidth": 0,
              "ticks": ""
             }
            },
            "type": "scattergl"
           }
          ],
          "scattermapbox": [
           {
            "marker": {
             "colorbar": {
              "outlinewidth": 0,
              "ticks": ""
             }
            },
            "type": "scattermapbox"
           }
          ],
          "scatterpolar": [
           {
            "marker": {
             "colorbar": {
              "outlinewidth": 0,
              "ticks": ""
             }
            },
            "type": "scatterpolar"
           }
          ],
          "scatterpolargl": [
           {
            "marker": {
             "colorbar": {
              "outlinewidth": 0,
              "ticks": ""
             }
            },
            "type": "scatterpolargl"
           }
          ],
          "scatterternary": [
           {
            "marker": {
             "colorbar": {
              "outlinewidth": 0,
              "ticks": ""
             }
            },
            "type": "scatterternary"
           }
          ],
          "surface": [
           {
            "colorbar": {
             "outlinewidth": 0,
             "ticks": ""
            },
            "colorscale": [
             [
              0,
              "#0d0887"
             ],
             [
              0.1111111111111111,
              "#46039f"
             ],
             [
              0.2222222222222222,
              "#7201a8"
             ],
             [
              0.3333333333333333,
              "#9c179e"
             ],
             [
              0.4444444444444444,
              "#bd3786"
             ],
             [
              0.5555555555555556,
              "#d8576b"
             ],
             [
              0.6666666666666666,
              "#ed7953"
             ],
             [
              0.7777777777777778,
              "#fb9f3a"
             ],
             [
              0.8888888888888888,
              "#fdca26"
             ],
             [
              1,
              "#f0f921"
             ]
            ],
            "type": "surface"
           }
          ],
          "table": [
           {
            "cells": {
             "fill": {
              "color": "#EBF0F8"
             },
             "line": {
              "color": "white"
             }
            },
            "header": {
             "fill": {
              "color": "#C8D4E3"
             },
             "line": {
              "color": "white"
             }
            },
            "type": "table"
           }
          ]
         },
         "layout": {
          "annotationdefaults": {
           "arrowcolor": "#2a3f5f",
           "arrowhead": 0,
           "arrowwidth": 1
          },
          "autotypenumbers": "strict",
          "coloraxis": {
           "colorbar": {
            "outlinewidth": 0,
            "ticks": ""
           }
          },
          "colorscale": {
           "diverging": [
            [
             0,
             "#8e0152"
            ],
            [
             0.1,
             "#c51b7d"
            ],
            [
             0.2,
             "#de77ae"
            ],
            [
             0.3,
             "#f1b6da"
            ],
            [
             0.4,
             "#fde0ef"
            ],
            [
             0.5,
             "#f7f7f7"
            ],
            [
             0.6,
             "#e6f5d0"
            ],
            [
             0.7,
             "#b8e186"
            ],
            [
             0.8,
             "#7fbc41"
            ],
            [
             0.9,
             "#4d9221"
            ],
            [
             1,
             "#276419"
            ]
           ],
           "sequential": [
            [
             0,
             "#0d0887"
            ],
            [
             0.1111111111111111,
             "#46039f"
            ],
            [
             0.2222222222222222,
             "#7201a8"
            ],
            [
             0.3333333333333333,
             "#9c179e"
            ],
            [
             0.4444444444444444,
             "#bd3786"
            ],
            [
             0.5555555555555556,
             "#d8576b"
            ],
            [
             0.6666666666666666,
             "#ed7953"
            ],
            [
             0.7777777777777778,
             "#fb9f3a"
            ],
            [
             0.8888888888888888,
             "#fdca26"
            ],
            [
             1,
             "#f0f921"
            ]
           ],
           "sequentialminus": [
            [
             0,
             "#0d0887"
            ],
            [
             0.1111111111111111,
             "#46039f"
            ],
            [
             0.2222222222222222,
             "#7201a8"
            ],
            [
             0.3333333333333333,
             "#9c179e"
            ],
            [
             0.4444444444444444,
             "#bd3786"
            ],
            [
             0.5555555555555556,
             "#d8576b"
            ],
            [
             0.6666666666666666,
             "#ed7953"
            ],
            [
             0.7777777777777778,
             "#fb9f3a"
            ],
            [
             0.8888888888888888,
             "#fdca26"
            ],
            [
             1,
             "#f0f921"
            ]
           ]
          },
          "colorway": [
           "#636efa",
           "#EF553B",
           "#00cc96",
           "#ab63fa",
           "#FFA15A",
           "#19d3f3",
           "#FF6692",
           "#B6E880",
           "#FF97FF",
           "#FECB52"
          ],
          "font": {
           "color": "#2a3f5f"
          },
          "geo": {
           "bgcolor": "white",
           "lakecolor": "white",
           "landcolor": "#E5ECF6",
           "showlakes": true,
           "showland": true,
           "subunitcolor": "white"
          },
          "hoverlabel": {
           "align": "left"
          },
          "hovermode": "closest",
          "mapbox": {
           "style": "light"
          },
          "paper_bgcolor": "white",
          "plot_bgcolor": "#E5ECF6",
          "polar": {
           "angularaxis": {
            "gridcolor": "white",
            "linecolor": "white",
            "ticks": ""
           },
           "bgcolor": "#E5ECF6",
           "radialaxis": {
            "gridcolor": "white",
            "linecolor": "white",
            "ticks": ""
           }
          },
          "scene": {
           "xaxis": {
            "backgroundcolor": "#E5ECF6",
            "gridcolor": "white",
            "gridwidth": 2,
            "linecolor": "white",
            "showbackground": true,
            "ticks": "",
            "zerolinecolor": "white"
           },
           "yaxis": {
            "backgroundcolor": "#E5ECF6",
            "gridcolor": "white",
            "gridwidth": 2,
            "linecolor": "white",
            "showbackground": true,
            "ticks": "",
            "zerolinecolor": "white"
           },
           "zaxis": {
            "backgroundcolor": "#E5ECF6",
            "gridcolor": "white",
            "gridwidth": 2,
            "linecolor": "white",
            "showbackground": true,
            "ticks": "",
            "zerolinecolor": "white"
           }
          },
          "shapedefaults": {
           "line": {
            "color": "#2a3f5f"
           }
          },
          "ternary": {
           "aaxis": {
            "gridcolor": "white",
            "linecolor": "white",
            "ticks": ""
           },
           "baxis": {
            "gridcolor": "white",
            "linecolor": "white",
            "ticks": ""
           },
           "bgcolor": "#E5ECF6",
           "caxis": {
            "gridcolor": "white",
            "linecolor": "white",
            "ticks": ""
           }
          },
          "title": {
           "x": 0.05
          },
          "xaxis": {
           "automargin": true,
           "gridcolor": "white",
           "linecolor": "white",
           "ticks": "",
           "title": {
            "standoff": 15
           },
           "zerolinecolor": "white",
           "zerolinewidth": 2
          },
          "yaxis": {
           "automargin": true,
           "gridcolor": "white",
           "linecolor": "white",
           "ticks": "",
           "title": {
            "standoff": 15
           },
           "zerolinecolor": "white",
           "zerolinewidth": 2
          }
         }
        },
        "title": {
         "text": "Zero Weight Counts Per Iteration"
        },
        "width": 800,
        "xaxis": {
         "anchor": "y",
         "autorange": true,
         "domain": [
          0,
          1
         ],
         "range": [
          0,
          10
         ],
         "title": {
          "text": "index"
         },
         "type": "linear"
        },
        "yaxis": {
         "anchor": "x",
         "autorange": true,
         "domain": [
          0,
          1
         ],
         "range": [
          2065.6111111111113,
          7473.388888888889
         ],
         "title": {
          "text": "total_zeros"
         },
         "type": "linear"
        }
       }
      },
      "image/png": "[encoded data removed]",
      "text/html": [
       "<div>                            <div id=\"77e985e7-05d1-4e46-a97e-32b568c0b1b3\" class=\"plotly-graph-div\" style=\"height:500px; width:800px;\"></div>            <script type=\"text/javascript\">                require([\"plotly\"], function(Plotly) {                    window.PLOTLYENV=window.PLOTLYENV || {};                                    if (document.getElementById(\"77e985e7-05d1-4e46-a97e-32b568c0b1b3\")) {                    Plotly.newPlot(                        \"77e985e7-05d1-4e46-a97e-32b568c0b1b3\",                        [{\"hovertemplate\":\"index=%{x}<br>total_zeros=%{y}<extra></extra>\",\"legendgroup\":\"\",\"line\":{\"color\":\"#636efa\",\"dash\":\"solid\"},\"marker\":{\"symbol\":\"circle\"},\"mode\":\"lines\",\"name\":\"\",\"orientation\":\"v\",\"showlegend\":false,\"type\":\"scatter\",\"x\":[0,1,2,3,4,5,6,7,8,9,10],\"xaxis\":\"x\",\"y\":[7203.0,3765.0,4154.0,3138.0,2661.0,2417.0,2965.0,2868.0,2417.0,2731.0,2336.0],\"yaxis\":\"y\"}],                        {\"autosize\":false,\"height\":500,\"legend\":{\"tracegroupgap\":0},\"margin\":{\"t\":60},\"template\":{\"data\":{\"bar\":[{\"error_x\":{\"color\":\"#2a3f5f\"},\"error_y\":{\"color\":\"#2a3f5f\"},\"marker\":{\"line\":{\"color\":\"#E5ECF6\",\"width\":0.5},\"pattern\":{\"fillmode\":\"overlay\",\"size\":10,\"solidity\":0.2}},\"type\":\"bar\"}],\"barpolar\":[{\"marker\":{\"line\":{\"color\":\"#E5ECF6\",\"width\":0.5},\"pattern\":{\"fillmode\":\"overlay\",\"size\":10,\"solidity\":0.2}},\"type\":\"barpolar\"}],\"carpet\":[{\"aaxis\":{\"endlinecolor\":\"#2a3f5f\",\"gridcolor\":\"white\",\"linecolor\":\"white\",\"minorgridcolor\":\"white\",\"startlinecolor\":\"#2a3f5f\"},\"baxis\":{\"endlinecolor\":\"#2a3f5f\",\"gridcolor\":\"white\",\"linecolor\":\"white\",\"minorgridcolor\":\"white\",\"startlinecolor\":\"#2a3f5f\"},\"type\":\"carpet\"}],\"choropleth\":[{\"colorbar\":{\"outlinewidth\":0,\"ticks\":\"\"},\"type\":\"choropleth\"}],\"contour\":[{\"colorbar\":{\"outlinewidth\":0,\"ticks\":\"\"},\"colorscale\":[[0.0,\"#0d0887\"],[0.1111111111111111,\"#46039f\"],[0.2222222222222222,\"#7201a8\"],[0.3333333333333333,\"#9c179e\"],[0.4444444444444444,\"#bd3786\"],[0.5555555555555556,\"#d8576b\"],[0.6666666666666666,\"#ed7953\"],[0.7777777777777778,\"#fb9f3a\"],[0.8888888888888888,\"#fdca26\"],[1.0,\"#f0f921\"]],\"type\":\"contour\"}],\"contourcarpet\":[{\"colorbar\":{\"outlinewidth\":0,\"ticks\":\"\"},\"type\":\"contourcarpet\"}],\"heatmap\":[{\"colorbar\":{\"outlinewidth\":0,\"ticks\":\"\"},\"colorscale\":[[0.0,\"#0d0887\"],[0.1111111111111111,\"#46039f\"],[0.2222222222222222,\"#7201a8\"],[0.3333333333333333,\"#9c179e\"],[0.4444444444444444,\"#bd3786\"],[0.5555555555555556,\"#d8576b\"],[0.6666666666666666,\"#ed7953\"],[0.7777777777777778,\"#fb9f3a\"],[0.8888888888888888,\"#fdca26\"],[1.0,\"#f0f921\"]],\"type\":\"heatmap\"}],\"heatmapgl\":[{\"colorbar\":{\"outlinewidth\":0,\"ticks\":\"\"},\"colorscale\":[[0.0,\"#0d0887\"],[0.1111111111111111,\"#46039f\"],[0.2222222222222222,\"#7201a8\"],[0.3333333333333333,\"#9c179e\"],[0.4444444444444444,\"#bd3786\"],[0.5555555555555556,\"#d8576b\"],[0.6666666666666666,\"#ed7953\"],[0.7777777777777778,\"#fb9f3a\"],[0.8888888888888888,\"#fdca26\"],[1.0,\"#f0f921\"]],\"type\":\"heatmapgl\"}],\"histogram\":[{\"marker\":{\"pattern\":{\"fillmode\":\"overlay\",\"size\":10,\"solidity\":0.2}},\"type\":\"histogram\"}],\"histogram2d\":[{\"colorbar\":{\"outlinewidth\":0,\"ticks\":\"\"},\"colorscale\":[[0.0,\"#0d0887\"],[0.1111111111111111,\"#46039f\"],[0.2222222222222222,\"#7201a8\"],[0.3333333333333333,\"#9c179e\"],[0.4444444444444444,\"#bd3786\"],[0.5555555555555556,\"#d8576b\"],[0.6666666666666666,\"#ed7953\"],[0.7777777777777778,\"#fb9f3a\"],[0.8888888888888888,\"#fdca26\"],[1.0,\"#f0f921\"]],\"type\":\"histogram2d\"}],\"histogram2dcontour\":[{\"colorbar\":{\"outlinewidth\":0,\"ticks\":\"\"},\"colorscale\":[[0.0,\"#0d0887\"],[0.1111111111111111,\"#46039f\"],[0.2222222222222222,\"#7201a8\"],[0.3333333333333333,\"#9c179e\"],[0.4444444444444444,\"#bd3786\"],[0.5555555555555556,\"#d8576b\"],[0.6666666666666666,\"#ed7953\"],[0.7777777777777778,\"#fb9f3a\"],[0.8888888888888888,\"#fdca26\"],[1.0,\"#f0f921\"]],\"type\":\"histogram2dcontour\"}],\"mesh3d\":[{\"colorbar\":{\"outlinewidth\":0,\"ticks\":\"\"},\"type\":\"mesh3d\"}],\"parcoords\":[{\"line\":{\"colorbar\":{\"outlinewidth\":0,\"ticks\":\"\"}},\"type\":\"parcoords\"}],\"pie\":[{\"automargin\":true,\"type\":\"pie\"}],\"scatter\":[{\"marker\":{\"colorbar\":{\"outlinewidth\":0,\"ticks\":\"\"}},\"type\":\"scatter\"}],\"scatter3d\":[{\"line\":{\"colorbar\":{\"outlinewidth\":0,\"ticks\":\"\"}},\"marker\":{\"colorbar\":{\"outlinewidth\":0,\"ticks\":\"\"}},\"type\":\"scatter3d\"}],\"scattercarpet\":[{\"marker\":{\"colorbar\":{\"outlinewidth\":0,\"ticks\":\"\"}},\"type\":\"scattercarpet\"}],\"scattergeo\":[{\"marker\":{\"colorbar\":{\"outlinewidth\":0,\"ticks\":\"\"}},\"type\":\"scattergeo\"}],\"scattergl\":[{\"marker\":{\"colorbar\":{\"outlinewidth\":0,\"ticks\":\"\"}},\"type\":\"scattergl\"}],\"scattermapbox\":[{\"marker\":{\"colorbar\":{\"outlinewidth\":0,\"ticks\":\"\"}},\"type\":\"scattermapbox\"}],\"scatterpolar\":[{\"marker\":{\"colorbar\":{\"outlinewidth\":0,\"ticks\":\"\"}},\"type\":\"scatterpolar\"}],\"scatterpolargl\":[{\"marker\":{\"colorbar\":{\"outlinewidth\":0,\"ticks\":\"\"}},\"type\":\"scatterpolargl\"}],\"scatterternary\":[{\"marker\":{\"colorbar\":{\"outlinewidth\":0,\"ticks\":\"\"}},\"type\":\"scatterternary\"}],\"surface\":[{\"colorbar\":{\"outlinewidth\":0,\"ticks\":\"\"},\"colorscale\":[[0.0,\"#0d0887\"],[0.1111111111111111,\"#46039f\"],[0.2222222222222222,\"#7201a8\"],[0.3333333333333333,\"#9c179e\"],[0.4444444444444444,\"#bd3786\"],[0.5555555555555556,\"#d8576b\"],[0.6666666666666666,\"#ed7953\"],[0.7777777777777778,\"#fb9f3a\"],[0.8888888888888888,\"#fdca26\"],[1.0,\"#f0f921\"]],\"type\":\"surface\"}],\"table\":[{\"cells\":{\"fill\":{\"color\":\"#EBF0F8\"},\"line\":{\"color\":\"white\"}},\"header\":{\"fill\":{\"color\":\"#C8D4E3\"},\"line\":{\"color\":\"white\"}},\"type\":\"table\"}]},\"layout\":{\"annotationdefaults\":{\"arrowcolor\":\"#2a3f5f\",\"arrowhead\":0,\"arrowwidth\":1},\"autotypenumbers\":\"strict\",\"coloraxis\":{\"colorbar\":{\"outlinewidth\":0,\"ticks\":\"\"}},\"colorscale\":{\"diverging\":[[0,\"#8e0152\"],[0.1,\"#c51b7d\"],[0.2,\"#de77ae\"],[0.3,\"#f1b6da\"],[0.4,\"#fde0ef\"],[0.5,\"#f7f7f7\"],[0.6,\"#e6f5d0\"],[0.7,\"#b8e186\"],[0.8,\"#7fbc41\"],[0.9,\"#4d9221\"],[1,\"#276419\"]],\"sequential\":[[0.0,\"#0d0887\"],[0.1111111111111111,\"#46039f\"],[0.2222222222222222,\"#7201a8\"],[0.3333333333333333,\"#9c179e\"],[0.4444444444444444,\"#bd3786\"],[0.5555555555555556,\"#d8576b\"],[0.6666666666666666,\"#ed7953\"],[0.7777777777777778,\"#fb9f3a\"],[0.8888888888888888,\"#fdca26\"],[1.0,\"#f0f921\"]],\"sequentialminus\":[[0.0,\"#0d0887\"],[0.1111111111111111,\"#46039f\"],[0.2222222222222222,\"#7201a8\"],[0.3333333333333333,\"#9c179e\"],[0.4444444444444444,\"#bd3786\"],[0.5555555555555556,\"#d8576b\"],[0.6666666666666666,\"#ed7953\"],[0.7777777777777778,\"#fb9f3a\"],[0.8888888888888888,\"#fdca26\"],[1.0,\"#f0f921\"]]},\"colorway\":[\"#636efa\",\"#EF553B\",\"#00cc96\",\"#ab63fa\",\"#FFA15A\",\"#19d3f3\",\"#FF6692\",\"#B6E880\",\"#FF97FF\",\"#FECB52\"],\"font\":{\"color\":\"#2a3f5f\"},\"geo\":{\"bgcolor\":\"white\",\"lakecolor\":\"white\",\"landcolor\":\"#E5ECF6\",\"showlakes\":true,\"showland\":true,\"subunitcolor\":\"white\"},\"hoverlabel\":{\"align\":\"left\"},\"hovermode\":\"closest\",\"mapbox\":{\"style\":\"light\"},\"paper_bgcolor\":\"white\",\"plot_bgcolor\":\"#E5ECF6\",\"polar\":{\"angularaxis\":{\"gridcolor\":\"white\",\"linecolor\":\"white\",\"ticks\":\"\"},\"bgcolor\":\"#E5ECF6\",\"radialaxis\":{\"gridcolor\":\"white\",\"linecolor\":\"white\",\"ticks\":\"\"}},\"scene\":{\"xaxis\":{\"backgroundcolor\":\"#E5ECF6\",\"gridcolor\":\"white\",\"gridwidth\":2,\"linecolor\":\"white\",\"showbackground\":true,\"ticks\":\"\",\"zerolinecolor\":\"white\"},\"yaxis\":{\"backgroundcolor\":\"#E5ECF6\",\"gridcolor\":\"white\",\"gridwidth\":2,\"linecolor\":\"white\",\"showbackground\":true,\"ticks\":\"\",\"zerolinecolor\":\"white\"},\"zaxis\":{\"backgroundcolor\":\"#E5ECF6\",\"gridcolor\":\"white\",\"gridwidth\":2,\"linecolor\":\"white\",\"showbackground\":true,\"ticks\":\"\",\"zerolinecolor\":\"white\"}},\"shapedefaults\":{\"line\":{\"color\":\"#2a3f5f\"}},\"ternary\":{\"aaxis\":{\"gridcolor\":\"white\",\"linecolor\":\"white\",\"ticks\":\"\"},\"baxis\":{\"gridcolor\":\"white\",\"linecolor\":\"white\",\"ticks\":\"\"},\"bgcolor\":\"#E5ECF6\",\"caxis\":{\"gridcolor\":\"white\",\"linecolor\":\"white\",\"ticks\":\"\"}},\"title\":{\"x\":0.05},\"xaxis\":{\"automargin\":true,\"gridcolor\":\"white\",\"linecolor\":\"white\",\"ticks\":\"\",\"title\":{\"standoff\":15},\"zerolinecolor\":\"white\",\"zerolinewidth\":2},\"yaxis\":{\"automargin\":true,\"gridcolor\":\"white\",\"linecolor\":\"white\",\"ticks\":\"\",\"title\":{\"standoff\":15},\"zerolinecolor\":\"white\",\"zerolinewidth\":2}}},\"title\":{\"text\":\"Zero Weight Counts Per Iteration\"},\"width\":800,\"xaxis\":{\"anchor\":\"y\",\"domain\":[0.0,1.0],\"title\":{\"text\":\"index\"}},\"yaxis\":{\"anchor\":\"x\",\"domain\":[0.0,1.0],\"title\":{\"text\":\"total_zeros\"}}},                        {\"responsive\": true}                    ).then(function(){\n",
       "                            \n",
       "var gd = document.getElementById('77e985e7-05d1-4e46-a97e-32b568c0b1b3');\n",
       "var x = new MutationObserver(function (mutations, observer) {{\n",
       "        var display = window.getComputedStyle(gd).display;\n",
       "        if (!display || display === 'none') {{\n",
       "            console.log([gd, 'removed!']);\n",
       "            Plotly.purge(gd);\n",
       "            observer.disconnect();\n",
       "        }}\n",
       "}});\n",
       "\n",
       "// Listen for the removal of the full notebook cells\n",
       "var notebookContainer = gd.closest('#notebook-container');\n",
       "if (notebookContainer) {{\n",
       "    x.observe(notebookContainer, {childList: true});\n",
       "}}\n",
       "\n",
       "// Listen for the clearing of the current output cell\n",
       "var outputEl = gd.closest('.output');\n",
       "if (outputEl) {{\n",
       "    x.observe(outputEl, {childList: true});\n",
       "}}\n",
       "\n",
       "                        })                };                });            </script>        </div>"
      ]
     },
     "metadata": {},
     "output_type": "display_data"
    }
   ],
   "source": [
    "fig = px.line(r2, x=r2.index, y=r2.total_zeros)\n",
    "\n",
    "fig.update_layout(\n",
    "    autosize=False,\n",
    "    width=800,\n",
    "    height=500,\n",
    "    title_text=f\"Zero Weight Counts Per Iteration\",\n",
    ")\n",
    "\n",
    "fig.show()"
   ]
  },
  {
   "cell_type": "code",
   "execution_count": null,
   "id": "c6311065-0ed0-4ab2-99a1-eba929625194",
   "metadata": {},
   "outputs": [],
   "source": []
  },
  {
   "cell_type": "code",
   "execution_count": 10,
   "id": "11a4bbbb-d829-42bb-8ad3-2e6652d890ad",
   "metadata": {},
   "outputs": [
    {
     "data": {
      "text/html": [
       "<div><div id=49be6e65-817f-4ca0-befb-7c47c05b48c3 style=\"display:none; background-color:#9D6CFF; color:white; width:200px; height:30px; padding-left:5px; border-radius:4px; flex-direction:row; justify-content:space-around; align-items:center;\" onmouseover=\"this.style.backgroundColor='#BA9BF8'\" onmouseout=\"this.style.backgroundColor='#9D6CFF'\" onclick=\"window.commands?.execute('create-mitosheet-from-dataframe-output');\">See Full Dataframe in Mito</div> <script> if (window.commands.hasCommand('create-mitosheet-from-dataframe-output')) document.getElementById('49be6e65-817f-4ca0-befb-7c47c05b48c3').style.display = 'flex' </script> <table border=\"1\" class=\"dataframe\">\n",
       "  <thead>\n",
       "    <tr style=\"text-align: right;\">\n",
       "      <th></th>\n",
       "      <th>Feature Name</th>\n",
       "      <th>Importance</th>\n",
       "      <th>index</th>\n",
       "      <th>Zero_Count</th>\n",
       "      <th>Iteration</th>\n",
       "    </tr>\n",
       "  </thead>\n",
       "  <tbody>\n",
       "    <tr>\n",
       "      <th>0</th>\n",
       "      <td>Output 01</td>\n",
       "      <td>0.579320</td>\n",
       "      <td>Output 01</td>\n",
       "      <td>0</td>\n",
       "      <td>0</td>\n",
       "    </tr>\n",
       "    <tr>\n",
       "      <th>1</th>\n",
       "      <td>Input 01</td>\n",
       "      <td>0.064559</td>\n",
       "      <td>Input 01</td>\n",
       "      <td>330</td>\n",
       "      <td>0</td>\n",
       "    </tr>\n",
       "    <tr>\n",
       "      <th>2</th>\n",
       "      <td>Input 08</td>\n",
       "      <td>0.056970</td>\n",
       "      <td>Input 08</td>\n",
       "      <td>428</td>\n",
       "      <td>0</td>\n",
       "    </tr>\n",
       "    <tr>\n",
       "      <th>3</th>\n",
       "      <td>Input 03</td>\n",
       "      <td>0.048775</td>\n",
       "      <td>Input 03</td>\n",
       "      <td>249</td>\n",
       "      <td>0</td>\n",
       "    </tr>\n",
       "    <tr>\n",
       "      <th>4</th>\n",
       "      <td>Input 09</td>\n",
       "      <td>0.045691</td>\n",
       "      <td>Input 09</td>\n",
       "      <td>599</td>\n",
       "      <td>0</td>\n",
       "    </tr>\n",
       "    <tr>\n",
       "      <th>...</th>\n",
       "      <td>...</td>\n",
       "      <td>...</td>\n",
       "      <td>...</td>\n",
       "      <td>...</td>\n",
       "      <td>...</td>\n",
       "    </tr>\n",
       "    <tr>\n",
       "      <th>138</th>\n",
       "      <td>Input 10</td>\n",
       "      <td>0.005973</td>\n",
       "      <td>Input 10</td>\n",
       "      <td>166</td>\n",
       "      <td>10</td>\n",
       "    </tr>\n",
       "    <tr>\n",
       "      <th>139</th>\n",
       "      <td>Input 11</td>\n",
       "      <td>0.005259</td>\n",
       "      <td>Input 11</td>\n",
       "      <td>175</td>\n",
       "      <td>10</td>\n",
       "    </tr>\n",
       "    <tr>\n",
       "      <th>140</th>\n",
       "      <td>Input 02</td>\n",
       "      <td>0.003949</td>\n",
       "      <td>Input 02</td>\n",
       "      <td>813</td>\n",
       "      <td>10</td>\n",
       "    </tr>\n",
       "    <tr>\n",
       "      <th>141</th>\n",
       "      <td>Input 08</td>\n",
       "      <td>0.003193</td>\n",
       "      <td>Input 08</td>\n",
       "      <td>196</td>\n",
       "      <td>10</td>\n",
       "    </tr>\n",
       "    <tr>\n",
       "      <th>142</th>\n",
       "      <td>Input 03</td>\n",
       "      <td>0.002627</td>\n",
       "      <td>Input 03</td>\n",
       "      <td>278</td>\n",
       "      <td>10</td>\n",
       "    </tr>\n",
       "  </tbody>\n",
       "</table></div>"
      ],
      "text/plain": [
       "    Feature Name  Importance      index  Zero_Count  Iteration\n",
       "0      Output 01    0.579320  Output 01           0          0\n",
       "1       Input 01    0.064559   Input 01         330          0\n",
       "2       Input 08    0.056970   Input 08         428          0\n",
       "3       Input 03    0.048775   Input 03         249          0\n",
       "4       Input 09    0.045691   Input 09         599          0\n",
       "..           ...         ...        ...         ...        ...\n",
       "138     Input 10    0.005973   Input 10         166         10\n",
       "139     Input 11    0.005259   Input 11         175         10\n",
       "140     Input 02    0.003949   Input 02         813         10\n",
       "141     Input 08    0.003193   Input 08         196         10\n",
       "142     Input 03    0.002627   Input 03         278         10\n",
       "\n",
       "[143 rows x 5 columns]"
      ]
     },
     "execution_count": 10,
     "metadata": {},
     "output_type": "execute_result"
    }
   ],
   "source": [
    "df_imp = pd.read_pickle('Data/Data12/GB_12I1O_df_imp.pkl')\n",
    "df_imp"
   ]
  },
  {
   "cell_type": "code",
   "execution_count": 11,
   "id": "12eb0fd0-a7d6-425d-b973-00ab648b2a8b",
   "metadata": {},
   "outputs": [
    {
     "data": {
      "application/vnd.plotly.v1+json": {
       "config": {
        "plotlyServerURL": "https://plot.ly"
       },
       "data": [
        {
         "alignmentgroup": "True",
         "hovertemplate": "Feature Name=%{y}<br>Iteration=10<br>Importance=%{x}<extra></extra>",
         "ids": [
          "Output 01"
         ],
         "legendgroup": "Output 01",
         "marker": {
          "color": "#4C78A8",
          "pattern": {
           "shape": ""
          }
         },
         "name": "Output 01",
         "offsetgroup": "Output 01",
         "orientation": "h",
         "showlegend": true,
         "textposition": "auto",
         "type": "bar",
         "visible": "legendonly",
         "x": [
          0.701192785135183
         ],
         "xaxis": "x",
         "y": [
          "Output 01"
         ],
         "yaxis": "y"
        },
        {
         "alignmentgroup": "True",
         "hovertemplate": "Feature Name=%{y}<br>Iteration=10<br>Importance=%{x}<extra></extra>",
         "ids": [
          "Input 01"
         ],
         "legendgroup": "Input 01",
         "marker": {
          "color": "#F58518",
          "pattern": {
           "shape": ""
          }
         },
         "name": "Input 01",
         "offsetgroup": "Input 01",
         "orientation": "h",
         "showlegend": true,
         "textposition": "auto",
         "type": "bar",
         "x": [
          0.1400069488363969
         ],
         "xaxis": "x",
         "y": [
          "Input 01"
         ],
         "yaxis": "y"
        },
        {
         "alignmentgroup": "True",
         "hovertemplate": "Feature Name=%{y}<br>Iteration=10<br>Importance=%{x}<extra></extra>",
         "ids": [
          "Input 08"
         ],
         "legendgroup": "Input 08",
         "marker": {
          "color": "#E45756",
          "pattern": {
           "shape": ""
          }
         },
         "name": "Input 08",
         "offsetgroup": "Input 08",
         "orientation": "h",
         "showlegend": true,
         "textposition": "auto",
         "type": "bar",
         "x": [
          0.0031927532707910723
         ],
         "xaxis": "x",
         "y": [
          "Input 08"
         ],
         "yaxis": "y"
        },
        {
         "alignmentgroup": "True",
         "hovertemplate": "Feature Name=%{y}<br>Iteration=10<br>Importance=%{x}<extra></extra>",
         "ids": [
          "Input 03"
         ],
         "legendgroup": "Input 03",
         "marker": {
          "color": "#72B7B2",
          "pattern": {
           "shape": ""
          }
         },
         "name": "Input 03",
         "offsetgroup": "Input 03",
         "orientation": "h",
         "showlegend": true,
         "textposition": "auto",
         "type": "bar",
         "x": [
          0.002627036476085398
         ],
         "xaxis": "x",
         "y": [
          "Input 03"
         ],
         "yaxis": "y"
        },
        {
         "alignmentgroup": "True",
         "hovertemplate": "Feature Name=%{y}<br>Iteration=10<br>Importance=%{x}<extra></extra>",
         "ids": [
          "Input 09"
         ],
         "legendgroup": "Input 09",
         "marker": {
          "color": "#54A24B",
          "pattern": {
           "shape": ""
          }
         },
         "name": "Input 09",
         "offsetgroup": "Input 09",
         "orientation": "h",
         "showlegend": true,
         "textposition": "auto",
         "type": "bar",
         "x": [
          0.010861073563068856
         ],
         "xaxis": "x",
         "y": [
          "Input 09"
         ],
         "yaxis": "y"
        },
        {
         "alignmentgroup": "True",
         "hovertemplate": "Feature Name=%{y}<br>Iteration=10<br>Importance=%{x}<extra></extra>",
         "ids": [
          "Input 06"
         ],
         "legendgroup": "Input 06",
         "marker": {
          "color": "#EECA3B",
          "pattern": {
           "shape": ""
          }
         },
         "name": "Input 06",
         "offsetgroup": "Input 06",
         "orientation": "h",
         "showlegend": true,
         "textposition": "auto",
         "type": "bar",
         "x": [
          0.08391080453553568
         ],
         "xaxis": "x",
         "y": [
          "Input 06"
         ],
         "yaxis": "y"
        },
        {
         "alignmentgroup": "True",
         "hovertemplate": "Feature Name=%{y}<br>Iteration=10<br>Importance=%{x}<extra></extra>",
         "ids": [
          "Input 07"
         ],
         "legendgroup": "Input 07",
         "marker": {
          "color": "#B279A2",
          "pattern": {
           "shape": ""
          }
         },
         "name": "Input 07",
         "offsetgroup": "Input 07",
         "orientation": "h",
         "showlegend": true,
         "textposition": "auto",
         "type": "bar",
         "x": [
          0.006707820688931051
         ],
         "xaxis": "x",
         "y": [
          "Input 07"
         ],
         "yaxis": "y"
        },
        {
         "alignmentgroup": "True",
         "hovertemplate": "Feature Name=%{y}<br>Iteration=10<br>Importance=%{x}<extra></extra>",
         "ids": [
          "Input 04"
         ],
         "legendgroup": "Input 04",
         "marker": {
          "color": "#FF9DA6",
          "pattern": {
           "shape": ""
          }
         },
         "name": "Input 04",
         "offsetgroup": "Input 04",
         "orientation": "h",
         "showlegend": true,
         "textposition": "auto",
         "type": "bar",
         "x": [
          0.015219600574768156
         ],
         "xaxis": "x",
         "y": [
          "Input 04"
         ],
         "yaxis": "y"
        },
        {
         "alignmentgroup": "True",
         "hovertemplate": "Feature Name=%{y}<br>Iteration=10<br>Importance=%{x}<extra></extra>",
         "ids": [
          "Input 11"
         ],
         "legendgroup": "Input 11",
         "marker": {
          "color": "#9D755D",
          "pattern": {
           "shape": ""
          }
         },
         "name": "Input 11",
         "offsetgroup": "Input 11",
         "orientation": "h",
         "showlegend": true,
         "textposition": "auto",
         "type": "bar",
         "x": [
          0.0052591727023326915
         ],
         "xaxis": "x",
         "y": [
          "Input 11"
         ],
         "yaxis": "y"
        },
        {
         "alignmentgroup": "True",
         "hovertemplate": "Feature Name=%{y}<br>Iteration=10<br>Importance=%{x}<extra></extra>",
         "ids": [
          "Input 02"
         ],
         "legendgroup": "Input 02",
         "marker": {
          "color": "#BAB0AC",
          "pattern": {
           "shape": ""
          }
         },
         "name": "Input 02",
         "offsetgroup": "Input 02",
         "orientation": "h",
         "showlegend": true,
         "textposition": "auto",
         "type": "bar",
         "x": [
          0.003949285570117829
         ],
         "xaxis": "x",
         "y": [
          "Input 02"
         ],
         "yaxis": "y"
        },
        {
         "alignmentgroup": "True",
         "hovertemplate": "Feature Name=%{y}<br>Iteration=10<br>Importance=%{x}<extra></extra>",
         "ids": [
          "Input 12"
         ],
         "legendgroup": "Input 12",
         "marker": {
          "color": "#4C78A8",
          "pattern": {
           "shape": ""
          }
         },
         "name": "Input 12",
         "offsetgroup": "Input 12",
         "orientation": "h",
         "showlegend": true,
         "textposition": "auto",
         "type": "bar",
         "x": [
          0.012670147816719723
         ],
         "xaxis": "x",
         "y": [
          "Input 12"
         ],
         "yaxis": "y"
        },
        {
         "alignmentgroup": "True",
         "hovertemplate": "Feature Name=%{y}<br>Iteration=10<br>Importance=%{x}<extra></extra>",
         "ids": [
          "Input 05"
         ],
         "legendgroup": "Input 05",
         "marker": {
          "color": "#F58518",
          "pattern": {
           "shape": ""
          }
         },
         "name": "Input 05",
         "offsetgroup": "Input 05",
         "orientation": "h",
         "showlegend": true,
         "textposition": "auto",
         "type": "bar",
         "x": [
          0.008429278203643129
         ],
         "xaxis": "x",
         "y": [
          "Input 05"
         ],
         "yaxis": "y"
        },
        {
         "alignmentgroup": "True",
         "hovertemplate": "Feature Name=%{y}<br>Iteration=10<br>Importance=%{x}<extra></extra>",
         "ids": [
          "Input 10"
         ],
         "legendgroup": "Input 10",
         "marker": {
          "color": "#E45756",
          "pattern": {
           "shape": ""
          }
         },
         "name": "Input 10",
         "offsetgroup": "Input 10",
         "orientation": "h",
         "showlegend": true,
         "textposition": "auto",
         "type": "bar",
         "x": [
          0.00597329262642651
         ],
         "xaxis": "x",
         "y": [
          "Input 10"
         ],
         "yaxis": "y"
        }
       ],
       "frames": [
        {
         "data": [
          {
           "alignmentgroup": "True",
           "hovertemplate": "Feature Name=%{y}<br>Iteration=0<br>Importance=%{x}<extra></extra>",
           "ids": [
            "Output 01"
           ],
           "legendgroup": "Output 01",
           "marker": {
            "color": "#4C78A8",
            "pattern": {
             "shape": ""
            }
           },
           "name": "Output 01",
           "offsetgroup": "Output 01",
           "orientation": "h",
           "showlegend": true,
           "textposition": "auto",
           "type": "bar",
           "x": [
            0.5793200287571652
           ],
           "xaxis": "x",
           "y": [
            "Output 01"
           ],
           "yaxis": "y"
          },
          {
           "alignmentgroup": "True",
           "hovertemplate": "Feature Name=%{y}<br>Iteration=0<br>Importance=%{x}<extra></extra>",
           "ids": [
            "Input 01"
           ],
           "legendgroup": "Input 01",
           "marker": {
            "color": "#F58518",
            "pattern": {
             "shape": ""
            }
           },
           "name": "Input 01",
           "offsetgroup": "Input 01",
           "orientation": "h",
           "showlegend": true,
           "textposition": "auto",
           "type": "bar",
           "x": [
            0.06455923175539596
           ],
           "xaxis": "x",
           "y": [
            "Input 01"
           ],
           "yaxis": "y"
          },
          {
           "alignmentgroup": "True",
           "hovertemplate": "Feature Name=%{y}<br>Iteration=0<br>Importance=%{x}<extra></extra>",
           "ids": [
            "Input 08"
           ],
           "legendgroup": "Input 08",
           "marker": {
            "color": "#E45756",
            "pattern": {
             "shape": ""
            }
           },
           "name": "Input 08",
           "offsetgroup": "Input 08",
           "orientation": "h",
           "showlegend": true,
           "textposition": "auto",
           "type": "bar",
           "x": [
            0.056970393702841265
           ],
           "xaxis": "x",
           "y": [
            "Input 08"
           ],
           "yaxis": "y"
          },
          {
           "alignmentgroup": "True",
           "hovertemplate": "Feature Name=%{y}<br>Iteration=0<br>Importance=%{x}<extra></extra>",
           "ids": [
            "Input 03"
           ],
           "legendgroup": "Input 03",
           "marker": {
            "color": "#72B7B2",
            "pattern": {
             "shape": ""
            }
           },
           "name": "Input 03",
           "offsetgroup": "Input 03",
           "orientation": "h",
           "showlegend": true,
           "textposition": "auto",
           "type": "bar",
           "x": [
            0.048774908063770286
           ],
           "xaxis": "x",
           "y": [
            "Input 03"
           ],
           "yaxis": "y"
          },
          {
           "alignmentgroup": "True",
           "hovertemplate": "Feature Name=%{y}<br>Iteration=0<br>Importance=%{x}<extra></extra>",
           "ids": [
            "Input 09"
           ],
           "legendgroup": "Input 09",
           "marker": {
            "color": "#54A24B",
            "pattern": {
             "shape": ""
            }
           },
           "name": "Input 09",
           "offsetgroup": "Input 09",
           "orientation": "h",
           "showlegend": true,
           "textposition": "auto",
           "type": "bar",
           "x": [
            0.04569149852896595
           ],
           "xaxis": "x",
           "y": [
            "Input 09"
           ],
           "yaxis": "y"
          },
          {
           "alignmentgroup": "True",
           "hovertemplate": "Feature Name=%{y}<br>Iteration=0<br>Importance=%{x}<extra></extra>",
           "ids": [
            "Input 06"
           ],
           "legendgroup": "Input 06",
           "marker": {
            "color": "#EECA3B",
            "pattern": {
             "shape": ""
            }
           },
           "name": "Input 06",
           "offsetgroup": "Input 06",
           "orientation": "h",
           "showlegend": true,
           "textposition": "auto",
           "type": "bar",
           "x": [
            0.04298156877879775
           ],
           "xaxis": "x",
           "y": [
            "Input 06"
           ],
           "yaxis": "y"
          },
          {
           "alignmentgroup": "True",
           "hovertemplate": "Feature Name=%{y}<br>Iteration=0<br>Importance=%{x}<extra></extra>",
           "ids": [
            "Input 07"
           ],
           "legendgroup": "Input 07",
           "marker": {
            "color": "#B279A2",
            "pattern": {
             "shape": ""
            }
           },
           "name": "Input 07",
           "offsetgroup": "Input 07",
           "orientation": "h",
           "showlegend": true,
           "textposition": "auto",
           "type": "bar",
           "x": [
            0.03641077255954307
           ],
           "xaxis": "x",
           "y": [
            "Input 07"
           ],
           "yaxis": "y"
          },
          {
           "alignmentgroup": "True",
           "hovertemplate": "Feature Name=%{y}<br>Iteration=0<br>Importance=%{x}<extra></extra>",
           "ids": [
            "Input 04"
           ],
           "legendgroup": "Input 04",
           "marker": {
            "color": "#FF9DA6",
            "pattern": {
             "shape": ""
            }
           },
           "name": "Input 04",
           "offsetgroup": "Input 04",
           "orientation": "h",
           "showlegend": true,
           "textposition": "auto",
           "type": "bar",
           "x": [
            0.03181429372855011
           ],
           "xaxis": "x",
           "y": [
            "Input 04"
           ],
           "yaxis": "y"
          },
          {
           "alignmentgroup": "True",
           "hovertemplate": "Feature Name=%{y}<br>Iteration=0<br>Importance=%{x}<extra></extra>",
           "ids": [
            "Input 11"
           ],
           "legendgroup": "Input 11",
           "marker": {
            "color": "#9D755D",
            "pattern": {
             "shape": ""
            }
           },
           "name": "Input 11",
           "offsetgroup": "Input 11",
           "orientation": "h",
           "showlegend": true,
           "textposition": "auto",
           "type": "bar",
           "x": [
            0.02379684477961624
           ],
           "xaxis": "x",
           "y": [
            "Input 11"
           ],
           "yaxis": "y"
          },
          {
           "alignmentgroup": "True",
           "hovertemplate": "Feature Name=%{y}<br>Iteration=0<br>Importance=%{x}<extra></extra>",
           "ids": [
            "Input 02"
           ],
           "legendgroup": "Input 02",
           "marker": {
            "color": "#BAB0AC",
            "pattern": {
             "shape": ""
            }
           },
           "name": "Input 02",
           "offsetgroup": "Input 02",
           "orientation": "h",
           "showlegend": true,
           "textposition": "auto",
           "type": "bar",
           "x": [
            0.022169522450135266
           ],
           "xaxis": "x",
           "y": [
            "Input 02"
           ],
           "yaxis": "y"
          },
          {
           "alignmentgroup": "True",
           "hovertemplate": "Feature Name=%{y}<br>Iteration=0<br>Importance=%{x}<extra></extra>",
           "ids": [
            "Input 12"
           ],
           "legendgroup": "Input 12",
           "marker": {
            "color": "#4C78A8",
            "pattern": {
             "shape": ""
            }
           },
           "name": "Input 12",
           "offsetgroup": "Input 12",
           "orientation": "h",
           "showlegend": true,
           "textposition": "auto",
           "type": "bar",
           "x": [
            0.018468857743769874
           ],
           "xaxis": "x",
           "y": [
            "Input 12"
           ],
           "yaxis": "y"
          },
          {
           "alignmentgroup": "True",
           "hovertemplate": "Feature Name=%{y}<br>Iteration=0<br>Importance=%{x}<extra></extra>",
           "ids": [
            "Input 05"
           ],
           "legendgroup": "Input 05",
           "marker": {
            "color": "#F58518",
            "pattern": {
             "shape": ""
            }
           },
           "name": "Input 05",
           "offsetgroup": "Input 05",
           "orientation": "h",
           "showlegend": true,
           "textposition": "auto",
           "type": "bar",
           "x": [
            0.01536968577880344
           ],
           "xaxis": "x",
           "y": [
            "Input 05"
           ],
           "yaxis": "y"
          },
          {
           "alignmentgroup": "True",
           "hovertemplate": "Feature Name=%{y}<br>Iteration=0<br>Importance=%{x}<extra></extra>",
           "ids": [
            "Input 10"
           ],
           "legendgroup": "Input 10",
           "marker": {
            "color": "#E45756",
            "pattern": {
             "shape": ""
            }
           },
           "name": "Input 10",
           "offsetgroup": "Input 10",
           "orientation": "h",
           "showlegend": true,
           "textposition": "auto",
           "type": "bar",
           "x": [
            0.01367239337264559
           ],
           "xaxis": "x",
           "y": [
            "Input 10"
           ],
           "yaxis": "y"
          }
         ],
         "name": "0"
        },
        {
         "data": [
          {
           "alignmentgroup": "True",
           "hovertemplate": "Feature Name=%{y}<br>Iteration=1<br>Importance=%{x}<extra></extra>",
           "ids": [
            "Output 01"
           ],
           "legendgroup": "Output 01",
           "marker": {
            "color": "#4C78A8",
            "pattern": {
             "shape": ""
            }
           },
           "name": "Output 01",
           "offsetgroup": "Output 01",
           "orientation": "h",
           "showlegend": true,
           "textposition": "auto",
           "type": "bar",
           "x": [
            0.6896565478857487
           ],
           "xaxis": "x",
           "y": [
            "Output 01"
           ],
           "yaxis": "y"
          },
          {
           "alignmentgroup": "True",
           "hovertemplate": "Feature Name=%{y}<br>Iteration=1<br>Importance=%{x}<extra></extra>",
           "ids": [
            "Input 01"
           ],
           "legendgroup": "Input 01",
           "marker": {
            "color": "#F58518",
            "pattern": {
             "shape": ""
            }
           },
           "name": "Input 01",
           "offsetgroup": "Input 01",
           "orientation": "h",
           "showlegend": true,
           "textposition": "auto",
           "type": "bar",
           "x": [
            0.12504240765656865
           ],
           "xaxis": "x",
           "y": [
            "Input 01"
           ],
           "yaxis": "y"
          },
          {
           "alignmentgroup": "True",
           "hovertemplate": "Feature Name=%{y}<br>Iteration=1<br>Importance=%{x}<extra></extra>",
           "ids": [
            "Input 08"
           ],
           "legendgroup": "Input 08",
           "marker": {
            "color": "#E45756",
            "pattern": {
             "shape": ""
            }
           },
           "name": "Input 08",
           "offsetgroup": "Input 08",
           "orientation": "h",
           "showlegend": true,
           "textposition": "auto",
           "type": "bar",
           "x": [
            0.03833858709397377
           ],
           "xaxis": "x",
           "y": [
            "Input 08"
           ],
           "yaxis": "y"
          },
          {
           "alignmentgroup": "True",
           "hovertemplate": "Feature Name=%{y}<br>Iteration=1<br>Importance=%{x}<extra></extra>",
           "ids": [
            "Input 03"
           ],
           "legendgroup": "Input 03",
           "marker": {
            "color": "#72B7B2",
            "pattern": {
             "shape": ""
            }
           },
           "name": "Input 03",
           "offsetgroup": "Input 03",
           "orientation": "h",
           "showlegend": true,
           "textposition": "auto",
           "type": "bar",
           "x": [
            0.021502250258890434
           ],
           "xaxis": "x",
           "y": [
            "Input 03"
           ],
           "yaxis": "y"
          },
          {
           "alignmentgroup": "True",
           "hovertemplate": "Feature Name=%{y}<br>Iteration=1<br>Importance=%{x}<extra></extra>",
           "ids": [
            "Input 09"
           ],
           "legendgroup": "Input 09",
           "marker": {
            "color": "#54A24B",
            "pattern": {
             "shape": ""
            }
           },
           "name": "Input 09",
           "offsetgroup": "Input 09",
           "orientation": "h",
           "showlegend": true,
           "textposition": "auto",
           "type": "bar",
           "x": [
            0.006273779629911687
           ],
           "xaxis": "x",
           "y": [
            "Input 09"
           ],
           "yaxis": "y"
          },
          {
           "alignmentgroup": "True",
           "hovertemplate": "Feature Name=%{y}<br>Iteration=1<br>Importance=%{x}<extra></extra>",
           "ids": [
            "Input 06"
           ],
           "legendgroup": "Input 06",
           "marker": {
            "color": "#EECA3B",
            "pattern": {
             "shape": ""
            }
           },
           "name": "Input 06",
           "offsetgroup": "Input 06",
           "orientation": "h",
           "showlegend": true,
           "textposition": "auto",
           "type": "bar",
           "x": [
            0.04770733118011626
           ],
           "xaxis": "x",
           "y": [
            "Input 06"
           ],
           "yaxis": "y"
          },
          {
           "alignmentgroup": "True",
           "hovertemplate": "Feature Name=%{y}<br>Iteration=1<br>Importance=%{x}<extra></extra>",
           "ids": [
            "Input 07"
           ],
           "legendgroup": "Input 07",
           "marker": {
            "color": "#B279A2",
            "pattern": {
             "shape": ""
            }
           },
           "name": "Input 07",
           "offsetgroup": "Input 07",
           "orientation": "h",
           "showlegend": true,
           "textposition": "auto",
           "type": "bar",
           "x": [
            0.011894345152683086
           ],
           "xaxis": "x",
           "y": [
            "Input 07"
           ],
           "yaxis": "y"
          },
          {
           "alignmentgroup": "True",
           "hovertemplate": "Feature Name=%{y}<br>Iteration=1<br>Importance=%{x}<extra></extra>",
           "ids": [
            "Input 04"
           ],
           "legendgroup": "Input 04",
           "marker": {
            "color": "#FF9DA6",
            "pattern": {
             "shape": ""
            }
           },
           "name": "Input 04",
           "offsetgroup": "Input 04",
           "orientation": "h",
           "showlegend": true,
           "textposition": "auto",
           "type": "bar",
           "x": [
            0.01309073573710176
           ],
           "xaxis": "x",
           "y": [
            "Input 04"
           ],
           "yaxis": "y"
          },
          {
           "alignmentgroup": "True",
           "hovertemplate": "Feature Name=%{y}<br>Iteration=1<br>Importance=%{x}<extra></extra>",
           "ids": [
            "Input 11"
           ],
           "legendgroup": "Input 11",
           "marker": {
            "color": "#9D755D",
            "pattern": {
             "shape": ""
            }
           },
           "name": "Input 11",
           "offsetgroup": "Input 11",
           "orientation": "h",
           "showlegend": true,
           "textposition": "auto",
           "type": "bar",
           "x": [
            0.010265604269413321
           ],
           "xaxis": "x",
           "y": [
            "Input 11"
           ],
           "yaxis": "y"
          },
          {
           "alignmentgroup": "True",
           "hovertemplate": "Feature Name=%{y}<br>Iteration=1<br>Importance=%{x}<extra></extra>",
           "ids": [
            "Input 02"
           ],
           "legendgroup": "Input 02",
           "marker": {
            "color": "#BAB0AC",
            "pattern": {
             "shape": ""
            }
           },
           "name": "Input 02",
           "offsetgroup": "Input 02",
           "orientation": "h",
           "showlegend": true,
           "textposition": "auto",
           "type": "bar",
           "x": [
            0.006309243066730726
           ],
           "xaxis": "x",
           "y": [
            "Input 02"
           ],
           "yaxis": "y"
          },
          {
           "alignmentgroup": "True",
           "hovertemplate": "Feature Name=%{y}<br>Iteration=1<br>Importance=%{x}<extra></extra>",
           "ids": [
            "Input 12"
           ],
           "legendgroup": "Input 12",
           "marker": {
            "color": "#4C78A8",
            "pattern": {
             "shape": ""
            }
           },
           "name": "Input 12",
           "offsetgroup": "Input 12",
           "orientation": "h",
           "showlegend": true,
           "textposition": "auto",
           "type": "bar",
           "x": [
            0.015334512384764156
           ],
           "xaxis": "x",
           "y": [
            "Input 12"
           ],
           "yaxis": "y"
          },
          {
           "alignmentgroup": "True",
           "hovertemplate": "Feature Name=%{y}<br>Iteration=1<br>Importance=%{x}<extra></extra>",
           "ids": [
            "Input 05"
           ],
           "legendgroup": "Input 05",
           "marker": {
            "color": "#F58518",
            "pattern": {
             "shape": ""
            }
           },
           "name": "Input 05",
           "offsetgroup": "Input 05",
           "orientation": "h",
           "showlegend": true,
           "textposition": "auto",
           "type": "bar",
           "x": [
            0.007805880688926132
           ],
           "xaxis": "x",
           "y": [
            "Input 05"
           ],
           "yaxis": "y"
          },
          {
           "alignmentgroup": "True",
           "hovertemplate": "Feature Name=%{y}<br>Iteration=1<br>Importance=%{x}<extra></extra>",
           "ids": [
            "Input 10"
           ],
           "legendgroup": "Input 10",
           "marker": {
            "color": "#E45756",
            "pattern": {
             "shape": ""
            }
           },
           "name": "Input 10",
           "offsetgroup": "Input 10",
           "orientation": "h",
           "showlegend": true,
           "textposition": "auto",
           "type": "bar",
           "x": [
            0.006778774995171295
           ],
           "xaxis": "x",
           "y": [
            "Input 10"
           ],
           "yaxis": "y"
          }
         ],
         "name": "1"
        },
        {
         "data": [
          {
           "alignmentgroup": "True",
           "hovertemplate": "Feature Name=%{y}<br>Iteration=2<br>Importance=%{x}<extra></extra>",
           "ids": [
            "Output 01"
           ],
           "legendgroup": "Output 01",
           "marker": {
            "color": "#4C78A8",
            "pattern": {
             "shape": ""
            }
           },
           "name": "Output 01",
           "offsetgroup": "Output 01",
           "orientation": "h",
           "showlegend": true,
           "textposition": "auto",
           "type": "bar",
           "x": [
            0.6799489612422187
           ],
           "xaxis": "x",
           "y": [
            "Output 01"
           ],
           "yaxis": "y"
          },
          {
           "alignmentgroup": "True",
           "hovertemplate": "Feature Name=%{y}<br>Iteration=2<br>Importance=%{x}<extra></extra>",
           "ids": [
            "Input 01"
           ],
           "legendgroup": "Input 01",
           "marker": {
            "color": "#F58518",
            "pattern": {
             "shape": ""
            }
           },
           "name": "Input 01",
           "offsetgroup": "Input 01",
           "orientation": "h",
           "showlegend": true,
           "textposition": "auto",
           "type": "bar",
           "x": [
            0.14249248350618643
           ],
           "xaxis": "x",
           "y": [
            "Input 01"
           ],
           "yaxis": "y"
          },
          {
           "alignmentgroup": "True",
           "hovertemplate": "Feature Name=%{y}<br>Iteration=2<br>Importance=%{x}<extra></extra>",
           "ids": [
            "Input 08"
           ],
           "legendgroup": "Input 08",
           "marker": {
            "color": "#E45756",
            "pattern": {
             "shape": ""
            }
           },
           "name": "Input 08",
           "offsetgroup": "Input 08",
           "orientation": "h",
           "showlegend": true,
           "textposition": "auto",
           "type": "bar",
           "x": [
            0.008631954854866992
           ],
           "xaxis": "x",
           "y": [
            "Input 08"
           ],
           "yaxis": "y"
          },
          {
           "alignmentgroup": "True",
           "hovertemplate": "Feature Name=%{y}<br>Iteration=2<br>Importance=%{x}<extra></extra>",
           "ids": [
            "Input 03"
           ],
           "legendgroup": "Input 03",
           "marker": {
            "color": "#72B7B2",
            "pattern": {
             "shape": ""
            }
           },
           "name": "Input 03",
           "offsetgroup": "Input 03",
           "orientation": "h",
           "showlegend": true,
           "textposition": "auto",
           "type": "bar",
           "x": [
            0.009935547000153012
           ],
           "xaxis": "x",
           "y": [
            "Input 03"
           ],
           "yaxis": "y"
          },
          {
           "alignmentgroup": "True",
           "hovertemplate": "Feature Name=%{y}<br>Iteration=2<br>Importance=%{x}<extra></extra>",
           "ids": [
            "Input 09"
           ],
           "legendgroup": "Input 09",
           "marker": {
            "color": "#54A24B",
            "pattern": {
             "shape": ""
            }
           },
           "name": "Input 09",
           "offsetgroup": "Input 09",
           "orientation": "h",
           "showlegend": true,
           "textposition": "auto",
           "type": "bar",
           "x": [
            0.005791470722253917
           ],
           "xaxis": "x",
           "y": [
            "Input 09"
           ],
           "yaxis": "y"
          },
          {
           "alignmentgroup": "True",
           "hovertemplate": "Feature Name=%{y}<br>Iteration=2<br>Importance=%{x}<extra></extra>",
           "ids": [
            "Input 06"
           ],
           "legendgroup": "Input 06",
           "marker": {
            "color": "#EECA3B",
            "pattern": {
             "shape": ""
            }
           },
           "name": "Input 06",
           "offsetgroup": "Input 06",
           "orientation": "h",
           "showlegend": true,
           "textposition": "auto",
           "type": "bar",
           "x": [
            0.0971165804868044
           ],
           "xaxis": "x",
           "y": [
            "Input 06"
           ],
           "yaxis": "y"
          },
          {
           "alignmentgroup": "True",
           "hovertemplate": "Feature Name=%{y}<br>Iteration=2<br>Importance=%{x}<extra></extra>",
           "ids": [
            "Input 07"
           ],
           "legendgroup": "Input 07",
           "marker": {
            "color": "#B279A2",
            "pattern": {
             "shape": ""
            }
           },
           "name": "Input 07",
           "offsetgroup": "Input 07",
           "orientation": "h",
           "showlegend": true,
           "textposition": "auto",
           "type": "bar",
           "x": [
            0.0063034691883546885
           ],
           "xaxis": "x",
           "y": [
            "Input 07"
           ],
           "yaxis": "y"
          },
          {
           "alignmentgroup": "True",
           "hovertemplate": "Feature Name=%{y}<br>Iteration=2<br>Importance=%{x}<extra></extra>",
           "ids": [
            "Input 04"
           ],
           "legendgroup": "Input 04",
           "marker": {
            "color": "#FF9DA6",
            "pattern": {
             "shape": ""
            }
           },
           "name": "Input 04",
           "offsetgroup": "Input 04",
           "orientation": "h",
           "showlegend": true,
           "textposition": "auto",
           "type": "bar",
           "x": [
            0.015000433058640414
           ],
           "xaxis": "x",
           "y": [
            "Input 04"
           ],
           "yaxis": "y"
          },
          {
           "alignmentgroup": "True",
           "hovertemplate": "Feature Name=%{y}<br>Iteration=2<br>Importance=%{x}<extra></extra>",
           "ids": [
            "Input 11"
           ],
           "legendgroup": "Input 11",
           "marker": {
            "color": "#9D755D",
            "pattern": {
             "shape": ""
            }
           },
           "name": "Input 11",
           "offsetgroup": "Input 11",
           "orientation": "h",
           "showlegend": true,
           "textposition": "auto",
           "type": "bar",
           "x": [
            0.006187696649576915
           ],
           "xaxis": "x",
           "y": [
            "Input 11"
           ],
           "yaxis": "y"
          },
          {
           "alignmentgroup": "True",
           "hovertemplate": "Feature Name=%{y}<br>Iteration=2<br>Importance=%{x}<extra></extra>",
           "ids": [
            "Input 02"
           ],
           "legendgroup": "Input 02",
           "marker": {
            "color": "#BAB0AC",
            "pattern": {
             "shape": ""
            }
           },
           "name": "Input 02",
           "offsetgroup": "Input 02",
           "orientation": "h",
           "showlegend": true,
           "textposition": "auto",
           "type": "bar",
           "x": [
            0.0034849837423904712
           ],
           "xaxis": "x",
           "y": [
            "Input 02"
           ],
           "yaxis": "y"
          },
          {
           "alignmentgroup": "True",
           "hovertemplate": "Feature Name=%{y}<br>Iteration=2<br>Importance=%{x}<extra></extra>",
           "ids": [
            "Input 12"
           ],
           "legendgroup": "Input 12",
           "marker": {
            "color": "#4C78A8",
            "pattern": {
             "shape": ""
            }
           },
           "name": "Input 12",
           "offsetgroup": "Input 12",
           "orientation": "h",
           "showlegend": true,
           "textposition": "auto",
           "type": "bar",
           "x": [
            0.014007457860528436
           ],
           "xaxis": "x",
           "y": [
            "Input 12"
           ],
           "yaxis": "y"
          },
          {
           "alignmentgroup": "True",
           "hovertemplate": "Feature Name=%{y}<br>Iteration=2<br>Importance=%{x}<extra></extra>",
           "ids": [
            "Input 05"
           ],
           "legendgroup": "Input 05",
           "marker": {
            "color": "#F58518",
            "pattern": {
             "shape": ""
            }
           },
           "name": "Input 05",
           "offsetgroup": "Input 05",
           "orientation": "h",
           "showlegend": true,
           "textposition": "auto",
           "type": "bar",
           "x": [
            0.007261955270980555
           ],
           "xaxis": "x",
           "y": [
            "Input 05"
           ],
           "yaxis": "y"
          },
          {
           "alignmentgroup": "True",
           "hovertemplate": "Feature Name=%{y}<br>Iteration=2<br>Importance=%{x}<extra></extra>",
           "ids": [
            "Input 10"
           ],
           "legendgroup": "Input 10",
           "marker": {
            "color": "#E45756",
            "pattern": {
             "shape": ""
            }
           },
           "name": "Input 10",
           "offsetgroup": "Input 10",
           "orientation": "h",
           "showlegend": true,
           "textposition": "auto",
           "type": "bar",
           "x": [
            0.0038370064170451
           ],
           "xaxis": "x",
           "y": [
            "Input 10"
           ],
           "yaxis": "y"
          }
         ],
         "name": "2"
        },
        {
         "data": [
          {
           "alignmentgroup": "True",
           "hovertemplate": "Feature Name=%{y}<br>Iteration=3<br>Importance=%{x}<extra></extra>",
           "ids": [
            "Output 01"
           ],
           "legendgroup": "Output 01",
           "marker": {
            "color": "#4C78A8",
            "pattern": {
             "shape": ""
            }
           },
           "name": "Output 01",
           "offsetgroup": "Output 01",
           "orientation": "h",
           "showlegend": true,
           "textposition": "auto",
           "type": "bar",
           "x": [
            0.6988054246250543
           ],
           "xaxis": "x",
           "y": [
            "Output 01"
           ],
           "yaxis": "y"
          },
          {
           "alignmentgroup": "True",
           "hovertemplate": "Feature Name=%{y}<br>Iteration=3<br>Importance=%{x}<extra></extra>",
           "ids": [
            "Input 01"
           ],
           "legendgroup": "Input 01",
           "marker": {
            "color": "#F58518",
            "pattern": {
             "shape": ""
            }
           },
           "name": "Input 01",
           "offsetgroup": "Input 01",
           "orientation": "h",
           "showlegend": true,
           "textposition": "auto",
           "type": "bar",
           "x": [
            0.14580624929786618
           ],
           "xaxis": "x",
           "y": [
            "Input 01"
           ],
           "yaxis": "y"
          },
          {
           "alignmentgroup": "True",
           "hovertemplate": "Feature Name=%{y}<br>Iteration=3<br>Importance=%{x}<extra></extra>",
           "ids": [
            "Input 08"
           ],
           "legendgroup": "Input 08",
           "marker": {
            "color": "#E45756",
            "pattern": {
             "shape": ""
            }
           },
           "name": "Input 08",
           "offsetgroup": "Input 08",
           "orientation": "h",
           "showlegend": true,
           "textposition": "auto",
           "type": "bar",
           "x": [
            0.00308952266813649
           ],
           "xaxis": "x",
           "y": [
            "Input 08"
           ],
           "yaxis": "y"
          },
          {
           "alignmentgroup": "True",
           "hovertemplate": "Feature Name=%{y}<br>Iteration=3<br>Importance=%{x}<extra></extra>",
           "ids": [
            "Input 03"
           ],
           "legendgroup": "Input 03",
           "marker": {
            "color": "#72B7B2",
            "pattern": {
             "shape": ""
            }
           },
           "name": "Input 03",
           "offsetgroup": "Input 03",
           "orientation": "h",
           "showlegend": true,
           "textposition": "auto",
           "type": "bar",
           "x": [
            0.004224970882959304
           ],
           "xaxis": "x",
           "y": [
            "Input 03"
           ],
           "yaxis": "y"
          },
          {
           "alignmentgroup": "True",
           "hovertemplate": "Feature Name=%{y}<br>Iteration=3<br>Importance=%{x}<extra></extra>",
           "ids": [
            "Input 09"
           ],
           "legendgroup": "Input 09",
           "marker": {
            "color": "#54A24B",
            "pattern": {
             "shape": ""
            }
           },
           "name": "Input 09",
           "offsetgroup": "Input 09",
           "orientation": "h",
           "showlegend": true,
           "textposition": "auto",
           "type": "bar",
           "x": [
            0.011804993991396489
           ],
           "xaxis": "x",
           "y": [
            "Input 09"
           ],
           "yaxis": "y"
          },
          {
           "alignmentgroup": "True",
           "hovertemplate": "Feature Name=%{y}<br>Iteration=3<br>Importance=%{x}<extra></extra>",
           "ids": [
            "Input 06"
           ],
           "legendgroup": "Input 06",
           "marker": {
            "color": "#EECA3B",
            "pattern": {
             "shape": ""
            }
           },
           "name": "Input 06",
           "offsetgroup": "Input 06",
           "orientation": "h",
           "showlegend": true,
           "textposition": "auto",
           "type": "bar",
           "x": [
            0.08167586812497435
           ],
           "xaxis": "x",
           "y": [
            "Input 06"
           ],
           "yaxis": "y"
          },
          {
           "alignmentgroup": "True",
           "hovertemplate": "Feature Name=%{y}<br>Iteration=3<br>Importance=%{x}<extra></extra>",
           "ids": [
            "Input 07"
           ],
           "legendgroup": "Input 07",
           "marker": {
            "color": "#B279A2",
            "pattern": {
             "shape": ""
            }
           },
           "name": "Input 07",
           "offsetgroup": "Input 07",
           "orientation": "h",
           "showlegend": true,
           "textposition": "auto",
           "type": "bar",
           "x": [
            0.006808511812158291
           ],
           "xaxis": "x",
           "y": [
            "Input 07"
           ],
           "yaxis": "y"
          },
          {
           "alignmentgroup": "True",
           "hovertemplate": "Feature Name=%{y}<br>Iteration=3<br>Importance=%{x}<extra></extra>",
           "ids": [
            "Input 04"
           ],
           "legendgroup": "Input 04",
           "marker": {
            "color": "#FF9DA6",
            "pattern": {
             "shape": ""
            }
           },
           "name": "Input 04",
           "offsetgroup": "Input 04",
           "orientation": "h",
           "showlegend": true,
           "textposition": "auto",
           "type": "bar",
           "x": [
            0.01570606116772093
           ],
           "xaxis": "x",
           "y": [
            "Input 04"
           ],
           "yaxis": "y"
          },
          {
           "alignmentgroup": "True",
           "hovertemplate": "Feature Name=%{y}<br>Iteration=3<br>Importance=%{x}<extra></extra>",
           "ids": [
            "Input 11"
           ],
           "legendgroup": "Input 11",
           "marker": {
            "color": "#9D755D",
            "pattern": {
             "shape": ""
            }
           },
           "name": "Input 11",
           "offsetgroup": "Input 11",
           "orientation": "h",
           "showlegend": true,
           "textposition": "auto",
           "type": "bar",
           "x": [
            0.004751918051903395
           ],
           "xaxis": "x",
           "y": [
            "Input 11"
           ],
           "yaxis": "y"
          },
          {
           "alignmentgroup": "True",
           "hovertemplate": "Feature Name=%{y}<br>Iteration=3<br>Importance=%{x}<extra></extra>",
           "ids": [
            "Input 02"
           ],
           "legendgroup": "Input 02",
           "marker": {
            "color": "#BAB0AC",
            "pattern": {
             "shape": ""
            }
           },
           "name": "Input 02",
           "offsetgroup": "Input 02",
           "orientation": "h",
           "showlegend": true,
           "textposition": "auto",
           "type": "bar",
           "x": [
            0.0022948339606678257
           ],
           "xaxis": "x",
           "y": [
            "Input 02"
           ],
           "yaxis": "y"
          },
          {
           "alignmentgroup": "True",
           "hovertemplate": "Feature Name=%{y}<br>Iteration=3<br>Importance=%{x}<extra></extra>",
           "ids": [
            "Input 12"
           ],
           "legendgroup": "Input 12",
           "marker": {
            "color": "#4C78A8",
            "pattern": {
             "shape": ""
            }
           },
           "name": "Input 12",
           "offsetgroup": "Input 12",
           "orientation": "h",
           "showlegend": true,
           "textposition": "auto",
           "type": "bar",
           "x": [
            0.012408190149752656
           ],
           "xaxis": "x",
           "y": [
            "Input 12"
           ],
           "yaxis": "y"
          },
          {
           "alignmentgroup": "True",
           "hovertemplate": "Feature Name=%{y}<br>Iteration=3<br>Importance=%{x}<extra></extra>",
           "ids": [
            "Input 05"
           ],
           "legendgroup": "Input 05",
           "marker": {
            "color": "#F58518",
            "pattern": {
             "shape": ""
            }
           },
           "name": "Input 05",
           "offsetgroup": "Input 05",
           "orientation": "h",
           "showlegend": true,
           "textposition": "auto",
           "type": "bar",
           "x": [
            0.008437613711912446
           ],
           "xaxis": "x",
           "y": [
            "Input 05"
           ],
           "yaxis": "y"
          },
          {
           "alignmentgroup": "True",
           "hovertemplate": "Feature Name=%{y}<br>Iteration=3<br>Importance=%{x}<extra></extra>",
           "ids": [
            "Input 10"
           ],
           "legendgroup": "Input 10",
           "marker": {
            "color": "#E45756",
            "pattern": {
             "shape": ""
            }
           },
           "name": "Input 10",
           "offsetgroup": "Input 10",
           "orientation": "h",
           "showlegend": true,
           "textposition": "auto",
           "type": "bar",
           "x": [
            0.004185841555497312
           ],
           "xaxis": "x",
           "y": [
            "Input 10"
           ],
           "yaxis": "y"
          }
         ],
         "name": "3"
        },
        {
         "data": [
          {
           "alignmentgroup": "True",
           "hovertemplate": "Feature Name=%{y}<br>Iteration=4<br>Importance=%{x}<extra></extra>",
           "ids": [
            "Output 01"
           ],
           "legendgroup": "Output 01",
           "marker": {
            "color": "#4C78A8",
            "pattern": {
             "shape": ""
            }
           },
           "name": "Output 01",
           "offsetgroup": "Output 01",
           "orientation": "h",
           "showlegend": true,
           "textposition": "auto",
           "type": "bar",
           "x": [
            0.7021958082619648
           ],
           "xaxis": "x",
           "y": [
            "Output 01"
           ],
           "yaxis": "y"
          },
          {
           "alignmentgroup": "True",
           "hovertemplate": "Feature Name=%{y}<br>Iteration=4<br>Importance=%{x}<extra></extra>",
           "ids": [
            "Input 01"
           ],
           "legendgroup": "Input 01",
           "marker": {
            "color": "#F58518",
            "pattern": {
             "shape": ""
            }
           },
           "name": "Input 01",
           "offsetgroup": "Input 01",
           "orientation": "h",
           "showlegend": true,
           "textposition": "auto",
           "type": "bar",
           "x": [
            0.13720556456105726
           ],
           "xaxis": "x",
           "y": [
            "Input 01"
           ],
           "yaxis": "y"
          },
          {
           "alignmentgroup": "True",
           "hovertemplate": "Feature Name=%{y}<br>Iteration=4<br>Importance=%{x}<extra></extra>",
           "ids": [
            "Input 08"
           ],
           "legendgroup": "Input 08",
           "marker": {
            "color": "#E45756",
            "pattern": {
             "shape": ""
            }
           },
           "name": "Input 08",
           "offsetgroup": "Input 08",
           "orientation": "h",
           "showlegend": true,
           "textposition": "auto",
           "type": "bar",
           "x": [
            0.003285324810295051
           ],
           "xaxis": "x",
           "y": [
            "Input 08"
           ],
           "yaxis": "y"
          },
          {
           "alignmentgroup": "True",
           "hovertemplate": "Feature Name=%{y}<br>Iteration=4<br>Importance=%{x}<extra></extra>",
           "ids": [
            "Input 03"
           ],
           "legendgroup": "Input 03",
           "marker": {
            "color": "#72B7B2",
            "pattern": {
             "shape": ""
            }
           },
           "name": "Input 03",
           "offsetgroup": "Input 03",
           "orientation": "h",
           "showlegend": true,
           "textposition": "auto",
           "type": "bar",
           "x": [
            0.0039837662453764645
           ],
           "xaxis": "x",
           "y": [
            "Input 03"
           ],
           "yaxis": "y"
          },
          {
           "alignmentgroup": "True",
           "hovertemplate": "Feature Name=%{y}<br>Iteration=4<br>Importance=%{x}<extra></extra>",
           "ids": [
            "Input 09"
           ],
           "legendgroup": "Input 09",
           "marker": {
            "color": "#54A24B",
            "pattern": {
             "shape": ""
            }
           },
           "name": "Input 09",
           "offsetgroup": "Input 09",
           "orientation": "h",
           "showlegend": true,
           "textposition": "auto",
           "type": "bar",
           "x": [
            0.010492781645370654
           ],
           "xaxis": "x",
           "y": [
            "Input 09"
           ],
           "yaxis": "y"
          },
          {
           "alignmentgroup": "True",
           "hovertemplate": "Feature Name=%{y}<br>Iteration=4<br>Importance=%{x}<extra></extra>",
           "ids": [
            "Input 06"
           ],
           "legendgroup": "Input 06",
           "marker": {
            "color": "#EECA3B",
            "pattern": {
             "shape": ""
            }
           },
           "name": "Input 06",
           "offsetgroup": "Input 06",
           "orientation": "h",
           "showlegend": true,
           "textposition": "auto",
           "type": "bar",
           "x": [
            0.0829020981624649
           ],
           "xaxis": "x",
           "y": [
            "Input 06"
           ],
           "yaxis": "y"
          },
          {
           "alignmentgroup": "True",
           "hovertemplate": "Feature Name=%{y}<br>Iteration=4<br>Importance=%{x}<extra></extra>",
           "ids": [
            "Input 07"
           ],
           "legendgroup": "Input 07",
           "marker": {
            "color": "#B279A2",
            "pattern": {
             "shape": ""
            }
           },
           "name": "Input 07",
           "offsetgroup": "Input 07",
           "orientation": "h",
           "showlegend": true,
           "textposition": "auto",
           "type": "bar",
           "x": [
            0.005215953752504035
           ],
           "xaxis": "x",
           "y": [
            "Input 07"
           ],
           "yaxis": "y"
          },
          {
           "alignmentgroup": "True",
           "hovertemplate": "Feature Name=%{y}<br>Iteration=4<br>Importance=%{x}<extra></extra>",
           "ids": [
            "Input 04"
           ],
           "legendgroup": "Input 04",
           "marker": {
            "color": "#FF9DA6",
            "pattern": {
             "shape": ""
            }
           },
           "name": "Input 04",
           "offsetgroup": "Input 04",
           "orientation": "h",
           "showlegend": true,
           "textposition": "auto",
           "type": "bar",
           "x": [
            0.014754237399166849
           ],
           "xaxis": "x",
           "y": [
            "Input 04"
           ],
           "yaxis": "y"
          },
          {
           "alignmentgroup": "True",
           "hovertemplate": "Feature Name=%{y}<br>Iteration=4<br>Importance=%{x}<extra></extra>",
           "ids": [
            "Input 11"
           ],
           "legendgroup": "Input 11",
           "marker": {
            "color": "#9D755D",
            "pattern": {
             "shape": ""
            }
           },
           "name": "Input 11",
           "offsetgroup": "Input 11",
           "orientation": "h",
           "showlegend": true,
           "textposition": "auto",
           "type": "bar",
           "x": [
            0.005563353086475685
           ],
           "xaxis": "x",
           "y": [
            "Input 11"
           ],
           "yaxis": "y"
          },
          {
           "alignmentgroup": "True",
           "hovertemplate": "Feature Name=%{y}<br>Iteration=4<br>Importance=%{x}<extra></extra>",
           "ids": [
            "Input 02"
           ],
           "legendgroup": "Input 02",
           "marker": {
            "color": "#BAB0AC",
            "pattern": {
             "shape": ""
            }
           },
           "name": "Input 02",
           "offsetgroup": "Input 02",
           "orientation": "h",
           "showlegend": true,
           "textposition": "auto",
           "type": "bar",
           "x": [
            0.0030962153075913957
           ],
           "xaxis": "x",
           "y": [
            "Input 02"
           ],
           "yaxis": "y"
          },
          {
           "alignmentgroup": "True",
           "hovertemplate": "Feature Name=%{y}<br>Iteration=4<br>Importance=%{x}<extra></extra>",
           "ids": [
            "Input 12"
           ],
           "legendgroup": "Input 12",
           "marker": {
            "color": "#4C78A8",
            "pattern": {
             "shape": ""
            }
           },
           "name": "Input 12",
           "offsetgroup": "Input 12",
           "orientation": "h",
           "showlegend": true,
           "textposition": "auto",
           "type": "bar",
           "x": [
            0.014662839748786944
           ],
           "xaxis": "x",
           "y": [
            "Input 12"
           ],
           "yaxis": "y"
          },
          {
           "alignmentgroup": "True",
           "hovertemplate": "Feature Name=%{y}<br>Iteration=4<br>Importance=%{x}<extra></extra>",
           "ids": [
            "Input 05"
           ],
           "legendgroup": "Input 05",
           "marker": {
            "color": "#F58518",
            "pattern": {
             "shape": ""
            }
           },
           "name": "Input 05",
           "offsetgroup": "Input 05",
           "orientation": "h",
           "showlegend": true,
           "textposition": "auto",
           "type": "bar",
           "x": [
            0.009470660971149774
           ],
           "xaxis": "x",
           "y": [
            "Input 05"
           ],
           "yaxis": "y"
          },
          {
           "alignmentgroup": "True",
           "hovertemplate": "Feature Name=%{y}<br>Iteration=4<br>Importance=%{x}<extra></extra>",
           "ids": [
            "Input 10"
           ],
           "legendgroup": "Input 10",
           "marker": {
            "color": "#E45756",
            "pattern": {
             "shape": ""
            }
           },
           "name": "Input 10",
           "offsetgroup": "Input 10",
           "orientation": "h",
           "showlegend": true,
           "textposition": "auto",
           "type": "bar",
           "x": [
            0.0071713960477960996
           ],
           "xaxis": "x",
           "y": [
            "Input 10"
           ],
           "yaxis": "y"
          }
         ],
         "name": "4"
        },
        {
         "data": [
          {
           "alignmentgroup": "True",
           "hovertemplate": "Feature Name=%{y}<br>Iteration=5<br>Importance=%{x}<extra></extra>",
           "ids": [
            "Output 01"
           ],
           "legendgroup": "Output 01",
           "marker": {
            "color": "#4C78A8",
            "pattern": {
             "shape": ""
            }
           },
           "name": "Output 01",
           "offsetgroup": "Output 01",
           "orientation": "h",
           "showlegend": true,
           "textposition": "auto",
           "type": "bar",
           "x": [
            0.702472203574973
           ],
           "xaxis": "x",
           "y": [
            "Output 01"
           ],
           "yaxis": "y"
          },
          {
           "alignmentgroup": "True",
           "hovertemplate": "Feature Name=%{y}<br>Iteration=5<br>Importance=%{x}<extra></extra>",
           "ids": [
            "Input 01"
           ],
           "legendgroup": "Input 01",
           "marker": {
            "color": "#F58518",
            "pattern": {
             "shape": ""
            }
           },
           "name": "Input 01",
           "offsetgroup": "Input 01",
           "orientation": "h",
           "showlegend": true,
           "textposition": "auto",
           "type": "bar",
           "x": [
            0.14083227076364915
           ],
           "xaxis": "x",
           "y": [
            "Input 01"
           ],
           "yaxis": "y"
          },
          {
           "alignmentgroup": "True",
           "hovertemplate": "Feature Name=%{y}<br>Iteration=5<br>Importance=%{x}<extra></extra>",
           "ids": [
            "Input 08"
           ],
           "legendgroup": "Input 08",
           "marker": {
            "color": "#E45756",
            "pattern": {
             "shape": ""
            }
           },
           "name": "Input 08",
           "offsetgroup": "Input 08",
           "orientation": "h",
           "showlegend": true,
           "textposition": "auto",
           "type": "bar",
           "x": [
            0.002810146845560504
           ],
           "xaxis": "x",
           "y": [
            "Input 08"
           ],
           "yaxis": "y"
          },
          {
           "alignmentgroup": "True",
           "hovertemplate": "Feature Name=%{y}<br>Iteration=5<br>Importance=%{x}<extra></extra>",
           "ids": [
            "Input 03"
           ],
           "legendgroup": "Input 03",
           "marker": {
            "color": "#72B7B2",
            "pattern": {
             "shape": ""
            }
           },
           "name": "Input 03",
           "offsetgroup": "Input 03",
           "orientation": "h",
           "showlegend": true,
           "textposition": "auto",
           "type": "bar",
           "x": [
            0.002966297831094611
           ],
           "xaxis": "x",
           "y": [
            "Input 03"
           ],
           "yaxis": "y"
          },
          {
           "alignmentgroup": "True",
           "hovertemplate": "Feature Name=%{y}<br>Iteration=5<br>Importance=%{x}<extra></extra>",
           "ids": [
            "Input 09"
           ],
           "legendgroup": "Input 09",
           "marker": {
            "color": "#54A24B",
            "pattern": {
             "shape": ""
            }
           },
           "name": "Input 09",
           "offsetgroup": "Input 09",
           "orientation": "h",
           "showlegend": true,
           "textposition": "auto",
           "type": "bar",
           "x": [
            0.009432416288355682
           ],
           "xaxis": "x",
           "y": [
            "Input 09"
           ],
           "yaxis": "y"
          },
          {
           "alignmentgroup": "True",
           "hovertemplate": "Feature Name=%{y}<br>Iteration=5<br>Importance=%{x}<extra></extra>",
           "ids": [
            "Input 06"
           ],
           "legendgroup": "Input 06",
           "marker": {
            "color": "#EECA3B",
            "pattern": {
             "shape": ""
            }
           },
           "name": "Input 06",
           "offsetgroup": "Input 06",
           "orientation": "h",
           "showlegend": true,
           "textposition": "auto",
           "type": "bar",
           "x": [
            0.08243159296098616
           ],
           "xaxis": "x",
           "y": [
            "Input 06"
           ],
           "yaxis": "y"
          },
          {
           "alignmentgroup": "True",
           "hovertemplate": "Feature Name=%{y}<br>Iteration=5<br>Importance=%{x}<extra></extra>",
           "ids": [
            "Input 07"
           ],
           "legendgroup": "Input 07",
           "marker": {
            "color": "#B279A2",
            "pattern": {
             "shape": ""
            }
           },
           "name": "Input 07",
           "offsetgroup": "Input 07",
           "orientation": "h",
           "showlegend": true,
           "textposition": "auto",
           "type": "bar",
           "x": [
            0.006638612484282412
           ],
           "xaxis": "x",
           "y": [
            "Input 07"
           ],
           "yaxis": "y"
          },
          {
           "alignmentgroup": "True",
           "hovertemplate": "Feature Name=%{y}<br>Iteration=5<br>Importance=%{x}<extra></extra>",
           "ids": [
            "Input 04"
           ],
           "legendgroup": "Input 04",
           "marker": {
            "color": "#FF9DA6",
            "pattern": {
             "shape": ""
            }
           },
           "name": "Input 04",
           "offsetgroup": "Input 04",
           "orientation": "h",
           "showlegend": true,
           "textposition": "auto",
           "type": "bar",
           "x": [
            0.014311668684154356
           ],
           "xaxis": "x",
           "y": [
            "Input 04"
           ],
           "yaxis": "y"
          },
          {
           "alignmentgroup": "True",
           "hovertemplate": "Feature Name=%{y}<br>Iteration=5<br>Importance=%{x}<extra></extra>",
           "ids": [
            "Input 11"
           ],
           "legendgroup": "Input 11",
           "marker": {
            "color": "#9D755D",
            "pattern": {
             "shape": ""
            }
           },
           "name": "Input 11",
           "offsetgroup": "Input 11",
           "orientation": "h",
           "showlegend": true,
           "textposition": "auto",
           "type": "bar",
           "x": [
            0.00543829243248496
           ],
           "xaxis": "x",
           "y": [
            "Input 11"
           ],
           "yaxis": "y"
          },
          {
           "alignmentgroup": "True",
           "hovertemplate": "Feature Name=%{y}<br>Iteration=5<br>Importance=%{x}<extra></extra>",
           "ids": [
            "Input 02"
           ],
           "legendgroup": "Input 02",
           "marker": {
            "color": "#BAB0AC",
            "pattern": {
             "shape": ""
            }
           },
           "name": "Input 02",
           "offsetgroup": "Input 02",
           "orientation": "h",
           "showlegend": true,
           "textposition": "auto",
           "type": "bar",
           "x": [
            0.0034135442076089276
           ],
           "xaxis": "x",
           "y": [
            "Input 02"
           ],
           "yaxis": "y"
          },
          {
           "alignmentgroup": "True",
           "hovertemplate": "Feature Name=%{y}<br>Iteration=5<br>Importance=%{x}<extra></extra>",
           "ids": [
            "Input 12"
           ],
           "legendgroup": "Input 12",
           "marker": {
            "color": "#4C78A8",
            "pattern": {
             "shape": ""
            }
           },
           "name": "Input 12",
           "offsetgroup": "Input 12",
           "orientation": "h",
           "showlegend": true,
           "textposition": "auto",
           "type": "bar",
           "x": [
            0.011305858891700528
           ],
           "xaxis": "x",
           "y": [
            "Input 12"
           ],
           "yaxis": "y"
          },
          {
           "alignmentgroup": "True",
           "hovertemplate": "Feature Name=%{y}<br>Iteration=5<br>Importance=%{x}<extra></extra>",
           "ids": [
            "Input 05"
           ],
           "legendgroup": "Input 05",
           "marker": {
            "color": "#F58518",
            "pattern": {
             "shape": ""
            }
           },
           "name": "Input 05",
           "offsetgroup": "Input 05",
           "orientation": "h",
           "showlegend": true,
           "textposition": "auto",
           "type": "bar",
           "x": [
            0.009741102494789516
           ],
           "xaxis": "x",
           "y": [
            "Input 05"
           ],
           "yaxis": "y"
          },
          {
           "alignmentgroup": "True",
           "hovertemplate": "Feature Name=%{y}<br>Iteration=5<br>Importance=%{x}<extra></extra>",
           "ids": [
            "Input 10"
           ],
           "legendgroup": "Input 10",
           "marker": {
            "color": "#E45756",
            "pattern": {
             "shape": ""
            }
           },
           "name": "Input 10",
           "offsetgroup": "Input 10",
           "orientation": "h",
           "showlegend": true,
           "textposition": "auto",
           "type": "bar",
           "x": [
            0.008205992540360205
           ],
           "xaxis": "x",
           "y": [
            "Input 10"
           ],
           "yaxis": "y"
          }
         ],
         "name": "5"
        },
        {
         "data": [
          {
           "alignmentgroup": "True",
           "hovertemplate": "Feature Name=%{y}<br>Iteration=6<br>Importance=%{x}<extra></extra>",
           "ids": [
            "Output 01"
           ],
           "legendgroup": "Output 01",
           "marker": {
            "color": "#4C78A8",
            "pattern": {
             "shape": ""
            }
           },
           "name": "Output 01",
           "offsetgroup": "Output 01",
           "orientation": "h",
           "showlegend": true,
           "textposition": "auto",
           "type": "bar",
           "x": [
            0.6880206708332814
           ],
           "xaxis": "x",
           "y": [
            "Output 01"
           ],
           "yaxis": "y"
          },
          {
           "alignmentgroup": "True",
           "hovertemplate": "Feature Name=%{y}<br>Iteration=6<br>Importance=%{x}<extra></extra>",
           "ids": [
            "Input 01"
           ],
           "legendgroup": "Input 01",
           "marker": {
            "color": "#F58518",
            "pattern": {
             "shape": ""
            }
           },
           "name": "Input 01",
           "offsetgroup": "Input 01",
           "orientation": "h",
           "showlegend": true,
           "textposition": "auto",
           "type": "bar",
           "x": [
            0.14723936975126747
           ],
           "xaxis": "x",
           "y": [
            "Input 01"
           ],
           "yaxis": "y"
          },
          {
           "alignmentgroup": "True",
           "hovertemplate": "Feature Name=%{y}<br>Iteration=6<br>Importance=%{x}<extra></extra>",
           "ids": [
            "Input 08"
           ],
           "legendgroup": "Input 08",
           "marker": {
            "color": "#E45756",
            "pattern": {
             "shape": ""
            }
           },
           "name": "Input 08",
           "offsetgroup": "Input 08",
           "orientation": "h",
           "showlegend": true,
           "textposition": "auto",
           "type": "bar",
           "x": [
            0.0026936831683932842
           ],
           "xaxis": "x",
           "y": [
            "Input 08"
           ],
           "yaxis": "y"
          },
          {
           "alignmentgroup": "True",
           "hovertemplate": "Feature Name=%{y}<br>Iteration=6<br>Importance=%{x}<extra></extra>",
           "ids": [
            "Input 03"
           ],
           "legendgroup": "Input 03",
           "marker": {
            "color": "#72B7B2",
            "pattern": {
             "shape": ""
            }
           },
           "name": "Input 03",
           "offsetgroup": "Input 03",
           "orientation": "h",
           "showlegend": true,
           "textposition": "auto",
           "type": "bar",
           "x": [
            0.0048010260602032164
           ],
           "xaxis": "x",
           "y": [
            "Input 03"
           ],
           "yaxis": "y"
          },
          {
           "alignmentgroup": "True",
           "hovertemplate": "Feature Name=%{y}<br>Iteration=6<br>Importance=%{x}<extra></extra>",
           "ids": [
            "Input 09"
           ],
           "legendgroup": "Input 09",
           "marker": {
            "color": "#54A24B",
            "pattern": {
             "shape": ""
            }
           },
           "name": "Input 09",
           "offsetgroup": "Input 09",
           "orientation": "h",
           "showlegend": true,
           "textposition": "auto",
           "type": "bar",
           "x": [
            0.010718626527780504
           ],
           "xaxis": "x",
           "y": [
            "Input 09"
           ],
           "yaxis": "y"
          },
          {
           "alignmentgroup": "True",
           "hovertemplate": "Feature Name=%{y}<br>Iteration=6<br>Importance=%{x}<extra></extra>",
           "ids": [
            "Input 06"
           ],
           "legendgroup": "Input 06",
           "marker": {
            "color": "#EECA3B",
            "pattern": {
             "shape": ""
            }
           },
           "name": "Input 06",
           "offsetgroup": "Input 06",
           "orientation": "h",
           "showlegend": true,
           "textposition": "auto",
           "type": "bar",
           "x": [
            0.08936702944530102
           ],
           "xaxis": "x",
           "y": [
            "Input 06"
           ],
           "yaxis": "y"
          },
          {
           "alignmentgroup": "True",
           "hovertemplate": "Feature Name=%{y}<br>Iteration=6<br>Importance=%{x}<extra></extra>",
           "ids": [
            "Input 07"
           ],
           "legendgroup": "Input 07",
           "marker": {
            "color": "#B279A2",
            "pattern": {
             "shape": ""
            }
           },
           "name": "Input 07",
           "offsetgroup": "Input 07",
           "orientation": "h",
           "showlegend": true,
           "textposition": "auto",
           "type": "bar",
           "x": [
            0.0050863288220443755
           ],
           "xaxis": "x",
           "y": [
            "Input 07"
           ],
           "yaxis": "y"
          },
          {
           "alignmentgroup": "True",
           "hovertemplate": "Feature Name=%{y}<br>Iteration=6<br>Importance=%{x}<extra></extra>",
           "ids": [
            "Input 04"
           ],
           "legendgroup": "Input 04",
           "marker": {
            "color": "#FF9DA6",
            "pattern": {
             "shape": ""
            }
           },
           "name": "Input 04",
           "offsetgroup": "Input 04",
           "orientation": "h",
           "showlegend": true,
           "textposition": "auto",
           "type": "bar",
           "x": [
            0.016936868799313345
           ],
           "xaxis": "x",
           "y": [
            "Input 04"
           ],
           "yaxis": "y"
          },
          {
           "alignmentgroup": "True",
           "hovertemplate": "Feature Name=%{y}<br>Iteration=6<br>Importance=%{x}<extra></extra>",
           "ids": [
            "Input 11"
           ],
           "legendgroup": "Input 11",
           "marker": {
            "color": "#9D755D",
            "pattern": {
             "shape": ""
            }
           },
           "name": "Input 11",
           "offsetgroup": "Input 11",
           "orientation": "h",
           "showlegend": true,
           "textposition": "auto",
           "type": "bar",
           "x": [
            0.004366306702723773
           ],
           "xaxis": "x",
           "y": [
            "Input 11"
           ],
           "yaxis": "y"
          },
          {
           "alignmentgroup": "True",
           "hovertemplate": "Feature Name=%{y}<br>Iteration=6<br>Importance=%{x}<extra></extra>",
           "ids": [
            "Input 02"
           ],
           "legendgroup": "Input 02",
           "marker": {
            "color": "#BAB0AC",
            "pattern": {
             "shape": ""
            }
           },
           "name": "Input 02",
           "offsetgroup": "Input 02",
           "orientation": "h",
           "showlegend": true,
           "textposition": "auto",
           "type": "bar",
           "x": [
            0.004135818630554813
           ],
           "xaxis": "x",
           "y": [
            "Input 02"
           ],
           "yaxis": "y"
          },
          {
           "alignmentgroup": "True",
           "hovertemplate": "Feature Name=%{y}<br>Iteration=6<br>Importance=%{x}<extra></extra>",
           "ids": [
            "Input 12"
           ],
           "legendgroup": "Input 12",
           "marker": {
            "color": "#4C78A8",
            "pattern": {
             "shape": ""
            }
           },
           "name": "Input 12",
           "offsetgroup": "Input 12",
           "orientation": "h",
           "showlegend": true,
           "textposition": "auto",
           "type": "bar",
           "x": [
            0.013288359345910926
           ],
           "xaxis": "x",
           "y": [
            "Input 12"
           ],
           "yaxis": "y"
          },
          {
           "alignmentgroup": "True",
           "hovertemplate": "Feature Name=%{y}<br>Iteration=6<br>Importance=%{x}<extra></extra>",
           "ids": [
            "Input 05"
           ],
           "legendgroup": "Input 05",
           "marker": {
            "color": "#F58518",
            "pattern": {
             "shape": ""
            }
           },
           "name": "Input 05",
           "offsetgroup": "Input 05",
           "orientation": "h",
           "showlegend": true,
           "textposition": "auto",
           "type": "bar",
           "x": [
            0.007624063670497463
           ],
           "xaxis": "x",
           "y": [
            "Input 05"
           ],
           "yaxis": "y"
          },
          {
           "alignmentgroup": "True",
           "hovertemplate": "Feature Name=%{y}<br>Iteration=6<br>Importance=%{x}<extra></extra>",
           "ids": [
            "Input 10"
           ],
           "legendgroup": "Input 10",
           "marker": {
            "color": "#E45756",
            "pattern": {
             "shape": ""
            }
           },
           "name": "Input 10",
           "offsetgroup": "Input 10",
           "orientation": "h",
           "showlegend": true,
           "textposition": "auto",
           "type": "bar",
           "x": [
            0.005721848242728277
           ],
           "xaxis": "x",
           "y": [
            "Input 10"
           ],
           "yaxis": "y"
          }
         ],
         "name": "6"
        },
        {
         "data": [
          {
           "alignmentgroup": "True",
           "hovertemplate": "Feature Name=%{y}<br>Iteration=7<br>Importance=%{x}<extra></extra>",
           "ids": [
            "Output 01"
           ],
           "legendgroup": "Output 01",
           "marker": {
            "color": "#4C78A8",
            "pattern": {
             "shape": ""
            }
           },
           "name": "Output 01",
           "offsetgroup": "Output 01",
           "orientation": "h",
           "showlegend": true,
           "textposition": "auto",
           "type": "bar",
           "x": [
            0.6882710724453263
           ],
           "xaxis": "x",
           "y": [
            "Output 01"
           ],
           "yaxis": "y"
          },
          {
           "alignmentgroup": "True",
           "hovertemplate": "Feature Name=%{y}<br>Iteration=7<br>Importance=%{x}<extra></extra>",
           "ids": [
            "Input 01"
           ],
           "legendgroup": "Input 01",
           "marker": {
            "color": "#F58518",
            "pattern": {
             "shape": ""
            }
           },
           "name": "Input 01",
           "offsetgroup": "Input 01",
           "orientation": "h",
           "showlegend": true,
           "textposition": "auto",
           "type": "bar",
           "x": [
            0.14151495741672837
           ],
           "xaxis": "x",
           "y": [
            "Input 01"
           ],
           "yaxis": "y"
          },
          {
           "alignmentgroup": "True",
           "hovertemplate": "Feature Name=%{y}<br>Iteration=7<br>Importance=%{x}<extra></extra>",
           "ids": [
            "Input 08"
           ],
           "legendgroup": "Input 08",
           "marker": {
            "color": "#E45756",
            "pattern": {
             "shape": ""
            }
           },
           "name": "Input 08",
           "offsetgroup": "Input 08",
           "orientation": "h",
           "showlegend": true,
           "textposition": "auto",
           "type": "bar",
           "x": [
            0.004260508698636042
           ],
           "xaxis": "x",
           "y": [
            "Input 08"
           ],
           "yaxis": "y"
          },
          {
           "alignmentgroup": "True",
           "hovertemplate": "Feature Name=%{y}<br>Iteration=7<br>Importance=%{x}<extra></extra>",
           "ids": [
            "Input 03"
           ],
           "legendgroup": "Input 03",
           "marker": {
            "color": "#72B7B2",
            "pattern": {
             "shape": ""
            }
           },
           "name": "Input 03",
           "offsetgroup": "Input 03",
           "orientation": "h",
           "showlegend": true,
           "textposition": "auto",
           "type": "bar",
           "x": [
            0.0042237437854898575
           ],
           "xaxis": "x",
           "y": [
            "Input 03"
           ],
           "yaxis": "y"
          },
          {
           "alignmentgroup": "True",
           "hovertemplate": "Feature Name=%{y}<br>Iteration=7<br>Importance=%{x}<extra></extra>",
           "ids": [
            "Input 09"
           ],
           "legendgroup": "Input 09",
           "marker": {
            "color": "#54A24B",
            "pattern": {
             "shape": ""
            }
           },
           "name": "Input 09",
           "offsetgroup": "Input 09",
           "orientation": "h",
           "showlegend": true,
           "textposition": "auto",
           "type": "bar",
           "x": [
            0.014142255890378305
           ],
           "xaxis": "x",
           "y": [
            "Input 09"
           ],
           "yaxis": "y"
          },
          {
           "alignmentgroup": "True",
           "hovertemplate": "Feature Name=%{y}<br>Iteration=7<br>Importance=%{x}<extra></extra>",
           "ids": [
            "Input 06"
           ],
           "legendgroup": "Input 06",
           "marker": {
            "color": "#EECA3B",
            "pattern": {
             "shape": ""
            }
           },
           "name": "Input 06",
           "offsetgroup": "Input 06",
           "orientation": "h",
           "showlegend": true,
           "textposition": "auto",
           "type": "bar",
           "x": [
            0.08240081086109347
           ],
           "xaxis": "x",
           "y": [
            "Input 06"
           ],
           "yaxis": "y"
          },
          {
           "alignmentgroup": "True",
           "hovertemplate": "Feature Name=%{y}<br>Iteration=7<br>Importance=%{x}<extra></extra>",
           "ids": [
            "Input 07"
           ],
           "legendgroup": "Input 07",
           "marker": {
            "color": "#B279A2",
            "pattern": {
             "shape": ""
            }
           },
           "name": "Input 07",
           "offsetgroup": "Input 07",
           "orientation": "h",
           "showlegend": true,
           "textposition": "auto",
           "type": "bar",
           "x": [
            0.007199089044354972
           ],
           "xaxis": "x",
           "y": [
            "Input 07"
           ],
           "yaxis": "y"
          },
          {
           "alignmentgroup": "True",
           "hovertemplate": "Feature Name=%{y}<br>Iteration=7<br>Importance=%{x}<extra></extra>",
           "ids": [
            "Input 04"
           ],
           "legendgroup": "Input 04",
           "marker": {
            "color": "#FF9DA6",
            "pattern": {
             "shape": ""
            }
           },
           "name": "Input 04",
           "offsetgroup": "Input 04",
           "orientation": "h",
           "showlegend": true,
           "textposition": "auto",
           "type": "bar",
           "x": [
            0.016076022300377902
           ],
           "xaxis": "x",
           "y": [
            "Input 04"
           ],
           "yaxis": "y"
          },
          {
           "alignmentgroup": "True",
           "hovertemplate": "Feature Name=%{y}<br>Iteration=7<br>Importance=%{x}<extra></extra>",
           "ids": [
            "Input 11"
           ],
           "legendgroup": "Input 11",
           "marker": {
            "color": "#9D755D",
            "pattern": {
             "shape": ""
            }
           },
           "name": "Input 11",
           "offsetgroup": "Input 11",
           "orientation": "h",
           "showlegend": true,
           "textposition": "auto",
           "type": "bar",
           "x": [
            0.006600216135863416
           ],
           "xaxis": "x",
           "y": [
            "Input 11"
           ],
           "yaxis": "y"
          },
          {
           "alignmentgroup": "True",
           "hovertemplate": "Feature Name=%{y}<br>Iteration=7<br>Importance=%{x}<extra></extra>",
           "ids": [
            "Input 02"
           ],
           "legendgroup": "Input 02",
           "marker": {
            "color": "#BAB0AC",
            "pattern": {
             "shape": ""
            }
           },
           "name": "Input 02",
           "offsetgroup": "Input 02",
           "orientation": "h",
           "showlegend": true,
           "textposition": "auto",
           "type": "bar",
           "x": [
            0.004030593172025914
           ],
           "xaxis": "x",
           "y": [
            "Input 02"
           ],
           "yaxis": "y"
          },
          {
           "alignmentgroup": "True",
           "hovertemplate": "Feature Name=%{y}<br>Iteration=7<br>Importance=%{x}<extra></extra>",
           "ids": [
            "Input 12"
           ],
           "legendgroup": "Input 12",
           "marker": {
            "color": "#4C78A8",
            "pattern": {
             "shape": ""
            }
           },
           "name": "Input 12",
           "offsetgroup": "Input 12",
           "orientation": "h",
           "showlegend": true,
           "textposition": "auto",
           "type": "bar",
           "x": [
            0.013806071905494382
           ],
           "xaxis": "x",
           "y": [
            "Input 12"
           ],
           "yaxis": "y"
          },
          {
           "alignmentgroup": "True",
           "hovertemplate": "Feature Name=%{y}<br>Iteration=7<br>Importance=%{x}<extra></extra>",
           "ids": [
            "Input 05"
           ],
           "legendgroup": "Input 05",
           "marker": {
            "color": "#F58518",
            "pattern": {
             "shape": ""
            }
           },
           "name": "Input 05",
           "offsetgroup": "Input 05",
           "orientation": "h",
           "showlegend": true,
           "textposition": "auto",
           "type": "bar",
           "x": [
            0.00936161664053752
           ],
           "xaxis": "x",
           "y": [
            "Input 05"
           ],
           "yaxis": "y"
          },
          {
           "alignmentgroup": "True",
           "hovertemplate": "Feature Name=%{y}<br>Iteration=7<br>Importance=%{x}<extra></extra>",
           "ids": [
            "Input 10"
           ],
           "legendgroup": "Input 10",
           "marker": {
            "color": "#E45756",
            "pattern": {
             "shape": ""
            }
           },
           "name": "Input 10",
           "offsetgroup": "Input 10",
           "orientation": "h",
           "showlegend": true,
           "textposition": "auto",
           "type": "bar",
           "x": [
            0.008113041703693586
           ],
           "xaxis": "x",
           "y": [
            "Input 10"
           ],
           "yaxis": "y"
          }
         ],
         "name": "7"
        },
        {
         "data": [
          {
           "alignmentgroup": "True",
           "hovertemplate": "Feature Name=%{y}<br>Iteration=8<br>Importance=%{x}<extra></extra>",
           "ids": [
            "Output 01"
           ],
           "legendgroup": "Output 01",
           "marker": {
            "color": "#4C78A8",
            "pattern": {
             "shape": ""
            }
           },
           "name": "Output 01",
           "offsetgroup": "Output 01",
           "orientation": "h",
           "showlegend": true,
           "textposition": "auto",
           "type": "bar",
           "x": [
            0.7025678819597464
           ],
           "xaxis": "x",
           "y": [
            "Output 01"
           ],
           "yaxis": "y"
          },
          {
           "alignmentgroup": "True",
           "hovertemplate": "Feature Name=%{y}<br>Iteration=8<br>Importance=%{x}<extra></extra>",
           "ids": [
            "Input 01"
           ],
           "legendgroup": "Input 01",
           "marker": {
            "color": "#F58518",
            "pattern": {
             "shape": ""
            }
           },
           "name": "Input 01",
           "offsetgroup": "Input 01",
           "orientation": "h",
           "showlegend": true,
           "textposition": "auto",
           "type": "bar",
           "x": [
            0.13932718608953712
           ],
           "xaxis": "x",
           "y": [
            "Input 01"
           ],
           "yaxis": "y"
          },
          {
           "alignmentgroup": "True",
           "hovertemplate": "Feature Name=%{y}<br>Iteration=8<br>Importance=%{x}<extra></extra>",
           "ids": [
            "Input 08"
           ],
           "legendgroup": "Input 08",
           "marker": {
            "color": "#E45756",
            "pattern": {
             "shape": ""
            }
           },
           "name": "Input 08",
           "offsetgroup": "Input 08",
           "orientation": "h",
           "showlegend": true,
           "textposition": "auto",
           "type": "bar",
           "x": [
            0.0026678586896639466
           ],
           "xaxis": "x",
           "y": [
            "Input 08"
           ],
           "yaxis": "y"
          },
          {
           "alignmentgroup": "True",
           "hovertemplate": "Feature Name=%{y}<br>Iteration=8<br>Importance=%{x}<extra></extra>",
           "ids": [
            "Input 03"
           ],
           "legendgroup": "Input 03",
           "marker": {
            "color": "#72B7B2",
            "pattern": {
             "shape": ""
            }
           },
           "name": "Input 03",
           "offsetgroup": "Input 03",
           "orientation": "h",
           "showlegend": true,
           "textposition": "auto",
           "type": "bar",
           "x": [
            0.003995577627853064
           ],
           "xaxis": "x",
           "y": [
            "Input 03"
           ],
           "yaxis": "y"
          },
          {
           "alignmentgroup": "True",
           "hovertemplate": "Feature Name=%{y}<br>Iteration=8<br>Importance=%{x}<extra></extra>",
           "ids": [
            "Input 09"
           ],
           "legendgroup": "Input 09",
           "marker": {
            "color": "#54A24B",
            "pattern": {
             "shape": ""
            }
           },
           "name": "Input 09",
           "offsetgroup": "Input 09",
           "orientation": "h",
           "showlegend": true,
           "textposition": "auto",
           "type": "bar",
           "x": [
            0.009076334150068109
           ],
           "xaxis": "x",
           "y": [
            "Input 09"
           ],
           "yaxis": "y"
          },
          {
           "alignmentgroup": "True",
           "hovertemplate": "Feature Name=%{y}<br>Iteration=8<br>Importance=%{x}<extra></extra>",
           "ids": [
            "Input 06"
           ],
           "legendgroup": "Input 06",
           "marker": {
            "color": "#EECA3B",
            "pattern": {
             "shape": ""
            }
           },
           "name": "Input 06",
           "offsetgroup": "Input 06",
           "orientation": "h",
           "showlegend": true,
           "textposition": "auto",
           "type": "bar",
           "x": [
            0.08273197224140426
           ],
           "xaxis": "x",
           "y": [
            "Input 06"
           ],
           "yaxis": "y"
          },
          {
           "alignmentgroup": "True",
           "hovertemplate": "Feature Name=%{y}<br>Iteration=8<br>Importance=%{x}<extra></extra>",
           "ids": [
            "Input 07"
           ],
           "legendgroup": "Input 07",
           "marker": {
            "color": "#B279A2",
            "pattern": {
             "shape": ""
            }
           },
           "name": "Input 07",
           "offsetgroup": "Input 07",
           "orientation": "h",
           "showlegend": true,
           "textposition": "auto",
           "type": "bar",
           "x": [
            0.006898854801097948
           ],
           "xaxis": "x",
           "y": [
            "Input 07"
           ],
           "yaxis": "y"
          },
          {
           "alignmentgroup": "True",
           "hovertemplate": "Feature Name=%{y}<br>Iteration=8<br>Importance=%{x}<extra></extra>",
           "ids": [
            "Input 04"
           ],
           "legendgroup": "Input 04",
           "marker": {
            "color": "#FF9DA6",
            "pattern": {
             "shape": ""
            }
           },
           "name": "Input 04",
           "offsetgroup": "Input 04",
           "orientation": "h",
           "showlegend": true,
           "textposition": "auto",
           "type": "bar",
           "x": [
            0.016806338384912023
           ],
           "xaxis": "x",
           "y": [
            "Input 04"
           ],
           "yaxis": "y"
          },
          {
           "alignmentgroup": "True",
           "hovertemplate": "Feature Name=%{y}<br>Iteration=8<br>Importance=%{x}<extra></extra>",
           "ids": [
            "Input 11"
           ],
           "legendgroup": "Input 11",
           "marker": {
            "color": "#9D755D",
            "pattern": {
             "shape": ""
            }
           },
           "name": "Input 11",
           "offsetgroup": "Input 11",
           "orientation": "h",
           "showlegend": true,
           "textposition": "auto",
           "type": "bar",
           "x": [
            0.004806318124893534
           ],
           "xaxis": "x",
           "y": [
            "Input 11"
           ],
           "yaxis": "y"
          },
          {
           "alignmentgroup": "True",
           "hovertemplate": "Feature Name=%{y}<br>Iteration=8<br>Importance=%{x}<extra></extra>",
           "ids": [
            "Input 02"
           ],
           "legendgroup": "Input 02",
           "marker": {
            "color": "#BAB0AC",
            "pattern": {
             "shape": ""
            }
           },
           "name": "Input 02",
           "offsetgroup": "Input 02",
           "orientation": "h",
           "showlegend": true,
           "textposition": "auto",
           "type": "bar",
           "x": [
            0.003917981252693017
           ],
           "xaxis": "x",
           "y": [
            "Input 02"
           ],
           "yaxis": "y"
          },
          {
           "alignmentgroup": "True",
           "hovertemplate": "Feature Name=%{y}<br>Iteration=8<br>Importance=%{x}<extra></extra>",
           "ids": [
            "Input 12"
           ],
           "legendgroup": "Input 12",
           "marker": {
            "color": "#4C78A8",
            "pattern": {
             "shape": ""
            }
           },
           "name": "Input 12",
           "offsetgroup": "Input 12",
           "orientation": "h",
           "showlegend": true,
           "textposition": "auto",
           "type": "bar",
           "x": [
            0.010171088525896953
           ],
           "xaxis": "x",
           "y": [
            "Input 12"
           ],
           "yaxis": "y"
          },
          {
           "alignmentgroup": "True",
           "hovertemplate": "Feature Name=%{y}<br>Iteration=8<br>Importance=%{x}<extra></extra>",
           "ids": [
            "Input 05"
           ],
           "legendgroup": "Input 05",
           "marker": {
            "color": "#F58518",
            "pattern": {
             "shape": ""
            }
           },
           "name": "Input 05",
           "offsetgroup": "Input 05",
           "orientation": "h",
           "showlegend": true,
           "textposition": "auto",
           "type": "bar",
           "x": [
            0.009862142369868158
           ],
           "xaxis": "x",
           "y": [
            "Input 05"
           ],
           "yaxis": "y"
          },
          {
           "alignmentgroup": "True",
           "hovertemplate": "Feature Name=%{y}<br>Iteration=8<br>Importance=%{x}<extra></extra>",
           "ids": [
            "Input 10"
           ],
           "legendgroup": "Input 10",
           "marker": {
            "color": "#E45756",
            "pattern": {
             "shape": ""
            }
           },
           "name": "Input 10",
           "offsetgroup": "Input 10",
           "orientation": "h",
           "showlegend": true,
           "textposition": "auto",
           "type": "bar",
           "x": [
            0.007170465782365471
           ],
           "xaxis": "x",
           "y": [
            "Input 10"
           ],
           "yaxis": "y"
          }
         ],
         "name": "8"
        },
        {
         "data": [
          {
           "alignmentgroup": "True",
           "hovertemplate": "Feature Name=%{y}<br>Iteration=9<br>Importance=%{x}<extra></extra>",
           "ids": [
            "Output 01"
           ],
           "legendgroup": "Output 01",
           "marker": {
            "color": "#4C78A8",
            "pattern": {
             "shape": ""
            }
           },
           "name": "Output 01",
           "offsetgroup": "Output 01",
           "orientation": "h",
           "showlegend": true,
           "textposition": "auto",
           "type": "bar",
           "x": [
            0.6954113570629339
           ],
           "xaxis": "x",
           "y": [
            "Output 01"
           ],
           "yaxis": "y"
          },
          {
           "alignmentgroup": "True",
           "hovertemplate": "Feature Name=%{y}<br>Iteration=9<br>Importance=%{x}<extra></extra>",
           "ids": [
            "Input 01"
           ],
           "legendgroup": "Input 01",
           "marker": {
            "color": "#F58518",
            "pattern": {
             "shape": ""
            }
           },
           "name": "Input 01",
           "offsetgroup": "Input 01",
           "orientation": "h",
           "showlegend": true,
           "textposition": "auto",
           "type": "bar",
           "x": [
            0.14053675229745244
           ],
           "xaxis": "x",
           "y": [
            "Input 01"
           ],
           "yaxis": "y"
          },
          {
           "alignmentgroup": "True",
           "hovertemplate": "Feature Name=%{y}<br>Iteration=9<br>Importance=%{x}<extra></extra>",
           "ids": [
            "Input 08"
           ],
           "legendgroup": "Input 08",
           "marker": {
            "color": "#E45756",
            "pattern": {
             "shape": ""
            }
           },
           "name": "Input 08",
           "offsetgroup": "Input 08",
           "orientation": "h",
           "showlegend": true,
           "textposition": "auto",
           "type": "bar",
           "x": [
            0.004475664684314946
           ],
           "xaxis": "x",
           "y": [
            "Input 08"
           ],
           "yaxis": "y"
          },
          {
           "alignmentgroup": "True",
           "hovertemplate": "Feature Name=%{y}<br>Iteration=9<br>Importance=%{x}<extra></extra>",
           "ids": [
            "Input 03"
           ],
           "legendgroup": "Input 03",
           "marker": {
            "color": "#72B7B2",
            "pattern": {
             "shape": ""
            }
           },
           "name": "Input 03",
           "offsetgroup": "Input 03",
           "orientation": "h",
           "showlegend": true,
           "textposition": "auto",
           "type": "bar",
           "x": [
            0.0031244384574737687
           ],
           "xaxis": "x",
           "y": [
            "Input 03"
           ],
           "yaxis": "y"
          },
          {
           "alignmentgroup": "True",
           "hovertemplate": "Feature Name=%{y}<br>Iteration=9<br>Importance=%{x}<extra></extra>",
           "ids": [
            "Input 09"
           ],
           "legendgroup": "Input 09",
           "marker": {
            "color": "#54A24B",
            "pattern": {
             "shape": ""
            }
           },
           "name": "Input 09",
           "offsetgroup": "Input 09",
           "orientation": "h",
           "showlegend": true,
           "textposition": "auto",
           "type": "bar",
           "x": [
            0.010297859803891885
           ],
           "xaxis": "x",
           "y": [
            "Input 09"
           ],
           "yaxis": "y"
          },
          {
           "alignmentgroup": "True",
           "hovertemplate": "Feature Name=%{y}<br>Iteration=9<br>Importance=%{x}<extra></extra>",
           "ids": [
            "Input 06"
           ],
           "legendgroup": "Input 06",
           "marker": {
            "color": "#EECA3B",
            "pattern": {
             "shape": ""
            }
           },
           "name": "Input 06",
           "offsetgroup": "Input 06",
           "orientation": "h",
           "showlegend": true,
           "textposition": "auto",
           "type": "bar",
           "x": [
            0.08450703744199047
           ],
           "xaxis": "x",
           "y": [
            "Input 06"
           ],
           "yaxis": "y"
          },
          {
           "alignmentgroup": "True",
           "hovertemplate": "Feature Name=%{y}<br>Iteration=9<br>Importance=%{x}<extra></extra>",
           "ids": [
            "Input 07"
           ],
           "legendgroup": "Input 07",
           "marker": {
            "color": "#B279A2",
            "pattern": {
             "shape": ""
            }
           },
           "name": "Input 07",
           "offsetgroup": "Input 07",
           "orientation": "h",
           "showlegend": true,
           "textposition": "auto",
           "type": "bar",
           "x": [
            0.005753019922184835
           ],
           "xaxis": "x",
           "y": [
            "Input 07"
           ],
           "yaxis": "y"
          },
          {
           "alignmentgroup": "True",
           "hovertemplate": "Feature Name=%{y}<br>Iteration=9<br>Importance=%{x}<extra></extra>",
           "ids": [
            "Input 04"
           ],
           "legendgroup": "Input 04",
           "marker": {
            "color": "#FF9DA6",
            "pattern": {
             "shape": ""
            }
           },
           "name": "Input 04",
           "offsetgroup": "Input 04",
           "orientation": "h",
           "showlegend": true,
           "textposition": "auto",
           "type": "bar",
           "x": [
            0.016329634859454156
           ],
           "xaxis": "x",
           "y": [
            "Input 04"
           ],
           "yaxis": "y"
          },
          {
           "alignmentgroup": "True",
           "hovertemplate": "Feature Name=%{y}<br>Iteration=9<br>Importance=%{x}<extra></extra>",
           "ids": [
            "Input 11"
           ],
           "legendgroup": "Input 11",
           "marker": {
            "color": "#9D755D",
            "pattern": {
             "shape": ""
            }
           },
           "name": "Input 11",
           "offsetgroup": "Input 11",
           "orientation": "h",
           "showlegend": true,
           "textposition": "auto",
           "type": "bar",
           "x": [
            0.00688795539796084
           ],
           "xaxis": "x",
           "y": [
            "Input 11"
           ],
           "yaxis": "y"
          },
          {
           "alignmentgroup": "True",
           "hovertemplate": "Feature Name=%{y}<br>Iteration=9<br>Importance=%{x}<extra></extra>",
           "ids": [
            "Input 02"
           ],
           "legendgroup": "Input 02",
           "marker": {
            "color": "#BAB0AC",
            "pattern": {
             "shape": ""
            }
           },
           "name": "Input 02",
           "offsetgroup": "Input 02",
           "orientation": "h",
           "showlegend": true,
           "textposition": "auto",
           "type": "bar",
           "x": [
            0.0030151268719049635
           ],
           "xaxis": "x",
           "y": [
            "Input 02"
           ],
           "yaxis": "y"
          },
          {
           "alignmentgroup": "True",
           "hovertemplate": "Feature Name=%{y}<br>Iteration=9<br>Importance=%{x}<extra></extra>",
           "ids": [
            "Input 12"
           ],
           "legendgroup": "Input 12",
           "marker": {
            "color": "#4C78A8",
            "pattern": {
             "shape": ""
            }
           },
           "name": "Input 12",
           "offsetgroup": "Input 12",
           "orientation": "h",
           "showlegend": true,
           "textposition": "auto",
           "type": "bar",
           "x": [
            0.012017080090312916
           ],
           "xaxis": "x",
           "y": [
            "Input 12"
           ],
           "yaxis": "y"
          },
          {
           "alignmentgroup": "True",
           "hovertemplate": "Feature Name=%{y}<br>Iteration=9<br>Importance=%{x}<extra></extra>",
           "ids": [
            "Input 05"
           ],
           "legendgroup": "Input 05",
           "marker": {
            "color": "#F58518",
            "pattern": {
             "shape": ""
            }
           },
           "name": "Input 05",
           "offsetgroup": "Input 05",
           "orientation": "h",
           "showlegend": true,
           "textposition": "auto",
           "type": "bar",
           "x": [
            0.009952140818383718
           ],
           "xaxis": "x",
           "y": [
            "Input 05"
           ],
           "yaxis": "y"
          },
          {
           "alignmentgroup": "True",
           "hovertemplate": "Feature Name=%{y}<br>Iteration=9<br>Importance=%{x}<extra></extra>",
           "ids": [
            "Input 10"
           ],
           "legendgroup": "Input 10",
           "marker": {
            "color": "#E45756",
            "pattern": {
             "shape": ""
            }
           },
           "name": "Input 10",
           "offsetgroup": "Input 10",
           "orientation": "h",
           "showlegend": true,
           "textposition": "auto",
           "type": "bar",
           "x": [
            0.007691932291741224
           ],
           "xaxis": "x",
           "y": [
            "Input 10"
           ],
           "yaxis": "y"
          }
         ],
         "name": "9"
        },
        {
         "data": [
          {
           "alignmentgroup": "True",
           "hovertemplate": "Feature Name=%{y}<br>Iteration=10<br>Importance=%{x}<extra></extra>",
           "ids": [
            "Output 01"
           ],
           "legendgroup": "Output 01",
           "marker": {
            "color": "#4C78A8",
            "pattern": {
             "shape": ""
            }
           },
           "name": "Output 01",
           "offsetgroup": "Output 01",
           "orientation": "h",
           "showlegend": true,
           "textposition": "auto",
           "type": "bar",
           "x": [
            0.701192785135183
           ],
           "xaxis": "x",
           "y": [
            "Output 01"
           ],
           "yaxis": "y"
          },
          {
           "alignmentgroup": "True",
           "hovertemplate": "Feature Name=%{y}<br>Iteration=10<br>Importance=%{x}<extra></extra>",
           "ids": [
            "Input 01"
           ],
           "legendgroup": "Input 01",
           "marker": {
            "color": "#F58518",
            "pattern": {
             "shape": ""
            }
           },
           "name": "Input 01",
           "offsetgroup": "Input 01",
           "orientation": "h",
           "showlegend": true,
           "textposition": "auto",
           "type": "bar",
           "x": [
            0.1400069488363969
           ],
           "xaxis": "x",
           "y": [
            "Input 01"
           ],
           "yaxis": "y"
          },
          {
           "alignmentgroup": "True",
           "hovertemplate": "Feature Name=%{y}<br>Iteration=10<br>Importance=%{x}<extra></extra>",
           "ids": [
            "Input 08"
           ],
           "legendgroup": "Input 08",
           "marker": {
            "color": "#E45756",
            "pattern": {
             "shape": ""
            }
           },
           "name": "Input 08",
           "offsetgroup": "Input 08",
           "orientation": "h",
           "showlegend": true,
           "textposition": "auto",
           "type": "bar",
           "x": [
            0.0031927532707910723
           ],
           "xaxis": "x",
           "y": [
            "Input 08"
           ],
           "yaxis": "y"
          },
          {
           "alignmentgroup": "True",
           "hovertemplate": "Feature Name=%{y}<br>Iteration=10<br>Importance=%{x}<extra></extra>",
           "ids": [
            "Input 03"
           ],
           "legendgroup": "Input 03",
           "marker": {
            "color": "#72B7B2",
            "pattern": {
             "shape": ""
            }
           },
           "name": "Input 03",
           "offsetgroup": "Input 03",
           "orientation": "h",
           "showlegend": true,
           "textposition": "auto",
           "type": "bar",
           "x": [
            0.002627036476085398
           ],
           "xaxis": "x",
           "y": [
            "Input 03"
           ],
           "yaxis": "y"
          },
          {
           "alignmentgroup": "True",
           "hovertemplate": "Feature Name=%{y}<br>Iteration=10<br>Importance=%{x}<extra></extra>",
           "ids": [
            "Input 09"
           ],
           "legendgroup": "Input 09",
           "marker": {
            "color": "#54A24B",
            "pattern": {
             "shape": ""
            }
           },
           "name": "Input 09",
           "offsetgroup": "Input 09",
           "orientation": "h",
           "showlegend": true,
           "textposition": "auto",
           "type": "bar",
           "x": [
            0.010861073563068856
           ],
           "xaxis": "x",
           "y": [
            "Input 09"
           ],
           "yaxis": "y"
          },
          {
           "alignmentgroup": "True",
           "hovertemplate": "Feature Name=%{y}<br>Iteration=10<br>Importance=%{x}<extra></extra>",
           "ids": [
            "Input 06"
           ],
           "legendgroup": "Input 06",
           "marker": {
            "color": "#EECA3B",
            "pattern": {
             "shape": ""
            }
           },
           "name": "Input 06",
           "offsetgroup": "Input 06",
           "orientation": "h",
           "showlegend": true,
           "textposition": "auto",
           "type": "bar",
           "x": [
            0.08391080453553568
           ],
           "xaxis": "x",
           "y": [
            "Input 06"
           ],
           "yaxis": "y"
          },
          {
           "alignmentgroup": "True",
           "hovertemplate": "Feature Name=%{y}<br>Iteration=10<br>Importance=%{x}<extra></extra>",
           "ids": [
            "Input 07"
           ],
           "legendgroup": "Input 07",
           "marker": {
            "color": "#B279A2",
            "pattern": {
             "shape": ""
            }
           },
           "name": "Input 07",
           "offsetgroup": "Input 07",
           "orientation": "h",
           "showlegend": true,
           "textposition": "auto",
           "type": "bar",
           "x": [
            0.006707820688931051
           ],
           "xaxis": "x",
           "y": [
            "Input 07"
           ],
           "yaxis": "y"
          },
          {
           "alignmentgroup": "True",
           "hovertemplate": "Feature Name=%{y}<br>Iteration=10<br>Importance=%{x}<extra></extra>",
           "ids": [
            "Input 04"
           ],
           "legendgroup": "Input 04",
           "marker": {
            "color": "#FF9DA6",
            "pattern": {
             "shape": ""
            }
           },
           "name": "Input 04",
           "offsetgroup": "Input 04",
           "orientation": "h",
           "showlegend": true,
           "textposition": "auto",
           "type": "bar",
           "x": [
            0.015219600574768156
           ],
           "xaxis": "x",
           "y": [
            "Input 04"
           ],
           "yaxis": "y"
          },
          {
           "alignmentgroup": "True",
           "hovertemplate": "Feature Name=%{y}<br>Iteration=10<br>Importance=%{x}<extra></extra>",
           "ids": [
            "Input 11"
           ],
           "legendgroup": "Input 11",
           "marker": {
            "color": "#9D755D",
            "pattern": {
             "shape": ""
            }
           },
           "name": "Input 11",
           "offsetgroup": "Input 11",
           "orientation": "h",
           "showlegend": true,
           "textposition": "auto",
           "type": "bar",
           "x": [
            0.0052591727023326915
           ],
           "xaxis": "x",
           "y": [
            "Input 11"
           ],
           "yaxis": "y"
          },
          {
           "alignmentgroup": "True",
           "hovertemplate": "Feature Name=%{y}<br>Iteration=10<br>Importance=%{x}<extra></extra>",
           "ids": [
            "Input 02"
           ],
           "legendgroup": "Input 02",
           "marker": {
            "color": "#BAB0AC",
            "pattern": {
             "shape": ""
            }
           },
           "name": "Input 02",
           "offsetgroup": "Input 02",
           "orientation": "h",
           "showlegend": true,
           "textposition": "auto",
           "type": "bar",
           "x": [
            0.003949285570117829
           ],
           "xaxis": "x",
           "y": [
            "Input 02"
           ],
           "yaxis": "y"
          },
          {
           "alignmentgroup": "True",
           "hovertemplate": "Feature Name=%{y}<br>Iteration=10<br>Importance=%{x}<extra></extra>",
           "ids": [
            "Input 12"
           ],
           "legendgroup": "Input 12",
           "marker": {
            "color": "#4C78A8",
            "pattern": {
             "shape": ""
            }
           },
           "name": "Input 12",
           "offsetgroup": "Input 12",
           "orientation": "h",
           "showlegend": true,
           "textposition": "auto",
           "type": "bar",
           "x": [
            0.012670147816719723
           ],
           "xaxis": "x",
           "y": [
            "Input 12"
           ],
           "yaxis": "y"
          },
          {
           "alignmentgroup": "True",
           "hovertemplate": "Feature Name=%{y}<br>Iteration=10<br>Importance=%{x}<extra></extra>",
           "ids": [
            "Input 05"
           ],
           "legendgroup": "Input 05",
           "marker": {
            "color": "#F58518",
            "pattern": {
             "shape": ""
            }
           },
           "name": "Input 05",
           "offsetgroup": "Input 05",
           "orientation": "h",
           "showlegend": true,
           "textposition": "auto",
           "type": "bar",
           "x": [
            0.008429278203643129
           ],
           "xaxis": "x",
           "y": [
            "Input 05"
           ],
           "yaxis": "y"
          },
          {
           "alignmentgroup": "True",
           "hovertemplate": "Feature Name=%{y}<br>Iteration=10<br>Importance=%{x}<extra></extra>",
           "ids": [
            "Input 10"
           ],
           "legendgroup": "Input 10",
           "marker": {
            "color": "#E45756",
            "pattern": {
             "shape": ""
            }
           },
           "name": "Input 10",
           "offsetgroup": "Input 10",
           "orientation": "h",
           "showlegend": true,
           "textposition": "auto",
           "type": "bar",
           "x": [
            0.00597329262642651
           ],
           "xaxis": "x",
           "y": [
            "Input 10"
           ],
           "yaxis": "y"
          }
         ],
         "name": "10"
        }
       ],
       "layout": {
        "autosize": false,
        "barmode": "relative",
        "height": 500,
        "legend": {
         "title": {
          "text": "Feature Name"
         },
         "tracegroupgap": 0
        },
        "margin": {
         "t": 60
        },
        "sliders": [
         {
          "active": 10,
          "currentvalue": {
           "prefix": "Iteration="
          },
          "len": 0.9,
          "pad": {
           "b": 10,
           "t": 60
          },
          "steps": [
           {
            "args": [
             [
              "0"
             ],
             {
              "frame": {
               "duration": 0,
               "redraw": true
              },
              "fromcurrent": true,
              "mode": "immediate",
              "transition": {
               "duration": 0,
               "easing": "linear"
              }
             }
            ],
            "label": "0",
            "method": "animate"
           },
           {
            "args": [
             [
              "1"
             ],
             {
              "frame": {
               "duration": 0,
               "redraw": true
              },
              "fromcurrent": true,
              "mode": "immediate",
              "transition": {
               "duration": 0,
               "easing": "linear"
              }
             }
            ],
            "label": "1",
            "method": "animate"
           },
           {
            "args": [
             [
              "2"
             ],
             {
              "frame": {
               "duration": 0,
               "redraw": true
              },
              "fromcurrent": true,
              "mode": "immediate",
              "transition": {
               "duration": 0,
               "easing": "linear"
              }
             }
            ],
            "label": "2",
            "method": "animate"
           },
           {
            "args": [
             [
              "3"
             ],
             {
              "frame": {
               "duration": 0,
               "redraw": true
              },
              "fromcurrent": true,
              "mode": "immediate",
              "transition": {
               "duration": 0,
               "easing": "linear"
              }
             }
            ],
            "label": "3",
            "method": "animate"
           },
           {
            "args": [
             [
              "4"
             ],
             {
              "frame": {
               "duration": 0,
               "redraw": true
              },
              "fromcurrent": true,
              "mode": "immediate",
              "transition": {
               "duration": 0,
               "easing": "linear"
              }
             }
            ],
            "label": "4",
            "method": "animate"
           },
           {
            "args": [
             [
              "5"
             ],
             {
              "frame": {
               "duration": 0,
               "redraw": true
              },
              "fromcurrent": true,
              "mode": "immediate",
              "transition": {
               "duration": 0,
               "easing": "linear"
              }
             }
            ],
            "label": "5",
            "method": "animate"
           },
           {
            "args": [
             [
              "6"
             ],
             {
              "frame": {
               "duration": 0,
               "redraw": true
              },
              "fromcurrent": true,
              "mode": "immediate",
              "transition": {
               "duration": 0,
               "easing": "linear"
              }
             }
            ],
            "label": "6",
            "method": "animate"
           },
           {
            "args": [
             [
              "7"
             ],
             {
              "frame": {
               "duration": 0,
               "redraw": true
              },
              "fromcurrent": true,
              "mode": "immediate",
              "transition": {
               "duration": 0,
               "easing": "linear"
              }
             }
            ],
            "label": "7",
            "method": "animate"
           },
           {
            "args": [
             [
              "8"
             ],
             {
              "frame": {
               "duration": 0,
               "redraw": true
              },
              "fromcurrent": true,
              "mode": "immediate",
              "transition": {
               "duration": 0,
               "easing": "linear"
              }
             }
            ],
            "label": "8",
            "method": "animate"
           },
           {
            "args": [
             [
              "9"
             ],
             {
              "frame": {
               "duration": 0,
               "redraw": true
              },
              "fromcurrent": true,
              "mode": "immediate",
              "transition": {
               "duration": 0,
               "easing": "linear"
              }
             }
            ],
            "label": "9",
            "method": "animate"
           },
           {
            "args": [
             [
              "10"
             ],
             {
              "frame": {
               "duration": 0,
               "redraw": true
              },
              "fromcurrent": true,
              "mode": "immediate",
              "transition": {
               "duration": 0,
               "easing": "linear"
              }
             }
            ],
            "label": "10",
            "method": "animate"
           }
          ],
          "x": 0.1,
          "xanchor": "left",
          "y": 0,
          "yanchor": "top"
         }
        ],
        "template": {
         "data": {
          "bar": [
           {
            "error_x": {
             "color": "#2a3f5f"
            },
            "error_y": {
             "color": "#2a3f5f"
            },
            "marker": {
             "line": {
              "color": "#E5ECF6",
              "width": 0.5
             },
             "pattern": {
              "fillmode": "overlay",
              "size": 10,
              "solidity": 0.2
             }
            },
            "type": "bar"
           }
          ],
          "barpolar": [
           {
            "marker": {
             "line": {
              "color": "#E5ECF6",
              "width": 0.5
             },
             "pattern": {
              "fillmode": "overlay",
              "size": 10,
              "solidity": 0.2
             }
            },
            "type": "barpolar"
           }
          ],
          "carpet": [
           {
            "aaxis": {
             "endlinecolor": "#2a3f5f",
             "gridcolor": "white",
             "linecolor": "white",
             "minorgridcolor": "white",
             "startlinecolor": "#2a3f5f"
            },
            "baxis": {
             "endlinecolor": "#2a3f5f",
             "gridcolor": "white",
             "linecolor": "white",
             "minorgridcolor": "white",
             "startlinecolor": "#2a3f5f"
            },
            "type": "carpet"
           }
          ],
          "choropleth": [
           {
            "colorbar": {
             "outlinewidth": 0,
             "ticks": ""
            },
            "type": "choropleth"
           }
          ],
          "contour": [
           {
            "colorbar": {
             "outlinewidth": 0,
             "ticks": ""
            },
            "colorscale": [
             [
              0,
              "#0d0887"
             ],
             [
              0.1111111111111111,
              "#46039f"
             ],
             [
              0.2222222222222222,
              "#7201a8"
             ],
             [
              0.3333333333333333,
              "#9c179e"
             ],
             [
              0.4444444444444444,
              "#bd3786"
             ],
             [
              0.5555555555555556,
              "#d8576b"
             ],
             [
              0.6666666666666666,
              "#ed7953"
             ],
             [
              0.7777777777777778,
              "#fb9f3a"
             ],
             [
              0.8888888888888888,
              "#fdca26"
             ],
             [
              1,
              "#f0f921"
             ]
            ],
            "type": "contour"
           }
          ],
          "contourcarpet": [
           {
            "colorbar": {
             "outlinewidth": 0,
             "ticks": ""
            },
            "type": "contourcarpet"
           }
          ],
          "heatmap": [
           {
            "colorbar": {
             "outlinewidth": 0,
             "ticks": ""
            },
            "colorscale": [
             [
              0,
              "#0d0887"
             ],
             [
              0.1111111111111111,
              "#46039f"
             ],
             [
              0.2222222222222222,
              "#7201a8"
             ],
             [
              0.3333333333333333,
              "#9c179e"
             ],
             [
              0.4444444444444444,
              "#bd3786"
             ],
             [
              0.5555555555555556,
              "#d8576b"
             ],
             [
              0.6666666666666666,
              "#ed7953"
             ],
             [
              0.7777777777777778,
              "#fb9f3a"
             ],
             [
              0.8888888888888888,
              "#fdca26"
             ],
             [
              1,
              "#f0f921"
             ]
            ],
            "type": "heatmap"
           }
          ],
          "heatmapgl": [
           {
            "colorbar": {
             "outlinewidth": 0,
             "ticks": ""
            },
            "colorscale": [
             [
              0,
              "#0d0887"
             ],
             [
              0.1111111111111111,
              "#46039f"
             ],
             [
              0.2222222222222222,
              "#7201a8"
             ],
             [
              0.3333333333333333,
              "#9c179e"
             ],
             [
              0.4444444444444444,
              "#bd3786"
             ],
             [
              0.5555555555555556,
              "#d8576b"
             ],
             [
              0.6666666666666666,
              "#ed7953"
             ],
             [
              0.7777777777777778,
              "#fb9f3a"
             ],
             [
              0.8888888888888888,
              "#fdca26"
             ],
             [
              1,
              "#f0f921"
             ]
            ],
            "type": "heatmapgl"
           }
          ],
          "histogram": [
           {
            "marker": {
             "pattern": {
              "fillmode": "overlay",
              "size": 10,
              "solidity": 0.2
             }
            },
            "type": "histogram"
           }
          ],
          "histogram2d": [
           {
            "colorbar": {
             "outlinewidth": 0,
             "ticks": ""
            },
            "colorscale": [
             [
              0,
              "#0d0887"
             ],
             [
              0.1111111111111111,
              "#46039f"
             ],
             [
              0.2222222222222222,
              "#7201a8"
             ],
             [
              0.3333333333333333,
              "#9c179e"
             ],
             [
              0.4444444444444444,
              "#bd3786"
             ],
             [
              0.5555555555555556,
              "#d8576b"
             ],
             [
              0.6666666666666666,
              "#ed7953"
             ],
             [
              0.7777777777777778,
              "#fb9f3a"
             ],
             [
              0.8888888888888888,
              "#fdca26"
             ],
             [
              1,
              "#f0f921"
             ]
            ],
            "type": "histogram2d"
           }
          ],
          "histogram2dcontour": [
           {
            "colorbar": {
             "outlinewidth": 0,
             "ticks": ""
            },
            "colorscale": [
             [
              0,
              "#0d0887"
             ],
             [
              0.1111111111111111,
              "#46039f"
             ],
             [
              0.2222222222222222,
              "#7201a8"
             ],
             [
              0.3333333333333333,
              "#9c179e"
             ],
             [
              0.4444444444444444,
              "#bd3786"
             ],
             [
              0.5555555555555556,
              "#d8576b"
             ],
             [
              0.6666666666666666,
              "#ed7953"
             ],
             [
              0.7777777777777778,
              "#fb9f3a"
             ],
             [
              0.8888888888888888,
              "#fdca26"
             ],
             [
              1,
              "#f0f921"
             ]
            ],
            "type": "histogram2dcontour"
           }
          ],
          "mesh3d": [
           {
            "colorbar": {
             "outlinewidth": 0,
             "ticks": ""
            },
            "type": "mesh3d"
           }
          ],
          "parcoords": [
           {
            "line": {
             "colorbar": {
              "outlinewidth": 0,
              "ticks": ""
             }
            },
            "type": "parcoords"
           }
          ],
          "pie": [
           {
            "automargin": true,
            "type": "pie"
           }
          ],
          "scatter": [
           {
            "marker": {
             "colorbar": {
              "outlinewidth": 0,
              "ticks": ""
             }
            },
            "type": "scatter"
           }
          ],
          "scatter3d": [
           {
            "line": {
             "colorbar": {
              "outlinewidth": 0,
              "ticks": ""
             }
            },
            "marker": {
             "colorbar": {
              "outlinewidth": 0,
              "ticks": ""
             }
            },
            "type": "scatter3d"
           }
          ],
          "scattercarpet": [
           {
            "marker": {
             "colorbar": {
              "outlinewidth": 0,
              "ticks": ""
             }
            },
            "type": "scattercarpet"
           }
          ],
          "scattergeo": [
           {
            "marker": {
             "colorbar": {
              "outlinewidth": 0,
              "ticks": ""
             }
            },
            "type": "scattergeo"
           }
          ],
          "scattergl": [
           {
            "marker": {
             "colorbar": {
              "outlinewidth": 0,
              "ticks": ""
             }
            },
            "type": "scattergl"
           }
          ],
          "scattermapbox": [
           {
            "marker": {
             "colorbar": {
              "outlinewidth": 0,
              "ticks": ""
             }
            },
            "type": "scattermapbox"
           }
          ],
          "scatterpolar": [
           {
            "marker": {
             "colorbar": {
              "outlinewidth": 0,
              "ticks": ""
             }
            },
            "type": "scatterpolar"
           }
          ],
          "scatterpolargl": [
           {
            "marker": {
             "colorbar": {
              "outlinewidth": 0,
              "ticks": ""
             }
            },
            "type": "scatterpolargl"
           }
          ],
          "scatterternary": [
           {
            "marker": {
             "colorbar": {
              "outlinewidth": 0,
              "ticks": ""
             }
            },
            "type": "scatterternary"
           }
          ],
          "surface": [
           {
            "colorbar": {
             "outlinewidth": 0,
             "ticks": ""
            },
            "colorscale": [
             [
              0,
              "#0d0887"
             ],
             [
              0.1111111111111111,
              "#46039f"
             ],
             [
              0.2222222222222222,
              "#7201a8"
             ],
             [
              0.3333333333333333,
              "#9c179e"
             ],
             [
              0.4444444444444444,
              "#bd3786"
             ],
             [
              0.5555555555555556,
              "#d8576b"
             ],
             [
              0.6666666666666666,
              "#ed7953"
             ],
             [
              0.7777777777777778,
              "#fb9f3a"
             ],
             [
              0.8888888888888888,
              "#fdca26"
             ],
             [
              1,
              "#f0f921"
             ]
            ],
            "type": "surface"
           }
          ],
          "table": [
           {
            "cells": {
             "fill": {
              "color": "#EBF0F8"
             },
             "line": {
              "color": "white"
             }
            },
            "header": {
             "fill": {
              "color": "#C8D4E3"
             },
             "line": {
              "color": "white"
             }
            },
            "type": "table"
           }
          ]
         },
         "layout": {
          "annotationdefaults": {
           "arrowcolor": "#2a3f5f",
           "arrowhead": 0,
           "arrowwidth": 1
          },
          "autotypenumbers": "strict",
          "coloraxis": {
           "colorbar": {
            "outlinewidth": 0,
            "ticks": ""
           }
          },
          "colorscale": {
           "diverging": [
            [
             0,
             "#8e0152"
            ],
            [
             0.1,
             "#c51b7d"
            ],
            [
             0.2,
             "#de77ae"
            ],
            [
             0.3,
             "#f1b6da"
            ],
            [
             0.4,
             "#fde0ef"
            ],
            [
             0.5,
             "#f7f7f7"
            ],
            [
             0.6,
             "#e6f5d0"
            ],
            [
             0.7,
             "#b8e186"
            ],
            [
             0.8,
             "#7fbc41"
            ],
            [
             0.9,
             "#4d9221"
            ],
            [
             1,
             "#276419"
            ]
           ],
           "sequential": [
            [
             0,
             "#0d0887"
            ],
            [
             0.1111111111111111,
             "#46039f"
            ],
            [
             0.2222222222222222,
             "#7201a8"
            ],
            [
             0.3333333333333333,
             "#9c179e"
            ],
            [
             0.4444444444444444,
             "#bd3786"
            ],
            [
             0.5555555555555556,
             "#d8576b"
            ],
            [
             0.6666666666666666,
             "#ed7953"
            ],
            [
             0.7777777777777778,
             "#fb9f3a"
            ],
            [
             0.8888888888888888,
             "#fdca26"
            ],
            [
             1,
             "#f0f921"
            ]
           ],
           "sequentialminus": [
            [
             0,
             "#0d0887"
            ],
            [
             0.1111111111111111,
             "#46039f"
            ],
            [
             0.2222222222222222,
             "#7201a8"
            ],
            [
             0.3333333333333333,
             "#9c179e"
            ],
            [
             0.4444444444444444,
             "#bd3786"
            ],
            [
             0.5555555555555556,
             "#d8576b"
            ],
            [
             0.6666666666666666,
             "#ed7953"
            ],
            [
             0.7777777777777778,
             "#fb9f3a"
            ],
            [
             0.8888888888888888,
             "#fdca26"
            ],
            [
             1,
             "#f0f921"
            ]
           ]
          },
          "colorway": [
           "#636efa",
           "#EF553B",
           "#00cc96",
           "#ab63fa",
           "#FFA15A",
           "#19d3f3",
           "#FF6692",
           "#B6E880",
           "#FF97FF",
           "#FECB52"
          ],
          "font": {
           "color": "#2a3f5f"
          },
          "geo": {
           "bgcolor": "white",
           "lakecolor": "white",
           "landcolor": "#E5ECF6",
           "showlakes": true,
           "showland": true,
           "subunitcolor": "white"
          },
          "hoverlabel": {
           "align": "left"
          },
          "hovermode": "closest",
          "mapbox": {
           "style": "light"
          },
          "paper_bgcolor": "white",
          "plot_bgcolor": "#E5ECF6",
          "polar": {
           "angularaxis": {
            "gridcolor": "white",
            "linecolor": "white",
            "ticks": ""
           },
           "bgcolor": "#E5ECF6",
           "radialaxis": {
            "gridcolor": "white",
            "linecolor": "white",
            "ticks": ""
           }
          },
          "scene": {
           "xaxis": {
            "backgroundcolor": "#E5ECF6",
            "gridcolor": "white",
            "gridwidth": 2,
            "linecolor": "white",
            "showbackground": true,
            "ticks": "",
            "zerolinecolor": "white"
           },
           "yaxis": {
            "backgroundcolor": "#E5ECF6",
            "gridcolor": "white",
            "gridwidth": 2,
            "linecolor": "white",
            "showbackground": true,
            "ticks": "",
            "zerolinecolor": "white"
           },
           "zaxis": {
            "backgroundcolor": "#E5ECF6",
            "gridcolor": "white",
            "gridwidth": 2,
            "linecolor": "white",
            "showbackground": true,
            "ticks": "",
            "zerolinecolor": "white"
           }
          },
          "shapedefaults": {
           "line": {
            "color": "#2a3f5f"
           }
          },
          "ternary": {
           "aaxis": {
            "gridcolor": "white",
            "linecolor": "white",
            "ticks": ""
           },
           "baxis": {
            "gridcolor": "white",
            "linecolor": "white",
            "ticks": ""
           },
           "bgcolor": "#E5ECF6",
           "caxis": {
            "gridcolor": "white",
            "linecolor": "white",
            "ticks": ""
           }
          },
          "title": {
           "x": 0.05
          },
          "xaxis": {
           "automargin": true,
           "gridcolor": "white",
           "linecolor": "white",
           "ticks": "",
           "title": {
            "standoff": 15
           },
           "zerolinecolor": "white",
           "zerolinewidth": 2
          },
          "yaxis": {
           "automargin": true,
           "gridcolor": "white",
           "linecolor": "white",
           "ticks": "",
           "title": {
            "standoff": 15
           },
           "zerolinecolor": "white",
           "zerolinewidth": 2
          }
         }
        },
        "title": {
         "text": "Feature Importance Per Iteration"
        },
        "updatemenus": [
         {
          "active": 0,
          "buttons": [
           {
            "args": [
             null,
             {
              "frame": {
               "duration": 500,
               "redraw": true
              },
              "fromcurrent": true,
              "mode": "immediate",
              "transition": {
               "duration": 500,
               "easing": "linear"
              }
             }
            ],
            "label": "&#9654;",
            "method": "animate"
           },
           {
            "args": [
             [
              null
             ],
             {
              "frame": {
               "duration": 0,
               "redraw": true
              },
              "fromcurrent": true,
              "mode": "immediate",
              "transition": {
               "duration": 0,
               "easing": "linear"
              }
             }
            ],
            "label": "&#9724;",
            "method": "animate"
           }
          ],
          "direction": "left",
          "pad": {
           "r": 10,
           "t": 70
          },
          "showactive": false,
          "type": "buttons",
          "x": 0.1,
          "xanchor": "right",
          "y": 0,
          "yanchor": "top"
         }
        ],
        "width": 800,
        "xaxis": {
         "anchor": "y",
         "domain": [
          0,
          1
         ],
         "range": [
          0,
          0.3
         ],
         "title": {
          "text": "Importance"
         },
         "type": "linear"
        },
        "yaxis": {
         "anchor": "x",
         "autorange": true,
         "categoryarray": [
          "Input 10",
          "Input 05",
          "Input 12",
          "Input 02",
          "Input 11",
          "Input 04",
          "Input 07",
          "Input 06",
          "Input 09",
          "Input 03",
          "Input 08",
          "Input 01",
          "Output 01"
         ],
         "categoryorder": "total ascending",
         "domain": [
          0,
          1
         ],
         "range": [
          0.5,
          12.5
         ],
         "title": {
          "text": "Feature Name"
         },
         "type": "category"
        }
       }
      },
      "image/png": "[encoded data removed]",
      "text/html": [
       "<div>                            <div id=\"41aa4c29-478a-42af-8e47-646e3f003de0\" class=\"plotly-graph-div\" style=\"height:500px; width:800px;\"></div>            <script type=\"text/javascript\">                require([\"plotly\"], function(Plotly) {                    window.PLOTLYENV=window.PLOTLYENV || {};                                    if (document.getElementById(\"41aa4c29-478a-42af-8e47-646e3f003de0\")) {                    Plotly.newPlot(                        \"41aa4c29-478a-42af-8e47-646e3f003de0\",                        [{\"alignmentgroup\":\"True\",\"hovertemplate\":\"Feature Name=%{y}<br>Iteration=0<br>Importance=%{x}<extra></extra>\",\"ids\":[\"Output 01\"],\"legendgroup\":\"Output 01\",\"marker\":{\"color\":\"#4C78A8\",\"pattern\":{\"shape\":\"\"}},\"name\":\"Output 01\",\"offsetgroup\":\"Output 01\",\"orientation\":\"h\",\"showlegend\":true,\"textposition\":\"auto\",\"type\":\"bar\",\"x\":[0.5793200287571652],\"xaxis\":\"x\",\"y\":[\"Output 01\"],\"yaxis\":\"y\"},{\"alignmentgroup\":\"True\",\"hovertemplate\":\"Feature Name=%{y}<br>Iteration=0<br>Importance=%{x}<extra></extra>\",\"ids\":[\"Input 01\"],\"legendgroup\":\"Input 01\",\"marker\":{\"color\":\"#F58518\",\"pattern\":{\"shape\":\"\"}},\"name\":\"Input 01\",\"offsetgroup\":\"Input 01\",\"orientation\":\"h\",\"showlegend\":true,\"textposition\":\"auto\",\"type\":\"bar\",\"x\":[0.06455923175539596],\"xaxis\":\"x\",\"y\":[\"Input 01\"],\"yaxis\":\"y\"},{\"alignmentgroup\":\"True\",\"hovertemplate\":\"Feature Name=%{y}<br>Iteration=0<br>Importance=%{x}<extra></extra>\",\"ids\":[\"Input 08\"],\"legendgroup\":\"Input 08\",\"marker\":{\"color\":\"#E45756\",\"pattern\":{\"shape\":\"\"}},\"name\":\"Input 08\",\"offsetgroup\":\"Input 08\",\"orientation\":\"h\",\"showlegend\":true,\"textposition\":\"auto\",\"type\":\"bar\",\"x\":[0.056970393702841265],\"xaxis\":\"x\",\"y\":[\"Input 08\"],\"yaxis\":\"y\"},{\"alignmentgroup\":\"True\",\"hovertemplate\":\"Feature Name=%{y}<br>Iteration=0<br>Importance=%{x}<extra></extra>\",\"ids\":[\"Input 03\"],\"legendgroup\":\"Input 03\",\"marker\":{\"color\":\"#72B7B2\",\"pattern\":{\"shape\":\"\"}},\"name\":\"Input 03\",\"offsetgroup\":\"Input 03\",\"orientation\":\"h\",\"showlegend\":true,\"textposition\":\"auto\",\"type\":\"bar\",\"x\":[0.048774908063770286],\"xaxis\":\"x\",\"y\":[\"Input 03\"],\"yaxis\":\"y\"},{\"alignmentgroup\":\"True\",\"hovertemplate\":\"Feature Name=%{y}<br>Iteration=0<br>Importance=%{x}<extra></extra>\",\"ids\":[\"Input 09\"],\"legendgroup\":\"Input 09\",\"marker\":{\"color\":\"#54A24B\",\"pattern\":{\"shape\":\"\"}},\"name\":\"Input 09\",\"offsetgroup\":\"Input 09\",\"orientation\":\"h\",\"showlegend\":true,\"textposition\":\"auto\",\"type\":\"bar\",\"x\":[0.04569149852896595],\"xaxis\":\"x\",\"y\":[\"Input 09\"],\"yaxis\":\"y\"},{\"alignmentgroup\":\"True\",\"hovertemplate\":\"Feature Name=%{y}<br>Iteration=0<br>Importance=%{x}<extra></extra>\",\"ids\":[\"Input 06\"],\"legendgroup\":\"Input 06\",\"marker\":{\"color\":\"#EECA3B\",\"pattern\":{\"shape\":\"\"}},\"name\":\"Input 06\",\"offsetgroup\":\"Input 06\",\"orientation\":\"h\",\"showlegend\":true,\"textposition\":\"auto\",\"type\":\"bar\",\"x\":[0.04298156877879775],\"xaxis\":\"x\",\"y\":[\"Input 06\"],\"yaxis\":\"y\"},{\"alignmentgroup\":\"True\",\"hovertemplate\":\"Feature Name=%{y}<br>Iteration=0<br>Importance=%{x}<extra></extra>\",\"ids\":[\"Input 07\"],\"legendgroup\":\"Input 07\",\"marker\":{\"color\":\"#B279A2\",\"pattern\":{\"shape\":\"\"}},\"name\":\"Input 07\",\"offsetgroup\":\"Input 07\",\"orientation\":\"h\",\"showlegend\":true,\"textposition\":\"auto\",\"type\":\"bar\",\"x\":[0.03641077255954307],\"xaxis\":\"x\",\"y\":[\"Input 07\"],\"yaxis\":\"y\"},{\"alignmentgroup\":\"True\",\"hovertemplate\":\"Feature Name=%{y}<br>Iteration=0<br>Importance=%{x}<extra></extra>\",\"ids\":[\"Input 04\"],\"legendgroup\":\"Input 04\",\"marker\":{\"color\":\"#FF9DA6\",\"pattern\":{\"shape\":\"\"}},\"name\":\"Input 04\",\"offsetgroup\":\"Input 04\",\"orientation\":\"h\",\"showlegend\":true,\"textposition\":\"auto\",\"type\":\"bar\",\"x\":[0.03181429372855011],\"xaxis\":\"x\",\"y\":[\"Input 04\"],\"yaxis\":\"y\"},{\"alignmentgroup\":\"True\",\"hovertemplate\":\"Feature Name=%{y}<br>Iteration=0<br>Importance=%{x}<extra></extra>\",\"ids\":[\"Input 11\"],\"legendgroup\":\"Input 11\",\"marker\":{\"color\":\"#9D755D\",\"pattern\":{\"shape\":\"\"}},\"name\":\"Input 11\",\"offsetgroup\":\"Input 11\",\"orientation\":\"h\",\"showlegend\":true,\"textposition\":\"auto\",\"type\":\"bar\",\"x\":[0.02379684477961624],\"xaxis\":\"x\",\"y\":[\"Input 11\"],\"yaxis\":\"y\"},{\"alignmentgroup\":\"True\",\"hovertemplate\":\"Feature Name=%{y}<br>Iteration=0<br>Importance=%{x}<extra></extra>\",\"ids\":[\"Input 02\"],\"legendgroup\":\"Input 02\",\"marker\":{\"color\":\"#BAB0AC\",\"pattern\":{\"shape\":\"\"}},\"name\":\"Input 02\",\"offsetgroup\":\"Input 02\",\"orientation\":\"h\",\"showlegend\":true,\"textposition\":\"auto\",\"type\":\"bar\",\"x\":[0.022169522450135266],\"xaxis\":\"x\",\"y\":[\"Input 02\"],\"yaxis\":\"y\"},{\"alignmentgroup\":\"True\",\"hovertemplate\":\"Feature Name=%{y}<br>Iteration=0<br>Importance=%{x}<extra></extra>\",\"ids\":[\"Input 12\"],\"legendgroup\":\"Input 12\",\"marker\":{\"color\":\"#4C78A8\",\"pattern\":{\"shape\":\"\"}},\"name\":\"Input 12\",\"offsetgroup\":\"Input 12\",\"orientation\":\"h\",\"showlegend\":true,\"textposition\":\"auto\",\"type\":\"bar\",\"x\":[0.018468857743769874],\"xaxis\":\"x\",\"y\":[\"Input 12\"],\"yaxis\":\"y\"},{\"alignmentgroup\":\"True\",\"hovertemplate\":\"Feature Name=%{y}<br>Iteration=0<br>Importance=%{x}<extra></extra>\",\"ids\":[\"Input 05\"],\"legendgroup\":\"Input 05\",\"marker\":{\"color\":\"#F58518\",\"pattern\":{\"shape\":\"\"}},\"name\":\"Input 05\",\"offsetgroup\":\"Input 05\",\"orientation\":\"h\",\"showlegend\":true,\"textposition\":\"auto\",\"type\":\"bar\",\"x\":[0.01536968577880344],\"xaxis\":\"x\",\"y\":[\"Input 05\"],\"yaxis\":\"y\"},{\"alignmentgroup\":\"True\",\"hovertemplate\":\"Feature Name=%{y}<br>Iteration=0<br>Importance=%{x}<extra></extra>\",\"ids\":[\"Input 10\"],\"legendgroup\":\"Input 10\",\"marker\":{\"color\":\"#E45756\",\"pattern\":{\"shape\":\"\"}},\"name\":\"Input 10\",\"offsetgroup\":\"Input 10\",\"orientation\":\"h\",\"showlegend\":true,\"textposition\":\"auto\",\"type\":\"bar\",\"x\":[0.01367239337264559],\"xaxis\":\"x\",\"y\":[\"Input 10\"],\"yaxis\":\"y\"}],                        {\"autosize\":false,\"barmode\":\"relative\",\"height\":500,\"legend\":{\"title\":{\"text\":\"Feature Name\"},\"tracegroupgap\":0},\"margin\":{\"t\":60},\"sliders\":[{\"active\":0,\"currentvalue\":{\"prefix\":\"Iteration=\"},\"len\":0.9,\"pad\":{\"b\":10,\"t\":60},\"steps\":[{\"args\":[[\"0\"],{\"frame\":{\"duration\":0,\"redraw\":true},\"fromcurrent\":true,\"mode\":\"immediate\",\"transition\":{\"duration\":0,\"easing\":\"linear\"}}],\"label\":\"0\",\"method\":\"animate\"},{\"args\":[[\"1\"],{\"frame\":{\"duration\":0,\"redraw\":true},\"fromcurrent\":true,\"mode\":\"immediate\",\"transition\":{\"duration\":0,\"easing\":\"linear\"}}],\"label\":\"1\",\"method\":\"animate\"},{\"args\":[[\"2\"],{\"frame\":{\"duration\":0,\"redraw\":true},\"fromcurrent\":true,\"mode\":\"immediate\",\"transition\":{\"duration\":0,\"easing\":\"linear\"}}],\"label\":\"2\",\"method\":\"animate\"},{\"args\":[[\"3\"],{\"frame\":{\"duration\":0,\"redraw\":true},\"fromcurrent\":true,\"mode\":\"immediate\",\"transition\":{\"duration\":0,\"easing\":\"linear\"}}],\"label\":\"3\",\"method\":\"animate\"},{\"args\":[[\"4\"],{\"frame\":{\"duration\":0,\"redraw\":true},\"fromcurrent\":true,\"mode\":\"immediate\",\"transition\":{\"duration\":0,\"easing\":\"linear\"}}],\"label\":\"4\",\"method\":\"animate\"},{\"args\":[[\"5\"],{\"frame\":{\"duration\":0,\"redraw\":true},\"fromcurrent\":true,\"mode\":\"immediate\",\"transition\":{\"duration\":0,\"easing\":\"linear\"}}],\"label\":\"5\",\"method\":\"animate\"},{\"args\":[[\"6\"],{\"frame\":{\"duration\":0,\"redraw\":true},\"fromcurrent\":true,\"mode\":\"immediate\",\"transition\":{\"duration\":0,\"easing\":\"linear\"}}],\"label\":\"6\",\"method\":\"animate\"},{\"args\":[[\"7\"],{\"frame\":{\"duration\":0,\"redraw\":true},\"fromcurrent\":true,\"mode\":\"immediate\",\"transition\":{\"duration\":0,\"easing\":\"linear\"}}],\"label\":\"7\",\"method\":\"animate\"},{\"args\":[[\"8\"],{\"frame\":{\"duration\":0,\"redraw\":true},\"fromcurrent\":true,\"mode\":\"immediate\",\"transition\":{\"duration\":0,\"easing\":\"linear\"}}],\"label\":\"8\",\"method\":\"animate\"},{\"args\":[[\"9\"],{\"frame\":{\"duration\":0,\"redraw\":true},\"fromcurrent\":true,\"mode\":\"immediate\",\"transition\":{\"duration\":0,\"easing\":\"linear\"}}],\"label\":\"9\",\"method\":\"animate\"},{\"args\":[[\"10\"],{\"frame\":{\"duration\":0,\"redraw\":true},\"fromcurrent\":true,\"mode\":\"immediate\",\"transition\":{\"duration\":0,\"easing\":\"linear\"}}],\"label\":\"10\",\"method\":\"animate\"}],\"x\":0.1,\"xanchor\":\"left\",\"y\":0,\"yanchor\":\"top\"}],\"template\":{\"data\":{\"bar\":[{\"error_x\":{\"color\":\"#2a3f5f\"},\"error_y\":{\"color\":\"#2a3f5f\"},\"marker\":{\"line\":{\"color\":\"#E5ECF6\",\"width\":0.5},\"pattern\":{\"fillmode\":\"overlay\",\"size\":10,\"solidity\":0.2}},\"type\":\"bar\"}],\"barpolar\":[{\"marker\":{\"line\":{\"color\":\"#E5ECF6\",\"width\":0.5},\"pattern\":{\"fillmode\":\"overlay\",\"size\":10,\"solidity\":0.2}},\"type\":\"barpolar\"}],\"carpet\":[{\"aaxis\":{\"endlinecolor\":\"#2a3f5f\",\"gridcolor\":\"white\",\"linecolor\":\"white\",\"minorgridcolor\":\"white\",\"startlinecolor\":\"#2a3f5f\"},\"baxis\":{\"endlinecolor\":\"#2a3f5f\",\"gridcolor\":\"white\",\"linecolor\":\"white\",\"minorgridcolor\":\"white\",\"startlinecolor\":\"#2a3f5f\"},\"type\":\"carpet\"}],\"choropleth\":[{\"colorbar\":{\"outlinewidth\":0,\"ticks\":\"\"},\"type\":\"choropleth\"}],\"contour\":[{\"colorbar\":{\"outlinewidth\":0,\"ticks\":\"\"},\"colorscale\":[[0.0,\"#0d0887\"],[0.1111111111111111,\"#46039f\"],[0.2222222222222222,\"#7201a8\"],[0.3333333333333333,\"#9c179e\"],[0.4444444444444444,\"#bd3786\"],[0.5555555555555556,\"#d8576b\"],[0.6666666666666666,\"#ed7953\"],[0.7777777777777778,\"#fb9f3a\"],[0.8888888888888888,\"#fdca26\"],[1.0,\"#f0f921\"]],\"type\":\"contour\"}],\"contourcarpet\":[{\"colorbar\":{\"outlinewidth\":0,\"ticks\":\"\"},\"type\":\"contourcarpet\"}],\"heatmap\":[{\"colorbar\":{\"outlinewidth\":0,\"ticks\":\"\"},\"colorscale\":[[0.0,\"#0d0887\"],[0.1111111111111111,\"#46039f\"],[0.2222222222222222,\"#7201a8\"],[0.3333333333333333,\"#9c179e\"],[0.4444444444444444,\"#bd3786\"],[0.5555555555555556,\"#d8576b\"],[0.6666666666666666,\"#ed7953\"],[0.7777777777777778,\"#fb9f3a\"],[0.8888888888888888,\"#fdca26\"],[1.0,\"#f0f921\"]],\"type\":\"heatmap\"}],\"heatmapgl\":[{\"colorbar\":{\"outlinewidth\":0,\"ticks\":\"\"},\"colorscale\":[[0.0,\"#0d0887\"],[0.1111111111111111,\"#46039f\"],[0.2222222222222222,\"#7201a8\"],[0.3333333333333333,\"#9c179e\"],[0.4444444444444444,\"#bd3786\"],[0.5555555555555556,\"#d8576b\"],[0.6666666666666666,\"#ed7953\"],[0.7777777777777778,\"#fb9f3a\"],[0.8888888888888888,\"#fdca26\"],[1.0,\"#f0f921\"]],\"type\":\"heatmapgl\"}],\"histogram\":[{\"marker\":{\"pattern\":{\"fillmode\":\"overlay\",\"size\":10,\"solidity\":0.2}},\"type\":\"histogram\"}],\"histogram2d\":[{\"colorbar\":{\"outlinewidth\":0,\"ticks\":\"\"},\"colorscale\":[[0.0,\"#0d0887\"],[0.1111111111111111,\"#46039f\"],[0.2222222222222222,\"#7201a8\"],[0.3333333333333333,\"#9c179e\"],[0.4444444444444444,\"#bd3786\"],[0.5555555555555556,\"#d8576b\"],[0.6666666666666666,\"#ed7953\"],[0.7777777777777778,\"#fb9f3a\"],[0.8888888888888888,\"#fdca26\"],[1.0,\"#f0f921\"]],\"type\":\"histogram2d\"}],\"histogram2dcontour\":[{\"colorbar\":{\"outlinewidth\":0,\"ticks\":\"\"},\"colorscale\":[[0.0,\"#0d0887\"],[0.1111111111111111,\"#46039f\"],[0.2222222222222222,\"#7201a8\"],[0.3333333333333333,\"#9c179e\"],[0.4444444444444444,\"#bd3786\"],[0.5555555555555556,\"#d8576b\"],[0.6666666666666666,\"#ed7953\"],[0.7777777777777778,\"#fb9f3a\"],[0.8888888888888888,\"#fdca26\"],[1.0,\"#f0f921\"]],\"type\":\"histogram2dcontour\"}],\"mesh3d\":[{\"colorbar\":{\"outlinewidth\":0,\"ticks\":\"\"},\"type\":\"mesh3d\"}],\"parcoords\":[{\"line\":{\"colorbar\":{\"outlinewidth\":0,\"ticks\":\"\"}},\"type\":\"parcoords\"}],\"pie\":[{\"automargin\":true,\"type\":\"pie\"}],\"scatter\":[{\"marker\":{\"colorbar\":{\"outlinewidth\":0,\"ticks\":\"\"}},\"type\":\"scatter\"}],\"scatter3d\":[{\"line\":{\"colorbar\":{\"outlinewidth\":0,\"ticks\":\"\"}},\"marker\":{\"colorbar\":{\"outlinewidth\":0,\"ticks\":\"\"}},\"type\":\"scatter3d\"}],\"scattercarpet\":[{\"marker\":{\"colorbar\":{\"outlinewidth\":0,\"ticks\":\"\"}},\"type\":\"scattercarpet\"}],\"scattergeo\":[{\"marker\":{\"colorbar\":{\"outlinewidth\":0,\"ticks\":\"\"}},\"type\":\"scattergeo\"}],\"scattergl\":[{\"marker\":{\"colorbar\":{\"outlinewidth\":0,\"ticks\":\"\"}},\"type\":\"scattergl\"}],\"scattermapbox\":[{\"marker\":{\"colorbar\":{\"outlinewidth\":0,\"ticks\":\"\"}},\"type\":\"scattermapbox\"}],\"scatterpolar\":[{\"marker\":{\"colorbar\":{\"outlinewidth\":0,\"ticks\":\"\"}},\"type\":\"scatterpolar\"}],\"scatterpolargl\":[{\"marker\":{\"colorbar\":{\"outlinewidth\":0,\"ticks\":\"\"}},\"type\":\"scatterpolargl\"}],\"scatterternary\":[{\"marker\":{\"colorbar\":{\"outlinewidth\":0,\"ticks\":\"\"}},\"type\":\"scatterternary\"}],\"surface\":[{\"colorbar\":{\"outlinewidth\":0,\"ticks\":\"\"},\"colorscale\":[[0.0,\"#0d0887\"],[0.1111111111111111,\"#46039f\"],[0.2222222222222222,\"#7201a8\"],[0.3333333333333333,\"#9c179e\"],[0.4444444444444444,\"#bd3786\"],[0.5555555555555556,\"#d8576b\"],[0.6666666666666666,\"#ed7953\"],[0.7777777777777778,\"#fb9f3a\"],[0.8888888888888888,\"#fdca26\"],[1.0,\"#f0f921\"]],\"type\":\"surface\"}],\"table\":[{\"cells\":{\"fill\":{\"color\":\"#EBF0F8\"},\"line\":{\"color\":\"white\"}},\"header\":{\"fill\":{\"color\":\"#C8D4E3\"},\"line\":{\"color\":\"white\"}},\"type\":\"table\"}]},\"layout\":{\"annotationdefaults\":{\"arrowcolor\":\"#2a3f5f\",\"arrowhead\":0,\"arrowwidth\":1},\"autotypenumbers\":\"strict\",\"coloraxis\":{\"colorbar\":{\"outlinewidth\":0,\"ticks\":\"\"}},\"colorscale\":{\"diverging\":[[0,\"#8e0152\"],[0.1,\"#c51b7d\"],[0.2,\"#de77ae\"],[0.3,\"#f1b6da\"],[0.4,\"#fde0ef\"],[0.5,\"#f7f7f7\"],[0.6,\"#e6f5d0\"],[0.7,\"#b8e186\"],[0.8,\"#7fbc41\"],[0.9,\"#4d9221\"],[1,\"#276419\"]],\"sequential\":[[0.0,\"#0d0887\"],[0.1111111111111111,\"#46039f\"],[0.2222222222222222,\"#7201a8\"],[0.3333333333333333,\"#9c179e\"],[0.4444444444444444,\"#bd3786\"],[0.5555555555555556,\"#d8576b\"],[0.6666666666666666,\"#ed7953\"],[0.7777777777777778,\"#fb9f3a\"],[0.8888888888888888,\"#fdca26\"],[1.0,\"#f0f921\"]],\"sequentialminus\":[[0.0,\"#0d0887\"],[0.1111111111111111,\"#46039f\"],[0.2222222222222222,\"#7201a8\"],[0.3333333333333333,\"#9c179e\"],[0.4444444444444444,\"#bd3786\"],[0.5555555555555556,\"#d8576b\"],[0.6666666666666666,\"#ed7953\"],[0.7777777777777778,\"#fb9f3a\"],[0.8888888888888888,\"#fdca26\"],[1.0,\"#f0f921\"]]},\"colorway\":[\"#636efa\",\"#EF553B\",\"#00cc96\",\"#ab63fa\",\"#FFA15A\",\"#19d3f3\",\"#FF6692\",\"#B6E880\",\"#FF97FF\",\"#FECB52\"],\"font\":{\"color\":\"#2a3f5f\"},\"geo\":{\"bgcolor\":\"white\",\"lakecolor\":\"white\",\"landcolor\":\"#E5ECF6\",\"showlakes\":true,\"showland\":true,\"subunitcolor\":\"white\"},\"hoverlabel\":{\"align\":\"left\"},\"hovermode\":\"closest\",\"mapbox\":{\"style\":\"light\"},\"paper_bgcolor\":\"white\",\"plot_bgcolor\":\"#E5ECF6\",\"polar\":{\"angularaxis\":{\"gridcolor\":\"white\",\"linecolor\":\"white\",\"ticks\":\"\"},\"bgcolor\":\"#E5ECF6\",\"radialaxis\":{\"gridcolor\":\"white\",\"linecolor\":\"white\",\"ticks\":\"\"}},\"scene\":{\"xaxis\":{\"backgroundcolor\":\"#E5ECF6\",\"gridcolor\":\"white\",\"gridwidth\":2,\"linecolor\":\"white\",\"showbackground\":true,\"ticks\":\"\",\"zerolinecolor\":\"white\"},\"yaxis\":{\"backgroundcolor\":\"#E5ECF6\",\"gridcolor\":\"white\",\"gridwidth\":2,\"linecolor\":\"white\",\"showbackground\":true,\"ticks\":\"\",\"zerolinecolor\":\"white\"},\"zaxis\":{\"backgroundcolor\":\"#E5ECF6\",\"gridcolor\":\"white\",\"gridwidth\":2,\"linecolor\":\"white\",\"showbackground\":true,\"ticks\":\"\",\"zerolinecolor\":\"white\"}},\"shapedefaults\":{\"line\":{\"color\":\"#2a3f5f\"}},\"ternary\":{\"aaxis\":{\"gridcolor\":\"white\",\"linecolor\":\"white\",\"ticks\":\"\"},\"baxis\":{\"gridcolor\":\"white\",\"linecolor\":\"white\",\"ticks\":\"\"},\"bgcolor\":\"#E5ECF6\",\"caxis\":{\"gridcolor\":\"white\",\"linecolor\":\"white\",\"ticks\":\"\"}},\"title\":{\"x\":0.05},\"xaxis\":{\"automargin\":true,\"gridcolor\":\"white\",\"linecolor\":\"white\",\"ticks\":\"\",\"title\":{\"standoff\":15},\"zerolinecolor\":\"white\",\"zerolinewidth\":2},\"yaxis\":{\"automargin\":true,\"gridcolor\":\"white\",\"linecolor\":\"white\",\"ticks\":\"\",\"title\":{\"standoff\":15},\"zerolinecolor\":\"white\",\"zerolinewidth\":2}}},\"title\":{\"text\":\"Feature Importance Per Iteration\"},\"updatemenus\":[{\"buttons\":[{\"args\":[null,{\"frame\":{\"duration\":500,\"redraw\":true},\"fromcurrent\":true,\"mode\":\"immediate\",\"transition\":{\"duration\":500,\"easing\":\"linear\"}}],\"label\":\"&#9654;\",\"method\":\"animate\"},{\"args\":[[null],{\"frame\":{\"duration\":0,\"redraw\":true},\"fromcurrent\":true,\"mode\":\"immediate\",\"transition\":{\"duration\":0,\"easing\":\"linear\"}}],\"label\":\"&#9724;\",\"method\":\"animate\"}],\"direction\":\"left\",\"pad\":{\"r\":10,\"t\":70},\"showactive\":false,\"type\":\"buttons\",\"x\":0.1,\"xanchor\":\"right\",\"y\":0,\"yanchor\":\"top\"}],\"width\":800,\"xaxis\":{\"anchor\":\"y\",\"domain\":[0.0,1.0],\"range\":[0,0.3],\"title\":{\"text\":\"Importance\"}},\"yaxis\":{\"anchor\":\"x\",\"categoryarray\":[\"Input 10\",\"Input 05\",\"Input 12\",\"Input 02\",\"Input 11\",\"Input 04\",\"Input 07\",\"Input 06\",\"Input 09\",\"Input 03\",\"Input 08\",\"Input 01\",\"Output 01\"],\"categoryorder\":\"total ascending\",\"domain\":[0.0,1.0],\"title\":{\"text\":\"Feature Name\"}}},                        {\"responsive\": true}                    ).then(function(){\n",
       "                            Plotly.addFrames('41aa4c29-478a-42af-8e47-646e3f003de0', [{\"data\":[{\"alignmentgroup\":\"True\",\"hovertemplate\":\"Feature Name=%{y}<br>Iteration=0<br>Importance=%{x}<extra></extra>\",\"ids\":[\"Output 01\"],\"legendgroup\":\"Output 01\",\"marker\":{\"color\":\"#4C78A8\",\"pattern\":{\"shape\":\"\"}},\"name\":\"Output 01\",\"offsetgroup\":\"Output 01\",\"orientation\":\"h\",\"showlegend\":true,\"textposition\":\"auto\",\"type\":\"bar\",\"x\":[0.5793200287571652],\"xaxis\":\"x\",\"y\":[\"Output 01\"],\"yaxis\":\"y\"},{\"alignmentgroup\":\"True\",\"hovertemplate\":\"Feature Name=%{y}<br>Iteration=0<br>Importance=%{x}<extra></extra>\",\"ids\":[\"Input 01\"],\"legendgroup\":\"Input 01\",\"marker\":{\"color\":\"#F58518\",\"pattern\":{\"shape\":\"\"}},\"name\":\"Input 01\",\"offsetgroup\":\"Input 01\",\"orientation\":\"h\",\"showlegend\":true,\"textposition\":\"auto\",\"type\":\"bar\",\"x\":[0.06455923175539596],\"xaxis\":\"x\",\"y\":[\"Input 01\"],\"yaxis\":\"y\"},{\"alignmentgroup\":\"True\",\"hovertemplate\":\"Feature Name=%{y}<br>Iteration=0<br>Importance=%{x}<extra></extra>\",\"ids\":[\"Input 08\"],\"legendgroup\":\"Input 08\",\"marker\":{\"color\":\"#E45756\",\"pattern\":{\"shape\":\"\"}},\"name\":\"Input 08\",\"offsetgroup\":\"Input 08\",\"orientation\":\"h\",\"showlegend\":true,\"textposition\":\"auto\",\"type\":\"bar\",\"x\":[0.056970393702841265],\"xaxis\":\"x\",\"y\":[\"Input 08\"],\"yaxis\":\"y\"},{\"alignmentgroup\":\"True\",\"hovertemplate\":\"Feature Name=%{y}<br>Iteration=0<br>Importance=%{x}<extra></extra>\",\"ids\":[\"Input 03\"],\"legendgroup\":\"Input 03\",\"marker\":{\"color\":\"#72B7B2\",\"pattern\":{\"shape\":\"\"}},\"name\":\"Input 03\",\"offsetgroup\":\"Input 03\",\"orientation\":\"h\",\"showlegend\":true,\"textposition\":\"auto\",\"type\":\"bar\",\"x\":[0.048774908063770286],\"xaxis\":\"x\",\"y\":[\"Input 03\"],\"yaxis\":\"y\"},{\"alignmentgroup\":\"True\",\"hovertemplate\":\"Feature Name=%{y}<br>Iteration=0<br>Importance=%{x}<extra></extra>\",\"ids\":[\"Input 09\"],\"legendgroup\":\"Input 09\",\"marker\":{\"color\":\"#54A24B\",\"pattern\":{\"shape\":\"\"}},\"name\":\"Input 09\",\"offsetgroup\":\"Input 09\",\"orientation\":\"h\",\"showlegend\":true,\"textposition\":\"auto\",\"type\":\"bar\",\"x\":[0.04569149852896595],\"xaxis\":\"x\",\"y\":[\"Input 09\"],\"yaxis\":\"y\"},{\"alignmentgroup\":\"True\",\"hovertemplate\":\"Feature Name=%{y}<br>Iteration=0<br>Importance=%{x}<extra></extra>\",\"ids\":[\"Input 06\"],\"legendgroup\":\"Input 06\",\"marker\":{\"color\":\"#EECA3B\",\"pattern\":{\"shape\":\"\"}},\"name\":\"Input 06\",\"offsetgroup\":\"Input 06\",\"orientation\":\"h\",\"showlegend\":true,\"textposition\":\"auto\",\"type\":\"bar\",\"x\":[0.04298156877879775],\"xaxis\":\"x\",\"y\":[\"Input 06\"],\"yaxis\":\"y\"},{\"alignmentgroup\":\"True\",\"hovertemplate\":\"Feature Name=%{y}<br>Iteration=0<br>Importance=%{x}<extra></extra>\",\"ids\":[\"Input 07\"],\"legendgroup\":\"Input 07\",\"marker\":{\"color\":\"#B279A2\",\"pattern\":{\"shape\":\"\"}},\"name\":\"Input 07\",\"offsetgroup\":\"Input 07\",\"orientation\":\"h\",\"showlegend\":true,\"textposition\":\"auto\",\"type\":\"bar\",\"x\":[0.03641077255954307],\"xaxis\":\"x\",\"y\":[\"Input 07\"],\"yaxis\":\"y\"},{\"alignmentgroup\":\"True\",\"hovertemplate\":\"Feature Name=%{y}<br>Iteration=0<br>Importance=%{x}<extra></extra>\",\"ids\":[\"Input 04\"],\"legendgroup\":\"Input 04\",\"marker\":{\"color\":\"#FF9DA6\",\"pattern\":{\"shape\":\"\"}},\"name\":\"Input 04\",\"offsetgroup\":\"Input 04\",\"orientation\":\"h\",\"showlegend\":true,\"textposition\":\"auto\",\"type\":\"bar\",\"x\":[0.03181429372855011],\"xaxis\":\"x\",\"y\":[\"Input 04\"],\"yaxis\":\"y\"},{\"alignmentgroup\":\"True\",\"hovertemplate\":\"Feature Name=%{y}<br>Iteration=0<br>Importance=%{x}<extra></extra>\",\"ids\":[\"Input 11\"],\"legendgroup\":\"Input 11\",\"marker\":{\"color\":\"#9D755D\",\"pattern\":{\"shape\":\"\"}},\"name\":\"Input 11\",\"offsetgroup\":\"Input 11\",\"orientation\":\"h\",\"showlegend\":true,\"textposition\":\"auto\",\"type\":\"bar\",\"x\":[0.02379684477961624],\"xaxis\":\"x\",\"y\":[\"Input 11\"],\"yaxis\":\"y\"},{\"alignmentgroup\":\"True\",\"hovertemplate\":\"Feature Name=%{y}<br>Iteration=0<br>Importance=%{x}<extra></extra>\",\"ids\":[\"Input 02\"],\"legendgroup\":\"Input 02\",\"marker\":{\"color\":\"#BAB0AC\",\"pattern\":{\"shape\":\"\"}},\"name\":\"Input 02\",\"offsetgroup\":\"Input 02\",\"orientation\":\"h\",\"showlegend\":true,\"textposition\":\"auto\",\"type\":\"bar\",\"x\":[0.022169522450135266],\"xaxis\":\"x\",\"y\":[\"Input 02\"],\"yaxis\":\"y\"},{\"alignmentgroup\":\"True\",\"hovertemplate\":\"Feature Name=%{y}<br>Iteration=0<br>Importance=%{x}<extra></extra>\",\"ids\":[\"Input 12\"],\"legendgroup\":\"Input 12\",\"marker\":{\"color\":\"#4C78A8\",\"pattern\":{\"shape\":\"\"}},\"name\":\"Input 12\",\"offsetgroup\":\"Input 12\",\"orientation\":\"h\",\"showlegend\":true,\"textposition\":\"auto\",\"type\":\"bar\",\"x\":[0.018468857743769874],\"xaxis\":\"x\",\"y\":[\"Input 12\"],\"yaxis\":\"y\"},{\"alignmentgroup\":\"True\",\"hovertemplate\":\"Feature Name=%{y}<br>Iteration=0<br>Importance=%{x}<extra></extra>\",\"ids\":[\"Input 05\"],\"legendgroup\":\"Input 05\",\"marker\":{\"color\":\"#F58518\",\"pattern\":{\"shape\":\"\"}},\"name\":\"Input 05\",\"offsetgroup\":\"Input 05\",\"orientation\":\"h\",\"showlegend\":true,\"textposition\":\"auto\",\"type\":\"bar\",\"x\":[0.01536968577880344],\"xaxis\":\"x\",\"y\":[\"Input 05\"],\"yaxis\":\"y\"},{\"alignmentgroup\":\"True\",\"hovertemplate\":\"Feature Name=%{y}<br>Iteration=0<br>Importance=%{x}<extra></extra>\",\"ids\":[\"Input 10\"],\"legendgroup\":\"Input 10\",\"marker\":{\"color\":\"#E45756\",\"pattern\":{\"shape\":\"\"}},\"name\":\"Input 10\",\"offsetgroup\":\"Input 10\",\"orientation\":\"h\",\"showlegend\":true,\"textposition\":\"auto\",\"type\":\"bar\",\"x\":[0.01367239337264559],\"xaxis\":\"x\",\"y\":[\"Input 10\"],\"yaxis\":\"y\"}],\"name\":\"0\"},{\"data\":[{\"alignmentgroup\":\"True\",\"hovertemplate\":\"Feature Name=%{y}<br>Iteration=1<br>Importance=%{x}<extra></extra>\",\"ids\":[\"Output 01\"],\"legendgroup\":\"Output 01\",\"marker\":{\"color\":\"#4C78A8\",\"pattern\":{\"shape\":\"\"}},\"name\":\"Output 01\",\"offsetgroup\":\"Output 01\",\"orientation\":\"h\",\"showlegend\":true,\"textposition\":\"auto\",\"type\":\"bar\",\"x\":[0.6896565478857487],\"xaxis\":\"x\",\"y\":[\"Output 01\"],\"yaxis\":\"y\"},{\"alignmentgroup\":\"True\",\"hovertemplate\":\"Feature Name=%{y}<br>Iteration=1<br>Importance=%{x}<extra></extra>\",\"ids\":[\"Input 01\"],\"legendgroup\":\"Input 01\",\"marker\":{\"color\":\"#F58518\",\"pattern\":{\"shape\":\"\"}},\"name\":\"Input 01\",\"offsetgroup\":\"Input 01\",\"orientation\":\"h\",\"showlegend\":true,\"textposition\":\"auto\",\"type\":\"bar\",\"x\":[0.12504240765656865],\"xaxis\":\"x\",\"y\":[\"Input 01\"],\"yaxis\":\"y\"},{\"alignmentgroup\":\"True\",\"hovertemplate\":\"Feature Name=%{y}<br>Iteration=1<br>Importance=%{x}<extra></extra>\",\"ids\":[\"Input 08\"],\"legendgroup\":\"Input 08\",\"marker\":{\"color\":\"#E45756\",\"pattern\":{\"shape\":\"\"}},\"name\":\"Input 08\",\"offsetgroup\":\"Input 08\",\"orientation\":\"h\",\"showlegend\":true,\"textposition\":\"auto\",\"type\":\"bar\",\"x\":[0.03833858709397377],\"xaxis\":\"x\",\"y\":[\"Input 08\"],\"yaxis\":\"y\"},{\"alignmentgroup\":\"True\",\"hovertemplate\":\"Feature Name=%{y}<br>Iteration=1<br>Importance=%{x}<extra></extra>\",\"ids\":[\"Input 03\"],\"legendgroup\":\"Input 03\",\"marker\":{\"color\":\"#72B7B2\",\"pattern\":{\"shape\":\"\"}},\"name\":\"Input 03\",\"offsetgroup\":\"Input 03\",\"orientation\":\"h\",\"showlegend\":true,\"textposition\":\"auto\",\"type\":\"bar\",\"x\":[0.021502250258890434],\"xaxis\":\"x\",\"y\":[\"Input 03\"],\"yaxis\":\"y\"},{\"alignmentgroup\":\"True\",\"hovertemplate\":\"Feature Name=%{y}<br>Iteration=1<br>Importance=%{x}<extra></extra>\",\"ids\":[\"Input 09\"],\"legendgroup\":\"Input 09\",\"marker\":{\"color\":\"#54A24B\",\"pattern\":{\"shape\":\"\"}},\"name\":\"Input 09\",\"offsetgroup\":\"Input 09\",\"orientation\":\"h\",\"showlegend\":true,\"textposition\":\"auto\",\"type\":\"bar\",\"x\":[0.006273779629911687],\"xaxis\":\"x\",\"y\":[\"Input 09\"],\"yaxis\":\"y\"},{\"alignmentgroup\":\"True\",\"hovertemplate\":\"Feature Name=%{y}<br>Iteration=1<br>Importance=%{x}<extra></extra>\",\"ids\":[\"Input 06\"],\"legendgroup\":\"Input 06\",\"marker\":{\"color\":\"#EECA3B\",\"pattern\":{\"shape\":\"\"}},\"name\":\"Input 06\",\"offsetgroup\":\"Input 06\",\"orientation\":\"h\",\"showlegend\":true,\"textposition\":\"auto\",\"type\":\"bar\",\"x\":[0.04770733118011626],\"xaxis\":\"x\",\"y\":[\"Input 06\"],\"yaxis\":\"y\"},{\"alignmentgroup\":\"True\",\"hovertemplate\":\"Feature Name=%{y}<br>Iteration=1<br>Importance=%{x}<extra></extra>\",\"ids\":[\"Input 07\"],\"legendgroup\":\"Input 07\",\"marker\":{\"color\":\"#B279A2\",\"pattern\":{\"shape\":\"\"}},\"name\":\"Input 07\",\"offsetgroup\":\"Input 07\",\"orientation\":\"h\",\"showlegend\":true,\"textposition\":\"auto\",\"type\":\"bar\",\"x\":[0.011894345152683086],\"xaxis\":\"x\",\"y\":[\"Input 07\"],\"yaxis\":\"y\"},{\"alignmentgroup\":\"True\",\"hovertemplate\":\"Feature Name=%{y}<br>Iteration=1<br>Importance=%{x}<extra></extra>\",\"ids\":[\"Input 04\"],\"legendgroup\":\"Input 04\",\"marker\":{\"color\":\"#FF9DA6\",\"pattern\":{\"shape\":\"\"}},\"name\":\"Input 04\",\"offsetgroup\":\"Input 04\",\"orientation\":\"h\",\"showlegend\":true,\"textposition\":\"auto\",\"type\":\"bar\",\"x\":[0.01309073573710176],\"xaxis\":\"x\",\"y\":[\"Input 04\"],\"yaxis\":\"y\"},{\"alignmentgroup\":\"True\",\"hovertemplate\":\"Feature Name=%{y}<br>Iteration=1<br>Importance=%{x}<extra></extra>\",\"ids\":[\"Input 11\"],\"legendgroup\":\"Input 11\",\"marker\":{\"color\":\"#9D755D\",\"pattern\":{\"shape\":\"\"}},\"name\":\"Input 11\",\"offsetgroup\":\"Input 11\",\"orientation\":\"h\",\"showlegend\":true,\"textposition\":\"auto\",\"type\":\"bar\",\"x\":[0.010265604269413321],\"xaxis\":\"x\",\"y\":[\"Input 11\"],\"yaxis\":\"y\"},{\"alignmentgroup\":\"True\",\"hovertemplate\":\"Feature Name=%{y}<br>Iteration=1<br>Importance=%{x}<extra></extra>\",\"ids\":[\"Input 02\"],\"legendgroup\":\"Input 02\",\"marker\":{\"color\":\"#BAB0AC\",\"pattern\":{\"shape\":\"\"}},\"name\":\"Input 02\",\"offsetgroup\":\"Input 02\",\"orientation\":\"h\",\"showlegend\":true,\"textposition\":\"auto\",\"type\":\"bar\",\"x\":[0.006309243066730726],\"xaxis\":\"x\",\"y\":[\"Input 02\"],\"yaxis\":\"y\"},{\"alignmentgroup\":\"True\",\"hovertemplate\":\"Feature Name=%{y}<br>Iteration=1<br>Importance=%{x}<extra></extra>\",\"ids\":[\"Input 12\"],\"legendgroup\":\"Input 12\",\"marker\":{\"color\":\"#4C78A8\",\"pattern\":{\"shape\":\"\"}},\"name\":\"Input 12\",\"offsetgroup\":\"Input 12\",\"orientation\":\"h\",\"showlegend\":true,\"textposition\":\"auto\",\"type\":\"bar\",\"x\":[0.015334512384764156],\"xaxis\":\"x\",\"y\":[\"Input 12\"],\"yaxis\":\"y\"},{\"alignmentgroup\":\"True\",\"hovertemplate\":\"Feature Name=%{y}<br>Iteration=1<br>Importance=%{x}<extra></extra>\",\"ids\":[\"Input 05\"],\"legendgroup\":\"Input 05\",\"marker\":{\"color\":\"#F58518\",\"pattern\":{\"shape\":\"\"}},\"name\":\"Input 05\",\"offsetgroup\":\"Input 05\",\"orientation\":\"h\",\"showlegend\":true,\"textposition\":\"auto\",\"type\":\"bar\",\"x\":[0.007805880688926132],\"xaxis\":\"x\",\"y\":[\"Input 05\"],\"yaxis\":\"y\"},{\"alignmentgroup\":\"True\",\"hovertemplate\":\"Feature Name=%{y}<br>Iteration=1<br>Importance=%{x}<extra></extra>\",\"ids\":[\"Input 10\"],\"legendgroup\":\"Input 10\",\"marker\":{\"color\":\"#E45756\",\"pattern\":{\"shape\":\"\"}},\"name\":\"Input 10\",\"offsetgroup\":\"Input 10\",\"orientation\":\"h\",\"showlegend\":true,\"textposition\":\"auto\",\"type\":\"bar\",\"x\":[0.006778774995171295],\"xaxis\":\"x\",\"y\":[\"Input 10\"],\"yaxis\":\"y\"}],\"name\":\"1\"},{\"data\":[{\"alignmentgroup\":\"True\",\"hovertemplate\":\"Feature Name=%{y}<br>Iteration=2<br>Importance=%{x}<extra></extra>\",\"ids\":[\"Output 01\"],\"legendgroup\":\"Output 01\",\"marker\":{\"color\":\"#4C78A8\",\"pattern\":{\"shape\":\"\"}},\"name\":\"Output 01\",\"offsetgroup\":\"Output 01\",\"orientation\":\"h\",\"showlegend\":true,\"textposition\":\"auto\",\"type\":\"bar\",\"x\":[0.6799489612422187],\"xaxis\":\"x\",\"y\":[\"Output 01\"],\"yaxis\":\"y\"},{\"alignmentgroup\":\"True\",\"hovertemplate\":\"Feature Name=%{y}<br>Iteration=2<br>Importance=%{x}<extra></extra>\",\"ids\":[\"Input 01\"],\"legendgroup\":\"Input 01\",\"marker\":{\"color\":\"#F58518\",\"pattern\":{\"shape\":\"\"}},\"name\":\"Input 01\",\"offsetgroup\":\"Input 01\",\"orientation\":\"h\",\"showlegend\":true,\"textposition\":\"auto\",\"type\":\"bar\",\"x\":[0.14249248350618643],\"xaxis\":\"x\",\"y\":[\"Input 01\"],\"yaxis\":\"y\"},{\"alignmentgroup\":\"True\",\"hovertemplate\":\"Feature Name=%{y}<br>Iteration=2<br>Importance=%{x}<extra></extra>\",\"ids\":[\"Input 08\"],\"legendgroup\":\"Input 08\",\"marker\":{\"color\":\"#E45756\",\"pattern\":{\"shape\":\"\"}},\"name\":\"Input 08\",\"offsetgroup\":\"Input 08\",\"orientation\":\"h\",\"showlegend\":true,\"textposition\":\"auto\",\"type\":\"bar\",\"x\":[0.008631954854866992],\"xaxis\":\"x\",\"y\":[\"Input 08\"],\"yaxis\":\"y\"},{\"alignmentgroup\":\"True\",\"hovertemplate\":\"Feature Name=%{y}<br>Iteration=2<br>Importance=%{x}<extra></extra>\",\"ids\":[\"Input 03\"],\"legendgroup\":\"Input 03\",\"marker\":{\"color\":\"#72B7B2\",\"pattern\":{\"shape\":\"\"}},\"name\":\"Input 03\",\"offsetgroup\":\"Input 03\",\"orientation\":\"h\",\"showlegend\":true,\"textposition\":\"auto\",\"type\":\"bar\",\"x\":[0.009935547000153012],\"xaxis\":\"x\",\"y\":[\"Input 03\"],\"yaxis\":\"y\"},{\"alignmentgroup\":\"True\",\"hovertemplate\":\"Feature Name=%{y}<br>Iteration=2<br>Importance=%{x}<extra></extra>\",\"ids\":[\"Input 09\"],\"legendgroup\":\"Input 09\",\"marker\":{\"color\":\"#54A24B\",\"pattern\":{\"shape\":\"\"}},\"name\":\"Input 09\",\"offsetgroup\":\"Input 09\",\"orientation\":\"h\",\"showlegend\":true,\"textposition\":\"auto\",\"type\":\"bar\",\"x\":[0.005791470722253917],\"xaxis\":\"x\",\"y\":[\"Input 09\"],\"yaxis\":\"y\"},{\"alignmentgroup\":\"True\",\"hovertemplate\":\"Feature Name=%{y}<br>Iteration=2<br>Importance=%{x}<extra></extra>\",\"ids\":[\"Input 06\"],\"legendgroup\":\"Input 06\",\"marker\":{\"color\":\"#EECA3B\",\"pattern\":{\"shape\":\"\"}},\"name\":\"Input 06\",\"offsetgroup\":\"Input 06\",\"orientation\":\"h\",\"showlegend\":true,\"textposition\":\"auto\",\"type\":\"bar\",\"x\":[0.0971165804868044],\"xaxis\":\"x\",\"y\":[\"Input 06\"],\"yaxis\":\"y\"},{\"alignmentgroup\":\"True\",\"hovertemplate\":\"Feature Name=%{y}<br>Iteration=2<br>Importance=%{x}<extra></extra>\",\"ids\":[\"Input 07\"],\"legendgroup\":\"Input 07\",\"marker\":{\"color\":\"#B279A2\",\"pattern\":{\"shape\":\"\"}},\"name\":\"Input 07\",\"offsetgroup\":\"Input 07\",\"orientation\":\"h\",\"showlegend\":true,\"textposition\":\"auto\",\"type\":\"bar\",\"x\":[0.0063034691883546885],\"xaxis\":\"x\",\"y\":[\"Input 07\"],\"yaxis\":\"y\"},{\"alignmentgroup\":\"True\",\"hovertemplate\":\"Feature Name=%{y}<br>Iteration=2<br>Importance=%{x}<extra></extra>\",\"ids\":[\"Input 04\"],\"legendgroup\":\"Input 04\",\"marker\":{\"color\":\"#FF9DA6\",\"pattern\":{\"shape\":\"\"}},\"name\":\"Input 04\",\"offsetgroup\":\"Input 04\",\"orientation\":\"h\",\"showlegend\":true,\"textposition\":\"auto\",\"type\":\"bar\",\"x\":[0.015000433058640414],\"xaxis\":\"x\",\"y\":[\"Input 04\"],\"yaxis\":\"y\"},{\"alignmentgroup\":\"True\",\"hovertemplate\":\"Feature Name=%{y}<br>Iteration=2<br>Importance=%{x}<extra></extra>\",\"ids\":[\"Input 11\"],\"legendgroup\":\"Input 11\",\"marker\":{\"color\":\"#9D755D\",\"pattern\":{\"shape\":\"\"}},\"name\":\"Input 11\",\"offsetgroup\":\"Input 11\",\"orientation\":\"h\",\"showlegend\":true,\"textposition\":\"auto\",\"type\":\"bar\",\"x\":[0.006187696649576915],\"xaxis\":\"x\",\"y\":[\"Input 11\"],\"yaxis\":\"y\"},{\"alignmentgroup\":\"True\",\"hovertemplate\":\"Feature Name=%{y}<br>Iteration=2<br>Importance=%{x}<extra></extra>\",\"ids\":[\"Input 02\"],\"legendgroup\":\"Input 02\",\"marker\":{\"color\":\"#BAB0AC\",\"pattern\":{\"shape\":\"\"}},\"name\":\"Input 02\",\"offsetgroup\":\"Input 02\",\"orientation\":\"h\",\"showlegend\":true,\"textposition\":\"auto\",\"type\":\"bar\",\"x\":[0.0034849837423904712],\"xaxis\":\"x\",\"y\":[\"Input 02\"],\"yaxis\":\"y\"},{\"alignmentgroup\":\"True\",\"hovertemplate\":\"Feature Name=%{y}<br>Iteration=2<br>Importance=%{x}<extra></extra>\",\"ids\":[\"Input 12\"],\"legendgroup\":\"Input 12\",\"marker\":{\"color\":\"#4C78A8\",\"pattern\":{\"shape\":\"\"}},\"name\":\"Input 12\",\"offsetgroup\":\"Input 12\",\"orientation\":\"h\",\"showlegend\":true,\"textposition\":\"auto\",\"type\":\"bar\",\"x\":[0.014007457860528436],\"xaxis\":\"x\",\"y\":[\"Input 12\"],\"yaxis\":\"y\"},{\"alignmentgroup\":\"True\",\"hovertemplate\":\"Feature Name=%{y}<br>Iteration=2<br>Importance=%{x}<extra></extra>\",\"ids\":[\"Input 05\"],\"legendgroup\":\"Input 05\",\"marker\":{\"color\":\"#F58518\",\"pattern\":{\"shape\":\"\"}},\"name\":\"Input 05\",\"offsetgroup\":\"Input 05\",\"orientation\":\"h\",\"showlegend\":true,\"textposition\":\"auto\",\"type\":\"bar\",\"x\":[0.007261955270980555],\"xaxis\":\"x\",\"y\":[\"Input 05\"],\"yaxis\":\"y\"},{\"alignmentgroup\":\"True\",\"hovertemplate\":\"Feature Name=%{y}<br>Iteration=2<br>Importance=%{x}<extra></extra>\",\"ids\":[\"Input 10\"],\"legendgroup\":\"Input 10\",\"marker\":{\"color\":\"#E45756\",\"pattern\":{\"shape\":\"\"}},\"name\":\"Input 10\",\"offsetgroup\":\"Input 10\",\"orientation\":\"h\",\"showlegend\":true,\"textposition\":\"auto\",\"type\":\"bar\",\"x\":[0.0038370064170451],\"xaxis\":\"x\",\"y\":[\"Input 10\"],\"yaxis\":\"y\"}],\"name\":\"2\"},{\"data\":[{\"alignmentgroup\":\"True\",\"hovertemplate\":\"Feature Name=%{y}<br>Iteration=3<br>Importance=%{x}<extra></extra>\",\"ids\":[\"Output 01\"],\"legendgroup\":\"Output 01\",\"marker\":{\"color\":\"#4C78A8\",\"pattern\":{\"shape\":\"\"}},\"name\":\"Output 01\",\"offsetgroup\":\"Output 01\",\"orientation\":\"h\",\"showlegend\":true,\"textposition\":\"auto\",\"type\":\"bar\",\"x\":[0.6988054246250543],\"xaxis\":\"x\",\"y\":[\"Output 01\"],\"yaxis\":\"y\"},{\"alignmentgroup\":\"True\",\"hovertemplate\":\"Feature Name=%{y}<br>Iteration=3<br>Importance=%{x}<extra></extra>\",\"ids\":[\"Input 01\"],\"legendgroup\":\"Input 01\",\"marker\":{\"color\":\"#F58518\",\"pattern\":{\"shape\":\"\"}},\"name\":\"Input 01\",\"offsetgroup\":\"Input 01\",\"orientation\":\"h\",\"showlegend\":true,\"textposition\":\"auto\",\"type\":\"bar\",\"x\":[0.14580624929786618],\"xaxis\":\"x\",\"y\":[\"Input 01\"],\"yaxis\":\"y\"},{\"alignmentgroup\":\"True\",\"hovertemplate\":\"Feature Name=%{y}<br>Iteration=3<br>Importance=%{x}<extra></extra>\",\"ids\":[\"Input 08\"],\"legendgroup\":\"Input 08\",\"marker\":{\"color\":\"#E45756\",\"pattern\":{\"shape\":\"\"}},\"name\":\"Input 08\",\"offsetgroup\":\"Input 08\",\"orientation\":\"h\",\"showlegend\":true,\"textposition\":\"auto\",\"type\":\"bar\",\"x\":[0.00308952266813649],\"xaxis\":\"x\",\"y\":[\"Input 08\"],\"yaxis\":\"y\"},{\"alignmentgroup\":\"True\",\"hovertemplate\":\"Feature Name=%{y}<br>Iteration=3<br>Importance=%{x}<extra></extra>\",\"ids\":[\"Input 03\"],\"legendgroup\":\"Input 03\",\"marker\":{\"color\":\"#72B7B2\",\"pattern\":{\"shape\":\"\"}},\"name\":\"Input 03\",\"offsetgroup\":\"Input 03\",\"orientation\":\"h\",\"showlegend\":true,\"textposition\":\"auto\",\"type\":\"bar\",\"x\":[0.004224970882959304],\"xaxis\":\"x\",\"y\":[\"Input 03\"],\"yaxis\":\"y\"},{\"alignmentgroup\":\"True\",\"hovertemplate\":\"Feature Name=%{y}<br>Iteration=3<br>Importance=%{x}<extra></extra>\",\"ids\":[\"Input 09\"],\"legendgroup\":\"Input 09\",\"marker\":{\"color\":\"#54A24B\",\"pattern\":{\"shape\":\"\"}},\"name\":\"Input 09\",\"offsetgroup\":\"Input 09\",\"orientation\":\"h\",\"showlegend\":true,\"textposition\":\"auto\",\"type\":\"bar\",\"x\":[0.011804993991396489],\"xaxis\":\"x\",\"y\":[\"Input 09\"],\"yaxis\":\"y\"},{\"alignmentgroup\":\"True\",\"hovertemplate\":\"Feature Name=%{y}<br>Iteration=3<br>Importance=%{x}<extra></extra>\",\"ids\":[\"Input 06\"],\"legendgroup\":\"Input 06\",\"marker\":{\"color\":\"#EECA3B\",\"pattern\":{\"shape\":\"\"}},\"name\":\"Input 06\",\"offsetgroup\":\"Input 06\",\"orientation\":\"h\",\"showlegend\":true,\"textposition\":\"auto\",\"type\":\"bar\",\"x\":[0.08167586812497435],\"xaxis\":\"x\",\"y\":[\"Input 06\"],\"yaxis\":\"y\"},{\"alignmentgroup\":\"True\",\"hovertemplate\":\"Feature Name=%{y}<br>Iteration=3<br>Importance=%{x}<extra></extra>\",\"ids\":[\"Input 07\"],\"legendgroup\":\"Input 07\",\"marker\":{\"color\":\"#B279A2\",\"pattern\":{\"shape\":\"\"}},\"name\":\"Input 07\",\"offsetgroup\":\"Input 07\",\"orientation\":\"h\",\"showlegend\":true,\"textposition\":\"auto\",\"type\":\"bar\",\"x\":[0.006808511812158291],\"xaxis\":\"x\",\"y\":[\"Input 07\"],\"yaxis\":\"y\"},{\"alignmentgroup\":\"True\",\"hovertemplate\":\"Feature Name=%{y}<br>Iteration=3<br>Importance=%{x}<extra></extra>\",\"ids\":[\"Input 04\"],\"legendgroup\":\"Input 04\",\"marker\":{\"color\":\"#FF9DA6\",\"pattern\":{\"shape\":\"\"}},\"name\":\"Input 04\",\"offsetgroup\":\"Input 04\",\"orientation\":\"h\",\"showlegend\":true,\"textposition\":\"auto\",\"type\":\"bar\",\"x\":[0.01570606116772093],\"xaxis\":\"x\",\"y\":[\"Input 04\"],\"yaxis\":\"y\"},{\"alignmentgroup\":\"True\",\"hovertemplate\":\"Feature Name=%{y}<br>Iteration=3<br>Importance=%{x}<extra></extra>\",\"ids\":[\"Input 11\"],\"legendgroup\":\"Input 11\",\"marker\":{\"color\":\"#9D755D\",\"pattern\":{\"shape\":\"\"}},\"name\":\"Input 11\",\"offsetgroup\":\"Input 11\",\"orientation\":\"h\",\"showlegend\":true,\"textposition\":\"auto\",\"type\":\"bar\",\"x\":[0.004751918051903395],\"xaxis\":\"x\",\"y\":[\"Input 11\"],\"yaxis\":\"y\"},{\"alignmentgroup\":\"True\",\"hovertemplate\":\"Feature Name=%{y}<br>Iteration=3<br>Importance=%{x}<extra></extra>\",\"ids\":[\"Input 02\"],\"legendgroup\":\"Input 02\",\"marker\":{\"color\":\"#BAB0AC\",\"pattern\":{\"shape\":\"\"}},\"name\":\"Input 02\",\"offsetgroup\":\"Input 02\",\"orientation\":\"h\",\"showlegend\":true,\"textposition\":\"auto\",\"type\":\"bar\",\"x\":[0.0022948339606678257],\"xaxis\":\"x\",\"y\":[\"Input 02\"],\"yaxis\":\"y\"},{\"alignmentgroup\":\"True\",\"hovertemplate\":\"Feature Name=%{y}<br>Iteration=3<br>Importance=%{x}<extra></extra>\",\"ids\":[\"Input 12\"],\"legendgroup\":\"Input 12\",\"marker\":{\"color\":\"#4C78A8\",\"pattern\":{\"shape\":\"\"}},\"name\":\"Input 12\",\"offsetgroup\":\"Input 12\",\"orientation\":\"h\",\"showlegend\":true,\"textposition\":\"auto\",\"type\":\"bar\",\"x\":[0.012408190149752656],\"xaxis\":\"x\",\"y\":[\"Input 12\"],\"yaxis\":\"y\"},{\"alignmentgroup\":\"True\",\"hovertemplate\":\"Feature Name=%{y}<br>Iteration=3<br>Importance=%{x}<extra></extra>\",\"ids\":[\"Input 05\"],\"legendgroup\":\"Input 05\",\"marker\":{\"color\":\"#F58518\",\"pattern\":{\"shape\":\"\"}},\"name\":\"Input 05\",\"offsetgroup\":\"Input 05\",\"orientation\":\"h\",\"showlegend\":true,\"textposition\":\"auto\",\"type\":\"bar\",\"x\":[0.008437613711912446],\"xaxis\":\"x\",\"y\":[\"Input 05\"],\"yaxis\":\"y\"},{\"alignmentgroup\":\"True\",\"hovertemplate\":\"Feature Name=%{y}<br>Iteration=3<br>Importance=%{x}<extra></extra>\",\"ids\":[\"Input 10\"],\"legendgroup\":\"Input 10\",\"marker\":{\"color\":\"#E45756\",\"pattern\":{\"shape\":\"\"}},\"name\":\"Input 10\",\"offsetgroup\":\"Input 10\",\"orientation\":\"h\",\"showlegend\":true,\"textposition\":\"auto\",\"type\":\"bar\",\"x\":[0.004185841555497312],\"xaxis\":\"x\",\"y\":[\"Input 10\"],\"yaxis\":\"y\"}],\"name\":\"3\"},{\"data\":[{\"alignmentgroup\":\"True\",\"hovertemplate\":\"Feature Name=%{y}<br>Iteration=4<br>Importance=%{x}<extra></extra>\",\"ids\":[\"Output 01\"],\"legendgroup\":\"Output 01\",\"marker\":{\"color\":\"#4C78A8\",\"pattern\":{\"shape\":\"\"}},\"name\":\"Output 01\",\"offsetgroup\":\"Output 01\",\"orientation\":\"h\",\"showlegend\":true,\"textposition\":\"auto\",\"type\":\"bar\",\"x\":[0.7021958082619648],\"xaxis\":\"x\",\"y\":[\"Output 01\"],\"yaxis\":\"y\"},{\"alignmentgroup\":\"True\",\"hovertemplate\":\"Feature Name=%{y}<br>Iteration=4<br>Importance=%{x}<extra></extra>\",\"ids\":[\"Input 01\"],\"legendgroup\":\"Input 01\",\"marker\":{\"color\":\"#F58518\",\"pattern\":{\"shape\":\"\"}},\"name\":\"Input 01\",\"offsetgroup\":\"Input 01\",\"orientation\":\"h\",\"showlegend\":true,\"textposition\":\"auto\",\"type\":\"bar\",\"x\":[0.13720556456105726],\"xaxis\":\"x\",\"y\":[\"Input 01\"],\"yaxis\":\"y\"},{\"alignmentgroup\":\"True\",\"hovertemplate\":\"Feature Name=%{y}<br>Iteration=4<br>Importance=%{x}<extra></extra>\",\"ids\":[\"Input 08\"],\"legendgroup\":\"Input 08\",\"marker\":{\"color\":\"#E45756\",\"pattern\":{\"shape\":\"\"}},\"name\":\"Input 08\",\"offsetgroup\":\"Input 08\",\"orientation\":\"h\",\"showlegend\":true,\"textposition\":\"auto\",\"type\":\"bar\",\"x\":[0.003285324810295051],\"xaxis\":\"x\",\"y\":[\"Input 08\"],\"yaxis\":\"y\"},{\"alignmentgroup\":\"True\",\"hovertemplate\":\"Feature Name=%{y}<br>Iteration=4<br>Importance=%{x}<extra></extra>\",\"ids\":[\"Input 03\"],\"legendgroup\":\"Input 03\",\"marker\":{\"color\":\"#72B7B2\",\"pattern\":{\"shape\":\"\"}},\"name\":\"Input 03\",\"offsetgroup\":\"Input 03\",\"orientation\":\"h\",\"showlegend\":true,\"textposition\":\"auto\",\"type\":\"bar\",\"x\":[0.0039837662453764645],\"xaxis\":\"x\",\"y\":[\"Input 03\"],\"yaxis\":\"y\"},{\"alignmentgroup\":\"True\",\"hovertemplate\":\"Feature Name=%{y}<br>Iteration=4<br>Importance=%{x}<extra></extra>\",\"ids\":[\"Input 09\"],\"legendgroup\":\"Input 09\",\"marker\":{\"color\":\"#54A24B\",\"pattern\":{\"shape\":\"\"}},\"name\":\"Input 09\",\"offsetgroup\":\"Input 09\",\"orientation\":\"h\",\"showlegend\":true,\"textposition\":\"auto\",\"type\":\"bar\",\"x\":[0.010492781645370654],\"xaxis\":\"x\",\"y\":[\"Input 09\"],\"yaxis\":\"y\"},{\"alignmentgroup\":\"True\",\"hovertemplate\":\"Feature Name=%{y}<br>Iteration=4<br>Importance=%{x}<extra></extra>\",\"ids\":[\"Input 06\"],\"legendgroup\":\"Input 06\",\"marker\":{\"color\":\"#EECA3B\",\"pattern\":{\"shape\":\"\"}},\"name\":\"Input 06\",\"offsetgroup\":\"Input 06\",\"orientation\":\"h\",\"showlegend\":true,\"textposition\":\"auto\",\"type\":\"bar\",\"x\":[0.0829020981624649],\"xaxis\":\"x\",\"y\":[\"Input 06\"],\"yaxis\":\"y\"},{\"alignmentgroup\":\"True\",\"hovertemplate\":\"Feature Name=%{y}<br>Iteration=4<br>Importance=%{x}<extra></extra>\",\"ids\":[\"Input 07\"],\"legendgroup\":\"Input 07\",\"marker\":{\"color\":\"#B279A2\",\"pattern\":{\"shape\":\"\"}},\"name\":\"Input 07\",\"offsetgroup\":\"Input 07\",\"orientation\":\"h\",\"showlegend\":true,\"textposition\":\"auto\",\"type\":\"bar\",\"x\":[0.005215953752504035],\"xaxis\":\"x\",\"y\":[\"Input 07\"],\"yaxis\":\"y\"},{\"alignmentgroup\":\"True\",\"hovertemplate\":\"Feature Name=%{y}<br>Iteration=4<br>Importance=%{x}<extra></extra>\",\"ids\":[\"Input 04\"],\"legendgroup\":\"Input 04\",\"marker\":{\"color\":\"#FF9DA6\",\"pattern\":{\"shape\":\"\"}},\"name\":\"Input 04\",\"offsetgroup\":\"Input 04\",\"orientation\":\"h\",\"showlegend\":true,\"textposition\":\"auto\",\"type\":\"bar\",\"x\":[0.014754237399166849],\"xaxis\":\"x\",\"y\":[\"Input 04\"],\"yaxis\":\"y\"},{\"alignmentgroup\":\"True\",\"hovertemplate\":\"Feature Name=%{y}<br>Iteration=4<br>Importance=%{x}<extra></extra>\",\"ids\":[\"Input 11\"],\"legendgroup\":\"Input 11\",\"marker\":{\"color\":\"#9D755D\",\"pattern\":{\"shape\":\"\"}},\"name\":\"Input 11\",\"offsetgroup\":\"Input 11\",\"orientation\":\"h\",\"showlegend\":true,\"textposition\":\"auto\",\"type\":\"bar\",\"x\":[0.005563353086475685],\"xaxis\":\"x\",\"y\":[\"Input 11\"],\"yaxis\":\"y\"},{\"alignmentgroup\":\"True\",\"hovertemplate\":\"Feature Name=%{y}<br>Iteration=4<br>Importance=%{x}<extra></extra>\",\"ids\":[\"Input 02\"],\"legendgroup\":\"Input 02\",\"marker\":{\"color\":\"#BAB0AC\",\"pattern\":{\"shape\":\"\"}},\"name\":\"Input 02\",\"offsetgroup\":\"Input 02\",\"orientation\":\"h\",\"showlegend\":true,\"textposition\":\"auto\",\"type\":\"bar\",\"x\":[0.0030962153075913957],\"xaxis\":\"x\",\"y\":[\"Input 02\"],\"yaxis\":\"y\"},{\"alignmentgroup\":\"True\",\"hovertemplate\":\"Feature Name=%{y}<br>Iteration=4<br>Importance=%{x}<extra></extra>\",\"ids\":[\"Input 12\"],\"legendgroup\":\"Input 12\",\"marker\":{\"color\":\"#4C78A8\",\"pattern\":{\"shape\":\"\"}},\"name\":\"Input 12\",\"offsetgroup\":\"Input 12\",\"orientation\":\"h\",\"showlegend\":true,\"textposition\":\"auto\",\"type\":\"bar\",\"x\":[0.014662839748786944],\"xaxis\":\"x\",\"y\":[\"Input 12\"],\"yaxis\":\"y\"},{\"alignmentgroup\":\"True\",\"hovertemplate\":\"Feature Name=%{y}<br>Iteration=4<br>Importance=%{x}<extra></extra>\",\"ids\":[\"Input 05\"],\"legendgroup\":\"Input 05\",\"marker\":{\"color\":\"#F58518\",\"pattern\":{\"shape\":\"\"}},\"name\":\"Input 05\",\"offsetgroup\":\"Input 05\",\"orientation\":\"h\",\"showlegend\":true,\"textposition\":\"auto\",\"type\":\"bar\",\"x\":[0.009470660971149774],\"xaxis\":\"x\",\"y\":[\"Input 05\"],\"yaxis\":\"y\"},{\"alignmentgroup\":\"True\",\"hovertemplate\":\"Feature Name=%{y}<br>Iteration=4<br>Importance=%{x}<extra></extra>\",\"ids\":[\"Input 10\"],\"legendgroup\":\"Input 10\",\"marker\":{\"color\":\"#E45756\",\"pattern\":{\"shape\":\"\"}},\"name\":\"Input 10\",\"offsetgroup\":\"Input 10\",\"orientation\":\"h\",\"showlegend\":true,\"textposition\":\"auto\",\"type\":\"bar\",\"x\":[0.0071713960477960996],\"xaxis\":\"x\",\"y\":[\"Input 10\"],\"yaxis\":\"y\"}],\"name\":\"4\"},{\"data\":[{\"alignmentgroup\":\"True\",\"hovertemplate\":\"Feature Name=%{y}<br>Iteration=5<br>Importance=%{x}<extra></extra>\",\"ids\":[\"Output 01\"],\"legendgroup\":\"Output 01\",\"marker\":{\"color\":\"#4C78A8\",\"pattern\":{\"shape\":\"\"}},\"name\":\"Output 01\",\"offsetgroup\":\"Output 01\",\"orientation\":\"h\",\"showlegend\":true,\"textposition\":\"auto\",\"type\":\"bar\",\"x\":[0.702472203574973],\"xaxis\":\"x\",\"y\":[\"Output 01\"],\"yaxis\":\"y\"},{\"alignmentgroup\":\"True\",\"hovertemplate\":\"Feature Name=%{y}<br>Iteration=5<br>Importance=%{x}<extra></extra>\",\"ids\":[\"Input 01\"],\"legendgroup\":\"Input 01\",\"marker\":{\"color\":\"#F58518\",\"pattern\":{\"shape\":\"\"}},\"name\":\"Input 01\",\"offsetgroup\":\"Input 01\",\"orientation\":\"h\",\"showlegend\":true,\"textposition\":\"auto\",\"type\":\"bar\",\"x\":[0.14083227076364915],\"xaxis\":\"x\",\"y\":[\"Input 01\"],\"yaxis\":\"y\"},{\"alignmentgroup\":\"True\",\"hovertemplate\":\"Feature Name=%{y}<br>Iteration=5<br>Importance=%{x}<extra></extra>\",\"ids\":[\"Input 08\"],\"legendgroup\":\"Input 08\",\"marker\":{\"color\":\"#E45756\",\"pattern\":{\"shape\":\"\"}},\"name\":\"Input 08\",\"offsetgroup\":\"Input 08\",\"orientation\":\"h\",\"showlegend\":true,\"textposition\":\"auto\",\"type\":\"bar\",\"x\":[0.002810146845560504],\"xaxis\":\"x\",\"y\":[\"Input 08\"],\"yaxis\":\"y\"},{\"alignmentgroup\":\"True\",\"hovertemplate\":\"Feature Name=%{y}<br>Iteration=5<br>Importance=%{x}<extra></extra>\",\"ids\":[\"Input 03\"],\"legendgroup\":\"Input 03\",\"marker\":{\"color\":\"#72B7B2\",\"pattern\":{\"shape\":\"\"}},\"name\":\"Input 03\",\"offsetgroup\":\"Input 03\",\"orientation\":\"h\",\"showlegend\":true,\"textposition\":\"auto\",\"type\":\"bar\",\"x\":[0.002966297831094611],\"xaxis\":\"x\",\"y\":[\"Input 03\"],\"yaxis\":\"y\"},{\"alignmentgroup\":\"True\",\"hovertemplate\":\"Feature Name=%{y}<br>Iteration=5<br>Importance=%{x}<extra></extra>\",\"ids\":[\"Input 09\"],\"legendgroup\":\"Input 09\",\"marker\":{\"color\":\"#54A24B\",\"pattern\":{\"shape\":\"\"}},\"name\":\"Input 09\",\"offsetgroup\":\"Input 09\",\"orientation\":\"h\",\"showlegend\":true,\"textposition\":\"auto\",\"type\":\"bar\",\"x\":[0.009432416288355682],\"xaxis\":\"x\",\"y\":[\"Input 09\"],\"yaxis\":\"y\"},{\"alignmentgroup\":\"True\",\"hovertemplate\":\"Feature Name=%{y}<br>Iteration=5<br>Importance=%{x}<extra></extra>\",\"ids\":[\"Input 06\"],\"legendgroup\":\"Input 06\",\"marker\":{\"color\":\"#EECA3B\",\"pattern\":{\"shape\":\"\"}},\"name\":\"Input 06\",\"offsetgroup\":\"Input 06\",\"orientation\":\"h\",\"showlegend\":true,\"textposition\":\"auto\",\"type\":\"bar\",\"x\":[0.08243159296098616],\"xaxis\":\"x\",\"y\":[\"Input 06\"],\"yaxis\":\"y\"},{\"alignmentgroup\":\"True\",\"hovertemplate\":\"Feature Name=%{y}<br>Iteration=5<br>Importance=%{x}<extra></extra>\",\"ids\":[\"Input 07\"],\"legendgroup\":\"Input 07\",\"marker\":{\"color\":\"#B279A2\",\"pattern\":{\"shape\":\"\"}},\"name\":\"Input 07\",\"offsetgroup\":\"Input 07\",\"orientation\":\"h\",\"showlegend\":true,\"textposition\":\"auto\",\"type\":\"bar\",\"x\":[0.006638612484282412],\"xaxis\":\"x\",\"y\":[\"Input 07\"],\"yaxis\":\"y\"},{\"alignmentgroup\":\"True\",\"hovertemplate\":\"Feature Name=%{y}<br>Iteration=5<br>Importance=%{x}<extra></extra>\",\"ids\":[\"Input 04\"],\"legendgroup\":\"Input 04\",\"marker\":{\"color\":\"#FF9DA6\",\"pattern\":{\"shape\":\"\"}},\"name\":\"Input 04\",\"offsetgroup\":\"Input 04\",\"orientation\":\"h\",\"showlegend\":true,\"textposition\":\"auto\",\"type\":\"bar\",\"x\":[0.014311668684154356],\"xaxis\":\"x\",\"y\":[\"Input 04\"],\"yaxis\":\"y\"},{\"alignmentgroup\":\"True\",\"hovertemplate\":\"Feature Name=%{y}<br>Iteration=5<br>Importance=%{x}<extra></extra>\",\"ids\":[\"Input 11\"],\"legendgroup\":\"Input 11\",\"marker\":{\"color\":\"#9D755D\",\"pattern\":{\"shape\":\"\"}},\"name\":\"Input 11\",\"offsetgroup\":\"Input 11\",\"orientation\":\"h\",\"showlegend\":true,\"textposition\":\"auto\",\"type\":\"bar\",\"x\":[0.00543829243248496],\"xaxis\":\"x\",\"y\":[\"Input 11\"],\"yaxis\":\"y\"},{\"alignmentgroup\":\"True\",\"hovertemplate\":\"Feature Name=%{y}<br>Iteration=5<br>Importance=%{x}<extra></extra>\",\"ids\":[\"Input 02\"],\"legendgroup\":\"Input 02\",\"marker\":{\"color\":\"#BAB0AC\",\"pattern\":{\"shape\":\"\"}},\"name\":\"Input 02\",\"offsetgroup\":\"Input 02\",\"orientation\":\"h\",\"showlegend\":true,\"textposition\":\"auto\",\"type\":\"bar\",\"x\":[0.0034135442076089276],\"xaxis\":\"x\",\"y\":[\"Input 02\"],\"yaxis\":\"y\"},{\"alignmentgroup\":\"True\",\"hovertemplate\":\"Feature Name=%{y}<br>Iteration=5<br>Importance=%{x}<extra></extra>\",\"ids\":[\"Input 12\"],\"legendgroup\":\"Input 12\",\"marker\":{\"color\":\"#4C78A8\",\"pattern\":{\"shape\":\"\"}},\"name\":\"Input 12\",\"offsetgroup\":\"Input 12\",\"orientation\":\"h\",\"showlegend\":true,\"textposition\":\"auto\",\"type\":\"bar\",\"x\":[0.011305858891700528],\"xaxis\":\"x\",\"y\":[\"Input 12\"],\"yaxis\":\"y\"},{\"alignmentgroup\":\"True\",\"hovertemplate\":\"Feature Name=%{y}<br>Iteration=5<br>Importance=%{x}<extra></extra>\",\"ids\":[\"Input 05\"],\"legendgroup\":\"Input 05\",\"marker\":{\"color\":\"#F58518\",\"pattern\":{\"shape\":\"\"}},\"name\":\"Input 05\",\"offsetgroup\":\"Input 05\",\"orientation\":\"h\",\"showlegend\":true,\"textposition\":\"auto\",\"type\":\"bar\",\"x\":[0.009741102494789516],\"xaxis\":\"x\",\"y\":[\"Input 05\"],\"yaxis\":\"y\"},{\"alignmentgroup\":\"True\",\"hovertemplate\":\"Feature Name=%{y}<br>Iteration=5<br>Importance=%{x}<extra></extra>\",\"ids\":[\"Input 10\"],\"legendgroup\":\"Input 10\",\"marker\":{\"color\":\"#E45756\",\"pattern\":{\"shape\":\"\"}},\"name\":\"Input 10\",\"offsetgroup\":\"Input 10\",\"orientation\":\"h\",\"showlegend\":true,\"textposition\":\"auto\",\"type\":\"bar\",\"x\":[0.008205992540360205],\"xaxis\":\"x\",\"y\":[\"Input 10\"],\"yaxis\":\"y\"}],\"name\":\"5\"},{\"data\":[{\"alignmentgroup\":\"True\",\"hovertemplate\":\"Feature Name=%{y}<br>Iteration=6<br>Importance=%{x}<extra></extra>\",\"ids\":[\"Output 01\"],\"legendgroup\":\"Output 01\",\"marker\":{\"color\":\"#4C78A8\",\"pattern\":{\"shape\":\"\"}},\"name\":\"Output 01\",\"offsetgroup\":\"Output 01\",\"orientation\":\"h\",\"showlegend\":true,\"textposition\":\"auto\",\"type\":\"bar\",\"x\":[0.6880206708332814],\"xaxis\":\"x\",\"y\":[\"Output 01\"],\"yaxis\":\"y\"},{\"alignmentgroup\":\"True\",\"hovertemplate\":\"Feature Name=%{y}<br>Iteration=6<br>Importance=%{x}<extra></extra>\",\"ids\":[\"Input 01\"],\"legendgroup\":\"Input 01\",\"marker\":{\"color\":\"#F58518\",\"pattern\":{\"shape\":\"\"}},\"name\":\"Input 01\",\"offsetgroup\":\"Input 01\",\"orientation\":\"h\",\"showlegend\":true,\"textposition\":\"auto\",\"type\":\"bar\",\"x\":[0.14723936975126747],\"xaxis\":\"x\",\"y\":[\"Input 01\"],\"yaxis\":\"y\"},{\"alignmentgroup\":\"True\",\"hovertemplate\":\"Feature Name=%{y}<br>Iteration=6<br>Importance=%{x}<extra></extra>\",\"ids\":[\"Input 08\"],\"legendgroup\":\"Input 08\",\"marker\":{\"color\":\"#E45756\",\"pattern\":{\"shape\":\"\"}},\"name\":\"Input 08\",\"offsetgroup\":\"Input 08\",\"orientation\":\"h\",\"showlegend\":true,\"textposition\":\"auto\",\"type\":\"bar\",\"x\":[0.0026936831683932842],\"xaxis\":\"x\",\"y\":[\"Input 08\"],\"yaxis\":\"y\"},{\"alignmentgroup\":\"True\",\"hovertemplate\":\"Feature Name=%{y}<br>Iteration=6<br>Importance=%{x}<extra></extra>\",\"ids\":[\"Input 03\"],\"legendgroup\":\"Input 03\",\"marker\":{\"color\":\"#72B7B2\",\"pattern\":{\"shape\":\"\"}},\"name\":\"Input 03\",\"offsetgroup\":\"Input 03\",\"orientation\":\"h\",\"showlegend\":true,\"textposition\":\"auto\",\"type\":\"bar\",\"x\":[0.0048010260602032164],\"xaxis\":\"x\",\"y\":[\"Input 03\"],\"yaxis\":\"y\"},{\"alignmentgroup\":\"True\",\"hovertemplate\":\"Feature Name=%{y}<br>Iteration=6<br>Importance=%{x}<extra></extra>\",\"ids\":[\"Input 09\"],\"legendgroup\":\"Input 09\",\"marker\":{\"color\":\"#54A24B\",\"pattern\":{\"shape\":\"\"}},\"name\":\"Input 09\",\"offsetgroup\":\"Input 09\",\"orientation\":\"h\",\"showlegend\":true,\"textposition\":\"auto\",\"type\":\"bar\",\"x\":[0.010718626527780504],\"xaxis\":\"x\",\"y\":[\"Input 09\"],\"yaxis\":\"y\"},{\"alignmentgroup\":\"True\",\"hovertemplate\":\"Feature Name=%{y}<br>Iteration=6<br>Importance=%{x}<extra></extra>\",\"ids\":[\"Input 06\"],\"legendgroup\":\"Input 06\",\"marker\":{\"color\":\"#EECA3B\",\"pattern\":{\"shape\":\"\"}},\"name\":\"Input 06\",\"offsetgroup\":\"Input 06\",\"orientation\":\"h\",\"showlegend\":true,\"textposition\":\"auto\",\"type\":\"bar\",\"x\":[0.08936702944530102],\"xaxis\":\"x\",\"y\":[\"Input 06\"],\"yaxis\":\"y\"},{\"alignmentgroup\":\"True\",\"hovertemplate\":\"Feature Name=%{y}<br>Iteration=6<br>Importance=%{x}<extra></extra>\",\"ids\":[\"Input 07\"],\"legendgroup\":\"Input 07\",\"marker\":{\"color\":\"#B279A2\",\"pattern\":{\"shape\":\"\"}},\"name\":\"Input 07\",\"offsetgroup\":\"Input 07\",\"orientation\":\"h\",\"showlegend\":true,\"textposition\":\"auto\",\"type\":\"bar\",\"x\":[0.0050863288220443755],\"xaxis\":\"x\",\"y\":[\"Input 07\"],\"yaxis\":\"y\"},{\"alignmentgroup\":\"True\",\"hovertemplate\":\"Feature Name=%{y}<br>Iteration=6<br>Importance=%{x}<extra></extra>\",\"ids\":[\"Input 04\"],\"legendgroup\":\"Input 04\",\"marker\":{\"color\":\"#FF9DA6\",\"pattern\":{\"shape\":\"\"}},\"name\":\"Input 04\",\"offsetgroup\":\"Input 04\",\"orientation\":\"h\",\"showlegend\":true,\"textposition\":\"auto\",\"type\":\"bar\",\"x\":[0.016936868799313345],\"xaxis\":\"x\",\"y\":[\"Input 04\"],\"yaxis\":\"y\"},{\"alignmentgroup\":\"True\",\"hovertemplate\":\"Feature Name=%{y}<br>Iteration=6<br>Importance=%{x}<extra></extra>\",\"ids\":[\"Input 11\"],\"legendgroup\":\"Input 11\",\"marker\":{\"color\":\"#9D755D\",\"pattern\":{\"shape\":\"\"}},\"name\":\"Input 11\",\"offsetgroup\":\"Input 11\",\"orientation\":\"h\",\"showlegend\":true,\"textposition\":\"auto\",\"type\":\"bar\",\"x\":[0.004366306702723773],\"xaxis\":\"x\",\"y\":[\"Input 11\"],\"yaxis\":\"y\"},{\"alignmentgroup\":\"True\",\"hovertemplate\":\"Feature Name=%{y}<br>Iteration=6<br>Importance=%{x}<extra></extra>\",\"ids\":[\"Input 02\"],\"legendgroup\":\"Input 02\",\"marker\":{\"color\":\"#BAB0AC\",\"pattern\":{\"shape\":\"\"}},\"name\":\"Input 02\",\"offsetgroup\":\"Input 02\",\"orientation\":\"h\",\"showlegend\":true,\"textposition\":\"auto\",\"type\":\"bar\",\"x\":[0.004135818630554813],\"xaxis\":\"x\",\"y\":[\"Input 02\"],\"yaxis\":\"y\"},{\"alignmentgroup\":\"True\",\"hovertemplate\":\"Feature Name=%{y}<br>Iteration=6<br>Importance=%{x}<extra></extra>\",\"ids\":[\"Input 12\"],\"legendgroup\":\"Input 12\",\"marker\":{\"color\":\"#4C78A8\",\"pattern\":{\"shape\":\"\"}},\"name\":\"Input 12\",\"offsetgroup\":\"Input 12\",\"orientation\":\"h\",\"showlegend\":true,\"textposition\":\"auto\",\"type\":\"bar\",\"x\":[0.013288359345910926],\"xaxis\":\"x\",\"y\":[\"Input 12\"],\"yaxis\":\"y\"},{\"alignmentgroup\":\"True\",\"hovertemplate\":\"Feature Name=%{y}<br>Iteration=6<br>Importance=%{x}<extra></extra>\",\"ids\":[\"Input 05\"],\"legendgroup\":\"Input 05\",\"marker\":{\"color\":\"#F58518\",\"pattern\":{\"shape\":\"\"}},\"name\":\"Input 05\",\"offsetgroup\":\"Input 05\",\"orientation\":\"h\",\"showlegend\":true,\"textposition\":\"auto\",\"type\":\"bar\",\"x\":[0.007624063670497463],\"xaxis\":\"x\",\"y\":[\"Input 05\"],\"yaxis\":\"y\"},{\"alignmentgroup\":\"True\",\"hovertemplate\":\"Feature Name=%{y}<br>Iteration=6<br>Importance=%{x}<extra></extra>\",\"ids\":[\"Input 10\"],\"legendgroup\":\"Input 10\",\"marker\":{\"color\":\"#E45756\",\"pattern\":{\"shape\":\"\"}},\"name\":\"Input 10\",\"offsetgroup\":\"Input 10\",\"orientation\":\"h\",\"showlegend\":true,\"textposition\":\"auto\",\"type\":\"bar\",\"x\":[0.005721848242728277],\"xaxis\":\"x\",\"y\":[\"Input 10\"],\"yaxis\":\"y\"}],\"name\":\"6\"},{\"data\":[{\"alignmentgroup\":\"True\",\"hovertemplate\":\"Feature Name=%{y}<br>Iteration=7<br>Importance=%{x}<extra></extra>\",\"ids\":[\"Output 01\"],\"legendgroup\":\"Output 01\",\"marker\":{\"color\":\"#4C78A8\",\"pattern\":{\"shape\":\"\"}},\"name\":\"Output 01\",\"offsetgroup\":\"Output 01\",\"orientation\":\"h\",\"showlegend\":true,\"textposition\":\"auto\",\"type\":\"bar\",\"x\":[0.6882710724453263],\"xaxis\":\"x\",\"y\":[\"Output 01\"],\"yaxis\":\"y\"},{\"alignmentgroup\":\"True\",\"hovertemplate\":\"Feature Name=%{y}<br>Iteration=7<br>Importance=%{x}<extra></extra>\",\"ids\":[\"Input 01\"],\"legendgroup\":\"Input 01\",\"marker\":{\"color\":\"#F58518\",\"pattern\":{\"shape\":\"\"}},\"name\":\"Input 01\",\"offsetgroup\":\"Input 01\",\"orientation\":\"h\",\"showlegend\":true,\"textposition\":\"auto\",\"type\":\"bar\",\"x\":[0.14151495741672837],\"xaxis\":\"x\",\"y\":[\"Input 01\"],\"yaxis\":\"y\"},{\"alignmentgroup\":\"True\",\"hovertemplate\":\"Feature Name=%{y}<br>Iteration=7<br>Importance=%{x}<extra></extra>\",\"ids\":[\"Input 08\"],\"legendgroup\":\"Input 08\",\"marker\":{\"color\":\"#E45756\",\"pattern\":{\"shape\":\"\"}},\"name\":\"Input 08\",\"offsetgroup\":\"Input 08\",\"orientation\":\"h\",\"showlegend\":true,\"textposition\":\"auto\",\"type\":\"bar\",\"x\":[0.004260508698636042],\"xaxis\":\"x\",\"y\":[\"Input 08\"],\"yaxis\":\"y\"},{\"alignmentgroup\":\"True\",\"hovertemplate\":\"Feature Name=%{y}<br>Iteration=7<br>Importance=%{x}<extra></extra>\",\"ids\":[\"Input 03\"],\"legendgroup\":\"Input 03\",\"marker\":{\"color\":\"#72B7B2\",\"pattern\":{\"shape\":\"\"}},\"name\":\"Input 03\",\"offsetgroup\":\"Input 03\",\"orientation\":\"h\",\"showlegend\":true,\"textposition\":\"auto\",\"type\":\"bar\",\"x\":[0.0042237437854898575],\"xaxis\":\"x\",\"y\":[\"Input 03\"],\"yaxis\":\"y\"},{\"alignmentgroup\":\"True\",\"hovertemplate\":\"Feature Name=%{y}<br>Iteration=7<br>Importance=%{x}<extra></extra>\",\"ids\":[\"Input 09\"],\"legendgroup\":\"Input 09\",\"marker\":{\"color\":\"#54A24B\",\"pattern\":{\"shape\":\"\"}},\"name\":\"Input 09\",\"offsetgroup\":\"Input 09\",\"orientation\":\"h\",\"showlegend\":true,\"textposition\":\"auto\",\"type\":\"bar\",\"x\":[0.014142255890378305],\"xaxis\":\"x\",\"y\":[\"Input 09\"],\"yaxis\":\"y\"},{\"alignmentgroup\":\"True\",\"hovertemplate\":\"Feature Name=%{y}<br>Iteration=7<br>Importance=%{x}<extra></extra>\",\"ids\":[\"Input 06\"],\"legendgroup\":\"Input 06\",\"marker\":{\"color\":\"#EECA3B\",\"pattern\":{\"shape\":\"\"}},\"name\":\"Input 06\",\"offsetgroup\":\"Input 06\",\"orientation\":\"h\",\"showlegend\":true,\"textposition\":\"auto\",\"type\":\"bar\",\"x\":[0.08240081086109347],\"xaxis\":\"x\",\"y\":[\"Input 06\"],\"yaxis\":\"y\"},{\"alignmentgroup\":\"True\",\"hovertemplate\":\"Feature Name=%{y}<br>Iteration=7<br>Importance=%{x}<extra></extra>\",\"ids\":[\"Input 07\"],\"legendgroup\":\"Input 07\",\"marker\":{\"color\":\"#B279A2\",\"pattern\":{\"shape\":\"\"}},\"name\":\"Input 07\",\"offsetgroup\":\"Input 07\",\"orientation\":\"h\",\"showlegend\":true,\"textposition\":\"auto\",\"type\":\"bar\",\"x\":[0.007199089044354972],\"xaxis\":\"x\",\"y\":[\"Input 07\"],\"yaxis\":\"y\"},{\"alignmentgroup\":\"True\",\"hovertemplate\":\"Feature Name=%{y}<br>Iteration=7<br>Importance=%{x}<extra></extra>\",\"ids\":[\"Input 04\"],\"legendgroup\":\"Input 04\",\"marker\":{\"color\":\"#FF9DA6\",\"pattern\":{\"shape\":\"\"}},\"name\":\"Input 04\",\"offsetgroup\":\"Input 04\",\"orientation\":\"h\",\"showlegend\":true,\"textposition\":\"auto\",\"type\":\"bar\",\"x\":[0.016076022300377902],\"xaxis\":\"x\",\"y\":[\"Input 04\"],\"yaxis\":\"y\"},{\"alignmentgroup\":\"True\",\"hovertemplate\":\"Feature Name=%{y}<br>Iteration=7<br>Importance=%{x}<extra></extra>\",\"ids\":[\"Input 11\"],\"legendgroup\":\"Input 11\",\"marker\":{\"color\":\"#9D755D\",\"pattern\":{\"shape\":\"\"}},\"name\":\"Input 11\",\"offsetgroup\":\"Input 11\",\"orientation\":\"h\",\"showlegend\":true,\"textposition\":\"auto\",\"type\":\"bar\",\"x\":[0.006600216135863416],\"xaxis\":\"x\",\"y\":[\"Input 11\"],\"yaxis\":\"y\"},{\"alignmentgroup\":\"True\",\"hovertemplate\":\"Feature Name=%{y}<br>Iteration=7<br>Importance=%{x}<extra></extra>\",\"ids\":[\"Input 02\"],\"legendgroup\":\"Input 02\",\"marker\":{\"color\":\"#BAB0AC\",\"pattern\":{\"shape\":\"\"}},\"name\":\"Input 02\",\"offsetgroup\":\"Input 02\",\"orientation\":\"h\",\"showlegend\":true,\"textposition\":\"auto\",\"type\":\"bar\",\"x\":[0.004030593172025914],\"xaxis\":\"x\",\"y\":[\"Input 02\"],\"yaxis\":\"y\"},{\"alignmentgroup\":\"True\",\"hovertemplate\":\"Feature Name=%{y}<br>Iteration=7<br>Importance=%{x}<extra></extra>\",\"ids\":[\"Input 12\"],\"legendgroup\":\"Input 12\",\"marker\":{\"color\":\"#4C78A8\",\"pattern\":{\"shape\":\"\"}},\"name\":\"Input 12\",\"offsetgroup\":\"Input 12\",\"orientation\":\"h\",\"showlegend\":true,\"textposition\":\"auto\",\"type\":\"bar\",\"x\":[0.013806071905494382],\"xaxis\":\"x\",\"y\":[\"Input 12\"],\"yaxis\":\"y\"},{\"alignmentgroup\":\"True\",\"hovertemplate\":\"Feature Name=%{y}<br>Iteration=7<br>Importance=%{x}<extra></extra>\",\"ids\":[\"Input 05\"],\"legendgroup\":\"Input 05\",\"marker\":{\"color\":\"#F58518\",\"pattern\":{\"shape\":\"\"}},\"name\":\"Input 05\",\"offsetgroup\":\"Input 05\",\"orientation\":\"h\",\"showlegend\":true,\"textposition\":\"auto\",\"type\":\"bar\",\"x\":[0.00936161664053752],\"xaxis\":\"x\",\"y\":[\"Input 05\"],\"yaxis\":\"y\"},{\"alignmentgroup\":\"True\",\"hovertemplate\":\"Feature Name=%{y}<br>Iteration=7<br>Importance=%{x}<extra></extra>\",\"ids\":[\"Input 10\"],\"legendgroup\":\"Input 10\",\"marker\":{\"color\":\"#E45756\",\"pattern\":{\"shape\":\"\"}},\"name\":\"Input 10\",\"offsetgroup\":\"Input 10\",\"orientation\":\"h\",\"showlegend\":true,\"textposition\":\"auto\",\"type\":\"bar\",\"x\":[0.008113041703693586],\"xaxis\":\"x\",\"y\":[\"Input 10\"],\"yaxis\":\"y\"}],\"name\":\"7\"},{\"data\":[{\"alignmentgroup\":\"True\",\"hovertemplate\":\"Feature Name=%{y}<br>Iteration=8<br>Importance=%{x}<extra></extra>\",\"ids\":[\"Output 01\"],\"legendgroup\":\"Output 01\",\"marker\":{\"color\":\"#4C78A8\",\"pattern\":{\"shape\":\"\"}},\"name\":\"Output 01\",\"offsetgroup\":\"Output 01\",\"orientation\":\"h\",\"showlegend\":true,\"textposition\":\"auto\",\"type\":\"bar\",\"x\":[0.7025678819597464],\"xaxis\":\"x\",\"y\":[\"Output 01\"],\"yaxis\":\"y\"},{\"alignmentgroup\":\"True\",\"hovertemplate\":\"Feature Name=%{y}<br>Iteration=8<br>Importance=%{x}<extra></extra>\",\"ids\":[\"Input 01\"],\"legendgroup\":\"Input 01\",\"marker\":{\"color\":\"#F58518\",\"pattern\":{\"shape\":\"\"}},\"name\":\"Input 01\",\"offsetgroup\":\"Input 01\",\"orientation\":\"h\",\"showlegend\":true,\"textposition\":\"auto\",\"type\":\"bar\",\"x\":[0.13932718608953712],\"xaxis\":\"x\",\"y\":[\"Input 01\"],\"yaxis\":\"y\"},{\"alignmentgroup\":\"True\",\"hovertemplate\":\"Feature Name=%{y}<br>Iteration=8<br>Importance=%{x}<extra></extra>\",\"ids\":[\"Input 08\"],\"legendgroup\":\"Input 08\",\"marker\":{\"color\":\"#E45756\",\"pattern\":{\"shape\":\"\"}},\"name\":\"Input 08\",\"offsetgroup\":\"Input 08\",\"orientation\":\"h\",\"showlegend\":true,\"textposition\":\"auto\",\"type\":\"bar\",\"x\":[0.0026678586896639466],\"xaxis\":\"x\",\"y\":[\"Input 08\"],\"yaxis\":\"y\"},{\"alignmentgroup\":\"True\",\"hovertemplate\":\"Feature Name=%{y}<br>Iteration=8<br>Importance=%{x}<extra></extra>\",\"ids\":[\"Input 03\"],\"legendgroup\":\"Input 03\",\"marker\":{\"color\":\"#72B7B2\",\"pattern\":{\"shape\":\"\"}},\"name\":\"Input 03\",\"offsetgroup\":\"Input 03\",\"orientation\":\"h\",\"showlegend\":true,\"textposition\":\"auto\",\"type\":\"bar\",\"x\":[0.003995577627853064],\"xaxis\":\"x\",\"y\":[\"Input 03\"],\"yaxis\":\"y\"},{\"alignmentgroup\":\"True\",\"hovertemplate\":\"Feature Name=%{y}<br>Iteration=8<br>Importance=%{x}<extra></extra>\",\"ids\":[\"Input 09\"],\"legendgroup\":\"Input 09\",\"marker\":{\"color\":\"#54A24B\",\"pattern\":{\"shape\":\"\"}},\"name\":\"Input 09\",\"offsetgroup\":\"Input 09\",\"orientation\":\"h\",\"showlegend\":true,\"textposition\":\"auto\",\"type\":\"bar\",\"x\":[0.009076334150068109],\"xaxis\":\"x\",\"y\":[\"Input 09\"],\"yaxis\":\"y\"},{\"alignmentgroup\":\"True\",\"hovertemplate\":\"Feature Name=%{y}<br>Iteration=8<br>Importance=%{x}<extra></extra>\",\"ids\":[\"Input 06\"],\"legendgroup\":\"Input 06\",\"marker\":{\"color\":\"#EECA3B\",\"pattern\":{\"shape\":\"\"}},\"name\":\"Input 06\",\"offsetgroup\":\"Input 06\",\"orientation\":\"h\",\"showlegend\":true,\"textposition\":\"auto\",\"type\":\"bar\",\"x\":[0.08273197224140426],\"xaxis\":\"x\",\"y\":[\"Input 06\"],\"yaxis\":\"y\"},{\"alignmentgroup\":\"True\",\"hovertemplate\":\"Feature Name=%{y}<br>Iteration=8<br>Importance=%{x}<extra></extra>\",\"ids\":[\"Input 07\"],\"legendgroup\":\"Input 07\",\"marker\":{\"color\":\"#B279A2\",\"pattern\":{\"shape\":\"\"}},\"name\":\"Input 07\",\"offsetgroup\":\"Input 07\",\"orientation\":\"h\",\"showlegend\":true,\"textposition\":\"auto\",\"type\":\"bar\",\"x\":[0.006898854801097948],\"xaxis\":\"x\",\"y\":[\"Input 07\"],\"yaxis\":\"y\"},{\"alignmentgroup\":\"True\",\"hovertemplate\":\"Feature Name=%{y}<br>Iteration=8<br>Importance=%{x}<extra></extra>\",\"ids\":[\"Input 04\"],\"legendgroup\":\"Input 04\",\"marker\":{\"color\":\"#FF9DA6\",\"pattern\":{\"shape\":\"\"}},\"name\":\"Input 04\",\"offsetgroup\":\"Input 04\",\"orientation\":\"h\",\"showlegend\":true,\"textposition\":\"auto\",\"type\":\"bar\",\"x\":[0.016806338384912023],\"xaxis\":\"x\",\"y\":[\"Input 04\"],\"yaxis\":\"y\"},{\"alignmentgroup\":\"True\",\"hovertemplate\":\"Feature Name=%{y}<br>Iteration=8<br>Importance=%{x}<extra></extra>\",\"ids\":[\"Input 11\"],\"legendgroup\":\"Input 11\",\"marker\":{\"color\":\"#9D755D\",\"pattern\":{\"shape\":\"\"}},\"name\":\"Input 11\",\"offsetgroup\":\"Input 11\",\"orientation\":\"h\",\"showlegend\":true,\"textposition\":\"auto\",\"type\":\"bar\",\"x\":[0.004806318124893534],\"xaxis\":\"x\",\"y\":[\"Input 11\"],\"yaxis\":\"y\"},{\"alignmentgroup\":\"True\",\"hovertemplate\":\"Feature Name=%{y}<br>Iteration=8<br>Importance=%{x}<extra></extra>\",\"ids\":[\"Input 02\"],\"legendgroup\":\"Input 02\",\"marker\":{\"color\":\"#BAB0AC\",\"pattern\":{\"shape\":\"\"}},\"name\":\"Input 02\",\"offsetgroup\":\"Input 02\",\"orientation\":\"h\",\"showlegend\":true,\"textposition\":\"auto\",\"type\":\"bar\",\"x\":[0.003917981252693017],\"xaxis\":\"x\",\"y\":[\"Input 02\"],\"yaxis\":\"y\"},{\"alignmentgroup\":\"True\",\"hovertemplate\":\"Feature Name=%{y}<br>Iteration=8<br>Importance=%{x}<extra></extra>\",\"ids\":[\"Input 12\"],\"legendgroup\":\"Input 12\",\"marker\":{\"color\":\"#4C78A8\",\"pattern\":{\"shape\":\"\"}},\"name\":\"Input 12\",\"offsetgroup\":\"Input 12\",\"orientation\":\"h\",\"showlegend\":true,\"textposition\":\"auto\",\"type\":\"bar\",\"x\":[0.010171088525896953],\"xaxis\":\"x\",\"y\":[\"Input 12\"],\"yaxis\":\"y\"},{\"alignmentgroup\":\"True\",\"hovertemplate\":\"Feature Name=%{y}<br>Iteration=8<br>Importance=%{x}<extra></extra>\",\"ids\":[\"Input 05\"],\"legendgroup\":\"Input 05\",\"marker\":{\"color\":\"#F58518\",\"pattern\":{\"shape\":\"\"}},\"name\":\"Input 05\",\"offsetgroup\":\"Input 05\",\"orientation\":\"h\",\"showlegend\":true,\"textposition\":\"auto\",\"type\":\"bar\",\"x\":[0.009862142369868158],\"xaxis\":\"x\",\"y\":[\"Input 05\"],\"yaxis\":\"y\"},{\"alignmentgroup\":\"True\",\"hovertemplate\":\"Feature Name=%{y}<br>Iteration=8<br>Importance=%{x}<extra></extra>\",\"ids\":[\"Input 10\"],\"legendgroup\":\"Input 10\",\"marker\":{\"color\":\"#E45756\",\"pattern\":{\"shape\":\"\"}},\"name\":\"Input 10\",\"offsetgroup\":\"Input 10\",\"orientation\":\"h\",\"showlegend\":true,\"textposition\":\"auto\",\"type\":\"bar\",\"x\":[0.007170465782365471],\"xaxis\":\"x\",\"y\":[\"Input 10\"],\"yaxis\":\"y\"}],\"name\":\"8\"},{\"data\":[{\"alignmentgroup\":\"True\",\"hovertemplate\":\"Feature Name=%{y}<br>Iteration=9<br>Importance=%{x}<extra></extra>\",\"ids\":[\"Output 01\"],\"legendgroup\":\"Output 01\",\"marker\":{\"color\":\"#4C78A8\",\"pattern\":{\"shape\":\"\"}},\"name\":\"Output 01\",\"offsetgroup\":\"Output 01\",\"orientation\":\"h\",\"showlegend\":true,\"textposition\":\"auto\",\"type\":\"bar\",\"x\":[0.6954113570629339],\"xaxis\":\"x\",\"y\":[\"Output 01\"],\"yaxis\":\"y\"},{\"alignmentgroup\":\"True\",\"hovertemplate\":\"Feature Name=%{y}<br>Iteration=9<br>Importance=%{x}<extra></extra>\",\"ids\":[\"Input 01\"],\"legendgroup\":\"Input 01\",\"marker\":{\"color\":\"#F58518\",\"pattern\":{\"shape\":\"\"}},\"name\":\"Input 01\",\"offsetgroup\":\"Input 01\",\"orientation\":\"h\",\"showlegend\":true,\"textposition\":\"auto\",\"type\":\"bar\",\"x\":[0.14053675229745244],\"xaxis\":\"x\",\"y\":[\"Input 01\"],\"yaxis\":\"y\"},{\"alignmentgroup\":\"True\",\"hovertemplate\":\"Feature Name=%{y}<br>Iteration=9<br>Importance=%{x}<extra></extra>\",\"ids\":[\"Input 08\"],\"legendgroup\":\"Input 08\",\"marker\":{\"color\":\"#E45756\",\"pattern\":{\"shape\":\"\"}},\"name\":\"Input 08\",\"offsetgroup\":\"Input 08\",\"orientation\":\"h\",\"showlegend\":true,\"textposition\":\"auto\",\"type\":\"bar\",\"x\":[0.004475664684314946],\"xaxis\":\"x\",\"y\":[\"Input 08\"],\"yaxis\":\"y\"},{\"alignmentgroup\":\"True\",\"hovertemplate\":\"Feature Name=%{y}<br>Iteration=9<br>Importance=%{x}<extra></extra>\",\"ids\":[\"Input 03\"],\"legendgroup\":\"Input 03\",\"marker\":{\"color\":\"#72B7B2\",\"pattern\":{\"shape\":\"\"}},\"name\":\"Input 03\",\"offsetgroup\":\"Input 03\",\"orientation\":\"h\",\"showlegend\":true,\"textposition\":\"auto\",\"type\":\"bar\",\"x\":[0.0031244384574737687],\"xaxis\":\"x\",\"y\":[\"Input 03\"],\"yaxis\":\"y\"},{\"alignmentgroup\":\"True\",\"hovertemplate\":\"Feature Name=%{y}<br>Iteration=9<br>Importance=%{x}<extra></extra>\",\"ids\":[\"Input 09\"],\"legendgroup\":\"Input 09\",\"marker\":{\"color\":\"#54A24B\",\"pattern\":{\"shape\":\"\"}},\"name\":\"Input 09\",\"offsetgroup\":\"Input 09\",\"orientation\":\"h\",\"showlegend\":true,\"textposition\":\"auto\",\"type\":\"bar\",\"x\":[0.010297859803891885],\"xaxis\":\"x\",\"y\":[\"Input 09\"],\"yaxis\":\"y\"},{\"alignmentgroup\":\"True\",\"hovertemplate\":\"Feature Name=%{y}<br>Iteration=9<br>Importance=%{x}<extra></extra>\",\"ids\":[\"Input 06\"],\"legendgroup\":\"Input 06\",\"marker\":{\"color\":\"#EECA3B\",\"pattern\":{\"shape\":\"\"}},\"name\":\"Input 06\",\"offsetgroup\":\"Input 06\",\"orientation\":\"h\",\"showlegend\":true,\"textposition\":\"auto\",\"type\":\"bar\",\"x\":[0.08450703744199047],\"xaxis\":\"x\",\"y\":[\"Input 06\"],\"yaxis\":\"y\"},{\"alignmentgroup\":\"True\",\"hovertemplate\":\"Feature Name=%{y}<br>Iteration=9<br>Importance=%{x}<extra></extra>\",\"ids\":[\"Input 07\"],\"legendgroup\":\"Input 07\",\"marker\":{\"color\":\"#B279A2\",\"pattern\":{\"shape\":\"\"}},\"name\":\"Input 07\",\"offsetgroup\":\"Input 07\",\"orientation\":\"h\",\"showlegend\":true,\"textposition\":\"auto\",\"type\":\"bar\",\"x\":[0.005753019922184835],\"xaxis\":\"x\",\"y\":[\"Input 07\"],\"yaxis\":\"y\"},{\"alignmentgroup\":\"True\",\"hovertemplate\":\"Feature Name=%{y}<br>Iteration=9<br>Importance=%{x}<extra></extra>\",\"ids\":[\"Input 04\"],\"legendgroup\":\"Input 04\",\"marker\":{\"color\":\"#FF9DA6\",\"pattern\":{\"shape\":\"\"}},\"name\":\"Input 04\",\"offsetgroup\":\"Input 04\",\"orientation\":\"h\",\"showlegend\":true,\"textposition\":\"auto\",\"type\":\"bar\",\"x\":[0.016329634859454156],\"xaxis\":\"x\",\"y\":[\"Input 04\"],\"yaxis\":\"y\"},{\"alignmentgroup\":\"True\",\"hovertemplate\":\"Feature Name=%{y}<br>Iteration=9<br>Importance=%{x}<extra></extra>\",\"ids\":[\"Input 11\"],\"legendgroup\":\"Input 11\",\"marker\":{\"color\":\"#9D755D\",\"pattern\":{\"shape\":\"\"}},\"name\":\"Input 11\",\"offsetgroup\":\"Input 11\",\"orientation\":\"h\",\"showlegend\":true,\"textposition\":\"auto\",\"type\":\"bar\",\"x\":[0.00688795539796084],\"xaxis\":\"x\",\"y\":[\"Input 11\"],\"yaxis\":\"y\"},{\"alignmentgroup\":\"True\",\"hovertemplate\":\"Feature Name=%{y}<br>Iteration=9<br>Importance=%{x}<extra></extra>\",\"ids\":[\"Input 02\"],\"legendgroup\":\"Input 02\",\"marker\":{\"color\":\"#BAB0AC\",\"pattern\":{\"shape\":\"\"}},\"name\":\"Input 02\",\"offsetgroup\":\"Input 02\",\"orientation\":\"h\",\"showlegend\":true,\"textposition\":\"auto\",\"type\":\"bar\",\"x\":[0.0030151268719049635],\"xaxis\":\"x\",\"y\":[\"Input 02\"],\"yaxis\":\"y\"},{\"alignmentgroup\":\"True\",\"hovertemplate\":\"Feature Name=%{y}<br>Iteration=9<br>Importance=%{x}<extra></extra>\",\"ids\":[\"Input 12\"],\"legendgroup\":\"Input 12\",\"marker\":{\"color\":\"#4C78A8\",\"pattern\":{\"shape\":\"\"}},\"name\":\"Input 12\",\"offsetgroup\":\"Input 12\",\"orientation\":\"h\",\"showlegend\":true,\"textposition\":\"auto\",\"type\":\"bar\",\"x\":[0.012017080090312916],\"xaxis\":\"x\",\"y\":[\"Input 12\"],\"yaxis\":\"y\"},{\"alignmentgroup\":\"True\",\"hovertemplate\":\"Feature Name=%{y}<br>Iteration=9<br>Importance=%{x}<extra></extra>\",\"ids\":[\"Input 05\"],\"legendgroup\":\"Input 05\",\"marker\":{\"color\":\"#F58518\",\"pattern\":{\"shape\":\"\"}},\"name\":\"Input 05\",\"offsetgroup\":\"Input 05\",\"orientation\":\"h\",\"showlegend\":true,\"textposition\":\"auto\",\"type\":\"bar\",\"x\":[0.009952140818383718],\"xaxis\":\"x\",\"y\":[\"Input 05\"],\"yaxis\":\"y\"},{\"alignmentgroup\":\"True\",\"hovertemplate\":\"Feature Name=%{y}<br>Iteration=9<br>Importance=%{x}<extra></extra>\",\"ids\":[\"Input 10\"],\"legendgroup\":\"Input 10\",\"marker\":{\"color\":\"#E45756\",\"pattern\":{\"shape\":\"\"}},\"name\":\"Input 10\",\"offsetgroup\":\"Input 10\",\"orientation\":\"h\",\"showlegend\":true,\"textposition\":\"auto\",\"type\":\"bar\",\"x\":[0.007691932291741224],\"xaxis\":\"x\",\"y\":[\"Input 10\"],\"yaxis\":\"y\"}],\"name\":\"9\"},{\"data\":[{\"alignmentgroup\":\"True\",\"hovertemplate\":\"Feature Name=%{y}<br>Iteration=10<br>Importance=%{x}<extra></extra>\",\"ids\":[\"Output 01\"],\"legendgroup\":\"Output 01\",\"marker\":{\"color\":\"#4C78A8\",\"pattern\":{\"shape\":\"\"}},\"name\":\"Output 01\",\"offsetgroup\":\"Output 01\",\"orientation\":\"h\",\"showlegend\":true,\"textposition\":\"auto\",\"type\":\"bar\",\"x\":[0.701192785135183],\"xaxis\":\"x\",\"y\":[\"Output 01\"],\"yaxis\":\"y\"},{\"alignmentgroup\":\"True\",\"hovertemplate\":\"Feature Name=%{y}<br>Iteration=10<br>Importance=%{x}<extra></extra>\",\"ids\":[\"Input 01\"],\"legendgroup\":\"Input 01\",\"marker\":{\"color\":\"#F58518\",\"pattern\":{\"shape\":\"\"}},\"name\":\"Input 01\",\"offsetgroup\":\"Input 01\",\"orientation\":\"h\",\"showlegend\":true,\"textposition\":\"auto\",\"type\":\"bar\",\"x\":[0.1400069488363969],\"xaxis\":\"x\",\"y\":[\"Input 01\"],\"yaxis\":\"y\"},{\"alignmentgroup\":\"True\",\"hovertemplate\":\"Feature Name=%{y}<br>Iteration=10<br>Importance=%{x}<extra></extra>\",\"ids\":[\"Input 08\"],\"legendgroup\":\"Input 08\",\"marker\":{\"color\":\"#E45756\",\"pattern\":{\"shape\":\"\"}},\"name\":\"Input 08\",\"offsetgroup\":\"Input 08\",\"orientation\":\"h\",\"showlegend\":true,\"textposition\":\"auto\",\"type\":\"bar\",\"x\":[0.0031927532707910723],\"xaxis\":\"x\",\"y\":[\"Input 08\"],\"yaxis\":\"y\"},{\"alignmentgroup\":\"True\",\"hovertemplate\":\"Feature Name=%{y}<br>Iteration=10<br>Importance=%{x}<extra></extra>\",\"ids\":[\"Input 03\"],\"legendgroup\":\"Input 03\",\"marker\":{\"color\":\"#72B7B2\",\"pattern\":{\"shape\":\"\"}},\"name\":\"Input 03\",\"offsetgroup\":\"Input 03\",\"orientation\":\"h\",\"showlegend\":true,\"textposition\":\"auto\",\"type\":\"bar\",\"x\":[0.002627036476085398],\"xaxis\":\"x\",\"y\":[\"Input 03\"],\"yaxis\":\"y\"},{\"alignmentgroup\":\"True\",\"hovertemplate\":\"Feature Name=%{y}<br>Iteration=10<br>Importance=%{x}<extra></extra>\",\"ids\":[\"Input 09\"],\"legendgroup\":\"Input 09\",\"marker\":{\"color\":\"#54A24B\",\"pattern\":{\"shape\":\"\"}},\"name\":\"Input 09\",\"offsetgroup\":\"Input 09\",\"orientation\":\"h\",\"showlegend\":true,\"textposition\":\"auto\",\"type\":\"bar\",\"x\":[0.010861073563068856],\"xaxis\":\"x\",\"y\":[\"Input 09\"],\"yaxis\":\"y\"},{\"alignmentgroup\":\"True\",\"hovertemplate\":\"Feature Name=%{y}<br>Iteration=10<br>Importance=%{x}<extra></extra>\",\"ids\":[\"Input 06\"],\"legendgroup\":\"Input 06\",\"marker\":{\"color\":\"#EECA3B\",\"pattern\":{\"shape\":\"\"}},\"name\":\"Input 06\",\"offsetgroup\":\"Input 06\",\"orientation\":\"h\",\"showlegend\":true,\"textposition\":\"auto\",\"type\":\"bar\",\"x\":[0.08391080453553568],\"xaxis\":\"x\",\"y\":[\"Input 06\"],\"yaxis\":\"y\"},{\"alignmentgroup\":\"True\",\"hovertemplate\":\"Feature Name=%{y}<br>Iteration=10<br>Importance=%{x}<extra></extra>\",\"ids\":[\"Input 07\"],\"legendgroup\":\"Input 07\",\"marker\":{\"color\":\"#B279A2\",\"pattern\":{\"shape\":\"\"}},\"name\":\"Input 07\",\"offsetgroup\":\"Input 07\",\"orientation\":\"h\",\"showlegend\":true,\"textposition\":\"auto\",\"type\":\"bar\",\"x\":[0.006707820688931051],\"xaxis\":\"x\",\"y\":[\"Input 07\"],\"yaxis\":\"y\"},{\"alignmentgroup\":\"True\",\"hovertemplate\":\"Feature Name=%{y}<br>Iteration=10<br>Importance=%{x}<extra></extra>\",\"ids\":[\"Input 04\"],\"legendgroup\":\"Input 04\",\"marker\":{\"color\":\"#FF9DA6\",\"pattern\":{\"shape\":\"\"}},\"name\":\"Input 04\",\"offsetgroup\":\"Input 04\",\"orientation\":\"h\",\"showlegend\":true,\"textposition\":\"auto\",\"type\":\"bar\",\"x\":[0.015219600574768156],\"xaxis\":\"x\",\"y\":[\"Input 04\"],\"yaxis\":\"y\"},{\"alignmentgroup\":\"True\",\"hovertemplate\":\"Feature Name=%{y}<br>Iteration=10<br>Importance=%{x}<extra></extra>\",\"ids\":[\"Input 11\"],\"legendgroup\":\"Input 11\",\"marker\":{\"color\":\"#9D755D\",\"pattern\":{\"shape\":\"\"}},\"name\":\"Input 11\",\"offsetgroup\":\"Input 11\",\"orientation\":\"h\",\"showlegend\":true,\"textposition\":\"auto\",\"type\":\"bar\",\"x\":[0.0052591727023326915],\"xaxis\":\"x\",\"y\":[\"Input 11\"],\"yaxis\":\"y\"},{\"alignmentgroup\":\"True\",\"hovertemplate\":\"Feature Name=%{y}<br>Iteration=10<br>Importance=%{x}<extra></extra>\",\"ids\":[\"Input 02\"],\"legendgroup\":\"Input 02\",\"marker\":{\"color\":\"#BAB0AC\",\"pattern\":{\"shape\":\"\"}},\"name\":\"Input 02\",\"offsetgroup\":\"Input 02\",\"orientation\":\"h\",\"showlegend\":true,\"textposition\":\"auto\",\"type\":\"bar\",\"x\":[0.003949285570117829],\"xaxis\":\"x\",\"y\":[\"Input 02\"],\"yaxis\":\"y\"},{\"alignmentgroup\":\"True\",\"hovertemplate\":\"Feature Name=%{y}<br>Iteration=10<br>Importance=%{x}<extra></extra>\",\"ids\":[\"Input 12\"],\"legendgroup\":\"Input 12\",\"marker\":{\"color\":\"#4C78A8\",\"pattern\":{\"shape\":\"\"}},\"name\":\"Input 12\",\"offsetgroup\":\"Input 12\",\"orientation\":\"h\",\"showlegend\":true,\"textposition\":\"auto\",\"type\":\"bar\",\"x\":[0.012670147816719723],\"xaxis\":\"x\",\"y\":[\"Input 12\"],\"yaxis\":\"y\"},{\"alignmentgroup\":\"True\",\"hovertemplate\":\"Feature Name=%{y}<br>Iteration=10<br>Importance=%{x}<extra></extra>\",\"ids\":[\"Input 05\"],\"legendgroup\":\"Input 05\",\"marker\":{\"color\":\"#F58518\",\"pattern\":{\"shape\":\"\"}},\"name\":\"Input 05\",\"offsetgroup\":\"Input 05\",\"orientation\":\"h\",\"showlegend\":true,\"textposition\":\"auto\",\"type\":\"bar\",\"x\":[0.008429278203643129],\"xaxis\":\"x\",\"y\":[\"Input 05\"],\"yaxis\":\"y\"},{\"alignmentgroup\":\"True\",\"hovertemplate\":\"Feature Name=%{y}<br>Iteration=10<br>Importance=%{x}<extra></extra>\",\"ids\":[\"Input 10\"],\"legendgroup\":\"Input 10\",\"marker\":{\"color\":\"#E45756\",\"pattern\":{\"shape\":\"\"}},\"name\":\"Input 10\",\"offsetgroup\":\"Input 10\",\"orientation\":\"h\",\"showlegend\":true,\"textposition\":\"auto\",\"type\":\"bar\",\"x\":[0.00597329262642651],\"xaxis\":\"x\",\"y\":[\"Input 10\"],\"yaxis\":\"y\"}],\"name\":\"10\"}]);\n",
       "                        }).then(function(){\n",
       "                            \n",
       "var gd = document.getElementById('41aa4c29-478a-42af-8e47-646e3f003de0');\n",
       "var x = new MutationObserver(function (mutations, observer) {{\n",
       "        var display = window.getComputedStyle(gd).display;\n",
       "        if (!display || display === 'none') {{\n",
       "            console.log([gd, 'removed!']);\n",
       "            Plotly.purge(gd);\n",
       "            observer.disconnect();\n",
       "        }}\n",
       "}});\n",
       "\n",
       "// Listen for the removal of the full notebook cells\n",
       "var notebookContainer = gd.closest('#notebook-container');\n",
       "if (notebookContainer) {{\n",
       "    x.observe(notebookContainer, {childList: true});\n",
       "}}\n",
       "\n",
       "// Listen for the clearing of the current output cell\n",
       "var outputEl = gd.closest('.output');\n",
       "if (outputEl) {{\n",
       "    x.observe(outputEl, {childList: true});\n",
       "}}\n",
       "\n",
       "                        })                };                });            </script>        </div>"
      ]
     },
     "metadata": {},
     "output_type": "display_data"
    }
   ],
   "source": [
    "fig = px.bar(\n",
    "    df_imp,\n",
    "    y=\"Feature Name\",\n",
    "    x=\"Importance\",\n",
    "    color=\"Feature Name\",\n",
    "    color_discrete_sequence=px.colors.qualitative.T10,\n",
    "    animation_frame=\"Iteration\",\n",
    "    animation_group=\"Feature Name\",\n",
    "    orientation=\"h\",\n",
    "    range_x=[0,0.3]\n",
    ")\n",
    "\n",
    "fig.update_yaxes(categoryorder='total ascending')\n",
    "\n",
    "fig.update_layout(\n",
    "    autosize=False,\n",
    "    width=800,\n",
    "    height=500,\n",
    "    title_text=f\"Feature Importance Per Iteration\",\n",
    "    #paper_bgcolor='#2d3035',\n",
    "    #plot_bgcolor='#2d3035', \n",
    ")\n",
    "\n",
    "\n",
    "fig.show()"
   ]
  },
  {
   "cell_type": "code",
   "execution_count": 12,
   "id": "1e87ec97-21e9-47fc-be6b-33132f83a072",
   "metadata": {},
   "outputs": [
    {
     "data": {
      "application/vnd.plotly.v1+json": {
       "config": {
        "plotlyServerURL": "https://plot.ly"
       },
       "data": [
        {
         "hovertemplate": "Feature Name=Output 01<br>Iteration=%{x}<br>Importance=%{y}<extra></extra>",
         "legendgroup": "Output 01",
         "line": {
          "color": "#636efa",
          "dash": "solid"
         },
         "marker": {
          "symbol": "circle"
         },
         "mode": "lines",
         "name": "Output 01",
         "orientation": "v",
         "showlegend": true,
         "type": "scatter",
         "visible": "legendonly",
         "x": [
          0,
          1,
          2,
          3,
          4,
          5,
          6,
          7,
          8,
          9,
          10
         ],
         "xaxis": "x",
         "y": [
          0.5793200287571652,
          0.6896565478857487,
          0.6799489612422187,
          0.6988054246250543,
          0.7021958082619648,
          0.702472203574973,
          0.6880206708332814,
          0.6882710724453263,
          0.7025678819597464,
          0.6954113570629339,
          0.701192785135183
         ],
         "yaxis": "y"
        },
        {
         "hovertemplate": "Feature Name=Input 01<br>Iteration=%{x}<br>Importance=%{y}<extra></extra>",
         "legendgroup": "Input 01",
         "line": {
          "color": "#EF553B",
          "dash": "solid"
         },
         "marker": {
          "symbol": "circle"
         },
         "mode": "lines",
         "name": "Input 01",
         "orientation": "v",
         "showlegend": true,
         "type": "scatter",
         "x": [
          0,
          1,
          2,
          3,
          4,
          5,
          6,
          7,
          8,
          9,
          10
         ],
         "xaxis": "x",
         "y": [
          0.06455923175539596,
          0.12504240765656865,
          0.14249248350618643,
          0.14580624929786618,
          0.13720556456105726,
          0.14083227076364915,
          0.14723936975126747,
          0.14151495741672837,
          0.13932718608953712,
          0.14053675229745244,
          0.1400069488363969
         ],
         "yaxis": "y"
        },
        {
         "hovertemplate": "Feature Name=Input 08<br>Iteration=%{x}<br>Importance=%{y}<extra></extra>",
         "legendgroup": "Input 08",
         "line": {
          "color": "#00cc96",
          "dash": "solid"
         },
         "marker": {
          "symbol": "circle"
         },
         "mode": "lines",
         "name": "Input 08",
         "orientation": "v",
         "showlegend": true,
         "type": "scatter",
         "x": [
          0,
          1,
          2,
          3,
          4,
          5,
          6,
          7,
          8,
          9,
          10
         ],
         "xaxis": "x",
         "y": [
          0.056970393702841265,
          0.03833858709397377,
          0.008631954854866992,
          0.00308952266813649,
          0.003285324810295051,
          0.002810146845560504,
          0.0026936831683932842,
          0.004260508698636042,
          0.0026678586896639466,
          0.004475664684314946,
          0.0031927532707910723
         ],
         "yaxis": "y"
        },
        {
         "hovertemplate": "Feature Name=Input 03<br>Iteration=%{x}<br>Importance=%{y}<extra></extra>",
         "legendgroup": "Input 03",
         "line": {
          "color": "#ab63fa",
          "dash": "solid"
         },
         "marker": {
          "symbol": "circle"
         },
         "mode": "lines",
         "name": "Input 03",
         "orientation": "v",
         "showlegend": true,
         "type": "scatter",
         "x": [
          0,
          1,
          2,
          3,
          4,
          5,
          6,
          7,
          8,
          9,
          10
         ],
         "xaxis": "x",
         "y": [
          0.048774908063770286,
          0.021502250258890434,
          0.009935547000153012,
          0.004224970882959304,
          0.0039837662453764645,
          0.002966297831094611,
          0.0048010260602032164,
          0.0042237437854898575,
          0.003995577627853064,
          0.0031244384574737687,
          0.002627036476085398
         ],
         "yaxis": "y"
        },
        {
         "hovertemplate": "Feature Name=Input 09<br>Iteration=%{x}<br>Importance=%{y}<extra></extra>",
         "legendgroup": "Input 09",
         "line": {
          "color": "#FFA15A",
          "dash": "solid"
         },
         "marker": {
          "symbol": "circle"
         },
         "mode": "lines",
         "name": "Input 09",
         "orientation": "v",
         "showlegend": true,
         "type": "scatter",
         "x": [
          0,
          1,
          2,
          3,
          4,
          5,
          6,
          7,
          8,
          9,
          10
         ],
         "xaxis": "x",
         "y": [
          0.04569149852896595,
          0.006273779629911687,
          0.005791470722253917,
          0.011804993991396489,
          0.010492781645370654,
          0.009432416288355682,
          0.010718626527780504,
          0.014142255890378305,
          0.009076334150068109,
          0.010297859803891885,
          0.010861073563068856
         ],
         "yaxis": "y"
        },
        {
         "hovertemplate": "Feature Name=Input 06<br>Iteration=%{x}<br>Importance=%{y}<extra></extra>",
         "legendgroup": "Input 06",
         "line": {
          "color": "#19d3f3",
          "dash": "solid"
         },
         "marker": {
          "symbol": "circle"
         },
         "mode": "lines",
         "name": "Input 06",
         "orientation": "v",
         "showlegend": true,
         "type": "scatter",
         "x": [
          0,
          1,
          2,
          3,
          4,
          5,
          6,
          7,
          8,
          9,
          10
         ],
         "xaxis": "x",
         "y": [
          0.04298156877879775,
          0.04770733118011626,
          0.0971165804868044,
          0.08167586812497435,
          0.0829020981624649,
          0.08243159296098616,
          0.08936702944530102,
          0.08240081086109347,
          0.08273197224140426,
          0.08450703744199047,
          0.08391080453553568
         ],
         "yaxis": "y"
        },
        {
         "hovertemplate": "Feature Name=Input 07<br>Iteration=%{x}<br>Importance=%{y}<extra></extra>",
         "legendgroup": "Input 07",
         "line": {
          "color": "#FF6692",
          "dash": "solid"
         },
         "marker": {
          "symbol": "circle"
         },
         "mode": "lines",
         "name": "Input 07",
         "orientation": "v",
         "showlegend": true,
         "type": "scatter",
         "x": [
          0,
          1,
          2,
          3,
          4,
          5,
          6,
          7,
          8,
          9,
          10
         ],
         "xaxis": "x",
         "y": [
          0.03641077255954307,
          0.011894345152683086,
          0.0063034691883546885,
          0.006808511812158291,
          0.005215953752504035,
          0.006638612484282412,
          0.0050863288220443755,
          0.007199089044354972,
          0.006898854801097948,
          0.005753019922184835,
          0.006707820688931051
         ],
         "yaxis": "y"
        },
        {
         "hovertemplate": "Feature Name=Input 04<br>Iteration=%{x}<br>Importance=%{y}<extra></extra>",
         "legendgroup": "Input 04",
         "line": {
          "color": "#B6E880",
          "dash": "solid"
         },
         "marker": {
          "symbol": "circle"
         },
         "mode": "lines",
         "name": "Input 04",
         "orientation": "v",
         "showlegend": true,
         "type": "scatter",
         "x": [
          0,
          1,
          2,
          3,
          4,
          5,
          6,
          7,
          8,
          9,
          10
         ],
         "xaxis": "x",
         "y": [
          0.03181429372855011,
          0.01309073573710176,
          0.015000433058640414,
          0.01570606116772093,
          0.014754237399166849,
          0.014311668684154356,
          0.016936868799313345,
          0.016076022300377902,
          0.016806338384912023,
          0.016329634859454156,
          0.015219600574768156
         ],
         "yaxis": "y"
        },
        {
         "hovertemplate": "Feature Name=Input 11<br>Iteration=%{x}<br>Importance=%{y}<extra></extra>",
         "legendgroup": "Input 11",
         "line": {
          "color": "#FF97FF",
          "dash": "solid"
         },
         "marker": {
          "symbol": "circle"
         },
         "mode": "lines",
         "name": "Input 11",
         "orientation": "v",
         "showlegend": true,
         "type": "scatter",
         "x": [
          0,
          1,
          2,
          3,
          4,
          5,
          6,
          7,
          8,
          9,
          10
         ],
         "xaxis": "x",
         "y": [
          0.02379684477961624,
          0.010265604269413321,
          0.006187696649576915,
          0.004751918051903395,
          0.005563353086475685,
          0.00543829243248496,
          0.004366306702723773,
          0.006600216135863416,
          0.004806318124893534,
          0.00688795539796084,
          0.0052591727023326915
         ],
         "yaxis": "y"
        },
        {
         "hovertemplate": "Feature Name=Input 02<br>Iteration=%{x}<br>Importance=%{y}<extra></extra>",
         "legendgroup": "Input 02",
         "line": {
          "color": "#FECB52",
          "dash": "solid"
         },
         "marker": {
          "symbol": "circle"
         },
         "mode": "lines",
         "name": "Input 02",
         "orientation": "v",
         "showlegend": true,
         "type": "scatter",
         "x": [
          0,
          1,
          2,
          3,
          4,
          5,
          6,
          7,
          8,
          9,
          10
         ],
         "xaxis": "x",
         "y": [
          0.022169522450135266,
          0.006309243066730726,
          0.0034849837423904712,
          0.0022948339606678257,
          0.0030962153075913957,
          0.0034135442076089276,
          0.004135818630554813,
          0.004030593172025914,
          0.003917981252693017,
          0.0030151268719049635,
          0.003949285570117829
         ],
         "yaxis": "y"
        },
        {
         "hovertemplate": "Feature Name=Input 12<br>Iteration=%{x}<br>Importance=%{y}<extra></extra>",
         "legendgroup": "Input 12",
         "line": {
          "color": "#636efa",
          "dash": "solid"
         },
         "marker": {
          "symbol": "circle"
         },
         "mode": "lines",
         "name": "Input 12",
         "orientation": "v",
         "showlegend": true,
         "type": "scatter",
         "x": [
          0,
          1,
          2,
          3,
          4,
          5,
          6,
          7,
          8,
          9,
          10
         ],
         "xaxis": "x",
         "y": [
          0.018468857743769874,
          0.015334512384764156,
          0.014007457860528436,
          0.012408190149752656,
          0.014662839748786944,
          0.011305858891700528,
          0.013288359345910926,
          0.013806071905494382,
          0.010171088525896953,
          0.012017080090312916,
          0.012670147816719723
         ],
         "yaxis": "y"
        },
        {
         "hovertemplate": "Feature Name=Input 05<br>Iteration=%{x}<br>Importance=%{y}<extra></extra>",
         "legendgroup": "Input 05",
         "line": {
          "color": "#EF553B",
          "dash": "solid"
         },
         "marker": {
          "symbol": "circle"
         },
         "mode": "lines",
         "name": "Input 05",
         "orientation": "v",
         "showlegend": true,
         "type": "scatter",
         "x": [
          0,
          1,
          2,
          3,
          4,
          5,
          6,
          7,
          8,
          9,
          10
         ],
         "xaxis": "x",
         "y": [
          0.01536968577880344,
          0.007805880688926132,
          0.007261955270980555,
          0.008437613711912446,
          0.009470660971149774,
          0.009741102494789516,
          0.007624063670497463,
          0.00936161664053752,
          0.009862142369868158,
          0.009952140818383718,
          0.008429278203643129
         ],
         "yaxis": "y"
        },
        {
         "hovertemplate": "Feature Name=Input 10<br>Iteration=%{x}<br>Importance=%{y}<extra></extra>",
         "legendgroup": "Input 10",
         "line": {
          "color": "#00cc96",
          "dash": "solid"
         },
         "marker": {
          "symbol": "circle"
         },
         "mode": "lines",
         "name": "Input 10",
         "orientation": "v",
         "showlegend": true,
         "type": "scatter",
         "x": [
          0,
          1,
          2,
          3,
          4,
          5,
          6,
          7,
          8,
          9,
          10
         ],
         "xaxis": "x",
         "y": [
          0.01367239337264559,
          0.006778774995171295,
          0.0038370064170451,
          0.004185841555497312,
          0.0071713960477960996,
          0.008205992540360205,
          0.005721848242728277,
          0.008113041703693586,
          0.007170465782365471,
          0.007691932291741224,
          0.00597329262642651
         ],
         "yaxis": "y"
        }
       ],
       "layout": {
        "autosize": false,
        "height": 500,
        "legend": {
         "title": {
          "text": "Feature Name"
         },
         "tracegroupgap": 0
        },
        "margin": {
         "t": 60
        },
        "template": {
         "data": {
          "bar": [
           {
            "error_x": {
             "color": "#2a3f5f"
            },
            "error_y": {
             "color": "#2a3f5f"
            },
            "marker": {
             "line": {
              "color": "#E5ECF6",
              "width": 0.5
             },
             "pattern": {
              "fillmode": "overlay",
              "size": 10,
              "solidity": 0.2
             }
            },
            "type": "bar"
           }
          ],
          "barpolar": [
           {
            "marker": {
             "line": {
              "color": "#E5ECF6",
              "width": 0.5
             },
             "pattern": {
              "fillmode": "overlay",
              "size": 10,
              "solidity": 0.2
             }
            },
            "type": "barpolar"
           }
          ],
          "carpet": [
           {
            "aaxis": {
             "endlinecolor": "#2a3f5f",
             "gridcolor": "white",
             "linecolor": "white",
             "minorgridcolor": "white",
             "startlinecolor": "#2a3f5f"
            },
            "baxis": {
             "endlinecolor": "#2a3f5f",
             "gridcolor": "white",
             "linecolor": "white",
             "minorgridcolor": "white",
             "startlinecolor": "#2a3f5f"
            },
            "type": "carpet"
           }
          ],
          "choropleth": [
           {
            "colorbar": {
             "outlinewidth": 0,
             "ticks": ""
            },
            "type": "choropleth"
           }
          ],
          "contour": [
           {
            "colorbar": {
             "outlinewidth": 0,
             "ticks": ""
            },
            "colorscale": [
             [
              0,
              "#0d0887"
             ],
             [
              0.1111111111111111,
              "#46039f"
             ],
             [
              0.2222222222222222,
              "#7201a8"
             ],
             [
              0.3333333333333333,
              "#9c179e"
             ],
             [
              0.4444444444444444,
              "#bd3786"
             ],
             [
              0.5555555555555556,
              "#d8576b"
             ],
             [
              0.6666666666666666,
              "#ed7953"
             ],
             [
              0.7777777777777778,
              "#fb9f3a"
             ],
             [
              0.8888888888888888,
              "#fdca26"
             ],
             [
              1,
              "#f0f921"
             ]
            ],
            "type": "contour"
           }
          ],
          "contourcarpet": [
           {
            "colorbar": {
             "outlinewidth": 0,
             "ticks": ""
            },
            "type": "contourcarpet"
           }
          ],
          "heatmap": [
           {
            "colorbar": {
             "outlinewidth": 0,
             "ticks": ""
            },
            "colorscale": [
             [
              0,
              "#0d0887"
             ],
             [
              0.1111111111111111,
              "#46039f"
             ],
             [
              0.2222222222222222,
              "#7201a8"
             ],
             [
              0.3333333333333333,
              "#9c179e"
             ],
             [
              0.4444444444444444,
              "#bd3786"
             ],
             [
              0.5555555555555556,
              "#d8576b"
             ],
             [
              0.6666666666666666,
              "#ed7953"
             ],
             [
              0.7777777777777778,
              "#fb9f3a"
             ],
             [
              0.8888888888888888,
              "#fdca26"
             ],
             [
              1,
              "#f0f921"
             ]
            ],
            "type": "heatmap"
           }
          ],
          "heatmapgl": [
           {
            "colorbar": {
             "outlinewidth": 0,
             "ticks": ""
            },
            "colorscale": [
             [
              0,
              "#0d0887"
             ],
             [
              0.1111111111111111,
              "#46039f"
             ],
             [
              0.2222222222222222,
              "#7201a8"
             ],
             [
              0.3333333333333333,
              "#9c179e"
             ],
             [
              0.4444444444444444,
              "#bd3786"
             ],
             [
              0.5555555555555556,
              "#d8576b"
             ],
             [
              0.6666666666666666,
              "#ed7953"
             ],
             [
              0.7777777777777778,
              "#fb9f3a"
             ],
             [
              0.8888888888888888,
              "#fdca26"
             ],
             [
              1,
              "#f0f921"
             ]
            ],
            "type": "heatmapgl"
           }
          ],
          "histogram": [
           {
            "marker": {
             "pattern": {
              "fillmode": "overlay",
              "size": 10,
              "solidity": 0.2
             }
            },
            "type": "histogram"
           }
          ],
          "histogram2d": [
           {
            "colorbar": {
             "outlinewidth": 0,
             "ticks": ""
            },
            "colorscale": [
             [
              0,
              "#0d0887"
             ],
             [
              0.1111111111111111,
              "#46039f"
             ],
             [
              0.2222222222222222,
              "#7201a8"
             ],
             [
              0.3333333333333333,
              "#9c179e"
             ],
             [
              0.4444444444444444,
              "#bd3786"
             ],
             [
              0.5555555555555556,
              "#d8576b"
             ],
             [
              0.6666666666666666,
              "#ed7953"
             ],
             [
              0.7777777777777778,
              "#fb9f3a"
             ],
             [
              0.8888888888888888,
              "#fdca26"
             ],
             [
              1,
              "#f0f921"
             ]
            ],
            "type": "histogram2d"
           }
          ],
          "histogram2dcontour": [
           {
            "colorbar": {
             "outlinewidth": 0,
             "ticks": ""
            },
            "colorscale": [
             [
              0,
              "#0d0887"
             ],
             [
              0.1111111111111111,
              "#46039f"
             ],
             [
              0.2222222222222222,
              "#7201a8"
             ],
             [
              0.3333333333333333,
              "#9c179e"
             ],
             [
              0.4444444444444444,
              "#bd3786"
             ],
             [
              0.5555555555555556,
              "#d8576b"
             ],
             [
              0.6666666666666666,
              "#ed7953"
             ],
             [
              0.7777777777777778,
              "#fb9f3a"
             ],
             [
              0.8888888888888888,
              "#fdca26"
             ],
             [
              1,
              "#f0f921"
             ]
            ],
            "type": "histogram2dcontour"
           }
          ],
          "mesh3d": [
           {
            "colorbar": {
             "outlinewidth": 0,
             "ticks": ""
            },
            "type": "mesh3d"
           }
          ],
          "parcoords": [
           {
            "line": {
             "colorbar": {
              "outlinewidth": 0,
              "ticks": ""
             }
            },
            "type": "parcoords"
           }
          ],
          "pie": [
           {
            "automargin": true,
            "type": "pie"
           }
          ],
          "scatter": [
           {
            "marker": {
             "colorbar": {
              "outlinewidth": 0,
              "ticks": ""
             }
            },
            "type": "scatter"
           }
          ],
          "scatter3d": [
           {
            "line": {
             "colorbar": {
              "outlinewidth": 0,
              "ticks": ""
             }
            },
            "marker": {
             "colorbar": {
              "outlinewidth": 0,
              "ticks": ""
             }
            },
            "type": "scatter3d"
           }
          ],
          "scattercarpet": [
           {
            "marker": {
             "colorbar": {
              "outlinewidth": 0,
              "ticks": ""
             }
            },
            "type": "scattercarpet"
           }
          ],
          "scattergeo": [
           {
            "marker": {
             "colorbar": {
              "outlinewidth": 0,
              "ticks": ""
             }
            },
            "type": "scattergeo"
           }
          ],
          "scattergl": [
           {
            "marker": {
             "colorbar": {
              "outlinewidth": 0,
              "ticks": ""
             }
            },
            "type": "scattergl"
           }
          ],
          "scattermapbox": [
           {
            "marker": {
             "colorbar": {
              "outlinewidth": 0,
              "ticks": ""
             }
            },
            "type": "scattermapbox"
           }
          ],
          "scatterpolar": [
           {
            "marker": {
             "colorbar": {
              "outlinewidth": 0,
              "ticks": ""
             }
            },
            "type": "scatterpolar"
           }
          ],
          "scatterpolargl": [
           {
            "marker": {
             "colorbar": {
              "outlinewidth": 0,
              "ticks": ""
             }
            },
            "type": "scatterpolargl"
           }
          ],
          "scatterternary": [
           {
            "marker": {
             "colorbar": {
              "outlinewidth": 0,
              "ticks": ""
             }
            },
            "type": "scatterternary"
           }
          ],
          "surface": [
           {
            "colorbar": {
             "outlinewidth": 0,
             "ticks": ""
            },
            "colorscale": [
             [
              0,
              "#0d0887"
             ],
             [
              0.1111111111111111,
              "#46039f"
             ],
             [
              0.2222222222222222,
              "#7201a8"
             ],
             [
              0.3333333333333333,
              "#9c179e"
             ],
             [
              0.4444444444444444,
              "#bd3786"
             ],
             [
              0.5555555555555556,
              "#d8576b"
             ],
             [
              0.6666666666666666,
              "#ed7953"
             ],
             [
              0.7777777777777778,
              "#fb9f3a"
             ],
             [
              0.8888888888888888,
              "#fdca26"
             ],
             [
              1,
              "#f0f921"
             ]
            ],
            "type": "surface"
           }
          ],
          "table": [
           {
            "cells": {
             "fill": {
              "color": "#EBF0F8"
             },
             "line": {
              "color": "white"
             }
            },
            "header": {
             "fill": {
              "color": "#C8D4E3"
             },
             "line": {
              "color": "white"
             }
            },
            "type": "table"
           }
          ]
         },
         "layout": {
          "annotationdefaults": {
           "arrowcolor": "#2a3f5f",
           "arrowhead": 0,
           "arrowwidth": 1
          },
          "autotypenumbers": "strict",
          "coloraxis": {
           "colorbar": {
            "outlinewidth": 0,
            "ticks": ""
           }
          },
          "colorscale": {
           "diverging": [
            [
             0,
             "#8e0152"
            ],
            [
             0.1,
             "#c51b7d"
            ],
            [
             0.2,
             "#de77ae"
            ],
            [
             0.3,
             "#f1b6da"
            ],
            [
             0.4,
             "#fde0ef"
            ],
            [
             0.5,
             "#f7f7f7"
            ],
            [
             0.6,
             "#e6f5d0"
            ],
            [
             0.7,
             "#b8e186"
            ],
            [
             0.8,
             "#7fbc41"
            ],
            [
             0.9,
             "#4d9221"
            ],
            [
             1,
             "#276419"
            ]
           ],
           "sequential": [
            [
             0,
             "#0d0887"
            ],
            [
             0.1111111111111111,
             "#46039f"
            ],
            [
             0.2222222222222222,
             "#7201a8"
            ],
            [
             0.3333333333333333,
             "#9c179e"
            ],
            [
             0.4444444444444444,
             "#bd3786"
            ],
            [
             0.5555555555555556,
             "#d8576b"
            ],
            [
             0.6666666666666666,
             "#ed7953"
            ],
            [
             0.7777777777777778,
             "#fb9f3a"
            ],
            [
             0.8888888888888888,
             "#fdca26"
            ],
            [
             1,
             "#f0f921"
            ]
           ],
           "sequentialminus": [
            [
             0,
             "#0d0887"
            ],
            [
             0.1111111111111111,
             "#46039f"
            ],
            [
             0.2222222222222222,
             "#7201a8"
            ],
            [
             0.3333333333333333,
             "#9c179e"
            ],
            [
             0.4444444444444444,
             "#bd3786"
            ],
            [
             0.5555555555555556,
             "#d8576b"
            ],
            [
             0.6666666666666666,
             "#ed7953"
            ],
            [
             0.7777777777777778,
             "#fb9f3a"
            ],
            [
             0.8888888888888888,
             "#fdca26"
            ],
            [
             1,
             "#f0f921"
            ]
           ]
          },
          "colorway": [
           "#636efa",
           "#EF553B",
           "#00cc96",
           "#ab63fa",
           "#FFA15A",
           "#19d3f3",
           "#FF6692",
           "#B6E880",
           "#FF97FF",
           "#FECB52"
          ],
          "font": {
           "color": "#2a3f5f"
          },
          "geo": {
           "bgcolor": "white",
           "lakecolor": "white",
           "landcolor": "#E5ECF6",
           "showlakes": true,
           "showland": true,
           "subunitcolor": "white"
          },
          "hoverlabel": {
           "align": "left"
          },
          "hovermode": "closest",
          "mapbox": {
           "style": "light"
          },
          "paper_bgcolor": "white",
          "plot_bgcolor": "#E5ECF6",
          "polar": {
           "angularaxis": {
            "gridcolor": "white",
            "linecolor": "white",
            "ticks": ""
           },
           "bgcolor": "#E5ECF6",
           "radialaxis": {
            "gridcolor": "white",
            "linecolor": "white",
            "ticks": ""
           }
          },
          "scene": {
           "xaxis": {
            "backgroundcolor": "#E5ECF6",
            "gridcolor": "white",
            "gridwidth": 2,
            "linecolor": "white",
            "showbackground": true,
            "ticks": "",
            "zerolinecolor": "white"
           },
           "yaxis": {
            "backgroundcolor": "#E5ECF6",
            "gridcolor": "white",
            "gridwidth": 2,
            "linecolor": "white",
            "showbackground": true,
            "ticks": "",
            "zerolinecolor": "white"
           },
           "zaxis": {
            "backgroundcolor": "#E5ECF6",
            "gridcolor": "white",
            "gridwidth": 2,
            "linecolor": "white",
            "showbackground": true,
            "ticks": "",
            "zerolinecolor": "white"
           }
          },
          "shapedefaults": {
           "line": {
            "color": "#2a3f5f"
           }
          },
          "ternary": {
           "aaxis": {
            "gridcolor": "white",
            "linecolor": "white",
            "ticks": ""
           },
           "baxis": {
            "gridcolor": "white",
            "linecolor": "white",
            "ticks": ""
           },
           "bgcolor": "#E5ECF6",
           "caxis": {
            "gridcolor": "white",
            "linecolor": "white",
            "ticks": ""
           }
          },
          "title": {
           "x": 0.05
          },
          "xaxis": {
           "automargin": true,
           "gridcolor": "white",
           "linecolor": "white",
           "ticks": "",
           "title": {
            "standoff": 15
           },
           "zerolinecolor": "white",
           "zerolinewidth": 2
          },
          "yaxis": {
           "automargin": true,
           "gridcolor": "white",
           "linecolor": "white",
           "ticks": "",
           "title": {
            "standoff": 15
           },
           "zerolinecolor": "white",
           "zerolinewidth": 2
          }
         }
        },
        "title": {
         "text": "Feature Importance Per Iteration"
        },
        "width": 1000,
        "xaxis": {
         "anchor": "y",
         "autorange": true,
         "domain": [
          0,
          1
         ],
         "range": [
          0,
          10
         ],
         "title": {
          "text": "Iteration"
         },
         "type": "linear"
        },
        "yaxis": {
         "anchor": "x",
         "autorange": true,
         "domain": [
          0,
          1
         ],
         "range": [
          -0.0057576402499210436,
          0.15529184396185636
         ],
         "title": {
          "text": "Importance"
         },
         "type": "linear"
        }
       }
      },
      "image/png": "[encoded data removed]",
      "text/html": [
       "<div>                            <div id=\"f5a52958-2a64-4b8c-82fc-c92b4cf98dfc\" class=\"plotly-graph-div\" style=\"height:500px; width:1000px;\"></div>            <script type=\"text/javascript\">                require([\"plotly\"], function(Plotly) {                    window.PLOTLYENV=window.PLOTLYENV || {};                                    if (document.getElementById(\"f5a52958-2a64-4b8c-82fc-c92b4cf98dfc\")) {                    Plotly.newPlot(                        \"f5a52958-2a64-4b8c-82fc-c92b4cf98dfc\",                        [{\"hovertemplate\":\"Feature Name=Output 01<br>Iteration=%{x}<br>Importance=%{y}<extra></extra>\",\"legendgroup\":\"Output 01\",\"line\":{\"color\":\"#636efa\",\"dash\":\"solid\"},\"marker\":{\"symbol\":\"circle\"},\"mode\":\"lines\",\"name\":\"Output 01\",\"orientation\":\"v\",\"showlegend\":true,\"type\":\"scatter\",\"x\":[0,1,2,3,4,5,6,7,8,9,10],\"xaxis\":\"x\",\"y\":[0.5793200287571652,0.6896565478857487,0.6799489612422187,0.6988054246250543,0.7021958082619648,0.702472203574973,0.6880206708332814,0.6882710724453263,0.7025678819597464,0.6954113570629339,0.701192785135183],\"yaxis\":\"y\"},{\"hovertemplate\":\"Feature Name=Input 01<br>Iteration=%{x}<br>Importance=%{y}<extra></extra>\",\"legendgroup\":\"Input 01\",\"line\":{\"color\":\"#EF553B\",\"dash\":\"solid\"},\"marker\":{\"symbol\":\"circle\"},\"mode\":\"lines\",\"name\":\"Input 01\",\"orientation\":\"v\",\"showlegend\":true,\"type\":\"scatter\",\"x\":[0,1,2,3,4,5,6,7,8,9,10],\"xaxis\":\"x\",\"y\":[0.06455923175539596,0.12504240765656865,0.14249248350618643,0.14580624929786618,0.13720556456105726,0.14083227076364915,0.14723936975126747,0.14151495741672837,0.13932718608953712,0.14053675229745244,0.1400069488363969],\"yaxis\":\"y\"},{\"hovertemplate\":\"Feature Name=Input 08<br>Iteration=%{x}<br>Importance=%{y}<extra></extra>\",\"legendgroup\":\"Input 08\",\"line\":{\"color\":\"#00cc96\",\"dash\":\"solid\"},\"marker\":{\"symbol\":\"circle\"},\"mode\":\"lines\",\"name\":\"Input 08\",\"orientation\":\"v\",\"showlegend\":true,\"type\":\"scatter\",\"x\":[0,1,2,3,4,5,6,7,8,9,10],\"xaxis\":\"x\",\"y\":[0.056970393702841265,0.03833858709397377,0.008631954854866992,0.00308952266813649,0.003285324810295051,0.002810146845560504,0.0026936831683932842,0.004260508698636042,0.0026678586896639466,0.004475664684314946,0.0031927532707910723],\"yaxis\":\"y\"},{\"hovertemplate\":\"Feature Name=Input 03<br>Iteration=%{x}<br>Importance=%{y}<extra></extra>\",\"legendgroup\":\"Input 03\",\"line\":{\"color\":\"#ab63fa\",\"dash\":\"solid\"},\"marker\":{\"symbol\":\"circle\"},\"mode\":\"lines\",\"name\":\"Input 03\",\"orientation\":\"v\",\"showlegend\":true,\"type\":\"scatter\",\"x\":[0,1,2,3,4,5,6,7,8,9,10],\"xaxis\":\"x\",\"y\":[0.048774908063770286,0.021502250258890434,0.009935547000153012,0.004224970882959304,0.0039837662453764645,0.002966297831094611,0.0048010260602032164,0.0042237437854898575,0.003995577627853064,0.0031244384574737687,0.002627036476085398],\"yaxis\":\"y\"},{\"hovertemplate\":\"Feature Name=Input 09<br>Iteration=%{x}<br>Importance=%{y}<extra></extra>\",\"legendgroup\":\"Input 09\",\"line\":{\"color\":\"#FFA15A\",\"dash\":\"solid\"},\"marker\":{\"symbol\":\"circle\"},\"mode\":\"lines\",\"name\":\"Input 09\",\"orientation\":\"v\",\"showlegend\":true,\"type\":\"scatter\",\"x\":[0,1,2,3,4,5,6,7,8,9,10],\"xaxis\":\"x\",\"y\":[0.04569149852896595,0.006273779629911687,0.005791470722253917,0.011804993991396489,0.010492781645370654,0.009432416288355682,0.010718626527780504,0.014142255890378305,0.009076334150068109,0.010297859803891885,0.010861073563068856],\"yaxis\":\"y\"},{\"hovertemplate\":\"Feature Name=Input 06<br>Iteration=%{x}<br>Importance=%{y}<extra></extra>\",\"legendgroup\":\"Input 06\",\"line\":{\"color\":\"#19d3f3\",\"dash\":\"solid\"},\"marker\":{\"symbol\":\"circle\"},\"mode\":\"lines\",\"name\":\"Input 06\",\"orientation\":\"v\",\"showlegend\":true,\"type\":\"scatter\",\"x\":[0,1,2,3,4,5,6,7,8,9,10],\"xaxis\":\"x\",\"y\":[0.04298156877879775,0.04770733118011626,0.0971165804868044,0.08167586812497435,0.0829020981624649,0.08243159296098616,0.08936702944530102,0.08240081086109347,0.08273197224140426,0.08450703744199047,0.08391080453553568],\"yaxis\":\"y\"},{\"hovertemplate\":\"Feature Name=Input 07<br>Iteration=%{x}<br>Importance=%{y}<extra></extra>\",\"legendgroup\":\"Input 07\",\"line\":{\"color\":\"#FF6692\",\"dash\":\"solid\"},\"marker\":{\"symbol\":\"circle\"},\"mode\":\"lines\",\"name\":\"Input 07\",\"orientation\":\"v\",\"showlegend\":true,\"type\":\"scatter\",\"x\":[0,1,2,3,4,5,6,7,8,9,10],\"xaxis\":\"x\",\"y\":[0.03641077255954307,0.011894345152683086,0.0063034691883546885,0.006808511812158291,0.005215953752504035,0.006638612484282412,0.0050863288220443755,0.007199089044354972,0.006898854801097948,0.005753019922184835,0.006707820688931051],\"yaxis\":\"y\"},{\"hovertemplate\":\"Feature Name=Input 04<br>Iteration=%{x}<br>Importance=%{y}<extra></extra>\",\"legendgroup\":\"Input 04\",\"line\":{\"color\":\"#B6E880\",\"dash\":\"solid\"},\"marker\":{\"symbol\":\"circle\"},\"mode\":\"lines\",\"name\":\"Input 04\",\"orientation\":\"v\",\"showlegend\":true,\"type\":\"scatter\",\"x\":[0,1,2,3,4,5,6,7,8,9,10],\"xaxis\":\"x\",\"y\":[0.03181429372855011,0.01309073573710176,0.015000433058640414,0.01570606116772093,0.014754237399166849,0.014311668684154356,0.016936868799313345,0.016076022300377902,0.016806338384912023,0.016329634859454156,0.015219600574768156],\"yaxis\":\"y\"},{\"hovertemplate\":\"Feature Name=Input 11<br>Iteration=%{x}<br>Importance=%{y}<extra></extra>\",\"legendgroup\":\"Input 11\",\"line\":{\"color\":\"#FF97FF\",\"dash\":\"solid\"},\"marker\":{\"symbol\":\"circle\"},\"mode\":\"lines\",\"name\":\"Input 11\",\"orientation\":\"v\",\"showlegend\":true,\"type\":\"scatter\",\"x\":[0,1,2,3,4,5,6,7,8,9,10],\"xaxis\":\"x\",\"y\":[0.02379684477961624,0.010265604269413321,0.006187696649576915,0.004751918051903395,0.005563353086475685,0.00543829243248496,0.004366306702723773,0.006600216135863416,0.004806318124893534,0.00688795539796084,0.0052591727023326915],\"yaxis\":\"y\"},{\"hovertemplate\":\"Feature Name=Input 02<br>Iteration=%{x}<br>Importance=%{y}<extra></extra>\",\"legendgroup\":\"Input 02\",\"line\":{\"color\":\"#FECB52\",\"dash\":\"solid\"},\"marker\":{\"symbol\":\"circle\"},\"mode\":\"lines\",\"name\":\"Input 02\",\"orientation\":\"v\",\"showlegend\":true,\"type\":\"scatter\",\"x\":[0,1,2,3,4,5,6,7,8,9,10],\"xaxis\":\"x\",\"y\":[0.022169522450135266,0.006309243066730726,0.0034849837423904712,0.0022948339606678257,0.0030962153075913957,0.0034135442076089276,0.004135818630554813,0.004030593172025914,0.003917981252693017,0.0030151268719049635,0.003949285570117829],\"yaxis\":\"y\"},{\"hovertemplate\":\"Feature Name=Input 12<br>Iteration=%{x}<br>Importance=%{y}<extra></extra>\",\"legendgroup\":\"Input 12\",\"line\":{\"color\":\"#636efa\",\"dash\":\"solid\"},\"marker\":{\"symbol\":\"circle\"},\"mode\":\"lines\",\"name\":\"Input 12\",\"orientation\":\"v\",\"showlegend\":true,\"type\":\"scatter\",\"x\":[0,1,2,3,4,5,6,7,8,9,10],\"xaxis\":\"x\",\"y\":[0.018468857743769874,0.015334512384764156,0.014007457860528436,0.012408190149752656,0.014662839748786944,0.011305858891700528,0.013288359345910926,0.013806071905494382,0.010171088525896953,0.012017080090312916,0.012670147816719723],\"yaxis\":\"y\"},{\"hovertemplate\":\"Feature Name=Input 05<br>Iteration=%{x}<br>Importance=%{y}<extra></extra>\",\"legendgroup\":\"Input 05\",\"line\":{\"color\":\"#EF553B\",\"dash\":\"solid\"},\"marker\":{\"symbol\":\"circle\"},\"mode\":\"lines\",\"name\":\"Input 05\",\"orientation\":\"v\",\"showlegend\":true,\"type\":\"scatter\",\"x\":[0,1,2,3,4,5,6,7,8,9,10],\"xaxis\":\"x\",\"y\":[0.01536968577880344,0.007805880688926132,0.007261955270980555,0.008437613711912446,0.009470660971149774,0.009741102494789516,0.007624063670497463,0.00936161664053752,0.009862142369868158,0.009952140818383718,0.008429278203643129],\"yaxis\":\"y\"},{\"hovertemplate\":\"Feature Name=Input 10<br>Iteration=%{x}<br>Importance=%{y}<extra></extra>\",\"legendgroup\":\"Input 10\",\"line\":{\"color\":\"#00cc96\",\"dash\":\"solid\"},\"marker\":{\"symbol\":\"circle\"},\"mode\":\"lines\",\"name\":\"Input 10\",\"orientation\":\"v\",\"showlegend\":true,\"type\":\"scatter\",\"x\":[0,1,2,3,4,5,6,7,8,9,10],\"xaxis\":\"x\",\"y\":[0.01367239337264559,0.006778774995171295,0.0038370064170451,0.004185841555497312,0.0071713960477960996,0.008205992540360205,0.005721848242728277,0.008113041703693586,0.007170465782365471,0.007691932291741224,0.00597329262642651],\"yaxis\":\"y\"}],                        {\"autosize\":false,\"height\":500,\"legend\":{\"title\":{\"text\":\"Feature Name\"},\"tracegroupgap\":0},\"margin\":{\"t\":60},\"template\":{\"data\":{\"bar\":[{\"error_x\":{\"color\":\"#2a3f5f\"},\"error_y\":{\"color\":\"#2a3f5f\"},\"marker\":{\"line\":{\"color\":\"#E5ECF6\",\"width\":0.5},\"pattern\":{\"fillmode\":\"overlay\",\"size\":10,\"solidity\":0.2}},\"type\":\"bar\"}],\"barpolar\":[{\"marker\":{\"line\":{\"color\":\"#E5ECF6\",\"width\":0.5},\"pattern\":{\"fillmode\":\"overlay\",\"size\":10,\"solidity\":0.2}},\"type\":\"barpolar\"}],\"carpet\":[{\"aaxis\":{\"endlinecolor\":\"#2a3f5f\",\"gridcolor\":\"white\",\"linecolor\":\"white\",\"minorgridcolor\":\"white\",\"startlinecolor\":\"#2a3f5f\"},\"baxis\":{\"endlinecolor\":\"#2a3f5f\",\"gridcolor\":\"white\",\"linecolor\":\"white\",\"minorgridcolor\":\"white\",\"startlinecolor\":\"#2a3f5f\"},\"type\":\"carpet\"}],\"choropleth\":[{\"colorbar\":{\"outlinewidth\":0,\"ticks\":\"\"},\"type\":\"choropleth\"}],\"contour\":[{\"colorbar\":{\"outlinewidth\":0,\"ticks\":\"\"},\"colorscale\":[[0.0,\"#0d0887\"],[0.1111111111111111,\"#46039f\"],[0.2222222222222222,\"#7201a8\"],[0.3333333333333333,\"#9c179e\"],[0.4444444444444444,\"#bd3786\"],[0.5555555555555556,\"#d8576b\"],[0.6666666666666666,\"#ed7953\"],[0.7777777777777778,\"#fb9f3a\"],[0.8888888888888888,\"#fdca26\"],[1.0,\"#f0f921\"]],\"type\":\"contour\"}],\"contourcarpet\":[{\"colorbar\":{\"outlinewidth\":0,\"ticks\":\"\"},\"type\":\"contourcarpet\"}],\"heatmap\":[{\"colorbar\":{\"outlinewidth\":0,\"ticks\":\"\"},\"colorscale\":[[0.0,\"#0d0887\"],[0.1111111111111111,\"#46039f\"],[0.2222222222222222,\"#7201a8\"],[0.3333333333333333,\"#9c179e\"],[0.4444444444444444,\"#bd3786\"],[0.5555555555555556,\"#d8576b\"],[0.6666666666666666,\"#ed7953\"],[0.7777777777777778,\"#fb9f3a\"],[0.8888888888888888,\"#fdca26\"],[1.0,\"#f0f921\"]],\"type\":\"heatmap\"}],\"heatmapgl\":[{\"colorbar\":{\"outlinewidth\":0,\"ticks\":\"\"},\"colorscale\":[[0.0,\"#0d0887\"],[0.1111111111111111,\"#46039f\"],[0.2222222222222222,\"#7201a8\"],[0.3333333333333333,\"#9c179e\"],[0.4444444444444444,\"#bd3786\"],[0.5555555555555556,\"#d8576b\"],[0.6666666666666666,\"#ed7953\"],[0.7777777777777778,\"#fb9f3a\"],[0.8888888888888888,\"#fdca26\"],[1.0,\"#f0f921\"]],\"type\":\"heatmapgl\"}],\"histogram\":[{\"marker\":{\"pattern\":{\"fillmode\":\"overlay\",\"size\":10,\"solidity\":0.2}},\"type\":\"histogram\"}],\"histogram2d\":[{\"colorbar\":{\"outlinewidth\":0,\"ticks\":\"\"},\"colorscale\":[[0.0,\"#0d0887\"],[0.1111111111111111,\"#46039f\"],[0.2222222222222222,\"#7201a8\"],[0.3333333333333333,\"#9c179e\"],[0.4444444444444444,\"#bd3786\"],[0.5555555555555556,\"#d8576b\"],[0.6666666666666666,\"#ed7953\"],[0.7777777777777778,\"#fb9f3a\"],[0.8888888888888888,\"#fdca26\"],[1.0,\"#f0f921\"]],\"type\":\"histogram2d\"}],\"histogram2dcontour\":[{\"colorbar\":{\"outlinewidth\":0,\"ticks\":\"\"},\"colorscale\":[[0.0,\"#0d0887\"],[0.1111111111111111,\"#46039f\"],[0.2222222222222222,\"#7201a8\"],[0.3333333333333333,\"#9c179e\"],[0.4444444444444444,\"#bd3786\"],[0.5555555555555556,\"#d8576b\"],[0.6666666666666666,\"#ed7953\"],[0.7777777777777778,\"#fb9f3a\"],[0.8888888888888888,\"#fdca26\"],[1.0,\"#f0f921\"]],\"type\":\"histogram2dcontour\"}],\"mesh3d\":[{\"colorbar\":{\"outlinewidth\":0,\"ticks\":\"\"},\"type\":\"mesh3d\"}],\"parcoords\":[{\"line\":{\"colorbar\":{\"outlinewidth\":0,\"ticks\":\"\"}},\"type\":\"parcoords\"}],\"pie\":[{\"automargin\":true,\"type\":\"pie\"}],\"scatter\":[{\"marker\":{\"colorbar\":{\"outlinewidth\":0,\"ticks\":\"\"}},\"type\":\"scatter\"}],\"scatter3d\":[{\"line\":{\"colorbar\":{\"outlinewidth\":0,\"ticks\":\"\"}},\"marker\":{\"colorbar\":{\"outlinewidth\":0,\"ticks\":\"\"}},\"type\":\"scatter3d\"}],\"scattercarpet\":[{\"marker\":{\"colorbar\":{\"outlinewidth\":0,\"ticks\":\"\"}},\"type\":\"scattercarpet\"}],\"scattergeo\":[{\"marker\":{\"colorbar\":{\"outlinewidth\":0,\"ticks\":\"\"}},\"type\":\"scattergeo\"}],\"scattergl\":[{\"marker\":{\"colorbar\":{\"outlinewidth\":0,\"ticks\":\"\"}},\"type\":\"scattergl\"}],\"scattermapbox\":[{\"marker\":{\"colorbar\":{\"outlinewidth\":0,\"ticks\":\"\"}},\"type\":\"scattermapbox\"}],\"scatterpolar\":[{\"marker\":{\"colorbar\":{\"outlinewidth\":0,\"ticks\":\"\"}},\"type\":\"scatterpolar\"}],\"scatterpolargl\":[{\"marker\":{\"colorbar\":{\"outlinewidth\":0,\"ticks\":\"\"}},\"type\":\"scatterpolargl\"}],\"scatterternary\":[{\"marker\":{\"colorbar\":{\"outlinewidth\":0,\"ticks\":\"\"}},\"type\":\"scatterternary\"}],\"surface\":[{\"colorbar\":{\"outlinewidth\":0,\"ticks\":\"\"},\"colorscale\":[[0.0,\"#0d0887\"],[0.1111111111111111,\"#46039f\"],[0.2222222222222222,\"#7201a8\"],[0.3333333333333333,\"#9c179e\"],[0.4444444444444444,\"#bd3786\"],[0.5555555555555556,\"#d8576b\"],[0.6666666666666666,\"#ed7953\"],[0.7777777777777778,\"#fb9f3a\"],[0.8888888888888888,\"#fdca26\"],[1.0,\"#f0f921\"]],\"type\":\"surface\"}],\"table\":[{\"cells\":{\"fill\":{\"color\":\"#EBF0F8\"},\"line\":{\"color\":\"white\"}},\"header\":{\"fill\":{\"color\":\"#C8D4E3\"},\"line\":{\"color\":\"white\"}},\"type\":\"table\"}]},\"layout\":{\"annotationdefaults\":{\"arrowcolor\":\"#2a3f5f\",\"arrowhead\":0,\"arrowwidth\":1},\"autotypenumbers\":\"strict\",\"coloraxis\":{\"colorbar\":{\"outlinewidth\":0,\"ticks\":\"\"}},\"colorscale\":{\"diverging\":[[0,\"#8e0152\"],[0.1,\"#c51b7d\"],[0.2,\"#de77ae\"],[0.3,\"#f1b6da\"],[0.4,\"#fde0ef\"],[0.5,\"#f7f7f7\"],[0.6,\"#e6f5d0\"],[0.7,\"#b8e186\"],[0.8,\"#7fbc41\"],[0.9,\"#4d9221\"],[1,\"#276419\"]],\"sequential\":[[0.0,\"#0d0887\"],[0.1111111111111111,\"#46039f\"],[0.2222222222222222,\"#7201a8\"],[0.3333333333333333,\"#9c179e\"],[0.4444444444444444,\"#bd3786\"],[0.5555555555555556,\"#d8576b\"],[0.6666666666666666,\"#ed7953\"],[0.7777777777777778,\"#fb9f3a\"],[0.8888888888888888,\"#fdca26\"],[1.0,\"#f0f921\"]],\"sequentialminus\":[[0.0,\"#0d0887\"],[0.1111111111111111,\"#46039f\"],[0.2222222222222222,\"#7201a8\"],[0.3333333333333333,\"#9c179e\"],[0.4444444444444444,\"#bd3786\"],[0.5555555555555556,\"#d8576b\"],[0.6666666666666666,\"#ed7953\"],[0.7777777777777778,\"#fb9f3a\"],[0.8888888888888888,\"#fdca26\"],[1.0,\"#f0f921\"]]},\"colorway\":[\"#636efa\",\"#EF553B\",\"#00cc96\",\"#ab63fa\",\"#FFA15A\",\"#19d3f3\",\"#FF6692\",\"#B6E880\",\"#FF97FF\",\"#FECB52\"],\"font\":{\"color\":\"#2a3f5f\"},\"geo\":{\"bgcolor\":\"white\",\"lakecolor\":\"white\",\"landcolor\":\"#E5ECF6\",\"showlakes\":true,\"showland\":true,\"subunitcolor\":\"white\"},\"hoverlabel\":{\"align\":\"left\"},\"hovermode\":\"closest\",\"mapbox\":{\"style\":\"light\"},\"paper_bgcolor\":\"white\",\"plot_bgcolor\":\"#E5ECF6\",\"polar\":{\"angularaxis\":{\"gridcolor\":\"white\",\"linecolor\":\"white\",\"ticks\":\"\"},\"bgcolor\":\"#E5ECF6\",\"radialaxis\":{\"gridcolor\":\"white\",\"linecolor\":\"white\",\"ticks\":\"\"}},\"scene\":{\"xaxis\":{\"backgroundcolor\":\"#E5ECF6\",\"gridcolor\":\"white\",\"gridwidth\":2,\"linecolor\":\"white\",\"showbackground\":true,\"ticks\":\"\",\"zerolinecolor\":\"white\"},\"yaxis\":{\"backgroundcolor\":\"#E5ECF6\",\"gridcolor\":\"white\",\"gridwidth\":2,\"linecolor\":\"white\",\"showbackground\":true,\"ticks\":\"\",\"zerolinecolor\":\"white\"},\"zaxis\":{\"backgroundcolor\":\"#E5ECF6\",\"gridcolor\":\"white\",\"gridwidth\":2,\"linecolor\":\"white\",\"showbackground\":true,\"ticks\":\"\",\"zerolinecolor\":\"white\"}},\"shapedefaults\":{\"line\":{\"color\":\"#2a3f5f\"}},\"ternary\":{\"aaxis\":{\"gridcolor\":\"white\",\"linecolor\":\"white\",\"ticks\":\"\"},\"baxis\":{\"gridcolor\":\"white\",\"linecolor\":\"white\",\"ticks\":\"\"},\"bgcolor\":\"#E5ECF6\",\"caxis\":{\"gridcolor\":\"white\",\"linecolor\":\"white\",\"ticks\":\"\"}},\"title\":{\"x\":0.05},\"xaxis\":{\"automargin\":true,\"gridcolor\":\"white\",\"linecolor\":\"white\",\"ticks\":\"\",\"title\":{\"standoff\":15},\"zerolinecolor\":\"white\",\"zerolinewidth\":2},\"yaxis\":{\"automargin\":true,\"gridcolor\":\"white\",\"linecolor\":\"white\",\"ticks\":\"\",\"title\":{\"standoff\":15},\"zerolinecolor\":\"white\",\"zerolinewidth\":2}}},\"title\":{\"text\":\"Feature Importance Per Iteration\"},\"width\":1000,\"xaxis\":{\"anchor\":\"y\",\"domain\":[0.0,1.0],\"title\":{\"text\":\"Iteration\"}},\"yaxis\":{\"anchor\":\"x\",\"domain\":[0.0,1.0],\"title\":{\"text\":\"Importance\"}}},                        {\"responsive\": true}                    ).then(function(){\n",
       "                            \n",
       "var gd = document.getElementById('f5a52958-2a64-4b8c-82fc-c92b4cf98dfc');\n",
       "var x = new MutationObserver(function (mutations, observer) {{\n",
       "        var display = window.getComputedStyle(gd).display;\n",
       "        if (!display || display === 'none') {{\n",
       "            console.log([gd, 'removed!']);\n",
       "            Plotly.purge(gd);\n",
       "            observer.disconnect();\n",
       "        }}\n",
       "}});\n",
       "\n",
       "// Listen for the removal of the full notebook cells\n",
       "var notebookContainer = gd.closest('#notebook-container');\n",
       "if (notebookContainer) {{\n",
       "    x.observe(notebookContainer, {childList: true});\n",
       "}}\n",
       "\n",
       "// Listen for the clearing of the current output cell\n",
       "var outputEl = gd.closest('.output');\n",
       "if (outputEl) {{\n",
       "    x.observe(outputEl, {childList: true});\n",
       "}}\n",
       "\n",
       "                        })                };                });            </script>        </div>"
      ]
     },
     "metadata": {},
     "output_type": "display_data"
    }
   ],
   "source": [
    "fig = px.line(df_imp, x='Iteration', y=\"Importance\", color = \"Feature Name\")\n",
    "\n",
    "fig.update_layout(\n",
    "    autosize=False,\n",
    "    width=1000,\n",
    "    height=500,\n",
    "    title_text=f\"Feature Importance Per Iteration\",\n",
    "    #paper_bgcolor='#2d3035',\n",
    "    #plot_bgcolor='#2d3035', \n",
    ")\n",
    "\n",
    "fig.show()"
   ]
  },
  {
   "cell_type": "code",
   "execution_count": null,
   "id": "e150112f-ebe2-49cf-959b-7d52087a90c4",
   "metadata": {},
   "outputs": [],
   "source": []
  }
 ],
 "metadata": {
  "kernelspec": {
   "display_name": "Python 3 (ipykernel)",
   "language": "python",
   "name": "python3"
  },
  "language_info": {
   "codemirror_mode": {
    "name": "ipython",
    "version": 3
   },
   "file_extension": ".py",
   "mimetype": "text/x-python",
   "name": "python",
   "nbconvert_exporter": "python",
   "pygments_lexer": "ipython3",
   "version": "3.8.11"
  }
 },
 "nbformat": 4,
 "nbformat_minor": 5
}

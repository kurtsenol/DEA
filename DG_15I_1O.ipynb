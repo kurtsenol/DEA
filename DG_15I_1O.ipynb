{
 "cells": [
  {
   "cell_type": "code",
   "execution_count": 1,
   "id": "fc798ec7",
   "metadata": {},
   "outputs": [],
   "source": [
    "import pandas as pd\n",
    "import numpy as np\n",
    "\n",
    "import matplotlib.pyplot as plt\n",
    "import seaborn as sns\n",
    "\n",
    "np.set_printoptions(linewidth=np.inf, suppress=True, precision=2)"
   ]
  },
  {
   "cell_type": "code",
   "execution_count": 2,
   "id": "0dc16ee5-c9ac-4236-9b59-996fecd94413",
   "metadata": {},
   "outputs": [],
   "source": [
    "import mitosheet"
   ]
  },
  {
   "cell_type": "code",
   "execution_count": 3,
   "id": "6d565361-d152-4459-be65-97e811d5d01e",
   "metadata": {},
   "outputs": [
    {
     "data": {
      "text/html": [
       "        <script type=\"text/javascript\">\n",
       "        window.PlotlyConfig = {MathJaxConfig: 'local'};\n",
       "        if (window.MathJax) {MathJax.Hub.Config({SVG: {font: \"STIX-Web\"}});}\n",
       "        if (typeof require !== 'undefined') {\n",
       "        require.undef(\"plotly\");\n",
       "        requirejs.config({\n",
       "            paths: {\n",
       "                'plotly': ['https://cdn.plot.ly/plotly-2.4.1.min']\n",
       "            }\n",
       "        });\n",
       "        require(['plotly'], function(Plotly) {\n",
       "            window._Plotly = Plotly;\n",
       "        });\n",
       "        }\n",
       "        </script>\n",
       "        "
      ]
     },
     "metadata": {},
     "output_type": "display_data"
    }
   ],
   "source": [
    "import plotly.express as px\n",
    "import plotly.offline as pyo\n",
    "import plotly.graph_objs as go\n",
    "from plotly.subplots import make_subplots\n",
    "import plotly.figure_factory as ff\n",
    "\n",
    "pyo.init_notebook_mode(connected=True)"
   ]
  },
  {
   "cell_type": "markdown",
   "id": "e1be4c96-efbd-4bbd-aa6b-ebc1a6e1fe20",
   "metadata": {
    "tags": []
   },
   "source": [
    "### Unstructured Variance, n_input = 15, n_output = 1 "
   ]
  },
  {
   "cell_type": "code",
   "execution_count": 4,
   "id": "b7588326-d6ae-449c-9f9d-ad8f30f46b03",
   "metadata": {},
   "outputs": [],
   "source": [
    "m = n_input = 15\n",
    "s = n_output = 1"
   ]
  },
  {
   "cell_type": "code",
   "execution_count": 5,
   "id": "b065de57-e533-44fe-9271-eaa67dedca47",
   "metadata": {},
   "outputs": [
    {
     "data": {
      "text/plain": [
       "array([45, 48, 65, 68, 68, 10, 84, 22, 37, 88, 71, 89, 89, 13, 59, 66])"
      ]
     },
     "execution_count": 5,
     "metadata": {},
     "output_type": "execute_result"
    }
   ],
   "source": [
    "np.random.seed(0)\n",
    "x_min = np.random.randint(1,101, m+s)\n",
    "x_min"
   ]
  },
  {
   "cell_type": "code",
   "execution_count": 6,
   "id": "f9fe3036-8d3c-43df-9fc2-b34359d95683",
   "metadata": {},
   "outputs": [
    {
     "data": {
      "text/plain": [
       "array([436.56,  26.9 , 550.11, 435.89, 420.95, 331.  , 205.44, 619.65, 300.36, 267.56, 621.51, 529.61, 135.45, 514.06, 185.26, 785.55])"
      ]
     },
     "execution_count": 6,
     "metadata": {},
     "output_type": "execute_result"
    }
   ],
   "source": [
    "np.random.seed(2)\n",
    "delta_x = np.random.uniform(1,1000, m+s)\n",
    "delta_x"
   ]
  },
  {
   "cell_type": "code",
   "execution_count": 7,
   "id": "a4842996-56f3-4e9c-9d4e-5f6e1ae59daa",
   "metadata": {},
   "outputs": [
    {
     "data": {
      "text/plain": [
       "array([481.56,  74.9 , 615.11, 503.89, 488.95, 341.  , 289.44, 641.65, 337.36, 355.56, 692.51, 618.61, 224.45, 527.06, 244.26, 851.55])"
      ]
     },
     "execution_count": 7,
     "metadata": {},
     "output_type": "execute_result"
    }
   ],
   "source": [
    "x_max = x_min + delta_x\n",
    "x_max"
   ]
  },
  {
   "cell_type": "code",
   "execution_count": 8,
   "id": "32f57f48-3f15-4ac3-8f9b-92b4cd980847",
   "metadata": {},
   "outputs": [
    {
     "data": {
      "text/plain": [
       "array([263.28,  61.45, 340.06, 285.94, 278.47, 175.5 , 186.72, 331.83, 187.18, 221.78, 381.76, 353.81, 156.72, 270.03, 151.63, 458.77])"
      ]
     },
     "execution_count": 8,
     "metadata": {},
     "output_type": "execute_result"
    }
   ],
   "source": [
    "mean_q = (x_min + x_max)  * 0.5\n",
    "mean_q"
   ]
  },
  {
   "cell_type": "code",
   "execution_count": 9,
   "id": "42f1f20f-8962-4149-b815-c8648c200485",
   "metadata": {},
   "outputs": [
    {
     "data": {
      "text/plain": [
       "array([ 72.76,   4.48,  91.69,  72.65,  70.16,  55.17,  34.24, 103.28,  50.06,  44.59, 103.59,  88.27,  22.57,  85.68,  30.88, 130.92])"
      ]
     },
     "execution_count": 9,
     "metadata": {},
     "output_type": "execute_result"
    }
   ],
   "source": [
    "std_max = (x_max - x_min) * 0.5 * (1/3)\n",
    "std_max"
   ]
  },
  {
   "cell_type": "code",
   "execution_count": 10,
   "id": "aa82b289-85b5-46f8-a483-4be334270e4d",
   "metadata": {},
   "outputs": [],
   "source": [
    "np.random.seed(1)\n",
    "std_list = []\n",
    "\n",
    "for i in std_max:\n",
    "    std_list.append(np.random.uniform(0,i))"
   ]
  },
  {
   "cell_type": "code",
   "execution_count": 11,
   "id": "a3188e53-6728-4980-8605-a7253fa4eaf2",
   "metadata": {},
   "outputs": [
    {
     "data": {
      "text/plain": [
       "[30.34244511132203,\n",
       " 3.229491500320609,\n",
       " 0.010486508796758554,\n",
       " 21.963809886379792,\n",
       " 10.296085950955375,\n",
       " 5.094081519382365,\n",
       " 6.377673357930631,\n",
       " 35.687881728410055,\n",
       " 19.86185037691193,\n",
       " 24.02767444117187,\n",
       " 43.42245233769633,\n",
       " 60.483520416387506,\n",
       " 4.615351611942221,\n",
       " 75.23483979425232,\n",
       " 0.8456167065009969,\n",
       " 87.78093783686644]"
      ]
     },
     "execution_count": 11,
     "metadata": {},
     "output_type": "execute_result"
    }
   ],
   "source": [
    "std_list"
   ]
  },
  {
   "cell_type": "code",
   "execution_count": 12,
   "id": "f270d63a-6393-4bd3-8e6f-e54a4f61f9e9",
   "metadata": {},
   "outputs": [],
   "source": [
    "cov_matrix_int = []\n",
    "\n",
    "for i in range(m + s):\n",
    "    for j in range(m + s):\n",
    "        \n",
    "        if j>i:\n",
    "            min_ = - std_list[i] *  std_list[j]\n",
    "            max_ = std_list[i] *  std_list[j]\n",
    "            \n",
    "            cov_matrix_int.append((i, j, min_, max_)) "
   ]
  },
  {
   "cell_type": "code",
   "execution_count": 13,
   "id": "618ef7bd-9220-4c9c-810a-e11b40f6bb47",
   "metadata": {},
   "outputs": [
    {
     "data": {
      "text/plain": [
       "[(0, 1, -97.9906685859591, 97.9906685859591),\n",
       " (0, 2, -0.318186317575042, 0.318186317575042),\n",
       " (0, 3, -666.4356959129909, 666.4356959129909)]"
      ]
     },
     "execution_count": 13,
     "metadata": {},
     "output_type": "execute_result"
    }
   ],
   "source": [
    "cov_matrix_int[:3]"
   ]
  },
  {
   "cell_type": "code",
   "execution_count": 14,
   "id": "7e183bba-dc04-4fdb-a465-a15f1d8da179",
   "metadata": {},
   "outputs": [
    {
     "data": {
      "text/plain": [
       "120"
      ]
     },
     "execution_count": 14,
     "metadata": {},
     "output_type": "execute_result"
    }
   ],
   "source": [
    "len(cov_matrix_int)"
   ]
  },
  {
   "cell_type": "code",
   "execution_count": 15,
   "id": "307417e2-b29d-4a0a-81e9-5b535b27b966",
   "metadata": {},
   "outputs": [
    {
     "data": {
      "text/plain": [
       "[-16.26213847423469,\n",
       " 0.14020847847989354,\n",
       " -666.2832489910066,\n",
       " -123.5059384572358,\n",
       " -109.1996859533871]"
      ]
     },
     "execution_count": 15,
     "metadata": {},
     "output_type": "execute_result"
    }
   ],
   "source": [
    "cov_list = []\n",
    "np.random.seed(1)\n",
    "\n",
    "for i, el in enumerate(cov_matrix_int):\n",
    "    n = np.random.uniform(el[2],el[3])\n",
    "#    print(i)\n",
    "#    if i>(len(cov_matrix_int)/2)-1:\n",
    "#        if (cov_list[el[0]-1] * cov_list[el[1]-1] < 0) and  n < 0:\n",
    "#            n = n   \n",
    "#        else:\n",
    "#            n=-n\n",
    "    cov_list.append(n)\n",
    "cov_list[:5]"
   ]
  },
  {
   "cell_type": "code",
   "execution_count": 16,
   "id": "882e72b4-abf1-46dc-892e-14378138882d",
   "metadata": {},
   "outputs": [
    {
     "name": "stdout",
     "output_type": "stream",
     "text": [
      "16\n"
     ]
    },
    {
     "data": {
      "text/plain": [
       "array([[0., 0., 0., 0., 0., 0., 0., 0., 0., 0., 0., 0., 0., 0., 0., 0.],\n",
       "       [0., 0., 0., 0., 0., 0., 0., 0., 0., 0., 0., 0., 0., 0., 0., 0.],\n",
       "       [0., 0., 0., 0., 0., 0., 0., 0., 0., 0., 0., 0., 0., 0., 0., 0.],\n",
       "       [0., 0., 0., 0., 0., 0., 0., 0., 0., 0., 0., 0., 0., 0., 0., 0.],\n",
       "       [0., 0., 0., 0., 0., 0., 0., 0., 0., 0., 0., 0., 0., 0., 0., 0.],\n",
       "       [0., 0., 0., 0., 0., 0., 0., 0., 0., 0., 0., 0., 0., 0., 0., 0.],\n",
       "       [0., 0., 0., 0., 0., 0., 0., 0., 0., 0., 0., 0., 0., 0., 0., 0.],\n",
       "       [0., 0., 0., 0., 0., 0., 0., 0., 0., 0., 0., 0., 0., 0., 0., 0.],\n",
       "       [0., 0., 0., 0., 0., 0., 0., 0., 0., 0., 0., 0., 0., 0., 0., 0.],\n",
       "       [0., 0., 0., 0., 0., 0., 0., 0., 0., 0., 0., 0., 0., 0., 0., 0.],\n",
       "       [0., 0., 0., 0., 0., 0., 0., 0., 0., 0., 0., 0., 0., 0., 0., 0.],\n",
       "       [0., 0., 0., 0., 0., 0., 0., 0., 0., 0., 0., 0., 0., 0., 0., 0.],\n",
       "       [0., 0., 0., 0., 0., 0., 0., 0., 0., 0., 0., 0., 0., 0., 0., 0.],\n",
       "       [0., 0., 0., 0., 0., 0., 0., 0., 0., 0., 0., 0., 0., 0., 0., 0.],\n",
       "       [0., 0., 0., 0., 0., 0., 0., 0., 0., 0., 0., 0., 0., 0., 0., 0.],\n",
       "       [0., 0., 0., 0., 0., 0., 0., 0., 0., 0., 0., 0., 0., 0., 0., 0.]])"
      ]
     },
     "execution_count": 16,
     "metadata": {},
     "output_type": "execute_result"
    }
   ],
   "source": [
    "cov_matrix = np.zeros((m + s, m + s))\n",
    "print(len(cov_matrix))\n",
    "cov_matrix"
   ]
  },
  {
   "cell_type": "code",
   "execution_count": 17,
   "id": "d31fcdce-2d9c-470a-b316-83b45633c9e6",
   "metadata": {},
   "outputs": [
    {
     "name": "stdout",
     "output_type": "stream",
     "text": [
      "[[  920.66   -16.26     0.14  -666.28  -123.51  -109.2   -157.78  -679.47  -186.15  -150.53   102.29  -296.59    51.88 -1349.36    19.4  -2517.6 ]\n",
      " [  -16.26    10.43     0.01   -11.73     3.9    -11.83   -12.44    69.32    60.07   -28.96    53.94   147.04    11.76  -201.64    -2.52  -187.2 ]\n",
      " [    0.14     0.01     0.       0.17    -0.09    -0.01     0.06     0.02     0.08    -0.09     0.17     0.42    -0.05     0.39     0.01     0.46]\n",
      " [ -666.28   -11.73     0.17   482.41   -99.3     64.73  -111.16   -81.69   356.49  -217.84  -404.81  -982.98   -97.44   591.03   -10.71  -904.05]\n",
      " [ -123.51     3.9     -0.09   -99.3    106.01    -0.88   -58.66    54.47  -144.49    44.19   178.62  -495.29    -8.17   301.17    -1.49  -813.5 ]\n",
      " [ -109.2    -11.83    -0.01    64.73    -0.88    25.95     2.33    59.55     3.01   108.84    38.29   248.58   -17.05  -276.5      2.65   -91.51]\n",
      " [ -157.78   -12.44     0.06  -111.16   -58.66     2.33    40.67  -152.33   108.31   -46.66   138.92   174.35    22.57   118.68     2.71  -169.18]\n",
      " [ -679.47    69.32     0.02   -81.69    54.47    59.55  -152.33  1273.62  -326.16   678.94  -222.87  2006.74    53.84   653.5    -23.25  2816.24]\n",
      " [ -186.15    60.07     0.08   356.49  -144.49     3.01   108.31  -326.16   394.49   -47.81   135.21  -220.71   -48.21  1205.54     2.47 -1733.48]\n",
      " [ -150.53   -28.96    -0.09  -217.84    44.19   108.84   -46.66   678.94   -47.81   577.33   244.44  -503.87     6.    1395.35    -5.8   1723.34]\n",
      " [  102.29    53.94     0.17  -404.81   178.62    38.29   138.92  -222.87   135.21   244.44  1885.51   647.97  -194.07  2805.84    14.02  3791.25]\n",
      " [ -296.59   147.04     0.42  -982.98  -495.29   248.58   174.35  2006.74  -220.71  -503.87   647.97  3658.26  -182.93 -3302.4     44.25  2089.93]\n",
      " [   51.88    11.76    -0.05   -97.44    -8.17   -17.05    22.57    53.84   -48.21     6.    -194.07  -182.93    21.3   -301.4      1.99   205.71]\n",
      " [-1349.36  -201.64     0.39   591.03   301.17  -276.5    118.68   653.5   1205.54  1395.35  2805.84 -3302.4   -301.4   5660.28    53.83  2793.9 ]\n",
      " [   19.4     -2.52     0.01   -10.71    -1.49     2.65     2.71   -23.25     2.47    -5.8     14.02    44.25     1.99    53.83     0.72   -55.78]\n",
      " [-2517.6   -187.2      0.46  -904.05  -813.5    -91.51  -169.18  2816.24 -1733.48  1723.34  3791.25  2089.93   205.71  2793.9    -55.78  7705.49]]\n"
     ]
    }
   ],
   "source": [
    "k=0\n",
    "l=0\n",
    "for i in range(len(cov_matrix)):\n",
    "    for j in range(len(cov_matrix)):\n",
    "        if j>i:\n",
    "            cov_matrix[i][j] = cov_matrix[j][i] = cov_list[k]\n",
    "            k += 1\n",
    "        if i == j:\n",
    "            cov_matrix[i][j] = np.square(std_list[l]) \n",
    "            l += 1 \n",
    "np.set_printoptions(suppress=True)\n",
    "print(cov_matrix)"
   ]
  },
  {
   "cell_type": "code",
   "execution_count": 18,
   "id": "2031ba96-620e-4258-a51b-420a11c76cb0",
   "metadata": {},
   "outputs": [
    {
     "data": {
      "image/png": "[encoded data removed]",
      "text/plain": [
       "<Figure size 1152x576 with 2 Axes>"
      ]
     },
     "metadata": {
      "needs_background": "light"
     },
     "output_type": "display_data"
    }
   ],
   "source": [
    "plt.figure(figsize = (16,8))\n",
    "sns.heatmap(cov_matrix, annot=True, fmt='.2f', cmap='YlGnBu');"
   ]
  },
  {
   "cell_type": "code",
   "execution_count": 19,
   "id": "86a9855e-5544-4976-8f0d-75b08897a515",
   "metadata": {},
   "outputs": [
    {
     "data": {
      "text/plain": [
       "array([[ True,  True,  True,  True,  True,  True,  True,  True,  True,  True,  True,  True,  True,  True,  True,  True],\n",
       "       [False,  True,  True,  True,  True,  True,  True,  True,  True,  True,  True,  True,  True,  True,  True,  True],\n",
       "       [False, False,  True,  True,  True,  True,  True,  True,  True,  True,  True,  True,  True,  True,  True,  True],\n",
       "       [False, False, False,  True,  True,  True,  True,  True,  True,  True,  True,  True,  True,  True,  True,  True],\n",
       "       [False, False, False, False,  True,  True,  True,  True,  True,  True,  True,  True,  True,  True,  True,  True],\n",
       "       [False, False, False, False, False,  True,  True,  True,  True,  True,  True,  True,  True,  True,  True,  True],\n",
       "       [False, False, False, False, False, False,  True,  True,  True,  True,  True,  True,  True,  True,  True,  True],\n",
       "       [False, False, False, False, False, False, False,  True,  True,  True,  True,  True,  True,  True,  True,  True],\n",
       "       [False, False, False, False, False, False, False, False,  True,  True,  True,  True,  True,  True,  True,  True],\n",
       "       [False, False, False, False, False, False, False, False, False,  True,  True,  True,  True,  True,  True,  True],\n",
       "       [False, False, False, False, False, False, False, False, False, False,  True,  True,  True,  True,  True,  True],\n",
       "       [False, False, False, False, False, False, False, False, False, False, False,  True,  True,  True,  True,  True],\n",
       "       [False, False, False, False, False, False, False, False, False, False, False, False,  True,  True,  True,  True],\n",
       "       [False, False, False, False, False, False, False, False, False, False, False, False, False,  True,  True,  True],\n",
       "       [False, False, False, False, False, False, False, False, False, False, False, False, False, False,  True,  True],\n",
       "       [False, False, False, False, False, False, False, False, False, False, False, False, False, False, False,  True]])"
      ]
     },
     "execution_count": 19,
     "metadata": {},
     "output_type": "execute_result"
    }
   ],
   "source": [
    "mask = np.triu(np.ones_like(cov_matrix, dtype=bool))\n",
    "# mask[np.triu_indices_from(mask)] = True\n",
    "mask"
   ]
  },
  {
   "cell_type": "code",
   "execution_count": 20,
   "id": "430134a8-aaf1-4246-b608-0ce01981ad89",
   "metadata": {},
   "outputs": [
    {
     "data": {
      "text/html": [
       "<div><div id=1faa31d0-0a8a-4691-964c-4c69a5f388a2 style=\"display:none; background-color:#9D6CFF; color:white; width:200px; height:30px; padding-left:5px; border-radius:4px; flex-direction:row; justify-content:space-around; align-items:center;\" onmouseover=\"this.style.backgroundColor='#BA9BF8'\" onmouseout=\"this.style.backgroundColor='#9D6CFF'\" onclick=\"window.commands?.execute('create-mitosheet-from-dataframe-output');\">See Full Dataframe in Mito</div> <script> if (window.commands.hasCommand('create-mitosheet-from-dataframe-output')) document.getElementById('1faa31d0-0a8a-4691-964c-4c69a5f388a2').style.display = 'flex' </script> <table border=\"1\" class=\"dataframe\">\n",
       "  <thead>\n",
       "    <tr style=\"text-align: right;\">\n",
       "      <th></th>\n",
       "      <th>0</th>\n",
       "      <th>1</th>\n",
       "      <th>2</th>\n",
       "      <th>3</th>\n",
       "      <th>4</th>\n",
       "      <th>5</th>\n",
       "      <th>6</th>\n",
       "      <th>7</th>\n",
       "      <th>8</th>\n",
       "      <th>9</th>\n",
       "      <th>10</th>\n",
       "      <th>11</th>\n",
       "      <th>12</th>\n",
       "      <th>13</th>\n",
       "      <th>14</th>\n",
       "      <th>15</th>\n",
       "    </tr>\n",
       "  </thead>\n",
       "  <tbody>\n",
       "    <tr>\n",
       "      <th>0</th>\n",
       "      <td>920.663975</td>\n",
       "      <td>NaN</td>\n",
       "      <td>NaN</td>\n",
       "      <td>NaN</td>\n",
       "      <td>NaN</td>\n",
       "      <td>NaN</td>\n",
       "      <td>NaN</td>\n",
       "      <td>NaN</td>\n",
       "      <td>NaN</td>\n",
       "      <td>NaN</td>\n",
       "      <td>NaN</td>\n",
       "      <td>NaN</td>\n",
       "      <td>NaN</td>\n",
       "      <td>NaN</td>\n",
       "      <td>NaN</td>\n",
       "      <td>NaN</td>\n",
       "    </tr>\n",
       "    <tr>\n",
       "      <th>1</th>\n",
       "      <td>-16.262138</td>\n",
       "      <td>10.429615</td>\n",
       "      <td>NaN</td>\n",
       "      <td>NaN</td>\n",
       "      <td>NaN</td>\n",
       "      <td>NaN</td>\n",
       "      <td>NaN</td>\n",
       "      <td>NaN</td>\n",
       "      <td>NaN</td>\n",
       "      <td>NaN</td>\n",
       "      <td>NaN</td>\n",
       "      <td>NaN</td>\n",
       "      <td>NaN</td>\n",
       "      <td>NaN</td>\n",
       "      <td>NaN</td>\n",
       "      <td>NaN</td>\n",
       "    </tr>\n",
       "    <tr>\n",
       "      <th>2</th>\n",
       "      <td>0.140208</td>\n",
       "      <td>0.011546</td>\n",
       "      <td>0.000110</td>\n",
       "      <td>NaN</td>\n",
       "      <td>NaN</td>\n",
       "      <td>NaN</td>\n",
       "      <td>NaN</td>\n",
       "      <td>NaN</td>\n",
       "      <td>NaN</td>\n",
       "      <td>NaN</td>\n",
       "      <td>NaN</td>\n",
       "      <td>NaN</td>\n",
       "      <td>NaN</td>\n",
       "      <td>NaN</td>\n",
       "      <td>NaN</td>\n",
       "      <td>NaN</td>\n",
       "    </tr>\n",
       "    <tr>\n",
       "      <th>3</th>\n",
       "      <td>-666.283249</td>\n",
       "      <td>-11.731461</td>\n",
       "      <td>0.174190</td>\n",
       "      <td>482.408945</td>\n",
       "      <td>NaN</td>\n",
       "      <td>NaN</td>\n",
       "      <td>NaN</td>\n",
       "      <td>NaN</td>\n",
       "      <td>NaN</td>\n",
       "      <td>NaN</td>\n",
       "      <td>NaN</td>\n",
       "      <td>NaN</td>\n",
       "      <td>NaN</td>\n",
       "      <td>NaN</td>\n",
       "      <td>NaN</td>\n",
       "      <td>NaN</td>\n",
       "    </tr>\n",
       "    <tr>\n",
       "      <th>4</th>\n",
       "      <td>-123.505938</td>\n",
       "      <td>3.903005</td>\n",
       "      <td>-0.086733</td>\n",
       "      <td>-99.301351</td>\n",
       "      <td>106.009386</td>\n",
       "      <td>NaN</td>\n",
       "      <td>NaN</td>\n",
       "      <td>NaN</td>\n",
       "      <td>NaN</td>\n",
       "      <td>NaN</td>\n",
       "      <td>NaN</td>\n",
       "      <td>NaN</td>\n",
       "      <td>NaN</td>\n",
       "      <td>NaN</td>\n",
       "      <td>NaN</td>\n",
       "      <td>NaN</td>\n",
       "    </tr>\n",
       "    <tr>\n",
       "      <th>...</th>\n",
       "      <td>...</td>\n",
       "      <td>...</td>\n",
       "      <td>...</td>\n",
       "      <td>...</td>\n",
       "      <td>...</td>\n",
       "      <td>...</td>\n",
       "      <td>...</td>\n",
       "      <td>...</td>\n",
       "      <td>...</td>\n",
       "      <td>...</td>\n",
       "      <td>...</td>\n",
       "      <td>...</td>\n",
       "      <td>...</td>\n",
       "      <td>...</td>\n",
       "      <td>...</td>\n",
       "      <td>...</td>\n",
       "    </tr>\n",
       "    <tr>\n",
       "      <th>11</th>\n",
       "      <td>-296.591347</td>\n",
       "      <td>147.040950</td>\n",
       "      <td>0.424480</td>\n",
       "      <td>-982.976009</td>\n",
       "      <td>-495.287319</td>\n",
       "      <td>248.582701</td>\n",
       "      <td>174.354796</td>\n",
       "      <td>2006.741187</td>\n",
       "      <td>-220.713206</td>\n",
       "      <td>-503.866418</td>\n",
       "      <td>647.971900</td>\n",
       "      <td>3658.256242</td>\n",
       "      <td>NaN</td>\n",
       "      <td>NaN</td>\n",
       "      <td>NaN</td>\n",
       "      <td>NaN</td>\n",
       "    </tr>\n",
       "    <tr>\n",
       "      <th>12</th>\n",
       "      <td>51.876668</td>\n",
       "      <td>11.763413</td>\n",
       "      <td>-0.046629</td>\n",
       "      <td>-97.444221</td>\n",
       "      <td>-8.168129</td>\n",
       "      <td>-17.046648</td>\n",
       "      <td>22.565387</td>\n",
       "      <td>53.841592</td>\n",
       "      <td>-48.213170</td>\n",
       "      <td>6.001280</td>\n",
       "      <td>-194.068418</td>\n",
       "      <td>-182.934072</td>\n",
       "      <td>21.301471</td>\n",
       "      <td>NaN</td>\n",
       "      <td>NaN</td>\n",
       "      <td>NaN</td>\n",
       "    </tr>\n",
       "    <tr>\n",
       "      <th>13</th>\n",
       "      <td>-1349.358127</td>\n",
       "      <td>-201.643845</td>\n",
       "      <td>0.394703</td>\n",
       "      <td>591.031306</td>\n",
       "      <td>301.174202</td>\n",
       "      <td>-276.496416</td>\n",
       "      <td>118.681597</td>\n",
       "      <td>653.499218</td>\n",
       "      <td>1205.542561</td>\n",
       "      <td>1395.349143</td>\n",
       "      <td>2805.840890</td>\n",
       "      <td>-3302.404297</td>\n",
       "      <td>-301.400068</td>\n",
       "      <td>5660.281119</td>\n",
       "      <td>NaN</td>\n",
       "      <td>NaN</td>\n",
       "    </tr>\n",
       "    <tr>\n",
       "      <th>14</th>\n",
       "      <td>19.403534</td>\n",
       "      <td>-2.517602</td>\n",
       "      <td>0.008670</td>\n",
       "      <td>-10.711842</td>\n",
       "      <td>-1.494404</td>\n",
       "      <td>2.648262</td>\n",
       "      <td>2.706699</td>\n",
       "      <td>-23.252599</td>\n",
       "      <td>2.474969</td>\n",
       "      <td>-5.800044</td>\n",
       "      <td>14.018993</td>\n",
       "      <td>44.250947</td>\n",
       "      <td>1.994052</td>\n",
       "      <td>53.825504</td>\n",
       "      <td>0.715068</td>\n",
       "      <td>NaN</td>\n",
       "    </tr>\n",
       "    <tr>\n",
       "      <th>15</th>\n",
       "      <td>-2517.595221</td>\n",
       "      <td>-187.198091</td>\n",
       "      <td>0.456881</td>\n",
       "      <td>-904.053878</td>\n",
       "      <td>-813.504200</td>\n",
       "      <td>-91.510317</td>\n",
       "      <td>-169.184945</td>\n",
       "      <td>2816.244140</td>\n",
       "      <td>-1733.483070</td>\n",
       "      <td>1723.341636</td>\n",
       "      <td>3791.254802</td>\n",
       "      <td>2089.933387</td>\n",
       "      <td>205.710744</td>\n",
       "      <td>2793.897189</td>\n",
       "      <td>-55.780002</td>\n",
       "      <td>7705.493048</td>\n",
       "    </tr>\n",
       "  </tbody>\n",
       "</table></div>"
      ],
      "text/plain": [
       "             0           1         2           3           4           5   \\\n",
       "0    920.663975         NaN       NaN         NaN         NaN         NaN   \n",
       "1    -16.262138   10.429615       NaN         NaN         NaN         NaN   \n",
       "2      0.140208    0.011546  0.000110         NaN         NaN         NaN   \n",
       "3   -666.283249  -11.731461  0.174190  482.408945         NaN         NaN   \n",
       "4   -123.505938    3.903005 -0.086733  -99.301351  106.009386         NaN   \n",
       "5   -109.199686  -11.832200 -0.008429   64.732289   -0.883960   25.949667   \n",
       "6   -157.776545  -12.436191  0.061247 -111.158619  -58.656962    2.332433   \n",
       "7   -679.471024   69.323855  0.024824  -81.686470   54.468361   59.554743   \n",
       "8   -186.147850   60.072039  0.079929  356.492962 -144.487531    3.012898   \n",
       "9   -150.525079  -28.955512 -0.092968 -217.835839   44.186772  108.835847   \n",
       "10   102.285462   53.939740  0.169846 -404.806864  178.616455   38.291519   \n",
       "11  -296.591347  147.040950  0.424480 -982.976009 -495.287319  248.582701   \n",
       "12    51.876668   11.763413 -0.046629  -97.444221   -8.168129  -17.046648   \n",
       "13 -1349.358127 -201.643845  0.394703  591.031306  301.174202 -276.496416   \n",
       "14    19.403534   -2.517602  0.008670  -10.711842   -1.494404    2.648262   \n",
       "15 -2517.595221 -187.198091  0.456881 -904.053878 -813.504200  -91.510317   \n",
       "\n",
       "            6            7            8            9            10  \\\n",
       "0          NaN          NaN          NaN          NaN          NaN   \n",
       "1          NaN          NaN          NaN          NaN          NaN   \n",
       "2          NaN          NaN          NaN          NaN          NaN   \n",
       "3          NaN          NaN          NaN          NaN          NaN   \n",
       "4          NaN          NaN          NaN          NaN          NaN   \n",
       "5          NaN          NaN          NaN          NaN          NaN   \n",
       "6    40.674717          NaN          NaN          NaN          NaN   \n",
       "7  -152.334553  1273.624902          NaN          NaN          NaN   \n",
       "8   108.307071  -326.162813   394.493100          NaN          NaN   \n",
       "9   -46.656920   678.942333   -47.807273   577.329139          NaN   \n",
       "10  138.916907  -222.867744   135.214285   244.444077  1885.509367   \n",
       "11  174.354796  2006.741187  -220.713206  -503.866418   647.971900   \n",
       "12   22.565387    53.841592   -48.213170     6.001280  -194.068418   \n",
       "13  118.681597   653.499218  1205.542561  1395.349143  2805.840890   \n",
       "14    2.706699   -23.252599     2.474969    -5.800044    14.018993   \n",
       "15 -169.184945  2816.244140 -1733.483070  1723.341636  3791.254802   \n",
       "\n",
       "             11          12           13         14           15  \n",
       "0           NaN         NaN          NaN        NaN          NaN  \n",
       "1           NaN         NaN          NaN        NaN          NaN  \n",
       "2           NaN         NaN          NaN        NaN          NaN  \n",
       "3           NaN         NaN          NaN        NaN          NaN  \n",
       "4           NaN         NaN          NaN        NaN          NaN  \n",
       "5           NaN         NaN          NaN        NaN          NaN  \n",
       "6           NaN         NaN          NaN        NaN          NaN  \n",
       "7           NaN         NaN          NaN        NaN          NaN  \n",
       "8           NaN         NaN          NaN        NaN          NaN  \n",
       "9           NaN         NaN          NaN        NaN          NaN  \n",
       "10          NaN         NaN          NaN        NaN          NaN  \n",
       "11  3658.256242         NaN          NaN        NaN          NaN  \n",
       "12  -182.934072   21.301471          NaN        NaN          NaN  \n",
       "13 -3302.404297 -301.400068  5660.281119        NaN          NaN  \n",
       "14    44.250947    1.994052    53.825504   0.715068          NaN  \n",
       "15  2089.933387  205.710744  2793.897189 -55.780002  7705.493048  "
      ]
     },
     "execution_count": 20,
     "metadata": {},
     "output_type": "execute_result"
    }
   ],
   "source": [
    "pd.DataFrame(cov_matrix).mask(~mask).T"
   ]
  },
  {
   "cell_type": "code",
   "execution_count": 21,
   "id": "e6083f55-291c-4cad-bb79-cd30f48a0e2f",
   "metadata": {},
   "outputs": [
    {
     "data": {
      "text/plain": [
       "array([[     nan,      nan,      nan,      nan,      nan,      nan,      nan,      nan,      nan,      nan,      nan,      nan,      nan,      nan,      nan,      nan],\n",
       "       [  -16.26,      nan,      nan,      nan,      nan,      nan,      nan,      nan,      nan,      nan,      nan,      nan,      nan,      nan,      nan,      nan],\n",
       "       [    0.14,     0.01,      nan,      nan,      nan,      nan,      nan,      nan,      nan,      nan,      nan,      nan,      nan,      nan,      nan,      nan],\n",
       "       [ -666.28,   -11.73,     0.17,      nan,      nan,      nan,      nan,      nan,      nan,      nan,      nan,      nan,      nan,      nan,      nan,      nan],\n",
       "       [ -123.51,     3.9 ,    -0.09,   -99.3 ,      nan,      nan,      nan,      nan,      nan,      nan,      nan,      nan,      nan,      nan,      nan,      nan],\n",
       "       [ -109.2 ,   -11.83,    -0.01,    64.73,    -0.88,      nan,      nan,      nan,      nan,      nan,      nan,      nan,      nan,      nan,      nan,      nan],\n",
       "       [ -157.78,   -12.44,     0.06,  -111.16,   -58.66,     2.33,      nan,      nan,      nan,      nan,      nan,      nan,      nan,      nan,      nan,      nan],\n",
       "       [ -679.47,    69.32,     0.02,   -81.69,    54.47,    59.55,  -152.33,      nan,      nan,      nan,      nan,      nan,      nan,      nan,      nan,      nan],\n",
       "       [ -186.15,    60.07,     0.08,   356.49,  -144.49,     3.01,   108.31,  -326.16,      nan,      nan,      nan,      nan,      nan,      nan,      nan,      nan],\n",
       "       [ -150.53,   -28.96,    -0.09,  -217.84,    44.19,   108.84,   -46.66,   678.94,   -47.81,      nan,      nan,      nan,      nan,      nan,      nan,      nan],\n",
       "       [  102.29,    53.94,     0.17,  -404.81,   178.62,    38.29,   138.92,  -222.87,   135.21,   244.44,      nan,      nan,      nan,      nan,      nan,      nan],\n",
       "       [ -296.59,   147.04,     0.42,  -982.98,  -495.29,   248.58,   174.35,  2006.74,  -220.71,  -503.87,   647.97,      nan,      nan,      nan,      nan,      nan],\n",
       "       [   51.88,    11.76,    -0.05,   -97.44,    -8.17,   -17.05,    22.57,    53.84,   -48.21,     6.  ,  -194.07,  -182.93,      nan,      nan,      nan,      nan],\n",
       "       [-1349.36,  -201.64,     0.39,   591.03,   301.17,  -276.5 ,   118.68,   653.5 ,  1205.54,  1395.35,  2805.84, -3302.4 ,  -301.4 ,      nan,      nan,      nan],\n",
       "       [   19.4 ,    -2.52,     0.01,   -10.71,    -1.49,     2.65,     2.71,   -23.25,     2.47,    -5.8 ,    14.02,    44.25,     1.99,    53.83,      nan,      nan],\n",
       "       [-2517.6 ,  -187.2 ,     0.46,  -904.05,  -813.5 ,   -91.51,  -169.18,  2816.24, -1733.48,  1723.34,  3791.25,  2089.93,   205.71,  2793.9 ,   -55.78,      nan]])"
      ]
     },
     "execution_count": 21,
     "metadata": {},
     "output_type": "execute_result"
    }
   ],
   "source": [
    "pd.DataFrame(cov_matrix).mask(mask).to_numpy()"
   ]
  },
  {
   "cell_type": "code",
   "execution_count": 22,
   "id": "3396df51-0aa7-4b41-9abf-7ea62735dfd0",
   "metadata": {},
   "outputs": [],
   "source": [
    "my_colorsc=[[0, '#2effd7'],#white\n",
    "            [1, '#006a55']]"
   ]
  },
  {
   "cell_type": "code",
   "execution_count": 23,
   "id": "ece74bd6-9296-4513-b278-12981080ba3c",
   "metadata": {},
   "outputs": [
    {
     "data": {
      "application/vnd.plotly.v1+json": {
       "config": {
        "plotlyServerURL": "https://plot.ly"
       },
       "data": [
        {
         "colorscale": [
          [
           0,
           "#2effd7"
          ],
          [
           1,
           "#006a55"
          ]
         ],
         "reversescale": false,
         "showscale": true,
         "type": "heatmap",
         "x": [
          0,
          1,
          2,
          3,
          4,
          5,
          6,
          7,
          8,
          9,
          10,
          11,
          12,
          13,
          14,
          15
         ],
         "y": [
          0,
          1,
          2,
          3,
          4,
          5,
          6,
          7,
          8,
          9,
          10,
          11,
          12,
          13,
          14,
          15
         ],
         "z": [
          [
           920.66,
           -16.26,
           0.14,
           -666.28,
           -123.51,
           -109.2,
           -157.78,
           -679.47,
           -186.15,
           -150.53,
           102.29,
           -296.59,
           51.88,
           -1349.36,
           19.4,
           -2517.6
          ],
          [
           -16.26,
           10.43,
           0.01,
           -11.73,
           3.9,
           -11.83,
           -12.44,
           69.32,
           60.07,
           -28.96,
           53.94,
           147.04,
           11.76,
           -201.64,
           -2.52,
           -187.2
          ],
          [
           0.14,
           0.01,
           0,
           0.17,
           -0.09,
           -0.01,
           0.06,
           0.02,
           0.08,
           -0.09,
           0.17,
           0.42,
           -0.05,
           0.39,
           0.01,
           0.46
          ],
          [
           -666.28,
           -11.73,
           0.17,
           482.41,
           -99.3,
           64.73,
           -111.16,
           -81.69,
           356.49,
           -217.84,
           -404.81,
           -982.98,
           -97.44,
           591.03,
           -10.71,
           -904.05
          ],
          [
           -123.51,
           3.9,
           -0.09,
           -99.3,
           106.01,
           -0.88,
           -58.66,
           54.47,
           -144.49,
           44.19,
           178.62,
           -495.29,
           -8.17,
           301.17,
           -1.49,
           -813.5
          ],
          [
           -109.2,
           -11.83,
           -0.01,
           64.73,
           -0.88,
           25.95,
           2.33,
           59.55,
           3.01,
           108.84,
           38.29,
           248.58,
           -17.05,
           -276.5,
           2.65,
           -91.51
          ],
          [
           -157.78,
           -12.44,
           0.06,
           -111.16,
           -58.66,
           2.33,
           40.67,
           -152.33,
           108.31,
           -46.66,
           138.92,
           174.35,
           22.57,
           118.68,
           2.71,
           -169.18
          ],
          [
           -679.47,
           69.32,
           0.02,
           -81.69,
           54.47,
           59.55,
           -152.33,
           1273.62,
           -326.16,
           678.94,
           -222.87,
           2006.74,
           53.84,
           653.5,
           -23.25,
           2816.24
          ],
          [
           -186.15,
           60.07,
           0.08,
           356.49,
           -144.49,
           3.01,
           108.31,
           -326.16,
           394.49,
           -47.81,
           135.21,
           -220.71,
           -48.21,
           1205.54,
           2.47,
           -1733.48
          ],
          [
           -150.53,
           -28.96,
           -0.09,
           -217.84,
           44.19,
           108.84,
           -46.66,
           678.94,
           -47.81,
           577.33,
           244.44,
           -503.87,
           6,
           1395.35,
           -5.8,
           1723.34
          ],
          [
           102.29,
           53.94,
           0.17,
           -404.81,
           178.62,
           38.29,
           138.92,
           -222.87,
           135.21,
           244.44,
           1885.51,
           647.97,
           -194.07,
           2805.84,
           14.02,
           3791.25
          ],
          [
           -296.59,
           147.04,
           0.42,
           -982.98,
           -495.29,
           248.58,
           174.35,
           2006.74,
           -220.71,
           -503.87,
           647.97,
           3658.26,
           -182.93,
           -3302.4,
           44.25,
           2089.93
          ],
          [
           51.88,
           11.76,
           -0.05,
           -97.44,
           -8.17,
           -17.05,
           22.57,
           53.84,
           -48.21,
           6,
           -194.07,
           -182.93,
           21.3,
           -301.4,
           1.99,
           205.71
          ],
          [
           -1349.36,
           -201.64,
           0.39,
           591.03,
           301.17,
           -276.5,
           118.68,
           653.5,
           1205.54,
           1395.35,
           2805.84,
           -3302.4,
           -301.4,
           5660.28,
           53.83,
           2793.9
          ],
          [
           19.4,
           -2.52,
           0.01,
           -10.71,
           -1.49,
           2.65,
           2.71,
           -23.25,
           2.47,
           -5.8,
           14.02,
           44.25,
           1.99,
           53.83,
           0.72,
           -55.78
          ],
          [
           -2517.6,
           -187.2,
           0.46,
           -904.05,
           -813.5,
           -91.51,
           -169.18,
           2816.24,
           -1733.48,
           1723.34,
           3791.25,
           2089.93,
           205.71,
           2793.9,
           -55.78,
           7705.49
          ]
         ]
        }
       ],
       "layout": {
        "annotations": [
         {
          "font": {
           "color": "#000000"
          },
          "showarrow": false,
          "text": "920.66",
          "x": 0,
          "xref": "x",
          "y": 0,
          "yref": "y"
         },
         {
          "font": {
           "color": "#000000"
          },
          "showarrow": false,
          "text": "-16.26",
          "x": 1,
          "xref": "x",
          "y": 0,
          "yref": "y"
         },
         {
          "font": {
           "color": "#000000"
          },
          "showarrow": false,
          "text": "0.14",
          "x": 2,
          "xref": "x",
          "y": 0,
          "yref": "y"
         },
         {
          "font": {
           "color": "#000000"
          },
          "showarrow": false,
          "text": "-666.28",
          "x": 3,
          "xref": "x",
          "y": 0,
          "yref": "y"
         },
         {
          "font": {
           "color": "#000000"
          },
          "showarrow": false,
          "text": "-123.51",
          "x": 4,
          "xref": "x",
          "y": 0,
          "yref": "y"
         },
         {
          "font": {
           "color": "#000000"
          },
          "showarrow": false,
          "text": "-109.2",
          "x": 5,
          "xref": "x",
          "y": 0,
          "yref": "y"
         },
         {
          "font": {
           "color": "#000000"
          },
          "showarrow": false,
          "text": "-157.78",
          "x": 6,
          "xref": "x",
          "y": 0,
          "yref": "y"
         },
         {
          "font": {
           "color": "#000000"
          },
          "showarrow": false,
          "text": "-679.47",
          "x": 7,
          "xref": "x",
          "y": 0,
          "yref": "y"
         },
         {
          "font": {
           "color": "#000000"
          },
          "showarrow": false,
          "text": "-186.15",
          "x": 8,
          "xref": "x",
          "y": 0,
          "yref": "y"
         },
         {
          "font": {
           "color": "#000000"
          },
          "showarrow": false,
          "text": "-150.53",
          "x": 9,
          "xref": "x",
          "y": 0,
          "yref": "y"
         },
         {
          "font": {
           "color": "#000000"
          },
          "showarrow": false,
          "text": "102.29",
          "x": 10,
          "xref": "x",
          "y": 0,
          "yref": "y"
         },
         {
          "font": {
           "color": "#000000"
          },
          "showarrow": false,
          "text": "-296.59",
          "x": 11,
          "xref": "x",
          "y": 0,
          "yref": "y"
         },
         {
          "font": {
           "color": "#000000"
          },
          "showarrow": false,
          "text": "51.88",
          "x": 12,
          "xref": "x",
          "y": 0,
          "yref": "y"
         },
         {
          "font": {
           "color": "#000000"
          },
          "showarrow": false,
          "text": "-1349.36",
          "x": 13,
          "xref": "x",
          "y": 0,
          "yref": "y"
         },
         {
          "font": {
           "color": "#000000"
          },
          "showarrow": false,
          "text": "19.4",
          "x": 14,
          "xref": "x",
          "y": 0,
          "yref": "y"
         },
         {
          "font": {
           "color": "#000000"
          },
          "showarrow": false,
          "text": "-2517.6",
          "x": 15,
          "xref": "x",
          "y": 0,
          "yref": "y"
         },
         {
          "font": {
           "color": "#000000"
          },
          "showarrow": false,
          "text": "-16.26",
          "x": 0,
          "xref": "x",
          "y": 1,
          "yref": "y"
         },
         {
          "font": {
           "color": "#000000"
          },
          "showarrow": false,
          "text": "10.43",
          "x": 1,
          "xref": "x",
          "y": 1,
          "yref": "y"
         },
         {
          "font": {
           "color": "#000000"
          },
          "showarrow": false,
          "text": "0.01",
          "x": 2,
          "xref": "x",
          "y": 1,
          "yref": "y"
         },
         {
          "font": {
           "color": "#000000"
          },
          "showarrow": false,
          "text": "-11.73",
          "x": 3,
          "xref": "x",
          "y": 1,
          "yref": "y"
         },
         {
          "font": {
           "color": "#000000"
          },
          "showarrow": false,
          "text": "3.9",
          "x": 4,
          "xref": "x",
          "y": 1,
          "yref": "y"
         },
         {
          "font": {
           "color": "#000000"
          },
          "showarrow": false,
          "text": "-11.83",
          "x": 5,
          "xref": "x",
          "y": 1,
          "yref": "y"
         },
         {
          "font": {
           "color": "#000000"
          },
          "showarrow": false,
          "text": "-12.44",
          "x": 6,
          "xref": "x",
          "y": 1,
          "yref": "y"
         },
         {
          "font": {
           "color": "#000000"
          },
          "showarrow": false,
          "text": "69.32",
          "x": 7,
          "xref": "x",
          "y": 1,
          "yref": "y"
         },
         {
          "font": {
           "color": "#000000"
          },
          "showarrow": false,
          "text": "60.07",
          "x": 8,
          "xref": "x",
          "y": 1,
          "yref": "y"
         },
         {
          "font": {
           "color": "#000000"
          },
          "showarrow": false,
          "text": "-28.96",
          "x": 9,
          "xref": "x",
          "y": 1,
          "yref": "y"
         },
         {
          "font": {
           "color": "#000000"
          },
          "showarrow": false,
          "text": "53.94",
          "x": 10,
          "xref": "x",
          "y": 1,
          "yref": "y"
         },
         {
          "font": {
           "color": "#000000"
          },
          "showarrow": false,
          "text": "147.04",
          "x": 11,
          "xref": "x",
          "y": 1,
          "yref": "y"
         },
         {
          "font": {
           "color": "#000000"
          },
          "showarrow": false,
          "text": "11.76",
          "x": 12,
          "xref": "x",
          "y": 1,
          "yref": "y"
         },
         {
          "font": {
           "color": "#000000"
          },
          "showarrow": false,
          "text": "-201.64",
          "x": 13,
          "xref": "x",
          "y": 1,
          "yref": "y"
         },
         {
          "font": {
           "color": "#000000"
          },
          "showarrow": false,
          "text": "-2.52",
          "x": 14,
          "xref": "x",
          "y": 1,
          "yref": "y"
         },
         {
          "font": {
           "color": "#000000"
          },
          "showarrow": false,
          "text": "-187.2",
          "x": 15,
          "xref": "x",
          "y": 1,
          "yref": "y"
         },
         {
          "font": {
           "color": "#000000"
          },
          "showarrow": false,
          "text": "0.14",
          "x": 0,
          "xref": "x",
          "y": 2,
          "yref": "y"
         },
         {
          "font": {
           "color": "#000000"
          },
          "showarrow": false,
          "text": "0.01",
          "x": 1,
          "xref": "x",
          "y": 2,
          "yref": "y"
         },
         {
          "font": {
           "color": "#000000"
          },
          "showarrow": false,
          "text": "0.0",
          "x": 2,
          "xref": "x",
          "y": 2,
          "yref": "y"
         },
         {
          "font": {
           "color": "#000000"
          },
          "showarrow": false,
          "text": "0.17",
          "x": 3,
          "xref": "x",
          "y": 2,
          "yref": "y"
         },
         {
          "font": {
           "color": "#000000"
          },
          "showarrow": false,
          "text": "-0.09",
          "x": 4,
          "xref": "x",
          "y": 2,
          "yref": "y"
         },
         {
          "font": {
           "color": "#000000"
          },
          "showarrow": false,
          "text": "-0.01",
          "x": 5,
          "xref": "x",
          "y": 2,
          "yref": "y"
         },
         {
          "font": {
           "color": "#000000"
          },
          "showarrow": false,
          "text": "0.06",
          "x": 6,
          "xref": "x",
          "y": 2,
          "yref": "y"
         },
         {
          "font": {
           "color": "#000000"
          },
          "showarrow": false,
          "text": "0.02",
          "x": 7,
          "xref": "x",
          "y": 2,
          "yref": "y"
         },
         {
          "font": {
           "color": "#000000"
          },
          "showarrow": false,
          "text": "0.08",
          "x": 8,
          "xref": "x",
          "y": 2,
          "yref": "y"
         },
         {
          "font": {
           "color": "#000000"
          },
          "showarrow": false,
          "text": "-0.09",
          "x": 9,
          "xref": "x",
          "y": 2,
          "yref": "y"
         },
         {
          "font": {
           "color": "#000000"
          },
          "showarrow": false,
          "text": "0.17",
          "x": 10,
          "xref": "x",
          "y": 2,
          "yref": "y"
         },
         {
          "font": {
           "color": "#000000"
          },
          "showarrow": false,
          "text": "0.42",
          "x": 11,
          "xref": "x",
          "y": 2,
          "yref": "y"
         },
         {
          "font": {
           "color": "#000000"
          },
          "showarrow": false,
          "text": "-0.05",
          "x": 12,
          "xref": "x",
          "y": 2,
          "yref": "y"
         },
         {
          "font": {
           "color": "#000000"
          },
          "showarrow": false,
          "text": "0.39",
          "x": 13,
          "xref": "x",
          "y": 2,
          "yref": "y"
         },
         {
          "font": {
           "color": "#000000"
          },
          "showarrow": false,
          "text": "0.01",
          "x": 14,
          "xref": "x",
          "y": 2,
          "yref": "y"
         },
         {
          "font": {
           "color": "#000000"
          },
          "showarrow": false,
          "text": "0.46",
          "x": 15,
          "xref": "x",
          "y": 2,
          "yref": "y"
         },
         {
          "font": {
           "color": "#000000"
          },
          "showarrow": false,
          "text": "-666.28",
          "x": 0,
          "xref": "x",
          "y": 3,
          "yref": "y"
         },
         {
          "font": {
           "color": "#000000"
          },
          "showarrow": false,
          "text": "-11.73",
          "x": 1,
          "xref": "x",
          "y": 3,
          "yref": "y"
         },
         {
          "font": {
           "color": "#000000"
          },
          "showarrow": false,
          "text": "0.17",
          "x": 2,
          "xref": "x",
          "y": 3,
          "yref": "y"
         },
         {
          "font": {
           "color": "#000000"
          },
          "showarrow": false,
          "text": "482.41",
          "x": 3,
          "xref": "x",
          "y": 3,
          "yref": "y"
         },
         {
          "font": {
           "color": "#000000"
          },
          "showarrow": false,
          "text": "-99.3",
          "x": 4,
          "xref": "x",
          "y": 3,
          "yref": "y"
         },
         {
          "font": {
           "color": "#000000"
          },
          "showarrow": false,
          "text": "64.73",
          "x": 5,
          "xref": "x",
          "y": 3,
          "yref": "y"
         },
         {
          "font": {
           "color": "#000000"
          },
          "showarrow": false,
          "text": "-111.16",
          "x": 6,
          "xref": "x",
          "y": 3,
          "yref": "y"
         },
         {
          "font": {
           "color": "#000000"
          },
          "showarrow": false,
          "text": "-81.69",
          "x": 7,
          "xref": "x",
          "y": 3,
          "yref": "y"
         },
         {
          "font": {
           "color": "#000000"
          },
          "showarrow": false,
          "text": "356.49",
          "x": 8,
          "xref": "x",
          "y": 3,
          "yref": "y"
         },
         {
          "font": {
           "color": "#000000"
          },
          "showarrow": false,
          "text": "-217.84",
          "x": 9,
          "xref": "x",
          "y": 3,
          "yref": "y"
         },
         {
          "font": {
           "color": "#000000"
          },
          "showarrow": false,
          "text": "-404.81",
          "x": 10,
          "xref": "x",
          "y": 3,
          "yref": "y"
         },
         {
          "font": {
           "color": "#000000"
          },
          "showarrow": false,
          "text": "-982.98",
          "x": 11,
          "xref": "x",
          "y": 3,
          "yref": "y"
         },
         {
          "font": {
           "color": "#000000"
          },
          "showarrow": false,
          "text": "-97.44",
          "x": 12,
          "xref": "x",
          "y": 3,
          "yref": "y"
         },
         {
          "font": {
           "color": "#000000"
          },
          "showarrow": false,
          "text": "591.03",
          "x": 13,
          "xref": "x",
          "y": 3,
          "yref": "y"
         },
         {
          "font": {
           "color": "#000000"
          },
          "showarrow": false,
          "text": "-10.71",
          "x": 14,
          "xref": "x",
          "y": 3,
          "yref": "y"
         },
         {
          "font": {
           "color": "#000000"
          },
          "showarrow": false,
          "text": "-904.05",
          "x": 15,
          "xref": "x",
          "y": 3,
          "yref": "y"
         },
         {
          "font": {
           "color": "#000000"
          },
          "showarrow": false,
          "text": "-123.51",
          "x": 0,
          "xref": "x",
          "y": 4,
          "yref": "y"
         },
         {
          "font": {
           "color": "#000000"
          },
          "showarrow": false,
          "text": "3.9",
          "x": 1,
          "xref": "x",
          "y": 4,
          "yref": "y"
         },
         {
          "font": {
           "color": "#000000"
          },
          "showarrow": false,
          "text": "-0.09",
          "x": 2,
          "xref": "x",
          "y": 4,
          "yref": "y"
         },
         {
          "font": {
           "color": "#000000"
          },
          "showarrow": false,
          "text": "-99.3",
          "x": 3,
          "xref": "x",
          "y": 4,
          "yref": "y"
         },
         {
          "font": {
           "color": "#000000"
          },
          "showarrow": false,
          "text": "106.01",
          "x": 4,
          "xref": "x",
          "y": 4,
          "yref": "y"
         },
         {
          "font": {
           "color": "#000000"
          },
          "showarrow": false,
          "text": "-0.88",
          "x": 5,
          "xref": "x",
          "y": 4,
          "yref": "y"
         },
         {
          "font": {
           "color": "#000000"
          },
          "showarrow": false,
          "text": "-58.66",
          "x": 6,
          "xref": "x",
          "y": 4,
          "yref": "y"
         },
         {
          "font": {
           "color": "#000000"
          },
          "showarrow": false,
          "text": "54.47",
          "x": 7,
          "xref": "x",
          "y": 4,
          "yref": "y"
         },
         {
          "font": {
           "color": "#000000"
          },
          "showarrow": false,
          "text": "-144.49",
          "x": 8,
          "xref": "x",
          "y": 4,
          "yref": "y"
         },
         {
          "font": {
           "color": "#000000"
          },
          "showarrow": false,
          "text": "44.19",
          "x": 9,
          "xref": "x",
          "y": 4,
          "yref": "y"
         },
         {
          "font": {
           "color": "#000000"
          },
          "showarrow": false,
          "text": "178.62",
          "x": 10,
          "xref": "x",
          "y": 4,
          "yref": "y"
         },
         {
          "font": {
           "color": "#000000"
          },
          "showarrow": false,
          "text": "-495.29",
          "x": 11,
          "xref": "x",
          "y": 4,
          "yref": "y"
         },
         {
          "font": {
           "color": "#000000"
          },
          "showarrow": false,
          "text": "-8.17",
          "x": 12,
          "xref": "x",
          "y": 4,
          "yref": "y"
         },
         {
          "font": {
           "color": "#000000"
          },
          "showarrow": false,
          "text": "301.17",
          "x": 13,
          "xref": "x",
          "y": 4,
          "yref": "y"
         },
         {
          "font": {
           "color": "#000000"
          },
          "showarrow": false,
          "text": "-1.49",
          "x": 14,
          "xref": "x",
          "y": 4,
          "yref": "y"
         },
         {
          "font": {
           "color": "#000000"
          },
          "showarrow": false,
          "text": "-813.5",
          "x": 15,
          "xref": "x",
          "y": 4,
          "yref": "y"
         },
         {
          "font": {
           "color": "#000000"
          },
          "showarrow": false,
          "text": "-109.2",
          "x": 0,
          "xref": "x",
          "y": 5,
          "yref": "y"
         },
         {
          "font": {
           "color": "#000000"
          },
          "showarrow": false,
          "text": "-11.83",
          "x": 1,
          "xref": "x",
          "y": 5,
          "yref": "y"
         },
         {
          "font": {
           "color": "#000000"
          },
          "showarrow": false,
          "text": "-0.01",
          "x": 2,
          "xref": "x",
          "y": 5,
          "yref": "y"
         },
         {
          "font": {
           "color": "#000000"
          },
          "showarrow": false,
          "text": "64.73",
          "x": 3,
          "xref": "x",
          "y": 5,
          "yref": "y"
         },
         {
          "font": {
           "color": "#000000"
          },
          "showarrow": false,
          "text": "-0.88",
          "x": 4,
          "xref": "x",
          "y": 5,
          "yref": "y"
         },
         {
          "font": {
           "color": "#000000"
          },
          "showarrow": false,
          "text": "25.95",
          "x": 5,
          "xref": "x",
          "y": 5,
          "yref": "y"
         },
         {
          "font": {
           "color": "#000000"
          },
          "showarrow": false,
          "text": "2.33",
          "x": 6,
          "xref": "x",
          "y": 5,
          "yref": "y"
         },
         {
          "font": {
           "color": "#000000"
          },
          "showarrow": false,
          "text": "59.55",
          "x": 7,
          "xref": "x",
          "y": 5,
          "yref": "y"
         },
         {
          "font": {
           "color": "#000000"
          },
          "showarrow": false,
          "text": "3.01",
          "x": 8,
          "xref": "x",
          "y": 5,
          "yref": "y"
         },
         {
          "font": {
           "color": "#000000"
          },
          "showarrow": false,
          "text": "108.84",
          "x": 9,
          "xref": "x",
          "y": 5,
          "yref": "y"
         },
         {
          "font": {
           "color": "#000000"
          },
          "showarrow": false,
          "text": "38.29",
          "x": 10,
          "xref": "x",
          "y": 5,
          "yref": "y"
         },
         {
          "font": {
           "color": "#000000"
          },
          "showarrow": false,
          "text": "248.58",
          "x": 11,
          "xref": "x",
          "y": 5,
          "yref": "y"
         },
         {
          "font": {
           "color": "#000000"
          },
          "showarrow": false,
          "text": "-17.05",
          "x": 12,
          "xref": "x",
          "y": 5,
          "yref": "y"
         },
         {
          "font": {
           "color": "#000000"
          },
          "showarrow": false,
          "text": "-276.5",
          "x": 13,
          "xref": "x",
          "y": 5,
          "yref": "y"
         },
         {
          "font": {
           "color": "#000000"
          },
          "showarrow": false,
          "text": "2.65",
          "x": 14,
          "xref": "x",
          "y": 5,
          "yref": "y"
         },
         {
          "font": {
           "color": "#000000"
          },
          "showarrow": false,
          "text": "-91.51",
          "x": 15,
          "xref": "x",
          "y": 5,
          "yref": "y"
         },
         {
          "font": {
           "color": "#000000"
          },
          "showarrow": false,
          "text": "-157.78",
          "x": 0,
          "xref": "x",
          "y": 6,
          "yref": "y"
         },
         {
          "font": {
           "color": "#000000"
          },
          "showarrow": false,
          "text": "-12.44",
          "x": 1,
          "xref": "x",
          "y": 6,
          "yref": "y"
         },
         {
          "font": {
           "color": "#000000"
          },
          "showarrow": false,
          "text": "0.06",
          "x": 2,
          "xref": "x",
          "y": 6,
          "yref": "y"
         },
         {
          "font": {
           "color": "#000000"
          },
          "showarrow": false,
          "text": "-111.16",
          "x": 3,
          "xref": "x",
          "y": 6,
          "yref": "y"
         },
         {
          "font": {
           "color": "#000000"
          },
          "showarrow": false,
          "text": "-58.66",
          "x": 4,
          "xref": "x",
          "y": 6,
          "yref": "y"
         },
         {
          "font": {
           "color": "#000000"
          },
          "showarrow": false,
          "text": "2.33",
          "x": 5,
          "xref": "x",
          "y": 6,
          "yref": "y"
         },
         {
          "font": {
           "color": "#000000"
          },
          "showarrow": false,
          "text": "40.67",
          "x": 6,
          "xref": "x",
          "y": 6,
          "yref": "y"
         },
         {
          "font": {
           "color": "#000000"
          },
          "showarrow": false,
          "text": "-152.33",
          "x": 7,
          "xref": "x",
          "y": 6,
          "yref": "y"
         },
         {
          "font": {
           "color": "#000000"
          },
          "showarrow": false,
          "text": "108.31",
          "x": 8,
          "xref": "x",
          "y": 6,
          "yref": "y"
         },
         {
          "font": {
           "color": "#000000"
          },
          "showarrow": false,
          "text": "-46.66",
          "x": 9,
          "xref": "x",
          "y": 6,
          "yref": "y"
         },
         {
          "font": {
           "color": "#000000"
          },
          "showarrow": false,
          "text": "138.92",
          "x": 10,
          "xref": "x",
          "y": 6,
          "yref": "y"
         },
         {
          "font": {
           "color": "#000000"
          },
          "showarrow": false,
          "text": "174.35",
          "x": 11,
          "xref": "x",
          "y": 6,
          "yref": "y"
         },
         {
          "font": {
           "color": "#000000"
          },
          "showarrow": false,
          "text": "22.57",
          "x": 12,
          "xref": "x",
          "y": 6,
          "yref": "y"
         },
         {
          "font": {
           "color": "#000000"
          },
          "showarrow": false,
          "text": "118.68",
          "x": 13,
          "xref": "x",
          "y": 6,
          "yref": "y"
         },
         {
          "font": {
           "color": "#000000"
          },
          "showarrow": false,
          "text": "2.71",
          "x": 14,
          "xref": "x",
          "y": 6,
          "yref": "y"
         },
         {
          "font": {
           "color": "#000000"
          },
          "showarrow": false,
          "text": "-169.18",
          "x": 15,
          "xref": "x",
          "y": 6,
          "yref": "y"
         },
         {
          "font": {
           "color": "#000000"
          },
          "showarrow": false,
          "text": "-679.47",
          "x": 0,
          "xref": "x",
          "y": 7,
          "yref": "y"
         },
         {
          "font": {
           "color": "#000000"
          },
          "showarrow": false,
          "text": "69.32",
          "x": 1,
          "xref": "x",
          "y": 7,
          "yref": "y"
         },
         {
          "font": {
           "color": "#000000"
          },
          "showarrow": false,
          "text": "0.02",
          "x": 2,
          "xref": "x",
          "y": 7,
          "yref": "y"
         },
         {
          "font": {
           "color": "#000000"
          },
          "showarrow": false,
          "text": "-81.69",
          "x": 3,
          "xref": "x",
          "y": 7,
          "yref": "y"
         },
         {
          "font": {
           "color": "#000000"
          },
          "showarrow": false,
          "text": "54.47",
          "x": 4,
          "xref": "x",
          "y": 7,
          "yref": "y"
         },
         {
          "font": {
           "color": "#000000"
          },
          "showarrow": false,
          "text": "59.55",
          "x": 5,
          "xref": "x",
          "y": 7,
          "yref": "y"
         },
         {
          "font": {
           "color": "#000000"
          },
          "showarrow": false,
          "text": "-152.33",
          "x": 6,
          "xref": "x",
          "y": 7,
          "yref": "y"
         },
         {
          "font": {
           "color": "#000000"
          },
          "showarrow": false,
          "text": "1273.62",
          "x": 7,
          "xref": "x",
          "y": 7,
          "yref": "y"
         },
         {
          "font": {
           "color": "#000000"
          },
          "showarrow": false,
          "text": "-326.16",
          "x": 8,
          "xref": "x",
          "y": 7,
          "yref": "y"
         },
         {
          "font": {
           "color": "#000000"
          },
          "showarrow": false,
          "text": "678.94",
          "x": 9,
          "xref": "x",
          "y": 7,
          "yref": "y"
         },
         {
          "font": {
           "color": "#000000"
          },
          "showarrow": false,
          "text": "-222.87",
          "x": 10,
          "xref": "x",
          "y": 7,
          "yref": "y"
         },
         {
          "font": {
           "color": "#000000"
          },
          "showarrow": false,
          "text": "2006.74",
          "x": 11,
          "xref": "x",
          "y": 7,
          "yref": "y"
         },
         {
          "font": {
           "color": "#000000"
          },
          "showarrow": false,
          "text": "53.84",
          "x": 12,
          "xref": "x",
          "y": 7,
          "yref": "y"
         },
         {
          "font": {
           "color": "#000000"
          },
          "showarrow": false,
          "text": "653.5",
          "x": 13,
          "xref": "x",
          "y": 7,
          "yref": "y"
         },
         {
          "font": {
           "color": "#000000"
          },
          "showarrow": false,
          "text": "-23.25",
          "x": 14,
          "xref": "x",
          "y": 7,
          "yref": "y"
         },
         {
          "font": {
           "color": "#FFFFFF"
          },
          "showarrow": false,
          "text": "2816.24",
          "x": 15,
          "xref": "x",
          "y": 7,
          "yref": "y"
         },
         {
          "font": {
           "color": "#000000"
          },
          "showarrow": false,
          "text": "-186.15",
          "x": 0,
          "xref": "x",
          "y": 8,
          "yref": "y"
         },
         {
          "font": {
           "color": "#000000"
          },
          "showarrow": false,
          "text": "60.07",
          "x": 1,
          "xref": "x",
          "y": 8,
          "yref": "y"
         },
         {
          "font": {
           "color": "#000000"
          },
          "showarrow": false,
          "text": "0.08",
          "x": 2,
          "xref": "x",
          "y": 8,
          "yref": "y"
         },
         {
          "font": {
           "color": "#000000"
          },
          "showarrow": false,
          "text": "356.49",
          "x": 3,
          "xref": "x",
          "y": 8,
          "yref": "y"
         },
         {
          "font": {
           "color": "#000000"
          },
          "showarrow": false,
          "text": "-144.49",
          "x": 4,
          "xref": "x",
          "y": 8,
          "yref": "y"
         },
         {
          "font": {
           "color": "#000000"
          },
          "showarrow": false,
          "text": "3.01",
          "x": 5,
          "xref": "x",
          "y": 8,
          "yref": "y"
         },
         {
          "font": {
           "color": "#000000"
          },
          "showarrow": false,
          "text": "108.31",
          "x": 6,
          "xref": "x",
          "y": 8,
          "yref": "y"
         },
         {
          "font": {
           "color": "#000000"
          },
          "showarrow": false,
          "text": "-326.16",
          "x": 7,
          "xref": "x",
          "y": 8,
          "yref": "y"
         },
         {
          "font": {
           "color": "#000000"
          },
          "showarrow": false,
          "text": "394.49",
          "x": 8,
          "xref": "x",
          "y": 8,
          "yref": "y"
         },
         {
          "font": {
           "color": "#000000"
          },
          "showarrow": false,
          "text": "-47.81",
          "x": 9,
          "xref": "x",
          "y": 8,
          "yref": "y"
         },
         {
          "font": {
           "color": "#000000"
          },
          "showarrow": false,
          "text": "135.21",
          "x": 10,
          "xref": "x",
          "y": 8,
          "yref": "y"
         },
         {
          "font": {
           "color": "#000000"
          },
          "showarrow": false,
          "text": "-220.71",
          "x": 11,
          "xref": "x",
          "y": 8,
          "yref": "y"
         },
         {
          "font": {
           "color": "#000000"
          },
          "showarrow": false,
          "text": "-48.21",
          "x": 12,
          "xref": "x",
          "y": 8,
          "yref": "y"
         },
         {
          "font": {
           "color": "#000000"
          },
          "showarrow": false,
          "text": "1205.54",
          "x": 13,
          "xref": "x",
          "y": 8,
          "yref": "y"
         },
         {
          "font": {
           "color": "#000000"
          },
          "showarrow": false,
          "text": "2.47",
          "x": 14,
          "xref": "x",
          "y": 8,
          "yref": "y"
         },
         {
          "font": {
           "color": "#000000"
          },
          "showarrow": false,
          "text": "-1733.48",
          "x": 15,
          "xref": "x",
          "y": 8,
          "yref": "y"
         },
         {
          "font": {
           "color": "#000000"
          },
          "showarrow": false,
          "text": "-150.53",
          "x": 0,
          "xref": "x",
          "y": 9,
          "yref": "y"
         },
         {
          "font": {
           "color": "#000000"
          },
          "showarrow": false,
          "text": "-28.96",
          "x": 1,
          "xref": "x",
          "y": 9,
          "yref": "y"
         },
         {
          "font": {
           "color": "#000000"
          },
          "showarrow": false,
          "text": "-0.09",
          "x": 2,
          "xref": "x",
          "y": 9,
          "yref": "y"
         },
         {
          "font": {
           "color": "#000000"
          },
          "showarrow": false,
          "text": "-217.84",
          "x": 3,
          "xref": "x",
          "y": 9,
          "yref": "y"
         },
         {
          "font": {
           "color": "#000000"
          },
          "showarrow": false,
          "text": "44.19",
          "x": 4,
          "xref": "x",
          "y": 9,
          "yref": "y"
         },
         {
          "font": {
           "color": "#000000"
          },
          "showarrow": false,
          "text": "108.84",
          "x": 5,
          "xref": "x",
          "y": 9,
          "yref": "y"
         },
         {
          "font": {
           "color": "#000000"
          },
          "showarrow": false,
          "text": "-46.66",
          "x": 6,
          "xref": "x",
          "y": 9,
          "yref": "y"
         },
         {
          "font": {
           "color": "#000000"
          },
          "showarrow": false,
          "text": "678.94",
          "x": 7,
          "xref": "x",
          "y": 9,
          "yref": "y"
         },
         {
          "font": {
           "color": "#000000"
          },
          "showarrow": false,
          "text": "-47.81",
          "x": 8,
          "xref": "x",
          "y": 9,
          "yref": "y"
         },
         {
          "font": {
           "color": "#000000"
          },
          "showarrow": false,
          "text": "577.33",
          "x": 9,
          "xref": "x",
          "y": 9,
          "yref": "y"
         },
         {
          "font": {
           "color": "#000000"
          },
          "showarrow": false,
          "text": "244.44",
          "x": 10,
          "xref": "x",
          "y": 9,
          "yref": "y"
         },
         {
          "font": {
           "color": "#000000"
          },
          "showarrow": false,
          "text": "-503.87",
          "x": 11,
          "xref": "x",
          "y": 9,
          "yref": "y"
         },
         {
          "font": {
           "color": "#000000"
          },
          "showarrow": false,
          "text": "6.0",
          "x": 12,
          "xref": "x",
          "y": 9,
          "yref": "y"
         },
         {
          "font": {
           "color": "#000000"
          },
          "showarrow": false,
          "text": "1395.35",
          "x": 13,
          "xref": "x",
          "y": 9,
          "yref": "y"
         },
         {
          "font": {
           "color": "#000000"
          },
          "showarrow": false,
          "text": "-5.8",
          "x": 14,
          "xref": "x",
          "y": 9,
          "yref": "y"
         },
         {
          "font": {
           "color": "#000000"
          },
          "showarrow": false,
          "text": "1723.34",
          "x": 15,
          "xref": "x",
          "y": 9,
          "yref": "y"
         },
         {
          "font": {
           "color": "#000000"
          },
          "showarrow": false,
          "text": "102.29",
          "x": 0,
          "xref": "x",
          "y": 10,
          "yref": "y"
         },
         {
          "font": {
           "color": "#000000"
          },
          "showarrow": false,
          "text": "53.94",
          "x": 1,
          "xref": "x",
          "y": 10,
          "yref": "y"
         },
         {
          "font": {
           "color": "#000000"
          },
          "showarrow": false,
          "text": "0.17",
          "x": 2,
          "xref": "x",
          "y": 10,
          "yref": "y"
         },
         {
          "font": {
           "color": "#000000"
          },
          "showarrow": false,
          "text": "-404.81",
          "x": 3,
          "xref": "x",
          "y": 10,
          "yref": "y"
         },
         {
          "font": {
           "color": "#000000"
          },
          "showarrow": false,
          "text": "178.62",
          "x": 4,
          "xref": "x",
          "y": 10,
          "yref": "y"
         },
         {
          "font": {
           "color": "#000000"
          },
          "showarrow": false,
          "text": "38.29",
          "x": 5,
          "xref": "x",
          "y": 10,
          "yref": "y"
         },
         {
          "font": {
           "color": "#000000"
          },
          "showarrow": false,
          "text": "138.92",
          "x": 6,
          "xref": "x",
          "y": 10,
          "yref": "y"
         },
         {
          "font": {
           "color": "#000000"
          },
          "showarrow": false,
          "text": "-222.87",
          "x": 7,
          "xref": "x",
          "y": 10,
          "yref": "y"
         },
         {
          "font": {
           "color": "#000000"
          },
          "showarrow": false,
          "text": "135.21",
          "x": 8,
          "xref": "x",
          "y": 10,
          "yref": "y"
         },
         {
          "font": {
           "color": "#000000"
          },
          "showarrow": false,
          "text": "244.44",
          "x": 9,
          "xref": "x",
          "y": 10,
          "yref": "y"
         },
         {
          "font": {
           "color": "#000000"
          },
          "showarrow": false,
          "text": "1885.51",
          "x": 10,
          "xref": "x",
          "y": 10,
          "yref": "y"
         },
         {
          "font": {
           "color": "#000000"
          },
          "showarrow": false,
          "text": "647.97",
          "x": 11,
          "xref": "x",
          "y": 10,
          "yref": "y"
         },
         {
          "font": {
           "color": "#000000"
          },
          "showarrow": false,
          "text": "-194.07",
          "x": 12,
          "xref": "x",
          "y": 10,
          "yref": "y"
         },
         {
          "font": {
           "color": "#FFFFFF"
          },
          "showarrow": false,
          "text": "2805.84",
          "x": 13,
          "xref": "x",
          "y": 10,
          "yref": "y"
         },
         {
          "font": {
           "color": "#000000"
          },
          "showarrow": false,
          "text": "14.02",
          "x": 14,
          "xref": "x",
          "y": 10,
          "yref": "y"
         },
         {
          "font": {
           "color": "#FFFFFF"
          },
          "showarrow": false,
          "text": "3791.25",
          "x": 15,
          "xref": "x",
          "y": 10,
          "yref": "y"
         },
         {
          "font": {
           "color": "#000000"
          },
          "showarrow": false,
          "text": "-296.59",
          "x": 0,
          "xref": "x",
          "y": 11,
          "yref": "y"
         },
         {
          "font": {
           "color": "#000000"
          },
          "showarrow": false,
          "text": "147.04",
          "x": 1,
          "xref": "x",
          "y": 11,
          "yref": "y"
         },
         {
          "font": {
           "color": "#000000"
          },
          "showarrow": false,
          "text": "0.42",
          "x": 2,
          "xref": "x",
          "y": 11,
          "yref": "y"
         },
         {
          "font": {
           "color": "#000000"
          },
          "showarrow": false,
          "text": "-982.98",
          "x": 3,
          "xref": "x",
          "y": 11,
          "yref": "y"
         },
         {
          "font": {
           "color": "#000000"
          },
          "showarrow": false,
          "text": "-495.29",
          "x": 4,
          "xref": "x",
          "y": 11,
          "yref": "y"
         },
         {
          "font": {
           "color": "#000000"
          },
          "showarrow": false,
          "text": "248.58",
          "x": 5,
          "xref": "x",
          "y": 11,
          "yref": "y"
         },
         {
          "font": {
           "color": "#000000"
          },
          "showarrow": false,
          "text": "174.35",
          "x": 6,
          "xref": "x",
          "y": 11,
          "yref": "y"
         },
         {
          "font": {
           "color": "#000000"
          },
          "showarrow": false,
          "text": "2006.74",
          "x": 7,
          "xref": "x",
          "y": 11,
          "yref": "y"
         },
         {
          "font": {
           "color": "#000000"
          },
          "showarrow": false,
          "text": "-220.71",
          "x": 8,
          "xref": "x",
          "y": 11,
          "yref": "y"
         },
         {
          "font": {
           "color": "#000000"
          },
          "showarrow": false,
          "text": "-503.87",
          "x": 9,
          "xref": "x",
          "y": 11,
          "yref": "y"
         },
         {
          "font": {
           "color": "#000000"
          },
          "showarrow": false,
          "text": "647.97",
          "x": 10,
          "xref": "x",
          "y": 11,
          "yref": "y"
         },
         {
          "font": {
           "color": "#FFFFFF"
          },
          "showarrow": false,
          "text": "3658.26",
          "x": 11,
          "xref": "x",
          "y": 11,
          "yref": "y"
         },
         {
          "font": {
           "color": "#000000"
          },
          "showarrow": false,
          "text": "-182.93",
          "x": 12,
          "xref": "x",
          "y": 11,
          "yref": "y"
         },
         {
          "font": {
           "color": "#000000"
          },
          "showarrow": false,
          "text": "-3302.4",
          "x": 13,
          "xref": "x",
          "y": 11,
          "yref": "y"
         },
         {
          "font": {
           "color": "#000000"
          },
          "showarrow": false,
          "text": "44.25",
          "x": 14,
          "xref": "x",
          "y": 11,
          "yref": "y"
         },
         {
          "font": {
           "color": "#000000"
          },
          "showarrow": false,
          "text": "2089.93",
          "x": 15,
          "xref": "x",
          "y": 11,
          "yref": "y"
         },
         {
          "font": {
           "color": "#000000"
          },
          "showarrow": false,
          "text": "51.88",
          "x": 0,
          "xref": "x",
          "y": 12,
          "yref": "y"
         },
         {
          "font": {
           "color": "#000000"
          },
          "showarrow": false,
          "text": "11.76",
          "x": 1,
          "xref": "x",
          "y": 12,
          "yref": "y"
         },
         {
          "font": {
           "color": "#000000"
          },
          "showarrow": false,
          "text": "-0.05",
          "x": 2,
          "xref": "x",
          "y": 12,
          "yref": "y"
         },
         {
          "font": {
           "color": "#000000"
          },
          "showarrow": false,
          "text": "-97.44",
          "x": 3,
          "xref": "x",
          "y": 12,
          "yref": "y"
         },
         {
          "font": {
           "color": "#000000"
          },
          "showarrow": false,
          "text": "-8.17",
          "x": 4,
          "xref": "x",
          "y": 12,
          "yref": "y"
         },
         {
          "font": {
           "color": "#000000"
          },
          "showarrow": false,
          "text": "-17.05",
          "x": 5,
          "xref": "x",
          "y": 12,
          "yref": "y"
         },
         {
          "font": {
           "color": "#000000"
          },
          "showarrow": false,
          "text": "22.57",
          "x": 6,
          "xref": "x",
          "y": 12,
          "yref": "y"
         },
         {
          "font": {
           "color": "#000000"
          },
          "showarrow": false,
          "text": "53.84",
          "x": 7,
          "xref": "x",
          "y": 12,
          "yref": "y"
         },
         {
          "font": {
           "color": "#000000"
          },
          "showarrow": false,
          "text": "-48.21",
          "x": 8,
          "xref": "x",
          "y": 12,
          "yref": "y"
         },
         {
          "font": {
           "color": "#000000"
          },
          "showarrow": false,
          "text": "6.0",
          "x": 9,
          "xref": "x",
          "y": 12,
          "yref": "y"
         },
         {
          "font": {
           "color": "#000000"
          },
          "showarrow": false,
          "text": "-194.07",
          "x": 10,
          "xref": "x",
          "y": 12,
          "yref": "y"
         },
         {
          "font": {
           "color": "#000000"
          },
          "showarrow": false,
          "text": "-182.93",
          "x": 11,
          "xref": "x",
          "y": 12,
          "yref": "y"
         },
         {
          "font": {
           "color": "#000000"
          },
          "showarrow": false,
          "text": "21.3",
          "x": 12,
          "xref": "x",
          "y": 12,
          "yref": "y"
         },
         {
          "font": {
           "color": "#000000"
          },
          "showarrow": false,
          "text": "-301.4",
          "x": 13,
          "xref": "x",
          "y": 12,
          "yref": "y"
         },
         {
          "font": {
           "color": "#000000"
          },
          "showarrow": false,
          "text": "1.99",
          "x": 14,
          "xref": "x",
          "y": 12,
          "yref": "y"
         },
         {
          "font": {
           "color": "#000000"
          },
          "showarrow": false,
          "text": "205.71",
          "x": 15,
          "xref": "x",
          "y": 12,
          "yref": "y"
         },
         {
          "font": {
           "color": "#000000"
          },
          "showarrow": false,
          "text": "-1349.36",
          "x": 0,
          "xref": "x",
          "y": 13,
          "yref": "y"
         },
         {
          "font": {
           "color": "#000000"
          },
          "showarrow": false,
          "text": "-201.64",
          "x": 1,
          "xref": "x",
          "y": 13,
          "yref": "y"
         },
         {
          "font": {
           "color": "#000000"
          },
          "showarrow": false,
          "text": "0.39",
          "x": 2,
          "xref": "x",
          "y": 13,
          "yref": "y"
         },
         {
          "font": {
           "color": "#000000"
          },
          "showarrow": false,
          "text": "591.03",
          "x": 3,
          "xref": "x",
          "y": 13,
          "yref": "y"
         },
         {
          "font": {
           "color": "#000000"
          },
          "showarrow": false,
          "text": "301.17",
          "x": 4,
          "xref": "x",
          "y": 13,
          "yref": "y"
         },
         {
          "font": {
           "color": "#000000"
          },
          "showarrow": false,
          "text": "-276.5",
          "x": 5,
          "xref": "x",
          "y": 13,
          "yref": "y"
         },
         {
          "font": {
           "color": "#000000"
          },
          "showarrow": false,
          "text": "118.68",
          "x": 6,
          "xref": "x",
          "y": 13,
          "yref": "y"
         },
         {
          "font": {
           "color": "#000000"
          },
          "showarrow": false,
          "text": "653.5",
          "x": 7,
          "xref": "x",
          "y": 13,
          "yref": "y"
         },
         {
          "font": {
           "color": "#000000"
          },
          "showarrow": false,
          "text": "1205.54",
          "x": 8,
          "xref": "x",
          "y": 13,
          "yref": "y"
         },
         {
          "font": {
           "color": "#000000"
          },
          "showarrow": false,
          "text": "1395.35",
          "x": 9,
          "xref": "x",
          "y": 13,
          "yref": "y"
         },
         {
          "font": {
           "color": "#FFFFFF"
          },
          "showarrow": false,
          "text": "2805.84",
          "x": 10,
          "xref": "x",
          "y": 13,
          "yref": "y"
         },
         {
          "font": {
           "color": "#000000"
          },
          "showarrow": false,
          "text": "-3302.4",
          "x": 11,
          "xref": "x",
          "y": 13,
          "yref": "y"
         },
         {
          "font": {
           "color": "#000000"
          },
          "showarrow": false,
          "text": "-301.4",
          "x": 12,
          "xref": "x",
          "y": 13,
          "yref": "y"
         },
         {
          "font": {
           "color": "#FFFFFF"
          },
          "showarrow": false,
          "text": "5660.28",
          "x": 13,
          "xref": "x",
          "y": 13,
          "yref": "y"
         },
         {
          "font": {
           "color": "#000000"
          },
          "showarrow": false,
          "text": "53.83",
          "x": 14,
          "xref": "x",
          "y": 13,
          "yref": "y"
         },
         {
          "font": {
           "color": "#FFFFFF"
          },
          "showarrow": false,
          "text": "2793.9",
          "x": 15,
          "xref": "x",
          "y": 13,
          "yref": "y"
         },
         {
          "font": {
           "color": "#000000"
          },
          "showarrow": false,
          "text": "19.4",
          "x": 0,
          "xref": "x",
          "y": 14,
          "yref": "y"
         },
         {
          "font": {
           "color": "#000000"
          },
          "showarrow": false,
          "text": "-2.52",
          "x": 1,
          "xref": "x",
          "y": 14,
          "yref": "y"
         },
         {
          "font": {
           "color": "#000000"
          },
          "showarrow": false,
          "text": "0.01",
          "x": 2,
          "xref": "x",
          "y": 14,
          "yref": "y"
         },
         {
          "font": {
           "color": "#000000"
          },
          "showarrow": false,
          "text": "-10.71",
          "x": 3,
          "xref": "x",
          "y": 14,
          "yref": "y"
         },
         {
          "font": {
           "color": "#000000"
          },
          "showarrow": false,
          "text": "-1.49",
          "x": 4,
          "xref": "x",
          "y": 14,
          "yref": "y"
         },
         {
          "font": {
           "color": "#000000"
          },
          "showarrow": false,
          "text": "2.65",
          "x": 5,
          "xref": "x",
          "y": 14,
          "yref": "y"
         },
         {
          "font": {
           "color": "#000000"
          },
          "showarrow": false,
          "text": "2.71",
          "x": 6,
          "xref": "x",
          "y": 14,
          "yref": "y"
         },
         {
          "font": {
           "color": "#000000"
          },
          "showarrow": false,
          "text": "-23.25",
          "x": 7,
          "xref": "x",
          "y": 14,
          "yref": "y"
         },
         {
          "font": {
           "color": "#000000"
          },
          "showarrow": false,
          "text": "2.47",
          "x": 8,
          "xref": "x",
          "y": 14,
          "yref": "y"
         },
         {
          "font": {
           "color": "#000000"
          },
          "showarrow": false,
          "text": "-5.8",
          "x": 9,
          "xref": "x",
          "y": 14,
          "yref": "y"
         },
         {
          "font": {
           "color": "#000000"
          },
          "showarrow": false,
          "text": "14.02",
          "x": 10,
          "xref": "x",
          "y": 14,
          "yref": "y"
         },
         {
          "font": {
           "color": "#000000"
          },
          "showarrow": false,
          "text": "44.25",
          "x": 11,
          "xref": "x",
          "y": 14,
          "yref": "y"
         },
         {
          "font": {
           "color": "#000000"
          },
          "showarrow": false,
          "text": "1.99",
          "x": 12,
          "xref": "x",
          "y": 14,
          "yref": "y"
         },
         {
          "font": {
           "color": "#000000"
          },
          "showarrow": false,
          "text": "53.83",
          "x": 13,
          "xref": "x",
          "y": 14,
          "yref": "y"
         },
         {
          "font": {
           "color": "#000000"
          },
          "showarrow": false,
          "text": "0.72",
          "x": 14,
          "xref": "x",
          "y": 14,
          "yref": "y"
         },
         {
          "font": {
           "color": "#000000"
          },
          "showarrow": false,
          "text": "-55.78",
          "x": 15,
          "xref": "x",
          "y": 14,
          "yref": "y"
         },
         {
          "font": {
           "color": "#000000"
          },
          "showarrow": false,
          "text": "-2517.6",
          "x": 0,
          "xref": "x",
          "y": 15,
          "yref": "y"
         },
         {
          "font": {
           "color": "#000000"
          },
          "showarrow": false,
          "text": "-187.2",
          "x": 1,
          "xref": "x",
          "y": 15,
          "yref": "y"
         },
         {
          "font": {
           "color": "#000000"
          },
          "showarrow": false,
          "text": "0.46",
          "x": 2,
          "xref": "x",
          "y": 15,
          "yref": "y"
         },
         {
          "font": {
           "color": "#000000"
          },
          "showarrow": false,
          "text": "-904.05",
          "x": 3,
          "xref": "x",
          "y": 15,
          "yref": "y"
         },
         {
          "font": {
           "color": "#000000"
          },
          "showarrow": false,
          "text": "-813.5",
          "x": 4,
          "xref": "x",
          "y": 15,
          "yref": "y"
         },
         {
          "font": {
           "color": "#000000"
          },
          "showarrow": false,
          "text": "-91.51",
          "x": 5,
          "xref": "x",
          "y": 15,
          "yref": "y"
         },
         {
          "font": {
           "color": "#000000"
          },
          "showarrow": false,
          "text": "-169.18",
          "x": 6,
          "xref": "x",
          "y": 15,
          "yref": "y"
         },
         {
          "font": {
           "color": "#FFFFFF"
          },
          "showarrow": false,
          "text": "2816.24",
          "x": 7,
          "xref": "x",
          "y": 15,
          "yref": "y"
         },
         {
          "font": {
           "color": "#000000"
          },
          "showarrow": false,
          "text": "-1733.48",
          "x": 8,
          "xref": "x",
          "y": 15,
          "yref": "y"
         },
         {
          "font": {
           "color": "#000000"
          },
          "showarrow": false,
          "text": "1723.34",
          "x": 9,
          "xref": "x",
          "y": 15,
          "yref": "y"
         },
         {
          "font": {
           "color": "#FFFFFF"
          },
          "showarrow": false,
          "text": "3791.25",
          "x": 10,
          "xref": "x",
          "y": 15,
          "yref": "y"
         },
         {
          "font": {
           "color": "#000000"
          },
          "showarrow": false,
          "text": "2089.93",
          "x": 11,
          "xref": "x",
          "y": 15,
          "yref": "y"
         },
         {
          "font": {
           "color": "#000000"
          },
          "showarrow": false,
          "text": "205.71",
          "x": 12,
          "xref": "x",
          "y": 15,
          "yref": "y"
         },
         {
          "font": {
           "color": "#FFFFFF"
          },
          "showarrow": false,
          "text": "2793.9",
          "x": 13,
          "xref": "x",
          "y": 15,
          "yref": "y"
         },
         {
          "font": {
           "color": "#000000"
          },
          "showarrow": false,
          "text": "-55.78",
          "x": 14,
          "xref": "x",
          "y": 15,
          "yref": "y"
         },
         {
          "font": {
           "color": "#FFFFFF"
          },
          "showarrow": false,
          "text": "7705.49",
          "x": 15,
          "xref": "x",
          "y": 15,
          "yref": "y"
         }
        ],
        "autosize": false,
        "height": 800,
        "template": {
         "data": {
          "bar": [
           {
            "error_x": {
             "color": "#2a3f5f"
            },
            "error_y": {
             "color": "#2a3f5f"
            },
            "marker": {
             "line": {
              "color": "white",
              "width": 0.5
             },
             "pattern": {
              "fillmode": "overlay",
              "size": 10,
              "solidity": 0.2
             }
            },
            "type": "bar"
           }
          ],
          "barpolar": [
           {
            "marker": {
             "line": {
              "color": "white",
              "width": 0.5
             },
             "pattern": {
              "fillmode": "overlay",
              "size": 10,
              "solidity": 0.2
             }
            },
            "type": "barpolar"
           }
          ],
          "carpet": [
           {
            "aaxis": {
             "endlinecolor": "#2a3f5f",
             "gridcolor": "#C8D4E3",
             "linecolor": "#C8D4E3",
             "minorgridcolor": "#C8D4E3",
             "startlinecolor": "#2a3f5f"
            },
            "baxis": {
             "endlinecolor": "#2a3f5f",
             "gridcolor": "#C8D4E3",
             "linecolor": "#C8D4E3",
             "minorgridcolor": "#C8D4E3",
             "startlinecolor": "#2a3f5f"
            },
            "type": "carpet"
           }
          ],
          "choropleth": [
           {
            "colorbar": {
             "outlinewidth": 0,
             "ticks": ""
            },
            "type": "choropleth"
           }
          ],
          "contour": [
           {
            "colorbar": {
             "outlinewidth": 0,
             "ticks": ""
            },
            "colorscale": [
             [
              0,
              "#0d0887"
             ],
             [
              0.1111111111111111,
              "#46039f"
             ],
             [
              0.2222222222222222,
              "#7201a8"
             ],
             [
              0.3333333333333333,
              "#9c179e"
             ],
             [
              0.4444444444444444,
              "#bd3786"
             ],
             [
              0.5555555555555556,
              "#d8576b"
             ],
             [
              0.6666666666666666,
              "#ed7953"
             ],
             [
              0.7777777777777778,
              "#fb9f3a"
             ],
             [
              0.8888888888888888,
              "#fdca26"
             ],
             [
              1,
              "#f0f921"
             ]
            ],
            "type": "contour"
           }
          ],
          "contourcarpet": [
           {
            "colorbar": {
             "outlinewidth": 0,
             "ticks": ""
            },
            "type": "contourcarpet"
           }
          ],
          "heatmap": [
           {
            "colorbar": {
             "outlinewidth": 0,
             "ticks": ""
            },
            "colorscale": [
             [
              0,
              "#0d0887"
             ],
             [
              0.1111111111111111,
              "#46039f"
             ],
             [
              0.2222222222222222,
              "#7201a8"
             ],
             [
              0.3333333333333333,
              "#9c179e"
             ],
             [
              0.4444444444444444,
              "#bd3786"
             ],
             [
              0.5555555555555556,
              "#d8576b"
             ],
             [
              0.6666666666666666,
              "#ed7953"
             ],
             [
              0.7777777777777778,
              "#fb9f3a"
             ],
             [
              0.8888888888888888,
              "#fdca26"
             ],
             [
              1,
              "#f0f921"
             ]
            ],
            "type": "heatmap"
           }
          ],
          "heatmapgl": [
           {
            "colorbar": {
             "outlinewidth": 0,
             "ticks": ""
            },
            "colorscale": [
             [
              0,
              "#0d0887"
             ],
             [
              0.1111111111111111,
              "#46039f"
             ],
             [
              0.2222222222222222,
              "#7201a8"
             ],
             [
              0.3333333333333333,
              "#9c179e"
             ],
             [
              0.4444444444444444,
              "#bd3786"
             ],
             [
              0.5555555555555556,
              "#d8576b"
             ],
             [
              0.6666666666666666,
              "#ed7953"
             ],
             [
              0.7777777777777778,
              "#fb9f3a"
             ],
             [
              0.8888888888888888,
              "#fdca26"
             ],
             [
              1,
              "#f0f921"
             ]
            ],
            "type": "heatmapgl"
           }
          ],
          "histogram": [
           {
            "marker": {
             "pattern": {
              "fillmode": "overlay",
              "size": 10,
              "solidity": 0.2
             }
            },
            "type": "histogram"
           }
          ],
          "histogram2d": [
           {
            "colorbar": {
             "outlinewidth": 0,
             "ticks": ""
            },
            "colorscale": [
             [
              0,
              "#0d0887"
             ],
             [
              0.1111111111111111,
              "#46039f"
             ],
             [
              0.2222222222222222,
              "#7201a8"
             ],
             [
              0.3333333333333333,
              "#9c179e"
             ],
             [
              0.4444444444444444,
              "#bd3786"
             ],
             [
              0.5555555555555556,
              "#d8576b"
             ],
             [
              0.6666666666666666,
              "#ed7953"
             ],
             [
              0.7777777777777778,
              "#fb9f3a"
             ],
             [
              0.8888888888888888,
              "#fdca26"
             ],
             [
              1,
              "#f0f921"
             ]
            ],
            "type": "histogram2d"
           }
          ],
          "histogram2dcontour": [
           {
            "colorbar": {
             "outlinewidth": 0,
             "ticks": ""
            },
            "colorscale": [
             [
              0,
              "#0d0887"
             ],
             [
              0.1111111111111111,
              "#46039f"
             ],
             [
              0.2222222222222222,
              "#7201a8"
             ],
             [
              0.3333333333333333,
              "#9c179e"
             ],
             [
              0.4444444444444444,
              "#bd3786"
             ],
             [
              0.5555555555555556,
              "#d8576b"
             ],
             [
              0.6666666666666666,
              "#ed7953"
             ],
             [
              0.7777777777777778,
              "#fb9f3a"
             ],
             [
              0.8888888888888888,
              "#fdca26"
             ],
             [
              1,
              "#f0f921"
             ]
            ],
            "type": "histogram2dcontour"
           }
          ],
          "mesh3d": [
           {
            "colorbar": {
             "outlinewidth": 0,
             "ticks": ""
            },
            "type": "mesh3d"
           }
          ],
          "parcoords": [
           {
            "line": {
             "colorbar": {
              "outlinewidth": 0,
              "ticks": ""
             }
            },
            "type": "parcoords"
           }
          ],
          "pie": [
           {
            "automargin": true,
            "type": "pie"
           }
          ],
          "scatter": [
           {
            "marker": {
             "colorbar": {
              "outlinewidth": 0,
              "ticks": ""
             }
            },
            "type": "scatter"
           }
          ],
          "scatter3d": [
           {
            "line": {
             "colorbar": {
              "outlinewidth": 0,
              "ticks": ""
             }
            },
            "marker": {
             "colorbar": {
              "outlinewidth": 0,
              "ticks": ""
             }
            },
            "type": "scatter3d"
           }
          ],
          "scattercarpet": [
           {
            "marker": {
             "colorbar": {
              "outlinewidth": 0,
              "ticks": ""
             }
            },
            "type": "scattercarpet"
           }
          ],
          "scattergeo": [
           {
            "marker": {
             "colorbar": {
              "outlinewidth": 0,
              "ticks": ""
             }
            },
            "type": "scattergeo"
           }
          ],
          "scattergl": [
           {
            "marker": {
             "colorbar": {
              "outlinewidth": 0,
              "ticks": ""
             }
            },
            "type": "scattergl"
           }
          ],
          "scattermapbox": [
           {
            "marker": {
             "colorbar": {
              "outlinewidth": 0,
              "ticks": ""
             }
            },
            "type": "scattermapbox"
           }
          ],
          "scatterpolar": [
           {
            "marker": {
             "colorbar": {
              "outlinewidth": 0,
              "ticks": ""
             }
            },
            "type": "scatterpolar"
           }
          ],
          "scatterpolargl": [
           {
            "marker": {
             "colorbar": {
              "outlinewidth": 0,
              "ticks": ""
             }
            },
            "type": "scatterpolargl"
           }
          ],
          "scatterternary": [
           {
            "marker": {
             "colorbar": {
              "outlinewidth": 0,
              "ticks": ""
             }
            },
            "type": "scatterternary"
           }
          ],
          "surface": [
           {
            "colorbar": {
             "outlinewidth": 0,
             "ticks": ""
            },
            "colorscale": [
             [
              0,
              "#0d0887"
             ],
             [
              0.1111111111111111,
              "#46039f"
             ],
             [
              0.2222222222222222,
              "#7201a8"
             ],
             [
              0.3333333333333333,
              "#9c179e"
             ],
             [
              0.4444444444444444,
              "#bd3786"
             ],
             [
              0.5555555555555556,
              "#d8576b"
             ],
             [
              0.6666666666666666,
              "#ed7953"
             ],
             [
              0.7777777777777778,
              "#fb9f3a"
             ],
             [
              0.8888888888888888,
              "#fdca26"
             ],
             [
              1,
              "#f0f921"
             ]
            ],
            "type": "surface"
           }
          ],
          "table": [
           {
            "cells": {
             "fill": {
              "color": "#EBF0F8"
             },
             "line": {
              "color": "white"
             }
            },
            "header": {
             "fill": {
              "color": "#C8D4E3"
             },
             "line": {
              "color": "white"
             }
            },
            "type": "table"
           }
          ]
         },
         "layout": {
          "annotationdefaults": {
           "arrowcolor": "#2a3f5f",
           "arrowhead": 0,
           "arrowwidth": 1
          },
          "autotypenumbers": "strict",
          "coloraxis": {
           "colorbar": {
            "outlinewidth": 0,
            "ticks": ""
           }
          },
          "colorscale": {
           "diverging": [
            [
             0,
             "#8e0152"
            ],
            [
             0.1,
             "#c51b7d"
            ],
            [
             0.2,
             "#de77ae"
            ],
            [
             0.3,
             "#f1b6da"
            ],
            [
             0.4,
             "#fde0ef"
            ],
            [
             0.5,
             "#f7f7f7"
            ],
            [
             0.6,
             "#e6f5d0"
            ],
            [
             0.7,
             "#b8e186"
            ],
            [
             0.8,
             "#7fbc41"
            ],
            [
             0.9,
             "#4d9221"
            ],
            [
             1,
             "#276419"
            ]
           ],
           "sequential": [
            [
             0,
             "#0d0887"
            ],
            [
             0.1111111111111111,
             "#46039f"
            ],
            [
             0.2222222222222222,
             "#7201a8"
            ],
            [
             0.3333333333333333,
             "#9c179e"
            ],
            [
             0.4444444444444444,
             "#bd3786"
            ],
            [
             0.5555555555555556,
             "#d8576b"
            ],
            [
             0.6666666666666666,
             "#ed7953"
            ],
            [
             0.7777777777777778,
             "#fb9f3a"
            ],
            [
             0.8888888888888888,
             "#fdca26"
            ],
            [
             1,
             "#f0f921"
            ]
           ],
           "sequentialminus": [
            [
             0,
             "#0d0887"
            ],
            [
             0.1111111111111111,
             "#46039f"
            ],
            [
             0.2222222222222222,
             "#7201a8"
            ],
            [
             0.3333333333333333,
             "#9c179e"
            ],
            [
             0.4444444444444444,
             "#bd3786"
            ],
            [
             0.5555555555555556,
             "#d8576b"
            ],
            [
             0.6666666666666666,
             "#ed7953"
            ],
            [
             0.7777777777777778,
             "#fb9f3a"
            ],
            [
             0.8888888888888888,
             "#fdca26"
            ],
            [
             1,
             "#f0f921"
            ]
           ]
          },
          "colorway": [
           "#636efa",
           "#EF553B",
           "#00cc96",
           "#ab63fa",
           "#FFA15A",
           "#19d3f3",
           "#FF6692",
           "#B6E880",
           "#FF97FF",
           "#FECB52"
          ],
          "font": {
           "color": "#2a3f5f"
          },
          "geo": {
           "bgcolor": "white",
           "lakecolor": "white",
           "landcolor": "white",
           "showlakes": true,
           "showland": true,
           "subunitcolor": "#C8D4E3"
          },
          "hoverlabel": {
           "align": "left"
          },
          "hovermode": "closest",
          "mapbox": {
           "style": "light"
          },
          "paper_bgcolor": "white",
          "plot_bgcolor": "white",
          "polar": {
           "angularaxis": {
            "gridcolor": "#EBF0F8",
            "linecolor": "#EBF0F8",
            "ticks": ""
           },
           "bgcolor": "white",
           "radialaxis": {
            "gridcolor": "#EBF0F8",
            "linecolor": "#EBF0F8",
            "ticks": ""
           }
          },
          "scene": {
           "xaxis": {
            "backgroundcolor": "white",
            "gridcolor": "#DFE8F3",
            "gridwidth": 2,
            "linecolor": "#EBF0F8",
            "showbackground": true,
            "ticks": "",
            "zerolinecolor": "#EBF0F8"
           },
           "yaxis": {
            "backgroundcolor": "white",
            "gridcolor": "#DFE8F3",
            "gridwidth": 2,
            "linecolor": "#EBF0F8",
            "showbackground": true,
            "ticks": "",
            "zerolinecolor": "#EBF0F8"
           },
           "zaxis": {
            "backgroundcolor": "white",
            "gridcolor": "#DFE8F3",
            "gridwidth": 2,
            "linecolor": "#EBF0F8",
            "showbackground": true,
            "ticks": "",
            "zerolinecolor": "#EBF0F8"
           }
          },
          "shapedefaults": {
           "line": {
            "color": "#2a3f5f"
           }
          },
          "ternary": {
           "aaxis": {
            "gridcolor": "#DFE8F3",
            "linecolor": "#A2B1C6",
            "ticks": ""
           },
           "baxis": {
            "gridcolor": "#DFE8F3",
            "linecolor": "#A2B1C6",
            "ticks": ""
           },
           "bgcolor": "white",
           "caxis": {
            "gridcolor": "#DFE8F3",
            "linecolor": "#A2B1C6",
            "ticks": ""
           }
          },
          "title": {
           "x": 0.05
          },
          "xaxis": {
           "automargin": true,
           "gridcolor": "#EBF0F8",
           "linecolor": "#EBF0F8",
           "ticks": "",
           "title": {
            "standoff": 15
           },
           "zerolinecolor": "#EBF0F8",
           "zerolinewidth": 2
          },
          "yaxis": {
           "automargin": true,
           "gridcolor": "#EBF0F8",
           "linecolor": "#EBF0F8",
           "ticks": "",
           "title": {
            "standoff": 15
           },
           "zerolinecolor": "#EBF0F8",
           "zerolinewidth": 2
          }
         }
        },
        "title": {
         "text": "Covariance Matrix"
        },
        "width": 1200,
        "xaxis": {
         "autorange": true,
         "dtick": 1,
         "gridcolor": "rgb(0, 0, 0)",
         "range": [
          -0.5,
          15.5
         ],
         "showgrid": false,
         "side": "top",
         "ticks": "",
         "type": "linear",
         "zeroline": false
        },
        "yaxis": {
         "autorange": true,
         "dtick": 1,
         "range": [
          15.5,
          -0.5
         ],
         "showgrid": false,
         "ticks": "",
         "ticksuffix": "  ",
         "type": "linear",
         "zeroline": false
        }
       }
      },
      "image/png": "[encoded data removed]",
      "text/html": [
       "<div>                            <div id=\"e075fd83-f4d2-42b7-a00f-64211022358d\" class=\"plotly-graph-div\" style=\"height:800px; width:1200px;\"></div>            <script type=\"text/javascript\">                require([\"plotly\"], function(Plotly) {                    window.PLOTLYENV=window.PLOTLYENV || {};                                    if (document.getElementById(\"e075fd83-f4d2-42b7-a00f-64211022358d\")) {                    Plotly.newPlot(                        \"e075fd83-f4d2-42b7-a00f-64211022358d\",                        [{\"colorscale\":[[0,\"#2effd7\"],[1,\"#006a55\"]],\"reversescale\":false,\"showscale\":true,\"type\":\"heatmap\",\"x\":[0,1,2,3,4,5,6,7,8,9,10,11,12,13,14,15],\"y\":[0,1,2,3,4,5,6,7,8,9,10,11,12,13,14,15],\"z\":[[920.66,-16.26,0.14,-666.28,-123.51,-109.2,-157.78,-679.47,-186.15,-150.53,102.29,-296.59,51.88,-1349.36,19.4,-2517.6],[-16.26,10.43,0.01,-11.73,3.9,-11.83,-12.44,69.32,60.07,-28.96,53.94,147.04,11.76,-201.64,-2.52,-187.2],[0.14,0.01,0.0,0.17,-0.09,-0.01,0.06,0.02,0.08,-0.09,0.17,0.42,-0.05,0.39,0.01,0.46],[-666.28,-11.73,0.17,482.41,-99.3,64.73,-111.16,-81.69,356.49,-217.84,-404.81,-982.98,-97.44,591.03,-10.71,-904.05],[-123.51,3.9,-0.09,-99.3,106.01,-0.88,-58.66,54.47,-144.49,44.19,178.62,-495.29,-8.17,301.17,-1.49,-813.5],[-109.2,-11.83,-0.01,64.73,-0.88,25.95,2.33,59.55,3.01,108.84,38.29,248.58,-17.05,-276.5,2.65,-91.51],[-157.78,-12.44,0.06,-111.16,-58.66,2.33,40.67,-152.33,108.31,-46.66,138.92,174.35,22.57,118.68,2.71,-169.18],[-679.47,69.32,0.02,-81.69,54.47,59.55,-152.33,1273.62,-326.16,678.94,-222.87,2006.74,53.84,653.5,-23.25,2816.24],[-186.15,60.07,0.08,356.49,-144.49,3.01,108.31,-326.16,394.49,-47.81,135.21,-220.71,-48.21,1205.54,2.47,-1733.48],[-150.53,-28.96,-0.09,-217.84,44.19,108.84,-46.66,678.94,-47.81,577.33,244.44,-503.87,6.0,1395.35,-5.8,1723.34],[102.29,53.94,0.17,-404.81,178.62,38.29,138.92,-222.87,135.21,244.44,1885.51,647.97,-194.07,2805.84,14.02,3791.25],[-296.59,147.04,0.42,-982.98,-495.29,248.58,174.35,2006.74,-220.71,-503.87,647.97,3658.26,-182.93,-3302.4,44.25,2089.93],[51.88,11.76,-0.05,-97.44,-8.17,-17.05,22.57,53.84,-48.21,6.0,-194.07,-182.93,21.3,-301.4,1.99,205.71],[-1349.36,-201.64,0.39,591.03,301.17,-276.5,118.68,653.5,1205.54,1395.35,2805.84,-3302.4,-301.4,5660.28,53.83,2793.9],[19.4,-2.52,0.01,-10.71,-1.49,2.65,2.71,-23.25,2.47,-5.8,14.02,44.25,1.99,53.83,0.72,-55.78],[-2517.6,-187.2,0.46,-904.05,-813.5,-91.51,-169.18,2816.24,-1733.48,1723.34,3791.25,2089.93,205.71,2793.9,-55.78,7705.49]]}],                        {\"annotations\":[{\"font\":{\"color\":\"#000000\"},\"showarrow\":false,\"text\":\"920.66\",\"x\":0,\"xref\":\"x\",\"y\":0,\"yref\":\"y\"},{\"font\":{\"color\":\"#000000\"},\"showarrow\":false,\"text\":\"-16.26\",\"x\":1,\"xref\":\"x\",\"y\":0,\"yref\":\"y\"},{\"font\":{\"color\":\"#000000\"},\"showarrow\":false,\"text\":\"0.14\",\"x\":2,\"xref\":\"x\",\"y\":0,\"yref\":\"y\"},{\"font\":{\"color\":\"#000000\"},\"showarrow\":false,\"text\":\"-666.28\",\"x\":3,\"xref\":\"x\",\"y\":0,\"yref\":\"y\"},{\"font\":{\"color\":\"#000000\"},\"showarrow\":false,\"text\":\"-123.51\",\"x\":4,\"xref\":\"x\",\"y\":0,\"yref\":\"y\"},{\"font\":{\"color\":\"#000000\"},\"showarrow\":false,\"text\":\"-109.2\",\"x\":5,\"xref\":\"x\",\"y\":0,\"yref\":\"y\"},{\"font\":{\"color\":\"#000000\"},\"showarrow\":false,\"text\":\"-157.78\",\"x\":6,\"xref\":\"x\",\"y\":0,\"yref\":\"y\"},{\"font\":{\"color\":\"#000000\"},\"showarrow\":false,\"text\":\"-679.47\",\"x\":7,\"xref\":\"x\",\"y\":0,\"yref\":\"y\"},{\"font\":{\"color\":\"#000000\"},\"showarrow\":false,\"text\":\"-186.15\",\"x\":8,\"xref\":\"x\",\"y\":0,\"yref\":\"y\"},{\"font\":{\"color\":\"#000000\"},\"showarrow\":false,\"text\":\"-150.53\",\"x\":9,\"xref\":\"x\",\"y\":0,\"yref\":\"y\"},{\"font\":{\"color\":\"#000000\"},\"showarrow\":false,\"text\":\"102.29\",\"x\":10,\"xref\":\"x\",\"y\":0,\"yref\":\"y\"},{\"font\":{\"color\":\"#000000\"},\"showarrow\":false,\"text\":\"-296.59\",\"x\":11,\"xref\":\"x\",\"y\":0,\"yref\":\"y\"},{\"font\":{\"color\":\"#000000\"},\"showarrow\":false,\"text\":\"51.88\",\"x\":12,\"xref\":\"x\",\"y\":0,\"yref\":\"y\"},{\"font\":{\"color\":\"#000000\"},\"showarrow\":false,\"text\":\"-1349.36\",\"x\":13,\"xref\":\"x\",\"y\":0,\"yref\":\"y\"},{\"font\":{\"color\":\"#000000\"},\"showarrow\":false,\"text\":\"19.4\",\"x\":14,\"xref\":\"x\",\"y\":0,\"yref\":\"y\"},{\"font\":{\"color\":\"#000000\"},\"showarrow\":false,\"text\":\"-2517.6\",\"x\":15,\"xref\":\"x\",\"y\":0,\"yref\":\"y\"},{\"font\":{\"color\":\"#000000\"},\"showarrow\":false,\"text\":\"-16.26\",\"x\":0,\"xref\":\"x\",\"y\":1,\"yref\":\"y\"},{\"font\":{\"color\":\"#000000\"},\"showarrow\":false,\"text\":\"10.43\",\"x\":1,\"xref\":\"x\",\"y\":1,\"yref\":\"y\"},{\"font\":{\"color\":\"#000000\"},\"showarrow\":false,\"text\":\"0.01\",\"x\":2,\"xref\":\"x\",\"y\":1,\"yref\":\"y\"},{\"font\":{\"color\":\"#000000\"},\"showarrow\":false,\"text\":\"-11.73\",\"x\":3,\"xref\":\"x\",\"y\":1,\"yref\":\"y\"},{\"font\":{\"color\":\"#000000\"},\"showarrow\":false,\"text\":\"3.9\",\"x\":4,\"xref\":\"x\",\"y\":1,\"yref\":\"y\"},{\"font\":{\"color\":\"#000000\"},\"showarrow\":false,\"text\":\"-11.83\",\"x\":5,\"xref\":\"x\",\"y\":1,\"yref\":\"y\"},{\"font\":{\"color\":\"#000000\"},\"showarrow\":false,\"text\":\"-12.44\",\"x\":6,\"xref\":\"x\",\"y\":1,\"yref\":\"y\"},{\"font\":{\"color\":\"#000000\"},\"showarrow\":false,\"text\":\"69.32\",\"x\":7,\"xref\":\"x\",\"y\":1,\"yref\":\"y\"},{\"font\":{\"color\":\"#000000\"},\"showarrow\":false,\"text\":\"60.07\",\"x\":8,\"xref\":\"x\",\"y\":1,\"yref\":\"y\"},{\"font\":{\"color\":\"#000000\"},\"showarrow\":false,\"text\":\"-28.96\",\"x\":9,\"xref\":\"x\",\"y\":1,\"yref\":\"y\"},{\"font\":{\"color\":\"#000000\"},\"showarrow\":false,\"text\":\"53.94\",\"x\":10,\"xref\":\"x\",\"y\":1,\"yref\":\"y\"},{\"font\":{\"color\":\"#000000\"},\"showarrow\":false,\"text\":\"147.04\",\"x\":11,\"xref\":\"x\",\"y\":1,\"yref\":\"y\"},{\"font\":{\"color\":\"#000000\"},\"showarrow\":false,\"text\":\"11.76\",\"x\":12,\"xref\":\"x\",\"y\":1,\"yref\":\"y\"},{\"font\":{\"color\":\"#000000\"},\"showarrow\":false,\"text\":\"-201.64\",\"x\":13,\"xref\":\"x\",\"y\":1,\"yref\":\"y\"},{\"font\":{\"color\":\"#000000\"},\"showarrow\":false,\"text\":\"-2.52\",\"x\":14,\"xref\":\"x\",\"y\":1,\"yref\":\"y\"},{\"font\":{\"color\":\"#000000\"},\"showarrow\":false,\"text\":\"-187.2\",\"x\":15,\"xref\":\"x\",\"y\":1,\"yref\":\"y\"},{\"font\":{\"color\":\"#000000\"},\"showarrow\":false,\"text\":\"0.14\",\"x\":0,\"xref\":\"x\",\"y\":2,\"yref\":\"y\"},{\"font\":{\"color\":\"#000000\"},\"showarrow\":false,\"text\":\"0.01\",\"x\":1,\"xref\":\"x\",\"y\":2,\"yref\":\"y\"},{\"font\":{\"color\":\"#000000\"},\"showarrow\":false,\"text\":\"0.0\",\"x\":2,\"xref\":\"x\",\"y\":2,\"yref\":\"y\"},{\"font\":{\"color\":\"#000000\"},\"showarrow\":false,\"text\":\"0.17\",\"x\":3,\"xref\":\"x\",\"y\":2,\"yref\":\"y\"},{\"font\":{\"color\":\"#000000\"},\"showarrow\":false,\"text\":\"-0.09\",\"x\":4,\"xref\":\"x\",\"y\":2,\"yref\":\"y\"},{\"font\":{\"color\":\"#000000\"},\"showarrow\":false,\"text\":\"-0.01\",\"x\":5,\"xref\":\"x\",\"y\":2,\"yref\":\"y\"},{\"font\":{\"color\":\"#000000\"},\"showarrow\":false,\"text\":\"0.06\",\"x\":6,\"xref\":\"x\",\"y\":2,\"yref\":\"y\"},{\"font\":{\"color\":\"#000000\"},\"showarrow\":false,\"text\":\"0.02\",\"x\":7,\"xref\":\"x\",\"y\":2,\"yref\":\"y\"},{\"font\":{\"color\":\"#000000\"},\"showarrow\":false,\"text\":\"0.08\",\"x\":8,\"xref\":\"x\",\"y\":2,\"yref\":\"y\"},{\"font\":{\"color\":\"#000000\"},\"showarrow\":false,\"text\":\"-0.09\",\"x\":9,\"xref\":\"x\",\"y\":2,\"yref\":\"y\"},{\"font\":{\"color\":\"#000000\"},\"showarrow\":false,\"text\":\"0.17\",\"x\":10,\"xref\":\"x\",\"y\":2,\"yref\":\"y\"},{\"font\":{\"color\":\"#000000\"},\"showarrow\":false,\"text\":\"0.42\",\"x\":11,\"xref\":\"x\",\"y\":2,\"yref\":\"y\"},{\"font\":{\"color\":\"#000000\"},\"showarrow\":false,\"text\":\"-0.05\",\"x\":12,\"xref\":\"x\",\"y\":2,\"yref\":\"y\"},{\"font\":{\"color\":\"#000000\"},\"showarrow\":false,\"text\":\"0.39\",\"x\":13,\"xref\":\"x\",\"y\":2,\"yref\":\"y\"},{\"font\":{\"color\":\"#000000\"},\"showarrow\":false,\"text\":\"0.01\",\"x\":14,\"xref\":\"x\",\"y\":2,\"yref\":\"y\"},{\"font\":{\"color\":\"#000000\"},\"showarrow\":false,\"text\":\"0.46\",\"x\":15,\"xref\":\"x\",\"y\":2,\"yref\":\"y\"},{\"font\":{\"color\":\"#000000\"},\"showarrow\":false,\"text\":\"-666.28\",\"x\":0,\"xref\":\"x\",\"y\":3,\"yref\":\"y\"},{\"font\":{\"color\":\"#000000\"},\"showarrow\":false,\"text\":\"-11.73\",\"x\":1,\"xref\":\"x\",\"y\":3,\"yref\":\"y\"},{\"font\":{\"color\":\"#000000\"},\"showarrow\":false,\"text\":\"0.17\",\"x\":2,\"xref\":\"x\",\"y\":3,\"yref\":\"y\"},{\"font\":{\"color\":\"#000000\"},\"showarrow\":false,\"text\":\"482.41\",\"x\":3,\"xref\":\"x\",\"y\":3,\"yref\":\"y\"},{\"font\":{\"color\":\"#000000\"},\"showarrow\":false,\"text\":\"-99.3\",\"x\":4,\"xref\":\"x\",\"y\":3,\"yref\":\"y\"},{\"font\":{\"color\":\"#000000\"},\"showarrow\":false,\"text\":\"64.73\",\"x\":5,\"xref\":\"x\",\"y\":3,\"yref\":\"y\"},{\"font\":{\"color\":\"#000000\"},\"showarrow\":false,\"text\":\"-111.16\",\"x\":6,\"xref\":\"x\",\"y\":3,\"yref\":\"y\"},{\"font\":{\"color\":\"#000000\"},\"showarrow\":false,\"text\":\"-81.69\",\"x\":7,\"xref\":\"x\",\"y\":3,\"yref\":\"y\"},{\"font\":{\"color\":\"#000000\"},\"showarrow\":false,\"text\":\"356.49\",\"x\":8,\"xref\":\"x\",\"y\":3,\"yref\":\"y\"},{\"font\":{\"color\":\"#000000\"},\"showarrow\":false,\"text\":\"-217.84\",\"x\":9,\"xref\":\"x\",\"y\":3,\"yref\":\"y\"},{\"font\":{\"color\":\"#000000\"},\"showarrow\":false,\"text\":\"-404.81\",\"x\":10,\"xref\":\"x\",\"y\":3,\"yref\":\"y\"},{\"font\":{\"color\":\"#000000\"},\"showarrow\":false,\"text\":\"-982.98\",\"x\":11,\"xref\":\"x\",\"y\":3,\"yref\":\"y\"},{\"font\":{\"color\":\"#000000\"},\"showarrow\":false,\"text\":\"-97.44\",\"x\":12,\"xref\":\"x\",\"y\":3,\"yref\":\"y\"},{\"font\":{\"color\":\"#000000\"},\"showarrow\":false,\"text\":\"591.03\",\"x\":13,\"xref\":\"x\",\"y\":3,\"yref\":\"y\"},{\"font\":{\"color\":\"#000000\"},\"showarrow\":false,\"text\":\"-10.71\",\"x\":14,\"xref\":\"x\",\"y\":3,\"yref\":\"y\"},{\"font\":{\"color\":\"#000000\"},\"showarrow\":false,\"text\":\"-904.05\",\"x\":15,\"xref\":\"x\",\"y\":3,\"yref\":\"y\"},{\"font\":{\"color\":\"#000000\"},\"showarrow\":false,\"text\":\"-123.51\",\"x\":0,\"xref\":\"x\",\"y\":4,\"yref\":\"y\"},{\"font\":{\"color\":\"#000000\"},\"showarrow\":false,\"text\":\"3.9\",\"x\":1,\"xref\":\"x\",\"y\":4,\"yref\":\"y\"},{\"font\":{\"color\":\"#000000\"},\"showarrow\":false,\"text\":\"-0.09\",\"x\":2,\"xref\":\"x\",\"y\":4,\"yref\":\"y\"},{\"font\":{\"color\":\"#000000\"},\"showarrow\":false,\"text\":\"-99.3\",\"x\":3,\"xref\":\"x\",\"y\":4,\"yref\":\"y\"},{\"font\":{\"color\":\"#000000\"},\"showarrow\":false,\"text\":\"106.01\",\"x\":4,\"xref\":\"x\",\"y\":4,\"yref\":\"y\"},{\"font\":{\"color\":\"#000000\"},\"showarrow\":false,\"text\":\"-0.88\",\"x\":5,\"xref\":\"x\",\"y\":4,\"yref\":\"y\"},{\"font\":{\"color\":\"#000000\"},\"showarrow\":false,\"text\":\"-58.66\",\"x\":6,\"xref\":\"x\",\"y\":4,\"yref\":\"y\"},{\"font\":{\"color\":\"#000000\"},\"showarrow\":false,\"text\":\"54.47\",\"x\":7,\"xref\":\"x\",\"y\":4,\"yref\":\"y\"},{\"font\":{\"color\":\"#000000\"},\"showarrow\":false,\"text\":\"-144.49\",\"x\":8,\"xref\":\"x\",\"y\":4,\"yref\":\"y\"},{\"font\":{\"color\":\"#000000\"},\"showarrow\":false,\"text\":\"44.19\",\"x\":9,\"xref\":\"x\",\"y\":4,\"yref\":\"y\"},{\"font\":{\"color\":\"#000000\"},\"showarrow\":false,\"text\":\"178.62\",\"x\":10,\"xref\":\"x\",\"y\":4,\"yref\":\"y\"},{\"font\":{\"color\":\"#000000\"},\"showarrow\":false,\"text\":\"-495.29\",\"x\":11,\"xref\":\"x\",\"y\":4,\"yref\":\"y\"},{\"font\":{\"color\":\"#000000\"},\"showarrow\":false,\"text\":\"-8.17\",\"x\":12,\"xref\":\"x\",\"y\":4,\"yref\":\"y\"},{\"font\":{\"color\":\"#000000\"},\"showarrow\":false,\"text\":\"301.17\",\"x\":13,\"xref\":\"x\",\"y\":4,\"yref\":\"y\"},{\"font\":{\"color\":\"#000000\"},\"showarrow\":false,\"text\":\"-1.49\",\"x\":14,\"xref\":\"x\",\"y\":4,\"yref\":\"y\"},{\"font\":{\"color\":\"#000000\"},\"showarrow\":false,\"text\":\"-813.5\",\"x\":15,\"xref\":\"x\",\"y\":4,\"yref\":\"y\"},{\"font\":{\"color\":\"#000000\"},\"showarrow\":false,\"text\":\"-109.2\",\"x\":0,\"xref\":\"x\",\"y\":5,\"yref\":\"y\"},{\"font\":{\"color\":\"#000000\"},\"showarrow\":false,\"text\":\"-11.83\",\"x\":1,\"xref\":\"x\",\"y\":5,\"yref\":\"y\"},{\"font\":{\"color\":\"#000000\"},\"showarrow\":false,\"text\":\"-0.01\",\"x\":2,\"xref\":\"x\",\"y\":5,\"yref\":\"y\"},{\"font\":{\"color\":\"#000000\"},\"showarrow\":false,\"text\":\"64.73\",\"x\":3,\"xref\":\"x\",\"y\":5,\"yref\":\"y\"},{\"font\":{\"color\":\"#000000\"},\"showarrow\":false,\"text\":\"-0.88\",\"x\":4,\"xref\":\"x\",\"y\":5,\"yref\":\"y\"},{\"font\":{\"color\":\"#000000\"},\"showarrow\":false,\"text\":\"25.95\",\"x\":5,\"xref\":\"x\",\"y\":5,\"yref\":\"y\"},{\"font\":{\"color\":\"#000000\"},\"showarrow\":false,\"text\":\"2.33\",\"x\":6,\"xref\":\"x\",\"y\":5,\"yref\":\"y\"},{\"font\":{\"color\":\"#000000\"},\"showarrow\":false,\"text\":\"59.55\",\"x\":7,\"xref\":\"x\",\"y\":5,\"yref\":\"y\"},{\"font\":{\"color\":\"#000000\"},\"showarrow\":false,\"text\":\"3.01\",\"x\":8,\"xref\":\"x\",\"y\":5,\"yref\":\"y\"},{\"font\":{\"color\":\"#000000\"},\"showarrow\":false,\"text\":\"108.84\",\"x\":9,\"xref\":\"x\",\"y\":5,\"yref\":\"y\"},{\"font\":{\"color\":\"#000000\"},\"showarrow\":false,\"text\":\"38.29\",\"x\":10,\"xref\":\"x\",\"y\":5,\"yref\":\"y\"},{\"font\":{\"color\":\"#000000\"},\"showarrow\":false,\"text\":\"248.58\",\"x\":11,\"xref\":\"x\",\"y\":5,\"yref\":\"y\"},{\"font\":{\"color\":\"#000000\"},\"showarrow\":false,\"text\":\"-17.05\",\"x\":12,\"xref\":\"x\",\"y\":5,\"yref\":\"y\"},{\"font\":{\"color\":\"#000000\"},\"showarrow\":false,\"text\":\"-276.5\",\"x\":13,\"xref\":\"x\",\"y\":5,\"yref\":\"y\"},{\"font\":{\"color\":\"#000000\"},\"showarrow\":false,\"text\":\"2.65\",\"x\":14,\"xref\":\"x\",\"y\":5,\"yref\":\"y\"},{\"font\":{\"color\":\"#000000\"},\"showarrow\":false,\"text\":\"-91.51\",\"x\":15,\"xref\":\"x\",\"y\":5,\"yref\":\"y\"},{\"font\":{\"color\":\"#000000\"},\"showarrow\":false,\"text\":\"-157.78\",\"x\":0,\"xref\":\"x\",\"y\":6,\"yref\":\"y\"},{\"font\":{\"color\":\"#000000\"},\"showarrow\":false,\"text\":\"-12.44\",\"x\":1,\"xref\":\"x\",\"y\":6,\"yref\":\"y\"},{\"font\":{\"color\":\"#000000\"},\"showarrow\":false,\"text\":\"0.06\",\"x\":2,\"xref\":\"x\",\"y\":6,\"yref\":\"y\"},{\"font\":{\"color\":\"#000000\"},\"showarrow\":false,\"text\":\"-111.16\",\"x\":3,\"xref\":\"x\",\"y\":6,\"yref\":\"y\"},{\"font\":{\"color\":\"#000000\"},\"showarrow\":false,\"text\":\"-58.66\",\"x\":4,\"xref\":\"x\",\"y\":6,\"yref\":\"y\"},{\"font\":{\"color\":\"#000000\"},\"showarrow\":false,\"text\":\"2.33\",\"x\":5,\"xref\":\"x\",\"y\":6,\"yref\":\"y\"},{\"font\":{\"color\":\"#000000\"},\"showarrow\":false,\"text\":\"40.67\",\"x\":6,\"xref\":\"x\",\"y\":6,\"yref\":\"y\"},{\"font\":{\"color\":\"#000000\"},\"showarrow\":false,\"text\":\"-152.33\",\"x\":7,\"xref\":\"x\",\"y\":6,\"yref\":\"y\"},{\"font\":{\"color\":\"#000000\"},\"showarrow\":false,\"text\":\"108.31\",\"x\":8,\"xref\":\"x\",\"y\":6,\"yref\":\"y\"},{\"font\":{\"color\":\"#000000\"},\"showarrow\":false,\"text\":\"-46.66\",\"x\":9,\"xref\":\"x\",\"y\":6,\"yref\":\"y\"},{\"font\":{\"color\":\"#000000\"},\"showarrow\":false,\"text\":\"138.92\",\"x\":10,\"xref\":\"x\",\"y\":6,\"yref\":\"y\"},{\"font\":{\"color\":\"#000000\"},\"showarrow\":false,\"text\":\"174.35\",\"x\":11,\"xref\":\"x\",\"y\":6,\"yref\":\"y\"},{\"font\":{\"color\":\"#000000\"},\"showarrow\":false,\"text\":\"22.57\",\"x\":12,\"xref\":\"x\",\"y\":6,\"yref\":\"y\"},{\"font\":{\"color\":\"#000000\"},\"showarrow\":false,\"text\":\"118.68\",\"x\":13,\"xref\":\"x\",\"y\":6,\"yref\":\"y\"},{\"font\":{\"color\":\"#000000\"},\"showarrow\":false,\"text\":\"2.71\",\"x\":14,\"xref\":\"x\",\"y\":6,\"yref\":\"y\"},{\"font\":{\"color\":\"#000000\"},\"showarrow\":false,\"text\":\"-169.18\",\"x\":15,\"xref\":\"x\",\"y\":6,\"yref\":\"y\"},{\"font\":{\"color\":\"#000000\"},\"showarrow\":false,\"text\":\"-679.47\",\"x\":0,\"xref\":\"x\",\"y\":7,\"yref\":\"y\"},{\"font\":{\"color\":\"#000000\"},\"showarrow\":false,\"text\":\"69.32\",\"x\":1,\"xref\":\"x\",\"y\":7,\"yref\":\"y\"},{\"font\":{\"color\":\"#000000\"},\"showarrow\":false,\"text\":\"0.02\",\"x\":2,\"xref\":\"x\",\"y\":7,\"yref\":\"y\"},{\"font\":{\"color\":\"#000000\"},\"showarrow\":false,\"text\":\"-81.69\",\"x\":3,\"xref\":\"x\",\"y\":7,\"yref\":\"y\"},{\"font\":{\"color\":\"#000000\"},\"showarrow\":false,\"text\":\"54.47\",\"x\":4,\"xref\":\"x\",\"y\":7,\"yref\":\"y\"},{\"font\":{\"color\":\"#000000\"},\"showarrow\":false,\"text\":\"59.55\",\"x\":5,\"xref\":\"x\",\"y\":7,\"yref\":\"y\"},{\"font\":{\"color\":\"#000000\"},\"showarrow\":false,\"text\":\"-152.33\",\"x\":6,\"xref\":\"x\",\"y\":7,\"yref\":\"y\"},{\"font\":{\"color\":\"#000000\"},\"showarrow\":false,\"text\":\"1273.62\",\"x\":7,\"xref\":\"x\",\"y\":7,\"yref\":\"y\"},{\"font\":{\"color\":\"#000000\"},\"showarrow\":false,\"text\":\"-326.16\",\"x\":8,\"xref\":\"x\",\"y\":7,\"yref\":\"y\"},{\"font\":{\"color\":\"#000000\"},\"showarrow\":false,\"text\":\"678.94\",\"x\":9,\"xref\":\"x\",\"y\":7,\"yref\":\"y\"},{\"font\":{\"color\":\"#000000\"},\"showarrow\":false,\"text\":\"-222.87\",\"x\":10,\"xref\":\"x\",\"y\":7,\"yref\":\"y\"},{\"font\":{\"color\":\"#000000\"},\"showarrow\":false,\"text\":\"2006.74\",\"x\":11,\"xref\":\"x\",\"y\":7,\"yref\":\"y\"},{\"font\":{\"color\":\"#000000\"},\"showarrow\":false,\"text\":\"53.84\",\"x\":12,\"xref\":\"x\",\"y\":7,\"yref\":\"y\"},{\"font\":{\"color\":\"#000000\"},\"showarrow\":false,\"text\":\"653.5\",\"x\":13,\"xref\":\"x\",\"y\":7,\"yref\":\"y\"},{\"font\":{\"color\":\"#000000\"},\"showarrow\":false,\"text\":\"-23.25\",\"x\":14,\"xref\":\"x\",\"y\":7,\"yref\":\"y\"},{\"font\":{\"color\":\"#FFFFFF\"},\"showarrow\":false,\"text\":\"2816.24\",\"x\":15,\"xref\":\"x\",\"y\":7,\"yref\":\"y\"},{\"font\":{\"color\":\"#000000\"},\"showarrow\":false,\"text\":\"-186.15\",\"x\":0,\"xref\":\"x\",\"y\":8,\"yref\":\"y\"},{\"font\":{\"color\":\"#000000\"},\"showarrow\":false,\"text\":\"60.07\",\"x\":1,\"xref\":\"x\",\"y\":8,\"yref\":\"y\"},{\"font\":{\"color\":\"#000000\"},\"showarrow\":false,\"text\":\"0.08\",\"x\":2,\"xref\":\"x\",\"y\":8,\"yref\":\"y\"},{\"font\":{\"color\":\"#000000\"},\"showarrow\":false,\"text\":\"356.49\",\"x\":3,\"xref\":\"x\",\"y\":8,\"yref\":\"y\"},{\"font\":{\"color\":\"#000000\"},\"showarrow\":false,\"text\":\"-144.49\",\"x\":4,\"xref\":\"x\",\"y\":8,\"yref\":\"y\"},{\"font\":{\"color\":\"#000000\"},\"showarrow\":false,\"text\":\"3.01\",\"x\":5,\"xref\":\"x\",\"y\":8,\"yref\":\"y\"},{\"font\":{\"color\":\"#000000\"},\"showarrow\":false,\"text\":\"108.31\",\"x\":6,\"xref\":\"x\",\"y\":8,\"yref\":\"y\"},{\"font\":{\"color\":\"#000000\"},\"showarrow\":false,\"text\":\"-326.16\",\"x\":7,\"xref\":\"x\",\"y\":8,\"yref\":\"y\"},{\"font\":{\"color\":\"#000000\"},\"showarrow\":false,\"text\":\"394.49\",\"x\":8,\"xref\":\"x\",\"y\":8,\"yref\":\"y\"},{\"font\":{\"color\":\"#000000\"},\"showarrow\":false,\"text\":\"-47.81\",\"x\":9,\"xref\":\"x\",\"y\":8,\"yref\":\"y\"},{\"font\":{\"color\":\"#000000\"},\"showarrow\":false,\"text\":\"135.21\",\"x\":10,\"xref\":\"x\",\"y\":8,\"yref\":\"y\"},{\"font\":{\"color\":\"#000000\"},\"showarrow\":false,\"text\":\"-220.71\",\"x\":11,\"xref\":\"x\",\"y\":8,\"yref\":\"y\"},{\"font\":{\"color\":\"#000000\"},\"showarrow\":false,\"text\":\"-48.21\",\"x\":12,\"xref\":\"x\",\"y\":8,\"yref\":\"y\"},{\"font\":{\"color\":\"#000000\"},\"showarrow\":false,\"text\":\"1205.54\",\"x\":13,\"xref\":\"x\",\"y\":8,\"yref\":\"y\"},{\"font\":{\"color\":\"#000000\"},\"showarrow\":false,\"text\":\"2.47\",\"x\":14,\"xref\":\"x\",\"y\":8,\"yref\":\"y\"},{\"font\":{\"color\":\"#000000\"},\"showarrow\":false,\"text\":\"-1733.48\",\"x\":15,\"xref\":\"x\",\"y\":8,\"yref\":\"y\"},{\"font\":{\"color\":\"#000000\"},\"showarrow\":false,\"text\":\"-150.53\",\"x\":0,\"xref\":\"x\",\"y\":9,\"yref\":\"y\"},{\"font\":{\"color\":\"#000000\"},\"showarrow\":false,\"text\":\"-28.96\",\"x\":1,\"xref\":\"x\",\"y\":9,\"yref\":\"y\"},{\"font\":{\"color\":\"#000000\"},\"showarrow\":false,\"text\":\"-0.09\",\"x\":2,\"xref\":\"x\",\"y\":9,\"yref\":\"y\"},{\"font\":{\"color\":\"#000000\"},\"showarrow\":false,\"text\":\"-217.84\",\"x\":3,\"xref\":\"x\",\"y\":9,\"yref\":\"y\"},{\"font\":{\"color\":\"#000000\"},\"showarrow\":false,\"text\":\"44.19\",\"x\":4,\"xref\":\"x\",\"y\":9,\"yref\":\"y\"},{\"font\":{\"color\":\"#000000\"},\"showarrow\":false,\"text\":\"108.84\",\"x\":5,\"xref\":\"x\",\"y\":9,\"yref\":\"y\"},{\"font\":{\"color\":\"#000000\"},\"showarrow\":false,\"text\":\"-46.66\",\"x\":6,\"xref\":\"x\",\"y\":9,\"yref\":\"y\"},{\"font\":{\"color\":\"#000000\"},\"showarrow\":false,\"text\":\"678.94\",\"x\":7,\"xref\":\"x\",\"y\":9,\"yref\":\"y\"},{\"font\":{\"color\":\"#000000\"},\"showarrow\":false,\"text\":\"-47.81\",\"x\":8,\"xref\":\"x\",\"y\":9,\"yref\":\"y\"},{\"font\":{\"color\":\"#000000\"},\"showarrow\":false,\"text\":\"577.33\",\"x\":9,\"xref\":\"x\",\"y\":9,\"yref\":\"y\"},{\"font\":{\"color\":\"#000000\"},\"showarrow\":false,\"text\":\"244.44\",\"x\":10,\"xref\":\"x\",\"y\":9,\"yref\":\"y\"},{\"font\":{\"color\":\"#000000\"},\"showarrow\":false,\"text\":\"-503.87\",\"x\":11,\"xref\":\"x\",\"y\":9,\"yref\":\"y\"},{\"font\":{\"color\":\"#000000\"},\"showarrow\":false,\"text\":\"6.0\",\"x\":12,\"xref\":\"x\",\"y\":9,\"yref\":\"y\"},{\"font\":{\"color\":\"#000000\"},\"showarrow\":false,\"text\":\"1395.35\",\"x\":13,\"xref\":\"x\",\"y\":9,\"yref\":\"y\"},{\"font\":{\"color\":\"#000000\"},\"showarrow\":false,\"text\":\"-5.8\",\"x\":14,\"xref\":\"x\",\"y\":9,\"yref\":\"y\"},{\"font\":{\"color\":\"#000000\"},\"showarrow\":false,\"text\":\"1723.34\",\"x\":15,\"xref\":\"x\",\"y\":9,\"yref\":\"y\"},{\"font\":{\"color\":\"#000000\"},\"showarrow\":false,\"text\":\"102.29\",\"x\":0,\"xref\":\"x\",\"y\":10,\"yref\":\"y\"},{\"font\":{\"color\":\"#000000\"},\"showarrow\":false,\"text\":\"53.94\",\"x\":1,\"xref\":\"x\",\"y\":10,\"yref\":\"y\"},{\"font\":{\"color\":\"#000000\"},\"showarrow\":false,\"text\":\"0.17\",\"x\":2,\"xref\":\"x\",\"y\":10,\"yref\":\"y\"},{\"font\":{\"color\":\"#000000\"},\"showarrow\":false,\"text\":\"-404.81\",\"x\":3,\"xref\":\"x\",\"y\":10,\"yref\":\"y\"},{\"font\":{\"color\":\"#000000\"},\"showarrow\":false,\"text\":\"178.62\",\"x\":4,\"xref\":\"x\",\"y\":10,\"yref\":\"y\"},{\"font\":{\"color\":\"#000000\"},\"showarrow\":false,\"text\":\"38.29\",\"x\":5,\"xref\":\"x\",\"y\":10,\"yref\":\"y\"},{\"font\":{\"color\":\"#000000\"},\"showarrow\":false,\"text\":\"138.92\",\"x\":6,\"xref\":\"x\",\"y\":10,\"yref\":\"y\"},{\"font\":{\"color\":\"#000000\"},\"showarrow\":false,\"text\":\"-222.87\",\"x\":7,\"xref\":\"x\",\"y\":10,\"yref\":\"y\"},{\"font\":{\"color\":\"#000000\"},\"showarrow\":false,\"text\":\"135.21\",\"x\":8,\"xref\":\"x\",\"y\":10,\"yref\":\"y\"},{\"font\":{\"color\":\"#000000\"},\"showarrow\":false,\"text\":\"244.44\",\"x\":9,\"xref\":\"x\",\"y\":10,\"yref\":\"y\"},{\"font\":{\"color\":\"#000000\"},\"showarrow\":false,\"text\":\"1885.51\",\"x\":10,\"xref\":\"x\",\"y\":10,\"yref\":\"y\"},{\"font\":{\"color\":\"#000000\"},\"showarrow\":false,\"text\":\"647.97\",\"x\":11,\"xref\":\"x\",\"y\":10,\"yref\":\"y\"},{\"font\":{\"color\":\"#000000\"},\"showarrow\":false,\"text\":\"-194.07\",\"x\":12,\"xref\":\"x\",\"y\":10,\"yref\":\"y\"},{\"font\":{\"color\":\"#FFFFFF\"},\"showarrow\":false,\"text\":\"2805.84\",\"x\":13,\"xref\":\"x\",\"y\":10,\"yref\":\"y\"},{\"font\":{\"color\":\"#000000\"},\"showarrow\":false,\"text\":\"14.02\",\"x\":14,\"xref\":\"x\",\"y\":10,\"yref\":\"y\"},{\"font\":{\"color\":\"#FFFFFF\"},\"showarrow\":false,\"text\":\"3791.25\",\"x\":15,\"xref\":\"x\",\"y\":10,\"yref\":\"y\"},{\"font\":{\"color\":\"#000000\"},\"showarrow\":false,\"text\":\"-296.59\",\"x\":0,\"xref\":\"x\",\"y\":11,\"yref\":\"y\"},{\"font\":{\"color\":\"#000000\"},\"showarrow\":false,\"text\":\"147.04\",\"x\":1,\"xref\":\"x\",\"y\":11,\"yref\":\"y\"},{\"font\":{\"color\":\"#000000\"},\"showarrow\":false,\"text\":\"0.42\",\"x\":2,\"xref\":\"x\",\"y\":11,\"yref\":\"y\"},{\"font\":{\"color\":\"#000000\"},\"showarrow\":false,\"text\":\"-982.98\",\"x\":3,\"xref\":\"x\",\"y\":11,\"yref\":\"y\"},{\"font\":{\"color\":\"#000000\"},\"showarrow\":false,\"text\":\"-495.29\",\"x\":4,\"xref\":\"x\",\"y\":11,\"yref\":\"y\"},{\"font\":{\"color\":\"#000000\"},\"showarrow\":false,\"text\":\"248.58\",\"x\":5,\"xref\":\"x\",\"y\":11,\"yref\":\"y\"},{\"font\":{\"color\":\"#000000\"},\"showarrow\":false,\"text\":\"174.35\",\"x\":6,\"xref\":\"x\",\"y\":11,\"yref\":\"y\"},{\"font\":{\"color\":\"#000000\"},\"showarrow\":false,\"text\":\"2006.74\",\"x\":7,\"xref\":\"x\",\"y\":11,\"yref\":\"y\"},{\"font\":{\"color\":\"#000000\"},\"showarrow\":false,\"text\":\"-220.71\",\"x\":8,\"xref\":\"x\",\"y\":11,\"yref\":\"y\"},{\"font\":{\"color\":\"#000000\"},\"showarrow\":false,\"text\":\"-503.87\",\"x\":9,\"xref\":\"x\",\"y\":11,\"yref\":\"y\"},{\"font\":{\"color\":\"#000000\"},\"showarrow\":false,\"text\":\"647.97\",\"x\":10,\"xref\":\"x\",\"y\":11,\"yref\":\"y\"},{\"font\":{\"color\":\"#FFFFFF\"},\"showarrow\":false,\"text\":\"3658.26\",\"x\":11,\"xref\":\"x\",\"y\":11,\"yref\":\"y\"},{\"font\":{\"color\":\"#000000\"},\"showarrow\":false,\"text\":\"-182.93\",\"x\":12,\"xref\":\"x\",\"y\":11,\"yref\":\"y\"},{\"font\":{\"color\":\"#000000\"},\"showarrow\":false,\"text\":\"-3302.4\",\"x\":13,\"xref\":\"x\",\"y\":11,\"yref\":\"y\"},{\"font\":{\"color\":\"#000000\"},\"showarrow\":false,\"text\":\"44.25\",\"x\":14,\"xref\":\"x\",\"y\":11,\"yref\":\"y\"},{\"font\":{\"color\":\"#000000\"},\"showarrow\":false,\"text\":\"2089.93\",\"x\":15,\"xref\":\"x\",\"y\":11,\"yref\":\"y\"},{\"font\":{\"color\":\"#000000\"},\"showarrow\":false,\"text\":\"51.88\",\"x\":0,\"xref\":\"x\",\"y\":12,\"yref\":\"y\"},{\"font\":{\"color\":\"#000000\"},\"showarrow\":false,\"text\":\"11.76\",\"x\":1,\"xref\":\"x\",\"y\":12,\"yref\":\"y\"},{\"font\":{\"color\":\"#000000\"},\"showarrow\":false,\"text\":\"-0.05\",\"x\":2,\"xref\":\"x\",\"y\":12,\"yref\":\"y\"},{\"font\":{\"color\":\"#000000\"},\"showarrow\":false,\"text\":\"-97.44\",\"x\":3,\"xref\":\"x\",\"y\":12,\"yref\":\"y\"},{\"font\":{\"color\":\"#000000\"},\"showarrow\":false,\"text\":\"-8.17\",\"x\":4,\"xref\":\"x\",\"y\":12,\"yref\":\"y\"},{\"font\":{\"color\":\"#000000\"},\"showarrow\":false,\"text\":\"-17.05\",\"x\":5,\"xref\":\"x\",\"y\":12,\"yref\":\"y\"},{\"font\":{\"color\":\"#000000\"},\"showarrow\":false,\"text\":\"22.57\",\"x\":6,\"xref\":\"x\",\"y\":12,\"yref\":\"y\"},{\"font\":{\"color\":\"#000000\"},\"showarrow\":false,\"text\":\"53.84\",\"x\":7,\"xref\":\"x\",\"y\":12,\"yref\":\"y\"},{\"font\":{\"color\":\"#000000\"},\"showarrow\":false,\"text\":\"-48.21\",\"x\":8,\"xref\":\"x\",\"y\":12,\"yref\":\"y\"},{\"font\":{\"color\":\"#000000\"},\"showarrow\":false,\"text\":\"6.0\",\"x\":9,\"xref\":\"x\",\"y\":12,\"yref\":\"y\"},{\"font\":{\"color\":\"#000000\"},\"showarrow\":false,\"text\":\"-194.07\",\"x\":10,\"xref\":\"x\",\"y\":12,\"yref\":\"y\"},{\"font\":{\"color\":\"#000000\"},\"showarrow\":false,\"text\":\"-182.93\",\"x\":11,\"xref\":\"x\",\"y\":12,\"yref\":\"y\"},{\"font\":{\"color\":\"#000000\"},\"showarrow\":false,\"text\":\"21.3\",\"x\":12,\"xref\":\"x\",\"y\":12,\"yref\":\"y\"},{\"font\":{\"color\":\"#000000\"},\"showarrow\":false,\"text\":\"-301.4\",\"x\":13,\"xref\":\"x\",\"y\":12,\"yref\":\"y\"},{\"font\":{\"color\":\"#000000\"},\"showarrow\":false,\"text\":\"1.99\",\"x\":14,\"xref\":\"x\",\"y\":12,\"yref\":\"y\"},{\"font\":{\"color\":\"#000000\"},\"showarrow\":false,\"text\":\"205.71\",\"x\":15,\"xref\":\"x\",\"y\":12,\"yref\":\"y\"},{\"font\":{\"color\":\"#000000\"},\"showarrow\":false,\"text\":\"-1349.36\",\"x\":0,\"xref\":\"x\",\"y\":13,\"yref\":\"y\"},{\"font\":{\"color\":\"#000000\"},\"showarrow\":false,\"text\":\"-201.64\",\"x\":1,\"xref\":\"x\",\"y\":13,\"yref\":\"y\"},{\"font\":{\"color\":\"#000000\"},\"showarrow\":false,\"text\":\"0.39\",\"x\":2,\"xref\":\"x\",\"y\":13,\"yref\":\"y\"},{\"font\":{\"color\":\"#000000\"},\"showarrow\":false,\"text\":\"591.03\",\"x\":3,\"xref\":\"x\",\"y\":13,\"yref\":\"y\"},{\"font\":{\"color\":\"#000000\"},\"showarrow\":false,\"text\":\"301.17\",\"x\":4,\"xref\":\"x\",\"y\":13,\"yref\":\"y\"},{\"font\":{\"color\":\"#000000\"},\"showarrow\":false,\"text\":\"-276.5\",\"x\":5,\"xref\":\"x\",\"y\":13,\"yref\":\"y\"},{\"font\":{\"color\":\"#000000\"},\"showarrow\":false,\"text\":\"118.68\",\"x\":6,\"xref\":\"x\",\"y\":13,\"yref\":\"y\"},{\"font\":{\"color\":\"#000000\"},\"showarrow\":false,\"text\":\"653.5\",\"x\":7,\"xref\":\"x\",\"y\":13,\"yref\":\"y\"},{\"font\":{\"color\":\"#000000\"},\"showarrow\":false,\"text\":\"1205.54\",\"x\":8,\"xref\":\"x\",\"y\":13,\"yref\":\"y\"},{\"font\":{\"color\":\"#000000\"},\"showarrow\":false,\"text\":\"1395.35\",\"x\":9,\"xref\":\"x\",\"y\":13,\"yref\":\"y\"},{\"font\":{\"color\":\"#FFFFFF\"},\"showarrow\":false,\"text\":\"2805.84\",\"x\":10,\"xref\":\"x\",\"y\":13,\"yref\":\"y\"},{\"font\":{\"color\":\"#000000\"},\"showarrow\":false,\"text\":\"-3302.4\",\"x\":11,\"xref\":\"x\",\"y\":13,\"yref\":\"y\"},{\"font\":{\"color\":\"#000000\"},\"showarrow\":false,\"text\":\"-301.4\",\"x\":12,\"xref\":\"x\",\"y\":13,\"yref\":\"y\"},{\"font\":{\"color\":\"#FFFFFF\"},\"showarrow\":false,\"text\":\"5660.28\",\"x\":13,\"xref\":\"x\",\"y\":13,\"yref\":\"y\"},{\"font\":{\"color\":\"#000000\"},\"showarrow\":false,\"text\":\"53.83\",\"x\":14,\"xref\":\"x\",\"y\":13,\"yref\":\"y\"},{\"font\":{\"color\":\"#FFFFFF\"},\"showarrow\":false,\"text\":\"2793.9\",\"x\":15,\"xref\":\"x\",\"y\":13,\"yref\":\"y\"},{\"font\":{\"color\":\"#000000\"},\"showarrow\":false,\"text\":\"19.4\",\"x\":0,\"xref\":\"x\",\"y\":14,\"yref\":\"y\"},{\"font\":{\"color\":\"#000000\"},\"showarrow\":false,\"text\":\"-2.52\",\"x\":1,\"xref\":\"x\",\"y\":14,\"yref\":\"y\"},{\"font\":{\"color\":\"#000000\"},\"showarrow\":false,\"text\":\"0.01\",\"x\":2,\"xref\":\"x\",\"y\":14,\"yref\":\"y\"},{\"font\":{\"color\":\"#000000\"},\"showarrow\":false,\"text\":\"-10.71\",\"x\":3,\"xref\":\"x\",\"y\":14,\"yref\":\"y\"},{\"font\":{\"color\":\"#000000\"},\"showarrow\":false,\"text\":\"-1.49\",\"x\":4,\"xref\":\"x\",\"y\":14,\"yref\":\"y\"},{\"font\":{\"color\":\"#000000\"},\"showarrow\":false,\"text\":\"2.65\",\"x\":5,\"xref\":\"x\",\"y\":14,\"yref\":\"y\"},{\"font\":{\"color\":\"#000000\"},\"showarrow\":false,\"text\":\"2.71\",\"x\":6,\"xref\":\"x\",\"y\":14,\"yref\":\"y\"},{\"font\":{\"color\":\"#000000\"},\"showarrow\":false,\"text\":\"-23.25\",\"x\":7,\"xref\":\"x\",\"y\":14,\"yref\":\"y\"},{\"font\":{\"color\":\"#000000\"},\"showarrow\":false,\"text\":\"2.47\",\"x\":8,\"xref\":\"x\",\"y\":14,\"yref\":\"y\"},{\"font\":{\"color\":\"#000000\"},\"showarrow\":false,\"text\":\"-5.8\",\"x\":9,\"xref\":\"x\",\"y\":14,\"yref\":\"y\"},{\"font\":{\"color\":\"#000000\"},\"showarrow\":false,\"text\":\"14.02\",\"x\":10,\"xref\":\"x\",\"y\":14,\"yref\":\"y\"},{\"font\":{\"color\":\"#000000\"},\"showarrow\":false,\"text\":\"44.25\",\"x\":11,\"xref\":\"x\",\"y\":14,\"yref\":\"y\"},{\"font\":{\"color\":\"#000000\"},\"showarrow\":false,\"text\":\"1.99\",\"x\":12,\"xref\":\"x\",\"y\":14,\"yref\":\"y\"},{\"font\":{\"color\":\"#000000\"},\"showarrow\":false,\"text\":\"53.83\",\"x\":13,\"xref\":\"x\",\"y\":14,\"yref\":\"y\"},{\"font\":{\"color\":\"#000000\"},\"showarrow\":false,\"text\":\"0.72\",\"x\":14,\"xref\":\"x\",\"y\":14,\"yref\":\"y\"},{\"font\":{\"color\":\"#000000\"},\"showarrow\":false,\"text\":\"-55.78\",\"x\":15,\"xref\":\"x\",\"y\":14,\"yref\":\"y\"},{\"font\":{\"color\":\"#000000\"},\"showarrow\":false,\"text\":\"-2517.6\",\"x\":0,\"xref\":\"x\",\"y\":15,\"yref\":\"y\"},{\"font\":{\"color\":\"#000000\"},\"showarrow\":false,\"text\":\"-187.2\",\"x\":1,\"xref\":\"x\",\"y\":15,\"yref\":\"y\"},{\"font\":{\"color\":\"#000000\"},\"showarrow\":false,\"text\":\"0.46\",\"x\":2,\"xref\":\"x\",\"y\":15,\"yref\":\"y\"},{\"font\":{\"color\":\"#000000\"},\"showarrow\":false,\"text\":\"-904.05\",\"x\":3,\"xref\":\"x\",\"y\":15,\"yref\":\"y\"},{\"font\":{\"color\":\"#000000\"},\"showarrow\":false,\"text\":\"-813.5\",\"x\":4,\"xref\":\"x\",\"y\":15,\"yref\":\"y\"},{\"font\":{\"color\":\"#000000\"},\"showarrow\":false,\"text\":\"-91.51\",\"x\":5,\"xref\":\"x\",\"y\":15,\"yref\":\"y\"},{\"font\":{\"color\":\"#000000\"},\"showarrow\":false,\"text\":\"-169.18\",\"x\":6,\"xref\":\"x\",\"y\":15,\"yref\":\"y\"},{\"font\":{\"color\":\"#FFFFFF\"},\"showarrow\":false,\"text\":\"2816.24\",\"x\":7,\"xref\":\"x\",\"y\":15,\"yref\":\"y\"},{\"font\":{\"color\":\"#000000\"},\"showarrow\":false,\"text\":\"-1733.48\",\"x\":8,\"xref\":\"x\",\"y\":15,\"yref\":\"y\"},{\"font\":{\"color\":\"#000000\"},\"showarrow\":false,\"text\":\"1723.34\",\"x\":9,\"xref\":\"x\",\"y\":15,\"yref\":\"y\"},{\"font\":{\"color\":\"#FFFFFF\"},\"showarrow\":false,\"text\":\"3791.25\",\"x\":10,\"xref\":\"x\",\"y\":15,\"yref\":\"y\"},{\"font\":{\"color\":\"#000000\"},\"showarrow\":false,\"text\":\"2089.93\",\"x\":11,\"xref\":\"x\",\"y\":15,\"yref\":\"y\"},{\"font\":{\"color\":\"#000000\"},\"showarrow\":false,\"text\":\"205.71\",\"x\":12,\"xref\":\"x\",\"y\":15,\"yref\":\"y\"},{\"font\":{\"color\":\"#FFFFFF\"},\"showarrow\":false,\"text\":\"2793.9\",\"x\":13,\"xref\":\"x\",\"y\":15,\"yref\":\"y\"},{\"font\":{\"color\":\"#000000\"},\"showarrow\":false,\"text\":\"-55.78\",\"x\":14,\"xref\":\"x\",\"y\":15,\"yref\":\"y\"},{\"font\":{\"color\":\"#FFFFFF\"},\"showarrow\":false,\"text\":\"7705.49\",\"x\":15,\"xref\":\"x\",\"y\":15,\"yref\":\"y\"}],\"autosize\":false,\"height\":800,\"template\":{\"data\":{\"bar\":[{\"error_x\":{\"color\":\"#2a3f5f\"},\"error_y\":{\"color\":\"#2a3f5f\"},\"marker\":{\"line\":{\"color\":\"white\",\"width\":0.5},\"pattern\":{\"fillmode\":\"overlay\",\"size\":10,\"solidity\":0.2}},\"type\":\"bar\"}],\"barpolar\":[{\"marker\":{\"line\":{\"color\":\"white\",\"width\":0.5},\"pattern\":{\"fillmode\":\"overlay\",\"size\":10,\"solidity\":0.2}},\"type\":\"barpolar\"}],\"carpet\":[{\"aaxis\":{\"endlinecolor\":\"#2a3f5f\",\"gridcolor\":\"#C8D4E3\",\"linecolor\":\"#C8D4E3\",\"minorgridcolor\":\"#C8D4E3\",\"startlinecolor\":\"#2a3f5f\"},\"baxis\":{\"endlinecolor\":\"#2a3f5f\",\"gridcolor\":\"#C8D4E3\",\"linecolor\":\"#C8D4E3\",\"minorgridcolor\":\"#C8D4E3\",\"startlinecolor\":\"#2a3f5f\"},\"type\":\"carpet\"}],\"choropleth\":[{\"colorbar\":{\"outlinewidth\":0,\"ticks\":\"\"},\"type\":\"choropleth\"}],\"contour\":[{\"colorbar\":{\"outlinewidth\":0,\"ticks\":\"\"},\"colorscale\":[[0.0,\"#0d0887\"],[0.1111111111111111,\"#46039f\"],[0.2222222222222222,\"#7201a8\"],[0.3333333333333333,\"#9c179e\"],[0.4444444444444444,\"#bd3786\"],[0.5555555555555556,\"#d8576b\"],[0.6666666666666666,\"#ed7953\"],[0.7777777777777778,\"#fb9f3a\"],[0.8888888888888888,\"#fdca26\"],[1.0,\"#f0f921\"]],\"type\":\"contour\"}],\"contourcarpet\":[{\"colorbar\":{\"outlinewidth\":0,\"ticks\":\"\"},\"type\":\"contourcarpet\"}],\"heatmap\":[{\"colorbar\":{\"outlinewidth\":0,\"ticks\":\"\"},\"colorscale\":[[0.0,\"#0d0887\"],[0.1111111111111111,\"#46039f\"],[0.2222222222222222,\"#7201a8\"],[0.3333333333333333,\"#9c179e\"],[0.4444444444444444,\"#bd3786\"],[0.5555555555555556,\"#d8576b\"],[0.6666666666666666,\"#ed7953\"],[0.7777777777777778,\"#fb9f3a\"],[0.8888888888888888,\"#fdca26\"],[1.0,\"#f0f921\"]],\"type\":\"heatmap\"}],\"heatmapgl\":[{\"colorbar\":{\"outlinewidth\":0,\"ticks\":\"\"},\"colorscale\":[[0.0,\"#0d0887\"],[0.1111111111111111,\"#46039f\"],[0.2222222222222222,\"#7201a8\"],[0.3333333333333333,\"#9c179e\"],[0.4444444444444444,\"#bd3786\"],[0.5555555555555556,\"#d8576b\"],[0.6666666666666666,\"#ed7953\"],[0.7777777777777778,\"#fb9f3a\"],[0.8888888888888888,\"#fdca26\"],[1.0,\"#f0f921\"]],\"type\":\"heatmapgl\"}],\"histogram\":[{\"marker\":{\"pattern\":{\"fillmode\":\"overlay\",\"size\":10,\"solidity\":0.2}},\"type\":\"histogram\"}],\"histogram2d\":[{\"colorbar\":{\"outlinewidth\":0,\"ticks\":\"\"},\"colorscale\":[[0.0,\"#0d0887\"],[0.1111111111111111,\"#46039f\"],[0.2222222222222222,\"#7201a8\"],[0.3333333333333333,\"#9c179e\"],[0.4444444444444444,\"#bd3786\"],[0.5555555555555556,\"#d8576b\"],[0.6666666666666666,\"#ed7953\"],[0.7777777777777778,\"#fb9f3a\"],[0.8888888888888888,\"#fdca26\"],[1.0,\"#f0f921\"]],\"type\":\"histogram2d\"}],\"histogram2dcontour\":[{\"colorbar\":{\"outlinewidth\":0,\"ticks\":\"\"},\"colorscale\":[[0.0,\"#0d0887\"],[0.1111111111111111,\"#46039f\"],[0.2222222222222222,\"#7201a8\"],[0.3333333333333333,\"#9c179e\"],[0.4444444444444444,\"#bd3786\"],[0.5555555555555556,\"#d8576b\"],[0.6666666666666666,\"#ed7953\"],[0.7777777777777778,\"#fb9f3a\"],[0.8888888888888888,\"#fdca26\"],[1.0,\"#f0f921\"]],\"type\":\"histogram2dcontour\"}],\"mesh3d\":[{\"colorbar\":{\"outlinewidth\":0,\"ticks\":\"\"},\"type\":\"mesh3d\"}],\"parcoords\":[{\"line\":{\"colorbar\":{\"outlinewidth\":0,\"ticks\":\"\"}},\"type\":\"parcoords\"}],\"pie\":[{\"automargin\":true,\"type\":\"pie\"}],\"scatter\":[{\"marker\":{\"colorbar\":{\"outlinewidth\":0,\"ticks\":\"\"}},\"type\":\"scatter\"}],\"scatter3d\":[{\"line\":{\"colorbar\":{\"outlinewidth\":0,\"ticks\":\"\"}},\"marker\":{\"colorbar\":{\"outlinewidth\":0,\"ticks\":\"\"}},\"type\":\"scatter3d\"}],\"scattercarpet\":[{\"marker\":{\"colorbar\":{\"outlinewidth\":0,\"ticks\":\"\"}},\"type\":\"scattercarpet\"}],\"scattergeo\":[{\"marker\":{\"colorbar\":{\"outlinewidth\":0,\"ticks\":\"\"}},\"type\":\"scattergeo\"}],\"scattergl\":[{\"marker\":{\"colorbar\":{\"outlinewidth\":0,\"ticks\":\"\"}},\"type\":\"scattergl\"}],\"scattermapbox\":[{\"marker\":{\"colorbar\":{\"outlinewidth\":0,\"ticks\":\"\"}},\"type\":\"scattermapbox\"}],\"scatterpolar\":[{\"marker\":{\"colorbar\":{\"outlinewidth\":0,\"ticks\":\"\"}},\"type\":\"scatterpolar\"}],\"scatterpolargl\":[{\"marker\":{\"colorbar\":{\"outlinewidth\":0,\"ticks\":\"\"}},\"type\":\"scatterpolargl\"}],\"scatterternary\":[{\"marker\":{\"colorbar\":{\"outlinewidth\":0,\"ticks\":\"\"}},\"type\":\"scatterternary\"}],\"surface\":[{\"colorbar\":{\"outlinewidth\":0,\"ticks\":\"\"},\"colorscale\":[[0.0,\"#0d0887\"],[0.1111111111111111,\"#46039f\"],[0.2222222222222222,\"#7201a8\"],[0.3333333333333333,\"#9c179e\"],[0.4444444444444444,\"#bd3786\"],[0.5555555555555556,\"#d8576b\"],[0.6666666666666666,\"#ed7953\"],[0.7777777777777778,\"#fb9f3a\"],[0.8888888888888888,\"#fdca26\"],[1.0,\"#f0f921\"]],\"type\":\"surface\"}],\"table\":[{\"cells\":{\"fill\":{\"color\":\"#EBF0F8\"},\"line\":{\"color\":\"white\"}},\"header\":{\"fill\":{\"color\":\"#C8D4E3\"},\"line\":{\"color\":\"white\"}},\"type\":\"table\"}]},\"layout\":{\"annotationdefaults\":{\"arrowcolor\":\"#2a3f5f\",\"arrowhead\":0,\"arrowwidth\":1},\"autotypenumbers\":\"strict\",\"coloraxis\":{\"colorbar\":{\"outlinewidth\":0,\"ticks\":\"\"}},\"colorscale\":{\"diverging\":[[0,\"#8e0152\"],[0.1,\"#c51b7d\"],[0.2,\"#de77ae\"],[0.3,\"#f1b6da\"],[0.4,\"#fde0ef\"],[0.5,\"#f7f7f7\"],[0.6,\"#e6f5d0\"],[0.7,\"#b8e186\"],[0.8,\"#7fbc41\"],[0.9,\"#4d9221\"],[1,\"#276419\"]],\"sequential\":[[0.0,\"#0d0887\"],[0.1111111111111111,\"#46039f\"],[0.2222222222222222,\"#7201a8\"],[0.3333333333333333,\"#9c179e\"],[0.4444444444444444,\"#bd3786\"],[0.5555555555555556,\"#d8576b\"],[0.6666666666666666,\"#ed7953\"],[0.7777777777777778,\"#fb9f3a\"],[0.8888888888888888,\"#fdca26\"],[1.0,\"#f0f921\"]],\"sequentialminus\":[[0.0,\"#0d0887\"],[0.1111111111111111,\"#46039f\"],[0.2222222222222222,\"#7201a8\"],[0.3333333333333333,\"#9c179e\"],[0.4444444444444444,\"#bd3786\"],[0.5555555555555556,\"#d8576b\"],[0.6666666666666666,\"#ed7953\"],[0.7777777777777778,\"#fb9f3a\"],[0.8888888888888888,\"#fdca26\"],[1.0,\"#f0f921\"]]},\"colorway\":[\"#636efa\",\"#EF553B\",\"#00cc96\",\"#ab63fa\",\"#FFA15A\",\"#19d3f3\",\"#FF6692\",\"#B6E880\",\"#FF97FF\",\"#FECB52\"],\"font\":{\"color\":\"#2a3f5f\"},\"geo\":{\"bgcolor\":\"white\",\"lakecolor\":\"white\",\"landcolor\":\"white\",\"showlakes\":true,\"showland\":true,\"subunitcolor\":\"#C8D4E3\"},\"hoverlabel\":{\"align\":\"left\"},\"hovermode\":\"closest\",\"mapbox\":{\"style\":\"light\"},\"paper_bgcolor\":\"white\",\"plot_bgcolor\":\"white\",\"polar\":{\"angularaxis\":{\"gridcolor\":\"#EBF0F8\",\"linecolor\":\"#EBF0F8\",\"ticks\":\"\"},\"bgcolor\":\"white\",\"radialaxis\":{\"gridcolor\":\"#EBF0F8\",\"linecolor\":\"#EBF0F8\",\"ticks\":\"\"}},\"scene\":{\"xaxis\":{\"backgroundcolor\":\"white\",\"gridcolor\":\"#DFE8F3\",\"gridwidth\":2,\"linecolor\":\"#EBF0F8\",\"showbackground\":true,\"ticks\":\"\",\"zerolinecolor\":\"#EBF0F8\"},\"yaxis\":{\"backgroundcolor\":\"white\",\"gridcolor\":\"#DFE8F3\",\"gridwidth\":2,\"linecolor\":\"#EBF0F8\",\"showbackground\":true,\"ticks\":\"\",\"zerolinecolor\":\"#EBF0F8\"},\"zaxis\":{\"backgroundcolor\":\"white\",\"gridcolor\":\"#DFE8F3\",\"gridwidth\":2,\"linecolor\":\"#EBF0F8\",\"showbackground\":true,\"ticks\":\"\",\"zerolinecolor\":\"#EBF0F8\"}},\"shapedefaults\":{\"line\":{\"color\":\"#2a3f5f\"}},\"ternary\":{\"aaxis\":{\"gridcolor\":\"#DFE8F3\",\"linecolor\":\"#A2B1C6\",\"ticks\":\"\"},\"baxis\":{\"gridcolor\":\"#DFE8F3\",\"linecolor\":\"#A2B1C6\",\"ticks\":\"\"},\"bgcolor\":\"white\",\"caxis\":{\"gridcolor\":\"#DFE8F3\",\"linecolor\":\"#A2B1C6\",\"ticks\":\"\"}},\"title\":{\"x\":0.05},\"xaxis\":{\"automargin\":true,\"gridcolor\":\"#EBF0F8\",\"linecolor\":\"#EBF0F8\",\"ticks\":\"\",\"title\":{\"standoff\":15},\"zerolinecolor\":\"#EBF0F8\",\"zerolinewidth\":2},\"yaxis\":{\"automargin\":true,\"gridcolor\":\"#EBF0F8\",\"linecolor\":\"#EBF0F8\",\"ticks\":\"\",\"title\":{\"standoff\":15},\"zerolinecolor\":\"#EBF0F8\",\"zerolinewidth\":2}}},\"title\":{\"text\":\"Covariance Matrix\"},\"width\":1200,\"xaxis\":{\"dtick\":1,\"gridcolor\":\"rgb(0, 0, 0)\",\"showgrid\":false,\"side\":\"top\",\"ticks\":\"\",\"zeroline\":false},\"yaxis\":{\"autorange\":\"reversed\",\"dtick\":1,\"showgrid\":false,\"ticks\":\"\",\"ticksuffix\":\"  \",\"zeroline\":false}},                        {\"responsive\": true}                    ).then(function(){\n",
       "                            \n",
       "var gd = document.getElementById('e075fd83-f4d2-42b7-a00f-64211022358d');\n",
       "var x = new MutationObserver(function (mutations, observer) {{\n",
       "        var display = window.getComputedStyle(gd).display;\n",
       "        if (!display || display === 'none') {{\n",
       "            console.log([gd, 'removed!']);\n",
       "            Plotly.purge(gd);\n",
       "            observer.disconnect();\n",
       "        }}\n",
       "}});\n",
       "\n",
       "// Listen for the removal of the full notebook cells\n",
       "var notebookContainer = gd.closest('#notebook-container');\n",
       "if (notebookContainer) {{\n",
       "    x.observe(notebookContainer, {childList: true});\n",
       "}}\n",
       "\n",
       "// Listen for the clearing of the current output cell\n",
       "var outputEl = gd.closest('.output');\n",
       "if (outputEl) {{\n",
       "    x.observe(outputEl, {childList: true});\n",
       "}}\n",
       "\n",
       "                        })                };                });            </script>        </div>"
      ]
     },
     "metadata": {},
     "output_type": "display_data"
    }
   ],
   "source": [
    "fig = ff.create_annotated_heatmap(pd.DataFrame(cov_matrix).to_numpy().T.round(2),\n",
    "                                  x = pd.DataFrame(cov_matrix).columns.tolist(),\n",
    "                                  y = pd.DataFrame(cov_matrix).columns.tolist(),\n",
    "                                  showscale=True, colorscale=my_colorsc )\n",
    "\n",
    "fig.update_layout(\n",
    "    autosize=False,\n",
    "    width=1200,\n",
    "    height=800,\n",
    "    title_text=\"Covariance Matrix\",\n",
    "        xaxis_showgrid=False,\n",
    "    yaxis_showgrid=False,\n",
    "    xaxis_zeroline=False,\n",
    "    yaxis_zeroline=False,\n",
    "    yaxis_autorange='reversed',\n",
    "    template='plotly_white'\n",
    ")\n",
    "\n",
    "for i in range(len(fig.layout.annotations)):\n",
    "    if fig.layout.annotations[i].text == 'nan':\n",
    "        fig.layout.annotations[i].text = \"\"\n",
    "\n",
    "fig.show()"
   ]
  },
  {
   "cell_type": "code",
   "execution_count": 24,
   "id": "6e5a3734-ee83-4e14-8d71-6e669a19881f",
   "metadata": {},
   "outputs": [
    {
     "name": "stderr",
     "output_type": "stream",
     "text": [
      "/var/folders/6l/c4m0953s1_jgnd_y35l2l7kc0000gp/T/ipykernel_4902/1643358072.py:2: RuntimeWarning:\n",
      "\n",
      "covariance is not positive-semidefinite.\n",
      "\n"
     ]
    },
    {
     "data": {
      "text/html": [
       "<div><div id=9f0d9f0a-f157-4f13-8cc6-2269bc96b90d style=\"display:none; background-color:#9D6CFF; color:white; width:200px; height:30px; padding-left:5px; border-radius:4px; flex-direction:row; justify-content:space-around; align-items:center;\" onmouseover=\"this.style.backgroundColor='#BA9BF8'\" onmouseout=\"this.style.backgroundColor='#9D6CFF'\" onclick=\"window.commands?.execute('create-mitosheet-from-dataframe-output');\">See Full Dataframe in Mito</div> <script> if (window.commands.hasCommand('create-mitosheet-from-dataframe-output')) document.getElementById('9f0d9f0a-f157-4f13-8cc6-2269bc96b90d').style.display = 'flex' </script> <table border=\"1\" class=\"dataframe\">\n",
       "  <thead>\n",
       "    <tr style=\"text-align: right;\">\n",
       "      <th></th>\n",
       "      <th>Input 01</th>\n",
       "      <th>Input 02</th>\n",
       "      <th>Input 03</th>\n",
       "      <th>Input 04</th>\n",
       "      <th>Input 05</th>\n",
       "      <th>Input 06</th>\n",
       "      <th>Input 07</th>\n",
       "      <th>Input 08</th>\n",
       "      <th>Input 09</th>\n",
       "      <th>Input 10</th>\n",
       "      <th>Input 11</th>\n",
       "      <th>Input 12</th>\n",
       "      <th>Input 13</th>\n",
       "      <th>Input 14</th>\n",
       "      <th>Input 15</th>\n",
       "      <th>Output 01</th>\n",
       "    </tr>\n",
       "  </thead>\n",
       "  <tbody>\n",
       "    <tr>\n",
       "      <th>DMU 0001</th>\n",
       "      <td>275.46</td>\n",
       "      <td>50.34</td>\n",
       "      <td>340.07</td>\n",
       "      <td>198.33</td>\n",
       "      <td>252.31</td>\n",
       "      <td>152.33</td>\n",
       "      <td>171.94</td>\n",
       "      <td>351.93</td>\n",
       "      <td>99.92</td>\n",
       "      <td>276.03</td>\n",
       "      <td>521.97</td>\n",
       "      <td>377.73</td>\n",
       "      <td>182.73</td>\n",
       "      <td>323.82</td>\n",
       "      <td>149.79</td>\n",
       "      <td>604.61</td>\n",
       "    </tr>\n",
       "    <tr>\n",
       "      <th>DMU 0002</th>\n",
       "      <td>215.47</td>\n",
       "      <td>60.38</td>\n",
       "      <td>340.06</td>\n",
       "      <td>310.86</td>\n",
       "      <td>293.92</td>\n",
       "      <td>194.99</td>\n",
       "      <td>213.47</td>\n",
       "      <td>449.00</td>\n",
       "      <td>236.11</td>\n",
       "      <td>219.68</td>\n",
       "      <td>448.57</td>\n",
       "      <td>389.20</td>\n",
       "      <td>136.40</td>\n",
       "      <td>381.47</td>\n",
       "      <td>155.19</td>\n",
       "      <td>549.84</td>\n",
       "    </tr>\n",
       "    <tr>\n",
       "      <th>DMU 0003</th>\n",
       "      <td>300.23</td>\n",
       "      <td>64.11</td>\n",
       "      <td>340.12</td>\n",
       "      <td>309.33</td>\n",
       "      <td>318.17</td>\n",
       "      <td>150.53</td>\n",
       "      <td>158.62</td>\n",
       "      <td>260.07</td>\n",
       "      <td>220.55</td>\n",
       "      <td>198.77</td>\n",
       "      <td>347.80</td>\n",
       "      <td>180.49</td>\n",
       "      <td>143.57</td>\n",
       "      <td>314.84</td>\n",
       "      <td>152.35</td>\n",
       "      <td>374.89</td>\n",
       "    </tr>\n",
       "    <tr>\n",
       "      <th>DMU 0004</th>\n",
       "      <td>318.80</td>\n",
       "      <td>70.69</td>\n",
       "      <td>340.03</td>\n",
       "      <td>308.70</td>\n",
       "      <td>284.31</td>\n",
       "      <td>177.03</td>\n",
       "      <td>184.56</td>\n",
       "      <td>248.79</td>\n",
       "      <td>196.65</td>\n",
       "      <td>194.76</td>\n",
       "      <td>308.82</td>\n",
       "      <td>370.43</td>\n",
       "      <td>154.72</td>\n",
       "      <td>236.00</td>\n",
       "      <td>150.82</td>\n",
       "      <td>308.83</td>\n",
       "    </tr>\n",
       "    <tr>\n",
       "      <th>DMU 0005</th>\n",
       "      <td>308.48</td>\n",
       "      <td>76.50</td>\n",
       "      <td>340.03</td>\n",
       "      <td>300.18</td>\n",
       "      <td>320.88</td>\n",
       "      <td>186.92</td>\n",
       "      <td>207.32</td>\n",
       "      <td>311.17</td>\n",
       "      <td>217.06</td>\n",
       "      <td>213.73</td>\n",
       "      <td>369.79</td>\n",
       "      <td>371.99</td>\n",
       "      <td>140.98</td>\n",
       "      <td>334.56</td>\n",
       "      <td>153.16</td>\n",
       "      <td>478.87</td>\n",
       "    </tr>\n",
       "    <tr>\n",
       "      <th>...</th>\n",
       "      <td>...</td>\n",
       "      <td>...</td>\n",
       "      <td>...</td>\n",
       "      <td>...</td>\n",
       "      <td>...</td>\n",
       "      <td>...</td>\n",
       "      <td>...</td>\n",
       "      <td>...</td>\n",
       "      <td>...</td>\n",
       "      <td>...</td>\n",
       "      <td>...</td>\n",
       "      <td>...</td>\n",
       "      <td>...</td>\n",
       "      <td>...</td>\n",
       "      <td>...</td>\n",
       "      <td>...</td>\n",
       "    </tr>\n",
       "    <tr>\n",
       "      <th>DMU 0996</th>\n",
       "      <td>229.84</td>\n",
       "      <td>62.77</td>\n",
       "      <td>340.10</td>\n",
       "      <td>307.80</td>\n",
       "      <td>251.16</td>\n",
       "      <td>170.90</td>\n",
       "      <td>181.09</td>\n",
       "      <td>345.93</td>\n",
       "      <td>209.08</td>\n",
       "      <td>206.03</td>\n",
       "      <td>420.21</td>\n",
       "      <td>324.91</td>\n",
       "      <td>145.44</td>\n",
       "      <td>267.75</td>\n",
       "      <td>152.00</td>\n",
       "      <td>434.69</td>\n",
       "    </tr>\n",
       "    <tr>\n",
       "      <th>DMU 0997</th>\n",
       "      <td>277.75</td>\n",
       "      <td>63.85</td>\n",
       "      <td>340.07</td>\n",
       "      <td>297.61</td>\n",
       "      <td>292.52</td>\n",
       "      <td>163.04</td>\n",
       "      <td>211.13</td>\n",
       "      <td>295.84</td>\n",
       "      <td>217.56</td>\n",
       "      <td>231.60</td>\n",
       "      <td>454.72</td>\n",
       "      <td>233.57</td>\n",
       "      <td>140.77</td>\n",
       "      <td>400.10</td>\n",
       "      <td>155.33</td>\n",
       "      <td>528.69</td>\n",
       "    </tr>\n",
       "    <tr>\n",
       "      <th>DMU 0998</th>\n",
       "      <td>245.12</td>\n",
       "      <td>44.22</td>\n",
       "      <td>340.05</td>\n",
       "      <td>310.36</td>\n",
       "      <td>284.72</td>\n",
       "      <td>157.20</td>\n",
       "      <td>154.61</td>\n",
       "      <td>341.60</td>\n",
       "      <td>168.51</td>\n",
       "      <td>281.86</td>\n",
       "      <td>383.23</td>\n",
       "      <td>351.73</td>\n",
       "      <td>166.37</td>\n",
       "      <td>259.97</td>\n",
       "      <td>151.17</td>\n",
       "      <td>448.42</td>\n",
       "    </tr>\n",
       "    <tr>\n",
       "      <th>DMU 0999</th>\n",
       "      <td>229.51</td>\n",
       "      <td>72.14</td>\n",
       "      <td>340.09</td>\n",
       "      <td>313.09</td>\n",
       "      <td>277.03</td>\n",
       "      <td>161.84</td>\n",
       "      <td>177.60</td>\n",
       "      <td>347.74</td>\n",
       "      <td>232.43</td>\n",
       "      <td>226.38</td>\n",
       "      <td>397.84</td>\n",
       "      <td>333.21</td>\n",
       "      <td>132.83</td>\n",
       "      <td>351.30</td>\n",
       "      <td>154.23</td>\n",
       "      <td>483.78</td>\n",
       "    </tr>\n",
       "    <tr>\n",
       "      <th>DMU 1000</th>\n",
       "      <td>345.20</td>\n",
       "      <td>64.26</td>\n",
       "      <td>340.03</td>\n",
       "      <td>299.28</td>\n",
       "      <td>319.01</td>\n",
       "      <td>203.12</td>\n",
       "      <td>186.08</td>\n",
       "      <td>286.17</td>\n",
       "      <td>264.56</td>\n",
       "      <td>171.45</td>\n",
       "      <td>298.56</td>\n",
       "      <td>380.98</td>\n",
       "      <td>137.34</td>\n",
       "      <td>272.06</td>\n",
       "      <td>154.64</td>\n",
       "      <td>289.95</td>\n",
       "    </tr>\n",
       "  </tbody>\n",
       "</table></div>"
      ],
      "text/plain": [
       "          Input 01  Input 02  Input 03  Input 04  Input 05  Input 06  \\\n",
       "DMU 0001    275.46     50.34    340.07    198.33    252.31    152.33   \n",
       "DMU 0002    215.47     60.38    340.06    310.86    293.92    194.99   \n",
       "DMU 0003    300.23     64.11    340.12    309.33    318.17    150.53   \n",
       "DMU 0004    318.80     70.69    340.03    308.70    284.31    177.03   \n",
       "DMU 0005    308.48     76.50    340.03    300.18    320.88    186.92   \n",
       "...            ...       ...       ...       ...       ...       ...   \n",
       "DMU 0996    229.84     62.77    340.10    307.80    251.16    170.90   \n",
       "DMU 0997    277.75     63.85    340.07    297.61    292.52    163.04   \n",
       "DMU 0998    245.12     44.22    340.05    310.36    284.72    157.20   \n",
       "DMU 0999    229.51     72.14    340.09    313.09    277.03    161.84   \n",
       "DMU 1000    345.20     64.26    340.03    299.28    319.01    203.12   \n",
       "\n",
       "          Input 07  Input 08  Input 09  Input 10  Input 11  Input 12  \\\n",
       "DMU 0001    171.94    351.93     99.92    276.03    521.97    377.73   \n",
       "DMU 0002    213.47    449.00    236.11    219.68    448.57    389.20   \n",
       "DMU 0003    158.62    260.07    220.55    198.77    347.80    180.49   \n",
       "DMU 0004    184.56    248.79    196.65    194.76    308.82    370.43   \n",
       "DMU 0005    207.32    311.17    217.06    213.73    369.79    371.99   \n",
       "...            ...       ...       ...       ...       ...       ...   \n",
       "DMU 0996    181.09    345.93    209.08    206.03    420.21    324.91   \n",
       "DMU 0997    211.13    295.84    217.56    231.60    454.72    233.57   \n",
       "DMU 0998    154.61    341.60    168.51    281.86    383.23    351.73   \n",
       "DMU 0999    177.60    347.74    232.43    226.38    397.84    333.21   \n",
       "DMU 1000    186.08    286.17    264.56    171.45    298.56    380.98   \n",
       "\n",
       "          Input 13  Input 14  Input 15  Output 01  \n",
       "DMU 0001    182.73    323.82    149.79     604.61  \n",
       "DMU 0002    136.40    381.47    155.19     549.84  \n",
       "DMU 0003    143.57    314.84    152.35     374.89  \n",
       "DMU 0004    154.72    236.00    150.82     308.83  \n",
       "DMU 0005    140.98    334.56    153.16     478.87  \n",
       "...            ...       ...       ...        ...  \n",
       "DMU 0996    145.44    267.75    152.00     434.69  \n",
       "DMU 0997    140.77    400.10    155.33     528.69  \n",
       "DMU 0998    166.37    259.97    151.17     448.42  \n",
       "DMU 0999    132.83    351.30    154.23     483.78  \n",
       "DMU 1000    137.34    272.06    154.64     289.95  \n",
       "\n",
       "[1000 rows x 16 columns]"
      ]
     },
     "execution_count": 24,
     "metadata": {},
     "output_type": "execute_result"
    }
   ],
   "source": [
    "np.random.seed(0)\n",
    "US_15 = pd.DataFrame(np.random.multivariate_normal(mean_q, cov_matrix, 1000))\n",
    "US_15.columns = [\"Input \" + str(i + 1).zfill(2) for i in range(m)] + [\"Output \" + str(i + 1).zfill(2) for i in range(s)]\n",
    "US_15.index = [\"DMU \" + str(i + 1).zfill(4) for i in range(len(US_15))]\n",
    "US_15 = US_15.round(2)\n",
    "US_15"
   ]
  },
  {
   "cell_type": "code",
   "execution_count": 25,
   "id": "13c071a9-6b19-4e34-baed-3277a86c81b1",
   "metadata": {},
   "outputs": [
    {
     "data": {
      "text/plain": [
       "Input 01     0\n",
       "Input 02     0\n",
       "Input 03     0\n",
       "Input 04     0\n",
       "Input 05     0\n",
       "Input 06     0\n",
       "Input 07     0\n",
       "Input 08     0\n",
       "Input 09     0\n",
       "Input 10     0\n",
       "Input 11     0\n",
       "Input 12     0\n",
       "Input 13     0\n",
       "Input 14     0\n",
       "Input 15     0\n",
       "Output 01    0\n",
       "dtype: int64"
      ]
     },
     "execution_count": 25,
     "metadata": {},
     "output_type": "execute_result"
    }
   ],
   "source": [
    "(US_15<=0).sum()"
   ]
  },
  {
   "cell_type": "code",
   "execution_count": 26,
   "id": "2e9cc3e2-4548-4ea0-99d5-4a9f17dfa250",
   "metadata": {},
   "outputs": [],
   "source": [
    "US_15.to_excel(\"Data/US15I1O.xlsx\")"
   ]
  },
  {
   "cell_type": "code",
   "execution_count": 27,
   "id": "de36dfbd-bb24-49c8-8c14-b65f667c980e",
   "metadata": {},
   "outputs": [
    {
     "data": {
      "text/html": [
       "<div><div id=ddb78149-4d51-4a20-b462-5f0d0f0d73d8 style=\"display:none; background-color:#9D6CFF; color:white; width:200px; height:30px; padding-left:5px; border-radius:4px; flex-direction:row; justify-content:space-around; align-items:center;\" onmouseover=\"this.style.backgroundColor='#BA9BF8'\" onmouseout=\"this.style.backgroundColor='#9D6CFF'\" onclick=\"window.commands?.execute('create-mitosheet-from-dataframe-output');\">See Full Dataframe in Mito</div> <script> if (window.commands.hasCommand('create-mitosheet-from-dataframe-output')) document.getElementById('ddb78149-4d51-4a20-b462-5f0d0f0d73d8').style.display = 'flex' </script> <table border=\"1\" class=\"dataframe\">\n",
       "  <thead>\n",
       "    <tr style=\"text-align: right;\">\n",
       "      <th></th>\n",
       "      <th>Input 01</th>\n",
       "      <th>Input 02</th>\n",
       "      <th>Input 03</th>\n",
       "      <th>Input 04</th>\n",
       "      <th>Input 05</th>\n",
       "      <th>Input 06</th>\n",
       "      <th>Input 07</th>\n",
       "      <th>Input 08</th>\n",
       "      <th>Input 09</th>\n",
       "      <th>Input 10</th>\n",
       "      <th>Input 11</th>\n",
       "      <th>Input 12</th>\n",
       "      <th>Input 13</th>\n",
       "      <th>Input 14</th>\n",
       "      <th>Input 15</th>\n",
       "      <th>Output 01</th>\n",
       "    </tr>\n",
       "  </thead>\n",
       "  <tbody>\n",
       "    <tr>\n",
       "      <th>DMU 0001</th>\n",
       "      <td>275.46</td>\n",
       "      <td>50.34</td>\n",
       "      <td>340.07</td>\n",
       "      <td>198.33</td>\n",
       "      <td>252.31</td>\n",
       "      <td>152.33</td>\n",
       "      <td>171.94</td>\n",
       "      <td>351.93</td>\n",
       "      <td>99.92</td>\n",
       "      <td>276.03</td>\n",
       "      <td>521.97</td>\n",
       "      <td>377.73</td>\n",
       "      <td>182.73</td>\n",
       "      <td>323.82</td>\n",
       "      <td>149.79</td>\n",
       "      <td>604.61</td>\n",
       "    </tr>\n",
       "    <tr>\n",
       "      <th>DMU 0002</th>\n",
       "      <td>215.47</td>\n",
       "      <td>60.38</td>\n",
       "      <td>340.06</td>\n",
       "      <td>310.86</td>\n",
       "      <td>293.92</td>\n",
       "      <td>194.99</td>\n",
       "      <td>213.47</td>\n",
       "      <td>449.00</td>\n",
       "      <td>236.11</td>\n",
       "      <td>219.68</td>\n",
       "      <td>448.57</td>\n",
       "      <td>389.20</td>\n",
       "      <td>136.40</td>\n",
       "      <td>381.47</td>\n",
       "      <td>155.19</td>\n",
       "      <td>549.84</td>\n",
       "    </tr>\n",
       "    <tr>\n",
       "      <th>DMU 0003</th>\n",
       "      <td>300.23</td>\n",
       "      <td>64.11</td>\n",
       "      <td>340.12</td>\n",
       "      <td>309.33</td>\n",
       "      <td>318.17</td>\n",
       "      <td>150.53</td>\n",
       "      <td>158.62</td>\n",
       "      <td>260.07</td>\n",
       "      <td>220.55</td>\n",
       "      <td>198.77</td>\n",
       "      <td>347.80</td>\n",
       "      <td>180.49</td>\n",
       "      <td>143.57</td>\n",
       "      <td>314.84</td>\n",
       "      <td>152.35</td>\n",
       "      <td>374.89</td>\n",
       "    </tr>\n",
       "    <tr>\n",
       "      <th>DMU 0004</th>\n",
       "      <td>318.80</td>\n",
       "      <td>70.69</td>\n",
       "      <td>340.03</td>\n",
       "      <td>308.70</td>\n",
       "      <td>284.31</td>\n",
       "      <td>177.03</td>\n",
       "      <td>184.56</td>\n",
       "      <td>248.79</td>\n",
       "      <td>196.65</td>\n",
       "      <td>194.76</td>\n",
       "      <td>308.82</td>\n",
       "      <td>370.43</td>\n",
       "      <td>154.72</td>\n",
       "      <td>236.00</td>\n",
       "      <td>150.82</td>\n",
       "      <td>308.83</td>\n",
       "    </tr>\n",
       "    <tr>\n",
       "      <th>DMU 0005</th>\n",
       "      <td>308.48</td>\n",
       "      <td>76.50</td>\n",
       "      <td>340.03</td>\n",
       "      <td>300.18</td>\n",
       "      <td>320.88</td>\n",
       "      <td>186.92</td>\n",
       "      <td>207.32</td>\n",
       "      <td>311.17</td>\n",
       "      <td>217.06</td>\n",
       "      <td>213.73</td>\n",
       "      <td>369.79</td>\n",
       "      <td>371.99</td>\n",
       "      <td>140.98</td>\n",
       "      <td>334.56</td>\n",
       "      <td>153.16</td>\n",
       "      <td>478.87</td>\n",
       "    </tr>\n",
       "    <tr>\n",
       "      <th>...</th>\n",
       "      <td>...</td>\n",
       "      <td>...</td>\n",
       "      <td>...</td>\n",
       "      <td>...</td>\n",
       "      <td>...</td>\n",
       "      <td>...</td>\n",
       "      <td>...</td>\n",
       "      <td>...</td>\n",
       "      <td>...</td>\n",
       "      <td>...</td>\n",
       "      <td>...</td>\n",
       "      <td>...</td>\n",
       "      <td>...</td>\n",
       "      <td>...</td>\n",
       "      <td>...</td>\n",
       "      <td>...</td>\n",
       "    </tr>\n",
       "    <tr>\n",
       "      <th>DMU 0996</th>\n",
       "      <td>229.84</td>\n",
       "      <td>62.77</td>\n",
       "      <td>340.10</td>\n",
       "      <td>307.80</td>\n",
       "      <td>251.16</td>\n",
       "      <td>170.90</td>\n",
       "      <td>181.09</td>\n",
       "      <td>345.93</td>\n",
       "      <td>209.08</td>\n",
       "      <td>206.03</td>\n",
       "      <td>420.21</td>\n",
       "      <td>324.91</td>\n",
       "      <td>145.44</td>\n",
       "      <td>267.75</td>\n",
       "      <td>152.00</td>\n",
       "      <td>434.69</td>\n",
       "    </tr>\n",
       "    <tr>\n",
       "      <th>DMU 0997</th>\n",
       "      <td>277.75</td>\n",
       "      <td>63.85</td>\n",
       "      <td>340.07</td>\n",
       "      <td>297.61</td>\n",
       "      <td>292.52</td>\n",
       "      <td>163.04</td>\n",
       "      <td>211.13</td>\n",
       "      <td>295.84</td>\n",
       "      <td>217.56</td>\n",
       "      <td>231.60</td>\n",
       "      <td>454.72</td>\n",
       "      <td>233.57</td>\n",
       "      <td>140.77</td>\n",
       "      <td>400.10</td>\n",
       "      <td>155.33</td>\n",
       "      <td>528.69</td>\n",
       "    </tr>\n",
       "    <tr>\n",
       "      <th>DMU 0998</th>\n",
       "      <td>245.12</td>\n",
       "      <td>44.22</td>\n",
       "      <td>340.05</td>\n",
       "      <td>310.36</td>\n",
       "      <td>284.72</td>\n",
       "      <td>157.20</td>\n",
       "      <td>154.61</td>\n",
       "      <td>341.60</td>\n",
       "      <td>168.51</td>\n",
       "      <td>281.86</td>\n",
       "      <td>383.23</td>\n",
       "      <td>351.73</td>\n",
       "      <td>166.37</td>\n",
       "      <td>259.97</td>\n",
       "      <td>151.17</td>\n",
       "      <td>448.42</td>\n",
       "    </tr>\n",
       "    <tr>\n",
       "      <th>DMU 0999</th>\n",
       "      <td>229.51</td>\n",
       "      <td>72.14</td>\n",
       "      <td>340.09</td>\n",
       "      <td>313.09</td>\n",
       "      <td>277.03</td>\n",
       "      <td>161.84</td>\n",
       "      <td>177.60</td>\n",
       "      <td>347.74</td>\n",
       "      <td>232.43</td>\n",
       "      <td>226.38</td>\n",
       "      <td>397.84</td>\n",
       "      <td>333.21</td>\n",
       "      <td>132.83</td>\n",
       "      <td>351.30</td>\n",
       "      <td>154.23</td>\n",
       "      <td>483.78</td>\n",
       "    </tr>\n",
       "    <tr>\n",
       "      <th>DMU 1000</th>\n",
       "      <td>345.20</td>\n",
       "      <td>64.26</td>\n",
       "      <td>340.03</td>\n",
       "      <td>299.28</td>\n",
       "      <td>319.01</td>\n",
       "      <td>203.12</td>\n",
       "      <td>186.08</td>\n",
       "      <td>286.17</td>\n",
       "      <td>264.56</td>\n",
       "      <td>171.45</td>\n",
       "      <td>298.56</td>\n",
       "      <td>380.98</td>\n",
       "      <td>137.34</td>\n",
       "      <td>272.06</td>\n",
       "      <td>154.64</td>\n",
       "      <td>289.95</td>\n",
       "    </tr>\n",
       "  </tbody>\n",
       "</table></div>"
      ],
      "text/plain": [
       "          Input 01  Input 02  Input 03  Input 04  Input 05  Input 06  \\\n",
       "DMU 0001    275.46     50.34    340.07    198.33    252.31    152.33   \n",
       "DMU 0002    215.47     60.38    340.06    310.86    293.92    194.99   \n",
       "DMU 0003    300.23     64.11    340.12    309.33    318.17    150.53   \n",
       "DMU 0004    318.80     70.69    340.03    308.70    284.31    177.03   \n",
       "DMU 0005    308.48     76.50    340.03    300.18    320.88    186.92   \n",
       "...            ...       ...       ...       ...       ...       ...   \n",
       "DMU 0996    229.84     62.77    340.10    307.80    251.16    170.90   \n",
       "DMU 0997    277.75     63.85    340.07    297.61    292.52    163.04   \n",
       "DMU 0998    245.12     44.22    340.05    310.36    284.72    157.20   \n",
       "DMU 0999    229.51     72.14    340.09    313.09    277.03    161.84   \n",
       "DMU 1000    345.20     64.26    340.03    299.28    319.01    203.12   \n",
       "\n",
       "          Input 07  Input 08  Input 09  Input 10  Input 11  Input 12  \\\n",
       "DMU 0001    171.94    351.93     99.92    276.03    521.97    377.73   \n",
       "DMU 0002    213.47    449.00    236.11    219.68    448.57    389.20   \n",
       "DMU 0003    158.62    260.07    220.55    198.77    347.80    180.49   \n",
       "DMU 0004    184.56    248.79    196.65    194.76    308.82    370.43   \n",
       "DMU 0005    207.32    311.17    217.06    213.73    369.79    371.99   \n",
       "...            ...       ...       ...       ...       ...       ...   \n",
       "DMU 0996    181.09    345.93    209.08    206.03    420.21    324.91   \n",
       "DMU 0997    211.13    295.84    217.56    231.60    454.72    233.57   \n",
       "DMU 0998    154.61    341.60    168.51    281.86    383.23    351.73   \n",
       "DMU 0999    177.60    347.74    232.43    226.38    397.84    333.21   \n",
       "DMU 1000    186.08    286.17    264.56    171.45    298.56    380.98   \n",
       "\n",
       "          Input 13  Input 14  Input 15  Output 01  \n",
       "DMU 0001    182.73    323.82    149.79     604.61  \n",
       "DMU 0002    136.40    381.47    155.19     549.84  \n",
       "DMU 0003    143.57    314.84    152.35     374.89  \n",
       "DMU 0004    154.72    236.00    150.82     308.83  \n",
       "DMU 0005    140.98    334.56    153.16     478.87  \n",
       "...            ...       ...       ...        ...  \n",
       "DMU 0996    145.44    267.75    152.00     434.69  \n",
       "DMU 0997    140.77    400.10    155.33     528.69  \n",
       "DMU 0998    166.37    259.97    151.17     448.42  \n",
       "DMU 0999    132.83    351.30    154.23     483.78  \n",
       "DMU 1000    137.34    272.06    154.64     289.95  \n",
       "\n",
       "[1000 rows x 16 columns]"
      ]
     },
     "execution_count": 27,
     "metadata": {},
     "output_type": "execute_result"
    }
   ],
   "source": [
    "df = pd.read_excel(\"Data/US15I1O.xlsx\", index_col = 0)\n",
    "df"
   ]
  },
  {
   "cell_type": "code",
   "execution_count": null,
   "id": "b6ff9e89-c47e-471f-ad61-1cbe4f537e05",
   "metadata": {},
   "outputs": [],
   "source": []
  }
 ],
 "metadata": {
  "kernelspec": {
   "display_name": "Python 3 (ipykernel)",
   "language": "python",
   "name": "python3"
  },
  "language_info": {
   "codemirror_mode": {
    "name": "ipython",
    "version": 3
   },
   "file_extension": ".py",
   "mimetype": "text/x-python",
   "name": "python",
   "nbconvert_exporter": "python",
   "pygments_lexer": "ipython3",
   "version": "3.8.11"
  }
 },
 "nbformat": 4,
 "nbformat_minor": 5
}

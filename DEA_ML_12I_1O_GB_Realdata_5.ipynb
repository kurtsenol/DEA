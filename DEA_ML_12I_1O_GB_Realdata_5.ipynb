{
 "cells": [
  {
   "cell_type": "code",
   "execution_count": 46,
   "id": "a86954ba-3efc-4b5d-b5f8-d37efabd5366",
   "metadata": {},
   "outputs": [
    {
     "data": {
      "text/html": [
       "<script>\n",
       "code_show=true; \n",
       "function code_toggle() {\n",
       " if (code_show){\n",
       " $('div.input').hide();\n",
       " } else {\n",
       " $('div.input').show();\n",
       " }\n",
       " code_show = !code_show\n",
       "} \n",
       "$( document ).ready(code_toggle);\n",
       "</script>\n",
       "To toggle on/off the raw code, click <a href=\"javascript:code_toggle()\">here</a>."
      ],
      "text/plain": [
       "<IPython.core.display.HTML object>"
      ]
     },
     "execution_count": 46,
     "metadata": {},
     "output_type": "execute_result"
    }
   ],
   "source": [
    "from IPython.display import HTML\n",
    "HTML('''<script>\n",
    "code_show=true; \n",
    "function code_toggle() {\n",
    " if (code_show){\n",
    " $('div.input').hide();\n",
    " } else {\n",
    " $('div.input').show();\n",
    " }\n",
    " code_show = !code_show\n",
    "} \n",
    "$( document ).ready(code_toggle);\n",
    "</script>\n",
    "To toggle on/off the raw code, click <a href=\"javascript:code_toggle()\">here</a>.''')"
   ]
  },
  {
   "cell_type": "code",
   "execution_count": 47,
   "id": "fc798ec7",
   "metadata": {},
   "outputs": [],
   "source": [
    "import pandas as pd\n",
    "import numpy as np\n",
    "from scipy import stats\n",
    "import pickle\n",
    "import os\n",
    "\n",
    "import matplotlib.pyplot as plt\n",
    "import seaborn as sns\n",
    "\n",
    "import xgboost as xgb\n",
    "\n",
    "np.set_printoptions(linewidth=np.inf, suppress=True, precision=2)"
   ]
  },
  {
   "cell_type": "code",
   "execution_count": 48,
   "id": "0dc16ee5-c9ac-4236-9b59-996fecd94413",
   "metadata": {},
   "outputs": [],
   "source": [
    "from sklearn.pipeline import make_pipeline\n",
    "from sklearn.compose import make_column_transformer\n",
    "from sklearn.model_selection import train_test_split, cross_val_score\n",
    "from sklearn.preprocessing import MinMaxScaler, StandardScaler, PolynomialFeatures\n",
    "from sklearn.metrics import mean_squared_error, r2_score \n",
    "\n",
    "from sklearn.linear_model import LinearRegression, Lasso, Ridge, ElasticNet\n",
    "from sklearn.ensemble import GradientBoostingRegressor\n",
    "from sklearn.neighbors import KNeighborsRegressor\n",
    "from sklearn.ensemble import RandomForestRegressor\n",
    "from sklearn.model_selection import GridSearchCV, RandomizedSearchCV\n",
    "\n",
    "import tensorflow as tf\n",
    "\n",
    "from sklearn.gaussian_process.kernels import (RBF, Matern, RationalQuadratic,ExpSineSquared, DotProduct,ConstantKernel)\n",
    "from sklearn.gaussian_process import GaussianProcessRegressor  \n",
    "from sklearn.svm import SVR"
   ]
  },
  {
   "cell_type": "code",
   "execution_count": 49,
   "id": "6d565361-d152-4459-be65-97e811d5d01e",
   "metadata": {},
   "outputs": [
    {
     "data": {
      "text/html": [
       "        <script type=\"text/javascript\">\n",
       "        window.PlotlyConfig = {MathJaxConfig: 'local'};\n",
       "        if (window.MathJax) {MathJax.Hub.Config({SVG: {font: \"STIX-Web\"}});}\n",
       "        if (typeof require !== 'undefined') {\n",
       "        require.undef(\"plotly\");\n",
       "        requirejs.config({\n",
       "            paths: {\n",
       "                'plotly': ['https://cdn.plot.ly/plotly-2.4.1.min']\n",
       "            }\n",
       "        });\n",
       "        require(['plotly'], function(Plotly) {\n",
       "            window._Plotly = Plotly;\n",
       "        });\n",
       "        }\n",
       "        </script>\n",
       "        "
      ]
     },
     "metadata": {},
     "output_type": "display_data"
    }
   ],
   "source": [
    "import plotly.express as px\n",
    "import plotly.offline as pyo\n",
    "import plotly.graph_objs as go\n",
    "from plotly.subplots import make_subplots\n",
    "import plotly.figure_factory as ff\n",
    "\n",
    "pyo.init_notebook_mode(connected=True)"
   ]
  },
  {
   "cell_type": "code",
   "execution_count": 50,
   "id": "ffd53b41-3b20-4c45-b78a-cea77e036c16",
   "metadata": {},
   "outputs": [],
   "source": [
    "from solver import deasolver"
   ]
  },
  {
   "cell_type": "code",
   "execution_count": 51,
   "id": "97bd60f9-a6b6-4bd3-a9eb-e3345f3bd74b",
   "metadata": {},
   "outputs": [],
   "source": [
    "results = []\n",
    "df_imp = pd.DataFrame()"
   ]
  },
  {
   "cell_type": "code",
   "execution_count": 52,
   "id": "517f52c7-ef75-4204-93b7-f306f554a44b",
   "metadata": {},
   "outputs": [],
   "source": [
    "path = \"Data/RealData/eGrid/recent/\""
   ]
  },
  {
   "cell_type": "code",
   "execution_count": 13,
   "id": "de36dfbd-bb24-49c8-8c14-b65f667c980e",
   "metadata": {},
   "outputs": [],
   "source": [
    "df = pd.read_excel(path + \"egrid2020_data.xlsx\", sheet_name=\"PLNT20\", usecols=\"D, W, AB, AL, AN, AP, AR, AS, AT, AU\").drop(0)"
   ]
  },
  {
   "cell_type": "code",
   "execution_count": 9,
   "id": "dbcaff76-c400-4163-b859-a879d9272a22",
   "metadata": {},
   "outputs": [],
   "source": [
    "# os.listdir(path)"
   ]
  },
  {
   "cell_type": "code",
   "execution_count": 31,
   "id": "87439975-0840-4691-af3f-04fe6e3e2516",
   "metadata": {},
   "outputs": [
    {
     "name": "stdout",
     "output_type": "stream",
     "text": [
      "0\n",
      "0\n",
      "0\n"
     ]
    }
   ],
   "source": [
    "# df= pd.DataFrame()\n",
    "# i=0\n",
    "# for file in os.listdir(path):\n",
    "#     if os.path.splitext(file)[1] == \".xlsx\" and not \"copy\" in file:\n",
    "#         df_temp = pd.read_excel(path + file, sheet_name=3, usecols=\"D, W, AB, AL, AN, AP, AR, AS, AT, AU\").drop(0)\n",
    "#         df = pd.concat([df, df_temp], ignore_index=True)\n",
    "#         print(i)"
   ]
  },
  {
   "cell_type": "code",
   "execution_count": 10,
   "id": "8d6bb9d1-f1d7-48d8-896d-3f67351b8519",
   "metadata": {},
   "outputs": [],
   "source": [
    "df.set_index(\"Plant name\", inplace=True)\n",
    "df.dropna(inplace=True)"
   ]
  },
  {
   "cell_type": "code",
   "execution_count": 11,
   "id": "9e901138-081b-496b-945f-52ad05c5e3a2",
   "metadata": {},
   "outputs": [],
   "source": [
    "df = df[(df!=0).all(axis=1)]"
   ]
  },
  {
   "cell_type": "code",
   "execution_count": 12,
   "id": "11b269fd-a523-45da-901e-0e2007405f33",
   "metadata": {},
   "outputs": [],
   "source": [
    "for col in df.columns:\n",
    "    df[col] = df[col].astype(\"float\")"
   ]
  },
  {
   "cell_type": "code",
   "execution_count": 13,
   "id": "06e444b1-6e2c-40e4-b741-c243a6505698",
   "metadata": {},
   "outputs": [
    {
     "name": "stdout",
     "output_type": "stream",
     "text": [
      "All Bad indexes:['Stored Solar Fitchburg, LLC', 'Scrubgrass Generating Plant', 'McManus', 'Ackerman Combined Cycle Plant', 'Sikeston']\n"
     ]
    }
   ],
   "source": [
    "def find_outliers(df_in, col_name):\n",
    "    Q1 = df_in[col_name].quantile(0.25)\n",
    "    Q3 = df_in[col_name].quantile(0.75)\n",
    "    IQR = Q3-Q1\n",
    "    fence_low  = Q1-1.5*IQR\n",
    "    fence_high = Q3+1.5*IQR\n",
    "    outlier_indexes=df_in[(df_in[col_name] <= fence_low) | (df_in[col_name] >= fence_high)].index.tolist()\n",
    "    return outlier_indexes\n",
    "\n",
    "bad_indexes=[]\n",
    "for col in df.columns:\n",
    "    if df[col].dtype in [\"int64\", \"float64\"]:\n",
    "        outlierindexes= find_outliers(df, col)\n",
    "        bad_indexes.extend(outlierindexes)\n",
    "bad_index_list = list(set(bad_indexes))\n",
    "print(f\"All Bad indexes:{bad_index_list[:5]}\")  "
   ]
  },
  {
   "cell_type": "code",
   "execution_count": 14,
   "id": "3ec234b7-09bb-4286-aad5-e9a18ba8f129",
   "metadata": {},
   "outputs": [
    {
     "data": {
      "text/plain": [
       "1018"
      ]
     },
     "execution_count": 14,
     "metadata": {},
     "output_type": "execute_result"
    }
   ],
   "source": [
    "len(bad_index_list)"
   ]
  },
  {
   "cell_type": "code",
   "execution_count": 15,
   "id": "3ae035eb-fb11-48f1-acbe-921e5b243326",
   "metadata": {},
   "outputs": [],
   "source": [
    "df.drop(bad_index_list, inplace=True)"
   ]
  },
  {
   "cell_type": "code",
   "execution_count": 16,
   "id": "7890281a-dc62-42b6-8068-654e08add827",
   "metadata": {},
   "outputs": [
    {
     "data": {
      "text/plain": [
       "(1736, 9)"
      ]
     },
     "execution_count": 16,
     "metadata": {},
     "output_type": "execute_result"
    }
   ],
   "source": [
    "df.shape"
   ]
  },
  {
   "cell_type": "code",
   "execution_count": 17,
   "id": "33e48366-6c4f-4d32-b58c-89bfa1a3028a",
   "metadata": {},
   "outputs": [
    {
     "data": {
      "text/html": [
       "<div><div id=36d310fb-ede3-4565-8520-67ec6e1c514e style=\"display:none; background-color:#9D6CFF; color:white; width:200px; height:30px; padding-left:5px; border-radius:4px; flex-direction:row; justify-content:space-around; align-items:center;\" onmouseover=\"this.style.backgroundColor='#BA9BF8'\" onmouseout=\"this.style.backgroundColor='#9D6CFF'\" onclick=\"window.commands?.execute('create-mitosheet-from-dataframe-output');\">See Full Dataframe in Mito</div> <script> if (window.commands.hasCommand('create-mitosheet-from-dataframe-output')) document.getElementById('36d310fb-ede3-4565-8520-67ec6e1c514e').style.display = 'flex' </script> <table border=\"1\" class=\"dataframe\">\n",
       "  <thead>\n",
       "    <tr style=\"text-align: right;\">\n",
       "      <th></th>\n",
       "      <th>Number of generators</th>\n",
       "      <th>Plant nameplate capacity (MW)</th>\n",
       "      <th>Plant total annual heat input (MMBtu)</th>\n",
       "      <th>Plant annual net generation (MWh)</th>\n",
       "      <th>Plant annual NOx emissions (tons)</th>\n",
       "      <th>Plant annual SO2 emissions (tons)</th>\n",
       "      <th>Plant annual CO2 emissions (tons)</th>\n",
       "      <th>Plant annual CH4 emissions (lbs)</th>\n",
       "      <th>Plant annual N2O emissions (lbs)</th>\n",
       "    </tr>\n",
       "  </thead>\n",
       "  <tbody>\n",
       "    <tr>\n",
       "      <th>Number of generators</th>\n",
       "      <td>1.000000</td>\n",
       "      <td>0.181480</td>\n",
       "      <td>-0.003909</td>\n",
       "      <td>-0.022683</td>\n",
       "      <td>0.038609</td>\n",
       "      <td>0.021377</td>\n",
       "      <td>-0.001940</td>\n",
       "      <td>-0.059766</td>\n",
       "      <td>-0.065294</td>\n",
       "    </tr>\n",
       "    <tr>\n",
       "      <th>Plant nameplate capacity (MW)</th>\n",
       "      <td>0.181480</td>\n",
       "      <td>1.000000</td>\n",
       "      <td>0.637682</td>\n",
       "      <td>0.549069</td>\n",
       "      <td>0.223820</td>\n",
       "      <td>0.114721</td>\n",
       "      <td>0.632469</td>\n",
       "      <td>0.343939</td>\n",
       "      <td>0.271035</td>\n",
       "    </tr>\n",
       "    <tr>\n",
       "      <th>Plant total annual heat input (MMBtu)</th>\n",
       "      <td>-0.003909</td>\n",
       "      <td>0.637682</td>\n",
       "      <td>1.000000</td>\n",
       "      <td>0.947835</td>\n",
       "      <td>0.403749</td>\n",
       "      <td>0.182435</td>\n",
       "      <td>0.990138</td>\n",
       "      <td>0.587933</td>\n",
       "      <td>0.478235</td>\n",
       "    </tr>\n",
       "    <tr>\n",
       "      <th>Plant annual net generation (MWh)</th>\n",
       "      <td>-0.022683</td>\n",
       "      <td>0.549069</td>\n",
       "      <td>0.947835</td>\n",
       "      <td>1.000000</td>\n",
       "      <td>0.396695</td>\n",
       "      <td>0.189016</td>\n",
       "      <td>0.944962</td>\n",
       "      <td>0.580786</td>\n",
       "      <td>0.477823</td>\n",
       "    </tr>\n",
       "    <tr>\n",
       "      <th>Plant annual NOx emissions (tons)</th>\n",
       "      <td>0.038609</td>\n",
       "      <td>0.223820</td>\n",
       "      <td>0.403749</td>\n",
       "      <td>0.396695</td>\n",
       "      <td>1.000000</td>\n",
       "      <td>0.221986</td>\n",
       "      <td>0.397671</td>\n",
       "      <td>0.276437</td>\n",
       "      <td>0.241109</td>\n",
       "    </tr>\n",
       "    <tr>\n",
       "      <th>Plant annual SO2 emissions (tons)</th>\n",
       "      <td>0.021377</td>\n",
       "      <td>0.114721</td>\n",
       "      <td>0.182435</td>\n",
       "      <td>0.189016</td>\n",
       "      <td>0.221986</td>\n",
       "      <td>1.000000</td>\n",
       "      <td>0.170689</td>\n",
       "      <td>0.466099</td>\n",
       "      <td>0.489287</td>\n",
       "    </tr>\n",
       "    <tr>\n",
       "      <th>Plant annual CO2 emissions (tons)</th>\n",
       "      <td>-0.001940</td>\n",
       "      <td>0.632469</td>\n",
       "      <td>0.990138</td>\n",
       "      <td>0.944962</td>\n",
       "      <td>0.397671</td>\n",
       "      <td>0.170689</td>\n",
       "      <td>1.000000</td>\n",
       "      <td>0.556909</td>\n",
       "      <td>0.446684</td>\n",
       "    </tr>\n",
       "    <tr>\n",
       "      <th>Plant annual CH4 emissions (lbs)</th>\n",
       "      <td>-0.059766</td>\n",
       "      <td>0.343939</td>\n",
       "      <td>0.587933</td>\n",
       "      <td>0.580786</td>\n",
       "      <td>0.276437</td>\n",
       "      <td>0.466099</td>\n",
       "      <td>0.556909</td>\n",
       "      <td>1.000000</td>\n",
       "      <td>0.987415</td>\n",
       "    </tr>\n",
       "    <tr>\n",
       "      <th>Plant annual N2O emissions (lbs)</th>\n",
       "      <td>-0.065294</td>\n",
       "      <td>0.271035</td>\n",
       "      <td>0.478235</td>\n",
       "      <td>0.477823</td>\n",
       "      <td>0.241109</td>\n",
       "      <td>0.489287</td>\n",
       "      <td>0.446684</td>\n",
       "      <td>0.987415</td>\n",
       "      <td>1.000000</td>\n",
       "    </tr>\n",
       "  </tbody>\n",
       "</table></div>"
      ],
      "text/plain": [
       "                                       Number of generators  \\\n",
       "Number of generators                               1.000000   \n",
       "Plant nameplate capacity (MW)                      0.181480   \n",
       "Plant total annual heat input (MMBtu)             -0.003909   \n",
       "Plant annual net generation (MWh)                 -0.022683   \n",
       "Plant annual NOx emissions (tons)                  0.038609   \n",
       "Plant annual SO2 emissions (tons)                  0.021377   \n",
       "Plant annual CO2 emissions (tons)                 -0.001940   \n",
       "Plant annual CH4 emissions (lbs)                  -0.059766   \n",
       "Plant annual N2O emissions (lbs)                  -0.065294   \n",
       "\n",
       "                                       Plant nameplate capacity (MW)  \\\n",
       "Number of generators                                        0.181480   \n",
       "Plant nameplate capacity (MW)                               1.000000   \n",
       "Plant total annual heat input (MMBtu)                       0.637682   \n",
       "Plant annual net generation (MWh)                           0.549069   \n",
       "Plant annual NOx emissions (tons)                           0.223820   \n",
       "Plant annual SO2 emissions (tons)                           0.114721   \n",
       "Plant annual CO2 emissions (tons)                           0.632469   \n",
       "Plant annual CH4 emissions (lbs)                            0.343939   \n",
       "Plant annual N2O emissions (lbs)                            0.271035   \n",
       "\n",
       "                                       Plant total annual heat input (MMBtu)  \\\n",
       "Number of generators                                               -0.003909   \n",
       "Plant nameplate capacity (MW)                                       0.637682   \n",
       "Plant total annual heat input (MMBtu)                               1.000000   \n",
       "Plant annual net generation (MWh)                                   0.947835   \n",
       "Plant annual NOx emissions (tons)                                   0.403749   \n",
       "Plant annual SO2 emissions (tons)                                   0.182435   \n",
       "Plant annual CO2 emissions (tons)                                   0.990138   \n",
       "Plant annual CH4 emissions (lbs)                                    0.587933   \n",
       "Plant annual N2O emissions (lbs)                                    0.478235   \n",
       "\n",
       "                                       Plant annual net generation (MWh)  \\\n",
       "Number of generators                                           -0.022683   \n",
       "Plant nameplate capacity (MW)                                   0.549069   \n",
       "Plant total annual heat input (MMBtu)                           0.947835   \n",
       "Plant annual net generation (MWh)                               1.000000   \n",
       "Plant annual NOx emissions (tons)                               0.396695   \n",
       "Plant annual SO2 emissions (tons)                               0.189016   \n",
       "Plant annual CO2 emissions (tons)                               0.944962   \n",
       "Plant annual CH4 emissions (lbs)                                0.580786   \n",
       "Plant annual N2O emissions (lbs)                                0.477823   \n",
       "\n",
       "                                       Plant annual NOx emissions (tons)  \\\n",
       "Number of generators                                            0.038609   \n",
       "Plant nameplate capacity (MW)                                   0.223820   \n",
       "Plant total annual heat input (MMBtu)                           0.403749   \n",
       "Plant annual net generation (MWh)                               0.396695   \n",
       "Plant annual NOx emissions (tons)                               1.000000   \n",
       "Plant annual SO2 emissions (tons)                               0.221986   \n",
       "Plant annual CO2 emissions (tons)                               0.397671   \n",
       "Plant annual CH4 emissions (lbs)                                0.276437   \n",
       "Plant annual N2O emissions (lbs)                                0.241109   \n",
       "\n",
       "                                       Plant annual SO2 emissions (tons)  \\\n",
       "Number of generators                                            0.021377   \n",
       "Plant nameplate capacity (MW)                                   0.114721   \n",
       "Plant total annual heat input (MMBtu)                           0.182435   \n",
       "Plant annual net generation (MWh)                               0.189016   \n",
       "Plant annual NOx emissions (tons)                               0.221986   \n",
       "Plant annual SO2 emissions (tons)                               1.000000   \n",
       "Plant annual CO2 emissions (tons)                               0.170689   \n",
       "Plant annual CH4 emissions (lbs)                                0.466099   \n",
       "Plant annual N2O emissions (lbs)                                0.489287   \n",
       "\n",
       "                                       Plant annual CO2 emissions (tons)  \\\n",
       "Number of generators                                           -0.001940   \n",
       "Plant nameplate capacity (MW)                                   0.632469   \n",
       "Plant total annual heat input (MMBtu)                           0.990138   \n",
       "Plant annual net generation (MWh)                               0.944962   \n",
       "Plant annual NOx emissions (tons)                               0.397671   \n",
       "Plant annual SO2 emissions (tons)                               0.170689   \n",
       "Plant annual CO2 emissions (tons)                               1.000000   \n",
       "Plant annual CH4 emissions (lbs)                                0.556909   \n",
       "Plant annual N2O emissions (lbs)                                0.446684   \n",
       "\n",
       "                                       Plant annual CH4 emissions (lbs)  \\\n",
       "Number of generators                                          -0.059766   \n",
       "Plant nameplate capacity (MW)                                  0.343939   \n",
       "Plant total annual heat input (MMBtu)                          0.587933   \n",
       "Plant annual net generation (MWh)                              0.580786   \n",
       "Plant annual NOx emissions (tons)                              0.276437   \n",
       "Plant annual SO2 emissions (tons)                              0.466099   \n",
       "Plant annual CO2 emissions (tons)                              0.556909   \n",
       "Plant annual CH4 emissions (lbs)                               1.000000   \n",
       "Plant annual N2O emissions (lbs)                               0.987415   \n",
       "\n",
       "                                       Plant annual N2O emissions (lbs)  \n",
       "Number of generators                                          -0.065294  \n",
       "Plant nameplate capacity (MW)                                  0.271035  \n",
       "Plant total annual heat input (MMBtu)                          0.478235  \n",
       "Plant annual net generation (MWh)                              0.477823  \n",
       "Plant annual NOx emissions (tons)                              0.241109  \n",
       "Plant annual SO2 emissions (tons)                              0.489287  \n",
       "Plant annual CO2 emissions (tons)                              0.446684  \n",
       "Plant annual CH4 emissions (lbs)                               0.987415  \n",
       "Plant annual N2O emissions (lbs)                               1.000000  "
      ]
     },
     "execution_count": 17,
     "metadata": {},
     "output_type": "execute_result"
    }
   ],
   "source": [
    "df.corr()"
   ]
  },
  {
   "cell_type": "code",
   "execution_count": 18,
   "id": "6afbb1bc-f579-48b8-b5bc-84c0abe1ae59",
   "metadata": {},
   "outputs": [],
   "source": [
    "df.index.name = None"
   ]
  },
  {
   "cell_type": "code",
   "execution_count": 19,
   "id": "293ae9dc-0f4f-4c0a-8eff-0f9925414da5",
   "metadata": {},
   "outputs": [
    {
     "data": {
      "text/html": [
       "<div><div id=f205e39f-288b-4820-87a7-5487d8199e3a style=\"display:none; background-color:#9D6CFF; color:white; width:200px; height:30px; padding-left:5px; border-radius:4px; flex-direction:row; justify-content:space-around; align-items:center;\" onmouseover=\"this.style.backgroundColor='#BA9BF8'\" onmouseout=\"this.style.backgroundColor='#9D6CFF'\" onclick=\"window.commands?.execute('create-mitosheet-from-dataframe-output');\">See Full Dataframe in Mito</div> <script> if (window.commands.hasCommand('create-mitosheet-from-dataframe-output')) document.getElementById('f205e39f-288b-4820-87a7-5487d8199e3a').style.display = 'flex' </script> <table border=\"1\" class=\"dataframe\">\n",
       "  <thead>\n",
       "    <tr style=\"text-align: right;\">\n",
       "      <th></th>\n",
       "      <th>Number of generators</th>\n",
       "      <th>Plant nameplate capacity (MW)</th>\n",
       "      <th>Plant total annual heat input (MMBtu)</th>\n",
       "      <th>Plant annual net generation (MWh)</th>\n",
       "      <th>Plant annual NOx emissions (tons)</th>\n",
       "      <th>Plant annual SO2 emissions (tons)</th>\n",
       "      <th>Plant annual CO2 emissions (tons)</th>\n",
       "      <th>Plant annual CH4 emissions (lbs)</th>\n",
       "      <th>Plant annual N2O emissions (lbs)</th>\n",
       "    </tr>\n",
       "  </thead>\n",
       "  <tbody>\n",
       "    <tr>\n",
       "      <th>Ambler</th>\n",
       "      <td>4.0</td>\n",
       "      <td>1.5</td>\n",
       "      <td>11554.999</td>\n",
       "      <td>1212.000</td>\n",
       "      <td>19.200</td>\n",
       "      <td>1.675</td>\n",
       "      <td>943.616</td>\n",
       "      <td>76.423</td>\n",
       "      <td>15.285</td>\n",
       "    </tr>\n",
       "    <tr>\n",
       "      <th>Anchorage 1</th>\n",
       "      <td>8.0</td>\n",
       "      <td>121.4</td>\n",
       "      <td>115024.996</td>\n",
       "      <td>7646.000</td>\n",
       "      <td>18.056</td>\n",
       "      <td>0.193</td>\n",
       "      <td>6724.603</td>\n",
       "      <td>262.106</td>\n",
       "      <td>27.488</td>\n",
       "    </tr>\n",
       "    <tr>\n",
       "      <th>Angoon</th>\n",
       "      <td>4.0</td>\n",
       "      <td>1.9</td>\n",
       "      <td>16506.999</td>\n",
       "      <td>1641.999</td>\n",
       "      <td>26.523</td>\n",
       "      <td>2.393</td>\n",
       "      <td>1348.008</td>\n",
       "      <td>109.175</td>\n",
       "      <td>21.835</td>\n",
       "    </tr>\n",
       "    <tr>\n",
       "      <th>Aniak</th>\n",
       "      <td>6.0</td>\n",
       "      <td>2.6</td>\n",
       "      <td>26541.000</td>\n",
       "      <td>2183.001</td>\n",
       "      <td>44.968</td>\n",
       "      <td>3.848</td>\n",
       "      <td>2167.415</td>\n",
       "      <td>175.539</td>\n",
       "      <td>35.108</td>\n",
       "    </tr>\n",
       "    <tr>\n",
       "      <th>Auke Bay</th>\n",
       "      <td>3.0</td>\n",
       "      <td>36.2</td>\n",
       "      <td>5298.000</td>\n",
       "      <td>-143.000</td>\n",
       "      <td>3.051</td>\n",
       "      <td>1.279</td>\n",
       "      <td>432.650</td>\n",
       "      <td>35.040</td>\n",
       "      <td>7.008</td>\n",
       "    </tr>\n",
       "    <tr>\n",
       "      <th>...</th>\n",
       "      <td>...</td>\n",
       "      <td>...</td>\n",
       "      <td>...</td>\n",
       "      <td>...</td>\n",
       "      <td>...</td>\n",
       "      <td>...</td>\n",
       "      <td>...</td>\n",
       "      <td>...</td>\n",
       "      <td>...</td>\n",
       "    </tr>\n",
       "    <tr>\n",
       "      <th>Hartzog</th>\n",
       "      <td>3.0</td>\n",
       "      <td>22.5</td>\n",
       "      <td>11058.999</td>\n",
       "      <td>615.999</td>\n",
       "      <td>1.842</td>\n",
       "      <td>0.018</td>\n",
       "      <td>646.338</td>\n",
       "      <td>24.381</td>\n",
       "      <td>2.438</td>\n",
       "    </tr>\n",
       "    <tr>\n",
       "      <th>Lake (WY)</th>\n",
       "      <td>1.0</td>\n",
       "      <td>2.7</td>\n",
       "      <td>1335.000</td>\n",
       "      <td>100.000</td>\n",
       "      <td>2.134</td>\n",
       "      <td>0.194</td>\n",
       "      <td>109.020</td>\n",
       "      <td>8.830</td>\n",
       "      <td>1.766</td>\n",
       "    </tr>\n",
       "    <tr>\n",
       "      <th>Neil Simpson II (CT2)</th>\n",
       "      <td>1.0</td>\n",
       "      <td>40.0</td>\n",
       "      <td>168852.656</td>\n",
       "      <td>15983.000</td>\n",
       "      <td>4.926</td>\n",
       "      <td>0.100</td>\n",
       "      <td>10034.400</td>\n",
       "      <td>375.908</td>\n",
       "      <td>37.591</td>\n",
       "    </tr>\n",
       "    <tr>\n",
       "      <th>Old Faithful</th>\n",
       "      <td>2.0</td>\n",
       "      <td>2.0</td>\n",
       "      <td>1299.000</td>\n",
       "      <td>85.000</td>\n",
       "      <td>2.078</td>\n",
       "      <td>0.188</td>\n",
       "      <td>106.080</td>\n",
       "      <td>8.591</td>\n",
       "      <td>1.718</td>\n",
       "    </tr>\n",
       "    <tr>\n",
       "      <th>Sinclair Oil Refinery</th>\n",
       "      <td>8.0</td>\n",
       "      <td>8.4</td>\n",
       "      <td>68567.022</td>\n",
       "      <td>11814.570</td>\n",
       "      <td>9.274</td>\n",
       "      <td>0.035</td>\n",
       "      <td>4025.981</td>\n",
       "      <td>151.544</td>\n",
       "      <td>15.175</td>\n",
       "    </tr>\n",
       "  </tbody>\n",
       "</table></div>"
      ],
      "text/plain": [
       "                       Number of generators  Plant nameplate capacity (MW)  \\\n",
       "Ambler                                  4.0                            1.5   \n",
       "Anchorage 1                             8.0                          121.4   \n",
       "Angoon                                  4.0                            1.9   \n",
       "Aniak                                   6.0                            2.6   \n",
       "Auke Bay                                3.0                           36.2   \n",
       "...                                     ...                            ...   \n",
       "Hartzog                                 3.0                           22.5   \n",
       "Lake (WY)                               1.0                            2.7   \n",
       "Neil Simpson II (CT2)                   1.0                           40.0   \n",
       "Old Faithful                            2.0                            2.0   \n",
       "Sinclair Oil Refinery                   8.0                            8.4   \n",
       "\n",
       "                       Plant total annual heat input (MMBtu)  \\\n",
       "Ambler                                             11554.999   \n",
       "Anchorage 1                                       115024.996   \n",
       "Angoon                                             16506.999   \n",
       "Aniak                                              26541.000   \n",
       "Auke Bay                                            5298.000   \n",
       "...                                                      ...   \n",
       "Hartzog                                            11058.999   \n",
       "Lake (WY)                                           1335.000   \n",
       "Neil Simpson II (CT2)                             168852.656   \n",
       "Old Faithful                                        1299.000   \n",
       "Sinclair Oil Refinery                              68567.022   \n",
       "\n",
       "                       Plant annual net generation (MWh)  \\\n",
       "Ambler                                          1212.000   \n",
       "Anchorage 1                                     7646.000   \n",
       "Angoon                                          1641.999   \n",
       "Aniak                                           2183.001   \n",
       "Auke Bay                                        -143.000   \n",
       "...                                                  ...   \n",
       "Hartzog                                          615.999   \n",
       "Lake (WY)                                        100.000   \n",
       "Neil Simpson II (CT2)                          15983.000   \n",
       "Old Faithful                                      85.000   \n",
       "Sinclair Oil Refinery                          11814.570   \n",
       "\n",
       "                       Plant annual NOx emissions (tons)  \\\n",
       "Ambler                                            19.200   \n",
       "Anchorage 1                                       18.056   \n",
       "Angoon                                            26.523   \n",
       "Aniak                                             44.968   \n",
       "Auke Bay                                           3.051   \n",
       "...                                                  ...   \n",
       "Hartzog                                            1.842   \n",
       "Lake (WY)                                          2.134   \n",
       "Neil Simpson II (CT2)                              4.926   \n",
       "Old Faithful                                       2.078   \n",
       "Sinclair Oil Refinery                              9.274   \n",
       "\n",
       "                       Plant annual SO2 emissions (tons)  \\\n",
       "Ambler                                             1.675   \n",
       "Anchorage 1                                        0.193   \n",
       "Angoon                                             2.393   \n",
       "Aniak                                              3.848   \n",
       "Auke Bay                                           1.279   \n",
       "...                                                  ...   \n",
       "Hartzog                                            0.018   \n",
       "Lake (WY)                                          0.194   \n",
       "Neil Simpson II (CT2)                              0.100   \n",
       "Old Faithful                                       0.188   \n",
       "Sinclair Oil Refinery                              0.035   \n",
       "\n",
       "                       Plant annual CO2 emissions (tons)  \\\n",
       "Ambler                                           943.616   \n",
       "Anchorage 1                                     6724.603   \n",
       "Angoon                                          1348.008   \n",
       "Aniak                                           2167.415   \n",
       "Auke Bay                                         432.650   \n",
       "...                                                  ...   \n",
       "Hartzog                                          646.338   \n",
       "Lake (WY)                                        109.020   \n",
       "Neil Simpson II (CT2)                          10034.400   \n",
       "Old Faithful                                     106.080   \n",
       "Sinclair Oil Refinery                           4025.981   \n",
       "\n",
       "                       Plant annual CH4 emissions (lbs)  \\\n",
       "Ambler                                           76.423   \n",
       "Anchorage 1                                     262.106   \n",
       "Angoon                                          109.175   \n",
       "Aniak                                           175.539   \n",
       "Auke Bay                                         35.040   \n",
       "...                                                 ...   \n",
       "Hartzog                                          24.381   \n",
       "Lake (WY)                                         8.830   \n",
       "Neil Simpson II (CT2)                           375.908   \n",
       "Old Faithful                                      8.591   \n",
       "Sinclair Oil Refinery                           151.544   \n",
       "\n",
       "                       Plant annual N2O emissions (lbs)  \n",
       "Ambler                                           15.285  \n",
       "Anchorage 1                                      27.488  \n",
       "Angoon                                           21.835  \n",
       "Aniak                                            35.108  \n",
       "Auke Bay                                          7.008  \n",
       "...                                                 ...  \n",
       "Hartzog                                           2.438  \n",
       "Lake (WY)                                         1.766  \n",
       "Neil Simpson II (CT2)                            37.591  \n",
       "Old Faithful                                      1.718  \n",
       "Sinclair Oil Refinery                            15.175  \n",
       "\n",
       "[1736 rows x 9 columns]"
      ]
     },
     "execution_count": 19,
     "metadata": {},
     "output_type": "execute_result"
    }
   ],
   "source": [
    "df"
   ]
  },
  {
   "cell_type": "code",
   "execution_count": 20,
   "id": "8f8ee0e1-1123-4a94-ac9a-764cf08c513d",
   "metadata": {},
   "outputs": [
    {
     "data": {
      "text/plain": [
       "Index(['Number of generators', 'Plant nameplate capacity (MW)',\n",
       "       'Plant total annual heat input (MMBtu)',\n",
       "       'Plant annual net generation (MWh)',\n",
       "       'Plant annual NOx emissions (tons)',\n",
       "       'Plant annual SO2 emissions (tons)',\n",
       "       'Plant annual CO2 emissions (tons)', 'Plant annual CH4 emissions (lbs)',\n",
       "       'Plant annual N2O emissions (lbs)'],\n",
       "      dtype='object')"
      ]
     },
     "execution_count": 20,
     "metadata": {},
     "output_type": "execute_result"
    }
   ],
   "source": [
    "df.columns"
   ]
  },
  {
   "cell_type": "code",
   "execution_count": 21,
   "id": "df3c0384-98ec-47ab-b165-27b253e702af",
   "metadata": {},
   "outputs": [],
   "source": [
    "df.columns = ['Number of generators', 'Plant nameplate capacity (MW)',\n",
    "       'Plant total annual heat input (MMBtu)',\n",
    "       'Plant annual NOx emissions (tons)',\n",
    "       'Plant annual SO2 emissions (tons)',\n",
    "       'Plant annual CO2 emissions (tons)', 'Plant annual CH4 emissions (lbs)',\n",
    "       'Plant annual N2O emissions (lbs)',\n",
    "       'Plant annual net generation (MWh)']"
   ]
  },
  {
   "cell_type": "code",
   "execution_count": 22,
   "id": "6eb9b49a-b4cd-4c9c-8542-b18fb2e7654b",
   "metadata": {},
   "outputs": [],
   "source": [
    "df.columns = [\"Output_\" + col if \"MWh\" in col else \"Input_\" + col for col in df.columns]"
   ]
  },
  {
   "cell_type": "code",
   "execution_count": 23,
   "id": "0ce48676-a884-49d4-9c54-0d47e7b833e7",
   "metadata": {},
   "outputs": [],
   "source": [
    "df.to_excel(path + 'egrid2020_data_copy_1.xlsx')"
   ]
  },
  {
   "cell_type": "code",
   "execution_count": 25,
   "id": "a8be81ce-03cc-4435-ad5b-13e93cd9af5a",
   "metadata": {},
   "outputs": [
    {
     "data": {
      "text/html": [
       "<div><div id=be2cdb08-29ed-4e21-93a4-030c81f6b278 style=\"display:none; background-color:#9D6CFF; color:white; width:200px; height:30px; padding-left:5px; border-radius:4px; flex-direction:row; justify-content:space-around; align-items:center;\" onmouseover=\"this.style.backgroundColor='#BA9BF8'\" onmouseout=\"this.style.backgroundColor='#9D6CFF'\" onclick=\"window.commands?.execute('create-mitosheet-from-dataframe-output');\">See Full Dataframe in Mito</div> <script> if (window.commands.hasCommand('create-mitosheet-from-dataframe-output')) document.getElementById('be2cdb08-29ed-4e21-93a4-030c81f6b278').style.display = 'flex' </script> <table border=\"1\" class=\"dataframe\">\n",
       "  <thead>\n",
       "    <tr style=\"text-align: right;\">\n",
       "      <th></th>\n",
       "      <th>Input_Number of generators</th>\n",
       "      <th>Input_Plant nameplate capacity (MW)</th>\n",
       "      <th>Input_Plant total annual heat input (MMBtu)</th>\n",
       "      <th>Input_Plant annual NOx emissions (tons)</th>\n",
       "      <th>Input_Plant annual SO2 emissions (tons)</th>\n",
       "      <th>Input_Plant annual CO2 emissions (tons)</th>\n",
       "      <th>Input_Plant annual CH4 emissions (lbs)</th>\n",
       "      <th>Input_Plant annual N2O emissions (lbs)</th>\n",
       "      <th>Output_Plant annual net generation (MWh)</th>\n",
       "    </tr>\n",
       "  </thead>\n",
       "  <tbody>\n",
       "    <tr>\n",
       "      <th>DMU 0001</th>\n",
       "      <td>4</td>\n",
       "      <td>1.5</td>\n",
       "      <td>11554.999</td>\n",
       "      <td>1212.000</td>\n",
       "      <td>19.200</td>\n",
       "      <td>1.675</td>\n",
       "      <td>943.616</td>\n",
       "      <td>76.423</td>\n",
       "      <td>15.285</td>\n",
       "    </tr>\n",
       "    <tr>\n",
       "      <th>DMU 0002</th>\n",
       "      <td>8</td>\n",
       "      <td>121.4</td>\n",
       "      <td>115024.996</td>\n",
       "      <td>7646.000</td>\n",
       "      <td>18.056</td>\n",
       "      <td>0.193</td>\n",
       "      <td>6724.603</td>\n",
       "      <td>262.106</td>\n",
       "      <td>27.488</td>\n",
       "    </tr>\n",
       "    <tr>\n",
       "      <th>DMU 0003</th>\n",
       "      <td>4</td>\n",
       "      <td>1.9</td>\n",
       "      <td>16506.999</td>\n",
       "      <td>1641.999</td>\n",
       "      <td>26.523</td>\n",
       "      <td>2.393</td>\n",
       "      <td>1348.008</td>\n",
       "      <td>109.175</td>\n",
       "      <td>21.835</td>\n",
       "    </tr>\n",
       "    <tr>\n",
       "      <th>DMU 0004</th>\n",
       "      <td>6</td>\n",
       "      <td>2.6</td>\n",
       "      <td>26541.000</td>\n",
       "      <td>2183.001</td>\n",
       "      <td>44.968</td>\n",
       "      <td>3.848</td>\n",
       "      <td>2167.415</td>\n",
       "      <td>175.539</td>\n",
       "      <td>35.108</td>\n",
       "    </tr>\n",
       "    <tr>\n",
       "      <th>DMU 0005</th>\n",
       "      <td>3</td>\n",
       "      <td>36.2</td>\n",
       "      <td>5298.000</td>\n",
       "      <td>-143.000</td>\n",
       "      <td>3.051</td>\n",
       "      <td>1.279</td>\n",
       "      <td>432.650</td>\n",
       "      <td>35.040</td>\n",
       "      <td>7.008</td>\n",
       "    </tr>\n",
       "    <tr>\n",
       "      <th>...</th>\n",
       "      <td>...</td>\n",
       "      <td>...</td>\n",
       "      <td>...</td>\n",
       "      <td>...</td>\n",
       "      <td>...</td>\n",
       "      <td>...</td>\n",
       "      <td>...</td>\n",
       "      <td>...</td>\n",
       "      <td>...</td>\n",
       "    </tr>\n",
       "    <tr>\n",
       "      <th>DMU 1729</th>\n",
       "      <td>3</td>\n",
       "      <td>22.5</td>\n",
       "      <td>11058.999</td>\n",
       "      <td>615.999</td>\n",
       "      <td>1.842</td>\n",
       "      <td>0.018</td>\n",
       "      <td>646.338</td>\n",
       "      <td>24.381</td>\n",
       "      <td>2.438</td>\n",
       "    </tr>\n",
       "    <tr>\n",
       "      <th>DMU 1730</th>\n",
       "      <td>1</td>\n",
       "      <td>2.7</td>\n",
       "      <td>1335.000</td>\n",
       "      <td>100.000</td>\n",
       "      <td>2.134</td>\n",
       "      <td>0.194</td>\n",
       "      <td>109.020</td>\n",
       "      <td>8.830</td>\n",
       "      <td>1.766</td>\n",
       "    </tr>\n",
       "    <tr>\n",
       "      <th>DMU 1731</th>\n",
       "      <td>1</td>\n",
       "      <td>40.0</td>\n",
       "      <td>168852.656</td>\n",
       "      <td>15983.000</td>\n",
       "      <td>4.926</td>\n",
       "      <td>0.100</td>\n",
       "      <td>10034.400</td>\n",
       "      <td>375.908</td>\n",
       "      <td>37.591</td>\n",
       "    </tr>\n",
       "    <tr>\n",
       "      <th>DMU 1732</th>\n",
       "      <td>2</td>\n",
       "      <td>2.0</td>\n",
       "      <td>1299.000</td>\n",
       "      <td>85.000</td>\n",
       "      <td>2.078</td>\n",
       "      <td>0.188</td>\n",
       "      <td>106.080</td>\n",
       "      <td>8.591</td>\n",
       "      <td>1.718</td>\n",
       "    </tr>\n",
       "    <tr>\n",
       "      <th>DMU 1733</th>\n",
       "      <td>8</td>\n",
       "      <td>8.4</td>\n",
       "      <td>68567.022</td>\n",
       "      <td>11814.570</td>\n",
       "      <td>9.274</td>\n",
       "      <td>0.035</td>\n",
       "      <td>4025.981</td>\n",
       "      <td>151.544</td>\n",
       "      <td>15.175</td>\n",
       "    </tr>\n",
       "  </tbody>\n",
       "</table></div>"
      ],
      "text/plain": [
       "          Input_Number of generators  Input_Plant nameplate capacity (MW)  \\\n",
       "DMU 0001                           4                                  1.5   \n",
       "DMU 0002                           8                                121.4   \n",
       "DMU 0003                           4                                  1.9   \n",
       "DMU 0004                           6                                  2.6   \n",
       "DMU 0005                           3                                 36.2   \n",
       "...                              ...                                  ...   \n",
       "DMU 1729                           3                                 22.5   \n",
       "DMU 1730                           1                                  2.7   \n",
       "DMU 1731                           1                                 40.0   \n",
       "DMU 1732                           2                                  2.0   \n",
       "DMU 1733                           8                                  8.4   \n",
       "\n",
       "          Input_Plant total annual heat input (MMBtu)  \\\n",
       "DMU 0001                                    11554.999   \n",
       "DMU 0002                                   115024.996   \n",
       "DMU 0003                                    16506.999   \n",
       "DMU 0004                                    26541.000   \n",
       "DMU 0005                                     5298.000   \n",
       "...                                               ...   \n",
       "DMU 1729                                    11058.999   \n",
       "DMU 1730                                     1335.000   \n",
       "DMU 1731                                   168852.656   \n",
       "DMU 1732                                     1299.000   \n",
       "DMU 1733                                    68567.022   \n",
       "\n",
       "          Input_Plant annual NOx emissions (tons)  \\\n",
       "DMU 0001                                 1212.000   \n",
       "DMU 0002                                 7646.000   \n",
       "DMU 0003                                 1641.999   \n",
       "DMU 0004                                 2183.001   \n",
       "DMU 0005                                 -143.000   \n",
       "...                                           ...   \n",
       "DMU 1729                                  615.999   \n",
       "DMU 1730                                  100.000   \n",
       "DMU 1731                                15983.000   \n",
       "DMU 1732                                   85.000   \n",
       "DMU 1733                                11814.570   \n",
       "\n",
       "          Input_Plant annual SO2 emissions (tons)  \\\n",
       "DMU 0001                                   19.200   \n",
       "DMU 0002                                   18.056   \n",
       "DMU 0003                                   26.523   \n",
       "DMU 0004                                   44.968   \n",
       "DMU 0005                                    3.051   \n",
       "...                                           ...   \n",
       "DMU 1729                                    1.842   \n",
       "DMU 1730                                    2.134   \n",
       "DMU 1731                                    4.926   \n",
       "DMU 1732                                    2.078   \n",
       "DMU 1733                                    9.274   \n",
       "\n",
       "          Input_Plant annual CO2 emissions (tons)  \\\n",
       "DMU 0001                                    1.675   \n",
       "DMU 0002                                    0.193   \n",
       "DMU 0003                                    2.393   \n",
       "DMU 0004                                    3.848   \n",
       "DMU 0005                                    1.279   \n",
       "...                                           ...   \n",
       "DMU 1729                                    0.018   \n",
       "DMU 1730                                    0.194   \n",
       "DMU 1731                                    0.100   \n",
       "DMU 1732                                    0.188   \n",
       "DMU 1733                                    0.035   \n",
       "\n",
       "          Input_Plant annual CH4 emissions (lbs)  \\\n",
       "DMU 0001                                 943.616   \n",
       "DMU 0002                                6724.603   \n",
       "DMU 0003                                1348.008   \n",
       "DMU 0004                                2167.415   \n",
       "DMU 0005                                 432.650   \n",
       "...                                          ...   \n",
       "DMU 1729                                 646.338   \n",
       "DMU 1730                                 109.020   \n",
       "DMU 1731                               10034.400   \n",
       "DMU 1732                                 106.080   \n",
       "DMU 1733                                4025.981   \n",
       "\n",
       "          Input_Plant annual N2O emissions (lbs)  \\\n",
       "DMU 0001                                  76.423   \n",
       "DMU 0002                                 262.106   \n",
       "DMU 0003                                 109.175   \n",
       "DMU 0004                                 175.539   \n",
       "DMU 0005                                  35.040   \n",
       "...                                          ...   \n",
       "DMU 1729                                  24.381   \n",
       "DMU 1730                                   8.830   \n",
       "DMU 1731                                 375.908   \n",
       "DMU 1732                                   8.591   \n",
       "DMU 1733                                 151.544   \n",
       "\n",
       "          Output_Plant annual net generation (MWh)  \n",
       "DMU 0001                                    15.285  \n",
       "DMU 0002                                    27.488  \n",
       "DMU 0003                                    21.835  \n",
       "DMU 0004                                    35.108  \n",
       "DMU 0005                                     7.008  \n",
       "...                                            ...  \n",
       "DMU 1729                                     2.438  \n",
       "DMU 1730                                     1.766  \n",
       "DMU 1731                                    37.591  \n",
       "DMU 1732                                     1.718  \n",
       "DMU 1733                                    15.175  \n",
       "\n",
       "[1733 rows x 9 columns]"
      ]
     },
     "execution_count": 25,
     "metadata": {},
     "output_type": "execute_result"
    }
   ],
   "source": [
    "df = pd.read_excel(path + 'egrid2020_data_copy_1.xlsx', index_col=0)\n",
    "df"
   ]
  },
  {
   "cell_type": "code",
   "execution_count": 26,
   "id": "75ed771c-5f26-4732-b0eb-103113228cc2",
   "metadata": {},
   "outputs": [
    {
     "name": "stdout",
     "output_type": "stream",
     "text": [
      "<class 'pandas.core.frame.DataFrame'>\n",
      "Index: 1733 entries, DMU 0001 to DMU 1733\n",
      "Data columns (total 9 columns):\n",
      " #   Column                                       Non-Null Count  Dtype  \n",
      "---  ------                                       --------------  -----  \n",
      " 0   Input_Number of generators                   1733 non-null   int64  \n",
      " 1   Input_Plant nameplate capacity (MW)          1733 non-null   float64\n",
      " 2   Input_Plant total annual heat input (MMBtu)  1733 non-null   float64\n",
      " 3   Input_Plant annual NOx emissions (tons)      1733 non-null   float64\n",
      " 4   Input_Plant annual SO2 emissions (tons)      1733 non-null   float64\n",
      " 5   Input_Plant annual CO2 emissions (tons)      1733 non-null   float64\n",
      " 6   Input_Plant annual CH4 emissions (lbs)       1733 non-null   float64\n",
      " 7   Input_Plant annual N2O emissions (lbs)       1733 non-null   float64\n",
      " 8   Output_Plant annual net generation (MWh)     1733 non-null   float64\n",
      "dtypes: float64(8), int64(1)\n",
      "memory usage: 135.4+ KB\n"
     ]
    }
   ],
   "source": [
    "df.info()"
   ]
  },
  {
   "cell_type": "code",
   "execution_count": 27,
   "id": "b72e0d48-2fe6-4b05-a9a0-668d20e3364f",
   "metadata": {},
   "outputs": [],
   "source": [
    "df = df[(df > 0).all(1)]"
   ]
  },
  {
   "cell_type": "code",
   "execution_count": 28,
   "id": "b2224619-629b-492f-a6e5-5946a1f1dffe",
   "metadata": {},
   "outputs": [
    {
     "data": {
      "text/plain": [
       "(1644, 9)"
      ]
     },
     "execution_count": 28,
     "metadata": {},
     "output_type": "execute_result"
    }
   ],
   "source": [
    "df.shape"
   ]
  },
  {
   "cell_type": "code",
   "execution_count": 29,
   "id": "92896a22-7f4a-47ab-bb15-c4161d4555c1",
   "metadata": {},
   "outputs": [],
   "source": [
    "df.to_excel(path + 'egrid2020_data_copy_2.xlsx')"
   ]
  },
  {
   "cell_type": "code",
   "execution_count": 152,
   "id": "b6b2a34e-4839-4a73-9bbe-1f19fc0252c3",
   "metadata": {},
   "outputs": [],
   "source": [
    "df = pd.read_excel(path + 'egrid2020_data_copy_2.xlsx', index_col = 0)"
   ]
  },
  {
   "cell_type": "code",
   "execution_count": 117,
   "id": "935da0a1-0f36-4585-854e-1a82a7f8f113",
   "metadata": {},
   "outputs": [],
   "source": [
    "df_y = pd.read_excel(path + 'egrid2020_data_copy_2.xlsx', index_col = 0)"
   ]
  },
  {
   "cell_type": "code",
   "execution_count": 118,
   "id": "294f4a98-12c3-4d42-b33b-001e1c23a8fc",
   "metadata": {},
   "outputs": [
    {
     "data": {
      "text/html": [
       "<div><div id=4a5f6a97-e362-4439-8533-86e92b2a497c style=\"display:none; background-color:#9D6CFF; color:white; width:200px; height:30px; padding-left:5px; border-radius:4px; flex-direction:row; justify-content:space-around; align-items:center;\" onmouseover=\"this.style.backgroundColor='#BA9BF8'\" onmouseout=\"this.style.backgroundColor='#9D6CFF'\" onclick=\"window.commands?.execute('create-mitosheet-from-dataframe-output');\">See Full Dataframe in Mito</div> <script> if (window.commands.hasCommand('create-mitosheet-from-dataframe-output')) document.getElementById('4a5f6a97-e362-4439-8533-86e92b2a497c').style.display = 'flex' </script> <table border=\"1\" class=\"dataframe\">\n",
       "  <thead>\n",
       "    <tr style=\"text-align: right;\">\n",
       "      <th></th>\n",
       "      <th>Input_Number of generators</th>\n",
       "      <th>Input_Plant nameplate capacity (MW)</th>\n",
       "      <th>Input_Plant total annual heat input (MMBtu)</th>\n",
       "      <th>Input_Plant annual NOx emissions (tons)</th>\n",
       "      <th>Input_Plant annual SO2 emissions (tons)</th>\n",
       "      <th>Input_Plant annual CO2 emissions (tons)</th>\n",
       "      <th>Input_Plant annual CH4 emissions (lbs)</th>\n",
       "      <th>Input_Plant annual N2O emissions (lbs)</th>\n",
       "      <th>Output_Plant annual net generation (MWh)</th>\n",
       "    </tr>\n",
       "  </thead>\n",
       "  <tbody>\n",
       "    <tr>\n",
       "      <th>DMU 0001</th>\n",
       "      <td>4</td>\n",
       "      <td>1.5</td>\n",
       "      <td>11554.999</td>\n",
       "      <td>1212.000</td>\n",
       "      <td>19.200</td>\n",
       "      <td>1.675</td>\n",
       "      <td>943.616</td>\n",
       "      <td>76.423</td>\n",
       "      <td>15.285</td>\n",
       "    </tr>\n",
       "    <tr>\n",
       "      <th>DMU 0002</th>\n",
       "      <td>8</td>\n",
       "      <td>121.4</td>\n",
       "      <td>115024.996</td>\n",
       "      <td>7646.000</td>\n",
       "      <td>18.056</td>\n",
       "      <td>0.193</td>\n",
       "      <td>6724.603</td>\n",
       "      <td>262.106</td>\n",
       "      <td>27.488</td>\n",
       "    </tr>\n",
       "    <tr>\n",
       "      <th>DMU 0003</th>\n",
       "      <td>4</td>\n",
       "      <td>1.9</td>\n",
       "      <td>16506.999</td>\n",
       "      <td>1641.999</td>\n",
       "      <td>26.523</td>\n",
       "      <td>2.393</td>\n",
       "      <td>1348.008</td>\n",
       "      <td>109.175</td>\n",
       "      <td>21.835</td>\n",
       "    </tr>\n",
       "    <tr>\n",
       "      <th>DMU 0004</th>\n",
       "      <td>6</td>\n",
       "      <td>2.6</td>\n",
       "      <td>26541.000</td>\n",
       "      <td>2183.001</td>\n",
       "      <td>44.968</td>\n",
       "      <td>3.848</td>\n",
       "      <td>2167.415</td>\n",
       "      <td>175.539</td>\n",
       "      <td>35.108</td>\n",
       "    </tr>\n",
       "    <tr>\n",
       "      <th>DMU 0006</th>\n",
       "      <td>7</td>\n",
       "      <td>20.3</td>\n",
       "      <td>753573.992</td>\n",
       "      <td>51137.999</td>\n",
       "      <td>120.560</td>\n",
       "      <td>1.204</td>\n",
       "      <td>44042.277</td>\n",
       "      <td>1661.692</td>\n",
       "      <td>166.221</td>\n",
       "    </tr>\n",
       "    <tr>\n",
       "      <th>...</th>\n",
       "      <td>...</td>\n",
       "      <td>...</td>\n",
       "      <td>...</td>\n",
       "      <td>...</td>\n",
       "      <td>...</td>\n",
       "      <td>...</td>\n",
       "      <td>...</td>\n",
       "      <td>...</td>\n",
       "      <td>...</td>\n",
       "    </tr>\n",
       "    <tr>\n",
       "      <th>DMU 1729</th>\n",
       "      <td>3</td>\n",
       "      <td>22.5</td>\n",
       "      <td>11058.999</td>\n",
       "      <td>615.999</td>\n",
       "      <td>1.842</td>\n",
       "      <td>0.018</td>\n",
       "      <td>646.338</td>\n",
       "      <td>24.381</td>\n",
       "      <td>2.438</td>\n",
       "    </tr>\n",
       "    <tr>\n",
       "      <th>DMU 1730</th>\n",
       "      <td>1</td>\n",
       "      <td>2.7</td>\n",
       "      <td>1335.000</td>\n",
       "      <td>100.000</td>\n",
       "      <td>2.134</td>\n",
       "      <td>0.194</td>\n",
       "      <td>109.020</td>\n",
       "      <td>8.830</td>\n",
       "      <td>1.766</td>\n",
       "    </tr>\n",
       "    <tr>\n",
       "      <th>DMU 1731</th>\n",
       "      <td>1</td>\n",
       "      <td>40.0</td>\n",
       "      <td>168852.656</td>\n",
       "      <td>15983.000</td>\n",
       "      <td>4.926</td>\n",
       "      <td>0.100</td>\n",
       "      <td>10034.400</td>\n",
       "      <td>375.908</td>\n",
       "      <td>37.591</td>\n",
       "    </tr>\n",
       "    <tr>\n",
       "      <th>DMU 1732</th>\n",
       "      <td>2</td>\n",
       "      <td>2.0</td>\n",
       "      <td>1299.000</td>\n",
       "      <td>85.000</td>\n",
       "      <td>2.078</td>\n",
       "      <td>0.188</td>\n",
       "      <td>106.080</td>\n",
       "      <td>8.591</td>\n",
       "      <td>1.718</td>\n",
       "    </tr>\n",
       "    <tr>\n",
       "      <th>DMU 1733</th>\n",
       "      <td>8</td>\n",
       "      <td>8.4</td>\n",
       "      <td>68567.022</td>\n",
       "      <td>11814.570</td>\n",
       "      <td>9.274</td>\n",
       "      <td>0.035</td>\n",
       "      <td>4025.981</td>\n",
       "      <td>151.544</td>\n",
       "      <td>15.175</td>\n",
       "    </tr>\n",
       "  </tbody>\n",
       "</table></div>"
      ],
      "text/plain": [
       "          Input_Number of generators  Input_Plant nameplate capacity (MW)  \\\n",
       "DMU 0001                           4                                  1.5   \n",
       "DMU 0002                           8                                121.4   \n",
       "DMU 0003                           4                                  1.9   \n",
       "DMU 0004                           6                                  2.6   \n",
       "DMU 0006                           7                                 20.3   \n",
       "...                              ...                                  ...   \n",
       "DMU 1729                           3                                 22.5   \n",
       "DMU 1730                           1                                  2.7   \n",
       "DMU 1731                           1                                 40.0   \n",
       "DMU 1732                           2                                  2.0   \n",
       "DMU 1733                           8                                  8.4   \n",
       "\n",
       "          Input_Plant total annual heat input (MMBtu)  \\\n",
       "DMU 0001                                    11554.999   \n",
       "DMU 0002                                   115024.996   \n",
       "DMU 0003                                    16506.999   \n",
       "DMU 0004                                    26541.000   \n",
       "DMU 0006                                   753573.992   \n",
       "...                                               ...   \n",
       "DMU 1729                                    11058.999   \n",
       "DMU 1730                                     1335.000   \n",
       "DMU 1731                                   168852.656   \n",
       "DMU 1732                                     1299.000   \n",
       "DMU 1733                                    68567.022   \n",
       "\n",
       "          Input_Plant annual NOx emissions (tons)  \\\n",
       "DMU 0001                                 1212.000   \n",
       "DMU 0002                                 7646.000   \n",
       "DMU 0003                                 1641.999   \n",
       "DMU 0004                                 2183.001   \n",
       "DMU 0006                                51137.999   \n",
       "...                                           ...   \n",
       "DMU 1729                                  615.999   \n",
       "DMU 1730                                  100.000   \n",
       "DMU 1731                                15983.000   \n",
       "DMU 1732                                   85.000   \n",
       "DMU 1733                                11814.570   \n",
       "\n",
       "          Input_Plant annual SO2 emissions (tons)  \\\n",
       "DMU 0001                                   19.200   \n",
       "DMU 0002                                   18.056   \n",
       "DMU 0003                                   26.523   \n",
       "DMU 0004                                   44.968   \n",
       "DMU 0006                                  120.560   \n",
       "...                                           ...   \n",
       "DMU 1729                                    1.842   \n",
       "DMU 1730                                    2.134   \n",
       "DMU 1731                                    4.926   \n",
       "DMU 1732                                    2.078   \n",
       "DMU 1733                                    9.274   \n",
       "\n",
       "          Input_Plant annual CO2 emissions (tons)  \\\n",
       "DMU 0001                                    1.675   \n",
       "DMU 0002                                    0.193   \n",
       "DMU 0003                                    2.393   \n",
       "DMU 0004                                    3.848   \n",
       "DMU 0006                                    1.204   \n",
       "...                                           ...   \n",
       "DMU 1729                                    0.018   \n",
       "DMU 1730                                    0.194   \n",
       "DMU 1731                                    0.100   \n",
       "DMU 1732                                    0.188   \n",
       "DMU 1733                                    0.035   \n",
       "\n",
       "          Input_Plant annual CH4 emissions (lbs)  \\\n",
       "DMU 0001                                 943.616   \n",
       "DMU 0002                                6724.603   \n",
       "DMU 0003                                1348.008   \n",
       "DMU 0004                                2167.415   \n",
       "DMU 0006                               44042.277   \n",
       "...                                          ...   \n",
       "DMU 1729                                 646.338   \n",
       "DMU 1730                                 109.020   \n",
       "DMU 1731                               10034.400   \n",
       "DMU 1732                                 106.080   \n",
       "DMU 1733                                4025.981   \n",
       "\n",
       "          Input_Plant annual N2O emissions (lbs)  \\\n",
       "DMU 0001                                  76.423   \n",
       "DMU 0002                                 262.106   \n",
       "DMU 0003                                 109.175   \n",
       "DMU 0004                                 175.539   \n",
       "DMU 0006                                1661.692   \n",
       "...                                          ...   \n",
       "DMU 1729                                  24.381   \n",
       "DMU 1730                                   8.830   \n",
       "DMU 1731                                 375.908   \n",
       "DMU 1732                                   8.591   \n",
       "DMU 1733                                 151.544   \n",
       "\n",
       "          Output_Plant annual net generation (MWh)  \n",
       "DMU 0001                                    15.285  \n",
       "DMU 0002                                    27.488  \n",
       "DMU 0003                                    21.835  \n",
       "DMU 0004                                    35.108  \n",
       "DMU 0006                                   166.221  \n",
       "...                                            ...  \n",
       "DMU 1729                                     2.438  \n",
       "DMU 1730                                     1.766  \n",
       "DMU 1731                                    37.591  \n",
       "DMU 1732                                     1.718  \n",
       "DMU 1733                                    15.175  \n",
       "\n",
       "[1644 rows x 9 columns]"
      ]
     },
     "execution_count": 118,
     "metadata": {},
     "output_type": "execute_result"
    }
   ],
   "source": [
    "df_y"
   ]
  },
  {
   "cell_type": "code",
   "execution_count": 102,
   "id": "812197a4-c3ea-4743-bb6a-034fb88c0484",
   "metadata": {},
   "outputs": [],
   "source": [
    "scaler_1 = MinMaxScaler()"
   ]
  },
  {
   "cell_type": "code",
   "execution_count": 103,
   "id": "68883ad5-804c-4e29-8c63-cc8f3ad80ad3",
   "metadata": {},
   "outputs": [],
   "source": [
    "df[df.columns] = scaler_1.fit_transform(df)"
   ]
  },
  {
   "cell_type": "code",
   "execution_count": 104,
   "id": "37b842a0-a31c-4450-b9f9-ffb86ba1de89",
   "metadata": {},
   "outputs": [
    {
     "data": {
      "text/html": [
       "<div><div id=739ddf07-e7c8-4aaf-bc57-ae8f883717a1 style=\"display:none; background-color:#9D6CFF; color:white; width:200px; height:30px; padding-left:5px; border-radius:4px; flex-direction:row; justify-content:space-around; align-items:center;\" onmouseover=\"this.style.backgroundColor='#BA9BF8'\" onmouseout=\"this.style.backgroundColor='#9D6CFF'\" onclick=\"window.commands?.execute('create-mitosheet-from-dataframe-output');\">See Full Dataframe in Mito</div> <script> if (window.commands.hasCommand('create-mitosheet-from-dataframe-output')) document.getElementById('739ddf07-e7c8-4aaf-bc57-ae8f883717a1').style.display = 'flex' </script> <table border=\"1\" class=\"dataframe\">\n",
       "  <thead>\n",
       "    <tr style=\"text-align: right;\">\n",
       "      <th></th>\n",
       "      <th>Input_Number of generators</th>\n",
       "      <th>Input_Plant nameplate capacity (MW)</th>\n",
       "      <th>Input_Plant total annual heat input (MMBtu)</th>\n",
       "      <th>Input_Plant annual NOx emissions (tons)</th>\n",
       "      <th>Input_Plant annual SO2 emissions (tons)</th>\n",
       "      <th>Input_Plant annual CO2 emissions (tons)</th>\n",
       "      <th>Input_Plant annual CH4 emissions (lbs)</th>\n",
       "      <th>Input_Plant annual N2O emissions (lbs)</th>\n",
       "      <th>Output_Plant annual net generation (MWh)</th>\n",
       "    </tr>\n",
       "  </thead>\n",
       "  <tbody>\n",
       "    <tr>\n",
       "      <th>DMU 0001</th>\n",
       "      <td>0.3</td>\n",
       "      <td>0.000473</td>\n",
       "      <td>0.000903</td>\n",
       "      <td>0.000869</td>\n",
       "      <td>0.041684</td>\n",
       "      <td>0.075654</td>\n",
       "      <td>0.001242</td>\n",
       "      <td>0.001107</td>\n",
       "      <td>0.001687</td>\n",
       "    </tr>\n",
       "    <tr>\n",
       "      <th>DMU 0002</th>\n",
       "      <td>0.7</td>\n",
       "      <td>0.113778</td>\n",
       "      <td>0.008994</td>\n",
       "      <td>0.005486</td>\n",
       "      <td>0.039198</td>\n",
       "      <td>0.008677</td>\n",
       "      <td>0.008849</td>\n",
       "      <td>0.003798</td>\n",
       "      <td>0.003034</td>\n",
       "    </tr>\n",
       "    <tr>\n",
       "      <th>DMU 0003</th>\n",
       "      <td>0.3</td>\n",
       "      <td>0.000851</td>\n",
       "      <td>0.001290</td>\n",
       "      <td>0.001178</td>\n",
       "      <td>0.057598</td>\n",
       "      <td>0.108103</td>\n",
       "      <td>0.001774</td>\n",
       "      <td>0.001582</td>\n",
       "      <td>0.002410</td>\n",
       "    </tr>\n",
       "    <tr>\n",
       "      <th>DMU 0004</th>\n",
       "      <td>0.5</td>\n",
       "      <td>0.001512</td>\n",
       "      <td>0.002075</td>\n",
       "      <td>0.001566</td>\n",
       "      <td>0.097682</td>\n",
       "      <td>0.173860</td>\n",
       "      <td>0.002852</td>\n",
       "      <td>0.002544</td>\n",
       "      <td>0.003876</td>\n",
       "    </tr>\n",
       "    <tr>\n",
       "      <th>DMU 0006</th>\n",
       "      <td>0.6</td>\n",
       "      <td>0.018239</td>\n",
       "      <td>0.058931</td>\n",
       "      <td>0.036695</td>\n",
       "      <td>0.261957</td>\n",
       "      <td>0.054368</td>\n",
       "      <td>0.057956</td>\n",
       "      <td>0.024087</td>\n",
       "      <td>0.018357</td>\n",
       "    </tr>\n",
       "    <tr>\n",
       "      <th>...</th>\n",
       "      <td>...</td>\n",
       "      <td>...</td>\n",
       "      <td>...</td>\n",
       "      <td>...</td>\n",
       "      <td>...</td>\n",
       "      <td>...</td>\n",
       "      <td>...</td>\n",
       "      <td>...</td>\n",
       "      <td>...</td>\n",
       "    </tr>\n",
       "    <tr>\n",
       "      <th>DMU 1729</th>\n",
       "      <td>0.2</td>\n",
       "      <td>0.020318</td>\n",
       "      <td>0.000864</td>\n",
       "      <td>0.000441</td>\n",
       "      <td>0.003962</td>\n",
       "      <td>0.000768</td>\n",
       "      <td>0.000851</td>\n",
       "      <td>0.000352</td>\n",
       "      <td>0.000268</td>\n",
       "    </tr>\n",
       "    <tr>\n",
       "      <th>DMU 1730</th>\n",
       "      <td>0.0</td>\n",
       "      <td>0.001607</td>\n",
       "      <td>0.000104</td>\n",
       "      <td>0.000071</td>\n",
       "      <td>0.004596</td>\n",
       "      <td>0.008722</td>\n",
       "      <td>0.000143</td>\n",
       "      <td>0.000127</td>\n",
       "      <td>0.000193</td>\n",
       "    </tr>\n",
       "    <tr>\n",
       "      <th>DMU 1731</th>\n",
       "      <td>0.0</td>\n",
       "      <td>0.036855</td>\n",
       "      <td>0.013204</td>\n",
       "      <td>0.011468</td>\n",
       "      <td>0.010664</td>\n",
       "      <td>0.004474</td>\n",
       "      <td>0.013205</td>\n",
       "      <td>0.005448</td>\n",
       "      <td>0.004150</td>\n",
       "    </tr>\n",
       "    <tr>\n",
       "      <th>DMU 1732</th>\n",
       "      <td>0.1</td>\n",
       "      <td>0.000945</td>\n",
       "      <td>0.000101</td>\n",
       "      <td>0.000060</td>\n",
       "      <td>0.004475</td>\n",
       "      <td>0.008451</td>\n",
       "      <td>0.000140</td>\n",
       "      <td>0.000123</td>\n",
       "      <td>0.000188</td>\n",
       "    </tr>\n",
       "    <tr>\n",
       "      <th>DMU 1733</th>\n",
       "      <td>0.7</td>\n",
       "      <td>0.006993</td>\n",
       "      <td>0.005361</td>\n",
       "      <td>0.008477</td>\n",
       "      <td>0.020113</td>\n",
       "      <td>0.001537</td>\n",
       "      <td>0.005298</td>\n",
       "      <td>0.002196</td>\n",
       "      <td>0.001674</td>\n",
       "    </tr>\n",
       "  </tbody>\n",
       "</table></div>"
      ],
      "text/plain": [
       "          Input_Number of generators  Input_Plant nameplate capacity (MW)  \\\n",
       "DMU 0001                         0.3                             0.000473   \n",
       "DMU 0002                         0.7                             0.113778   \n",
       "DMU 0003                         0.3                             0.000851   \n",
       "DMU 0004                         0.5                             0.001512   \n",
       "DMU 0006                         0.6                             0.018239   \n",
       "...                              ...                                  ...   \n",
       "DMU 1729                         0.2                             0.020318   \n",
       "DMU 1730                         0.0                             0.001607   \n",
       "DMU 1731                         0.0                             0.036855   \n",
       "DMU 1732                         0.1                             0.000945   \n",
       "DMU 1733                         0.7                             0.006993   \n",
       "\n",
       "          Input_Plant total annual heat input (MMBtu)  \\\n",
       "DMU 0001                                     0.000903   \n",
       "DMU 0002                                     0.008994   \n",
       "DMU 0003                                     0.001290   \n",
       "DMU 0004                                     0.002075   \n",
       "DMU 0006                                     0.058931   \n",
       "...                                               ...   \n",
       "DMU 1729                                     0.000864   \n",
       "DMU 1730                                     0.000104   \n",
       "DMU 1731                                     0.013204   \n",
       "DMU 1732                                     0.000101   \n",
       "DMU 1733                                     0.005361   \n",
       "\n",
       "          Input_Plant annual NOx emissions (tons)  \\\n",
       "DMU 0001                                 0.000869   \n",
       "DMU 0002                                 0.005486   \n",
       "DMU 0003                                 0.001178   \n",
       "DMU 0004                                 0.001566   \n",
       "DMU 0006                                 0.036695   \n",
       "...                                           ...   \n",
       "DMU 1729                                 0.000441   \n",
       "DMU 1730                                 0.000071   \n",
       "DMU 1731                                 0.011468   \n",
       "DMU 1732                                 0.000060   \n",
       "DMU 1733                                 0.008477   \n",
       "\n",
       "          Input_Plant annual SO2 emissions (tons)  \\\n",
       "DMU 0001                                 0.041684   \n",
       "DMU 0002                                 0.039198   \n",
       "DMU 0003                                 0.057598   \n",
       "DMU 0004                                 0.097682   \n",
       "DMU 0006                                 0.261957   \n",
       "...                                           ...   \n",
       "DMU 1729                                 0.003962   \n",
       "DMU 1730                                 0.004596   \n",
       "DMU 1731                                 0.010664   \n",
       "DMU 1732                                 0.004475   \n",
       "DMU 1733                                 0.020113   \n",
       "\n",
       "          Input_Plant annual CO2 emissions (tons)  \\\n",
       "DMU 0001                                 0.075654   \n",
       "DMU 0002                                 0.008677   \n",
       "DMU 0003                                 0.108103   \n",
       "DMU 0004                                 0.173860   \n",
       "DMU 0006                                 0.054368   \n",
       "...                                           ...   \n",
       "DMU 1729                                 0.000768   \n",
       "DMU 1730                                 0.008722   \n",
       "DMU 1731                                 0.004474   \n",
       "DMU 1732                                 0.008451   \n",
       "DMU 1733                                 0.001537   \n",
       "\n",
       "          Input_Plant annual CH4 emissions (lbs)  \\\n",
       "DMU 0001                                0.001242   \n",
       "DMU 0002                                0.008849   \n",
       "DMU 0003                                0.001774   \n",
       "DMU 0004                                0.002852   \n",
       "DMU 0006                                0.057956   \n",
       "...                                          ...   \n",
       "DMU 1729                                0.000851   \n",
       "DMU 1730                                0.000143   \n",
       "DMU 1731                                0.013205   \n",
       "DMU 1732                                0.000140   \n",
       "DMU 1733                                0.005298   \n",
       "\n",
       "          Input_Plant annual N2O emissions (lbs)  \\\n",
       "DMU 0001                                0.001107   \n",
       "DMU 0002                                0.003798   \n",
       "DMU 0003                                0.001582   \n",
       "DMU 0004                                0.002544   \n",
       "DMU 0006                                0.024087   \n",
       "...                                          ...   \n",
       "DMU 1729                                0.000352   \n",
       "DMU 1730                                0.000127   \n",
       "DMU 1731                                0.005448   \n",
       "DMU 1732                                0.000123   \n",
       "DMU 1733                                0.002196   \n",
       "\n",
       "          Output_Plant annual net generation (MWh)  \n",
       "DMU 0001                                  0.001687  \n",
       "DMU 0002                                  0.003034  \n",
       "DMU 0003                                  0.002410  \n",
       "DMU 0004                                  0.003876  \n",
       "DMU 0006                                  0.018357  \n",
       "...                                            ...  \n",
       "DMU 1729                                  0.000268  \n",
       "DMU 1730                                  0.000193  \n",
       "DMU 1731                                  0.004150  \n",
       "DMU 1732                                  0.000188  \n",
       "DMU 1733                                  0.001674  \n",
       "\n",
       "[1644 rows x 9 columns]"
      ]
     },
     "execution_count": 104,
     "metadata": {},
     "output_type": "execute_result"
    }
   ],
   "source": [
    "df"
   ]
  },
  {
   "cell_type": "code",
   "execution_count": 105,
   "id": "187a30fc-e1fb-4853-8bfb-9c6611880643",
   "metadata": {},
   "outputs": [],
   "source": [
    "df.to_excel(path + 'egrid2020_data_copy_3.xlsx')"
   ]
  },
  {
   "cell_type": "code",
   "execution_count": 106,
   "id": "d0470367-af23-454a-bcf3-5e1a01b820e2",
   "metadata": {},
   "outputs": [],
   "source": [
    "df = pd.read_excel(path + 'egrid2020_data_copy_3.xlsx', index_col = 0)"
   ]
  },
  {
   "cell_type": "code",
   "execution_count": 153,
   "id": "21088a87-f37d-46bd-9bd5-6d1bcf59dbfe",
   "metadata": {},
   "outputs": [
    {
     "name": "stdout",
     "output_type": "stream",
     "text": [
      "100.0\n",
      "Solution file saved outputfile\n"
     ]
    }
   ],
   "source": [
    "deasolver(inputfile = path + 'egrid2020_data_copy_2.xlsx', folder = \"Data/RealData/eGrid/recent/\", out_suffix1=\"_Sol\")"
   ]
  },
  {
   "cell_type": "code",
   "execution_count": 154,
   "id": "94d0eaf6-949a-41c1-b0c3-c61de4c58f64",
   "metadata": {},
   "outputs": [
    {
     "data": {
      "text/html": [
       "<div><div id=49bed8ad-78ae-4e9b-885a-ca1be3c9d992 style=\"display:none; background-color:#9D6CFF; color:white; width:200px; height:30px; padding-left:5px; border-radius:4px; flex-direction:row; justify-content:space-around; align-items:center;\" onmouseover=\"this.style.backgroundColor='#BA9BF8'\" onmouseout=\"this.style.backgroundColor='#9D6CFF'\" onclick=\"window.commands?.execute('create-mitosheet-from-dataframe-output');\">See Full Dataframe in Mito</div> <script> if (window.commands.hasCommand('create-mitosheet-from-dataframe-output')) document.getElementById('49bed8ad-78ae-4e9b-885a-ca1be3c9d992').style.display = 'flex' </script> <table border=\"1\" class=\"dataframe\">\n",
       "  <thead>\n",
       "    <tr style=\"text-align: right;\">\n",
       "      <th></th>\n",
       "      <th>Weight_Input_Number of generators</th>\n",
       "      <th>Weight_Input_Plant annual CH4 emissions (lbs)</th>\n",
       "      <th>Weight_Input_Plant annual CO2 emissions (tons)</th>\n",
       "      <th>Weight_Input_Plant annual N2O emissions (lbs)</th>\n",
       "      <th>Weight_Input_Plant annual NOx emissions (tons)</th>\n",
       "      <th>Weight_Input_Plant annual SO2 emissions (tons)</th>\n",
       "      <th>Weight_Input_Plant nameplate capacity (MW)</th>\n",
       "      <th>Weight_Input_Plant total annual heat input (MMBtu)</th>\n",
       "      <th>Weight_Output_Plant annual net generation (MWh)</th>\n",
       "    </tr>\n",
       "  </thead>\n",
       "  <tbody>\n",
       "    <tr>\n",
       "      <th>DMU 0001</th>\n",
       "      <td>0.000000</td>\n",
       "      <td>0.0</td>\n",
       "      <td>0.000000</td>\n",
       "      <td>0.009212</td>\n",
       "      <td>0.000237</td>\n",
       "      <td>0.000000</td>\n",
       "      <td>0.005503</td>\n",
       "      <td>0.000000</td>\n",
       "      <td>0.047689</td>\n",
       "    </tr>\n",
       "    <tr>\n",
       "      <th>DMU 0002</th>\n",
       "      <td>0.000000</td>\n",
       "      <td>0.0</td>\n",
       "      <td>0.141122</td>\n",
       "      <td>0.001667</td>\n",
       "      <td>0.000069</td>\n",
       "      <td>0.000000</td>\n",
       "      <td>0.000049</td>\n",
       "      <td>0.000000</td>\n",
       "      <td>0.011634</td>\n",
       "    </tr>\n",
       "    <tr>\n",
       "      <th>DMU 0003</th>\n",
       "      <td>0.000000</td>\n",
       "      <td>0.0</td>\n",
       "      <td>0.000000</td>\n",
       "      <td>0.005650</td>\n",
       "      <td>0.000204</td>\n",
       "      <td>0.000000</td>\n",
       "      <td>0.025202</td>\n",
       "      <td>0.000000</td>\n",
       "      <td>0.034144</td>\n",
       "    </tr>\n",
       "    <tr>\n",
       "      <th>DMU 0004</th>\n",
       "      <td>0.000000</td>\n",
       "      <td>0.0</td>\n",
       "      <td>0.000000</td>\n",
       "      <td>0.003759</td>\n",
       "      <td>0.000136</td>\n",
       "      <td>0.000000</td>\n",
       "      <td>0.016767</td>\n",
       "      <td>0.000000</td>\n",
       "      <td>0.022717</td>\n",
       "    </tr>\n",
       "    <tr>\n",
       "      <th>DMU 0006</th>\n",
       "      <td>0.000000</td>\n",
       "      <td>0.0</td>\n",
       "      <td>0.030689</td>\n",
       "      <td>0.000225</td>\n",
       "      <td>0.000011</td>\n",
       "      <td>0.000000</td>\n",
       "      <td>0.000127</td>\n",
       "      <td>0.000000</td>\n",
       "      <td>0.001818</td>\n",
       "    </tr>\n",
       "    <tr>\n",
       "      <th>...</th>\n",
       "      <td>...</td>\n",
       "      <td>...</td>\n",
       "      <td>...</td>\n",
       "      <td>...</td>\n",
       "      <td>...</td>\n",
       "      <td>...</td>\n",
       "      <td>...</td>\n",
       "      <td>...</td>\n",
       "      <td>...</td>\n",
       "    </tr>\n",
       "    <tr>\n",
       "      <th>DMU 1729</th>\n",
       "      <td>0.000000</td>\n",
       "      <td>0.0</td>\n",
       "      <td>1.622462</td>\n",
       "      <td>0.019167</td>\n",
       "      <td>0.000797</td>\n",
       "      <td>0.000000</td>\n",
       "      <td>0.000567</td>\n",
       "      <td>0.000000</td>\n",
       "      <td>0.133751</td>\n",
       "    </tr>\n",
       "    <tr>\n",
       "      <th>DMU 1730</th>\n",
       "      <td>0.004595</td>\n",
       "      <td>0.0</td>\n",
       "      <td>0.000000</td>\n",
       "      <td>0.085009</td>\n",
       "      <td>0.002180</td>\n",
       "      <td>0.000000</td>\n",
       "      <td>0.000000</td>\n",
       "      <td>0.000020</td>\n",
       "      <td>0.444840</td>\n",
       "    </tr>\n",
       "    <tr>\n",
       "      <th>DMU 1731</th>\n",
       "      <td>0.000000</td>\n",
       "      <td>0.0</td>\n",
       "      <td>0.289059</td>\n",
       "      <td>0.001763</td>\n",
       "      <td>0.000000</td>\n",
       "      <td>0.062621</td>\n",
       "      <td>0.000000</td>\n",
       "      <td>0.000000</td>\n",
       "      <td>0.009504</td>\n",
       "    </tr>\n",
       "    <tr>\n",
       "      <th>DMU 1732</th>\n",
       "      <td>0.000000</td>\n",
       "      <td>0.0</td>\n",
       "      <td>0.000000</td>\n",
       "      <td>0.089900</td>\n",
       "      <td>0.002304</td>\n",
       "      <td>0.000000</td>\n",
       "      <td>0.001592</td>\n",
       "      <td>0.000022</td>\n",
       "      <td>0.470613</td>\n",
       "    </tr>\n",
       "    <tr>\n",
       "      <th>DMU 1733</th>\n",
       "      <td>0.000000</td>\n",
       "      <td>0.0</td>\n",
       "      <td>0.097026</td>\n",
       "      <td>0.006576</td>\n",
       "      <td>0.000000</td>\n",
       "      <td>0.000000</td>\n",
       "      <td>0.000000</td>\n",
       "      <td>0.000000</td>\n",
       "      <td>0.014833</td>\n",
       "    </tr>\n",
       "  </tbody>\n",
       "</table></div>"
      ],
      "text/plain": [
       "          Weight_Input_Number of generators  \\\n",
       "DMU 0001                           0.000000   \n",
       "DMU 0002                           0.000000   \n",
       "DMU 0003                           0.000000   \n",
       "DMU 0004                           0.000000   \n",
       "DMU 0006                           0.000000   \n",
       "...                                     ...   \n",
       "DMU 1729                           0.000000   \n",
       "DMU 1730                           0.004595   \n",
       "DMU 1731                           0.000000   \n",
       "DMU 1732                           0.000000   \n",
       "DMU 1733                           0.000000   \n",
       "\n",
       "          Weight_Input_Plant annual CH4 emissions (lbs)  \\\n",
       "DMU 0001                                            0.0   \n",
       "DMU 0002                                            0.0   \n",
       "DMU 0003                                            0.0   \n",
       "DMU 0004                                            0.0   \n",
       "DMU 0006                                            0.0   \n",
       "...                                                 ...   \n",
       "DMU 1729                                            0.0   \n",
       "DMU 1730                                            0.0   \n",
       "DMU 1731                                            0.0   \n",
       "DMU 1732                                            0.0   \n",
       "DMU 1733                                            0.0   \n",
       "\n",
       "          Weight_Input_Plant annual CO2 emissions (tons)  \\\n",
       "DMU 0001                                        0.000000   \n",
       "DMU 0002                                        0.141122   \n",
       "DMU 0003                                        0.000000   \n",
       "DMU 0004                                        0.000000   \n",
       "DMU 0006                                        0.030689   \n",
       "...                                                  ...   \n",
       "DMU 1729                                        1.622462   \n",
       "DMU 1730                                        0.000000   \n",
       "DMU 1731                                        0.289059   \n",
       "DMU 1732                                        0.000000   \n",
       "DMU 1733                                        0.097026   \n",
       "\n",
       "          Weight_Input_Plant annual N2O emissions (lbs)  \\\n",
       "DMU 0001                                       0.009212   \n",
       "DMU 0002                                       0.001667   \n",
       "DMU 0003                                       0.005650   \n",
       "DMU 0004                                       0.003759   \n",
       "DMU 0006                                       0.000225   \n",
       "...                                                 ...   \n",
       "DMU 1729                                       0.019167   \n",
       "DMU 1730                                       0.085009   \n",
       "DMU 1731                                       0.001763   \n",
       "DMU 1732                                       0.089900   \n",
       "DMU 1733                                       0.006576   \n",
       "\n",
       "          Weight_Input_Plant annual NOx emissions (tons)  \\\n",
       "DMU 0001                                        0.000237   \n",
       "DMU 0002                                        0.000069   \n",
       "DMU 0003                                        0.000204   \n",
       "DMU 0004                                        0.000136   \n",
       "DMU 0006                                        0.000011   \n",
       "...                                                  ...   \n",
       "DMU 1729                                        0.000797   \n",
       "DMU 1730                                        0.002180   \n",
       "DMU 1731                                        0.000000   \n",
       "DMU 1732                                        0.002304   \n",
       "DMU 1733                                        0.000000   \n",
       "\n",
       "          Weight_Input_Plant annual SO2 emissions (tons)  \\\n",
       "DMU 0001                                        0.000000   \n",
       "DMU 0002                                        0.000000   \n",
       "DMU 0003                                        0.000000   \n",
       "DMU 0004                                        0.000000   \n",
       "DMU 0006                                        0.000000   \n",
       "...                                                  ...   \n",
       "DMU 1729                                        0.000000   \n",
       "DMU 1730                                        0.000000   \n",
       "DMU 1731                                        0.062621   \n",
       "DMU 1732                                        0.000000   \n",
       "DMU 1733                                        0.000000   \n",
       "\n",
       "          Weight_Input_Plant nameplate capacity (MW)  \\\n",
       "DMU 0001                                    0.005503   \n",
       "DMU 0002                                    0.000049   \n",
       "DMU 0003                                    0.025202   \n",
       "DMU 0004                                    0.016767   \n",
       "DMU 0006                                    0.000127   \n",
       "...                                              ...   \n",
       "DMU 1729                                    0.000567   \n",
       "DMU 1730                                    0.000000   \n",
       "DMU 1731                                    0.000000   \n",
       "DMU 1732                                    0.001592   \n",
       "DMU 1733                                    0.000000   \n",
       "\n",
       "          Weight_Input_Plant total annual heat input (MMBtu)  \\\n",
       "DMU 0001                                           0.000000    \n",
       "DMU 0002                                           0.000000    \n",
       "DMU 0003                                           0.000000    \n",
       "DMU 0004                                           0.000000    \n",
       "DMU 0006                                           0.000000    \n",
       "...                                                     ...    \n",
       "DMU 1729                                           0.000000    \n",
       "DMU 1730                                           0.000020    \n",
       "DMU 1731                                           0.000000    \n",
       "DMU 1732                                           0.000022    \n",
       "DMU 1733                                           0.000000    \n",
       "\n",
       "          Weight_Output_Plant annual net generation (MWh)  \n",
       "DMU 0001                                         0.047689  \n",
       "DMU 0002                                         0.011634  \n",
       "DMU 0003                                         0.034144  \n",
       "DMU 0004                                         0.022717  \n",
       "DMU 0006                                         0.001818  \n",
       "...                                                   ...  \n",
       "DMU 1729                                         0.133751  \n",
       "DMU 1730                                         0.444840  \n",
       "DMU 1731                                         0.009504  \n",
       "DMU 1732                                         0.470613  \n",
       "DMU 1733                                         0.014833  \n",
       "\n",
       "[1644 rows x 9 columns]"
      ]
     },
     "execution_count": 154,
     "metadata": {},
     "output_type": "execute_result"
    }
   ],
   "source": [
    "df_weights = pd.read_excel(\"Data/RealData/eGrid/recent/egrid2020_data_copy_2_Sol.xlsx\", index_col = 0).iloc[:, 1:]\n",
    "df_weights"
   ]
  },
  {
   "cell_type": "code",
   "execution_count": 155,
   "id": "22916a7b-bda6-4ea3-813c-f83b77e9d67d",
   "metadata": {},
   "outputs": [
    {
     "data": {
      "text/plain": [
       "Weight_Input_Number of generators                     1404\n",
       "Weight_Input_Plant annual CH4 emissions (lbs)         1589\n",
       "Weight_Input_Plant annual CO2 emissions (tons)         822\n",
       "Weight_Input_Plant annual N2O emissions (lbs)           17\n",
       "Weight_Input_Plant annual NOx emissions (tons)         720\n",
       "Weight_Input_Plant annual SO2 emissions (tons)        1040\n",
       "Weight_Input_Plant nameplate capacity (MW)            1209\n",
       "Weight_Input_Plant total annual heat input (MMBtu)    1231\n",
       "Weight_Output_Plant annual net generation (MWh)          0\n",
       "dtype: int64"
      ]
     },
     "execution_count": 155,
     "metadata": {},
     "output_type": "execute_result"
    }
   ],
   "source": [
    "df_zero =(df_weights==0).sum()\n",
    "df_zero"
   ]
  },
  {
   "cell_type": "code",
   "execution_count": 156,
   "id": "3d4ffd5f-4876-4b2f-9110-e770ecd9babd",
   "metadata": {},
   "outputs": [
    {
     "data": {
      "text/plain": [
       "Weight_Input_Number of generators                     85.40\n",
       "Weight_Input_Plant annual CH4 emissions (lbs)         96.65\n",
       "Weight_Input_Plant annual CO2 emissions (tons)        50.00\n",
       "Weight_Input_Plant annual N2O emissions (lbs)          1.03\n",
       "Weight_Input_Plant annual NOx emissions (tons)        43.80\n",
       "Weight_Input_Plant annual SO2 emissions (tons)        63.26\n",
       "Weight_Input_Plant nameplate capacity (MW)            73.54\n",
       "Weight_Input_Plant total annual heat input (MMBtu)    74.88\n",
       "Weight_Output_Plant annual net generation (MWh)        0.00\n",
       "dtype: float64"
      ]
     },
     "execution_count": 156,
     "metadata": {},
     "output_type": "execute_result"
    }
   ],
   "source": [
    "df_zero = (((df_weights==0).sum() / df_weights.shape[0]) * 100).round(2)\n",
    "df_zero"
   ]
  },
  {
   "cell_type": "markdown",
   "id": "90f8e58b-578b-4138-81f8-5012589d87a7",
   "metadata": {
    "tags": []
   },
   "source": [
    "### ML"
   ]
  },
  {
   "cell_type": "code",
   "execution_count": 166,
   "id": "ca4d138a-4aaa-440e-94ce-661dce334187",
   "metadata": {},
   "outputs": [
    {
     "data": {
      "text/html": [
       "<div><div id=e5b5a5cf-e96c-4113-bc61-fb66ad832f8f style=\"display:none; background-color:#9D6CFF; color:white; width:200px; height:30px; padding-left:5px; border-radius:4px; flex-direction:row; justify-content:space-around; align-items:center;\" onmouseover=\"this.style.backgroundColor='#BA9BF8'\" onmouseout=\"this.style.backgroundColor='#9D6CFF'\" onclick=\"window.commands?.execute('create-mitosheet-from-dataframe-output');\">See Full Dataframe in Mito</div> <script> if (window.commands.hasCommand('create-mitosheet-from-dataframe-output')) document.getElementById('e5b5a5cf-e96c-4113-bc61-fb66ad832f8f').style.display = 'flex' </script> <table border=\"1\" class=\"dataframe\">\n",
       "  <thead>\n",
       "    <tr style=\"text-align: right;\">\n",
       "      <th></th>\n",
       "      <th>Input_Number of generators</th>\n",
       "      <th>Input_Plant nameplate capacity (MW)</th>\n",
       "      <th>Input_Plant total annual heat input (MMBtu)</th>\n",
       "      <th>Input_Plant annual NOx emissions (tons)</th>\n",
       "      <th>Input_Plant annual SO2 emissions (tons)</th>\n",
       "      <th>Input_Plant annual CO2 emissions (tons)</th>\n",
       "      <th>Input_Plant annual CH4 emissions (lbs)</th>\n",
       "      <th>Input_Plant annual N2O emissions (lbs)</th>\n",
       "    </tr>\n",
       "  </thead>\n",
       "  <tbody>\n",
       "    <tr>\n",
       "      <th>DMU 0001</th>\n",
       "      <td>4</td>\n",
       "      <td>1.5</td>\n",
       "      <td>11554.999</td>\n",
       "      <td>1212.000</td>\n",
       "      <td>19.200</td>\n",
       "      <td>1.675</td>\n",
       "      <td>943.616</td>\n",
       "      <td>76.423</td>\n",
       "    </tr>\n",
       "    <tr>\n",
       "      <th>DMU 0002</th>\n",
       "      <td>8</td>\n",
       "      <td>121.4</td>\n",
       "      <td>115024.996</td>\n",
       "      <td>7646.000</td>\n",
       "      <td>18.056</td>\n",
       "      <td>0.193</td>\n",
       "      <td>6724.603</td>\n",
       "      <td>262.106</td>\n",
       "    </tr>\n",
       "    <tr>\n",
       "      <th>DMU 0003</th>\n",
       "      <td>4</td>\n",
       "      <td>1.9</td>\n",
       "      <td>16506.999</td>\n",
       "      <td>1641.999</td>\n",
       "      <td>26.523</td>\n",
       "      <td>2.393</td>\n",
       "      <td>1348.008</td>\n",
       "      <td>109.175</td>\n",
       "    </tr>\n",
       "    <tr>\n",
       "      <th>DMU 0004</th>\n",
       "      <td>6</td>\n",
       "      <td>2.6</td>\n",
       "      <td>26541.000</td>\n",
       "      <td>2183.001</td>\n",
       "      <td>44.968</td>\n",
       "      <td>3.848</td>\n",
       "      <td>2167.415</td>\n",
       "      <td>175.539</td>\n",
       "    </tr>\n",
       "    <tr>\n",
       "      <th>DMU 0006</th>\n",
       "      <td>7</td>\n",
       "      <td>20.3</td>\n",
       "      <td>753573.992</td>\n",
       "      <td>51137.999</td>\n",
       "      <td>120.560</td>\n",
       "      <td>1.204</td>\n",
       "      <td>44042.277</td>\n",
       "      <td>1661.692</td>\n",
       "    </tr>\n",
       "  </tbody>\n",
       "</table></div>"
      ],
      "text/plain": [
       "          Input_Number of generators  Input_Plant nameplate capacity (MW)  \\\n",
       "DMU 0001                           4                                  1.5   \n",
       "DMU 0002                           8                                121.4   \n",
       "DMU 0003                           4                                  1.9   \n",
       "DMU 0004                           6                                  2.6   \n",
       "DMU 0006                           7                                 20.3   \n",
       "\n",
       "          Input_Plant total annual heat input (MMBtu)  \\\n",
       "DMU 0001                                    11554.999   \n",
       "DMU 0002                                   115024.996   \n",
       "DMU 0003                                    16506.999   \n",
       "DMU 0004                                    26541.000   \n",
       "DMU 0006                                   753573.992   \n",
       "\n",
       "          Input_Plant annual NOx emissions (tons)  \\\n",
       "DMU 0001                                 1212.000   \n",
       "DMU 0002                                 7646.000   \n",
       "DMU 0003                                 1641.999   \n",
       "DMU 0004                                 2183.001   \n",
       "DMU 0006                                51137.999   \n",
       "\n",
       "          Input_Plant annual SO2 emissions (tons)  \\\n",
       "DMU 0001                                   19.200   \n",
       "DMU 0002                                   18.056   \n",
       "DMU 0003                                   26.523   \n",
       "DMU 0004                                   44.968   \n",
       "DMU 0006                                  120.560   \n",
       "\n",
       "          Input_Plant annual CO2 emissions (tons)  \\\n",
       "DMU 0001                                    1.675   \n",
       "DMU 0002                                    0.193   \n",
       "DMU 0003                                    2.393   \n",
       "DMU 0004                                    3.848   \n",
       "DMU 0006                                    1.204   \n",
       "\n",
       "          Input_Plant annual CH4 emissions (lbs)  \\\n",
       "DMU 0001                                 943.616   \n",
       "DMU 0002                                6724.603   \n",
       "DMU 0003                                1348.008   \n",
       "DMU 0004                                2167.415   \n",
       "DMU 0006                               44042.277   \n",
       "\n",
       "          Input_Plant annual N2O emissions (lbs)  \n",
       "DMU 0001                                  76.423  \n",
       "DMU 0002                                 262.106  \n",
       "DMU 0003                                 109.175  \n",
       "DMU 0004                                 175.539  \n",
       "DMU 0006                                1661.692  "
      ]
     },
     "execution_count": 166,
     "metadata": {},
     "output_type": "execute_result"
    }
   ],
   "source": [
    "X = df.iloc[:,:-1]\n",
    "X.head()"
   ]
  },
  {
   "cell_type": "code",
   "execution_count": 167,
   "id": "1658f9d7-5486-4e5e-89d6-abd38d9fe25d",
   "metadata": {},
   "outputs": [
    {
     "data": {
      "text/plain": [
       "(1644, 8)"
      ]
     },
     "execution_count": 167,
     "metadata": {},
     "output_type": "execute_result"
    }
   ],
   "source": [
    "X.shape"
   ]
  },
  {
   "cell_type": "code",
   "execution_count": 168,
   "id": "82cb75d2-e174-4fcd-99b1-d9434f934381",
   "metadata": {},
   "outputs": [
    {
     "data": {
      "text/html": [
       "<div><div id=03d80468-894f-4ef9-a226-4d144294f044 style=\"display:none; background-color:#9D6CFF; color:white; width:200px; height:30px; padding-left:5px; border-radius:4px; flex-direction:row; justify-content:space-around; align-items:center;\" onmouseover=\"this.style.backgroundColor='#BA9BF8'\" onmouseout=\"this.style.backgroundColor='#9D6CFF'\" onclick=\"window.commands?.execute('create-mitosheet-from-dataframe-output');\">See Full Dataframe in Mito</div> <script> if (window.commands.hasCommand('create-mitosheet-from-dataframe-output')) document.getElementById('03d80468-894f-4ef9-a226-4d144294f044').style.display = 'flex' </script> <table border=\"1\" class=\"dataframe\">\n",
       "  <thead>\n",
       "    <tr style=\"text-align: right;\">\n",
       "      <th></th>\n",
       "      <th>Output_Plant annual net generation (MWh)</th>\n",
       "    </tr>\n",
       "  </thead>\n",
       "  <tbody>\n",
       "    <tr>\n",
       "      <th>DMU 0001</th>\n",
       "      <td>15.285</td>\n",
       "    </tr>\n",
       "    <tr>\n",
       "      <th>DMU 0002</th>\n",
       "      <td>27.488</td>\n",
       "    </tr>\n",
       "    <tr>\n",
       "      <th>DMU 0003</th>\n",
       "      <td>21.835</td>\n",
       "    </tr>\n",
       "    <tr>\n",
       "      <th>DMU 0004</th>\n",
       "      <td>35.108</td>\n",
       "    </tr>\n",
       "    <tr>\n",
       "      <th>DMU 0006</th>\n",
       "      <td>166.221</td>\n",
       "    </tr>\n",
       "  </tbody>\n",
       "</table></div>"
      ],
      "text/plain": [
       "          Output_Plant annual net generation (MWh)\n",
       "DMU 0001                                    15.285\n",
       "DMU 0002                                    27.488\n",
       "DMU 0003                                    21.835\n",
       "DMU 0004                                    35.108\n",
       "DMU 0006                                   166.221"
      ]
     },
     "execution_count": 168,
     "metadata": {},
     "output_type": "execute_result"
    }
   ],
   "source": [
    "y = df_y.iloc[:,-1:]\n",
    "y.head()"
   ]
  },
  {
   "cell_type": "code",
   "execution_count": 169,
   "id": "81e210f9-b24d-489a-993d-025509b46399",
   "metadata": {},
   "outputs": [],
   "source": [
    "X_train, X_test, y_train, y_test = train_test_split(X, y, test_size=0.2, random_state=42)"
   ]
  },
  {
   "cell_type": "code",
   "execution_count": 170,
   "id": "262bf01b-ff47-4717-a9a6-f76ade5a1fd1",
   "metadata": {},
   "outputs": [],
   "source": [
    "std_scaler = StandardScaler()\n",
    "mm_scaler = MinMaxScaler()"
   ]
  },
  {
   "cell_type": "code",
   "execution_count": 171,
   "id": "ecb61b18-f0c5-4ce8-8499-a55b8ef21a12",
   "metadata": {},
   "outputs": [
    {
     "name": "stdout",
     "output_type": "stream",
     "text": [
      "neg_mean_squared_error: -9787.081815484047\n",
      "neg_root_mean_squared_error: -96.93606839443784\n",
      "r2: 0.9837325291406355\n"
     ]
    }
   ],
   "source": [
    "gb_model = GradientBoostingRegressor(random_state=42)\n",
    "\n",
    "pipe_gb = make_pipeline(std_scaler, gb_model)\n",
    "\n",
    "# cross-validate the pipeline\n",
    "print(\"neg_mean_squared_error:\", cross_val_score(pipe_gb, X, y.values.ravel(), scoring=\"neg_mean_squared_error\").mean())\n",
    "print(\"neg_root_mean_squared_error:\", cross_val_score(pipe_gb, X, y.values.ravel(), scoring=\"neg_root_mean_squared_error\").mean())\n",
    "print(\"r2:\", cross_val_score(pipe_gb, X, y.values.ravel(), scoring=\"r2\").mean())"
   ]
  },
  {
   "cell_type": "code",
   "execution_count": 123,
   "id": "f0893cf3-b2d0-4438-aa5e-67a1658722dd",
   "metadata": {},
   "outputs": [],
   "source": [
    "learning_rate = [1, 0.5, 0.1,  0.01]\n",
    "n_estimators = [50, 100, 200, 500, 1000, 2000]\n",
    "max_depth = [3, 5, 10, None]\n",
    "# Minimum number of samples required to split a node\n",
    "min_samples_split = [2, 5, 10, 20, 30]\n",
    "# Minimum number of samples required at each leaf node\n",
    "min_samples_leaf = [1, 2, 4]\n",
    "subsample = [0.3, 0.5, 0.75, 1.0]"
   ]
  },
  {
   "cell_type": "code",
   "execution_count": 124,
   "id": "aef6348a-cb1d-4570-9107-5bf9a37304fe",
   "metadata": {},
   "outputs": [],
   "source": [
    "# specify parameter values to search\n",
    "params = {}\n",
    "params['gradientboostingregressor__learning_rate'] = learning_rate\n",
    "params['gradientboostingregressor__n_estimators'] = n_estimators\n",
    "params['gradientboostingregressor__max_depth'] = max_depth\n",
    "params['gradientboostingregressor__min_samples_split'] = min_samples_split\n",
    "params['gradientboostingregressor__min_samples_leaf'] = min_samples_leaf\n",
    "params['gradientboostingregressor__subsample'] = subsample"
   ]
  },
  {
   "cell_type": "code",
   "execution_count": 125,
   "id": "1108df62-201c-4d47-b0da-6c2d8a873629",
   "metadata": {},
   "outputs": [
    {
     "data": {
      "text/plain": [
       "RandomizedSearchCV(cv=5,\n",
       "                   estimator=Pipeline(steps=[('standardscaler',\n",
       "                                              StandardScaler()),\n",
       "                                             ('gradientboostingregressor',\n",
       "                                              GradientBoostingRegressor(random_state=42))]),\n",
       "                   param_distributions={'gradientboostingregressor__learning_rate': [1,\n",
       "                                                                                     0.5,\n",
       "                                                                                     0.1,\n",
       "                                                                                     0.01],\n",
       "                                        'gradientboostingregressor__max_depth': [3,\n",
       "                                                                                 5,\n",
       "                                                                                 10,\n",
       "                                                                                 None],\n",
       "                                        'gradientboostingregressor__min_samples_leaf': [1,\n",
       "                                                                                        2,\n",
       "                                                                                        4],\n",
       "                                        'gradientboostingregressor__min_samples_split': [2,\n",
       "                                                                                         5,\n",
       "                                                                                         10,\n",
       "                                                                                         20,\n",
       "                                                                                         30],\n",
       "                                        'gradientboostingregressor__n_estimators': [50,\n",
       "                                                                                    100,\n",
       "                                                                                    200,\n",
       "                                                                                    500,\n",
       "                                                                                    1000,\n",
       "                                                                                    2000],\n",
       "                                        'gradientboostingregressor__subsample': [0.3,\n",
       "                                                                                 0.5,\n",
       "                                                                                 0.75,\n",
       "                                                                                 1.0]},\n",
       "                   scoring='neg_root_mean_squared_error')"
      ]
     },
     "execution_count": 125,
     "metadata": {},
     "output_type": "execute_result"
    }
   ],
   "source": [
    "grid = RandomizedSearchCV(pipe_gb, params, cv=5, scoring=\"neg_root_mean_squared_error\")\n",
    "grid.fit(X, y.values.ravel())"
   ]
  },
  {
   "cell_type": "code",
   "execution_count": 126,
   "id": "13b2dd41-835b-405c-b3bc-4baf3fc6c0b8",
   "metadata": {},
   "outputs": [
    {
     "name": "stdout",
     "output_type": "stream",
     "text": [
      "-91.82005010054239\n",
      "{'gradientboostingregressor__subsample': 0.3, 'gradientboostingregressor__n_estimators': 2000, 'gradientboostingregressor__min_samples_split': 30, 'gradientboostingregressor__min_samples_leaf': 2, 'gradientboostingregressor__max_depth': None, 'gradientboostingregressor__learning_rate': 0.01}\n",
      "Pipeline(steps=[('standardscaler', StandardScaler()),\n",
      "                ('gradientboostingregressor',\n",
      "                 GradientBoostingRegressor(learning_rate=0.01, max_depth=None,\n",
      "                                           min_samples_leaf=2,\n",
      "                                           min_samples_split=30,\n",
      "                                           n_estimators=2000, random_state=42,\n",
      "                                           subsample=0.3))])\n",
      "r2: 0.9851817702880584\n"
     ]
    }
   ],
   "source": [
    "print(grid.best_score_)\n",
    "print(grid.best_params_)\n",
    "print(grid.best_estimator_)\n",
    "print(\"r2:\", cross_val_score(grid.best_estimator_, X, y.values.ravel(), scoring=\"r2\").mean())"
   ]
  },
  {
   "cell_type": "code",
   "execution_count": 172,
   "id": "25250a0d-9024-4cca-b485-824db6f2a566",
   "metadata": {},
   "outputs": [
    {
     "data": {
      "text/plain": [
       "Pipeline(steps=[('standardscaler', StandardScaler()),\n",
       "                ('gradientboostingregressor',\n",
       "                 GradientBoostingRegressor(random_state=42))])"
      ]
     },
     "execution_count": 172,
     "metadata": {},
     "output_type": "execute_result"
    }
   ],
   "source": [
    "pipe_gb.fit(X,y.values.ravel())"
   ]
  },
  {
   "cell_type": "code",
   "execution_count": 173,
   "id": "b83f0045-b977-42a7-9460-beeffb9d72f8",
   "metadata": {},
   "outputs": [
    {
     "data": {
      "text/plain": [
       "array([0.  , 0.  , 0.  , 0.  , 0.  , 0.  , 0.  , 0.99])"
      ]
     },
     "execution_count": 173,
     "metadata": {},
     "output_type": "execute_result"
    }
   ],
   "source": [
    "imp_gb = pipe_gb.steps[1][1].feature_importances_\n",
    "imp_gb"
   ]
  },
  {
   "cell_type": "code",
   "execution_count": 127,
   "id": "4ee8815d-b350-4c27-96b9-f52e9c37a540",
   "metadata": {},
   "outputs": [
    {
     "data": {
      "text/plain": [
       "array([0.  , 0.  , 0.01, 0.  , 0.  , 0.01, 0.01, 0.96])"
      ]
     },
     "execution_count": 127,
     "metadata": {},
     "output_type": "execute_result"
    }
   ],
   "source": [
    "imp_gb = grid.best_estimator_.steps[1][1].feature_importances_\n",
    "imp_gb"
   ]
  },
  {
   "cell_type": "code",
   "execution_count": 174,
   "id": "8edbc3da-9f03-48df-9dbe-8899be196518",
   "metadata": {},
   "outputs": [
    {
     "data": {
      "text/html": [
       "<div><div id=819f9c63-ab13-4865-98a1-f40dec8e9da6 style=\"display:none; background-color:#9D6CFF; color:white; width:200px; height:30px; padding-left:5px; border-radius:4px; flex-direction:row; justify-content:space-around; align-items:center;\" onmouseover=\"this.style.backgroundColor='#BA9BF8'\" onmouseout=\"this.style.backgroundColor='#9D6CFF'\" onclick=\"window.commands?.execute('create-mitosheet-from-dataframe-output');\">See Full Dataframe in Mito</div> <script> if (window.commands.hasCommand('create-mitosheet-from-dataframe-output')) document.getElementById('819f9c63-ab13-4865-98a1-f40dec8e9da6').style.display = 'flex' </script> <table border=\"1\" class=\"dataframe\">\n",
       "  <thead>\n",
       "    <tr style=\"text-align: right;\">\n",
       "      <th></th>\n",
       "      <th>Feature Name</th>\n",
       "      <th>Importance</th>\n",
       "    </tr>\n",
       "  </thead>\n",
       "  <tbody>\n",
       "    <tr>\n",
       "      <th>7</th>\n",
       "      <td>Input_Plant annual N2O emissions (lbs)</td>\n",
       "      <td>0.986630</td>\n",
       "    </tr>\n",
       "    <tr>\n",
       "      <th>5</th>\n",
       "      <td>Input_Plant annual CO2 emissions (tons)</td>\n",
       "      <td>0.003546</td>\n",
       "    </tr>\n",
       "    <tr>\n",
       "      <th>6</th>\n",
       "      <td>Input_Plant annual CH4 emissions (lbs)</td>\n",
       "      <td>0.003242</td>\n",
       "    </tr>\n",
       "    <tr>\n",
       "      <th>1</th>\n",
       "      <td>Input_Plant nameplate capacity (MW)</td>\n",
       "      <td>0.002616</td>\n",
       "    </tr>\n",
       "    <tr>\n",
       "      <th>2</th>\n",
       "      <td>Input_Plant total annual heat input (MMBtu)</td>\n",
       "      <td>0.002564</td>\n",
       "    </tr>\n",
       "    <tr>\n",
       "      <th>3</th>\n",
       "      <td>Input_Plant annual NOx emissions (tons)</td>\n",
       "      <td>0.001094</td>\n",
       "    </tr>\n",
       "    <tr>\n",
       "      <th>4</th>\n",
       "      <td>Input_Plant annual SO2 emissions (tons)</td>\n",
       "      <td>0.000282</td>\n",
       "    </tr>\n",
       "    <tr>\n",
       "      <th>0</th>\n",
       "      <td>Input_Number of generators</td>\n",
       "      <td>0.000027</td>\n",
       "    </tr>\n",
       "  </tbody>\n",
       "</table></div>"
      ],
      "text/plain": [
       "                                  Feature Name  Importance\n",
       "7       Input_Plant annual N2O emissions (lbs)    0.986630\n",
       "5      Input_Plant annual CO2 emissions (tons)    0.003546\n",
       "6       Input_Plant annual CH4 emissions (lbs)    0.003242\n",
       "1          Input_Plant nameplate capacity (MW)    0.002616\n",
       "2  Input_Plant total annual heat input (MMBtu)    0.002564\n",
       "3      Input_Plant annual NOx emissions (tons)    0.001094\n",
       "4      Input_Plant annual SO2 emissions (tons)    0.000282\n",
       "0                   Input_Number of generators    0.000027"
      ]
     },
     "execution_count": 174,
     "metadata": {},
     "output_type": "execute_result"
    }
   ],
   "source": [
    "df_gb = pd.DataFrame({\"Feature Name\":X.columns, \"Importance\": imp_gb}).sort_values(\"Importance\", ascending=False)\n",
    "df_gb"
   ]
  },
  {
   "cell_type": "code",
   "execution_count": 177,
   "id": "85dbcf53-d1b3-426f-ab40-af144dbe9b72",
   "metadata": {},
   "outputs": [],
   "source": [
    "results = []"
   ]
  },
  {
   "cell_type": "code",
   "execution_count": 178,
   "id": "83505479-6a82-45a1-91a1-79fcb979e85b",
   "metadata": {},
   "outputs": [],
   "source": [
    "input_imp = list(df_gb[\"Feature Name\"].values)\n",
    "results.append((0, grid.best_estimator_.steps[1][0], input_imp,\n",
    "                {\"r2\" : cross_val_score(grid.best_estimator_, X, y.values.ravel(), scoring=\"r2\").mean(),\n",
    "                \"neg_root_mean_squared_error\": grid.best_score_}))"
   ]
  },
  {
   "cell_type": "code",
   "execution_count": 31,
   "id": "28d99369-537f-43e3-8004-6cb60b364819",
   "metadata": {},
   "outputs": [
    {
     "data": {
      "application/vnd.plotly.v1+json": {
       "config": {
        "plotlyServerURL": "https://plot.ly"
       },
       "data": [
        {
         "alignmentgroup": "True",
         "hovertemplate": "Importance=%{x}<br>Feature Name=%{y}<extra></extra>",
         "legendgroup": "",
         "marker": {
          "color": "#636efa",
          "pattern": {
           "shape": ""
          }
         },
         "name": "",
         "offsetgroup": "",
         "orientation": "h",
         "showlegend": false,
         "textposition": "auto",
         "type": "bar",
         "x": [
          0.982514677544347,
          0.005399791339295378,
          0.005132348827105039,
          0.004288402486828444,
          0.0012824035002787745,
          0.001055869508577512,
          0.00020292337390838508,
          0.0001235834196596236
         ],
         "xaxis": "x",
         "y": [
          "Input_Plant annual N2O emissions (lbs)",
          "Input_Plant total annual heat input (MMBtu)",
          "Input_Plant annual CH4 emissions (lbs)",
          "Input_Plant annual CO2 emissions (tons)",
          "Input_Plant annual NOx emissions (tons)",
          "Input_Plant nameplate capacity (MW)",
          "Input_Plant annual SO2 emissions (tons)",
          "Input_Number of generators"
         ],
         "yaxis": "y"
        }
       ],
       "layout": {
        "autosize": false,
        "barmode": "relative",
        "height": 300,
        "legend": {
         "tracegroupgap": 0
        },
        "margin": {
         "t": 60
        },
        "template": {
         "data": {
          "bar": [
           {
            "error_x": {
             "color": "#2a3f5f"
            },
            "error_y": {
             "color": "#2a3f5f"
            },
            "marker": {
             "line": {
              "color": "#E5ECF6",
              "width": 0.5
             },
             "pattern": {
              "fillmode": "overlay",
              "size": 10,
              "solidity": 0.2
             }
            },
            "type": "bar"
           }
          ],
          "barpolar": [
           {
            "marker": {
             "line": {
              "color": "#E5ECF6",
              "width": 0.5
             },
             "pattern": {
              "fillmode": "overlay",
              "size": 10,
              "solidity": 0.2
             }
            },
            "type": "barpolar"
           }
          ],
          "carpet": [
           {
            "aaxis": {
             "endlinecolor": "#2a3f5f",
             "gridcolor": "white",
             "linecolor": "white",
             "minorgridcolor": "white",
             "startlinecolor": "#2a3f5f"
            },
            "baxis": {
             "endlinecolor": "#2a3f5f",
             "gridcolor": "white",
             "linecolor": "white",
             "minorgridcolor": "white",
             "startlinecolor": "#2a3f5f"
            },
            "type": "carpet"
           }
          ],
          "choropleth": [
           {
            "colorbar": {
             "outlinewidth": 0,
             "ticks": ""
            },
            "type": "choropleth"
           }
          ],
          "contour": [
           {
            "colorbar": {
             "outlinewidth": 0,
             "ticks": ""
            },
            "colorscale": [
             [
              0,
              "#0d0887"
             ],
             [
              0.1111111111111111,
              "#46039f"
             ],
             [
              0.2222222222222222,
              "#7201a8"
             ],
             [
              0.3333333333333333,
              "#9c179e"
             ],
             [
              0.4444444444444444,
              "#bd3786"
             ],
             [
              0.5555555555555556,
              "#d8576b"
             ],
             [
              0.6666666666666666,
              "#ed7953"
             ],
             [
              0.7777777777777778,
              "#fb9f3a"
             ],
             [
              0.8888888888888888,
              "#fdca26"
             ],
             [
              1,
              "#f0f921"
             ]
            ],
            "type": "contour"
           }
          ],
          "contourcarpet": [
           {
            "colorbar": {
             "outlinewidth": 0,
             "ticks": ""
            },
            "type": "contourcarpet"
           }
          ],
          "heatmap": [
           {
            "colorbar": {
             "outlinewidth": 0,
             "ticks": ""
            },
            "colorscale": [
             [
              0,
              "#0d0887"
             ],
             [
              0.1111111111111111,
              "#46039f"
             ],
             [
              0.2222222222222222,
              "#7201a8"
             ],
             [
              0.3333333333333333,
              "#9c179e"
             ],
             [
              0.4444444444444444,
              "#bd3786"
             ],
             [
              0.5555555555555556,
              "#d8576b"
             ],
             [
              0.6666666666666666,
              "#ed7953"
             ],
             [
              0.7777777777777778,
              "#fb9f3a"
             ],
             [
              0.8888888888888888,
              "#fdca26"
             ],
             [
              1,
              "#f0f921"
             ]
            ],
            "type": "heatmap"
           }
          ],
          "heatmapgl": [
           {
            "colorbar": {
             "outlinewidth": 0,
             "ticks": ""
            },
            "colorscale": [
             [
              0,
              "#0d0887"
             ],
             [
              0.1111111111111111,
              "#46039f"
             ],
             [
              0.2222222222222222,
              "#7201a8"
             ],
             [
              0.3333333333333333,
              "#9c179e"
             ],
             [
              0.4444444444444444,
              "#bd3786"
             ],
             [
              0.5555555555555556,
              "#d8576b"
             ],
             [
              0.6666666666666666,
              "#ed7953"
             ],
             [
              0.7777777777777778,
              "#fb9f3a"
             ],
             [
              0.8888888888888888,
              "#fdca26"
             ],
             [
              1,
              "#f0f921"
             ]
            ],
            "type": "heatmapgl"
           }
          ],
          "histogram": [
           {
            "marker": {
             "pattern": {
              "fillmode": "overlay",
              "size": 10,
              "solidity": 0.2
             }
            },
            "type": "histogram"
           }
          ],
          "histogram2d": [
           {
            "colorbar": {
             "outlinewidth": 0,
             "ticks": ""
            },
            "colorscale": [
             [
              0,
              "#0d0887"
             ],
             [
              0.1111111111111111,
              "#46039f"
             ],
             [
              0.2222222222222222,
              "#7201a8"
             ],
             [
              0.3333333333333333,
              "#9c179e"
             ],
             [
              0.4444444444444444,
              "#bd3786"
             ],
             [
              0.5555555555555556,
              "#d8576b"
             ],
             [
              0.6666666666666666,
              "#ed7953"
             ],
             [
              0.7777777777777778,
              "#fb9f3a"
             ],
             [
              0.8888888888888888,
              "#fdca26"
             ],
             [
              1,
              "#f0f921"
             ]
            ],
            "type": "histogram2d"
           }
          ],
          "histogram2dcontour": [
           {
            "colorbar": {
             "outlinewidth": 0,
             "ticks": ""
            },
            "colorscale": [
             [
              0,
              "#0d0887"
             ],
             [
              0.1111111111111111,
              "#46039f"
             ],
             [
              0.2222222222222222,
              "#7201a8"
             ],
             [
              0.3333333333333333,
              "#9c179e"
             ],
             [
              0.4444444444444444,
              "#bd3786"
             ],
             [
              0.5555555555555556,
              "#d8576b"
             ],
             [
              0.6666666666666666,
              "#ed7953"
             ],
             [
              0.7777777777777778,
              "#fb9f3a"
             ],
             [
              0.8888888888888888,
              "#fdca26"
             ],
             [
              1,
              "#f0f921"
             ]
            ],
            "type": "histogram2dcontour"
           }
          ],
          "mesh3d": [
           {
            "colorbar": {
             "outlinewidth": 0,
             "ticks": ""
            },
            "type": "mesh3d"
           }
          ],
          "parcoords": [
           {
            "line": {
             "colorbar": {
              "outlinewidth": 0,
              "ticks": ""
             }
            },
            "type": "parcoords"
           }
          ],
          "pie": [
           {
            "automargin": true,
            "type": "pie"
           }
          ],
          "scatter": [
           {
            "marker": {
             "colorbar": {
              "outlinewidth": 0,
              "ticks": ""
             }
            },
            "type": "scatter"
           }
          ],
          "scatter3d": [
           {
            "line": {
             "colorbar": {
              "outlinewidth": 0,
              "ticks": ""
             }
            },
            "marker": {
             "colorbar": {
              "outlinewidth": 0,
              "ticks": ""
             }
            },
            "type": "scatter3d"
           }
          ],
          "scattercarpet": [
           {
            "marker": {
             "colorbar": {
              "outlinewidth": 0,
              "ticks": ""
             }
            },
            "type": "scattercarpet"
           }
          ],
          "scattergeo": [
           {
            "marker": {
             "colorbar": {
              "outlinewidth": 0,
              "ticks": ""
             }
            },
            "type": "scattergeo"
           }
          ],
          "scattergl": [
           {
            "marker": {
             "colorbar": {
              "outlinewidth": 0,
              "ticks": ""
             }
            },
            "type": "scattergl"
           }
          ],
          "scattermapbox": [
           {
            "marker": {
             "colorbar": {
              "outlinewidth": 0,
              "ticks": ""
             }
            },
            "type": "scattermapbox"
           }
          ],
          "scatterpolar": [
           {
            "marker": {
             "colorbar": {
              "outlinewidth": 0,
              "ticks": ""
             }
            },
            "type": "scatterpolar"
           }
          ],
          "scatterpolargl": [
           {
            "marker": {
             "colorbar": {
              "outlinewidth": 0,
              "ticks": ""
             }
            },
            "type": "scatterpolargl"
           }
          ],
          "scatterternary": [
           {
            "marker": {
             "colorbar": {
              "outlinewidth": 0,
              "ticks": ""
             }
            },
            "type": "scatterternary"
           }
          ],
          "surface": [
           {
            "colorbar": {
             "outlinewidth": 0,
             "ticks": ""
            },
            "colorscale": [
             [
              0,
              "#0d0887"
             ],
             [
              0.1111111111111111,
              "#46039f"
             ],
             [
              0.2222222222222222,
              "#7201a8"
             ],
             [
              0.3333333333333333,
              "#9c179e"
             ],
             [
              0.4444444444444444,
              "#bd3786"
             ],
             [
              0.5555555555555556,
              "#d8576b"
             ],
             [
              0.6666666666666666,
              "#ed7953"
             ],
             [
              0.7777777777777778,
              "#fb9f3a"
             ],
             [
              0.8888888888888888,
              "#fdca26"
             ],
             [
              1,
              "#f0f921"
             ]
            ],
            "type": "surface"
           }
          ],
          "table": [
           {
            "cells": {
             "fill": {
              "color": "#EBF0F8"
             },
             "line": {
              "color": "white"
             }
            },
            "header": {
             "fill": {
              "color": "#C8D4E3"
             },
             "line": {
              "color": "white"
             }
            },
            "type": "table"
           }
          ]
         },
         "layout": {
          "annotationdefaults": {
           "arrowcolor": "#2a3f5f",
           "arrowhead": 0,
           "arrowwidth": 1
          },
          "autotypenumbers": "strict",
          "coloraxis": {
           "colorbar": {
            "outlinewidth": 0,
            "ticks": ""
           }
          },
          "colorscale": {
           "diverging": [
            [
             0,
             "#8e0152"
            ],
            [
             0.1,
             "#c51b7d"
            ],
            [
             0.2,
             "#de77ae"
            ],
            [
             0.3,
             "#f1b6da"
            ],
            [
             0.4,
             "#fde0ef"
            ],
            [
             0.5,
             "#f7f7f7"
            ],
            [
             0.6,
             "#e6f5d0"
            ],
            [
             0.7,
             "#b8e186"
            ],
            [
             0.8,
             "#7fbc41"
            ],
            [
             0.9,
             "#4d9221"
            ],
            [
             1,
             "#276419"
            ]
           ],
           "sequential": [
            [
             0,
             "#0d0887"
            ],
            [
             0.1111111111111111,
             "#46039f"
            ],
            [
             0.2222222222222222,
             "#7201a8"
            ],
            [
             0.3333333333333333,
             "#9c179e"
            ],
            [
             0.4444444444444444,
             "#bd3786"
            ],
            [
             0.5555555555555556,
             "#d8576b"
            ],
            [
             0.6666666666666666,
             "#ed7953"
            ],
            [
             0.7777777777777778,
             "#fb9f3a"
            ],
            [
             0.8888888888888888,
             "#fdca26"
            ],
            [
             1,
             "#f0f921"
            ]
           ],
           "sequentialminus": [
            [
             0,
             "#0d0887"
            ],
            [
             0.1111111111111111,
             "#46039f"
            ],
            [
             0.2222222222222222,
             "#7201a8"
            ],
            [
             0.3333333333333333,
             "#9c179e"
            ],
            [
             0.4444444444444444,
             "#bd3786"
            ],
            [
             0.5555555555555556,
             "#d8576b"
            ],
            [
             0.6666666666666666,
             "#ed7953"
            ],
            [
             0.7777777777777778,
             "#fb9f3a"
            ],
            [
             0.8888888888888888,
             "#fdca26"
            ],
            [
             1,
             "#f0f921"
            ]
           ]
          },
          "colorway": [
           "#636efa",
           "#EF553B",
           "#00cc96",
           "#ab63fa",
           "#FFA15A",
           "#19d3f3",
           "#FF6692",
           "#B6E880",
           "#FF97FF",
           "#FECB52"
          ],
          "font": {
           "color": "#2a3f5f"
          },
          "geo": {
           "bgcolor": "white",
           "lakecolor": "white",
           "landcolor": "#E5ECF6",
           "showlakes": true,
           "showland": true,
           "subunitcolor": "white"
          },
          "hoverlabel": {
           "align": "left"
          },
          "hovermode": "closest",
          "mapbox": {
           "style": "light"
          },
          "paper_bgcolor": "white",
          "plot_bgcolor": "#E5ECF6",
          "polar": {
           "angularaxis": {
            "gridcolor": "white",
            "linecolor": "white",
            "ticks": ""
           },
           "bgcolor": "#E5ECF6",
           "radialaxis": {
            "gridcolor": "white",
            "linecolor": "white",
            "ticks": ""
           }
          },
          "scene": {
           "xaxis": {
            "backgroundcolor": "#E5ECF6",
            "gridcolor": "white",
            "gridwidth": 2,
            "linecolor": "white",
            "showbackground": true,
            "ticks": "",
            "zerolinecolor": "white"
           },
           "yaxis": {
            "backgroundcolor": "#E5ECF6",
            "gridcolor": "white",
            "gridwidth": 2,
            "linecolor": "white",
            "showbackground": true,
            "ticks": "",
            "zerolinecolor": "white"
           },
           "zaxis": {
            "backgroundcolor": "#E5ECF6",
            "gridcolor": "white",
            "gridwidth": 2,
            "linecolor": "white",
            "showbackground": true,
            "ticks": "",
            "zerolinecolor": "white"
           }
          },
          "shapedefaults": {
           "line": {
            "color": "#2a3f5f"
           }
          },
          "ternary": {
           "aaxis": {
            "gridcolor": "white",
            "linecolor": "white",
            "ticks": ""
           },
           "baxis": {
            "gridcolor": "white",
            "linecolor": "white",
            "ticks": ""
           },
           "bgcolor": "#E5ECF6",
           "caxis": {
            "gridcolor": "white",
            "linecolor": "white",
            "ticks": ""
           }
          },
          "title": {
           "x": 0.05
          },
          "xaxis": {
           "automargin": true,
           "gridcolor": "white",
           "linecolor": "white",
           "ticks": "",
           "title": {
            "standoff": 15
           },
           "zerolinecolor": "white",
           "zerolinewidth": 2
          },
          "yaxis": {
           "automargin": true,
           "gridcolor": "white",
           "linecolor": "white",
           "ticks": "",
           "title": {
            "standoff": 15
           },
           "zerolinecolor": "white",
           "zerolinewidth": 2
          }
         }
        },
        "title": {
         "text": "GradientBoostingRegressor Feature Importances"
        },
        "width": 600,
        "xaxis": {
         "anchor": "y",
         "autorange": true,
         "domain": [
          0,
          1
         ],
         "range": [
          0,
          1.0342259763624704
         ],
         "title": {
          "text": "Importance"
         },
         "type": "linear"
        },
        "yaxis": {
         "anchor": "x",
         "autorange": true,
         "categoryorder": "total ascending",
         "domain": [
          0,
          1
         ],
         "range": [
          -0.5,
          7.5
         ],
         "title": {
          "text": "Feature Name"
         },
         "type": "category"
        }
       }
      },
      "image/png": "[encoded data removed]",
      "text/html": [
       "<div>                            <div id=\"86cd2be0-256d-4f7b-9072-628d1888fa26\" class=\"plotly-graph-div\" style=\"height:300px; width:600px;\"></div>            <script type=\"text/javascript\">                require([\"plotly\"], function(Plotly) {                    window.PLOTLYENV=window.PLOTLYENV || {};                                    if (document.getElementById(\"86cd2be0-256d-4f7b-9072-628d1888fa26\")) {                    Plotly.newPlot(                        \"86cd2be0-256d-4f7b-9072-628d1888fa26\",                        [{\"alignmentgroup\":\"True\",\"hovertemplate\":\"Importance=%{x}<br>Feature Name=%{y}<extra></extra>\",\"legendgroup\":\"\",\"marker\":{\"color\":\"#636efa\",\"pattern\":{\"shape\":\"\"}},\"name\":\"\",\"offsetgroup\":\"\",\"orientation\":\"h\",\"showlegend\":false,\"textposition\":\"auto\",\"type\":\"bar\",\"x\":[0.982514677544347,0.005399791339295378,0.005132348827105039,0.004288402486828444,0.0012824035002787745,0.001055869508577512,0.00020292337390838508,0.0001235834196596236],\"xaxis\":\"x\",\"y\":[\"Input_Plant annual N2O emissions (lbs)\",\"Input_Plant total annual heat input (MMBtu)\",\"Input_Plant annual CH4 emissions (lbs)\",\"Input_Plant annual CO2 emissions (tons)\",\"Input_Plant annual NOx emissions (tons)\",\"Input_Plant nameplate capacity (MW)\",\"Input_Plant annual SO2 emissions (tons)\",\"Input_Number of generators\"],\"yaxis\":\"y\"}],                        {\"autosize\":false,\"barmode\":\"relative\",\"height\":300,\"legend\":{\"tracegroupgap\":0},\"margin\":{\"t\":60},\"template\":{\"data\":{\"bar\":[{\"error_x\":{\"color\":\"#2a3f5f\"},\"error_y\":{\"color\":\"#2a3f5f\"},\"marker\":{\"line\":{\"color\":\"#E5ECF6\",\"width\":0.5},\"pattern\":{\"fillmode\":\"overlay\",\"size\":10,\"solidity\":0.2}},\"type\":\"bar\"}],\"barpolar\":[{\"marker\":{\"line\":{\"color\":\"#E5ECF6\",\"width\":0.5},\"pattern\":{\"fillmode\":\"overlay\",\"size\":10,\"solidity\":0.2}},\"type\":\"barpolar\"}],\"carpet\":[{\"aaxis\":{\"endlinecolor\":\"#2a3f5f\",\"gridcolor\":\"white\",\"linecolor\":\"white\",\"minorgridcolor\":\"white\",\"startlinecolor\":\"#2a3f5f\"},\"baxis\":{\"endlinecolor\":\"#2a3f5f\",\"gridcolor\":\"white\",\"linecolor\":\"white\",\"minorgridcolor\":\"white\",\"startlinecolor\":\"#2a3f5f\"},\"type\":\"carpet\"}],\"choropleth\":[{\"colorbar\":{\"outlinewidth\":0,\"ticks\":\"\"},\"type\":\"choropleth\"}],\"contour\":[{\"colorbar\":{\"outlinewidth\":0,\"ticks\":\"\"},\"colorscale\":[[0.0,\"#0d0887\"],[0.1111111111111111,\"#46039f\"],[0.2222222222222222,\"#7201a8\"],[0.3333333333333333,\"#9c179e\"],[0.4444444444444444,\"#bd3786\"],[0.5555555555555556,\"#d8576b\"],[0.6666666666666666,\"#ed7953\"],[0.7777777777777778,\"#fb9f3a\"],[0.8888888888888888,\"#fdca26\"],[1.0,\"#f0f921\"]],\"type\":\"contour\"}],\"contourcarpet\":[{\"colorbar\":{\"outlinewidth\":0,\"ticks\":\"\"},\"type\":\"contourcarpet\"}],\"heatmap\":[{\"colorbar\":{\"outlinewidth\":0,\"ticks\":\"\"},\"colorscale\":[[0.0,\"#0d0887\"],[0.1111111111111111,\"#46039f\"],[0.2222222222222222,\"#7201a8\"],[0.3333333333333333,\"#9c179e\"],[0.4444444444444444,\"#bd3786\"],[0.5555555555555556,\"#d8576b\"],[0.6666666666666666,\"#ed7953\"],[0.7777777777777778,\"#fb9f3a\"],[0.8888888888888888,\"#fdca26\"],[1.0,\"#f0f921\"]],\"type\":\"heatmap\"}],\"heatmapgl\":[{\"colorbar\":{\"outlinewidth\":0,\"ticks\":\"\"},\"colorscale\":[[0.0,\"#0d0887\"],[0.1111111111111111,\"#46039f\"],[0.2222222222222222,\"#7201a8\"],[0.3333333333333333,\"#9c179e\"],[0.4444444444444444,\"#bd3786\"],[0.5555555555555556,\"#d8576b\"],[0.6666666666666666,\"#ed7953\"],[0.7777777777777778,\"#fb9f3a\"],[0.8888888888888888,\"#fdca26\"],[1.0,\"#f0f921\"]],\"type\":\"heatmapgl\"}],\"histogram\":[{\"marker\":{\"pattern\":{\"fillmode\":\"overlay\",\"size\":10,\"solidity\":0.2}},\"type\":\"histogram\"}],\"histogram2d\":[{\"colorbar\":{\"outlinewidth\":0,\"ticks\":\"\"},\"colorscale\":[[0.0,\"#0d0887\"],[0.1111111111111111,\"#46039f\"],[0.2222222222222222,\"#7201a8\"],[0.3333333333333333,\"#9c179e\"],[0.4444444444444444,\"#bd3786\"],[0.5555555555555556,\"#d8576b\"],[0.6666666666666666,\"#ed7953\"],[0.7777777777777778,\"#fb9f3a\"],[0.8888888888888888,\"#fdca26\"],[1.0,\"#f0f921\"]],\"type\":\"histogram2d\"}],\"histogram2dcontour\":[{\"colorbar\":{\"outlinewidth\":0,\"ticks\":\"\"},\"colorscale\":[[0.0,\"#0d0887\"],[0.1111111111111111,\"#46039f\"],[0.2222222222222222,\"#7201a8\"],[0.3333333333333333,\"#9c179e\"],[0.4444444444444444,\"#bd3786\"],[0.5555555555555556,\"#d8576b\"],[0.6666666666666666,\"#ed7953\"],[0.7777777777777778,\"#fb9f3a\"],[0.8888888888888888,\"#fdca26\"],[1.0,\"#f0f921\"]],\"type\":\"histogram2dcontour\"}],\"mesh3d\":[{\"colorbar\":{\"outlinewidth\":0,\"ticks\":\"\"},\"type\":\"mesh3d\"}],\"parcoords\":[{\"line\":{\"colorbar\":{\"outlinewidth\":0,\"ticks\":\"\"}},\"type\":\"parcoords\"}],\"pie\":[{\"automargin\":true,\"type\":\"pie\"}],\"scatter\":[{\"marker\":{\"colorbar\":{\"outlinewidth\":0,\"ticks\":\"\"}},\"type\":\"scatter\"}],\"scatter3d\":[{\"line\":{\"colorbar\":{\"outlinewidth\":0,\"ticks\":\"\"}},\"marker\":{\"colorbar\":{\"outlinewidth\":0,\"ticks\":\"\"}},\"type\":\"scatter3d\"}],\"scattercarpet\":[{\"marker\":{\"colorbar\":{\"outlinewidth\":0,\"ticks\":\"\"}},\"type\":\"scattercarpet\"}],\"scattergeo\":[{\"marker\":{\"colorbar\":{\"outlinewidth\":0,\"ticks\":\"\"}},\"type\":\"scattergeo\"}],\"scattergl\":[{\"marker\":{\"colorbar\":{\"outlinewidth\":0,\"ticks\":\"\"}},\"type\":\"scattergl\"}],\"scattermapbox\":[{\"marker\":{\"colorbar\":{\"outlinewidth\":0,\"ticks\":\"\"}},\"type\":\"scattermapbox\"}],\"scatterpolar\":[{\"marker\":{\"colorbar\":{\"outlinewidth\":0,\"ticks\":\"\"}},\"type\":\"scatterpolar\"}],\"scatterpolargl\":[{\"marker\":{\"colorbar\":{\"outlinewidth\":0,\"ticks\":\"\"}},\"type\":\"scatterpolargl\"}],\"scatterternary\":[{\"marker\":{\"colorbar\":{\"outlinewidth\":0,\"ticks\":\"\"}},\"type\":\"scatterternary\"}],\"surface\":[{\"colorbar\":{\"outlinewidth\":0,\"ticks\":\"\"},\"colorscale\":[[0.0,\"#0d0887\"],[0.1111111111111111,\"#46039f\"],[0.2222222222222222,\"#7201a8\"],[0.3333333333333333,\"#9c179e\"],[0.4444444444444444,\"#bd3786\"],[0.5555555555555556,\"#d8576b\"],[0.6666666666666666,\"#ed7953\"],[0.7777777777777778,\"#fb9f3a\"],[0.8888888888888888,\"#fdca26\"],[1.0,\"#f0f921\"]],\"type\":\"surface\"}],\"table\":[{\"cells\":{\"fill\":{\"color\":\"#EBF0F8\"},\"line\":{\"color\":\"white\"}},\"header\":{\"fill\":{\"color\":\"#C8D4E3\"},\"line\":{\"color\":\"white\"}},\"type\":\"table\"}]},\"layout\":{\"annotationdefaults\":{\"arrowcolor\":\"#2a3f5f\",\"arrowhead\":0,\"arrowwidth\":1},\"autotypenumbers\":\"strict\",\"coloraxis\":{\"colorbar\":{\"outlinewidth\":0,\"ticks\":\"\"}},\"colorscale\":{\"diverging\":[[0,\"#8e0152\"],[0.1,\"#c51b7d\"],[0.2,\"#de77ae\"],[0.3,\"#f1b6da\"],[0.4,\"#fde0ef\"],[0.5,\"#f7f7f7\"],[0.6,\"#e6f5d0\"],[0.7,\"#b8e186\"],[0.8,\"#7fbc41\"],[0.9,\"#4d9221\"],[1,\"#276419\"]],\"sequential\":[[0.0,\"#0d0887\"],[0.1111111111111111,\"#46039f\"],[0.2222222222222222,\"#7201a8\"],[0.3333333333333333,\"#9c179e\"],[0.4444444444444444,\"#bd3786\"],[0.5555555555555556,\"#d8576b\"],[0.6666666666666666,\"#ed7953\"],[0.7777777777777778,\"#fb9f3a\"],[0.8888888888888888,\"#fdca26\"],[1.0,\"#f0f921\"]],\"sequentialminus\":[[0.0,\"#0d0887\"],[0.1111111111111111,\"#46039f\"],[0.2222222222222222,\"#7201a8\"],[0.3333333333333333,\"#9c179e\"],[0.4444444444444444,\"#bd3786\"],[0.5555555555555556,\"#d8576b\"],[0.6666666666666666,\"#ed7953\"],[0.7777777777777778,\"#fb9f3a\"],[0.8888888888888888,\"#fdca26\"],[1.0,\"#f0f921\"]]},\"colorway\":[\"#636efa\",\"#EF553B\",\"#00cc96\",\"#ab63fa\",\"#FFA15A\",\"#19d3f3\",\"#FF6692\",\"#B6E880\",\"#FF97FF\",\"#FECB52\"],\"font\":{\"color\":\"#2a3f5f\"},\"geo\":{\"bgcolor\":\"white\",\"lakecolor\":\"white\",\"landcolor\":\"#E5ECF6\",\"showlakes\":true,\"showland\":true,\"subunitcolor\":\"white\"},\"hoverlabel\":{\"align\":\"left\"},\"hovermode\":\"closest\",\"mapbox\":{\"style\":\"light\"},\"paper_bgcolor\":\"white\",\"plot_bgcolor\":\"#E5ECF6\",\"polar\":{\"angularaxis\":{\"gridcolor\":\"white\",\"linecolor\":\"white\",\"ticks\":\"\"},\"bgcolor\":\"#E5ECF6\",\"radialaxis\":{\"gridcolor\":\"white\",\"linecolor\":\"white\",\"ticks\":\"\"}},\"scene\":{\"xaxis\":{\"backgroundcolor\":\"#E5ECF6\",\"gridcolor\":\"white\",\"gridwidth\":2,\"linecolor\":\"white\",\"showbackground\":true,\"ticks\":\"\",\"zerolinecolor\":\"white\"},\"yaxis\":{\"backgroundcolor\":\"#E5ECF6\",\"gridcolor\":\"white\",\"gridwidth\":2,\"linecolor\":\"white\",\"showbackground\":true,\"ticks\":\"\",\"zerolinecolor\":\"white\"},\"zaxis\":{\"backgroundcolor\":\"#E5ECF6\",\"gridcolor\":\"white\",\"gridwidth\":2,\"linecolor\":\"white\",\"showbackground\":true,\"ticks\":\"\",\"zerolinecolor\":\"white\"}},\"shapedefaults\":{\"line\":{\"color\":\"#2a3f5f\"}},\"ternary\":{\"aaxis\":{\"gridcolor\":\"white\",\"linecolor\":\"white\",\"ticks\":\"\"},\"baxis\":{\"gridcolor\":\"white\",\"linecolor\":\"white\",\"ticks\":\"\"},\"bgcolor\":\"#E5ECF6\",\"caxis\":{\"gridcolor\":\"white\",\"linecolor\":\"white\",\"ticks\":\"\"}},\"title\":{\"x\":0.05},\"xaxis\":{\"automargin\":true,\"gridcolor\":\"white\",\"linecolor\":\"white\",\"ticks\":\"\",\"title\":{\"standoff\":15},\"zerolinecolor\":\"white\",\"zerolinewidth\":2},\"yaxis\":{\"automargin\":true,\"gridcolor\":\"white\",\"linecolor\":\"white\",\"ticks\":\"\",\"title\":{\"standoff\":15},\"zerolinecolor\":\"white\",\"zerolinewidth\":2}}},\"title\":{\"text\":\"GradientBoostingRegressor Feature Importances\"},\"width\":600,\"xaxis\":{\"anchor\":\"y\",\"domain\":[0.0,1.0],\"title\":{\"text\":\"Importance\"}},\"yaxis\":{\"anchor\":\"x\",\"categoryorder\":\"total ascending\",\"domain\":[0.0,1.0],\"title\":{\"text\":\"Feature Name\"}}},                        {\"responsive\": true}                    ).then(function(){\n",
       "                            \n",
       "var gd = document.getElementById('86cd2be0-256d-4f7b-9072-628d1888fa26');\n",
       "var x = new MutationObserver(function (mutations, observer) {{\n",
       "        var display = window.getComputedStyle(gd).display;\n",
       "        if (!display || display === 'none') {{\n",
       "            console.log([gd, 'removed!']);\n",
       "            Plotly.purge(gd);\n",
       "            observer.disconnect();\n",
       "        }}\n",
       "}});\n",
       "\n",
       "// Listen for the removal of the full notebook cells\n",
       "var notebookContainer = gd.closest('#notebook-container');\n",
       "if (notebookContainer) {{\n",
       "    x.observe(notebookContainer, {childList: true});\n",
       "}}\n",
       "\n",
       "// Listen for the clearing of the current output cell\n",
       "var outputEl = gd.closest('.output');\n",
       "if (outputEl) {{\n",
       "    x.observe(outputEl, {childList: true});\n",
       "}}\n",
       "\n",
       "                        })                };                });            </script>        </div>"
      ]
     },
     "metadata": {},
     "output_type": "display_data"
    }
   ],
   "source": [
    "fig = px.bar(df_gb, x=\"Importance\", y=\"Feature Name\")\n",
    "\n",
    "fig.update_layout(\n",
    "    autosize=False,\n",
    "    width=600,\n",
    "    height=300,\n",
    "    title_text=f\"GradientBoostingRegressor Feature Importances\",\n",
    "    yaxis={'categoryorder':'total ascending'}\n",
    ")\n",
    "\n",
    "fig.show()"
   ]
  },
  {
   "cell_type": "code",
   "execution_count": 175,
   "id": "3a90db0d-c276-4331-8774-daf050e712d6",
   "metadata": {},
   "outputs": [
    {
     "data": {
      "text/html": [
       "<div><div id=eb5ccd2a-8333-4397-9bde-1f3e930e33af style=\"display:none; background-color:#9D6CFF; color:white; width:200px; height:30px; padding-left:5px; border-radius:4px; flex-direction:row; justify-content:space-around; align-items:center;\" onmouseover=\"this.style.backgroundColor='#BA9BF8'\" onmouseout=\"this.style.backgroundColor='#9D6CFF'\" onclick=\"window.commands?.execute('create-mitosheet-from-dataframe-output');\">See Full Dataframe in Mito</div> <script> if (window.commands.hasCommand('create-mitosheet-from-dataframe-output')) document.getElementById('eb5ccd2a-8333-4397-9bde-1f3e930e33af').style.display = 'flex' </script> <table border=\"1\" class=\"dataframe\">\n",
       "  <thead>\n",
       "    <tr style=\"text-align: right;\">\n",
       "      <th></th>\n",
       "      <th>Feature Name</th>\n",
       "      <th>Importance</th>\n",
       "    </tr>\n",
       "  </thead>\n",
       "  <tbody>\n",
       "    <tr>\n",
       "      <th>7</th>\n",
       "      <td>Input_Plant annual N2O emissions (lbs)</td>\n",
       "      <td>0.986630</td>\n",
       "    </tr>\n",
       "    <tr>\n",
       "      <th>5</th>\n",
       "      <td>Input_Plant annual CO2 emissions (tons)</td>\n",
       "      <td>0.003546</td>\n",
       "    </tr>\n",
       "    <tr>\n",
       "      <th>6</th>\n",
       "      <td>Input_Plant annual CH4 emissions (lbs)</td>\n",
       "      <td>0.003242</td>\n",
       "    </tr>\n",
       "    <tr>\n",
       "      <th>1</th>\n",
       "      <td>Input_Plant nameplate capacity (MW)</td>\n",
       "      <td>0.002616</td>\n",
       "    </tr>\n",
       "    <tr>\n",
       "      <th>2</th>\n",
       "      <td>Input_Plant total annual heat input (MMBtu)</td>\n",
       "      <td>0.002564</td>\n",
       "    </tr>\n",
       "    <tr>\n",
       "      <th>3</th>\n",
       "      <td>Input_Plant annual NOx emissions (tons)</td>\n",
       "      <td>0.001094</td>\n",
       "    </tr>\n",
       "    <tr>\n",
       "      <th>4</th>\n",
       "      <td>Input_Plant annual SO2 emissions (tons)</td>\n",
       "      <td>0.000282</td>\n",
       "    </tr>\n",
       "    <tr>\n",
       "      <th>0</th>\n",
       "      <td>Input_Number of generators</td>\n",
       "      <td>0.000027</td>\n",
       "    </tr>\n",
       "  </tbody>\n",
       "</table></div>"
      ],
      "text/plain": [
       "                                  Feature Name  Importance\n",
       "7       Input_Plant annual N2O emissions (lbs)    0.986630\n",
       "5      Input_Plant annual CO2 emissions (tons)    0.003546\n",
       "6       Input_Plant annual CH4 emissions (lbs)    0.003242\n",
       "1          Input_Plant nameplate capacity (MW)    0.002616\n",
       "2  Input_Plant total annual heat input (MMBtu)    0.002564\n",
       "3      Input_Plant annual NOx emissions (tons)    0.001094\n",
       "4      Input_Plant annual SO2 emissions (tons)    0.000282\n",
       "0                   Input_Number of generators    0.000027"
      ]
     },
     "execution_count": 175,
     "metadata": {},
     "output_type": "execute_result"
    }
   ],
   "source": [
    "df_gb"
   ]
  },
  {
   "cell_type": "code",
   "execution_count": 131,
   "id": "e3cfcf32-0246-4af9-b8f3-f74fe91292e2",
   "metadata": {},
   "outputs": [],
   "source": [
    "df_zero.index = [\"_\".join(f.split(\"_\")[1:]) for f in df_zero.index]"
   ]
  },
  {
   "cell_type": "code",
   "execution_count": 132,
   "id": "e8f5350e-f390-4ac0-90e3-333d7d6b8228",
   "metadata": {},
   "outputs": [
    {
     "data": {
      "text/plain": [
       "Input_Number of generators                     69.83\n",
       "Input_Plant annual CH4 emissions (lbs)         95.68\n",
       "Input_Plant annual CO2 emissions (tons)        46.29\n",
       "Input_Plant annual N2O emissions (lbs)          2.80\n",
       "Input_Plant annual NOx emissions (tons)        49.39\n",
       "Input_Plant annual SO2 emissions (tons)        61.56\n",
       "Input_Plant nameplate capacity (MW)            64.36\n",
       "Input_Plant total annual heat input (MMBtu)    77.98\n",
       "Output_Plant annual net generation (MWh)        0.06\n",
       "dtype: float64"
      ]
     },
     "execution_count": 132,
     "metadata": {},
     "output_type": "execute_result"
    }
   ],
   "source": [
    "df_zero"
   ]
  },
  {
   "cell_type": "code",
   "execution_count": 133,
   "id": "694488a2-cea6-4397-b1fe-b07e5d9bf908",
   "metadata": {},
   "outputs": [
    {
     "data": {
      "text/html": [
       "<div><div id=b0ecde25-9f2d-4069-b7dd-65d897a4266d style=\"display:none; background-color:#9D6CFF; color:white; width:200px; height:30px; padding-left:5px; border-radius:4px; flex-direction:row; justify-content:space-around; align-items:center;\" onmouseover=\"this.style.backgroundColor='#BA9BF8'\" onmouseout=\"this.style.backgroundColor='#9D6CFF'\" onclick=\"window.commands?.execute('create-mitosheet-from-dataframe-output');\">See Full Dataframe in Mito</div> <script> if (window.commands.hasCommand('create-mitosheet-from-dataframe-output')) document.getElementById('b0ecde25-9f2d-4069-b7dd-65d897a4266d').style.display = 'flex' </script> <table border=\"1\" class=\"dataframe\">\n",
       "  <thead>\n",
       "    <tr style=\"text-align: right;\">\n",
       "      <th></th>\n",
       "      <th>Feature Name</th>\n",
       "      <th>Importance</th>\n",
       "      <th>index</th>\n",
       "      <th>Zero_Count</th>\n",
       "    </tr>\n",
       "  </thead>\n",
       "  <tbody>\n",
       "    <tr>\n",
       "      <th>0</th>\n",
       "      <td>Input_Plant annual N2O emissions (lbs)</td>\n",
       "      <td>0.963975</td>\n",
       "      <td>Input_Plant annual N2O emissions (lbs)</td>\n",
       "      <td>2.80</td>\n",
       "    </tr>\n",
       "    <tr>\n",
       "      <th>1</th>\n",
       "      <td>Input_Plant annual CO2 emissions (tons)</td>\n",
       "      <td>0.012296</td>\n",
       "      <td>Input_Plant annual CO2 emissions (tons)</td>\n",
       "      <td>46.29</td>\n",
       "    </tr>\n",
       "    <tr>\n",
       "      <th>2</th>\n",
       "      <td>Input_Plant annual CH4 emissions (lbs)</td>\n",
       "      <td>0.011072</td>\n",
       "      <td>Input_Plant annual CH4 emissions (lbs)</td>\n",
       "      <td>95.68</td>\n",
       "    </tr>\n",
       "    <tr>\n",
       "      <th>3</th>\n",
       "      <td>Input_Plant total annual heat input (MMBtu)</td>\n",
       "      <td>0.005479</td>\n",
       "      <td>Input_Plant total annual heat input (MMBtu)</td>\n",
       "      <td>77.98</td>\n",
       "    </tr>\n",
       "    <tr>\n",
       "      <th>4</th>\n",
       "      <td>Input_Plant annual SO2 emissions (tons)</td>\n",
       "      <td>0.002935</td>\n",
       "      <td>Input_Plant annual SO2 emissions (tons)</td>\n",
       "      <td>61.56</td>\n",
       "    </tr>\n",
       "    <tr>\n",
       "      <th>5</th>\n",
       "      <td>Input_Plant nameplate capacity (MW)</td>\n",
       "      <td>0.002040</td>\n",
       "      <td>Input_Plant nameplate capacity (MW)</td>\n",
       "      <td>64.36</td>\n",
       "    </tr>\n",
       "    <tr>\n",
       "      <th>6</th>\n",
       "      <td>Input_Plant annual NOx emissions (tons)</td>\n",
       "      <td>0.002036</td>\n",
       "      <td>Input_Plant annual NOx emissions (tons)</td>\n",
       "      <td>49.39</td>\n",
       "    </tr>\n",
       "    <tr>\n",
       "      <th>7</th>\n",
       "      <td>Input_Number of generators</td>\n",
       "      <td>0.000168</td>\n",
       "      <td>Input_Number of generators</td>\n",
       "      <td>69.83</td>\n",
       "    </tr>\n",
       "  </tbody>\n",
       "</table></div>"
      ],
      "text/plain": [
       "                                  Feature Name  Importance  \\\n",
       "0       Input_Plant annual N2O emissions (lbs)    0.963975   \n",
       "1      Input_Plant annual CO2 emissions (tons)    0.012296   \n",
       "2       Input_Plant annual CH4 emissions (lbs)    0.011072   \n",
       "3  Input_Plant total annual heat input (MMBtu)    0.005479   \n",
       "4      Input_Plant annual SO2 emissions (tons)    0.002935   \n",
       "5          Input_Plant nameplate capacity (MW)    0.002040   \n",
       "6      Input_Plant annual NOx emissions (tons)    0.002036   \n",
       "7                   Input_Number of generators    0.000168   \n",
       "\n",
       "                                         index  Zero_Count  \n",
       "0       Input_Plant annual N2O emissions (lbs)        2.80  \n",
       "1      Input_Plant annual CO2 emissions (tons)       46.29  \n",
       "2       Input_Plant annual CH4 emissions (lbs)       95.68  \n",
       "3  Input_Plant total annual heat input (MMBtu)       77.98  \n",
       "4      Input_Plant annual SO2 emissions (tons)       61.56  \n",
       "5          Input_Plant nameplate capacity (MW)       64.36  \n",
       "6      Input_Plant annual NOx emissions (tons)       49.39  \n",
       "7                   Input_Number of generators       69.83  "
      ]
     },
     "execution_count": 133,
     "metadata": {},
     "output_type": "execute_result"
    }
   ],
   "source": [
    "df_merged = pd.merge(df_gb, df_zero.reset_index(), left_on=\"Feature Name\", right_on=\"index\")\n",
    "df_merged.rename(columns = {0: \"Zero_Count\"}, inplace=True)\n",
    "df_merged"
   ]
  },
  {
   "cell_type": "code",
   "execution_count": 134,
   "id": "21761176-39d5-4a59-884f-b79db8c4236f",
   "metadata": {},
   "outputs": [
    {
     "data": {
      "application/vnd.plotly.v1+json": {
       "config": {
        "plotlyServerURL": "https://plot.ly"
       },
       "data": [
        {
         "customdata": [
          [
           "Input_Plant annual N2O emissions (lbs)"
          ],
          [
           "Input_Plant annual CO2 emissions (tons)"
          ],
          [
           "Input_Plant annual CH4 emissions (lbs)"
          ],
          [
           "Input_Plant total annual heat input (MMBtu)"
          ],
          [
           "Input_Plant annual SO2 emissions (tons)"
          ],
          [
           "Input_Plant nameplate capacity (MW)"
          ],
          [
           "Input_Plant annual NOx emissions (tons)"
          ],
          [
           "Input_Number of generators"
          ]
         ],
         "hovertemplate": "Zero_Count=%{x}<br>Importance=%{y}<br>Feature Name=%{customdata[0]}<extra></extra>",
         "legendgroup": "",
         "marker": {
          "color": "#636efa",
          "symbol": "circle"
         },
         "mode": "markers",
         "name": "",
         "orientation": "v",
         "showlegend": false,
         "type": "scatter",
         "x": [
          2.8,
          46.29,
          95.68,
          77.98,
          61.56,
          64.36,
          49.39,
          69.83
         ],
         "xaxis": "x",
         "y": [
          0.9639753176110396,
          0.012295756180282818,
          0.011071634249288321,
          0.005479248485471176,
          0.002934548483355002,
          0.0020401556780457555,
          0.0020357162536607694,
          0.0001676230588563977
         ],
         "yaxis": "y"
        }
       ],
       "layout": {
        "autosize": false,
        "height": 500,
        "legend": {
         "tracegroupgap": 0
        },
        "margin": {
         "t": 60
        },
        "template": {
         "data": {
          "bar": [
           {
            "error_x": {
             "color": "#2a3f5f"
            },
            "error_y": {
             "color": "#2a3f5f"
            },
            "marker": {
             "line": {
              "color": "#E5ECF6",
              "width": 0.5
             },
             "pattern": {
              "fillmode": "overlay",
              "size": 10,
              "solidity": 0.2
             }
            },
            "type": "bar"
           }
          ],
          "barpolar": [
           {
            "marker": {
             "line": {
              "color": "#E5ECF6",
              "width": 0.5
             },
             "pattern": {
              "fillmode": "overlay",
              "size": 10,
              "solidity": 0.2
             }
            },
            "type": "barpolar"
           }
          ],
          "carpet": [
           {
            "aaxis": {
             "endlinecolor": "#2a3f5f",
             "gridcolor": "white",
             "linecolor": "white",
             "minorgridcolor": "white",
             "startlinecolor": "#2a3f5f"
            },
            "baxis": {
             "endlinecolor": "#2a3f5f",
             "gridcolor": "white",
             "linecolor": "white",
             "minorgridcolor": "white",
             "startlinecolor": "#2a3f5f"
            },
            "type": "carpet"
           }
          ],
          "choropleth": [
           {
            "colorbar": {
             "outlinewidth": 0,
             "ticks": ""
            },
            "type": "choropleth"
           }
          ],
          "contour": [
           {
            "colorbar": {
             "outlinewidth": 0,
             "ticks": ""
            },
            "colorscale": [
             [
              0,
              "#0d0887"
             ],
             [
              0.1111111111111111,
              "#46039f"
             ],
             [
              0.2222222222222222,
              "#7201a8"
             ],
             [
              0.3333333333333333,
              "#9c179e"
             ],
             [
              0.4444444444444444,
              "#bd3786"
             ],
             [
              0.5555555555555556,
              "#d8576b"
             ],
             [
              0.6666666666666666,
              "#ed7953"
             ],
             [
              0.7777777777777778,
              "#fb9f3a"
             ],
             [
              0.8888888888888888,
              "#fdca26"
             ],
             [
              1,
              "#f0f921"
             ]
            ],
            "type": "contour"
           }
          ],
          "contourcarpet": [
           {
            "colorbar": {
             "outlinewidth": 0,
             "ticks": ""
            },
            "type": "contourcarpet"
           }
          ],
          "heatmap": [
           {
            "colorbar": {
             "outlinewidth": 0,
             "ticks": ""
            },
            "colorscale": [
             [
              0,
              "#0d0887"
             ],
             [
              0.1111111111111111,
              "#46039f"
             ],
             [
              0.2222222222222222,
              "#7201a8"
             ],
             [
              0.3333333333333333,
              "#9c179e"
             ],
             [
              0.4444444444444444,
              "#bd3786"
             ],
             [
              0.5555555555555556,
              "#d8576b"
             ],
             [
              0.6666666666666666,
              "#ed7953"
             ],
             [
              0.7777777777777778,
              "#fb9f3a"
             ],
             [
              0.8888888888888888,
              "#fdca26"
             ],
             [
              1,
              "#f0f921"
             ]
            ],
            "type": "heatmap"
           }
          ],
          "heatmapgl": [
           {
            "colorbar": {
             "outlinewidth": 0,
             "ticks": ""
            },
            "colorscale": [
             [
              0,
              "#0d0887"
             ],
             [
              0.1111111111111111,
              "#46039f"
             ],
             [
              0.2222222222222222,
              "#7201a8"
             ],
             [
              0.3333333333333333,
              "#9c179e"
             ],
             [
              0.4444444444444444,
              "#bd3786"
             ],
             [
              0.5555555555555556,
              "#d8576b"
             ],
             [
              0.6666666666666666,
              "#ed7953"
             ],
             [
              0.7777777777777778,
              "#fb9f3a"
             ],
             [
              0.8888888888888888,
              "#fdca26"
             ],
             [
              1,
              "#f0f921"
             ]
            ],
            "type": "heatmapgl"
           }
          ],
          "histogram": [
           {
            "marker": {
             "pattern": {
              "fillmode": "overlay",
              "size": 10,
              "solidity": 0.2
             }
            },
            "type": "histogram"
           }
          ],
          "histogram2d": [
           {
            "colorbar": {
             "outlinewidth": 0,
             "ticks": ""
            },
            "colorscale": [
             [
              0,
              "#0d0887"
             ],
             [
              0.1111111111111111,
              "#46039f"
             ],
             [
              0.2222222222222222,
              "#7201a8"
             ],
             [
              0.3333333333333333,
              "#9c179e"
             ],
             [
              0.4444444444444444,
              "#bd3786"
             ],
             [
              0.5555555555555556,
              "#d8576b"
             ],
             [
              0.6666666666666666,
              "#ed7953"
             ],
             [
              0.7777777777777778,
              "#fb9f3a"
             ],
             [
              0.8888888888888888,
              "#fdca26"
             ],
             [
              1,
              "#f0f921"
             ]
            ],
            "type": "histogram2d"
           }
          ],
          "histogram2dcontour": [
           {
            "colorbar": {
             "outlinewidth": 0,
             "ticks": ""
            },
            "colorscale": [
             [
              0,
              "#0d0887"
             ],
             [
              0.1111111111111111,
              "#46039f"
             ],
             [
              0.2222222222222222,
              "#7201a8"
             ],
             [
              0.3333333333333333,
              "#9c179e"
             ],
             [
              0.4444444444444444,
              "#bd3786"
             ],
             [
              0.5555555555555556,
              "#d8576b"
             ],
             [
              0.6666666666666666,
              "#ed7953"
             ],
             [
              0.7777777777777778,
              "#fb9f3a"
             ],
             [
              0.8888888888888888,
              "#fdca26"
             ],
             [
              1,
              "#f0f921"
             ]
            ],
            "type": "histogram2dcontour"
           }
          ],
          "mesh3d": [
           {
            "colorbar": {
             "outlinewidth": 0,
             "ticks": ""
            },
            "type": "mesh3d"
           }
          ],
          "parcoords": [
           {
            "line": {
             "colorbar": {
              "outlinewidth": 0,
              "ticks": ""
             }
            },
            "type": "parcoords"
           }
          ],
          "pie": [
           {
            "automargin": true,
            "type": "pie"
           }
          ],
          "scatter": [
           {
            "marker": {
             "colorbar": {
              "outlinewidth": 0,
              "ticks": ""
             }
            },
            "type": "scatter"
           }
          ],
          "scatter3d": [
           {
            "line": {
             "colorbar": {
              "outlinewidth": 0,
              "ticks": ""
             }
            },
            "marker": {
             "colorbar": {
              "outlinewidth": 0,
              "ticks": ""
             }
            },
            "type": "scatter3d"
           }
          ],
          "scattercarpet": [
           {
            "marker": {
             "colorbar": {
              "outlinewidth": 0,
              "ticks": ""
             }
            },
            "type": "scattercarpet"
           }
          ],
          "scattergeo": [
           {
            "marker": {
             "colorbar": {
              "outlinewidth": 0,
              "ticks": ""
             }
            },
            "type": "scattergeo"
           }
          ],
          "scattergl": [
           {
            "marker": {
             "colorbar": {
              "outlinewidth": 0,
              "ticks": ""
             }
            },
            "type": "scattergl"
           }
          ],
          "scattermapbox": [
           {
            "marker": {
             "colorbar": {
              "outlinewidth": 0,
              "ticks": ""
             }
            },
            "type": "scattermapbox"
           }
          ],
          "scatterpolar": [
           {
            "marker": {
             "colorbar": {
              "outlinewidth": 0,
              "ticks": ""
             }
            },
            "type": "scatterpolar"
           }
          ],
          "scatterpolargl": [
           {
            "marker": {
             "colorbar": {
              "outlinewidth": 0,
              "ticks": ""
             }
            },
            "type": "scatterpolargl"
           }
          ],
          "scatterternary": [
           {
            "marker": {
             "colorbar": {
              "outlinewidth": 0,
              "ticks": ""
             }
            },
            "type": "scatterternary"
           }
          ],
          "surface": [
           {
            "colorbar": {
             "outlinewidth": 0,
             "ticks": ""
            },
            "colorscale": [
             [
              0,
              "#0d0887"
             ],
             [
              0.1111111111111111,
              "#46039f"
             ],
             [
              0.2222222222222222,
              "#7201a8"
             ],
             [
              0.3333333333333333,
              "#9c179e"
             ],
             [
              0.4444444444444444,
              "#bd3786"
             ],
             [
              0.5555555555555556,
              "#d8576b"
             ],
             [
              0.6666666666666666,
              "#ed7953"
             ],
             [
              0.7777777777777778,
              "#fb9f3a"
             ],
             [
              0.8888888888888888,
              "#fdca26"
             ],
             [
              1,
              "#f0f921"
             ]
            ],
            "type": "surface"
           }
          ],
          "table": [
           {
            "cells": {
             "fill": {
              "color": "#EBF0F8"
             },
             "line": {
              "color": "white"
             }
            },
            "header": {
             "fill": {
              "color": "#C8D4E3"
             },
             "line": {
              "color": "white"
             }
            },
            "type": "table"
           }
          ]
         },
         "layout": {
          "annotationdefaults": {
           "arrowcolor": "#2a3f5f",
           "arrowhead": 0,
           "arrowwidth": 1
          },
          "autotypenumbers": "strict",
          "coloraxis": {
           "colorbar": {
            "outlinewidth": 0,
            "ticks": ""
           }
          },
          "colorscale": {
           "diverging": [
            [
             0,
             "#8e0152"
            ],
            [
             0.1,
             "#c51b7d"
            ],
            [
             0.2,
             "#de77ae"
            ],
            [
             0.3,
             "#f1b6da"
            ],
            [
             0.4,
             "#fde0ef"
            ],
            [
             0.5,
             "#f7f7f7"
            ],
            [
             0.6,
             "#e6f5d0"
            ],
            [
             0.7,
             "#b8e186"
            ],
            [
             0.8,
             "#7fbc41"
            ],
            [
             0.9,
             "#4d9221"
            ],
            [
             1,
             "#276419"
            ]
           ],
           "sequential": [
            [
             0,
             "#0d0887"
            ],
            [
             0.1111111111111111,
             "#46039f"
            ],
            [
             0.2222222222222222,
             "#7201a8"
            ],
            [
             0.3333333333333333,
             "#9c179e"
            ],
            [
             0.4444444444444444,
             "#bd3786"
            ],
            [
             0.5555555555555556,
             "#d8576b"
            ],
            [
             0.6666666666666666,
             "#ed7953"
            ],
            [
             0.7777777777777778,
             "#fb9f3a"
            ],
            [
             0.8888888888888888,
             "#fdca26"
            ],
            [
             1,
             "#f0f921"
            ]
           ],
           "sequentialminus": [
            [
             0,
             "#0d0887"
            ],
            [
             0.1111111111111111,
             "#46039f"
            ],
            [
             0.2222222222222222,
             "#7201a8"
            ],
            [
             0.3333333333333333,
             "#9c179e"
            ],
            [
             0.4444444444444444,
             "#bd3786"
            ],
            [
             0.5555555555555556,
             "#d8576b"
            ],
            [
             0.6666666666666666,
             "#ed7953"
            ],
            [
             0.7777777777777778,
             "#fb9f3a"
            ],
            [
             0.8888888888888888,
             "#fdca26"
            ],
            [
             1,
             "#f0f921"
            ]
           ]
          },
          "colorway": [
           "#636efa",
           "#EF553B",
           "#00cc96",
           "#ab63fa",
           "#FFA15A",
           "#19d3f3",
           "#FF6692",
           "#B6E880",
           "#FF97FF",
           "#FECB52"
          ],
          "font": {
           "color": "#2a3f5f"
          },
          "geo": {
           "bgcolor": "white",
           "lakecolor": "white",
           "landcolor": "#E5ECF6",
           "showlakes": true,
           "showland": true,
           "subunitcolor": "white"
          },
          "hoverlabel": {
           "align": "left"
          },
          "hovermode": "closest",
          "mapbox": {
           "style": "light"
          },
          "paper_bgcolor": "white",
          "plot_bgcolor": "#E5ECF6",
          "polar": {
           "angularaxis": {
            "gridcolor": "white",
            "linecolor": "white",
            "ticks": ""
           },
           "bgcolor": "#E5ECF6",
           "radialaxis": {
            "gridcolor": "white",
            "linecolor": "white",
            "ticks": ""
           }
          },
          "scene": {
           "xaxis": {
            "backgroundcolor": "#E5ECF6",
            "gridcolor": "white",
            "gridwidth": 2,
            "linecolor": "white",
            "showbackground": true,
            "ticks": "",
            "zerolinecolor": "white"
           },
           "yaxis": {
            "backgroundcolor": "#E5ECF6",
            "gridcolor": "white",
            "gridwidth": 2,
            "linecolor": "white",
            "showbackground": true,
            "ticks": "",
            "zerolinecolor": "white"
           },
           "zaxis": {
            "backgroundcolor": "#E5ECF6",
            "gridcolor": "white",
            "gridwidth": 2,
            "linecolor": "white",
            "showbackground": true,
            "ticks": "",
            "zerolinecolor": "white"
           }
          },
          "shapedefaults": {
           "line": {
            "color": "#2a3f5f"
           }
          },
          "ternary": {
           "aaxis": {
            "gridcolor": "white",
            "linecolor": "white",
            "ticks": ""
           },
           "baxis": {
            "gridcolor": "white",
            "linecolor": "white",
            "ticks": ""
           },
           "bgcolor": "#E5ECF6",
           "caxis": {
            "gridcolor": "white",
            "linecolor": "white",
            "ticks": ""
           }
          },
          "title": {
           "x": 0.05
          },
          "xaxis": {
           "automargin": true,
           "gridcolor": "white",
           "linecolor": "white",
           "ticks": "",
           "title": {
            "standoff": 15
           },
           "zerolinecolor": "white",
           "zerolinewidth": 2
          },
          "yaxis": {
           "automargin": true,
           "gridcolor": "white",
           "linecolor": "white",
           "ticks": "",
           "title": {
            "standoff": 15
           },
           "zerolinecolor": "white",
           "zerolinewidth": 2
          }
         }
        },
        "title": {
         "text": "GradientBoostingRegressor Feature Importance - Zero_Count Relationship"
        },
        "width": 800,
        "xaxis": {
         "anchor": "y",
         "autorange": true,
         "domain": [
          0,
          1
         ],
         "range": [
          -3.040738786279684,
          101.5207387862797
         ],
         "title": {
          "text": "Zero_Count"
         },
         "type": "linear"
        },
        "yaxis": {
         "anchor": "x",
         "autorange": true,
         "domain": [
          0,
          1
         ],
         "range": [
          -0.06606560713548794,
          1.030208547805384
         ],
         "title": {
          "text": "Importance"
         },
         "type": "linear"
        }
       }
      },
      "image/png": "[encoded data removed]",
      "text/html": [
       "<div>                            <div id=\"9d81be82-900b-4abb-aef5-216950d23fb8\" class=\"plotly-graph-div\" style=\"height:500px; width:800px;\"></div>            <script type=\"text/javascript\">                require([\"plotly\"], function(Plotly) {                    window.PLOTLYENV=window.PLOTLYENV || {};                                    if (document.getElementById(\"9d81be82-900b-4abb-aef5-216950d23fb8\")) {                    Plotly.newPlot(                        \"9d81be82-900b-4abb-aef5-216950d23fb8\",                        [{\"customdata\":[[\"Input_Plant annual N2O emissions (lbs)\"],[\"Input_Plant annual CO2 emissions (tons)\"],[\"Input_Plant annual CH4 emissions (lbs)\"],[\"Input_Plant total annual heat input (MMBtu)\"],[\"Input_Plant annual SO2 emissions (tons)\"],[\"Input_Plant nameplate capacity (MW)\"],[\"Input_Plant annual NOx emissions (tons)\"],[\"Input_Number of generators\"]],\"hovertemplate\":\"Zero_Count=%{x}<br>Importance=%{y}<br>Feature Name=%{customdata[0]}<extra></extra>\",\"legendgroup\":\"\",\"marker\":{\"color\":\"#636efa\",\"symbol\":\"circle\"},\"mode\":\"markers\",\"name\":\"\",\"orientation\":\"v\",\"showlegend\":false,\"type\":\"scatter\",\"x\":[2.8,46.29,95.68,77.98,61.56,64.36,49.39,69.83],\"xaxis\":\"x\",\"y\":[0.9639753176110396,0.012295756180282818,0.011071634249288321,0.005479248485471176,0.002934548483355002,0.0020401556780457555,0.0020357162536607694,0.0001676230588563977],\"yaxis\":\"y\"}],                        {\"autosize\":false,\"height\":500,\"legend\":{\"tracegroupgap\":0},\"margin\":{\"t\":60},\"template\":{\"data\":{\"bar\":[{\"error_x\":{\"color\":\"#2a3f5f\"},\"error_y\":{\"color\":\"#2a3f5f\"},\"marker\":{\"line\":{\"color\":\"#E5ECF6\",\"width\":0.5},\"pattern\":{\"fillmode\":\"overlay\",\"size\":10,\"solidity\":0.2}},\"type\":\"bar\"}],\"barpolar\":[{\"marker\":{\"line\":{\"color\":\"#E5ECF6\",\"width\":0.5},\"pattern\":{\"fillmode\":\"overlay\",\"size\":10,\"solidity\":0.2}},\"type\":\"barpolar\"}],\"carpet\":[{\"aaxis\":{\"endlinecolor\":\"#2a3f5f\",\"gridcolor\":\"white\",\"linecolor\":\"white\",\"minorgridcolor\":\"white\",\"startlinecolor\":\"#2a3f5f\"},\"baxis\":{\"endlinecolor\":\"#2a3f5f\",\"gridcolor\":\"white\",\"linecolor\":\"white\",\"minorgridcolor\":\"white\",\"startlinecolor\":\"#2a3f5f\"},\"type\":\"carpet\"}],\"choropleth\":[{\"colorbar\":{\"outlinewidth\":0,\"ticks\":\"\"},\"type\":\"choropleth\"}],\"contour\":[{\"colorbar\":{\"outlinewidth\":0,\"ticks\":\"\"},\"colorscale\":[[0.0,\"#0d0887\"],[0.1111111111111111,\"#46039f\"],[0.2222222222222222,\"#7201a8\"],[0.3333333333333333,\"#9c179e\"],[0.4444444444444444,\"#bd3786\"],[0.5555555555555556,\"#d8576b\"],[0.6666666666666666,\"#ed7953\"],[0.7777777777777778,\"#fb9f3a\"],[0.8888888888888888,\"#fdca26\"],[1.0,\"#f0f921\"]],\"type\":\"contour\"}],\"contourcarpet\":[{\"colorbar\":{\"outlinewidth\":0,\"ticks\":\"\"},\"type\":\"contourcarpet\"}],\"heatmap\":[{\"colorbar\":{\"outlinewidth\":0,\"ticks\":\"\"},\"colorscale\":[[0.0,\"#0d0887\"],[0.1111111111111111,\"#46039f\"],[0.2222222222222222,\"#7201a8\"],[0.3333333333333333,\"#9c179e\"],[0.4444444444444444,\"#bd3786\"],[0.5555555555555556,\"#d8576b\"],[0.6666666666666666,\"#ed7953\"],[0.7777777777777778,\"#fb9f3a\"],[0.8888888888888888,\"#fdca26\"],[1.0,\"#f0f921\"]],\"type\":\"heatmap\"}],\"heatmapgl\":[{\"colorbar\":{\"outlinewidth\":0,\"ticks\":\"\"},\"colorscale\":[[0.0,\"#0d0887\"],[0.1111111111111111,\"#46039f\"],[0.2222222222222222,\"#7201a8\"],[0.3333333333333333,\"#9c179e\"],[0.4444444444444444,\"#bd3786\"],[0.5555555555555556,\"#d8576b\"],[0.6666666666666666,\"#ed7953\"],[0.7777777777777778,\"#fb9f3a\"],[0.8888888888888888,\"#fdca26\"],[1.0,\"#f0f921\"]],\"type\":\"heatmapgl\"}],\"histogram\":[{\"marker\":{\"pattern\":{\"fillmode\":\"overlay\",\"size\":10,\"solidity\":0.2}},\"type\":\"histogram\"}],\"histogram2d\":[{\"colorbar\":{\"outlinewidth\":0,\"ticks\":\"\"},\"colorscale\":[[0.0,\"#0d0887\"],[0.1111111111111111,\"#46039f\"],[0.2222222222222222,\"#7201a8\"],[0.3333333333333333,\"#9c179e\"],[0.4444444444444444,\"#bd3786\"],[0.5555555555555556,\"#d8576b\"],[0.6666666666666666,\"#ed7953\"],[0.7777777777777778,\"#fb9f3a\"],[0.8888888888888888,\"#fdca26\"],[1.0,\"#f0f921\"]],\"type\":\"histogram2d\"}],\"histogram2dcontour\":[{\"colorbar\":{\"outlinewidth\":0,\"ticks\":\"\"},\"colorscale\":[[0.0,\"#0d0887\"],[0.1111111111111111,\"#46039f\"],[0.2222222222222222,\"#7201a8\"],[0.3333333333333333,\"#9c179e\"],[0.4444444444444444,\"#bd3786\"],[0.5555555555555556,\"#d8576b\"],[0.6666666666666666,\"#ed7953\"],[0.7777777777777778,\"#fb9f3a\"],[0.8888888888888888,\"#fdca26\"],[1.0,\"#f0f921\"]],\"type\":\"histogram2dcontour\"}],\"mesh3d\":[{\"colorbar\":{\"outlinewidth\":0,\"ticks\":\"\"},\"type\":\"mesh3d\"}],\"parcoords\":[{\"line\":{\"colorbar\":{\"outlinewidth\":0,\"ticks\":\"\"}},\"type\":\"parcoords\"}],\"pie\":[{\"automargin\":true,\"type\":\"pie\"}],\"scatter\":[{\"marker\":{\"colorbar\":{\"outlinewidth\":0,\"ticks\":\"\"}},\"type\":\"scatter\"}],\"scatter3d\":[{\"line\":{\"colorbar\":{\"outlinewidth\":0,\"ticks\":\"\"}},\"marker\":{\"colorbar\":{\"outlinewidth\":0,\"ticks\":\"\"}},\"type\":\"scatter3d\"}],\"scattercarpet\":[{\"marker\":{\"colorbar\":{\"outlinewidth\":0,\"ticks\":\"\"}},\"type\":\"scattercarpet\"}],\"scattergeo\":[{\"marker\":{\"colorbar\":{\"outlinewidth\":0,\"ticks\":\"\"}},\"type\":\"scattergeo\"}],\"scattergl\":[{\"marker\":{\"colorbar\":{\"outlinewidth\":0,\"ticks\":\"\"}},\"type\":\"scattergl\"}],\"scattermapbox\":[{\"marker\":{\"colorbar\":{\"outlinewidth\":0,\"ticks\":\"\"}},\"type\":\"scattermapbox\"}],\"scatterpolar\":[{\"marker\":{\"colorbar\":{\"outlinewidth\":0,\"ticks\":\"\"}},\"type\":\"scatterpolar\"}],\"scatterpolargl\":[{\"marker\":{\"colorbar\":{\"outlinewidth\":0,\"ticks\":\"\"}},\"type\":\"scatterpolargl\"}],\"scatterternary\":[{\"marker\":{\"colorbar\":{\"outlinewidth\":0,\"ticks\":\"\"}},\"type\":\"scatterternary\"}],\"surface\":[{\"colorbar\":{\"outlinewidth\":0,\"ticks\":\"\"},\"colorscale\":[[0.0,\"#0d0887\"],[0.1111111111111111,\"#46039f\"],[0.2222222222222222,\"#7201a8\"],[0.3333333333333333,\"#9c179e\"],[0.4444444444444444,\"#bd3786\"],[0.5555555555555556,\"#d8576b\"],[0.6666666666666666,\"#ed7953\"],[0.7777777777777778,\"#fb9f3a\"],[0.8888888888888888,\"#fdca26\"],[1.0,\"#f0f921\"]],\"type\":\"surface\"}],\"table\":[{\"cells\":{\"fill\":{\"color\":\"#EBF0F8\"},\"line\":{\"color\":\"white\"}},\"header\":{\"fill\":{\"color\":\"#C8D4E3\"},\"line\":{\"color\":\"white\"}},\"type\":\"table\"}]},\"layout\":{\"annotationdefaults\":{\"arrowcolor\":\"#2a3f5f\",\"arrowhead\":0,\"arrowwidth\":1},\"autotypenumbers\":\"strict\",\"coloraxis\":{\"colorbar\":{\"outlinewidth\":0,\"ticks\":\"\"}},\"colorscale\":{\"diverging\":[[0,\"#8e0152\"],[0.1,\"#c51b7d\"],[0.2,\"#de77ae\"],[0.3,\"#f1b6da\"],[0.4,\"#fde0ef\"],[0.5,\"#f7f7f7\"],[0.6,\"#e6f5d0\"],[0.7,\"#b8e186\"],[0.8,\"#7fbc41\"],[0.9,\"#4d9221\"],[1,\"#276419\"]],\"sequential\":[[0.0,\"#0d0887\"],[0.1111111111111111,\"#46039f\"],[0.2222222222222222,\"#7201a8\"],[0.3333333333333333,\"#9c179e\"],[0.4444444444444444,\"#bd3786\"],[0.5555555555555556,\"#d8576b\"],[0.6666666666666666,\"#ed7953\"],[0.7777777777777778,\"#fb9f3a\"],[0.8888888888888888,\"#fdca26\"],[1.0,\"#f0f921\"]],\"sequentialminus\":[[0.0,\"#0d0887\"],[0.1111111111111111,\"#46039f\"],[0.2222222222222222,\"#7201a8\"],[0.3333333333333333,\"#9c179e\"],[0.4444444444444444,\"#bd3786\"],[0.5555555555555556,\"#d8576b\"],[0.6666666666666666,\"#ed7953\"],[0.7777777777777778,\"#fb9f3a\"],[0.8888888888888888,\"#fdca26\"],[1.0,\"#f0f921\"]]},\"colorway\":[\"#636efa\",\"#EF553B\",\"#00cc96\",\"#ab63fa\",\"#FFA15A\",\"#19d3f3\",\"#FF6692\",\"#B6E880\",\"#FF97FF\",\"#FECB52\"],\"font\":{\"color\":\"#2a3f5f\"},\"geo\":{\"bgcolor\":\"white\",\"lakecolor\":\"white\",\"landcolor\":\"#E5ECF6\",\"showlakes\":true,\"showland\":true,\"subunitcolor\":\"white\"},\"hoverlabel\":{\"align\":\"left\"},\"hovermode\":\"closest\",\"mapbox\":{\"style\":\"light\"},\"paper_bgcolor\":\"white\",\"plot_bgcolor\":\"#E5ECF6\",\"polar\":{\"angularaxis\":{\"gridcolor\":\"white\",\"linecolor\":\"white\",\"ticks\":\"\"},\"bgcolor\":\"#E5ECF6\",\"radialaxis\":{\"gridcolor\":\"white\",\"linecolor\":\"white\",\"ticks\":\"\"}},\"scene\":{\"xaxis\":{\"backgroundcolor\":\"#E5ECF6\",\"gridcolor\":\"white\",\"gridwidth\":2,\"linecolor\":\"white\",\"showbackground\":true,\"ticks\":\"\",\"zerolinecolor\":\"white\"},\"yaxis\":{\"backgroundcolor\":\"#E5ECF6\",\"gridcolor\":\"white\",\"gridwidth\":2,\"linecolor\":\"white\",\"showbackground\":true,\"ticks\":\"\",\"zerolinecolor\":\"white\"},\"zaxis\":{\"backgroundcolor\":\"#E5ECF6\",\"gridcolor\":\"white\",\"gridwidth\":2,\"linecolor\":\"white\",\"showbackground\":true,\"ticks\":\"\",\"zerolinecolor\":\"white\"}},\"shapedefaults\":{\"line\":{\"color\":\"#2a3f5f\"}},\"ternary\":{\"aaxis\":{\"gridcolor\":\"white\",\"linecolor\":\"white\",\"ticks\":\"\"},\"baxis\":{\"gridcolor\":\"white\",\"linecolor\":\"white\",\"ticks\":\"\"},\"bgcolor\":\"#E5ECF6\",\"caxis\":{\"gridcolor\":\"white\",\"linecolor\":\"white\",\"ticks\":\"\"}},\"title\":{\"x\":0.05},\"xaxis\":{\"automargin\":true,\"gridcolor\":\"white\",\"linecolor\":\"white\",\"ticks\":\"\",\"title\":{\"standoff\":15},\"zerolinecolor\":\"white\",\"zerolinewidth\":2},\"yaxis\":{\"automargin\":true,\"gridcolor\":\"white\",\"linecolor\":\"white\",\"ticks\":\"\",\"title\":{\"standoff\":15},\"zerolinecolor\":\"white\",\"zerolinewidth\":2}}},\"title\":{\"text\":\"GradientBoostingRegressor Feature Importance - Zero_Count Relationship\"},\"width\":800,\"xaxis\":{\"anchor\":\"y\",\"domain\":[0.0,1.0],\"title\":{\"text\":\"Zero_Count\"}},\"yaxis\":{\"anchor\":\"x\",\"domain\":[0.0,1.0],\"title\":{\"text\":\"Importance\"}}},                        {\"responsive\": true}                    ).then(function(){\n",
       "                            \n",
       "var gd = document.getElementById('9d81be82-900b-4abb-aef5-216950d23fb8');\n",
       "var x = new MutationObserver(function (mutations, observer) {{\n",
       "        var display = window.getComputedStyle(gd).display;\n",
       "        if (!display || display === 'none') {{\n",
       "            console.log([gd, 'removed!']);\n",
       "            Plotly.purge(gd);\n",
       "            observer.disconnect();\n",
       "        }}\n",
       "}});\n",
       "\n",
       "// Listen for the removal of the full notebook cells\n",
       "var notebookContainer = gd.closest('#notebook-container');\n",
       "if (notebookContainer) {{\n",
       "    x.observe(notebookContainer, {childList: true});\n",
       "}}\n",
       "\n",
       "// Listen for the clearing of the current output cell\n",
       "var outputEl = gd.closest('.output');\n",
       "if (outputEl) {{\n",
       "    x.observe(outputEl, {childList: true});\n",
       "}}\n",
       "\n",
       "                        })                };                });            </script>        </div>"
      ]
     },
     "metadata": {},
     "output_type": "display_data"
    }
   ],
   "source": [
    "fig = px.scatter(df_merged[~df_merged[\"Feature Name\"].str.contains(\"Output\")], x=\"Zero_Count\", y=\"Importance\",\n",
    "                hover_data=[\"Feature Name\"])\n",
    "\n",
    "fig.update_layout(\n",
    "    autosize=False,\n",
    "    width=800,\n",
    "    height=500,\n",
    "    title_text=f\"GradientBoostingRegressor Feature Importance - Zero_Count Relationship\",\n",
    ")\n",
    "\n",
    "fig.show()"
   ]
  },
  {
   "cell_type": "code",
   "execution_count": 37,
   "id": "8659da73-6b03-410b-a2f4-e8ed9e49662f",
   "metadata": {},
   "outputs": [
    {
     "data": {
      "image/png": "[encoded data removed]",
      "text/plain": [
       "<Figure size 1296x864 with 1 Axes>"
      ]
     },
     "metadata": {
      "needs_background": "light"
     },
     "output_type": "display_data"
    }
   ],
   "source": [
    "plt.figure(figsize=(18,12))\n",
    "sns.heatmap(df_weights.eq(0).transpose(),\n",
    "        cmap=\"YlGnBu\",\n",
    "        cbar=False,\n",
    "        cbar_kws={'label': 'Zero Values'});"
   ]
  },
  {
   "cell_type": "code",
   "execution_count": 179,
   "id": "935e1c37-b012-4a4d-8a6b-99347f1fcb1f",
   "metadata": {},
   "outputs": [
    {
     "data": {
      "text/plain": [
       "[(0,\n",
       "  'gradientboostingregressor',\n",
       "  ['Input_Plant annual N2O emissions (lbs)',\n",
       "   'Input_Plant annual CO2 emissions (tons)',\n",
       "   'Input_Plant annual CH4 emissions (lbs)',\n",
       "   'Input_Plant nameplate capacity (MW)',\n",
       "   'Input_Plant total annual heat input (MMBtu)',\n",
       "   'Input_Plant annual NOx emissions (tons)',\n",
       "   'Input_Plant annual SO2 emissions (tons)',\n",
       "   'Input_Number of generators'],\n",
       "  {'r2': 0.9851817702880584,\n",
       "   'neg_root_mean_squared_error': -91.82005010054239})]"
      ]
     },
     "execution_count": 179,
     "metadata": {},
     "output_type": "execute_result"
    }
   ],
   "source": [
    "results "
   ]
  },
  {
   "cell_type": "code",
   "execution_count": 180,
   "id": "bb0ed408-1bf8-4562-99e4-ab532b39960c",
   "metadata": {},
   "outputs": [
    {
     "name": "stdout",
     "output_type": "stream",
     "text": [
      "100.0\n",
      "Solution file saved outputfile\n"
     ]
    }
   ],
   "source": [
    "deasolver(inputfile=\"Data/RealData/eGrid/recent/egrid2020_data_copy_2.xlsx\", folder = \"Data/RealData/eGrid/recent/\", out_suffix1=\"_Sol_1\", input_imp = results[0])"
   ]
  },
  {
   "cell_type": "code",
   "execution_count": 181,
   "id": "0f05d0f8-5a46-4c88-ac98-17af9e2ea21b",
   "metadata": {},
   "outputs": [
    {
     "data": {
      "text/html": [
       "<div><div id=a119054d-3e2e-4ef9-8329-2925a8df3ac5 style=\"display:none; background-color:#9D6CFF; color:white; width:200px; height:30px; padding-left:5px; border-radius:4px; flex-direction:row; justify-content:space-around; align-items:center;\" onmouseover=\"this.style.backgroundColor='#BA9BF8'\" onmouseout=\"this.style.backgroundColor='#9D6CFF'\" onclick=\"window.commands?.execute('create-mitosheet-from-dataframe-output');\">See Full Dataframe in Mito</div> <script> if (window.commands.hasCommand('create-mitosheet-from-dataframe-output')) document.getElementById('a119054d-3e2e-4ef9-8329-2925a8df3ac5').style.display = 'flex' </script> <table border=\"1\" class=\"dataframe\">\n",
       "  <thead>\n",
       "    <tr style=\"text-align: right;\">\n",
       "      <th></th>\n",
       "      <th>Weight_Input_Number of generators</th>\n",
       "      <th>Weight_Input_Plant annual CH4 emissions (lbs)</th>\n",
       "      <th>Weight_Input_Plant annual CO2 emissions (tons)</th>\n",
       "      <th>Weight_Input_Plant annual N2O emissions (lbs)</th>\n",
       "      <th>Weight_Input_Plant annual NOx emissions (tons)</th>\n",
       "      <th>Weight_Input_Plant annual SO2 emissions (tons)</th>\n",
       "      <th>Weight_Input_Plant nameplate capacity (MW)</th>\n",
       "      <th>Weight_Input_Plant total annual heat input (MMBtu)</th>\n",
       "      <th>Weight_Output_Plant annual net generation (MWh)</th>\n",
       "    </tr>\n",
       "  </thead>\n",
       "  <tbody>\n",
       "    <tr>\n",
       "      <th>DMU 0001</th>\n",
       "      <td>0.0</td>\n",
       "      <td>4.884223e-05</td>\n",
       "      <td>0.000049</td>\n",
       "      <td>0.004321</td>\n",
       "      <td>4.884223e-05</td>\n",
       "      <td>0.000000e+00</td>\n",
       "      <td>4.884223e-05</td>\n",
       "      <td>4.884223e-05</td>\n",
       "      <td>0.033883</td>\n",
       "    </tr>\n",
       "    <tr>\n",
       "      <th>DMU 0002</th>\n",
       "      <td>0.0</td>\n",
       "      <td>1.272861e-07</td>\n",
       "      <td>0.003750</td>\n",
       "      <td>0.003750</td>\n",
       "      <td>1.272861e-07</td>\n",
       "      <td>0.000000e+00</td>\n",
       "      <td>1.272861e-07</td>\n",
       "      <td>1.272861e-07</td>\n",
       "      <td>0.008497</td>\n",
       "    </tr>\n",
       "    <tr>\n",
       "      <th>DMU 0003</th>\n",
       "      <td>0.0</td>\n",
       "      <td>3.429496e-05</td>\n",
       "      <td>0.000034</td>\n",
       "      <td>0.003034</td>\n",
       "      <td>3.429496e-05</td>\n",
       "      <td>0.000000e+00</td>\n",
       "      <td>3.429496e-05</td>\n",
       "      <td>3.429496e-05</td>\n",
       "      <td>0.023791</td>\n",
       "    </tr>\n",
       "    <tr>\n",
       "      <th>DMU 0004</th>\n",
       "      <td>0.0</td>\n",
       "      <td>2.153972e-05</td>\n",
       "      <td>0.000022</td>\n",
       "      <td>0.001905</td>\n",
       "      <td>2.153972e-05</td>\n",
       "      <td>0.000000e+00</td>\n",
       "      <td>2.153972e-05</td>\n",
       "      <td>2.153972e-05</td>\n",
       "      <td>0.014943</td>\n",
       "    </tr>\n",
       "    <tr>\n",
       "      <th>DMU 0006</th>\n",
       "      <td>0.0</td>\n",
       "      <td>2.006648e-08</td>\n",
       "      <td>0.000591</td>\n",
       "      <td>0.000591</td>\n",
       "      <td>2.006648e-08</td>\n",
       "      <td>0.000000e+00</td>\n",
       "      <td>2.006648e-08</td>\n",
       "      <td>2.006648e-08</td>\n",
       "      <td>0.001339</td>\n",
       "    </tr>\n",
       "    <tr>\n",
       "      <th>...</th>\n",
       "      <td>...</td>\n",
       "      <td>...</td>\n",
       "      <td>...</td>\n",
       "      <td>...</td>\n",
       "      <td>...</td>\n",
       "      <td>...</td>\n",
       "      <td>...</td>\n",
       "      <td>...</td>\n",
       "      <td>...</td>\n",
       "    </tr>\n",
       "    <tr>\n",
       "      <th>DMU 1729</th>\n",
       "      <td>0.0</td>\n",
       "      <td>1.367822e-06</td>\n",
       "      <td>0.040293</td>\n",
       "      <td>0.040293</td>\n",
       "      <td>1.367822e-06</td>\n",
       "      <td>0.000000e+00</td>\n",
       "      <td>1.367822e-06</td>\n",
       "      <td>1.367822e-06</td>\n",
       "      <td>0.091306</td>\n",
       "    </tr>\n",
       "    <tr>\n",
       "      <th>DMU 1730</th>\n",
       "      <td>0.0</td>\n",
       "      <td>4.295521e-04</td>\n",
       "      <td>0.000430</td>\n",
       "      <td>0.037998</td>\n",
       "      <td>4.295521e-04</td>\n",
       "      <td>0.000000e+00</td>\n",
       "      <td>4.295521e-04</td>\n",
       "      <td>4.295521e-04</td>\n",
       "      <td>0.297994</td>\n",
       "    </tr>\n",
       "    <tr>\n",
       "      <th>DMU 1731</th>\n",
       "      <td>0.0</td>\n",
       "      <td>8.872102e-08</td>\n",
       "      <td>0.002614</td>\n",
       "      <td>0.002614</td>\n",
       "      <td>8.872102e-08</td>\n",
       "      <td>8.872102e-08</td>\n",
       "      <td>8.872102e-08</td>\n",
       "      <td>8.872102e-08</td>\n",
       "      <td>0.005922</td>\n",
       "    </tr>\n",
       "    <tr>\n",
       "      <th>DMU 1732</th>\n",
       "      <td>0.0</td>\n",
       "      <td>4.440066e-04</td>\n",
       "      <td>0.000444</td>\n",
       "      <td>0.039276</td>\n",
       "      <td>4.440066e-04</td>\n",
       "      <td>0.000000e+00</td>\n",
       "      <td>4.440066e-04</td>\n",
       "      <td>4.440066e-04</td>\n",
       "      <td>0.308021</td>\n",
       "    </tr>\n",
       "    <tr>\n",
       "      <th>DMU 1733</th>\n",
       "      <td>0.0</td>\n",
       "      <td>2.197982e-07</td>\n",
       "      <td>0.006475</td>\n",
       "      <td>0.006475</td>\n",
       "      <td>2.197982e-07</td>\n",
       "      <td>0.000000e+00</td>\n",
       "      <td>2.197982e-07</td>\n",
       "      <td>2.197982e-07</td>\n",
       "      <td>0.014672</td>\n",
       "    </tr>\n",
       "  </tbody>\n",
       "</table></div>"
      ],
      "text/plain": [
       "          Weight_Input_Number of generators  \\\n",
       "DMU 0001                                0.0   \n",
       "DMU 0002                                0.0   \n",
       "DMU 0003                                0.0   \n",
       "DMU 0004                                0.0   \n",
       "DMU 0006                                0.0   \n",
       "...                                     ...   \n",
       "DMU 1729                                0.0   \n",
       "DMU 1730                                0.0   \n",
       "DMU 1731                                0.0   \n",
       "DMU 1732                                0.0   \n",
       "DMU 1733                                0.0   \n",
       "\n",
       "          Weight_Input_Plant annual CH4 emissions (lbs)  \\\n",
       "DMU 0001                                   4.884223e-05   \n",
       "DMU 0002                                   1.272861e-07   \n",
       "DMU 0003                                   3.429496e-05   \n",
       "DMU 0004                                   2.153972e-05   \n",
       "DMU 0006                                   2.006648e-08   \n",
       "...                                                 ...   \n",
       "DMU 1729                                   1.367822e-06   \n",
       "DMU 1730                                   4.295521e-04   \n",
       "DMU 1731                                   8.872102e-08   \n",
       "DMU 1732                                   4.440066e-04   \n",
       "DMU 1733                                   2.197982e-07   \n",
       "\n",
       "          Weight_Input_Plant annual CO2 emissions (tons)  \\\n",
       "DMU 0001                                        0.000049   \n",
       "DMU 0002                                        0.003750   \n",
       "DMU 0003                                        0.000034   \n",
       "DMU 0004                                        0.000022   \n",
       "DMU 0006                                        0.000591   \n",
       "...                                                  ...   \n",
       "DMU 1729                                        0.040293   \n",
       "DMU 1730                                        0.000430   \n",
       "DMU 1731                                        0.002614   \n",
       "DMU 1732                                        0.000444   \n",
       "DMU 1733                                        0.006475   \n",
       "\n",
       "          Weight_Input_Plant annual N2O emissions (lbs)  \\\n",
       "DMU 0001                                       0.004321   \n",
       "DMU 0002                                       0.003750   \n",
       "DMU 0003                                       0.003034   \n",
       "DMU 0004                                       0.001905   \n",
       "DMU 0006                                       0.000591   \n",
       "...                                                 ...   \n",
       "DMU 1729                                       0.040293   \n",
       "DMU 1730                                       0.037998   \n",
       "DMU 1731                                       0.002614   \n",
       "DMU 1732                                       0.039276   \n",
       "DMU 1733                                       0.006475   \n",
       "\n",
       "          Weight_Input_Plant annual NOx emissions (tons)  \\\n",
       "DMU 0001                                    4.884223e-05   \n",
       "DMU 0002                                    1.272861e-07   \n",
       "DMU 0003                                    3.429496e-05   \n",
       "DMU 0004                                    2.153972e-05   \n",
       "DMU 0006                                    2.006648e-08   \n",
       "...                                                  ...   \n",
       "DMU 1729                                    1.367822e-06   \n",
       "DMU 1730                                    4.295521e-04   \n",
       "DMU 1731                                    8.872102e-08   \n",
       "DMU 1732                                    4.440066e-04   \n",
       "DMU 1733                                    2.197982e-07   \n",
       "\n",
       "          Weight_Input_Plant annual SO2 emissions (tons)  \\\n",
       "DMU 0001                                    0.000000e+00   \n",
       "DMU 0002                                    0.000000e+00   \n",
       "DMU 0003                                    0.000000e+00   \n",
       "DMU 0004                                    0.000000e+00   \n",
       "DMU 0006                                    0.000000e+00   \n",
       "...                                                  ...   \n",
       "DMU 1729                                    0.000000e+00   \n",
       "DMU 1730                                    0.000000e+00   \n",
       "DMU 1731                                    8.872102e-08   \n",
       "DMU 1732                                    0.000000e+00   \n",
       "DMU 1733                                    0.000000e+00   \n",
       "\n",
       "          Weight_Input_Plant nameplate capacity (MW)  \\\n",
       "DMU 0001                                4.884223e-05   \n",
       "DMU 0002                                1.272861e-07   \n",
       "DMU 0003                                3.429496e-05   \n",
       "DMU 0004                                2.153972e-05   \n",
       "DMU 0006                                2.006648e-08   \n",
       "...                                              ...   \n",
       "DMU 1729                                1.367822e-06   \n",
       "DMU 1730                                4.295521e-04   \n",
       "DMU 1731                                8.872102e-08   \n",
       "DMU 1732                                4.440066e-04   \n",
       "DMU 1733                                2.197982e-07   \n",
       "\n",
       "          Weight_Input_Plant total annual heat input (MMBtu)  \\\n",
       "DMU 0001                                       4.884223e-05    \n",
       "DMU 0002                                       1.272861e-07    \n",
       "DMU 0003                                       3.429496e-05    \n",
       "DMU 0004                                       2.153972e-05    \n",
       "DMU 0006                                       2.006648e-08    \n",
       "...                                                     ...    \n",
       "DMU 1729                                       1.367822e-06    \n",
       "DMU 1730                                       4.295521e-04    \n",
       "DMU 1731                                       8.872102e-08    \n",
       "DMU 1732                                       4.440066e-04    \n",
       "DMU 1733                                       2.197982e-07    \n",
       "\n",
       "          Weight_Output_Plant annual net generation (MWh)  \n",
       "DMU 0001                                         0.033883  \n",
       "DMU 0002                                         0.008497  \n",
       "DMU 0003                                         0.023791  \n",
       "DMU 0004                                         0.014943  \n",
       "DMU 0006                                         0.001339  \n",
       "...                                                   ...  \n",
       "DMU 1729                                         0.091306  \n",
       "DMU 1730                                         0.297994  \n",
       "DMU 1731                                         0.005922  \n",
       "DMU 1732                                         0.308021  \n",
       "DMU 1733                                         0.014672  \n",
       "\n",
       "[1644 rows x 9 columns]"
      ]
     },
     "execution_count": 181,
     "metadata": {},
     "output_type": "execute_result"
    }
   ],
   "source": [
    "df_weights_1 = pd.read_excel(\"Data/RealData/eGrid/recent/egrid2020_data_copy_2_Sol_1.xlsx\", index_col = 0).iloc[:, 1:]\n",
    "df_weights_1"
   ]
  },
  {
   "cell_type": "code",
   "execution_count": 182,
   "id": "16173e50-9cb4-440c-b1e8-30ac48c95e55",
   "metadata": {},
   "outputs": [],
   "source": [
    "df_es = pd.read_excel(\"Data/RealData/eGrid/recent/egrid2020_data_copy_2_Sol.xlsx\", index_col = 0).iloc[:, :1]\n",
    "df_es_1 = pd.read_excel(\"Data/RealData/eGrid/recent/egrid2020_data_copy_2_Sol_1.xlsx\", index_col = 0).iloc[:, :1]"
   ]
  },
  {
   "cell_type": "code",
   "execution_count": 183,
   "id": "4a138562-5671-4535-a241-c08785c38921",
   "metadata": {},
   "outputs": [
    {
     "name": "stdout",
     "output_type": "stream",
     "text": [
      "count of efficient units : 23\n"
     ]
    }
   ],
   "source": [
    "es = (df_es.Efficiency_Scores==1).sum()\n",
    "print(f\"count of efficient units : {es}\")"
   ]
  },
  {
   "cell_type": "code",
   "execution_count": 184,
   "id": "e75ac299-ea2e-4c79-aa44-7445ab658f44",
   "metadata": {},
   "outputs": [
    {
     "name": "stdout",
     "output_type": "stream",
     "text": [
      "count of efficient units : 6\n"
     ]
    }
   ],
   "source": [
    "es_1 = (df_es_1.Efficiency_Scores==1).sum()\n",
    "print(f\"count of efficient units : {es_1}\")"
   ]
  },
  {
   "cell_type": "code",
   "execution_count": 194,
   "id": "b94a7a06-cc54-4308-ae26-eb7f07157e07",
   "metadata": {},
   "outputs": [
    {
     "data": {
      "text/plain": [
       "Weight_Input_Number of generators                     1404\n",
       "Weight_Input_Plant annual CH4 emissions (lbs)         1589\n",
       "Weight_Input_Plant annual CO2 emissions (tons)         822\n",
       "Weight_Input_Plant annual N2O emissions (lbs)           17\n",
       "Weight_Input_Plant annual NOx emissions (tons)         720\n",
       "Weight_Input_Plant annual SO2 emissions (tons)        1040\n",
       "Weight_Input_Plant nameplate capacity (MW)            1209\n",
       "Weight_Input_Plant total annual heat input (MMBtu)    1231\n",
       "Weight_Output_Plant annual net generation (MWh)          0\n",
       "dtype: int64"
      ]
     },
     "execution_count": 194,
     "metadata": {},
     "output_type": "execute_result"
    }
   ],
   "source": [
    "df_zero =(df_weights==0).sum()\n",
    "df_zero"
   ]
  },
  {
   "cell_type": "code",
   "execution_count": 195,
   "id": "7728a6ca-2df9-4bcc-81a2-3cbcf3d8910f",
   "metadata": {},
   "outputs": [
    {
     "data": {
      "text/plain": [
       "Weight_Input_Number of generators                     1447\n",
       "Weight_Input_Plant annual CH4 emissions (lbs)          316\n",
       "Weight_Input_Plant annual CO2 emissions (tons)          43\n",
       "Weight_Input_Plant annual N2O emissions (lbs)            0\n",
       "Weight_Input_Plant annual NOx emissions (tons)          89\n",
       "Weight_Input_Plant annual SO2 emissions (tons)        1190\n",
       "Weight_Input_Plant nameplate capacity (MW)             367\n",
       "Weight_Input_Plant total annual heat input (MMBtu)      97\n",
       "Weight_Output_Plant annual net generation (MWh)          0\n",
       "dtype: int64"
      ]
     },
     "execution_count": 195,
     "metadata": {},
     "output_type": "execute_result"
    }
   ],
   "source": [
    "df_zero =(df_weights_1==0).sum()\n",
    "df_zero"
   ]
  },
  {
   "cell_type": "code",
   "execution_count": 196,
   "id": "e4ea6a1e-1d25-4196-88d0-fd33e5258794",
   "metadata": {},
   "outputs": [
    {
     "data": {
      "text/plain": [
       "Weight_Input_Number of generators                     88.02\n",
       "Weight_Input_Plant annual CH4 emissions (lbs)         19.22\n",
       "Weight_Input_Plant annual CO2 emissions (tons)         2.62\n",
       "Weight_Input_Plant annual N2O emissions (lbs)          0.00\n",
       "Weight_Input_Plant annual NOx emissions (tons)         5.41\n",
       "Weight_Input_Plant annual SO2 emissions (tons)        72.38\n",
       "Weight_Input_Plant nameplate capacity (MW)            22.32\n",
       "Weight_Input_Plant total annual heat input (MMBtu)     5.90\n",
       "Weight_Output_Plant annual net generation (MWh)        0.00\n",
       "dtype: float64"
      ]
     },
     "execution_count": 196,
     "metadata": {},
     "output_type": "execute_result"
    }
   ],
   "source": [
    "df_zero_1_perc = (((df_weights_1==0).sum() / df_weights_1.shape[0]) * 100).round(2)\n",
    "df_zero_1_perc"
   ]
  },
  {
   "cell_type": "code",
   "execution_count": null,
   "id": "e4ad3cba-0b88-4ab2-b33c-f6d4de7ceae7",
   "metadata": {},
   "outputs": [],
   "source": []
  },
  {
   "cell_type": "code",
   "execution_count": 197,
   "id": "143ed942-2db1-4948-bfdd-b40077e2a94f",
   "metadata": {},
   "outputs": [
    {
     "data": {
      "text/html": [
       "<div><div id=da4b1903-8109-4b6c-9e4e-fd94bc70600e style=\"display:none; background-color:#9D6CFF; color:white; width:200px; height:30px; padding-left:5px; border-radius:4px; flex-direction:row; justify-content:space-around; align-items:center;\" onmouseover=\"this.style.backgroundColor='#BA9BF8'\" onmouseout=\"this.style.backgroundColor='#9D6CFF'\" onclick=\"window.commands?.execute('create-mitosheet-from-dataframe-output');\">See Full Dataframe in Mito</div> <script> if (window.commands.hasCommand('create-mitosheet-from-dataframe-output')) document.getElementById('da4b1903-8109-4b6c-9e4e-fd94bc70600e').style.display = 'flex' </script> <table border=\"1\" class=\"dataframe\">\n",
       "  <thead>\n",
       "    <tr style=\"text-align: right;\">\n",
       "      <th></th>\n",
       "      <th>Efficiency_Scores</th>\n",
       "    </tr>\n",
       "  </thead>\n",
       "  <tbody>\n",
       "    <tr>\n",
       "      <th>DMU 0001</th>\n",
       "      <td>0.728929</td>\n",
       "    </tr>\n",
       "    <tr>\n",
       "      <th>DMU 0002</th>\n",
       "      <td>0.319788</td>\n",
       "    </tr>\n",
       "    <tr>\n",
       "      <th>DMU 0003</th>\n",
       "      <td>0.745540</td>\n",
       "    </tr>\n",
       "    <tr>\n",
       "      <th>DMU 0004</th>\n",
       "      <td>0.797534</td>\n",
       "    </tr>\n",
       "    <tr>\n",
       "      <th>DMU 0006</th>\n",
       "      <td>0.302185</td>\n",
       "    </tr>\n",
       "    <tr>\n",
       "      <th>...</th>\n",
       "      <td>...</td>\n",
       "    </tr>\n",
       "    <tr>\n",
       "      <th>DMU 1729</th>\n",
       "      <td>0.326085</td>\n",
       "    </tr>\n",
       "    <tr>\n",
       "      <th>DMU 1730</th>\n",
       "      <td>0.785587</td>\n",
       "    </tr>\n",
       "    <tr>\n",
       "      <th>DMU 1731</th>\n",
       "      <td>0.357247</td>\n",
       "    </tr>\n",
       "    <tr>\n",
       "      <th>DMU 1732</th>\n",
       "      <td>0.808513</td>\n",
       "    </tr>\n",
       "    <tr>\n",
       "      <th>DMU 1733</th>\n",
       "      <td>0.225086</td>\n",
       "    </tr>\n",
       "  </tbody>\n",
       "</table></div>"
      ],
      "text/plain": [
       "          Efficiency_Scores\n",
       "DMU 0001           0.728929\n",
       "DMU 0002           0.319788\n",
       "DMU 0003           0.745540\n",
       "DMU 0004           0.797534\n",
       "DMU 0006           0.302185\n",
       "...                     ...\n",
       "DMU 1729           0.326085\n",
       "DMU 1730           0.785587\n",
       "DMU 1731           0.357247\n",
       "DMU 1732           0.808513\n",
       "DMU 1733           0.225086\n",
       "\n",
       "[1644 rows x 1 columns]"
      ]
     },
     "execution_count": 197,
     "metadata": {},
     "output_type": "execute_result"
    }
   ],
   "source": [
    "df_es"
   ]
  },
  {
   "cell_type": "code",
   "execution_count": 189,
   "id": "b852b03b-3d7c-4fb6-8a30-5507323cfb4b",
   "metadata": {},
   "outputs": [
    {
     "data": {
      "text/html": [
       "<div><div id=3217a34e-13f1-4b6c-9992-ec6a26fbc6b2 style=\"display:none; background-color:#9D6CFF; color:white; width:200px; height:30px; padding-left:5px; border-radius:4px; flex-direction:row; justify-content:space-around; align-items:center;\" onmouseover=\"this.style.backgroundColor='#BA9BF8'\" onmouseout=\"this.style.backgroundColor='#9D6CFF'\" onclick=\"window.commands?.execute('create-mitosheet-from-dataframe-output');\">See Full Dataframe in Mito</div> <script> if (window.commands.hasCommand('create-mitosheet-from-dataframe-output')) document.getElementById('3217a34e-13f1-4b6c-9992-ec6a26fbc6b2').style.display = 'flex' </script> <table border=\"1\" class=\"dataframe\">\n",
       "  <thead>\n",
       "    <tr style=\"text-align: right;\">\n",
       "      <th></th>\n",
       "      <th>Efficiency_Scores</th>\n",
       "    </tr>\n",
       "  </thead>\n",
       "  <tbody>\n",
       "    <tr>\n",
       "      <th>DMU 0001</th>\n",
       "      <td>0.517907</td>\n",
       "    </tr>\n",
       "    <tr>\n",
       "      <th>DMU 0002</th>\n",
       "      <td>0.233557</td>\n",
       "    </tr>\n",
       "    <tr>\n",
       "      <th>DMU 0003</th>\n",
       "      <td>0.519487</td>\n",
       "    </tr>\n",
       "    <tr>\n",
       "      <th>DMU 0004</th>\n",
       "      <td>0.524611</td>\n",
       "    </tr>\n",
       "    <tr>\n",
       "      <th>DMU 0006</th>\n",
       "      <td>0.222652</td>\n",
       "    </tr>\n",
       "    <tr>\n",
       "      <th>...</th>\n",
       "      <td>...</td>\n",
       "    </tr>\n",
       "    <tr>\n",
       "      <th>DMU 1729</th>\n",
       "      <td>0.222604</td>\n",
       "    </tr>\n",
       "    <tr>\n",
       "      <th>DMU 1730</th>\n",
       "      <td>0.526257</td>\n",
       "    </tr>\n",
       "    <tr>\n",
       "      <th>DMU 1731</th>\n",
       "      <td>0.222627</td>\n",
       "    </tr>\n",
       "    <tr>\n",
       "      <th>DMU 1732</th>\n",
       "      <td>0.529180</td>\n",
       "    </tr>\n",
       "    <tr>\n",
       "      <th>DMU 1733</th>\n",
       "      <td>0.222650</td>\n",
       "    </tr>\n",
       "  </tbody>\n",
       "</table></div>"
      ],
      "text/plain": [
       "          Efficiency_Scores\n",
       "DMU 0001           0.517907\n",
       "DMU 0002           0.233557\n",
       "DMU 0003           0.519487\n",
       "DMU 0004           0.524611\n",
       "DMU 0006           0.222652\n",
       "...                     ...\n",
       "DMU 1729           0.222604\n",
       "DMU 1730           0.526257\n",
       "DMU 1731           0.222627\n",
       "DMU 1732           0.529180\n",
       "DMU 1733           0.222650\n",
       "\n",
       "[1644 rows x 1 columns]"
      ]
     },
     "execution_count": 189,
     "metadata": {},
     "output_type": "execute_result"
    }
   ],
   "source": [
    "df_es_1"
   ]
  },
  {
   "cell_type": "code",
   "execution_count": 198,
   "id": "591a163a-8965-43b1-98b2-00b6b29b4418",
   "metadata": {},
   "outputs": [],
   "source": [
    "df_res = df_es.join(df_es_1, lsuffix = \"_Basic\", rsuffix=\"_with_ML\")"
   ]
  },
  {
   "cell_type": "code",
   "execution_count": 199,
   "id": "6bc62bae-e8a0-40fe-a7cc-2cddf037f9e6",
   "metadata": {},
   "outputs": [
    {
     "data": {
      "text/html": [
       "<div><div id=67934a2d-544d-4960-9848-c679d8d4aa7c style=\"display:none; background-color:#9D6CFF; color:white; width:200px; height:30px; padding-left:5px; border-radius:4px; flex-direction:row; justify-content:space-around; align-items:center;\" onmouseover=\"this.style.backgroundColor='#BA9BF8'\" onmouseout=\"this.style.backgroundColor='#9D6CFF'\" onclick=\"window.commands?.execute('create-mitosheet-from-dataframe-output');\">See Full Dataframe in Mito</div> <script> if (window.commands.hasCommand('create-mitosheet-from-dataframe-output')) document.getElementById('67934a2d-544d-4960-9848-c679d8d4aa7c').style.display = 'flex' </script> <table border=\"1\" class=\"dataframe\">\n",
       "  <thead>\n",
       "    <tr style=\"text-align: right;\">\n",
       "      <th></th>\n",
       "      <th>Efficiency_Scores_Basic</th>\n",
       "      <th>Efficiency_Scores_with_ML</th>\n",
       "      <th>Diff</th>\n",
       "      <th>Diff_Perc</th>\n",
       "      <th>Diff_Perc &lt; 10</th>\n",
       "    </tr>\n",
       "  </thead>\n",
       "  <tbody>\n",
       "    <tr>\n",
       "      <th>DMU 0001</th>\n",
       "      <td>0.7289</td>\n",
       "      <td>0.5179</td>\n",
       "      <td>0.2110</td>\n",
       "      <td>28.9496</td>\n",
       "      <td>False</td>\n",
       "    </tr>\n",
       "    <tr>\n",
       "      <th>DMU 0002</th>\n",
       "      <td>0.3198</td>\n",
       "      <td>0.2336</td>\n",
       "      <td>0.0862</td>\n",
       "      <td>26.9649</td>\n",
       "      <td>False</td>\n",
       "    </tr>\n",
       "    <tr>\n",
       "      <th>DMU 0003</th>\n",
       "      <td>0.7455</td>\n",
       "      <td>0.5195</td>\n",
       "      <td>0.2261</td>\n",
       "      <td>30.3207</td>\n",
       "      <td>False</td>\n",
       "    </tr>\n",
       "    <tr>\n",
       "      <th>DMU 0004</th>\n",
       "      <td>0.7975</td>\n",
       "      <td>0.5246</td>\n",
       "      <td>0.2729</td>\n",
       "      <td>34.2209</td>\n",
       "      <td>False</td>\n",
       "    </tr>\n",
       "    <tr>\n",
       "      <th>DMU 0006</th>\n",
       "      <td>0.3022</td>\n",
       "      <td>0.2227</td>\n",
       "      <td>0.0795</td>\n",
       "      <td>26.3193</td>\n",
       "      <td>False</td>\n",
       "    </tr>\n",
       "    <tr>\n",
       "      <th>...</th>\n",
       "      <td>...</td>\n",
       "      <td>...</td>\n",
       "      <td>...</td>\n",
       "      <td>...</td>\n",
       "      <td>...</td>\n",
       "    </tr>\n",
       "    <tr>\n",
       "      <th>DMU 1729</th>\n",
       "      <td>0.3261</td>\n",
       "      <td>0.2226</td>\n",
       "      <td>0.1035</td>\n",
       "      <td>31.7345</td>\n",
       "      <td>False</td>\n",
       "    </tr>\n",
       "    <tr>\n",
       "      <th>DMU 1730</th>\n",
       "      <td>0.7856</td>\n",
       "      <td>0.5263</td>\n",
       "      <td>0.2593</td>\n",
       "      <td>33.0110</td>\n",
       "      <td>False</td>\n",
       "    </tr>\n",
       "    <tr>\n",
       "      <th>DMU 1731</th>\n",
       "      <td>0.3572</td>\n",
       "      <td>0.2226</td>\n",
       "      <td>0.1346</td>\n",
       "      <td>37.6825</td>\n",
       "      <td>False</td>\n",
       "    </tr>\n",
       "    <tr>\n",
       "      <th>DMU 1732</th>\n",
       "      <td>0.8085</td>\n",
       "      <td>0.5292</td>\n",
       "      <td>0.2793</td>\n",
       "      <td>34.5489</td>\n",
       "      <td>False</td>\n",
       "    </tr>\n",
       "    <tr>\n",
       "      <th>DMU 1733</th>\n",
       "      <td>0.2251</td>\n",
       "      <td>0.2226</td>\n",
       "      <td>0.0024</td>\n",
       "      <td>1.0824</td>\n",
       "      <td>True</td>\n",
       "    </tr>\n",
       "  </tbody>\n",
       "</table></div>"
      ],
      "text/plain": [
       "          Efficiency_Scores_Basic  Efficiency_Scores_with_ML    Diff  \\\n",
       "DMU 0001                   0.7289                     0.5179  0.2110   \n",
       "DMU 0002                   0.3198                     0.2336  0.0862   \n",
       "DMU 0003                   0.7455                     0.5195  0.2261   \n",
       "DMU 0004                   0.7975                     0.5246  0.2729   \n",
       "DMU 0006                   0.3022                     0.2227  0.0795   \n",
       "...                           ...                        ...     ...   \n",
       "DMU 1729                   0.3261                     0.2226  0.1035   \n",
       "DMU 1730                   0.7856                     0.5263  0.2593   \n",
       "DMU 1731                   0.3572                     0.2226  0.1346   \n",
       "DMU 1732                   0.8085                     0.5292  0.2793   \n",
       "DMU 1733                   0.2251                     0.2226  0.0024   \n",
       "\n",
       "          Diff_Perc  Diff_Perc < 10  \n",
       "DMU 0001    28.9496           False  \n",
       "DMU 0002    26.9649           False  \n",
       "DMU 0003    30.3207           False  \n",
       "DMU 0004    34.2209           False  \n",
       "DMU 0006    26.3193           False  \n",
       "...             ...             ...  \n",
       "DMU 1729    31.7345           False  \n",
       "DMU 1730    33.0110           False  \n",
       "DMU 1731    37.6825           False  \n",
       "DMU 1732    34.5489           False  \n",
       "DMU 1733     1.0824            True  \n",
       "\n",
       "[1644 rows x 5 columns]"
      ]
     },
     "execution_count": 199,
     "metadata": {},
     "output_type": "execute_result"
    }
   ],
   "source": [
    "df_res[\"Diff\"] = df_res[\"Efficiency_Scores_Basic\"]  - df_res[\"Efficiency_Scores_with_ML\"]\n",
    "df_res[\"Diff_Perc\"] = (df_res[\"Diff\"] / df_res[\"Efficiency_Scores_Basic\"]) * 100 \n",
    "df_res[\"Diff_Perc < 10\"] = np.abs(df_res[\"Diff_Perc\"]) < 10  \n",
    "df_res = df_res.round(4)\n",
    "df_res"
   ]
  },
  {
   "cell_type": "code",
   "execution_count": 200,
   "id": "c4474381-9b7d-40e9-8792-596457e6971b",
   "metadata": {},
   "outputs": [
    {
     "name": "stdout",
     "output_type": "stream",
     "text": [
      "blue :  366\n",
      "red :  1278\n"
     ]
    }
   ],
   "source": [
    "blue = df_res[\"Diff_Perc < 10\"].sum()\n",
    "print(\"blue : \", blue)\n",
    "red = len(df_res[\"Diff_Perc < 10\"]) - (df_res[\"Diff_Perc < 10\"].sum())\n",
    "print(\"red : \", red)"
   ]
  },
  {
   "cell_type": "code",
   "execution_count": 201,
   "id": "dcf9accf-3bc5-48e5-bd87-c875a1074406",
   "metadata": {},
   "outputs": [
    {
     "data": {
      "application/vnd.plotly.v1+json": {
       "config": {
        "plotlyServerURL": "https://plot.ly"
       },
       "data": [
        {
         "customdata": [
          [
           28.9496,
           "DMU 0001"
          ],
          [
           26.9649,
           "DMU 0002"
          ],
          [
           30.3207,
           "DMU 0003"
          ],
          [
           34.2209,
           "DMU 0004"
          ],
          [
           26.3193,
           "DMU 0006"
          ],
          [
           37.749,
           "DMU 0007"
          ],
          [
           44.248,
           "DMU 0008"
          ],
          [
           27.9901,
           "DMU 0009"
          ],
          [
           31.9817,
           "DMU 0010"
          ],
          [
           24.3613,
           "DMU 0011"
          ],
          [
           33.4575,
           "DMU 0012"
          ],
          [
           27.9837,
           "DMU 0014"
          ],
          [
           26.804,
           "DMU 0015"
          ],
          [
           29.4929,
           "DMU 0016"
          ],
          [
           28.6803,
           "DMU 0017"
          ],
          [
           31.5617,
           "DMU 0018"
          ],
          [
           27.9098,
           "DMU 0019"
          ],
          [
           29.9704,
           "DMU 0020"
          ],
          [
           29.5436,
           "DMU 0022"
          ],
          [
           40.6485,
           "DMU 0023"
          ],
          [
           31.3777,
           "DMU 0024"
          ],
          [
           28.7996,
           "DMU 0025"
          ],
          [
           44.2059,
           "DMU 0026"
          ],
          [
           26.7891,
           "DMU 0029"
          ],
          [
           27.6928,
           "DMU 0030"
          ],
          [
           30.9844,
           "DMU 0031"
          ],
          [
           29.7684,
           "DMU 0033"
          ],
          [
           31.1575,
           "DMU 0034"
          ],
          [
           29.903,
           "DMU 0035"
          ],
          [
           28.5328,
           "DMU 0036"
          ],
          [
           29.4079,
           "DMU 0038"
          ],
          [
           27.4993,
           "DMU 0039"
          ],
          [
           31.5729,
           "DMU 0040"
          ],
          [
           30.1857,
           "DMU 0042"
          ],
          [
           29.4172,
           "DMU 0043"
          ],
          [
           31.7352,
           "DMU 0044"
          ],
          [
           33.2092,
           "DMU 0045"
          ],
          [
           35.0388,
           "DMU 0046"
          ],
          [
           37.0361,
           "DMU 0047"
          ],
          [
           38.9435,
           "DMU 0048"
          ],
          [
           34.147,
           "DMU 0049"
          ],
          [
           34.9335,
           "DMU 0050"
          ],
          [
           29.8551,
           "DMU 0051"
          ],
          [
           35.9815,
           "DMU 0052"
          ],
          [
           30.7082,
           "DMU 0054"
          ],
          [
           27.184,
           "DMU 0055"
          ],
          [
           29.559,
           "DMU 0057"
          ],
          [
           30.6903,
           "DMU 0058"
          ],
          [
           29.4593,
           "DMU 0059"
          ],
          [
           31.9938,
           "DMU 0060"
          ],
          [
           30.1003,
           "DMU 0061"
          ],
          [
           32.5428,
           "DMU 0062"
          ],
          [
           15.9486,
           "DMU 0063"
          ],
          [
           29.9824,
           "DMU 0064"
          ],
          [
           18.6931,
           "DMU 0066"
          ],
          [
           29.2676,
           "DMU 0067"
          ],
          [
           43.8433,
           "DMU 0069"
          ],
          [
           18.9891,
           "DMU 0070"
          ],
          [
           28.2288,
           "DMU 0072"
          ],
          [
           31.7328,
           "DMU 0073"
          ],
          [
           28.0872,
           "DMU 0074"
          ],
          [
           29.3606,
           "DMU 0075"
          ],
          [
           37.8219,
           "DMU 0076"
          ],
          [
           30.7887,
           "DMU 0077"
          ],
          [
           30.9625,
           "DMU 0078"
          ],
          [
           14.0343,
           "DMU 0080"
          ],
          [
           27.3638,
           "DMU 0081"
          ],
          [
           28.3751,
           "DMU 0082"
          ],
          [
           17.4487,
           "DMU 0083"
          ],
          [
           28.324,
           "DMU 0084"
          ],
          [
           48.1752,
           "DMU 0085"
          ],
          [
           30.3221,
           "DMU 0086"
          ],
          [
           13.1314,
           "DMU 0087"
          ],
          [
           44.4189,
           "DMU 0089"
          ],
          [
           49.9696,
           "DMU 0090"
          ],
          [
           46.998,
           "DMU 0092"
          ],
          [
           43.5839,
           "DMU 0094"
          ],
          [
           35.7916,
           "DMU 0095"
          ],
          [
           39.4778,
           "DMU 0098"
          ],
          [
           30.7362,
           "DMU 0100"
          ],
          [
           16.7723,
           "DMU 0101"
          ],
          [
           36.8361,
           "DMU 0102"
          ],
          [
           57.6079,
           "DMU 0104"
          ],
          [
           39.1528,
           "DMU 0106"
          ],
          [
           42.8934,
           "DMU 0107"
          ],
          [
           50.4013,
           "DMU 0108"
          ],
          [
           24.7944,
           "DMU 0110"
          ],
          [
           43.8345,
           "DMU 0113"
          ],
          [
           33.598,
           "DMU 0114"
          ],
          [
           43.954,
           "DMU 0115"
          ],
          [
           10.362,
           "DMU 0116"
          ],
          [
           34.4037,
           "DMU 0117"
          ],
          [
           31.8197,
           "DMU 0118"
          ],
          [
           62.2686,
           "DMU 0119"
          ],
          [
           41.7532,
           "DMU 0121"
          ],
          [
           30.5878,
           "DMU 0123"
          ],
          [
           52.3358,
           "DMU 0124"
          ],
          [
           54.7731,
           "DMU 0125"
          ],
          [
           27.0433,
           "DMU 0127"
          ],
          [
           21.3385,
           "DMU 0129"
          ],
          [
           57.0307,
           "DMU 0130"
          ],
          [
           42.6355,
           "DMU 0131"
          ],
          [
           28.7785,
           "DMU 0133"
          ],
          [
           19.3453,
           "DMU 0134"
          ],
          [
           43.7002,
           "DMU 0135"
          ],
          [
           12.376,
           "DMU 0136"
          ],
          [
           40.1779,
           "DMU 0138"
          ],
          [
           16.5117,
           "DMU 0139"
          ],
          [
           56.2099,
           "DMU 0141"
          ],
          [
           53.4765,
           "DMU 0143"
          ],
          [
           52.1748,
           "DMU 0144"
          ],
          [
           42.3644,
           "DMU 0145"
          ],
          [
           52.5822,
           "DMU 0146"
          ],
          [
           47.3887,
           "DMU 0147"
          ],
          [
           58.8728,
           "DMU 0148"
          ],
          [
           54.4702,
           "DMU 0149"
          ],
          [
           57.9946,
           "DMU 0150"
          ],
          [
           16.6195,
           "DMU 0151"
          ],
          [
           53.8364,
           "DMU 0153"
          ],
          [
           34.9001,
           "DMU 0155"
          ],
          [
           18.3459,
           "DMU 0159"
          ],
          [
           30.5786,
           "DMU 0161"
          ],
          [
           10.8648,
           "DMU 0163"
          ],
          [
           52.542,
           "DMU 0164"
          ],
          [
           26.3989,
           "DMU 0170"
          ],
          [
           58.9433,
           "DMU 0171"
          ],
          [
           10.8835,
           "DMU 0172"
          ],
          [
           27.2369,
           "DMU 0173"
          ],
          [
           46.9946,
           "DMU 0174"
          ],
          [
           50.9035,
           "DMU 0176"
          ],
          [
           24.2163,
           "DMU 0178"
          ],
          [
           15.7722,
           "DMU 0180"
          ],
          [
           30.9547,
           "DMU 0182"
          ],
          [
           23.9692,
           "DMU 0184"
          ],
          [
           26.5942,
           "DMU 0187"
          ],
          [
           53.7304,
           "DMU 0188"
          ],
          [
           50.1016,
           "DMU 0189"
          ],
          [
           51.7165,
           "DMU 0190"
          ],
          [
           51.1645,
           "DMU 0191"
          ],
          [
           47.3862,
           "DMU 0192"
          ],
          [
           11.9962,
           "DMU 0194"
          ],
          [
           19.6645,
           "DMU 0195"
          ],
          [
           56.5905,
           "DMU 0196"
          ],
          [
           52.6962,
           "DMU 0197"
          ],
          [
           19.8124,
           "DMU 0202"
          ],
          [
           51.0486,
           "DMU 0203"
          ],
          [
           54.8024,
           "DMU 0205"
          ],
          [
           54.7444,
           "DMU 0206"
          ],
          [
           54.6379,
           "DMU 0207"
          ],
          [
           35.8181,
           "DMU 0208"
          ],
          [
           10.7511,
           "DMU 0209"
          ],
          [
           47.899,
           "DMU 0210"
          ],
          [
           10.6664,
           "DMU 0213"
          ],
          [
           44.2631,
           "DMU 0214"
          ],
          [
           15.3045,
           "DMU 0215"
          ],
          [
           49.812,
           "DMU 0217"
          ],
          [
           51.2083,
           "DMU 0218"
          ],
          [
           51.6468,
           "DMU 0219"
          ],
          [
           21.789,
           "DMU 0220"
          ],
          [
           29.2929,
           "DMU 0221"
          ],
          [
           60.6473,
           "DMU 0222"
          ],
          [
           51.2447,
           "DMU 0224"
          ],
          [
           60.0702,
           "DMU 0225"
          ],
          [
           66.2363,
           "DMU 0227"
          ],
          [
           57.7723,
           "DMU 0228"
          ],
          [
           53.2484,
           "DMU 0229"
          ],
          [
           56.4937,
           "DMU 0230"
          ],
          [
           17.7994,
           "DMU 0232"
          ],
          [
           41.6295,
           "DMU 0233"
          ],
          [
           53.6026,
           "DMU 0234"
          ],
          [
           16.7055,
           "DMU 0235"
          ],
          [
           46.4079,
           "DMU 0236"
          ],
          [
           52.5528,
           "DMU 0237"
          ],
          [
           52.5289,
           "DMU 0238"
          ],
          [
           53.291,
           "DMU 0242"
          ],
          [
           18.5522,
           "DMU 0243"
          ],
          [
           57.2393,
           "DMU 0244"
          ],
          [
           54.0629,
           "DMU 0252"
          ],
          [
           43.6639,
           "DMU 0255"
          ],
          [
           53.7894,
           "DMU 0256"
          ],
          [
           17.8672,
           "DMU 0257"
          ],
          [
           63.0497,
           "DMU 0258"
          ],
          [
           53.9362,
           "DMU 0261"
          ],
          [
           52.1796,
           "DMU 0262"
          ],
          [
           35.242,
           "DMU 0263"
          ],
          [
           58.1392,
           "DMU 0264"
          ],
          [
           29.3517,
           "DMU 0265"
          ],
          [
           61.2056,
           "DMU 0266"
          ],
          [
           58.0481,
           "DMU 0267"
          ],
          [
           57.6908,
           "DMU 0269"
          ],
          [
           25.7781,
           "DMU 0270"
          ],
          [
           12.3601,
           "DMU 0272"
          ],
          [
           25.3329,
           "DMU 0273"
          ],
          [
           47.9723,
           "DMU 0274"
          ],
          [
           57.2462,
           "DMU 0275"
          ],
          [
           47.638,
           "DMU 0276"
          ],
          [
           52.5053,
           "DMU 0277"
          ],
          [
           54.1219,
           "DMU 0278"
          ],
          [
           51.438,
           "DMU 0280"
          ],
          [
           22.5943,
           "DMU 0287"
          ],
          [
           51.4983,
           "DMU 0289"
          ],
          [
           30.5952,
           "DMU 0292"
          ],
          [
           55.9505,
           "DMU 0294"
          ],
          [
           33.239,
           "DMU 0301"
          ],
          [
           39.1539,
           "DMU 0302"
          ],
          [
           39.542,
           "DMU 0303"
          ],
          [
           62.3382,
           "DMU 0304"
          ],
          [
           19.5669,
           "DMU 0305"
          ],
          [
           54.1111,
           "DMU 0307"
          ],
          [
           62.715,
           "DMU 0308"
          ],
          [
           19.5098,
           "DMU 0309"
          ],
          [
           20.5225,
           "DMU 0310"
          ],
          [
           58.6824,
           "DMU 0313"
          ],
          [
           41.0137,
           "DMU 0316"
          ],
          [
           14.1144,
           "DMU 0317"
          ],
          [
           41.6272,
           "DMU 0318"
          ],
          [
           40.2872,
           "DMU 0320"
          ],
          [
           32.5587,
           "DMU 0321"
          ],
          [
           49.685,
           "DMU 0322"
          ],
          [
           55.9201,
           "DMU 0323"
          ],
          [
           39.9927,
           "DMU 0324"
          ],
          [
           35.1208,
           "DMU 0325"
          ],
          [
           28.2239,
           "DMU 0327"
          ],
          [
           20.3687,
           "DMU 0328"
          ],
          [
           48.9577,
           "DMU 0329"
          ],
          [
           33.4933,
           "DMU 0330"
          ],
          [
           29.1257,
           "DMU 0331"
          ],
          [
           34.5078,
           "DMU 0332"
          ],
          [
           49.2438,
           "DMU 0333"
          ],
          [
           50.4345,
           "DMU 0334"
          ],
          [
           58.3544,
           "DMU 0337"
          ],
          [
           52.989,
           "DMU 0340"
          ],
          [
           32.4607,
           "DMU 0341"
          ],
          [
           22.2922,
           "DMU 0343"
          ],
          [
           29.5487,
           "DMU 0346"
          ],
          [
           46.0184,
           "DMU 0348"
          ],
          [
           29.2275,
           "DMU 0349"
          ],
          [
           24.6634,
           "DMU 0351"
          ],
          [
           39.2858,
           "DMU 0352"
          ],
          [
           10.9459,
           "DMU 0353"
          ],
          [
           29.0756,
           "DMU 0356"
          ],
          [
           44.5025,
           "DMU 0358"
          ],
          [
           41.7136,
           "DMU 0359"
          ],
          [
           29.3278,
           "DMU 0360"
          ],
          [
           46.0909,
           "DMU 0361"
          ],
          [
           29.8237,
           "DMU 0364"
          ],
          [
           28.9072,
           "DMU 0366"
          ],
          [
           29.3259,
           "DMU 0367"
          ],
          [
           31.6146,
           "DMU 0369"
          ],
          [
           11.9973,
           "DMU 0370"
          ],
          [
           44.0803,
           "DMU 0371"
          ],
          [
           34.6614,
           "DMU 0372"
          ],
          [
           50.3938,
           "DMU 0374"
          ],
          [
           17.0194,
           "DMU 0375"
          ],
          [
           31.7783,
           "DMU 0376"
          ],
          [
           36.3067,
           "DMU 0377"
          ],
          [
           28.8657,
           "DMU 0378"
          ],
          [
           51.0999,
           "DMU 0379"
          ],
          [
           54.0855,
           "DMU 0381"
          ],
          [
           29.1598,
           "DMU 0382"
          ],
          [
           52.1176,
           "DMU 0383"
          ],
          [
           40.4419,
           "DMU 0384"
          ],
          [
           17.546,
           "DMU 0385"
          ],
          [
           40.0956,
           "DMU 0386"
          ],
          [
           16.6253,
           "DMU 0388"
          ],
          [
           28.2771,
           "DMU 0389"
          ],
          [
           25.8681,
           "DMU 0390"
          ],
          [
           47.4217,
           "DMU 0391"
          ],
          [
           52.2203,
           "DMU 0392"
          ],
          [
           16.9874,
           "DMU 0393"
          ],
          [
           38.0065,
           "DMU 0394"
          ],
          [
           36.9126,
           "DMU 0396"
          ],
          [
           41.354,
           "DMU 0397"
          ],
          [
           31.4409,
           "DMU 0398"
          ],
          [
           26.7604,
           "DMU 0399"
          ],
          [
           32.5998,
           "DMU 0400"
          ],
          [
           41.4297,
           "DMU 0401"
          ],
          [
           53.1185,
           "DMU 0405"
          ],
          [
           66.0296,
           "DMU 0406"
          ],
          [
           46.1711,
           "DMU 0407"
          ],
          [
           49.2267,
           "DMU 0408"
          ],
          [
           46.3925,
           "DMU 0410"
          ],
          [
           48.5771,
           "DMU 0412"
          ],
          [
           40.5616,
           "DMU 0413"
          ],
          [
           65.7569,
           "DMU 0414"
          ],
          [
           46.0587,
           "DMU 0415"
          ],
          [
           12.4314,
           "DMU 0416"
          ],
          [
           50.2704,
           "DMU 0417"
          ],
          [
           31.2013,
           "DMU 0418"
          ],
          [
           46.9572,
           "DMU 0419"
          ],
          [
           20.8988,
           "DMU 0422"
          ],
          [
           22.9473,
           "DMU 0424"
          ],
          [
           58.0142,
           "DMU 0426"
          ],
          [
           52.0961,
           "DMU 0428"
          ],
          [
           41.1371,
           "DMU 0429"
          ],
          [
           17.6275,
           "DMU 0431"
          ],
          [
           29.1981,
           "DMU 0432"
          ],
          [
           29.5565,
           "DMU 0434"
          ],
          [
           48.2909,
           "DMU 0435"
          ],
          [
           41.1745,
           "DMU 0436"
          ],
          [
           45.8666,
           "DMU 0437"
          ],
          [
           29.4901,
           "DMU 0438"
          ],
          [
           36.548,
           "DMU 0439"
          ],
          [
           37.8699,
           "DMU 0440"
          ],
          [
           50.9981,
           "DMU 0441"
          ],
          [
           18.698,
           "DMU 0442"
          ],
          [
           26.239,
           "DMU 0443"
          ],
          [
           44.1937,
           "DMU 0444"
          ],
          [
           19.6882,
           "DMU 0446"
          ],
          [
           37.2334,
           "DMU 0447"
          ],
          [
           44.405,
           "DMU 0448"
          ],
          [
           29.5919,
           "DMU 0449"
          ],
          [
           37.69,
           "DMU 0450"
          ],
          [
           48.0098,
           "DMU 0452"
          ],
          [
           48.7737,
           "DMU 0453"
          ],
          [
           40.7205,
           "DMU 0454"
          ],
          [
           57.3127,
           "DMU 0455"
          ],
          [
           30.8994,
           "DMU 0457"
          ],
          [
           41.8412,
           "DMU 0459"
          ],
          [
           30.2149,
           "DMU 0461"
          ],
          [
           31.4607,
           "DMU 0462"
          ],
          [
           34.504,
           "DMU 0463"
          ],
          [
           35.1303,
           "DMU 0464"
          ],
          [
           34.6162,
           "DMU 0465"
          ],
          [
           35.2849,
           "DMU 0466"
          ],
          [
           34.2765,
           "DMU 0467"
          ],
          [
           30.5732,
           "DMU 0468"
          ],
          [
           35.9764,
           "DMU 0469"
          ],
          [
           36.0776,
           "DMU 0470"
          ],
          [
           34.6625,
           "DMU 0471"
          ],
          [
           34.4073,
           "DMU 0472"
          ],
          [
           34.4718,
           "DMU 0473"
          ],
          [
           34.4446,
           "DMU 0474"
          ],
          [
           34.5497,
           "DMU 0475"
          ],
          [
           29.2433,
           "DMU 0477"
          ],
          [
           34.3251,
           "DMU 0478"
          ],
          [
           30.2419,
           "DMU 0479"
          ],
          [
           37.9225,
           "DMU 0480"
          ],
          [
           31.5555,
           "DMU 0481"
          ],
          [
           31.7239,
           "DMU 0482"
          ],
          [
           30.7369,
           "DMU 0483"
          ],
          [
           28.6309,
           "DMU 0484"
          ],
          [
           37.1172,
           "DMU 0485"
          ],
          [
           30.7962,
           "DMU 0486"
          ],
          [
           29.1652,
           "DMU 0487"
          ],
          [
           35.4024,
           "DMU 0488"
          ],
          [
           31.6538,
           "DMU 0490"
          ],
          [
           35.1038,
           "DMU 0492"
          ],
          [
           40.5059,
           "DMU 0493"
          ],
          [
           32.809,
           "DMU 0495"
          ],
          [
           31.835,
           "DMU 0496"
          ],
          [
           30.8928,
           "DMU 0497"
          ],
          [
           42.9127,
           "DMU 0498"
          ],
          [
           27.6105,
           "DMU 0499"
          ],
          [
           32.1606,
           "DMU 0500"
          ],
          [
           25.0108,
           "DMU 0501"
          ],
          [
           26.1163,
           "DMU 0502"
          ],
          [
           30.3152,
           "DMU 0503"
          ],
          [
           32.7099,
           "DMU 0505"
          ],
          [
           27.3967,
           "DMU 0506"
          ],
          [
           29.6747,
           "DMU 0507"
          ],
          [
           38.4307,
           "DMU 0508"
          ],
          [
           55.0577,
           "DMU 0509"
          ],
          [
           29.0741,
           "DMU 0510"
          ],
          [
           29.6086,
           "DMU 0511"
          ],
          [
           29.5056,
           "DMU 0513"
          ],
          [
           29.89,
           "DMU 0514"
          ],
          [
           30.4343,
           "DMU 0515"
          ],
          [
           38.8047,
           "DMU 0516"
          ],
          [
           34.8537,
           "DMU 0517"
          ],
          [
           31.589,
           "DMU 0518"
          ],
          [
           30.3375,
           "DMU 0519"
          ],
          [
           35.9531,
           "DMU 0520"
          ],
          [
           35.233,
           "DMU 0521"
          ],
          [
           30.8322,
           "DMU 0523"
          ],
          [
           60.0097,
           "DMU 0524"
          ],
          [
           29.7539,
           "DMU 0525"
          ],
          [
           35.8761,
           "DMU 0526"
          ],
          [
           33.9585,
           "DMU 0527"
          ],
          [
           39.4297,
           "DMU 0528"
          ],
          [
           29.5828,
           "DMU 0533"
          ],
          [
           29.1239,
           "DMU 0538"
          ],
          [
           33.2796,
           "DMU 0540"
          ],
          [
           27.9396,
           "DMU 0541"
          ],
          [
           15.98,
           "DMU 0542"
          ],
          [
           29.8685,
           "DMU 0543"
          ],
          [
           35.5127,
           "DMU 0544"
          ],
          [
           33.8198,
           "DMU 0545"
          ],
          [
           30.1197,
           "DMU 0546"
          ],
          [
           29.0295,
           "DMU 0547"
          ],
          [
           38.6214,
           "DMU 0548"
          ],
          [
           35.5278,
           "DMU 0549"
          ],
          [
           31.3035,
           "DMU 0550"
          ],
          [
           48.217,
           "DMU 0551"
          ],
          [
           40.3524,
           "DMU 0552"
          ],
          [
           31.9809,
           "DMU 0553"
          ],
          [
           29.5676,
           "DMU 0554"
          ],
          [
           41.8111,
           "DMU 0556"
          ],
          [
           31.5303,
           "DMU 0559"
          ],
          [
           30.8452,
           "DMU 0560"
          ],
          [
           29.3851,
           "DMU 0562"
          ],
          [
           33.9935,
           "DMU 0563"
          ],
          [
           35.5063,
           "DMU 0564"
          ],
          [
           36.0419,
           "DMU 0565"
          ],
          [
           35.2159,
           "DMU 0566"
          ],
          [
           29.6947,
           "DMU 0567"
          ],
          [
           30.9723,
           "DMU 0568"
          ],
          [
           38.9896,
           "DMU 0569"
          ],
          [
           31.3311,
           "DMU 0571"
          ],
          [
           44.3797,
           "DMU 0573"
          ],
          [
           50.0194,
           "DMU 0574"
          ],
          [
           29.9443,
           "DMU 0575"
          ],
          [
           28.4773,
           "DMU 0576"
          ],
          [
           30.4141,
           "DMU 0578"
          ],
          [
           46.3077,
           "DMU 0579"
          ],
          [
           34.287,
           "DMU 0580"
          ],
          [
           29.3945,
           "DMU 0581"
          ],
          [
           19.832,
           "DMU 0582"
          ],
          [
           25.2496,
           "DMU 0583"
          ],
          [
           30.5321,
           "DMU 0584"
          ],
          [
           29.3317,
           "DMU 0585"
          ],
          [
           31.0892,
           "DMU 0586"
          ],
          [
           30.5996,
           "DMU 0587"
          ],
          [
           38.5379,
           "DMU 0588"
          ],
          [
           48.5979,
           "DMU 0590"
          ],
          [
           34.5757,
           "DMU 0591"
          ],
          [
           38.4284,
           "DMU 0592"
          ],
          [
           48.6991,
           "DMU 0593"
          ],
          [
           40.9945,
           "DMU 0594"
          ],
          [
           26.9152,
           "DMU 0595"
          ],
          [
           31.1046,
           "DMU 0597"
          ],
          [
           31.6086,
           "DMU 0598"
          ],
          [
           39.524,
           "DMU 0599"
          ],
          [
           34.7351,
           "DMU 0602"
          ],
          [
           47.5503,
           "DMU 0603"
          ],
          [
           18.8784,
           "DMU 0604"
          ],
          [
           29.6399,
           "DMU 0605"
          ],
          [
           19.3291,
           "DMU 0606"
          ],
          [
           31.3425,
           "DMU 0607"
          ],
          [
           30.6696,
           "DMU 0608"
          ],
          [
           12.5997,
           "DMU 0611"
          ],
          [
           47.2787,
           "DMU 0612"
          ],
          [
           24.8739,
           "DMU 0614"
          ],
          [
           43.1377,
           "DMU 0615"
          ],
          [
           42.2448,
           "DMU 0617"
          ],
          [
           35.2109,
           "DMU 0618"
          ],
          [
           14.5789,
           "DMU 0621"
          ],
          [
           37.7649,
           "DMU 0623"
          ],
          [
           27.7982,
           "DMU 0624"
          ],
          [
           46.4672,
           "DMU 0625"
          ],
          [
           30.9431,
           "DMU 0626"
          ],
          [
           31.0315,
           "DMU 0627"
          ],
          [
           36.8447,
           "DMU 0628"
          ],
          [
           40.4339,
           "DMU 0629"
          ],
          [
           41.8259,
           "DMU 0630"
          ],
          [
           28.9121,
           "DMU 0631"
          ],
          [
           33.1367,
           "DMU 0632"
          ],
          [
           28.7008,
           "DMU 0633"
          ],
          [
           37.9668,
           "DMU 0634"
          ],
          [
           21.368,
           "DMU 0635"
          ],
          [
           43.7449,
           "DMU 0637"
          ],
          [
           25.121,
           "DMU 0639"
          ],
          [
           29.9684,
           "DMU 0640"
          ],
          [
           46.4574,
           "DMU 0641"
          ],
          [
           46.81,
           "DMU 0642"
          ],
          [
           30.0396,
           "DMU 0648"
          ],
          [
           37.3019,
           "DMU 0649"
          ],
          [
           38.7086,
           "DMU 0650"
          ],
          [
           31.557,
           "DMU 0651"
          ],
          [
           62.4833,
           "DMU 0652"
          ],
          [
           29.3918,
           "DMU 0653"
          ],
          [
           16.2269,
           "DMU 0654"
          ],
          [
           55.3617,
           "DMU 0657"
          ],
          [
           29.7014,
           "DMU 0662"
          ],
          [
           47.1361,
           "DMU 0664"
          ],
          [
           44.699,
           "DMU 0665"
          ],
          [
           22.2241,
           "DMU 0666"
          ],
          [
           28.8493,
           "DMU 0667"
          ],
          [
           44.7752,
           "DMU 0668"
          ],
          [
           30.9774,
           "DMU 0670"
          ],
          [
           49.3757,
           "DMU 0672"
          ],
          [
           31.9167,
           "DMU 0673"
          ],
          [
           31.1189,
           "DMU 0674"
          ],
          [
           29.9488,
           "DMU 0675"
          ],
          [
           23.6347,
           "DMU 0676"
          ],
          [
           31.6788,
           "DMU 0678"
          ],
          [
           29.4218,
           "DMU 0679"
          ],
          [
           48.0461,
           "DMU 0680"
          ],
          [
           48.6792,
           "DMU 0682"
          ],
          [
           31.0248,
           "DMU 0683"
          ],
          [
           25.2317,
           "DMU 0685"
          ],
          [
           37.5848,
           "DMU 0686"
          ],
          [
           36.0948,
           "DMU 0687"
          ],
          [
           30.2793,
           "DMU 0688"
          ],
          [
           45.3134,
           "DMU 0689"
          ],
          [
           38.6067,
           "DMU 0690"
          ],
          [
           33.511,
           "DMU 0691"
          ],
          [
           43.1585,
           "DMU 0693"
          ],
          [
           37.1566,
           "DMU 0694"
          ],
          [
           32.8219,
           "DMU 0695"
          ],
          [
           53.0634,
           "DMU 0696"
          ],
          [
           25.5489,
           "DMU 0697"
          ],
          [
           34.2782,
           "DMU 0698"
          ],
          [
           10.1294,
           "DMU 0699"
          ],
          [
           30.4641,
           "DMU 0700"
          ],
          [
           33.4969,
           "DMU 0701"
          ],
          [
           29.9074,
           "DMU 0702"
          ],
          [
           37.8658,
           "DMU 0703"
          ],
          [
           34.9194,
           "DMU 0705"
          ],
          [
           22.9399,
           "DMU 0706"
          ],
          [
           17.8613,
           "DMU 0707"
          ],
          [
           41.9723,
           "DMU 0708"
          ],
          [
           41.9767,
           "DMU 0709"
          ],
          [
           39.5503,
           "DMU 0711"
          ],
          [
           50.0502,
           "DMU 0712"
          ],
          [
           32.8289,
           "DMU 0713"
          ],
          [
           32.1205,
           "DMU 0714"
          ],
          [
           34.3885,
           "DMU 0715"
          ],
          [
           37.6783,
           "DMU 0717"
          ],
          [
           24.7325,
           "DMU 0719"
          ],
          [
           23.5234,
           "DMU 0720"
          ],
          [
           32.6206,
           "DMU 0721"
          ],
          [
           14.8982,
           "DMU 0722"
          ],
          [
           32.278,
           "DMU 0724"
          ],
          [
           23.6136,
           "DMU 0725"
          ],
          [
           27.9996,
           "DMU 0726"
          ],
          [
           28.2013,
           "DMU 0728"
          ],
          [
           33.4018,
           "DMU 0730"
          ],
          [
           36.5691,
           "DMU 0731"
          ],
          [
           35.2465,
           "DMU 0732"
          ],
          [
           27.4189,
           "DMU 0733"
          ],
          [
           48.6049,
           "DMU 0734"
          ],
          [
           29.6107,
           "DMU 0735"
          ],
          [
           41.4787,
           "DMU 0736"
          ],
          [
           14.2477,
           "DMU 0737"
          ],
          [
           43.1433,
           "DMU 0739"
          ],
          [
           30.3529,
           "DMU 0740"
          ],
          [
           32.7408,
           "DMU 0741"
          ],
          [
           30.9906,
           "DMU 0744"
          ],
          [
           42.1391,
           "DMU 0745"
          ],
          [
           32.4099,
           "DMU 0746"
          ],
          [
           27.1193,
           "DMU 0747"
          ],
          [
           45.4915,
           "DMU 0748"
          ],
          [
           16.4074,
           "DMU 0751"
          ],
          [
           39.0367,
           "DMU 0752"
          ],
          [
           33.6077,
           "DMU 0754"
          ],
          [
           52.8634,
           "DMU 0755"
          ],
          [
           14.254,
           "DMU 0756"
          ],
          [
           12.1873,
           "DMU 0759"
          ],
          [
           43.9466,
           "DMU 0760"
          ],
          [
           33.5379,
           "DMU 0761"
          ],
          [
           60.2134,
           "DMU 0765"
          ],
          [
           13.8112,
           "DMU 0766"
          ],
          [
           19.4598,
           "DMU 0769"
          ],
          [
           64.5916,
           "DMU 0770"
          ],
          [
           66.0901,
           "DMU 0771"
          ],
          [
           30.92,
           "DMU 0772"
          ],
          [
           32.4717,
           "DMU 0774"
          ],
          [
           15.05,
           "DMU 0776"
          ],
          [
           49.9562,
           "DMU 0777"
          ],
          [
           49.3367,
           "DMU 0778"
          ],
          [
           53.1118,
           "DMU 0779"
          ],
          [
           44.4675,
           "DMU 0780"
          ],
          [
           54.7556,
           "DMU 0782"
          ],
          [
           47.0643,
           "DMU 0783"
          ],
          [
           29.8334,
           "DMU 0784"
          ],
          [
           18.1991,
           "DMU 0785"
          ],
          [
           33.6497,
           "DMU 0787"
          ],
          [
           28.4136,
           "DMU 0789"
          ],
          [
           54.1323,
           "DMU 0790"
          ],
          [
           46.882,
           "DMU 0791"
          ],
          [
           48.3964,
           "DMU 0792"
          ],
          [
           32.7863,
           "DMU 0794"
          ],
          [
           48.5648,
           "DMU 0795"
          ],
          [
           62.7527,
           "DMU 0796"
          ],
          [
           31.7026,
           "DMU 0797"
          ],
          [
           40.6484,
           "DMU 0798"
          ],
          [
           29.4356,
           "DMU 0800"
          ],
          [
           46.661,
           "DMU 0801"
          ],
          [
           70.1261,
           "DMU 0802"
          ],
          [
           60.1643,
           "DMU 0804"
          ],
          [
           32.5297,
           "DMU 0806"
          ],
          [
           47.8708,
           "DMU 0809"
          ],
          [
           44.7267,
           "DMU 0811"
          ],
          [
           24.5124,
           "DMU 0813"
          ],
          [
           29.6632,
           "DMU 0814"
          ],
          [
           27.7984,
           "DMU 0815"
          ],
          [
           30.8777,
           "DMU 0816"
          ],
          [
           50.7184,
           "DMU 0818"
          ],
          [
           17.6496,
           "DMU 0819"
          ],
          [
           62.556,
           "DMU 0820"
          ],
          [
           44.2865,
           "DMU 0821"
          ],
          [
           49.9654,
           "DMU 0822"
          ],
          [
           30.2468,
           "DMU 0823"
          ],
          [
           45.8329,
           "DMU 0827"
          ],
          [
           15.6073,
           "DMU 0828"
          ],
          [
           62.6362,
           "DMU 0829"
          ],
          [
           34.7391,
           "DMU 0830"
          ],
          [
           39.8746,
           "DMU 0831"
          ],
          [
           46.7614,
           "DMU 0832"
          ],
          [
           30.1811,
           "DMU 0833"
          ],
          [
           52.9074,
           "DMU 0836"
          ],
          [
           24.1416,
           "DMU 0838"
          ],
          [
           43.7086,
           "DMU 0839"
          ],
          [
           19.4351,
           "DMU 0840"
          ],
          [
           50.9865,
           "DMU 0843"
          ],
          [
           21.6054,
           "DMU 0844"
          ],
          [
           50.7597,
           "DMU 0845"
          ],
          [
           57.8685,
           "DMU 0846"
          ],
          [
           35.4309,
           "DMU 0847"
          ],
          [
           60.5855,
           "DMU 0849"
          ],
          [
           33.439,
           "DMU 0851"
          ],
          [
           42.6505,
           "DMU 0852"
          ],
          [
           26.8889,
           "DMU 0856"
          ],
          [
           22.7408,
           "DMU 0857"
          ],
          [
           40.5466,
           "DMU 0859"
          ],
          [
           54.8042,
           "DMU 0861"
          ],
          [
           39.4668,
           "DMU 0862"
          ],
          [
           26.8565,
           "DMU 0863"
          ],
          [
           44.4227,
           "DMU 0864"
          ],
          [
           39.713,
           "DMU 0865"
          ],
          [
           29.2457,
           "DMU 0868"
          ],
          [
           16.6252,
           "DMU 0869"
          ],
          [
           17.057,
           "DMU 0872"
          ],
          [
           55.7512,
           "DMU 0873"
          ],
          [
           40.9651,
           "DMU 0874"
          ],
          [
           44.4021,
           "DMU 0875"
          ],
          [
           33.2971,
           "DMU 0877"
          ],
          [
           36.125,
           "DMU 0878"
          ],
          [
           58.8641,
           "DMU 0880"
          ],
          [
           37.3521,
           "DMU 0882"
          ],
          [
           11.6479,
           "DMU 0883"
          ],
          [
           33.9678,
           "DMU 0884"
          ],
          [
           40.9542,
           "DMU 0885"
          ],
          [
           26.2476,
           "DMU 0887"
          ],
          [
           45.0652,
           "DMU 0890"
          ],
          [
           55.4772,
           "DMU 0894"
          ],
          [
           14.7213,
           "DMU 0895"
          ],
          [
           36.6511,
           "DMU 0897"
          ],
          [
           35.8118,
           "DMU 0899"
          ],
          [
           46.9546,
           "DMU 0900"
          ],
          [
           43.1964,
           "DMU 0901"
          ],
          [
           36.0881,
           "DMU 0904"
          ],
          [
           29.6102,
           "DMU 0906"
          ],
          [
           16.4689,
           "DMU 0908"
          ],
          [
           41.0619,
           "DMU 0910"
          ],
          [
           36.2786,
           "DMU 0911"
          ],
          [
           49.3571,
           "DMU 0912"
          ],
          [
           26.1552,
           "DMU 0913"
          ],
          [
           32.7258,
           "DMU 0914"
          ],
          [
           26.3266,
           "DMU 0915"
          ],
          [
           28.771,
           "DMU 0916"
          ],
          [
           29.4957,
           "DMU 0917"
          ],
          [
           26.5118,
           "DMU 0918"
          ],
          [
           44.4482,
           "DMU 0919"
          ],
          [
           27.5838,
           "DMU 0920"
          ],
          [
           44.8134,
           "DMU 0921"
          ],
          [
           14.6308,
           "DMU 0923"
          ],
          [
           54.0237,
           "DMU 0925"
          ],
          [
           33.6548,
           "DMU 0926"
          ],
          [
           39.0756,
           "DMU 0927"
          ],
          [
           44.8705,
           "DMU 0928"
          ],
          [
           21.8631,
           "DMU 0929"
          ],
          [
           58.7901,
           "DMU 0931"
          ],
          [
           30.8547,
           "DMU 0933"
          ],
          [
           29.2842,
           "DMU 0934"
          ],
          [
           27.6676,
           "DMU 0936"
          ],
          [
           31.8225,
           "DMU 0939"
          ],
          [
           30.1342,
           "DMU 0940"
          ],
          [
           32.8855,
           "DMU 0941"
          ],
          [
           31.9252,
           "DMU 0942"
          ],
          [
           25.5956,
           "DMU 0944"
          ],
          [
           31.6553,
           "DMU 0945"
          ],
          [
           28.8204,
           "DMU 0946"
          ],
          [
           26.8428,
           "DMU 0947"
          ],
          [
           31.3254,
           "DMU 0948"
          ],
          [
           32.5422,
           "DMU 0949"
          ],
          [
           37.9595,
           "DMU 0951"
          ],
          [
           30.5139,
           "DMU 0952"
          ],
          [
           29.6952,
           "DMU 0953"
          ],
          [
           27.4079,
           "DMU 0954"
          ],
          [
           34.8516,
           "DMU 0955"
          ],
          [
           54.0348,
           "DMU 0956"
          ],
          [
           27.8062,
           "DMU 0960"
          ],
          [
           29.184,
           "DMU 0963"
          ],
          [
           28.0628,
           "DMU 0965"
          ],
          [
           37.2915,
           "DMU 0966"
          ],
          [
           44.9435,
           "DMU 0967"
          ],
          [
           31.2402,
           "DMU 0971"
          ],
          [
           13.5233,
           "DMU 0972"
          ],
          [
           28.0742,
           "DMU 0973"
          ],
          [
           22.2338,
           "DMU 0974"
          ],
          [
           29.2512,
           "DMU 0977"
          ],
          [
           43.04,
           "DMU 0979"
          ],
          [
           28.7517,
           "DMU 0980"
          ],
          [
           34.4219,
           "DMU 0981"
          ],
          [
           28.9117,
           "DMU 0982"
          ],
          [
           27.9187,
           "DMU 0984"
          ],
          [
           26.1798,
           "DMU 0985"
          ],
          [
           29.7269,
           "DMU 0986"
          ],
          [
           31.9928,
           "DMU 0987"
          ],
          [
           41.9155,
           "DMU 0988"
          ],
          [
           30.8579,
           "DMU 0990"
          ],
          [
           35.6738,
           "DMU 0991"
          ],
          [
           30.0608,
           "DMU 0992"
          ],
          [
           24.8889,
           "DMU 0994"
          ],
          [
           24.8233,
           "DMU 0995"
          ],
          [
           35.9668,
           "DMU 0996"
          ],
          [
           32.0483,
           "DMU 0998"
          ],
          [
           57.1675,
           "DMU 1000"
          ],
          [
           34.4783,
           "DMU 1001"
          ],
          [
           27.0815,
           "DMU 1002"
          ],
          [
           28.8761,
           "DMU 1003"
          ],
          [
           55.0953,
           "DMU 1004"
          ],
          [
           33.7923,
           "DMU 1006"
          ],
          [
           18.8348,
           "DMU 1007"
          ],
          [
           33.5338,
           "DMU 1008"
          ],
          [
           33.26,
           "DMU 1009"
          ],
          [
           34.7163,
           "DMU 1010"
          ],
          [
           49.1055,
           "DMU 1011"
          ],
          [
           42.2608,
           "DMU 1012"
          ],
          [
           25.5813,
           "DMU 1013"
          ],
          [
           41.3321,
           "DMU 1014"
          ],
          [
           28.8652,
           "DMU 1015"
          ],
          [
           23.6768,
           "DMU 1017"
          ],
          [
           30.068,
           "DMU 1018"
          ],
          [
           33.5569,
           "DMU 1019"
          ],
          [
           25.9427,
           "DMU 1020"
          ],
          [
           54.4514,
           "DMU 1021"
          ],
          [
           17.557,
           "DMU 1022"
          ],
          [
           42.0342,
           "DMU 1023"
          ],
          [
           50.4892,
           "DMU 1024"
          ],
          [
           46.4223,
           "DMU 1025"
          ],
          [
           34.1879,
           "DMU 1026"
          ],
          [
           52.9422,
           "DMU 1027"
          ],
          [
           42.1752,
           "DMU 1028"
          ],
          [
           31.7157,
           "DMU 1029"
          ],
          [
           30.3492,
           "DMU 1030"
          ],
          [
           32.8891,
           "DMU 1031"
          ],
          [
           31.9525,
           "DMU 1032"
          ],
          [
           28.5634,
           "DMU 1033"
          ],
          [
           62.6862,
           "DMU 1034"
          ],
          [
           44.3906,
           "DMU 1035"
          ],
          [
           43.802,
           "DMU 1036"
          ],
          [
           30.8809,
           "DMU 1037"
          ],
          [
           30.9007,
           "DMU 1038"
          ],
          [
           45.9823,
           "DMU 1039"
          ],
          [
           40.5921,
           "DMU 1040"
          ],
          [
           56.4497,
           "DMU 1042"
          ],
          [
           48.1001,
           "DMU 1043"
          ],
          [
           12.6199,
           "DMU 1044"
          ],
          [
           44.2116,
           "DMU 1045"
          ],
          [
           48.3026,
           "DMU 1046"
          ],
          [
           26.6088,
           "DMU 1047"
          ],
          [
           40.7166,
           "DMU 1048"
          ],
          [
           48.2904,
           "DMU 1049"
          ],
          [
           28.8172,
           "DMU 1050"
          ],
          [
           31.3062,
           "DMU 1051"
          ],
          [
           42.8754,
           "DMU 1052"
          ],
          [
           53.9301,
           "DMU 1053"
          ],
          [
           43.4322,
           "DMU 1054"
          ],
          [
           41.8171,
           "DMU 1056"
          ],
          [
           36.9267,
           "DMU 1057"
          ],
          [
           43.8911,
           "DMU 1061"
          ],
          [
           35.0035,
           "DMU 1062"
          ],
          [
           36.8659,
           "DMU 1064"
          ],
          [
           15.3535,
           "DMU 1065"
          ],
          [
           26.9871,
           "DMU 1066"
          ],
          [
           36.4802,
           "DMU 1067"
          ],
          [
           39.4366,
           "DMU 1069"
          ],
          [
           39.0542,
           "DMU 1070"
          ],
          [
           35.9726,
           "DMU 1072"
          ],
          [
           35.1832,
           "DMU 1073"
          ],
          [
           35.5775,
           "DMU 1078"
          ],
          [
           30.7485,
           "DMU 1079"
          ],
          [
           35.174,
           "DMU 1080"
          ],
          [
           42.1219,
           "DMU 1081"
          ],
          [
           37.4978,
           "DMU 1082"
          ],
          [
           37.9712,
           "DMU 1085"
          ],
          [
           15.3942,
           "DMU 1086"
          ],
          [
           32.8341,
           "DMU 1087"
          ],
          [
           44.7435,
           "DMU 1090"
          ],
          [
           34.7694,
           "DMU 1091"
          ],
          [
           26.4999,
           "DMU 1093"
          ],
          [
           21.76,
           "DMU 1094"
          ],
          [
           32.1893,
           "DMU 1098"
          ],
          [
           45.0114,
           "DMU 1099"
          ],
          [
           30.3896,
           "DMU 1100"
          ],
          [
           38.0427,
           "DMU 1101"
          ],
          [
           27.2802,
           "DMU 1102"
          ],
          [
           44.5701,
           "DMU 1103"
          ],
          [
           10.4933,
           "DMU 1104"
          ],
          [
           53.3825,
           "DMU 1105"
          ],
          [
           29.7819,
           "DMU 1106"
          ],
          [
           28.5725,
           "DMU 1107"
          ],
          [
           50.7828,
           "DMU 1108"
          ],
          [
           34.0966,
           "DMU 1109"
          ],
          [
           26.6323,
           "DMU 1110"
          ],
          [
           30.9912,
           "DMU 1111"
          ],
          [
           55.9482,
           "DMU 1112"
          ],
          [
           32.412,
           "DMU 1114"
          ],
          [
           30.4183,
           "DMU 1115"
          ],
          [
           36.5117,
           "DMU 1116"
          ],
          [
           30.6976,
           "DMU 1117"
          ],
          [
           34.5092,
           "DMU 1118"
          ],
          [
           21.3968,
           "DMU 1119"
          ],
          [
           32.2313,
           "DMU 1120"
          ],
          [
           54.5353,
           "DMU 1121"
          ],
          [
           34.5984,
           "DMU 1122"
          ],
          [
           22.7509,
           "DMU 1123"
          ],
          [
           35.1294,
           "DMU 1124"
          ],
          [
           36.5565,
           "DMU 1125"
          ],
          [
           61.0379,
           "DMU 1126"
          ],
          [
           52.8245,
           "DMU 1127"
          ],
          [
           32.6314,
           "DMU 1128"
          ],
          [
           40.8249,
           "DMU 1129"
          ],
          [
           35.9312,
           "DMU 1130"
          ],
          [
           33.3789,
           "DMU 1132"
          ],
          [
           29.9905,
           "DMU 1136"
          ],
          [
           35.8131,
           "DMU 1138"
          ],
          [
           31.0447,
           "DMU 1139"
          ],
          [
           22.3995,
           "DMU 1140"
          ],
          [
           27.4148,
           "DMU 1141"
          ],
          [
           31.8199,
           "DMU 1142"
          ],
          [
           29.2666,
           "DMU 1143"
          ],
          [
           38.968,
           "DMU 1144"
          ],
          [
           32.5281,
           "DMU 1145"
          ],
          [
           40.1467,
           "DMU 1146"
          ],
          [
           30.7847,
           "DMU 1147"
          ],
          [
           23.2063,
           "DMU 1148"
          ],
          [
           34.4073,
           "DMU 1149"
          ],
          [
           34.3275,
           "DMU 1150"
          ],
          [
           23.3543,
           "DMU 1151"
          ],
          [
           35.6192,
           "DMU 1152"
          ],
          [
           32.5744,
           "DMU 1153"
          ],
          [
           16.5067,
           "DMU 1154"
          ],
          [
           46.1387,
           "DMU 1156"
          ],
          [
           31.2889,
           "DMU 1157"
          ],
          [
           53.4139,
           "DMU 1158"
          ],
          [
           55.2036,
           "DMU 1160"
          ],
          [
           39.7746,
           "DMU 1161"
          ],
          [
           55.356,
           "DMU 1162"
          ],
          [
           17.7249,
           "DMU 1164"
          ],
          [
           44.3448,
           "DMU 1166"
          ],
          [
           35.7475,
           "DMU 1167"
          ],
          [
           53.1507,
           "DMU 1169"
          ],
          [
           49.3304,
           "DMU 1171"
          ],
          [
           13.5484,
           "DMU 1172"
          ],
          [
           52.0515,
           "DMU 1173"
          ],
          [
           11.6716,
           "DMU 1174"
          ],
          [
           49.1155,
           "DMU 1175"
          ],
          [
           11.5495,
           "DMU 1176"
          ],
          [
           45.5169,
           "DMU 1177"
          ],
          [
           53.2298,
           "DMU 1180"
          ],
          [
           12.9815,
           "DMU 1181"
          ],
          [
           51.6385,
           "DMU 1182"
          ],
          [
           48.3675,
           "DMU 1184"
          ],
          [
           41.7137,
           "DMU 1186"
          ],
          [
           47.2978,
           "DMU 1187"
          ],
          [
           33.5081,
           "DMU 1189"
          ],
          [
           27.9347,
           "DMU 1195"
          ],
          [
           34.5881,
           "DMU 1196"
          ],
          [
           55.9818,
           "DMU 1198"
          ],
          [
           30.5064,
           "DMU 1199"
          ],
          [
           47.7588,
           "DMU 1200"
          ],
          [
           26.8864,
           "DMU 1201"
          ],
          [
           18.8773,
           "DMU 1204"
          ],
          [
           22.8218,
           "DMU 1205"
          ],
          [
           37.591,
           "DMU 1206"
          ],
          [
           27.5352,
           "DMU 1207"
          ],
          [
           46.8841,
           "DMU 1208"
          ],
          [
           19.8058,
           "DMU 1209"
          ],
          [
           45.9712,
           "DMU 1210"
          ],
          [
           59.3712,
           "DMU 1212"
          ],
          [
           53.5902,
           "DMU 1213"
          ],
          [
           30.6196,
           "DMU 1215"
          ],
          [
           54.3963,
           "DMU 1216"
          ],
          [
           29.229,
           "DMU 1217"
          ],
          [
           42.986,
           "DMU 1218"
          ],
          [
           57.0732,
           "DMU 1220"
          ],
          [
           29.7445,
           "DMU 1221"
          ],
          [
           53.1018,
           "DMU 1222"
          ],
          [
           42.9354,
           "DMU 1223"
          ],
          [
           54.0083,
           "DMU 1224"
          ],
          [
           42.1116,
           "DMU 1226"
          ],
          [
           30.03,
           "DMU 1227"
          ],
          [
           48.4549,
           "DMU 1228"
          ],
          [
           31.866,
           "DMU 1229"
          ],
          [
           39.5965,
           "DMU 1230"
          ],
          [
           54.7209,
           "DMU 1232"
          ],
          [
           53.0414,
           "DMU 1233"
          ],
          [
           22.2439,
           "DMU 1234"
          ],
          [
           29.9614,
           "DMU 1235"
          ],
          [
           30.757,
           "DMU 1236"
          ],
          [
           51.8585,
           "DMU 1237"
          ],
          [
           36.2138,
           "DMU 1238"
          ],
          [
           54.8141,
           "DMU 1239"
          ],
          [
           33.7381,
           "DMU 1240"
          ],
          [
           54.2732,
           "DMU 1242"
          ],
          [
           47.3151,
           "DMU 1243"
          ],
          [
           54.2655,
           "DMU 1244"
          ],
          [
           47.7364,
           "DMU 1245"
          ],
          [
           14.4462,
           "DMU 1246"
          ],
          [
           48.86,
           "DMU 1247"
          ],
          [
           45.2807,
           "DMU 1248"
          ],
          [
           18.5304,
           "DMU 1249"
          ],
          [
           37.4454,
           "DMU 1250"
          ],
          [
           30.4183,
           "DMU 1253"
          ],
          [
           48.8539,
           "DMU 1254"
          ],
          [
           11.4221,
           "DMU 1255"
          ],
          [
           24.6722,
           "DMU 1258"
          ],
          [
           31.2431,
           "DMU 1259"
          ],
          [
           42.263,
           "DMU 1260"
          ],
          [
           36.9138,
           "DMU 1261"
          ],
          [
           27.7064,
           "DMU 1262"
          ],
          [
           22.0233,
           "DMU 1263"
          ],
          [
           23.4545,
           "DMU 1264"
          ],
          [
           29.4249,
           "DMU 1265"
          ],
          [
           32.6824,
           "DMU 1266"
          ],
          [
           39.3598,
           "DMU 1267"
          ],
          [
           54.0242,
           "DMU 1268"
          ],
          [
           15.3794,
           "DMU 1269"
          ],
          [
           30.8238,
           "DMU 1270"
          ],
          [
           25.1895,
           "DMU 1271"
          ],
          [
           31.2137,
           "DMU 1272"
          ],
          [
           41.6727,
           "DMU 1273"
          ],
          [
           31.6319,
           "DMU 1274"
          ],
          [
           33.5613,
           "DMU 1275"
          ],
          [
           16.4997,
           "DMU 1277"
          ],
          [
           56.3171,
           "DMU 1281"
          ],
          [
           34.0982,
           "DMU 1282"
          ],
          [
           54.2163,
           "DMU 1283"
          ],
          [
           52.5586,
           "DMU 1284"
          ],
          [
           33.6329,
           "DMU 1286"
          ],
          [
           22.3537,
           "DMU 1287"
          ],
          [
           33.8224,
           "DMU 1288"
          ],
          [
           46.3515,
           "DMU 1289"
          ],
          [
           45.1458,
           "DMU 1290"
          ],
          [
           39.1156,
           "DMU 1291"
          ],
          [
           44.8627,
           "DMU 1292"
          ],
          [
           40.0459,
           "DMU 1293"
          ],
          [
           46.2616,
           "DMU 1294"
          ],
          [
           46.3938,
           "DMU 1296"
          ],
          [
           36.4269,
           "DMU 1297"
          ],
          [
           25.8436,
           "DMU 1298"
          ],
          [
           21.6851,
           "DMU 1299"
          ],
          [
           36.6687,
           "DMU 1300"
          ],
          [
           27.5882,
           "DMU 1301"
          ],
          [
           31.3355,
           "DMU 1303"
          ],
          [
           53.7391,
           "DMU 1305"
          ],
          [
           50.416,
           "DMU 1306"
          ],
          [
           34.3434,
           "DMU 1307"
          ],
          [
           30.7495,
           "DMU 1309"
          ],
          [
           45.0347,
           "DMU 1310"
          ],
          [
           29.0546,
           "DMU 1311"
          ],
          [
           25.0662,
           "DMU 1312"
          ],
          [
           12.4051,
           "DMU 1314"
          ],
          [
           32.7061,
           "DMU 1316"
          ],
          [
           29.0406,
           "DMU 1317"
          ],
          [
           29.0305,
           "DMU 1319"
          ],
          [
           22.0589,
           "DMU 1321"
          ],
          [
           30.7604,
           "DMU 1322"
          ],
          [
           29.2613,
           "DMU 1323"
          ],
          [
           22.1856,
           "DMU 1324"
          ],
          [
           48.657,
           "DMU 1325"
          ],
          [
           30,
           "DMU 1326"
          ],
          [
           29.0223,
           "DMU 1327"
          ],
          [
           30.7967,
           "DMU 1328"
          ],
          [
           29.0677,
           "DMU 1329"
          ],
          [
           29.0249,
           "DMU 1330"
          ],
          [
           29.0355,
           "DMU 1331"
          ],
          [
           38.0981,
           "DMU 1332"
          ],
          [
           50.7397,
           "DMU 1333"
          ],
          [
           29.0007,
           "DMU 1334"
          ],
          [
           46.9097,
           "DMU 1335"
          ],
          [
           50.6545,
           "DMU 1336"
          ],
          [
           29.054,
           "DMU 1337"
          ],
          [
           29.7288,
           "DMU 1338"
          ],
          [
           29.049,
           "DMU 1340"
          ],
          [
           29.0623,
           "DMU 1342"
          ],
          [
           41.4285,
           "DMU 1343"
          ],
          [
           12.3754,
           "DMU 1347"
          ],
          [
           30.6337,
           "DMU 1348"
          ],
          [
           17.8677,
           "DMU 1349"
          ],
          [
           36.1059,
           "DMU 1350"
          ],
          [
           29.3125,
           "DMU 1351"
          ],
          [
           14.6041,
           "DMU 1352"
          ],
          [
           42.2614,
           "DMU 1353"
          ],
          [
           29.0343,
           "DMU 1355"
          ],
          [
           29.0675,
           "DMU 1356"
          ],
          [
           30.8372,
           "DMU 1357"
          ],
          [
           30.3889,
           "DMU 1358"
          ],
          [
           53.8151,
           "DMU 1359"
          ],
          [
           38.4436,
           "DMU 1360"
          ],
          [
           39.4479,
           "DMU 1361"
          ],
          [
           20.0821,
           "DMU 1363"
          ],
          [
           54.1408,
           "DMU 1364"
          ],
          [
           29.0145,
           "DMU 1365"
          ],
          [
           27.1247,
           "DMU 1366"
          ],
          [
           35.142,
           "DMU 1367"
          ],
          [
           39.6683,
           "DMU 1368"
          ],
          [
           53.9887,
           "DMU 1369"
          ],
          [
           35.6879,
           "DMU 1370"
          ],
          [
           28.6666,
           "DMU 1371"
          ],
          [
           46.2101,
           "DMU 1372"
          ],
          [
           45.847,
           "DMU 1373"
          ],
          [
           37.7572,
           "DMU 1375"
          ],
          [
           27.241,
           "DMU 1376"
          ],
          [
           18.2876,
           "DMU 1377"
          ],
          [
           11.7762,
           "DMU 1378"
          ],
          [
           26.697,
           "DMU 1379"
          ],
          [
           31.1669,
           "DMU 1380"
          ],
          [
           48.5972,
           "DMU 1381"
          ],
          [
           25.9041,
           "DMU 1383"
          ],
          [
           29.3303,
           "DMU 1384"
          ],
          [
           24.2633,
           "DMU 1386"
          ],
          [
           14.5751,
           "DMU 1387"
          ],
          [
           27.0174,
           "DMU 1391"
          ],
          [
           57.5873,
           "DMU 1393"
          ],
          [
           47.0669,
           "DMU 1395"
          ],
          [
           32.7321,
           "DMU 1397"
          ],
          [
           39.1429,
           "DMU 1398"
          ],
          [
           39.2836,
           "DMU 1399"
          ],
          [
           42.1058,
           "DMU 1400"
          ],
          [
           11.3606,
           "DMU 1401"
          ],
          [
           19.5528,
           "DMU 1402"
          ],
          [
           16.3893,
           "DMU 1403"
          ],
          [
           41.1129,
           "DMU 1404"
          ],
          [
           31.9422,
           "DMU 1405"
          ],
          [
           46.0106,
           "DMU 1406"
          ],
          [
           57.3636,
           "DMU 1407"
          ],
          [
           44.9157,
           "DMU 1408"
          ],
          [
           61.2822,
           "DMU 1409"
          ],
          [
           54.2101,
           "DMU 1411"
          ],
          [
           32.1843,
           "DMU 1412"
          ],
          [
           37.6005,
           "DMU 1413"
          ],
          [
           42.0833,
           "DMU 1418"
          ],
          [
           47.7319,
           "DMU 1420"
          ],
          [
           34.1198,
           "DMU 1422"
          ],
          [
           15.4603,
           "DMU 1424"
          ],
          [
           44.209,
           "DMU 1426"
          ],
          [
           36.5836,
           "DMU 1429"
          ],
          [
           25.5733,
           "DMU 1430"
          ],
          [
           38.3963,
           "DMU 1431"
          ],
          [
           30.1349,
           "DMU 1432"
          ],
          [
           35.7869,
           "DMU 1434"
          ],
          [
           39.7124,
           "DMU 1436"
          ],
          [
           40.7885,
           "DMU 1437"
          ],
          [
           38.1598,
           "DMU 1438"
          ],
          [
           43.9382,
           "DMU 1439"
          ],
          [
           36.9136,
           "DMU 1440"
          ],
          [
           40.8976,
           "DMU 1441"
          ],
          [
           37.0045,
           "DMU 1442"
          ],
          [
           38.4674,
           "DMU 1443"
          ],
          [
           38.2372,
           "DMU 1444"
          ],
          [
           38.4989,
           "DMU 1445"
          ],
          [
           36.6683,
           "DMU 1446"
          ],
          [
           39.5029,
           "DMU 1447"
          ],
          [
           16.5264,
           "DMU 1448"
          ],
          [
           45.3019,
           "DMU 1450"
          ],
          [
           30.7952,
           "DMU 1453"
          ],
          [
           11.6708,
           "DMU 1455"
          ],
          [
           33.5516,
           "DMU 1458"
          ],
          [
           25.7858,
           "DMU 1459"
          ],
          [
           25.7606,
           "DMU 1460"
          ],
          [
           28.0032,
           "DMU 1461"
          ],
          [
           29.1096,
           "DMU 1462"
          ],
          [
           43.7177,
           "DMU 1464"
          ],
          [
           41.3097,
           "DMU 1465"
          ],
          [
           50.867,
           "DMU 1467"
          ],
          [
           49.9711,
           "DMU 1468"
          ],
          [
           20.9038,
           "DMU 1469"
          ],
          [
           45.5937,
           "DMU 1470"
          ],
          [
           47.205,
           "DMU 1471"
          ],
          [
           48.4,
           "DMU 1472"
          ],
          [
           29.646,
           "DMU 1473"
          ],
          [
           52.5814,
           "DMU 1474"
          ],
          [
           15.468,
           "DMU 1475"
          ],
          [
           31.4308,
           "DMU 1476"
          ],
          [
           48.4609,
           "DMU 1477"
          ],
          [
           43.5327,
           "DMU 1478"
          ],
          [
           63.6499,
           "DMU 1479"
          ],
          [
           45.7044,
           "DMU 1481"
          ],
          [
           39.8395,
           "DMU 1485"
          ],
          [
           40.3928,
           "DMU 1486"
          ],
          [
           53.7656,
           "DMU 1489"
          ],
          [
           28.5407,
           "DMU 1490"
          ],
          [
           43.6734,
           "DMU 1493"
          ],
          [
           43.6015,
           "DMU 1494"
          ],
          [
           43.8935,
           "DMU 1495"
          ],
          [
           31.8952,
           "DMU 1496"
          ],
          [
           43.7288,
           "DMU 1497"
          ],
          [
           33.1706,
           "DMU 1498"
          ],
          [
           59.7818,
           "DMU 1499"
          ],
          [
           29.8246,
           "DMU 1501"
          ],
          [
           28.3698,
           "DMU 1502"
          ],
          [
           44.3113,
           "DMU 1503"
          ],
          [
           37.4233,
           "DMU 1504"
          ],
          [
           36.8301,
           "DMU 1506"
          ],
          [
           30.749,
           "DMU 1507"
          ],
          [
           38.5007,
           "DMU 1508"
          ],
          [
           34.2676,
           "DMU 1510"
          ],
          [
           40.7229,
           "DMU 1511"
          ],
          [
           12.1652,
           "DMU 1514"
          ],
          [
           46.7223,
           "DMU 1515"
          ],
          [
           12.4741,
           "DMU 1516"
          ],
          [
           26.0161,
           "DMU 1519"
          ],
          [
           30.5677,
           "DMU 1522"
          ],
          [
           42.1704,
           "DMU 1523"
          ],
          [
           57.8809,
           "DMU 1524"
          ],
          [
           62.0124,
           "DMU 1526"
          ],
          [
           50.1993,
           "DMU 1527"
          ],
          [
           39.7459,
           "DMU 1528"
          ],
          [
           28.0825,
           "DMU 1530"
          ],
          [
           55.5854,
           "DMU 1531"
          ],
          [
           29.7347,
           "DMU 1532"
          ],
          [
           57.2177,
           "DMU 1533"
          ],
          [
           42.2748,
           "DMU 1534"
          ],
          [
           19.9777,
           "DMU 1535"
          ],
          [
           34.8215,
           "DMU 1536"
          ],
          [
           28.2022,
           "DMU 1537"
          ],
          [
           29.2765,
           "DMU 1538"
          ],
          [
           48.9988,
           "DMU 1539"
          ],
          [
           47.5306,
           "DMU 1541"
          ],
          [
           45.7681,
           "DMU 1542"
          ],
          [
           30.2734,
           "DMU 1543"
          ],
          [
           24.7796,
           "DMU 1544"
          ],
          [
           58.2923,
           "DMU 1545"
          ],
          [
           21.1832,
           "DMU 1546"
          ],
          [
           53.2499,
           "DMU 1547"
          ],
          [
           54.053,
           "DMU 1548"
          ],
          [
           52.1628,
           "DMU 1549"
          ],
          [
           57.0136,
           "DMU 1551"
          ],
          [
           34.2728,
           "DMU 1552"
          ],
          [
           21.7967,
           "DMU 1553"
          ],
          [
           38.7206,
           "DMU 1554"
          ],
          [
           53.4854,
           "DMU 1555"
          ],
          [
           26.5715,
           "DMU 1556"
          ],
          [
           48.8123,
           "DMU 1559"
          ],
          [
           20.1408,
           "DMU 1561"
          ],
          [
           24.5354,
           "DMU 1562"
          ],
          [
           17.7316,
           "DMU 1565"
          ],
          [
           32.8288,
           "DMU 1566"
          ],
          [
           51.8999,
           "DMU 1567"
          ],
          [
           50.8063,
           "DMU 1568"
          ],
          [
           49.1533,
           "DMU 1569"
          ],
          [
           64.3715,
           "DMU 1570"
          ],
          [
           27.9072,
           "DMU 1571"
          ],
          [
           35.3028,
           "DMU 1573"
          ],
          [
           33.403,
           "DMU 1574"
          ],
          [
           51.4213,
           "DMU 1576"
          ],
          [
           20.6852,
           "DMU 1577"
          ],
          [
           27.9639,
           "DMU 1579"
          ],
          [
           16.1844,
           "DMU 1580"
          ],
          [
           19.3244,
           "DMU 1581"
          ],
          [
           29.9943,
           "DMU 1582"
          ],
          [
           54.5826,
           "DMU 1583"
          ],
          [
           51.037,
           "DMU 1584"
          ],
          [
           53.4377,
           "DMU 1585"
          ],
          [
           42.4186,
           "DMU 1586"
          ],
          [
           32.3718,
           "DMU 1588"
          ],
          [
           10.5902,
           "DMU 1589"
          ],
          [
           23.8674,
           "DMU 1590"
          ],
          [
           25.895,
           "DMU 1591"
          ],
          [
           29.5365,
           "DMU 1592"
          ],
          [
           62.5563,
           "DMU 1593"
          ],
          [
           13.6458,
           "DMU 1594"
          ],
          [
           45.0302,
           "DMU 1596"
          ],
          [
           33.5411,
           "DMU 1597"
          ],
          [
           15.1297,
           "DMU 1599"
          ],
          [
           30.4844,
           "DMU 1601"
          ],
          [
           48.2194,
           "DMU 1602"
          ],
          [
           15.8977,
           "DMU 1603"
          ],
          [
           55.8997,
           "DMU 1604"
          ],
          [
           24.2736,
           "DMU 1607"
          ],
          [
           36.8064,
           "DMU 1608"
          ],
          [
           51.3921,
           "DMU 1611"
          ],
          [
           11.1024,
           "DMU 1612"
          ],
          [
           29.5501,
           "DMU 1613"
          ],
          [
           28.6683,
           "DMU 1614"
          ],
          [
           49.2094,
           "DMU 1615"
          ],
          [
           21.6194,
           "DMU 1617"
          ],
          [
           44.5936,
           "DMU 1618"
          ],
          [
           28.7797,
           "DMU 1619"
          ],
          [
           24.0441,
           "DMU 1620"
          ],
          [
           36.0052,
           "DMU 1621"
          ],
          [
           19.219,
           "DMU 1622"
          ],
          [
           32.2444,
           "DMU 1623"
          ],
          [
           27.0641,
           "DMU 1624"
          ],
          [
           29.3343,
           "DMU 1625"
          ],
          [
           21.663,
           "DMU 1626"
          ],
          [
           26.1338,
           "DMU 1628"
          ],
          [
           14.5073,
           "DMU 1629"
          ],
          [
           55.3266,
           "DMU 1630"
          ],
          [
           22.0411,
           "DMU 1632"
          ],
          [
           53.8436,
           "DMU 1634"
          ],
          [
           47.8209,
           "DMU 1635"
          ],
          [
           38.5303,
           "DMU 1636"
          ],
          [
           48.5847,
           "DMU 1637"
          ],
          [
           28.3775,
           "DMU 1638"
          ],
          [
           33.3999,
           "DMU 1639"
          ],
          [
           28.7228,
           "DMU 1640"
          ],
          [
           28.7539,
           "DMU 1641"
          ],
          [
           28.2737,
           "DMU 1642"
          ],
          [
           30.9298,
           "DMU 1643"
          ],
          [
           28.8526,
           "DMU 1644"
          ],
          [
           35.1799,
           "DMU 1645"
          ],
          [
           28.8728,
           "DMU 1646"
          ],
          [
           28.7548,
           "DMU 1647"
          ],
          [
           63.1859,
           "DMU 1648"
          ],
          [
           50.1588,
           "DMU 1649"
          ],
          [
           29.5687,
           "DMU 1650"
          ],
          [
           29.673,
           "DMU 1651"
          ],
          [
           28.8026,
           "DMU 1652"
          ],
          [
           47.6877,
           "DMU 1653"
          ],
          [
           29.7371,
           "DMU 1654"
          ],
          [
           51.8472,
           "DMU 1655"
          ],
          [
           21.104,
           "DMU 1656"
          ],
          [
           29.914,
           "DMU 1657"
          ],
          [
           21.4584,
           "DMU 1658"
          ],
          [
           39.488,
           "DMU 1659"
          ],
          [
           41.1467,
           "DMU 1660"
          ],
          [
           36.4581,
           "DMU 1661"
          ],
          [
           36.1113,
           "DMU 1663"
          ],
          [
           41.8441,
           "DMU 1664"
          ],
          [
           38.053,
           "DMU 1666"
          ],
          [
           12.9555,
           "DMU 1667"
          ],
          [
           32.9211,
           "DMU 1668"
          ],
          [
           47.3714,
           "DMU 1669"
          ],
          [
           53.2139,
           "DMU 1670"
          ],
          [
           29.6629,
           "DMU 1671"
          ],
          [
           62.2797,
           "DMU 1672"
          ],
          [
           48.872,
           "DMU 1673"
          ],
          [
           35.8484,
           "DMU 1674"
          ],
          [
           16.9337,
           "DMU 1675"
          ],
          [
           52.0103,
           "DMU 1678"
          ],
          [
           35.7899,
           "DMU 1680"
          ],
          [
           58.5177,
           "DMU 1681"
          ],
          [
           43.2881,
           "DMU 1682"
          ],
          [
           32.1576,
           "DMU 1685"
          ],
          [
           31.1618,
           "DMU 1686"
          ],
          [
           28.9374,
           "DMU 1687"
          ],
          [
           36.3859,
           "DMU 1688"
          ],
          [
           30.7024,
           "DMU 1689"
          ],
          [
           29.5065,
           "DMU 1690"
          ],
          [
           40.1775,
           "DMU 1691"
          ],
          [
           32.1281,
           "DMU 1692"
          ],
          [
           38.5086,
           "DMU 1694"
          ],
          [
           31.7849,
           "DMU 1696"
          ],
          [
           30.6921,
           "DMU 1697"
          ],
          [
           48.9918,
           "DMU 1699"
          ],
          [
           29.4721,
           "DMU 1700"
          ],
          [
           33.8864,
           "DMU 1701"
          ],
          [
           30.1937,
           "DMU 1702"
          ],
          [
           49.8281,
           "DMU 1703"
          ],
          [
           44.8334,
           "DMU 1704"
          ],
          [
           47.9065,
           "DMU 1705"
          ],
          [
           57.8587,
           "DMU 1706"
          ],
          [
           36.536,
           "DMU 1709"
          ],
          [
           33.6902,
           "DMU 1710"
          ],
          [
           35.3626,
           "DMU 1711"
          ],
          [
           54.4756,
           "DMU 1712"
          ],
          [
           25.3939,
           "DMU 1713"
          ],
          [
           25.2768,
           "DMU 1714"
          ],
          [
           59.673,
           "DMU 1715"
          ],
          [
           30.5639,
           "DMU 1717"
          ],
          [
           11.3567,
           "DMU 1718"
          ],
          [
           15.6171,
           "DMU 1719"
          ],
          [
           46.2505,
           "DMU 1720"
          ],
          [
           31.7593,
           "DMU 1721"
          ],
          [
           31.8574,
           "DMU 1722"
          ],
          [
           55.3048,
           "DMU 1725"
          ],
          [
           23.0373,
           "DMU 1727"
          ],
          [
           22.3784,
           "DMU 1728"
          ],
          [
           31.7345,
           "DMU 1729"
          ],
          [
           33.011,
           "DMU 1730"
          ],
          [
           37.6825,
           "DMU 1731"
          ],
          [
           34.5489,
           "DMU 1732"
          ]
         ],
         "hovertemplate": "Diff_Perc < 10=False<br>Efficiency_Scores_Basic=%{x}<br>Efficiency_Scores_with_ML=%{y}<br>Diff_Perc=%{customdata[0]}<br>index=%{customdata[1]}<extra></extra>",
         "legendgroup": "False",
         "line": {
          "color": "lightgreen",
          "width": 3
         },
         "marker": {
          "color": "red",
          "symbol": "circle"
         },
         "mode": "markers",
         "name": "False",
         "showlegend": true,
         "type": "scattergl",
         "x": [
          0.7289,
          0.3198,
          0.7455,
          0.7975,
          0.3022,
          0.3577,
          0.3994,
          0.7168,
          0.7709,
          0.6735,
          0.7922,
          0.7172,
          0.7017,
          0.737,
          0.7216,
          0.763,
          0.7154,
          0.743,
          0.7377,
          0.9114,
          0.7589,
          0.7257,
          0.9812,
          0.7027,
          0.7117,
          0.7546,
          0.7356,
          0.7595,
          0.7377,
          0.7221,
          0.7359,
          0.7109,
          0.7609,
          0.7426,
          0.7342,
          0.7647,
          0.7813,
          0.8091,
          0.8369,
          0.543,
          0.7943,
          0.8035,
          0.7408,
          0.7148,
          0.7494,
          0.7064,
          0.7349,
          0.7482,
          0.7361,
          0.7701,
          0.7436,
          0.7721,
          0.5317,
          0.7398,
          0.6135,
          0.7313,
          0.9741,
          0.2747,
          0.7206,
          0.7602,
          0.7158,
          0.7332,
          0.8437,
          0.749,
          0.7568,
          0.5692,
          0.709,
          0.7217,
          0.2689,
          0.3104,
          0.4923,
          0.7479,
          0.2553,
          0.4012,
          0.4457,
          0.4178,
          0.3946,
          0.6136,
          0.3677,
          0.3212,
          0.2683,
          0.3532,
          0.5266,
          0.3657,
          0.3896,
          0.4509,
          0.2959,
          0.9464,
          0.3353,
          0.6074,
          0.2482,
          0.3506,
          0.3264,
          0.75,
          0.3548,
          0.3207,
          0.4666,
          0.4926,
          1,
          0.2829,
          0.5181,
          0.3879,
          0.3121,
          0.2755,
          0.3954,
          0.2537,
          0.3715,
          0.2663,
          0.5085,
          0.4785,
          0.4655,
          0.3693,
          0.4695,
          0.4231,
          0.5458,
          0.489,
          0.5301,
          0.2672,
          0.4823,
          0.342,
          0.2721,
          0.3308,
          0.2493,
          0.4691,
          0.302,
          0.5423,
          0.2497,
          0.3059,
          1,
          0.4534,
          0.2937,
          0.2642,
          0.3216,
          0.2928,
          0.3032,
          0.4814,
          0.4457,
          0.461,
          0.456,
          0.4227,
          0.2529,
          0.277,
          0.5129,
          0.4708,
          0.2792,
          0.4548,
          0.4892,
          0.4885,
          0.4871,
          0.3468,
          0.2493,
          0.4272,
          0.2491,
          0.3982,
          0.2627,
          0.4435,
          0.4563,
          0.4603,
          0.2846,
          0.3148,
          0.5655,
          0.4556,
          0.5575,
          0.6645,
          0.5272,
          0.4766,
          0.5121,
          0.2707,
          0.6095,
          0.4799,
          0.2671,
          0.4083,
          0.4691,
          0.4689,
          0.4768,
          0.2733,
          0.5209,
          0.4847,
          0.3942,
          0.4817,
          0.2705,
          0.6027,
          0.4836,
          0.4655,
          0.534,
          0.5318,
          0.3158,
          0.5783,
          0.5304,
          0.526,
          0.2998,
          0.2537,
          0.2979,
          0.4274,
          0.5205,
          0.4241,
          0.4674,
          0.4854,
          0.4576,
          0.2875,
          0.4514,
          0.319,
          0.5099,
          0.3329,
          0.365,
          0.3681,
          0.75,
          0.2763,
          0.4856,
          0.602,
          0.2765,
          0.2797,
          0.5398,
          0.3779,
          0.2591,
          0.3805,
          0.404,
          0.3306,
          0.4425,
          0.5051,
          0.3729,
          0.8092,
          0.3138,
          0.2796,
          0.4415,
          0.3463,
          0.3248,
          0.3434,
          0.4476,
          0.4492,
          0.5398,
          0.4739,
          0.7179,
          0.2864,
          0.7376,
          0.829,
          0.7334,
          0.2953,
          0.8028,
          0.2495,
          0.7314,
          0.8083,
          0.3819,
          0.7348,
          0.8465,
          0.7412,
          0.7293,
          0.7347,
          0.7581,
          0.2528,
          0.8029,
          0.81,
          0.4482,
          0.2677,
          0.3261,
          0.8079,
          0.725,
          0.9149,
          0.4853,
          0.7325,
          0.4717,
          0.7521,
          0.2697,
          0.3718,
          0.265,
          0.3945,
          0.3168,
          0.4233,
          0.4996,
          0.2676,
          0.8192,
          0.8384,
          0.3798,
          0.3247,
          0.3039,
          0.3894,
          0.38,
          0.4776,
          0.6664,
          0.4166,
          0.4427,
          0.4152,
          0.4331,
          0.3744,
          0.6552,
          0.4129,
          0.2678,
          0.4516,
          0.323,
          0.4205,
          0.2813,
          0.3043,
          0.5347,
          0.4645,
          0.3858,
          0.5917,
          0.3145,
          0.734,
          0.4312,
          0.3783,
          0.4142,
          0.728,
          0.8178,
          0.3612,
          0.4544,
          0.3186,
          0.312,
          0.4045,
          0.2813,
          0.3549,
          0.3996,
          0.3162,
          0.8466,
          0.43,
          0.8769,
          0.3758,
          0.5261,
          0.7556,
          0.92,
          0.7465,
          0.729,
          0.8077,
          0.8075,
          0.8074,
          0.8062,
          0.8041,
          0.7508,
          0.8156,
          0.8117,
          0.8079,
          0.8063,
          0.8074,
          0.801,
          0.8073,
          0.7178,
          0.7487,
          0.7463,
          0.5515,
          0.7176,
          0.7362,
          0.7589,
          0.7242,
          0.3534,
          0.742,
          0.7299,
          0.8031,
          0.7612,
          0.804,
          1,
          0.7826,
          0.7649,
          0.7376,
          0.3976,
          0.7065,
          0.7704,
          0.3025,
          0.6935,
          0.7445,
          0.7742,
          0.7096,
          0.7173,
          0.8685,
          0.4953,
          0.5924,
          0.732,
          0.7175,
          0.7389,
          0.7474,
          0.8734,
          0.8106,
          0.7607,
          0.7353,
          0.8308,
          0.8193,
          0.7495,
          0.557,
          0.7305,
          0.6495,
          0.6806,
          0.8814,
          0.7309,
          0.5111,
          0.7774,
          0.707,
          0.6669,
          0.7386,
          0.6738,
          0.6304,
          0.7322,
          0.7178,
          0.8536,
          0.6532,
          0.6854,
          0.4769,
          0.8706,
          0.7534,
          0.7395,
          0.672,
          0.4582,
          0.7461,
          0.7315,
          0.6261,
          0.8057,
          0.8123,
          0.8133,
          0.7258,
          0.737,
          0.6647,
          0.3243,
          0.4003,
          0.4475,
          0.7362,
          0.3111,
          0.7441,
          0.4135,
          0.3386,
          0.7352,
          0.2772,
          0.6821,
          0.7496,
          0.7329,
          0.7384,
          0.7478,
          0.3623,
          0.4332,
          0.3402,
          0.3617,
          0.4346,
          0.91,
          0.6811,
          0.7531,
          0.7593,
          0.8902,
          0.3413,
          0.4281,
          0.5724,
          0.732,
          0.2759,
          0.7551,
          0.7523,
          0.2545,
          0.4225,
          0.6567,
          0.3913,
          0.3851,
          0.7805,
          0.3401,
          0.8488,
          0.3085,
          0.8582,
          0.5288,
          0.7545,
          0.8375,
          0.3738,
          0.3828,
          0.3133,
          0.3334,
          0.7302,
          0.8575,
          0.2832,
          0.395,
          0.2971,
          0.349,
          0.421,
          0.5465,
          0.7417,
          0.3475,
          0.8715,
          0.3253,
          0.75,
          0.7355,
          0.2662,
          0.499,
          0.4269,
          0.4214,
          0.4028,
          0.2861,
          0.3129,
          0.5632,
          0.7568,
          0.5337,
          0.7645,
          0.5348,
          0.5316,
          0.4471,
          0.7684,
          0.3152,
          1,
          0.434,
          0.7413,
          0.4315,
          0.3563,
          0.8094,
          0.7473,
          0.4078,
          0.8561,
          0.5308,
          0.3937,
          0.7212,
          0.5992,
          0.5774,
          0.4309,
          0.3628,
          0.2476,
          0.7499,
          0.7763,
          0.3893,
          0.8563,
          0.7239,
          0.3838,
          0.3727,
          0.8883,
          0.7941,
          0.8768,
          0.447,
          0.7598,
          0.7482,
          0.6284,
          0.7605,
          0.2971,
          0.4147,
          0.5126,
          0.2615,
          0.7752,
          0.6291,
          0.5085,
          0.72,
          0.6041,
          0.7753,
          0.3439,
          0.3067,
          0.434,
          0.7386,
          0.5314,
          0.259,
          0.4931,
          0.3197,
          0.7706,
          0.3223,
          0.3849,
          0.3294,
          0.3056,
          0.4071,
          0.2658,
          0.3646,
          0.3363,
          0.4723,
          0.2593,
          0.253,
          0.3974,
          0.335,
          0.5595,
          0.2652,
          0.2854,
          0.6286,
          0.6619,
          0.3221,
          0.62,
          0.2659,
          0.45,
          0.5318,
          0.4748,
          0.8089,
          0.5116,
          0.8461,
          0.741,
          0.2727,
          0.4029,
          0.4367,
          0.4879,
          0.4193,
          0.8714,
          1,
          0.4329,
          0.602,
          0.3248,
          0.8992,
          0.7361,
          0.4256,
          0.9142,
          0.5636,
          0.7779,
          0.4348,
          0.5896,
          0.4099,
          0.7392,
          0.7151,
          0.746,
          0.4571,
          0.2711,
          0.7499,
          0.8202,
          0.4477,
          0.7461,
          0.4111,
          0.2637,
          1,
          0.4454,
          0.885,
          0.4182,
          0.7456,
          0.4765,
          0.3582,
          0.9524,
          0.2759,
          0.4543,
          0.6424,
          0.4521,
          0.5322,
          0.3429,
          0.5653,
          0.7836,
          0.9501,
          0.305,
          0.2881,
          0.9087,
          0.4929,
          0.3677,
          0.3537,
          0.4007,
          0.8944,
          0.3146,
          0.2669,
          0.3481,
          0.5066,
          0.3771,
          0.4004,
          0.7846,
          0.8334,
          0.5433,
          0.4833,
          0.2518,
          0.7869,
          0.5956,
          0.3015,
          1,
          0.5001,
          0.261,
          0.8405,
          0.5018,
          0.4201,
          0.9493,
          0.822,
          0.3162,
          0.3346,
          0.9192,
          0.349,
          0.562,
          0.6817,
          0.7723,
          0.6894,
          0.7209,
          0.7349,
          0.6904,
          0.4169,
          0.3269,
          0.4048,
          0.2626,
          0.483,
          0.7744,
          0.8536,
          0.4188,
          0.6178,
          0.5398,
          0.7339,
          0.7314,
          0.703,
          0.7659,
          0.334,
          0.6114,
          0.7651,
          0.6775,
          0.7421,
          0.71,
          0.3044,
          0.7107,
          0.7712,
          0.8512,
          0.7454,
          0.7329,
          0.705,
          0.6126,
          0.8903,
          0.7131,
          0.3144,
          0.4442,
          0.8522,
          0.4013,
          0.7554,
          0.2575,
          0.718,
          0.3435,
          0.7215,
          0.9122,
          0.7214,
          0.8025,
          0.7293,
          0.7129,
          0.6927,
          0.7378,
          0.7438,
          0.3878,
          0.755,
          0.826,
          0.7397,
          0.6744,
          0.6727,
          0.8028,
          0.7584,
          0.9435,
          0.7879,
          0.3156,
          0.3132,
          1,
          0.3361,
          0.2738,
          0.3499,
          0.7588,
          0.7853,
          0.4394,
          0.9314,
          0.318,
          0.7749,
          0.6861,
          0.2911,
          0.7364,
          0.748,
          0.3108,
          0.985,
          0.2695,
          0.7718,
          0.9071,
          1,
          0.789,
          0.5066,
          0.385,
          0.7482,
          0.7429,
          0.7795,
          0.327,
          0.707,
          0.601,
          0.4006,
          0.9585,
          0.7478,
          0.7471,
          0.8388,
          0.8582,
          0.5155,
          0.4293,
          0.2543,
          0.3988,
          0.4319,
          0.3033,
          0.8965,
          0.4303,
          0.3119,
          0.3242,
          0.3907,
          0.4839,
          0.452,
          0.9339,
          0.8464,
          0.9749,
          0.8159,
          0.8448,
          0.4389,
          0.7045,
          0.8392,
          0.8891,
          0.8826,
          0.8309,
          0.8185,
          0.8247,
          0.7537,
          0.8185,
          0.4999,
          0.8558,
          0.8566,
          0.2633,
          0.3313,
          0.4098,
          0.7605,
          0.6991,
          0.645,
          0.7723,
          0.9973,
          0.7487,
          0.8366,
          0.696,
          0.9759,
          0.5362,
          0.4776,
          0.7176,
          0.7054,
          0.7603,
          0.3369,
          0.6788,
          0.5145,
          0.51,
          0.7704,
          0.7327,
          0.3508,
          0.7342,
          0.798,
          0.3331,
          0.7438,
          0.49,
          0.6425,
          0.337,
          0.7801,
          0.8056,
          0.7351,
          0.9486,
          0.7661,
          0.7133,
          0.7962,
          0.7758,
          0.7372,
          0.7047,
          0.7539,
          0.332,
          0.6275,
          0.4014,
          0.718,
          0.7729,
          0.7626,
          0.5799,
          0.658,
          0.4486,
          0.7612,
          0.7901,
          0.4082,
          0.796,
          0.7736,
          0.5838,
          0.8293,
          0.4389,
          0.5467,
          1,
          0.3714,
          0.4991,
          0.2714,
          0.3995,
          0.4305,
          0.4755,
          0.4918,
          0.2573,
          0.4643,
          0.2519,
          0.4381,
          0.2515,
          0.5405,
          0.4763,
          0.2556,
          0.4604,
          0.4314,
          0.3816,
          0.4227,
          0.3349,
          0.3087,
          0.3407,
          0.5099,
          0.3204,
          0.426,
          0.3044,
          0.274,
          0.2922,
          0.8493,
          0.3074,
          0.4274,
          0.2777,
          0.4121,
          0.5526,
          0.4796,
          0.3212,
          0.4885,
          0.3146,
          0.7888,
          0.5189,
          0.7362,
          0.4732,
          0.3904,
          0.4839,
          0.9353,
          0.318,
          0.431,
          0.3267,
          0.8447,
          0.4917,
          0.474,
          0.7729,
          0.743,
          0.3206,
          0.4735,
          0.7894,
          0.4938,
          0.7809,
          0.487,
          1,
          0.4866,
          0.8698,
          0.261,
          0.4352,
          0.4078,
          0.2736,
          0.356,
          0.7399,
          0.4352,
          0.2512,
          0.2955,
          0.7528,
          0.942,
          0.8426,
          0.7106,
          0.637,
          0.2923,
          0.7143,
          0.7781,
          0.3663,
          0.4843,
          0.2646,
          0.7521,
          0.6801,
          0.7565,
          0.9183,
          0.7627,
          0.7914,
          0.5933,
          0.5098,
          0.7785,
          0.4862,
          0.4717,
          0.552,
          0.2866,
          0.7943,
          0.4144,
          0.4058,
          0.875,
          0.9563,
          0.8881,
          1,
          1,
          0.8349,
          0.6873,
          0.6381,
          0.8356,
          0.6884,
          0.3237,
          0.4817,
          1,
          0.3391,
          0.7515,
          1,
          0.7313,
          0.2959,
          0.3546,
          0.3851,
          0.7308,
          0.7305,
          0.2857,
          0.7497,
          0.7337,
          0.2913,
          0.4321,
          0.7298,
          0.7305,
          0.7481,
          0.7312,
          0.7305,
          0.7304,
          0.3596,
          0.4503,
          0.7304,
          0.4201,
          0.4495,
          0.731,
          0.7247,
          0.7309,
          0.7311,
          0.9152,
          0.2536,
          0.7521,
          0.576,
          0.8035,
          0.3153,
          0.2816,
          0.3856,
          0.7307,
          0.731,
          0.755,
          0.7364,
          0.8104,
          0.8611,
          0.8797,
          0.6111,
          0.4883,
          0.7304,
          0.7064,
          0.3833,
          0.3798,
          0.4841,
          0.3461,
          0.7262,
          0.4144,
          0.4111,
          0.6231,
          0.3058,
          0.5755,
          0.4841,
          0.3038,
          0.7536,
          0.433,
          0.3008,
          0.3154,
          0.2937,
          0.2606,
          0.341,
          0.5274,
          0.4211,
          0.3311,
          0.8534,
          0.8626,
          0.8473,
          0.2511,
          0.2765,
          0.3241,
          0.9025,
          0.3272,
          1,
          0.5235,
          0.9835,
          0.576,
          0.4862,
          0.3283,
          0.3862,
          0.9175,
          0.9434,
          0.3384,
          0.9545,
          0.9686,
          0.3508,
          1,
          0.8329,
          0.9196,
          0.8121,
          0.8696,
          0.3759,
          0.3605,
          0.8394,
          0.8379,
          0.8825,
          0.8398,
          0.864,
          0.8524,
          0.8331,
          0.8313,
          0.856,
          0.2666,
          0.896,
          0.7528,
          0.2519,
          0.7929,
          0.6884,
          0.6897,
          0.7154,
          0.7276,
          0.9711,
          0.7615,
          0.4544,
          0.4462,
          0.3151,
          0.41,
          0.8798,
          0.4314,
          0.7313,
          0.6303,
          0.2633,
          0.4119,
          1,
          0.9668,
          0.6139,
          0.4725,
          0.5183,
          0.7556,
          0.9709,
          0.7246,
          0.9695,
          0.9675,
          0.9734,
          0.3979,
          0.4047,
          0.3344,
          0.558,
          0.735,
          0.311,
          0.9695,
          0.3562,
          0.8363,
          0.7407,
          0.8632,
          0.3384,
          0.3754,
          0.2529,
          0.9144,
          0.2539,
          0.3013,
          0.3205,
          0.3847,
          0.529,
          0.5864,
          0.4468,
          0.3697,
          0.309,
          0.5009,
          0.3162,
          0.5243,
          0.3857,
          0.2783,
          0.3943,
          0.3105,
          0.315,
          0.4366,
          0.4246,
          0.4104,
          0.319,
          0.2954,
          0.5386,
          0.2822,
          0.4768,
          0.4846,
          0.4658,
          0.518,
          0.3388,
          0.2798,
          0.3631,
          0.4824,
          0.3032,
          0.4351,
          0.6108,
          0.2994,
          0.2709,
          0.3317,
          0.463,
          0.4555,
          0.4381,
          0.6248,
          0.3087,
          0.7898,
          0.3357,
          0.4584,
          0.6372,
          0.3089,
          0.2655,
          0.2754,
          0.3179,
          0.4913,
          0.4555,
          0.482,
          0.386,
          0.329,
          0.2489,
          0.2923,
          0.6891,
          0.7033,
          0.7498,
          0.2577,
          0.4049,
          0.3354,
          0.2906,
          0.3203,
          0.4298,
          0.2646,
          0.5057,
          0.67,
          0.3522,
          0.4581,
          0.251,
          0.7377,
          0.7261,
          0.4388,
          0.6412,
          0.9141,
          0.7276,
          0.6696,
          0.8312,
          0.3007,
          0.773,
          0.7049,
          0.7347,
          0.2983,
          0.6944,
          0.5733,
          0.5063,
          0.2972,
          0.5016,
          0.4282,
          0.8462,
          0.4343,
          0.7218,
          0.7905,
          0.7269,
          0.7271,
          0.7208,
          0.3219,
          0.7284,
          0.8149,
          0.7288,
          0.7273,
          0.6054,
          0.4505,
          0.7371,
          0.7388,
          0.7268,
          0.4253,
          0.7401,
          0.9332,
          0.3352,
          0.742,
          0.6407,
          0.8758,
          0.9107,
          0.8244,
          0.8714,
          0.9235,
          0.8566,
          0.8744,
          0.7841,
          0.4233,
          0.4792,
          0.3198,
          0.5943,
          0.8751,
          0.5753,
          0.2679,
          0.4639,
          0.3895,
          0.5366,
          0.834,
          0.3281,
          0.594,
          0.3132,
          0.3541,
          0.7478,
          0.7274,
          0.7719,
          0.7683,
          0.5226,
          0.3263,
          0.7495,
          0.4364,
          0.7308,
          0.338,
          0.3222,
          0.444,
          0.5716,
          0.4304,
          0.5282,
          0.3508,
          0.7907,
          0.8026,
          0.5091,
          0.2973,
          0.3107,
          0.557,
          0.7391,
          0.2497,
          0.2641,
          0.4144,
          0.3262,
          0.3267,
          0.498,
          0.8555,
          0.8275,
          0.3261,
          0.7856,
          0.3572,
          0.8085
         ],
         "xaxis": "x",
         "y": [
          0.5179,
          0.2336,
          0.5195,
          0.5246,
          0.2227,
          0.2227,
          0.2227,
          0.5161,
          0.5244,
          0.5094,
          0.5271,
          0.5165,
          0.5136,
          0.5196,
          0.5146,
          0.5222,
          0.5158,
          0.5203,
          0.5198,
          0.5409,
          0.5207,
          0.5167,
          0.5475,
          0.5144,
          0.5146,
          0.5208,
          0.5166,
          0.5228,
          0.5171,
          0.5161,
          0.5195,
          0.5154,
          0.5206,
          0.5185,
          0.5183,
          0.522,
          0.5218,
          0.5256,
          0.5269,
          0.3315,
          0.523,
          0.5228,
          0.5197,
          0.4576,
          0.5192,
          0.5144,
          0.5177,
          0.5186,
          0.5192,
          0.5237,
          0.5198,
          0.5209,
          0.4469,
          0.518,
          0.4988,
          0.5173,
          0.547,
          0.2225,
          0.5172,
          0.519,
          0.5147,
          0.5179,
          0.5246,
          0.5184,
          0.5225,
          0.4893,
          0.515,
          0.5169,
          0.222,
          0.2225,
          0.2551,
          0.5211,
          0.2217,
          0.223,
          0.223,
          0.2214,
          0.2226,
          0.394,
          0.2226,
          0.2224,
          0.2233,
          0.2231,
          0.2233,
          0.2225,
          0.2225,
          0.2237,
          0.2226,
          0.5315,
          0.2226,
          0.3404,
          0.2225,
          0.23,
          0.2226,
          0.283,
          0.2067,
          0.2226,
          0.2224,
          0.2228,
          0.7296,
          0.2225,
          0.2226,
          0.2225,
          0.2223,
          0.2222,
          0.2226,
          0.2223,
          0.2222,
          0.2223,
          0.2227,
          0.2226,
          0.2226,
          0.2128,
          0.2226,
          0.2226,
          0.2245,
          0.2226,
          0.2227,
          0.2228,
          0.2226,
          0.2227,
          0.2222,
          0.2297,
          0.2222,
          0.2226,
          0.2223,
          0.2227,
          0.2225,
          0.2226,
          0.5301,
          0.2226,
          0.2226,
          0.2225,
          0.222,
          0.2226,
          0.2226,
          0.2228,
          0.2224,
          0.2226,
          0.2227,
          0.2224,
          0.2226,
          0.2225,
          0.2226,
          0.2227,
          0.2239,
          0.2226,
          0.2211,
          0.2211,
          0.221,
          0.2226,
          0.2225,
          0.2226,
          0.2225,
          0.2219,
          0.2225,
          0.2226,
          0.2226,
          0.2226,
          0.2226,
          0.2226,
          0.2225,
          0.2221,
          0.2226,
          0.2244,
          0.2226,
          0.2228,
          0.2228,
          0.2225,
          0.3558,
          0.2227,
          0.2225,
          0.2188,
          0.2226,
          0.2226,
          0.2227,
          0.2226,
          0.2227,
          0.2226,
          0.2221,
          0.2226,
          0.2222,
          0.2227,
          0.2228,
          0.2226,
          0.3458,
          0.2226,
          0.2231,
          0.2244,
          0.2225,
          0.2225,
          0.2225,
          0.2223,
          0.2224,
          0.2224,
          0.2226,
          0.2221,
          0.222,
          0.2227,
          0.2222,
          0.2226,
          0.2189,
          0.2214,
          0.2246,
          0.2223,
          0.2221,
          0.2225,
          0.2825,
          0.2222,
          0.2228,
          0.2245,
          0.2225,
          0.2223,
          0.223,
          0.2229,
          0.2225,
          0.2221,
          0.2412,
          0.223,
          0.2227,
          0.2227,
          0.2238,
          0.525,
          0.2253,
          0.2227,
          0.2253,
          0.2303,
          0.2302,
          0.2249,
          0.2272,
          0.2227,
          0.2248,
          0.2228,
          0.4849,
          0.2226,
          0.5197,
          0.4475,
          0.5191,
          0.2225,
          0.4874,
          0.2222,
          0.5187,
          0.4486,
          0.2226,
          0.5193,
          0.4563,
          0.5202,
          0.5184,
          0.5192,
          0.5184,
          0.2225,
          0.449,
          0.5292,
          0.2223,
          0.2222,
          0.2224,
          0.5146,
          0.5157,
          0.4474,
          0.2228,
          0.5189,
          0.2259,
          0.4479,
          0.2223,
          0.2227,
          0.221,
          0.2829,
          0.2348,
          0.2226,
          0.2387,
          0.2221,
          0.5079,
          0.5289,
          0.2227,
          0.2226,
          0.2226,
          0.2624,
          0.2226,
          0.2239,
          0.2264,
          0.2243,
          0.2248,
          0.2226,
          0.2227,
          0.2225,
          0.2244,
          0.2227,
          0.2345,
          0.2246,
          0.2222,
          0.2231,
          0.2225,
          0.2344,
          0.2245,
          0.2225,
          0.2271,
          0.4874,
          0.2226,
          0.517,
          0.223,
          0.2225,
          0.2242,
          0.5133,
          0.5189,
          0.2244,
          0.2227,
          0.259,
          0.2301,
          0.2257,
          0.226,
          0.2228,
          0.2222,
          0.2226,
          0.5275,
          0.2235,
          0.4492,
          0.2228,
          0.2246,
          0.5222,
          0.535,
          0.521,
          0.4997,
          0.529,
          0.5238,
          0.5279,
          0.5217,
          0.5285,
          0.5212,
          0.5222,
          0.5189,
          0.5278,
          0.5288,
          0.5291,
          0.5251,
          0.5284,
          0.5079,
          0.4917,
          0.5206,
          0.3423,
          0.4912,
          0.5026,
          0.5257,
          0.5168,
          0.2222,
          0.5135,
          0.517,
          0.5188,
          0.5203,
          0.5218,
          0.5949,
          0.5258,
          0.5214,
          0.5098,
          0.227,
          0.5114,
          0.5226,
          0.2269,
          0.5124,
          0.5188,
          0.5209,
          0.5152,
          0.5044,
          0.5347,
          0.2226,
          0.4202,
          0.5153,
          0.5058,
          0.518,
          0.52,
          0.5345,
          0.5281,
          0.5204,
          0.5123,
          0.5321,
          0.5306,
          0.5184,
          0.2227,
          0.5131,
          0.4165,
          0.4495,
          0.5339,
          0.5146,
          0.3622,
          0.5187,
          0.5094,
          0.5604,
          0.518,
          0.4345,
          0.4172,
          0.5117,
          0.5094,
          0.5239,
          0.4212,
          0.4709,
          0.247,
          0.5193,
          0.5124,
          0.5209,
          0.391,
          0.3137,
          0.516,
          0.5165,
          0.4133,
          0.5196,
          0.5196,
          0.5269,
          0.5103,
          0.5087,
          0.4055,
          0.2227,
          0.2227,
          0.2237,
          0.5157,
          0.2225,
          0.5178,
          0.222,
          0.2225,
          0.5191,
          0.2222,
          0.5099,
          0.5207,
          0.5179,
          0.5089,
          0.519,
          0.2226,
          0.2227,
          0.2226,
          0.2227,
          0.223,
          0.5369,
          0.4978,
          0.5189,
          0.5193,
          0.5384,
          0.2227,
          0.2245,
          0.4643,
          0.5151,
          0.2226,
          0.5184,
          0.5216,
          0.2224,
          0.2228,
          0.4934,
          0.2225,
          0.2224,
          0.5057,
          0.2905,
          0.5283,
          0.2227,
          0.4594,
          0.3651,
          0.5204,
          0.5289,
          0.2227,
          0.2227,
          0.2227,
          0.2229,
          0.5207,
          0.5319,
          0.2227,
          0.2222,
          0.2225,
          0.2444,
          0.2254,
          0.2907,
          0.5189,
          0.2179,
          0.5341,
          0.2227,
          0.2814,
          0.5194,
          0.223,
          0.2227,
          0.3001,
          0.2228,
          0.2227,
          0.2225,
          0.2226,
          0.311,
          0.5224,
          0.2702,
          0.5205,
          0.3684,
          0.3724,
          0.3414,
          0.525,
          0.2224,
          0.5195,
          0.2227,
          0.5113,
          0.3226,
          0.2224,
          0.5172,
          0.5211,
          0.223,
          0.5256,
          0.3529,
          0.2238,
          0.4532,
          0.4025,
          0.271,
          0.3208,
          0.2384,
          0.2225,
          0.5214,
          0.5163,
          0.2728,
          0.5321,
          0.4711,
          0.2958,
          0.3061,
          0.5155,
          0.4607,
          0.53,
          0.2233,
          0.5104,
          0.5078,
          0.4123,
          0.4739,
          0.2236,
          0.3172,
          0.3454,
          0.2226,
          0.525,
          0.4806,
          0.3661,
          0.5169,
          0.4023,
          0.4918,
          0.2227,
          0.2226,
          0.223,
          0.5199,
          0.311,
          0.2221,
          0.2804,
          0.2227,
          0.5183,
          0.2224,
          0.2227,
          0.2227,
          0.2227,
          0.2219,
          0.2222,
          0.2223,
          0.2232,
          0.2226,
          0.2223,
          0.2222,
          0.2228,
          0.2226,
          0.2226,
          0.2286,
          0.2299,
          0.2226,
          0.2244,
          0.2225,
          0.4187,
          0.2259,
          0.2252,
          0.2694,
          0.2226,
          0.4492,
          0.2315,
          0.4479,
          0.5199,
          0.2231,
          0.2673,
          0.3126,
          0.2238,
          0.2227,
          0.4497,
          0.6721,
          0.2227,
          0.2242,
          0.2218,
          0.5337,
          0.5194,
          0.227,
          0.2731,
          0.2245,
          0.5249,
          0.2267,
          0.3259,
          0.3094,
          0.5199,
          0.5163,
          0.5157,
          0.2253,
          0.2233,
          0.2808,
          0.4569,
          0.224,
          0.5204,
          0.2227,
          0.2225,
          0.3736,
          0.2907,
          0.5321,
          0.2226,
          0.5205,
          0.2244,
          0.2718,
          0.5361,
          0.2223,
          0.2227,
          0.5036,
          0.2226,
          0.2242,
          0.2214,
          0.2228,
          0.5215,
          0.5449,
          0.223,
          0.2226,
          0.5403,
          0.2228,
          0.2226,
          0.2587,
          0.2227,
          0.5392,
          0.2226,
          0.2225,
          0.2887,
          0.2242,
          0.2226,
          0.2226,
          0.5233,
          0.5324,
          0.2235,
          0.3028,
          0.2224,
          0.5196,
          0.3517,
          0.2223,
          0.5493,
          0.2227,
          0.2226,
          0.5324,
          0.3221,
          0.2229,
          0.5392,
          0.5254,
          0.2226,
          0.2795,
          0.5417,
          0.2224,
          0.2846,
          0.5034,
          0.5196,
          0.5079,
          0.5135,
          0.5181,
          0.5073,
          0.2316,
          0.2367,
          0.2234,
          0.2241,
          0.2221,
          0.5138,
          0.52,
          0.2309,
          0.4827,
          0.2225,
          0.5074,
          0.5172,
          0.5085,
          0.5222,
          0.2333,
          0.4103,
          0.5208,
          0.5041,
          0.5072,
          0.5054,
          0.2227,
          0.488,
          0.5202,
          0.5281,
          0.518,
          0.5152,
          0.5118,
          0.3991,
          0.4092,
          0.5148,
          0.2227,
          0.3195,
          0.5344,
          0.2209,
          0.5194,
          0.2227,
          0.5165,
          0.2671,
          0.5105,
          0.5196,
          0.514,
          0.5263,
          0.5184,
          0.5139,
          0.5113,
          0.5185,
          0.5058,
          0.2253,
          0.522,
          0.5313,
          0.5174,
          0.5065,
          0.5057,
          0.5141,
          0.5154,
          0.4041,
          0.5162,
          0.2302,
          0.2227,
          0.449,
          0.2225,
          0.2222,
          0.2326,
          0.5064,
          0.5127,
          0.2236,
          0.5378,
          0.2367,
          0.4546,
          0.488,
          0.2222,
          0.515,
          0.497,
          0.2301,
          0.4487,
          0.2221,
          0.4474,
          0.4491,
          0.5358,
          0.5192,
          0.2384,
          0.2226,
          0.5109,
          0.5175,
          0.5231,
          0.2225,
          0.505,
          0.2242,
          0.2228,
          0.5387,
          0.5169,
          0.5163,
          0.4531,
          0.5099,
          0.2245,
          0.2228,
          0.2222,
          0.2225,
          0.2233,
          0.2226,
          0.5315,
          0.2225,
          0.222,
          0.2227,
          0.2232,
          0.2229,
          0.2557,
          0.5434,
          0.5338,
          0.547,
          0.5303,
          0.5334,
          0.3715,
          0.5144,
          0.5331,
          0.5385,
          0.5379,
          0.532,
          0.5305,
          0.5313,
          0.522,
          0.5306,
          0.2893,
          0.5349,
          0.5313,
          0.2228,
          0.2225,
          0.2264,
          0.4961,
          0.5138,
          0.5046,
          0.5237,
          0.5484,
          0.5212,
          0.5184,
          0.5061,
          0.5409,
          0.48,
          0.2227,
          0.5039,
          0.5038,
          0.3742,
          0.2221,
          0.498,
          0.355,
          0.2247,
          0.5207,
          0.5098,
          0.2227,
          0.5088,
          0.5226,
          0.2618,
          0.5041,
          0.2228,
          0.4202,
          0.2603,
          0.5061,
          0.5111,
          0.2864,
          0.4475,
          0.5161,
          0.4221,
          0.5101,
          0.5168,
          0.5161,
          0.4523,
          0.5198,
          0.2576,
          0.4555,
          0.2736,
          0.5078,
          0.4717,
          0.5146,
          0.3471,
          0.4555,
          0.3445,
          0.4993,
          0.5189,
          0.3129,
          0.5125,
          0.5216,
          0.4874,
          0.4467,
          0.3016,
          0.2547,
          0.448,
          0.2237,
          0.2228,
          0.2233,
          0.2223,
          0.2766,
          0.2228,
          0.2492,
          0.2224,
          0.2226,
          0.2225,
          0.2229,
          0.2225,
          0.2945,
          0.2228,
          0.2224,
          0.2226,
          0.2227,
          0.2224,
          0.2228,
          0.2227,
          0.2225,
          0.2229,
          0.2245,
          0.2226,
          0.2225,
          0.2225,
          0.2223,
          0.2255,
          0.53,
          0.2228,
          0.227,
          0.2227,
          0.2227,
          0.2245,
          0.2226,
          0.2228,
          0.2228,
          0.2226,
          0.4497,
          0.2227,
          0.5172,
          0.2219,
          0.2228,
          0.2225,
          0.5414,
          0.2225,
          0.2221,
          0.2226,
          0.5102,
          0.2226,
          0.2226,
          0.601,
          0.5204,
          0.222,
          0.228,
          0.5035,
          0.2231,
          0.5174,
          0.2227,
          0.5268,
          0.2225,
          0.4546,
          0.2233,
          0.2226,
          0.2232,
          0.2229,
          0.2227,
          0.5148,
          0.2226,
          0.2225,
          0.2226,
          0.5176,
          0.5439,
          0.5316,
          0.5137,
          0.4967,
          0.2237,
          0.5041,
          0.5238,
          0.2221,
          0.2226,
          0.2239,
          0.5203,
          0.5088,
          0.5204,
          0.5356,
          0.5215,
          0.5258,
          0.4954,
          0.2227,
          0.513,
          0.2226,
          0.2238,
          0.3663,
          0.2226,
          0.5257,
          0.2223,
          0.2226,
          0.5328,
          0.5273,
          0.5325,
          0.5374,
          0.5361,
          0.5308,
          0.5097,
          0.4998,
          0.5292,
          0.4985,
          0.2222,
          0.2228,
          0.4958,
          0.2226,
          0.5204,
          0.5497,
          0.5188,
          0.2217,
          0.3106,
          0.2592,
          0.5186,
          0.5185,
          0.2227,
          0.5191,
          0.519,
          0.2267,
          0.2218,
          0.5109,
          0.5185,
          0.5177,
          0.5186,
          0.5185,
          0.5183,
          0.2226,
          0.2218,
          0.5186,
          0.223,
          0.2218,
          0.5186,
          0.5093,
          0.5186,
          0.5186,
          0.536,
          0.2222,
          0.5217,
          0.473,
          0.5134,
          0.2229,
          0.2404,
          0.2226,
          0.5185,
          0.5185,
          0.5222,
          0.5126,
          0.3743,
          0.5301,
          0.5327,
          0.4884,
          0.2239,
          0.5185,
          0.5148,
          0.2486,
          0.2291,
          0.2227,
          0.2226,
          0.518,
          0.2229,
          0.2226,
          0.3878,
          0.2225,
          0.4702,
          0.4271,
          0.2227,
          0.5187,
          0.2226,
          0.2229,
          0.2229,
          0.2225,
          0.2226,
          0.2488,
          0.2237,
          0.2229,
          0.2227,
          0.5194,
          0.5238,
          0.4905,
          0.2225,
          0.2224,
          0.271,
          0.5314,
          0.2227,
          0.5399,
          0.2232,
          0.5418,
          0.223,
          0.2226,
          0.2227,
          0.241,
          0.5314,
          0.4931,
          0.223,
          0.8069,
          0.5404,
          0.2225,
          0.7443,
          0.5131,
          0.6425,
          0.5215,
          0.5242,
          0.2226,
          0.2229,
          0.4706,
          0.5286,
          0.5216,
          0.5291,
          0.5317,
          0.5265,
          0.5124,
          0.5265,
          0.5179,
          0.2225,
          0.4901,
          0.521,
          0.2225,
          0.5269,
          0.5109,
          0.5121,
          0.515,
          0.5158,
          0.5466,
          0.4469,
          0.2233,
          0.2232,
          0.2492,
          0.2231,
          0.4645,
          0.2226,
          0.5145,
          0.2989,
          0.2225,
          0.2824,
          0.5154,
          0.5459,
          0.2232,
          0.2566,
          0.3118,
          0.4504,
          0.4489,
          0.5178,
          0.5461,
          0.5457,
          0.5461,
          0.271,
          0.2277,
          0.2235,
          0.2244,
          0.5158,
          0.2227,
          0.5399,
          0.2229,
          0.5283,
          0.5129,
          0.5309,
          0.2225,
          0.2225,
          0.2222,
          0.4872,
          0.2222,
          0.2229,
          0.2225,
          0.2225,
          0.2228,
          0.2228,
          0.2225,
          0.2227,
          0.2222,
          0.2225,
          0.2222,
          0.2243,
          0.2227,
          0.2227,
          0.257,
          0.2229,
          0.2228,
          0.2226,
          0.2228,
          0.2226,
          0.2224,
          0.2222,
          0.2247,
          0.2225,
          0.2229,
          0.2226,
          0.2228,
          0.2227,
          0.2227,
          0.2188,
          0.2225,
          0.2244,
          0.2226,
          0.2227,
          0.4878,
          0.2259,
          0.2228,
          0.2228,
          0.2227,
          0.2241,
          0.2228,
          0.2226,
          0.2226,
          0.511,
          0.2235,
          0.2227,
          0.5054,
          0.2225,
          0.2225,
          0.2222,
          0.2226,
          0.2231,
          0.223,
          0.2244,
          0.2222,
          0.2225,
          0.2225,
          0.2226,
          0.5106,
          0.4956,
          0.2808,
          0.2225,
          0.2226,
          0.2229,
          0.2467,
          0.2226,
          0.2225,
          0.2225,
          0.223,
          0.5073,
          0.2226,
          0.2227,
          0.2231,
          0.5197,
          0.518,
          0.2229,
          0.5026,
          0.5064,
          0.5182,
          0.5086,
          0.5319,
          0.2429,
          0.5238,
          0.5141,
          0.5192,
          0.2337,
          0.5129,
          0.4901,
          0.2262,
          0.2317,
          0.2315,
          0.2234,
          0.5202,
          0.2233,
          0.517,
          0.5264,
          0.5181,
          0.518,
          0.517,
          0.2223,
          0.5182,
          0.5282,
          0.5184,
          0.5182,
          0.2229,
          0.2245,
          0.5192,
          0.5196,
          0.5174,
          0.2225,
          0.52,
          0.4493,
          0.2645,
          0.52,
          0.5032,
          0.53,
          0.536,
          0.5239,
          0.5567,
          0.537,
          0.5306,
          0.7611,
          0.526,
          0.2228,
          0.2242,
          0.225,
          0.2242,
          0.4474,
          0.3691,
          0.2225,
          0.2226,
          0.2501,
          0.2226,
          0.473,
          0.2226,
          0.4089,
          0.2226,
          0.2252,
          0.5182,
          0.5128,
          0.4618,
          0.5215,
          0.3213,
          0.2226,
          0.5195,
          0.2226,
          0.5154,
          0.2235,
          0.2249,
          0.2228,
          0.3154,
          0.2242,
          0.2226,
          0.2226,
          0.5243,
          0.5188,
          0.2317,
          0.2218,
          0.2322,
          0.2246,
          0.5132,
          0.2213,
          0.2228,
          0.2228,
          0.2226,
          0.2226,
          0.2226,
          0.6584,
          0.6423,
          0.2226,
          0.5263,
          0.2226,
          0.5292
         ],
         "yaxis": "y"
        },
        {
         "customdata": [
          [
           0.0015,
           "DMU 0032"
          ],
          [
           0.0015,
           "DMU 0041"
          ],
          [
           0.0015,
           "DMU 0053"
          ],
          [
           7.1271,
           "DMU 0065"
          ],
          [
           0.4134,
           "DMU 0068"
          ],
          [
           1.1098,
           "DMU 0079"
          ],
          [
           0,
           "DMU 0088"
          ],
          [
           0.7252,
           "DMU 0091"
          ],
          [
           0.6732,
           "DMU 0093"
          ],
          [
           1.0631,
           "DMU 0096"
          ],
          [
           0.0001,
           "DMU 0097"
          ],
          [
           0.4242,
           "DMU 0099"
          ],
          [
           6.4453,
           "DMU 0103"
          ],
          [
           0,
           "DMU 0105"
          ],
          [
           0.4412,
           "DMU 0109"
          ],
          [
           3.9448,
           "DMU 0111"
          ],
          [
           6.8279,
           "DMU 0112"
          ],
          [
           0.4206,
           "DMU 0120"
          ],
          [
           2.9005,
           "DMU 0122"
          ],
          [
           8.0727,
           "DMU 0126"
          ],
          [
           4.0091,
           "DMU 0128"
          ],
          [
           7.5834,
           "DMU 0132"
          ],
          [
           0.4442,
           "DMU 0137"
          ],
          [
           0.4246,
           "DMU 0140"
          ],
          [
           0.437,
           "DMU 0142"
          ],
          [
           8.4528,
           "DMU 0152"
          ],
          [
           0.4536,
           "DMU 0154"
          ],
          [
           0.7752,
           "DMU 0156"
          ],
          [
           0.805,
           "DMU 0157"
          ],
          [
           0.0001,
           "DMU 0158"
          ],
          [
           0.7575,
           "DMU 0160"
          ],
          [
           0.4816,
           "DMU 0162"
          ],
          [
           0.7355,
           "DMU 0165"
          ],
          [
           0.967,
           "DMU 0166"
          ],
          [
           0.5163,
           "DMU 0167"
          ],
          [
           0.4433,
           "DMU 0168"
          ],
          [
           6.6004,
           "DMU 0169"
          ],
          [
           3.1359,
           "DMU 0175"
          ],
          [
           0.8613,
           "DMU 0177"
          ],
          [
           9.8212,
           "DMU 0179"
          ],
          [
           0.5227,
           "DMU 0181"
          ],
          [
           4.0677,
           "DMU 0183"
          ],
          [
           0.9803,
           "DMU 0185"
          ],
          [
           0.4476,
           "DMU 0186"
          ],
          [
           0.4753,
           "DMU 0193"
          ],
          [
           4.4872,
           "DMU 0198"
          ],
          [
           1.0671,
           "DMU 0199"
          ],
          [
           1.0579,
           "DMU 0200"
          ],
          [
           0.6606,
           "DMU 0201"
          ],
          [
           0,
           "DMU 0204"
          ],
          [
           0.5737,
           "DMU 0211"
          ],
          [
           0.4288,
           "DMU 0212"
          ],
          [
           0,
           "DMU 0216"
          ],
          [
           0.5219,
           "DMU 0223"
          ],
          [
           0.6828,
           "DMU 0226"
          ],
          [
           0.4466,
           "DMU 0231"
          ],
          [
           0.0324,
           "DMU 0239"
          ],
          [
           8.4018,
           "DMU 0240"
          ],
          [
           0.6934,
           "DMU 0241"
          ],
          [
           0.4359,
           "DMU 0245"
          ],
          [
           0.8452,
           "DMU 0246"
          ],
          [
           0.4033,
           "DMU 0247"
          ],
          [
           0.6191,
           "DMU 0248"
          ],
          [
           9.5448,
           "DMU 0249"
          ],
          [
           0.1916,
           "DMU 0250"
          ],
          [
           0.6752,
           "DMU 0251"
          ],
          [
           1.0511,
           "DMU 0253"
          ],
          [
           4.8511,
           "DMU 0254"
          ],
          [
           2.5288,
           "DMU 0259"
          ],
          [
           0.4765,
           "DMU 0260"
          ],
          [
           0.4508,
           "DMU 0268"
          ],
          [
           0.5931,
           "DMU 0271"
          ],
          [
           0.9988,
           "DMU 0279"
          ],
          [
           0.0001,
           "DMU 0281"
          ],
          [
           8.8545,
           "DMU 0282"
          ],
          [
           5.5534,
           "DMU 0283"
          ],
          [
           0.4319,
           "DMU 0284"
          ],
          [
           0.9315,
           "DMU 0285"
          ],
          [
           0.6657,
           "DMU 0286"
          ],
          [
           0.8045,
           "DMU 0288"
          ],
          [
           1.0837,
           "DMU 0290"
          ],
          [
           5.2099,
           "DMU 0291"
          ],
          [
           6.7157,
           "DMU 0293"
          ],
          [
           0.501,
           "DMU 0295"
          ],
          [
           0.7113,
           "DMU 0296"
          ],
          [
           3.7801,
           "DMU 0297"
          ],
          [
           0.5391,
           "DMU 0298"
          ],
          [
           6.5721,
           "DMU 0299"
          ],
          [
           6.7519,
           "DMU 0300"
          ],
          [
           0.9501,
           "DMU 0311"
          ],
          [
           0.1715,
           "DMU 0312"
          ],
          [
           0.0001,
           "DMU 0314"
          ],
          [
           0.829,
           "DMU 0315"
          ],
          [
           3.44,
           "DMU 0326"
          ],
          [
           0.0001,
           "DMU 0335"
          ],
          [
           4.7761,
           "DMU 0338"
          ],
          [
           0.4255,
           "DMU 0342"
          ],
          [
           3.5279,
           "DMU 0344"
          ],
          [
           5.471,
           "DMU 0345"
          ],
          [
           0.597,
           "DMU 0347"
          ],
          [
           0.4716,
           "DMU 0350"
          ],
          [
           6.4854,
           "DMU 0355"
          ],
          [
           0.4299,
           "DMU 0357"
          ],
          [
           0.994,
           "DMU 0362"
          ],
          [
           9.3019,
           "DMU 0363"
          ],
          [
           6.2063,
           "DMU 0365"
          ],
          [
           0.365,
           "DMU 0373"
          ],
          [
           0.5845,
           "DMU 0380"
          ],
          [
           1.2012,
           "DMU 0387"
          ],
          [
           0.4239,
           "DMU 0395"
          ],
          [
           8.7588,
           "DMU 0402"
          ],
          [
           0.4493,
           "DMU 0404"
          ],
          [
           0.4087,
           "DMU 0411"
          ],
          [
           0,
           "DMU 0420"
          ],
          [
           0.459,
           "DMU 0421"
          ],
          [
           1.206,
           "DMU 0423"
          ],
          [
           0,
           "DMU 0425"
          ],
          [
           9.087,
           "DMU 0427"
          ],
          [
           3.5715,
           "DMU 0445"
          ],
          [
           7.3317,
           "DMU 0451"
          ],
          [
           0.3395,
           "DMU 0456"
          ],
          [
           1.7891,
           "DMU 0458"
          ],
          [
           8.2395,
           "DMU 0460"
          ],
          [
           4.3871,
           "DMU 0476"
          ],
          [
           0.0001,
           "DMU 0491"
          ],
          [
           0.0001,
           "DMU 0494"
          ],
          [
           9.789,
           "DMU 0529"
          ],
          [
           0.0011,
           "DMU 0531"
          ],
          [
           0.4362,
           "DMU 0532"
          ],
          [
           1.2041,
           "DMU 0534"
          ],
          [
           1.196,
           "DMU 0535"
          ],
          [
           2.8653,
           "DMU 0536"
          ],
          [
           1.1177,
           "DMU 0537"
          ],
          [
           1.0451,
           "DMU 0558"
          ],
          [
           5.5695,
           "DMU 0570"
          ],
          [
           9.7726,
           "DMU 0572"
          ],
          [
           0.4381,
           "DMU 0577"
          ],
          [
           0.5729,
           "DMU 0589"
          ],
          [
           0.0015,
           "DMU 0600"
          ],
          [
           1.0246,
           "DMU 0601"
          ],
          [
           0.0001,
           "DMU 0610"
          ],
          [
           1.0693,
           "DMU 0613"
          ],
          [
           0.9964,
           "DMU 0616"
          ],
          [
           0.4326,
           "DMU 0619"
          ],
          [
           0.4241,
           "DMU 0620"
          ],
          [
           2.1812,
           "DMU 0622"
          ],
          [
           0.7111,
           "DMU 0636"
          ],
          [
           0.4355,
           "DMU 0638"
          ],
          [
           1.0415,
           "DMU 0643"
          ],
          [
           1.0863,
           "DMU 0644"
          ],
          [
           8.3125,
           "DMU 0645"
          ],
          [
           0.6112,
           "DMU 0646"
          ],
          [
           1.7118,
           "DMU 0647"
          ],
          [
           2.4099,
           "DMU 0655"
          ],
          [
           2.9728,
           "DMU 0656"
          ],
          [
           1.0824,
           "DMU 0658"
          ],
          [
           0.832,
           "DMU 0659"
          ],
          [
           5.7339,
           "DMU 0660"
          ],
          [
           0.3559,
           "DMU 0661"
          ],
          [
           1.5813,
           "DMU 0663"
          ],
          [
           0.4199,
           "DMU 0669"
          ],
          [
           3.3984,
           "DMU 0677"
          ],
          [
           7.6792,
           "DMU 0684"
          ],
          [
           0.5565,
           "DMU 0718"
          ],
          [
           1.146,
           "DMU 0743"
          ],
          [
           0.425,
           "DMU 0749"
          ],
          [
           0.4699,
           "DMU 0750"
          ],
          [
           0.5141,
           "DMU 0753"
          ],
          [
           0.4281,
           "DMU 0757"
          ],
          [
           0.4411,
           "DMU 0758"
          ],
          [
           0.4474,
           "DMU 0762"
          ],
          [
           7.5354,
           "DMU 0763"
          ],
          [
           1.2463,
           "DMU 0764"
          ],
          [
           0.3017,
           "DMU 0767"
          ],
          [
           5.7475,
           "DMU 0768"
          ],
          [
           0.6325,
           "DMU 0773"
          ],
          [
           0.4699,
           "DMU 0775"
          ],
          [
           0.4339,
           "DMU 0781"
          ],
          [
           0.4664,
           "DMU 0786"
          ],
          [
           0.4349,
           "DMU 0788"
          ],
          [
           0.3403,
           "DMU 0793"
          ],
          [
           8.429,
           "DMU 0799"
          ],
          [
           0.4383,
           "DMU 0803"
          ],
          [
           0.0003,
           "DMU 0805"
          ],
          [
           0.4442,
           "DMU 0807"
          ],
          [
           8.4122,
           "DMU 0808"
          ],
          [
           1.5172,
           "DMU 0810"
          ],
          [
           1.0692,
           "DMU 0812"
          ],
          [
           1.7181,
           "DMU 0817"
          ],
          [
           0.6069,
           "DMU 0824"
          ],
          [
           0.451,
           "DMU 0834"
          ],
          [
           0.0794,
           "DMU 0837"
          ],
          [
           0.0556,
           "DMU 0841"
          ],
          [
           0.0845,
           "DMU 0842"
          ],
          [
           1.116,
           "DMU 0848"
          ],
          [
           7.406,
           "DMU 0850"
          ],
          [
           0.4207,
           "DMU 0853"
          ],
          [
           2.8308,
           "DMU 0854"
          ],
          [
           0.4773,
           "DMU 0855"
          ],
          [
           1.98,
           "DMU 0858"
          ],
          [
           3.5687,
           "DMU 0866"
          ],
          [
           0.4401,
           "DMU 0867"
          ],
          [
           6.4048,
           "DMU 0871"
          ],
          [
           0.428,
           "DMU 0876"
          ],
          [
           1.1785,
           "DMU 0879"
          ],
          [
           1.3034,
           "DMU 0881"
          ],
          [
           9.8361,
           "DMU 0888"
          ],
          [
           0.9147,
           "DMU 0889"
          ],
          [
           1.161,
           "DMU 0892"
          ],
          [
           0.0015,
           "DMU 0898"
          ],
          [
           0.406,
           "DMU 0902"
          ],
          [
           2.5786,
           "DMU 0903"
          ],
          [
           0.3427,
           "DMU 0905"
          ],
          [
           0.2971,
           "DMU 0907"
          ],
          [
           0.435,
           "DMU 0909"
          ],
          [
           0.0015,
           "DMU 0922"
          ],
          [
           1.0547,
           "DMU 0930"
          ],
          [
           0.7283,
           "DMU 0932"
          ],
          [
           0.1347,
           "DMU 0937"
          ],
          [
           1.0275,
           "DMU 0938"
          ],
          [
           0.9844,
           "DMU 0943"
          ],
          [
           0.0014,
           "DMU 0957"
          ],
          [
           4.1729,
           "DMU 0959"
          ],
          [
           1.1958,
           "DMU 0961"
          ],
          [
           1.5787,
           "DMU 0962"
          ],
          [
           0.5013,
           "DMU 0964"
          ],
          [
           0.0007,
           "DMU 0968"
          ],
          [
           0.3058,
           "DMU 0969"
          ],
          [
           1.0287,
           "DMU 0970"
          ],
          [
           7.1893,
           "DMU 0975"
          ],
          [
           6.7412,
           "DMU 0978"
          ],
          [
           0.0015,
           "DMU 0983"
          ],
          [
           7.3433,
           "DMU 0989"
          ],
          [
           1.0081,
           "DMU 0993"
          ],
          [
           1.7986,
           "DMU 0997"
          ],
          [
           7.219,
           "DMU 1005"
          ],
          [
           0,
           "DMU 1016"
          ],
          [
           9.4596,
           "DMU 1041"
          ],
          [
           7.5923,
           "DMU 1055"
          ],
          [
           0.0033,
           "DMU 1058"
          ],
          [
           0.5152,
           "DMU 1075"
          ],
          [
           7.5008,
           "DMU 1113"
          ],
          [
           6.9834,
           "DMU 1131"
          ],
          [
           9.5546,
           "DMU 1137"
          ],
          [
           0.5307,
           "DMU 1155"
          ],
          [
           4.6858,
           "DMU 1159"
          ],
          [
           0.0052,
           "DMU 1163"
          ],
          [
           0.5758,
           "DMU 1165"
          ],
          [
           0.4404,
           "DMU 1168"
          ],
          [
           0.4442,
           "DMU 1170"
          ],
          [
           0.4546,
           "DMU 1178"
          ],
          [
           9.0176,
           "DMU 1179"
          ],
          [
           4.151,
           "DMU 1183"
          ],
          [
           3.7718,
           "DMU 1185"
          ],
          [
           2.5012,
           "DMU 1188"
          ],
          [
           9.8764,
           "DMU 1190"
          ],
          [
           0.9877,
           "DMU 1191"
          ],
          [
           0.7265,
           "DMU 1192"
          ],
          [
           0.4236,
           "DMU 1193"
          ],
          [
           0.4035,
           "DMU 1197"
          ],
          [
           0.6513,
           "DMU 1202"
          ],
          [
           4.2545,
           "DMU 1203"
          ],
          [
           9.3881,
           "DMU 1211"
          ],
          [
           0.6527,
           "DMU 1214"
          ],
          [
           0.445,
           "DMU 1219"
          ],
          [
           3.9062,
           "DMU 1225"
          ],
          [
           1.335,
           "DMU 1231"
          ],
          [
           1.0989,
           "DMU 1241"
          ],
          [
           9.6015,
           "DMU 1251"
          ],
          [
           6.8518,
           "DMU 1252"
          ],
          [
           5.6899,
           "DMU 1256"
          ],
          [
           6.7636,
           "DMU 1257"
          ],
          [
           0.9553,
           "DMU 1276"
          ],
          [
           8.9921,
           "DMU 1278"
          ],
          [
           1.1865,
           "DMU 1279"
          ],
          [
           0.4285,
           "DMU 1280"
          ],
          [
           8.9643,
           "DMU 1285"
          ],
          [
           0.4489,
           "DMU 1295"
          ],
          [
           0,
           "DMU 1302"
          ],
          [
           0.4258,
           "DMU 1304"
          ],
          [
           0.4367,
           "DMU 1308"
          ],
          [
           7.2851,
           "DMU 1313"
          ],
          [
           2.6961,
           "DMU 1315"
          ],
          [
           0.3882,
           "DMU 1318"
          ],
          [
           3.663,
           "DMU 1320"
          ],
          [
           2.4343,
           "DMU 1339"
          ],
          [
           1.0897,
           "DMU 1344"
          ],
          [
           1.0888,
           "DMU 1345"
          ],
          [
           1.0232,
           "DMU 1346"
          ],
          [
           0.8911,
           "DMU 1354"
          ],
          [
           0.4354,
           "DMU 1362"
          ],
          [
           1.0767,
           "DMU 1374"
          ],
          [
           3.5928,
           "DMU 1382"
          ],
          [
           1.2591,
           "DMU 1385"
          ],
          [
           0.506,
           "DMU 1388"
          ],
          [
           6.3434,
           "DMU 1389"
          ],
          [
           1.0268,
           "DMU 1390"
          ],
          [
           1.4627,
           "DMU 1392"
          ],
          [
           0.8411,
           "DMU 1396"
          ],
          [
           2.6152,
           "DMU 1410"
          ],
          [
           0.5031,
           "DMU 1414"
          ],
          [
           5.5744,
           "DMU 1415"
          ],
          [
           0,
           "DMU 1416"
          ],
          [
           1.6716,
           "DMU 1417"
          ],
          [
           8.6233,
           "DMU 1419"
          ],
          [
           5.6399,
           "DMU 1421"
          ],
          [
           3.1702,
           "DMU 1423"
          ],
          [
           3.5013,
           "DMU 1425"
          ],
          [
           0.9781,
           "DMU 1427"
          ],
          [
           2.8146,
           "DMU 1428"
          ],
          [
           4.1684,
           "DMU 1433"
          ],
          [
           2.1764,
           "DMU 1451"
          ],
          [
           0,
           "DMU 1452"
          ],
          [
           0.4325,
           "DMU 1454"
          ],
          [
           9.8336,
           "DMU 1456"
          ],
          [
           6.3828,
           "DMU 1457"
          ],
          [
           0.0015,
           "DMU 1463"
          ],
          [
           0.427,
           "DMU 1466"
          ],
          [
           1.3989,
           "DMU 1480"
          ],
          [
           1.0723,
           "DMU 1488"
          ],
          [
           0.8391,
           "DMU 1491"
          ],
          [
           0.0015,
           "DMU 1492"
          ],
          [
           1.2755,
           "DMU 1505"
          ],
          [
           4.3275,
           "DMU 1512"
          ],
          [
           0.5946,
           "DMU 1513"
          ],
          [
           0.4514,
           "DMU 1517"
          ],
          [
           4.4048,
           "DMU 1518"
          ],
          [
           1.196,
           "DMU 1520"
          ],
          [
           6.374,
           "DMU 1521"
          ],
          [
           0.4012,
           "DMU 1525"
          ],
          [
           0.8998,
           "DMU 1529"
          ],
          [
           0.4261,
           "DMU 1540"
          ],
          [
           9.2863,
           "DMU 1550"
          ],
          [
           0.4343,
           "DMU 1557"
          ],
          [
           8.5201,
           "DMU 1558"
          ],
          [
           0.6639,
           "DMU 1560"
          ],
          [
           0.4432,
           "DMU 1563"
          ],
          [
           0.0525,
           "DMU 1564"
          ],
          [
           3.5856,
           "DMU 1572"
          ],
          [
           0.4351,
           "DMU 1575"
          ],
          [
           4.39,
           "DMU 1578"
          ],
          [
           5.3035,
           "DMU 1587"
          ],
          [
           3.4302,
           "DMU 1595"
          ],
          [
           0.4445,
           "DMU 1598"
          ],
          [
           0.9954,
           "DMU 1600"
          ],
          [
           2.4643,
           "DMU 1605"
          ],
          [
           0.8335,
           "DMU 1606"
          ],
          [
           0.7349,
           "DMU 1609"
          ],
          [
           0.4975,
           "DMU 1610"
          ],
          [
           6.5778,
           "DMU 1616"
          ],
          [
           0.5313,
           "DMU 1627"
          ],
          [
           0,
           "DMU 1631"
          ],
          [
           0.9847,
           "DMU 1633"
          ],
          [
           5.4393,
           "DMU 1662"
          ],
          [
           0.0015,
           "DMU 1665"
          ],
          [
           0.7788,
           "DMU 1676"
          ],
          [
           0.7819,
           "DMU 1677"
          ],
          [
           2.6088,
           "DMU 1679"
          ],
          [
           0.0015,
           "DMU 1683"
          ],
          [
           0.0015,
           "DMU 1684"
          ],
          [
           0.0001,
           "DMU 1698"
          ],
          [
           0.5639,
           "DMU 1707"
          ],
          [
           0.595,
           "DMU 1723"
          ],
          [
           8.646,
           "DMU 1724"
          ],
          [
           1.0876,
           "DMU 1726"
          ],
          [
           1.0824,
           "DMU 1733"
          ]
         ],
         "hovertemplate": "Diff_Perc < 10=True<br>Efficiency_Scores_Basic=%{x}<br>Efficiency_Scores_with_ML=%{y}<br>Diff_Perc=%{customdata[0]}<br>index=%{customdata[1]}<extra></extra>",
         "legendgroup": "True",
         "line": {
          "color": "lightgreen",
          "width": 3
         },
         "marker": {
          "color": "blue",
          "symbol": "circle"
         },
         "mode": "markers",
         "name": "True",
         "showlegend": true,
         "type": "scattergl",
         "x": [
          0.4459,
          0.4465,
          0.4459,
          0.2395,
          0.2612,
          1,
          1,
          0.2238,
          0.9988,
          0.2248,
          0.2247,
          0.2232,
          0.2377,
          1,
          0.2232,
          0.2313,
          0.2384,
          0.2232,
          0.2291,
          0.242,
          0.2315,
          0.2407,
          0.2232,
          0.2232,
          0.2232,
          0.2428,
          0.2232,
          0.2241,
          0.2244,
          0.2248,
          0.224,
          0.2232,
          0.224,
          0.2232,
          0.2233,
          0.2232,
          0.2379,
          0.2297,
          0.2243,
          0.2489,
          0.2238,
          1,
          0.2245,
          0.2232,
          0.2233,
          0.2327,
          0.2248,
          0.2248,
          0.9991,
          0.2235,
          0.2236,
          0.2232,
          0.2237,
          0.2234,
          0.2238,
          0.2232,
          0.2232,
          0.2429,
          0.2239,
          0.2232,
          0.2242,
          0.223,
          0.2236,
          0.2457,
          0.2244,
          0.2238,
          0.2251,
          0.2335,
          0.2308,
          0.2231,
          0.2232,
          0.2235,
          0.2232,
          0.2246,
          0.2439,
          0.2354,
          0.2232,
          1,
          0.2237,
          0.224,
          0.2249,
          0.2344,
          0.2405,
          0.2234,
          0.2238,
          0.231,
          0.2235,
          0.238,
          0.2384,
          0.2246,
          1,
          0.2317,
          0.2242,
          0.2301,
          0.2246,
          0.2336,
          0.2232,
          0.2303,
          0.6283,
          0.2236,
          0.2232,
          0.2377,
          0.2232,
          0.2232,
          0.245,
          0.237,
          0.2389,
          0.2255,
          0.2276,
          0.2232,
          0.8769,
          0.2232,
          0.9657,
          0.2238,
          0.2232,
          0.2252,
          1,
          0.2443,
          0.8967,
          0.488,
          1,
          0.9662,
          0.9481,
          0.2326,
          0.2249,
          0.2248,
          0.2466,
          0.3864,
          0.2232,
          0.225,
          0.225,
          0.2288,
          0.2248,
          0.7954,
          0.2353,
          0.2462,
          0.2232,
          0.2235,
          0.4459,
          0.2247,
          0.2248,
          0.2248,
          0.2232,
          0.2232,
          0.2232,
          0.2274,
          0.2241,
          0.2246,
          0.2248,
          0.2229,
          0.2424,
          0.2237,
          0.989,
          0.2278,
          0.2291,
          0.2247,
          0.2244,
          0.236,
          0.3815,
          0.2259,
          0.2231,
          0.23,
          0.2407,
          0.2235,
          1,
          0.2232,
          0.2234,
          0.2235,
          0.2232,
          0.2232,
          0.2232,
          0.2403,
          0.2252,
          0.2237,
          0.4885,
          0.2237,
          0.2233,
          0.2316,
          0.2283,
          0.2232,
          0.2248,
          0.2427,
          0.2232,
          0.2754,
          0.2232,
          0.264,
          0.2267,
          0.2246,
          0.235,
          0.9932,
          0.23,
          1,
          1,
          0.9994,
          0.2248,
          0.2399,
          0.2231,
          0.2289,
          0.2233,
          0.227,
          0.2305,
          0.2232,
          0.2918,
          0.2232,
          0.2868,
          0.2248,
          0.2465,
          0.2244,
          0.2249,
          0.448,
          0.2235,
          0.2281,
          0.2269,
          0.2239,
          0.2232,
          0.4462,
          0.2269,
          0.2255,
          0.9752,
          0.2257,
          0.9661,
          0.4323,
          0.8683,
          0.9839,
          0.226,
          0.225,
          0.3304,
          0.2513,
          0.2247,
          0.73,
          0.993,
          0.4468,
          0.4299,
          0.2247,
          0.2263,
          0.2398,
          1,
          0.2454,
          0.6942,
          0.4447,
          0.9759,
          0.5039,
          0.24,
          0.2481,
          0.2234,
          0.995,
          0.248,
          0.2266,
          0.2233,
          0.2232,
          0.2232,
          0.2446,
          0.2319,
          0.2312,
          0.2341,
          0.2468,
          0.2232,
          0.222,
          0.2232,
          0.3591,
          0.2236,
          0.2323,
          0.2452,
          0.2235,
          0.2232,
          0.2313,
          0.2286,
          0.2235,
          0.2462,
          0.2388,
          0.4904,
          0.2859,
          0.2254,
          0.2442,
          0.9872,
          0.2232,
          0.2649,
          0.2231,
          1,
          0.2232,
          0.2232,
          0.2396,
          0.2286,
          0.224,
          0.2307,
          0.2278,
          0.2247,
          0.2247,
          0.2246,
          0.9932,
          0.2231,
          0.9839,
          0.2307,
          0.2245,
          0.9865,
          0.2382,
          0.2286,
          0.2257,
          0.2243,
          1,
          0.2713,
          0.2356,
          1,
          0.2262,
          0.2429,
          0.2358,
          0.2351,
          0.245,
          0.2246,
          0.2628,
          0.2321,
          0.2273,
          1,
          0.2232,
          0.2467,
          0.4882,
          0.4458,
          0.2232,
          0.2256,
          1,
          0.9347,
          0.4459,
          0.2252,
          0.247,
          0.2236,
          0.2232,
          0.2325,
          0.9232,
          0.2376,
          0.2232,
          0.2244,
          0.2232,
          0.2449,
          0.2232,
          0.2428,
          0.2238,
          0.2232,
          0.9844,
          0.2307,
          0.2232,
          0.2324,
          0.2349,
          0.2304,
          0.2232,
          0.2232,
          0.2281,
          0.2242,
          0.224,
          0.2232,
          0.2377,
          0.2251,
          1,
          0.2244,
          0.8914,
          0.4459,
          1,
          0.9999,
          0.2289,
          0.4463,
          0.4447,
          0.2242,
          0.2235,
          0.2236,
          0.2435,
          0.2243,
          0.2251
         ],
         "xaxis": "x",
         "y": [
          0.4459,
          0.4465,
          0.4459,
          0.2225,
          0.2601,
          0.9889,
          1,
          0.2222,
          0.992,
          0.2224,
          0.2247,
          0.2222,
          0.2223,
          1,
          0.2222,
          0.2222,
          0.2222,
          0.2222,
          0.2224,
          0.2225,
          0.2222,
          0.2225,
          0.2222,
          0.2222,
          0.2222,
          0.2223,
          0.2222,
          0.2223,
          0.2225,
          0.2248,
          0.2223,
          0.2222,
          0.2223,
          0.221,
          0.2222,
          0.2222,
          0.2222,
          0.2225,
          0.2224,
          0.2244,
          0.2226,
          0.9593,
          0.2223,
          0.2222,
          0.2222,
          0.2223,
          0.2224,
          0.2224,
          0.9925,
          0.2235,
          0.2223,
          0.2222,
          0.2237,
          0.2223,
          0.2223,
          0.2222,
          0.2232,
          0.2225,
          0.2223,
          0.2222,
          0.2224,
          0.2221,
          0.2222,
          0.2222,
          0.224,
          0.2223,
          0.2227,
          0.2222,
          0.225,
          0.2221,
          0.2222,
          0.2221,
          0.2209,
          0.2246,
          0.2223,
          0.2223,
          0.2222,
          0.9907,
          0.2222,
          0.2222,
          0.2224,
          0.2222,
          0.2244,
          0.2222,
          0.2222,
          0.2222,
          0.2223,
          0.2223,
          0.2223,
          0.2224,
          0.9983,
          0.2317,
          0.2224,
          0.2222,
          0.2246,
          0.2225,
          0.2222,
          0.2222,
          0.5939,
          0.2223,
          0.2221,
          0.2223,
          0.2222,
          0.221,
          0.2222,
          0.2222,
          0.238,
          0.2241,
          0.2249,
          0.2222,
          0.8001,
          0.2222,
          0.9618,
          0.2238,
          0.2221,
          0.2224,
          1,
          0.2221,
          0.8647,
          0.4522,
          0.9966,
          0.9489,
          0.87,
          0.2224,
          0.2249,
          0.2248,
          0.2225,
          0.3864,
          0.2222,
          0.2223,
          0.2223,
          0.2223,
          0.2223,
          0.7871,
          0.2222,
          0.2222,
          0.2222,
          0.2222,
          0.4459,
          0.2224,
          0.2248,
          0.2224,
          0.221,
          0.2222,
          0.2222,
          0.2225,
          0.2225,
          0.2236,
          0.2224,
          0.2205,
          0.2222,
          0.2223,
          0.9721,
          0.2223,
          0.2223,
          0.2223,
          0.2225,
          0.2225,
          0.3801,
          0.2223,
          0.2222,
          0.2222,
          0.2222,
          0.2223,
          0.9885,
          0.2222,
          0.2223,
          0.2223,
          0.2222,
          0.2222,
          0.2222,
          0.2222,
          0.2224,
          0.223,
          0.4605,
          0.2223,
          0.2222,
          0.2306,
          0.2272,
          0.2222,
          0.224,
          0.2223,
          0.2222,
          0.2754,
          0.2222,
          0.2418,
          0.2232,
          0.2222,
          0.231,
          0.9871,
          0.229,
          0.9992,
          0.9994,
          0.9985,
          0.2223,
          0.2221,
          0.2222,
          0.2225,
          0.2222,
          0.2225,
          0.2223,
          0.2222,
          0.2732,
          0.2222,
          0.2835,
          0.2219,
          0.2223,
          0.2224,
          0.2223,
          0.4479,
          0.2226,
          0.2222,
          0.2261,
          0.2233,
          0.2222,
          0.4462,
          0.2245,
          0.2239,
          0.9739,
          0.2234,
          0.9566,
          0.4323,
          0.8321,
          0.9721,
          0.2224,
          0.2239,
          0.3304,
          0.2505,
          0.2224,
          0.6775,
          0.9261,
          0.4467,
          0.3983,
          0.2224,
          0.2222,
          0.2225,
          1,
          0.2222,
          0.6415,
          0.4447,
          0.9708,
          0.4661,
          0.2233,
          0.2244,
          0.2223,
          0.9484,
          0.248,
          0.2253,
          0.2223,
          0.2222,
          0.2221,
          0.2225,
          0.2223,
          0.2225,
          0.2282,
          0.2225,
          0.221,
          0.2204,
          0.2222,
          0.3577,
          0.2222,
          0.2225,
          0.2222,
          0.2221,
          0.2222,
          0.2222,
          0.2256,
          0.221,
          0.2226,
          0.2225,
          0.4625,
          0.2665,
          0.2233,
          0.2222,
          0.9755,
          0.2222,
          0.2412,
          0.2221,
          1,
          0.2222,
          0.2222,
          0.2222,
          0.2225,
          0.2231,
          0.2223,
          0.2222,
          0.2223,
          0.2223,
          0.2223,
          0.9843,
          0.2222,
          0.9733,
          0.2225,
          0.2217,
          0.9815,
          0.2231,
          0.2263,
          0.2224,
          0.2224,
          0.9738,
          0.2699,
          0.2225,
          1,
          0.2224,
          0.2219,
          0.2225,
          0.2276,
          0.2364,
          0.2224,
          0.2554,
          0.2225,
          0.2223,
          1,
          0.2223,
          0.2224,
          0.457,
          0.4458,
          0.2222,
          0.2225,
          0.9893,
          0.9268,
          0.4459,
          0.2223,
          0.2363,
          0.2223,
          0.2222,
          0.2222,
          0.9122,
          0.2225,
          0.2223,
          0.2224,
          0.2222,
          0.2222,
          0.2222,
          0.2222,
          0.2223,
          0.2222,
          0.9839,
          0.2225,
          0.2222,
          0.2222,
          0.2225,
          0.2225,
          0.2222,
          0.2209,
          0.2225,
          0.2224,
          0.2223,
          0.2221,
          0.2221,
          0.224,
          1,
          0.2221,
          0.8429,
          0.4459,
          0.9922,
          0.9921,
          0.223,
          0.4463,
          0.4447,
          0.2242,
          0.2223,
          0.2223,
          0.2225,
          0.2218,
          0.2226
         ],
         "yaxis": "y"
        },
        {
         "hovertemplate": "x=%{x}<br>y=%{y}<extra></extra>",
         "legendgroup": "",
         "line": {
          "color": "lightgreen",
          "dash": "solid",
          "width": 3
         },
         "marker": {
          "symbol": "circle"
         },
         "mode": "lines",
         "name": "",
         "orientation": "v",
         "showlegend": false,
         "type": "scatter",
         "x": [
          0.3,
          1
         ],
         "xaxis": "x",
         "y": [
          0.3,
          1
         ],
         "yaxis": "y"
        }
       ],
       "layout": {
        "autosize": false,
        "height": 500,
        "legend": {
         "title": {
          "text": "Diff_Perc < 10"
         },
         "tracegroupgap": 0
        },
        "margin": {
         "t": 60
        },
        "template": {
         "data": {
          "bar": [
           {
            "error_x": {
             "color": "#2a3f5f"
            },
            "error_y": {
             "color": "#2a3f5f"
            },
            "marker": {
             "line": {
              "color": "#E5ECF6",
              "width": 0.5
             },
             "pattern": {
              "fillmode": "overlay",
              "size": 10,
              "solidity": 0.2
             }
            },
            "type": "bar"
           }
          ],
          "barpolar": [
           {
            "marker": {
             "line": {
              "color": "#E5ECF6",
              "width": 0.5
             },
             "pattern": {
              "fillmode": "overlay",
              "size": 10,
              "solidity": 0.2
             }
            },
            "type": "barpolar"
           }
          ],
          "carpet": [
           {
            "aaxis": {
             "endlinecolor": "#2a3f5f",
             "gridcolor": "white",
             "linecolor": "white",
             "minorgridcolor": "white",
             "startlinecolor": "#2a3f5f"
            },
            "baxis": {
             "endlinecolor": "#2a3f5f",
             "gridcolor": "white",
             "linecolor": "white",
             "minorgridcolor": "white",
             "startlinecolor": "#2a3f5f"
            },
            "type": "carpet"
           }
          ],
          "choropleth": [
           {
            "colorbar": {
             "outlinewidth": 0,
             "ticks": ""
            },
            "type": "choropleth"
           }
          ],
          "contour": [
           {
            "colorbar": {
             "outlinewidth": 0,
             "ticks": ""
            },
            "colorscale": [
             [
              0,
              "#0d0887"
             ],
             [
              0.1111111111111111,
              "#46039f"
             ],
             [
              0.2222222222222222,
              "#7201a8"
             ],
             [
              0.3333333333333333,
              "#9c179e"
             ],
             [
              0.4444444444444444,
              "#bd3786"
             ],
             [
              0.5555555555555556,
              "#d8576b"
             ],
             [
              0.6666666666666666,
              "#ed7953"
             ],
             [
              0.7777777777777778,
              "#fb9f3a"
             ],
             [
              0.8888888888888888,
              "#fdca26"
             ],
             [
              1,
              "#f0f921"
             ]
            ],
            "type": "contour"
           }
          ],
          "contourcarpet": [
           {
            "colorbar": {
             "outlinewidth": 0,
             "ticks": ""
            },
            "type": "contourcarpet"
           }
          ],
          "heatmap": [
           {
            "colorbar": {
             "outlinewidth": 0,
             "ticks": ""
            },
            "colorscale": [
             [
              0,
              "#0d0887"
             ],
             [
              0.1111111111111111,
              "#46039f"
             ],
             [
              0.2222222222222222,
              "#7201a8"
             ],
             [
              0.3333333333333333,
              "#9c179e"
             ],
             [
              0.4444444444444444,
              "#bd3786"
             ],
             [
              0.5555555555555556,
              "#d8576b"
             ],
             [
              0.6666666666666666,
              "#ed7953"
             ],
             [
              0.7777777777777778,
              "#fb9f3a"
             ],
             [
              0.8888888888888888,
              "#fdca26"
             ],
             [
              1,
              "#f0f921"
             ]
            ],
            "type": "heatmap"
           }
          ],
          "heatmapgl": [
           {
            "colorbar": {
             "outlinewidth": 0,
             "ticks": ""
            },
            "colorscale": [
             [
              0,
              "#0d0887"
             ],
             [
              0.1111111111111111,
              "#46039f"
             ],
             [
              0.2222222222222222,
              "#7201a8"
             ],
             [
              0.3333333333333333,
              "#9c179e"
             ],
             [
              0.4444444444444444,
              "#bd3786"
             ],
             [
              0.5555555555555556,
              "#d8576b"
             ],
             [
              0.6666666666666666,
              "#ed7953"
             ],
             [
              0.7777777777777778,
              "#fb9f3a"
             ],
             [
              0.8888888888888888,
              "#fdca26"
             ],
             [
              1,
              "#f0f921"
             ]
            ],
            "type": "heatmapgl"
           }
          ],
          "histogram": [
           {
            "marker": {
             "pattern": {
              "fillmode": "overlay",
              "size": 10,
              "solidity": 0.2
             }
            },
            "type": "histogram"
           }
          ],
          "histogram2d": [
           {
            "colorbar": {
             "outlinewidth": 0,
             "ticks": ""
            },
            "colorscale": [
             [
              0,
              "#0d0887"
             ],
             [
              0.1111111111111111,
              "#46039f"
             ],
             [
              0.2222222222222222,
              "#7201a8"
             ],
             [
              0.3333333333333333,
              "#9c179e"
             ],
             [
              0.4444444444444444,
              "#bd3786"
             ],
             [
              0.5555555555555556,
              "#d8576b"
             ],
             [
              0.6666666666666666,
              "#ed7953"
             ],
             [
              0.7777777777777778,
              "#fb9f3a"
             ],
             [
              0.8888888888888888,
              "#fdca26"
             ],
             [
              1,
              "#f0f921"
             ]
            ],
            "type": "histogram2d"
           }
          ],
          "histogram2dcontour": [
           {
            "colorbar": {
             "outlinewidth": 0,
             "ticks": ""
            },
            "colorscale": [
             [
              0,
              "#0d0887"
             ],
             [
              0.1111111111111111,
              "#46039f"
             ],
             [
              0.2222222222222222,
              "#7201a8"
             ],
             [
              0.3333333333333333,
              "#9c179e"
             ],
             [
              0.4444444444444444,
              "#bd3786"
             ],
             [
              0.5555555555555556,
              "#d8576b"
             ],
             [
              0.6666666666666666,
              "#ed7953"
             ],
             [
              0.7777777777777778,
              "#fb9f3a"
             ],
             [
              0.8888888888888888,
              "#fdca26"
             ],
             [
              1,
              "#f0f921"
             ]
            ],
            "type": "histogram2dcontour"
           }
          ],
          "mesh3d": [
           {
            "colorbar": {
             "outlinewidth": 0,
             "ticks": ""
            },
            "type": "mesh3d"
           }
          ],
          "parcoords": [
           {
            "line": {
             "colorbar": {
              "outlinewidth": 0,
              "ticks": ""
             }
            },
            "type": "parcoords"
           }
          ],
          "pie": [
           {
            "automargin": true,
            "type": "pie"
           }
          ],
          "scatter": [
           {
            "marker": {
             "colorbar": {
              "outlinewidth": 0,
              "ticks": ""
             }
            },
            "type": "scatter"
           }
          ],
          "scatter3d": [
           {
            "line": {
             "colorbar": {
              "outlinewidth": 0,
              "ticks": ""
             }
            },
            "marker": {
             "colorbar": {
              "outlinewidth": 0,
              "ticks": ""
             }
            },
            "type": "scatter3d"
           }
          ],
          "scattercarpet": [
           {
            "marker": {
             "colorbar": {
              "outlinewidth": 0,
              "ticks": ""
             }
            },
            "type": "scattercarpet"
           }
          ],
          "scattergeo": [
           {
            "marker": {
             "colorbar": {
              "outlinewidth": 0,
              "ticks": ""
             }
            },
            "type": "scattergeo"
           }
          ],
          "scattergl": [
           {
            "marker": {
             "colorbar": {
              "outlinewidth": 0,
              "ticks": ""
             }
            },
            "type": "scattergl"
           }
          ],
          "scattermapbox": [
           {
            "marker": {
             "colorbar": {
              "outlinewidth": 0,
              "ticks": ""
             }
            },
            "type": "scattermapbox"
           }
          ],
          "scatterpolar": [
           {
            "marker": {
             "colorbar": {
              "outlinewidth": 0,
              "ticks": ""
             }
            },
            "type": "scatterpolar"
           }
          ],
          "scatterpolargl": [
           {
            "marker": {
             "colorbar": {
              "outlinewidth": 0,
              "ticks": ""
             }
            },
            "type": "scatterpolargl"
           }
          ],
          "scatterternary": [
           {
            "marker": {
             "colorbar": {
              "outlinewidth": 0,
              "ticks": ""
             }
            },
            "type": "scatterternary"
           }
          ],
          "surface": [
           {
            "colorbar": {
             "outlinewidth": 0,
             "ticks": ""
            },
            "colorscale": [
             [
              0,
              "#0d0887"
             ],
             [
              0.1111111111111111,
              "#46039f"
             ],
             [
              0.2222222222222222,
              "#7201a8"
             ],
             [
              0.3333333333333333,
              "#9c179e"
             ],
             [
              0.4444444444444444,
              "#bd3786"
             ],
             [
              0.5555555555555556,
              "#d8576b"
             ],
             [
              0.6666666666666666,
              "#ed7953"
             ],
             [
              0.7777777777777778,
              "#fb9f3a"
             ],
             [
              0.8888888888888888,
              "#fdca26"
             ],
             [
              1,
              "#f0f921"
             ]
            ],
            "type": "surface"
           }
          ],
          "table": [
           {
            "cells": {
             "fill": {
              "color": "#EBF0F8"
             },
             "line": {
              "color": "white"
             }
            },
            "header": {
             "fill": {
              "color": "#C8D4E3"
             },
             "line": {
              "color": "white"
             }
            },
            "type": "table"
           }
          ]
         },
         "layout": {
          "annotationdefaults": {
           "arrowcolor": "#2a3f5f",
           "arrowhead": 0,
           "arrowwidth": 1
          },
          "autotypenumbers": "strict",
          "coloraxis": {
           "colorbar": {
            "outlinewidth": 0,
            "ticks": ""
           }
          },
          "colorscale": {
           "diverging": [
            [
             0,
             "#8e0152"
            ],
            [
             0.1,
             "#c51b7d"
            ],
            [
             0.2,
             "#de77ae"
            ],
            [
             0.3,
             "#f1b6da"
            ],
            [
             0.4,
             "#fde0ef"
            ],
            [
             0.5,
             "#f7f7f7"
            ],
            [
             0.6,
             "#e6f5d0"
            ],
            [
             0.7,
             "#b8e186"
            ],
            [
             0.8,
             "#7fbc41"
            ],
            [
             0.9,
             "#4d9221"
            ],
            [
             1,
             "#276419"
            ]
           ],
           "sequential": [
            [
             0,
             "#0d0887"
            ],
            [
             0.1111111111111111,
             "#46039f"
            ],
            [
             0.2222222222222222,
             "#7201a8"
            ],
            [
             0.3333333333333333,
             "#9c179e"
            ],
            [
             0.4444444444444444,
             "#bd3786"
            ],
            [
             0.5555555555555556,
             "#d8576b"
            ],
            [
             0.6666666666666666,
             "#ed7953"
            ],
            [
             0.7777777777777778,
             "#fb9f3a"
            ],
            [
             0.8888888888888888,
             "#fdca26"
            ],
            [
             1,
             "#f0f921"
            ]
           ],
           "sequentialminus": [
            [
             0,
             "#0d0887"
            ],
            [
             0.1111111111111111,
             "#46039f"
            ],
            [
             0.2222222222222222,
             "#7201a8"
            ],
            [
             0.3333333333333333,
             "#9c179e"
            ],
            [
             0.4444444444444444,
             "#bd3786"
            ],
            [
             0.5555555555555556,
             "#d8576b"
            ],
            [
             0.6666666666666666,
             "#ed7953"
            ],
            [
             0.7777777777777778,
             "#fb9f3a"
            ],
            [
             0.8888888888888888,
             "#fdca26"
            ],
            [
             1,
             "#f0f921"
            ]
           ]
          },
          "colorway": [
           "#636efa",
           "#EF553B",
           "#00cc96",
           "#ab63fa",
           "#FFA15A",
           "#19d3f3",
           "#FF6692",
           "#B6E880",
           "#FF97FF",
           "#FECB52"
          ],
          "font": {
           "color": "#2a3f5f"
          },
          "geo": {
           "bgcolor": "white",
           "lakecolor": "white",
           "landcolor": "#E5ECF6",
           "showlakes": true,
           "showland": true,
           "subunitcolor": "white"
          },
          "hoverlabel": {
           "align": "left"
          },
          "hovermode": "closest",
          "mapbox": {
           "style": "light"
          },
          "paper_bgcolor": "white",
          "plot_bgcolor": "#E5ECF6",
          "polar": {
           "angularaxis": {
            "gridcolor": "white",
            "linecolor": "white",
            "ticks": ""
           },
           "bgcolor": "#E5ECF6",
           "radialaxis": {
            "gridcolor": "white",
            "linecolor": "white",
            "ticks": ""
           }
          },
          "scene": {
           "xaxis": {
            "backgroundcolor": "#E5ECF6",
            "gridcolor": "white",
            "gridwidth": 2,
            "linecolor": "white",
            "showbackground": true,
            "ticks": "",
            "zerolinecolor": "white"
           },
           "yaxis": {
            "backgroundcolor": "#E5ECF6",
            "gridcolor": "white",
            "gridwidth": 2,
            "linecolor": "white",
            "showbackground": true,
            "ticks": "",
            "zerolinecolor": "white"
           },
           "zaxis": {
            "backgroundcolor": "#E5ECF6",
            "gridcolor": "white",
            "gridwidth": 2,
            "linecolor": "white",
            "showbackground": true,
            "ticks": "",
            "zerolinecolor": "white"
           }
          },
          "shapedefaults": {
           "line": {
            "color": "#2a3f5f"
           }
          },
          "ternary": {
           "aaxis": {
            "gridcolor": "white",
            "linecolor": "white",
            "ticks": ""
           },
           "baxis": {
            "gridcolor": "white",
            "linecolor": "white",
            "ticks": ""
           },
           "bgcolor": "#E5ECF6",
           "caxis": {
            "gridcolor": "white",
            "linecolor": "white",
            "ticks": ""
           }
          },
          "title": {
           "x": 0.05
          },
          "xaxis": {
           "automargin": true,
           "gridcolor": "white",
           "linecolor": "white",
           "ticks": "",
           "title": {
            "standoff": 15
           },
           "zerolinecolor": "white",
           "zerolinewidth": 2
          },
          "yaxis": {
           "automargin": true,
           "gridcolor": "white",
           "linecolor": "white",
           "ticks": "",
           "title": {
            "standoff": 15
           },
           "zerolinecolor": "white",
           "zerolinewidth": 2
          }
         }
        },
        "title": {
         "text": "Efficiency Scores Comparison (Blue: 366, Red: 1278)"
        },
        "width": 800,
        "xaxis": {
         "anchor": "y",
         "autorange": true,
         "domain": [
          0,
          1
         ],
         "range": [
          0.17257481821660925,
          1.0494251817833908
         ],
         "title": {
          "text": "ES - 2nd DEA Model"
         },
         "type": "linear"
        },
        "yaxis": {
         "anchor": "x",
         "autorange": true,
         "domain": [
          0,
          1
         ],
         "range": [
          0.15218412322274882,
          1.0545158767772511
         ],
         "title": {
          "text": "ES - 1st DEA Model"
         },
         "type": "linear"
        }
       }
      },
      "image/png": "[encoded data removed]",
      "text/html": [
       "<div>                            <div id=\"fa7df0cf-3b68-47c1-98a1-1d5b6c9b6f45\" class=\"plotly-graph-div\" style=\"height:500px; width:800px;\"></div>            <script type=\"text/javascript\">                require([\"plotly\"], function(Plotly) {                    window.PLOTLYENV=window.PLOTLYENV || {};                                    if (document.getElementById(\"fa7df0cf-3b68-47c1-98a1-1d5b6c9b6f45\")) {                    Plotly.newPlot(                        \"fa7df0cf-3b68-47c1-98a1-1d5b6c9b6f45\",                        [{\"customdata\":[[28.9496,\"DMU 0001\"],[26.9649,\"DMU 0002\"],[30.3207,\"DMU 0003\"],[34.2209,\"DMU 0004\"],[26.3193,\"DMU 0006\"],[37.749,\"DMU 0007\"],[44.248,\"DMU 0008\"],[27.9901,\"DMU 0009\"],[31.9817,\"DMU 0010\"],[24.3613,\"DMU 0011\"],[33.4575,\"DMU 0012\"],[27.9837,\"DMU 0014\"],[26.804,\"DMU 0015\"],[29.4929,\"DMU 0016\"],[28.6803,\"DMU 0017\"],[31.5617,\"DMU 0018\"],[27.9098,\"DMU 0019\"],[29.9704,\"DMU 0020\"],[29.5436,\"DMU 0022\"],[40.6485,\"DMU 0023\"],[31.3777,\"DMU 0024\"],[28.7996,\"DMU 0025\"],[44.2059,\"DMU 0026\"],[26.7891,\"DMU 0029\"],[27.6928,\"DMU 0030\"],[30.9844,\"DMU 0031\"],[29.7684,\"DMU 0033\"],[31.1575,\"DMU 0034\"],[29.903,\"DMU 0035\"],[28.5328,\"DMU 0036\"],[29.4079,\"DMU 0038\"],[27.4993,\"DMU 0039\"],[31.5729,\"DMU 0040\"],[30.1857,\"DMU 0042\"],[29.4172,\"DMU 0043\"],[31.7352,\"DMU 0044\"],[33.2092,\"DMU 0045\"],[35.0388,\"DMU 0046\"],[37.0361,\"DMU 0047\"],[38.9435,\"DMU 0048\"],[34.147,\"DMU 0049\"],[34.9335,\"DMU 0050\"],[29.8551,\"DMU 0051\"],[35.9815,\"DMU 0052\"],[30.7082,\"DMU 0054\"],[27.184,\"DMU 0055\"],[29.559,\"DMU 0057\"],[30.6903,\"DMU 0058\"],[29.4593,\"DMU 0059\"],[31.9938,\"DMU 0060\"],[30.1003,\"DMU 0061\"],[32.5428,\"DMU 0062\"],[15.9486,\"DMU 0063\"],[29.9824,\"DMU 0064\"],[18.6931,\"DMU 0066\"],[29.2676,\"DMU 0067\"],[43.8433,\"DMU 0069\"],[18.9891,\"DMU 0070\"],[28.2288,\"DMU 0072\"],[31.7328,\"DMU 0073\"],[28.0872,\"DMU 0074\"],[29.3606,\"DMU 0075\"],[37.8219,\"DMU 0076\"],[30.7887,\"DMU 0077\"],[30.9625,\"DMU 0078\"],[14.0343,\"DMU 0080\"],[27.3638,\"DMU 0081\"],[28.3751,\"DMU 0082\"],[17.4487,\"DMU 0083\"],[28.324,\"DMU 0084\"],[48.1752,\"DMU 0085\"],[30.3221,\"DMU 0086\"],[13.1314,\"DMU 0087\"],[44.4189,\"DMU 0089\"],[49.9696,\"DMU 0090\"],[46.998,\"DMU 0092\"],[43.5839,\"DMU 0094\"],[35.7916,\"DMU 0095\"],[39.4778,\"DMU 0098\"],[30.7362,\"DMU 0100\"],[16.7723,\"DMU 0101\"],[36.8361,\"DMU 0102\"],[57.6079,\"DMU 0104\"],[39.1528,\"DMU 0106\"],[42.8934,\"DMU 0107\"],[50.4013,\"DMU 0108\"],[24.7944,\"DMU 0110\"],[43.8345,\"DMU 0113\"],[33.598,\"DMU 0114\"],[43.954,\"DMU 0115\"],[10.362,\"DMU 0116\"],[34.4037,\"DMU 0117\"],[31.8197,\"DMU 0118\"],[62.2686,\"DMU 0119\"],[41.7532,\"DMU 0121\"],[30.5878,\"DMU 0123\"],[52.3358,\"DMU 0124\"],[54.7731,\"DMU 0125\"],[27.0433,\"DMU 0127\"],[21.3385,\"DMU 0129\"],[57.0307,\"DMU 0130\"],[42.6355,\"DMU 0131\"],[28.7785,\"DMU 0133\"],[19.3453,\"DMU 0134\"],[43.7002,\"DMU 0135\"],[12.376,\"DMU 0136\"],[40.1779,\"DMU 0138\"],[16.5117,\"DMU 0139\"],[56.2099,\"DMU 0141\"],[53.4765,\"DMU 0143\"],[52.1748,\"DMU 0144\"],[42.3644,\"DMU 0145\"],[52.5822,\"DMU 0146\"],[47.3887,\"DMU 0147\"],[58.8728,\"DMU 0148\"],[54.4702,\"DMU 0149\"],[57.9946,\"DMU 0150\"],[16.6195,\"DMU 0151\"],[53.8364,\"DMU 0153\"],[34.9001,\"DMU 0155\"],[18.3459,\"DMU 0159\"],[30.5786,\"DMU 0161\"],[10.8648,\"DMU 0163\"],[52.542,\"DMU 0164\"],[26.3989,\"DMU 0170\"],[58.9433,\"DMU 0171\"],[10.8835,\"DMU 0172\"],[27.2369,\"DMU 0173\"],[46.9946,\"DMU 0174\"],[50.9035,\"DMU 0176\"],[24.2163,\"DMU 0178\"],[15.7722,\"DMU 0180\"],[30.9547,\"DMU 0182\"],[23.9692,\"DMU 0184\"],[26.5942,\"DMU 0187\"],[53.7304,\"DMU 0188\"],[50.1016,\"DMU 0189\"],[51.7165,\"DMU 0190\"],[51.1645,\"DMU 0191\"],[47.3862,\"DMU 0192\"],[11.9962,\"DMU 0194\"],[19.6645,\"DMU 0195\"],[56.5905,\"DMU 0196\"],[52.6962,\"DMU 0197\"],[19.8124,\"DMU 0202\"],[51.0486,\"DMU 0203\"],[54.8024,\"DMU 0205\"],[54.7444,\"DMU 0206\"],[54.6379,\"DMU 0207\"],[35.8181,\"DMU 0208\"],[10.7511,\"DMU 0209\"],[47.899,\"DMU 0210\"],[10.6664,\"DMU 0213\"],[44.2631,\"DMU 0214\"],[15.3045,\"DMU 0215\"],[49.812,\"DMU 0217\"],[51.2083,\"DMU 0218\"],[51.6468,\"DMU 0219\"],[21.789,\"DMU 0220\"],[29.2929,\"DMU 0221\"],[60.6473,\"DMU 0222\"],[51.2447,\"DMU 0224\"],[60.0702,\"DMU 0225\"],[66.2363,\"DMU 0227\"],[57.7723,\"DMU 0228\"],[53.2484,\"DMU 0229\"],[56.4937,\"DMU 0230\"],[17.7994,\"DMU 0232\"],[41.6295,\"DMU 0233\"],[53.6026,\"DMU 0234\"],[16.7055,\"DMU 0235\"],[46.4079,\"DMU 0236\"],[52.5528,\"DMU 0237\"],[52.5289,\"DMU 0238\"],[53.291,\"DMU 0242\"],[18.5522,\"DMU 0243\"],[57.2393,\"DMU 0244\"],[54.0629,\"DMU 0252\"],[43.6639,\"DMU 0255\"],[53.7894,\"DMU 0256\"],[17.8672,\"DMU 0257\"],[63.0497,\"DMU 0258\"],[53.9362,\"DMU 0261\"],[52.1796,\"DMU 0262\"],[35.242,\"DMU 0263\"],[58.1392,\"DMU 0264\"],[29.3517,\"DMU 0265\"],[61.2056,\"DMU 0266\"],[58.0481,\"DMU 0267\"],[57.6908,\"DMU 0269\"],[25.7781,\"DMU 0270\"],[12.3601,\"DMU 0272\"],[25.3329,\"DMU 0273\"],[47.9723,\"DMU 0274\"],[57.2462,\"DMU 0275\"],[47.638,\"DMU 0276\"],[52.5053,\"DMU 0277\"],[54.1219,\"DMU 0278\"],[51.438,\"DMU 0280\"],[22.5943,\"DMU 0287\"],[51.4983,\"DMU 0289\"],[30.5952,\"DMU 0292\"],[55.9505,\"DMU 0294\"],[33.239,\"DMU 0301\"],[39.1539,\"DMU 0302\"],[39.542,\"DMU 0303\"],[62.3382,\"DMU 0304\"],[19.5669,\"DMU 0305\"],[54.1111,\"DMU 0307\"],[62.715,\"DMU 0308\"],[19.5098,\"DMU 0309\"],[20.5225,\"DMU 0310\"],[58.6824,\"DMU 0313\"],[41.0137,\"DMU 0316\"],[14.1144,\"DMU 0317\"],[41.6272,\"DMU 0318\"],[40.2872,\"DMU 0320\"],[32.5587,\"DMU 0321\"],[49.685,\"DMU 0322\"],[55.9201,\"DMU 0323\"],[39.9927,\"DMU 0324\"],[35.1208,\"DMU 0325\"],[28.2239,\"DMU 0327\"],[20.3687,\"DMU 0328\"],[48.9577,\"DMU 0329\"],[33.4933,\"DMU 0330\"],[29.1257,\"DMU 0331\"],[34.5078,\"DMU 0332\"],[49.2438,\"DMU 0333\"],[50.4345,\"DMU 0334\"],[58.3544,\"DMU 0337\"],[52.989,\"DMU 0340\"],[32.4607,\"DMU 0341\"],[22.2922,\"DMU 0343\"],[29.5487,\"DMU 0346\"],[46.0184,\"DMU 0348\"],[29.2275,\"DMU 0349\"],[24.6634,\"DMU 0351\"],[39.2858,\"DMU 0352\"],[10.9459,\"DMU 0353\"],[29.0756,\"DMU 0356\"],[44.5025,\"DMU 0358\"],[41.7136,\"DMU 0359\"],[29.3278,\"DMU 0360\"],[46.0909,\"DMU 0361\"],[29.8237,\"DMU 0364\"],[28.9072,\"DMU 0366\"],[29.3259,\"DMU 0367\"],[31.6146,\"DMU 0369\"],[11.9973,\"DMU 0370\"],[44.0803,\"DMU 0371\"],[34.6614,\"DMU 0372\"],[50.3938,\"DMU 0374\"],[17.0194,\"DMU 0375\"],[31.7783,\"DMU 0376\"],[36.3067,\"DMU 0377\"],[28.8657,\"DMU 0378\"],[51.0999,\"DMU 0379\"],[54.0855,\"DMU 0381\"],[29.1598,\"DMU 0382\"],[52.1176,\"DMU 0383\"],[40.4419,\"DMU 0384\"],[17.546,\"DMU 0385\"],[40.0956,\"DMU 0386\"],[16.6253,\"DMU 0388\"],[28.2771,\"DMU 0389\"],[25.8681,\"DMU 0390\"],[47.4217,\"DMU 0391\"],[52.2203,\"DMU 0392\"],[16.9874,\"DMU 0393\"],[38.0065,\"DMU 0394\"],[36.9126,\"DMU 0396\"],[41.354,\"DMU 0397\"],[31.4409,\"DMU 0398\"],[26.7604,\"DMU 0399\"],[32.5998,\"DMU 0400\"],[41.4297,\"DMU 0401\"],[53.1185,\"DMU 0405\"],[66.0296,\"DMU 0406\"],[46.1711,\"DMU 0407\"],[49.2267,\"DMU 0408\"],[46.3925,\"DMU 0410\"],[48.5771,\"DMU 0412\"],[40.5616,\"DMU 0413\"],[65.7569,\"DMU 0414\"],[46.0587,\"DMU 0415\"],[12.4314,\"DMU 0416\"],[50.2704,\"DMU 0417\"],[31.2013,\"DMU 0418\"],[46.9572,\"DMU 0419\"],[20.8988,\"DMU 0422\"],[22.9473,\"DMU 0424\"],[58.0142,\"DMU 0426\"],[52.0961,\"DMU 0428\"],[41.1371,\"DMU 0429\"],[17.6275,\"DMU 0431\"],[29.1981,\"DMU 0432\"],[29.5565,\"DMU 0434\"],[48.2909,\"DMU 0435\"],[41.1745,\"DMU 0436\"],[45.8666,\"DMU 0437\"],[29.4901,\"DMU 0438\"],[36.548,\"DMU 0439\"],[37.8699,\"DMU 0440\"],[50.9981,\"DMU 0441\"],[18.698,\"DMU 0442\"],[26.239,\"DMU 0443\"],[44.1937,\"DMU 0444\"],[19.6882,\"DMU 0446\"],[37.2334,\"DMU 0447\"],[44.405,\"DMU 0448\"],[29.5919,\"DMU 0449\"],[37.69,\"DMU 0450\"],[48.0098,\"DMU 0452\"],[48.7737,\"DMU 0453\"],[40.7205,\"DMU 0454\"],[57.3127,\"DMU 0455\"],[30.8994,\"DMU 0457\"],[41.8412,\"DMU 0459\"],[30.2149,\"DMU 0461\"],[31.4607,\"DMU 0462\"],[34.504,\"DMU 0463\"],[35.1303,\"DMU 0464\"],[34.6162,\"DMU 0465\"],[35.2849,\"DMU 0466\"],[34.2765,\"DMU 0467\"],[30.5732,\"DMU 0468\"],[35.9764,\"DMU 0469\"],[36.0776,\"DMU 0470\"],[34.6625,\"DMU 0471\"],[34.4073,\"DMU 0472\"],[34.4718,\"DMU 0473\"],[34.4446,\"DMU 0474\"],[34.5497,\"DMU 0475\"],[29.2433,\"DMU 0477\"],[34.3251,\"DMU 0478\"],[30.2419,\"DMU 0479\"],[37.9225,\"DMU 0480\"],[31.5555,\"DMU 0481\"],[31.7239,\"DMU 0482\"],[30.7369,\"DMU 0483\"],[28.6309,\"DMU 0484\"],[37.1172,\"DMU 0485\"],[30.7962,\"DMU 0486\"],[29.1652,\"DMU 0487\"],[35.4024,\"DMU 0488\"],[31.6538,\"DMU 0490\"],[35.1038,\"DMU 0492\"],[40.5059,\"DMU 0493\"],[32.809,\"DMU 0495\"],[31.835,\"DMU 0496\"],[30.8928,\"DMU 0497\"],[42.9127,\"DMU 0498\"],[27.6105,\"DMU 0499\"],[32.1606,\"DMU 0500\"],[25.0108,\"DMU 0501\"],[26.1163,\"DMU 0502\"],[30.3152,\"DMU 0503\"],[32.7099,\"DMU 0505\"],[27.3967,\"DMU 0506\"],[29.6747,\"DMU 0507\"],[38.4307,\"DMU 0508\"],[55.0577,\"DMU 0509\"],[29.0741,\"DMU 0510\"],[29.6086,\"DMU 0511\"],[29.5056,\"DMU 0513\"],[29.89,\"DMU 0514\"],[30.4343,\"DMU 0515\"],[38.8047,\"DMU 0516\"],[34.8537,\"DMU 0517\"],[31.589,\"DMU 0518\"],[30.3375,\"DMU 0519\"],[35.9531,\"DMU 0520\"],[35.233,\"DMU 0521\"],[30.8322,\"DMU 0523\"],[60.0097,\"DMU 0524\"],[29.7539,\"DMU 0525\"],[35.8761,\"DMU 0526\"],[33.9585,\"DMU 0527\"],[39.4297,\"DMU 0528\"],[29.5828,\"DMU 0533\"],[29.1239,\"DMU 0538\"],[33.2796,\"DMU 0540\"],[27.9396,\"DMU 0541\"],[15.98,\"DMU 0542\"],[29.8685,\"DMU 0543\"],[35.5127,\"DMU 0544\"],[33.8198,\"DMU 0545\"],[30.1197,\"DMU 0546\"],[29.0295,\"DMU 0547\"],[38.6214,\"DMU 0548\"],[35.5278,\"DMU 0549\"],[31.3035,\"DMU 0550\"],[48.217,\"DMU 0551\"],[40.3524,\"DMU 0552\"],[31.9809,\"DMU 0553\"],[29.5676,\"DMU 0554\"],[41.8111,\"DMU 0556\"],[31.5303,\"DMU 0559\"],[30.8452,\"DMU 0560\"],[29.3851,\"DMU 0562\"],[33.9935,\"DMU 0563\"],[35.5063,\"DMU 0564\"],[36.0419,\"DMU 0565\"],[35.2159,\"DMU 0566\"],[29.6947,\"DMU 0567\"],[30.9723,\"DMU 0568\"],[38.9896,\"DMU 0569\"],[31.3311,\"DMU 0571\"],[44.3797,\"DMU 0573\"],[50.0194,\"DMU 0574\"],[29.9443,\"DMU 0575\"],[28.4773,\"DMU 0576\"],[30.4141,\"DMU 0578\"],[46.3077,\"DMU 0579\"],[34.287,\"DMU 0580\"],[29.3945,\"DMU 0581\"],[19.832,\"DMU 0582\"],[25.2496,\"DMU 0583\"],[30.5321,\"DMU 0584\"],[29.3317,\"DMU 0585\"],[31.0892,\"DMU 0586\"],[30.5996,\"DMU 0587\"],[38.5379,\"DMU 0588\"],[48.5979,\"DMU 0590\"],[34.5757,\"DMU 0591\"],[38.4284,\"DMU 0592\"],[48.6991,\"DMU 0593\"],[40.9945,\"DMU 0594\"],[26.9152,\"DMU 0595\"],[31.1046,\"DMU 0597\"],[31.6086,\"DMU 0598\"],[39.524,\"DMU 0599\"],[34.7351,\"DMU 0602\"],[47.5503,\"DMU 0603\"],[18.8784,\"DMU 0604\"],[29.6399,\"DMU 0605\"],[19.3291,\"DMU 0606\"],[31.3425,\"DMU 0607\"],[30.6696,\"DMU 0608\"],[12.5997,\"DMU 0611\"],[47.2787,\"DMU 0612\"],[24.8739,\"DMU 0614\"],[43.1377,\"DMU 0615\"],[42.2448,\"DMU 0617\"],[35.2109,\"DMU 0618\"],[14.5789,\"DMU 0621\"],[37.7649,\"DMU 0623\"],[27.7982,\"DMU 0624\"],[46.4672,\"DMU 0625\"],[30.9431,\"DMU 0626\"],[31.0315,\"DMU 0627\"],[36.8447,\"DMU 0628\"],[40.4339,\"DMU 0629\"],[41.8259,\"DMU 0630\"],[28.9121,\"DMU 0631\"],[33.1367,\"DMU 0632\"],[28.7008,\"DMU 0633\"],[37.9668,\"DMU 0634\"],[21.368,\"DMU 0635\"],[43.7449,\"DMU 0637\"],[25.121,\"DMU 0639\"],[29.9684,\"DMU 0640\"],[46.4574,\"DMU 0641\"],[46.81,\"DMU 0642\"],[30.0396,\"DMU 0648\"],[37.3019,\"DMU 0649\"],[38.7086,\"DMU 0650\"],[31.557,\"DMU 0651\"],[62.4833,\"DMU 0652\"],[29.3918,\"DMU 0653\"],[16.2269,\"DMU 0654\"],[55.3617,\"DMU 0657\"],[29.7014,\"DMU 0662\"],[47.1361,\"DMU 0664\"],[44.699,\"DMU 0665\"],[22.2241,\"DMU 0666\"],[28.8493,\"DMU 0667\"],[44.7752,\"DMU 0668\"],[30.9774,\"DMU 0670\"],[49.3757,\"DMU 0672\"],[31.9167,\"DMU 0673\"],[31.1189,\"DMU 0674\"],[29.9488,\"DMU 0675\"],[23.6347,\"DMU 0676\"],[31.6788,\"DMU 0678\"],[29.4218,\"DMU 0679\"],[48.0461,\"DMU 0680\"],[48.6792,\"DMU 0682\"],[31.0248,\"DMU 0683\"],[25.2317,\"DMU 0685\"],[37.5848,\"DMU 0686\"],[36.0948,\"DMU 0687\"],[30.2793,\"DMU 0688\"],[45.3134,\"DMU 0689\"],[38.6067,\"DMU 0690\"],[33.511,\"DMU 0691\"],[43.1585,\"DMU 0693\"],[37.1566,\"DMU 0694\"],[32.8219,\"DMU 0695\"],[53.0634,\"DMU 0696\"],[25.5489,\"DMU 0697\"],[34.2782,\"DMU 0698\"],[10.1294,\"DMU 0699\"],[30.4641,\"DMU 0700\"],[33.4969,\"DMU 0701\"],[29.9074,\"DMU 0702\"],[37.8658,\"DMU 0703\"],[34.9194,\"DMU 0705\"],[22.9399,\"DMU 0706\"],[17.8613,\"DMU 0707\"],[41.9723,\"DMU 0708\"],[41.9767,\"DMU 0709\"],[39.5503,\"DMU 0711\"],[50.0502,\"DMU 0712\"],[32.8289,\"DMU 0713\"],[32.1205,\"DMU 0714\"],[34.3885,\"DMU 0715\"],[37.6783,\"DMU 0717\"],[24.7325,\"DMU 0719\"],[23.5234,\"DMU 0720\"],[32.6206,\"DMU 0721\"],[14.8982,\"DMU 0722\"],[32.278,\"DMU 0724\"],[23.6136,\"DMU 0725\"],[27.9996,\"DMU 0726\"],[28.2013,\"DMU 0728\"],[33.4018,\"DMU 0730\"],[36.5691,\"DMU 0731\"],[35.2465,\"DMU 0732\"],[27.4189,\"DMU 0733\"],[48.6049,\"DMU 0734\"],[29.6107,\"DMU 0735\"],[41.4787,\"DMU 0736\"],[14.2477,\"DMU 0737\"],[43.1433,\"DMU 0739\"],[30.3529,\"DMU 0740\"],[32.7408,\"DMU 0741\"],[30.9906,\"DMU 0744\"],[42.1391,\"DMU 0745\"],[32.4099,\"DMU 0746\"],[27.1193,\"DMU 0747\"],[45.4915,\"DMU 0748\"],[16.4074,\"DMU 0751\"],[39.0367,\"DMU 0752\"],[33.6077,\"DMU 0754\"],[52.8634,\"DMU 0755\"],[14.254,\"DMU 0756\"],[12.1873,\"DMU 0759\"],[43.9466,\"DMU 0760\"],[33.5379,\"DMU 0761\"],[60.2134,\"DMU 0765\"],[13.8112,\"DMU 0766\"],[19.4598,\"DMU 0769\"],[64.5916,\"DMU 0770\"],[66.0901,\"DMU 0771\"],[30.92,\"DMU 0772\"],[32.4717,\"DMU 0774\"],[15.05,\"DMU 0776\"],[49.9562,\"DMU 0777\"],[49.3367,\"DMU 0778\"],[53.1118,\"DMU 0779\"],[44.4675,\"DMU 0780\"],[54.7556,\"DMU 0782\"],[47.0643,\"DMU 0783\"],[29.8334,\"DMU 0784\"],[18.1991,\"DMU 0785\"],[33.6497,\"DMU 0787\"],[28.4136,\"DMU 0789\"],[54.1323,\"DMU 0790\"],[46.882,\"DMU 0791\"],[48.3964,\"DMU 0792\"],[32.7863,\"DMU 0794\"],[48.5648,\"DMU 0795\"],[62.7527,\"DMU 0796\"],[31.7026,\"DMU 0797\"],[40.6484,\"DMU 0798\"],[29.4356,\"DMU 0800\"],[46.661,\"DMU 0801\"],[70.1261,\"DMU 0802\"],[60.1643,\"DMU 0804\"],[32.5297,\"DMU 0806\"],[47.8708,\"DMU 0809\"],[44.7267,\"DMU 0811\"],[24.5124,\"DMU 0813\"],[29.6632,\"DMU 0814\"],[27.7984,\"DMU 0815\"],[30.8777,\"DMU 0816\"],[50.7184,\"DMU 0818\"],[17.6496,\"DMU 0819\"],[62.556,\"DMU 0820\"],[44.2865,\"DMU 0821\"],[49.9654,\"DMU 0822\"],[30.2468,\"DMU 0823\"],[45.8329,\"DMU 0827\"],[15.6073,\"DMU 0828\"],[62.6362,\"DMU 0829\"],[34.7391,\"DMU 0830\"],[39.8746,\"DMU 0831\"],[46.7614,\"DMU 0832\"],[30.1811,\"DMU 0833\"],[52.9074,\"DMU 0836\"],[24.1416,\"DMU 0838\"],[43.7086,\"DMU 0839\"],[19.4351,\"DMU 0840\"],[50.9865,\"DMU 0843\"],[21.6054,\"DMU 0844\"],[50.7597,\"DMU 0845\"],[57.8685,\"DMU 0846\"],[35.4309,\"DMU 0847\"],[60.5855,\"DMU 0849\"],[33.439,\"DMU 0851\"],[42.6505,\"DMU 0852\"],[26.8889,\"DMU 0856\"],[22.7408,\"DMU 0857\"],[40.5466,\"DMU 0859\"],[54.8042,\"DMU 0861\"],[39.4668,\"DMU 0862\"],[26.8565,\"DMU 0863\"],[44.4227,\"DMU 0864\"],[39.713,\"DMU 0865\"],[29.2457,\"DMU 0868\"],[16.6252,\"DMU 0869\"],[17.057,\"DMU 0872\"],[55.7512,\"DMU 0873\"],[40.9651,\"DMU 0874\"],[44.4021,\"DMU 0875\"],[33.2971,\"DMU 0877\"],[36.125,\"DMU 0878\"],[58.8641,\"DMU 0880\"],[37.3521,\"DMU 0882\"],[11.6479,\"DMU 0883\"],[33.9678,\"DMU 0884\"],[40.9542,\"DMU 0885\"],[26.2476,\"DMU 0887\"],[45.0652,\"DMU 0890\"],[55.4772,\"DMU 0894\"],[14.7213,\"DMU 0895\"],[36.6511,\"DMU 0897\"],[35.8118,\"DMU 0899\"],[46.9546,\"DMU 0900\"],[43.1964,\"DMU 0901\"],[36.0881,\"DMU 0904\"],[29.6102,\"DMU 0906\"],[16.4689,\"DMU 0908\"],[41.0619,\"DMU 0910\"],[36.2786,\"DMU 0911\"],[49.3571,\"DMU 0912\"],[26.1552,\"DMU 0913\"],[32.7258,\"DMU 0914\"],[26.3266,\"DMU 0915\"],[28.771,\"DMU 0916\"],[29.4957,\"DMU 0917\"],[26.5118,\"DMU 0918\"],[44.4482,\"DMU 0919\"],[27.5838,\"DMU 0920\"],[44.8134,\"DMU 0921\"],[14.6308,\"DMU 0923\"],[54.0237,\"DMU 0925\"],[33.6548,\"DMU 0926\"],[39.0756,\"DMU 0927\"],[44.8705,\"DMU 0928\"],[21.8631,\"DMU 0929\"],[58.7901,\"DMU 0931\"],[30.8547,\"DMU 0933\"],[29.2842,\"DMU 0934\"],[27.6676,\"DMU 0936\"],[31.8225,\"DMU 0939\"],[30.1342,\"DMU 0940\"],[32.8855,\"DMU 0941\"],[31.9252,\"DMU 0942\"],[25.5956,\"DMU 0944\"],[31.6553,\"DMU 0945\"],[28.8204,\"DMU 0946\"],[26.8428,\"DMU 0947\"],[31.3254,\"DMU 0948\"],[32.5422,\"DMU 0949\"],[37.9595,\"DMU 0951\"],[30.5139,\"DMU 0952\"],[29.6952,\"DMU 0953\"],[27.4079,\"DMU 0954\"],[34.8516,\"DMU 0955\"],[54.0348,\"DMU 0956\"],[27.8062,\"DMU 0960\"],[29.184,\"DMU 0963\"],[28.0628,\"DMU 0965\"],[37.2915,\"DMU 0966\"],[44.9435,\"DMU 0967\"],[31.2402,\"DMU 0971\"],[13.5233,\"DMU 0972\"],[28.0742,\"DMU 0973\"],[22.2338,\"DMU 0974\"],[29.2512,\"DMU 0977\"],[43.04,\"DMU 0979\"],[28.7517,\"DMU 0980\"],[34.4219,\"DMU 0981\"],[28.9117,\"DMU 0982\"],[27.9187,\"DMU 0984\"],[26.1798,\"DMU 0985\"],[29.7269,\"DMU 0986\"],[31.9928,\"DMU 0987\"],[41.9155,\"DMU 0988\"],[30.8579,\"DMU 0990\"],[35.6738,\"DMU 0991\"],[30.0608,\"DMU 0992\"],[24.8889,\"DMU 0994\"],[24.8233,\"DMU 0995\"],[35.9668,\"DMU 0996\"],[32.0483,\"DMU 0998\"],[57.1675,\"DMU 1000\"],[34.4783,\"DMU 1001\"],[27.0815,\"DMU 1002\"],[28.8761,\"DMU 1003\"],[55.0953,\"DMU 1004\"],[33.7923,\"DMU 1006\"],[18.8348,\"DMU 1007\"],[33.5338,\"DMU 1008\"],[33.26,\"DMU 1009\"],[34.7163,\"DMU 1010\"],[49.1055,\"DMU 1011\"],[42.2608,\"DMU 1012\"],[25.5813,\"DMU 1013\"],[41.3321,\"DMU 1014\"],[28.8652,\"DMU 1015\"],[23.6768,\"DMU 1017\"],[30.068,\"DMU 1018\"],[33.5569,\"DMU 1019\"],[25.9427,\"DMU 1020\"],[54.4514,\"DMU 1021\"],[17.557,\"DMU 1022\"],[42.0342,\"DMU 1023\"],[50.4892,\"DMU 1024\"],[46.4223,\"DMU 1025\"],[34.1879,\"DMU 1026\"],[52.9422,\"DMU 1027\"],[42.1752,\"DMU 1028\"],[31.7157,\"DMU 1029\"],[30.3492,\"DMU 1030\"],[32.8891,\"DMU 1031\"],[31.9525,\"DMU 1032\"],[28.5634,\"DMU 1033\"],[62.6862,\"DMU 1034\"],[44.3906,\"DMU 1035\"],[43.802,\"DMU 1036\"],[30.8809,\"DMU 1037\"],[30.9007,\"DMU 1038\"],[45.9823,\"DMU 1039\"],[40.5921,\"DMU 1040\"],[56.4497,\"DMU 1042\"],[48.1001,\"DMU 1043\"],[12.6199,\"DMU 1044\"],[44.2116,\"DMU 1045\"],[48.3026,\"DMU 1046\"],[26.6088,\"DMU 1047\"],[40.7166,\"DMU 1048\"],[48.2904,\"DMU 1049\"],[28.8172,\"DMU 1050\"],[31.3062,\"DMU 1051\"],[42.8754,\"DMU 1052\"],[53.9301,\"DMU 1053\"],[43.4322,\"DMU 1054\"],[41.8171,\"DMU 1056\"],[36.9267,\"DMU 1057\"],[43.8911,\"DMU 1061\"],[35.0035,\"DMU 1062\"],[36.8659,\"DMU 1064\"],[15.3535,\"DMU 1065\"],[26.9871,\"DMU 1066\"],[36.4802,\"DMU 1067\"],[39.4366,\"DMU 1069\"],[39.0542,\"DMU 1070\"],[35.9726,\"DMU 1072\"],[35.1832,\"DMU 1073\"],[35.5775,\"DMU 1078\"],[30.7485,\"DMU 1079\"],[35.174,\"DMU 1080\"],[42.1219,\"DMU 1081\"],[37.4978,\"DMU 1082\"],[37.9712,\"DMU 1085\"],[15.3942,\"DMU 1086\"],[32.8341,\"DMU 1087\"],[44.7435,\"DMU 1090\"],[34.7694,\"DMU 1091\"],[26.4999,\"DMU 1093\"],[21.76,\"DMU 1094\"],[32.1893,\"DMU 1098\"],[45.0114,\"DMU 1099\"],[30.3896,\"DMU 1100\"],[38.0427,\"DMU 1101\"],[27.2802,\"DMU 1102\"],[44.5701,\"DMU 1103\"],[10.4933,\"DMU 1104\"],[53.3825,\"DMU 1105\"],[29.7819,\"DMU 1106\"],[28.5725,\"DMU 1107\"],[50.7828,\"DMU 1108\"],[34.0966,\"DMU 1109\"],[26.6323,\"DMU 1110\"],[30.9912,\"DMU 1111\"],[55.9482,\"DMU 1112\"],[32.412,\"DMU 1114\"],[30.4183,\"DMU 1115\"],[36.5117,\"DMU 1116\"],[30.6976,\"DMU 1117\"],[34.5092,\"DMU 1118\"],[21.3968,\"DMU 1119\"],[32.2313,\"DMU 1120\"],[54.5353,\"DMU 1121\"],[34.5984,\"DMU 1122\"],[22.7509,\"DMU 1123\"],[35.1294,\"DMU 1124\"],[36.5565,\"DMU 1125\"],[61.0379,\"DMU 1126\"],[52.8245,\"DMU 1127\"],[32.6314,\"DMU 1128\"],[40.8249,\"DMU 1129\"],[35.9312,\"DMU 1130\"],[33.3789,\"DMU 1132\"],[29.9905,\"DMU 1136\"],[35.8131,\"DMU 1138\"],[31.0447,\"DMU 1139\"],[22.3995,\"DMU 1140\"],[27.4148,\"DMU 1141\"],[31.8199,\"DMU 1142\"],[29.2666,\"DMU 1143\"],[38.968,\"DMU 1144\"],[32.5281,\"DMU 1145\"],[40.1467,\"DMU 1146\"],[30.7847,\"DMU 1147\"],[23.2063,\"DMU 1148\"],[34.4073,\"DMU 1149\"],[34.3275,\"DMU 1150\"],[23.3543,\"DMU 1151\"],[35.6192,\"DMU 1152\"],[32.5744,\"DMU 1153\"],[16.5067,\"DMU 1154\"],[46.1387,\"DMU 1156\"],[31.2889,\"DMU 1157\"],[53.4139,\"DMU 1158\"],[55.2036,\"DMU 1160\"],[39.7746,\"DMU 1161\"],[55.356,\"DMU 1162\"],[17.7249,\"DMU 1164\"],[44.3448,\"DMU 1166\"],[35.7475,\"DMU 1167\"],[53.1507,\"DMU 1169\"],[49.3304,\"DMU 1171\"],[13.5484,\"DMU 1172\"],[52.0515,\"DMU 1173\"],[11.6716,\"DMU 1174\"],[49.1155,\"DMU 1175\"],[11.5495,\"DMU 1176\"],[45.5169,\"DMU 1177\"],[53.2298,\"DMU 1180\"],[12.9815,\"DMU 1181\"],[51.6385,\"DMU 1182\"],[48.3675,\"DMU 1184\"],[41.7137,\"DMU 1186\"],[47.2978,\"DMU 1187\"],[33.5081,\"DMU 1189\"],[27.9347,\"DMU 1195\"],[34.5881,\"DMU 1196\"],[55.9818,\"DMU 1198\"],[30.5064,\"DMU 1199\"],[47.7588,\"DMU 1200\"],[26.8864,\"DMU 1201\"],[18.8773,\"DMU 1204\"],[22.8218,\"DMU 1205\"],[37.591,\"DMU 1206\"],[27.5352,\"DMU 1207\"],[46.8841,\"DMU 1208\"],[19.8058,\"DMU 1209\"],[45.9712,\"DMU 1210\"],[59.3712,\"DMU 1212\"],[53.5902,\"DMU 1213\"],[30.6196,\"DMU 1215\"],[54.3963,\"DMU 1216\"],[29.229,\"DMU 1217\"],[42.986,\"DMU 1218\"],[57.0732,\"DMU 1220\"],[29.7445,\"DMU 1221\"],[53.1018,\"DMU 1222\"],[42.9354,\"DMU 1223\"],[54.0083,\"DMU 1224\"],[42.1116,\"DMU 1226\"],[30.03,\"DMU 1227\"],[48.4549,\"DMU 1228\"],[31.866,\"DMU 1229\"],[39.5965,\"DMU 1230\"],[54.7209,\"DMU 1232\"],[53.0414,\"DMU 1233\"],[22.2439,\"DMU 1234\"],[29.9614,\"DMU 1235\"],[30.757,\"DMU 1236\"],[51.8585,\"DMU 1237\"],[36.2138,\"DMU 1238\"],[54.8141,\"DMU 1239\"],[33.7381,\"DMU 1240\"],[54.2732,\"DMU 1242\"],[47.3151,\"DMU 1243\"],[54.2655,\"DMU 1244\"],[47.7364,\"DMU 1245\"],[14.4462,\"DMU 1246\"],[48.86,\"DMU 1247\"],[45.2807,\"DMU 1248\"],[18.5304,\"DMU 1249\"],[37.4454,\"DMU 1250\"],[30.4183,\"DMU 1253\"],[48.8539,\"DMU 1254\"],[11.4221,\"DMU 1255\"],[24.6722,\"DMU 1258\"],[31.2431,\"DMU 1259\"],[42.263,\"DMU 1260\"],[36.9138,\"DMU 1261\"],[27.7064,\"DMU 1262\"],[22.0233,\"DMU 1263\"],[23.4545,\"DMU 1264\"],[29.4249,\"DMU 1265\"],[32.6824,\"DMU 1266\"],[39.3598,\"DMU 1267\"],[54.0242,\"DMU 1268\"],[15.3794,\"DMU 1269\"],[30.8238,\"DMU 1270\"],[25.1895,\"DMU 1271\"],[31.2137,\"DMU 1272\"],[41.6727,\"DMU 1273\"],[31.6319,\"DMU 1274\"],[33.5613,\"DMU 1275\"],[16.4997,\"DMU 1277\"],[56.3171,\"DMU 1281\"],[34.0982,\"DMU 1282\"],[54.2163,\"DMU 1283\"],[52.5586,\"DMU 1284\"],[33.6329,\"DMU 1286\"],[22.3537,\"DMU 1287\"],[33.8224,\"DMU 1288\"],[46.3515,\"DMU 1289\"],[45.1458,\"DMU 1290\"],[39.1156,\"DMU 1291\"],[44.8627,\"DMU 1292\"],[40.0459,\"DMU 1293\"],[46.2616,\"DMU 1294\"],[46.3938,\"DMU 1296\"],[36.4269,\"DMU 1297\"],[25.8436,\"DMU 1298\"],[21.6851,\"DMU 1299\"],[36.6687,\"DMU 1300\"],[27.5882,\"DMU 1301\"],[31.3355,\"DMU 1303\"],[53.7391,\"DMU 1305\"],[50.416,\"DMU 1306\"],[34.3434,\"DMU 1307\"],[30.7495,\"DMU 1309\"],[45.0347,\"DMU 1310\"],[29.0546,\"DMU 1311\"],[25.0662,\"DMU 1312\"],[12.4051,\"DMU 1314\"],[32.7061,\"DMU 1316\"],[29.0406,\"DMU 1317\"],[29.0305,\"DMU 1319\"],[22.0589,\"DMU 1321\"],[30.7604,\"DMU 1322\"],[29.2613,\"DMU 1323\"],[22.1856,\"DMU 1324\"],[48.657,\"DMU 1325\"],[30.0,\"DMU 1326\"],[29.0223,\"DMU 1327\"],[30.7967,\"DMU 1328\"],[29.0677,\"DMU 1329\"],[29.0249,\"DMU 1330\"],[29.0355,\"DMU 1331\"],[38.0981,\"DMU 1332\"],[50.7397,\"DMU 1333\"],[29.0007,\"DMU 1334\"],[46.9097,\"DMU 1335\"],[50.6545,\"DMU 1336\"],[29.054,\"DMU 1337\"],[29.7288,\"DMU 1338\"],[29.049,\"DMU 1340\"],[29.0623,\"DMU 1342\"],[41.4285,\"DMU 1343\"],[12.3754,\"DMU 1347\"],[30.6337,\"DMU 1348\"],[17.8677,\"DMU 1349\"],[36.1059,\"DMU 1350\"],[29.3125,\"DMU 1351\"],[14.6041,\"DMU 1352\"],[42.2614,\"DMU 1353\"],[29.0343,\"DMU 1355\"],[29.0675,\"DMU 1356\"],[30.8372,\"DMU 1357\"],[30.3889,\"DMU 1358\"],[53.8151,\"DMU 1359\"],[38.4436,\"DMU 1360\"],[39.4479,\"DMU 1361\"],[20.0821,\"DMU 1363\"],[54.1408,\"DMU 1364\"],[29.0145,\"DMU 1365\"],[27.1247,\"DMU 1366\"],[35.142,\"DMU 1367\"],[39.6683,\"DMU 1368\"],[53.9887,\"DMU 1369\"],[35.6879,\"DMU 1370\"],[28.6666,\"DMU 1371\"],[46.2101,\"DMU 1372\"],[45.847,\"DMU 1373\"],[37.7572,\"DMU 1375\"],[27.241,\"DMU 1376\"],[18.2876,\"DMU 1377\"],[11.7762,\"DMU 1378\"],[26.697,\"DMU 1379\"],[31.1669,\"DMU 1380\"],[48.5972,\"DMU 1381\"],[25.9041,\"DMU 1383\"],[29.3303,\"DMU 1384\"],[24.2633,\"DMU 1386\"],[14.5751,\"DMU 1387\"],[27.0174,\"DMU 1391\"],[57.5873,\"DMU 1393\"],[47.0669,\"DMU 1395\"],[32.7321,\"DMU 1397\"],[39.1429,\"DMU 1398\"],[39.2836,\"DMU 1399\"],[42.1058,\"DMU 1400\"],[11.3606,\"DMU 1401\"],[19.5528,\"DMU 1402\"],[16.3893,\"DMU 1403\"],[41.1129,\"DMU 1404\"],[31.9422,\"DMU 1405\"],[46.0106,\"DMU 1406\"],[57.3636,\"DMU 1407\"],[44.9157,\"DMU 1408\"],[61.2822,\"DMU 1409\"],[54.2101,\"DMU 1411\"],[32.1843,\"DMU 1412\"],[37.6005,\"DMU 1413\"],[42.0833,\"DMU 1418\"],[47.7319,\"DMU 1420\"],[34.1198,\"DMU 1422\"],[15.4603,\"DMU 1424\"],[44.209,\"DMU 1426\"],[36.5836,\"DMU 1429\"],[25.5733,\"DMU 1430\"],[38.3963,\"DMU 1431\"],[30.1349,\"DMU 1432\"],[35.7869,\"DMU 1434\"],[39.7124,\"DMU 1436\"],[40.7885,\"DMU 1437\"],[38.1598,\"DMU 1438\"],[43.9382,\"DMU 1439\"],[36.9136,\"DMU 1440\"],[40.8976,\"DMU 1441\"],[37.0045,\"DMU 1442\"],[38.4674,\"DMU 1443\"],[38.2372,\"DMU 1444\"],[38.4989,\"DMU 1445\"],[36.6683,\"DMU 1446\"],[39.5029,\"DMU 1447\"],[16.5264,\"DMU 1448\"],[45.3019,\"DMU 1450\"],[30.7952,\"DMU 1453\"],[11.6708,\"DMU 1455\"],[33.5516,\"DMU 1458\"],[25.7858,\"DMU 1459\"],[25.7606,\"DMU 1460\"],[28.0032,\"DMU 1461\"],[29.1096,\"DMU 1462\"],[43.7177,\"DMU 1464\"],[41.3097,\"DMU 1465\"],[50.867,\"DMU 1467\"],[49.9711,\"DMU 1468\"],[20.9038,\"DMU 1469\"],[45.5937,\"DMU 1470\"],[47.205,\"DMU 1471\"],[48.4,\"DMU 1472\"],[29.646,\"DMU 1473\"],[52.5814,\"DMU 1474\"],[15.468,\"DMU 1475\"],[31.4308,\"DMU 1476\"],[48.4609,\"DMU 1477\"],[43.5327,\"DMU 1478\"],[63.6499,\"DMU 1479\"],[45.7044,\"DMU 1481\"],[39.8395,\"DMU 1485\"],[40.3928,\"DMU 1486\"],[53.7656,\"DMU 1489\"],[28.5407,\"DMU 1490\"],[43.6734,\"DMU 1493\"],[43.6015,\"DMU 1494\"],[43.8935,\"DMU 1495\"],[31.8952,\"DMU 1496\"],[43.7288,\"DMU 1497\"],[33.1706,\"DMU 1498\"],[59.7818,\"DMU 1499\"],[29.8246,\"DMU 1501\"],[28.3698,\"DMU 1502\"],[44.3113,\"DMU 1503\"],[37.4233,\"DMU 1504\"],[36.8301,\"DMU 1506\"],[30.749,\"DMU 1507\"],[38.5007,\"DMU 1508\"],[34.2676,\"DMU 1510\"],[40.7229,\"DMU 1511\"],[12.1652,\"DMU 1514\"],[46.7223,\"DMU 1515\"],[12.4741,\"DMU 1516\"],[26.0161,\"DMU 1519\"],[30.5677,\"DMU 1522\"],[42.1704,\"DMU 1523\"],[57.8809,\"DMU 1524\"],[62.0124,\"DMU 1526\"],[50.1993,\"DMU 1527\"],[39.7459,\"DMU 1528\"],[28.0825,\"DMU 1530\"],[55.5854,\"DMU 1531\"],[29.7347,\"DMU 1532\"],[57.2177,\"DMU 1533\"],[42.2748,\"DMU 1534\"],[19.9777,\"DMU 1535\"],[34.8215,\"DMU 1536\"],[28.2022,\"DMU 1537\"],[29.2765,\"DMU 1538\"],[48.9988,\"DMU 1539\"],[47.5306,\"DMU 1541\"],[45.7681,\"DMU 1542\"],[30.2734,\"DMU 1543\"],[24.7796,\"DMU 1544\"],[58.2923,\"DMU 1545\"],[21.1832,\"DMU 1546\"],[53.2499,\"DMU 1547\"],[54.053,\"DMU 1548\"],[52.1628,\"DMU 1549\"],[57.0136,\"DMU 1551\"],[34.2728,\"DMU 1552\"],[21.7967,\"DMU 1553\"],[38.7206,\"DMU 1554\"],[53.4854,\"DMU 1555\"],[26.5715,\"DMU 1556\"],[48.8123,\"DMU 1559\"],[20.1408,\"DMU 1561\"],[24.5354,\"DMU 1562\"],[17.7316,\"DMU 1565\"],[32.8288,\"DMU 1566\"],[51.8999,\"DMU 1567\"],[50.8063,\"DMU 1568\"],[49.1533,\"DMU 1569\"],[64.3715,\"DMU 1570\"],[27.9072,\"DMU 1571\"],[35.3028,\"DMU 1573\"],[33.403,\"DMU 1574\"],[51.4213,\"DMU 1576\"],[20.6852,\"DMU 1577\"],[27.9639,\"DMU 1579\"],[16.1844,\"DMU 1580\"],[19.3244,\"DMU 1581\"],[29.9943,\"DMU 1582\"],[54.5826,\"DMU 1583\"],[51.037,\"DMU 1584\"],[53.4377,\"DMU 1585\"],[42.4186,\"DMU 1586\"],[32.3718,\"DMU 1588\"],[10.5902,\"DMU 1589\"],[23.8674,\"DMU 1590\"],[25.895,\"DMU 1591\"],[29.5365,\"DMU 1592\"],[62.5563,\"DMU 1593\"],[13.6458,\"DMU 1594\"],[45.0302,\"DMU 1596\"],[33.5411,\"DMU 1597\"],[15.1297,\"DMU 1599\"],[30.4844,\"DMU 1601\"],[48.2194,\"DMU 1602\"],[15.8977,\"DMU 1603\"],[55.8997,\"DMU 1604\"],[24.2736,\"DMU 1607\"],[36.8064,\"DMU 1608\"],[51.3921,\"DMU 1611\"],[11.1024,\"DMU 1612\"],[29.5501,\"DMU 1613\"],[28.6683,\"DMU 1614\"],[49.2094,\"DMU 1615\"],[21.6194,\"DMU 1617\"],[44.5936,\"DMU 1618\"],[28.7797,\"DMU 1619\"],[24.0441,\"DMU 1620\"],[36.0052,\"DMU 1621\"],[19.219,\"DMU 1622\"],[32.2444,\"DMU 1623\"],[27.0641,\"DMU 1624\"],[29.3343,\"DMU 1625\"],[21.663,\"DMU 1626\"],[26.1338,\"DMU 1628\"],[14.5073,\"DMU 1629\"],[55.3266,\"DMU 1630\"],[22.0411,\"DMU 1632\"],[53.8436,\"DMU 1634\"],[47.8209,\"DMU 1635\"],[38.5303,\"DMU 1636\"],[48.5847,\"DMU 1637\"],[28.3775,\"DMU 1638\"],[33.3999,\"DMU 1639\"],[28.7228,\"DMU 1640\"],[28.7539,\"DMU 1641\"],[28.2737,\"DMU 1642\"],[30.9298,\"DMU 1643\"],[28.8526,\"DMU 1644\"],[35.1799,\"DMU 1645\"],[28.8728,\"DMU 1646\"],[28.7548,\"DMU 1647\"],[63.1859,\"DMU 1648\"],[50.1588,\"DMU 1649\"],[29.5687,\"DMU 1650\"],[29.673,\"DMU 1651\"],[28.8026,\"DMU 1652\"],[47.6877,\"DMU 1653\"],[29.7371,\"DMU 1654\"],[51.8472,\"DMU 1655\"],[21.104,\"DMU 1656\"],[29.914,\"DMU 1657\"],[21.4584,\"DMU 1658\"],[39.488,\"DMU 1659\"],[41.1467,\"DMU 1660\"],[36.4581,\"DMU 1661\"],[36.1113,\"DMU 1663\"],[41.8441,\"DMU 1664\"],[38.053,\"DMU 1666\"],[12.9555,\"DMU 1667\"],[32.9211,\"DMU 1668\"],[47.3714,\"DMU 1669\"],[53.2139,\"DMU 1670\"],[29.6629,\"DMU 1671\"],[62.2797,\"DMU 1672\"],[48.872,\"DMU 1673\"],[35.8484,\"DMU 1674\"],[16.9337,\"DMU 1675\"],[52.0103,\"DMU 1678\"],[35.7899,\"DMU 1680\"],[58.5177,\"DMU 1681\"],[43.2881,\"DMU 1682\"],[32.1576,\"DMU 1685\"],[31.1618,\"DMU 1686\"],[28.9374,\"DMU 1687\"],[36.3859,\"DMU 1688\"],[30.7024,\"DMU 1689\"],[29.5065,\"DMU 1690\"],[40.1775,\"DMU 1691\"],[32.1281,\"DMU 1692\"],[38.5086,\"DMU 1694\"],[31.7849,\"DMU 1696\"],[30.6921,\"DMU 1697\"],[48.9918,\"DMU 1699\"],[29.4721,\"DMU 1700\"],[33.8864,\"DMU 1701\"],[30.1937,\"DMU 1702\"],[49.8281,\"DMU 1703\"],[44.8334,\"DMU 1704\"],[47.9065,\"DMU 1705\"],[57.8587,\"DMU 1706\"],[36.536,\"DMU 1709\"],[33.6902,\"DMU 1710\"],[35.3626,\"DMU 1711\"],[54.4756,\"DMU 1712\"],[25.3939,\"DMU 1713\"],[25.2768,\"DMU 1714\"],[59.673,\"DMU 1715\"],[30.5639,\"DMU 1717\"],[11.3567,\"DMU 1718\"],[15.6171,\"DMU 1719\"],[46.2505,\"DMU 1720\"],[31.7593,\"DMU 1721\"],[31.8574,\"DMU 1722\"],[55.3048,\"DMU 1725\"],[23.0373,\"DMU 1727\"],[22.3784,\"DMU 1728\"],[31.7345,\"DMU 1729\"],[33.011,\"DMU 1730\"],[37.6825,\"DMU 1731\"],[34.5489,\"DMU 1732\"]],\"hovertemplate\":\"Diff_Perc < 10=False<br>Efficiency_Scores_Basic=%{x}<br>Efficiency_Scores_with_ML=%{y}<br>Diff_Perc=%{customdata[0]}<br>index=%{customdata[1]}<extra></extra>\",\"legendgroup\":\"False\",\"line\":{\"color\":\"lightgreen\",\"width\":3},\"marker\":{\"color\":\"red\",\"symbol\":\"circle\"},\"mode\":\"markers\",\"name\":\"False\",\"showlegend\":true,\"type\":\"scattergl\",\"x\":[0.7289,0.3198,0.7455,0.7975,0.3022,0.3577,0.3994,0.7168,0.7709,0.6735,0.7922,0.7172,0.7017,0.737,0.7216,0.763,0.7154,0.743,0.7377,0.9114,0.7589,0.7257,0.9812,0.7027,0.7117,0.7546,0.7356,0.7595,0.7377,0.7221,0.7359,0.7109,0.7609,0.7426,0.7342,0.7647,0.7813,0.8091,0.8369,0.543,0.7943,0.8035,0.7408,0.7148,0.7494,0.7064,0.7349,0.7482,0.7361,0.7701,0.7436,0.7721,0.5317,0.7398,0.6135,0.7313,0.9741,0.2747,0.7206,0.7602,0.7158,0.7332,0.8437,0.749,0.7568,0.5692,0.709,0.7217,0.2689,0.3104,0.4923,0.7479,0.2553,0.4012,0.4457,0.4178,0.3946,0.6136,0.3677,0.3212,0.2683,0.3532,0.5266,0.3657,0.3896,0.4509,0.2959,0.9464,0.3353,0.6074,0.2482,0.3506,0.3264,0.75,0.3548,0.3207,0.4666,0.4926,1.0,0.2829,0.5181,0.3879,0.3121,0.2755,0.3954,0.2537,0.3715,0.2663,0.5085,0.4785,0.4655,0.3693,0.4695,0.4231,0.5458,0.489,0.5301,0.2672,0.4823,0.342,0.2721,0.3308,0.2493,0.4691,0.302,0.5423,0.2497,0.3059,1.0,0.4534,0.2937,0.2642,0.3216,0.2928,0.3032,0.4814,0.4457,0.461,0.456,0.4227,0.2529,0.277,0.5129,0.4708,0.2792,0.4548,0.4892,0.4885,0.4871,0.3468,0.2493,0.4272,0.2491,0.3982,0.2627,0.4435,0.4563,0.4603,0.2846,0.3148,0.5655,0.4556,0.5575,0.6645,0.5272,0.4766,0.5121,0.2707,0.6095,0.4799,0.2671,0.4083,0.4691,0.4689,0.4768,0.2733,0.5209,0.4847,0.3942,0.4817,0.2705,0.6027,0.4836,0.4655,0.534,0.5318,0.3158,0.5783,0.5304,0.526,0.2998,0.2537,0.2979,0.4274,0.5205,0.4241,0.4674,0.4854,0.4576,0.2875,0.4514,0.319,0.5099,0.3329,0.365,0.3681,0.75,0.2763,0.4856,0.602,0.2765,0.2797,0.5398,0.3779,0.2591,0.3805,0.404,0.3306,0.4425,0.5051,0.3729,0.8092,0.3138,0.2796,0.4415,0.3463,0.3248,0.3434,0.4476,0.4492,0.5398,0.4739,0.7179,0.2864,0.7376,0.829,0.7334,0.2953,0.8028,0.2495,0.7314,0.8083,0.3819,0.7348,0.8465,0.7412,0.7293,0.7347,0.7581,0.2528,0.8029,0.81,0.4482,0.2677,0.3261,0.8079,0.725,0.9149,0.4853,0.7325,0.4717,0.7521,0.2697,0.3718,0.265,0.3945,0.3168,0.4233,0.4996,0.2676,0.8192,0.8384,0.3798,0.3247,0.3039,0.3894,0.38,0.4776,0.6664,0.4166,0.4427,0.4152,0.4331,0.3744,0.6552,0.4129,0.2678,0.4516,0.323,0.4205,0.2813,0.3043,0.5347,0.4645,0.3858,0.5917,0.3145,0.734,0.4312,0.3783,0.4142,0.728,0.8178,0.3612,0.4544,0.3186,0.312,0.4045,0.2813,0.3549,0.3996,0.3162,0.8466,0.43,0.8769,0.3758,0.5261,0.7556,0.92,0.7465,0.729,0.8077,0.8075,0.8074,0.8062,0.8041,0.7508,0.8156,0.8117,0.8079,0.8063,0.8074,0.801,0.8073,0.7178,0.7487,0.7463,0.5515,0.7176,0.7362,0.7589,0.7242,0.3534,0.742,0.7299,0.8031,0.7612,0.804,1.0,0.7826,0.7649,0.7376,0.3976,0.7065,0.7704,0.3025,0.6935,0.7445,0.7742,0.7096,0.7173,0.8685,0.4953,0.5924,0.732,0.7175,0.7389,0.7474,0.8734,0.8106,0.7607,0.7353,0.8308,0.8193,0.7495,0.557,0.7305,0.6495,0.6806,0.8814,0.7309,0.5111,0.7774,0.707,0.6669,0.7386,0.6738,0.6304,0.7322,0.7178,0.8536,0.6532,0.6854,0.4769,0.8706,0.7534,0.7395,0.672,0.4582,0.7461,0.7315,0.6261,0.8057,0.8123,0.8133,0.7258,0.737,0.6647,0.3243,0.4003,0.4475,0.7362,0.3111,0.7441,0.4135,0.3386,0.7352,0.2772,0.6821,0.7496,0.7329,0.7384,0.7478,0.3623,0.4332,0.3402,0.3617,0.4346,0.91,0.6811,0.7531,0.7593,0.8902,0.3413,0.4281,0.5724,0.732,0.2759,0.7551,0.7523,0.2545,0.4225,0.6567,0.3913,0.3851,0.7805,0.3401,0.8488,0.3085,0.8582,0.5288,0.7545,0.8375,0.3738,0.3828,0.3133,0.3334,0.7302,0.8575,0.2832,0.395,0.2971,0.349,0.421,0.5465,0.7417,0.3475,0.8715,0.3253,0.75,0.7355,0.2662,0.499,0.4269,0.4214,0.4028,0.2861,0.3129,0.5632,0.7568,0.5337,0.7645,0.5348,0.5316,0.4471,0.7684,0.3152,1.0,0.434,0.7413,0.4315,0.3563,0.8094,0.7473,0.4078,0.8561,0.5308,0.3937,0.7212,0.5992,0.5774,0.4309,0.3628,0.2476,0.7499,0.7763,0.3893,0.8563,0.7239,0.3838,0.3727,0.8883,0.7941,0.8768,0.447,0.7598,0.7482,0.6284,0.7605,0.2971,0.4147,0.5126,0.2615,0.7752,0.6291,0.5085,0.72,0.6041,0.7753,0.3439,0.3067,0.434,0.7386,0.5314,0.259,0.4931,0.3197,0.7706,0.3223,0.3849,0.3294,0.3056,0.4071,0.2658,0.3646,0.3363,0.4723,0.2593,0.253,0.3974,0.335,0.5595,0.2652,0.2854,0.6286,0.6619,0.3221,0.62,0.2659,0.45,0.5318,0.4748,0.8089,0.5116,0.8461,0.741,0.2727,0.4029,0.4367,0.4879,0.4193,0.8714,1.0,0.4329,0.602,0.3248,0.8992,0.7361,0.4256,0.9142,0.5636,0.7779,0.4348,0.5896,0.4099,0.7392,0.7151,0.746,0.4571,0.2711,0.7499,0.8202,0.4477,0.7461,0.4111,0.2637,1.0,0.4454,0.885,0.4182,0.7456,0.4765,0.3582,0.9524,0.2759,0.4543,0.6424,0.4521,0.5322,0.3429,0.5653,0.7836,0.9501,0.305,0.2881,0.9087,0.4929,0.3677,0.3537,0.4007,0.8944,0.3146,0.2669,0.3481,0.5066,0.3771,0.4004,0.7846,0.8334,0.5433,0.4833,0.2518,0.7869,0.5956,0.3015,1.0,0.5001,0.261,0.8405,0.5018,0.4201,0.9493,0.822,0.3162,0.3346,0.9192,0.349,0.562,0.6817,0.7723,0.6894,0.7209,0.7349,0.6904,0.4169,0.3269,0.4048,0.2626,0.483,0.7744,0.8536,0.4188,0.6178,0.5398,0.7339,0.7314,0.703,0.7659,0.334,0.6114,0.7651,0.6775,0.7421,0.71,0.3044,0.7107,0.7712,0.8512,0.7454,0.7329,0.705,0.6126,0.8903,0.7131,0.3144,0.4442,0.8522,0.4013,0.7554,0.2575,0.718,0.3435,0.7215,0.9122,0.7214,0.8025,0.7293,0.7129,0.6927,0.7378,0.7438,0.3878,0.755,0.826,0.7397,0.6744,0.6727,0.8028,0.7584,0.9435,0.7879,0.3156,0.3132,1.0,0.3361,0.2738,0.3499,0.7588,0.7853,0.4394,0.9314,0.318,0.7749,0.6861,0.2911,0.7364,0.748,0.3108,0.985,0.2695,0.7718,0.9071,1.0,0.789,0.5066,0.385,0.7482,0.7429,0.7795,0.327,0.707,0.601,0.4006,0.9585,0.7478,0.7471,0.8388,0.8582,0.5155,0.4293,0.2543,0.3988,0.4319,0.3033,0.8965,0.4303,0.3119,0.3242,0.3907,0.4839,0.452,0.9339,0.8464,0.9749,0.8159,0.8448,0.4389,0.7045,0.8392,0.8891,0.8826,0.8309,0.8185,0.8247,0.7537,0.8185,0.4999,0.8558,0.8566,0.2633,0.3313,0.4098,0.7605,0.6991,0.645,0.7723,0.9973,0.7487,0.8366,0.696,0.9759,0.5362,0.4776,0.7176,0.7054,0.7603,0.3369,0.6788,0.5145,0.51,0.7704,0.7327,0.3508,0.7342,0.798,0.3331,0.7438,0.49,0.6425,0.337,0.7801,0.8056,0.7351,0.9486,0.7661,0.7133,0.7962,0.7758,0.7372,0.7047,0.7539,0.332,0.6275,0.4014,0.718,0.7729,0.7626,0.5799,0.658,0.4486,0.7612,0.7901,0.4082,0.796,0.7736,0.5838,0.8293,0.4389,0.5467,1.0,0.3714,0.4991,0.2714,0.3995,0.4305,0.4755,0.4918,0.2573,0.4643,0.2519,0.4381,0.2515,0.5405,0.4763,0.2556,0.4604,0.4314,0.3816,0.4227,0.3349,0.3087,0.3407,0.5099,0.3204,0.426,0.3044,0.274,0.2922,0.8493,0.3074,0.4274,0.2777,0.4121,0.5526,0.4796,0.3212,0.4885,0.3146,0.7888,0.5189,0.7362,0.4732,0.3904,0.4839,0.9353,0.318,0.431,0.3267,0.8447,0.4917,0.474,0.7729,0.743,0.3206,0.4735,0.7894,0.4938,0.7809,0.487,1.0,0.4866,0.8698,0.261,0.4352,0.4078,0.2736,0.356,0.7399,0.4352,0.2512,0.2955,0.7528,0.942,0.8426,0.7106,0.637,0.2923,0.7143,0.7781,0.3663,0.4843,0.2646,0.7521,0.6801,0.7565,0.9183,0.7627,0.7914,0.5933,0.5098,0.7785,0.4862,0.4717,0.552,0.2866,0.7943,0.4144,0.4058,0.875,0.9563,0.8881,1.0,1.0,0.8349,0.6873,0.6381,0.8356,0.6884,0.3237,0.4817,1.0,0.3391,0.7515,1.0,0.7313,0.2959,0.3546,0.3851,0.7308,0.7305,0.2857,0.7497,0.7337,0.2913,0.4321,0.7298,0.7305,0.7481,0.7312,0.7305,0.7304,0.3596,0.4503,0.7304,0.4201,0.4495,0.731,0.7247,0.7309,0.7311,0.9152,0.2536,0.7521,0.576,0.8035,0.3153,0.2816,0.3856,0.7307,0.731,0.755,0.7364,0.8104,0.8611,0.8797,0.6111,0.4883,0.7304,0.7064,0.3833,0.3798,0.4841,0.3461,0.7262,0.4144,0.4111,0.6231,0.3058,0.5755,0.4841,0.3038,0.7536,0.433,0.3008,0.3154,0.2937,0.2606,0.341,0.5274,0.4211,0.3311,0.8534,0.8626,0.8473,0.2511,0.2765,0.3241,0.9025,0.3272,1.0,0.5235,0.9835,0.576,0.4862,0.3283,0.3862,0.9175,0.9434,0.3384,0.9545,0.9686,0.3508,1.0,0.8329,0.9196,0.8121,0.8696,0.3759,0.3605,0.8394,0.8379,0.8825,0.8398,0.864,0.8524,0.8331,0.8313,0.856,0.2666,0.896,0.7528,0.2519,0.7929,0.6884,0.6897,0.7154,0.7276,0.9711,0.7615,0.4544,0.4462,0.3151,0.41,0.8798,0.4314,0.7313,0.6303,0.2633,0.4119,1.0,0.9668,0.6139,0.4725,0.5183,0.7556,0.9709,0.7246,0.9695,0.9675,0.9734,0.3979,0.4047,0.3344,0.558,0.735,0.311,0.9695,0.3562,0.8363,0.7407,0.8632,0.3384,0.3754,0.2529,0.9144,0.2539,0.3013,0.3205,0.3847,0.529,0.5864,0.4468,0.3697,0.309,0.5009,0.3162,0.5243,0.3857,0.2783,0.3943,0.3105,0.315,0.4366,0.4246,0.4104,0.319,0.2954,0.5386,0.2822,0.4768,0.4846,0.4658,0.518,0.3388,0.2798,0.3631,0.4824,0.3032,0.4351,0.6108,0.2994,0.2709,0.3317,0.463,0.4555,0.4381,0.6248,0.3087,0.7898,0.3357,0.4584,0.6372,0.3089,0.2655,0.2754,0.3179,0.4913,0.4555,0.482,0.386,0.329,0.2489,0.2923,0.6891,0.7033,0.7498,0.2577,0.4049,0.3354,0.2906,0.3203,0.4298,0.2646,0.5057,0.67,0.3522,0.4581,0.251,0.7377,0.7261,0.4388,0.6412,0.9141,0.7276,0.6696,0.8312,0.3007,0.773,0.7049,0.7347,0.2983,0.6944,0.5733,0.5063,0.2972,0.5016,0.4282,0.8462,0.4343,0.7218,0.7905,0.7269,0.7271,0.7208,0.3219,0.7284,0.8149,0.7288,0.7273,0.6054,0.4505,0.7371,0.7388,0.7268,0.4253,0.7401,0.9332,0.3352,0.742,0.6407,0.8758,0.9107,0.8244,0.8714,0.9235,0.8566,0.8744,0.7841,0.4233,0.4792,0.3198,0.5943,0.8751,0.5753,0.2679,0.4639,0.3895,0.5366,0.834,0.3281,0.594,0.3132,0.3541,0.7478,0.7274,0.7719,0.7683,0.5226,0.3263,0.7495,0.4364,0.7308,0.338,0.3222,0.444,0.5716,0.4304,0.5282,0.3508,0.7907,0.8026,0.5091,0.2973,0.3107,0.557,0.7391,0.2497,0.2641,0.4144,0.3262,0.3267,0.498,0.8555,0.8275,0.3261,0.7856,0.3572,0.8085],\"xaxis\":\"x\",\"y\":[0.5179,0.2336,0.5195,0.5246,0.2227,0.2227,0.2227,0.5161,0.5244,0.5094,0.5271,0.5165,0.5136,0.5196,0.5146,0.5222,0.5158,0.5203,0.5198,0.5409,0.5207,0.5167,0.5475,0.5144,0.5146,0.5208,0.5166,0.5228,0.5171,0.5161,0.5195,0.5154,0.5206,0.5185,0.5183,0.522,0.5218,0.5256,0.5269,0.3315,0.523,0.5228,0.5197,0.4576,0.5192,0.5144,0.5177,0.5186,0.5192,0.5237,0.5198,0.5209,0.4469,0.518,0.4988,0.5173,0.547,0.2225,0.5172,0.519,0.5147,0.5179,0.5246,0.5184,0.5225,0.4893,0.515,0.5169,0.222,0.2225,0.2551,0.5211,0.2217,0.223,0.223,0.2214,0.2226,0.394,0.2226,0.2224,0.2233,0.2231,0.2233,0.2225,0.2225,0.2237,0.2226,0.5315,0.2226,0.3404,0.2225,0.23,0.2226,0.283,0.2067,0.2226,0.2224,0.2228,0.7296,0.2225,0.2226,0.2225,0.2223,0.2222,0.2226,0.2223,0.2222,0.2223,0.2227,0.2226,0.2226,0.2128,0.2226,0.2226,0.2245,0.2226,0.2227,0.2228,0.2226,0.2227,0.2222,0.2297,0.2222,0.2226,0.2223,0.2227,0.2225,0.2226,0.5301,0.2226,0.2226,0.2225,0.222,0.2226,0.2226,0.2228,0.2224,0.2226,0.2227,0.2224,0.2226,0.2225,0.2226,0.2227,0.2239,0.2226,0.2211,0.2211,0.221,0.2226,0.2225,0.2226,0.2225,0.2219,0.2225,0.2226,0.2226,0.2226,0.2226,0.2226,0.2225,0.2221,0.2226,0.2244,0.2226,0.2228,0.2228,0.2225,0.3558,0.2227,0.2225,0.2188,0.2226,0.2226,0.2227,0.2226,0.2227,0.2226,0.2221,0.2226,0.2222,0.2227,0.2228,0.2226,0.3458,0.2226,0.2231,0.2244,0.2225,0.2225,0.2225,0.2223,0.2224,0.2224,0.2226,0.2221,0.222,0.2227,0.2222,0.2226,0.2189,0.2214,0.2246,0.2223,0.2221,0.2225,0.2825,0.2222,0.2228,0.2245,0.2225,0.2223,0.223,0.2229,0.2225,0.2221,0.2412,0.223,0.2227,0.2227,0.2238,0.525,0.2253,0.2227,0.2253,0.2303,0.2302,0.2249,0.2272,0.2227,0.2248,0.2228,0.4849,0.2226,0.5197,0.4475,0.5191,0.2225,0.4874,0.2222,0.5187,0.4486,0.2226,0.5193,0.4563,0.5202,0.5184,0.5192,0.5184,0.2225,0.449,0.5292,0.2223,0.2222,0.2224,0.5146,0.5157,0.4474,0.2228,0.5189,0.2259,0.4479,0.2223,0.2227,0.221,0.2829,0.2348,0.2226,0.2387,0.2221,0.5079,0.5289,0.2227,0.2226,0.2226,0.2624,0.2226,0.2239,0.2264,0.2243,0.2248,0.2226,0.2227,0.2225,0.2244,0.2227,0.2345,0.2246,0.2222,0.2231,0.2225,0.2344,0.2245,0.2225,0.2271,0.4874,0.2226,0.517,0.223,0.2225,0.2242,0.5133,0.5189,0.2244,0.2227,0.259,0.2301,0.2257,0.226,0.2228,0.2222,0.2226,0.5275,0.2235,0.4492,0.2228,0.2246,0.5222,0.535,0.521,0.4997,0.529,0.5238,0.5279,0.5217,0.5285,0.5212,0.5222,0.5189,0.5278,0.5288,0.5291,0.5251,0.5284,0.5079,0.4917,0.5206,0.3423,0.4912,0.5026,0.5257,0.5168,0.2222,0.5135,0.517,0.5188,0.5203,0.5218,0.5949,0.5258,0.5214,0.5098,0.227,0.5114,0.5226,0.2269,0.5124,0.5188,0.5209,0.5152,0.5044,0.5347,0.2226,0.4202,0.5153,0.5058,0.518,0.52,0.5345,0.5281,0.5204,0.5123,0.5321,0.5306,0.5184,0.2227,0.5131,0.4165,0.4495,0.5339,0.5146,0.3622,0.5187,0.5094,0.5604,0.518,0.4345,0.4172,0.5117,0.5094,0.5239,0.4212,0.4709,0.247,0.5193,0.5124,0.5209,0.391,0.3137,0.516,0.5165,0.4133,0.5196,0.5196,0.5269,0.5103,0.5087,0.4055,0.2227,0.2227,0.2237,0.5157,0.2225,0.5178,0.222,0.2225,0.5191,0.2222,0.5099,0.5207,0.5179,0.5089,0.519,0.2226,0.2227,0.2226,0.2227,0.223,0.5369,0.4978,0.5189,0.5193,0.5384,0.2227,0.2245,0.4643,0.5151,0.2226,0.5184,0.5216,0.2224,0.2228,0.4934,0.2225,0.2224,0.5057,0.2905,0.5283,0.2227,0.4594,0.3651,0.5204,0.5289,0.2227,0.2227,0.2227,0.2229,0.5207,0.5319,0.2227,0.2222,0.2225,0.2444,0.2254,0.2907,0.5189,0.2179,0.5341,0.2227,0.2814,0.5194,0.223,0.2227,0.3001,0.2228,0.2227,0.2225,0.2226,0.311,0.5224,0.2702,0.5205,0.3684,0.3724,0.3414,0.525,0.2224,0.5195,0.2227,0.5113,0.3226,0.2224,0.5172,0.5211,0.223,0.5256,0.3529,0.2238,0.4532,0.4025,0.271,0.3208,0.2384,0.2225,0.5214,0.5163,0.2728,0.5321,0.4711,0.2958,0.3061,0.5155,0.4607,0.53,0.2233,0.5104,0.5078,0.4123,0.4739,0.2236,0.3172,0.3454,0.2226,0.525,0.4806,0.3661,0.5169,0.4023,0.4918,0.2227,0.2226,0.223,0.5199,0.311,0.2221,0.2804,0.2227,0.5183,0.2224,0.2227,0.2227,0.2227,0.2219,0.2222,0.2223,0.2232,0.2226,0.2223,0.2222,0.2228,0.2226,0.2226,0.2286,0.2299,0.2226,0.2244,0.2225,0.4187,0.2259,0.2252,0.2694,0.2226,0.4492,0.2315,0.4479,0.5199,0.2231,0.2673,0.3126,0.2238,0.2227,0.4497,0.6721,0.2227,0.2242,0.2218,0.5337,0.5194,0.227,0.2731,0.2245,0.5249,0.2267,0.3259,0.3094,0.5199,0.5163,0.5157,0.2253,0.2233,0.2808,0.4569,0.224,0.5204,0.2227,0.2225,0.3736,0.2907,0.5321,0.2226,0.5205,0.2244,0.2718,0.5361,0.2223,0.2227,0.5036,0.2226,0.2242,0.2214,0.2228,0.5215,0.5449,0.223,0.2226,0.5403,0.2228,0.2226,0.2587,0.2227,0.5392,0.2226,0.2225,0.2887,0.2242,0.2226,0.2226,0.5233,0.5324,0.2235,0.3028,0.2224,0.5196,0.3517,0.2223,0.5493,0.2227,0.2226,0.5324,0.3221,0.2229,0.5392,0.5254,0.2226,0.2795,0.5417,0.2224,0.2846,0.5034,0.5196,0.5079,0.5135,0.5181,0.5073,0.2316,0.2367,0.2234,0.2241,0.2221,0.5138,0.52,0.2309,0.4827,0.2225,0.5074,0.5172,0.5085,0.5222,0.2333,0.4103,0.5208,0.5041,0.5072,0.5054,0.2227,0.488,0.5202,0.5281,0.518,0.5152,0.5118,0.3991,0.4092,0.5148,0.2227,0.3195,0.5344,0.2209,0.5194,0.2227,0.5165,0.2671,0.5105,0.5196,0.514,0.5263,0.5184,0.5139,0.5113,0.5185,0.5058,0.2253,0.522,0.5313,0.5174,0.5065,0.5057,0.5141,0.5154,0.4041,0.5162,0.2302,0.2227,0.449,0.2225,0.2222,0.2326,0.5064,0.5127,0.2236,0.5378,0.2367,0.4546,0.488,0.2222,0.515,0.497,0.2301,0.4487,0.2221,0.4474,0.4491,0.5358,0.5192,0.2384,0.2226,0.5109,0.5175,0.5231,0.2225,0.505,0.2242,0.2228,0.5387,0.5169,0.5163,0.4531,0.5099,0.2245,0.2228,0.2222,0.2225,0.2233,0.2226,0.5315,0.2225,0.222,0.2227,0.2232,0.2229,0.2557,0.5434,0.5338,0.547,0.5303,0.5334,0.3715,0.5144,0.5331,0.5385,0.5379,0.532,0.5305,0.5313,0.522,0.5306,0.2893,0.5349,0.5313,0.2228,0.2225,0.2264,0.4961,0.5138,0.5046,0.5237,0.5484,0.5212,0.5184,0.5061,0.5409,0.48,0.2227,0.5039,0.5038,0.3742,0.2221,0.498,0.355,0.2247,0.5207,0.5098,0.2227,0.5088,0.5226,0.2618,0.5041,0.2228,0.4202,0.2603,0.5061,0.5111,0.2864,0.4475,0.5161,0.4221,0.5101,0.5168,0.5161,0.4523,0.5198,0.2576,0.4555,0.2736,0.5078,0.4717,0.5146,0.3471,0.4555,0.3445,0.4993,0.5189,0.3129,0.5125,0.5216,0.4874,0.4467,0.3016,0.2547,0.448,0.2237,0.2228,0.2233,0.2223,0.2766,0.2228,0.2492,0.2224,0.2226,0.2225,0.2229,0.2225,0.2945,0.2228,0.2224,0.2226,0.2227,0.2224,0.2228,0.2227,0.2225,0.2229,0.2245,0.2226,0.2225,0.2225,0.2223,0.2255,0.53,0.2228,0.227,0.2227,0.2227,0.2245,0.2226,0.2228,0.2228,0.2226,0.4497,0.2227,0.5172,0.2219,0.2228,0.2225,0.5414,0.2225,0.2221,0.2226,0.5102,0.2226,0.2226,0.601,0.5204,0.222,0.228,0.5035,0.2231,0.5174,0.2227,0.5268,0.2225,0.4546,0.2233,0.2226,0.2232,0.2229,0.2227,0.5148,0.2226,0.2225,0.2226,0.5176,0.5439,0.5316,0.5137,0.4967,0.2237,0.5041,0.5238,0.2221,0.2226,0.2239,0.5203,0.5088,0.5204,0.5356,0.5215,0.5258,0.4954,0.2227,0.513,0.2226,0.2238,0.3663,0.2226,0.5257,0.2223,0.2226,0.5328,0.5273,0.5325,0.5374,0.5361,0.5308,0.5097,0.4998,0.5292,0.4985,0.2222,0.2228,0.4958,0.2226,0.5204,0.5497,0.5188,0.2217,0.3106,0.2592,0.5186,0.5185,0.2227,0.5191,0.519,0.2267,0.2218,0.5109,0.5185,0.5177,0.5186,0.5185,0.5183,0.2226,0.2218,0.5186,0.223,0.2218,0.5186,0.5093,0.5186,0.5186,0.536,0.2222,0.5217,0.473,0.5134,0.2229,0.2404,0.2226,0.5185,0.5185,0.5222,0.5126,0.3743,0.5301,0.5327,0.4884,0.2239,0.5185,0.5148,0.2486,0.2291,0.2227,0.2226,0.518,0.2229,0.2226,0.3878,0.2225,0.4702,0.4271,0.2227,0.5187,0.2226,0.2229,0.2229,0.2225,0.2226,0.2488,0.2237,0.2229,0.2227,0.5194,0.5238,0.4905,0.2225,0.2224,0.271,0.5314,0.2227,0.5399,0.2232,0.5418,0.223,0.2226,0.2227,0.241,0.5314,0.4931,0.223,0.8069,0.5404,0.2225,0.7443,0.5131,0.6425,0.5215,0.5242,0.2226,0.2229,0.4706,0.5286,0.5216,0.5291,0.5317,0.5265,0.5124,0.5265,0.5179,0.2225,0.4901,0.521,0.2225,0.5269,0.5109,0.5121,0.515,0.5158,0.5466,0.4469,0.2233,0.2232,0.2492,0.2231,0.4645,0.2226,0.5145,0.2989,0.2225,0.2824,0.5154,0.5459,0.2232,0.2566,0.3118,0.4504,0.4489,0.5178,0.5461,0.5457,0.5461,0.271,0.2277,0.2235,0.2244,0.5158,0.2227,0.5399,0.2229,0.5283,0.5129,0.5309,0.2225,0.2225,0.2222,0.4872,0.2222,0.2229,0.2225,0.2225,0.2228,0.2228,0.2225,0.2227,0.2222,0.2225,0.2222,0.2243,0.2227,0.2227,0.257,0.2229,0.2228,0.2226,0.2228,0.2226,0.2224,0.2222,0.2247,0.2225,0.2229,0.2226,0.2228,0.2227,0.2227,0.2188,0.2225,0.2244,0.2226,0.2227,0.4878,0.2259,0.2228,0.2228,0.2227,0.2241,0.2228,0.2226,0.2226,0.511,0.2235,0.2227,0.5054,0.2225,0.2225,0.2222,0.2226,0.2231,0.223,0.2244,0.2222,0.2225,0.2225,0.2226,0.5106,0.4956,0.2808,0.2225,0.2226,0.2229,0.2467,0.2226,0.2225,0.2225,0.223,0.5073,0.2226,0.2227,0.2231,0.5197,0.518,0.2229,0.5026,0.5064,0.5182,0.5086,0.5319,0.2429,0.5238,0.5141,0.5192,0.2337,0.5129,0.4901,0.2262,0.2317,0.2315,0.2234,0.5202,0.2233,0.517,0.5264,0.5181,0.518,0.517,0.2223,0.5182,0.5282,0.5184,0.5182,0.2229,0.2245,0.5192,0.5196,0.5174,0.2225,0.52,0.4493,0.2645,0.52,0.5032,0.53,0.536,0.5239,0.5567,0.537,0.5306,0.7611,0.526,0.2228,0.2242,0.225,0.2242,0.4474,0.3691,0.2225,0.2226,0.2501,0.2226,0.473,0.2226,0.4089,0.2226,0.2252,0.5182,0.5128,0.4618,0.5215,0.3213,0.2226,0.5195,0.2226,0.5154,0.2235,0.2249,0.2228,0.3154,0.2242,0.2226,0.2226,0.5243,0.5188,0.2317,0.2218,0.2322,0.2246,0.5132,0.2213,0.2228,0.2228,0.2226,0.2226,0.2226,0.6584,0.6423,0.2226,0.5263,0.2226,0.5292],\"yaxis\":\"y\"},{\"customdata\":[[0.0015,\"DMU 0032\"],[0.0015,\"DMU 0041\"],[0.0015,\"DMU 0053\"],[7.1271,\"DMU 0065\"],[0.4134,\"DMU 0068\"],[1.1098,\"DMU 0079\"],[0.0,\"DMU 0088\"],[0.7252,\"DMU 0091\"],[0.6732,\"DMU 0093\"],[1.0631,\"DMU 0096\"],[0.0001,\"DMU 0097\"],[0.4242,\"DMU 0099\"],[6.4453,\"DMU 0103\"],[0.0,\"DMU 0105\"],[0.4412,\"DMU 0109\"],[3.9448,\"DMU 0111\"],[6.8279,\"DMU 0112\"],[0.4206,\"DMU 0120\"],[2.9005,\"DMU 0122\"],[8.0727,\"DMU 0126\"],[4.0091,\"DMU 0128\"],[7.5834,\"DMU 0132\"],[0.4442,\"DMU 0137\"],[0.4246,\"DMU 0140\"],[0.437,\"DMU 0142\"],[8.4528,\"DMU 0152\"],[0.4536,\"DMU 0154\"],[0.7752,\"DMU 0156\"],[0.805,\"DMU 0157\"],[0.0001,\"DMU 0158\"],[0.7575,\"DMU 0160\"],[0.4816,\"DMU 0162\"],[0.7355,\"DMU 0165\"],[0.967,\"DMU 0166\"],[0.5163,\"DMU 0167\"],[0.4433,\"DMU 0168\"],[6.6004,\"DMU 0169\"],[3.1359,\"DMU 0175\"],[0.8613,\"DMU 0177\"],[9.8212,\"DMU 0179\"],[0.5227,\"DMU 0181\"],[4.0677,\"DMU 0183\"],[0.9803,\"DMU 0185\"],[0.4476,\"DMU 0186\"],[0.4753,\"DMU 0193\"],[4.4872,\"DMU 0198\"],[1.0671,\"DMU 0199\"],[1.0579,\"DMU 0200\"],[0.6606,\"DMU 0201\"],[0.0,\"DMU 0204\"],[0.5737,\"DMU 0211\"],[0.4288,\"DMU 0212\"],[0.0,\"DMU 0216\"],[0.5219,\"DMU 0223\"],[0.6828,\"DMU 0226\"],[0.4466,\"DMU 0231\"],[0.0324,\"DMU 0239\"],[8.4018,\"DMU 0240\"],[0.6934,\"DMU 0241\"],[0.4359,\"DMU 0245\"],[0.8452,\"DMU 0246\"],[0.4033,\"DMU 0247\"],[0.6191,\"DMU 0248\"],[9.5448,\"DMU 0249\"],[0.1916,\"DMU 0250\"],[0.6752,\"DMU 0251\"],[1.0511,\"DMU 0253\"],[4.8511,\"DMU 0254\"],[2.5288,\"DMU 0259\"],[0.4765,\"DMU 0260\"],[0.4508,\"DMU 0268\"],[0.5931,\"DMU 0271\"],[0.9988,\"DMU 0279\"],[0.0001,\"DMU 0281\"],[8.8545,\"DMU 0282\"],[5.5534,\"DMU 0283\"],[0.4319,\"DMU 0284\"],[0.9315,\"DMU 0285\"],[0.6657,\"DMU 0286\"],[0.8045,\"DMU 0288\"],[1.0837,\"DMU 0290\"],[5.2099,\"DMU 0291\"],[6.7157,\"DMU 0293\"],[0.501,\"DMU 0295\"],[0.7113,\"DMU 0296\"],[3.7801,\"DMU 0297\"],[0.5391,\"DMU 0298\"],[6.5721,\"DMU 0299\"],[6.7519,\"DMU 0300\"],[0.9501,\"DMU 0311\"],[0.1715,\"DMU 0312\"],[0.0001,\"DMU 0314\"],[0.829,\"DMU 0315\"],[3.44,\"DMU 0326\"],[0.0001,\"DMU 0335\"],[4.7761,\"DMU 0338\"],[0.4255,\"DMU 0342\"],[3.5279,\"DMU 0344\"],[5.471,\"DMU 0345\"],[0.597,\"DMU 0347\"],[0.4716,\"DMU 0350\"],[6.4854,\"DMU 0355\"],[0.4299,\"DMU 0357\"],[0.994,\"DMU 0362\"],[9.3019,\"DMU 0363\"],[6.2063,\"DMU 0365\"],[0.365,\"DMU 0373\"],[0.5845,\"DMU 0380\"],[1.2012,\"DMU 0387\"],[0.4239,\"DMU 0395\"],[8.7588,\"DMU 0402\"],[0.4493,\"DMU 0404\"],[0.4087,\"DMU 0411\"],[0.0,\"DMU 0420\"],[0.459,\"DMU 0421\"],[1.206,\"DMU 0423\"],[0.0,\"DMU 0425\"],[9.087,\"DMU 0427\"],[3.5715,\"DMU 0445\"],[7.3317,\"DMU 0451\"],[0.3395,\"DMU 0456\"],[1.7891,\"DMU 0458\"],[8.2395,\"DMU 0460\"],[4.3871,\"DMU 0476\"],[0.0001,\"DMU 0491\"],[0.0001,\"DMU 0494\"],[9.789,\"DMU 0529\"],[0.0011,\"DMU 0531\"],[0.4362,\"DMU 0532\"],[1.2041,\"DMU 0534\"],[1.196,\"DMU 0535\"],[2.8653,\"DMU 0536\"],[1.1177,\"DMU 0537\"],[1.0451,\"DMU 0558\"],[5.5695,\"DMU 0570\"],[9.7726,\"DMU 0572\"],[0.4381,\"DMU 0577\"],[0.5729,\"DMU 0589\"],[0.0015,\"DMU 0600\"],[1.0246,\"DMU 0601\"],[0.0001,\"DMU 0610\"],[1.0693,\"DMU 0613\"],[0.9964,\"DMU 0616\"],[0.4326,\"DMU 0619\"],[0.4241,\"DMU 0620\"],[2.1812,\"DMU 0622\"],[0.7111,\"DMU 0636\"],[0.4355,\"DMU 0638\"],[1.0415,\"DMU 0643\"],[1.0863,\"DMU 0644\"],[8.3125,\"DMU 0645\"],[0.6112,\"DMU 0646\"],[1.7118,\"DMU 0647\"],[2.4099,\"DMU 0655\"],[2.9728,\"DMU 0656\"],[1.0824,\"DMU 0658\"],[0.832,\"DMU 0659\"],[5.7339,\"DMU 0660\"],[0.3559,\"DMU 0661\"],[1.5813,\"DMU 0663\"],[0.4199,\"DMU 0669\"],[3.3984,\"DMU 0677\"],[7.6792,\"DMU 0684\"],[0.5565,\"DMU 0718\"],[1.146,\"DMU 0743\"],[0.425,\"DMU 0749\"],[0.4699,\"DMU 0750\"],[0.5141,\"DMU 0753\"],[0.4281,\"DMU 0757\"],[0.4411,\"DMU 0758\"],[0.4474,\"DMU 0762\"],[7.5354,\"DMU 0763\"],[1.2463,\"DMU 0764\"],[0.3017,\"DMU 0767\"],[5.7475,\"DMU 0768\"],[0.6325,\"DMU 0773\"],[0.4699,\"DMU 0775\"],[0.4339,\"DMU 0781\"],[0.4664,\"DMU 0786\"],[0.4349,\"DMU 0788\"],[0.3403,\"DMU 0793\"],[8.429,\"DMU 0799\"],[0.4383,\"DMU 0803\"],[0.0003,\"DMU 0805\"],[0.4442,\"DMU 0807\"],[8.4122,\"DMU 0808\"],[1.5172,\"DMU 0810\"],[1.0692,\"DMU 0812\"],[1.7181,\"DMU 0817\"],[0.6069,\"DMU 0824\"],[0.451,\"DMU 0834\"],[0.0794,\"DMU 0837\"],[0.0556,\"DMU 0841\"],[0.0845,\"DMU 0842\"],[1.116,\"DMU 0848\"],[7.406,\"DMU 0850\"],[0.4207,\"DMU 0853\"],[2.8308,\"DMU 0854\"],[0.4773,\"DMU 0855\"],[1.98,\"DMU 0858\"],[3.5687,\"DMU 0866\"],[0.4401,\"DMU 0867\"],[6.4048,\"DMU 0871\"],[0.428,\"DMU 0876\"],[1.1785,\"DMU 0879\"],[1.3034,\"DMU 0881\"],[9.8361,\"DMU 0888\"],[0.9147,\"DMU 0889\"],[1.161,\"DMU 0892\"],[0.0015,\"DMU 0898\"],[0.406,\"DMU 0902\"],[2.5786,\"DMU 0903\"],[0.3427,\"DMU 0905\"],[0.2971,\"DMU 0907\"],[0.435,\"DMU 0909\"],[0.0015,\"DMU 0922\"],[1.0547,\"DMU 0930\"],[0.7283,\"DMU 0932\"],[0.1347,\"DMU 0937\"],[1.0275,\"DMU 0938\"],[0.9844,\"DMU 0943\"],[0.0014,\"DMU 0957\"],[4.1729,\"DMU 0959\"],[1.1958,\"DMU 0961\"],[1.5787,\"DMU 0962\"],[0.5013,\"DMU 0964\"],[0.0007,\"DMU 0968\"],[0.3058,\"DMU 0969\"],[1.0287,\"DMU 0970\"],[7.1893,\"DMU 0975\"],[6.7412,\"DMU 0978\"],[0.0015,\"DMU 0983\"],[7.3433,\"DMU 0989\"],[1.0081,\"DMU 0993\"],[1.7986,\"DMU 0997\"],[7.219,\"DMU 1005\"],[0.0,\"DMU 1016\"],[9.4596,\"DMU 1041\"],[7.5923,\"DMU 1055\"],[0.0033,\"DMU 1058\"],[0.5152,\"DMU 1075\"],[7.5008,\"DMU 1113\"],[6.9834,\"DMU 1131\"],[9.5546,\"DMU 1137\"],[0.5307,\"DMU 1155\"],[4.6858,\"DMU 1159\"],[0.0052,\"DMU 1163\"],[0.5758,\"DMU 1165\"],[0.4404,\"DMU 1168\"],[0.4442,\"DMU 1170\"],[0.4546,\"DMU 1178\"],[9.0176,\"DMU 1179\"],[4.151,\"DMU 1183\"],[3.7718,\"DMU 1185\"],[2.5012,\"DMU 1188\"],[9.8764,\"DMU 1190\"],[0.9877,\"DMU 1191\"],[0.7265,\"DMU 1192\"],[0.4236,\"DMU 1193\"],[0.4035,\"DMU 1197\"],[0.6513,\"DMU 1202\"],[4.2545,\"DMU 1203\"],[9.3881,\"DMU 1211\"],[0.6527,\"DMU 1214\"],[0.445,\"DMU 1219\"],[3.9062,\"DMU 1225\"],[1.335,\"DMU 1231\"],[1.0989,\"DMU 1241\"],[9.6015,\"DMU 1251\"],[6.8518,\"DMU 1252\"],[5.6899,\"DMU 1256\"],[6.7636,\"DMU 1257\"],[0.9553,\"DMU 1276\"],[8.9921,\"DMU 1278\"],[1.1865,\"DMU 1279\"],[0.4285,\"DMU 1280\"],[8.9643,\"DMU 1285\"],[0.4489,\"DMU 1295\"],[0.0,\"DMU 1302\"],[0.4258,\"DMU 1304\"],[0.4367,\"DMU 1308\"],[7.2851,\"DMU 1313\"],[2.6961,\"DMU 1315\"],[0.3882,\"DMU 1318\"],[3.663,\"DMU 1320\"],[2.4343,\"DMU 1339\"],[1.0897,\"DMU 1344\"],[1.0888,\"DMU 1345\"],[1.0232,\"DMU 1346\"],[0.8911,\"DMU 1354\"],[0.4354,\"DMU 1362\"],[1.0767,\"DMU 1374\"],[3.5928,\"DMU 1382\"],[1.2591,\"DMU 1385\"],[0.506,\"DMU 1388\"],[6.3434,\"DMU 1389\"],[1.0268,\"DMU 1390\"],[1.4627,\"DMU 1392\"],[0.8411,\"DMU 1396\"],[2.6152,\"DMU 1410\"],[0.5031,\"DMU 1414\"],[5.5744,\"DMU 1415\"],[-0.0,\"DMU 1416\"],[1.6716,\"DMU 1417\"],[8.6233,\"DMU 1419\"],[5.6399,\"DMU 1421\"],[3.1702,\"DMU 1423\"],[3.5013,\"DMU 1425\"],[0.9781,\"DMU 1427\"],[2.8146,\"DMU 1428\"],[4.1684,\"DMU 1433\"],[2.1764,\"DMU 1451\"],[-0.0,\"DMU 1452\"],[0.4325,\"DMU 1454\"],[9.8336,\"DMU 1456\"],[6.3828,\"DMU 1457\"],[0.0015,\"DMU 1463\"],[0.427,\"DMU 1466\"],[1.3989,\"DMU 1480\"],[1.0723,\"DMU 1488\"],[0.8391,\"DMU 1491\"],[0.0015,\"DMU 1492\"],[1.2755,\"DMU 1505\"],[4.3275,\"DMU 1512\"],[0.5946,\"DMU 1513\"],[0.4514,\"DMU 1517\"],[4.4048,\"DMU 1518\"],[1.196,\"DMU 1520\"],[6.374,\"DMU 1521\"],[0.4012,\"DMU 1525\"],[0.8998,\"DMU 1529\"],[0.4261,\"DMU 1540\"],[9.2863,\"DMU 1550\"],[0.4343,\"DMU 1557\"],[8.5201,\"DMU 1558\"],[0.6639,\"DMU 1560\"],[0.4432,\"DMU 1563\"],[0.0525,\"DMU 1564\"],[3.5856,\"DMU 1572\"],[0.4351,\"DMU 1575\"],[4.39,\"DMU 1578\"],[5.3035,\"DMU 1587\"],[3.4302,\"DMU 1595\"],[0.4445,\"DMU 1598\"],[0.9954,\"DMU 1600\"],[2.4643,\"DMU 1605\"],[0.8335,\"DMU 1606\"],[0.7349,\"DMU 1609\"],[0.4975,\"DMU 1610\"],[6.5778,\"DMU 1616\"],[0.5313,\"DMU 1627\"],[0.0,\"DMU 1631\"],[0.9847,\"DMU 1633\"],[5.4393,\"DMU 1662\"],[0.0015,\"DMU 1665\"],[0.7788,\"DMU 1676\"],[0.7819,\"DMU 1677\"],[2.6088,\"DMU 1679\"],[0.0015,\"DMU 1683\"],[0.0015,\"DMU 1684\"],[0.0001,\"DMU 1698\"],[0.5639,\"DMU 1707\"],[0.595,\"DMU 1723\"],[8.646,\"DMU 1724\"],[1.0876,\"DMU 1726\"],[1.0824,\"DMU 1733\"]],\"hovertemplate\":\"Diff_Perc < 10=True<br>Efficiency_Scores_Basic=%{x}<br>Efficiency_Scores_with_ML=%{y}<br>Diff_Perc=%{customdata[0]}<br>index=%{customdata[1]}<extra></extra>\",\"legendgroup\":\"True\",\"line\":{\"color\":\"lightgreen\",\"width\":3},\"marker\":{\"color\":\"blue\",\"symbol\":\"circle\"},\"mode\":\"markers\",\"name\":\"True\",\"showlegend\":true,\"type\":\"scattergl\",\"x\":[0.4459,0.4465,0.4459,0.2395,0.2612,1.0,1.0,0.2238,0.9988,0.2248,0.2247,0.2232,0.2377,1.0,0.2232,0.2313,0.2384,0.2232,0.2291,0.242,0.2315,0.2407,0.2232,0.2232,0.2232,0.2428,0.2232,0.2241,0.2244,0.2248,0.224,0.2232,0.224,0.2232,0.2233,0.2232,0.2379,0.2297,0.2243,0.2489,0.2238,1.0,0.2245,0.2232,0.2233,0.2327,0.2248,0.2248,0.9991,0.2235,0.2236,0.2232,0.2237,0.2234,0.2238,0.2232,0.2232,0.2429,0.2239,0.2232,0.2242,0.223,0.2236,0.2457,0.2244,0.2238,0.2251,0.2335,0.2308,0.2231,0.2232,0.2235,0.2232,0.2246,0.2439,0.2354,0.2232,1.0,0.2237,0.224,0.2249,0.2344,0.2405,0.2234,0.2238,0.231,0.2235,0.238,0.2384,0.2246,1.0,0.2317,0.2242,0.2301,0.2246,0.2336,0.2232,0.2303,0.6283,0.2236,0.2232,0.2377,0.2232,0.2232,0.245,0.237,0.2389,0.2255,0.2276,0.2232,0.8769,0.2232,0.9657,0.2238,0.2232,0.2252,1.0,0.2443,0.8967,0.488,1.0,0.9662,0.9481,0.2326,0.2249,0.2248,0.2466,0.3864,0.2232,0.225,0.225,0.2288,0.2248,0.7954,0.2353,0.2462,0.2232,0.2235,0.4459,0.2247,0.2248,0.2248,0.2232,0.2232,0.2232,0.2274,0.2241,0.2246,0.2248,0.2229,0.2424,0.2237,0.989,0.2278,0.2291,0.2247,0.2244,0.236,0.3815,0.2259,0.2231,0.23,0.2407,0.2235,1.0,0.2232,0.2234,0.2235,0.2232,0.2232,0.2232,0.2403,0.2252,0.2237,0.4885,0.2237,0.2233,0.2316,0.2283,0.2232,0.2248,0.2427,0.2232,0.2754,0.2232,0.264,0.2267,0.2246,0.235,0.9932,0.23,1.0,1.0,0.9994,0.2248,0.2399,0.2231,0.2289,0.2233,0.227,0.2305,0.2232,0.2918,0.2232,0.2868,0.2248,0.2465,0.2244,0.2249,0.448,0.2235,0.2281,0.2269,0.2239,0.2232,0.4462,0.2269,0.2255,0.9752,0.2257,0.9661,0.4323,0.8683,0.9839,0.226,0.225,0.3304,0.2513,0.2247,0.73,0.993,0.4468,0.4299,0.2247,0.2263,0.2398,1.0,0.2454,0.6942,0.4447,0.9759,0.5039,0.24,0.2481,0.2234,0.995,0.248,0.2266,0.2233,0.2232,0.2232,0.2446,0.2319,0.2312,0.2341,0.2468,0.2232,0.222,0.2232,0.3591,0.2236,0.2323,0.2452,0.2235,0.2232,0.2313,0.2286,0.2235,0.2462,0.2388,0.4904,0.2859,0.2254,0.2442,0.9872,0.2232,0.2649,0.2231,1.0,0.2232,0.2232,0.2396,0.2286,0.224,0.2307,0.2278,0.2247,0.2247,0.2246,0.9932,0.2231,0.9839,0.2307,0.2245,0.9865,0.2382,0.2286,0.2257,0.2243,1.0,0.2713,0.2356,1.0,0.2262,0.2429,0.2358,0.2351,0.245,0.2246,0.2628,0.2321,0.2273,1.0,0.2232,0.2467,0.4882,0.4458,0.2232,0.2256,1.0,0.9347,0.4459,0.2252,0.247,0.2236,0.2232,0.2325,0.9232,0.2376,0.2232,0.2244,0.2232,0.2449,0.2232,0.2428,0.2238,0.2232,0.9844,0.2307,0.2232,0.2324,0.2349,0.2304,0.2232,0.2232,0.2281,0.2242,0.224,0.2232,0.2377,0.2251,1.0,0.2244,0.8914,0.4459,1.0,0.9999,0.2289,0.4463,0.4447,0.2242,0.2235,0.2236,0.2435,0.2243,0.2251],\"xaxis\":\"x\",\"y\":[0.4459,0.4465,0.4459,0.2225,0.2601,0.9889,1.0,0.2222,0.992,0.2224,0.2247,0.2222,0.2223,1.0,0.2222,0.2222,0.2222,0.2222,0.2224,0.2225,0.2222,0.2225,0.2222,0.2222,0.2222,0.2223,0.2222,0.2223,0.2225,0.2248,0.2223,0.2222,0.2223,0.221,0.2222,0.2222,0.2222,0.2225,0.2224,0.2244,0.2226,0.9593,0.2223,0.2222,0.2222,0.2223,0.2224,0.2224,0.9925,0.2235,0.2223,0.2222,0.2237,0.2223,0.2223,0.2222,0.2232,0.2225,0.2223,0.2222,0.2224,0.2221,0.2222,0.2222,0.224,0.2223,0.2227,0.2222,0.225,0.2221,0.2222,0.2221,0.2209,0.2246,0.2223,0.2223,0.2222,0.9907,0.2222,0.2222,0.2224,0.2222,0.2244,0.2222,0.2222,0.2222,0.2223,0.2223,0.2223,0.2224,0.9983,0.2317,0.2224,0.2222,0.2246,0.2225,0.2222,0.2222,0.5939,0.2223,0.2221,0.2223,0.2222,0.221,0.2222,0.2222,0.238,0.2241,0.2249,0.2222,0.8001,0.2222,0.9618,0.2238,0.2221,0.2224,1.0,0.2221,0.8647,0.4522,0.9966,0.9489,0.87,0.2224,0.2249,0.2248,0.2225,0.3864,0.2222,0.2223,0.2223,0.2223,0.2223,0.7871,0.2222,0.2222,0.2222,0.2222,0.4459,0.2224,0.2248,0.2224,0.221,0.2222,0.2222,0.2225,0.2225,0.2236,0.2224,0.2205,0.2222,0.2223,0.9721,0.2223,0.2223,0.2223,0.2225,0.2225,0.3801,0.2223,0.2222,0.2222,0.2222,0.2223,0.9885,0.2222,0.2223,0.2223,0.2222,0.2222,0.2222,0.2222,0.2224,0.223,0.4605,0.2223,0.2222,0.2306,0.2272,0.2222,0.224,0.2223,0.2222,0.2754,0.2222,0.2418,0.2232,0.2222,0.231,0.9871,0.229,0.9992,0.9994,0.9985,0.2223,0.2221,0.2222,0.2225,0.2222,0.2225,0.2223,0.2222,0.2732,0.2222,0.2835,0.2219,0.2223,0.2224,0.2223,0.4479,0.2226,0.2222,0.2261,0.2233,0.2222,0.4462,0.2245,0.2239,0.9739,0.2234,0.9566,0.4323,0.8321,0.9721,0.2224,0.2239,0.3304,0.2505,0.2224,0.6775,0.9261,0.4467,0.3983,0.2224,0.2222,0.2225,1.0,0.2222,0.6415,0.4447,0.9708,0.4661,0.2233,0.2244,0.2223,0.9484,0.248,0.2253,0.2223,0.2222,0.2221,0.2225,0.2223,0.2225,0.2282,0.2225,0.221,0.2204,0.2222,0.3577,0.2222,0.2225,0.2222,0.2221,0.2222,0.2222,0.2256,0.221,0.2226,0.2225,0.4625,0.2665,0.2233,0.2222,0.9755,0.2222,0.2412,0.2221,1.0,0.2222,0.2222,0.2222,0.2225,0.2231,0.2223,0.2222,0.2223,0.2223,0.2223,0.9843,0.2222,0.9733,0.2225,0.2217,0.9815,0.2231,0.2263,0.2224,0.2224,0.9738,0.2699,0.2225,1.0,0.2224,0.2219,0.2225,0.2276,0.2364,0.2224,0.2554,0.2225,0.2223,1.0,0.2223,0.2224,0.457,0.4458,0.2222,0.2225,0.9893,0.9268,0.4459,0.2223,0.2363,0.2223,0.2222,0.2222,0.9122,0.2225,0.2223,0.2224,0.2222,0.2222,0.2222,0.2222,0.2223,0.2222,0.9839,0.2225,0.2222,0.2222,0.2225,0.2225,0.2222,0.2209,0.2225,0.2224,0.2223,0.2221,0.2221,0.224,1.0,0.2221,0.8429,0.4459,0.9922,0.9921,0.223,0.4463,0.4447,0.2242,0.2223,0.2223,0.2225,0.2218,0.2226],\"yaxis\":\"y\"},{\"hovertemplate\":\"x=%{x}<br>y=%{y}<extra></extra>\",\"legendgroup\":\"\",\"line\":{\"color\":\"lightgreen\",\"dash\":\"solid\",\"width\":3},\"marker\":{\"symbol\":\"circle\"},\"mode\":\"lines\",\"name\":\"\",\"orientation\":\"v\",\"showlegend\":false,\"type\":\"scatter\",\"x\":[0.3,1.0],\"xaxis\":\"x\",\"y\":[0.3,1.0],\"yaxis\":\"y\"}],                        {\"autosize\":false,\"height\":500,\"legend\":{\"title\":{\"text\":\"Diff_Perc < 10\"},\"tracegroupgap\":0},\"margin\":{\"t\":60},\"template\":{\"data\":{\"bar\":[{\"error_x\":{\"color\":\"#2a3f5f\"},\"error_y\":{\"color\":\"#2a3f5f\"},\"marker\":{\"line\":{\"color\":\"#E5ECF6\",\"width\":0.5},\"pattern\":{\"fillmode\":\"overlay\",\"size\":10,\"solidity\":0.2}},\"type\":\"bar\"}],\"barpolar\":[{\"marker\":{\"line\":{\"color\":\"#E5ECF6\",\"width\":0.5},\"pattern\":{\"fillmode\":\"overlay\",\"size\":10,\"solidity\":0.2}},\"type\":\"barpolar\"}],\"carpet\":[{\"aaxis\":{\"endlinecolor\":\"#2a3f5f\",\"gridcolor\":\"white\",\"linecolor\":\"white\",\"minorgridcolor\":\"white\",\"startlinecolor\":\"#2a3f5f\"},\"baxis\":{\"endlinecolor\":\"#2a3f5f\",\"gridcolor\":\"white\",\"linecolor\":\"white\",\"minorgridcolor\":\"white\",\"startlinecolor\":\"#2a3f5f\"},\"type\":\"carpet\"}],\"choropleth\":[{\"colorbar\":{\"outlinewidth\":0,\"ticks\":\"\"},\"type\":\"choropleth\"}],\"contour\":[{\"colorbar\":{\"outlinewidth\":0,\"ticks\":\"\"},\"colorscale\":[[0.0,\"#0d0887\"],[0.1111111111111111,\"#46039f\"],[0.2222222222222222,\"#7201a8\"],[0.3333333333333333,\"#9c179e\"],[0.4444444444444444,\"#bd3786\"],[0.5555555555555556,\"#d8576b\"],[0.6666666666666666,\"#ed7953\"],[0.7777777777777778,\"#fb9f3a\"],[0.8888888888888888,\"#fdca26\"],[1.0,\"#f0f921\"]],\"type\":\"contour\"}],\"contourcarpet\":[{\"colorbar\":{\"outlinewidth\":0,\"ticks\":\"\"},\"type\":\"contourcarpet\"}],\"heatmap\":[{\"colorbar\":{\"outlinewidth\":0,\"ticks\":\"\"},\"colorscale\":[[0.0,\"#0d0887\"],[0.1111111111111111,\"#46039f\"],[0.2222222222222222,\"#7201a8\"],[0.3333333333333333,\"#9c179e\"],[0.4444444444444444,\"#bd3786\"],[0.5555555555555556,\"#d8576b\"],[0.6666666666666666,\"#ed7953\"],[0.7777777777777778,\"#fb9f3a\"],[0.8888888888888888,\"#fdca26\"],[1.0,\"#f0f921\"]],\"type\":\"heatmap\"}],\"heatmapgl\":[{\"colorbar\":{\"outlinewidth\":0,\"ticks\":\"\"},\"colorscale\":[[0.0,\"#0d0887\"],[0.1111111111111111,\"#46039f\"],[0.2222222222222222,\"#7201a8\"],[0.3333333333333333,\"#9c179e\"],[0.4444444444444444,\"#bd3786\"],[0.5555555555555556,\"#d8576b\"],[0.6666666666666666,\"#ed7953\"],[0.7777777777777778,\"#fb9f3a\"],[0.8888888888888888,\"#fdca26\"],[1.0,\"#f0f921\"]],\"type\":\"heatmapgl\"}],\"histogram\":[{\"marker\":{\"pattern\":{\"fillmode\":\"overlay\",\"size\":10,\"solidity\":0.2}},\"type\":\"histogram\"}],\"histogram2d\":[{\"colorbar\":{\"outlinewidth\":0,\"ticks\":\"\"},\"colorscale\":[[0.0,\"#0d0887\"],[0.1111111111111111,\"#46039f\"],[0.2222222222222222,\"#7201a8\"],[0.3333333333333333,\"#9c179e\"],[0.4444444444444444,\"#bd3786\"],[0.5555555555555556,\"#d8576b\"],[0.6666666666666666,\"#ed7953\"],[0.7777777777777778,\"#fb9f3a\"],[0.8888888888888888,\"#fdca26\"],[1.0,\"#f0f921\"]],\"type\":\"histogram2d\"}],\"histogram2dcontour\":[{\"colorbar\":{\"outlinewidth\":0,\"ticks\":\"\"},\"colorscale\":[[0.0,\"#0d0887\"],[0.1111111111111111,\"#46039f\"],[0.2222222222222222,\"#7201a8\"],[0.3333333333333333,\"#9c179e\"],[0.4444444444444444,\"#bd3786\"],[0.5555555555555556,\"#d8576b\"],[0.6666666666666666,\"#ed7953\"],[0.7777777777777778,\"#fb9f3a\"],[0.8888888888888888,\"#fdca26\"],[1.0,\"#f0f921\"]],\"type\":\"histogram2dcontour\"}],\"mesh3d\":[{\"colorbar\":{\"outlinewidth\":0,\"ticks\":\"\"},\"type\":\"mesh3d\"}],\"parcoords\":[{\"line\":{\"colorbar\":{\"outlinewidth\":0,\"ticks\":\"\"}},\"type\":\"parcoords\"}],\"pie\":[{\"automargin\":true,\"type\":\"pie\"}],\"scatter\":[{\"marker\":{\"colorbar\":{\"outlinewidth\":0,\"ticks\":\"\"}},\"type\":\"scatter\"}],\"scatter3d\":[{\"line\":{\"colorbar\":{\"outlinewidth\":0,\"ticks\":\"\"}},\"marker\":{\"colorbar\":{\"outlinewidth\":0,\"ticks\":\"\"}},\"type\":\"scatter3d\"}],\"scattercarpet\":[{\"marker\":{\"colorbar\":{\"outlinewidth\":0,\"ticks\":\"\"}},\"type\":\"scattercarpet\"}],\"scattergeo\":[{\"marker\":{\"colorbar\":{\"outlinewidth\":0,\"ticks\":\"\"}},\"type\":\"scattergeo\"}],\"scattergl\":[{\"marker\":{\"colorbar\":{\"outlinewidth\":0,\"ticks\":\"\"}},\"type\":\"scattergl\"}],\"scattermapbox\":[{\"marker\":{\"colorbar\":{\"outlinewidth\":0,\"ticks\":\"\"}},\"type\":\"scattermapbox\"}],\"scatterpolar\":[{\"marker\":{\"colorbar\":{\"outlinewidth\":0,\"ticks\":\"\"}},\"type\":\"scatterpolar\"}],\"scatterpolargl\":[{\"marker\":{\"colorbar\":{\"outlinewidth\":0,\"ticks\":\"\"}},\"type\":\"scatterpolargl\"}],\"scatterternary\":[{\"marker\":{\"colorbar\":{\"outlinewidth\":0,\"ticks\":\"\"}},\"type\":\"scatterternary\"}],\"surface\":[{\"colorbar\":{\"outlinewidth\":0,\"ticks\":\"\"},\"colorscale\":[[0.0,\"#0d0887\"],[0.1111111111111111,\"#46039f\"],[0.2222222222222222,\"#7201a8\"],[0.3333333333333333,\"#9c179e\"],[0.4444444444444444,\"#bd3786\"],[0.5555555555555556,\"#d8576b\"],[0.6666666666666666,\"#ed7953\"],[0.7777777777777778,\"#fb9f3a\"],[0.8888888888888888,\"#fdca26\"],[1.0,\"#f0f921\"]],\"type\":\"surface\"}],\"table\":[{\"cells\":{\"fill\":{\"color\":\"#EBF0F8\"},\"line\":{\"color\":\"white\"}},\"header\":{\"fill\":{\"color\":\"#C8D4E3\"},\"line\":{\"color\":\"white\"}},\"type\":\"table\"}]},\"layout\":{\"annotationdefaults\":{\"arrowcolor\":\"#2a3f5f\",\"arrowhead\":0,\"arrowwidth\":1},\"autotypenumbers\":\"strict\",\"coloraxis\":{\"colorbar\":{\"outlinewidth\":0,\"ticks\":\"\"}},\"colorscale\":{\"diverging\":[[0,\"#8e0152\"],[0.1,\"#c51b7d\"],[0.2,\"#de77ae\"],[0.3,\"#f1b6da\"],[0.4,\"#fde0ef\"],[0.5,\"#f7f7f7\"],[0.6,\"#e6f5d0\"],[0.7,\"#b8e186\"],[0.8,\"#7fbc41\"],[0.9,\"#4d9221\"],[1,\"#276419\"]],\"sequential\":[[0.0,\"#0d0887\"],[0.1111111111111111,\"#46039f\"],[0.2222222222222222,\"#7201a8\"],[0.3333333333333333,\"#9c179e\"],[0.4444444444444444,\"#bd3786\"],[0.5555555555555556,\"#d8576b\"],[0.6666666666666666,\"#ed7953\"],[0.7777777777777778,\"#fb9f3a\"],[0.8888888888888888,\"#fdca26\"],[1.0,\"#f0f921\"]],\"sequentialminus\":[[0.0,\"#0d0887\"],[0.1111111111111111,\"#46039f\"],[0.2222222222222222,\"#7201a8\"],[0.3333333333333333,\"#9c179e\"],[0.4444444444444444,\"#bd3786\"],[0.5555555555555556,\"#d8576b\"],[0.6666666666666666,\"#ed7953\"],[0.7777777777777778,\"#fb9f3a\"],[0.8888888888888888,\"#fdca26\"],[1.0,\"#f0f921\"]]},\"colorway\":[\"#636efa\",\"#EF553B\",\"#00cc96\",\"#ab63fa\",\"#FFA15A\",\"#19d3f3\",\"#FF6692\",\"#B6E880\",\"#FF97FF\",\"#FECB52\"],\"font\":{\"color\":\"#2a3f5f\"},\"geo\":{\"bgcolor\":\"white\",\"lakecolor\":\"white\",\"landcolor\":\"#E5ECF6\",\"showlakes\":true,\"showland\":true,\"subunitcolor\":\"white\"},\"hoverlabel\":{\"align\":\"left\"},\"hovermode\":\"closest\",\"mapbox\":{\"style\":\"light\"},\"paper_bgcolor\":\"white\",\"plot_bgcolor\":\"#E5ECF6\",\"polar\":{\"angularaxis\":{\"gridcolor\":\"white\",\"linecolor\":\"white\",\"ticks\":\"\"},\"bgcolor\":\"#E5ECF6\",\"radialaxis\":{\"gridcolor\":\"white\",\"linecolor\":\"white\",\"ticks\":\"\"}},\"scene\":{\"xaxis\":{\"backgroundcolor\":\"#E5ECF6\",\"gridcolor\":\"white\",\"gridwidth\":2,\"linecolor\":\"white\",\"showbackground\":true,\"ticks\":\"\",\"zerolinecolor\":\"white\"},\"yaxis\":{\"backgroundcolor\":\"#E5ECF6\",\"gridcolor\":\"white\",\"gridwidth\":2,\"linecolor\":\"white\",\"showbackground\":true,\"ticks\":\"\",\"zerolinecolor\":\"white\"},\"zaxis\":{\"backgroundcolor\":\"#E5ECF6\",\"gridcolor\":\"white\",\"gridwidth\":2,\"linecolor\":\"white\",\"showbackground\":true,\"ticks\":\"\",\"zerolinecolor\":\"white\"}},\"shapedefaults\":{\"line\":{\"color\":\"#2a3f5f\"}},\"ternary\":{\"aaxis\":{\"gridcolor\":\"white\",\"linecolor\":\"white\",\"ticks\":\"\"},\"baxis\":{\"gridcolor\":\"white\",\"linecolor\":\"white\",\"ticks\":\"\"},\"bgcolor\":\"#E5ECF6\",\"caxis\":{\"gridcolor\":\"white\",\"linecolor\":\"white\",\"ticks\":\"\"}},\"title\":{\"x\":0.05},\"xaxis\":{\"automargin\":true,\"gridcolor\":\"white\",\"linecolor\":\"white\",\"ticks\":\"\",\"title\":{\"standoff\":15},\"zerolinecolor\":\"white\",\"zerolinewidth\":2},\"yaxis\":{\"automargin\":true,\"gridcolor\":\"white\",\"linecolor\":\"white\",\"ticks\":\"\",\"title\":{\"standoff\":15},\"zerolinecolor\":\"white\",\"zerolinewidth\":2}}},\"title\":{\"text\":\"Efficiency Scores Comparison (Blue: 366, Red: 1278)\"},\"width\":800,\"xaxis\":{\"anchor\":\"y\",\"domain\":[0.0,1.0],\"title\":{\"text\":\"ES - 2nd DEA Model\"}},\"yaxis\":{\"anchor\":\"x\",\"domain\":[0.0,1.0],\"title\":{\"text\":\"ES - 1st DEA Model\"}}},                        {\"responsive\": true}                    ).then(function(){\n",
       "                            \n",
       "var gd = document.getElementById('fa7df0cf-3b68-47c1-98a1-1d5b6c9b6f45');\n",
       "var x = new MutationObserver(function (mutations, observer) {{\n",
       "        var display = window.getComputedStyle(gd).display;\n",
       "        if (!display || display === 'none') {{\n",
       "            console.log([gd, 'removed!']);\n",
       "            Plotly.purge(gd);\n",
       "            observer.disconnect();\n",
       "        }}\n",
       "}});\n",
       "\n",
       "// Listen for the removal of the full notebook cells\n",
       "var notebookContainer = gd.closest('#notebook-container');\n",
       "if (notebookContainer) {{\n",
       "    x.observe(notebookContainer, {childList: true});\n",
       "}}\n",
       "\n",
       "// Listen for the clearing of the current output cell\n",
       "var outputEl = gd.closest('.output');\n",
       "if (outputEl) {{\n",
       "    x.observe(outputEl, {childList: true});\n",
       "}}\n",
       "\n",
       "                        })                };                });            </script>        </div>"
      ]
     },
     "metadata": {},
     "output_type": "display_data"
    }
   ],
   "source": [
    "fig = px.scatter(df_res, x=\"Efficiency_Scores_Basic\", y=\"Efficiency_Scores_with_ML\", color = \"Diff_Perc < 10\", color_discrete_map= {True:\"blue\", False: \"red\"},\n",
    "                 hover_data=[\"Efficiency_Scores_Basic\", \"Efficiency_Scores_with_ML\", \"Diff_Perc\"] + [df_res.index])\n",
    "\n",
    "fig.add_traces(\n",
    "    list(px.line(x = np.linspace(0.3, 1, num=2), y = np.linspace(0.3, 1, num=2)).select_traces())\n",
    ")\n",
    "\n",
    "fig.update_traces(line_color='lightgreen', line_width=3)\n",
    "\n",
    "fig.update_layout(\n",
    "    autosize=False,\n",
    "    width=800,\n",
    "    height=500,\n",
    "    title_text=f\"Efficiency Scores Comparison (Blue: {blue}, Red: {red})\",\n",
    "    xaxis_title=\"ES - 2nd DEA Model\",\n",
    "    yaxis_title=\"ES - 1st DEA Model\"\n",
    ")\n",
    "\n",
    "fig.show()"
   ]
  },
  {
   "cell_type": "code",
   "execution_count": null,
   "id": "e8783c0b-1b6c-4c8f-9eab-44201f30bdaa",
   "metadata": {},
   "outputs": [],
   "source": []
  }
 ],
 "metadata": {
  "kernelspec": {
   "display_name": "Python 3 (ipykernel)",
   "language": "python",
   "name": "python3"
  },
  "language_info": {
   "codemirror_mode": {
    "name": "ipython",
    "version": 3
   },
   "file_extension": ".py",
   "mimetype": "text/x-python",
   "name": "python",
   "nbconvert_exporter": "python",
   "pygments_lexer": "ipython3",
   "version": "3.8.15"
  }
 },
 "nbformat": 4,
 "nbformat_minor": 5
}

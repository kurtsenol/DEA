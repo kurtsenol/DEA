{
 "cells": [
  {
   "cell_type": "code",
   "execution_count": 1,
   "id": "fc798ec7",
   "metadata": {},
   "outputs": [],
   "source": [
    "import pandas as pd\n",
    "import numpy as np\n",
    "from scipy import stats\n",
    "import pickle\n",
    "\n",
    "import matplotlib.pyplot as plt\n",
    "import seaborn as sns\n",
    "\n",
    "import xgboost as xgb\n",
    "\n",
    "np.set_printoptions(linewidth=np.inf, suppress=True, precision=2)"
   ]
  },
  {
   "cell_type": "code",
   "execution_count": 2,
   "id": "0dc16ee5-c9ac-4236-9b59-996fecd94413",
   "metadata": {},
   "outputs": [],
   "source": [
    "from sklearn.pipeline import make_pipeline\n",
    "from sklearn.compose import make_column_transformer\n",
    "from sklearn.model_selection import train_test_split, cross_val_score\n",
    "from sklearn.preprocessing import MinMaxScaler, StandardScaler, PolynomialFeatures\n",
    "from sklearn.metrics import mean_squared_error, r2_score \n",
    "\n",
    "from sklearn.linear_model import LinearRegression, Lasso, Ridge, ElasticNet\n",
    "from sklearn.tree import DecisionTreeRegressor\n",
    "from sklearn.ensemble import GradientBoostingRegressor\n",
    "from sklearn.neighbors import KNeighborsRegressor\n",
    "from sklearn.ensemble import RandomForestRegressor\n",
    "from sklearn.model_selection import GridSearchCV, RandomizedSearchCV\n",
    "\n",
    "import tensorflow as tf\n",
    "\n",
    "from sklearn.gaussian_process.kernels import (RBF, Matern, RationalQuadratic,ExpSineSquared, DotProduct,ConstantKernel)\n",
    "from sklearn.gaussian_process import GaussianProcessRegressor  \n",
    "from sklearn.svm import SVR\n",
    "\n",
    "import mitosheet"
   ]
  },
  {
   "cell_type": "code",
   "execution_count": 3,
   "id": "6d565361-d152-4459-be65-97e811d5d01e",
   "metadata": {},
   "outputs": [
    {
     "data": {
      "text/html": [
       "        <script type=\"text/javascript\">\n",
       "        window.PlotlyConfig = {MathJaxConfig: 'local'};\n",
       "        if (window.MathJax) {MathJax.Hub.Config({SVG: {font: \"STIX-Web\"}});}\n",
       "        if (typeof require !== 'undefined') {\n",
       "        require.undef(\"plotly\");\n",
       "        requirejs.config({\n",
       "            paths: {\n",
       "                'plotly': ['https://cdn.plot.ly/plotly-2.4.1.min']\n",
       "            }\n",
       "        });\n",
       "        require(['plotly'], function(Plotly) {\n",
       "            window._Plotly = Plotly;\n",
       "        });\n",
       "        }\n",
       "        </script>\n",
       "        "
      ]
     },
     "metadata": {},
     "output_type": "display_data"
    }
   ],
   "source": [
    "import plotly.express as px\n",
    "import plotly.offline as pyo\n",
    "import plotly.graph_objs as go\n",
    "from plotly.subplots import make_subplots\n",
    "import plotly.figure_factory as ff\n",
    "\n",
    "pyo.init_notebook_mode(connected=True)"
   ]
  },
  {
   "cell_type": "code",
   "execution_count": 4,
   "id": "3c83cd88-3a72-4a56-a694-b917d425b713",
   "metadata": {},
   "outputs": [],
   "source": [
    "results = []"
   ]
  },
  {
   "cell_type": "markdown",
   "id": "e1be4c96-efbd-4bbd-aa6b-ebc1a6e1fe20",
   "metadata": {
    "tags": []
   },
   "source": [
    "### Unstructured Variance, n_input = 12, n_output = 1"
   ]
  },
  {
   "cell_type": "code",
   "execution_count": 5,
   "id": "de36dfbd-bb24-49c8-8c14-b65f667c980e",
   "metadata": {},
   "outputs": [
    {
     "data": {
      "text/html": [
       "<div><div id=1daa2bda-38ee-4b9c-885b-6892c42d75f9 style=\"display:none; background-color:#9D6CFF; color:white; width:200px; height:30px; padding-left:5px; border-radius:4px; flex-direction:row; justify-content:space-around; align-items:center;\" onmouseover=\"this.style.backgroundColor='#BA9BF8'\" onmouseout=\"this.style.backgroundColor='#9D6CFF'\" onclick=\"window.commands?.execute('create-mitosheet-from-dataframe-output');\">See Full Dataframe in Mito</div> <script> if (window.commands.hasCommand('create-mitosheet-from-dataframe-output')) document.getElementById('1daa2bda-38ee-4b9c-885b-6892c42d75f9').style.display = 'flex' </script> <table border=\"1\" class=\"dataframe\">\n",
       "  <thead>\n",
       "    <tr style=\"text-align: right;\">\n",
       "      <th></th>\n",
       "      <th>Input 1</th>\n",
       "      <th>Input 2</th>\n",
       "      <th>Input 3</th>\n",
       "      <th>Input 4</th>\n",
       "      <th>Input 5</th>\n",
       "      <th>Input 6</th>\n",
       "      <th>Input 7</th>\n",
       "      <th>Input 8</th>\n",
       "      <th>Input 9</th>\n",
       "      <th>Input 10</th>\n",
       "      <th>Input 11</th>\n",
       "      <th>Input 12</th>\n",
       "      <th>Input 13</th>\n",
       "      <th>Input 14</th>\n",
       "      <th>Input 15</th>\n",
       "      <th>Output 1</th>\n",
       "    </tr>\n",
       "  </thead>\n",
       "  <tbody>\n",
       "    <tr>\n",
       "      <th>DMU 0001</th>\n",
       "      <td>275.46</td>\n",
       "      <td>50.34</td>\n",
       "      <td>340.07</td>\n",
       "      <td>198.33</td>\n",
       "      <td>252.31</td>\n",
       "      <td>152.33</td>\n",
       "      <td>171.94</td>\n",
       "      <td>351.93</td>\n",
       "      <td>99.92</td>\n",
       "      <td>276.03</td>\n",
       "      <td>521.97</td>\n",
       "      <td>377.73</td>\n",
       "      <td>182.73</td>\n",
       "      <td>323.82</td>\n",
       "      <td>149.79</td>\n",
       "      <td>604.61</td>\n",
       "    </tr>\n",
       "    <tr>\n",
       "      <th>DMU 0002</th>\n",
       "      <td>215.47</td>\n",
       "      <td>60.38</td>\n",
       "      <td>340.06</td>\n",
       "      <td>310.86</td>\n",
       "      <td>293.92</td>\n",
       "      <td>194.99</td>\n",
       "      <td>213.47</td>\n",
       "      <td>449.00</td>\n",
       "      <td>236.11</td>\n",
       "      <td>219.68</td>\n",
       "      <td>448.57</td>\n",
       "      <td>389.20</td>\n",
       "      <td>136.40</td>\n",
       "      <td>381.47</td>\n",
       "      <td>155.19</td>\n",
       "      <td>549.84</td>\n",
       "    </tr>\n",
       "    <tr>\n",
       "      <th>DMU 0003</th>\n",
       "      <td>300.23</td>\n",
       "      <td>64.11</td>\n",
       "      <td>340.12</td>\n",
       "      <td>309.33</td>\n",
       "      <td>318.17</td>\n",
       "      <td>150.53</td>\n",
       "      <td>158.62</td>\n",
       "      <td>260.07</td>\n",
       "      <td>220.55</td>\n",
       "      <td>198.77</td>\n",
       "      <td>347.80</td>\n",
       "      <td>180.49</td>\n",
       "      <td>143.57</td>\n",
       "      <td>314.84</td>\n",
       "      <td>152.35</td>\n",
       "      <td>374.89</td>\n",
       "    </tr>\n",
       "    <tr>\n",
       "      <th>DMU 0004</th>\n",
       "      <td>318.80</td>\n",
       "      <td>70.69</td>\n",
       "      <td>340.03</td>\n",
       "      <td>308.70</td>\n",
       "      <td>284.31</td>\n",
       "      <td>177.03</td>\n",
       "      <td>184.56</td>\n",
       "      <td>248.79</td>\n",
       "      <td>196.65</td>\n",
       "      <td>194.76</td>\n",
       "      <td>308.82</td>\n",
       "      <td>370.43</td>\n",
       "      <td>154.72</td>\n",
       "      <td>236.00</td>\n",
       "      <td>150.82</td>\n",
       "      <td>308.83</td>\n",
       "    </tr>\n",
       "    <tr>\n",
       "      <th>DMU 0005</th>\n",
       "      <td>308.48</td>\n",
       "      <td>76.50</td>\n",
       "      <td>340.03</td>\n",
       "      <td>300.18</td>\n",
       "      <td>320.88</td>\n",
       "      <td>186.92</td>\n",
       "      <td>207.32</td>\n",
       "      <td>311.17</td>\n",
       "      <td>217.06</td>\n",
       "      <td>213.73</td>\n",
       "      <td>369.79</td>\n",
       "      <td>371.99</td>\n",
       "      <td>140.98</td>\n",
       "      <td>334.56</td>\n",
       "      <td>153.16</td>\n",
       "      <td>478.87</td>\n",
       "    </tr>\n",
       "    <tr>\n",
       "      <th>...</th>\n",
       "      <td>...</td>\n",
       "      <td>...</td>\n",
       "      <td>...</td>\n",
       "      <td>...</td>\n",
       "      <td>...</td>\n",
       "      <td>...</td>\n",
       "      <td>...</td>\n",
       "      <td>...</td>\n",
       "      <td>...</td>\n",
       "      <td>...</td>\n",
       "      <td>...</td>\n",
       "      <td>...</td>\n",
       "      <td>...</td>\n",
       "      <td>...</td>\n",
       "      <td>...</td>\n",
       "      <td>...</td>\n",
       "    </tr>\n",
       "    <tr>\n",
       "      <th>DMU 0996</th>\n",
       "      <td>229.84</td>\n",
       "      <td>62.77</td>\n",
       "      <td>340.10</td>\n",
       "      <td>307.80</td>\n",
       "      <td>251.16</td>\n",
       "      <td>170.90</td>\n",
       "      <td>181.09</td>\n",
       "      <td>345.93</td>\n",
       "      <td>209.08</td>\n",
       "      <td>206.03</td>\n",
       "      <td>420.21</td>\n",
       "      <td>324.91</td>\n",
       "      <td>145.44</td>\n",
       "      <td>267.75</td>\n",
       "      <td>152.00</td>\n",
       "      <td>434.69</td>\n",
       "    </tr>\n",
       "    <tr>\n",
       "      <th>DMU 0997</th>\n",
       "      <td>277.75</td>\n",
       "      <td>63.85</td>\n",
       "      <td>340.07</td>\n",
       "      <td>297.61</td>\n",
       "      <td>292.52</td>\n",
       "      <td>163.04</td>\n",
       "      <td>211.13</td>\n",
       "      <td>295.84</td>\n",
       "      <td>217.56</td>\n",
       "      <td>231.60</td>\n",
       "      <td>454.72</td>\n",
       "      <td>233.57</td>\n",
       "      <td>140.77</td>\n",
       "      <td>400.10</td>\n",
       "      <td>155.33</td>\n",
       "      <td>528.69</td>\n",
       "    </tr>\n",
       "    <tr>\n",
       "      <th>DMU 0998</th>\n",
       "      <td>245.12</td>\n",
       "      <td>44.22</td>\n",
       "      <td>340.05</td>\n",
       "      <td>310.36</td>\n",
       "      <td>284.72</td>\n",
       "      <td>157.20</td>\n",
       "      <td>154.61</td>\n",
       "      <td>341.60</td>\n",
       "      <td>168.51</td>\n",
       "      <td>281.86</td>\n",
       "      <td>383.23</td>\n",
       "      <td>351.73</td>\n",
       "      <td>166.37</td>\n",
       "      <td>259.97</td>\n",
       "      <td>151.17</td>\n",
       "      <td>448.42</td>\n",
       "    </tr>\n",
       "    <tr>\n",
       "      <th>DMU 0999</th>\n",
       "      <td>229.51</td>\n",
       "      <td>72.14</td>\n",
       "      <td>340.09</td>\n",
       "      <td>313.09</td>\n",
       "      <td>277.03</td>\n",
       "      <td>161.84</td>\n",
       "      <td>177.60</td>\n",
       "      <td>347.74</td>\n",
       "      <td>232.43</td>\n",
       "      <td>226.38</td>\n",
       "      <td>397.84</td>\n",
       "      <td>333.21</td>\n",
       "      <td>132.83</td>\n",
       "      <td>351.30</td>\n",
       "      <td>154.23</td>\n",
       "      <td>483.78</td>\n",
       "    </tr>\n",
       "    <tr>\n",
       "      <th>DMU 1000</th>\n",
       "      <td>345.20</td>\n",
       "      <td>64.26</td>\n",
       "      <td>340.03</td>\n",
       "      <td>299.28</td>\n",
       "      <td>319.01</td>\n",
       "      <td>203.12</td>\n",
       "      <td>186.08</td>\n",
       "      <td>286.17</td>\n",
       "      <td>264.56</td>\n",
       "      <td>171.45</td>\n",
       "      <td>298.56</td>\n",
       "      <td>380.98</td>\n",
       "      <td>137.34</td>\n",
       "      <td>272.06</td>\n",
       "      <td>154.64</td>\n",
       "      <td>289.95</td>\n",
       "    </tr>\n",
       "  </tbody>\n",
       "</table></div>"
      ],
      "text/plain": [
       "          Input 1  Input 2  Input 3  Input 4  Input 5  Input 6  Input 7  \\\n",
       "DMU 0001   275.46    50.34   340.07   198.33   252.31   152.33   171.94   \n",
       "DMU 0002   215.47    60.38   340.06   310.86   293.92   194.99   213.47   \n",
       "DMU 0003   300.23    64.11   340.12   309.33   318.17   150.53   158.62   \n",
       "DMU 0004   318.80    70.69   340.03   308.70   284.31   177.03   184.56   \n",
       "DMU 0005   308.48    76.50   340.03   300.18   320.88   186.92   207.32   \n",
       "...           ...      ...      ...      ...      ...      ...      ...   \n",
       "DMU 0996   229.84    62.77   340.10   307.80   251.16   170.90   181.09   \n",
       "DMU 0997   277.75    63.85   340.07   297.61   292.52   163.04   211.13   \n",
       "DMU 0998   245.12    44.22   340.05   310.36   284.72   157.20   154.61   \n",
       "DMU 0999   229.51    72.14   340.09   313.09   277.03   161.84   177.60   \n",
       "DMU 1000   345.20    64.26   340.03   299.28   319.01   203.12   186.08   \n",
       "\n",
       "          Input 8  Input 9  Input 10  Input 11  Input 12  Input 13  Input 14  \\\n",
       "DMU 0001   351.93    99.92    276.03    521.97    377.73    182.73    323.82   \n",
       "DMU 0002   449.00   236.11    219.68    448.57    389.20    136.40    381.47   \n",
       "DMU 0003   260.07   220.55    198.77    347.80    180.49    143.57    314.84   \n",
       "DMU 0004   248.79   196.65    194.76    308.82    370.43    154.72    236.00   \n",
       "DMU 0005   311.17   217.06    213.73    369.79    371.99    140.98    334.56   \n",
       "...           ...      ...       ...       ...       ...       ...       ...   \n",
       "DMU 0996   345.93   209.08    206.03    420.21    324.91    145.44    267.75   \n",
       "DMU 0997   295.84   217.56    231.60    454.72    233.57    140.77    400.10   \n",
       "DMU 0998   341.60   168.51    281.86    383.23    351.73    166.37    259.97   \n",
       "DMU 0999   347.74   232.43    226.38    397.84    333.21    132.83    351.30   \n",
       "DMU 1000   286.17   264.56    171.45    298.56    380.98    137.34    272.06   \n",
       "\n",
       "          Input 15  Output 1  \n",
       "DMU 0001    149.79    604.61  \n",
       "DMU 0002    155.19    549.84  \n",
       "DMU 0003    152.35    374.89  \n",
       "DMU 0004    150.82    308.83  \n",
       "DMU 0005    153.16    478.87  \n",
       "...            ...       ...  \n",
       "DMU 0996    152.00    434.69  \n",
       "DMU 0997    155.33    528.69  \n",
       "DMU 0998    151.17    448.42  \n",
       "DMU 0999    154.23    483.78  \n",
       "DMU 1000    154.64    289.95  \n",
       "\n",
       "[1000 rows x 16 columns]"
      ]
     },
     "execution_count": 5,
     "metadata": {},
     "output_type": "execute_result"
    }
   ],
   "source": [
    "df = pd.read_excel(\"Data/US15I1O.xlsx\", index_col = 0)\n",
    "df"
   ]
  },
  {
   "cell_type": "code",
   "execution_count": 6,
   "id": "129f8487-0648-4c81-96de-0b7ca085b894",
   "metadata": {},
   "outputs": [
    {
     "data": {
      "text/html": [
       "<div><div id=5d316a05-c6f5-4412-8ea7-1d205c02515b style=\"display:none; background-color:#9D6CFF; color:white; width:200px; height:30px; padding-left:5px; border-radius:4px; flex-direction:row; justify-content:space-around; align-items:center;\" onmouseover=\"this.style.backgroundColor='#BA9BF8'\" onmouseout=\"this.style.backgroundColor='#9D6CFF'\" onclick=\"window.commands?.execute('create-mitosheet-from-dataframe-output');\">See Full Dataframe in Mito</div> <script> if (window.commands.hasCommand('create-mitosheet-from-dataframe-output')) document.getElementById('5d316a05-c6f5-4412-8ea7-1d205c02515b').style.display = 'flex' </script> <table border=\"1\" class=\"dataframe\">\n",
       "  <thead>\n",
       "    <tr style=\"text-align: right;\">\n",
       "      <th></th>\n",
       "      <th>Efficiency</th>\n",
       "    </tr>\n",
       "    <tr>\n",
       "      <th>DMU</th>\n",
       "      <th></th>\n",
       "    </tr>\n",
       "  </thead>\n",
       "  <tbody>\n",
       "    <tr>\n",
       "      <th>DMU 1</th>\n",
       "      <td>1.000000</td>\n",
       "    </tr>\n",
       "    <tr>\n",
       "      <th>DMU 2</th>\n",
       "      <td>0.812848</td>\n",
       "    </tr>\n",
       "    <tr>\n",
       "      <th>DMU 3</th>\n",
       "      <td>0.807381</td>\n",
       "    </tr>\n",
       "    <tr>\n",
       "      <th>DMU 4</th>\n",
       "      <td>0.601498</td>\n",
       "    </tr>\n",
       "    <tr>\n",
       "      <th>DMU 5</th>\n",
       "      <td>0.783913</td>\n",
       "    </tr>\n",
       "    <tr>\n",
       "      <th>...</th>\n",
       "      <td>...</td>\n",
       "    </tr>\n",
       "    <tr>\n",
       "      <th>DMU 996</th>\n",
       "      <td>0.729545</td>\n",
       "    </tr>\n",
       "    <tr>\n",
       "      <th>DMU 997</th>\n",
       "      <td>0.944673</td>\n",
       "    </tr>\n",
       "    <tr>\n",
       "      <th>DMU 998</th>\n",
       "      <td>0.783763</td>\n",
       "    </tr>\n",
       "    <tr>\n",
       "      <th>DMU 999</th>\n",
       "      <td>0.758824</td>\n",
       "    </tr>\n",
       "    <tr>\n",
       "      <th>DMU 1000</th>\n",
       "      <td>0.562568</td>\n",
       "    </tr>\n",
       "  </tbody>\n",
       "</table></div>"
      ],
      "text/plain": [
       "          Efficiency\n",
       "DMU                 \n",
       "DMU 1       1.000000\n",
       "DMU 2       0.812848\n",
       "DMU 3       0.807381\n",
       "DMU 4       0.601498\n",
       "DMU 5       0.783913\n",
       "...              ...\n",
       "DMU 996     0.729545\n",
       "DMU 997     0.944673\n",
       "DMU 998     0.783763\n",
       "DMU 999     0.758824\n",
       "DMU 1000    0.562568\n",
       "\n",
       "[1000 rows x 1 columns]"
      ]
     },
     "execution_count": 6,
     "metadata": {},
     "output_type": "execute_result"
    }
   ],
   "source": [
    "df_sol = pd.read_excel(\"Data/US15I1O_Solution.xlsx\", index_col = 0, header=1)\n",
    "df_sol"
   ]
  },
  {
   "cell_type": "code",
   "execution_count": 7,
   "id": "f70f0d94-50b3-4903-b2dd-56fce1bb29d0",
   "metadata": {},
   "outputs": [
    {
     "data": {
      "application/vnd.jupyter.widget-view+json": {
       "model_id": "ba7c8ac6c109444db10d49b54e6c84af",
       "version_major": 2,
       "version_minor": 0
      },
      "text/plain": [
       "MitoWidget(analysis_data_json='{\"analysisName\": \"UUID-dced032d-9c57-4ef4-ac02-df3c26ee220a\", \"code\": {\"imports…"
      ]
     },
     "metadata": {},
     "output_type": "display_data"
    }
   ],
   "source": [
    "import mitosheet\n",
    "mitosheet.sheet(df_sol, view_df=True)"
   ]
  },
  {
   "cell_type": "code",
   "execution_count": null,
   "id": "d1d8ccda-33b8-4f87-998f-88e03054d60d",
   "metadata": {},
   "outputs": [],
   "source": []
  },
  {
   "cell_type": "code",
   "execution_count": 8,
   "id": "f5eb2bc7-3e29-4ea7-a8eb-041209694b6b",
   "metadata": {},
   "outputs": [
    {
     "data": {
      "text/html": [
       "<div><div id=82bdea90-3f4a-4694-8109-8921b4ead185 style=\"display:none; background-color:#9D6CFF; color:white; width:200px; height:30px; padding-left:5px; border-radius:4px; flex-direction:row; justify-content:space-around; align-items:center;\" onmouseover=\"this.style.backgroundColor='#BA9BF8'\" onmouseout=\"this.style.backgroundColor='#9D6CFF'\" onclick=\"window.commands?.execute('create-mitosheet-from-dataframe-output');\">See Full Dataframe in Mito</div> <script> if (window.commands.hasCommand('create-mitosheet-from-dataframe-output')) document.getElementById('82bdea90-3f4a-4694-8109-8921b4ead185').style.display = 'flex' </script> <table border=\"1\" class=\"dataframe\">\n",
       "  <thead>\n",
       "    <tr style=\"text-align: right;\">\n",
       "      <th></th>\n",
       "      <th>Efficiency</th>\n",
       "      <th>Input 6</th>\n",
       "      <th>Input 7</th>\n",
       "      <th>Input 3</th>\n",
       "      <th>Input 14</th>\n",
       "      <th>Input 15</th>\n",
       "      <th>Input 2</th>\n",
       "      <th>Input 13</th>\n",
       "      <th>Input 4</th>\n",
       "      <th>Input 10</th>\n",
       "      <th>Input 9</th>\n",
       "      <th>Input 8</th>\n",
       "      <th>Input 1</th>\n",
       "      <th>Input 12</th>\n",
       "      <th>Input 5</th>\n",
       "      <th>Input 11</th>\n",
       "      <th>Output 1</th>\n",
       "    </tr>\n",
       "    <tr>\n",
       "      <th>DMU</th>\n",
       "      <th></th>\n",
       "      <th></th>\n",
       "      <th></th>\n",
       "      <th></th>\n",
       "      <th></th>\n",
       "      <th></th>\n",
       "      <th></th>\n",
       "      <th></th>\n",
       "      <th></th>\n",
       "      <th></th>\n",
       "      <th></th>\n",
       "      <th></th>\n",
       "      <th></th>\n",
       "      <th></th>\n",
       "      <th></th>\n",
       "      <th></th>\n",
       "      <th></th>\n",
       "    </tr>\n",
       "  </thead>\n",
       "  <tbody>\n",
       "    <tr>\n",
       "      <th>DMU 1</th>\n",
       "      <td>1.000000</td>\n",
       "      <td>0.000000</td>\n",
       "      <td>0.000000</td>\n",
       "      <td>0.0</td>\n",
       "      <td>0.000652</td>\n",
       "      <td>0.0</td>\n",
       "      <td>0.006645</td>\n",
       "      <td>0.000000</td>\n",
       "      <td>0.000754</td>\n",
       "      <td>0.000000</td>\n",
       "      <td>0.00249</td>\n",
       "      <td>0.000000</td>\n",
       "      <td>0.000000</td>\n",
       "      <td>0.000148</td>\n",
       "      <td>0.000000</td>\n",
       "      <td>0.000000</td>\n",
       "      <td>0.001654</td>\n",
       "    </tr>\n",
       "    <tr>\n",
       "      <th>DMU 2</th>\n",
       "      <td>0.812848</td>\n",
       "      <td>0.000000</td>\n",
       "      <td>0.000000</td>\n",
       "      <td>0.0</td>\n",
       "      <td>0.000000</td>\n",
       "      <td>0.0</td>\n",
       "      <td>0.004071</td>\n",
       "      <td>0.002176</td>\n",
       "      <td>0.000000</td>\n",
       "      <td>0.002082</td>\n",
       "      <td>0.00000</td>\n",
       "      <td>0.000000</td>\n",
       "      <td>0.000000</td>\n",
       "      <td>0.000000</td>\n",
       "      <td>0.000000</td>\n",
       "      <td>0.000000</td>\n",
       "      <td>0.001478</td>\n",
       "    </tr>\n",
       "    <tr>\n",
       "      <th>DMU 3</th>\n",
       "      <td>0.807381</td>\n",
       "      <td>0.000000</td>\n",
       "      <td>0.000000</td>\n",
       "      <td>0.0</td>\n",
       "      <td>0.001165</td>\n",
       "      <td>0.0</td>\n",
       "      <td>0.000000</td>\n",
       "      <td>0.000000</td>\n",
       "      <td>0.000000</td>\n",
       "      <td>0.000000</td>\n",
       "      <td>0.00000</td>\n",
       "      <td>0.000149</td>\n",
       "      <td>0.000000</td>\n",
       "      <td>0.002424</td>\n",
       "      <td>0.000000</td>\n",
       "      <td>0.000451</td>\n",
       "      <td>0.002154</td>\n",
       "    </tr>\n",
       "    <tr>\n",
       "      <th>DMU 4</th>\n",
       "      <td>0.601498</td>\n",
       "      <td>0.000000</td>\n",
       "      <td>0.000000</td>\n",
       "      <td>0.0</td>\n",
       "      <td>0.000000</td>\n",
       "      <td>0.0</td>\n",
       "      <td>0.000000</td>\n",
       "      <td>0.000000</td>\n",
       "      <td>0.000000</td>\n",
       "      <td>0.000000</td>\n",
       "      <td>0.00000</td>\n",
       "      <td>0.001481</td>\n",
       "      <td>0.000000</td>\n",
       "      <td>0.000000</td>\n",
       "      <td>0.000000</td>\n",
       "      <td>0.002045</td>\n",
       "      <td>0.001948</td>\n",
       "    </tr>\n",
       "    <tr>\n",
       "      <th>DMU 5</th>\n",
       "      <td>0.783913</td>\n",
       "      <td>0.000000</td>\n",
       "      <td>0.000000</td>\n",
       "      <td>0.0</td>\n",
       "      <td>0.000000</td>\n",
       "      <td>0.0</td>\n",
       "      <td>0.000000</td>\n",
       "      <td>0.000000</td>\n",
       "      <td>0.000000</td>\n",
       "      <td>0.000685</td>\n",
       "      <td>0.00000</td>\n",
       "      <td>0.000881</td>\n",
       "      <td>0.000000</td>\n",
       "      <td>0.000473</td>\n",
       "      <td>0.000000</td>\n",
       "      <td>0.001092</td>\n",
       "      <td>0.001637</td>\n",
       "    </tr>\n",
       "    <tr>\n",
       "      <th>...</th>\n",
       "      <td>...</td>\n",
       "      <td>...</td>\n",
       "      <td>...</td>\n",
       "      <td>...</td>\n",
       "      <td>...</td>\n",
       "      <td>...</td>\n",
       "      <td>...</td>\n",
       "      <td>...</td>\n",
       "      <td>...</td>\n",
       "      <td>...</td>\n",
       "      <td>...</td>\n",
       "      <td>...</td>\n",
       "      <td>...</td>\n",
       "      <td>...</td>\n",
       "      <td>...</td>\n",
       "      <td>...</td>\n",
       "      <td>...</td>\n",
       "    </tr>\n",
       "    <tr>\n",
       "      <th>DMU 996</th>\n",
       "      <td>0.729545</td>\n",
       "      <td>0.000000</td>\n",
       "      <td>0.000000</td>\n",
       "      <td>0.0</td>\n",
       "      <td>0.001132</td>\n",
       "      <td>0.0</td>\n",
       "      <td>0.000000</td>\n",
       "      <td>0.000000</td>\n",
       "      <td>0.000000</td>\n",
       "      <td>0.000081</td>\n",
       "      <td>0.00000</td>\n",
       "      <td>0.000022</td>\n",
       "      <td>0.000262</td>\n",
       "      <td>0.001482</td>\n",
       "      <td>0.000521</td>\n",
       "      <td>0.000000</td>\n",
       "      <td>0.001678</td>\n",
       "    </tr>\n",
       "    <tr>\n",
       "      <th>DMU 997</th>\n",
       "      <td>0.944673</td>\n",
       "      <td>0.001676</td>\n",
       "      <td>0.000000</td>\n",
       "      <td>0.0</td>\n",
       "      <td>0.000000</td>\n",
       "      <td>0.0</td>\n",
       "      <td>0.000000</td>\n",
       "      <td>0.000000</td>\n",
       "      <td>0.000000</td>\n",
       "      <td>0.000062</td>\n",
       "      <td>0.00000</td>\n",
       "      <td>0.001441</td>\n",
       "      <td>0.000000</td>\n",
       "      <td>0.001225</td>\n",
       "      <td>0.000000</td>\n",
       "      <td>0.000000</td>\n",
       "      <td>0.001787</td>\n",
       "    </tr>\n",
       "    <tr>\n",
       "      <th>DMU 998</th>\n",
       "      <td>0.783763</td>\n",
       "      <td>0.000000</td>\n",
       "      <td>0.001201</td>\n",
       "      <td>0.0</td>\n",
       "      <td>0.000930</td>\n",
       "      <td>0.0</td>\n",
       "      <td>0.007942</td>\n",
       "      <td>0.000000</td>\n",
       "      <td>0.000000</td>\n",
       "      <td>0.000000</td>\n",
       "      <td>0.00000</td>\n",
       "      <td>0.000000</td>\n",
       "      <td>0.000000</td>\n",
       "      <td>0.000492</td>\n",
       "      <td>0.000000</td>\n",
       "      <td>0.000126</td>\n",
       "      <td>0.001748</td>\n",
       "    </tr>\n",
       "    <tr>\n",
       "      <th>DMU 999</th>\n",
       "      <td>0.758824</td>\n",
       "      <td>0.000000</td>\n",
       "      <td>0.000000</td>\n",
       "      <td>0.0</td>\n",
       "      <td>0.000000</td>\n",
       "      <td>0.0</td>\n",
       "      <td>0.000000</td>\n",
       "      <td>0.000628</td>\n",
       "      <td>0.000000</td>\n",
       "      <td>0.000450</td>\n",
       "      <td>0.00000</td>\n",
       "      <td>0.000475</td>\n",
       "      <td>0.000000</td>\n",
       "      <td>0.000676</td>\n",
       "      <td>0.000000</td>\n",
       "      <td>0.001066</td>\n",
       "      <td>0.001569</td>\n",
       "    </tr>\n",
       "    <tr>\n",
       "      <th>DMU 1000</th>\n",
       "      <td>0.562568</td>\n",
       "      <td>0.000000</td>\n",
       "      <td>0.000000</td>\n",
       "      <td>0.0</td>\n",
       "      <td>0.000000</td>\n",
       "      <td>0.0</td>\n",
       "      <td>0.000000</td>\n",
       "      <td>0.000000</td>\n",
       "      <td>0.000000</td>\n",
       "      <td>0.000815</td>\n",
       "      <td>0.00000</td>\n",
       "      <td>0.001072</td>\n",
       "      <td>0.000000</td>\n",
       "      <td>0.000000</td>\n",
       "      <td>0.000000</td>\n",
       "      <td>0.001854</td>\n",
       "      <td>0.001940</td>\n",
       "    </tr>\n",
       "  </tbody>\n",
       "</table></div>"
      ],
      "text/plain": [
       "          Efficiency   Input 6   Input 7  Input 3  Input 14  Input 15  \\\n",
       "DMU                                                                     \n",
       "DMU 1       1.000000  0.000000  0.000000      0.0  0.000652       0.0   \n",
       "DMU 2       0.812848  0.000000  0.000000      0.0  0.000000       0.0   \n",
       "DMU 3       0.807381  0.000000  0.000000      0.0  0.001165       0.0   \n",
       "DMU 4       0.601498  0.000000  0.000000      0.0  0.000000       0.0   \n",
       "DMU 5       0.783913  0.000000  0.000000      0.0  0.000000       0.0   \n",
       "...              ...       ...       ...      ...       ...       ...   \n",
       "DMU 996     0.729545  0.000000  0.000000      0.0  0.001132       0.0   \n",
       "DMU 997     0.944673  0.001676  0.000000      0.0  0.000000       0.0   \n",
       "DMU 998     0.783763  0.000000  0.001201      0.0  0.000930       0.0   \n",
       "DMU 999     0.758824  0.000000  0.000000      0.0  0.000000       0.0   \n",
       "DMU 1000    0.562568  0.000000  0.000000      0.0  0.000000       0.0   \n",
       "\n",
       "           Input 2  Input 13   Input 4  Input 10  Input 9   Input 8   Input 1  \\\n",
       "DMU                                                                             \n",
       "DMU 1     0.006645  0.000000  0.000754  0.000000  0.00249  0.000000  0.000000   \n",
       "DMU 2     0.004071  0.002176  0.000000  0.002082  0.00000  0.000000  0.000000   \n",
       "DMU 3     0.000000  0.000000  0.000000  0.000000  0.00000  0.000149  0.000000   \n",
       "DMU 4     0.000000  0.000000  0.000000  0.000000  0.00000  0.001481  0.000000   \n",
       "DMU 5     0.000000  0.000000  0.000000  0.000685  0.00000  0.000881  0.000000   \n",
       "...            ...       ...       ...       ...      ...       ...       ...   \n",
       "DMU 996   0.000000  0.000000  0.000000  0.000081  0.00000  0.000022  0.000262   \n",
       "DMU 997   0.000000  0.000000  0.000000  0.000062  0.00000  0.001441  0.000000   \n",
       "DMU 998   0.007942  0.000000  0.000000  0.000000  0.00000  0.000000  0.000000   \n",
       "DMU 999   0.000000  0.000628  0.000000  0.000450  0.00000  0.000475  0.000000   \n",
       "DMU 1000  0.000000  0.000000  0.000000  0.000815  0.00000  0.001072  0.000000   \n",
       "\n",
       "          Input 12   Input 5  Input 11  Output 1  \n",
       "DMU                                               \n",
       "DMU 1     0.000148  0.000000  0.000000  0.001654  \n",
       "DMU 2     0.000000  0.000000  0.000000  0.001478  \n",
       "DMU 3     0.002424  0.000000  0.000451  0.002154  \n",
       "DMU 4     0.000000  0.000000  0.002045  0.001948  \n",
       "DMU 5     0.000473  0.000000  0.001092  0.001637  \n",
       "...            ...       ...       ...       ...  \n",
       "DMU 996   0.001482  0.000521  0.000000  0.001678  \n",
       "DMU 997   0.001225  0.000000  0.000000  0.001787  \n",
       "DMU 998   0.000492  0.000000  0.000126  0.001748  \n",
       "DMU 999   0.000676  0.000000  0.001066  0.001569  \n",
       "DMU 1000  0.000000  0.000000  0.001854  0.001940  \n",
       "\n",
       "[1000 rows x 17 columns]"
      ]
     },
     "execution_count": 8,
     "metadata": {},
     "output_type": "execute_result"
    }
   ],
   "source": [
    "df_weights = pd.read_excel(\"Data/US15I1O_Solution.xlsx\", index_col = 0, header=1, sheet_name=\"InputOutputWeights\")\n",
    "df_weights"
   ]
  },
  {
   "cell_type": "code",
   "execution_count": 9,
   "id": "980121b8-b0c6-4072-ac55-67a1249b0ef5",
   "metadata": {},
   "outputs": [
    {
     "data": {
      "text/plain": [
       "Efficiency      0\n",
       "Input 6       833\n",
       "Input 7       898\n",
       "Input 3       998\n",
       "Input 14      351\n",
       "Input 15      990\n",
       "Input 2       746\n",
       "Input 13      881\n",
       "Input 4       881\n",
       "Input 10      570\n",
       "Input 9       818\n",
       "Input 8       447\n",
       "Input 1       781\n",
       "Input 12      298\n",
       "Input 5       844\n",
       "Input 11      384\n",
       "Output 1        0\n",
       "dtype: int64"
      ]
     },
     "execution_count": 9,
     "metadata": {},
     "output_type": "execute_result"
    }
   ],
   "source": [
    "(df_weights==0).sum()"
   ]
  },
  {
   "cell_type": "markdown",
   "id": "69132cc6-1e95-49b4-8662-7ab8118cccf8",
   "metadata": {
    "tags": []
   },
   "source": [
    "### ML"
   ]
  },
  {
   "cell_type": "code",
   "execution_count": 10,
   "id": "ca4d138a-4aaa-440e-94ce-661dce334187",
   "metadata": {},
   "outputs": [
    {
     "data": {
      "text/html": [
       "<div><div id=1bfac93b-366e-4839-9981-a682c5976646 style=\"display:none; background-color:#9D6CFF; color:white; width:200px; height:30px; padding-left:5px; border-radius:4px; flex-direction:row; justify-content:space-around; align-items:center;\" onmouseover=\"this.style.backgroundColor='#BA9BF8'\" onmouseout=\"this.style.backgroundColor='#9D6CFF'\" onclick=\"window.commands?.execute('create-mitosheet-from-dataframe-output');\">See Full Dataframe in Mito</div> <script> if (window.commands.hasCommand('create-mitosheet-from-dataframe-output')) document.getElementById('1bfac93b-366e-4839-9981-a682c5976646').style.display = 'flex' </script> <table border=\"1\" class=\"dataframe\">\n",
       "  <thead>\n",
       "    <tr style=\"text-align: right;\">\n",
       "      <th></th>\n",
       "      <th>Input 1</th>\n",
       "      <th>Input 2</th>\n",
       "      <th>Input 3</th>\n",
       "      <th>Input 4</th>\n",
       "      <th>Input 5</th>\n",
       "      <th>Input 6</th>\n",
       "      <th>Input 7</th>\n",
       "      <th>Input 8</th>\n",
       "      <th>Input 9</th>\n",
       "      <th>Input 10</th>\n",
       "      <th>Input 11</th>\n",
       "      <th>Input 12</th>\n",
       "      <th>Input 13</th>\n",
       "      <th>Input 14</th>\n",
       "      <th>Input 15</th>\n",
       "      <th>Output 1</th>\n",
       "    </tr>\n",
       "  </thead>\n",
       "  <tbody>\n",
       "    <tr>\n",
       "      <th>DMU 0001</th>\n",
       "      <td>275.46</td>\n",
       "      <td>50.34</td>\n",
       "      <td>340.07</td>\n",
       "      <td>198.33</td>\n",
       "      <td>252.31</td>\n",
       "      <td>152.33</td>\n",
       "      <td>171.94</td>\n",
       "      <td>351.93</td>\n",
       "      <td>99.92</td>\n",
       "      <td>276.03</td>\n",
       "      <td>521.97</td>\n",
       "      <td>377.73</td>\n",
       "      <td>182.73</td>\n",
       "      <td>323.82</td>\n",
       "      <td>149.79</td>\n",
       "      <td>604.61</td>\n",
       "    </tr>\n",
       "    <tr>\n",
       "      <th>DMU 0002</th>\n",
       "      <td>215.47</td>\n",
       "      <td>60.38</td>\n",
       "      <td>340.06</td>\n",
       "      <td>310.86</td>\n",
       "      <td>293.92</td>\n",
       "      <td>194.99</td>\n",
       "      <td>213.47</td>\n",
       "      <td>449.00</td>\n",
       "      <td>236.11</td>\n",
       "      <td>219.68</td>\n",
       "      <td>448.57</td>\n",
       "      <td>389.20</td>\n",
       "      <td>136.40</td>\n",
       "      <td>381.47</td>\n",
       "      <td>155.19</td>\n",
       "      <td>549.84</td>\n",
       "    </tr>\n",
       "    <tr>\n",
       "      <th>DMU 0003</th>\n",
       "      <td>300.23</td>\n",
       "      <td>64.11</td>\n",
       "      <td>340.12</td>\n",
       "      <td>309.33</td>\n",
       "      <td>318.17</td>\n",
       "      <td>150.53</td>\n",
       "      <td>158.62</td>\n",
       "      <td>260.07</td>\n",
       "      <td>220.55</td>\n",
       "      <td>198.77</td>\n",
       "      <td>347.80</td>\n",
       "      <td>180.49</td>\n",
       "      <td>143.57</td>\n",
       "      <td>314.84</td>\n",
       "      <td>152.35</td>\n",
       "      <td>374.89</td>\n",
       "    </tr>\n",
       "    <tr>\n",
       "      <th>DMU 0004</th>\n",
       "      <td>318.80</td>\n",
       "      <td>70.69</td>\n",
       "      <td>340.03</td>\n",
       "      <td>308.70</td>\n",
       "      <td>284.31</td>\n",
       "      <td>177.03</td>\n",
       "      <td>184.56</td>\n",
       "      <td>248.79</td>\n",
       "      <td>196.65</td>\n",
       "      <td>194.76</td>\n",
       "      <td>308.82</td>\n",
       "      <td>370.43</td>\n",
       "      <td>154.72</td>\n",
       "      <td>236.00</td>\n",
       "      <td>150.82</td>\n",
       "      <td>308.83</td>\n",
       "    </tr>\n",
       "    <tr>\n",
       "      <th>DMU 0005</th>\n",
       "      <td>308.48</td>\n",
       "      <td>76.50</td>\n",
       "      <td>340.03</td>\n",
       "      <td>300.18</td>\n",
       "      <td>320.88</td>\n",
       "      <td>186.92</td>\n",
       "      <td>207.32</td>\n",
       "      <td>311.17</td>\n",
       "      <td>217.06</td>\n",
       "      <td>213.73</td>\n",
       "      <td>369.79</td>\n",
       "      <td>371.99</td>\n",
       "      <td>140.98</td>\n",
       "      <td>334.56</td>\n",
       "      <td>153.16</td>\n",
       "      <td>478.87</td>\n",
       "    </tr>\n",
       "  </tbody>\n",
       "</table></div>"
      ],
      "text/plain": [
       "          Input 1  Input 2  Input 3  Input 4  Input 5  Input 6  Input 7  \\\n",
       "DMU 0001   275.46    50.34   340.07   198.33   252.31   152.33   171.94   \n",
       "DMU 0002   215.47    60.38   340.06   310.86   293.92   194.99   213.47   \n",
       "DMU 0003   300.23    64.11   340.12   309.33   318.17   150.53   158.62   \n",
       "DMU 0004   318.80    70.69   340.03   308.70   284.31   177.03   184.56   \n",
       "DMU 0005   308.48    76.50   340.03   300.18   320.88   186.92   207.32   \n",
       "\n",
       "          Input 8  Input 9  Input 10  Input 11  Input 12  Input 13  Input 14  \\\n",
       "DMU 0001   351.93    99.92    276.03    521.97    377.73    182.73    323.82   \n",
       "DMU 0002   449.00   236.11    219.68    448.57    389.20    136.40    381.47   \n",
       "DMU 0003   260.07   220.55    198.77    347.80    180.49    143.57    314.84   \n",
       "DMU 0004   248.79   196.65    194.76    308.82    370.43    154.72    236.00   \n",
       "DMU 0005   311.17   217.06    213.73    369.79    371.99    140.98    334.56   \n",
       "\n",
       "          Input 15  Output 1  \n",
       "DMU 0001    149.79    604.61  \n",
       "DMU 0002    155.19    549.84  \n",
       "DMU 0003    152.35    374.89  \n",
       "DMU 0004    150.82    308.83  \n",
       "DMU 0005    153.16    478.87  "
      ]
     },
     "execution_count": 10,
     "metadata": {},
     "output_type": "execute_result"
    }
   ],
   "source": [
    "X = df\n",
    "X.head()"
   ]
  },
  {
   "cell_type": "code",
   "execution_count": 11,
   "id": "82cb75d2-e174-4fcd-99b1-d9434f934381",
   "metadata": {},
   "outputs": [
    {
     "data": {
      "text/html": [
       "<div><div id=7ae3824d-2444-4c84-ae37-3853de911029 style=\"display:none; background-color:#9D6CFF; color:white; width:200px; height:30px; padding-left:5px; border-radius:4px; flex-direction:row; justify-content:space-around; align-items:center;\" onmouseover=\"this.style.backgroundColor='#BA9BF8'\" onmouseout=\"this.style.backgroundColor='#9D6CFF'\" onclick=\"window.commands?.execute('create-mitosheet-from-dataframe-output');\">See Full Dataframe in Mito</div> <script> if (window.commands.hasCommand('create-mitosheet-from-dataframe-output')) document.getElementById('7ae3824d-2444-4c84-ae37-3853de911029').style.display = 'flex' </script> <table border=\"1\" class=\"dataframe\">\n",
       "  <thead>\n",
       "    <tr style=\"text-align: right;\">\n",
       "      <th></th>\n",
       "      <th>Efficiency</th>\n",
       "    </tr>\n",
       "    <tr>\n",
       "      <th>DMU</th>\n",
       "      <th></th>\n",
       "    </tr>\n",
       "  </thead>\n",
       "  <tbody>\n",
       "    <tr>\n",
       "      <th>DMU 1</th>\n",
       "      <td>1.000000</td>\n",
       "    </tr>\n",
       "    <tr>\n",
       "      <th>DMU 2</th>\n",
       "      <td>0.812848</td>\n",
       "    </tr>\n",
       "    <tr>\n",
       "      <th>DMU 3</th>\n",
       "      <td>0.807381</td>\n",
       "    </tr>\n",
       "    <tr>\n",
       "      <th>DMU 4</th>\n",
       "      <td>0.601498</td>\n",
       "    </tr>\n",
       "    <tr>\n",
       "      <th>DMU 5</th>\n",
       "      <td>0.783913</td>\n",
       "    </tr>\n",
       "  </tbody>\n",
       "</table></div>"
      ],
      "text/plain": [
       "       Efficiency\n",
       "DMU              \n",
       "DMU 1    1.000000\n",
       "DMU 2    0.812848\n",
       "DMU 3    0.807381\n",
       "DMU 4    0.601498\n",
       "DMU 5    0.783913"
      ]
     },
     "execution_count": 11,
     "metadata": {},
     "output_type": "execute_result"
    }
   ],
   "source": [
    "y = df_sol\n",
    "y.head()"
   ]
  },
  {
   "cell_type": "code",
   "execution_count": 12,
   "id": "81e210f9-b24d-489a-993d-025509b46399",
   "metadata": {},
   "outputs": [],
   "source": [
    "X_train, X_test, y_train, y_test = train_test_split(X, y, test_size=0.2, random_state=42)"
   ]
  },
  {
   "cell_type": "code",
   "execution_count": 13,
   "id": "262bf01b-ff47-4717-a9a6-f76ade5a1fd1",
   "metadata": {},
   "outputs": [],
   "source": [
    "std_scaler = StandardScaler()\n",
    "mm_scaler = MinMaxScaler()"
   ]
  },
  {
   "cell_type": "code",
   "execution_count": 14,
   "id": "da6c2c43-012f-4fee-84d7-eef4a4d1b54f",
   "metadata": {},
   "outputs": [
    {
     "name": "stdout",
     "output_type": "stream",
     "text": [
      "neg_mean_squared_error: -0.003879776567786912\n",
      "neg_root_mean_squared_error: -0.06216058880123937\n",
      "r2: 0.7249161277287101\n"
     ]
    }
   ],
   "source": [
    "dt_model = DecisionTreeRegressor(random_state=42)\n",
    "\n",
    "pipe_dt = make_pipeline(std_scaler, dt_model)\n",
    "\n",
    "# cross-validate the pipeline\n",
    "print(\"neg_mean_squared_error:\", cross_val_score(pipe_dt, X, y, scoring=\"neg_mean_squared_error\").mean())\n",
    "print(\"neg_root_mean_squared_error:\", cross_val_score(pipe_dt, X, y, scoring=\"neg_root_mean_squared_error\").mean())\n",
    "print(\"r2:\", cross_val_score(pipe_dt, X, y, scoring=\"r2\").mean())"
   ]
  },
  {
   "cell_type": "code",
   "execution_count": 15,
   "id": "7ddf9654-5c51-495e-8f73-fbf685aabf2d",
   "metadata": {},
   "outputs": [],
   "source": [
    "# specify parameter values to search\n",
    "params = {}\n",
    "params['decisiontreeregressor__max_depth'] = list(range(1, 15))\n",
    "params['decisiontreeregressor__min_samples_split'] = list(range(10, 60, 10))\n",
    "params['decisiontreeregressor__max_features'] = [\"auto\",\"log2\",\"sqrt\",None]"
   ]
  },
  {
   "cell_type": "code",
   "execution_count": 16,
   "id": "1b4f8011-084f-462c-9a8c-4fd8d40fc515",
   "metadata": {},
   "outputs": [
    {
     "data": {
      "text/plain": [
       "GridSearchCV(cv=5,\n",
       "             estimator=Pipeline(steps=[('standardscaler', StandardScaler()),\n",
       "                                       ('decisiontreeregressor',\n",
       "                                        DecisionTreeRegressor(random_state=42))]),\n",
       "             param_grid={'decisiontreeregressor__max_depth': [1, 2, 3, 4, 5, 6,\n",
       "                                                              7, 8, 9, 10, 11,\n",
       "                                                              12, 13, 14],\n",
       "                         'decisiontreeregressor__max_features': ['auto', 'log2',\n",
       "                                                                 'sqrt', None],\n",
       "                         'decisiontreeregressor__min_samples_split': [10, 20,\n",
       "                                                                      30, 40,\n",
       "                                                                      50]},\n",
       "             scoring='neg_root_mean_squared_error')"
      ]
     },
     "execution_count": 16,
     "metadata": {},
     "output_type": "execute_result"
    }
   ],
   "source": [
    "grid = GridSearchCV(pipe_dt, params, cv=5, scoring=\"neg_root_mean_squared_error\")\n",
    "grid.fit(X, y)"
   ]
  },
  {
   "cell_type": "code",
   "execution_count": 17,
   "id": "518bdbf1-70ca-44e0-a484-c36f356e0004",
   "metadata": {},
   "outputs": [
    {
     "name": "stdout",
     "output_type": "stream",
     "text": [
      "-0.05569275381498059\n",
      "{'decisiontreeregressor__max_depth': 11, 'decisiontreeregressor__max_features': 'auto', 'decisiontreeregressor__min_samples_split': 20}\n",
      "Pipeline(steps=[('standardscaler', StandardScaler()),\n",
      "                ('decisiontreeregressor',\n",
      "                 DecisionTreeRegressor(max_depth=11, max_features='auto',\n",
      "                                       min_samples_split=20,\n",
      "                                       random_state=42))])\n",
      "r2: 0.777468548256491\n"
     ]
    }
   ],
   "source": [
    "print(grid.best_score_)\n",
    "print(grid.best_params_)\n",
    "print(grid.best_estimator_)\n",
    "print(\"r2:\", cross_val_score(grid.best_estimator_, X, y, scoring=\"r2\").mean())"
   ]
  },
  {
   "cell_type": "code",
   "execution_count": 18,
   "id": "378f247d-935e-4870-bf9b-25267f4f501a",
   "metadata": {},
   "outputs": [
    {
     "data": {
      "text/plain": [
       "array([0.  , 0.  , 0.  , 0.  , 0.  , 0.  , 0.  , 0.03, 0.01, 0.01, 0.03, 0.05, 0.  , 0.08, 0.  , 0.77])"
      ]
     },
     "execution_count": 18,
     "metadata": {},
     "output_type": "execute_result"
    }
   ],
   "source": [
    "imp_dt = grid.best_estimator_.steps[1][1].feature_importances_\n",
    "imp_dt"
   ]
  },
  {
   "cell_type": "code",
   "execution_count": 19,
   "id": "0feb45fd-4013-4fdf-9885-92b7e2c4bc50",
   "metadata": {},
   "outputs": [],
   "source": [
    "#pipe_dt.fit(X, y)\n",
    "#\n",
    "#imp_dt = pipe_dt.steps[1][1].feature_importances_\n",
    "#imp_dt"
   ]
  },
  {
   "cell_type": "code",
   "execution_count": 20,
   "id": "6d54181a-4d03-4629-ae86-60367b5322c2",
   "metadata": {},
   "outputs": [
    {
     "data": {
      "text/html": [
       "<div><div id=483dae15-20cd-4012-9e0c-74908280206e style=\"display:none; background-color:#9D6CFF; color:white; width:200px; height:30px; padding-left:5px; border-radius:4px; flex-direction:row; justify-content:space-around; align-items:center;\" onmouseover=\"this.style.backgroundColor='#BA9BF8'\" onmouseout=\"this.style.backgroundColor='#9D6CFF'\" onclick=\"window.commands?.execute('create-mitosheet-from-dataframe-output');\">See Full Dataframe in Mito</div> <script> if (window.commands.hasCommand('create-mitosheet-from-dataframe-output')) document.getElementById('483dae15-20cd-4012-9e0c-74908280206e').style.display = 'flex' </script> <table border=\"1\" class=\"dataframe\">\n",
       "  <thead>\n",
       "    <tr style=\"text-align: right;\">\n",
       "      <th></th>\n",
       "      <th>Feature Name</th>\n",
       "      <th>Importance</th>\n",
       "    </tr>\n",
       "  </thead>\n",
       "  <tbody>\n",
       "    <tr>\n",
       "      <th>15</th>\n",
       "      <td>Output 1</td>\n",
       "      <td>0.772638</td>\n",
       "    </tr>\n",
       "    <tr>\n",
       "      <th>13</th>\n",
       "      <td>Input 14</td>\n",
       "      <td>0.083256</td>\n",
       "    </tr>\n",
       "    <tr>\n",
       "      <th>11</th>\n",
       "      <td>Input 12</td>\n",
       "      <td>0.045409</td>\n",
       "    </tr>\n",
       "    <tr>\n",
       "      <th>10</th>\n",
       "      <td>Input 11</td>\n",
       "      <td>0.033443</td>\n",
       "    </tr>\n",
       "    <tr>\n",
       "      <th>7</th>\n",
       "      <td>Input 8</td>\n",
       "      <td>0.031738</td>\n",
       "    </tr>\n",
       "    <tr>\n",
       "      <th>...</th>\n",
       "      <td>...</td>\n",
       "      <td>...</td>\n",
       "    </tr>\n",
       "    <tr>\n",
       "      <th>0</th>\n",
       "      <td>Input 1</td>\n",
       "      <td>0.001681</td>\n",
       "    </tr>\n",
       "    <tr>\n",
       "      <th>3</th>\n",
       "      <td>Input 4</td>\n",
       "      <td>0.001567</td>\n",
       "    </tr>\n",
       "    <tr>\n",
       "      <th>5</th>\n",
       "      <td>Input 6</td>\n",
       "      <td>0.001298</td>\n",
       "    </tr>\n",
       "    <tr>\n",
       "      <th>12</th>\n",
       "      <td>Input 13</td>\n",
       "      <td>0.000812</td>\n",
       "    </tr>\n",
       "    <tr>\n",
       "      <th>2</th>\n",
       "      <td>Input 3</td>\n",
       "      <td>0.000000</td>\n",
       "    </tr>\n",
       "  </tbody>\n",
       "</table></div>"
      ],
      "text/plain": [
       "   Feature Name  Importance\n",
       "15     Output 1    0.772638\n",
       "13     Input 14    0.083256\n",
       "11     Input 12    0.045409\n",
       "10     Input 11    0.033443\n",
       "7       Input 8    0.031738\n",
       "8       Input 9    0.009814\n",
       "9      Input 10    0.007694\n",
       "4       Input 5    0.003696\n",
       "1       Input 2    0.002985\n",
       "14     Input 15    0.002025\n",
       "6       Input 7    0.001945\n",
       "0       Input 1    0.001681\n",
       "3       Input 4    0.001567\n",
       "5       Input 6    0.001298\n",
       "12     Input 13    0.000812\n",
       "2       Input 3    0.000000"
      ]
     },
     "execution_count": 20,
     "metadata": {},
     "output_type": "execute_result"
    }
   ],
   "source": [
    "df_dt = pd.DataFrame({\"Feature Name\":X.columns, \"Importance\": imp_dt}).sort_values(\"Importance\", ascending=False)\n",
    "df_dt"
   ]
  },
  {
   "cell_type": "code",
   "execution_count": 21,
   "id": "09bbd762-a148-4570-942b-180443644bc6",
   "metadata": {},
   "outputs": [],
   "source": [
    "input_imp = list(df_dt.loc[df_dt[\"Feature Name\"].str.contains(\"Input\"), \"Feature Name\"].values)\n",
    "results.append((grid.best_estimator_.steps[1][0], input_imp,\n",
    "                {\"r2\" : cross_val_score(grid.best_estimator_, X, y, scoring=\"r2\").mean(),\n",
    "                \"neg_root_mean_squared_error\": grid.best_score_}))"
   ]
  },
  {
   "cell_type": "code",
   "execution_count": 22,
   "id": "c94946db-887d-45ce-82df-15fafa3d42b1",
   "metadata": {},
   "outputs": [
    {
     "data": {
      "application/vnd.plotly.v1+json": {
       "config": {
        "plotlyServerURL": "https://plot.ly"
       },
       "data": [
        {
         "alignmentgroup": "True",
         "hovertemplate": "Importance=%{x}<br>Feature Name=%{y}<extra></extra>",
         "legendgroup": "",
         "marker": {
          "color": "#636efa",
          "pattern": {
           "shape": ""
          }
         },
         "name": "",
         "offsetgroup": "",
         "orientation": "h",
         "showlegend": false,
         "textposition": "auto",
         "type": "bar",
         "x": [
          0.7726377821717488,
          0.0832557914144232,
          0.045409388638855845,
          0.03344281032952824,
          0.03173816391275704,
          0.009814012003501134,
          0.0076938872437502075,
          0.0036958644082023544,
          0.0029852473466137,
          0.0020253946504549293,
          0.0019445008312058544,
          0.001680844391389489,
          0.0015669558527394878,
          0.001297591192482535,
          0.0008117656123470978,
          0
         ],
         "xaxis": "x",
         "y": [
          "Output 1",
          "Input 14",
          "Input 12",
          "Input 11",
          "Input 8",
          "Input 9",
          "Input 10",
          "Input 5",
          "Input 2",
          "Input 15",
          "Input 7",
          "Input 1",
          "Input 4",
          "Input 6",
          "Input 13",
          "Input 3"
         ],
         "yaxis": "y"
        }
       ],
       "layout": {
        "autosize": false,
        "barmode": "relative",
        "height": 500,
        "legend": {
         "tracegroupgap": 0
        },
        "margin": {
         "t": 60
        },
        "template": {
         "data": {
          "bar": [
           {
            "error_x": {
             "color": "#2a3f5f"
            },
            "error_y": {
             "color": "#2a3f5f"
            },
            "marker": {
             "line": {
              "color": "#E5ECF6",
              "width": 0.5
             },
             "pattern": {
              "fillmode": "overlay",
              "size": 10,
              "solidity": 0.2
             }
            },
            "type": "bar"
           }
          ],
          "barpolar": [
           {
            "marker": {
             "line": {
              "color": "#E5ECF6",
              "width": 0.5
             },
             "pattern": {
              "fillmode": "overlay",
              "size": 10,
              "solidity": 0.2
             }
            },
            "type": "barpolar"
           }
          ],
          "carpet": [
           {
            "aaxis": {
             "endlinecolor": "#2a3f5f",
             "gridcolor": "white",
             "linecolor": "white",
             "minorgridcolor": "white",
             "startlinecolor": "#2a3f5f"
            },
            "baxis": {
             "endlinecolor": "#2a3f5f",
             "gridcolor": "white",
             "linecolor": "white",
             "minorgridcolor": "white",
             "startlinecolor": "#2a3f5f"
            },
            "type": "carpet"
           }
          ],
          "choropleth": [
           {
            "colorbar": {
             "outlinewidth": 0,
             "ticks": ""
            },
            "type": "choropleth"
           }
          ],
          "contour": [
           {
            "colorbar": {
             "outlinewidth": 0,
             "ticks": ""
            },
            "colorscale": [
             [
              0,
              "#0d0887"
             ],
             [
              0.1111111111111111,
              "#46039f"
             ],
             [
              0.2222222222222222,
              "#7201a8"
             ],
             [
              0.3333333333333333,
              "#9c179e"
             ],
             [
              0.4444444444444444,
              "#bd3786"
             ],
             [
              0.5555555555555556,
              "#d8576b"
             ],
             [
              0.6666666666666666,
              "#ed7953"
             ],
             [
              0.7777777777777778,
              "#fb9f3a"
             ],
             [
              0.8888888888888888,
              "#fdca26"
             ],
             [
              1,
              "#f0f921"
             ]
            ],
            "type": "contour"
           }
          ],
          "contourcarpet": [
           {
            "colorbar": {
             "outlinewidth": 0,
             "ticks": ""
            },
            "type": "contourcarpet"
           }
          ],
          "heatmap": [
           {
            "colorbar": {
             "outlinewidth": 0,
             "ticks": ""
            },
            "colorscale": [
             [
              0,
              "#0d0887"
             ],
             [
              0.1111111111111111,
              "#46039f"
             ],
             [
              0.2222222222222222,
              "#7201a8"
             ],
             [
              0.3333333333333333,
              "#9c179e"
             ],
             [
              0.4444444444444444,
              "#bd3786"
             ],
             [
              0.5555555555555556,
              "#d8576b"
             ],
             [
              0.6666666666666666,
              "#ed7953"
             ],
             [
              0.7777777777777778,
              "#fb9f3a"
             ],
             [
              0.8888888888888888,
              "#fdca26"
             ],
             [
              1,
              "#f0f921"
             ]
            ],
            "type": "heatmap"
           }
          ],
          "heatmapgl": [
           {
            "colorbar": {
             "outlinewidth": 0,
             "ticks": ""
            },
            "colorscale": [
             [
              0,
              "#0d0887"
             ],
             [
              0.1111111111111111,
              "#46039f"
             ],
             [
              0.2222222222222222,
              "#7201a8"
             ],
             [
              0.3333333333333333,
              "#9c179e"
             ],
             [
              0.4444444444444444,
              "#bd3786"
             ],
             [
              0.5555555555555556,
              "#d8576b"
             ],
             [
              0.6666666666666666,
              "#ed7953"
             ],
             [
              0.7777777777777778,
              "#fb9f3a"
             ],
             [
              0.8888888888888888,
              "#fdca26"
             ],
             [
              1,
              "#f0f921"
             ]
            ],
            "type": "heatmapgl"
           }
          ],
          "histogram": [
           {
            "marker": {
             "pattern": {
              "fillmode": "overlay",
              "size": 10,
              "solidity": 0.2
             }
            },
            "type": "histogram"
           }
          ],
          "histogram2d": [
           {
            "colorbar": {
             "outlinewidth": 0,
             "ticks": ""
            },
            "colorscale": [
             [
              0,
              "#0d0887"
             ],
             [
              0.1111111111111111,
              "#46039f"
             ],
             [
              0.2222222222222222,
              "#7201a8"
             ],
             [
              0.3333333333333333,
              "#9c179e"
             ],
             [
              0.4444444444444444,
              "#bd3786"
             ],
             [
              0.5555555555555556,
              "#d8576b"
             ],
             [
              0.6666666666666666,
              "#ed7953"
             ],
             [
              0.7777777777777778,
              "#fb9f3a"
             ],
             [
              0.8888888888888888,
              "#fdca26"
             ],
             [
              1,
              "#f0f921"
             ]
            ],
            "type": "histogram2d"
           }
          ],
          "histogram2dcontour": [
           {
            "colorbar": {
             "outlinewidth": 0,
             "ticks": ""
            },
            "colorscale": [
             [
              0,
              "#0d0887"
             ],
             [
              0.1111111111111111,
              "#46039f"
             ],
             [
              0.2222222222222222,
              "#7201a8"
             ],
             [
              0.3333333333333333,
              "#9c179e"
             ],
             [
              0.4444444444444444,
              "#bd3786"
             ],
             [
              0.5555555555555556,
              "#d8576b"
             ],
             [
              0.6666666666666666,
              "#ed7953"
             ],
             [
              0.7777777777777778,
              "#fb9f3a"
             ],
             [
              0.8888888888888888,
              "#fdca26"
             ],
             [
              1,
              "#f0f921"
             ]
            ],
            "type": "histogram2dcontour"
           }
          ],
          "mesh3d": [
           {
            "colorbar": {
             "outlinewidth": 0,
             "ticks": ""
            },
            "type": "mesh3d"
           }
          ],
          "parcoords": [
           {
            "line": {
             "colorbar": {
              "outlinewidth": 0,
              "ticks": ""
             }
            },
            "type": "parcoords"
           }
          ],
          "pie": [
           {
            "automargin": true,
            "type": "pie"
           }
          ],
          "scatter": [
           {
            "marker": {
             "colorbar": {
              "outlinewidth": 0,
              "ticks": ""
             }
            },
            "type": "scatter"
           }
          ],
          "scatter3d": [
           {
            "line": {
             "colorbar": {
              "outlinewidth": 0,
              "ticks": ""
             }
            },
            "marker": {
             "colorbar": {
              "outlinewidth": 0,
              "ticks": ""
             }
            },
            "type": "scatter3d"
           }
          ],
          "scattercarpet": [
           {
            "marker": {
             "colorbar": {
              "outlinewidth": 0,
              "ticks": ""
             }
            },
            "type": "scattercarpet"
           }
          ],
          "scattergeo": [
           {
            "marker": {
             "colorbar": {
              "outlinewidth": 0,
              "ticks": ""
             }
            },
            "type": "scattergeo"
           }
          ],
          "scattergl": [
           {
            "marker": {
             "colorbar": {
              "outlinewidth": 0,
              "ticks": ""
             }
            },
            "type": "scattergl"
           }
          ],
          "scattermapbox": [
           {
            "marker": {
             "colorbar": {
              "outlinewidth": 0,
              "ticks": ""
             }
            },
            "type": "scattermapbox"
           }
          ],
          "scatterpolar": [
           {
            "marker": {
             "colorbar": {
              "outlinewidth": 0,
              "ticks": ""
             }
            },
            "type": "scatterpolar"
           }
          ],
          "scatterpolargl": [
           {
            "marker": {
             "colorbar": {
              "outlinewidth": 0,
              "ticks": ""
             }
            },
            "type": "scatterpolargl"
           }
          ],
          "scatterternary": [
           {
            "marker": {
             "colorbar": {
              "outlinewidth": 0,
              "ticks": ""
             }
            },
            "type": "scatterternary"
           }
          ],
          "surface": [
           {
            "colorbar": {
             "outlinewidth": 0,
             "ticks": ""
            },
            "colorscale": [
             [
              0,
              "#0d0887"
             ],
             [
              0.1111111111111111,
              "#46039f"
             ],
             [
              0.2222222222222222,
              "#7201a8"
             ],
             [
              0.3333333333333333,
              "#9c179e"
             ],
             [
              0.4444444444444444,
              "#bd3786"
             ],
             [
              0.5555555555555556,
              "#d8576b"
             ],
             [
              0.6666666666666666,
              "#ed7953"
             ],
             [
              0.7777777777777778,
              "#fb9f3a"
             ],
             [
              0.8888888888888888,
              "#fdca26"
             ],
             [
              1,
              "#f0f921"
             ]
            ],
            "type": "surface"
           }
          ],
          "table": [
           {
            "cells": {
             "fill": {
              "color": "#EBF0F8"
             },
             "line": {
              "color": "white"
             }
            },
            "header": {
             "fill": {
              "color": "#C8D4E3"
             },
             "line": {
              "color": "white"
             }
            },
            "type": "table"
           }
          ]
         },
         "layout": {
          "annotationdefaults": {
           "arrowcolor": "#2a3f5f",
           "arrowhead": 0,
           "arrowwidth": 1
          },
          "autotypenumbers": "strict",
          "coloraxis": {
           "colorbar": {
            "outlinewidth": 0,
            "ticks": ""
           }
          },
          "colorscale": {
           "diverging": [
            [
             0,
             "#8e0152"
            ],
            [
             0.1,
             "#c51b7d"
            ],
            [
             0.2,
             "#de77ae"
            ],
            [
             0.3,
             "#f1b6da"
            ],
            [
             0.4,
             "#fde0ef"
            ],
            [
             0.5,
             "#f7f7f7"
            ],
            [
             0.6,
             "#e6f5d0"
            ],
            [
             0.7,
             "#b8e186"
            ],
            [
             0.8,
             "#7fbc41"
            ],
            [
             0.9,
             "#4d9221"
            ],
            [
             1,
             "#276419"
            ]
           ],
           "sequential": [
            [
             0,
             "#0d0887"
            ],
            [
             0.1111111111111111,
             "#46039f"
            ],
            [
             0.2222222222222222,
             "#7201a8"
            ],
            [
             0.3333333333333333,
             "#9c179e"
            ],
            [
             0.4444444444444444,
             "#bd3786"
            ],
            [
             0.5555555555555556,
             "#d8576b"
            ],
            [
             0.6666666666666666,
             "#ed7953"
            ],
            [
             0.7777777777777778,
             "#fb9f3a"
            ],
            [
             0.8888888888888888,
             "#fdca26"
            ],
            [
             1,
             "#f0f921"
            ]
           ],
           "sequentialminus": [
            [
             0,
             "#0d0887"
            ],
            [
             0.1111111111111111,
             "#46039f"
            ],
            [
             0.2222222222222222,
             "#7201a8"
            ],
            [
             0.3333333333333333,
             "#9c179e"
            ],
            [
             0.4444444444444444,
             "#bd3786"
            ],
            [
             0.5555555555555556,
             "#d8576b"
            ],
            [
             0.6666666666666666,
             "#ed7953"
            ],
            [
             0.7777777777777778,
             "#fb9f3a"
            ],
            [
             0.8888888888888888,
             "#fdca26"
            ],
            [
             1,
             "#f0f921"
            ]
           ]
          },
          "colorway": [
           "#636efa",
           "#EF553B",
           "#00cc96",
           "#ab63fa",
           "#FFA15A",
           "#19d3f3",
           "#FF6692",
           "#B6E880",
           "#FF97FF",
           "#FECB52"
          ],
          "font": {
           "color": "#2a3f5f"
          },
          "geo": {
           "bgcolor": "white",
           "lakecolor": "white",
           "landcolor": "#E5ECF6",
           "showlakes": true,
           "showland": true,
           "subunitcolor": "white"
          },
          "hoverlabel": {
           "align": "left"
          },
          "hovermode": "closest",
          "mapbox": {
           "style": "light"
          },
          "paper_bgcolor": "white",
          "plot_bgcolor": "#E5ECF6",
          "polar": {
           "angularaxis": {
            "gridcolor": "white",
            "linecolor": "white",
            "ticks": ""
           },
           "bgcolor": "#E5ECF6",
           "radialaxis": {
            "gridcolor": "white",
            "linecolor": "white",
            "ticks": ""
           }
          },
          "scene": {
           "xaxis": {
            "backgroundcolor": "#E5ECF6",
            "gridcolor": "white",
            "gridwidth": 2,
            "linecolor": "white",
            "showbackground": true,
            "ticks": "",
            "zerolinecolor": "white"
           },
           "yaxis": {
            "backgroundcolor": "#E5ECF6",
            "gridcolor": "white",
            "gridwidth": 2,
            "linecolor": "white",
            "showbackground": true,
            "ticks": "",
            "zerolinecolor": "white"
           },
           "zaxis": {
            "backgroundcolor": "#E5ECF6",
            "gridcolor": "white",
            "gridwidth": 2,
            "linecolor": "white",
            "showbackground": true,
            "ticks": "",
            "zerolinecolor": "white"
           }
          },
          "shapedefaults": {
           "line": {
            "color": "#2a3f5f"
           }
          },
          "ternary": {
           "aaxis": {
            "gridcolor": "white",
            "linecolor": "white",
            "ticks": ""
           },
           "baxis": {
            "gridcolor": "white",
            "linecolor": "white",
            "ticks": ""
           },
           "bgcolor": "#E5ECF6",
           "caxis": {
            "gridcolor": "white",
            "linecolor": "white",
            "ticks": ""
           }
          },
          "title": {
           "x": 0.05
          },
          "xaxis": {
           "automargin": true,
           "gridcolor": "white",
           "linecolor": "white",
           "ticks": "",
           "title": {
            "standoff": 15
           },
           "zerolinecolor": "white",
           "zerolinewidth": 2
          },
          "yaxis": {
           "automargin": true,
           "gridcolor": "white",
           "linecolor": "white",
           "ticks": "",
           "title": {
            "standoff": 15
           },
           "zerolinecolor": "white",
           "zerolinewidth": 2
          }
         }
        },
        "title": {
         "text": "DecisionTreeRegressor Feature Importances"
        },
        "width": 800,
        "xaxis": {
         "anchor": "y",
         "autorange": true,
         "domain": [
          0,
          1
         ],
         "range": [
          0,
          0.8133029286018408
         ],
         "title": {
          "text": "Importance"
         },
         "type": "linear"
        },
        "yaxis": {
         "anchor": "x",
         "autorange": true,
         "categoryorder": "total ascending",
         "domain": [
          0,
          1
         ],
         "range": [
          -0.5,
          15.5
         ],
         "title": {
          "text": "Feature Name"
         },
         "type": "category"
        }
       }
      },
      "image/png": "[encoded data removed]",
      "text/html": [
       "<div>                            <div id=\"6b030a0d-051b-4fb5-b113-bfb3aea3c9e7\" class=\"plotly-graph-div\" style=\"height:500px; width:800px;\"></div>            <script type=\"text/javascript\">                require([\"plotly\"], function(Plotly) {                    window.PLOTLYENV=window.PLOTLYENV || {};                                    if (document.getElementById(\"6b030a0d-051b-4fb5-b113-bfb3aea3c9e7\")) {                    Plotly.newPlot(                        \"6b030a0d-051b-4fb5-b113-bfb3aea3c9e7\",                        [{\"alignmentgroup\":\"True\",\"hovertemplate\":\"Importance=%{x}<br>Feature Name=%{y}<extra></extra>\",\"legendgroup\":\"\",\"marker\":{\"color\":\"#636efa\",\"pattern\":{\"shape\":\"\"}},\"name\":\"\",\"offsetgroup\":\"\",\"orientation\":\"h\",\"showlegend\":false,\"textposition\":\"auto\",\"type\":\"bar\",\"x\":[0.7726377821717488,0.0832557914144232,0.045409388638855845,0.03344281032952824,0.03173816391275704,0.009814012003501134,0.0076938872437502075,0.0036958644082023544,0.0029852473466137,0.0020253946504549293,0.0019445008312058544,0.001680844391389489,0.0015669558527394878,0.001297591192482535,0.0008117656123470978,0.0],\"xaxis\":\"x\",\"y\":[\"Output 1\",\"Input 14\",\"Input 12\",\"Input 11\",\"Input 8\",\"Input 9\",\"Input 10\",\"Input 5\",\"Input 2\",\"Input 15\",\"Input 7\",\"Input 1\",\"Input 4\",\"Input 6\",\"Input 13\",\"Input 3\"],\"yaxis\":\"y\"}],                        {\"autosize\":false,\"barmode\":\"relative\",\"height\":500,\"legend\":{\"tracegroupgap\":0},\"margin\":{\"t\":60},\"template\":{\"data\":{\"bar\":[{\"error_x\":{\"color\":\"#2a3f5f\"},\"error_y\":{\"color\":\"#2a3f5f\"},\"marker\":{\"line\":{\"color\":\"#E5ECF6\",\"width\":0.5},\"pattern\":{\"fillmode\":\"overlay\",\"size\":10,\"solidity\":0.2}},\"type\":\"bar\"}],\"barpolar\":[{\"marker\":{\"line\":{\"color\":\"#E5ECF6\",\"width\":0.5},\"pattern\":{\"fillmode\":\"overlay\",\"size\":10,\"solidity\":0.2}},\"type\":\"barpolar\"}],\"carpet\":[{\"aaxis\":{\"endlinecolor\":\"#2a3f5f\",\"gridcolor\":\"white\",\"linecolor\":\"white\",\"minorgridcolor\":\"white\",\"startlinecolor\":\"#2a3f5f\"},\"baxis\":{\"endlinecolor\":\"#2a3f5f\",\"gridcolor\":\"white\",\"linecolor\":\"white\",\"minorgridcolor\":\"white\",\"startlinecolor\":\"#2a3f5f\"},\"type\":\"carpet\"}],\"choropleth\":[{\"colorbar\":{\"outlinewidth\":0,\"ticks\":\"\"},\"type\":\"choropleth\"}],\"contour\":[{\"colorbar\":{\"outlinewidth\":0,\"ticks\":\"\"},\"colorscale\":[[0.0,\"#0d0887\"],[0.1111111111111111,\"#46039f\"],[0.2222222222222222,\"#7201a8\"],[0.3333333333333333,\"#9c179e\"],[0.4444444444444444,\"#bd3786\"],[0.5555555555555556,\"#d8576b\"],[0.6666666666666666,\"#ed7953\"],[0.7777777777777778,\"#fb9f3a\"],[0.8888888888888888,\"#fdca26\"],[1.0,\"#f0f921\"]],\"type\":\"contour\"}],\"contourcarpet\":[{\"colorbar\":{\"outlinewidth\":0,\"ticks\":\"\"},\"type\":\"contourcarpet\"}],\"heatmap\":[{\"colorbar\":{\"outlinewidth\":0,\"ticks\":\"\"},\"colorscale\":[[0.0,\"#0d0887\"],[0.1111111111111111,\"#46039f\"],[0.2222222222222222,\"#7201a8\"],[0.3333333333333333,\"#9c179e\"],[0.4444444444444444,\"#bd3786\"],[0.5555555555555556,\"#d8576b\"],[0.6666666666666666,\"#ed7953\"],[0.7777777777777778,\"#fb9f3a\"],[0.8888888888888888,\"#fdca26\"],[1.0,\"#f0f921\"]],\"type\":\"heatmap\"}],\"heatmapgl\":[{\"colorbar\":{\"outlinewidth\":0,\"ticks\":\"\"},\"colorscale\":[[0.0,\"#0d0887\"],[0.1111111111111111,\"#46039f\"],[0.2222222222222222,\"#7201a8\"],[0.3333333333333333,\"#9c179e\"],[0.4444444444444444,\"#bd3786\"],[0.5555555555555556,\"#d8576b\"],[0.6666666666666666,\"#ed7953\"],[0.7777777777777778,\"#fb9f3a\"],[0.8888888888888888,\"#fdca26\"],[1.0,\"#f0f921\"]],\"type\":\"heatmapgl\"}],\"histogram\":[{\"marker\":{\"pattern\":{\"fillmode\":\"overlay\",\"size\":10,\"solidity\":0.2}},\"type\":\"histogram\"}],\"histogram2d\":[{\"colorbar\":{\"outlinewidth\":0,\"ticks\":\"\"},\"colorscale\":[[0.0,\"#0d0887\"],[0.1111111111111111,\"#46039f\"],[0.2222222222222222,\"#7201a8\"],[0.3333333333333333,\"#9c179e\"],[0.4444444444444444,\"#bd3786\"],[0.5555555555555556,\"#d8576b\"],[0.6666666666666666,\"#ed7953\"],[0.7777777777777778,\"#fb9f3a\"],[0.8888888888888888,\"#fdca26\"],[1.0,\"#f0f921\"]],\"type\":\"histogram2d\"}],\"histogram2dcontour\":[{\"colorbar\":{\"outlinewidth\":0,\"ticks\":\"\"},\"colorscale\":[[0.0,\"#0d0887\"],[0.1111111111111111,\"#46039f\"],[0.2222222222222222,\"#7201a8\"],[0.3333333333333333,\"#9c179e\"],[0.4444444444444444,\"#bd3786\"],[0.5555555555555556,\"#d8576b\"],[0.6666666666666666,\"#ed7953\"],[0.7777777777777778,\"#fb9f3a\"],[0.8888888888888888,\"#fdca26\"],[1.0,\"#f0f921\"]],\"type\":\"histogram2dcontour\"}],\"mesh3d\":[{\"colorbar\":{\"outlinewidth\":0,\"ticks\":\"\"},\"type\":\"mesh3d\"}],\"parcoords\":[{\"line\":{\"colorbar\":{\"outlinewidth\":0,\"ticks\":\"\"}},\"type\":\"parcoords\"}],\"pie\":[{\"automargin\":true,\"type\":\"pie\"}],\"scatter\":[{\"marker\":{\"colorbar\":{\"outlinewidth\":0,\"ticks\":\"\"}},\"type\":\"scatter\"}],\"scatter3d\":[{\"line\":{\"colorbar\":{\"outlinewidth\":0,\"ticks\":\"\"}},\"marker\":{\"colorbar\":{\"outlinewidth\":0,\"ticks\":\"\"}},\"type\":\"scatter3d\"}],\"scattercarpet\":[{\"marker\":{\"colorbar\":{\"outlinewidth\":0,\"ticks\":\"\"}},\"type\":\"scattercarpet\"}],\"scattergeo\":[{\"marker\":{\"colorbar\":{\"outlinewidth\":0,\"ticks\":\"\"}},\"type\":\"scattergeo\"}],\"scattergl\":[{\"marker\":{\"colorbar\":{\"outlinewidth\":0,\"ticks\":\"\"}},\"type\":\"scattergl\"}],\"scattermapbox\":[{\"marker\":{\"colorbar\":{\"outlinewidth\":0,\"ticks\":\"\"}},\"type\":\"scattermapbox\"}],\"scatterpolar\":[{\"marker\":{\"colorbar\":{\"outlinewidth\":0,\"ticks\":\"\"}},\"type\":\"scatterpolar\"}],\"scatterpolargl\":[{\"marker\":{\"colorbar\":{\"outlinewidth\":0,\"ticks\":\"\"}},\"type\":\"scatterpolargl\"}],\"scatterternary\":[{\"marker\":{\"colorbar\":{\"outlinewidth\":0,\"ticks\":\"\"}},\"type\":\"scatterternary\"}],\"surface\":[{\"colorbar\":{\"outlinewidth\":0,\"ticks\":\"\"},\"colorscale\":[[0.0,\"#0d0887\"],[0.1111111111111111,\"#46039f\"],[0.2222222222222222,\"#7201a8\"],[0.3333333333333333,\"#9c179e\"],[0.4444444444444444,\"#bd3786\"],[0.5555555555555556,\"#d8576b\"],[0.6666666666666666,\"#ed7953\"],[0.7777777777777778,\"#fb9f3a\"],[0.8888888888888888,\"#fdca26\"],[1.0,\"#f0f921\"]],\"type\":\"surface\"}],\"table\":[{\"cells\":{\"fill\":{\"color\":\"#EBF0F8\"},\"line\":{\"color\":\"white\"}},\"header\":{\"fill\":{\"color\":\"#C8D4E3\"},\"line\":{\"color\":\"white\"}},\"type\":\"table\"}]},\"layout\":{\"annotationdefaults\":{\"arrowcolor\":\"#2a3f5f\",\"arrowhead\":0,\"arrowwidth\":1},\"autotypenumbers\":\"strict\",\"coloraxis\":{\"colorbar\":{\"outlinewidth\":0,\"ticks\":\"\"}},\"colorscale\":{\"diverging\":[[0,\"#8e0152\"],[0.1,\"#c51b7d\"],[0.2,\"#de77ae\"],[0.3,\"#f1b6da\"],[0.4,\"#fde0ef\"],[0.5,\"#f7f7f7\"],[0.6,\"#e6f5d0\"],[0.7,\"#b8e186\"],[0.8,\"#7fbc41\"],[0.9,\"#4d9221\"],[1,\"#276419\"]],\"sequential\":[[0.0,\"#0d0887\"],[0.1111111111111111,\"#46039f\"],[0.2222222222222222,\"#7201a8\"],[0.3333333333333333,\"#9c179e\"],[0.4444444444444444,\"#bd3786\"],[0.5555555555555556,\"#d8576b\"],[0.6666666666666666,\"#ed7953\"],[0.7777777777777778,\"#fb9f3a\"],[0.8888888888888888,\"#fdca26\"],[1.0,\"#f0f921\"]],\"sequentialminus\":[[0.0,\"#0d0887\"],[0.1111111111111111,\"#46039f\"],[0.2222222222222222,\"#7201a8\"],[0.3333333333333333,\"#9c179e\"],[0.4444444444444444,\"#bd3786\"],[0.5555555555555556,\"#d8576b\"],[0.6666666666666666,\"#ed7953\"],[0.7777777777777778,\"#fb9f3a\"],[0.8888888888888888,\"#fdca26\"],[1.0,\"#f0f921\"]]},\"colorway\":[\"#636efa\",\"#EF553B\",\"#00cc96\",\"#ab63fa\",\"#FFA15A\",\"#19d3f3\",\"#FF6692\",\"#B6E880\",\"#FF97FF\",\"#FECB52\"],\"font\":{\"color\":\"#2a3f5f\"},\"geo\":{\"bgcolor\":\"white\",\"lakecolor\":\"white\",\"landcolor\":\"#E5ECF6\",\"showlakes\":true,\"showland\":true,\"subunitcolor\":\"white\"},\"hoverlabel\":{\"align\":\"left\"},\"hovermode\":\"closest\",\"mapbox\":{\"style\":\"light\"},\"paper_bgcolor\":\"white\",\"plot_bgcolor\":\"#E5ECF6\",\"polar\":{\"angularaxis\":{\"gridcolor\":\"white\",\"linecolor\":\"white\",\"ticks\":\"\"},\"bgcolor\":\"#E5ECF6\",\"radialaxis\":{\"gridcolor\":\"white\",\"linecolor\":\"white\",\"ticks\":\"\"}},\"scene\":{\"xaxis\":{\"backgroundcolor\":\"#E5ECF6\",\"gridcolor\":\"white\",\"gridwidth\":2,\"linecolor\":\"white\",\"showbackground\":true,\"ticks\":\"\",\"zerolinecolor\":\"white\"},\"yaxis\":{\"backgroundcolor\":\"#E5ECF6\",\"gridcolor\":\"white\",\"gridwidth\":2,\"linecolor\":\"white\",\"showbackground\":true,\"ticks\":\"\",\"zerolinecolor\":\"white\"},\"zaxis\":{\"backgroundcolor\":\"#E5ECF6\",\"gridcolor\":\"white\",\"gridwidth\":2,\"linecolor\":\"white\",\"showbackground\":true,\"ticks\":\"\",\"zerolinecolor\":\"white\"}},\"shapedefaults\":{\"line\":{\"color\":\"#2a3f5f\"}},\"ternary\":{\"aaxis\":{\"gridcolor\":\"white\",\"linecolor\":\"white\",\"ticks\":\"\"},\"baxis\":{\"gridcolor\":\"white\",\"linecolor\":\"white\",\"ticks\":\"\"},\"bgcolor\":\"#E5ECF6\",\"caxis\":{\"gridcolor\":\"white\",\"linecolor\":\"white\",\"ticks\":\"\"}},\"title\":{\"x\":0.05},\"xaxis\":{\"automargin\":true,\"gridcolor\":\"white\",\"linecolor\":\"white\",\"ticks\":\"\",\"title\":{\"standoff\":15},\"zerolinecolor\":\"white\",\"zerolinewidth\":2},\"yaxis\":{\"automargin\":true,\"gridcolor\":\"white\",\"linecolor\":\"white\",\"ticks\":\"\",\"title\":{\"standoff\":15},\"zerolinecolor\":\"white\",\"zerolinewidth\":2}}},\"title\":{\"text\":\"DecisionTreeRegressor Feature Importances\"},\"width\":800,\"xaxis\":{\"anchor\":\"y\",\"domain\":[0.0,1.0],\"title\":{\"text\":\"Importance\"}},\"yaxis\":{\"anchor\":\"x\",\"categoryorder\":\"total ascending\",\"domain\":[0.0,1.0],\"title\":{\"text\":\"Feature Name\"}}},                        {\"responsive\": true}                    ).then(function(){\n",
       "                            \n",
       "var gd = document.getElementById('6b030a0d-051b-4fb5-b113-bfb3aea3c9e7');\n",
       "var x = new MutationObserver(function (mutations, observer) {{\n",
       "        var display = window.getComputedStyle(gd).display;\n",
       "        if (!display || display === 'none') {{\n",
       "            console.log([gd, 'removed!']);\n",
       "            Plotly.purge(gd);\n",
       "            observer.disconnect();\n",
       "        }}\n",
       "}});\n",
       "\n",
       "// Listen for the removal of the full notebook cells\n",
       "var notebookContainer = gd.closest('#notebook-container');\n",
       "if (notebookContainer) {{\n",
       "    x.observe(notebookContainer, {childList: true});\n",
       "}}\n",
       "\n",
       "// Listen for the clearing of the current output cell\n",
       "var outputEl = gd.closest('.output');\n",
       "if (outputEl) {{\n",
       "    x.observe(outputEl, {childList: true});\n",
       "}}\n",
       "\n",
       "                        })                };                });            </script>        </div>"
      ]
     },
     "metadata": {},
     "output_type": "display_data"
    }
   ],
   "source": [
    "fig = px.bar(df_dt, x=\"Importance\", y=\"Feature Name\")\n",
    "\n",
    "fig.update_layout(\n",
    "    autosize=False,\n",
    "    width=800,\n",
    "    height=500,\n",
    "    title_text=f\"DecisionTreeRegressor Feature Importances\",\n",
    "    yaxis={'categoryorder':'total ascending'}\n",
    ")\n",
    "\n",
    "fig.show()"
   ]
  },
  {
   "cell_type": "code",
   "execution_count": 23,
   "id": "8265e4a5-ceda-475d-aa22-4238222d08fb",
   "metadata": {},
   "outputs": [
    {
     "name": "stdout",
     "output_type": "stream",
     "text": [
      "neg_mean_squared_error: -0.0017861698126696239\n",
      "neg_root_mean_squared_error: -0.042087615550590124\n",
      "r2: 0.8732397654825557\n"
     ]
    }
   ],
   "source": [
    "rf_model = RandomForestRegressor(random_state=42)\n",
    "\n",
    "pipe_rf = make_pipeline(std_scaler, rf_model)\n",
    "\n",
    "\n",
    "# cross-validate the pipeline\n",
    "print(\"neg_mean_squared_error:\", cross_val_score(pipe_rf, X, y.values.ravel(), scoring=\"neg_mean_squared_error\").mean())\n",
    "print(\"neg_root_mean_squared_error:\", cross_val_score(pipe_rf, X, y.values.ravel(), scoring=\"neg_root_mean_squared_error\").mean())\n",
    "print(\"r2:\", cross_val_score(pipe_rf, X, y.values.ravel(), scoring=\"r2\").mean())"
   ]
  },
  {
   "cell_type": "code",
   "execution_count": 24,
   "id": "818d0e62-3f40-4d93-9340-34bcb1c6d647",
   "metadata": {},
   "outputs": [
    {
     "name": "stdout",
     "output_type": "stream",
     "text": [
      "[200, 400, 600, 800, 1000, 1200, 1400, 1600, 1800, 2000]\n",
      "[10, 20, 30, 40, 50, 60, 70, 80, 90, 100]\n"
     ]
    }
   ],
   "source": [
    "# Number of trees in random forest\n",
    "n_estimators = [int(x) for x in np.linspace(start = 200, stop = 2000, num = 10)]\n",
    "print(n_estimators)\n",
    "# Number of features to consider at every split\n",
    "max_features = ['auto', 'sqrt']\n",
    "# Maximum number of levels in tree\n",
    "max_depth = [int(x) for x in np.linspace(10, 100, num = 10)]\n",
    "print(max_depth)\n",
    "max_depth.append(None)\n",
    "# Minimum number of samples required to split a node\n",
    "min_samples_split = [2, 5, 10]\n",
    "# Minimum number of samples required at each leaf node\n",
    "min_samples_leaf = [1, 2, 4]\n",
    "# Method of selecting samples for training each tree\n",
    "bootstrap = [True, False]\n",
    "# Create the random grid"
   ]
  },
  {
   "cell_type": "code",
   "execution_count": 25,
   "id": "c801db8d-1dd0-4e98-9544-b03f5e1a963d",
   "metadata": {},
   "outputs": [],
   "source": [
    "# specify parameter values to search\n",
    "params = {}\n",
    "params['randomforestregressor__n_estimators'] = n_estimators\n",
    "params['randomforestregressor__max_features'] = max_features\n",
    "params['randomforestregressor__max_depth'] = max_depth\n",
    "params['randomforestregressor__min_samples_split'] = min_samples_split\n",
    "params['randomforestregressor__min_samples_leaf'] = min_samples_leaf\n",
    "params['randomforestregressor__bootstrap'] = bootstrap"
   ]
  },
  {
   "cell_type": "code",
   "execution_count": 26,
   "id": "2c8fc000-546a-40a4-8c7c-0e7c29db2eb5",
   "metadata": {},
   "outputs": [
    {
     "data": {
      "text/plain": [
       "RandomizedSearchCV(cv=5,\n",
       "                   estimator=Pipeline(steps=[('standardscaler',\n",
       "                                              StandardScaler()),\n",
       "                                             ('randomforestregressor',\n",
       "                                              RandomForestRegressor(random_state=42))]),\n",
       "                   param_distributions={'randomforestregressor__bootstrap': [True,\n",
       "                                                                             False],\n",
       "                                        'randomforestregressor__max_depth': [10,\n",
       "                                                                             20,\n",
       "                                                                             30,\n",
       "                                                                             40,\n",
       "                                                                             50,\n",
       "                                                                             60,\n",
       "                                                                             70,\n",
       "                                                                             80,\n",
       "                                                                             90,\n",
       "                                                                             100,\n",
       "                                                                             None],\n",
       "                                        'randomforestregressor__max_features': ['auto',\n",
       "                                                                                'sqrt'],\n",
       "                                        'randomforestregressor__min_samples_leaf': [1,\n",
       "                                                                                    2,\n",
       "                                                                                    4],\n",
       "                                        'randomforestregressor__min_samples_split': [2,\n",
       "                                                                                     5,\n",
       "                                                                                     10],\n",
       "                                        'randomforestregressor__n_estimators': [200,\n",
       "                                                                                400,\n",
       "                                                                                600,\n",
       "                                                                                800,\n",
       "                                                                                1000,\n",
       "                                                                                1200,\n",
       "                                                                                1400,\n",
       "                                                                                1600,\n",
       "                                                                                1800,\n",
       "                                                                                2000]},\n",
       "                   scoring='neg_root_mean_squared_error')"
      ]
     },
     "execution_count": 26,
     "metadata": {},
     "output_type": "execute_result"
    }
   ],
   "source": [
    "grid = RandomizedSearchCV(pipe_rf, params, cv=5, scoring=\"neg_root_mean_squared_error\")\n",
    "grid.fit(X, y.values.ravel())"
   ]
  },
  {
   "cell_type": "code",
   "execution_count": 27,
   "id": "d4a0d536-82f2-4466-900e-9b7de51ecbd9",
   "metadata": {},
   "outputs": [
    {
     "name": "stdout",
     "output_type": "stream",
     "text": [
      "-0.042942477891797594\n",
      "{'randomforestregressor__n_estimators': 2000, 'randomforestregressor__min_samples_split': 2, 'randomforestregressor__min_samples_leaf': 4, 'randomforestregressor__max_features': 'auto', 'randomforestregressor__max_depth': None, 'randomforestregressor__bootstrap': True}\n",
      "Pipeline(steps=[('standardscaler', StandardScaler()),\n",
      "                ('randomforestregressor',\n",
      "                 RandomForestRegressor(min_samples_leaf=4, n_estimators=2000,\n",
      "                                       random_state=42))])\n",
      "r2: 0.8677725308029529\n"
     ]
    }
   ],
   "source": [
    "print(grid.best_score_)\n",
    "print(grid.best_params_)\n",
    "print(grid.best_estimator_)\n",
    "print(\"r2:\", cross_val_score(grid.best_estimator_, X, y.values.ravel(), scoring=\"r2\").mean())"
   ]
  },
  {
   "cell_type": "code",
   "execution_count": 28,
   "id": "aba72b12-2e9e-454e-9a63-9785a9398615",
   "metadata": {},
   "outputs": [
    {
     "data": {
      "text/plain": [
       "array([0.  , 0.01, 0.  , 0.  , 0.01, 0.  , 0.  , 0.03, 0.01, 0.01, 0.05, 0.03, 0.  , 0.08, 0.  , 0.76])"
      ]
     },
     "execution_count": 28,
     "metadata": {},
     "output_type": "execute_result"
    }
   ],
   "source": [
    "imp_rf = grid.best_estimator_.steps[1][1].feature_importances_\n",
    "imp_rf"
   ]
  },
  {
   "cell_type": "code",
   "execution_count": 29,
   "id": "adcd031d-cf08-44aa-98a8-5155dc1edd31",
   "metadata": {},
   "outputs": [],
   "source": [
    "#pipe_rf.fit(X, y.values.ravel())\n",
    "#\n",
    "#imp_rf = pipe_rf.steps[1][1].feature_importances_"
   ]
  },
  {
   "cell_type": "code",
   "execution_count": 30,
   "id": "6d175d3d-d50f-463c-8b9d-1ccd403ae5b5",
   "metadata": {},
   "outputs": [
    {
     "data": {
      "text/html": [
       "<div><div id=50d92fd9-a51a-45c0-a778-c48ee9ced0b0 style=\"display:none; background-color:#9D6CFF; color:white; width:200px; height:30px; padding-left:5px; border-radius:4px; flex-direction:row; justify-content:space-around; align-items:center;\" onmouseover=\"this.style.backgroundColor='#BA9BF8'\" onmouseout=\"this.style.backgroundColor='#9D6CFF'\" onclick=\"window.commands?.execute('create-mitosheet-from-dataframe-output');\">See Full Dataframe in Mito</div> <script> if (window.commands.hasCommand('create-mitosheet-from-dataframe-output')) document.getElementById('50d92fd9-a51a-45c0-a778-c48ee9ced0b0').style.display = 'flex' </script> <table border=\"1\" class=\"dataframe\">\n",
       "  <thead>\n",
       "    <tr style=\"text-align: right;\">\n",
       "      <th></th>\n",
       "      <th>Feature Name</th>\n",
       "      <th>Importance</th>\n",
       "    </tr>\n",
       "  </thead>\n",
       "  <tbody>\n",
       "    <tr>\n",
       "      <th>15</th>\n",
       "      <td>Output 1</td>\n",
       "      <td>0.758952</td>\n",
       "    </tr>\n",
       "    <tr>\n",
       "      <th>13</th>\n",
       "      <td>Input 14</td>\n",
       "      <td>0.078416</td>\n",
       "    </tr>\n",
       "    <tr>\n",
       "      <th>10</th>\n",
       "      <td>Input 11</td>\n",
       "      <td>0.045150</td>\n",
       "    </tr>\n",
       "    <tr>\n",
       "      <th>11</th>\n",
       "      <td>Input 12</td>\n",
       "      <td>0.033504</td>\n",
       "    </tr>\n",
       "    <tr>\n",
       "      <th>7</th>\n",
       "      <td>Input 8</td>\n",
       "      <td>0.031238</td>\n",
       "    </tr>\n",
       "    <tr>\n",
       "      <th>...</th>\n",
       "      <td>...</td>\n",
       "      <td>...</td>\n",
       "    </tr>\n",
       "    <tr>\n",
       "      <th>5</th>\n",
       "      <td>Input 6</td>\n",
       "      <td>0.003853</td>\n",
       "    </tr>\n",
       "    <tr>\n",
       "      <th>0</th>\n",
       "      <td>Input 1</td>\n",
       "      <td>0.003729</td>\n",
       "    </tr>\n",
       "    <tr>\n",
       "      <th>14</th>\n",
       "      <td>Input 15</td>\n",
       "      <td>0.003643</td>\n",
       "    </tr>\n",
       "    <tr>\n",
       "      <th>6</th>\n",
       "      <td>Input 7</td>\n",
       "      <td>0.003596</td>\n",
       "    </tr>\n",
       "    <tr>\n",
       "      <th>12</th>\n",
       "      <td>Input 13</td>\n",
       "      <td>0.003327</td>\n",
       "    </tr>\n",
       "  </tbody>\n",
       "</table></div>"
      ],
      "text/plain": [
       "   Feature Name  Importance\n",
       "15     Output 1    0.758952\n",
       "13     Input 14    0.078416\n",
       "10     Input 11    0.045150\n",
       "11     Input 12    0.033504\n",
       "7       Input 8    0.031238\n",
       "9      Input 10    0.008086\n",
       "1       Input 2    0.006461\n",
       "4       Input 5    0.006059\n",
       "8       Input 9    0.005746\n",
       "3       Input 4    0.004330\n",
       "2       Input 3    0.003909\n",
       "5       Input 6    0.003853\n",
       "0       Input 1    0.003729\n",
       "14     Input 15    0.003643\n",
       "6       Input 7    0.003596\n",
       "12     Input 13    0.003327"
      ]
     },
     "execution_count": 30,
     "metadata": {},
     "output_type": "execute_result"
    }
   ],
   "source": [
    "df_rf = pd.DataFrame({\"Feature Name\":X.columns, \"Importance\": imp_rf}).sort_values(\"Importance\", ascending=False)\n",
    "df_rf"
   ]
  },
  {
   "cell_type": "code",
   "execution_count": 31,
   "id": "052c1332-8072-4d93-a0be-e94f7c67e6f7",
   "metadata": {},
   "outputs": [],
   "source": [
    "input_imp = list(df_rf.loc[df_rf[\"Feature Name\"].str.contains(\"Input\"), \"Feature Name\"].values)\n",
    "results.append((grid.best_estimator_.steps[1][0], input_imp,\n",
    "                {\"r2\" : cross_val_score(grid.best_estimator_, X, y.values.ravel(), scoring=\"r2\").mean(),\n",
    "                \"neg_root_mean_squared_error\": grid.best_score_}))"
   ]
  },
  {
   "cell_type": "code",
   "execution_count": 32,
   "id": "27fc1b54-be65-40a8-bed0-cd60a3d58b05",
   "metadata": {},
   "outputs": [
    {
     "data": {
      "application/vnd.plotly.v1+json": {
       "config": {
        "plotlyServerURL": "https://plot.ly"
       },
       "data": [
        {
         "alignmentgroup": "True",
         "hovertemplate": "Importance=%{x}<br>Feature Name=%{y}<extra></extra>",
         "legendgroup": "",
         "marker": {
          "color": "#636efa",
          "pattern": {
           "shape": ""
          }
         },
         "name": "",
         "offsetgroup": "",
         "orientation": "h",
         "showlegend": false,
         "textposition": "auto",
         "type": "bar",
         "x": [
          0.7589523670356906,
          0.07841632593075085,
          0.04515026219349447,
          0.033503730388981336,
          0.03123786225428566,
          0.008086012317873054,
          0.006461092133025528,
          0.006059216750403441,
          0.005746271583548076,
          0.004330001344731579,
          0.003909256063778966,
          0.0038528039270228887,
          0.0037287048878739556,
          0.003643354792044769,
          0.0035958167734596604,
          0.003326921623035203
         ],
         "xaxis": "x",
         "y": [
          "Output 1",
          "Input 14",
          "Input 11",
          "Input 12",
          "Input 8",
          "Input 10",
          "Input 2",
          "Input 5",
          "Input 9",
          "Input 4",
          "Input 3",
          "Input 6",
          "Input 1",
          "Input 15",
          "Input 7",
          "Input 13"
         ],
         "yaxis": "y"
        }
       ],
       "layout": {
        "autosize": false,
        "barmode": "relative",
        "height": 500,
        "legend": {
         "tracegroupgap": 0
        },
        "margin": {
         "t": 60
        },
        "template": {
         "data": {
          "bar": [
           {
            "error_x": {
             "color": "#2a3f5f"
            },
            "error_y": {
             "color": "#2a3f5f"
            },
            "marker": {
             "line": {
              "color": "#E5ECF6",
              "width": 0.5
             },
             "pattern": {
              "fillmode": "overlay",
              "size": 10,
              "solidity": 0.2
             }
            },
            "type": "bar"
           }
          ],
          "barpolar": [
           {
            "marker": {
             "line": {
              "color": "#E5ECF6",
              "width": 0.5
             },
             "pattern": {
              "fillmode": "overlay",
              "size": 10,
              "solidity": 0.2
             }
            },
            "type": "barpolar"
           }
          ],
          "carpet": [
           {
            "aaxis": {
             "endlinecolor": "#2a3f5f",
             "gridcolor": "white",
             "linecolor": "white",
             "minorgridcolor": "white",
             "startlinecolor": "#2a3f5f"
            },
            "baxis": {
             "endlinecolor": "#2a3f5f",
             "gridcolor": "white",
             "linecolor": "white",
             "minorgridcolor": "white",
             "startlinecolor": "#2a3f5f"
            },
            "type": "carpet"
           }
          ],
          "choropleth": [
           {
            "colorbar": {
             "outlinewidth": 0,
             "ticks": ""
            },
            "type": "choropleth"
           }
          ],
          "contour": [
           {
            "colorbar": {
             "outlinewidth": 0,
             "ticks": ""
            },
            "colorscale": [
             [
              0,
              "#0d0887"
             ],
             [
              0.1111111111111111,
              "#46039f"
             ],
             [
              0.2222222222222222,
              "#7201a8"
             ],
             [
              0.3333333333333333,
              "#9c179e"
             ],
             [
              0.4444444444444444,
              "#bd3786"
             ],
             [
              0.5555555555555556,
              "#d8576b"
             ],
             [
              0.6666666666666666,
              "#ed7953"
             ],
             [
              0.7777777777777778,
              "#fb9f3a"
             ],
             [
              0.8888888888888888,
              "#fdca26"
             ],
             [
              1,
              "#f0f921"
             ]
            ],
            "type": "contour"
           }
          ],
          "contourcarpet": [
           {
            "colorbar": {
             "outlinewidth": 0,
             "ticks": ""
            },
            "type": "contourcarpet"
           }
          ],
          "heatmap": [
           {
            "colorbar": {
             "outlinewidth": 0,
             "ticks": ""
            },
            "colorscale": [
             [
              0,
              "#0d0887"
             ],
             [
              0.1111111111111111,
              "#46039f"
             ],
             [
              0.2222222222222222,
              "#7201a8"
             ],
             [
              0.3333333333333333,
              "#9c179e"
             ],
             [
              0.4444444444444444,
              "#bd3786"
             ],
             [
              0.5555555555555556,
              "#d8576b"
             ],
             [
              0.6666666666666666,
              "#ed7953"
             ],
             [
              0.7777777777777778,
              "#fb9f3a"
             ],
             [
              0.8888888888888888,
              "#fdca26"
             ],
             [
              1,
              "#f0f921"
             ]
            ],
            "type": "heatmap"
           }
          ],
          "heatmapgl": [
           {
            "colorbar": {
             "outlinewidth": 0,
             "ticks": ""
            },
            "colorscale": [
             [
              0,
              "#0d0887"
             ],
             [
              0.1111111111111111,
              "#46039f"
             ],
             [
              0.2222222222222222,
              "#7201a8"
             ],
             [
              0.3333333333333333,
              "#9c179e"
             ],
             [
              0.4444444444444444,
              "#bd3786"
             ],
             [
              0.5555555555555556,
              "#d8576b"
             ],
             [
              0.6666666666666666,
              "#ed7953"
             ],
             [
              0.7777777777777778,
              "#fb9f3a"
             ],
             [
              0.8888888888888888,
              "#fdca26"
             ],
             [
              1,
              "#f0f921"
             ]
            ],
            "type": "heatmapgl"
           }
          ],
          "histogram": [
           {
            "marker": {
             "pattern": {
              "fillmode": "overlay",
              "size": 10,
              "solidity": 0.2
             }
            },
            "type": "histogram"
           }
          ],
          "histogram2d": [
           {
            "colorbar": {
             "outlinewidth": 0,
             "ticks": ""
            },
            "colorscale": [
             [
              0,
              "#0d0887"
             ],
             [
              0.1111111111111111,
              "#46039f"
             ],
             [
              0.2222222222222222,
              "#7201a8"
             ],
             [
              0.3333333333333333,
              "#9c179e"
             ],
             [
              0.4444444444444444,
              "#bd3786"
             ],
             [
              0.5555555555555556,
              "#d8576b"
             ],
             [
              0.6666666666666666,
              "#ed7953"
             ],
             [
              0.7777777777777778,
              "#fb9f3a"
             ],
             [
              0.8888888888888888,
              "#fdca26"
             ],
             [
              1,
              "#f0f921"
             ]
            ],
            "type": "histogram2d"
           }
          ],
          "histogram2dcontour": [
           {
            "colorbar": {
             "outlinewidth": 0,
             "ticks": ""
            },
            "colorscale": [
             [
              0,
              "#0d0887"
             ],
             [
              0.1111111111111111,
              "#46039f"
             ],
             [
              0.2222222222222222,
              "#7201a8"
             ],
             [
              0.3333333333333333,
              "#9c179e"
             ],
             [
              0.4444444444444444,
              "#bd3786"
             ],
             [
              0.5555555555555556,
              "#d8576b"
             ],
             [
              0.6666666666666666,
              "#ed7953"
             ],
             [
              0.7777777777777778,
              "#fb9f3a"
             ],
             [
              0.8888888888888888,
              "#fdca26"
             ],
             [
              1,
              "#f0f921"
             ]
            ],
            "type": "histogram2dcontour"
           }
          ],
          "mesh3d": [
           {
            "colorbar": {
             "outlinewidth": 0,
             "ticks": ""
            },
            "type": "mesh3d"
           }
          ],
          "parcoords": [
           {
            "line": {
             "colorbar": {
              "outlinewidth": 0,
              "ticks": ""
             }
            },
            "type": "parcoords"
           }
          ],
          "pie": [
           {
            "automargin": true,
            "type": "pie"
           }
          ],
          "scatter": [
           {
            "marker": {
             "colorbar": {
              "outlinewidth": 0,
              "ticks": ""
             }
            },
            "type": "scatter"
           }
          ],
          "scatter3d": [
           {
            "line": {
             "colorbar": {
              "outlinewidth": 0,
              "ticks": ""
             }
            },
            "marker": {
             "colorbar": {
              "outlinewidth": 0,
              "ticks": ""
             }
            },
            "type": "scatter3d"
           }
          ],
          "scattercarpet": [
           {
            "marker": {
             "colorbar": {
              "outlinewidth": 0,
              "ticks": ""
             }
            },
            "type": "scattercarpet"
           }
          ],
          "scattergeo": [
           {
            "marker": {
             "colorbar": {
              "outlinewidth": 0,
              "ticks": ""
             }
            },
            "type": "scattergeo"
           }
          ],
          "scattergl": [
           {
            "marker": {
             "colorbar": {
              "outlinewidth": 0,
              "ticks": ""
             }
            },
            "type": "scattergl"
           }
          ],
          "scattermapbox": [
           {
            "marker": {
             "colorbar": {
              "outlinewidth": 0,
              "ticks": ""
             }
            },
            "type": "scattermapbox"
           }
          ],
          "scatterpolar": [
           {
            "marker": {
             "colorbar": {
              "outlinewidth": 0,
              "ticks": ""
             }
            },
            "type": "scatterpolar"
           }
          ],
          "scatterpolargl": [
           {
            "marker": {
             "colorbar": {
              "outlinewidth": 0,
              "ticks": ""
             }
            },
            "type": "scatterpolargl"
           }
          ],
          "scatterternary": [
           {
            "marker": {
             "colorbar": {
              "outlinewidth": 0,
              "ticks": ""
             }
            },
            "type": "scatterternary"
           }
          ],
          "surface": [
           {
            "colorbar": {
             "outlinewidth": 0,
             "ticks": ""
            },
            "colorscale": [
             [
              0,
              "#0d0887"
             ],
             [
              0.1111111111111111,
              "#46039f"
             ],
             [
              0.2222222222222222,
              "#7201a8"
             ],
             [
              0.3333333333333333,
              "#9c179e"
             ],
             [
              0.4444444444444444,
              "#bd3786"
             ],
             [
              0.5555555555555556,
              "#d8576b"
             ],
             [
              0.6666666666666666,
              "#ed7953"
             ],
             [
              0.7777777777777778,
              "#fb9f3a"
             ],
             [
              0.8888888888888888,
              "#fdca26"
             ],
             [
              1,
              "#f0f921"
             ]
            ],
            "type": "surface"
           }
          ],
          "table": [
           {
            "cells": {
             "fill": {
              "color": "#EBF0F8"
             },
             "line": {
              "color": "white"
             }
            },
            "header": {
             "fill": {
              "color": "#C8D4E3"
             },
             "line": {
              "color": "white"
             }
            },
            "type": "table"
           }
          ]
         },
         "layout": {
          "annotationdefaults": {
           "arrowcolor": "#2a3f5f",
           "arrowhead": 0,
           "arrowwidth": 1
          },
          "autotypenumbers": "strict",
          "coloraxis": {
           "colorbar": {
            "outlinewidth": 0,
            "ticks": ""
           }
          },
          "colorscale": {
           "diverging": [
            [
             0,
             "#8e0152"
            ],
            [
             0.1,
             "#c51b7d"
            ],
            [
             0.2,
             "#de77ae"
            ],
            [
             0.3,
             "#f1b6da"
            ],
            [
             0.4,
             "#fde0ef"
            ],
            [
             0.5,
             "#f7f7f7"
            ],
            [
             0.6,
             "#e6f5d0"
            ],
            [
             0.7,
             "#b8e186"
            ],
            [
             0.8,
             "#7fbc41"
            ],
            [
             0.9,
             "#4d9221"
            ],
            [
             1,
             "#276419"
            ]
           ],
           "sequential": [
            [
             0,
             "#0d0887"
            ],
            [
             0.1111111111111111,
             "#46039f"
            ],
            [
             0.2222222222222222,
             "#7201a8"
            ],
            [
             0.3333333333333333,
             "#9c179e"
            ],
            [
             0.4444444444444444,
             "#bd3786"
            ],
            [
             0.5555555555555556,
             "#d8576b"
            ],
            [
             0.6666666666666666,
             "#ed7953"
            ],
            [
             0.7777777777777778,
             "#fb9f3a"
            ],
            [
             0.8888888888888888,
             "#fdca26"
            ],
            [
             1,
             "#f0f921"
            ]
           ],
           "sequentialminus": [
            [
             0,
             "#0d0887"
            ],
            [
             0.1111111111111111,
             "#46039f"
            ],
            [
             0.2222222222222222,
             "#7201a8"
            ],
            [
             0.3333333333333333,
             "#9c179e"
            ],
            [
             0.4444444444444444,
             "#bd3786"
            ],
            [
             0.5555555555555556,
             "#d8576b"
            ],
            [
             0.6666666666666666,
             "#ed7953"
            ],
            [
             0.7777777777777778,
             "#fb9f3a"
            ],
            [
             0.8888888888888888,
             "#fdca26"
            ],
            [
             1,
             "#f0f921"
            ]
           ]
          },
          "colorway": [
           "#636efa",
           "#EF553B",
           "#00cc96",
           "#ab63fa",
           "#FFA15A",
           "#19d3f3",
           "#FF6692",
           "#B6E880",
           "#FF97FF",
           "#FECB52"
          ],
          "font": {
           "color": "#2a3f5f"
          },
          "geo": {
           "bgcolor": "white",
           "lakecolor": "white",
           "landcolor": "#E5ECF6",
           "showlakes": true,
           "showland": true,
           "subunitcolor": "white"
          },
          "hoverlabel": {
           "align": "left"
          },
          "hovermode": "closest",
          "mapbox": {
           "style": "light"
          },
          "paper_bgcolor": "white",
          "plot_bgcolor": "#E5ECF6",
          "polar": {
           "angularaxis": {
            "gridcolor": "white",
            "linecolor": "white",
            "ticks": ""
           },
           "bgcolor": "#E5ECF6",
           "radialaxis": {
            "gridcolor": "white",
            "linecolor": "white",
            "ticks": ""
           }
          },
          "scene": {
           "xaxis": {
            "backgroundcolor": "#E5ECF6",
            "gridcolor": "white",
            "gridwidth": 2,
            "linecolor": "white",
            "showbackground": true,
            "ticks": "",
            "zerolinecolor": "white"
           },
           "yaxis": {
            "backgroundcolor": "#E5ECF6",
            "gridcolor": "white",
            "gridwidth": 2,
            "linecolor": "white",
            "showbackground": true,
            "ticks": "",
            "zerolinecolor": "white"
           },
           "zaxis": {
            "backgroundcolor": "#E5ECF6",
            "gridcolor": "white",
            "gridwidth": 2,
            "linecolor": "white",
            "showbackground": true,
            "ticks": "",
            "zerolinecolor": "white"
           }
          },
          "shapedefaults": {
           "line": {
            "color": "#2a3f5f"
           }
          },
          "ternary": {
           "aaxis": {
            "gridcolor": "white",
            "linecolor": "white",
            "ticks": ""
           },
           "baxis": {
            "gridcolor": "white",
            "linecolor": "white",
            "ticks": ""
           },
           "bgcolor": "#E5ECF6",
           "caxis": {
            "gridcolor": "white",
            "linecolor": "white",
            "ticks": ""
           }
          },
          "title": {
           "x": 0.05
          },
          "xaxis": {
           "automargin": true,
           "gridcolor": "white",
           "linecolor": "white",
           "ticks": "",
           "title": {
            "standoff": 15
           },
           "zerolinecolor": "white",
           "zerolinewidth": 2
          },
          "yaxis": {
           "automargin": true,
           "gridcolor": "white",
           "linecolor": "white",
           "ticks": "",
           "title": {
            "standoff": 15
           },
           "zerolinecolor": "white",
           "zerolinewidth": 2
          }
         }
        },
        "title": {
         "text": "RandomForestRegressor Feature Importances"
        },
        "width": 800,
        "xaxis": {
         "anchor": "y",
         "autorange": true,
         "domain": [
          0,
          1
         ],
         "range": [
          0,
          0.7988972284586217
         ],
         "title": {
          "text": "Importance"
         },
         "type": "linear"
        },
        "yaxis": {
         "anchor": "x",
         "autorange": true,
         "categoryorder": "total ascending",
         "domain": [
          0,
          1
         ],
         "range": [
          -0.5,
          15.5
         ],
         "title": {
          "text": "Feature Name"
         },
         "type": "category"
        }
       }
      },
      "image/png": "[encoded data removed]",
      "text/html": [
       "<div>                            <div id=\"9eb0589a-0188-413b-a820-e054cacad1fd\" class=\"plotly-graph-div\" style=\"height:500px; width:800px;\"></div>            <script type=\"text/javascript\">                require([\"plotly\"], function(Plotly) {                    window.PLOTLYENV=window.PLOTLYENV || {};                                    if (document.getElementById(\"9eb0589a-0188-413b-a820-e054cacad1fd\")) {                    Plotly.newPlot(                        \"9eb0589a-0188-413b-a820-e054cacad1fd\",                        [{\"alignmentgroup\":\"True\",\"hovertemplate\":\"Importance=%{x}<br>Feature Name=%{y}<extra></extra>\",\"legendgroup\":\"\",\"marker\":{\"color\":\"#636efa\",\"pattern\":{\"shape\":\"\"}},\"name\":\"\",\"offsetgroup\":\"\",\"orientation\":\"h\",\"showlegend\":false,\"textposition\":\"auto\",\"type\":\"bar\",\"x\":[0.7589523670356906,0.07841632593075085,0.04515026219349447,0.033503730388981336,0.03123786225428566,0.008086012317873054,0.006461092133025528,0.006059216750403441,0.005746271583548076,0.004330001344731579,0.003909256063778966,0.0038528039270228887,0.0037287048878739556,0.003643354792044769,0.0035958167734596604,0.003326921623035203],\"xaxis\":\"x\",\"y\":[\"Output 1\",\"Input 14\",\"Input 11\",\"Input 12\",\"Input 8\",\"Input 10\",\"Input 2\",\"Input 5\",\"Input 9\",\"Input 4\",\"Input 3\",\"Input 6\",\"Input 1\",\"Input 15\",\"Input 7\",\"Input 13\"],\"yaxis\":\"y\"}],                        {\"autosize\":false,\"barmode\":\"relative\",\"height\":500,\"legend\":{\"tracegroupgap\":0},\"margin\":{\"t\":60},\"template\":{\"data\":{\"bar\":[{\"error_x\":{\"color\":\"#2a3f5f\"},\"error_y\":{\"color\":\"#2a3f5f\"},\"marker\":{\"line\":{\"color\":\"#E5ECF6\",\"width\":0.5},\"pattern\":{\"fillmode\":\"overlay\",\"size\":10,\"solidity\":0.2}},\"type\":\"bar\"}],\"barpolar\":[{\"marker\":{\"line\":{\"color\":\"#E5ECF6\",\"width\":0.5},\"pattern\":{\"fillmode\":\"overlay\",\"size\":10,\"solidity\":0.2}},\"type\":\"barpolar\"}],\"carpet\":[{\"aaxis\":{\"endlinecolor\":\"#2a3f5f\",\"gridcolor\":\"white\",\"linecolor\":\"white\",\"minorgridcolor\":\"white\",\"startlinecolor\":\"#2a3f5f\"},\"baxis\":{\"endlinecolor\":\"#2a3f5f\",\"gridcolor\":\"white\",\"linecolor\":\"white\",\"minorgridcolor\":\"white\",\"startlinecolor\":\"#2a3f5f\"},\"type\":\"carpet\"}],\"choropleth\":[{\"colorbar\":{\"outlinewidth\":0,\"ticks\":\"\"},\"type\":\"choropleth\"}],\"contour\":[{\"colorbar\":{\"outlinewidth\":0,\"ticks\":\"\"},\"colorscale\":[[0.0,\"#0d0887\"],[0.1111111111111111,\"#46039f\"],[0.2222222222222222,\"#7201a8\"],[0.3333333333333333,\"#9c179e\"],[0.4444444444444444,\"#bd3786\"],[0.5555555555555556,\"#d8576b\"],[0.6666666666666666,\"#ed7953\"],[0.7777777777777778,\"#fb9f3a\"],[0.8888888888888888,\"#fdca26\"],[1.0,\"#f0f921\"]],\"type\":\"contour\"}],\"contourcarpet\":[{\"colorbar\":{\"outlinewidth\":0,\"ticks\":\"\"},\"type\":\"contourcarpet\"}],\"heatmap\":[{\"colorbar\":{\"outlinewidth\":0,\"ticks\":\"\"},\"colorscale\":[[0.0,\"#0d0887\"],[0.1111111111111111,\"#46039f\"],[0.2222222222222222,\"#7201a8\"],[0.3333333333333333,\"#9c179e\"],[0.4444444444444444,\"#bd3786\"],[0.5555555555555556,\"#d8576b\"],[0.6666666666666666,\"#ed7953\"],[0.7777777777777778,\"#fb9f3a\"],[0.8888888888888888,\"#fdca26\"],[1.0,\"#f0f921\"]],\"type\":\"heatmap\"}],\"heatmapgl\":[{\"colorbar\":{\"outlinewidth\":0,\"ticks\":\"\"},\"colorscale\":[[0.0,\"#0d0887\"],[0.1111111111111111,\"#46039f\"],[0.2222222222222222,\"#7201a8\"],[0.3333333333333333,\"#9c179e\"],[0.4444444444444444,\"#bd3786\"],[0.5555555555555556,\"#d8576b\"],[0.6666666666666666,\"#ed7953\"],[0.7777777777777778,\"#fb9f3a\"],[0.8888888888888888,\"#fdca26\"],[1.0,\"#f0f921\"]],\"type\":\"heatmapgl\"}],\"histogram\":[{\"marker\":{\"pattern\":{\"fillmode\":\"overlay\",\"size\":10,\"solidity\":0.2}},\"type\":\"histogram\"}],\"histogram2d\":[{\"colorbar\":{\"outlinewidth\":0,\"ticks\":\"\"},\"colorscale\":[[0.0,\"#0d0887\"],[0.1111111111111111,\"#46039f\"],[0.2222222222222222,\"#7201a8\"],[0.3333333333333333,\"#9c179e\"],[0.4444444444444444,\"#bd3786\"],[0.5555555555555556,\"#d8576b\"],[0.6666666666666666,\"#ed7953\"],[0.7777777777777778,\"#fb9f3a\"],[0.8888888888888888,\"#fdca26\"],[1.0,\"#f0f921\"]],\"type\":\"histogram2d\"}],\"histogram2dcontour\":[{\"colorbar\":{\"outlinewidth\":0,\"ticks\":\"\"},\"colorscale\":[[0.0,\"#0d0887\"],[0.1111111111111111,\"#46039f\"],[0.2222222222222222,\"#7201a8\"],[0.3333333333333333,\"#9c179e\"],[0.4444444444444444,\"#bd3786\"],[0.5555555555555556,\"#d8576b\"],[0.6666666666666666,\"#ed7953\"],[0.7777777777777778,\"#fb9f3a\"],[0.8888888888888888,\"#fdca26\"],[1.0,\"#f0f921\"]],\"type\":\"histogram2dcontour\"}],\"mesh3d\":[{\"colorbar\":{\"outlinewidth\":0,\"ticks\":\"\"},\"type\":\"mesh3d\"}],\"parcoords\":[{\"line\":{\"colorbar\":{\"outlinewidth\":0,\"ticks\":\"\"}},\"type\":\"parcoords\"}],\"pie\":[{\"automargin\":true,\"type\":\"pie\"}],\"scatter\":[{\"marker\":{\"colorbar\":{\"outlinewidth\":0,\"ticks\":\"\"}},\"type\":\"scatter\"}],\"scatter3d\":[{\"line\":{\"colorbar\":{\"outlinewidth\":0,\"ticks\":\"\"}},\"marker\":{\"colorbar\":{\"outlinewidth\":0,\"ticks\":\"\"}},\"type\":\"scatter3d\"}],\"scattercarpet\":[{\"marker\":{\"colorbar\":{\"outlinewidth\":0,\"ticks\":\"\"}},\"type\":\"scattercarpet\"}],\"scattergeo\":[{\"marker\":{\"colorbar\":{\"outlinewidth\":0,\"ticks\":\"\"}},\"type\":\"scattergeo\"}],\"scattergl\":[{\"marker\":{\"colorbar\":{\"outlinewidth\":0,\"ticks\":\"\"}},\"type\":\"scattergl\"}],\"scattermapbox\":[{\"marker\":{\"colorbar\":{\"outlinewidth\":0,\"ticks\":\"\"}},\"type\":\"scattermapbox\"}],\"scatterpolar\":[{\"marker\":{\"colorbar\":{\"outlinewidth\":0,\"ticks\":\"\"}},\"type\":\"scatterpolar\"}],\"scatterpolargl\":[{\"marker\":{\"colorbar\":{\"outlinewidth\":0,\"ticks\":\"\"}},\"type\":\"scatterpolargl\"}],\"scatterternary\":[{\"marker\":{\"colorbar\":{\"outlinewidth\":0,\"ticks\":\"\"}},\"type\":\"scatterternary\"}],\"surface\":[{\"colorbar\":{\"outlinewidth\":0,\"ticks\":\"\"},\"colorscale\":[[0.0,\"#0d0887\"],[0.1111111111111111,\"#46039f\"],[0.2222222222222222,\"#7201a8\"],[0.3333333333333333,\"#9c179e\"],[0.4444444444444444,\"#bd3786\"],[0.5555555555555556,\"#d8576b\"],[0.6666666666666666,\"#ed7953\"],[0.7777777777777778,\"#fb9f3a\"],[0.8888888888888888,\"#fdca26\"],[1.0,\"#f0f921\"]],\"type\":\"surface\"}],\"table\":[{\"cells\":{\"fill\":{\"color\":\"#EBF0F8\"},\"line\":{\"color\":\"white\"}},\"header\":{\"fill\":{\"color\":\"#C8D4E3\"},\"line\":{\"color\":\"white\"}},\"type\":\"table\"}]},\"layout\":{\"annotationdefaults\":{\"arrowcolor\":\"#2a3f5f\",\"arrowhead\":0,\"arrowwidth\":1},\"autotypenumbers\":\"strict\",\"coloraxis\":{\"colorbar\":{\"outlinewidth\":0,\"ticks\":\"\"}},\"colorscale\":{\"diverging\":[[0,\"#8e0152\"],[0.1,\"#c51b7d\"],[0.2,\"#de77ae\"],[0.3,\"#f1b6da\"],[0.4,\"#fde0ef\"],[0.5,\"#f7f7f7\"],[0.6,\"#e6f5d0\"],[0.7,\"#b8e186\"],[0.8,\"#7fbc41\"],[0.9,\"#4d9221\"],[1,\"#276419\"]],\"sequential\":[[0.0,\"#0d0887\"],[0.1111111111111111,\"#46039f\"],[0.2222222222222222,\"#7201a8\"],[0.3333333333333333,\"#9c179e\"],[0.4444444444444444,\"#bd3786\"],[0.5555555555555556,\"#d8576b\"],[0.6666666666666666,\"#ed7953\"],[0.7777777777777778,\"#fb9f3a\"],[0.8888888888888888,\"#fdca26\"],[1.0,\"#f0f921\"]],\"sequentialminus\":[[0.0,\"#0d0887\"],[0.1111111111111111,\"#46039f\"],[0.2222222222222222,\"#7201a8\"],[0.3333333333333333,\"#9c179e\"],[0.4444444444444444,\"#bd3786\"],[0.5555555555555556,\"#d8576b\"],[0.6666666666666666,\"#ed7953\"],[0.7777777777777778,\"#fb9f3a\"],[0.8888888888888888,\"#fdca26\"],[1.0,\"#f0f921\"]]},\"colorway\":[\"#636efa\",\"#EF553B\",\"#00cc96\",\"#ab63fa\",\"#FFA15A\",\"#19d3f3\",\"#FF6692\",\"#B6E880\",\"#FF97FF\",\"#FECB52\"],\"font\":{\"color\":\"#2a3f5f\"},\"geo\":{\"bgcolor\":\"white\",\"lakecolor\":\"white\",\"landcolor\":\"#E5ECF6\",\"showlakes\":true,\"showland\":true,\"subunitcolor\":\"white\"},\"hoverlabel\":{\"align\":\"left\"},\"hovermode\":\"closest\",\"mapbox\":{\"style\":\"light\"},\"paper_bgcolor\":\"white\",\"plot_bgcolor\":\"#E5ECF6\",\"polar\":{\"angularaxis\":{\"gridcolor\":\"white\",\"linecolor\":\"white\",\"ticks\":\"\"},\"bgcolor\":\"#E5ECF6\",\"radialaxis\":{\"gridcolor\":\"white\",\"linecolor\":\"white\",\"ticks\":\"\"}},\"scene\":{\"xaxis\":{\"backgroundcolor\":\"#E5ECF6\",\"gridcolor\":\"white\",\"gridwidth\":2,\"linecolor\":\"white\",\"showbackground\":true,\"ticks\":\"\",\"zerolinecolor\":\"white\"},\"yaxis\":{\"backgroundcolor\":\"#E5ECF6\",\"gridcolor\":\"white\",\"gridwidth\":2,\"linecolor\":\"white\",\"showbackground\":true,\"ticks\":\"\",\"zerolinecolor\":\"white\"},\"zaxis\":{\"backgroundcolor\":\"#E5ECF6\",\"gridcolor\":\"white\",\"gridwidth\":2,\"linecolor\":\"white\",\"showbackground\":true,\"ticks\":\"\",\"zerolinecolor\":\"white\"}},\"shapedefaults\":{\"line\":{\"color\":\"#2a3f5f\"}},\"ternary\":{\"aaxis\":{\"gridcolor\":\"white\",\"linecolor\":\"white\",\"ticks\":\"\"},\"baxis\":{\"gridcolor\":\"white\",\"linecolor\":\"white\",\"ticks\":\"\"},\"bgcolor\":\"#E5ECF6\",\"caxis\":{\"gridcolor\":\"white\",\"linecolor\":\"white\",\"ticks\":\"\"}},\"title\":{\"x\":0.05},\"xaxis\":{\"automargin\":true,\"gridcolor\":\"white\",\"linecolor\":\"white\",\"ticks\":\"\",\"title\":{\"standoff\":15},\"zerolinecolor\":\"white\",\"zerolinewidth\":2},\"yaxis\":{\"automargin\":true,\"gridcolor\":\"white\",\"linecolor\":\"white\",\"ticks\":\"\",\"title\":{\"standoff\":15},\"zerolinecolor\":\"white\",\"zerolinewidth\":2}}},\"title\":{\"text\":\"RandomForestRegressor Feature Importances\"},\"width\":800,\"xaxis\":{\"anchor\":\"y\",\"domain\":[0.0,1.0],\"title\":{\"text\":\"Importance\"}},\"yaxis\":{\"anchor\":\"x\",\"categoryorder\":\"total ascending\",\"domain\":[0.0,1.0],\"title\":{\"text\":\"Feature Name\"}}},                        {\"responsive\": true}                    ).then(function(){\n",
       "                            \n",
       "var gd = document.getElementById('9eb0589a-0188-413b-a820-e054cacad1fd');\n",
       "var x = new MutationObserver(function (mutations, observer) {{\n",
       "        var display = window.getComputedStyle(gd).display;\n",
       "        if (!display || display === 'none') {{\n",
       "            console.log([gd, 'removed!']);\n",
       "            Plotly.purge(gd);\n",
       "            observer.disconnect();\n",
       "        }}\n",
       "}});\n",
       "\n",
       "// Listen for the removal of the full notebook cells\n",
       "var notebookContainer = gd.closest('#notebook-container');\n",
       "if (notebookContainer) {{\n",
       "    x.observe(notebookContainer, {childList: true});\n",
       "}}\n",
       "\n",
       "// Listen for the clearing of the current output cell\n",
       "var outputEl = gd.closest('.output');\n",
       "if (outputEl) {{\n",
       "    x.observe(outputEl, {childList: true});\n",
       "}}\n",
       "\n",
       "                        })                };                });            </script>        </div>"
      ]
     },
     "metadata": {},
     "output_type": "display_data"
    }
   ],
   "source": [
    "fig = px.bar(df_rf, x=\"Importance\", y=\"Feature Name\")\n",
    "\n",
    "fig.update_layout(\n",
    "    autosize=False,\n",
    "    width=800,\n",
    "    height=500,\n",
    "    title_text=f\"RandomForestRegressor Feature Importances\",\n",
    "    yaxis={'categoryorder':'total ascending'}\n",
    ")\n",
    "\n",
    "fig.show()"
   ]
  },
  {
   "cell_type": "code",
   "execution_count": 33,
   "id": "2032be28-6a86-4504-9aca-f2c736613000",
   "metadata": {},
   "outputs": [
    {
     "name": "stdout",
     "output_type": "stream",
     "text": [
      "neg_mean_squared_error: -0.0012614497139167755\n",
      "neg_root_mean_squared_error: -0.03537182973992726\n",
      "r2: 0.910204375410548\n"
     ]
    }
   ],
   "source": [
    "gb_model = GradientBoostingRegressor(random_state=42)\n",
    "\n",
    "pipe_gb = make_pipeline(std_scaler, gb_model)\n",
    "\n",
    "# cross-validate the pipeline\n",
    "print(\"neg_mean_squared_error:\", cross_val_score(pipe_gb, X, y.values.ravel(), scoring=\"neg_mean_squared_error\").mean())\n",
    "print(\"neg_root_mean_squared_error:\", cross_val_score(pipe_gb, X, y.values.ravel(), scoring=\"neg_root_mean_squared_error\").mean())\n",
    "print(\"r2:\", cross_val_score(pipe_gb, X, y.values.ravel(), scoring=\"r2\").mean())"
   ]
  },
  {
   "cell_type": "code",
   "execution_count": 34,
   "id": "a7e1f494-b34c-4261-8607-7fe480ae2a25",
   "metadata": {},
   "outputs": [],
   "source": [
    "#learning_rate = [1, 0.5, 0.25, 0.1, 0.05, 0.01]\n",
    "#n_estimators = [200, 500, 1000, 2000]\n",
    "#max_depth = [int(x) for x in np.linspace(10, 100, num = 10)]\n",
    "#print(max_depth)\n",
    "#max_depth.append(None)\n",
    "## Minimum number of samples required to split a node\n",
    "#min_samples_split = [2, 5, 10]\n",
    "## Minimum number of samples required at each leaf node\n",
    "#min_samples_leaf = [1, 2, 4]"
   ]
  },
  {
   "cell_type": "code",
   "execution_count": 35,
   "id": "c98080d4-6e39-4d28-8bb4-097f751b544b",
   "metadata": {},
   "outputs": [],
   "source": [
    "learning_rate = [1, 0.5, 0.1,  0.01]\n",
    "n_estimators = [50, 100, 200, 500, 1000, 2000]\n",
    "max_depth = [3, 5, 10, None]\n",
    "# Minimum number of samples required to split a node\n",
    "min_samples_split = [2, 5, 10, 20, 30]\n",
    "# Minimum number of samples required at each leaf node\n",
    "min_samples_leaf = [1, 2, 4]\n",
    "subsample = [0.3, 0.5, 0.75, 1.0]"
   ]
  },
  {
   "cell_type": "code",
   "execution_count": 36,
   "id": "4cd0a6cd-5529-43bb-a91d-ce16ef133fe5",
   "metadata": {},
   "outputs": [],
   "source": [
    "# specify parameter values to search\n",
    "params = {}\n",
    "params['gradientboostingregressor__learning_rate'] = learning_rate\n",
    "params['gradientboostingregressor__n_estimators'] = n_estimators\n",
    "params['gradientboostingregressor__max_depth'] = max_depth\n",
    "params['gradientboostingregressor__min_samples_split'] = min_samples_split\n",
    "params['gradientboostingregressor__min_samples_leaf'] = min_samples_leaf\n",
    "params['gradientboostingregressor__subsample'] = subsample"
   ]
  },
  {
   "cell_type": "code",
   "execution_count": 37,
   "id": "fa17029e-ef9a-4242-9028-08d1969ef8ff",
   "metadata": {},
   "outputs": [
    {
     "data": {
      "text/plain": [
       "RandomizedSearchCV(cv=5,\n",
       "                   estimator=Pipeline(steps=[('standardscaler',\n",
       "                                              StandardScaler()),\n",
       "                                             ('gradientboostingregressor',\n",
       "                                              GradientBoostingRegressor(random_state=42))]),\n",
       "                   param_distributions={'gradientboostingregressor__learning_rate': [1,\n",
       "                                                                                     0.5,\n",
       "                                                                                     0.1,\n",
       "                                                                                     0.01],\n",
       "                                        'gradientboostingregressor__max_depth': [3,\n",
       "                                                                                 5,\n",
       "                                                                                 10,\n",
       "                                                                                 None],\n",
       "                                        'gradientboostingregressor__min_samples_leaf': [1,\n",
       "                                                                                        2,\n",
       "                                                                                        4],\n",
       "                                        'gradientboostingregressor__min_samples_split': [2,\n",
       "                                                                                         5,\n",
       "                                                                                         10,\n",
       "                                                                                         20,\n",
       "                                                                                         30],\n",
       "                                        'gradientboostingregressor__n_estimators': [50,\n",
       "                                                                                    100,\n",
       "                                                                                    200,\n",
       "                                                                                    500,\n",
       "                                                                                    1000,\n",
       "                                                                                    2000],\n",
       "                                        'gradientboostingregressor__subsample': [0.3,\n",
       "                                                                                 0.5,\n",
       "                                                                                 0.75,\n",
       "                                                                                 1.0]},\n",
       "                   random_state=0, scoring='neg_root_mean_squared_error')"
      ]
     },
     "execution_count": 37,
     "metadata": {},
     "output_type": "execute_result"
    }
   ],
   "source": [
    "grid = RandomizedSearchCV(pipe_gb, params, cv=5, scoring=\"neg_root_mean_squared_error\", random_state=0)\n",
    "grid.fit(X, y.values.ravel())"
   ]
  },
  {
   "cell_type": "code",
   "execution_count": 38,
   "id": "bc89c06f-6df1-423b-9256-e91b89b8cf55",
   "metadata": {},
   "outputs": [
    {
     "name": "stdout",
     "output_type": "stream",
     "text": [
      "-0.026471280994980535\n",
      "{'gradientboostingregressor__subsample': 0.3, 'gradientboostingregressor__n_estimators': 500, 'gradientboostingregressor__min_samples_split': 30, 'gradientboostingregressor__min_samples_leaf': 2, 'gradientboostingregressor__max_depth': 5, 'gradientboostingregressor__learning_rate': 0.1}\n",
      "Pipeline(steps=[('standardscaler', StandardScaler()),\n",
      "                ('gradientboostingregressor',\n",
      "                 GradientBoostingRegressor(max_depth=5, min_samples_leaf=2,\n",
      "                                           min_samples_split=30,\n",
      "                                           n_estimators=500, random_state=42,\n",
      "                                           subsample=0.3))])\n",
      "r2: 0.9492713661330653\n"
     ]
    }
   ],
   "source": [
    "print(grid.best_score_)\n",
    "print(grid.best_params_)\n",
    "print(grid.best_estimator_)\n",
    "print(\"r2:\", cross_val_score(grid.best_estimator_, X, y.values.ravel(), scoring=\"r2\").mean())"
   ]
  },
  {
   "cell_type": "code",
   "execution_count": 39,
   "id": "5fc89a19-75a2-44d2-825f-9f19a00ae1f4",
   "metadata": {},
   "outputs": [
    {
     "data": {
      "text/plain": [
       "array([0.01, 0.01, 0.  , 0.01, 0.01, 0.01, 0.01, 0.04, 0.02, 0.03, 0.05, 0.06, 0.01, 0.1 , 0.01, 0.62])"
      ]
     },
     "execution_count": 39,
     "metadata": {},
     "output_type": "execute_result"
    }
   ],
   "source": [
    "imp_gb = grid.best_estimator_.steps[1][1].feature_importances_\n",
    "imp_gb"
   ]
  },
  {
   "cell_type": "code",
   "execution_count": 40,
   "id": "8f1aa096-14e8-4ad5-80f2-6ee60eb26fc2",
   "metadata": {},
   "outputs": [],
   "source": [
    "#pip_gb.fit(X, y.values.ravel())\n",
    "#\n",
    "#imp_gb = pip_gb.steps[1][1].feature_importances_"
   ]
  },
  {
   "cell_type": "code",
   "execution_count": 41,
   "id": "875c74f6-5eb7-432e-8b55-e8c61154b1ad",
   "metadata": {},
   "outputs": [
    {
     "data": {
      "text/html": [
       "<div><div id=6769006f-11aa-4c73-a23a-d9ab809427ee style=\"display:none; background-color:#9D6CFF; color:white; width:200px; height:30px; padding-left:5px; border-radius:4px; flex-direction:row; justify-content:space-around; align-items:center;\" onmouseover=\"this.style.backgroundColor='#BA9BF8'\" onmouseout=\"this.style.backgroundColor='#9D6CFF'\" onclick=\"window.commands?.execute('create-mitosheet-from-dataframe-output');\">See Full Dataframe in Mito</div> <script> if (window.commands.hasCommand('create-mitosheet-from-dataframe-output')) document.getElementById('6769006f-11aa-4c73-a23a-d9ab809427ee').style.display = 'flex' </script> <table border=\"1\" class=\"dataframe\">\n",
       "  <thead>\n",
       "    <tr style=\"text-align: right;\">\n",
       "      <th></th>\n",
       "      <th>Feature Name</th>\n",
       "      <th>Importance</th>\n",
       "    </tr>\n",
       "  </thead>\n",
       "  <tbody>\n",
       "    <tr>\n",
       "      <th>15</th>\n",
       "      <td>Output 1</td>\n",
       "      <td>0.620830</td>\n",
       "    </tr>\n",
       "    <tr>\n",
       "      <th>13</th>\n",
       "      <td>Input 14</td>\n",
       "      <td>0.102176</td>\n",
       "    </tr>\n",
       "    <tr>\n",
       "      <th>11</th>\n",
       "      <td>Input 12</td>\n",
       "      <td>0.060905</td>\n",
       "    </tr>\n",
       "    <tr>\n",
       "      <th>10</th>\n",
       "      <td>Input 11</td>\n",
       "      <td>0.054743</td>\n",
       "    </tr>\n",
       "    <tr>\n",
       "      <th>7</th>\n",
       "      <td>Input 8</td>\n",
       "      <td>0.041807</td>\n",
       "    </tr>\n",
       "    <tr>\n",
       "      <th>...</th>\n",
       "      <td>...</td>\n",
       "      <td>...</td>\n",
       "    </tr>\n",
       "    <tr>\n",
       "      <th>14</th>\n",
       "      <td>Input 15</td>\n",
       "      <td>0.007803</td>\n",
       "    </tr>\n",
       "    <tr>\n",
       "      <th>12</th>\n",
       "      <td>Input 13</td>\n",
       "      <td>0.006719</td>\n",
       "    </tr>\n",
       "    <tr>\n",
       "      <th>5</th>\n",
       "      <td>Input 6</td>\n",
       "      <td>0.006497</td>\n",
       "    </tr>\n",
       "    <tr>\n",
       "      <th>6</th>\n",
       "      <td>Input 7</td>\n",
       "      <td>0.006016</td>\n",
       "    </tr>\n",
       "    <tr>\n",
       "      <th>2</th>\n",
       "      <td>Input 3</td>\n",
       "      <td>0.002619</td>\n",
       "    </tr>\n",
       "  </tbody>\n",
       "</table></div>"
      ],
      "text/plain": [
       "   Feature Name  Importance\n",
       "15     Output 1    0.620830\n",
       "13     Input 14    0.102176\n",
       "11     Input 12    0.060905\n",
       "10     Input 11    0.054743\n",
       "7       Input 8    0.041807\n",
       "9      Input 10    0.025020\n",
       "8       Input 9    0.022931\n",
       "1       Input 2    0.013204\n",
       "4       Input 5    0.010802\n",
       "0       Input 1    0.009291\n",
       "3       Input 4    0.008638\n",
       "14     Input 15    0.007803\n",
       "12     Input 13    0.006719\n",
       "5       Input 6    0.006497\n",
       "6       Input 7    0.006016\n",
       "2       Input 3    0.002619"
      ]
     },
     "execution_count": 41,
     "metadata": {},
     "output_type": "execute_result"
    }
   ],
   "source": [
    "df_gb = pd.DataFrame({\"Feature Name\":X.columns, \"Importance\": imp_gb}).sort_values(\"Importance\", ascending=False)\n",
    "df_gb"
   ]
  },
  {
   "cell_type": "code",
   "execution_count": 42,
   "id": "a6c717b0-f155-4e56-8739-ae8262220e8c",
   "metadata": {},
   "outputs": [],
   "source": [
    "input_imp = list(df_rf.loc[df_rf[\"Feature Name\"].str.contains(\"Input\"), \"Feature Name\"].values)\n",
    "results.append((grid.best_estimator_.steps[1][0], input_imp,\n",
    "                {\"r2\" : cross_val_score(grid.best_estimator_, X, y.values.ravel(), scoring=\"r2\").mean(),\n",
    "                \"neg_root_mean_squared_error\": grid.best_score_}))"
   ]
  },
  {
   "cell_type": "code",
   "execution_count": 43,
   "id": "db87e5f5-dbdf-4e08-9619-74591d938823",
   "metadata": {},
   "outputs": [
    {
     "data": {
      "application/vnd.plotly.v1+json": {
       "config": {
        "plotlyServerURL": "https://plot.ly"
       },
       "data": [
        {
         "alignmentgroup": "True",
         "hovertemplate": "Importance=%{x}<br>Feature Name=%{y}<extra></extra>",
         "legendgroup": "",
         "marker": {
          "color": "#636efa",
          "pattern": {
           "shape": ""
          }
         },
         "name": "",
         "offsetgroup": "",
         "orientation": "h",
         "showlegend": false,
         "textposition": "auto",
         "type": "bar",
         "x": [
          0.6208295908298251,
          0.10217634912738677,
          0.060904939916866435,
          0.05474286868792421,
          0.041806725644299776,
          0.02502029853691905,
          0.022931320326721807,
          0.013203881916201716,
          0.010802026116204315,
          0.009290641750257423,
          0.008638040156191422,
          0.007802593040637298,
          0.006719051179015122,
          0.006496604079609376,
          0.006015664374827326,
          0.002619404317112778
         ],
         "xaxis": "x",
         "y": [
          "Output 1",
          "Input 14",
          "Input 12",
          "Input 11",
          "Input 8",
          "Input 10",
          "Input 9",
          "Input 2",
          "Input 5",
          "Input 1",
          "Input 4",
          "Input 15",
          "Input 13",
          "Input 6",
          "Input 7",
          "Input 3"
         ],
         "yaxis": "y"
        }
       ],
       "layout": {
        "autosize": false,
        "barmode": "relative",
        "height": 500,
        "legend": {
         "tracegroupgap": 0
        },
        "margin": {
         "t": 60
        },
        "template": {
         "data": {
          "bar": [
           {
            "error_x": {
             "color": "#2a3f5f"
            },
            "error_y": {
             "color": "#2a3f5f"
            },
            "marker": {
             "line": {
              "color": "#E5ECF6",
              "width": 0.5
             },
             "pattern": {
              "fillmode": "overlay",
              "size": 10,
              "solidity": 0.2
             }
            },
            "type": "bar"
           }
          ],
          "barpolar": [
           {
            "marker": {
             "line": {
              "color": "#E5ECF6",
              "width": 0.5
             },
             "pattern": {
              "fillmode": "overlay",
              "size": 10,
              "solidity": 0.2
             }
            },
            "type": "barpolar"
           }
          ],
          "carpet": [
           {
            "aaxis": {
             "endlinecolor": "#2a3f5f",
             "gridcolor": "white",
             "linecolor": "white",
             "minorgridcolor": "white",
             "startlinecolor": "#2a3f5f"
            },
            "baxis": {
             "endlinecolor": "#2a3f5f",
             "gridcolor": "white",
             "linecolor": "white",
             "minorgridcolor": "white",
             "startlinecolor": "#2a3f5f"
            },
            "type": "carpet"
           }
          ],
          "choropleth": [
           {
            "colorbar": {
             "outlinewidth": 0,
             "ticks": ""
            },
            "type": "choropleth"
           }
          ],
          "contour": [
           {
            "colorbar": {
             "outlinewidth": 0,
             "ticks": ""
            },
            "colorscale": [
             [
              0,
              "#0d0887"
             ],
             [
              0.1111111111111111,
              "#46039f"
             ],
             [
              0.2222222222222222,
              "#7201a8"
             ],
             [
              0.3333333333333333,
              "#9c179e"
             ],
             [
              0.4444444444444444,
              "#bd3786"
             ],
             [
              0.5555555555555556,
              "#d8576b"
             ],
             [
              0.6666666666666666,
              "#ed7953"
             ],
             [
              0.7777777777777778,
              "#fb9f3a"
             ],
             [
              0.8888888888888888,
              "#fdca26"
             ],
             [
              1,
              "#f0f921"
             ]
            ],
            "type": "contour"
           }
          ],
          "contourcarpet": [
           {
            "colorbar": {
             "outlinewidth": 0,
             "ticks": ""
            },
            "type": "contourcarpet"
           }
          ],
          "heatmap": [
           {
            "colorbar": {
             "outlinewidth": 0,
             "ticks": ""
            },
            "colorscale": [
             [
              0,
              "#0d0887"
             ],
             [
              0.1111111111111111,
              "#46039f"
             ],
             [
              0.2222222222222222,
              "#7201a8"
             ],
             [
              0.3333333333333333,
              "#9c179e"
             ],
             [
              0.4444444444444444,
              "#bd3786"
             ],
             [
              0.5555555555555556,
              "#d8576b"
             ],
             [
              0.6666666666666666,
              "#ed7953"
             ],
             [
              0.7777777777777778,
              "#fb9f3a"
             ],
             [
              0.8888888888888888,
              "#fdca26"
             ],
             [
              1,
              "#f0f921"
             ]
            ],
            "type": "heatmap"
           }
          ],
          "heatmapgl": [
           {
            "colorbar": {
             "outlinewidth": 0,
             "ticks": ""
            },
            "colorscale": [
             [
              0,
              "#0d0887"
             ],
             [
              0.1111111111111111,
              "#46039f"
             ],
             [
              0.2222222222222222,
              "#7201a8"
             ],
             [
              0.3333333333333333,
              "#9c179e"
             ],
             [
              0.4444444444444444,
              "#bd3786"
             ],
             [
              0.5555555555555556,
              "#d8576b"
             ],
             [
              0.6666666666666666,
              "#ed7953"
             ],
             [
              0.7777777777777778,
              "#fb9f3a"
             ],
             [
              0.8888888888888888,
              "#fdca26"
             ],
             [
              1,
              "#f0f921"
             ]
            ],
            "type": "heatmapgl"
           }
          ],
          "histogram": [
           {
            "marker": {
             "pattern": {
              "fillmode": "overlay",
              "size": 10,
              "solidity": 0.2
             }
            },
            "type": "histogram"
           }
          ],
          "histogram2d": [
           {
            "colorbar": {
             "outlinewidth": 0,
             "ticks": ""
            },
            "colorscale": [
             [
              0,
              "#0d0887"
             ],
             [
              0.1111111111111111,
              "#46039f"
             ],
             [
              0.2222222222222222,
              "#7201a8"
             ],
             [
              0.3333333333333333,
              "#9c179e"
             ],
             [
              0.4444444444444444,
              "#bd3786"
             ],
             [
              0.5555555555555556,
              "#d8576b"
             ],
             [
              0.6666666666666666,
              "#ed7953"
             ],
             [
              0.7777777777777778,
              "#fb9f3a"
             ],
             [
              0.8888888888888888,
              "#fdca26"
             ],
             [
              1,
              "#f0f921"
             ]
            ],
            "type": "histogram2d"
           }
          ],
          "histogram2dcontour": [
           {
            "colorbar": {
             "outlinewidth": 0,
             "ticks": ""
            },
            "colorscale": [
             [
              0,
              "#0d0887"
             ],
             [
              0.1111111111111111,
              "#46039f"
             ],
             [
              0.2222222222222222,
              "#7201a8"
             ],
             [
              0.3333333333333333,
              "#9c179e"
             ],
             [
              0.4444444444444444,
              "#bd3786"
             ],
             [
              0.5555555555555556,
              "#d8576b"
             ],
             [
              0.6666666666666666,
              "#ed7953"
             ],
             [
              0.7777777777777778,
              "#fb9f3a"
             ],
             [
              0.8888888888888888,
              "#fdca26"
             ],
             [
              1,
              "#f0f921"
             ]
            ],
            "type": "histogram2dcontour"
           }
          ],
          "mesh3d": [
           {
            "colorbar": {
             "outlinewidth": 0,
             "ticks": ""
            },
            "type": "mesh3d"
           }
          ],
          "parcoords": [
           {
            "line": {
             "colorbar": {
              "outlinewidth": 0,
              "ticks": ""
             }
            },
            "type": "parcoords"
           }
          ],
          "pie": [
           {
            "automargin": true,
            "type": "pie"
           }
          ],
          "scatter": [
           {
            "marker": {
             "colorbar": {
              "outlinewidth": 0,
              "ticks": ""
             }
            },
            "type": "scatter"
           }
          ],
          "scatter3d": [
           {
            "line": {
             "colorbar": {
              "outlinewidth": 0,
              "ticks": ""
             }
            },
            "marker": {
             "colorbar": {
              "outlinewidth": 0,
              "ticks": ""
             }
            },
            "type": "scatter3d"
           }
          ],
          "scattercarpet": [
           {
            "marker": {
             "colorbar": {
              "outlinewidth": 0,
              "ticks": ""
             }
            },
            "type": "scattercarpet"
           }
          ],
          "scattergeo": [
           {
            "marker": {
             "colorbar": {
              "outlinewidth": 0,
              "ticks": ""
             }
            },
            "type": "scattergeo"
           }
          ],
          "scattergl": [
           {
            "marker": {
             "colorbar": {
              "outlinewidth": 0,
              "ticks": ""
             }
            },
            "type": "scattergl"
           }
          ],
          "scattermapbox": [
           {
            "marker": {
             "colorbar": {
              "outlinewidth": 0,
              "ticks": ""
             }
            },
            "type": "scattermapbox"
           }
          ],
          "scatterpolar": [
           {
            "marker": {
             "colorbar": {
              "outlinewidth": 0,
              "ticks": ""
             }
            },
            "type": "scatterpolar"
           }
          ],
          "scatterpolargl": [
           {
            "marker": {
             "colorbar": {
              "outlinewidth": 0,
              "ticks": ""
             }
            },
            "type": "scatterpolargl"
           }
          ],
          "scatterternary": [
           {
            "marker": {
             "colorbar": {
              "outlinewidth": 0,
              "ticks": ""
             }
            },
            "type": "scatterternary"
           }
          ],
          "surface": [
           {
            "colorbar": {
             "outlinewidth": 0,
             "ticks": ""
            },
            "colorscale": [
             [
              0,
              "#0d0887"
             ],
             [
              0.1111111111111111,
              "#46039f"
             ],
             [
              0.2222222222222222,
              "#7201a8"
             ],
             [
              0.3333333333333333,
              "#9c179e"
             ],
             [
              0.4444444444444444,
              "#bd3786"
             ],
             [
              0.5555555555555556,
              "#d8576b"
             ],
             [
              0.6666666666666666,
              "#ed7953"
             ],
             [
              0.7777777777777778,
              "#fb9f3a"
             ],
             [
              0.8888888888888888,
              "#fdca26"
             ],
             [
              1,
              "#f0f921"
             ]
            ],
            "type": "surface"
           }
          ],
          "table": [
           {
            "cells": {
             "fill": {
              "color": "#EBF0F8"
             },
             "line": {
              "color": "white"
             }
            },
            "header": {
             "fill": {
              "color": "#C8D4E3"
             },
             "line": {
              "color": "white"
             }
            },
            "type": "table"
           }
          ]
         },
         "layout": {
          "annotationdefaults": {
           "arrowcolor": "#2a3f5f",
           "arrowhead": 0,
           "arrowwidth": 1
          },
          "autotypenumbers": "strict",
          "coloraxis": {
           "colorbar": {
            "outlinewidth": 0,
            "ticks": ""
           }
          },
          "colorscale": {
           "diverging": [
            [
             0,
             "#8e0152"
            ],
            [
             0.1,
             "#c51b7d"
            ],
            [
             0.2,
             "#de77ae"
            ],
            [
             0.3,
             "#f1b6da"
            ],
            [
             0.4,
             "#fde0ef"
            ],
            [
             0.5,
             "#f7f7f7"
            ],
            [
             0.6,
             "#e6f5d0"
            ],
            [
             0.7,
             "#b8e186"
            ],
            [
             0.8,
             "#7fbc41"
            ],
            [
             0.9,
             "#4d9221"
            ],
            [
             1,
             "#276419"
            ]
           ],
           "sequential": [
            [
             0,
             "#0d0887"
            ],
            [
             0.1111111111111111,
             "#46039f"
            ],
            [
             0.2222222222222222,
             "#7201a8"
            ],
            [
             0.3333333333333333,
             "#9c179e"
            ],
            [
             0.4444444444444444,
             "#bd3786"
            ],
            [
             0.5555555555555556,
             "#d8576b"
            ],
            [
             0.6666666666666666,
             "#ed7953"
            ],
            [
             0.7777777777777778,
             "#fb9f3a"
            ],
            [
             0.8888888888888888,
             "#fdca26"
            ],
            [
             1,
             "#f0f921"
            ]
           ],
           "sequentialminus": [
            [
             0,
             "#0d0887"
            ],
            [
             0.1111111111111111,
             "#46039f"
            ],
            [
             0.2222222222222222,
             "#7201a8"
            ],
            [
             0.3333333333333333,
             "#9c179e"
            ],
            [
             0.4444444444444444,
             "#bd3786"
            ],
            [
             0.5555555555555556,
             "#d8576b"
            ],
            [
             0.6666666666666666,
             "#ed7953"
            ],
            [
             0.7777777777777778,
             "#fb9f3a"
            ],
            [
             0.8888888888888888,
             "#fdca26"
            ],
            [
             1,
             "#f0f921"
            ]
           ]
          },
          "colorway": [
           "#636efa",
           "#EF553B",
           "#00cc96",
           "#ab63fa",
           "#FFA15A",
           "#19d3f3",
           "#FF6692",
           "#B6E880",
           "#FF97FF",
           "#FECB52"
          ],
          "font": {
           "color": "#2a3f5f"
          },
          "geo": {
           "bgcolor": "white",
           "lakecolor": "white",
           "landcolor": "#E5ECF6",
           "showlakes": true,
           "showland": true,
           "subunitcolor": "white"
          },
          "hoverlabel": {
           "align": "left"
          },
          "hovermode": "closest",
          "mapbox": {
           "style": "light"
          },
          "paper_bgcolor": "white",
          "plot_bgcolor": "#E5ECF6",
          "polar": {
           "angularaxis": {
            "gridcolor": "white",
            "linecolor": "white",
            "ticks": ""
           },
           "bgcolor": "#E5ECF6",
           "radialaxis": {
            "gridcolor": "white",
            "linecolor": "white",
            "ticks": ""
           }
          },
          "scene": {
           "xaxis": {
            "backgroundcolor": "#E5ECF6",
            "gridcolor": "white",
            "gridwidth": 2,
            "linecolor": "white",
            "showbackground": true,
            "ticks": "",
            "zerolinecolor": "white"
           },
           "yaxis": {
            "backgroundcolor": "#E5ECF6",
            "gridcolor": "white",
            "gridwidth": 2,
            "linecolor": "white",
            "showbackground": true,
            "ticks": "",
            "zerolinecolor": "white"
           },
           "zaxis": {
            "backgroundcolor": "#E5ECF6",
            "gridcolor": "white",
            "gridwidth": 2,
            "linecolor": "white",
            "showbackground": true,
            "ticks": "",
            "zerolinecolor": "white"
           }
          },
          "shapedefaults": {
           "line": {
            "color": "#2a3f5f"
           }
          },
          "ternary": {
           "aaxis": {
            "gridcolor": "white",
            "linecolor": "white",
            "ticks": ""
           },
           "baxis": {
            "gridcolor": "white",
            "linecolor": "white",
            "ticks": ""
           },
           "bgcolor": "#E5ECF6",
           "caxis": {
            "gridcolor": "white",
            "linecolor": "white",
            "ticks": ""
           }
          },
          "title": {
           "x": 0.05
          },
          "xaxis": {
           "automargin": true,
           "gridcolor": "white",
           "linecolor": "white",
           "ticks": "",
           "title": {
            "standoff": 15
           },
           "zerolinecolor": "white",
           "zerolinewidth": 2
          },
          "yaxis": {
           "automargin": true,
           "gridcolor": "white",
           "linecolor": "white",
           "ticks": "",
           "title": {
            "standoff": 15
           },
           "zerolinecolor": "white",
           "zerolinewidth": 2
          }
         }
        },
        "title": {
         "text": "GradientBoostingRegressor Feature Importances"
        },
        "width": 800,
        "xaxis": {
         "anchor": "y",
         "autorange": true,
         "domain": [
          0,
          1
         ],
         "range": [
          0,
          0.6535048324524475
         ],
         "title": {
          "text": "Importance"
         },
         "type": "linear"
        },
        "yaxis": {
         "anchor": "x",
         "autorange": true,
         "categoryorder": "total ascending",
         "domain": [
          0,
          1
         ],
         "range": [
          -0.5,
          15.5
         ],
         "title": {
          "text": "Feature Name"
         },
         "type": "category"
        }
       }
      },
      "image/png": "[encoded data removed]",
      "text/html": [
       "<div>                            <div id=\"03ea8ccf-25b3-45d1-bf6e-3cb44e522eea\" class=\"plotly-graph-div\" style=\"height:500px; width:800px;\"></div>            <script type=\"text/javascript\">                require([\"plotly\"], function(Plotly) {                    window.PLOTLYENV=window.PLOTLYENV || {};                                    if (document.getElementById(\"03ea8ccf-25b3-45d1-bf6e-3cb44e522eea\")) {                    Plotly.newPlot(                        \"03ea8ccf-25b3-45d1-bf6e-3cb44e522eea\",                        [{\"alignmentgroup\":\"True\",\"hovertemplate\":\"Importance=%{x}<br>Feature Name=%{y}<extra></extra>\",\"legendgroup\":\"\",\"marker\":{\"color\":\"#636efa\",\"pattern\":{\"shape\":\"\"}},\"name\":\"\",\"offsetgroup\":\"\",\"orientation\":\"h\",\"showlegend\":false,\"textposition\":\"auto\",\"type\":\"bar\",\"x\":[0.6208295908298251,0.10217634912738677,0.060904939916866435,0.05474286868792421,0.041806725644299776,0.02502029853691905,0.022931320326721807,0.013203881916201716,0.010802026116204315,0.009290641750257423,0.008638040156191422,0.007802593040637298,0.006719051179015122,0.006496604079609376,0.006015664374827326,0.002619404317112778],\"xaxis\":\"x\",\"y\":[\"Output 1\",\"Input 14\",\"Input 12\",\"Input 11\",\"Input 8\",\"Input 10\",\"Input 9\",\"Input 2\",\"Input 5\",\"Input 1\",\"Input 4\",\"Input 15\",\"Input 13\",\"Input 6\",\"Input 7\",\"Input 3\"],\"yaxis\":\"y\"}],                        {\"autosize\":false,\"barmode\":\"relative\",\"height\":500,\"legend\":{\"tracegroupgap\":0},\"margin\":{\"t\":60},\"template\":{\"data\":{\"bar\":[{\"error_x\":{\"color\":\"#2a3f5f\"},\"error_y\":{\"color\":\"#2a3f5f\"},\"marker\":{\"line\":{\"color\":\"#E5ECF6\",\"width\":0.5},\"pattern\":{\"fillmode\":\"overlay\",\"size\":10,\"solidity\":0.2}},\"type\":\"bar\"}],\"barpolar\":[{\"marker\":{\"line\":{\"color\":\"#E5ECF6\",\"width\":0.5},\"pattern\":{\"fillmode\":\"overlay\",\"size\":10,\"solidity\":0.2}},\"type\":\"barpolar\"}],\"carpet\":[{\"aaxis\":{\"endlinecolor\":\"#2a3f5f\",\"gridcolor\":\"white\",\"linecolor\":\"white\",\"minorgridcolor\":\"white\",\"startlinecolor\":\"#2a3f5f\"},\"baxis\":{\"endlinecolor\":\"#2a3f5f\",\"gridcolor\":\"white\",\"linecolor\":\"white\",\"minorgridcolor\":\"white\",\"startlinecolor\":\"#2a3f5f\"},\"type\":\"carpet\"}],\"choropleth\":[{\"colorbar\":{\"outlinewidth\":0,\"ticks\":\"\"},\"type\":\"choropleth\"}],\"contour\":[{\"colorbar\":{\"outlinewidth\":0,\"ticks\":\"\"},\"colorscale\":[[0.0,\"#0d0887\"],[0.1111111111111111,\"#46039f\"],[0.2222222222222222,\"#7201a8\"],[0.3333333333333333,\"#9c179e\"],[0.4444444444444444,\"#bd3786\"],[0.5555555555555556,\"#d8576b\"],[0.6666666666666666,\"#ed7953\"],[0.7777777777777778,\"#fb9f3a\"],[0.8888888888888888,\"#fdca26\"],[1.0,\"#f0f921\"]],\"type\":\"contour\"}],\"contourcarpet\":[{\"colorbar\":{\"outlinewidth\":0,\"ticks\":\"\"},\"type\":\"contourcarpet\"}],\"heatmap\":[{\"colorbar\":{\"outlinewidth\":0,\"ticks\":\"\"},\"colorscale\":[[0.0,\"#0d0887\"],[0.1111111111111111,\"#46039f\"],[0.2222222222222222,\"#7201a8\"],[0.3333333333333333,\"#9c179e\"],[0.4444444444444444,\"#bd3786\"],[0.5555555555555556,\"#d8576b\"],[0.6666666666666666,\"#ed7953\"],[0.7777777777777778,\"#fb9f3a\"],[0.8888888888888888,\"#fdca26\"],[1.0,\"#f0f921\"]],\"type\":\"heatmap\"}],\"heatmapgl\":[{\"colorbar\":{\"outlinewidth\":0,\"ticks\":\"\"},\"colorscale\":[[0.0,\"#0d0887\"],[0.1111111111111111,\"#46039f\"],[0.2222222222222222,\"#7201a8\"],[0.3333333333333333,\"#9c179e\"],[0.4444444444444444,\"#bd3786\"],[0.5555555555555556,\"#d8576b\"],[0.6666666666666666,\"#ed7953\"],[0.7777777777777778,\"#fb9f3a\"],[0.8888888888888888,\"#fdca26\"],[1.0,\"#f0f921\"]],\"type\":\"heatmapgl\"}],\"histogram\":[{\"marker\":{\"pattern\":{\"fillmode\":\"overlay\",\"size\":10,\"solidity\":0.2}},\"type\":\"histogram\"}],\"histogram2d\":[{\"colorbar\":{\"outlinewidth\":0,\"ticks\":\"\"},\"colorscale\":[[0.0,\"#0d0887\"],[0.1111111111111111,\"#46039f\"],[0.2222222222222222,\"#7201a8\"],[0.3333333333333333,\"#9c179e\"],[0.4444444444444444,\"#bd3786\"],[0.5555555555555556,\"#d8576b\"],[0.6666666666666666,\"#ed7953\"],[0.7777777777777778,\"#fb9f3a\"],[0.8888888888888888,\"#fdca26\"],[1.0,\"#f0f921\"]],\"type\":\"histogram2d\"}],\"histogram2dcontour\":[{\"colorbar\":{\"outlinewidth\":0,\"ticks\":\"\"},\"colorscale\":[[0.0,\"#0d0887\"],[0.1111111111111111,\"#46039f\"],[0.2222222222222222,\"#7201a8\"],[0.3333333333333333,\"#9c179e\"],[0.4444444444444444,\"#bd3786\"],[0.5555555555555556,\"#d8576b\"],[0.6666666666666666,\"#ed7953\"],[0.7777777777777778,\"#fb9f3a\"],[0.8888888888888888,\"#fdca26\"],[1.0,\"#f0f921\"]],\"type\":\"histogram2dcontour\"}],\"mesh3d\":[{\"colorbar\":{\"outlinewidth\":0,\"ticks\":\"\"},\"type\":\"mesh3d\"}],\"parcoords\":[{\"line\":{\"colorbar\":{\"outlinewidth\":0,\"ticks\":\"\"}},\"type\":\"parcoords\"}],\"pie\":[{\"automargin\":true,\"type\":\"pie\"}],\"scatter\":[{\"marker\":{\"colorbar\":{\"outlinewidth\":0,\"ticks\":\"\"}},\"type\":\"scatter\"}],\"scatter3d\":[{\"line\":{\"colorbar\":{\"outlinewidth\":0,\"ticks\":\"\"}},\"marker\":{\"colorbar\":{\"outlinewidth\":0,\"ticks\":\"\"}},\"type\":\"scatter3d\"}],\"scattercarpet\":[{\"marker\":{\"colorbar\":{\"outlinewidth\":0,\"ticks\":\"\"}},\"type\":\"scattercarpet\"}],\"scattergeo\":[{\"marker\":{\"colorbar\":{\"outlinewidth\":0,\"ticks\":\"\"}},\"type\":\"scattergeo\"}],\"scattergl\":[{\"marker\":{\"colorbar\":{\"outlinewidth\":0,\"ticks\":\"\"}},\"type\":\"scattergl\"}],\"scattermapbox\":[{\"marker\":{\"colorbar\":{\"outlinewidth\":0,\"ticks\":\"\"}},\"type\":\"scattermapbox\"}],\"scatterpolar\":[{\"marker\":{\"colorbar\":{\"outlinewidth\":0,\"ticks\":\"\"}},\"type\":\"scatterpolar\"}],\"scatterpolargl\":[{\"marker\":{\"colorbar\":{\"outlinewidth\":0,\"ticks\":\"\"}},\"type\":\"scatterpolargl\"}],\"scatterternary\":[{\"marker\":{\"colorbar\":{\"outlinewidth\":0,\"ticks\":\"\"}},\"type\":\"scatterternary\"}],\"surface\":[{\"colorbar\":{\"outlinewidth\":0,\"ticks\":\"\"},\"colorscale\":[[0.0,\"#0d0887\"],[0.1111111111111111,\"#46039f\"],[0.2222222222222222,\"#7201a8\"],[0.3333333333333333,\"#9c179e\"],[0.4444444444444444,\"#bd3786\"],[0.5555555555555556,\"#d8576b\"],[0.6666666666666666,\"#ed7953\"],[0.7777777777777778,\"#fb9f3a\"],[0.8888888888888888,\"#fdca26\"],[1.0,\"#f0f921\"]],\"type\":\"surface\"}],\"table\":[{\"cells\":{\"fill\":{\"color\":\"#EBF0F8\"},\"line\":{\"color\":\"white\"}},\"header\":{\"fill\":{\"color\":\"#C8D4E3\"},\"line\":{\"color\":\"white\"}},\"type\":\"table\"}]},\"layout\":{\"annotationdefaults\":{\"arrowcolor\":\"#2a3f5f\",\"arrowhead\":0,\"arrowwidth\":1},\"autotypenumbers\":\"strict\",\"coloraxis\":{\"colorbar\":{\"outlinewidth\":0,\"ticks\":\"\"}},\"colorscale\":{\"diverging\":[[0,\"#8e0152\"],[0.1,\"#c51b7d\"],[0.2,\"#de77ae\"],[0.3,\"#f1b6da\"],[0.4,\"#fde0ef\"],[0.5,\"#f7f7f7\"],[0.6,\"#e6f5d0\"],[0.7,\"#b8e186\"],[0.8,\"#7fbc41\"],[0.9,\"#4d9221\"],[1,\"#276419\"]],\"sequential\":[[0.0,\"#0d0887\"],[0.1111111111111111,\"#46039f\"],[0.2222222222222222,\"#7201a8\"],[0.3333333333333333,\"#9c179e\"],[0.4444444444444444,\"#bd3786\"],[0.5555555555555556,\"#d8576b\"],[0.6666666666666666,\"#ed7953\"],[0.7777777777777778,\"#fb9f3a\"],[0.8888888888888888,\"#fdca26\"],[1.0,\"#f0f921\"]],\"sequentialminus\":[[0.0,\"#0d0887\"],[0.1111111111111111,\"#46039f\"],[0.2222222222222222,\"#7201a8\"],[0.3333333333333333,\"#9c179e\"],[0.4444444444444444,\"#bd3786\"],[0.5555555555555556,\"#d8576b\"],[0.6666666666666666,\"#ed7953\"],[0.7777777777777778,\"#fb9f3a\"],[0.8888888888888888,\"#fdca26\"],[1.0,\"#f0f921\"]]},\"colorway\":[\"#636efa\",\"#EF553B\",\"#00cc96\",\"#ab63fa\",\"#FFA15A\",\"#19d3f3\",\"#FF6692\",\"#B6E880\",\"#FF97FF\",\"#FECB52\"],\"font\":{\"color\":\"#2a3f5f\"},\"geo\":{\"bgcolor\":\"white\",\"lakecolor\":\"white\",\"landcolor\":\"#E5ECF6\",\"showlakes\":true,\"showland\":true,\"subunitcolor\":\"white\"},\"hoverlabel\":{\"align\":\"left\"},\"hovermode\":\"closest\",\"mapbox\":{\"style\":\"light\"},\"paper_bgcolor\":\"white\",\"plot_bgcolor\":\"#E5ECF6\",\"polar\":{\"angularaxis\":{\"gridcolor\":\"white\",\"linecolor\":\"white\",\"ticks\":\"\"},\"bgcolor\":\"#E5ECF6\",\"radialaxis\":{\"gridcolor\":\"white\",\"linecolor\":\"white\",\"ticks\":\"\"}},\"scene\":{\"xaxis\":{\"backgroundcolor\":\"#E5ECF6\",\"gridcolor\":\"white\",\"gridwidth\":2,\"linecolor\":\"white\",\"showbackground\":true,\"ticks\":\"\",\"zerolinecolor\":\"white\"},\"yaxis\":{\"backgroundcolor\":\"#E5ECF6\",\"gridcolor\":\"white\",\"gridwidth\":2,\"linecolor\":\"white\",\"showbackground\":true,\"ticks\":\"\",\"zerolinecolor\":\"white\"},\"zaxis\":{\"backgroundcolor\":\"#E5ECF6\",\"gridcolor\":\"white\",\"gridwidth\":2,\"linecolor\":\"white\",\"showbackground\":true,\"ticks\":\"\",\"zerolinecolor\":\"white\"}},\"shapedefaults\":{\"line\":{\"color\":\"#2a3f5f\"}},\"ternary\":{\"aaxis\":{\"gridcolor\":\"white\",\"linecolor\":\"white\",\"ticks\":\"\"},\"baxis\":{\"gridcolor\":\"white\",\"linecolor\":\"white\",\"ticks\":\"\"},\"bgcolor\":\"#E5ECF6\",\"caxis\":{\"gridcolor\":\"white\",\"linecolor\":\"white\",\"ticks\":\"\"}},\"title\":{\"x\":0.05},\"xaxis\":{\"automargin\":true,\"gridcolor\":\"white\",\"linecolor\":\"white\",\"ticks\":\"\",\"title\":{\"standoff\":15},\"zerolinecolor\":\"white\",\"zerolinewidth\":2},\"yaxis\":{\"automargin\":true,\"gridcolor\":\"white\",\"linecolor\":\"white\",\"ticks\":\"\",\"title\":{\"standoff\":15},\"zerolinecolor\":\"white\",\"zerolinewidth\":2}}},\"title\":{\"text\":\"GradientBoostingRegressor Feature Importances\"},\"width\":800,\"xaxis\":{\"anchor\":\"y\",\"domain\":[0.0,1.0],\"title\":{\"text\":\"Importance\"}},\"yaxis\":{\"anchor\":\"x\",\"categoryorder\":\"total ascending\",\"domain\":[0.0,1.0],\"title\":{\"text\":\"Feature Name\"}}},                        {\"responsive\": true}                    ).then(function(){\n",
       "                            \n",
       "var gd = document.getElementById('03ea8ccf-25b3-45d1-bf6e-3cb44e522eea');\n",
       "var x = new MutationObserver(function (mutations, observer) {{\n",
       "        var display = window.getComputedStyle(gd).display;\n",
       "        if (!display || display === 'none') {{\n",
       "            console.log([gd, 'removed!']);\n",
       "            Plotly.purge(gd);\n",
       "            observer.disconnect();\n",
       "        }}\n",
       "}});\n",
       "\n",
       "// Listen for the removal of the full notebook cells\n",
       "var notebookContainer = gd.closest('#notebook-container');\n",
       "if (notebookContainer) {{\n",
       "    x.observe(notebookContainer, {childList: true});\n",
       "}}\n",
       "\n",
       "// Listen for the clearing of the current output cell\n",
       "var outputEl = gd.closest('.output');\n",
       "if (outputEl) {{\n",
       "    x.observe(outputEl, {childList: true});\n",
       "}}\n",
       "\n",
       "                        })                };                });            </script>        </div>"
      ]
     },
     "metadata": {},
     "output_type": "display_data"
    }
   ],
   "source": [
    "fig = px.bar(df_gb, x=\"Importance\", y=\"Feature Name\")\n",
    "\n",
    "fig.update_layout(\n",
    "    autosize=False,\n",
    "    width=800,\n",
    "    height=500,\n",
    "    title_text=f\"GradientBoostingRegressor Feature Importances\",\n",
    "    yaxis={'categoryorder':'total ascending'}\n",
    ")\n",
    "\n",
    "fig.show()"
   ]
  },
  {
   "cell_type": "code",
   "execution_count": 44,
   "id": "579a7c1a-a93a-48f0-91ff-5c2d1e7212f1",
   "metadata": {},
   "outputs": [],
   "source": [
    "model = grid.best_estimator_.fit(X_train, y_train.values.ravel())\n",
    "prediction = model.predict(X_test)"
   ]
  },
  {
   "cell_type": "code",
   "execution_count": 45,
   "id": "31383c06-3f2b-48e3-867b-fc79d0c9124e",
   "metadata": {},
   "outputs": [
    {
     "data": {
      "text/html": [
       "<div><div id=09ab5b3e-6219-4d5a-8216-3a876b2ae747 style=\"display:none; background-color:#9D6CFF; color:white; width:200px; height:30px; padding-left:5px; border-radius:4px; flex-direction:row; justify-content:space-around; align-items:center;\" onmouseover=\"this.style.backgroundColor='#BA9BF8'\" onmouseout=\"this.style.backgroundColor='#9D6CFF'\" onclick=\"window.commands?.execute('create-mitosheet-from-dataframe-output');\">See Full Dataframe in Mito</div> <script> if (window.commands.hasCommand('create-mitosheet-from-dataframe-output')) document.getElementById('09ab5b3e-6219-4d5a-8216-3a876b2ae747').style.display = 'flex' </script> <table border=\"1\" class=\"dataframe\">\n",
       "  <thead>\n",
       "    <tr style=\"text-align: right;\">\n",
       "      <th></th>\n",
       "      <th>Prediction</th>\n",
       "      <th>Actual</th>\n",
       "      <th>Diff</th>\n",
       "      <th>Error_Perc</th>\n",
       "      <th>Error_Perc &lt; 3</th>\n",
       "    </tr>\n",
       "  </thead>\n",
       "  <tbody>\n",
       "    <tr>\n",
       "      <th>DMU 0522</th>\n",
       "      <td>0.6307</td>\n",
       "      <td>0.6447</td>\n",
       "      <td>-0.0140</td>\n",
       "      <td>-2.1717</td>\n",
       "      <td>True</td>\n",
       "    </tr>\n",
       "    <tr>\n",
       "      <th>DMU 0738</th>\n",
       "      <td>0.9327</td>\n",
       "      <td>0.9493</td>\n",
       "      <td>-0.0166</td>\n",
       "      <td>-1.7467</td>\n",
       "      <td>True</td>\n",
       "    </tr>\n",
       "    <tr>\n",
       "      <th>DMU 0741</th>\n",
       "      <td>0.8313</td>\n",
       "      <td>0.8301</td>\n",
       "      <td>0.0012</td>\n",
       "      <td>0.1488</td>\n",
       "      <td>True</td>\n",
       "    </tr>\n",
       "    <tr>\n",
       "      <th>DMU 0661</th>\n",
       "      <td>0.9718</td>\n",
       "      <td>1.0000</td>\n",
       "      <td>-0.0282</td>\n",
       "      <td>-2.8184</td>\n",
       "      <td>True</td>\n",
       "    </tr>\n",
       "    <tr>\n",
       "      <th>DMU 0412</th>\n",
       "      <td>0.9040</td>\n",
       "      <td>1.0000</td>\n",
       "      <td>-0.0960</td>\n",
       "      <td>-9.5983</td>\n",
       "      <td>False</td>\n",
       "    </tr>\n",
       "    <tr>\n",
       "      <th>...</th>\n",
       "      <td>...</td>\n",
       "      <td>...</td>\n",
       "      <td>...</td>\n",
       "      <td>...</td>\n",
       "      <td>...</td>\n",
       "    </tr>\n",
       "    <tr>\n",
       "      <th>DMU 0409</th>\n",
       "      <td>0.8926</td>\n",
       "      <td>0.9051</td>\n",
       "      <td>-0.0125</td>\n",
       "      <td>-1.3855</td>\n",
       "      <td>True</td>\n",
       "    </tr>\n",
       "    <tr>\n",
       "      <th>DMU 0333</th>\n",
       "      <td>0.8402</td>\n",
       "      <td>0.8685</td>\n",
       "      <td>-0.0283</td>\n",
       "      <td>-3.2614</td>\n",
       "      <td>False</td>\n",
       "    </tr>\n",
       "    <tr>\n",
       "      <th>DMU 0209</th>\n",
       "      <td>0.5884</td>\n",
       "      <td>0.6201</td>\n",
       "      <td>-0.0317</td>\n",
       "      <td>-5.1144</td>\n",
       "      <td>False</td>\n",
       "    </tr>\n",
       "    <tr>\n",
       "      <th>DMU 0614</th>\n",
       "      <td>0.9116</td>\n",
       "      <td>1.0000</td>\n",
       "      <td>-0.0884</td>\n",
       "      <td>-8.8379</td>\n",
       "      <td>False</td>\n",
       "    </tr>\n",
       "    <tr>\n",
       "      <th>DMU 0079</th>\n",
       "      <td>0.8789</td>\n",
       "      <td>0.8632</td>\n",
       "      <td>0.0158</td>\n",
       "      <td>1.8256</td>\n",
       "      <td>True</td>\n",
       "    </tr>\n",
       "  </tbody>\n",
       "</table></div>"
      ],
      "text/plain": [
       "          Prediction  Actual    Diff  Error_Perc  Error_Perc < 3\n",
       "DMU 0522      0.6307  0.6447 -0.0140     -2.1717            True\n",
       "DMU 0738      0.9327  0.9493 -0.0166     -1.7467            True\n",
       "DMU 0741      0.8313  0.8301  0.0012      0.1488            True\n",
       "DMU 0661      0.9718  1.0000 -0.0282     -2.8184            True\n",
       "DMU 0412      0.9040  1.0000 -0.0960     -9.5983           False\n",
       "...              ...     ...     ...         ...             ...\n",
       "DMU 0409      0.8926  0.9051 -0.0125     -1.3855            True\n",
       "DMU 0333      0.8402  0.8685 -0.0283     -3.2614           False\n",
       "DMU 0209      0.5884  0.6201 -0.0317     -5.1144           False\n",
       "DMU 0614      0.9116  1.0000 -0.0884     -8.8379           False\n",
       "DMU 0079      0.8789  0.8632  0.0158      1.8256            True\n",
       "\n",
       "[200 rows x 5 columns]"
      ]
     },
     "execution_count": 45,
     "metadata": {},
     "output_type": "execute_result"
    }
   ],
   "source": [
    "res = pd.DataFrame()\n",
    "res[\"Prediction\"] = pd.Series(prediction.ravel())\n",
    "res[\"Actual\"] = y_test.values\n",
    "res[\"Diff\"] = res.Prediction - res.Actual\n",
    "res[\"Error_Perc\"] = ((res.Prediction - res.Actual) / res.Actual) * 100 \n",
    "res[\"Error_Perc < 3\"] = np.abs(res[\"Error_Perc\"]) < 3  \n",
    "res = res.round(4)\n",
    "res.index = X_test.index\n",
    "res"
   ]
  },
  {
   "cell_type": "code",
   "execution_count": 46,
   "id": "eb0cbdcf-8953-4d71-a477-d1e575dd3f32",
   "metadata": {},
   "outputs": [
    {
     "name": "stdout",
     "output_type": "stream",
     "text": [
      "156\n"
     ]
    },
    {
     "data": {
      "text/plain": [
       "44"
      ]
     },
     "execution_count": 46,
     "metadata": {},
     "output_type": "execute_result"
    }
   ],
   "source": [
    "blue = res[\"Error_Perc < 3\"].sum()\n",
    "print(blue)\n",
    "red = len(res[\"Error_Perc < 3\"]) - (res[\"Error_Perc < 3\"].sum())\n",
    "red"
   ]
  },
  {
   "cell_type": "code",
   "execution_count": 47,
   "id": "727ee9f4-8c72-408d-b510-0c1fa4263108",
   "metadata": {},
   "outputs": [
    {
     "name": "stdout",
     "output_type": "stream",
     "text": [
      "rho: 0.9835\n",
      "p-Value 0.0\n"
     ]
    }
   ],
   "source": [
    "rho, p = stats.spearmanr(res.Prediction, res.Actual)\n",
    "print(\"rho:\", rho.round(4)) \n",
    "print(\"p-Value\", p.round(4)) "
   ]
  },
  {
   "cell_type": "code",
   "execution_count": 48,
   "id": "c8c7f798-3136-4f40-896a-54bea647e00c",
   "metadata": {},
   "outputs": [
    {
     "data": {
      "application/vnd.plotly.v1+json": {
       "config": {
        "plotlyServerURL": "https://plot.ly"
       },
       "data": [
        {
         "customdata": [
          [
           -2.1717,
           "DMU 0522"
          ],
          [
           -1.7467,
           "DMU 0738"
          ],
          [
           0.1488,
           "DMU 0741"
          ],
          [
           -2.8184,
           "DMU 0661"
          ],
          [
           -2.0256,
           "DMU 0627"
          ],
          [
           -1.4547,
           "DMU 0514"
          ],
          [
           0.263,
           "DMU 0860"
          ],
          [
           -1.2211,
           "DMU 0137"
          ],
          [
           1.2209,
           "DMU 0812"
          ],
          [
           -0.4136,
           "DMU 0077"
          ],
          [
           0.6581,
           "DMU 0939"
          ],
          [
           1.5769,
           "DMU 0900"
          ],
          [
           2.7029,
           "DMU 0281"
          ],
          [
           -0.8484,
           "DMU 0884"
          ],
          [
           1.1142,
           "DMU 0320"
          ],
          [
           -2.1027,
           "DMU 0550"
          ],
          [
           -1.4956,
           "DMU 0175"
          ],
          [
           -1.5872,
           "DMU 0372"
          ],
          [
           -1.5087,
           "DMU 0528"
          ],
          [
           1.8297,
           "DMU 0211"
          ],
          [
           -0.4487,
           "DMU 0236"
          ],
          [
           2.8269,
           "DMU 0102"
          ],
          [
           2.224,
           "DMU 0987"
          ],
          [
           -0.6426,
           "DMU 0903"
          ],
          [
           -1.9897,
           "DMU 0948"
          ],
          [
           1.2193,
           "DMU 0347"
          ],
          [
           2.0052,
           "DMU 0140"
          ],
          [
           2.3314,
           "DMU 0500"
          ],
          [
           -1.844,
           "DMU 0371"
          ],
          [
           2.7649,
           "DMU 0902"
          ],
          [
           1.7523,
           "DMU 0060"
          ],
          [
           1.3206,
           "DMU 0329"
          ],
          [
           -2.6124,
           "DMU 0097"
          ],
          [
           1.079,
           "DMU 0975"
          ],
          [
           2.6564,
           "DMU 0300"
          ],
          [
           0.0805,
           "DMU 0925"
          ],
          [
           0.9477,
           "DMU 0602"
          ],
          [
           -1.7807,
           "DMU 0440"
          ],
          [
           -0.4049,
           "DMU 0838"
          ],
          [
           0.5395,
           "DMU 0880"
          ],
          [
           -2.2379,
           "DMU 0579"
          ],
          [
           1.2399,
           "DMU 0024"
          ],
          [
           -1.0751,
           "DMU 0031"
          ],
          [
           2.2353,
           "DMU 0618"
          ],
          [
           2.606,
           "DMU 0222"
          ],
          [
           -0.4949,
           "DMU 0821"
          ],
          [
           2.022,
           "DMU 0297"
          ],
          [
           2.0012,
           "DMU 0055"
          ],
          [
           1.3977,
           "DMU 0543"
          ],
          [
           1.4411,
           "DMU 0210"
          ],
          [
           1.8027,
           "DMU 0605"
          ],
          [
           -0.2875,
           "DMU 0693"
          ],
          [
           0.9917,
           "DMU 0867"
          ],
          [
           0.2925,
           "DMU 0071"
          ],
          [
           1.8614,
           "DMU 0544"
          ],
          [
           -1.9029,
           "DMU 0108"
          ],
          [
           -0.3079,
           "DMU 0494"
          ],
          [
           2.0389,
           "DMU 0591"
          ],
          [
           1.8755,
           "DMU 0293"
          ],
          [
           -1.1671,
           "DMU 0290"
          ],
          [
           0.6486,
           "DMU 0653"
          ],
          [
           -1.8459,
           "DMU 0040"
          ],
          [
           0.2499,
           "DMU 0590"
          ],
          [
           2.5143,
           "DMU 0308"
          ],
          [
           0.7363,
           "DMU 0680"
          ],
          [
           -1.2691,
           "DMU 0067"
          ],
          [
           -1.7684,
           "DMU 0276"
          ],
          [
           -1.8725,
           "DMU 0068"
          ],
          [
           0.8212,
           "DMU 0319"
          ],
          [
           0.5011,
           "DMU 0999"
          ],
          [
           -2.4111,
           "DMU 0715"
          ],
          [
           -0.9499,
           "DMU 0754"
          ],
          [
           2.7296,
           "DMU 0328"
          ],
          [
           0.4648,
           "DMU 0523"
          ],
          [
           -1.3679,
           "DMU 0437"
          ],
          [
           0.8324,
           "DMU 0089"
          ],
          [
           -1.958,
           "DMU 0064"
          ],
          [
           1.3684,
           "DMU 0717"
          ],
          [
           2.5991,
           "DMU 0352"
          ],
          [
           0.8828,
           "DMU 0937"
          ],
          [
           0.9306,
           "DMU 0645"
          ],
          [
           -0.168,
           "DMU 0555"
          ],
          [
           -1.644,
           "DMU 0918"
          ],
          [
           -0.4367,
           "DMU 0529"
          ],
          [
           -0.7901,
           "DMU 0824"
          ],
          [
           -1.7748,
           "DMU 0986"
          ],
          [
           1.8648,
           "DMU 0817"
          ],
          [
           -2.8223,
           "DMU 0087"
          ],
          [
           -1.3995,
           "DMU 0433"
          ],
          [
           1.9883,
           "DMU 0185"
          ],
          [
           -1.2208,
           "DMU 0979"
          ],
          [
           2.6584,
           "DMU 0295"
          ],
          [
           2.7208,
           "DMU 0426"
          ],
          [
           -1.412,
           "DMU 0238"
          ],
          [
           0.0474,
           "DMU 0560"
          ],
          [
           -0.0803,
           "DMU 0584"
          ],
          [
           2.1637,
           "DMU 0446"
          ],
          [
           1.2533,
           "DMU 0801"
          ],
          [
           0.5394,
           "DMU 0850"
          ],
          [
           1.5287,
           "DMU 0266"
          ],
          [
           1.5532,
           "DMU 0996"
          ],
          [
           -1.0666,
           "DMU 0530"
          ],
          [
           2.5313,
           "DMU 0056"
          ],
          [
           1.824,
           "DMU 0121"
          ],
          [
           0.6501,
           "DMU 0073"
          ],
          [
           -2.8042,
           "DMU 0045"
          ],
          [
           -0.0643,
           "DMU 0248"
          ],
          [
           -2.3721,
           "DMU 0722"
          ],
          [
           0.3649,
           "DMU 0282"
          ],
          [
           0.5335,
           "DMU 0915"
          ],
          [
           -1.8623,
           "DMU 0245"
          ],
          [
           -1.6104,
           "DMU 0823"
          ],
          [
           -2.605,
           "DMU 0322"
          ],
          [
           -1.5865,
           "DMU 0644"
          ],
          [
           -0.7275,
           "DMU 0159"
          ],
          [
           -0.2692,
           "DMU 0978"
          ],
          [
           -1.0832,
           "DMU 0942"
          ],
          [
           0.9474,
           "DMU 0463"
          ],
          [
           -2.0229,
           "DMU 0698"
          ],
          [
           0.5742,
           "DMU 0061"
          ],
          [
           -2.7281,
           "DMU 0885"
          ],
          [
           -2.2824,
           "DMU 0596"
          ],
          [
           1.522,
           "DMU 0768"
          ],
          [
           0.7766,
           "DMU 0650"
          ],
          [
           -0.2394,
           "DMU 0651"
          ],
          [
           -0.8654,
           "DMU 0669"
          ],
          [
           -2.6072,
           "DMU 0299"
          ],
          [
           2.0233,
           "DMU 0690"
          ],
          [
           2.3362,
           "DMU 0315"
          ],
          [
           0.2161,
           "DMU 0311"
          ],
          [
           2.0574,
           "DMU 0362"
          ],
          [
           -0.1575,
           "DMU 0480"
          ],
          [
           -1.7429,
           "DMU 0111"
          ],
          [
           -0.9366,
           "DMU 0990"
          ],
          [
           0.5401,
           "DMU 0487"
          ],
          [
           0.3564,
           "DMU 0364"
          ],
          [
           -2.2079,
           "DMU 0255"
          ],
          [
           2.953,
           "DMU 0260"
          ],
          [
           0.0506,
           "DMU 0803"
          ],
          [
           1.5507,
           "DMU 0678"
          ],
          [
           1.6655,
           "DMU 0495"
          ],
          [
           2.0452,
           "DMU 0671"
          ],
          [
           -1.3466,
           "DMU 0378"
          ],
          [
           2.5575,
           "DMU 0527"
          ],
          [
           2.5483,
           "DMU 0846"
          ],
          [
           -2.3135,
           "DMU 0138"
          ],
          [
           2.2154,
           "DMU 0356"
          ],
          [
           -1.398,
           "DMU 0366"
          ],
          [
           -1.8628,
           "DMU 0943"
          ],
          [
           -0.8355,
           "DMU 0750"
          ],
          [
           -2.9355,
           "DMU 0949"
          ],
          [
           -1.3464,
           "DMU 0830"
          ],
          [
           -1.531,
           "DMU 0657"
          ],
          [
           -1.567,
           "DMU 0214"
          ],
          [
           -1.3855,
           "DMU 0409"
          ],
          [
           1.8256,
           "DMU 0079"
          ]
         ],
         "hovertemplate": "Error_Perc < 3=True<br>Actual=%{x}<br>Prediction=%{y}<br>Error_Perc=%{customdata[0]}<br>DMU=%{customdata[1]}<extra></extra>",
         "legendgroup": "True",
         "marker": {
          "color": "blue",
          "symbol": "circle"
         },
         "mode": "markers",
         "name": "True",
         "orientation": "v",
         "showlegend": true,
         "type": "scatter",
         "x": [
          0.6447,
          0.9493,
          0.8301,
          1,
          0.7914,
          0.8672,
          0.651,
          0.8617,
          0.7103,
          0.8667,
          0.6271,
          0.8843,
          0.8654,
          0.6196,
          0.6673,
          0.8156,
          0.9151,
          0.7821,
          0.7193,
          0.6276,
          0.6911,
          0.7953,
          0.8569,
          0.9738,
          0.6482,
          0.6755,
          0.6157,
          0.7972,
          0.8921,
          1,
          0.7606,
          0.8194,
          0.5735,
          0.6371,
          0.6874,
          0.6659,
          0.8499,
          0.8628,
          0.8933,
          0.7847,
          0.7948,
          0.7329,
          0.9043,
          0.9795,
          0.7353,
          0.7403,
          0.6617,
          0.7084,
          0.7414,
          0.9157,
          0.8253,
          0.7664,
          0.6515,
          0.9316,
          0.7218,
          0.6907,
          0.8696,
          0.9497,
          0.9137,
          0.7764,
          0.7008,
          0.732,
          0.9537,
          0.6356,
          0.7733,
          0.7016,
          0.6922,
          0.7621,
          0.7983,
          0.7588,
          0.6803,
          0.7676,
          0.7954,
          0.7724,
          0.9817,
          0.9955,
          0.9253,
          0.7332,
          0.8266,
          0.5927,
          0.7204,
          0.7949,
          0.7735,
          0.644,
          0.6489,
          0.6793,
          0.9286,
          0.6749,
          0.8043,
          0.8196,
          0.9314,
          0.9619,
          0.7465,
          0.7684,
          0.8678,
          0.882,
          0.7369,
          0.6994,
          0.7721,
          1,
          0.7295,
          0.7759,
          0.7749,
          0.9102,
          0.7536,
          1,
          0.8634,
          0.9062,
          0.7778,
          0.8774,
          0.7901,
          0.9607,
          0.8411,
          0.792,
          0.7058,
          0.7221,
          0.8439,
          0.893,
          0.7723,
          0.7243,
          0.914,
          1,
          0.7575,
          0.8573,
          0.7907,
          0.8159,
          0.6937,
          0.7757,
          0.8035,
          0.7149,
          0.4753,
          0.7957,
          0.9365,
          0.9491,
          0.891,
          0.7091,
          0.6876,
          0.5917,
          0.7372,
          0.9105,
          0.5874,
          1,
          1,
          0.524,
          0.6541,
          0.9128,
          1,
          0.9281,
          0.7502,
          0.6551,
          0.8694,
          0.9591,
          0.9613,
          0.85,
          0.9051,
          0.8632
         ],
         "xaxis": "x",
         "y": [
          0.6307,
          0.9327,
          0.8313,
          0.9718,
          0.7754,
          0.8546,
          0.6527,
          0.8512,
          0.719,
          0.8631,
          0.6312,
          0.8982,
          0.8888,
          0.6143,
          0.6747,
          0.7984,
          0.9014,
          0.7697,
          0.7084,
          0.6391,
          0.688,
          0.8178,
          0.876,
          0.9675,
          0.6353,
          0.6838,
          0.6281,
          0.8158,
          0.8756,
          1.0276,
          0.7739,
          0.8302,
          0.5586,
          0.644,
          0.7057,
          0.6664,
          0.8579,
          0.8474,
          0.8896,
          0.789,
          0.777,
          0.742,
          0.8946,
          1.0014,
          0.7545,
          0.7366,
          0.6751,
          0.7226,
          0.7518,
          0.9289,
          0.8402,
          0.7642,
          0.6579,
          0.9343,
          0.7352,
          0.6776,
          0.8669,
          0.969,
          0.9308,
          0.7673,
          0.7053,
          0.7185,
          0.9561,
          0.6515,
          0.779,
          0.6927,
          0.6799,
          0.7479,
          0.8048,
          0.7626,
          0.6639,
          0.7603,
          0.8171,
          0.7759,
          0.9683,
          1.0038,
          0.9072,
          0.7432,
          0.848,
          0.5979,
          0.7271,
          0.7936,
          0.7608,
          0.6411,
          0.6438,
          0.6672,
          0.9459,
          0.6559,
          0.793,
          0.8359,
          0.9201,
          0.9875,
          0.7668,
          0.7576,
          0.8682,
          0.8813,
          0.7528,
          0.7082,
          0.7763,
          1.0153,
          0.7409,
          0.7677,
          0.7945,
          0.9268,
          0.7585,
          0.972,
          0.8629,
          0.8847,
          0.7807,
          0.8821,
          0.7754,
          0.9452,
          0.8192,
          0.7794,
          0.7007,
          0.7201,
          0.8347,
          0.9015,
          0.7567,
          0.7284,
          0.889,
          0.9772,
          0.769,
          0.864,
          0.7889,
          0.8088,
          0.6756,
          0.7914,
          0.8223,
          0.7165,
          0.4851,
          0.7945,
          0.9202,
          0.9402,
          0.8959,
          0.7116,
          0.6724,
          0.6092,
          0.7376,
          0.9246,
          0.5972,
          1.0205,
          0.9865,
          0.5374,
          0.6708,
          0.8916,
          1.0222,
          0.9151,
          0.7363,
          0.6496,
          0.8439,
          0.9462,
          0.9466,
          0.8367,
          0.8926,
          0.8789
         ],
         "yaxis": "y"
        },
        {
         "customdata": [
          [
           -9.5983,
           "DMU 0412"
          ],
          [
           -3.3238,
           "DMU 0679"
          ],
          [
           -5.1196,
           "DMU 0637"
          ],
          [
           5.3624,
           "DMU 0974"
          ],
          [
           -4.1763,
           "DMU 0762"
          ],
          [
           -6.6052,
           "DMU 0622"
          ],
          [
           -3.052,
           "DMU 0199"
          ],
          [
           3.5355,
           "DMU 0688"
          ],
          [
           -4.6553,
           "DMU 0585"
          ],
          [
           3.4513,
           "DMU 0313"
          ],
          [
           -3.9296,
           "DMU 0278"
          ],
          [
           3.8926,
           "DMU 0571"
          ],
          [
           4.2231,
           "DMU 0262"
          ],
          [
           -8.8981,
           "DMU 0011"
          ],
          [
           -4.2224,
           "DMU 0663"
          ],
          [
           -3.9012,
           "DMU 0742"
          ],
          [
           -4.625,
           "DMU 0549"
          ],
          [
           3.1112,
           "DMU 0383"
          ],
          [
           -6.7261,
           "DMU 0452"
          ],
          [
           5.1939,
           "DMU 0219"
          ],
          [
           3.9274,
           "DMU 0788"
          ],
          [
           6.6075,
           "DMU 0765"
          ],
          [
           3.4322,
           "DMU 0827"
          ],
          [
           3.9696,
           "DMU 0257"
          ],
          [
           -4.3561,
           "DMU 0636"
          ],
          [
           3.3289,
           "DMU 0960"
          ],
          [
           3.1992,
           "DMU 0169"
          ],
          [
           -4.6581,
           "DMU 0535"
          ],
          [
           3.2105,
           "DMU 0893"
          ],
          [
           3.0016,
           "DMU 0714"
          ],
          [
           5.4667,
           "DMU 0261"
          ],
          [
           4.0356,
           "DMU 0868"
          ],
          [
           -3.3924,
           "DMU 0600"
          ],
          [
           3.5781,
           "DMU 0216"
          ],
          [
           5.5765,
           "DMU 0026"
          ],
          [
           -3.9029,
           "DMU 0894"
          ],
          [
           6.0451,
           "DMU 0811"
          ],
          [
           3.3242,
           "DMU 0430"
          ],
          [
           -3.5005,
           "DMU 0310"
          ],
          [
           3.371,
           "DMU 0866"
          ],
          [
           -3.6463,
           "DMU 0200"
          ],
          [
           -3.2614,
           "DMU 0333"
          ],
          [
           -5.1144,
           "DMU 0209"
          ],
          [
           -8.8379,
           "DMU 0614"
          ]
         ],
         "hovertemplate": "Error_Perc < 3=False<br>Actual=%{x}<br>Prediction=%{y}<br>Error_Perc=%{customdata[0]}<br>DMU=%{customdata[1]}<extra></extra>",
         "legendgroup": "False",
         "marker": {
          "color": "red",
          "symbol": "circle"
         },
         "mode": "markers",
         "name": "False",
         "orientation": "v",
         "showlegend": true,
         "type": "scatter",
         "x": [
          1,
          0.8447,
          0.9283,
          0.8036,
          0.705,
          0.808,
          0.8045,
          0.8422,
          0.9055,
          0.8498,
          0.8292,
          0.7796,
          0.8297,
          0.9142,
          0.5953,
          0.6698,
          0.7723,
          0.8834,
          0.7484,
          0.7775,
          0.7315,
          0.532,
          0.6244,
          0.8911,
          0.9402,
          0.6306,
          0.6431,
          0.7804,
          0.8704,
          0.8221,
          0.7959,
          0.6419,
          1,
          0.721,
          0.569,
          1,
          0.7246,
          0.813,
          1,
          0.773,
          1,
          0.8685,
          0.6201,
          1
         ],
         "xaxis": "x",
         "y": [
          0.904,
          0.8167,
          0.8808,
          0.8467,
          0.6756,
          0.7546,
          0.7799,
          0.872,
          0.8634,
          0.8791,
          0.7966,
          0.81,
          0.8648,
          0.8328,
          0.5701,
          0.6437,
          0.7366,
          0.9109,
          0.6981,
          0.8179,
          0.7603,
          0.5672,
          0.6459,
          0.9264,
          0.8993,
          0.6516,
          0.6636,
          0.7441,
          0.8983,
          0.8468,
          0.8394,
          0.6678,
          0.9661,
          0.7468,
          0.6007,
          0.961,
          0.7684,
          0.84,
          0.965,
          0.799,
          0.9635,
          0.8402,
          0.5884,
          0.9116
         ],
         "yaxis": "y"
        }
       ],
       "layout": {
        "autosize": false,
        "height": 500,
        "legend": {
         "title": {
          "text": "Error_Perc < 3"
         },
         "tracegroupgap": 0
        },
        "margin": {
         "t": 60
        },
        "template": {
         "data": {
          "bar": [
           {
            "error_x": {
             "color": "#2a3f5f"
            },
            "error_y": {
             "color": "#2a3f5f"
            },
            "marker": {
             "line": {
              "color": "#E5ECF6",
              "width": 0.5
             },
             "pattern": {
              "fillmode": "overlay",
              "size": 10,
              "solidity": 0.2
             }
            },
            "type": "bar"
           }
          ],
          "barpolar": [
           {
            "marker": {
             "line": {
              "color": "#E5ECF6",
              "width": 0.5
             },
             "pattern": {
              "fillmode": "overlay",
              "size": 10,
              "solidity": 0.2
             }
            },
            "type": "barpolar"
           }
          ],
          "carpet": [
           {
            "aaxis": {
             "endlinecolor": "#2a3f5f",
             "gridcolor": "white",
             "linecolor": "white",
             "minorgridcolor": "white",
             "startlinecolor": "#2a3f5f"
            },
            "baxis": {
             "endlinecolor": "#2a3f5f",
             "gridcolor": "white",
             "linecolor": "white",
             "minorgridcolor": "white",
             "startlinecolor": "#2a3f5f"
            },
            "type": "carpet"
           }
          ],
          "choropleth": [
           {
            "colorbar": {
             "outlinewidth": 0,
             "ticks": ""
            },
            "type": "choropleth"
           }
          ],
          "contour": [
           {
            "colorbar": {
             "outlinewidth": 0,
             "ticks": ""
            },
            "colorscale": [
             [
              0,
              "#0d0887"
             ],
             [
              0.1111111111111111,
              "#46039f"
             ],
             [
              0.2222222222222222,
              "#7201a8"
             ],
             [
              0.3333333333333333,
              "#9c179e"
             ],
             [
              0.4444444444444444,
              "#bd3786"
             ],
             [
              0.5555555555555556,
              "#d8576b"
             ],
             [
              0.6666666666666666,
              "#ed7953"
             ],
             [
              0.7777777777777778,
              "#fb9f3a"
             ],
             [
              0.8888888888888888,
              "#fdca26"
             ],
             [
              1,
              "#f0f921"
             ]
            ],
            "type": "contour"
           }
          ],
          "contourcarpet": [
           {
            "colorbar": {
             "outlinewidth": 0,
             "ticks": ""
            },
            "type": "contourcarpet"
           }
          ],
          "heatmap": [
           {
            "colorbar": {
             "outlinewidth": 0,
             "ticks": ""
            },
            "colorscale": [
             [
              0,
              "#0d0887"
             ],
             [
              0.1111111111111111,
              "#46039f"
             ],
             [
              0.2222222222222222,
              "#7201a8"
             ],
             [
              0.3333333333333333,
              "#9c179e"
             ],
             [
              0.4444444444444444,
              "#bd3786"
             ],
             [
              0.5555555555555556,
              "#d8576b"
             ],
             [
              0.6666666666666666,
              "#ed7953"
             ],
             [
              0.7777777777777778,
              "#fb9f3a"
             ],
             [
              0.8888888888888888,
              "#fdca26"
             ],
             [
              1,
              "#f0f921"
             ]
            ],
            "type": "heatmap"
           }
          ],
          "heatmapgl": [
           {
            "colorbar": {
             "outlinewidth": 0,
             "ticks": ""
            },
            "colorscale": [
             [
              0,
              "#0d0887"
             ],
             [
              0.1111111111111111,
              "#46039f"
             ],
             [
              0.2222222222222222,
              "#7201a8"
             ],
             [
              0.3333333333333333,
              "#9c179e"
             ],
             [
              0.4444444444444444,
              "#bd3786"
             ],
             [
              0.5555555555555556,
              "#d8576b"
             ],
             [
              0.6666666666666666,
              "#ed7953"
             ],
             [
              0.7777777777777778,
              "#fb9f3a"
             ],
             [
              0.8888888888888888,
              "#fdca26"
             ],
             [
              1,
              "#f0f921"
             ]
            ],
            "type": "heatmapgl"
           }
          ],
          "histogram": [
           {
            "marker": {
             "pattern": {
              "fillmode": "overlay",
              "size": 10,
              "solidity": 0.2
             }
            },
            "type": "histogram"
           }
          ],
          "histogram2d": [
           {
            "colorbar": {
             "outlinewidth": 0,
             "ticks": ""
            },
            "colorscale": [
             [
              0,
              "#0d0887"
             ],
             [
              0.1111111111111111,
              "#46039f"
             ],
             [
              0.2222222222222222,
              "#7201a8"
             ],
             [
              0.3333333333333333,
              "#9c179e"
             ],
             [
              0.4444444444444444,
              "#bd3786"
             ],
             [
              0.5555555555555556,
              "#d8576b"
             ],
             [
              0.6666666666666666,
              "#ed7953"
             ],
             [
              0.7777777777777778,
              "#fb9f3a"
             ],
             [
              0.8888888888888888,
              "#fdca26"
             ],
             [
              1,
              "#f0f921"
             ]
            ],
            "type": "histogram2d"
           }
          ],
          "histogram2dcontour": [
           {
            "colorbar": {
             "outlinewidth": 0,
             "ticks": ""
            },
            "colorscale": [
             [
              0,
              "#0d0887"
             ],
             [
              0.1111111111111111,
              "#46039f"
             ],
             [
              0.2222222222222222,
              "#7201a8"
             ],
             [
              0.3333333333333333,
              "#9c179e"
             ],
             [
              0.4444444444444444,
              "#bd3786"
             ],
             [
              0.5555555555555556,
              "#d8576b"
             ],
             [
              0.6666666666666666,
              "#ed7953"
             ],
             [
              0.7777777777777778,
              "#fb9f3a"
             ],
             [
              0.8888888888888888,
              "#fdca26"
             ],
             [
              1,
              "#f0f921"
             ]
            ],
            "type": "histogram2dcontour"
           }
          ],
          "mesh3d": [
           {
            "colorbar": {
             "outlinewidth": 0,
             "ticks": ""
            },
            "type": "mesh3d"
           }
          ],
          "parcoords": [
           {
            "line": {
             "colorbar": {
              "outlinewidth": 0,
              "ticks": ""
             }
            },
            "type": "parcoords"
           }
          ],
          "pie": [
           {
            "automargin": true,
            "type": "pie"
           }
          ],
          "scatter": [
           {
            "marker": {
             "colorbar": {
              "outlinewidth": 0,
              "ticks": ""
             }
            },
            "type": "scatter"
           }
          ],
          "scatter3d": [
           {
            "line": {
             "colorbar": {
              "outlinewidth": 0,
              "ticks": ""
             }
            },
            "marker": {
             "colorbar": {
              "outlinewidth": 0,
              "ticks": ""
             }
            },
            "type": "scatter3d"
           }
          ],
          "scattercarpet": [
           {
            "marker": {
             "colorbar": {
              "outlinewidth": 0,
              "ticks": ""
             }
            },
            "type": "scattercarpet"
           }
          ],
          "scattergeo": [
           {
            "marker": {
             "colorbar": {
              "outlinewidth": 0,
              "ticks": ""
             }
            },
            "type": "scattergeo"
           }
          ],
          "scattergl": [
           {
            "marker": {
             "colorbar": {
              "outlinewidth": 0,
              "ticks": ""
             }
            },
            "type": "scattergl"
           }
          ],
          "scattermapbox": [
           {
            "marker": {
             "colorbar": {
              "outlinewidth": 0,
              "ticks": ""
             }
            },
            "type": "scattermapbox"
           }
          ],
          "scatterpolar": [
           {
            "marker": {
             "colorbar": {
              "outlinewidth": 0,
              "ticks": ""
             }
            },
            "type": "scatterpolar"
           }
          ],
          "scatterpolargl": [
           {
            "marker": {
             "colorbar": {
              "outlinewidth": 0,
              "ticks": ""
             }
            },
            "type": "scatterpolargl"
           }
          ],
          "scatterternary": [
           {
            "marker": {
             "colorbar": {
              "outlinewidth": 0,
              "ticks": ""
             }
            },
            "type": "scatterternary"
           }
          ],
          "surface": [
           {
            "colorbar": {
             "outlinewidth": 0,
             "ticks": ""
            },
            "colorscale": [
             [
              0,
              "#0d0887"
             ],
             [
              0.1111111111111111,
              "#46039f"
             ],
             [
              0.2222222222222222,
              "#7201a8"
             ],
             [
              0.3333333333333333,
              "#9c179e"
             ],
             [
              0.4444444444444444,
              "#bd3786"
             ],
             [
              0.5555555555555556,
              "#d8576b"
             ],
             [
              0.6666666666666666,
              "#ed7953"
             ],
             [
              0.7777777777777778,
              "#fb9f3a"
             ],
             [
              0.8888888888888888,
              "#fdca26"
             ],
             [
              1,
              "#f0f921"
             ]
            ],
            "type": "surface"
           }
          ],
          "table": [
           {
            "cells": {
             "fill": {
              "color": "#EBF0F8"
             },
             "line": {
              "color": "white"
             }
            },
            "header": {
             "fill": {
              "color": "#C8D4E3"
             },
             "line": {
              "color": "white"
             }
            },
            "type": "table"
           }
          ]
         },
         "layout": {
          "annotationdefaults": {
           "arrowcolor": "#2a3f5f",
           "arrowhead": 0,
           "arrowwidth": 1
          },
          "autotypenumbers": "strict",
          "coloraxis": {
           "colorbar": {
            "outlinewidth": 0,
            "ticks": ""
           }
          },
          "colorscale": {
           "diverging": [
            [
             0,
             "#8e0152"
            ],
            [
             0.1,
             "#c51b7d"
            ],
            [
             0.2,
             "#de77ae"
            ],
            [
             0.3,
             "#f1b6da"
            ],
            [
             0.4,
             "#fde0ef"
            ],
            [
             0.5,
             "#f7f7f7"
            ],
            [
             0.6,
             "#e6f5d0"
            ],
            [
             0.7,
             "#b8e186"
            ],
            [
             0.8,
             "#7fbc41"
            ],
            [
             0.9,
             "#4d9221"
            ],
            [
             1,
             "#276419"
            ]
           ],
           "sequential": [
            [
             0,
             "#0d0887"
            ],
            [
             0.1111111111111111,
             "#46039f"
            ],
            [
             0.2222222222222222,
             "#7201a8"
            ],
            [
             0.3333333333333333,
             "#9c179e"
            ],
            [
             0.4444444444444444,
             "#bd3786"
            ],
            [
             0.5555555555555556,
             "#d8576b"
            ],
            [
             0.6666666666666666,
             "#ed7953"
            ],
            [
             0.7777777777777778,
             "#fb9f3a"
            ],
            [
             0.8888888888888888,
             "#fdca26"
            ],
            [
             1,
             "#f0f921"
            ]
           ],
           "sequentialminus": [
            [
             0,
             "#0d0887"
            ],
            [
             0.1111111111111111,
             "#46039f"
            ],
            [
             0.2222222222222222,
             "#7201a8"
            ],
            [
             0.3333333333333333,
             "#9c179e"
            ],
            [
             0.4444444444444444,
             "#bd3786"
            ],
            [
             0.5555555555555556,
             "#d8576b"
            ],
            [
             0.6666666666666666,
             "#ed7953"
            ],
            [
             0.7777777777777778,
             "#fb9f3a"
            ],
            [
             0.8888888888888888,
             "#fdca26"
            ],
            [
             1,
             "#f0f921"
            ]
           ]
          },
          "colorway": [
           "#636efa",
           "#EF553B",
           "#00cc96",
           "#ab63fa",
           "#FFA15A",
           "#19d3f3",
           "#FF6692",
           "#B6E880",
           "#FF97FF",
           "#FECB52"
          ],
          "font": {
           "color": "#2a3f5f"
          },
          "geo": {
           "bgcolor": "white",
           "lakecolor": "white",
           "landcolor": "#E5ECF6",
           "showlakes": true,
           "showland": true,
           "subunitcolor": "white"
          },
          "hoverlabel": {
           "align": "left"
          },
          "hovermode": "closest",
          "mapbox": {
           "style": "light"
          },
          "paper_bgcolor": "white",
          "plot_bgcolor": "#E5ECF6",
          "polar": {
           "angularaxis": {
            "gridcolor": "white",
            "linecolor": "white",
            "ticks": ""
           },
           "bgcolor": "#E5ECF6",
           "radialaxis": {
            "gridcolor": "white",
            "linecolor": "white",
            "ticks": ""
           }
          },
          "scene": {
           "xaxis": {
            "backgroundcolor": "#E5ECF6",
            "gridcolor": "white",
            "gridwidth": 2,
            "linecolor": "white",
            "showbackground": true,
            "ticks": "",
            "zerolinecolor": "white"
           },
           "yaxis": {
            "backgroundcolor": "#E5ECF6",
            "gridcolor": "white",
            "gridwidth": 2,
            "linecolor": "white",
            "showbackground": true,
            "ticks": "",
            "zerolinecolor": "white"
           },
           "zaxis": {
            "backgroundcolor": "#E5ECF6",
            "gridcolor": "white",
            "gridwidth": 2,
            "linecolor": "white",
            "showbackground": true,
            "ticks": "",
            "zerolinecolor": "white"
           }
          },
          "shapedefaults": {
           "line": {
            "color": "#2a3f5f"
           }
          },
          "ternary": {
           "aaxis": {
            "gridcolor": "white",
            "linecolor": "white",
            "ticks": ""
           },
           "baxis": {
            "gridcolor": "white",
            "linecolor": "white",
            "ticks": ""
           },
           "bgcolor": "#E5ECF6",
           "caxis": {
            "gridcolor": "white",
            "linecolor": "white",
            "ticks": ""
           }
          },
          "title": {
           "x": 0.05
          },
          "xaxis": {
           "automargin": true,
           "gridcolor": "white",
           "linecolor": "white",
           "ticks": "",
           "title": {
            "standoff": 15
           },
           "zerolinecolor": "white",
           "zerolinewidth": 2
          },
          "yaxis": {
           "automargin": true,
           "gridcolor": "white",
           "linecolor": "white",
           "ticks": "",
           "title": {
            "standoff": 15
           },
           "zerolinecolor": "white",
           "zerolinewidth": 2
          }
         }
        },
        "title": {
         "text": "Prediction - Actual Comparison (Blue: 156, Red: 44)"
        },
        "width": 800,
        "xaxis": {
         "anchor": "y",
         "autorange": true,
         "domain": [
          0,
          1
         ],
         "range": [
          0.44195213133640554,
          1.0333478686635944
         ],
         "title": {
          "text": "Actual"
         },
         "type": "linear"
        },
        "yaxis": {
         "anchor": "x",
         "autorange": true,
         "domain": [
          0,
          1
         ],
         "range": [
          0.44781919431279615,
          1.064880805687204
         ],
         "title": {
          "text": "Prediction"
         },
         "type": "linear"
        }
       }
      },
      "image/png": "[encoded data removed]",
      "text/html": [
       "<div>                            <div id=\"32f1cdc9-05fc-45b5-863f-8dbcbbdc94e3\" class=\"plotly-graph-div\" style=\"height:500px; width:800px;\"></div>            <script type=\"text/javascript\">                require([\"plotly\"], function(Plotly) {                    window.PLOTLYENV=window.PLOTLYENV || {};                                    if (document.getElementById(\"32f1cdc9-05fc-45b5-863f-8dbcbbdc94e3\")) {                    Plotly.newPlot(                        \"32f1cdc9-05fc-45b5-863f-8dbcbbdc94e3\",                        [{\"customdata\":[[-2.1717,\"DMU 0522\"],[-1.7467,\"DMU 0738\"],[0.1488,\"DMU 0741\"],[-2.8184,\"DMU 0661\"],[-2.0256,\"DMU 0627\"],[-1.4547,\"DMU 0514\"],[0.263,\"DMU 0860\"],[-1.2211,\"DMU 0137\"],[1.2209,\"DMU 0812\"],[-0.4136,\"DMU 0077\"],[0.6581,\"DMU 0939\"],[1.5769,\"DMU 0900\"],[2.7029,\"DMU 0281\"],[-0.8484,\"DMU 0884\"],[1.1142,\"DMU 0320\"],[-2.1027,\"DMU 0550\"],[-1.4956,\"DMU 0175\"],[-1.5872,\"DMU 0372\"],[-1.5087,\"DMU 0528\"],[1.8297,\"DMU 0211\"],[-0.4487,\"DMU 0236\"],[2.8269,\"DMU 0102\"],[2.224,\"DMU 0987\"],[-0.6426,\"DMU 0903\"],[-1.9897,\"DMU 0948\"],[1.2193,\"DMU 0347\"],[2.0052,\"DMU 0140\"],[2.3314,\"DMU 0500\"],[-1.844,\"DMU 0371\"],[2.7649,\"DMU 0902\"],[1.7523,\"DMU 0060\"],[1.3206,\"DMU 0329\"],[-2.6124,\"DMU 0097\"],[1.079,\"DMU 0975\"],[2.6564,\"DMU 0300\"],[0.0805,\"DMU 0925\"],[0.9477,\"DMU 0602\"],[-1.7807,\"DMU 0440\"],[-0.4049,\"DMU 0838\"],[0.5395,\"DMU 0880\"],[-2.2379,\"DMU 0579\"],[1.2399,\"DMU 0024\"],[-1.0751,\"DMU 0031\"],[2.2353,\"DMU 0618\"],[2.606,\"DMU 0222\"],[-0.4949,\"DMU 0821\"],[2.022,\"DMU 0297\"],[2.0012,\"DMU 0055\"],[1.3977,\"DMU 0543\"],[1.4411,\"DMU 0210\"],[1.8027,\"DMU 0605\"],[-0.2875,\"DMU 0693\"],[0.9917,\"DMU 0867\"],[0.2925,\"DMU 0071\"],[1.8614,\"DMU 0544\"],[-1.9029,\"DMU 0108\"],[-0.3079,\"DMU 0494\"],[2.0389,\"DMU 0591\"],[1.8755,\"DMU 0293\"],[-1.1671,\"DMU 0290\"],[0.6486,\"DMU 0653\"],[-1.8459,\"DMU 0040\"],[0.2499,\"DMU 0590\"],[2.5143,\"DMU 0308\"],[0.7363,\"DMU 0680\"],[-1.2691,\"DMU 0067\"],[-1.7684,\"DMU 0276\"],[-1.8725,\"DMU 0068\"],[0.8212,\"DMU 0319\"],[0.5011,\"DMU 0999\"],[-2.4111,\"DMU 0715\"],[-0.9499,\"DMU 0754\"],[2.7296,\"DMU 0328\"],[0.4648,\"DMU 0523\"],[-1.3679,\"DMU 0437\"],[0.8324,\"DMU 0089\"],[-1.958,\"DMU 0064\"],[1.3684,\"DMU 0717\"],[2.5991,\"DMU 0352\"],[0.8828,\"DMU 0937\"],[0.9306,\"DMU 0645\"],[-0.168,\"DMU 0555\"],[-1.644,\"DMU 0918\"],[-0.4367,\"DMU 0529\"],[-0.7901,\"DMU 0824\"],[-1.7748,\"DMU 0986\"],[1.8648,\"DMU 0817\"],[-2.8223,\"DMU 0087\"],[-1.3995,\"DMU 0433\"],[1.9883,\"DMU 0185\"],[-1.2208,\"DMU 0979\"],[2.6584,\"DMU 0295\"],[2.7208,\"DMU 0426\"],[-1.412,\"DMU 0238\"],[0.0474,\"DMU 0560\"],[-0.0803,\"DMU 0584\"],[2.1637,\"DMU 0446\"],[1.2533,\"DMU 0801\"],[0.5394,\"DMU 0850\"],[1.5287,\"DMU 0266\"],[1.5532,\"DMU 0996\"],[-1.0666,\"DMU 0530\"],[2.5313,\"DMU 0056\"],[1.824,\"DMU 0121\"],[0.6501,\"DMU 0073\"],[-2.8042,\"DMU 0045\"],[-0.0643,\"DMU 0248\"],[-2.3721,\"DMU 0722\"],[0.3649,\"DMU 0282\"],[0.5335,\"DMU 0915\"],[-1.8623,\"DMU 0245\"],[-1.6104,\"DMU 0823\"],[-2.605,\"DMU 0322\"],[-1.5865,\"DMU 0644\"],[-0.7275,\"DMU 0159\"],[-0.2692,\"DMU 0978\"],[-1.0832,\"DMU 0942\"],[0.9474,\"DMU 0463\"],[-2.0229,\"DMU 0698\"],[0.5742,\"DMU 0061\"],[-2.7281,\"DMU 0885\"],[-2.2824,\"DMU 0596\"],[1.522,\"DMU 0768\"],[0.7766,\"DMU 0650\"],[-0.2394,\"DMU 0651\"],[-0.8654,\"DMU 0669\"],[-2.6072,\"DMU 0299\"],[2.0233,\"DMU 0690\"],[2.3362,\"DMU 0315\"],[0.2161,\"DMU 0311\"],[2.0574,\"DMU 0362\"],[-0.1575,\"DMU 0480\"],[-1.7429,\"DMU 0111\"],[-0.9366,\"DMU 0990\"],[0.5401,\"DMU 0487\"],[0.3564,\"DMU 0364\"],[-2.2079,\"DMU 0255\"],[2.953,\"DMU 0260\"],[0.0506,\"DMU 0803\"],[1.5507,\"DMU 0678\"],[1.6655,\"DMU 0495\"],[2.0452,\"DMU 0671\"],[-1.3466,\"DMU 0378\"],[2.5575,\"DMU 0527\"],[2.5483,\"DMU 0846\"],[-2.3135,\"DMU 0138\"],[2.2154,\"DMU 0356\"],[-1.398,\"DMU 0366\"],[-1.8628,\"DMU 0943\"],[-0.8355,\"DMU 0750\"],[-2.9355,\"DMU 0949\"],[-1.3464,\"DMU 0830\"],[-1.531,\"DMU 0657\"],[-1.567,\"DMU 0214\"],[-1.3855,\"DMU 0409\"],[1.8256,\"DMU 0079\"]],\"hovertemplate\":\"Error_Perc < 3=True<br>Actual=%{x}<br>Prediction=%{y}<br>Error_Perc=%{customdata[0]}<br>DMU=%{customdata[1]}<extra></extra>\",\"legendgroup\":\"True\",\"marker\":{\"color\":\"blue\",\"symbol\":\"circle\"},\"mode\":\"markers\",\"name\":\"True\",\"orientation\":\"v\",\"showlegend\":true,\"type\":\"scatter\",\"x\":[0.6447,0.9493,0.8301,1.0,0.7914,0.8672,0.651,0.8617,0.7103,0.8667,0.6271,0.8843,0.8654,0.6196,0.6673,0.8156,0.9151,0.7821,0.7193,0.6276,0.6911,0.7953,0.8569,0.9738,0.6482,0.6755,0.6157,0.7972,0.8921,1.0,0.7606,0.8194,0.5735,0.6371,0.6874,0.6659,0.8499,0.8628,0.8933,0.7847,0.7948,0.7329,0.9043,0.9795,0.7353,0.7403,0.6617,0.7084,0.7414,0.9157,0.8253,0.7664,0.6515,0.9316,0.7218,0.6907,0.8696,0.9497,0.9137,0.7764,0.7008,0.732,0.9537,0.6356,0.7733,0.7016,0.6922,0.7621,0.7983,0.7588,0.6803,0.7676,0.7954,0.7724,0.9817,0.9955,0.9253,0.7332,0.8266,0.5927,0.7204,0.7949,0.7735,0.644,0.6489,0.6793,0.9286,0.6749,0.8043,0.8196,0.9314,0.9619,0.7465,0.7684,0.8678,0.882,0.7369,0.6994,0.7721,1.0,0.7295,0.7759,0.7749,0.9102,0.7536,1.0,0.8634,0.9062,0.7778,0.8774,0.7901,0.9607,0.8411,0.792,0.7058,0.7221,0.8439,0.893,0.7723,0.7243,0.914,1.0,0.7575,0.8573,0.7907,0.8159,0.6937,0.7757,0.8035,0.7149,0.4753,0.7957,0.9365,0.9491,0.891,0.7091,0.6876,0.5917,0.7372,0.9105,0.5874,1.0,1.0,0.524,0.6541,0.9128,1.0,0.9281,0.7502,0.6551,0.8694,0.9591,0.9613,0.85,0.9051,0.8632],\"xaxis\":\"x\",\"y\":[0.6307,0.9327,0.8313,0.9718,0.7754,0.8546,0.6527,0.8512,0.719,0.8631,0.6312,0.8982,0.8888,0.6143,0.6747,0.7984,0.9014,0.7697,0.7084,0.6391,0.688,0.8178,0.876,0.9675,0.6353,0.6838,0.6281,0.8158,0.8756,1.0276,0.7739,0.8302,0.5586,0.644,0.7057,0.6664,0.8579,0.8474,0.8896,0.789,0.777,0.742,0.8946,1.0014,0.7545,0.7366,0.6751,0.7226,0.7518,0.9289,0.8402,0.7642,0.6579,0.9343,0.7352,0.6776,0.8669,0.969,0.9308,0.7673,0.7053,0.7185,0.9561,0.6515,0.779,0.6927,0.6799,0.7479,0.8048,0.7626,0.6639,0.7603,0.8171,0.7759,0.9683,1.0038,0.9072,0.7432,0.848,0.5979,0.7271,0.7936,0.7608,0.6411,0.6438,0.6672,0.9459,0.6559,0.793,0.8359,0.9201,0.9875,0.7668,0.7576,0.8682,0.8813,0.7528,0.7082,0.7763,1.0153,0.7409,0.7677,0.7945,0.9268,0.7585,0.972,0.8629,0.8847,0.7807,0.8821,0.7754,0.9452,0.8192,0.7794,0.7007,0.7201,0.8347,0.9015,0.7567,0.7284,0.889,0.9772,0.769,0.864,0.7889,0.8088,0.6756,0.7914,0.8223,0.7165,0.4851,0.7945,0.9202,0.9402,0.8959,0.7116,0.6724,0.6092,0.7376,0.9246,0.5972,1.0205,0.9865,0.5374,0.6708,0.8916,1.0222,0.9151,0.7363,0.6496,0.8439,0.9462,0.9466,0.8367,0.8926,0.8789],\"yaxis\":\"y\"},{\"customdata\":[[-9.5983,\"DMU 0412\"],[-3.3238,\"DMU 0679\"],[-5.1196,\"DMU 0637\"],[5.3624,\"DMU 0974\"],[-4.1763,\"DMU 0762\"],[-6.6052,\"DMU 0622\"],[-3.052,\"DMU 0199\"],[3.5355,\"DMU 0688\"],[-4.6553,\"DMU 0585\"],[3.4513,\"DMU 0313\"],[-3.9296,\"DMU 0278\"],[3.8926,\"DMU 0571\"],[4.2231,\"DMU 0262\"],[-8.8981,\"DMU 0011\"],[-4.2224,\"DMU 0663\"],[-3.9012,\"DMU 0742\"],[-4.625,\"DMU 0549\"],[3.1112,\"DMU 0383\"],[-6.7261,\"DMU 0452\"],[5.1939,\"DMU 0219\"],[3.9274,\"DMU 0788\"],[6.6075,\"DMU 0765\"],[3.4322,\"DMU 0827\"],[3.9696,\"DMU 0257\"],[-4.3561,\"DMU 0636\"],[3.3289,\"DMU 0960\"],[3.1992,\"DMU 0169\"],[-4.6581,\"DMU 0535\"],[3.2105,\"DMU 0893\"],[3.0016,\"DMU 0714\"],[5.4667,\"DMU 0261\"],[4.0356,\"DMU 0868\"],[-3.3924,\"DMU 0600\"],[3.5781,\"DMU 0216\"],[5.5765,\"DMU 0026\"],[-3.9029,\"DMU 0894\"],[6.0451,\"DMU 0811\"],[3.3242,\"DMU 0430\"],[-3.5005,\"DMU 0310\"],[3.371,\"DMU 0866\"],[-3.6463,\"DMU 0200\"],[-3.2614,\"DMU 0333\"],[-5.1144,\"DMU 0209\"],[-8.8379,\"DMU 0614\"]],\"hovertemplate\":\"Error_Perc < 3=False<br>Actual=%{x}<br>Prediction=%{y}<br>Error_Perc=%{customdata[0]}<br>DMU=%{customdata[1]}<extra></extra>\",\"legendgroup\":\"False\",\"marker\":{\"color\":\"red\",\"symbol\":\"circle\"},\"mode\":\"markers\",\"name\":\"False\",\"orientation\":\"v\",\"showlegend\":true,\"type\":\"scatter\",\"x\":[1.0,0.8447,0.9283,0.8036,0.705,0.808,0.8045,0.8422,0.9055,0.8498,0.8292,0.7796,0.8297,0.9142,0.5953,0.6698,0.7723,0.8834,0.7484,0.7775,0.7315,0.532,0.6244,0.8911,0.9402,0.6306,0.6431,0.7804,0.8704,0.8221,0.7959,0.6419,1.0,0.721,0.569,1.0,0.7246,0.813,1.0,0.773,1.0,0.8685,0.6201,1.0],\"xaxis\":\"x\",\"y\":[0.904,0.8167,0.8808,0.8467,0.6756,0.7546,0.7799,0.872,0.8634,0.8791,0.7966,0.81,0.8648,0.8328,0.5701,0.6437,0.7366,0.9109,0.6981,0.8179,0.7603,0.5672,0.6459,0.9264,0.8993,0.6516,0.6636,0.7441,0.8983,0.8468,0.8394,0.6678,0.9661,0.7468,0.6007,0.961,0.7684,0.84,0.965,0.799,0.9635,0.8402,0.5884,0.9116],\"yaxis\":\"y\"}],                        {\"autosize\":false,\"height\":500,\"legend\":{\"title\":{\"text\":\"Error_Perc < 3\"},\"tracegroupgap\":0},\"margin\":{\"t\":60},\"template\":{\"data\":{\"bar\":[{\"error_x\":{\"color\":\"#2a3f5f\"},\"error_y\":{\"color\":\"#2a3f5f\"},\"marker\":{\"line\":{\"color\":\"#E5ECF6\",\"width\":0.5},\"pattern\":{\"fillmode\":\"overlay\",\"size\":10,\"solidity\":0.2}},\"type\":\"bar\"}],\"barpolar\":[{\"marker\":{\"line\":{\"color\":\"#E5ECF6\",\"width\":0.5},\"pattern\":{\"fillmode\":\"overlay\",\"size\":10,\"solidity\":0.2}},\"type\":\"barpolar\"}],\"carpet\":[{\"aaxis\":{\"endlinecolor\":\"#2a3f5f\",\"gridcolor\":\"white\",\"linecolor\":\"white\",\"minorgridcolor\":\"white\",\"startlinecolor\":\"#2a3f5f\"},\"baxis\":{\"endlinecolor\":\"#2a3f5f\",\"gridcolor\":\"white\",\"linecolor\":\"white\",\"minorgridcolor\":\"white\",\"startlinecolor\":\"#2a3f5f\"},\"type\":\"carpet\"}],\"choropleth\":[{\"colorbar\":{\"outlinewidth\":0,\"ticks\":\"\"},\"type\":\"choropleth\"}],\"contour\":[{\"colorbar\":{\"outlinewidth\":0,\"ticks\":\"\"},\"colorscale\":[[0.0,\"#0d0887\"],[0.1111111111111111,\"#46039f\"],[0.2222222222222222,\"#7201a8\"],[0.3333333333333333,\"#9c179e\"],[0.4444444444444444,\"#bd3786\"],[0.5555555555555556,\"#d8576b\"],[0.6666666666666666,\"#ed7953\"],[0.7777777777777778,\"#fb9f3a\"],[0.8888888888888888,\"#fdca26\"],[1.0,\"#f0f921\"]],\"type\":\"contour\"}],\"contourcarpet\":[{\"colorbar\":{\"outlinewidth\":0,\"ticks\":\"\"},\"type\":\"contourcarpet\"}],\"heatmap\":[{\"colorbar\":{\"outlinewidth\":0,\"ticks\":\"\"},\"colorscale\":[[0.0,\"#0d0887\"],[0.1111111111111111,\"#46039f\"],[0.2222222222222222,\"#7201a8\"],[0.3333333333333333,\"#9c179e\"],[0.4444444444444444,\"#bd3786\"],[0.5555555555555556,\"#d8576b\"],[0.6666666666666666,\"#ed7953\"],[0.7777777777777778,\"#fb9f3a\"],[0.8888888888888888,\"#fdca26\"],[1.0,\"#f0f921\"]],\"type\":\"heatmap\"}],\"heatmapgl\":[{\"colorbar\":{\"outlinewidth\":0,\"ticks\":\"\"},\"colorscale\":[[0.0,\"#0d0887\"],[0.1111111111111111,\"#46039f\"],[0.2222222222222222,\"#7201a8\"],[0.3333333333333333,\"#9c179e\"],[0.4444444444444444,\"#bd3786\"],[0.5555555555555556,\"#d8576b\"],[0.6666666666666666,\"#ed7953\"],[0.7777777777777778,\"#fb9f3a\"],[0.8888888888888888,\"#fdca26\"],[1.0,\"#f0f921\"]],\"type\":\"heatmapgl\"}],\"histogram\":[{\"marker\":{\"pattern\":{\"fillmode\":\"overlay\",\"size\":10,\"solidity\":0.2}},\"type\":\"histogram\"}],\"histogram2d\":[{\"colorbar\":{\"outlinewidth\":0,\"ticks\":\"\"},\"colorscale\":[[0.0,\"#0d0887\"],[0.1111111111111111,\"#46039f\"],[0.2222222222222222,\"#7201a8\"],[0.3333333333333333,\"#9c179e\"],[0.4444444444444444,\"#bd3786\"],[0.5555555555555556,\"#d8576b\"],[0.6666666666666666,\"#ed7953\"],[0.7777777777777778,\"#fb9f3a\"],[0.8888888888888888,\"#fdca26\"],[1.0,\"#f0f921\"]],\"type\":\"histogram2d\"}],\"histogram2dcontour\":[{\"colorbar\":{\"outlinewidth\":0,\"ticks\":\"\"},\"colorscale\":[[0.0,\"#0d0887\"],[0.1111111111111111,\"#46039f\"],[0.2222222222222222,\"#7201a8\"],[0.3333333333333333,\"#9c179e\"],[0.4444444444444444,\"#bd3786\"],[0.5555555555555556,\"#d8576b\"],[0.6666666666666666,\"#ed7953\"],[0.7777777777777778,\"#fb9f3a\"],[0.8888888888888888,\"#fdca26\"],[1.0,\"#f0f921\"]],\"type\":\"histogram2dcontour\"}],\"mesh3d\":[{\"colorbar\":{\"outlinewidth\":0,\"ticks\":\"\"},\"type\":\"mesh3d\"}],\"parcoords\":[{\"line\":{\"colorbar\":{\"outlinewidth\":0,\"ticks\":\"\"}},\"type\":\"parcoords\"}],\"pie\":[{\"automargin\":true,\"type\":\"pie\"}],\"scatter\":[{\"marker\":{\"colorbar\":{\"outlinewidth\":0,\"ticks\":\"\"}},\"type\":\"scatter\"}],\"scatter3d\":[{\"line\":{\"colorbar\":{\"outlinewidth\":0,\"ticks\":\"\"}},\"marker\":{\"colorbar\":{\"outlinewidth\":0,\"ticks\":\"\"}},\"type\":\"scatter3d\"}],\"scattercarpet\":[{\"marker\":{\"colorbar\":{\"outlinewidth\":0,\"ticks\":\"\"}},\"type\":\"scattercarpet\"}],\"scattergeo\":[{\"marker\":{\"colorbar\":{\"outlinewidth\":0,\"ticks\":\"\"}},\"type\":\"scattergeo\"}],\"scattergl\":[{\"marker\":{\"colorbar\":{\"outlinewidth\":0,\"ticks\":\"\"}},\"type\":\"scattergl\"}],\"scattermapbox\":[{\"marker\":{\"colorbar\":{\"outlinewidth\":0,\"ticks\":\"\"}},\"type\":\"scattermapbox\"}],\"scatterpolar\":[{\"marker\":{\"colorbar\":{\"outlinewidth\":0,\"ticks\":\"\"}},\"type\":\"scatterpolar\"}],\"scatterpolargl\":[{\"marker\":{\"colorbar\":{\"outlinewidth\":0,\"ticks\":\"\"}},\"type\":\"scatterpolargl\"}],\"scatterternary\":[{\"marker\":{\"colorbar\":{\"outlinewidth\":0,\"ticks\":\"\"}},\"type\":\"scatterternary\"}],\"surface\":[{\"colorbar\":{\"outlinewidth\":0,\"ticks\":\"\"},\"colorscale\":[[0.0,\"#0d0887\"],[0.1111111111111111,\"#46039f\"],[0.2222222222222222,\"#7201a8\"],[0.3333333333333333,\"#9c179e\"],[0.4444444444444444,\"#bd3786\"],[0.5555555555555556,\"#d8576b\"],[0.6666666666666666,\"#ed7953\"],[0.7777777777777778,\"#fb9f3a\"],[0.8888888888888888,\"#fdca26\"],[1.0,\"#f0f921\"]],\"type\":\"surface\"}],\"table\":[{\"cells\":{\"fill\":{\"color\":\"#EBF0F8\"},\"line\":{\"color\":\"white\"}},\"header\":{\"fill\":{\"color\":\"#C8D4E3\"},\"line\":{\"color\":\"white\"}},\"type\":\"table\"}]},\"layout\":{\"annotationdefaults\":{\"arrowcolor\":\"#2a3f5f\",\"arrowhead\":0,\"arrowwidth\":1},\"autotypenumbers\":\"strict\",\"coloraxis\":{\"colorbar\":{\"outlinewidth\":0,\"ticks\":\"\"}},\"colorscale\":{\"diverging\":[[0,\"#8e0152\"],[0.1,\"#c51b7d\"],[0.2,\"#de77ae\"],[0.3,\"#f1b6da\"],[0.4,\"#fde0ef\"],[0.5,\"#f7f7f7\"],[0.6,\"#e6f5d0\"],[0.7,\"#b8e186\"],[0.8,\"#7fbc41\"],[0.9,\"#4d9221\"],[1,\"#276419\"]],\"sequential\":[[0.0,\"#0d0887\"],[0.1111111111111111,\"#46039f\"],[0.2222222222222222,\"#7201a8\"],[0.3333333333333333,\"#9c179e\"],[0.4444444444444444,\"#bd3786\"],[0.5555555555555556,\"#d8576b\"],[0.6666666666666666,\"#ed7953\"],[0.7777777777777778,\"#fb9f3a\"],[0.8888888888888888,\"#fdca26\"],[1.0,\"#f0f921\"]],\"sequentialminus\":[[0.0,\"#0d0887\"],[0.1111111111111111,\"#46039f\"],[0.2222222222222222,\"#7201a8\"],[0.3333333333333333,\"#9c179e\"],[0.4444444444444444,\"#bd3786\"],[0.5555555555555556,\"#d8576b\"],[0.6666666666666666,\"#ed7953\"],[0.7777777777777778,\"#fb9f3a\"],[0.8888888888888888,\"#fdca26\"],[1.0,\"#f0f921\"]]},\"colorway\":[\"#636efa\",\"#EF553B\",\"#00cc96\",\"#ab63fa\",\"#FFA15A\",\"#19d3f3\",\"#FF6692\",\"#B6E880\",\"#FF97FF\",\"#FECB52\"],\"font\":{\"color\":\"#2a3f5f\"},\"geo\":{\"bgcolor\":\"white\",\"lakecolor\":\"white\",\"landcolor\":\"#E5ECF6\",\"showlakes\":true,\"showland\":true,\"subunitcolor\":\"white\"},\"hoverlabel\":{\"align\":\"left\"},\"hovermode\":\"closest\",\"mapbox\":{\"style\":\"light\"},\"paper_bgcolor\":\"white\",\"plot_bgcolor\":\"#E5ECF6\",\"polar\":{\"angularaxis\":{\"gridcolor\":\"white\",\"linecolor\":\"white\",\"ticks\":\"\"},\"bgcolor\":\"#E5ECF6\",\"radialaxis\":{\"gridcolor\":\"white\",\"linecolor\":\"white\",\"ticks\":\"\"}},\"scene\":{\"xaxis\":{\"backgroundcolor\":\"#E5ECF6\",\"gridcolor\":\"white\",\"gridwidth\":2,\"linecolor\":\"white\",\"showbackground\":true,\"ticks\":\"\",\"zerolinecolor\":\"white\"},\"yaxis\":{\"backgroundcolor\":\"#E5ECF6\",\"gridcolor\":\"white\",\"gridwidth\":2,\"linecolor\":\"white\",\"showbackground\":true,\"ticks\":\"\",\"zerolinecolor\":\"white\"},\"zaxis\":{\"backgroundcolor\":\"#E5ECF6\",\"gridcolor\":\"white\",\"gridwidth\":2,\"linecolor\":\"white\",\"showbackground\":true,\"ticks\":\"\",\"zerolinecolor\":\"white\"}},\"shapedefaults\":{\"line\":{\"color\":\"#2a3f5f\"}},\"ternary\":{\"aaxis\":{\"gridcolor\":\"white\",\"linecolor\":\"white\",\"ticks\":\"\"},\"baxis\":{\"gridcolor\":\"white\",\"linecolor\":\"white\",\"ticks\":\"\"},\"bgcolor\":\"#E5ECF6\",\"caxis\":{\"gridcolor\":\"white\",\"linecolor\":\"white\",\"ticks\":\"\"}},\"title\":{\"x\":0.05},\"xaxis\":{\"automargin\":true,\"gridcolor\":\"white\",\"linecolor\":\"white\",\"ticks\":\"\",\"title\":{\"standoff\":15},\"zerolinecolor\":\"white\",\"zerolinewidth\":2},\"yaxis\":{\"automargin\":true,\"gridcolor\":\"white\",\"linecolor\":\"white\",\"ticks\":\"\",\"title\":{\"standoff\":15},\"zerolinecolor\":\"white\",\"zerolinewidth\":2}}},\"title\":{\"text\":\"Prediction - Actual Comparison (Blue: 156, Red: 44)\"},\"width\":800,\"xaxis\":{\"anchor\":\"y\",\"domain\":[0.0,1.0],\"title\":{\"text\":\"Actual\"}},\"yaxis\":{\"anchor\":\"x\",\"domain\":[0.0,1.0],\"title\":{\"text\":\"Prediction\"}}},                        {\"responsive\": true}                    ).then(function(){\n",
       "                            \n",
       "var gd = document.getElementById('32f1cdc9-05fc-45b5-863f-8dbcbbdc94e3');\n",
       "var x = new MutationObserver(function (mutations, observer) {{\n",
       "        var display = window.getComputedStyle(gd).display;\n",
       "        if (!display || display === 'none') {{\n",
       "            console.log([gd, 'removed!']);\n",
       "            Plotly.purge(gd);\n",
       "            observer.disconnect();\n",
       "        }}\n",
       "}});\n",
       "\n",
       "// Listen for the removal of the full notebook cells\n",
       "var notebookContainer = gd.closest('#notebook-container');\n",
       "if (notebookContainer) {{\n",
       "    x.observe(notebookContainer, {childList: true});\n",
       "}}\n",
       "\n",
       "// Listen for the clearing of the current output cell\n",
       "var outputEl = gd.closest('.output');\n",
       "if (outputEl) {{\n",
       "    x.observe(outputEl, {childList: true});\n",
       "}}\n",
       "\n",
       "                        })                };                });            </script>        </div>"
      ]
     },
     "metadata": {},
     "output_type": "display_data"
    }
   ],
   "source": [
    "fig = px.scatter(res.reset_index().rename(columns={'index': 'DMU'}), x=\"Actual\", y=\"Prediction\", color = \"Error_Perc < 3\", color_discrete_map= {True:\"blue\", False: \"red\"},\n",
    "                 hover_data=[\"Actual\", \"Prediction\", \"Error_Perc\", \"DMU\"])\n",
    "\n",
    "fig.update_layout(\n",
    "    autosize=False,\n",
    "    width=800,\n",
    "    height=500,\n",
    "    title_text=f\"Prediction - Actual Comparison (Blue: {blue}, Red: {red})\",\n",
    ")\n",
    "\n",
    "fig.show()"
   ]
  },
  {
   "cell_type": "code",
   "execution_count": 49,
   "id": "5d5bc471-ce10-4148-9bd1-b075f7cf02f1",
   "metadata": {},
   "outputs": [
    {
     "name": "stdout",
     "output_type": "stream",
     "text": [
      "neg_mean_squared_error: -0.0014252435960046112\n",
      "neg_root_mean_squared_error: -0.03747206183204708\n",
      "r2: 0.8982668811812815\n"
     ]
    }
   ],
   "source": [
    "xgb_model = xgb.XGBRegressor(random_state=42)\n",
    "\n",
    "pipe_xgb = make_pipeline(std_scaler, xgb_model)\n",
    "\n",
    "# cross-validate the pipeline\n",
    "print(\"neg_mean_squared_error:\", cross_val_score(pipe_xgb, X, y.values.ravel(), scoring=\"neg_mean_squared_error\").mean())\n",
    "print(\"neg_root_mean_squared_error:\", cross_val_score(pipe_xgb, X, y.values.ravel(), scoring=\"neg_root_mean_squared_error\").mean())\n",
    "print(\"r2:\", cross_val_score(pipe_xgb, X, y.values.ravel(), scoring=\"r2\").mean())"
   ]
  },
  {
   "cell_type": "code",
   "execution_count": 50,
   "id": "d1278054-a249-4ff6-9448-4cef509133be",
   "metadata": {},
   "outputs": [],
   "source": [
    "# xgb.plot_tree(xgb_model,num_trees=0)\n",
    "# plt.rcParams['figure.figsize'] = [50, 10]\n",
    "# plt.show()"
   ]
  },
  {
   "cell_type": "code",
   "execution_count": 51,
   "id": "f730a338-0b14-49f4-bd09-1c1c9a64f1b3",
   "metadata": {},
   "outputs": [],
   "source": [
    "learning_rate = [0.01, 0.1, 0.2, 0.3]\n",
    "n_estimators = [100, 500, 1000]\n",
    "max_depth =  [3, 5, 6, 10, 15, 20]\n",
    "subsample = np.arange(0.5, 1.0, 0.1)\n",
    "colsample_bytree = np.arange(0.4, 1.0, 0.1)\n",
    "colsample_bylevel = np.arange(0.4, 1.0, 0.1)"
   ]
  },
  {
   "cell_type": "code",
   "execution_count": 52,
   "id": "bb70dd2a-5d44-4cac-b878-397a0d04ec58",
   "metadata": {},
   "outputs": [],
   "source": [
    "# specify parameter values to search\n",
    "params = {}\n",
    "params['xgbregressor__learning_rate'] = learning_rate\n",
    "params['xgbregressor__n_estimators'] = n_estimators\n",
    "params['xgbregressor__max_depth'] = max_depth\n",
    "params['xgbregressor__subsample'] = subsample\n",
    "params['xgbregressor__colsample_bytree'] = colsample_bytree\n",
    "params['xgbregressor__colsample_bylevel'] = colsample_bylevel"
   ]
  },
  {
   "cell_type": "code",
   "execution_count": 53,
   "id": "dcff2986-71ba-4e43-88ac-07645e3ce0da",
   "metadata": {},
   "outputs": [
    {
     "data": {
      "text/plain": [
       "RandomizedSearchCV(cv=5,\n",
       "                   estimator=Pipeline(steps=[('standardscaler',\n",
       "                                              StandardScaler()),\n",
       "                                             ('xgbregressor',\n",
       "                                              XGBRegressor(base_score=None,\n",
       "                                                           booster=None,\n",
       "                                                           colsample_bylevel=None,\n",
       "                                                           colsample_bynode=None,\n",
       "                                                           colsample_bytree=None,\n",
       "                                                           enable_categorical=False,\n",
       "                                                           gamma=None,\n",
       "                                                           gpu_id=None,\n",
       "                                                           importance_type=None,\n",
       "                                                           interaction_constraints=None,\n",
       "                                                           learning_rate=None,\n",
       "                                                           max_delta_step=None,\n",
       "                                                           ma...\n",
       "                   param_distributions={'xgbregressor__colsample_bylevel': array([0.4, 0.5, 0.6, 0.7, 0.8, 0.9]),\n",
       "                                        'xgbregressor__colsample_bytree': array([0.4, 0.5, 0.6, 0.7, 0.8, 0.9]),\n",
       "                                        'xgbregressor__learning_rate': [0.01,\n",
       "                                                                        0.1,\n",
       "                                                                        0.2,\n",
       "                                                                        0.3],\n",
       "                                        'xgbregressor__max_depth': [3, 5, 6, 10,\n",
       "                                                                    15, 20],\n",
       "                                        'xgbregressor__n_estimators': [100, 500,\n",
       "                                                                       1000],\n",
       "                                        'xgbregressor__subsample': array([0.5, 0.6, 0.7, 0.8, 0.9])},\n",
       "                   scoring='neg_root_mean_squared_error')"
      ]
     },
     "execution_count": 53,
     "metadata": {},
     "output_type": "execute_result"
    }
   ],
   "source": [
    "grid = RandomizedSearchCV(pipe_xgb, params, cv=5, scoring=\"neg_root_mean_squared_error\")\n",
    "grid.fit(X, y.values.ravel())"
   ]
  },
  {
   "cell_type": "code",
   "execution_count": 54,
   "id": "104675ba-e9fa-456f-81b9-76c435888793",
   "metadata": {},
   "outputs": [
    {
     "name": "stdout",
     "output_type": "stream",
     "text": [
      "-0.03112910065244387\n",
      "{'xgbregressor__subsample': 0.7, 'xgbregressor__n_estimators': 1000, 'xgbregressor__max_depth': 3, 'xgbregressor__learning_rate': 0.2, 'xgbregressor__colsample_bytree': 0.7999999999999999, 'xgbregressor__colsample_bylevel': 0.5}\n",
      "Pipeline(steps=[('standardscaler', StandardScaler()),\n",
      "                ('xgbregressor',\n",
      "                 XGBRegressor(base_score=0.5, booster='gbtree',\n",
      "                              colsample_bylevel=0.5, colsample_bynode=1,\n",
      "                              colsample_bytree=0.7999999999999999,\n",
      "                              enable_categorical=False, gamma=0, gpu_id=-1,\n",
      "                              importance_type=None, interaction_constraints='',\n",
      "                              learning_rate=0.2, max_delta_step=0, max_depth=3,\n",
      "                              min_child_weight=1, missing=nan,\n",
      "                              monotone_constraints='()', n_estimators=1000,\n",
      "                              n_jobs=8, num_parallel_tree=1, predictor='auto',\n",
      "                              random_state=42, reg_alpha=0, reg_lambda=1,\n",
      "                              scale_pos_weight=1, subsample=0.7,\n",
      "                              tree_method='exact', validate_parameters=1,\n",
      "                              verbosity=None))])\n",
      "r2: 0.9300861386015778\n"
     ]
    }
   ],
   "source": [
    "print(grid.best_score_)\n",
    "print(grid.best_params_)\n",
    "print(grid.best_estimator_)\n",
    "print(\"r2:\", cross_val_score(grid.best_estimator_, X, y.values.ravel(), scoring=\"r2\").mean())"
   ]
  },
  {
   "cell_type": "code",
   "execution_count": 55,
   "id": "78bcd3bc-f441-4cf1-bcc3-53b118d3e78d",
   "metadata": {},
   "outputs": [
    {
     "data": {
      "text/plain": [
       "array([0.01, 0.02, 0.02, 0.01, 0.03, 0.01, 0.01, 0.03, 0.04, 0.08, 0.07, 0.07, 0.01, 0.09, 0.  , 0.51], dtype=float32)"
      ]
     },
     "execution_count": 55,
     "metadata": {},
     "output_type": "execute_result"
    }
   ],
   "source": [
    "imp_xgb = grid.best_estimator_.steps[1][1].feature_importances_\n",
    "imp_xgb"
   ]
  },
  {
   "cell_type": "code",
   "execution_count": 56,
   "id": "6e7fb0fd-755b-4bbe-a06f-a6de435a2c1f",
   "metadata": {},
   "outputs": [
    {
     "data": {
      "text/html": [
       "<div><div id=74aa5fbe-aaac-4b25-b3b7-eb8329f8a258 style=\"display:none; background-color:#9D6CFF; color:white; width:200px; height:30px; padding-left:5px; border-radius:4px; flex-direction:row; justify-content:space-around; align-items:center;\" onmouseover=\"this.style.backgroundColor='#BA9BF8'\" onmouseout=\"this.style.backgroundColor='#9D6CFF'\" onclick=\"window.commands?.execute('create-mitosheet-from-dataframe-output');\">See Full Dataframe in Mito</div> <script> if (window.commands.hasCommand('create-mitosheet-from-dataframe-output')) document.getElementById('74aa5fbe-aaac-4b25-b3b7-eb8329f8a258').style.display = 'flex' </script> <table border=\"1\" class=\"dataframe\">\n",
       "  <thead>\n",
       "    <tr style=\"text-align: right;\">\n",
       "      <th></th>\n",
       "      <th>Feature Name</th>\n",
       "      <th>Importance</th>\n",
       "    </tr>\n",
       "  </thead>\n",
       "  <tbody>\n",
       "    <tr>\n",
       "      <th>15</th>\n",
       "      <td>Output 1</td>\n",
       "      <td>0.506734</td>\n",
       "    </tr>\n",
       "    <tr>\n",
       "      <th>13</th>\n",
       "      <td>Input 14</td>\n",
       "      <td>0.093181</td>\n",
       "    </tr>\n",
       "    <tr>\n",
       "      <th>9</th>\n",
       "      <td>Input 10</td>\n",
       "      <td>0.079993</td>\n",
       "    </tr>\n",
       "    <tr>\n",
       "      <th>11</th>\n",
       "      <td>Input 12</td>\n",
       "      <td>0.073281</td>\n",
       "    </tr>\n",
       "    <tr>\n",
       "      <th>10</th>\n",
       "      <td>Input 11</td>\n",
       "      <td>0.070173</td>\n",
       "    </tr>\n",
       "    <tr>\n",
       "      <th>...</th>\n",
       "      <td>...</td>\n",
       "      <td>...</td>\n",
       "    </tr>\n",
       "    <tr>\n",
       "      <th>5</th>\n",
       "      <td>Input 6</td>\n",
       "      <td>0.010521</td>\n",
       "    </tr>\n",
       "    <tr>\n",
       "      <th>3</th>\n",
       "      <td>Input 4</td>\n",
       "      <td>0.008752</td>\n",
       "    </tr>\n",
       "    <tr>\n",
       "      <th>12</th>\n",
       "      <td>Input 13</td>\n",
       "      <td>0.007943</td>\n",
       "    </tr>\n",
       "    <tr>\n",
       "      <th>6</th>\n",
       "      <td>Input 7</td>\n",
       "      <td>0.007110</td>\n",
       "    </tr>\n",
       "    <tr>\n",
       "      <th>14</th>\n",
       "      <td>Input 15</td>\n",
       "      <td>0.003676</td>\n",
       "    </tr>\n",
       "  </tbody>\n",
       "</table></div>"
      ],
      "text/plain": [
       "   Feature Name  Importance\n",
       "15     Output 1    0.506734\n",
       "13     Input 14    0.093181\n",
       "9      Input 10    0.079993\n",
       "11     Input 12    0.073281\n",
       "10     Input 11    0.070173\n",
       "8       Input 9    0.036514\n",
       "7       Input 8    0.028561\n",
       "4       Input 5    0.026575\n",
       "1       Input 2    0.018126\n",
       "2       Input 3    0.015543\n",
       "0       Input 1    0.013316\n",
       "5       Input 6    0.010521\n",
       "3       Input 4    0.008752\n",
       "12     Input 13    0.007943\n",
       "6       Input 7    0.007110\n",
       "14     Input 15    0.003676"
      ]
     },
     "execution_count": 56,
     "metadata": {},
     "output_type": "execute_result"
    }
   ],
   "source": [
    "df_xgb = pd.DataFrame({\"Feature Name\":X.columns, \"Importance\": imp_xgb}).sort_values(\"Importance\", ascending=False)\n",
    "df_xgb"
   ]
  },
  {
   "cell_type": "code",
   "execution_count": 57,
   "id": "acd384a2-55e4-47be-9ca9-c7353f137482",
   "metadata": {},
   "outputs": [],
   "source": [
    "input_imp = list(df_rf.loc[df_rf[\"Feature Name\"].str.contains(\"Input\"), \"Feature Name\"].values)\n",
    "results.append((grid.best_estimator_.steps[1][0], input_imp,\n",
    "                {\"r2\" : cross_val_score(grid.best_estimator_, X, y.values.ravel(), scoring=\"r2\").mean(),\n",
    "                \"neg_root_mean_squared_error\": grid.best_score_}))"
   ]
  },
  {
   "cell_type": "code",
   "execution_count": 58,
   "id": "e668c4c4-9352-4732-bf8f-18c1eaad1756",
   "metadata": {},
   "outputs": [
    {
     "data": {
      "application/vnd.plotly.v1+json": {
       "config": {
        "plotlyServerURL": "https://plot.ly"
       },
       "data": [
        {
         "alignmentgroup": "True",
         "hovertemplate": "Importance=%{x}<br>Feature Name=%{y}<extra></extra>",
         "legendgroup": "",
         "marker": {
          "color": "#636efa",
          "pattern": {
           "shape": ""
          }
         },
         "name": "",
         "offsetgroup": "",
         "orientation": "h",
         "showlegend": false,
         "textposition": "auto",
         "type": "bar",
         "x": [
          0.5067340731620789,
          0.09318127483129501,
          0.07999290525913239,
          0.07328088581562042,
          0.07017266750335693,
          0.03651445358991623,
          0.028560765087604523,
          0.02657504566013813,
          0.018126169219613075,
          0.015543032437562943,
          0.013316250406205654,
          0.010520530864596367,
          0.008752345107495785,
          0.007943227887153625,
          0.007110463455319405,
          0.003675952320918441
         ],
         "xaxis": "x",
         "y": [
          "Output 1",
          "Input 14",
          "Input 10",
          "Input 12",
          "Input 11",
          "Input 9",
          "Input 8",
          "Input 5",
          "Input 2",
          "Input 3",
          "Input 1",
          "Input 6",
          "Input 4",
          "Input 13",
          "Input 7",
          "Input 15"
         ],
         "yaxis": "y"
        }
       ],
       "layout": {
        "autosize": false,
        "barmode": "relative",
        "height": 500,
        "legend": {
         "tracegroupgap": 0
        },
        "margin": {
         "t": 60
        },
        "template": {
         "data": {
          "bar": [
           {
            "error_x": {
             "color": "#2a3f5f"
            },
            "error_y": {
             "color": "#2a3f5f"
            },
            "marker": {
             "line": {
              "color": "#E5ECF6",
              "width": 0.5
             },
             "pattern": {
              "fillmode": "overlay",
              "size": 10,
              "solidity": 0.2
             }
            },
            "type": "bar"
           }
          ],
          "barpolar": [
           {
            "marker": {
             "line": {
              "color": "#E5ECF6",
              "width": 0.5
             },
             "pattern": {
              "fillmode": "overlay",
              "size": 10,
              "solidity": 0.2
             }
            },
            "type": "barpolar"
           }
          ],
          "carpet": [
           {
            "aaxis": {
             "endlinecolor": "#2a3f5f",
             "gridcolor": "white",
             "linecolor": "white",
             "minorgridcolor": "white",
             "startlinecolor": "#2a3f5f"
            },
            "baxis": {
             "endlinecolor": "#2a3f5f",
             "gridcolor": "white",
             "linecolor": "white",
             "minorgridcolor": "white",
             "startlinecolor": "#2a3f5f"
            },
            "type": "carpet"
           }
          ],
          "choropleth": [
           {
            "colorbar": {
             "outlinewidth": 0,
             "ticks": ""
            },
            "type": "choropleth"
           }
          ],
          "contour": [
           {
            "colorbar": {
             "outlinewidth": 0,
             "ticks": ""
            },
            "colorscale": [
             [
              0,
              "#0d0887"
             ],
             [
              0.1111111111111111,
              "#46039f"
             ],
             [
              0.2222222222222222,
              "#7201a8"
             ],
             [
              0.3333333333333333,
              "#9c179e"
             ],
             [
              0.4444444444444444,
              "#bd3786"
             ],
             [
              0.5555555555555556,
              "#d8576b"
             ],
             [
              0.6666666666666666,
              "#ed7953"
             ],
             [
              0.7777777777777778,
              "#fb9f3a"
             ],
             [
              0.8888888888888888,
              "#fdca26"
             ],
             [
              1,
              "#f0f921"
             ]
            ],
            "type": "contour"
           }
          ],
          "contourcarpet": [
           {
            "colorbar": {
             "outlinewidth": 0,
             "ticks": ""
            },
            "type": "contourcarpet"
           }
          ],
          "heatmap": [
           {
            "colorbar": {
             "outlinewidth": 0,
             "ticks": ""
            },
            "colorscale": [
             [
              0,
              "#0d0887"
             ],
             [
              0.1111111111111111,
              "#46039f"
             ],
             [
              0.2222222222222222,
              "#7201a8"
             ],
             [
              0.3333333333333333,
              "#9c179e"
             ],
             [
              0.4444444444444444,
              "#bd3786"
             ],
             [
              0.5555555555555556,
              "#d8576b"
             ],
             [
              0.6666666666666666,
              "#ed7953"
             ],
             [
              0.7777777777777778,
              "#fb9f3a"
             ],
             [
              0.8888888888888888,
              "#fdca26"
             ],
             [
              1,
              "#f0f921"
             ]
            ],
            "type": "heatmap"
           }
          ],
          "heatmapgl": [
           {
            "colorbar": {
             "outlinewidth": 0,
             "ticks": ""
            },
            "colorscale": [
             [
              0,
              "#0d0887"
             ],
             [
              0.1111111111111111,
              "#46039f"
             ],
             [
              0.2222222222222222,
              "#7201a8"
             ],
             [
              0.3333333333333333,
              "#9c179e"
             ],
             [
              0.4444444444444444,
              "#bd3786"
             ],
             [
              0.5555555555555556,
              "#d8576b"
             ],
             [
              0.6666666666666666,
              "#ed7953"
             ],
             [
              0.7777777777777778,
              "#fb9f3a"
             ],
             [
              0.8888888888888888,
              "#fdca26"
             ],
             [
              1,
              "#f0f921"
             ]
            ],
            "type": "heatmapgl"
           }
          ],
          "histogram": [
           {
            "marker": {
             "pattern": {
              "fillmode": "overlay",
              "size": 10,
              "solidity": 0.2
             }
            },
            "type": "histogram"
           }
          ],
          "histogram2d": [
           {
            "colorbar": {
             "outlinewidth": 0,
             "ticks": ""
            },
            "colorscale": [
             [
              0,
              "#0d0887"
             ],
             [
              0.1111111111111111,
              "#46039f"
             ],
             [
              0.2222222222222222,
              "#7201a8"
             ],
             [
              0.3333333333333333,
              "#9c179e"
             ],
             [
              0.4444444444444444,
              "#bd3786"
             ],
             [
              0.5555555555555556,
              "#d8576b"
             ],
             [
              0.6666666666666666,
              "#ed7953"
             ],
             [
              0.7777777777777778,
              "#fb9f3a"
             ],
             [
              0.8888888888888888,
              "#fdca26"
             ],
             [
              1,
              "#f0f921"
             ]
            ],
            "type": "histogram2d"
           }
          ],
          "histogram2dcontour": [
           {
            "colorbar": {
             "outlinewidth": 0,
             "ticks": ""
            },
            "colorscale": [
             [
              0,
              "#0d0887"
             ],
             [
              0.1111111111111111,
              "#46039f"
             ],
             [
              0.2222222222222222,
              "#7201a8"
             ],
             [
              0.3333333333333333,
              "#9c179e"
             ],
             [
              0.4444444444444444,
              "#bd3786"
             ],
             [
              0.5555555555555556,
              "#d8576b"
             ],
             [
              0.6666666666666666,
              "#ed7953"
             ],
             [
              0.7777777777777778,
              "#fb9f3a"
             ],
             [
              0.8888888888888888,
              "#fdca26"
             ],
             [
              1,
              "#f0f921"
             ]
            ],
            "type": "histogram2dcontour"
           }
          ],
          "mesh3d": [
           {
            "colorbar": {
             "outlinewidth": 0,
             "ticks": ""
            },
            "type": "mesh3d"
           }
          ],
          "parcoords": [
           {
            "line": {
             "colorbar": {
              "outlinewidth": 0,
              "ticks": ""
             }
            },
            "type": "parcoords"
           }
          ],
          "pie": [
           {
            "automargin": true,
            "type": "pie"
           }
          ],
          "scatter": [
           {
            "marker": {
             "colorbar": {
              "outlinewidth": 0,
              "ticks": ""
             }
            },
            "type": "scatter"
           }
          ],
          "scatter3d": [
           {
            "line": {
             "colorbar": {
              "outlinewidth": 0,
              "ticks": ""
             }
            },
            "marker": {
             "colorbar": {
              "outlinewidth": 0,
              "ticks": ""
             }
            },
            "type": "scatter3d"
           }
          ],
          "scattercarpet": [
           {
            "marker": {
             "colorbar": {
              "outlinewidth": 0,
              "ticks": ""
             }
            },
            "type": "scattercarpet"
           }
          ],
          "scattergeo": [
           {
            "marker": {
             "colorbar": {
              "outlinewidth": 0,
              "ticks": ""
             }
            },
            "type": "scattergeo"
           }
          ],
          "scattergl": [
           {
            "marker": {
             "colorbar": {
              "outlinewidth": 0,
              "ticks": ""
             }
            },
            "type": "scattergl"
           }
          ],
          "scattermapbox": [
           {
            "marker": {
             "colorbar": {
              "outlinewidth": 0,
              "ticks": ""
             }
            },
            "type": "scattermapbox"
           }
          ],
          "scatterpolar": [
           {
            "marker": {
             "colorbar": {
              "outlinewidth": 0,
              "ticks": ""
             }
            },
            "type": "scatterpolar"
           }
          ],
          "scatterpolargl": [
           {
            "marker": {
             "colorbar": {
              "outlinewidth": 0,
              "ticks": ""
             }
            },
            "type": "scatterpolargl"
           }
          ],
          "scatterternary": [
           {
            "marker": {
             "colorbar": {
              "outlinewidth": 0,
              "ticks": ""
             }
            },
            "type": "scatterternary"
           }
          ],
          "surface": [
           {
            "colorbar": {
             "outlinewidth": 0,
             "ticks": ""
            },
            "colorscale": [
             [
              0,
              "#0d0887"
             ],
             [
              0.1111111111111111,
              "#46039f"
             ],
             [
              0.2222222222222222,
              "#7201a8"
             ],
             [
              0.3333333333333333,
              "#9c179e"
             ],
             [
              0.4444444444444444,
              "#bd3786"
             ],
             [
              0.5555555555555556,
              "#d8576b"
             ],
             [
              0.6666666666666666,
              "#ed7953"
             ],
             [
              0.7777777777777778,
              "#fb9f3a"
             ],
             [
              0.8888888888888888,
              "#fdca26"
             ],
             [
              1,
              "#f0f921"
             ]
            ],
            "type": "surface"
           }
          ],
          "table": [
           {
            "cells": {
             "fill": {
              "color": "#EBF0F8"
             },
             "line": {
              "color": "white"
             }
            },
            "header": {
             "fill": {
              "color": "#C8D4E3"
             },
             "line": {
              "color": "white"
             }
            },
            "type": "table"
           }
          ]
         },
         "layout": {
          "annotationdefaults": {
           "arrowcolor": "#2a3f5f",
           "arrowhead": 0,
           "arrowwidth": 1
          },
          "autotypenumbers": "strict",
          "coloraxis": {
           "colorbar": {
            "outlinewidth": 0,
            "ticks": ""
           }
          },
          "colorscale": {
           "diverging": [
            [
             0,
             "#8e0152"
            ],
            [
             0.1,
             "#c51b7d"
            ],
            [
             0.2,
             "#de77ae"
            ],
            [
             0.3,
             "#f1b6da"
            ],
            [
             0.4,
             "#fde0ef"
            ],
            [
             0.5,
             "#f7f7f7"
            ],
            [
             0.6,
             "#e6f5d0"
            ],
            [
             0.7,
             "#b8e186"
            ],
            [
             0.8,
             "#7fbc41"
            ],
            [
             0.9,
             "#4d9221"
            ],
            [
             1,
             "#276419"
            ]
           ],
           "sequential": [
            [
             0,
             "#0d0887"
            ],
            [
             0.1111111111111111,
             "#46039f"
            ],
            [
             0.2222222222222222,
             "#7201a8"
            ],
            [
             0.3333333333333333,
             "#9c179e"
            ],
            [
             0.4444444444444444,
             "#bd3786"
            ],
            [
             0.5555555555555556,
             "#d8576b"
            ],
            [
             0.6666666666666666,
             "#ed7953"
            ],
            [
             0.7777777777777778,
             "#fb9f3a"
            ],
            [
             0.8888888888888888,
             "#fdca26"
            ],
            [
             1,
             "#f0f921"
            ]
           ],
           "sequentialminus": [
            [
             0,
             "#0d0887"
            ],
            [
             0.1111111111111111,
             "#46039f"
            ],
            [
             0.2222222222222222,
             "#7201a8"
            ],
            [
             0.3333333333333333,
             "#9c179e"
            ],
            [
             0.4444444444444444,
             "#bd3786"
            ],
            [
             0.5555555555555556,
             "#d8576b"
            ],
            [
             0.6666666666666666,
             "#ed7953"
            ],
            [
             0.7777777777777778,
             "#fb9f3a"
            ],
            [
             0.8888888888888888,
             "#fdca26"
            ],
            [
             1,
             "#f0f921"
            ]
           ]
          },
          "colorway": [
           "#636efa",
           "#EF553B",
           "#00cc96",
           "#ab63fa",
           "#FFA15A",
           "#19d3f3",
           "#FF6692",
           "#B6E880",
           "#FF97FF",
           "#FECB52"
          ],
          "font": {
           "color": "#2a3f5f"
          },
          "geo": {
           "bgcolor": "white",
           "lakecolor": "white",
           "landcolor": "#E5ECF6",
           "showlakes": true,
           "showland": true,
           "subunitcolor": "white"
          },
          "hoverlabel": {
           "align": "left"
          },
          "hovermode": "closest",
          "mapbox": {
           "style": "light"
          },
          "paper_bgcolor": "white",
          "plot_bgcolor": "#E5ECF6",
          "polar": {
           "angularaxis": {
            "gridcolor": "white",
            "linecolor": "white",
            "ticks": ""
           },
           "bgcolor": "#E5ECF6",
           "radialaxis": {
            "gridcolor": "white",
            "linecolor": "white",
            "ticks": ""
           }
          },
          "scene": {
           "xaxis": {
            "backgroundcolor": "#E5ECF6",
            "gridcolor": "white",
            "gridwidth": 2,
            "linecolor": "white",
            "showbackground": true,
            "ticks": "",
            "zerolinecolor": "white"
           },
           "yaxis": {
            "backgroundcolor": "#E5ECF6",
            "gridcolor": "white",
            "gridwidth": 2,
            "linecolor": "white",
            "showbackground": true,
            "ticks": "",
            "zerolinecolor": "white"
           },
           "zaxis": {
            "backgroundcolor": "#E5ECF6",
            "gridcolor": "white",
            "gridwidth": 2,
            "linecolor": "white",
            "showbackground": true,
            "ticks": "",
            "zerolinecolor": "white"
           }
          },
          "shapedefaults": {
           "line": {
            "color": "#2a3f5f"
           }
          },
          "ternary": {
           "aaxis": {
            "gridcolor": "white",
            "linecolor": "white",
            "ticks": ""
           },
           "baxis": {
            "gridcolor": "white",
            "linecolor": "white",
            "ticks": ""
           },
           "bgcolor": "#E5ECF6",
           "caxis": {
            "gridcolor": "white",
            "linecolor": "white",
            "ticks": ""
           }
          },
          "title": {
           "x": 0.05
          },
          "xaxis": {
           "automargin": true,
           "gridcolor": "white",
           "linecolor": "white",
           "ticks": "",
           "title": {
            "standoff": 15
           },
           "zerolinecolor": "white",
           "zerolinewidth": 2
          },
          "yaxis": {
           "automargin": true,
           "gridcolor": "white",
           "linecolor": "white",
           "ticks": "",
           "title": {
            "standoff": 15
           },
           "zerolinecolor": "white",
           "zerolinewidth": 2
          }
         }
        },
        "title": {
         "text": "XGBRegressor Feature Importances"
        },
        "width": 800,
        "xaxis": {
         "anchor": "y",
         "autorange": true,
         "domain": [
          0,
          1
         ],
         "range": [
          0,
          0.5334042875390304
         ],
         "title": {
          "text": "Importance"
         },
         "type": "linear"
        },
        "yaxis": {
         "anchor": "x",
         "autorange": true,
         "categoryorder": "total ascending",
         "domain": [
          0,
          1
         ],
         "range": [
          -0.5,
          15.5
         ],
         "title": {
          "text": "Feature Name"
         },
         "type": "category"
        }
       }
      },
      "image/png": "[encoded data removed]",
      "text/html": [
       "<div>                            <div id=\"dec242bf-bddf-4069-bd9d-0d9d4dfe89f3\" class=\"plotly-graph-div\" style=\"height:500px; width:800px;\"></div>            <script type=\"text/javascript\">                require([\"plotly\"], function(Plotly) {                    window.PLOTLYENV=window.PLOTLYENV || {};                                    if (document.getElementById(\"dec242bf-bddf-4069-bd9d-0d9d4dfe89f3\")) {                    Plotly.newPlot(                        \"dec242bf-bddf-4069-bd9d-0d9d4dfe89f3\",                        [{\"alignmentgroup\":\"True\",\"hovertemplate\":\"Importance=%{x}<br>Feature Name=%{y}<extra></extra>\",\"legendgroup\":\"\",\"marker\":{\"color\":\"#636efa\",\"pattern\":{\"shape\":\"\"}},\"name\":\"\",\"offsetgroup\":\"\",\"orientation\":\"h\",\"showlegend\":false,\"textposition\":\"auto\",\"type\":\"bar\",\"x\":[0.5067340731620789,0.09318127483129501,0.07999290525913239,0.07328088581562042,0.07017266750335693,0.03651445358991623,0.028560765087604523,0.02657504566013813,0.018126169219613075,0.015543032437562943,0.013316250406205654,0.010520530864596367,0.008752345107495785,0.007943227887153625,0.007110463455319405,0.003675952320918441],\"xaxis\":\"x\",\"y\":[\"Output 1\",\"Input 14\",\"Input 10\",\"Input 12\",\"Input 11\",\"Input 9\",\"Input 8\",\"Input 5\",\"Input 2\",\"Input 3\",\"Input 1\",\"Input 6\",\"Input 4\",\"Input 13\",\"Input 7\",\"Input 15\"],\"yaxis\":\"y\"}],                        {\"autosize\":false,\"barmode\":\"relative\",\"height\":500,\"legend\":{\"tracegroupgap\":0},\"margin\":{\"t\":60},\"template\":{\"data\":{\"bar\":[{\"error_x\":{\"color\":\"#2a3f5f\"},\"error_y\":{\"color\":\"#2a3f5f\"},\"marker\":{\"line\":{\"color\":\"#E5ECF6\",\"width\":0.5},\"pattern\":{\"fillmode\":\"overlay\",\"size\":10,\"solidity\":0.2}},\"type\":\"bar\"}],\"barpolar\":[{\"marker\":{\"line\":{\"color\":\"#E5ECF6\",\"width\":0.5},\"pattern\":{\"fillmode\":\"overlay\",\"size\":10,\"solidity\":0.2}},\"type\":\"barpolar\"}],\"carpet\":[{\"aaxis\":{\"endlinecolor\":\"#2a3f5f\",\"gridcolor\":\"white\",\"linecolor\":\"white\",\"minorgridcolor\":\"white\",\"startlinecolor\":\"#2a3f5f\"},\"baxis\":{\"endlinecolor\":\"#2a3f5f\",\"gridcolor\":\"white\",\"linecolor\":\"white\",\"minorgridcolor\":\"white\",\"startlinecolor\":\"#2a3f5f\"},\"type\":\"carpet\"}],\"choropleth\":[{\"colorbar\":{\"outlinewidth\":0,\"ticks\":\"\"},\"type\":\"choropleth\"}],\"contour\":[{\"colorbar\":{\"outlinewidth\":0,\"ticks\":\"\"},\"colorscale\":[[0.0,\"#0d0887\"],[0.1111111111111111,\"#46039f\"],[0.2222222222222222,\"#7201a8\"],[0.3333333333333333,\"#9c179e\"],[0.4444444444444444,\"#bd3786\"],[0.5555555555555556,\"#d8576b\"],[0.6666666666666666,\"#ed7953\"],[0.7777777777777778,\"#fb9f3a\"],[0.8888888888888888,\"#fdca26\"],[1.0,\"#f0f921\"]],\"type\":\"contour\"}],\"contourcarpet\":[{\"colorbar\":{\"outlinewidth\":0,\"ticks\":\"\"},\"type\":\"contourcarpet\"}],\"heatmap\":[{\"colorbar\":{\"outlinewidth\":0,\"ticks\":\"\"},\"colorscale\":[[0.0,\"#0d0887\"],[0.1111111111111111,\"#46039f\"],[0.2222222222222222,\"#7201a8\"],[0.3333333333333333,\"#9c179e\"],[0.4444444444444444,\"#bd3786\"],[0.5555555555555556,\"#d8576b\"],[0.6666666666666666,\"#ed7953\"],[0.7777777777777778,\"#fb9f3a\"],[0.8888888888888888,\"#fdca26\"],[1.0,\"#f0f921\"]],\"type\":\"heatmap\"}],\"heatmapgl\":[{\"colorbar\":{\"outlinewidth\":0,\"ticks\":\"\"},\"colorscale\":[[0.0,\"#0d0887\"],[0.1111111111111111,\"#46039f\"],[0.2222222222222222,\"#7201a8\"],[0.3333333333333333,\"#9c179e\"],[0.4444444444444444,\"#bd3786\"],[0.5555555555555556,\"#d8576b\"],[0.6666666666666666,\"#ed7953\"],[0.7777777777777778,\"#fb9f3a\"],[0.8888888888888888,\"#fdca26\"],[1.0,\"#f0f921\"]],\"type\":\"heatmapgl\"}],\"histogram\":[{\"marker\":{\"pattern\":{\"fillmode\":\"overlay\",\"size\":10,\"solidity\":0.2}},\"type\":\"histogram\"}],\"histogram2d\":[{\"colorbar\":{\"outlinewidth\":0,\"ticks\":\"\"},\"colorscale\":[[0.0,\"#0d0887\"],[0.1111111111111111,\"#46039f\"],[0.2222222222222222,\"#7201a8\"],[0.3333333333333333,\"#9c179e\"],[0.4444444444444444,\"#bd3786\"],[0.5555555555555556,\"#d8576b\"],[0.6666666666666666,\"#ed7953\"],[0.7777777777777778,\"#fb9f3a\"],[0.8888888888888888,\"#fdca26\"],[1.0,\"#f0f921\"]],\"type\":\"histogram2d\"}],\"histogram2dcontour\":[{\"colorbar\":{\"outlinewidth\":0,\"ticks\":\"\"},\"colorscale\":[[0.0,\"#0d0887\"],[0.1111111111111111,\"#46039f\"],[0.2222222222222222,\"#7201a8\"],[0.3333333333333333,\"#9c179e\"],[0.4444444444444444,\"#bd3786\"],[0.5555555555555556,\"#d8576b\"],[0.6666666666666666,\"#ed7953\"],[0.7777777777777778,\"#fb9f3a\"],[0.8888888888888888,\"#fdca26\"],[1.0,\"#f0f921\"]],\"type\":\"histogram2dcontour\"}],\"mesh3d\":[{\"colorbar\":{\"outlinewidth\":0,\"ticks\":\"\"},\"type\":\"mesh3d\"}],\"parcoords\":[{\"line\":{\"colorbar\":{\"outlinewidth\":0,\"ticks\":\"\"}},\"type\":\"parcoords\"}],\"pie\":[{\"automargin\":true,\"type\":\"pie\"}],\"scatter\":[{\"marker\":{\"colorbar\":{\"outlinewidth\":0,\"ticks\":\"\"}},\"type\":\"scatter\"}],\"scatter3d\":[{\"line\":{\"colorbar\":{\"outlinewidth\":0,\"ticks\":\"\"}},\"marker\":{\"colorbar\":{\"outlinewidth\":0,\"ticks\":\"\"}},\"type\":\"scatter3d\"}],\"scattercarpet\":[{\"marker\":{\"colorbar\":{\"outlinewidth\":0,\"ticks\":\"\"}},\"type\":\"scattercarpet\"}],\"scattergeo\":[{\"marker\":{\"colorbar\":{\"outlinewidth\":0,\"ticks\":\"\"}},\"type\":\"scattergeo\"}],\"scattergl\":[{\"marker\":{\"colorbar\":{\"outlinewidth\":0,\"ticks\":\"\"}},\"type\":\"scattergl\"}],\"scattermapbox\":[{\"marker\":{\"colorbar\":{\"outlinewidth\":0,\"ticks\":\"\"}},\"type\":\"scattermapbox\"}],\"scatterpolar\":[{\"marker\":{\"colorbar\":{\"outlinewidth\":0,\"ticks\":\"\"}},\"type\":\"scatterpolar\"}],\"scatterpolargl\":[{\"marker\":{\"colorbar\":{\"outlinewidth\":0,\"ticks\":\"\"}},\"type\":\"scatterpolargl\"}],\"scatterternary\":[{\"marker\":{\"colorbar\":{\"outlinewidth\":0,\"ticks\":\"\"}},\"type\":\"scatterternary\"}],\"surface\":[{\"colorbar\":{\"outlinewidth\":0,\"ticks\":\"\"},\"colorscale\":[[0.0,\"#0d0887\"],[0.1111111111111111,\"#46039f\"],[0.2222222222222222,\"#7201a8\"],[0.3333333333333333,\"#9c179e\"],[0.4444444444444444,\"#bd3786\"],[0.5555555555555556,\"#d8576b\"],[0.6666666666666666,\"#ed7953\"],[0.7777777777777778,\"#fb9f3a\"],[0.8888888888888888,\"#fdca26\"],[1.0,\"#f0f921\"]],\"type\":\"surface\"}],\"table\":[{\"cells\":{\"fill\":{\"color\":\"#EBF0F8\"},\"line\":{\"color\":\"white\"}},\"header\":{\"fill\":{\"color\":\"#C8D4E3\"},\"line\":{\"color\":\"white\"}},\"type\":\"table\"}]},\"layout\":{\"annotationdefaults\":{\"arrowcolor\":\"#2a3f5f\",\"arrowhead\":0,\"arrowwidth\":1},\"autotypenumbers\":\"strict\",\"coloraxis\":{\"colorbar\":{\"outlinewidth\":0,\"ticks\":\"\"}},\"colorscale\":{\"diverging\":[[0,\"#8e0152\"],[0.1,\"#c51b7d\"],[0.2,\"#de77ae\"],[0.3,\"#f1b6da\"],[0.4,\"#fde0ef\"],[0.5,\"#f7f7f7\"],[0.6,\"#e6f5d0\"],[0.7,\"#b8e186\"],[0.8,\"#7fbc41\"],[0.9,\"#4d9221\"],[1,\"#276419\"]],\"sequential\":[[0.0,\"#0d0887\"],[0.1111111111111111,\"#46039f\"],[0.2222222222222222,\"#7201a8\"],[0.3333333333333333,\"#9c179e\"],[0.4444444444444444,\"#bd3786\"],[0.5555555555555556,\"#d8576b\"],[0.6666666666666666,\"#ed7953\"],[0.7777777777777778,\"#fb9f3a\"],[0.8888888888888888,\"#fdca26\"],[1.0,\"#f0f921\"]],\"sequentialminus\":[[0.0,\"#0d0887\"],[0.1111111111111111,\"#46039f\"],[0.2222222222222222,\"#7201a8\"],[0.3333333333333333,\"#9c179e\"],[0.4444444444444444,\"#bd3786\"],[0.5555555555555556,\"#d8576b\"],[0.6666666666666666,\"#ed7953\"],[0.7777777777777778,\"#fb9f3a\"],[0.8888888888888888,\"#fdca26\"],[1.0,\"#f0f921\"]]},\"colorway\":[\"#636efa\",\"#EF553B\",\"#00cc96\",\"#ab63fa\",\"#FFA15A\",\"#19d3f3\",\"#FF6692\",\"#B6E880\",\"#FF97FF\",\"#FECB52\"],\"font\":{\"color\":\"#2a3f5f\"},\"geo\":{\"bgcolor\":\"white\",\"lakecolor\":\"white\",\"landcolor\":\"#E5ECF6\",\"showlakes\":true,\"showland\":true,\"subunitcolor\":\"white\"},\"hoverlabel\":{\"align\":\"left\"},\"hovermode\":\"closest\",\"mapbox\":{\"style\":\"light\"},\"paper_bgcolor\":\"white\",\"plot_bgcolor\":\"#E5ECF6\",\"polar\":{\"angularaxis\":{\"gridcolor\":\"white\",\"linecolor\":\"white\",\"ticks\":\"\"},\"bgcolor\":\"#E5ECF6\",\"radialaxis\":{\"gridcolor\":\"white\",\"linecolor\":\"white\",\"ticks\":\"\"}},\"scene\":{\"xaxis\":{\"backgroundcolor\":\"#E5ECF6\",\"gridcolor\":\"white\",\"gridwidth\":2,\"linecolor\":\"white\",\"showbackground\":true,\"ticks\":\"\",\"zerolinecolor\":\"white\"},\"yaxis\":{\"backgroundcolor\":\"#E5ECF6\",\"gridcolor\":\"white\",\"gridwidth\":2,\"linecolor\":\"white\",\"showbackground\":true,\"ticks\":\"\",\"zerolinecolor\":\"white\"},\"zaxis\":{\"backgroundcolor\":\"#E5ECF6\",\"gridcolor\":\"white\",\"gridwidth\":2,\"linecolor\":\"white\",\"showbackground\":true,\"ticks\":\"\",\"zerolinecolor\":\"white\"}},\"shapedefaults\":{\"line\":{\"color\":\"#2a3f5f\"}},\"ternary\":{\"aaxis\":{\"gridcolor\":\"white\",\"linecolor\":\"white\",\"ticks\":\"\"},\"baxis\":{\"gridcolor\":\"white\",\"linecolor\":\"white\",\"ticks\":\"\"},\"bgcolor\":\"#E5ECF6\",\"caxis\":{\"gridcolor\":\"white\",\"linecolor\":\"white\",\"ticks\":\"\"}},\"title\":{\"x\":0.05},\"xaxis\":{\"automargin\":true,\"gridcolor\":\"white\",\"linecolor\":\"white\",\"ticks\":\"\",\"title\":{\"standoff\":15},\"zerolinecolor\":\"white\",\"zerolinewidth\":2},\"yaxis\":{\"automargin\":true,\"gridcolor\":\"white\",\"linecolor\":\"white\",\"ticks\":\"\",\"title\":{\"standoff\":15},\"zerolinecolor\":\"white\",\"zerolinewidth\":2}}},\"title\":{\"text\":\"XGBRegressor Feature Importances\"},\"width\":800,\"xaxis\":{\"anchor\":\"y\",\"domain\":[0.0,1.0],\"title\":{\"text\":\"Importance\"}},\"yaxis\":{\"anchor\":\"x\",\"categoryorder\":\"total ascending\",\"domain\":[0.0,1.0],\"title\":{\"text\":\"Feature Name\"}}},                        {\"responsive\": true}                    ).then(function(){\n",
       "                            \n",
       "var gd = document.getElementById('dec242bf-bddf-4069-bd9d-0d9d4dfe89f3');\n",
       "var x = new MutationObserver(function (mutations, observer) {{\n",
       "        var display = window.getComputedStyle(gd).display;\n",
       "        if (!display || display === 'none') {{\n",
       "            console.log([gd, 'removed!']);\n",
       "            Plotly.purge(gd);\n",
       "            observer.disconnect();\n",
       "        }}\n",
       "}});\n",
       "\n",
       "// Listen for the removal of the full notebook cells\n",
       "var notebookContainer = gd.closest('#notebook-container');\n",
       "if (notebookContainer) {{\n",
       "    x.observe(notebookContainer, {childList: true});\n",
       "}}\n",
       "\n",
       "// Listen for the clearing of the current output cell\n",
       "var outputEl = gd.closest('.output');\n",
       "if (outputEl) {{\n",
       "    x.observe(outputEl, {childList: true});\n",
       "}}\n",
       "\n",
       "                        })                };                });            </script>        </div>"
      ]
     },
     "metadata": {},
     "output_type": "display_data"
    }
   ],
   "source": [
    "fig = px.bar(df_xgb, x=\"Importance\", y=\"Feature Name\")\n",
    "\n",
    "fig.update_layout(\n",
    "    autosize=False,\n",
    "    width=800,\n",
    "    height=500,\n",
    "    title_text=f\"XGBRegressor Feature Importances\",\n",
    "    yaxis={'categoryorder':'total ascending'}\n",
    ")\n",
    "\n",
    "fig.show()"
   ]
  },
  {
   "cell_type": "code",
   "execution_count": 59,
   "id": "741cbffe-095f-4d37-bc48-b60e69de889e",
   "metadata": {},
   "outputs": [
    {
     "data": {
      "text/plain": [
       "array([0.  , 0.01, 0.01, 0.  , 0.01, 0.  , 0.  , 0.04, 0.01, 0.01, 0.07, 0.03, 0.  , 0.08, 0.  , 0.71], dtype=float32)"
      ]
     },
     "execution_count": 59,
     "metadata": {},
     "output_type": "execute_result"
    }
   ],
   "source": [
    "pipe_xgb.fit(X, y.values.ravel())\n",
    "\n",
    "pipe_xgb.steps[1][1].feature_importances_"
   ]
  },
  {
   "cell_type": "code",
   "execution_count": 60,
   "id": "baa11387-a102-4cac-8659-5d2866357fed",
   "metadata": {},
   "outputs": [
    {
     "data": {
      "text/plain": [
       "{'f0': 94.32086944580078,\n",
       " 'f1': 152.55462646484375,\n",
       " 'f2': 94.84127044677734,\n",
       " 'f3': 150.28773498535156,\n",
       " 'f4': 115.40243530273438,\n",
       " 'f5': 186.92990112304688,\n",
       " 'f6': 159.74073791503906,\n",
       " 'f7': 201.76441955566406,\n",
       " 'f8': 186.95706176757812,\n",
       " 'f9': 231.85464477539062,\n",
       " 'f10': 184.44737243652344,\n",
       " 'f11': 231.9663848876953,\n",
       " 'f12': 180.46617126464844,\n",
       " 'f13': 177.57339477539062,\n",
       " 'f14': 151.96324157714844,\n",
       " 'f15': 295.7054748535156}"
      ]
     },
     "execution_count": 60,
     "metadata": {},
     "output_type": "execute_result"
    }
   ],
   "source": [
    "pipe_xgb.steps[1][1].get_booster().get_score(importance_type='cover')"
   ]
  },
  {
   "cell_type": "code",
   "execution_count": 61,
   "id": "fbfb69b4-d8ac-4766-829f-cf812aac26b3",
   "metadata": {},
   "outputs": [],
   "source": [
    "plt.rcParams['figure.figsize'] = [12, 10]"
   ]
  },
  {
   "cell_type": "code",
   "execution_count": 62,
   "id": "865f3543-ba8e-4218-b436-a6e96a7a40b3",
   "metadata": {},
   "outputs": [
    {
     "data": {
      "image/png": "[encoded data removed]",
      "text/plain": [
       "<Figure size 864x720 with 1 Axes>"
      ]
     },
     "metadata": {
      "needs_background": "light"
     },
     "output_type": "display_data"
    }
   ],
   "source": [
    "xgb.plot_importance(pipe_xgb.steps[1][1]._Booster, importance_type='total_gain')\n",
    "plt.show()"
   ]
  },
  {
   "cell_type": "code",
   "execution_count": 63,
   "id": "1b30a096-28ef-402a-bf73-92e574228c48",
   "metadata": {},
   "outputs": [
    {
     "data": {
      "text/plain": [
       "[('decisiontreeregressor',\n",
       "  ['Input 14',\n",
       "   'Input 12',\n",
       "   'Input 11',\n",
       "   'Input 8',\n",
       "   'Input 9',\n",
       "   'Input 10',\n",
       "   'Input 5',\n",
       "   'Input 2',\n",
       "   'Input 15',\n",
       "   'Input 7',\n",
       "   'Input 1',\n",
       "   'Input 4',\n",
       "   'Input 6',\n",
       "   'Input 13',\n",
       "   'Input 3'],\n",
       "  {'r2': 0.777468548256491,\n",
       "   'neg_root_mean_squared_error': -0.05569275381498059}),\n",
       " ('randomforestregressor',\n",
       "  ['Input 14',\n",
       "   'Input 11',\n",
       "   'Input 12',\n",
       "   'Input 8',\n",
       "   'Input 10',\n",
       "   'Input 2',\n",
       "   'Input 5',\n",
       "   'Input 9',\n",
       "   'Input 4',\n",
       "   'Input 3',\n",
       "   'Input 6',\n",
       "   'Input 1',\n",
       "   'Input 15',\n",
       "   'Input 7',\n",
       "   'Input 13'],\n",
       "  {'r2': 0.8677725308029529,\n",
       "   'neg_root_mean_squared_error': -0.042942477891797594}),\n",
       " ('gradientboostingregressor',\n",
       "  ['Input 14',\n",
       "   'Input 11',\n",
       "   'Input 12',\n",
       "   'Input 8',\n",
       "   'Input 10',\n",
       "   'Input 2',\n",
       "   'Input 5',\n",
       "   'Input 9',\n",
       "   'Input 4',\n",
       "   'Input 3',\n",
       "   'Input 6',\n",
       "   'Input 1',\n",
       "   'Input 15',\n",
       "   'Input 7',\n",
       "   'Input 13'],\n",
       "  {'r2': 0.9492713661330653,\n",
       "   'neg_root_mean_squared_error': -0.026471280994980535}),\n",
       " ('xgbregressor',\n",
       "  ['Input 14',\n",
       "   'Input 11',\n",
       "   'Input 12',\n",
       "   'Input 8',\n",
       "   'Input 10',\n",
       "   'Input 2',\n",
       "   'Input 5',\n",
       "   'Input 9',\n",
       "   'Input 4',\n",
       "   'Input 3',\n",
       "   'Input 6',\n",
       "   'Input 1',\n",
       "   'Input 15',\n",
       "   'Input 7',\n",
       "   'Input 13'],\n",
       "  {'r2': 0.9300861386015778,\n",
       "   'neg_root_mean_squared_error': -0.03112910065244387})]"
      ]
     },
     "execution_count": 63,
     "metadata": {},
     "output_type": "execute_result"
    }
   ],
   "source": [
    "results"
   ]
  },
  {
   "cell_type": "code",
   "execution_count": 64,
   "id": "df694b0f-dcf4-40f2-8c86-baac2631032c",
   "metadata": {},
   "outputs": [],
   "source": [
    "with open('result_15I1O.pkl', 'wb') as f:\n",
    "    pickle.dump(results, f)"
   ]
  },
  {
   "cell_type": "code",
   "execution_count": 65,
   "id": "94578b71-4eee-47aa-89d8-2b22a5251865",
   "metadata": {},
   "outputs": [],
   "source": [
    "with open('result_15I1O.pkl', 'rb') as f:\n",
    "    r = pickle.load(f)"
   ]
  },
  {
   "cell_type": "code",
   "execution_count": 66,
   "id": "b4763213-b476-405b-b312-c69d8483b778",
   "metadata": {},
   "outputs": [
    {
     "data": {
      "text/plain": [
       "[('decisiontreeregressor',\n",
       "  ['Input 14',\n",
       "   'Input 12',\n",
       "   'Input 11',\n",
       "   'Input 8',\n",
       "   'Input 9',\n",
       "   'Input 10',\n",
       "   'Input 5',\n",
       "   'Input 2',\n",
       "   'Input 15',\n",
       "   'Input 7',\n",
       "   'Input 1',\n",
       "   'Input 4',\n",
       "   'Input 6',\n",
       "   'Input 13',\n",
       "   'Input 3'],\n",
       "  {'r2': 0.777468548256491,\n",
       "   'neg_root_mean_squared_error': -0.05569275381498059}),\n",
       " ('randomforestregressor',\n",
       "  ['Input 14',\n",
       "   'Input 11',\n",
       "   'Input 12',\n",
       "   'Input 8',\n",
       "   'Input 10',\n",
       "   'Input 2',\n",
       "   'Input 5',\n",
       "   'Input 9',\n",
       "   'Input 4',\n",
       "   'Input 3',\n",
       "   'Input 6',\n",
       "   'Input 1',\n",
       "   'Input 15',\n",
       "   'Input 7',\n",
       "   'Input 13'],\n",
       "  {'r2': 0.8677725308029529,\n",
       "   'neg_root_mean_squared_error': -0.042942477891797594}),\n",
       " ('gradientboostingregressor',\n",
       "  ['Input 14',\n",
       "   'Input 11',\n",
       "   'Input 12',\n",
       "   'Input 8',\n",
       "   'Input 10',\n",
       "   'Input 2',\n",
       "   'Input 5',\n",
       "   'Input 9',\n",
       "   'Input 4',\n",
       "   'Input 3',\n",
       "   'Input 6',\n",
       "   'Input 1',\n",
       "   'Input 15',\n",
       "   'Input 7',\n",
       "   'Input 13'],\n",
       "  {'r2': 0.9492713661330653,\n",
       "   'neg_root_mean_squared_error': -0.026471280994980535}),\n",
       " ('xgbregressor',\n",
       "  ['Input 14',\n",
       "   'Input 11',\n",
       "   'Input 12',\n",
       "   'Input 8',\n",
       "   'Input 10',\n",
       "   'Input 2',\n",
       "   'Input 5',\n",
       "   'Input 9',\n",
       "   'Input 4',\n",
       "   'Input 3',\n",
       "   'Input 6',\n",
       "   'Input 1',\n",
       "   'Input 15',\n",
       "   'Input 7',\n",
       "   'Input 13'],\n",
       "  {'r2': 0.9300861386015778,\n",
       "   'neg_root_mean_squared_error': -0.03112910065244387})]"
      ]
     },
     "execution_count": 66,
     "metadata": {},
     "output_type": "execute_result"
    }
   ],
   "source": [
    "r"
   ]
  },
  {
   "cell_type": "code",
   "execution_count": null,
   "id": "21a778a9-f258-4736-890b-99b4bc35e567",
   "metadata": {},
   "outputs": [],
   "source": []
  }
 ],
 "metadata": {
  "kernelspec": {
   "display_name": "Python 3 (ipykernel)",
   "language": "python",
   "name": "python3"
  },
  "language_info": {
   "codemirror_mode": {
    "name": "ipython",
    "version": 3
   },
   "file_extension": ".py",
   "mimetype": "text/x-python",
   "name": "python",
   "nbconvert_exporter": "python",
   "pygments_lexer": "ipython3",
   "version": "3.8.11"
  }
 },
 "nbformat": 4,
 "nbformat_minor": 5
}

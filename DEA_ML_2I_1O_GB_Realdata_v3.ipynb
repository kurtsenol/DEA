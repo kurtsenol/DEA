{
 "cells": [
  {
   "cell_type": "code",
   "execution_count": 1,
   "id": "a86954ba-3efc-4b5d-b5f8-d37efabd5366",
   "metadata": {},
   "outputs": [
    {
     "data": {
      "text/html": [
       "<script>\n",
       "code_show=true; \n",
       "function code_toggle() {\n",
       " if (code_show){\n",
       " $('div.input').hide();\n",
       " } else {\n",
       " $('div.input').show();\n",
       " }\n",
       " code_show = !code_show\n",
       "} \n",
       "$( document ).ready(code_toggle);\n",
       "</script>\n",
       "To toggle on/off the raw code, click <a href=\"javascript:code_toggle()\">here</a>."
      ],
      "text/plain": [
       "<IPython.core.display.HTML object>"
      ]
     },
     "execution_count": 1,
     "metadata": {},
     "output_type": "execute_result"
    }
   ],
   "source": [
    "from IPython.display import HTML\n",
    "HTML('''<script>\n",
    "code_show=true; \n",
    "function code_toggle() {\n",
    " if (code_show){\n",
    " $('div.input').hide();\n",
    " } else {\n",
    " $('div.input').show();\n",
    " }\n",
    " code_show = !code_show\n",
    "} \n",
    "$( document ).ready(code_toggle);\n",
    "</script>\n",
    "To toggle on/off the raw code, click <a href=\"javascript:code_toggle()\">here</a>.''')"
   ]
  },
  {
   "cell_type": "code",
   "execution_count": 2,
   "id": "fc798ec7",
   "metadata": {},
   "outputs": [
    {
     "name": "stderr",
     "output_type": "stream",
     "text": [
      "/opt/anaconda3/envs/myenv/lib/python3.8/site-packages/xgboost/compat.py:36: FutureWarning: pandas.Int64Index is deprecated and will be removed from pandas in a future version. Use pandas.Index with the appropriate dtype instead.\n",
      "  from pandas import MultiIndex, Int64Index\n"
     ]
    }
   ],
   "source": [
    "import pandas as pd\n",
    "import numpy as np\n",
    "from scipy import stats\n",
    "import pickle\n",
    "\n",
    "import matplotlib.pyplot as plt\n",
    "import seaborn as sns\n",
    "\n",
    "import xgboost as xgb\n",
    "\n",
    "np.set_printoptions(linewidth=np.inf, suppress=True, precision=2)"
   ]
  },
  {
   "cell_type": "code",
   "execution_count": 3,
   "id": "0dc16ee5-c9ac-4236-9b59-996fecd94413",
   "metadata": {},
   "outputs": [],
   "source": [
    "from sklearn.pipeline import make_pipeline\n",
    "from sklearn.compose import make_column_transformer\n",
    "from sklearn.model_selection import train_test_split, cross_val_score\n",
    "from sklearn.preprocessing import MinMaxScaler, StandardScaler, PolynomialFeatures\n",
    "from sklearn.metrics import mean_squared_error, r2_score \n",
    "\n",
    "from sklearn.linear_model import LinearRegression, Lasso, Ridge, ElasticNet\n",
    "from sklearn.ensemble import GradientBoostingRegressor\n",
    "from sklearn.neighbors import KNeighborsRegressor\n",
    "from sklearn.ensemble import RandomForestRegressor\n",
    "from sklearn.model_selection import GridSearchCV, RandomizedSearchCV\n",
    "\n",
    "import tensorflow as tf\n",
    "\n",
    "from sklearn.gaussian_process.kernels import (RBF, Matern, RationalQuadratic,ExpSineSquared, DotProduct,ConstantKernel)\n",
    "from sklearn.gaussian_process import GaussianProcessRegressor  \n",
    "from sklearn.svm import SVR"
   ]
  },
  {
   "cell_type": "code",
   "execution_count": 4,
   "id": "6d565361-d152-4459-be65-97e811d5d01e",
   "metadata": {},
   "outputs": [
    {
     "data": {
      "text/html": [
       "        <script type=\"text/javascript\">\n",
       "        window.PlotlyConfig = {MathJaxConfig: 'local'};\n",
       "        if (window.MathJax) {MathJax.Hub.Config({SVG: {font: \"STIX-Web\"}});}\n",
       "        if (typeof require !== 'undefined') {\n",
       "        require.undef(\"plotly\");\n",
       "        requirejs.config({\n",
       "            paths: {\n",
       "                'plotly': ['https://cdn.plot.ly/plotly-2.4.1.min']\n",
       "            }\n",
       "        });\n",
       "        require(['plotly'], function(Plotly) {\n",
       "            window._Plotly = Plotly;\n",
       "        });\n",
       "        }\n",
       "        </script>\n",
       "        "
      ]
     },
     "metadata": {},
     "output_type": "display_data"
    }
   ],
   "source": [
    "import plotly.express as px\n",
    "import plotly.offline as pyo\n",
    "import plotly.graph_objs as go\n",
    "from plotly.subplots import make_subplots\n",
    "import plotly.figure_factory as ff\n",
    "\n",
    "pyo.init_notebook_mode(connected=True)"
   ]
  },
  {
   "cell_type": "code",
   "execution_count": 5,
   "id": "ffd53b41-3b20-4c45-b78a-cea77e036c16",
   "metadata": {},
   "outputs": [],
   "source": [
    "from solver import deasolver"
   ]
  },
  {
   "cell_type": "code",
   "execution_count": 6,
   "id": "97bd60f9-a6b6-4bd3-a9eb-e3345f3bd74b",
   "metadata": {},
   "outputs": [],
   "source": [
    "results = []\n",
    "df_imp = pd.DataFrame()"
   ]
  },
  {
   "cell_type": "code",
   "execution_count": 57,
   "id": "de36dfbd-bb24-49c8-8c14-b65f667c980e",
   "metadata": {},
   "outputs": [],
   "source": [
    "df = pd.read_excel(\"Data/RealData/jmse_37_Data_V3 copy 3.xlsx\", index_col = 0)"
   ]
  },
  {
   "cell_type": "code",
   "execution_count": 58,
   "id": "3d3387ee-752a-4ba1-95ec-147413c5545b",
   "metadata": {},
   "outputs": [
    {
     "data": {
      "text/html": [
       "<div><div id=5a09a098-98e9-442e-933d-261ceab178c7 style=\"display:none; background-color:#9D6CFF; color:white; width:200px; height:30px; padding-left:5px; border-radius:4px; flex-direction:row; justify-content:space-around; align-items:center;\" onmouseover=\"this.style.backgroundColor='#BA9BF8'\" onmouseout=\"this.style.backgroundColor='#9D6CFF'\" onclick=\"window.commands?.execute('create-mitosheet-from-dataframe-output');\">See Full Dataframe in Mito</div> <script> if (window.commands.hasCommand('create-mitosheet-from-dataframe-output')) document.getElementById('5a09a098-98e9-442e-933d-261ceab178c7').style.display = 'flex' </script> <table border=\"1\" class=\"dataframe\">\n",
       "  <thead>\n",
       "    <tr style=\"text-align: right;\">\n",
       "      <th></th>\n",
       "      <th>Input_owners’ equity</th>\n",
       "      <th>Input_total operational expences</th>\n",
       "      <th>Input_operational income</th>\n",
       "      <th>Output_net profit</th>\n",
       "    </tr>\n",
       "  </thead>\n",
       "  <tbody>\n",
       "    <tr>\n",
       "      <th>1</th>\n",
       "      <td>1.355335e+09</td>\n",
       "      <td>4.813198e+08</td>\n",
       "      <td>4.818634e+08</td>\n",
       "      <td>1.169624e+08</td>\n",
       "    </tr>\n",
       "    <tr>\n",
       "      <th>2</th>\n",
       "      <td>6.172486e+09</td>\n",
       "      <td>1.468911e+09</td>\n",
       "      <td>1.876007e+09</td>\n",
       "      <td>5.305416e+08</td>\n",
       "    </tr>\n",
       "    <tr>\n",
       "      <th>3</th>\n",
       "      <td>8.134738e+09</td>\n",
       "      <td>6.379069e+09</td>\n",
       "      <td>6.449506e+09</td>\n",
       "      <td>4.194821e+08</td>\n",
       "    </tr>\n",
       "    <tr>\n",
       "      <th>4</th>\n",
       "      <td>2.222073e+09</td>\n",
       "      <td>1.128459e+09</td>\n",
       "      <td>1.053529e+09</td>\n",
       "      <td>3.893530e+07</td>\n",
       "    </tr>\n",
       "    <tr>\n",
       "      <th>5</th>\n",
       "      <td>1.830483e+09</td>\n",
       "      <td>4.110728e+09</td>\n",
       "      <td>4.664999e+09</td>\n",
       "      <td>4.720929e+08</td>\n",
       "    </tr>\n",
       "  </tbody>\n",
       "</table></div>"
      ],
      "text/plain": [
       "   Input_owners’ equity  Input_total operational expences  \\\n",
       "1          1.355335e+09                      4.813198e+08   \n",
       "2          6.172486e+09                      1.468911e+09   \n",
       "3          8.134738e+09                      6.379069e+09   \n",
       "4          2.222073e+09                      1.128459e+09   \n",
       "5          1.830483e+09                      4.110728e+09   \n",
       "\n",
       "   Input_operational income  Output_net profit  \n",
       "1              4.818634e+08       1.169624e+08  \n",
       "2              1.876007e+09       5.305416e+08  \n",
       "3              6.449506e+09       4.194821e+08  \n",
       "4              1.053529e+09       3.893530e+07  \n",
       "5              4.664999e+09       4.720929e+08  "
      ]
     },
     "execution_count": 58,
     "metadata": {},
     "output_type": "execute_result"
    }
   ],
   "source": [
    "df.head()"
   ]
  },
  {
   "cell_type": "code",
   "execution_count": 59,
   "id": "040fbb6b-705e-4563-b0a9-88ff7537e8e9",
   "metadata": {},
   "outputs": [
    {
     "data": {
      "text/plain": [
       "Input_owners’ equity                 0\n",
       "Input_total operational expences     0\n",
       "Input_operational income             0\n",
       "Output_net profit                   64\n",
       "dtype: int64"
      ]
     },
     "execution_count": 59,
     "metadata": {},
     "output_type": "execute_result"
    }
   ],
   "source": [
    "(df<0).sum()"
   ]
  },
  {
   "cell_type": "code",
   "execution_count": 60,
   "id": "f520b964-397d-4fe1-a551-6fb6bf7a12f5",
   "metadata": {},
   "outputs": [
    {
     "data": {
      "text/plain": [
       "count    9.480000e+02\n",
       "mean     3.748199e+08\n",
       "std      1.850877e+09\n",
       "min     -9.101232e+09\n",
       "25%      4.387254e+07\n",
       "50%      9.719600e+07\n",
       "75%      2.379658e+08\n",
       "max      4.117224e+10\n",
       "Name: Output_net profit, dtype: float64"
      ]
     },
     "execution_count": 60,
     "metadata": {},
     "output_type": "execute_result"
    }
   ],
   "source": [
    "df[\"Output_net profit\"].describe()"
   ]
  },
  {
   "cell_type": "code",
   "execution_count": 66,
   "id": "f407086f-ee8f-45fe-84e0-bac11b86a1ed",
   "metadata": {},
   "outputs": [
    {
     "data": {
      "text/plain": [
       "count    9.480000e+02\n",
       "mean     9.476052e+09\n",
       "std      1.850877e+09\n",
       "min      1.000000e+00\n",
       "25%      9.145105e+09\n",
       "50%      9.198428e+09\n",
       "75%      9.339198e+09\n",
       "max      5.027347e+10\n",
       "Name: Output_net profit, dtype: float64"
      ]
     },
     "execution_count": 66,
     "metadata": {},
     "output_type": "execute_result"
    }
   ],
   "source": [
    "(df[\"Output_net profit\"] + (df[\"Output_net profit\"].min() * -1) + 1).describe()"
   ]
  },
  {
   "cell_type": "code",
   "execution_count": 67,
   "id": "1dfbcb4e-3843-4646-b8f2-57b8a2b744a2",
   "metadata": {},
   "outputs": [],
   "source": [
    "df[\"Output_net profit\"] = df[\"Output_net profit\"] + (df[\"Output_net profit\"].min() * -1) + 1"
   ]
  },
  {
   "cell_type": "code",
   "execution_count": 68,
   "id": "21088a87-f37d-46bd-9bd5-6d1bcf59dbfe",
   "metadata": {},
   "outputs": [
    {
     "name": "stdout",
     "output_type": "stream",
     "text": [
      "100.0\n",
      "Solution file saved outputfile\n"
     ]
    }
   ],
   "source": [
    "deasolver(inputfile=\"Data/RealData/jmse_37_Data_V3 copy 3.xlsx\", folder = \"Data/RealData/\", out_suffix1=\"_Sol\")"
   ]
  },
  {
   "cell_type": "code",
   "execution_count": 69,
   "id": "94d0eaf6-949a-41c1-b0c3-c61de4c58f64",
   "metadata": {},
   "outputs": [
    {
     "data": {
      "text/html": [
       "<div><div id=efd209e1-986d-4c9f-90ef-11cf381599b3 style=\"display:none; background-color:#9D6CFF; color:white; width:200px; height:30px; padding-left:5px; border-radius:4px; flex-direction:row; justify-content:space-around; align-items:center;\" onmouseover=\"this.style.backgroundColor='#BA9BF8'\" onmouseout=\"this.style.backgroundColor='#9D6CFF'\" onclick=\"window.commands?.execute('create-mitosheet-from-dataframe-output');\">See Full Dataframe in Mito</div> <script> if (window.commands.hasCommand('create-mitosheet-from-dataframe-output')) document.getElementById('efd209e1-986d-4c9f-90ef-11cf381599b3').style.display = 'flex' </script> <table border=\"1\" class=\"dataframe\">\n",
       "  <thead>\n",
       "    <tr style=\"text-align: right;\">\n",
       "      <th></th>\n",
       "      <th>Weight_Input_operational income</th>\n",
       "      <th>Weight_Input_owners’ equity</th>\n",
       "      <th>Weight_Input_total operational expences</th>\n",
       "      <th>Weight_Output_net profit</th>\n",
       "    </tr>\n",
       "  </thead>\n",
       "  <tbody>\n",
       "    <tr>\n",
       "      <th>1</th>\n",
       "      <td>3.357797e-10</td>\n",
       "      <td>6.184450e-10</td>\n",
       "      <td>0.000000e+00</td>\n",
       "      <td>2.230087e-09</td>\n",
       "    </tr>\n",
       "    <tr>\n",
       "      <th>2</th>\n",
       "      <td>0.000000e+00</td>\n",
       "      <td>1.239739e-10</td>\n",
       "      <td>1.598279e-10</td>\n",
       "      <td>5.017678e-10</td>\n",
       "    </tr>\n",
       "    <tr>\n",
       "      <th>3</th>\n",
       "      <td>4.665875e-11</td>\n",
       "      <td>8.593690e-11</td>\n",
       "      <td>0.000000e+00</td>\n",
       "      <td>3.098849e-10</td>\n",
       "    </tr>\n",
       "    <tr>\n",
       "      <th>4</th>\n",
       "      <td>1.943188e-10</td>\n",
       "      <td>3.578997e-10</td>\n",
       "      <td>0.000000e+00</td>\n",
       "      <td>1.290572e-09</td>\n",
       "    </tr>\n",
       "    <tr>\n",
       "      <th>5</th>\n",
       "      <td>0.000000e+00</td>\n",
       "      <td>5.463039e-10</td>\n",
       "      <td>0.000000e+00</td>\n",
       "      <td>1.199859e-09</td>\n",
       "    </tr>\n",
       "    <tr>\n",
       "      <th>...</th>\n",
       "      <td>...</td>\n",
       "      <td>...</td>\n",
       "      <td>...</td>\n",
       "      <td>...</td>\n",
       "    </tr>\n",
       "    <tr>\n",
       "      <th>944</th>\n",
       "      <td>0.000000e+00</td>\n",
       "      <td>6.065330e-11</td>\n",
       "      <td>0.000000e+00</td>\n",
       "      <td>1.332142e-10</td>\n",
       "    </tr>\n",
       "    <tr>\n",
       "      <th>945</th>\n",
       "      <td>7.331197e-11</td>\n",
       "      <td>1.350273e-10</td>\n",
       "      <td>0.000000e+00</td>\n",
       "      <td>4.869028e-10</td>\n",
       "    </tr>\n",
       "    <tr>\n",
       "      <th>946</th>\n",
       "      <td>0.000000e+00</td>\n",
       "      <td>7.682075e-10</td>\n",
       "      <td>0.000000e+00</td>\n",
       "      <td>1.687231e-09</td>\n",
       "    </tr>\n",
       "    <tr>\n",
       "      <th>947</th>\n",
       "      <td>0.000000e+00</td>\n",
       "      <td>7.494201e-10</td>\n",
       "      <td>0.000000e+00</td>\n",
       "      <td>1.645968e-09</td>\n",
       "    </tr>\n",
       "    <tr>\n",
       "      <th>948</th>\n",
       "      <td>1.240715e-09</td>\n",
       "      <td>2.285170e-09</td>\n",
       "      <td>0.000000e+00</td>\n",
       "      <td>8.240231e-09</td>\n",
       "    </tr>\n",
       "  </tbody>\n",
       "</table></div>"
      ],
      "text/plain": [
       "     Weight_Input_operational income  Weight_Input_owners’ equity  \\\n",
       "1                       3.357797e-10                 6.184450e-10   \n",
       "2                       0.000000e+00                 1.239739e-10   \n",
       "3                       4.665875e-11                 8.593690e-11   \n",
       "4                       1.943188e-10                 3.578997e-10   \n",
       "5                       0.000000e+00                 5.463039e-10   \n",
       "..                               ...                          ...   \n",
       "944                     0.000000e+00                 6.065330e-11   \n",
       "945                     7.331197e-11                 1.350273e-10   \n",
       "946                     0.000000e+00                 7.682075e-10   \n",
       "947                     0.000000e+00                 7.494201e-10   \n",
       "948                     1.240715e-09                 2.285170e-09   \n",
       "\n",
       "     Weight_Input_total operational expences  Weight_Output_net profit  \n",
       "1                               0.000000e+00              2.230087e-09  \n",
       "2                               1.598279e-10              5.017678e-10  \n",
       "3                               0.000000e+00              3.098849e-10  \n",
       "4                               0.000000e+00              1.290572e-09  \n",
       "5                               0.000000e+00              1.199859e-09  \n",
       "..                                       ...                       ...  \n",
       "944                             0.000000e+00              1.332142e-10  \n",
       "945                             0.000000e+00              4.869028e-10  \n",
       "946                             0.000000e+00              1.687231e-09  \n",
       "947                             0.000000e+00              1.645968e-09  \n",
       "948                             0.000000e+00              8.240231e-09  \n",
       "\n",
       "[948 rows x 4 columns]"
      ]
     },
     "execution_count": 69,
     "metadata": {},
     "output_type": "execute_result"
    }
   ],
   "source": [
    "df_weights = pd.read_excel(\"Data/RealData/jmse_37_Data_V3 copy 3_Sol.xlsx\", index_col = 0).iloc[:, 1:]\n",
    "df_weights"
   ]
  },
  {
   "cell_type": "code",
   "execution_count": 70,
   "id": "833ee1c0-1dad-411c-a3a5-4a0f2b522645",
   "metadata": {},
   "outputs": [
    {
     "data": {
      "text/plain": [
       "890"
      ]
     },
     "execution_count": 70,
     "metadata": {},
     "output_type": "execute_result"
    }
   ],
   "source": [
    "(df_weights[\"Weight_Input_total operational expences\"]<df_weights[\"Weight_Input_owners’ equity\"]).sum()"
   ]
  },
  {
   "cell_type": "code",
   "execution_count": 71,
   "id": "22916a7b-bda6-4ea3-813c-f83b77e9d67d",
   "metadata": {},
   "outputs": [
    {
     "data": {
      "text/plain": [
       "Weight_Input_operational income            410\n",
       "Weight_Input_owners’ equity                 13\n",
       "Weight_Input_total operational expences    890\n",
       "Weight_Output_net profit                    64\n",
       "dtype: int64"
      ]
     },
     "execution_count": 71,
     "metadata": {},
     "output_type": "execute_result"
    }
   ],
   "source": [
    "df_zero =(df_weights==0).sum()\n",
    "df_zero"
   ]
  },
  {
   "cell_type": "markdown",
   "id": "90f8e58b-578b-4138-81f8-5012589d87a7",
   "metadata": {
    "tags": []
   },
   "source": [
    "### ML"
   ]
  },
  {
   "cell_type": "code",
   "execution_count": 72,
   "id": "ca4d138a-4aaa-440e-94ce-661dce334187",
   "metadata": {},
   "outputs": [
    {
     "data": {
      "text/html": [
       "<div><div id=7606a4c7-7c3c-4c4f-aeaf-f693a225bfc5 style=\"display:none; background-color:#9D6CFF; color:white; width:200px; height:30px; padding-left:5px; border-radius:4px; flex-direction:row; justify-content:space-around; align-items:center;\" onmouseover=\"this.style.backgroundColor='#BA9BF8'\" onmouseout=\"this.style.backgroundColor='#9D6CFF'\" onclick=\"window.commands?.execute('create-mitosheet-from-dataframe-output');\">See Full Dataframe in Mito</div> <script> if (window.commands.hasCommand('create-mitosheet-from-dataframe-output')) document.getElementById('7606a4c7-7c3c-4c4f-aeaf-f693a225bfc5').style.display = 'flex' </script> <table border=\"1\" class=\"dataframe\">\n",
       "  <thead>\n",
       "    <tr style=\"text-align: right;\">\n",
       "      <th></th>\n",
       "      <th>Input_owners’ equity</th>\n",
       "      <th>Input_total operational expences</th>\n",
       "      <th>Input_operational income</th>\n",
       "    </tr>\n",
       "  </thead>\n",
       "  <tbody>\n",
       "    <tr>\n",
       "      <th>1</th>\n",
       "      <td>1.355335e+09</td>\n",
       "      <td>4.813198e+08</td>\n",
       "      <td>4.818634e+08</td>\n",
       "    </tr>\n",
       "    <tr>\n",
       "      <th>2</th>\n",
       "      <td>6.172486e+09</td>\n",
       "      <td>1.468911e+09</td>\n",
       "      <td>1.876007e+09</td>\n",
       "    </tr>\n",
       "    <tr>\n",
       "      <th>3</th>\n",
       "      <td>8.134738e+09</td>\n",
       "      <td>6.379069e+09</td>\n",
       "      <td>6.449506e+09</td>\n",
       "    </tr>\n",
       "    <tr>\n",
       "      <th>4</th>\n",
       "      <td>2.222073e+09</td>\n",
       "      <td>1.128459e+09</td>\n",
       "      <td>1.053529e+09</td>\n",
       "    </tr>\n",
       "    <tr>\n",
       "      <th>5</th>\n",
       "      <td>1.830483e+09</td>\n",
       "      <td>4.110728e+09</td>\n",
       "      <td>4.664999e+09</td>\n",
       "    </tr>\n",
       "  </tbody>\n",
       "</table></div>"
      ],
      "text/plain": [
       "   Input_owners’ equity  Input_total operational expences  \\\n",
       "1          1.355335e+09                      4.813198e+08   \n",
       "2          6.172486e+09                      1.468911e+09   \n",
       "3          8.134738e+09                      6.379069e+09   \n",
       "4          2.222073e+09                      1.128459e+09   \n",
       "5          1.830483e+09                      4.110728e+09   \n",
       "\n",
       "   Input_operational income  \n",
       "1              4.818634e+08  \n",
       "2              1.876007e+09  \n",
       "3              6.449506e+09  \n",
       "4              1.053529e+09  \n",
       "5              4.664999e+09  "
      ]
     },
     "execution_count": 72,
     "metadata": {},
     "output_type": "execute_result"
    }
   ],
   "source": [
    "X = df.iloc[:,:-1]\n",
    "X.head()"
   ]
  },
  {
   "cell_type": "code",
   "execution_count": 73,
   "id": "82cb75d2-e174-4fcd-99b1-d9434f934381",
   "metadata": {},
   "outputs": [
    {
     "data": {
      "text/html": [
       "<div><div id=6ee53af6-0084-482d-9f33-23df90df6cc7 style=\"display:none; background-color:#9D6CFF; color:white; width:200px; height:30px; padding-left:5px; border-radius:4px; flex-direction:row; justify-content:space-around; align-items:center;\" onmouseover=\"this.style.backgroundColor='#BA9BF8'\" onmouseout=\"this.style.backgroundColor='#9D6CFF'\" onclick=\"window.commands?.execute('create-mitosheet-from-dataframe-output');\">See Full Dataframe in Mito</div> <script> if (window.commands.hasCommand('create-mitosheet-from-dataframe-output')) document.getElementById('6ee53af6-0084-482d-9f33-23df90df6cc7').style.display = 'flex' </script> <table border=\"1\" class=\"dataframe\">\n",
       "  <thead>\n",
       "    <tr style=\"text-align: right;\">\n",
       "      <th></th>\n",
       "      <th>Output_net profit</th>\n",
       "    </tr>\n",
       "  </thead>\n",
       "  <tbody>\n",
       "    <tr>\n",
       "      <th>1</th>\n",
       "      <td>9.218195e+09</td>\n",
       "    </tr>\n",
       "    <tr>\n",
       "      <th>2</th>\n",
       "      <td>9.631774e+09</td>\n",
       "    </tr>\n",
       "    <tr>\n",
       "      <th>3</th>\n",
       "      <td>9.520714e+09</td>\n",
       "    </tr>\n",
       "    <tr>\n",
       "      <th>4</th>\n",
       "      <td>9.140167e+09</td>\n",
       "    </tr>\n",
       "    <tr>\n",
       "      <th>5</th>\n",
       "      <td>9.573325e+09</td>\n",
       "    </tr>\n",
       "  </tbody>\n",
       "</table></div>"
      ],
      "text/plain": [
       "   Output_net profit\n",
       "1       9.218195e+09\n",
       "2       9.631774e+09\n",
       "3       9.520714e+09\n",
       "4       9.140167e+09\n",
       "5       9.573325e+09"
      ]
     },
     "execution_count": 73,
     "metadata": {},
     "output_type": "execute_result"
    }
   ],
   "source": [
    "y = df.iloc[:,-1:]\n",
    "y.head()"
   ]
  },
  {
   "cell_type": "code",
   "execution_count": 74,
   "id": "81e210f9-b24d-489a-993d-025509b46399",
   "metadata": {},
   "outputs": [],
   "source": [
    "X_train, X_test, y_train, y_test = train_test_split(X, y, test_size=0.2, random_state=42)"
   ]
  },
  {
   "cell_type": "code",
   "execution_count": 75,
   "id": "262bf01b-ff47-4717-a9a6-f76ade5a1fd1",
   "metadata": {},
   "outputs": [],
   "source": [
    "std_scaler = StandardScaler()\n",
    "mm_scaler = MinMaxScaler()"
   ]
  },
  {
   "cell_type": "code",
   "execution_count": 76,
   "id": "ecb61b18-f0c5-4ce8-8499-a55b8ef21a12",
   "metadata": {},
   "outputs": [
    {
     "name": "stdout",
     "output_type": "stream",
     "text": [
      "neg_mean_squared_error: -1.8916894810772365e+18\n",
      "neg_root_mean_squared_error: -1003252577.3543837\n",
      "r2: 0.3932373861689084\n"
     ]
    }
   ],
   "source": [
    "gb_model = GradientBoostingRegressor(random_state=42)\n",
    "\n",
    "pipe_gb = make_pipeline(std_scaler, gb_model)\n",
    "\n",
    "# cross-validate the pipeline\n",
    "print(\"neg_mean_squared_error:\", cross_val_score(pipe_gb, X, y.values.ravel(), scoring=\"neg_mean_squared_error\").mean())\n",
    "print(\"neg_root_mean_squared_error:\", cross_val_score(pipe_gb, X, y.values.ravel(), scoring=\"neg_root_mean_squared_error\").mean())\n",
    "print(\"r2:\", cross_val_score(pipe_gb, X, y.values.ravel(), scoring=\"r2\").mean())"
   ]
  },
  {
   "cell_type": "code",
   "execution_count": 77,
   "id": "f0893cf3-b2d0-4438-aa5e-67a1658722dd",
   "metadata": {},
   "outputs": [],
   "source": [
    "learning_rate = [1, 0.5, 0.1,  0.01]\n",
    "n_estimators = [50, 100, 200, 500, 1000, 2000]\n",
    "max_depth = [3, 5, 10, None]\n",
    "# Minimum number of samples required to split a node\n",
    "min_samples_split = [2, 5, 10, 20, 30]\n",
    "# Minimum number of samples required at each leaf node\n",
    "min_samples_leaf = [1, 2, 4]\n",
    "subsample = [0.3, 0.5, 0.75, 1.0]"
   ]
  },
  {
   "cell_type": "code",
   "execution_count": 78,
   "id": "aef6348a-cb1d-4570-9107-5bf9a37304fe",
   "metadata": {},
   "outputs": [],
   "source": [
    "# specify parameter values to search\n",
    "params = {}\n",
    "params['gradientboostingregressor__learning_rate'] = learning_rate\n",
    "params['gradientboostingregressor__n_estimators'] = n_estimators\n",
    "params['gradientboostingregressor__max_depth'] = max_depth\n",
    "params['gradientboostingregressor__min_samples_split'] = min_samples_split\n",
    "params['gradientboostingregressor__min_samples_leaf'] = min_samples_leaf\n",
    "params['gradientboostingregressor__subsample'] = subsample"
   ]
  },
  {
   "cell_type": "code",
   "execution_count": 79,
   "id": "1108df62-201c-4d47-b0da-6c2d8a873629",
   "metadata": {},
   "outputs": [
    {
     "data": {
      "text/plain": [
       "RandomizedSearchCV(cv=5,\n",
       "                   estimator=Pipeline(steps=[('standardscaler',\n",
       "                                              StandardScaler()),\n",
       "                                             ('gradientboostingregressor',\n",
       "                                              GradientBoostingRegressor(random_state=42))]),\n",
       "                   param_distributions={'gradientboostingregressor__learning_rate': [1,\n",
       "                                                                                     0.5,\n",
       "                                                                                     0.1,\n",
       "                                                                                     0.01],\n",
       "                                        'gradientboostingregressor__max_depth': [3,\n",
       "                                                                                 5,\n",
       "                                                                                 10,\n",
       "                                                                                 None],\n",
       "                                        'gradientboostingregressor__min_samples_leaf': [1,\n",
       "                                                                                        2,\n",
       "                                                                                        4],\n",
       "                                        'gradientboostingregressor__min_samples_split': [2,\n",
       "                                                                                         5,\n",
       "                                                                                         10,\n",
       "                                                                                         20,\n",
       "                                                                                         30],\n",
       "                                        'gradientboostingregressor__n_estimators': [50,\n",
       "                                                                                    100,\n",
       "                                                                                    200,\n",
       "                                                                                    500,\n",
       "                                                                                    1000,\n",
       "                                                                                    2000],\n",
       "                                        'gradientboostingregressor__subsample': [0.3,\n",
       "                                                                                 0.5,\n",
       "                                                                                 0.75,\n",
       "                                                                                 1.0]},\n",
       "                   random_state=1, scoring='neg_root_mean_squared_error')"
      ]
     },
     "execution_count": 79,
     "metadata": {},
     "output_type": "execute_result"
    }
   ],
   "source": [
    "grid = RandomizedSearchCV(pipe_gb, params, cv=5, scoring=\"neg_root_mean_squared_error\", random_state=1)\n",
    "grid.fit(X, y.values.ravel())"
   ]
  },
  {
   "cell_type": "code",
   "execution_count": 80,
   "id": "13b2dd41-835b-405c-b3bc-4baf3fc6c0b8",
   "metadata": {},
   "outputs": [
    {
     "name": "stdout",
     "output_type": "stream",
     "text": [
      "-933401414.0160824\n",
      "{'gradientboostingregressor__subsample': 0.3, 'gradientboostingregressor__n_estimators': 2000, 'gradientboostingregressor__min_samples_split': 2, 'gradientboostingregressor__min_samples_leaf': 1, 'gradientboostingregressor__max_depth': None, 'gradientboostingregressor__learning_rate': 0.1}\n",
      "Pipeline(steps=[('standardscaler', StandardScaler()),\n",
      "                ('gradientboostingregressor',\n",
      "                 GradientBoostingRegressor(max_depth=None, n_estimators=2000,\n",
      "                                           random_state=42, subsample=0.3))])\n",
      "r2: 0.5179005859371022\n"
     ]
    }
   ],
   "source": [
    "print(grid.best_score_)\n",
    "print(grid.best_params_)\n",
    "print(grid.best_estimator_)\n",
    "print(\"r2:\", cross_val_score(grid.best_estimator_, X, y.values.ravel(), scoring=\"r2\").mean())"
   ]
  },
  {
   "cell_type": "code",
   "execution_count": 81,
   "id": "4ee8815d-b350-4c27-96b9-f52e9c37a540",
   "metadata": {},
   "outputs": [
    {
     "data": {
      "text/plain": [
       "array([0.37, 0.23, 0.41])"
      ]
     },
     "execution_count": 81,
     "metadata": {},
     "output_type": "execute_result"
    }
   ],
   "source": [
    "imp_gb = grid.best_estimator_.steps[1][1].feature_importances_\n",
    "imp_gb"
   ]
  },
  {
   "cell_type": "code",
   "execution_count": 82,
   "id": "8edbc3da-9f03-48df-9dbe-8899be196518",
   "metadata": {},
   "outputs": [
    {
     "data": {
      "text/html": [
       "<div><div id=2e21f41b-deb4-447a-90f9-67b27c25cf67 style=\"display:none; background-color:#9D6CFF; color:white; width:200px; height:30px; padding-left:5px; border-radius:4px; flex-direction:row; justify-content:space-around; align-items:center;\" onmouseover=\"this.style.backgroundColor='#BA9BF8'\" onmouseout=\"this.style.backgroundColor='#9D6CFF'\" onclick=\"window.commands?.execute('create-mitosheet-from-dataframe-output');\">See Full Dataframe in Mito</div> <script> if (window.commands.hasCommand('create-mitosheet-from-dataframe-output')) document.getElementById('2e21f41b-deb4-447a-90f9-67b27c25cf67').style.display = 'flex' </script> <table border=\"1\" class=\"dataframe\">\n",
       "  <thead>\n",
       "    <tr style=\"text-align: right;\">\n",
       "      <th></th>\n",
       "      <th>Feature Name</th>\n",
       "      <th>Importance</th>\n",
       "    </tr>\n",
       "  </thead>\n",
       "  <tbody>\n",
       "    <tr>\n",
       "      <th>2</th>\n",
       "      <td>Input_operational income</td>\n",
       "      <td>0.405086</td>\n",
       "    </tr>\n",
       "    <tr>\n",
       "      <th>0</th>\n",
       "      <td>Input_owners’ equity</td>\n",
       "      <td>0.368021</td>\n",
       "    </tr>\n",
       "    <tr>\n",
       "      <th>1</th>\n",
       "      <td>Input_total operational expences</td>\n",
       "      <td>0.226893</td>\n",
       "    </tr>\n",
       "  </tbody>\n",
       "</table></div>"
      ],
      "text/plain": [
       "                       Feature Name  Importance\n",
       "2          Input_operational income    0.405086\n",
       "0              Input_owners’ equity    0.368021\n",
       "1  Input_total operational expences    0.226893"
      ]
     },
     "execution_count": 82,
     "metadata": {},
     "output_type": "execute_result"
    }
   ],
   "source": [
    "df_gb = pd.DataFrame({\"Feature Name\":X.columns, \"Importance\": imp_gb}).sort_values(\"Importance\", ascending=False)\n",
    "df_gb"
   ]
  },
  {
   "cell_type": "code",
   "execution_count": 24,
   "id": "83505479-6a82-45a1-91a1-79fcb979e85b",
   "metadata": {},
   "outputs": [],
   "source": [
    "input_imp = list(df_gb[\"Feature Name\"].values)\n",
    "results.append((0, grid.best_estimator_.steps[1][0], input_imp,\n",
    "                {\"r2\" : cross_val_score(grid.best_estimator_, X, y.values.ravel(), scoring=\"r2\").mean(),\n",
    "                \"neg_root_mean_squared_error\": grid.best_score_}))"
   ]
  },
  {
   "cell_type": "code",
   "execution_count": 25,
   "id": "28d99369-537f-43e3-8004-6cb60b364819",
   "metadata": {},
   "outputs": [
    {
     "data": {
      "application/vnd.plotly.v1+json": {
       "config": {
        "plotlyServerURL": "https://plot.ly"
       },
       "data": [
        {
         "alignmentgroup": "True",
         "hovertemplate": "Importance=%{x}<br>Feature Name=%{y}<extra></extra>",
         "legendgroup": "",
         "marker": {
          "color": "#636efa",
          "pattern": {
           "shape": ""
          }
         },
         "name": "",
         "offsetgroup": "",
         "orientation": "h",
         "showlegend": false,
         "textposition": "auto",
         "type": "bar",
         "x": [
          0.5704004942955443,
          0.2772761757445715,
          0.15232332995988423
         ],
         "xaxis": "x",
         "y": [
          "Input_total operational expences",
          "Input_owners’ equity",
          "Input_net profit"
         ],
         "yaxis": "y"
        }
       ],
       "layout": {
        "autosize": false,
        "barmode": "relative",
        "height": 300,
        "legend": {
         "tracegroupgap": 0
        },
        "margin": {
         "t": 60
        },
        "template": {
         "data": {
          "bar": [
           {
            "error_x": {
             "color": "#2a3f5f"
            },
            "error_y": {
             "color": "#2a3f5f"
            },
            "marker": {
             "line": {
              "color": "#E5ECF6",
              "width": 0.5
             },
             "pattern": {
              "fillmode": "overlay",
              "size": 10,
              "solidity": 0.2
             }
            },
            "type": "bar"
           }
          ],
          "barpolar": [
           {
            "marker": {
             "line": {
              "color": "#E5ECF6",
              "width": 0.5
             },
             "pattern": {
              "fillmode": "overlay",
              "size": 10,
              "solidity": 0.2
             }
            },
            "type": "barpolar"
           }
          ],
          "carpet": [
           {
            "aaxis": {
             "endlinecolor": "#2a3f5f",
             "gridcolor": "white",
             "linecolor": "white",
             "minorgridcolor": "white",
             "startlinecolor": "#2a3f5f"
            },
            "baxis": {
             "endlinecolor": "#2a3f5f",
             "gridcolor": "white",
             "linecolor": "white",
             "minorgridcolor": "white",
             "startlinecolor": "#2a3f5f"
            },
            "type": "carpet"
           }
          ],
          "choropleth": [
           {
            "colorbar": {
             "outlinewidth": 0,
             "ticks": ""
            },
            "type": "choropleth"
           }
          ],
          "contour": [
           {
            "colorbar": {
             "outlinewidth": 0,
             "ticks": ""
            },
            "colorscale": [
             [
              0,
              "#0d0887"
             ],
             [
              0.1111111111111111,
              "#46039f"
             ],
             [
              0.2222222222222222,
              "#7201a8"
             ],
             [
              0.3333333333333333,
              "#9c179e"
             ],
             [
              0.4444444444444444,
              "#bd3786"
             ],
             [
              0.5555555555555556,
              "#d8576b"
             ],
             [
              0.6666666666666666,
              "#ed7953"
             ],
             [
              0.7777777777777778,
              "#fb9f3a"
             ],
             [
              0.8888888888888888,
              "#fdca26"
             ],
             [
              1,
              "#f0f921"
             ]
            ],
            "type": "contour"
           }
          ],
          "contourcarpet": [
           {
            "colorbar": {
             "outlinewidth": 0,
             "ticks": ""
            },
            "type": "contourcarpet"
           }
          ],
          "heatmap": [
           {
            "colorbar": {
             "outlinewidth": 0,
             "ticks": ""
            },
            "colorscale": [
             [
              0,
              "#0d0887"
             ],
             [
              0.1111111111111111,
              "#46039f"
             ],
             [
              0.2222222222222222,
              "#7201a8"
             ],
             [
              0.3333333333333333,
              "#9c179e"
             ],
             [
              0.4444444444444444,
              "#bd3786"
             ],
             [
              0.5555555555555556,
              "#d8576b"
             ],
             [
              0.6666666666666666,
              "#ed7953"
             ],
             [
              0.7777777777777778,
              "#fb9f3a"
             ],
             [
              0.8888888888888888,
              "#fdca26"
             ],
             [
              1,
              "#f0f921"
             ]
            ],
            "type": "heatmap"
           }
          ],
          "heatmapgl": [
           {
            "colorbar": {
             "outlinewidth": 0,
             "ticks": ""
            },
            "colorscale": [
             [
              0,
              "#0d0887"
             ],
             [
              0.1111111111111111,
              "#46039f"
             ],
             [
              0.2222222222222222,
              "#7201a8"
             ],
             [
              0.3333333333333333,
              "#9c179e"
             ],
             [
              0.4444444444444444,
              "#bd3786"
             ],
             [
              0.5555555555555556,
              "#d8576b"
             ],
             [
              0.6666666666666666,
              "#ed7953"
             ],
             [
              0.7777777777777778,
              "#fb9f3a"
             ],
             [
              0.8888888888888888,
              "#fdca26"
             ],
             [
              1,
              "#f0f921"
             ]
            ],
            "type": "heatmapgl"
           }
          ],
          "histogram": [
           {
            "marker": {
             "pattern": {
              "fillmode": "overlay",
              "size": 10,
              "solidity": 0.2
             }
            },
            "type": "histogram"
           }
          ],
          "histogram2d": [
           {
            "colorbar": {
             "outlinewidth": 0,
             "ticks": ""
            },
            "colorscale": [
             [
              0,
              "#0d0887"
             ],
             [
              0.1111111111111111,
              "#46039f"
             ],
             [
              0.2222222222222222,
              "#7201a8"
             ],
             [
              0.3333333333333333,
              "#9c179e"
             ],
             [
              0.4444444444444444,
              "#bd3786"
             ],
             [
              0.5555555555555556,
              "#d8576b"
             ],
             [
              0.6666666666666666,
              "#ed7953"
             ],
             [
              0.7777777777777778,
              "#fb9f3a"
             ],
             [
              0.8888888888888888,
              "#fdca26"
             ],
             [
              1,
              "#f0f921"
             ]
            ],
            "type": "histogram2d"
           }
          ],
          "histogram2dcontour": [
           {
            "colorbar": {
             "outlinewidth": 0,
             "ticks": ""
            },
            "colorscale": [
             [
              0,
              "#0d0887"
             ],
             [
              0.1111111111111111,
              "#46039f"
             ],
             [
              0.2222222222222222,
              "#7201a8"
             ],
             [
              0.3333333333333333,
              "#9c179e"
             ],
             [
              0.4444444444444444,
              "#bd3786"
             ],
             [
              0.5555555555555556,
              "#d8576b"
             ],
             [
              0.6666666666666666,
              "#ed7953"
             ],
             [
              0.7777777777777778,
              "#fb9f3a"
             ],
             [
              0.8888888888888888,
              "#fdca26"
             ],
             [
              1,
              "#f0f921"
             ]
            ],
            "type": "histogram2dcontour"
           }
          ],
          "mesh3d": [
           {
            "colorbar": {
             "outlinewidth": 0,
             "ticks": ""
            },
            "type": "mesh3d"
           }
          ],
          "parcoords": [
           {
            "line": {
             "colorbar": {
              "outlinewidth": 0,
              "ticks": ""
             }
            },
            "type": "parcoords"
           }
          ],
          "pie": [
           {
            "automargin": true,
            "type": "pie"
           }
          ],
          "scatter": [
           {
            "marker": {
             "colorbar": {
              "outlinewidth": 0,
              "ticks": ""
             }
            },
            "type": "scatter"
           }
          ],
          "scatter3d": [
           {
            "line": {
             "colorbar": {
              "outlinewidth": 0,
              "ticks": ""
             }
            },
            "marker": {
             "colorbar": {
              "outlinewidth": 0,
              "ticks": ""
             }
            },
            "type": "scatter3d"
           }
          ],
          "scattercarpet": [
           {
            "marker": {
             "colorbar": {
              "outlinewidth": 0,
              "ticks": ""
             }
            },
            "type": "scattercarpet"
           }
          ],
          "scattergeo": [
           {
            "marker": {
             "colorbar": {
              "outlinewidth": 0,
              "ticks": ""
             }
            },
            "type": "scattergeo"
           }
          ],
          "scattergl": [
           {
            "marker": {
             "colorbar": {
              "outlinewidth": 0,
              "ticks": ""
             }
            },
            "type": "scattergl"
           }
          ],
          "scattermapbox": [
           {
            "marker": {
             "colorbar": {
              "outlinewidth": 0,
              "ticks": ""
             }
            },
            "type": "scattermapbox"
           }
          ],
          "scatterpolar": [
           {
            "marker": {
             "colorbar": {
              "outlinewidth": 0,
              "ticks": ""
             }
            },
            "type": "scatterpolar"
           }
          ],
          "scatterpolargl": [
           {
            "marker": {
             "colorbar": {
              "outlinewidth": 0,
              "ticks": ""
             }
            },
            "type": "scatterpolargl"
           }
          ],
          "scatterternary": [
           {
            "marker": {
             "colorbar": {
              "outlinewidth": 0,
              "ticks": ""
             }
            },
            "type": "scatterternary"
           }
          ],
          "surface": [
           {
            "colorbar": {
             "outlinewidth": 0,
             "ticks": ""
            },
            "colorscale": [
             [
              0,
              "#0d0887"
             ],
             [
              0.1111111111111111,
              "#46039f"
             ],
             [
              0.2222222222222222,
              "#7201a8"
             ],
             [
              0.3333333333333333,
              "#9c179e"
             ],
             [
              0.4444444444444444,
              "#bd3786"
             ],
             [
              0.5555555555555556,
              "#d8576b"
             ],
             [
              0.6666666666666666,
              "#ed7953"
             ],
             [
              0.7777777777777778,
              "#fb9f3a"
             ],
             [
              0.8888888888888888,
              "#fdca26"
             ],
             [
              1,
              "#f0f921"
             ]
            ],
            "type": "surface"
           }
          ],
          "table": [
           {
            "cells": {
             "fill": {
              "color": "#EBF0F8"
             },
             "line": {
              "color": "white"
             }
            },
            "header": {
             "fill": {
              "color": "#C8D4E3"
             },
             "line": {
              "color": "white"
             }
            },
            "type": "table"
           }
          ]
         },
         "layout": {
          "annotationdefaults": {
           "arrowcolor": "#2a3f5f",
           "arrowhead": 0,
           "arrowwidth": 1
          },
          "autotypenumbers": "strict",
          "coloraxis": {
           "colorbar": {
            "outlinewidth": 0,
            "ticks": ""
           }
          },
          "colorscale": {
           "diverging": [
            [
             0,
             "#8e0152"
            ],
            [
             0.1,
             "#c51b7d"
            ],
            [
             0.2,
             "#de77ae"
            ],
            [
             0.3,
             "#f1b6da"
            ],
            [
             0.4,
             "#fde0ef"
            ],
            [
             0.5,
             "#f7f7f7"
            ],
            [
             0.6,
             "#e6f5d0"
            ],
            [
             0.7,
             "#b8e186"
            ],
            [
             0.8,
             "#7fbc41"
            ],
            [
             0.9,
             "#4d9221"
            ],
            [
             1,
             "#276419"
            ]
           ],
           "sequential": [
            [
             0,
             "#0d0887"
            ],
            [
             0.1111111111111111,
             "#46039f"
            ],
            [
             0.2222222222222222,
             "#7201a8"
            ],
            [
             0.3333333333333333,
             "#9c179e"
            ],
            [
             0.4444444444444444,
             "#bd3786"
            ],
            [
             0.5555555555555556,
             "#d8576b"
            ],
            [
             0.6666666666666666,
             "#ed7953"
            ],
            [
             0.7777777777777778,
             "#fb9f3a"
            ],
            [
             0.8888888888888888,
             "#fdca26"
            ],
            [
             1,
             "#f0f921"
            ]
           ],
           "sequentialminus": [
            [
             0,
             "#0d0887"
            ],
            [
             0.1111111111111111,
             "#46039f"
            ],
            [
             0.2222222222222222,
             "#7201a8"
            ],
            [
             0.3333333333333333,
             "#9c179e"
            ],
            [
             0.4444444444444444,
             "#bd3786"
            ],
            [
             0.5555555555555556,
             "#d8576b"
            ],
            [
             0.6666666666666666,
             "#ed7953"
            ],
            [
             0.7777777777777778,
             "#fb9f3a"
            ],
            [
             0.8888888888888888,
             "#fdca26"
            ],
            [
             1,
             "#f0f921"
            ]
           ]
          },
          "colorway": [
           "#636efa",
           "#EF553B",
           "#00cc96",
           "#ab63fa",
           "#FFA15A",
           "#19d3f3",
           "#FF6692",
           "#B6E880",
           "#FF97FF",
           "#FECB52"
          ],
          "font": {
           "color": "#2a3f5f"
          },
          "geo": {
           "bgcolor": "white",
           "lakecolor": "white",
           "landcolor": "#E5ECF6",
           "showlakes": true,
           "showland": true,
           "subunitcolor": "white"
          },
          "hoverlabel": {
           "align": "left"
          },
          "hovermode": "closest",
          "mapbox": {
           "style": "light"
          },
          "paper_bgcolor": "white",
          "plot_bgcolor": "#E5ECF6",
          "polar": {
           "angularaxis": {
            "gridcolor": "white",
            "linecolor": "white",
            "ticks": ""
           },
           "bgcolor": "#E5ECF6",
           "radialaxis": {
            "gridcolor": "white",
            "linecolor": "white",
            "ticks": ""
           }
          },
          "scene": {
           "xaxis": {
            "backgroundcolor": "#E5ECF6",
            "gridcolor": "white",
            "gridwidth": 2,
            "linecolor": "white",
            "showbackground": true,
            "ticks": "",
            "zerolinecolor": "white"
           },
           "yaxis": {
            "backgroundcolor": "#E5ECF6",
            "gridcolor": "white",
            "gridwidth": 2,
            "linecolor": "white",
            "showbackground": true,
            "ticks": "",
            "zerolinecolor": "white"
           },
           "zaxis": {
            "backgroundcolor": "#E5ECF6",
            "gridcolor": "white",
            "gridwidth": 2,
            "linecolor": "white",
            "showbackground": true,
            "ticks": "",
            "zerolinecolor": "white"
           }
          },
          "shapedefaults": {
           "line": {
            "color": "#2a3f5f"
           }
          },
          "ternary": {
           "aaxis": {
            "gridcolor": "white",
            "linecolor": "white",
            "ticks": ""
           },
           "baxis": {
            "gridcolor": "white",
            "linecolor": "white",
            "ticks": ""
           },
           "bgcolor": "#E5ECF6",
           "caxis": {
            "gridcolor": "white",
            "linecolor": "white",
            "ticks": ""
           }
          },
          "title": {
           "x": 0.05
          },
          "xaxis": {
           "automargin": true,
           "gridcolor": "white",
           "linecolor": "white",
           "ticks": "",
           "title": {
            "standoff": 15
           },
           "zerolinecolor": "white",
           "zerolinewidth": 2
          },
          "yaxis": {
           "automargin": true,
           "gridcolor": "white",
           "linecolor": "white",
           "ticks": "",
           "title": {
            "standoff": 15
           },
           "zerolinecolor": "white",
           "zerolinewidth": 2
          }
         }
        },
        "title": {
         "text": "GradientBoostingRegressor Feature Importances"
        },
        "width": 600,
        "xaxis": {
         "anchor": "y",
         "autorange": true,
         "domain": [
          0,
          1
         ],
         "range": [
          0,
          0.6004215729426782
         ],
         "title": {
          "text": "Importance"
         },
         "type": "linear"
        },
        "yaxis": {
         "anchor": "x",
         "autorange": true,
         "categoryorder": "total ascending",
         "domain": [
          0,
          1
         ],
         "range": [
          -0.5,
          2.5
         ],
         "title": {
          "text": "Feature Name"
         },
         "type": "category"
        }
       }
      },
      "image/png": "[encoded data removed]",
      "text/html": [
       "<div>                            <div id=\"707763db-a990-4f7c-b5b2-9f7afc585671\" class=\"plotly-graph-div\" style=\"height:300px; width:600px;\"></div>            <script type=\"text/javascript\">                require([\"plotly\"], function(Plotly) {                    window.PLOTLYENV=window.PLOTLYENV || {};                                    if (document.getElementById(\"707763db-a990-4f7c-b5b2-9f7afc585671\")) {                    Plotly.newPlot(                        \"707763db-a990-4f7c-b5b2-9f7afc585671\",                        [{\"alignmentgroup\":\"True\",\"hovertemplate\":\"Importance=%{x}<br>Feature Name=%{y}<extra></extra>\",\"legendgroup\":\"\",\"marker\":{\"color\":\"#636efa\",\"pattern\":{\"shape\":\"\"}},\"name\":\"\",\"offsetgroup\":\"\",\"orientation\":\"h\",\"showlegend\":false,\"textposition\":\"auto\",\"type\":\"bar\",\"x\":[0.5704004942955443,0.2772761757445715,0.15232332995988423],\"xaxis\":\"x\",\"y\":[\"Input_total operational expences\",\"Input_owners\\u2019 equity\",\"Input_net profit\"],\"yaxis\":\"y\"}],                        {\"autosize\":false,\"barmode\":\"relative\",\"height\":300,\"legend\":{\"tracegroupgap\":0},\"margin\":{\"t\":60},\"template\":{\"data\":{\"bar\":[{\"error_x\":{\"color\":\"#2a3f5f\"},\"error_y\":{\"color\":\"#2a3f5f\"},\"marker\":{\"line\":{\"color\":\"#E5ECF6\",\"width\":0.5},\"pattern\":{\"fillmode\":\"overlay\",\"size\":10,\"solidity\":0.2}},\"type\":\"bar\"}],\"barpolar\":[{\"marker\":{\"line\":{\"color\":\"#E5ECF6\",\"width\":0.5},\"pattern\":{\"fillmode\":\"overlay\",\"size\":10,\"solidity\":0.2}},\"type\":\"barpolar\"}],\"carpet\":[{\"aaxis\":{\"endlinecolor\":\"#2a3f5f\",\"gridcolor\":\"white\",\"linecolor\":\"white\",\"minorgridcolor\":\"white\",\"startlinecolor\":\"#2a3f5f\"},\"baxis\":{\"endlinecolor\":\"#2a3f5f\",\"gridcolor\":\"white\",\"linecolor\":\"white\",\"minorgridcolor\":\"white\",\"startlinecolor\":\"#2a3f5f\"},\"type\":\"carpet\"}],\"choropleth\":[{\"colorbar\":{\"outlinewidth\":0,\"ticks\":\"\"},\"type\":\"choropleth\"}],\"contour\":[{\"colorbar\":{\"outlinewidth\":0,\"ticks\":\"\"},\"colorscale\":[[0.0,\"#0d0887\"],[0.1111111111111111,\"#46039f\"],[0.2222222222222222,\"#7201a8\"],[0.3333333333333333,\"#9c179e\"],[0.4444444444444444,\"#bd3786\"],[0.5555555555555556,\"#d8576b\"],[0.6666666666666666,\"#ed7953\"],[0.7777777777777778,\"#fb9f3a\"],[0.8888888888888888,\"#fdca26\"],[1.0,\"#f0f921\"]],\"type\":\"contour\"}],\"contourcarpet\":[{\"colorbar\":{\"outlinewidth\":0,\"ticks\":\"\"},\"type\":\"contourcarpet\"}],\"heatmap\":[{\"colorbar\":{\"outlinewidth\":0,\"ticks\":\"\"},\"colorscale\":[[0.0,\"#0d0887\"],[0.1111111111111111,\"#46039f\"],[0.2222222222222222,\"#7201a8\"],[0.3333333333333333,\"#9c179e\"],[0.4444444444444444,\"#bd3786\"],[0.5555555555555556,\"#d8576b\"],[0.6666666666666666,\"#ed7953\"],[0.7777777777777778,\"#fb9f3a\"],[0.8888888888888888,\"#fdca26\"],[1.0,\"#f0f921\"]],\"type\":\"heatmap\"}],\"heatmapgl\":[{\"colorbar\":{\"outlinewidth\":0,\"ticks\":\"\"},\"colorscale\":[[0.0,\"#0d0887\"],[0.1111111111111111,\"#46039f\"],[0.2222222222222222,\"#7201a8\"],[0.3333333333333333,\"#9c179e\"],[0.4444444444444444,\"#bd3786\"],[0.5555555555555556,\"#d8576b\"],[0.6666666666666666,\"#ed7953\"],[0.7777777777777778,\"#fb9f3a\"],[0.8888888888888888,\"#fdca26\"],[1.0,\"#f0f921\"]],\"type\":\"heatmapgl\"}],\"histogram\":[{\"marker\":{\"pattern\":{\"fillmode\":\"overlay\",\"size\":10,\"solidity\":0.2}},\"type\":\"histogram\"}],\"histogram2d\":[{\"colorbar\":{\"outlinewidth\":0,\"ticks\":\"\"},\"colorscale\":[[0.0,\"#0d0887\"],[0.1111111111111111,\"#46039f\"],[0.2222222222222222,\"#7201a8\"],[0.3333333333333333,\"#9c179e\"],[0.4444444444444444,\"#bd3786\"],[0.5555555555555556,\"#d8576b\"],[0.6666666666666666,\"#ed7953\"],[0.7777777777777778,\"#fb9f3a\"],[0.8888888888888888,\"#fdca26\"],[1.0,\"#f0f921\"]],\"type\":\"histogram2d\"}],\"histogram2dcontour\":[{\"colorbar\":{\"outlinewidth\":0,\"ticks\":\"\"},\"colorscale\":[[0.0,\"#0d0887\"],[0.1111111111111111,\"#46039f\"],[0.2222222222222222,\"#7201a8\"],[0.3333333333333333,\"#9c179e\"],[0.4444444444444444,\"#bd3786\"],[0.5555555555555556,\"#d8576b\"],[0.6666666666666666,\"#ed7953\"],[0.7777777777777778,\"#fb9f3a\"],[0.8888888888888888,\"#fdca26\"],[1.0,\"#f0f921\"]],\"type\":\"histogram2dcontour\"}],\"mesh3d\":[{\"colorbar\":{\"outlinewidth\":0,\"ticks\":\"\"},\"type\":\"mesh3d\"}],\"parcoords\":[{\"line\":{\"colorbar\":{\"outlinewidth\":0,\"ticks\":\"\"}},\"type\":\"parcoords\"}],\"pie\":[{\"automargin\":true,\"type\":\"pie\"}],\"scatter\":[{\"marker\":{\"colorbar\":{\"outlinewidth\":0,\"ticks\":\"\"}},\"type\":\"scatter\"}],\"scatter3d\":[{\"line\":{\"colorbar\":{\"outlinewidth\":0,\"ticks\":\"\"}},\"marker\":{\"colorbar\":{\"outlinewidth\":0,\"ticks\":\"\"}},\"type\":\"scatter3d\"}],\"scattercarpet\":[{\"marker\":{\"colorbar\":{\"outlinewidth\":0,\"ticks\":\"\"}},\"type\":\"scattercarpet\"}],\"scattergeo\":[{\"marker\":{\"colorbar\":{\"outlinewidth\":0,\"ticks\":\"\"}},\"type\":\"scattergeo\"}],\"scattergl\":[{\"marker\":{\"colorbar\":{\"outlinewidth\":0,\"ticks\":\"\"}},\"type\":\"scattergl\"}],\"scattermapbox\":[{\"marker\":{\"colorbar\":{\"outlinewidth\":0,\"ticks\":\"\"}},\"type\":\"scattermapbox\"}],\"scatterpolar\":[{\"marker\":{\"colorbar\":{\"outlinewidth\":0,\"ticks\":\"\"}},\"type\":\"scatterpolar\"}],\"scatterpolargl\":[{\"marker\":{\"colorbar\":{\"outlinewidth\":0,\"ticks\":\"\"}},\"type\":\"scatterpolargl\"}],\"scatterternary\":[{\"marker\":{\"colorbar\":{\"outlinewidth\":0,\"ticks\":\"\"}},\"type\":\"scatterternary\"}],\"surface\":[{\"colorbar\":{\"outlinewidth\":0,\"ticks\":\"\"},\"colorscale\":[[0.0,\"#0d0887\"],[0.1111111111111111,\"#46039f\"],[0.2222222222222222,\"#7201a8\"],[0.3333333333333333,\"#9c179e\"],[0.4444444444444444,\"#bd3786\"],[0.5555555555555556,\"#d8576b\"],[0.6666666666666666,\"#ed7953\"],[0.7777777777777778,\"#fb9f3a\"],[0.8888888888888888,\"#fdca26\"],[1.0,\"#f0f921\"]],\"type\":\"surface\"}],\"table\":[{\"cells\":{\"fill\":{\"color\":\"#EBF0F8\"},\"line\":{\"color\":\"white\"}},\"header\":{\"fill\":{\"color\":\"#C8D4E3\"},\"line\":{\"color\":\"white\"}},\"type\":\"table\"}]},\"layout\":{\"annotationdefaults\":{\"arrowcolor\":\"#2a3f5f\",\"arrowhead\":0,\"arrowwidth\":1},\"autotypenumbers\":\"strict\",\"coloraxis\":{\"colorbar\":{\"outlinewidth\":0,\"ticks\":\"\"}},\"colorscale\":{\"diverging\":[[0,\"#8e0152\"],[0.1,\"#c51b7d\"],[0.2,\"#de77ae\"],[0.3,\"#f1b6da\"],[0.4,\"#fde0ef\"],[0.5,\"#f7f7f7\"],[0.6,\"#e6f5d0\"],[0.7,\"#b8e186\"],[0.8,\"#7fbc41\"],[0.9,\"#4d9221\"],[1,\"#276419\"]],\"sequential\":[[0.0,\"#0d0887\"],[0.1111111111111111,\"#46039f\"],[0.2222222222222222,\"#7201a8\"],[0.3333333333333333,\"#9c179e\"],[0.4444444444444444,\"#bd3786\"],[0.5555555555555556,\"#d8576b\"],[0.6666666666666666,\"#ed7953\"],[0.7777777777777778,\"#fb9f3a\"],[0.8888888888888888,\"#fdca26\"],[1.0,\"#f0f921\"]],\"sequentialminus\":[[0.0,\"#0d0887\"],[0.1111111111111111,\"#46039f\"],[0.2222222222222222,\"#7201a8\"],[0.3333333333333333,\"#9c179e\"],[0.4444444444444444,\"#bd3786\"],[0.5555555555555556,\"#d8576b\"],[0.6666666666666666,\"#ed7953\"],[0.7777777777777778,\"#fb9f3a\"],[0.8888888888888888,\"#fdca26\"],[1.0,\"#f0f921\"]]},\"colorway\":[\"#636efa\",\"#EF553B\",\"#00cc96\",\"#ab63fa\",\"#FFA15A\",\"#19d3f3\",\"#FF6692\",\"#B6E880\",\"#FF97FF\",\"#FECB52\"],\"font\":{\"color\":\"#2a3f5f\"},\"geo\":{\"bgcolor\":\"white\",\"lakecolor\":\"white\",\"landcolor\":\"#E5ECF6\",\"showlakes\":true,\"showland\":true,\"subunitcolor\":\"white\"},\"hoverlabel\":{\"align\":\"left\"},\"hovermode\":\"closest\",\"mapbox\":{\"style\":\"light\"},\"paper_bgcolor\":\"white\",\"plot_bgcolor\":\"#E5ECF6\",\"polar\":{\"angularaxis\":{\"gridcolor\":\"white\",\"linecolor\":\"white\",\"ticks\":\"\"},\"bgcolor\":\"#E5ECF6\",\"radialaxis\":{\"gridcolor\":\"white\",\"linecolor\":\"white\",\"ticks\":\"\"}},\"scene\":{\"xaxis\":{\"backgroundcolor\":\"#E5ECF6\",\"gridcolor\":\"white\",\"gridwidth\":2,\"linecolor\":\"white\",\"showbackground\":true,\"ticks\":\"\",\"zerolinecolor\":\"white\"},\"yaxis\":{\"backgroundcolor\":\"#E5ECF6\",\"gridcolor\":\"white\",\"gridwidth\":2,\"linecolor\":\"white\",\"showbackground\":true,\"ticks\":\"\",\"zerolinecolor\":\"white\"},\"zaxis\":{\"backgroundcolor\":\"#E5ECF6\",\"gridcolor\":\"white\",\"gridwidth\":2,\"linecolor\":\"white\",\"showbackground\":true,\"ticks\":\"\",\"zerolinecolor\":\"white\"}},\"shapedefaults\":{\"line\":{\"color\":\"#2a3f5f\"}},\"ternary\":{\"aaxis\":{\"gridcolor\":\"white\",\"linecolor\":\"white\",\"ticks\":\"\"},\"baxis\":{\"gridcolor\":\"white\",\"linecolor\":\"white\",\"ticks\":\"\"},\"bgcolor\":\"#E5ECF6\",\"caxis\":{\"gridcolor\":\"white\",\"linecolor\":\"white\",\"ticks\":\"\"}},\"title\":{\"x\":0.05},\"xaxis\":{\"automargin\":true,\"gridcolor\":\"white\",\"linecolor\":\"white\",\"ticks\":\"\",\"title\":{\"standoff\":15},\"zerolinecolor\":\"white\",\"zerolinewidth\":2},\"yaxis\":{\"automargin\":true,\"gridcolor\":\"white\",\"linecolor\":\"white\",\"ticks\":\"\",\"title\":{\"standoff\":15},\"zerolinecolor\":\"white\",\"zerolinewidth\":2}}},\"title\":{\"text\":\"GradientBoostingRegressor Feature Importances\"},\"width\":600,\"xaxis\":{\"anchor\":\"y\",\"domain\":[0.0,1.0],\"title\":{\"text\":\"Importance\"}},\"yaxis\":{\"anchor\":\"x\",\"categoryorder\":\"total ascending\",\"domain\":[0.0,1.0],\"title\":{\"text\":\"Feature Name\"}}},                        {\"responsive\": true}                    ).then(function(){\n",
       "                            \n",
       "var gd = document.getElementById('707763db-a990-4f7c-b5b2-9f7afc585671');\n",
       "var x = new MutationObserver(function (mutations, observer) {{\n",
       "        var display = window.getComputedStyle(gd).display;\n",
       "        if (!display || display === 'none') {{\n",
       "            console.log([gd, 'removed!']);\n",
       "            Plotly.purge(gd);\n",
       "            observer.disconnect();\n",
       "        }}\n",
       "}});\n",
       "\n",
       "// Listen for the removal of the full notebook cells\n",
       "var notebookContainer = gd.closest('#notebook-container');\n",
       "if (notebookContainer) {{\n",
       "    x.observe(notebookContainer, {childList: true});\n",
       "}}\n",
       "\n",
       "// Listen for the clearing of the current output cell\n",
       "var outputEl = gd.closest('.output');\n",
       "if (outputEl) {{\n",
       "    x.observe(outputEl, {childList: true});\n",
       "}}\n",
       "\n",
       "                        })                };                });            </script>        </div>"
      ]
     },
     "metadata": {},
     "output_type": "display_data"
    }
   ],
   "source": [
    "fig = px.bar(df_gb, x=\"Importance\", y=\"Feature Name\")\n",
    "\n",
    "fig.update_layout(\n",
    "    autosize=False,\n",
    "    width=600,\n",
    "    height=300,\n",
    "    title_text=f\"GradientBoostingRegressor Feature Importances\",\n",
    "    yaxis={'categoryorder':'total ascending'}\n",
    ")\n",
    "\n",
    "fig.show()"
   ]
  },
  {
   "cell_type": "code",
   "execution_count": 26,
   "id": "3a90db0d-c276-4331-8774-daf050e712d6",
   "metadata": {},
   "outputs": [
    {
     "data": {
      "text/html": [
       "<div><div id=7f935864-78a4-422a-8cb6-91365f4eb20a style=\"display:none; background-color:#9D6CFF; color:white; width:200px; height:30px; padding-left:5px; border-radius:4px; flex-direction:row; justify-content:space-around; align-items:center;\" onmouseover=\"this.style.backgroundColor='#BA9BF8'\" onmouseout=\"this.style.backgroundColor='#9D6CFF'\" onclick=\"window.commands?.execute('create-mitosheet-from-dataframe-output');\">See Full Dataframe in Mito</div> <script> if (window.commands.hasCommand('create-mitosheet-from-dataframe-output')) document.getElementById('7f935864-78a4-422a-8cb6-91365f4eb20a').style.display = 'flex' </script> <table border=\"1\" class=\"dataframe\">\n",
       "  <thead>\n",
       "    <tr style=\"text-align: right;\">\n",
       "      <th></th>\n",
       "      <th>Feature Name</th>\n",
       "      <th>Importance</th>\n",
       "    </tr>\n",
       "  </thead>\n",
       "  <tbody>\n",
       "    <tr>\n",
       "      <th>1</th>\n",
       "      <td>Input_total operational expences</td>\n",
       "      <td>0.570400</td>\n",
       "    </tr>\n",
       "    <tr>\n",
       "      <th>0</th>\n",
       "      <td>Input_owners’ equity</td>\n",
       "      <td>0.277276</td>\n",
       "    </tr>\n",
       "    <tr>\n",
       "      <th>2</th>\n",
       "      <td>Input_net profit</td>\n",
       "      <td>0.152323</td>\n",
       "    </tr>\n",
       "  </tbody>\n",
       "</table></div>"
      ],
      "text/plain": [
       "                       Feature Name  Importance\n",
       "1  Input_total operational expences    0.570400\n",
       "0              Input_owners’ equity    0.277276\n",
       "2                  Input_net profit    0.152323"
      ]
     },
     "execution_count": 26,
     "metadata": {},
     "output_type": "execute_result"
    }
   ],
   "source": [
    "df_gb"
   ]
  },
  {
   "cell_type": "code",
   "execution_count": 27,
   "id": "e3cfcf32-0246-4af9-b8f3-f74fe91292e2",
   "metadata": {},
   "outputs": [],
   "source": [
    "df_zero.index = [\"_\".join(f.split(\"_\")[1:]) for f in df_zero.index]"
   ]
  },
  {
   "cell_type": "code",
   "execution_count": 28,
   "id": "e8f5350e-f390-4ac0-90e3-333d7d6b8228",
   "metadata": {},
   "outputs": [
    {
     "data": {
      "text/plain": [
       "Input_net profit                    21\n",
       "Input_owners’ equity                29\n",
       "Input_total operational expences     3\n",
       "Output_operational income            0\n",
       "dtype: int64"
      ]
     },
     "execution_count": 28,
     "metadata": {},
     "output_type": "execute_result"
    }
   ],
   "source": [
    "df_zero"
   ]
  },
  {
   "cell_type": "code",
   "execution_count": 29,
   "id": "694488a2-cea6-4397-b1fe-b07e5d9bf908",
   "metadata": {},
   "outputs": [
    {
     "data": {
      "text/html": [
       "<div><div id=8e51a118-090f-4f2e-97cd-87958225f6ac style=\"display:none; background-color:#9D6CFF; color:white; width:200px; height:30px; padding-left:5px; border-radius:4px; flex-direction:row; justify-content:space-around; align-items:center;\" onmouseover=\"this.style.backgroundColor='#BA9BF8'\" onmouseout=\"this.style.backgroundColor='#9D6CFF'\" onclick=\"window.commands?.execute('create-mitosheet-from-dataframe-output');\">See Full Dataframe in Mito</div> <script> if (window.commands.hasCommand('create-mitosheet-from-dataframe-output')) document.getElementById('8e51a118-090f-4f2e-97cd-87958225f6ac').style.display = 'flex' </script> <table border=\"1\" class=\"dataframe\">\n",
       "  <thead>\n",
       "    <tr style=\"text-align: right;\">\n",
       "      <th></th>\n",
       "      <th>Feature Name</th>\n",
       "      <th>Importance</th>\n",
       "      <th>index</th>\n",
       "      <th>Zero_Count</th>\n",
       "    </tr>\n",
       "  </thead>\n",
       "  <tbody>\n",
       "    <tr>\n",
       "      <th>0</th>\n",
       "      <td>Input_total operational expences</td>\n",
       "      <td>0.570400</td>\n",
       "      <td>Input_total operational expences</td>\n",
       "      <td>3</td>\n",
       "    </tr>\n",
       "    <tr>\n",
       "      <th>1</th>\n",
       "      <td>Input_owners’ equity</td>\n",
       "      <td>0.277276</td>\n",
       "      <td>Input_owners’ equity</td>\n",
       "      <td>29</td>\n",
       "    </tr>\n",
       "    <tr>\n",
       "      <th>2</th>\n",
       "      <td>Input_net profit</td>\n",
       "      <td>0.152323</td>\n",
       "      <td>Input_net profit</td>\n",
       "      <td>21</td>\n",
       "    </tr>\n",
       "  </tbody>\n",
       "</table></div>"
      ],
      "text/plain": [
       "                       Feature Name  Importance  \\\n",
       "0  Input_total operational expences    0.570400   \n",
       "1              Input_owners’ equity    0.277276   \n",
       "2                  Input_net profit    0.152323   \n",
       "\n",
       "                              index  Zero_Count  \n",
       "0  Input_total operational expences           3  \n",
       "1              Input_owners’ equity          29  \n",
       "2                  Input_net profit          21  "
      ]
     },
     "execution_count": 29,
     "metadata": {},
     "output_type": "execute_result"
    }
   ],
   "source": [
    "df_merged = pd.merge(df_gb, df_zero.reset_index(), left_on=\"Feature Name\", right_on=\"index\")\n",
    "df_merged.rename(columns = {0: \"Zero_Count\"}, inplace=True)\n",
    "df_merged"
   ]
  },
  {
   "cell_type": "code",
   "execution_count": 30,
   "id": "21761176-39d5-4a59-884f-b79db8c4236f",
   "metadata": {},
   "outputs": [
    {
     "data": {
      "application/vnd.plotly.v1+json": {
       "config": {
        "plotlyServerURL": "https://plot.ly"
       },
       "data": [
        {
         "customdata": [
          [
           "Input_total operational expences"
          ],
          [
           "Input_owners’ equity"
          ],
          [
           "Input_net profit"
          ]
         ],
         "hovertemplate": "Zero_Count=%{x}<br>Importance=%{y}<br>Feature Name=%{customdata[0]}<extra></extra>",
         "legendgroup": "",
         "marker": {
          "color": "#636efa",
          "symbol": "circle"
         },
         "mode": "markers",
         "name": "",
         "orientation": "v",
         "showlegend": false,
         "type": "scatter",
         "x": [
          3,
          29,
          21
         ],
         "xaxis": "x",
         "y": [
          0.5704004942955443,
          0.2772761757445715,
          0.15232332995988423
         ],
         "yaxis": "y"
        }
       ],
       "layout": {
        "autosize": false,
        "height": 500,
        "legend": {
         "tracegroupgap": 0
        },
        "margin": {
         "t": 60
        },
        "template": {
         "data": {
          "bar": [
           {
            "error_x": {
             "color": "#2a3f5f"
            },
            "error_y": {
             "color": "#2a3f5f"
            },
            "marker": {
             "line": {
              "color": "#E5ECF6",
              "width": 0.5
             },
             "pattern": {
              "fillmode": "overlay",
              "size": 10,
              "solidity": 0.2
             }
            },
            "type": "bar"
           }
          ],
          "barpolar": [
           {
            "marker": {
             "line": {
              "color": "#E5ECF6",
              "width": 0.5
             },
             "pattern": {
              "fillmode": "overlay",
              "size": 10,
              "solidity": 0.2
             }
            },
            "type": "barpolar"
           }
          ],
          "carpet": [
           {
            "aaxis": {
             "endlinecolor": "#2a3f5f",
             "gridcolor": "white",
             "linecolor": "white",
             "minorgridcolor": "white",
             "startlinecolor": "#2a3f5f"
            },
            "baxis": {
             "endlinecolor": "#2a3f5f",
             "gridcolor": "white",
             "linecolor": "white",
             "minorgridcolor": "white",
             "startlinecolor": "#2a3f5f"
            },
            "type": "carpet"
           }
          ],
          "choropleth": [
           {
            "colorbar": {
             "outlinewidth": 0,
             "ticks": ""
            },
            "type": "choropleth"
           }
          ],
          "contour": [
           {
            "colorbar": {
             "outlinewidth": 0,
             "ticks": ""
            },
            "colorscale": [
             [
              0,
              "#0d0887"
             ],
             [
              0.1111111111111111,
              "#46039f"
             ],
             [
              0.2222222222222222,
              "#7201a8"
             ],
             [
              0.3333333333333333,
              "#9c179e"
             ],
             [
              0.4444444444444444,
              "#bd3786"
             ],
             [
              0.5555555555555556,
              "#d8576b"
             ],
             [
              0.6666666666666666,
              "#ed7953"
             ],
             [
              0.7777777777777778,
              "#fb9f3a"
             ],
             [
              0.8888888888888888,
              "#fdca26"
             ],
             [
              1,
              "#f0f921"
             ]
            ],
            "type": "contour"
           }
          ],
          "contourcarpet": [
           {
            "colorbar": {
             "outlinewidth": 0,
             "ticks": ""
            },
            "type": "contourcarpet"
           }
          ],
          "heatmap": [
           {
            "colorbar": {
             "outlinewidth": 0,
             "ticks": ""
            },
            "colorscale": [
             [
              0,
              "#0d0887"
             ],
             [
              0.1111111111111111,
              "#46039f"
             ],
             [
              0.2222222222222222,
              "#7201a8"
             ],
             [
              0.3333333333333333,
              "#9c179e"
             ],
             [
              0.4444444444444444,
              "#bd3786"
             ],
             [
              0.5555555555555556,
              "#d8576b"
             ],
             [
              0.6666666666666666,
              "#ed7953"
             ],
             [
              0.7777777777777778,
              "#fb9f3a"
             ],
             [
              0.8888888888888888,
              "#fdca26"
             ],
             [
              1,
              "#f0f921"
             ]
            ],
            "type": "heatmap"
           }
          ],
          "heatmapgl": [
           {
            "colorbar": {
             "outlinewidth": 0,
             "ticks": ""
            },
            "colorscale": [
             [
              0,
              "#0d0887"
             ],
             [
              0.1111111111111111,
              "#46039f"
             ],
             [
              0.2222222222222222,
              "#7201a8"
             ],
             [
              0.3333333333333333,
              "#9c179e"
             ],
             [
              0.4444444444444444,
              "#bd3786"
             ],
             [
              0.5555555555555556,
              "#d8576b"
             ],
             [
              0.6666666666666666,
              "#ed7953"
             ],
             [
              0.7777777777777778,
              "#fb9f3a"
             ],
             [
              0.8888888888888888,
              "#fdca26"
             ],
             [
              1,
              "#f0f921"
             ]
            ],
            "type": "heatmapgl"
           }
          ],
          "histogram": [
           {
            "marker": {
             "pattern": {
              "fillmode": "overlay",
              "size": 10,
              "solidity": 0.2
             }
            },
            "type": "histogram"
           }
          ],
          "histogram2d": [
           {
            "colorbar": {
             "outlinewidth": 0,
             "ticks": ""
            },
            "colorscale": [
             [
              0,
              "#0d0887"
             ],
             [
              0.1111111111111111,
              "#46039f"
             ],
             [
              0.2222222222222222,
              "#7201a8"
             ],
             [
              0.3333333333333333,
              "#9c179e"
             ],
             [
              0.4444444444444444,
              "#bd3786"
             ],
             [
              0.5555555555555556,
              "#d8576b"
             ],
             [
              0.6666666666666666,
              "#ed7953"
             ],
             [
              0.7777777777777778,
              "#fb9f3a"
             ],
             [
              0.8888888888888888,
              "#fdca26"
             ],
             [
              1,
              "#f0f921"
             ]
            ],
            "type": "histogram2d"
           }
          ],
          "histogram2dcontour": [
           {
            "colorbar": {
             "outlinewidth": 0,
             "ticks": ""
            },
            "colorscale": [
             [
              0,
              "#0d0887"
             ],
             [
              0.1111111111111111,
              "#46039f"
             ],
             [
              0.2222222222222222,
              "#7201a8"
             ],
             [
              0.3333333333333333,
              "#9c179e"
             ],
             [
              0.4444444444444444,
              "#bd3786"
             ],
             [
              0.5555555555555556,
              "#d8576b"
             ],
             [
              0.6666666666666666,
              "#ed7953"
             ],
             [
              0.7777777777777778,
              "#fb9f3a"
             ],
             [
              0.8888888888888888,
              "#fdca26"
             ],
             [
              1,
              "#f0f921"
             ]
            ],
            "type": "histogram2dcontour"
           }
          ],
          "mesh3d": [
           {
            "colorbar": {
             "outlinewidth": 0,
             "ticks": ""
            },
            "type": "mesh3d"
           }
          ],
          "parcoords": [
           {
            "line": {
             "colorbar": {
              "outlinewidth": 0,
              "ticks": ""
             }
            },
            "type": "parcoords"
           }
          ],
          "pie": [
           {
            "automargin": true,
            "type": "pie"
           }
          ],
          "scatter": [
           {
            "marker": {
             "colorbar": {
              "outlinewidth": 0,
              "ticks": ""
             }
            },
            "type": "scatter"
           }
          ],
          "scatter3d": [
           {
            "line": {
             "colorbar": {
              "outlinewidth": 0,
              "ticks": ""
             }
            },
            "marker": {
             "colorbar": {
              "outlinewidth": 0,
              "ticks": ""
             }
            },
            "type": "scatter3d"
           }
          ],
          "scattercarpet": [
           {
            "marker": {
             "colorbar": {
              "outlinewidth": 0,
              "ticks": ""
             }
            },
            "type": "scattercarpet"
           }
          ],
          "scattergeo": [
           {
            "marker": {
             "colorbar": {
              "outlinewidth": 0,
              "ticks": ""
             }
            },
            "type": "scattergeo"
           }
          ],
          "scattergl": [
           {
            "marker": {
             "colorbar": {
              "outlinewidth": 0,
              "ticks": ""
             }
            },
            "type": "scattergl"
           }
          ],
          "scattermapbox": [
           {
            "marker": {
             "colorbar": {
              "outlinewidth": 0,
              "ticks": ""
             }
            },
            "type": "scattermapbox"
           }
          ],
          "scatterpolar": [
           {
            "marker": {
             "colorbar": {
              "outlinewidth": 0,
              "ticks": ""
             }
            },
            "type": "scatterpolar"
           }
          ],
          "scatterpolargl": [
           {
            "marker": {
             "colorbar": {
              "outlinewidth": 0,
              "ticks": ""
             }
            },
            "type": "scatterpolargl"
           }
          ],
          "scatterternary": [
           {
            "marker": {
             "colorbar": {
              "outlinewidth": 0,
              "ticks": ""
             }
            },
            "type": "scatterternary"
           }
          ],
          "surface": [
           {
            "colorbar": {
             "outlinewidth": 0,
             "ticks": ""
            },
            "colorscale": [
             [
              0,
              "#0d0887"
             ],
             [
              0.1111111111111111,
              "#46039f"
             ],
             [
              0.2222222222222222,
              "#7201a8"
             ],
             [
              0.3333333333333333,
              "#9c179e"
             ],
             [
              0.4444444444444444,
              "#bd3786"
             ],
             [
              0.5555555555555556,
              "#d8576b"
             ],
             [
              0.6666666666666666,
              "#ed7953"
             ],
             [
              0.7777777777777778,
              "#fb9f3a"
             ],
             [
              0.8888888888888888,
              "#fdca26"
             ],
             [
              1,
              "#f0f921"
             ]
            ],
            "type": "surface"
           }
          ],
          "table": [
           {
            "cells": {
             "fill": {
              "color": "#EBF0F8"
             },
             "line": {
              "color": "white"
             }
            },
            "header": {
             "fill": {
              "color": "#C8D4E3"
             },
             "line": {
              "color": "white"
             }
            },
            "type": "table"
           }
          ]
         },
         "layout": {
          "annotationdefaults": {
           "arrowcolor": "#2a3f5f",
           "arrowhead": 0,
           "arrowwidth": 1
          },
          "autotypenumbers": "strict",
          "coloraxis": {
           "colorbar": {
            "outlinewidth": 0,
            "ticks": ""
           }
          },
          "colorscale": {
           "diverging": [
            [
             0,
             "#8e0152"
            ],
            [
             0.1,
             "#c51b7d"
            ],
            [
             0.2,
             "#de77ae"
            ],
            [
             0.3,
             "#f1b6da"
            ],
            [
             0.4,
             "#fde0ef"
            ],
            [
             0.5,
             "#f7f7f7"
            ],
            [
             0.6,
             "#e6f5d0"
            ],
            [
             0.7,
             "#b8e186"
            ],
            [
             0.8,
             "#7fbc41"
            ],
            [
             0.9,
             "#4d9221"
            ],
            [
             1,
             "#276419"
            ]
           ],
           "sequential": [
            [
             0,
             "#0d0887"
            ],
            [
             0.1111111111111111,
             "#46039f"
            ],
            [
             0.2222222222222222,
             "#7201a8"
            ],
            [
             0.3333333333333333,
             "#9c179e"
            ],
            [
             0.4444444444444444,
             "#bd3786"
            ],
            [
             0.5555555555555556,
             "#d8576b"
            ],
            [
             0.6666666666666666,
             "#ed7953"
            ],
            [
             0.7777777777777778,
             "#fb9f3a"
            ],
            [
             0.8888888888888888,
             "#fdca26"
            ],
            [
             1,
             "#f0f921"
            ]
           ],
           "sequentialminus": [
            [
             0,
             "#0d0887"
            ],
            [
             0.1111111111111111,
             "#46039f"
            ],
            [
             0.2222222222222222,
             "#7201a8"
            ],
            [
             0.3333333333333333,
             "#9c179e"
            ],
            [
             0.4444444444444444,
             "#bd3786"
            ],
            [
             0.5555555555555556,
             "#d8576b"
            ],
            [
             0.6666666666666666,
             "#ed7953"
            ],
            [
             0.7777777777777778,
             "#fb9f3a"
            ],
            [
             0.8888888888888888,
             "#fdca26"
            ],
            [
             1,
             "#f0f921"
            ]
           ]
          },
          "colorway": [
           "#636efa",
           "#EF553B",
           "#00cc96",
           "#ab63fa",
           "#FFA15A",
           "#19d3f3",
           "#FF6692",
           "#B6E880",
           "#FF97FF",
           "#FECB52"
          ],
          "font": {
           "color": "#2a3f5f"
          },
          "geo": {
           "bgcolor": "white",
           "lakecolor": "white",
           "landcolor": "#E5ECF6",
           "showlakes": true,
           "showland": true,
           "subunitcolor": "white"
          },
          "hoverlabel": {
           "align": "left"
          },
          "hovermode": "closest",
          "mapbox": {
           "style": "light"
          },
          "paper_bgcolor": "white",
          "plot_bgcolor": "#E5ECF6",
          "polar": {
           "angularaxis": {
            "gridcolor": "white",
            "linecolor": "white",
            "ticks": ""
           },
           "bgcolor": "#E5ECF6",
           "radialaxis": {
            "gridcolor": "white",
            "linecolor": "white",
            "ticks": ""
           }
          },
          "scene": {
           "xaxis": {
            "backgroundcolor": "#E5ECF6",
            "gridcolor": "white",
            "gridwidth": 2,
            "linecolor": "white",
            "showbackground": true,
            "ticks": "",
            "zerolinecolor": "white"
           },
           "yaxis": {
            "backgroundcolor": "#E5ECF6",
            "gridcolor": "white",
            "gridwidth": 2,
            "linecolor": "white",
            "showbackground": true,
            "ticks": "",
            "zerolinecolor": "white"
           },
           "zaxis": {
            "backgroundcolor": "#E5ECF6",
            "gridcolor": "white",
            "gridwidth": 2,
            "linecolor": "white",
            "showbackground": true,
            "ticks": "",
            "zerolinecolor": "white"
           }
          },
          "shapedefaults": {
           "line": {
            "color": "#2a3f5f"
           }
          },
          "ternary": {
           "aaxis": {
            "gridcolor": "white",
            "linecolor": "white",
            "ticks": ""
           },
           "baxis": {
            "gridcolor": "white",
            "linecolor": "white",
            "ticks": ""
           },
           "bgcolor": "#E5ECF6",
           "caxis": {
            "gridcolor": "white",
            "linecolor": "white",
            "ticks": ""
           }
          },
          "title": {
           "x": 0.05
          },
          "xaxis": {
           "automargin": true,
           "gridcolor": "white",
           "linecolor": "white",
           "ticks": "",
           "title": {
            "standoff": 15
           },
           "zerolinecolor": "white",
           "zerolinewidth": 2
          },
          "yaxis": {
           "automargin": true,
           "gridcolor": "white",
           "linecolor": "white",
           "ticks": "",
           "title": {
            "standoff": 15
           },
           "zerolinecolor": "white",
           "zerolinewidth": 2
          }
         }
        },
        "title": {
         "text": "GradientBoostingRegressor Feature Importance - Zero_Count Relationship"
        },
        "width": 800,
        "xaxis": {
         "anchor": "y",
         "autorange": true,
         "domain": [
          0,
          1
         ],
         "range": [
          1.3649956024626209,
          30.63500439753738
         ],
         "title": {
          "text": "Zero_Count"
         },
         "type": "linear"
        },
        "yaxis": {
         "anchor": "x",
         "autorange": true,
         "domain": [
          0,
          1
         ],
         "range": [
          0.12359290871406874,
          0.5991309155413598
         ],
         "title": {
          "text": "Importance"
         },
         "type": "linear"
        }
       }
      },
      "image/png": "[encoded data removed]",
      "text/html": [
       "<div>                            <div id=\"4af67216-0ed7-48d5-b2f6-3b3e2804f524\" class=\"plotly-graph-div\" style=\"height:500px; width:800px;\"></div>            <script type=\"text/javascript\">                require([\"plotly\"], function(Plotly) {                    window.PLOTLYENV=window.PLOTLYENV || {};                                    if (document.getElementById(\"4af67216-0ed7-48d5-b2f6-3b3e2804f524\")) {                    Plotly.newPlot(                        \"4af67216-0ed7-48d5-b2f6-3b3e2804f524\",                        [{\"customdata\":[[\"Input_total operational expences\"],[\"Input_owners\\u2019 equity\"],[\"Input_net profit\"]],\"hovertemplate\":\"Zero_Count=%{x}<br>Importance=%{y}<br>Feature Name=%{customdata[0]}<extra></extra>\",\"legendgroup\":\"\",\"marker\":{\"color\":\"#636efa\",\"symbol\":\"circle\"},\"mode\":\"markers\",\"name\":\"\",\"orientation\":\"v\",\"showlegend\":false,\"type\":\"scatter\",\"x\":[3,29,21],\"xaxis\":\"x\",\"y\":[0.5704004942955443,0.2772761757445715,0.15232332995988423],\"yaxis\":\"y\"}],                        {\"autosize\":false,\"height\":500,\"legend\":{\"tracegroupgap\":0},\"margin\":{\"t\":60},\"template\":{\"data\":{\"bar\":[{\"error_x\":{\"color\":\"#2a3f5f\"},\"error_y\":{\"color\":\"#2a3f5f\"},\"marker\":{\"line\":{\"color\":\"#E5ECF6\",\"width\":0.5},\"pattern\":{\"fillmode\":\"overlay\",\"size\":10,\"solidity\":0.2}},\"type\":\"bar\"}],\"barpolar\":[{\"marker\":{\"line\":{\"color\":\"#E5ECF6\",\"width\":0.5},\"pattern\":{\"fillmode\":\"overlay\",\"size\":10,\"solidity\":0.2}},\"type\":\"barpolar\"}],\"carpet\":[{\"aaxis\":{\"endlinecolor\":\"#2a3f5f\",\"gridcolor\":\"white\",\"linecolor\":\"white\",\"minorgridcolor\":\"white\",\"startlinecolor\":\"#2a3f5f\"},\"baxis\":{\"endlinecolor\":\"#2a3f5f\",\"gridcolor\":\"white\",\"linecolor\":\"white\",\"minorgridcolor\":\"white\",\"startlinecolor\":\"#2a3f5f\"},\"type\":\"carpet\"}],\"choropleth\":[{\"colorbar\":{\"outlinewidth\":0,\"ticks\":\"\"},\"type\":\"choropleth\"}],\"contour\":[{\"colorbar\":{\"outlinewidth\":0,\"ticks\":\"\"},\"colorscale\":[[0.0,\"#0d0887\"],[0.1111111111111111,\"#46039f\"],[0.2222222222222222,\"#7201a8\"],[0.3333333333333333,\"#9c179e\"],[0.4444444444444444,\"#bd3786\"],[0.5555555555555556,\"#d8576b\"],[0.6666666666666666,\"#ed7953\"],[0.7777777777777778,\"#fb9f3a\"],[0.8888888888888888,\"#fdca26\"],[1.0,\"#f0f921\"]],\"type\":\"contour\"}],\"contourcarpet\":[{\"colorbar\":{\"outlinewidth\":0,\"ticks\":\"\"},\"type\":\"contourcarpet\"}],\"heatmap\":[{\"colorbar\":{\"outlinewidth\":0,\"ticks\":\"\"},\"colorscale\":[[0.0,\"#0d0887\"],[0.1111111111111111,\"#46039f\"],[0.2222222222222222,\"#7201a8\"],[0.3333333333333333,\"#9c179e\"],[0.4444444444444444,\"#bd3786\"],[0.5555555555555556,\"#d8576b\"],[0.6666666666666666,\"#ed7953\"],[0.7777777777777778,\"#fb9f3a\"],[0.8888888888888888,\"#fdca26\"],[1.0,\"#f0f921\"]],\"type\":\"heatmap\"}],\"heatmapgl\":[{\"colorbar\":{\"outlinewidth\":0,\"ticks\":\"\"},\"colorscale\":[[0.0,\"#0d0887\"],[0.1111111111111111,\"#46039f\"],[0.2222222222222222,\"#7201a8\"],[0.3333333333333333,\"#9c179e\"],[0.4444444444444444,\"#bd3786\"],[0.5555555555555556,\"#d8576b\"],[0.6666666666666666,\"#ed7953\"],[0.7777777777777778,\"#fb9f3a\"],[0.8888888888888888,\"#fdca26\"],[1.0,\"#f0f921\"]],\"type\":\"heatmapgl\"}],\"histogram\":[{\"marker\":{\"pattern\":{\"fillmode\":\"overlay\",\"size\":10,\"solidity\":0.2}},\"type\":\"histogram\"}],\"histogram2d\":[{\"colorbar\":{\"outlinewidth\":0,\"ticks\":\"\"},\"colorscale\":[[0.0,\"#0d0887\"],[0.1111111111111111,\"#46039f\"],[0.2222222222222222,\"#7201a8\"],[0.3333333333333333,\"#9c179e\"],[0.4444444444444444,\"#bd3786\"],[0.5555555555555556,\"#d8576b\"],[0.6666666666666666,\"#ed7953\"],[0.7777777777777778,\"#fb9f3a\"],[0.8888888888888888,\"#fdca26\"],[1.0,\"#f0f921\"]],\"type\":\"histogram2d\"}],\"histogram2dcontour\":[{\"colorbar\":{\"outlinewidth\":0,\"ticks\":\"\"},\"colorscale\":[[0.0,\"#0d0887\"],[0.1111111111111111,\"#46039f\"],[0.2222222222222222,\"#7201a8\"],[0.3333333333333333,\"#9c179e\"],[0.4444444444444444,\"#bd3786\"],[0.5555555555555556,\"#d8576b\"],[0.6666666666666666,\"#ed7953\"],[0.7777777777777778,\"#fb9f3a\"],[0.8888888888888888,\"#fdca26\"],[1.0,\"#f0f921\"]],\"type\":\"histogram2dcontour\"}],\"mesh3d\":[{\"colorbar\":{\"outlinewidth\":0,\"ticks\":\"\"},\"type\":\"mesh3d\"}],\"parcoords\":[{\"line\":{\"colorbar\":{\"outlinewidth\":0,\"ticks\":\"\"}},\"type\":\"parcoords\"}],\"pie\":[{\"automargin\":true,\"type\":\"pie\"}],\"scatter\":[{\"marker\":{\"colorbar\":{\"outlinewidth\":0,\"ticks\":\"\"}},\"type\":\"scatter\"}],\"scatter3d\":[{\"line\":{\"colorbar\":{\"outlinewidth\":0,\"ticks\":\"\"}},\"marker\":{\"colorbar\":{\"outlinewidth\":0,\"ticks\":\"\"}},\"type\":\"scatter3d\"}],\"scattercarpet\":[{\"marker\":{\"colorbar\":{\"outlinewidth\":0,\"ticks\":\"\"}},\"type\":\"scattercarpet\"}],\"scattergeo\":[{\"marker\":{\"colorbar\":{\"outlinewidth\":0,\"ticks\":\"\"}},\"type\":\"scattergeo\"}],\"scattergl\":[{\"marker\":{\"colorbar\":{\"outlinewidth\":0,\"ticks\":\"\"}},\"type\":\"scattergl\"}],\"scattermapbox\":[{\"marker\":{\"colorbar\":{\"outlinewidth\":0,\"ticks\":\"\"}},\"type\":\"scattermapbox\"}],\"scatterpolar\":[{\"marker\":{\"colorbar\":{\"outlinewidth\":0,\"ticks\":\"\"}},\"type\":\"scatterpolar\"}],\"scatterpolargl\":[{\"marker\":{\"colorbar\":{\"outlinewidth\":0,\"ticks\":\"\"}},\"type\":\"scatterpolargl\"}],\"scatterternary\":[{\"marker\":{\"colorbar\":{\"outlinewidth\":0,\"ticks\":\"\"}},\"type\":\"scatterternary\"}],\"surface\":[{\"colorbar\":{\"outlinewidth\":0,\"ticks\":\"\"},\"colorscale\":[[0.0,\"#0d0887\"],[0.1111111111111111,\"#46039f\"],[0.2222222222222222,\"#7201a8\"],[0.3333333333333333,\"#9c179e\"],[0.4444444444444444,\"#bd3786\"],[0.5555555555555556,\"#d8576b\"],[0.6666666666666666,\"#ed7953\"],[0.7777777777777778,\"#fb9f3a\"],[0.8888888888888888,\"#fdca26\"],[1.0,\"#f0f921\"]],\"type\":\"surface\"}],\"table\":[{\"cells\":{\"fill\":{\"color\":\"#EBF0F8\"},\"line\":{\"color\":\"white\"}},\"header\":{\"fill\":{\"color\":\"#C8D4E3\"},\"line\":{\"color\":\"white\"}},\"type\":\"table\"}]},\"layout\":{\"annotationdefaults\":{\"arrowcolor\":\"#2a3f5f\",\"arrowhead\":0,\"arrowwidth\":1},\"autotypenumbers\":\"strict\",\"coloraxis\":{\"colorbar\":{\"outlinewidth\":0,\"ticks\":\"\"}},\"colorscale\":{\"diverging\":[[0,\"#8e0152\"],[0.1,\"#c51b7d\"],[0.2,\"#de77ae\"],[0.3,\"#f1b6da\"],[0.4,\"#fde0ef\"],[0.5,\"#f7f7f7\"],[0.6,\"#e6f5d0\"],[0.7,\"#b8e186\"],[0.8,\"#7fbc41\"],[0.9,\"#4d9221\"],[1,\"#276419\"]],\"sequential\":[[0.0,\"#0d0887\"],[0.1111111111111111,\"#46039f\"],[0.2222222222222222,\"#7201a8\"],[0.3333333333333333,\"#9c179e\"],[0.4444444444444444,\"#bd3786\"],[0.5555555555555556,\"#d8576b\"],[0.6666666666666666,\"#ed7953\"],[0.7777777777777778,\"#fb9f3a\"],[0.8888888888888888,\"#fdca26\"],[1.0,\"#f0f921\"]],\"sequentialminus\":[[0.0,\"#0d0887\"],[0.1111111111111111,\"#46039f\"],[0.2222222222222222,\"#7201a8\"],[0.3333333333333333,\"#9c179e\"],[0.4444444444444444,\"#bd3786\"],[0.5555555555555556,\"#d8576b\"],[0.6666666666666666,\"#ed7953\"],[0.7777777777777778,\"#fb9f3a\"],[0.8888888888888888,\"#fdca26\"],[1.0,\"#f0f921\"]]},\"colorway\":[\"#636efa\",\"#EF553B\",\"#00cc96\",\"#ab63fa\",\"#FFA15A\",\"#19d3f3\",\"#FF6692\",\"#B6E880\",\"#FF97FF\",\"#FECB52\"],\"font\":{\"color\":\"#2a3f5f\"},\"geo\":{\"bgcolor\":\"white\",\"lakecolor\":\"white\",\"landcolor\":\"#E5ECF6\",\"showlakes\":true,\"showland\":true,\"subunitcolor\":\"white\"},\"hoverlabel\":{\"align\":\"left\"},\"hovermode\":\"closest\",\"mapbox\":{\"style\":\"light\"},\"paper_bgcolor\":\"white\",\"plot_bgcolor\":\"#E5ECF6\",\"polar\":{\"angularaxis\":{\"gridcolor\":\"white\",\"linecolor\":\"white\",\"ticks\":\"\"},\"bgcolor\":\"#E5ECF6\",\"radialaxis\":{\"gridcolor\":\"white\",\"linecolor\":\"white\",\"ticks\":\"\"}},\"scene\":{\"xaxis\":{\"backgroundcolor\":\"#E5ECF6\",\"gridcolor\":\"white\",\"gridwidth\":2,\"linecolor\":\"white\",\"showbackground\":true,\"ticks\":\"\",\"zerolinecolor\":\"white\"},\"yaxis\":{\"backgroundcolor\":\"#E5ECF6\",\"gridcolor\":\"white\",\"gridwidth\":2,\"linecolor\":\"white\",\"showbackground\":true,\"ticks\":\"\",\"zerolinecolor\":\"white\"},\"zaxis\":{\"backgroundcolor\":\"#E5ECF6\",\"gridcolor\":\"white\",\"gridwidth\":2,\"linecolor\":\"white\",\"showbackground\":true,\"ticks\":\"\",\"zerolinecolor\":\"white\"}},\"shapedefaults\":{\"line\":{\"color\":\"#2a3f5f\"}},\"ternary\":{\"aaxis\":{\"gridcolor\":\"white\",\"linecolor\":\"white\",\"ticks\":\"\"},\"baxis\":{\"gridcolor\":\"white\",\"linecolor\":\"white\",\"ticks\":\"\"},\"bgcolor\":\"#E5ECF6\",\"caxis\":{\"gridcolor\":\"white\",\"linecolor\":\"white\",\"ticks\":\"\"}},\"title\":{\"x\":0.05},\"xaxis\":{\"automargin\":true,\"gridcolor\":\"white\",\"linecolor\":\"white\",\"ticks\":\"\",\"title\":{\"standoff\":15},\"zerolinecolor\":\"white\",\"zerolinewidth\":2},\"yaxis\":{\"automargin\":true,\"gridcolor\":\"white\",\"linecolor\":\"white\",\"ticks\":\"\",\"title\":{\"standoff\":15},\"zerolinecolor\":\"white\",\"zerolinewidth\":2}}},\"title\":{\"text\":\"GradientBoostingRegressor Feature Importance - Zero_Count Relationship\"},\"width\":800,\"xaxis\":{\"anchor\":\"y\",\"domain\":[0.0,1.0],\"title\":{\"text\":\"Zero_Count\"}},\"yaxis\":{\"anchor\":\"x\",\"domain\":[0.0,1.0],\"title\":{\"text\":\"Importance\"}}},                        {\"responsive\": true}                    ).then(function(){\n",
       "                            \n",
       "var gd = document.getElementById('4af67216-0ed7-48d5-b2f6-3b3e2804f524');\n",
       "var x = new MutationObserver(function (mutations, observer) {{\n",
       "        var display = window.getComputedStyle(gd).display;\n",
       "        if (!display || display === 'none') {{\n",
       "            console.log([gd, 'removed!']);\n",
       "            Plotly.purge(gd);\n",
       "            observer.disconnect();\n",
       "        }}\n",
       "}});\n",
       "\n",
       "// Listen for the removal of the full notebook cells\n",
       "var notebookContainer = gd.closest('#notebook-container');\n",
       "if (notebookContainer) {{\n",
       "    x.observe(notebookContainer, {childList: true});\n",
       "}}\n",
       "\n",
       "// Listen for the clearing of the current output cell\n",
       "var outputEl = gd.closest('.output');\n",
       "if (outputEl) {{\n",
       "    x.observe(outputEl, {childList: true});\n",
       "}}\n",
       "\n",
       "                        })                };                });            </script>        </div>"
      ]
     },
     "metadata": {},
     "output_type": "display_data"
    }
   ],
   "source": [
    "fig = px.scatter(df_merged[~df_merged[\"Feature Name\"].str.contains(\"Output\")], x=\"Zero_Count\", y=\"Importance\",\n",
    "                hover_data=[\"Feature Name\"])\n",
    "\n",
    "fig.update_layout(\n",
    "    autosize=False,\n",
    "    width=800,\n",
    "    height=500,\n",
    "    title_text=f\"GradientBoostingRegressor Feature Importance - Zero_Count Relationship\",\n",
    ")\n",
    "\n",
    "fig.show()"
   ]
  },
  {
   "cell_type": "code",
   "execution_count": 31,
   "id": "8659da73-6b03-410b-a2f4-e8ed9e49662f",
   "metadata": {},
   "outputs": [
    {
     "data": {
      "image/png": "[encoded data removed]",
      "text/plain": [
       "<Figure size 1296x864 with 1 Axes>"
      ]
     },
     "metadata": {
      "needs_background": "light"
     },
     "output_type": "display_data"
    }
   ],
   "source": [
    "plt.figure(figsize=(18,12))\n",
    "sns.heatmap(df_weights.eq(0).transpose(),\n",
    "        cmap=\"YlGnBu\",\n",
    "        cbar=False,\n",
    "        cbar_kws={'label': 'Zero Values'});"
   ]
  },
  {
   "cell_type": "code",
   "execution_count": 32,
   "id": "935e1c37-b012-4a4d-8a6b-99347f1fcb1f",
   "metadata": {},
   "outputs": [
    {
     "data": {
      "text/plain": [
       "[(0,\n",
       "  'gradientboostingregressor',\n",
       "  ['Input_total operational expences',\n",
       "   'Input_owners’ equity',\n",
       "   'Input_net profit'],\n",
       "  {'r2': 0.8782581219660033,\n",
       "   'neg_root_mean_squared_error': -16485379369.464136})]"
      ]
     },
     "execution_count": 32,
     "metadata": {},
     "output_type": "execute_result"
    }
   ],
   "source": [
    "results "
   ]
  },
  {
   "cell_type": "code",
   "execution_count": 33,
   "id": "ff63a829-5e2e-4bc9-a12c-a53bf46eb0b2",
   "metadata": {},
   "outputs": [
    {
     "data": {
      "text/plain": [
       "(0,\n",
       " 'gradientboostingregressor',\n",
       " ['Input_total operational expences',\n",
       "  'Input_owners’ equity',\n",
       "  'Input_net profit'],\n",
       " {'r2': 0.8782581219660033,\n",
       "  'neg_root_mean_squared_error': -16485379369.464136})"
      ]
     },
     "execution_count": 33,
     "metadata": {},
     "output_type": "execute_result"
    }
   ],
   "source": [
    "results[0]"
   ]
  },
  {
   "cell_type": "code",
   "execution_count": 34,
   "id": "bb0ed408-1bf8-4562-99e4-ab532b39960c",
   "metadata": {},
   "outputs": [
    {
     "name": "stdout",
     "output_type": "stream",
     "text": [
      "100.0\n",
      "Solution file saved outputfile\n"
     ]
    }
   ],
   "source": [
    "deasolver(inputfile=\"Data/RealData/jmse_37_Data_V3 copy 3.xlsx\", folder = \"Data/RealData/\", out_suffix1=\"_Sol_1\", input_imp = results[0])"
   ]
  },
  {
   "cell_type": "code",
   "execution_count": 35,
   "id": "0f05d0f8-5a46-4c88-ac98-17af9e2ea21b",
   "metadata": {},
   "outputs": [
    {
     "data": {
      "text/html": [
       "<div><div id=2952a7d8-f35e-4faa-8220-45548941ee2e style=\"display:none; background-color:#9D6CFF; color:white; width:200px; height:30px; padding-left:5px; border-radius:4px; flex-direction:row; justify-content:space-around; align-items:center;\" onmouseover=\"this.style.backgroundColor='#BA9BF8'\" onmouseout=\"this.style.backgroundColor='#9D6CFF'\" onclick=\"window.commands?.execute('create-mitosheet-from-dataframe-output');\">See Full Dataframe in Mito</div> <script> if (window.commands.hasCommand('create-mitosheet-from-dataframe-output')) document.getElementById('2952a7d8-f35e-4faa-8220-45548941ee2e').style.display = 'flex' </script> <table border=\"1\" class=\"dataframe\">\n",
       "  <thead>\n",
       "    <tr style=\"text-align: right;\">\n",
       "      <th></th>\n",
       "      <th>Weight_Input_net profit</th>\n",
       "      <th>Weight_Input_owners’ equity</th>\n",
       "      <th>Weight_Input_total operational expences</th>\n",
       "      <th>Weight_Output_operational income</th>\n",
       "    </tr>\n",
       "  </thead>\n",
       "  <tbody>\n",
       "    <tr>\n",
       "      <th>1</th>\n",
       "      <td>1.888536e-10</td>\n",
       "      <td>1.888536e-10</td>\n",
       "      <td>1.499941e-09</td>\n",
       "      <td>1.061997e-09</td>\n",
       "    </tr>\n",
       "    <tr>\n",
       "      <th>2</th>\n",
       "      <td>5.443767e-11</td>\n",
       "      <td>5.443767e-11</td>\n",
       "      <td>4.323629e-10</td>\n",
       "      <td>3.061240e-10</td>\n",
       "    </tr>\n",
       "    <tr>\n",
       "      <th>3</th>\n",
       "      <td>9.996227e-11</td>\n",
       "      <td>1.214454e-11</td>\n",
       "      <td>1.347023e-10</td>\n",
       "      <td>1.232685e-10</td>\n",
       "    </tr>\n",
       "    <tr>\n",
       "      <th>4</th>\n",
       "      <td>1.897748e-10</td>\n",
       "      <td>1.897748e-10</td>\n",
       "      <td>5.059265e-10</td>\n",
       "      <td>5.134209e-10</td>\n",
       "    </tr>\n",
       "    <tr>\n",
       "      <th>5</th>\n",
       "      <td>9.476313e-11</td>\n",
       "      <td>6.706256e-11</td>\n",
       "      <td>2.025204e-10</td>\n",
       "      <td>2.052284e-10</td>\n",
       "    </tr>\n",
       "    <tr>\n",
       "      <th>...</th>\n",
       "      <td>...</td>\n",
       "      <td>...</td>\n",
       "      <td>...</td>\n",
       "      <td>...</td>\n",
       "    </tr>\n",
       "    <tr>\n",
       "      <th>944</th>\n",
       "      <td>1.230691e-11</td>\n",
       "      <td>1.230691e-11</td>\n",
       "      <td>3.280938e-11</td>\n",
       "      <td>3.329539e-11</td>\n",
       "    </tr>\n",
       "    <tr>\n",
       "      <th>945</th>\n",
       "      <td>3.731718e-11</td>\n",
       "      <td>3.731718e-11</td>\n",
       "      <td>2.963860e-10</td>\n",
       "      <td>2.098488e-10</td>\n",
       "    </tr>\n",
       "    <tr>\n",
       "      <th>946</th>\n",
       "      <td>7.217393e-11</td>\n",
       "      <td>7.217393e-11</td>\n",
       "      <td>1.924107e-10</td>\n",
       "      <td>1.952609e-10</td>\n",
       "    </tr>\n",
       "    <tr>\n",
       "      <th>947</th>\n",
       "      <td>1.203016e-10</td>\n",
       "      <td>8.513578e-11</td>\n",
       "      <td>2.570992e-10</td>\n",
       "      <td>2.605370e-10</td>\n",
       "    </tr>\n",
       "    <tr>\n",
       "      <th>948</th>\n",
       "      <td>9.081962e-10</td>\n",
       "      <td>9.081962e-10</td>\n",
       "      <td>7.213211e-09</td>\n",
       "      <td>5.107137e-09</td>\n",
       "    </tr>\n",
       "  </tbody>\n",
       "</table></div>"
      ],
      "text/plain": [
       "     Weight_Input_net profit  Weight_Input_owners’ equity  \\\n",
       "1               1.888536e-10                 1.888536e-10   \n",
       "2               5.443767e-11                 5.443767e-11   \n",
       "3               9.996227e-11                 1.214454e-11   \n",
       "4               1.897748e-10                 1.897748e-10   \n",
       "5               9.476313e-11                 6.706256e-11   \n",
       "..                       ...                          ...   \n",
       "944             1.230691e-11                 1.230691e-11   \n",
       "945             3.731718e-11                 3.731718e-11   \n",
       "946             7.217393e-11                 7.217393e-11   \n",
       "947             1.203016e-10                 8.513578e-11   \n",
       "948             9.081962e-10                 9.081962e-10   \n",
       "\n",
       "     Weight_Input_total operational expences  Weight_Output_operational income  \n",
       "1                               1.499941e-09                      1.061997e-09  \n",
       "2                               4.323629e-10                      3.061240e-10  \n",
       "3                               1.347023e-10                      1.232685e-10  \n",
       "4                               5.059265e-10                      5.134209e-10  \n",
       "5                               2.025204e-10                      2.052284e-10  \n",
       "..                                       ...                               ...  \n",
       "944                             3.280938e-11                      3.329539e-11  \n",
       "945                             2.963860e-10                      2.098488e-10  \n",
       "946                             1.924107e-10                      1.952609e-10  \n",
       "947                             2.570992e-10                      2.605370e-10  \n",
       "948                             7.213211e-09                      5.107137e-09  \n",
       "\n",
       "[948 rows x 4 columns]"
      ]
     },
     "execution_count": 35,
     "metadata": {},
     "output_type": "execute_result"
    }
   ],
   "source": [
    "df_weights_1 = pd.read_excel(\"Data/RealData/jmse_37_Data_V3 copy 3_Sol_1.xlsx\", index_col = 0).iloc[:, 1:]\n",
    "df_weights_1"
   ]
  },
  {
   "cell_type": "code",
   "execution_count": 36,
   "id": "7728a6ca-2df9-4bcc-81a2-3cbcf3d8910f",
   "metadata": {},
   "outputs": [
    {
     "data": {
      "text/plain": [
       "Weight_Input_net profit                    21\n",
       "Weight_Input_owners’ equity                29\n",
       "Weight_Input_total operational expences     3\n",
       "Weight_Output_operational income            0\n",
       "dtype: int64"
      ]
     },
     "execution_count": 36,
     "metadata": {},
     "output_type": "execute_result"
    }
   ],
   "source": [
    "df_zero =(df_weights==0).sum()\n",
    "df_zero"
   ]
  },
  {
   "cell_type": "code",
   "execution_count": 46,
   "id": "591a163a-8965-43b1-98b2-00b6b29b4418",
   "metadata": {},
   "outputs": [],
   "source": [
    "df_res = df_es.join(df_es_1, lsuffix = \"_Basic\", rsuffix=\"_with_ML\")"
   ]
  },
  {
   "cell_type": "code",
   "execution_count": 37,
   "id": "073ce0eb-60dc-4ebc-b0d9-30c8d123e2eb",
   "metadata": {},
   "outputs": [],
   "source": [
    "df_es = pd.read_excel(\"Data/RealData/jmse_37_Data_V3 copy 3_Sol.xlsx\", index_col = 0).iloc[:, :1]\n",
    "df_es_1 = pd.read_excel(\"Data/RealData/jmse_37_Data_V3 copy 3_Sol_1.xlsx\", index_col = 0).iloc[:, :1]"
   ]
  },
  {
   "cell_type": "code",
   "execution_count": 38,
   "id": "e02bd10f-5d29-4341-bcc9-ec689c4cc04f",
   "metadata": {},
   "outputs": [
    {
     "name": "stdout",
     "output_type": "stream",
     "text": [
      "count of efficient units : 3\n"
     ]
    }
   ],
   "source": [
    "es = (df_es.Efficiency_Scores==1).sum()\n",
    "print(f\"count of efficient units : {es}\")"
   ]
  },
  {
   "cell_type": "code",
   "execution_count": 39,
   "id": "72b98e12-869b-4c7e-b57a-7407b59bdb59",
   "metadata": {},
   "outputs": [
    {
     "name": "stdout",
     "output_type": "stream",
     "text": [
      "count of efficient units : 3\n"
     ]
    }
   ],
   "source": [
    "es_1 = (df_es_1.Efficiency_Scores==1).sum()\n",
    "print(f\"count of efficient units : {es_1}\")"
   ]
  },
  {
   "cell_type": "code",
   "execution_count": null,
   "id": "39afe0ff-944d-488d-83e9-c7d8cba1aed4",
   "metadata": {},
   "outputs": [],
   "source": []
  },
  {
   "cell_type": "code",
   "execution_count": 46,
   "id": "1df3d8cc",
   "metadata": {},
   "outputs": [],
   "source": [
    "df_res = df_es.join(df_es_1, lsuffix = \"_Basic\", rsuffix=\"_with_ML\")"
   ]
  },
  {
   "cell_type": "code",
   "execution_count": 48,
   "id": "9e9e8a73-d53d-46ab-b0c7-af87563ec351",
   "metadata": {},
   "outputs": [
    {
     "data": {
      "text/html": [
       "<div><div id=91d9b308-5beb-4b21-9960-470b3493aff8 style=\"display:none; background-color:#9D6CFF; color:white; width:200px; height:30px; padding-left:5px; border-radius:4px; flex-direction:row; justify-content:space-around; align-items:center;\" onmouseover=\"this.style.backgroundColor='#BA9BF8'\" onmouseout=\"this.style.backgroundColor='#9D6CFF'\" onclick=\"window.commands?.execute('create-mitosheet-from-dataframe-output');\">See Full Dataframe in Mito</div> <script> if (window.commands.hasCommand('create-mitosheet-from-dataframe-output')) document.getElementById('91d9b308-5beb-4b21-9960-470b3493aff8').style.display = 'flex' </script> <table border=\"1\" class=\"dataframe\">\n",
       "  <thead>\n",
       "    <tr style=\"text-align: right;\">\n",
       "      <th></th>\n",
       "      <th>Efficiency_Scores_Basic</th>\n",
       "      <th>Efficiency_Scores_with_ML</th>\n",
       "    </tr>\n",
       "  </thead>\n",
       "  <tbody>\n",
       "    <tr>\n",
       "      <th>41</th>\n",
       "      <td>0.850445</td>\n",
       "      <td>0.850445</td>\n",
       "    </tr>\n",
       "    <tr>\n",
       "      <th>42</th>\n",
       "      <td>0.999178</td>\n",
       "      <td>3.347792</td>\n",
       "    </tr>\n",
       "    <tr>\n",
       "      <th>43</th>\n",
       "      <td>0.867483</td>\n",
       "      <td>0.867483</td>\n",
       "    </tr>\n",
       "    <tr>\n",
       "      <th>44</th>\n",
       "      <td>0.928274</td>\n",
       "      <td>0.919642</td>\n",
       "    </tr>\n",
       "    <tr>\n",
       "      <th>45</th>\n",
       "      <td>0.713551</td>\n",
       "      <td>0.554874</td>\n",
       "    </tr>\n",
       "    <tr>\n",
       "      <th>...</th>\n",
       "      <td>...</td>\n",
       "      <td>...</td>\n",
       "    </tr>\n",
       "    <tr>\n",
       "      <th>56</th>\n",
       "      <td>0.763195</td>\n",
       "      <td>0.763195</td>\n",
       "    </tr>\n",
       "    <tr>\n",
       "      <th>57</th>\n",
       "      <td>0.716105</td>\n",
       "      <td>0.558248</td>\n",
       "    </tr>\n",
       "    <tr>\n",
       "      <th>58</th>\n",
       "      <td>0.803892</td>\n",
       "      <td>0.615593</td>\n",
       "    </tr>\n",
       "    <tr>\n",
       "      <th>59</th>\n",
       "      <td>0.840551</td>\n",
       "      <td>0.840551</td>\n",
       "    </tr>\n",
       "    <tr>\n",
       "      <th>60</th>\n",
       "      <td>0.853945</td>\n",
       "      <td>0.853945</td>\n",
       "    </tr>\n",
       "  </tbody>\n",
       "</table></div>"
      ],
      "text/plain": [
       "    Efficiency_Scores_Basic  Efficiency_Scores_with_ML\n",
       "41                 0.850445                   0.850445\n",
       "42                 0.999178                   3.347792\n",
       "43                 0.867483                   0.867483\n",
       "44                 0.928274                   0.919642\n",
       "45                 0.713551                   0.554874\n",
       "46                 0.938732                   0.938732\n",
       "47                 0.862390                   0.708740\n",
       "48                 0.833924                   0.748180\n",
       "49                 0.812153                   0.750297\n",
       "50                 0.846201                   0.846201\n",
       "51                 0.872620                   0.872620\n",
       "52                 0.968226                   0.964371\n",
       "53                 0.763135                   0.402727\n",
       "54                 0.785144                   0.582192\n",
       "55                 0.862949                   0.813691\n",
       "56                 0.763195                   0.763195\n",
       "57                 0.716105                   0.558248\n",
       "58                 0.803892                   0.615593\n",
       "59                 0.840551                   0.840551\n",
       "60                 0.853945                   0.853945"
      ]
     },
     "execution_count": 48,
     "metadata": {},
     "output_type": "execute_result"
    }
   ],
   "source": [
    "df_res[40:60]"
   ]
  },
  {
   "cell_type": "code",
   "execution_count": 43,
   "id": "6bc62bae-e8a0-40fe-a7cc-2cddf037f9e6",
   "metadata": {},
   "outputs": [
    {
     "data": {
      "text/html": [
       "<div><div id=a10ca0e3-c312-48b8-a9b2-6c58ae4cb442 style=\"display:none; background-color:#9D6CFF; color:white; width:200px; height:30px; padding-left:5px; border-radius:4px; flex-direction:row; justify-content:space-around; align-items:center;\" onmouseover=\"this.style.backgroundColor='#BA9BF8'\" onmouseout=\"this.style.backgroundColor='#9D6CFF'\" onclick=\"window.commands?.execute('create-mitosheet-from-dataframe-output');\">See Full Dataframe in Mito</div> <script> if (window.commands.hasCommand('create-mitosheet-from-dataframe-output')) document.getElementById('a10ca0e3-c312-48b8-a9b2-6c58ae4cb442').style.display = 'flex' </script> <table border=\"1\" class=\"dataframe\">\n",
       "  <thead>\n",
       "    <tr style=\"text-align: right;\">\n",
       "      <th></th>\n",
       "      <th>Efficiency_Scores_Basic</th>\n",
       "      <th>Efficiency_Scores_with_ML</th>\n",
       "      <th>Diff</th>\n",
       "      <th>Diff_Perc</th>\n",
       "      <th>Diff_Perc &lt; 10</th>\n",
       "    </tr>\n",
       "  </thead>\n",
       "  <tbody>\n",
       "    <tr>\n",
       "      <th>1</th>\n",
       "      <td>0.6611</td>\n",
       "      <td>0.5117</td>\n",
       "      <td>0.1493</td>\n",
       "      <td>22.5908</td>\n",
       "      <td>False</td>\n",
       "    </tr>\n",
       "    <tr>\n",
       "      <th>2</th>\n",
       "      <td>0.7526</td>\n",
       "      <td>0.5743</td>\n",
       "      <td>0.1783</td>\n",
       "      <td>23.6900</td>\n",
       "      <td>False</td>\n",
       "    </tr>\n",
       "    <tr>\n",
       "      <th>3</th>\n",
       "      <td>0.7950</td>\n",
       "      <td>0.7950</td>\n",
       "      <td>0.0000</td>\n",
       "      <td>0.0000</td>\n",
       "      <td>True</td>\n",
       "    </tr>\n",
       "    <tr>\n",
       "      <th>4</th>\n",
       "      <td>0.7234</td>\n",
       "      <td>0.5409</td>\n",
       "      <td>0.1824</td>\n",
       "      <td>25.2224</td>\n",
       "      <td>False</td>\n",
       "    </tr>\n",
       "    <tr>\n",
       "      <th>5</th>\n",
       "      <td>0.9574</td>\n",
       "      <td>0.9574</td>\n",
       "      <td>0.0000</td>\n",
       "      <td>0.0000</td>\n",
       "      <td>True</td>\n",
       "    </tr>\n",
       "    <tr>\n",
       "      <th>...</th>\n",
       "      <td>...</td>\n",
       "      <td>...</td>\n",
       "      <td>...</td>\n",
       "      <td>...</td>\n",
       "      <td>...</td>\n",
       "    </tr>\n",
       "    <tr>\n",
       "      <th>944</th>\n",
       "      <td>0.9871</td>\n",
       "      <td>0.8107</td>\n",
       "      <td>0.1764</td>\n",
       "      <td>17.8685</td>\n",
       "      <td>False</td>\n",
       "    </tr>\n",
       "    <tr>\n",
       "      <th>945</th>\n",
       "      <td>0.7531</td>\n",
       "      <td>0.5357</td>\n",
       "      <td>0.2174</td>\n",
       "      <td>28.8680</td>\n",
       "      <td>False</td>\n",
       "    </tr>\n",
       "    <tr>\n",
       "      <th>946</th>\n",
       "      <td>0.9072</td>\n",
       "      <td>0.8991</td>\n",
       "      <td>0.0082</td>\n",
       "      <td>0.8990</td>\n",
       "      <td>True</td>\n",
       "    </tr>\n",
       "    <tr>\n",
       "      <th>947</th>\n",
       "      <td>0.9050</td>\n",
       "      <td>0.9050</td>\n",
       "      <td>0.0000</td>\n",
       "      <td>0.0000</td>\n",
       "      <td>True</td>\n",
       "    </tr>\n",
       "    <tr>\n",
       "      <th>948</th>\n",
       "      <td>0.6548</td>\n",
       "      <td>0.4118</td>\n",
       "      <td>0.2430</td>\n",
       "      <td>37.1083</td>\n",
       "      <td>False</td>\n",
       "    </tr>\n",
       "  </tbody>\n",
       "</table></div>"
      ],
      "text/plain": [
       "     Efficiency_Scores_Basic  Efficiency_Scores_with_ML    Diff  Diff_Perc  \\\n",
       "1                     0.6611                     0.5117  0.1493    22.5908   \n",
       "2                     0.7526                     0.5743  0.1783    23.6900   \n",
       "3                     0.7950                     0.7950  0.0000     0.0000   \n",
       "4                     0.7234                     0.5409  0.1824    25.2224   \n",
       "5                     0.9574                     0.9574  0.0000     0.0000   \n",
       "..                       ...                        ...     ...        ...   \n",
       "944                   0.9871                     0.8107  0.1764    17.8685   \n",
       "945                   0.7531                     0.5357  0.2174    28.8680   \n",
       "946                   0.9072                     0.8991  0.0082     0.8990   \n",
       "947                   0.9050                     0.9050  0.0000     0.0000   \n",
       "948                   0.6548                     0.4118  0.2430    37.1083   \n",
       "\n",
       "     Diff_Perc < 10  \n",
       "1             False  \n",
       "2             False  \n",
       "3              True  \n",
       "4             False  \n",
       "5              True  \n",
       "..              ...  \n",
       "944           False  \n",
       "945           False  \n",
       "946            True  \n",
       "947            True  \n",
       "948           False  \n",
       "\n",
       "[948 rows x 5 columns]"
      ]
     },
     "execution_count": 43,
     "metadata": {},
     "output_type": "execute_result"
    }
   ],
   "source": [
    "df_res[\"Diff\"] = df_res[\"Efficiency_Scores_Basic\"]  - df_res[\"Efficiency_Scores_with_ML\"]\n",
    "df_res[\"Diff_Perc\"] = (df_res[\"Diff\"] / df_res[\"Efficiency_Scores_Basic\"]) * 100 \n",
    "df_res[\"Diff_Perc < 10\"] = np.abs(df_res[\"Diff_Perc\"]) < 10  \n",
    "df_res = df_res.round(4)\n",
    "df_res"
   ]
  },
  {
   "cell_type": "code",
   "execution_count": 44,
   "id": "c4474381-9b7d-40e9-8792-596457e6971b",
   "metadata": {},
   "outputs": [
    {
     "name": "stdout",
     "output_type": "stream",
     "text": [
      "blue :  586\n",
      "red :  362\n"
     ]
    }
   ],
   "source": [
    "blue = df_res[\"Diff_Perc < 10\"].sum()\n",
    "print(\"blue : \", blue)\n",
    "red = len(df_res[\"Diff_Perc < 10\"]) - (df_res[\"Diff_Perc < 10\"].sum())\n",
    "print(\"red : \", red)"
   ]
  },
  {
   "cell_type": "code",
   "execution_count": 45,
   "id": "dcf9accf-3bc5-48e5-bd87-c875a1074406",
   "metadata": {},
   "outputs": [
    {
     "data": {
      "application/vnd.plotly.v1+json": {
       "config": {
        "plotlyServerURL": "https://plot.ly"
       },
       "data": [
        {
         "customdata": [
          [
           22.5908,
           1
          ],
          [
           23.69,
           2
          ],
          [
           25.2224,
           4
          ],
          [
           19.4784,
           6
          ],
          [
           30.5748,
           12
          ],
          [
           29.9717,
           14
          ],
          [
           27.2378,
           16
          ],
          [
           24.484,
           18
          ],
          [
           12.6377,
           19
          ],
          [
           14.9144,
           24
          ],
          [
           17.611,
           25
          ],
          [
           15.8526,
           31
          ],
          [
           44.331,
           33
          ],
          [
           51.0925,
           35
          ],
          [
           31.8451,
           37
          ],
          [
           25.0042,
           38
          ],
          [
           43.7387,
           39
          ],
          [
           27.2505,
           40
          ],
          [
           -235.0547,
           42
          ],
          [
           22.2377,
           45
          ],
          [
           17.8168,
           47
          ],
          [
           10.282,
           48
          ],
          [
           47.2273,
           53
          ],
          [
           25.849,
           54
          ],
          [
           22.0439,
           57
          ],
          [
           23.4234,
           58
          ],
          [
           27.3366,
           61
          ],
          [
           18.6532,
           66
          ],
          [
           15.0805,
           67
          ],
          [
           22.0498,
           71
          ],
          [
           18.6165,
           77
          ],
          [
           13.0188,
           78
          ],
          [
           12.3811,
           79
          ],
          [
           26.1339,
           84
          ],
          [
           23.7861,
           85
          ],
          [
           16.1936,
           90
          ],
          [
           51.4968,
           91
          ],
          [
           24.6025,
           92
          ],
          [
           32.4421,
           94
          ],
          [
           39.6278,
           96
          ],
          [
           29.7937,
           97
          ],
          [
           22.8095,
           101
          ],
          [
           32.569,
           104
          ],
          [
           22.8854,
           111
          ],
          [
           10.5006,
           112
          ],
          [
           30.1141,
           117
          ],
          [
           19.5762,
           121
          ],
          [
           30.1321,
           123
          ],
          [
           12.4937,
           125
          ],
          [
           27.5812,
           127
          ],
          [
           27.0637,
           128
          ],
          [
           25.1357,
           129
          ],
          [
           25.5721,
           133
          ],
          [
           18.2724,
           134
          ],
          [
           25.5623,
           135
          ],
          [
           12.1017,
           138
          ],
          [
           -52.3995,
           140
          ],
          [
           25.1307,
           141
          ],
          [
           28.2943,
           142
          ],
          [
           47.2716,
           145
          ],
          [
           27.0604,
           147
          ],
          [
           28.4349,
           149
          ],
          [
           18.881,
           150
          ],
          [
           25.1302,
           151
          ],
          [
           31.7939,
           154
          ],
          [
           26.142,
           160
          ],
          [
           32.4699,
           161
          ],
          [
           31.3452,
           167
          ],
          [
           24.0255,
           168
          ],
          [
           23.5045,
           170
          ],
          [
           33.5904,
           171
          ],
          [
           32.1692,
           172
          ],
          [
           11.4335,
           174
          ],
          [
           19.0813,
           176
          ],
          [
           13.9794,
           177
          ],
          [
           24.9593,
           178
          ],
          [
           11.3389,
           179
          ],
          [
           30.9115,
           184
          ],
          [
           29.6835,
           185
          ],
          [
           46.0065,
           186
          ],
          [
           23.8454,
           188
          ],
          [
           25.344,
           191
          ],
          [
           25.6935,
           192
          ],
          [
           17.115,
           195
          ],
          [
           32.1312,
           197
          ],
          [
           32.4845,
           199
          ],
          [
           18.8088,
           202
          ],
          [
           40.1959,
           206
          ],
          [
           21.4593,
           209
          ],
          [
           25.0994,
           210
          ],
          [
           11.059,
           211
          ],
          [
           24.7096,
           214
          ],
          [
           50.5923,
           216
          ],
          [
           22.0828,
           217
          ],
          [
           28.8728,
           221
          ],
          [
           35.1475,
           224
          ],
          [
           37.3538,
           225
          ],
          [
           44.6544,
           227
          ],
          [
           20.7782,
           228
          ],
          [
           30.8142,
           231
          ],
          [
           11.57,
           232
          ],
          [
           12.6088,
           233
          ],
          [
           13.2556,
           236
          ],
          [
           21.2232,
           242
          ],
          [
           50.6156,
           244
          ],
          [
           46.3094,
           245
          ],
          [
           15.3682,
           247
          ],
          [
           37.8634,
           249
          ],
          [
           49.7935,
           250
          ],
          [
           30.4154,
           251
          ],
          [
           32.8259,
           254
          ],
          [
           21.6967,
           257
          ],
          [
           29.1132,
           258
          ],
          [
           52.9792,
           259
          ],
          [
           15.3027,
           260
          ],
          [
           34.1332,
           266
          ],
          [
           26.4792,
           269
          ],
          [
           19.1767,
           274
          ],
          [
           26.3137,
           277
          ],
          [
           22.8277,
           280
          ],
          [
           24.9756,
           282
          ],
          [
           21.8009,
           286
          ],
          [
           24.0171,
           287
          ],
          [
           18.5093,
           295
          ],
          [
           18.1746,
           302
          ],
          [
           21.2255,
           307
          ],
          [
           12.3971,
           309
          ],
          [
           19.4784,
           337
          ],
          [
           35.0444,
           338
          ],
          [
           17.611,
           341
          ],
          [
           27.2356,
           345
          ],
          [
           31.2603,
           347
          ],
          [
           25.1064,
           349
          ],
          [
           30.0221,
           353
          ],
          [
           21.732,
           355
          ],
          [
           24.2754,
           356
          ],
          [
           37.7975,
           357
          ],
          [
           21.9531,
           359
          ],
          [
           28.3125,
           360
          ],
          [
           22.2925,
           363
          ],
          [
           19.8608,
           366
          ],
          [
           30.842,
           368
          ],
          [
           26.0713,
           371
          ],
          [
           24.2068,
           372
          ],
          [
           32.88,
           374
          ],
          [
           43.3145,
           375
          ],
          [
           26.1738,
           379
          ],
          [
           12.8658,
           380
          ],
          [
           45.3186,
           381
          ],
          [
           25.9334,
           382
          ],
          [
           17.3412,
           383
          ],
          [
           17.8888,
           386
          ],
          [
           27.8112,
           388
          ],
          [
           27.6517,
           390
          ],
          [
           28.9791,
           392
          ],
          [
           19.5972,
           393
          ],
          [
           23.018,
           394
          ],
          [
           20.6484,
           395
          ],
          [
           25.8775,
           396
          ],
          [
           27.4338,
           397
          ],
          [
           26.645,
           398
          ],
          [
           31.5336,
           400
          ],
          [
           27.682,
           401
          ],
          [
           25.2183,
           402
          ],
          [
           25.8501,
           407
          ],
          [
           30.1489,
           408
          ],
          [
           28.1243,
           411
          ],
          [
           27.5538,
           418
          ],
          [
           17.4873,
           419
          ],
          [
           30.9891,
           421
          ],
          [
           22.7616,
           424
          ],
          [
           24.3354,
           426
          ],
          [
           29.3873,
           428
          ],
          [
           25.9793,
           429
          ],
          [
           18.0714,
           431
          ],
          [
           29.3008,
           432
          ],
          [
           34.9897,
           433
          ],
          [
           30.3844,
           434
          ],
          [
           33.4142,
           435
          ],
          [
           21.0516,
           436
          ],
          [
           17.9934,
           440
          ],
          [
           24.2871,
           441
          ],
          [
           37.0882,
           442
          ],
          [
           29.4344,
           443
          ],
          [
           24.7839,
           444
          ],
          [
           21.8177,
           451
          ],
          [
           21.9043,
           454
          ],
          [
           24.4048,
           455
          ],
          [
           18.7141,
           458
          ],
          [
           38.4059,
           459
          ],
          [
           30.7051,
           461
          ],
          [
           17.5487,
           462
          ],
          [
           21.5447,
           464
          ],
          [
           23.7567,
           465
          ],
          [
           23.0669,
           466
          ],
          [
           23.8358,
           469
          ],
          [
           25.982,
           470
          ],
          [
           27.6895,
           474
          ],
          [
           19.0616,
           475
          ],
          [
           22.2371,
           476
          ],
          [
           24.979,
           477
          ],
          [
           22.7511,
           478
          ],
          [
           22.9945,
           481
          ],
          [
           17.1393,
           482
          ],
          [
           20.6217,
           484
          ],
          [
           17.4158,
           485
          ],
          [
           33.433,
           487
          ],
          [
           27.8345,
           491
          ],
          [
           20.5971,
           492
          ],
          [
           20.0187,
           495
          ],
          [
           22.8862,
           496
          ],
          [
           27.1628,
           498
          ],
          [
           36.0355,
           500
          ],
          [
           20.9737,
           501
          ],
          [
           23.7131,
           504
          ],
          [
           23.5954,
           505
          ],
          [
           21.5608,
           507
          ],
          [
           21.8935,
           508
          ],
          [
           15.5826,
           509
          ],
          [
           21.5709,
           510
          ],
          [
           20.2568,
           512
          ],
          [
           19.2582,
           513
          ],
          [
           19.9825,
           515
          ],
          [
           21.4434,
           516
          ],
          [
           22.891,
           518
          ],
          [
           24.2144,
           521
          ],
          [
           21.5061,
           525
          ],
          [
           13.557,
           530
          ],
          [
           13.889,
           531
          ],
          [
           17.5857,
           543
          ],
          [
           18.3227,
           546
          ],
          [
           21.5425,
           554
          ],
          [
           15.1705,
           561
          ],
          [
           18.5735,
           564
          ],
          [
           19.1098,
           565
          ],
          [
           28.5495,
           566
          ],
          [
           29.5115,
           567
          ],
          [
           19.4301,
           568
          ],
          [
           26.2543,
           569
          ],
          [
           24.925,
           572
          ],
          [
           32.3277,
           573
          ],
          [
           27.2894,
           574
          ],
          [
           -329.8343,
           578
          ],
          [
           28.1833,
           586
          ],
          [
           14.5765,
           587
          ],
          [
           61.0725,
           593
          ],
          [
           66.6633,
           594
          ],
          [
           11.4478,
           595
          ],
          [
           -31.7137,
           596
          ],
          [
           18.5405,
           598
          ],
          [
           28.7631,
           600
          ],
          [
           12.2675,
           603
          ],
          [
           28.868,
           604
          ],
          [
           13.9117,
           605
          ],
          [
           51.4697,
           606
          ],
          [
           33.8218,
           608
          ],
          [
           44.705,
           609
          ],
          [
           25.3721,
           610
          ],
          [
           25.553,
           615
          ],
          [
           11.3285,
           618
          ],
          [
           27.2309,
           620
          ],
          [
           23.2503,
           623
          ],
          [
           30.3717,
           624
          ],
          [
           23.7093,
           627
          ],
          [
           17.5591,
           630
          ],
          [
           28.3988,
           631
          ],
          [
           17.8685,
           632
          ],
          [
           34.035,
           633
          ],
          [
           18.9514,
           635
          ],
          [
           20.1015,
           636
          ],
          [
           25.0559,
           637
          ],
          [
           15.4913,
           640
          ],
          [
           20.485,
           649
          ],
          [
           14.1418,
           652
          ],
          [
           31.2578,
           660
          ],
          [
           19.835,
           665
          ],
          [
           23.3102,
           672
          ],
          [
           29.3957,
           679
          ],
          [
           28.6025,
           683
          ],
          [
           27.3715,
           686
          ],
          [
           25.6605,
           687
          ],
          [
           32.9132,
           689
          ],
          [
           13.9061,
           694
          ],
          [
           75.02,
           698
          ],
          [
           27.2203,
           708
          ],
          [
           23.1533,
           710
          ],
          [
           34.9228,
           711
          ],
          [
           21.8818,
           712
          ],
          [
           29.8041,
           715
          ],
          [
           28.2438,
           716
          ],
          [
           31.5697,
           718
          ],
          [
           10.07,
           719
          ],
          [
           26.5833,
           730
          ],
          [
           16.4697,
           733
          ],
          [
           14.2096,
           734
          ],
          [
           13.9464,
           740
          ],
          [
           19.537,
           741
          ],
          [
           11.5652,
           742
          ],
          [
           22.1454,
           748
          ],
          [
           22.9889,
           750
          ],
          [
           30.7619,
           751
          ],
          [
           24.1185,
           752
          ],
          [
           28.7907,
           755
          ],
          [
           41.2516,
           756
          ],
          [
           12.3586,
           761
          ],
          [
           -39.3476,
           763
          ],
          [
           22.5948,
           764
          ],
          [
           21.819,
           765
          ],
          [
           25.6719,
           767
          ],
          [
           28.0256,
           771
          ],
          [
           82.2956,
           774
          ],
          [
           15.9579,
           775
          ],
          [
           32.0244,
           776
          ],
          [
           27.7048,
           779
          ],
          [
           -39.9358,
           780
          ],
          [
           35.887,
           781
          ],
          [
           -17.5154,
           782
          ],
          [
           -23.5445,
           783
          ],
          [
           -18.8631,
           784
          ],
          [
           30.4847,
           786
          ],
          [
           -22.8375,
           788
          ],
          [
           -12.7532,
           790
          ],
          [
           20.9939,
           792
          ],
          [
           30.5839,
           797
          ],
          [
           16.1777,
           798
          ],
          [
           13.4984,
           799
          ],
          [
           27.8918,
           801
          ],
          [
           28.1217,
           802
          ],
          [
           25.8988,
           803
          ],
          [
           22.6857,
           804
          ],
          [
           15.5848,
           807
          ],
          [
           27.2852,
           808
          ],
          [
           19.2524,
           814
          ],
          [
           13.546,
           816
          ],
          [
           27.4586,
           821
          ],
          [
           41.7492,
           827
          ],
          [
           23.9955,
           832
          ],
          [
           22.7859,
           833
          ],
          [
           14.2425,
           837
          ],
          [
           18.4609,
           838
          ],
          [
           42.9056,
           845
          ],
          [
           27.9419,
           846
          ],
          [
           24.5255,
           847
          ],
          [
           32.5515,
           854
          ],
          [
           16.0522,
           856
          ],
          [
           21.4899,
           857
          ],
          [
           19.1556,
           864
          ],
          [
           14.9587,
           867
          ],
          [
           12.9022,
           868
          ],
          [
           18.8735,
           871
          ],
          [
           23.1083,
           891
          ],
          [
           25.9432,
           900
          ],
          [
           23.118,
           901
          ],
          [
           25.9808,
           909
          ],
          [
           13.6339,
           910
          ],
          [
           21.074,
           919
          ],
          [
           28.0464,
           931
          ],
          [
           25.6605,
           932
          ],
          [
           27.3715,
           933
          ],
          [
           17.8685,
           944
          ],
          [
           28.868,
           945
          ],
          [
           37.1083,
           948
          ]
         ],
         "hovertemplate": "Diff_Perc < 10=False<br>Efficiency_Scores_Basic=%{x}<br>Efficiency_Scores_with_ML=%{y}<br>Diff_Perc=%{customdata[0]}<br>index=%{customdata[1]}<extra></extra>",
         "legendgroup": "False",
         "line": {
          "color": "lightgreen",
          "width": 3
         },
         "marker": {
          "color": "red",
          "symbol": "circle"
         },
         "mode": "markers",
         "name": "False",
         "orientation": "v",
         "showlegend": true,
         "type": "scatter",
         "x": [
          0.6611,
          0.7526,
          0.7234,
          0.8165,
          0.8142,
          0.8184,
          0.7379,
          0.7517,
          1.0248,
          0.8145,
          0.7798,
          0.8139,
          0.6837,
          0.6718,
          0.6794,
          0.8249,
          0.5819,
          0.7622,
          0.9992,
          0.7136,
          0.8624,
          0.8339,
          0.7631,
          0.7851,
          0.7161,
          0.8039,
          0.7625,
          0.7994,
          0.7642,
          0.8217,
          0.7389,
          0.5684,
          0.7865,
          0.815,
          0.602,
          0.6574,
          0.7152,
          0.8078,
          0.7066,
          0.6541,
          0.6109,
          0.7445,
          0.6627,
          0.8244,
          0.7459,
          0.7806,
          0.7947,
          0.7724,
          0.804,
          0.7795,
          0.5213,
          0.7873,
          0.7989,
          0.8354,
          0.7967,
          0.8269,
          0.9847,
          0.7857,
          0.7729,
          0.5639,
          0.7966,
          0.7156,
          0.8682,
          0.7894,
          0.7336,
          0.8094,
          0.7421,
          0.6883,
          0.7249,
          0.7983,
          0.7156,
          0.749,
          1.0475,
          0.827,
          0.9137,
          0.7896,
          0.8927,
          0.7396,
          0.7673,
          0.8097,
          0.6809,
          0.8177,
          0.8058,
          0.8174,
          0.6889,
          0.7354,
          0.7294,
          0.761,
          0.8405,
          0.7926,
          0.8619,
          0.7123,
          0.6552,
          0.8257,
          0.7474,
          0.7466,
          0.749,
          0.5995,
          0.8127,
          0.7064,
          0.8968,
          0.8207,
          0.9134,
          0.8056,
          0.6041,
          0.504,
          0.7858,
          0.6958,
          0.6401,
          0.7598,
          0.7936,
          0.8116,
          0.776,
          0.6595,
          0.8083,
          0.7408,
          0.7439,
          0.875,
          0.7962,
          0.8614,
          0.7565,
          0.7192,
          0.775,
          0.864,
          0.8562,
          0.8019,
          0.8932,
          0.8165,
          0.7559,
          0.7798,
          0.7824,
          0.7676,
          0.734,
          0.8074,
          0.8557,
          0.7652,
          0.7233,
          0.772,
          0.7798,
          0.7922,
          0.8509,
          0.7622,
          0.7932,
          0.7512,
          0.7446,
          0.6667,
          0.7832,
          0.8367,
          0.5407,
          0.7883,
          0.8604,
          0.8709,
          0.7339,
          0.7895,
          0.7746,
          0.7643,
          0.8105,
          0.8311,
          0.7809,
          0.7526,
          0.806,
          0.7598,
          0.791,
          0.7525,
          0.8033,
          0.7704,
          0.701,
          0.7621,
          0.8252,
          0.7246,
          0.8204,
          0.7881,
          0.7283,
          0.7969,
          0.8276,
          0.589,
          0.812,
          0.7239,
          0.6707,
          0.8423,
          0.8826,
          0.7605,
          0.7629,
          0.7597,
          0.7837,
          0.7915,
          0.8389,
          0.8389,
          0.7549,
          0.4752,
          0.6582,
          0.8559,
          0.8336,
          0.811,
          0.8141,
          0.8146,
          0.8086,
          0.7661,
          0.8573,
          0.8413,
          0.7804,
          0.8233,
          0.8051,
          0.8696,
          0.8202,
          0.8594,
          0.7905,
          0.7433,
          0.8374,
          0.8494,
          0.8105,
          0.7335,
          0.6468,
          0.8361,
          0.8323,
          0.8402,
          0.855,
          0.8298,
          0.9051,
          0.7393,
          0.8528,
          0.8669,
          0.8425,
          0.8084,
          0.8266,
          0.8289,
          0.8609,
          0.9033,
          0.7876,
          0.8873,
          0.7912,
          0.8061,
          0.899,
          0.9179,
          0.8468,
          0.9514,
          0.7955,
          0.7826,
          0.7538,
          0.9664,
          1,
          0.9276,
          1.0062,
          0.7937,
          0.9308,
          0.6844,
          0.608,
          0.8379,
          1.0225,
          0.7539,
          0.7316,
          0.8444,
          0.7531,
          0.8222,
          0.5484,
          0.617,
          0.6585,
          0.7052,
          0.7561,
          0.7985,
          0.7546,
          0.7557,
          0.7615,
          0.6609,
          0.8016,
          0.8201,
          0.9871,
          0.567,
          0.8073,
          0.853,
          0.8294,
          0.8975,
          0.7824,
          0.8194,
          0.7123,
          0.8219,
          0.7729,
          0.7358,
          0.6638,
          0.8108,
          0.7331,
          0.2818,
          0.8776,
          1,
          0.7529,
          0.7073,
          0.5995,
          0.2118,
          0.8148,
          0.7942,
          0.5704,
          0.6109,
          0.7745,
          0.7769,
          0.816,
          0.7553,
          0.9011,
          1.1112,
          0.8451,
          0.8074,
          0.7305,
          0.8009,
          0.7542,
          0.5455,
          0.772,
          0.9557,
          0.765,
          0.8058,
          0.7974,
          0.7639,
          5.3868,
          0.8616,
          0.8785,
          0.6955,
          0.9567,
          0.6578,
          1.0145,
          1.0353,
          1.0248,
          0.7581,
          0.8842,
          1.0269,
          0.7083,
          0.7704,
          0.9704,
          0.8192,
          0.7604,
          0.7769,
          0.788,
          0.8208,
          0.8257,
          0.7133,
          0.831,
          0.832,
          0.7924,
          0.8227,
          0.7948,
          0.7976,
          0.9005,
          0.8793,
          0.8355,
          0.7843,
          0.8189,
          0.7348,
          0.8803,
          0.8505,
          0.8282,
          0.8731,
          0.9183,
          0.8551,
          0.8293,
          0.7822,
          0.721,
          0.7828,
          0.8535,
          0.8509,
          0.78,
          0.7331,
          0.8108,
          0.9871,
          0.7531,
          0.6548
         ],
         "xaxis": "x",
         "y": [
          0.5117,
          0.5743,
          0.5409,
          0.6575,
          0.5653,
          0.5731,
          0.5369,
          0.5677,
          0.8953,
          0.693,
          0.6425,
          0.6849,
          0.3806,
          0.3286,
          0.463,
          0.6186,
          0.3274,
          0.5545,
          3.3478,
          0.5549,
          0.7087,
          0.7482,
          0.4027,
          0.5822,
          0.5582,
          0.6156,
          0.554,
          0.6503,
          0.6489,
          0.6405,
          0.6014,
          0.4944,
          0.6892,
          0.602,
          0.4588,
          0.5509,
          0.3469,
          0.609,
          0.4774,
          0.3949,
          0.4289,
          0.5747,
          0.4469,
          0.6357,
          0.6676,
          0.5455,
          0.6391,
          0.5397,
          0.7036,
          0.5645,
          0.3802,
          0.5894,
          0.5946,
          0.6828,
          0.593,
          0.7268,
          1.5007,
          0.5882,
          0.5542,
          0.2973,
          0.581,
          0.5121,
          0.7043,
          0.591,
          0.5004,
          0.5978,
          0.5012,
          0.4725,
          0.5507,
          0.6107,
          0.4752,
          0.5081,
          0.9277,
          0.6692,
          0.786,
          0.5925,
          0.7915,
          0.511,
          0.5395,
          0.4372,
          0.5185,
          0.6105,
          0.5988,
          0.6775,
          0.4676,
          0.4965,
          0.5922,
          0.4551,
          0.6602,
          0.5937,
          0.7665,
          0.5363,
          0.3237,
          0.6433,
          0.5316,
          0.4842,
          0.4692,
          0.3318,
          0.6438,
          0.4888,
          0.793,
          0.7172,
          0.7923,
          0.6346,
          0.2983,
          0.2706,
          0.6651,
          0.4323,
          0.3214,
          0.5287,
          0.5331,
          0.6355,
          0.5501,
          0.3101,
          0.6846,
          0.4879,
          0.5469,
          0.7072,
          0.5867,
          0.6647,
          0.5675,
          0.5624,
          0.5889,
          0.7041,
          0.7006,
          0.6317,
          0.7824,
          0.6575,
          0.491,
          0.6425,
          0.5693,
          0.5277,
          0.5497,
          0.565,
          0.6697,
          0.5794,
          0.4499,
          0.6025,
          0.559,
          0.6156,
          0.6819,
          0.5271,
          0.5864,
          0.5694,
          0.4998,
          0.3779,
          0.5782,
          0.7291,
          0.2957,
          0.5838,
          0.7112,
          0.7151,
          0.5298,
          0.5712,
          0.5501,
          0.6145,
          0.624,
          0.6595,
          0.5788,
          0.5462,
          0.5912,
          0.5202,
          0.5721,
          0.5627,
          0.5957,
          0.5382,
          0.5039,
          0.5521,
          0.6809,
          0.5,
          0.6337,
          0.5963,
          0.5143,
          0.5899,
          0.678,
          0.4164,
          0.5279,
          0.5039,
          0.4466,
          0.665,
          0.7238,
          0.5758,
          0.48,
          0.5361,
          0.5894,
          0.6188,
          0.6552,
          0.6342,
          0.6137,
          0.2927,
          0.4561,
          0.7057,
          0.654,
          0.6183,
          0.6263,
          0.6204,
          0.5985,
          0.554,
          0.6939,
          0.6542,
          0.5855,
          0.636,
          0.62,
          0.7206,
          0.6511,
          0.7097,
          0.5262,
          0.5364,
          0.6649,
          0.6794,
          0.625,
          0.5343,
          0.4137,
          0.6608,
          0.635,
          0.6419,
          0.6707,
          0.6482,
          0.7641,
          0.5798,
          0.6801,
          0.7,
          0.6742,
          0.635,
          0.6374,
          0.6282,
          0.6757,
          0.7808,
          0.6782,
          0.7313,
          0.6462,
          0.6324,
          0.7626,
          0.7474,
          0.685,
          0.6798,
          0.5607,
          0.6306,
          0.5559,
          0.7256,
          0.6767,
          0.6745,
          4.3249,
          0.57,
          0.7952,
          0.2664,
          0.2027,
          0.742,
          1.3467,
          0.6142,
          0.5212,
          0.7408,
          0.5357,
          0.7078,
          0.2661,
          0.4083,
          0.3641,
          0.5263,
          0.5629,
          0.7081,
          0.5491,
          0.58,
          0.5302,
          0.5042,
          0.6608,
          0.5872,
          0.8107,
          0.374,
          0.6543,
          0.6816,
          0.6216,
          0.7584,
          0.6221,
          0.7035,
          0.4896,
          0.6589,
          0.5927,
          0.5195,
          0.4739,
          0.5889,
          0.545,
          0.189,
          0.7556,
          0.2498,
          0.5479,
          0.5435,
          0.3901,
          0.1655,
          0.572,
          0.5699,
          0.3903,
          0.5494,
          0.5686,
          0.649,
          0.7,
          0.65,
          0.7251,
          0.9827,
          0.6579,
          0.6218,
          0.5058,
          0.6077,
          0.537,
          0.3204,
          0.6766,
          1.3317,
          0.5922,
          0.63,
          0.5927,
          0.5498,
          0.9537,
          0.7241,
          0.5972,
          0.5028,
          1.3387,
          0.4217,
          1.1922,
          1.2791,
          1.2181,
          0.527,
          1.0862,
          1.1579,
          0.5596,
          0.5348,
          0.8134,
          0.7086,
          0.5483,
          0.5584,
          0.5839,
          0.6346,
          0.6971,
          0.5187,
          0.671,
          0.7193,
          0.5748,
          0.4792,
          0.6041,
          0.6159,
          0.7723,
          0.717,
          0.477,
          0.5652,
          0.6181,
          0.4956,
          0.739,
          0.6677,
          0.6695,
          0.7425,
          0.7998,
          0.6937,
          0.6377,
          0.5793,
          0.5543,
          0.5794,
          0.7371,
          0.6716,
          0.5613,
          0.545,
          0.5889,
          0.8107,
          0.5357,
          0.4118
         ],
         "yaxis": "y"
        },
        {
         "customdata": [
          [
           0,
           3
          ],
          [
           0,
           5
          ],
          [
           0,
           7
          ],
          [
           7.3574,
           8
          ],
          [
           0,
           9
          ],
          [
           0,
           10
          ],
          [
           0,
           11
          ],
          [
           0,
           13
          ],
          [
           0,
           15
          ],
          [
           0,
           17
          ],
          [
           0,
           20
          ],
          [
           0,
           21
          ],
          [
           6.8151,
           22
          ],
          [
           0.4826,
           23
          ],
          [
           0,
           26
          ],
          [
           0,
           27
          ],
          [
           7.2738,
           28
          ],
          [
           0,
           29
          ],
          [
           1.2193,
           30
          ],
          [
           0,
           32
          ],
          [
           0,
           34
          ],
          [
           0,
           36
          ],
          [
           0,
           41
          ],
          [
           0,
           43
          ],
          [
           0.9299,
           44
          ],
          [
           0,
           46
          ],
          [
           7.6163,
           49
          ],
          [
           0,
           50
          ],
          [
           0,
           51
          ],
          [
           0.3982,
           52
          ],
          [
           5.7081,
           55
          ],
          [
           0,
           56
          ],
          [
           0,
           59
          ],
          [
           0,
           60
          ],
          [
           0,
           62
          ],
          [
           0,
           63
          ],
          [
           0,
           64
          ],
          [
           -1.0559,
           65
          ],
          [
           0.8775,
           68
          ],
          [
           0,
           69
          ],
          [
           6.8747,
           70
          ],
          [
           0,
           72
          ],
          [
           0,
           73
          ],
          [
           0,
           74
          ],
          [
           0,
           75
          ],
          [
           0.0718,
           76
          ],
          [
           0,
           80
          ],
          [
           0,
           81
          ],
          [
           1.5461,
           82
          ],
          [
           0,
           83
          ],
          [
           0,
           86
          ],
          [
           0,
           87
          ],
          [
           7.4026,
           88
          ],
          [
           0,
           89
          ],
          [
           0,
           93
          ],
          [
           0,
           95
          ],
          [
           0,
           98
          ],
          [
           0,
           99
          ],
          [
           0,
           100
          ],
          [
           0,
           102
          ],
          [
           0,
           103
          ],
          [
           0,
           105
          ],
          [
           0,
           106
          ],
          [
           0,
           107
          ],
          [
           0,
           108
          ],
          [
           0,
           109
          ],
          [
           0,
           110
          ],
          [
           0,
           113
          ],
          [
           0,
           114
          ],
          [
           0,
           115
          ],
          [
           0,
           116
          ],
          [
           0,
           118
          ],
          [
           1.4155,
           119
          ],
          [
           0,
           120
          ],
          [
           0,
           122
          ],
          [
           0,
           124
          ],
          [
           1.0601,
           126
          ],
          [
           0,
           130
          ],
          [
           0,
           131
          ],
          [
           6.3646,
           132
          ],
          [
           0,
           136
          ],
          [
           0,
           137
          ],
          [
           9.1816,
           139
          ],
          [
           0,
           143
          ],
          [
           0,
           144
          ],
          [
           0,
           146
          ],
          [
           1.5603,
           148
          ],
          [
           0,
           152
          ],
          [
           0,
           153
          ],
          [
           0,
           155
          ],
          [
           0,
           156
          ],
          [
           1.458,
           157
          ],
          [
           2.5192,
           158
          ],
          [
           0,
           159
          ],
          [
           0,
           162
          ],
          [
           0,
           163
          ],
          [
           0,
           164
          ],
          [
           0,
           165
          ],
          [
           0,
           166
          ],
          [
           0,
           169
          ],
          [
           0,
           173
          ],
          [
           0,
           175
          ],
          [
           0,
           180
          ],
          [
           0,
           181
          ],
          [
           0,
           182
          ],
          [
           0,
           183
          ],
          [
           0,
           187
          ],
          [
           8.7609,
           189
          ],
          [
           0,
           190
          ],
          [
           2.2209,
           193
          ],
          [
           0,
           194
          ],
          [
           0,
           196
          ],
          [
           0,
           198
          ],
          [
           0,
           200
          ],
          [
           0,
           201
          ],
          [
           0,
           203
          ],
          [
           0,
           204
          ],
          [
           0,
           205
          ],
          [
           0,
           207
          ],
          [
           0,
           208
          ],
          [
           0,
           212
          ],
          [
           0,
           213
          ],
          [
           0,
           215
          ],
          [
           0,
           218
          ],
          [
           0,
           219
          ],
          [
           0,
           220
          ],
          [
           0,
           222
          ],
          [
           0,
           223
          ],
          [
           0,
           226
          ],
          [
           0,
           229
          ],
          [
           0,
           230
          ],
          [
           0,
           234
          ],
          [
           0,
           235
          ],
          [
           0,
           237
          ],
          [
           0,
           238
          ],
          [
           0,
           239
          ],
          [
           0,
           240
          ],
          [
           0,
           241
          ],
          [
           0,
           243
          ],
          [
           0,
           246
          ],
          [
           0,
           248
          ],
          [
           0,
           252
          ],
          [
           0,
           253
          ],
          [
           0,
           255
          ],
          [
           8.2214,
           256
          ],
          [
           0,
           261
          ],
          [
           0,
           262
          ],
          [
           0,
           263
          ],
          [
           0,
           264
          ],
          [
           0,
           265
          ],
          [
           0,
           267
          ],
          [
           0,
           268
          ],
          [
           0,
           270
          ],
          [
           0,
           271
          ],
          [
           0,
           272
          ],
          [
           0,
           273
          ],
          [
           0,
           275
          ],
          [
           0,
           276
          ],
          [
           0,
           278
          ],
          [
           0,
           279
          ],
          [
           8.3234,
           281
          ],
          [
           6.8319,
           283
          ],
          [
           0,
           284
          ],
          [
           0,
           285
          ],
          [
           0,
           288
          ],
          [
           0,
           289
          ],
          [
           0,
           290
          ],
          [
           0,
           291
          ],
          [
           0,
           292
          ],
          [
           0,
           293
          ],
          [
           0,
           294
          ],
          [
           0,
           296
          ],
          [
           0,
           297
          ],
          [
           0,
           298
          ],
          [
           0,
           299
          ],
          [
           0,
           300
          ],
          [
           0,
           301
          ],
          [
           0,
           303
          ],
          [
           0,
           304
          ],
          [
           0,
           305
          ],
          [
           8.0309,
           306
          ],
          [
           0,
           308
          ],
          [
           0,
           310
          ],
          [
           0,
           311
          ],
          [
           0,
           312
          ],
          [
           0,
           313
          ],
          [
           0,
           314
          ],
          [
           2.4487,
           315
          ],
          [
           0,
           316
          ],
          [
           0,
           317
          ],
          [
           0,
           318
          ],
          [
           0,
           319
          ],
          [
           0,
           320
          ],
          [
           0,
           321
          ],
          [
           0,
           322
          ],
          [
           4.9708,
           323
          ],
          [
           0,
           324
          ],
          [
           0,
           325
          ],
          [
           0,
           326
          ],
          [
           0,
           327
          ],
          [
           0,
           328
          ],
          [
           0,
           329
          ],
          [
           7.8065,
           330
          ],
          [
           0,
           331
          ],
          [
           0,
           332
          ],
          [
           0,
           333
          ],
          [
           0,
           334
          ],
          [
           0,
           335
          ],
          [
           0,
           336
          ],
          [
           0,
           339
          ],
          [
           0,
           340
          ],
          [
           0,
           342
          ],
          [
           0,
           343
          ],
          [
           2.7744,
           344
          ],
          [
           0,
           346
          ],
          [
           0,
           348
          ],
          [
           0,
           350
          ],
          [
           0,
           351
          ],
          [
           7.4797,
           352
          ],
          [
           0,
           354
          ],
          [
           0,
           358
          ],
          [
           0,
           361
          ],
          [
           0,
           362
          ],
          [
           0,
           364
          ],
          [
           0,
           365
          ],
          [
           0,
           367
          ],
          [
           0,
           369
          ],
          [
           0,
           370
          ],
          [
           0,
           373
          ],
          [
           0,
           376
          ],
          [
           0,
           377
          ],
          [
           0,
           378
          ],
          [
           0,
           384
          ],
          [
           0,
           385
          ],
          [
           0,
           387
          ],
          [
           0,
           389
          ],
          [
           0,
           391
          ],
          [
           0,
           399
          ],
          [
           0,
           403
          ],
          [
           0,
           404
          ],
          [
           0,
           405
          ],
          [
           0,
           406
          ],
          [
           0,
           409
          ],
          [
           0,
           410
          ],
          [
           0,
           412
          ],
          [
           0,
           413
          ],
          [
           7.5447,
           414
          ],
          [
           0,
           415
          ],
          [
           0,
           416
          ],
          [
           0,
           417
          ],
          [
           0,
           420
          ],
          [
           0,
           422
          ],
          [
           0,
           423
          ],
          [
           0,
           425
          ],
          [
           0,
           427
          ],
          [
           0,
           430
          ],
          [
           0,
           437
          ],
          [
           0,
           438
          ],
          [
           0,
           439
          ],
          [
           0,
           445
          ],
          [
           0,
           446
          ],
          [
           0,
           447
          ],
          [
           0,
           448
          ],
          [
           0,
           449
          ],
          [
           0,
           450
          ],
          [
           0,
           452
          ],
          [
           0,
           453
          ],
          [
           0,
           456
          ],
          [
           0,
           457
          ],
          [
           0,
           460
          ],
          [
           0,
           463
          ],
          [
           0,
           467
          ],
          [
           0,
           468
          ],
          [
           0,
           471
          ],
          [
           0,
           472
          ],
          [
           0,
           473
          ],
          [
           0,
           479
          ],
          [
           0,
           480
          ],
          [
           0,
           483
          ],
          [
           0,
           486
          ],
          [
           0,
           488
          ],
          [
           0,
           489
          ],
          [
           0,
           490
          ],
          [
           0,
           493
          ],
          [
           0,
           494
          ],
          [
           0,
           497
          ],
          [
           0,
           499
          ],
          [
           0,
           502
          ],
          [
           0,
           503
          ],
          [
           0,
           506
          ],
          [
           0,
           511
          ],
          [
           0,
           514
          ],
          [
           0,
           517
          ],
          [
           0,
           519
          ],
          [
           1.3665,
           520
          ],
          [
           0,
           522
          ],
          [
           0,
           523
          ],
          [
           0,
           524
          ],
          [
           0,
           526
          ],
          [
           0,
           527
          ],
          [
           0,
           528
          ],
          [
           0,
           529
          ],
          [
           0,
           532
          ],
          [
           0,
           533
          ],
          [
           0,
           534
          ],
          [
           2.522,
           535
          ],
          [
           0.7183,
           536
          ],
          [
           0,
           537
          ],
          [
           0,
           538
          ],
          [
           0,
           539
          ],
          [
           0,
           540
          ],
          [
           0,
           541
          ],
          [
           0,
           542
          ],
          [
           0,
           544
          ],
          [
           0,
           545
          ],
          [
           1.5133,
           547
          ],
          [
           0,
           548
          ],
          [
           0,
           549
          ],
          [
           0,
           550
          ],
          [
           0,
           551
          ],
          [
           6.8234,
           552
          ],
          [
           0,
           553
          ],
          [
           0,
           555
          ],
          [
           0,
           556
          ],
          [
           0,
           557
          ],
          [
           0,
           558
          ],
          [
           0,
           559
          ],
          [
           0,
           560
          ],
          [
           0,
           562
          ],
          [
           0,
           563
          ],
          [
           0,
           570
          ],
          [
           0,
           571
          ],
          [
           0,
           575
          ],
          [
           0,
           576
          ],
          [
           0,
           577
          ],
          [
           0,
           579
          ],
          [
           -8.7703,
           580
          ],
          [
           7.6003,
           581
          ],
          [
           7.0067,
           582
          ],
          [
           0,
           583
          ],
          [
           0,
           584
          ],
          [
           9.0282,
           585
          ],
          [
           0,
           588
          ],
          [
           0,
           589
          ],
          [
           0,
           590
          ],
          [
           0,
           591
          ],
          [
           0,
           592
          ],
          [
           1.2283,
           597
          ],
          [
           4.8817,
           599
          ],
          [
           0,
           601
          ],
          [
           0,
           602
          ],
          [
           6.8779,
           607
          ],
          [
           0,
           611
          ],
          [
           0,
           612
          ],
          [
           0,
           613
          ],
          [
           0,
           614
          ],
          [
           0,
           616
          ],
          [
           0,
           617
          ],
          [
           0,
           619
          ],
          [
           0,
           621
          ],
          [
           0,
           622
          ],
          [
           0,
           625
          ],
          [
           0,
           626
          ],
          [
           0,
           628
          ],
          [
           3.0871,
           629
          ],
          [
           0,
           634
          ],
          [
           0,
           638
          ],
          [
           4.7567,
           639
          ],
          [
           0,
           641
          ],
          [
           5.9107,
           642
          ],
          [
           0,
           643
          ],
          [
           0,
           644
          ],
          [
           5.2351,
           645
          ],
          [
           0,
           646
          ],
          [
           4.086,
           647
          ],
          [
           3.5544,
           648
          ],
          [
           0,
           650
          ],
          [
           0,
           651
          ],
          [
           0,
           653
          ],
          [
           0,
           654
          ],
          [
           0,
           655
          ],
          [
           1.0851,
           656
          ],
          [
           0,
           657
          ],
          [
           0,
           658
          ],
          [
           0,
           659
          ],
          [
           4.5968,
           661
          ],
          [
           0,
           662
          ],
          [
           7.1407,
           663
          ],
          [
           0,
           664
          ],
          [
           0,
           666
          ],
          [
           0,
           667
          ],
          [
           0,
           668
          ],
          [
           6.4824,
           669
          ],
          [
           3.1126,
           670
          ],
          [
           6.5004,
           671
          ],
          [
           0,
           673
          ],
          [
           0,
           674
          ],
          [
           5.8832,
           675
          ],
          [
           0,
           676
          ],
          [
           0,
           677
          ],
          [
           0,
           678
          ],
          [
           0,
           680
          ],
          [
           0,
           681
          ],
          [
           0,
           682
          ],
          [
           3.493,
           684
          ],
          [
           0.841,
           685
          ],
          [
           0,
           688
          ],
          [
           0,
           690
          ],
          [
           0,
           691
          ],
          [
           0,
           692
          ],
          [
           0,
           693
          ],
          [
           0,
           695
          ],
          [
           1.1403,
           696
          ],
          [
           1.4996,
           697
          ],
          [
           0,
           699
          ],
          [
           0,
           700
          ],
          [
           1.004,
           701
          ],
          [
           0,
           702
          ],
          [
           1.6974,
           703
          ],
          [
           1.4888,
           704
          ],
          [
           4.5508,
           705
          ],
          [
           1.4171,
           706
          ],
          [
           0,
           707
          ],
          [
           0,
           709
          ],
          [
           3.0299,
           713
          ],
          [
           0,
           714
          ],
          [
           0,
           717
          ],
          [
           0,
           720
          ],
          [
           0,
           721
          ],
          [
           0,
           722
          ],
          [
           9.838,
           723
          ],
          [
           0,
           724
          ],
          [
           1.2205,
           725
          ],
          [
           3.2228,
           726
          ],
          [
           0,
           727
          ],
          [
           0,
           728
          ],
          [
           0,
           729
          ],
          [
           0.2921,
           731
          ],
          [
           0,
           732
          ],
          [
           0,
           735
          ],
          [
           6.9404,
           736
          ],
          [
           0,
           737
          ],
          [
           0,
           738
          ],
          [
           0,
           739
          ],
          [
           0,
           743
          ],
          [
           0,
           744
          ],
          [
           0.7658,
           745
          ],
          [
           0,
           746
          ],
          [
           0,
           747
          ],
          [
           0,
           749
          ],
          [
           6.3861,
           753
          ],
          [
           0,
           754
          ],
          [
           0,
           757
          ],
          [
           0,
           758
          ],
          [
           0,
           759
          ],
          [
           0,
           760
          ],
          [
           0,
           762
          ],
          [
           0,
           766
          ],
          [
           9.991,
           768
          ],
          [
           0,
           769
          ],
          [
           0,
           770
          ],
          [
           0,
           772
          ],
          [
           0,
           773
          ],
          [
           0,
           777
          ],
          [
           0,
           778
          ],
          [
           0,
           785
          ],
          [
           0,
           787
          ],
          [
           0.5019,
           789
          ],
          [
           7.2238,
           791
          ],
          [
           0,
           793
          ],
          [
           0,
           794
          ],
          [
           0,
           795
          ],
          [
           0,
           796
          ],
          [
           0,
           800
          ],
          [
           0,
           805
          ],
          [
           0,
           806
          ],
          [
           0,
           809
          ],
          [
           0,
           810
          ],
          [
           0,
           811
          ],
          [
           0,
           812
          ],
          [
           0,
           813
          ],
          [
           0,
           815
          ],
          [
           0,
           817
          ],
          [
           0,
           818
          ],
          [
           0,
           819
          ],
          [
           0,
           820
          ],
          [
           0,
           822
          ],
          [
           0,
           823
          ],
          [
           0,
           824
          ],
          [
           0,
           825
          ],
          [
           0,
           826
          ],
          [
           0,
           828
          ],
          [
           0,
           829
          ],
          [
           0,
           830
          ],
          [
           0,
           831
          ],
          [
           0,
           834
          ],
          [
           0,
           835
          ],
          [
           0,
           836
          ],
          [
           0,
           839
          ],
          [
           0,
           840
          ],
          [
           0,
           841
          ],
          [
           0,
           842
          ],
          [
           0,
           843
          ],
          [
           0,
           844
          ],
          [
           0,
           848
          ],
          [
           0,
           849
          ],
          [
           0,
           850
          ],
          [
           0,
           851
          ],
          [
           0,
           852
          ],
          [
           0,
           853
          ],
          [
           0,
           855
          ],
          [
           0,
           858
          ],
          [
           0,
           859
          ],
          [
           0,
           860
          ],
          [
           8.0877,
           861
          ],
          [
           0,
           862
          ],
          [
           0,
           863
          ],
          [
           0,
           865
          ],
          [
           0,
           866
          ],
          [
           0,
           869
          ],
          [
           0,
           870
          ],
          [
           0,
           872
          ],
          [
           0,
           873
          ],
          [
           0,
           874
          ],
          [
           0,
           875
          ],
          [
           0,
           876
          ],
          [
           0,
           877
          ],
          [
           0,
           878
          ],
          [
           0,
           879
          ],
          [
           0,
           880
          ],
          [
           0,
           881
          ],
          [
           0,
           882
          ],
          [
           5.0362,
           883
          ],
          [
           0,
           884
          ],
          [
           0,
           885
          ],
          [
           0,
           886
          ],
          [
           0,
           887
          ],
          [
           0,
           888
          ],
          [
           1.3713,
           889
          ],
          [
           0,
           890
          ],
          [
           0,
           892
          ],
          [
           0,
           893
          ],
          [
           0,
           894
          ],
          [
           0,
           895
          ],
          [
           0,
           896
          ],
          [
           0,
           897
          ],
          [
           0,
           898
          ],
          [
           0,
           899
          ],
          [
           0,
           902
          ],
          [
           0,
           903
          ],
          [
           0,
           904
          ],
          [
           0,
           905
          ],
          [
           0,
           906
          ],
          [
           0,
           907
          ],
          [
           0,
           908
          ],
          [
           0,
           911
          ],
          [
           0,
           912
          ],
          [
           0,
           913
          ],
          [
           0,
           914
          ],
          [
           0,
           915
          ],
          [
           1.1094,
           916
          ],
          [
           0,
           917
          ],
          [
           0,
           918
          ],
          [
           0,
           920
          ],
          [
           0,
           921
          ],
          [
           0,
           922
          ],
          [
           0,
           923
          ],
          [
           0,
           924
          ],
          [
           0,
           925
          ],
          [
           0,
           926
          ],
          [
           9.2198,
           927
          ],
          [
           0,
           928
          ],
          [
           0,
           929
          ],
          [
           3.1391,
           930
          ],
          [
           0,
           934
          ],
          [
           0,
           935
          ],
          [
           0,
           936
          ],
          [
           0,
           937
          ],
          [
           0,
           938
          ],
          [
           1.2205,
           939
          ],
          [
           0,
           940
          ],
          [
           0,
           941
          ],
          [
           1.4888,
           942
          ],
          [
           0,
           943
          ],
          [
           0.899,
           946
          ],
          [
           0,
           947
          ]
         ],
         "hovertemplate": "Diff_Perc < 10=True<br>Efficiency_Scores_Basic=%{x}<br>Efficiency_Scores_with_ML=%{y}<br>Diff_Perc=%{customdata[0]}<br>index=%{customdata[1]}<extra></extra>",
         "legendgroup": "True",
         "line": {
          "color": "lightgreen",
          "width": 3
         },
         "marker": {
          "color": "blue",
          "symbol": "circle"
         },
         "mode": "markers",
         "name": "True",
         "orientation": "v",
         "showlegend": true,
         "type": "scatter",
         "x": [
          0.795,
          0.9574,
          0.8157,
          0.8468,
          0.986,
          0.9461,
          0.9243,
          0.5003,
          0.8616,
          0.8964,
          0.8772,
          0.8995,
          0.8463,
          0.8584,
          0.9257,
          0.7934,
          0.3565,
          0.7979,
          0.9223,
          0.7457,
          0.8508,
          0.8439,
          0.8504,
          0.8675,
          0.9283,
          0.9387,
          0.8122,
          0.8462,
          0.8726,
          0.9682,
          0.8629,
          0.7632,
          0.8406,
          0.8539,
          1,
          0.8412,
          0.871,
          0.83,
          0.8451,
          0.8354,
          0.8315,
          0.8632,
          0.8676,
          0.8111,
          0.9168,
          0.999,
          0.9122,
          0.9523,
          0.8898,
          0.8308,
          0.8279,
          0.8473,
          0.8367,
          0.8489,
          0.8565,
          0.8466,
          0.9254,
          0.8843,
          0.8989,
          0.8953,
          0.9321,
          0.9119,
          0.9043,
          0.8682,
          0.8457,
          0.9825,
          0.7971,
          0.9605,
          0.8722,
          0.9871,
          0.7919,
          0.8003,
          0.8904,
          0.8315,
          0.8845,
          0.8356,
          0.9248,
          0.8387,
          0.9731,
          0.8514,
          0.8447,
          0.8651,
          0.8292,
          0.7978,
          0.8505,
          0.8401,
          0.861,
          0.881,
          0.7962,
          0.9166,
          0.8989,
          0.8888,
          0.8662,
          0.8803,
          0.9482,
          0.8382,
          0.7151,
          0.7908,
          0.8094,
          0.8275,
          0.8681,
          0.8313,
          0.8686,
          0.9214,
          0.8281,
          0.8606,
          0.8732,
          0.8353,
          0.8168,
          0.8852,
          0.8895,
          0.8676,
          0.9396,
          0.8887,
          0.8142,
          0.8725,
          0.8607,
          0.8144,
          0.8228,
          0.9733,
          0.7971,
          0.8225,
          0.8489,
          0.8613,
          0.8684,
          0.8273,
          0.8502,
          0.8512,
          0.865,
          0.8164,
          0.8416,
          0.858,
          0.8726,
          0.8207,
          0.8523,
          0.8535,
          0.8476,
          0.7915,
          0.8512,
          0.8768,
          0.8339,
          0.8796,
          0.8199,
          0.9285,
          0.8488,
          0.8431,
          0.8353,
          0.8735,
          0.8643,
          0.8359,
          0.8857,
          0.8724,
          0.8476,
          0.913,
          0.94,
          0.8686,
          0.8756,
          0.8208,
          0.8324,
          0.8497,
          0.8591,
          0.8604,
          0.7521,
          0.847,
          0.8692,
          0.9065,
          0.8822,
          0.8282,
          0.8946,
          0.9151,
          0.8958,
          0.8719,
          0.8652,
          0.8604,
          0.861,
          0.8098,
          0.8598,
          0.8799,
          0.8404,
          0.8847,
          0.8791,
          0.8895,
          0.8958,
          0.855,
          0.8521,
          0.8632,
          0.9205,
          0.8907,
          0.9449,
          0.8768,
          0.907,
          0.8835,
          0.8855,
          0.8797,
          0.9319,
          0.9077,
          0.9138,
          0.8947,
          0.9849,
          0.8797,
          0.9418,
          0.8862,
          0.9178,
          0.9629,
          0.8792,
          0.9213,
          0.9005,
          0.9562,
          0.9574,
          0.9461,
          0.945,
          0.7457,
          0.8439,
          0.8406,
          0.8833,
          0.8304,
          0.8341,
          0.7904,
          0.884,
          0.8258,
          0.842,
          0.7897,
          0.8517,
          0.8403,
          0.8312,
          0.9566,
          0.8568,
          0.8137,
          0.7924,
          0.8038,
          0.8666,
          0.8391,
          0.8477,
          0.8285,
          0.828,
          0.7861,
          0.908,
          0.8718,
          0.8357,
          0.8636,
          0.9485,
          0.9037,
          0.7177,
          0.8209,
          0.8433,
          0.7449,
          0.8968,
          0.8732,
          0.8125,
          0.8059,
          0.8459,
          0.8623,
          0.849,
          0.866,
          0.8791,
          0.8754,
          0.8055,
          0.8544,
          0.8639,
          0.8759,
          0.8097,
          0.8306,
          0.8959,
          0.844,
          0.849,
          0.8575,
          0.8694,
          0.8461,
          0.8382,
          0.8337,
          0.7815,
          0.8924,
          0.8654,
          0.8359,
          0.8182,
          0.7781,
          0.8869,
          0.8402,
          0.8674,
          0.8852,
          0.888,
          0.8211,
          0.8534,
          0.8306,
          0.8104,
          0.8819,
          0.89,
          0.8118,
          0.7846,
          0.8424,
          0.8386,
          0.7807,
          0.8694,
          0.8591,
          0.898,
          0.8035,
          0.8632,
          0.8719,
          0.8315,
          0.924,
          0.8677,
          0.9085,
          0.8934,
          0.8814,
          0.9052,
          0.8662,
          0.9562,
          0.919,
          0.8404,
          0.8759,
          0.8274,
          0.8989,
          0.8586,
          0.9633,
          0.9491,
          0.95,
          0.8952,
          0.907,
          0.8579,
          0.9015,
          0.9029,
          0.934,
          0.9004,
          1,
          0.8995,
          0.9271,
          0.8945,
          0.8724,
          0.8779,
          0.9297,
          0.7796,
          0.8753,
          0.8842,
          0.9314,
          0.8913,
          0.9693,
          1.0234,
          0.8347,
          0.936,
          0.8764,
          0.9207,
          0.5437,
          0.8546,
          0.8618,
          0.8638,
          0.7286,
          0.8682,
          0.6857,
          1.0109,
          0.9061,
          0.9457,
          0.8526,
          0.8849,
          0.8682,
          0.7951,
          0.9227,
          1,
          0.8849,
          0.8706,
          0.7105,
          0.8048,
          0.8111,
          0.861,
          0.886,
          0.8374,
          0.8406,
          0.862,
          0.8022,
          0.8778,
          0.7298,
          0.8997,
          0.8481,
          0.8458,
          0.8766,
          0.859,
          0.7302,
          0.8353,
          0.8935,
          0.7806,
          0.7692,
          0.8905,
          0.9179,
          0.831,
          0.8343,
          0.9196,
          0.8726,
          0.8731,
          0.8451,
          0.9248,
          0.8874,
          0.6851,
          0.8282,
          0.8714,
          0.9972,
          0.8366,
          0.9548,
          0.8024,
          0.8036,
          0.8789,
          0.82,
          0.9094,
          0.8556,
          0.8311,
          0.8391,
          0.8685,
          0.9364,
          0.8634,
          0.9665,
          0.869,
          0.7798,
          0.8724,
          0.8328,
          0.908,
          0.8772,
          0.9751,
          0.9861,
          0.9329,
          0.8446,
          0.0913,
          0.8848,
          1.0135,
          0.7923,
          0.8755,
          0.859,
          0.7894,
          0.8309,
          0.5353,
          1,
          0.8485,
          1,
          0.6748,
          0.7577,
          0.8795,
          0.8712,
          0.7781,
          0.8621,
          0.867,
          0.9798,
          0.8492,
          0.8819,
          0.8413,
          0.8658,
          0.9066,
          0.858,
          0.8682,
          0.9144,
          0.9414,
          0.726,
          0.9167,
          0.853,
          0.8193,
          0.8653,
          0.8537,
          0.8874,
          0.8814,
          0.7942,
          0.8288,
          0.8371,
          0.8404,
          0.8473,
          0.8709,
          0.8433,
          0.7619,
          1,
          0.8368,
          0.8499,
          1.0126,
          0.9651,
          0.7685,
          0.8934,
          0.8096,
          0.8326,
          0.887,
          0.8538,
          0.845,
          0.8734,
          0.8943,
          0.8047,
          0.8692,
          0.8617,
          0.9692,
          0.8584,
          0.8431,
          0.8509,
          0.9429,
          0.9235,
          0.7988,
          0.8496,
          0.8807,
          0.87,
          0.8885,
          0.8376,
          0.8858,
          0.866,
          0.8853,
          0.905,
          0.9,
          0.8821,
          0.9366,
          0.8677,
          0.957,
          0.889,
          0.8894,
          0.8925,
          0.8964,
          0.8359,
          0.8947,
          0.8952,
          0.9377,
          0.8932,
          0.9098,
          0.9294,
          0.9264,
          0.8941,
          0.8443,
          0.8933,
          0.8945,
          0.9319,
          0.9279,
          0.9317,
          0.8874,
          0.8098,
          0.9195,
          0.8542,
          0.8369,
          0.8863,
          0.8778,
          0.8756,
          0.9229,
          0.8707,
          0.8598,
          0.8925,
          0.9008,
          0.8948,
          0.8531,
          0.943,
          0.8914,
          0.9113,
          0.9028,
          0.8523,
          0.8499,
          0.8387,
          0.9118,
          0.8677,
          0.9234,
          0.9684,
          0.9315,
          0.8471,
          0.8866,
          0.8428,
          0.8749,
          0.9016,
          0.8797,
          0.8926,
          0.8862,
          0.8451,
          0.9972,
          0.8791,
          0.8506,
          0.9291,
          0.9064,
          0.8623,
          0.8467,
          0.9068,
          0.892,
          0.9383,
          0.9684,
          0.8791,
          0.8649,
          0.8803,
          0.8703,
          0.982,
          0.852,
          0.9194,
          0.8634,
          0.869,
          0.7798,
          0.7781,
          0.8621,
          0.8795,
          1,
          0.861,
          0.8848,
          0.7951,
          0.9072,
          0.905
         ],
         "xaxis": "x",
         "y": [
          0.795,
          0.9574,
          0.8157,
          0.7845,
          0.986,
          0.9461,
          0.9243,
          0.5003,
          0.8616,
          0.8964,
          0.8772,
          0.8995,
          0.7886,
          0.8543,
          0.9257,
          0.7934,
          0.3305,
          0.7979,
          0.911,
          0.7457,
          0.8508,
          0.8439,
          0.8504,
          0.8675,
          0.9196,
          0.9387,
          0.7503,
          0.8462,
          0.8726,
          0.9644,
          0.8137,
          0.7632,
          0.8406,
          0.8539,
          1,
          0.8412,
          0.871,
          0.8388,
          0.8377,
          0.8354,
          0.7743,
          0.8632,
          0.8676,
          0.8111,
          0.9168,
          0.9983,
          0.9122,
          0.9523,
          0.876,
          0.8308,
          0.8279,
          0.8473,
          0.7747,
          0.8489,
          0.8565,
          0.8466,
          0.9254,
          0.8843,
          0.8989,
          0.8953,
          0.9321,
          0.9119,
          0.9043,
          0.8682,
          0.8457,
          0.9825,
          0.7971,
          0.9605,
          0.8722,
          0.9871,
          0.7919,
          0.8003,
          0.8778,
          0.8315,
          0.8845,
          0.8356,
          0.915,
          0.8387,
          0.9731,
          0.7972,
          0.8447,
          0.8651,
          0.753,
          0.7978,
          0.8505,
          0.8401,
          0.8475,
          0.881,
          0.7962,
          0.9166,
          0.8989,
          0.8758,
          0.8443,
          0.8803,
          0.9482,
          0.8382,
          0.7151,
          0.7908,
          0.8094,
          0.8275,
          0.8681,
          0.8313,
          0.8686,
          0.9214,
          0.8281,
          0.8606,
          0.8732,
          0.7621,
          0.8168,
          0.8656,
          0.8895,
          0.8676,
          0.9396,
          0.8887,
          0.8142,
          0.8725,
          0.8607,
          0.8144,
          0.8228,
          0.9733,
          0.7971,
          0.8225,
          0.8489,
          0.8613,
          0.8684,
          0.8273,
          0.8502,
          0.8512,
          0.865,
          0.8164,
          0.8416,
          0.858,
          0.8726,
          0.8207,
          0.8523,
          0.8535,
          0.8476,
          0.7915,
          0.8512,
          0.8768,
          0.8339,
          0.8796,
          0.8199,
          0.9285,
          0.779,
          0.8431,
          0.8353,
          0.8735,
          0.8643,
          0.8359,
          0.8857,
          0.8724,
          0.8476,
          0.913,
          0.94,
          0.8686,
          0.8756,
          0.8208,
          0.8324,
          0.8497,
          0.7876,
          0.8016,
          0.7521,
          0.847,
          0.8692,
          0.9065,
          0.8822,
          0.8282,
          0.8946,
          0.9151,
          0.8958,
          0.8719,
          0.8652,
          0.8604,
          0.861,
          0.8098,
          0.8598,
          0.8799,
          0.8404,
          0.8847,
          0.8085,
          0.8895,
          0.8958,
          0.855,
          0.8521,
          0.8632,
          0.9205,
          0.8689,
          0.9449,
          0.8768,
          0.907,
          0.8835,
          0.8855,
          0.8797,
          0.9319,
          0.8625,
          0.9138,
          0.8947,
          0.9849,
          0.8797,
          0.9418,
          0.8862,
          0.8462,
          0.9629,
          0.8792,
          0.9213,
          0.9005,
          0.9562,
          0.9574,
          0.9461,
          0.945,
          0.7457,
          0.8439,
          0.8173,
          0.8833,
          0.8304,
          0.8341,
          0.7904,
          0.8179,
          0.8258,
          0.842,
          0.7897,
          0.8517,
          0.8403,
          0.8312,
          0.9566,
          0.8568,
          0.8137,
          0.7924,
          0.8038,
          0.8666,
          0.8391,
          0.8477,
          0.8285,
          0.828,
          0.7861,
          0.908,
          0.8718,
          0.8357,
          0.8636,
          0.9485,
          0.9037,
          0.7177,
          0.8209,
          0.8433,
          0.7449,
          0.8291,
          0.8732,
          0.8125,
          0.8059,
          0.8459,
          0.8623,
          0.849,
          0.866,
          0.8791,
          0.8754,
          0.8055,
          0.8544,
          0.8639,
          0.8759,
          0.8097,
          0.8306,
          0.8959,
          0.844,
          0.849,
          0.8575,
          0.8694,
          0.8461,
          0.8382,
          0.8337,
          0.7815,
          0.8924,
          0.8654,
          0.8359,
          0.8182,
          0.7781,
          0.8869,
          0.8402,
          0.8674,
          0.8852,
          0.888,
          0.8211,
          0.8534,
          0.8306,
          0.8104,
          0.8819,
          0.89,
          0.8118,
          0.7846,
          0.8424,
          0.8386,
          0.7807,
          0.8694,
          0.8591,
          0.8857,
          0.8035,
          0.8632,
          0.8719,
          0.8315,
          0.924,
          0.8677,
          0.9085,
          0.8934,
          0.8814,
          0.9052,
          0.8444,
          0.9493,
          0.919,
          0.8404,
          0.8759,
          0.8274,
          0.8989,
          0.8586,
          0.9633,
          0.9491,
          0.9356,
          0.8952,
          0.907,
          0.8579,
          0.9015,
          0.8413,
          0.934,
          0.9004,
          1,
          0.8995,
          0.9271,
          0.8945,
          0.8724,
          0.8779,
          0.9297,
          0.7796,
          0.8753,
          0.8842,
          0.9314,
          0.8913,
          0.9693,
          1.1131,
          0.7712,
          0.8704,
          0.8764,
          0.9207,
          0.4946,
          0.8546,
          0.8618,
          0.8638,
          0.7286,
          0.8682,
          0.6773,
          0.9616,
          0.9061,
          0.9457,
          0.7939,
          0.8849,
          0.8682,
          0.7951,
          0.9227,
          1,
          0.8849,
          0.8706,
          0.7105,
          0.8048,
          0.8111,
          0.861,
          0.886,
          0.8115,
          0.8406,
          0.862,
          0.764,
          0.8778,
          0.6867,
          0.8997,
          0.8481,
          0.8015,
          0.8766,
          0.8239,
          0.7042,
          0.8353,
          0.8935,
          0.7806,
          0.7692,
          0.8905,
          0.9079,
          0.831,
          0.8343,
          0.9196,
          0.8325,
          0.8731,
          0.7847,
          0.9248,
          0.8874,
          0.6851,
          0.8282,
          0.8149,
          0.9661,
          0.7822,
          0.9548,
          0.8024,
          0.7563,
          0.8789,
          0.82,
          0.9094,
          0.8556,
          0.8311,
          0.8391,
          0.8382,
          0.9285,
          0.8634,
          0.9665,
          0.869,
          0.7798,
          0.8724,
          0.8328,
          0.8977,
          0.864,
          0.9751,
          0.9861,
          0.9235,
          0.8446,
          0.0898,
          0.8717,
          0.9674,
          0.7811,
          0.8755,
          0.859,
          0.7655,
          0.8309,
          0.5353,
          1,
          0.8485,
          1,
          0.6085,
          0.7577,
          0.8687,
          0.8431,
          0.7781,
          0.8621,
          0.867,
          0.9769,
          0.8492,
          0.8819,
          0.7829,
          0.8658,
          0.9066,
          0.858,
          0.8682,
          0.9144,
          0.9342,
          0.726,
          0.9167,
          0.853,
          0.767,
          0.8653,
          0.8537,
          0.8874,
          0.8814,
          0.7942,
          0.8288,
          0.8371,
          0.7564,
          0.8473,
          0.8709,
          0.8433,
          0.7619,
          1,
          0.8368,
          0.8499,
          1.0126,
          0.9602,
          0.7129,
          0.8934,
          0.8096,
          0.8326,
          0.887,
          0.8538,
          0.845,
          0.8734,
          0.8943,
          0.8047,
          0.8692,
          0.8617,
          0.9692,
          0.8584,
          0.8431,
          0.8509,
          0.9429,
          0.9235,
          0.7988,
          0.8496,
          0.8807,
          0.87,
          0.8885,
          0.8376,
          0.8858,
          0.866,
          0.8853,
          0.905,
          0.9,
          0.8821,
          0.9366,
          0.8677,
          0.957,
          0.889,
          0.8894,
          0.8925,
          0.8964,
          0.8359,
          0.8947,
          0.8952,
          0.9377,
          0.8932,
          0.9098,
          0.9294,
          0.9264,
          0.8941,
          0.7761,
          0.8933,
          0.8945,
          0.9319,
          0.9279,
          0.9317,
          0.8874,
          0.8098,
          0.9195,
          0.8542,
          0.8369,
          0.8863,
          0.8778,
          0.8756,
          0.9229,
          0.8707,
          0.8598,
          0.8925,
          0.8554,
          0.8948,
          0.8531,
          0.943,
          0.8914,
          0.9113,
          0.8904,
          0.8523,
          0.8499,
          0.8387,
          0.9118,
          0.8677,
          0.9234,
          0.9684,
          0.9315,
          0.8471,
          0.8866,
          0.8428,
          0.8749,
          0.9016,
          0.8797,
          0.8926,
          0.8862,
          0.8451,
          0.9972,
          0.8791,
          0.8506,
          0.9291,
          0.8964,
          0.8623,
          0.8467,
          0.9068,
          0.892,
          0.9383,
          0.9684,
          0.8791,
          0.8649,
          0.8803,
          0.79,
          0.982,
          0.852,
          0.8905,
          0.8634,
          0.869,
          0.7798,
          0.7781,
          0.8621,
          0.8687,
          1,
          0.861,
          0.8717,
          0.7951,
          0.8991,
          0.905
         ],
         "yaxis": "y"
        },
        {
         "hovertemplate": "x=%{x}<br>y=%{y}<extra></extra>",
         "legendgroup": "",
         "line": {
          "color": "lightgreen",
          "dash": "solid",
          "width": 3
         },
         "marker": {
          "symbol": "circle"
         },
         "mode": "lines",
         "name": "",
         "orientation": "v",
         "showlegend": false,
         "type": "scatter",
         "x": [
          0.3,
          1
         ],
         "xaxis": "x",
         "y": [
          0.3,
          1
         ],
         "yaxis": "y"
        }
       ],
       "layout": {
        "autosize": false,
        "height": 500,
        "legend": {
         "title": {
          "text": "Diff_Perc < 10"
         },
         "tracegroupgap": 0
        },
        "margin": {
         "t": 60
        },
        "template": {
         "data": {
          "bar": [
           {
            "error_x": {
             "color": "#2a3f5f"
            },
            "error_y": {
             "color": "#2a3f5f"
            },
            "marker": {
             "line": {
              "color": "#E5ECF6",
              "width": 0.5
             },
             "pattern": {
              "fillmode": "overlay",
              "size": 10,
              "solidity": 0.2
             }
            },
            "type": "bar"
           }
          ],
          "barpolar": [
           {
            "marker": {
             "line": {
              "color": "#E5ECF6",
              "width": 0.5
             },
             "pattern": {
              "fillmode": "overlay",
              "size": 10,
              "solidity": 0.2
             }
            },
            "type": "barpolar"
           }
          ],
          "carpet": [
           {
            "aaxis": {
             "endlinecolor": "#2a3f5f",
             "gridcolor": "white",
             "linecolor": "white",
             "minorgridcolor": "white",
             "startlinecolor": "#2a3f5f"
            },
            "baxis": {
             "endlinecolor": "#2a3f5f",
             "gridcolor": "white",
             "linecolor": "white",
             "minorgridcolor": "white",
             "startlinecolor": "#2a3f5f"
            },
            "type": "carpet"
           }
          ],
          "choropleth": [
           {
            "colorbar": {
             "outlinewidth": 0,
             "ticks": ""
            },
            "type": "choropleth"
           }
          ],
          "contour": [
           {
            "colorbar": {
             "outlinewidth": 0,
             "ticks": ""
            },
            "colorscale": [
             [
              0,
              "#0d0887"
             ],
             [
              0.1111111111111111,
              "#46039f"
             ],
             [
              0.2222222222222222,
              "#7201a8"
             ],
             [
              0.3333333333333333,
              "#9c179e"
             ],
             [
              0.4444444444444444,
              "#bd3786"
             ],
             [
              0.5555555555555556,
              "#d8576b"
             ],
             [
              0.6666666666666666,
              "#ed7953"
             ],
             [
              0.7777777777777778,
              "#fb9f3a"
             ],
             [
              0.8888888888888888,
              "#fdca26"
             ],
             [
              1,
              "#f0f921"
             ]
            ],
            "type": "contour"
           }
          ],
          "contourcarpet": [
           {
            "colorbar": {
             "outlinewidth": 0,
             "ticks": ""
            },
            "type": "contourcarpet"
           }
          ],
          "heatmap": [
           {
            "colorbar": {
             "outlinewidth": 0,
             "ticks": ""
            },
            "colorscale": [
             [
              0,
              "#0d0887"
             ],
             [
              0.1111111111111111,
              "#46039f"
             ],
             [
              0.2222222222222222,
              "#7201a8"
             ],
             [
              0.3333333333333333,
              "#9c179e"
             ],
             [
              0.4444444444444444,
              "#bd3786"
             ],
             [
              0.5555555555555556,
              "#d8576b"
             ],
             [
              0.6666666666666666,
              "#ed7953"
             ],
             [
              0.7777777777777778,
              "#fb9f3a"
             ],
             [
              0.8888888888888888,
              "#fdca26"
             ],
             [
              1,
              "#f0f921"
             ]
            ],
            "type": "heatmap"
           }
          ],
          "heatmapgl": [
           {
            "colorbar": {
             "outlinewidth": 0,
             "ticks": ""
            },
            "colorscale": [
             [
              0,
              "#0d0887"
             ],
             [
              0.1111111111111111,
              "#46039f"
             ],
             [
              0.2222222222222222,
              "#7201a8"
             ],
             [
              0.3333333333333333,
              "#9c179e"
             ],
             [
              0.4444444444444444,
              "#bd3786"
             ],
             [
              0.5555555555555556,
              "#d8576b"
             ],
             [
              0.6666666666666666,
              "#ed7953"
             ],
             [
              0.7777777777777778,
              "#fb9f3a"
             ],
             [
              0.8888888888888888,
              "#fdca26"
             ],
             [
              1,
              "#f0f921"
             ]
            ],
            "type": "heatmapgl"
           }
          ],
          "histogram": [
           {
            "marker": {
             "pattern": {
              "fillmode": "overlay",
              "size": 10,
              "solidity": 0.2
             }
            },
            "type": "histogram"
           }
          ],
          "histogram2d": [
           {
            "colorbar": {
             "outlinewidth": 0,
             "ticks": ""
            },
            "colorscale": [
             [
              0,
              "#0d0887"
             ],
             [
              0.1111111111111111,
              "#46039f"
             ],
             [
              0.2222222222222222,
              "#7201a8"
             ],
             [
              0.3333333333333333,
              "#9c179e"
             ],
             [
              0.4444444444444444,
              "#bd3786"
             ],
             [
              0.5555555555555556,
              "#d8576b"
             ],
             [
              0.6666666666666666,
              "#ed7953"
             ],
             [
              0.7777777777777778,
              "#fb9f3a"
             ],
             [
              0.8888888888888888,
              "#fdca26"
             ],
             [
              1,
              "#f0f921"
             ]
            ],
            "type": "histogram2d"
           }
          ],
          "histogram2dcontour": [
           {
            "colorbar": {
             "outlinewidth": 0,
             "ticks": ""
            },
            "colorscale": [
             [
              0,
              "#0d0887"
             ],
             [
              0.1111111111111111,
              "#46039f"
             ],
             [
              0.2222222222222222,
              "#7201a8"
             ],
             [
              0.3333333333333333,
              "#9c179e"
             ],
             [
              0.4444444444444444,
              "#bd3786"
             ],
             [
              0.5555555555555556,
              "#d8576b"
             ],
             [
              0.6666666666666666,
              "#ed7953"
             ],
             [
              0.7777777777777778,
              "#fb9f3a"
             ],
             [
              0.8888888888888888,
              "#fdca26"
             ],
             [
              1,
              "#f0f921"
             ]
            ],
            "type": "histogram2dcontour"
           }
          ],
          "mesh3d": [
           {
            "colorbar": {
             "outlinewidth": 0,
             "ticks": ""
            },
            "type": "mesh3d"
           }
          ],
          "parcoords": [
           {
            "line": {
             "colorbar": {
              "outlinewidth": 0,
              "ticks": ""
             }
            },
            "type": "parcoords"
           }
          ],
          "pie": [
           {
            "automargin": true,
            "type": "pie"
           }
          ],
          "scatter": [
           {
            "marker": {
             "colorbar": {
              "outlinewidth": 0,
              "ticks": ""
             }
            },
            "type": "scatter"
           }
          ],
          "scatter3d": [
           {
            "line": {
             "colorbar": {
              "outlinewidth": 0,
              "ticks": ""
             }
            },
            "marker": {
             "colorbar": {
              "outlinewidth": 0,
              "ticks": ""
             }
            },
            "type": "scatter3d"
           }
          ],
          "scattercarpet": [
           {
            "marker": {
             "colorbar": {
              "outlinewidth": 0,
              "ticks": ""
             }
            },
            "type": "scattercarpet"
           }
          ],
          "scattergeo": [
           {
            "marker": {
             "colorbar": {
              "outlinewidth": 0,
              "ticks": ""
             }
            },
            "type": "scattergeo"
           }
          ],
          "scattergl": [
           {
            "marker": {
             "colorbar": {
              "outlinewidth": 0,
              "ticks": ""
             }
            },
            "type": "scattergl"
           }
          ],
          "scattermapbox": [
           {
            "marker": {
             "colorbar": {
              "outlinewidth": 0,
              "ticks": ""
             }
            },
            "type": "scattermapbox"
           }
          ],
          "scatterpolar": [
           {
            "marker": {
             "colorbar": {
              "outlinewidth": 0,
              "ticks": ""
             }
            },
            "type": "scatterpolar"
           }
          ],
          "scatterpolargl": [
           {
            "marker": {
             "colorbar": {
              "outlinewidth": 0,
              "ticks": ""
             }
            },
            "type": "scatterpolargl"
           }
          ],
          "scatterternary": [
           {
            "marker": {
             "colorbar": {
              "outlinewidth": 0,
              "ticks": ""
             }
            },
            "type": "scatterternary"
           }
          ],
          "surface": [
           {
            "colorbar": {
             "outlinewidth": 0,
             "ticks": ""
            },
            "colorscale": [
             [
              0,
              "#0d0887"
             ],
             [
              0.1111111111111111,
              "#46039f"
             ],
             [
              0.2222222222222222,
              "#7201a8"
             ],
             [
              0.3333333333333333,
              "#9c179e"
             ],
             [
              0.4444444444444444,
              "#bd3786"
             ],
             [
              0.5555555555555556,
              "#d8576b"
             ],
             [
              0.6666666666666666,
              "#ed7953"
             ],
             [
              0.7777777777777778,
              "#fb9f3a"
             ],
             [
              0.8888888888888888,
              "#fdca26"
             ],
             [
              1,
              "#f0f921"
             ]
            ],
            "type": "surface"
           }
          ],
          "table": [
           {
            "cells": {
             "fill": {
              "color": "#EBF0F8"
             },
             "line": {
              "color": "white"
             }
            },
            "header": {
             "fill": {
              "color": "#C8D4E3"
             },
             "line": {
              "color": "white"
             }
            },
            "type": "table"
           }
          ]
         },
         "layout": {
          "annotationdefaults": {
           "arrowcolor": "#2a3f5f",
           "arrowhead": 0,
           "arrowwidth": 1
          },
          "autotypenumbers": "strict",
          "coloraxis": {
           "colorbar": {
            "outlinewidth": 0,
            "ticks": ""
           }
          },
          "colorscale": {
           "diverging": [
            [
             0,
             "#8e0152"
            ],
            [
             0.1,
             "#c51b7d"
            ],
            [
             0.2,
             "#de77ae"
            ],
            [
             0.3,
             "#f1b6da"
            ],
            [
             0.4,
             "#fde0ef"
            ],
            [
             0.5,
             "#f7f7f7"
            ],
            [
             0.6,
             "#e6f5d0"
            ],
            [
             0.7,
             "#b8e186"
            ],
            [
             0.8,
             "#7fbc41"
            ],
            [
             0.9,
             "#4d9221"
            ],
            [
             1,
             "#276419"
            ]
           ],
           "sequential": [
            [
             0,
             "#0d0887"
            ],
            [
             0.1111111111111111,
             "#46039f"
            ],
            [
             0.2222222222222222,
             "#7201a8"
            ],
            [
             0.3333333333333333,
             "#9c179e"
            ],
            [
             0.4444444444444444,
             "#bd3786"
            ],
            [
             0.5555555555555556,
             "#d8576b"
            ],
            [
             0.6666666666666666,
             "#ed7953"
            ],
            [
             0.7777777777777778,
             "#fb9f3a"
            ],
            [
             0.8888888888888888,
             "#fdca26"
            ],
            [
             1,
             "#f0f921"
            ]
           ],
           "sequentialminus": [
            [
             0,
             "#0d0887"
            ],
            [
             0.1111111111111111,
             "#46039f"
            ],
            [
             0.2222222222222222,
             "#7201a8"
            ],
            [
             0.3333333333333333,
             "#9c179e"
            ],
            [
             0.4444444444444444,
             "#bd3786"
            ],
            [
             0.5555555555555556,
             "#d8576b"
            ],
            [
             0.6666666666666666,
             "#ed7953"
            ],
            [
             0.7777777777777778,
             "#fb9f3a"
            ],
            [
             0.8888888888888888,
             "#fdca26"
            ],
            [
             1,
             "#f0f921"
            ]
           ]
          },
          "colorway": [
           "#636efa",
           "#EF553B",
           "#00cc96",
           "#ab63fa",
           "#FFA15A",
           "#19d3f3",
           "#FF6692",
           "#B6E880",
           "#FF97FF",
           "#FECB52"
          ],
          "font": {
           "color": "#2a3f5f"
          },
          "geo": {
           "bgcolor": "white",
           "lakecolor": "white",
           "landcolor": "#E5ECF6",
           "showlakes": true,
           "showland": true,
           "subunitcolor": "white"
          },
          "hoverlabel": {
           "align": "left"
          },
          "hovermode": "closest",
          "mapbox": {
           "style": "light"
          },
          "paper_bgcolor": "white",
          "plot_bgcolor": "#E5ECF6",
          "polar": {
           "angularaxis": {
            "gridcolor": "white",
            "linecolor": "white",
            "ticks": ""
           },
           "bgcolor": "#E5ECF6",
           "radialaxis": {
            "gridcolor": "white",
            "linecolor": "white",
            "ticks": ""
           }
          },
          "scene": {
           "xaxis": {
            "backgroundcolor": "#E5ECF6",
            "gridcolor": "white",
            "gridwidth": 2,
            "linecolor": "white",
            "showbackground": true,
            "ticks": "",
            "zerolinecolor": "white"
           },
           "yaxis": {
            "backgroundcolor": "#E5ECF6",
            "gridcolor": "white",
            "gridwidth": 2,
            "linecolor": "white",
            "showbackground": true,
            "ticks": "",
            "zerolinecolor": "white"
           },
           "zaxis": {
            "backgroundcolor": "#E5ECF6",
            "gridcolor": "white",
            "gridwidth": 2,
            "linecolor": "white",
            "showbackground": true,
            "ticks": "",
            "zerolinecolor": "white"
           }
          },
          "shapedefaults": {
           "line": {
            "color": "#2a3f5f"
           }
          },
          "ternary": {
           "aaxis": {
            "gridcolor": "white",
            "linecolor": "white",
            "ticks": ""
           },
           "baxis": {
            "gridcolor": "white",
            "linecolor": "white",
            "ticks": ""
           },
           "bgcolor": "#E5ECF6",
           "caxis": {
            "gridcolor": "white",
            "linecolor": "white",
            "ticks": ""
           }
          },
          "title": {
           "x": 0.05
          },
          "xaxis": {
           "automargin": true,
           "gridcolor": "white",
           "linecolor": "white",
           "ticks": "",
           "title": {
            "standoff": 15
           },
           "zerolinecolor": "white",
           "zerolinewidth": 2
          },
          "yaxis": {
           "automargin": true,
           "gridcolor": "white",
           "linecolor": "white",
           "ticks": "",
           "title": {
            "standoff": 15
           },
           "zerolinecolor": "white",
           "zerolinewidth": 2
          }
         }
        },
        "title": {
         "text": "Efficiency Scores Comparison (Blue: 586, Red: 362)"
        },
        "width": 800,
        "xaxis": {
         "anchor": "y",
         "autorange": true,
         "domain": [
          0,
          1
         ],
         "range": [
          -0.24511523153463455,
          5.723215231534635
         ],
         "title": {
          "text": "Efficiency_Scores_Basic"
         },
         "type": "linear"
        },
        "yaxis": {
         "anchor": "x",
         "autorange": true,
         "domain": [
          0,
          1
         ],
         "range": [
          -0.20123767772511852,
          4.615937677725119
         ],
         "title": {
          "text": "Efficiency_Scores_with_ML"
         },
         "type": "linear"
        }
       }
      },
      "image/png": "[encoded data removed]",
      "text/html": [
       "<div>                            <div id=\"41e02094-53f1-4f35-bd5d-d7dcef93ef0b\" class=\"plotly-graph-div\" style=\"height:500px; width:800px;\"></div>            <script type=\"text/javascript\">                require([\"plotly\"], function(Plotly) {                    window.PLOTLYENV=window.PLOTLYENV || {};                                    if (document.getElementById(\"41e02094-53f1-4f35-bd5d-d7dcef93ef0b\")) {                    Plotly.newPlot(                        \"41e02094-53f1-4f35-bd5d-d7dcef93ef0b\",                        [{\"customdata\":[[22.5908,1.0],[23.69,2.0],[25.2224,4.0],[19.4784,6.0],[30.5748,12.0],[29.9717,14.0],[27.2378,16.0],[24.484,18.0],[12.6377,19.0],[14.9144,24.0],[17.611,25.0],[15.8526,31.0],[44.331,33.0],[51.0925,35.0],[31.8451,37.0],[25.0042,38.0],[43.7387,39.0],[27.2505,40.0],[-235.0547,42.0],[22.2377,45.0],[17.8168,47.0],[10.282,48.0],[47.2273,53.0],[25.849,54.0],[22.0439,57.0],[23.4234,58.0],[27.3366,61.0],[18.6532,66.0],[15.0805,67.0],[22.0498,71.0],[18.6165,77.0],[13.0188,78.0],[12.3811,79.0],[26.1339,84.0],[23.7861,85.0],[16.1936,90.0],[51.4968,91.0],[24.6025,92.0],[32.4421,94.0],[39.6278,96.0],[29.7937,97.0],[22.8095,101.0],[32.569,104.0],[22.8854,111.0],[10.5006,112.0],[30.1141,117.0],[19.5762,121.0],[30.1321,123.0],[12.4937,125.0],[27.5812,127.0],[27.0637,128.0],[25.1357,129.0],[25.5721,133.0],[18.2724,134.0],[25.5623,135.0],[12.1017,138.0],[-52.3995,140.0],[25.1307,141.0],[28.2943,142.0],[47.2716,145.0],[27.0604,147.0],[28.4349,149.0],[18.881,150.0],[25.1302,151.0],[31.7939,154.0],[26.142,160.0],[32.4699,161.0],[31.3452,167.0],[24.0255,168.0],[23.5045,170.0],[33.5904,171.0],[32.1692,172.0],[11.4335,174.0],[19.0813,176.0],[13.9794,177.0],[24.9593,178.0],[11.3389,179.0],[30.9115,184.0],[29.6835,185.0],[46.0065,186.0],[23.8454,188.0],[25.344,191.0],[25.6935,192.0],[17.115,195.0],[32.1312,197.0],[32.4845,199.0],[18.8088,202.0],[40.1959,206.0],[21.4593,209.0],[25.0994,210.0],[11.059,211.0],[24.7096,214.0],[50.5923,216.0],[22.0828,217.0],[28.8728,221.0],[35.1475,224.0],[37.3538,225.0],[44.6544,227.0],[20.7782,228.0],[30.8142,231.0],[11.57,232.0],[12.6088,233.0],[13.2556,236.0],[21.2232,242.0],[50.6156,244.0],[46.3094,245.0],[15.3682,247.0],[37.8634,249.0],[49.7935,250.0],[30.4154,251.0],[32.8259,254.0],[21.6967,257.0],[29.1132,258.0],[52.9792,259.0],[15.3027,260.0],[34.1332,266.0],[26.4792,269.0],[19.1767,274.0],[26.3137,277.0],[22.8277,280.0],[24.9756,282.0],[21.8009,286.0],[24.0171,287.0],[18.5093,295.0],[18.1746,302.0],[21.2255,307.0],[12.3971,309.0],[19.4784,337.0],[35.0444,338.0],[17.611,341.0],[27.2356,345.0],[31.2603,347.0],[25.1064,349.0],[30.0221,353.0],[21.732,355.0],[24.2754,356.0],[37.7975,357.0],[21.9531,359.0],[28.3125,360.0],[22.2925,363.0],[19.8608,366.0],[30.842,368.0],[26.0713,371.0],[24.2068,372.0],[32.88,374.0],[43.3145,375.0],[26.1738,379.0],[12.8658,380.0],[45.3186,381.0],[25.9334,382.0],[17.3412,383.0],[17.8888,386.0],[27.8112,388.0],[27.6517,390.0],[28.9791,392.0],[19.5972,393.0],[23.018,394.0],[20.6484,395.0],[25.8775,396.0],[27.4338,397.0],[26.645,398.0],[31.5336,400.0],[27.682,401.0],[25.2183,402.0],[25.8501,407.0],[30.1489,408.0],[28.1243,411.0],[27.5538,418.0],[17.4873,419.0],[30.9891,421.0],[22.7616,424.0],[24.3354,426.0],[29.3873,428.0],[25.9793,429.0],[18.0714,431.0],[29.3008,432.0],[34.9897,433.0],[30.3844,434.0],[33.4142,435.0],[21.0516,436.0],[17.9934,440.0],[24.2871,441.0],[37.0882,442.0],[29.4344,443.0],[24.7839,444.0],[21.8177,451.0],[21.9043,454.0],[24.4048,455.0],[18.7141,458.0],[38.4059,459.0],[30.7051,461.0],[17.5487,462.0],[21.5447,464.0],[23.7567,465.0],[23.0669,466.0],[23.8358,469.0],[25.982,470.0],[27.6895,474.0],[19.0616,475.0],[22.2371,476.0],[24.979,477.0],[22.7511,478.0],[22.9945,481.0],[17.1393,482.0],[20.6217,484.0],[17.4158,485.0],[33.433,487.0],[27.8345,491.0],[20.5971,492.0],[20.0187,495.0],[22.8862,496.0],[27.1628,498.0],[36.0355,500.0],[20.9737,501.0],[23.7131,504.0],[23.5954,505.0],[21.5608,507.0],[21.8935,508.0],[15.5826,509.0],[21.5709,510.0],[20.2568,512.0],[19.2582,513.0],[19.9825,515.0],[21.4434,516.0],[22.891,518.0],[24.2144,521.0],[21.5061,525.0],[13.557,530.0],[13.889,531.0],[17.5857,543.0],[18.3227,546.0],[21.5425,554.0],[15.1705,561.0],[18.5735,564.0],[19.1098,565.0],[28.5495,566.0],[29.5115,567.0],[19.4301,568.0],[26.2543,569.0],[24.925,572.0],[32.3277,573.0],[27.2894,574.0],[-329.8343,578.0],[28.1833,586.0],[14.5765,587.0],[61.0725,593.0],[66.6633,594.0],[11.4478,595.0],[-31.7137,596.0],[18.5405,598.0],[28.7631,600.0],[12.2675,603.0],[28.868,604.0],[13.9117,605.0],[51.4697,606.0],[33.8218,608.0],[44.705,609.0],[25.3721,610.0],[25.553,615.0],[11.3285,618.0],[27.2309,620.0],[23.2503,623.0],[30.3717,624.0],[23.7093,627.0],[17.5591,630.0],[28.3988,631.0],[17.8685,632.0],[34.035,633.0],[18.9514,635.0],[20.1015,636.0],[25.0559,637.0],[15.4913,640.0],[20.485,649.0],[14.1418,652.0],[31.2578,660.0],[19.835,665.0],[23.3102,672.0],[29.3957,679.0],[28.6025,683.0],[27.3715,686.0],[25.6605,687.0],[32.9132,689.0],[13.9061,694.0],[75.02,698.0],[27.2203,708.0],[23.1533,710.0],[34.9228,711.0],[21.8818,712.0],[29.8041,715.0],[28.2438,716.0],[31.5697,718.0],[10.07,719.0],[26.5833,730.0],[16.4697,733.0],[14.2096,734.0],[13.9464,740.0],[19.537,741.0],[11.5652,742.0],[22.1454,748.0],[22.9889,750.0],[30.7619,751.0],[24.1185,752.0],[28.7907,755.0],[41.2516,756.0],[12.3586,761.0],[-39.3476,763.0],[22.5948,764.0],[21.819,765.0],[25.6719,767.0],[28.0256,771.0],[82.2956,774.0],[15.9579,775.0],[32.0244,776.0],[27.7048,779.0],[-39.9358,780.0],[35.887,781.0],[-17.5154,782.0],[-23.5445,783.0],[-18.8631,784.0],[30.4847,786.0],[-22.8375,788.0],[-12.7532,790.0],[20.9939,792.0],[30.5839,797.0],[16.1777,798.0],[13.4984,799.0],[27.8918,801.0],[28.1217,802.0],[25.8988,803.0],[22.6857,804.0],[15.5848,807.0],[27.2852,808.0],[19.2524,814.0],[13.546,816.0],[27.4586,821.0],[41.7492,827.0],[23.9955,832.0],[22.7859,833.0],[14.2425,837.0],[18.4609,838.0],[42.9056,845.0],[27.9419,846.0],[24.5255,847.0],[32.5515,854.0],[16.0522,856.0],[21.4899,857.0],[19.1556,864.0],[14.9587,867.0],[12.9022,868.0],[18.8735,871.0],[23.1083,891.0],[25.9432,900.0],[23.118,901.0],[25.9808,909.0],[13.6339,910.0],[21.074,919.0],[28.0464,931.0],[25.6605,932.0],[27.3715,933.0],[17.8685,944.0],[28.868,945.0],[37.1083,948.0]],\"hovertemplate\":\"Diff_Perc < 10=False<br>Efficiency_Scores_Basic=%{x}<br>Efficiency_Scores_with_ML=%{y}<br>Diff_Perc=%{customdata[0]}<br>index=%{customdata[1]}<extra></extra>\",\"legendgroup\":\"False\",\"line\":{\"color\":\"lightgreen\",\"width\":3},\"marker\":{\"color\":\"red\",\"symbol\":\"circle\"},\"mode\":\"markers\",\"name\":\"False\",\"orientation\":\"v\",\"showlegend\":true,\"type\":\"scatter\",\"x\":[0.6611,0.7526,0.7234,0.8165,0.8142,0.8184,0.7379,0.7517,1.0248,0.8145,0.7798,0.8139,0.6837,0.6718,0.6794,0.8249,0.5819,0.7622,0.9992,0.7136,0.8624,0.8339,0.7631,0.7851,0.7161,0.8039,0.7625,0.7994,0.7642,0.8217,0.7389,0.5684,0.7865,0.815,0.602,0.6574,0.7152,0.8078,0.7066,0.6541,0.6109,0.7445,0.6627,0.8244,0.7459,0.7806,0.7947,0.7724,0.804,0.7795,0.5213,0.7873,0.7989,0.8354,0.7967,0.8269,0.9847,0.7857,0.7729,0.5639,0.7966,0.7156,0.8682,0.7894,0.7336,0.8094,0.7421,0.6883,0.7249,0.7983,0.7156,0.749,1.0475,0.827,0.9137,0.7896,0.8927,0.7396,0.7673,0.8097,0.6809,0.8177,0.8058,0.8174,0.6889,0.7354,0.7294,0.761,0.8405,0.7926,0.8619,0.7123,0.6552,0.8257,0.7474,0.7466,0.749,0.5995,0.8127,0.7064,0.8968,0.8207,0.9134,0.8056,0.6041,0.504,0.7858,0.6958,0.6401,0.7598,0.7936,0.8116,0.776,0.6595,0.8083,0.7408,0.7439,0.875,0.7962,0.8614,0.7565,0.7192,0.775,0.864,0.8562,0.8019,0.8932,0.8165,0.7559,0.7798,0.7824,0.7676,0.734,0.8074,0.8557,0.7652,0.7233,0.772,0.7798,0.7922,0.8509,0.7622,0.7932,0.7512,0.7446,0.6667,0.7832,0.8367,0.5407,0.7883,0.8604,0.8709,0.7339,0.7895,0.7746,0.7643,0.8105,0.8311,0.7809,0.7526,0.806,0.7598,0.791,0.7525,0.8033,0.7704,0.701,0.7621,0.8252,0.7246,0.8204,0.7881,0.7283,0.7969,0.8276,0.589,0.812,0.7239,0.6707,0.8423,0.8826,0.7605,0.7629,0.7597,0.7837,0.7915,0.8389,0.8389,0.7549,0.4752,0.6582,0.8559,0.8336,0.811,0.8141,0.8146,0.8086,0.7661,0.8573,0.8413,0.7804,0.8233,0.8051,0.8696,0.8202,0.8594,0.7905,0.7433,0.8374,0.8494,0.8105,0.7335,0.6468,0.8361,0.8323,0.8402,0.855,0.8298,0.9051,0.7393,0.8528,0.8669,0.8425,0.8084,0.8266,0.8289,0.8609,0.9033,0.7876,0.8873,0.7912,0.8061,0.899,0.9179,0.8468,0.9514,0.7955,0.7826,0.7538,0.9664,1.0,0.9276,1.0062,0.7937,0.9308,0.6844,0.608,0.8379,1.0225,0.7539,0.7316,0.8444,0.7531,0.8222,0.5484,0.617,0.6585,0.7052,0.7561,0.7985,0.7546,0.7557,0.7615,0.6609,0.8016,0.8201,0.9871,0.567,0.8073,0.853,0.8294,0.8975,0.7824,0.8194,0.7123,0.8219,0.7729,0.7358,0.6638,0.8108,0.7331,0.2818,0.8776,1.0,0.7529,0.7073,0.5995,0.2118,0.8148,0.7942,0.5704,0.6109,0.7745,0.7769,0.816,0.7553,0.9011,1.1112,0.8451,0.8074,0.7305,0.8009,0.7542,0.5455,0.772,0.9557,0.765,0.8058,0.7974,0.7639,5.3868,0.8616,0.8785,0.6955,0.9567,0.6578,1.0145,1.0353,1.0248,0.7581,0.8842,1.0269,0.7083,0.7704,0.9704,0.8192,0.7604,0.7769,0.788,0.8208,0.8257,0.7133,0.831,0.832,0.7924,0.8227,0.7948,0.7976,0.9005,0.8793,0.8355,0.7843,0.8189,0.7348,0.8803,0.8505,0.8282,0.8731,0.9183,0.8551,0.8293,0.7822,0.721,0.7828,0.8535,0.8509,0.78,0.7331,0.8108,0.9871,0.7531,0.6548],\"xaxis\":\"x\",\"y\":[0.5117,0.5743,0.5409,0.6575,0.5653,0.5731,0.5369,0.5677,0.8953,0.693,0.6425,0.6849,0.3806,0.3286,0.463,0.6186,0.3274,0.5545,3.3478,0.5549,0.7087,0.7482,0.4027,0.5822,0.5582,0.6156,0.554,0.6503,0.6489,0.6405,0.6014,0.4944,0.6892,0.602,0.4588,0.5509,0.3469,0.609,0.4774,0.3949,0.4289,0.5747,0.4469,0.6357,0.6676,0.5455,0.6391,0.5397,0.7036,0.5645,0.3802,0.5894,0.5946,0.6828,0.593,0.7268,1.5007,0.5882,0.5542,0.2973,0.581,0.5121,0.7043,0.591,0.5004,0.5978,0.5012,0.4725,0.5507,0.6107,0.4752,0.5081,0.9277,0.6692,0.786,0.5925,0.7915,0.511,0.5395,0.4372,0.5185,0.6105,0.5988,0.6775,0.4676,0.4965,0.5922,0.4551,0.6602,0.5937,0.7665,0.5363,0.3237,0.6433,0.5316,0.4842,0.4692,0.3318,0.6438,0.4888,0.793,0.7172,0.7923,0.6346,0.2983,0.2706,0.6651,0.4323,0.3214,0.5287,0.5331,0.6355,0.5501,0.3101,0.6846,0.4879,0.5469,0.7072,0.5867,0.6647,0.5675,0.5624,0.5889,0.7041,0.7006,0.6317,0.7824,0.6575,0.491,0.6425,0.5693,0.5277,0.5497,0.565,0.6697,0.5794,0.4499,0.6025,0.559,0.6156,0.6819,0.5271,0.5864,0.5694,0.4998,0.3779,0.5782,0.7291,0.2957,0.5838,0.7112,0.7151,0.5298,0.5712,0.5501,0.6145,0.624,0.6595,0.5788,0.5462,0.5912,0.5202,0.5721,0.5627,0.5957,0.5382,0.5039,0.5521,0.6809,0.5,0.6337,0.5963,0.5143,0.5899,0.678,0.4164,0.5279,0.5039,0.4466,0.665,0.7238,0.5758,0.48,0.5361,0.5894,0.6188,0.6552,0.6342,0.6137,0.2927,0.4561,0.7057,0.654,0.6183,0.6263,0.6204,0.5985,0.554,0.6939,0.6542,0.5855,0.636,0.62,0.7206,0.6511,0.7097,0.5262,0.5364,0.6649,0.6794,0.625,0.5343,0.4137,0.6608,0.635,0.6419,0.6707,0.6482,0.7641,0.5798,0.6801,0.7,0.6742,0.635,0.6374,0.6282,0.6757,0.7808,0.6782,0.7313,0.6462,0.6324,0.7626,0.7474,0.685,0.6798,0.5607,0.6306,0.5559,0.7256,0.6767,0.6745,4.3249,0.57,0.7952,0.2664,0.2027,0.742,1.3467,0.6142,0.5212,0.7408,0.5357,0.7078,0.2661,0.4083,0.3641,0.5263,0.5629,0.7081,0.5491,0.58,0.5302,0.5042,0.6608,0.5872,0.8107,0.374,0.6543,0.6816,0.6216,0.7584,0.6221,0.7035,0.4896,0.6589,0.5927,0.5195,0.4739,0.5889,0.545,0.189,0.7556,0.2498,0.5479,0.5435,0.3901,0.1655,0.572,0.5699,0.3903,0.5494,0.5686,0.649,0.7,0.65,0.7251,0.9827,0.6579,0.6218,0.5058,0.6077,0.537,0.3204,0.6766,1.3317,0.5922,0.63,0.5927,0.5498,0.9537,0.7241,0.5972,0.5028,1.3387,0.4217,1.1922,1.2791,1.2181,0.527,1.0862,1.1579,0.5596,0.5348,0.8134,0.7086,0.5483,0.5584,0.5839,0.6346,0.6971,0.5187,0.671,0.7193,0.5748,0.4792,0.6041,0.6159,0.7723,0.717,0.477,0.5652,0.6181,0.4956,0.739,0.6677,0.6695,0.7425,0.7998,0.6937,0.6377,0.5793,0.5543,0.5794,0.7371,0.6716,0.5613,0.545,0.5889,0.8107,0.5357,0.4118],\"yaxis\":\"y\"},{\"customdata\":[[0.0,3.0],[0.0,5.0],[0.0,7.0],[7.3574,8.0],[0.0,9.0],[0.0,10.0],[-0.0,11.0],[0.0,13.0],[0.0,15.0],[-0.0,17.0],[0.0,20.0],[0.0,21.0],[6.8151,22.0],[0.4826,23.0],[0.0,26.0],[0.0,27.0],[7.2738,28.0],[0.0,29.0],[1.2193,30.0],[0.0,32.0],[0.0,34.0],[0.0,36.0],[0.0,41.0],[0.0,43.0],[0.9299,44.0],[-0.0,46.0],[7.6163,49.0],[0.0,50.0],[0.0,51.0],[0.3982,52.0],[5.7081,55.0],[0.0,56.0],[0.0,59.0],[0.0,60.0],[0.0,62.0],[0.0,63.0],[0.0,64.0],[-1.0559,65.0],[0.8775,68.0],[0.0,69.0],[6.8747,70.0],[-0.0,72.0],[0.0,73.0],[0.0,74.0],[-0.0,75.0],[0.0718,76.0],[0.0,80.0],[0.0,81.0],[1.5461,82.0],[0.0,83.0],[0.0,86.0],[0.0,87.0],[7.4026,88.0],[0.0,89.0],[0.0,93.0],[0.0,95.0],[0.0,98.0],[0.0,99.0],[0.0,100.0],[-0.0,102.0],[-0.0,103.0],[0.0,105.0],[-0.0,106.0],[0.0,107.0],[0.0,108.0],[0.0,109.0],[0.0,110.0],[-0.0,113.0],[0.0,114.0],[0.0,115.0],[0.0,116.0],[0.0,118.0],[1.4155,119.0],[0.0,120.0],[0.0,122.0],[0.0,124.0],[1.0601,126.0],[0.0,130.0],[0.0,131.0],[6.3646,132.0],[0.0,136.0],[0.0,137.0],[9.1816,139.0],[0.0,143.0],[0.0,144.0],[0.0,146.0],[1.5603,148.0],[0.0,152.0],[0.0,153.0],[-0.0,155.0],[0.0,156.0],[1.458,157.0],[2.5192,158.0],[0.0,159.0],[0.0,162.0],[0.0,163.0],[0.0,164.0],[0.0,165.0],[0.0,166.0],[0.0,169.0],[0.0,173.0],[0.0,175.0],[0.0,180.0],[-0.0,181.0],[0.0,182.0],[0.0,183.0],[0.0,187.0],[8.7609,189.0],[0.0,190.0],[2.2209,193.0],[0.0,194.0],[0.0,196.0],[0.0,198.0],[-0.0,200.0],[0.0,201.0],[0.0,203.0],[0.0,204.0],[0.0,205.0],[0.0,207.0],[0.0,208.0],[0.0,212.0],[0.0,213.0],[0.0,215.0],[0.0,218.0],[0.0,219.0],[0.0,220.0],[0.0,222.0],[0.0,223.0],[0.0,226.0],[0.0,229.0],[0.0,230.0],[0.0,234.0],[0.0,235.0],[0.0,237.0],[0.0,238.0],[0.0,239.0],[0.0,240.0],[0.0,241.0],[0.0,243.0],[0.0,246.0],[0.0,248.0],[0.0,252.0],[0.0,253.0],[0.0,255.0],[8.2214,256.0],[0.0,261.0],[0.0,262.0],[0.0,263.0],[0.0,264.0],[0.0,265.0],[0.0,267.0],[0.0,268.0],[0.0,270.0],[-0.0,271.0],[-0.0,272.0],[0.0,273.0],[0.0,275.0],[0.0,276.0],[0.0,278.0],[0.0,279.0],[8.3234,281.0],[6.8319,283.0],[0.0,284.0],[0.0,285.0],[-0.0,288.0],[0.0,289.0],[0.0,290.0],[0.0,291.0],[0.0,292.0],[-0.0,293.0],[0.0,294.0],[0.0,296.0],[0.0,297.0],[0.0,298.0],[0.0,299.0],[0.0,300.0],[0.0,301.0],[0.0,303.0],[0.0,304.0],[0.0,305.0],[8.0309,306.0],[0.0,308.0],[0.0,310.0],[0.0,311.0],[0.0,312.0],[0.0,313.0],[0.0,314.0],[2.4487,315.0],[0.0,316.0],[-0.0,317.0],[0.0,318.0],[0.0,319.0],[0.0,320.0],[0.0,321.0],[-0.0,322.0],[4.9708,323.0],[0.0,324.0],[0.0,325.0],[0.0,326.0],[0.0,327.0],[0.0,328.0],[0.0,329.0],[7.8065,330.0],[-0.0,331.0],[0.0,332.0],[0.0,333.0],[0.0,334.0],[-0.0,335.0],[0.0,336.0],[0.0,339.0],[-0.0,340.0],[0.0,342.0],[0.0,343.0],[2.7744,344.0],[0.0,346.0],[0.0,348.0],[0.0,350.0],[0.0,351.0],[7.4797,352.0],[0.0,354.0],[0.0,358.0],[0.0,361.0],[0.0,362.0],[0.0,364.0],[0.0,365.0],[-0.0,367.0],[0.0,369.0],[0.0,370.0],[0.0,373.0],[0.0,376.0],[0.0,377.0],[0.0,378.0],[0.0,384.0],[0.0,385.0],[0.0,387.0],[0.0,389.0],[0.0,391.0],[0.0,399.0],[0.0,403.0],[0.0,404.0],[-0.0,405.0],[0.0,406.0],[0.0,409.0],[0.0,410.0],[0.0,412.0],[0.0,413.0],[7.5447,414.0],[0.0,415.0],[0.0,416.0],[0.0,417.0],[0.0,420.0],[0.0,422.0],[0.0,423.0],[0.0,425.0],[0.0,427.0],[0.0,430.0],[0.0,437.0],[0.0,438.0],[0.0,439.0],[0.0,445.0],[0.0,446.0],[0.0,447.0],[0.0,448.0],[0.0,449.0],[0.0,450.0],[0.0,452.0],[0.0,453.0],[0.0,456.0],[0.0,457.0],[0.0,460.0],[0.0,463.0],[0.0,467.0],[0.0,468.0],[0.0,471.0],[0.0,472.0],[0.0,473.0],[0.0,479.0],[0.0,480.0],[0.0,483.0],[0.0,486.0],[0.0,488.0],[0.0,489.0],[0.0,490.0],[0.0,493.0],[0.0,494.0],[0.0,497.0],[0.0,499.0],[0.0,502.0],[0.0,503.0],[0.0,506.0],[0.0,511.0],[0.0,514.0],[0.0,517.0],[0.0,519.0],[1.3665,520.0],[0.0,522.0],[0.0,523.0],[0.0,524.0],[0.0,526.0],[-0.0,527.0],[0.0,528.0],[0.0,529.0],[0.0,532.0],[0.0,533.0],[0.0,534.0],[2.522,535.0],[0.7183,536.0],[0.0,537.0],[0.0,538.0],[0.0,539.0],[0.0,540.0],[0.0,541.0],[0.0,542.0],[0.0,544.0],[0.0,545.0],[1.5133,547.0],[0.0,548.0],[0.0,549.0],[0.0,550.0],[0.0,551.0],[6.8234,552.0],[0.0,553.0],[0.0,555.0],[0.0,556.0],[0.0,557.0],[0.0,558.0],[0.0,559.0],[0.0,560.0],[0.0,562.0],[0.0,563.0],[0.0,570.0],[0.0,571.0],[0.0,575.0],[0.0,576.0],[-0.0,577.0],[0.0,579.0],[-8.7703,580.0],[7.6003,581.0],[7.0067,582.0],[0.0,583.0],[-0.0,584.0],[9.0282,585.0],[0.0,588.0],[0.0,589.0],[0.0,590.0],[0.0,591.0],[0.0,592.0],[1.2283,597.0],[4.8817,599.0],[0.0,601.0],[0.0,602.0],[6.8779,607.0],[0.0,611.0],[0.0,612.0],[0.0,613.0],[0.0,614.0],[0.0,616.0],[0.0,617.0],[0.0,619.0],[0.0,621.0],[0.0,622.0],[0.0,625.0],[0.0,626.0],[0.0,628.0],[3.0871,629.0],[0.0,634.0],[0.0,638.0],[4.7567,639.0],[0.0,641.0],[5.9107,642.0],[0.0,643.0],[0.0,644.0],[5.2351,645.0],[0.0,646.0],[4.086,647.0],[3.5544,648.0],[0.0,650.0],[0.0,651.0],[0.0,653.0],[0.0,654.0],[0.0,655.0],[1.0851,656.0],[0.0,657.0],[0.0,658.0],[-0.0,659.0],[4.5968,661.0],[0.0,662.0],[7.1407,663.0],[0.0,664.0],[-0.0,666.0],[0.0,667.0],[0.0,668.0],[6.4824,669.0],[3.1126,670.0],[6.5004,671.0],[0.0,673.0],[0.0,674.0],[5.8832,675.0],[0.0,676.0],[0.0,677.0],[0.0,678.0],[0.0,680.0],[0.0,681.0],[0.0,682.0],[3.493,684.0],[0.841,685.0],[0.0,688.0],[0.0,690.0],[0.0,691.0],[0.0,692.0],[0.0,693.0],[0.0,695.0],[1.1403,696.0],[1.4996,697.0],[0.0,699.0],[0.0,700.0],[1.004,701.0],[0.0,702.0],[1.6974,703.0],[1.4888,704.0],[4.5508,705.0],[1.4171,706.0],[0.0,707.0],[0.0,709.0],[3.0299,713.0],[0.0,714.0],[-0.0,717.0],[0.0,720.0],[-0.0,721.0],[0.0,722.0],[9.838,723.0],[0.0,724.0],[1.2205,725.0],[3.2228,726.0],[0.0,727.0],[0.0,728.0],[0.0,729.0],[0.2921,731.0],[0.0,732.0],[0.0,735.0],[6.9404,736.0],[0.0,737.0],[0.0,738.0],[0.0,739.0],[0.0,743.0],[-0.0,744.0],[0.7658,745.0],[0.0,746.0],[0.0,747.0],[0.0,749.0],[6.3861,753.0],[0.0,754.0],[0.0,757.0],[0.0,758.0],[-0.0,759.0],[0.0,760.0],[0.0,762.0],[0.0,766.0],[9.991,768.0],[0.0,769.0],[0.0,770.0],[0.0,772.0],[0.0,773.0],[-0.0,777.0],[0.0,778.0],[0.0,785.0],[0.0,787.0],[0.5019,789.0],[7.2238,791.0],[0.0,793.0],[0.0,794.0],[0.0,795.0],[-0.0,796.0],[0.0,800.0],[0.0,805.0],[0.0,806.0],[0.0,809.0],[0.0,810.0],[0.0,811.0],[0.0,812.0],[-0.0,813.0],[0.0,815.0],[0.0,817.0],[0.0,818.0],[0.0,819.0],[0.0,820.0],[0.0,822.0],[0.0,823.0],[0.0,824.0],[0.0,825.0],[0.0,826.0],[0.0,828.0],[0.0,829.0],[0.0,830.0],[0.0,831.0],[-0.0,834.0],[0.0,835.0],[-0.0,836.0],[0.0,839.0],[0.0,840.0],[0.0,841.0],[0.0,842.0],[0.0,843.0],[0.0,844.0],[0.0,848.0],[0.0,849.0],[0.0,850.0],[0.0,851.0],[-0.0,852.0],[0.0,853.0],[0.0,855.0],[0.0,858.0],[0.0,859.0],[0.0,860.0],[8.0877,861.0],[0.0,862.0],[0.0,863.0],[0.0,865.0],[-0.0,866.0],[0.0,869.0],[0.0,870.0],[0.0,872.0],[0.0,873.0],[0.0,874.0],[0.0,875.0],[0.0,876.0],[0.0,877.0],[0.0,878.0],[0.0,879.0],[0.0,880.0],[0.0,881.0],[0.0,882.0],[5.0362,883.0],[0.0,884.0],[0.0,885.0],[0.0,886.0],[0.0,887.0],[0.0,888.0],[1.3713,889.0],[0.0,890.0],[0.0,892.0],[0.0,893.0],[0.0,894.0],[0.0,895.0],[0.0,896.0],[0.0,897.0],[0.0,898.0],[0.0,899.0],[0.0,902.0],[0.0,903.0],[0.0,904.0],[0.0,905.0],[0.0,906.0],[0.0,907.0],[0.0,908.0],[0.0,911.0],[0.0,912.0],[0.0,913.0],[0.0,914.0],[0.0,915.0],[1.1094,916.0],[0.0,917.0],[0.0,918.0],[0.0,920.0],[0.0,921.0],[0.0,922.0],[0.0,923.0],[0.0,924.0],[0.0,925.0],[0.0,926.0],[9.2198,927.0],[0.0,928.0],[0.0,929.0],[3.1391,930.0],[0.0,934.0],[0.0,935.0],[0.0,936.0],[0.0,937.0],[0.0,938.0],[1.2205,939.0],[0.0,940.0],[0.0,941.0],[1.4888,942.0],[0.0,943.0],[0.899,946.0],[0.0,947.0]],\"hovertemplate\":\"Diff_Perc < 10=True<br>Efficiency_Scores_Basic=%{x}<br>Efficiency_Scores_with_ML=%{y}<br>Diff_Perc=%{customdata[0]}<br>index=%{customdata[1]}<extra></extra>\",\"legendgroup\":\"True\",\"line\":{\"color\":\"lightgreen\",\"width\":3},\"marker\":{\"color\":\"blue\",\"symbol\":\"circle\"},\"mode\":\"markers\",\"name\":\"True\",\"orientation\":\"v\",\"showlegend\":true,\"type\":\"scatter\",\"x\":[0.795,0.9574,0.8157,0.8468,0.986,0.9461,0.9243,0.5003,0.8616,0.8964,0.8772,0.8995,0.8463,0.8584,0.9257,0.7934,0.3565,0.7979,0.9223,0.7457,0.8508,0.8439,0.8504,0.8675,0.9283,0.9387,0.8122,0.8462,0.8726,0.9682,0.8629,0.7632,0.8406,0.8539,1.0,0.8412,0.871,0.83,0.8451,0.8354,0.8315,0.8632,0.8676,0.8111,0.9168,0.999,0.9122,0.9523,0.8898,0.8308,0.8279,0.8473,0.8367,0.8489,0.8565,0.8466,0.9254,0.8843,0.8989,0.8953,0.9321,0.9119,0.9043,0.8682,0.8457,0.9825,0.7971,0.9605,0.8722,0.9871,0.7919,0.8003,0.8904,0.8315,0.8845,0.8356,0.9248,0.8387,0.9731,0.8514,0.8447,0.8651,0.8292,0.7978,0.8505,0.8401,0.861,0.881,0.7962,0.9166,0.8989,0.8888,0.8662,0.8803,0.9482,0.8382,0.7151,0.7908,0.8094,0.8275,0.8681,0.8313,0.8686,0.9214,0.8281,0.8606,0.8732,0.8353,0.8168,0.8852,0.8895,0.8676,0.9396,0.8887,0.8142,0.8725,0.8607,0.8144,0.8228,0.9733,0.7971,0.8225,0.8489,0.8613,0.8684,0.8273,0.8502,0.8512,0.865,0.8164,0.8416,0.858,0.8726,0.8207,0.8523,0.8535,0.8476,0.7915,0.8512,0.8768,0.8339,0.8796,0.8199,0.9285,0.8488,0.8431,0.8353,0.8735,0.8643,0.8359,0.8857,0.8724,0.8476,0.913,0.94,0.8686,0.8756,0.8208,0.8324,0.8497,0.8591,0.8604,0.7521,0.847,0.8692,0.9065,0.8822,0.8282,0.8946,0.9151,0.8958,0.8719,0.8652,0.8604,0.861,0.8098,0.8598,0.8799,0.8404,0.8847,0.8791,0.8895,0.8958,0.855,0.8521,0.8632,0.9205,0.8907,0.9449,0.8768,0.907,0.8835,0.8855,0.8797,0.9319,0.9077,0.9138,0.8947,0.9849,0.8797,0.9418,0.8862,0.9178,0.9629,0.8792,0.9213,0.9005,0.9562,0.9574,0.9461,0.945,0.7457,0.8439,0.8406,0.8833,0.8304,0.8341,0.7904,0.884,0.8258,0.842,0.7897,0.8517,0.8403,0.8312,0.9566,0.8568,0.8137,0.7924,0.8038,0.8666,0.8391,0.8477,0.8285,0.828,0.7861,0.908,0.8718,0.8357,0.8636,0.9485,0.9037,0.7177,0.8209,0.8433,0.7449,0.8968,0.8732,0.8125,0.8059,0.8459,0.8623,0.849,0.866,0.8791,0.8754,0.8055,0.8544,0.8639,0.8759,0.8097,0.8306,0.8959,0.844,0.849,0.8575,0.8694,0.8461,0.8382,0.8337,0.7815,0.8924,0.8654,0.8359,0.8182,0.7781,0.8869,0.8402,0.8674,0.8852,0.888,0.8211,0.8534,0.8306,0.8104,0.8819,0.89,0.8118,0.7846,0.8424,0.8386,0.7807,0.8694,0.8591,0.898,0.8035,0.8632,0.8719,0.8315,0.924,0.8677,0.9085,0.8934,0.8814,0.9052,0.8662,0.9562,0.919,0.8404,0.8759,0.8274,0.8989,0.8586,0.9633,0.9491,0.95,0.8952,0.907,0.8579,0.9015,0.9029,0.934,0.9004,1.0,0.8995,0.9271,0.8945,0.8724,0.8779,0.9297,0.7796,0.8753,0.8842,0.9314,0.8913,0.9693,1.0234,0.8347,0.936,0.8764,0.9207,0.5437,0.8546,0.8618,0.8638,0.7286,0.8682,0.6857,1.0109,0.9061,0.9457,0.8526,0.8849,0.8682,0.7951,0.9227,1.0,0.8849,0.8706,0.7105,0.8048,0.8111,0.861,0.886,0.8374,0.8406,0.862,0.8022,0.8778,0.7298,0.8997,0.8481,0.8458,0.8766,0.859,0.7302,0.8353,0.8935,0.7806,0.7692,0.8905,0.9179,0.831,0.8343,0.9196,0.8726,0.8731,0.8451,0.9248,0.8874,0.6851,0.8282,0.8714,0.9972,0.8366,0.9548,0.8024,0.8036,0.8789,0.82,0.9094,0.8556,0.8311,0.8391,0.8685,0.9364,0.8634,0.9665,0.869,0.7798,0.8724,0.8328,0.908,0.8772,0.9751,0.9861,0.9329,0.8446,0.0913,0.8848,1.0135,0.7923,0.8755,0.859,0.7894,0.8309,0.5353,1.0,0.8485,1.0,0.6748,0.7577,0.8795,0.8712,0.7781,0.8621,0.867,0.9798,0.8492,0.8819,0.8413,0.8658,0.9066,0.858,0.8682,0.9144,0.9414,0.726,0.9167,0.853,0.8193,0.8653,0.8537,0.8874,0.8814,0.7942,0.8288,0.8371,0.8404,0.8473,0.8709,0.8433,0.7619,1.0,0.8368,0.8499,1.0126,0.9651,0.7685,0.8934,0.8096,0.8326,0.887,0.8538,0.845,0.8734,0.8943,0.8047,0.8692,0.8617,0.9692,0.8584,0.8431,0.8509,0.9429,0.9235,0.7988,0.8496,0.8807,0.87,0.8885,0.8376,0.8858,0.866,0.8853,0.905,0.9,0.8821,0.9366,0.8677,0.957,0.889,0.8894,0.8925,0.8964,0.8359,0.8947,0.8952,0.9377,0.8932,0.9098,0.9294,0.9264,0.8941,0.8443,0.8933,0.8945,0.9319,0.9279,0.9317,0.8874,0.8098,0.9195,0.8542,0.8369,0.8863,0.8778,0.8756,0.9229,0.8707,0.8598,0.8925,0.9008,0.8948,0.8531,0.943,0.8914,0.9113,0.9028,0.8523,0.8499,0.8387,0.9118,0.8677,0.9234,0.9684,0.9315,0.8471,0.8866,0.8428,0.8749,0.9016,0.8797,0.8926,0.8862,0.8451,0.9972,0.8791,0.8506,0.9291,0.9064,0.8623,0.8467,0.9068,0.892,0.9383,0.9684,0.8791,0.8649,0.8803,0.8703,0.982,0.852,0.9194,0.8634,0.869,0.7798,0.7781,0.8621,0.8795,1.0,0.861,0.8848,0.7951,0.9072,0.905],\"xaxis\":\"x\",\"y\":[0.795,0.9574,0.8157,0.7845,0.986,0.9461,0.9243,0.5003,0.8616,0.8964,0.8772,0.8995,0.7886,0.8543,0.9257,0.7934,0.3305,0.7979,0.911,0.7457,0.8508,0.8439,0.8504,0.8675,0.9196,0.9387,0.7503,0.8462,0.8726,0.9644,0.8137,0.7632,0.8406,0.8539,1.0,0.8412,0.871,0.8388,0.8377,0.8354,0.7743,0.8632,0.8676,0.8111,0.9168,0.9983,0.9122,0.9523,0.876,0.8308,0.8279,0.8473,0.7747,0.8489,0.8565,0.8466,0.9254,0.8843,0.8989,0.8953,0.9321,0.9119,0.9043,0.8682,0.8457,0.9825,0.7971,0.9605,0.8722,0.9871,0.7919,0.8003,0.8778,0.8315,0.8845,0.8356,0.915,0.8387,0.9731,0.7972,0.8447,0.8651,0.753,0.7978,0.8505,0.8401,0.8475,0.881,0.7962,0.9166,0.8989,0.8758,0.8443,0.8803,0.9482,0.8382,0.7151,0.7908,0.8094,0.8275,0.8681,0.8313,0.8686,0.9214,0.8281,0.8606,0.8732,0.7621,0.8168,0.8656,0.8895,0.8676,0.9396,0.8887,0.8142,0.8725,0.8607,0.8144,0.8228,0.9733,0.7971,0.8225,0.8489,0.8613,0.8684,0.8273,0.8502,0.8512,0.865,0.8164,0.8416,0.858,0.8726,0.8207,0.8523,0.8535,0.8476,0.7915,0.8512,0.8768,0.8339,0.8796,0.8199,0.9285,0.779,0.8431,0.8353,0.8735,0.8643,0.8359,0.8857,0.8724,0.8476,0.913,0.94,0.8686,0.8756,0.8208,0.8324,0.8497,0.7876,0.8016,0.7521,0.847,0.8692,0.9065,0.8822,0.8282,0.8946,0.9151,0.8958,0.8719,0.8652,0.8604,0.861,0.8098,0.8598,0.8799,0.8404,0.8847,0.8085,0.8895,0.8958,0.855,0.8521,0.8632,0.9205,0.8689,0.9449,0.8768,0.907,0.8835,0.8855,0.8797,0.9319,0.8625,0.9138,0.8947,0.9849,0.8797,0.9418,0.8862,0.8462,0.9629,0.8792,0.9213,0.9005,0.9562,0.9574,0.9461,0.945,0.7457,0.8439,0.8173,0.8833,0.8304,0.8341,0.7904,0.8179,0.8258,0.842,0.7897,0.8517,0.8403,0.8312,0.9566,0.8568,0.8137,0.7924,0.8038,0.8666,0.8391,0.8477,0.8285,0.828,0.7861,0.908,0.8718,0.8357,0.8636,0.9485,0.9037,0.7177,0.8209,0.8433,0.7449,0.8291,0.8732,0.8125,0.8059,0.8459,0.8623,0.849,0.866,0.8791,0.8754,0.8055,0.8544,0.8639,0.8759,0.8097,0.8306,0.8959,0.844,0.849,0.8575,0.8694,0.8461,0.8382,0.8337,0.7815,0.8924,0.8654,0.8359,0.8182,0.7781,0.8869,0.8402,0.8674,0.8852,0.888,0.8211,0.8534,0.8306,0.8104,0.8819,0.89,0.8118,0.7846,0.8424,0.8386,0.7807,0.8694,0.8591,0.8857,0.8035,0.8632,0.8719,0.8315,0.924,0.8677,0.9085,0.8934,0.8814,0.9052,0.8444,0.9493,0.919,0.8404,0.8759,0.8274,0.8989,0.8586,0.9633,0.9491,0.9356,0.8952,0.907,0.8579,0.9015,0.8413,0.934,0.9004,1.0,0.8995,0.9271,0.8945,0.8724,0.8779,0.9297,0.7796,0.8753,0.8842,0.9314,0.8913,0.9693,1.1131,0.7712,0.8704,0.8764,0.9207,0.4946,0.8546,0.8618,0.8638,0.7286,0.8682,0.6773,0.9616,0.9061,0.9457,0.7939,0.8849,0.8682,0.7951,0.9227,1.0,0.8849,0.8706,0.7105,0.8048,0.8111,0.861,0.886,0.8115,0.8406,0.862,0.764,0.8778,0.6867,0.8997,0.8481,0.8015,0.8766,0.8239,0.7042,0.8353,0.8935,0.7806,0.7692,0.8905,0.9079,0.831,0.8343,0.9196,0.8325,0.8731,0.7847,0.9248,0.8874,0.6851,0.8282,0.8149,0.9661,0.7822,0.9548,0.8024,0.7563,0.8789,0.82,0.9094,0.8556,0.8311,0.8391,0.8382,0.9285,0.8634,0.9665,0.869,0.7798,0.8724,0.8328,0.8977,0.864,0.9751,0.9861,0.9235,0.8446,0.0898,0.8717,0.9674,0.7811,0.8755,0.859,0.7655,0.8309,0.5353,1.0,0.8485,1.0,0.6085,0.7577,0.8687,0.8431,0.7781,0.8621,0.867,0.9769,0.8492,0.8819,0.7829,0.8658,0.9066,0.858,0.8682,0.9144,0.9342,0.726,0.9167,0.853,0.767,0.8653,0.8537,0.8874,0.8814,0.7942,0.8288,0.8371,0.7564,0.8473,0.8709,0.8433,0.7619,1.0,0.8368,0.8499,1.0126,0.9602,0.7129,0.8934,0.8096,0.8326,0.887,0.8538,0.845,0.8734,0.8943,0.8047,0.8692,0.8617,0.9692,0.8584,0.8431,0.8509,0.9429,0.9235,0.7988,0.8496,0.8807,0.87,0.8885,0.8376,0.8858,0.866,0.8853,0.905,0.9,0.8821,0.9366,0.8677,0.957,0.889,0.8894,0.8925,0.8964,0.8359,0.8947,0.8952,0.9377,0.8932,0.9098,0.9294,0.9264,0.8941,0.7761,0.8933,0.8945,0.9319,0.9279,0.9317,0.8874,0.8098,0.9195,0.8542,0.8369,0.8863,0.8778,0.8756,0.9229,0.8707,0.8598,0.8925,0.8554,0.8948,0.8531,0.943,0.8914,0.9113,0.8904,0.8523,0.8499,0.8387,0.9118,0.8677,0.9234,0.9684,0.9315,0.8471,0.8866,0.8428,0.8749,0.9016,0.8797,0.8926,0.8862,0.8451,0.9972,0.8791,0.8506,0.9291,0.8964,0.8623,0.8467,0.9068,0.892,0.9383,0.9684,0.8791,0.8649,0.8803,0.79,0.982,0.852,0.8905,0.8634,0.869,0.7798,0.7781,0.8621,0.8687,1.0,0.861,0.8717,0.7951,0.8991,0.905],\"yaxis\":\"y\"},{\"hovertemplate\":\"x=%{x}<br>y=%{y}<extra></extra>\",\"legendgroup\":\"\",\"line\":{\"color\":\"lightgreen\",\"dash\":\"solid\",\"width\":3},\"marker\":{\"symbol\":\"circle\"},\"mode\":\"lines\",\"name\":\"\",\"orientation\":\"v\",\"showlegend\":false,\"type\":\"scatter\",\"x\":[0.3,1.0],\"xaxis\":\"x\",\"y\":[0.3,1.0],\"yaxis\":\"y\"}],                        {\"autosize\":false,\"height\":500,\"legend\":{\"title\":{\"text\":\"Diff_Perc < 10\"},\"tracegroupgap\":0},\"margin\":{\"t\":60},\"template\":{\"data\":{\"bar\":[{\"error_x\":{\"color\":\"#2a3f5f\"},\"error_y\":{\"color\":\"#2a3f5f\"},\"marker\":{\"line\":{\"color\":\"#E5ECF6\",\"width\":0.5},\"pattern\":{\"fillmode\":\"overlay\",\"size\":10,\"solidity\":0.2}},\"type\":\"bar\"}],\"barpolar\":[{\"marker\":{\"line\":{\"color\":\"#E5ECF6\",\"width\":0.5},\"pattern\":{\"fillmode\":\"overlay\",\"size\":10,\"solidity\":0.2}},\"type\":\"barpolar\"}],\"carpet\":[{\"aaxis\":{\"endlinecolor\":\"#2a3f5f\",\"gridcolor\":\"white\",\"linecolor\":\"white\",\"minorgridcolor\":\"white\",\"startlinecolor\":\"#2a3f5f\"},\"baxis\":{\"endlinecolor\":\"#2a3f5f\",\"gridcolor\":\"white\",\"linecolor\":\"white\",\"minorgridcolor\":\"white\",\"startlinecolor\":\"#2a3f5f\"},\"type\":\"carpet\"}],\"choropleth\":[{\"colorbar\":{\"outlinewidth\":0,\"ticks\":\"\"},\"type\":\"choropleth\"}],\"contour\":[{\"colorbar\":{\"outlinewidth\":0,\"ticks\":\"\"},\"colorscale\":[[0.0,\"#0d0887\"],[0.1111111111111111,\"#46039f\"],[0.2222222222222222,\"#7201a8\"],[0.3333333333333333,\"#9c179e\"],[0.4444444444444444,\"#bd3786\"],[0.5555555555555556,\"#d8576b\"],[0.6666666666666666,\"#ed7953\"],[0.7777777777777778,\"#fb9f3a\"],[0.8888888888888888,\"#fdca26\"],[1.0,\"#f0f921\"]],\"type\":\"contour\"}],\"contourcarpet\":[{\"colorbar\":{\"outlinewidth\":0,\"ticks\":\"\"},\"type\":\"contourcarpet\"}],\"heatmap\":[{\"colorbar\":{\"outlinewidth\":0,\"ticks\":\"\"},\"colorscale\":[[0.0,\"#0d0887\"],[0.1111111111111111,\"#46039f\"],[0.2222222222222222,\"#7201a8\"],[0.3333333333333333,\"#9c179e\"],[0.4444444444444444,\"#bd3786\"],[0.5555555555555556,\"#d8576b\"],[0.6666666666666666,\"#ed7953\"],[0.7777777777777778,\"#fb9f3a\"],[0.8888888888888888,\"#fdca26\"],[1.0,\"#f0f921\"]],\"type\":\"heatmap\"}],\"heatmapgl\":[{\"colorbar\":{\"outlinewidth\":0,\"ticks\":\"\"},\"colorscale\":[[0.0,\"#0d0887\"],[0.1111111111111111,\"#46039f\"],[0.2222222222222222,\"#7201a8\"],[0.3333333333333333,\"#9c179e\"],[0.4444444444444444,\"#bd3786\"],[0.5555555555555556,\"#d8576b\"],[0.6666666666666666,\"#ed7953\"],[0.7777777777777778,\"#fb9f3a\"],[0.8888888888888888,\"#fdca26\"],[1.0,\"#f0f921\"]],\"type\":\"heatmapgl\"}],\"histogram\":[{\"marker\":{\"pattern\":{\"fillmode\":\"overlay\",\"size\":10,\"solidity\":0.2}},\"type\":\"histogram\"}],\"histogram2d\":[{\"colorbar\":{\"outlinewidth\":0,\"ticks\":\"\"},\"colorscale\":[[0.0,\"#0d0887\"],[0.1111111111111111,\"#46039f\"],[0.2222222222222222,\"#7201a8\"],[0.3333333333333333,\"#9c179e\"],[0.4444444444444444,\"#bd3786\"],[0.5555555555555556,\"#d8576b\"],[0.6666666666666666,\"#ed7953\"],[0.7777777777777778,\"#fb9f3a\"],[0.8888888888888888,\"#fdca26\"],[1.0,\"#f0f921\"]],\"type\":\"histogram2d\"}],\"histogram2dcontour\":[{\"colorbar\":{\"outlinewidth\":0,\"ticks\":\"\"},\"colorscale\":[[0.0,\"#0d0887\"],[0.1111111111111111,\"#46039f\"],[0.2222222222222222,\"#7201a8\"],[0.3333333333333333,\"#9c179e\"],[0.4444444444444444,\"#bd3786\"],[0.5555555555555556,\"#d8576b\"],[0.6666666666666666,\"#ed7953\"],[0.7777777777777778,\"#fb9f3a\"],[0.8888888888888888,\"#fdca26\"],[1.0,\"#f0f921\"]],\"type\":\"histogram2dcontour\"}],\"mesh3d\":[{\"colorbar\":{\"outlinewidth\":0,\"ticks\":\"\"},\"type\":\"mesh3d\"}],\"parcoords\":[{\"line\":{\"colorbar\":{\"outlinewidth\":0,\"ticks\":\"\"}},\"type\":\"parcoords\"}],\"pie\":[{\"automargin\":true,\"type\":\"pie\"}],\"scatter\":[{\"marker\":{\"colorbar\":{\"outlinewidth\":0,\"ticks\":\"\"}},\"type\":\"scatter\"}],\"scatter3d\":[{\"line\":{\"colorbar\":{\"outlinewidth\":0,\"ticks\":\"\"}},\"marker\":{\"colorbar\":{\"outlinewidth\":0,\"ticks\":\"\"}},\"type\":\"scatter3d\"}],\"scattercarpet\":[{\"marker\":{\"colorbar\":{\"outlinewidth\":0,\"ticks\":\"\"}},\"type\":\"scattercarpet\"}],\"scattergeo\":[{\"marker\":{\"colorbar\":{\"outlinewidth\":0,\"ticks\":\"\"}},\"type\":\"scattergeo\"}],\"scattergl\":[{\"marker\":{\"colorbar\":{\"outlinewidth\":0,\"ticks\":\"\"}},\"type\":\"scattergl\"}],\"scattermapbox\":[{\"marker\":{\"colorbar\":{\"outlinewidth\":0,\"ticks\":\"\"}},\"type\":\"scattermapbox\"}],\"scatterpolar\":[{\"marker\":{\"colorbar\":{\"outlinewidth\":0,\"ticks\":\"\"}},\"type\":\"scatterpolar\"}],\"scatterpolargl\":[{\"marker\":{\"colorbar\":{\"outlinewidth\":0,\"ticks\":\"\"}},\"type\":\"scatterpolargl\"}],\"scatterternary\":[{\"marker\":{\"colorbar\":{\"outlinewidth\":0,\"ticks\":\"\"}},\"type\":\"scatterternary\"}],\"surface\":[{\"colorbar\":{\"outlinewidth\":0,\"ticks\":\"\"},\"colorscale\":[[0.0,\"#0d0887\"],[0.1111111111111111,\"#46039f\"],[0.2222222222222222,\"#7201a8\"],[0.3333333333333333,\"#9c179e\"],[0.4444444444444444,\"#bd3786\"],[0.5555555555555556,\"#d8576b\"],[0.6666666666666666,\"#ed7953\"],[0.7777777777777778,\"#fb9f3a\"],[0.8888888888888888,\"#fdca26\"],[1.0,\"#f0f921\"]],\"type\":\"surface\"}],\"table\":[{\"cells\":{\"fill\":{\"color\":\"#EBF0F8\"},\"line\":{\"color\":\"white\"}},\"header\":{\"fill\":{\"color\":\"#C8D4E3\"},\"line\":{\"color\":\"white\"}},\"type\":\"table\"}]},\"layout\":{\"annotationdefaults\":{\"arrowcolor\":\"#2a3f5f\",\"arrowhead\":0,\"arrowwidth\":1},\"autotypenumbers\":\"strict\",\"coloraxis\":{\"colorbar\":{\"outlinewidth\":0,\"ticks\":\"\"}},\"colorscale\":{\"diverging\":[[0,\"#8e0152\"],[0.1,\"#c51b7d\"],[0.2,\"#de77ae\"],[0.3,\"#f1b6da\"],[0.4,\"#fde0ef\"],[0.5,\"#f7f7f7\"],[0.6,\"#e6f5d0\"],[0.7,\"#b8e186\"],[0.8,\"#7fbc41\"],[0.9,\"#4d9221\"],[1,\"#276419\"]],\"sequential\":[[0.0,\"#0d0887\"],[0.1111111111111111,\"#46039f\"],[0.2222222222222222,\"#7201a8\"],[0.3333333333333333,\"#9c179e\"],[0.4444444444444444,\"#bd3786\"],[0.5555555555555556,\"#d8576b\"],[0.6666666666666666,\"#ed7953\"],[0.7777777777777778,\"#fb9f3a\"],[0.8888888888888888,\"#fdca26\"],[1.0,\"#f0f921\"]],\"sequentialminus\":[[0.0,\"#0d0887\"],[0.1111111111111111,\"#46039f\"],[0.2222222222222222,\"#7201a8\"],[0.3333333333333333,\"#9c179e\"],[0.4444444444444444,\"#bd3786\"],[0.5555555555555556,\"#d8576b\"],[0.6666666666666666,\"#ed7953\"],[0.7777777777777778,\"#fb9f3a\"],[0.8888888888888888,\"#fdca26\"],[1.0,\"#f0f921\"]]},\"colorway\":[\"#636efa\",\"#EF553B\",\"#00cc96\",\"#ab63fa\",\"#FFA15A\",\"#19d3f3\",\"#FF6692\",\"#B6E880\",\"#FF97FF\",\"#FECB52\"],\"font\":{\"color\":\"#2a3f5f\"},\"geo\":{\"bgcolor\":\"white\",\"lakecolor\":\"white\",\"landcolor\":\"#E5ECF6\",\"showlakes\":true,\"showland\":true,\"subunitcolor\":\"white\"},\"hoverlabel\":{\"align\":\"left\"},\"hovermode\":\"closest\",\"mapbox\":{\"style\":\"light\"},\"paper_bgcolor\":\"white\",\"plot_bgcolor\":\"#E5ECF6\",\"polar\":{\"angularaxis\":{\"gridcolor\":\"white\",\"linecolor\":\"white\",\"ticks\":\"\"},\"bgcolor\":\"#E5ECF6\",\"radialaxis\":{\"gridcolor\":\"white\",\"linecolor\":\"white\",\"ticks\":\"\"}},\"scene\":{\"xaxis\":{\"backgroundcolor\":\"#E5ECF6\",\"gridcolor\":\"white\",\"gridwidth\":2,\"linecolor\":\"white\",\"showbackground\":true,\"ticks\":\"\",\"zerolinecolor\":\"white\"},\"yaxis\":{\"backgroundcolor\":\"#E5ECF6\",\"gridcolor\":\"white\",\"gridwidth\":2,\"linecolor\":\"white\",\"showbackground\":true,\"ticks\":\"\",\"zerolinecolor\":\"white\"},\"zaxis\":{\"backgroundcolor\":\"#E5ECF6\",\"gridcolor\":\"white\",\"gridwidth\":2,\"linecolor\":\"white\",\"showbackground\":true,\"ticks\":\"\",\"zerolinecolor\":\"white\"}},\"shapedefaults\":{\"line\":{\"color\":\"#2a3f5f\"}},\"ternary\":{\"aaxis\":{\"gridcolor\":\"white\",\"linecolor\":\"white\",\"ticks\":\"\"},\"baxis\":{\"gridcolor\":\"white\",\"linecolor\":\"white\",\"ticks\":\"\"},\"bgcolor\":\"#E5ECF6\",\"caxis\":{\"gridcolor\":\"white\",\"linecolor\":\"white\",\"ticks\":\"\"}},\"title\":{\"x\":0.05},\"xaxis\":{\"automargin\":true,\"gridcolor\":\"white\",\"linecolor\":\"white\",\"ticks\":\"\",\"title\":{\"standoff\":15},\"zerolinecolor\":\"white\",\"zerolinewidth\":2},\"yaxis\":{\"automargin\":true,\"gridcolor\":\"white\",\"linecolor\":\"white\",\"ticks\":\"\",\"title\":{\"standoff\":15},\"zerolinecolor\":\"white\",\"zerolinewidth\":2}}},\"title\":{\"text\":\"Efficiency Scores Comparison (Blue: 586, Red: 362)\"},\"width\":800,\"xaxis\":{\"anchor\":\"y\",\"domain\":[0.0,1.0],\"title\":{\"text\":\"Efficiency_Scores_Basic\"}},\"yaxis\":{\"anchor\":\"x\",\"domain\":[0.0,1.0],\"title\":{\"text\":\"Efficiency_Scores_with_ML\"}}},                        {\"responsive\": true}                    ).then(function(){\n",
       "                            \n",
       "var gd = document.getElementById('41e02094-53f1-4f35-bd5d-d7dcef93ef0b');\n",
       "var x = new MutationObserver(function (mutations, observer) {{\n",
       "        var display = window.getComputedStyle(gd).display;\n",
       "        if (!display || display === 'none') {{\n",
       "            console.log([gd, 'removed!']);\n",
       "            Plotly.purge(gd);\n",
       "            observer.disconnect();\n",
       "        }}\n",
       "}});\n",
       "\n",
       "// Listen for the removal of the full notebook cells\n",
       "var notebookContainer = gd.closest('#notebook-container');\n",
       "if (notebookContainer) {{\n",
       "    x.observe(notebookContainer, {childList: true});\n",
       "}}\n",
       "\n",
       "// Listen for the clearing of the current output cell\n",
       "var outputEl = gd.closest('.output');\n",
       "if (outputEl) {{\n",
       "    x.observe(outputEl, {childList: true});\n",
       "}}\n",
       "\n",
       "                        })                };                });            </script>        </div>"
      ]
     },
     "metadata": {},
     "output_type": "display_data"
    }
   ],
   "source": [
    "fig = px.scatter(df_res, x=\"Efficiency_Scores_Basic\", y=\"Efficiency_Scores_with_ML\", color = \"Diff_Perc < 10\", color_discrete_map= {True:\"blue\", False: \"red\"},\n",
    "                 hover_data=[\"Efficiency_Scores_Basic\", \"Efficiency_Scores_with_ML\", \"Diff_Perc\"] + [df_res.index])\n",
    "\n",
    "fig.add_traces(\n",
    "    list(px.line(x = np.linspace(0.3, 1, num=2), y = np.linspace(0.3, 1, num=2)).select_traces())\n",
    ")\n",
    "\n",
    "fig.update_traces(line_color='lightgreen', line_width=3)\n",
    "\n",
    "fig.update_layout(\n",
    "    autosize=False,\n",
    "    width=800,\n",
    "    height=500,\n",
    "    title_text=f\"Efficiency Scores Comparison (Blue: {blue}, Red: {red})\",\n",
    ")\n",
    "\n",
    "fig.show()"
   ]
  },
  {
   "cell_type": "code",
   "execution_count": null,
   "id": "00ce2beb-3902-400b-8621-21796f4f13e8",
   "metadata": {},
   "outputs": [],
   "source": []
  }
 ],
 "metadata": {
  "kernelspec": {
   "display_name": "Python 3 (ipykernel)",
   "language": "python",
   "name": "python3"
  },
  "language_info": {
   "codemirror_mode": {
    "name": "ipython",
    "version": 3
   },
   "file_extension": ".py",
   "mimetype": "text/x-python",
   "name": "python",
   "nbconvert_exporter": "python",
   "pygments_lexer": "ipython3",
   "version": "3.8.11"
  }
 },
 "nbformat": 4,
 "nbformat_minor": 5
}

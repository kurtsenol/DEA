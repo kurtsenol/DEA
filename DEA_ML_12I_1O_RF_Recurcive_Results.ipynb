{
 "cells": [
  {
   "cell_type": "code",
   "execution_count": null,
   "id": "a86954ba-3efc-4b5d-b5f8-d37efabd5366",
   "metadata": {},
   "outputs": [],
   "source": []
  },
  {
   "cell_type": "code",
   "execution_count": 1,
   "id": "fc798ec7",
   "metadata": {},
   "outputs": [],
   "source": [
    "import pandas as pd\n",
    "import numpy as np\n",
    "from scipy import stats\n",
    "import pickle\n",
    "\n",
    "import matplotlib.pyplot as plt\n",
    "import seaborn as sns\n",
    "\n",
    "import xgboost as xgb\n",
    "\n",
    "np.set_printoptions(linewidth=np.inf, suppress=True, precision=2)"
   ]
  },
  {
   "cell_type": "code",
   "execution_count": 2,
   "id": "0dc16ee5-c9ac-4236-9b59-996fecd94413",
   "metadata": {},
   "outputs": [],
   "source": [
    "import mitosheet"
   ]
  },
  {
   "cell_type": "code",
   "execution_count": 3,
   "id": "6d565361-d152-4459-be65-97e811d5d01e",
   "metadata": {},
   "outputs": [
    {
     "data": {
      "text/html": [
       "        <script type=\"text/javascript\">\n",
       "        window.PlotlyConfig = {MathJaxConfig: 'local'};\n",
       "        if (window.MathJax) {MathJax.Hub.Config({SVG: {font: \"STIX-Web\"}});}\n",
       "        if (typeof require !== 'undefined') {\n",
       "        require.undef(\"plotly\");\n",
       "        requirejs.config({\n",
       "            paths: {\n",
       "                'plotly': ['https://cdn.plot.ly/plotly-2.4.1.min']\n",
       "            }\n",
       "        });\n",
       "        require(['plotly'], function(Plotly) {\n",
       "            window._Plotly = Plotly;\n",
       "        });\n",
       "        }\n",
       "        </script>\n",
       "        "
      ]
     },
     "metadata": {},
     "output_type": "display_data"
    }
   ],
   "source": [
    "import plotly.express as px\n",
    "import plotly.offline as pyo\n",
    "import plotly.graph_objs as go\n",
    "from plotly.subplots import make_subplots\n",
    "import plotly.figure_factory as ff\n",
    "\n",
    "pyo.init_notebook_mode(connected=True)"
   ]
  },
  {
   "cell_type": "code",
   "execution_count": 4,
   "id": "94578b71-4eee-47aa-89d8-2b22a5251865",
   "metadata": {},
   "outputs": [],
   "source": [
    "with open('Data/Data12/RF_result_12I1O.pkl', 'rb') as f:\n",
    "    result = pickle.load(f)"
   ]
  },
  {
   "cell_type": "code",
   "execution_count": 5,
   "id": "b4763213-b476-405b-b312-c69d8483b778",
   "metadata": {},
   "outputs": [
    {
     "data": {
      "text/plain": [
       "[(0,\n",
       "  'randomforestregressor',\n",
       "  ['Input 08',\n",
       "   'Input 09',\n",
       "   'Input 01',\n",
       "   'Input 03',\n",
       "   'Input 06',\n",
       "   'Input 07',\n",
       "   'Input 11',\n",
       "   'Input 04',\n",
       "   'Input 10',\n",
       "   'Input 02',\n",
       "   'Input 05',\n",
       "   'Input 12'],\n",
       "  {'r2': 0.8447922999521216,\n",
       "   'neg_root_mean_squared_error': -0.049480411923112165,\n",
       "   'total_zeros': 7203}),\n",
       " (1,\n",
       "  'randomforestregressor',\n",
       "  ['Input 08',\n",
       "   'Input 01',\n",
       "   'Input 06',\n",
       "   'Input 03',\n",
       "   'Input 12',\n",
       "   'Input 09',\n",
       "   'Input 11',\n",
       "   'Input 10',\n",
       "   'Input 04',\n",
       "   'Input 05',\n",
       "   'Input 07',\n",
       "   'Input 02'],\n",
       "  {'r2': 0.877309822156402,\n",
       "   'neg_root_mean_squared_error': -0.0389974404265591,\n",
       "   'total_zeros': 4279}),\n",
       " (2,\n",
       "  'randomforestregressor',\n",
       "  ['Input 08',\n",
       "   'Input 01',\n",
       "   'Input 06',\n",
       "   'Input 03',\n",
       "   'Input 05',\n",
       "   'Input 09',\n",
       "   'Input 12',\n",
       "   'Input 11',\n",
       "   'Input 04',\n",
       "   'Input 02',\n",
       "   'Input 07',\n",
       "   'Input 10'],\n",
       "  {'r2': 0.891913854838603,\n",
       "   'neg_root_mean_squared_error': -0.03648539188521682,\n",
       "   'total_zeros': 3008}),\n",
       " (3,\n",
       "  'randomforestregressor',\n",
       "  ['Input 08',\n",
       "   'Input 01',\n",
       "   'Input 06',\n",
       "   'Input 03',\n",
       "   'Input 09',\n",
       "   'Input 05',\n",
       "   'Input 12',\n",
       "   'Input 11',\n",
       "   'Input 07',\n",
       "   'Input 04',\n",
       "   'Input 02',\n",
       "   'Input 10'],\n",
       "  {'r2': 0.8929569340731659,\n",
       "   'neg_root_mean_squared_error': -0.03653132679809976,\n",
       "   'total_zeros': 4073}),\n",
       " (4,\n",
       "  'randomforestregressor',\n",
       "  ['Input 08',\n",
       "   'Input 01',\n",
       "   'Input 06',\n",
       "   'Input 03',\n",
       "   'Input 09',\n",
       "   'Input 05',\n",
       "   'Input 12',\n",
       "   'Input 11',\n",
       "   'Input 07',\n",
       "   'Input 04',\n",
       "   'Input 02',\n",
       "   'Input 10'],\n",
       "  {'r2': 0.8941910620184963,\n",
       "   'neg_root_mean_squared_error': -0.03633361227340141,\n",
       "   'total_zeros': 3418}),\n",
       " (5,\n",
       "  'randomforestregressor',\n",
       "  ['Input 08',\n",
       "   'Input 01',\n",
       "   'Input 06',\n",
       "   'Input 03',\n",
       "   'Input 09',\n",
       "   'Input 05',\n",
       "   'Input 12',\n",
       "   'Input 11',\n",
       "   'Input 07',\n",
       "   'Input 04',\n",
       "   'Input 02',\n",
       "   'Input 10'],\n",
       "  {'r2': 0.8941910620184963,\n",
       "   'neg_root_mean_squared_error': -0.03633361227340141,\n",
       "   'total_zeros': 3418}),\n",
       " (6,\n",
       "  'randomforestregressor',\n",
       "  ['Input 08',\n",
       "   'Input 01',\n",
       "   'Input 06',\n",
       "   'Input 03',\n",
       "   'Input 09',\n",
       "   'Input 05',\n",
       "   'Input 12',\n",
       "   'Input 11',\n",
       "   'Input 07',\n",
       "   'Input 04',\n",
       "   'Input 02',\n",
       "   'Input 10'],\n",
       "  {'r2': 0.8941910620184963,\n",
       "   'neg_root_mean_squared_error': -0.03633361227340141,\n",
       "   'total_zeros': 3418}),\n",
       " (7,\n",
       "  'randomforestregressor',\n",
       "  ['Input 08',\n",
       "   'Input 01',\n",
       "   'Input 06',\n",
       "   'Input 03',\n",
       "   'Input 09',\n",
       "   'Input 05',\n",
       "   'Input 12',\n",
       "   'Input 11',\n",
       "   'Input 07',\n",
       "   'Input 04',\n",
       "   'Input 02',\n",
       "   'Input 10'],\n",
       "  {'r2': 0.8941910620184963,\n",
       "   'neg_root_mean_squared_error': -0.03633361227340141,\n",
       "   'total_zeros': 3418}),\n",
       " (8,\n",
       "  'randomforestregressor',\n",
       "  ['Input 08',\n",
       "   'Input 01',\n",
       "   'Input 06',\n",
       "   'Input 03',\n",
       "   'Input 09',\n",
       "   'Input 05',\n",
       "   'Input 12',\n",
       "   'Input 11',\n",
       "   'Input 07',\n",
       "   'Input 04',\n",
       "   'Input 02',\n",
       "   'Input 10'],\n",
       "  {'r2': 0.8941910620184963,\n",
       "   'neg_root_mean_squared_error': -0.03633361227340141,\n",
       "   'total_zeros': 3418}),\n",
       " (9,\n",
       "  'randomforestregressor',\n",
       "  ['Input 08',\n",
       "   'Input 01',\n",
       "   'Input 06',\n",
       "   'Input 03',\n",
       "   'Input 09',\n",
       "   'Input 05',\n",
       "   'Input 12',\n",
       "   'Input 11',\n",
       "   'Input 07',\n",
       "   'Input 04',\n",
       "   'Input 02',\n",
       "   'Input 10'],\n",
       "  {'r2': 0.8941910620184963,\n",
       "   'neg_root_mean_squared_error': -0.03633361227340141,\n",
       "   'total_zeros': 3418}),\n",
       " (10,\n",
       "  'randomforestregressor',\n",
       "  ['Input 08',\n",
       "   'Input 01',\n",
       "   'Input 06',\n",
       "   'Input 03',\n",
       "   'Input 09',\n",
       "   'Input 05',\n",
       "   'Input 12',\n",
       "   'Input 11',\n",
       "   'Input 07',\n",
       "   'Input 04',\n",
       "   'Input 02',\n",
       "   'Input 10'],\n",
       "  {'r2': 0.8941910620184963,\n",
       "   'neg_root_mean_squared_error': -0.03633361227340141,\n",
       "   'total_zeros': 3418})]"
      ]
     },
     "execution_count": 5,
     "metadata": {},
     "output_type": "execute_result"
    }
   ],
   "source": [
    "result"
   ]
  },
  {
   "cell_type": "code",
   "execution_count": 6,
   "id": "7243dc87-96b6-4821-9925-bee6a4180acd",
   "metadata": {},
   "outputs": [
    {
     "data": {
      "text/html": [
       "<div><div id=98baf7c5-575e-4854-97f0-4a4c33b18b66 style=\"display:none; background-color:#9D6CFF; color:white; width:200px; height:30px; padding-left:5px; border-radius:4px; flex-direction:row; justify-content:space-around; align-items:center;\" onmouseover=\"this.style.backgroundColor='#BA9BF8'\" onmouseout=\"this.style.backgroundColor='#9D6CFF'\" onclick=\"window.commands?.execute('create-mitosheet-from-dataframe-output');\">See Full Dataframe in Mito</div> <script> if (window.commands.hasCommand('create-mitosheet-from-dataframe-output')) document.getElementById('98baf7c5-575e-4854-97f0-4a4c33b18b66').style.display = 'flex' </script> <table border=\"1\" class=\"dataframe\">\n",
       "  <thead>\n",
       "    <tr style=\"text-align: right;\">\n",
       "      <th></th>\n",
       "      <th>0</th>\n",
       "      <th>1</th>\n",
       "      <th>2</th>\n",
       "      <th>3</th>\n",
       "    </tr>\n",
       "  </thead>\n",
       "  <tbody>\n",
       "    <tr>\n",
       "      <th>0</th>\n",
       "      <td>0</td>\n",
       "      <td>randomforestregressor</td>\n",
       "      <td>[Input 08, Input 09, Input 01, Input 03, Input 06, Input 07, Input 11, Input 04, Input 10, Input 02, Input 05, Input 12]</td>\n",
       "      <td>{'r2': 0.8447922999521216, 'neg_root_mean_squared_error': -0.049480411923112165, 'total_zeros': 7203}</td>\n",
       "    </tr>\n",
       "    <tr>\n",
       "      <th>1</th>\n",
       "      <td>1</td>\n",
       "      <td>randomforestregressor</td>\n",
       "      <td>[Input 08, Input 01, Input 06, Input 03, Input 12, Input 09, Input 11, Input 10, Input 04, Input 05, Input 07, Input 02]</td>\n",
       "      <td>{'r2': 0.877309822156402, 'neg_root_mean_squared_error': -0.0389974404265591, 'total_zeros': 4279}</td>\n",
       "    </tr>\n",
       "    <tr>\n",
       "      <th>2</th>\n",
       "      <td>2</td>\n",
       "      <td>randomforestregressor</td>\n",
       "      <td>[Input 08, Input 01, Input 06, Input 03, Input 05, Input 09, Input 12, Input 11, Input 04, Input 02, Input 07, Input 10]</td>\n",
       "      <td>{'r2': 0.891913854838603, 'neg_root_mean_squared_error': -0.03648539188521682, 'total_zeros': 3008}</td>\n",
       "    </tr>\n",
       "    <tr>\n",
       "      <th>3</th>\n",
       "      <td>3</td>\n",
       "      <td>randomforestregressor</td>\n",
       "      <td>[Input 08, Input 01, Input 06, Input 03, Input 09, Input 05, Input 12, Input 11, Input 07, Input 04, Input 02, Input 10]</td>\n",
       "      <td>{'r2': 0.8929569340731659, 'neg_root_mean_squared_error': -0.03653132679809976, 'total_zeros': 4073}</td>\n",
       "    </tr>\n",
       "    <tr>\n",
       "      <th>4</th>\n",
       "      <td>4</td>\n",
       "      <td>randomforestregressor</td>\n",
       "      <td>[Input 08, Input 01, Input 06, Input 03, Input 09, Input 05, Input 12, Input 11, Input 07, Input 04, Input 02, Input 10]</td>\n",
       "      <td>{'r2': 0.8941910620184963, 'neg_root_mean_squared_error': -0.03633361227340141, 'total_zeros': 3418}</td>\n",
       "    </tr>\n",
       "    <tr>\n",
       "      <th>...</th>\n",
       "      <td>...</td>\n",
       "      <td>...</td>\n",
       "      <td>...</td>\n",
       "      <td>...</td>\n",
       "    </tr>\n",
       "    <tr>\n",
       "      <th>6</th>\n",
       "      <td>6</td>\n",
       "      <td>randomforestregressor</td>\n",
       "      <td>[Input 08, Input 01, Input 06, Input 03, Input 09, Input 05, Input 12, Input 11, Input 07, Input 04, Input 02, Input 10]</td>\n",
       "      <td>{'r2': 0.8941910620184963, 'neg_root_mean_squared_error': -0.03633361227340141, 'total_zeros': 3418}</td>\n",
       "    </tr>\n",
       "    <tr>\n",
       "      <th>7</th>\n",
       "      <td>7</td>\n",
       "      <td>randomforestregressor</td>\n",
       "      <td>[Input 08, Input 01, Input 06, Input 03, Input 09, Input 05, Input 12, Input 11, Input 07, Input 04, Input 02, Input 10]</td>\n",
       "      <td>{'r2': 0.8941910620184963, 'neg_root_mean_squared_error': -0.03633361227340141, 'total_zeros': 3418}</td>\n",
       "    </tr>\n",
       "    <tr>\n",
       "      <th>8</th>\n",
       "      <td>8</td>\n",
       "      <td>randomforestregressor</td>\n",
       "      <td>[Input 08, Input 01, Input 06, Input 03, Input 09, Input 05, Input 12, Input 11, Input 07, Input 04, Input 02, Input 10]</td>\n",
       "      <td>{'r2': 0.8941910620184963, 'neg_root_mean_squared_error': -0.03633361227340141, 'total_zeros': 3418}</td>\n",
       "    </tr>\n",
       "    <tr>\n",
       "      <th>9</th>\n",
       "      <td>9</td>\n",
       "      <td>randomforestregressor</td>\n",
       "      <td>[Input 08, Input 01, Input 06, Input 03, Input 09, Input 05, Input 12, Input 11, Input 07, Input 04, Input 02, Input 10]</td>\n",
       "      <td>{'r2': 0.8941910620184963, 'neg_root_mean_squared_error': -0.03633361227340141, 'total_zeros': 3418}</td>\n",
       "    </tr>\n",
       "    <tr>\n",
       "      <th>10</th>\n",
       "      <td>10</td>\n",
       "      <td>randomforestregressor</td>\n",
       "      <td>[Input 08, Input 01, Input 06, Input 03, Input 09, Input 05, Input 12, Input 11, Input 07, Input 04, Input 02, Input 10]</td>\n",
       "      <td>{'r2': 0.8941910620184963, 'neg_root_mean_squared_error': -0.03633361227340141, 'total_zeros': 3418}</td>\n",
       "    </tr>\n",
       "  </tbody>\n",
       "</table></div>"
      ],
      "text/plain": [
       "     0                      1  \\\n",
       "0    0  randomforestregressor   \n",
       "1    1  randomforestregressor   \n",
       "2    2  randomforestregressor   \n",
       "3    3  randomforestregressor   \n",
       "4    4  randomforestregressor   \n",
       "5    5  randomforestregressor   \n",
       "6    6  randomforestregressor   \n",
       "7    7  randomforestregressor   \n",
       "8    8  randomforestregressor   \n",
       "9    9  randomforestregressor   \n",
       "10  10  randomforestregressor   \n",
       "\n",
       "                                                    2  \\\n",
       "0   [Input 08, Input 09, Input 01, Input 03, Input...   \n",
       "1   [Input 08, Input 01, Input 06, Input 03, Input...   \n",
       "2   [Input 08, Input 01, Input 06, Input 03, Input...   \n",
       "3   [Input 08, Input 01, Input 06, Input 03, Input...   \n",
       "4   [Input 08, Input 01, Input 06, Input 03, Input...   \n",
       "5   [Input 08, Input 01, Input 06, Input 03, Input...   \n",
       "6   [Input 08, Input 01, Input 06, Input 03, Input...   \n",
       "7   [Input 08, Input 01, Input 06, Input 03, Input...   \n",
       "8   [Input 08, Input 01, Input 06, Input 03, Input...   \n",
       "9   [Input 08, Input 01, Input 06, Input 03, Input...   \n",
       "10  [Input 08, Input 01, Input 06, Input 03, Input...   \n",
       "\n",
       "                                                    3  \n",
       "0   {'r2': 0.8447922999521216, 'neg_root_mean_squa...  \n",
       "1   {'r2': 0.877309822156402, 'neg_root_mean_squar...  \n",
       "2   {'r2': 0.891913854838603, 'neg_root_mean_squar...  \n",
       "3   {'r2': 0.8929569340731659, 'neg_root_mean_squa...  \n",
       "4   {'r2': 0.8941910620184963, 'neg_root_mean_squa...  \n",
       "5   {'r2': 0.8941910620184963, 'neg_root_mean_squa...  \n",
       "6   {'r2': 0.8941910620184963, 'neg_root_mean_squa...  \n",
       "7   {'r2': 0.8941910620184963, 'neg_root_mean_squa...  \n",
       "8   {'r2': 0.8941910620184963, 'neg_root_mean_squa...  \n",
       "9   {'r2': 0.8941910620184963, 'neg_root_mean_squa...  \n",
       "10  {'r2': 0.8941910620184963, 'neg_root_mean_squa...  "
      ]
     },
     "execution_count": 6,
     "metadata": {},
     "output_type": "execute_result"
    }
   ],
   "source": [
    "df_r = pd.DataFrame(result)\n",
    "df_r"
   ]
  },
  {
   "cell_type": "code",
   "execution_count": 7,
   "id": "4cdef42d-3561-475a-a782-0c98efb5675e",
   "metadata": {},
   "outputs": [
    {
     "data": {
      "text/html": [
       "<div><div id=b4022a8d-6532-414f-ad8e-e2a7af0a9b7a style=\"display:none; background-color:#9D6CFF; color:white; width:200px; height:30px; padding-left:5px; border-radius:4px; flex-direction:row; justify-content:space-around; align-items:center;\" onmouseover=\"this.style.backgroundColor='#BA9BF8'\" onmouseout=\"this.style.backgroundColor='#9D6CFF'\" onclick=\"window.commands?.execute('create-mitosheet-from-dataframe-output');\">See Full Dataframe in Mito</div> <script> if (window.commands.hasCommand('create-mitosheet-from-dataframe-output')) document.getElementById('b4022a8d-6532-414f-ad8e-e2a7af0a9b7a').style.display = 'flex' </script> <table border=\"1\" class=\"dataframe\">\n",
       "  <thead>\n",
       "    <tr style=\"text-align: right;\">\n",
       "      <th></th>\n",
       "      <th>r2</th>\n",
       "      <th>neg_root_mean_squared_error</th>\n",
       "      <th>total_zeros</th>\n",
       "    </tr>\n",
       "  </thead>\n",
       "  <tbody>\n",
       "    <tr>\n",
       "      <th>0</th>\n",
       "      <td>0.844792</td>\n",
       "      <td>-0.049480</td>\n",
       "      <td>7203.0</td>\n",
       "    </tr>\n",
       "    <tr>\n",
       "      <th>1</th>\n",
       "      <td>0.877310</td>\n",
       "      <td>-0.038997</td>\n",
       "      <td>4279.0</td>\n",
       "    </tr>\n",
       "    <tr>\n",
       "      <th>2</th>\n",
       "      <td>0.891914</td>\n",
       "      <td>-0.036485</td>\n",
       "      <td>3008.0</td>\n",
       "    </tr>\n",
       "    <tr>\n",
       "      <th>3</th>\n",
       "      <td>0.892957</td>\n",
       "      <td>-0.036531</td>\n",
       "      <td>4073.0</td>\n",
       "    </tr>\n",
       "    <tr>\n",
       "      <th>4</th>\n",
       "      <td>0.894191</td>\n",
       "      <td>-0.036334</td>\n",
       "      <td>3418.0</td>\n",
       "    </tr>\n",
       "    <tr>\n",
       "      <th>...</th>\n",
       "      <td>...</td>\n",
       "      <td>...</td>\n",
       "      <td>...</td>\n",
       "    </tr>\n",
       "    <tr>\n",
       "      <th>6</th>\n",
       "      <td>0.894191</td>\n",
       "      <td>-0.036334</td>\n",
       "      <td>3418.0</td>\n",
       "    </tr>\n",
       "    <tr>\n",
       "      <th>7</th>\n",
       "      <td>0.894191</td>\n",
       "      <td>-0.036334</td>\n",
       "      <td>3418.0</td>\n",
       "    </tr>\n",
       "    <tr>\n",
       "      <th>8</th>\n",
       "      <td>0.894191</td>\n",
       "      <td>-0.036334</td>\n",
       "      <td>3418.0</td>\n",
       "    </tr>\n",
       "    <tr>\n",
       "      <th>9</th>\n",
       "      <td>0.894191</td>\n",
       "      <td>-0.036334</td>\n",
       "      <td>3418.0</td>\n",
       "    </tr>\n",
       "    <tr>\n",
       "      <th>10</th>\n",
       "      <td>0.894191</td>\n",
       "      <td>-0.036334</td>\n",
       "      <td>3418.0</td>\n",
       "    </tr>\n",
       "  </tbody>\n",
       "</table></div>"
      ],
      "text/plain": [
       "          r2  neg_root_mean_squared_error  total_zeros\n",
       "0   0.844792                    -0.049480       7203.0\n",
       "1   0.877310                    -0.038997       4279.0\n",
       "2   0.891914                    -0.036485       3008.0\n",
       "3   0.892957                    -0.036531       4073.0\n",
       "4   0.894191                    -0.036334       3418.0\n",
       "5   0.894191                    -0.036334       3418.0\n",
       "6   0.894191                    -0.036334       3418.0\n",
       "7   0.894191                    -0.036334       3418.0\n",
       "8   0.894191                    -0.036334       3418.0\n",
       "9   0.894191                    -0.036334       3418.0\n",
       "10  0.894191                    -0.036334       3418.0"
      ]
     },
     "execution_count": 7,
     "metadata": {},
     "output_type": "execute_result"
    }
   ],
   "source": [
    "r2 = df_r[3].apply(pd.Series)\n",
    "r2"
   ]
  },
  {
   "cell_type": "code",
   "execution_count": 8,
   "id": "916c3cc5-5c18-4eae-8fce-555bc2852d5d",
   "metadata": {},
   "outputs": [
    {
     "data": {
      "application/vnd.plotly.v1+json": {
       "config": {
        "plotlyServerURL": "https://plot.ly"
       },
       "data": [
        {
         "name": "R2",
         "type": "scatter",
         "x": [
          0,
          1,
          2,
          3,
          4,
          5,
          6,
          7,
          8,
          9,
          10
         ],
         "xaxis": "x",
         "y": [
          0.8447922999521216,
          0.877309822156402,
          0.891913854838603,
          0.8929569340731659,
          0.8941910620184963,
          0.8941910620184963,
          0.8941910620184963,
          0.8941910620184963,
          0.8941910620184963,
          0.8941910620184963,
          0.8941910620184963
         ],
         "yaxis": "y"
        },
        {
         "name": "RMSE",
         "type": "scatter",
         "x": [
          0,
          1,
          2,
          3,
          4,
          5,
          6,
          7,
          8,
          9,
          10
         ],
         "xaxis": "x",
         "y": [
          0.049480411923112165,
          0.0389974404265591,
          0.03648539188521682,
          0.03653132679809976,
          0.03633361227340141,
          0.03633361227340141,
          0.03633361227340141,
          0.03633361227340141,
          0.03633361227340141,
          0.03633361227340141,
          0.03633361227340141
         ],
         "yaxis": "y2"
        }
       ],
       "layout": {
        "autosize": false,
        "height": 500,
        "template": {
         "data": {
          "bar": [
           {
            "error_x": {
             "color": "#2a3f5f"
            },
            "error_y": {
             "color": "#2a3f5f"
            },
            "marker": {
             "line": {
              "color": "#E5ECF6",
              "width": 0.5
             },
             "pattern": {
              "fillmode": "overlay",
              "size": 10,
              "solidity": 0.2
             }
            },
            "type": "bar"
           }
          ],
          "barpolar": [
           {
            "marker": {
             "line": {
              "color": "#E5ECF6",
              "width": 0.5
             },
             "pattern": {
              "fillmode": "overlay",
              "size": 10,
              "solidity": 0.2
             }
            },
            "type": "barpolar"
           }
          ],
          "carpet": [
           {
            "aaxis": {
             "endlinecolor": "#2a3f5f",
             "gridcolor": "white",
             "linecolor": "white",
             "minorgridcolor": "white",
             "startlinecolor": "#2a3f5f"
            },
            "baxis": {
             "endlinecolor": "#2a3f5f",
             "gridcolor": "white",
             "linecolor": "white",
             "minorgridcolor": "white",
             "startlinecolor": "#2a3f5f"
            },
            "type": "carpet"
           }
          ],
          "choropleth": [
           {
            "colorbar": {
             "outlinewidth": 0,
             "ticks": ""
            },
            "type": "choropleth"
           }
          ],
          "contour": [
           {
            "colorbar": {
             "outlinewidth": 0,
             "ticks": ""
            },
            "colorscale": [
             [
              0,
              "#0d0887"
             ],
             [
              0.1111111111111111,
              "#46039f"
             ],
             [
              0.2222222222222222,
              "#7201a8"
             ],
             [
              0.3333333333333333,
              "#9c179e"
             ],
             [
              0.4444444444444444,
              "#bd3786"
             ],
             [
              0.5555555555555556,
              "#d8576b"
             ],
             [
              0.6666666666666666,
              "#ed7953"
             ],
             [
              0.7777777777777778,
              "#fb9f3a"
             ],
             [
              0.8888888888888888,
              "#fdca26"
             ],
             [
              1,
              "#f0f921"
             ]
            ],
            "type": "contour"
           }
          ],
          "contourcarpet": [
           {
            "colorbar": {
             "outlinewidth": 0,
             "ticks": ""
            },
            "type": "contourcarpet"
           }
          ],
          "heatmap": [
           {
            "colorbar": {
             "outlinewidth": 0,
             "ticks": ""
            },
            "colorscale": [
             [
              0,
              "#0d0887"
             ],
             [
              0.1111111111111111,
              "#46039f"
             ],
             [
              0.2222222222222222,
              "#7201a8"
             ],
             [
              0.3333333333333333,
              "#9c179e"
             ],
             [
              0.4444444444444444,
              "#bd3786"
             ],
             [
              0.5555555555555556,
              "#d8576b"
             ],
             [
              0.6666666666666666,
              "#ed7953"
             ],
             [
              0.7777777777777778,
              "#fb9f3a"
             ],
             [
              0.8888888888888888,
              "#fdca26"
             ],
             [
              1,
              "#f0f921"
             ]
            ],
            "type": "heatmap"
           }
          ],
          "heatmapgl": [
           {
            "colorbar": {
             "outlinewidth": 0,
             "ticks": ""
            },
            "colorscale": [
             [
              0,
              "#0d0887"
             ],
             [
              0.1111111111111111,
              "#46039f"
             ],
             [
              0.2222222222222222,
              "#7201a8"
             ],
             [
              0.3333333333333333,
              "#9c179e"
             ],
             [
              0.4444444444444444,
              "#bd3786"
             ],
             [
              0.5555555555555556,
              "#d8576b"
             ],
             [
              0.6666666666666666,
              "#ed7953"
             ],
             [
              0.7777777777777778,
              "#fb9f3a"
             ],
             [
              0.8888888888888888,
              "#fdca26"
             ],
             [
              1,
              "#f0f921"
             ]
            ],
            "type": "heatmapgl"
           }
          ],
          "histogram": [
           {
            "marker": {
             "pattern": {
              "fillmode": "overlay",
              "size": 10,
              "solidity": 0.2
             }
            },
            "type": "histogram"
           }
          ],
          "histogram2d": [
           {
            "colorbar": {
             "outlinewidth": 0,
             "ticks": ""
            },
            "colorscale": [
             [
              0,
              "#0d0887"
             ],
             [
              0.1111111111111111,
              "#46039f"
             ],
             [
              0.2222222222222222,
              "#7201a8"
             ],
             [
              0.3333333333333333,
              "#9c179e"
             ],
             [
              0.4444444444444444,
              "#bd3786"
             ],
             [
              0.5555555555555556,
              "#d8576b"
             ],
             [
              0.6666666666666666,
              "#ed7953"
             ],
             [
              0.7777777777777778,
              "#fb9f3a"
             ],
             [
              0.8888888888888888,
              "#fdca26"
             ],
             [
              1,
              "#f0f921"
             ]
            ],
            "type": "histogram2d"
           }
          ],
          "histogram2dcontour": [
           {
            "colorbar": {
             "outlinewidth": 0,
             "ticks": ""
            },
            "colorscale": [
             [
              0,
              "#0d0887"
             ],
             [
              0.1111111111111111,
              "#46039f"
             ],
             [
              0.2222222222222222,
              "#7201a8"
             ],
             [
              0.3333333333333333,
              "#9c179e"
             ],
             [
              0.4444444444444444,
              "#bd3786"
             ],
             [
              0.5555555555555556,
              "#d8576b"
             ],
             [
              0.6666666666666666,
              "#ed7953"
             ],
             [
              0.7777777777777778,
              "#fb9f3a"
             ],
             [
              0.8888888888888888,
              "#fdca26"
             ],
             [
              1,
              "#f0f921"
             ]
            ],
            "type": "histogram2dcontour"
           }
          ],
          "mesh3d": [
           {
            "colorbar": {
             "outlinewidth": 0,
             "ticks": ""
            },
            "type": "mesh3d"
           }
          ],
          "parcoords": [
           {
            "line": {
             "colorbar": {
              "outlinewidth": 0,
              "ticks": ""
             }
            },
            "type": "parcoords"
           }
          ],
          "pie": [
           {
            "automargin": true,
            "type": "pie"
           }
          ],
          "scatter": [
           {
            "marker": {
             "colorbar": {
              "outlinewidth": 0,
              "ticks": ""
             }
            },
            "type": "scatter"
           }
          ],
          "scatter3d": [
           {
            "line": {
             "colorbar": {
              "outlinewidth": 0,
              "ticks": ""
             }
            },
            "marker": {
             "colorbar": {
              "outlinewidth": 0,
              "ticks": ""
             }
            },
            "type": "scatter3d"
           }
          ],
          "scattercarpet": [
           {
            "marker": {
             "colorbar": {
              "outlinewidth": 0,
              "ticks": ""
             }
            },
            "type": "scattercarpet"
           }
          ],
          "scattergeo": [
           {
            "marker": {
             "colorbar": {
              "outlinewidth": 0,
              "ticks": ""
             }
            },
            "type": "scattergeo"
           }
          ],
          "scattergl": [
           {
            "marker": {
             "colorbar": {
              "outlinewidth": 0,
              "ticks": ""
             }
            },
            "type": "scattergl"
           }
          ],
          "scattermapbox": [
           {
            "marker": {
             "colorbar": {
              "outlinewidth": 0,
              "ticks": ""
             }
            },
            "type": "scattermapbox"
           }
          ],
          "scatterpolar": [
           {
            "marker": {
             "colorbar": {
              "outlinewidth": 0,
              "ticks": ""
             }
            },
            "type": "scatterpolar"
           }
          ],
          "scatterpolargl": [
           {
            "marker": {
             "colorbar": {
              "outlinewidth": 0,
              "ticks": ""
             }
            },
            "type": "scatterpolargl"
           }
          ],
          "scatterternary": [
           {
            "marker": {
             "colorbar": {
              "outlinewidth": 0,
              "ticks": ""
             }
            },
            "type": "scatterternary"
           }
          ],
          "surface": [
           {
            "colorbar": {
             "outlinewidth": 0,
             "ticks": ""
            },
            "colorscale": [
             [
              0,
              "#0d0887"
             ],
             [
              0.1111111111111111,
              "#46039f"
             ],
             [
              0.2222222222222222,
              "#7201a8"
             ],
             [
              0.3333333333333333,
              "#9c179e"
             ],
             [
              0.4444444444444444,
              "#bd3786"
             ],
             [
              0.5555555555555556,
              "#d8576b"
             ],
             [
              0.6666666666666666,
              "#ed7953"
             ],
             [
              0.7777777777777778,
              "#fb9f3a"
             ],
             [
              0.8888888888888888,
              "#fdca26"
             ],
             [
              1,
              "#f0f921"
             ]
            ],
            "type": "surface"
           }
          ],
          "table": [
           {
            "cells": {
             "fill": {
              "color": "#EBF0F8"
             },
             "line": {
              "color": "white"
             }
            },
            "header": {
             "fill": {
              "color": "#C8D4E3"
             },
             "line": {
              "color": "white"
             }
            },
            "type": "table"
           }
          ]
         },
         "layout": {
          "annotationdefaults": {
           "arrowcolor": "#2a3f5f",
           "arrowhead": 0,
           "arrowwidth": 1
          },
          "autotypenumbers": "strict",
          "coloraxis": {
           "colorbar": {
            "outlinewidth": 0,
            "ticks": ""
           }
          },
          "colorscale": {
           "diverging": [
            [
             0,
             "#8e0152"
            ],
            [
             0.1,
             "#c51b7d"
            ],
            [
             0.2,
             "#de77ae"
            ],
            [
             0.3,
             "#f1b6da"
            ],
            [
             0.4,
             "#fde0ef"
            ],
            [
             0.5,
             "#f7f7f7"
            ],
            [
             0.6,
             "#e6f5d0"
            ],
            [
             0.7,
             "#b8e186"
            ],
            [
             0.8,
             "#7fbc41"
            ],
            [
             0.9,
             "#4d9221"
            ],
            [
             1,
             "#276419"
            ]
           ],
           "sequential": [
            [
             0,
             "#0d0887"
            ],
            [
             0.1111111111111111,
             "#46039f"
            ],
            [
             0.2222222222222222,
             "#7201a8"
            ],
            [
             0.3333333333333333,
             "#9c179e"
            ],
            [
             0.4444444444444444,
             "#bd3786"
            ],
            [
             0.5555555555555556,
             "#d8576b"
            ],
            [
             0.6666666666666666,
             "#ed7953"
            ],
            [
             0.7777777777777778,
             "#fb9f3a"
            ],
            [
             0.8888888888888888,
             "#fdca26"
            ],
            [
             1,
             "#f0f921"
            ]
           ],
           "sequentialminus": [
            [
             0,
             "#0d0887"
            ],
            [
             0.1111111111111111,
             "#46039f"
            ],
            [
             0.2222222222222222,
             "#7201a8"
            ],
            [
             0.3333333333333333,
             "#9c179e"
            ],
            [
             0.4444444444444444,
             "#bd3786"
            ],
            [
             0.5555555555555556,
             "#d8576b"
            ],
            [
             0.6666666666666666,
             "#ed7953"
            ],
            [
             0.7777777777777778,
             "#fb9f3a"
            ],
            [
             0.8888888888888888,
             "#fdca26"
            ],
            [
             1,
             "#f0f921"
            ]
           ]
          },
          "colorway": [
           "#636efa",
           "#EF553B",
           "#00cc96",
           "#ab63fa",
           "#FFA15A",
           "#19d3f3",
           "#FF6692",
           "#B6E880",
           "#FF97FF",
           "#FECB52"
          ],
          "font": {
           "color": "#2a3f5f"
          },
          "geo": {
           "bgcolor": "white",
           "lakecolor": "white",
           "landcolor": "#E5ECF6",
           "showlakes": true,
           "showland": true,
           "subunitcolor": "white"
          },
          "hoverlabel": {
           "align": "left"
          },
          "hovermode": "closest",
          "mapbox": {
           "style": "light"
          },
          "paper_bgcolor": "white",
          "plot_bgcolor": "#E5ECF6",
          "polar": {
           "angularaxis": {
            "gridcolor": "white",
            "linecolor": "white",
            "ticks": ""
           },
           "bgcolor": "#E5ECF6",
           "radialaxis": {
            "gridcolor": "white",
            "linecolor": "white",
            "ticks": ""
           }
          },
          "scene": {
           "xaxis": {
            "backgroundcolor": "#E5ECF6",
            "gridcolor": "white",
            "gridwidth": 2,
            "linecolor": "white",
            "showbackground": true,
            "ticks": "",
            "zerolinecolor": "white"
           },
           "yaxis": {
            "backgroundcolor": "#E5ECF6",
            "gridcolor": "white",
            "gridwidth": 2,
            "linecolor": "white",
            "showbackground": true,
            "ticks": "",
            "zerolinecolor": "white"
           },
           "zaxis": {
            "backgroundcolor": "#E5ECF6",
            "gridcolor": "white",
            "gridwidth": 2,
            "linecolor": "white",
            "showbackground": true,
            "ticks": "",
            "zerolinecolor": "white"
           }
          },
          "shapedefaults": {
           "line": {
            "color": "#2a3f5f"
           }
          },
          "ternary": {
           "aaxis": {
            "gridcolor": "white",
            "linecolor": "white",
            "ticks": ""
           },
           "baxis": {
            "gridcolor": "white",
            "linecolor": "white",
            "ticks": ""
           },
           "bgcolor": "#E5ECF6",
           "caxis": {
            "gridcolor": "white",
            "linecolor": "white",
            "ticks": ""
           }
          },
          "title": {
           "x": 0.05
          },
          "xaxis": {
           "automargin": true,
           "gridcolor": "white",
           "linecolor": "white",
           "ticks": "",
           "title": {
            "standoff": 15
           },
           "zerolinecolor": "white",
           "zerolinewidth": 2
          },
          "yaxis": {
           "automargin": true,
           "gridcolor": "white",
           "linecolor": "white",
           "ticks": "",
           "title": {
            "standoff": 15
           },
           "zerolinecolor": "white",
           "zerolinewidth": 2
          }
         }
        },
        "title": {
         "text": "R2 and RMSE Per Iteration"
        },
        "width": 900,
        "xaxis": {
         "anchor": "y",
         "autorange": true,
         "domain": [
          0,
          0.94
         ],
         "range": [
          -0.6254023173479241,
          10.625402317347923
         ],
         "title": {
          "text": "Iteration"
         },
         "type": "linear"
        },
        "yaxis": {
         "anchor": "x",
         "autorange": true,
         "domain": [
          0,
          1
         ],
         "range": [
          0.8413141339955764,
          0.8976692279750415
         ],
         "title": {
          "text": "R2"
         },
         "type": "linear"
        },
        "yaxis2": {
         "anchor": "x",
         "autorange": true,
         "overlaying": "y",
         "range": [
          0.03540794634441108,
          0.05040607785210249
         ],
         "side": "right",
         "title": {
          "text": "RMSE"
         },
         "type": "linear"
        }
       }
      },
      "image/png": "[encoded data removed]",
      "text/html": [
       "<div>                            <div id=\"cc0773d0-c0ff-4370-816a-cf07d3ac6f1b\" class=\"plotly-graph-div\" style=\"height:500px; width:900px;\"></div>            <script type=\"text/javascript\">                require([\"plotly\"], function(Plotly) {                    window.PLOTLYENV=window.PLOTLYENV || {};                                    if (document.getElementById(\"cc0773d0-c0ff-4370-816a-cf07d3ac6f1b\")) {                    Plotly.newPlot(                        \"cc0773d0-c0ff-4370-816a-cf07d3ac6f1b\",                        [{\"name\":\"R2\",\"type\":\"scatter\",\"x\":[0,1,2,3,4,5,6,7,8,9,10],\"xaxis\":\"x\",\"y\":[0.8447922999521216,0.877309822156402,0.891913854838603,0.8929569340731659,0.8941910620184963,0.8941910620184963,0.8941910620184963,0.8941910620184963,0.8941910620184963,0.8941910620184963,0.8941910620184963],\"yaxis\":\"y\"},{\"name\":\"RMSE\",\"type\":\"scatter\",\"x\":[0,1,2,3,4,5,6,7,8,9,10],\"xaxis\":\"x\",\"y\":[0.049480411923112165,0.0389974404265591,0.03648539188521682,0.03653132679809976,0.03633361227340141,0.03633361227340141,0.03633361227340141,0.03633361227340141,0.03633361227340141,0.03633361227340141,0.03633361227340141],\"yaxis\":\"y2\"}],                        {\"autosize\":false,\"height\":500,\"template\":{\"data\":{\"bar\":[{\"error_x\":{\"color\":\"#2a3f5f\"},\"error_y\":{\"color\":\"#2a3f5f\"},\"marker\":{\"line\":{\"color\":\"#E5ECF6\",\"width\":0.5},\"pattern\":{\"fillmode\":\"overlay\",\"size\":10,\"solidity\":0.2}},\"type\":\"bar\"}],\"barpolar\":[{\"marker\":{\"line\":{\"color\":\"#E5ECF6\",\"width\":0.5},\"pattern\":{\"fillmode\":\"overlay\",\"size\":10,\"solidity\":0.2}},\"type\":\"barpolar\"}],\"carpet\":[{\"aaxis\":{\"endlinecolor\":\"#2a3f5f\",\"gridcolor\":\"white\",\"linecolor\":\"white\",\"minorgridcolor\":\"white\",\"startlinecolor\":\"#2a3f5f\"},\"baxis\":{\"endlinecolor\":\"#2a3f5f\",\"gridcolor\":\"white\",\"linecolor\":\"white\",\"minorgridcolor\":\"white\",\"startlinecolor\":\"#2a3f5f\"},\"type\":\"carpet\"}],\"choropleth\":[{\"colorbar\":{\"outlinewidth\":0,\"ticks\":\"\"},\"type\":\"choropleth\"}],\"contour\":[{\"colorbar\":{\"outlinewidth\":0,\"ticks\":\"\"},\"colorscale\":[[0.0,\"#0d0887\"],[0.1111111111111111,\"#46039f\"],[0.2222222222222222,\"#7201a8\"],[0.3333333333333333,\"#9c179e\"],[0.4444444444444444,\"#bd3786\"],[0.5555555555555556,\"#d8576b\"],[0.6666666666666666,\"#ed7953\"],[0.7777777777777778,\"#fb9f3a\"],[0.8888888888888888,\"#fdca26\"],[1.0,\"#f0f921\"]],\"type\":\"contour\"}],\"contourcarpet\":[{\"colorbar\":{\"outlinewidth\":0,\"ticks\":\"\"},\"type\":\"contourcarpet\"}],\"heatmap\":[{\"colorbar\":{\"outlinewidth\":0,\"ticks\":\"\"},\"colorscale\":[[0.0,\"#0d0887\"],[0.1111111111111111,\"#46039f\"],[0.2222222222222222,\"#7201a8\"],[0.3333333333333333,\"#9c179e\"],[0.4444444444444444,\"#bd3786\"],[0.5555555555555556,\"#d8576b\"],[0.6666666666666666,\"#ed7953\"],[0.7777777777777778,\"#fb9f3a\"],[0.8888888888888888,\"#fdca26\"],[1.0,\"#f0f921\"]],\"type\":\"heatmap\"}],\"heatmapgl\":[{\"colorbar\":{\"outlinewidth\":0,\"ticks\":\"\"},\"colorscale\":[[0.0,\"#0d0887\"],[0.1111111111111111,\"#46039f\"],[0.2222222222222222,\"#7201a8\"],[0.3333333333333333,\"#9c179e\"],[0.4444444444444444,\"#bd3786\"],[0.5555555555555556,\"#d8576b\"],[0.6666666666666666,\"#ed7953\"],[0.7777777777777778,\"#fb9f3a\"],[0.8888888888888888,\"#fdca26\"],[1.0,\"#f0f921\"]],\"type\":\"heatmapgl\"}],\"histogram\":[{\"marker\":{\"pattern\":{\"fillmode\":\"overlay\",\"size\":10,\"solidity\":0.2}},\"type\":\"histogram\"}],\"histogram2d\":[{\"colorbar\":{\"outlinewidth\":0,\"ticks\":\"\"},\"colorscale\":[[0.0,\"#0d0887\"],[0.1111111111111111,\"#46039f\"],[0.2222222222222222,\"#7201a8\"],[0.3333333333333333,\"#9c179e\"],[0.4444444444444444,\"#bd3786\"],[0.5555555555555556,\"#d8576b\"],[0.6666666666666666,\"#ed7953\"],[0.7777777777777778,\"#fb9f3a\"],[0.8888888888888888,\"#fdca26\"],[1.0,\"#f0f921\"]],\"type\":\"histogram2d\"}],\"histogram2dcontour\":[{\"colorbar\":{\"outlinewidth\":0,\"ticks\":\"\"},\"colorscale\":[[0.0,\"#0d0887\"],[0.1111111111111111,\"#46039f\"],[0.2222222222222222,\"#7201a8\"],[0.3333333333333333,\"#9c179e\"],[0.4444444444444444,\"#bd3786\"],[0.5555555555555556,\"#d8576b\"],[0.6666666666666666,\"#ed7953\"],[0.7777777777777778,\"#fb9f3a\"],[0.8888888888888888,\"#fdca26\"],[1.0,\"#f0f921\"]],\"type\":\"histogram2dcontour\"}],\"mesh3d\":[{\"colorbar\":{\"outlinewidth\":0,\"ticks\":\"\"},\"type\":\"mesh3d\"}],\"parcoords\":[{\"line\":{\"colorbar\":{\"outlinewidth\":0,\"ticks\":\"\"}},\"type\":\"parcoords\"}],\"pie\":[{\"automargin\":true,\"type\":\"pie\"}],\"scatter\":[{\"marker\":{\"colorbar\":{\"outlinewidth\":0,\"ticks\":\"\"}},\"type\":\"scatter\"}],\"scatter3d\":[{\"line\":{\"colorbar\":{\"outlinewidth\":0,\"ticks\":\"\"}},\"marker\":{\"colorbar\":{\"outlinewidth\":0,\"ticks\":\"\"}},\"type\":\"scatter3d\"}],\"scattercarpet\":[{\"marker\":{\"colorbar\":{\"outlinewidth\":0,\"ticks\":\"\"}},\"type\":\"scattercarpet\"}],\"scattergeo\":[{\"marker\":{\"colorbar\":{\"outlinewidth\":0,\"ticks\":\"\"}},\"type\":\"scattergeo\"}],\"scattergl\":[{\"marker\":{\"colorbar\":{\"outlinewidth\":0,\"ticks\":\"\"}},\"type\":\"scattergl\"}],\"scattermapbox\":[{\"marker\":{\"colorbar\":{\"outlinewidth\":0,\"ticks\":\"\"}},\"type\":\"scattermapbox\"}],\"scatterpolar\":[{\"marker\":{\"colorbar\":{\"outlinewidth\":0,\"ticks\":\"\"}},\"type\":\"scatterpolar\"}],\"scatterpolargl\":[{\"marker\":{\"colorbar\":{\"outlinewidth\":0,\"ticks\":\"\"}},\"type\":\"scatterpolargl\"}],\"scatterternary\":[{\"marker\":{\"colorbar\":{\"outlinewidth\":0,\"ticks\":\"\"}},\"type\":\"scatterternary\"}],\"surface\":[{\"colorbar\":{\"outlinewidth\":0,\"ticks\":\"\"},\"colorscale\":[[0.0,\"#0d0887\"],[0.1111111111111111,\"#46039f\"],[0.2222222222222222,\"#7201a8\"],[0.3333333333333333,\"#9c179e\"],[0.4444444444444444,\"#bd3786\"],[0.5555555555555556,\"#d8576b\"],[0.6666666666666666,\"#ed7953\"],[0.7777777777777778,\"#fb9f3a\"],[0.8888888888888888,\"#fdca26\"],[1.0,\"#f0f921\"]],\"type\":\"surface\"}],\"table\":[{\"cells\":{\"fill\":{\"color\":\"#EBF0F8\"},\"line\":{\"color\":\"white\"}},\"header\":{\"fill\":{\"color\":\"#C8D4E3\"},\"line\":{\"color\":\"white\"}},\"type\":\"table\"}]},\"layout\":{\"annotationdefaults\":{\"arrowcolor\":\"#2a3f5f\",\"arrowhead\":0,\"arrowwidth\":1},\"autotypenumbers\":\"strict\",\"coloraxis\":{\"colorbar\":{\"outlinewidth\":0,\"ticks\":\"\"}},\"colorscale\":{\"diverging\":[[0,\"#8e0152\"],[0.1,\"#c51b7d\"],[0.2,\"#de77ae\"],[0.3,\"#f1b6da\"],[0.4,\"#fde0ef\"],[0.5,\"#f7f7f7\"],[0.6,\"#e6f5d0\"],[0.7,\"#b8e186\"],[0.8,\"#7fbc41\"],[0.9,\"#4d9221\"],[1,\"#276419\"]],\"sequential\":[[0.0,\"#0d0887\"],[0.1111111111111111,\"#46039f\"],[0.2222222222222222,\"#7201a8\"],[0.3333333333333333,\"#9c179e\"],[0.4444444444444444,\"#bd3786\"],[0.5555555555555556,\"#d8576b\"],[0.6666666666666666,\"#ed7953\"],[0.7777777777777778,\"#fb9f3a\"],[0.8888888888888888,\"#fdca26\"],[1.0,\"#f0f921\"]],\"sequentialminus\":[[0.0,\"#0d0887\"],[0.1111111111111111,\"#46039f\"],[0.2222222222222222,\"#7201a8\"],[0.3333333333333333,\"#9c179e\"],[0.4444444444444444,\"#bd3786\"],[0.5555555555555556,\"#d8576b\"],[0.6666666666666666,\"#ed7953\"],[0.7777777777777778,\"#fb9f3a\"],[0.8888888888888888,\"#fdca26\"],[1.0,\"#f0f921\"]]},\"colorway\":[\"#636efa\",\"#EF553B\",\"#00cc96\",\"#ab63fa\",\"#FFA15A\",\"#19d3f3\",\"#FF6692\",\"#B6E880\",\"#FF97FF\",\"#FECB52\"],\"font\":{\"color\":\"#2a3f5f\"},\"geo\":{\"bgcolor\":\"white\",\"lakecolor\":\"white\",\"landcolor\":\"#E5ECF6\",\"showlakes\":true,\"showland\":true,\"subunitcolor\":\"white\"},\"hoverlabel\":{\"align\":\"left\"},\"hovermode\":\"closest\",\"mapbox\":{\"style\":\"light\"},\"paper_bgcolor\":\"white\",\"plot_bgcolor\":\"#E5ECF6\",\"polar\":{\"angularaxis\":{\"gridcolor\":\"white\",\"linecolor\":\"white\",\"ticks\":\"\"},\"bgcolor\":\"#E5ECF6\",\"radialaxis\":{\"gridcolor\":\"white\",\"linecolor\":\"white\",\"ticks\":\"\"}},\"scene\":{\"xaxis\":{\"backgroundcolor\":\"#E5ECF6\",\"gridcolor\":\"white\",\"gridwidth\":2,\"linecolor\":\"white\",\"showbackground\":true,\"ticks\":\"\",\"zerolinecolor\":\"white\"},\"yaxis\":{\"backgroundcolor\":\"#E5ECF6\",\"gridcolor\":\"white\",\"gridwidth\":2,\"linecolor\":\"white\",\"showbackground\":true,\"ticks\":\"\",\"zerolinecolor\":\"white\"},\"zaxis\":{\"backgroundcolor\":\"#E5ECF6\",\"gridcolor\":\"white\",\"gridwidth\":2,\"linecolor\":\"white\",\"showbackground\":true,\"ticks\":\"\",\"zerolinecolor\":\"white\"}},\"shapedefaults\":{\"line\":{\"color\":\"#2a3f5f\"}},\"ternary\":{\"aaxis\":{\"gridcolor\":\"white\",\"linecolor\":\"white\",\"ticks\":\"\"},\"baxis\":{\"gridcolor\":\"white\",\"linecolor\":\"white\",\"ticks\":\"\"},\"bgcolor\":\"#E5ECF6\",\"caxis\":{\"gridcolor\":\"white\",\"linecolor\":\"white\",\"ticks\":\"\"}},\"title\":{\"x\":0.05},\"xaxis\":{\"automargin\":true,\"gridcolor\":\"white\",\"linecolor\":\"white\",\"ticks\":\"\",\"title\":{\"standoff\":15},\"zerolinecolor\":\"white\",\"zerolinewidth\":2},\"yaxis\":{\"automargin\":true,\"gridcolor\":\"white\",\"linecolor\":\"white\",\"ticks\":\"\",\"title\":{\"standoff\":15},\"zerolinecolor\":\"white\",\"zerolinewidth\":2}}},\"title\":{\"text\":\"R2 and RMSE Per Iteration\"},\"width\":900,\"xaxis\":{\"anchor\":\"y\",\"domain\":[0.0,0.94],\"title\":{\"text\":\"Iteration\"}},\"yaxis\":{\"anchor\":\"x\",\"domain\":[0.0,1.0],\"title\":{\"text\":\"R2\"}},\"yaxis2\":{\"anchor\":\"x\",\"overlaying\":\"y\",\"side\":\"right\",\"title\":{\"text\":\"RMSE\"}}},                        {\"responsive\": true}                    ).then(function(){\n",
       "                            \n",
       "var gd = document.getElementById('cc0773d0-c0ff-4370-816a-cf07d3ac6f1b');\n",
       "var x = new MutationObserver(function (mutations, observer) {{\n",
       "        var display = window.getComputedStyle(gd).display;\n",
       "        if (!display || display === 'none') {{\n",
       "            console.log([gd, 'removed!']);\n",
       "            Plotly.purge(gd);\n",
       "            observer.disconnect();\n",
       "        }}\n",
       "}});\n",
       "\n",
       "// Listen for the removal of the full notebook cells\n",
       "var notebookContainer = gd.closest('#notebook-container');\n",
       "if (notebookContainer) {{\n",
       "    x.observe(notebookContainer, {childList: true});\n",
       "}}\n",
       "\n",
       "// Listen for the clearing of the current output cell\n",
       "var outputEl = gd.closest('.output');\n",
       "if (outputEl) {{\n",
       "    x.observe(outputEl, {childList: true});\n",
       "}}\n",
       "\n",
       "                        })                };                });            </script>        </div>"
      ]
     },
     "metadata": {},
     "output_type": "display_data"
    }
   ],
   "source": [
    "fig = make_subplots(specs=[[{\"secondary_y\": True}]])\n",
    "\n",
    "\n",
    "fig.add_trace(go.Scatter(y =  r2.r2, x = r2.index, name = \"R2\"),  secondary_y=False)\n",
    "fig.add_trace(go.Scatter(y =  r2.neg_root_mean_squared_error * -1, x = r2.index, name = \"RMSE\"), secondary_y=True)\n",
    "\n",
    "\n",
    "fig.update_layout(title=\"R2 and RMSE Per Iteration\",\n",
    "                    xaxis_title='Iteration',\n",
    "                    yaxis_title='R2',\n",
    "                    yaxis2_title='RMSE',\n",
    "                   autosize=False,\n",
    "                   width=900,\n",
    "                  height=500,\n",
    "                 )\n",
    "fig.update_layout(title_text = \"R2 and RMSE Per Iteration\")\n",
    "\n",
    "fig.show()"
   ]
  },
  {
   "cell_type": "code",
   "execution_count": 9,
   "id": "b26ad91c-ba65-4196-ab52-2b91c36190fe",
   "metadata": {},
   "outputs": [
    {
     "data": {
      "application/vnd.plotly.v1+json": {
       "config": {
        "plotlyServerURL": "https://plot.ly"
       },
       "data": [
        {
         "hovertemplate": "index=%{x}<br>total_zeros=%{y}<extra></extra>",
         "legendgroup": "",
         "line": {
          "color": "#636efa",
          "dash": "solid"
         },
         "marker": {
          "symbol": "circle"
         },
         "mode": "lines",
         "name": "",
         "orientation": "v",
         "showlegend": false,
         "type": "scatter",
         "x": [
          0,
          1,
          2,
          3,
          4,
          5,
          6,
          7,
          8,
          9,
          10
         ],
         "xaxis": "x",
         "y": [
          7203,
          4279,
          3008,
          4073,
          3418,
          3418,
          3418,
          3418,
          3418,
          3418,
          3418
         ],
         "yaxis": "y"
        }
       ],
       "layout": {
        "autosize": false,
        "height": 500,
        "legend": {
         "tracegroupgap": 0
        },
        "margin": {
         "t": 60
        },
        "template": {
         "data": {
          "bar": [
           {
            "error_x": {
             "color": "#2a3f5f"
            },
            "error_y": {
             "color": "#2a3f5f"
            },
            "marker": {
             "line": {
              "color": "#E5ECF6",
              "width": 0.5
             },
             "pattern": {
              "fillmode": "overlay",
              "size": 10,
              "solidity": 0.2
             }
            },
            "type": "bar"
           }
          ],
          "barpolar": [
           {
            "marker": {
             "line": {
              "color": "#E5ECF6",
              "width": 0.5
             },
             "pattern": {
              "fillmode": "overlay",
              "size": 10,
              "solidity": 0.2
             }
            },
            "type": "barpolar"
           }
          ],
          "carpet": [
           {
            "aaxis": {
             "endlinecolor": "#2a3f5f",
             "gridcolor": "white",
             "linecolor": "white",
             "minorgridcolor": "white",
             "startlinecolor": "#2a3f5f"
            },
            "baxis": {
             "endlinecolor": "#2a3f5f",
             "gridcolor": "white",
             "linecolor": "white",
             "minorgridcolor": "white",
             "startlinecolor": "#2a3f5f"
            },
            "type": "carpet"
           }
          ],
          "choropleth": [
           {
            "colorbar": {
             "outlinewidth": 0,
             "ticks": ""
            },
            "type": "choropleth"
           }
          ],
          "contour": [
           {
            "colorbar": {
             "outlinewidth": 0,
             "ticks": ""
            },
            "colorscale": [
             [
              0,
              "#0d0887"
             ],
             [
              0.1111111111111111,
              "#46039f"
             ],
             [
              0.2222222222222222,
              "#7201a8"
             ],
             [
              0.3333333333333333,
              "#9c179e"
             ],
             [
              0.4444444444444444,
              "#bd3786"
             ],
             [
              0.5555555555555556,
              "#d8576b"
             ],
             [
              0.6666666666666666,
              "#ed7953"
             ],
             [
              0.7777777777777778,
              "#fb9f3a"
             ],
             [
              0.8888888888888888,
              "#fdca26"
             ],
             [
              1,
              "#f0f921"
             ]
            ],
            "type": "contour"
           }
          ],
          "contourcarpet": [
           {
            "colorbar": {
             "outlinewidth": 0,
             "ticks": ""
            },
            "type": "contourcarpet"
           }
          ],
          "heatmap": [
           {
            "colorbar": {
             "outlinewidth": 0,
             "ticks": ""
            },
            "colorscale": [
             [
              0,
              "#0d0887"
             ],
             [
              0.1111111111111111,
              "#46039f"
             ],
             [
              0.2222222222222222,
              "#7201a8"
             ],
             [
              0.3333333333333333,
              "#9c179e"
             ],
             [
              0.4444444444444444,
              "#bd3786"
             ],
             [
              0.5555555555555556,
              "#d8576b"
             ],
             [
              0.6666666666666666,
              "#ed7953"
             ],
             [
              0.7777777777777778,
              "#fb9f3a"
             ],
             [
              0.8888888888888888,
              "#fdca26"
             ],
             [
              1,
              "#f0f921"
             ]
            ],
            "type": "heatmap"
           }
          ],
          "heatmapgl": [
           {
            "colorbar": {
             "outlinewidth": 0,
             "ticks": ""
            },
            "colorscale": [
             [
              0,
              "#0d0887"
             ],
             [
              0.1111111111111111,
              "#46039f"
             ],
             [
              0.2222222222222222,
              "#7201a8"
             ],
             [
              0.3333333333333333,
              "#9c179e"
             ],
             [
              0.4444444444444444,
              "#bd3786"
             ],
             [
              0.5555555555555556,
              "#d8576b"
             ],
             [
              0.6666666666666666,
              "#ed7953"
             ],
             [
              0.7777777777777778,
              "#fb9f3a"
             ],
             [
              0.8888888888888888,
              "#fdca26"
             ],
             [
              1,
              "#f0f921"
             ]
            ],
            "type": "heatmapgl"
           }
          ],
          "histogram": [
           {
            "marker": {
             "pattern": {
              "fillmode": "overlay",
              "size": 10,
              "solidity": 0.2
             }
            },
            "type": "histogram"
           }
          ],
          "histogram2d": [
           {
            "colorbar": {
             "outlinewidth": 0,
             "ticks": ""
            },
            "colorscale": [
             [
              0,
              "#0d0887"
             ],
             [
              0.1111111111111111,
              "#46039f"
             ],
             [
              0.2222222222222222,
              "#7201a8"
             ],
             [
              0.3333333333333333,
              "#9c179e"
             ],
             [
              0.4444444444444444,
              "#bd3786"
             ],
             [
              0.5555555555555556,
              "#d8576b"
             ],
             [
              0.6666666666666666,
              "#ed7953"
             ],
             [
              0.7777777777777778,
              "#fb9f3a"
             ],
             [
              0.8888888888888888,
              "#fdca26"
             ],
             [
              1,
              "#f0f921"
             ]
            ],
            "type": "histogram2d"
           }
          ],
          "histogram2dcontour": [
           {
            "colorbar": {
             "outlinewidth": 0,
             "ticks": ""
            },
            "colorscale": [
             [
              0,
              "#0d0887"
             ],
             [
              0.1111111111111111,
              "#46039f"
             ],
             [
              0.2222222222222222,
              "#7201a8"
             ],
             [
              0.3333333333333333,
              "#9c179e"
             ],
             [
              0.4444444444444444,
              "#bd3786"
             ],
             [
              0.5555555555555556,
              "#d8576b"
             ],
             [
              0.6666666666666666,
              "#ed7953"
             ],
             [
              0.7777777777777778,
              "#fb9f3a"
             ],
             [
              0.8888888888888888,
              "#fdca26"
             ],
             [
              1,
              "#f0f921"
             ]
            ],
            "type": "histogram2dcontour"
           }
          ],
          "mesh3d": [
           {
            "colorbar": {
             "outlinewidth": 0,
             "ticks": ""
            },
            "type": "mesh3d"
           }
          ],
          "parcoords": [
           {
            "line": {
             "colorbar": {
              "outlinewidth": 0,
              "ticks": ""
             }
            },
            "type": "parcoords"
           }
          ],
          "pie": [
           {
            "automargin": true,
            "type": "pie"
           }
          ],
          "scatter": [
           {
            "marker": {
             "colorbar": {
              "outlinewidth": 0,
              "ticks": ""
             }
            },
            "type": "scatter"
           }
          ],
          "scatter3d": [
           {
            "line": {
             "colorbar": {
              "outlinewidth": 0,
              "ticks": ""
             }
            },
            "marker": {
             "colorbar": {
              "outlinewidth": 0,
              "ticks": ""
             }
            },
            "type": "scatter3d"
           }
          ],
          "scattercarpet": [
           {
            "marker": {
             "colorbar": {
              "outlinewidth": 0,
              "ticks": ""
             }
            },
            "type": "scattercarpet"
           }
          ],
          "scattergeo": [
           {
            "marker": {
             "colorbar": {
              "outlinewidth": 0,
              "ticks": ""
             }
            },
            "type": "scattergeo"
           }
          ],
          "scattergl": [
           {
            "marker": {
             "colorbar": {
              "outlinewidth": 0,
              "ticks": ""
             }
            },
            "type": "scattergl"
           }
          ],
          "scattermapbox": [
           {
            "marker": {
             "colorbar": {
              "outlinewidth": 0,
              "ticks": ""
             }
            },
            "type": "scattermapbox"
           }
          ],
          "scatterpolar": [
           {
            "marker": {
             "colorbar": {
              "outlinewidth": 0,
              "ticks": ""
             }
            },
            "type": "scatterpolar"
           }
          ],
          "scatterpolargl": [
           {
            "marker": {
             "colorbar": {
              "outlinewidth": 0,
              "ticks": ""
             }
            },
            "type": "scatterpolargl"
           }
          ],
          "scatterternary": [
           {
            "marker": {
             "colorbar": {
              "outlinewidth": 0,
              "ticks": ""
             }
            },
            "type": "scatterternary"
           }
          ],
          "surface": [
           {
            "colorbar": {
             "outlinewidth": 0,
             "ticks": ""
            },
            "colorscale": [
             [
              0,
              "#0d0887"
             ],
             [
              0.1111111111111111,
              "#46039f"
             ],
             [
              0.2222222222222222,
              "#7201a8"
             ],
             [
              0.3333333333333333,
              "#9c179e"
             ],
             [
              0.4444444444444444,
              "#bd3786"
             ],
             [
              0.5555555555555556,
              "#d8576b"
             ],
             [
              0.6666666666666666,
              "#ed7953"
             ],
             [
              0.7777777777777778,
              "#fb9f3a"
             ],
             [
              0.8888888888888888,
              "#fdca26"
             ],
             [
              1,
              "#f0f921"
             ]
            ],
            "type": "surface"
           }
          ],
          "table": [
           {
            "cells": {
             "fill": {
              "color": "#EBF0F8"
             },
             "line": {
              "color": "white"
             }
            },
            "header": {
             "fill": {
              "color": "#C8D4E3"
             },
             "line": {
              "color": "white"
             }
            },
            "type": "table"
           }
          ]
         },
         "layout": {
          "annotationdefaults": {
           "arrowcolor": "#2a3f5f",
           "arrowhead": 0,
           "arrowwidth": 1
          },
          "autotypenumbers": "strict",
          "coloraxis": {
           "colorbar": {
            "outlinewidth": 0,
            "ticks": ""
           }
          },
          "colorscale": {
           "diverging": [
            [
             0,
             "#8e0152"
            ],
            [
             0.1,
             "#c51b7d"
            ],
            [
             0.2,
             "#de77ae"
            ],
            [
             0.3,
             "#f1b6da"
            ],
            [
             0.4,
             "#fde0ef"
            ],
            [
             0.5,
             "#f7f7f7"
            ],
            [
             0.6,
             "#e6f5d0"
            ],
            [
             0.7,
             "#b8e186"
            ],
            [
             0.8,
             "#7fbc41"
            ],
            [
             0.9,
             "#4d9221"
            ],
            [
             1,
             "#276419"
            ]
           ],
           "sequential": [
            [
             0,
             "#0d0887"
            ],
            [
             0.1111111111111111,
             "#46039f"
            ],
            [
             0.2222222222222222,
             "#7201a8"
            ],
            [
             0.3333333333333333,
             "#9c179e"
            ],
            [
             0.4444444444444444,
             "#bd3786"
            ],
            [
             0.5555555555555556,
             "#d8576b"
            ],
            [
             0.6666666666666666,
             "#ed7953"
            ],
            [
             0.7777777777777778,
             "#fb9f3a"
            ],
            [
             0.8888888888888888,
             "#fdca26"
            ],
            [
             1,
             "#f0f921"
            ]
           ],
           "sequentialminus": [
            [
             0,
             "#0d0887"
            ],
            [
             0.1111111111111111,
             "#46039f"
            ],
            [
             0.2222222222222222,
             "#7201a8"
            ],
            [
             0.3333333333333333,
             "#9c179e"
            ],
            [
             0.4444444444444444,
             "#bd3786"
            ],
            [
             0.5555555555555556,
             "#d8576b"
            ],
            [
             0.6666666666666666,
             "#ed7953"
            ],
            [
             0.7777777777777778,
             "#fb9f3a"
            ],
            [
             0.8888888888888888,
             "#fdca26"
            ],
            [
             1,
             "#f0f921"
            ]
           ]
          },
          "colorway": [
           "#636efa",
           "#EF553B",
           "#00cc96",
           "#ab63fa",
           "#FFA15A",
           "#19d3f3",
           "#FF6692",
           "#B6E880",
           "#FF97FF",
           "#FECB52"
          ],
          "font": {
           "color": "#2a3f5f"
          },
          "geo": {
           "bgcolor": "white",
           "lakecolor": "white",
           "landcolor": "#E5ECF6",
           "showlakes": true,
           "showland": true,
           "subunitcolor": "white"
          },
          "hoverlabel": {
           "align": "left"
          },
          "hovermode": "closest",
          "mapbox": {
           "style": "light"
          },
          "paper_bgcolor": "white",
          "plot_bgcolor": "#E5ECF6",
          "polar": {
           "angularaxis": {
            "gridcolor": "white",
            "linecolor": "white",
            "ticks": ""
           },
           "bgcolor": "#E5ECF6",
           "radialaxis": {
            "gridcolor": "white",
            "linecolor": "white",
            "ticks": ""
           }
          },
          "scene": {
           "xaxis": {
            "backgroundcolor": "#E5ECF6",
            "gridcolor": "white",
            "gridwidth": 2,
            "linecolor": "white",
            "showbackground": true,
            "ticks": "",
            "zerolinecolor": "white"
           },
           "yaxis": {
            "backgroundcolor": "#E5ECF6",
            "gridcolor": "white",
            "gridwidth": 2,
            "linecolor": "white",
            "showbackground": true,
            "ticks": "",
            "zerolinecolor": "white"
           },
           "zaxis": {
            "backgroundcolor": "#E5ECF6",
            "gridcolor": "white",
            "gridwidth": 2,
            "linecolor": "white",
            "showbackground": true,
            "ticks": "",
            "zerolinecolor": "white"
           }
          },
          "shapedefaults": {
           "line": {
            "color": "#2a3f5f"
           }
          },
          "ternary": {
           "aaxis": {
            "gridcolor": "white",
            "linecolor": "white",
            "ticks": ""
           },
           "baxis": {
            "gridcolor": "white",
            "linecolor": "white",
            "ticks": ""
           },
           "bgcolor": "#E5ECF6",
           "caxis": {
            "gridcolor": "white",
            "linecolor": "white",
            "ticks": ""
           }
          },
          "title": {
           "x": 0.05
          },
          "xaxis": {
           "automargin": true,
           "gridcolor": "white",
           "linecolor": "white",
           "ticks": "",
           "title": {
            "standoff": 15
           },
           "zerolinecolor": "white",
           "zerolinewidth": 2
          },
          "yaxis": {
           "automargin": true,
           "gridcolor": "white",
           "linecolor": "white",
           "ticks": "",
           "title": {
            "standoff": 15
           },
           "zerolinecolor": "white",
           "zerolinewidth": 2
          }
         }
        },
        "title": {
         "text": "Zero Weight Counts Per Iteration"
        },
        "width": 800,
        "xaxis": {
         "anchor": "y",
         "autorange": true,
         "domain": [
          0,
          1
         ],
         "range": [
          0,
          10
         ],
         "title": {
          "text": "index"
         },
         "type": "linear"
        },
        "yaxis": {
         "anchor": "x",
         "autorange": true,
         "domain": [
          0,
          1
         ],
         "range": [
          2774.9444444444443,
          7436.055555555556
         ],
         "title": {
          "text": "total_zeros"
         },
         "type": "linear"
        }
       }
      },
      "image/png": "[encoded data removed]",
      "text/html": [
       "<div>                            <div id=\"bdb844d3-68d2-4c84-914c-2fd4248610a3\" class=\"plotly-graph-div\" style=\"height:500px; width:800px;\"></div>            <script type=\"text/javascript\">                require([\"plotly\"], function(Plotly) {                    window.PLOTLYENV=window.PLOTLYENV || {};                                    if (document.getElementById(\"bdb844d3-68d2-4c84-914c-2fd4248610a3\")) {                    Plotly.newPlot(                        \"bdb844d3-68d2-4c84-914c-2fd4248610a3\",                        [{\"hovertemplate\":\"index=%{x}<br>total_zeros=%{y}<extra></extra>\",\"legendgroup\":\"\",\"line\":{\"color\":\"#636efa\",\"dash\":\"solid\"},\"marker\":{\"symbol\":\"circle\"},\"mode\":\"lines\",\"name\":\"\",\"orientation\":\"v\",\"showlegend\":false,\"type\":\"scatter\",\"x\":[0,1,2,3,4,5,6,7,8,9,10],\"xaxis\":\"x\",\"y\":[7203.0,4279.0,3008.0,4073.0,3418.0,3418.0,3418.0,3418.0,3418.0,3418.0,3418.0],\"yaxis\":\"y\"}],                        {\"autosize\":false,\"height\":500,\"legend\":{\"tracegroupgap\":0},\"margin\":{\"t\":60},\"template\":{\"data\":{\"bar\":[{\"error_x\":{\"color\":\"#2a3f5f\"},\"error_y\":{\"color\":\"#2a3f5f\"},\"marker\":{\"line\":{\"color\":\"#E5ECF6\",\"width\":0.5},\"pattern\":{\"fillmode\":\"overlay\",\"size\":10,\"solidity\":0.2}},\"type\":\"bar\"}],\"barpolar\":[{\"marker\":{\"line\":{\"color\":\"#E5ECF6\",\"width\":0.5},\"pattern\":{\"fillmode\":\"overlay\",\"size\":10,\"solidity\":0.2}},\"type\":\"barpolar\"}],\"carpet\":[{\"aaxis\":{\"endlinecolor\":\"#2a3f5f\",\"gridcolor\":\"white\",\"linecolor\":\"white\",\"minorgridcolor\":\"white\",\"startlinecolor\":\"#2a3f5f\"},\"baxis\":{\"endlinecolor\":\"#2a3f5f\",\"gridcolor\":\"white\",\"linecolor\":\"white\",\"minorgridcolor\":\"white\",\"startlinecolor\":\"#2a3f5f\"},\"type\":\"carpet\"}],\"choropleth\":[{\"colorbar\":{\"outlinewidth\":0,\"ticks\":\"\"},\"type\":\"choropleth\"}],\"contour\":[{\"colorbar\":{\"outlinewidth\":0,\"ticks\":\"\"},\"colorscale\":[[0.0,\"#0d0887\"],[0.1111111111111111,\"#46039f\"],[0.2222222222222222,\"#7201a8\"],[0.3333333333333333,\"#9c179e\"],[0.4444444444444444,\"#bd3786\"],[0.5555555555555556,\"#d8576b\"],[0.6666666666666666,\"#ed7953\"],[0.7777777777777778,\"#fb9f3a\"],[0.8888888888888888,\"#fdca26\"],[1.0,\"#f0f921\"]],\"type\":\"contour\"}],\"contourcarpet\":[{\"colorbar\":{\"outlinewidth\":0,\"ticks\":\"\"},\"type\":\"contourcarpet\"}],\"heatmap\":[{\"colorbar\":{\"outlinewidth\":0,\"ticks\":\"\"},\"colorscale\":[[0.0,\"#0d0887\"],[0.1111111111111111,\"#46039f\"],[0.2222222222222222,\"#7201a8\"],[0.3333333333333333,\"#9c179e\"],[0.4444444444444444,\"#bd3786\"],[0.5555555555555556,\"#d8576b\"],[0.6666666666666666,\"#ed7953\"],[0.7777777777777778,\"#fb9f3a\"],[0.8888888888888888,\"#fdca26\"],[1.0,\"#f0f921\"]],\"type\":\"heatmap\"}],\"heatmapgl\":[{\"colorbar\":{\"outlinewidth\":0,\"ticks\":\"\"},\"colorscale\":[[0.0,\"#0d0887\"],[0.1111111111111111,\"#46039f\"],[0.2222222222222222,\"#7201a8\"],[0.3333333333333333,\"#9c179e\"],[0.4444444444444444,\"#bd3786\"],[0.5555555555555556,\"#d8576b\"],[0.6666666666666666,\"#ed7953\"],[0.7777777777777778,\"#fb9f3a\"],[0.8888888888888888,\"#fdca26\"],[1.0,\"#f0f921\"]],\"type\":\"heatmapgl\"}],\"histogram\":[{\"marker\":{\"pattern\":{\"fillmode\":\"overlay\",\"size\":10,\"solidity\":0.2}},\"type\":\"histogram\"}],\"histogram2d\":[{\"colorbar\":{\"outlinewidth\":0,\"ticks\":\"\"},\"colorscale\":[[0.0,\"#0d0887\"],[0.1111111111111111,\"#46039f\"],[0.2222222222222222,\"#7201a8\"],[0.3333333333333333,\"#9c179e\"],[0.4444444444444444,\"#bd3786\"],[0.5555555555555556,\"#d8576b\"],[0.6666666666666666,\"#ed7953\"],[0.7777777777777778,\"#fb9f3a\"],[0.8888888888888888,\"#fdca26\"],[1.0,\"#f0f921\"]],\"type\":\"histogram2d\"}],\"histogram2dcontour\":[{\"colorbar\":{\"outlinewidth\":0,\"ticks\":\"\"},\"colorscale\":[[0.0,\"#0d0887\"],[0.1111111111111111,\"#46039f\"],[0.2222222222222222,\"#7201a8\"],[0.3333333333333333,\"#9c179e\"],[0.4444444444444444,\"#bd3786\"],[0.5555555555555556,\"#d8576b\"],[0.6666666666666666,\"#ed7953\"],[0.7777777777777778,\"#fb9f3a\"],[0.8888888888888888,\"#fdca26\"],[1.0,\"#f0f921\"]],\"type\":\"histogram2dcontour\"}],\"mesh3d\":[{\"colorbar\":{\"outlinewidth\":0,\"ticks\":\"\"},\"type\":\"mesh3d\"}],\"parcoords\":[{\"line\":{\"colorbar\":{\"outlinewidth\":0,\"ticks\":\"\"}},\"type\":\"parcoords\"}],\"pie\":[{\"automargin\":true,\"type\":\"pie\"}],\"scatter\":[{\"marker\":{\"colorbar\":{\"outlinewidth\":0,\"ticks\":\"\"}},\"type\":\"scatter\"}],\"scatter3d\":[{\"line\":{\"colorbar\":{\"outlinewidth\":0,\"ticks\":\"\"}},\"marker\":{\"colorbar\":{\"outlinewidth\":0,\"ticks\":\"\"}},\"type\":\"scatter3d\"}],\"scattercarpet\":[{\"marker\":{\"colorbar\":{\"outlinewidth\":0,\"ticks\":\"\"}},\"type\":\"scattercarpet\"}],\"scattergeo\":[{\"marker\":{\"colorbar\":{\"outlinewidth\":0,\"ticks\":\"\"}},\"type\":\"scattergeo\"}],\"scattergl\":[{\"marker\":{\"colorbar\":{\"outlinewidth\":0,\"ticks\":\"\"}},\"type\":\"scattergl\"}],\"scattermapbox\":[{\"marker\":{\"colorbar\":{\"outlinewidth\":0,\"ticks\":\"\"}},\"type\":\"scattermapbox\"}],\"scatterpolar\":[{\"marker\":{\"colorbar\":{\"outlinewidth\":0,\"ticks\":\"\"}},\"type\":\"scatterpolar\"}],\"scatterpolargl\":[{\"marker\":{\"colorbar\":{\"outlinewidth\":0,\"ticks\":\"\"}},\"type\":\"scatterpolargl\"}],\"scatterternary\":[{\"marker\":{\"colorbar\":{\"outlinewidth\":0,\"ticks\":\"\"}},\"type\":\"scatterternary\"}],\"surface\":[{\"colorbar\":{\"outlinewidth\":0,\"ticks\":\"\"},\"colorscale\":[[0.0,\"#0d0887\"],[0.1111111111111111,\"#46039f\"],[0.2222222222222222,\"#7201a8\"],[0.3333333333333333,\"#9c179e\"],[0.4444444444444444,\"#bd3786\"],[0.5555555555555556,\"#d8576b\"],[0.6666666666666666,\"#ed7953\"],[0.7777777777777778,\"#fb9f3a\"],[0.8888888888888888,\"#fdca26\"],[1.0,\"#f0f921\"]],\"type\":\"surface\"}],\"table\":[{\"cells\":{\"fill\":{\"color\":\"#EBF0F8\"},\"line\":{\"color\":\"white\"}},\"header\":{\"fill\":{\"color\":\"#C8D4E3\"},\"line\":{\"color\":\"white\"}},\"type\":\"table\"}]},\"layout\":{\"annotationdefaults\":{\"arrowcolor\":\"#2a3f5f\",\"arrowhead\":0,\"arrowwidth\":1},\"autotypenumbers\":\"strict\",\"coloraxis\":{\"colorbar\":{\"outlinewidth\":0,\"ticks\":\"\"}},\"colorscale\":{\"diverging\":[[0,\"#8e0152\"],[0.1,\"#c51b7d\"],[0.2,\"#de77ae\"],[0.3,\"#f1b6da\"],[0.4,\"#fde0ef\"],[0.5,\"#f7f7f7\"],[0.6,\"#e6f5d0\"],[0.7,\"#b8e186\"],[0.8,\"#7fbc41\"],[0.9,\"#4d9221\"],[1,\"#276419\"]],\"sequential\":[[0.0,\"#0d0887\"],[0.1111111111111111,\"#46039f\"],[0.2222222222222222,\"#7201a8\"],[0.3333333333333333,\"#9c179e\"],[0.4444444444444444,\"#bd3786\"],[0.5555555555555556,\"#d8576b\"],[0.6666666666666666,\"#ed7953\"],[0.7777777777777778,\"#fb9f3a\"],[0.8888888888888888,\"#fdca26\"],[1.0,\"#f0f921\"]],\"sequentialminus\":[[0.0,\"#0d0887\"],[0.1111111111111111,\"#46039f\"],[0.2222222222222222,\"#7201a8\"],[0.3333333333333333,\"#9c179e\"],[0.4444444444444444,\"#bd3786\"],[0.5555555555555556,\"#d8576b\"],[0.6666666666666666,\"#ed7953\"],[0.7777777777777778,\"#fb9f3a\"],[0.8888888888888888,\"#fdca26\"],[1.0,\"#f0f921\"]]},\"colorway\":[\"#636efa\",\"#EF553B\",\"#00cc96\",\"#ab63fa\",\"#FFA15A\",\"#19d3f3\",\"#FF6692\",\"#B6E880\",\"#FF97FF\",\"#FECB52\"],\"font\":{\"color\":\"#2a3f5f\"},\"geo\":{\"bgcolor\":\"white\",\"lakecolor\":\"white\",\"landcolor\":\"#E5ECF6\",\"showlakes\":true,\"showland\":true,\"subunitcolor\":\"white\"},\"hoverlabel\":{\"align\":\"left\"},\"hovermode\":\"closest\",\"mapbox\":{\"style\":\"light\"},\"paper_bgcolor\":\"white\",\"plot_bgcolor\":\"#E5ECF6\",\"polar\":{\"angularaxis\":{\"gridcolor\":\"white\",\"linecolor\":\"white\",\"ticks\":\"\"},\"bgcolor\":\"#E5ECF6\",\"radialaxis\":{\"gridcolor\":\"white\",\"linecolor\":\"white\",\"ticks\":\"\"}},\"scene\":{\"xaxis\":{\"backgroundcolor\":\"#E5ECF6\",\"gridcolor\":\"white\",\"gridwidth\":2,\"linecolor\":\"white\",\"showbackground\":true,\"ticks\":\"\",\"zerolinecolor\":\"white\"},\"yaxis\":{\"backgroundcolor\":\"#E5ECF6\",\"gridcolor\":\"white\",\"gridwidth\":2,\"linecolor\":\"white\",\"showbackground\":true,\"ticks\":\"\",\"zerolinecolor\":\"white\"},\"zaxis\":{\"backgroundcolor\":\"#E5ECF6\",\"gridcolor\":\"white\",\"gridwidth\":2,\"linecolor\":\"white\",\"showbackground\":true,\"ticks\":\"\",\"zerolinecolor\":\"white\"}},\"shapedefaults\":{\"line\":{\"color\":\"#2a3f5f\"}},\"ternary\":{\"aaxis\":{\"gridcolor\":\"white\",\"linecolor\":\"white\",\"ticks\":\"\"},\"baxis\":{\"gridcolor\":\"white\",\"linecolor\":\"white\",\"ticks\":\"\"},\"bgcolor\":\"#E5ECF6\",\"caxis\":{\"gridcolor\":\"white\",\"linecolor\":\"white\",\"ticks\":\"\"}},\"title\":{\"x\":0.05},\"xaxis\":{\"automargin\":true,\"gridcolor\":\"white\",\"linecolor\":\"white\",\"ticks\":\"\",\"title\":{\"standoff\":15},\"zerolinecolor\":\"white\",\"zerolinewidth\":2},\"yaxis\":{\"automargin\":true,\"gridcolor\":\"white\",\"linecolor\":\"white\",\"ticks\":\"\",\"title\":{\"standoff\":15},\"zerolinecolor\":\"white\",\"zerolinewidth\":2}}},\"title\":{\"text\":\"Zero Weight Counts Per Iteration\"},\"width\":800,\"xaxis\":{\"anchor\":\"y\",\"domain\":[0.0,1.0],\"title\":{\"text\":\"index\"}},\"yaxis\":{\"anchor\":\"x\",\"domain\":[0.0,1.0],\"title\":{\"text\":\"total_zeros\"}}},                        {\"responsive\": true}                    ).then(function(){\n",
       "                            \n",
       "var gd = document.getElementById('bdb844d3-68d2-4c84-914c-2fd4248610a3');\n",
       "var x = new MutationObserver(function (mutations, observer) {{\n",
       "        var display = window.getComputedStyle(gd).display;\n",
       "        if (!display || display === 'none') {{\n",
       "            console.log([gd, 'removed!']);\n",
       "            Plotly.purge(gd);\n",
       "            observer.disconnect();\n",
       "        }}\n",
       "}});\n",
       "\n",
       "// Listen for the removal of the full notebook cells\n",
       "var notebookContainer = gd.closest('#notebook-container');\n",
       "if (notebookContainer) {{\n",
       "    x.observe(notebookContainer, {childList: true});\n",
       "}}\n",
       "\n",
       "// Listen for the clearing of the current output cell\n",
       "var outputEl = gd.closest('.output');\n",
       "if (outputEl) {{\n",
       "    x.observe(outputEl, {childList: true});\n",
       "}}\n",
       "\n",
       "                        })                };                });            </script>        </div>"
      ]
     },
     "metadata": {},
     "output_type": "display_data"
    }
   ],
   "source": [
    "fig = px.line(r2, x=r2.index, y=r2.total_zeros)\n",
    "\n",
    "fig.update_layout(\n",
    "    autosize=False,\n",
    "    width=800,\n",
    "    height=500,\n",
    "    title_text=f\"Zero Weight Counts Per Iteration\",\n",
    ")\n",
    "\n",
    "fig.show()"
   ]
  },
  {
   "cell_type": "code",
   "execution_count": null,
   "id": "c6311065-0ed0-4ab2-99a1-eba929625194",
   "metadata": {},
   "outputs": [],
   "source": []
  },
  {
   "cell_type": "code",
   "execution_count": 10,
   "id": "11a4bbbb-d829-42bb-8ad3-2e6652d890ad",
   "metadata": {},
   "outputs": [
    {
     "data": {
      "text/html": [
       "<div><div id=4db56859-d1b1-4329-ae26-d9be1b26a265 style=\"display:none; background-color:#9D6CFF; color:white; width:200px; height:30px; padding-left:5px; border-radius:4px; flex-direction:row; justify-content:space-around; align-items:center;\" onmouseover=\"this.style.backgroundColor='#BA9BF8'\" onmouseout=\"this.style.backgroundColor='#9D6CFF'\" onclick=\"window.commands?.execute('create-mitosheet-from-dataframe-output');\">See Full Dataframe in Mito</div> <script> if (window.commands.hasCommand('create-mitosheet-from-dataframe-output')) document.getElementById('4db56859-d1b1-4329-ae26-d9be1b26a265').style.display = 'flex' </script> <table border=\"1\" class=\"dataframe\">\n",
       "  <thead>\n",
       "    <tr style=\"text-align: right;\">\n",
       "      <th></th>\n",
       "      <th>Feature Name</th>\n",
       "      <th>Importance</th>\n",
       "      <th>index</th>\n",
       "      <th>Zero_Count</th>\n",
       "      <th>Iteration</th>\n",
       "    </tr>\n",
       "  </thead>\n",
       "  <tbody>\n",
       "    <tr>\n",
       "      <th>0</th>\n",
       "      <td>Output 01</td>\n",
       "      <td>0.742394</td>\n",
       "      <td>Output 01</td>\n",
       "      <td>0</td>\n",
       "      <td>0</td>\n",
       "    </tr>\n",
       "    <tr>\n",
       "      <th>1</th>\n",
       "      <td>Input 08</td>\n",
       "      <td>0.042123</td>\n",
       "      <td>Input 08</td>\n",
       "      <td>428</td>\n",
       "      <td>0</td>\n",
       "    </tr>\n",
       "    <tr>\n",
       "      <th>2</th>\n",
       "      <td>Input 09</td>\n",
       "      <td>0.035544</td>\n",
       "      <td>Input 09</td>\n",
       "      <td>599</td>\n",
       "      <td>0</td>\n",
       "    </tr>\n",
       "    <tr>\n",
       "      <th>3</th>\n",
       "      <td>Input 01</td>\n",
       "      <td>0.032683</td>\n",
       "      <td>Input 01</td>\n",
       "      <td>330</td>\n",
       "      <td>0</td>\n",
       "    </tr>\n",
       "    <tr>\n",
       "      <th>4</th>\n",
       "      <td>Input 03</td>\n",
       "      <td>0.029812</td>\n",
       "      <td>Input 03</td>\n",
       "      <td>249</td>\n",
       "      <td>0</td>\n",
       "    </tr>\n",
       "    <tr>\n",
       "      <th>...</th>\n",
       "      <td>...</td>\n",
       "      <td>...</td>\n",
       "      <td>...</td>\n",
       "      <td>...</td>\n",
       "      <td>...</td>\n",
       "    </tr>\n",
       "    <tr>\n",
       "      <th>138</th>\n",
       "      <td>Input 11</td>\n",
       "      <td>0.005850</td>\n",
       "      <td>Input 11</td>\n",
       "      <td>319</td>\n",
       "      <td>10</td>\n",
       "    </tr>\n",
       "    <tr>\n",
       "      <th>139</th>\n",
       "      <td>Input 07</td>\n",
       "      <td>0.005560</td>\n",
       "      <td>Input 07</td>\n",
       "      <td>352</td>\n",
       "      <td>10</td>\n",
       "    </tr>\n",
       "    <tr>\n",
       "      <th>140</th>\n",
       "      <td>Input 04</td>\n",
       "      <td>0.005479</td>\n",
       "      <td>Input 04</td>\n",
       "      <td>502</td>\n",
       "      <td>10</td>\n",
       "    </tr>\n",
       "    <tr>\n",
       "      <th>141</th>\n",
       "      <td>Input 02</td>\n",
       "      <td>0.005048</td>\n",
       "      <td>Input 02</td>\n",
       "      <td>831</td>\n",
       "      <td>10</td>\n",
       "    </tr>\n",
       "    <tr>\n",
       "      <th>142</th>\n",
       "      <td>Input 10</td>\n",
       "      <td>0.005018</td>\n",
       "      <td>Input 10</td>\n",
       "      <td>934</td>\n",
       "      <td>10</td>\n",
       "    </tr>\n",
       "  </tbody>\n",
       "</table></div>"
      ],
      "text/plain": [
       "    Feature Name  Importance      index  Zero_Count  Iteration\n",
       "0      Output 01    0.742394  Output 01           0          0\n",
       "1       Input 08    0.042123   Input 08         428          0\n",
       "2       Input 09    0.035544   Input 09         599          0\n",
       "3       Input 01    0.032683   Input 01         330          0\n",
       "4       Input 03    0.029812   Input 03         249          0\n",
       "..           ...         ...        ...         ...        ...\n",
       "138     Input 11    0.005850   Input 11         319         10\n",
       "139     Input 07    0.005560   Input 07         352         10\n",
       "140     Input 04    0.005479   Input 04         502         10\n",
       "141     Input 02    0.005048   Input 02         831         10\n",
       "142     Input 10    0.005018   Input 10         934         10\n",
       "\n",
       "[143 rows x 5 columns]"
      ]
     },
     "execution_count": 10,
     "metadata": {},
     "output_type": "execute_result"
    }
   ],
   "source": [
    "df_imp = pd.read_pickle('Data/Data12/RF_12I1O_df_imp.pkl')\n",
    "df_imp"
   ]
  },
  {
   "cell_type": "code",
   "execution_count": 11,
   "id": "12eb0fd0-a7d6-425d-b973-00ab648b2a8b",
   "metadata": {},
   "outputs": [
    {
     "data": {
      "application/vnd.plotly.v1+json": {
       "config": {
        "plotlyServerURL": "https://plot.ly"
       },
       "data": [
        {
         "alignmentgroup": "True",
         "hovertemplate": "Feature Name=%{y}<br>Iteration=6<br>Importance=%{x}<extra></extra>",
         "ids": [
          "Output 01"
         ],
         "legendgroup": "Output 01",
         "marker": {
          "color": "#4C78A8",
          "pattern": {
           "shape": ""
          }
         },
         "name": "Output 01",
         "offsetgroup": "Output 01",
         "orientation": "h",
         "showlegend": true,
         "textposition": "auto",
         "type": "bar",
         "visible": "legendonly",
         "x": [
          0.7901947804055608
         ],
         "xaxis": "x",
         "y": [
          "Output 01"
         ],
         "yaxis": "y"
        },
        {
         "alignmentgroup": "True",
         "hovertemplate": "Feature Name=%{y}<br>Iteration=6<br>Importance=%{x}<extra></extra>",
         "ids": [
          "Input 08"
         ],
         "legendgroup": "Input 08",
         "marker": {
          "color": "#F58518",
          "pattern": {
           "shape": ""
          }
         },
         "name": "Input 08",
         "offsetgroup": "Input 08",
         "orientation": "h",
         "showlegend": true,
         "textposition": "auto",
         "type": "bar",
         "x": [
          0.07276283747363252
         ],
         "xaxis": "x",
         "y": [
          "Input 08"
         ],
         "yaxis": "y"
        },
        {
         "alignmentgroup": "True",
         "hovertemplate": "Feature Name=%{y}<br>Iteration=6<br>Importance=%{x}<extra></extra>",
         "ids": [
          "Input 09"
         ],
         "legendgroup": "Input 09",
         "marker": {
          "color": "#E45756",
          "pattern": {
           "shape": ""
          }
         },
         "name": "Input 09",
         "offsetgroup": "Input 09",
         "orientation": "h",
         "showlegend": true,
         "textposition": "auto",
         "type": "bar",
         "x": [
          0.006646825484410825
         ],
         "xaxis": "x",
         "y": [
          "Input 09"
         ],
         "yaxis": "y"
        },
        {
         "alignmentgroup": "True",
         "hovertemplate": "Feature Name=%{y}<br>Iteration=6<br>Importance=%{x}<extra></extra>",
         "ids": [
          "Input 01"
         ],
         "legendgroup": "Input 01",
         "marker": {
          "color": "#72B7B2",
          "pattern": {
           "shape": ""
          }
         },
         "name": "Input 01",
         "offsetgroup": "Input 01",
         "orientation": "h",
         "showlegend": true,
         "textposition": "auto",
         "type": "bar",
         "x": [
          0.045920808587360744
         ],
         "xaxis": "x",
         "y": [
          "Input 01"
         ],
         "yaxis": "y"
        },
        {
         "alignmentgroup": "True",
         "hovertemplate": "Feature Name=%{y}<br>Iteration=6<br>Importance=%{x}<extra></extra>",
         "ids": [
          "Input 03"
         ],
         "legendgroup": "Input 03",
         "marker": {
          "color": "#54A24B",
          "pattern": {
           "shape": ""
          }
         },
         "name": "Input 03",
         "offsetgroup": "Input 03",
         "orientation": "h",
         "showlegend": true,
         "textposition": "auto",
         "type": "bar",
         "x": [
          0.011266325320979256
         ],
         "xaxis": "x",
         "y": [
          "Input 03"
         ],
         "yaxis": "y"
        },
        {
         "alignmentgroup": "True",
         "hovertemplate": "Feature Name=%{y}<br>Iteration=6<br>Importance=%{x}<extra></extra>",
         "ids": [
          "Input 06"
         ],
         "legendgroup": "Input 06",
         "marker": {
          "color": "#EECA3B",
          "pattern": {
           "shape": ""
          }
         },
         "name": "Input 06",
         "offsetgroup": "Input 06",
         "orientation": "h",
         "showlegend": true,
         "textposition": "auto",
         "type": "bar",
         "x": [
          0.03334748354434383
         ],
         "xaxis": "x",
         "y": [
          "Input 06"
         ],
         "yaxis": "y"
        },
        {
         "alignmentgroup": "True",
         "hovertemplate": "Feature Name=%{y}<br>Iteration=6<br>Importance=%{x}<extra></extra>",
         "ids": [
          "Input 07"
         ],
         "legendgroup": "Input 07",
         "marker": {
          "color": "#B279A2",
          "pattern": {
           "shape": ""
          }
         },
         "name": "Input 07",
         "offsetgroup": "Input 07",
         "orientation": "h",
         "showlegend": true,
         "textposition": "auto",
         "type": "bar",
         "x": [
          0.005559796058994796
         ],
         "xaxis": "x",
         "y": [
          "Input 07"
         ],
         "yaxis": "y"
        },
        {
         "alignmentgroup": "True",
         "hovertemplate": "Feature Name=%{y}<br>Iteration=6<br>Importance=%{x}<extra></extra>",
         "ids": [
          "Input 11"
         ],
         "legendgroup": "Input 11",
         "marker": {
          "color": "#FF9DA6",
          "pattern": {
           "shape": ""
          }
         },
         "name": "Input 11",
         "offsetgroup": "Input 11",
         "orientation": "h",
         "showlegend": true,
         "textposition": "auto",
         "type": "bar",
         "x": [
          0.005850173890933137
         ],
         "xaxis": "x",
         "y": [
          "Input 11"
         ],
         "yaxis": "y"
        },
        {
         "alignmentgroup": "True",
         "hovertemplate": "Feature Name=%{y}<br>Iteration=6<br>Importance=%{x}<extra></extra>",
         "ids": [
          "Input 04"
         ],
         "legendgroup": "Input 04",
         "marker": {
          "color": "#9D755D",
          "pattern": {
           "shape": ""
          }
         },
         "name": "Input 04",
         "offsetgroup": "Input 04",
         "orientation": "h",
         "showlegend": true,
         "textposition": "auto",
         "type": "bar",
         "x": [
          0.00547851870819485
         ],
         "xaxis": "x",
         "y": [
          "Input 04"
         ],
         "yaxis": "y"
        },
        {
         "alignmentgroup": "True",
         "hovertemplate": "Feature Name=%{y}<br>Iteration=6<br>Importance=%{x}<extra></extra>",
         "ids": [
          "Input 10"
         ],
         "legendgroup": "Input 10",
         "marker": {
          "color": "#BAB0AC",
          "pattern": {
           "shape": ""
          }
         },
         "name": "Input 10",
         "offsetgroup": "Input 10",
         "orientation": "h",
         "showlegend": true,
         "textposition": "auto",
         "type": "bar",
         "x": [
          0.005017605616187708
         ],
         "xaxis": "x",
         "y": [
          "Input 10"
         ],
         "yaxis": "y"
        },
        {
         "alignmentgroup": "True",
         "hovertemplate": "Feature Name=%{y}<br>Iteration=6<br>Importance=%{x}<extra></extra>",
         "ids": [
          "Input 02"
         ],
         "legendgroup": "Input 02",
         "marker": {
          "color": "#4C78A8",
          "pattern": {
           "shape": ""
          }
         },
         "name": "Input 02",
         "offsetgroup": "Input 02",
         "orientation": "h",
         "showlegend": true,
         "textposition": "auto",
         "type": "bar",
         "x": [
          0.005048204622422848
         ],
         "xaxis": "x",
         "y": [
          "Input 02"
         ],
         "yaxis": "y"
        },
        {
         "alignmentgroup": "True",
         "hovertemplate": "Feature Name=%{y}<br>Iteration=6<br>Importance=%{x}<extra></extra>",
         "ids": [
          "Input 05"
         ],
         "legendgroup": "Input 05",
         "marker": {
          "color": "#F58518",
          "pattern": {
           "shape": ""
          }
         },
         "name": "Input 05",
         "offsetgroup": "Input 05",
         "orientation": "h",
         "showlegend": true,
         "textposition": "auto",
         "type": "bar",
         "x": [
          0.006544887760235602
         ],
         "xaxis": "x",
         "y": [
          "Input 05"
         ],
         "yaxis": "y"
        },
        {
         "alignmentgroup": "True",
         "hovertemplate": "Feature Name=%{y}<br>Iteration=6<br>Importance=%{x}<extra></extra>",
         "ids": [
          "Input 12"
         ],
         "legendgroup": "Input 12",
         "marker": {
          "color": "#E45756",
          "pattern": {
           "shape": ""
          }
         },
         "name": "Input 12",
         "offsetgroup": "Input 12",
         "orientation": "h",
         "showlegend": true,
         "textposition": "auto",
         "type": "bar",
         "x": [
          0.006361752526743125
         ],
         "xaxis": "x",
         "y": [
          "Input 12"
         ],
         "yaxis": "y"
        }
       ],
       "frames": [
        {
         "data": [
          {
           "alignmentgroup": "True",
           "hovertemplate": "Feature Name=%{y}<br>Iteration=0<br>Importance=%{x}<extra></extra>",
           "ids": [
            "Output 01"
           ],
           "legendgroup": "Output 01",
           "marker": {
            "color": "#4C78A8",
            "pattern": {
             "shape": ""
            }
           },
           "name": "Output 01",
           "offsetgroup": "Output 01",
           "orientation": "h",
           "showlegend": true,
           "textposition": "auto",
           "type": "bar",
           "x": [
            0.7423941603675878
           ],
           "xaxis": "x",
           "y": [
            "Output 01"
           ],
           "yaxis": "y"
          },
          {
           "alignmentgroup": "True",
           "hovertemplate": "Feature Name=%{y}<br>Iteration=0<br>Importance=%{x}<extra></extra>",
           "ids": [
            "Input 08"
           ],
           "legendgroup": "Input 08",
           "marker": {
            "color": "#F58518",
            "pattern": {
             "shape": ""
            }
           },
           "name": "Input 08",
           "offsetgroup": "Input 08",
           "orientation": "h",
           "showlegend": true,
           "textposition": "auto",
           "type": "bar",
           "x": [
            0.042123364734225226
           ],
           "xaxis": "x",
           "y": [
            "Input 08"
           ],
           "yaxis": "y"
          },
          {
           "alignmentgroup": "True",
           "hovertemplate": "Feature Name=%{y}<br>Iteration=0<br>Importance=%{x}<extra></extra>",
           "ids": [
            "Input 09"
           ],
           "legendgroup": "Input 09",
           "marker": {
            "color": "#E45756",
            "pattern": {
             "shape": ""
            }
           },
           "name": "Input 09",
           "offsetgroup": "Input 09",
           "orientation": "h",
           "showlegend": true,
           "textposition": "auto",
           "type": "bar",
           "x": [
            0.03554378071375089
           ],
           "xaxis": "x",
           "y": [
            "Input 09"
           ],
           "yaxis": "y"
          },
          {
           "alignmentgroup": "True",
           "hovertemplate": "Feature Name=%{y}<br>Iteration=0<br>Importance=%{x}<extra></extra>",
           "ids": [
            "Input 01"
           ],
           "legendgroup": "Input 01",
           "marker": {
            "color": "#72B7B2",
            "pattern": {
             "shape": ""
            }
           },
           "name": "Input 01",
           "offsetgroup": "Input 01",
           "orientation": "h",
           "showlegend": true,
           "textposition": "auto",
           "type": "bar",
           "x": [
            0.032682738747839044
           ],
           "xaxis": "x",
           "y": [
            "Input 01"
           ],
           "yaxis": "y"
          },
          {
           "alignmentgroup": "True",
           "hovertemplate": "Feature Name=%{y}<br>Iteration=0<br>Importance=%{x}<extra></extra>",
           "ids": [
            "Input 03"
           ],
           "legendgroup": "Input 03",
           "marker": {
            "color": "#54A24B",
            "pattern": {
             "shape": ""
            }
           },
           "name": "Input 03",
           "offsetgroup": "Input 03",
           "orientation": "h",
           "showlegend": true,
           "textposition": "auto",
           "type": "bar",
           "x": [
            0.02981235770862435
           ],
           "xaxis": "x",
           "y": [
            "Input 03"
           ],
           "yaxis": "y"
          },
          {
           "alignmentgroup": "True",
           "hovertemplate": "Feature Name=%{y}<br>Iteration=0<br>Importance=%{x}<extra></extra>",
           "ids": [
            "Input 06"
           ],
           "legendgroup": "Input 06",
           "marker": {
            "color": "#EECA3B",
            "pattern": {
             "shape": ""
            }
           },
           "name": "Input 06",
           "offsetgroup": "Input 06",
           "orientation": "h",
           "showlegend": true,
           "textposition": "auto",
           "type": "bar",
           "x": [
            0.02473975201410447
           ],
           "xaxis": "x",
           "y": [
            "Input 06"
           ],
           "yaxis": "y"
          },
          {
           "alignmentgroup": "True",
           "hovertemplate": "Feature Name=%{y}<br>Iteration=0<br>Importance=%{x}<extra></extra>",
           "ids": [
            "Input 07"
           ],
           "legendgroup": "Input 07",
           "marker": {
            "color": "#B279A2",
            "pattern": {
             "shape": ""
            }
           },
           "name": "Input 07",
           "offsetgroup": "Input 07",
           "orientation": "h",
           "showlegend": true,
           "textposition": "auto",
           "type": "bar",
           "x": [
            0.023340824323395685
           ],
           "xaxis": "x",
           "y": [
            "Input 07"
           ],
           "yaxis": "y"
          },
          {
           "alignmentgroup": "True",
           "hovertemplate": "Feature Name=%{y}<br>Iteration=0<br>Importance=%{x}<extra></extra>",
           "ids": [
            "Input 11"
           ],
           "legendgroup": "Input 11",
           "marker": {
            "color": "#FF9DA6",
            "pattern": {
             "shape": ""
            }
           },
           "name": "Input 11",
           "offsetgroup": "Input 11",
           "orientation": "h",
           "showlegend": true,
           "textposition": "auto",
           "type": "bar",
           "x": [
            0.01810379018151057
           ],
           "xaxis": "x",
           "y": [
            "Input 11"
           ],
           "yaxis": "y"
          },
          {
           "alignmentgroup": "True",
           "hovertemplate": "Feature Name=%{y}<br>Iteration=0<br>Importance=%{x}<extra></extra>",
           "ids": [
            "Input 04"
           ],
           "legendgroup": "Input 04",
           "marker": {
            "color": "#9D755D",
            "pattern": {
             "shape": ""
            }
           },
           "name": "Input 04",
           "offsetgroup": "Input 04",
           "orientation": "h",
           "showlegend": true,
           "textposition": "auto",
           "type": "bar",
           "x": [
            0.018086916837900018
           ],
           "xaxis": "x",
           "y": [
            "Input 04"
           ],
           "yaxis": "y"
          },
          {
           "alignmentgroup": "True",
           "hovertemplate": "Feature Name=%{y}<br>Iteration=0<br>Importance=%{x}<extra></extra>",
           "ids": [
            "Input 10"
           ],
           "legendgroup": "Input 10",
           "marker": {
            "color": "#BAB0AC",
            "pattern": {
             "shape": ""
            }
           },
           "name": "Input 10",
           "offsetgroup": "Input 10",
           "orientation": "h",
           "showlegend": true,
           "textposition": "auto",
           "type": "bar",
           "x": [
            0.009492383847762942
           ],
           "xaxis": "x",
           "y": [
            "Input 10"
           ],
           "yaxis": "y"
          },
          {
           "alignmentgroup": "True",
           "hovertemplate": "Feature Name=%{y}<br>Iteration=0<br>Importance=%{x}<extra></extra>",
           "ids": [
            "Input 02"
           ],
           "legendgroup": "Input 02",
           "marker": {
            "color": "#4C78A8",
            "pattern": {
             "shape": ""
            }
           },
           "name": "Input 02",
           "offsetgroup": "Input 02",
           "orientation": "h",
           "showlegend": true,
           "textposition": "auto",
           "type": "bar",
           "x": [
            0.008365572265637122
           ],
           "xaxis": "x",
           "y": [
            "Input 02"
           ],
           "yaxis": "y"
          },
          {
           "alignmentgroup": "True",
           "hovertemplate": "Feature Name=%{y}<br>Iteration=0<br>Importance=%{x}<extra></extra>",
           "ids": [
            "Input 05"
           ],
           "legendgroup": "Input 05",
           "marker": {
            "color": "#F58518",
            "pattern": {
             "shape": ""
            }
           },
           "name": "Input 05",
           "offsetgroup": "Input 05",
           "orientation": "h",
           "showlegend": true,
           "textposition": "auto",
           "type": "bar",
           "x": [
            0.0077523779603597825
           ],
           "xaxis": "x",
           "y": [
            "Input 05"
           ],
           "yaxis": "y"
          },
          {
           "alignmentgroup": "True",
           "hovertemplate": "Feature Name=%{y}<br>Iteration=0<br>Importance=%{x}<extra></extra>",
           "ids": [
            "Input 12"
           ],
           "legendgroup": "Input 12",
           "marker": {
            "color": "#E45756",
            "pattern": {
             "shape": ""
            }
           },
           "name": "Input 12",
           "offsetgroup": "Input 12",
           "orientation": "h",
           "showlegend": true,
           "textposition": "auto",
           "type": "bar",
           "x": [
            0.007561980297302169
           ],
           "xaxis": "x",
           "y": [
            "Input 12"
           ],
           "yaxis": "y"
          }
         ],
         "name": "0"
        },
        {
         "data": [
          {
           "alignmentgroup": "True",
           "hovertemplate": "Feature Name=%{y}<br>Iteration=1<br>Importance=%{x}<extra></extra>",
           "ids": [
            "Output 01"
           ],
           "legendgroup": "Output 01",
           "marker": {
            "color": "#4C78A8",
            "pattern": {
             "shape": ""
            }
           },
           "name": "Output 01",
           "offsetgroup": "Output 01",
           "orientation": "h",
           "showlegend": true,
           "textposition": "auto",
           "type": "bar",
           "x": [
            0.7644174597308216
           ],
           "xaxis": "x",
           "y": [
            "Output 01"
           ],
           "yaxis": "y"
          },
          {
           "alignmentgroup": "True",
           "hovertemplate": "Feature Name=%{y}<br>Iteration=1<br>Importance=%{x}<extra></extra>",
           "ids": [
            "Input 08"
           ],
           "legendgroup": "Input 08",
           "marker": {
            "color": "#F58518",
            "pattern": {
             "shape": ""
            }
           },
           "name": "Input 08",
           "offsetgroup": "Input 08",
           "orientation": "h",
           "showlegend": true,
           "textposition": "auto",
           "type": "bar",
           "x": [
            0.11507555297334893
           ],
           "xaxis": "x",
           "y": [
            "Input 08"
           ],
           "yaxis": "y"
          },
          {
           "alignmentgroup": "True",
           "hovertemplate": "Feature Name=%{y}<br>Iteration=1<br>Importance=%{x}<extra></extra>",
           "ids": [
            "Input 09"
           ],
           "legendgroup": "Input 09",
           "marker": {
            "color": "#E45756",
            "pattern": {
             "shape": ""
            }
           },
           "name": "Input 09",
           "offsetgroup": "Input 09",
           "orientation": "h",
           "showlegend": true,
           "textposition": "auto",
           "type": "bar",
           "x": [
            0.008895350719015961
           ],
           "xaxis": "x",
           "y": [
            "Input 09"
           ],
           "yaxis": "y"
          },
          {
           "alignmentgroup": "True",
           "hovertemplate": "Feature Name=%{y}<br>Iteration=1<br>Importance=%{x}<extra></extra>",
           "ids": [
            "Input 01"
           ],
           "legendgroup": "Input 01",
           "marker": {
            "color": "#72B7B2",
            "pattern": {
             "shape": ""
            }
           },
           "name": "Input 01",
           "offsetgroup": "Input 01",
           "orientation": "h",
           "showlegend": true,
           "textposition": "auto",
           "type": "bar",
           "x": [
            0.035439288923311024
           ],
           "xaxis": "x",
           "y": [
            "Input 01"
           ],
           "yaxis": "y"
          },
          {
           "alignmentgroup": "True",
           "hovertemplate": "Feature Name=%{y}<br>Iteration=1<br>Importance=%{x}<extra></extra>",
           "ids": [
            "Input 03"
           ],
           "legendgroup": "Input 03",
           "marker": {
            "color": "#54A24B",
            "pattern": {
             "shape": ""
            }
           },
           "name": "Input 03",
           "offsetgroup": "Input 03",
           "orientation": "h",
           "showlegend": true,
           "textposition": "auto",
           "type": "bar",
           "x": [
            0.01197860845905866
           ],
           "xaxis": "x",
           "y": [
            "Input 03"
           ],
           "yaxis": "y"
          },
          {
           "alignmentgroup": "True",
           "hovertemplate": "Feature Name=%{y}<br>Iteration=1<br>Importance=%{x}<extra></extra>",
           "ids": [
            "Input 06"
           ],
           "legendgroup": "Input 06",
           "marker": {
            "color": "#EECA3B",
            "pattern": {
             "shape": ""
            }
           },
           "name": "Input 06",
           "offsetgroup": "Input 06",
           "orientation": "h",
           "showlegend": true,
           "textposition": "auto",
           "type": "bar",
           "x": [
            0.014850444178800343
           ],
           "xaxis": "x",
           "y": [
            "Input 06"
           ],
           "yaxis": "y"
          },
          {
           "alignmentgroup": "True",
           "hovertemplate": "Feature Name=%{y}<br>Iteration=1<br>Importance=%{x}<extra></extra>",
           "ids": [
            "Input 07"
           ],
           "legendgroup": "Input 07",
           "marker": {
            "color": "#B279A2",
            "pattern": {
             "shape": ""
            }
           },
           "name": "Input 07",
           "offsetgroup": "Input 07",
           "orientation": "h",
           "showlegend": true,
           "textposition": "auto",
           "type": "bar",
           "x": [
            0.0051221927907422445
           ],
           "xaxis": "x",
           "y": [
            "Input 07"
           ],
           "yaxis": "y"
          },
          {
           "alignmentgroup": "True",
           "hovertemplate": "Feature Name=%{y}<br>Iteration=1<br>Importance=%{x}<extra></extra>",
           "ids": [
            "Input 11"
           ],
           "legendgroup": "Input 11",
           "marker": {
            "color": "#FF9DA6",
            "pattern": {
             "shape": ""
            }
           },
           "name": "Input 11",
           "offsetgroup": "Input 11",
           "orientation": "h",
           "showlegend": true,
           "textposition": "auto",
           "type": "bar",
           "x": [
            0.008605544316257551
           ],
           "xaxis": "x",
           "y": [
            "Input 11"
           ],
           "yaxis": "y"
          },
          {
           "alignmentgroup": "True",
           "hovertemplate": "Feature Name=%{y}<br>Iteration=1<br>Importance=%{x}<extra></extra>",
           "ids": [
            "Input 04"
           ],
           "legendgroup": "Input 04",
           "marker": {
            "color": "#9D755D",
            "pattern": {
             "shape": ""
            }
           },
           "name": "Input 04",
           "offsetgroup": "Input 04",
           "orientation": "h",
           "showlegend": true,
           "textposition": "auto",
           "type": "bar",
           "x": [
            0.006394963348516235
           ],
           "xaxis": "x",
           "y": [
            "Input 04"
           ],
           "yaxis": "y"
          },
          {
           "alignmentgroup": "True",
           "hovertemplate": "Feature Name=%{y}<br>Iteration=1<br>Importance=%{x}<extra></extra>",
           "ids": [
            "Input 10"
           ],
           "legendgroup": "Input 10",
           "marker": {
            "color": "#BAB0AC",
            "pattern": {
             "shape": ""
            }
           },
           "name": "Input 10",
           "offsetgroup": "Input 10",
           "orientation": "h",
           "showlegend": true,
           "textposition": "auto",
           "type": "bar",
           "x": [
            0.008598824690772432
           ],
           "xaxis": "x",
           "y": [
            "Input 10"
           ],
           "yaxis": "y"
          },
          {
           "alignmentgroup": "True",
           "hovertemplate": "Feature Name=%{y}<br>Iteration=1<br>Importance=%{x}<extra></extra>",
           "ids": [
            "Input 02"
           ],
           "legendgroup": "Input 02",
           "marker": {
            "color": "#4C78A8",
            "pattern": {
             "shape": ""
            }
           },
           "name": "Input 02",
           "offsetgroup": "Input 02",
           "orientation": "h",
           "showlegend": true,
           "textposition": "auto",
           "type": "bar",
           "x": [
            0.0049284391049361645
           ],
           "xaxis": "x",
           "y": [
            "Input 02"
           ],
           "yaxis": "y"
          },
          {
           "alignmentgroup": "True",
           "hovertemplate": "Feature Name=%{y}<br>Iteration=1<br>Importance=%{x}<extra></extra>",
           "ids": [
            "Input 05"
           ],
           "legendgroup": "Input 05",
           "marker": {
            "color": "#F58518",
            "pattern": {
             "shape": ""
            }
           },
           "name": "Input 05",
           "offsetgroup": "Input 05",
           "orientation": "h",
           "showlegend": true,
           "textposition": "auto",
           "type": "bar",
           "x": [
            0.006317136196250521
           ],
           "xaxis": "x",
           "y": [
            "Input 05"
           ],
           "yaxis": "y"
          },
          {
           "alignmentgroup": "True",
           "hovertemplate": "Feature Name=%{y}<br>Iteration=1<br>Importance=%{x}<extra></extra>",
           "ids": [
            "Input 12"
           ],
           "legendgroup": "Input 12",
           "marker": {
            "color": "#E45756",
            "pattern": {
             "shape": ""
            }
           },
           "name": "Input 12",
           "offsetgroup": "Input 12",
           "orientation": "h",
           "showlegend": true,
           "textposition": "auto",
           "type": "bar",
           "x": [
            0.009376194568168215
           ],
           "xaxis": "x",
           "y": [
            "Input 12"
           ],
           "yaxis": "y"
          }
         ],
         "name": "1"
        },
        {
         "data": [
          {
           "alignmentgroup": "True",
           "hovertemplate": "Feature Name=%{y}<br>Iteration=2<br>Importance=%{x}<extra></extra>",
           "ids": [
            "Output 01"
           ],
           "legendgroup": "Output 01",
           "marker": {
            "color": "#4C78A8",
            "pattern": {
             "shape": ""
            }
           },
           "name": "Output 01",
           "offsetgroup": "Output 01",
           "orientation": "h",
           "showlegend": true,
           "textposition": "auto",
           "type": "bar",
           "x": [
            0.7842539610109648
           ],
           "xaxis": "x",
           "y": [
            "Output 01"
           ],
           "yaxis": "y"
          },
          {
           "alignmentgroup": "True",
           "hovertemplate": "Feature Name=%{y}<br>Iteration=2<br>Importance=%{x}<extra></extra>",
           "ids": [
            "Input 08"
           ],
           "legendgroup": "Input 08",
           "marker": {
            "color": "#F58518",
            "pattern": {
             "shape": ""
            }
           },
           "name": "Input 08",
           "offsetgroup": "Input 08",
           "orientation": "h",
           "showlegend": true,
           "textposition": "auto",
           "type": "bar",
           "x": [
            0.07269892183997739
           ],
           "xaxis": "x",
           "y": [
            "Input 08"
           ],
           "yaxis": "y"
          },
          {
           "alignmentgroup": "True",
           "hovertemplate": "Feature Name=%{y}<br>Iteration=2<br>Importance=%{x}<extra></extra>",
           "ids": [
            "Input 09"
           ],
           "legendgroup": "Input 09",
           "marker": {
            "color": "#E45756",
            "pattern": {
             "shape": ""
            }
           },
           "name": "Input 09",
           "offsetgroup": "Input 09",
           "orientation": "h",
           "showlegend": true,
           "textposition": "auto",
           "type": "bar",
           "x": [
            0.0065317319875058885
           ],
           "xaxis": "x",
           "y": [
            "Input 09"
           ],
           "yaxis": "y"
          },
          {
           "alignmentgroup": "True",
           "hovertemplate": "Feature Name=%{y}<br>Iteration=2<br>Importance=%{x}<extra></extra>",
           "ids": [
            "Input 01"
           ],
           "legendgroup": "Input 01",
           "marker": {
            "color": "#72B7B2",
            "pattern": {
             "shape": ""
            }
           },
           "name": "Input 01",
           "offsetgroup": "Input 01",
           "orientation": "h",
           "showlegend": true,
           "textposition": "auto",
           "type": "bar",
           "x": [
            0.048047490837937454
           ],
           "xaxis": "x",
           "y": [
            "Input 01"
           ],
           "yaxis": "y"
          },
          {
           "alignmentgroup": "True",
           "hovertemplate": "Feature Name=%{y}<br>Iteration=2<br>Importance=%{x}<extra></extra>",
           "ids": [
            "Input 03"
           ],
           "legendgroup": "Input 03",
           "marker": {
            "color": "#54A24B",
            "pattern": {
             "shape": ""
            }
           },
           "name": "Input 03",
           "offsetgroup": "Input 03",
           "orientation": "h",
           "showlegend": true,
           "textposition": "auto",
           "type": "bar",
           "x": [
            0.010178230644996534
           ],
           "xaxis": "x",
           "y": [
            "Input 03"
           ],
           "yaxis": "y"
          },
          {
           "alignmentgroup": "True",
           "hovertemplate": "Feature Name=%{y}<br>Iteration=2<br>Importance=%{x}<extra></extra>",
           "ids": [
            "Input 06"
           ],
           "legendgroup": "Input 06",
           "marker": {
            "color": "#EECA3B",
            "pattern": {
             "shape": ""
            }
           },
           "name": "Input 06",
           "offsetgroup": "Input 06",
           "orientation": "h",
           "showlegend": true,
           "textposition": "auto",
           "type": "bar",
           "x": [
            0.03624358120068617
           ],
           "xaxis": "x",
           "y": [
            "Input 06"
           ],
           "yaxis": "y"
          },
          {
           "alignmentgroup": "True",
           "hovertemplate": "Feature Name=%{y}<br>Iteration=2<br>Importance=%{x}<extra></extra>",
           "ids": [
            "Input 07"
           ],
           "legendgroup": "Input 07",
           "marker": {
            "color": "#B279A2",
            "pattern": {
             "shape": ""
            }
           },
           "name": "Input 07",
           "offsetgroup": "Input 07",
           "orientation": "h",
           "showlegend": true,
           "textposition": "auto",
           "type": "bar",
           "x": [
            0.005200999115652524
           ],
           "xaxis": "x",
           "y": [
            "Input 07"
           ],
           "yaxis": "y"
          },
          {
           "alignmentgroup": "True",
           "hovertemplate": "Feature Name=%{y}<br>Iteration=2<br>Importance=%{x}<extra></extra>",
           "ids": [
            "Input 11"
           ],
           "legendgroup": "Input 11",
           "marker": {
            "color": "#FF9DA6",
            "pattern": {
             "shape": ""
            }
           },
           "name": "Input 11",
           "offsetgroup": "Input 11",
           "orientation": "h",
           "showlegend": true,
           "textposition": "auto",
           "type": "bar",
           "x": [
            0.006051097218613539
           ],
           "xaxis": "x",
           "y": [
            "Input 11"
           ],
           "yaxis": "y"
          },
          {
           "alignmentgroup": "True",
           "hovertemplate": "Feature Name=%{y}<br>Iteration=2<br>Importance=%{x}<extra></extra>",
           "ids": [
            "Input 04"
           ],
           "legendgroup": "Input 04",
           "marker": {
            "color": "#9D755D",
            "pattern": {
             "shape": ""
            }
           },
           "name": "Input 04",
           "offsetgroup": "Input 04",
           "orientation": "h",
           "showlegend": true,
           "textposition": "auto",
           "type": "bar",
           "x": [
            0.005611033890134353
           ],
           "xaxis": "x",
           "y": [
            "Input 04"
           ],
           "yaxis": "y"
          },
          {
           "alignmentgroup": "True",
           "hovertemplate": "Feature Name=%{y}<br>Iteration=2<br>Importance=%{x}<extra></extra>",
           "ids": [
            "Input 10"
           ],
           "legendgroup": "Input 10",
           "marker": {
            "color": "#BAB0AC",
            "pattern": {
             "shape": ""
            }
           },
           "name": "Input 10",
           "offsetgroup": "Input 10",
           "orientation": "h",
           "showlegend": true,
           "textposition": "auto",
           "type": "bar",
           "x": [
            0.005038876985592672
           ],
           "xaxis": "x",
           "y": [
            "Input 10"
           ],
           "yaxis": "y"
          },
          {
           "alignmentgroup": "True",
           "hovertemplate": "Feature Name=%{y}<br>Iteration=2<br>Importance=%{x}<extra></extra>",
           "ids": [
            "Input 02"
           ],
           "legendgroup": "Input 02",
           "marker": {
            "color": "#4C78A8",
            "pattern": {
             "shape": ""
            }
           },
           "name": "Input 02",
           "offsetgroup": "Input 02",
           "orientation": "h",
           "showlegend": true,
           "textposition": "auto",
           "type": "bar",
           "x": [
            0.005554700998367244
           ],
           "xaxis": "x",
           "y": [
            "Input 02"
           ],
           "yaxis": "y"
          },
          {
           "alignmentgroup": "True",
           "hovertemplate": "Feature Name=%{y}<br>Iteration=2<br>Importance=%{x}<extra></extra>",
           "ids": [
            "Input 05"
           ],
           "legendgroup": "Input 05",
           "marker": {
            "color": "#F58518",
            "pattern": {
             "shape": ""
            }
           },
           "name": "Input 05",
           "offsetgroup": "Input 05",
           "orientation": "h",
           "showlegend": true,
           "textposition": "auto",
           "type": "bar",
           "x": [
            0.008459678013205036
           ],
           "xaxis": "x",
           "y": [
            "Input 05"
           ],
           "yaxis": "y"
          },
          {
           "alignmentgroup": "True",
           "hovertemplate": "Feature Name=%{y}<br>Iteration=2<br>Importance=%{x}<extra></extra>",
           "ids": [
            "Input 12"
           ],
           "legendgroup": "Input 12",
           "marker": {
            "color": "#E45756",
            "pattern": {
             "shape": ""
            }
           },
           "name": "Input 12",
           "offsetgroup": "Input 12",
           "orientation": "h",
           "showlegend": true,
           "textposition": "auto",
           "type": "bar",
           "x": [
            0.006129696256366443
           ],
           "xaxis": "x",
           "y": [
            "Input 12"
           ],
           "yaxis": "y"
          }
         ],
         "name": "2"
        },
        {
         "data": [
          {
           "alignmentgroup": "True",
           "hovertemplate": "Feature Name=%{y}<br>Iteration=3<br>Importance=%{x}<extra></extra>",
           "ids": [
            "Output 01"
           ],
           "legendgroup": "Output 01",
           "marker": {
            "color": "#4C78A8",
            "pattern": {
             "shape": ""
            }
           },
           "name": "Output 01",
           "offsetgroup": "Output 01",
           "orientation": "h",
           "showlegend": true,
           "textposition": "auto",
           "type": "bar",
           "x": [
            0.7869417066201116
           ],
           "xaxis": "x",
           "y": [
            "Output 01"
           ],
           "yaxis": "y"
          },
          {
           "alignmentgroup": "True",
           "hovertemplate": "Feature Name=%{y}<br>Iteration=3<br>Importance=%{x}<extra></extra>",
           "ids": [
            "Input 08"
           ],
           "legendgroup": "Input 08",
           "marker": {
            "color": "#F58518",
            "pattern": {
             "shape": ""
            }
           },
           "name": "Input 08",
           "offsetgroup": "Input 08",
           "orientation": "h",
           "showlegend": true,
           "textposition": "auto",
           "type": "bar",
           "x": [
            0.07150459310684619
           ],
           "xaxis": "x",
           "y": [
            "Input 08"
           ],
           "yaxis": "y"
          },
          {
           "alignmentgroup": "True",
           "hovertemplate": "Feature Name=%{y}<br>Iteration=3<br>Importance=%{x}<extra></extra>",
           "ids": [
            "Input 09"
           ],
           "legendgroup": "Input 09",
           "marker": {
            "color": "#E45756",
            "pattern": {
             "shape": ""
            }
           },
           "name": "Input 09",
           "offsetgroup": "Input 09",
           "orientation": "h",
           "showlegend": true,
           "textposition": "auto",
           "type": "bar",
           "x": [
            0.006899978086057938
           ],
           "xaxis": "x",
           "y": [
            "Input 09"
           ],
           "yaxis": "y"
          },
          {
           "alignmentgroup": "True",
           "hovertemplate": "Feature Name=%{y}<br>Iteration=3<br>Importance=%{x}<extra></extra>",
           "ids": [
            "Input 01"
           ],
           "legendgroup": "Input 01",
           "marker": {
            "color": "#72B7B2",
            "pattern": {
             "shape": ""
            }
           },
           "name": "Input 01",
           "offsetgroup": "Input 01",
           "orientation": "h",
           "showlegend": true,
           "textposition": "auto",
           "type": "bar",
           "x": [
            0.047631342676173784
           ],
           "xaxis": "x",
           "y": [
            "Input 01"
           ],
           "yaxis": "y"
          },
          {
           "alignmentgroup": "True",
           "hovertemplate": "Feature Name=%{y}<br>Iteration=3<br>Importance=%{x}<extra></extra>",
           "ids": [
            "Input 03"
           ],
           "legendgroup": "Input 03",
           "marker": {
            "color": "#54A24B",
            "pattern": {
             "shape": ""
            }
           },
           "name": "Input 03",
           "offsetgroup": "Input 03",
           "orientation": "h",
           "showlegend": true,
           "textposition": "auto",
           "type": "bar",
           "x": [
            0.011049886059111825
           ],
           "xaxis": "x",
           "y": [
            "Input 03"
           ],
           "yaxis": "y"
          },
          {
           "alignmentgroup": "True",
           "hovertemplate": "Feature Name=%{y}<br>Iteration=3<br>Importance=%{x}<extra></extra>",
           "ids": [
            "Input 06"
           ],
           "legendgroup": "Input 06",
           "marker": {
            "color": "#EECA3B",
            "pattern": {
             "shape": ""
            }
           },
           "name": "Input 06",
           "offsetgroup": "Input 06",
           "orientation": "h",
           "showlegend": true,
           "textposition": "auto",
           "type": "bar",
           "x": [
            0.03593834241781498
           ],
           "xaxis": "x",
           "y": [
            "Input 06"
           ],
           "yaxis": "y"
          },
          {
           "alignmentgroup": "True",
           "hovertemplate": "Feature Name=%{y}<br>Iteration=3<br>Importance=%{x}<extra></extra>",
           "ids": [
            "Input 07"
           ],
           "legendgroup": "Input 07",
           "marker": {
            "color": "#B279A2",
            "pattern": {
             "shape": ""
            }
           },
           "name": "Input 07",
           "offsetgroup": "Input 07",
           "orientation": "h",
           "showlegend": true,
           "textposition": "auto",
           "type": "bar",
           "x": [
            0.0054226929647373905
           ],
           "xaxis": "x",
           "y": [
            "Input 07"
           ],
           "yaxis": "y"
          },
          {
           "alignmentgroup": "True",
           "hovertemplate": "Feature Name=%{y}<br>Iteration=3<br>Importance=%{x}<extra></extra>",
           "ids": [
            "Input 11"
           ],
           "legendgroup": "Input 11",
           "marker": {
            "color": "#FF9DA6",
            "pattern": {
             "shape": ""
            }
           },
           "name": "Input 11",
           "offsetgroup": "Input 11",
           "orientation": "h",
           "showlegend": true,
           "textposition": "auto",
           "type": "bar",
           "x": [
            0.005505964117471789
           ],
           "xaxis": "x",
           "y": [
            "Input 11"
           ],
           "yaxis": "y"
          },
          {
           "alignmentgroup": "True",
           "hovertemplate": "Feature Name=%{y}<br>Iteration=3<br>Importance=%{x}<extra></extra>",
           "ids": [
            "Input 04"
           ],
           "legendgroup": "Input 04",
           "marker": {
            "color": "#9D755D",
            "pattern": {
             "shape": ""
            }
           },
           "name": "Input 04",
           "offsetgroup": "Input 04",
           "orientation": "h",
           "showlegend": true,
           "textposition": "auto",
           "type": "bar",
           "x": [
            0.0054156157657054916
           ],
           "xaxis": "x",
           "y": [
            "Input 04"
           ],
           "yaxis": "y"
          },
          {
           "alignmentgroup": "True",
           "hovertemplate": "Feature Name=%{y}<br>Iteration=3<br>Importance=%{x}<extra></extra>",
           "ids": [
            "Input 10"
           ],
           "legendgroup": "Input 10",
           "marker": {
            "color": "#BAB0AC",
            "pattern": {
             "shape": ""
            }
           },
           "name": "Input 10",
           "offsetgroup": "Input 10",
           "orientation": "h",
           "showlegend": true,
           "textposition": "auto",
           "type": "bar",
           "x": [
            0.004981935680636096
           ],
           "xaxis": "x",
           "y": [
            "Input 10"
           ],
           "yaxis": "y"
          },
          {
           "alignmentgroup": "True",
           "hovertemplate": "Feature Name=%{y}<br>Iteration=3<br>Importance=%{x}<extra></extra>",
           "ids": [
            "Input 02"
           ],
           "legendgroup": "Input 02",
           "marker": {
            "color": "#4C78A8",
            "pattern": {
             "shape": ""
            }
           },
           "name": "Input 02",
           "offsetgroup": "Input 02",
           "orientation": "h",
           "showlegend": true,
           "textposition": "auto",
           "type": "bar",
           "x": [
            0.0053208510068207555
           ],
           "xaxis": "x",
           "y": [
            "Input 02"
           ],
           "yaxis": "y"
          },
          {
           "alignmentgroup": "True",
           "hovertemplate": "Feature Name=%{y}<br>Iteration=3<br>Importance=%{x}<extra></extra>",
           "ids": [
            "Input 05"
           ],
           "legendgroup": "Input 05",
           "marker": {
            "color": "#F58518",
            "pattern": {
             "shape": ""
            }
           },
           "name": "Input 05",
           "offsetgroup": "Input 05",
           "orientation": "h",
           "showlegend": true,
           "textposition": "auto",
           "type": "bar",
           "x": [
            0.006737964663152325
           ],
           "xaxis": "x",
           "y": [
            "Input 05"
           ],
           "yaxis": "y"
          },
          {
           "alignmentgroup": "True",
           "hovertemplate": "Feature Name=%{y}<br>Iteration=3<br>Importance=%{x}<extra></extra>",
           "ids": [
            "Input 12"
           ],
           "legendgroup": "Input 12",
           "marker": {
            "color": "#E45756",
            "pattern": {
             "shape": ""
            }
           },
           "name": "Input 12",
           "offsetgroup": "Input 12",
           "orientation": "h",
           "showlegend": true,
           "textposition": "auto",
           "type": "bar",
           "x": [
            0.006649126835359838
           ],
           "xaxis": "x",
           "y": [
            "Input 12"
           ],
           "yaxis": "y"
          }
         ],
         "name": "3"
        },
        {
         "data": [
          {
           "alignmentgroup": "True",
           "hovertemplate": "Feature Name=%{y}<br>Iteration=4<br>Importance=%{x}<extra></extra>",
           "ids": [
            "Output 01"
           ],
           "legendgroup": "Output 01",
           "marker": {
            "color": "#4C78A8",
            "pattern": {
             "shape": ""
            }
           },
           "name": "Output 01",
           "offsetgroup": "Output 01",
           "orientation": "h",
           "showlegend": true,
           "textposition": "auto",
           "type": "bar",
           "x": [
            0.7901947804055608
           ],
           "xaxis": "x",
           "y": [
            "Output 01"
           ],
           "yaxis": "y"
          },
          {
           "alignmentgroup": "True",
           "hovertemplate": "Feature Name=%{y}<br>Iteration=4<br>Importance=%{x}<extra></extra>",
           "ids": [
            "Input 08"
           ],
           "legendgroup": "Input 08",
           "marker": {
            "color": "#F58518",
            "pattern": {
             "shape": ""
            }
           },
           "name": "Input 08",
           "offsetgroup": "Input 08",
           "orientation": "h",
           "showlegend": true,
           "textposition": "auto",
           "type": "bar",
           "x": [
            0.07276283747363252
           ],
           "xaxis": "x",
           "y": [
            "Input 08"
           ],
           "yaxis": "y"
          },
          {
           "alignmentgroup": "True",
           "hovertemplate": "Feature Name=%{y}<br>Iteration=4<br>Importance=%{x}<extra></extra>",
           "ids": [
            "Input 09"
           ],
           "legendgroup": "Input 09",
           "marker": {
            "color": "#E45756",
            "pattern": {
             "shape": ""
            }
           },
           "name": "Input 09",
           "offsetgroup": "Input 09",
           "orientation": "h",
           "showlegend": true,
           "textposition": "auto",
           "type": "bar",
           "x": [
            0.006646825484410825
           ],
           "xaxis": "x",
           "y": [
            "Input 09"
           ],
           "yaxis": "y"
          },
          {
           "alignmentgroup": "True",
           "hovertemplate": "Feature Name=%{y}<br>Iteration=4<br>Importance=%{x}<extra></extra>",
           "ids": [
            "Input 01"
           ],
           "legendgroup": "Input 01",
           "marker": {
            "color": "#72B7B2",
            "pattern": {
             "shape": ""
            }
           },
           "name": "Input 01",
           "offsetgroup": "Input 01",
           "orientation": "h",
           "showlegend": true,
           "textposition": "auto",
           "type": "bar",
           "x": [
            0.045920808587360744
           ],
           "xaxis": "x",
           "y": [
            "Input 01"
           ],
           "yaxis": "y"
          },
          {
           "alignmentgroup": "True",
           "hovertemplate": "Feature Name=%{y}<br>Iteration=4<br>Importance=%{x}<extra></extra>",
           "ids": [
            "Input 03"
           ],
           "legendgroup": "Input 03",
           "marker": {
            "color": "#54A24B",
            "pattern": {
             "shape": ""
            }
           },
           "name": "Input 03",
           "offsetgroup": "Input 03",
           "orientation": "h",
           "showlegend": true,
           "textposition": "auto",
           "type": "bar",
           "x": [
            0.011266325320979256
           ],
           "xaxis": "x",
           "y": [
            "Input 03"
           ],
           "yaxis": "y"
          },
          {
           "alignmentgroup": "True",
           "hovertemplate": "Feature Name=%{y}<br>Iteration=4<br>Importance=%{x}<extra></extra>",
           "ids": [
            "Input 06"
           ],
           "legendgroup": "Input 06",
           "marker": {
            "color": "#EECA3B",
            "pattern": {
             "shape": ""
            }
           },
           "name": "Input 06",
           "offsetgroup": "Input 06",
           "orientation": "h",
           "showlegend": true,
           "textposition": "auto",
           "type": "bar",
           "x": [
            0.03334748354434383
           ],
           "xaxis": "x",
           "y": [
            "Input 06"
           ],
           "yaxis": "y"
          },
          {
           "alignmentgroup": "True",
           "hovertemplate": "Feature Name=%{y}<br>Iteration=4<br>Importance=%{x}<extra></extra>",
           "ids": [
            "Input 07"
           ],
           "legendgroup": "Input 07",
           "marker": {
            "color": "#B279A2",
            "pattern": {
             "shape": ""
            }
           },
           "name": "Input 07",
           "offsetgroup": "Input 07",
           "orientation": "h",
           "showlegend": true,
           "textposition": "auto",
           "type": "bar",
           "x": [
            0.005559796058994796
           ],
           "xaxis": "x",
           "y": [
            "Input 07"
           ],
           "yaxis": "y"
          },
          {
           "alignmentgroup": "True",
           "hovertemplate": "Feature Name=%{y}<br>Iteration=4<br>Importance=%{x}<extra></extra>",
           "ids": [
            "Input 11"
           ],
           "legendgroup": "Input 11",
           "marker": {
            "color": "#FF9DA6",
            "pattern": {
             "shape": ""
            }
           },
           "name": "Input 11",
           "offsetgroup": "Input 11",
           "orientation": "h",
           "showlegend": true,
           "textposition": "auto",
           "type": "bar",
           "x": [
            0.005850173890933137
           ],
           "xaxis": "x",
           "y": [
            "Input 11"
           ],
           "yaxis": "y"
          },
          {
           "alignmentgroup": "True",
           "hovertemplate": "Feature Name=%{y}<br>Iteration=4<br>Importance=%{x}<extra></extra>",
           "ids": [
            "Input 04"
           ],
           "legendgroup": "Input 04",
           "marker": {
            "color": "#9D755D",
            "pattern": {
             "shape": ""
            }
           },
           "name": "Input 04",
           "offsetgroup": "Input 04",
           "orientation": "h",
           "showlegend": true,
           "textposition": "auto",
           "type": "bar",
           "x": [
            0.00547851870819485
           ],
           "xaxis": "x",
           "y": [
            "Input 04"
           ],
           "yaxis": "y"
          },
          {
           "alignmentgroup": "True",
           "hovertemplate": "Feature Name=%{y}<br>Iteration=4<br>Importance=%{x}<extra></extra>",
           "ids": [
            "Input 10"
           ],
           "legendgroup": "Input 10",
           "marker": {
            "color": "#BAB0AC",
            "pattern": {
             "shape": ""
            }
           },
           "name": "Input 10",
           "offsetgroup": "Input 10",
           "orientation": "h",
           "showlegend": true,
           "textposition": "auto",
           "type": "bar",
           "x": [
            0.005017605616187708
           ],
           "xaxis": "x",
           "y": [
            "Input 10"
           ],
           "yaxis": "y"
          },
          {
           "alignmentgroup": "True",
           "hovertemplate": "Feature Name=%{y}<br>Iteration=4<br>Importance=%{x}<extra></extra>",
           "ids": [
            "Input 02"
           ],
           "legendgroup": "Input 02",
           "marker": {
            "color": "#4C78A8",
            "pattern": {
             "shape": ""
            }
           },
           "name": "Input 02",
           "offsetgroup": "Input 02",
           "orientation": "h",
           "showlegend": true,
           "textposition": "auto",
           "type": "bar",
           "x": [
            0.005048204622422848
           ],
           "xaxis": "x",
           "y": [
            "Input 02"
           ],
           "yaxis": "y"
          },
          {
           "alignmentgroup": "True",
           "hovertemplate": "Feature Name=%{y}<br>Iteration=4<br>Importance=%{x}<extra></extra>",
           "ids": [
            "Input 05"
           ],
           "legendgroup": "Input 05",
           "marker": {
            "color": "#F58518",
            "pattern": {
             "shape": ""
            }
           },
           "name": "Input 05",
           "offsetgroup": "Input 05",
           "orientation": "h",
           "showlegend": true,
           "textposition": "auto",
           "type": "bar",
           "x": [
            0.006544887760235602
           ],
           "xaxis": "x",
           "y": [
            "Input 05"
           ],
           "yaxis": "y"
          },
          {
           "alignmentgroup": "True",
           "hovertemplate": "Feature Name=%{y}<br>Iteration=4<br>Importance=%{x}<extra></extra>",
           "ids": [
            "Input 12"
           ],
           "legendgroup": "Input 12",
           "marker": {
            "color": "#E45756",
            "pattern": {
             "shape": ""
            }
           },
           "name": "Input 12",
           "offsetgroup": "Input 12",
           "orientation": "h",
           "showlegend": true,
           "textposition": "auto",
           "type": "bar",
           "x": [
            0.006361752526743125
           ],
           "xaxis": "x",
           "y": [
            "Input 12"
           ],
           "yaxis": "y"
          }
         ],
         "name": "4"
        },
        {
         "data": [
          {
           "alignmentgroup": "True",
           "hovertemplate": "Feature Name=%{y}<br>Iteration=5<br>Importance=%{x}<extra></extra>",
           "ids": [
            "Output 01"
           ],
           "legendgroup": "Output 01",
           "marker": {
            "color": "#4C78A8",
            "pattern": {
             "shape": ""
            }
           },
           "name": "Output 01",
           "offsetgroup": "Output 01",
           "orientation": "h",
           "showlegend": true,
           "textposition": "auto",
           "type": "bar",
           "x": [
            0.7901947804055608
           ],
           "xaxis": "x",
           "y": [
            "Output 01"
           ],
           "yaxis": "y"
          },
          {
           "alignmentgroup": "True",
           "hovertemplate": "Feature Name=%{y}<br>Iteration=5<br>Importance=%{x}<extra></extra>",
           "ids": [
            "Input 08"
           ],
           "legendgroup": "Input 08",
           "marker": {
            "color": "#F58518",
            "pattern": {
             "shape": ""
            }
           },
           "name": "Input 08",
           "offsetgroup": "Input 08",
           "orientation": "h",
           "showlegend": true,
           "textposition": "auto",
           "type": "bar",
           "x": [
            0.07276283747363252
           ],
           "xaxis": "x",
           "y": [
            "Input 08"
           ],
           "yaxis": "y"
          },
          {
           "alignmentgroup": "True",
           "hovertemplate": "Feature Name=%{y}<br>Iteration=5<br>Importance=%{x}<extra></extra>",
           "ids": [
            "Input 09"
           ],
           "legendgroup": "Input 09",
           "marker": {
            "color": "#E45756",
            "pattern": {
             "shape": ""
            }
           },
           "name": "Input 09",
           "offsetgroup": "Input 09",
           "orientation": "h",
           "showlegend": true,
           "textposition": "auto",
           "type": "bar",
           "x": [
            0.006646825484410825
           ],
           "xaxis": "x",
           "y": [
            "Input 09"
           ],
           "yaxis": "y"
          },
          {
           "alignmentgroup": "True",
           "hovertemplate": "Feature Name=%{y}<br>Iteration=5<br>Importance=%{x}<extra></extra>",
           "ids": [
            "Input 01"
           ],
           "legendgroup": "Input 01",
           "marker": {
            "color": "#72B7B2",
            "pattern": {
             "shape": ""
            }
           },
           "name": "Input 01",
           "offsetgroup": "Input 01",
           "orientation": "h",
           "showlegend": true,
           "textposition": "auto",
           "type": "bar",
           "x": [
            0.045920808587360744
           ],
           "xaxis": "x",
           "y": [
            "Input 01"
           ],
           "yaxis": "y"
          },
          {
           "alignmentgroup": "True",
           "hovertemplate": "Feature Name=%{y}<br>Iteration=5<br>Importance=%{x}<extra></extra>",
           "ids": [
            "Input 03"
           ],
           "legendgroup": "Input 03",
           "marker": {
            "color": "#54A24B",
            "pattern": {
             "shape": ""
            }
           },
           "name": "Input 03",
           "offsetgroup": "Input 03",
           "orientation": "h",
           "showlegend": true,
           "textposition": "auto",
           "type": "bar",
           "x": [
            0.011266325320979256
           ],
           "xaxis": "x",
           "y": [
            "Input 03"
           ],
           "yaxis": "y"
          },
          {
           "alignmentgroup": "True",
           "hovertemplate": "Feature Name=%{y}<br>Iteration=5<br>Importance=%{x}<extra></extra>",
           "ids": [
            "Input 06"
           ],
           "legendgroup": "Input 06",
           "marker": {
            "color": "#EECA3B",
            "pattern": {
             "shape": ""
            }
           },
           "name": "Input 06",
           "offsetgroup": "Input 06",
           "orientation": "h",
           "showlegend": true,
           "textposition": "auto",
           "type": "bar",
           "x": [
            0.03334748354434383
           ],
           "xaxis": "x",
           "y": [
            "Input 06"
           ],
           "yaxis": "y"
          },
          {
           "alignmentgroup": "True",
           "hovertemplate": "Feature Name=%{y}<br>Iteration=5<br>Importance=%{x}<extra></extra>",
           "ids": [
            "Input 07"
           ],
           "legendgroup": "Input 07",
           "marker": {
            "color": "#B279A2",
            "pattern": {
             "shape": ""
            }
           },
           "name": "Input 07",
           "offsetgroup": "Input 07",
           "orientation": "h",
           "showlegend": true,
           "textposition": "auto",
           "type": "bar",
           "x": [
            0.005559796058994796
           ],
           "xaxis": "x",
           "y": [
            "Input 07"
           ],
           "yaxis": "y"
          },
          {
           "alignmentgroup": "True",
           "hovertemplate": "Feature Name=%{y}<br>Iteration=5<br>Importance=%{x}<extra></extra>",
           "ids": [
            "Input 11"
           ],
           "legendgroup": "Input 11",
           "marker": {
            "color": "#FF9DA6",
            "pattern": {
             "shape": ""
            }
           },
           "name": "Input 11",
           "offsetgroup": "Input 11",
           "orientation": "h",
           "showlegend": true,
           "textposition": "auto",
           "type": "bar",
           "x": [
            0.005850173890933137
           ],
           "xaxis": "x",
           "y": [
            "Input 11"
           ],
           "yaxis": "y"
          },
          {
           "alignmentgroup": "True",
           "hovertemplate": "Feature Name=%{y}<br>Iteration=5<br>Importance=%{x}<extra></extra>",
           "ids": [
            "Input 04"
           ],
           "legendgroup": "Input 04",
           "marker": {
            "color": "#9D755D",
            "pattern": {
             "shape": ""
            }
           },
           "name": "Input 04",
           "offsetgroup": "Input 04",
           "orientation": "h",
           "showlegend": true,
           "textposition": "auto",
           "type": "bar",
           "x": [
            0.00547851870819485
           ],
           "xaxis": "x",
           "y": [
            "Input 04"
           ],
           "yaxis": "y"
          },
          {
           "alignmentgroup": "True",
           "hovertemplate": "Feature Name=%{y}<br>Iteration=5<br>Importance=%{x}<extra></extra>",
           "ids": [
            "Input 10"
           ],
           "legendgroup": "Input 10",
           "marker": {
            "color": "#BAB0AC",
            "pattern": {
             "shape": ""
            }
           },
           "name": "Input 10",
           "offsetgroup": "Input 10",
           "orientation": "h",
           "showlegend": true,
           "textposition": "auto",
           "type": "bar",
           "x": [
            0.005017605616187708
           ],
           "xaxis": "x",
           "y": [
            "Input 10"
           ],
           "yaxis": "y"
          },
          {
           "alignmentgroup": "True",
           "hovertemplate": "Feature Name=%{y}<br>Iteration=5<br>Importance=%{x}<extra></extra>",
           "ids": [
            "Input 02"
           ],
           "legendgroup": "Input 02",
           "marker": {
            "color": "#4C78A8",
            "pattern": {
             "shape": ""
            }
           },
           "name": "Input 02",
           "offsetgroup": "Input 02",
           "orientation": "h",
           "showlegend": true,
           "textposition": "auto",
           "type": "bar",
           "x": [
            0.005048204622422848
           ],
           "xaxis": "x",
           "y": [
            "Input 02"
           ],
           "yaxis": "y"
          },
          {
           "alignmentgroup": "True",
           "hovertemplate": "Feature Name=%{y}<br>Iteration=5<br>Importance=%{x}<extra></extra>",
           "ids": [
            "Input 05"
           ],
           "legendgroup": "Input 05",
           "marker": {
            "color": "#F58518",
            "pattern": {
             "shape": ""
            }
           },
           "name": "Input 05",
           "offsetgroup": "Input 05",
           "orientation": "h",
           "showlegend": true,
           "textposition": "auto",
           "type": "bar",
           "x": [
            0.006544887760235602
           ],
           "xaxis": "x",
           "y": [
            "Input 05"
           ],
           "yaxis": "y"
          },
          {
           "alignmentgroup": "True",
           "hovertemplate": "Feature Name=%{y}<br>Iteration=5<br>Importance=%{x}<extra></extra>",
           "ids": [
            "Input 12"
           ],
           "legendgroup": "Input 12",
           "marker": {
            "color": "#E45756",
            "pattern": {
             "shape": ""
            }
           },
           "name": "Input 12",
           "offsetgroup": "Input 12",
           "orientation": "h",
           "showlegend": true,
           "textposition": "auto",
           "type": "bar",
           "x": [
            0.006361752526743125
           ],
           "xaxis": "x",
           "y": [
            "Input 12"
           ],
           "yaxis": "y"
          }
         ],
         "name": "5"
        },
        {
         "data": [
          {
           "alignmentgroup": "True",
           "hovertemplate": "Feature Name=%{y}<br>Iteration=6<br>Importance=%{x}<extra></extra>",
           "ids": [
            "Output 01"
           ],
           "legendgroup": "Output 01",
           "marker": {
            "color": "#4C78A8",
            "pattern": {
             "shape": ""
            }
           },
           "name": "Output 01",
           "offsetgroup": "Output 01",
           "orientation": "h",
           "showlegend": true,
           "textposition": "auto",
           "type": "bar",
           "x": [
            0.7901947804055608
           ],
           "xaxis": "x",
           "y": [
            "Output 01"
           ],
           "yaxis": "y"
          },
          {
           "alignmentgroup": "True",
           "hovertemplate": "Feature Name=%{y}<br>Iteration=6<br>Importance=%{x}<extra></extra>",
           "ids": [
            "Input 08"
           ],
           "legendgroup": "Input 08",
           "marker": {
            "color": "#F58518",
            "pattern": {
             "shape": ""
            }
           },
           "name": "Input 08",
           "offsetgroup": "Input 08",
           "orientation": "h",
           "showlegend": true,
           "textposition": "auto",
           "type": "bar",
           "x": [
            0.07276283747363252
           ],
           "xaxis": "x",
           "y": [
            "Input 08"
           ],
           "yaxis": "y"
          },
          {
           "alignmentgroup": "True",
           "hovertemplate": "Feature Name=%{y}<br>Iteration=6<br>Importance=%{x}<extra></extra>",
           "ids": [
            "Input 09"
           ],
           "legendgroup": "Input 09",
           "marker": {
            "color": "#E45756",
            "pattern": {
             "shape": ""
            }
           },
           "name": "Input 09",
           "offsetgroup": "Input 09",
           "orientation": "h",
           "showlegend": true,
           "textposition": "auto",
           "type": "bar",
           "x": [
            0.006646825484410825
           ],
           "xaxis": "x",
           "y": [
            "Input 09"
           ],
           "yaxis": "y"
          },
          {
           "alignmentgroup": "True",
           "hovertemplate": "Feature Name=%{y}<br>Iteration=6<br>Importance=%{x}<extra></extra>",
           "ids": [
            "Input 01"
           ],
           "legendgroup": "Input 01",
           "marker": {
            "color": "#72B7B2",
            "pattern": {
             "shape": ""
            }
           },
           "name": "Input 01",
           "offsetgroup": "Input 01",
           "orientation": "h",
           "showlegend": true,
           "textposition": "auto",
           "type": "bar",
           "x": [
            0.045920808587360744
           ],
           "xaxis": "x",
           "y": [
            "Input 01"
           ],
           "yaxis": "y"
          },
          {
           "alignmentgroup": "True",
           "hovertemplate": "Feature Name=%{y}<br>Iteration=6<br>Importance=%{x}<extra></extra>",
           "ids": [
            "Input 03"
           ],
           "legendgroup": "Input 03",
           "marker": {
            "color": "#54A24B",
            "pattern": {
             "shape": ""
            }
           },
           "name": "Input 03",
           "offsetgroup": "Input 03",
           "orientation": "h",
           "showlegend": true,
           "textposition": "auto",
           "type": "bar",
           "x": [
            0.011266325320979256
           ],
           "xaxis": "x",
           "y": [
            "Input 03"
           ],
           "yaxis": "y"
          },
          {
           "alignmentgroup": "True",
           "hovertemplate": "Feature Name=%{y}<br>Iteration=6<br>Importance=%{x}<extra></extra>",
           "ids": [
            "Input 06"
           ],
           "legendgroup": "Input 06",
           "marker": {
            "color": "#EECA3B",
            "pattern": {
             "shape": ""
            }
           },
           "name": "Input 06",
           "offsetgroup": "Input 06",
           "orientation": "h",
           "showlegend": true,
           "textposition": "auto",
           "type": "bar",
           "x": [
            0.03334748354434383
           ],
           "xaxis": "x",
           "y": [
            "Input 06"
           ],
           "yaxis": "y"
          },
          {
           "alignmentgroup": "True",
           "hovertemplate": "Feature Name=%{y}<br>Iteration=6<br>Importance=%{x}<extra></extra>",
           "ids": [
            "Input 07"
           ],
           "legendgroup": "Input 07",
           "marker": {
            "color": "#B279A2",
            "pattern": {
             "shape": ""
            }
           },
           "name": "Input 07",
           "offsetgroup": "Input 07",
           "orientation": "h",
           "showlegend": true,
           "textposition": "auto",
           "type": "bar",
           "x": [
            0.005559796058994796
           ],
           "xaxis": "x",
           "y": [
            "Input 07"
           ],
           "yaxis": "y"
          },
          {
           "alignmentgroup": "True",
           "hovertemplate": "Feature Name=%{y}<br>Iteration=6<br>Importance=%{x}<extra></extra>",
           "ids": [
            "Input 11"
           ],
           "legendgroup": "Input 11",
           "marker": {
            "color": "#FF9DA6",
            "pattern": {
             "shape": ""
            }
           },
           "name": "Input 11",
           "offsetgroup": "Input 11",
           "orientation": "h",
           "showlegend": true,
           "textposition": "auto",
           "type": "bar",
           "x": [
            0.005850173890933137
           ],
           "xaxis": "x",
           "y": [
            "Input 11"
           ],
           "yaxis": "y"
          },
          {
           "alignmentgroup": "True",
           "hovertemplate": "Feature Name=%{y}<br>Iteration=6<br>Importance=%{x}<extra></extra>",
           "ids": [
            "Input 04"
           ],
           "legendgroup": "Input 04",
           "marker": {
            "color": "#9D755D",
            "pattern": {
             "shape": ""
            }
           },
           "name": "Input 04",
           "offsetgroup": "Input 04",
           "orientation": "h",
           "showlegend": true,
           "textposition": "auto",
           "type": "bar",
           "x": [
            0.00547851870819485
           ],
           "xaxis": "x",
           "y": [
            "Input 04"
           ],
           "yaxis": "y"
          },
          {
           "alignmentgroup": "True",
           "hovertemplate": "Feature Name=%{y}<br>Iteration=6<br>Importance=%{x}<extra></extra>",
           "ids": [
            "Input 10"
           ],
           "legendgroup": "Input 10",
           "marker": {
            "color": "#BAB0AC",
            "pattern": {
             "shape": ""
            }
           },
           "name": "Input 10",
           "offsetgroup": "Input 10",
           "orientation": "h",
           "showlegend": true,
           "textposition": "auto",
           "type": "bar",
           "x": [
            0.005017605616187708
           ],
           "xaxis": "x",
           "y": [
            "Input 10"
           ],
           "yaxis": "y"
          },
          {
           "alignmentgroup": "True",
           "hovertemplate": "Feature Name=%{y}<br>Iteration=6<br>Importance=%{x}<extra></extra>",
           "ids": [
            "Input 02"
           ],
           "legendgroup": "Input 02",
           "marker": {
            "color": "#4C78A8",
            "pattern": {
             "shape": ""
            }
           },
           "name": "Input 02",
           "offsetgroup": "Input 02",
           "orientation": "h",
           "showlegend": true,
           "textposition": "auto",
           "type": "bar",
           "x": [
            0.005048204622422848
           ],
           "xaxis": "x",
           "y": [
            "Input 02"
           ],
           "yaxis": "y"
          },
          {
           "alignmentgroup": "True",
           "hovertemplate": "Feature Name=%{y}<br>Iteration=6<br>Importance=%{x}<extra></extra>",
           "ids": [
            "Input 05"
           ],
           "legendgroup": "Input 05",
           "marker": {
            "color": "#F58518",
            "pattern": {
             "shape": ""
            }
           },
           "name": "Input 05",
           "offsetgroup": "Input 05",
           "orientation": "h",
           "showlegend": true,
           "textposition": "auto",
           "type": "bar",
           "x": [
            0.006544887760235602
           ],
           "xaxis": "x",
           "y": [
            "Input 05"
           ],
           "yaxis": "y"
          },
          {
           "alignmentgroup": "True",
           "hovertemplate": "Feature Name=%{y}<br>Iteration=6<br>Importance=%{x}<extra></extra>",
           "ids": [
            "Input 12"
           ],
           "legendgroup": "Input 12",
           "marker": {
            "color": "#E45756",
            "pattern": {
             "shape": ""
            }
           },
           "name": "Input 12",
           "offsetgroup": "Input 12",
           "orientation": "h",
           "showlegend": true,
           "textposition": "auto",
           "type": "bar",
           "x": [
            0.006361752526743125
           ],
           "xaxis": "x",
           "y": [
            "Input 12"
           ],
           "yaxis": "y"
          }
         ],
         "name": "6"
        },
        {
         "data": [
          {
           "alignmentgroup": "True",
           "hovertemplate": "Feature Name=%{y}<br>Iteration=7<br>Importance=%{x}<extra></extra>",
           "ids": [
            "Output 01"
           ],
           "legendgroup": "Output 01",
           "marker": {
            "color": "#4C78A8",
            "pattern": {
             "shape": ""
            }
           },
           "name": "Output 01",
           "offsetgroup": "Output 01",
           "orientation": "h",
           "showlegend": true,
           "textposition": "auto",
           "type": "bar",
           "x": [
            0.7901947804055608
           ],
           "xaxis": "x",
           "y": [
            "Output 01"
           ],
           "yaxis": "y"
          },
          {
           "alignmentgroup": "True",
           "hovertemplate": "Feature Name=%{y}<br>Iteration=7<br>Importance=%{x}<extra></extra>",
           "ids": [
            "Input 08"
           ],
           "legendgroup": "Input 08",
           "marker": {
            "color": "#F58518",
            "pattern": {
             "shape": ""
            }
           },
           "name": "Input 08",
           "offsetgroup": "Input 08",
           "orientation": "h",
           "showlegend": true,
           "textposition": "auto",
           "type": "bar",
           "x": [
            0.07276283747363252
           ],
           "xaxis": "x",
           "y": [
            "Input 08"
           ],
           "yaxis": "y"
          },
          {
           "alignmentgroup": "True",
           "hovertemplate": "Feature Name=%{y}<br>Iteration=7<br>Importance=%{x}<extra></extra>",
           "ids": [
            "Input 09"
           ],
           "legendgroup": "Input 09",
           "marker": {
            "color": "#E45756",
            "pattern": {
             "shape": ""
            }
           },
           "name": "Input 09",
           "offsetgroup": "Input 09",
           "orientation": "h",
           "showlegend": true,
           "textposition": "auto",
           "type": "bar",
           "x": [
            0.006646825484410825
           ],
           "xaxis": "x",
           "y": [
            "Input 09"
           ],
           "yaxis": "y"
          },
          {
           "alignmentgroup": "True",
           "hovertemplate": "Feature Name=%{y}<br>Iteration=7<br>Importance=%{x}<extra></extra>",
           "ids": [
            "Input 01"
           ],
           "legendgroup": "Input 01",
           "marker": {
            "color": "#72B7B2",
            "pattern": {
             "shape": ""
            }
           },
           "name": "Input 01",
           "offsetgroup": "Input 01",
           "orientation": "h",
           "showlegend": true,
           "textposition": "auto",
           "type": "bar",
           "x": [
            0.045920808587360744
           ],
           "xaxis": "x",
           "y": [
            "Input 01"
           ],
           "yaxis": "y"
          },
          {
           "alignmentgroup": "True",
           "hovertemplate": "Feature Name=%{y}<br>Iteration=7<br>Importance=%{x}<extra></extra>",
           "ids": [
            "Input 03"
           ],
           "legendgroup": "Input 03",
           "marker": {
            "color": "#54A24B",
            "pattern": {
             "shape": ""
            }
           },
           "name": "Input 03",
           "offsetgroup": "Input 03",
           "orientation": "h",
           "showlegend": true,
           "textposition": "auto",
           "type": "bar",
           "x": [
            0.011266325320979256
           ],
           "xaxis": "x",
           "y": [
            "Input 03"
           ],
           "yaxis": "y"
          },
          {
           "alignmentgroup": "True",
           "hovertemplate": "Feature Name=%{y}<br>Iteration=7<br>Importance=%{x}<extra></extra>",
           "ids": [
            "Input 06"
           ],
           "legendgroup": "Input 06",
           "marker": {
            "color": "#EECA3B",
            "pattern": {
             "shape": ""
            }
           },
           "name": "Input 06",
           "offsetgroup": "Input 06",
           "orientation": "h",
           "showlegend": true,
           "textposition": "auto",
           "type": "bar",
           "x": [
            0.03334748354434383
           ],
           "xaxis": "x",
           "y": [
            "Input 06"
           ],
           "yaxis": "y"
          },
          {
           "alignmentgroup": "True",
           "hovertemplate": "Feature Name=%{y}<br>Iteration=7<br>Importance=%{x}<extra></extra>",
           "ids": [
            "Input 07"
           ],
           "legendgroup": "Input 07",
           "marker": {
            "color": "#B279A2",
            "pattern": {
             "shape": ""
            }
           },
           "name": "Input 07",
           "offsetgroup": "Input 07",
           "orientation": "h",
           "showlegend": true,
           "textposition": "auto",
           "type": "bar",
           "x": [
            0.005559796058994796
           ],
           "xaxis": "x",
           "y": [
            "Input 07"
           ],
           "yaxis": "y"
          },
          {
           "alignmentgroup": "True",
           "hovertemplate": "Feature Name=%{y}<br>Iteration=7<br>Importance=%{x}<extra></extra>",
           "ids": [
            "Input 11"
           ],
           "legendgroup": "Input 11",
           "marker": {
            "color": "#FF9DA6",
            "pattern": {
             "shape": ""
            }
           },
           "name": "Input 11",
           "offsetgroup": "Input 11",
           "orientation": "h",
           "showlegend": true,
           "textposition": "auto",
           "type": "bar",
           "x": [
            0.005850173890933137
           ],
           "xaxis": "x",
           "y": [
            "Input 11"
           ],
           "yaxis": "y"
          },
          {
           "alignmentgroup": "True",
           "hovertemplate": "Feature Name=%{y}<br>Iteration=7<br>Importance=%{x}<extra></extra>",
           "ids": [
            "Input 04"
           ],
           "legendgroup": "Input 04",
           "marker": {
            "color": "#9D755D",
            "pattern": {
             "shape": ""
            }
           },
           "name": "Input 04",
           "offsetgroup": "Input 04",
           "orientation": "h",
           "showlegend": true,
           "textposition": "auto",
           "type": "bar",
           "x": [
            0.00547851870819485
           ],
           "xaxis": "x",
           "y": [
            "Input 04"
           ],
           "yaxis": "y"
          },
          {
           "alignmentgroup": "True",
           "hovertemplate": "Feature Name=%{y}<br>Iteration=7<br>Importance=%{x}<extra></extra>",
           "ids": [
            "Input 10"
           ],
           "legendgroup": "Input 10",
           "marker": {
            "color": "#BAB0AC",
            "pattern": {
             "shape": ""
            }
           },
           "name": "Input 10",
           "offsetgroup": "Input 10",
           "orientation": "h",
           "showlegend": true,
           "textposition": "auto",
           "type": "bar",
           "x": [
            0.005017605616187708
           ],
           "xaxis": "x",
           "y": [
            "Input 10"
           ],
           "yaxis": "y"
          },
          {
           "alignmentgroup": "True",
           "hovertemplate": "Feature Name=%{y}<br>Iteration=7<br>Importance=%{x}<extra></extra>",
           "ids": [
            "Input 02"
           ],
           "legendgroup": "Input 02",
           "marker": {
            "color": "#4C78A8",
            "pattern": {
             "shape": ""
            }
           },
           "name": "Input 02",
           "offsetgroup": "Input 02",
           "orientation": "h",
           "showlegend": true,
           "textposition": "auto",
           "type": "bar",
           "x": [
            0.005048204622422848
           ],
           "xaxis": "x",
           "y": [
            "Input 02"
           ],
           "yaxis": "y"
          },
          {
           "alignmentgroup": "True",
           "hovertemplate": "Feature Name=%{y}<br>Iteration=7<br>Importance=%{x}<extra></extra>",
           "ids": [
            "Input 05"
           ],
           "legendgroup": "Input 05",
           "marker": {
            "color": "#F58518",
            "pattern": {
             "shape": ""
            }
           },
           "name": "Input 05",
           "offsetgroup": "Input 05",
           "orientation": "h",
           "showlegend": true,
           "textposition": "auto",
           "type": "bar",
           "x": [
            0.006544887760235602
           ],
           "xaxis": "x",
           "y": [
            "Input 05"
           ],
           "yaxis": "y"
          },
          {
           "alignmentgroup": "True",
           "hovertemplate": "Feature Name=%{y}<br>Iteration=7<br>Importance=%{x}<extra></extra>",
           "ids": [
            "Input 12"
           ],
           "legendgroup": "Input 12",
           "marker": {
            "color": "#E45756",
            "pattern": {
             "shape": ""
            }
           },
           "name": "Input 12",
           "offsetgroup": "Input 12",
           "orientation": "h",
           "showlegend": true,
           "textposition": "auto",
           "type": "bar",
           "x": [
            0.006361752526743125
           ],
           "xaxis": "x",
           "y": [
            "Input 12"
           ],
           "yaxis": "y"
          }
         ],
         "name": "7"
        },
        {
         "data": [
          {
           "alignmentgroup": "True",
           "hovertemplate": "Feature Name=%{y}<br>Iteration=8<br>Importance=%{x}<extra></extra>",
           "ids": [
            "Output 01"
           ],
           "legendgroup": "Output 01",
           "marker": {
            "color": "#4C78A8",
            "pattern": {
             "shape": ""
            }
           },
           "name": "Output 01",
           "offsetgroup": "Output 01",
           "orientation": "h",
           "showlegend": true,
           "textposition": "auto",
           "type": "bar",
           "x": [
            0.7901947804055608
           ],
           "xaxis": "x",
           "y": [
            "Output 01"
           ],
           "yaxis": "y"
          },
          {
           "alignmentgroup": "True",
           "hovertemplate": "Feature Name=%{y}<br>Iteration=8<br>Importance=%{x}<extra></extra>",
           "ids": [
            "Input 08"
           ],
           "legendgroup": "Input 08",
           "marker": {
            "color": "#F58518",
            "pattern": {
             "shape": ""
            }
           },
           "name": "Input 08",
           "offsetgroup": "Input 08",
           "orientation": "h",
           "showlegend": true,
           "textposition": "auto",
           "type": "bar",
           "x": [
            0.07276283747363252
           ],
           "xaxis": "x",
           "y": [
            "Input 08"
           ],
           "yaxis": "y"
          },
          {
           "alignmentgroup": "True",
           "hovertemplate": "Feature Name=%{y}<br>Iteration=8<br>Importance=%{x}<extra></extra>",
           "ids": [
            "Input 09"
           ],
           "legendgroup": "Input 09",
           "marker": {
            "color": "#E45756",
            "pattern": {
             "shape": ""
            }
           },
           "name": "Input 09",
           "offsetgroup": "Input 09",
           "orientation": "h",
           "showlegend": true,
           "textposition": "auto",
           "type": "bar",
           "x": [
            0.006646825484410825
           ],
           "xaxis": "x",
           "y": [
            "Input 09"
           ],
           "yaxis": "y"
          },
          {
           "alignmentgroup": "True",
           "hovertemplate": "Feature Name=%{y}<br>Iteration=8<br>Importance=%{x}<extra></extra>",
           "ids": [
            "Input 01"
           ],
           "legendgroup": "Input 01",
           "marker": {
            "color": "#72B7B2",
            "pattern": {
             "shape": ""
            }
           },
           "name": "Input 01",
           "offsetgroup": "Input 01",
           "orientation": "h",
           "showlegend": true,
           "textposition": "auto",
           "type": "bar",
           "x": [
            0.045920808587360744
           ],
           "xaxis": "x",
           "y": [
            "Input 01"
           ],
           "yaxis": "y"
          },
          {
           "alignmentgroup": "True",
           "hovertemplate": "Feature Name=%{y}<br>Iteration=8<br>Importance=%{x}<extra></extra>",
           "ids": [
            "Input 03"
           ],
           "legendgroup": "Input 03",
           "marker": {
            "color": "#54A24B",
            "pattern": {
             "shape": ""
            }
           },
           "name": "Input 03",
           "offsetgroup": "Input 03",
           "orientation": "h",
           "showlegend": true,
           "textposition": "auto",
           "type": "bar",
           "x": [
            0.011266325320979256
           ],
           "xaxis": "x",
           "y": [
            "Input 03"
           ],
           "yaxis": "y"
          },
          {
           "alignmentgroup": "True",
           "hovertemplate": "Feature Name=%{y}<br>Iteration=8<br>Importance=%{x}<extra></extra>",
           "ids": [
            "Input 06"
           ],
           "legendgroup": "Input 06",
           "marker": {
            "color": "#EECA3B",
            "pattern": {
             "shape": ""
            }
           },
           "name": "Input 06",
           "offsetgroup": "Input 06",
           "orientation": "h",
           "showlegend": true,
           "textposition": "auto",
           "type": "bar",
           "x": [
            0.03334748354434383
           ],
           "xaxis": "x",
           "y": [
            "Input 06"
           ],
           "yaxis": "y"
          },
          {
           "alignmentgroup": "True",
           "hovertemplate": "Feature Name=%{y}<br>Iteration=8<br>Importance=%{x}<extra></extra>",
           "ids": [
            "Input 07"
           ],
           "legendgroup": "Input 07",
           "marker": {
            "color": "#B279A2",
            "pattern": {
             "shape": ""
            }
           },
           "name": "Input 07",
           "offsetgroup": "Input 07",
           "orientation": "h",
           "showlegend": true,
           "textposition": "auto",
           "type": "bar",
           "x": [
            0.005559796058994796
           ],
           "xaxis": "x",
           "y": [
            "Input 07"
           ],
           "yaxis": "y"
          },
          {
           "alignmentgroup": "True",
           "hovertemplate": "Feature Name=%{y}<br>Iteration=8<br>Importance=%{x}<extra></extra>",
           "ids": [
            "Input 11"
           ],
           "legendgroup": "Input 11",
           "marker": {
            "color": "#FF9DA6",
            "pattern": {
             "shape": ""
            }
           },
           "name": "Input 11",
           "offsetgroup": "Input 11",
           "orientation": "h",
           "showlegend": true,
           "textposition": "auto",
           "type": "bar",
           "x": [
            0.005850173890933137
           ],
           "xaxis": "x",
           "y": [
            "Input 11"
           ],
           "yaxis": "y"
          },
          {
           "alignmentgroup": "True",
           "hovertemplate": "Feature Name=%{y}<br>Iteration=8<br>Importance=%{x}<extra></extra>",
           "ids": [
            "Input 04"
           ],
           "legendgroup": "Input 04",
           "marker": {
            "color": "#9D755D",
            "pattern": {
             "shape": ""
            }
           },
           "name": "Input 04",
           "offsetgroup": "Input 04",
           "orientation": "h",
           "showlegend": true,
           "textposition": "auto",
           "type": "bar",
           "x": [
            0.00547851870819485
           ],
           "xaxis": "x",
           "y": [
            "Input 04"
           ],
           "yaxis": "y"
          },
          {
           "alignmentgroup": "True",
           "hovertemplate": "Feature Name=%{y}<br>Iteration=8<br>Importance=%{x}<extra></extra>",
           "ids": [
            "Input 10"
           ],
           "legendgroup": "Input 10",
           "marker": {
            "color": "#BAB0AC",
            "pattern": {
             "shape": ""
            }
           },
           "name": "Input 10",
           "offsetgroup": "Input 10",
           "orientation": "h",
           "showlegend": true,
           "textposition": "auto",
           "type": "bar",
           "x": [
            0.005017605616187708
           ],
           "xaxis": "x",
           "y": [
            "Input 10"
           ],
           "yaxis": "y"
          },
          {
           "alignmentgroup": "True",
           "hovertemplate": "Feature Name=%{y}<br>Iteration=8<br>Importance=%{x}<extra></extra>",
           "ids": [
            "Input 02"
           ],
           "legendgroup": "Input 02",
           "marker": {
            "color": "#4C78A8",
            "pattern": {
             "shape": ""
            }
           },
           "name": "Input 02",
           "offsetgroup": "Input 02",
           "orientation": "h",
           "showlegend": true,
           "textposition": "auto",
           "type": "bar",
           "x": [
            0.005048204622422848
           ],
           "xaxis": "x",
           "y": [
            "Input 02"
           ],
           "yaxis": "y"
          },
          {
           "alignmentgroup": "True",
           "hovertemplate": "Feature Name=%{y}<br>Iteration=8<br>Importance=%{x}<extra></extra>",
           "ids": [
            "Input 05"
           ],
           "legendgroup": "Input 05",
           "marker": {
            "color": "#F58518",
            "pattern": {
             "shape": ""
            }
           },
           "name": "Input 05",
           "offsetgroup": "Input 05",
           "orientation": "h",
           "showlegend": true,
           "textposition": "auto",
           "type": "bar",
           "x": [
            0.006544887760235602
           ],
           "xaxis": "x",
           "y": [
            "Input 05"
           ],
           "yaxis": "y"
          },
          {
           "alignmentgroup": "True",
           "hovertemplate": "Feature Name=%{y}<br>Iteration=8<br>Importance=%{x}<extra></extra>",
           "ids": [
            "Input 12"
           ],
           "legendgroup": "Input 12",
           "marker": {
            "color": "#E45756",
            "pattern": {
             "shape": ""
            }
           },
           "name": "Input 12",
           "offsetgroup": "Input 12",
           "orientation": "h",
           "showlegend": true,
           "textposition": "auto",
           "type": "bar",
           "x": [
            0.006361752526743125
           ],
           "xaxis": "x",
           "y": [
            "Input 12"
           ],
           "yaxis": "y"
          }
         ],
         "name": "8"
        },
        {
         "data": [
          {
           "alignmentgroup": "True",
           "hovertemplate": "Feature Name=%{y}<br>Iteration=9<br>Importance=%{x}<extra></extra>",
           "ids": [
            "Output 01"
           ],
           "legendgroup": "Output 01",
           "marker": {
            "color": "#4C78A8",
            "pattern": {
             "shape": ""
            }
           },
           "name": "Output 01",
           "offsetgroup": "Output 01",
           "orientation": "h",
           "showlegend": true,
           "textposition": "auto",
           "type": "bar",
           "x": [
            0.7901947804055608
           ],
           "xaxis": "x",
           "y": [
            "Output 01"
           ],
           "yaxis": "y"
          },
          {
           "alignmentgroup": "True",
           "hovertemplate": "Feature Name=%{y}<br>Iteration=9<br>Importance=%{x}<extra></extra>",
           "ids": [
            "Input 08"
           ],
           "legendgroup": "Input 08",
           "marker": {
            "color": "#F58518",
            "pattern": {
             "shape": ""
            }
           },
           "name": "Input 08",
           "offsetgroup": "Input 08",
           "orientation": "h",
           "showlegend": true,
           "textposition": "auto",
           "type": "bar",
           "x": [
            0.07276283747363252
           ],
           "xaxis": "x",
           "y": [
            "Input 08"
           ],
           "yaxis": "y"
          },
          {
           "alignmentgroup": "True",
           "hovertemplate": "Feature Name=%{y}<br>Iteration=9<br>Importance=%{x}<extra></extra>",
           "ids": [
            "Input 09"
           ],
           "legendgroup": "Input 09",
           "marker": {
            "color": "#E45756",
            "pattern": {
             "shape": ""
            }
           },
           "name": "Input 09",
           "offsetgroup": "Input 09",
           "orientation": "h",
           "showlegend": true,
           "textposition": "auto",
           "type": "bar",
           "x": [
            0.006646825484410825
           ],
           "xaxis": "x",
           "y": [
            "Input 09"
           ],
           "yaxis": "y"
          },
          {
           "alignmentgroup": "True",
           "hovertemplate": "Feature Name=%{y}<br>Iteration=9<br>Importance=%{x}<extra></extra>",
           "ids": [
            "Input 01"
           ],
           "legendgroup": "Input 01",
           "marker": {
            "color": "#72B7B2",
            "pattern": {
             "shape": ""
            }
           },
           "name": "Input 01",
           "offsetgroup": "Input 01",
           "orientation": "h",
           "showlegend": true,
           "textposition": "auto",
           "type": "bar",
           "x": [
            0.045920808587360744
           ],
           "xaxis": "x",
           "y": [
            "Input 01"
           ],
           "yaxis": "y"
          },
          {
           "alignmentgroup": "True",
           "hovertemplate": "Feature Name=%{y}<br>Iteration=9<br>Importance=%{x}<extra></extra>",
           "ids": [
            "Input 03"
           ],
           "legendgroup": "Input 03",
           "marker": {
            "color": "#54A24B",
            "pattern": {
             "shape": ""
            }
           },
           "name": "Input 03",
           "offsetgroup": "Input 03",
           "orientation": "h",
           "showlegend": true,
           "textposition": "auto",
           "type": "bar",
           "x": [
            0.011266325320979256
           ],
           "xaxis": "x",
           "y": [
            "Input 03"
           ],
           "yaxis": "y"
          },
          {
           "alignmentgroup": "True",
           "hovertemplate": "Feature Name=%{y}<br>Iteration=9<br>Importance=%{x}<extra></extra>",
           "ids": [
            "Input 06"
           ],
           "legendgroup": "Input 06",
           "marker": {
            "color": "#EECA3B",
            "pattern": {
             "shape": ""
            }
           },
           "name": "Input 06",
           "offsetgroup": "Input 06",
           "orientation": "h",
           "showlegend": true,
           "textposition": "auto",
           "type": "bar",
           "x": [
            0.03334748354434383
           ],
           "xaxis": "x",
           "y": [
            "Input 06"
           ],
           "yaxis": "y"
          },
          {
           "alignmentgroup": "True",
           "hovertemplate": "Feature Name=%{y}<br>Iteration=9<br>Importance=%{x}<extra></extra>",
           "ids": [
            "Input 07"
           ],
           "legendgroup": "Input 07",
           "marker": {
            "color": "#B279A2",
            "pattern": {
             "shape": ""
            }
           },
           "name": "Input 07",
           "offsetgroup": "Input 07",
           "orientation": "h",
           "showlegend": true,
           "textposition": "auto",
           "type": "bar",
           "x": [
            0.005559796058994796
           ],
           "xaxis": "x",
           "y": [
            "Input 07"
           ],
           "yaxis": "y"
          },
          {
           "alignmentgroup": "True",
           "hovertemplate": "Feature Name=%{y}<br>Iteration=9<br>Importance=%{x}<extra></extra>",
           "ids": [
            "Input 11"
           ],
           "legendgroup": "Input 11",
           "marker": {
            "color": "#FF9DA6",
            "pattern": {
             "shape": ""
            }
           },
           "name": "Input 11",
           "offsetgroup": "Input 11",
           "orientation": "h",
           "showlegend": true,
           "textposition": "auto",
           "type": "bar",
           "x": [
            0.005850173890933137
           ],
           "xaxis": "x",
           "y": [
            "Input 11"
           ],
           "yaxis": "y"
          },
          {
           "alignmentgroup": "True",
           "hovertemplate": "Feature Name=%{y}<br>Iteration=9<br>Importance=%{x}<extra></extra>",
           "ids": [
            "Input 04"
           ],
           "legendgroup": "Input 04",
           "marker": {
            "color": "#9D755D",
            "pattern": {
             "shape": ""
            }
           },
           "name": "Input 04",
           "offsetgroup": "Input 04",
           "orientation": "h",
           "showlegend": true,
           "textposition": "auto",
           "type": "bar",
           "x": [
            0.00547851870819485
           ],
           "xaxis": "x",
           "y": [
            "Input 04"
           ],
           "yaxis": "y"
          },
          {
           "alignmentgroup": "True",
           "hovertemplate": "Feature Name=%{y}<br>Iteration=9<br>Importance=%{x}<extra></extra>",
           "ids": [
            "Input 10"
           ],
           "legendgroup": "Input 10",
           "marker": {
            "color": "#BAB0AC",
            "pattern": {
             "shape": ""
            }
           },
           "name": "Input 10",
           "offsetgroup": "Input 10",
           "orientation": "h",
           "showlegend": true,
           "textposition": "auto",
           "type": "bar",
           "x": [
            0.005017605616187708
           ],
           "xaxis": "x",
           "y": [
            "Input 10"
           ],
           "yaxis": "y"
          },
          {
           "alignmentgroup": "True",
           "hovertemplate": "Feature Name=%{y}<br>Iteration=9<br>Importance=%{x}<extra></extra>",
           "ids": [
            "Input 02"
           ],
           "legendgroup": "Input 02",
           "marker": {
            "color": "#4C78A8",
            "pattern": {
             "shape": ""
            }
           },
           "name": "Input 02",
           "offsetgroup": "Input 02",
           "orientation": "h",
           "showlegend": true,
           "textposition": "auto",
           "type": "bar",
           "x": [
            0.005048204622422848
           ],
           "xaxis": "x",
           "y": [
            "Input 02"
           ],
           "yaxis": "y"
          },
          {
           "alignmentgroup": "True",
           "hovertemplate": "Feature Name=%{y}<br>Iteration=9<br>Importance=%{x}<extra></extra>",
           "ids": [
            "Input 05"
           ],
           "legendgroup": "Input 05",
           "marker": {
            "color": "#F58518",
            "pattern": {
             "shape": ""
            }
           },
           "name": "Input 05",
           "offsetgroup": "Input 05",
           "orientation": "h",
           "showlegend": true,
           "textposition": "auto",
           "type": "bar",
           "x": [
            0.006544887760235602
           ],
           "xaxis": "x",
           "y": [
            "Input 05"
           ],
           "yaxis": "y"
          },
          {
           "alignmentgroup": "True",
           "hovertemplate": "Feature Name=%{y}<br>Iteration=9<br>Importance=%{x}<extra></extra>",
           "ids": [
            "Input 12"
           ],
           "legendgroup": "Input 12",
           "marker": {
            "color": "#E45756",
            "pattern": {
             "shape": ""
            }
           },
           "name": "Input 12",
           "offsetgroup": "Input 12",
           "orientation": "h",
           "showlegend": true,
           "textposition": "auto",
           "type": "bar",
           "x": [
            0.006361752526743125
           ],
           "xaxis": "x",
           "y": [
            "Input 12"
           ],
           "yaxis": "y"
          }
         ],
         "name": "9"
        },
        {
         "data": [
          {
           "alignmentgroup": "True",
           "hovertemplate": "Feature Name=%{y}<br>Iteration=10<br>Importance=%{x}<extra></extra>",
           "ids": [
            "Output 01"
           ],
           "legendgroup": "Output 01",
           "marker": {
            "color": "#4C78A8",
            "pattern": {
             "shape": ""
            }
           },
           "name": "Output 01",
           "offsetgroup": "Output 01",
           "orientation": "h",
           "showlegend": true,
           "textposition": "auto",
           "type": "bar",
           "x": [
            0.7901947804055608
           ],
           "xaxis": "x",
           "y": [
            "Output 01"
           ],
           "yaxis": "y"
          },
          {
           "alignmentgroup": "True",
           "hovertemplate": "Feature Name=%{y}<br>Iteration=10<br>Importance=%{x}<extra></extra>",
           "ids": [
            "Input 08"
           ],
           "legendgroup": "Input 08",
           "marker": {
            "color": "#F58518",
            "pattern": {
             "shape": ""
            }
           },
           "name": "Input 08",
           "offsetgroup": "Input 08",
           "orientation": "h",
           "showlegend": true,
           "textposition": "auto",
           "type": "bar",
           "x": [
            0.07276283747363252
           ],
           "xaxis": "x",
           "y": [
            "Input 08"
           ],
           "yaxis": "y"
          },
          {
           "alignmentgroup": "True",
           "hovertemplate": "Feature Name=%{y}<br>Iteration=10<br>Importance=%{x}<extra></extra>",
           "ids": [
            "Input 09"
           ],
           "legendgroup": "Input 09",
           "marker": {
            "color": "#E45756",
            "pattern": {
             "shape": ""
            }
           },
           "name": "Input 09",
           "offsetgroup": "Input 09",
           "orientation": "h",
           "showlegend": true,
           "textposition": "auto",
           "type": "bar",
           "x": [
            0.006646825484410825
           ],
           "xaxis": "x",
           "y": [
            "Input 09"
           ],
           "yaxis": "y"
          },
          {
           "alignmentgroup": "True",
           "hovertemplate": "Feature Name=%{y}<br>Iteration=10<br>Importance=%{x}<extra></extra>",
           "ids": [
            "Input 01"
           ],
           "legendgroup": "Input 01",
           "marker": {
            "color": "#72B7B2",
            "pattern": {
             "shape": ""
            }
           },
           "name": "Input 01",
           "offsetgroup": "Input 01",
           "orientation": "h",
           "showlegend": true,
           "textposition": "auto",
           "type": "bar",
           "x": [
            0.045920808587360744
           ],
           "xaxis": "x",
           "y": [
            "Input 01"
           ],
           "yaxis": "y"
          },
          {
           "alignmentgroup": "True",
           "hovertemplate": "Feature Name=%{y}<br>Iteration=10<br>Importance=%{x}<extra></extra>",
           "ids": [
            "Input 03"
           ],
           "legendgroup": "Input 03",
           "marker": {
            "color": "#54A24B",
            "pattern": {
             "shape": ""
            }
           },
           "name": "Input 03",
           "offsetgroup": "Input 03",
           "orientation": "h",
           "showlegend": true,
           "textposition": "auto",
           "type": "bar",
           "x": [
            0.011266325320979256
           ],
           "xaxis": "x",
           "y": [
            "Input 03"
           ],
           "yaxis": "y"
          },
          {
           "alignmentgroup": "True",
           "hovertemplate": "Feature Name=%{y}<br>Iteration=10<br>Importance=%{x}<extra></extra>",
           "ids": [
            "Input 06"
           ],
           "legendgroup": "Input 06",
           "marker": {
            "color": "#EECA3B",
            "pattern": {
             "shape": ""
            }
           },
           "name": "Input 06",
           "offsetgroup": "Input 06",
           "orientation": "h",
           "showlegend": true,
           "textposition": "auto",
           "type": "bar",
           "x": [
            0.03334748354434383
           ],
           "xaxis": "x",
           "y": [
            "Input 06"
           ],
           "yaxis": "y"
          },
          {
           "alignmentgroup": "True",
           "hovertemplate": "Feature Name=%{y}<br>Iteration=10<br>Importance=%{x}<extra></extra>",
           "ids": [
            "Input 07"
           ],
           "legendgroup": "Input 07",
           "marker": {
            "color": "#B279A2",
            "pattern": {
             "shape": ""
            }
           },
           "name": "Input 07",
           "offsetgroup": "Input 07",
           "orientation": "h",
           "showlegend": true,
           "textposition": "auto",
           "type": "bar",
           "x": [
            0.005559796058994796
           ],
           "xaxis": "x",
           "y": [
            "Input 07"
           ],
           "yaxis": "y"
          },
          {
           "alignmentgroup": "True",
           "hovertemplate": "Feature Name=%{y}<br>Iteration=10<br>Importance=%{x}<extra></extra>",
           "ids": [
            "Input 11"
           ],
           "legendgroup": "Input 11",
           "marker": {
            "color": "#FF9DA6",
            "pattern": {
             "shape": ""
            }
           },
           "name": "Input 11",
           "offsetgroup": "Input 11",
           "orientation": "h",
           "showlegend": true,
           "textposition": "auto",
           "type": "bar",
           "x": [
            0.005850173890933137
           ],
           "xaxis": "x",
           "y": [
            "Input 11"
           ],
           "yaxis": "y"
          },
          {
           "alignmentgroup": "True",
           "hovertemplate": "Feature Name=%{y}<br>Iteration=10<br>Importance=%{x}<extra></extra>",
           "ids": [
            "Input 04"
           ],
           "legendgroup": "Input 04",
           "marker": {
            "color": "#9D755D",
            "pattern": {
             "shape": ""
            }
           },
           "name": "Input 04",
           "offsetgroup": "Input 04",
           "orientation": "h",
           "showlegend": true,
           "textposition": "auto",
           "type": "bar",
           "x": [
            0.00547851870819485
           ],
           "xaxis": "x",
           "y": [
            "Input 04"
           ],
           "yaxis": "y"
          },
          {
           "alignmentgroup": "True",
           "hovertemplate": "Feature Name=%{y}<br>Iteration=10<br>Importance=%{x}<extra></extra>",
           "ids": [
            "Input 10"
           ],
           "legendgroup": "Input 10",
           "marker": {
            "color": "#BAB0AC",
            "pattern": {
             "shape": ""
            }
           },
           "name": "Input 10",
           "offsetgroup": "Input 10",
           "orientation": "h",
           "showlegend": true,
           "textposition": "auto",
           "type": "bar",
           "x": [
            0.005017605616187708
           ],
           "xaxis": "x",
           "y": [
            "Input 10"
           ],
           "yaxis": "y"
          },
          {
           "alignmentgroup": "True",
           "hovertemplate": "Feature Name=%{y}<br>Iteration=10<br>Importance=%{x}<extra></extra>",
           "ids": [
            "Input 02"
           ],
           "legendgroup": "Input 02",
           "marker": {
            "color": "#4C78A8",
            "pattern": {
             "shape": ""
            }
           },
           "name": "Input 02",
           "offsetgroup": "Input 02",
           "orientation": "h",
           "showlegend": true,
           "textposition": "auto",
           "type": "bar",
           "x": [
            0.005048204622422848
           ],
           "xaxis": "x",
           "y": [
            "Input 02"
           ],
           "yaxis": "y"
          },
          {
           "alignmentgroup": "True",
           "hovertemplate": "Feature Name=%{y}<br>Iteration=10<br>Importance=%{x}<extra></extra>",
           "ids": [
            "Input 05"
           ],
           "legendgroup": "Input 05",
           "marker": {
            "color": "#F58518",
            "pattern": {
             "shape": ""
            }
           },
           "name": "Input 05",
           "offsetgroup": "Input 05",
           "orientation": "h",
           "showlegend": true,
           "textposition": "auto",
           "type": "bar",
           "x": [
            0.006544887760235602
           ],
           "xaxis": "x",
           "y": [
            "Input 05"
           ],
           "yaxis": "y"
          },
          {
           "alignmentgroup": "True",
           "hovertemplate": "Feature Name=%{y}<br>Iteration=10<br>Importance=%{x}<extra></extra>",
           "ids": [
            "Input 12"
           ],
           "legendgroup": "Input 12",
           "marker": {
            "color": "#E45756",
            "pattern": {
             "shape": ""
            }
           },
           "name": "Input 12",
           "offsetgroup": "Input 12",
           "orientation": "h",
           "showlegend": true,
           "textposition": "auto",
           "type": "bar",
           "x": [
            0.006361752526743125
           ],
           "xaxis": "x",
           "y": [
            "Input 12"
           ],
           "yaxis": "y"
          }
         ],
         "name": "10"
        }
       ],
       "layout": {
        "autosize": false,
        "barmode": "relative",
        "height": 500,
        "legend": {
         "title": {
          "text": "Feature Name"
         },
         "tracegroupgap": 0
        },
        "margin": {
         "t": 60
        },
        "sliders": [
         {
          "active": 6,
          "currentvalue": {
           "prefix": "Iteration="
          },
          "len": 0.9,
          "pad": {
           "b": 10,
           "t": 60
          },
          "steps": [
           {
            "args": [
             [
              "0"
             ],
             {
              "frame": {
               "duration": 0,
               "redraw": true
              },
              "fromcurrent": true,
              "mode": "immediate",
              "transition": {
               "duration": 0,
               "easing": "linear"
              }
             }
            ],
            "label": "0",
            "method": "animate"
           },
           {
            "args": [
             [
              "1"
             ],
             {
              "frame": {
               "duration": 0,
               "redraw": true
              },
              "fromcurrent": true,
              "mode": "immediate",
              "transition": {
               "duration": 0,
               "easing": "linear"
              }
             }
            ],
            "label": "1",
            "method": "animate"
           },
           {
            "args": [
             [
              "2"
             ],
             {
              "frame": {
               "duration": 0,
               "redraw": true
              },
              "fromcurrent": true,
              "mode": "immediate",
              "transition": {
               "duration": 0,
               "easing": "linear"
              }
             }
            ],
            "label": "2",
            "method": "animate"
           },
           {
            "args": [
             [
              "3"
             ],
             {
              "frame": {
               "duration": 0,
               "redraw": true
              },
              "fromcurrent": true,
              "mode": "immediate",
              "transition": {
               "duration": 0,
               "easing": "linear"
              }
             }
            ],
            "label": "3",
            "method": "animate"
           },
           {
            "args": [
             [
              "4"
             ],
             {
              "frame": {
               "duration": 0,
               "redraw": true
              },
              "fromcurrent": true,
              "mode": "immediate",
              "transition": {
               "duration": 0,
               "easing": "linear"
              }
             }
            ],
            "label": "4",
            "method": "animate"
           },
           {
            "args": [
             [
              "5"
             ],
             {
              "frame": {
               "duration": 0,
               "redraw": true
              },
              "fromcurrent": true,
              "mode": "immediate",
              "transition": {
               "duration": 0,
               "easing": "linear"
              }
             }
            ],
            "label": "5",
            "method": "animate"
           },
           {
            "args": [
             [
              "6"
             ],
             {
              "frame": {
               "duration": 0,
               "redraw": true
              },
              "fromcurrent": true,
              "mode": "immediate",
              "transition": {
               "duration": 0,
               "easing": "linear"
              }
             }
            ],
            "label": "6",
            "method": "animate"
           },
           {
            "args": [
             [
              "7"
             ],
             {
              "frame": {
               "duration": 0,
               "redraw": true
              },
              "fromcurrent": true,
              "mode": "immediate",
              "transition": {
               "duration": 0,
               "easing": "linear"
              }
             }
            ],
            "label": "7",
            "method": "animate"
           },
           {
            "args": [
             [
              "8"
             ],
             {
              "frame": {
               "duration": 0,
               "redraw": true
              },
              "fromcurrent": true,
              "mode": "immediate",
              "transition": {
               "duration": 0,
               "easing": "linear"
              }
             }
            ],
            "label": "8",
            "method": "animate"
           },
           {
            "args": [
             [
              "9"
             ],
             {
              "frame": {
               "duration": 0,
               "redraw": true
              },
              "fromcurrent": true,
              "mode": "immediate",
              "transition": {
               "duration": 0,
               "easing": "linear"
              }
             }
            ],
            "label": "9",
            "method": "animate"
           },
           {
            "args": [
             [
              "10"
             ],
             {
              "frame": {
               "duration": 0,
               "redraw": true
              },
              "fromcurrent": true,
              "mode": "immediate",
              "transition": {
               "duration": 0,
               "easing": "linear"
              }
             }
            ],
            "label": "10",
            "method": "animate"
           }
          ],
          "x": 0.1,
          "xanchor": "left",
          "y": 0,
          "yanchor": "top"
         }
        ],
        "template": {
         "data": {
          "bar": [
           {
            "error_x": {
             "color": "#2a3f5f"
            },
            "error_y": {
             "color": "#2a3f5f"
            },
            "marker": {
             "line": {
              "color": "#E5ECF6",
              "width": 0.5
             },
             "pattern": {
              "fillmode": "overlay",
              "size": 10,
              "solidity": 0.2
             }
            },
            "type": "bar"
           }
          ],
          "barpolar": [
           {
            "marker": {
             "line": {
              "color": "#E5ECF6",
              "width": 0.5
             },
             "pattern": {
              "fillmode": "overlay",
              "size": 10,
              "solidity": 0.2
             }
            },
            "type": "barpolar"
           }
          ],
          "carpet": [
           {
            "aaxis": {
             "endlinecolor": "#2a3f5f",
             "gridcolor": "white",
             "linecolor": "white",
             "minorgridcolor": "white",
             "startlinecolor": "#2a3f5f"
            },
            "baxis": {
             "endlinecolor": "#2a3f5f",
             "gridcolor": "white",
             "linecolor": "white",
             "minorgridcolor": "white",
             "startlinecolor": "#2a3f5f"
            },
            "type": "carpet"
           }
          ],
          "choropleth": [
           {
            "colorbar": {
             "outlinewidth": 0,
             "ticks": ""
            },
            "type": "choropleth"
           }
          ],
          "contour": [
           {
            "colorbar": {
             "outlinewidth": 0,
             "ticks": ""
            },
            "colorscale": [
             [
              0,
              "#0d0887"
             ],
             [
              0.1111111111111111,
              "#46039f"
             ],
             [
              0.2222222222222222,
              "#7201a8"
             ],
             [
              0.3333333333333333,
              "#9c179e"
             ],
             [
              0.4444444444444444,
              "#bd3786"
             ],
             [
              0.5555555555555556,
              "#d8576b"
             ],
             [
              0.6666666666666666,
              "#ed7953"
             ],
             [
              0.7777777777777778,
              "#fb9f3a"
             ],
             [
              0.8888888888888888,
              "#fdca26"
             ],
             [
              1,
              "#f0f921"
             ]
            ],
            "type": "contour"
           }
          ],
          "contourcarpet": [
           {
            "colorbar": {
             "outlinewidth": 0,
             "ticks": ""
            },
            "type": "contourcarpet"
           }
          ],
          "heatmap": [
           {
            "colorbar": {
             "outlinewidth": 0,
             "ticks": ""
            },
            "colorscale": [
             [
              0,
              "#0d0887"
             ],
             [
              0.1111111111111111,
              "#46039f"
             ],
             [
              0.2222222222222222,
              "#7201a8"
             ],
             [
              0.3333333333333333,
              "#9c179e"
             ],
             [
              0.4444444444444444,
              "#bd3786"
             ],
             [
              0.5555555555555556,
              "#d8576b"
             ],
             [
              0.6666666666666666,
              "#ed7953"
             ],
             [
              0.7777777777777778,
              "#fb9f3a"
             ],
             [
              0.8888888888888888,
              "#fdca26"
             ],
             [
              1,
              "#f0f921"
             ]
            ],
            "type": "heatmap"
           }
          ],
          "heatmapgl": [
           {
            "colorbar": {
             "outlinewidth": 0,
             "ticks": ""
            },
            "colorscale": [
             [
              0,
              "#0d0887"
             ],
             [
              0.1111111111111111,
              "#46039f"
             ],
             [
              0.2222222222222222,
              "#7201a8"
             ],
             [
              0.3333333333333333,
              "#9c179e"
             ],
             [
              0.4444444444444444,
              "#bd3786"
             ],
             [
              0.5555555555555556,
              "#d8576b"
             ],
             [
              0.6666666666666666,
              "#ed7953"
             ],
             [
              0.7777777777777778,
              "#fb9f3a"
             ],
             [
              0.8888888888888888,
              "#fdca26"
             ],
             [
              1,
              "#f0f921"
             ]
            ],
            "type": "heatmapgl"
           }
          ],
          "histogram": [
           {
            "marker": {
             "pattern": {
              "fillmode": "overlay",
              "size": 10,
              "solidity": 0.2
             }
            },
            "type": "histogram"
           }
          ],
          "histogram2d": [
           {
            "colorbar": {
             "outlinewidth": 0,
             "ticks": ""
            },
            "colorscale": [
             [
              0,
              "#0d0887"
             ],
             [
              0.1111111111111111,
              "#46039f"
             ],
             [
              0.2222222222222222,
              "#7201a8"
             ],
             [
              0.3333333333333333,
              "#9c179e"
             ],
             [
              0.4444444444444444,
              "#bd3786"
             ],
             [
              0.5555555555555556,
              "#d8576b"
             ],
             [
              0.6666666666666666,
              "#ed7953"
             ],
             [
              0.7777777777777778,
              "#fb9f3a"
             ],
             [
              0.8888888888888888,
              "#fdca26"
             ],
             [
              1,
              "#f0f921"
             ]
            ],
            "type": "histogram2d"
           }
          ],
          "histogram2dcontour": [
           {
            "colorbar": {
             "outlinewidth": 0,
             "ticks": ""
            },
            "colorscale": [
             [
              0,
              "#0d0887"
             ],
             [
              0.1111111111111111,
              "#46039f"
             ],
             [
              0.2222222222222222,
              "#7201a8"
             ],
             [
              0.3333333333333333,
              "#9c179e"
             ],
             [
              0.4444444444444444,
              "#bd3786"
             ],
             [
              0.5555555555555556,
              "#d8576b"
             ],
             [
              0.6666666666666666,
              "#ed7953"
             ],
             [
              0.7777777777777778,
              "#fb9f3a"
             ],
             [
              0.8888888888888888,
              "#fdca26"
             ],
             [
              1,
              "#f0f921"
             ]
            ],
            "type": "histogram2dcontour"
           }
          ],
          "mesh3d": [
           {
            "colorbar": {
             "outlinewidth": 0,
             "ticks": ""
            },
            "type": "mesh3d"
           }
          ],
          "parcoords": [
           {
            "line": {
             "colorbar": {
              "outlinewidth": 0,
              "ticks": ""
             }
            },
            "type": "parcoords"
           }
          ],
          "pie": [
           {
            "automargin": true,
            "type": "pie"
           }
          ],
          "scatter": [
           {
            "marker": {
             "colorbar": {
              "outlinewidth": 0,
              "ticks": ""
             }
            },
            "type": "scatter"
           }
          ],
          "scatter3d": [
           {
            "line": {
             "colorbar": {
              "outlinewidth": 0,
              "ticks": ""
             }
            },
            "marker": {
             "colorbar": {
              "outlinewidth": 0,
              "ticks": ""
             }
            },
            "type": "scatter3d"
           }
          ],
          "scattercarpet": [
           {
            "marker": {
             "colorbar": {
              "outlinewidth": 0,
              "ticks": ""
             }
            },
            "type": "scattercarpet"
           }
          ],
          "scattergeo": [
           {
            "marker": {
             "colorbar": {
              "outlinewidth": 0,
              "ticks": ""
             }
            },
            "type": "scattergeo"
           }
          ],
          "scattergl": [
           {
            "marker": {
             "colorbar": {
              "outlinewidth": 0,
              "ticks": ""
             }
            },
            "type": "scattergl"
           }
          ],
          "scattermapbox": [
           {
            "marker": {
             "colorbar": {
              "outlinewidth": 0,
              "ticks": ""
             }
            },
            "type": "scattermapbox"
           }
          ],
          "scatterpolar": [
           {
            "marker": {
             "colorbar": {
              "outlinewidth": 0,
              "ticks": ""
             }
            },
            "type": "scatterpolar"
           }
          ],
          "scatterpolargl": [
           {
            "marker": {
             "colorbar": {
              "outlinewidth": 0,
              "ticks": ""
             }
            },
            "type": "scatterpolargl"
           }
          ],
          "scatterternary": [
           {
            "marker": {
             "colorbar": {
              "outlinewidth": 0,
              "ticks": ""
             }
            },
            "type": "scatterternary"
           }
          ],
          "surface": [
           {
            "colorbar": {
             "outlinewidth": 0,
             "ticks": ""
            },
            "colorscale": [
             [
              0,
              "#0d0887"
             ],
             [
              0.1111111111111111,
              "#46039f"
             ],
             [
              0.2222222222222222,
              "#7201a8"
             ],
             [
              0.3333333333333333,
              "#9c179e"
             ],
             [
              0.4444444444444444,
              "#bd3786"
             ],
             [
              0.5555555555555556,
              "#d8576b"
             ],
             [
              0.6666666666666666,
              "#ed7953"
             ],
             [
              0.7777777777777778,
              "#fb9f3a"
             ],
             [
              0.8888888888888888,
              "#fdca26"
             ],
             [
              1,
              "#f0f921"
             ]
            ],
            "type": "surface"
           }
          ],
          "table": [
           {
            "cells": {
             "fill": {
              "color": "#EBF0F8"
             },
             "line": {
              "color": "white"
             }
            },
            "header": {
             "fill": {
              "color": "#C8D4E3"
             },
             "line": {
              "color": "white"
             }
            },
            "type": "table"
           }
          ]
         },
         "layout": {
          "annotationdefaults": {
           "arrowcolor": "#2a3f5f",
           "arrowhead": 0,
           "arrowwidth": 1
          },
          "autotypenumbers": "strict",
          "coloraxis": {
           "colorbar": {
            "outlinewidth": 0,
            "ticks": ""
           }
          },
          "colorscale": {
           "diverging": [
            [
             0,
             "#8e0152"
            ],
            [
             0.1,
             "#c51b7d"
            ],
            [
             0.2,
             "#de77ae"
            ],
            [
             0.3,
             "#f1b6da"
            ],
            [
             0.4,
             "#fde0ef"
            ],
            [
             0.5,
             "#f7f7f7"
            ],
            [
             0.6,
             "#e6f5d0"
            ],
            [
             0.7,
             "#b8e186"
            ],
            [
             0.8,
             "#7fbc41"
            ],
            [
             0.9,
             "#4d9221"
            ],
            [
             1,
             "#276419"
            ]
           ],
           "sequential": [
            [
             0,
             "#0d0887"
            ],
            [
             0.1111111111111111,
             "#46039f"
            ],
            [
             0.2222222222222222,
             "#7201a8"
            ],
            [
             0.3333333333333333,
             "#9c179e"
            ],
            [
             0.4444444444444444,
             "#bd3786"
            ],
            [
             0.5555555555555556,
             "#d8576b"
            ],
            [
             0.6666666666666666,
             "#ed7953"
            ],
            [
             0.7777777777777778,
             "#fb9f3a"
            ],
            [
             0.8888888888888888,
             "#fdca26"
            ],
            [
             1,
             "#f0f921"
            ]
           ],
           "sequentialminus": [
            [
             0,
             "#0d0887"
            ],
            [
             0.1111111111111111,
             "#46039f"
            ],
            [
             0.2222222222222222,
             "#7201a8"
            ],
            [
             0.3333333333333333,
             "#9c179e"
            ],
            [
             0.4444444444444444,
             "#bd3786"
            ],
            [
             0.5555555555555556,
             "#d8576b"
            ],
            [
             0.6666666666666666,
             "#ed7953"
            ],
            [
             0.7777777777777778,
             "#fb9f3a"
            ],
            [
             0.8888888888888888,
             "#fdca26"
            ],
            [
             1,
             "#f0f921"
            ]
           ]
          },
          "colorway": [
           "#636efa",
           "#EF553B",
           "#00cc96",
           "#ab63fa",
           "#FFA15A",
           "#19d3f3",
           "#FF6692",
           "#B6E880",
           "#FF97FF",
           "#FECB52"
          ],
          "font": {
           "color": "#2a3f5f"
          },
          "geo": {
           "bgcolor": "white",
           "lakecolor": "white",
           "landcolor": "#E5ECF6",
           "showlakes": true,
           "showland": true,
           "subunitcolor": "white"
          },
          "hoverlabel": {
           "align": "left"
          },
          "hovermode": "closest",
          "mapbox": {
           "style": "light"
          },
          "paper_bgcolor": "white",
          "plot_bgcolor": "#E5ECF6",
          "polar": {
           "angularaxis": {
            "gridcolor": "white",
            "linecolor": "white",
            "ticks": ""
           },
           "bgcolor": "#E5ECF6",
           "radialaxis": {
            "gridcolor": "white",
            "linecolor": "white",
            "ticks": ""
           }
          },
          "scene": {
           "xaxis": {
            "backgroundcolor": "#E5ECF6",
            "gridcolor": "white",
            "gridwidth": 2,
            "linecolor": "white",
            "showbackground": true,
            "ticks": "",
            "zerolinecolor": "white"
           },
           "yaxis": {
            "backgroundcolor": "#E5ECF6",
            "gridcolor": "white",
            "gridwidth": 2,
            "linecolor": "white",
            "showbackground": true,
            "ticks": "",
            "zerolinecolor": "white"
           },
           "zaxis": {
            "backgroundcolor": "#E5ECF6",
            "gridcolor": "white",
            "gridwidth": 2,
            "linecolor": "white",
            "showbackground": true,
            "ticks": "",
            "zerolinecolor": "white"
           }
          },
          "shapedefaults": {
           "line": {
            "color": "#2a3f5f"
           }
          },
          "ternary": {
           "aaxis": {
            "gridcolor": "white",
            "linecolor": "white",
            "ticks": ""
           },
           "baxis": {
            "gridcolor": "white",
            "linecolor": "white",
            "ticks": ""
           },
           "bgcolor": "#E5ECF6",
           "caxis": {
            "gridcolor": "white",
            "linecolor": "white",
            "ticks": ""
           }
          },
          "title": {
           "x": 0.05
          },
          "xaxis": {
           "automargin": true,
           "gridcolor": "white",
           "linecolor": "white",
           "ticks": "",
           "title": {
            "standoff": 15
           },
           "zerolinecolor": "white",
           "zerolinewidth": 2
          },
          "yaxis": {
           "automargin": true,
           "gridcolor": "white",
           "linecolor": "white",
           "ticks": "",
           "title": {
            "standoff": 15
           },
           "zerolinecolor": "white",
           "zerolinewidth": 2
          }
         }
        },
        "title": {
         "text": "Feature Importance Per Iteration"
        },
        "updatemenus": [
         {
          "active": 0,
          "buttons": [
           {
            "args": [
             null,
             {
              "frame": {
               "duration": 500,
               "redraw": true
              },
              "fromcurrent": true,
              "mode": "immediate",
              "transition": {
               "duration": 500,
               "easing": "linear"
              }
             }
            ],
            "label": "&#9654;",
            "method": "animate"
           },
           {
            "args": [
             [
              null
             ],
             {
              "frame": {
               "duration": 0,
               "redraw": true
              },
              "fromcurrent": true,
              "mode": "immediate",
              "transition": {
               "duration": 0,
               "easing": "linear"
              }
             }
            ],
            "label": "&#9724;",
            "method": "animate"
           }
          ],
          "direction": "left",
          "pad": {
           "r": 10,
           "t": 70
          },
          "showactive": false,
          "type": "buttons",
          "x": 0.1,
          "xanchor": "right",
          "y": 0,
          "yanchor": "top"
         }
        ],
        "width": 800,
        "xaxis": {
         "anchor": "y",
         "domain": [
          0,
          1
         ],
         "range": [
          0,
          0.3
         ],
         "title": {
          "text": "Importance"
         },
         "type": "linear"
        },
        "yaxis": {
         "anchor": "x",
         "autorange": true,
         "categoryarray": [
          "Input 12",
          "Input 05",
          "Input 02",
          "Input 10",
          "Input 04",
          "Input 11",
          "Input 07",
          "Input 06",
          "Input 03",
          "Input 01",
          "Input 09",
          "Input 08",
          "Output 01"
         ],
         "categoryorder": "total ascending",
         "domain": [
          0,
          1
         ],
         "range": [
          0.5,
          12.5
         ],
         "title": {
          "text": "Feature Name"
         },
         "type": "category"
        }
       }
      },
      "image/png": "[encoded data removed]",
      "text/html": [
       "<div>                            <div id=\"721f77eb-9993-42b6-a09e-917b0b7fa19b\" class=\"plotly-graph-div\" style=\"height:500px; width:800px;\"></div>            <script type=\"text/javascript\">                require([\"plotly\"], function(Plotly) {                    window.PLOTLYENV=window.PLOTLYENV || {};                                    if (document.getElementById(\"721f77eb-9993-42b6-a09e-917b0b7fa19b\")) {                    Plotly.newPlot(                        \"721f77eb-9993-42b6-a09e-917b0b7fa19b\",                        [{\"alignmentgroup\":\"True\",\"hovertemplate\":\"Feature Name=%{y}<br>Iteration=0<br>Importance=%{x}<extra></extra>\",\"ids\":[\"Output 01\"],\"legendgroup\":\"Output 01\",\"marker\":{\"color\":\"#4C78A8\",\"pattern\":{\"shape\":\"\"}},\"name\":\"Output 01\",\"offsetgroup\":\"Output 01\",\"orientation\":\"h\",\"showlegend\":true,\"textposition\":\"auto\",\"type\":\"bar\",\"x\":[0.7423941603675878],\"xaxis\":\"x\",\"y\":[\"Output 01\"],\"yaxis\":\"y\"},{\"alignmentgroup\":\"True\",\"hovertemplate\":\"Feature Name=%{y}<br>Iteration=0<br>Importance=%{x}<extra></extra>\",\"ids\":[\"Input 08\"],\"legendgroup\":\"Input 08\",\"marker\":{\"color\":\"#F58518\",\"pattern\":{\"shape\":\"\"}},\"name\":\"Input 08\",\"offsetgroup\":\"Input 08\",\"orientation\":\"h\",\"showlegend\":true,\"textposition\":\"auto\",\"type\":\"bar\",\"x\":[0.042123364734225226],\"xaxis\":\"x\",\"y\":[\"Input 08\"],\"yaxis\":\"y\"},{\"alignmentgroup\":\"True\",\"hovertemplate\":\"Feature Name=%{y}<br>Iteration=0<br>Importance=%{x}<extra></extra>\",\"ids\":[\"Input 09\"],\"legendgroup\":\"Input 09\",\"marker\":{\"color\":\"#E45756\",\"pattern\":{\"shape\":\"\"}},\"name\":\"Input 09\",\"offsetgroup\":\"Input 09\",\"orientation\":\"h\",\"showlegend\":true,\"textposition\":\"auto\",\"type\":\"bar\",\"x\":[0.03554378071375089],\"xaxis\":\"x\",\"y\":[\"Input 09\"],\"yaxis\":\"y\"},{\"alignmentgroup\":\"True\",\"hovertemplate\":\"Feature Name=%{y}<br>Iteration=0<br>Importance=%{x}<extra></extra>\",\"ids\":[\"Input 01\"],\"legendgroup\":\"Input 01\",\"marker\":{\"color\":\"#72B7B2\",\"pattern\":{\"shape\":\"\"}},\"name\":\"Input 01\",\"offsetgroup\":\"Input 01\",\"orientation\":\"h\",\"showlegend\":true,\"textposition\":\"auto\",\"type\":\"bar\",\"x\":[0.032682738747839044],\"xaxis\":\"x\",\"y\":[\"Input 01\"],\"yaxis\":\"y\"},{\"alignmentgroup\":\"True\",\"hovertemplate\":\"Feature Name=%{y}<br>Iteration=0<br>Importance=%{x}<extra></extra>\",\"ids\":[\"Input 03\"],\"legendgroup\":\"Input 03\",\"marker\":{\"color\":\"#54A24B\",\"pattern\":{\"shape\":\"\"}},\"name\":\"Input 03\",\"offsetgroup\":\"Input 03\",\"orientation\":\"h\",\"showlegend\":true,\"textposition\":\"auto\",\"type\":\"bar\",\"x\":[0.02981235770862435],\"xaxis\":\"x\",\"y\":[\"Input 03\"],\"yaxis\":\"y\"},{\"alignmentgroup\":\"True\",\"hovertemplate\":\"Feature Name=%{y}<br>Iteration=0<br>Importance=%{x}<extra></extra>\",\"ids\":[\"Input 06\"],\"legendgroup\":\"Input 06\",\"marker\":{\"color\":\"#EECA3B\",\"pattern\":{\"shape\":\"\"}},\"name\":\"Input 06\",\"offsetgroup\":\"Input 06\",\"orientation\":\"h\",\"showlegend\":true,\"textposition\":\"auto\",\"type\":\"bar\",\"x\":[0.02473975201410447],\"xaxis\":\"x\",\"y\":[\"Input 06\"],\"yaxis\":\"y\"},{\"alignmentgroup\":\"True\",\"hovertemplate\":\"Feature Name=%{y}<br>Iteration=0<br>Importance=%{x}<extra></extra>\",\"ids\":[\"Input 07\"],\"legendgroup\":\"Input 07\",\"marker\":{\"color\":\"#B279A2\",\"pattern\":{\"shape\":\"\"}},\"name\":\"Input 07\",\"offsetgroup\":\"Input 07\",\"orientation\":\"h\",\"showlegend\":true,\"textposition\":\"auto\",\"type\":\"bar\",\"x\":[0.023340824323395685],\"xaxis\":\"x\",\"y\":[\"Input 07\"],\"yaxis\":\"y\"},{\"alignmentgroup\":\"True\",\"hovertemplate\":\"Feature Name=%{y}<br>Iteration=0<br>Importance=%{x}<extra></extra>\",\"ids\":[\"Input 11\"],\"legendgroup\":\"Input 11\",\"marker\":{\"color\":\"#FF9DA6\",\"pattern\":{\"shape\":\"\"}},\"name\":\"Input 11\",\"offsetgroup\":\"Input 11\",\"orientation\":\"h\",\"showlegend\":true,\"textposition\":\"auto\",\"type\":\"bar\",\"x\":[0.01810379018151057],\"xaxis\":\"x\",\"y\":[\"Input 11\"],\"yaxis\":\"y\"},{\"alignmentgroup\":\"True\",\"hovertemplate\":\"Feature Name=%{y}<br>Iteration=0<br>Importance=%{x}<extra></extra>\",\"ids\":[\"Input 04\"],\"legendgroup\":\"Input 04\",\"marker\":{\"color\":\"#9D755D\",\"pattern\":{\"shape\":\"\"}},\"name\":\"Input 04\",\"offsetgroup\":\"Input 04\",\"orientation\":\"h\",\"showlegend\":true,\"textposition\":\"auto\",\"type\":\"bar\",\"x\":[0.018086916837900018],\"xaxis\":\"x\",\"y\":[\"Input 04\"],\"yaxis\":\"y\"},{\"alignmentgroup\":\"True\",\"hovertemplate\":\"Feature Name=%{y}<br>Iteration=0<br>Importance=%{x}<extra></extra>\",\"ids\":[\"Input 10\"],\"legendgroup\":\"Input 10\",\"marker\":{\"color\":\"#BAB0AC\",\"pattern\":{\"shape\":\"\"}},\"name\":\"Input 10\",\"offsetgroup\":\"Input 10\",\"orientation\":\"h\",\"showlegend\":true,\"textposition\":\"auto\",\"type\":\"bar\",\"x\":[0.009492383847762942],\"xaxis\":\"x\",\"y\":[\"Input 10\"],\"yaxis\":\"y\"},{\"alignmentgroup\":\"True\",\"hovertemplate\":\"Feature Name=%{y}<br>Iteration=0<br>Importance=%{x}<extra></extra>\",\"ids\":[\"Input 02\"],\"legendgroup\":\"Input 02\",\"marker\":{\"color\":\"#4C78A8\",\"pattern\":{\"shape\":\"\"}},\"name\":\"Input 02\",\"offsetgroup\":\"Input 02\",\"orientation\":\"h\",\"showlegend\":true,\"textposition\":\"auto\",\"type\":\"bar\",\"x\":[0.008365572265637122],\"xaxis\":\"x\",\"y\":[\"Input 02\"],\"yaxis\":\"y\"},{\"alignmentgroup\":\"True\",\"hovertemplate\":\"Feature Name=%{y}<br>Iteration=0<br>Importance=%{x}<extra></extra>\",\"ids\":[\"Input 05\"],\"legendgroup\":\"Input 05\",\"marker\":{\"color\":\"#F58518\",\"pattern\":{\"shape\":\"\"}},\"name\":\"Input 05\",\"offsetgroup\":\"Input 05\",\"orientation\":\"h\",\"showlegend\":true,\"textposition\":\"auto\",\"type\":\"bar\",\"x\":[0.0077523779603597825],\"xaxis\":\"x\",\"y\":[\"Input 05\"],\"yaxis\":\"y\"},{\"alignmentgroup\":\"True\",\"hovertemplate\":\"Feature Name=%{y}<br>Iteration=0<br>Importance=%{x}<extra></extra>\",\"ids\":[\"Input 12\"],\"legendgroup\":\"Input 12\",\"marker\":{\"color\":\"#E45756\",\"pattern\":{\"shape\":\"\"}},\"name\":\"Input 12\",\"offsetgroup\":\"Input 12\",\"orientation\":\"h\",\"showlegend\":true,\"textposition\":\"auto\",\"type\":\"bar\",\"x\":[0.007561980297302169],\"xaxis\":\"x\",\"y\":[\"Input 12\"],\"yaxis\":\"y\"}],                        {\"autosize\":false,\"barmode\":\"relative\",\"height\":500,\"legend\":{\"title\":{\"text\":\"Feature Name\"},\"tracegroupgap\":0},\"margin\":{\"t\":60},\"sliders\":[{\"active\":0,\"currentvalue\":{\"prefix\":\"Iteration=\"},\"len\":0.9,\"pad\":{\"b\":10,\"t\":60},\"steps\":[{\"args\":[[\"0\"],{\"frame\":{\"duration\":0,\"redraw\":true},\"fromcurrent\":true,\"mode\":\"immediate\",\"transition\":{\"duration\":0,\"easing\":\"linear\"}}],\"label\":\"0\",\"method\":\"animate\"},{\"args\":[[\"1\"],{\"frame\":{\"duration\":0,\"redraw\":true},\"fromcurrent\":true,\"mode\":\"immediate\",\"transition\":{\"duration\":0,\"easing\":\"linear\"}}],\"label\":\"1\",\"method\":\"animate\"},{\"args\":[[\"2\"],{\"frame\":{\"duration\":0,\"redraw\":true},\"fromcurrent\":true,\"mode\":\"immediate\",\"transition\":{\"duration\":0,\"easing\":\"linear\"}}],\"label\":\"2\",\"method\":\"animate\"},{\"args\":[[\"3\"],{\"frame\":{\"duration\":0,\"redraw\":true},\"fromcurrent\":true,\"mode\":\"immediate\",\"transition\":{\"duration\":0,\"easing\":\"linear\"}}],\"label\":\"3\",\"method\":\"animate\"},{\"args\":[[\"4\"],{\"frame\":{\"duration\":0,\"redraw\":true},\"fromcurrent\":true,\"mode\":\"immediate\",\"transition\":{\"duration\":0,\"easing\":\"linear\"}}],\"label\":\"4\",\"method\":\"animate\"},{\"args\":[[\"5\"],{\"frame\":{\"duration\":0,\"redraw\":true},\"fromcurrent\":true,\"mode\":\"immediate\",\"transition\":{\"duration\":0,\"easing\":\"linear\"}}],\"label\":\"5\",\"method\":\"animate\"},{\"args\":[[\"6\"],{\"frame\":{\"duration\":0,\"redraw\":true},\"fromcurrent\":true,\"mode\":\"immediate\",\"transition\":{\"duration\":0,\"easing\":\"linear\"}}],\"label\":\"6\",\"method\":\"animate\"},{\"args\":[[\"7\"],{\"frame\":{\"duration\":0,\"redraw\":true},\"fromcurrent\":true,\"mode\":\"immediate\",\"transition\":{\"duration\":0,\"easing\":\"linear\"}}],\"label\":\"7\",\"method\":\"animate\"},{\"args\":[[\"8\"],{\"frame\":{\"duration\":0,\"redraw\":true},\"fromcurrent\":true,\"mode\":\"immediate\",\"transition\":{\"duration\":0,\"easing\":\"linear\"}}],\"label\":\"8\",\"method\":\"animate\"},{\"args\":[[\"9\"],{\"frame\":{\"duration\":0,\"redraw\":true},\"fromcurrent\":true,\"mode\":\"immediate\",\"transition\":{\"duration\":0,\"easing\":\"linear\"}}],\"label\":\"9\",\"method\":\"animate\"},{\"args\":[[\"10\"],{\"frame\":{\"duration\":0,\"redraw\":true},\"fromcurrent\":true,\"mode\":\"immediate\",\"transition\":{\"duration\":0,\"easing\":\"linear\"}}],\"label\":\"10\",\"method\":\"animate\"}],\"x\":0.1,\"xanchor\":\"left\",\"y\":0,\"yanchor\":\"top\"}],\"template\":{\"data\":{\"bar\":[{\"error_x\":{\"color\":\"#2a3f5f\"},\"error_y\":{\"color\":\"#2a3f5f\"},\"marker\":{\"line\":{\"color\":\"#E5ECF6\",\"width\":0.5},\"pattern\":{\"fillmode\":\"overlay\",\"size\":10,\"solidity\":0.2}},\"type\":\"bar\"}],\"barpolar\":[{\"marker\":{\"line\":{\"color\":\"#E5ECF6\",\"width\":0.5},\"pattern\":{\"fillmode\":\"overlay\",\"size\":10,\"solidity\":0.2}},\"type\":\"barpolar\"}],\"carpet\":[{\"aaxis\":{\"endlinecolor\":\"#2a3f5f\",\"gridcolor\":\"white\",\"linecolor\":\"white\",\"minorgridcolor\":\"white\",\"startlinecolor\":\"#2a3f5f\"},\"baxis\":{\"endlinecolor\":\"#2a3f5f\",\"gridcolor\":\"white\",\"linecolor\":\"white\",\"minorgridcolor\":\"white\",\"startlinecolor\":\"#2a3f5f\"},\"type\":\"carpet\"}],\"choropleth\":[{\"colorbar\":{\"outlinewidth\":0,\"ticks\":\"\"},\"type\":\"choropleth\"}],\"contour\":[{\"colorbar\":{\"outlinewidth\":0,\"ticks\":\"\"},\"colorscale\":[[0.0,\"#0d0887\"],[0.1111111111111111,\"#46039f\"],[0.2222222222222222,\"#7201a8\"],[0.3333333333333333,\"#9c179e\"],[0.4444444444444444,\"#bd3786\"],[0.5555555555555556,\"#d8576b\"],[0.6666666666666666,\"#ed7953\"],[0.7777777777777778,\"#fb9f3a\"],[0.8888888888888888,\"#fdca26\"],[1.0,\"#f0f921\"]],\"type\":\"contour\"}],\"contourcarpet\":[{\"colorbar\":{\"outlinewidth\":0,\"ticks\":\"\"},\"type\":\"contourcarpet\"}],\"heatmap\":[{\"colorbar\":{\"outlinewidth\":0,\"ticks\":\"\"},\"colorscale\":[[0.0,\"#0d0887\"],[0.1111111111111111,\"#46039f\"],[0.2222222222222222,\"#7201a8\"],[0.3333333333333333,\"#9c179e\"],[0.4444444444444444,\"#bd3786\"],[0.5555555555555556,\"#d8576b\"],[0.6666666666666666,\"#ed7953\"],[0.7777777777777778,\"#fb9f3a\"],[0.8888888888888888,\"#fdca26\"],[1.0,\"#f0f921\"]],\"type\":\"heatmap\"}],\"heatmapgl\":[{\"colorbar\":{\"outlinewidth\":0,\"ticks\":\"\"},\"colorscale\":[[0.0,\"#0d0887\"],[0.1111111111111111,\"#46039f\"],[0.2222222222222222,\"#7201a8\"],[0.3333333333333333,\"#9c179e\"],[0.4444444444444444,\"#bd3786\"],[0.5555555555555556,\"#d8576b\"],[0.6666666666666666,\"#ed7953\"],[0.7777777777777778,\"#fb9f3a\"],[0.8888888888888888,\"#fdca26\"],[1.0,\"#f0f921\"]],\"type\":\"heatmapgl\"}],\"histogram\":[{\"marker\":{\"pattern\":{\"fillmode\":\"overlay\",\"size\":10,\"solidity\":0.2}},\"type\":\"histogram\"}],\"histogram2d\":[{\"colorbar\":{\"outlinewidth\":0,\"ticks\":\"\"},\"colorscale\":[[0.0,\"#0d0887\"],[0.1111111111111111,\"#46039f\"],[0.2222222222222222,\"#7201a8\"],[0.3333333333333333,\"#9c179e\"],[0.4444444444444444,\"#bd3786\"],[0.5555555555555556,\"#d8576b\"],[0.6666666666666666,\"#ed7953\"],[0.7777777777777778,\"#fb9f3a\"],[0.8888888888888888,\"#fdca26\"],[1.0,\"#f0f921\"]],\"type\":\"histogram2d\"}],\"histogram2dcontour\":[{\"colorbar\":{\"outlinewidth\":0,\"ticks\":\"\"},\"colorscale\":[[0.0,\"#0d0887\"],[0.1111111111111111,\"#46039f\"],[0.2222222222222222,\"#7201a8\"],[0.3333333333333333,\"#9c179e\"],[0.4444444444444444,\"#bd3786\"],[0.5555555555555556,\"#d8576b\"],[0.6666666666666666,\"#ed7953\"],[0.7777777777777778,\"#fb9f3a\"],[0.8888888888888888,\"#fdca26\"],[1.0,\"#f0f921\"]],\"type\":\"histogram2dcontour\"}],\"mesh3d\":[{\"colorbar\":{\"outlinewidth\":0,\"ticks\":\"\"},\"type\":\"mesh3d\"}],\"parcoords\":[{\"line\":{\"colorbar\":{\"outlinewidth\":0,\"ticks\":\"\"}},\"type\":\"parcoords\"}],\"pie\":[{\"automargin\":true,\"type\":\"pie\"}],\"scatter\":[{\"marker\":{\"colorbar\":{\"outlinewidth\":0,\"ticks\":\"\"}},\"type\":\"scatter\"}],\"scatter3d\":[{\"line\":{\"colorbar\":{\"outlinewidth\":0,\"ticks\":\"\"}},\"marker\":{\"colorbar\":{\"outlinewidth\":0,\"ticks\":\"\"}},\"type\":\"scatter3d\"}],\"scattercarpet\":[{\"marker\":{\"colorbar\":{\"outlinewidth\":0,\"ticks\":\"\"}},\"type\":\"scattercarpet\"}],\"scattergeo\":[{\"marker\":{\"colorbar\":{\"outlinewidth\":0,\"ticks\":\"\"}},\"type\":\"scattergeo\"}],\"scattergl\":[{\"marker\":{\"colorbar\":{\"outlinewidth\":0,\"ticks\":\"\"}},\"type\":\"scattergl\"}],\"scattermapbox\":[{\"marker\":{\"colorbar\":{\"outlinewidth\":0,\"ticks\":\"\"}},\"type\":\"scattermapbox\"}],\"scatterpolar\":[{\"marker\":{\"colorbar\":{\"outlinewidth\":0,\"ticks\":\"\"}},\"type\":\"scatterpolar\"}],\"scatterpolargl\":[{\"marker\":{\"colorbar\":{\"outlinewidth\":0,\"ticks\":\"\"}},\"type\":\"scatterpolargl\"}],\"scatterternary\":[{\"marker\":{\"colorbar\":{\"outlinewidth\":0,\"ticks\":\"\"}},\"type\":\"scatterternary\"}],\"surface\":[{\"colorbar\":{\"outlinewidth\":0,\"ticks\":\"\"},\"colorscale\":[[0.0,\"#0d0887\"],[0.1111111111111111,\"#46039f\"],[0.2222222222222222,\"#7201a8\"],[0.3333333333333333,\"#9c179e\"],[0.4444444444444444,\"#bd3786\"],[0.5555555555555556,\"#d8576b\"],[0.6666666666666666,\"#ed7953\"],[0.7777777777777778,\"#fb9f3a\"],[0.8888888888888888,\"#fdca26\"],[1.0,\"#f0f921\"]],\"type\":\"surface\"}],\"table\":[{\"cells\":{\"fill\":{\"color\":\"#EBF0F8\"},\"line\":{\"color\":\"white\"}},\"header\":{\"fill\":{\"color\":\"#C8D4E3\"},\"line\":{\"color\":\"white\"}},\"type\":\"table\"}]},\"layout\":{\"annotationdefaults\":{\"arrowcolor\":\"#2a3f5f\",\"arrowhead\":0,\"arrowwidth\":1},\"autotypenumbers\":\"strict\",\"coloraxis\":{\"colorbar\":{\"outlinewidth\":0,\"ticks\":\"\"}},\"colorscale\":{\"diverging\":[[0,\"#8e0152\"],[0.1,\"#c51b7d\"],[0.2,\"#de77ae\"],[0.3,\"#f1b6da\"],[0.4,\"#fde0ef\"],[0.5,\"#f7f7f7\"],[0.6,\"#e6f5d0\"],[0.7,\"#b8e186\"],[0.8,\"#7fbc41\"],[0.9,\"#4d9221\"],[1,\"#276419\"]],\"sequential\":[[0.0,\"#0d0887\"],[0.1111111111111111,\"#46039f\"],[0.2222222222222222,\"#7201a8\"],[0.3333333333333333,\"#9c179e\"],[0.4444444444444444,\"#bd3786\"],[0.5555555555555556,\"#d8576b\"],[0.6666666666666666,\"#ed7953\"],[0.7777777777777778,\"#fb9f3a\"],[0.8888888888888888,\"#fdca26\"],[1.0,\"#f0f921\"]],\"sequentialminus\":[[0.0,\"#0d0887\"],[0.1111111111111111,\"#46039f\"],[0.2222222222222222,\"#7201a8\"],[0.3333333333333333,\"#9c179e\"],[0.4444444444444444,\"#bd3786\"],[0.5555555555555556,\"#d8576b\"],[0.6666666666666666,\"#ed7953\"],[0.7777777777777778,\"#fb9f3a\"],[0.8888888888888888,\"#fdca26\"],[1.0,\"#f0f921\"]]},\"colorway\":[\"#636efa\",\"#EF553B\",\"#00cc96\",\"#ab63fa\",\"#FFA15A\",\"#19d3f3\",\"#FF6692\",\"#B6E880\",\"#FF97FF\",\"#FECB52\"],\"font\":{\"color\":\"#2a3f5f\"},\"geo\":{\"bgcolor\":\"white\",\"lakecolor\":\"white\",\"landcolor\":\"#E5ECF6\",\"showlakes\":true,\"showland\":true,\"subunitcolor\":\"white\"},\"hoverlabel\":{\"align\":\"left\"},\"hovermode\":\"closest\",\"mapbox\":{\"style\":\"light\"},\"paper_bgcolor\":\"white\",\"plot_bgcolor\":\"#E5ECF6\",\"polar\":{\"angularaxis\":{\"gridcolor\":\"white\",\"linecolor\":\"white\",\"ticks\":\"\"},\"bgcolor\":\"#E5ECF6\",\"radialaxis\":{\"gridcolor\":\"white\",\"linecolor\":\"white\",\"ticks\":\"\"}},\"scene\":{\"xaxis\":{\"backgroundcolor\":\"#E5ECF6\",\"gridcolor\":\"white\",\"gridwidth\":2,\"linecolor\":\"white\",\"showbackground\":true,\"ticks\":\"\",\"zerolinecolor\":\"white\"},\"yaxis\":{\"backgroundcolor\":\"#E5ECF6\",\"gridcolor\":\"white\",\"gridwidth\":2,\"linecolor\":\"white\",\"showbackground\":true,\"ticks\":\"\",\"zerolinecolor\":\"white\"},\"zaxis\":{\"backgroundcolor\":\"#E5ECF6\",\"gridcolor\":\"white\",\"gridwidth\":2,\"linecolor\":\"white\",\"showbackground\":true,\"ticks\":\"\",\"zerolinecolor\":\"white\"}},\"shapedefaults\":{\"line\":{\"color\":\"#2a3f5f\"}},\"ternary\":{\"aaxis\":{\"gridcolor\":\"white\",\"linecolor\":\"white\",\"ticks\":\"\"},\"baxis\":{\"gridcolor\":\"white\",\"linecolor\":\"white\",\"ticks\":\"\"},\"bgcolor\":\"#E5ECF6\",\"caxis\":{\"gridcolor\":\"white\",\"linecolor\":\"white\",\"ticks\":\"\"}},\"title\":{\"x\":0.05},\"xaxis\":{\"automargin\":true,\"gridcolor\":\"white\",\"linecolor\":\"white\",\"ticks\":\"\",\"title\":{\"standoff\":15},\"zerolinecolor\":\"white\",\"zerolinewidth\":2},\"yaxis\":{\"automargin\":true,\"gridcolor\":\"white\",\"linecolor\":\"white\",\"ticks\":\"\",\"title\":{\"standoff\":15},\"zerolinecolor\":\"white\",\"zerolinewidth\":2}}},\"title\":{\"text\":\"Feature Importance Per Iteration\"},\"updatemenus\":[{\"buttons\":[{\"args\":[null,{\"frame\":{\"duration\":500,\"redraw\":true},\"fromcurrent\":true,\"mode\":\"immediate\",\"transition\":{\"duration\":500,\"easing\":\"linear\"}}],\"label\":\"&#9654;\",\"method\":\"animate\"},{\"args\":[[null],{\"frame\":{\"duration\":0,\"redraw\":true},\"fromcurrent\":true,\"mode\":\"immediate\",\"transition\":{\"duration\":0,\"easing\":\"linear\"}}],\"label\":\"&#9724;\",\"method\":\"animate\"}],\"direction\":\"left\",\"pad\":{\"r\":10,\"t\":70},\"showactive\":false,\"type\":\"buttons\",\"x\":0.1,\"xanchor\":\"right\",\"y\":0,\"yanchor\":\"top\"}],\"width\":800,\"xaxis\":{\"anchor\":\"y\",\"domain\":[0.0,1.0],\"range\":[0,0.3],\"title\":{\"text\":\"Importance\"}},\"yaxis\":{\"anchor\":\"x\",\"categoryarray\":[\"Input 12\",\"Input 05\",\"Input 02\",\"Input 10\",\"Input 04\",\"Input 11\",\"Input 07\",\"Input 06\",\"Input 03\",\"Input 01\",\"Input 09\",\"Input 08\",\"Output 01\"],\"categoryorder\":\"total ascending\",\"domain\":[0.0,1.0],\"title\":{\"text\":\"Feature Name\"}}},                        {\"responsive\": true}                    ).then(function(){\n",
       "                            Plotly.addFrames('721f77eb-9993-42b6-a09e-917b0b7fa19b', [{\"data\":[{\"alignmentgroup\":\"True\",\"hovertemplate\":\"Feature Name=%{y}<br>Iteration=0<br>Importance=%{x}<extra></extra>\",\"ids\":[\"Output 01\"],\"legendgroup\":\"Output 01\",\"marker\":{\"color\":\"#4C78A8\",\"pattern\":{\"shape\":\"\"}},\"name\":\"Output 01\",\"offsetgroup\":\"Output 01\",\"orientation\":\"h\",\"showlegend\":true,\"textposition\":\"auto\",\"type\":\"bar\",\"x\":[0.7423941603675878],\"xaxis\":\"x\",\"y\":[\"Output 01\"],\"yaxis\":\"y\"},{\"alignmentgroup\":\"True\",\"hovertemplate\":\"Feature Name=%{y}<br>Iteration=0<br>Importance=%{x}<extra></extra>\",\"ids\":[\"Input 08\"],\"legendgroup\":\"Input 08\",\"marker\":{\"color\":\"#F58518\",\"pattern\":{\"shape\":\"\"}},\"name\":\"Input 08\",\"offsetgroup\":\"Input 08\",\"orientation\":\"h\",\"showlegend\":true,\"textposition\":\"auto\",\"type\":\"bar\",\"x\":[0.042123364734225226],\"xaxis\":\"x\",\"y\":[\"Input 08\"],\"yaxis\":\"y\"},{\"alignmentgroup\":\"True\",\"hovertemplate\":\"Feature Name=%{y}<br>Iteration=0<br>Importance=%{x}<extra></extra>\",\"ids\":[\"Input 09\"],\"legendgroup\":\"Input 09\",\"marker\":{\"color\":\"#E45756\",\"pattern\":{\"shape\":\"\"}},\"name\":\"Input 09\",\"offsetgroup\":\"Input 09\",\"orientation\":\"h\",\"showlegend\":true,\"textposition\":\"auto\",\"type\":\"bar\",\"x\":[0.03554378071375089],\"xaxis\":\"x\",\"y\":[\"Input 09\"],\"yaxis\":\"y\"},{\"alignmentgroup\":\"True\",\"hovertemplate\":\"Feature Name=%{y}<br>Iteration=0<br>Importance=%{x}<extra></extra>\",\"ids\":[\"Input 01\"],\"legendgroup\":\"Input 01\",\"marker\":{\"color\":\"#72B7B2\",\"pattern\":{\"shape\":\"\"}},\"name\":\"Input 01\",\"offsetgroup\":\"Input 01\",\"orientation\":\"h\",\"showlegend\":true,\"textposition\":\"auto\",\"type\":\"bar\",\"x\":[0.032682738747839044],\"xaxis\":\"x\",\"y\":[\"Input 01\"],\"yaxis\":\"y\"},{\"alignmentgroup\":\"True\",\"hovertemplate\":\"Feature Name=%{y}<br>Iteration=0<br>Importance=%{x}<extra></extra>\",\"ids\":[\"Input 03\"],\"legendgroup\":\"Input 03\",\"marker\":{\"color\":\"#54A24B\",\"pattern\":{\"shape\":\"\"}},\"name\":\"Input 03\",\"offsetgroup\":\"Input 03\",\"orientation\":\"h\",\"showlegend\":true,\"textposition\":\"auto\",\"type\":\"bar\",\"x\":[0.02981235770862435],\"xaxis\":\"x\",\"y\":[\"Input 03\"],\"yaxis\":\"y\"},{\"alignmentgroup\":\"True\",\"hovertemplate\":\"Feature Name=%{y}<br>Iteration=0<br>Importance=%{x}<extra></extra>\",\"ids\":[\"Input 06\"],\"legendgroup\":\"Input 06\",\"marker\":{\"color\":\"#EECA3B\",\"pattern\":{\"shape\":\"\"}},\"name\":\"Input 06\",\"offsetgroup\":\"Input 06\",\"orientation\":\"h\",\"showlegend\":true,\"textposition\":\"auto\",\"type\":\"bar\",\"x\":[0.02473975201410447],\"xaxis\":\"x\",\"y\":[\"Input 06\"],\"yaxis\":\"y\"},{\"alignmentgroup\":\"True\",\"hovertemplate\":\"Feature Name=%{y}<br>Iteration=0<br>Importance=%{x}<extra></extra>\",\"ids\":[\"Input 07\"],\"legendgroup\":\"Input 07\",\"marker\":{\"color\":\"#B279A2\",\"pattern\":{\"shape\":\"\"}},\"name\":\"Input 07\",\"offsetgroup\":\"Input 07\",\"orientation\":\"h\",\"showlegend\":true,\"textposition\":\"auto\",\"type\":\"bar\",\"x\":[0.023340824323395685],\"xaxis\":\"x\",\"y\":[\"Input 07\"],\"yaxis\":\"y\"},{\"alignmentgroup\":\"True\",\"hovertemplate\":\"Feature Name=%{y}<br>Iteration=0<br>Importance=%{x}<extra></extra>\",\"ids\":[\"Input 11\"],\"legendgroup\":\"Input 11\",\"marker\":{\"color\":\"#FF9DA6\",\"pattern\":{\"shape\":\"\"}},\"name\":\"Input 11\",\"offsetgroup\":\"Input 11\",\"orientation\":\"h\",\"showlegend\":true,\"textposition\":\"auto\",\"type\":\"bar\",\"x\":[0.01810379018151057],\"xaxis\":\"x\",\"y\":[\"Input 11\"],\"yaxis\":\"y\"},{\"alignmentgroup\":\"True\",\"hovertemplate\":\"Feature Name=%{y}<br>Iteration=0<br>Importance=%{x}<extra></extra>\",\"ids\":[\"Input 04\"],\"legendgroup\":\"Input 04\",\"marker\":{\"color\":\"#9D755D\",\"pattern\":{\"shape\":\"\"}},\"name\":\"Input 04\",\"offsetgroup\":\"Input 04\",\"orientation\":\"h\",\"showlegend\":true,\"textposition\":\"auto\",\"type\":\"bar\",\"x\":[0.018086916837900018],\"xaxis\":\"x\",\"y\":[\"Input 04\"],\"yaxis\":\"y\"},{\"alignmentgroup\":\"True\",\"hovertemplate\":\"Feature Name=%{y}<br>Iteration=0<br>Importance=%{x}<extra></extra>\",\"ids\":[\"Input 10\"],\"legendgroup\":\"Input 10\",\"marker\":{\"color\":\"#BAB0AC\",\"pattern\":{\"shape\":\"\"}},\"name\":\"Input 10\",\"offsetgroup\":\"Input 10\",\"orientation\":\"h\",\"showlegend\":true,\"textposition\":\"auto\",\"type\":\"bar\",\"x\":[0.009492383847762942],\"xaxis\":\"x\",\"y\":[\"Input 10\"],\"yaxis\":\"y\"},{\"alignmentgroup\":\"True\",\"hovertemplate\":\"Feature Name=%{y}<br>Iteration=0<br>Importance=%{x}<extra></extra>\",\"ids\":[\"Input 02\"],\"legendgroup\":\"Input 02\",\"marker\":{\"color\":\"#4C78A8\",\"pattern\":{\"shape\":\"\"}},\"name\":\"Input 02\",\"offsetgroup\":\"Input 02\",\"orientation\":\"h\",\"showlegend\":true,\"textposition\":\"auto\",\"type\":\"bar\",\"x\":[0.008365572265637122],\"xaxis\":\"x\",\"y\":[\"Input 02\"],\"yaxis\":\"y\"},{\"alignmentgroup\":\"True\",\"hovertemplate\":\"Feature Name=%{y}<br>Iteration=0<br>Importance=%{x}<extra></extra>\",\"ids\":[\"Input 05\"],\"legendgroup\":\"Input 05\",\"marker\":{\"color\":\"#F58518\",\"pattern\":{\"shape\":\"\"}},\"name\":\"Input 05\",\"offsetgroup\":\"Input 05\",\"orientation\":\"h\",\"showlegend\":true,\"textposition\":\"auto\",\"type\":\"bar\",\"x\":[0.0077523779603597825],\"xaxis\":\"x\",\"y\":[\"Input 05\"],\"yaxis\":\"y\"},{\"alignmentgroup\":\"True\",\"hovertemplate\":\"Feature Name=%{y}<br>Iteration=0<br>Importance=%{x}<extra></extra>\",\"ids\":[\"Input 12\"],\"legendgroup\":\"Input 12\",\"marker\":{\"color\":\"#E45756\",\"pattern\":{\"shape\":\"\"}},\"name\":\"Input 12\",\"offsetgroup\":\"Input 12\",\"orientation\":\"h\",\"showlegend\":true,\"textposition\":\"auto\",\"type\":\"bar\",\"x\":[0.007561980297302169],\"xaxis\":\"x\",\"y\":[\"Input 12\"],\"yaxis\":\"y\"}],\"name\":\"0\"},{\"data\":[{\"alignmentgroup\":\"True\",\"hovertemplate\":\"Feature Name=%{y}<br>Iteration=1<br>Importance=%{x}<extra></extra>\",\"ids\":[\"Output 01\"],\"legendgroup\":\"Output 01\",\"marker\":{\"color\":\"#4C78A8\",\"pattern\":{\"shape\":\"\"}},\"name\":\"Output 01\",\"offsetgroup\":\"Output 01\",\"orientation\":\"h\",\"showlegend\":true,\"textposition\":\"auto\",\"type\":\"bar\",\"x\":[0.7644174597308216],\"xaxis\":\"x\",\"y\":[\"Output 01\"],\"yaxis\":\"y\"},{\"alignmentgroup\":\"True\",\"hovertemplate\":\"Feature Name=%{y}<br>Iteration=1<br>Importance=%{x}<extra></extra>\",\"ids\":[\"Input 08\"],\"legendgroup\":\"Input 08\",\"marker\":{\"color\":\"#F58518\",\"pattern\":{\"shape\":\"\"}},\"name\":\"Input 08\",\"offsetgroup\":\"Input 08\",\"orientation\":\"h\",\"showlegend\":true,\"textposition\":\"auto\",\"type\":\"bar\",\"x\":[0.11507555297334893],\"xaxis\":\"x\",\"y\":[\"Input 08\"],\"yaxis\":\"y\"},{\"alignmentgroup\":\"True\",\"hovertemplate\":\"Feature Name=%{y}<br>Iteration=1<br>Importance=%{x}<extra></extra>\",\"ids\":[\"Input 09\"],\"legendgroup\":\"Input 09\",\"marker\":{\"color\":\"#E45756\",\"pattern\":{\"shape\":\"\"}},\"name\":\"Input 09\",\"offsetgroup\":\"Input 09\",\"orientation\":\"h\",\"showlegend\":true,\"textposition\":\"auto\",\"type\":\"bar\",\"x\":[0.008895350719015961],\"xaxis\":\"x\",\"y\":[\"Input 09\"],\"yaxis\":\"y\"},{\"alignmentgroup\":\"True\",\"hovertemplate\":\"Feature Name=%{y}<br>Iteration=1<br>Importance=%{x}<extra></extra>\",\"ids\":[\"Input 01\"],\"legendgroup\":\"Input 01\",\"marker\":{\"color\":\"#72B7B2\",\"pattern\":{\"shape\":\"\"}},\"name\":\"Input 01\",\"offsetgroup\":\"Input 01\",\"orientation\":\"h\",\"showlegend\":true,\"textposition\":\"auto\",\"type\":\"bar\",\"x\":[0.035439288923311024],\"xaxis\":\"x\",\"y\":[\"Input 01\"],\"yaxis\":\"y\"},{\"alignmentgroup\":\"True\",\"hovertemplate\":\"Feature Name=%{y}<br>Iteration=1<br>Importance=%{x}<extra></extra>\",\"ids\":[\"Input 03\"],\"legendgroup\":\"Input 03\",\"marker\":{\"color\":\"#54A24B\",\"pattern\":{\"shape\":\"\"}},\"name\":\"Input 03\",\"offsetgroup\":\"Input 03\",\"orientation\":\"h\",\"showlegend\":true,\"textposition\":\"auto\",\"type\":\"bar\",\"x\":[0.01197860845905866],\"xaxis\":\"x\",\"y\":[\"Input 03\"],\"yaxis\":\"y\"},{\"alignmentgroup\":\"True\",\"hovertemplate\":\"Feature Name=%{y}<br>Iteration=1<br>Importance=%{x}<extra></extra>\",\"ids\":[\"Input 06\"],\"legendgroup\":\"Input 06\",\"marker\":{\"color\":\"#EECA3B\",\"pattern\":{\"shape\":\"\"}},\"name\":\"Input 06\",\"offsetgroup\":\"Input 06\",\"orientation\":\"h\",\"showlegend\":true,\"textposition\":\"auto\",\"type\":\"bar\",\"x\":[0.014850444178800343],\"xaxis\":\"x\",\"y\":[\"Input 06\"],\"yaxis\":\"y\"},{\"alignmentgroup\":\"True\",\"hovertemplate\":\"Feature Name=%{y}<br>Iteration=1<br>Importance=%{x}<extra></extra>\",\"ids\":[\"Input 07\"],\"legendgroup\":\"Input 07\",\"marker\":{\"color\":\"#B279A2\",\"pattern\":{\"shape\":\"\"}},\"name\":\"Input 07\",\"offsetgroup\":\"Input 07\",\"orientation\":\"h\",\"showlegend\":true,\"textposition\":\"auto\",\"type\":\"bar\",\"x\":[0.0051221927907422445],\"xaxis\":\"x\",\"y\":[\"Input 07\"],\"yaxis\":\"y\"},{\"alignmentgroup\":\"True\",\"hovertemplate\":\"Feature Name=%{y}<br>Iteration=1<br>Importance=%{x}<extra></extra>\",\"ids\":[\"Input 11\"],\"legendgroup\":\"Input 11\",\"marker\":{\"color\":\"#FF9DA6\",\"pattern\":{\"shape\":\"\"}},\"name\":\"Input 11\",\"offsetgroup\":\"Input 11\",\"orientation\":\"h\",\"showlegend\":true,\"textposition\":\"auto\",\"type\":\"bar\",\"x\":[0.008605544316257551],\"xaxis\":\"x\",\"y\":[\"Input 11\"],\"yaxis\":\"y\"},{\"alignmentgroup\":\"True\",\"hovertemplate\":\"Feature Name=%{y}<br>Iteration=1<br>Importance=%{x}<extra></extra>\",\"ids\":[\"Input 04\"],\"legendgroup\":\"Input 04\",\"marker\":{\"color\":\"#9D755D\",\"pattern\":{\"shape\":\"\"}},\"name\":\"Input 04\",\"offsetgroup\":\"Input 04\",\"orientation\":\"h\",\"showlegend\":true,\"textposition\":\"auto\",\"type\":\"bar\",\"x\":[0.006394963348516235],\"xaxis\":\"x\",\"y\":[\"Input 04\"],\"yaxis\":\"y\"},{\"alignmentgroup\":\"True\",\"hovertemplate\":\"Feature Name=%{y}<br>Iteration=1<br>Importance=%{x}<extra></extra>\",\"ids\":[\"Input 10\"],\"legendgroup\":\"Input 10\",\"marker\":{\"color\":\"#BAB0AC\",\"pattern\":{\"shape\":\"\"}},\"name\":\"Input 10\",\"offsetgroup\":\"Input 10\",\"orientation\":\"h\",\"showlegend\":true,\"textposition\":\"auto\",\"type\":\"bar\",\"x\":[0.008598824690772432],\"xaxis\":\"x\",\"y\":[\"Input 10\"],\"yaxis\":\"y\"},{\"alignmentgroup\":\"True\",\"hovertemplate\":\"Feature Name=%{y}<br>Iteration=1<br>Importance=%{x}<extra></extra>\",\"ids\":[\"Input 02\"],\"legendgroup\":\"Input 02\",\"marker\":{\"color\":\"#4C78A8\",\"pattern\":{\"shape\":\"\"}},\"name\":\"Input 02\",\"offsetgroup\":\"Input 02\",\"orientation\":\"h\",\"showlegend\":true,\"textposition\":\"auto\",\"type\":\"bar\",\"x\":[0.0049284391049361645],\"xaxis\":\"x\",\"y\":[\"Input 02\"],\"yaxis\":\"y\"},{\"alignmentgroup\":\"True\",\"hovertemplate\":\"Feature Name=%{y}<br>Iteration=1<br>Importance=%{x}<extra></extra>\",\"ids\":[\"Input 05\"],\"legendgroup\":\"Input 05\",\"marker\":{\"color\":\"#F58518\",\"pattern\":{\"shape\":\"\"}},\"name\":\"Input 05\",\"offsetgroup\":\"Input 05\",\"orientation\":\"h\",\"showlegend\":true,\"textposition\":\"auto\",\"type\":\"bar\",\"x\":[0.006317136196250521],\"xaxis\":\"x\",\"y\":[\"Input 05\"],\"yaxis\":\"y\"},{\"alignmentgroup\":\"True\",\"hovertemplate\":\"Feature Name=%{y}<br>Iteration=1<br>Importance=%{x}<extra></extra>\",\"ids\":[\"Input 12\"],\"legendgroup\":\"Input 12\",\"marker\":{\"color\":\"#E45756\",\"pattern\":{\"shape\":\"\"}},\"name\":\"Input 12\",\"offsetgroup\":\"Input 12\",\"orientation\":\"h\",\"showlegend\":true,\"textposition\":\"auto\",\"type\":\"bar\",\"x\":[0.009376194568168215],\"xaxis\":\"x\",\"y\":[\"Input 12\"],\"yaxis\":\"y\"}],\"name\":\"1\"},{\"data\":[{\"alignmentgroup\":\"True\",\"hovertemplate\":\"Feature Name=%{y}<br>Iteration=2<br>Importance=%{x}<extra></extra>\",\"ids\":[\"Output 01\"],\"legendgroup\":\"Output 01\",\"marker\":{\"color\":\"#4C78A8\",\"pattern\":{\"shape\":\"\"}},\"name\":\"Output 01\",\"offsetgroup\":\"Output 01\",\"orientation\":\"h\",\"showlegend\":true,\"textposition\":\"auto\",\"type\":\"bar\",\"x\":[0.7842539610109648],\"xaxis\":\"x\",\"y\":[\"Output 01\"],\"yaxis\":\"y\"},{\"alignmentgroup\":\"True\",\"hovertemplate\":\"Feature Name=%{y}<br>Iteration=2<br>Importance=%{x}<extra></extra>\",\"ids\":[\"Input 08\"],\"legendgroup\":\"Input 08\",\"marker\":{\"color\":\"#F58518\",\"pattern\":{\"shape\":\"\"}},\"name\":\"Input 08\",\"offsetgroup\":\"Input 08\",\"orientation\":\"h\",\"showlegend\":true,\"textposition\":\"auto\",\"type\":\"bar\",\"x\":[0.07269892183997739],\"xaxis\":\"x\",\"y\":[\"Input 08\"],\"yaxis\":\"y\"},{\"alignmentgroup\":\"True\",\"hovertemplate\":\"Feature Name=%{y}<br>Iteration=2<br>Importance=%{x}<extra></extra>\",\"ids\":[\"Input 09\"],\"legendgroup\":\"Input 09\",\"marker\":{\"color\":\"#E45756\",\"pattern\":{\"shape\":\"\"}},\"name\":\"Input 09\",\"offsetgroup\":\"Input 09\",\"orientation\":\"h\",\"showlegend\":true,\"textposition\":\"auto\",\"type\":\"bar\",\"x\":[0.0065317319875058885],\"xaxis\":\"x\",\"y\":[\"Input 09\"],\"yaxis\":\"y\"},{\"alignmentgroup\":\"True\",\"hovertemplate\":\"Feature Name=%{y}<br>Iteration=2<br>Importance=%{x}<extra></extra>\",\"ids\":[\"Input 01\"],\"legendgroup\":\"Input 01\",\"marker\":{\"color\":\"#72B7B2\",\"pattern\":{\"shape\":\"\"}},\"name\":\"Input 01\",\"offsetgroup\":\"Input 01\",\"orientation\":\"h\",\"showlegend\":true,\"textposition\":\"auto\",\"type\":\"bar\",\"x\":[0.048047490837937454],\"xaxis\":\"x\",\"y\":[\"Input 01\"],\"yaxis\":\"y\"},{\"alignmentgroup\":\"True\",\"hovertemplate\":\"Feature Name=%{y}<br>Iteration=2<br>Importance=%{x}<extra></extra>\",\"ids\":[\"Input 03\"],\"legendgroup\":\"Input 03\",\"marker\":{\"color\":\"#54A24B\",\"pattern\":{\"shape\":\"\"}},\"name\":\"Input 03\",\"offsetgroup\":\"Input 03\",\"orientation\":\"h\",\"showlegend\":true,\"textposition\":\"auto\",\"type\":\"bar\",\"x\":[0.010178230644996534],\"xaxis\":\"x\",\"y\":[\"Input 03\"],\"yaxis\":\"y\"},{\"alignmentgroup\":\"True\",\"hovertemplate\":\"Feature Name=%{y}<br>Iteration=2<br>Importance=%{x}<extra></extra>\",\"ids\":[\"Input 06\"],\"legendgroup\":\"Input 06\",\"marker\":{\"color\":\"#EECA3B\",\"pattern\":{\"shape\":\"\"}},\"name\":\"Input 06\",\"offsetgroup\":\"Input 06\",\"orientation\":\"h\",\"showlegend\":true,\"textposition\":\"auto\",\"type\":\"bar\",\"x\":[0.03624358120068617],\"xaxis\":\"x\",\"y\":[\"Input 06\"],\"yaxis\":\"y\"},{\"alignmentgroup\":\"True\",\"hovertemplate\":\"Feature Name=%{y}<br>Iteration=2<br>Importance=%{x}<extra></extra>\",\"ids\":[\"Input 07\"],\"legendgroup\":\"Input 07\",\"marker\":{\"color\":\"#B279A2\",\"pattern\":{\"shape\":\"\"}},\"name\":\"Input 07\",\"offsetgroup\":\"Input 07\",\"orientation\":\"h\",\"showlegend\":true,\"textposition\":\"auto\",\"type\":\"bar\",\"x\":[0.005200999115652524],\"xaxis\":\"x\",\"y\":[\"Input 07\"],\"yaxis\":\"y\"},{\"alignmentgroup\":\"True\",\"hovertemplate\":\"Feature Name=%{y}<br>Iteration=2<br>Importance=%{x}<extra></extra>\",\"ids\":[\"Input 11\"],\"legendgroup\":\"Input 11\",\"marker\":{\"color\":\"#FF9DA6\",\"pattern\":{\"shape\":\"\"}},\"name\":\"Input 11\",\"offsetgroup\":\"Input 11\",\"orientation\":\"h\",\"showlegend\":true,\"textposition\":\"auto\",\"type\":\"bar\",\"x\":[0.006051097218613539],\"xaxis\":\"x\",\"y\":[\"Input 11\"],\"yaxis\":\"y\"},{\"alignmentgroup\":\"True\",\"hovertemplate\":\"Feature Name=%{y}<br>Iteration=2<br>Importance=%{x}<extra></extra>\",\"ids\":[\"Input 04\"],\"legendgroup\":\"Input 04\",\"marker\":{\"color\":\"#9D755D\",\"pattern\":{\"shape\":\"\"}},\"name\":\"Input 04\",\"offsetgroup\":\"Input 04\",\"orientation\":\"h\",\"showlegend\":true,\"textposition\":\"auto\",\"type\":\"bar\",\"x\":[0.005611033890134353],\"xaxis\":\"x\",\"y\":[\"Input 04\"],\"yaxis\":\"y\"},{\"alignmentgroup\":\"True\",\"hovertemplate\":\"Feature Name=%{y}<br>Iteration=2<br>Importance=%{x}<extra></extra>\",\"ids\":[\"Input 10\"],\"legendgroup\":\"Input 10\",\"marker\":{\"color\":\"#BAB0AC\",\"pattern\":{\"shape\":\"\"}},\"name\":\"Input 10\",\"offsetgroup\":\"Input 10\",\"orientation\":\"h\",\"showlegend\":true,\"textposition\":\"auto\",\"type\":\"bar\",\"x\":[0.005038876985592672],\"xaxis\":\"x\",\"y\":[\"Input 10\"],\"yaxis\":\"y\"},{\"alignmentgroup\":\"True\",\"hovertemplate\":\"Feature Name=%{y}<br>Iteration=2<br>Importance=%{x}<extra></extra>\",\"ids\":[\"Input 02\"],\"legendgroup\":\"Input 02\",\"marker\":{\"color\":\"#4C78A8\",\"pattern\":{\"shape\":\"\"}},\"name\":\"Input 02\",\"offsetgroup\":\"Input 02\",\"orientation\":\"h\",\"showlegend\":true,\"textposition\":\"auto\",\"type\":\"bar\",\"x\":[0.005554700998367244],\"xaxis\":\"x\",\"y\":[\"Input 02\"],\"yaxis\":\"y\"},{\"alignmentgroup\":\"True\",\"hovertemplate\":\"Feature Name=%{y}<br>Iteration=2<br>Importance=%{x}<extra></extra>\",\"ids\":[\"Input 05\"],\"legendgroup\":\"Input 05\",\"marker\":{\"color\":\"#F58518\",\"pattern\":{\"shape\":\"\"}},\"name\":\"Input 05\",\"offsetgroup\":\"Input 05\",\"orientation\":\"h\",\"showlegend\":true,\"textposition\":\"auto\",\"type\":\"bar\",\"x\":[0.008459678013205036],\"xaxis\":\"x\",\"y\":[\"Input 05\"],\"yaxis\":\"y\"},{\"alignmentgroup\":\"True\",\"hovertemplate\":\"Feature Name=%{y}<br>Iteration=2<br>Importance=%{x}<extra></extra>\",\"ids\":[\"Input 12\"],\"legendgroup\":\"Input 12\",\"marker\":{\"color\":\"#E45756\",\"pattern\":{\"shape\":\"\"}},\"name\":\"Input 12\",\"offsetgroup\":\"Input 12\",\"orientation\":\"h\",\"showlegend\":true,\"textposition\":\"auto\",\"type\":\"bar\",\"x\":[0.006129696256366443],\"xaxis\":\"x\",\"y\":[\"Input 12\"],\"yaxis\":\"y\"}],\"name\":\"2\"},{\"data\":[{\"alignmentgroup\":\"True\",\"hovertemplate\":\"Feature Name=%{y}<br>Iteration=3<br>Importance=%{x}<extra></extra>\",\"ids\":[\"Output 01\"],\"legendgroup\":\"Output 01\",\"marker\":{\"color\":\"#4C78A8\",\"pattern\":{\"shape\":\"\"}},\"name\":\"Output 01\",\"offsetgroup\":\"Output 01\",\"orientation\":\"h\",\"showlegend\":true,\"textposition\":\"auto\",\"type\":\"bar\",\"x\":[0.7869417066201116],\"xaxis\":\"x\",\"y\":[\"Output 01\"],\"yaxis\":\"y\"},{\"alignmentgroup\":\"True\",\"hovertemplate\":\"Feature Name=%{y}<br>Iteration=3<br>Importance=%{x}<extra></extra>\",\"ids\":[\"Input 08\"],\"legendgroup\":\"Input 08\",\"marker\":{\"color\":\"#F58518\",\"pattern\":{\"shape\":\"\"}},\"name\":\"Input 08\",\"offsetgroup\":\"Input 08\",\"orientation\":\"h\",\"showlegend\":true,\"textposition\":\"auto\",\"type\":\"bar\",\"x\":[0.07150459310684619],\"xaxis\":\"x\",\"y\":[\"Input 08\"],\"yaxis\":\"y\"},{\"alignmentgroup\":\"True\",\"hovertemplate\":\"Feature Name=%{y}<br>Iteration=3<br>Importance=%{x}<extra></extra>\",\"ids\":[\"Input 09\"],\"legendgroup\":\"Input 09\",\"marker\":{\"color\":\"#E45756\",\"pattern\":{\"shape\":\"\"}},\"name\":\"Input 09\",\"offsetgroup\":\"Input 09\",\"orientation\":\"h\",\"showlegend\":true,\"textposition\":\"auto\",\"type\":\"bar\",\"x\":[0.006899978086057938],\"xaxis\":\"x\",\"y\":[\"Input 09\"],\"yaxis\":\"y\"},{\"alignmentgroup\":\"True\",\"hovertemplate\":\"Feature Name=%{y}<br>Iteration=3<br>Importance=%{x}<extra></extra>\",\"ids\":[\"Input 01\"],\"legendgroup\":\"Input 01\",\"marker\":{\"color\":\"#72B7B2\",\"pattern\":{\"shape\":\"\"}},\"name\":\"Input 01\",\"offsetgroup\":\"Input 01\",\"orientation\":\"h\",\"showlegend\":true,\"textposition\":\"auto\",\"type\":\"bar\",\"x\":[0.047631342676173784],\"xaxis\":\"x\",\"y\":[\"Input 01\"],\"yaxis\":\"y\"},{\"alignmentgroup\":\"True\",\"hovertemplate\":\"Feature Name=%{y}<br>Iteration=3<br>Importance=%{x}<extra></extra>\",\"ids\":[\"Input 03\"],\"legendgroup\":\"Input 03\",\"marker\":{\"color\":\"#54A24B\",\"pattern\":{\"shape\":\"\"}},\"name\":\"Input 03\",\"offsetgroup\":\"Input 03\",\"orientation\":\"h\",\"showlegend\":true,\"textposition\":\"auto\",\"type\":\"bar\",\"x\":[0.011049886059111825],\"xaxis\":\"x\",\"y\":[\"Input 03\"],\"yaxis\":\"y\"},{\"alignmentgroup\":\"True\",\"hovertemplate\":\"Feature Name=%{y}<br>Iteration=3<br>Importance=%{x}<extra></extra>\",\"ids\":[\"Input 06\"],\"legendgroup\":\"Input 06\",\"marker\":{\"color\":\"#EECA3B\",\"pattern\":{\"shape\":\"\"}},\"name\":\"Input 06\",\"offsetgroup\":\"Input 06\",\"orientation\":\"h\",\"showlegend\":true,\"textposition\":\"auto\",\"type\":\"bar\",\"x\":[0.03593834241781498],\"xaxis\":\"x\",\"y\":[\"Input 06\"],\"yaxis\":\"y\"},{\"alignmentgroup\":\"True\",\"hovertemplate\":\"Feature Name=%{y}<br>Iteration=3<br>Importance=%{x}<extra></extra>\",\"ids\":[\"Input 07\"],\"legendgroup\":\"Input 07\",\"marker\":{\"color\":\"#B279A2\",\"pattern\":{\"shape\":\"\"}},\"name\":\"Input 07\",\"offsetgroup\":\"Input 07\",\"orientation\":\"h\",\"showlegend\":true,\"textposition\":\"auto\",\"type\":\"bar\",\"x\":[0.0054226929647373905],\"xaxis\":\"x\",\"y\":[\"Input 07\"],\"yaxis\":\"y\"},{\"alignmentgroup\":\"True\",\"hovertemplate\":\"Feature Name=%{y}<br>Iteration=3<br>Importance=%{x}<extra></extra>\",\"ids\":[\"Input 11\"],\"legendgroup\":\"Input 11\",\"marker\":{\"color\":\"#FF9DA6\",\"pattern\":{\"shape\":\"\"}},\"name\":\"Input 11\",\"offsetgroup\":\"Input 11\",\"orientation\":\"h\",\"showlegend\":true,\"textposition\":\"auto\",\"type\":\"bar\",\"x\":[0.005505964117471789],\"xaxis\":\"x\",\"y\":[\"Input 11\"],\"yaxis\":\"y\"},{\"alignmentgroup\":\"True\",\"hovertemplate\":\"Feature Name=%{y}<br>Iteration=3<br>Importance=%{x}<extra></extra>\",\"ids\":[\"Input 04\"],\"legendgroup\":\"Input 04\",\"marker\":{\"color\":\"#9D755D\",\"pattern\":{\"shape\":\"\"}},\"name\":\"Input 04\",\"offsetgroup\":\"Input 04\",\"orientation\":\"h\",\"showlegend\":true,\"textposition\":\"auto\",\"type\":\"bar\",\"x\":[0.0054156157657054916],\"xaxis\":\"x\",\"y\":[\"Input 04\"],\"yaxis\":\"y\"},{\"alignmentgroup\":\"True\",\"hovertemplate\":\"Feature Name=%{y}<br>Iteration=3<br>Importance=%{x}<extra></extra>\",\"ids\":[\"Input 10\"],\"legendgroup\":\"Input 10\",\"marker\":{\"color\":\"#BAB0AC\",\"pattern\":{\"shape\":\"\"}},\"name\":\"Input 10\",\"offsetgroup\":\"Input 10\",\"orientation\":\"h\",\"showlegend\":true,\"textposition\":\"auto\",\"type\":\"bar\",\"x\":[0.004981935680636096],\"xaxis\":\"x\",\"y\":[\"Input 10\"],\"yaxis\":\"y\"},{\"alignmentgroup\":\"True\",\"hovertemplate\":\"Feature Name=%{y}<br>Iteration=3<br>Importance=%{x}<extra></extra>\",\"ids\":[\"Input 02\"],\"legendgroup\":\"Input 02\",\"marker\":{\"color\":\"#4C78A8\",\"pattern\":{\"shape\":\"\"}},\"name\":\"Input 02\",\"offsetgroup\":\"Input 02\",\"orientation\":\"h\",\"showlegend\":true,\"textposition\":\"auto\",\"type\":\"bar\",\"x\":[0.0053208510068207555],\"xaxis\":\"x\",\"y\":[\"Input 02\"],\"yaxis\":\"y\"},{\"alignmentgroup\":\"True\",\"hovertemplate\":\"Feature Name=%{y}<br>Iteration=3<br>Importance=%{x}<extra></extra>\",\"ids\":[\"Input 05\"],\"legendgroup\":\"Input 05\",\"marker\":{\"color\":\"#F58518\",\"pattern\":{\"shape\":\"\"}},\"name\":\"Input 05\",\"offsetgroup\":\"Input 05\",\"orientation\":\"h\",\"showlegend\":true,\"textposition\":\"auto\",\"type\":\"bar\",\"x\":[0.006737964663152325],\"xaxis\":\"x\",\"y\":[\"Input 05\"],\"yaxis\":\"y\"},{\"alignmentgroup\":\"True\",\"hovertemplate\":\"Feature Name=%{y}<br>Iteration=3<br>Importance=%{x}<extra></extra>\",\"ids\":[\"Input 12\"],\"legendgroup\":\"Input 12\",\"marker\":{\"color\":\"#E45756\",\"pattern\":{\"shape\":\"\"}},\"name\":\"Input 12\",\"offsetgroup\":\"Input 12\",\"orientation\":\"h\",\"showlegend\":true,\"textposition\":\"auto\",\"type\":\"bar\",\"x\":[0.006649126835359838],\"xaxis\":\"x\",\"y\":[\"Input 12\"],\"yaxis\":\"y\"}],\"name\":\"3\"},{\"data\":[{\"alignmentgroup\":\"True\",\"hovertemplate\":\"Feature Name=%{y}<br>Iteration=4<br>Importance=%{x}<extra></extra>\",\"ids\":[\"Output 01\"],\"legendgroup\":\"Output 01\",\"marker\":{\"color\":\"#4C78A8\",\"pattern\":{\"shape\":\"\"}},\"name\":\"Output 01\",\"offsetgroup\":\"Output 01\",\"orientation\":\"h\",\"showlegend\":true,\"textposition\":\"auto\",\"type\":\"bar\",\"x\":[0.7901947804055608],\"xaxis\":\"x\",\"y\":[\"Output 01\"],\"yaxis\":\"y\"},{\"alignmentgroup\":\"True\",\"hovertemplate\":\"Feature Name=%{y}<br>Iteration=4<br>Importance=%{x}<extra></extra>\",\"ids\":[\"Input 08\"],\"legendgroup\":\"Input 08\",\"marker\":{\"color\":\"#F58518\",\"pattern\":{\"shape\":\"\"}},\"name\":\"Input 08\",\"offsetgroup\":\"Input 08\",\"orientation\":\"h\",\"showlegend\":true,\"textposition\":\"auto\",\"type\":\"bar\",\"x\":[0.07276283747363252],\"xaxis\":\"x\",\"y\":[\"Input 08\"],\"yaxis\":\"y\"},{\"alignmentgroup\":\"True\",\"hovertemplate\":\"Feature Name=%{y}<br>Iteration=4<br>Importance=%{x}<extra></extra>\",\"ids\":[\"Input 09\"],\"legendgroup\":\"Input 09\",\"marker\":{\"color\":\"#E45756\",\"pattern\":{\"shape\":\"\"}},\"name\":\"Input 09\",\"offsetgroup\":\"Input 09\",\"orientation\":\"h\",\"showlegend\":true,\"textposition\":\"auto\",\"type\":\"bar\",\"x\":[0.006646825484410825],\"xaxis\":\"x\",\"y\":[\"Input 09\"],\"yaxis\":\"y\"},{\"alignmentgroup\":\"True\",\"hovertemplate\":\"Feature Name=%{y}<br>Iteration=4<br>Importance=%{x}<extra></extra>\",\"ids\":[\"Input 01\"],\"legendgroup\":\"Input 01\",\"marker\":{\"color\":\"#72B7B2\",\"pattern\":{\"shape\":\"\"}},\"name\":\"Input 01\",\"offsetgroup\":\"Input 01\",\"orientation\":\"h\",\"showlegend\":true,\"textposition\":\"auto\",\"type\":\"bar\",\"x\":[0.045920808587360744],\"xaxis\":\"x\",\"y\":[\"Input 01\"],\"yaxis\":\"y\"},{\"alignmentgroup\":\"True\",\"hovertemplate\":\"Feature Name=%{y}<br>Iteration=4<br>Importance=%{x}<extra></extra>\",\"ids\":[\"Input 03\"],\"legendgroup\":\"Input 03\",\"marker\":{\"color\":\"#54A24B\",\"pattern\":{\"shape\":\"\"}},\"name\":\"Input 03\",\"offsetgroup\":\"Input 03\",\"orientation\":\"h\",\"showlegend\":true,\"textposition\":\"auto\",\"type\":\"bar\",\"x\":[0.011266325320979256],\"xaxis\":\"x\",\"y\":[\"Input 03\"],\"yaxis\":\"y\"},{\"alignmentgroup\":\"True\",\"hovertemplate\":\"Feature Name=%{y}<br>Iteration=4<br>Importance=%{x}<extra></extra>\",\"ids\":[\"Input 06\"],\"legendgroup\":\"Input 06\",\"marker\":{\"color\":\"#EECA3B\",\"pattern\":{\"shape\":\"\"}},\"name\":\"Input 06\",\"offsetgroup\":\"Input 06\",\"orientation\":\"h\",\"showlegend\":true,\"textposition\":\"auto\",\"type\":\"bar\",\"x\":[0.03334748354434383],\"xaxis\":\"x\",\"y\":[\"Input 06\"],\"yaxis\":\"y\"},{\"alignmentgroup\":\"True\",\"hovertemplate\":\"Feature Name=%{y}<br>Iteration=4<br>Importance=%{x}<extra></extra>\",\"ids\":[\"Input 07\"],\"legendgroup\":\"Input 07\",\"marker\":{\"color\":\"#B279A2\",\"pattern\":{\"shape\":\"\"}},\"name\":\"Input 07\",\"offsetgroup\":\"Input 07\",\"orientation\":\"h\",\"showlegend\":true,\"textposition\":\"auto\",\"type\":\"bar\",\"x\":[0.005559796058994796],\"xaxis\":\"x\",\"y\":[\"Input 07\"],\"yaxis\":\"y\"},{\"alignmentgroup\":\"True\",\"hovertemplate\":\"Feature Name=%{y}<br>Iteration=4<br>Importance=%{x}<extra></extra>\",\"ids\":[\"Input 11\"],\"legendgroup\":\"Input 11\",\"marker\":{\"color\":\"#FF9DA6\",\"pattern\":{\"shape\":\"\"}},\"name\":\"Input 11\",\"offsetgroup\":\"Input 11\",\"orientation\":\"h\",\"showlegend\":true,\"textposition\":\"auto\",\"type\":\"bar\",\"x\":[0.005850173890933137],\"xaxis\":\"x\",\"y\":[\"Input 11\"],\"yaxis\":\"y\"},{\"alignmentgroup\":\"True\",\"hovertemplate\":\"Feature Name=%{y}<br>Iteration=4<br>Importance=%{x}<extra></extra>\",\"ids\":[\"Input 04\"],\"legendgroup\":\"Input 04\",\"marker\":{\"color\":\"#9D755D\",\"pattern\":{\"shape\":\"\"}},\"name\":\"Input 04\",\"offsetgroup\":\"Input 04\",\"orientation\":\"h\",\"showlegend\":true,\"textposition\":\"auto\",\"type\":\"bar\",\"x\":[0.00547851870819485],\"xaxis\":\"x\",\"y\":[\"Input 04\"],\"yaxis\":\"y\"},{\"alignmentgroup\":\"True\",\"hovertemplate\":\"Feature Name=%{y}<br>Iteration=4<br>Importance=%{x}<extra></extra>\",\"ids\":[\"Input 10\"],\"legendgroup\":\"Input 10\",\"marker\":{\"color\":\"#BAB0AC\",\"pattern\":{\"shape\":\"\"}},\"name\":\"Input 10\",\"offsetgroup\":\"Input 10\",\"orientation\":\"h\",\"showlegend\":true,\"textposition\":\"auto\",\"type\":\"bar\",\"x\":[0.005017605616187708],\"xaxis\":\"x\",\"y\":[\"Input 10\"],\"yaxis\":\"y\"},{\"alignmentgroup\":\"True\",\"hovertemplate\":\"Feature Name=%{y}<br>Iteration=4<br>Importance=%{x}<extra></extra>\",\"ids\":[\"Input 02\"],\"legendgroup\":\"Input 02\",\"marker\":{\"color\":\"#4C78A8\",\"pattern\":{\"shape\":\"\"}},\"name\":\"Input 02\",\"offsetgroup\":\"Input 02\",\"orientation\":\"h\",\"showlegend\":true,\"textposition\":\"auto\",\"type\":\"bar\",\"x\":[0.005048204622422848],\"xaxis\":\"x\",\"y\":[\"Input 02\"],\"yaxis\":\"y\"},{\"alignmentgroup\":\"True\",\"hovertemplate\":\"Feature Name=%{y}<br>Iteration=4<br>Importance=%{x}<extra></extra>\",\"ids\":[\"Input 05\"],\"legendgroup\":\"Input 05\",\"marker\":{\"color\":\"#F58518\",\"pattern\":{\"shape\":\"\"}},\"name\":\"Input 05\",\"offsetgroup\":\"Input 05\",\"orientation\":\"h\",\"showlegend\":true,\"textposition\":\"auto\",\"type\":\"bar\",\"x\":[0.006544887760235602],\"xaxis\":\"x\",\"y\":[\"Input 05\"],\"yaxis\":\"y\"},{\"alignmentgroup\":\"True\",\"hovertemplate\":\"Feature Name=%{y}<br>Iteration=4<br>Importance=%{x}<extra></extra>\",\"ids\":[\"Input 12\"],\"legendgroup\":\"Input 12\",\"marker\":{\"color\":\"#E45756\",\"pattern\":{\"shape\":\"\"}},\"name\":\"Input 12\",\"offsetgroup\":\"Input 12\",\"orientation\":\"h\",\"showlegend\":true,\"textposition\":\"auto\",\"type\":\"bar\",\"x\":[0.006361752526743125],\"xaxis\":\"x\",\"y\":[\"Input 12\"],\"yaxis\":\"y\"}],\"name\":\"4\"},{\"data\":[{\"alignmentgroup\":\"True\",\"hovertemplate\":\"Feature Name=%{y}<br>Iteration=5<br>Importance=%{x}<extra></extra>\",\"ids\":[\"Output 01\"],\"legendgroup\":\"Output 01\",\"marker\":{\"color\":\"#4C78A8\",\"pattern\":{\"shape\":\"\"}},\"name\":\"Output 01\",\"offsetgroup\":\"Output 01\",\"orientation\":\"h\",\"showlegend\":true,\"textposition\":\"auto\",\"type\":\"bar\",\"x\":[0.7901947804055608],\"xaxis\":\"x\",\"y\":[\"Output 01\"],\"yaxis\":\"y\"},{\"alignmentgroup\":\"True\",\"hovertemplate\":\"Feature Name=%{y}<br>Iteration=5<br>Importance=%{x}<extra></extra>\",\"ids\":[\"Input 08\"],\"legendgroup\":\"Input 08\",\"marker\":{\"color\":\"#F58518\",\"pattern\":{\"shape\":\"\"}},\"name\":\"Input 08\",\"offsetgroup\":\"Input 08\",\"orientation\":\"h\",\"showlegend\":true,\"textposition\":\"auto\",\"type\":\"bar\",\"x\":[0.07276283747363252],\"xaxis\":\"x\",\"y\":[\"Input 08\"],\"yaxis\":\"y\"},{\"alignmentgroup\":\"True\",\"hovertemplate\":\"Feature Name=%{y}<br>Iteration=5<br>Importance=%{x}<extra></extra>\",\"ids\":[\"Input 09\"],\"legendgroup\":\"Input 09\",\"marker\":{\"color\":\"#E45756\",\"pattern\":{\"shape\":\"\"}},\"name\":\"Input 09\",\"offsetgroup\":\"Input 09\",\"orientation\":\"h\",\"showlegend\":true,\"textposition\":\"auto\",\"type\":\"bar\",\"x\":[0.006646825484410825],\"xaxis\":\"x\",\"y\":[\"Input 09\"],\"yaxis\":\"y\"},{\"alignmentgroup\":\"True\",\"hovertemplate\":\"Feature Name=%{y}<br>Iteration=5<br>Importance=%{x}<extra></extra>\",\"ids\":[\"Input 01\"],\"legendgroup\":\"Input 01\",\"marker\":{\"color\":\"#72B7B2\",\"pattern\":{\"shape\":\"\"}},\"name\":\"Input 01\",\"offsetgroup\":\"Input 01\",\"orientation\":\"h\",\"showlegend\":true,\"textposition\":\"auto\",\"type\":\"bar\",\"x\":[0.045920808587360744],\"xaxis\":\"x\",\"y\":[\"Input 01\"],\"yaxis\":\"y\"},{\"alignmentgroup\":\"True\",\"hovertemplate\":\"Feature Name=%{y}<br>Iteration=5<br>Importance=%{x}<extra></extra>\",\"ids\":[\"Input 03\"],\"legendgroup\":\"Input 03\",\"marker\":{\"color\":\"#54A24B\",\"pattern\":{\"shape\":\"\"}},\"name\":\"Input 03\",\"offsetgroup\":\"Input 03\",\"orientation\":\"h\",\"showlegend\":true,\"textposition\":\"auto\",\"type\":\"bar\",\"x\":[0.011266325320979256],\"xaxis\":\"x\",\"y\":[\"Input 03\"],\"yaxis\":\"y\"},{\"alignmentgroup\":\"True\",\"hovertemplate\":\"Feature Name=%{y}<br>Iteration=5<br>Importance=%{x}<extra></extra>\",\"ids\":[\"Input 06\"],\"legendgroup\":\"Input 06\",\"marker\":{\"color\":\"#EECA3B\",\"pattern\":{\"shape\":\"\"}},\"name\":\"Input 06\",\"offsetgroup\":\"Input 06\",\"orientation\":\"h\",\"showlegend\":true,\"textposition\":\"auto\",\"type\":\"bar\",\"x\":[0.03334748354434383],\"xaxis\":\"x\",\"y\":[\"Input 06\"],\"yaxis\":\"y\"},{\"alignmentgroup\":\"True\",\"hovertemplate\":\"Feature Name=%{y}<br>Iteration=5<br>Importance=%{x}<extra></extra>\",\"ids\":[\"Input 07\"],\"legendgroup\":\"Input 07\",\"marker\":{\"color\":\"#B279A2\",\"pattern\":{\"shape\":\"\"}},\"name\":\"Input 07\",\"offsetgroup\":\"Input 07\",\"orientation\":\"h\",\"showlegend\":true,\"textposition\":\"auto\",\"type\":\"bar\",\"x\":[0.005559796058994796],\"xaxis\":\"x\",\"y\":[\"Input 07\"],\"yaxis\":\"y\"},{\"alignmentgroup\":\"True\",\"hovertemplate\":\"Feature Name=%{y}<br>Iteration=5<br>Importance=%{x}<extra></extra>\",\"ids\":[\"Input 11\"],\"legendgroup\":\"Input 11\",\"marker\":{\"color\":\"#FF9DA6\",\"pattern\":{\"shape\":\"\"}},\"name\":\"Input 11\",\"offsetgroup\":\"Input 11\",\"orientation\":\"h\",\"showlegend\":true,\"textposition\":\"auto\",\"type\":\"bar\",\"x\":[0.005850173890933137],\"xaxis\":\"x\",\"y\":[\"Input 11\"],\"yaxis\":\"y\"},{\"alignmentgroup\":\"True\",\"hovertemplate\":\"Feature Name=%{y}<br>Iteration=5<br>Importance=%{x}<extra></extra>\",\"ids\":[\"Input 04\"],\"legendgroup\":\"Input 04\",\"marker\":{\"color\":\"#9D755D\",\"pattern\":{\"shape\":\"\"}},\"name\":\"Input 04\",\"offsetgroup\":\"Input 04\",\"orientation\":\"h\",\"showlegend\":true,\"textposition\":\"auto\",\"type\":\"bar\",\"x\":[0.00547851870819485],\"xaxis\":\"x\",\"y\":[\"Input 04\"],\"yaxis\":\"y\"},{\"alignmentgroup\":\"True\",\"hovertemplate\":\"Feature Name=%{y}<br>Iteration=5<br>Importance=%{x}<extra></extra>\",\"ids\":[\"Input 10\"],\"legendgroup\":\"Input 10\",\"marker\":{\"color\":\"#BAB0AC\",\"pattern\":{\"shape\":\"\"}},\"name\":\"Input 10\",\"offsetgroup\":\"Input 10\",\"orientation\":\"h\",\"showlegend\":true,\"textposition\":\"auto\",\"type\":\"bar\",\"x\":[0.005017605616187708],\"xaxis\":\"x\",\"y\":[\"Input 10\"],\"yaxis\":\"y\"},{\"alignmentgroup\":\"True\",\"hovertemplate\":\"Feature Name=%{y}<br>Iteration=5<br>Importance=%{x}<extra></extra>\",\"ids\":[\"Input 02\"],\"legendgroup\":\"Input 02\",\"marker\":{\"color\":\"#4C78A8\",\"pattern\":{\"shape\":\"\"}},\"name\":\"Input 02\",\"offsetgroup\":\"Input 02\",\"orientation\":\"h\",\"showlegend\":true,\"textposition\":\"auto\",\"type\":\"bar\",\"x\":[0.005048204622422848],\"xaxis\":\"x\",\"y\":[\"Input 02\"],\"yaxis\":\"y\"},{\"alignmentgroup\":\"True\",\"hovertemplate\":\"Feature Name=%{y}<br>Iteration=5<br>Importance=%{x}<extra></extra>\",\"ids\":[\"Input 05\"],\"legendgroup\":\"Input 05\",\"marker\":{\"color\":\"#F58518\",\"pattern\":{\"shape\":\"\"}},\"name\":\"Input 05\",\"offsetgroup\":\"Input 05\",\"orientation\":\"h\",\"showlegend\":true,\"textposition\":\"auto\",\"type\":\"bar\",\"x\":[0.006544887760235602],\"xaxis\":\"x\",\"y\":[\"Input 05\"],\"yaxis\":\"y\"},{\"alignmentgroup\":\"True\",\"hovertemplate\":\"Feature Name=%{y}<br>Iteration=5<br>Importance=%{x}<extra></extra>\",\"ids\":[\"Input 12\"],\"legendgroup\":\"Input 12\",\"marker\":{\"color\":\"#E45756\",\"pattern\":{\"shape\":\"\"}},\"name\":\"Input 12\",\"offsetgroup\":\"Input 12\",\"orientation\":\"h\",\"showlegend\":true,\"textposition\":\"auto\",\"type\":\"bar\",\"x\":[0.006361752526743125],\"xaxis\":\"x\",\"y\":[\"Input 12\"],\"yaxis\":\"y\"}],\"name\":\"5\"},{\"data\":[{\"alignmentgroup\":\"True\",\"hovertemplate\":\"Feature Name=%{y}<br>Iteration=6<br>Importance=%{x}<extra></extra>\",\"ids\":[\"Output 01\"],\"legendgroup\":\"Output 01\",\"marker\":{\"color\":\"#4C78A8\",\"pattern\":{\"shape\":\"\"}},\"name\":\"Output 01\",\"offsetgroup\":\"Output 01\",\"orientation\":\"h\",\"showlegend\":true,\"textposition\":\"auto\",\"type\":\"bar\",\"x\":[0.7901947804055608],\"xaxis\":\"x\",\"y\":[\"Output 01\"],\"yaxis\":\"y\"},{\"alignmentgroup\":\"True\",\"hovertemplate\":\"Feature Name=%{y}<br>Iteration=6<br>Importance=%{x}<extra></extra>\",\"ids\":[\"Input 08\"],\"legendgroup\":\"Input 08\",\"marker\":{\"color\":\"#F58518\",\"pattern\":{\"shape\":\"\"}},\"name\":\"Input 08\",\"offsetgroup\":\"Input 08\",\"orientation\":\"h\",\"showlegend\":true,\"textposition\":\"auto\",\"type\":\"bar\",\"x\":[0.07276283747363252],\"xaxis\":\"x\",\"y\":[\"Input 08\"],\"yaxis\":\"y\"},{\"alignmentgroup\":\"True\",\"hovertemplate\":\"Feature Name=%{y}<br>Iteration=6<br>Importance=%{x}<extra></extra>\",\"ids\":[\"Input 09\"],\"legendgroup\":\"Input 09\",\"marker\":{\"color\":\"#E45756\",\"pattern\":{\"shape\":\"\"}},\"name\":\"Input 09\",\"offsetgroup\":\"Input 09\",\"orientation\":\"h\",\"showlegend\":true,\"textposition\":\"auto\",\"type\":\"bar\",\"x\":[0.006646825484410825],\"xaxis\":\"x\",\"y\":[\"Input 09\"],\"yaxis\":\"y\"},{\"alignmentgroup\":\"True\",\"hovertemplate\":\"Feature Name=%{y}<br>Iteration=6<br>Importance=%{x}<extra></extra>\",\"ids\":[\"Input 01\"],\"legendgroup\":\"Input 01\",\"marker\":{\"color\":\"#72B7B2\",\"pattern\":{\"shape\":\"\"}},\"name\":\"Input 01\",\"offsetgroup\":\"Input 01\",\"orientation\":\"h\",\"showlegend\":true,\"textposition\":\"auto\",\"type\":\"bar\",\"x\":[0.045920808587360744],\"xaxis\":\"x\",\"y\":[\"Input 01\"],\"yaxis\":\"y\"},{\"alignmentgroup\":\"True\",\"hovertemplate\":\"Feature Name=%{y}<br>Iteration=6<br>Importance=%{x}<extra></extra>\",\"ids\":[\"Input 03\"],\"legendgroup\":\"Input 03\",\"marker\":{\"color\":\"#54A24B\",\"pattern\":{\"shape\":\"\"}},\"name\":\"Input 03\",\"offsetgroup\":\"Input 03\",\"orientation\":\"h\",\"showlegend\":true,\"textposition\":\"auto\",\"type\":\"bar\",\"x\":[0.011266325320979256],\"xaxis\":\"x\",\"y\":[\"Input 03\"],\"yaxis\":\"y\"},{\"alignmentgroup\":\"True\",\"hovertemplate\":\"Feature Name=%{y}<br>Iteration=6<br>Importance=%{x}<extra></extra>\",\"ids\":[\"Input 06\"],\"legendgroup\":\"Input 06\",\"marker\":{\"color\":\"#EECA3B\",\"pattern\":{\"shape\":\"\"}},\"name\":\"Input 06\",\"offsetgroup\":\"Input 06\",\"orientation\":\"h\",\"showlegend\":true,\"textposition\":\"auto\",\"type\":\"bar\",\"x\":[0.03334748354434383],\"xaxis\":\"x\",\"y\":[\"Input 06\"],\"yaxis\":\"y\"},{\"alignmentgroup\":\"True\",\"hovertemplate\":\"Feature Name=%{y}<br>Iteration=6<br>Importance=%{x}<extra></extra>\",\"ids\":[\"Input 07\"],\"legendgroup\":\"Input 07\",\"marker\":{\"color\":\"#B279A2\",\"pattern\":{\"shape\":\"\"}},\"name\":\"Input 07\",\"offsetgroup\":\"Input 07\",\"orientation\":\"h\",\"showlegend\":true,\"textposition\":\"auto\",\"type\":\"bar\",\"x\":[0.005559796058994796],\"xaxis\":\"x\",\"y\":[\"Input 07\"],\"yaxis\":\"y\"},{\"alignmentgroup\":\"True\",\"hovertemplate\":\"Feature Name=%{y}<br>Iteration=6<br>Importance=%{x}<extra></extra>\",\"ids\":[\"Input 11\"],\"legendgroup\":\"Input 11\",\"marker\":{\"color\":\"#FF9DA6\",\"pattern\":{\"shape\":\"\"}},\"name\":\"Input 11\",\"offsetgroup\":\"Input 11\",\"orientation\":\"h\",\"showlegend\":true,\"textposition\":\"auto\",\"type\":\"bar\",\"x\":[0.005850173890933137],\"xaxis\":\"x\",\"y\":[\"Input 11\"],\"yaxis\":\"y\"},{\"alignmentgroup\":\"True\",\"hovertemplate\":\"Feature Name=%{y}<br>Iteration=6<br>Importance=%{x}<extra></extra>\",\"ids\":[\"Input 04\"],\"legendgroup\":\"Input 04\",\"marker\":{\"color\":\"#9D755D\",\"pattern\":{\"shape\":\"\"}},\"name\":\"Input 04\",\"offsetgroup\":\"Input 04\",\"orientation\":\"h\",\"showlegend\":true,\"textposition\":\"auto\",\"type\":\"bar\",\"x\":[0.00547851870819485],\"xaxis\":\"x\",\"y\":[\"Input 04\"],\"yaxis\":\"y\"},{\"alignmentgroup\":\"True\",\"hovertemplate\":\"Feature Name=%{y}<br>Iteration=6<br>Importance=%{x}<extra></extra>\",\"ids\":[\"Input 10\"],\"legendgroup\":\"Input 10\",\"marker\":{\"color\":\"#BAB0AC\",\"pattern\":{\"shape\":\"\"}},\"name\":\"Input 10\",\"offsetgroup\":\"Input 10\",\"orientation\":\"h\",\"showlegend\":true,\"textposition\":\"auto\",\"type\":\"bar\",\"x\":[0.005017605616187708],\"xaxis\":\"x\",\"y\":[\"Input 10\"],\"yaxis\":\"y\"},{\"alignmentgroup\":\"True\",\"hovertemplate\":\"Feature Name=%{y}<br>Iteration=6<br>Importance=%{x}<extra></extra>\",\"ids\":[\"Input 02\"],\"legendgroup\":\"Input 02\",\"marker\":{\"color\":\"#4C78A8\",\"pattern\":{\"shape\":\"\"}},\"name\":\"Input 02\",\"offsetgroup\":\"Input 02\",\"orientation\":\"h\",\"showlegend\":true,\"textposition\":\"auto\",\"type\":\"bar\",\"x\":[0.005048204622422848],\"xaxis\":\"x\",\"y\":[\"Input 02\"],\"yaxis\":\"y\"},{\"alignmentgroup\":\"True\",\"hovertemplate\":\"Feature Name=%{y}<br>Iteration=6<br>Importance=%{x}<extra></extra>\",\"ids\":[\"Input 05\"],\"legendgroup\":\"Input 05\",\"marker\":{\"color\":\"#F58518\",\"pattern\":{\"shape\":\"\"}},\"name\":\"Input 05\",\"offsetgroup\":\"Input 05\",\"orientation\":\"h\",\"showlegend\":true,\"textposition\":\"auto\",\"type\":\"bar\",\"x\":[0.006544887760235602],\"xaxis\":\"x\",\"y\":[\"Input 05\"],\"yaxis\":\"y\"},{\"alignmentgroup\":\"True\",\"hovertemplate\":\"Feature Name=%{y}<br>Iteration=6<br>Importance=%{x}<extra></extra>\",\"ids\":[\"Input 12\"],\"legendgroup\":\"Input 12\",\"marker\":{\"color\":\"#E45756\",\"pattern\":{\"shape\":\"\"}},\"name\":\"Input 12\",\"offsetgroup\":\"Input 12\",\"orientation\":\"h\",\"showlegend\":true,\"textposition\":\"auto\",\"type\":\"bar\",\"x\":[0.006361752526743125],\"xaxis\":\"x\",\"y\":[\"Input 12\"],\"yaxis\":\"y\"}],\"name\":\"6\"},{\"data\":[{\"alignmentgroup\":\"True\",\"hovertemplate\":\"Feature Name=%{y}<br>Iteration=7<br>Importance=%{x}<extra></extra>\",\"ids\":[\"Output 01\"],\"legendgroup\":\"Output 01\",\"marker\":{\"color\":\"#4C78A8\",\"pattern\":{\"shape\":\"\"}},\"name\":\"Output 01\",\"offsetgroup\":\"Output 01\",\"orientation\":\"h\",\"showlegend\":true,\"textposition\":\"auto\",\"type\":\"bar\",\"x\":[0.7901947804055608],\"xaxis\":\"x\",\"y\":[\"Output 01\"],\"yaxis\":\"y\"},{\"alignmentgroup\":\"True\",\"hovertemplate\":\"Feature Name=%{y}<br>Iteration=7<br>Importance=%{x}<extra></extra>\",\"ids\":[\"Input 08\"],\"legendgroup\":\"Input 08\",\"marker\":{\"color\":\"#F58518\",\"pattern\":{\"shape\":\"\"}},\"name\":\"Input 08\",\"offsetgroup\":\"Input 08\",\"orientation\":\"h\",\"showlegend\":true,\"textposition\":\"auto\",\"type\":\"bar\",\"x\":[0.07276283747363252],\"xaxis\":\"x\",\"y\":[\"Input 08\"],\"yaxis\":\"y\"},{\"alignmentgroup\":\"True\",\"hovertemplate\":\"Feature Name=%{y}<br>Iteration=7<br>Importance=%{x}<extra></extra>\",\"ids\":[\"Input 09\"],\"legendgroup\":\"Input 09\",\"marker\":{\"color\":\"#E45756\",\"pattern\":{\"shape\":\"\"}},\"name\":\"Input 09\",\"offsetgroup\":\"Input 09\",\"orientation\":\"h\",\"showlegend\":true,\"textposition\":\"auto\",\"type\":\"bar\",\"x\":[0.006646825484410825],\"xaxis\":\"x\",\"y\":[\"Input 09\"],\"yaxis\":\"y\"},{\"alignmentgroup\":\"True\",\"hovertemplate\":\"Feature Name=%{y}<br>Iteration=7<br>Importance=%{x}<extra></extra>\",\"ids\":[\"Input 01\"],\"legendgroup\":\"Input 01\",\"marker\":{\"color\":\"#72B7B2\",\"pattern\":{\"shape\":\"\"}},\"name\":\"Input 01\",\"offsetgroup\":\"Input 01\",\"orientation\":\"h\",\"showlegend\":true,\"textposition\":\"auto\",\"type\":\"bar\",\"x\":[0.045920808587360744],\"xaxis\":\"x\",\"y\":[\"Input 01\"],\"yaxis\":\"y\"},{\"alignmentgroup\":\"True\",\"hovertemplate\":\"Feature Name=%{y}<br>Iteration=7<br>Importance=%{x}<extra></extra>\",\"ids\":[\"Input 03\"],\"legendgroup\":\"Input 03\",\"marker\":{\"color\":\"#54A24B\",\"pattern\":{\"shape\":\"\"}},\"name\":\"Input 03\",\"offsetgroup\":\"Input 03\",\"orientation\":\"h\",\"showlegend\":true,\"textposition\":\"auto\",\"type\":\"bar\",\"x\":[0.011266325320979256],\"xaxis\":\"x\",\"y\":[\"Input 03\"],\"yaxis\":\"y\"},{\"alignmentgroup\":\"True\",\"hovertemplate\":\"Feature Name=%{y}<br>Iteration=7<br>Importance=%{x}<extra></extra>\",\"ids\":[\"Input 06\"],\"legendgroup\":\"Input 06\",\"marker\":{\"color\":\"#EECA3B\",\"pattern\":{\"shape\":\"\"}},\"name\":\"Input 06\",\"offsetgroup\":\"Input 06\",\"orientation\":\"h\",\"showlegend\":true,\"textposition\":\"auto\",\"type\":\"bar\",\"x\":[0.03334748354434383],\"xaxis\":\"x\",\"y\":[\"Input 06\"],\"yaxis\":\"y\"},{\"alignmentgroup\":\"True\",\"hovertemplate\":\"Feature Name=%{y}<br>Iteration=7<br>Importance=%{x}<extra></extra>\",\"ids\":[\"Input 07\"],\"legendgroup\":\"Input 07\",\"marker\":{\"color\":\"#B279A2\",\"pattern\":{\"shape\":\"\"}},\"name\":\"Input 07\",\"offsetgroup\":\"Input 07\",\"orientation\":\"h\",\"showlegend\":true,\"textposition\":\"auto\",\"type\":\"bar\",\"x\":[0.005559796058994796],\"xaxis\":\"x\",\"y\":[\"Input 07\"],\"yaxis\":\"y\"},{\"alignmentgroup\":\"True\",\"hovertemplate\":\"Feature Name=%{y}<br>Iteration=7<br>Importance=%{x}<extra></extra>\",\"ids\":[\"Input 11\"],\"legendgroup\":\"Input 11\",\"marker\":{\"color\":\"#FF9DA6\",\"pattern\":{\"shape\":\"\"}},\"name\":\"Input 11\",\"offsetgroup\":\"Input 11\",\"orientation\":\"h\",\"showlegend\":true,\"textposition\":\"auto\",\"type\":\"bar\",\"x\":[0.005850173890933137],\"xaxis\":\"x\",\"y\":[\"Input 11\"],\"yaxis\":\"y\"},{\"alignmentgroup\":\"True\",\"hovertemplate\":\"Feature Name=%{y}<br>Iteration=7<br>Importance=%{x}<extra></extra>\",\"ids\":[\"Input 04\"],\"legendgroup\":\"Input 04\",\"marker\":{\"color\":\"#9D755D\",\"pattern\":{\"shape\":\"\"}},\"name\":\"Input 04\",\"offsetgroup\":\"Input 04\",\"orientation\":\"h\",\"showlegend\":true,\"textposition\":\"auto\",\"type\":\"bar\",\"x\":[0.00547851870819485],\"xaxis\":\"x\",\"y\":[\"Input 04\"],\"yaxis\":\"y\"},{\"alignmentgroup\":\"True\",\"hovertemplate\":\"Feature Name=%{y}<br>Iteration=7<br>Importance=%{x}<extra></extra>\",\"ids\":[\"Input 10\"],\"legendgroup\":\"Input 10\",\"marker\":{\"color\":\"#BAB0AC\",\"pattern\":{\"shape\":\"\"}},\"name\":\"Input 10\",\"offsetgroup\":\"Input 10\",\"orientation\":\"h\",\"showlegend\":true,\"textposition\":\"auto\",\"type\":\"bar\",\"x\":[0.005017605616187708],\"xaxis\":\"x\",\"y\":[\"Input 10\"],\"yaxis\":\"y\"},{\"alignmentgroup\":\"True\",\"hovertemplate\":\"Feature Name=%{y}<br>Iteration=7<br>Importance=%{x}<extra></extra>\",\"ids\":[\"Input 02\"],\"legendgroup\":\"Input 02\",\"marker\":{\"color\":\"#4C78A8\",\"pattern\":{\"shape\":\"\"}},\"name\":\"Input 02\",\"offsetgroup\":\"Input 02\",\"orientation\":\"h\",\"showlegend\":true,\"textposition\":\"auto\",\"type\":\"bar\",\"x\":[0.005048204622422848],\"xaxis\":\"x\",\"y\":[\"Input 02\"],\"yaxis\":\"y\"},{\"alignmentgroup\":\"True\",\"hovertemplate\":\"Feature Name=%{y}<br>Iteration=7<br>Importance=%{x}<extra></extra>\",\"ids\":[\"Input 05\"],\"legendgroup\":\"Input 05\",\"marker\":{\"color\":\"#F58518\",\"pattern\":{\"shape\":\"\"}},\"name\":\"Input 05\",\"offsetgroup\":\"Input 05\",\"orientation\":\"h\",\"showlegend\":true,\"textposition\":\"auto\",\"type\":\"bar\",\"x\":[0.006544887760235602],\"xaxis\":\"x\",\"y\":[\"Input 05\"],\"yaxis\":\"y\"},{\"alignmentgroup\":\"True\",\"hovertemplate\":\"Feature Name=%{y}<br>Iteration=7<br>Importance=%{x}<extra></extra>\",\"ids\":[\"Input 12\"],\"legendgroup\":\"Input 12\",\"marker\":{\"color\":\"#E45756\",\"pattern\":{\"shape\":\"\"}},\"name\":\"Input 12\",\"offsetgroup\":\"Input 12\",\"orientation\":\"h\",\"showlegend\":true,\"textposition\":\"auto\",\"type\":\"bar\",\"x\":[0.006361752526743125],\"xaxis\":\"x\",\"y\":[\"Input 12\"],\"yaxis\":\"y\"}],\"name\":\"7\"},{\"data\":[{\"alignmentgroup\":\"True\",\"hovertemplate\":\"Feature Name=%{y}<br>Iteration=8<br>Importance=%{x}<extra></extra>\",\"ids\":[\"Output 01\"],\"legendgroup\":\"Output 01\",\"marker\":{\"color\":\"#4C78A8\",\"pattern\":{\"shape\":\"\"}},\"name\":\"Output 01\",\"offsetgroup\":\"Output 01\",\"orientation\":\"h\",\"showlegend\":true,\"textposition\":\"auto\",\"type\":\"bar\",\"x\":[0.7901947804055608],\"xaxis\":\"x\",\"y\":[\"Output 01\"],\"yaxis\":\"y\"},{\"alignmentgroup\":\"True\",\"hovertemplate\":\"Feature Name=%{y}<br>Iteration=8<br>Importance=%{x}<extra></extra>\",\"ids\":[\"Input 08\"],\"legendgroup\":\"Input 08\",\"marker\":{\"color\":\"#F58518\",\"pattern\":{\"shape\":\"\"}},\"name\":\"Input 08\",\"offsetgroup\":\"Input 08\",\"orientation\":\"h\",\"showlegend\":true,\"textposition\":\"auto\",\"type\":\"bar\",\"x\":[0.07276283747363252],\"xaxis\":\"x\",\"y\":[\"Input 08\"],\"yaxis\":\"y\"},{\"alignmentgroup\":\"True\",\"hovertemplate\":\"Feature Name=%{y}<br>Iteration=8<br>Importance=%{x}<extra></extra>\",\"ids\":[\"Input 09\"],\"legendgroup\":\"Input 09\",\"marker\":{\"color\":\"#E45756\",\"pattern\":{\"shape\":\"\"}},\"name\":\"Input 09\",\"offsetgroup\":\"Input 09\",\"orientation\":\"h\",\"showlegend\":true,\"textposition\":\"auto\",\"type\":\"bar\",\"x\":[0.006646825484410825],\"xaxis\":\"x\",\"y\":[\"Input 09\"],\"yaxis\":\"y\"},{\"alignmentgroup\":\"True\",\"hovertemplate\":\"Feature Name=%{y}<br>Iteration=8<br>Importance=%{x}<extra></extra>\",\"ids\":[\"Input 01\"],\"legendgroup\":\"Input 01\",\"marker\":{\"color\":\"#72B7B2\",\"pattern\":{\"shape\":\"\"}},\"name\":\"Input 01\",\"offsetgroup\":\"Input 01\",\"orientation\":\"h\",\"showlegend\":true,\"textposition\":\"auto\",\"type\":\"bar\",\"x\":[0.045920808587360744],\"xaxis\":\"x\",\"y\":[\"Input 01\"],\"yaxis\":\"y\"},{\"alignmentgroup\":\"True\",\"hovertemplate\":\"Feature Name=%{y}<br>Iteration=8<br>Importance=%{x}<extra></extra>\",\"ids\":[\"Input 03\"],\"legendgroup\":\"Input 03\",\"marker\":{\"color\":\"#54A24B\",\"pattern\":{\"shape\":\"\"}},\"name\":\"Input 03\",\"offsetgroup\":\"Input 03\",\"orientation\":\"h\",\"showlegend\":true,\"textposition\":\"auto\",\"type\":\"bar\",\"x\":[0.011266325320979256],\"xaxis\":\"x\",\"y\":[\"Input 03\"],\"yaxis\":\"y\"},{\"alignmentgroup\":\"True\",\"hovertemplate\":\"Feature Name=%{y}<br>Iteration=8<br>Importance=%{x}<extra></extra>\",\"ids\":[\"Input 06\"],\"legendgroup\":\"Input 06\",\"marker\":{\"color\":\"#EECA3B\",\"pattern\":{\"shape\":\"\"}},\"name\":\"Input 06\",\"offsetgroup\":\"Input 06\",\"orientation\":\"h\",\"showlegend\":true,\"textposition\":\"auto\",\"type\":\"bar\",\"x\":[0.03334748354434383],\"xaxis\":\"x\",\"y\":[\"Input 06\"],\"yaxis\":\"y\"},{\"alignmentgroup\":\"True\",\"hovertemplate\":\"Feature Name=%{y}<br>Iteration=8<br>Importance=%{x}<extra></extra>\",\"ids\":[\"Input 07\"],\"legendgroup\":\"Input 07\",\"marker\":{\"color\":\"#B279A2\",\"pattern\":{\"shape\":\"\"}},\"name\":\"Input 07\",\"offsetgroup\":\"Input 07\",\"orientation\":\"h\",\"showlegend\":true,\"textposition\":\"auto\",\"type\":\"bar\",\"x\":[0.005559796058994796],\"xaxis\":\"x\",\"y\":[\"Input 07\"],\"yaxis\":\"y\"},{\"alignmentgroup\":\"True\",\"hovertemplate\":\"Feature Name=%{y}<br>Iteration=8<br>Importance=%{x}<extra></extra>\",\"ids\":[\"Input 11\"],\"legendgroup\":\"Input 11\",\"marker\":{\"color\":\"#FF9DA6\",\"pattern\":{\"shape\":\"\"}},\"name\":\"Input 11\",\"offsetgroup\":\"Input 11\",\"orientation\":\"h\",\"showlegend\":true,\"textposition\":\"auto\",\"type\":\"bar\",\"x\":[0.005850173890933137],\"xaxis\":\"x\",\"y\":[\"Input 11\"],\"yaxis\":\"y\"},{\"alignmentgroup\":\"True\",\"hovertemplate\":\"Feature Name=%{y}<br>Iteration=8<br>Importance=%{x}<extra></extra>\",\"ids\":[\"Input 04\"],\"legendgroup\":\"Input 04\",\"marker\":{\"color\":\"#9D755D\",\"pattern\":{\"shape\":\"\"}},\"name\":\"Input 04\",\"offsetgroup\":\"Input 04\",\"orientation\":\"h\",\"showlegend\":true,\"textposition\":\"auto\",\"type\":\"bar\",\"x\":[0.00547851870819485],\"xaxis\":\"x\",\"y\":[\"Input 04\"],\"yaxis\":\"y\"},{\"alignmentgroup\":\"True\",\"hovertemplate\":\"Feature Name=%{y}<br>Iteration=8<br>Importance=%{x}<extra></extra>\",\"ids\":[\"Input 10\"],\"legendgroup\":\"Input 10\",\"marker\":{\"color\":\"#BAB0AC\",\"pattern\":{\"shape\":\"\"}},\"name\":\"Input 10\",\"offsetgroup\":\"Input 10\",\"orientation\":\"h\",\"showlegend\":true,\"textposition\":\"auto\",\"type\":\"bar\",\"x\":[0.005017605616187708],\"xaxis\":\"x\",\"y\":[\"Input 10\"],\"yaxis\":\"y\"},{\"alignmentgroup\":\"True\",\"hovertemplate\":\"Feature Name=%{y}<br>Iteration=8<br>Importance=%{x}<extra></extra>\",\"ids\":[\"Input 02\"],\"legendgroup\":\"Input 02\",\"marker\":{\"color\":\"#4C78A8\",\"pattern\":{\"shape\":\"\"}},\"name\":\"Input 02\",\"offsetgroup\":\"Input 02\",\"orientation\":\"h\",\"showlegend\":true,\"textposition\":\"auto\",\"type\":\"bar\",\"x\":[0.005048204622422848],\"xaxis\":\"x\",\"y\":[\"Input 02\"],\"yaxis\":\"y\"},{\"alignmentgroup\":\"True\",\"hovertemplate\":\"Feature Name=%{y}<br>Iteration=8<br>Importance=%{x}<extra></extra>\",\"ids\":[\"Input 05\"],\"legendgroup\":\"Input 05\",\"marker\":{\"color\":\"#F58518\",\"pattern\":{\"shape\":\"\"}},\"name\":\"Input 05\",\"offsetgroup\":\"Input 05\",\"orientation\":\"h\",\"showlegend\":true,\"textposition\":\"auto\",\"type\":\"bar\",\"x\":[0.006544887760235602],\"xaxis\":\"x\",\"y\":[\"Input 05\"],\"yaxis\":\"y\"},{\"alignmentgroup\":\"True\",\"hovertemplate\":\"Feature Name=%{y}<br>Iteration=8<br>Importance=%{x}<extra></extra>\",\"ids\":[\"Input 12\"],\"legendgroup\":\"Input 12\",\"marker\":{\"color\":\"#E45756\",\"pattern\":{\"shape\":\"\"}},\"name\":\"Input 12\",\"offsetgroup\":\"Input 12\",\"orientation\":\"h\",\"showlegend\":true,\"textposition\":\"auto\",\"type\":\"bar\",\"x\":[0.006361752526743125],\"xaxis\":\"x\",\"y\":[\"Input 12\"],\"yaxis\":\"y\"}],\"name\":\"8\"},{\"data\":[{\"alignmentgroup\":\"True\",\"hovertemplate\":\"Feature Name=%{y}<br>Iteration=9<br>Importance=%{x}<extra></extra>\",\"ids\":[\"Output 01\"],\"legendgroup\":\"Output 01\",\"marker\":{\"color\":\"#4C78A8\",\"pattern\":{\"shape\":\"\"}},\"name\":\"Output 01\",\"offsetgroup\":\"Output 01\",\"orientation\":\"h\",\"showlegend\":true,\"textposition\":\"auto\",\"type\":\"bar\",\"x\":[0.7901947804055608],\"xaxis\":\"x\",\"y\":[\"Output 01\"],\"yaxis\":\"y\"},{\"alignmentgroup\":\"True\",\"hovertemplate\":\"Feature Name=%{y}<br>Iteration=9<br>Importance=%{x}<extra></extra>\",\"ids\":[\"Input 08\"],\"legendgroup\":\"Input 08\",\"marker\":{\"color\":\"#F58518\",\"pattern\":{\"shape\":\"\"}},\"name\":\"Input 08\",\"offsetgroup\":\"Input 08\",\"orientation\":\"h\",\"showlegend\":true,\"textposition\":\"auto\",\"type\":\"bar\",\"x\":[0.07276283747363252],\"xaxis\":\"x\",\"y\":[\"Input 08\"],\"yaxis\":\"y\"},{\"alignmentgroup\":\"True\",\"hovertemplate\":\"Feature Name=%{y}<br>Iteration=9<br>Importance=%{x}<extra></extra>\",\"ids\":[\"Input 09\"],\"legendgroup\":\"Input 09\",\"marker\":{\"color\":\"#E45756\",\"pattern\":{\"shape\":\"\"}},\"name\":\"Input 09\",\"offsetgroup\":\"Input 09\",\"orientation\":\"h\",\"showlegend\":true,\"textposition\":\"auto\",\"type\":\"bar\",\"x\":[0.006646825484410825],\"xaxis\":\"x\",\"y\":[\"Input 09\"],\"yaxis\":\"y\"},{\"alignmentgroup\":\"True\",\"hovertemplate\":\"Feature Name=%{y}<br>Iteration=9<br>Importance=%{x}<extra></extra>\",\"ids\":[\"Input 01\"],\"legendgroup\":\"Input 01\",\"marker\":{\"color\":\"#72B7B2\",\"pattern\":{\"shape\":\"\"}},\"name\":\"Input 01\",\"offsetgroup\":\"Input 01\",\"orientation\":\"h\",\"showlegend\":true,\"textposition\":\"auto\",\"type\":\"bar\",\"x\":[0.045920808587360744],\"xaxis\":\"x\",\"y\":[\"Input 01\"],\"yaxis\":\"y\"},{\"alignmentgroup\":\"True\",\"hovertemplate\":\"Feature Name=%{y}<br>Iteration=9<br>Importance=%{x}<extra></extra>\",\"ids\":[\"Input 03\"],\"legendgroup\":\"Input 03\",\"marker\":{\"color\":\"#54A24B\",\"pattern\":{\"shape\":\"\"}},\"name\":\"Input 03\",\"offsetgroup\":\"Input 03\",\"orientation\":\"h\",\"showlegend\":true,\"textposition\":\"auto\",\"type\":\"bar\",\"x\":[0.011266325320979256],\"xaxis\":\"x\",\"y\":[\"Input 03\"],\"yaxis\":\"y\"},{\"alignmentgroup\":\"True\",\"hovertemplate\":\"Feature Name=%{y}<br>Iteration=9<br>Importance=%{x}<extra></extra>\",\"ids\":[\"Input 06\"],\"legendgroup\":\"Input 06\",\"marker\":{\"color\":\"#EECA3B\",\"pattern\":{\"shape\":\"\"}},\"name\":\"Input 06\",\"offsetgroup\":\"Input 06\",\"orientation\":\"h\",\"showlegend\":true,\"textposition\":\"auto\",\"type\":\"bar\",\"x\":[0.03334748354434383],\"xaxis\":\"x\",\"y\":[\"Input 06\"],\"yaxis\":\"y\"},{\"alignmentgroup\":\"True\",\"hovertemplate\":\"Feature Name=%{y}<br>Iteration=9<br>Importance=%{x}<extra></extra>\",\"ids\":[\"Input 07\"],\"legendgroup\":\"Input 07\",\"marker\":{\"color\":\"#B279A2\",\"pattern\":{\"shape\":\"\"}},\"name\":\"Input 07\",\"offsetgroup\":\"Input 07\",\"orientation\":\"h\",\"showlegend\":true,\"textposition\":\"auto\",\"type\":\"bar\",\"x\":[0.005559796058994796],\"xaxis\":\"x\",\"y\":[\"Input 07\"],\"yaxis\":\"y\"},{\"alignmentgroup\":\"True\",\"hovertemplate\":\"Feature Name=%{y}<br>Iteration=9<br>Importance=%{x}<extra></extra>\",\"ids\":[\"Input 11\"],\"legendgroup\":\"Input 11\",\"marker\":{\"color\":\"#FF9DA6\",\"pattern\":{\"shape\":\"\"}},\"name\":\"Input 11\",\"offsetgroup\":\"Input 11\",\"orientation\":\"h\",\"showlegend\":true,\"textposition\":\"auto\",\"type\":\"bar\",\"x\":[0.005850173890933137],\"xaxis\":\"x\",\"y\":[\"Input 11\"],\"yaxis\":\"y\"},{\"alignmentgroup\":\"True\",\"hovertemplate\":\"Feature Name=%{y}<br>Iteration=9<br>Importance=%{x}<extra></extra>\",\"ids\":[\"Input 04\"],\"legendgroup\":\"Input 04\",\"marker\":{\"color\":\"#9D755D\",\"pattern\":{\"shape\":\"\"}},\"name\":\"Input 04\",\"offsetgroup\":\"Input 04\",\"orientation\":\"h\",\"showlegend\":true,\"textposition\":\"auto\",\"type\":\"bar\",\"x\":[0.00547851870819485],\"xaxis\":\"x\",\"y\":[\"Input 04\"],\"yaxis\":\"y\"},{\"alignmentgroup\":\"True\",\"hovertemplate\":\"Feature Name=%{y}<br>Iteration=9<br>Importance=%{x}<extra></extra>\",\"ids\":[\"Input 10\"],\"legendgroup\":\"Input 10\",\"marker\":{\"color\":\"#BAB0AC\",\"pattern\":{\"shape\":\"\"}},\"name\":\"Input 10\",\"offsetgroup\":\"Input 10\",\"orientation\":\"h\",\"showlegend\":true,\"textposition\":\"auto\",\"type\":\"bar\",\"x\":[0.005017605616187708],\"xaxis\":\"x\",\"y\":[\"Input 10\"],\"yaxis\":\"y\"},{\"alignmentgroup\":\"True\",\"hovertemplate\":\"Feature Name=%{y}<br>Iteration=9<br>Importance=%{x}<extra></extra>\",\"ids\":[\"Input 02\"],\"legendgroup\":\"Input 02\",\"marker\":{\"color\":\"#4C78A8\",\"pattern\":{\"shape\":\"\"}},\"name\":\"Input 02\",\"offsetgroup\":\"Input 02\",\"orientation\":\"h\",\"showlegend\":true,\"textposition\":\"auto\",\"type\":\"bar\",\"x\":[0.005048204622422848],\"xaxis\":\"x\",\"y\":[\"Input 02\"],\"yaxis\":\"y\"},{\"alignmentgroup\":\"True\",\"hovertemplate\":\"Feature Name=%{y}<br>Iteration=9<br>Importance=%{x}<extra></extra>\",\"ids\":[\"Input 05\"],\"legendgroup\":\"Input 05\",\"marker\":{\"color\":\"#F58518\",\"pattern\":{\"shape\":\"\"}},\"name\":\"Input 05\",\"offsetgroup\":\"Input 05\",\"orientation\":\"h\",\"showlegend\":true,\"textposition\":\"auto\",\"type\":\"bar\",\"x\":[0.006544887760235602],\"xaxis\":\"x\",\"y\":[\"Input 05\"],\"yaxis\":\"y\"},{\"alignmentgroup\":\"True\",\"hovertemplate\":\"Feature Name=%{y}<br>Iteration=9<br>Importance=%{x}<extra></extra>\",\"ids\":[\"Input 12\"],\"legendgroup\":\"Input 12\",\"marker\":{\"color\":\"#E45756\",\"pattern\":{\"shape\":\"\"}},\"name\":\"Input 12\",\"offsetgroup\":\"Input 12\",\"orientation\":\"h\",\"showlegend\":true,\"textposition\":\"auto\",\"type\":\"bar\",\"x\":[0.006361752526743125],\"xaxis\":\"x\",\"y\":[\"Input 12\"],\"yaxis\":\"y\"}],\"name\":\"9\"},{\"data\":[{\"alignmentgroup\":\"True\",\"hovertemplate\":\"Feature Name=%{y}<br>Iteration=10<br>Importance=%{x}<extra></extra>\",\"ids\":[\"Output 01\"],\"legendgroup\":\"Output 01\",\"marker\":{\"color\":\"#4C78A8\",\"pattern\":{\"shape\":\"\"}},\"name\":\"Output 01\",\"offsetgroup\":\"Output 01\",\"orientation\":\"h\",\"showlegend\":true,\"textposition\":\"auto\",\"type\":\"bar\",\"x\":[0.7901947804055608],\"xaxis\":\"x\",\"y\":[\"Output 01\"],\"yaxis\":\"y\"},{\"alignmentgroup\":\"True\",\"hovertemplate\":\"Feature Name=%{y}<br>Iteration=10<br>Importance=%{x}<extra></extra>\",\"ids\":[\"Input 08\"],\"legendgroup\":\"Input 08\",\"marker\":{\"color\":\"#F58518\",\"pattern\":{\"shape\":\"\"}},\"name\":\"Input 08\",\"offsetgroup\":\"Input 08\",\"orientation\":\"h\",\"showlegend\":true,\"textposition\":\"auto\",\"type\":\"bar\",\"x\":[0.07276283747363252],\"xaxis\":\"x\",\"y\":[\"Input 08\"],\"yaxis\":\"y\"},{\"alignmentgroup\":\"True\",\"hovertemplate\":\"Feature Name=%{y}<br>Iteration=10<br>Importance=%{x}<extra></extra>\",\"ids\":[\"Input 09\"],\"legendgroup\":\"Input 09\",\"marker\":{\"color\":\"#E45756\",\"pattern\":{\"shape\":\"\"}},\"name\":\"Input 09\",\"offsetgroup\":\"Input 09\",\"orientation\":\"h\",\"showlegend\":true,\"textposition\":\"auto\",\"type\":\"bar\",\"x\":[0.006646825484410825],\"xaxis\":\"x\",\"y\":[\"Input 09\"],\"yaxis\":\"y\"},{\"alignmentgroup\":\"True\",\"hovertemplate\":\"Feature Name=%{y}<br>Iteration=10<br>Importance=%{x}<extra></extra>\",\"ids\":[\"Input 01\"],\"legendgroup\":\"Input 01\",\"marker\":{\"color\":\"#72B7B2\",\"pattern\":{\"shape\":\"\"}},\"name\":\"Input 01\",\"offsetgroup\":\"Input 01\",\"orientation\":\"h\",\"showlegend\":true,\"textposition\":\"auto\",\"type\":\"bar\",\"x\":[0.045920808587360744],\"xaxis\":\"x\",\"y\":[\"Input 01\"],\"yaxis\":\"y\"},{\"alignmentgroup\":\"True\",\"hovertemplate\":\"Feature Name=%{y}<br>Iteration=10<br>Importance=%{x}<extra></extra>\",\"ids\":[\"Input 03\"],\"legendgroup\":\"Input 03\",\"marker\":{\"color\":\"#54A24B\",\"pattern\":{\"shape\":\"\"}},\"name\":\"Input 03\",\"offsetgroup\":\"Input 03\",\"orientation\":\"h\",\"showlegend\":true,\"textposition\":\"auto\",\"type\":\"bar\",\"x\":[0.011266325320979256],\"xaxis\":\"x\",\"y\":[\"Input 03\"],\"yaxis\":\"y\"},{\"alignmentgroup\":\"True\",\"hovertemplate\":\"Feature Name=%{y}<br>Iteration=10<br>Importance=%{x}<extra></extra>\",\"ids\":[\"Input 06\"],\"legendgroup\":\"Input 06\",\"marker\":{\"color\":\"#EECA3B\",\"pattern\":{\"shape\":\"\"}},\"name\":\"Input 06\",\"offsetgroup\":\"Input 06\",\"orientation\":\"h\",\"showlegend\":true,\"textposition\":\"auto\",\"type\":\"bar\",\"x\":[0.03334748354434383],\"xaxis\":\"x\",\"y\":[\"Input 06\"],\"yaxis\":\"y\"},{\"alignmentgroup\":\"True\",\"hovertemplate\":\"Feature Name=%{y}<br>Iteration=10<br>Importance=%{x}<extra></extra>\",\"ids\":[\"Input 07\"],\"legendgroup\":\"Input 07\",\"marker\":{\"color\":\"#B279A2\",\"pattern\":{\"shape\":\"\"}},\"name\":\"Input 07\",\"offsetgroup\":\"Input 07\",\"orientation\":\"h\",\"showlegend\":true,\"textposition\":\"auto\",\"type\":\"bar\",\"x\":[0.005559796058994796],\"xaxis\":\"x\",\"y\":[\"Input 07\"],\"yaxis\":\"y\"},{\"alignmentgroup\":\"True\",\"hovertemplate\":\"Feature Name=%{y}<br>Iteration=10<br>Importance=%{x}<extra></extra>\",\"ids\":[\"Input 11\"],\"legendgroup\":\"Input 11\",\"marker\":{\"color\":\"#FF9DA6\",\"pattern\":{\"shape\":\"\"}},\"name\":\"Input 11\",\"offsetgroup\":\"Input 11\",\"orientation\":\"h\",\"showlegend\":true,\"textposition\":\"auto\",\"type\":\"bar\",\"x\":[0.005850173890933137],\"xaxis\":\"x\",\"y\":[\"Input 11\"],\"yaxis\":\"y\"},{\"alignmentgroup\":\"True\",\"hovertemplate\":\"Feature Name=%{y}<br>Iteration=10<br>Importance=%{x}<extra></extra>\",\"ids\":[\"Input 04\"],\"legendgroup\":\"Input 04\",\"marker\":{\"color\":\"#9D755D\",\"pattern\":{\"shape\":\"\"}},\"name\":\"Input 04\",\"offsetgroup\":\"Input 04\",\"orientation\":\"h\",\"showlegend\":true,\"textposition\":\"auto\",\"type\":\"bar\",\"x\":[0.00547851870819485],\"xaxis\":\"x\",\"y\":[\"Input 04\"],\"yaxis\":\"y\"},{\"alignmentgroup\":\"True\",\"hovertemplate\":\"Feature Name=%{y}<br>Iteration=10<br>Importance=%{x}<extra></extra>\",\"ids\":[\"Input 10\"],\"legendgroup\":\"Input 10\",\"marker\":{\"color\":\"#BAB0AC\",\"pattern\":{\"shape\":\"\"}},\"name\":\"Input 10\",\"offsetgroup\":\"Input 10\",\"orientation\":\"h\",\"showlegend\":true,\"textposition\":\"auto\",\"type\":\"bar\",\"x\":[0.005017605616187708],\"xaxis\":\"x\",\"y\":[\"Input 10\"],\"yaxis\":\"y\"},{\"alignmentgroup\":\"True\",\"hovertemplate\":\"Feature Name=%{y}<br>Iteration=10<br>Importance=%{x}<extra></extra>\",\"ids\":[\"Input 02\"],\"legendgroup\":\"Input 02\",\"marker\":{\"color\":\"#4C78A8\",\"pattern\":{\"shape\":\"\"}},\"name\":\"Input 02\",\"offsetgroup\":\"Input 02\",\"orientation\":\"h\",\"showlegend\":true,\"textposition\":\"auto\",\"type\":\"bar\",\"x\":[0.005048204622422848],\"xaxis\":\"x\",\"y\":[\"Input 02\"],\"yaxis\":\"y\"},{\"alignmentgroup\":\"True\",\"hovertemplate\":\"Feature Name=%{y}<br>Iteration=10<br>Importance=%{x}<extra></extra>\",\"ids\":[\"Input 05\"],\"legendgroup\":\"Input 05\",\"marker\":{\"color\":\"#F58518\",\"pattern\":{\"shape\":\"\"}},\"name\":\"Input 05\",\"offsetgroup\":\"Input 05\",\"orientation\":\"h\",\"showlegend\":true,\"textposition\":\"auto\",\"type\":\"bar\",\"x\":[0.006544887760235602],\"xaxis\":\"x\",\"y\":[\"Input 05\"],\"yaxis\":\"y\"},{\"alignmentgroup\":\"True\",\"hovertemplate\":\"Feature Name=%{y}<br>Iteration=10<br>Importance=%{x}<extra></extra>\",\"ids\":[\"Input 12\"],\"legendgroup\":\"Input 12\",\"marker\":{\"color\":\"#E45756\",\"pattern\":{\"shape\":\"\"}},\"name\":\"Input 12\",\"offsetgroup\":\"Input 12\",\"orientation\":\"h\",\"showlegend\":true,\"textposition\":\"auto\",\"type\":\"bar\",\"x\":[0.006361752526743125],\"xaxis\":\"x\",\"y\":[\"Input 12\"],\"yaxis\":\"y\"}],\"name\":\"10\"}]);\n",
       "                        }).then(function(){\n",
       "                            \n",
       "var gd = document.getElementById('721f77eb-9993-42b6-a09e-917b0b7fa19b');\n",
       "var x = new MutationObserver(function (mutations, observer) {{\n",
       "        var display = window.getComputedStyle(gd).display;\n",
       "        if (!display || display === 'none') {{\n",
       "            console.log([gd, 'removed!']);\n",
       "            Plotly.purge(gd);\n",
       "            observer.disconnect();\n",
       "        }}\n",
       "}});\n",
       "\n",
       "// Listen for the removal of the full notebook cells\n",
       "var notebookContainer = gd.closest('#notebook-container');\n",
       "if (notebookContainer) {{\n",
       "    x.observe(notebookContainer, {childList: true});\n",
       "}}\n",
       "\n",
       "// Listen for the clearing of the current output cell\n",
       "var outputEl = gd.closest('.output');\n",
       "if (outputEl) {{\n",
       "    x.observe(outputEl, {childList: true});\n",
       "}}\n",
       "\n",
       "                        })                };                });            </script>        </div>"
      ]
     },
     "metadata": {},
     "output_type": "display_data"
    }
   ],
   "source": [
    "fig = px.bar(\n",
    "    df_imp,\n",
    "    y=\"Feature Name\",\n",
    "    x=\"Importance\",\n",
    "    color=\"Feature Name\",\n",
    "    color_discrete_sequence=px.colors.qualitative.T10,\n",
    "    animation_frame=\"Iteration\",\n",
    "    animation_group=\"Feature Name\",\n",
    "    orientation=\"h\",\n",
    "    range_x=[0,0.3]\n",
    ")\n",
    "\n",
    "fig.update_yaxes(categoryorder='total ascending')\n",
    "\n",
    "fig.update_layout(\n",
    "    autosize=False,\n",
    "    width=800,\n",
    "    height=500,\n",
    "    title_text=f\"Feature Importance Per Iteration\",\n",
    "    #paper_bgcolor='#2d3035',\n",
    "    #plot_bgcolor='#2d3035', \n",
    ")\n",
    "\n",
    "\n",
    "fig.show()"
   ]
  },
  {
   "cell_type": "code",
   "execution_count": 12,
   "id": "1e87ec97-21e9-47fc-be6b-33132f83a072",
   "metadata": {},
   "outputs": [
    {
     "data": {
      "application/vnd.plotly.v1+json": {
       "config": {
        "plotlyServerURL": "https://plot.ly"
       },
       "data": [
        {
         "hovertemplate": "Feature Name=Output 01<br>Iteration=%{x}<br>Importance=%{y}<extra></extra>",
         "legendgroup": "Output 01",
         "line": {
          "color": "#636efa",
          "dash": "solid"
         },
         "marker": {
          "symbol": "circle"
         },
         "mode": "lines",
         "name": "Output 01",
         "orientation": "v",
         "showlegend": true,
         "type": "scatter",
         "visible": "legendonly",
         "x": [
          0,
          1,
          2,
          3,
          4,
          5,
          6,
          7,
          8,
          9,
          10
         ],
         "xaxis": "x",
         "y": [
          0.7423941603675878,
          0.7644174597308216,
          0.7842539610109648,
          0.7869417066201116,
          0.7901947804055608,
          0.7901947804055608,
          0.7901947804055608,
          0.7901947804055608,
          0.7901947804055608,
          0.7901947804055608,
          0.7901947804055608
         ],
         "yaxis": "y"
        },
        {
         "hovertemplate": "Feature Name=Input 08<br>Iteration=%{x}<br>Importance=%{y}<extra></extra>",
         "legendgroup": "Input 08",
         "line": {
          "color": "#EF553B",
          "dash": "solid"
         },
         "marker": {
          "symbol": "circle"
         },
         "mode": "lines",
         "name": "Input 08",
         "orientation": "v",
         "showlegend": true,
         "type": "scatter",
         "x": [
          0,
          1,
          2,
          3,
          4,
          5,
          6,
          7,
          8,
          9,
          10
         ],
         "xaxis": "x",
         "y": [
          0.042123364734225226,
          0.11507555297334893,
          0.07269892183997739,
          0.07150459310684619,
          0.07276283747363252,
          0.07276283747363252,
          0.07276283747363252,
          0.07276283747363252,
          0.07276283747363252,
          0.07276283747363252,
          0.07276283747363252
         ],
         "yaxis": "y"
        },
        {
         "hovertemplate": "Feature Name=Input 09<br>Iteration=%{x}<br>Importance=%{y}<extra></extra>",
         "legendgroup": "Input 09",
         "line": {
          "color": "#00cc96",
          "dash": "solid"
         },
         "marker": {
          "symbol": "circle"
         },
         "mode": "lines",
         "name": "Input 09",
         "orientation": "v",
         "showlegend": true,
         "type": "scatter",
         "x": [
          0,
          1,
          2,
          3,
          4,
          5,
          6,
          7,
          8,
          9,
          10
         ],
         "xaxis": "x",
         "y": [
          0.03554378071375089,
          0.008895350719015961,
          0.0065317319875058885,
          0.006899978086057938,
          0.006646825484410825,
          0.006646825484410825,
          0.006646825484410825,
          0.006646825484410825,
          0.006646825484410825,
          0.006646825484410825,
          0.006646825484410825
         ],
         "yaxis": "y"
        },
        {
         "hovertemplate": "Feature Name=Input 01<br>Iteration=%{x}<br>Importance=%{y}<extra></extra>",
         "legendgroup": "Input 01",
         "line": {
          "color": "#ab63fa",
          "dash": "solid"
         },
         "marker": {
          "symbol": "circle"
         },
         "mode": "lines",
         "name": "Input 01",
         "orientation": "v",
         "showlegend": true,
         "type": "scatter",
         "x": [
          0,
          1,
          2,
          3,
          4,
          5,
          6,
          7,
          8,
          9,
          10
         ],
         "xaxis": "x",
         "y": [
          0.032682738747839044,
          0.035439288923311024,
          0.048047490837937454,
          0.047631342676173784,
          0.045920808587360744,
          0.045920808587360744,
          0.045920808587360744,
          0.045920808587360744,
          0.045920808587360744,
          0.045920808587360744,
          0.045920808587360744
         ],
         "yaxis": "y"
        },
        {
         "hovertemplate": "Feature Name=Input 03<br>Iteration=%{x}<br>Importance=%{y}<extra></extra>",
         "legendgroup": "Input 03",
         "line": {
          "color": "#FFA15A",
          "dash": "solid"
         },
         "marker": {
          "symbol": "circle"
         },
         "mode": "lines",
         "name": "Input 03",
         "orientation": "v",
         "showlegend": true,
         "type": "scatter",
         "x": [
          0,
          1,
          2,
          3,
          4,
          5,
          6,
          7,
          8,
          9,
          10
         ],
         "xaxis": "x",
         "y": [
          0.02981235770862435,
          0.01197860845905866,
          0.010178230644996534,
          0.011049886059111825,
          0.011266325320979256,
          0.011266325320979256,
          0.011266325320979256,
          0.011266325320979256,
          0.011266325320979256,
          0.011266325320979256,
          0.011266325320979256
         ],
         "yaxis": "y"
        },
        {
         "hovertemplate": "Feature Name=Input 06<br>Iteration=%{x}<br>Importance=%{y}<extra></extra>",
         "legendgroup": "Input 06",
         "line": {
          "color": "#19d3f3",
          "dash": "solid"
         },
         "marker": {
          "symbol": "circle"
         },
         "mode": "lines",
         "name": "Input 06",
         "orientation": "v",
         "showlegend": true,
         "type": "scatter",
         "x": [
          0,
          1,
          2,
          3,
          4,
          5,
          6,
          7,
          8,
          9,
          10
         ],
         "xaxis": "x",
         "y": [
          0.02473975201410447,
          0.014850444178800343,
          0.03624358120068617,
          0.03593834241781498,
          0.03334748354434383,
          0.03334748354434383,
          0.03334748354434383,
          0.03334748354434383,
          0.03334748354434383,
          0.03334748354434383,
          0.03334748354434383
         ],
         "yaxis": "y"
        },
        {
         "hovertemplate": "Feature Name=Input 07<br>Iteration=%{x}<br>Importance=%{y}<extra></extra>",
         "legendgroup": "Input 07",
         "line": {
          "color": "#FF6692",
          "dash": "solid"
         },
         "marker": {
          "symbol": "circle"
         },
         "mode": "lines",
         "name": "Input 07",
         "orientation": "v",
         "showlegend": true,
         "type": "scatter",
         "x": [
          0,
          1,
          2,
          3,
          4,
          5,
          6,
          7,
          8,
          9,
          10
         ],
         "xaxis": "x",
         "y": [
          0.023340824323395685,
          0.0051221927907422445,
          0.005200999115652524,
          0.0054226929647373905,
          0.005559796058994796,
          0.005559796058994796,
          0.005559796058994796,
          0.005559796058994796,
          0.005559796058994796,
          0.005559796058994796,
          0.005559796058994796
         ],
         "yaxis": "y"
        },
        {
         "hovertemplate": "Feature Name=Input 11<br>Iteration=%{x}<br>Importance=%{y}<extra></extra>",
         "legendgroup": "Input 11",
         "line": {
          "color": "#B6E880",
          "dash": "solid"
         },
         "marker": {
          "symbol": "circle"
         },
         "mode": "lines",
         "name": "Input 11",
         "orientation": "v",
         "showlegend": true,
         "type": "scatter",
         "x": [
          0,
          1,
          2,
          3,
          4,
          5,
          6,
          7,
          8,
          9,
          10
         ],
         "xaxis": "x",
         "y": [
          0.01810379018151057,
          0.008605544316257551,
          0.006051097218613539,
          0.005505964117471789,
          0.005850173890933137,
          0.005850173890933137,
          0.005850173890933137,
          0.005850173890933137,
          0.005850173890933137,
          0.005850173890933137,
          0.005850173890933137
         ],
         "yaxis": "y"
        },
        {
         "hovertemplate": "Feature Name=Input 04<br>Iteration=%{x}<br>Importance=%{y}<extra></extra>",
         "legendgroup": "Input 04",
         "line": {
          "color": "#FF97FF",
          "dash": "solid"
         },
         "marker": {
          "symbol": "circle"
         },
         "mode": "lines",
         "name": "Input 04",
         "orientation": "v",
         "showlegend": true,
         "type": "scatter",
         "x": [
          0,
          1,
          2,
          3,
          4,
          5,
          6,
          7,
          8,
          9,
          10
         ],
         "xaxis": "x",
         "y": [
          0.018086916837900018,
          0.006394963348516235,
          0.005611033890134353,
          0.0054156157657054916,
          0.00547851870819485,
          0.00547851870819485,
          0.00547851870819485,
          0.00547851870819485,
          0.00547851870819485,
          0.00547851870819485,
          0.00547851870819485
         ],
         "yaxis": "y"
        },
        {
         "hovertemplate": "Feature Name=Input 10<br>Iteration=%{x}<br>Importance=%{y}<extra></extra>",
         "legendgroup": "Input 10",
         "line": {
          "color": "#FECB52",
          "dash": "solid"
         },
         "marker": {
          "symbol": "circle"
         },
         "mode": "lines",
         "name": "Input 10",
         "orientation": "v",
         "showlegend": true,
         "type": "scatter",
         "x": [
          0,
          1,
          2,
          3,
          4,
          5,
          6,
          7,
          8,
          9,
          10
         ],
         "xaxis": "x",
         "y": [
          0.009492383847762942,
          0.008598824690772432,
          0.005038876985592672,
          0.004981935680636096,
          0.005017605616187708,
          0.005017605616187708,
          0.005017605616187708,
          0.005017605616187708,
          0.005017605616187708,
          0.005017605616187708,
          0.005017605616187708
         ],
         "yaxis": "y"
        },
        {
         "hovertemplate": "Feature Name=Input 02<br>Iteration=%{x}<br>Importance=%{y}<extra></extra>",
         "legendgroup": "Input 02",
         "line": {
          "color": "#636efa",
          "dash": "solid"
         },
         "marker": {
          "symbol": "circle"
         },
         "mode": "lines",
         "name": "Input 02",
         "orientation": "v",
         "showlegend": true,
         "type": "scatter",
         "x": [
          0,
          1,
          2,
          3,
          4,
          5,
          6,
          7,
          8,
          9,
          10
         ],
         "xaxis": "x",
         "y": [
          0.008365572265637122,
          0.0049284391049361645,
          0.005554700998367244,
          0.0053208510068207555,
          0.005048204622422848,
          0.005048204622422848,
          0.005048204622422848,
          0.005048204622422848,
          0.005048204622422848,
          0.005048204622422848,
          0.005048204622422848
         ],
         "yaxis": "y"
        },
        {
         "hovertemplate": "Feature Name=Input 05<br>Iteration=%{x}<br>Importance=%{y}<extra></extra>",
         "legendgroup": "Input 05",
         "line": {
          "color": "#EF553B",
          "dash": "solid"
         },
         "marker": {
          "symbol": "circle"
         },
         "mode": "lines",
         "name": "Input 05",
         "orientation": "v",
         "showlegend": true,
         "type": "scatter",
         "x": [
          0,
          1,
          2,
          3,
          4,
          5,
          6,
          7,
          8,
          9,
          10
         ],
         "xaxis": "x",
         "y": [
          0.0077523779603597825,
          0.006317136196250521,
          0.008459678013205036,
          0.006737964663152325,
          0.006544887760235602,
          0.006544887760235602,
          0.006544887760235602,
          0.006544887760235602,
          0.006544887760235602,
          0.006544887760235602,
          0.006544887760235602
         ],
         "yaxis": "y"
        },
        {
         "hovertemplate": "Feature Name=Input 12<br>Iteration=%{x}<br>Importance=%{y}<extra></extra>",
         "legendgroup": "Input 12",
         "line": {
          "color": "#00cc96",
          "dash": "solid"
         },
         "marker": {
          "symbol": "circle"
         },
         "mode": "lines",
         "name": "Input 12",
         "orientation": "v",
         "showlegend": true,
         "type": "scatter",
         "x": [
          0,
          1,
          2,
          3,
          4,
          5,
          6,
          7,
          8,
          9,
          10
         ],
         "xaxis": "x",
         "y": [
          0.007561980297302169,
          0.009376194568168215,
          0.006129696256366443,
          0.006649126835359838,
          0.006361752526743125,
          0.006361752526743125,
          0.006361752526743125,
          0.006361752526743125,
          0.006361752526743125,
          0.006361752526743125,
          0.006361752526743125
         ],
         "yaxis": "y"
        }
       ],
       "layout": {
        "autosize": false,
        "height": 500,
        "legend": {
         "title": {
          "text": "Feature Name"
         },
         "tracegroupgap": 0
        },
        "margin": {
         "t": 60
        },
        "template": {
         "data": {
          "bar": [
           {
            "error_x": {
             "color": "#2a3f5f"
            },
            "error_y": {
             "color": "#2a3f5f"
            },
            "marker": {
             "line": {
              "color": "#E5ECF6",
              "width": 0.5
             },
             "pattern": {
              "fillmode": "overlay",
              "size": 10,
              "solidity": 0.2
             }
            },
            "type": "bar"
           }
          ],
          "barpolar": [
           {
            "marker": {
             "line": {
              "color": "#E5ECF6",
              "width": 0.5
             },
             "pattern": {
              "fillmode": "overlay",
              "size": 10,
              "solidity": 0.2
             }
            },
            "type": "barpolar"
           }
          ],
          "carpet": [
           {
            "aaxis": {
             "endlinecolor": "#2a3f5f",
             "gridcolor": "white",
             "linecolor": "white",
             "minorgridcolor": "white",
             "startlinecolor": "#2a3f5f"
            },
            "baxis": {
             "endlinecolor": "#2a3f5f",
             "gridcolor": "white",
             "linecolor": "white",
             "minorgridcolor": "white",
             "startlinecolor": "#2a3f5f"
            },
            "type": "carpet"
           }
          ],
          "choropleth": [
           {
            "colorbar": {
             "outlinewidth": 0,
             "ticks": ""
            },
            "type": "choropleth"
           }
          ],
          "contour": [
           {
            "colorbar": {
             "outlinewidth": 0,
             "ticks": ""
            },
            "colorscale": [
             [
              0,
              "#0d0887"
             ],
             [
              0.1111111111111111,
              "#46039f"
             ],
             [
              0.2222222222222222,
              "#7201a8"
             ],
             [
              0.3333333333333333,
              "#9c179e"
             ],
             [
              0.4444444444444444,
              "#bd3786"
             ],
             [
              0.5555555555555556,
              "#d8576b"
             ],
             [
              0.6666666666666666,
              "#ed7953"
             ],
             [
              0.7777777777777778,
              "#fb9f3a"
             ],
             [
              0.8888888888888888,
              "#fdca26"
             ],
             [
              1,
              "#f0f921"
             ]
            ],
            "type": "contour"
           }
          ],
          "contourcarpet": [
           {
            "colorbar": {
             "outlinewidth": 0,
             "ticks": ""
            },
            "type": "contourcarpet"
           }
          ],
          "heatmap": [
           {
            "colorbar": {
             "outlinewidth": 0,
             "ticks": ""
            },
            "colorscale": [
             [
              0,
              "#0d0887"
             ],
             [
              0.1111111111111111,
              "#46039f"
             ],
             [
              0.2222222222222222,
              "#7201a8"
             ],
             [
              0.3333333333333333,
              "#9c179e"
             ],
             [
              0.4444444444444444,
              "#bd3786"
             ],
             [
              0.5555555555555556,
              "#d8576b"
             ],
             [
              0.6666666666666666,
              "#ed7953"
             ],
             [
              0.7777777777777778,
              "#fb9f3a"
             ],
             [
              0.8888888888888888,
              "#fdca26"
             ],
             [
              1,
              "#f0f921"
             ]
            ],
            "type": "heatmap"
           }
          ],
          "heatmapgl": [
           {
            "colorbar": {
             "outlinewidth": 0,
             "ticks": ""
            },
            "colorscale": [
             [
              0,
              "#0d0887"
             ],
             [
              0.1111111111111111,
              "#46039f"
             ],
             [
              0.2222222222222222,
              "#7201a8"
             ],
             [
              0.3333333333333333,
              "#9c179e"
             ],
             [
              0.4444444444444444,
              "#bd3786"
             ],
             [
              0.5555555555555556,
              "#d8576b"
             ],
             [
              0.6666666666666666,
              "#ed7953"
             ],
             [
              0.7777777777777778,
              "#fb9f3a"
             ],
             [
              0.8888888888888888,
              "#fdca26"
             ],
             [
              1,
              "#f0f921"
             ]
            ],
            "type": "heatmapgl"
           }
          ],
          "histogram": [
           {
            "marker": {
             "pattern": {
              "fillmode": "overlay",
              "size": 10,
              "solidity": 0.2
             }
            },
            "type": "histogram"
           }
          ],
          "histogram2d": [
           {
            "colorbar": {
             "outlinewidth": 0,
             "ticks": ""
            },
            "colorscale": [
             [
              0,
              "#0d0887"
             ],
             [
              0.1111111111111111,
              "#46039f"
             ],
             [
              0.2222222222222222,
              "#7201a8"
             ],
             [
              0.3333333333333333,
              "#9c179e"
             ],
             [
              0.4444444444444444,
              "#bd3786"
             ],
             [
              0.5555555555555556,
              "#d8576b"
             ],
             [
              0.6666666666666666,
              "#ed7953"
             ],
             [
              0.7777777777777778,
              "#fb9f3a"
             ],
             [
              0.8888888888888888,
              "#fdca26"
             ],
             [
              1,
              "#f0f921"
             ]
            ],
            "type": "histogram2d"
           }
          ],
          "histogram2dcontour": [
           {
            "colorbar": {
             "outlinewidth": 0,
             "ticks": ""
            },
            "colorscale": [
             [
              0,
              "#0d0887"
             ],
             [
              0.1111111111111111,
              "#46039f"
             ],
             [
              0.2222222222222222,
              "#7201a8"
             ],
             [
              0.3333333333333333,
              "#9c179e"
             ],
             [
              0.4444444444444444,
              "#bd3786"
             ],
             [
              0.5555555555555556,
              "#d8576b"
             ],
             [
              0.6666666666666666,
              "#ed7953"
             ],
             [
              0.7777777777777778,
              "#fb9f3a"
             ],
             [
              0.8888888888888888,
              "#fdca26"
             ],
             [
              1,
              "#f0f921"
             ]
            ],
            "type": "histogram2dcontour"
           }
          ],
          "mesh3d": [
           {
            "colorbar": {
             "outlinewidth": 0,
             "ticks": ""
            },
            "type": "mesh3d"
           }
          ],
          "parcoords": [
           {
            "line": {
             "colorbar": {
              "outlinewidth": 0,
              "ticks": ""
             }
            },
            "type": "parcoords"
           }
          ],
          "pie": [
           {
            "automargin": true,
            "type": "pie"
           }
          ],
          "scatter": [
           {
            "marker": {
             "colorbar": {
              "outlinewidth": 0,
              "ticks": ""
             }
            },
            "type": "scatter"
           }
          ],
          "scatter3d": [
           {
            "line": {
             "colorbar": {
              "outlinewidth": 0,
              "ticks": ""
             }
            },
            "marker": {
             "colorbar": {
              "outlinewidth": 0,
              "ticks": ""
             }
            },
            "type": "scatter3d"
           }
          ],
          "scattercarpet": [
           {
            "marker": {
             "colorbar": {
              "outlinewidth": 0,
              "ticks": ""
             }
            },
            "type": "scattercarpet"
           }
          ],
          "scattergeo": [
           {
            "marker": {
             "colorbar": {
              "outlinewidth": 0,
              "ticks": ""
             }
            },
            "type": "scattergeo"
           }
          ],
          "scattergl": [
           {
            "marker": {
             "colorbar": {
              "outlinewidth": 0,
              "ticks": ""
             }
            },
            "type": "scattergl"
           }
          ],
          "scattermapbox": [
           {
            "marker": {
             "colorbar": {
              "outlinewidth": 0,
              "ticks": ""
             }
            },
            "type": "scattermapbox"
           }
          ],
          "scatterpolar": [
           {
            "marker": {
             "colorbar": {
              "outlinewidth": 0,
              "ticks": ""
             }
            },
            "type": "scatterpolar"
           }
          ],
          "scatterpolargl": [
           {
            "marker": {
             "colorbar": {
              "outlinewidth": 0,
              "ticks": ""
             }
            },
            "type": "scatterpolargl"
           }
          ],
          "scatterternary": [
           {
            "marker": {
             "colorbar": {
              "outlinewidth": 0,
              "ticks": ""
             }
            },
            "type": "scatterternary"
           }
          ],
          "surface": [
           {
            "colorbar": {
             "outlinewidth": 0,
             "ticks": ""
            },
            "colorscale": [
             [
              0,
              "#0d0887"
             ],
             [
              0.1111111111111111,
              "#46039f"
             ],
             [
              0.2222222222222222,
              "#7201a8"
             ],
             [
              0.3333333333333333,
              "#9c179e"
             ],
             [
              0.4444444444444444,
              "#bd3786"
             ],
             [
              0.5555555555555556,
              "#d8576b"
             ],
             [
              0.6666666666666666,
              "#ed7953"
             ],
             [
              0.7777777777777778,
              "#fb9f3a"
             ],
             [
              0.8888888888888888,
              "#fdca26"
             ],
             [
              1,
              "#f0f921"
             ]
            ],
            "type": "surface"
           }
          ],
          "table": [
           {
            "cells": {
             "fill": {
              "color": "#EBF0F8"
             },
             "line": {
              "color": "white"
             }
            },
            "header": {
             "fill": {
              "color": "#C8D4E3"
             },
             "line": {
              "color": "white"
             }
            },
            "type": "table"
           }
          ]
         },
         "layout": {
          "annotationdefaults": {
           "arrowcolor": "#2a3f5f",
           "arrowhead": 0,
           "arrowwidth": 1
          },
          "autotypenumbers": "strict",
          "coloraxis": {
           "colorbar": {
            "outlinewidth": 0,
            "ticks": ""
           }
          },
          "colorscale": {
           "diverging": [
            [
             0,
             "#8e0152"
            ],
            [
             0.1,
             "#c51b7d"
            ],
            [
             0.2,
             "#de77ae"
            ],
            [
             0.3,
             "#f1b6da"
            ],
            [
             0.4,
             "#fde0ef"
            ],
            [
             0.5,
             "#f7f7f7"
            ],
            [
             0.6,
             "#e6f5d0"
            ],
            [
             0.7,
             "#b8e186"
            ],
            [
             0.8,
             "#7fbc41"
            ],
            [
             0.9,
             "#4d9221"
            ],
            [
             1,
             "#276419"
            ]
           ],
           "sequential": [
            [
             0,
             "#0d0887"
            ],
            [
             0.1111111111111111,
             "#46039f"
            ],
            [
             0.2222222222222222,
             "#7201a8"
            ],
            [
             0.3333333333333333,
             "#9c179e"
            ],
            [
             0.4444444444444444,
             "#bd3786"
            ],
            [
             0.5555555555555556,
             "#d8576b"
            ],
            [
             0.6666666666666666,
             "#ed7953"
            ],
            [
             0.7777777777777778,
             "#fb9f3a"
            ],
            [
             0.8888888888888888,
             "#fdca26"
            ],
            [
             1,
             "#f0f921"
            ]
           ],
           "sequentialminus": [
            [
             0,
             "#0d0887"
            ],
            [
             0.1111111111111111,
             "#46039f"
            ],
            [
             0.2222222222222222,
             "#7201a8"
            ],
            [
             0.3333333333333333,
             "#9c179e"
            ],
            [
             0.4444444444444444,
             "#bd3786"
            ],
            [
             0.5555555555555556,
             "#d8576b"
            ],
            [
             0.6666666666666666,
             "#ed7953"
            ],
            [
             0.7777777777777778,
             "#fb9f3a"
            ],
            [
             0.8888888888888888,
             "#fdca26"
            ],
            [
             1,
             "#f0f921"
            ]
           ]
          },
          "colorway": [
           "#636efa",
           "#EF553B",
           "#00cc96",
           "#ab63fa",
           "#FFA15A",
           "#19d3f3",
           "#FF6692",
           "#B6E880",
           "#FF97FF",
           "#FECB52"
          ],
          "font": {
           "color": "#2a3f5f"
          },
          "geo": {
           "bgcolor": "white",
           "lakecolor": "white",
           "landcolor": "#E5ECF6",
           "showlakes": true,
           "showland": true,
           "subunitcolor": "white"
          },
          "hoverlabel": {
           "align": "left"
          },
          "hovermode": "closest",
          "mapbox": {
           "style": "light"
          },
          "paper_bgcolor": "white",
          "plot_bgcolor": "#E5ECF6",
          "polar": {
           "angularaxis": {
            "gridcolor": "white",
            "linecolor": "white",
            "ticks": ""
           },
           "bgcolor": "#E5ECF6",
           "radialaxis": {
            "gridcolor": "white",
            "linecolor": "white",
            "ticks": ""
           }
          },
          "scene": {
           "xaxis": {
            "backgroundcolor": "#E5ECF6",
            "gridcolor": "white",
            "gridwidth": 2,
            "linecolor": "white",
            "showbackground": true,
            "ticks": "",
            "zerolinecolor": "white"
           },
           "yaxis": {
            "backgroundcolor": "#E5ECF6",
            "gridcolor": "white",
            "gridwidth": 2,
            "linecolor": "white",
            "showbackground": true,
            "ticks": "",
            "zerolinecolor": "white"
           },
           "zaxis": {
            "backgroundcolor": "#E5ECF6",
            "gridcolor": "white",
            "gridwidth": 2,
            "linecolor": "white",
            "showbackground": true,
            "ticks": "",
            "zerolinecolor": "white"
           }
          },
          "shapedefaults": {
           "line": {
            "color": "#2a3f5f"
           }
          },
          "ternary": {
           "aaxis": {
            "gridcolor": "white",
            "linecolor": "white",
            "ticks": ""
           },
           "baxis": {
            "gridcolor": "white",
            "linecolor": "white",
            "ticks": ""
           },
           "bgcolor": "#E5ECF6",
           "caxis": {
            "gridcolor": "white",
            "linecolor": "white",
            "ticks": ""
           }
          },
          "title": {
           "x": 0.05
          },
          "xaxis": {
           "automargin": true,
           "gridcolor": "white",
           "linecolor": "white",
           "ticks": "",
           "title": {
            "standoff": 15
           },
           "zerolinecolor": "white",
           "zerolinewidth": 2
          },
          "yaxis": {
           "automargin": true,
           "gridcolor": "white",
           "linecolor": "white",
           "ticks": "",
           "title": {
            "standoff": 15
           },
           "zerolinecolor": "white",
           "zerolinewidth": 2
          }
         }
        },
        "title": {
         "text": "Feature Importance Per Iteration"
        },
        "width": 1000,
        "xaxis": {
         "anchor": "y",
         "autorange": true,
         "domain": [
          0,
          1
         ],
         "range": [
          0,
          10
         ],
         "title": {
          "text": "Iteration"
         },
         "type": "linear"
        },
        "yaxis": {
         "anchor": "x",
         "autorange": true,
         "domain": [
          0,
          1
         ],
         "range": [
          -0.0011908449988645448,
          0.12119483707714963
         ],
         "title": {
          "text": "Importance"
         },
         "type": "linear"
        }
       }
      },
      "image/png": "[encoded data removed]",
      "text/html": [
       "<div>                            <div id=\"82787013-30f4-4993-8198-56aa08614dc7\" class=\"plotly-graph-div\" style=\"height:500px; width:1000px;\"></div>            <script type=\"text/javascript\">                require([\"plotly\"], function(Plotly) {                    window.PLOTLYENV=window.PLOTLYENV || {};                                    if (document.getElementById(\"82787013-30f4-4993-8198-56aa08614dc7\")) {                    Plotly.newPlot(                        \"82787013-30f4-4993-8198-56aa08614dc7\",                        [{\"hovertemplate\":\"Feature Name=Output 01<br>Iteration=%{x}<br>Importance=%{y}<extra></extra>\",\"legendgroup\":\"Output 01\",\"line\":{\"color\":\"#636efa\",\"dash\":\"solid\"},\"marker\":{\"symbol\":\"circle\"},\"mode\":\"lines\",\"name\":\"Output 01\",\"orientation\":\"v\",\"showlegend\":true,\"type\":\"scatter\",\"x\":[0,1,2,3,4,5,6,7,8,9,10],\"xaxis\":\"x\",\"y\":[0.7423941603675878,0.7644174597308216,0.7842539610109648,0.7869417066201116,0.7901947804055608,0.7901947804055608,0.7901947804055608,0.7901947804055608,0.7901947804055608,0.7901947804055608,0.7901947804055608],\"yaxis\":\"y\"},{\"hovertemplate\":\"Feature Name=Input 08<br>Iteration=%{x}<br>Importance=%{y}<extra></extra>\",\"legendgroup\":\"Input 08\",\"line\":{\"color\":\"#EF553B\",\"dash\":\"solid\"},\"marker\":{\"symbol\":\"circle\"},\"mode\":\"lines\",\"name\":\"Input 08\",\"orientation\":\"v\",\"showlegend\":true,\"type\":\"scatter\",\"x\":[0,1,2,3,4,5,6,7,8,9,10],\"xaxis\":\"x\",\"y\":[0.042123364734225226,0.11507555297334893,0.07269892183997739,0.07150459310684619,0.07276283747363252,0.07276283747363252,0.07276283747363252,0.07276283747363252,0.07276283747363252,0.07276283747363252,0.07276283747363252],\"yaxis\":\"y\"},{\"hovertemplate\":\"Feature Name=Input 09<br>Iteration=%{x}<br>Importance=%{y}<extra></extra>\",\"legendgroup\":\"Input 09\",\"line\":{\"color\":\"#00cc96\",\"dash\":\"solid\"},\"marker\":{\"symbol\":\"circle\"},\"mode\":\"lines\",\"name\":\"Input 09\",\"orientation\":\"v\",\"showlegend\":true,\"type\":\"scatter\",\"x\":[0,1,2,3,4,5,6,7,8,9,10],\"xaxis\":\"x\",\"y\":[0.03554378071375089,0.008895350719015961,0.0065317319875058885,0.006899978086057938,0.006646825484410825,0.006646825484410825,0.006646825484410825,0.006646825484410825,0.006646825484410825,0.006646825484410825,0.006646825484410825],\"yaxis\":\"y\"},{\"hovertemplate\":\"Feature Name=Input 01<br>Iteration=%{x}<br>Importance=%{y}<extra></extra>\",\"legendgroup\":\"Input 01\",\"line\":{\"color\":\"#ab63fa\",\"dash\":\"solid\"},\"marker\":{\"symbol\":\"circle\"},\"mode\":\"lines\",\"name\":\"Input 01\",\"orientation\":\"v\",\"showlegend\":true,\"type\":\"scatter\",\"x\":[0,1,2,3,4,5,6,7,8,9,10],\"xaxis\":\"x\",\"y\":[0.032682738747839044,0.035439288923311024,0.048047490837937454,0.047631342676173784,0.045920808587360744,0.045920808587360744,0.045920808587360744,0.045920808587360744,0.045920808587360744,0.045920808587360744,0.045920808587360744],\"yaxis\":\"y\"},{\"hovertemplate\":\"Feature Name=Input 03<br>Iteration=%{x}<br>Importance=%{y}<extra></extra>\",\"legendgroup\":\"Input 03\",\"line\":{\"color\":\"#FFA15A\",\"dash\":\"solid\"},\"marker\":{\"symbol\":\"circle\"},\"mode\":\"lines\",\"name\":\"Input 03\",\"orientation\":\"v\",\"showlegend\":true,\"type\":\"scatter\",\"x\":[0,1,2,3,4,5,6,7,8,9,10],\"xaxis\":\"x\",\"y\":[0.02981235770862435,0.01197860845905866,0.010178230644996534,0.011049886059111825,0.011266325320979256,0.011266325320979256,0.011266325320979256,0.011266325320979256,0.011266325320979256,0.011266325320979256,0.011266325320979256],\"yaxis\":\"y\"},{\"hovertemplate\":\"Feature Name=Input 06<br>Iteration=%{x}<br>Importance=%{y}<extra></extra>\",\"legendgroup\":\"Input 06\",\"line\":{\"color\":\"#19d3f3\",\"dash\":\"solid\"},\"marker\":{\"symbol\":\"circle\"},\"mode\":\"lines\",\"name\":\"Input 06\",\"orientation\":\"v\",\"showlegend\":true,\"type\":\"scatter\",\"x\":[0,1,2,3,4,5,6,7,8,9,10],\"xaxis\":\"x\",\"y\":[0.02473975201410447,0.014850444178800343,0.03624358120068617,0.03593834241781498,0.03334748354434383,0.03334748354434383,0.03334748354434383,0.03334748354434383,0.03334748354434383,0.03334748354434383,0.03334748354434383],\"yaxis\":\"y\"},{\"hovertemplate\":\"Feature Name=Input 07<br>Iteration=%{x}<br>Importance=%{y}<extra></extra>\",\"legendgroup\":\"Input 07\",\"line\":{\"color\":\"#FF6692\",\"dash\":\"solid\"},\"marker\":{\"symbol\":\"circle\"},\"mode\":\"lines\",\"name\":\"Input 07\",\"orientation\":\"v\",\"showlegend\":true,\"type\":\"scatter\",\"x\":[0,1,2,3,4,5,6,7,8,9,10],\"xaxis\":\"x\",\"y\":[0.023340824323395685,0.0051221927907422445,0.005200999115652524,0.0054226929647373905,0.005559796058994796,0.005559796058994796,0.005559796058994796,0.005559796058994796,0.005559796058994796,0.005559796058994796,0.005559796058994796],\"yaxis\":\"y\"},{\"hovertemplate\":\"Feature Name=Input 11<br>Iteration=%{x}<br>Importance=%{y}<extra></extra>\",\"legendgroup\":\"Input 11\",\"line\":{\"color\":\"#B6E880\",\"dash\":\"solid\"},\"marker\":{\"symbol\":\"circle\"},\"mode\":\"lines\",\"name\":\"Input 11\",\"orientation\":\"v\",\"showlegend\":true,\"type\":\"scatter\",\"x\":[0,1,2,3,4,5,6,7,8,9,10],\"xaxis\":\"x\",\"y\":[0.01810379018151057,0.008605544316257551,0.006051097218613539,0.005505964117471789,0.005850173890933137,0.005850173890933137,0.005850173890933137,0.005850173890933137,0.005850173890933137,0.005850173890933137,0.005850173890933137],\"yaxis\":\"y\"},{\"hovertemplate\":\"Feature Name=Input 04<br>Iteration=%{x}<br>Importance=%{y}<extra></extra>\",\"legendgroup\":\"Input 04\",\"line\":{\"color\":\"#FF97FF\",\"dash\":\"solid\"},\"marker\":{\"symbol\":\"circle\"},\"mode\":\"lines\",\"name\":\"Input 04\",\"orientation\":\"v\",\"showlegend\":true,\"type\":\"scatter\",\"x\":[0,1,2,3,4,5,6,7,8,9,10],\"xaxis\":\"x\",\"y\":[0.018086916837900018,0.006394963348516235,0.005611033890134353,0.0054156157657054916,0.00547851870819485,0.00547851870819485,0.00547851870819485,0.00547851870819485,0.00547851870819485,0.00547851870819485,0.00547851870819485],\"yaxis\":\"y\"},{\"hovertemplate\":\"Feature Name=Input 10<br>Iteration=%{x}<br>Importance=%{y}<extra></extra>\",\"legendgroup\":\"Input 10\",\"line\":{\"color\":\"#FECB52\",\"dash\":\"solid\"},\"marker\":{\"symbol\":\"circle\"},\"mode\":\"lines\",\"name\":\"Input 10\",\"orientation\":\"v\",\"showlegend\":true,\"type\":\"scatter\",\"x\":[0,1,2,3,4,5,6,7,8,9,10],\"xaxis\":\"x\",\"y\":[0.009492383847762942,0.008598824690772432,0.005038876985592672,0.004981935680636096,0.005017605616187708,0.005017605616187708,0.005017605616187708,0.005017605616187708,0.005017605616187708,0.005017605616187708,0.005017605616187708],\"yaxis\":\"y\"},{\"hovertemplate\":\"Feature Name=Input 02<br>Iteration=%{x}<br>Importance=%{y}<extra></extra>\",\"legendgroup\":\"Input 02\",\"line\":{\"color\":\"#636efa\",\"dash\":\"solid\"},\"marker\":{\"symbol\":\"circle\"},\"mode\":\"lines\",\"name\":\"Input 02\",\"orientation\":\"v\",\"showlegend\":true,\"type\":\"scatter\",\"x\":[0,1,2,3,4,5,6,7,8,9,10],\"xaxis\":\"x\",\"y\":[0.008365572265637122,0.0049284391049361645,0.005554700998367244,0.0053208510068207555,0.005048204622422848,0.005048204622422848,0.005048204622422848,0.005048204622422848,0.005048204622422848,0.005048204622422848,0.005048204622422848],\"yaxis\":\"y\"},{\"hovertemplate\":\"Feature Name=Input 05<br>Iteration=%{x}<br>Importance=%{y}<extra></extra>\",\"legendgroup\":\"Input 05\",\"line\":{\"color\":\"#EF553B\",\"dash\":\"solid\"},\"marker\":{\"symbol\":\"circle\"},\"mode\":\"lines\",\"name\":\"Input 05\",\"orientation\":\"v\",\"showlegend\":true,\"type\":\"scatter\",\"x\":[0,1,2,3,4,5,6,7,8,9,10],\"xaxis\":\"x\",\"y\":[0.0077523779603597825,0.006317136196250521,0.008459678013205036,0.006737964663152325,0.006544887760235602,0.006544887760235602,0.006544887760235602,0.006544887760235602,0.006544887760235602,0.006544887760235602,0.006544887760235602],\"yaxis\":\"y\"},{\"hovertemplate\":\"Feature Name=Input 12<br>Iteration=%{x}<br>Importance=%{y}<extra></extra>\",\"legendgroup\":\"Input 12\",\"line\":{\"color\":\"#00cc96\",\"dash\":\"solid\"},\"marker\":{\"symbol\":\"circle\"},\"mode\":\"lines\",\"name\":\"Input 12\",\"orientation\":\"v\",\"showlegend\":true,\"type\":\"scatter\",\"x\":[0,1,2,3,4,5,6,7,8,9,10],\"xaxis\":\"x\",\"y\":[0.007561980297302169,0.009376194568168215,0.006129696256366443,0.006649126835359838,0.006361752526743125,0.006361752526743125,0.006361752526743125,0.006361752526743125,0.006361752526743125,0.006361752526743125,0.006361752526743125],\"yaxis\":\"y\"}],                        {\"autosize\":false,\"height\":500,\"legend\":{\"title\":{\"text\":\"Feature Name\"},\"tracegroupgap\":0},\"margin\":{\"t\":60},\"template\":{\"data\":{\"bar\":[{\"error_x\":{\"color\":\"#2a3f5f\"},\"error_y\":{\"color\":\"#2a3f5f\"},\"marker\":{\"line\":{\"color\":\"#E5ECF6\",\"width\":0.5},\"pattern\":{\"fillmode\":\"overlay\",\"size\":10,\"solidity\":0.2}},\"type\":\"bar\"}],\"barpolar\":[{\"marker\":{\"line\":{\"color\":\"#E5ECF6\",\"width\":0.5},\"pattern\":{\"fillmode\":\"overlay\",\"size\":10,\"solidity\":0.2}},\"type\":\"barpolar\"}],\"carpet\":[{\"aaxis\":{\"endlinecolor\":\"#2a3f5f\",\"gridcolor\":\"white\",\"linecolor\":\"white\",\"minorgridcolor\":\"white\",\"startlinecolor\":\"#2a3f5f\"},\"baxis\":{\"endlinecolor\":\"#2a3f5f\",\"gridcolor\":\"white\",\"linecolor\":\"white\",\"minorgridcolor\":\"white\",\"startlinecolor\":\"#2a3f5f\"},\"type\":\"carpet\"}],\"choropleth\":[{\"colorbar\":{\"outlinewidth\":0,\"ticks\":\"\"},\"type\":\"choropleth\"}],\"contour\":[{\"colorbar\":{\"outlinewidth\":0,\"ticks\":\"\"},\"colorscale\":[[0.0,\"#0d0887\"],[0.1111111111111111,\"#46039f\"],[0.2222222222222222,\"#7201a8\"],[0.3333333333333333,\"#9c179e\"],[0.4444444444444444,\"#bd3786\"],[0.5555555555555556,\"#d8576b\"],[0.6666666666666666,\"#ed7953\"],[0.7777777777777778,\"#fb9f3a\"],[0.8888888888888888,\"#fdca26\"],[1.0,\"#f0f921\"]],\"type\":\"contour\"}],\"contourcarpet\":[{\"colorbar\":{\"outlinewidth\":0,\"ticks\":\"\"},\"type\":\"contourcarpet\"}],\"heatmap\":[{\"colorbar\":{\"outlinewidth\":0,\"ticks\":\"\"},\"colorscale\":[[0.0,\"#0d0887\"],[0.1111111111111111,\"#46039f\"],[0.2222222222222222,\"#7201a8\"],[0.3333333333333333,\"#9c179e\"],[0.4444444444444444,\"#bd3786\"],[0.5555555555555556,\"#d8576b\"],[0.6666666666666666,\"#ed7953\"],[0.7777777777777778,\"#fb9f3a\"],[0.8888888888888888,\"#fdca26\"],[1.0,\"#f0f921\"]],\"type\":\"heatmap\"}],\"heatmapgl\":[{\"colorbar\":{\"outlinewidth\":0,\"ticks\":\"\"},\"colorscale\":[[0.0,\"#0d0887\"],[0.1111111111111111,\"#46039f\"],[0.2222222222222222,\"#7201a8\"],[0.3333333333333333,\"#9c179e\"],[0.4444444444444444,\"#bd3786\"],[0.5555555555555556,\"#d8576b\"],[0.6666666666666666,\"#ed7953\"],[0.7777777777777778,\"#fb9f3a\"],[0.8888888888888888,\"#fdca26\"],[1.0,\"#f0f921\"]],\"type\":\"heatmapgl\"}],\"histogram\":[{\"marker\":{\"pattern\":{\"fillmode\":\"overlay\",\"size\":10,\"solidity\":0.2}},\"type\":\"histogram\"}],\"histogram2d\":[{\"colorbar\":{\"outlinewidth\":0,\"ticks\":\"\"},\"colorscale\":[[0.0,\"#0d0887\"],[0.1111111111111111,\"#46039f\"],[0.2222222222222222,\"#7201a8\"],[0.3333333333333333,\"#9c179e\"],[0.4444444444444444,\"#bd3786\"],[0.5555555555555556,\"#d8576b\"],[0.6666666666666666,\"#ed7953\"],[0.7777777777777778,\"#fb9f3a\"],[0.8888888888888888,\"#fdca26\"],[1.0,\"#f0f921\"]],\"type\":\"histogram2d\"}],\"histogram2dcontour\":[{\"colorbar\":{\"outlinewidth\":0,\"ticks\":\"\"},\"colorscale\":[[0.0,\"#0d0887\"],[0.1111111111111111,\"#46039f\"],[0.2222222222222222,\"#7201a8\"],[0.3333333333333333,\"#9c179e\"],[0.4444444444444444,\"#bd3786\"],[0.5555555555555556,\"#d8576b\"],[0.6666666666666666,\"#ed7953\"],[0.7777777777777778,\"#fb9f3a\"],[0.8888888888888888,\"#fdca26\"],[1.0,\"#f0f921\"]],\"type\":\"histogram2dcontour\"}],\"mesh3d\":[{\"colorbar\":{\"outlinewidth\":0,\"ticks\":\"\"},\"type\":\"mesh3d\"}],\"parcoords\":[{\"line\":{\"colorbar\":{\"outlinewidth\":0,\"ticks\":\"\"}},\"type\":\"parcoords\"}],\"pie\":[{\"automargin\":true,\"type\":\"pie\"}],\"scatter\":[{\"marker\":{\"colorbar\":{\"outlinewidth\":0,\"ticks\":\"\"}},\"type\":\"scatter\"}],\"scatter3d\":[{\"line\":{\"colorbar\":{\"outlinewidth\":0,\"ticks\":\"\"}},\"marker\":{\"colorbar\":{\"outlinewidth\":0,\"ticks\":\"\"}},\"type\":\"scatter3d\"}],\"scattercarpet\":[{\"marker\":{\"colorbar\":{\"outlinewidth\":0,\"ticks\":\"\"}},\"type\":\"scattercarpet\"}],\"scattergeo\":[{\"marker\":{\"colorbar\":{\"outlinewidth\":0,\"ticks\":\"\"}},\"type\":\"scattergeo\"}],\"scattergl\":[{\"marker\":{\"colorbar\":{\"outlinewidth\":0,\"ticks\":\"\"}},\"type\":\"scattergl\"}],\"scattermapbox\":[{\"marker\":{\"colorbar\":{\"outlinewidth\":0,\"ticks\":\"\"}},\"type\":\"scattermapbox\"}],\"scatterpolar\":[{\"marker\":{\"colorbar\":{\"outlinewidth\":0,\"ticks\":\"\"}},\"type\":\"scatterpolar\"}],\"scatterpolargl\":[{\"marker\":{\"colorbar\":{\"outlinewidth\":0,\"ticks\":\"\"}},\"type\":\"scatterpolargl\"}],\"scatterternary\":[{\"marker\":{\"colorbar\":{\"outlinewidth\":0,\"ticks\":\"\"}},\"type\":\"scatterternary\"}],\"surface\":[{\"colorbar\":{\"outlinewidth\":0,\"ticks\":\"\"},\"colorscale\":[[0.0,\"#0d0887\"],[0.1111111111111111,\"#46039f\"],[0.2222222222222222,\"#7201a8\"],[0.3333333333333333,\"#9c179e\"],[0.4444444444444444,\"#bd3786\"],[0.5555555555555556,\"#d8576b\"],[0.6666666666666666,\"#ed7953\"],[0.7777777777777778,\"#fb9f3a\"],[0.8888888888888888,\"#fdca26\"],[1.0,\"#f0f921\"]],\"type\":\"surface\"}],\"table\":[{\"cells\":{\"fill\":{\"color\":\"#EBF0F8\"},\"line\":{\"color\":\"white\"}},\"header\":{\"fill\":{\"color\":\"#C8D4E3\"},\"line\":{\"color\":\"white\"}},\"type\":\"table\"}]},\"layout\":{\"annotationdefaults\":{\"arrowcolor\":\"#2a3f5f\",\"arrowhead\":0,\"arrowwidth\":1},\"autotypenumbers\":\"strict\",\"coloraxis\":{\"colorbar\":{\"outlinewidth\":0,\"ticks\":\"\"}},\"colorscale\":{\"diverging\":[[0,\"#8e0152\"],[0.1,\"#c51b7d\"],[0.2,\"#de77ae\"],[0.3,\"#f1b6da\"],[0.4,\"#fde0ef\"],[0.5,\"#f7f7f7\"],[0.6,\"#e6f5d0\"],[0.7,\"#b8e186\"],[0.8,\"#7fbc41\"],[0.9,\"#4d9221\"],[1,\"#276419\"]],\"sequential\":[[0.0,\"#0d0887\"],[0.1111111111111111,\"#46039f\"],[0.2222222222222222,\"#7201a8\"],[0.3333333333333333,\"#9c179e\"],[0.4444444444444444,\"#bd3786\"],[0.5555555555555556,\"#d8576b\"],[0.6666666666666666,\"#ed7953\"],[0.7777777777777778,\"#fb9f3a\"],[0.8888888888888888,\"#fdca26\"],[1.0,\"#f0f921\"]],\"sequentialminus\":[[0.0,\"#0d0887\"],[0.1111111111111111,\"#46039f\"],[0.2222222222222222,\"#7201a8\"],[0.3333333333333333,\"#9c179e\"],[0.4444444444444444,\"#bd3786\"],[0.5555555555555556,\"#d8576b\"],[0.6666666666666666,\"#ed7953\"],[0.7777777777777778,\"#fb9f3a\"],[0.8888888888888888,\"#fdca26\"],[1.0,\"#f0f921\"]]},\"colorway\":[\"#636efa\",\"#EF553B\",\"#00cc96\",\"#ab63fa\",\"#FFA15A\",\"#19d3f3\",\"#FF6692\",\"#B6E880\",\"#FF97FF\",\"#FECB52\"],\"font\":{\"color\":\"#2a3f5f\"},\"geo\":{\"bgcolor\":\"white\",\"lakecolor\":\"white\",\"landcolor\":\"#E5ECF6\",\"showlakes\":true,\"showland\":true,\"subunitcolor\":\"white\"},\"hoverlabel\":{\"align\":\"left\"},\"hovermode\":\"closest\",\"mapbox\":{\"style\":\"light\"},\"paper_bgcolor\":\"white\",\"plot_bgcolor\":\"#E5ECF6\",\"polar\":{\"angularaxis\":{\"gridcolor\":\"white\",\"linecolor\":\"white\",\"ticks\":\"\"},\"bgcolor\":\"#E5ECF6\",\"radialaxis\":{\"gridcolor\":\"white\",\"linecolor\":\"white\",\"ticks\":\"\"}},\"scene\":{\"xaxis\":{\"backgroundcolor\":\"#E5ECF6\",\"gridcolor\":\"white\",\"gridwidth\":2,\"linecolor\":\"white\",\"showbackground\":true,\"ticks\":\"\",\"zerolinecolor\":\"white\"},\"yaxis\":{\"backgroundcolor\":\"#E5ECF6\",\"gridcolor\":\"white\",\"gridwidth\":2,\"linecolor\":\"white\",\"showbackground\":true,\"ticks\":\"\",\"zerolinecolor\":\"white\"},\"zaxis\":{\"backgroundcolor\":\"#E5ECF6\",\"gridcolor\":\"white\",\"gridwidth\":2,\"linecolor\":\"white\",\"showbackground\":true,\"ticks\":\"\",\"zerolinecolor\":\"white\"}},\"shapedefaults\":{\"line\":{\"color\":\"#2a3f5f\"}},\"ternary\":{\"aaxis\":{\"gridcolor\":\"white\",\"linecolor\":\"white\",\"ticks\":\"\"},\"baxis\":{\"gridcolor\":\"white\",\"linecolor\":\"white\",\"ticks\":\"\"},\"bgcolor\":\"#E5ECF6\",\"caxis\":{\"gridcolor\":\"white\",\"linecolor\":\"white\",\"ticks\":\"\"}},\"title\":{\"x\":0.05},\"xaxis\":{\"automargin\":true,\"gridcolor\":\"white\",\"linecolor\":\"white\",\"ticks\":\"\",\"title\":{\"standoff\":15},\"zerolinecolor\":\"white\",\"zerolinewidth\":2},\"yaxis\":{\"automargin\":true,\"gridcolor\":\"white\",\"linecolor\":\"white\",\"ticks\":\"\",\"title\":{\"standoff\":15},\"zerolinecolor\":\"white\",\"zerolinewidth\":2}}},\"title\":{\"text\":\"Feature Importance Per Iteration\"},\"width\":1000,\"xaxis\":{\"anchor\":\"y\",\"domain\":[0.0,1.0],\"title\":{\"text\":\"Iteration\"}},\"yaxis\":{\"anchor\":\"x\",\"domain\":[0.0,1.0],\"title\":{\"text\":\"Importance\"}}},                        {\"responsive\": true}                    ).then(function(){\n",
       "                            \n",
       "var gd = document.getElementById('82787013-30f4-4993-8198-56aa08614dc7');\n",
       "var x = new MutationObserver(function (mutations, observer) {{\n",
       "        var display = window.getComputedStyle(gd).display;\n",
       "        if (!display || display === 'none') {{\n",
       "            console.log([gd, 'removed!']);\n",
       "            Plotly.purge(gd);\n",
       "            observer.disconnect();\n",
       "        }}\n",
       "}});\n",
       "\n",
       "// Listen for the removal of the full notebook cells\n",
       "var notebookContainer = gd.closest('#notebook-container');\n",
       "if (notebookContainer) {{\n",
       "    x.observe(notebookContainer, {childList: true});\n",
       "}}\n",
       "\n",
       "// Listen for the clearing of the current output cell\n",
       "var outputEl = gd.closest('.output');\n",
       "if (outputEl) {{\n",
       "    x.observe(outputEl, {childList: true});\n",
       "}}\n",
       "\n",
       "                        })                };                });            </script>        </div>"
      ]
     },
     "metadata": {},
     "output_type": "display_data"
    }
   ],
   "source": [
    "fig = px.line(df_imp, x='Iteration', y=\"Importance\", color = \"Feature Name\")\n",
    "\n",
    "fig.update_layout(\n",
    "    autosize=False,\n",
    "    width=1000,\n",
    "    height=500,\n",
    "    title_text=f\"Feature Importance Per Iteration\",\n",
    "    #paper_bgcolor='#2d3035',\n",
    "    #plot_bgcolor='#2d3035', \n",
    ")\n",
    "\n",
    "fig.show()"
   ]
  },
  {
   "cell_type": "code",
   "execution_count": null,
   "id": "e150112f-ebe2-49cf-959b-7d52087a90c4",
   "metadata": {},
   "outputs": [],
   "source": []
  }
 ],
 "metadata": {
  "kernelspec": {
   "display_name": "Python 3 (ipykernel)",
   "language": "python",
   "name": "python3"
  },
  "language_info": {
   "codemirror_mode": {
    "name": "ipython",
    "version": 3
   },
   "file_extension": ".py",
   "mimetype": "text/x-python",
   "name": "python",
   "nbconvert_exporter": "python",
   "pygments_lexer": "ipython3",
   "version": "3.8.11"
  }
 },
 "nbformat": 4,
 "nbformat_minor": 5
}

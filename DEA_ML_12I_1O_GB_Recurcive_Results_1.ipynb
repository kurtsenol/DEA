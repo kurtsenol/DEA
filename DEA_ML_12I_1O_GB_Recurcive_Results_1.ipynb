{
 "cells": [
  {
   "cell_type": "code",
   "execution_count": 17,
   "id": "a86954ba-3efc-4b5d-b5f8-d37efabd5366",
   "metadata": {},
   "outputs": [
    {
     "data": {
      "text/html": [
       "<script>\n",
       "code_show=true; \n",
       "function code_toggle() {\n",
       " if (code_show){\n",
       " $('div.input').hide();\n",
       " } else {\n",
       " $('div.input').show();\n",
       " }\n",
       " code_show = !code_show\n",
       "} \n",
       "$( document ).ready(code_toggle);\n",
       "</script>\n",
       "The raw code for this IPython notebook is by default hidden for easier reading.\n",
       "To toggle on/off the raw code, click <a href=\"javascript:code_toggle()\">here</a>."
      ],
      "text/plain": [
       "<IPython.core.display.HTML object>"
      ]
     },
     "execution_count": 17,
     "metadata": {},
     "output_type": "execute_result"
    }
   ],
   "source": [
    "from IPython.display import HTML\n",
    "HTML('''<script>\n",
    "code_show=true; \n",
    "function code_toggle() {\n",
    " if (code_show){\n",
    " $('div.input').hide();\n",
    " } else {\n",
    " $('div.input').show();\n",
    " }\n",
    " code_show = !code_show\n",
    "} \n",
    "$( document ).ready(code_toggle);\n",
    "</script>\n",
    "The raw code for this IPython notebook is by default hidden for easier reading.\n",
    "To toggle on/off the raw code, click <a href=\"javascript:code_toggle()\">here</a>.''')"
   ]
  },
  {
   "cell_type": "code",
   "execution_count": 18,
   "id": "fc798ec7",
   "metadata": {},
   "outputs": [],
   "source": [
    "import pandas as pd\n",
    "import numpy as np\n",
    "from scipy import stats\n",
    "import pickle\n",
    "\n",
    "import matplotlib.pyplot as plt\n",
    "import seaborn as sns\n",
    "\n",
    "import xgboost as xgb\n",
    "\n",
    "np.set_printoptions(linewidth=np.inf, suppress=True, precision=2)"
   ]
  },
  {
   "cell_type": "code",
   "execution_count": 19,
   "id": "0dc16ee5-c9ac-4236-9b59-996fecd94413",
   "metadata": {},
   "outputs": [],
   "source": [
    "import mitosheet"
   ]
  },
  {
   "cell_type": "code",
   "execution_count": 20,
   "id": "6d565361-d152-4459-be65-97e811d5d01e",
   "metadata": {},
   "outputs": [
    {
     "data": {
      "text/html": [
       "        <script type=\"text/javascript\">\n",
       "        window.PlotlyConfig = {MathJaxConfig: 'local'};\n",
       "        if (window.MathJax) {MathJax.Hub.Config({SVG: {font: \"STIX-Web\"}});}\n",
       "        if (typeof require !== 'undefined') {\n",
       "        require.undef(\"plotly\");\n",
       "        requirejs.config({\n",
       "            paths: {\n",
       "                'plotly': ['https://cdn.plot.ly/plotly-2.4.1.min']\n",
       "            }\n",
       "        });\n",
       "        require(['plotly'], function(Plotly) {\n",
       "            window._Plotly = Plotly;\n",
       "        });\n",
       "        }\n",
       "        </script>\n",
       "        "
      ]
     },
     "metadata": {},
     "output_type": "display_data"
    }
   ],
   "source": [
    "import plotly.express as px\n",
    "import plotly.offline as pyo\n",
    "import plotly.graph_objs as go\n",
    "from plotly.subplots import make_subplots\n",
    "import plotly.figure_factory as ff\n",
    "\n",
    "pyo.init_notebook_mode(connected=True)"
   ]
  },
  {
   "cell_type": "code",
   "execution_count": 21,
   "id": "94578b71-4eee-47aa-89d8-2b22a5251865",
   "metadata": {},
   "outputs": [],
   "source": [
    "with open('Data/Data12_1/GB_result_12I1O_1.pkl', 'rb') as f:\n",
    "    result = pickle.load(f)"
   ]
  },
  {
   "cell_type": "code",
   "execution_count": 22,
   "id": "7243dc87-96b6-4821-9925-bee6a4180acd",
   "metadata": {},
   "outputs": [],
   "source": [
    "df_r = pd.DataFrame(result)"
   ]
  },
  {
   "cell_type": "code",
   "execution_count": 23,
   "id": "4cdef42d-3561-475a-a782-0c98efb5675e",
   "metadata": {},
   "outputs": [],
   "source": [
    "r2 = df_r[3].apply(pd.Series)"
   ]
  },
  {
   "cell_type": "code",
   "execution_count": 24,
   "id": "916c3cc5-5c18-4eae-8fce-555bc2852d5d",
   "metadata": {},
   "outputs": [
    {
     "data": {
      "application/vnd.plotly.v1+json": {
       "config": {
        "plotlyServerURL": "https://plot.ly"
       },
       "data": [
        {
         "name": "R2",
         "type": "scatter",
         "x": [
          0,
          1,
          2,
          3,
          4,
          5,
          6,
          7,
          8,
          9,
          10
         ],
         "xaxis": "x",
         "y": [
          0.9473673348177396,
          0.9702296959473118,
          0.9712172459483377,
          0.9693219270923009,
          0.9714957717671158,
          0.9703873789885394,
          0.9703873789885394,
          0.9703873789885394,
          0.9703873789885394,
          0.9703873789885394,
          0.9703873789885394
         ],
         "yaxis": "y"
        },
        {
         "name": "RMSE",
         "type": "scatter",
         "x": [
          0,
          1,
          2,
          3,
          4,
          5,
          6,
          7,
          8,
          9,
          10
         ],
         "xaxis": "x",
         "y": [
          0.036640585823967654,
          0.023874609653150608,
          0.023996854672094076,
          0.02477100716341915,
          0.02407577862452921,
          0.024534117547569057,
          0.024534117547569057,
          0.024534117547569057,
          0.024534117547569057,
          0.024534117547569057,
          0.024534117547569057
         ],
         "yaxis": "y2"
        }
       ],
       "layout": {
        "autosize": false,
        "height": 500,
        "template": {
         "data": {
          "bar": [
           {
            "error_x": {
             "color": "#2a3f5f"
            },
            "error_y": {
             "color": "#2a3f5f"
            },
            "marker": {
             "line": {
              "color": "#E5ECF6",
              "width": 0.5
             },
             "pattern": {
              "fillmode": "overlay",
              "size": 10,
              "solidity": 0.2
             }
            },
            "type": "bar"
           }
          ],
          "barpolar": [
           {
            "marker": {
             "line": {
              "color": "#E5ECF6",
              "width": 0.5
             },
             "pattern": {
              "fillmode": "overlay",
              "size": 10,
              "solidity": 0.2
             }
            },
            "type": "barpolar"
           }
          ],
          "carpet": [
           {
            "aaxis": {
             "endlinecolor": "#2a3f5f",
             "gridcolor": "white",
             "linecolor": "white",
             "minorgridcolor": "white",
             "startlinecolor": "#2a3f5f"
            },
            "baxis": {
             "endlinecolor": "#2a3f5f",
             "gridcolor": "white",
             "linecolor": "white",
             "minorgridcolor": "white",
             "startlinecolor": "#2a3f5f"
            },
            "type": "carpet"
           }
          ],
          "choropleth": [
           {
            "colorbar": {
             "outlinewidth": 0,
             "ticks": ""
            },
            "type": "choropleth"
           }
          ],
          "contour": [
           {
            "colorbar": {
             "outlinewidth": 0,
             "ticks": ""
            },
            "colorscale": [
             [
              0,
              "#0d0887"
             ],
             [
              0.1111111111111111,
              "#46039f"
             ],
             [
              0.2222222222222222,
              "#7201a8"
             ],
             [
              0.3333333333333333,
              "#9c179e"
             ],
             [
              0.4444444444444444,
              "#bd3786"
             ],
             [
              0.5555555555555556,
              "#d8576b"
             ],
             [
              0.6666666666666666,
              "#ed7953"
             ],
             [
              0.7777777777777778,
              "#fb9f3a"
             ],
             [
              0.8888888888888888,
              "#fdca26"
             ],
             [
              1,
              "#f0f921"
             ]
            ],
            "type": "contour"
           }
          ],
          "contourcarpet": [
           {
            "colorbar": {
             "outlinewidth": 0,
             "ticks": ""
            },
            "type": "contourcarpet"
           }
          ],
          "heatmap": [
           {
            "colorbar": {
             "outlinewidth": 0,
             "ticks": ""
            },
            "colorscale": [
             [
              0,
              "#0d0887"
             ],
             [
              0.1111111111111111,
              "#46039f"
             ],
             [
              0.2222222222222222,
              "#7201a8"
             ],
             [
              0.3333333333333333,
              "#9c179e"
             ],
             [
              0.4444444444444444,
              "#bd3786"
             ],
             [
              0.5555555555555556,
              "#d8576b"
             ],
             [
              0.6666666666666666,
              "#ed7953"
             ],
             [
              0.7777777777777778,
              "#fb9f3a"
             ],
             [
              0.8888888888888888,
              "#fdca26"
             ],
             [
              1,
              "#f0f921"
             ]
            ],
            "type": "heatmap"
           }
          ],
          "heatmapgl": [
           {
            "colorbar": {
             "outlinewidth": 0,
             "ticks": ""
            },
            "colorscale": [
             [
              0,
              "#0d0887"
             ],
             [
              0.1111111111111111,
              "#46039f"
             ],
             [
              0.2222222222222222,
              "#7201a8"
             ],
             [
              0.3333333333333333,
              "#9c179e"
             ],
             [
              0.4444444444444444,
              "#bd3786"
             ],
             [
              0.5555555555555556,
              "#d8576b"
             ],
             [
              0.6666666666666666,
              "#ed7953"
             ],
             [
              0.7777777777777778,
              "#fb9f3a"
             ],
             [
              0.8888888888888888,
              "#fdca26"
             ],
             [
              1,
              "#f0f921"
             ]
            ],
            "type": "heatmapgl"
           }
          ],
          "histogram": [
           {
            "marker": {
             "pattern": {
              "fillmode": "overlay",
              "size": 10,
              "solidity": 0.2
             }
            },
            "type": "histogram"
           }
          ],
          "histogram2d": [
           {
            "colorbar": {
             "outlinewidth": 0,
             "ticks": ""
            },
            "colorscale": [
             [
              0,
              "#0d0887"
             ],
             [
              0.1111111111111111,
              "#46039f"
             ],
             [
              0.2222222222222222,
              "#7201a8"
             ],
             [
              0.3333333333333333,
              "#9c179e"
             ],
             [
              0.4444444444444444,
              "#bd3786"
             ],
             [
              0.5555555555555556,
              "#d8576b"
             ],
             [
              0.6666666666666666,
              "#ed7953"
             ],
             [
              0.7777777777777778,
              "#fb9f3a"
             ],
             [
              0.8888888888888888,
              "#fdca26"
             ],
             [
              1,
              "#f0f921"
             ]
            ],
            "type": "histogram2d"
           }
          ],
          "histogram2dcontour": [
           {
            "colorbar": {
             "outlinewidth": 0,
             "ticks": ""
            },
            "colorscale": [
             [
              0,
              "#0d0887"
             ],
             [
              0.1111111111111111,
              "#46039f"
             ],
             [
              0.2222222222222222,
              "#7201a8"
             ],
             [
              0.3333333333333333,
              "#9c179e"
             ],
             [
              0.4444444444444444,
              "#bd3786"
             ],
             [
              0.5555555555555556,
              "#d8576b"
             ],
             [
              0.6666666666666666,
              "#ed7953"
             ],
             [
              0.7777777777777778,
              "#fb9f3a"
             ],
             [
              0.8888888888888888,
              "#fdca26"
             ],
             [
              1,
              "#f0f921"
             ]
            ],
            "type": "histogram2dcontour"
           }
          ],
          "mesh3d": [
           {
            "colorbar": {
             "outlinewidth": 0,
             "ticks": ""
            },
            "type": "mesh3d"
           }
          ],
          "parcoords": [
           {
            "line": {
             "colorbar": {
              "outlinewidth": 0,
              "ticks": ""
             }
            },
            "type": "parcoords"
           }
          ],
          "pie": [
           {
            "automargin": true,
            "type": "pie"
           }
          ],
          "scatter": [
           {
            "marker": {
             "colorbar": {
              "outlinewidth": 0,
              "ticks": ""
             }
            },
            "type": "scatter"
           }
          ],
          "scatter3d": [
           {
            "line": {
             "colorbar": {
              "outlinewidth": 0,
              "ticks": ""
             }
            },
            "marker": {
             "colorbar": {
              "outlinewidth": 0,
              "ticks": ""
             }
            },
            "type": "scatter3d"
           }
          ],
          "scattercarpet": [
           {
            "marker": {
             "colorbar": {
              "outlinewidth": 0,
              "ticks": ""
             }
            },
            "type": "scattercarpet"
           }
          ],
          "scattergeo": [
           {
            "marker": {
             "colorbar": {
              "outlinewidth": 0,
              "ticks": ""
             }
            },
            "type": "scattergeo"
           }
          ],
          "scattergl": [
           {
            "marker": {
             "colorbar": {
              "outlinewidth": 0,
              "ticks": ""
             }
            },
            "type": "scattergl"
           }
          ],
          "scattermapbox": [
           {
            "marker": {
             "colorbar": {
              "outlinewidth": 0,
              "ticks": ""
             }
            },
            "type": "scattermapbox"
           }
          ],
          "scatterpolar": [
           {
            "marker": {
             "colorbar": {
              "outlinewidth": 0,
              "ticks": ""
             }
            },
            "type": "scatterpolar"
           }
          ],
          "scatterpolargl": [
           {
            "marker": {
             "colorbar": {
              "outlinewidth": 0,
              "ticks": ""
             }
            },
            "type": "scatterpolargl"
           }
          ],
          "scatterternary": [
           {
            "marker": {
             "colorbar": {
              "outlinewidth": 0,
              "ticks": ""
             }
            },
            "type": "scatterternary"
           }
          ],
          "surface": [
           {
            "colorbar": {
             "outlinewidth": 0,
             "ticks": ""
            },
            "colorscale": [
             [
              0,
              "#0d0887"
             ],
             [
              0.1111111111111111,
              "#46039f"
             ],
             [
              0.2222222222222222,
              "#7201a8"
             ],
             [
              0.3333333333333333,
              "#9c179e"
             ],
             [
              0.4444444444444444,
              "#bd3786"
             ],
             [
              0.5555555555555556,
              "#d8576b"
             ],
             [
              0.6666666666666666,
              "#ed7953"
             ],
             [
              0.7777777777777778,
              "#fb9f3a"
             ],
             [
              0.8888888888888888,
              "#fdca26"
             ],
             [
              1,
              "#f0f921"
             ]
            ],
            "type": "surface"
           }
          ],
          "table": [
           {
            "cells": {
             "fill": {
              "color": "#EBF0F8"
             },
             "line": {
              "color": "white"
             }
            },
            "header": {
             "fill": {
              "color": "#C8D4E3"
             },
             "line": {
              "color": "white"
             }
            },
            "type": "table"
           }
          ]
         },
         "layout": {
          "annotationdefaults": {
           "arrowcolor": "#2a3f5f",
           "arrowhead": 0,
           "arrowwidth": 1
          },
          "autotypenumbers": "strict",
          "coloraxis": {
           "colorbar": {
            "outlinewidth": 0,
            "ticks": ""
           }
          },
          "colorscale": {
           "diverging": [
            [
             0,
             "#8e0152"
            ],
            [
             0.1,
             "#c51b7d"
            ],
            [
             0.2,
             "#de77ae"
            ],
            [
             0.3,
             "#f1b6da"
            ],
            [
             0.4,
             "#fde0ef"
            ],
            [
             0.5,
             "#f7f7f7"
            ],
            [
             0.6,
             "#e6f5d0"
            ],
            [
             0.7,
             "#b8e186"
            ],
            [
             0.8,
             "#7fbc41"
            ],
            [
             0.9,
             "#4d9221"
            ],
            [
             1,
             "#276419"
            ]
           ],
           "sequential": [
            [
             0,
             "#0d0887"
            ],
            [
             0.1111111111111111,
             "#46039f"
            ],
            [
             0.2222222222222222,
             "#7201a8"
            ],
            [
             0.3333333333333333,
             "#9c179e"
            ],
            [
             0.4444444444444444,
             "#bd3786"
            ],
            [
             0.5555555555555556,
             "#d8576b"
            ],
            [
             0.6666666666666666,
             "#ed7953"
            ],
            [
             0.7777777777777778,
             "#fb9f3a"
            ],
            [
             0.8888888888888888,
             "#fdca26"
            ],
            [
             1,
             "#f0f921"
            ]
           ],
           "sequentialminus": [
            [
             0,
             "#0d0887"
            ],
            [
             0.1111111111111111,
             "#46039f"
            ],
            [
             0.2222222222222222,
             "#7201a8"
            ],
            [
             0.3333333333333333,
             "#9c179e"
            ],
            [
             0.4444444444444444,
             "#bd3786"
            ],
            [
             0.5555555555555556,
             "#d8576b"
            ],
            [
             0.6666666666666666,
             "#ed7953"
            ],
            [
             0.7777777777777778,
             "#fb9f3a"
            ],
            [
             0.8888888888888888,
             "#fdca26"
            ],
            [
             1,
             "#f0f921"
            ]
           ]
          },
          "colorway": [
           "#636efa",
           "#EF553B",
           "#00cc96",
           "#ab63fa",
           "#FFA15A",
           "#19d3f3",
           "#FF6692",
           "#B6E880",
           "#FF97FF",
           "#FECB52"
          ],
          "font": {
           "color": "#2a3f5f"
          },
          "geo": {
           "bgcolor": "white",
           "lakecolor": "white",
           "landcolor": "#E5ECF6",
           "showlakes": true,
           "showland": true,
           "subunitcolor": "white"
          },
          "hoverlabel": {
           "align": "left"
          },
          "hovermode": "closest",
          "mapbox": {
           "style": "light"
          },
          "paper_bgcolor": "white",
          "plot_bgcolor": "#E5ECF6",
          "polar": {
           "angularaxis": {
            "gridcolor": "white",
            "linecolor": "white",
            "ticks": ""
           },
           "bgcolor": "#E5ECF6",
           "radialaxis": {
            "gridcolor": "white",
            "linecolor": "white",
            "ticks": ""
           }
          },
          "scene": {
           "xaxis": {
            "backgroundcolor": "#E5ECF6",
            "gridcolor": "white",
            "gridwidth": 2,
            "linecolor": "white",
            "showbackground": true,
            "ticks": "",
            "zerolinecolor": "white"
           },
           "yaxis": {
            "backgroundcolor": "#E5ECF6",
            "gridcolor": "white",
            "gridwidth": 2,
            "linecolor": "white",
            "showbackground": true,
            "ticks": "",
            "zerolinecolor": "white"
           },
           "zaxis": {
            "backgroundcolor": "#E5ECF6",
            "gridcolor": "white",
            "gridwidth": 2,
            "linecolor": "white",
            "showbackground": true,
            "ticks": "",
            "zerolinecolor": "white"
           }
          },
          "shapedefaults": {
           "line": {
            "color": "#2a3f5f"
           }
          },
          "ternary": {
           "aaxis": {
            "gridcolor": "white",
            "linecolor": "white",
            "ticks": ""
           },
           "baxis": {
            "gridcolor": "white",
            "linecolor": "white",
            "ticks": ""
           },
           "bgcolor": "#E5ECF6",
           "caxis": {
            "gridcolor": "white",
            "linecolor": "white",
            "ticks": ""
           }
          },
          "title": {
           "x": 0.05
          },
          "xaxis": {
           "automargin": true,
           "gridcolor": "white",
           "linecolor": "white",
           "ticks": "",
           "title": {
            "standoff": 15
           },
           "zerolinecolor": "white",
           "zerolinewidth": 2
          },
          "yaxis": {
           "automargin": true,
           "gridcolor": "white",
           "linecolor": "white",
           "ticks": "",
           "title": {
            "standoff": 15
           },
           "zerolinecolor": "white",
           "zerolinewidth": 2
          }
         }
        },
        "title": {
         "text": "R2 and RMSE Per Iteration"
        },
        "width": 900,
        "xaxis": {
         "anchor": "y",
         "autorange": true,
         "domain": [
          0,
          0.94
         ],
         "range": [
          -0.6254023173479241,
          10.625402317347923
         ],
         "title": {
          "text": "Iteration"
         },
         "type": "linear"
        },
        "yaxis": {
         "anchor": "x",
         "autorange": true,
         "domain": [
          0,
          1
         ],
         "range": [
          0.9456684520022309,
          0.9731946545826244
         ],
         "title": {
          "text": "R2"
         },
         "type": "linear"
        },
        "yaxis2": {
         "anchor": "x",
         "autorange": true,
         "overlaying": "y",
         "range": [
          0.022975757498520887,
          0.03753943797859738
         ],
         "side": "right",
         "title": {
          "text": "RMSE"
         },
         "type": "linear"
        }
       }
      },
      "image/png": "[encoded data removed]",
      "text/html": [
       "<div>                            <div id=\"85babd31-519c-4972-9ea0-c0d459bcd544\" class=\"plotly-graph-div\" style=\"height:500px; width:900px;\"></div>            <script type=\"text/javascript\">                require([\"plotly\"], function(Plotly) {                    window.PLOTLYENV=window.PLOTLYENV || {};                                    if (document.getElementById(\"85babd31-519c-4972-9ea0-c0d459bcd544\")) {                    Plotly.newPlot(                        \"85babd31-519c-4972-9ea0-c0d459bcd544\",                        [{\"name\":\"R2\",\"type\":\"scatter\",\"x\":[0,1,2,3,4,5,6,7,8,9,10],\"xaxis\":\"x\",\"y\":[0.9473673348177396,0.9702296959473118,0.9712172459483377,0.9693219270923009,0.9714957717671158,0.9703873789885394,0.9703873789885394,0.9703873789885394,0.9703873789885394,0.9703873789885394,0.9703873789885394],\"yaxis\":\"y\"},{\"name\":\"RMSE\",\"type\":\"scatter\",\"x\":[0,1,2,3,4,5,6,7,8,9,10],\"xaxis\":\"x\",\"y\":[0.036640585823967654,0.023874609653150608,0.023996854672094076,0.02477100716341915,0.02407577862452921,0.024534117547569057,0.024534117547569057,0.024534117547569057,0.024534117547569057,0.024534117547569057,0.024534117547569057],\"yaxis\":\"y2\"}],                        {\"autosize\":false,\"height\":500,\"template\":{\"data\":{\"bar\":[{\"error_x\":{\"color\":\"#2a3f5f\"},\"error_y\":{\"color\":\"#2a3f5f\"},\"marker\":{\"line\":{\"color\":\"#E5ECF6\",\"width\":0.5},\"pattern\":{\"fillmode\":\"overlay\",\"size\":10,\"solidity\":0.2}},\"type\":\"bar\"}],\"barpolar\":[{\"marker\":{\"line\":{\"color\":\"#E5ECF6\",\"width\":0.5},\"pattern\":{\"fillmode\":\"overlay\",\"size\":10,\"solidity\":0.2}},\"type\":\"barpolar\"}],\"carpet\":[{\"aaxis\":{\"endlinecolor\":\"#2a3f5f\",\"gridcolor\":\"white\",\"linecolor\":\"white\",\"minorgridcolor\":\"white\",\"startlinecolor\":\"#2a3f5f\"},\"baxis\":{\"endlinecolor\":\"#2a3f5f\",\"gridcolor\":\"white\",\"linecolor\":\"white\",\"minorgridcolor\":\"white\",\"startlinecolor\":\"#2a3f5f\"},\"type\":\"carpet\"}],\"choropleth\":[{\"colorbar\":{\"outlinewidth\":0,\"ticks\":\"\"},\"type\":\"choropleth\"}],\"contour\":[{\"colorbar\":{\"outlinewidth\":0,\"ticks\":\"\"},\"colorscale\":[[0.0,\"#0d0887\"],[0.1111111111111111,\"#46039f\"],[0.2222222222222222,\"#7201a8\"],[0.3333333333333333,\"#9c179e\"],[0.4444444444444444,\"#bd3786\"],[0.5555555555555556,\"#d8576b\"],[0.6666666666666666,\"#ed7953\"],[0.7777777777777778,\"#fb9f3a\"],[0.8888888888888888,\"#fdca26\"],[1.0,\"#f0f921\"]],\"type\":\"contour\"}],\"contourcarpet\":[{\"colorbar\":{\"outlinewidth\":0,\"ticks\":\"\"},\"type\":\"contourcarpet\"}],\"heatmap\":[{\"colorbar\":{\"outlinewidth\":0,\"ticks\":\"\"},\"colorscale\":[[0.0,\"#0d0887\"],[0.1111111111111111,\"#46039f\"],[0.2222222222222222,\"#7201a8\"],[0.3333333333333333,\"#9c179e\"],[0.4444444444444444,\"#bd3786\"],[0.5555555555555556,\"#d8576b\"],[0.6666666666666666,\"#ed7953\"],[0.7777777777777778,\"#fb9f3a\"],[0.8888888888888888,\"#fdca26\"],[1.0,\"#f0f921\"]],\"type\":\"heatmap\"}],\"heatmapgl\":[{\"colorbar\":{\"outlinewidth\":0,\"ticks\":\"\"},\"colorscale\":[[0.0,\"#0d0887\"],[0.1111111111111111,\"#46039f\"],[0.2222222222222222,\"#7201a8\"],[0.3333333333333333,\"#9c179e\"],[0.4444444444444444,\"#bd3786\"],[0.5555555555555556,\"#d8576b\"],[0.6666666666666666,\"#ed7953\"],[0.7777777777777778,\"#fb9f3a\"],[0.8888888888888888,\"#fdca26\"],[1.0,\"#f0f921\"]],\"type\":\"heatmapgl\"}],\"histogram\":[{\"marker\":{\"pattern\":{\"fillmode\":\"overlay\",\"size\":10,\"solidity\":0.2}},\"type\":\"histogram\"}],\"histogram2d\":[{\"colorbar\":{\"outlinewidth\":0,\"ticks\":\"\"},\"colorscale\":[[0.0,\"#0d0887\"],[0.1111111111111111,\"#46039f\"],[0.2222222222222222,\"#7201a8\"],[0.3333333333333333,\"#9c179e\"],[0.4444444444444444,\"#bd3786\"],[0.5555555555555556,\"#d8576b\"],[0.6666666666666666,\"#ed7953\"],[0.7777777777777778,\"#fb9f3a\"],[0.8888888888888888,\"#fdca26\"],[1.0,\"#f0f921\"]],\"type\":\"histogram2d\"}],\"histogram2dcontour\":[{\"colorbar\":{\"outlinewidth\":0,\"ticks\":\"\"},\"colorscale\":[[0.0,\"#0d0887\"],[0.1111111111111111,\"#46039f\"],[0.2222222222222222,\"#7201a8\"],[0.3333333333333333,\"#9c179e\"],[0.4444444444444444,\"#bd3786\"],[0.5555555555555556,\"#d8576b\"],[0.6666666666666666,\"#ed7953\"],[0.7777777777777778,\"#fb9f3a\"],[0.8888888888888888,\"#fdca26\"],[1.0,\"#f0f921\"]],\"type\":\"histogram2dcontour\"}],\"mesh3d\":[{\"colorbar\":{\"outlinewidth\":0,\"ticks\":\"\"},\"type\":\"mesh3d\"}],\"parcoords\":[{\"line\":{\"colorbar\":{\"outlinewidth\":0,\"ticks\":\"\"}},\"type\":\"parcoords\"}],\"pie\":[{\"automargin\":true,\"type\":\"pie\"}],\"scatter\":[{\"marker\":{\"colorbar\":{\"outlinewidth\":0,\"ticks\":\"\"}},\"type\":\"scatter\"}],\"scatter3d\":[{\"line\":{\"colorbar\":{\"outlinewidth\":0,\"ticks\":\"\"}},\"marker\":{\"colorbar\":{\"outlinewidth\":0,\"ticks\":\"\"}},\"type\":\"scatter3d\"}],\"scattercarpet\":[{\"marker\":{\"colorbar\":{\"outlinewidth\":0,\"ticks\":\"\"}},\"type\":\"scattercarpet\"}],\"scattergeo\":[{\"marker\":{\"colorbar\":{\"outlinewidth\":0,\"ticks\":\"\"}},\"type\":\"scattergeo\"}],\"scattergl\":[{\"marker\":{\"colorbar\":{\"outlinewidth\":0,\"ticks\":\"\"}},\"type\":\"scattergl\"}],\"scattermapbox\":[{\"marker\":{\"colorbar\":{\"outlinewidth\":0,\"ticks\":\"\"}},\"type\":\"scattermapbox\"}],\"scatterpolar\":[{\"marker\":{\"colorbar\":{\"outlinewidth\":0,\"ticks\":\"\"}},\"type\":\"scatterpolar\"}],\"scatterpolargl\":[{\"marker\":{\"colorbar\":{\"outlinewidth\":0,\"ticks\":\"\"}},\"type\":\"scatterpolargl\"}],\"scatterternary\":[{\"marker\":{\"colorbar\":{\"outlinewidth\":0,\"ticks\":\"\"}},\"type\":\"scatterternary\"}],\"surface\":[{\"colorbar\":{\"outlinewidth\":0,\"ticks\":\"\"},\"colorscale\":[[0.0,\"#0d0887\"],[0.1111111111111111,\"#46039f\"],[0.2222222222222222,\"#7201a8\"],[0.3333333333333333,\"#9c179e\"],[0.4444444444444444,\"#bd3786\"],[0.5555555555555556,\"#d8576b\"],[0.6666666666666666,\"#ed7953\"],[0.7777777777777778,\"#fb9f3a\"],[0.8888888888888888,\"#fdca26\"],[1.0,\"#f0f921\"]],\"type\":\"surface\"}],\"table\":[{\"cells\":{\"fill\":{\"color\":\"#EBF0F8\"},\"line\":{\"color\":\"white\"}},\"header\":{\"fill\":{\"color\":\"#C8D4E3\"},\"line\":{\"color\":\"white\"}},\"type\":\"table\"}]},\"layout\":{\"annotationdefaults\":{\"arrowcolor\":\"#2a3f5f\",\"arrowhead\":0,\"arrowwidth\":1},\"autotypenumbers\":\"strict\",\"coloraxis\":{\"colorbar\":{\"outlinewidth\":0,\"ticks\":\"\"}},\"colorscale\":{\"diverging\":[[0,\"#8e0152\"],[0.1,\"#c51b7d\"],[0.2,\"#de77ae\"],[0.3,\"#f1b6da\"],[0.4,\"#fde0ef\"],[0.5,\"#f7f7f7\"],[0.6,\"#e6f5d0\"],[0.7,\"#b8e186\"],[0.8,\"#7fbc41\"],[0.9,\"#4d9221\"],[1,\"#276419\"]],\"sequential\":[[0.0,\"#0d0887\"],[0.1111111111111111,\"#46039f\"],[0.2222222222222222,\"#7201a8\"],[0.3333333333333333,\"#9c179e\"],[0.4444444444444444,\"#bd3786\"],[0.5555555555555556,\"#d8576b\"],[0.6666666666666666,\"#ed7953\"],[0.7777777777777778,\"#fb9f3a\"],[0.8888888888888888,\"#fdca26\"],[1.0,\"#f0f921\"]],\"sequentialminus\":[[0.0,\"#0d0887\"],[0.1111111111111111,\"#46039f\"],[0.2222222222222222,\"#7201a8\"],[0.3333333333333333,\"#9c179e\"],[0.4444444444444444,\"#bd3786\"],[0.5555555555555556,\"#d8576b\"],[0.6666666666666666,\"#ed7953\"],[0.7777777777777778,\"#fb9f3a\"],[0.8888888888888888,\"#fdca26\"],[1.0,\"#f0f921\"]]},\"colorway\":[\"#636efa\",\"#EF553B\",\"#00cc96\",\"#ab63fa\",\"#FFA15A\",\"#19d3f3\",\"#FF6692\",\"#B6E880\",\"#FF97FF\",\"#FECB52\"],\"font\":{\"color\":\"#2a3f5f\"},\"geo\":{\"bgcolor\":\"white\",\"lakecolor\":\"white\",\"landcolor\":\"#E5ECF6\",\"showlakes\":true,\"showland\":true,\"subunitcolor\":\"white\"},\"hoverlabel\":{\"align\":\"left\"},\"hovermode\":\"closest\",\"mapbox\":{\"style\":\"light\"},\"paper_bgcolor\":\"white\",\"plot_bgcolor\":\"#E5ECF6\",\"polar\":{\"angularaxis\":{\"gridcolor\":\"white\",\"linecolor\":\"white\",\"ticks\":\"\"},\"bgcolor\":\"#E5ECF6\",\"radialaxis\":{\"gridcolor\":\"white\",\"linecolor\":\"white\",\"ticks\":\"\"}},\"scene\":{\"xaxis\":{\"backgroundcolor\":\"#E5ECF6\",\"gridcolor\":\"white\",\"gridwidth\":2,\"linecolor\":\"white\",\"showbackground\":true,\"ticks\":\"\",\"zerolinecolor\":\"white\"},\"yaxis\":{\"backgroundcolor\":\"#E5ECF6\",\"gridcolor\":\"white\",\"gridwidth\":2,\"linecolor\":\"white\",\"showbackground\":true,\"ticks\":\"\",\"zerolinecolor\":\"white\"},\"zaxis\":{\"backgroundcolor\":\"#E5ECF6\",\"gridcolor\":\"white\",\"gridwidth\":2,\"linecolor\":\"white\",\"showbackground\":true,\"ticks\":\"\",\"zerolinecolor\":\"white\"}},\"shapedefaults\":{\"line\":{\"color\":\"#2a3f5f\"}},\"ternary\":{\"aaxis\":{\"gridcolor\":\"white\",\"linecolor\":\"white\",\"ticks\":\"\"},\"baxis\":{\"gridcolor\":\"white\",\"linecolor\":\"white\",\"ticks\":\"\"},\"bgcolor\":\"#E5ECF6\",\"caxis\":{\"gridcolor\":\"white\",\"linecolor\":\"white\",\"ticks\":\"\"}},\"title\":{\"x\":0.05},\"xaxis\":{\"automargin\":true,\"gridcolor\":\"white\",\"linecolor\":\"white\",\"ticks\":\"\",\"title\":{\"standoff\":15},\"zerolinecolor\":\"white\",\"zerolinewidth\":2},\"yaxis\":{\"automargin\":true,\"gridcolor\":\"white\",\"linecolor\":\"white\",\"ticks\":\"\",\"title\":{\"standoff\":15},\"zerolinecolor\":\"white\",\"zerolinewidth\":2}}},\"title\":{\"text\":\"R2 and RMSE Per Iteration\"},\"width\":900,\"xaxis\":{\"anchor\":\"y\",\"domain\":[0.0,0.94],\"title\":{\"text\":\"Iteration\"}},\"yaxis\":{\"anchor\":\"x\",\"domain\":[0.0,1.0],\"title\":{\"text\":\"R2\"}},\"yaxis2\":{\"anchor\":\"x\",\"overlaying\":\"y\",\"side\":\"right\",\"title\":{\"text\":\"RMSE\"}}},                        {\"responsive\": true}                    ).then(function(){\n",
       "                            \n",
       "var gd = document.getElementById('85babd31-519c-4972-9ea0-c0d459bcd544');\n",
       "var x = new MutationObserver(function (mutations, observer) {{\n",
       "        var display = window.getComputedStyle(gd).display;\n",
       "        if (!display || display === 'none') {{\n",
       "            console.log([gd, 'removed!']);\n",
       "            Plotly.purge(gd);\n",
       "            observer.disconnect();\n",
       "        }}\n",
       "}});\n",
       "\n",
       "// Listen for the removal of the full notebook cells\n",
       "var notebookContainer = gd.closest('#notebook-container');\n",
       "if (notebookContainer) {{\n",
       "    x.observe(notebookContainer, {childList: true});\n",
       "}}\n",
       "\n",
       "// Listen for the clearing of the current output cell\n",
       "var outputEl = gd.closest('.output');\n",
       "if (outputEl) {{\n",
       "    x.observe(outputEl, {childList: true});\n",
       "}}\n",
       "\n",
       "                        })                };                });            </script>        </div>"
      ]
     },
     "metadata": {},
     "output_type": "display_data"
    }
   ],
   "source": [
    "fig = make_subplots(specs=[[{\"secondary_y\": True}]])\n",
    "\n",
    "\n",
    "fig.add_trace(go.Scatter(y =  r2.r2, x = r2.index, name = \"R2\"),  secondary_y=False)\n",
    "fig.add_trace(go.Scatter(y =  r2.neg_root_mean_squared_error * -1, x = r2.index, name = \"RMSE\"), secondary_y=True)\n",
    "\n",
    "\n",
    "fig.update_layout(title=\"R2 and RMSE Per Iteration\",\n",
    "                    xaxis_title='Iteration',\n",
    "                    yaxis_title='R2',\n",
    "                    yaxis2_title='RMSE',\n",
    "                   autosize=False,\n",
    "                   width=900,\n",
    "                  height=500,\n",
    "                 )\n",
    "fig.update_layout(title_text = \"R2 and RMSE Per Iteration\")\n",
    "\n",
    "fig.show()"
   ]
  },
  {
   "cell_type": "code",
   "execution_count": 25,
   "id": "b26ad91c-ba65-4196-ab52-2b91c36190fe",
   "metadata": {},
   "outputs": [
    {
     "data": {
      "application/vnd.plotly.v1+json": {
       "config": {
        "plotlyServerURL": "https://plot.ly"
       },
       "data": [
        {
         "hovertemplate": "index=%{x}<br>total_zeros=%{y}<extra></extra>",
         "legendgroup": "",
         "line": {
          "color": "#636efa",
          "dash": "solid"
         },
         "marker": {
          "symbol": "circle"
         },
         "mode": "lines",
         "name": "",
         "orientation": "v",
         "showlegend": false,
         "type": "scatter",
         "x": [
          0,
          1,
          2,
          3,
          4,
          5,
          6,
          7,
          8,
          9,
          10
         ],
         "xaxis": "x",
         "y": [
          6935,
          2195,
          1887,
          1860,
          1782,
          1850,
          1850,
          1850,
          1850,
          1850,
          1850
         ],
         "yaxis": "y"
        }
       ],
       "layout": {
        "autosize": false,
        "height": 500,
        "legend": {
         "tracegroupgap": 0
        },
        "margin": {
         "t": 60
        },
        "template": {
         "data": {
          "bar": [
           {
            "error_x": {
             "color": "#2a3f5f"
            },
            "error_y": {
             "color": "#2a3f5f"
            },
            "marker": {
             "line": {
              "color": "#E5ECF6",
              "width": 0.5
             },
             "pattern": {
              "fillmode": "overlay",
              "size": 10,
              "solidity": 0.2
             }
            },
            "type": "bar"
           }
          ],
          "barpolar": [
           {
            "marker": {
             "line": {
              "color": "#E5ECF6",
              "width": 0.5
             },
             "pattern": {
              "fillmode": "overlay",
              "size": 10,
              "solidity": 0.2
             }
            },
            "type": "barpolar"
           }
          ],
          "carpet": [
           {
            "aaxis": {
             "endlinecolor": "#2a3f5f",
             "gridcolor": "white",
             "linecolor": "white",
             "minorgridcolor": "white",
             "startlinecolor": "#2a3f5f"
            },
            "baxis": {
             "endlinecolor": "#2a3f5f",
             "gridcolor": "white",
             "linecolor": "white",
             "minorgridcolor": "white",
             "startlinecolor": "#2a3f5f"
            },
            "type": "carpet"
           }
          ],
          "choropleth": [
           {
            "colorbar": {
             "outlinewidth": 0,
             "ticks": ""
            },
            "type": "choropleth"
           }
          ],
          "contour": [
           {
            "colorbar": {
             "outlinewidth": 0,
             "ticks": ""
            },
            "colorscale": [
             [
              0,
              "#0d0887"
             ],
             [
              0.1111111111111111,
              "#46039f"
             ],
             [
              0.2222222222222222,
              "#7201a8"
             ],
             [
              0.3333333333333333,
              "#9c179e"
             ],
             [
              0.4444444444444444,
              "#bd3786"
             ],
             [
              0.5555555555555556,
              "#d8576b"
             ],
             [
              0.6666666666666666,
              "#ed7953"
             ],
             [
              0.7777777777777778,
              "#fb9f3a"
             ],
             [
              0.8888888888888888,
              "#fdca26"
             ],
             [
              1,
              "#f0f921"
             ]
            ],
            "type": "contour"
           }
          ],
          "contourcarpet": [
           {
            "colorbar": {
             "outlinewidth": 0,
             "ticks": ""
            },
            "type": "contourcarpet"
           }
          ],
          "heatmap": [
           {
            "colorbar": {
             "outlinewidth": 0,
             "ticks": ""
            },
            "colorscale": [
             [
              0,
              "#0d0887"
             ],
             [
              0.1111111111111111,
              "#46039f"
             ],
             [
              0.2222222222222222,
              "#7201a8"
             ],
             [
              0.3333333333333333,
              "#9c179e"
             ],
             [
              0.4444444444444444,
              "#bd3786"
             ],
             [
              0.5555555555555556,
              "#d8576b"
             ],
             [
              0.6666666666666666,
              "#ed7953"
             ],
             [
              0.7777777777777778,
              "#fb9f3a"
             ],
             [
              0.8888888888888888,
              "#fdca26"
             ],
             [
              1,
              "#f0f921"
             ]
            ],
            "type": "heatmap"
           }
          ],
          "heatmapgl": [
           {
            "colorbar": {
             "outlinewidth": 0,
             "ticks": ""
            },
            "colorscale": [
             [
              0,
              "#0d0887"
             ],
             [
              0.1111111111111111,
              "#46039f"
             ],
             [
              0.2222222222222222,
              "#7201a8"
             ],
             [
              0.3333333333333333,
              "#9c179e"
             ],
             [
              0.4444444444444444,
              "#bd3786"
             ],
             [
              0.5555555555555556,
              "#d8576b"
             ],
             [
              0.6666666666666666,
              "#ed7953"
             ],
             [
              0.7777777777777778,
              "#fb9f3a"
             ],
             [
              0.8888888888888888,
              "#fdca26"
             ],
             [
              1,
              "#f0f921"
             ]
            ],
            "type": "heatmapgl"
           }
          ],
          "histogram": [
           {
            "marker": {
             "pattern": {
              "fillmode": "overlay",
              "size": 10,
              "solidity": 0.2
             }
            },
            "type": "histogram"
           }
          ],
          "histogram2d": [
           {
            "colorbar": {
             "outlinewidth": 0,
             "ticks": ""
            },
            "colorscale": [
             [
              0,
              "#0d0887"
             ],
             [
              0.1111111111111111,
              "#46039f"
             ],
             [
              0.2222222222222222,
              "#7201a8"
             ],
             [
              0.3333333333333333,
              "#9c179e"
             ],
             [
              0.4444444444444444,
              "#bd3786"
             ],
             [
              0.5555555555555556,
              "#d8576b"
             ],
             [
              0.6666666666666666,
              "#ed7953"
             ],
             [
              0.7777777777777778,
              "#fb9f3a"
             ],
             [
              0.8888888888888888,
              "#fdca26"
             ],
             [
              1,
              "#f0f921"
             ]
            ],
            "type": "histogram2d"
           }
          ],
          "histogram2dcontour": [
           {
            "colorbar": {
             "outlinewidth": 0,
             "ticks": ""
            },
            "colorscale": [
             [
              0,
              "#0d0887"
             ],
             [
              0.1111111111111111,
              "#46039f"
             ],
             [
              0.2222222222222222,
              "#7201a8"
             ],
             [
              0.3333333333333333,
              "#9c179e"
             ],
             [
              0.4444444444444444,
              "#bd3786"
             ],
             [
              0.5555555555555556,
              "#d8576b"
             ],
             [
              0.6666666666666666,
              "#ed7953"
             ],
             [
              0.7777777777777778,
              "#fb9f3a"
             ],
             [
              0.8888888888888888,
              "#fdca26"
             ],
             [
              1,
              "#f0f921"
             ]
            ],
            "type": "histogram2dcontour"
           }
          ],
          "mesh3d": [
           {
            "colorbar": {
             "outlinewidth": 0,
             "ticks": ""
            },
            "type": "mesh3d"
           }
          ],
          "parcoords": [
           {
            "line": {
             "colorbar": {
              "outlinewidth": 0,
              "ticks": ""
             }
            },
            "type": "parcoords"
           }
          ],
          "pie": [
           {
            "automargin": true,
            "type": "pie"
           }
          ],
          "scatter": [
           {
            "marker": {
             "colorbar": {
              "outlinewidth": 0,
              "ticks": ""
             }
            },
            "type": "scatter"
           }
          ],
          "scatter3d": [
           {
            "line": {
             "colorbar": {
              "outlinewidth": 0,
              "ticks": ""
             }
            },
            "marker": {
             "colorbar": {
              "outlinewidth": 0,
              "ticks": ""
             }
            },
            "type": "scatter3d"
           }
          ],
          "scattercarpet": [
           {
            "marker": {
             "colorbar": {
              "outlinewidth": 0,
              "ticks": ""
             }
            },
            "type": "scattercarpet"
           }
          ],
          "scattergeo": [
           {
            "marker": {
             "colorbar": {
              "outlinewidth": 0,
              "ticks": ""
             }
            },
            "type": "scattergeo"
           }
          ],
          "scattergl": [
           {
            "marker": {
             "colorbar": {
              "outlinewidth": 0,
              "ticks": ""
             }
            },
            "type": "scattergl"
           }
          ],
          "scattermapbox": [
           {
            "marker": {
             "colorbar": {
              "outlinewidth": 0,
              "ticks": ""
             }
            },
            "type": "scattermapbox"
           }
          ],
          "scatterpolar": [
           {
            "marker": {
             "colorbar": {
              "outlinewidth": 0,
              "ticks": ""
             }
            },
            "type": "scatterpolar"
           }
          ],
          "scatterpolargl": [
           {
            "marker": {
             "colorbar": {
              "outlinewidth": 0,
              "ticks": ""
             }
            },
            "type": "scatterpolargl"
           }
          ],
          "scatterternary": [
           {
            "marker": {
             "colorbar": {
              "outlinewidth": 0,
              "ticks": ""
             }
            },
            "type": "scatterternary"
           }
          ],
          "surface": [
           {
            "colorbar": {
             "outlinewidth": 0,
             "ticks": ""
            },
            "colorscale": [
             [
              0,
              "#0d0887"
             ],
             [
              0.1111111111111111,
              "#46039f"
             ],
             [
              0.2222222222222222,
              "#7201a8"
             ],
             [
              0.3333333333333333,
              "#9c179e"
             ],
             [
              0.4444444444444444,
              "#bd3786"
             ],
             [
              0.5555555555555556,
              "#d8576b"
             ],
             [
              0.6666666666666666,
              "#ed7953"
             ],
             [
              0.7777777777777778,
              "#fb9f3a"
             ],
             [
              0.8888888888888888,
              "#fdca26"
             ],
             [
              1,
              "#f0f921"
             ]
            ],
            "type": "surface"
           }
          ],
          "table": [
           {
            "cells": {
             "fill": {
              "color": "#EBF0F8"
             },
             "line": {
              "color": "white"
             }
            },
            "header": {
             "fill": {
              "color": "#C8D4E3"
             },
             "line": {
              "color": "white"
             }
            },
            "type": "table"
           }
          ]
         },
         "layout": {
          "annotationdefaults": {
           "arrowcolor": "#2a3f5f",
           "arrowhead": 0,
           "arrowwidth": 1
          },
          "autotypenumbers": "strict",
          "coloraxis": {
           "colorbar": {
            "outlinewidth": 0,
            "ticks": ""
           }
          },
          "colorscale": {
           "diverging": [
            [
             0,
             "#8e0152"
            ],
            [
             0.1,
             "#c51b7d"
            ],
            [
             0.2,
             "#de77ae"
            ],
            [
             0.3,
             "#f1b6da"
            ],
            [
             0.4,
             "#fde0ef"
            ],
            [
             0.5,
             "#f7f7f7"
            ],
            [
             0.6,
             "#e6f5d0"
            ],
            [
             0.7,
             "#b8e186"
            ],
            [
             0.8,
             "#7fbc41"
            ],
            [
             0.9,
             "#4d9221"
            ],
            [
             1,
             "#276419"
            ]
           ],
           "sequential": [
            [
             0,
             "#0d0887"
            ],
            [
             0.1111111111111111,
             "#46039f"
            ],
            [
             0.2222222222222222,
             "#7201a8"
            ],
            [
             0.3333333333333333,
             "#9c179e"
            ],
            [
             0.4444444444444444,
             "#bd3786"
            ],
            [
             0.5555555555555556,
             "#d8576b"
            ],
            [
             0.6666666666666666,
             "#ed7953"
            ],
            [
             0.7777777777777778,
             "#fb9f3a"
            ],
            [
             0.8888888888888888,
             "#fdca26"
            ],
            [
             1,
             "#f0f921"
            ]
           ],
           "sequentialminus": [
            [
             0,
             "#0d0887"
            ],
            [
             0.1111111111111111,
             "#46039f"
            ],
            [
             0.2222222222222222,
             "#7201a8"
            ],
            [
             0.3333333333333333,
             "#9c179e"
            ],
            [
             0.4444444444444444,
             "#bd3786"
            ],
            [
             0.5555555555555556,
             "#d8576b"
            ],
            [
             0.6666666666666666,
             "#ed7953"
            ],
            [
             0.7777777777777778,
             "#fb9f3a"
            ],
            [
             0.8888888888888888,
             "#fdca26"
            ],
            [
             1,
             "#f0f921"
            ]
           ]
          },
          "colorway": [
           "#636efa",
           "#EF553B",
           "#00cc96",
           "#ab63fa",
           "#FFA15A",
           "#19d3f3",
           "#FF6692",
           "#B6E880",
           "#FF97FF",
           "#FECB52"
          ],
          "font": {
           "color": "#2a3f5f"
          },
          "geo": {
           "bgcolor": "white",
           "lakecolor": "white",
           "landcolor": "#E5ECF6",
           "showlakes": true,
           "showland": true,
           "subunitcolor": "white"
          },
          "hoverlabel": {
           "align": "left"
          },
          "hovermode": "closest",
          "mapbox": {
           "style": "light"
          },
          "paper_bgcolor": "white",
          "plot_bgcolor": "#E5ECF6",
          "polar": {
           "angularaxis": {
            "gridcolor": "white",
            "linecolor": "white",
            "ticks": ""
           },
           "bgcolor": "#E5ECF6",
           "radialaxis": {
            "gridcolor": "white",
            "linecolor": "white",
            "ticks": ""
           }
          },
          "scene": {
           "xaxis": {
            "backgroundcolor": "#E5ECF6",
            "gridcolor": "white",
            "gridwidth": 2,
            "linecolor": "white",
            "showbackground": true,
            "ticks": "",
            "zerolinecolor": "white"
           },
           "yaxis": {
            "backgroundcolor": "#E5ECF6",
            "gridcolor": "white",
            "gridwidth": 2,
            "linecolor": "white",
            "showbackground": true,
            "ticks": "",
            "zerolinecolor": "white"
           },
           "zaxis": {
            "backgroundcolor": "#E5ECF6",
            "gridcolor": "white",
            "gridwidth": 2,
            "linecolor": "white",
            "showbackground": true,
            "ticks": "",
            "zerolinecolor": "white"
           }
          },
          "shapedefaults": {
           "line": {
            "color": "#2a3f5f"
           }
          },
          "ternary": {
           "aaxis": {
            "gridcolor": "white",
            "linecolor": "white",
            "ticks": ""
           },
           "baxis": {
            "gridcolor": "white",
            "linecolor": "white",
            "ticks": ""
           },
           "bgcolor": "#E5ECF6",
           "caxis": {
            "gridcolor": "white",
            "linecolor": "white",
            "ticks": ""
           }
          },
          "title": {
           "x": 0.05
          },
          "xaxis": {
           "automargin": true,
           "gridcolor": "white",
           "linecolor": "white",
           "ticks": "",
           "title": {
            "standoff": 15
           },
           "zerolinecolor": "white",
           "zerolinewidth": 2
          },
          "yaxis": {
           "automargin": true,
           "gridcolor": "white",
           "linecolor": "white",
           "ticks": "",
           "title": {
            "standoff": 15
           },
           "zerolinecolor": "white",
           "zerolinewidth": 2
          }
         }
        },
        "title": {
         "text": "Zero Weight Counts Per Iteration"
        },
        "width": 800,
        "xaxis": {
         "anchor": "y",
         "autorange": true,
         "domain": [
          0,
          1
         ],
         "range": [
          0,
          10
         ],
         "title": {
          "text": "index"
         },
         "type": "linear"
        },
        "yaxis": {
         "anchor": "x",
         "autorange": true,
         "domain": [
          0,
          1
         ],
         "range": [
          1495.7222222222222,
          7221.277777777777
         ],
         "title": {
          "text": "total_zeros"
         },
         "type": "linear"
        }
       }
      },
      "image/png": "[encoded data removed]",
      "text/html": [
       "<div>                            <div id=\"05c0d343-2015-40bf-b23e-d84f82e7e69f\" class=\"plotly-graph-div\" style=\"height:500px; width:800px;\"></div>            <script type=\"text/javascript\">                require([\"plotly\"], function(Plotly) {                    window.PLOTLYENV=window.PLOTLYENV || {};                                    if (document.getElementById(\"05c0d343-2015-40bf-b23e-d84f82e7e69f\")) {                    Plotly.newPlot(                        \"05c0d343-2015-40bf-b23e-d84f82e7e69f\",                        [{\"hovertemplate\":\"index=%{x}<br>total_zeros=%{y}<extra></extra>\",\"legendgroup\":\"\",\"line\":{\"color\":\"#636efa\",\"dash\":\"solid\"},\"marker\":{\"symbol\":\"circle\"},\"mode\":\"lines\",\"name\":\"\",\"orientation\":\"v\",\"showlegend\":false,\"type\":\"scatter\",\"x\":[0,1,2,3,4,5,6,7,8,9,10],\"xaxis\":\"x\",\"y\":[6935.0,2195.0,1887.0,1860.0,1782.0,1850.0,1850.0,1850.0,1850.0,1850.0,1850.0],\"yaxis\":\"y\"}],                        {\"autosize\":false,\"height\":500,\"legend\":{\"tracegroupgap\":0},\"margin\":{\"t\":60},\"template\":{\"data\":{\"bar\":[{\"error_x\":{\"color\":\"#2a3f5f\"},\"error_y\":{\"color\":\"#2a3f5f\"},\"marker\":{\"line\":{\"color\":\"#E5ECF6\",\"width\":0.5},\"pattern\":{\"fillmode\":\"overlay\",\"size\":10,\"solidity\":0.2}},\"type\":\"bar\"}],\"barpolar\":[{\"marker\":{\"line\":{\"color\":\"#E5ECF6\",\"width\":0.5},\"pattern\":{\"fillmode\":\"overlay\",\"size\":10,\"solidity\":0.2}},\"type\":\"barpolar\"}],\"carpet\":[{\"aaxis\":{\"endlinecolor\":\"#2a3f5f\",\"gridcolor\":\"white\",\"linecolor\":\"white\",\"minorgridcolor\":\"white\",\"startlinecolor\":\"#2a3f5f\"},\"baxis\":{\"endlinecolor\":\"#2a3f5f\",\"gridcolor\":\"white\",\"linecolor\":\"white\",\"minorgridcolor\":\"white\",\"startlinecolor\":\"#2a3f5f\"},\"type\":\"carpet\"}],\"choropleth\":[{\"colorbar\":{\"outlinewidth\":0,\"ticks\":\"\"},\"type\":\"choropleth\"}],\"contour\":[{\"colorbar\":{\"outlinewidth\":0,\"ticks\":\"\"},\"colorscale\":[[0.0,\"#0d0887\"],[0.1111111111111111,\"#46039f\"],[0.2222222222222222,\"#7201a8\"],[0.3333333333333333,\"#9c179e\"],[0.4444444444444444,\"#bd3786\"],[0.5555555555555556,\"#d8576b\"],[0.6666666666666666,\"#ed7953\"],[0.7777777777777778,\"#fb9f3a\"],[0.8888888888888888,\"#fdca26\"],[1.0,\"#f0f921\"]],\"type\":\"contour\"}],\"contourcarpet\":[{\"colorbar\":{\"outlinewidth\":0,\"ticks\":\"\"},\"type\":\"contourcarpet\"}],\"heatmap\":[{\"colorbar\":{\"outlinewidth\":0,\"ticks\":\"\"},\"colorscale\":[[0.0,\"#0d0887\"],[0.1111111111111111,\"#46039f\"],[0.2222222222222222,\"#7201a8\"],[0.3333333333333333,\"#9c179e\"],[0.4444444444444444,\"#bd3786\"],[0.5555555555555556,\"#d8576b\"],[0.6666666666666666,\"#ed7953\"],[0.7777777777777778,\"#fb9f3a\"],[0.8888888888888888,\"#fdca26\"],[1.0,\"#f0f921\"]],\"type\":\"heatmap\"}],\"heatmapgl\":[{\"colorbar\":{\"outlinewidth\":0,\"ticks\":\"\"},\"colorscale\":[[0.0,\"#0d0887\"],[0.1111111111111111,\"#46039f\"],[0.2222222222222222,\"#7201a8\"],[0.3333333333333333,\"#9c179e\"],[0.4444444444444444,\"#bd3786\"],[0.5555555555555556,\"#d8576b\"],[0.6666666666666666,\"#ed7953\"],[0.7777777777777778,\"#fb9f3a\"],[0.8888888888888888,\"#fdca26\"],[1.0,\"#f0f921\"]],\"type\":\"heatmapgl\"}],\"histogram\":[{\"marker\":{\"pattern\":{\"fillmode\":\"overlay\",\"size\":10,\"solidity\":0.2}},\"type\":\"histogram\"}],\"histogram2d\":[{\"colorbar\":{\"outlinewidth\":0,\"ticks\":\"\"},\"colorscale\":[[0.0,\"#0d0887\"],[0.1111111111111111,\"#46039f\"],[0.2222222222222222,\"#7201a8\"],[0.3333333333333333,\"#9c179e\"],[0.4444444444444444,\"#bd3786\"],[0.5555555555555556,\"#d8576b\"],[0.6666666666666666,\"#ed7953\"],[0.7777777777777778,\"#fb9f3a\"],[0.8888888888888888,\"#fdca26\"],[1.0,\"#f0f921\"]],\"type\":\"histogram2d\"}],\"histogram2dcontour\":[{\"colorbar\":{\"outlinewidth\":0,\"ticks\":\"\"},\"colorscale\":[[0.0,\"#0d0887\"],[0.1111111111111111,\"#46039f\"],[0.2222222222222222,\"#7201a8\"],[0.3333333333333333,\"#9c179e\"],[0.4444444444444444,\"#bd3786\"],[0.5555555555555556,\"#d8576b\"],[0.6666666666666666,\"#ed7953\"],[0.7777777777777778,\"#fb9f3a\"],[0.8888888888888888,\"#fdca26\"],[1.0,\"#f0f921\"]],\"type\":\"histogram2dcontour\"}],\"mesh3d\":[{\"colorbar\":{\"outlinewidth\":0,\"ticks\":\"\"},\"type\":\"mesh3d\"}],\"parcoords\":[{\"line\":{\"colorbar\":{\"outlinewidth\":0,\"ticks\":\"\"}},\"type\":\"parcoords\"}],\"pie\":[{\"automargin\":true,\"type\":\"pie\"}],\"scatter\":[{\"marker\":{\"colorbar\":{\"outlinewidth\":0,\"ticks\":\"\"}},\"type\":\"scatter\"}],\"scatter3d\":[{\"line\":{\"colorbar\":{\"outlinewidth\":0,\"ticks\":\"\"}},\"marker\":{\"colorbar\":{\"outlinewidth\":0,\"ticks\":\"\"}},\"type\":\"scatter3d\"}],\"scattercarpet\":[{\"marker\":{\"colorbar\":{\"outlinewidth\":0,\"ticks\":\"\"}},\"type\":\"scattercarpet\"}],\"scattergeo\":[{\"marker\":{\"colorbar\":{\"outlinewidth\":0,\"ticks\":\"\"}},\"type\":\"scattergeo\"}],\"scattergl\":[{\"marker\":{\"colorbar\":{\"outlinewidth\":0,\"ticks\":\"\"}},\"type\":\"scattergl\"}],\"scattermapbox\":[{\"marker\":{\"colorbar\":{\"outlinewidth\":0,\"ticks\":\"\"}},\"type\":\"scattermapbox\"}],\"scatterpolar\":[{\"marker\":{\"colorbar\":{\"outlinewidth\":0,\"ticks\":\"\"}},\"type\":\"scatterpolar\"}],\"scatterpolargl\":[{\"marker\":{\"colorbar\":{\"outlinewidth\":0,\"ticks\":\"\"}},\"type\":\"scatterpolargl\"}],\"scatterternary\":[{\"marker\":{\"colorbar\":{\"outlinewidth\":0,\"ticks\":\"\"}},\"type\":\"scatterternary\"}],\"surface\":[{\"colorbar\":{\"outlinewidth\":0,\"ticks\":\"\"},\"colorscale\":[[0.0,\"#0d0887\"],[0.1111111111111111,\"#46039f\"],[0.2222222222222222,\"#7201a8\"],[0.3333333333333333,\"#9c179e\"],[0.4444444444444444,\"#bd3786\"],[0.5555555555555556,\"#d8576b\"],[0.6666666666666666,\"#ed7953\"],[0.7777777777777778,\"#fb9f3a\"],[0.8888888888888888,\"#fdca26\"],[1.0,\"#f0f921\"]],\"type\":\"surface\"}],\"table\":[{\"cells\":{\"fill\":{\"color\":\"#EBF0F8\"},\"line\":{\"color\":\"white\"}},\"header\":{\"fill\":{\"color\":\"#C8D4E3\"},\"line\":{\"color\":\"white\"}},\"type\":\"table\"}]},\"layout\":{\"annotationdefaults\":{\"arrowcolor\":\"#2a3f5f\",\"arrowhead\":0,\"arrowwidth\":1},\"autotypenumbers\":\"strict\",\"coloraxis\":{\"colorbar\":{\"outlinewidth\":0,\"ticks\":\"\"}},\"colorscale\":{\"diverging\":[[0,\"#8e0152\"],[0.1,\"#c51b7d\"],[0.2,\"#de77ae\"],[0.3,\"#f1b6da\"],[0.4,\"#fde0ef\"],[0.5,\"#f7f7f7\"],[0.6,\"#e6f5d0\"],[0.7,\"#b8e186\"],[0.8,\"#7fbc41\"],[0.9,\"#4d9221\"],[1,\"#276419\"]],\"sequential\":[[0.0,\"#0d0887\"],[0.1111111111111111,\"#46039f\"],[0.2222222222222222,\"#7201a8\"],[0.3333333333333333,\"#9c179e\"],[0.4444444444444444,\"#bd3786\"],[0.5555555555555556,\"#d8576b\"],[0.6666666666666666,\"#ed7953\"],[0.7777777777777778,\"#fb9f3a\"],[0.8888888888888888,\"#fdca26\"],[1.0,\"#f0f921\"]],\"sequentialminus\":[[0.0,\"#0d0887\"],[0.1111111111111111,\"#46039f\"],[0.2222222222222222,\"#7201a8\"],[0.3333333333333333,\"#9c179e\"],[0.4444444444444444,\"#bd3786\"],[0.5555555555555556,\"#d8576b\"],[0.6666666666666666,\"#ed7953\"],[0.7777777777777778,\"#fb9f3a\"],[0.8888888888888888,\"#fdca26\"],[1.0,\"#f0f921\"]]},\"colorway\":[\"#636efa\",\"#EF553B\",\"#00cc96\",\"#ab63fa\",\"#FFA15A\",\"#19d3f3\",\"#FF6692\",\"#B6E880\",\"#FF97FF\",\"#FECB52\"],\"font\":{\"color\":\"#2a3f5f\"},\"geo\":{\"bgcolor\":\"white\",\"lakecolor\":\"white\",\"landcolor\":\"#E5ECF6\",\"showlakes\":true,\"showland\":true,\"subunitcolor\":\"white\"},\"hoverlabel\":{\"align\":\"left\"},\"hovermode\":\"closest\",\"mapbox\":{\"style\":\"light\"},\"paper_bgcolor\":\"white\",\"plot_bgcolor\":\"#E5ECF6\",\"polar\":{\"angularaxis\":{\"gridcolor\":\"white\",\"linecolor\":\"white\",\"ticks\":\"\"},\"bgcolor\":\"#E5ECF6\",\"radialaxis\":{\"gridcolor\":\"white\",\"linecolor\":\"white\",\"ticks\":\"\"}},\"scene\":{\"xaxis\":{\"backgroundcolor\":\"#E5ECF6\",\"gridcolor\":\"white\",\"gridwidth\":2,\"linecolor\":\"white\",\"showbackground\":true,\"ticks\":\"\",\"zerolinecolor\":\"white\"},\"yaxis\":{\"backgroundcolor\":\"#E5ECF6\",\"gridcolor\":\"white\",\"gridwidth\":2,\"linecolor\":\"white\",\"showbackground\":true,\"ticks\":\"\",\"zerolinecolor\":\"white\"},\"zaxis\":{\"backgroundcolor\":\"#E5ECF6\",\"gridcolor\":\"white\",\"gridwidth\":2,\"linecolor\":\"white\",\"showbackground\":true,\"ticks\":\"\",\"zerolinecolor\":\"white\"}},\"shapedefaults\":{\"line\":{\"color\":\"#2a3f5f\"}},\"ternary\":{\"aaxis\":{\"gridcolor\":\"white\",\"linecolor\":\"white\",\"ticks\":\"\"},\"baxis\":{\"gridcolor\":\"white\",\"linecolor\":\"white\",\"ticks\":\"\"},\"bgcolor\":\"#E5ECF6\",\"caxis\":{\"gridcolor\":\"white\",\"linecolor\":\"white\",\"ticks\":\"\"}},\"title\":{\"x\":0.05},\"xaxis\":{\"automargin\":true,\"gridcolor\":\"white\",\"linecolor\":\"white\",\"ticks\":\"\",\"title\":{\"standoff\":15},\"zerolinecolor\":\"white\",\"zerolinewidth\":2},\"yaxis\":{\"automargin\":true,\"gridcolor\":\"white\",\"linecolor\":\"white\",\"ticks\":\"\",\"title\":{\"standoff\":15},\"zerolinecolor\":\"white\",\"zerolinewidth\":2}}},\"title\":{\"text\":\"Zero Weight Counts Per Iteration\"},\"width\":800,\"xaxis\":{\"anchor\":\"y\",\"domain\":[0.0,1.0],\"title\":{\"text\":\"index\"}},\"yaxis\":{\"anchor\":\"x\",\"domain\":[0.0,1.0],\"title\":{\"text\":\"total_zeros\"}}},                        {\"responsive\": true}                    ).then(function(){\n",
       "                            \n",
       "var gd = document.getElementById('05c0d343-2015-40bf-b23e-d84f82e7e69f');\n",
       "var x = new MutationObserver(function (mutations, observer) {{\n",
       "        var display = window.getComputedStyle(gd).display;\n",
       "        if (!display || display === 'none') {{\n",
       "            console.log([gd, 'removed!']);\n",
       "            Plotly.purge(gd);\n",
       "            observer.disconnect();\n",
       "        }}\n",
       "}});\n",
       "\n",
       "// Listen for the removal of the full notebook cells\n",
       "var notebookContainer = gd.closest('#notebook-container');\n",
       "if (notebookContainer) {{\n",
       "    x.observe(notebookContainer, {childList: true});\n",
       "}}\n",
       "\n",
       "// Listen for the clearing of the current output cell\n",
       "var outputEl = gd.closest('.output');\n",
       "if (outputEl) {{\n",
       "    x.observe(outputEl, {childList: true});\n",
       "}}\n",
       "\n",
       "                        })                };                });            </script>        </div>"
      ]
     },
     "metadata": {},
     "output_type": "display_data"
    }
   ],
   "source": [
    "fig = px.line(r2, x=r2.index, y=r2.total_zeros)\n",
    "\n",
    "fig.update_layout(\n",
    "    autosize=False,\n",
    "    width=800,\n",
    "    height=500,\n",
    "    title_text=f\"Zero Weight Counts Per Iteration\",\n",
    ")\n",
    "\n",
    "fig.show()"
   ]
  },
  {
   "cell_type": "code",
   "execution_count": null,
   "id": "c6311065-0ed0-4ab2-99a1-eba929625194",
   "metadata": {},
   "outputs": [],
   "source": []
  },
  {
   "cell_type": "code",
   "execution_count": 11,
   "id": "11a4bbbb-d829-42bb-8ad3-2e6652d890ad",
   "metadata": {},
   "outputs": [
    {
     "data": {
      "text/html": [
       "<div><div id=504b658c-eec8-4824-bd8e-105a20ed1399 style=\"display:none; background-color:#9D6CFF; color:white; width:200px; height:30px; padding-left:5px; border-radius:4px; flex-direction:row; justify-content:space-around; align-items:center;\" onmouseover=\"this.style.backgroundColor='#BA9BF8'\" onmouseout=\"this.style.backgroundColor='#9D6CFF'\" onclick=\"window.commands?.execute('create-mitosheet-from-dataframe-output');\">See Full Dataframe in Mito</div> <script> if (window.commands.hasCommand('create-mitosheet-from-dataframe-output')) document.getElementById('504b658c-eec8-4824-bd8e-105a20ed1399').style.display = 'flex' </script> <table border=\"1\" class=\"dataframe\">\n",
       "  <thead>\n",
       "    <tr style=\"text-align: right;\">\n",
       "      <th></th>\n",
       "      <th>Feature Name</th>\n",
       "      <th>Importance</th>\n",
       "      <th>index</th>\n",
       "      <th>Zero_Count</th>\n",
       "      <th>Iteration</th>\n",
       "    </tr>\n",
       "  </thead>\n",
       "  <tbody>\n",
       "    <tr>\n",
       "      <th>0</th>\n",
       "      <td>Output 01</td>\n",
       "      <td>0.591168</td>\n",
       "      <td>Output 01</td>\n",
       "      <td>0</td>\n",
       "      <td>0</td>\n",
       "    </tr>\n",
       "    <tr>\n",
       "      <th>1</th>\n",
       "      <td>Input 03</td>\n",
       "      <td>0.066638</td>\n",
       "      <td>Input 03</td>\n",
       "      <td>550</td>\n",
       "      <td>0</td>\n",
       "    </tr>\n",
       "    <tr>\n",
       "      <th>2</th>\n",
       "      <td>Input 02</td>\n",
       "      <td>0.066527</td>\n",
       "      <td>Input 02</td>\n",
       "      <td>436</td>\n",
       "      <td>0</td>\n",
       "    </tr>\n",
       "    <tr>\n",
       "      <th>3</th>\n",
       "      <td>Input 11</td>\n",
       "      <td>0.047870</td>\n",
       "      <td>Input 11</td>\n",
       "      <td>507</td>\n",
       "      <td>0</td>\n",
       "    </tr>\n",
       "    <tr>\n",
       "      <th>4</th>\n",
       "      <td>Input 06</td>\n",
       "      <td>0.044040</td>\n",
       "      <td>Input 06</td>\n",
       "      <td>399</td>\n",
       "      <td>0</td>\n",
       "    </tr>\n",
       "    <tr>\n",
       "      <th>...</th>\n",
       "      <td>...</td>\n",
       "      <td>...</td>\n",
       "      <td>...</td>\n",
       "      <td>...</td>\n",
       "      <td>...</td>\n",
       "    </tr>\n",
       "    <tr>\n",
       "      <th>151</th>\n",
       "      <td>Input 07</td>\n",
       "      <td>0.008588</td>\n",
       "      <td>Input 07</td>\n",
       "      <td>108</td>\n",
       "      <td>10</td>\n",
       "    </tr>\n",
       "    <tr>\n",
       "      <th>152</th>\n",
       "      <td>Input 05</td>\n",
       "      <td>0.006567</td>\n",
       "      <td>Input 05</td>\n",
       "      <td>122</td>\n",
       "      <td>10</td>\n",
       "    </tr>\n",
       "    <tr>\n",
       "      <th>153</th>\n",
       "      <td>Input 01</td>\n",
       "      <td>0.004527</td>\n",
       "      <td>Input 01</td>\n",
       "      <td>170</td>\n",
       "      <td>10</td>\n",
       "    </tr>\n",
       "    <tr>\n",
       "      <th>154</th>\n",
       "      <td>Input 12</td>\n",
       "      <td>0.003372</td>\n",
       "      <td>Input 12</td>\n",
       "      <td>593</td>\n",
       "      <td>10</td>\n",
       "    </tr>\n",
       "    <tr>\n",
       "      <th>155</th>\n",
       "      <td>Input 09</td>\n",
       "      <td>0.002516</td>\n",
       "      <td>Input 09</td>\n",
       "      <td>710</td>\n",
       "      <td>10</td>\n",
       "    </tr>\n",
       "  </tbody>\n",
       "</table></div>"
      ],
      "text/plain": [
       "    Feature Name  Importance      index  Zero_Count  Iteration\n",
       "0      Output 01    0.591168  Output 01           0          0\n",
       "1       Input 03    0.066638   Input 03         550          0\n",
       "2       Input 02    0.066527   Input 02         436          0\n",
       "3       Input 11    0.047870   Input 11         507          0\n",
       "4       Input 06    0.044040   Input 06         399          0\n",
       "..           ...         ...        ...         ...        ...\n",
       "151     Input 07    0.008588   Input 07         108         10\n",
       "152     Input 05    0.006567   Input 05         122         10\n",
       "153     Input 01    0.004527   Input 01         170         10\n",
       "154     Input 12    0.003372   Input 12         593         10\n",
       "155     Input 09    0.002516   Input 09         710         10\n",
       "\n",
       "[156 rows x 5 columns]"
      ]
     },
     "execution_count": 11,
     "metadata": {},
     "output_type": "execute_result"
    }
   ],
   "source": [
    "df_imp = pd.read_pickle('Data/Data12_1/GB_12I1O_1_df_imp.pkl')\n",
    "df_imp"
   ]
  },
  {
   "cell_type": "code",
   "execution_count": 12,
   "id": "12eb0fd0-a7d6-425d-b973-00ab648b2a8b",
   "metadata": {},
   "outputs": [
    {
     "data": {
      "application/vnd.plotly.v1+json": {
       "config": {
        "plotlyServerURL": "https://plot.ly"
       },
       "data": [
        {
         "alignmentgroup": "True",
         "hovertemplate": "Feature Name=%{y}<br>Iteration=10<br>Importance=%{x}<extra></extra>",
         "ids": [
          "Output 01"
         ],
         "legendgroup": "Output 01",
         "marker": {
          "color": "#4C78A8",
          "pattern": {
           "shape": ""
          }
         },
         "name": "Output 01",
         "offsetgroup": "Output 01",
         "orientation": "h",
         "showlegend": true,
         "textposition": "auto",
         "type": "bar",
         "visible": "legendonly",
         "x": [
          0.7161410224725174
         ],
         "xaxis": "x",
         "y": [
          "Output 01"
         ],
         "yaxis": "y"
        },
        {
         "alignmentgroup": "True",
         "hovertemplate": "Feature Name=%{y}<br>Iteration=10<br>Importance=%{x}<extra></extra>",
         "ids": [
          "Input 03"
         ],
         "legendgroup": "Input 03",
         "marker": {
          "color": "#F58518",
          "pattern": {
           "shape": ""
          }
         },
         "name": "Input 03",
         "offsetgroup": "Input 03",
         "orientation": "h",
         "showlegend": true,
         "textposition": "auto",
         "type": "bar",
         "x": [
          0.11314786761851021
         ],
         "xaxis": "x",
         "y": [
          "Input 03"
         ],
         "yaxis": "y"
        },
        {
         "alignmentgroup": "True",
         "hovertemplate": "Feature Name=%{y}<br>Iteration=10<br>Importance=%{x}<extra></extra>",
         "ids": [
          "Input 02"
         ],
         "legendgroup": "Input 02",
         "marker": {
          "color": "#E45756",
          "pattern": {
           "shape": ""
          }
         },
         "name": "Input 02",
         "offsetgroup": "Input 02",
         "orientation": "h",
         "showlegend": true,
         "textposition": "auto",
         "type": "bar",
         "x": [
          0.05186910067947614
         ],
         "xaxis": "x",
         "y": [
          "Input 02"
         ],
         "yaxis": "y"
        },
        {
         "alignmentgroup": "True",
         "hovertemplate": "Feature Name=%{y}<br>Iteration=10<br>Importance=%{x}<extra></extra>",
         "ids": [
          "Input 11"
         ],
         "legendgroup": "Input 11",
         "marker": {
          "color": "#72B7B2",
          "pattern": {
           "shape": ""
          }
         },
         "name": "Input 11",
         "offsetgroup": "Input 11",
         "orientation": "h",
         "showlegend": true,
         "textposition": "auto",
         "type": "bar",
         "x": [
          0.012099172275508404
         ],
         "xaxis": "x",
         "y": [
          "Input 11"
         ],
         "yaxis": "y"
        },
        {
         "alignmentgroup": "True",
         "hovertemplate": "Feature Name=%{y}<br>Iteration=10<br>Importance=%{x}<extra></extra>",
         "ids": [
          "Input 06"
         ],
         "legendgroup": "Input 06",
         "marker": {
          "color": "#54A24B",
          "pattern": {
           "shape": ""
          }
         },
         "name": "Input 06",
         "offsetgroup": "Input 06",
         "orientation": "h",
         "showlegend": true,
         "textposition": "auto",
         "type": "bar",
         "x": [
          0.019340622845962156
         ],
         "xaxis": "x",
         "y": [
          "Input 06"
         ],
         "yaxis": "y"
        },
        {
         "alignmentgroup": "True",
         "hovertemplate": "Feature Name=%{y}<br>Iteration=10<br>Importance=%{x}<extra></extra>",
         "ids": [
          "Input 08"
         ],
         "legendgroup": "Input 08",
         "marker": {
          "color": "#EECA3B",
          "pattern": {
           "shape": ""
          }
         },
         "name": "Input 08",
         "offsetgroup": "Input 08",
         "orientation": "h",
         "showlegend": true,
         "textposition": "auto",
         "type": "bar",
         "x": [
          0.03497132804503161
         ],
         "xaxis": "x",
         "y": [
          "Input 08"
         ],
         "yaxis": "y"
        },
        {
         "alignmentgroup": "True",
         "hovertemplate": "Feature Name=%{y}<br>Iteration=10<br>Importance=%{x}<extra></extra>",
         "ids": [
          "Input 01"
         ],
         "legendgroup": "Input 01",
         "marker": {
          "color": "#B279A2",
          "pattern": {
           "shape": ""
          }
         },
         "name": "Input 01",
         "offsetgroup": "Input 01",
         "orientation": "h",
         "showlegend": true,
         "textposition": "auto",
         "type": "bar",
         "x": [
          0.004526515892360297
         ],
         "xaxis": "x",
         "y": [
          "Input 01"
         ],
         "yaxis": "y"
        },
        {
         "alignmentgroup": "True",
         "hovertemplate": "Feature Name=%{y}<br>Iteration=10<br>Importance=%{x}<extra></extra>",
         "ids": [
          "Input 04"
         ],
         "legendgroup": "Input 04",
         "marker": {
          "color": "#FF9DA6",
          "pattern": {
           "shape": ""
          }
         },
         "name": "Input 04",
         "offsetgroup": "Input 04",
         "orientation": "h",
         "showlegend": true,
         "textposition": "auto",
         "type": "bar",
         "x": [
          0.01766323132703818
         ],
         "xaxis": "x",
         "y": [
          "Input 04"
         ],
         "yaxis": "y"
        },
        {
         "alignmentgroup": "True",
         "hovertemplate": "Feature Name=%{y}<br>Iteration=10<br>Importance=%{x}<extra></extra>",
         "ids": [
          "Input 05"
         ],
         "legendgroup": "Input 05",
         "marker": {
          "color": "#9D755D",
          "pattern": {
           "shape": ""
          }
         },
         "name": "Input 05",
         "offsetgroup": "Input 05",
         "orientation": "h",
         "showlegend": true,
         "textposition": "auto",
         "type": "bar",
         "x": [
          0.006567356109055192
         ],
         "xaxis": "x",
         "y": [
          "Input 05"
         ],
         "yaxis": "y"
        },
        {
         "alignmentgroup": "True",
         "hovertemplate": "Feature Name=%{y}<br>Iteration=10<br>Importance=%{x}<extra></extra>",
         "ids": [
          "Input 12"
         ],
         "legendgroup": "Input 12",
         "marker": {
          "color": "#BAB0AC",
          "pattern": {
           "shape": ""
          }
         },
         "name": "Input 12",
         "offsetgroup": "Input 12",
         "orientation": "h",
         "showlegend": true,
         "textposition": "auto",
         "type": "bar",
         "x": [
          0.003371796765051936
         ],
         "xaxis": "x",
         "y": [
          "Input 12"
         ],
         "yaxis": "y"
        },
        {
         "alignmentgroup": "True",
         "hovertemplate": "Feature Name=%{y}<br>Iteration=10<br>Importance=%{x}<extra></extra>",
         "ids": [
          "Input 09"
         ],
         "legendgroup": "Input 09",
         "marker": {
          "color": "#4C78A8",
          "pattern": {
           "shape": ""
          }
         },
         "name": "Input 09",
         "offsetgroup": "Input 09",
         "orientation": "h",
         "showlegend": true,
         "textposition": "auto",
         "type": "bar",
         "x": [
          0.002516442068493644
         ],
         "xaxis": "x",
         "y": [
          "Input 09"
         ],
         "yaxis": "y"
        },
        {
         "alignmentgroup": "True",
         "hovertemplate": "Feature Name=%{y}<br>Iteration=10<br>Importance=%{x}<extra></extra>",
         "ids": [
          "Input 07"
         ],
         "legendgroup": "Input 07",
         "marker": {
          "color": "#F58518",
          "pattern": {
           "shape": ""
          }
         },
         "name": "Input 07",
         "offsetgroup": "Input 07",
         "orientation": "h",
         "showlegend": true,
         "textposition": "auto",
         "type": "bar",
         "x": [
          0.008588244083745722
         ],
         "xaxis": "x",
         "y": [
          "Input 07"
         ],
         "yaxis": "y"
        },
        {
         "alignmentgroup": "True",
         "hovertemplate": "Feature Name=%{y}<br>Iteration=10<br>Importance=%{x}<extra></extra>",
         "ids": [
          "Input 10"
         ],
         "legendgroup": "Input 10",
         "marker": {
          "color": "#E45756",
          "pattern": {
           "shape": ""
          }
         },
         "name": "Input 10",
         "offsetgroup": "Input 10",
         "orientation": "h",
         "showlegend": true,
         "textposition": "auto",
         "type": "bar",
         "x": [
          0.00919729981724901
         ],
         "xaxis": "x",
         "y": [
          "Input 10"
         ],
         "yaxis": "y"
        }
       ],
       "frames": [
        {
         "data": [
          {
           "alignmentgroup": "True",
           "hovertemplate": "Feature Name=%{y}<br>Iteration=0<br>Importance=%{x}<extra></extra>",
           "ids": [
            "Output 01"
           ],
           "legendgroup": "Output 01",
           "marker": {
            "color": "#4C78A8",
            "pattern": {
             "shape": ""
            }
           },
           "name": "Output 01",
           "offsetgroup": "Output 01",
           "orientation": "h",
           "showlegend": true,
           "textposition": "auto",
           "type": "bar",
           "x": [
            0.5911680942007734
           ],
           "xaxis": "x",
           "y": [
            "Output 01"
           ],
           "yaxis": "y"
          },
          {
           "alignmentgroup": "True",
           "hovertemplate": "Feature Name=%{y}<br>Iteration=0<br>Importance=%{x}<extra></extra>",
           "ids": [
            "Input 03"
           ],
           "legendgroup": "Input 03",
           "marker": {
            "color": "#F58518",
            "pattern": {
             "shape": ""
            }
           },
           "name": "Input 03",
           "offsetgroup": "Input 03",
           "orientation": "h",
           "showlegend": true,
           "textposition": "auto",
           "type": "bar",
           "x": [
            0.06663778533815794
           ],
           "xaxis": "x",
           "y": [
            "Input 03"
           ],
           "yaxis": "y"
          },
          {
           "alignmentgroup": "True",
           "hovertemplate": "Feature Name=%{y}<br>Iteration=0<br>Importance=%{x}<extra></extra>",
           "ids": [
            "Input 02"
           ],
           "legendgroup": "Input 02",
           "marker": {
            "color": "#E45756",
            "pattern": {
             "shape": ""
            }
           },
           "name": "Input 02",
           "offsetgroup": "Input 02",
           "orientation": "h",
           "showlegend": true,
           "textposition": "auto",
           "type": "bar",
           "x": [
            0.06652745633490179
           ],
           "xaxis": "x",
           "y": [
            "Input 02"
           ],
           "yaxis": "y"
          },
          {
           "alignmentgroup": "True",
           "hovertemplate": "Feature Name=%{y}<br>Iteration=0<br>Importance=%{x}<extra></extra>",
           "ids": [
            "Input 11"
           ],
           "legendgroup": "Input 11",
           "marker": {
            "color": "#72B7B2",
            "pattern": {
             "shape": ""
            }
           },
           "name": "Input 11",
           "offsetgroup": "Input 11",
           "orientation": "h",
           "showlegend": true,
           "textposition": "auto",
           "type": "bar",
           "x": [
            0.04786982986753729
           ],
           "xaxis": "x",
           "y": [
            "Input 11"
           ],
           "yaxis": "y"
          },
          {
           "alignmentgroup": "True",
           "hovertemplate": "Feature Name=%{y}<br>Iteration=0<br>Importance=%{x}<extra></extra>",
           "ids": [
            "Input 06"
           ],
           "legendgroup": "Input 06",
           "marker": {
            "color": "#54A24B",
            "pattern": {
             "shape": ""
            }
           },
           "name": "Input 06",
           "offsetgroup": "Input 06",
           "orientation": "h",
           "showlegend": true,
           "textposition": "auto",
           "type": "bar",
           "x": [
            0.04403996978590047
           ],
           "xaxis": "x",
           "y": [
            "Input 06"
           ],
           "yaxis": "y"
          },
          {
           "alignmentgroup": "True",
           "hovertemplate": "Feature Name=%{y}<br>Iteration=0<br>Importance=%{x}<extra></extra>",
           "ids": [
            "Input 08"
           ],
           "legendgroup": "Input 08",
           "marker": {
            "color": "#EECA3B",
            "pattern": {
             "shape": ""
            }
           },
           "name": "Input 08",
           "offsetgroup": "Input 08",
           "orientation": "h",
           "showlegend": true,
           "textposition": "auto",
           "type": "bar",
           "x": [
            0.03574606919275113
           ],
           "xaxis": "x",
           "y": [
            "Input 08"
           ],
           "yaxis": "y"
          },
          {
           "alignmentgroup": "True",
           "hovertemplate": "Feature Name=%{y}<br>Iteration=0<br>Importance=%{x}<extra></extra>",
           "ids": [
            "Input 01"
           ],
           "legendgroup": "Input 01",
           "marker": {
            "color": "#B279A2",
            "pattern": {
             "shape": ""
            }
           },
           "name": "Input 01",
           "offsetgroup": "Input 01",
           "orientation": "h",
           "showlegend": true,
           "textposition": "auto",
           "type": "bar",
           "x": [
            0.034079895828834375
           ],
           "xaxis": "x",
           "y": [
            "Input 01"
           ],
           "yaxis": "y"
          },
          {
           "alignmentgroup": "True",
           "hovertemplate": "Feature Name=%{y}<br>Iteration=0<br>Importance=%{x}<extra></extra>",
           "ids": [
            "Input 04"
           ],
           "legendgroup": "Input 04",
           "marker": {
            "color": "#FF9DA6",
            "pattern": {
             "shape": ""
            }
           },
           "name": "Input 04",
           "offsetgroup": "Input 04",
           "orientation": "h",
           "showlegend": true,
           "textposition": "auto",
           "type": "bar",
           "x": [
            0.028897732228259247
           ],
           "xaxis": "x",
           "y": [
            "Input 04"
           ],
           "yaxis": "y"
          },
          {
           "alignmentgroup": "True",
           "hovertemplate": "Feature Name=%{y}<br>Iteration=0<br>Importance=%{x}<extra></extra>",
           "ids": [
            "Input 05"
           ],
           "legendgroup": "Input 05",
           "marker": {
            "color": "#9D755D",
            "pattern": {
             "shape": ""
            }
           },
           "name": "Input 05",
           "offsetgroup": "Input 05",
           "orientation": "h",
           "showlegend": true,
           "textposition": "auto",
           "type": "bar",
           "x": [
            0.02474110993160405
           ],
           "xaxis": "x",
           "y": [
            "Input 05"
           ],
           "yaxis": "y"
          },
          {
           "alignmentgroup": "True",
           "hovertemplate": "Feature Name=%{y}<br>Iteration=0<br>Importance=%{x}<extra></extra>",
           "ids": [
            "Input 12"
           ],
           "legendgroup": "Input 12",
           "marker": {
            "color": "#BAB0AC",
            "pattern": {
             "shape": ""
            }
           },
           "name": "Input 12",
           "offsetgroup": "Input 12",
           "orientation": "h",
           "showlegend": true,
           "textposition": "auto",
           "type": "bar",
           "x": [
            0.0168311414901731
           ],
           "xaxis": "x",
           "y": [
            "Input 12"
           ],
           "yaxis": "y"
          },
          {
           "alignmentgroup": "True",
           "hovertemplate": "Feature Name=%{y}<br>Iteration=0<br>Importance=%{x}<extra></extra>",
           "ids": [
            "Input 09"
           ],
           "legendgroup": "Input 09",
           "marker": {
            "color": "#4C78A8",
            "pattern": {
             "shape": ""
            }
           },
           "name": "Input 09",
           "offsetgroup": "Input 09",
           "orientation": "h",
           "showlegend": true,
           "textposition": "auto",
           "type": "bar",
           "x": [
            0.016788478894956264
           ],
           "xaxis": "x",
           "y": [
            "Input 09"
           ],
           "yaxis": "y"
          },
          {
           "alignmentgroup": "True",
           "hovertemplate": "Feature Name=%{y}<br>Iteration=0<br>Importance=%{x}<extra></extra>",
           "ids": [
            "Input 07"
           ],
           "legendgroup": "Input 07",
           "marker": {
            "color": "#F58518",
            "pattern": {
             "shape": ""
            }
           },
           "name": "Input 07",
           "offsetgroup": "Input 07",
           "orientation": "h",
           "showlegend": true,
           "textposition": "auto",
           "type": "bar",
           "x": [
            0.015216661747117154
           ],
           "xaxis": "x",
           "y": [
            "Input 07"
           ],
           "yaxis": "y"
          },
          {
           "alignmentgroup": "True",
           "hovertemplate": "Feature Name=%{y}<br>Iteration=0<br>Importance=%{x}<extra></extra>",
           "ids": [
            "Input 10"
           ],
           "legendgroup": "Input 10",
           "marker": {
            "color": "#E45756",
            "pattern": {
             "shape": ""
            }
           },
           "name": "Input 10",
           "offsetgroup": "Input 10",
           "orientation": "h",
           "showlegend": true,
           "textposition": "auto",
           "type": "bar",
           "x": [
            0.011455775159033777
           ],
           "xaxis": "x",
           "y": [
            "Input 10"
           ],
           "yaxis": "y"
          }
         ],
         "name": "0"
        },
        {
         "data": [
          {
           "alignmentgroup": "True",
           "hovertemplate": "Feature Name=%{y}<br>Iteration=1<br>Importance=%{x}<extra></extra>",
           "ids": [
            "Output 01",
            "Output 01"
           ],
           "legendgroup": "Output 01",
           "marker": {
            "color": "#4C78A8",
            "pattern": {
             "shape": ""
            }
           },
           "name": "Output 01",
           "offsetgroup": "Output 01",
           "orientation": "h",
           "showlegend": true,
           "textposition": "auto",
           "type": "bar",
           "x": [
            0.6981786594509669,
            0.6981786594509669
           ],
           "xaxis": "x",
           "y": [
            "Output 01",
            "Output 01"
           ],
           "yaxis": "y"
          },
          {
           "alignmentgroup": "True",
           "hovertemplate": "Feature Name=%{y}<br>Iteration=1<br>Importance=%{x}<extra></extra>",
           "ids": [
            "Input 03",
            "Input 03"
           ],
           "legendgroup": "Input 03",
           "marker": {
            "color": "#F58518",
            "pattern": {
             "shape": ""
            }
           },
           "name": "Input 03",
           "offsetgroup": "Input 03",
           "orientation": "h",
           "showlegend": true,
           "textposition": "auto",
           "type": "bar",
           "x": [
            0.1108232741662147,
            0.1108232741662147
           ],
           "xaxis": "x",
           "y": [
            "Input 03",
            "Input 03"
           ],
           "yaxis": "y"
          },
          {
           "alignmentgroup": "True",
           "hovertemplate": "Feature Name=%{y}<br>Iteration=1<br>Importance=%{x}<extra></extra>",
           "ids": [
            "Input 02",
            "Input 02"
           ],
           "legendgroup": "Input 02",
           "marker": {
            "color": "#E45756",
            "pattern": {
             "shape": ""
            }
           },
           "name": "Input 02",
           "offsetgroup": "Input 02",
           "orientation": "h",
           "showlegend": true,
           "textposition": "auto",
           "type": "bar",
           "x": [
            0.0610151823169409,
            0.0610151823169409
           ],
           "xaxis": "x",
           "y": [
            "Input 02",
            "Input 02"
           ],
           "yaxis": "y"
          },
          {
           "alignmentgroup": "True",
           "hovertemplate": "Feature Name=%{y}<br>Iteration=1<br>Importance=%{x}<extra></extra>",
           "ids": [
            "Input 11",
            "Input 11"
           ],
           "legendgroup": "Input 11",
           "marker": {
            "color": "#72B7B2",
            "pattern": {
             "shape": ""
            }
           },
           "name": "Input 11",
           "offsetgroup": "Input 11",
           "orientation": "h",
           "showlegend": true,
           "textposition": "auto",
           "type": "bar",
           "x": [
            0.027515744439840197,
            0.027515744439840197
           ],
           "xaxis": "x",
           "y": [
            "Input 11",
            "Input 11"
           ],
           "yaxis": "y"
          },
          {
           "alignmentgroup": "True",
           "hovertemplate": "Feature Name=%{y}<br>Iteration=1<br>Importance=%{x}<extra></extra>",
           "ids": [
            "Input 06",
            "Input 06"
           ],
           "legendgroup": "Input 06",
           "marker": {
            "color": "#54A24B",
            "pattern": {
             "shape": ""
            }
           },
           "name": "Input 06",
           "offsetgroup": "Input 06",
           "orientation": "h",
           "showlegend": true,
           "textposition": "auto",
           "type": "bar",
           "x": [
            0.021649196328514426,
            0.021649196328514426
           ],
           "xaxis": "x",
           "y": [
            "Input 06",
            "Input 06"
           ],
           "yaxis": "y"
          },
          {
           "alignmentgroup": "True",
           "hovertemplate": "Feature Name=%{y}<br>Iteration=1<br>Importance=%{x}<extra></extra>",
           "ids": [
            "Input 08",
            "Input 08"
           ],
           "legendgroup": "Input 08",
           "marker": {
            "color": "#EECA3B",
            "pattern": {
             "shape": ""
            }
           },
           "name": "Input 08",
           "offsetgroup": "Input 08",
           "orientation": "h",
           "showlegend": true,
           "textposition": "auto",
           "type": "bar",
           "x": [
            0.02979903461545224,
            0.02979903461545224
           ],
           "xaxis": "x",
           "y": [
            "Input 08",
            "Input 08"
           ],
           "yaxis": "y"
          },
          {
           "alignmentgroup": "True",
           "hovertemplate": "Feature Name=%{y}<br>Iteration=1<br>Importance=%{x}<extra></extra>",
           "ids": [
            "Input 01",
            "Input 01"
           ],
           "legendgroup": "Input 01",
           "marker": {
            "color": "#B279A2",
            "pattern": {
             "shape": ""
            }
           },
           "name": "Input 01",
           "offsetgroup": "Input 01",
           "orientation": "h",
           "showlegend": true,
           "textposition": "auto",
           "type": "bar",
           "x": [
            0.007187717595404491,
            0.007187717595404491
           ],
           "xaxis": "x",
           "y": [
            "Input 01",
            "Input 01"
           ],
           "yaxis": "y"
          },
          {
           "alignmentgroup": "True",
           "hovertemplate": "Feature Name=%{y}<br>Iteration=1<br>Importance=%{x}<extra></extra>",
           "ids": [
            "Input 04",
            "Input 04"
           ],
           "legendgroup": "Input 04",
           "marker": {
            "color": "#FF9DA6",
            "pattern": {
             "shape": ""
            }
           },
           "name": "Input 04",
           "offsetgroup": "Input 04",
           "orientation": "h",
           "showlegend": true,
           "textposition": "auto",
           "type": "bar",
           "x": [
            0.01151934422725318,
            0.01151934422725318
           ],
           "xaxis": "x",
           "y": [
            "Input 04",
            "Input 04"
           ],
           "yaxis": "y"
          },
          {
           "alignmentgroup": "True",
           "hovertemplate": "Feature Name=%{y}<br>Iteration=1<br>Importance=%{x}<extra></extra>",
           "ids": [
            "Input 05",
            "Input 05"
           ],
           "legendgroup": "Input 05",
           "marker": {
            "color": "#9D755D",
            "pattern": {
             "shape": ""
            }
           },
           "name": "Input 05",
           "offsetgroup": "Input 05",
           "orientation": "h",
           "showlegend": true,
           "textposition": "auto",
           "type": "bar",
           "x": [
            0.008718142864282715,
            0.008718142864282715
           ],
           "xaxis": "x",
           "y": [
            "Input 05",
            "Input 05"
           ],
           "yaxis": "y"
          },
          {
           "alignmentgroup": "True",
           "hovertemplate": "Feature Name=%{y}<br>Iteration=1<br>Importance=%{x}<extra></extra>",
           "ids": [
            "Input 12",
            "Input 12"
           ],
           "legendgroup": "Input 12",
           "marker": {
            "color": "#BAB0AC",
            "pattern": {
             "shape": ""
            }
           },
           "name": "Input 12",
           "offsetgroup": "Input 12",
           "orientation": "h",
           "showlegend": true,
           "textposition": "auto",
           "type": "bar",
           "x": [
            0.004368872950069559,
            0.004368872950069559
           ],
           "xaxis": "x",
           "y": [
            "Input 12",
            "Input 12"
           ],
           "yaxis": "y"
          },
          {
           "alignmentgroup": "True",
           "hovertemplate": "Feature Name=%{y}<br>Iteration=1<br>Importance=%{x}<extra></extra>",
           "ids": [
            "Input 09",
            "Input 09"
           ],
           "legendgroup": "Input 09",
           "marker": {
            "color": "#4C78A8",
            "pattern": {
             "shape": ""
            }
           },
           "name": "Input 09",
           "offsetgroup": "Input 09",
           "orientation": "h",
           "showlegend": true,
           "textposition": "auto",
           "type": "bar",
           "x": [
            0.003692304720474458,
            0.003692304720474458
           ],
           "xaxis": "x",
           "y": [
            "Input 09",
            "Input 09"
           ],
           "yaxis": "y"
          },
          {
           "alignmentgroup": "True",
           "hovertemplate": "Feature Name=%{y}<br>Iteration=1<br>Importance=%{x}<extra></extra>",
           "ids": [
            "Input 07",
            "Input 07"
           ],
           "legendgroup": "Input 07",
           "marker": {
            "color": "#F58518",
            "pattern": {
             "shape": ""
            }
           },
           "name": "Input 07",
           "offsetgroup": "Input 07",
           "orientation": "h",
           "showlegend": true,
           "textposition": "auto",
           "type": "bar",
           "x": [
            0.006437003040717942,
            0.006437003040717942
           ],
           "xaxis": "x",
           "y": [
            "Input 07",
            "Input 07"
           ],
           "yaxis": "y"
          },
          {
           "alignmentgroup": "True",
           "hovertemplate": "Feature Name=%{y}<br>Iteration=1<br>Importance=%{x}<extra></extra>",
           "ids": [
            "Input 10",
            "Input 10"
           ],
           "legendgroup": "Input 10",
           "marker": {
            "color": "#E45756",
            "pattern": {
             "shape": ""
            }
           },
           "name": "Input 10",
           "offsetgroup": "Input 10",
           "orientation": "h",
           "showlegend": true,
           "textposition": "auto",
           "type": "bar",
           "x": [
            0.009095523283868315,
            0.009095523283868315
           ],
           "xaxis": "x",
           "y": [
            "Input 10",
            "Input 10"
           ],
           "yaxis": "y"
          }
         ],
         "name": "1"
        },
        {
         "data": [
          {
           "alignmentgroup": "True",
           "hovertemplate": "Feature Name=%{y}<br>Iteration=2<br>Importance=%{x}<extra></extra>",
           "ids": [
            "Output 01"
           ],
           "legendgroup": "Output 01",
           "marker": {
            "color": "#4C78A8",
            "pattern": {
             "shape": ""
            }
           },
           "name": "Output 01",
           "offsetgroup": "Output 01",
           "orientation": "h",
           "showlegend": true,
           "textposition": "auto",
           "type": "bar",
           "x": [
            0.7184040756083833
           ],
           "xaxis": "x",
           "y": [
            "Output 01"
           ],
           "yaxis": "y"
          },
          {
           "alignmentgroup": "True",
           "hovertemplate": "Feature Name=%{y}<br>Iteration=2<br>Importance=%{x}<extra></extra>",
           "ids": [
            "Input 03"
           ],
           "legendgroup": "Input 03",
           "marker": {
            "color": "#F58518",
            "pattern": {
             "shape": ""
            }
           },
           "name": "Input 03",
           "offsetgroup": "Input 03",
           "orientation": "h",
           "showlegend": true,
           "textposition": "auto",
           "type": "bar",
           "x": [
            0.110086440364584
           ],
           "xaxis": "x",
           "y": [
            "Input 03"
           ],
           "yaxis": "y"
          },
          {
           "alignmentgroup": "True",
           "hovertemplate": "Feature Name=%{y}<br>Iteration=2<br>Importance=%{x}<extra></extra>",
           "ids": [
            "Input 02"
           ],
           "legendgroup": "Input 02",
           "marker": {
            "color": "#E45756",
            "pattern": {
             "shape": ""
            }
           },
           "name": "Input 02",
           "offsetgroup": "Input 02",
           "orientation": "h",
           "showlegend": true,
           "textposition": "auto",
           "type": "bar",
           "x": [
            0.05181716977069543
           ],
           "xaxis": "x",
           "y": [
            "Input 02"
           ],
           "yaxis": "y"
          },
          {
           "alignmentgroup": "True",
           "hovertemplate": "Feature Name=%{y}<br>Iteration=2<br>Importance=%{x}<extra></extra>",
           "ids": [
            "Input 11"
           ],
           "legendgroup": "Input 11",
           "marker": {
            "color": "#72B7B2",
            "pattern": {
             "shape": ""
            }
           },
           "name": "Input 11",
           "offsetgroup": "Input 11",
           "orientation": "h",
           "showlegend": true,
           "textposition": "auto",
           "type": "bar",
           "x": [
            0.017464950607403613
           ],
           "xaxis": "x",
           "y": [
            "Input 11"
           ],
           "yaxis": "y"
          },
          {
           "alignmentgroup": "True",
           "hovertemplate": "Feature Name=%{y}<br>Iteration=2<br>Importance=%{x}<extra></extra>",
           "ids": [
            "Input 06"
           ],
           "legendgroup": "Input 06",
           "marker": {
            "color": "#54A24B",
            "pattern": {
             "shape": ""
            }
           },
           "name": "Input 06",
           "offsetgroup": "Input 06",
           "orientation": "h",
           "showlegend": true,
           "textposition": "auto",
           "type": "bar",
           "x": [
            0.018218317202520578
           ],
           "xaxis": "x",
           "y": [
            "Input 06"
           ],
           "yaxis": "y"
          },
          {
           "alignmentgroup": "True",
           "hovertemplate": "Feature Name=%{y}<br>Iteration=2<br>Importance=%{x}<extra></extra>",
           "ids": [
            "Input 08"
           ],
           "legendgroup": "Input 08",
           "marker": {
            "color": "#EECA3B",
            "pattern": {
             "shape": ""
            }
           },
           "name": "Input 08",
           "offsetgroup": "Input 08",
           "orientation": "h",
           "showlegend": true,
           "textposition": "auto",
           "type": "bar",
           "x": [
            0.037846637955608574
           ],
           "xaxis": "x",
           "y": [
            "Input 08"
           ],
           "yaxis": "y"
          },
          {
           "alignmentgroup": "True",
           "hovertemplate": "Feature Name=%{y}<br>Iteration=2<br>Importance=%{x}<extra></extra>",
           "ids": [
            "Input 01"
           ],
           "legendgroup": "Input 01",
           "marker": {
            "color": "#B279A2",
            "pattern": {
             "shape": ""
            }
           },
           "name": "Input 01",
           "offsetgroup": "Input 01",
           "orientation": "h",
           "showlegend": true,
           "textposition": "auto",
           "type": "bar",
           "x": [
            0.0051974641863608605
           ],
           "xaxis": "x",
           "y": [
            "Input 01"
           ],
           "yaxis": "y"
          },
          {
           "alignmentgroup": "True",
           "hovertemplate": "Feature Name=%{y}<br>Iteration=2<br>Importance=%{x}<extra></extra>",
           "ids": [
            "Input 04"
           ],
           "legendgroup": "Input 04",
           "marker": {
            "color": "#FF9DA6",
            "pattern": {
             "shape": ""
            }
           },
           "name": "Input 04",
           "offsetgroup": "Input 04",
           "orientation": "h",
           "showlegend": true,
           "textposition": "auto",
           "type": "bar",
           "x": [
            0.014050238809194617
           ],
           "xaxis": "x",
           "y": [
            "Input 04"
           ],
           "yaxis": "y"
          },
          {
           "alignmentgroup": "True",
           "hovertemplate": "Feature Name=%{y}<br>Iteration=2<br>Importance=%{x}<extra></extra>",
           "ids": [
            "Input 05"
           ],
           "legendgroup": "Input 05",
           "marker": {
            "color": "#9D755D",
            "pattern": {
             "shape": ""
            }
           },
           "name": "Input 05",
           "offsetgroup": "Input 05",
           "orientation": "h",
           "showlegend": true,
           "textposition": "auto",
           "type": "bar",
           "x": [
            0.006411393128094084
           ],
           "xaxis": "x",
           "y": [
            "Input 05"
           ],
           "yaxis": "y"
          },
          {
           "alignmentgroup": "True",
           "hovertemplate": "Feature Name=%{y}<br>Iteration=2<br>Importance=%{x}<extra></extra>",
           "ids": [
            "Input 12"
           ],
           "legendgroup": "Input 12",
           "marker": {
            "color": "#BAB0AC",
            "pattern": {
             "shape": ""
            }
           },
           "name": "Input 12",
           "offsetgroup": "Input 12",
           "orientation": "h",
           "showlegend": true,
           "textposition": "auto",
           "type": "bar",
           "x": [
            0.00374137286782902
           ],
           "xaxis": "x",
           "y": [
            "Input 12"
           ],
           "yaxis": "y"
          },
          {
           "alignmentgroup": "True",
           "hovertemplate": "Feature Name=%{y}<br>Iteration=2<br>Importance=%{x}<extra></extra>",
           "ids": [
            "Input 09"
           ],
           "legendgroup": "Input 09",
           "marker": {
            "color": "#4C78A8",
            "pattern": {
             "shape": ""
            }
           },
           "name": "Input 09",
           "offsetgroup": "Input 09",
           "orientation": "h",
           "showlegend": true,
           "textposition": "auto",
           "type": "bar",
           "x": [
            0.002927969028637387
           ],
           "xaxis": "x",
           "y": [
            "Input 09"
           ],
           "yaxis": "y"
          },
          {
           "alignmentgroup": "True",
           "hovertemplate": "Feature Name=%{y}<br>Iteration=2<br>Importance=%{x}<extra></extra>",
           "ids": [
            "Input 07"
           ],
           "legendgroup": "Input 07",
           "marker": {
            "color": "#F58518",
            "pattern": {
             "shape": ""
            }
           },
           "name": "Input 07",
           "offsetgroup": "Input 07",
           "orientation": "h",
           "showlegend": true,
           "textposition": "auto",
           "type": "bar",
           "x": [
            0.0068327718907861155
           ],
           "xaxis": "x",
           "y": [
            "Input 07"
           ],
           "yaxis": "y"
          },
          {
           "alignmentgroup": "True",
           "hovertemplate": "Feature Name=%{y}<br>Iteration=2<br>Importance=%{x}<extra></extra>",
           "ids": [
            "Input 10"
           ],
           "legendgroup": "Input 10",
           "marker": {
            "color": "#E45756",
            "pattern": {
             "shape": ""
            }
           },
           "name": "Input 10",
           "offsetgroup": "Input 10",
           "orientation": "h",
           "showlegend": true,
           "textposition": "auto",
           "type": "bar",
           "x": [
            0.007001198579902545
           ],
           "xaxis": "x",
           "y": [
            "Input 10"
           ],
           "yaxis": "y"
          }
         ],
         "name": "2"
        },
        {
         "data": [
          {
           "alignmentgroup": "True",
           "hovertemplate": "Feature Name=%{y}<br>Iteration=3<br>Importance=%{x}<extra></extra>",
           "ids": [
            "Output 01"
           ],
           "legendgroup": "Output 01",
           "marker": {
            "color": "#4C78A8",
            "pattern": {
             "shape": ""
            }
           },
           "name": "Output 01",
           "offsetgroup": "Output 01",
           "orientation": "h",
           "showlegend": true,
           "textposition": "auto",
           "type": "bar",
           "x": [
            0.71127195248154
           ],
           "xaxis": "x",
           "y": [
            "Output 01"
           ],
           "yaxis": "y"
          },
          {
           "alignmentgroup": "True",
           "hovertemplate": "Feature Name=%{y}<br>Iteration=3<br>Importance=%{x}<extra></extra>",
           "ids": [
            "Input 03"
           ],
           "legendgroup": "Input 03",
           "marker": {
            "color": "#F58518",
            "pattern": {
             "shape": ""
            }
           },
           "name": "Input 03",
           "offsetgroup": "Input 03",
           "orientation": "h",
           "showlegend": true,
           "textposition": "auto",
           "type": "bar",
           "x": [
            0.11017853003684933
           ],
           "xaxis": "x",
           "y": [
            "Input 03"
           ],
           "yaxis": "y"
          },
          {
           "alignmentgroup": "True",
           "hovertemplate": "Feature Name=%{y}<br>Iteration=3<br>Importance=%{x}<extra></extra>",
           "ids": [
            "Input 02"
           ],
           "legendgroup": "Input 02",
           "marker": {
            "color": "#E45756",
            "pattern": {
             "shape": ""
            }
           },
           "name": "Input 02",
           "offsetgroup": "Input 02",
           "orientation": "h",
           "showlegend": true,
           "textposition": "auto",
           "type": "bar",
           "x": [
            0.05335160816633193
           ],
           "xaxis": "x",
           "y": [
            "Input 02"
           ],
           "yaxis": "y"
          },
          {
           "alignmentgroup": "True",
           "hovertemplate": "Feature Name=%{y}<br>Iteration=3<br>Importance=%{x}<extra></extra>",
           "ids": [
            "Input 11"
           ],
           "legendgroup": "Input 11",
           "marker": {
            "color": "#72B7B2",
            "pattern": {
             "shape": ""
            }
           },
           "name": "Input 11",
           "offsetgroup": "Input 11",
           "orientation": "h",
           "showlegend": true,
           "textposition": "auto",
           "type": "bar",
           "x": [
            0.013225876483166057
           ],
           "xaxis": "x",
           "y": [
            "Input 11"
           ],
           "yaxis": "y"
          },
          {
           "alignmentgroup": "True",
           "hovertemplate": "Feature Name=%{y}<br>Iteration=3<br>Importance=%{x}<extra></extra>",
           "ids": [
            "Input 06"
           ],
           "legendgroup": "Input 06",
           "marker": {
            "color": "#54A24B",
            "pattern": {
             "shape": ""
            }
           },
           "name": "Input 06",
           "offsetgroup": "Input 06",
           "orientation": "h",
           "showlegend": true,
           "textposition": "auto",
           "type": "bar",
           "x": [
            0.023390791907568265
           ],
           "xaxis": "x",
           "y": [
            "Input 06"
           ],
           "yaxis": "y"
          },
          {
           "alignmentgroup": "True",
           "hovertemplate": "Feature Name=%{y}<br>Iteration=3<br>Importance=%{x}<extra></extra>",
           "ids": [
            "Input 08"
           ],
           "legendgroup": "Input 08",
           "marker": {
            "color": "#EECA3B",
            "pattern": {
             "shape": ""
            }
           },
           "name": "Input 08",
           "offsetgroup": "Input 08",
           "orientation": "h",
           "showlegend": true,
           "textposition": "auto",
           "type": "bar",
           "x": [
            0.037668727472004886
           ],
           "xaxis": "x",
           "y": [
            "Input 08"
           ],
           "yaxis": "y"
          },
          {
           "alignmentgroup": "True",
           "hovertemplate": "Feature Name=%{y}<br>Iteration=3<br>Importance=%{x}<extra></extra>",
           "ids": [
            "Input 01"
           ],
           "legendgroup": "Input 01",
           "marker": {
            "color": "#B279A2",
            "pattern": {
             "shape": ""
            }
           },
           "name": "Input 01",
           "offsetgroup": "Input 01",
           "orientation": "h",
           "showlegend": true,
           "textposition": "auto",
           "type": "bar",
           "x": [
            0.006019212010308387
           ],
           "xaxis": "x",
           "y": [
            "Input 01"
           ],
           "yaxis": "y"
          },
          {
           "alignmentgroup": "True",
           "hovertemplate": "Feature Name=%{y}<br>Iteration=3<br>Importance=%{x}<extra></extra>",
           "ids": [
            "Input 04"
           ],
           "legendgroup": "Input 04",
           "marker": {
            "color": "#FF9DA6",
            "pattern": {
             "shape": ""
            }
           },
           "name": "Input 04",
           "offsetgroup": "Input 04",
           "orientation": "h",
           "showlegend": true,
           "textposition": "auto",
           "type": "bar",
           "x": [
            0.014576670564463339
           ],
           "xaxis": "x",
           "y": [
            "Input 04"
           ],
           "yaxis": "y"
          },
          {
           "alignmentgroup": "True",
           "hovertemplate": "Feature Name=%{y}<br>Iteration=3<br>Importance=%{x}<extra></extra>",
           "ids": [
            "Input 05"
           ],
           "legendgroup": "Input 05",
           "marker": {
            "color": "#9D755D",
            "pattern": {
             "shape": ""
            }
           },
           "name": "Input 05",
           "offsetgroup": "Input 05",
           "orientation": "h",
           "showlegend": true,
           "textposition": "auto",
           "type": "bar",
           "x": [
            0.005784637513111964
           ],
           "xaxis": "x",
           "y": [
            "Input 05"
           ],
           "yaxis": "y"
          },
          {
           "alignmentgroup": "True",
           "hovertemplate": "Feature Name=%{y}<br>Iteration=3<br>Importance=%{x}<extra></extra>",
           "ids": [
            "Input 12"
           ],
           "legendgroup": "Input 12",
           "marker": {
            "color": "#BAB0AC",
            "pattern": {
             "shape": ""
            }
           },
           "name": "Input 12",
           "offsetgroup": "Input 12",
           "orientation": "h",
           "showlegend": true,
           "textposition": "auto",
           "type": "bar",
           "x": [
            0.0039480247054417645
           ],
           "xaxis": "x",
           "y": [
            "Input 12"
           ],
           "yaxis": "y"
          },
          {
           "alignmentgroup": "True",
           "hovertemplate": "Feature Name=%{y}<br>Iteration=3<br>Importance=%{x}<extra></extra>",
           "ids": [
            "Input 09"
           ],
           "legendgroup": "Input 09",
           "marker": {
            "color": "#4C78A8",
            "pattern": {
             "shape": ""
            }
           },
           "name": "Input 09",
           "offsetgroup": "Input 09",
           "orientation": "h",
           "showlegend": true,
           "textposition": "auto",
           "type": "bar",
           "x": [
            0.002798286637652871
           ],
           "xaxis": "x",
           "y": [
            "Input 09"
           ],
           "yaxis": "y"
          },
          {
           "alignmentgroup": "True",
           "hovertemplate": "Feature Name=%{y}<br>Iteration=3<br>Importance=%{x}<extra></extra>",
           "ids": [
            "Input 07"
           ],
           "legendgroup": "Input 07",
           "marker": {
            "color": "#F58518",
            "pattern": {
             "shape": ""
            }
           },
           "name": "Input 07",
           "offsetgroup": "Input 07",
           "orientation": "h",
           "showlegend": true,
           "textposition": "auto",
           "type": "bar",
           "x": [
            0.008426613350138591
           ],
           "xaxis": "x",
           "y": [
            "Input 07"
           ],
           "yaxis": "y"
          },
          {
           "alignmentgroup": "True",
           "hovertemplate": "Feature Name=%{y}<br>Iteration=3<br>Importance=%{x}<extra></extra>",
           "ids": [
            "Input 10"
           ],
           "legendgroup": "Input 10",
           "marker": {
            "color": "#E45756",
            "pattern": {
             "shape": ""
            }
           },
           "name": "Input 10",
           "offsetgroup": "Input 10",
           "orientation": "h",
           "showlegend": true,
           "textposition": "auto",
           "type": "bar",
           "x": [
            0.009359068671422647
           ],
           "xaxis": "x",
           "y": [
            "Input 10"
           ],
           "yaxis": "y"
          }
         ],
         "name": "3"
        },
        {
         "data": [
          {
           "alignmentgroup": "True",
           "hovertemplate": "Feature Name=%{y}<br>Iteration=4<br>Importance=%{x}<extra></extra>",
           "ids": [
            "Output 01"
           ],
           "legendgroup": "Output 01",
           "marker": {
            "color": "#4C78A8",
            "pattern": {
             "shape": ""
            }
           },
           "name": "Output 01",
           "offsetgroup": "Output 01",
           "orientation": "h",
           "showlegend": true,
           "textposition": "auto",
           "type": "bar",
           "x": [
            0.7180051133965254
           ],
           "xaxis": "x",
           "y": [
            "Output 01"
           ],
           "yaxis": "y"
          },
          {
           "alignmentgroup": "True",
           "hovertemplate": "Feature Name=%{y}<br>Iteration=4<br>Importance=%{x}<extra></extra>",
           "ids": [
            "Input 03"
           ],
           "legendgroup": "Input 03",
           "marker": {
            "color": "#F58518",
            "pattern": {
             "shape": ""
            }
           },
           "name": "Input 03",
           "offsetgroup": "Input 03",
           "orientation": "h",
           "showlegend": true,
           "textposition": "auto",
           "type": "bar",
           "x": [
            0.11076485906882257
           ],
           "xaxis": "x",
           "y": [
            "Input 03"
           ],
           "yaxis": "y"
          },
          {
           "alignmentgroup": "True",
           "hovertemplate": "Feature Name=%{y}<br>Iteration=4<br>Importance=%{x}<extra></extra>",
           "ids": [
            "Input 02"
           ],
           "legendgroup": "Input 02",
           "marker": {
            "color": "#E45756",
            "pattern": {
             "shape": ""
            }
           },
           "name": "Input 02",
           "offsetgroup": "Input 02",
           "orientation": "h",
           "showlegend": true,
           "textposition": "auto",
           "type": "bar",
           "x": [
            0.05212330699726891
           ],
           "xaxis": "x",
           "y": [
            "Input 02"
           ],
           "yaxis": "y"
          },
          {
           "alignmentgroup": "True",
           "hovertemplate": "Feature Name=%{y}<br>Iteration=4<br>Importance=%{x}<extra></extra>",
           "ids": [
            "Input 11"
           ],
           "legendgroup": "Input 11",
           "marker": {
            "color": "#72B7B2",
            "pattern": {
             "shape": ""
            }
           },
           "name": "Input 11",
           "offsetgroup": "Input 11",
           "orientation": "h",
           "showlegend": true,
           "textposition": "auto",
           "type": "bar",
           "x": [
            0.01335385228235822
           ],
           "xaxis": "x",
           "y": [
            "Input 11"
           ],
           "yaxis": "y"
          },
          {
           "alignmentgroup": "True",
           "hovertemplate": "Feature Name=%{y}<br>Iteration=4<br>Importance=%{x}<extra></extra>",
           "ids": [
            "Input 06"
           ],
           "legendgroup": "Input 06",
           "marker": {
            "color": "#54A24B",
            "pattern": {
             "shape": ""
            }
           },
           "name": "Input 06",
           "offsetgroup": "Input 06",
           "orientation": "h",
           "showlegend": true,
           "textposition": "auto",
           "type": "bar",
           "x": [
            0.019754722867253258
           ],
           "xaxis": "x",
           "y": [
            "Input 06"
           ],
           "yaxis": "y"
          },
          {
           "alignmentgroup": "True",
           "hovertemplate": "Feature Name=%{y}<br>Iteration=4<br>Importance=%{x}<extra></extra>",
           "ids": [
            "Input 08"
           ],
           "legendgroup": "Input 08",
           "marker": {
            "color": "#EECA3B",
            "pattern": {
             "shape": ""
            }
           },
           "name": "Input 08",
           "offsetgroup": "Input 08",
           "orientation": "h",
           "showlegend": true,
           "textposition": "auto",
           "type": "bar",
           "x": [
            0.03431357645435059
           ],
           "xaxis": "x",
           "y": [
            "Input 08"
           ],
           "yaxis": "y"
          },
          {
           "alignmentgroup": "True",
           "hovertemplate": "Feature Name=%{y}<br>Iteration=4<br>Importance=%{x}<extra></extra>",
           "ids": [
            "Input 01"
           ],
           "legendgroup": "Input 01",
           "marker": {
            "color": "#B279A2",
            "pattern": {
             "shape": ""
            }
           },
           "name": "Input 01",
           "offsetgroup": "Input 01",
           "orientation": "h",
           "showlegend": true,
           "textposition": "auto",
           "type": "bar",
           "x": [
            0.006015616558621069
           ],
           "xaxis": "x",
           "y": [
            "Input 01"
           ],
           "yaxis": "y"
          },
          {
           "alignmentgroup": "True",
           "hovertemplate": "Feature Name=%{y}<br>Iteration=4<br>Importance=%{x}<extra></extra>",
           "ids": [
            "Input 04"
           ],
           "legendgroup": "Input 04",
           "marker": {
            "color": "#FF9DA6",
            "pattern": {
             "shape": ""
            }
           },
           "name": "Input 04",
           "offsetgroup": "Input 04",
           "orientation": "h",
           "showlegend": true,
           "textposition": "auto",
           "type": "bar",
           "x": [
            0.0176247546992435
           ],
           "xaxis": "x",
           "y": [
            "Input 04"
           ],
           "yaxis": "y"
          },
          {
           "alignmentgroup": "True",
           "hovertemplate": "Feature Name=%{y}<br>Iteration=4<br>Importance=%{x}<extra></extra>",
           "ids": [
            "Input 05"
           ],
           "legendgroup": "Input 05",
           "marker": {
            "color": "#9D755D",
            "pattern": {
             "shape": ""
            }
           },
           "name": "Input 05",
           "offsetgroup": "Input 05",
           "orientation": "h",
           "showlegend": true,
           "textposition": "auto",
           "type": "bar",
           "x": [
            0.006792533179266497
           ],
           "xaxis": "x",
           "y": [
            "Input 05"
           ],
           "yaxis": "y"
          },
          {
           "alignmentgroup": "True",
           "hovertemplate": "Feature Name=%{y}<br>Iteration=4<br>Importance=%{x}<extra></extra>",
           "ids": [
            "Input 12"
           ],
           "legendgroup": "Input 12",
           "marker": {
            "color": "#BAB0AC",
            "pattern": {
             "shape": ""
            }
           },
           "name": "Input 12",
           "offsetgroup": "Input 12",
           "orientation": "h",
           "showlegend": true,
           "textposition": "auto",
           "type": "bar",
           "x": [
            0.0031504713183010766
           ],
           "xaxis": "x",
           "y": [
            "Input 12"
           ],
           "yaxis": "y"
          },
          {
           "alignmentgroup": "True",
           "hovertemplate": "Feature Name=%{y}<br>Iteration=4<br>Importance=%{x}<extra></extra>",
           "ids": [
            "Input 09"
           ],
           "legendgroup": "Input 09",
           "marker": {
            "color": "#4C78A8",
            "pattern": {
             "shape": ""
            }
           },
           "name": "Input 09",
           "offsetgroup": "Input 09",
           "orientation": "h",
           "showlegend": true,
           "textposition": "auto",
           "type": "bar",
           "x": [
            0.002329470408843867
           ],
           "xaxis": "x",
           "y": [
            "Input 09"
           ],
           "yaxis": "y"
          },
          {
           "alignmentgroup": "True",
           "hovertemplate": "Feature Name=%{y}<br>Iteration=4<br>Importance=%{x}<extra></extra>",
           "ids": [
            "Input 07"
           ],
           "legendgroup": "Input 07",
           "marker": {
            "color": "#F58518",
            "pattern": {
             "shape": ""
            }
           },
           "name": "Input 07",
           "offsetgroup": "Input 07",
           "orientation": "h",
           "showlegend": true,
           "textposition": "auto",
           "type": "bar",
           "x": [
            0.007663169669705562
           ],
           "xaxis": "x",
           "y": [
            "Input 07"
           ],
           "yaxis": "y"
          },
          {
           "alignmentgroup": "True",
           "hovertemplate": "Feature Name=%{y}<br>Iteration=4<br>Importance=%{x}<extra></extra>",
           "ids": [
            "Input 10"
           ],
           "legendgroup": "Input 10",
           "marker": {
            "color": "#E45756",
            "pattern": {
             "shape": ""
            }
           },
           "name": "Input 10",
           "offsetgroup": "Input 10",
           "orientation": "h",
           "showlegend": true,
           "textposition": "auto",
           "type": "bar",
           "x": [
            0.008108553099439383
           ],
           "xaxis": "x",
           "y": [
            "Input 10"
           ],
           "yaxis": "y"
          }
         ],
         "name": "4"
        },
        {
         "data": [
          {
           "alignmentgroup": "True",
           "hovertemplate": "Feature Name=%{y}<br>Iteration=5<br>Importance=%{x}<extra></extra>",
           "ids": [
            "Output 01"
           ],
           "legendgroup": "Output 01",
           "marker": {
            "color": "#4C78A8",
            "pattern": {
             "shape": ""
            }
           },
           "name": "Output 01",
           "offsetgroup": "Output 01",
           "orientation": "h",
           "showlegend": true,
           "textposition": "auto",
           "type": "bar",
           "x": [
            0.7161410224725174
           ],
           "xaxis": "x",
           "y": [
            "Output 01"
           ],
           "yaxis": "y"
          },
          {
           "alignmentgroup": "True",
           "hovertemplate": "Feature Name=%{y}<br>Iteration=5<br>Importance=%{x}<extra></extra>",
           "ids": [
            "Input 03"
           ],
           "legendgroup": "Input 03",
           "marker": {
            "color": "#F58518",
            "pattern": {
             "shape": ""
            }
           },
           "name": "Input 03",
           "offsetgroup": "Input 03",
           "orientation": "h",
           "showlegend": true,
           "textposition": "auto",
           "type": "bar",
           "x": [
            0.11314786761851021
           ],
           "xaxis": "x",
           "y": [
            "Input 03"
           ],
           "yaxis": "y"
          },
          {
           "alignmentgroup": "True",
           "hovertemplate": "Feature Name=%{y}<br>Iteration=5<br>Importance=%{x}<extra></extra>",
           "ids": [
            "Input 02"
           ],
           "legendgroup": "Input 02",
           "marker": {
            "color": "#E45756",
            "pattern": {
             "shape": ""
            }
           },
           "name": "Input 02",
           "offsetgroup": "Input 02",
           "orientation": "h",
           "showlegend": true,
           "textposition": "auto",
           "type": "bar",
           "x": [
            0.05186910067947614
           ],
           "xaxis": "x",
           "y": [
            "Input 02"
           ],
           "yaxis": "y"
          },
          {
           "alignmentgroup": "True",
           "hovertemplate": "Feature Name=%{y}<br>Iteration=5<br>Importance=%{x}<extra></extra>",
           "ids": [
            "Input 11"
           ],
           "legendgroup": "Input 11",
           "marker": {
            "color": "#72B7B2",
            "pattern": {
             "shape": ""
            }
           },
           "name": "Input 11",
           "offsetgroup": "Input 11",
           "orientation": "h",
           "showlegend": true,
           "textposition": "auto",
           "type": "bar",
           "x": [
            0.012099172275508404
           ],
           "xaxis": "x",
           "y": [
            "Input 11"
           ],
           "yaxis": "y"
          },
          {
           "alignmentgroup": "True",
           "hovertemplate": "Feature Name=%{y}<br>Iteration=5<br>Importance=%{x}<extra></extra>",
           "ids": [
            "Input 06"
           ],
           "legendgroup": "Input 06",
           "marker": {
            "color": "#54A24B",
            "pattern": {
             "shape": ""
            }
           },
           "name": "Input 06",
           "offsetgroup": "Input 06",
           "orientation": "h",
           "showlegend": true,
           "textposition": "auto",
           "type": "bar",
           "x": [
            0.019340622845962156
           ],
           "xaxis": "x",
           "y": [
            "Input 06"
           ],
           "yaxis": "y"
          },
          {
           "alignmentgroup": "True",
           "hovertemplate": "Feature Name=%{y}<br>Iteration=5<br>Importance=%{x}<extra></extra>",
           "ids": [
            "Input 08"
           ],
           "legendgroup": "Input 08",
           "marker": {
            "color": "#EECA3B",
            "pattern": {
             "shape": ""
            }
           },
           "name": "Input 08",
           "offsetgroup": "Input 08",
           "orientation": "h",
           "showlegend": true,
           "textposition": "auto",
           "type": "bar",
           "x": [
            0.03497132804503161
           ],
           "xaxis": "x",
           "y": [
            "Input 08"
           ],
           "yaxis": "y"
          },
          {
           "alignmentgroup": "True",
           "hovertemplate": "Feature Name=%{y}<br>Iteration=5<br>Importance=%{x}<extra></extra>",
           "ids": [
            "Input 01"
           ],
           "legendgroup": "Input 01",
           "marker": {
            "color": "#B279A2",
            "pattern": {
             "shape": ""
            }
           },
           "name": "Input 01",
           "offsetgroup": "Input 01",
           "orientation": "h",
           "showlegend": true,
           "textposition": "auto",
           "type": "bar",
           "x": [
            0.004526515892360297
           ],
           "xaxis": "x",
           "y": [
            "Input 01"
           ],
           "yaxis": "y"
          },
          {
           "alignmentgroup": "True",
           "hovertemplate": "Feature Name=%{y}<br>Iteration=5<br>Importance=%{x}<extra></extra>",
           "ids": [
            "Input 04"
           ],
           "legendgroup": "Input 04",
           "marker": {
            "color": "#FF9DA6",
            "pattern": {
             "shape": ""
            }
           },
           "name": "Input 04",
           "offsetgroup": "Input 04",
           "orientation": "h",
           "showlegend": true,
           "textposition": "auto",
           "type": "bar",
           "x": [
            0.01766323132703818
           ],
           "xaxis": "x",
           "y": [
            "Input 04"
           ],
           "yaxis": "y"
          },
          {
           "alignmentgroup": "True",
           "hovertemplate": "Feature Name=%{y}<br>Iteration=5<br>Importance=%{x}<extra></extra>",
           "ids": [
            "Input 05"
           ],
           "legendgroup": "Input 05",
           "marker": {
            "color": "#9D755D",
            "pattern": {
             "shape": ""
            }
           },
           "name": "Input 05",
           "offsetgroup": "Input 05",
           "orientation": "h",
           "showlegend": true,
           "textposition": "auto",
           "type": "bar",
           "x": [
            0.006567356109055192
           ],
           "xaxis": "x",
           "y": [
            "Input 05"
           ],
           "yaxis": "y"
          },
          {
           "alignmentgroup": "True",
           "hovertemplate": "Feature Name=%{y}<br>Iteration=5<br>Importance=%{x}<extra></extra>",
           "ids": [
            "Input 12"
           ],
           "legendgroup": "Input 12",
           "marker": {
            "color": "#BAB0AC",
            "pattern": {
             "shape": ""
            }
           },
           "name": "Input 12",
           "offsetgroup": "Input 12",
           "orientation": "h",
           "showlegend": true,
           "textposition": "auto",
           "type": "bar",
           "x": [
            0.003371796765051936
           ],
           "xaxis": "x",
           "y": [
            "Input 12"
           ],
           "yaxis": "y"
          },
          {
           "alignmentgroup": "True",
           "hovertemplate": "Feature Name=%{y}<br>Iteration=5<br>Importance=%{x}<extra></extra>",
           "ids": [
            "Input 09"
           ],
           "legendgroup": "Input 09",
           "marker": {
            "color": "#4C78A8",
            "pattern": {
             "shape": ""
            }
           },
           "name": "Input 09",
           "offsetgroup": "Input 09",
           "orientation": "h",
           "showlegend": true,
           "textposition": "auto",
           "type": "bar",
           "x": [
            0.002516442068493644
           ],
           "xaxis": "x",
           "y": [
            "Input 09"
           ],
           "yaxis": "y"
          },
          {
           "alignmentgroup": "True",
           "hovertemplate": "Feature Name=%{y}<br>Iteration=5<br>Importance=%{x}<extra></extra>",
           "ids": [
            "Input 07"
           ],
           "legendgroup": "Input 07",
           "marker": {
            "color": "#F58518",
            "pattern": {
             "shape": ""
            }
           },
           "name": "Input 07",
           "offsetgroup": "Input 07",
           "orientation": "h",
           "showlegend": true,
           "textposition": "auto",
           "type": "bar",
           "x": [
            0.008588244083745722
           ],
           "xaxis": "x",
           "y": [
            "Input 07"
           ],
           "yaxis": "y"
          },
          {
           "alignmentgroup": "True",
           "hovertemplate": "Feature Name=%{y}<br>Iteration=5<br>Importance=%{x}<extra></extra>",
           "ids": [
            "Input 10"
           ],
           "legendgroup": "Input 10",
           "marker": {
            "color": "#E45756",
            "pattern": {
             "shape": ""
            }
           },
           "name": "Input 10",
           "offsetgroup": "Input 10",
           "orientation": "h",
           "showlegend": true,
           "textposition": "auto",
           "type": "bar",
           "x": [
            0.00919729981724901
           ],
           "xaxis": "x",
           "y": [
            "Input 10"
           ],
           "yaxis": "y"
          }
         ],
         "name": "5"
        },
        {
         "data": [
          {
           "alignmentgroup": "True",
           "hovertemplate": "Feature Name=%{y}<br>Iteration=6<br>Importance=%{x}<extra></extra>",
           "ids": [
            "Output 01"
           ],
           "legendgroup": "Output 01",
           "marker": {
            "color": "#4C78A8",
            "pattern": {
             "shape": ""
            }
           },
           "name": "Output 01",
           "offsetgroup": "Output 01",
           "orientation": "h",
           "showlegend": true,
           "textposition": "auto",
           "type": "bar",
           "x": [
            0.7161410224725174
           ],
           "xaxis": "x",
           "y": [
            "Output 01"
           ],
           "yaxis": "y"
          },
          {
           "alignmentgroup": "True",
           "hovertemplate": "Feature Name=%{y}<br>Iteration=6<br>Importance=%{x}<extra></extra>",
           "ids": [
            "Input 03"
           ],
           "legendgroup": "Input 03",
           "marker": {
            "color": "#F58518",
            "pattern": {
             "shape": ""
            }
           },
           "name": "Input 03",
           "offsetgroup": "Input 03",
           "orientation": "h",
           "showlegend": true,
           "textposition": "auto",
           "type": "bar",
           "x": [
            0.11314786761851021
           ],
           "xaxis": "x",
           "y": [
            "Input 03"
           ],
           "yaxis": "y"
          },
          {
           "alignmentgroup": "True",
           "hovertemplate": "Feature Name=%{y}<br>Iteration=6<br>Importance=%{x}<extra></extra>",
           "ids": [
            "Input 02"
           ],
           "legendgroup": "Input 02",
           "marker": {
            "color": "#E45756",
            "pattern": {
             "shape": ""
            }
           },
           "name": "Input 02",
           "offsetgroup": "Input 02",
           "orientation": "h",
           "showlegend": true,
           "textposition": "auto",
           "type": "bar",
           "x": [
            0.05186910067947614
           ],
           "xaxis": "x",
           "y": [
            "Input 02"
           ],
           "yaxis": "y"
          },
          {
           "alignmentgroup": "True",
           "hovertemplate": "Feature Name=%{y}<br>Iteration=6<br>Importance=%{x}<extra></extra>",
           "ids": [
            "Input 11"
           ],
           "legendgroup": "Input 11",
           "marker": {
            "color": "#72B7B2",
            "pattern": {
             "shape": ""
            }
           },
           "name": "Input 11",
           "offsetgroup": "Input 11",
           "orientation": "h",
           "showlegend": true,
           "textposition": "auto",
           "type": "bar",
           "x": [
            0.012099172275508404
           ],
           "xaxis": "x",
           "y": [
            "Input 11"
           ],
           "yaxis": "y"
          },
          {
           "alignmentgroup": "True",
           "hovertemplate": "Feature Name=%{y}<br>Iteration=6<br>Importance=%{x}<extra></extra>",
           "ids": [
            "Input 06"
           ],
           "legendgroup": "Input 06",
           "marker": {
            "color": "#54A24B",
            "pattern": {
             "shape": ""
            }
           },
           "name": "Input 06",
           "offsetgroup": "Input 06",
           "orientation": "h",
           "showlegend": true,
           "textposition": "auto",
           "type": "bar",
           "x": [
            0.019340622845962156
           ],
           "xaxis": "x",
           "y": [
            "Input 06"
           ],
           "yaxis": "y"
          },
          {
           "alignmentgroup": "True",
           "hovertemplate": "Feature Name=%{y}<br>Iteration=6<br>Importance=%{x}<extra></extra>",
           "ids": [
            "Input 08"
           ],
           "legendgroup": "Input 08",
           "marker": {
            "color": "#EECA3B",
            "pattern": {
             "shape": ""
            }
           },
           "name": "Input 08",
           "offsetgroup": "Input 08",
           "orientation": "h",
           "showlegend": true,
           "textposition": "auto",
           "type": "bar",
           "x": [
            0.03497132804503161
           ],
           "xaxis": "x",
           "y": [
            "Input 08"
           ],
           "yaxis": "y"
          },
          {
           "alignmentgroup": "True",
           "hovertemplate": "Feature Name=%{y}<br>Iteration=6<br>Importance=%{x}<extra></extra>",
           "ids": [
            "Input 01"
           ],
           "legendgroup": "Input 01",
           "marker": {
            "color": "#B279A2",
            "pattern": {
             "shape": ""
            }
           },
           "name": "Input 01",
           "offsetgroup": "Input 01",
           "orientation": "h",
           "showlegend": true,
           "textposition": "auto",
           "type": "bar",
           "x": [
            0.004526515892360297
           ],
           "xaxis": "x",
           "y": [
            "Input 01"
           ],
           "yaxis": "y"
          },
          {
           "alignmentgroup": "True",
           "hovertemplate": "Feature Name=%{y}<br>Iteration=6<br>Importance=%{x}<extra></extra>",
           "ids": [
            "Input 04"
           ],
           "legendgroup": "Input 04",
           "marker": {
            "color": "#FF9DA6",
            "pattern": {
             "shape": ""
            }
           },
           "name": "Input 04",
           "offsetgroup": "Input 04",
           "orientation": "h",
           "showlegend": true,
           "textposition": "auto",
           "type": "bar",
           "x": [
            0.01766323132703818
           ],
           "xaxis": "x",
           "y": [
            "Input 04"
           ],
           "yaxis": "y"
          },
          {
           "alignmentgroup": "True",
           "hovertemplate": "Feature Name=%{y}<br>Iteration=6<br>Importance=%{x}<extra></extra>",
           "ids": [
            "Input 05"
           ],
           "legendgroup": "Input 05",
           "marker": {
            "color": "#9D755D",
            "pattern": {
             "shape": ""
            }
           },
           "name": "Input 05",
           "offsetgroup": "Input 05",
           "orientation": "h",
           "showlegend": true,
           "textposition": "auto",
           "type": "bar",
           "x": [
            0.006567356109055192
           ],
           "xaxis": "x",
           "y": [
            "Input 05"
           ],
           "yaxis": "y"
          },
          {
           "alignmentgroup": "True",
           "hovertemplate": "Feature Name=%{y}<br>Iteration=6<br>Importance=%{x}<extra></extra>",
           "ids": [
            "Input 12"
           ],
           "legendgroup": "Input 12",
           "marker": {
            "color": "#BAB0AC",
            "pattern": {
             "shape": ""
            }
           },
           "name": "Input 12",
           "offsetgroup": "Input 12",
           "orientation": "h",
           "showlegend": true,
           "textposition": "auto",
           "type": "bar",
           "x": [
            0.003371796765051936
           ],
           "xaxis": "x",
           "y": [
            "Input 12"
           ],
           "yaxis": "y"
          },
          {
           "alignmentgroup": "True",
           "hovertemplate": "Feature Name=%{y}<br>Iteration=6<br>Importance=%{x}<extra></extra>",
           "ids": [
            "Input 09"
           ],
           "legendgroup": "Input 09",
           "marker": {
            "color": "#4C78A8",
            "pattern": {
             "shape": ""
            }
           },
           "name": "Input 09",
           "offsetgroup": "Input 09",
           "orientation": "h",
           "showlegend": true,
           "textposition": "auto",
           "type": "bar",
           "x": [
            0.002516442068493644
           ],
           "xaxis": "x",
           "y": [
            "Input 09"
           ],
           "yaxis": "y"
          },
          {
           "alignmentgroup": "True",
           "hovertemplate": "Feature Name=%{y}<br>Iteration=6<br>Importance=%{x}<extra></extra>",
           "ids": [
            "Input 07"
           ],
           "legendgroup": "Input 07",
           "marker": {
            "color": "#F58518",
            "pattern": {
             "shape": ""
            }
           },
           "name": "Input 07",
           "offsetgroup": "Input 07",
           "orientation": "h",
           "showlegend": true,
           "textposition": "auto",
           "type": "bar",
           "x": [
            0.008588244083745722
           ],
           "xaxis": "x",
           "y": [
            "Input 07"
           ],
           "yaxis": "y"
          },
          {
           "alignmentgroup": "True",
           "hovertemplate": "Feature Name=%{y}<br>Iteration=6<br>Importance=%{x}<extra></extra>",
           "ids": [
            "Input 10"
           ],
           "legendgroup": "Input 10",
           "marker": {
            "color": "#E45756",
            "pattern": {
             "shape": ""
            }
           },
           "name": "Input 10",
           "offsetgroup": "Input 10",
           "orientation": "h",
           "showlegend": true,
           "textposition": "auto",
           "type": "bar",
           "x": [
            0.00919729981724901
           ],
           "xaxis": "x",
           "y": [
            "Input 10"
           ],
           "yaxis": "y"
          }
         ],
         "name": "6"
        },
        {
         "data": [
          {
           "alignmentgroup": "True",
           "hovertemplate": "Feature Name=%{y}<br>Iteration=7<br>Importance=%{x}<extra></extra>",
           "ids": [
            "Output 01"
           ],
           "legendgroup": "Output 01",
           "marker": {
            "color": "#4C78A8",
            "pattern": {
             "shape": ""
            }
           },
           "name": "Output 01",
           "offsetgroup": "Output 01",
           "orientation": "h",
           "showlegend": true,
           "textposition": "auto",
           "type": "bar",
           "x": [
            0.7161410224725174
           ],
           "xaxis": "x",
           "y": [
            "Output 01"
           ],
           "yaxis": "y"
          },
          {
           "alignmentgroup": "True",
           "hovertemplate": "Feature Name=%{y}<br>Iteration=7<br>Importance=%{x}<extra></extra>",
           "ids": [
            "Input 03"
           ],
           "legendgroup": "Input 03",
           "marker": {
            "color": "#F58518",
            "pattern": {
             "shape": ""
            }
           },
           "name": "Input 03",
           "offsetgroup": "Input 03",
           "orientation": "h",
           "showlegend": true,
           "textposition": "auto",
           "type": "bar",
           "x": [
            0.11314786761851021
           ],
           "xaxis": "x",
           "y": [
            "Input 03"
           ],
           "yaxis": "y"
          },
          {
           "alignmentgroup": "True",
           "hovertemplate": "Feature Name=%{y}<br>Iteration=7<br>Importance=%{x}<extra></extra>",
           "ids": [
            "Input 02"
           ],
           "legendgroup": "Input 02",
           "marker": {
            "color": "#E45756",
            "pattern": {
             "shape": ""
            }
           },
           "name": "Input 02",
           "offsetgroup": "Input 02",
           "orientation": "h",
           "showlegend": true,
           "textposition": "auto",
           "type": "bar",
           "x": [
            0.05186910067947614
           ],
           "xaxis": "x",
           "y": [
            "Input 02"
           ],
           "yaxis": "y"
          },
          {
           "alignmentgroup": "True",
           "hovertemplate": "Feature Name=%{y}<br>Iteration=7<br>Importance=%{x}<extra></extra>",
           "ids": [
            "Input 11"
           ],
           "legendgroup": "Input 11",
           "marker": {
            "color": "#72B7B2",
            "pattern": {
             "shape": ""
            }
           },
           "name": "Input 11",
           "offsetgroup": "Input 11",
           "orientation": "h",
           "showlegend": true,
           "textposition": "auto",
           "type": "bar",
           "x": [
            0.012099172275508404
           ],
           "xaxis": "x",
           "y": [
            "Input 11"
           ],
           "yaxis": "y"
          },
          {
           "alignmentgroup": "True",
           "hovertemplate": "Feature Name=%{y}<br>Iteration=7<br>Importance=%{x}<extra></extra>",
           "ids": [
            "Input 06"
           ],
           "legendgroup": "Input 06",
           "marker": {
            "color": "#54A24B",
            "pattern": {
             "shape": ""
            }
           },
           "name": "Input 06",
           "offsetgroup": "Input 06",
           "orientation": "h",
           "showlegend": true,
           "textposition": "auto",
           "type": "bar",
           "x": [
            0.019340622845962156
           ],
           "xaxis": "x",
           "y": [
            "Input 06"
           ],
           "yaxis": "y"
          },
          {
           "alignmentgroup": "True",
           "hovertemplate": "Feature Name=%{y}<br>Iteration=7<br>Importance=%{x}<extra></extra>",
           "ids": [
            "Input 08"
           ],
           "legendgroup": "Input 08",
           "marker": {
            "color": "#EECA3B",
            "pattern": {
             "shape": ""
            }
           },
           "name": "Input 08",
           "offsetgroup": "Input 08",
           "orientation": "h",
           "showlegend": true,
           "textposition": "auto",
           "type": "bar",
           "x": [
            0.03497132804503161
           ],
           "xaxis": "x",
           "y": [
            "Input 08"
           ],
           "yaxis": "y"
          },
          {
           "alignmentgroup": "True",
           "hovertemplate": "Feature Name=%{y}<br>Iteration=7<br>Importance=%{x}<extra></extra>",
           "ids": [
            "Input 01"
           ],
           "legendgroup": "Input 01",
           "marker": {
            "color": "#B279A2",
            "pattern": {
             "shape": ""
            }
           },
           "name": "Input 01",
           "offsetgroup": "Input 01",
           "orientation": "h",
           "showlegend": true,
           "textposition": "auto",
           "type": "bar",
           "x": [
            0.004526515892360297
           ],
           "xaxis": "x",
           "y": [
            "Input 01"
           ],
           "yaxis": "y"
          },
          {
           "alignmentgroup": "True",
           "hovertemplate": "Feature Name=%{y}<br>Iteration=7<br>Importance=%{x}<extra></extra>",
           "ids": [
            "Input 04"
           ],
           "legendgroup": "Input 04",
           "marker": {
            "color": "#FF9DA6",
            "pattern": {
             "shape": ""
            }
           },
           "name": "Input 04",
           "offsetgroup": "Input 04",
           "orientation": "h",
           "showlegend": true,
           "textposition": "auto",
           "type": "bar",
           "x": [
            0.01766323132703818
           ],
           "xaxis": "x",
           "y": [
            "Input 04"
           ],
           "yaxis": "y"
          },
          {
           "alignmentgroup": "True",
           "hovertemplate": "Feature Name=%{y}<br>Iteration=7<br>Importance=%{x}<extra></extra>",
           "ids": [
            "Input 05"
           ],
           "legendgroup": "Input 05",
           "marker": {
            "color": "#9D755D",
            "pattern": {
             "shape": ""
            }
           },
           "name": "Input 05",
           "offsetgroup": "Input 05",
           "orientation": "h",
           "showlegend": true,
           "textposition": "auto",
           "type": "bar",
           "x": [
            0.006567356109055192
           ],
           "xaxis": "x",
           "y": [
            "Input 05"
           ],
           "yaxis": "y"
          },
          {
           "alignmentgroup": "True",
           "hovertemplate": "Feature Name=%{y}<br>Iteration=7<br>Importance=%{x}<extra></extra>",
           "ids": [
            "Input 12"
           ],
           "legendgroup": "Input 12",
           "marker": {
            "color": "#BAB0AC",
            "pattern": {
             "shape": ""
            }
           },
           "name": "Input 12",
           "offsetgroup": "Input 12",
           "orientation": "h",
           "showlegend": true,
           "textposition": "auto",
           "type": "bar",
           "x": [
            0.003371796765051936
           ],
           "xaxis": "x",
           "y": [
            "Input 12"
           ],
           "yaxis": "y"
          },
          {
           "alignmentgroup": "True",
           "hovertemplate": "Feature Name=%{y}<br>Iteration=7<br>Importance=%{x}<extra></extra>",
           "ids": [
            "Input 09"
           ],
           "legendgroup": "Input 09",
           "marker": {
            "color": "#4C78A8",
            "pattern": {
             "shape": ""
            }
           },
           "name": "Input 09",
           "offsetgroup": "Input 09",
           "orientation": "h",
           "showlegend": true,
           "textposition": "auto",
           "type": "bar",
           "x": [
            0.002516442068493644
           ],
           "xaxis": "x",
           "y": [
            "Input 09"
           ],
           "yaxis": "y"
          },
          {
           "alignmentgroup": "True",
           "hovertemplate": "Feature Name=%{y}<br>Iteration=7<br>Importance=%{x}<extra></extra>",
           "ids": [
            "Input 07"
           ],
           "legendgroup": "Input 07",
           "marker": {
            "color": "#F58518",
            "pattern": {
             "shape": ""
            }
           },
           "name": "Input 07",
           "offsetgroup": "Input 07",
           "orientation": "h",
           "showlegend": true,
           "textposition": "auto",
           "type": "bar",
           "x": [
            0.008588244083745722
           ],
           "xaxis": "x",
           "y": [
            "Input 07"
           ],
           "yaxis": "y"
          },
          {
           "alignmentgroup": "True",
           "hovertemplate": "Feature Name=%{y}<br>Iteration=7<br>Importance=%{x}<extra></extra>",
           "ids": [
            "Input 10"
           ],
           "legendgroup": "Input 10",
           "marker": {
            "color": "#E45756",
            "pattern": {
             "shape": ""
            }
           },
           "name": "Input 10",
           "offsetgroup": "Input 10",
           "orientation": "h",
           "showlegend": true,
           "textposition": "auto",
           "type": "bar",
           "x": [
            0.00919729981724901
           ],
           "xaxis": "x",
           "y": [
            "Input 10"
           ],
           "yaxis": "y"
          }
         ],
         "name": "7"
        },
        {
         "data": [
          {
           "alignmentgroup": "True",
           "hovertemplate": "Feature Name=%{y}<br>Iteration=8<br>Importance=%{x}<extra></extra>",
           "ids": [
            "Output 01"
           ],
           "legendgroup": "Output 01",
           "marker": {
            "color": "#4C78A8",
            "pattern": {
             "shape": ""
            }
           },
           "name": "Output 01",
           "offsetgroup": "Output 01",
           "orientation": "h",
           "showlegend": true,
           "textposition": "auto",
           "type": "bar",
           "x": [
            0.7161410224725174
           ],
           "xaxis": "x",
           "y": [
            "Output 01"
           ],
           "yaxis": "y"
          },
          {
           "alignmentgroup": "True",
           "hovertemplate": "Feature Name=%{y}<br>Iteration=8<br>Importance=%{x}<extra></extra>",
           "ids": [
            "Input 03"
           ],
           "legendgroup": "Input 03",
           "marker": {
            "color": "#F58518",
            "pattern": {
             "shape": ""
            }
           },
           "name": "Input 03",
           "offsetgroup": "Input 03",
           "orientation": "h",
           "showlegend": true,
           "textposition": "auto",
           "type": "bar",
           "x": [
            0.11314786761851021
           ],
           "xaxis": "x",
           "y": [
            "Input 03"
           ],
           "yaxis": "y"
          },
          {
           "alignmentgroup": "True",
           "hovertemplate": "Feature Name=%{y}<br>Iteration=8<br>Importance=%{x}<extra></extra>",
           "ids": [
            "Input 02"
           ],
           "legendgroup": "Input 02",
           "marker": {
            "color": "#E45756",
            "pattern": {
             "shape": ""
            }
           },
           "name": "Input 02",
           "offsetgroup": "Input 02",
           "orientation": "h",
           "showlegend": true,
           "textposition": "auto",
           "type": "bar",
           "x": [
            0.05186910067947614
           ],
           "xaxis": "x",
           "y": [
            "Input 02"
           ],
           "yaxis": "y"
          },
          {
           "alignmentgroup": "True",
           "hovertemplate": "Feature Name=%{y}<br>Iteration=8<br>Importance=%{x}<extra></extra>",
           "ids": [
            "Input 11"
           ],
           "legendgroup": "Input 11",
           "marker": {
            "color": "#72B7B2",
            "pattern": {
             "shape": ""
            }
           },
           "name": "Input 11",
           "offsetgroup": "Input 11",
           "orientation": "h",
           "showlegend": true,
           "textposition": "auto",
           "type": "bar",
           "x": [
            0.012099172275508404
           ],
           "xaxis": "x",
           "y": [
            "Input 11"
           ],
           "yaxis": "y"
          },
          {
           "alignmentgroup": "True",
           "hovertemplate": "Feature Name=%{y}<br>Iteration=8<br>Importance=%{x}<extra></extra>",
           "ids": [
            "Input 06"
           ],
           "legendgroup": "Input 06",
           "marker": {
            "color": "#54A24B",
            "pattern": {
             "shape": ""
            }
           },
           "name": "Input 06",
           "offsetgroup": "Input 06",
           "orientation": "h",
           "showlegend": true,
           "textposition": "auto",
           "type": "bar",
           "x": [
            0.019340622845962156
           ],
           "xaxis": "x",
           "y": [
            "Input 06"
           ],
           "yaxis": "y"
          },
          {
           "alignmentgroup": "True",
           "hovertemplate": "Feature Name=%{y}<br>Iteration=8<br>Importance=%{x}<extra></extra>",
           "ids": [
            "Input 08"
           ],
           "legendgroup": "Input 08",
           "marker": {
            "color": "#EECA3B",
            "pattern": {
             "shape": ""
            }
           },
           "name": "Input 08",
           "offsetgroup": "Input 08",
           "orientation": "h",
           "showlegend": true,
           "textposition": "auto",
           "type": "bar",
           "x": [
            0.03497132804503161
           ],
           "xaxis": "x",
           "y": [
            "Input 08"
           ],
           "yaxis": "y"
          },
          {
           "alignmentgroup": "True",
           "hovertemplate": "Feature Name=%{y}<br>Iteration=8<br>Importance=%{x}<extra></extra>",
           "ids": [
            "Input 01"
           ],
           "legendgroup": "Input 01",
           "marker": {
            "color": "#B279A2",
            "pattern": {
             "shape": ""
            }
           },
           "name": "Input 01",
           "offsetgroup": "Input 01",
           "orientation": "h",
           "showlegend": true,
           "textposition": "auto",
           "type": "bar",
           "x": [
            0.004526515892360297
           ],
           "xaxis": "x",
           "y": [
            "Input 01"
           ],
           "yaxis": "y"
          },
          {
           "alignmentgroup": "True",
           "hovertemplate": "Feature Name=%{y}<br>Iteration=8<br>Importance=%{x}<extra></extra>",
           "ids": [
            "Input 04"
           ],
           "legendgroup": "Input 04",
           "marker": {
            "color": "#FF9DA6",
            "pattern": {
             "shape": ""
            }
           },
           "name": "Input 04",
           "offsetgroup": "Input 04",
           "orientation": "h",
           "showlegend": true,
           "textposition": "auto",
           "type": "bar",
           "x": [
            0.01766323132703818
           ],
           "xaxis": "x",
           "y": [
            "Input 04"
           ],
           "yaxis": "y"
          },
          {
           "alignmentgroup": "True",
           "hovertemplate": "Feature Name=%{y}<br>Iteration=8<br>Importance=%{x}<extra></extra>",
           "ids": [
            "Input 05"
           ],
           "legendgroup": "Input 05",
           "marker": {
            "color": "#9D755D",
            "pattern": {
             "shape": ""
            }
           },
           "name": "Input 05",
           "offsetgroup": "Input 05",
           "orientation": "h",
           "showlegend": true,
           "textposition": "auto",
           "type": "bar",
           "x": [
            0.006567356109055192
           ],
           "xaxis": "x",
           "y": [
            "Input 05"
           ],
           "yaxis": "y"
          },
          {
           "alignmentgroup": "True",
           "hovertemplate": "Feature Name=%{y}<br>Iteration=8<br>Importance=%{x}<extra></extra>",
           "ids": [
            "Input 12"
           ],
           "legendgroup": "Input 12",
           "marker": {
            "color": "#BAB0AC",
            "pattern": {
             "shape": ""
            }
           },
           "name": "Input 12",
           "offsetgroup": "Input 12",
           "orientation": "h",
           "showlegend": true,
           "textposition": "auto",
           "type": "bar",
           "x": [
            0.003371796765051936
           ],
           "xaxis": "x",
           "y": [
            "Input 12"
           ],
           "yaxis": "y"
          },
          {
           "alignmentgroup": "True",
           "hovertemplate": "Feature Name=%{y}<br>Iteration=8<br>Importance=%{x}<extra></extra>",
           "ids": [
            "Input 09"
           ],
           "legendgroup": "Input 09",
           "marker": {
            "color": "#4C78A8",
            "pattern": {
             "shape": ""
            }
           },
           "name": "Input 09",
           "offsetgroup": "Input 09",
           "orientation": "h",
           "showlegend": true,
           "textposition": "auto",
           "type": "bar",
           "x": [
            0.002516442068493644
           ],
           "xaxis": "x",
           "y": [
            "Input 09"
           ],
           "yaxis": "y"
          },
          {
           "alignmentgroup": "True",
           "hovertemplate": "Feature Name=%{y}<br>Iteration=8<br>Importance=%{x}<extra></extra>",
           "ids": [
            "Input 07"
           ],
           "legendgroup": "Input 07",
           "marker": {
            "color": "#F58518",
            "pattern": {
             "shape": ""
            }
           },
           "name": "Input 07",
           "offsetgroup": "Input 07",
           "orientation": "h",
           "showlegend": true,
           "textposition": "auto",
           "type": "bar",
           "x": [
            0.008588244083745722
           ],
           "xaxis": "x",
           "y": [
            "Input 07"
           ],
           "yaxis": "y"
          },
          {
           "alignmentgroup": "True",
           "hovertemplate": "Feature Name=%{y}<br>Iteration=8<br>Importance=%{x}<extra></extra>",
           "ids": [
            "Input 10"
           ],
           "legendgroup": "Input 10",
           "marker": {
            "color": "#E45756",
            "pattern": {
             "shape": ""
            }
           },
           "name": "Input 10",
           "offsetgroup": "Input 10",
           "orientation": "h",
           "showlegend": true,
           "textposition": "auto",
           "type": "bar",
           "x": [
            0.00919729981724901
           ],
           "xaxis": "x",
           "y": [
            "Input 10"
           ],
           "yaxis": "y"
          }
         ],
         "name": "8"
        },
        {
         "data": [
          {
           "alignmentgroup": "True",
           "hovertemplate": "Feature Name=%{y}<br>Iteration=9<br>Importance=%{x}<extra></extra>",
           "ids": [
            "Output 01"
           ],
           "legendgroup": "Output 01",
           "marker": {
            "color": "#4C78A8",
            "pattern": {
             "shape": ""
            }
           },
           "name": "Output 01",
           "offsetgroup": "Output 01",
           "orientation": "h",
           "showlegend": true,
           "textposition": "auto",
           "type": "bar",
           "x": [
            0.7161410224725174
           ],
           "xaxis": "x",
           "y": [
            "Output 01"
           ],
           "yaxis": "y"
          },
          {
           "alignmentgroup": "True",
           "hovertemplate": "Feature Name=%{y}<br>Iteration=9<br>Importance=%{x}<extra></extra>",
           "ids": [
            "Input 03"
           ],
           "legendgroup": "Input 03",
           "marker": {
            "color": "#F58518",
            "pattern": {
             "shape": ""
            }
           },
           "name": "Input 03",
           "offsetgroup": "Input 03",
           "orientation": "h",
           "showlegend": true,
           "textposition": "auto",
           "type": "bar",
           "x": [
            0.11314786761851021
           ],
           "xaxis": "x",
           "y": [
            "Input 03"
           ],
           "yaxis": "y"
          },
          {
           "alignmentgroup": "True",
           "hovertemplate": "Feature Name=%{y}<br>Iteration=9<br>Importance=%{x}<extra></extra>",
           "ids": [
            "Input 02"
           ],
           "legendgroup": "Input 02",
           "marker": {
            "color": "#E45756",
            "pattern": {
             "shape": ""
            }
           },
           "name": "Input 02",
           "offsetgroup": "Input 02",
           "orientation": "h",
           "showlegend": true,
           "textposition": "auto",
           "type": "bar",
           "x": [
            0.05186910067947614
           ],
           "xaxis": "x",
           "y": [
            "Input 02"
           ],
           "yaxis": "y"
          },
          {
           "alignmentgroup": "True",
           "hovertemplate": "Feature Name=%{y}<br>Iteration=9<br>Importance=%{x}<extra></extra>",
           "ids": [
            "Input 11"
           ],
           "legendgroup": "Input 11",
           "marker": {
            "color": "#72B7B2",
            "pattern": {
             "shape": ""
            }
           },
           "name": "Input 11",
           "offsetgroup": "Input 11",
           "orientation": "h",
           "showlegend": true,
           "textposition": "auto",
           "type": "bar",
           "x": [
            0.012099172275508404
           ],
           "xaxis": "x",
           "y": [
            "Input 11"
           ],
           "yaxis": "y"
          },
          {
           "alignmentgroup": "True",
           "hovertemplate": "Feature Name=%{y}<br>Iteration=9<br>Importance=%{x}<extra></extra>",
           "ids": [
            "Input 06"
           ],
           "legendgroup": "Input 06",
           "marker": {
            "color": "#54A24B",
            "pattern": {
             "shape": ""
            }
           },
           "name": "Input 06",
           "offsetgroup": "Input 06",
           "orientation": "h",
           "showlegend": true,
           "textposition": "auto",
           "type": "bar",
           "x": [
            0.019340622845962156
           ],
           "xaxis": "x",
           "y": [
            "Input 06"
           ],
           "yaxis": "y"
          },
          {
           "alignmentgroup": "True",
           "hovertemplate": "Feature Name=%{y}<br>Iteration=9<br>Importance=%{x}<extra></extra>",
           "ids": [
            "Input 08"
           ],
           "legendgroup": "Input 08",
           "marker": {
            "color": "#EECA3B",
            "pattern": {
             "shape": ""
            }
           },
           "name": "Input 08",
           "offsetgroup": "Input 08",
           "orientation": "h",
           "showlegend": true,
           "textposition": "auto",
           "type": "bar",
           "x": [
            0.03497132804503161
           ],
           "xaxis": "x",
           "y": [
            "Input 08"
           ],
           "yaxis": "y"
          },
          {
           "alignmentgroup": "True",
           "hovertemplate": "Feature Name=%{y}<br>Iteration=9<br>Importance=%{x}<extra></extra>",
           "ids": [
            "Input 01"
           ],
           "legendgroup": "Input 01",
           "marker": {
            "color": "#B279A2",
            "pattern": {
             "shape": ""
            }
           },
           "name": "Input 01",
           "offsetgroup": "Input 01",
           "orientation": "h",
           "showlegend": true,
           "textposition": "auto",
           "type": "bar",
           "x": [
            0.004526515892360297
           ],
           "xaxis": "x",
           "y": [
            "Input 01"
           ],
           "yaxis": "y"
          },
          {
           "alignmentgroup": "True",
           "hovertemplate": "Feature Name=%{y}<br>Iteration=9<br>Importance=%{x}<extra></extra>",
           "ids": [
            "Input 04"
           ],
           "legendgroup": "Input 04",
           "marker": {
            "color": "#FF9DA6",
            "pattern": {
             "shape": ""
            }
           },
           "name": "Input 04",
           "offsetgroup": "Input 04",
           "orientation": "h",
           "showlegend": true,
           "textposition": "auto",
           "type": "bar",
           "x": [
            0.01766323132703818
           ],
           "xaxis": "x",
           "y": [
            "Input 04"
           ],
           "yaxis": "y"
          },
          {
           "alignmentgroup": "True",
           "hovertemplate": "Feature Name=%{y}<br>Iteration=9<br>Importance=%{x}<extra></extra>",
           "ids": [
            "Input 05"
           ],
           "legendgroup": "Input 05",
           "marker": {
            "color": "#9D755D",
            "pattern": {
             "shape": ""
            }
           },
           "name": "Input 05",
           "offsetgroup": "Input 05",
           "orientation": "h",
           "showlegend": true,
           "textposition": "auto",
           "type": "bar",
           "x": [
            0.006567356109055192
           ],
           "xaxis": "x",
           "y": [
            "Input 05"
           ],
           "yaxis": "y"
          },
          {
           "alignmentgroup": "True",
           "hovertemplate": "Feature Name=%{y}<br>Iteration=9<br>Importance=%{x}<extra></extra>",
           "ids": [
            "Input 12"
           ],
           "legendgroup": "Input 12",
           "marker": {
            "color": "#BAB0AC",
            "pattern": {
             "shape": ""
            }
           },
           "name": "Input 12",
           "offsetgroup": "Input 12",
           "orientation": "h",
           "showlegend": true,
           "textposition": "auto",
           "type": "bar",
           "x": [
            0.003371796765051936
           ],
           "xaxis": "x",
           "y": [
            "Input 12"
           ],
           "yaxis": "y"
          },
          {
           "alignmentgroup": "True",
           "hovertemplate": "Feature Name=%{y}<br>Iteration=9<br>Importance=%{x}<extra></extra>",
           "ids": [
            "Input 09"
           ],
           "legendgroup": "Input 09",
           "marker": {
            "color": "#4C78A8",
            "pattern": {
             "shape": ""
            }
           },
           "name": "Input 09",
           "offsetgroup": "Input 09",
           "orientation": "h",
           "showlegend": true,
           "textposition": "auto",
           "type": "bar",
           "x": [
            0.002516442068493644
           ],
           "xaxis": "x",
           "y": [
            "Input 09"
           ],
           "yaxis": "y"
          },
          {
           "alignmentgroup": "True",
           "hovertemplate": "Feature Name=%{y}<br>Iteration=9<br>Importance=%{x}<extra></extra>",
           "ids": [
            "Input 07"
           ],
           "legendgroup": "Input 07",
           "marker": {
            "color": "#F58518",
            "pattern": {
             "shape": ""
            }
           },
           "name": "Input 07",
           "offsetgroup": "Input 07",
           "orientation": "h",
           "showlegend": true,
           "textposition": "auto",
           "type": "bar",
           "x": [
            0.008588244083745722
           ],
           "xaxis": "x",
           "y": [
            "Input 07"
           ],
           "yaxis": "y"
          },
          {
           "alignmentgroup": "True",
           "hovertemplate": "Feature Name=%{y}<br>Iteration=9<br>Importance=%{x}<extra></extra>",
           "ids": [
            "Input 10"
           ],
           "legendgroup": "Input 10",
           "marker": {
            "color": "#E45756",
            "pattern": {
             "shape": ""
            }
           },
           "name": "Input 10",
           "offsetgroup": "Input 10",
           "orientation": "h",
           "showlegend": true,
           "textposition": "auto",
           "type": "bar",
           "x": [
            0.00919729981724901
           ],
           "xaxis": "x",
           "y": [
            "Input 10"
           ],
           "yaxis": "y"
          }
         ],
         "name": "9"
        },
        {
         "data": [
          {
           "alignmentgroup": "True",
           "hovertemplate": "Feature Name=%{y}<br>Iteration=10<br>Importance=%{x}<extra></extra>",
           "ids": [
            "Output 01"
           ],
           "legendgroup": "Output 01",
           "marker": {
            "color": "#4C78A8",
            "pattern": {
             "shape": ""
            }
           },
           "name": "Output 01",
           "offsetgroup": "Output 01",
           "orientation": "h",
           "showlegend": true,
           "textposition": "auto",
           "type": "bar",
           "x": [
            0.7161410224725174
           ],
           "xaxis": "x",
           "y": [
            "Output 01"
           ],
           "yaxis": "y"
          },
          {
           "alignmentgroup": "True",
           "hovertemplate": "Feature Name=%{y}<br>Iteration=10<br>Importance=%{x}<extra></extra>",
           "ids": [
            "Input 03"
           ],
           "legendgroup": "Input 03",
           "marker": {
            "color": "#F58518",
            "pattern": {
             "shape": ""
            }
           },
           "name": "Input 03",
           "offsetgroup": "Input 03",
           "orientation": "h",
           "showlegend": true,
           "textposition": "auto",
           "type": "bar",
           "x": [
            0.11314786761851021
           ],
           "xaxis": "x",
           "y": [
            "Input 03"
           ],
           "yaxis": "y"
          },
          {
           "alignmentgroup": "True",
           "hovertemplate": "Feature Name=%{y}<br>Iteration=10<br>Importance=%{x}<extra></extra>",
           "ids": [
            "Input 02"
           ],
           "legendgroup": "Input 02",
           "marker": {
            "color": "#E45756",
            "pattern": {
             "shape": ""
            }
           },
           "name": "Input 02",
           "offsetgroup": "Input 02",
           "orientation": "h",
           "showlegend": true,
           "textposition": "auto",
           "type": "bar",
           "x": [
            0.05186910067947614
           ],
           "xaxis": "x",
           "y": [
            "Input 02"
           ],
           "yaxis": "y"
          },
          {
           "alignmentgroup": "True",
           "hovertemplate": "Feature Name=%{y}<br>Iteration=10<br>Importance=%{x}<extra></extra>",
           "ids": [
            "Input 11"
           ],
           "legendgroup": "Input 11",
           "marker": {
            "color": "#72B7B2",
            "pattern": {
             "shape": ""
            }
           },
           "name": "Input 11",
           "offsetgroup": "Input 11",
           "orientation": "h",
           "showlegend": true,
           "textposition": "auto",
           "type": "bar",
           "x": [
            0.012099172275508404
           ],
           "xaxis": "x",
           "y": [
            "Input 11"
           ],
           "yaxis": "y"
          },
          {
           "alignmentgroup": "True",
           "hovertemplate": "Feature Name=%{y}<br>Iteration=10<br>Importance=%{x}<extra></extra>",
           "ids": [
            "Input 06"
           ],
           "legendgroup": "Input 06",
           "marker": {
            "color": "#54A24B",
            "pattern": {
             "shape": ""
            }
           },
           "name": "Input 06",
           "offsetgroup": "Input 06",
           "orientation": "h",
           "showlegend": true,
           "textposition": "auto",
           "type": "bar",
           "x": [
            0.019340622845962156
           ],
           "xaxis": "x",
           "y": [
            "Input 06"
           ],
           "yaxis": "y"
          },
          {
           "alignmentgroup": "True",
           "hovertemplate": "Feature Name=%{y}<br>Iteration=10<br>Importance=%{x}<extra></extra>",
           "ids": [
            "Input 08"
           ],
           "legendgroup": "Input 08",
           "marker": {
            "color": "#EECA3B",
            "pattern": {
             "shape": ""
            }
           },
           "name": "Input 08",
           "offsetgroup": "Input 08",
           "orientation": "h",
           "showlegend": true,
           "textposition": "auto",
           "type": "bar",
           "x": [
            0.03497132804503161
           ],
           "xaxis": "x",
           "y": [
            "Input 08"
           ],
           "yaxis": "y"
          },
          {
           "alignmentgroup": "True",
           "hovertemplate": "Feature Name=%{y}<br>Iteration=10<br>Importance=%{x}<extra></extra>",
           "ids": [
            "Input 01"
           ],
           "legendgroup": "Input 01",
           "marker": {
            "color": "#B279A2",
            "pattern": {
             "shape": ""
            }
           },
           "name": "Input 01",
           "offsetgroup": "Input 01",
           "orientation": "h",
           "showlegend": true,
           "textposition": "auto",
           "type": "bar",
           "x": [
            0.004526515892360297
           ],
           "xaxis": "x",
           "y": [
            "Input 01"
           ],
           "yaxis": "y"
          },
          {
           "alignmentgroup": "True",
           "hovertemplate": "Feature Name=%{y}<br>Iteration=10<br>Importance=%{x}<extra></extra>",
           "ids": [
            "Input 04"
           ],
           "legendgroup": "Input 04",
           "marker": {
            "color": "#FF9DA6",
            "pattern": {
             "shape": ""
            }
           },
           "name": "Input 04",
           "offsetgroup": "Input 04",
           "orientation": "h",
           "showlegend": true,
           "textposition": "auto",
           "type": "bar",
           "x": [
            0.01766323132703818
           ],
           "xaxis": "x",
           "y": [
            "Input 04"
           ],
           "yaxis": "y"
          },
          {
           "alignmentgroup": "True",
           "hovertemplate": "Feature Name=%{y}<br>Iteration=10<br>Importance=%{x}<extra></extra>",
           "ids": [
            "Input 05"
           ],
           "legendgroup": "Input 05",
           "marker": {
            "color": "#9D755D",
            "pattern": {
             "shape": ""
            }
           },
           "name": "Input 05",
           "offsetgroup": "Input 05",
           "orientation": "h",
           "showlegend": true,
           "textposition": "auto",
           "type": "bar",
           "x": [
            0.006567356109055192
           ],
           "xaxis": "x",
           "y": [
            "Input 05"
           ],
           "yaxis": "y"
          },
          {
           "alignmentgroup": "True",
           "hovertemplate": "Feature Name=%{y}<br>Iteration=10<br>Importance=%{x}<extra></extra>",
           "ids": [
            "Input 12"
           ],
           "legendgroup": "Input 12",
           "marker": {
            "color": "#BAB0AC",
            "pattern": {
             "shape": ""
            }
           },
           "name": "Input 12",
           "offsetgroup": "Input 12",
           "orientation": "h",
           "showlegend": true,
           "textposition": "auto",
           "type": "bar",
           "x": [
            0.003371796765051936
           ],
           "xaxis": "x",
           "y": [
            "Input 12"
           ],
           "yaxis": "y"
          },
          {
           "alignmentgroup": "True",
           "hovertemplate": "Feature Name=%{y}<br>Iteration=10<br>Importance=%{x}<extra></extra>",
           "ids": [
            "Input 09"
           ],
           "legendgroup": "Input 09",
           "marker": {
            "color": "#4C78A8",
            "pattern": {
             "shape": ""
            }
           },
           "name": "Input 09",
           "offsetgroup": "Input 09",
           "orientation": "h",
           "showlegend": true,
           "textposition": "auto",
           "type": "bar",
           "x": [
            0.002516442068493644
           ],
           "xaxis": "x",
           "y": [
            "Input 09"
           ],
           "yaxis": "y"
          },
          {
           "alignmentgroup": "True",
           "hovertemplate": "Feature Name=%{y}<br>Iteration=10<br>Importance=%{x}<extra></extra>",
           "ids": [
            "Input 07"
           ],
           "legendgroup": "Input 07",
           "marker": {
            "color": "#F58518",
            "pattern": {
             "shape": ""
            }
           },
           "name": "Input 07",
           "offsetgroup": "Input 07",
           "orientation": "h",
           "showlegend": true,
           "textposition": "auto",
           "type": "bar",
           "x": [
            0.008588244083745722
           ],
           "xaxis": "x",
           "y": [
            "Input 07"
           ],
           "yaxis": "y"
          },
          {
           "alignmentgroup": "True",
           "hovertemplate": "Feature Name=%{y}<br>Iteration=10<br>Importance=%{x}<extra></extra>",
           "ids": [
            "Input 10"
           ],
           "legendgroup": "Input 10",
           "marker": {
            "color": "#E45756",
            "pattern": {
             "shape": ""
            }
           },
           "name": "Input 10",
           "offsetgroup": "Input 10",
           "orientation": "h",
           "showlegend": true,
           "textposition": "auto",
           "type": "bar",
           "x": [
            0.00919729981724901
           ],
           "xaxis": "x",
           "y": [
            "Input 10"
           ],
           "yaxis": "y"
          }
         ],
         "name": "10"
        }
       ],
       "layout": {
        "autosize": false,
        "barmode": "relative",
        "height": 500,
        "legend": {
         "title": {
          "text": "Feature Name"
         },
         "tracegroupgap": 0
        },
        "margin": {
         "t": 60
        },
        "sliders": [
         {
          "active": 10,
          "currentvalue": {
           "prefix": "Iteration="
          },
          "len": 0.9,
          "pad": {
           "b": 10,
           "t": 60
          },
          "steps": [
           {
            "args": [
             [
              "0"
             ],
             {
              "frame": {
               "duration": 0,
               "redraw": true
              },
              "fromcurrent": true,
              "mode": "immediate",
              "transition": {
               "duration": 0,
               "easing": "linear"
              }
             }
            ],
            "label": "0",
            "method": "animate"
           },
           {
            "args": [
             [
              "1"
             ],
             {
              "frame": {
               "duration": 0,
               "redraw": true
              },
              "fromcurrent": true,
              "mode": "immediate",
              "transition": {
               "duration": 0,
               "easing": "linear"
              }
             }
            ],
            "label": "1",
            "method": "animate"
           },
           {
            "args": [
             [
              "2"
             ],
             {
              "frame": {
               "duration": 0,
               "redraw": true
              },
              "fromcurrent": true,
              "mode": "immediate",
              "transition": {
               "duration": 0,
               "easing": "linear"
              }
             }
            ],
            "label": "2",
            "method": "animate"
           },
           {
            "args": [
             [
              "3"
             ],
             {
              "frame": {
               "duration": 0,
               "redraw": true
              },
              "fromcurrent": true,
              "mode": "immediate",
              "transition": {
               "duration": 0,
               "easing": "linear"
              }
             }
            ],
            "label": "3",
            "method": "animate"
           },
           {
            "args": [
             [
              "4"
             ],
             {
              "frame": {
               "duration": 0,
               "redraw": true
              },
              "fromcurrent": true,
              "mode": "immediate",
              "transition": {
               "duration": 0,
               "easing": "linear"
              }
             }
            ],
            "label": "4",
            "method": "animate"
           },
           {
            "args": [
             [
              "5"
             ],
             {
              "frame": {
               "duration": 0,
               "redraw": true
              },
              "fromcurrent": true,
              "mode": "immediate",
              "transition": {
               "duration": 0,
               "easing": "linear"
              }
             }
            ],
            "label": "5",
            "method": "animate"
           },
           {
            "args": [
             [
              "6"
             ],
             {
              "frame": {
               "duration": 0,
               "redraw": true
              },
              "fromcurrent": true,
              "mode": "immediate",
              "transition": {
               "duration": 0,
               "easing": "linear"
              }
             }
            ],
            "label": "6",
            "method": "animate"
           },
           {
            "args": [
             [
              "7"
             ],
             {
              "frame": {
               "duration": 0,
               "redraw": true
              },
              "fromcurrent": true,
              "mode": "immediate",
              "transition": {
               "duration": 0,
               "easing": "linear"
              }
             }
            ],
            "label": "7",
            "method": "animate"
           },
           {
            "args": [
             [
              "8"
             ],
             {
              "frame": {
               "duration": 0,
               "redraw": true
              },
              "fromcurrent": true,
              "mode": "immediate",
              "transition": {
               "duration": 0,
               "easing": "linear"
              }
             }
            ],
            "label": "8",
            "method": "animate"
           },
           {
            "args": [
             [
              "9"
             ],
             {
              "frame": {
               "duration": 0,
               "redraw": true
              },
              "fromcurrent": true,
              "mode": "immediate",
              "transition": {
               "duration": 0,
               "easing": "linear"
              }
             }
            ],
            "label": "9",
            "method": "animate"
           },
           {
            "args": [
             [
              "10"
             ],
             {
              "frame": {
               "duration": 0,
               "redraw": true
              },
              "fromcurrent": true,
              "mode": "immediate",
              "transition": {
               "duration": 0,
               "easing": "linear"
              }
             }
            ],
            "label": "10",
            "method": "animate"
           }
          ],
          "x": 0.1,
          "xanchor": "left",
          "y": 0,
          "yanchor": "top"
         }
        ],
        "template": {
         "data": {
          "bar": [
           {
            "error_x": {
             "color": "#2a3f5f"
            },
            "error_y": {
             "color": "#2a3f5f"
            },
            "marker": {
             "line": {
              "color": "#E5ECF6",
              "width": 0.5
             },
             "pattern": {
              "fillmode": "overlay",
              "size": 10,
              "solidity": 0.2
             }
            },
            "type": "bar"
           }
          ],
          "barpolar": [
           {
            "marker": {
             "line": {
              "color": "#E5ECF6",
              "width": 0.5
             },
             "pattern": {
              "fillmode": "overlay",
              "size": 10,
              "solidity": 0.2
             }
            },
            "type": "barpolar"
           }
          ],
          "carpet": [
           {
            "aaxis": {
             "endlinecolor": "#2a3f5f",
             "gridcolor": "white",
             "linecolor": "white",
             "minorgridcolor": "white",
             "startlinecolor": "#2a3f5f"
            },
            "baxis": {
             "endlinecolor": "#2a3f5f",
             "gridcolor": "white",
             "linecolor": "white",
             "minorgridcolor": "white",
             "startlinecolor": "#2a3f5f"
            },
            "type": "carpet"
           }
          ],
          "choropleth": [
           {
            "colorbar": {
             "outlinewidth": 0,
             "ticks": ""
            },
            "type": "choropleth"
           }
          ],
          "contour": [
           {
            "colorbar": {
             "outlinewidth": 0,
             "ticks": ""
            },
            "colorscale": [
             [
              0,
              "#0d0887"
             ],
             [
              0.1111111111111111,
              "#46039f"
             ],
             [
              0.2222222222222222,
              "#7201a8"
             ],
             [
              0.3333333333333333,
              "#9c179e"
             ],
             [
              0.4444444444444444,
              "#bd3786"
             ],
             [
              0.5555555555555556,
              "#d8576b"
             ],
             [
              0.6666666666666666,
              "#ed7953"
             ],
             [
              0.7777777777777778,
              "#fb9f3a"
             ],
             [
              0.8888888888888888,
              "#fdca26"
             ],
             [
              1,
              "#f0f921"
             ]
            ],
            "type": "contour"
           }
          ],
          "contourcarpet": [
           {
            "colorbar": {
             "outlinewidth": 0,
             "ticks": ""
            },
            "type": "contourcarpet"
           }
          ],
          "heatmap": [
           {
            "colorbar": {
             "outlinewidth": 0,
             "ticks": ""
            },
            "colorscale": [
             [
              0,
              "#0d0887"
             ],
             [
              0.1111111111111111,
              "#46039f"
             ],
             [
              0.2222222222222222,
              "#7201a8"
             ],
             [
              0.3333333333333333,
              "#9c179e"
             ],
             [
              0.4444444444444444,
              "#bd3786"
             ],
             [
              0.5555555555555556,
              "#d8576b"
             ],
             [
              0.6666666666666666,
              "#ed7953"
             ],
             [
              0.7777777777777778,
              "#fb9f3a"
             ],
             [
              0.8888888888888888,
              "#fdca26"
             ],
             [
              1,
              "#f0f921"
             ]
            ],
            "type": "heatmap"
           }
          ],
          "heatmapgl": [
           {
            "colorbar": {
             "outlinewidth": 0,
             "ticks": ""
            },
            "colorscale": [
             [
              0,
              "#0d0887"
             ],
             [
              0.1111111111111111,
              "#46039f"
             ],
             [
              0.2222222222222222,
              "#7201a8"
             ],
             [
              0.3333333333333333,
              "#9c179e"
             ],
             [
              0.4444444444444444,
              "#bd3786"
             ],
             [
              0.5555555555555556,
              "#d8576b"
             ],
             [
              0.6666666666666666,
              "#ed7953"
             ],
             [
              0.7777777777777778,
              "#fb9f3a"
             ],
             [
              0.8888888888888888,
              "#fdca26"
             ],
             [
              1,
              "#f0f921"
             ]
            ],
            "type": "heatmapgl"
           }
          ],
          "histogram": [
           {
            "marker": {
             "pattern": {
              "fillmode": "overlay",
              "size": 10,
              "solidity": 0.2
             }
            },
            "type": "histogram"
           }
          ],
          "histogram2d": [
           {
            "colorbar": {
             "outlinewidth": 0,
             "ticks": ""
            },
            "colorscale": [
             [
              0,
              "#0d0887"
             ],
             [
              0.1111111111111111,
              "#46039f"
             ],
             [
              0.2222222222222222,
              "#7201a8"
             ],
             [
              0.3333333333333333,
              "#9c179e"
             ],
             [
              0.4444444444444444,
              "#bd3786"
             ],
             [
              0.5555555555555556,
              "#d8576b"
             ],
             [
              0.6666666666666666,
              "#ed7953"
             ],
             [
              0.7777777777777778,
              "#fb9f3a"
             ],
             [
              0.8888888888888888,
              "#fdca26"
             ],
             [
              1,
              "#f0f921"
             ]
            ],
            "type": "histogram2d"
           }
          ],
          "histogram2dcontour": [
           {
            "colorbar": {
             "outlinewidth": 0,
             "ticks": ""
            },
            "colorscale": [
             [
              0,
              "#0d0887"
             ],
             [
              0.1111111111111111,
              "#46039f"
             ],
             [
              0.2222222222222222,
              "#7201a8"
             ],
             [
              0.3333333333333333,
              "#9c179e"
             ],
             [
              0.4444444444444444,
              "#bd3786"
             ],
             [
              0.5555555555555556,
              "#d8576b"
             ],
             [
              0.6666666666666666,
              "#ed7953"
             ],
             [
              0.7777777777777778,
              "#fb9f3a"
             ],
             [
              0.8888888888888888,
              "#fdca26"
             ],
             [
              1,
              "#f0f921"
             ]
            ],
            "type": "histogram2dcontour"
           }
          ],
          "mesh3d": [
           {
            "colorbar": {
             "outlinewidth": 0,
             "ticks": ""
            },
            "type": "mesh3d"
           }
          ],
          "parcoords": [
           {
            "line": {
             "colorbar": {
              "outlinewidth": 0,
              "ticks": ""
             }
            },
            "type": "parcoords"
           }
          ],
          "pie": [
           {
            "automargin": true,
            "type": "pie"
           }
          ],
          "scatter": [
           {
            "marker": {
             "colorbar": {
              "outlinewidth": 0,
              "ticks": ""
             }
            },
            "type": "scatter"
           }
          ],
          "scatter3d": [
           {
            "line": {
             "colorbar": {
              "outlinewidth": 0,
              "ticks": ""
             }
            },
            "marker": {
             "colorbar": {
              "outlinewidth": 0,
              "ticks": ""
             }
            },
            "type": "scatter3d"
           }
          ],
          "scattercarpet": [
           {
            "marker": {
             "colorbar": {
              "outlinewidth": 0,
              "ticks": ""
             }
            },
            "type": "scattercarpet"
           }
          ],
          "scattergeo": [
           {
            "marker": {
             "colorbar": {
              "outlinewidth": 0,
              "ticks": ""
             }
            },
            "type": "scattergeo"
           }
          ],
          "scattergl": [
           {
            "marker": {
             "colorbar": {
              "outlinewidth": 0,
              "ticks": ""
             }
            },
            "type": "scattergl"
           }
          ],
          "scattermapbox": [
           {
            "marker": {
             "colorbar": {
              "outlinewidth": 0,
              "ticks": ""
             }
            },
            "type": "scattermapbox"
           }
          ],
          "scatterpolar": [
           {
            "marker": {
             "colorbar": {
              "outlinewidth": 0,
              "ticks": ""
             }
            },
            "type": "scatterpolar"
           }
          ],
          "scatterpolargl": [
           {
            "marker": {
             "colorbar": {
              "outlinewidth": 0,
              "ticks": ""
             }
            },
            "type": "scatterpolargl"
           }
          ],
          "scatterternary": [
           {
            "marker": {
             "colorbar": {
              "outlinewidth": 0,
              "ticks": ""
             }
            },
            "type": "scatterternary"
           }
          ],
          "surface": [
           {
            "colorbar": {
             "outlinewidth": 0,
             "ticks": ""
            },
            "colorscale": [
             [
              0,
              "#0d0887"
             ],
             [
              0.1111111111111111,
              "#46039f"
             ],
             [
              0.2222222222222222,
              "#7201a8"
             ],
             [
              0.3333333333333333,
              "#9c179e"
             ],
             [
              0.4444444444444444,
              "#bd3786"
             ],
             [
              0.5555555555555556,
              "#d8576b"
             ],
             [
              0.6666666666666666,
              "#ed7953"
             ],
             [
              0.7777777777777778,
              "#fb9f3a"
             ],
             [
              0.8888888888888888,
              "#fdca26"
             ],
             [
              1,
              "#f0f921"
             ]
            ],
            "type": "surface"
           }
          ],
          "table": [
           {
            "cells": {
             "fill": {
              "color": "#EBF0F8"
             },
             "line": {
              "color": "white"
             }
            },
            "header": {
             "fill": {
              "color": "#C8D4E3"
             },
             "line": {
              "color": "white"
             }
            },
            "type": "table"
           }
          ]
         },
         "layout": {
          "annotationdefaults": {
           "arrowcolor": "#2a3f5f",
           "arrowhead": 0,
           "arrowwidth": 1
          },
          "autotypenumbers": "strict",
          "coloraxis": {
           "colorbar": {
            "outlinewidth": 0,
            "ticks": ""
           }
          },
          "colorscale": {
           "diverging": [
            [
             0,
             "#8e0152"
            ],
            [
             0.1,
             "#c51b7d"
            ],
            [
             0.2,
             "#de77ae"
            ],
            [
             0.3,
             "#f1b6da"
            ],
            [
             0.4,
             "#fde0ef"
            ],
            [
             0.5,
             "#f7f7f7"
            ],
            [
             0.6,
             "#e6f5d0"
            ],
            [
             0.7,
             "#b8e186"
            ],
            [
             0.8,
             "#7fbc41"
            ],
            [
             0.9,
             "#4d9221"
            ],
            [
             1,
             "#276419"
            ]
           ],
           "sequential": [
            [
             0,
             "#0d0887"
            ],
            [
             0.1111111111111111,
             "#46039f"
            ],
            [
             0.2222222222222222,
             "#7201a8"
            ],
            [
             0.3333333333333333,
             "#9c179e"
            ],
            [
             0.4444444444444444,
             "#bd3786"
            ],
            [
             0.5555555555555556,
             "#d8576b"
            ],
            [
             0.6666666666666666,
             "#ed7953"
            ],
            [
             0.7777777777777778,
             "#fb9f3a"
            ],
            [
             0.8888888888888888,
             "#fdca26"
            ],
            [
             1,
             "#f0f921"
            ]
           ],
           "sequentialminus": [
            [
             0,
             "#0d0887"
            ],
            [
             0.1111111111111111,
             "#46039f"
            ],
            [
             0.2222222222222222,
             "#7201a8"
            ],
            [
             0.3333333333333333,
             "#9c179e"
            ],
            [
             0.4444444444444444,
             "#bd3786"
            ],
            [
             0.5555555555555556,
             "#d8576b"
            ],
            [
             0.6666666666666666,
             "#ed7953"
            ],
            [
             0.7777777777777778,
             "#fb9f3a"
            ],
            [
             0.8888888888888888,
             "#fdca26"
            ],
            [
             1,
             "#f0f921"
            ]
           ]
          },
          "colorway": [
           "#636efa",
           "#EF553B",
           "#00cc96",
           "#ab63fa",
           "#FFA15A",
           "#19d3f3",
           "#FF6692",
           "#B6E880",
           "#FF97FF",
           "#FECB52"
          ],
          "font": {
           "color": "#2a3f5f"
          },
          "geo": {
           "bgcolor": "white",
           "lakecolor": "white",
           "landcolor": "#E5ECF6",
           "showlakes": true,
           "showland": true,
           "subunitcolor": "white"
          },
          "hoverlabel": {
           "align": "left"
          },
          "hovermode": "closest",
          "mapbox": {
           "style": "light"
          },
          "paper_bgcolor": "white",
          "plot_bgcolor": "#E5ECF6",
          "polar": {
           "angularaxis": {
            "gridcolor": "white",
            "linecolor": "white",
            "ticks": ""
           },
           "bgcolor": "#E5ECF6",
           "radialaxis": {
            "gridcolor": "white",
            "linecolor": "white",
            "ticks": ""
           }
          },
          "scene": {
           "xaxis": {
            "backgroundcolor": "#E5ECF6",
            "gridcolor": "white",
            "gridwidth": 2,
            "linecolor": "white",
            "showbackground": true,
            "ticks": "",
            "zerolinecolor": "white"
           },
           "yaxis": {
            "backgroundcolor": "#E5ECF6",
            "gridcolor": "white",
            "gridwidth": 2,
            "linecolor": "white",
            "showbackground": true,
            "ticks": "",
            "zerolinecolor": "white"
           },
           "zaxis": {
            "backgroundcolor": "#E5ECF6",
            "gridcolor": "white",
            "gridwidth": 2,
            "linecolor": "white",
            "showbackground": true,
            "ticks": "",
            "zerolinecolor": "white"
           }
          },
          "shapedefaults": {
           "line": {
            "color": "#2a3f5f"
           }
          },
          "ternary": {
           "aaxis": {
            "gridcolor": "white",
            "linecolor": "white",
            "ticks": ""
           },
           "baxis": {
            "gridcolor": "white",
            "linecolor": "white",
            "ticks": ""
           },
           "bgcolor": "#E5ECF6",
           "caxis": {
            "gridcolor": "white",
            "linecolor": "white",
            "ticks": ""
           }
          },
          "title": {
           "x": 0.05
          },
          "xaxis": {
           "automargin": true,
           "gridcolor": "white",
           "linecolor": "white",
           "ticks": "",
           "title": {
            "standoff": 15
           },
           "zerolinecolor": "white",
           "zerolinewidth": 2
          },
          "yaxis": {
           "automargin": true,
           "gridcolor": "white",
           "linecolor": "white",
           "ticks": "",
           "title": {
            "standoff": 15
           },
           "zerolinecolor": "white",
           "zerolinewidth": 2
          }
         }
        },
        "title": {
         "text": "Feature Importance Per Iteration"
        },
        "updatemenus": [
         {
          "active": 0,
          "buttons": [
           {
            "args": [
             null,
             {
              "frame": {
               "duration": 500,
               "redraw": true
              },
              "fromcurrent": true,
              "mode": "immediate",
              "transition": {
               "duration": 500,
               "easing": "linear"
              }
             }
            ],
            "label": "&#9654;",
            "method": "animate"
           },
           {
            "args": [
             [
              null
             ],
             {
              "frame": {
               "duration": 0,
               "redraw": true
              },
              "fromcurrent": true,
              "mode": "immediate",
              "transition": {
               "duration": 0,
               "easing": "linear"
              }
             }
            ],
            "label": "&#9724;",
            "method": "animate"
           }
          ],
          "direction": "left",
          "pad": {
           "r": 10,
           "t": 70
          },
          "showactive": false,
          "type": "buttons",
          "x": 0.1,
          "xanchor": "right",
          "y": 0,
          "yanchor": "top"
         }
        ],
        "width": 800,
        "xaxis": {
         "anchor": "y",
         "domain": [
          0,
          1
         ],
         "range": [
          0,
          0.3
         ],
         "title": {
          "text": "Importance"
         },
         "type": "linear"
        },
        "yaxis": {
         "anchor": "x",
         "autorange": true,
         "categoryarray": [
          "Input 10",
          "Input 07",
          "Input 09",
          "Input 12",
          "Input 05",
          "Input 04",
          "Input 01",
          "Input 08",
          "Input 06",
          "Input 11",
          "Input 02",
          "Input 03",
          "Output 01"
         ],
         "categoryorder": "total ascending",
         "domain": [
          0,
          1
         ],
         "range": [
          0.5,
          12.5
         ],
         "title": {
          "text": "Feature Name"
         },
         "type": "category"
        }
       }
      },
      "image/png": "[encoded data removed]",
      "text/html": [
       "<div>                            <div id=\"7b1205a0-9293-42f5-9334-de9687332ece\" class=\"plotly-graph-div\" style=\"height:500px; width:800px;\"></div>            <script type=\"text/javascript\">                require([\"plotly\"], function(Plotly) {                    window.PLOTLYENV=window.PLOTLYENV || {};                                    if (document.getElementById(\"7b1205a0-9293-42f5-9334-de9687332ece\")) {                    Plotly.newPlot(                        \"7b1205a0-9293-42f5-9334-de9687332ece\",                        [{\"alignmentgroup\":\"True\",\"hovertemplate\":\"Feature Name=%{y}<br>Iteration=0<br>Importance=%{x}<extra></extra>\",\"ids\":[\"Output 01\"],\"legendgroup\":\"Output 01\",\"marker\":{\"color\":\"#4C78A8\",\"pattern\":{\"shape\":\"\"}},\"name\":\"Output 01\",\"offsetgroup\":\"Output 01\",\"orientation\":\"h\",\"showlegend\":true,\"textposition\":\"auto\",\"type\":\"bar\",\"x\":[0.5911680942007734],\"xaxis\":\"x\",\"y\":[\"Output 01\"],\"yaxis\":\"y\"},{\"alignmentgroup\":\"True\",\"hovertemplate\":\"Feature Name=%{y}<br>Iteration=0<br>Importance=%{x}<extra></extra>\",\"ids\":[\"Input 03\"],\"legendgroup\":\"Input 03\",\"marker\":{\"color\":\"#F58518\",\"pattern\":{\"shape\":\"\"}},\"name\":\"Input 03\",\"offsetgroup\":\"Input 03\",\"orientation\":\"h\",\"showlegend\":true,\"textposition\":\"auto\",\"type\":\"bar\",\"x\":[0.06663778533815794],\"xaxis\":\"x\",\"y\":[\"Input 03\"],\"yaxis\":\"y\"},{\"alignmentgroup\":\"True\",\"hovertemplate\":\"Feature Name=%{y}<br>Iteration=0<br>Importance=%{x}<extra></extra>\",\"ids\":[\"Input 02\"],\"legendgroup\":\"Input 02\",\"marker\":{\"color\":\"#E45756\",\"pattern\":{\"shape\":\"\"}},\"name\":\"Input 02\",\"offsetgroup\":\"Input 02\",\"orientation\":\"h\",\"showlegend\":true,\"textposition\":\"auto\",\"type\":\"bar\",\"x\":[0.06652745633490179],\"xaxis\":\"x\",\"y\":[\"Input 02\"],\"yaxis\":\"y\"},{\"alignmentgroup\":\"True\",\"hovertemplate\":\"Feature Name=%{y}<br>Iteration=0<br>Importance=%{x}<extra></extra>\",\"ids\":[\"Input 11\"],\"legendgroup\":\"Input 11\",\"marker\":{\"color\":\"#72B7B2\",\"pattern\":{\"shape\":\"\"}},\"name\":\"Input 11\",\"offsetgroup\":\"Input 11\",\"orientation\":\"h\",\"showlegend\":true,\"textposition\":\"auto\",\"type\":\"bar\",\"x\":[0.04786982986753729],\"xaxis\":\"x\",\"y\":[\"Input 11\"],\"yaxis\":\"y\"},{\"alignmentgroup\":\"True\",\"hovertemplate\":\"Feature Name=%{y}<br>Iteration=0<br>Importance=%{x}<extra></extra>\",\"ids\":[\"Input 06\"],\"legendgroup\":\"Input 06\",\"marker\":{\"color\":\"#54A24B\",\"pattern\":{\"shape\":\"\"}},\"name\":\"Input 06\",\"offsetgroup\":\"Input 06\",\"orientation\":\"h\",\"showlegend\":true,\"textposition\":\"auto\",\"type\":\"bar\",\"x\":[0.04403996978590047],\"xaxis\":\"x\",\"y\":[\"Input 06\"],\"yaxis\":\"y\"},{\"alignmentgroup\":\"True\",\"hovertemplate\":\"Feature Name=%{y}<br>Iteration=0<br>Importance=%{x}<extra></extra>\",\"ids\":[\"Input 08\"],\"legendgroup\":\"Input 08\",\"marker\":{\"color\":\"#EECA3B\",\"pattern\":{\"shape\":\"\"}},\"name\":\"Input 08\",\"offsetgroup\":\"Input 08\",\"orientation\":\"h\",\"showlegend\":true,\"textposition\":\"auto\",\"type\":\"bar\",\"x\":[0.03574606919275113],\"xaxis\":\"x\",\"y\":[\"Input 08\"],\"yaxis\":\"y\"},{\"alignmentgroup\":\"True\",\"hovertemplate\":\"Feature Name=%{y}<br>Iteration=0<br>Importance=%{x}<extra></extra>\",\"ids\":[\"Input 01\"],\"legendgroup\":\"Input 01\",\"marker\":{\"color\":\"#B279A2\",\"pattern\":{\"shape\":\"\"}},\"name\":\"Input 01\",\"offsetgroup\":\"Input 01\",\"orientation\":\"h\",\"showlegend\":true,\"textposition\":\"auto\",\"type\":\"bar\",\"x\":[0.034079895828834375],\"xaxis\":\"x\",\"y\":[\"Input 01\"],\"yaxis\":\"y\"},{\"alignmentgroup\":\"True\",\"hovertemplate\":\"Feature Name=%{y}<br>Iteration=0<br>Importance=%{x}<extra></extra>\",\"ids\":[\"Input 04\"],\"legendgroup\":\"Input 04\",\"marker\":{\"color\":\"#FF9DA6\",\"pattern\":{\"shape\":\"\"}},\"name\":\"Input 04\",\"offsetgroup\":\"Input 04\",\"orientation\":\"h\",\"showlegend\":true,\"textposition\":\"auto\",\"type\":\"bar\",\"x\":[0.028897732228259247],\"xaxis\":\"x\",\"y\":[\"Input 04\"],\"yaxis\":\"y\"},{\"alignmentgroup\":\"True\",\"hovertemplate\":\"Feature Name=%{y}<br>Iteration=0<br>Importance=%{x}<extra></extra>\",\"ids\":[\"Input 05\"],\"legendgroup\":\"Input 05\",\"marker\":{\"color\":\"#9D755D\",\"pattern\":{\"shape\":\"\"}},\"name\":\"Input 05\",\"offsetgroup\":\"Input 05\",\"orientation\":\"h\",\"showlegend\":true,\"textposition\":\"auto\",\"type\":\"bar\",\"x\":[0.02474110993160405],\"xaxis\":\"x\",\"y\":[\"Input 05\"],\"yaxis\":\"y\"},{\"alignmentgroup\":\"True\",\"hovertemplate\":\"Feature Name=%{y}<br>Iteration=0<br>Importance=%{x}<extra></extra>\",\"ids\":[\"Input 12\"],\"legendgroup\":\"Input 12\",\"marker\":{\"color\":\"#BAB0AC\",\"pattern\":{\"shape\":\"\"}},\"name\":\"Input 12\",\"offsetgroup\":\"Input 12\",\"orientation\":\"h\",\"showlegend\":true,\"textposition\":\"auto\",\"type\":\"bar\",\"x\":[0.0168311414901731],\"xaxis\":\"x\",\"y\":[\"Input 12\"],\"yaxis\":\"y\"},{\"alignmentgroup\":\"True\",\"hovertemplate\":\"Feature Name=%{y}<br>Iteration=0<br>Importance=%{x}<extra></extra>\",\"ids\":[\"Input 09\"],\"legendgroup\":\"Input 09\",\"marker\":{\"color\":\"#4C78A8\",\"pattern\":{\"shape\":\"\"}},\"name\":\"Input 09\",\"offsetgroup\":\"Input 09\",\"orientation\":\"h\",\"showlegend\":true,\"textposition\":\"auto\",\"type\":\"bar\",\"x\":[0.016788478894956264],\"xaxis\":\"x\",\"y\":[\"Input 09\"],\"yaxis\":\"y\"},{\"alignmentgroup\":\"True\",\"hovertemplate\":\"Feature Name=%{y}<br>Iteration=0<br>Importance=%{x}<extra></extra>\",\"ids\":[\"Input 07\"],\"legendgroup\":\"Input 07\",\"marker\":{\"color\":\"#F58518\",\"pattern\":{\"shape\":\"\"}},\"name\":\"Input 07\",\"offsetgroup\":\"Input 07\",\"orientation\":\"h\",\"showlegend\":true,\"textposition\":\"auto\",\"type\":\"bar\",\"x\":[0.015216661747117154],\"xaxis\":\"x\",\"y\":[\"Input 07\"],\"yaxis\":\"y\"},{\"alignmentgroup\":\"True\",\"hovertemplate\":\"Feature Name=%{y}<br>Iteration=0<br>Importance=%{x}<extra></extra>\",\"ids\":[\"Input 10\"],\"legendgroup\":\"Input 10\",\"marker\":{\"color\":\"#E45756\",\"pattern\":{\"shape\":\"\"}},\"name\":\"Input 10\",\"offsetgroup\":\"Input 10\",\"orientation\":\"h\",\"showlegend\":true,\"textposition\":\"auto\",\"type\":\"bar\",\"x\":[0.011455775159033777],\"xaxis\":\"x\",\"y\":[\"Input 10\"],\"yaxis\":\"y\"}],                        {\"autosize\":false,\"barmode\":\"relative\",\"height\":500,\"legend\":{\"title\":{\"text\":\"Feature Name\"},\"tracegroupgap\":0},\"margin\":{\"t\":60},\"sliders\":[{\"active\":0,\"currentvalue\":{\"prefix\":\"Iteration=\"},\"len\":0.9,\"pad\":{\"b\":10,\"t\":60},\"steps\":[{\"args\":[[\"0\"],{\"frame\":{\"duration\":0,\"redraw\":true},\"fromcurrent\":true,\"mode\":\"immediate\",\"transition\":{\"duration\":0,\"easing\":\"linear\"}}],\"label\":\"0\",\"method\":\"animate\"},{\"args\":[[\"1\"],{\"frame\":{\"duration\":0,\"redraw\":true},\"fromcurrent\":true,\"mode\":\"immediate\",\"transition\":{\"duration\":0,\"easing\":\"linear\"}}],\"label\":\"1\",\"method\":\"animate\"},{\"args\":[[\"2\"],{\"frame\":{\"duration\":0,\"redraw\":true},\"fromcurrent\":true,\"mode\":\"immediate\",\"transition\":{\"duration\":0,\"easing\":\"linear\"}}],\"label\":\"2\",\"method\":\"animate\"},{\"args\":[[\"3\"],{\"frame\":{\"duration\":0,\"redraw\":true},\"fromcurrent\":true,\"mode\":\"immediate\",\"transition\":{\"duration\":0,\"easing\":\"linear\"}}],\"label\":\"3\",\"method\":\"animate\"},{\"args\":[[\"4\"],{\"frame\":{\"duration\":0,\"redraw\":true},\"fromcurrent\":true,\"mode\":\"immediate\",\"transition\":{\"duration\":0,\"easing\":\"linear\"}}],\"label\":\"4\",\"method\":\"animate\"},{\"args\":[[\"5\"],{\"frame\":{\"duration\":0,\"redraw\":true},\"fromcurrent\":true,\"mode\":\"immediate\",\"transition\":{\"duration\":0,\"easing\":\"linear\"}}],\"label\":\"5\",\"method\":\"animate\"},{\"args\":[[\"6\"],{\"frame\":{\"duration\":0,\"redraw\":true},\"fromcurrent\":true,\"mode\":\"immediate\",\"transition\":{\"duration\":0,\"easing\":\"linear\"}}],\"label\":\"6\",\"method\":\"animate\"},{\"args\":[[\"7\"],{\"frame\":{\"duration\":0,\"redraw\":true},\"fromcurrent\":true,\"mode\":\"immediate\",\"transition\":{\"duration\":0,\"easing\":\"linear\"}}],\"label\":\"7\",\"method\":\"animate\"},{\"args\":[[\"8\"],{\"frame\":{\"duration\":0,\"redraw\":true},\"fromcurrent\":true,\"mode\":\"immediate\",\"transition\":{\"duration\":0,\"easing\":\"linear\"}}],\"label\":\"8\",\"method\":\"animate\"},{\"args\":[[\"9\"],{\"frame\":{\"duration\":0,\"redraw\":true},\"fromcurrent\":true,\"mode\":\"immediate\",\"transition\":{\"duration\":0,\"easing\":\"linear\"}}],\"label\":\"9\",\"method\":\"animate\"},{\"args\":[[\"10\"],{\"frame\":{\"duration\":0,\"redraw\":true},\"fromcurrent\":true,\"mode\":\"immediate\",\"transition\":{\"duration\":0,\"easing\":\"linear\"}}],\"label\":\"10\",\"method\":\"animate\"}],\"x\":0.1,\"xanchor\":\"left\",\"y\":0,\"yanchor\":\"top\"}],\"template\":{\"data\":{\"bar\":[{\"error_x\":{\"color\":\"#2a3f5f\"},\"error_y\":{\"color\":\"#2a3f5f\"},\"marker\":{\"line\":{\"color\":\"#E5ECF6\",\"width\":0.5},\"pattern\":{\"fillmode\":\"overlay\",\"size\":10,\"solidity\":0.2}},\"type\":\"bar\"}],\"barpolar\":[{\"marker\":{\"line\":{\"color\":\"#E5ECF6\",\"width\":0.5},\"pattern\":{\"fillmode\":\"overlay\",\"size\":10,\"solidity\":0.2}},\"type\":\"barpolar\"}],\"carpet\":[{\"aaxis\":{\"endlinecolor\":\"#2a3f5f\",\"gridcolor\":\"white\",\"linecolor\":\"white\",\"minorgridcolor\":\"white\",\"startlinecolor\":\"#2a3f5f\"},\"baxis\":{\"endlinecolor\":\"#2a3f5f\",\"gridcolor\":\"white\",\"linecolor\":\"white\",\"minorgridcolor\":\"white\",\"startlinecolor\":\"#2a3f5f\"},\"type\":\"carpet\"}],\"choropleth\":[{\"colorbar\":{\"outlinewidth\":0,\"ticks\":\"\"},\"type\":\"choropleth\"}],\"contour\":[{\"colorbar\":{\"outlinewidth\":0,\"ticks\":\"\"},\"colorscale\":[[0.0,\"#0d0887\"],[0.1111111111111111,\"#46039f\"],[0.2222222222222222,\"#7201a8\"],[0.3333333333333333,\"#9c179e\"],[0.4444444444444444,\"#bd3786\"],[0.5555555555555556,\"#d8576b\"],[0.6666666666666666,\"#ed7953\"],[0.7777777777777778,\"#fb9f3a\"],[0.8888888888888888,\"#fdca26\"],[1.0,\"#f0f921\"]],\"type\":\"contour\"}],\"contourcarpet\":[{\"colorbar\":{\"outlinewidth\":0,\"ticks\":\"\"},\"type\":\"contourcarpet\"}],\"heatmap\":[{\"colorbar\":{\"outlinewidth\":0,\"ticks\":\"\"},\"colorscale\":[[0.0,\"#0d0887\"],[0.1111111111111111,\"#46039f\"],[0.2222222222222222,\"#7201a8\"],[0.3333333333333333,\"#9c179e\"],[0.4444444444444444,\"#bd3786\"],[0.5555555555555556,\"#d8576b\"],[0.6666666666666666,\"#ed7953\"],[0.7777777777777778,\"#fb9f3a\"],[0.8888888888888888,\"#fdca26\"],[1.0,\"#f0f921\"]],\"type\":\"heatmap\"}],\"heatmapgl\":[{\"colorbar\":{\"outlinewidth\":0,\"ticks\":\"\"},\"colorscale\":[[0.0,\"#0d0887\"],[0.1111111111111111,\"#46039f\"],[0.2222222222222222,\"#7201a8\"],[0.3333333333333333,\"#9c179e\"],[0.4444444444444444,\"#bd3786\"],[0.5555555555555556,\"#d8576b\"],[0.6666666666666666,\"#ed7953\"],[0.7777777777777778,\"#fb9f3a\"],[0.8888888888888888,\"#fdca26\"],[1.0,\"#f0f921\"]],\"type\":\"heatmapgl\"}],\"histogram\":[{\"marker\":{\"pattern\":{\"fillmode\":\"overlay\",\"size\":10,\"solidity\":0.2}},\"type\":\"histogram\"}],\"histogram2d\":[{\"colorbar\":{\"outlinewidth\":0,\"ticks\":\"\"},\"colorscale\":[[0.0,\"#0d0887\"],[0.1111111111111111,\"#46039f\"],[0.2222222222222222,\"#7201a8\"],[0.3333333333333333,\"#9c179e\"],[0.4444444444444444,\"#bd3786\"],[0.5555555555555556,\"#d8576b\"],[0.6666666666666666,\"#ed7953\"],[0.7777777777777778,\"#fb9f3a\"],[0.8888888888888888,\"#fdca26\"],[1.0,\"#f0f921\"]],\"type\":\"histogram2d\"}],\"histogram2dcontour\":[{\"colorbar\":{\"outlinewidth\":0,\"ticks\":\"\"},\"colorscale\":[[0.0,\"#0d0887\"],[0.1111111111111111,\"#46039f\"],[0.2222222222222222,\"#7201a8\"],[0.3333333333333333,\"#9c179e\"],[0.4444444444444444,\"#bd3786\"],[0.5555555555555556,\"#d8576b\"],[0.6666666666666666,\"#ed7953\"],[0.7777777777777778,\"#fb9f3a\"],[0.8888888888888888,\"#fdca26\"],[1.0,\"#f0f921\"]],\"type\":\"histogram2dcontour\"}],\"mesh3d\":[{\"colorbar\":{\"outlinewidth\":0,\"ticks\":\"\"},\"type\":\"mesh3d\"}],\"parcoords\":[{\"line\":{\"colorbar\":{\"outlinewidth\":0,\"ticks\":\"\"}},\"type\":\"parcoords\"}],\"pie\":[{\"automargin\":true,\"type\":\"pie\"}],\"scatter\":[{\"marker\":{\"colorbar\":{\"outlinewidth\":0,\"ticks\":\"\"}},\"type\":\"scatter\"}],\"scatter3d\":[{\"line\":{\"colorbar\":{\"outlinewidth\":0,\"ticks\":\"\"}},\"marker\":{\"colorbar\":{\"outlinewidth\":0,\"ticks\":\"\"}},\"type\":\"scatter3d\"}],\"scattercarpet\":[{\"marker\":{\"colorbar\":{\"outlinewidth\":0,\"ticks\":\"\"}},\"type\":\"scattercarpet\"}],\"scattergeo\":[{\"marker\":{\"colorbar\":{\"outlinewidth\":0,\"ticks\":\"\"}},\"type\":\"scattergeo\"}],\"scattergl\":[{\"marker\":{\"colorbar\":{\"outlinewidth\":0,\"ticks\":\"\"}},\"type\":\"scattergl\"}],\"scattermapbox\":[{\"marker\":{\"colorbar\":{\"outlinewidth\":0,\"ticks\":\"\"}},\"type\":\"scattermapbox\"}],\"scatterpolar\":[{\"marker\":{\"colorbar\":{\"outlinewidth\":0,\"ticks\":\"\"}},\"type\":\"scatterpolar\"}],\"scatterpolargl\":[{\"marker\":{\"colorbar\":{\"outlinewidth\":0,\"ticks\":\"\"}},\"type\":\"scatterpolargl\"}],\"scatterternary\":[{\"marker\":{\"colorbar\":{\"outlinewidth\":0,\"ticks\":\"\"}},\"type\":\"scatterternary\"}],\"surface\":[{\"colorbar\":{\"outlinewidth\":0,\"ticks\":\"\"},\"colorscale\":[[0.0,\"#0d0887\"],[0.1111111111111111,\"#46039f\"],[0.2222222222222222,\"#7201a8\"],[0.3333333333333333,\"#9c179e\"],[0.4444444444444444,\"#bd3786\"],[0.5555555555555556,\"#d8576b\"],[0.6666666666666666,\"#ed7953\"],[0.7777777777777778,\"#fb9f3a\"],[0.8888888888888888,\"#fdca26\"],[1.0,\"#f0f921\"]],\"type\":\"surface\"}],\"table\":[{\"cells\":{\"fill\":{\"color\":\"#EBF0F8\"},\"line\":{\"color\":\"white\"}},\"header\":{\"fill\":{\"color\":\"#C8D4E3\"},\"line\":{\"color\":\"white\"}},\"type\":\"table\"}]},\"layout\":{\"annotationdefaults\":{\"arrowcolor\":\"#2a3f5f\",\"arrowhead\":0,\"arrowwidth\":1},\"autotypenumbers\":\"strict\",\"coloraxis\":{\"colorbar\":{\"outlinewidth\":0,\"ticks\":\"\"}},\"colorscale\":{\"diverging\":[[0,\"#8e0152\"],[0.1,\"#c51b7d\"],[0.2,\"#de77ae\"],[0.3,\"#f1b6da\"],[0.4,\"#fde0ef\"],[0.5,\"#f7f7f7\"],[0.6,\"#e6f5d0\"],[0.7,\"#b8e186\"],[0.8,\"#7fbc41\"],[0.9,\"#4d9221\"],[1,\"#276419\"]],\"sequential\":[[0.0,\"#0d0887\"],[0.1111111111111111,\"#46039f\"],[0.2222222222222222,\"#7201a8\"],[0.3333333333333333,\"#9c179e\"],[0.4444444444444444,\"#bd3786\"],[0.5555555555555556,\"#d8576b\"],[0.6666666666666666,\"#ed7953\"],[0.7777777777777778,\"#fb9f3a\"],[0.8888888888888888,\"#fdca26\"],[1.0,\"#f0f921\"]],\"sequentialminus\":[[0.0,\"#0d0887\"],[0.1111111111111111,\"#46039f\"],[0.2222222222222222,\"#7201a8\"],[0.3333333333333333,\"#9c179e\"],[0.4444444444444444,\"#bd3786\"],[0.5555555555555556,\"#d8576b\"],[0.6666666666666666,\"#ed7953\"],[0.7777777777777778,\"#fb9f3a\"],[0.8888888888888888,\"#fdca26\"],[1.0,\"#f0f921\"]]},\"colorway\":[\"#636efa\",\"#EF553B\",\"#00cc96\",\"#ab63fa\",\"#FFA15A\",\"#19d3f3\",\"#FF6692\",\"#B6E880\",\"#FF97FF\",\"#FECB52\"],\"font\":{\"color\":\"#2a3f5f\"},\"geo\":{\"bgcolor\":\"white\",\"lakecolor\":\"white\",\"landcolor\":\"#E5ECF6\",\"showlakes\":true,\"showland\":true,\"subunitcolor\":\"white\"},\"hoverlabel\":{\"align\":\"left\"},\"hovermode\":\"closest\",\"mapbox\":{\"style\":\"light\"},\"paper_bgcolor\":\"white\",\"plot_bgcolor\":\"#E5ECF6\",\"polar\":{\"angularaxis\":{\"gridcolor\":\"white\",\"linecolor\":\"white\",\"ticks\":\"\"},\"bgcolor\":\"#E5ECF6\",\"radialaxis\":{\"gridcolor\":\"white\",\"linecolor\":\"white\",\"ticks\":\"\"}},\"scene\":{\"xaxis\":{\"backgroundcolor\":\"#E5ECF6\",\"gridcolor\":\"white\",\"gridwidth\":2,\"linecolor\":\"white\",\"showbackground\":true,\"ticks\":\"\",\"zerolinecolor\":\"white\"},\"yaxis\":{\"backgroundcolor\":\"#E5ECF6\",\"gridcolor\":\"white\",\"gridwidth\":2,\"linecolor\":\"white\",\"showbackground\":true,\"ticks\":\"\",\"zerolinecolor\":\"white\"},\"zaxis\":{\"backgroundcolor\":\"#E5ECF6\",\"gridcolor\":\"white\",\"gridwidth\":2,\"linecolor\":\"white\",\"showbackground\":true,\"ticks\":\"\",\"zerolinecolor\":\"white\"}},\"shapedefaults\":{\"line\":{\"color\":\"#2a3f5f\"}},\"ternary\":{\"aaxis\":{\"gridcolor\":\"white\",\"linecolor\":\"white\",\"ticks\":\"\"},\"baxis\":{\"gridcolor\":\"white\",\"linecolor\":\"white\",\"ticks\":\"\"},\"bgcolor\":\"#E5ECF6\",\"caxis\":{\"gridcolor\":\"white\",\"linecolor\":\"white\",\"ticks\":\"\"}},\"title\":{\"x\":0.05},\"xaxis\":{\"automargin\":true,\"gridcolor\":\"white\",\"linecolor\":\"white\",\"ticks\":\"\",\"title\":{\"standoff\":15},\"zerolinecolor\":\"white\",\"zerolinewidth\":2},\"yaxis\":{\"automargin\":true,\"gridcolor\":\"white\",\"linecolor\":\"white\",\"ticks\":\"\",\"title\":{\"standoff\":15},\"zerolinecolor\":\"white\",\"zerolinewidth\":2}}},\"title\":{\"text\":\"Feature Importance Per Iteration\"},\"updatemenus\":[{\"buttons\":[{\"args\":[null,{\"frame\":{\"duration\":500,\"redraw\":true},\"fromcurrent\":true,\"mode\":\"immediate\",\"transition\":{\"duration\":500,\"easing\":\"linear\"}}],\"label\":\"&#9654;\",\"method\":\"animate\"},{\"args\":[[null],{\"frame\":{\"duration\":0,\"redraw\":true},\"fromcurrent\":true,\"mode\":\"immediate\",\"transition\":{\"duration\":0,\"easing\":\"linear\"}}],\"label\":\"&#9724;\",\"method\":\"animate\"}],\"direction\":\"left\",\"pad\":{\"r\":10,\"t\":70},\"showactive\":false,\"type\":\"buttons\",\"x\":0.1,\"xanchor\":\"right\",\"y\":0,\"yanchor\":\"top\"}],\"width\":800,\"xaxis\":{\"anchor\":\"y\",\"domain\":[0.0,1.0],\"range\":[0,0.3],\"title\":{\"text\":\"Importance\"}},\"yaxis\":{\"anchor\":\"x\",\"categoryarray\":[\"Input 10\",\"Input 07\",\"Input 09\",\"Input 12\",\"Input 05\",\"Input 04\",\"Input 01\",\"Input 08\",\"Input 06\",\"Input 11\",\"Input 02\",\"Input 03\",\"Output 01\"],\"categoryorder\":\"total ascending\",\"domain\":[0.0,1.0],\"title\":{\"text\":\"Feature Name\"}}},                        {\"responsive\": true}                    ).then(function(){\n",
       "                            Plotly.addFrames('7b1205a0-9293-42f5-9334-de9687332ece', [{\"data\":[{\"alignmentgroup\":\"True\",\"hovertemplate\":\"Feature Name=%{y}<br>Iteration=0<br>Importance=%{x}<extra></extra>\",\"ids\":[\"Output 01\"],\"legendgroup\":\"Output 01\",\"marker\":{\"color\":\"#4C78A8\",\"pattern\":{\"shape\":\"\"}},\"name\":\"Output 01\",\"offsetgroup\":\"Output 01\",\"orientation\":\"h\",\"showlegend\":true,\"textposition\":\"auto\",\"type\":\"bar\",\"x\":[0.5911680942007734],\"xaxis\":\"x\",\"y\":[\"Output 01\"],\"yaxis\":\"y\"},{\"alignmentgroup\":\"True\",\"hovertemplate\":\"Feature Name=%{y}<br>Iteration=0<br>Importance=%{x}<extra></extra>\",\"ids\":[\"Input 03\"],\"legendgroup\":\"Input 03\",\"marker\":{\"color\":\"#F58518\",\"pattern\":{\"shape\":\"\"}},\"name\":\"Input 03\",\"offsetgroup\":\"Input 03\",\"orientation\":\"h\",\"showlegend\":true,\"textposition\":\"auto\",\"type\":\"bar\",\"x\":[0.06663778533815794],\"xaxis\":\"x\",\"y\":[\"Input 03\"],\"yaxis\":\"y\"},{\"alignmentgroup\":\"True\",\"hovertemplate\":\"Feature Name=%{y}<br>Iteration=0<br>Importance=%{x}<extra></extra>\",\"ids\":[\"Input 02\"],\"legendgroup\":\"Input 02\",\"marker\":{\"color\":\"#E45756\",\"pattern\":{\"shape\":\"\"}},\"name\":\"Input 02\",\"offsetgroup\":\"Input 02\",\"orientation\":\"h\",\"showlegend\":true,\"textposition\":\"auto\",\"type\":\"bar\",\"x\":[0.06652745633490179],\"xaxis\":\"x\",\"y\":[\"Input 02\"],\"yaxis\":\"y\"},{\"alignmentgroup\":\"True\",\"hovertemplate\":\"Feature Name=%{y}<br>Iteration=0<br>Importance=%{x}<extra></extra>\",\"ids\":[\"Input 11\"],\"legendgroup\":\"Input 11\",\"marker\":{\"color\":\"#72B7B2\",\"pattern\":{\"shape\":\"\"}},\"name\":\"Input 11\",\"offsetgroup\":\"Input 11\",\"orientation\":\"h\",\"showlegend\":true,\"textposition\":\"auto\",\"type\":\"bar\",\"x\":[0.04786982986753729],\"xaxis\":\"x\",\"y\":[\"Input 11\"],\"yaxis\":\"y\"},{\"alignmentgroup\":\"True\",\"hovertemplate\":\"Feature Name=%{y}<br>Iteration=0<br>Importance=%{x}<extra></extra>\",\"ids\":[\"Input 06\"],\"legendgroup\":\"Input 06\",\"marker\":{\"color\":\"#54A24B\",\"pattern\":{\"shape\":\"\"}},\"name\":\"Input 06\",\"offsetgroup\":\"Input 06\",\"orientation\":\"h\",\"showlegend\":true,\"textposition\":\"auto\",\"type\":\"bar\",\"x\":[0.04403996978590047],\"xaxis\":\"x\",\"y\":[\"Input 06\"],\"yaxis\":\"y\"},{\"alignmentgroup\":\"True\",\"hovertemplate\":\"Feature Name=%{y}<br>Iteration=0<br>Importance=%{x}<extra></extra>\",\"ids\":[\"Input 08\"],\"legendgroup\":\"Input 08\",\"marker\":{\"color\":\"#EECA3B\",\"pattern\":{\"shape\":\"\"}},\"name\":\"Input 08\",\"offsetgroup\":\"Input 08\",\"orientation\":\"h\",\"showlegend\":true,\"textposition\":\"auto\",\"type\":\"bar\",\"x\":[0.03574606919275113],\"xaxis\":\"x\",\"y\":[\"Input 08\"],\"yaxis\":\"y\"},{\"alignmentgroup\":\"True\",\"hovertemplate\":\"Feature Name=%{y}<br>Iteration=0<br>Importance=%{x}<extra></extra>\",\"ids\":[\"Input 01\"],\"legendgroup\":\"Input 01\",\"marker\":{\"color\":\"#B279A2\",\"pattern\":{\"shape\":\"\"}},\"name\":\"Input 01\",\"offsetgroup\":\"Input 01\",\"orientation\":\"h\",\"showlegend\":true,\"textposition\":\"auto\",\"type\":\"bar\",\"x\":[0.034079895828834375],\"xaxis\":\"x\",\"y\":[\"Input 01\"],\"yaxis\":\"y\"},{\"alignmentgroup\":\"True\",\"hovertemplate\":\"Feature Name=%{y}<br>Iteration=0<br>Importance=%{x}<extra></extra>\",\"ids\":[\"Input 04\"],\"legendgroup\":\"Input 04\",\"marker\":{\"color\":\"#FF9DA6\",\"pattern\":{\"shape\":\"\"}},\"name\":\"Input 04\",\"offsetgroup\":\"Input 04\",\"orientation\":\"h\",\"showlegend\":true,\"textposition\":\"auto\",\"type\":\"bar\",\"x\":[0.028897732228259247],\"xaxis\":\"x\",\"y\":[\"Input 04\"],\"yaxis\":\"y\"},{\"alignmentgroup\":\"True\",\"hovertemplate\":\"Feature Name=%{y}<br>Iteration=0<br>Importance=%{x}<extra></extra>\",\"ids\":[\"Input 05\"],\"legendgroup\":\"Input 05\",\"marker\":{\"color\":\"#9D755D\",\"pattern\":{\"shape\":\"\"}},\"name\":\"Input 05\",\"offsetgroup\":\"Input 05\",\"orientation\":\"h\",\"showlegend\":true,\"textposition\":\"auto\",\"type\":\"bar\",\"x\":[0.02474110993160405],\"xaxis\":\"x\",\"y\":[\"Input 05\"],\"yaxis\":\"y\"},{\"alignmentgroup\":\"True\",\"hovertemplate\":\"Feature Name=%{y}<br>Iteration=0<br>Importance=%{x}<extra></extra>\",\"ids\":[\"Input 12\"],\"legendgroup\":\"Input 12\",\"marker\":{\"color\":\"#BAB0AC\",\"pattern\":{\"shape\":\"\"}},\"name\":\"Input 12\",\"offsetgroup\":\"Input 12\",\"orientation\":\"h\",\"showlegend\":true,\"textposition\":\"auto\",\"type\":\"bar\",\"x\":[0.0168311414901731],\"xaxis\":\"x\",\"y\":[\"Input 12\"],\"yaxis\":\"y\"},{\"alignmentgroup\":\"True\",\"hovertemplate\":\"Feature Name=%{y}<br>Iteration=0<br>Importance=%{x}<extra></extra>\",\"ids\":[\"Input 09\"],\"legendgroup\":\"Input 09\",\"marker\":{\"color\":\"#4C78A8\",\"pattern\":{\"shape\":\"\"}},\"name\":\"Input 09\",\"offsetgroup\":\"Input 09\",\"orientation\":\"h\",\"showlegend\":true,\"textposition\":\"auto\",\"type\":\"bar\",\"x\":[0.016788478894956264],\"xaxis\":\"x\",\"y\":[\"Input 09\"],\"yaxis\":\"y\"},{\"alignmentgroup\":\"True\",\"hovertemplate\":\"Feature Name=%{y}<br>Iteration=0<br>Importance=%{x}<extra></extra>\",\"ids\":[\"Input 07\"],\"legendgroup\":\"Input 07\",\"marker\":{\"color\":\"#F58518\",\"pattern\":{\"shape\":\"\"}},\"name\":\"Input 07\",\"offsetgroup\":\"Input 07\",\"orientation\":\"h\",\"showlegend\":true,\"textposition\":\"auto\",\"type\":\"bar\",\"x\":[0.015216661747117154],\"xaxis\":\"x\",\"y\":[\"Input 07\"],\"yaxis\":\"y\"},{\"alignmentgroup\":\"True\",\"hovertemplate\":\"Feature Name=%{y}<br>Iteration=0<br>Importance=%{x}<extra></extra>\",\"ids\":[\"Input 10\"],\"legendgroup\":\"Input 10\",\"marker\":{\"color\":\"#E45756\",\"pattern\":{\"shape\":\"\"}},\"name\":\"Input 10\",\"offsetgroup\":\"Input 10\",\"orientation\":\"h\",\"showlegend\":true,\"textposition\":\"auto\",\"type\":\"bar\",\"x\":[0.011455775159033777],\"xaxis\":\"x\",\"y\":[\"Input 10\"],\"yaxis\":\"y\"}],\"name\":\"0\"},{\"data\":[{\"alignmentgroup\":\"True\",\"hovertemplate\":\"Feature Name=%{y}<br>Iteration=1<br>Importance=%{x}<extra></extra>\",\"ids\":[\"Output 01\",\"Output 01\"],\"legendgroup\":\"Output 01\",\"marker\":{\"color\":\"#4C78A8\",\"pattern\":{\"shape\":\"\"}},\"name\":\"Output 01\",\"offsetgroup\":\"Output 01\",\"orientation\":\"h\",\"showlegend\":true,\"textposition\":\"auto\",\"type\":\"bar\",\"x\":[0.6981786594509669,0.6981786594509669],\"xaxis\":\"x\",\"y\":[\"Output 01\",\"Output 01\"],\"yaxis\":\"y\"},{\"alignmentgroup\":\"True\",\"hovertemplate\":\"Feature Name=%{y}<br>Iteration=1<br>Importance=%{x}<extra></extra>\",\"ids\":[\"Input 03\",\"Input 03\"],\"legendgroup\":\"Input 03\",\"marker\":{\"color\":\"#F58518\",\"pattern\":{\"shape\":\"\"}},\"name\":\"Input 03\",\"offsetgroup\":\"Input 03\",\"orientation\":\"h\",\"showlegend\":true,\"textposition\":\"auto\",\"type\":\"bar\",\"x\":[0.1108232741662147,0.1108232741662147],\"xaxis\":\"x\",\"y\":[\"Input 03\",\"Input 03\"],\"yaxis\":\"y\"},{\"alignmentgroup\":\"True\",\"hovertemplate\":\"Feature Name=%{y}<br>Iteration=1<br>Importance=%{x}<extra></extra>\",\"ids\":[\"Input 02\",\"Input 02\"],\"legendgroup\":\"Input 02\",\"marker\":{\"color\":\"#E45756\",\"pattern\":{\"shape\":\"\"}},\"name\":\"Input 02\",\"offsetgroup\":\"Input 02\",\"orientation\":\"h\",\"showlegend\":true,\"textposition\":\"auto\",\"type\":\"bar\",\"x\":[0.0610151823169409,0.0610151823169409],\"xaxis\":\"x\",\"y\":[\"Input 02\",\"Input 02\"],\"yaxis\":\"y\"},{\"alignmentgroup\":\"True\",\"hovertemplate\":\"Feature Name=%{y}<br>Iteration=1<br>Importance=%{x}<extra></extra>\",\"ids\":[\"Input 11\",\"Input 11\"],\"legendgroup\":\"Input 11\",\"marker\":{\"color\":\"#72B7B2\",\"pattern\":{\"shape\":\"\"}},\"name\":\"Input 11\",\"offsetgroup\":\"Input 11\",\"orientation\":\"h\",\"showlegend\":true,\"textposition\":\"auto\",\"type\":\"bar\",\"x\":[0.027515744439840197,0.027515744439840197],\"xaxis\":\"x\",\"y\":[\"Input 11\",\"Input 11\"],\"yaxis\":\"y\"},{\"alignmentgroup\":\"True\",\"hovertemplate\":\"Feature Name=%{y}<br>Iteration=1<br>Importance=%{x}<extra></extra>\",\"ids\":[\"Input 06\",\"Input 06\"],\"legendgroup\":\"Input 06\",\"marker\":{\"color\":\"#54A24B\",\"pattern\":{\"shape\":\"\"}},\"name\":\"Input 06\",\"offsetgroup\":\"Input 06\",\"orientation\":\"h\",\"showlegend\":true,\"textposition\":\"auto\",\"type\":\"bar\",\"x\":[0.021649196328514426,0.021649196328514426],\"xaxis\":\"x\",\"y\":[\"Input 06\",\"Input 06\"],\"yaxis\":\"y\"},{\"alignmentgroup\":\"True\",\"hovertemplate\":\"Feature Name=%{y}<br>Iteration=1<br>Importance=%{x}<extra></extra>\",\"ids\":[\"Input 08\",\"Input 08\"],\"legendgroup\":\"Input 08\",\"marker\":{\"color\":\"#EECA3B\",\"pattern\":{\"shape\":\"\"}},\"name\":\"Input 08\",\"offsetgroup\":\"Input 08\",\"orientation\":\"h\",\"showlegend\":true,\"textposition\":\"auto\",\"type\":\"bar\",\"x\":[0.02979903461545224,0.02979903461545224],\"xaxis\":\"x\",\"y\":[\"Input 08\",\"Input 08\"],\"yaxis\":\"y\"},{\"alignmentgroup\":\"True\",\"hovertemplate\":\"Feature Name=%{y}<br>Iteration=1<br>Importance=%{x}<extra></extra>\",\"ids\":[\"Input 01\",\"Input 01\"],\"legendgroup\":\"Input 01\",\"marker\":{\"color\":\"#B279A2\",\"pattern\":{\"shape\":\"\"}},\"name\":\"Input 01\",\"offsetgroup\":\"Input 01\",\"orientation\":\"h\",\"showlegend\":true,\"textposition\":\"auto\",\"type\":\"bar\",\"x\":[0.007187717595404491,0.007187717595404491],\"xaxis\":\"x\",\"y\":[\"Input 01\",\"Input 01\"],\"yaxis\":\"y\"},{\"alignmentgroup\":\"True\",\"hovertemplate\":\"Feature Name=%{y}<br>Iteration=1<br>Importance=%{x}<extra></extra>\",\"ids\":[\"Input 04\",\"Input 04\"],\"legendgroup\":\"Input 04\",\"marker\":{\"color\":\"#FF9DA6\",\"pattern\":{\"shape\":\"\"}},\"name\":\"Input 04\",\"offsetgroup\":\"Input 04\",\"orientation\":\"h\",\"showlegend\":true,\"textposition\":\"auto\",\"type\":\"bar\",\"x\":[0.01151934422725318,0.01151934422725318],\"xaxis\":\"x\",\"y\":[\"Input 04\",\"Input 04\"],\"yaxis\":\"y\"},{\"alignmentgroup\":\"True\",\"hovertemplate\":\"Feature Name=%{y}<br>Iteration=1<br>Importance=%{x}<extra></extra>\",\"ids\":[\"Input 05\",\"Input 05\"],\"legendgroup\":\"Input 05\",\"marker\":{\"color\":\"#9D755D\",\"pattern\":{\"shape\":\"\"}},\"name\":\"Input 05\",\"offsetgroup\":\"Input 05\",\"orientation\":\"h\",\"showlegend\":true,\"textposition\":\"auto\",\"type\":\"bar\",\"x\":[0.008718142864282715,0.008718142864282715],\"xaxis\":\"x\",\"y\":[\"Input 05\",\"Input 05\"],\"yaxis\":\"y\"},{\"alignmentgroup\":\"True\",\"hovertemplate\":\"Feature Name=%{y}<br>Iteration=1<br>Importance=%{x}<extra></extra>\",\"ids\":[\"Input 12\",\"Input 12\"],\"legendgroup\":\"Input 12\",\"marker\":{\"color\":\"#BAB0AC\",\"pattern\":{\"shape\":\"\"}},\"name\":\"Input 12\",\"offsetgroup\":\"Input 12\",\"orientation\":\"h\",\"showlegend\":true,\"textposition\":\"auto\",\"type\":\"bar\",\"x\":[0.004368872950069559,0.004368872950069559],\"xaxis\":\"x\",\"y\":[\"Input 12\",\"Input 12\"],\"yaxis\":\"y\"},{\"alignmentgroup\":\"True\",\"hovertemplate\":\"Feature Name=%{y}<br>Iteration=1<br>Importance=%{x}<extra></extra>\",\"ids\":[\"Input 09\",\"Input 09\"],\"legendgroup\":\"Input 09\",\"marker\":{\"color\":\"#4C78A8\",\"pattern\":{\"shape\":\"\"}},\"name\":\"Input 09\",\"offsetgroup\":\"Input 09\",\"orientation\":\"h\",\"showlegend\":true,\"textposition\":\"auto\",\"type\":\"bar\",\"x\":[0.003692304720474458,0.003692304720474458],\"xaxis\":\"x\",\"y\":[\"Input 09\",\"Input 09\"],\"yaxis\":\"y\"},{\"alignmentgroup\":\"True\",\"hovertemplate\":\"Feature Name=%{y}<br>Iteration=1<br>Importance=%{x}<extra></extra>\",\"ids\":[\"Input 07\",\"Input 07\"],\"legendgroup\":\"Input 07\",\"marker\":{\"color\":\"#F58518\",\"pattern\":{\"shape\":\"\"}},\"name\":\"Input 07\",\"offsetgroup\":\"Input 07\",\"orientation\":\"h\",\"showlegend\":true,\"textposition\":\"auto\",\"type\":\"bar\",\"x\":[0.006437003040717942,0.006437003040717942],\"xaxis\":\"x\",\"y\":[\"Input 07\",\"Input 07\"],\"yaxis\":\"y\"},{\"alignmentgroup\":\"True\",\"hovertemplate\":\"Feature Name=%{y}<br>Iteration=1<br>Importance=%{x}<extra></extra>\",\"ids\":[\"Input 10\",\"Input 10\"],\"legendgroup\":\"Input 10\",\"marker\":{\"color\":\"#E45756\",\"pattern\":{\"shape\":\"\"}},\"name\":\"Input 10\",\"offsetgroup\":\"Input 10\",\"orientation\":\"h\",\"showlegend\":true,\"textposition\":\"auto\",\"type\":\"bar\",\"x\":[0.009095523283868315,0.009095523283868315],\"xaxis\":\"x\",\"y\":[\"Input 10\",\"Input 10\"],\"yaxis\":\"y\"}],\"name\":\"1\"},{\"data\":[{\"alignmentgroup\":\"True\",\"hovertemplate\":\"Feature Name=%{y}<br>Iteration=2<br>Importance=%{x}<extra></extra>\",\"ids\":[\"Output 01\"],\"legendgroup\":\"Output 01\",\"marker\":{\"color\":\"#4C78A8\",\"pattern\":{\"shape\":\"\"}},\"name\":\"Output 01\",\"offsetgroup\":\"Output 01\",\"orientation\":\"h\",\"showlegend\":true,\"textposition\":\"auto\",\"type\":\"bar\",\"x\":[0.7184040756083833],\"xaxis\":\"x\",\"y\":[\"Output 01\"],\"yaxis\":\"y\"},{\"alignmentgroup\":\"True\",\"hovertemplate\":\"Feature Name=%{y}<br>Iteration=2<br>Importance=%{x}<extra></extra>\",\"ids\":[\"Input 03\"],\"legendgroup\":\"Input 03\",\"marker\":{\"color\":\"#F58518\",\"pattern\":{\"shape\":\"\"}},\"name\":\"Input 03\",\"offsetgroup\":\"Input 03\",\"orientation\":\"h\",\"showlegend\":true,\"textposition\":\"auto\",\"type\":\"bar\",\"x\":[0.110086440364584],\"xaxis\":\"x\",\"y\":[\"Input 03\"],\"yaxis\":\"y\"},{\"alignmentgroup\":\"True\",\"hovertemplate\":\"Feature Name=%{y}<br>Iteration=2<br>Importance=%{x}<extra></extra>\",\"ids\":[\"Input 02\"],\"legendgroup\":\"Input 02\",\"marker\":{\"color\":\"#E45756\",\"pattern\":{\"shape\":\"\"}},\"name\":\"Input 02\",\"offsetgroup\":\"Input 02\",\"orientation\":\"h\",\"showlegend\":true,\"textposition\":\"auto\",\"type\":\"bar\",\"x\":[0.05181716977069543],\"xaxis\":\"x\",\"y\":[\"Input 02\"],\"yaxis\":\"y\"},{\"alignmentgroup\":\"True\",\"hovertemplate\":\"Feature Name=%{y}<br>Iteration=2<br>Importance=%{x}<extra></extra>\",\"ids\":[\"Input 11\"],\"legendgroup\":\"Input 11\",\"marker\":{\"color\":\"#72B7B2\",\"pattern\":{\"shape\":\"\"}},\"name\":\"Input 11\",\"offsetgroup\":\"Input 11\",\"orientation\":\"h\",\"showlegend\":true,\"textposition\":\"auto\",\"type\":\"bar\",\"x\":[0.017464950607403613],\"xaxis\":\"x\",\"y\":[\"Input 11\"],\"yaxis\":\"y\"},{\"alignmentgroup\":\"True\",\"hovertemplate\":\"Feature Name=%{y}<br>Iteration=2<br>Importance=%{x}<extra></extra>\",\"ids\":[\"Input 06\"],\"legendgroup\":\"Input 06\",\"marker\":{\"color\":\"#54A24B\",\"pattern\":{\"shape\":\"\"}},\"name\":\"Input 06\",\"offsetgroup\":\"Input 06\",\"orientation\":\"h\",\"showlegend\":true,\"textposition\":\"auto\",\"type\":\"bar\",\"x\":[0.018218317202520578],\"xaxis\":\"x\",\"y\":[\"Input 06\"],\"yaxis\":\"y\"},{\"alignmentgroup\":\"True\",\"hovertemplate\":\"Feature Name=%{y}<br>Iteration=2<br>Importance=%{x}<extra></extra>\",\"ids\":[\"Input 08\"],\"legendgroup\":\"Input 08\",\"marker\":{\"color\":\"#EECA3B\",\"pattern\":{\"shape\":\"\"}},\"name\":\"Input 08\",\"offsetgroup\":\"Input 08\",\"orientation\":\"h\",\"showlegend\":true,\"textposition\":\"auto\",\"type\":\"bar\",\"x\":[0.037846637955608574],\"xaxis\":\"x\",\"y\":[\"Input 08\"],\"yaxis\":\"y\"},{\"alignmentgroup\":\"True\",\"hovertemplate\":\"Feature Name=%{y}<br>Iteration=2<br>Importance=%{x}<extra></extra>\",\"ids\":[\"Input 01\"],\"legendgroup\":\"Input 01\",\"marker\":{\"color\":\"#B279A2\",\"pattern\":{\"shape\":\"\"}},\"name\":\"Input 01\",\"offsetgroup\":\"Input 01\",\"orientation\":\"h\",\"showlegend\":true,\"textposition\":\"auto\",\"type\":\"bar\",\"x\":[0.0051974641863608605],\"xaxis\":\"x\",\"y\":[\"Input 01\"],\"yaxis\":\"y\"},{\"alignmentgroup\":\"True\",\"hovertemplate\":\"Feature Name=%{y}<br>Iteration=2<br>Importance=%{x}<extra></extra>\",\"ids\":[\"Input 04\"],\"legendgroup\":\"Input 04\",\"marker\":{\"color\":\"#FF9DA6\",\"pattern\":{\"shape\":\"\"}},\"name\":\"Input 04\",\"offsetgroup\":\"Input 04\",\"orientation\":\"h\",\"showlegend\":true,\"textposition\":\"auto\",\"type\":\"bar\",\"x\":[0.014050238809194617],\"xaxis\":\"x\",\"y\":[\"Input 04\"],\"yaxis\":\"y\"},{\"alignmentgroup\":\"True\",\"hovertemplate\":\"Feature Name=%{y}<br>Iteration=2<br>Importance=%{x}<extra></extra>\",\"ids\":[\"Input 05\"],\"legendgroup\":\"Input 05\",\"marker\":{\"color\":\"#9D755D\",\"pattern\":{\"shape\":\"\"}},\"name\":\"Input 05\",\"offsetgroup\":\"Input 05\",\"orientation\":\"h\",\"showlegend\":true,\"textposition\":\"auto\",\"type\":\"bar\",\"x\":[0.006411393128094084],\"xaxis\":\"x\",\"y\":[\"Input 05\"],\"yaxis\":\"y\"},{\"alignmentgroup\":\"True\",\"hovertemplate\":\"Feature Name=%{y}<br>Iteration=2<br>Importance=%{x}<extra></extra>\",\"ids\":[\"Input 12\"],\"legendgroup\":\"Input 12\",\"marker\":{\"color\":\"#BAB0AC\",\"pattern\":{\"shape\":\"\"}},\"name\":\"Input 12\",\"offsetgroup\":\"Input 12\",\"orientation\":\"h\",\"showlegend\":true,\"textposition\":\"auto\",\"type\":\"bar\",\"x\":[0.00374137286782902],\"xaxis\":\"x\",\"y\":[\"Input 12\"],\"yaxis\":\"y\"},{\"alignmentgroup\":\"True\",\"hovertemplate\":\"Feature Name=%{y}<br>Iteration=2<br>Importance=%{x}<extra></extra>\",\"ids\":[\"Input 09\"],\"legendgroup\":\"Input 09\",\"marker\":{\"color\":\"#4C78A8\",\"pattern\":{\"shape\":\"\"}},\"name\":\"Input 09\",\"offsetgroup\":\"Input 09\",\"orientation\":\"h\",\"showlegend\":true,\"textposition\":\"auto\",\"type\":\"bar\",\"x\":[0.002927969028637387],\"xaxis\":\"x\",\"y\":[\"Input 09\"],\"yaxis\":\"y\"},{\"alignmentgroup\":\"True\",\"hovertemplate\":\"Feature Name=%{y}<br>Iteration=2<br>Importance=%{x}<extra></extra>\",\"ids\":[\"Input 07\"],\"legendgroup\":\"Input 07\",\"marker\":{\"color\":\"#F58518\",\"pattern\":{\"shape\":\"\"}},\"name\":\"Input 07\",\"offsetgroup\":\"Input 07\",\"orientation\":\"h\",\"showlegend\":true,\"textposition\":\"auto\",\"type\":\"bar\",\"x\":[0.0068327718907861155],\"xaxis\":\"x\",\"y\":[\"Input 07\"],\"yaxis\":\"y\"},{\"alignmentgroup\":\"True\",\"hovertemplate\":\"Feature Name=%{y}<br>Iteration=2<br>Importance=%{x}<extra></extra>\",\"ids\":[\"Input 10\"],\"legendgroup\":\"Input 10\",\"marker\":{\"color\":\"#E45756\",\"pattern\":{\"shape\":\"\"}},\"name\":\"Input 10\",\"offsetgroup\":\"Input 10\",\"orientation\":\"h\",\"showlegend\":true,\"textposition\":\"auto\",\"type\":\"bar\",\"x\":[0.007001198579902545],\"xaxis\":\"x\",\"y\":[\"Input 10\"],\"yaxis\":\"y\"}],\"name\":\"2\"},{\"data\":[{\"alignmentgroup\":\"True\",\"hovertemplate\":\"Feature Name=%{y}<br>Iteration=3<br>Importance=%{x}<extra></extra>\",\"ids\":[\"Output 01\"],\"legendgroup\":\"Output 01\",\"marker\":{\"color\":\"#4C78A8\",\"pattern\":{\"shape\":\"\"}},\"name\":\"Output 01\",\"offsetgroup\":\"Output 01\",\"orientation\":\"h\",\"showlegend\":true,\"textposition\":\"auto\",\"type\":\"bar\",\"x\":[0.71127195248154],\"xaxis\":\"x\",\"y\":[\"Output 01\"],\"yaxis\":\"y\"},{\"alignmentgroup\":\"True\",\"hovertemplate\":\"Feature Name=%{y}<br>Iteration=3<br>Importance=%{x}<extra></extra>\",\"ids\":[\"Input 03\"],\"legendgroup\":\"Input 03\",\"marker\":{\"color\":\"#F58518\",\"pattern\":{\"shape\":\"\"}},\"name\":\"Input 03\",\"offsetgroup\":\"Input 03\",\"orientation\":\"h\",\"showlegend\":true,\"textposition\":\"auto\",\"type\":\"bar\",\"x\":[0.11017853003684933],\"xaxis\":\"x\",\"y\":[\"Input 03\"],\"yaxis\":\"y\"},{\"alignmentgroup\":\"True\",\"hovertemplate\":\"Feature Name=%{y}<br>Iteration=3<br>Importance=%{x}<extra></extra>\",\"ids\":[\"Input 02\"],\"legendgroup\":\"Input 02\",\"marker\":{\"color\":\"#E45756\",\"pattern\":{\"shape\":\"\"}},\"name\":\"Input 02\",\"offsetgroup\":\"Input 02\",\"orientation\":\"h\",\"showlegend\":true,\"textposition\":\"auto\",\"type\":\"bar\",\"x\":[0.05335160816633193],\"xaxis\":\"x\",\"y\":[\"Input 02\"],\"yaxis\":\"y\"},{\"alignmentgroup\":\"True\",\"hovertemplate\":\"Feature Name=%{y}<br>Iteration=3<br>Importance=%{x}<extra></extra>\",\"ids\":[\"Input 11\"],\"legendgroup\":\"Input 11\",\"marker\":{\"color\":\"#72B7B2\",\"pattern\":{\"shape\":\"\"}},\"name\":\"Input 11\",\"offsetgroup\":\"Input 11\",\"orientation\":\"h\",\"showlegend\":true,\"textposition\":\"auto\",\"type\":\"bar\",\"x\":[0.013225876483166057],\"xaxis\":\"x\",\"y\":[\"Input 11\"],\"yaxis\":\"y\"},{\"alignmentgroup\":\"True\",\"hovertemplate\":\"Feature Name=%{y}<br>Iteration=3<br>Importance=%{x}<extra></extra>\",\"ids\":[\"Input 06\"],\"legendgroup\":\"Input 06\",\"marker\":{\"color\":\"#54A24B\",\"pattern\":{\"shape\":\"\"}},\"name\":\"Input 06\",\"offsetgroup\":\"Input 06\",\"orientation\":\"h\",\"showlegend\":true,\"textposition\":\"auto\",\"type\":\"bar\",\"x\":[0.023390791907568265],\"xaxis\":\"x\",\"y\":[\"Input 06\"],\"yaxis\":\"y\"},{\"alignmentgroup\":\"True\",\"hovertemplate\":\"Feature Name=%{y}<br>Iteration=3<br>Importance=%{x}<extra></extra>\",\"ids\":[\"Input 08\"],\"legendgroup\":\"Input 08\",\"marker\":{\"color\":\"#EECA3B\",\"pattern\":{\"shape\":\"\"}},\"name\":\"Input 08\",\"offsetgroup\":\"Input 08\",\"orientation\":\"h\",\"showlegend\":true,\"textposition\":\"auto\",\"type\":\"bar\",\"x\":[0.037668727472004886],\"xaxis\":\"x\",\"y\":[\"Input 08\"],\"yaxis\":\"y\"},{\"alignmentgroup\":\"True\",\"hovertemplate\":\"Feature Name=%{y}<br>Iteration=3<br>Importance=%{x}<extra></extra>\",\"ids\":[\"Input 01\"],\"legendgroup\":\"Input 01\",\"marker\":{\"color\":\"#B279A2\",\"pattern\":{\"shape\":\"\"}},\"name\":\"Input 01\",\"offsetgroup\":\"Input 01\",\"orientation\":\"h\",\"showlegend\":true,\"textposition\":\"auto\",\"type\":\"bar\",\"x\":[0.006019212010308387],\"xaxis\":\"x\",\"y\":[\"Input 01\"],\"yaxis\":\"y\"},{\"alignmentgroup\":\"True\",\"hovertemplate\":\"Feature Name=%{y}<br>Iteration=3<br>Importance=%{x}<extra></extra>\",\"ids\":[\"Input 04\"],\"legendgroup\":\"Input 04\",\"marker\":{\"color\":\"#FF9DA6\",\"pattern\":{\"shape\":\"\"}},\"name\":\"Input 04\",\"offsetgroup\":\"Input 04\",\"orientation\":\"h\",\"showlegend\":true,\"textposition\":\"auto\",\"type\":\"bar\",\"x\":[0.014576670564463339],\"xaxis\":\"x\",\"y\":[\"Input 04\"],\"yaxis\":\"y\"},{\"alignmentgroup\":\"True\",\"hovertemplate\":\"Feature Name=%{y}<br>Iteration=3<br>Importance=%{x}<extra></extra>\",\"ids\":[\"Input 05\"],\"legendgroup\":\"Input 05\",\"marker\":{\"color\":\"#9D755D\",\"pattern\":{\"shape\":\"\"}},\"name\":\"Input 05\",\"offsetgroup\":\"Input 05\",\"orientation\":\"h\",\"showlegend\":true,\"textposition\":\"auto\",\"type\":\"bar\",\"x\":[0.005784637513111964],\"xaxis\":\"x\",\"y\":[\"Input 05\"],\"yaxis\":\"y\"},{\"alignmentgroup\":\"True\",\"hovertemplate\":\"Feature Name=%{y}<br>Iteration=3<br>Importance=%{x}<extra></extra>\",\"ids\":[\"Input 12\"],\"legendgroup\":\"Input 12\",\"marker\":{\"color\":\"#BAB0AC\",\"pattern\":{\"shape\":\"\"}},\"name\":\"Input 12\",\"offsetgroup\":\"Input 12\",\"orientation\":\"h\",\"showlegend\":true,\"textposition\":\"auto\",\"type\":\"bar\",\"x\":[0.0039480247054417645],\"xaxis\":\"x\",\"y\":[\"Input 12\"],\"yaxis\":\"y\"},{\"alignmentgroup\":\"True\",\"hovertemplate\":\"Feature Name=%{y}<br>Iteration=3<br>Importance=%{x}<extra></extra>\",\"ids\":[\"Input 09\"],\"legendgroup\":\"Input 09\",\"marker\":{\"color\":\"#4C78A8\",\"pattern\":{\"shape\":\"\"}},\"name\":\"Input 09\",\"offsetgroup\":\"Input 09\",\"orientation\":\"h\",\"showlegend\":true,\"textposition\":\"auto\",\"type\":\"bar\",\"x\":[0.002798286637652871],\"xaxis\":\"x\",\"y\":[\"Input 09\"],\"yaxis\":\"y\"},{\"alignmentgroup\":\"True\",\"hovertemplate\":\"Feature Name=%{y}<br>Iteration=3<br>Importance=%{x}<extra></extra>\",\"ids\":[\"Input 07\"],\"legendgroup\":\"Input 07\",\"marker\":{\"color\":\"#F58518\",\"pattern\":{\"shape\":\"\"}},\"name\":\"Input 07\",\"offsetgroup\":\"Input 07\",\"orientation\":\"h\",\"showlegend\":true,\"textposition\":\"auto\",\"type\":\"bar\",\"x\":[0.008426613350138591],\"xaxis\":\"x\",\"y\":[\"Input 07\"],\"yaxis\":\"y\"},{\"alignmentgroup\":\"True\",\"hovertemplate\":\"Feature Name=%{y}<br>Iteration=3<br>Importance=%{x}<extra></extra>\",\"ids\":[\"Input 10\"],\"legendgroup\":\"Input 10\",\"marker\":{\"color\":\"#E45756\",\"pattern\":{\"shape\":\"\"}},\"name\":\"Input 10\",\"offsetgroup\":\"Input 10\",\"orientation\":\"h\",\"showlegend\":true,\"textposition\":\"auto\",\"type\":\"bar\",\"x\":[0.009359068671422647],\"xaxis\":\"x\",\"y\":[\"Input 10\"],\"yaxis\":\"y\"}],\"name\":\"3\"},{\"data\":[{\"alignmentgroup\":\"True\",\"hovertemplate\":\"Feature Name=%{y}<br>Iteration=4<br>Importance=%{x}<extra></extra>\",\"ids\":[\"Output 01\"],\"legendgroup\":\"Output 01\",\"marker\":{\"color\":\"#4C78A8\",\"pattern\":{\"shape\":\"\"}},\"name\":\"Output 01\",\"offsetgroup\":\"Output 01\",\"orientation\":\"h\",\"showlegend\":true,\"textposition\":\"auto\",\"type\":\"bar\",\"x\":[0.7180051133965254],\"xaxis\":\"x\",\"y\":[\"Output 01\"],\"yaxis\":\"y\"},{\"alignmentgroup\":\"True\",\"hovertemplate\":\"Feature Name=%{y}<br>Iteration=4<br>Importance=%{x}<extra></extra>\",\"ids\":[\"Input 03\"],\"legendgroup\":\"Input 03\",\"marker\":{\"color\":\"#F58518\",\"pattern\":{\"shape\":\"\"}},\"name\":\"Input 03\",\"offsetgroup\":\"Input 03\",\"orientation\":\"h\",\"showlegend\":true,\"textposition\":\"auto\",\"type\":\"bar\",\"x\":[0.11076485906882257],\"xaxis\":\"x\",\"y\":[\"Input 03\"],\"yaxis\":\"y\"},{\"alignmentgroup\":\"True\",\"hovertemplate\":\"Feature Name=%{y}<br>Iteration=4<br>Importance=%{x}<extra></extra>\",\"ids\":[\"Input 02\"],\"legendgroup\":\"Input 02\",\"marker\":{\"color\":\"#E45756\",\"pattern\":{\"shape\":\"\"}},\"name\":\"Input 02\",\"offsetgroup\":\"Input 02\",\"orientation\":\"h\",\"showlegend\":true,\"textposition\":\"auto\",\"type\":\"bar\",\"x\":[0.05212330699726891],\"xaxis\":\"x\",\"y\":[\"Input 02\"],\"yaxis\":\"y\"},{\"alignmentgroup\":\"True\",\"hovertemplate\":\"Feature Name=%{y}<br>Iteration=4<br>Importance=%{x}<extra></extra>\",\"ids\":[\"Input 11\"],\"legendgroup\":\"Input 11\",\"marker\":{\"color\":\"#72B7B2\",\"pattern\":{\"shape\":\"\"}},\"name\":\"Input 11\",\"offsetgroup\":\"Input 11\",\"orientation\":\"h\",\"showlegend\":true,\"textposition\":\"auto\",\"type\":\"bar\",\"x\":[0.01335385228235822],\"xaxis\":\"x\",\"y\":[\"Input 11\"],\"yaxis\":\"y\"},{\"alignmentgroup\":\"True\",\"hovertemplate\":\"Feature Name=%{y}<br>Iteration=4<br>Importance=%{x}<extra></extra>\",\"ids\":[\"Input 06\"],\"legendgroup\":\"Input 06\",\"marker\":{\"color\":\"#54A24B\",\"pattern\":{\"shape\":\"\"}},\"name\":\"Input 06\",\"offsetgroup\":\"Input 06\",\"orientation\":\"h\",\"showlegend\":true,\"textposition\":\"auto\",\"type\":\"bar\",\"x\":[0.019754722867253258],\"xaxis\":\"x\",\"y\":[\"Input 06\"],\"yaxis\":\"y\"},{\"alignmentgroup\":\"True\",\"hovertemplate\":\"Feature Name=%{y}<br>Iteration=4<br>Importance=%{x}<extra></extra>\",\"ids\":[\"Input 08\"],\"legendgroup\":\"Input 08\",\"marker\":{\"color\":\"#EECA3B\",\"pattern\":{\"shape\":\"\"}},\"name\":\"Input 08\",\"offsetgroup\":\"Input 08\",\"orientation\":\"h\",\"showlegend\":true,\"textposition\":\"auto\",\"type\":\"bar\",\"x\":[0.03431357645435059],\"xaxis\":\"x\",\"y\":[\"Input 08\"],\"yaxis\":\"y\"},{\"alignmentgroup\":\"True\",\"hovertemplate\":\"Feature Name=%{y}<br>Iteration=4<br>Importance=%{x}<extra></extra>\",\"ids\":[\"Input 01\"],\"legendgroup\":\"Input 01\",\"marker\":{\"color\":\"#B279A2\",\"pattern\":{\"shape\":\"\"}},\"name\":\"Input 01\",\"offsetgroup\":\"Input 01\",\"orientation\":\"h\",\"showlegend\":true,\"textposition\":\"auto\",\"type\":\"bar\",\"x\":[0.006015616558621069],\"xaxis\":\"x\",\"y\":[\"Input 01\"],\"yaxis\":\"y\"},{\"alignmentgroup\":\"True\",\"hovertemplate\":\"Feature Name=%{y}<br>Iteration=4<br>Importance=%{x}<extra></extra>\",\"ids\":[\"Input 04\"],\"legendgroup\":\"Input 04\",\"marker\":{\"color\":\"#FF9DA6\",\"pattern\":{\"shape\":\"\"}},\"name\":\"Input 04\",\"offsetgroup\":\"Input 04\",\"orientation\":\"h\",\"showlegend\":true,\"textposition\":\"auto\",\"type\":\"bar\",\"x\":[0.0176247546992435],\"xaxis\":\"x\",\"y\":[\"Input 04\"],\"yaxis\":\"y\"},{\"alignmentgroup\":\"True\",\"hovertemplate\":\"Feature Name=%{y}<br>Iteration=4<br>Importance=%{x}<extra></extra>\",\"ids\":[\"Input 05\"],\"legendgroup\":\"Input 05\",\"marker\":{\"color\":\"#9D755D\",\"pattern\":{\"shape\":\"\"}},\"name\":\"Input 05\",\"offsetgroup\":\"Input 05\",\"orientation\":\"h\",\"showlegend\":true,\"textposition\":\"auto\",\"type\":\"bar\",\"x\":[0.006792533179266497],\"xaxis\":\"x\",\"y\":[\"Input 05\"],\"yaxis\":\"y\"},{\"alignmentgroup\":\"True\",\"hovertemplate\":\"Feature Name=%{y}<br>Iteration=4<br>Importance=%{x}<extra></extra>\",\"ids\":[\"Input 12\"],\"legendgroup\":\"Input 12\",\"marker\":{\"color\":\"#BAB0AC\",\"pattern\":{\"shape\":\"\"}},\"name\":\"Input 12\",\"offsetgroup\":\"Input 12\",\"orientation\":\"h\",\"showlegend\":true,\"textposition\":\"auto\",\"type\":\"bar\",\"x\":[0.0031504713183010766],\"xaxis\":\"x\",\"y\":[\"Input 12\"],\"yaxis\":\"y\"},{\"alignmentgroup\":\"True\",\"hovertemplate\":\"Feature Name=%{y}<br>Iteration=4<br>Importance=%{x}<extra></extra>\",\"ids\":[\"Input 09\"],\"legendgroup\":\"Input 09\",\"marker\":{\"color\":\"#4C78A8\",\"pattern\":{\"shape\":\"\"}},\"name\":\"Input 09\",\"offsetgroup\":\"Input 09\",\"orientation\":\"h\",\"showlegend\":true,\"textposition\":\"auto\",\"type\":\"bar\",\"x\":[0.002329470408843867],\"xaxis\":\"x\",\"y\":[\"Input 09\"],\"yaxis\":\"y\"},{\"alignmentgroup\":\"True\",\"hovertemplate\":\"Feature Name=%{y}<br>Iteration=4<br>Importance=%{x}<extra></extra>\",\"ids\":[\"Input 07\"],\"legendgroup\":\"Input 07\",\"marker\":{\"color\":\"#F58518\",\"pattern\":{\"shape\":\"\"}},\"name\":\"Input 07\",\"offsetgroup\":\"Input 07\",\"orientation\":\"h\",\"showlegend\":true,\"textposition\":\"auto\",\"type\":\"bar\",\"x\":[0.007663169669705562],\"xaxis\":\"x\",\"y\":[\"Input 07\"],\"yaxis\":\"y\"},{\"alignmentgroup\":\"True\",\"hovertemplate\":\"Feature Name=%{y}<br>Iteration=4<br>Importance=%{x}<extra></extra>\",\"ids\":[\"Input 10\"],\"legendgroup\":\"Input 10\",\"marker\":{\"color\":\"#E45756\",\"pattern\":{\"shape\":\"\"}},\"name\":\"Input 10\",\"offsetgroup\":\"Input 10\",\"orientation\":\"h\",\"showlegend\":true,\"textposition\":\"auto\",\"type\":\"bar\",\"x\":[0.008108553099439383],\"xaxis\":\"x\",\"y\":[\"Input 10\"],\"yaxis\":\"y\"}],\"name\":\"4\"},{\"data\":[{\"alignmentgroup\":\"True\",\"hovertemplate\":\"Feature Name=%{y}<br>Iteration=5<br>Importance=%{x}<extra></extra>\",\"ids\":[\"Output 01\"],\"legendgroup\":\"Output 01\",\"marker\":{\"color\":\"#4C78A8\",\"pattern\":{\"shape\":\"\"}},\"name\":\"Output 01\",\"offsetgroup\":\"Output 01\",\"orientation\":\"h\",\"showlegend\":true,\"textposition\":\"auto\",\"type\":\"bar\",\"x\":[0.7161410224725174],\"xaxis\":\"x\",\"y\":[\"Output 01\"],\"yaxis\":\"y\"},{\"alignmentgroup\":\"True\",\"hovertemplate\":\"Feature Name=%{y}<br>Iteration=5<br>Importance=%{x}<extra></extra>\",\"ids\":[\"Input 03\"],\"legendgroup\":\"Input 03\",\"marker\":{\"color\":\"#F58518\",\"pattern\":{\"shape\":\"\"}},\"name\":\"Input 03\",\"offsetgroup\":\"Input 03\",\"orientation\":\"h\",\"showlegend\":true,\"textposition\":\"auto\",\"type\":\"bar\",\"x\":[0.11314786761851021],\"xaxis\":\"x\",\"y\":[\"Input 03\"],\"yaxis\":\"y\"},{\"alignmentgroup\":\"True\",\"hovertemplate\":\"Feature Name=%{y}<br>Iteration=5<br>Importance=%{x}<extra></extra>\",\"ids\":[\"Input 02\"],\"legendgroup\":\"Input 02\",\"marker\":{\"color\":\"#E45756\",\"pattern\":{\"shape\":\"\"}},\"name\":\"Input 02\",\"offsetgroup\":\"Input 02\",\"orientation\":\"h\",\"showlegend\":true,\"textposition\":\"auto\",\"type\":\"bar\",\"x\":[0.05186910067947614],\"xaxis\":\"x\",\"y\":[\"Input 02\"],\"yaxis\":\"y\"},{\"alignmentgroup\":\"True\",\"hovertemplate\":\"Feature Name=%{y}<br>Iteration=5<br>Importance=%{x}<extra></extra>\",\"ids\":[\"Input 11\"],\"legendgroup\":\"Input 11\",\"marker\":{\"color\":\"#72B7B2\",\"pattern\":{\"shape\":\"\"}},\"name\":\"Input 11\",\"offsetgroup\":\"Input 11\",\"orientation\":\"h\",\"showlegend\":true,\"textposition\":\"auto\",\"type\":\"bar\",\"x\":[0.012099172275508404],\"xaxis\":\"x\",\"y\":[\"Input 11\"],\"yaxis\":\"y\"},{\"alignmentgroup\":\"True\",\"hovertemplate\":\"Feature Name=%{y}<br>Iteration=5<br>Importance=%{x}<extra></extra>\",\"ids\":[\"Input 06\"],\"legendgroup\":\"Input 06\",\"marker\":{\"color\":\"#54A24B\",\"pattern\":{\"shape\":\"\"}},\"name\":\"Input 06\",\"offsetgroup\":\"Input 06\",\"orientation\":\"h\",\"showlegend\":true,\"textposition\":\"auto\",\"type\":\"bar\",\"x\":[0.019340622845962156],\"xaxis\":\"x\",\"y\":[\"Input 06\"],\"yaxis\":\"y\"},{\"alignmentgroup\":\"True\",\"hovertemplate\":\"Feature Name=%{y}<br>Iteration=5<br>Importance=%{x}<extra></extra>\",\"ids\":[\"Input 08\"],\"legendgroup\":\"Input 08\",\"marker\":{\"color\":\"#EECA3B\",\"pattern\":{\"shape\":\"\"}},\"name\":\"Input 08\",\"offsetgroup\":\"Input 08\",\"orientation\":\"h\",\"showlegend\":true,\"textposition\":\"auto\",\"type\":\"bar\",\"x\":[0.03497132804503161],\"xaxis\":\"x\",\"y\":[\"Input 08\"],\"yaxis\":\"y\"},{\"alignmentgroup\":\"True\",\"hovertemplate\":\"Feature Name=%{y}<br>Iteration=5<br>Importance=%{x}<extra></extra>\",\"ids\":[\"Input 01\"],\"legendgroup\":\"Input 01\",\"marker\":{\"color\":\"#B279A2\",\"pattern\":{\"shape\":\"\"}},\"name\":\"Input 01\",\"offsetgroup\":\"Input 01\",\"orientation\":\"h\",\"showlegend\":true,\"textposition\":\"auto\",\"type\":\"bar\",\"x\":[0.004526515892360297],\"xaxis\":\"x\",\"y\":[\"Input 01\"],\"yaxis\":\"y\"},{\"alignmentgroup\":\"True\",\"hovertemplate\":\"Feature Name=%{y}<br>Iteration=5<br>Importance=%{x}<extra></extra>\",\"ids\":[\"Input 04\"],\"legendgroup\":\"Input 04\",\"marker\":{\"color\":\"#FF9DA6\",\"pattern\":{\"shape\":\"\"}},\"name\":\"Input 04\",\"offsetgroup\":\"Input 04\",\"orientation\":\"h\",\"showlegend\":true,\"textposition\":\"auto\",\"type\":\"bar\",\"x\":[0.01766323132703818],\"xaxis\":\"x\",\"y\":[\"Input 04\"],\"yaxis\":\"y\"},{\"alignmentgroup\":\"True\",\"hovertemplate\":\"Feature Name=%{y}<br>Iteration=5<br>Importance=%{x}<extra></extra>\",\"ids\":[\"Input 05\"],\"legendgroup\":\"Input 05\",\"marker\":{\"color\":\"#9D755D\",\"pattern\":{\"shape\":\"\"}},\"name\":\"Input 05\",\"offsetgroup\":\"Input 05\",\"orientation\":\"h\",\"showlegend\":true,\"textposition\":\"auto\",\"type\":\"bar\",\"x\":[0.006567356109055192],\"xaxis\":\"x\",\"y\":[\"Input 05\"],\"yaxis\":\"y\"},{\"alignmentgroup\":\"True\",\"hovertemplate\":\"Feature Name=%{y}<br>Iteration=5<br>Importance=%{x}<extra></extra>\",\"ids\":[\"Input 12\"],\"legendgroup\":\"Input 12\",\"marker\":{\"color\":\"#BAB0AC\",\"pattern\":{\"shape\":\"\"}},\"name\":\"Input 12\",\"offsetgroup\":\"Input 12\",\"orientation\":\"h\",\"showlegend\":true,\"textposition\":\"auto\",\"type\":\"bar\",\"x\":[0.003371796765051936],\"xaxis\":\"x\",\"y\":[\"Input 12\"],\"yaxis\":\"y\"},{\"alignmentgroup\":\"True\",\"hovertemplate\":\"Feature Name=%{y}<br>Iteration=5<br>Importance=%{x}<extra></extra>\",\"ids\":[\"Input 09\"],\"legendgroup\":\"Input 09\",\"marker\":{\"color\":\"#4C78A8\",\"pattern\":{\"shape\":\"\"}},\"name\":\"Input 09\",\"offsetgroup\":\"Input 09\",\"orientation\":\"h\",\"showlegend\":true,\"textposition\":\"auto\",\"type\":\"bar\",\"x\":[0.002516442068493644],\"xaxis\":\"x\",\"y\":[\"Input 09\"],\"yaxis\":\"y\"},{\"alignmentgroup\":\"True\",\"hovertemplate\":\"Feature Name=%{y}<br>Iteration=5<br>Importance=%{x}<extra></extra>\",\"ids\":[\"Input 07\"],\"legendgroup\":\"Input 07\",\"marker\":{\"color\":\"#F58518\",\"pattern\":{\"shape\":\"\"}},\"name\":\"Input 07\",\"offsetgroup\":\"Input 07\",\"orientation\":\"h\",\"showlegend\":true,\"textposition\":\"auto\",\"type\":\"bar\",\"x\":[0.008588244083745722],\"xaxis\":\"x\",\"y\":[\"Input 07\"],\"yaxis\":\"y\"},{\"alignmentgroup\":\"True\",\"hovertemplate\":\"Feature Name=%{y}<br>Iteration=5<br>Importance=%{x}<extra></extra>\",\"ids\":[\"Input 10\"],\"legendgroup\":\"Input 10\",\"marker\":{\"color\":\"#E45756\",\"pattern\":{\"shape\":\"\"}},\"name\":\"Input 10\",\"offsetgroup\":\"Input 10\",\"orientation\":\"h\",\"showlegend\":true,\"textposition\":\"auto\",\"type\":\"bar\",\"x\":[0.00919729981724901],\"xaxis\":\"x\",\"y\":[\"Input 10\"],\"yaxis\":\"y\"}],\"name\":\"5\"},{\"data\":[{\"alignmentgroup\":\"True\",\"hovertemplate\":\"Feature Name=%{y}<br>Iteration=6<br>Importance=%{x}<extra></extra>\",\"ids\":[\"Output 01\"],\"legendgroup\":\"Output 01\",\"marker\":{\"color\":\"#4C78A8\",\"pattern\":{\"shape\":\"\"}},\"name\":\"Output 01\",\"offsetgroup\":\"Output 01\",\"orientation\":\"h\",\"showlegend\":true,\"textposition\":\"auto\",\"type\":\"bar\",\"x\":[0.7161410224725174],\"xaxis\":\"x\",\"y\":[\"Output 01\"],\"yaxis\":\"y\"},{\"alignmentgroup\":\"True\",\"hovertemplate\":\"Feature Name=%{y}<br>Iteration=6<br>Importance=%{x}<extra></extra>\",\"ids\":[\"Input 03\"],\"legendgroup\":\"Input 03\",\"marker\":{\"color\":\"#F58518\",\"pattern\":{\"shape\":\"\"}},\"name\":\"Input 03\",\"offsetgroup\":\"Input 03\",\"orientation\":\"h\",\"showlegend\":true,\"textposition\":\"auto\",\"type\":\"bar\",\"x\":[0.11314786761851021],\"xaxis\":\"x\",\"y\":[\"Input 03\"],\"yaxis\":\"y\"},{\"alignmentgroup\":\"True\",\"hovertemplate\":\"Feature Name=%{y}<br>Iteration=6<br>Importance=%{x}<extra></extra>\",\"ids\":[\"Input 02\"],\"legendgroup\":\"Input 02\",\"marker\":{\"color\":\"#E45756\",\"pattern\":{\"shape\":\"\"}},\"name\":\"Input 02\",\"offsetgroup\":\"Input 02\",\"orientation\":\"h\",\"showlegend\":true,\"textposition\":\"auto\",\"type\":\"bar\",\"x\":[0.05186910067947614],\"xaxis\":\"x\",\"y\":[\"Input 02\"],\"yaxis\":\"y\"},{\"alignmentgroup\":\"True\",\"hovertemplate\":\"Feature Name=%{y}<br>Iteration=6<br>Importance=%{x}<extra></extra>\",\"ids\":[\"Input 11\"],\"legendgroup\":\"Input 11\",\"marker\":{\"color\":\"#72B7B2\",\"pattern\":{\"shape\":\"\"}},\"name\":\"Input 11\",\"offsetgroup\":\"Input 11\",\"orientation\":\"h\",\"showlegend\":true,\"textposition\":\"auto\",\"type\":\"bar\",\"x\":[0.012099172275508404],\"xaxis\":\"x\",\"y\":[\"Input 11\"],\"yaxis\":\"y\"},{\"alignmentgroup\":\"True\",\"hovertemplate\":\"Feature Name=%{y}<br>Iteration=6<br>Importance=%{x}<extra></extra>\",\"ids\":[\"Input 06\"],\"legendgroup\":\"Input 06\",\"marker\":{\"color\":\"#54A24B\",\"pattern\":{\"shape\":\"\"}},\"name\":\"Input 06\",\"offsetgroup\":\"Input 06\",\"orientation\":\"h\",\"showlegend\":true,\"textposition\":\"auto\",\"type\":\"bar\",\"x\":[0.019340622845962156],\"xaxis\":\"x\",\"y\":[\"Input 06\"],\"yaxis\":\"y\"},{\"alignmentgroup\":\"True\",\"hovertemplate\":\"Feature Name=%{y}<br>Iteration=6<br>Importance=%{x}<extra></extra>\",\"ids\":[\"Input 08\"],\"legendgroup\":\"Input 08\",\"marker\":{\"color\":\"#EECA3B\",\"pattern\":{\"shape\":\"\"}},\"name\":\"Input 08\",\"offsetgroup\":\"Input 08\",\"orientation\":\"h\",\"showlegend\":true,\"textposition\":\"auto\",\"type\":\"bar\",\"x\":[0.03497132804503161],\"xaxis\":\"x\",\"y\":[\"Input 08\"],\"yaxis\":\"y\"},{\"alignmentgroup\":\"True\",\"hovertemplate\":\"Feature Name=%{y}<br>Iteration=6<br>Importance=%{x}<extra></extra>\",\"ids\":[\"Input 01\"],\"legendgroup\":\"Input 01\",\"marker\":{\"color\":\"#B279A2\",\"pattern\":{\"shape\":\"\"}},\"name\":\"Input 01\",\"offsetgroup\":\"Input 01\",\"orientation\":\"h\",\"showlegend\":true,\"textposition\":\"auto\",\"type\":\"bar\",\"x\":[0.004526515892360297],\"xaxis\":\"x\",\"y\":[\"Input 01\"],\"yaxis\":\"y\"},{\"alignmentgroup\":\"True\",\"hovertemplate\":\"Feature Name=%{y}<br>Iteration=6<br>Importance=%{x}<extra></extra>\",\"ids\":[\"Input 04\"],\"legendgroup\":\"Input 04\",\"marker\":{\"color\":\"#FF9DA6\",\"pattern\":{\"shape\":\"\"}},\"name\":\"Input 04\",\"offsetgroup\":\"Input 04\",\"orientation\":\"h\",\"showlegend\":true,\"textposition\":\"auto\",\"type\":\"bar\",\"x\":[0.01766323132703818],\"xaxis\":\"x\",\"y\":[\"Input 04\"],\"yaxis\":\"y\"},{\"alignmentgroup\":\"True\",\"hovertemplate\":\"Feature Name=%{y}<br>Iteration=6<br>Importance=%{x}<extra></extra>\",\"ids\":[\"Input 05\"],\"legendgroup\":\"Input 05\",\"marker\":{\"color\":\"#9D755D\",\"pattern\":{\"shape\":\"\"}},\"name\":\"Input 05\",\"offsetgroup\":\"Input 05\",\"orientation\":\"h\",\"showlegend\":true,\"textposition\":\"auto\",\"type\":\"bar\",\"x\":[0.006567356109055192],\"xaxis\":\"x\",\"y\":[\"Input 05\"],\"yaxis\":\"y\"},{\"alignmentgroup\":\"True\",\"hovertemplate\":\"Feature Name=%{y}<br>Iteration=6<br>Importance=%{x}<extra></extra>\",\"ids\":[\"Input 12\"],\"legendgroup\":\"Input 12\",\"marker\":{\"color\":\"#BAB0AC\",\"pattern\":{\"shape\":\"\"}},\"name\":\"Input 12\",\"offsetgroup\":\"Input 12\",\"orientation\":\"h\",\"showlegend\":true,\"textposition\":\"auto\",\"type\":\"bar\",\"x\":[0.003371796765051936],\"xaxis\":\"x\",\"y\":[\"Input 12\"],\"yaxis\":\"y\"},{\"alignmentgroup\":\"True\",\"hovertemplate\":\"Feature Name=%{y}<br>Iteration=6<br>Importance=%{x}<extra></extra>\",\"ids\":[\"Input 09\"],\"legendgroup\":\"Input 09\",\"marker\":{\"color\":\"#4C78A8\",\"pattern\":{\"shape\":\"\"}},\"name\":\"Input 09\",\"offsetgroup\":\"Input 09\",\"orientation\":\"h\",\"showlegend\":true,\"textposition\":\"auto\",\"type\":\"bar\",\"x\":[0.002516442068493644],\"xaxis\":\"x\",\"y\":[\"Input 09\"],\"yaxis\":\"y\"},{\"alignmentgroup\":\"True\",\"hovertemplate\":\"Feature Name=%{y}<br>Iteration=6<br>Importance=%{x}<extra></extra>\",\"ids\":[\"Input 07\"],\"legendgroup\":\"Input 07\",\"marker\":{\"color\":\"#F58518\",\"pattern\":{\"shape\":\"\"}},\"name\":\"Input 07\",\"offsetgroup\":\"Input 07\",\"orientation\":\"h\",\"showlegend\":true,\"textposition\":\"auto\",\"type\":\"bar\",\"x\":[0.008588244083745722],\"xaxis\":\"x\",\"y\":[\"Input 07\"],\"yaxis\":\"y\"},{\"alignmentgroup\":\"True\",\"hovertemplate\":\"Feature Name=%{y}<br>Iteration=6<br>Importance=%{x}<extra></extra>\",\"ids\":[\"Input 10\"],\"legendgroup\":\"Input 10\",\"marker\":{\"color\":\"#E45756\",\"pattern\":{\"shape\":\"\"}},\"name\":\"Input 10\",\"offsetgroup\":\"Input 10\",\"orientation\":\"h\",\"showlegend\":true,\"textposition\":\"auto\",\"type\":\"bar\",\"x\":[0.00919729981724901],\"xaxis\":\"x\",\"y\":[\"Input 10\"],\"yaxis\":\"y\"}],\"name\":\"6\"},{\"data\":[{\"alignmentgroup\":\"True\",\"hovertemplate\":\"Feature Name=%{y}<br>Iteration=7<br>Importance=%{x}<extra></extra>\",\"ids\":[\"Output 01\"],\"legendgroup\":\"Output 01\",\"marker\":{\"color\":\"#4C78A8\",\"pattern\":{\"shape\":\"\"}},\"name\":\"Output 01\",\"offsetgroup\":\"Output 01\",\"orientation\":\"h\",\"showlegend\":true,\"textposition\":\"auto\",\"type\":\"bar\",\"x\":[0.7161410224725174],\"xaxis\":\"x\",\"y\":[\"Output 01\"],\"yaxis\":\"y\"},{\"alignmentgroup\":\"True\",\"hovertemplate\":\"Feature Name=%{y}<br>Iteration=7<br>Importance=%{x}<extra></extra>\",\"ids\":[\"Input 03\"],\"legendgroup\":\"Input 03\",\"marker\":{\"color\":\"#F58518\",\"pattern\":{\"shape\":\"\"}},\"name\":\"Input 03\",\"offsetgroup\":\"Input 03\",\"orientation\":\"h\",\"showlegend\":true,\"textposition\":\"auto\",\"type\":\"bar\",\"x\":[0.11314786761851021],\"xaxis\":\"x\",\"y\":[\"Input 03\"],\"yaxis\":\"y\"},{\"alignmentgroup\":\"True\",\"hovertemplate\":\"Feature Name=%{y}<br>Iteration=7<br>Importance=%{x}<extra></extra>\",\"ids\":[\"Input 02\"],\"legendgroup\":\"Input 02\",\"marker\":{\"color\":\"#E45756\",\"pattern\":{\"shape\":\"\"}},\"name\":\"Input 02\",\"offsetgroup\":\"Input 02\",\"orientation\":\"h\",\"showlegend\":true,\"textposition\":\"auto\",\"type\":\"bar\",\"x\":[0.05186910067947614],\"xaxis\":\"x\",\"y\":[\"Input 02\"],\"yaxis\":\"y\"},{\"alignmentgroup\":\"True\",\"hovertemplate\":\"Feature Name=%{y}<br>Iteration=7<br>Importance=%{x}<extra></extra>\",\"ids\":[\"Input 11\"],\"legendgroup\":\"Input 11\",\"marker\":{\"color\":\"#72B7B2\",\"pattern\":{\"shape\":\"\"}},\"name\":\"Input 11\",\"offsetgroup\":\"Input 11\",\"orientation\":\"h\",\"showlegend\":true,\"textposition\":\"auto\",\"type\":\"bar\",\"x\":[0.012099172275508404],\"xaxis\":\"x\",\"y\":[\"Input 11\"],\"yaxis\":\"y\"},{\"alignmentgroup\":\"True\",\"hovertemplate\":\"Feature Name=%{y}<br>Iteration=7<br>Importance=%{x}<extra></extra>\",\"ids\":[\"Input 06\"],\"legendgroup\":\"Input 06\",\"marker\":{\"color\":\"#54A24B\",\"pattern\":{\"shape\":\"\"}},\"name\":\"Input 06\",\"offsetgroup\":\"Input 06\",\"orientation\":\"h\",\"showlegend\":true,\"textposition\":\"auto\",\"type\":\"bar\",\"x\":[0.019340622845962156],\"xaxis\":\"x\",\"y\":[\"Input 06\"],\"yaxis\":\"y\"},{\"alignmentgroup\":\"True\",\"hovertemplate\":\"Feature Name=%{y}<br>Iteration=7<br>Importance=%{x}<extra></extra>\",\"ids\":[\"Input 08\"],\"legendgroup\":\"Input 08\",\"marker\":{\"color\":\"#EECA3B\",\"pattern\":{\"shape\":\"\"}},\"name\":\"Input 08\",\"offsetgroup\":\"Input 08\",\"orientation\":\"h\",\"showlegend\":true,\"textposition\":\"auto\",\"type\":\"bar\",\"x\":[0.03497132804503161],\"xaxis\":\"x\",\"y\":[\"Input 08\"],\"yaxis\":\"y\"},{\"alignmentgroup\":\"True\",\"hovertemplate\":\"Feature Name=%{y}<br>Iteration=7<br>Importance=%{x}<extra></extra>\",\"ids\":[\"Input 01\"],\"legendgroup\":\"Input 01\",\"marker\":{\"color\":\"#B279A2\",\"pattern\":{\"shape\":\"\"}},\"name\":\"Input 01\",\"offsetgroup\":\"Input 01\",\"orientation\":\"h\",\"showlegend\":true,\"textposition\":\"auto\",\"type\":\"bar\",\"x\":[0.004526515892360297],\"xaxis\":\"x\",\"y\":[\"Input 01\"],\"yaxis\":\"y\"},{\"alignmentgroup\":\"True\",\"hovertemplate\":\"Feature Name=%{y}<br>Iteration=7<br>Importance=%{x}<extra></extra>\",\"ids\":[\"Input 04\"],\"legendgroup\":\"Input 04\",\"marker\":{\"color\":\"#FF9DA6\",\"pattern\":{\"shape\":\"\"}},\"name\":\"Input 04\",\"offsetgroup\":\"Input 04\",\"orientation\":\"h\",\"showlegend\":true,\"textposition\":\"auto\",\"type\":\"bar\",\"x\":[0.01766323132703818],\"xaxis\":\"x\",\"y\":[\"Input 04\"],\"yaxis\":\"y\"},{\"alignmentgroup\":\"True\",\"hovertemplate\":\"Feature Name=%{y}<br>Iteration=7<br>Importance=%{x}<extra></extra>\",\"ids\":[\"Input 05\"],\"legendgroup\":\"Input 05\",\"marker\":{\"color\":\"#9D755D\",\"pattern\":{\"shape\":\"\"}},\"name\":\"Input 05\",\"offsetgroup\":\"Input 05\",\"orientation\":\"h\",\"showlegend\":true,\"textposition\":\"auto\",\"type\":\"bar\",\"x\":[0.006567356109055192],\"xaxis\":\"x\",\"y\":[\"Input 05\"],\"yaxis\":\"y\"},{\"alignmentgroup\":\"True\",\"hovertemplate\":\"Feature Name=%{y}<br>Iteration=7<br>Importance=%{x}<extra></extra>\",\"ids\":[\"Input 12\"],\"legendgroup\":\"Input 12\",\"marker\":{\"color\":\"#BAB0AC\",\"pattern\":{\"shape\":\"\"}},\"name\":\"Input 12\",\"offsetgroup\":\"Input 12\",\"orientation\":\"h\",\"showlegend\":true,\"textposition\":\"auto\",\"type\":\"bar\",\"x\":[0.003371796765051936],\"xaxis\":\"x\",\"y\":[\"Input 12\"],\"yaxis\":\"y\"},{\"alignmentgroup\":\"True\",\"hovertemplate\":\"Feature Name=%{y}<br>Iteration=7<br>Importance=%{x}<extra></extra>\",\"ids\":[\"Input 09\"],\"legendgroup\":\"Input 09\",\"marker\":{\"color\":\"#4C78A8\",\"pattern\":{\"shape\":\"\"}},\"name\":\"Input 09\",\"offsetgroup\":\"Input 09\",\"orientation\":\"h\",\"showlegend\":true,\"textposition\":\"auto\",\"type\":\"bar\",\"x\":[0.002516442068493644],\"xaxis\":\"x\",\"y\":[\"Input 09\"],\"yaxis\":\"y\"},{\"alignmentgroup\":\"True\",\"hovertemplate\":\"Feature Name=%{y}<br>Iteration=7<br>Importance=%{x}<extra></extra>\",\"ids\":[\"Input 07\"],\"legendgroup\":\"Input 07\",\"marker\":{\"color\":\"#F58518\",\"pattern\":{\"shape\":\"\"}},\"name\":\"Input 07\",\"offsetgroup\":\"Input 07\",\"orientation\":\"h\",\"showlegend\":true,\"textposition\":\"auto\",\"type\":\"bar\",\"x\":[0.008588244083745722],\"xaxis\":\"x\",\"y\":[\"Input 07\"],\"yaxis\":\"y\"},{\"alignmentgroup\":\"True\",\"hovertemplate\":\"Feature Name=%{y}<br>Iteration=7<br>Importance=%{x}<extra></extra>\",\"ids\":[\"Input 10\"],\"legendgroup\":\"Input 10\",\"marker\":{\"color\":\"#E45756\",\"pattern\":{\"shape\":\"\"}},\"name\":\"Input 10\",\"offsetgroup\":\"Input 10\",\"orientation\":\"h\",\"showlegend\":true,\"textposition\":\"auto\",\"type\":\"bar\",\"x\":[0.00919729981724901],\"xaxis\":\"x\",\"y\":[\"Input 10\"],\"yaxis\":\"y\"}],\"name\":\"7\"},{\"data\":[{\"alignmentgroup\":\"True\",\"hovertemplate\":\"Feature Name=%{y}<br>Iteration=8<br>Importance=%{x}<extra></extra>\",\"ids\":[\"Output 01\"],\"legendgroup\":\"Output 01\",\"marker\":{\"color\":\"#4C78A8\",\"pattern\":{\"shape\":\"\"}},\"name\":\"Output 01\",\"offsetgroup\":\"Output 01\",\"orientation\":\"h\",\"showlegend\":true,\"textposition\":\"auto\",\"type\":\"bar\",\"x\":[0.7161410224725174],\"xaxis\":\"x\",\"y\":[\"Output 01\"],\"yaxis\":\"y\"},{\"alignmentgroup\":\"True\",\"hovertemplate\":\"Feature Name=%{y}<br>Iteration=8<br>Importance=%{x}<extra></extra>\",\"ids\":[\"Input 03\"],\"legendgroup\":\"Input 03\",\"marker\":{\"color\":\"#F58518\",\"pattern\":{\"shape\":\"\"}},\"name\":\"Input 03\",\"offsetgroup\":\"Input 03\",\"orientation\":\"h\",\"showlegend\":true,\"textposition\":\"auto\",\"type\":\"bar\",\"x\":[0.11314786761851021],\"xaxis\":\"x\",\"y\":[\"Input 03\"],\"yaxis\":\"y\"},{\"alignmentgroup\":\"True\",\"hovertemplate\":\"Feature Name=%{y}<br>Iteration=8<br>Importance=%{x}<extra></extra>\",\"ids\":[\"Input 02\"],\"legendgroup\":\"Input 02\",\"marker\":{\"color\":\"#E45756\",\"pattern\":{\"shape\":\"\"}},\"name\":\"Input 02\",\"offsetgroup\":\"Input 02\",\"orientation\":\"h\",\"showlegend\":true,\"textposition\":\"auto\",\"type\":\"bar\",\"x\":[0.05186910067947614],\"xaxis\":\"x\",\"y\":[\"Input 02\"],\"yaxis\":\"y\"},{\"alignmentgroup\":\"True\",\"hovertemplate\":\"Feature Name=%{y}<br>Iteration=8<br>Importance=%{x}<extra></extra>\",\"ids\":[\"Input 11\"],\"legendgroup\":\"Input 11\",\"marker\":{\"color\":\"#72B7B2\",\"pattern\":{\"shape\":\"\"}},\"name\":\"Input 11\",\"offsetgroup\":\"Input 11\",\"orientation\":\"h\",\"showlegend\":true,\"textposition\":\"auto\",\"type\":\"bar\",\"x\":[0.012099172275508404],\"xaxis\":\"x\",\"y\":[\"Input 11\"],\"yaxis\":\"y\"},{\"alignmentgroup\":\"True\",\"hovertemplate\":\"Feature Name=%{y}<br>Iteration=8<br>Importance=%{x}<extra></extra>\",\"ids\":[\"Input 06\"],\"legendgroup\":\"Input 06\",\"marker\":{\"color\":\"#54A24B\",\"pattern\":{\"shape\":\"\"}},\"name\":\"Input 06\",\"offsetgroup\":\"Input 06\",\"orientation\":\"h\",\"showlegend\":true,\"textposition\":\"auto\",\"type\":\"bar\",\"x\":[0.019340622845962156],\"xaxis\":\"x\",\"y\":[\"Input 06\"],\"yaxis\":\"y\"},{\"alignmentgroup\":\"True\",\"hovertemplate\":\"Feature Name=%{y}<br>Iteration=8<br>Importance=%{x}<extra></extra>\",\"ids\":[\"Input 08\"],\"legendgroup\":\"Input 08\",\"marker\":{\"color\":\"#EECA3B\",\"pattern\":{\"shape\":\"\"}},\"name\":\"Input 08\",\"offsetgroup\":\"Input 08\",\"orientation\":\"h\",\"showlegend\":true,\"textposition\":\"auto\",\"type\":\"bar\",\"x\":[0.03497132804503161],\"xaxis\":\"x\",\"y\":[\"Input 08\"],\"yaxis\":\"y\"},{\"alignmentgroup\":\"True\",\"hovertemplate\":\"Feature Name=%{y}<br>Iteration=8<br>Importance=%{x}<extra></extra>\",\"ids\":[\"Input 01\"],\"legendgroup\":\"Input 01\",\"marker\":{\"color\":\"#B279A2\",\"pattern\":{\"shape\":\"\"}},\"name\":\"Input 01\",\"offsetgroup\":\"Input 01\",\"orientation\":\"h\",\"showlegend\":true,\"textposition\":\"auto\",\"type\":\"bar\",\"x\":[0.004526515892360297],\"xaxis\":\"x\",\"y\":[\"Input 01\"],\"yaxis\":\"y\"},{\"alignmentgroup\":\"True\",\"hovertemplate\":\"Feature Name=%{y}<br>Iteration=8<br>Importance=%{x}<extra></extra>\",\"ids\":[\"Input 04\"],\"legendgroup\":\"Input 04\",\"marker\":{\"color\":\"#FF9DA6\",\"pattern\":{\"shape\":\"\"}},\"name\":\"Input 04\",\"offsetgroup\":\"Input 04\",\"orientation\":\"h\",\"showlegend\":true,\"textposition\":\"auto\",\"type\":\"bar\",\"x\":[0.01766323132703818],\"xaxis\":\"x\",\"y\":[\"Input 04\"],\"yaxis\":\"y\"},{\"alignmentgroup\":\"True\",\"hovertemplate\":\"Feature Name=%{y}<br>Iteration=8<br>Importance=%{x}<extra></extra>\",\"ids\":[\"Input 05\"],\"legendgroup\":\"Input 05\",\"marker\":{\"color\":\"#9D755D\",\"pattern\":{\"shape\":\"\"}},\"name\":\"Input 05\",\"offsetgroup\":\"Input 05\",\"orientation\":\"h\",\"showlegend\":true,\"textposition\":\"auto\",\"type\":\"bar\",\"x\":[0.006567356109055192],\"xaxis\":\"x\",\"y\":[\"Input 05\"],\"yaxis\":\"y\"},{\"alignmentgroup\":\"True\",\"hovertemplate\":\"Feature Name=%{y}<br>Iteration=8<br>Importance=%{x}<extra></extra>\",\"ids\":[\"Input 12\"],\"legendgroup\":\"Input 12\",\"marker\":{\"color\":\"#BAB0AC\",\"pattern\":{\"shape\":\"\"}},\"name\":\"Input 12\",\"offsetgroup\":\"Input 12\",\"orientation\":\"h\",\"showlegend\":true,\"textposition\":\"auto\",\"type\":\"bar\",\"x\":[0.003371796765051936],\"xaxis\":\"x\",\"y\":[\"Input 12\"],\"yaxis\":\"y\"},{\"alignmentgroup\":\"True\",\"hovertemplate\":\"Feature Name=%{y}<br>Iteration=8<br>Importance=%{x}<extra></extra>\",\"ids\":[\"Input 09\"],\"legendgroup\":\"Input 09\",\"marker\":{\"color\":\"#4C78A8\",\"pattern\":{\"shape\":\"\"}},\"name\":\"Input 09\",\"offsetgroup\":\"Input 09\",\"orientation\":\"h\",\"showlegend\":true,\"textposition\":\"auto\",\"type\":\"bar\",\"x\":[0.002516442068493644],\"xaxis\":\"x\",\"y\":[\"Input 09\"],\"yaxis\":\"y\"},{\"alignmentgroup\":\"True\",\"hovertemplate\":\"Feature Name=%{y}<br>Iteration=8<br>Importance=%{x}<extra></extra>\",\"ids\":[\"Input 07\"],\"legendgroup\":\"Input 07\",\"marker\":{\"color\":\"#F58518\",\"pattern\":{\"shape\":\"\"}},\"name\":\"Input 07\",\"offsetgroup\":\"Input 07\",\"orientation\":\"h\",\"showlegend\":true,\"textposition\":\"auto\",\"type\":\"bar\",\"x\":[0.008588244083745722],\"xaxis\":\"x\",\"y\":[\"Input 07\"],\"yaxis\":\"y\"},{\"alignmentgroup\":\"True\",\"hovertemplate\":\"Feature Name=%{y}<br>Iteration=8<br>Importance=%{x}<extra></extra>\",\"ids\":[\"Input 10\"],\"legendgroup\":\"Input 10\",\"marker\":{\"color\":\"#E45756\",\"pattern\":{\"shape\":\"\"}},\"name\":\"Input 10\",\"offsetgroup\":\"Input 10\",\"orientation\":\"h\",\"showlegend\":true,\"textposition\":\"auto\",\"type\":\"bar\",\"x\":[0.00919729981724901],\"xaxis\":\"x\",\"y\":[\"Input 10\"],\"yaxis\":\"y\"}],\"name\":\"8\"},{\"data\":[{\"alignmentgroup\":\"True\",\"hovertemplate\":\"Feature Name=%{y}<br>Iteration=9<br>Importance=%{x}<extra></extra>\",\"ids\":[\"Output 01\"],\"legendgroup\":\"Output 01\",\"marker\":{\"color\":\"#4C78A8\",\"pattern\":{\"shape\":\"\"}},\"name\":\"Output 01\",\"offsetgroup\":\"Output 01\",\"orientation\":\"h\",\"showlegend\":true,\"textposition\":\"auto\",\"type\":\"bar\",\"x\":[0.7161410224725174],\"xaxis\":\"x\",\"y\":[\"Output 01\"],\"yaxis\":\"y\"},{\"alignmentgroup\":\"True\",\"hovertemplate\":\"Feature Name=%{y}<br>Iteration=9<br>Importance=%{x}<extra></extra>\",\"ids\":[\"Input 03\"],\"legendgroup\":\"Input 03\",\"marker\":{\"color\":\"#F58518\",\"pattern\":{\"shape\":\"\"}},\"name\":\"Input 03\",\"offsetgroup\":\"Input 03\",\"orientation\":\"h\",\"showlegend\":true,\"textposition\":\"auto\",\"type\":\"bar\",\"x\":[0.11314786761851021],\"xaxis\":\"x\",\"y\":[\"Input 03\"],\"yaxis\":\"y\"},{\"alignmentgroup\":\"True\",\"hovertemplate\":\"Feature Name=%{y}<br>Iteration=9<br>Importance=%{x}<extra></extra>\",\"ids\":[\"Input 02\"],\"legendgroup\":\"Input 02\",\"marker\":{\"color\":\"#E45756\",\"pattern\":{\"shape\":\"\"}},\"name\":\"Input 02\",\"offsetgroup\":\"Input 02\",\"orientation\":\"h\",\"showlegend\":true,\"textposition\":\"auto\",\"type\":\"bar\",\"x\":[0.05186910067947614],\"xaxis\":\"x\",\"y\":[\"Input 02\"],\"yaxis\":\"y\"},{\"alignmentgroup\":\"True\",\"hovertemplate\":\"Feature Name=%{y}<br>Iteration=9<br>Importance=%{x}<extra></extra>\",\"ids\":[\"Input 11\"],\"legendgroup\":\"Input 11\",\"marker\":{\"color\":\"#72B7B2\",\"pattern\":{\"shape\":\"\"}},\"name\":\"Input 11\",\"offsetgroup\":\"Input 11\",\"orientation\":\"h\",\"showlegend\":true,\"textposition\":\"auto\",\"type\":\"bar\",\"x\":[0.012099172275508404],\"xaxis\":\"x\",\"y\":[\"Input 11\"],\"yaxis\":\"y\"},{\"alignmentgroup\":\"True\",\"hovertemplate\":\"Feature Name=%{y}<br>Iteration=9<br>Importance=%{x}<extra></extra>\",\"ids\":[\"Input 06\"],\"legendgroup\":\"Input 06\",\"marker\":{\"color\":\"#54A24B\",\"pattern\":{\"shape\":\"\"}},\"name\":\"Input 06\",\"offsetgroup\":\"Input 06\",\"orientation\":\"h\",\"showlegend\":true,\"textposition\":\"auto\",\"type\":\"bar\",\"x\":[0.019340622845962156],\"xaxis\":\"x\",\"y\":[\"Input 06\"],\"yaxis\":\"y\"},{\"alignmentgroup\":\"True\",\"hovertemplate\":\"Feature Name=%{y}<br>Iteration=9<br>Importance=%{x}<extra></extra>\",\"ids\":[\"Input 08\"],\"legendgroup\":\"Input 08\",\"marker\":{\"color\":\"#EECA3B\",\"pattern\":{\"shape\":\"\"}},\"name\":\"Input 08\",\"offsetgroup\":\"Input 08\",\"orientation\":\"h\",\"showlegend\":true,\"textposition\":\"auto\",\"type\":\"bar\",\"x\":[0.03497132804503161],\"xaxis\":\"x\",\"y\":[\"Input 08\"],\"yaxis\":\"y\"},{\"alignmentgroup\":\"True\",\"hovertemplate\":\"Feature Name=%{y}<br>Iteration=9<br>Importance=%{x}<extra></extra>\",\"ids\":[\"Input 01\"],\"legendgroup\":\"Input 01\",\"marker\":{\"color\":\"#B279A2\",\"pattern\":{\"shape\":\"\"}},\"name\":\"Input 01\",\"offsetgroup\":\"Input 01\",\"orientation\":\"h\",\"showlegend\":true,\"textposition\":\"auto\",\"type\":\"bar\",\"x\":[0.004526515892360297],\"xaxis\":\"x\",\"y\":[\"Input 01\"],\"yaxis\":\"y\"},{\"alignmentgroup\":\"True\",\"hovertemplate\":\"Feature Name=%{y}<br>Iteration=9<br>Importance=%{x}<extra></extra>\",\"ids\":[\"Input 04\"],\"legendgroup\":\"Input 04\",\"marker\":{\"color\":\"#FF9DA6\",\"pattern\":{\"shape\":\"\"}},\"name\":\"Input 04\",\"offsetgroup\":\"Input 04\",\"orientation\":\"h\",\"showlegend\":true,\"textposition\":\"auto\",\"type\":\"bar\",\"x\":[0.01766323132703818],\"xaxis\":\"x\",\"y\":[\"Input 04\"],\"yaxis\":\"y\"},{\"alignmentgroup\":\"True\",\"hovertemplate\":\"Feature Name=%{y}<br>Iteration=9<br>Importance=%{x}<extra></extra>\",\"ids\":[\"Input 05\"],\"legendgroup\":\"Input 05\",\"marker\":{\"color\":\"#9D755D\",\"pattern\":{\"shape\":\"\"}},\"name\":\"Input 05\",\"offsetgroup\":\"Input 05\",\"orientation\":\"h\",\"showlegend\":true,\"textposition\":\"auto\",\"type\":\"bar\",\"x\":[0.006567356109055192],\"xaxis\":\"x\",\"y\":[\"Input 05\"],\"yaxis\":\"y\"},{\"alignmentgroup\":\"True\",\"hovertemplate\":\"Feature Name=%{y}<br>Iteration=9<br>Importance=%{x}<extra></extra>\",\"ids\":[\"Input 12\"],\"legendgroup\":\"Input 12\",\"marker\":{\"color\":\"#BAB0AC\",\"pattern\":{\"shape\":\"\"}},\"name\":\"Input 12\",\"offsetgroup\":\"Input 12\",\"orientation\":\"h\",\"showlegend\":true,\"textposition\":\"auto\",\"type\":\"bar\",\"x\":[0.003371796765051936],\"xaxis\":\"x\",\"y\":[\"Input 12\"],\"yaxis\":\"y\"},{\"alignmentgroup\":\"True\",\"hovertemplate\":\"Feature Name=%{y}<br>Iteration=9<br>Importance=%{x}<extra></extra>\",\"ids\":[\"Input 09\"],\"legendgroup\":\"Input 09\",\"marker\":{\"color\":\"#4C78A8\",\"pattern\":{\"shape\":\"\"}},\"name\":\"Input 09\",\"offsetgroup\":\"Input 09\",\"orientation\":\"h\",\"showlegend\":true,\"textposition\":\"auto\",\"type\":\"bar\",\"x\":[0.002516442068493644],\"xaxis\":\"x\",\"y\":[\"Input 09\"],\"yaxis\":\"y\"},{\"alignmentgroup\":\"True\",\"hovertemplate\":\"Feature Name=%{y}<br>Iteration=9<br>Importance=%{x}<extra></extra>\",\"ids\":[\"Input 07\"],\"legendgroup\":\"Input 07\",\"marker\":{\"color\":\"#F58518\",\"pattern\":{\"shape\":\"\"}},\"name\":\"Input 07\",\"offsetgroup\":\"Input 07\",\"orientation\":\"h\",\"showlegend\":true,\"textposition\":\"auto\",\"type\":\"bar\",\"x\":[0.008588244083745722],\"xaxis\":\"x\",\"y\":[\"Input 07\"],\"yaxis\":\"y\"},{\"alignmentgroup\":\"True\",\"hovertemplate\":\"Feature Name=%{y}<br>Iteration=9<br>Importance=%{x}<extra></extra>\",\"ids\":[\"Input 10\"],\"legendgroup\":\"Input 10\",\"marker\":{\"color\":\"#E45756\",\"pattern\":{\"shape\":\"\"}},\"name\":\"Input 10\",\"offsetgroup\":\"Input 10\",\"orientation\":\"h\",\"showlegend\":true,\"textposition\":\"auto\",\"type\":\"bar\",\"x\":[0.00919729981724901],\"xaxis\":\"x\",\"y\":[\"Input 10\"],\"yaxis\":\"y\"}],\"name\":\"9\"},{\"data\":[{\"alignmentgroup\":\"True\",\"hovertemplate\":\"Feature Name=%{y}<br>Iteration=10<br>Importance=%{x}<extra></extra>\",\"ids\":[\"Output 01\"],\"legendgroup\":\"Output 01\",\"marker\":{\"color\":\"#4C78A8\",\"pattern\":{\"shape\":\"\"}},\"name\":\"Output 01\",\"offsetgroup\":\"Output 01\",\"orientation\":\"h\",\"showlegend\":true,\"textposition\":\"auto\",\"type\":\"bar\",\"x\":[0.7161410224725174],\"xaxis\":\"x\",\"y\":[\"Output 01\"],\"yaxis\":\"y\"},{\"alignmentgroup\":\"True\",\"hovertemplate\":\"Feature Name=%{y}<br>Iteration=10<br>Importance=%{x}<extra></extra>\",\"ids\":[\"Input 03\"],\"legendgroup\":\"Input 03\",\"marker\":{\"color\":\"#F58518\",\"pattern\":{\"shape\":\"\"}},\"name\":\"Input 03\",\"offsetgroup\":\"Input 03\",\"orientation\":\"h\",\"showlegend\":true,\"textposition\":\"auto\",\"type\":\"bar\",\"x\":[0.11314786761851021],\"xaxis\":\"x\",\"y\":[\"Input 03\"],\"yaxis\":\"y\"},{\"alignmentgroup\":\"True\",\"hovertemplate\":\"Feature Name=%{y}<br>Iteration=10<br>Importance=%{x}<extra></extra>\",\"ids\":[\"Input 02\"],\"legendgroup\":\"Input 02\",\"marker\":{\"color\":\"#E45756\",\"pattern\":{\"shape\":\"\"}},\"name\":\"Input 02\",\"offsetgroup\":\"Input 02\",\"orientation\":\"h\",\"showlegend\":true,\"textposition\":\"auto\",\"type\":\"bar\",\"x\":[0.05186910067947614],\"xaxis\":\"x\",\"y\":[\"Input 02\"],\"yaxis\":\"y\"},{\"alignmentgroup\":\"True\",\"hovertemplate\":\"Feature Name=%{y}<br>Iteration=10<br>Importance=%{x}<extra></extra>\",\"ids\":[\"Input 11\"],\"legendgroup\":\"Input 11\",\"marker\":{\"color\":\"#72B7B2\",\"pattern\":{\"shape\":\"\"}},\"name\":\"Input 11\",\"offsetgroup\":\"Input 11\",\"orientation\":\"h\",\"showlegend\":true,\"textposition\":\"auto\",\"type\":\"bar\",\"x\":[0.012099172275508404],\"xaxis\":\"x\",\"y\":[\"Input 11\"],\"yaxis\":\"y\"},{\"alignmentgroup\":\"True\",\"hovertemplate\":\"Feature Name=%{y}<br>Iteration=10<br>Importance=%{x}<extra></extra>\",\"ids\":[\"Input 06\"],\"legendgroup\":\"Input 06\",\"marker\":{\"color\":\"#54A24B\",\"pattern\":{\"shape\":\"\"}},\"name\":\"Input 06\",\"offsetgroup\":\"Input 06\",\"orientation\":\"h\",\"showlegend\":true,\"textposition\":\"auto\",\"type\":\"bar\",\"x\":[0.019340622845962156],\"xaxis\":\"x\",\"y\":[\"Input 06\"],\"yaxis\":\"y\"},{\"alignmentgroup\":\"True\",\"hovertemplate\":\"Feature Name=%{y}<br>Iteration=10<br>Importance=%{x}<extra></extra>\",\"ids\":[\"Input 08\"],\"legendgroup\":\"Input 08\",\"marker\":{\"color\":\"#EECA3B\",\"pattern\":{\"shape\":\"\"}},\"name\":\"Input 08\",\"offsetgroup\":\"Input 08\",\"orientation\":\"h\",\"showlegend\":true,\"textposition\":\"auto\",\"type\":\"bar\",\"x\":[0.03497132804503161],\"xaxis\":\"x\",\"y\":[\"Input 08\"],\"yaxis\":\"y\"},{\"alignmentgroup\":\"True\",\"hovertemplate\":\"Feature Name=%{y}<br>Iteration=10<br>Importance=%{x}<extra></extra>\",\"ids\":[\"Input 01\"],\"legendgroup\":\"Input 01\",\"marker\":{\"color\":\"#B279A2\",\"pattern\":{\"shape\":\"\"}},\"name\":\"Input 01\",\"offsetgroup\":\"Input 01\",\"orientation\":\"h\",\"showlegend\":true,\"textposition\":\"auto\",\"type\":\"bar\",\"x\":[0.004526515892360297],\"xaxis\":\"x\",\"y\":[\"Input 01\"],\"yaxis\":\"y\"},{\"alignmentgroup\":\"True\",\"hovertemplate\":\"Feature Name=%{y}<br>Iteration=10<br>Importance=%{x}<extra></extra>\",\"ids\":[\"Input 04\"],\"legendgroup\":\"Input 04\",\"marker\":{\"color\":\"#FF9DA6\",\"pattern\":{\"shape\":\"\"}},\"name\":\"Input 04\",\"offsetgroup\":\"Input 04\",\"orientation\":\"h\",\"showlegend\":true,\"textposition\":\"auto\",\"type\":\"bar\",\"x\":[0.01766323132703818],\"xaxis\":\"x\",\"y\":[\"Input 04\"],\"yaxis\":\"y\"},{\"alignmentgroup\":\"True\",\"hovertemplate\":\"Feature Name=%{y}<br>Iteration=10<br>Importance=%{x}<extra></extra>\",\"ids\":[\"Input 05\"],\"legendgroup\":\"Input 05\",\"marker\":{\"color\":\"#9D755D\",\"pattern\":{\"shape\":\"\"}},\"name\":\"Input 05\",\"offsetgroup\":\"Input 05\",\"orientation\":\"h\",\"showlegend\":true,\"textposition\":\"auto\",\"type\":\"bar\",\"x\":[0.006567356109055192],\"xaxis\":\"x\",\"y\":[\"Input 05\"],\"yaxis\":\"y\"},{\"alignmentgroup\":\"True\",\"hovertemplate\":\"Feature Name=%{y}<br>Iteration=10<br>Importance=%{x}<extra></extra>\",\"ids\":[\"Input 12\"],\"legendgroup\":\"Input 12\",\"marker\":{\"color\":\"#BAB0AC\",\"pattern\":{\"shape\":\"\"}},\"name\":\"Input 12\",\"offsetgroup\":\"Input 12\",\"orientation\":\"h\",\"showlegend\":true,\"textposition\":\"auto\",\"type\":\"bar\",\"x\":[0.003371796765051936],\"xaxis\":\"x\",\"y\":[\"Input 12\"],\"yaxis\":\"y\"},{\"alignmentgroup\":\"True\",\"hovertemplate\":\"Feature Name=%{y}<br>Iteration=10<br>Importance=%{x}<extra></extra>\",\"ids\":[\"Input 09\"],\"legendgroup\":\"Input 09\",\"marker\":{\"color\":\"#4C78A8\",\"pattern\":{\"shape\":\"\"}},\"name\":\"Input 09\",\"offsetgroup\":\"Input 09\",\"orientation\":\"h\",\"showlegend\":true,\"textposition\":\"auto\",\"type\":\"bar\",\"x\":[0.002516442068493644],\"xaxis\":\"x\",\"y\":[\"Input 09\"],\"yaxis\":\"y\"},{\"alignmentgroup\":\"True\",\"hovertemplate\":\"Feature Name=%{y}<br>Iteration=10<br>Importance=%{x}<extra></extra>\",\"ids\":[\"Input 07\"],\"legendgroup\":\"Input 07\",\"marker\":{\"color\":\"#F58518\",\"pattern\":{\"shape\":\"\"}},\"name\":\"Input 07\",\"offsetgroup\":\"Input 07\",\"orientation\":\"h\",\"showlegend\":true,\"textposition\":\"auto\",\"type\":\"bar\",\"x\":[0.008588244083745722],\"xaxis\":\"x\",\"y\":[\"Input 07\"],\"yaxis\":\"y\"},{\"alignmentgroup\":\"True\",\"hovertemplate\":\"Feature Name=%{y}<br>Iteration=10<br>Importance=%{x}<extra></extra>\",\"ids\":[\"Input 10\"],\"legendgroup\":\"Input 10\",\"marker\":{\"color\":\"#E45756\",\"pattern\":{\"shape\":\"\"}},\"name\":\"Input 10\",\"offsetgroup\":\"Input 10\",\"orientation\":\"h\",\"showlegend\":true,\"textposition\":\"auto\",\"type\":\"bar\",\"x\":[0.00919729981724901],\"xaxis\":\"x\",\"y\":[\"Input 10\"],\"yaxis\":\"y\"}],\"name\":\"10\"}]);\n",
       "                        }).then(function(){\n",
       "                            \n",
       "var gd = document.getElementById('7b1205a0-9293-42f5-9334-de9687332ece');\n",
       "var x = new MutationObserver(function (mutations, observer) {{\n",
       "        var display = window.getComputedStyle(gd).display;\n",
       "        if (!display || display === 'none') {{\n",
       "            console.log([gd, 'removed!']);\n",
       "            Plotly.purge(gd);\n",
       "            observer.disconnect();\n",
       "        }}\n",
       "}});\n",
       "\n",
       "// Listen for the removal of the full notebook cells\n",
       "var notebookContainer = gd.closest('#notebook-container');\n",
       "if (notebookContainer) {{\n",
       "    x.observe(notebookContainer, {childList: true});\n",
       "}}\n",
       "\n",
       "// Listen for the clearing of the current output cell\n",
       "var outputEl = gd.closest('.output');\n",
       "if (outputEl) {{\n",
       "    x.observe(outputEl, {childList: true});\n",
       "}}\n",
       "\n",
       "                        })                };                });            </script>        </div>"
      ]
     },
     "metadata": {},
     "output_type": "display_data"
    }
   ],
   "source": [
    "fig = px.bar(\n",
    "    df_imp,\n",
    "    y=\"Feature Name\",\n",
    "    x=\"Importance\",\n",
    "    color=\"Feature Name\",\n",
    "    color_discrete_sequence=px.colors.qualitative.T10,\n",
    "    animation_frame=\"Iteration\",\n",
    "    animation_group=\"Feature Name\",\n",
    "    orientation=\"h\",\n",
    "    range_x=[0,0.3]\n",
    ")\n",
    "\n",
    "fig.update_yaxes(categoryorder='total ascending')\n",
    "\n",
    "fig.update_layout(\n",
    "    autosize=False,\n",
    "    width=800,\n",
    "    height=500,\n",
    "    title_text=f\"Feature Importance Per Iteration\",\n",
    "    #paper_bgcolor='#2d3035',\n",
    "    #plot_bgcolor='#2d3035', \n",
    ")\n",
    "\n",
    "\n",
    "fig.show()"
   ]
  },
  {
   "cell_type": "code",
   "execution_count": 26,
   "id": "1e87ec97-21e9-47fc-be6b-33132f83a072",
   "metadata": {},
   "outputs": [
    {
     "data": {
      "application/vnd.plotly.v1+json": {
       "config": {
        "plotlyServerURL": "https://plot.ly"
       },
       "data": [
        {
         "hovertemplate": "Feature Name=Output 01<br>Iteration=%{x}<br>Importance=%{y}<extra></extra>",
         "legendgroup": "Output 01",
         "line": {
          "color": "#636efa",
          "dash": "solid"
         },
         "marker": {
          "symbol": "circle"
         },
         "mode": "lines",
         "name": "Output 01",
         "orientation": "v",
         "showlegend": true,
         "type": "scatter",
         "x": [
          0,
          1,
          1,
          2,
          3,
          4,
          5,
          6,
          7,
          8,
          9,
          10
         ],
         "xaxis": "x",
         "y": [
          0.5911680942007734,
          0.6981786594509669,
          0.6981786594509669,
          0.7184040756083833,
          0.71127195248154,
          0.7180051133965254,
          0.7161410224725174,
          0.7161410224725174,
          0.7161410224725174,
          0.7161410224725174,
          0.7161410224725174,
          0.7161410224725174
         ],
         "yaxis": "y"
        },
        {
         "hovertemplate": "Feature Name=Input 03<br>Iteration=%{x}<br>Importance=%{y}<extra></extra>",
         "legendgroup": "Input 03",
         "line": {
          "color": "#EF553B",
          "dash": "solid"
         },
         "marker": {
          "symbol": "circle"
         },
         "mode": "lines",
         "name": "Input 03",
         "orientation": "v",
         "showlegend": true,
         "type": "scatter",
         "x": [
          0,
          1,
          1,
          2,
          3,
          4,
          5,
          6,
          7,
          8,
          9,
          10
         ],
         "xaxis": "x",
         "y": [
          0.06663778533815794,
          0.1108232741662147,
          0.1108232741662147,
          0.110086440364584,
          0.11017853003684933,
          0.11076485906882257,
          0.11314786761851021,
          0.11314786761851021,
          0.11314786761851021,
          0.11314786761851021,
          0.11314786761851021,
          0.11314786761851021
         ],
         "yaxis": "y"
        },
        {
         "hovertemplate": "Feature Name=Input 02<br>Iteration=%{x}<br>Importance=%{y}<extra></extra>",
         "legendgroup": "Input 02",
         "line": {
          "color": "#00cc96",
          "dash": "solid"
         },
         "marker": {
          "symbol": "circle"
         },
         "mode": "lines",
         "name": "Input 02",
         "orientation": "v",
         "showlegend": true,
         "type": "scatter",
         "x": [
          0,
          1,
          1,
          2,
          3,
          4,
          5,
          6,
          7,
          8,
          9,
          10
         ],
         "xaxis": "x",
         "y": [
          0.06652745633490179,
          0.0610151823169409,
          0.0610151823169409,
          0.05181716977069543,
          0.05335160816633193,
          0.05212330699726891,
          0.05186910067947614,
          0.05186910067947614,
          0.05186910067947614,
          0.05186910067947614,
          0.05186910067947614,
          0.05186910067947614
         ],
         "yaxis": "y"
        },
        {
         "hovertemplate": "Feature Name=Input 11<br>Iteration=%{x}<br>Importance=%{y}<extra></extra>",
         "legendgroup": "Input 11",
         "line": {
          "color": "#ab63fa",
          "dash": "solid"
         },
         "marker": {
          "symbol": "circle"
         },
         "mode": "lines",
         "name": "Input 11",
         "orientation": "v",
         "showlegend": true,
         "type": "scatter",
         "x": [
          0,
          1,
          1,
          2,
          3,
          4,
          5,
          6,
          7,
          8,
          9,
          10
         ],
         "xaxis": "x",
         "y": [
          0.04786982986753729,
          0.027515744439840197,
          0.027515744439840197,
          0.017464950607403613,
          0.013225876483166057,
          0.01335385228235822,
          0.012099172275508404,
          0.012099172275508404,
          0.012099172275508404,
          0.012099172275508404,
          0.012099172275508404,
          0.012099172275508404
         ],
         "yaxis": "y"
        },
        {
         "hovertemplate": "Feature Name=Input 06<br>Iteration=%{x}<br>Importance=%{y}<extra></extra>",
         "legendgroup": "Input 06",
         "line": {
          "color": "#FFA15A",
          "dash": "solid"
         },
         "marker": {
          "symbol": "circle"
         },
         "mode": "lines",
         "name": "Input 06",
         "orientation": "v",
         "showlegend": true,
         "type": "scatter",
         "x": [
          0,
          1,
          1,
          2,
          3,
          4,
          5,
          6,
          7,
          8,
          9,
          10
         ],
         "xaxis": "x",
         "y": [
          0.04403996978590047,
          0.021649196328514426,
          0.021649196328514426,
          0.018218317202520578,
          0.023390791907568265,
          0.019754722867253258,
          0.019340622845962156,
          0.019340622845962156,
          0.019340622845962156,
          0.019340622845962156,
          0.019340622845962156,
          0.019340622845962156
         ],
         "yaxis": "y"
        },
        {
         "hovertemplate": "Feature Name=Input 08<br>Iteration=%{x}<br>Importance=%{y}<extra></extra>",
         "legendgroup": "Input 08",
         "line": {
          "color": "#19d3f3",
          "dash": "solid"
         },
         "marker": {
          "symbol": "circle"
         },
         "mode": "lines",
         "name": "Input 08",
         "orientation": "v",
         "showlegend": true,
         "type": "scatter",
         "x": [
          0,
          1,
          1,
          2,
          3,
          4,
          5,
          6,
          7,
          8,
          9,
          10
         ],
         "xaxis": "x",
         "y": [
          0.03574606919275113,
          0.02979903461545224,
          0.02979903461545224,
          0.037846637955608574,
          0.037668727472004886,
          0.03431357645435059,
          0.03497132804503161,
          0.03497132804503161,
          0.03497132804503161,
          0.03497132804503161,
          0.03497132804503161,
          0.03497132804503161
         ],
         "yaxis": "y"
        },
        {
         "hovertemplate": "Feature Name=Input 01<br>Iteration=%{x}<br>Importance=%{y}<extra></extra>",
         "legendgroup": "Input 01",
         "line": {
          "color": "#FF6692",
          "dash": "solid"
         },
         "marker": {
          "symbol": "circle"
         },
         "mode": "lines",
         "name": "Input 01",
         "orientation": "v",
         "showlegend": true,
         "type": "scatter",
         "x": [
          0,
          1,
          1,
          2,
          3,
          4,
          5,
          6,
          7,
          8,
          9,
          10
         ],
         "xaxis": "x",
         "y": [
          0.034079895828834375,
          0.007187717595404491,
          0.007187717595404491,
          0.0051974641863608605,
          0.006019212010308387,
          0.006015616558621069,
          0.004526515892360297,
          0.004526515892360297,
          0.004526515892360297,
          0.004526515892360297,
          0.004526515892360297,
          0.004526515892360297
         ],
         "yaxis": "y"
        },
        {
         "hovertemplate": "Feature Name=Input 04<br>Iteration=%{x}<br>Importance=%{y}<extra></extra>",
         "legendgroup": "Input 04",
         "line": {
          "color": "#B6E880",
          "dash": "solid"
         },
         "marker": {
          "symbol": "circle"
         },
         "mode": "lines",
         "name": "Input 04",
         "orientation": "v",
         "showlegend": true,
         "type": "scatter",
         "x": [
          0,
          1,
          1,
          2,
          3,
          4,
          5,
          6,
          7,
          8,
          9,
          10
         ],
         "xaxis": "x",
         "y": [
          0.028897732228259247,
          0.01151934422725318,
          0.01151934422725318,
          0.014050238809194617,
          0.014576670564463339,
          0.0176247546992435,
          0.01766323132703818,
          0.01766323132703818,
          0.01766323132703818,
          0.01766323132703818,
          0.01766323132703818,
          0.01766323132703818
         ],
         "yaxis": "y"
        },
        {
         "hovertemplate": "Feature Name=Input 05<br>Iteration=%{x}<br>Importance=%{y}<extra></extra>",
         "legendgroup": "Input 05",
         "line": {
          "color": "#FF97FF",
          "dash": "solid"
         },
         "marker": {
          "symbol": "circle"
         },
         "mode": "lines",
         "name": "Input 05",
         "orientation": "v",
         "showlegend": true,
         "type": "scatter",
         "x": [
          0,
          1,
          1,
          2,
          3,
          4,
          5,
          6,
          7,
          8,
          9,
          10
         ],
         "xaxis": "x",
         "y": [
          0.02474110993160405,
          0.008718142864282715,
          0.008718142864282715,
          0.006411393128094084,
          0.005784637513111964,
          0.006792533179266497,
          0.006567356109055192,
          0.006567356109055192,
          0.006567356109055192,
          0.006567356109055192,
          0.006567356109055192,
          0.006567356109055192
         ],
         "yaxis": "y"
        },
        {
         "hovertemplate": "Feature Name=Input 12<br>Iteration=%{x}<br>Importance=%{y}<extra></extra>",
         "legendgroup": "Input 12",
         "line": {
          "color": "#FECB52",
          "dash": "solid"
         },
         "marker": {
          "symbol": "circle"
         },
         "mode": "lines",
         "name": "Input 12",
         "orientation": "v",
         "showlegend": true,
         "type": "scatter",
         "x": [
          0,
          1,
          1,
          2,
          3,
          4,
          5,
          6,
          7,
          8,
          9,
          10
         ],
         "xaxis": "x",
         "y": [
          0.0168311414901731,
          0.004368872950069559,
          0.004368872950069559,
          0.00374137286782902,
          0.0039480247054417645,
          0.0031504713183010766,
          0.003371796765051936,
          0.003371796765051936,
          0.003371796765051936,
          0.003371796765051936,
          0.003371796765051936,
          0.003371796765051936
         ],
         "yaxis": "y"
        },
        {
         "hovertemplate": "Feature Name=Input 09<br>Iteration=%{x}<br>Importance=%{y}<extra></extra>",
         "legendgroup": "Input 09",
         "line": {
          "color": "#636efa",
          "dash": "solid"
         },
         "marker": {
          "symbol": "circle"
         },
         "mode": "lines",
         "name": "Input 09",
         "orientation": "v",
         "showlegend": true,
         "type": "scatter",
         "x": [
          0,
          1,
          1,
          2,
          3,
          4,
          5,
          6,
          7,
          8,
          9,
          10
         ],
         "xaxis": "x",
         "y": [
          0.016788478894956264,
          0.003692304720474458,
          0.003692304720474458,
          0.002927969028637387,
          0.002798286637652871,
          0.002329470408843867,
          0.002516442068493644,
          0.002516442068493644,
          0.002516442068493644,
          0.002516442068493644,
          0.002516442068493644,
          0.002516442068493644
         ],
         "yaxis": "y"
        },
        {
         "hovertemplate": "Feature Name=Input 07<br>Iteration=%{x}<br>Importance=%{y}<extra></extra>",
         "legendgroup": "Input 07",
         "line": {
          "color": "#EF553B",
          "dash": "solid"
         },
         "marker": {
          "symbol": "circle"
         },
         "mode": "lines",
         "name": "Input 07",
         "orientation": "v",
         "showlegend": true,
         "type": "scatter",
         "x": [
          0,
          1,
          1,
          2,
          3,
          4,
          5,
          6,
          7,
          8,
          9,
          10
         ],
         "xaxis": "x",
         "y": [
          0.015216661747117154,
          0.006437003040717942,
          0.006437003040717942,
          0.0068327718907861155,
          0.008426613350138591,
          0.007663169669705562,
          0.008588244083745722,
          0.008588244083745722,
          0.008588244083745722,
          0.008588244083745722,
          0.008588244083745722,
          0.008588244083745722
         ],
         "yaxis": "y"
        },
        {
         "hovertemplate": "Feature Name=Input 10<br>Iteration=%{x}<br>Importance=%{y}<extra></extra>",
         "legendgroup": "Input 10",
         "line": {
          "color": "#00cc96",
          "dash": "solid"
         },
         "marker": {
          "symbol": "circle"
         },
         "mode": "lines",
         "name": "Input 10",
         "orientation": "v",
         "showlegend": true,
         "type": "scatter",
         "x": [
          0,
          1,
          1,
          2,
          3,
          4,
          5,
          6,
          7,
          8,
          9,
          10
         ],
         "xaxis": "x",
         "y": [
          0.011455775159033777,
          0.009095523283868315,
          0.009095523283868315,
          0.007001198579902545,
          0.009359068671422647,
          0.008108553099439383,
          0.00919729981724901,
          0.00919729981724901,
          0.00919729981724901,
          0.00919729981724901,
          0.00919729981724901,
          0.00919729981724901
         ],
         "yaxis": "y"
        }
       ],
       "layout": {
        "autosize": false,
        "height": 500,
        "legend": {
         "title": {
          "text": "Feature Name"
         },
         "tracegroupgap": 0
        },
        "margin": {
         "t": 60
        },
        "template": {
         "data": {
          "bar": [
           {
            "error_x": {
             "color": "#2a3f5f"
            },
            "error_y": {
             "color": "#2a3f5f"
            },
            "marker": {
             "line": {
              "color": "#E5ECF6",
              "width": 0.5
             },
             "pattern": {
              "fillmode": "overlay",
              "size": 10,
              "solidity": 0.2
             }
            },
            "type": "bar"
           }
          ],
          "barpolar": [
           {
            "marker": {
             "line": {
              "color": "#E5ECF6",
              "width": 0.5
             },
             "pattern": {
              "fillmode": "overlay",
              "size": 10,
              "solidity": 0.2
             }
            },
            "type": "barpolar"
           }
          ],
          "carpet": [
           {
            "aaxis": {
             "endlinecolor": "#2a3f5f",
             "gridcolor": "white",
             "linecolor": "white",
             "minorgridcolor": "white",
             "startlinecolor": "#2a3f5f"
            },
            "baxis": {
             "endlinecolor": "#2a3f5f",
             "gridcolor": "white",
             "linecolor": "white",
             "minorgridcolor": "white",
             "startlinecolor": "#2a3f5f"
            },
            "type": "carpet"
           }
          ],
          "choropleth": [
           {
            "colorbar": {
             "outlinewidth": 0,
             "ticks": ""
            },
            "type": "choropleth"
           }
          ],
          "contour": [
           {
            "colorbar": {
             "outlinewidth": 0,
             "ticks": ""
            },
            "colorscale": [
             [
              0,
              "#0d0887"
             ],
             [
              0.1111111111111111,
              "#46039f"
             ],
             [
              0.2222222222222222,
              "#7201a8"
             ],
             [
              0.3333333333333333,
              "#9c179e"
             ],
             [
              0.4444444444444444,
              "#bd3786"
             ],
             [
              0.5555555555555556,
              "#d8576b"
             ],
             [
              0.6666666666666666,
              "#ed7953"
             ],
             [
              0.7777777777777778,
              "#fb9f3a"
             ],
             [
              0.8888888888888888,
              "#fdca26"
             ],
             [
              1,
              "#f0f921"
             ]
            ],
            "type": "contour"
           }
          ],
          "contourcarpet": [
           {
            "colorbar": {
             "outlinewidth": 0,
             "ticks": ""
            },
            "type": "contourcarpet"
           }
          ],
          "heatmap": [
           {
            "colorbar": {
             "outlinewidth": 0,
             "ticks": ""
            },
            "colorscale": [
             [
              0,
              "#0d0887"
             ],
             [
              0.1111111111111111,
              "#46039f"
             ],
             [
              0.2222222222222222,
              "#7201a8"
             ],
             [
              0.3333333333333333,
              "#9c179e"
             ],
             [
              0.4444444444444444,
              "#bd3786"
             ],
             [
              0.5555555555555556,
              "#d8576b"
             ],
             [
              0.6666666666666666,
              "#ed7953"
             ],
             [
              0.7777777777777778,
              "#fb9f3a"
             ],
             [
              0.8888888888888888,
              "#fdca26"
             ],
             [
              1,
              "#f0f921"
             ]
            ],
            "type": "heatmap"
           }
          ],
          "heatmapgl": [
           {
            "colorbar": {
             "outlinewidth": 0,
             "ticks": ""
            },
            "colorscale": [
             [
              0,
              "#0d0887"
             ],
             [
              0.1111111111111111,
              "#46039f"
             ],
             [
              0.2222222222222222,
              "#7201a8"
             ],
             [
              0.3333333333333333,
              "#9c179e"
             ],
             [
              0.4444444444444444,
              "#bd3786"
             ],
             [
              0.5555555555555556,
              "#d8576b"
             ],
             [
              0.6666666666666666,
              "#ed7953"
             ],
             [
              0.7777777777777778,
              "#fb9f3a"
             ],
             [
              0.8888888888888888,
              "#fdca26"
             ],
             [
              1,
              "#f0f921"
             ]
            ],
            "type": "heatmapgl"
           }
          ],
          "histogram": [
           {
            "marker": {
             "pattern": {
              "fillmode": "overlay",
              "size": 10,
              "solidity": 0.2
             }
            },
            "type": "histogram"
           }
          ],
          "histogram2d": [
           {
            "colorbar": {
             "outlinewidth": 0,
             "ticks": ""
            },
            "colorscale": [
             [
              0,
              "#0d0887"
             ],
             [
              0.1111111111111111,
              "#46039f"
             ],
             [
              0.2222222222222222,
              "#7201a8"
             ],
             [
              0.3333333333333333,
              "#9c179e"
             ],
             [
              0.4444444444444444,
              "#bd3786"
             ],
             [
              0.5555555555555556,
              "#d8576b"
             ],
             [
              0.6666666666666666,
              "#ed7953"
             ],
             [
              0.7777777777777778,
              "#fb9f3a"
             ],
             [
              0.8888888888888888,
              "#fdca26"
             ],
             [
              1,
              "#f0f921"
             ]
            ],
            "type": "histogram2d"
           }
          ],
          "histogram2dcontour": [
           {
            "colorbar": {
             "outlinewidth": 0,
             "ticks": ""
            },
            "colorscale": [
             [
              0,
              "#0d0887"
             ],
             [
              0.1111111111111111,
              "#46039f"
             ],
             [
              0.2222222222222222,
              "#7201a8"
             ],
             [
              0.3333333333333333,
              "#9c179e"
             ],
             [
              0.4444444444444444,
              "#bd3786"
             ],
             [
              0.5555555555555556,
              "#d8576b"
             ],
             [
              0.6666666666666666,
              "#ed7953"
             ],
             [
              0.7777777777777778,
              "#fb9f3a"
             ],
             [
              0.8888888888888888,
              "#fdca26"
             ],
             [
              1,
              "#f0f921"
             ]
            ],
            "type": "histogram2dcontour"
           }
          ],
          "mesh3d": [
           {
            "colorbar": {
             "outlinewidth": 0,
             "ticks": ""
            },
            "type": "mesh3d"
           }
          ],
          "parcoords": [
           {
            "line": {
             "colorbar": {
              "outlinewidth": 0,
              "ticks": ""
             }
            },
            "type": "parcoords"
           }
          ],
          "pie": [
           {
            "automargin": true,
            "type": "pie"
           }
          ],
          "scatter": [
           {
            "marker": {
             "colorbar": {
              "outlinewidth": 0,
              "ticks": ""
             }
            },
            "type": "scatter"
           }
          ],
          "scatter3d": [
           {
            "line": {
             "colorbar": {
              "outlinewidth": 0,
              "ticks": ""
             }
            },
            "marker": {
             "colorbar": {
              "outlinewidth": 0,
              "ticks": ""
             }
            },
            "type": "scatter3d"
           }
          ],
          "scattercarpet": [
           {
            "marker": {
             "colorbar": {
              "outlinewidth": 0,
              "ticks": ""
             }
            },
            "type": "scattercarpet"
           }
          ],
          "scattergeo": [
           {
            "marker": {
             "colorbar": {
              "outlinewidth": 0,
              "ticks": ""
             }
            },
            "type": "scattergeo"
           }
          ],
          "scattergl": [
           {
            "marker": {
             "colorbar": {
              "outlinewidth": 0,
              "ticks": ""
             }
            },
            "type": "scattergl"
           }
          ],
          "scattermapbox": [
           {
            "marker": {
             "colorbar": {
              "outlinewidth": 0,
              "ticks": ""
             }
            },
            "type": "scattermapbox"
           }
          ],
          "scatterpolar": [
           {
            "marker": {
             "colorbar": {
              "outlinewidth": 0,
              "ticks": ""
             }
            },
            "type": "scatterpolar"
           }
          ],
          "scatterpolargl": [
           {
            "marker": {
             "colorbar": {
              "outlinewidth": 0,
              "ticks": ""
             }
            },
            "type": "scatterpolargl"
           }
          ],
          "scatterternary": [
           {
            "marker": {
             "colorbar": {
              "outlinewidth": 0,
              "ticks": ""
             }
            },
            "type": "scatterternary"
           }
          ],
          "surface": [
           {
            "colorbar": {
             "outlinewidth": 0,
             "ticks": ""
            },
            "colorscale": [
             [
              0,
              "#0d0887"
             ],
             [
              0.1111111111111111,
              "#46039f"
             ],
             [
              0.2222222222222222,
              "#7201a8"
             ],
             [
              0.3333333333333333,
              "#9c179e"
             ],
             [
              0.4444444444444444,
              "#bd3786"
             ],
             [
              0.5555555555555556,
              "#d8576b"
             ],
             [
              0.6666666666666666,
              "#ed7953"
             ],
             [
              0.7777777777777778,
              "#fb9f3a"
             ],
             [
              0.8888888888888888,
              "#fdca26"
             ],
             [
              1,
              "#f0f921"
             ]
            ],
            "type": "surface"
           }
          ],
          "table": [
           {
            "cells": {
             "fill": {
              "color": "#EBF0F8"
             },
             "line": {
              "color": "white"
             }
            },
            "header": {
             "fill": {
              "color": "#C8D4E3"
             },
             "line": {
              "color": "white"
             }
            },
            "type": "table"
           }
          ]
         },
         "layout": {
          "annotationdefaults": {
           "arrowcolor": "#2a3f5f",
           "arrowhead": 0,
           "arrowwidth": 1
          },
          "autotypenumbers": "strict",
          "coloraxis": {
           "colorbar": {
            "outlinewidth": 0,
            "ticks": ""
           }
          },
          "colorscale": {
           "diverging": [
            [
             0,
             "#8e0152"
            ],
            [
             0.1,
             "#c51b7d"
            ],
            [
             0.2,
             "#de77ae"
            ],
            [
             0.3,
             "#f1b6da"
            ],
            [
             0.4,
             "#fde0ef"
            ],
            [
             0.5,
             "#f7f7f7"
            ],
            [
             0.6,
             "#e6f5d0"
            ],
            [
             0.7,
             "#b8e186"
            ],
            [
             0.8,
             "#7fbc41"
            ],
            [
             0.9,
             "#4d9221"
            ],
            [
             1,
             "#276419"
            ]
           ],
           "sequential": [
            [
             0,
             "#0d0887"
            ],
            [
             0.1111111111111111,
             "#46039f"
            ],
            [
             0.2222222222222222,
             "#7201a8"
            ],
            [
             0.3333333333333333,
             "#9c179e"
            ],
            [
             0.4444444444444444,
             "#bd3786"
            ],
            [
             0.5555555555555556,
             "#d8576b"
            ],
            [
             0.6666666666666666,
             "#ed7953"
            ],
            [
             0.7777777777777778,
             "#fb9f3a"
            ],
            [
             0.8888888888888888,
             "#fdca26"
            ],
            [
             1,
             "#f0f921"
            ]
           ],
           "sequentialminus": [
            [
             0,
             "#0d0887"
            ],
            [
             0.1111111111111111,
             "#46039f"
            ],
            [
             0.2222222222222222,
             "#7201a8"
            ],
            [
             0.3333333333333333,
             "#9c179e"
            ],
            [
             0.4444444444444444,
             "#bd3786"
            ],
            [
             0.5555555555555556,
             "#d8576b"
            ],
            [
             0.6666666666666666,
             "#ed7953"
            ],
            [
             0.7777777777777778,
             "#fb9f3a"
            ],
            [
             0.8888888888888888,
             "#fdca26"
            ],
            [
             1,
             "#f0f921"
            ]
           ]
          },
          "colorway": [
           "#636efa",
           "#EF553B",
           "#00cc96",
           "#ab63fa",
           "#FFA15A",
           "#19d3f3",
           "#FF6692",
           "#B6E880",
           "#FF97FF",
           "#FECB52"
          ],
          "font": {
           "color": "#2a3f5f"
          },
          "geo": {
           "bgcolor": "white",
           "lakecolor": "white",
           "landcolor": "#E5ECF6",
           "showlakes": true,
           "showland": true,
           "subunitcolor": "white"
          },
          "hoverlabel": {
           "align": "left"
          },
          "hovermode": "closest",
          "mapbox": {
           "style": "light"
          },
          "paper_bgcolor": "white",
          "plot_bgcolor": "#E5ECF6",
          "polar": {
           "angularaxis": {
            "gridcolor": "white",
            "linecolor": "white",
            "ticks": ""
           },
           "bgcolor": "#E5ECF6",
           "radialaxis": {
            "gridcolor": "white",
            "linecolor": "white",
            "ticks": ""
           }
          },
          "scene": {
           "xaxis": {
            "backgroundcolor": "#E5ECF6",
            "gridcolor": "white",
            "gridwidth": 2,
            "linecolor": "white",
            "showbackground": true,
            "ticks": "",
            "zerolinecolor": "white"
           },
           "yaxis": {
            "backgroundcolor": "#E5ECF6",
            "gridcolor": "white",
            "gridwidth": 2,
            "linecolor": "white",
            "showbackground": true,
            "ticks": "",
            "zerolinecolor": "white"
           },
           "zaxis": {
            "backgroundcolor": "#E5ECF6",
            "gridcolor": "white",
            "gridwidth": 2,
            "linecolor": "white",
            "showbackground": true,
            "ticks": "",
            "zerolinecolor": "white"
           }
          },
          "shapedefaults": {
           "line": {
            "color": "#2a3f5f"
           }
          },
          "ternary": {
           "aaxis": {
            "gridcolor": "white",
            "linecolor": "white",
            "ticks": ""
           },
           "baxis": {
            "gridcolor": "white",
            "linecolor": "white",
            "ticks": ""
           },
           "bgcolor": "#E5ECF6",
           "caxis": {
            "gridcolor": "white",
            "linecolor": "white",
            "ticks": ""
           }
          },
          "title": {
           "x": 0.05
          },
          "xaxis": {
           "automargin": true,
           "gridcolor": "white",
           "linecolor": "white",
           "ticks": "",
           "title": {
            "standoff": 15
           },
           "zerolinecolor": "white",
           "zerolinewidth": 2
          },
          "yaxis": {
           "automargin": true,
           "gridcolor": "white",
           "linecolor": "white",
           "ticks": "",
           "title": {
            "standoff": 15
           },
           "zerolinecolor": "white",
           "zerolinewidth": 2
          }
         }
        },
        "title": {
         "text": "Feature Importance Per Iteration"
        },
        "width": 1000,
        "xaxis": {
         "anchor": "y",
         "autorange": true,
         "domain": [
          0,
          1
         ],
         "range": [
          0,
          10
         ],
         "title": {
          "text": "Iteration"
         },
         "type": "linear"
        },
        "yaxis": {
         "anchor": "x",
         "autorange": true,
         "domain": [
          0,
          1
         ],
         "range": [
          -0.03745245210224165,
          0.7581859981194687
         ],
         "title": {
          "text": "Importance"
         },
         "type": "linear"
        }
       }
      },
      "image/png": "[encoded data removed]",
      "text/html": [
       "<div>                            <div id=\"2af540b3-b734-4a91-a09b-c8536ada6c89\" class=\"plotly-graph-div\" style=\"height:500px; width:1000px;\"></div>            <script type=\"text/javascript\">                require([\"plotly\"], function(Plotly) {                    window.PLOTLYENV=window.PLOTLYENV || {};                                    if (document.getElementById(\"2af540b3-b734-4a91-a09b-c8536ada6c89\")) {                    Plotly.newPlot(                        \"2af540b3-b734-4a91-a09b-c8536ada6c89\",                        [{\"hovertemplate\":\"Feature Name=Output 01<br>Iteration=%{x}<br>Importance=%{y}<extra></extra>\",\"legendgroup\":\"Output 01\",\"line\":{\"color\":\"#636efa\",\"dash\":\"solid\"},\"marker\":{\"symbol\":\"circle\"},\"mode\":\"lines\",\"name\":\"Output 01\",\"orientation\":\"v\",\"showlegend\":true,\"type\":\"scatter\",\"x\":[0,1,1,2,3,4,5,6,7,8,9,10],\"xaxis\":\"x\",\"y\":[0.5911680942007734,0.6981786594509669,0.6981786594509669,0.7184040756083833,0.71127195248154,0.7180051133965254,0.7161410224725174,0.7161410224725174,0.7161410224725174,0.7161410224725174,0.7161410224725174,0.7161410224725174],\"yaxis\":\"y\"},{\"hovertemplate\":\"Feature Name=Input 03<br>Iteration=%{x}<br>Importance=%{y}<extra></extra>\",\"legendgroup\":\"Input 03\",\"line\":{\"color\":\"#EF553B\",\"dash\":\"solid\"},\"marker\":{\"symbol\":\"circle\"},\"mode\":\"lines\",\"name\":\"Input 03\",\"orientation\":\"v\",\"showlegend\":true,\"type\":\"scatter\",\"x\":[0,1,1,2,3,4,5,6,7,8,9,10],\"xaxis\":\"x\",\"y\":[0.06663778533815794,0.1108232741662147,0.1108232741662147,0.110086440364584,0.11017853003684933,0.11076485906882257,0.11314786761851021,0.11314786761851021,0.11314786761851021,0.11314786761851021,0.11314786761851021,0.11314786761851021],\"yaxis\":\"y\"},{\"hovertemplate\":\"Feature Name=Input 02<br>Iteration=%{x}<br>Importance=%{y}<extra></extra>\",\"legendgroup\":\"Input 02\",\"line\":{\"color\":\"#00cc96\",\"dash\":\"solid\"},\"marker\":{\"symbol\":\"circle\"},\"mode\":\"lines\",\"name\":\"Input 02\",\"orientation\":\"v\",\"showlegend\":true,\"type\":\"scatter\",\"x\":[0,1,1,2,3,4,5,6,7,8,9,10],\"xaxis\":\"x\",\"y\":[0.06652745633490179,0.0610151823169409,0.0610151823169409,0.05181716977069543,0.05335160816633193,0.05212330699726891,0.05186910067947614,0.05186910067947614,0.05186910067947614,0.05186910067947614,0.05186910067947614,0.05186910067947614],\"yaxis\":\"y\"},{\"hovertemplate\":\"Feature Name=Input 11<br>Iteration=%{x}<br>Importance=%{y}<extra></extra>\",\"legendgroup\":\"Input 11\",\"line\":{\"color\":\"#ab63fa\",\"dash\":\"solid\"},\"marker\":{\"symbol\":\"circle\"},\"mode\":\"lines\",\"name\":\"Input 11\",\"orientation\":\"v\",\"showlegend\":true,\"type\":\"scatter\",\"x\":[0,1,1,2,3,4,5,6,7,8,9,10],\"xaxis\":\"x\",\"y\":[0.04786982986753729,0.027515744439840197,0.027515744439840197,0.017464950607403613,0.013225876483166057,0.01335385228235822,0.012099172275508404,0.012099172275508404,0.012099172275508404,0.012099172275508404,0.012099172275508404,0.012099172275508404],\"yaxis\":\"y\"},{\"hovertemplate\":\"Feature Name=Input 06<br>Iteration=%{x}<br>Importance=%{y}<extra></extra>\",\"legendgroup\":\"Input 06\",\"line\":{\"color\":\"#FFA15A\",\"dash\":\"solid\"},\"marker\":{\"symbol\":\"circle\"},\"mode\":\"lines\",\"name\":\"Input 06\",\"orientation\":\"v\",\"showlegend\":true,\"type\":\"scatter\",\"x\":[0,1,1,2,3,4,5,6,7,8,9,10],\"xaxis\":\"x\",\"y\":[0.04403996978590047,0.021649196328514426,0.021649196328514426,0.018218317202520578,0.023390791907568265,0.019754722867253258,0.019340622845962156,0.019340622845962156,0.019340622845962156,0.019340622845962156,0.019340622845962156,0.019340622845962156],\"yaxis\":\"y\"},{\"hovertemplate\":\"Feature Name=Input 08<br>Iteration=%{x}<br>Importance=%{y}<extra></extra>\",\"legendgroup\":\"Input 08\",\"line\":{\"color\":\"#19d3f3\",\"dash\":\"solid\"},\"marker\":{\"symbol\":\"circle\"},\"mode\":\"lines\",\"name\":\"Input 08\",\"orientation\":\"v\",\"showlegend\":true,\"type\":\"scatter\",\"x\":[0,1,1,2,3,4,5,6,7,8,9,10],\"xaxis\":\"x\",\"y\":[0.03574606919275113,0.02979903461545224,0.02979903461545224,0.037846637955608574,0.037668727472004886,0.03431357645435059,0.03497132804503161,0.03497132804503161,0.03497132804503161,0.03497132804503161,0.03497132804503161,0.03497132804503161],\"yaxis\":\"y\"},{\"hovertemplate\":\"Feature Name=Input 01<br>Iteration=%{x}<br>Importance=%{y}<extra></extra>\",\"legendgroup\":\"Input 01\",\"line\":{\"color\":\"#FF6692\",\"dash\":\"solid\"},\"marker\":{\"symbol\":\"circle\"},\"mode\":\"lines\",\"name\":\"Input 01\",\"orientation\":\"v\",\"showlegend\":true,\"type\":\"scatter\",\"x\":[0,1,1,2,3,4,5,6,7,8,9,10],\"xaxis\":\"x\",\"y\":[0.034079895828834375,0.007187717595404491,0.007187717595404491,0.0051974641863608605,0.006019212010308387,0.006015616558621069,0.004526515892360297,0.004526515892360297,0.004526515892360297,0.004526515892360297,0.004526515892360297,0.004526515892360297],\"yaxis\":\"y\"},{\"hovertemplate\":\"Feature Name=Input 04<br>Iteration=%{x}<br>Importance=%{y}<extra></extra>\",\"legendgroup\":\"Input 04\",\"line\":{\"color\":\"#B6E880\",\"dash\":\"solid\"},\"marker\":{\"symbol\":\"circle\"},\"mode\":\"lines\",\"name\":\"Input 04\",\"orientation\":\"v\",\"showlegend\":true,\"type\":\"scatter\",\"x\":[0,1,1,2,3,4,5,6,7,8,9,10],\"xaxis\":\"x\",\"y\":[0.028897732228259247,0.01151934422725318,0.01151934422725318,0.014050238809194617,0.014576670564463339,0.0176247546992435,0.01766323132703818,0.01766323132703818,0.01766323132703818,0.01766323132703818,0.01766323132703818,0.01766323132703818],\"yaxis\":\"y\"},{\"hovertemplate\":\"Feature Name=Input 05<br>Iteration=%{x}<br>Importance=%{y}<extra></extra>\",\"legendgroup\":\"Input 05\",\"line\":{\"color\":\"#FF97FF\",\"dash\":\"solid\"},\"marker\":{\"symbol\":\"circle\"},\"mode\":\"lines\",\"name\":\"Input 05\",\"orientation\":\"v\",\"showlegend\":true,\"type\":\"scatter\",\"x\":[0,1,1,2,3,4,5,6,7,8,9,10],\"xaxis\":\"x\",\"y\":[0.02474110993160405,0.008718142864282715,0.008718142864282715,0.006411393128094084,0.005784637513111964,0.006792533179266497,0.006567356109055192,0.006567356109055192,0.006567356109055192,0.006567356109055192,0.006567356109055192,0.006567356109055192],\"yaxis\":\"y\"},{\"hovertemplate\":\"Feature Name=Input 12<br>Iteration=%{x}<br>Importance=%{y}<extra></extra>\",\"legendgroup\":\"Input 12\",\"line\":{\"color\":\"#FECB52\",\"dash\":\"solid\"},\"marker\":{\"symbol\":\"circle\"},\"mode\":\"lines\",\"name\":\"Input 12\",\"orientation\":\"v\",\"showlegend\":true,\"type\":\"scatter\",\"x\":[0,1,1,2,3,4,5,6,7,8,9,10],\"xaxis\":\"x\",\"y\":[0.0168311414901731,0.004368872950069559,0.004368872950069559,0.00374137286782902,0.0039480247054417645,0.0031504713183010766,0.003371796765051936,0.003371796765051936,0.003371796765051936,0.003371796765051936,0.003371796765051936,0.003371796765051936],\"yaxis\":\"y\"},{\"hovertemplate\":\"Feature Name=Input 09<br>Iteration=%{x}<br>Importance=%{y}<extra></extra>\",\"legendgroup\":\"Input 09\",\"line\":{\"color\":\"#636efa\",\"dash\":\"solid\"},\"marker\":{\"symbol\":\"circle\"},\"mode\":\"lines\",\"name\":\"Input 09\",\"orientation\":\"v\",\"showlegend\":true,\"type\":\"scatter\",\"x\":[0,1,1,2,3,4,5,6,7,8,9,10],\"xaxis\":\"x\",\"y\":[0.016788478894956264,0.003692304720474458,0.003692304720474458,0.002927969028637387,0.002798286637652871,0.002329470408843867,0.002516442068493644,0.002516442068493644,0.002516442068493644,0.002516442068493644,0.002516442068493644,0.002516442068493644],\"yaxis\":\"y\"},{\"hovertemplate\":\"Feature Name=Input 07<br>Iteration=%{x}<br>Importance=%{y}<extra></extra>\",\"legendgroup\":\"Input 07\",\"line\":{\"color\":\"#EF553B\",\"dash\":\"solid\"},\"marker\":{\"symbol\":\"circle\"},\"mode\":\"lines\",\"name\":\"Input 07\",\"orientation\":\"v\",\"showlegend\":true,\"type\":\"scatter\",\"x\":[0,1,1,2,3,4,5,6,7,8,9,10],\"xaxis\":\"x\",\"y\":[0.015216661747117154,0.006437003040717942,0.006437003040717942,0.0068327718907861155,0.008426613350138591,0.007663169669705562,0.008588244083745722,0.008588244083745722,0.008588244083745722,0.008588244083745722,0.008588244083745722,0.008588244083745722],\"yaxis\":\"y\"},{\"hovertemplate\":\"Feature Name=Input 10<br>Iteration=%{x}<br>Importance=%{y}<extra></extra>\",\"legendgroup\":\"Input 10\",\"line\":{\"color\":\"#00cc96\",\"dash\":\"solid\"},\"marker\":{\"symbol\":\"circle\"},\"mode\":\"lines\",\"name\":\"Input 10\",\"orientation\":\"v\",\"showlegend\":true,\"type\":\"scatter\",\"x\":[0,1,1,2,3,4,5,6,7,8,9,10],\"xaxis\":\"x\",\"y\":[0.011455775159033777,0.009095523283868315,0.009095523283868315,0.007001198579902545,0.009359068671422647,0.008108553099439383,0.00919729981724901,0.00919729981724901,0.00919729981724901,0.00919729981724901,0.00919729981724901,0.00919729981724901],\"yaxis\":\"y\"}],                        {\"autosize\":false,\"height\":500,\"legend\":{\"title\":{\"text\":\"Feature Name\"},\"tracegroupgap\":0},\"margin\":{\"t\":60},\"template\":{\"data\":{\"bar\":[{\"error_x\":{\"color\":\"#2a3f5f\"},\"error_y\":{\"color\":\"#2a3f5f\"},\"marker\":{\"line\":{\"color\":\"#E5ECF6\",\"width\":0.5},\"pattern\":{\"fillmode\":\"overlay\",\"size\":10,\"solidity\":0.2}},\"type\":\"bar\"}],\"barpolar\":[{\"marker\":{\"line\":{\"color\":\"#E5ECF6\",\"width\":0.5},\"pattern\":{\"fillmode\":\"overlay\",\"size\":10,\"solidity\":0.2}},\"type\":\"barpolar\"}],\"carpet\":[{\"aaxis\":{\"endlinecolor\":\"#2a3f5f\",\"gridcolor\":\"white\",\"linecolor\":\"white\",\"minorgridcolor\":\"white\",\"startlinecolor\":\"#2a3f5f\"},\"baxis\":{\"endlinecolor\":\"#2a3f5f\",\"gridcolor\":\"white\",\"linecolor\":\"white\",\"minorgridcolor\":\"white\",\"startlinecolor\":\"#2a3f5f\"},\"type\":\"carpet\"}],\"choropleth\":[{\"colorbar\":{\"outlinewidth\":0,\"ticks\":\"\"},\"type\":\"choropleth\"}],\"contour\":[{\"colorbar\":{\"outlinewidth\":0,\"ticks\":\"\"},\"colorscale\":[[0.0,\"#0d0887\"],[0.1111111111111111,\"#46039f\"],[0.2222222222222222,\"#7201a8\"],[0.3333333333333333,\"#9c179e\"],[0.4444444444444444,\"#bd3786\"],[0.5555555555555556,\"#d8576b\"],[0.6666666666666666,\"#ed7953\"],[0.7777777777777778,\"#fb9f3a\"],[0.8888888888888888,\"#fdca26\"],[1.0,\"#f0f921\"]],\"type\":\"contour\"}],\"contourcarpet\":[{\"colorbar\":{\"outlinewidth\":0,\"ticks\":\"\"},\"type\":\"contourcarpet\"}],\"heatmap\":[{\"colorbar\":{\"outlinewidth\":0,\"ticks\":\"\"},\"colorscale\":[[0.0,\"#0d0887\"],[0.1111111111111111,\"#46039f\"],[0.2222222222222222,\"#7201a8\"],[0.3333333333333333,\"#9c179e\"],[0.4444444444444444,\"#bd3786\"],[0.5555555555555556,\"#d8576b\"],[0.6666666666666666,\"#ed7953\"],[0.7777777777777778,\"#fb9f3a\"],[0.8888888888888888,\"#fdca26\"],[1.0,\"#f0f921\"]],\"type\":\"heatmap\"}],\"heatmapgl\":[{\"colorbar\":{\"outlinewidth\":0,\"ticks\":\"\"},\"colorscale\":[[0.0,\"#0d0887\"],[0.1111111111111111,\"#46039f\"],[0.2222222222222222,\"#7201a8\"],[0.3333333333333333,\"#9c179e\"],[0.4444444444444444,\"#bd3786\"],[0.5555555555555556,\"#d8576b\"],[0.6666666666666666,\"#ed7953\"],[0.7777777777777778,\"#fb9f3a\"],[0.8888888888888888,\"#fdca26\"],[1.0,\"#f0f921\"]],\"type\":\"heatmapgl\"}],\"histogram\":[{\"marker\":{\"pattern\":{\"fillmode\":\"overlay\",\"size\":10,\"solidity\":0.2}},\"type\":\"histogram\"}],\"histogram2d\":[{\"colorbar\":{\"outlinewidth\":0,\"ticks\":\"\"},\"colorscale\":[[0.0,\"#0d0887\"],[0.1111111111111111,\"#46039f\"],[0.2222222222222222,\"#7201a8\"],[0.3333333333333333,\"#9c179e\"],[0.4444444444444444,\"#bd3786\"],[0.5555555555555556,\"#d8576b\"],[0.6666666666666666,\"#ed7953\"],[0.7777777777777778,\"#fb9f3a\"],[0.8888888888888888,\"#fdca26\"],[1.0,\"#f0f921\"]],\"type\":\"histogram2d\"}],\"histogram2dcontour\":[{\"colorbar\":{\"outlinewidth\":0,\"ticks\":\"\"},\"colorscale\":[[0.0,\"#0d0887\"],[0.1111111111111111,\"#46039f\"],[0.2222222222222222,\"#7201a8\"],[0.3333333333333333,\"#9c179e\"],[0.4444444444444444,\"#bd3786\"],[0.5555555555555556,\"#d8576b\"],[0.6666666666666666,\"#ed7953\"],[0.7777777777777778,\"#fb9f3a\"],[0.8888888888888888,\"#fdca26\"],[1.0,\"#f0f921\"]],\"type\":\"histogram2dcontour\"}],\"mesh3d\":[{\"colorbar\":{\"outlinewidth\":0,\"ticks\":\"\"},\"type\":\"mesh3d\"}],\"parcoords\":[{\"line\":{\"colorbar\":{\"outlinewidth\":0,\"ticks\":\"\"}},\"type\":\"parcoords\"}],\"pie\":[{\"automargin\":true,\"type\":\"pie\"}],\"scatter\":[{\"marker\":{\"colorbar\":{\"outlinewidth\":0,\"ticks\":\"\"}},\"type\":\"scatter\"}],\"scatter3d\":[{\"line\":{\"colorbar\":{\"outlinewidth\":0,\"ticks\":\"\"}},\"marker\":{\"colorbar\":{\"outlinewidth\":0,\"ticks\":\"\"}},\"type\":\"scatter3d\"}],\"scattercarpet\":[{\"marker\":{\"colorbar\":{\"outlinewidth\":0,\"ticks\":\"\"}},\"type\":\"scattercarpet\"}],\"scattergeo\":[{\"marker\":{\"colorbar\":{\"outlinewidth\":0,\"ticks\":\"\"}},\"type\":\"scattergeo\"}],\"scattergl\":[{\"marker\":{\"colorbar\":{\"outlinewidth\":0,\"ticks\":\"\"}},\"type\":\"scattergl\"}],\"scattermapbox\":[{\"marker\":{\"colorbar\":{\"outlinewidth\":0,\"ticks\":\"\"}},\"type\":\"scattermapbox\"}],\"scatterpolar\":[{\"marker\":{\"colorbar\":{\"outlinewidth\":0,\"ticks\":\"\"}},\"type\":\"scatterpolar\"}],\"scatterpolargl\":[{\"marker\":{\"colorbar\":{\"outlinewidth\":0,\"ticks\":\"\"}},\"type\":\"scatterpolargl\"}],\"scatterternary\":[{\"marker\":{\"colorbar\":{\"outlinewidth\":0,\"ticks\":\"\"}},\"type\":\"scatterternary\"}],\"surface\":[{\"colorbar\":{\"outlinewidth\":0,\"ticks\":\"\"},\"colorscale\":[[0.0,\"#0d0887\"],[0.1111111111111111,\"#46039f\"],[0.2222222222222222,\"#7201a8\"],[0.3333333333333333,\"#9c179e\"],[0.4444444444444444,\"#bd3786\"],[0.5555555555555556,\"#d8576b\"],[0.6666666666666666,\"#ed7953\"],[0.7777777777777778,\"#fb9f3a\"],[0.8888888888888888,\"#fdca26\"],[1.0,\"#f0f921\"]],\"type\":\"surface\"}],\"table\":[{\"cells\":{\"fill\":{\"color\":\"#EBF0F8\"},\"line\":{\"color\":\"white\"}},\"header\":{\"fill\":{\"color\":\"#C8D4E3\"},\"line\":{\"color\":\"white\"}},\"type\":\"table\"}]},\"layout\":{\"annotationdefaults\":{\"arrowcolor\":\"#2a3f5f\",\"arrowhead\":0,\"arrowwidth\":1},\"autotypenumbers\":\"strict\",\"coloraxis\":{\"colorbar\":{\"outlinewidth\":0,\"ticks\":\"\"}},\"colorscale\":{\"diverging\":[[0,\"#8e0152\"],[0.1,\"#c51b7d\"],[0.2,\"#de77ae\"],[0.3,\"#f1b6da\"],[0.4,\"#fde0ef\"],[0.5,\"#f7f7f7\"],[0.6,\"#e6f5d0\"],[0.7,\"#b8e186\"],[0.8,\"#7fbc41\"],[0.9,\"#4d9221\"],[1,\"#276419\"]],\"sequential\":[[0.0,\"#0d0887\"],[0.1111111111111111,\"#46039f\"],[0.2222222222222222,\"#7201a8\"],[0.3333333333333333,\"#9c179e\"],[0.4444444444444444,\"#bd3786\"],[0.5555555555555556,\"#d8576b\"],[0.6666666666666666,\"#ed7953\"],[0.7777777777777778,\"#fb9f3a\"],[0.8888888888888888,\"#fdca26\"],[1.0,\"#f0f921\"]],\"sequentialminus\":[[0.0,\"#0d0887\"],[0.1111111111111111,\"#46039f\"],[0.2222222222222222,\"#7201a8\"],[0.3333333333333333,\"#9c179e\"],[0.4444444444444444,\"#bd3786\"],[0.5555555555555556,\"#d8576b\"],[0.6666666666666666,\"#ed7953\"],[0.7777777777777778,\"#fb9f3a\"],[0.8888888888888888,\"#fdca26\"],[1.0,\"#f0f921\"]]},\"colorway\":[\"#636efa\",\"#EF553B\",\"#00cc96\",\"#ab63fa\",\"#FFA15A\",\"#19d3f3\",\"#FF6692\",\"#B6E880\",\"#FF97FF\",\"#FECB52\"],\"font\":{\"color\":\"#2a3f5f\"},\"geo\":{\"bgcolor\":\"white\",\"lakecolor\":\"white\",\"landcolor\":\"#E5ECF6\",\"showlakes\":true,\"showland\":true,\"subunitcolor\":\"white\"},\"hoverlabel\":{\"align\":\"left\"},\"hovermode\":\"closest\",\"mapbox\":{\"style\":\"light\"},\"paper_bgcolor\":\"white\",\"plot_bgcolor\":\"#E5ECF6\",\"polar\":{\"angularaxis\":{\"gridcolor\":\"white\",\"linecolor\":\"white\",\"ticks\":\"\"},\"bgcolor\":\"#E5ECF6\",\"radialaxis\":{\"gridcolor\":\"white\",\"linecolor\":\"white\",\"ticks\":\"\"}},\"scene\":{\"xaxis\":{\"backgroundcolor\":\"#E5ECF6\",\"gridcolor\":\"white\",\"gridwidth\":2,\"linecolor\":\"white\",\"showbackground\":true,\"ticks\":\"\",\"zerolinecolor\":\"white\"},\"yaxis\":{\"backgroundcolor\":\"#E5ECF6\",\"gridcolor\":\"white\",\"gridwidth\":2,\"linecolor\":\"white\",\"showbackground\":true,\"ticks\":\"\",\"zerolinecolor\":\"white\"},\"zaxis\":{\"backgroundcolor\":\"#E5ECF6\",\"gridcolor\":\"white\",\"gridwidth\":2,\"linecolor\":\"white\",\"showbackground\":true,\"ticks\":\"\",\"zerolinecolor\":\"white\"}},\"shapedefaults\":{\"line\":{\"color\":\"#2a3f5f\"}},\"ternary\":{\"aaxis\":{\"gridcolor\":\"white\",\"linecolor\":\"white\",\"ticks\":\"\"},\"baxis\":{\"gridcolor\":\"white\",\"linecolor\":\"white\",\"ticks\":\"\"},\"bgcolor\":\"#E5ECF6\",\"caxis\":{\"gridcolor\":\"white\",\"linecolor\":\"white\",\"ticks\":\"\"}},\"title\":{\"x\":0.05},\"xaxis\":{\"automargin\":true,\"gridcolor\":\"white\",\"linecolor\":\"white\",\"ticks\":\"\",\"title\":{\"standoff\":15},\"zerolinecolor\":\"white\",\"zerolinewidth\":2},\"yaxis\":{\"automargin\":true,\"gridcolor\":\"white\",\"linecolor\":\"white\",\"ticks\":\"\",\"title\":{\"standoff\":15},\"zerolinecolor\":\"white\",\"zerolinewidth\":2}}},\"title\":{\"text\":\"Feature Importance Per Iteration\"},\"width\":1000,\"xaxis\":{\"anchor\":\"y\",\"domain\":[0.0,1.0],\"title\":{\"text\":\"Iteration\"}},\"yaxis\":{\"anchor\":\"x\",\"domain\":[0.0,1.0],\"title\":{\"text\":\"Importance\"}}},                        {\"responsive\": true}                    ).then(function(){\n",
       "                            \n",
       "var gd = document.getElementById('2af540b3-b734-4a91-a09b-c8536ada6c89');\n",
       "var x = new MutationObserver(function (mutations, observer) {{\n",
       "        var display = window.getComputedStyle(gd).display;\n",
       "        if (!display || display === 'none') {{\n",
       "            console.log([gd, 'removed!']);\n",
       "            Plotly.purge(gd);\n",
       "            observer.disconnect();\n",
       "        }}\n",
       "}});\n",
       "\n",
       "// Listen for the removal of the full notebook cells\n",
       "var notebookContainer = gd.closest('#notebook-container');\n",
       "if (notebookContainer) {{\n",
       "    x.observe(notebookContainer, {childList: true});\n",
       "}}\n",
       "\n",
       "// Listen for the clearing of the current output cell\n",
       "var outputEl = gd.closest('.output');\n",
       "if (outputEl) {{\n",
       "    x.observe(outputEl, {childList: true});\n",
       "}}\n",
       "\n",
       "                        })                };                });            </script>        </div>"
      ]
     },
     "metadata": {},
     "output_type": "display_data"
    }
   ],
   "source": [
    "fig = px.line(df_imp, x='Iteration', y=\"Importance\", color = \"Feature Name\")\n",
    "\n",
    "fig.update_layout(\n",
    "    autosize=False,\n",
    "    width=1000,\n",
    "    height=500,\n",
    "    title_text=f\"Feature Importance Per Iteration\",\n",
    "    #paper_bgcolor='#2d3035',\n",
    "    #plot_bgcolor='#2d3035', \n",
    ")\n",
    "\n",
    "fig.show()"
   ]
  }
 ],
 "metadata": {
  "kernelspec": {
   "display_name": "Python 3 (ipykernel)",
   "language": "python",
   "name": "python3"
  },
  "language_info": {
   "codemirror_mode": {
    "name": "ipython",
    "version": 3
   },
   "file_extension": ".py",
   "mimetype": "text/x-python",
   "name": "python",
   "nbconvert_exporter": "python",
   "pygments_lexer": "ipython3",
   "version": "3.8.11"
  }
 },
 "nbformat": 4,
 "nbformat_minor": 5
}

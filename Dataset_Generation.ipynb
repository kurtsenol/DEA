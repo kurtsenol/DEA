{
 "cells": [
  {
   "cell_type": "code",
   "execution_count": 1,
   "id": "fc798ec7",
   "metadata": {},
   "outputs": [],
   "source": [
    "import pandas as pd\n",
    "import numpy as np\n",
    "\n",
    "import matplotlib.pyplot as plt\n",
    "import seaborn as sns\n",
    "\n",
    "np.set_printoptions(linewidth=np.inf, suppress=True, precision=2)"
   ]
  },
  {
   "cell_type": "markdown",
   "id": "e1be4c96-efbd-4bbd-aa6b-ebc1a6e1fe20",
   "metadata": {},
   "source": [
    "### Unstructured Variance, n_input = 2, n_output = 2 "
   ]
  },
  {
   "cell_type": "code",
   "execution_count": 2,
   "id": "b7588326-d6ae-449c-9f9d-ad8f30f46b03",
   "metadata": {},
   "outputs": [],
   "source": [
    "m = n_input = 2\n",
    "s = n_output = 2"
   ]
  },
  {
   "cell_type": "code",
   "execution_count": 3,
   "id": "b065de57-e533-44fe-9271-eaa67dedca47",
   "metadata": {},
   "outputs": [
    {
     "data": {
      "text/plain": [
       "array([5.94, 7.44, 6.42, 5.9 ])"
      ]
     },
     "execution_count": 3,
     "metadata": {},
     "output_type": "execute_result"
    }
   ],
   "source": [
    "np.random.seed(0)\n",
    "x_min = np.random.uniform(1,10, m+s)\n",
    "x_min"
   ]
  },
  {
   "cell_type": "code",
   "execution_count": 4,
   "id": "f9fe3036-8d3c-43df-9fc2-b34359d95683",
   "metadata": {},
   "outputs": [
    {
     "data": {
      "text/plain": [
       "array([549.26, 715.47, 603.16, 545.34])"
      ]
     },
     "execution_count": 4,
     "metadata": {},
     "output_type": "execute_result"
    }
   ],
   "source": [
    "np.random.seed(0)\n",
    "delta_x = np.random.uniform(1,1000, m+s)\n",
    "delta_x"
   ]
  },
  {
   "cell_type": "code",
   "execution_count": 5,
   "id": "a4842996-56f3-4e9c-9d4e-5f6e1ae59daa",
   "metadata": {},
   "outputs": [
    {
     "data": {
      "text/plain": [
       "array([555.2 , 722.91, 609.59, 551.24])"
      ]
     },
     "execution_count": 5,
     "metadata": {},
     "output_type": "execute_result"
    }
   ],
   "source": [
    "x_max = x_min + delta_x\n",
    "x_max"
   ]
  },
  {
   "cell_type": "code",
   "execution_count": 6,
   "id": "32f57f48-3f15-4ac3-8f9b-92b4cd980847",
   "metadata": {},
   "outputs": [
    {
     "data": {
      "text/plain": [
       "array([280.57, 365.17, 308.01, 278.57])"
      ]
     },
     "execution_count": 6,
     "metadata": {},
     "output_type": "execute_result"
    }
   ],
   "source": [
    "mean_q = (x_min + x_max)  * 0.5\n",
    "mean_q"
   ]
  },
  {
   "cell_type": "code",
   "execution_count": 7,
   "id": "42f1f20f-8962-4149-b815-c8648c200485",
   "metadata": {},
   "outputs": [
    {
     "data": {
      "text/plain": [
       "array([ 91.54, 119.25, 100.53,  90.89])"
      ]
     },
     "execution_count": 7,
     "metadata": {},
     "output_type": "execute_result"
    }
   ],
   "source": [
    "std_max = (x_max - x_min) * 0.5 * (1/3)\n",
    "std_max"
   ]
  },
  {
   "cell_type": "code",
   "execution_count": 8,
   "id": "aa82b289-85b5-46f8-a483-4be334270e4d",
   "metadata": {},
   "outputs": [],
   "source": [
    "np.random.seed(0)\n",
    "std_list = []\n",
    "\n",
    "for i in std_max:\n",
    "    std_list.append(np.random.uniform(0,i))"
   ]
  },
  {
   "cell_type": "code",
   "execution_count": 9,
   "id": "a3188e53-6728-4980-8605-a7253fa4eaf2",
   "metadata": {},
   "outputs": [
    {
     "data": {
      "text/plain": [
       "[50.240646555803664, 85.28325388479718, 60.593854536970724, 49.52427810211898]"
      ]
     },
     "execution_count": 9,
     "metadata": {},
     "output_type": "execute_result"
    }
   ],
   "source": [
    "std_list"
   ]
  },
  {
   "cell_type": "code",
   "execution_count": 10,
   "id": "f270d63a-6393-4bd3-8e6f-e54a4f61f9e9",
   "metadata": {},
   "outputs": [],
   "source": [
    "cov_matrix_int = []\n",
    "\n",
    "for i in range(m + s):\n",
    "    for j in range(m + s):\n",
    "        \n",
    "        if j>i:\n",
    "            min_ = - std_list[i] *  std_list[j]\n",
    "            max_ = std_list[i] *  std_list[j]\n",
    "            \n",
    "            cov_matrix_int.append((i, j, min_, max_)) "
   ]
  },
  {
   "cell_type": "code",
   "execution_count": 11,
   "id": "618ef7bd-9220-4c9c-810a-e11b40f6bb47",
   "metadata": {},
   "outputs": [
    {
     "data": {
      "text/plain": [
       "[(0, 1, -4284.685815554964, 4284.685815554964),\n",
       " (0, 2, -3044.2744292457264, 3044.2744292457264),\n",
       " (0, 3, -2488.131752059887, 2488.131752059887),\n",
       " (1, 2, -5167.641080334944, 5167.641080334944),\n",
       " (1, 3, -4223.591582844314, 4223.591582844314),\n",
       " (2, 3, -3000.866903368282, 3000.866903368282)]"
      ]
     },
     "execution_count": 11,
     "metadata": {},
     "output_type": "execute_result"
    }
   ],
   "source": [
    "cov_matrix_int"
   ]
  },
  {
   "cell_type": "code",
   "execution_count": 12,
   "id": "307417e2-b29d-4a0a-81e9-5b535b27b966",
   "metadata": {},
   "outputs": [
    {
     "data": {
      "text/plain": [
       "[-711.0692789081354,\n",
       " 1341.456443044959,\n",
       " -2487.562592830543,\n",
       " -2042.9486358236572,\n",
       " -2983.9176924683584,\n",
       " -2446.67523747784]"
      ]
     },
     "execution_count": 12,
     "metadata": {},
     "output_type": "execute_result"
    }
   ],
   "source": [
    "cov_list = []\n",
    "np.random.seed(1)\n",
    "\n",
    "for i in cov_matrix_int:\n",
    "    n = np.random.uniform(i[2],i[3])\n",
    "    cov_list.append(n)\n",
    "cov_list"
   ]
  },
  {
   "cell_type": "code",
   "execution_count": 13,
   "id": "882e72b4-abf1-46dc-892e-14378138882d",
   "metadata": {},
   "outputs": [
    {
     "name": "stdout",
     "output_type": "stream",
     "text": [
      "4\n"
     ]
    },
    {
     "data": {
      "text/plain": [
       "array([[0., 0., 0., 0.],\n",
       "       [0., 0., 0., 0.],\n",
       "       [0., 0., 0., 0.],\n",
       "       [0., 0., 0., 0.]])"
      ]
     },
     "execution_count": 13,
     "metadata": {},
     "output_type": "execute_result"
    }
   ],
   "source": [
    "cov_matrix = np.zeros((m + s, m + s))\n",
    "print(len(cov_matrix))\n",
    "cov_matrix"
   ]
  },
  {
   "cell_type": "code",
   "execution_count": 14,
   "id": "d31fcdce-2d9c-470a-b316-83b45633c9e6",
   "metadata": {},
   "outputs": [
    {
     "name": "stdout",
     "output_type": "stream",
     "text": [
      "[[ 2524.12  -711.07  1341.46 -2487.56]\n",
      " [ -711.07  7273.23 -2042.95 -2983.92]\n",
      " [ 1341.46 -2042.95  3671.62 -2446.68]\n",
      " [-2487.56 -2983.92 -2446.68  2452.65]]\n"
     ]
    }
   ],
   "source": [
    "k=0\n",
    "l=0\n",
    "for i in range(len(cov_matrix)):\n",
    "    for j in range(len(cov_matrix)):\n",
    "        if j>i:\n",
    "            cov_matrix[i][j] = cov_matrix[j][i] = cov_list[k]\n",
    "            k += 1\n",
    "        if i == j:\n",
    "            cov_matrix[i][j] = np.square(std_list[l]) \n",
    "            l += 1 \n",
    "np.set_printoptions(suppress=True)\n",
    "print(cov_matrix)"
   ]
  },
  {
   "cell_type": "code",
   "execution_count": 15,
   "id": "2031ba96-620e-4258-a51b-420a11c76cb0",
   "metadata": {},
   "outputs": [
    {
     "data": {
      "image/png": "[encoded data removed]",
      "text/plain": [
       "<Figure size 576x432 with 2 Axes>"
      ]
     },
     "metadata": {
      "needs_background": "light"
     },
     "output_type": "display_data"
    }
   ],
   "source": [
    "plt.figure(figsize = (8,6))\n",
    "sns.heatmap(cov_matrix, annot=True, fmt='.2f', cmap='YlGnBu');"
   ]
  },
  {
   "cell_type": "code",
   "execution_count": 16,
   "id": "6e5a3734-ee83-4e14-8d71-6e669a19881f",
   "metadata": {},
   "outputs": [
    {
     "name": "stderr",
     "output_type": "stream",
     "text": [
      "/var/folders/6l/c4m0953s1_jgnd_y35l2l7kc0000gp/T/ipykernel_34887/2917725350.py:1: RuntimeWarning: covariance is not positive-semidefinite.\n",
      "  US_22 = pd.DataFrame(np.random.multivariate_normal(mean_q, cov_matrix, 1000))\n"
     ]
    },
    {
     "data": {
      "text/html": [
       "<div>\n",
       "<style scoped>\n",
       "    .dataframe tbody tr th:only-of-type {\n",
       "        vertical-align: middle;\n",
       "    }\n",
       "\n",
       "    .dataframe tbody tr th {\n",
       "        vertical-align: top;\n",
       "    }\n",
       "\n",
       "    .dataframe thead th {\n",
       "        text-align: right;\n",
       "    }\n",
       "</style>\n",
       "<table border=\"1\" class=\"dataframe\">\n",
       "  <thead>\n",
       "    <tr style=\"text-align: right;\">\n",
       "      <th></th>\n",
       "      <th>Input 1</th>\n",
       "      <th>Input 2</th>\n",
       "      <th>Output 1</th>\n",
       "      <th>Output 2</th>\n",
       "    </tr>\n",
       "  </thead>\n",
       "  <tbody>\n",
       "    <tr>\n",
       "      <th>DMU 1</th>\n",
       "      <td>151.42</td>\n",
       "      <td>324.96</td>\n",
       "      <td>303.04</td>\n",
       "      <td>321.64</td>\n",
       "    </tr>\n",
       "    <tr>\n",
       "      <th>DMU 2</th>\n",
       "      <td>234.02</td>\n",
       "      <td>516.63</td>\n",
       "      <td>235.08</td>\n",
       "      <td>248.36</td>\n",
       "    </tr>\n",
       "    <tr>\n",
       "      <th>DMU 3</th>\n",
       "      <td>184.48</td>\n",
       "      <td>510.16</td>\n",
       "      <td>183.22</td>\n",
       "      <td>338.86</td>\n",
       "    </tr>\n",
       "    <tr>\n",
       "      <th>DMU 4</th>\n",
       "      <td>208.45</td>\n",
       "      <td>476.52</td>\n",
       "      <td>251.44</td>\n",
       "      <td>299.36</td>\n",
       "    </tr>\n",
       "    <tr>\n",
       "      <th>DMU 5</th>\n",
       "      <td>357.47</td>\n",
       "      <td>375.87</td>\n",
       "      <td>327.81</td>\n",
       "      <td>282.08</td>\n",
       "    </tr>\n",
       "    <tr>\n",
       "      <th>...</th>\n",
       "      <td>...</td>\n",
       "      <td>...</td>\n",
       "      <td>...</td>\n",
       "      <td>...</td>\n",
       "    </tr>\n",
       "    <tr>\n",
       "      <th>DMU 996</th>\n",
       "      <td>324.76</td>\n",
       "      <td>312.23</td>\n",
       "      <td>326.97</td>\n",
       "      <td>304.73</td>\n",
       "    </tr>\n",
       "    <tr>\n",
       "      <th>DMU 997</th>\n",
       "      <td>296.16</td>\n",
       "      <td>284.97</td>\n",
       "      <td>317.38</td>\n",
       "      <td>301.61</td>\n",
       "    </tr>\n",
       "    <tr>\n",
       "      <th>DMU 998</th>\n",
       "      <td>341.29</td>\n",
       "      <td>192.10</td>\n",
       "      <td>343.57</td>\n",
       "      <td>309.25</td>\n",
       "    </tr>\n",
       "    <tr>\n",
       "      <th>DMU 999</th>\n",
       "      <td>264.95</td>\n",
       "      <td>316.08</td>\n",
       "      <td>352.08</td>\n",
       "      <td>339.50</td>\n",
       "    </tr>\n",
       "    <tr>\n",
       "      <th>DMU 1000</th>\n",
       "      <td>309.56</td>\n",
       "      <td>417.55</td>\n",
       "      <td>324.11</td>\n",
       "      <td>236.55</td>\n",
       "    </tr>\n",
       "  </tbody>\n",
       "</table>\n",
       "<p>1000 rows × 4 columns</p>\n",
       "</div>"
      ],
      "text/plain": [
       "          Input 1  Input 2  Output 1  Output 2\n",
       "DMU 1      151.42   324.96    303.04    321.64\n",
       "DMU 2      234.02   516.63    235.08    248.36\n",
       "DMU 3      184.48   510.16    183.22    338.86\n",
       "DMU 4      208.45   476.52    251.44    299.36\n",
       "DMU 5      357.47   375.87    327.81    282.08\n",
       "...           ...      ...       ...       ...\n",
       "DMU 996    324.76   312.23    326.97    304.73\n",
       "DMU 997    296.16   284.97    317.38    301.61\n",
       "DMU 998    341.29   192.10    343.57    309.25\n",
       "DMU 999    264.95   316.08    352.08    339.50\n",
       "DMU 1000   309.56   417.55    324.11    236.55\n",
       "\n",
       "[1000 rows x 4 columns]"
      ]
     },
     "execution_count": 16,
     "metadata": {},
     "output_type": "execute_result"
    }
   ],
   "source": [
    "US_22 = pd.DataFrame(np.random.multivariate_normal(mean_q, cov_matrix, 1000))\n",
    "US_22.columns = [\"Input \" + str(i + 1) for i in range(m)] + [\"Output \" + str(i + 1) for i in range(s)]\n",
    "US_22.index = [\"DMU \" + str(i + 1) for i in range(len(US_22))]\n",
    "US_22 = US_22.round(2)\n",
    "US_22"
   ]
  },
  {
   "cell_type": "code",
   "execution_count": 17,
   "id": "13c071a9-6b19-4e34-baed-3277a86c81b1",
   "metadata": {},
   "outputs": [
    {
     "data": {
      "text/plain": [
       "Input 1     0\n",
       "Input 2     0\n",
       "Output 1    0\n",
       "Output 2    0\n",
       "dtype: int64"
      ]
     },
     "execution_count": 17,
     "metadata": {},
     "output_type": "execute_result"
    }
   ],
   "source": [
    "(US_22<=0).sum()"
   ]
  },
  {
   "cell_type": "code",
   "execution_count": 18,
   "id": "2e9cc3e2-4548-4ea0-99d5-4a9f17dfa250",
   "metadata": {},
   "outputs": [],
   "source": [
    "US_22.to_excel(\"Data/US22.xlsx\")"
   ]
  },
  {
   "cell_type": "markdown",
   "id": "4386f546-67d0-4dd0-a83f-d7bcf2628f30",
   "metadata": {},
   "source": [
    "### Structured Variance, n_input = 2, n_output = 2"
   ]
  },
  {
   "cell_type": "code",
   "execution_count": 19,
   "id": "76b4e5bd-cf5e-47e7-b2e5-9d7017c9e3ab",
   "metadata": {},
   "outputs": [],
   "source": [
    "m = n_input = 2\n",
    "s = n_output = 2"
   ]
  },
  {
   "cell_type": "code",
   "execution_count": 20,
   "id": "90eec4b4-b26f-4518-8a2d-ab0f40f2fd9d",
   "metadata": {},
   "outputs": [
    {
     "data": {
      "text/plain": [
       "array([3.  , 8.84, 2.86, 9.27])"
      ]
     },
     "execution_count": 20,
     "metadata": {},
     "output_type": "execute_result"
    }
   ],
   "source": [
    "np.random.seed(5)\n",
    "x_min = np.random.uniform(1,10, m+s, )\n",
    "x_min"
   ]
  },
  {
   "cell_type": "code",
   "execution_count": 21,
   "id": "16b7aaa9-d678-4da6-b21e-c3f7dcb71466",
   "metadata": {},
   "outputs": [
    {
     "data": {
      "text/plain": [
       "array([222.77, 870.86, 207.51, 918.69])"
      ]
     },
     "execution_count": 21,
     "metadata": {},
     "output_type": "execute_result"
    }
   ],
   "source": [
    "np.random.seed(5)\n",
    "delta_x = np.random.uniform(1,1000, m+s)\n",
    "delta_x"
   ]
  },
  {
   "cell_type": "code",
   "execution_count": 22,
   "id": "23e0d391-2daf-4cf0-943a-37b9aab9016c",
   "metadata": {},
   "outputs": [
    {
     "data": {
      "text/plain": [
       "array([225.77, 879.7 , 210.37, 927.96])"
      ]
     },
     "execution_count": 22,
     "metadata": {},
     "output_type": "execute_result"
    }
   ],
   "source": [
    "x_max = x_min + delta_x\n",
    "x_max"
   ]
  },
  {
   "cell_type": "code",
   "execution_count": 23,
   "id": "f35cf412-1d8c-4d6a-879d-9ffaf98f8d61",
   "metadata": {},
   "outputs": [
    {
     "data": {
      "text/plain": [
       "array([114.38, 444.27, 106.62, 468.61])"
      ]
     },
     "execution_count": 23,
     "metadata": {},
     "output_type": "execute_result"
    }
   ],
   "source": [
    "mean_q = (x_min + x_max)  * 0.5\n",
    "mean_q"
   ]
  },
  {
   "cell_type": "code",
   "execution_count": 24,
   "id": "ed948fcb-7198-45ee-9b1c-93ba1ff4e314",
   "metadata": {},
   "outputs": [
    {
     "data": {
      "text/plain": [
       "array([ 37.13, 145.14,  34.59, 153.12])"
      ]
     },
     "execution_count": 24,
     "metadata": {},
     "output_type": "execute_result"
    }
   ],
   "source": [
    "std_max = (x_max - x_min) * 0.5 * (1/3)\n",
    "std_max"
   ]
  },
  {
   "cell_type": "code",
   "execution_count": 25,
   "id": "71c288b3-f2b1-4766-b299-45d55ccdf3d6",
   "metadata": {},
   "outputs": [],
   "source": [
    "np.random.seed(5)\n",
    "std_list = []\n",
    "\n",
    "for i in std_max:\n",
    "    std_list.append(np.random.uniform(0,i))"
   ]
  },
  {
   "cell_type": "code",
   "execution_count": 26,
   "id": "0bd89ff0-9c9a-4fc2-9f9f-83fafad06abf",
   "metadata": {},
   "outputs": [
    {
     "data": {
      "text/plain": [
       "[8.242280035592934, 126.38121776302144, 7.149465921733515, 140.65346084838131]"
      ]
     },
     "execution_count": 26,
     "metadata": {},
     "output_type": "execute_result"
    }
   ],
   "source": [
    "std_list"
   ]
  },
  {
   "cell_type": "code",
   "execution_count": 27,
   "id": "f84e0049-7e34-4804-9c43-055940bb51d3",
   "metadata": {},
   "outputs": [
    {
     "name": "stdout",
     "output_type": "stream",
     "text": [
      "4\n"
     ]
    },
    {
     "data": {
      "text/plain": [
       "array([[0., 0., 0., 0.],\n",
       "       [0., 0., 0., 0.],\n",
       "       [0., 0., 0., 0.],\n",
       "       [0., 0., 0., 0.]])"
      ]
     },
     "execution_count": 27,
     "metadata": {},
     "output_type": "execute_result"
    }
   ],
   "source": [
    "cov_matrix = np.zeros((m + s, m + s))\n",
    "print(len(cov_matrix))\n",
    "cov_matrix"
   ]
  },
  {
   "cell_type": "code",
   "execution_count": 28,
   "id": "0bb0d082-25ae-4fe0-a6c8-090abc587bd7",
   "metadata": {},
   "outputs": [
    {
     "name": "stdout",
     "output_type": "stream",
     "text": [
      "[[   67.94     0.       0.       0.  ]\n",
      " [    0.   15972.21     0.       0.  ]\n",
      " [    0.       0.      51.11     0.  ]\n",
      " [    0.       0.       0.   19783.4 ]]\n"
     ]
    }
   ],
   "source": [
    "k=0\n",
    "l=0\n",
    "for i in range(len(cov_matrix)):\n",
    "    for j in range(len(cov_matrix)):\n",
    "        if j>i:\n",
    "            cov_matrix[i][j] = cov_matrix[j][i] = 0\n",
    "            k += 1\n",
    "        if i == j:\n",
    "            cov_matrix[i][j] = np.square(std_list[l])\n",
    "            l += 1 \n",
    "np.set_printoptions(suppress=True)\n",
    "print(cov_matrix)"
   ]
  },
  {
   "cell_type": "code",
   "execution_count": 29,
   "id": "156c6d06-04f2-4b47-a658-c238d65aea93",
   "metadata": {},
   "outputs": [
    {
     "data": {
      "image/png": "[encoded data removed]",
      "text/plain": [
       "<Figure size 576x432 with 2 Axes>"
      ]
     },
     "metadata": {
      "needs_background": "light"
     },
     "output_type": "display_data"
    }
   ],
   "source": [
    "plt.figure(figsize = (8,6))\n",
    "sns.heatmap(cov_matrix, annot=True, fmt='.2f', cmap='YlGnBu');"
   ]
  },
  {
   "cell_type": "code",
   "execution_count": 30,
   "id": "79414922-6b7c-4b42-a4d8-226f868f360d",
   "metadata": {},
   "outputs": [
    {
     "data": {
      "text/html": [
       "<div>\n",
       "<style scoped>\n",
       "    .dataframe tbody tr th:only-of-type {\n",
       "        vertical-align: middle;\n",
       "    }\n",
       "\n",
       "    .dataframe tbody tr th {\n",
       "        vertical-align: top;\n",
       "    }\n",
       "\n",
       "    .dataframe thead th {\n",
       "        text-align: right;\n",
       "    }\n",
       "</style>\n",
       "<table border=\"1\" class=\"dataframe\">\n",
       "  <thead>\n",
       "    <tr style=\"text-align: right;\">\n",
       "      <th></th>\n",
       "      <th>Input 1</th>\n",
       "      <th>Input 2</th>\n",
       "      <th>Output 1</th>\n",
       "      <th>Output 2</th>\n",
       "    </tr>\n",
       "  </thead>\n",
       "  <tbody>\n",
       "    <tr>\n",
       "      <th>DMU 1</th>\n",
       "      <td>115.29</td>\n",
       "      <td>412.41</td>\n",
       "      <td>117.93</td>\n",
       "      <td>810.51</td>\n",
       "    </tr>\n",
       "    <tr>\n",
       "      <th>DMU 2</th>\n",
       "      <td>115.93</td>\n",
       "      <td>369.50</td>\n",
       "      <td>104.26</td>\n",
       "      <td>340.73</td>\n",
       "    </tr>\n",
       "    <tr>\n",
       "      <th>DMU 3</th>\n",
       "      <td>111.43</td>\n",
       "      <td>418.37</td>\n",
       "      <td>110.93</td>\n",
       "      <td>300.85</td>\n",
       "    </tr>\n",
       "    <tr>\n",
       "      <th>DMU 4</th>\n",
       "      <td>123.87</td>\n",
       "      <td>355.78</td>\n",
       "      <td>119.90</td>\n",
       "      <td>234.46</td>\n",
       "    </tr>\n",
       "    <tr>\n",
       "      <th>DMU 5</th>\n",
       "      <td>106.30</td>\n",
       "      <td>525.76</td>\n",
       "      <td>100.49</td>\n",
       "      <td>256.06</td>\n",
       "    </tr>\n",
       "    <tr>\n",
       "      <th>...</th>\n",
       "      <td>...</td>\n",
       "      <td>...</td>\n",
       "      <td>...</td>\n",
       "      <td>...</td>\n",
       "    </tr>\n",
       "    <tr>\n",
       "      <th>DMU 996</th>\n",
       "      <td>109.41</td>\n",
       "      <td>554.31</td>\n",
       "      <td>107.67</td>\n",
       "      <td>445.62</td>\n",
       "    </tr>\n",
       "    <tr>\n",
       "      <th>DMU 997</th>\n",
       "      <td>109.09</td>\n",
       "      <td>383.50</td>\n",
       "      <td>119.18</td>\n",
       "      <td>538.35</td>\n",
       "    </tr>\n",
       "    <tr>\n",
       "      <th>DMU 998</th>\n",
       "      <td>132.09</td>\n",
       "      <td>268.22</td>\n",
       "      <td>106.52</td>\n",
       "      <td>656.72</td>\n",
       "    </tr>\n",
       "    <tr>\n",
       "      <th>DMU 999</th>\n",
       "      <td>119.90</td>\n",
       "      <td>293.82</td>\n",
       "      <td>114.39</td>\n",
       "      <td>435.82</td>\n",
       "    </tr>\n",
       "    <tr>\n",
       "      <th>DMU 1000</th>\n",
       "      <td>101.62</td>\n",
       "      <td>530.59</td>\n",
       "      <td>108.25</td>\n",
       "      <td>465.02</td>\n",
       "    </tr>\n",
       "  </tbody>\n",
       "</table>\n",
       "<p>1000 rows × 4 columns</p>\n",
       "</div>"
      ],
      "text/plain": [
       "          Input 1  Input 2  Output 1  Output 2\n",
       "DMU 1      115.29   412.41    117.93    810.51\n",
       "DMU 2      115.93   369.50    104.26    340.73\n",
       "DMU 3      111.43   418.37    110.93    300.85\n",
       "DMU 4      123.87   355.78    119.90    234.46\n",
       "DMU 5      106.30   525.76    100.49    256.06\n",
       "...           ...      ...       ...       ...\n",
       "DMU 996    109.41   554.31    107.67    445.62\n",
       "DMU 997    109.09   383.50    119.18    538.35\n",
       "DMU 998    132.09   268.22    106.52    656.72\n",
       "DMU 999    119.90   293.82    114.39    435.82\n",
       "DMU 1000   101.62   530.59    108.25    465.02\n",
       "\n",
       "[1000 rows x 4 columns]"
      ]
     },
     "execution_count": 30,
     "metadata": {},
     "output_type": "execute_result"
    }
   ],
   "source": [
    "S_22 = pd.DataFrame(np.random.multivariate_normal(mean_q, cov_matrix, 1000))\n",
    "S_22.columns = [\"Input \" + str(i + 1) for i in range(m)] + [\"Output \" + str(i + 1) for i in range(s)]\n",
    "S_22.index = [\"DMU \" + str(i + 1) for i in range(len(S_22))]\n",
    "S_22 = S_22.round(2)\n",
    "S_22 "
   ]
  },
  {
   "cell_type": "code",
   "execution_count": 31,
   "id": "790c2e25-320c-4cd1-a163-d1b96815ed76",
   "metadata": {},
   "outputs": [
    {
     "data": {
      "text/plain": [
       "Input 1     0\n",
       "Input 2     0\n",
       "Output 1    0\n",
       "Output 2    0\n",
       "dtype: int64"
      ]
     },
     "execution_count": 31,
     "metadata": {},
     "output_type": "execute_result"
    }
   ],
   "source": [
    "(S_22<=0).sum()"
   ]
  },
  {
   "cell_type": "code",
   "execution_count": 32,
   "id": "b467183a-a695-48c8-93f6-316c04fe8fbb",
   "metadata": {},
   "outputs": [],
   "source": [
    "S_22.to_excel(\"Data/S22.xlsx\")"
   ]
  },
  {
   "cell_type": "markdown",
   "id": "4f05402d-694f-44da-a630-baa71b8916b6",
   "metadata": {},
   "source": [
    "### Unstructured Variance, n_input = 5, n_output = 5 "
   ]
  },
  {
   "cell_type": "code",
   "execution_count": 33,
   "id": "bae7d500-e156-4514-93cf-817cb61240dd",
   "metadata": {},
   "outputs": [],
   "source": [
    "m = n_input = 5\n",
    "s = n_output = 5"
   ]
  },
  {
   "cell_type": "code",
   "execution_count": 34,
   "id": "86800896-0611-4a79-ae82-559a330c3855",
   "metadata": {},
   "outputs": [
    {
     "data": {
      "text/plain": [
       "array([5.94, 7.44, 6.42, 5.9 , 4.81, 6.81, 4.94, 9.03, 9.67, 4.45])"
      ]
     },
     "execution_count": 34,
     "metadata": {},
     "output_type": "execute_result"
    }
   ],
   "source": [
    "np.random.seed(0)\n",
    "x_min = np.random.uniform(1,10, m+s, )\n",
    "x_min"
   ]
  },
  {
   "cell_type": "code",
   "execution_count": 35,
   "id": "884cd842-959b-439b-986c-0db950c72260",
   "metadata": {},
   "outputs": [
    {
     "data": {
      "text/plain": [
       "array([549.26, 715.47, 603.16, 545.34, 424.23, 646.25, 438.15, 891.88, 963.7 , 384.06])"
      ]
     },
     "execution_count": 35,
     "metadata": {},
     "output_type": "execute_result"
    }
   ],
   "source": [
    "np.random.seed(0)\n",
    "delta_x = np.random.uniform(1,1000, m+s)\n",
    "delta_x"
   ]
  },
  {
   "cell_type": "code",
   "execution_count": 36,
   "id": "8ec24d93-135b-4dab-b835-58bd60f01272",
   "metadata": {},
   "outputs": [
    {
     "data": {
      "text/plain": [
       "array([555.2 , 722.91, 609.59, 551.24, 429.04, 653.06, 443.09, 900.91, 973.37, 388.51])"
      ]
     },
     "execution_count": 36,
     "metadata": {},
     "output_type": "execute_result"
    }
   ],
   "source": [
    "x_max = x_min + delta_x\n",
    "x_max"
   ]
  },
  {
   "cell_type": "code",
   "execution_count": 37,
   "id": "8cdc8b8d-7456-4989-a000-7609d3c687fa",
   "metadata": {},
   "outputs": [
    {
     "data": {
      "text/plain": [
       "array([280.57, 365.17, 308.01, 278.57, 216.93, 329.94, 224.01, 454.97, 491.52, 196.48])"
      ]
     },
     "execution_count": 37,
     "metadata": {},
     "output_type": "execute_result"
    }
   ],
   "source": [
    "mean_q = (x_min + x_max)  * 0.5\n",
    "mean_q"
   ]
  },
  {
   "cell_type": "code",
   "execution_count": 38,
   "id": "55c561fc-d7e6-4355-ad03-02e9a55f60d1",
   "metadata": {},
   "outputs": [
    {
     "data": {
      "text/plain": [
       "array([ 83.22, 108.41,  91.39,  82.63,  64.28,  97.92,  66.39, 135.13, 146.02,  58.19])"
      ]
     },
     "execution_count": 38,
     "metadata": {},
     "output_type": "execute_result"
    }
   ],
   "source": [
    "std_max = (x_max - x_min) * 0.5 * (1/3.3)\n",
    "std_max"
   ]
  },
  {
   "cell_type": "code",
   "execution_count": 39,
   "id": "b30ce388-f0e8-4b53-88c4-d98d05cc8801",
   "metadata": {},
   "outputs": [],
   "source": [
    "np.random.seed(0)\n",
    "std_list = []\n",
    "\n",
    "for i in std_max:\n",
    "    std_list.append(np.random.uniform(0,i))"
   ]
  },
  {
   "cell_type": "code",
   "execution_count": 40,
   "id": "16fbe47e-0aa7-4a1c-8919-6d76b53785d4",
   "metadata": {},
   "outputs": [
    {
     "data": {
      "text/plain": [
       "[45.67331505073061,\n",
       " 77.53023080436108,\n",
       " 55.08532230633703,\n",
       " 45.02207100192635,\n",
       " 27.231448547458125,\n",
       " 63.24362427302044,\n",
       " 29.049798803706413,\n",
       " 120.50842406662626,\n",
       " 140.70923224560437,\n",
       " 22.31269886058873]"
      ]
     },
     "execution_count": 40,
     "metadata": {},
     "output_type": "execute_result"
    }
   ],
   "source": [
    "std_list"
   ]
  },
  {
   "cell_type": "code",
   "execution_count": 41,
   "id": "def8a106-306c-43b7-9398-71ec92700f80",
   "metadata": {},
   "outputs": [],
   "source": [
    "cov_matrix_int = []\n",
    "\n",
    "for i in range(m + s):\n",
    "    for j in range(m + s):\n",
    "        \n",
    "        if j>i:\n",
    "            min_ = - std_list[i] *  std_list[j]\n",
    "            max_ = std_list[i] *  std_list[j]\n",
    "            \n",
    "            cov_matrix_int.append((i, j, min_, max_)) "
   ]
  },
  {
   "cell_type": "code",
   "execution_count": 42,
   "id": "c8a9b22c-2e48-4b83-b78d-9713d33b3583",
   "metadata": {},
   "outputs": [
    {
     "data": {
      "text/plain": [
       "[(0, 1, -3541.0626574834428, 3541.0626574834428),\n",
       " (0, 2, -2515.9292803683693, 2515.9292803683693),\n",
       " (0, 3, -2056.307233107345, 2056.307233107345),\n",
       " (0, 4, -1243.7505287958154, 1243.7505287958154),\n",
       " (0, 5, -2888.545976371696, 2888.545976371696),\n",
       " (0, 6, -1326.80061292202, 1326.80061292202),\n",
       " (0, 7, -5504.019218662068, 5504.019218662068),\n",
       " (0, 8, -6426.657094899911, 6426.657094899911),\n",
       " (0, 9, -1019.0949246917469, 1019.0949246917469),\n",
       " (1, 2, -4270.7777523429295, 4270.7777523429295)]"
      ]
     },
     "execution_count": 42,
     "metadata": {},
     "output_type": "execute_result"
    }
   ],
   "source": [
    "cov_matrix_int[:10]"
   ]
  },
  {
   "cell_type": "code",
   "execution_count": 43,
   "id": "5070a6d0-da3a-417d-87b0-a3b04e74aa4a",
   "metadata": {},
   "outputs": [
    {
     "data": {
      "text/plain": [
       "[345.7033518759422,\n",
       " 1082.8024553605733,\n",
       " 422.62614702930296,\n",
       " 111.64696517285961,\n",
       " -441.053244369793]"
      ]
     },
     "execution_count": 43,
     "metadata": {},
     "output_type": "execute_result"
    }
   ],
   "source": [
    "cov_list = []\n",
    "np.random.seed(0)\n",
    "\n",
    "for i in cov_matrix_int:\n",
    "    n = np.random.uniform(i[2],i[3])\n",
    "    cov_list.append(n)\n",
    "cov_list[:5]"
   ]
  },
  {
   "cell_type": "code",
   "execution_count": 44,
   "id": "4571e25a-6307-4d81-87e1-6d8a01e4eec8",
   "metadata": {},
   "outputs": [
    {
     "name": "stdout",
     "output_type": "stream",
     "text": [
      "10\n"
     ]
    },
    {
     "data": {
      "text/plain": [
       "array([[0., 0., 0., 0., 0., 0., 0., 0., 0., 0.],\n",
       "       [0., 0., 0., 0., 0., 0., 0., 0., 0., 0.],\n",
       "       [0., 0., 0., 0., 0., 0., 0., 0., 0., 0.],\n",
       "       [0., 0., 0., 0., 0., 0., 0., 0., 0., 0.],\n",
       "       [0., 0., 0., 0., 0., 0., 0., 0., 0., 0.],\n",
       "       [0., 0., 0., 0., 0., 0., 0., 0., 0., 0.],\n",
       "       [0., 0., 0., 0., 0., 0., 0., 0., 0., 0.],\n",
       "       [0., 0., 0., 0., 0., 0., 0., 0., 0., 0.],\n",
       "       [0., 0., 0., 0., 0., 0., 0., 0., 0., 0.],\n",
       "       [0., 0., 0., 0., 0., 0., 0., 0., 0., 0.]])"
      ]
     },
     "execution_count": 44,
     "metadata": {},
     "output_type": "execute_result"
    }
   ],
   "source": [
    "cov_matrix = np.zeros((m + s, m + s))\n",
    "print(len(cov_matrix))\n",
    "cov_matrix"
   ]
  },
  {
   "cell_type": "code",
   "execution_count": 45,
   "id": "f55b6ef4-bc3c-4b57-b62b-519bebb31031",
   "metadata": {},
   "outputs": [
    {
     "name": "stdout",
     "output_type": "stream",
     "text": [
      "[[ 2086.05   345.7   1082.8    422.63   111.65  -441.05   387.14  -687.04  5035.58   945.03]\n",
      " [  345.7   6010.94  -995.59  2036.57   122.01   667.28  1917.09 -8015.66 -9008.19 -1659.96]\n",
      " [ 1082.8   -995.59  3034.39  1649.83   834.5   2578.09  1531.79  3971.78  -597.15   689.6 ]\n",
      " [  422.63  2036.57  1649.83  2026.99  -936.     796.81  -932.9   4825.14   276.82  -171.46]\n",
      " [  111.65   122.01   834.5   -936.     741.55  -810.97   433.88  -287.8    524.44  -584.77]\n",
      " [ -441.05   667.28  2578.09   796.81  -810.97  3999.76   432.24  1708.65  2081.18  1252.38]\n",
      " [  387.14  1917.09  1531.79  -932.9    433.88   432.24   843.89  1273.01 -1148.54   -81.63]\n",
      " [ -687.04 -8015.66  3971.78  4825.14  -287.8   1708.65  1273.01 14522.28  6702.33 -2364.99]\n",
      " [ 5035.58 -9008.19  -597.15   276.82   524.44  2081.18 -1148.54  6702.33 19799.09  1047.16]\n",
      " [  945.03 -1659.96   689.6   -171.46  -584.77  1252.38   -81.63 -2364.99  1047.16   497.86]]\n"
     ]
    }
   ],
   "source": [
    "k=0\n",
    "l=0\n",
    "for i in range(len(cov_matrix)):\n",
    "    for j in range(len(cov_matrix)):\n",
    "        if j>i:\n",
    "            cov_matrix[i][j] = cov_matrix[j][i] = cov_list[k]\n",
    "            k += 1\n",
    "        if i == j:\n",
    "            cov_matrix[i][j] = np.square(std_list[l]) \n",
    "            l += 1 \n",
    "print(cov_matrix)"
   ]
  },
  {
   "cell_type": "code",
   "execution_count": 46,
   "id": "67ec3771-f34d-46fd-bd1e-d35fece9507b",
   "metadata": {},
   "outputs": [
    {
     "data": {
      "image/png": "[encoded data removed]",
      "text/plain": [
       "<Figure size 1080x576 with 2 Axes>"
      ]
     },
     "metadata": {
      "needs_background": "light"
     },
     "output_type": "display_data"
    }
   ],
   "source": [
    "plt.figure(figsize = (15,8))\n",
    "sns.heatmap(cov_matrix, annot=True, fmt='.2f', cmap='YlGnBu');"
   ]
  },
  {
   "cell_type": "code",
   "execution_count": 47,
   "id": "ac33c976-577d-452f-90d9-01edb93c2b7c",
   "metadata": {},
   "outputs": [
    {
     "name": "stderr",
     "output_type": "stream",
     "text": [
      "/var/folders/6l/c4m0953s1_jgnd_y35l2l7kc0000gp/T/ipykernel_34887/4285728368.py:1: RuntimeWarning: covariance is not positive-semidefinite.\n",
      "  US_55 = pd.DataFrame(np.random.multivariate_normal(mean_q, cov_matrix, 1000))\n"
     ]
    },
    {
     "data": {
      "text/html": [
       "<div>\n",
       "<style scoped>\n",
       "    .dataframe tbody tr th:only-of-type {\n",
       "        vertical-align: middle;\n",
       "    }\n",
       "\n",
       "    .dataframe tbody tr th {\n",
       "        vertical-align: top;\n",
       "    }\n",
       "\n",
       "    .dataframe thead th {\n",
       "        text-align: right;\n",
       "    }\n",
       "</style>\n",
       "<table border=\"1\" class=\"dataframe\">\n",
       "  <thead>\n",
       "    <tr style=\"text-align: right;\">\n",
       "      <th></th>\n",
       "      <th>Input 1</th>\n",
       "      <th>Input 2</th>\n",
       "      <th>Input 3</th>\n",
       "      <th>Input 4</th>\n",
       "      <th>Input 5</th>\n",
       "      <th>Output 1</th>\n",
       "      <th>Output 2</th>\n",
       "      <th>Output 3</th>\n",
       "      <th>Output 4</th>\n",
       "      <th>Output 5</th>\n",
       "    </tr>\n",
       "  </thead>\n",
       "  <tbody>\n",
       "    <tr>\n",
       "      <th>DMU 1</th>\n",
       "      <td>262.93</td>\n",
       "      <td>368.02</td>\n",
       "      <td>311.81</td>\n",
       "      <td>369.14</td>\n",
       "      <td>158.95</td>\n",
       "      <td>373.54</td>\n",
       "      <td>165.68</td>\n",
       "      <td>625.17</td>\n",
       "      <td>620.95</td>\n",
       "      <td>193.29</td>\n",
       "    </tr>\n",
       "    <tr>\n",
       "      <th>DMU 2</th>\n",
       "      <td>267.81</td>\n",
       "      <td>449.71</td>\n",
       "      <td>300.84</td>\n",
       "      <td>194.85</td>\n",
       "      <td>195.14</td>\n",
       "      <td>312.06</td>\n",
       "      <td>154.78</td>\n",
       "      <td>360.41</td>\n",
       "      <td>510.36</td>\n",
       "      <td>291.05</td>\n",
       "    </tr>\n",
       "    <tr>\n",
       "      <th>DMU 3</th>\n",
       "      <td>315.52</td>\n",
       "      <td>467.64</td>\n",
       "      <td>249.35</td>\n",
       "      <td>285.36</td>\n",
       "      <td>251.24</td>\n",
       "      <td>224.69</td>\n",
       "      <td>214.17</td>\n",
       "      <td>333.71</td>\n",
       "      <td>378.87</td>\n",
       "      <td>180.60</td>\n",
       "    </tr>\n",
       "    <tr>\n",
       "      <th>DMU 4</th>\n",
       "      <td>273.62</td>\n",
       "      <td>219.07</td>\n",
       "      <td>245.76</td>\n",
       "      <td>379.23</td>\n",
       "      <td>164.55</td>\n",
       "      <td>345.12</td>\n",
       "      <td>200.72</td>\n",
       "      <td>466.64</td>\n",
       "      <td>560.33</td>\n",
       "      <td>172.56</td>\n",
       "    </tr>\n",
       "    <tr>\n",
       "      <th>DMU 5</th>\n",
       "      <td>323.65</td>\n",
       "      <td>298.21</td>\n",
       "      <td>369.23</td>\n",
       "      <td>380.81</td>\n",
       "      <td>117.59</td>\n",
       "      <td>406.04</td>\n",
       "      <td>218.08</td>\n",
       "      <td>513.41</td>\n",
       "      <td>583.01</td>\n",
       "      <td>152.26</td>\n",
       "    </tr>\n",
       "    <tr>\n",
       "      <th>...</th>\n",
       "      <td>...</td>\n",
       "      <td>...</td>\n",
       "      <td>...</td>\n",
       "      <td>...</td>\n",
       "      <td>...</td>\n",
       "      <td>...</td>\n",
       "      <td>...</td>\n",
       "      <td>...</td>\n",
       "      <td>...</td>\n",
       "      <td>...</td>\n",
       "    </tr>\n",
       "    <tr>\n",
       "      <th>DMU 996</th>\n",
       "      <td>278.92</td>\n",
       "      <td>497.34</td>\n",
       "      <td>292.40</td>\n",
       "      <td>263.17</td>\n",
       "      <td>253.21</td>\n",
       "      <td>349.98</td>\n",
       "      <td>194.55</td>\n",
       "      <td>220.20</td>\n",
       "      <td>296.03</td>\n",
       "      <td>221.31</td>\n",
       "    </tr>\n",
       "    <tr>\n",
       "      <th>DMU 997</th>\n",
       "      <td>302.55</td>\n",
       "      <td>554.88</td>\n",
       "      <td>339.71</td>\n",
       "      <td>409.44</td>\n",
       "      <td>163.39</td>\n",
       "      <td>378.89</td>\n",
       "      <td>279.95</td>\n",
       "      <td>437.76</td>\n",
       "      <td>463.17</td>\n",
       "      <td>138.70</td>\n",
       "    </tr>\n",
       "    <tr>\n",
       "      <th>DMU 998</th>\n",
       "      <td>288.62</td>\n",
       "      <td>519.41</td>\n",
       "      <td>302.51</td>\n",
       "      <td>257.01</td>\n",
       "      <td>243.24</td>\n",
       "      <td>275.98</td>\n",
       "      <td>274.91</td>\n",
       "      <td>275.49</td>\n",
       "      <td>340.32</td>\n",
       "      <td>211.50</td>\n",
       "    </tr>\n",
       "    <tr>\n",
       "      <th>DMU 999</th>\n",
       "      <td>347.93</td>\n",
       "      <td>329.13</td>\n",
       "      <td>187.08</td>\n",
       "      <td>195.77</td>\n",
       "      <td>257.11</td>\n",
       "      <td>293.60</td>\n",
       "      <td>188.74</td>\n",
       "      <td>248.37</td>\n",
       "      <td>516.16</td>\n",
       "      <td>298.74</td>\n",
       "    </tr>\n",
       "    <tr>\n",
       "      <th>DMU 1000</th>\n",
       "      <td>229.75</td>\n",
       "      <td>307.60</td>\n",
       "      <td>293.02</td>\n",
       "      <td>282.45</td>\n",
       "      <td>243.36</td>\n",
       "      <td>207.74</td>\n",
       "      <td>267.35</td>\n",
       "      <td>495.00</td>\n",
       "      <td>468.12</td>\n",
       "      <td>139.20</td>\n",
       "    </tr>\n",
       "  </tbody>\n",
       "</table>\n",
       "<p>1000 rows × 10 columns</p>\n",
       "</div>"
      ],
      "text/plain": [
       "          Input 1  Input 2  Input 3  Input 4  Input 5  Output 1  Output 2  \\\n",
       "DMU 1      262.93   368.02   311.81   369.14   158.95    373.54    165.68   \n",
       "DMU 2      267.81   449.71   300.84   194.85   195.14    312.06    154.78   \n",
       "DMU 3      315.52   467.64   249.35   285.36   251.24    224.69    214.17   \n",
       "DMU 4      273.62   219.07   245.76   379.23   164.55    345.12    200.72   \n",
       "DMU 5      323.65   298.21   369.23   380.81   117.59    406.04    218.08   \n",
       "...           ...      ...      ...      ...      ...       ...       ...   \n",
       "DMU 996    278.92   497.34   292.40   263.17   253.21    349.98    194.55   \n",
       "DMU 997    302.55   554.88   339.71   409.44   163.39    378.89    279.95   \n",
       "DMU 998    288.62   519.41   302.51   257.01   243.24    275.98    274.91   \n",
       "DMU 999    347.93   329.13   187.08   195.77   257.11    293.60    188.74   \n",
       "DMU 1000   229.75   307.60   293.02   282.45   243.36    207.74    267.35   \n",
       "\n",
       "          Output 3  Output 4  Output 5  \n",
       "DMU 1       625.17    620.95    193.29  \n",
       "DMU 2       360.41    510.36    291.05  \n",
       "DMU 3       333.71    378.87    180.60  \n",
       "DMU 4       466.64    560.33    172.56  \n",
       "DMU 5       513.41    583.01    152.26  \n",
       "...            ...       ...       ...  \n",
       "DMU 996     220.20    296.03    221.31  \n",
       "DMU 997     437.76    463.17    138.70  \n",
       "DMU 998     275.49    340.32    211.50  \n",
       "DMU 999     248.37    516.16    298.74  \n",
       "DMU 1000    495.00    468.12    139.20  \n",
       "\n",
       "[1000 rows x 10 columns]"
      ]
     },
     "execution_count": 47,
     "metadata": {},
     "output_type": "execute_result"
    }
   ],
   "source": [
    "US_55 = pd.DataFrame(np.random.multivariate_normal(mean_q, cov_matrix, 1000))\n",
    "US_55.columns = [\"Input \" + str(i + 1) for i in range(m)] + [\"Output \" + str(i + 1) for i in range(s)]\n",
    "US_55.index = [\"DMU \" + str(i + 1) for i in range(len(US_55))]\n",
    "US_55 = US_55.round(2)\n",
    "US_55 "
   ]
  },
  {
   "cell_type": "code",
   "execution_count": 48,
   "id": "45659f0f-e333-44e9-8db0-57c0ff05bdea",
   "metadata": {},
   "outputs": [
    {
     "data": {
      "text/plain": [
       "Input 1     0\n",
       "Input 2     0\n",
       "Input 3     0\n",
       "Input 4     0\n",
       "Input 5     0\n",
       "Output 1    0\n",
       "Output 2    0\n",
       "Output 3    0\n",
       "Output 4    0\n",
       "Output 5    0\n",
       "dtype: int64"
      ]
     },
     "execution_count": 48,
     "metadata": {},
     "output_type": "execute_result"
    }
   ],
   "source": [
    "(US_55<=0).sum()"
   ]
  },
  {
   "cell_type": "code",
   "execution_count": 49,
   "id": "a0a62eef-7d88-4792-8890-438cfcc7700d",
   "metadata": {},
   "outputs": [],
   "source": [
    "US_55.to_excel(\"Data/US55.xlsx\")"
   ]
  },
  {
   "cell_type": "markdown",
   "id": "d0a40522-911b-4158-83fa-9886e996b654",
   "metadata": {},
   "source": [
    "### Structured Variance, n_input = 5, n_output = 5"
   ]
  },
  {
   "cell_type": "code",
   "execution_count": 50,
   "id": "533940e8-3e4c-4d93-bb0d-50f7f66a6236",
   "metadata": {},
   "outputs": [],
   "source": [
    "m = n_input = 5\n",
    "s = n_output = 5"
   ]
  },
  {
   "cell_type": "code",
   "execution_count": 51,
   "id": "0a5aceab-af62-4b48-b3f7-93105ea0564d",
   "metadata": {},
   "outputs": [
    {
     "data": {
      "text/plain": [
       "array([3.01, 5.71, 5.96, 1.41, 4.25, 3.01, 7.2 , 2.47, 1.63, 9.47])"
      ]
     },
     "execution_count": 51,
     "metadata": {},
     "output_type": "execute_result"
    }
   ],
   "source": [
    "np.random.seed(16)\n",
    "x_min = np.random.uniform(1,10, m+s, )\n",
    "x_min"
   ]
  },
  {
   "cell_type": "code",
   "execution_count": 52,
   "id": "f0d4e52b-7cec-4f9d-a8b2-a2c50222f957",
   "metadata": {},
   "outputs": [
    {
     "data": {
      "text/plain": [
       "array([224.07, 523.64, 551.15,  46.56, 361.37, 223.86, 689.04, 164.57,  71.25, 941.07])"
      ]
     },
     "execution_count": 52,
     "metadata": {},
     "output_type": "execute_result"
    }
   ],
   "source": [
    "np.random.seed(16)\n",
    "delta_x = np.random.uniform(1,1000, m+s)\n",
    "delta_x"
   ]
  },
  {
   "cell_type": "code",
   "execution_count": 53,
   "id": "0c93f5bb-5c9e-4df2-a91c-5641d1e3400e",
   "metadata": {},
   "outputs": [
    {
     "data": {
      "text/plain": [
       "array([227.08, 529.35, 557.11,  47.97, 365.61, 226.87, 696.24, 167.04,  72.89, 950.54])"
      ]
     },
     "execution_count": 53,
     "metadata": {},
     "output_type": "execute_result"
    }
   ],
   "source": [
    "x_max = x_min + delta_x\n",
    "x_max"
   ]
  },
  {
   "cell_type": "code",
   "execution_count": 54,
   "id": "a67835fa-77f2-43f6-858d-49e87897b956",
   "metadata": {},
   "outputs": [
    {
     "data": {
      "text/plain": [
       "array([115.04, 267.53, 281.53,  24.69, 184.93, 114.94, 351.72,  84.76,  37.26, 480.  ])"
      ]
     },
     "execution_count": 54,
     "metadata": {},
     "output_type": "execute_result"
    }
   ],
   "source": [
    "mean_q = (x_min + x_max)  * 0.5\n",
    "mean_q"
   ]
  },
  {
   "cell_type": "code",
   "execution_count": 55,
   "id": "9c8d76e5-542b-4714-881a-97d29086cf9e",
   "metadata": {},
   "outputs": [
    {
     "data": {
      "text/plain": [
       "array([ 37.34,  87.27,  91.86,   7.76,  60.23,  37.31, 114.84,  27.43,  11.88, 156.84])"
      ]
     },
     "execution_count": 55,
     "metadata": {},
     "output_type": "execute_result"
    }
   ],
   "source": [
    "std_max = (x_max - x_min) * 0.5 * (1/3)\n",
    "std_max"
   ]
  },
  {
   "cell_type": "code",
   "execution_count": 56,
   "id": "3b8d84ba-607c-4866-92ba-269a7aab684b",
   "metadata": {},
   "outputs": [],
   "source": [
    "np.random.seed(13)\n",
    "std_list = []\n",
    "\n",
    "for i in std_max:\n",
    "    std_list.append(np.random.uniform(0,i))"
   ]
  },
  {
   "cell_type": "code",
   "execution_count": 57,
   "id": "6d0d9230-946a-4254-99a6-6f18101c1073",
   "metadata": {},
   "outputs": [
    {
     "data": {
      "text/plain": [
       "[29.04300981956555,\n",
       " 20.7310211259165,\n",
       " 75.71695595155174,\n",
       " 7.493625986871269,\n",
       " 58.57783715394776,\n",
       " 16.918029747559075,\n",
       " 69.94217612479981,\n",
       " 21.271101635912473,\n",
       " 7.619644163760224,\n",
       " 113.24493108419398]"
      ]
     },
     "execution_count": 57,
     "metadata": {},
     "output_type": "execute_result"
    }
   ],
   "source": [
    "std_list"
   ]
  },
  {
   "cell_type": "code",
   "execution_count": 58,
   "id": "50c3a54f-d759-4453-ab0e-e77b2ddb6534",
   "metadata": {},
   "outputs": [
    {
     "name": "stdout",
     "output_type": "stream",
     "text": [
      "10\n"
     ]
    },
    {
     "data": {
      "text/plain": [
       "array([[0., 0., 0., 0., 0., 0., 0., 0., 0., 0.],\n",
       "       [0., 0., 0., 0., 0., 0., 0., 0., 0., 0.],\n",
       "       [0., 0., 0., 0., 0., 0., 0., 0., 0., 0.],\n",
       "       [0., 0., 0., 0., 0., 0., 0., 0., 0., 0.],\n",
       "       [0., 0., 0., 0., 0., 0., 0., 0., 0., 0.],\n",
       "       [0., 0., 0., 0., 0., 0., 0., 0., 0., 0.],\n",
       "       [0., 0., 0., 0., 0., 0., 0., 0., 0., 0.],\n",
       "       [0., 0., 0., 0., 0., 0., 0., 0., 0., 0.],\n",
       "       [0., 0., 0., 0., 0., 0., 0., 0., 0., 0.],\n",
       "       [0., 0., 0., 0., 0., 0., 0., 0., 0., 0.]])"
      ]
     },
     "execution_count": 58,
     "metadata": {},
     "output_type": "execute_result"
    }
   ],
   "source": [
    "cov_matrix = np.zeros((m + s, m + s))\n",
    "print(len(cov_matrix))\n",
    "cov_matrix"
   ]
  },
  {
   "cell_type": "code",
   "execution_count": 59,
   "id": "4fb53f2e-008a-40ff-b061-f9d0e156848c",
   "metadata": {},
   "outputs": [
    {
     "name": "stdout",
     "output_type": "stream",
     "text": [
      "[[  843.5      0.       0.       0.       0.       0.       0.       0.       0.       0.  ]\n",
      " [    0.     429.78     0.       0.       0.       0.       0.       0.       0.       0.  ]\n",
      " [    0.       0.    5733.06     0.       0.       0.       0.       0.       0.       0.  ]\n",
      " [    0.       0.       0.      56.15     0.       0.       0.       0.       0.       0.  ]\n",
      " [    0.       0.       0.       0.    3431.36     0.       0.       0.       0.       0.  ]\n",
      " [    0.       0.       0.       0.       0.     286.22     0.       0.       0.       0.  ]\n",
      " [    0.       0.       0.       0.       0.       0.    4891.91     0.       0.       0.  ]\n",
      " [    0.       0.       0.       0.       0.       0.       0.     452.46     0.       0.  ]\n",
      " [    0.       0.       0.       0.       0.       0.       0.       0.      58.06     0.  ]\n",
      " [    0.       0.       0.       0.       0.       0.       0.       0.       0.   12824.41]]\n"
     ]
    }
   ],
   "source": [
    "k=0\n",
    "l=0\n",
    "for i in range(len(cov_matrix)):\n",
    "    for j in range(len(cov_matrix)):\n",
    "        if j>i:\n",
    "            cov_matrix[i][j] = cov_matrix[j][i] = 0\n",
    "            k += 1\n",
    "        if i == j:\n",
    "            cov_matrix[i][j] = np.square(std_list[l])\n",
    "            l += 1 \n",
    "np.set_printoptions(suppress=True)\n",
    "print(cov_matrix)"
   ]
  },
  {
   "cell_type": "code",
   "execution_count": 60,
   "id": "3a04ec5a-25bc-4123-b7e4-90b6ac2688d0",
   "metadata": {},
   "outputs": [
    {
     "data": {
      "image/png": "[encoded data removed]",
      "text/plain": [
       "<Figure size 864x576 with 2 Axes>"
      ]
     },
     "metadata": {
      "needs_background": "light"
     },
     "output_type": "display_data"
    }
   ],
   "source": [
    "plt.figure(figsize = (12,8))\n",
    "sns.heatmap(cov_matrix, annot=True, fmt='.2f', cmap='YlGnBu');"
   ]
  },
  {
   "cell_type": "code",
   "execution_count": 61,
   "id": "b0f14b50-c133-410b-8db0-d562fe353cae",
   "metadata": {},
   "outputs": [
    {
     "data": {
      "text/html": [
       "<div>\n",
       "<style scoped>\n",
       "    .dataframe tbody tr th:only-of-type {\n",
       "        vertical-align: middle;\n",
       "    }\n",
       "\n",
       "    .dataframe tbody tr th {\n",
       "        vertical-align: top;\n",
       "    }\n",
       "\n",
       "    .dataframe thead th {\n",
       "        text-align: right;\n",
       "    }\n",
       "</style>\n",
       "<table border=\"1\" class=\"dataframe\">\n",
       "  <thead>\n",
       "    <tr style=\"text-align: right;\">\n",
       "      <th></th>\n",
       "      <th>Input 1</th>\n",
       "      <th>Input 2</th>\n",
       "      <th>Input 3</th>\n",
       "      <th>Input 4</th>\n",
       "      <th>Input 5</th>\n",
       "      <th>Output 1</th>\n",
       "      <th>Output 2</th>\n",
       "      <th>Output 3</th>\n",
       "      <th>Output 4</th>\n",
       "      <th>Output 5</th>\n",
       "    </tr>\n",
       "  </thead>\n",
       "  <tbody>\n",
       "    <tr>\n",
       "      <th>DMU 1</th>\n",
       "      <td>131.39</td>\n",
       "      <td>286.47</td>\n",
       "      <td>202.38</td>\n",
       "      <td>40.80</td>\n",
       "      <td>111.03</td>\n",
       "      <td>120.31</td>\n",
       "      <td>296.53</td>\n",
       "      <td>79.58</td>\n",
       "      <td>38.23</td>\n",
       "      <td>647.46</td>\n",
       "    </tr>\n",
       "    <tr>\n",
       "      <th>DMU 2</th>\n",
       "      <td>142.72</td>\n",
       "      <td>264.52</td>\n",
       "      <td>279.50</td>\n",
       "      <td>22.60</td>\n",
       "      <td>254.68</td>\n",
       "      <td>118.96</td>\n",
       "      <td>282.88</td>\n",
       "      <td>61.63</td>\n",
       "      <td>24.77</td>\n",
       "      <td>548.66</td>\n",
       "    </tr>\n",
       "    <tr>\n",
       "      <th>DMU 3</th>\n",
       "      <td>97.01</td>\n",
       "      <td>272.04</td>\n",
       "      <td>159.24</td>\n",
       "      <td>13.35</td>\n",
       "      <td>295.80</td>\n",
       "      <td>123.64</td>\n",
       "      <td>386.05</td>\n",
       "      <td>75.11</td>\n",
       "      <td>40.29</td>\n",
       "      <td>638.46</td>\n",
       "    </tr>\n",
       "    <tr>\n",
       "      <th>DMU 4</th>\n",
       "      <td>105.69</td>\n",
       "      <td>305.87</td>\n",
       "      <td>289.20</td>\n",
       "      <td>24.67</td>\n",
       "      <td>251.61</td>\n",
       "      <td>113.56</td>\n",
       "      <td>329.53</td>\n",
       "      <td>76.88</td>\n",
       "      <td>29.79</td>\n",
       "      <td>393.48</td>\n",
       "    </tr>\n",
       "    <tr>\n",
       "      <th>DMU 5</th>\n",
       "      <td>103.88</td>\n",
       "      <td>295.52</td>\n",
       "      <td>335.36</td>\n",
       "      <td>28.92</td>\n",
       "      <td>165.44</td>\n",
       "      <td>149.03</td>\n",
       "      <td>383.41</td>\n",
       "      <td>73.48</td>\n",
       "      <td>36.82</td>\n",
       "      <td>453.68</td>\n",
       "    </tr>\n",
       "    <tr>\n",
       "      <th>...</th>\n",
       "      <td>...</td>\n",
       "      <td>...</td>\n",
       "      <td>...</td>\n",
       "      <td>...</td>\n",
       "      <td>...</td>\n",
       "      <td>...</td>\n",
       "      <td>...</td>\n",
       "      <td>...</td>\n",
       "      <td>...</td>\n",
       "      <td>...</td>\n",
       "    </tr>\n",
       "    <tr>\n",
       "      <th>DMU 996</th>\n",
       "      <td>74.76</td>\n",
       "      <td>259.04</td>\n",
       "      <td>256.76</td>\n",
       "      <td>16.60</td>\n",
       "      <td>177.70</td>\n",
       "      <td>127.51</td>\n",
       "      <td>312.34</td>\n",
       "      <td>102.15</td>\n",
       "      <td>33.67</td>\n",
       "      <td>548.07</td>\n",
       "    </tr>\n",
       "    <tr>\n",
       "      <th>DMU 997</th>\n",
       "      <td>93.05</td>\n",
       "      <td>259.66</td>\n",
       "      <td>418.80</td>\n",
       "      <td>21.82</td>\n",
       "      <td>221.48</td>\n",
       "      <td>142.99</td>\n",
       "      <td>351.21</td>\n",
       "      <td>79.78</td>\n",
       "      <td>32.49</td>\n",
       "      <td>432.15</td>\n",
       "    </tr>\n",
       "    <tr>\n",
       "      <th>DMU 998</th>\n",
       "      <td>140.95</td>\n",
       "      <td>244.11</td>\n",
       "      <td>294.52</td>\n",
       "      <td>24.72</td>\n",
       "      <td>220.91</td>\n",
       "      <td>143.84</td>\n",
       "      <td>455.42</td>\n",
       "      <td>98.14</td>\n",
       "      <td>42.78</td>\n",
       "      <td>555.36</td>\n",
       "    </tr>\n",
       "    <tr>\n",
       "      <th>DMU 999</th>\n",
       "      <td>75.47</td>\n",
       "      <td>290.34</td>\n",
       "      <td>313.33</td>\n",
       "      <td>19.03</td>\n",
       "      <td>80.29</td>\n",
       "      <td>138.95</td>\n",
       "      <td>373.96</td>\n",
       "      <td>91.69</td>\n",
       "      <td>42.01</td>\n",
       "      <td>517.36</td>\n",
       "    </tr>\n",
       "    <tr>\n",
       "      <th>DMU 1000</th>\n",
       "      <td>145.33</td>\n",
       "      <td>292.61</td>\n",
       "      <td>391.35</td>\n",
       "      <td>12.79</td>\n",
       "      <td>159.02</td>\n",
       "      <td>126.89</td>\n",
       "      <td>319.35</td>\n",
       "      <td>63.23</td>\n",
       "      <td>30.35</td>\n",
       "      <td>665.77</td>\n",
       "    </tr>\n",
       "  </tbody>\n",
       "</table>\n",
       "<p>1000 rows × 10 columns</p>\n",
       "</div>"
      ],
      "text/plain": [
       "          Input 1  Input 2  Input 3  Input 4  Input 5  Output 1  Output 2  \\\n",
       "DMU 1      131.39   286.47   202.38    40.80   111.03    120.31    296.53   \n",
       "DMU 2      142.72   264.52   279.50    22.60   254.68    118.96    282.88   \n",
       "DMU 3       97.01   272.04   159.24    13.35   295.80    123.64    386.05   \n",
       "DMU 4      105.69   305.87   289.20    24.67   251.61    113.56    329.53   \n",
       "DMU 5      103.88   295.52   335.36    28.92   165.44    149.03    383.41   \n",
       "...           ...      ...      ...      ...      ...       ...       ...   \n",
       "DMU 996     74.76   259.04   256.76    16.60   177.70    127.51    312.34   \n",
       "DMU 997     93.05   259.66   418.80    21.82   221.48    142.99    351.21   \n",
       "DMU 998    140.95   244.11   294.52    24.72   220.91    143.84    455.42   \n",
       "DMU 999     75.47   290.34   313.33    19.03    80.29    138.95    373.96   \n",
       "DMU 1000   145.33   292.61   391.35    12.79   159.02    126.89    319.35   \n",
       "\n",
       "          Output 3  Output 4  Output 5  \n",
       "DMU 1        79.58     38.23    647.46  \n",
       "DMU 2        61.63     24.77    548.66  \n",
       "DMU 3        75.11     40.29    638.46  \n",
       "DMU 4        76.88     29.79    393.48  \n",
       "DMU 5        73.48     36.82    453.68  \n",
       "...            ...       ...       ...  \n",
       "DMU 996     102.15     33.67    548.07  \n",
       "DMU 997      79.78     32.49    432.15  \n",
       "DMU 998      98.14     42.78    555.36  \n",
       "DMU 999      91.69     42.01    517.36  \n",
       "DMU 1000     63.23     30.35    665.77  \n",
       "\n",
       "[1000 rows x 10 columns]"
      ]
     },
     "execution_count": 61,
     "metadata": {},
     "output_type": "execute_result"
    }
   ],
   "source": [
    "S_55 = pd.DataFrame(np.random.multivariate_normal(mean_q, cov_matrix, 1000))\n",
    "S_55.columns = [\"Input \" + str(i + 1) for i in range(m)] + [\"Output \" + str(i + 1) for i in range(s)]\n",
    "S_55.index = [\"DMU \" + str(i + 1) for i in range(len(S_55))]\n",
    "S_55 = S_55.round(2)\n",
    "S_55 "
   ]
  },
  {
   "cell_type": "code",
   "execution_count": 62,
   "id": "7f4281f2-b3c8-4004-aed6-0e34eca54581",
   "metadata": {},
   "outputs": [
    {
     "data": {
      "text/plain": [
       "Input 1     0\n",
       "Input 2     0\n",
       "Input 3     0\n",
       "Input 4     0\n",
       "Input 5     0\n",
       "Output 1    0\n",
       "Output 2    0\n",
       "Output 3    0\n",
       "Output 4    0\n",
       "Output 5    0\n",
       "dtype: int64"
      ]
     },
     "execution_count": 62,
     "metadata": {},
     "output_type": "execute_result"
    }
   ],
   "source": [
    "(S_55<=0).sum()"
   ]
  },
  {
   "cell_type": "code",
   "execution_count": 63,
   "id": "bccd4078-2ce3-46ae-a3aa-d737009a2eef",
   "metadata": {},
   "outputs": [],
   "source": [
    "S_55.to_excel(\"Data/S55.xlsx\")"
   ]
  },
  {
   "cell_type": "code",
   "execution_count": null,
   "id": "3b6cf107-5a95-4183-bfd7-6e30123b2ead",
   "metadata": {},
   "outputs": [],
   "source": []
  }
 ],
 "metadata": {
  "kernelspec": {
   "display_name": "Python 3 (ipykernel)",
   "language": "python",
   "name": "python3"
  },
  "language_info": {
   "codemirror_mode": {
    "name": "ipython",
    "version": 3
   },
   "file_extension": ".py",
   "mimetype": "text/x-python",
   "name": "python",
   "nbconvert_exporter": "python",
   "pygments_lexer": "ipython3",
   "version": "3.8.11"
  }
 },
 "nbformat": 4,
 "nbformat_minor": 5
}

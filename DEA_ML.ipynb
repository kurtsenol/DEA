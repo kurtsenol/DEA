{
 "cells": [
  {
   "cell_type": "code",
   "execution_count": 205,
   "id": "617ae255-43c8-4579-8c38-0ce66a36b9c3",
   "metadata": {},
   "outputs": [],
   "source": [
    "import pandas as pd\n",
    "import numpy as np\n",
    "\n",
    "import matplotlib.pyplot as plt\n",
    "import seaborn as sns\n",
    "\n",
    "from sklearn.pipeline import make_pipeline\n",
    "from sklearn.compose import make_column_transformer\n",
    "from sklearn.model_selection import train_test_split, cross_val_score\n",
    "from sklearn.preprocessing import MinMaxScaler, StandardScaler, PolynomialFeatures\n",
    "from sklearn.metrics import mean_squared_error, r2_score \n",
    "\n",
    "from sklearn.linear_model import LinearRegression, Lasso, Ridge, ElasticNet\n",
    "from sklearn.tree import DecisionTreeRegressor\n",
    "from sklearn.ensemble import GradientBoostingRegressor\n",
    "from sklearn.neighbors import KNeighborsRegressor\n",
    "from sklearn.ensemble import RandomForestRegressor\n",
    "\n",
    "import tensorflow as tf\n",
    "\n",
    "from sklearn.gaussian_process.kernels import (RBF, Matern, RationalQuadratic,ExpSineSquared, DotProduct,ConstantKernel)\n",
    "from sklearn.gaussian_process import GaussianProcessRegressor  \n",
    "from sklearn.svm import SVR"
   ]
  },
  {
   "cell_type": "code",
   "execution_count": 206,
   "id": "a2c11c3c-1292-4538-975e-b88f1ef86854",
   "metadata": {},
   "outputs": [],
   "source": [
    "# def configure_plotly_browser_state():\n",
    "#     import IPython\n",
    "#     display(IPython.core.display.HTML('''\n",
    "#     <script src=\"/static/components/requirejs/require.js\"></script>\n",
    "#       requirejs.config({\n",
    "#         paths: {\n",
    "#           base: '/static/base',\n",
    "#           plotly: '/https://cdn.plot.ly/plotly-1.5.1.min.js?noext',\n",
    "#         },\n",
    "#       });\n",
    "#     </script>\n",
    "#     '''))"
   ]
  },
  {
   "cell_type": "code",
   "execution_count": 207,
   "id": "18110d3d-cf50-447e-b6d8-5ddee717fb7c",
   "metadata": {},
   "outputs": [
    {
     "data": {
      "text/html": [
       "        <script type=\"text/javascript\">\n",
       "        window.PlotlyConfig = {MathJaxConfig: 'local'};\n",
       "        if (window.MathJax) {MathJax.Hub.Config({SVG: {font: \"STIX-Web\"}});}\n",
       "        if (typeof require !== 'undefined') {\n",
       "        require.undef(\"plotly\");\n",
       "        requirejs.config({\n",
       "            paths: {\n",
       "                'plotly': ['https://cdn.plot.ly/plotly-2.6.3.min']\n",
       "            }\n",
       "        });\n",
       "        require(['plotly'], function(Plotly) {\n",
       "            window._Plotly = Plotly;\n",
       "        });\n",
       "        }\n",
       "        </script>\n",
       "        "
      ]
     },
     "metadata": {},
     "output_type": "display_data"
    }
   ],
   "source": [
    "import plotly.express as px\n",
    "import plotly.offline as pyo\n",
    "import plotly.graph_objs as go\n",
    "from plotly.subplots import make_subplots\n",
    "\n",
    "# Set notebook mode to work in offline\n",
    "#pyo.init_notebook_mode()\n",
    "\n",
    "\n",
    "#configure_plotly_browser_state()\n",
    "\n",
    "pyo.init_notebook_mode(connected=True)"
   ]
  },
  {
   "cell_type": "code",
   "execution_count": 208,
   "id": "ba0cc7a8-a9be-4698-a055-c7b01cf7cb22",
   "metadata": {},
   "outputs": [],
   "source": [
    "dea_types = [\"IO_VRS\", \"OO_CRS\", \"OO_VRS\", \"IO_CRS\"]\n",
    "dea_list = [\"US22\", \"S22\",\"US55\",\"S55\"]\n",
    "\n",
    "for t in dea_list:\n",
    "    \n",
    "    exec(f\"{t} = pd.read_excel('Data/{t}.xlsx', index_col=0)\")\n",
    "    \n",
    "    for i, d in enumerate(dea_types):\n",
    "        \n",
    "        exec(f\"{t}_{d} = pd.read_excel('Data/{t}_Solution.xlsx', index_col=0, header=[1], nrows=1000, skiprows = i * 1000 + i * 2)\")\n",
    "        "
   ]
  },
  {
   "cell_type": "code",
   "execution_count": 209,
   "id": "7d0dab47-b883-4b19-a860-97c29474e2c2",
   "metadata": {},
   "outputs": [],
   "source": [
    "dfs_data = [US22, S22, US55, S55]\n",
    "\n",
    "dfs_es = [US22_IO_VRS, US22_OO_CRS, US22_OO_VRS, US22_IO_CRS,\n",
    "      S22_IO_VRS, S22_OO_CRS, S22_OO_VRS, S22_IO_CRS,\n",
    "      US55_IO_VRS, US55_OO_CRS, US55_OO_VRS, US55_IO_CRS,\n",
    "      S55_IO_VRS, S55_OO_CRS, S55_OO_VRS, S55_IO_CRS]"
   ]
  },
  {
   "cell_type": "markdown",
   "id": "97b714c5-6454-4668-ae46-6a6de96d1abe",
   "metadata": {
    "jp-MarkdownHeadingCollapsed": true,
    "tags": []
   },
   "source": [
    "### US22_IO_VRS "
   ]
  },
  {
   "cell_type": "code",
   "execution_count": 210,
   "id": "ca4d138a-4aaa-440e-94ce-661dce334187",
   "metadata": {},
   "outputs": [
    {
     "data": {
      "text/html": [
       "<div>\n",
       "<style scoped>\n",
       "    .dataframe tbody tr th:only-of-type {\n",
       "        vertical-align: middle;\n",
       "    }\n",
       "\n",
       "    .dataframe tbody tr th {\n",
       "        vertical-align: top;\n",
       "    }\n",
       "\n",
       "    .dataframe thead th {\n",
       "        text-align: right;\n",
       "    }\n",
       "</style>\n",
       "<table border=\"1\" class=\"dataframe\">\n",
       "  <thead>\n",
       "    <tr style=\"text-align: right;\">\n",
       "      <th></th>\n",
       "      <th>Input 1</th>\n",
       "      <th>Input 2</th>\n",
       "      <th>Output 1</th>\n",
       "      <th>Output 2</th>\n",
       "    </tr>\n",
       "  </thead>\n",
       "  <tbody>\n",
       "    <tr>\n",
       "      <th>DMU 1</th>\n",
       "      <td>151.42</td>\n",
       "      <td>324.96</td>\n",
       "      <td>303.04</td>\n",
       "      <td>321.64</td>\n",
       "    </tr>\n",
       "    <tr>\n",
       "      <th>DMU 2</th>\n",
       "      <td>234.02</td>\n",
       "      <td>516.63</td>\n",
       "      <td>235.08</td>\n",
       "      <td>248.36</td>\n",
       "    </tr>\n",
       "    <tr>\n",
       "      <th>DMU 3</th>\n",
       "      <td>184.48</td>\n",
       "      <td>510.16</td>\n",
       "      <td>183.22</td>\n",
       "      <td>338.86</td>\n",
       "    </tr>\n",
       "    <tr>\n",
       "      <th>DMU 4</th>\n",
       "      <td>208.45</td>\n",
       "      <td>476.52</td>\n",
       "      <td>251.44</td>\n",
       "      <td>299.36</td>\n",
       "    </tr>\n",
       "    <tr>\n",
       "      <th>DMU 5</th>\n",
       "      <td>357.47</td>\n",
       "      <td>375.87</td>\n",
       "      <td>327.81</td>\n",
       "      <td>282.08</td>\n",
       "    </tr>\n",
       "  </tbody>\n",
       "</table>\n",
       "</div>"
      ],
      "text/plain": [
       "       Input 1  Input 2  Output 1  Output 2\n",
       "DMU 1   151.42   324.96    303.04    321.64\n",
       "DMU 2   234.02   516.63    235.08    248.36\n",
       "DMU 3   184.48   510.16    183.22    338.86\n",
       "DMU 4   208.45   476.52    251.44    299.36\n",
       "DMU 5   357.47   375.87    327.81    282.08"
      ]
     },
     "execution_count": 210,
     "metadata": {},
     "output_type": "execute_result"
    }
   ],
   "source": [
    "X = dfs_data[0]\n",
    "X.head()"
   ]
  },
  {
   "cell_type": "code",
   "execution_count": 211,
   "id": "82cb75d2-e174-4fcd-99b1-d9434f934381",
   "metadata": {},
   "outputs": [
    {
     "data": {
      "text/html": [
       "<div>\n",
       "<style scoped>\n",
       "    .dataframe tbody tr th:only-of-type {\n",
       "        vertical-align: middle;\n",
       "    }\n",
       "\n",
       "    .dataframe tbody tr th {\n",
       "        vertical-align: top;\n",
       "    }\n",
       "\n",
       "    .dataframe thead th {\n",
       "        text-align: right;\n",
       "    }\n",
       "</style>\n",
       "<table border=\"1\" class=\"dataframe\">\n",
       "  <thead>\n",
       "    <tr style=\"text-align: right;\">\n",
       "      <th></th>\n",
       "      <th>Efficiency</th>\n",
       "    </tr>\n",
       "    <tr>\n",
       "      <th>DMU</th>\n",
       "      <th></th>\n",
       "    </tr>\n",
       "  </thead>\n",
       "  <tbody>\n",
       "    <tr>\n",
       "      <th>DMU 1</th>\n",
       "      <td>0.970309</td>\n",
       "    </tr>\n",
       "    <tr>\n",
       "      <th>DMU 2</th>\n",
       "      <td>0.594647</td>\n",
       "    </tr>\n",
       "    <tr>\n",
       "      <th>DMU 3</th>\n",
       "      <td>0.680770</td>\n",
       "    </tr>\n",
       "    <tr>\n",
       "      <th>DMU 4</th>\n",
       "      <td>0.657605</td>\n",
       "    </tr>\n",
       "    <tr>\n",
       "      <th>DMU 5</th>\n",
       "      <td>0.533526</td>\n",
       "    </tr>\n",
       "  </tbody>\n",
       "</table>\n",
       "</div>"
      ],
      "text/plain": [
       "       Efficiency\n",
       "DMU              \n",
       "DMU 1    0.970309\n",
       "DMU 2    0.594647\n",
       "DMU 3    0.680770\n",
       "DMU 4    0.657605\n",
       "DMU 5    0.533526"
      ]
     },
     "execution_count": 211,
     "metadata": {},
     "output_type": "execute_result"
    }
   ],
   "source": [
    "y = dfs_es[0]\n",
    "y.head()"
   ]
  },
  {
   "cell_type": "code",
   "execution_count": 212,
   "id": "262bf01b-ff47-4717-a9a6-f76ade5a1fd1",
   "metadata": {},
   "outputs": [
    {
     "name": "stdout",
     "output_type": "stream",
     "text": [
      "neg_mean_squared_error: -0.002184376088244929\n",
      "neg_root_mean_squared_error: -0.04655673241541188\n",
      "r2: 0.8239035428870964\n"
     ]
    }
   ],
   "source": [
    "scaler = StandardScaler()\n",
    "reg_model = LinearRegression()\n",
    "\n",
    "pipe = make_pipeline(scaler, reg_model)\n",
    "\n",
    "# cross-validate the pipeline\n",
    "print(\"neg_mean_squared_error:\", cross_val_score(pipe, X, y, scoring=\"neg_mean_squared_error\").mean())\n",
    "print(\"neg_root_mean_squared_error:\", cross_val_score(pipe, X, y, scoring=\"neg_root_mean_squared_error\").mean())\n",
    "print(\"r2:\", cross_val_score(pipe, X, y, scoring=\"r2\").mean())"
   ]
  },
  {
   "cell_type": "code",
   "execution_count": 213,
   "id": "da6c2c43-012f-4fee-84d7-eef4a4d1b54f",
   "metadata": {},
   "outputs": [
    {
     "name": "stdout",
     "output_type": "stream",
     "text": [
      "neg_mean_squared_error: -0.001524398332610661\n",
      "neg_root_mean_squared_error: -0.03801230622542087\n",
      "r2: 0.874757281617908\n"
     ]
    }
   ],
   "source": [
    "reg_model = DecisionTreeRegressor()\n",
    "\n",
    "pipe = make_pipeline(scaler, reg_model)\n",
    "\n",
    "# cross-validate the pipeline\n",
    "print(\"neg_mean_squared_error:\", cross_val_score(pipe, X, y, scoring=\"neg_mean_squared_error\").mean())\n",
    "print(\"neg_root_mean_squared_error:\", cross_val_score(pipe, X, y, scoring=\"neg_root_mean_squared_error\").mean())\n",
    "print(\"r2:\", cross_val_score(pipe, X, y, scoring=\"r2\").mean())"
   ]
  },
  {
   "cell_type": "code",
   "execution_count": 214,
   "id": "195c3152-28d2-4908-8c40-2a4710ddf7de",
   "metadata": {},
   "outputs": [
    {
     "name": "stdout",
     "output_type": "stream",
     "text": [
      "neg_mean_squared_error: -0.001227791754644722\n",
      "neg_root_mean_squared_error: -0.03474405006082483\n",
      "r2: 0.9009677565586367\n"
     ]
    }
   ],
   "source": [
    "reg_model = KNeighborsRegressor()\n",
    "\n",
    "pipe = make_pipeline(scaler, reg_model)\n",
    "\n",
    "# cross-validate the pipeline\n",
    "print(\"neg_mean_squared_error:\", cross_val_score(pipe, X, y, scoring=\"neg_mean_squared_error\").mean())\n",
    "print(\"neg_root_mean_squared_error:\", cross_val_score(pipe, X, y, scoring=\"neg_root_mean_squared_error\").mean())\n",
    "print(\"r2:\", cross_val_score(pipe, X, y, scoring=\"r2\").mean())"
   ]
  },
  {
   "cell_type": "code",
   "execution_count": 215,
   "id": "8dfb468d-2313-425f-a287-991f5b8f3963",
   "metadata": {},
   "outputs": [
    {
     "name": "stdout",
     "output_type": "stream",
     "text": [
      "neg_mean_squared_error: -0.0007740661361274666\n",
      "neg_root_mean_squared_error: -0.02715918046586018\n",
      "r2: 0.9368970122521739\n"
     ]
    }
   ],
   "source": [
    "reg_model = RandomForestRegressor()\n",
    "\n",
    "pipe = make_pipeline(scaler, reg_model)\n",
    "\n",
    "\n",
    "# cross-validate the pipeline\n",
    "print(\"neg_mean_squared_error:\", cross_val_score(pipe, X, y.values.ravel(), scoring=\"neg_mean_squared_error\").mean())\n",
    "print(\"neg_root_mean_squared_error:\", cross_val_score(pipe, X, y.values.ravel(), scoring=\"neg_root_mean_squared_error\").mean())\n",
    "print(\"r2:\", cross_val_score(pipe, X, y.values.ravel(), scoring=\"r2\").mean())"
   ]
  },
  {
   "cell_type": "code",
   "execution_count": 216,
   "id": "4c42955b-0385-4425-adc0-5cc18ea10433",
   "metadata": {},
   "outputs": [
    {
     "name": "stdout",
     "output_type": "stream",
     "text": [
      "neg_mean_squared_error: -0.0004424391072447029\n",
      "neg_root_mean_squared_error: -0.020894689309786125\n",
      "r2: 0.9643215740675014\n"
     ]
    }
   ],
   "source": [
    "reg_model = GradientBoostingRegressor()\n",
    "\n",
    "pipe = make_pipeline(scaler, reg_model)\n",
    "\n",
    "# cross-validate the pipeline\n",
    "print(\"neg_mean_squared_error:\", cross_val_score(pipe, X, y.values.ravel(), scoring=\"neg_mean_squared_error\").mean())\n",
    "print(\"neg_root_mean_squared_error:\", cross_val_score(pipe, X, y.values.ravel(), scoring=\"neg_root_mean_squared_error\").mean())\n",
    "print(\"r2:\", cross_val_score(pipe, X, y.values.ravel(), scoring=\"r2\").mean())"
   ]
  },
  {
   "cell_type": "code",
   "execution_count": 217,
   "id": "0c1af85a-5664-49ad-a59a-f13f55e09bb0",
   "metadata": {},
   "outputs": [
    {
     "name": "stdout",
     "output_type": "stream",
     "text": [
      "neg_mean_squared_error: -0.0020419088053296114\n",
      "neg_root_mean_squared_error: -0.04494517338937362\n",
      "r2: 0.8356445647785469\n"
     ]
    }
   ],
   "source": [
    "# Determination of the kernel used and the value lenght_scale at which the optimization process starts\n",
    "kernel = 1.0 * RBF(length_scale=1.0, length_scale_bounds=(1e-2, 1e3))\n",
    "\n",
    "# Application of the regressor (alpha makes a statement about a possible noise of the training data)\n",
    "reg_model = GaussianProcessRegressor(kernel=kernel, alpha=0.1)\n",
    "\n",
    "pipe = make_pipeline(scaler, reg_model)\n",
    "\n",
    "# cross-validate the pipeline\n",
    "print(\"neg_mean_squared_error:\", cross_val_score(pipe, X, y.values.ravel(), scoring=\"neg_mean_squared_error\").mean())\n",
    "print(\"neg_root_mean_squared_error:\", cross_val_score(pipe, X, y.values.ravel(), scoring=\"neg_root_mean_squared_error\").mean())\n",
    "print(\"r2:\", cross_val_score(pipe, X, y.values.ravel(), scoring=\"r2\").mean())"
   ]
  },
  {
   "cell_type": "code",
   "execution_count": 218,
   "id": "5d60350e-9d52-4a56-af3f-d03a2f8f475f",
   "metadata": {},
   "outputs": [
    {
     "name": "stdout",
     "output_type": "stream",
     "text": [
      "neg_mean_squared_error: -0.005015068218399024\n",
      "neg_root_mean_squared_error: -0.07075858991254506\n",
      "r2: 0.5935202489578921\n"
     ]
    }
   ],
   "source": [
    "# Choose regression method and set hyperparameter\n",
    "reg_model=SVR()\n",
    "\n",
    "pipe = make_pipeline(scaler, reg_model)\n",
    "\n",
    "# cross-validate the pipeline\n",
    "print(\"neg_mean_squared_error:\", cross_val_score(pipe, X, y.values.ravel(), scoring=\"neg_mean_squared_error\").mean())\n",
    "print(\"neg_root_mean_squared_error:\", cross_val_score(pipe, X, y.values.ravel(), scoring=\"neg_root_mean_squared_error\").mean())\n",
    "print(\"r2:\", cross_val_score(pipe, X, y.values.ravel(), scoring=\"r2\").mean())"
   ]
  },
  {
   "cell_type": "code",
   "execution_count": 219,
   "id": "b659059d-21d1-47ad-9780-7fd4393bcf3a",
   "metadata": {},
   "outputs": [
    {
     "name": "stdout",
     "output_type": "stream",
     "text": [
      "neg_mean_squared_error: -0.000490490741124167\n",
      "neg_root_mean_squared_error: -0.02207102397618064\n",
      "r2: 0.9603486536955327\n"
     ]
    }
   ],
   "source": [
    "poly = PolynomialFeatures(degree=2)\n",
    "\n",
    "# Choose regression method and set hyperparameter\n",
    "reg_model=GradientBoostingRegressor()\n",
    "\n",
    "pipe = make_pipeline(scaler, poly, reg_model)\n",
    "\n",
    "# cross-validate the pipeline\n",
    "print(\"neg_mean_squared_error:\", cross_val_score(pipe, X, y.values.ravel(), scoring=\"neg_mean_squared_error\").mean())\n",
    "print(\"neg_root_mean_squared_error:\", cross_val_score(pipe, X, y.values.ravel(), scoring=\"neg_root_mean_squared_error\").mean())\n",
    "print(\"r2:\", cross_val_score(pipe, X, y.values.ravel(), scoring=\"r2\").mean())"
   ]
  },
  {
   "cell_type": "code",
   "execution_count": 220,
   "id": "1faaf63b-3a7b-4a1d-9128-262a9cde55f5",
   "metadata": {},
   "outputs": [
    {
     "name": "stdout",
     "output_type": "stream",
     "text": [
      "neg_mean_squared_error: -0.0001745313223957783\n",
      "neg_root_mean_squared_error: -0.013096150727647759\n",
      "r2: 0.9859085110429298\n"
     ]
    }
   ],
   "source": [
    "poly = PolynomialFeatures(degree=3)\n",
    "\n",
    "# Choose regression method and set hyperparameter\n",
    "reg_model=LinearRegression()\n",
    "\n",
    "pipe = make_pipeline(scaler, poly, reg_model)\n",
    "\n",
    "# cross-validate the pipeline\n",
    "print(\"neg_mean_squared_error:\", cross_val_score(pipe, X, y, scoring=\"neg_mean_squared_error\").mean())\n",
    "print(\"neg_root_mean_squared_error:\", cross_val_score(pipe, X, y, scoring=\"neg_root_mean_squared_error\").mean())\n",
    "print(\"r2:\", cross_val_score(pipe, X, y, scoring=\"r2\").mean())"
   ]
  },
  {
   "cell_type": "code",
   "execution_count": 221,
   "id": "f27a1cfb-449d-4b00-ae78-6373cb542f09",
   "metadata": {},
   "outputs": [
    {
     "data": {
      "text/html": [
       "<div>\n",
       "<style scoped>\n",
       "    .dataframe tbody tr th:only-of-type {\n",
       "        vertical-align: middle;\n",
       "    }\n",
       "\n",
       "    .dataframe tbody tr th {\n",
       "        vertical-align: top;\n",
       "    }\n",
       "\n",
       "    .dataframe thead th {\n",
       "        text-align: right;\n",
       "    }\n",
       "</style>\n",
       "<table border=\"1\" class=\"dataframe\">\n",
       "  <thead>\n",
       "    <tr style=\"text-align: right;\">\n",
       "      <th></th>\n",
       "      <th>Predictions</th>\n",
       "      <th>Actuals</th>\n",
       "      <th>Diff</th>\n",
       "    </tr>\n",
       "  </thead>\n",
       "  <tbody>\n",
       "    <tr>\n",
       "      <th>0</th>\n",
       "      <td>0.717139</td>\n",
       "      <td>0.738444</td>\n",
       "      <td>-0.021305</td>\n",
       "    </tr>\n",
       "    <tr>\n",
       "      <th>1</th>\n",
       "      <td>0.741255</td>\n",
       "      <td>0.733762</td>\n",
       "      <td>0.007493</td>\n",
       "    </tr>\n",
       "    <tr>\n",
       "      <th>2</th>\n",
       "      <td>0.725978</td>\n",
       "      <td>0.722304</td>\n",
       "      <td>0.003674</td>\n",
       "    </tr>\n",
       "    <tr>\n",
       "      <th>3</th>\n",
       "      <td>0.532412</td>\n",
       "      <td>0.532461</td>\n",
       "      <td>-0.000049</td>\n",
       "    </tr>\n",
       "    <tr>\n",
       "      <th>4</th>\n",
       "      <td>0.513408</td>\n",
       "      <td>0.516163</td>\n",
       "      <td>-0.002755</td>\n",
       "    </tr>\n",
       "    <tr>\n",
       "      <th>...</th>\n",
       "      <td>...</td>\n",
       "      <td>...</td>\n",
       "      <td>...</td>\n",
       "    </tr>\n",
       "    <tr>\n",
       "      <th>195</th>\n",
       "      <td>0.713032</td>\n",
       "      <td>0.719291</td>\n",
       "      <td>-0.006259</td>\n",
       "    </tr>\n",
       "    <tr>\n",
       "      <th>196</th>\n",
       "      <td>0.658181</td>\n",
       "      <td>0.655715</td>\n",
       "      <td>0.002466</td>\n",
       "    </tr>\n",
       "    <tr>\n",
       "      <th>197</th>\n",
       "      <td>0.587740</td>\n",
       "      <td>0.585884</td>\n",
       "      <td>0.001856</td>\n",
       "    </tr>\n",
       "    <tr>\n",
       "      <th>198</th>\n",
       "      <td>0.783630</td>\n",
       "      <td>0.805055</td>\n",
       "      <td>-0.021426</td>\n",
       "    </tr>\n",
       "    <tr>\n",
       "      <th>199</th>\n",
       "      <td>0.489678</td>\n",
       "      <td>0.482074</td>\n",
       "      <td>0.007604</td>\n",
       "    </tr>\n",
       "  </tbody>\n",
       "</table>\n",
       "<p>200 rows × 3 columns</p>\n",
       "</div>"
      ],
      "text/plain": [
       "     Predictions   Actuals      Diff\n",
       "0       0.717139  0.738444 -0.021305\n",
       "1       0.741255  0.733762  0.007493\n",
       "2       0.725978  0.722304  0.003674\n",
       "3       0.532412  0.532461 -0.000049\n",
       "4       0.513408  0.516163 -0.002755\n",
       "..           ...       ...       ...\n",
       "195     0.713032  0.719291 -0.006259\n",
       "196     0.658181  0.655715  0.002466\n",
       "197     0.587740  0.585884  0.001856\n",
       "198     0.783630  0.805055 -0.021426\n",
       "199     0.489678  0.482074  0.007604\n",
       "\n",
       "[200 rows x 3 columns]"
      ]
     },
     "execution_count": 221,
     "metadata": {},
     "output_type": "execute_result"
    }
   ],
   "source": [
    "X_train, X_test, y_train, y_test = train_test_split(X, y, test_size=0.2, random_state=42)\n",
    "\n",
    "model = pipe.fit(X_train, y_train)\n",
    "prediction = model.predict(X_test)\n",
    "\n",
    "res = pd.DataFrame()\n",
    "res[\"Predictions\"] = pd.Series(prediction.ravel())\n",
    "res[\"Actuals\"] = y_test.values\n",
    "res[\"Diff\"] = res.Predictions - res.Actuals\n",
    "res"
   ]
  },
  {
   "cell_type": "code",
   "execution_count": 222,
   "id": "98a04428-64b3-43d5-bb6f-b61f0ae5e8fc",
   "metadata": {},
   "outputs": [
    {
     "name": "stdout",
     "output_type": "stream",
     "text": [
      "       Predictions     Actuals        Diff\n",
      "count   200.000000  200.000000  200.000000\n",
      "mean      0.677802    0.680477   -0.002675\n",
      "std       0.113849    0.120284    0.016100\n",
      "min       0.467952    0.455656   -0.139690\n",
      "25%       0.585180    0.586770   -0.007160\n",
      "50%       0.661920    0.660770   -0.001561\n",
      "75%       0.733400    0.738383    0.004383\n",
      "max       0.996447    1.000000    0.032153\n"
     ]
    }
   ],
   "source": [
    "print(res.describe())"
   ]
  },
  {
   "cell_type": "code",
   "execution_count": 223,
   "id": "6ba45126-c90b-4b04-8113-f9cf97bb63de",
   "metadata": {},
   "outputs": [
    {
     "data": {
      "application/vnd.plotly.v1+json": {
       "config": {
        "plotlyServerURL": "https://plot.ly"
       },
       "data": [
        {
         "hovertemplate": "Actuals=%{x}<br>Predictions=%{y}<extra></extra>",
         "legendgroup": "",
         "marker": {
          "color": "#636efa",
          "symbol": "circle"
         },
         "mode": "markers",
         "name": "",
         "orientation": "v",
         "showlegend": false,
         "type": "scatter",
         "x": [
          0.7384442,
          0.73376239,
          0.72230384,
          0.53246076,
          0.51616329,
          0.96336483,
          0.67098905,
          0.71171478,
          0.67916698,
          0.74361626,
          0.90528937,
          0.70889569,
          0.51104023,
          0.75194972,
          0.5434895,
          0.69164226,
          0.93743959,
          0.76276188,
          0.81167856,
          0.58469904,
          0.79625676,
          0.65894324,
          1,
          0.5887795,
          0.59797309,
          0.7227172,
          0.86927816,
          0.66087333,
          0.80259969,
          0.56959259,
          0.6483484,
          0.70224112,
          0.51921474,
          0.54753098,
          0.66066764,
          0.71037392,
          0.57979038,
          0.82904739,
          0.54767064,
          0.73361427,
          0.57786739,
          0.62965242,
          0.75661113,
          0.58856543,
          0.59423058,
          0.65445616,
          0.6180638,
          0.67534882,
          0.72684409,
          0.65210758,
          0.59003472,
          0.72993045,
          0.65482257,
          1,
          0.58286615,
          0.48413374,
          0.4601164,
          0.72364259,
          0.74764051,
          0.56104427,
          0.64969212,
          0.5688136,
          0.56834883,
          0.58178173,
          0.55980337,
          0.56374627,
          0.68870019,
          0.56269342,
          0.57866113,
          0.54552189,
          0.53909477,
          0.64895309,
          0.67885294,
          0.57952193,
          0.52761138,
          0.58047194,
          0.61063596,
          0.71339824,
          0.66642786,
          0.5457118,
          0.6616516,
          0.62858972,
          0.85845155,
          0.51554291,
          0.78841538,
          0.73836209,
          0.69420056,
          0.64458675,
          0.78461273,
          0.71516634,
          0.96447129,
          0.80652511,
          0.65947849,
          0.64798891,
          0.65173542,
          0.593676,
          0.57091219,
          0.71173102,
          0.7066877,
          0.57410991,
          0.58706504,
          0.64306354,
          0.58960352,
          0.67878983,
          0.73250484,
          0.47530942,
          0.57891929,
          0.61411078,
          0.68392306,
          0.60427085,
          0.53960483,
          0.72151207,
          0.86488199,
          0.68967942,
          0.71040288,
          0.57661682,
          1,
          1,
          0.79628407,
          0.71768808,
          0.75660264,
          0.7105446,
          0.61643514,
          0.71130736,
          0.5978892,
          0.7417454,
          0.61414542,
          0.59066643,
          0.70533936,
          0.74946577,
          0.57567461,
          0.81205372,
          0.61245114,
          0.60764739,
          0.87135304,
          0.45565628,
          0.66412937,
          0.6730554,
          0.54628545,
          0.68098005,
          0.55508632,
          0.6024248,
          0.7660951,
          0.6610094,
          0.85395965,
          0.98213417,
          0.72406364,
          0.66948785,
          0.80151889,
          0.67321311,
          0.96864799,
          0.58006283,
          0.5917353,
          0.75478667,
          0.75719697,
          0.63153449,
          0.73633785,
          0.69494143,
          0.6561177,
          0.56617759,
          0.70182301,
          0.51625621,
          0.79404039,
          0.64084632,
          0.86321305,
          0.92227219,
          0.63553279,
          0.77406185,
          0.62712654,
          0.64918999,
          0.53934719,
          0.57750935,
          0.64216181,
          0.7263451,
          0.62201419,
          0.77574627,
          0.94320709,
          0.55437257,
          0.65797636,
          0.72858291,
          0.52264911,
          0.9510686,
          0.61501818,
          0.82954756,
          0.73433167,
          0.88660721,
          0.61332524,
          1,
          0.79635784,
          0.8254783,
          0.65226798,
          0.61819229,
          0.56541682,
          0.59306312,
          0.57863281,
          0.71929123,
          0.65571471,
          0.58588369,
          0.80505535,
          0.48207362
         ],
         "xaxis": "x",
         "y": [
          0.7171393427892044,
          0.7412554615342188,
          0.7259778789532076,
          0.5324121488043467,
          0.5134083624047064,
          0.925930175167997,
          0.6678565751108283,
          0.7051972553917637,
          0.6596213398966417,
          0.7306103584232702,
          0.863616189131033,
          0.7021940985235027,
          0.5321982676212806,
          0.7292315300905975,
          0.547688921290745,
          0.6974733143168836,
          0.8915721632689425,
          0.7698698442705709,
          0.8158639237988414,
          0.5782056027138883,
          0.8018250058497889,
          0.6612613272216165,
          0.989722368584431,
          0.5834756902110154,
          0.6041434790994413,
          0.7265491395931,
          0.8569963622909813,
          0.649073326438086,
          0.7828276174713323,
          0.5663083203186412,
          0.6354394416561914,
          0.6985329117907031,
          0.5173579788085283,
          0.5599824456162943,
          0.6638321960442484,
          0.7070071979206696,
          0.5962766592238324,
          0.8120821724072783,
          0.5410363542812973,
          0.7581148269692408,
          0.5778544792772782,
          0.6428599085440111,
          0.7568682413894959,
          0.5886354755993858,
          0.5925473236818366,
          0.6595876216786889,
          0.6123357077194477,
          0.6648405404521284,
          0.7269702705295443,
          0.6450907885945222,
          0.5790250161906427,
          0.7324947050247205,
          0.6589666571449253,
          0.9964472708403314,
          0.5779251479918073,
          0.4756749586867979,
          0.469860395859067,
          0.7133651986391125,
          0.7323031496828343,
          0.5586400570031296,
          0.6572419670641341,
          0.5617092480401069,
          0.5694368276972708,
          0.5814161344144742,
          0.5510095506751747,
          0.5699768025895176,
          0.6833138820662927,
          0.5583143567556764,
          0.5809804832564041,
          0.547447256703135,
          0.5614581286175431,
          0.6735568863225365,
          0.6861041252174435,
          0.5944716374391443,
          0.517635593271161,
          0.5834160553263474,
          0.6088767461434803,
          0.7312742814067563,
          0.6660189186802227,
          0.558806369387341,
          0.6615259290695673,
          0.6414253875522168,
          0.8479023562629049,
          0.5221186993661211,
          0.8038243018025878,
          0.7705153002179439,
          0.7239047675687175,
          0.6326880055510132,
          0.7843340462745219,
          0.7245181235292633,
          0.8247810498835864,
          0.796964209188653,
          0.6623150367466688,
          0.6569024023027691,
          0.6566677917160062,
          0.5972355784485355,
          0.5833279619450716,
          0.7072362199905379,
          0.7055026666858774,
          0.576769333014105,
          0.5856266857798217,
          0.6409215410481611,
          0.5835577575674132,
          0.6714614976745952,
          0.7129277636159697,
          0.4716410113269506,
          0.5784992719591701,
          0.6169531918443832,
          0.6793199729748248,
          0.6064534649830258,
          0.5401621158675238,
          0.7286941637544012,
          0.8844219758481707,
          0.6838631777949157,
          0.7227688220360518,
          0.5967792173211333,
          0.9806884429227283,
          0.9333369165924854,
          0.7800855507744744,
          0.7205159963438639,
          0.7410017903468913,
          0.7178674504449977,
          0.6192258256377902,
          0.6975687830315253,
          0.5951272005888618,
          0.7214174275819418,
          0.6041911871344593,
          0.5838411906565002,
          0.6929013001105472,
          0.7398062742701921,
          0.5711336293494118,
          0.8152477133204875,
          0.6083860930523375,
          0.6029994652443074,
          0.8673477800102825,
          0.467952432321897,
          0.6721621257532242,
          0.6782712429436657,
          0.5518332612016151,
          0.6812535802422788,
          0.5488432063951858,
          0.5929308345718132,
          0.7845630884943994,
          0.6517631843971428,
          0.8507561378018853,
          0.9609524808594678,
          0.717254738520972,
          0.6768653663153146,
          0.79821471582236,
          0.6745259040095603,
          0.958478725802872,
          0.5743019411104991,
          0.58879966103036,
          0.7608267194927353,
          0.7639439999626347,
          0.639987063618118,
          0.7378588412638973,
          0.6960745426162097,
          0.6551304336165067,
          0.5626561027454413,
          0.6910437446824259,
          0.5232287880495147,
          0.7966290909332567,
          0.6328575863451624,
          0.8650716291103768,
          0.8805921447840199,
          0.6385086880320948,
          0.7678349708567549,
          0.6249872721300263,
          0.6455320115605819,
          0.5306689095224454,
          0.5727595011753487,
          0.6573647483661159,
          0.7279594625345691,
          0.626019914972843,
          0.7560299325706283,
          0.9273698660528109,
          0.565357650112025,
          0.6556279892496428,
          0.7305864579196233,
          0.5233466141251716,
          0.9432848971686598,
          0.612622423811237,
          0.8282406642597065,
          0.7361166931472436,
          0.8815186286551788,
          0.6143502179212196,
          0.9519423559283323,
          0.7862411721464533,
          0.8206831363666869,
          0.6665101288636699,
          0.6383812551857722,
          0.5736142848869797,
          0.5860069787927454,
          0.5619190679411771,
          0.7130321511867763,
          0.6581806289078458,
          0.5877396746652862,
          0.7836296472045348,
          0.4896778033549679
         ],
         "yaxis": "y"
        }
       ],
       "layout": {
        "autosize": false,
        "height": 500,
        "legend": {
         "tracegroupgap": 0
        },
        "margin": {
         "t": 60
        },
        "template": {
         "data": {
          "bar": [
           {
            "error_x": {
             "color": "#2a3f5f"
            },
            "error_y": {
             "color": "#2a3f5f"
            },
            "marker": {
             "line": {
              "color": "#E5ECF6",
              "width": 0.5
             },
             "pattern": {
              "fillmode": "overlay",
              "size": 10,
              "solidity": 0.2
             }
            },
            "type": "bar"
           }
          ],
          "barpolar": [
           {
            "marker": {
             "line": {
              "color": "#E5ECF6",
              "width": 0.5
             },
             "pattern": {
              "fillmode": "overlay",
              "size": 10,
              "solidity": 0.2
             }
            },
            "type": "barpolar"
           }
          ],
          "carpet": [
           {
            "aaxis": {
             "endlinecolor": "#2a3f5f",
             "gridcolor": "white",
             "linecolor": "white",
             "minorgridcolor": "white",
             "startlinecolor": "#2a3f5f"
            },
            "baxis": {
             "endlinecolor": "#2a3f5f",
             "gridcolor": "white",
             "linecolor": "white",
             "minorgridcolor": "white",
             "startlinecolor": "#2a3f5f"
            },
            "type": "carpet"
           }
          ],
          "choropleth": [
           {
            "colorbar": {
             "outlinewidth": 0,
             "ticks": ""
            },
            "type": "choropleth"
           }
          ],
          "contour": [
           {
            "colorbar": {
             "outlinewidth": 0,
             "ticks": ""
            },
            "colorscale": [
             [
              0,
              "#0d0887"
             ],
             [
              0.1111111111111111,
              "#46039f"
             ],
             [
              0.2222222222222222,
              "#7201a8"
             ],
             [
              0.3333333333333333,
              "#9c179e"
             ],
             [
              0.4444444444444444,
              "#bd3786"
             ],
             [
              0.5555555555555556,
              "#d8576b"
             ],
             [
              0.6666666666666666,
              "#ed7953"
             ],
             [
              0.7777777777777778,
              "#fb9f3a"
             ],
             [
              0.8888888888888888,
              "#fdca26"
             ],
             [
              1,
              "#f0f921"
             ]
            ],
            "type": "contour"
           }
          ],
          "contourcarpet": [
           {
            "colorbar": {
             "outlinewidth": 0,
             "ticks": ""
            },
            "type": "contourcarpet"
           }
          ],
          "heatmap": [
           {
            "colorbar": {
             "outlinewidth": 0,
             "ticks": ""
            },
            "colorscale": [
             [
              0,
              "#0d0887"
             ],
             [
              0.1111111111111111,
              "#46039f"
             ],
             [
              0.2222222222222222,
              "#7201a8"
             ],
             [
              0.3333333333333333,
              "#9c179e"
             ],
             [
              0.4444444444444444,
              "#bd3786"
             ],
             [
              0.5555555555555556,
              "#d8576b"
             ],
             [
              0.6666666666666666,
              "#ed7953"
             ],
             [
              0.7777777777777778,
              "#fb9f3a"
             ],
             [
              0.8888888888888888,
              "#fdca26"
             ],
             [
              1,
              "#f0f921"
             ]
            ],
            "type": "heatmap"
           }
          ],
          "heatmapgl": [
           {
            "colorbar": {
             "outlinewidth": 0,
             "ticks": ""
            },
            "colorscale": [
             [
              0,
              "#0d0887"
             ],
             [
              0.1111111111111111,
              "#46039f"
             ],
             [
              0.2222222222222222,
              "#7201a8"
             ],
             [
              0.3333333333333333,
              "#9c179e"
             ],
             [
              0.4444444444444444,
              "#bd3786"
             ],
             [
              0.5555555555555556,
              "#d8576b"
             ],
             [
              0.6666666666666666,
              "#ed7953"
             ],
             [
              0.7777777777777778,
              "#fb9f3a"
             ],
             [
              0.8888888888888888,
              "#fdca26"
             ],
             [
              1,
              "#f0f921"
             ]
            ],
            "type": "heatmapgl"
           }
          ],
          "histogram": [
           {
            "marker": {
             "pattern": {
              "fillmode": "overlay",
              "size": 10,
              "solidity": 0.2
             }
            },
            "type": "histogram"
           }
          ],
          "histogram2d": [
           {
            "colorbar": {
             "outlinewidth": 0,
             "ticks": ""
            },
            "colorscale": [
             [
              0,
              "#0d0887"
             ],
             [
              0.1111111111111111,
              "#46039f"
             ],
             [
              0.2222222222222222,
              "#7201a8"
             ],
             [
              0.3333333333333333,
              "#9c179e"
             ],
             [
              0.4444444444444444,
              "#bd3786"
             ],
             [
              0.5555555555555556,
              "#d8576b"
             ],
             [
              0.6666666666666666,
              "#ed7953"
             ],
             [
              0.7777777777777778,
              "#fb9f3a"
             ],
             [
              0.8888888888888888,
              "#fdca26"
             ],
             [
              1,
              "#f0f921"
             ]
            ],
            "type": "histogram2d"
           }
          ],
          "histogram2dcontour": [
           {
            "colorbar": {
             "outlinewidth": 0,
             "ticks": ""
            },
            "colorscale": [
             [
              0,
              "#0d0887"
             ],
             [
              0.1111111111111111,
              "#46039f"
             ],
             [
              0.2222222222222222,
              "#7201a8"
             ],
             [
              0.3333333333333333,
              "#9c179e"
             ],
             [
              0.4444444444444444,
              "#bd3786"
             ],
             [
              0.5555555555555556,
              "#d8576b"
             ],
             [
              0.6666666666666666,
              "#ed7953"
             ],
             [
              0.7777777777777778,
              "#fb9f3a"
             ],
             [
              0.8888888888888888,
              "#fdca26"
             ],
             [
              1,
              "#f0f921"
             ]
            ],
            "type": "histogram2dcontour"
           }
          ],
          "mesh3d": [
           {
            "colorbar": {
             "outlinewidth": 0,
             "ticks": ""
            },
            "type": "mesh3d"
           }
          ],
          "parcoords": [
           {
            "line": {
             "colorbar": {
              "outlinewidth": 0,
              "ticks": ""
             }
            },
            "type": "parcoords"
           }
          ],
          "pie": [
           {
            "automargin": true,
            "type": "pie"
           }
          ],
          "scatter": [
           {
            "marker": {
             "colorbar": {
              "outlinewidth": 0,
              "ticks": ""
             }
            },
            "type": "scatter"
           }
          ],
          "scatter3d": [
           {
            "line": {
             "colorbar": {
              "outlinewidth": 0,
              "ticks": ""
             }
            },
            "marker": {
             "colorbar": {
              "outlinewidth": 0,
              "ticks": ""
             }
            },
            "type": "scatter3d"
           }
          ],
          "scattercarpet": [
           {
            "marker": {
             "colorbar": {
              "outlinewidth": 0,
              "ticks": ""
             }
            },
            "type": "scattercarpet"
           }
          ],
          "scattergeo": [
           {
            "marker": {
             "colorbar": {
              "outlinewidth": 0,
              "ticks": ""
             }
            },
            "type": "scattergeo"
           }
          ],
          "scattergl": [
           {
            "marker": {
             "colorbar": {
              "outlinewidth": 0,
              "ticks": ""
             }
            },
            "type": "scattergl"
           }
          ],
          "scattermapbox": [
           {
            "marker": {
             "colorbar": {
              "outlinewidth": 0,
              "ticks": ""
             }
            },
            "type": "scattermapbox"
           }
          ],
          "scatterpolar": [
           {
            "marker": {
             "colorbar": {
              "outlinewidth": 0,
              "ticks": ""
             }
            },
            "type": "scatterpolar"
           }
          ],
          "scatterpolargl": [
           {
            "marker": {
             "colorbar": {
              "outlinewidth": 0,
              "ticks": ""
             }
            },
            "type": "scatterpolargl"
           }
          ],
          "scatterternary": [
           {
            "marker": {
             "colorbar": {
              "outlinewidth": 0,
              "ticks": ""
             }
            },
            "type": "scatterternary"
           }
          ],
          "surface": [
           {
            "colorbar": {
             "outlinewidth": 0,
             "ticks": ""
            },
            "colorscale": [
             [
              0,
              "#0d0887"
             ],
             [
              0.1111111111111111,
              "#46039f"
             ],
             [
              0.2222222222222222,
              "#7201a8"
             ],
             [
              0.3333333333333333,
              "#9c179e"
             ],
             [
              0.4444444444444444,
              "#bd3786"
             ],
             [
              0.5555555555555556,
              "#d8576b"
             ],
             [
              0.6666666666666666,
              "#ed7953"
             ],
             [
              0.7777777777777778,
              "#fb9f3a"
             ],
             [
              0.8888888888888888,
              "#fdca26"
             ],
             [
              1,
              "#f0f921"
             ]
            ],
            "type": "surface"
           }
          ],
          "table": [
           {
            "cells": {
             "fill": {
              "color": "#EBF0F8"
             },
             "line": {
              "color": "white"
             }
            },
            "header": {
             "fill": {
              "color": "#C8D4E3"
             },
             "line": {
              "color": "white"
             }
            },
            "type": "table"
           }
          ]
         },
         "layout": {
          "annotationdefaults": {
           "arrowcolor": "#2a3f5f",
           "arrowhead": 0,
           "arrowwidth": 1
          },
          "autotypenumbers": "strict",
          "coloraxis": {
           "colorbar": {
            "outlinewidth": 0,
            "ticks": ""
           }
          },
          "colorscale": {
           "diverging": [
            [
             0,
             "#8e0152"
            ],
            [
             0.1,
             "#c51b7d"
            ],
            [
             0.2,
             "#de77ae"
            ],
            [
             0.3,
             "#f1b6da"
            ],
            [
             0.4,
             "#fde0ef"
            ],
            [
             0.5,
             "#f7f7f7"
            ],
            [
             0.6,
             "#e6f5d0"
            ],
            [
             0.7,
             "#b8e186"
            ],
            [
             0.8,
             "#7fbc41"
            ],
            [
             0.9,
             "#4d9221"
            ],
            [
             1,
             "#276419"
            ]
           ],
           "sequential": [
            [
             0,
             "#0d0887"
            ],
            [
             0.1111111111111111,
             "#46039f"
            ],
            [
             0.2222222222222222,
             "#7201a8"
            ],
            [
             0.3333333333333333,
             "#9c179e"
            ],
            [
             0.4444444444444444,
             "#bd3786"
            ],
            [
             0.5555555555555556,
             "#d8576b"
            ],
            [
             0.6666666666666666,
             "#ed7953"
            ],
            [
             0.7777777777777778,
             "#fb9f3a"
            ],
            [
             0.8888888888888888,
             "#fdca26"
            ],
            [
             1,
             "#f0f921"
            ]
           ],
           "sequentialminus": [
            [
             0,
             "#0d0887"
            ],
            [
             0.1111111111111111,
             "#46039f"
            ],
            [
             0.2222222222222222,
             "#7201a8"
            ],
            [
             0.3333333333333333,
             "#9c179e"
            ],
            [
             0.4444444444444444,
             "#bd3786"
            ],
            [
             0.5555555555555556,
             "#d8576b"
            ],
            [
             0.6666666666666666,
             "#ed7953"
            ],
            [
             0.7777777777777778,
             "#fb9f3a"
            ],
            [
             0.8888888888888888,
             "#fdca26"
            ],
            [
             1,
             "#f0f921"
            ]
           ]
          },
          "colorway": [
           "#636efa",
           "#EF553B",
           "#00cc96",
           "#ab63fa",
           "#FFA15A",
           "#19d3f3",
           "#FF6692",
           "#B6E880",
           "#FF97FF",
           "#FECB52"
          ],
          "font": {
           "color": "#2a3f5f"
          },
          "geo": {
           "bgcolor": "white",
           "lakecolor": "white",
           "landcolor": "#E5ECF6",
           "showlakes": true,
           "showland": true,
           "subunitcolor": "white"
          },
          "hoverlabel": {
           "align": "left"
          },
          "hovermode": "closest",
          "mapbox": {
           "style": "light"
          },
          "paper_bgcolor": "white",
          "plot_bgcolor": "#E5ECF6",
          "polar": {
           "angularaxis": {
            "gridcolor": "white",
            "linecolor": "white",
            "ticks": ""
           },
           "bgcolor": "#E5ECF6",
           "radialaxis": {
            "gridcolor": "white",
            "linecolor": "white",
            "ticks": ""
           }
          },
          "scene": {
           "xaxis": {
            "backgroundcolor": "#E5ECF6",
            "gridcolor": "white",
            "gridwidth": 2,
            "linecolor": "white",
            "showbackground": true,
            "ticks": "",
            "zerolinecolor": "white"
           },
           "yaxis": {
            "backgroundcolor": "#E5ECF6",
            "gridcolor": "white",
            "gridwidth": 2,
            "linecolor": "white",
            "showbackground": true,
            "ticks": "",
            "zerolinecolor": "white"
           },
           "zaxis": {
            "backgroundcolor": "#E5ECF6",
            "gridcolor": "white",
            "gridwidth": 2,
            "linecolor": "white",
            "showbackground": true,
            "ticks": "",
            "zerolinecolor": "white"
           }
          },
          "shapedefaults": {
           "line": {
            "color": "#2a3f5f"
           }
          },
          "ternary": {
           "aaxis": {
            "gridcolor": "white",
            "linecolor": "white",
            "ticks": ""
           },
           "baxis": {
            "gridcolor": "white",
            "linecolor": "white",
            "ticks": ""
           },
           "bgcolor": "#E5ECF6",
           "caxis": {
            "gridcolor": "white",
            "linecolor": "white",
            "ticks": ""
           }
          },
          "title": {
           "x": 0.05
          },
          "xaxis": {
           "automargin": true,
           "gridcolor": "white",
           "linecolor": "white",
           "ticks": "",
           "title": {
            "standoff": 15
           },
           "zerolinecolor": "white",
           "zerolinewidth": 2
          },
          "yaxis": {
           "automargin": true,
           "gridcolor": "white",
           "linecolor": "white",
           "ticks": "",
           "title": {
            "standoff": 15
           },
           "zerolinecolor": "white",
           "zerolinewidth": 2
          }
         }
        },
        "title": {
         "text": "Predictions - Actuals Comparison"
        },
        "width": 800,
        "xaxis": {
         "anchor": "y",
         "autorange": true,
         "domain": [
          0,
          1
         ],
         "range": [
          0.421425342462621,
          1.034230937537379
         ],
         "title": {
          "text": "Actuals"
         },
         "type": "linear"
        },
        "yaxis": {
         "anchor": "x",
         "autorange": true,
         "domain": [
          0,
          1
         ],
         "range": [
          0.4316340666417202,
          1.0327656365205082
         ],
         "title": {
          "text": "Predictions"
         },
         "type": "linear"
        }
       }
      },
      "text/html": [
       "<div>                            <div id=\"19d93430-ba84-4fa3-a96c-ea0622a76754\" class=\"plotly-graph-div\" style=\"height:500px; width:800px;\"></div>            <script type=\"text/javascript\">                require([\"plotly\"], function(Plotly) {                    window.PLOTLYENV=window.PLOTLYENV || {};                                    if (document.getElementById(\"19d93430-ba84-4fa3-a96c-ea0622a76754\")) {                    Plotly.newPlot(                        \"19d93430-ba84-4fa3-a96c-ea0622a76754\",                        [{\"hovertemplate\":\"Actuals=%{x}<br>Predictions=%{y}<extra></extra>\",\"legendgroup\":\"\",\"marker\":{\"color\":\"#636efa\",\"symbol\":\"circle\"},\"mode\":\"markers\",\"name\":\"\",\"orientation\":\"v\",\"showlegend\":false,\"x\":[0.7384442,0.73376239,0.72230384,0.53246076,0.51616329,0.96336483,0.67098905,0.71171478,0.67916698,0.74361626,0.90528937,0.70889569,0.51104023,0.75194972,0.5434895,0.69164226,0.93743959,0.76276188,0.81167856,0.58469904,0.79625676,0.65894324,1.0,0.5887795,0.59797309,0.7227172,0.86927816,0.66087333,0.80259969,0.56959259,0.6483484,0.70224112,0.51921474,0.54753098,0.66066764,0.71037392,0.57979038,0.82904739,0.54767064,0.73361427,0.57786739,0.62965242,0.75661113,0.58856543,0.59423058,0.65445616,0.6180638,0.67534882,0.72684409,0.65210758,0.59003472,0.72993045,0.65482257,1.0,0.58286615,0.48413374,0.4601164,0.72364259,0.74764051,0.56104427,0.64969212,0.5688136,0.56834883,0.58178173,0.55980337,0.56374627,0.68870019,0.56269342,0.57866113,0.54552189,0.53909477,0.64895309,0.67885294,0.57952193,0.52761138,0.58047194,0.61063596,0.71339824,0.66642786,0.5457118,0.6616516,0.62858972,0.85845155,0.51554291,0.78841538,0.73836209,0.69420056,0.64458675,0.78461273,0.71516634,0.96447129,0.80652511,0.65947849,0.64798891,0.65173542,0.593676,0.57091219,0.71173102,0.7066877,0.57410991,0.58706504,0.64306354,0.58960352,0.67878983,0.73250484,0.47530942,0.57891929,0.61411078,0.68392306,0.60427085,0.53960483,0.72151207,0.86488199,0.68967942,0.71040288,0.57661682,1.0,1.0,0.79628407,0.71768808,0.75660264,0.7105446,0.61643514,0.71130736,0.5978892,0.7417454,0.61414542,0.59066643,0.70533936,0.74946577,0.57567461,0.81205372,0.61245114,0.60764739,0.87135304,0.45565628,0.66412937,0.6730554,0.54628545,0.68098005,0.55508632,0.6024248,0.7660951,0.6610094,0.85395965,0.98213417,0.72406364,0.66948785,0.80151889,0.67321311,0.96864799,0.58006283,0.5917353,0.75478667,0.75719697,0.63153449,0.73633785,0.69494143,0.6561177,0.56617759,0.70182301,0.51625621,0.79404039,0.64084632,0.86321305,0.92227219,0.63553279,0.77406185,0.62712654,0.64918999,0.53934719,0.57750935,0.64216181,0.7263451,0.62201419,0.77574627,0.94320709,0.55437257,0.65797636,0.72858291,0.52264911,0.9510686,0.61501818,0.82954756,0.73433167,0.88660721,0.61332524,1.0,0.79635784,0.8254783,0.65226798,0.61819229,0.56541682,0.59306312,0.57863281,0.71929123,0.65571471,0.58588369,0.80505535,0.48207362],\"xaxis\":\"x\",\"y\":[0.7171393427892044,0.7412554615342188,0.7259778789532076,0.5324121488043467,0.5134083624047064,0.925930175167997,0.6678565751108283,0.7051972553917637,0.6596213398966417,0.7306103584232702,0.863616189131033,0.7021940985235027,0.5321982676212806,0.7292315300905975,0.547688921290745,0.6974733143168836,0.8915721632689425,0.7698698442705709,0.8158639237988414,0.5782056027138883,0.8018250058497889,0.6612613272216165,0.989722368584431,0.5834756902110154,0.6041434790994413,0.7265491395931,0.8569963622909813,0.649073326438086,0.7828276174713323,0.5663083203186412,0.6354394416561914,0.6985329117907031,0.5173579788085283,0.5599824456162943,0.6638321960442484,0.7070071979206696,0.5962766592238324,0.8120821724072783,0.5410363542812973,0.7581148269692408,0.5778544792772782,0.6428599085440111,0.7568682413894959,0.5886354755993858,0.5925473236818366,0.6595876216786889,0.6123357077194477,0.6648405404521284,0.7269702705295443,0.6450907885945222,0.5790250161906427,0.7324947050247205,0.6589666571449253,0.9964472708403314,0.5779251479918073,0.4756749586867979,0.469860395859067,0.7133651986391125,0.7323031496828343,0.5586400570031296,0.6572419670641341,0.5617092480401069,0.5694368276972708,0.5814161344144742,0.5510095506751747,0.5699768025895176,0.6833138820662927,0.5583143567556764,0.5809804832564041,0.547447256703135,0.5614581286175431,0.6735568863225365,0.6861041252174435,0.5944716374391443,0.517635593271161,0.5834160553263474,0.6088767461434803,0.7312742814067563,0.6660189186802227,0.558806369387341,0.6615259290695673,0.6414253875522168,0.8479023562629049,0.5221186993661211,0.8038243018025878,0.7705153002179439,0.7239047675687175,0.6326880055510132,0.7843340462745219,0.7245181235292633,0.8247810498835864,0.796964209188653,0.6623150367466688,0.6569024023027691,0.6566677917160062,0.5972355784485355,0.5833279619450716,0.7072362199905379,0.7055026666858774,0.576769333014105,0.5856266857798217,0.6409215410481611,0.5835577575674132,0.6714614976745952,0.7129277636159697,0.4716410113269506,0.5784992719591701,0.6169531918443832,0.6793199729748248,0.6064534649830258,0.5401621158675238,0.7286941637544012,0.8844219758481707,0.6838631777949157,0.7227688220360518,0.5967792173211333,0.9806884429227283,0.9333369165924854,0.7800855507744744,0.7205159963438639,0.7410017903468913,0.7178674504449977,0.6192258256377902,0.6975687830315253,0.5951272005888618,0.7214174275819418,0.6041911871344593,0.5838411906565002,0.6929013001105472,0.7398062742701921,0.5711336293494118,0.8152477133204875,0.6083860930523375,0.6029994652443074,0.8673477800102825,0.467952432321897,0.6721621257532242,0.6782712429436657,0.5518332612016151,0.6812535802422788,0.5488432063951858,0.5929308345718132,0.7845630884943994,0.6517631843971428,0.8507561378018853,0.9609524808594678,0.717254738520972,0.6768653663153146,0.79821471582236,0.6745259040095603,0.958478725802872,0.5743019411104991,0.58879966103036,0.7608267194927353,0.7639439999626347,0.639987063618118,0.7378588412638973,0.6960745426162097,0.6551304336165067,0.5626561027454413,0.6910437446824259,0.5232287880495147,0.7966290909332567,0.6328575863451624,0.8650716291103768,0.8805921447840199,0.6385086880320948,0.7678349708567549,0.6249872721300263,0.6455320115605819,0.5306689095224454,0.5727595011753487,0.6573647483661159,0.7279594625345691,0.626019914972843,0.7560299325706283,0.9273698660528109,0.565357650112025,0.6556279892496428,0.7305864579196233,0.5233466141251716,0.9432848971686598,0.612622423811237,0.8282406642597065,0.7361166931472436,0.8815186286551788,0.6143502179212196,0.9519423559283323,0.7862411721464533,0.8206831363666869,0.6665101288636699,0.6383812551857722,0.5736142848869797,0.5860069787927454,0.5619190679411771,0.7130321511867763,0.6581806289078458,0.5877396746652862,0.7836296472045348,0.4896778033549679],\"yaxis\":\"y\",\"type\":\"scatter\"}],                        {\"template\":{\"data\":{\"bar\":[{\"error_x\":{\"color\":\"#2a3f5f\"},\"error_y\":{\"color\":\"#2a3f5f\"},\"marker\":{\"line\":{\"color\":\"#E5ECF6\",\"width\":0.5},\"pattern\":{\"fillmode\":\"overlay\",\"size\":10,\"solidity\":0.2}},\"type\":\"bar\"}],\"barpolar\":[{\"marker\":{\"line\":{\"color\":\"#E5ECF6\",\"width\":0.5},\"pattern\":{\"fillmode\":\"overlay\",\"size\":10,\"solidity\":0.2}},\"type\":\"barpolar\"}],\"carpet\":[{\"aaxis\":{\"endlinecolor\":\"#2a3f5f\",\"gridcolor\":\"white\",\"linecolor\":\"white\",\"minorgridcolor\":\"white\",\"startlinecolor\":\"#2a3f5f\"},\"baxis\":{\"endlinecolor\":\"#2a3f5f\",\"gridcolor\":\"white\",\"linecolor\":\"white\",\"minorgridcolor\":\"white\",\"startlinecolor\":\"#2a3f5f\"},\"type\":\"carpet\"}],\"choropleth\":[{\"colorbar\":{\"outlinewidth\":0,\"ticks\":\"\"},\"type\":\"choropleth\"}],\"contour\":[{\"colorbar\":{\"outlinewidth\":0,\"ticks\":\"\"},\"colorscale\":[[0.0,\"#0d0887\"],[0.1111111111111111,\"#46039f\"],[0.2222222222222222,\"#7201a8\"],[0.3333333333333333,\"#9c179e\"],[0.4444444444444444,\"#bd3786\"],[0.5555555555555556,\"#d8576b\"],[0.6666666666666666,\"#ed7953\"],[0.7777777777777778,\"#fb9f3a\"],[0.8888888888888888,\"#fdca26\"],[1.0,\"#f0f921\"]],\"type\":\"contour\"}],\"contourcarpet\":[{\"colorbar\":{\"outlinewidth\":0,\"ticks\":\"\"},\"type\":\"contourcarpet\"}],\"heatmap\":[{\"colorbar\":{\"outlinewidth\":0,\"ticks\":\"\"},\"colorscale\":[[0.0,\"#0d0887\"],[0.1111111111111111,\"#46039f\"],[0.2222222222222222,\"#7201a8\"],[0.3333333333333333,\"#9c179e\"],[0.4444444444444444,\"#bd3786\"],[0.5555555555555556,\"#d8576b\"],[0.6666666666666666,\"#ed7953\"],[0.7777777777777778,\"#fb9f3a\"],[0.8888888888888888,\"#fdca26\"],[1.0,\"#f0f921\"]],\"type\":\"heatmap\"}],\"heatmapgl\":[{\"colorbar\":{\"outlinewidth\":0,\"ticks\":\"\"},\"colorscale\":[[0.0,\"#0d0887\"],[0.1111111111111111,\"#46039f\"],[0.2222222222222222,\"#7201a8\"],[0.3333333333333333,\"#9c179e\"],[0.4444444444444444,\"#bd3786\"],[0.5555555555555556,\"#d8576b\"],[0.6666666666666666,\"#ed7953\"],[0.7777777777777778,\"#fb9f3a\"],[0.8888888888888888,\"#fdca26\"],[1.0,\"#f0f921\"]],\"type\":\"heatmapgl\"}],\"histogram\":[{\"marker\":{\"pattern\":{\"fillmode\":\"overlay\",\"size\":10,\"solidity\":0.2}},\"type\":\"histogram\"}],\"histogram2d\":[{\"colorbar\":{\"outlinewidth\":0,\"ticks\":\"\"},\"colorscale\":[[0.0,\"#0d0887\"],[0.1111111111111111,\"#46039f\"],[0.2222222222222222,\"#7201a8\"],[0.3333333333333333,\"#9c179e\"],[0.4444444444444444,\"#bd3786\"],[0.5555555555555556,\"#d8576b\"],[0.6666666666666666,\"#ed7953\"],[0.7777777777777778,\"#fb9f3a\"],[0.8888888888888888,\"#fdca26\"],[1.0,\"#f0f921\"]],\"type\":\"histogram2d\"}],\"histogram2dcontour\":[{\"colorbar\":{\"outlinewidth\":0,\"ticks\":\"\"},\"colorscale\":[[0.0,\"#0d0887\"],[0.1111111111111111,\"#46039f\"],[0.2222222222222222,\"#7201a8\"],[0.3333333333333333,\"#9c179e\"],[0.4444444444444444,\"#bd3786\"],[0.5555555555555556,\"#d8576b\"],[0.6666666666666666,\"#ed7953\"],[0.7777777777777778,\"#fb9f3a\"],[0.8888888888888888,\"#fdca26\"],[1.0,\"#f0f921\"]],\"type\":\"histogram2dcontour\"}],\"mesh3d\":[{\"colorbar\":{\"outlinewidth\":0,\"ticks\":\"\"},\"type\":\"mesh3d\"}],\"parcoords\":[{\"line\":{\"colorbar\":{\"outlinewidth\":0,\"ticks\":\"\"}},\"type\":\"parcoords\"}],\"pie\":[{\"automargin\":true,\"type\":\"pie\"}],\"scatter\":[{\"marker\":{\"colorbar\":{\"outlinewidth\":0,\"ticks\":\"\"}},\"type\":\"scatter\"}],\"scatter3d\":[{\"line\":{\"colorbar\":{\"outlinewidth\":0,\"ticks\":\"\"}},\"marker\":{\"colorbar\":{\"outlinewidth\":0,\"ticks\":\"\"}},\"type\":\"scatter3d\"}],\"scattercarpet\":[{\"marker\":{\"colorbar\":{\"outlinewidth\":0,\"ticks\":\"\"}},\"type\":\"scattercarpet\"}],\"scattergeo\":[{\"marker\":{\"colorbar\":{\"outlinewidth\":0,\"ticks\":\"\"}},\"type\":\"scattergeo\"}],\"scattergl\":[{\"marker\":{\"colorbar\":{\"outlinewidth\":0,\"ticks\":\"\"}},\"type\":\"scattergl\"}],\"scattermapbox\":[{\"marker\":{\"colorbar\":{\"outlinewidth\":0,\"ticks\":\"\"}},\"type\":\"scattermapbox\"}],\"scatterpolar\":[{\"marker\":{\"colorbar\":{\"outlinewidth\":0,\"ticks\":\"\"}},\"type\":\"scatterpolar\"}],\"scatterpolargl\":[{\"marker\":{\"colorbar\":{\"outlinewidth\":0,\"ticks\":\"\"}},\"type\":\"scatterpolargl\"}],\"scatterternary\":[{\"marker\":{\"colorbar\":{\"outlinewidth\":0,\"ticks\":\"\"}},\"type\":\"scatterternary\"}],\"surface\":[{\"colorbar\":{\"outlinewidth\":0,\"ticks\":\"\"},\"colorscale\":[[0.0,\"#0d0887\"],[0.1111111111111111,\"#46039f\"],[0.2222222222222222,\"#7201a8\"],[0.3333333333333333,\"#9c179e\"],[0.4444444444444444,\"#bd3786\"],[0.5555555555555556,\"#d8576b\"],[0.6666666666666666,\"#ed7953\"],[0.7777777777777778,\"#fb9f3a\"],[0.8888888888888888,\"#fdca26\"],[1.0,\"#f0f921\"]],\"type\":\"surface\"}],\"table\":[{\"cells\":{\"fill\":{\"color\":\"#EBF0F8\"},\"line\":{\"color\":\"white\"}},\"header\":{\"fill\":{\"color\":\"#C8D4E3\"},\"line\":{\"color\":\"white\"}},\"type\":\"table\"}]},\"layout\":{\"annotationdefaults\":{\"arrowcolor\":\"#2a3f5f\",\"arrowhead\":0,\"arrowwidth\":1},\"autotypenumbers\":\"strict\",\"coloraxis\":{\"colorbar\":{\"outlinewidth\":0,\"ticks\":\"\"}},\"colorscale\":{\"diverging\":[[0,\"#8e0152\"],[0.1,\"#c51b7d\"],[0.2,\"#de77ae\"],[0.3,\"#f1b6da\"],[0.4,\"#fde0ef\"],[0.5,\"#f7f7f7\"],[0.6,\"#e6f5d0\"],[0.7,\"#b8e186\"],[0.8,\"#7fbc41\"],[0.9,\"#4d9221\"],[1,\"#276419\"]],\"sequential\":[[0.0,\"#0d0887\"],[0.1111111111111111,\"#46039f\"],[0.2222222222222222,\"#7201a8\"],[0.3333333333333333,\"#9c179e\"],[0.4444444444444444,\"#bd3786\"],[0.5555555555555556,\"#d8576b\"],[0.6666666666666666,\"#ed7953\"],[0.7777777777777778,\"#fb9f3a\"],[0.8888888888888888,\"#fdca26\"],[1.0,\"#f0f921\"]],\"sequentialminus\":[[0.0,\"#0d0887\"],[0.1111111111111111,\"#46039f\"],[0.2222222222222222,\"#7201a8\"],[0.3333333333333333,\"#9c179e\"],[0.4444444444444444,\"#bd3786\"],[0.5555555555555556,\"#d8576b\"],[0.6666666666666666,\"#ed7953\"],[0.7777777777777778,\"#fb9f3a\"],[0.8888888888888888,\"#fdca26\"],[1.0,\"#f0f921\"]]},\"colorway\":[\"#636efa\",\"#EF553B\",\"#00cc96\",\"#ab63fa\",\"#FFA15A\",\"#19d3f3\",\"#FF6692\",\"#B6E880\",\"#FF97FF\",\"#FECB52\"],\"font\":{\"color\":\"#2a3f5f\"},\"geo\":{\"bgcolor\":\"white\",\"lakecolor\":\"white\",\"landcolor\":\"#E5ECF6\",\"showlakes\":true,\"showland\":true,\"subunitcolor\":\"white\"},\"hoverlabel\":{\"align\":\"left\"},\"hovermode\":\"closest\",\"mapbox\":{\"style\":\"light\"},\"paper_bgcolor\":\"white\",\"plot_bgcolor\":\"#E5ECF6\",\"polar\":{\"angularaxis\":{\"gridcolor\":\"white\",\"linecolor\":\"white\",\"ticks\":\"\"},\"bgcolor\":\"#E5ECF6\",\"radialaxis\":{\"gridcolor\":\"white\",\"linecolor\":\"white\",\"ticks\":\"\"}},\"scene\":{\"xaxis\":{\"backgroundcolor\":\"#E5ECF6\",\"gridcolor\":\"white\",\"gridwidth\":2,\"linecolor\":\"white\",\"showbackground\":true,\"ticks\":\"\",\"zerolinecolor\":\"white\"},\"yaxis\":{\"backgroundcolor\":\"#E5ECF6\",\"gridcolor\":\"white\",\"gridwidth\":2,\"linecolor\":\"white\",\"showbackground\":true,\"ticks\":\"\",\"zerolinecolor\":\"white\"},\"zaxis\":{\"backgroundcolor\":\"#E5ECF6\",\"gridcolor\":\"white\",\"gridwidth\":2,\"linecolor\":\"white\",\"showbackground\":true,\"ticks\":\"\",\"zerolinecolor\":\"white\"}},\"shapedefaults\":{\"line\":{\"color\":\"#2a3f5f\"}},\"ternary\":{\"aaxis\":{\"gridcolor\":\"white\",\"linecolor\":\"white\",\"ticks\":\"\"},\"baxis\":{\"gridcolor\":\"white\",\"linecolor\":\"white\",\"ticks\":\"\"},\"bgcolor\":\"#E5ECF6\",\"caxis\":{\"gridcolor\":\"white\",\"linecolor\":\"white\",\"ticks\":\"\"}},\"title\":{\"x\":0.05},\"xaxis\":{\"automargin\":true,\"gridcolor\":\"white\",\"linecolor\":\"white\",\"ticks\":\"\",\"title\":{\"standoff\":15},\"zerolinecolor\":\"white\",\"zerolinewidth\":2},\"yaxis\":{\"automargin\":true,\"gridcolor\":\"white\",\"linecolor\":\"white\",\"ticks\":\"\",\"title\":{\"standoff\":15},\"zerolinecolor\":\"white\",\"zerolinewidth\":2}}},\"xaxis\":{\"anchor\":\"y\",\"domain\":[0.0,1.0],\"title\":{\"text\":\"Actuals\"}},\"yaxis\":{\"anchor\":\"x\",\"domain\":[0.0,1.0],\"title\":{\"text\":\"Predictions\"}},\"legend\":{\"tracegroupgap\":0},\"margin\":{\"t\":60},\"title\":{\"text\":\"Predictions - Actuals Comparison\"},\"autosize\":false,\"width\":800,\"height\":500},                        {\"responsive\": true}                    ).then(function(){\n",
       "                            \n",
       "var gd = document.getElementById('19d93430-ba84-4fa3-a96c-ea0622a76754');\n",
       "var x = new MutationObserver(function (mutations, observer) {{\n",
       "        var display = window.getComputedStyle(gd).display;\n",
       "        if (!display || display === 'none') {{\n",
       "            console.log([gd, 'removed!']);\n",
       "            Plotly.purge(gd);\n",
       "            observer.disconnect();\n",
       "        }}\n",
       "}});\n",
       "\n",
       "// Listen for the removal of the full notebook cells\n",
       "var notebookContainer = gd.closest('#notebook-container');\n",
       "if (notebookContainer) {{\n",
       "    x.observe(notebookContainer, {childList: true});\n",
       "}}\n",
       "\n",
       "// Listen for the clearing of the current output cell\n",
       "var outputEl = gd.closest('.output');\n",
       "if (outputEl) {{\n",
       "    x.observe(outputEl, {childList: true});\n",
       "}}\n",
       "\n",
       "                        })                };                });            </script>        </div>"
      ]
     },
     "metadata": {},
     "output_type": "display_data"
    }
   ],
   "source": [
    "fig = px.scatter(res, x=\"Actuals\", y=\"Predictions\")\n",
    "\n",
    "fig.update_layout(\n",
    "    autosize=False,\n",
    "    width=800,\n",
    "    height=500,\n",
    "    title_text=\"Predictions - Actuals Comparison\",\n",
    ")\n",
    "\n",
    "fig.show()"
   ]
  },
  {
   "cell_type": "code",
   "execution_count": 224,
   "id": "851f1e93-0e51-41d1-8b91-a9fc41daac63",
   "metadata": {},
   "outputs": [
    {
     "name": "stdout",
     "output_type": "stream",
     "text": [
      "Epoch 1/1000\n",
      "25/25 [==============================] - 0s 1ms/step - loss: 0.4835\n",
      "Epoch 2/1000\n",
      "25/25 [==============================] - 0s 933us/step - loss: 0.0124\n",
      "Epoch 3/1000\n",
      "25/25 [==============================] - 0s 935us/step - loss: 0.0121\n",
      "Epoch 4/1000\n",
      "25/25 [==============================] - 0s 907us/step - loss: 0.0077\n",
      "Epoch 5/1000\n",
      "25/25 [==============================] - 0s 930us/step - loss: 0.0070\n",
      "Epoch 6/1000\n",
      "25/25 [==============================] - 0s 964us/step - loss: 0.0063\n",
      "Epoch 7/1000\n",
      "25/25 [==============================] - 0s 952us/step - loss: 0.0056\n",
      "Epoch 8/1000\n",
      "25/25 [==============================] - 0s 1ms/step - loss: 0.0066\n",
      "Epoch 9/1000\n",
      "25/25 [==============================] - 0s 1ms/step - loss: 0.0059\n",
      "Epoch 10/1000\n",
      "25/25 [==============================] - 0s 1ms/step - loss: 0.0056\n",
      "Epoch 11/1000\n",
      "25/25 [==============================] - 0s 1ms/step - loss: 0.0040\n",
      "Epoch 12/1000\n",
      "25/25 [==============================] - 0s 1ms/step - loss: 0.0054\n",
      "Epoch 13/1000\n",
      "25/25 [==============================] - 0s 995us/step - loss: 0.0062\n",
      "Epoch 14/1000\n",
      "25/25 [==============================] - 0s 950us/step - loss: 0.0042\n",
      "Epoch 15/1000\n",
      "25/25 [==============================] - 0s 944us/step - loss: 0.0040\n",
      "Epoch 16/1000\n",
      "25/25 [==============================] - 0s 946us/step - loss: 0.0037\n",
      "Epoch 17/1000\n",
      "25/25 [==============================] - 0s 970us/step - loss: 0.0037\n",
      "Epoch 18/1000\n",
      "25/25 [==============================] - 0s 968us/step - loss: 0.0050\n",
      "Epoch 19/1000\n",
      "25/25 [==============================] - 0s 1ms/step - loss: 0.0036\n",
      "Epoch 20/1000\n",
      "25/25 [==============================] - 0s 1ms/step - loss: 0.0033\n",
      "Epoch 21/1000\n",
      "25/25 [==============================] - 0s 1ms/step - loss: 0.0034\n",
      "Epoch 22/1000\n",
      "25/25 [==============================] - 0s 1ms/step - loss: 0.0030\n",
      "Epoch 23/1000\n",
      "25/25 [==============================] - 0s 961us/step - loss: 0.0030\n",
      "Epoch 24/1000\n",
      "25/25 [==============================] - 0s 937us/step - loss: 0.0033\n",
      "Epoch 25/1000\n",
      "25/25 [==============================] - 0s 933us/step - loss: 0.0032\n",
      "Epoch 26/1000\n",
      "25/25 [==============================] - 0s 944us/step - loss: 0.0026\n",
      "Epoch 27/1000\n",
      "25/25 [==============================] - 0s 968us/step - loss: 0.0026\n",
      "Epoch 28/1000\n",
      "25/25 [==============================] - 0s 1ms/step - loss: 0.0023\n",
      "Epoch 29/1000\n",
      "25/25 [==============================] - 0s 1ms/step - loss: 0.0036\n",
      "Epoch 30/1000\n",
      "25/25 [==============================] - 0s 1ms/step - loss: 0.0027\n",
      "Epoch 31/1000\n",
      "25/25 [==============================] - 0s 1ms/step - loss: 0.0027\n",
      "Epoch 32/1000\n",
      "25/25 [==============================] - 0s 1ms/step - loss: 0.0020\n",
      "Epoch 33/1000\n",
      "25/25 [==============================] - 0s 1ms/step - loss: 0.0020\n",
      "Epoch 34/1000\n",
      "25/25 [==============================] - 0s 1ms/step - loss: 0.0020\n",
      "Epoch 35/1000\n",
      "25/25 [==============================] - 0s 1ms/step - loss: 0.0018\n",
      "Epoch 36/1000\n",
      "25/25 [==============================] - 0s 1ms/step - loss: 0.0018\n",
      "Epoch 37/1000\n",
      "25/25 [==============================] - 0s 980us/step - loss: 0.0018\n",
      "Epoch 38/1000\n",
      "25/25 [==============================] - 0s 993us/step - loss: 0.0023\n",
      "Epoch 39/1000\n",
      "25/25 [==============================] - 0s 998us/step - loss: 0.0021\n",
      "Epoch 40/1000\n",
      "25/25 [==============================] - 0s 1ms/step - loss: 0.0019\n",
      "Epoch 41/1000\n",
      "25/25 [==============================] - 0s 1ms/step - loss: 0.0013\n",
      "Epoch 42/1000\n",
      "25/25 [==============================] - 0s 1ms/step - loss: 0.0013\n",
      "Epoch 43/1000\n",
      "25/25 [==============================] - 0s 1ms/step - loss: 0.0011\n",
      "Epoch 44/1000\n",
      "25/25 [==============================] - 0s 1ms/step - loss: 0.0011\n",
      "Epoch 45/1000\n",
      "25/25 [==============================] - 0s 1ms/step - loss: 0.0010\n",
      "Epoch 46/1000\n",
      "25/25 [==============================] - 0s 1ms/step - loss: 0.0011\n",
      "Epoch 47/1000\n",
      "25/25 [==============================] - 0s 1ms/step - loss: 0.0010\n",
      "Epoch 48/1000\n",
      "25/25 [==============================] - 0s 1ms/step - loss: 9.4847e-04\n",
      "Epoch 49/1000\n",
      "25/25 [==============================] - 0s 1ms/step - loss: 8.0581e-04\n",
      "Epoch 50/1000\n",
      "25/25 [==============================] - 0s 1ms/step - loss: 0.0011\n",
      "Epoch 51/1000\n",
      "25/25 [==============================] - 0s 1ms/step - loss: 0.0017\n",
      "Epoch 52/1000\n",
      "25/25 [==============================] - 0s 1ms/step - loss: 0.0011\n",
      "Epoch 53/1000\n",
      "25/25 [==============================] - 0s 978us/step - loss: 9.1210e-04\n",
      "Epoch 54/1000\n",
      "25/25 [==============================] - 0s 957us/step - loss: 9.2340e-04\n",
      "Epoch 55/1000\n",
      "25/25 [==============================] - 0s 937us/step - loss: 8.3162e-04\n",
      "Epoch 56/1000\n",
      "25/25 [==============================] - 0s 958us/step - loss: 0.0011\n",
      "Epoch 57/1000\n",
      "25/25 [==============================] - 0s 948us/step - loss: 0.0011\n",
      "Epoch 58/1000\n",
      "25/25 [==============================] - 0s 946us/step - loss: 7.5478e-04\n",
      "Epoch 59/1000\n",
      "25/25 [==============================] - 0s 931us/step - loss: 7.4062e-04\n",
      "Epoch 60/1000\n",
      "25/25 [==============================] - 0s 969us/step - loss: 7.2566e-04\n",
      "Epoch 61/1000\n",
      "25/25 [==============================] - 0s 940us/step - loss: 6.6266e-04\n",
      "Epoch 62/1000\n",
      "25/25 [==============================] - 0s 948us/step - loss: 5.9094e-04\n",
      "Epoch 63/1000\n",
      "25/25 [==============================] - 0s 956us/step - loss: 7.7699e-04\n",
      "Epoch 64/1000\n",
      "25/25 [==============================] - 0s 973us/step - loss: 5.4966e-04\n",
      "Epoch 65/1000\n",
      "25/25 [==============================] - 0s 965us/step - loss: 6.3871e-04\n",
      "Epoch 66/1000\n",
      "25/25 [==============================] - 0s 973us/step - loss: 5.8390e-04\n",
      "Epoch 67/1000\n",
      "25/25 [==============================] - 0s 967us/step - loss: 6.0126e-04\n",
      "Epoch 68/1000\n",
      "25/25 [==============================] - 0s 965us/step - loss: 5.2881e-04\n",
      "Epoch 69/1000\n",
      "25/25 [==============================] - 0s 971us/step - loss: 4.9584e-04\n",
      "Epoch 70/1000\n",
      "25/25 [==============================] - 0s 982us/step - loss: 5.6253e-04\n",
      "Epoch 71/1000\n",
      "25/25 [==============================] - 0s 969us/step - loss: 7.0495e-04\n",
      "Epoch 72/1000\n",
      "25/25 [==============================] - 0s 965us/step - loss: 5.2904e-04\n",
      "Epoch 73/1000\n",
      "25/25 [==============================] - 0s 959us/step - loss: 5.9208e-04\n",
      "Epoch 74/1000\n",
      "25/25 [==============================] - 0s 978us/step - loss: 7.3630e-04\n",
      "Epoch 75/1000\n",
      "25/25 [==============================] - 0s 965us/step - loss: 5.2499e-04\n",
      "Epoch 76/1000\n",
      "25/25 [==============================] - 0s 970us/step - loss: 4.2216e-04\n",
      "Epoch 77/1000\n",
      "25/25 [==============================] - 0s 967us/step - loss: 4.4390e-04\n",
      "Epoch 78/1000\n",
      "25/25 [==============================] - 0s 948us/step - loss: 5.1502e-04\n",
      "Epoch 79/1000\n",
      "25/25 [==============================] - 0s 957us/step - loss: 4.3387e-04\n",
      "Epoch 80/1000\n",
      "25/25 [==============================] - 0s 972us/step - loss: 6.1081e-04\n",
      "Epoch 81/1000\n",
      "25/25 [==============================] - 0s 945us/step - loss: 4.6647e-04\n",
      "Epoch 82/1000\n",
      "25/25 [==============================] - 0s 963us/step - loss: 4.1039e-04\n",
      "Epoch 83/1000\n",
      "25/25 [==============================] - 0s 946us/step - loss: 4.9480e-04\n",
      "Epoch 84/1000\n",
      "25/25 [==============================] - 0s 949us/step - loss: 4.5001e-04\n",
      "Epoch 85/1000\n",
      "25/25 [==============================] - 0s 945us/step - loss: 4.0193e-04\n",
      "Epoch 86/1000\n",
      "25/25 [==============================] - 0s 940us/step - loss: 5.7914e-04\n",
      "Epoch 87/1000\n",
      "25/25 [==============================] - 0s 946us/step - loss: 5.3221e-04\n",
      "Epoch 88/1000\n",
      "25/25 [==============================] - 0s 932us/step - loss: 4.5635e-04\n",
      "Epoch 89/1000\n",
      "25/25 [==============================] - 0s 936us/step - loss: 3.7742e-04\n",
      "Epoch 90/1000\n",
      "25/25 [==============================] - 0s 943us/step - loss: 3.8671e-04\n",
      "Epoch 91/1000\n",
      "25/25 [==============================] - 0s 942us/step - loss: 5.1205e-04\n",
      "Epoch 92/1000\n",
      "25/25 [==============================] - 0s 932us/step - loss: 5.5407e-04\n",
      "Epoch 93/1000\n",
      "25/25 [==============================] - 0s 963us/step - loss: 4.3715e-04\n",
      "Epoch 94/1000\n",
      "25/25 [==============================] - 0s 935us/step - loss: 5.8836e-04\n",
      "Epoch 95/1000\n",
      "25/25 [==============================] - 0s 938us/step - loss: 5.2969e-04\n",
      "Epoch 96/1000\n",
      "25/25 [==============================] - 0s 935us/step - loss: 4.8619e-04\n",
      "Epoch 97/1000\n",
      "25/25 [==============================] - 0s 963us/step - loss: 3.8119e-04\n",
      "Epoch 98/1000\n",
      "25/25 [==============================] - 0s 944us/step - loss: 4.4774e-04\n",
      "Epoch 99/1000\n",
      "25/25 [==============================] - 0s 953us/step - loss: 3.9374e-04\n",
      "Epoch 100/1000\n",
      "25/25 [==============================] - 0s 947us/step - loss: 4.4845e-04\n",
      "Epoch 101/1000\n",
      "25/25 [==============================] - 0s 938us/step - loss: 0.0010\n",
      "Epoch 102/1000\n",
      "25/25 [==============================] - 0s 957us/step - loss: 6.6767e-04\n",
      "Epoch 103/1000\n",
      "25/25 [==============================] - 0s 930us/step - loss: 9.4622e-04\n",
      "Epoch 104/1000\n",
      "25/25 [==============================] - 0s 957us/step - loss: 4.8413e-04\n",
      "Epoch 105/1000\n",
      "25/25 [==============================] - 0s 946us/step - loss: 3.3825e-04\n",
      "Epoch 106/1000\n",
      "25/25 [==============================] - 0s 936us/step - loss: 3.9475e-04\n",
      "Epoch 107/1000\n",
      "25/25 [==============================] - 0s 945us/step - loss: 6.4786e-04\n",
      "Epoch 108/1000\n",
      "25/25 [==============================] - 0s 940us/step - loss: 6.1270e-04\n",
      "Epoch 109/1000\n",
      "25/25 [==============================] - 0s 938us/step - loss: 3.6732e-04\n",
      "Epoch 110/1000\n",
      "25/25 [==============================] - 0s 971us/step - loss: 4.0343e-04\n",
      "Epoch 111/1000\n",
      "25/25 [==============================] - 0s 942us/step - loss: 4.7486e-04\n",
      "Epoch 112/1000\n",
      "25/25 [==============================] - 0s 945us/step - loss: 3.8695e-04\n",
      "Epoch 113/1000\n",
      "25/25 [==============================] - 0s 962us/step - loss: 3.2079e-04\n",
      "Epoch 114/1000\n",
      "25/25 [==============================] - 0s 940us/step - loss: 2.4399e-04\n",
      "Epoch 115/1000\n",
      "25/25 [==============================] - 0s 997us/step - loss: 3.3259e-04\n",
      "Epoch 116/1000\n",
      "25/25 [==============================] - 0s 974us/step - loss: 2.6393e-04\n",
      "Epoch 117/1000\n",
      "25/25 [==============================] - 0s 976us/step - loss: 2.8462e-04\n",
      "Epoch 118/1000\n",
      "25/25 [==============================] - 0s 983us/step - loss: 2.6302e-04\n",
      "Epoch 119/1000\n",
      "25/25 [==============================] - 0s 973us/step - loss: 2.9709e-04\n",
      "Epoch 120/1000\n",
      "25/25 [==============================] - 0s 1ms/step - loss: 3.0040e-04\n",
      "Epoch 121/1000\n",
      "25/25 [==============================] - 0s 1ms/step - loss: 4.1858e-04\n",
      "Epoch 122/1000\n",
      "25/25 [==============================] - 0s 1ms/step - loss: 5.3500e-04\n",
      "Epoch 123/1000\n",
      "25/25 [==============================] - 0s 1ms/step - loss: 3.6191e-04\n",
      "Epoch 124/1000\n",
      "25/25 [==============================] - 0s 1ms/step - loss: 2.8364e-04\n",
      "Epoch 125/1000\n",
      "25/25 [==============================] - 0s 983us/step - loss: 5.4917e-04\n",
      "Epoch 126/1000\n",
      "25/25 [==============================] - 0s 1ms/step - loss: 3.9545e-04\n",
      "Epoch 127/1000\n",
      "25/25 [==============================] - 0s 975us/step - loss: 3.5624e-04\n",
      "Epoch 128/1000\n",
      "25/25 [==============================] - 0s 988us/step - loss: 3.6665e-04\n",
      "Epoch 129/1000\n",
      "25/25 [==============================] - 0s 1ms/step - loss: 3.0472e-04\n",
      "Epoch 130/1000\n",
      "25/25 [==============================] - 0s 1ms/step - loss: 3.0653e-04\n",
      "Epoch 131/1000\n",
      "25/25 [==============================] - 0s 1ms/step - loss: 1.9401e-04\n",
      "Epoch 132/1000\n",
      "25/25 [==============================] - 0s 1ms/step - loss: 1.9209e-04\n",
      "Epoch 133/1000\n",
      "25/25 [==============================] - 0s 1ms/step - loss: 2.7213e-04\n",
      "Epoch 134/1000\n",
      "25/25 [==============================] - 0s 1ms/step - loss: 2.7231e-04\n",
      "Epoch 135/1000\n",
      "25/25 [==============================] - 0s 1ms/step - loss: 3.6300e-04\n",
      "Epoch 136/1000\n",
      "25/25 [==============================] - 0s 983us/step - loss: 5.8380e-04\n",
      "Epoch 137/1000\n",
      "25/25 [==============================] - 0s 991us/step - loss: 3.6740e-04\n",
      "Epoch 138/1000\n",
      "25/25 [==============================] - 0s 978us/step - loss: 3.8680e-04\n",
      "Epoch 139/1000\n",
      "25/25 [==============================] - 0s 1ms/step - loss: 2.4699e-04\n",
      "Epoch 140/1000\n",
      "25/25 [==============================] - 0s 977us/step - loss: 3.2925e-04\n",
      "Epoch 141/1000\n",
      "25/25 [==============================] - 0s 958us/step - loss: 3.0755e-04\n",
      "Epoch 142/1000\n",
      "25/25 [==============================] - 0s 958us/step - loss: 3.0086e-04\n",
      "Epoch 143/1000\n",
      "25/25 [==============================] - 0s 960us/step - loss: 4.6901e-04\n",
      "Epoch 144/1000\n",
      "25/25 [==============================] - 0s 1ms/step - loss: 3.2741e-04\n",
      "Epoch 145/1000\n",
      "25/25 [==============================] - 0s 981us/step - loss: 6.1690e-04\n",
      "Epoch 146/1000\n",
      "25/25 [==============================] - 0s 999us/step - loss: 4.8231e-04\n",
      "Epoch 147/1000\n",
      "25/25 [==============================] - 0s 1ms/step - loss: 3.1177e-04\n",
      "Epoch 148/1000\n",
      "25/25 [==============================] - 0s 1ms/step - loss: 3.5947e-04\n",
      "Epoch 149/1000\n",
      "25/25 [==============================] - 0s 1ms/step - loss: 5.3170e-04\n",
      "Epoch 150/1000\n",
      "25/25 [==============================] - 0s 1ms/step - loss: 4.8947e-04\n",
      "Epoch 151/1000\n",
      "25/25 [==============================] - 0s 1ms/step - loss: 4.6458e-04\n",
      "Epoch 152/1000\n",
      "25/25 [==============================] - 0s 1ms/step - loss: 4.3337e-04\n",
      "Epoch 153/1000\n",
      "25/25 [==============================] - 0s 967us/step - loss: 3.9036e-04\n",
      "Epoch 154/1000\n",
      "25/25 [==============================] - 0s 932us/step - loss: 4.4180e-04\n",
      "Epoch 155/1000\n",
      "25/25 [==============================] - 0s 957us/step - loss: 3.5841e-04\n",
      "Epoch 156/1000\n",
      "25/25 [==============================] - 0s 967us/step - loss: 3.5159e-04\n",
      "Epoch 157/1000\n",
      "25/25 [==============================] - 0s 962us/step - loss: 2.5432e-04\n",
      "Epoch 158/1000\n",
      "25/25 [==============================] - 0s 954us/step - loss: 2.6670e-04\n",
      "Epoch 159/1000\n",
      "25/25 [==============================] - 0s 948us/step - loss: 2.9380e-04\n",
      "Epoch 160/1000\n",
      "25/25 [==============================] - 0s 945us/step - loss: 3.5323e-04\n",
      "Epoch 161/1000\n",
      "25/25 [==============================] - 0s 954us/step - loss: 4.4065e-04\n",
      "Epoch 162/1000\n",
      "25/25 [==============================] - 0s 943us/step - loss: 3.8035e-04\n",
      "Epoch 163/1000\n",
      "25/25 [==============================] - 0s 961us/step - loss: 3.9547e-04\n",
      "Epoch 164/1000\n",
      "25/25 [==============================] - 0s 975us/step - loss: 3.2780e-04\n",
      "Epoch 165/1000\n",
      "25/25 [==============================] - 0s 982us/step - loss: 2.7236e-04\n",
      "Epoch 166/1000\n",
      "25/25 [==============================] - 0s 996us/step - loss: 2.7681e-04\n",
      "Epoch 167/1000\n",
      "25/25 [==============================] - 0s 973us/step - loss: 4.3163e-04\n",
      "Epoch 168/1000\n",
      "25/25 [==============================] - 0s 977us/step - loss: 6.2363e-04\n",
      "Epoch 169/1000\n",
      "25/25 [==============================] - 0s 976us/step - loss: 5.2829e-04\n",
      "Epoch 170/1000\n",
      "25/25 [==============================] - 0s 936us/step - loss: 3.1766e-04\n",
      "Epoch 171/1000\n",
      "25/25 [==============================] - 0s 959us/step - loss: 3.2362e-04\n",
      "Epoch 172/1000\n",
      "25/25 [==============================] - 0s 949us/step - loss: 3.9569e-04\n",
      "Epoch 173/1000\n",
      "25/25 [==============================] - 0s 951us/step - loss: 3.6921e-04\n",
      "Epoch 174/1000\n",
      "25/25 [==============================] - 0s 959us/step - loss: 2.6166e-04\n",
      "Epoch 175/1000\n",
      "25/25 [==============================] - 0s 958us/step - loss: 2.5699e-04\n",
      "Epoch 176/1000\n",
      "25/25 [==============================] - 0s 965us/step - loss: 3.6327e-04\n",
      "Epoch 177/1000\n",
      "25/25 [==============================] - 0s 955us/step - loss: 2.6142e-04\n",
      "Epoch 178/1000\n",
      "25/25 [==============================] - 0s 947us/step - loss: 2.7709e-04\n",
      "Epoch 179/1000\n",
      "25/25 [==============================] - 0s 953us/step - loss: 2.8936e-04\n",
      "Epoch 180/1000\n",
      "25/25 [==============================] - 0s 935us/step - loss: 2.7567e-04\n",
      "Epoch 181/1000\n",
      "25/25 [==============================] - 0s 964us/step - loss: 2.0529e-04\n",
      "Epoch 182/1000\n",
      "25/25 [==============================] - 0s 939us/step - loss: 2.5306e-04\n",
      "Epoch 183/1000\n",
      "25/25 [==============================] - 0s 959us/step - loss: 1.7172e-04\n",
      "Epoch 184/1000\n",
      "25/25 [==============================] - 0s 953us/step - loss: 2.2009e-04\n",
      "Epoch 185/1000\n",
      "25/25 [==============================] - 0s 971us/step - loss: 1.8391e-04\n",
      "Epoch 186/1000\n",
      "25/25 [==============================] - 0s 939us/step - loss: 3.0728e-04\n",
      "Epoch 187/1000\n",
      "25/25 [==============================] - 0s 951us/step - loss: 1.6278e-04\n",
      "Epoch 188/1000\n",
      "25/25 [==============================] - 0s 951us/step - loss: 4.3604e-04\n",
      "Epoch 189/1000\n",
      "25/25 [==============================] - 0s 934us/step - loss: 2.0769e-04\n",
      "Epoch 190/1000\n",
      "25/25 [==============================] - 0s 955us/step - loss: 2.8605e-04\n",
      "Epoch 191/1000\n",
      "25/25 [==============================] - 0s 960us/step - loss: 2.7207e-04\n",
      "Epoch 192/1000\n",
      "25/25 [==============================] - 0s 954us/step - loss: 3.8914e-04\n",
      "Epoch 193/1000\n",
      "25/25 [==============================] - 0s 973us/step - loss: 4.3285e-04\n",
      "Epoch 194/1000\n",
      "25/25 [==============================] - 0s 967us/step - loss: 6.2834e-04\n",
      "Epoch 195/1000\n",
      "25/25 [==============================] - 0s 956us/step - loss: 4.2604e-04\n",
      "Epoch 196/1000\n",
      "25/25 [==============================] - 0s 922us/step - loss: 4.1950e-04\n",
      "Epoch 197/1000\n",
      "25/25 [==============================] - 0s 1ms/step - loss: 3.3939e-04\n",
      "Epoch 198/1000\n",
      "25/25 [==============================] - 0s 1ms/step - loss: 2.4494e-04\n",
      "Epoch 199/1000\n",
      "25/25 [==============================] - 0s 992us/step - loss: 2.3321e-04\n",
      "Epoch 200/1000\n",
      "25/25 [==============================] - 0s 988us/step - loss: 2.4564e-04\n",
      "Epoch 201/1000\n",
      "25/25 [==============================] - 0s 1ms/step - loss: 2.0336e-04\n",
      "Epoch 202/1000\n",
      "25/25 [==============================] - 0s 972us/step - loss: 2.2785e-04\n",
      "Epoch 203/1000\n",
      "25/25 [==============================] - 0s 953us/step - loss: 2.7409e-04\n",
      "Epoch 204/1000\n",
      "25/25 [==============================] - 0s 938us/step - loss: 3.6266e-04\n",
      "Epoch 205/1000\n",
      "25/25 [==============================] - 0s 955us/step - loss: 3.1372e-04\n",
      "Epoch 206/1000\n",
      "25/25 [==============================] - 0s 941us/step - loss: 2.7447e-04\n",
      "Epoch 207/1000\n",
      "25/25 [==============================] - 0s 961us/step - loss: 2.3503e-04\n",
      "Epoch 208/1000\n",
      "25/25 [==============================] - 0s 972us/step - loss: 2.0850e-04\n",
      "Epoch 209/1000\n",
      "25/25 [==============================] - 0s 974us/step - loss: 1.7811e-04\n",
      "Epoch 210/1000\n",
      "25/25 [==============================] - 0s 949us/step - loss: 2.6823e-04\n",
      "Epoch 211/1000\n",
      "25/25 [==============================] - 0s 969us/step - loss: 3.8043e-04\n",
      "Epoch 212/1000\n",
      "25/25 [==============================] - 0s 945us/step - loss: 5.3545e-04\n",
      "Epoch 213/1000\n",
      "25/25 [==============================] - 0s 995us/step - loss: 3.9603e-04\n",
      "Epoch 214/1000\n",
      "25/25 [==============================] - 0s 1ms/step - loss: 2.9035e-04\n",
      "Epoch 215/1000\n",
      "25/25 [==============================] - 0s 1ms/step - loss: 3.0313e-04\n",
      "Epoch 216/1000\n",
      "25/25 [==============================] - 0s 1ms/step - loss: 4.4340e-04\n",
      "Epoch 217/1000\n",
      "25/25 [==============================] - 0s 1ms/step - loss: 3.1632e-04\n",
      "Epoch 218/1000\n",
      "25/25 [==============================] - 0s 977us/step - loss: 5.6404e-04\n",
      "Epoch 219/1000\n",
      "25/25 [==============================] - 0s 964us/step - loss: 3.8784e-04\n",
      "Epoch 220/1000\n",
      "25/25 [==============================] - 0s 944us/step - loss: 6.5543e-04\n",
      "Epoch 221/1000\n",
      "25/25 [==============================] - 0s 961us/step - loss: 6.5805e-04\n",
      "Epoch 222/1000\n",
      "25/25 [==============================] - 0s 964us/step - loss: 6.8546e-04\n",
      "Epoch 223/1000\n",
      "25/25 [==============================] - 0s 965us/step - loss: 4.9897e-04\n",
      "Epoch 224/1000\n",
      "25/25 [==============================] - 0s 946us/step - loss: 2.9578e-04\n",
      "Epoch 225/1000\n",
      "25/25 [==============================] - 0s 959us/step - loss: 3.3675e-04\n",
      "Epoch 226/1000\n",
      "25/25 [==============================] - 0s 959us/step - loss: 3.4731e-04\n",
      "Epoch 227/1000\n",
      "25/25 [==============================] - 0s 955us/step - loss: 3.7756e-04\n",
      "Epoch 228/1000\n",
      "25/25 [==============================] - 0s 967us/step - loss: 4.4496e-04\n",
      "Epoch 229/1000\n",
      "25/25 [==============================] - 0s 952us/step - loss: 2.8444e-04\n",
      "Epoch 230/1000\n",
      "25/25 [==============================] - 0s 948us/step - loss: 2.9561e-04\n",
      "Epoch 231/1000\n",
      "25/25 [==============================] - 0s 941us/step - loss: 3.0320e-04\n",
      "Epoch 232/1000\n",
      "25/25 [==============================] - 0s 949us/step - loss: 3.0173e-04\n",
      "Epoch 233/1000\n",
      "25/25 [==============================] - 0s 951us/step - loss: 2.2524e-04\n",
      "Epoch 234/1000\n",
      "25/25 [==============================] - 0s 947us/step - loss: 2.7034e-04\n",
      "Epoch 235/1000\n",
      "25/25 [==============================] - 0s 950us/step - loss: 2.4424e-04\n",
      "Epoch 236/1000\n",
      "25/25 [==============================] - 0s 948us/step - loss: 1.9949e-04\n",
      "Epoch 237/1000\n",
      "25/25 [==============================] - 0s 945us/step - loss: 2.2720e-04\n",
      "Epoch 238/1000\n",
      "25/25 [==============================] - 0s 953us/step - loss: 2.4856e-04\n",
      "Epoch 239/1000\n",
      "25/25 [==============================] - 0s 951us/step - loss: 1.7802e-04\n",
      "Epoch 240/1000\n",
      "25/25 [==============================] - 0s 940us/step - loss: 1.9541e-04\n",
      "Epoch 241/1000\n",
      "25/25 [==============================] - 0s 962us/step - loss: 2.1560e-04\n",
      "Epoch 242/1000\n",
      "25/25 [==============================] - 0s 943us/step - loss: 2.7136e-04\n",
      "Epoch 243/1000\n",
      "25/25 [==============================] - 0s 962us/step - loss: 1.8713e-04\n",
      "Epoch 244/1000\n",
      "25/25 [==============================] - 0s 919us/step - loss: 2.8101e-04\n",
      "Epoch 245/1000\n",
      "25/25 [==============================] - 0s 942us/step - loss: 4.3519e-04\n",
      "Epoch 246/1000\n",
      "25/25 [==============================] - 0s 961us/step - loss: 3.0489e-04\n",
      "Epoch 247/1000\n",
      "25/25 [==============================] - 0s 948us/step - loss: 3.2571e-04\n",
      "Epoch 248/1000\n",
      "25/25 [==============================] - 0s 943us/step - loss: 3.4337e-04\n",
      "Epoch 249/1000\n",
      "25/25 [==============================] - 0s 950us/step - loss: 3.3493e-04\n",
      "Epoch 250/1000\n",
      "25/25 [==============================] - 0s 962us/step - loss: 4.4448e-04\n",
      "Epoch 251/1000\n",
      "25/25 [==============================] - 0s 983us/step - loss: 7.3808e-04\n",
      "Epoch 252/1000\n",
      "25/25 [==============================] - 0s 960us/step - loss: 5.8636e-04\n",
      "Epoch 253/1000\n",
      "25/25 [==============================] - 0s 986us/step - loss: 7.1259e-04\n",
      "Epoch 254/1000\n",
      "25/25 [==============================] - 0s 1ms/step - loss: 4.5460e-04\n",
      "Epoch 255/1000\n",
      "25/25 [==============================] - 0s 1ms/step - loss: 3.2434e-04\n",
      "Epoch 256/1000\n",
      "25/25 [==============================] - 0s 1ms/step - loss: 3.7375e-04\n",
      "Epoch 257/1000\n",
      "25/25 [==============================] - 0s 1ms/step - loss: 3.5757e-04\n",
      "Epoch 258/1000\n",
      "25/25 [==============================] - 0s 989us/step - loss: 3.3114e-04\n",
      "Epoch 259/1000\n",
      "25/25 [==============================] - 0s 978us/step - loss: 4.4909e-04\n",
      "Epoch 260/1000\n",
      "25/25 [==============================] - 0s 993us/step - loss: 5.7350e-04\n",
      "Epoch 261/1000\n",
      "25/25 [==============================] - 0s 986us/step - loss: 4.6882e-04\n",
      "Epoch 262/1000\n",
      "25/25 [==============================] - 0s 973us/step - loss: 2.8661e-04\n",
      "Epoch 263/1000\n",
      "25/25 [==============================] - 0s 963us/step - loss: 2.2023e-04\n",
      "Epoch 264/1000\n",
      "25/25 [==============================] - 0s 954us/step - loss: 2.3913e-04\n",
      "Epoch 265/1000\n",
      "25/25 [==============================] - 0s 977us/step - loss: 3.1953e-04\n",
      "Epoch 266/1000\n",
      "25/25 [==============================] - 0s 949us/step - loss: 2.6816e-04\n",
      "Epoch 267/1000\n",
      "25/25 [==============================] - 0s 960us/step - loss: 2.3003e-04\n",
      "Epoch 268/1000\n",
      "25/25 [==============================] - 0s 981us/step - loss: 1.7068e-04\n",
      "Epoch 269/1000\n",
      "25/25 [==============================] - 0s 991us/step - loss: 2.1199e-04\n",
      "Epoch 270/1000\n",
      "25/25 [==============================] - 0s 1ms/step - loss: 2.9139e-04\n",
      "Epoch 271/1000\n",
      "25/25 [==============================] - 0s 968us/step - loss: 3.2591e-04\n",
      "Epoch 272/1000\n",
      "25/25 [==============================] - 0s 949us/step - loss: 3.9004e-04\n",
      "Epoch 273/1000\n",
      "25/25 [==============================] - 0s 955us/step - loss: 3.0034e-04\n",
      "Epoch 274/1000\n",
      "25/25 [==============================] - 0s 986us/step - loss: 2.1954e-04\n",
      "Epoch 275/1000\n",
      "25/25 [==============================] - 0s 974us/step - loss: 2.6113e-04\n",
      "Epoch 276/1000\n",
      "25/25 [==============================] - 0s 985us/step - loss: 2.4467e-04\n",
      "Epoch 277/1000\n",
      "25/25 [==============================] - 0s 946us/step - loss: 1.3218e-04\n",
      "Epoch 278/1000\n",
      "25/25 [==============================] - 0s 979us/step - loss: 2.2798e-04\n",
      "Epoch 279/1000\n",
      "25/25 [==============================] - 0s 971us/step - loss: 1.5776e-04\n",
      "Epoch 280/1000\n",
      "25/25 [==============================] - 0s 980us/step - loss: 1.8616e-04\n",
      "Epoch 281/1000\n",
      "25/25 [==============================] - 0s 954us/step - loss: 2.0532e-04\n",
      "Epoch 282/1000\n",
      "25/25 [==============================] - 0s 972us/step - loss: 3.5852e-04\n",
      "Epoch 283/1000\n",
      "25/25 [==============================] - 0s 971us/step - loss: 4.0375e-04\n",
      "Epoch 284/1000\n",
      "25/25 [==============================] - 0s 974us/step - loss: 2.9096e-04\n",
      "Epoch 285/1000\n",
      "25/25 [==============================] - 0s 974us/step - loss: 2.1677e-04\n",
      "Epoch 286/1000\n",
      "25/25 [==============================] - 0s 991us/step - loss: 3.1889e-04\n",
      "Epoch 287/1000\n",
      "25/25 [==============================] - 0s 981us/step - loss: 2.1021e-04\n",
      "Epoch 288/1000\n",
      "25/25 [==============================] - 0s 971us/step - loss: 2.8156e-04\n",
      "Epoch 289/1000\n",
      "25/25 [==============================] - 0s 993us/step - loss: 4.1032e-04\n",
      "Epoch 290/1000\n",
      "25/25 [==============================] - 0s 960us/step - loss: 1.8767e-04\n",
      "Epoch 291/1000\n",
      "25/25 [==============================] - 0s 964us/step - loss: 2.4016e-04\n",
      "Epoch 292/1000\n",
      "25/25 [==============================] - 0s 960us/step - loss: 2.3487e-04\n",
      "Epoch 293/1000\n",
      "25/25 [==============================] - 0s 976us/step - loss: 2.4603e-04\n",
      "Epoch 294/1000\n",
      "25/25 [==============================] - 0s 964us/step - loss: 2.2270e-04\n",
      "Epoch 295/1000\n",
      "25/25 [==============================] - 0s 969us/step - loss: 2.5783e-04\n",
      "Epoch 296/1000\n",
      "25/25 [==============================] - 0s 974us/step - loss: 3.5881e-04\n",
      "Epoch 297/1000\n",
      "25/25 [==============================] - 0s 969us/step - loss: 5.0423e-04\n",
      "Epoch 298/1000\n",
      "25/25 [==============================] - 0s 914us/step - loss: 4.9842e-04\n",
      "Epoch 299/1000\n",
      "25/25 [==============================] - 0s 920us/step - loss: 4.0737e-04\n",
      "Epoch 300/1000\n",
      "25/25 [==============================] - 0s 988us/step - loss: 5.3817e-04\n",
      "Epoch 301/1000\n",
      "25/25 [==============================] - 0s 935us/step - loss: 3.9283e-04\n",
      "Epoch 302/1000\n",
      "25/25 [==============================] - 0s 951us/step - loss: 2.6015e-04\n",
      "Epoch 303/1000\n",
      "25/25 [==============================] - 0s 1ms/step - loss: 3.1696e-04\n",
      "Epoch 304/1000\n",
      "25/25 [==============================] - 0s 1ms/step - loss: 2.6599e-04\n",
      "Epoch 305/1000\n",
      "25/25 [==============================] - 0s 1ms/step - loss: 2.4353e-04\n",
      "Epoch 306/1000\n",
      "25/25 [==============================] - 0s 1ms/step - loss: 2.5180e-04\n",
      "Epoch 307/1000\n",
      "25/25 [==============================] - 0s 1ms/step - loss: 3.3069e-04\n",
      "Epoch 308/1000\n",
      "25/25 [==============================] - 0s 992us/step - loss: 3.5801e-04\n",
      "Epoch 309/1000\n",
      "25/25 [==============================] - 0s 1ms/step - loss: 2.6772e-04\n",
      "Epoch 310/1000\n",
      "25/25 [==============================] - 0s 999us/step - loss: 2.6223e-04\n",
      "Epoch 311/1000\n",
      "25/25 [==============================] - 0s 975us/step - loss: 1.9006e-04\n",
      "Epoch 312/1000\n",
      "25/25 [==============================] - 0s 992us/step - loss: 2.2391e-04\n",
      "Epoch 313/1000\n",
      "25/25 [==============================] - 0s 972us/step - loss: 1.9727e-04\n",
      "Epoch 314/1000\n",
      "25/25 [==============================] - 0s 967us/step - loss: 2.1080e-04\n",
      "Epoch 315/1000\n",
      "25/25 [==============================] - 0s 980us/step - loss: 1.7404e-04\n",
      "Epoch 316/1000\n",
      "25/25 [==============================] - 0s 953us/step - loss: 1.5511e-04\n",
      "Epoch 317/1000\n",
      "25/25 [==============================] - 0s 982us/step - loss: 1.6211e-04\n",
      "Epoch 318/1000\n",
      "25/25 [==============================] - 0s 962us/step - loss: 1.7683e-04\n",
      "Epoch 319/1000\n",
      "25/25 [==============================] - 0s 958us/step - loss: 1.4738e-04\n",
      "Epoch 320/1000\n",
      "25/25 [==============================] - 0s 991us/step - loss: 1.3292e-04\n",
      "Epoch 321/1000\n",
      "25/25 [==============================] - 0s 956us/step - loss: 1.4916e-04\n",
      "Epoch 322/1000\n",
      "25/25 [==============================] - 0s 977us/step - loss: 1.3709e-04\n",
      "Epoch 323/1000\n",
      "25/25 [==============================] - 0s 964us/step - loss: 2.0947e-04\n",
      "Epoch 324/1000\n",
      "25/25 [==============================] - 0s 972us/step - loss: 1.6747e-04\n",
      "Epoch 325/1000\n",
      "25/25 [==============================] - 0s 977us/step - loss: 1.2422e-04\n",
      "Epoch 326/1000\n",
      "25/25 [==============================] - 0s 968us/step - loss: 1.7788e-04\n",
      "Epoch 327/1000\n",
      "25/25 [==============================] - 0s 998us/step - loss: 2.4158e-04\n",
      "Epoch 328/1000\n",
      "25/25 [==============================] - 0s 982us/step - loss: 1.8382e-04\n",
      "Epoch 329/1000\n",
      "25/25 [==============================] - 0s 991us/step - loss: 1.1918e-04\n",
      "Epoch 330/1000\n",
      "25/25 [==============================] - 0s 956us/step - loss: 1.0090e-04\n",
      "Epoch 331/1000\n",
      "25/25 [==============================] - 0s 966us/step - loss: 1.4928e-04\n",
      "Epoch 332/1000\n",
      "25/25 [==============================] - 0s 994us/step - loss: 2.3274e-04\n",
      "Epoch 333/1000\n",
      "25/25 [==============================] - 0s 973us/step - loss: 1.3266e-04\n",
      "Epoch 334/1000\n",
      "25/25 [==============================] - 0s 958us/step - loss: 2.1067e-04\n",
      "Epoch 335/1000\n",
      "25/25 [==============================] - 0s 949us/step - loss: 3.1325e-04\n",
      "Epoch 336/1000\n",
      "25/25 [==============================] - 0s 966us/step - loss: 1.6444e-04\n",
      "Epoch 337/1000\n",
      "25/25 [==============================] - 0s 970us/step - loss: 9.8048e-05\n",
      "Epoch 338/1000\n",
      "25/25 [==============================] - 0s 952us/step - loss: 1.1632e-04\n",
      "Epoch 339/1000\n",
      "25/25 [==============================] - 0s 989us/step - loss: 2.8117e-04\n",
      "Epoch 340/1000\n",
      "25/25 [==============================] - 0s 984us/step - loss: 3.0295e-04\n",
      "Epoch 341/1000\n",
      "25/25 [==============================] - 0s 989us/step - loss: 4.7114e-04\n",
      "Epoch 342/1000\n",
      "25/25 [==============================] - 0s 977us/step - loss: 8.2726e-04\n",
      "Epoch 343/1000\n",
      "25/25 [==============================] - 0s 955us/step - loss: 0.0013\n",
      "Epoch 344/1000\n",
      "25/25 [==============================] - 0s 958us/step - loss: 8.1914e-04\n",
      "Epoch 345/1000\n",
      "25/25 [==============================] - 0s 970us/step - loss: 5.5664e-04\n",
      "Epoch 346/1000\n",
      "25/25 [==============================] - 0s 975us/step - loss: 4.0159e-04\n",
      "Epoch 347/1000\n",
      "25/25 [==============================] - 0s 965us/step - loss: 3.5542e-04\n",
      "Epoch 348/1000\n",
      "25/25 [==============================] - 0s 979us/step - loss: 2.9599e-04\n",
      "Epoch 349/1000\n",
      "25/25 [==============================] - 0s 975us/step - loss: 3.7229e-04\n",
      "Epoch 350/1000\n",
      "25/25 [==============================] - 0s 971us/step - loss: 4.4962e-04\n",
      "Epoch 351/1000\n",
      "25/25 [==============================] - 0s 983us/step - loss: 2.4712e-04\n",
      "Epoch 352/1000\n",
      "25/25 [==============================] - 0s 996us/step - loss: 2.7791e-04\n",
      "Epoch 353/1000\n",
      "25/25 [==============================] - 0s 978us/step - loss: 4.7422e-04\n",
      "Epoch 354/1000\n",
      "25/25 [==============================] - 0s 976us/step - loss: 5.0696e-04\n",
      "Epoch 355/1000\n",
      "25/25 [==============================] - 0s 963us/step - loss: 4.2527e-04\n",
      "Epoch 356/1000\n",
      "25/25 [==============================] - 0s 956us/step - loss: 5.5624e-04\n",
      "Epoch 357/1000\n",
      "25/25 [==============================] - 0s 977us/step - loss: 4.2152e-04\n",
      "Epoch 358/1000\n",
      "25/25 [==============================] - 0s 1ms/step - loss: 3.8235e-04\n",
      "Epoch 359/1000\n",
      "25/25 [==============================] - 0s 1ms/step - loss: 4.0679e-04\n",
      "Epoch 360/1000\n",
      "25/25 [==============================] - 0s 1ms/step - loss: 2.6458e-04\n",
      "Epoch 361/1000\n",
      "25/25 [==============================] - 0s 1ms/step - loss: 2.9183e-04\n",
      "Epoch 362/1000\n",
      "25/25 [==============================] - 0s 997us/step - loss: 2.1021e-04\n",
      "Epoch 363/1000\n",
      "25/25 [==============================] - 0s 995us/step - loss: 2.0308e-04\n",
      "Epoch 364/1000\n",
      "25/25 [==============================] - 0s 978us/step - loss: 2.3360e-04\n",
      "Epoch 365/1000\n",
      "25/25 [==============================] - 0s 998us/step - loss: 2.2401e-04\n",
      "Epoch 366/1000\n",
      "25/25 [==============================] - 0s 1ms/step - loss: 1.3184e-04\n",
      "Epoch 367/1000\n",
      "25/25 [==============================] - 0s 977us/step - loss: 2.3988e-04\n",
      "Epoch 368/1000\n",
      "25/25 [==============================] - 0s 944us/step - loss: 1.2668e-04\n",
      "Epoch 369/1000\n",
      "25/25 [==============================] - 0s 974us/step - loss: 1.5081e-04\n",
      "Epoch 370/1000\n",
      "25/25 [==============================] - 0s 964us/step - loss: 1.6032e-04\n",
      "Epoch 371/1000\n",
      "25/25 [==============================] - 0s 969us/step - loss: 1.4249e-04\n",
      "Epoch 372/1000\n",
      "25/25 [==============================] - 0s 942us/step - loss: 1.1621e-04\n",
      "Epoch 373/1000\n",
      "25/25 [==============================] - 0s 964us/step - loss: 1.2605e-04\n",
      "Epoch 374/1000\n",
      "25/25 [==============================] - 0s 993us/step - loss: 1.2966e-04\n",
      "Epoch 375/1000\n",
      "25/25 [==============================] - 0s 971us/step - loss: 1.1962e-04\n",
      "Epoch 376/1000\n",
      "25/25 [==============================] - 0s 992us/step - loss: 1.3418e-04\n",
      "Epoch 377/1000\n",
      "25/25 [==============================] - 0s 962us/step - loss: 1.6314e-04\n",
      "Epoch 378/1000\n",
      "25/25 [==============================] - 0s 989us/step - loss: 1.7048e-04\n",
      "Epoch 379/1000\n",
      "25/25 [==============================] - 0s 965us/step - loss: 1.9999e-04\n",
      "Epoch 380/1000\n",
      "25/25 [==============================] - 0s 999us/step - loss: 3.4438e-04\n",
      "Epoch 381/1000\n",
      "25/25 [==============================] - 0s 982us/step - loss: 4.6038e-04\n",
      "Epoch 382/1000\n",
      "25/25 [==============================] - 0s 964us/step - loss: 5.5704e-04\n",
      "Epoch 383/1000\n",
      "25/25 [==============================] - 0s 965us/step - loss: 3.3722e-04\n",
      "Epoch 384/1000\n",
      "25/25 [==============================] - 0s 959us/step - loss: 4.0256e-04\n",
      "Epoch 385/1000\n",
      "25/25 [==============================] - 0s 986us/step - loss: 1.6495e-04\n",
      "Epoch 386/1000\n",
      "25/25 [==============================] - 0s 994us/step - loss: 1.4038e-04\n",
      "Epoch 387/1000\n",
      "25/25 [==============================] - 0s 989us/step - loss: 1.2058e-04\n",
      "Epoch 388/1000\n",
      "25/25 [==============================] - 0s 966us/step - loss: 1.1866e-04\n",
      "Epoch 389/1000\n",
      "25/25 [==============================] - 0s 952us/step - loss: 1.4587e-04\n",
      "Epoch 390/1000\n",
      "25/25 [==============================] - 0s 963us/step - loss: 2.1512e-04\n",
      "Epoch 391/1000\n",
      "25/25 [==============================] - 0s 952us/step - loss: 3.5646e-04\n",
      "Epoch 392/1000\n",
      "25/25 [==============================] - 0s 970us/step - loss: 2.8269e-04\n",
      "Epoch 393/1000\n",
      "25/25 [==============================] - 0s 999us/step - loss: 2.7954e-04\n",
      "Epoch 394/1000\n",
      "25/25 [==============================] - 0s 978us/step - loss: 2.9528e-04\n",
      "Epoch 395/1000\n",
      "25/25 [==============================] - 0s 991us/step - loss: 2.2469e-04\n",
      "Epoch 396/1000\n",
      "25/25 [==============================] - 0s 970us/step - loss: 1.2621e-04\n",
      "Epoch 397/1000\n",
      "25/25 [==============================] - 0s 1ms/step - loss: 3.1080e-04\n",
      "Epoch 398/1000\n",
      "25/25 [==============================] - 0s 952us/step - loss: 2.5070e-04\n",
      "Epoch 399/1000\n",
      "25/25 [==============================] - 0s 964us/step - loss: 1.8290e-04\n",
      "Epoch 400/1000\n",
      "25/25 [==============================] - 0s 978us/step - loss: 1.9587e-04\n",
      "Epoch 401/1000\n",
      "25/25 [==============================] - 0s 959us/step - loss: 1.6177e-04\n",
      "Epoch 402/1000\n",
      "25/25 [==============================] - 0s 988us/step - loss: 1.0753e-04\n",
      "Epoch 403/1000\n",
      "25/25 [==============================] - 0s 972us/step - loss: 1.4214e-04\n",
      "Epoch 404/1000\n",
      "25/25 [==============================] - 0s 981us/step - loss: 1.0372e-04\n",
      "Epoch 405/1000\n",
      "25/25 [==============================] - 0s 985us/step - loss: 1.2207e-04\n",
      "Epoch 406/1000\n",
      "25/25 [==============================] - 0s 977us/step - loss: 8.5485e-05\n",
      "Epoch 407/1000\n",
      "25/25 [==============================] - 0s 954us/step - loss: 1.1203e-04\n",
      "Epoch 408/1000\n",
      "25/25 [==============================] - 0s 975us/step - loss: 1.4521e-04\n",
      "Epoch 409/1000\n",
      "25/25 [==============================] - 0s 958us/step - loss: 1.5645e-04\n",
      "Epoch 410/1000\n",
      "25/25 [==============================] - 0s 964us/step - loss: 1.1302e-04\n",
      "Epoch 411/1000\n",
      "25/25 [==============================] - 0s 993us/step - loss: 1.3070e-04\n",
      "Epoch 412/1000\n",
      "25/25 [==============================] - 0s 970us/step - loss: 2.2541e-04\n",
      "Epoch 413/1000\n",
      "25/25 [==============================] - 0s 968us/step - loss: 2.6268e-04\n",
      "Epoch 414/1000\n",
      "25/25 [==============================] - 0s 969us/step - loss: 4.3266e-04\n",
      "Epoch 415/1000\n",
      "25/25 [==============================] - 0s 969us/step - loss: 4.3782e-04\n",
      "Epoch 416/1000\n",
      "25/25 [==============================] - 0s 977us/step - loss: 7.6555e-04\n",
      "Epoch 417/1000\n",
      "25/25 [==============================] - 0s 1ms/step - loss: 5.9865e-04\n",
      "Epoch 418/1000\n",
      "25/25 [==============================] - 0s 1ms/step - loss: 3.5846e-04\n",
      "Epoch 419/1000\n",
      "25/25 [==============================] - 0s 1ms/step - loss: 1.8345e-04\n",
      "Epoch 420/1000\n",
      "25/25 [==============================] - 0s 1ms/step - loss: 2.4348e-04\n",
      "Epoch 421/1000\n",
      "25/25 [==============================] - 0s 1ms/step - loss: 6.0285e-04\n",
      "Epoch 422/1000\n",
      "25/25 [==============================] - 0s 1ms/step - loss: 4.2165e-04\n",
      "Epoch 423/1000\n",
      "25/25 [==============================] - 0s 1ms/step - loss: 2.9469e-04\n",
      "Epoch 424/1000\n",
      "25/25 [==============================] - 0s 1ms/step - loss: 2.1165e-04\n",
      "Epoch 425/1000\n",
      "25/25 [==============================] - 0s 1ms/step - loss: 1.9186e-04\n",
      "Epoch 426/1000\n",
      "25/25 [==============================] - 0s 984us/step - loss: 2.4968e-04\n",
      "Epoch 427/1000\n",
      "25/25 [==============================] - 0s 956us/step - loss: 2.4757e-04\n",
      "Epoch 428/1000\n",
      "25/25 [==============================] - 0s 970us/step - loss: 2.1580e-04\n",
      "Epoch 429/1000\n",
      "25/25 [==============================] - 0s 966us/step - loss: 1.2161e-04\n",
      "Epoch 430/1000\n",
      "25/25 [==============================] - 0s 946us/step - loss: 1.1283e-04\n",
      "Epoch 431/1000\n",
      "25/25 [==============================] - 0s 984us/step - loss: 9.6665e-05\n",
      "Epoch 432/1000\n",
      "25/25 [==============================] - 0s 1ms/step - loss: 1.3144e-04\n",
      "Epoch 433/1000\n",
      "25/25 [==============================] - 0s 990us/step - loss: 2.0869e-04\n",
      "Epoch 434/1000\n",
      "25/25 [==============================] - 0s 1ms/step - loss: 1.9514e-04\n",
      "Epoch 435/1000\n",
      "25/25 [==============================] - 0s 1ms/step - loss: 1.0078e-04\n",
      "Epoch 436/1000\n",
      "25/25 [==============================] - 0s 991us/step - loss: 9.0739e-05\n",
      "Epoch 437/1000\n",
      "25/25 [==============================] - 0s 968us/step - loss: 1.8080e-04\n",
      "Epoch 438/1000\n",
      "25/25 [==============================] - 0s 988us/step - loss: 7.1320e-05\n",
      "Epoch 439/1000\n",
      "25/25 [==============================] - 0s 987us/step - loss: 1.3081e-04\n",
      "Epoch 440/1000\n",
      "25/25 [==============================] - 0s 1ms/step - loss: 1.0919e-04\n",
      "Epoch 441/1000\n",
      "25/25 [==============================] - 0s 967us/step - loss: 1.5780e-04\n",
      "Epoch 442/1000\n",
      "25/25 [==============================] - 0s 947us/step - loss: 2.6243e-04\n",
      "Epoch 443/1000\n",
      "25/25 [==============================] - 0s 968us/step - loss: 1.6976e-04\n",
      "Epoch 444/1000\n",
      "25/25 [==============================] - 0s 972us/step - loss: 1.0555e-04\n",
      "Epoch 445/1000\n",
      "25/25 [==============================] - 0s 957us/step - loss: 2.3187e-04\n",
      "Epoch 446/1000\n",
      "25/25 [==============================] - 0s 976us/step - loss: 2.0494e-04\n",
      "Epoch 447/1000\n",
      "25/25 [==============================] - 0s 957us/step - loss: 1.9512e-04\n",
      "Epoch 448/1000\n",
      "25/25 [==============================] - 0s 974us/step - loss: 1.5853e-04\n",
      "Epoch 449/1000\n",
      "25/25 [==============================] - 0s 984us/step - loss: 2.4046e-04\n",
      "Epoch 450/1000\n",
      "25/25 [==============================] - 0s 967us/step - loss: 3.2635e-04\n",
      "Epoch 451/1000\n",
      "25/25 [==============================] - 0s 979us/step - loss: 1.8272e-04\n",
      "Epoch 452/1000\n",
      "25/25 [==============================] - 0s 974us/step - loss: 1.2822e-04\n",
      "Epoch 453/1000\n",
      "25/25 [==============================] - 0s 961us/step - loss: 1.4722e-04\n",
      "Epoch 454/1000\n",
      "25/25 [==============================] - 0s 988us/step - loss: 2.7010e-04\n",
      "Epoch 455/1000\n",
      "25/25 [==============================] - 0s 976us/step - loss: 3.7486e-04\n",
      "Epoch 456/1000\n",
      "25/25 [==============================] - 0s 994us/step - loss: 1.8169e-04\n",
      "Epoch 457/1000\n",
      "25/25 [==============================] - 0s 979us/step - loss: 1.0860e-04\n",
      "Epoch 458/1000\n",
      "25/25 [==============================] - 0s 964us/step - loss: 1.0505e-04\n",
      "Epoch 459/1000\n",
      "25/25 [==============================] - 0s 975us/step - loss: 1.5330e-04\n",
      "Epoch 460/1000\n",
      "25/25 [==============================] - 0s 960us/step - loss: 1.5935e-04\n",
      "Epoch 461/1000\n",
      "25/25 [==============================] - 0s 962us/step - loss: 9.3862e-05\n",
      "Epoch 462/1000\n",
      "25/25 [==============================] - 0s 973us/step - loss: 7.1075e-05\n",
      "Epoch 463/1000\n",
      "25/25 [==============================] - 0s 992us/step - loss: 5.9683e-05\n",
      "Epoch 464/1000\n",
      "25/25 [==============================] - 0s 995us/step - loss: 1.3912e-04\n",
      "Epoch 465/1000\n",
      "25/25 [==============================] - 0s 970us/step - loss: 1.9229e-04\n",
      "Epoch 466/1000\n",
      "25/25 [==============================] - 0s 945us/step - loss: 1.4582e-04\n",
      "Epoch 467/1000\n",
      "25/25 [==============================] - 0s 972us/step - loss: 1.0091e-04\n",
      "Epoch 468/1000\n",
      "25/25 [==============================] - 0s 992us/step - loss: 1.0193e-04\n",
      "Epoch 469/1000\n",
      "25/25 [==============================] - 0s 986us/step - loss: 1.2796e-04\n",
      "Epoch 470/1000\n",
      "25/25 [==============================] - 0s 975us/step - loss: 1.8276e-04\n",
      "Epoch 471/1000\n",
      "25/25 [==============================] - 0s 967us/step - loss: 1.9164e-04\n",
      "Epoch 472/1000\n",
      "25/25 [==============================] - 0s 976us/step - loss: 1.6108e-04\n",
      "Epoch 473/1000\n",
      "25/25 [==============================] - 0s 959us/step - loss: 7.0100e-05\n",
      "Epoch 474/1000\n",
      "25/25 [==============================] - 0s 968us/step - loss: 7.1474e-05\n",
      "Epoch 475/1000\n",
      "25/25 [==============================] - 0s 998us/step - loss: 8.5722e-05\n",
      "Epoch 476/1000\n",
      "25/25 [==============================] - 0s 969us/step - loss: 3.2571e-04\n",
      "Epoch 477/1000\n",
      "25/25 [==============================] - 0s 972us/step - loss: 1.9845e-04\n",
      "Epoch 478/1000\n",
      "25/25 [==============================] - 0s 964us/step - loss: 1.3838e-04\n",
      "Epoch 479/1000\n",
      "25/25 [==============================] - 0s 960us/step - loss: 1.5271e-04\n",
      "Epoch 480/1000\n",
      "25/25 [==============================] - 0s 980us/step - loss: 1.7071e-04\n",
      "Epoch 481/1000\n",
      "25/25 [==============================] - 0s 996us/step - loss: 8.0644e-05\n",
      "Epoch 482/1000\n",
      "25/25 [==============================] - 0s 993us/step - loss: 6.5591e-05\n",
      "Epoch 483/1000\n",
      "25/25 [==============================] - 0s 960us/step - loss: 8.2898e-05\n",
      "Epoch 484/1000\n",
      "25/25 [==============================] - 0s 955us/step - loss: 9.3595e-05\n",
      "Epoch 485/1000\n",
      "25/25 [==============================] - 0s 974us/step - loss: 1.1094e-04\n",
      "Epoch 486/1000\n",
      "25/25 [==============================] - 0s 1ms/step - loss: 1.5062e-04\n",
      "Epoch 487/1000\n",
      "25/25 [==============================] - 0s 965us/step - loss: 9.7626e-05\n",
      "Epoch 488/1000\n",
      "25/25 [==============================] - 0s 991us/step - loss: 1.3003e-04\n",
      "Epoch 489/1000\n",
      "25/25 [==============================] - 0s 956us/step - loss: 1.6226e-04\n",
      "Epoch 490/1000\n",
      "25/25 [==============================] - 0s 965us/step - loss: 1.5416e-04\n",
      "Epoch 491/1000\n",
      "25/25 [==============================] - 0s 958us/step - loss: 1.5390e-04\n",
      "Epoch 492/1000\n",
      "25/25 [==============================] - 0s 961us/step - loss: 1.2298e-04\n",
      "Epoch 493/1000\n",
      "25/25 [==============================] - 0s 972us/step - loss: 9.7813e-05\n",
      "Epoch 494/1000\n",
      "25/25 [==============================] - 0s 958us/step - loss: 2.0033e-04\n",
      "Epoch 495/1000\n",
      "25/25 [==============================] - 0s 975us/step - loss: 1.7891e-04\n",
      "Epoch 496/1000\n",
      "25/25 [==============================] - 0s 985us/step - loss: 1.1151e-04\n",
      "Epoch 497/1000\n",
      "25/25 [==============================] - 0s 992us/step - loss: 1.3791e-04\n",
      "Epoch 498/1000\n",
      "25/25 [==============================] - 0s 1ms/step - loss: 1.1905e-04\n",
      "Epoch 499/1000\n",
      "25/25 [==============================] - 0s 972us/step - loss: 7.8579e-05\n",
      "Epoch 500/1000\n",
      "25/25 [==============================] - 0s 928us/step - loss: 1.5469e-04\n",
      "Epoch 501/1000\n",
      "25/25 [==============================] - 0s 935us/step - loss: 2.1095e-04\n",
      "Epoch 502/1000\n",
      "25/25 [==============================] - 0s 944us/step - loss: 1.2055e-04\n",
      "Epoch 503/1000\n",
      "25/25 [==============================] - 0s 966us/step - loss: 2.8732e-04\n",
      "Epoch 504/1000\n",
      "25/25 [==============================] - 0s 954us/step - loss: 5.3014e-04\n",
      "Epoch 505/1000\n",
      "25/25 [==============================] - 0s 999us/step - loss: 3.3505e-04\n",
      "Epoch 506/1000\n",
      "25/25 [==============================] - 0s 1ms/step - loss: 2.4766e-04\n",
      "Epoch 507/1000\n",
      "25/25 [==============================] - 0s 1ms/step - loss: 2.5160e-04\n",
      "Epoch 508/1000\n",
      "25/25 [==============================] - 0s 1ms/step - loss: 2.0629e-04\n",
      "Epoch 509/1000\n",
      "25/25 [==============================] - 0s 1ms/step - loss: 2.0005e-04\n",
      "Epoch 510/1000\n",
      "25/25 [==============================] - 0s 1ms/step - loss: 1.3252e-04\n",
      "Epoch 511/1000\n",
      "25/25 [==============================] - 0s 1ms/step - loss: 9.6846e-05\n",
      "Epoch 512/1000\n",
      "25/25 [==============================] - 0s 1ms/step - loss: 1.3849e-04\n",
      "Epoch 513/1000\n",
      "25/25 [==============================] - 0s 1ms/step - loss: 1.2185e-04\n",
      "Epoch 514/1000\n",
      "25/25 [==============================] - 0s 1ms/step - loss: 1.1249e-04\n",
      "Epoch 515/1000\n",
      "25/25 [==============================] - 0s 2ms/step - loss: 7.7782e-05\n",
      "Epoch 516/1000\n",
      "25/25 [==============================] - 0s 1ms/step - loss: 1.1609e-04\n",
      "Epoch 517/1000\n",
      "25/25 [==============================] - 0s 991us/step - loss: 1.6329e-04\n",
      "Epoch 518/1000\n",
      "25/25 [==============================] - 0s 1ms/step - loss: 2.6321e-04\n",
      "Epoch 519/1000\n",
      "25/25 [==============================] - 0s 999us/step - loss: 1.8012e-04\n",
      "Epoch 520/1000\n",
      "25/25 [==============================] - 0s 995us/step - loss: 1.9793e-04\n",
      "Epoch 521/1000\n",
      "25/25 [==============================] - 0s 983us/step - loss: 1.4451e-04\n",
      "Epoch 522/1000\n",
      "25/25 [==============================] - 0s 996us/step - loss: 7.6042e-05\n",
      "Epoch 523/1000\n",
      "25/25 [==============================] - 0s 978us/step - loss: 9.5737e-05\n",
      "Epoch 524/1000\n",
      "25/25 [==============================] - 0s 1ms/step - loss: 5.6840e-05\n",
      "Epoch 525/1000\n",
      "25/25 [==============================] - 0s 1ms/step - loss: 1.2343e-04\n",
      "Epoch 526/1000\n",
      "25/25 [==============================] - 0s 1ms/step - loss: 1.9209e-04\n",
      "Epoch 527/1000\n",
      "25/25 [==============================] - 0s 1ms/step - loss: 1.2239e-04\n",
      "Epoch 528/1000\n",
      "25/25 [==============================] - 0s 996us/step - loss: 2.2826e-04\n",
      "Epoch 529/1000\n",
      "25/25 [==============================] - 0s 963us/step - loss: 1.9458e-04\n",
      "Epoch 530/1000\n",
      "25/25 [==============================] - 0s 972us/step - loss: 1.6196e-04\n",
      "Epoch 531/1000\n",
      "25/25 [==============================] - 0s 967us/step - loss: 1.1353e-04\n",
      "Epoch 532/1000\n",
      "25/25 [==============================] - 0s 976us/step - loss: 1.5563e-04\n",
      "Epoch 533/1000\n",
      "25/25 [==============================] - 0s 968us/step - loss: 9.9069e-05\n",
      "Epoch 534/1000\n",
      "25/25 [==============================] - 0s 981us/step - loss: 2.1756e-04\n",
      "Epoch 535/1000\n",
      "25/25 [==============================] - 0s 970us/step - loss: 3.0572e-04\n",
      "Epoch 536/1000\n",
      "25/25 [==============================] - 0s 958us/step - loss: 1.8555e-04\n",
      "Epoch 537/1000\n",
      "25/25 [==============================] - 0s 987us/step - loss: 1.4687e-04\n",
      "Epoch 538/1000\n",
      "25/25 [==============================] - 0s 987us/step - loss: 1.2870e-04\n",
      "Epoch 539/1000\n",
      "25/25 [==============================] - 0s 957us/step - loss: 1.0854e-04\n",
      "Epoch 540/1000\n",
      "25/25 [==============================] - 0s 980us/step - loss: 9.2421e-05\n",
      "Epoch 541/1000\n",
      "25/25 [==============================] - 0s 964us/step - loss: 7.5691e-05\n",
      "Epoch 542/1000\n",
      "25/25 [==============================] - 0s 967us/step - loss: 7.8517e-05\n",
      "Epoch 543/1000\n",
      "25/25 [==============================] - 0s 970us/step - loss: 6.8802e-05\n",
      "Epoch 544/1000\n",
      "25/25 [==============================] - 0s 990us/step - loss: 1.3177e-04\n",
      "Epoch 545/1000\n",
      "25/25 [==============================] - 0s 1ms/step - loss: 8.3545e-05\n",
      "Epoch 546/1000\n",
      "25/25 [==============================] - 0s 993us/step - loss: 1.1002e-04\n",
      "Epoch 547/1000\n",
      "25/25 [==============================] - 0s 1ms/step - loss: 1.3434e-04\n",
      "Epoch 548/1000\n",
      "25/25 [==============================] - 0s 973us/step - loss: 1.2345e-04\n",
      "Epoch 549/1000\n",
      "25/25 [==============================] - 0s 946us/step - loss: 5.6851e-05\n",
      "Epoch 550/1000\n",
      "25/25 [==============================] - 0s 973us/step - loss: 1.9713e-04\n",
      "Epoch 551/1000\n",
      "25/25 [==============================] - 0s 981us/step - loss: 1.1042e-04\n",
      "Epoch 552/1000\n",
      "25/25 [==============================] - 0s 967us/step - loss: 1.0477e-04\n",
      "Epoch 553/1000\n",
      "25/25 [==============================] - 0s 974us/step - loss: 9.1248e-05\n",
      "Epoch 554/1000\n",
      "25/25 [==============================] - 0s 1ms/step - loss: 1.1228e-04\n",
      "Epoch 555/1000\n",
      "25/25 [==============================] - 0s 1ms/step - loss: 1.3351e-04\n",
      "Epoch 556/1000\n",
      "25/25 [==============================] - 0s 994us/step - loss: 1.0057e-04\n",
      "Epoch 557/1000\n",
      "25/25 [==============================] - 0s 1ms/step - loss: 6.1716e-05\n",
      "Epoch 558/1000\n",
      "25/25 [==============================] - 0s 1ms/step - loss: 1.1962e-04\n",
      "Epoch 559/1000\n",
      "25/25 [==============================] - 0s 997us/step - loss: 9.9894e-05\n",
      "Epoch 560/1000\n",
      "25/25 [==============================] - 0s 1ms/step - loss: 9.1160e-05\n",
      "Epoch 561/1000\n",
      "25/25 [==============================] - 0s 981us/step - loss: 1.1775e-04\n",
      "Epoch 562/1000\n",
      "25/25 [==============================] - 0s 1ms/step - loss: 1.6633e-04\n",
      "Epoch 563/1000\n",
      "25/25 [==============================] - 0s 982us/step - loss: 1.8501e-04\n",
      "Epoch 564/1000\n",
      "25/25 [==============================] - 0s 953us/step - loss: 1.8783e-04\n",
      "Epoch 565/1000\n",
      "25/25 [==============================] - 0s 958us/step - loss: 9.4594e-05\n",
      "Epoch 566/1000\n",
      "25/25 [==============================] - 0s 978us/step - loss: 8.4762e-05\n",
      "Epoch 567/1000\n",
      "25/25 [==============================] - 0s 971us/step - loss: 2.1720e-04\n",
      "Epoch 568/1000\n",
      "25/25 [==============================] - 0s 976us/step - loss: 1.2907e-04\n",
      "Epoch 569/1000\n",
      "25/25 [==============================] - 0s 981us/step - loss: 1.2217e-04\n",
      "Epoch 570/1000\n",
      "25/25 [==============================] - 0s 968us/step - loss: 2.0074e-04\n",
      "Epoch 571/1000\n",
      "25/25 [==============================] - 0s 994us/step - loss: 1.5568e-04\n",
      "Epoch 572/1000\n",
      "25/25 [==============================] - 0s 970us/step - loss: 1.7126e-04\n",
      "Epoch 573/1000\n",
      "25/25 [==============================] - 0s 970us/step - loss: 1.1999e-04\n",
      "Epoch 574/1000\n",
      "25/25 [==============================] - 0s 971us/step - loss: 1.4179e-04\n",
      "Epoch 575/1000\n",
      "25/25 [==============================] - 0s 946us/step - loss: 1.0220e-04\n",
      "Epoch 576/1000\n",
      "25/25 [==============================] - 0s 961us/step - loss: 1.1159e-04\n",
      "Epoch 577/1000\n",
      "25/25 [==============================] - 0s 972us/step - loss: 1.3768e-04\n",
      "Epoch 578/1000\n",
      "25/25 [==============================] - 0s 984us/step - loss: 1.7339e-04\n",
      "Epoch 579/1000\n",
      "25/25 [==============================] - 0s 999us/step - loss: 1.4384e-04\n",
      "Epoch 580/1000\n",
      "25/25 [==============================] - 0s 993us/step - loss: 7.0831e-05\n",
      "Epoch 581/1000\n",
      "25/25 [==============================] - 0s 990us/step - loss: 1.9429e-04\n",
      "Epoch 582/1000\n",
      "25/25 [==============================] - 0s 991us/step - loss: 1.9629e-04\n",
      "Epoch 583/1000\n",
      "25/25 [==============================] - 0s 962us/step - loss: 1.3097e-04\n",
      "Epoch 584/1000\n",
      "25/25 [==============================] - 0s 955us/step - loss: 1.5848e-04\n",
      "Epoch 585/1000\n",
      "25/25 [==============================] - 0s 970us/step - loss: 1.0419e-04\n",
      "Epoch 586/1000\n",
      "25/25 [==============================] - 0s 975us/step - loss: 8.4942e-05\n",
      "Epoch 587/1000\n",
      "25/25 [==============================] - 0s 997us/step - loss: 7.2283e-05\n",
      "Epoch 588/1000\n",
      "25/25 [==============================] - 0s 977us/step - loss: 7.2812e-05\n",
      "Epoch 589/1000\n",
      "25/25 [==============================] - 0s 987us/step - loss: 8.1299e-05\n",
      "Epoch 590/1000\n",
      "25/25 [==============================] - 0s 966us/step - loss: 7.8433e-05\n",
      "Epoch 591/1000\n",
      "25/25 [==============================] - 0s 979us/step - loss: 1.0315e-04\n",
      "Epoch 592/1000\n",
      "25/25 [==============================] - 0s 983us/step - loss: 1.2938e-04\n",
      "Epoch 593/1000\n",
      "25/25 [==============================] - 0s 1ms/step - loss: 1.0600e-04\n",
      "Epoch 594/1000\n",
      "25/25 [==============================] - 0s 991us/step - loss: 2.0900e-04\n",
      "Epoch 595/1000\n",
      "25/25 [==============================] - 0s 1ms/step - loss: 2.5681e-04\n",
      "Epoch 596/1000\n",
      "25/25 [==============================] - 0s 997us/step - loss: 1.0853e-04\n",
      "Epoch 597/1000\n",
      "25/25 [==============================] - 0s 967us/step - loss: 1.0463e-04\n",
      "Epoch 598/1000\n",
      "25/25 [==============================] - 0s 967us/step - loss: 1.2894e-04\n",
      "Epoch 599/1000\n",
      "25/25 [==============================] - 0s 971us/step - loss: 1.1943e-04\n",
      "Epoch 600/1000\n",
      "25/25 [==============================] - 0s 964us/step - loss: 9.4659e-05\n",
      "Epoch 601/1000\n",
      "25/25 [==============================] - 0s 961us/step - loss: 1.2352e-04\n",
      "Epoch 602/1000\n",
      "25/25 [==============================] - 0s 981us/step - loss: 1.0371e-04\n",
      "Epoch 603/1000\n",
      "25/25 [==============================] - 0s 974us/step - loss: 1.1738e-04\n",
      "Epoch 604/1000\n",
      "25/25 [==============================] - 0s 983us/step - loss: 1.1964e-04\n",
      "Epoch 605/1000\n",
      "25/25 [==============================] - 0s 960us/step - loss: 9.6412e-05\n",
      "Epoch 606/1000\n",
      "25/25 [==============================] - 0s 965us/step - loss: 9.0903e-05\n",
      "Epoch 607/1000\n",
      "25/25 [==============================] - 0s 977us/step - loss: 9.9656e-05\n",
      "Epoch 608/1000\n",
      "25/25 [==============================] - 0s 982us/step - loss: 1.0833e-04\n",
      "Epoch 609/1000\n",
      "25/25 [==============================] - 0s 974us/step - loss: 1.0796e-04\n",
      "Epoch 610/1000\n",
      "25/25 [==============================] - 0s 969us/step - loss: 1.5021e-04\n",
      "Epoch 611/1000\n",
      "25/25 [==============================] - 0s 960us/step - loss: 1.1934e-04\n",
      "Epoch 612/1000\n",
      "25/25 [==============================] - 0s 971us/step - loss: 1.1426e-04\n",
      "Epoch 613/1000\n",
      "25/25 [==============================] - 0s 997us/step - loss: 2.2244e-04\n",
      "Epoch 614/1000\n",
      "25/25 [==============================] - 0s 975us/step - loss: 2.6584e-04\n",
      "Epoch 615/1000\n",
      "25/25 [==============================] - 0s 968us/step - loss: 2.3809e-04\n",
      "Epoch 616/1000\n",
      "25/25 [==============================] - 0s 993us/step - loss: 1.7066e-04\n",
      "Epoch 617/1000\n",
      "25/25 [==============================] - 0s 966us/step - loss: 2.0091e-04\n",
      "Epoch 618/1000\n",
      "25/25 [==============================] - 0s 960us/step - loss: 1.1594e-04\n",
      "Epoch 619/1000\n",
      "25/25 [==============================] - 0s 980us/step - loss: 1.5854e-04\n",
      "Epoch 620/1000\n",
      "25/25 [==============================] - 0s 1ms/step - loss: 2.1938e-04\n",
      "Epoch 621/1000\n",
      "25/25 [==============================] - 0s 985us/step - loss: 1.1939e-04\n",
      "Epoch 622/1000\n",
      "25/25 [==============================] - 0s 965us/step - loss: 7.3215e-05\n",
      "Epoch 623/1000\n",
      "25/25 [==============================] - 0s 1ms/step - loss: 1.2412e-04\n",
      "Epoch 624/1000\n",
      "25/25 [==============================] - 0s 992us/step - loss: 1.1631e-04\n",
      "Epoch 625/1000\n",
      "25/25 [==============================] - 0s 979us/step - loss: 9.3640e-05\n",
      "Epoch 626/1000\n",
      "25/25 [==============================] - 0s 967us/step - loss: 7.9071e-05\n",
      "Epoch 627/1000\n",
      "25/25 [==============================] - 0s 972us/step - loss: 7.3871e-05\n",
      "Epoch 628/1000\n",
      "25/25 [==============================] - 0s 966us/step - loss: 8.7048e-05\n",
      "Epoch 629/1000\n",
      "25/25 [==============================] - 0s 991us/step - loss: 1.1626e-04\n",
      "Epoch 630/1000\n",
      "25/25 [==============================] - 0s 979us/step - loss: 1.4856e-04\n",
      "Epoch 631/1000\n",
      "25/25 [==============================] - 0s 975us/step - loss: 1.5373e-04\n",
      "Epoch 632/1000\n",
      "25/25 [==============================] - 0s 980us/step - loss: 1.4850e-04\n",
      "Epoch 633/1000\n",
      "25/25 [==============================] - 0s 988us/step - loss: 1.3078e-04\n",
      "Epoch 634/1000\n",
      "25/25 [==============================] - 0s 961us/step - loss: 1.0063e-04\n",
      "Epoch 635/1000\n",
      "25/25 [==============================] - 0s 968us/step - loss: 5.8057e-05\n",
      "Epoch 636/1000\n",
      "25/25 [==============================] - 0s 958us/step - loss: 5.2343e-05\n",
      "Epoch 637/1000\n",
      "25/25 [==============================] - 0s 962us/step - loss: 7.5189e-05\n",
      "Epoch 638/1000\n",
      "25/25 [==============================] - 0s 992us/step - loss: 9.5096e-05\n",
      "Epoch 639/1000\n",
      "25/25 [==============================] - 0s 971us/step - loss: 1.9670e-04\n",
      "Epoch 640/1000\n",
      "25/25 [==============================] - 0s 1ms/step - loss: 1.4393e-04\n",
      "Epoch 641/1000\n",
      "25/25 [==============================] - 0s 1ms/step - loss: 2.3823e-04\n",
      "Epoch 642/1000\n",
      "25/25 [==============================] - 0s 987us/step - loss: 6.5996e-04\n",
      "Epoch 643/1000\n",
      "25/25 [==============================] - 0s 989us/step - loss: 5.4989e-04\n",
      "Epoch 644/1000\n",
      "25/25 [==============================] - 0s 999us/step - loss: 1.5246e-04\n",
      "Epoch 645/1000\n",
      "25/25 [==============================] - 0s 971us/step - loss: 1.2951e-04\n",
      "Epoch 646/1000\n",
      "25/25 [==============================] - 0s 964us/step - loss: 1.3870e-04\n",
      "Epoch 647/1000\n",
      "25/25 [==============================] - 0s 972us/step - loss: 1.7584e-04\n",
      "Epoch 648/1000\n",
      "25/25 [==============================] - 0s 966us/step - loss: 2.1935e-04\n",
      "Epoch 649/1000\n",
      "25/25 [==============================] - 0s 964us/step - loss: 1.5661e-04\n",
      "Epoch 650/1000\n",
      "25/25 [==============================] - 0s 981us/step - loss: 9.1942e-05\n",
      "Epoch 651/1000\n",
      "25/25 [==============================] - 0s 1ms/step - loss: 6.6604e-05\n",
      "Epoch 652/1000\n",
      "25/25 [==============================] - 0s 979us/step - loss: 6.8903e-05\n",
      "Epoch 653/1000\n",
      "25/25 [==============================] - 0s 983us/step - loss: 1.2598e-04\n",
      "Epoch 654/1000\n",
      "25/25 [==============================] - 0s 964us/step - loss: 9.0513e-05\n",
      "Epoch 655/1000\n",
      "25/25 [==============================] - 0s 982us/step - loss: 5.2865e-05\n",
      "Epoch 656/1000\n",
      "25/25 [==============================] - 0s 982us/step - loss: 4.3290e-05\n",
      "Epoch 657/1000\n",
      "25/25 [==============================] - 0s 994us/step - loss: 4.9174e-05\n",
      "Epoch 658/1000\n",
      "25/25 [==============================] - 0s 970us/step - loss: 6.5673e-05\n",
      "Epoch 659/1000\n",
      "25/25 [==============================] - 0s 980us/step - loss: 1.7377e-04\n",
      "Epoch 660/1000\n",
      "25/25 [==============================] - 0s 973us/step - loss: 1.0896e-04\n",
      "Epoch 661/1000\n",
      "25/25 [==============================] - 0s 955us/step - loss: 9.7977e-05\n",
      "Epoch 662/1000\n",
      "25/25 [==============================] - 0s 972us/step - loss: 1.0717e-04\n",
      "Epoch 663/1000\n",
      "25/25 [==============================] - 0s 974us/step - loss: 7.0505e-05\n",
      "Epoch 664/1000\n",
      "25/25 [==============================] - 0s 982us/step - loss: 5.3963e-05\n",
      "Epoch 665/1000\n",
      "25/25 [==============================] - 0s 967us/step - loss: 8.5866e-05\n",
      "Epoch 666/1000\n",
      "25/25 [==============================] - 0s 978us/step - loss: 6.9789e-05\n",
      "Epoch 667/1000\n",
      "25/25 [==============================] - 0s 1ms/step - loss: 5.3789e-05\n",
      "Epoch 668/1000\n",
      "25/25 [==============================] - 0s 981us/step - loss: 1.6783e-04\n",
      "Epoch 669/1000\n",
      "25/25 [==============================] - 0s 959us/step - loss: 1.5157e-04\n",
      "Epoch 670/1000\n",
      "25/25 [==============================] - 0s 977us/step - loss: 7.5139e-05\n",
      "Epoch 671/1000\n",
      "25/25 [==============================] - 0s 994us/step - loss: 1.8403e-04\n",
      "Epoch 672/1000\n",
      "25/25 [==============================] - 0s 970us/step - loss: 2.7472e-04\n",
      "Epoch 673/1000\n",
      "25/25 [==============================] - 0s 1ms/step - loss: 2.0541e-04\n",
      "Epoch 674/1000\n",
      "25/25 [==============================] - 0s 979us/step - loss: 1.4074e-04\n",
      "Epoch 675/1000\n",
      "25/25 [==============================] - 0s 968us/step - loss: 1.2836e-04\n",
      "Epoch 676/1000\n",
      "25/25 [==============================] - 0s 990us/step - loss: 9.1532e-05\n",
      "Epoch 677/1000\n",
      "25/25 [==============================] - 0s 972us/step - loss: 1.0852e-04\n",
      "Epoch 678/1000\n",
      "25/25 [==============================] - 0s 978us/step - loss: 1.0729e-04\n",
      "Epoch 679/1000\n",
      "25/25 [==============================] - 0s 972us/step - loss: 1.6985e-04\n",
      "Epoch 680/1000\n",
      "25/25 [==============================] - 0s 968us/step - loss: 1.7664e-04\n",
      "Epoch 681/1000\n",
      "25/25 [==============================] - 0s 987us/step - loss: 1.1063e-04\n",
      "Epoch 682/1000\n",
      "25/25 [==============================] - 0s 997us/step - loss: 6.9376e-05\n",
      "Epoch 683/1000\n",
      "25/25 [==============================] - 0s 1ms/step - loss: 7.4109e-05\n",
      "Epoch 684/1000\n",
      "25/25 [==============================] - 0s 994us/step - loss: 4.8850e-05\n",
      "Epoch 685/1000\n",
      "25/25 [==============================] - 0s 1ms/step - loss: 7.5013e-05\n",
      "Epoch 686/1000\n",
      "25/25 [==============================] - 0s 1ms/step - loss: 9.0065e-05\n",
      "Epoch 687/1000\n",
      "25/25 [==============================] - 0s 1ms/step - loss: 1.7549e-04\n",
      "Epoch 688/1000\n",
      "25/25 [==============================] - 0s 983us/step - loss: 1.3487e-04\n",
      "Epoch 689/1000\n",
      "25/25 [==============================] - 0s 1000us/step - loss: 1.7352e-04\n",
      "Epoch 690/1000\n",
      "25/25 [==============================] - 0s 1ms/step - loss: 7.6317e-05\n",
      "Epoch 691/1000\n",
      "25/25 [==============================] - 0s 976us/step - loss: 6.3585e-05\n",
      "Epoch 692/1000\n",
      "25/25 [==============================] - 0s 975us/step - loss: 4.4304e-05\n",
      "Epoch 693/1000\n",
      "25/25 [==============================] - 0s 972us/step - loss: 5.5092e-05\n",
      "Epoch 694/1000\n",
      "25/25 [==============================] - 0s 978us/step - loss: 4.7259e-05\n",
      "Epoch 695/1000\n",
      "25/25 [==============================] - 0s 978us/step - loss: 4.2070e-05\n",
      "Epoch 696/1000\n",
      "25/25 [==============================] - 0s 977us/step - loss: 4.6078e-05\n",
      "Epoch 697/1000\n",
      "25/25 [==============================] - 0s 968us/step - loss: 5.7156e-05\n",
      "Epoch 698/1000\n",
      "25/25 [==============================] - 0s 982us/step - loss: 4.9803e-05\n",
      "Epoch 699/1000\n",
      "25/25 [==============================] - 0s 949us/step - loss: 6.0686e-05\n",
      "Epoch 700/1000\n",
      "25/25 [==============================] - 0s 1ms/step - loss: 5.9634e-05\n",
      "Epoch 701/1000\n",
      "25/25 [==============================] - 0s 972us/step - loss: 6.3951e-05\n",
      "Epoch 702/1000\n",
      "25/25 [==============================] - 0s 958us/step - loss: 8.6066e-05\n",
      "Epoch 703/1000\n",
      "25/25 [==============================] - 0s 980us/step - loss: 7.4687e-05\n",
      "Epoch 704/1000\n",
      "25/25 [==============================] - 0s 980us/step - loss: 5.2810e-05\n",
      "Epoch 705/1000\n",
      "25/25 [==============================] - 0s 968us/step - loss: 7.6562e-05\n",
      "Epoch 706/1000\n",
      "25/25 [==============================] - 0s 976us/step - loss: 1.3252e-04\n",
      "Epoch 707/1000\n",
      "25/25 [==============================] - 0s 967us/step - loss: 1.1713e-04\n",
      "Epoch 708/1000\n",
      "25/25 [==============================] - 0s 986us/step - loss: 1.0009e-04\n",
      "Epoch 709/1000\n",
      "25/25 [==============================] - 0s 966us/step - loss: 1.2195e-04\n",
      "Epoch 710/1000\n",
      "25/25 [==============================] - 0s 983us/step - loss: 1.1279e-04\n",
      "Epoch 711/1000\n",
      "25/25 [==============================] - 0s 978us/step - loss: 4.3471e-04\n",
      "Epoch 712/1000\n",
      "25/25 [==============================] - 0s 998us/step - loss: 1.3189e-04\n",
      "Epoch 713/1000\n",
      "25/25 [==============================] - 0s 981us/step - loss: 6.6669e-05\n",
      "Epoch 714/1000\n",
      "25/25 [==============================] - 0s 986us/step - loss: 6.2244e-05\n",
      "Epoch 715/1000\n",
      "25/25 [==============================] - 0s 962us/step - loss: 5.6173e-05\n",
      "Epoch 716/1000\n",
      "25/25 [==============================] - 0s 981us/step - loss: 5.2245e-05\n",
      "Epoch 717/1000\n",
      "25/25 [==============================] - 0s 984us/step - loss: 5.9245e-05\n",
      "Epoch 718/1000\n",
      "25/25 [==============================] - 0s 975us/step - loss: 1.0300e-04\n",
      "Epoch 719/1000\n",
      "25/25 [==============================] - 0s 961us/step - loss: 6.3952e-05\n",
      "Epoch 720/1000\n",
      "25/25 [==============================] - 0s 983us/step - loss: 7.3355e-05\n",
      "Epoch 721/1000\n",
      "25/25 [==============================] - 0s 994us/step - loss: 8.8696e-05\n",
      "Epoch 722/1000\n",
      "25/25 [==============================] - 0s 979us/step - loss: 1.5777e-04\n",
      "Epoch 723/1000\n",
      "25/25 [==============================] - 0s 975us/step - loss: 1.6837e-04\n",
      "Epoch 724/1000\n",
      "25/25 [==============================] - 0s 965us/step - loss: 9.4074e-05\n",
      "Epoch 725/1000\n",
      "25/25 [==============================] - 0s 997us/step - loss: 6.3758e-05\n",
      "Epoch 726/1000\n",
      "25/25 [==============================] - 0s 975us/step - loss: 3.8195e-05\n",
      "Epoch 727/1000\n",
      "25/25 [==============================] - 0s 990us/step - loss: 7.4042e-05\n",
      "Epoch 728/1000\n",
      "25/25 [==============================] - 0s 981us/step - loss: 9.2562e-05\n",
      "Epoch 729/1000\n",
      "25/25 [==============================] - 0s 968us/step - loss: 2.1218e-04\n",
      "Epoch 730/1000\n",
      "25/25 [==============================] - 0s 982us/step - loss: 1.0268e-04\n",
      "Epoch 731/1000\n",
      "25/25 [==============================] - 0s 977us/step - loss: 9.6259e-05\n",
      "Epoch 732/1000\n",
      "25/25 [==============================] - 0s 970us/step - loss: 1.2915e-04\n",
      "Epoch 733/1000\n",
      "25/25 [==============================] - 0s 991us/step - loss: 7.3896e-05\n",
      "Epoch 734/1000\n",
      "25/25 [==============================] - 0s 971us/step - loss: 1.0709e-04\n",
      "Epoch 735/1000\n",
      "25/25 [==============================] - 0s 956us/step - loss: 1.2055e-04\n",
      "Epoch 736/1000\n",
      "25/25 [==============================] - 0s 974us/step - loss: 6.8584e-05\n",
      "Epoch 737/1000\n",
      "25/25 [==============================] - 0s 975us/step - loss: 6.6427e-05\n",
      "Epoch 738/1000\n",
      "25/25 [==============================] - 0s 986us/step - loss: 8.9743e-05\n",
      "Epoch 739/1000\n",
      "25/25 [==============================] - 0s 969us/step - loss: 5.9954e-05\n",
      "Epoch 740/1000\n",
      "25/25 [==============================] - 0s 968us/step - loss: 1.0641e-04\n",
      "Epoch 741/1000\n",
      "25/25 [==============================] - 0s 962us/step - loss: 5.8177e-05\n",
      "Epoch 742/1000\n",
      "25/25 [==============================] - 0s 973us/step - loss: 5.7751e-05\n",
      "Epoch 743/1000\n",
      "25/25 [==============================] - 0s 1ms/step - loss: 3.7295e-05\n",
      "Epoch 744/1000\n",
      "25/25 [==============================] - 0s 1ms/step - loss: 4.4845e-05\n",
      "Epoch 745/1000\n",
      "25/25 [==============================] - 0s 996us/step - loss: 4.2884e-05\n",
      "Epoch 746/1000\n",
      "25/25 [==============================] - 0s 966us/step - loss: 4.7325e-05\n",
      "Epoch 747/1000\n",
      "25/25 [==============================] - 0s 964us/step - loss: 6.4884e-05\n",
      "Epoch 748/1000\n",
      "25/25 [==============================] - 0s 986us/step - loss: 1.4292e-04\n",
      "Epoch 749/1000\n",
      "25/25 [==============================] - 0s 962us/step - loss: 1.2136e-04\n",
      "Epoch 750/1000\n",
      "25/25 [==============================] - 0s 969us/step - loss: 1.6460e-04\n",
      "Epoch 751/1000\n",
      "25/25 [==============================] - 0s 962us/step - loss: 1.0986e-04\n",
      "Epoch 752/1000\n",
      "25/25 [==============================] - 0s 984us/step - loss: 8.4507e-05\n",
      "Epoch 753/1000\n",
      "25/25 [==============================] - 0s 996us/step - loss: 9.9249e-05\n",
      "Epoch 754/1000\n",
      "25/25 [==============================] - 0s 972us/step - loss: 1.7729e-04\n",
      "Epoch 755/1000\n",
      "25/25 [==============================] - 0s 963us/step - loss: 3.8113e-04\n",
      "Epoch 756/1000\n",
      "25/25 [==============================] - 0s 971us/step - loss: 2.1600e-04\n",
      "Epoch 757/1000\n",
      "25/25 [==============================] - 0s 997us/step - loss: 1.2748e-04\n",
      "Epoch 758/1000\n",
      "25/25 [==============================] - 0s 1ms/step - loss: 1.4567e-04\n",
      "Epoch 759/1000\n",
      "25/25 [==============================] - 0s 974us/step - loss: 1.3480e-04\n",
      "Epoch 760/1000\n",
      "25/25 [==============================] - 0s 983us/step - loss: 8.6095e-05\n",
      "Epoch 761/1000\n",
      "25/25 [==============================] - 0s 1ms/step - loss: 5.3649e-05\n",
      "Epoch 762/1000\n",
      "25/25 [==============================] - 0s 1ms/step - loss: 4.9224e-05\n",
      "Epoch 763/1000\n",
      "25/25 [==============================] - 0s 1ms/step - loss: 6.9626e-05\n",
      "Epoch 764/1000\n",
      "25/25 [==============================] - 0s 1ms/step - loss: 5.1249e-05\n",
      "Epoch 765/1000\n",
      "25/25 [==============================] - 0s 1ms/step - loss: 6.3798e-05\n",
      "Epoch 766/1000\n",
      "25/25 [==============================] - 0s 985us/step - loss: 4.7154e-05\n",
      "Epoch 767/1000\n",
      "25/25 [==============================] - 0s 990us/step - loss: 1.3438e-04\n",
      "Epoch 768/1000\n",
      "25/25 [==============================] - 0s 997us/step - loss: 5.1213e-05\n",
      "Epoch 769/1000\n",
      "25/25 [==============================] - 0s 989us/step - loss: 4.0812e-05\n",
      "Epoch 770/1000\n",
      "25/25 [==============================] - 0s 976us/step - loss: 4.8969e-05\n",
      "Epoch 771/1000\n",
      "25/25 [==============================] - 0s 948us/step - loss: 4.0292e-05\n",
      "Epoch 772/1000\n",
      "25/25 [==============================] - 0s 998us/step - loss: 7.8235e-05\n",
      "Epoch 773/1000\n",
      "25/25 [==============================] - 0s 955us/step - loss: 8.2072e-05\n",
      "Epoch 774/1000\n",
      "25/25 [==============================] - 0s 972us/step - loss: 5.4673e-05\n",
      "Epoch 775/1000\n",
      "25/25 [==============================] - 0s 999us/step - loss: 5.7248e-05\n",
      "Epoch 776/1000\n",
      "25/25 [==============================] - 0s 974us/step - loss: 3.2137e-05\n",
      "Epoch 777/1000\n",
      "25/25 [==============================] - 0s 1ms/step - loss: 5.3592e-05\n",
      "Epoch 778/1000\n",
      "25/25 [==============================] - 0s 968us/step - loss: 7.2858e-05\n",
      "Epoch 779/1000\n",
      "25/25 [==============================] - 0s 967us/step - loss: 6.3206e-05\n",
      "Epoch 780/1000\n",
      "25/25 [==============================] - 0s 963us/step - loss: 1.4670e-04\n",
      "Epoch 781/1000\n",
      "25/25 [==============================] - 0s 975us/step - loss: 1.8428e-04\n",
      "Epoch 782/1000\n",
      "25/25 [==============================] - 0s 968us/step - loss: 9.5009e-05\n",
      "Epoch 783/1000\n",
      "25/25 [==============================] - 0s 979us/step - loss: 9.9614e-05\n",
      "Epoch 784/1000\n",
      "25/25 [==============================] - 0s 968us/step - loss: 9.8124e-05\n",
      "Epoch 785/1000\n",
      "25/25 [==============================] - 0s 986us/step - loss: 6.5018e-05\n",
      "Epoch 786/1000\n",
      "25/25 [==============================] - 0s 966us/step - loss: 5.5528e-05\n",
      "Epoch 787/1000\n",
      "25/25 [==============================] - 0s 984us/step - loss: 5.3858e-05\n",
      "Epoch 788/1000\n",
      "25/25 [==============================] - 0s 985us/step - loss: 1.1793e-04\n",
      "Epoch 789/1000\n",
      "25/25 [==============================] - 0s 966us/step - loss: 1.7578e-04\n",
      "Epoch 790/1000\n",
      "25/25 [==============================] - 0s 1ms/step - loss: 2.0123e-04\n",
      "Epoch 791/1000\n",
      "25/25 [==============================] - 0s 1ms/step - loss: 3.0020e-04\n",
      "Epoch 792/1000\n",
      "25/25 [==============================] - 0s 994us/step - loss: 2.4872e-04\n",
      "Epoch 793/1000\n",
      "25/25 [==============================] - 0s 1ms/step - loss: 2.9555e-04\n",
      "Epoch 794/1000\n",
      "25/25 [==============================] - 0s 993us/step - loss: 9.5864e-05\n",
      "Epoch 795/1000\n",
      "25/25 [==============================] - 0s 1ms/step - loss: 9.5461e-05\n",
      "Epoch 796/1000\n",
      "25/25 [==============================] - 0s 1ms/step - loss: 1.2038e-04\n",
      "Epoch 797/1000\n",
      "25/25 [==============================] - 0s 1ms/step - loss: 8.2730e-05\n",
      "Epoch 798/1000\n",
      "25/25 [==============================] - 0s 1ms/step - loss: 8.9739e-05\n",
      "Epoch 799/1000\n",
      "25/25 [==============================] - 0s 1ms/step - loss: 5.6749e-05\n",
      "Epoch 800/1000\n",
      "25/25 [==============================] - 0s 1ms/step - loss: 7.4861e-05\n",
      "Epoch 801/1000\n",
      "25/25 [==============================] - 0s 990us/step - loss: 8.2230e-05\n",
      "Epoch 802/1000\n",
      "25/25 [==============================] - 0s 1ms/step - loss: 5.8016e-05\n",
      "Epoch 803/1000\n",
      "25/25 [==============================] - 0s 1ms/step - loss: 3.3725e-05\n",
      "Epoch 804/1000\n",
      "25/25 [==============================] - 0s 976us/step - loss: 5.4874e-05\n",
      "Epoch 805/1000\n",
      "25/25 [==============================] - 0s 983us/step - loss: 8.8551e-05\n",
      "Epoch 806/1000\n",
      "25/25 [==============================] - 0s 988us/step - loss: 8.5742e-05\n",
      "Epoch 807/1000\n",
      "25/25 [==============================] - 0s 992us/step - loss: 1.2861e-04\n",
      "Epoch 808/1000\n",
      "25/25 [==============================] - 0s 965us/step - loss: 5.6588e-05\n",
      "Epoch 809/1000\n",
      "25/25 [==============================] - 0s 985us/step - loss: 6.5660e-05\n",
      "Epoch 810/1000\n",
      "25/25 [==============================] - 0s 972us/step - loss: 6.8152e-05\n",
      "Epoch 811/1000\n",
      "25/25 [==============================] - 0s 986us/step - loss: 8.8577e-05\n",
      "Epoch 812/1000\n",
      "25/25 [==============================] - 0s 989us/step - loss: 4.1037e-05\n",
      "Epoch 813/1000\n",
      "25/25 [==============================] - 0s 1ms/step - loss: 4.0784e-05\n",
      "Epoch 814/1000\n",
      "25/25 [==============================] - 0s 979us/step - loss: 5.7510e-05\n",
      "Epoch 815/1000\n",
      "25/25 [==============================] - 0s 980us/step - loss: 3.2713e-05\n",
      "Epoch 816/1000\n",
      "25/25 [==============================] - 0s 988us/step - loss: 3.7585e-05\n",
      "Epoch 817/1000\n",
      "25/25 [==============================] - 0s 996us/step - loss: 3.4924e-05\n",
      "Epoch 818/1000\n",
      "25/25 [==============================] - 0s 986us/step - loss: 2.8812e-05\n",
      "Epoch 819/1000\n",
      "25/25 [==============================] - 0s 1000us/step - loss: 4.9049e-05\n",
      "Epoch 820/1000\n",
      "25/25 [==============================] - 0s 967us/step - loss: 1.1748e-04\n",
      "Epoch 821/1000\n",
      "25/25 [==============================] - 0s 1ms/step - loss: 1.1627e-04\n",
      "Epoch 822/1000\n",
      "25/25 [==============================] - 0s 1ms/step - loss: 5.3397e-05\n",
      "Epoch 823/1000\n",
      "25/25 [==============================] - 0s 977us/step - loss: 4.9121e-05\n",
      "Epoch 824/1000\n",
      "25/25 [==============================] - 0s 1ms/step - loss: 3.2399e-05\n",
      "Epoch 825/1000\n",
      "25/25 [==============================] - 0s 1ms/step - loss: 2.6427e-05\n",
      "Epoch 826/1000\n",
      "25/25 [==============================] - 0s 1ms/step - loss: 1.0164e-04\n",
      "Epoch 827/1000\n",
      "25/25 [==============================] - 0s 1ms/step - loss: 1.3208e-04\n",
      "Epoch 828/1000\n",
      "25/25 [==============================] - 0s 1ms/step - loss: 1.3737e-04\n",
      "Epoch 829/1000\n",
      "25/25 [==============================] - 0s 998us/step - loss: 4.8254e-05\n",
      "Epoch 830/1000\n",
      "25/25 [==============================] - 0s 1ms/step - loss: 1.3926e-04\n",
      "Epoch 831/1000\n",
      "25/25 [==============================] - 0s 1ms/step - loss: 2.3239e-04\n",
      "Epoch 832/1000\n",
      "25/25 [==============================] - 0s 1ms/step - loss: 1.4410e-04\n",
      "Epoch 833/1000\n",
      "25/25 [==============================] - 0s 985us/step - loss: 8.6045e-05\n",
      "Epoch 834/1000\n",
      "25/25 [==============================] - 0s 973us/step - loss: 1.1414e-04\n",
      "Epoch 835/1000\n",
      "25/25 [==============================] - 0s 983us/step - loss: 1.1405e-04\n",
      "Epoch 836/1000\n",
      "25/25 [==============================] - 0s 986us/step - loss: 7.5677e-05\n",
      "Epoch 837/1000\n",
      "25/25 [==============================] - 0s 993us/step - loss: 6.4008e-05\n",
      "Epoch 838/1000\n",
      "25/25 [==============================] - 0s 989us/step - loss: 9.0064e-05\n",
      "Epoch 839/1000\n",
      "25/25 [==============================] - 0s 974us/step - loss: 6.3884e-05\n",
      "Epoch 840/1000\n",
      "25/25 [==============================] - 0s 984us/step - loss: 9.0877e-05\n",
      "Epoch 841/1000\n",
      "25/25 [==============================] - 0s 997us/step - loss: 6.2054e-05\n",
      "Epoch 842/1000\n",
      "25/25 [==============================] - 0s 983us/step - loss: 6.0109e-05\n",
      "Epoch 843/1000\n",
      "25/25 [==============================] - 0s 971us/step - loss: 5.6277e-05\n",
      "Epoch 844/1000\n",
      "25/25 [==============================] - 0s 993us/step - loss: 8.4624e-05\n",
      "Epoch 845/1000\n",
      "25/25 [==============================] - 0s 988us/step - loss: 7.3048e-05\n",
      "Epoch 846/1000\n",
      "25/25 [==============================] - 0s 988us/step - loss: 7.2874e-05\n",
      "Epoch 847/1000\n",
      "25/25 [==============================] - 0s 980us/step - loss: 5.5771e-05\n",
      "Epoch 848/1000\n",
      "25/25 [==============================] - 0s 991us/step - loss: 5.8951e-05\n",
      "Epoch 849/1000\n",
      "25/25 [==============================] - 0s 997us/step - loss: 7.9806e-05\n",
      "Epoch 850/1000\n",
      "25/25 [==============================] - 0s 970us/step - loss: 1.0561e-04\n",
      "Epoch 851/1000\n",
      "25/25 [==============================] - 0s 974us/step - loss: 1.0156e-04\n",
      "Epoch 852/1000\n",
      "25/25 [==============================] - 0s 989us/step - loss: 8.8451e-05\n",
      "Epoch 853/1000\n",
      "25/25 [==============================] - 0s 973us/step - loss: 1.3276e-04\n",
      "Epoch 854/1000\n",
      "25/25 [==============================] - 0s 983us/step - loss: 6.2378e-05\n",
      "Epoch 855/1000\n",
      "25/25 [==============================] - 0s 1ms/step - loss: 3.7085e-05\n",
      "Epoch 856/1000\n",
      "25/25 [==============================] - 0s 986us/step - loss: 6.3349e-05\n",
      "Epoch 857/1000\n",
      "25/25 [==============================] - 0s 985us/step - loss: 2.8684e-05\n",
      "Epoch 858/1000\n",
      "25/25 [==============================] - 0s 972us/step - loss: 4.3234e-05\n",
      "Epoch 859/1000\n",
      "25/25 [==============================] - 0s 971us/step - loss: 6.0194e-05\n",
      "Epoch 860/1000\n",
      "25/25 [==============================] - 0s 990us/step - loss: 9.9513e-05\n",
      "Epoch 861/1000\n",
      "25/25 [==============================] - 0s 973us/step - loss: 5.2224e-05\n",
      "Epoch 862/1000\n",
      "25/25 [==============================] - 0s 1ms/step - loss: 8.9332e-05\n",
      "Epoch 863/1000\n",
      "25/25 [==============================] - 0s 987us/step - loss: 1.2663e-04\n",
      "Epoch 864/1000\n",
      "25/25 [==============================] - 0s 991us/step - loss: 1.1607e-04\n",
      "Epoch 865/1000\n",
      "25/25 [==============================] - 0s 1ms/step - loss: 1.3350e-04\n",
      "Epoch 866/1000\n",
      "25/25 [==============================] - 0s 995us/step - loss: 1.8646e-04\n",
      "Epoch 867/1000\n",
      "25/25 [==============================] - 0s 983us/step - loss: 3.2175e-04\n",
      "Epoch 868/1000\n",
      "25/25 [==============================] - 0s 990us/step - loss: 2.3484e-04\n",
      "Epoch 869/1000\n",
      "25/25 [==============================] - 0s 1ms/step - loss: 1.1576e-04\n",
      "Epoch 870/1000\n",
      "25/25 [==============================] - 0s 998us/step - loss: 8.0689e-05\n",
      "Epoch 871/1000\n",
      "25/25 [==============================] - 0s 983us/step - loss: 4.5341e-05\n",
      "Epoch 872/1000\n",
      "25/25 [==============================] - 0s 978us/step - loss: 3.6188e-05\n",
      "Epoch 873/1000\n",
      "25/25 [==============================] - 0s 991us/step - loss: 5.4285e-05\n",
      "Epoch 874/1000\n",
      "25/25 [==============================] - 0s 994us/step - loss: 3.8800e-05\n",
      "Epoch 875/1000\n",
      "25/25 [==============================] - 0s 984us/step - loss: 7.4755e-05\n",
      "Epoch 876/1000\n",
      "25/25 [==============================] - 0s 1ms/step - loss: 8.9307e-05\n",
      "Epoch 877/1000\n",
      "25/25 [==============================] - 0s 995us/step - loss: 1.2636e-04\n",
      "Epoch 878/1000\n",
      "25/25 [==============================] - 0s 1ms/step - loss: 1.3139e-04\n",
      "Epoch 879/1000\n",
      "25/25 [==============================] - 0s 1ms/step - loss: 6.9407e-05\n",
      "Epoch 880/1000\n",
      "25/25 [==============================] - 0s 993us/step - loss: 4.9156e-05\n",
      "Epoch 881/1000\n",
      "25/25 [==============================] - 0s 992us/step - loss: 6.6798e-05\n",
      "Epoch 882/1000\n",
      "25/25 [==============================] - 0s 998us/step - loss: 4.4023e-05\n",
      "Epoch 883/1000\n",
      "25/25 [==============================] - 0s 982us/step - loss: 3.2859e-05\n",
      "Epoch 884/1000\n",
      "25/25 [==============================] - 0s 1ms/step - loss: 3.1103e-05\n",
      "Epoch 885/1000\n",
      "25/25 [==============================] - 0s 967us/step - loss: 3.2260e-05\n",
      "Epoch 886/1000\n",
      "25/25 [==============================] - 0s 970us/step - loss: 4.8008e-05\n",
      "Epoch 887/1000\n",
      "25/25 [==============================] - 0s 966us/step - loss: 5.5633e-05\n",
      "Epoch 888/1000\n",
      "25/25 [==============================] - 0s 997us/step - loss: 5.8035e-05\n",
      "Epoch 889/1000\n",
      "25/25 [==============================] - 0s 973us/step - loss: 4.5284e-05\n",
      "Epoch 890/1000\n",
      "25/25 [==============================] - 0s 989us/step - loss: 5.8751e-05\n",
      "Epoch 891/1000\n",
      "25/25 [==============================] - 0s 1ms/step - loss: 2.7602e-05\n",
      "Epoch 892/1000\n",
      "25/25 [==============================] - 0s 1ms/step - loss: 3.4370e-05\n",
      "Epoch 893/1000\n",
      "25/25 [==============================] - 0s 1ms/step - loss: 3.5907e-05\n",
      "Epoch 894/1000\n",
      "25/25 [==============================] - 0s 1ms/step - loss: 5.3286e-05\n",
      "Epoch 895/1000\n",
      "25/25 [==============================] - 0s 1ms/step - loss: 4.9967e-05\n",
      "Epoch 896/1000\n",
      "25/25 [==============================] - 0s 1ms/step - loss: 8.0349e-05\n",
      "Epoch 897/1000\n",
      "25/25 [==============================] - 0s 1ms/step - loss: 1.4862e-04\n",
      "Epoch 898/1000\n",
      "25/25 [==============================] - 0s 1ms/step - loss: 1.1834e-04\n",
      "Epoch 899/1000\n",
      "25/25 [==============================] - 0s 1ms/step - loss: 1.4636e-04\n",
      "Epoch 900/1000\n",
      "25/25 [==============================] - 0s 997us/step - loss: 1.1389e-04\n",
      "Epoch 901/1000\n",
      "25/25 [==============================] - 0s 1ms/step - loss: 8.4849e-05\n",
      "Epoch 902/1000\n",
      "25/25 [==============================] - 0s 964us/step - loss: 7.9792e-05\n",
      "Epoch 903/1000\n",
      "25/25 [==============================] - 0s 975us/step - loss: 1.3937e-04\n",
      "Epoch 904/1000\n",
      "25/25 [==============================] - 0s 977us/step - loss: 1.4771e-04\n",
      "Epoch 905/1000\n",
      "25/25 [==============================] - 0s 991us/step - loss: 1.3523e-04\n",
      "Epoch 906/1000\n",
      "25/25 [==============================] - 0s 1ms/step - loss: 5.6665e-05\n",
      "Epoch 907/1000\n",
      "25/25 [==============================] - 0s 1ms/step - loss: 7.8080e-05\n",
      "Epoch 908/1000\n",
      "25/25 [==============================] - 0s 1ms/step - loss: 3.2478e-05\n",
      "Epoch 909/1000\n",
      "25/25 [==============================] - 0s 1ms/step - loss: 8.5236e-05\n",
      "Epoch 910/1000\n",
      "25/25 [==============================] - 0s 1ms/step - loss: 1.9835e-04\n",
      "Epoch 911/1000\n",
      "25/25 [==============================] - 0s 1ms/step - loss: 8.1343e-05\n",
      "Epoch 912/1000\n",
      "25/25 [==============================] - 0s 998us/step - loss: 7.2837e-05\n",
      "Epoch 913/1000\n",
      "25/25 [==============================] - 0s 1ms/step - loss: 4.8032e-05\n",
      "Epoch 914/1000\n",
      "25/25 [==============================] - 0s 1ms/step - loss: 5.7001e-05\n",
      "Epoch 915/1000\n",
      "25/25 [==============================] - 0s 982us/step - loss: 1.1161e-04\n",
      "Epoch 916/1000\n",
      "25/25 [==============================] - 0s 1ms/step - loss: 8.8387e-05\n",
      "Epoch 917/1000\n",
      "25/25 [==============================] - 0s 995us/step - loss: 1.0816e-04\n",
      "Epoch 918/1000\n",
      "25/25 [==============================] - 0s 988us/step - loss: 4.8701e-05\n",
      "Epoch 919/1000\n",
      "25/25 [==============================] - 0s 974us/step - loss: 8.1658e-05\n",
      "Epoch 920/1000\n",
      "25/25 [==============================] - 0s 990us/step - loss: 1.0686e-04\n",
      "Epoch 921/1000\n",
      "25/25 [==============================] - 0s 991us/step - loss: 4.3872e-05\n",
      "Epoch 922/1000\n",
      "25/25 [==============================] - 0s 984us/step - loss: 4.6998e-05\n",
      "Epoch 923/1000\n",
      "25/25 [==============================] - 0s 972us/step - loss: 8.3747e-05\n",
      "Epoch 924/1000\n",
      "25/25 [==============================] - 0s 980us/step - loss: 9.1379e-05\n",
      "Epoch 925/1000\n",
      "25/25 [==============================] - 0s 1ms/step - loss: 6.4485e-05\n",
      "Epoch 926/1000\n",
      "25/25 [==============================] - 0s 978us/step - loss: 4.2514e-05\n",
      "Epoch 927/1000\n",
      "25/25 [==============================] - 0s 1ms/step - loss: 2.9873e-05\n",
      "Epoch 928/1000\n",
      "25/25 [==============================] - 0s 972us/step - loss: 3.2879e-05\n",
      "Epoch 929/1000\n",
      "25/25 [==============================] - 0s 972us/step - loss: 7.4548e-05\n",
      "Epoch 930/1000\n",
      "25/25 [==============================] - 0s 1ms/step - loss: 6.2661e-05\n",
      "Epoch 931/1000\n",
      "25/25 [==============================] - 0s 999us/step - loss: 3.9555e-05\n",
      "Epoch 932/1000\n",
      "25/25 [==============================] - 0s 1ms/step - loss: 3.7055e-05\n",
      "Epoch 933/1000\n",
      "25/25 [==============================] - 0s 1ms/step - loss: 4.3740e-05\n",
      "Epoch 934/1000\n",
      "25/25 [==============================] - 0s 1ms/step - loss: 7.9346e-05\n",
      "Epoch 935/1000\n",
      "25/25 [==============================] - 0s 1ms/step - loss: 5.7679e-05\n",
      "Epoch 936/1000\n",
      "25/25 [==============================] - 0s 997us/step - loss: 3.3384e-05\n",
      "Epoch 937/1000\n",
      "25/25 [==============================] - 0s 998us/step - loss: 3.8534e-05\n",
      "Epoch 938/1000\n",
      "25/25 [==============================] - 0s 1ms/step - loss: 3.8042e-05\n",
      "Epoch 939/1000\n",
      "25/25 [==============================] - 0s 1ms/step - loss: 2.7744e-05\n",
      "Epoch 940/1000\n",
      "25/25 [==============================] - 0s 1ms/step - loss: 2.5244e-05\n",
      "Epoch 941/1000\n",
      "25/25 [==============================] - 0s 1ms/step - loss: 1.5221e-05\n",
      "Epoch 942/1000\n",
      "25/25 [==============================] - 0s 985us/step - loss: 3.1781e-05\n",
      "Epoch 943/1000\n",
      "25/25 [==============================] - 0s 985us/step - loss: 2.6211e-05\n",
      "Epoch 944/1000\n",
      "25/25 [==============================] - 0s 989us/step - loss: 2.2008e-05\n",
      "Epoch 945/1000\n",
      "25/25 [==============================] - 0s 982us/step - loss: 2.0686e-05\n",
      "Epoch 946/1000\n",
      "25/25 [==============================] - 0s 1ms/step - loss: 2.3061e-05\n",
      "Epoch 947/1000\n",
      "25/25 [==============================] - 0s 965us/step - loss: 2.5322e-05\n",
      "Epoch 948/1000\n",
      "25/25 [==============================] - 0s 997us/step - loss: 2.2777e-05\n",
      "Epoch 949/1000\n",
      "25/25 [==============================] - 0s 994us/step - loss: 5.8169e-05\n",
      "Epoch 950/1000\n",
      "25/25 [==============================] - 0s 1ms/step - loss: 7.2315e-05\n",
      "Epoch 951/1000\n",
      "25/25 [==============================] - 0s 987us/step - loss: 7.5413e-05\n",
      "Epoch 952/1000\n",
      "25/25 [==============================] - 0s 993us/step - loss: 1.6341e-04\n",
      "Epoch 953/1000\n",
      "25/25 [==============================] - 0s 961us/step - loss: 2.3342e-04\n",
      "Epoch 954/1000\n",
      "25/25 [==============================] - 0s 1ms/step - loss: 1.2472e-04\n",
      "Epoch 955/1000\n",
      "25/25 [==============================] - 0s 1ms/step - loss: 1.1604e-04\n",
      "Epoch 956/1000\n",
      "25/25 [==============================] - 0s 1ms/step - loss: 8.5590e-05\n",
      "Epoch 957/1000\n",
      "25/25 [==============================] - 0s 1ms/step - loss: 5.3606e-05\n",
      "Epoch 958/1000\n",
      "25/25 [==============================] - 0s 1ms/step - loss: 3.6122e-05\n",
      "Epoch 959/1000\n",
      "25/25 [==============================] - 0s 977us/step - loss: 7.5169e-05\n",
      "Epoch 960/1000\n",
      "25/25 [==============================] - 0s 974us/step - loss: 9.7003e-05\n",
      "Epoch 961/1000\n",
      "25/25 [==============================] - 0s 964us/step - loss: 2.0314e-04\n",
      "Epoch 962/1000\n",
      "25/25 [==============================] - 0s 1ms/step - loss: 1.2066e-04\n",
      "Epoch 963/1000\n",
      "25/25 [==============================] - 0s 997us/step - loss: 8.2793e-05\n",
      "Epoch 964/1000\n",
      "25/25 [==============================] - 0s 968us/step - loss: 1.0490e-04\n",
      "Epoch 965/1000\n",
      "25/25 [==============================] - 0s 991us/step - loss: 8.9205e-05\n",
      "Epoch 966/1000\n",
      "25/25 [==============================] - 0s 995us/step - loss: 6.0489e-05\n",
      "Epoch 967/1000\n",
      "25/25 [==============================] - 0s 991us/step - loss: 5.9662e-05\n",
      "Epoch 968/1000\n",
      "25/25 [==============================] - 0s 999us/step - loss: 3.3696e-05\n",
      "Epoch 969/1000\n",
      "25/25 [==============================] - 0s 992us/step - loss: 2.0128e-05\n",
      "Epoch 970/1000\n",
      "25/25 [==============================] - 0s 984us/step - loss: 5.5915e-05\n",
      "Epoch 971/1000\n",
      "25/25 [==============================] - 0s 997us/step - loss: 8.3246e-05\n",
      "Epoch 972/1000\n",
      "25/25 [==============================] - 0s 999us/step - loss: 1.1846e-04\n",
      "Epoch 973/1000\n",
      "25/25 [==============================] - 0s 998us/step - loss: 5.1528e-05\n",
      "Epoch 974/1000\n",
      "25/25 [==============================] - 0s 975us/step - loss: 8.5069e-05\n",
      "Epoch 975/1000\n",
      "25/25 [==============================] - 0s 1ms/step - loss: 8.9259e-05\n",
      "Epoch 976/1000\n",
      "25/25 [==============================] - 0s 994us/step - loss: 1.7451e-04\n",
      "Epoch 977/1000\n",
      "25/25 [==============================] - 0s 990us/step - loss: 7.8701e-05\n",
      "Epoch 978/1000\n",
      "25/25 [==============================] - 0s 995us/step - loss: 1.2604e-04\n",
      "Epoch 979/1000\n",
      "25/25 [==============================] - 0s 1ms/step - loss: 8.7299e-05\n",
      "Epoch 980/1000\n",
      "25/25 [==============================] - 0s 992us/step - loss: 6.4906e-05\n",
      "Epoch 981/1000\n",
      "25/25 [==============================] - 0s 1ms/step - loss: 5.3227e-05\n",
      "Epoch 982/1000\n",
      "25/25 [==============================] - 0s 966us/step - loss: 5.1826e-05\n",
      "Epoch 983/1000\n",
      "25/25 [==============================] - 0s 991us/step - loss: 7.4766e-05\n",
      "Epoch 984/1000\n",
      "25/25 [==============================] - 0s 981us/step - loss: 5.9345e-05\n",
      "Epoch 985/1000\n",
      "25/25 [==============================] - 0s 999us/step - loss: 7.2198e-05\n",
      "Epoch 986/1000\n",
      "25/25 [==============================] - 0s 989us/step - loss: 8.8304e-05\n",
      "Epoch 987/1000\n",
      "25/25 [==============================] - 0s 1ms/step - loss: 1.4042e-04\n",
      "Epoch 988/1000\n",
      "25/25 [==============================] - 0s 1ms/step - loss: 1.8409e-04\n",
      "Epoch 989/1000\n",
      "25/25 [==============================] - 0s 993us/step - loss: 1.7129e-04\n",
      "Epoch 990/1000\n",
      "25/25 [==============================] - 0s 1ms/step - loss: 1.5080e-04\n",
      "Epoch 991/1000\n",
      "25/25 [==============================] - 0s 980us/step - loss: 8.7299e-05\n",
      "Epoch 992/1000\n",
      "25/25 [==============================] - 0s 997us/step - loss: 4.9557e-05\n",
      "Epoch 993/1000\n",
      "25/25 [==============================] - 0s 994us/step - loss: 8.5857e-05\n",
      "Epoch 994/1000\n",
      "25/25 [==============================] - 0s 978us/step - loss: 7.3647e-05\n",
      "Epoch 995/1000\n",
      "25/25 [==============================] - 0s 1ms/step - loss: 5.7452e-05\n",
      "Epoch 996/1000\n",
      "25/25 [==============================] - 0s 990us/step - loss: 7.8441e-05\n",
      "Epoch 997/1000\n",
      "25/25 [==============================] - 0s 983us/step - loss: 9.4626e-05\n",
      "Epoch 998/1000\n",
      "25/25 [==============================] - 0s 989us/step - loss: 5.5880e-05\n",
      "Epoch 999/1000\n",
      "25/25 [==============================] - 0s 989us/step - loss: 2.2251e-05\n",
      "Epoch 1000/1000\n",
      "25/25 [==============================] - 0s 991us/step - loss: 3.5515e-05\n"
     ]
    },
    {
     "data": {
      "text/plain": [
       "<tensorflow.python.keras.callbacks.History at 0x7ff0f9660ca0>"
      ]
     },
     "execution_count": 224,
     "metadata": {},
     "output_type": "execute_result"
    }
   ],
   "source": [
    "ann = tf.keras.models.Sequential()\n",
    "ann.add(tf.keras.layers.Dense(units=64, activation='relu'))\n",
    "ann.add(tf.keras.layers.Dense(units=64, activation='relu'))\n",
    "ann.add(tf.keras.layers.Dense(units=64, activation='relu'))\n",
    "ann.add(tf.keras.layers.Dense(units=64, activation='relu'))\n",
    "ann.add(tf.keras.layers.Dense(units=64, activation='relu'))\n",
    "ann.add(tf.keras.layers.Dense(units=64, activation='relu'))\n",
    "ann.add(tf.keras.layers.Dense(units=64, activation='relu'))\n",
    "ann.add(tf.keras.layers.Dense(units=64, activation='relu'))\n",
    "ann.add(tf.keras.layers.Dense(units=64, activation='relu'))\n",
    "ann.add(tf.keras.layers.Dense(units=64, activation='relu'))\n",
    "ann.add(tf.keras.layers.Dense(units=64, activation='relu'))\n",
    "ann.add(tf.keras.layers.Dense(units=64, activation='relu'))\n",
    "\n",
    "ann.add(tf.keras.layers.Dense(units=1))\n",
    "ann.compile(optimizer = 'adam', loss = 'mean_squared_error')\n",
    "ann.fit(X_train, y_train, batch_size = 32, epochs = 1000, verbose=1)"
   ]
  },
  {
   "cell_type": "code",
   "execution_count": 225,
   "id": "b923c007-c93b-4674-af48-758edaa5c1b1",
   "metadata": {},
   "outputs": [
    {
     "name": "stdout",
     "output_type": "stream",
     "text": [
      "mean_squared_error: 0.00046586008249886095\n",
      "neg_mean_squared_error: 0.02158379212508453\n",
      "r2: 0.9676392242938932\n"
     ]
    }
   ],
   "source": [
    "print(\"mean_squared_error:\", mean_squared_error(y_test, ann.predict(X_test)))\n",
    "print(\"neg_mean_squared_error:\", mean_squared_error(y_test, ann.predict(X_test), squared=False))\n",
    "print(\"r2:\", r2_score(y_test, ann.predict(X_test)))"
   ]
  },
  {
   "cell_type": "code",
   "execution_count": 226,
   "id": "994e2d18-8bf3-40a5-b92f-73dd7675b749",
   "metadata": {},
   "outputs": [
    {
     "data": {
      "text/html": [
       "<div>\n",
       "<style scoped>\n",
       "    .dataframe tbody tr th:only-of-type {\n",
       "        vertical-align: middle;\n",
       "    }\n",
       "\n",
       "    .dataframe tbody tr th {\n",
       "        vertical-align: top;\n",
       "    }\n",
       "\n",
       "    .dataframe thead th {\n",
       "        text-align: right;\n",
       "    }\n",
       "</style>\n",
       "<table border=\"1\" class=\"dataframe\">\n",
       "  <thead>\n",
       "    <tr style=\"text-align: right;\">\n",
       "      <th></th>\n",
       "      <th>Predictions</th>\n",
       "      <th>Actuals</th>\n",
       "      <th>Diff</th>\n",
       "    </tr>\n",
       "  </thead>\n",
       "  <tbody>\n",
       "    <tr>\n",
       "      <th>0</th>\n",
       "      <td>0.730481</td>\n",
       "      <td>0.738444</td>\n",
       "      <td>-0.007964</td>\n",
       "    </tr>\n",
       "    <tr>\n",
       "      <th>1</th>\n",
       "      <td>0.734678</td>\n",
       "      <td>0.733762</td>\n",
       "      <td>0.000916</td>\n",
       "    </tr>\n",
       "    <tr>\n",
       "      <th>2</th>\n",
       "      <td>0.717237</td>\n",
       "      <td>0.722304</td>\n",
       "      <td>-0.005067</td>\n",
       "    </tr>\n",
       "    <tr>\n",
       "      <th>3</th>\n",
       "      <td>0.534623</td>\n",
       "      <td>0.532461</td>\n",
       "      <td>0.002162</td>\n",
       "    </tr>\n",
       "    <tr>\n",
       "      <th>4</th>\n",
       "      <td>0.517040</td>\n",
       "      <td>0.516163</td>\n",
       "      <td>0.000876</td>\n",
       "    </tr>\n",
       "    <tr>\n",
       "      <th>...</th>\n",
       "      <td>...</td>\n",
       "      <td>...</td>\n",
       "      <td>...</td>\n",
       "    </tr>\n",
       "    <tr>\n",
       "      <th>195</th>\n",
       "      <td>0.714027</td>\n",
       "      <td>0.719291</td>\n",
       "      <td>-0.005264</td>\n",
       "    </tr>\n",
       "    <tr>\n",
       "      <th>196</th>\n",
       "      <td>0.649090</td>\n",
       "      <td>0.655715</td>\n",
       "      <td>-0.006624</td>\n",
       "    </tr>\n",
       "    <tr>\n",
       "      <th>197</th>\n",
       "      <td>0.585547</td>\n",
       "      <td>0.585884</td>\n",
       "      <td>-0.000337</td>\n",
       "    </tr>\n",
       "    <tr>\n",
       "      <th>198</th>\n",
       "      <td>0.802350</td>\n",
       "      <td>0.805055</td>\n",
       "      <td>-0.002705</td>\n",
       "    </tr>\n",
       "    <tr>\n",
       "      <th>199</th>\n",
       "      <td>0.486368</td>\n",
       "      <td>0.482074</td>\n",
       "      <td>0.004295</td>\n",
       "    </tr>\n",
       "  </tbody>\n",
       "</table>\n",
       "<p>200 rows × 3 columns</p>\n",
       "</div>"
      ],
      "text/plain": [
       "     Predictions   Actuals      Diff\n",
       "0       0.730481  0.738444 -0.007964\n",
       "1       0.734678  0.733762  0.000916\n",
       "2       0.717237  0.722304 -0.005067\n",
       "3       0.534623  0.532461  0.002162\n",
       "4       0.517040  0.516163  0.000876\n",
       "..           ...       ...       ...\n",
       "195     0.714027  0.719291 -0.005264\n",
       "196     0.649090  0.655715 -0.006624\n",
       "197     0.585547  0.585884 -0.000337\n",
       "198     0.802350  0.805055 -0.002705\n",
       "199     0.486368  0.482074  0.004295\n",
       "\n",
       "[200 rows x 3 columns]"
      ]
     },
     "execution_count": 226,
     "metadata": {},
     "output_type": "execute_result"
    }
   ],
   "source": [
    "prediction = ann.predict(X_test)\n",
    "\n",
    "res_ann = pd.DataFrame()\n",
    "res_ann[\"Predictions\"] = pd.Series(prediction.ravel())\n",
    "res_ann[\"Actuals\"] = y_test.values\n",
    "res_ann[\"Diff\"] = res_ann.Predictions - res_ann.Actuals\n",
    "res_ann"
   ]
  },
  {
   "cell_type": "code",
   "execution_count": 227,
   "id": "95858acc-58e3-4afa-9674-3e4d0af4779f",
   "metadata": {},
   "outputs": [
    {
     "data": {
      "text/html": [
       "<div>\n",
       "<style scoped>\n",
       "    .dataframe tbody tr th:only-of-type {\n",
       "        vertical-align: middle;\n",
       "    }\n",
       "\n",
       "    .dataframe tbody tr th {\n",
       "        vertical-align: top;\n",
       "    }\n",
       "\n",
       "    .dataframe thead th {\n",
       "        text-align: right;\n",
       "    }\n",
       "</style>\n",
       "<table border=\"1\" class=\"dataframe\">\n",
       "  <thead>\n",
       "    <tr style=\"text-align: right;\">\n",
       "      <th></th>\n",
       "      <th>Predictions</th>\n",
       "      <th>Actuals</th>\n",
       "      <th>Diff</th>\n",
       "    </tr>\n",
       "  </thead>\n",
       "  <tbody>\n",
       "    <tr>\n",
       "      <th>count</th>\n",
       "      <td>200.000000</td>\n",
       "      <td>200.000000</td>\n",
       "      <td>200.000000</td>\n",
       "    </tr>\n",
       "    <tr>\n",
       "      <th>mean</th>\n",
       "      <td>0.674029</td>\n",
       "      <td>0.680477</td>\n",
       "      <td>-0.006448</td>\n",
       "    </tr>\n",
       "    <tr>\n",
       "      <th>std</th>\n",
       "      <td>0.113019</td>\n",
       "      <td>0.120284</td>\n",
       "      <td>0.020650</td>\n",
       "    </tr>\n",
       "    <tr>\n",
       "      <th>min</th>\n",
       "      <td>0.451751</td>\n",
       "      <td>0.455656</td>\n",
       "      <td>-0.199462</td>\n",
       "    </tr>\n",
       "    <tr>\n",
       "      <th>25%</th>\n",
       "      <td>0.586156</td>\n",
       "      <td>0.586770</td>\n",
       "      <td>-0.006508</td>\n",
       "    </tr>\n",
       "    <tr>\n",
       "      <th>50%</th>\n",
       "      <td>0.657886</td>\n",
       "      <td>0.660770</td>\n",
       "      <td>-0.002956</td>\n",
       "    </tr>\n",
       "    <tr>\n",
       "      <th>75%</th>\n",
       "      <td>0.733308</td>\n",
       "      <td>0.738383</td>\n",
       "      <td>-0.000066</td>\n",
       "    </tr>\n",
       "    <tr>\n",
       "      <th>max</th>\n",
       "      <td>0.966534</td>\n",
       "      <td>1.000000</td>\n",
       "      <td>0.033897</td>\n",
       "    </tr>\n",
       "  </tbody>\n",
       "</table>\n",
       "</div>"
      ],
      "text/plain": [
       "       Predictions     Actuals        Diff\n",
       "count   200.000000  200.000000  200.000000\n",
       "mean      0.674029    0.680477   -0.006448\n",
       "std       0.113019    0.120284    0.020650\n",
       "min       0.451751    0.455656   -0.199462\n",
       "25%       0.586156    0.586770   -0.006508\n",
       "50%       0.657886    0.660770   -0.002956\n",
       "75%       0.733308    0.738383   -0.000066\n",
       "max       0.966534    1.000000    0.033897"
      ]
     },
     "execution_count": 227,
     "metadata": {},
     "output_type": "execute_result"
    }
   ],
   "source": [
    "res_ann.describe()"
   ]
  },
  {
   "cell_type": "code",
   "execution_count": 228,
   "id": "93dd0015-2eaa-4d99-a93b-fff3a5fba256",
   "metadata": {},
   "outputs": [
    {
     "data": {
      "application/vnd.plotly.v1+json": {
       "config": {
        "plotlyServerURL": "https://plot.ly"
       },
       "data": [
        {
         "hovertemplate": "Actuals=%{x}<br>Predictions=%{y}<extra></extra>",
         "legendgroup": "",
         "marker": {
          "color": "#636efa",
          "symbol": "circle"
         },
         "mode": "markers",
         "name": "",
         "orientation": "v",
         "showlegend": false,
         "type": "scatter",
         "x": [
          0.7384442,
          0.73376239,
          0.72230384,
          0.53246076,
          0.51616329,
          0.96336483,
          0.67098905,
          0.71171478,
          0.67916698,
          0.74361626,
          0.90528937,
          0.70889569,
          0.51104023,
          0.75194972,
          0.5434895,
          0.69164226,
          0.93743959,
          0.76276188,
          0.81167856,
          0.58469904,
          0.79625676,
          0.65894324,
          1,
          0.5887795,
          0.59797309,
          0.7227172,
          0.86927816,
          0.66087333,
          0.80259969,
          0.56959259,
          0.6483484,
          0.70224112,
          0.51921474,
          0.54753098,
          0.66066764,
          0.71037392,
          0.57979038,
          0.82904739,
          0.54767064,
          0.73361427,
          0.57786739,
          0.62965242,
          0.75661113,
          0.58856543,
          0.59423058,
          0.65445616,
          0.6180638,
          0.67534882,
          0.72684409,
          0.65210758,
          0.59003472,
          0.72993045,
          0.65482257,
          1,
          0.58286615,
          0.48413374,
          0.4601164,
          0.72364259,
          0.74764051,
          0.56104427,
          0.64969212,
          0.5688136,
          0.56834883,
          0.58178173,
          0.55980337,
          0.56374627,
          0.68870019,
          0.56269342,
          0.57866113,
          0.54552189,
          0.53909477,
          0.64895309,
          0.67885294,
          0.57952193,
          0.52761138,
          0.58047194,
          0.61063596,
          0.71339824,
          0.66642786,
          0.5457118,
          0.6616516,
          0.62858972,
          0.85845155,
          0.51554291,
          0.78841538,
          0.73836209,
          0.69420056,
          0.64458675,
          0.78461273,
          0.71516634,
          0.96447129,
          0.80652511,
          0.65947849,
          0.64798891,
          0.65173542,
          0.593676,
          0.57091219,
          0.71173102,
          0.7066877,
          0.57410991,
          0.58706504,
          0.64306354,
          0.58960352,
          0.67878983,
          0.73250484,
          0.47530942,
          0.57891929,
          0.61411078,
          0.68392306,
          0.60427085,
          0.53960483,
          0.72151207,
          0.86488199,
          0.68967942,
          0.71040288,
          0.57661682,
          1,
          1,
          0.79628407,
          0.71768808,
          0.75660264,
          0.7105446,
          0.61643514,
          0.71130736,
          0.5978892,
          0.7417454,
          0.61414542,
          0.59066643,
          0.70533936,
          0.74946577,
          0.57567461,
          0.81205372,
          0.61245114,
          0.60764739,
          0.87135304,
          0.45565628,
          0.66412937,
          0.6730554,
          0.54628545,
          0.68098005,
          0.55508632,
          0.6024248,
          0.7660951,
          0.6610094,
          0.85395965,
          0.98213417,
          0.72406364,
          0.66948785,
          0.80151889,
          0.67321311,
          0.96864799,
          0.58006283,
          0.5917353,
          0.75478667,
          0.75719697,
          0.63153449,
          0.73633785,
          0.69494143,
          0.6561177,
          0.56617759,
          0.70182301,
          0.51625621,
          0.79404039,
          0.64084632,
          0.86321305,
          0.92227219,
          0.63553279,
          0.77406185,
          0.62712654,
          0.64918999,
          0.53934719,
          0.57750935,
          0.64216181,
          0.7263451,
          0.62201419,
          0.77574627,
          0.94320709,
          0.55437257,
          0.65797636,
          0.72858291,
          0.52264911,
          0.9510686,
          0.61501818,
          0.82954756,
          0.73433167,
          0.88660721,
          0.61332524,
          1,
          0.79635784,
          0.8254783,
          0.65226798,
          0.61819229,
          0.56541682,
          0.59306312,
          0.57863281,
          0.71929123,
          0.65571471,
          0.58588369,
          0.80505535,
          0.48207362
         ],
         "xaxis": "x",
         "y": [
          0.7304805517196655,
          0.7346781492233276,
          0.7172365188598633,
          0.5346230268478394,
          0.5170397162437439,
          0.9270631074905396,
          0.6713588237762451,
          0.7083998918533325,
          0.6658602952957153,
          0.7370340824127197,
          0.8345867395401001,
          0.7084143161773682,
          0.5172981023788452,
          0.7396707534790039,
          0.5412464141845703,
          0.6899758577346802,
          0.8390913009643555,
          0.759019136428833,
          0.8038945198059082,
          0.5787372589111328,
          0.7966476678848267,
          0.6543222665786743,
          0.960180401802063,
          0.5872719287872314,
          0.5986734628677368,
          0.7140457630157471,
          0.8458683490753174,
          0.6613671779632568,
          0.7924344539642334,
          0.5688676834106445,
          0.6397405862808228,
          0.6954985857009888,
          0.5198885202407837,
          0.545425295829773,
          0.6505039930343628,
          0.7085356712341309,
          0.5673928260803223,
          0.8222208023071289,
          0.5354065299034119,
          0.7400199174880981,
          0.5776164531707764,
          0.633987545967102,
          0.747156023979187,
          0.5863592624664307,
          0.5946120619773865,
          0.649329423904419,
          0.6158924102783203,
          0.6699526309967041,
          0.7208195924758911,
          0.6528646945953369,
          0.5877939462661743,
          0.7278273105621338,
          0.6522068977355957,
          0.9647917747497559,
          0.5818305015563965,
          0.45175105333328247,
          0.4667046368122101,
          0.7223119735717773,
          0.7440922260284424,
          0.5479413866996765,
          0.6444211006164551,
          0.5674228668212891,
          0.5651025772094727,
          0.5779180526733398,
          0.5587254762649536,
          0.5610243678092957,
          0.6861286163330078,
          0.5570303201675415,
          0.5734512805938721,
          0.5412886142730713,
          0.5474801063537598,
          0.6398907899856567,
          0.673713207244873,
          0.5764405131340027,
          0.5267106294631958,
          0.5758546590805054,
          0.6093083620071411,
          0.7193615436553955,
          0.660582423210144,
          0.5477944612503052,
          0.6614333391189575,
          0.6280534267425537,
          0.8608120679855347,
          0.512108325958252,
          0.7853864431381226,
          0.7650145292282104,
          0.697756290435791,
          0.6359633207321167,
          0.7795498371124268,
          0.71352219581604,
          0.7650091648101807,
          0.8329603672027588,
          0.6561671495437622,
          0.6464844942092896,
          0.6476701498031616,
          0.5960206389427185,
          0.5669103860855103,
          0.7051156759262085,
          0.7045780420303345,
          0.5741684436798096,
          0.5885068774223328,
          0.6359573602676392,
          0.5894356966018677,
          0.6743184328079224,
          0.7294442653656006,
          0.4746062457561493,
          0.5788518190383911,
          0.6129667162895203,
          0.6782245635986328,
          0.6006615161895752,
          0.542492151260376,
          0.7259612083435059,
          0.8710697889328003,
          0.6784809827804565,
          0.7099059820175171,
          0.5805330276489258,
          0.9665336608886719,
          0.9205118417739868,
          0.794843316078186,
          0.7055686712265015,
          0.7524915933609009,
          0.7099573612213135,
          0.6136963367462158,
          0.6946250200271606,
          0.597284734249115,
          0.7269275188446045,
          0.6142486333847046,
          0.5906129479408264,
          0.6900616884231567,
          0.7181781530380249,
          0.5739431381225586,
          0.8119908571243286,
          0.6111370325088501,
          0.6013740301132202,
          0.8766336441040039,
          0.4583452343940735,
          0.6675349473953247,
          0.6699408292770386,
          0.5472139120101929,
          0.6748130321502686,
          0.5544686317443848,
          0.6005582213401794,
          0.7857087850570679,
          0.6596043109893799,
          0.8801785707473755,
          0.9511586427688599,
          0.6947543621063232,
          0.668297529220581,
          0.813376784324646,
          0.6694244146347046,
          0.9029998779296875,
          0.5747854113578796,
          0.5930338501930237,
          0.7593774795532227,
          0.751511812210083,
          0.6290433406829834,
          0.7328510284423828,
          0.6870278120040894,
          0.6511071920394897,
          0.5672776699066162,
          0.6927676200866699,
          0.514164924621582,
          0.7863261699676514,
          0.6348296403884888,
          0.897110104560852,
          0.8468096256256104,
          0.6318666934967041,
          0.7600938081741333,
          0.6226879358291626,
          0.6477103233337402,
          0.5393805503845215,
          0.5782146453857422,
          0.6385247707366943,
          0.7191420793533325,
          0.6147617697715759,
          0.7724552154541016,
          0.9479482173919678,
          0.5519023537635803,
          0.6548075675964355,
          0.7211810350418091,
          0.5256190299987793,
          0.9648544788360596,
          0.6121351718902588,
          0.819574236869812,
          0.7279837131500244,
          0.9036310911178589,
          0.6141538619995117,
          0.9431872367858887,
          0.7888290882110596,
          0.8236589431762695,
          0.6457842588424683,
          0.612004280090332,
          0.5600379705429077,
          0.5922285318374634,
          0.5754526853561401,
          0.714026927947998,
          0.6490902900695801,
          0.5855467319488525,
          0.8023504018783569,
          0.4863682985305786
         ],
         "yaxis": "y"
        }
       ],
       "layout": {
        "autosize": false,
        "height": 500,
        "legend": {
         "tracegroupgap": 0
        },
        "margin": {
         "t": 60
        },
        "template": {
         "data": {
          "bar": [
           {
            "error_x": {
             "color": "#2a3f5f"
            },
            "error_y": {
             "color": "#2a3f5f"
            },
            "marker": {
             "line": {
              "color": "#E5ECF6",
              "width": 0.5
             },
             "pattern": {
              "fillmode": "overlay",
              "size": 10,
              "solidity": 0.2
             }
            },
            "type": "bar"
           }
          ],
          "barpolar": [
           {
            "marker": {
             "line": {
              "color": "#E5ECF6",
              "width": 0.5
             },
             "pattern": {
              "fillmode": "overlay",
              "size": 10,
              "solidity": 0.2
             }
            },
            "type": "barpolar"
           }
          ],
          "carpet": [
           {
            "aaxis": {
             "endlinecolor": "#2a3f5f",
             "gridcolor": "white",
             "linecolor": "white",
             "minorgridcolor": "white",
             "startlinecolor": "#2a3f5f"
            },
            "baxis": {
             "endlinecolor": "#2a3f5f",
             "gridcolor": "white",
             "linecolor": "white",
             "minorgridcolor": "white",
             "startlinecolor": "#2a3f5f"
            },
            "type": "carpet"
           }
          ],
          "choropleth": [
           {
            "colorbar": {
             "outlinewidth": 0,
             "ticks": ""
            },
            "type": "choropleth"
           }
          ],
          "contour": [
           {
            "colorbar": {
             "outlinewidth": 0,
             "ticks": ""
            },
            "colorscale": [
             [
              0,
              "#0d0887"
             ],
             [
              0.1111111111111111,
              "#46039f"
             ],
             [
              0.2222222222222222,
              "#7201a8"
             ],
             [
              0.3333333333333333,
              "#9c179e"
             ],
             [
              0.4444444444444444,
              "#bd3786"
             ],
             [
              0.5555555555555556,
              "#d8576b"
             ],
             [
              0.6666666666666666,
              "#ed7953"
             ],
             [
              0.7777777777777778,
              "#fb9f3a"
             ],
             [
              0.8888888888888888,
              "#fdca26"
             ],
             [
              1,
              "#f0f921"
             ]
            ],
            "type": "contour"
           }
          ],
          "contourcarpet": [
           {
            "colorbar": {
             "outlinewidth": 0,
             "ticks": ""
            },
            "type": "contourcarpet"
           }
          ],
          "heatmap": [
           {
            "colorbar": {
             "outlinewidth": 0,
             "ticks": ""
            },
            "colorscale": [
             [
              0,
              "#0d0887"
             ],
             [
              0.1111111111111111,
              "#46039f"
             ],
             [
              0.2222222222222222,
              "#7201a8"
             ],
             [
              0.3333333333333333,
              "#9c179e"
             ],
             [
              0.4444444444444444,
              "#bd3786"
             ],
             [
              0.5555555555555556,
              "#d8576b"
             ],
             [
              0.6666666666666666,
              "#ed7953"
             ],
             [
              0.7777777777777778,
              "#fb9f3a"
             ],
             [
              0.8888888888888888,
              "#fdca26"
             ],
             [
              1,
              "#f0f921"
             ]
            ],
            "type": "heatmap"
           }
          ],
          "heatmapgl": [
           {
            "colorbar": {
             "outlinewidth": 0,
             "ticks": ""
            },
            "colorscale": [
             [
              0,
              "#0d0887"
             ],
             [
              0.1111111111111111,
              "#46039f"
             ],
             [
              0.2222222222222222,
              "#7201a8"
             ],
             [
              0.3333333333333333,
              "#9c179e"
             ],
             [
              0.4444444444444444,
              "#bd3786"
             ],
             [
              0.5555555555555556,
              "#d8576b"
             ],
             [
              0.6666666666666666,
              "#ed7953"
             ],
             [
              0.7777777777777778,
              "#fb9f3a"
             ],
             [
              0.8888888888888888,
              "#fdca26"
             ],
             [
              1,
              "#f0f921"
             ]
            ],
            "type": "heatmapgl"
           }
          ],
          "histogram": [
           {
            "marker": {
             "pattern": {
              "fillmode": "overlay",
              "size": 10,
              "solidity": 0.2
             }
            },
            "type": "histogram"
           }
          ],
          "histogram2d": [
           {
            "colorbar": {
             "outlinewidth": 0,
             "ticks": ""
            },
            "colorscale": [
             [
              0,
              "#0d0887"
             ],
             [
              0.1111111111111111,
              "#46039f"
             ],
             [
              0.2222222222222222,
              "#7201a8"
             ],
             [
              0.3333333333333333,
              "#9c179e"
             ],
             [
              0.4444444444444444,
              "#bd3786"
             ],
             [
              0.5555555555555556,
              "#d8576b"
             ],
             [
              0.6666666666666666,
              "#ed7953"
             ],
             [
              0.7777777777777778,
              "#fb9f3a"
             ],
             [
              0.8888888888888888,
              "#fdca26"
             ],
             [
              1,
              "#f0f921"
             ]
            ],
            "type": "histogram2d"
           }
          ],
          "histogram2dcontour": [
           {
            "colorbar": {
             "outlinewidth": 0,
             "ticks": ""
            },
            "colorscale": [
             [
              0,
              "#0d0887"
             ],
             [
              0.1111111111111111,
              "#46039f"
             ],
             [
              0.2222222222222222,
              "#7201a8"
             ],
             [
              0.3333333333333333,
              "#9c179e"
             ],
             [
              0.4444444444444444,
              "#bd3786"
             ],
             [
              0.5555555555555556,
              "#d8576b"
             ],
             [
              0.6666666666666666,
              "#ed7953"
             ],
             [
              0.7777777777777778,
              "#fb9f3a"
             ],
             [
              0.8888888888888888,
              "#fdca26"
             ],
             [
              1,
              "#f0f921"
             ]
            ],
            "type": "histogram2dcontour"
           }
          ],
          "mesh3d": [
           {
            "colorbar": {
             "outlinewidth": 0,
             "ticks": ""
            },
            "type": "mesh3d"
           }
          ],
          "parcoords": [
           {
            "line": {
             "colorbar": {
              "outlinewidth": 0,
              "ticks": ""
             }
            },
            "type": "parcoords"
           }
          ],
          "pie": [
           {
            "automargin": true,
            "type": "pie"
           }
          ],
          "scatter": [
           {
            "marker": {
             "colorbar": {
              "outlinewidth": 0,
              "ticks": ""
             }
            },
            "type": "scatter"
           }
          ],
          "scatter3d": [
           {
            "line": {
             "colorbar": {
              "outlinewidth": 0,
              "ticks": ""
             }
            },
            "marker": {
             "colorbar": {
              "outlinewidth": 0,
              "ticks": ""
             }
            },
            "type": "scatter3d"
           }
          ],
          "scattercarpet": [
           {
            "marker": {
             "colorbar": {
              "outlinewidth": 0,
              "ticks": ""
             }
            },
            "type": "scattercarpet"
           }
          ],
          "scattergeo": [
           {
            "marker": {
             "colorbar": {
              "outlinewidth": 0,
              "ticks": ""
             }
            },
            "type": "scattergeo"
           }
          ],
          "scattergl": [
           {
            "marker": {
             "colorbar": {
              "outlinewidth": 0,
              "ticks": ""
             }
            },
            "type": "scattergl"
           }
          ],
          "scattermapbox": [
           {
            "marker": {
             "colorbar": {
              "outlinewidth": 0,
              "ticks": ""
             }
            },
            "type": "scattermapbox"
           }
          ],
          "scatterpolar": [
           {
            "marker": {
             "colorbar": {
              "outlinewidth": 0,
              "ticks": ""
             }
            },
            "type": "scatterpolar"
           }
          ],
          "scatterpolargl": [
           {
            "marker": {
             "colorbar": {
              "outlinewidth": 0,
              "ticks": ""
             }
            },
            "type": "scatterpolargl"
           }
          ],
          "scatterternary": [
           {
            "marker": {
             "colorbar": {
              "outlinewidth": 0,
              "ticks": ""
             }
            },
            "type": "scatterternary"
           }
          ],
          "surface": [
           {
            "colorbar": {
             "outlinewidth": 0,
             "ticks": ""
            },
            "colorscale": [
             [
              0,
              "#0d0887"
             ],
             [
              0.1111111111111111,
              "#46039f"
             ],
             [
              0.2222222222222222,
              "#7201a8"
             ],
             [
              0.3333333333333333,
              "#9c179e"
             ],
             [
              0.4444444444444444,
              "#bd3786"
             ],
             [
              0.5555555555555556,
              "#d8576b"
             ],
             [
              0.6666666666666666,
              "#ed7953"
             ],
             [
              0.7777777777777778,
              "#fb9f3a"
             ],
             [
              0.8888888888888888,
              "#fdca26"
             ],
             [
              1,
              "#f0f921"
             ]
            ],
            "type": "surface"
           }
          ],
          "table": [
           {
            "cells": {
             "fill": {
              "color": "#EBF0F8"
             },
             "line": {
              "color": "white"
             }
            },
            "header": {
             "fill": {
              "color": "#C8D4E3"
             },
             "line": {
              "color": "white"
             }
            },
            "type": "table"
           }
          ]
         },
         "layout": {
          "annotationdefaults": {
           "arrowcolor": "#2a3f5f",
           "arrowhead": 0,
           "arrowwidth": 1
          },
          "autotypenumbers": "strict",
          "coloraxis": {
           "colorbar": {
            "outlinewidth": 0,
            "ticks": ""
           }
          },
          "colorscale": {
           "diverging": [
            [
             0,
             "#8e0152"
            ],
            [
             0.1,
             "#c51b7d"
            ],
            [
             0.2,
             "#de77ae"
            ],
            [
             0.3,
             "#f1b6da"
            ],
            [
             0.4,
             "#fde0ef"
            ],
            [
             0.5,
             "#f7f7f7"
            ],
            [
             0.6,
             "#e6f5d0"
            ],
            [
             0.7,
             "#b8e186"
            ],
            [
             0.8,
             "#7fbc41"
            ],
            [
             0.9,
             "#4d9221"
            ],
            [
             1,
             "#276419"
            ]
           ],
           "sequential": [
            [
             0,
             "#0d0887"
            ],
            [
             0.1111111111111111,
             "#46039f"
            ],
            [
             0.2222222222222222,
             "#7201a8"
            ],
            [
             0.3333333333333333,
             "#9c179e"
            ],
            [
             0.4444444444444444,
             "#bd3786"
            ],
            [
             0.5555555555555556,
             "#d8576b"
            ],
            [
             0.6666666666666666,
             "#ed7953"
            ],
            [
             0.7777777777777778,
             "#fb9f3a"
            ],
            [
             0.8888888888888888,
             "#fdca26"
            ],
            [
             1,
             "#f0f921"
            ]
           ],
           "sequentialminus": [
            [
             0,
             "#0d0887"
            ],
            [
             0.1111111111111111,
             "#46039f"
            ],
            [
             0.2222222222222222,
             "#7201a8"
            ],
            [
             0.3333333333333333,
             "#9c179e"
            ],
            [
             0.4444444444444444,
             "#bd3786"
            ],
            [
             0.5555555555555556,
             "#d8576b"
            ],
            [
             0.6666666666666666,
             "#ed7953"
            ],
            [
             0.7777777777777778,
             "#fb9f3a"
            ],
            [
             0.8888888888888888,
             "#fdca26"
            ],
            [
             1,
             "#f0f921"
            ]
           ]
          },
          "colorway": [
           "#636efa",
           "#EF553B",
           "#00cc96",
           "#ab63fa",
           "#FFA15A",
           "#19d3f3",
           "#FF6692",
           "#B6E880",
           "#FF97FF",
           "#FECB52"
          ],
          "font": {
           "color": "#2a3f5f"
          },
          "geo": {
           "bgcolor": "white",
           "lakecolor": "white",
           "landcolor": "#E5ECF6",
           "showlakes": true,
           "showland": true,
           "subunitcolor": "white"
          },
          "hoverlabel": {
           "align": "left"
          },
          "hovermode": "closest",
          "mapbox": {
           "style": "light"
          },
          "paper_bgcolor": "white",
          "plot_bgcolor": "#E5ECF6",
          "polar": {
           "angularaxis": {
            "gridcolor": "white",
            "linecolor": "white",
            "ticks": ""
           },
           "bgcolor": "#E5ECF6",
           "radialaxis": {
            "gridcolor": "white",
            "linecolor": "white",
            "ticks": ""
           }
          },
          "scene": {
           "xaxis": {
            "backgroundcolor": "#E5ECF6",
            "gridcolor": "white",
            "gridwidth": 2,
            "linecolor": "white",
            "showbackground": true,
            "ticks": "",
            "zerolinecolor": "white"
           },
           "yaxis": {
            "backgroundcolor": "#E5ECF6",
            "gridcolor": "white",
            "gridwidth": 2,
            "linecolor": "white",
            "showbackground": true,
            "ticks": "",
            "zerolinecolor": "white"
           },
           "zaxis": {
            "backgroundcolor": "#E5ECF6",
            "gridcolor": "white",
            "gridwidth": 2,
            "linecolor": "white",
            "showbackground": true,
            "ticks": "",
            "zerolinecolor": "white"
           }
          },
          "shapedefaults": {
           "line": {
            "color": "#2a3f5f"
           }
          },
          "ternary": {
           "aaxis": {
            "gridcolor": "white",
            "linecolor": "white",
            "ticks": ""
           },
           "baxis": {
            "gridcolor": "white",
            "linecolor": "white",
            "ticks": ""
           },
           "bgcolor": "#E5ECF6",
           "caxis": {
            "gridcolor": "white",
            "linecolor": "white",
            "ticks": ""
           }
          },
          "title": {
           "x": 0.05
          },
          "xaxis": {
           "automargin": true,
           "gridcolor": "white",
           "linecolor": "white",
           "ticks": "",
           "title": {
            "standoff": 15
           },
           "zerolinecolor": "white",
           "zerolinewidth": 2
          },
          "yaxis": {
           "automargin": true,
           "gridcolor": "white",
           "linecolor": "white",
           "ticks": "",
           "title": {
            "standoff": 15
           },
           "zerolinecolor": "white",
           "zerolinewidth": 2
          }
         }
        },
        "title": {
         "text": "Predictions - Actuals Comparison"
        },
        "width": 800,
        "xaxis": {
         "anchor": "y",
         "autorange": true,
         "domain": [
          0,
          1
         ],
         "range": [
          0.421425342462621,
          1.034230937537379
         ],
         "title": {
          "text": "Actuals"
         },
         "type": "linear"
        },
        "yaxis": {
         "anchor": "x",
         "autorange": true,
         "domain": [
          0,
          1
         ],
         "range": [
          0.41637499736383626,
          1.0019097168581181
         ],
         "title": {
          "text": "Predictions"
         },
         "type": "linear"
        }
       }
      },
      "text/html": [
       "<div>                            <div id=\"5aa8d4f8-270e-4b9b-b35f-0174935df95d\" class=\"plotly-graph-div\" style=\"height:500px; width:800px;\"></div>            <script type=\"text/javascript\">                require([\"plotly\"], function(Plotly) {                    window.PLOTLYENV=window.PLOTLYENV || {};                                    if (document.getElementById(\"5aa8d4f8-270e-4b9b-b35f-0174935df95d\")) {                    Plotly.newPlot(                        \"5aa8d4f8-270e-4b9b-b35f-0174935df95d\",                        [{\"hovertemplate\":\"Actuals=%{x}<br>Predictions=%{y}<extra></extra>\",\"legendgroup\":\"\",\"marker\":{\"color\":\"#636efa\",\"symbol\":\"circle\"},\"mode\":\"markers\",\"name\":\"\",\"orientation\":\"v\",\"showlegend\":false,\"x\":[0.7384442,0.73376239,0.72230384,0.53246076,0.51616329,0.96336483,0.67098905,0.71171478,0.67916698,0.74361626,0.90528937,0.70889569,0.51104023,0.75194972,0.5434895,0.69164226,0.93743959,0.76276188,0.81167856,0.58469904,0.79625676,0.65894324,1.0,0.5887795,0.59797309,0.7227172,0.86927816,0.66087333,0.80259969,0.56959259,0.6483484,0.70224112,0.51921474,0.54753098,0.66066764,0.71037392,0.57979038,0.82904739,0.54767064,0.73361427,0.57786739,0.62965242,0.75661113,0.58856543,0.59423058,0.65445616,0.6180638,0.67534882,0.72684409,0.65210758,0.59003472,0.72993045,0.65482257,1.0,0.58286615,0.48413374,0.4601164,0.72364259,0.74764051,0.56104427,0.64969212,0.5688136,0.56834883,0.58178173,0.55980337,0.56374627,0.68870019,0.56269342,0.57866113,0.54552189,0.53909477,0.64895309,0.67885294,0.57952193,0.52761138,0.58047194,0.61063596,0.71339824,0.66642786,0.5457118,0.6616516,0.62858972,0.85845155,0.51554291,0.78841538,0.73836209,0.69420056,0.64458675,0.78461273,0.71516634,0.96447129,0.80652511,0.65947849,0.64798891,0.65173542,0.593676,0.57091219,0.71173102,0.7066877,0.57410991,0.58706504,0.64306354,0.58960352,0.67878983,0.73250484,0.47530942,0.57891929,0.61411078,0.68392306,0.60427085,0.53960483,0.72151207,0.86488199,0.68967942,0.71040288,0.57661682,1.0,1.0,0.79628407,0.71768808,0.75660264,0.7105446,0.61643514,0.71130736,0.5978892,0.7417454,0.61414542,0.59066643,0.70533936,0.74946577,0.57567461,0.81205372,0.61245114,0.60764739,0.87135304,0.45565628,0.66412937,0.6730554,0.54628545,0.68098005,0.55508632,0.6024248,0.7660951,0.6610094,0.85395965,0.98213417,0.72406364,0.66948785,0.80151889,0.67321311,0.96864799,0.58006283,0.5917353,0.75478667,0.75719697,0.63153449,0.73633785,0.69494143,0.6561177,0.56617759,0.70182301,0.51625621,0.79404039,0.64084632,0.86321305,0.92227219,0.63553279,0.77406185,0.62712654,0.64918999,0.53934719,0.57750935,0.64216181,0.7263451,0.62201419,0.77574627,0.94320709,0.55437257,0.65797636,0.72858291,0.52264911,0.9510686,0.61501818,0.82954756,0.73433167,0.88660721,0.61332524,1.0,0.79635784,0.8254783,0.65226798,0.61819229,0.56541682,0.59306312,0.57863281,0.71929123,0.65571471,0.58588369,0.80505535,0.48207362],\"xaxis\":\"x\",\"y\":[0.7304805517196655,0.7346781492233276,0.7172365188598633,0.5346230268478394,0.5170397162437439,0.9270631074905396,0.6713588237762451,0.7083998918533325,0.6658602952957153,0.7370340824127197,0.8345867395401001,0.7084143161773682,0.5172981023788452,0.7396707534790039,0.5412464141845703,0.6899758577346802,0.8390913009643555,0.759019136428833,0.8038945198059082,0.5787372589111328,0.7966476678848267,0.6543222665786743,0.960180401802063,0.5872719287872314,0.5986734628677368,0.7140457630157471,0.8458683490753174,0.6613671779632568,0.7924344539642334,0.5688676834106445,0.6397405862808228,0.6954985857009888,0.5198885202407837,0.545425295829773,0.6505039930343628,0.7085356712341309,0.5673928260803223,0.8222208023071289,0.5354065299034119,0.7400199174880981,0.5776164531707764,0.633987545967102,0.747156023979187,0.5863592624664307,0.5946120619773865,0.649329423904419,0.6158924102783203,0.6699526309967041,0.7208195924758911,0.6528646945953369,0.5877939462661743,0.7278273105621338,0.6522068977355957,0.9647917747497559,0.5818305015563965,0.45175105333328247,0.4667046368122101,0.7223119735717773,0.7440922260284424,0.5479413866996765,0.6444211006164551,0.5674228668212891,0.5651025772094727,0.5779180526733398,0.5587254762649536,0.5610243678092957,0.6861286163330078,0.5570303201675415,0.5734512805938721,0.5412886142730713,0.5474801063537598,0.6398907899856567,0.673713207244873,0.5764405131340027,0.5267106294631958,0.5758546590805054,0.6093083620071411,0.7193615436553955,0.660582423210144,0.5477944612503052,0.6614333391189575,0.6280534267425537,0.8608120679855347,0.512108325958252,0.7853864431381226,0.7650145292282104,0.697756290435791,0.6359633207321167,0.7795498371124268,0.71352219581604,0.7650091648101807,0.8329603672027588,0.6561671495437622,0.6464844942092896,0.6476701498031616,0.5960206389427185,0.5669103860855103,0.7051156759262085,0.7045780420303345,0.5741684436798096,0.5885068774223328,0.6359573602676392,0.5894356966018677,0.6743184328079224,0.7294442653656006,0.4746062457561493,0.5788518190383911,0.6129667162895203,0.6782245635986328,0.6006615161895752,0.542492151260376,0.7259612083435059,0.8710697889328003,0.6784809827804565,0.7099059820175171,0.5805330276489258,0.9665336608886719,0.9205118417739868,0.794843316078186,0.7055686712265015,0.7524915933609009,0.7099573612213135,0.6136963367462158,0.6946250200271606,0.597284734249115,0.7269275188446045,0.6142486333847046,0.5906129479408264,0.6900616884231567,0.7181781530380249,0.5739431381225586,0.8119908571243286,0.6111370325088501,0.6013740301132202,0.8766336441040039,0.4583452343940735,0.6675349473953247,0.6699408292770386,0.5472139120101929,0.6748130321502686,0.5544686317443848,0.6005582213401794,0.7857087850570679,0.6596043109893799,0.8801785707473755,0.9511586427688599,0.6947543621063232,0.668297529220581,0.813376784324646,0.6694244146347046,0.9029998779296875,0.5747854113578796,0.5930338501930237,0.7593774795532227,0.751511812210083,0.6290433406829834,0.7328510284423828,0.6870278120040894,0.6511071920394897,0.5672776699066162,0.6927676200866699,0.514164924621582,0.7863261699676514,0.6348296403884888,0.897110104560852,0.8468096256256104,0.6318666934967041,0.7600938081741333,0.6226879358291626,0.6477103233337402,0.5393805503845215,0.5782146453857422,0.6385247707366943,0.7191420793533325,0.6147617697715759,0.7724552154541016,0.9479482173919678,0.5519023537635803,0.6548075675964355,0.7211810350418091,0.5256190299987793,0.9648544788360596,0.6121351718902588,0.819574236869812,0.7279837131500244,0.9036310911178589,0.6141538619995117,0.9431872367858887,0.7888290882110596,0.8236589431762695,0.6457842588424683,0.612004280090332,0.5600379705429077,0.5922285318374634,0.5754526853561401,0.714026927947998,0.6490902900695801,0.5855467319488525,0.8023504018783569,0.4863682985305786],\"yaxis\":\"y\",\"type\":\"scatter\"}],                        {\"template\":{\"data\":{\"bar\":[{\"error_x\":{\"color\":\"#2a3f5f\"},\"error_y\":{\"color\":\"#2a3f5f\"},\"marker\":{\"line\":{\"color\":\"#E5ECF6\",\"width\":0.5},\"pattern\":{\"fillmode\":\"overlay\",\"size\":10,\"solidity\":0.2}},\"type\":\"bar\"}],\"barpolar\":[{\"marker\":{\"line\":{\"color\":\"#E5ECF6\",\"width\":0.5},\"pattern\":{\"fillmode\":\"overlay\",\"size\":10,\"solidity\":0.2}},\"type\":\"barpolar\"}],\"carpet\":[{\"aaxis\":{\"endlinecolor\":\"#2a3f5f\",\"gridcolor\":\"white\",\"linecolor\":\"white\",\"minorgridcolor\":\"white\",\"startlinecolor\":\"#2a3f5f\"},\"baxis\":{\"endlinecolor\":\"#2a3f5f\",\"gridcolor\":\"white\",\"linecolor\":\"white\",\"minorgridcolor\":\"white\",\"startlinecolor\":\"#2a3f5f\"},\"type\":\"carpet\"}],\"choropleth\":[{\"colorbar\":{\"outlinewidth\":0,\"ticks\":\"\"},\"type\":\"choropleth\"}],\"contour\":[{\"colorbar\":{\"outlinewidth\":0,\"ticks\":\"\"},\"colorscale\":[[0.0,\"#0d0887\"],[0.1111111111111111,\"#46039f\"],[0.2222222222222222,\"#7201a8\"],[0.3333333333333333,\"#9c179e\"],[0.4444444444444444,\"#bd3786\"],[0.5555555555555556,\"#d8576b\"],[0.6666666666666666,\"#ed7953\"],[0.7777777777777778,\"#fb9f3a\"],[0.8888888888888888,\"#fdca26\"],[1.0,\"#f0f921\"]],\"type\":\"contour\"}],\"contourcarpet\":[{\"colorbar\":{\"outlinewidth\":0,\"ticks\":\"\"},\"type\":\"contourcarpet\"}],\"heatmap\":[{\"colorbar\":{\"outlinewidth\":0,\"ticks\":\"\"},\"colorscale\":[[0.0,\"#0d0887\"],[0.1111111111111111,\"#46039f\"],[0.2222222222222222,\"#7201a8\"],[0.3333333333333333,\"#9c179e\"],[0.4444444444444444,\"#bd3786\"],[0.5555555555555556,\"#d8576b\"],[0.6666666666666666,\"#ed7953\"],[0.7777777777777778,\"#fb9f3a\"],[0.8888888888888888,\"#fdca26\"],[1.0,\"#f0f921\"]],\"type\":\"heatmap\"}],\"heatmapgl\":[{\"colorbar\":{\"outlinewidth\":0,\"ticks\":\"\"},\"colorscale\":[[0.0,\"#0d0887\"],[0.1111111111111111,\"#46039f\"],[0.2222222222222222,\"#7201a8\"],[0.3333333333333333,\"#9c179e\"],[0.4444444444444444,\"#bd3786\"],[0.5555555555555556,\"#d8576b\"],[0.6666666666666666,\"#ed7953\"],[0.7777777777777778,\"#fb9f3a\"],[0.8888888888888888,\"#fdca26\"],[1.0,\"#f0f921\"]],\"type\":\"heatmapgl\"}],\"histogram\":[{\"marker\":{\"pattern\":{\"fillmode\":\"overlay\",\"size\":10,\"solidity\":0.2}},\"type\":\"histogram\"}],\"histogram2d\":[{\"colorbar\":{\"outlinewidth\":0,\"ticks\":\"\"},\"colorscale\":[[0.0,\"#0d0887\"],[0.1111111111111111,\"#46039f\"],[0.2222222222222222,\"#7201a8\"],[0.3333333333333333,\"#9c179e\"],[0.4444444444444444,\"#bd3786\"],[0.5555555555555556,\"#d8576b\"],[0.6666666666666666,\"#ed7953\"],[0.7777777777777778,\"#fb9f3a\"],[0.8888888888888888,\"#fdca26\"],[1.0,\"#f0f921\"]],\"type\":\"histogram2d\"}],\"histogram2dcontour\":[{\"colorbar\":{\"outlinewidth\":0,\"ticks\":\"\"},\"colorscale\":[[0.0,\"#0d0887\"],[0.1111111111111111,\"#46039f\"],[0.2222222222222222,\"#7201a8\"],[0.3333333333333333,\"#9c179e\"],[0.4444444444444444,\"#bd3786\"],[0.5555555555555556,\"#d8576b\"],[0.6666666666666666,\"#ed7953\"],[0.7777777777777778,\"#fb9f3a\"],[0.8888888888888888,\"#fdca26\"],[1.0,\"#f0f921\"]],\"type\":\"histogram2dcontour\"}],\"mesh3d\":[{\"colorbar\":{\"outlinewidth\":0,\"ticks\":\"\"},\"type\":\"mesh3d\"}],\"parcoords\":[{\"line\":{\"colorbar\":{\"outlinewidth\":0,\"ticks\":\"\"}},\"type\":\"parcoords\"}],\"pie\":[{\"automargin\":true,\"type\":\"pie\"}],\"scatter\":[{\"marker\":{\"colorbar\":{\"outlinewidth\":0,\"ticks\":\"\"}},\"type\":\"scatter\"}],\"scatter3d\":[{\"line\":{\"colorbar\":{\"outlinewidth\":0,\"ticks\":\"\"}},\"marker\":{\"colorbar\":{\"outlinewidth\":0,\"ticks\":\"\"}},\"type\":\"scatter3d\"}],\"scattercarpet\":[{\"marker\":{\"colorbar\":{\"outlinewidth\":0,\"ticks\":\"\"}},\"type\":\"scattercarpet\"}],\"scattergeo\":[{\"marker\":{\"colorbar\":{\"outlinewidth\":0,\"ticks\":\"\"}},\"type\":\"scattergeo\"}],\"scattergl\":[{\"marker\":{\"colorbar\":{\"outlinewidth\":0,\"ticks\":\"\"}},\"type\":\"scattergl\"}],\"scattermapbox\":[{\"marker\":{\"colorbar\":{\"outlinewidth\":0,\"ticks\":\"\"}},\"type\":\"scattermapbox\"}],\"scatterpolar\":[{\"marker\":{\"colorbar\":{\"outlinewidth\":0,\"ticks\":\"\"}},\"type\":\"scatterpolar\"}],\"scatterpolargl\":[{\"marker\":{\"colorbar\":{\"outlinewidth\":0,\"ticks\":\"\"}},\"type\":\"scatterpolargl\"}],\"scatterternary\":[{\"marker\":{\"colorbar\":{\"outlinewidth\":0,\"ticks\":\"\"}},\"type\":\"scatterternary\"}],\"surface\":[{\"colorbar\":{\"outlinewidth\":0,\"ticks\":\"\"},\"colorscale\":[[0.0,\"#0d0887\"],[0.1111111111111111,\"#46039f\"],[0.2222222222222222,\"#7201a8\"],[0.3333333333333333,\"#9c179e\"],[0.4444444444444444,\"#bd3786\"],[0.5555555555555556,\"#d8576b\"],[0.6666666666666666,\"#ed7953\"],[0.7777777777777778,\"#fb9f3a\"],[0.8888888888888888,\"#fdca26\"],[1.0,\"#f0f921\"]],\"type\":\"surface\"}],\"table\":[{\"cells\":{\"fill\":{\"color\":\"#EBF0F8\"},\"line\":{\"color\":\"white\"}},\"header\":{\"fill\":{\"color\":\"#C8D4E3\"},\"line\":{\"color\":\"white\"}},\"type\":\"table\"}]},\"layout\":{\"annotationdefaults\":{\"arrowcolor\":\"#2a3f5f\",\"arrowhead\":0,\"arrowwidth\":1},\"autotypenumbers\":\"strict\",\"coloraxis\":{\"colorbar\":{\"outlinewidth\":0,\"ticks\":\"\"}},\"colorscale\":{\"diverging\":[[0,\"#8e0152\"],[0.1,\"#c51b7d\"],[0.2,\"#de77ae\"],[0.3,\"#f1b6da\"],[0.4,\"#fde0ef\"],[0.5,\"#f7f7f7\"],[0.6,\"#e6f5d0\"],[0.7,\"#b8e186\"],[0.8,\"#7fbc41\"],[0.9,\"#4d9221\"],[1,\"#276419\"]],\"sequential\":[[0.0,\"#0d0887\"],[0.1111111111111111,\"#46039f\"],[0.2222222222222222,\"#7201a8\"],[0.3333333333333333,\"#9c179e\"],[0.4444444444444444,\"#bd3786\"],[0.5555555555555556,\"#d8576b\"],[0.6666666666666666,\"#ed7953\"],[0.7777777777777778,\"#fb9f3a\"],[0.8888888888888888,\"#fdca26\"],[1.0,\"#f0f921\"]],\"sequentialminus\":[[0.0,\"#0d0887\"],[0.1111111111111111,\"#46039f\"],[0.2222222222222222,\"#7201a8\"],[0.3333333333333333,\"#9c179e\"],[0.4444444444444444,\"#bd3786\"],[0.5555555555555556,\"#d8576b\"],[0.6666666666666666,\"#ed7953\"],[0.7777777777777778,\"#fb9f3a\"],[0.8888888888888888,\"#fdca26\"],[1.0,\"#f0f921\"]]},\"colorway\":[\"#636efa\",\"#EF553B\",\"#00cc96\",\"#ab63fa\",\"#FFA15A\",\"#19d3f3\",\"#FF6692\",\"#B6E880\",\"#FF97FF\",\"#FECB52\"],\"font\":{\"color\":\"#2a3f5f\"},\"geo\":{\"bgcolor\":\"white\",\"lakecolor\":\"white\",\"landcolor\":\"#E5ECF6\",\"showlakes\":true,\"showland\":true,\"subunitcolor\":\"white\"},\"hoverlabel\":{\"align\":\"left\"},\"hovermode\":\"closest\",\"mapbox\":{\"style\":\"light\"},\"paper_bgcolor\":\"white\",\"plot_bgcolor\":\"#E5ECF6\",\"polar\":{\"angularaxis\":{\"gridcolor\":\"white\",\"linecolor\":\"white\",\"ticks\":\"\"},\"bgcolor\":\"#E5ECF6\",\"radialaxis\":{\"gridcolor\":\"white\",\"linecolor\":\"white\",\"ticks\":\"\"}},\"scene\":{\"xaxis\":{\"backgroundcolor\":\"#E5ECF6\",\"gridcolor\":\"white\",\"gridwidth\":2,\"linecolor\":\"white\",\"showbackground\":true,\"ticks\":\"\",\"zerolinecolor\":\"white\"},\"yaxis\":{\"backgroundcolor\":\"#E5ECF6\",\"gridcolor\":\"white\",\"gridwidth\":2,\"linecolor\":\"white\",\"showbackground\":true,\"ticks\":\"\",\"zerolinecolor\":\"white\"},\"zaxis\":{\"backgroundcolor\":\"#E5ECF6\",\"gridcolor\":\"white\",\"gridwidth\":2,\"linecolor\":\"white\",\"showbackground\":true,\"ticks\":\"\",\"zerolinecolor\":\"white\"}},\"shapedefaults\":{\"line\":{\"color\":\"#2a3f5f\"}},\"ternary\":{\"aaxis\":{\"gridcolor\":\"white\",\"linecolor\":\"white\",\"ticks\":\"\"},\"baxis\":{\"gridcolor\":\"white\",\"linecolor\":\"white\",\"ticks\":\"\"},\"bgcolor\":\"#E5ECF6\",\"caxis\":{\"gridcolor\":\"white\",\"linecolor\":\"white\",\"ticks\":\"\"}},\"title\":{\"x\":0.05},\"xaxis\":{\"automargin\":true,\"gridcolor\":\"white\",\"linecolor\":\"white\",\"ticks\":\"\",\"title\":{\"standoff\":15},\"zerolinecolor\":\"white\",\"zerolinewidth\":2},\"yaxis\":{\"automargin\":true,\"gridcolor\":\"white\",\"linecolor\":\"white\",\"ticks\":\"\",\"title\":{\"standoff\":15},\"zerolinecolor\":\"white\",\"zerolinewidth\":2}}},\"xaxis\":{\"anchor\":\"y\",\"domain\":[0.0,1.0],\"title\":{\"text\":\"Actuals\"}},\"yaxis\":{\"anchor\":\"x\",\"domain\":[0.0,1.0],\"title\":{\"text\":\"Predictions\"}},\"legend\":{\"tracegroupgap\":0},\"margin\":{\"t\":60},\"title\":{\"text\":\"Predictions - Actuals Comparison\"},\"autosize\":false,\"width\":800,\"height\":500},                        {\"responsive\": true}                    ).then(function(){\n",
       "                            \n",
       "var gd = document.getElementById('5aa8d4f8-270e-4b9b-b35f-0174935df95d');\n",
       "var x = new MutationObserver(function (mutations, observer) {{\n",
       "        var display = window.getComputedStyle(gd).display;\n",
       "        if (!display || display === 'none') {{\n",
       "            console.log([gd, 'removed!']);\n",
       "            Plotly.purge(gd);\n",
       "            observer.disconnect();\n",
       "        }}\n",
       "}});\n",
       "\n",
       "// Listen for the removal of the full notebook cells\n",
       "var notebookContainer = gd.closest('#notebook-container');\n",
       "if (notebookContainer) {{\n",
       "    x.observe(notebookContainer, {childList: true});\n",
       "}}\n",
       "\n",
       "// Listen for the clearing of the current output cell\n",
       "var outputEl = gd.closest('.output');\n",
       "if (outputEl) {{\n",
       "    x.observe(outputEl, {childList: true});\n",
       "}}\n",
       "\n",
       "                        })                };                });            </script>        </div>"
      ]
     },
     "metadata": {},
     "output_type": "display_data"
    }
   ],
   "source": [
    "fig = px.scatter(res_ann, x=\"Actuals\", y=\"Predictions\")\n",
    "\n",
    "fig.update_layout(\n",
    "    autosize=False,\n",
    "    width=800,\n",
    "    height=500,\n",
    "    title_text=\"Predictions - Actuals Comparison\",\n",
    ")\n",
    "\n",
    "fig.show()"
   ]
  },
  {
   "cell_type": "markdown",
   "id": "6aa7f4bf-41a4-46f8-bec9-6f1288eb49ab",
   "metadata": {
    "jp-MarkdownHeadingCollapsed": true,
    "tags": []
   },
   "source": [
    "### S22_IO_VRS "
   ]
  },
  {
   "cell_type": "code",
   "execution_count": 229,
   "id": "e4590ae5-f4c1-4365-bf1e-20ae56df0fef",
   "metadata": {},
   "outputs": [
    {
     "data": {
      "text/html": [
       "<div>\n",
       "<style scoped>\n",
       "    .dataframe tbody tr th:only-of-type {\n",
       "        vertical-align: middle;\n",
       "    }\n",
       "\n",
       "    .dataframe tbody tr th {\n",
       "        vertical-align: top;\n",
       "    }\n",
       "\n",
       "    .dataframe thead th {\n",
       "        text-align: right;\n",
       "    }\n",
       "</style>\n",
       "<table border=\"1\" class=\"dataframe\">\n",
       "  <thead>\n",
       "    <tr style=\"text-align: right;\">\n",
       "      <th></th>\n",
       "      <th>Input 1</th>\n",
       "      <th>Input 2</th>\n",
       "      <th>Output 1</th>\n",
       "      <th>Output 2</th>\n",
       "    </tr>\n",
       "  </thead>\n",
       "  <tbody>\n",
       "    <tr>\n",
       "      <th>DMU 1</th>\n",
       "      <td>115.29</td>\n",
       "      <td>412.41</td>\n",
       "      <td>117.93</td>\n",
       "      <td>810.51</td>\n",
       "    </tr>\n",
       "    <tr>\n",
       "      <th>DMU 2</th>\n",
       "      <td>115.93</td>\n",
       "      <td>369.50</td>\n",
       "      <td>104.26</td>\n",
       "      <td>340.73</td>\n",
       "    </tr>\n",
       "    <tr>\n",
       "      <th>DMU 3</th>\n",
       "      <td>111.43</td>\n",
       "      <td>418.37</td>\n",
       "      <td>110.93</td>\n",
       "      <td>300.85</td>\n",
       "    </tr>\n",
       "    <tr>\n",
       "      <th>DMU 4</th>\n",
       "      <td>123.87</td>\n",
       "      <td>355.78</td>\n",
       "      <td>119.90</td>\n",
       "      <td>234.46</td>\n",
       "    </tr>\n",
       "    <tr>\n",
       "      <th>DMU 5</th>\n",
       "      <td>106.30</td>\n",
       "      <td>525.76</td>\n",
       "      <td>100.49</td>\n",
       "      <td>256.06</td>\n",
       "    </tr>\n",
       "  </tbody>\n",
       "</table>\n",
       "</div>"
      ],
      "text/plain": [
       "       Input 1  Input 2  Output 1  Output 2\n",
       "DMU 1   115.29   412.41    117.93    810.51\n",
       "DMU 2   115.93   369.50    104.26    340.73\n",
       "DMU 3   111.43   418.37    110.93    300.85\n",
       "DMU 4   123.87   355.78    119.90    234.46\n",
       "DMU 5   106.30   525.76    100.49    256.06"
      ]
     },
     "execution_count": 229,
     "metadata": {},
     "output_type": "execute_result"
    }
   ],
   "source": [
    "X = dfs_data[1]\n",
    "X.head()"
   ]
  },
  {
   "cell_type": "code",
   "execution_count": 230,
   "id": "7b8ad223-24f9-4df0-b78a-5fe2cecce5dc",
   "metadata": {},
   "outputs": [
    {
     "data": {
      "text/html": [
       "<div>\n",
       "<style scoped>\n",
       "    .dataframe tbody tr th:only-of-type {\n",
       "        vertical-align: middle;\n",
       "    }\n",
       "\n",
       "    .dataframe tbody tr th {\n",
       "        vertical-align: top;\n",
       "    }\n",
       "\n",
       "    .dataframe thead th {\n",
       "        text-align: right;\n",
       "    }\n",
       "</style>\n",
       "<table border=\"1\" class=\"dataframe\">\n",
       "  <thead>\n",
       "    <tr style=\"text-align: right;\">\n",
       "      <th></th>\n",
       "      <th>Efficiency</th>\n",
       "    </tr>\n",
       "    <tr>\n",
       "      <th>DMU</th>\n",
       "      <th></th>\n",
       "    </tr>\n",
       "  </thead>\n",
       "  <tbody>\n",
       "    <tr>\n",
       "      <th>DMU 1</th>\n",
       "      <td>0.930841</td>\n",
       "    </tr>\n",
       "    <tr>\n",
       "      <th>DMU 2</th>\n",
       "      <td>0.803130</td>\n",
       "    </tr>\n",
       "    <tr>\n",
       "      <th>DMU 3</th>\n",
       "      <td>0.833498</td>\n",
       "    </tr>\n",
       "    <tr>\n",
       "      <th>DMU 4</th>\n",
       "      <td>0.790839</td>\n",
       "    </tr>\n",
       "    <tr>\n",
       "      <th>DMU 5</th>\n",
       "      <td>0.834618</td>\n",
       "    </tr>\n",
       "  </tbody>\n",
       "</table>\n",
       "</div>"
      ],
      "text/plain": [
       "       Efficiency\n",
       "DMU              \n",
       "DMU 1    0.930841\n",
       "DMU 2    0.803130\n",
       "DMU 3    0.833498\n",
       "DMU 4    0.790839\n",
       "DMU 5    0.834618"
      ]
     },
     "execution_count": 230,
     "metadata": {},
     "output_type": "execute_result"
    }
   ],
   "source": [
    "y = dfs_es[4]\n",
    "y.head()"
   ]
  },
  {
   "cell_type": "code",
   "execution_count": 231,
   "id": "ede00a5f-3455-40ef-9fb5-e00adda1a35b",
   "metadata": {},
   "outputs": [
    {
     "name": "stdout",
     "output_type": "stream",
     "text": [
      "neg_mean_squared_error: -0.00038653563745596537\n",
      "neg_root_mean_squared_error: -0.019205375810565396\n",
      "r2: 0.8985060137384316\n"
     ]
    }
   ],
   "source": [
    "scaler = StandardScaler()\n",
    "reg_model = LinearRegression()\n",
    "\n",
    "pipe = make_pipeline(scaler, reg_model)\n",
    "\n",
    "# cross-validate the pipeline\n",
    "print(\"neg_mean_squared_error:\", cross_val_score(pipe, X, y, scoring=\"neg_mean_squared_error\").mean())\n",
    "print(\"neg_root_mean_squared_error:\", cross_val_score(pipe, X, y, scoring=\"neg_root_mean_squared_error\").mean())\n",
    "print(\"r2:\", cross_val_score(pipe, X, y, scoring=\"r2\").mean())"
   ]
  },
  {
   "cell_type": "code",
   "execution_count": 232,
   "id": "ea84f20d-061e-4694-8523-e61d69f7f53c",
   "metadata": {},
   "outputs": [
    {
     "name": "stdout",
     "output_type": "stream",
     "text": [
      "neg_mean_squared_error: -0.00046472776697941803\n",
      "neg_root_mean_squared_error: -0.021933517122068105\n",
      "r2: 0.8721365940988022\n"
     ]
    }
   ],
   "source": [
    "reg_model = DecisionTreeRegressor()\n",
    "\n",
    "pipe = make_pipeline(scaler, reg_model)\n",
    "\n",
    "# cross-validate the pipeline\n",
    "print(\"neg_mean_squared_error:\", cross_val_score(pipe, X, y, scoring=\"neg_mean_squared_error\").mean())\n",
    "print(\"neg_root_mean_squared_error:\", cross_val_score(pipe, X, y, scoring=\"neg_root_mean_squared_error\").mean())\n",
    "print(\"r2:\", cross_val_score(pipe, X, y, scoring=\"r2\").mean())"
   ]
  },
  {
   "cell_type": "code",
   "execution_count": 233,
   "id": "95e82458-e934-4049-a713-5c976e323b2b",
   "metadata": {},
   "outputs": [
    {
     "name": "stdout",
     "output_type": "stream",
     "text": [
      "neg_mean_squared_error: -0.0003785126066327156\n",
      "neg_root_mean_squared_error: -0.019246221242664334\n",
      "r2: 0.9022456384303243\n"
     ]
    }
   ],
   "source": [
    "reg_model = KNeighborsRegressor()\n",
    "\n",
    "pipe = make_pipeline(scaler, reg_model)\n",
    "\n",
    "# cross-validate the pipeline\n",
    "print(\"neg_mean_squared_error:\", cross_val_score(pipe, X, y, scoring=\"neg_mean_squared_error\").mean())\n",
    "print(\"neg_root_mean_squared_error:\", cross_val_score(pipe, X, y, scoring=\"neg_root_mean_squared_error\").mean())\n",
    "print(\"r2:\", cross_val_score(pipe, X, y, scoring=\"r2\").mean())"
   ]
  },
  {
   "cell_type": "code",
   "execution_count": 234,
   "id": "d5f42a2f-804e-4ebf-babc-334025727395",
   "metadata": {},
   "outputs": [
    {
     "name": "stdout",
     "output_type": "stream",
     "text": [
      "neg_mean_squared_error: -0.0003073244132593013\n",
      "neg_root_mean_squared_error: -0.01664116467281429\n",
      "r2: 0.9209083284703732\n"
     ]
    }
   ],
   "source": [
    "reg_model = RandomForestRegressor()\n",
    "\n",
    "pipe = make_pipeline(scaler, reg_model)\n",
    "\n",
    "\n",
    "# cross-validate the pipeline\n",
    "print(\"neg_mean_squared_error:\", cross_val_score(pipe, X, y.values.ravel(), scoring=\"neg_mean_squared_error\").mean())\n",
    "print(\"neg_root_mean_squared_error:\", cross_val_score(pipe, X, y.values.ravel(), scoring=\"neg_root_mean_squared_error\").mean())\n",
    "print(\"r2:\", cross_val_score(pipe, X, y.values.ravel(), scoring=\"r2\").mean())"
   ]
  },
  {
   "cell_type": "code",
   "execution_count": 235,
   "id": "1efa84ef-7f44-4c3b-8405-6690e67b74ff",
   "metadata": {},
   "outputs": [
    {
     "name": "stdout",
     "output_type": "stream",
     "text": [
      "neg_mean_squared_error: -0.00017908682693267087\n",
      "neg_root_mean_squared_error: -0.013016475137327649\n",
      "r2: 0.9537435991471627\n"
     ]
    }
   ],
   "source": [
    "reg_model = GradientBoostingRegressor()\n",
    "\n",
    "pipe = make_pipeline(scaler, reg_model)\n",
    "\n",
    "# cross-validate the pipeline\n",
    "print(\"neg_mean_squared_error:\", cross_val_score(pipe, X, y.values.ravel(), scoring=\"neg_mean_squared_error\").mean())\n",
    "print(\"neg_root_mean_squared_error:\", cross_val_score(pipe, X, y.values.ravel(), scoring=\"neg_root_mean_squared_error\").mean())\n",
    "print(\"r2:\", cross_val_score(pipe, X, y.values.ravel(), scoring=\"r2\").mean())"
   ]
  },
  {
   "cell_type": "code",
   "execution_count": 236,
   "id": "c303cc67-d4e5-4153-8e02-4daa6b4cfae5",
   "metadata": {},
   "outputs": [
    {
     "name": "stdout",
     "output_type": "stream",
     "text": [
      "neg_mean_squared_error: -0.0004995968373023867\n",
      "neg_root_mean_squared_error: -0.02212073049282704\n",
      "r2: 0.8705061799858861\n"
     ]
    }
   ],
   "source": [
    "# Determination of the kernel used and the value lenght_scale at which the optimization process starts\n",
    "kernel = 1.0 * RBF(length_scale=1.0, length_scale_bounds=(1e-2, 1e3))\n",
    "\n",
    "# Application of the regressor (alpha makes a statement about a possible noise of the training data)\n",
    "reg_model = GaussianProcessRegressor(kernel=kernel, alpha=0.1)\n",
    "\n",
    "pipe = make_pipeline(scaler, reg_model)\n",
    "\n",
    "# cross-validate the pipeline\n",
    "print(\"neg_mean_squared_error:\", cross_val_score(pipe, X, y.values.ravel(), scoring=\"neg_mean_squared_error\").mean())\n",
    "print(\"neg_root_mean_squared_error:\", cross_val_score(pipe, X, y.values.ravel(), scoring=\"neg_root_mean_squared_error\").mean())\n",
    "print(\"r2:\", cross_val_score(pipe, X, y.values.ravel(), scoring=\"r2\").mean())"
   ]
  },
  {
   "cell_type": "code",
   "execution_count": 237,
   "id": "5b344063-89b1-485b-b435-2faac853b3c8",
   "metadata": {},
   "outputs": [
    {
     "name": "stdout",
     "output_type": "stream",
     "text": [
      "neg_mean_squared_error: -0.003105607081611915\n",
      "neg_root_mean_squared_error: -0.05569438672536281\n",
      "r2: 0.20125772011317325\n"
     ]
    }
   ],
   "source": [
    "# Choose regression method and set hyperparameter\n",
    "reg_model=SVR()\n",
    "\n",
    "pipe = make_pipeline(scaler, reg_model)\n",
    "\n",
    "# cross-validate the pipeline\n",
    "print(\"neg_mean_squared_error:\", cross_val_score(pipe, X, y.values.ravel(), scoring=\"neg_mean_squared_error\").mean())\n",
    "print(\"neg_root_mean_squared_error:\", cross_val_score(pipe, X, y.values.ravel(), scoring=\"neg_root_mean_squared_error\").mean())\n",
    "print(\"r2:\", cross_val_score(pipe, X, y.values.ravel(), scoring=\"r2\").mean())"
   ]
  },
  {
   "cell_type": "code",
   "execution_count": 238,
   "id": "d527d1cf-dc41-4d51-bfab-efc0f0e7448b",
   "metadata": {},
   "outputs": [
    {
     "name": "stdout",
     "output_type": "stream",
     "text": [
      "neg_mean_squared_error: -0.00017703531606104322\n",
      "neg_root_mean_squared_error: -0.012857897909444745\n",
      "r2: 0.954248968562411\n"
     ]
    }
   ],
   "source": [
    "poly = PolynomialFeatures(degree=2)\n",
    "\n",
    "# Choose regression method and set hyperparameter\n",
    "reg_model=GradientBoostingRegressor()\n",
    "\n",
    "pipe = make_pipeline(scaler, poly, reg_model)\n",
    "\n",
    "# cross-validate the pipeline\n",
    "print(\"neg_mean_squared_error:\", cross_val_score(pipe, X, y.values.ravel(), scoring=\"neg_mean_squared_error\").mean())\n",
    "print(\"neg_root_mean_squared_error:\", cross_val_score(pipe, X, y.values.ravel(), scoring=\"neg_root_mean_squared_error\").mean())\n",
    "print(\"r2:\", cross_val_score(pipe, X, y.values.ravel(), scoring=\"r2\").mean())"
   ]
  },
  {
   "cell_type": "code",
   "execution_count": 239,
   "id": "08b5c943-025f-413e-a427-5a90b0dc4616",
   "metadata": {},
   "outputs": [
    {
     "name": "stdout",
     "output_type": "stream",
     "text": [
      "neg_mean_squared_error: -0.00010829458804975816\n",
      "neg_root_mean_squared_error: -0.0100854946931403\n",
      "r2: 0.9720309755050796\n"
     ]
    }
   ],
   "source": [
    "poly = PolynomialFeatures(degree=3)\n",
    "\n",
    "# Choose regression method and set hyperparameter\n",
    "reg_model=LinearRegression()\n",
    "\n",
    "pipe = make_pipeline(scaler, poly, reg_model)\n",
    "\n",
    "# cross-validate the pipeline\n",
    "print(\"neg_mean_squared_error:\", cross_val_score(pipe, X, y, scoring=\"neg_mean_squared_error\").mean())\n",
    "print(\"neg_root_mean_squared_error:\", cross_val_score(pipe, X, y, scoring=\"neg_root_mean_squared_error\").mean())\n",
    "print(\"r2:\", cross_val_score(pipe, X, y, scoring=\"r2\").mean())"
   ]
  },
  {
   "cell_type": "code",
   "execution_count": 240,
   "id": "9dc58e71-d81c-4ab9-81fb-0612f92ff089",
   "metadata": {},
   "outputs": [
    {
     "data": {
      "text/html": [
       "<div>\n",
       "<style scoped>\n",
       "    .dataframe tbody tr th:only-of-type {\n",
       "        vertical-align: middle;\n",
       "    }\n",
       "\n",
       "    .dataframe tbody tr th {\n",
       "        vertical-align: top;\n",
       "    }\n",
       "\n",
       "    .dataframe thead th {\n",
       "        text-align: right;\n",
       "    }\n",
       "</style>\n",
       "<table border=\"1\" class=\"dataframe\">\n",
       "  <thead>\n",
       "    <tr style=\"text-align: right;\">\n",
       "      <th></th>\n",
       "      <th>Predictions</th>\n",
       "      <th>Actuals</th>\n",
       "      <th>Diff</th>\n",
       "    </tr>\n",
       "  </thead>\n",
       "  <tbody>\n",
       "    <tr>\n",
       "      <th>0</th>\n",
       "      <td>0.741847</td>\n",
       "      <td>0.745251</td>\n",
       "      <td>-0.003405</td>\n",
       "    </tr>\n",
       "    <tr>\n",
       "      <th>1</th>\n",
       "      <td>0.806888</td>\n",
       "      <td>0.807192</td>\n",
       "      <td>-0.000303</td>\n",
       "    </tr>\n",
       "    <tr>\n",
       "      <th>2</th>\n",
       "      <td>0.771424</td>\n",
       "      <td>0.766747</td>\n",
       "      <td>0.004677</td>\n",
       "    </tr>\n",
       "    <tr>\n",
       "      <th>3</th>\n",
       "      <td>0.791018</td>\n",
       "      <td>0.795058</td>\n",
       "      <td>-0.004039</td>\n",
       "    </tr>\n",
       "    <tr>\n",
       "      <th>4</th>\n",
       "      <td>0.815386</td>\n",
       "      <td>0.812411</td>\n",
       "      <td>0.002975</td>\n",
       "    </tr>\n",
       "    <tr>\n",
       "      <th>...</th>\n",
       "      <td>...</td>\n",
       "      <td>...</td>\n",
       "      <td>...</td>\n",
       "    </tr>\n",
       "    <tr>\n",
       "      <th>195</th>\n",
       "      <td>0.753401</td>\n",
       "      <td>0.758284</td>\n",
       "      <td>-0.004882</td>\n",
       "    </tr>\n",
       "    <tr>\n",
       "      <th>196</th>\n",
       "      <td>0.847583</td>\n",
       "      <td>0.850687</td>\n",
       "      <td>-0.003104</td>\n",
       "    </tr>\n",
       "    <tr>\n",
       "      <th>197</th>\n",
       "      <td>0.882020</td>\n",
       "      <td>0.882541</td>\n",
       "      <td>-0.000521</td>\n",
       "    </tr>\n",
       "    <tr>\n",
       "      <th>198</th>\n",
       "      <td>0.775963</td>\n",
       "      <td>0.781551</td>\n",
       "      <td>-0.005588</td>\n",
       "    </tr>\n",
       "    <tr>\n",
       "      <th>199</th>\n",
       "      <td>0.714981</td>\n",
       "      <td>0.715422</td>\n",
       "      <td>-0.000441</td>\n",
       "    </tr>\n",
       "  </tbody>\n",
       "</table>\n",
       "<p>200 rows × 3 columns</p>\n",
       "</div>"
      ],
      "text/plain": [
       "     Predictions   Actuals      Diff\n",
       "0       0.741847  0.745251 -0.003405\n",
       "1       0.806888  0.807192 -0.000303\n",
       "2       0.771424  0.766747  0.004677\n",
       "3       0.791018  0.795058 -0.004039\n",
       "4       0.815386  0.812411  0.002975\n",
       "..           ...       ...       ...\n",
       "195     0.753401  0.758284 -0.004882\n",
       "196     0.847583  0.850687 -0.003104\n",
       "197     0.882020  0.882541 -0.000521\n",
       "198     0.775963  0.781551 -0.005588\n",
       "199     0.714981  0.715422 -0.000441\n",
       "\n",
       "[200 rows x 3 columns]"
      ]
     },
     "execution_count": 240,
     "metadata": {},
     "output_type": "execute_result"
    }
   ],
   "source": [
    "X_train, X_test, y_train, y_test = train_test_split(X, y, test_size=0.2, random_state=42)\n",
    "\n",
    "model = pipe.fit(X_train, y_train)\n",
    "prediction = model.predict(X_test)\n",
    "\n",
    "res = pd.DataFrame()\n",
    "res[\"Predictions\"] = pd.Series(prediction.ravel())\n",
    "res[\"Actuals\"] = y_test.values\n",
    "res[\"Diff\"] = res.Predictions - res.Actuals\n",
    "res"
   ]
  },
  {
   "cell_type": "code",
   "execution_count": 241,
   "id": "243734da-eb4d-492b-bb44-7b4ae3421eef",
   "metadata": {},
   "outputs": [
    {
     "name": "stdout",
     "output_type": "stream",
     "text": [
      "       Predictions     Actuals        Diff\n",
      "count   200.000000  200.000000  200.000000\n",
      "mean      0.819856    0.818345    0.001510\n",
      "std       0.066830    0.063469    0.009980\n",
      "min       0.684155    0.684559   -0.032402\n",
      "25%       0.772105    0.772292   -0.003356\n",
      "50%       0.811641    0.813249    0.000052\n",
      "75%       0.854219    0.852951    0.003795\n",
      "max       1.055101    1.000000    0.055101\n"
     ]
    }
   ],
   "source": [
    "print(res.describe())"
   ]
  },
  {
   "cell_type": "code",
   "execution_count": 242,
   "id": "b4886645-7362-4226-89fd-a5b98b2ed513",
   "metadata": {},
   "outputs": [
    {
     "data": {
      "application/vnd.plotly.v1+json": {
       "config": {
        "plotlyServerURL": "https://plot.ly"
       },
       "data": [
        {
         "hovertemplate": "Actuals=%{x}<br>Predictions=%{y}<extra></extra>",
         "legendgroup": "",
         "marker": {
          "color": "#636efa",
          "symbol": "circle"
         },
         "mode": "markers",
         "name": "",
         "orientation": "v",
         "showlegend": false,
         "type": "scatter",
         "x": [
          0.74525122,
          0.80719154,
          0.76674695,
          0.79505772,
          0.81241101,
          0.86134701,
          0.90468812,
          0.85103009,
          0.77182039,
          0.70066118,
          0.81768832,
          1,
          0.78305576,
          0.74833171,
          0.82660331,
          0.78962693,
          0.89947619,
          0.85469652,
          0.78904825,
          0.75907567,
          0.7677634,
          0.89400282,
          0.81870602,
          0.80720134,
          0.82477871,
          0.77418435,
          0.81551534,
          0.80496574,
          0.79328858,
          0.7676004,
          0.88804641,
          0.82193679,
          0.78369663,
          1,
          0.82827362,
          0.70000039,
          0.89584094,
          0.76334157,
          0.82965901,
          0.8591451,
          0.73621553,
          0.89156141,
          0.85197427,
          0.76741907,
          0.85460019,
          0.85626535,
          0.80664068,
          0.77793174,
          0.84350456,
          0.94983503,
          0.90798819,
          0.83991976,
          0.79963788,
          0.91142379,
          0.80382829,
          0.95146776,
          0.85317481,
          0.79540472,
          0.87825293,
          0.83144058,
          0.84012413,
          0.83410714,
          0.88673818,
          0.92451575,
          0.80283011,
          0.71247567,
          0.81368294,
          0.72823401,
          0.89870977,
          0.78180562,
          0.80434532,
          0.77088727,
          0.7683598,
          0.76868934,
          0.89265665,
          0.79975868,
          0.75328916,
          0.84350379,
          0.90041445,
          0.96130031,
          0.86591302,
          0.78830362,
          0.81096454,
          0.86696688,
          0.88232881,
          0.86075833,
          0.81866559,
          0.7724488,
          0.80974095,
          0.74301044,
          0.71645331,
          0.77591164,
          0.74799494,
          0.76977625,
          0.90410347,
          0.82444617,
          0.76988357,
          0.78322412,
          0.83006116,
          0.74568305,
          0.93951833,
          0.78738665,
          0.80203096,
          0.75346368,
          0.83616868,
          0.77596526,
          0.85853838,
          0.87074096,
          0.90011555,
          0.81530551,
          0.79846428,
          0.81752814,
          0.83259718,
          0.70420052,
          0.81281486,
          0.76300219,
          0.81373223,
          0.73862917,
          0.76413299,
          0.73199534,
          0.83969023,
          0.77430318,
          0.81680246,
          0.80486503,
          0.78009319,
          0.88080692,
          0.91403331,
          0.8285439,
          0.7347921,
          0.79928106,
          0.8306354,
          0.76650118,
          0.81836356,
          0.81742643,
          0.82082126,
          0.80340467,
          0.76381847,
          0.79675245,
          0.77562264,
          0.88569823,
          0.77929651,
          0.87414479,
          0.79610225,
          0.75697736,
          0.95682483,
          0.71413569,
          0.77284964,
          0.74737445,
          0.68455894,
          0.77475956,
          0.819557,
          0.87584641,
          0.80592936,
          1,
          1,
          0.7816967,
          0.86401906,
          0.76521486,
          0.83460262,
          0.81612808,
          0.7678533,
          0.82487981,
          0.82503265,
          0.79801942,
          0.83243185,
          0.81972325,
          0.83719985,
          0.76424533,
          0.87112882,
          0.79539807,
          0.71267834,
          0.79264889,
          0.75315688,
          0.79964138,
          0.8430687,
          0.75659944,
          0.8528759,
          0.83471864,
          0.85078669,
          0.77649589,
          0.92300465,
          0.85127855,
          0.75638041,
          0.72179621,
          0.72855489,
          0.86814575,
          0.74708621,
          0.84087953,
          0.82841333,
          0.98656449,
          0.84940519,
          0.88367942,
          0.82980996,
          1,
          0.76509682,
          0.75828382,
          0.85068656,
          0.88254067,
          0.78155093,
          0.71542171
         ],
         "xaxis": "x",
         "y": [
          0.7418465664304962,
          0.806888436958093,
          0.771424223988505,
          0.7910184161672451,
          0.8153855231260686,
          0.8289448547565395,
          0.9083563301714452,
          0.8464307441320434,
          0.7587389687316969,
          0.7041233801836816,
          0.8178095172471737,
          1.0144569399491565,
          0.7836230917483714,
          0.7404276697786031,
          0.8249986659428622,
          0.7919947571068151,
          0.8948563091529654,
          0.8496878086870814,
          0.7871802480317751,
          0.7570994806582177,
          0.7641881051440486,
          0.894261024201575,
          0.8219649906890264,
          0.8020314744388717,
          0.8670392451109137,
          0.7721706172243678,
          0.8191617276799117,
          0.777982574293798,
          0.7982120797932518,
          0.7630650643740866,
          0.8859049853089667,
          0.8214129886055911,
          0.7834424875881016,
          1.0155060830247453,
          0.8253295517090121,
          0.7002773407121387,
          0.888213066084782,
          0.7739853030210121,
          0.8367885092976032,
          0.8667174184261184,
          0.7362698797750686,
          0.8905151652148348,
          0.8471934360862882,
          0.7626747421147743,
          0.8536901108873564,
          0.8565519125471266,
          0.8031686382147782,
          0.7765833805991251,
          0.8391804433679171,
          0.9514266238802986,
          0.9083428651268483,
          0.845697197312932,
          0.7944230904201183,
          0.916878785806688,
          0.8078999808656195,
          0.9566659830909738,
          0.8545866222151797,
          0.7949053853978439,
          0.876274247180888,
          0.8435411278997648,
          0.8374677875051539,
          0.841570909572122,
          0.880401233743621,
          0.9220311140099784,
          0.8034130217652354,
          0.7194347598277212,
          0.8107804238679037,
          0.7248588617971572,
          0.8949015267285738,
          0.7866340253544739,
          0.8114475438705446,
          0.766176153768148,
          0.7737721298844011,
          0.7788162752625329,
          0.8993420728903652,
          0.8032051090333937,
          0.7480941008140098,
          0.8396699777672224,
          0.9013017738652997,
          0.9559669029973302,
          0.8672026366074059,
          0.7911897687448957,
          0.8067458043495607,
          0.870004324085265,
          0.8804791742358309,
          0.8671231584073288,
          0.8137348012767971,
          0.7724992384962291,
          0.8083460866751656,
          0.739273325305701,
          0.707483393534769,
          0.7945072536425493,
          0.7540551028662184,
          0.7719081912286454,
          0.9037631099287926,
          0.8221843711215938,
          0.7688700689523387,
          0.7819391213921125,
          0.8335239252226501,
          0.7707037386589228,
          0.9366182973172388,
          0.7924600100977732,
          0.7992604637864201,
          0.7570831915561503,
          0.8426675704345553,
          0.7704712480854676,
          0.8593324428656772,
          0.8755645138524977,
          0.9160938015447913,
          0.8106644898482875,
          0.7928296901423458,
          0.8250483654392877,
          0.835645453432564,
          0.7043365510452839,
          0.8118339568298684,
          0.761690173123127,
          0.8143272711846427,
          0.7328771455314012,
          0.7695710220943942,
          0.7517027245631245,
          0.8339401929228616,
          0.7698742568891631,
          0.8018276497207578,
          0.8172723536626172,
          0.7816264353925813,
          0.8798103996691676,
          0.9128392309197508,
          0.8278964686058466,
          0.735332414448526,
          0.7938490739338399,
          0.8372402245299602,
          0.7664183593137344,
          0.8161783446419797,
          0.8181310984861667,
          0.8274377924897838,
          0.8041590312491406,
          0.760907646057936,
          0.7934034975426193,
          0.7739920933228163,
          0.886193225635729,
          0.7772584690779872,
          0.875220802949642,
          0.7982390733361469,
          0.7526719916370869,
          0.9615215925697049,
          0.7291676345993835,
          0.7748680911667104,
          0.7470609246650103,
          0.6841551292190216,
          0.7688442271039884,
          0.8239838025579501,
          0.8733748822099993,
          0.8096327533245236,
          1.05510130728831,
          1.0500007578172086,
          0.7761184707855724,
          0.8618088467548074,
          0.7656174948993527,
          0.8372704101367261,
          0.8133647904876662,
          0.7698989665361209,
          0.8276402152067697,
          0.8323432534215838,
          0.7923227642093418,
          0.8340353968955921,
          0.8214690804518009,
          0.8327461899726173,
          0.7613697103823931,
          0.8596899971676883,
          0.7941904353549357,
          0.718775012812625,
          0.7905144908933988,
          0.7469808604644155,
          0.8101537497765673,
          0.8440410481084117,
          0.7512845115784672,
          0.8577552525478331,
          0.8349993743244314,
          0.8509192911978415,
          0.7730472641904493,
          0.9298718871838354,
          0.8531451076613631,
          0.7583676800116453,
          0.718664171843208,
          0.7242299921093692,
          0.8747359191877031,
          0.7478745431304163,
          0.8835766235471045,
          0.8399609982347429,
          0.9781034144967111,
          0.8540964185785167,
          0.8927545395777695,
          0.8314262801218208,
          1.0543591549439186,
          0.7639521539136899,
          0.7534013614224282,
          0.8475829399955676,
          0.8820196248887,
          0.7759628953224891,
          0.7149807488827541
         ],
         "yaxis": "y"
        }
       ],
       "layout": {
        "autosize": false,
        "height": 500,
        "legend": {
         "tracegroupgap": 0
        },
        "margin": {
         "t": 60
        },
        "template": {
         "data": {
          "bar": [
           {
            "error_x": {
             "color": "#2a3f5f"
            },
            "error_y": {
             "color": "#2a3f5f"
            },
            "marker": {
             "line": {
              "color": "#E5ECF6",
              "width": 0.5
             },
             "pattern": {
              "fillmode": "overlay",
              "size": 10,
              "solidity": 0.2
             }
            },
            "type": "bar"
           }
          ],
          "barpolar": [
           {
            "marker": {
             "line": {
              "color": "#E5ECF6",
              "width": 0.5
             },
             "pattern": {
              "fillmode": "overlay",
              "size": 10,
              "solidity": 0.2
             }
            },
            "type": "barpolar"
           }
          ],
          "carpet": [
           {
            "aaxis": {
             "endlinecolor": "#2a3f5f",
             "gridcolor": "white",
             "linecolor": "white",
             "minorgridcolor": "white",
             "startlinecolor": "#2a3f5f"
            },
            "baxis": {
             "endlinecolor": "#2a3f5f",
             "gridcolor": "white",
             "linecolor": "white",
             "minorgridcolor": "white",
             "startlinecolor": "#2a3f5f"
            },
            "type": "carpet"
           }
          ],
          "choropleth": [
           {
            "colorbar": {
             "outlinewidth": 0,
             "ticks": ""
            },
            "type": "choropleth"
           }
          ],
          "contour": [
           {
            "colorbar": {
             "outlinewidth": 0,
             "ticks": ""
            },
            "colorscale": [
             [
              0,
              "#0d0887"
             ],
             [
              0.1111111111111111,
              "#46039f"
             ],
             [
              0.2222222222222222,
              "#7201a8"
             ],
             [
              0.3333333333333333,
              "#9c179e"
             ],
             [
              0.4444444444444444,
              "#bd3786"
             ],
             [
              0.5555555555555556,
              "#d8576b"
             ],
             [
              0.6666666666666666,
              "#ed7953"
             ],
             [
              0.7777777777777778,
              "#fb9f3a"
             ],
             [
              0.8888888888888888,
              "#fdca26"
             ],
             [
              1,
              "#f0f921"
             ]
            ],
            "type": "contour"
           }
          ],
          "contourcarpet": [
           {
            "colorbar": {
             "outlinewidth": 0,
             "ticks": ""
            },
            "type": "contourcarpet"
           }
          ],
          "heatmap": [
           {
            "colorbar": {
             "outlinewidth": 0,
             "ticks": ""
            },
            "colorscale": [
             [
              0,
              "#0d0887"
             ],
             [
              0.1111111111111111,
              "#46039f"
             ],
             [
              0.2222222222222222,
              "#7201a8"
             ],
             [
              0.3333333333333333,
              "#9c179e"
             ],
             [
              0.4444444444444444,
              "#bd3786"
             ],
             [
              0.5555555555555556,
              "#d8576b"
             ],
             [
              0.6666666666666666,
              "#ed7953"
             ],
             [
              0.7777777777777778,
              "#fb9f3a"
             ],
             [
              0.8888888888888888,
              "#fdca26"
             ],
             [
              1,
              "#f0f921"
             ]
            ],
            "type": "heatmap"
           }
          ],
          "heatmapgl": [
           {
            "colorbar": {
             "outlinewidth": 0,
             "ticks": ""
            },
            "colorscale": [
             [
              0,
              "#0d0887"
             ],
             [
              0.1111111111111111,
              "#46039f"
             ],
             [
              0.2222222222222222,
              "#7201a8"
             ],
             [
              0.3333333333333333,
              "#9c179e"
             ],
             [
              0.4444444444444444,
              "#bd3786"
             ],
             [
              0.5555555555555556,
              "#d8576b"
             ],
             [
              0.6666666666666666,
              "#ed7953"
             ],
             [
              0.7777777777777778,
              "#fb9f3a"
             ],
             [
              0.8888888888888888,
              "#fdca26"
             ],
             [
              1,
              "#f0f921"
             ]
            ],
            "type": "heatmapgl"
           }
          ],
          "histogram": [
           {
            "marker": {
             "pattern": {
              "fillmode": "overlay",
              "size": 10,
              "solidity": 0.2
             }
            },
            "type": "histogram"
           }
          ],
          "histogram2d": [
           {
            "colorbar": {
             "outlinewidth": 0,
             "ticks": ""
            },
            "colorscale": [
             [
              0,
              "#0d0887"
             ],
             [
              0.1111111111111111,
              "#46039f"
             ],
             [
              0.2222222222222222,
              "#7201a8"
             ],
             [
              0.3333333333333333,
              "#9c179e"
             ],
             [
              0.4444444444444444,
              "#bd3786"
             ],
             [
              0.5555555555555556,
              "#d8576b"
             ],
             [
              0.6666666666666666,
              "#ed7953"
             ],
             [
              0.7777777777777778,
              "#fb9f3a"
             ],
             [
              0.8888888888888888,
              "#fdca26"
             ],
             [
              1,
              "#f0f921"
             ]
            ],
            "type": "histogram2d"
           }
          ],
          "histogram2dcontour": [
           {
            "colorbar": {
             "outlinewidth": 0,
             "ticks": ""
            },
            "colorscale": [
             [
              0,
              "#0d0887"
             ],
             [
              0.1111111111111111,
              "#46039f"
             ],
             [
              0.2222222222222222,
              "#7201a8"
             ],
             [
              0.3333333333333333,
              "#9c179e"
             ],
             [
              0.4444444444444444,
              "#bd3786"
             ],
             [
              0.5555555555555556,
              "#d8576b"
             ],
             [
              0.6666666666666666,
              "#ed7953"
             ],
             [
              0.7777777777777778,
              "#fb9f3a"
             ],
             [
              0.8888888888888888,
              "#fdca26"
             ],
             [
              1,
              "#f0f921"
             ]
            ],
            "type": "histogram2dcontour"
           }
          ],
          "mesh3d": [
           {
            "colorbar": {
             "outlinewidth": 0,
             "ticks": ""
            },
            "type": "mesh3d"
           }
          ],
          "parcoords": [
           {
            "line": {
             "colorbar": {
              "outlinewidth": 0,
              "ticks": ""
             }
            },
            "type": "parcoords"
           }
          ],
          "pie": [
           {
            "automargin": true,
            "type": "pie"
           }
          ],
          "scatter": [
           {
            "marker": {
             "colorbar": {
              "outlinewidth": 0,
              "ticks": ""
             }
            },
            "type": "scatter"
           }
          ],
          "scatter3d": [
           {
            "line": {
             "colorbar": {
              "outlinewidth": 0,
              "ticks": ""
             }
            },
            "marker": {
             "colorbar": {
              "outlinewidth": 0,
              "ticks": ""
             }
            },
            "type": "scatter3d"
           }
          ],
          "scattercarpet": [
           {
            "marker": {
             "colorbar": {
              "outlinewidth": 0,
              "ticks": ""
             }
            },
            "type": "scattercarpet"
           }
          ],
          "scattergeo": [
           {
            "marker": {
             "colorbar": {
              "outlinewidth": 0,
              "ticks": ""
             }
            },
            "type": "scattergeo"
           }
          ],
          "scattergl": [
           {
            "marker": {
             "colorbar": {
              "outlinewidth": 0,
              "ticks": ""
             }
            },
            "type": "scattergl"
           }
          ],
          "scattermapbox": [
           {
            "marker": {
             "colorbar": {
              "outlinewidth": 0,
              "ticks": ""
             }
            },
            "type": "scattermapbox"
           }
          ],
          "scatterpolar": [
           {
            "marker": {
             "colorbar": {
              "outlinewidth": 0,
              "ticks": ""
             }
            },
            "type": "scatterpolar"
           }
          ],
          "scatterpolargl": [
           {
            "marker": {
             "colorbar": {
              "outlinewidth": 0,
              "ticks": ""
             }
            },
            "type": "scatterpolargl"
           }
          ],
          "scatterternary": [
           {
            "marker": {
             "colorbar": {
              "outlinewidth": 0,
              "ticks": ""
             }
            },
            "type": "scatterternary"
           }
          ],
          "surface": [
           {
            "colorbar": {
             "outlinewidth": 0,
             "ticks": ""
            },
            "colorscale": [
             [
              0,
              "#0d0887"
             ],
             [
              0.1111111111111111,
              "#46039f"
             ],
             [
              0.2222222222222222,
              "#7201a8"
             ],
             [
              0.3333333333333333,
              "#9c179e"
             ],
             [
              0.4444444444444444,
              "#bd3786"
             ],
             [
              0.5555555555555556,
              "#d8576b"
             ],
             [
              0.6666666666666666,
              "#ed7953"
             ],
             [
              0.7777777777777778,
              "#fb9f3a"
             ],
             [
              0.8888888888888888,
              "#fdca26"
             ],
             [
              1,
              "#f0f921"
             ]
            ],
            "type": "surface"
           }
          ],
          "table": [
           {
            "cells": {
             "fill": {
              "color": "#EBF0F8"
             },
             "line": {
              "color": "white"
             }
            },
            "header": {
             "fill": {
              "color": "#C8D4E3"
             },
             "line": {
              "color": "white"
             }
            },
            "type": "table"
           }
          ]
         },
         "layout": {
          "annotationdefaults": {
           "arrowcolor": "#2a3f5f",
           "arrowhead": 0,
           "arrowwidth": 1
          },
          "autotypenumbers": "strict",
          "coloraxis": {
           "colorbar": {
            "outlinewidth": 0,
            "ticks": ""
           }
          },
          "colorscale": {
           "diverging": [
            [
             0,
             "#8e0152"
            ],
            [
             0.1,
             "#c51b7d"
            ],
            [
             0.2,
             "#de77ae"
            ],
            [
             0.3,
             "#f1b6da"
            ],
            [
             0.4,
             "#fde0ef"
            ],
            [
             0.5,
             "#f7f7f7"
            ],
            [
             0.6,
             "#e6f5d0"
            ],
            [
             0.7,
             "#b8e186"
            ],
            [
             0.8,
             "#7fbc41"
            ],
            [
             0.9,
             "#4d9221"
            ],
            [
             1,
             "#276419"
            ]
           ],
           "sequential": [
            [
             0,
             "#0d0887"
            ],
            [
             0.1111111111111111,
             "#46039f"
            ],
            [
             0.2222222222222222,
             "#7201a8"
            ],
            [
             0.3333333333333333,
             "#9c179e"
            ],
            [
             0.4444444444444444,
             "#bd3786"
            ],
            [
             0.5555555555555556,
             "#d8576b"
            ],
            [
             0.6666666666666666,
             "#ed7953"
            ],
            [
             0.7777777777777778,
             "#fb9f3a"
            ],
            [
             0.8888888888888888,
             "#fdca26"
            ],
            [
             1,
             "#f0f921"
            ]
           ],
           "sequentialminus": [
            [
             0,
             "#0d0887"
            ],
            [
             0.1111111111111111,
             "#46039f"
            ],
            [
             0.2222222222222222,
             "#7201a8"
            ],
            [
             0.3333333333333333,
             "#9c179e"
            ],
            [
             0.4444444444444444,
             "#bd3786"
            ],
            [
             0.5555555555555556,
             "#d8576b"
            ],
            [
             0.6666666666666666,
             "#ed7953"
            ],
            [
             0.7777777777777778,
             "#fb9f3a"
            ],
            [
             0.8888888888888888,
             "#fdca26"
            ],
            [
             1,
             "#f0f921"
            ]
           ]
          },
          "colorway": [
           "#636efa",
           "#EF553B",
           "#00cc96",
           "#ab63fa",
           "#FFA15A",
           "#19d3f3",
           "#FF6692",
           "#B6E880",
           "#FF97FF",
           "#FECB52"
          ],
          "font": {
           "color": "#2a3f5f"
          },
          "geo": {
           "bgcolor": "white",
           "lakecolor": "white",
           "landcolor": "#E5ECF6",
           "showlakes": true,
           "showland": true,
           "subunitcolor": "white"
          },
          "hoverlabel": {
           "align": "left"
          },
          "hovermode": "closest",
          "mapbox": {
           "style": "light"
          },
          "paper_bgcolor": "white",
          "plot_bgcolor": "#E5ECF6",
          "polar": {
           "angularaxis": {
            "gridcolor": "white",
            "linecolor": "white",
            "ticks": ""
           },
           "bgcolor": "#E5ECF6",
           "radialaxis": {
            "gridcolor": "white",
            "linecolor": "white",
            "ticks": ""
           }
          },
          "scene": {
           "xaxis": {
            "backgroundcolor": "#E5ECF6",
            "gridcolor": "white",
            "gridwidth": 2,
            "linecolor": "white",
            "showbackground": true,
            "ticks": "",
            "zerolinecolor": "white"
           },
           "yaxis": {
            "backgroundcolor": "#E5ECF6",
            "gridcolor": "white",
            "gridwidth": 2,
            "linecolor": "white",
            "showbackground": true,
            "ticks": "",
            "zerolinecolor": "white"
           },
           "zaxis": {
            "backgroundcolor": "#E5ECF6",
            "gridcolor": "white",
            "gridwidth": 2,
            "linecolor": "white",
            "showbackground": true,
            "ticks": "",
            "zerolinecolor": "white"
           }
          },
          "shapedefaults": {
           "line": {
            "color": "#2a3f5f"
           }
          },
          "ternary": {
           "aaxis": {
            "gridcolor": "white",
            "linecolor": "white",
            "ticks": ""
           },
           "baxis": {
            "gridcolor": "white",
            "linecolor": "white",
            "ticks": ""
           },
           "bgcolor": "#E5ECF6",
           "caxis": {
            "gridcolor": "white",
            "linecolor": "white",
            "ticks": ""
           }
          },
          "title": {
           "x": 0.05
          },
          "xaxis": {
           "automargin": true,
           "gridcolor": "white",
           "linecolor": "white",
           "ticks": "",
           "title": {
            "standoff": 15
           },
           "zerolinecolor": "white",
           "zerolinewidth": 2
          },
          "yaxis": {
           "automargin": true,
           "gridcolor": "white",
           "linecolor": "white",
           "ticks": "",
           "title": {
            "standoff": 15
           },
           "zerolinecolor": "white",
           "zerolinewidth": 2
          }
         }
        },
        "title": {
         "text": "Predictions - Actuals Comparison"
        },
        "width": 800,
        "xaxis": {
         "anchor": "y",
         "autorange": true,
         "domain": [
          0,
          1
         ],
         "range": [
          0.6647224969129287,
          1.0198364430870712
         ],
         "title": {
          "text": "Actuals"
         },
         "type": "linear"
        },
        "yaxis": {
         "anchor": "x",
         "autorange": true,
         "domain": [
          0,
          1
         ],
         "range": [
          0.6586635672189993,
          1.0805928692883322
         ],
         "title": {
          "text": "Predictions"
         },
         "type": "linear"
        }
       }
      },
      "text/html": [
       "<div>                            <div id=\"d6412a5e-2002-48f0-8d75-313d2161c77a\" class=\"plotly-graph-div\" style=\"height:500px; width:800px;\"></div>            <script type=\"text/javascript\">                require([\"plotly\"], function(Plotly) {                    window.PLOTLYENV=window.PLOTLYENV || {};                                    if (document.getElementById(\"d6412a5e-2002-48f0-8d75-313d2161c77a\")) {                    Plotly.newPlot(                        \"d6412a5e-2002-48f0-8d75-313d2161c77a\",                        [{\"hovertemplate\":\"Actuals=%{x}<br>Predictions=%{y}<extra></extra>\",\"legendgroup\":\"\",\"marker\":{\"color\":\"#636efa\",\"symbol\":\"circle\"},\"mode\":\"markers\",\"name\":\"\",\"orientation\":\"v\",\"showlegend\":false,\"x\":[0.74525122,0.80719154,0.76674695,0.79505772,0.81241101,0.86134701,0.90468812,0.85103009,0.77182039,0.70066118,0.81768832,1.0,0.78305576,0.74833171,0.82660331,0.78962693,0.89947619,0.85469652,0.78904825,0.75907567,0.7677634,0.89400282,0.81870602,0.80720134,0.82477871,0.77418435,0.81551534,0.80496574,0.79328858,0.7676004,0.88804641,0.82193679,0.78369663,1.0,0.82827362,0.70000039,0.89584094,0.76334157,0.82965901,0.8591451,0.73621553,0.89156141,0.85197427,0.76741907,0.85460019,0.85626535,0.80664068,0.77793174,0.84350456,0.94983503,0.90798819,0.83991976,0.79963788,0.91142379,0.80382829,0.95146776,0.85317481,0.79540472,0.87825293,0.83144058,0.84012413,0.83410714,0.88673818,0.92451575,0.80283011,0.71247567,0.81368294,0.72823401,0.89870977,0.78180562,0.80434532,0.77088727,0.7683598,0.76868934,0.89265665,0.79975868,0.75328916,0.84350379,0.90041445,0.96130031,0.86591302,0.78830362,0.81096454,0.86696688,0.88232881,0.86075833,0.81866559,0.7724488,0.80974095,0.74301044,0.71645331,0.77591164,0.74799494,0.76977625,0.90410347,0.82444617,0.76988357,0.78322412,0.83006116,0.74568305,0.93951833,0.78738665,0.80203096,0.75346368,0.83616868,0.77596526,0.85853838,0.87074096,0.90011555,0.81530551,0.79846428,0.81752814,0.83259718,0.70420052,0.81281486,0.76300219,0.81373223,0.73862917,0.76413299,0.73199534,0.83969023,0.77430318,0.81680246,0.80486503,0.78009319,0.88080692,0.91403331,0.8285439,0.7347921,0.79928106,0.8306354,0.76650118,0.81836356,0.81742643,0.82082126,0.80340467,0.76381847,0.79675245,0.77562264,0.88569823,0.77929651,0.87414479,0.79610225,0.75697736,0.95682483,0.71413569,0.77284964,0.74737445,0.68455894,0.77475956,0.819557,0.87584641,0.80592936,1.0,1.0,0.7816967,0.86401906,0.76521486,0.83460262,0.81612808,0.7678533,0.82487981,0.82503265,0.79801942,0.83243185,0.81972325,0.83719985,0.76424533,0.87112882,0.79539807,0.71267834,0.79264889,0.75315688,0.79964138,0.8430687,0.75659944,0.8528759,0.83471864,0.85078669,0.77649589,0.92300465,0.85127855,0.75638041,0.72179621,0.72855489,0.86814575,0.74708621,0.84087953,0.82841333,0.98656449,0.84940519,0.88367942,0.82980996,1.0,0.76509682,0.75828382,0.85068656,0.88254067,0.78155093,0.71542171],\"xaxis\":\"x\",\"y\":[0.7418465664304962,0.806888436958093,0.771424223988505,0.7910184161672451,0.8153855231260686,0.8289448547565395,0.9083563301714452,0.8464307441320434,0.7587389687316969,0.7041233801836816,0.8178095172471737,1.0144569399491565,0.7836230917483714,0.7404276697786031,0.8249986659428622,0.7919947571068151,0.8948563091529654,0.8496878086870814,0.7871802480317751,0.7570994806582177,0.7641881051440486,0.894261024201575,0.8219649906890264,0.8020314744388717,0.8670392451109137,0.7721706172243678,0.8191617276799117,0.777982574293798,0.7982120797932518,0.7630650643740866,0.8859049853089667,0.8214129886055911,0.7834424875881016,1.0155060830247453,0.8253295517090121,0.7002773407121387,0.888213066084782,0.7739853030210121,0.8367885092976032,0.8667174184261184,0.7362698797750686,0.8905151652148348,0.8471934360862882,0.7626747421147743,0.8536901108873564,0.8565519125471266,0.8031686382147782,0.7765833805991251,0.8391804433679171,0.9514266238802986,0.9083428651268483,0.845697197312932,0.7944230904201183,0.916878785806688,0.8078999808656195,0.9566659830909738,0.8545866222151797,0.7949053853978439,0.876274247180888,0.8435411278997648,0.8374677875051539,0.841570909572122,0.880401233743621,0.9220311140099784,0.8034130217652354,0.7194347598277212,0.8107804238679037,0.7248588617971572,0.8949015267285738,0.7866340253544739,0.8114475438705446,0.766176153768148,0.7737721298844011,0.7788162752625329,0.8993420728903652,0.8032051090333937,0.7480941008140098,0.8396699777672224,0.9013017738652997,0.9559669029973302,0.8672026366074059,0.7911897687448957,0.8067458043495607,0.870004324085265,0.8804791742358309,0.8671231584073288,0.8137348012767971,0.7724992384962291,0.8083460866751656,0.739273325305701,0.707483393534769,0.7945072536425493,0.7540551028662184,0.7719081912286454,0.9037631099287926,0.8221843711215938,0.7688700689523387,0.7819391213921125,0.8335239252226501,0.7707037386589228,0.9366182973172388,0.7924600100977732,0.7992604637864201,0.7570831915561503,0.8426675704345553,0.7704712480854676,0.8593324428656772,0.8755645138524977,0.9160938015447913,0.8106644898482875,0.7928296901423458,0.8250483654392877,0.835645453432564,0.7043365510452839,0.8118339568298684,0.761690173123127,0.8143272711846427,0.7328771455314012,0.7695710220943942,0.7517027245631245,0.8339401929228616,0.7698742568891631,0.8018276497207578,0.8172723536626172,0.7816264353925813,0.8798103996691676,0.9128392309197508,0.8278964686058466,0.735332414448526,0.7938490739338399,0.8372402245299602,0.7664183593137344,0.8161783446419797,0.8181310984861667,0.8274377924897838,0.8041590312491406,0.760907646057936,0.7934034975426193,0.7739920933228163,0.886193225635729,0.7772584690779872,0.875220802949642,0.7982390733361469,0.7526719916370869,0.9615215925697049,0.7291676345993835,0.7748680911667104,0.7470609246650103,0.6841551292190216,0.7688442271039884,0.8239838025579501,0.8733748822099993,0.8096327533245236,1.05510130728831,1.0500007578172086,0.7761184707855724,0.8618088467548074,0.7656174948993527,0.8372704101367261,0.8133647904876662,0.7698989665361209,0.8276402152067697,0.8323432534215838,0.7923227642093418,0.8340353968955921,0.8214690804518009,0.8327461899726173,0.7613697103823931,0.8596899971676883,0.7941904353549357,0.718775012812625,0.7905144908933988,0.7469808604644155,0.8101537497765673,0.8440410481084117,0.7512845115784672,0.8577552525478331,0.8349993743244314,0.8509192911978415,0.7730472641904493,0.9298718871838354,0.8531451076613631,0.7583676800116453,0.718664171843208,0.7242299921093692,0.8747359191877031,0.7478745431304163,0.8835766235471045,0.8399609982347429,0.9781034144967111,0.8540964185785167,0.8927545395777695,0.8314262801218208,1.0543591549439186,0.7639521539136899,0.7534013614224282,0.8475829399955676,0.8820196248887,0.7759628953224891,0.7149807488827541],\"yaxis\":\"y\",\"type\":\"scatter\"}],                        {\"template\":{\"data\":{\"bar\":[{\"error_x\":{\"color\":\"#2a3f5f\"},\"error_y\":{\"color\":\"#2a3f5f\"},\"marker\":{\"line\":{\"color\":\"#E5ECF6\",\"width\":0.5},\"pattern\":{\"fillmode\":\"overlay\",\"size\":10,\"solidity\":0.2}},\"type\":\"bar\"}],\"barpolar\":[{\"marker\":{\"line\":{\"color\":\"#E5ECF6\",\"width\":0.5},\"pattern\":{\"fillmode\":\"overlay\",\"size\":10,\"solidity\":0.2}},\"type\":\"barpolar\"}],\"carpet\":[{\"aaxis\":{\"endlinecolor\":\"#2a3f5f\",\"gridcolor\":\"white\",\"linecolor\":\"white\",\"minorgridcolor\":\"white\",\"startlinecolor\":\"#2a3f5f\"},\"baxis\":{\"endlinecolor\":\"#2a3f5f\",\"gridcolor\":\"white\",\"linecolor\":\"white\",\"minorgridcolor\":\"white\",\"startlinecolor\":\"#2a3f5f\"},\"type\":\"carpet\"}],\"choropleth\":[{\"colorbar\":{\"outlinewidth\":0,\"ticks\":\"\"},\"type\":\"choropleth\"}],\"contour\":[{\"colorbar\":{\"outlinewidth\":0,\"ticks\":\"\"},\"colorscale\":[[0.0,\"#0d0887\"],[0.1111111111111111,\"#46039f\"],[0.2222222222222222,\"#7201a8\"],[0.3333333333333333,\"#9c179e\"],[0.4444444444444444,\"#bd3786\"],[0.5555555555555556,\"#d8576b\"],[0.6666666666666666,\"#ed7953\"],[0.7777777777777778,\"#fb9f3a\"],[0.8888888888888888,\"#fdca26\"],[1.0,\"#f0f921\"]],\"type\":\"contour\"}],\"contourcarpet\":[{\"colorbar\":{\"outlinewidth\":0,\"ticks\":\"\"},\"type\":\"contourcarpet\"}],\"heatmap\":[{\"colorbar\":{\"outlinewidth\":0,\"ticks\":\"\"},\"colorscale\":[[0.0,\"#0d0887\"],[0.1111111111111111,\"#46039f\"],[0.2222222222222222,\"#7201a8\"],[0.3333333333333333,\"#9c179e\"],[0.4444444444444444,\"#bd3786\"],[0.5555555555555556,\"#d8576b\"],[0.6666666666666666,\"#ed7953\"],[0.7777777777777778,\"#fb9f3a\"],[0.8888888888888888,\"#fdca26\"],[1.0,\"#f0f921\"]],\"type\":\"heatmap\"}],\"heatmapgl\":[{\"colorbar\":{\"outlinewidth\":0,\"ticks\":\"\"},\"colorscale\":[[0.0,\"#0d0887\"],[0.1111111111111111,\"#46039f\"],[0.2222222222222222,\"#7201a8\"],[0.3333333333333333,\"#9c179e\"],[0.4444444444444444,\"#bd3786\"],[0.5555555555555556,\"#d8576b\"],[0.6666666666666666,\"#ed7953\"],[0.7777777777777778,\"#fb9f3a\"],[0.8888888888888888,\"#fdca26\"],[1.0,\"#f0f921\"]],\"type\":\"heatmapgl\"}],\"histogram\":[{\"marker\":{\"pattern\":{\"fillmode\":\"overlay\",\"size\":10,\"solidity\":0.2}},\"type\":\"histogram\"}],\"histogram2d\":[{\"colorbar\":{\"outlinewidth\":0,\"ticks\":\"\"},\"colorscale\":[[0.0,\"#0d0887\"],[0.1111111111111111,\"#46039f\"],[0.2222222222222222,\"#7201a8\"],[0.3333333333333333,\"#9c179e\"],[0.4444444444444444,\"#bd3786\"],[0.5555555555555556,\"#d8576b\"],[0.6666666666666666,\"#ed7953\"],[0.7777777777777778,\"#fb9f3a\"],[0.8888888888888888,\"#fdca26\"],[1.0,\"#f0f921\"]],\"type\":\"histogram2d\"}],\"histogram2dcontour\":[{\"colorbar\":{\"outlinewidth\":0,\"ticks\":\"\"},\"colorscale\":[[0.0,\"#0d0887\"],[0.1111111111111111,\"#46039f\"],[0.2222222222222222,\"#7201a8\"],[0.3333333333333333,\"#9c179e\"],[0.4444444444444444,\"#bd3786\"],[0.5555555555555556,\"#d8576b\"],[0.6666666666666666,\"#ed7953\"],[0.7777777777777778,\"#fb9f3a\"],[0.8888888888888888,\"#fdca26\"],[1.0,\"#f0f921\"]],\"type\":\"histogram2dcontour\"}],\"mesh3d\":[{\"colorbar\":{\"outlinewidth\":0,\"ticks\":\"\"},\"type\":\"mesh3d\"}],\"parcoords\":[{\"line\":{\"colorbar\":{\"outlinewidth\":0,\"ticks\":\"\"}},\"type\":\"parcoords\"}],\"pie\":[{\"automargin\":true,\"type\":\"pie\"}],\"scatter\":[{\"marker\":{\"colorbar\":{\"outlinewidth\":0,\"ticks\":\"\"}},\"type\":\"scatter\"}],\"scatter3d\":[{\"line\":{\"colorbar\":{\"outlinewidth\":0,\"ticks\":\"\"}},\"marker\":{\"colorbar\":{\"outlinewidth\":0,\"ticks\":\"\"}},\"type\":\"scatter3d\"}],\"scattercarpet\":[{\"marker\":{\"colorbar\":{\"outlinewidth\":0,\"ticks\":\"\"}},\"type\":\"scattercarpet\"}],\"scattergeo\":[{\"marker\":{\"colorbar\":{\"outlinewidth\":0,\"ticks\":\"\"}},\"type\":\"scattergeo\"}],\"scattergl\":[{\"marker\":{\"colorbar\":{\"outlinewidth\":0,\"ticks\":\"\"}},\"type\":\"scattergl\"}],\"scattermapbox\":[{\"marker\":{\"colorbar\":{\"outlinewidth\":0,\"ticks\":\"\"}},\"type\":\"scattermapbox\"}],\"scatterpolar\":[{\"marker\":{\"colorbar\":{\"outlinewidth\":0,\"ticks\":\"\"}},\"type\":\"scatterpolar\"}],\"scatterpolargl\":[{\"marker\":{\"colorbar\":{\"outlinewidth\":0,\"ticks\":\"\"}},\"type\":\"scatterpolargl\"}],\"scatterternary\":[{\"marker\":{\"colorbar\":{\"outlinewidth\":0,\"ticks\":\"\"}},\"type\":\"scatterternary\"}],\"surface\":[{\"colorbar\":{\"outlinewidth\":0,\"ticks\":\"\"},\"colorscale\":[[0.0,\"#0d0887\"],[0.1111111111111111,\"#46039f\"],[0.2222222222222222,\"#7201a8\"],[0.3333333333333333,\"#9c179e\"],[0.4444444444444444,\"#bd3786\"],[0.5555555555555556,\"#d8576b\"],[0.6666666666666666,\"#ed7953\"],[0.7777777777777778,\"#fb9f3a\"],[0.8888888888888888,\"#fdca26\"],[1.0,\"#f0f921\"]],\"type\":\"surface\"}],\"table\":[{\"cells\":{\"fill\":{\"color\":\"#EBF0F8\"},\"line\":{\"color\":\"white\"}},\"header\":{\"fill\":{\"color\":\"#C8D4E3\"},\"line\":{\"color\":\"white\"}},\"type\":\"table\"}]},\"layout\":{\"annotationdefaults\":{\"arrowcolor\":\"#2a3f5f\",\"arrowhead\":0,\"arrowwidth\":1},\"autotypenumbers\":\"strict\",\"coloraxis\":{\"colorbar\":{\"outlinewidth\":0,\"ticks\":\"\"}},\"colorscale\":{\"diverging\":[[0,\"#8e0152\"],[0.1,\"#c51b7d\"],[0.2,\"#de77ae\"],[0.3,\"#f1b6da\"],[0.4,\"#fde0ef\"],[0.5,\"#f7f7f7\"],[0.6,\"#e6f5d0\"],[0.7,\"#b8e186\"],[0.8,\"#7fbc41\"],[0.9,\"#4d9221\"],[1,\"#276419\"]],\"sequential\":[[0.0,\"#0d0887\"],[0.1111111111111111,\"#46039f\"],[0.2222222222222222,\"#7201a8\"],[0.3333333333333333,\"#9c179e\"],[0.4444444444444444,\"#bd3786\"],[0.5555555555555556,\"#d8576b\"],[0.6666666666666666,\"#ed7953\"],[0.7777777777777778,\"#fb9f3a\"],[0.8888888888888888,\"#fdca26\"],[1.0,\"#f0f921\"]],\"sequentialminus\":[[0.0,\"#0d0887\"],[0.1111111111111111,\"#46039f\"],[0.2222222222222222,\"#7201a8\"],[0.3333333333333333,\"#9c179e\"],[0.4444444444444444,\"#bd3786\"],[0.5555555555555556,\"#d8576b\"],[0.6666666666666666,\"#ed7953\"],[0.7777777777777778,\"#fb9f3a\"],[0.8888888888888888,\"#fdca26\"],[1.0,\"#f0f921\"]]},\"colorway\":[\"#636efa\",\"#EF553B\",\"#00cc96\",\"#ab63fa\",\"#FFA15A\",\"#19d3f3\",\"#FF6692\",\"#B6E880\",\"#FF97FF\",\"#FECB52\"],\"font\":{\"color\":\"#2a3f5f\"},\"geo\":{\"bgcolor\":\"white\",\"lakecolor\":\"white\",\"landcolor\":\"#E5ECF6\",\"showlakes\":true,\"showland\":true,\"subunitcolor\":\"white\"},\"hoverlabel\":{\"align\":\"left\"},\"hovermode\":\"closest\",\"mapbox\":{\"style\":\"light\"},\"paper_bgcolor\":\"white\",\"plot_bgcolor\":\"#E5ECF6\",\"polar\":{\"angularaxis\":{\"gridcolor\":\"white\",\"linecolor\":\"white\",\"ticks\":\"\"},\"bgcolor\":\"#E5ECF6\",\"radialaxis\":{\"gridcolor\":\"white\",\"linecolor\":\"white\",\"ticks\":\"\"}},\"scene\":{\"xaxis\":{\"backgroundcolor\":\"#E5ECF6\",\"gridcolor\":\"white\",\"gridwidth\":2,\"linecolor\":\"white\",\"showbackground\":true,\"ticks\":\"\",\"zerolinecolor\":\"white\"},\"yaxis\":{\"backgroundcolor\":\"#E5ECF6\",\"gridcolor\":\"white\",\"gridwidth\":2,\"linecolor\":\"white\",\"showbackground\":true,\"ticks\":\"\",\"zerolinecolor\":\"white\"},\"zaxis\":{\"backgroundcolor\":\"#E5ECF6\",\"gridcolor\":\"white\",\"gridwidth\":2,\"linecolor\":\"white\",\"showbackground\":true,\"ticks\":\"\",\"zerolinecolor\":\"white\"}},\"shapedefaults\":{\"line\":{\"color\":\"#2a3f5f\"}},\"ternary\":{\"aaxis\":{\"gridcolor\":\"white\",\"linecolor\":\"white\",\"ticks\":\"\"},\"baxis\":{\"gridcolor\":\"white\",\"linecolor\":\"white\",\"ticks\":\"\"},\"bgcolor\":\"#E5ECF6\",\"caxis\":{\"gridcolor\":\"white\",\"linecolor\":\"white\",\"ticks\":\"\"}},\"title\":{\"x\":0.05},\"xaxis\":{\"automargin\":true,\"gridcolor\":\"white\",\"linecolor\":\"white\",\"ticks\":\"\",\"title\":{\"standoff\":15},\"zerolinecolor\":\"white\",\"zerolinewidth\":2},\"yaxis\":{\"automargin\":true,\"gridcolor\":\"white\",\"linecolor\":\"white\",\"ticks\":\"\",\"title\":{\"standoff\":15},\"zerolinecolor\":\"white\",\"zerolinewidth\":2}}},\"xaxis\":{\"anchor\":\"y\",\"domain\":[0.0,1.0],\"title\":{\"text\":\"Actuals\"}},\"yaxis\":{\"anchor\":\"x\",\"domain\":[0.0,1.0],\"title\":{\"text\":\"Predictions\"}},\"legend\":{\"tracegroupgap\":0},\"margin\":{\"t\":60},\"title\":{\"text\":\"Predictions - Actuals Comparison\"},\"autosize\":false,\"width\":800,\"height\":500},                        {\"responsive\": true}                    ).then(function(){\n",
       "                            \n",
       "var gd = document.getElementById('d6412a5e-2002-48f0-8d75-313d2161c77a');\n",
       "var x = new MutationObserver(function (mutations, observer) {{\n",
       "        var display = window.getComputedStyle(gd).display;\n",
       "        if (!display || display === 'none') {{\n",
       "            console.log([gd, 'removed!']);\n",
       "            Plotly.purge(gd);\n",
       "            observer.disconnect();\n",
       "        }}\n",
       "}});\n",
       "\n",
       "// Listen for the removal of the full notebook cells\n",
       "var notebookContainer = gd.closest('#notebook-container');\n",
       "if (notebookContainer) {{\n",
       "    x.observe(notebookContainer, {childList: true});\n",
       "}}\n",
       "\n",
       "// Listen for the clearing of the current output cell\n",
       "var outputEl = gd.closest('.output');\n",
       "if (outputEl) {{\n",
       "    x.observe(outputEl, {childList: true});\n",
       "}}\n",
       "\n",
       "                        })                };                });            </script>        </div>"
      ]
     },
     "metadata": {},
     "output_type": "display_data"
    }
   ],
   "source": [
    "fig = px.scatter(res, x=\"Actuals\", y=\"Predictions\")\n",
    "\n",
    "fig.update_layout(\n",
    "    autosize=False,\n",
    "    width=800,\n",
    "    height=500,\n",
    "    title_text=\"Predictions - Actuals Comparison\",\n",
    ")\n",
    "\n",
    "fig.show()"
   ]
  },
  {
   "cell_type": "code",
   "execution_count": 243,
   "id": "c594b0ef-e09b-4215-a741-b882afbb1715",
   "metadata": {},
   "outputs": [
    {
     "name": "stdout",
     "output_type": "stream",
     "text": [
      "Epoch 1/1000\n",
      "25/25 [==============================] - 0s 1ms/step - loss: 1.1146\n",
      "Epoch 2/1000\n",
      "25/25 [==============================] - 0s 951us/step - loss: 0.0202\n",
      "Epoch 3/1000\n",
      "25/25 [==============================] - 0s 933us/step - loss: 0.0102\n",
      "Epoch 4/1000\n",
      "25/25 [==============================] - 0s 928us/step - loss: 0.0086\n",
      "Epoch 5/1000\n",
      "25/25 [==============================] - 0s 953us/step - loss: 0.0095\n",
      "Epoch 6/1000\n",
      "25/25 [==============================] - 0s 975us/step - loss: 0.0095\n",
      "Epoch 7/1000\n",
      "25/25 [==============================] - 0s 963us/step - loss: 0.0074\n",
      "Epoch 8/1000\n",
      "25/25 [==============================] - 0s 954us/step - loss: 0.0081\n",
      "Epoch 9/1000\n",
      "25/25 [==============================] - 0s 959us/step - loss: 0.0072\n",
      "Epoch 10/1000\n",
      "25/25 [==============================] - 0s 956us/step - loss: 0.0065\n",
      "Epoch 11/1000\n",
      "25/25 [==============================] - 0s 960us/step - loss: 0.0071\n",
      "Epoch 12/1000\n",
      "25/25 [==============================] - 0s 945us/step - loss: 0.0063\n",
      "Epoch 13/1000\n",
      "25/25 [==============================] - 0s 943us/step - loss: 0.0064\n",
      "Epoch 14/1000\n",
      "25/25 [==============================] - 0s 951us/step - loss: 0.0063\n",
      "Epoch 15/1000\n",
      "25/25 [==============================] - 0s 954us/step - loss: 0.0075\n",
      "Epoch 16/1000\n",
      "25/25 [==============================] - 0s 943us/step - loss: 0.0059\n",
      "Epoch 17/1000\n",
      "25/25 [==============================] - 0s 948us/step - loss: 0.0060\n",
      "Epoch 18/1000\n",
      "25/25 [==============================] - 0s 939us/step - loss: 0.0071\n",
      "Epoch 19/1000\n",
      "25/25 [==============================] - 0s 950us/step - loss: 0.0059\n",
      "Epoch 20/1000\n",
      "25/25 [==============================] - 0s 946us/step - loss: 0.0058\n",
      "Epoch 21/1000\n",
      "25/25 [==============================] - 0s 999us/step - loss: 0.0055\n",
      "Epoch 22/1000\n",
      "25/25 [==============================] - 0s 1ms/step - loss: 0.0061\n",
      "Epoch 23/1000\n",
      "25/25 [==============================] - 0s 1ms/step - loss: 0.0057\n",
      "Epoch 24/1000\n",
      "25/25 [==============================] - 0s 1ms/step - loss: 0.0069\n",
      "Epoch 25/1000\n",
      "25/25 [==============================] - 0s 1ms/step - loss: 0.0049\n",
      "Epoch 26/1000\n",
      "25/25 [==============================] - 0s 1ms/step - loss: 0.0045\n",
      "Epoch 27/1000\n",
      "25/25 [==============================] - 0s 1ms/step - loss: 0.0041\n",
      "Epoch 28/1000\n",
      "25/25 [==============================] - 0s 1ms/step - loss: 0.0051\n",
      "Epoch 29/1000\n",
      "25/25 [==============================] - 0s 986us/step - loss: 0.0049\n",
      "Epoch 30/1000\n",
      "25/25 [==============================] - 0s 1ms/step - loss: 0.0066\n",
      "Epoch 31/1000\n",
      "25/25 [==============================] - 0s 954us/step - loss: 0.0042\n",
      "Epoch 32/1000\n",
      "25/25 [==============================] - 0s 980us/step - loss: 0.0046\n",
      "Epoch 33/1000\n",
      "25/25 [==============================] - 0s 949us/step - loss: 0.0038\n",
      "Epoch 34/1000\n",
      "25/25 [==============================] - 0s 961us/step - loss: 0.0044\n",
      "Epoch 35/1000\n",
      "25/25 [==============================] - 0s 960us/step - loss: 0.0042\n",
      "Epoch 36/1000\n",
      "25/25 [==============================] - 0s 1ms/step - loss: 0.0041\n",
      "Epoch 37/1000\n",
      "25/25 [==============================] - 0s 1ms/step - loss: 0.0053\n",
      "Epoch 38/1000\n",
      "25/25 [==============================] - 0s 1ms/step - loss: 0.0050\n",
      "Epoch 39/1000\n",
      "25/25 [==============================] - 0s 1ms/step - loss: 0.0034\n",
      "Epoch 40/1000\n",
      "25/25 [==============================] - 0s 1ms/step - loss: 0.0034\n",
      "Epoch 41/1000\n",
      "25/25 [==============================] - 0s 964us/step - loss: 0.0035\n",
      "Epoch 42/1000\n",
      "25/25 [==============================] - 0s 953us/step - loss: 0.0039\n",
      "Epoch 43/1000\n",
      "25/25 [==============================] - 0s 961us/step - loss: 0.0036\n",
      "Epoch 44/1000\n",
      "25/25 [==============================] - 0s 958us/step - loss: 0.0035\n",
      "Epoch 45/1000\n",
      "25/25 [==============================] - 0s 958us/step - loss: 0.0029\n",
      "Epoch 46/1000\n",
      "25/25 [==============================] - 0s 966us/step - loss: 0.0034\n",
      "Epoch 47/1000\n",
      "25/25 [==============================] - 0s 930us/step - loss: 0.0031\n",
      "Epoch 48/1000\n",
      "25/25 [==============================] - 0s 901us/step - loss: 0.0033\n",
      "Epoch 49/1000\n",
      "25/25 [==============================] - 0s 884us/step - loss: 0.0029\n",
      "Epoch 50/1000\n",
      "25/25 [==============================] - 0s 898us/step - loss: 0.0025\n",
      "Epoch 51/1000\n",
      "25/25 [==============================] - 0s 918us/step - loss: 0.0024\n",
      "Epoch 52/1000\n",
      "25/25 [==============================] - 0s 964us/step - loss: 0.0024\n",
      "Epoch 53/1000\n",
      "25/25 [==============================] - 0s 955us/step - loss: 0.0021\n",
      "Epoch 54/1000\n",
      "25/25 [==============================] - 0s 984us/step - loss: 0.0025\n",
      "Epoch 55/1000\n",
      "25/25 [==============================] - 0s 970us/step - loss: 0.0021\n",
      "Epoch 56/1000\n",
      "25/25 [==============================] - 0s 992us/step - loss: 0.0020\n",
      "Epoch 57/1000\n",
      "25/25 [==============================] - 0s 972us/step - loss: 0.0021\n",
      "Epoch 58/1000\n",
      "25/25 [==============================] - 0s 963us/step - loss: 0.0022\n",
      "Epoch 59/1000\n",
      "25/25 [==============================] - 0s 961us/step - loss: 0.0020\n",
      "Epoch 60/1000\n",
      "25/25 [==============================] - 0s 973us/step - loss: 0.0021\n",
      "Epoch 61/1000\n",
      "25/25 [==============================] - 0s 1ms/step - loss: 0.0017\n",
      "Epoch 62/1000\n",
      "25/25 [==============================] - 0s 1ms/step - loss: 0.0023\n",
      "Epoch 63/1000\n",
      "25/25 [==============================] - 0s 1ms/step - loss: 0.0016\n",
      "Epoch 64/1000\n",
      "25/25 [==============================] - 0s 1ms/step - loss: 0.0017\n",
      "Epoch 65/1000\n",
      "25/25 [==============================] - 0s 1ms/step - loss: 0.0017\n",
      "Epoch 66/1000\n",
      "25/25 [==============================] - 0s 997us/step - loss: 0.0018\n",
      "Epoch 67/1000\n",
      "25/25 [==============================] - 0s 990us/step - loss: 0.0020\n",
      "Epoch 68/1000\n",
      "25/25 [==============================] - 0s 983us/step - loss: 0.0018\n",
      "Epoch 69/1000\n",
      "25/25 [==============================] - 0s 988us/step - loss: 0.0017\n",
      "Epoch 70/1000\n",
      "25/25 [==============================] - 0s 976us/step - loss: 0.0017\n",
      "Epoch 71/1000\n",
      "25/25 [==============================] - 0s 976us/step - loss: 0.0017\n",
      "Epoch 72/1000\n",
      "25/25 [==============================] - 0s 978us/step - loss: 0.0015\n",
      "Epoch 73/1000\n",
      "25/25 [==============================] - 0s 960us/step - loss: 0.0015\n",
      "Epoch 74/1000\n",
      "25/25 [==============================] - 0s 965us/step - loss: 0.0014\n",
      "Epoch 75/1000\n",
      "25/25 [==============================] - 0s 939us/step - loss: 0.0014\n",
      "Epoch 76/1000\n",
      "25/25 [==============================] - 0s 958us/step - loss: 0.0013\n",
      "Epoch 77/1000\n",
      "25/25 [==============================] - 0s 932us/step - loss: 0.0020\n",
      "Epoch 78/1000\n",
      "25/25 [==============================] - 0s 948us/step - loss: 0.0020\n",
      "Epoch 79/1000\n",
      "25/25 [==============================] - 0s 958us/step - loss: 0.0014\n",
      "Epoch 80/1000\n",
      "25/25 [==============================] - 0s 968us/step - loss: 0.0019\n",
      "Epoch 81/1000\n",
      "25/25 [==============================] - 0s 945us/step - loss: 0.0012\n",
      "Epoch 82/1000\n",
      "25/25 [==============================] - 0s 940us/step - loss: 0.0012\n",
      "Epoch 83/1000\n",
      "25/25 [==============================] - 0s 956us/step - loss: 0.0010\n",
      "Epoch 84/1000\n",
      "25/25 [==============================] - 0s 943us/step - loss: 9.1780e-04\n",
      "Epoch 85/1000\n",
      "25/25 [==============================] - 0s 939us/step - loss: 8.8471e-04\n",
      "Epoch 86/1000\n",
      "25/25 [==============================] - 0s 975us/step - loss: 8.1986e-04\n",
      "Epoch 87/1000\n",
      "25/25 [==============================] - 0s 961us/step - loss: 9.3705e-04\n",
      "Epoch 88/1000\n",
      "25/25 [==============================] - 0s 969us/step - loss: 8.0389e-04\n",
      "Epoch 89/1000\n",
      "25/25 [==============================] - 0s 955us/step - loss: 0.0011\n",
      "Epoch 90/1000\n",
      "25/25 [==============================] - 0s 971us/step - loss: 8.0131e-04\n",
      "Epoch 91/1000\n",
      "25/25 [==============================] - 0s 963us/step - loss: 0.0013\n",
      "Epoch 92/1000\n",
      "25/25 [==============================] - 0s 945us/step - loss: 9.0443e-04\n",
      "Epoch 93/1000\n",
      "25/25 [==============================] - 0s 943us/step - loss: 9.7980e-04\n",
      "Epoch 94/1000\n",
      "25/25 [==============================] - 0s 964us/step - loss: 9.8409e-04\n",
      "Epoch 95/1000\n",
      "25/25 [==============================] - 0s 973us/step - loss: 7.5062e-04\n",
      "Epoch 96/1000\n",
      "25/25 [==============================] - 0s 940us/step - loss: 9.1240e-04\n",
      "Epoch 97/1000\n",
      "25/25 [==============================] - 0s 935us/step - loss: 8.0565e-04\n",
      "Epoch 98/1000\n",
      "25/25 [==============================] - 0s 944us/step - loss: 7.7545e-04\n",
      "Epoch 99/1000\n",
      "25/25 [==============================] - 0s 959us/step - loss: 5.2695e-04\n",
      "Epoch 100/1000\n",
      "25/25 [==============================] - 0s 958us/step - loss: 7.1383e-04\n",
      "Epoch 101/1000\n",
      "25/25 [==============================] - 0s 957us/step - loss: 6.8147e-04\n",
      "Epoch 102/1000\n",
      "25/25 [==============================] - 0s 944us/step - loss: 0.0014\n",
      "Epoch 103/1000\n",
      "25/25 [==============================] - 0s 961us/step - loss: 0.0012\n",
      "Epoch 104/1000\n",
      "25/25 [==============================] - 0s 952us/step - loss: 0.0011\n",
      "Epoch 105/1000\n",
      "25/25 [==============================] - 0s 952us/step - loss: 0.0014\n",
      "Epoch 106/1000\n",
      "25/25 [==============================] - 0s 951us/step - loss: 0.0013\n",
      "Epoch 107/1000\n",
      "25/25 [==============================] - 0s 949us/step - loss: 0.0011\n",
      "Epoch 108/1000\n",
      "25/25 [==============================] - 0s 944us/step - loss: 7.7671e-04\n",
      "Epoch 109/1000\n",
      "25/25 [==============================] - 0s 942us/step - loss: 5.0078e-04\n",
      "Epoch 110/1000\n",
      "25/25 [==============================] - 0s 956us/step - loss: 4.1768e-04\n",
      "Epoch 111/1000\n",
      "25/25 [==============================] - 0s 949us/step - loss: 7.4420e-04\n",
      "Epoch 112/1000\n",
      "25/25 [==============================] - 0s 962us/step - loss: 8.2328e-04\n",
      "Epoch 113/1000\n",
      "25/25 [==============================] - 0s 944us/step - loss: 0.0018\n",
      "Epoch 114/1000\n",
      "25/25 [==============================] - 0s 947us/step - loss: 7.2661e-04\n",
      "Epoch 115/1000\n",
      "25/25 [==============================] - 0s 966us/step - loss: 8.3417e-04\n",
      "Epoch 116/1000\n",
      "25/25 [==============================] - 0s 946us/step - loss: 6.5010e-04\n",
      "Epoch 117/1000\n",
      "25/25 [==============================] - 0s 966us/step - loss: 8.5882e-04\n",
      "Epoch 118/1000\n",
      "25/25 [==============================] - 0s 938us/step - loss: 7.1865e-04\n",
      "Epoch 119/1000\n",
      "25/25 [==============================] - 0s 946us/step - loss: 5.6454e-04\n",
      "Epoch 120/1000\n",
      "25/25 [==============================] - 0s 938us/step - loss: 7.7539e-04\n",
      "Epoch 121/1000\n",
      "25/25 [==============================] - 0s 953us/step - loss: 5.1869e-04\n",
      "Epoch 122/1000\n",
      "25/25 [==============================] - 0s 938us/step - loss: 6.5215e-04\n",
      "Epoch 123/1000\n",
      "25/25 [==============================] - 0s 944us/step - loss: 3.8603e-04\n",
      "Epoch 124/1000\n",
      "25/25 [==============================] - 0s 951us/step - loss: 6.1924e-04\n",
      "Epoch 125/1000\n",
      "25/25 [==============================] - 0s 972us/step - loss: 3.7562e-04\n",
      "Epoch 126/1000\n",
      "25/25 [==============================] - 0s 924us/step - loss: 6.8051e-04\n",
      "Epoch 127/1000\n",
      "25/25 [==============================] - 0s 1ms/step - loss: 4.2918e-04\n",
      "Epoch 128/1000\n",
      "25/25 [==============================] - 0s 1ms/step - loss: 3.4015e-04\n",
      "Epoch 129/1000\n",
      "25/25 [==============================] - 0s 1ms/step - loss: 4.3515e-04\n",
      "Epoch 130/1000\n",
      "25/25 [==============================] - 0s 1ms/step - loss: 7.1114e-04\n",
      "Epoch 131/1000\n",
      "25/25 [==============================] - 0s 1ms/step - loss: 9.6329e-04\n",
      "Epoch 132/1000\n",
      "25/25 [==============================] - 0s 941us/step - loss: 5.6184e-04\n",
      "Epoch 133/1000\n",
      "25/25 [==============================] - 0s 956us/step - loss: 4.4517e-04\n",
      "Epoch 134/1000\n",
      "25/25 [==============================] - 0s 942us/step - loss: 0.0011\n",
      "Epoch 135/1000\n",
      "25/25 [==============================] - 0s 943us/step - loss: 4.6181e-04\n",
      "Epoch 136/1000\n",
      "25/25 [==============================] - 0s 946us/step - loss: 4.0982e-04\n",
      "Epoch 137/1000\n",
      "25/25 [==============================] - 0s 955us/step - loss: 3.9748e-04\n",
      "Epoch 138/1000\n",
      "25/25 [==============================] - 0s 950us/step - loss: 5.8575e-04\n",
      "Epoch 139/1000\n",
      "25/25 [==============================] - 0s 936us/step - loss: 5.7817e-04\n",
      "Epoch 140/1000\n",
      "25/25 [==============================] - 0s 934us/step - loss: 9.3107e-04\n",
      "Epoch 141/1000\n",
      "25/25 [==============================] - 0s 954us/step - loss: 4.2812e-04\n",
      "Epoch 142/1000\n",
      "25/25 [==============================] - 0s 960us/step - loss: 4.0390e-04\n",
      "Epoch 143/1000\n",
      "25/25 [==============================] - 0s 982us/step - loss: 5.8530e-04\n",
      "Epoch 144/1000\n",
      "25/25 [==============================] - 0s 961us/step - loss: 4.4073e-04\n",
      "Epoch 145/1000\n",
      "25/25 [==============================] - 0s 976us/step - loss: 3.7184e-04\n",
      "Epoch 146/1000\n",
      "25/25 [==============================] - 0s 969us/step - loss: 8.3633e-04\n",
      "Epoch 147/1000\n",
      "25/25 [==============================] - 0s 949us/step - loss: 6.6073e-04\n",
      "Epoch 148/1000\n",
      "25/25 [==============================] - 0s 964us/step - loss: 5.5583e-04\n",
      "Epoch 149/1000\n",
      "25/25 [==============================] - 0s 967us/step - loss: 8.7486e-04\n",
      "Epoch 150/1000\n",
      "25/25 [==============================] - 0s 966us/step - loss: 0.0011\n",
      "Epoch 151/1000\n",
      "25/25 [==============================] - 0s 954us/step - loss: 9.2550e-04\n",
      "Epoch 152/1000\n",
      "25/25 [==============================] - 0s 949us/step - loss: 4.2722e-04\n",
      "Epoch 153/1000\n",
      "25/25 [==============================] - 0s 934us/step - loss: 5.9435e-04\n",
      "Epoch 154/1000\n",
      "25/25 [==============================] - 0s 959us/step - loss: 9.1082e-04\n",
      "Epoch 155/1000\n",
      "25/25 [==============================] - 0s 930us/step - loss: 3.8866e-04\n",
      "Epoch 156/1000\n",
      "25/25 [==============================] - 0s 955us/step - loss: 6.1255e-04\n",
      "Epoch 157/1000\n",
      "25/25 [==============================] - 0s 938us/step - loss: 7.9054e-04\n",
      "Epoch 158/1000\n",
      "25/25 [==============================] - 0s 927us/step - loss: 7.8719e-04\n",
      "Epoch 159/1000\n",
      "25/25 [==============================] - 0s 937us/step - loss: 4.5864e-04\n",
      "Epoch 160/1000\n",
      "25/25 [==============================] - 0s 957us/step - loss: 5.8010e-04\n",
      "Epoch 161/1000\n",
      "25/25 [==============================] - 0s 940us/step - loss: 5.3415e-04\n",
      "Epoch 162/1000\n",
      "25/25 [==============================] - 0s 934us/step - loss: 2.5649e-04\n",
      "Epoch 163/1000\n",
      "25/25 [==============================] - 0s 950us/step - loss: 4.0844e-04\n",
      "Epoch 164/1000\n",
      "25/25 [==============================] - 0s 950us/step - loss: 4.3057e-04\n",
      "Epoch 165/1000\n",
      "25/25 [==============================] - 0s 960us/step - loss: 0.0012\n",
      "Epoch 166/1000\n",
      "25/25 [==============================] - 0s 941us/step - loss: 4.8327e-04\n",
      "Epoch 167/1000\n",
      "25/25 [==============================] - 0s 966us/step - loss: 8.0596e-04\n",
      "Epoch 168/1000\n",
      "25/25 [==============================] - 0s 928us/step - loss: 7.6914e-04\n",
      "Epoch 169/1000\n",
      "25/25 [==============================] - 0s 962us/step - loss: 3.2115e-04\n",
      "Epoch 170/1000\n",
      "25/25 [==============================] - 0s 935us/step - loss: 9.0429e-04\n",
      "Epoch 171/1000\n",
      "25/25 [==============================] - 0s 952us/step - loss: 4.2215e-04\n",
      "Epoch 172/1000\n",
      "25/25 [==============================] - 0s 960us/step - loss: 4.0686e-04\n",
      "Epoch 173/1000\n",
      "25/25 [==============================] - 0s 964us/step - loss: 5.4447e-04\n",
      "Epoch 174/1000\n",
      "25/25 [==============================] - 0s 944us/step - loss: 4.6362e-04\n",
      "Epoch 175/1000\n",
      "25/25 [==============================] - 0s 938us/step - loss: 5.9739e-04\n",
      "Epoch 176/1000\n",
      "25/25 [==============================] - 0s 945us/step - loss: 3.4658e-04\n",
      "Epoch 177/1000\n",
      "25/25 [==============================] - 0s 931us/step - loss: 5.4105e-04\n",
      "Epoch 178/1000\n",
      "25/25 [==============================] - 0s 948us/step - loss: 4.2465e-04\n",
      "Epoch 179/1000\n",
      "25/25 [==============================] - 0s 930us/step - loss: 3.4425e-04\n",
      "Epoch 180/1000\n",
      "25/25 [==============================] - 0s 953us/step - loss: 3.1213e-04\n",
      "Epoch 181/1000\n",
      "25/25 [==============================] - 0s 943us/step - loss: 2.1698e-04\n",
      "Epoch 182/1000\n",
      "25/25 [==============================] - 0s 934us/step - loss: 3.5829e-04\n",
      "Epoch 183/1000\n",
      "25/25 [==============================] - 0s 944us/step - loss: 3.7363e-04\n",
      "Epoch 184/1000\n",
      "25/25 [==============================] - 0s 950us/step - loss: 4.8631e-04\n",
      "Epoch 185/1000\n",
      "25/25 [==============================] - 0s 955us/step - loss: 3.1871e-04\n",
      "Epoch 186/1000\n",
      "25/25 [==============================] - 0s 936us/step - loss: 2.4889e-04\n",
      "Epoch 187/1000\n",
      "25/25 [==============================] - 0s 940us/step - loss: 7.4863e-04\n",
      "Epoch 188/1000\n",
      "25/25 [==============================] - 0s 989us/step - loss: 4.6321e-04\n",
      "Epoch 189/1000\n",
      "25/25 [==============================] - 0s 1ms/step - loss: 5.9020e-04\n",
      "Epoch 190/1000\n",
      "25/25 [==============================] - 0s 1ms/step - loss: 5.3504e-04\n",
      "Epoch 191/1000\n",
      "25/25 [==============================] - 0s 1ms/step - loss: 4.0346e-04\n",
      "Epoch 192/1000\n",
      "25/25 [==============================] - 0s 1ms/step - loss: 3.0275e-04\n",
      "Epoch 193/1000\n",
      "25/25 [==============================] - 0s 922us/step - loss: 3.8321e-04\n",
      "Epoch 194/1000\n",
      "25/25 [==============================] - 0s 941us/step - loss: 5.9821e-04\n",
      "Epoch 195/1000\n",
      "25/25 [==============================] - 0s 956us/step - loss: 3.0234e-04\n",
      "Epoch 196/1000\n",
      "25/25 [==============================] - 0s 953us/step - loss: 3.6585e-04\n",
      "Epoch 197/1000\n",
      "25/25 [==============================] - 0s 937us/step - loss: 6.8704e-04\n",
      "Epoch 198/1000\n",
      "25/25 [==============================] - 0s 953us/step - loss: 4.6573e-04\n",
      "Epoch 199/1000\n",
      "25/25 [==============================] - 0s 938us/step - loss: 0.0012\n",
      "Epoch 200/1000\n",
      "25/25 [==============================] - 0s 938us/step - loss: 4.6757e-04\n",
      "Epoch 201/1000\n",
      "25/25 [==============================] - 0s 942us/step - loss: 3.1302e-04\n",
      "Epoch 202/1000\n",
      "25/25 [==============================] - 0s 951us/step - loss: 5.0735e-04\n",
      "Epoch 203/1000\n",
      "25/25 [==============================] - 0s 952us/step - loss: 4.2159e-04\n",
      "Epoch 204/1000\n",
      "25/25 [==============================] - 0s 939us/step - loss: 4.6920e-04\n",
      "Epoch 205/1000\n",
      "25/25 [==============================] - 0s 940us/step - loss: 7.6689e-04\n",
      "Epoch 206/1000\n",
      "25/25 [==============================] - 0s 954us/step - loss: 5.8006e-04\n",
      "Epoch 207/1000\n",
      "25/25 [==============================] - 0s 940us/step - loss: 2.6475e-04\n",
      "Epoch 208/1000\n",
      "25/25 [==============================] - 0s 949us/step - loss: 2.1415e-04\n",
      "Epoch 209/1000\n",
      "25/25 [==============================] - 0s 947us/step - loss: 3.2624e-04\n",
      "Epoch 210/1000\n",
      "25/25 [==============================] - 0s 939us/step - loss: 4.1407e-04\n",
      "Epoch 211/1000\n",
      "25/25 [==============================] - 0s 945us/step - loss: 2.6659e-04\n",
      "Epoch 212/1000\n",
      "25/25 [==============================] - 0s 976us/step - loss: 3.6669e-04\n",
      "Epoch 213/1000\n",
      "25/25 [==============================] - 0s 943us/step - loss: 4.8320e-04\n",
      "Epoch 214/1000\n",
      "25/25 [==============================] - 0s 932us/step - loss: 3.9268e-04\n",
      "Epoch 215/1000\n",
      "25/25 [==============================] - 0s 946us/step - loss: 4.1839e-04\n",
      "Epoch 216/1000\n",
      "25/25 [==============================] - 0s 933us/step - loss: 2.8040e-04\n",
      "Epoch 217/1000\n",
      "25/25 [==============================] - 0s 939us/step - loss: 0.0013\n",
      "Epoch 218/1000\n",
      "25/25 [==============================] - 0s 957us/step - loss: 4.8667e-04\n",
      "Epoch 219/1000\n",
      "25/25 [==============================] - 0s 945us/step - loss: 7.8700e-04\n",
      "Epoch 220/1000\n",
      "25/25 [==============================] - 0s 938us/step - loss: 6.1877e-04\n",
      "Epoch 221/1000\n",
      "25/25 [==============================] - 0s 933us/step - loss: 4.5736e-04\n",
      "Epoch 222/1000\n",
      "25/25 [==============================] - 0s 947us/step - loss: 4.9554e-04\n",
      "Epoch 223/1000\n",
      "25/25 [==============================] - 0s 949us/step - loss: 4.3613e-04\n",
      "Epoch 224/1000\n",
      "25/25 [==============================] - 0s 1ms/step - loss: 4.6790e-04\n",
      "Epoch 225/1000\n",
      "25/25 [==============================] - 0s 1ms/step - loss: 2.8316e-04\n",
      "Epoch 226/1000\n",
      "25/25 [==============================] - 0s 1ms/step - loss: 2.5965e-04\n",
      "Epoch 227/1000\n",
      "25/25 [==============================] - 0s 1ms/step - loss: 2.9059e-04\n",
      "Epoch 228/1000\n",
      "25/25 [==============================] - 0s 1ms/step - loss: 6.8833e-04\n",
      "Epoch 229/1000\n",
      "25/25 [==============================] - 0s 935us/step - loss: 6.2792e-04\n",
      "Epoch 230/1000\n",
      "25/25 [==============================] - 0s 943us/step - loss: 6.4595e-04\n",
      "Epoch 231/1000\n",
      "25/25 [==============================] - 0s 937us/step - loss: 4.6213e-04\n",
      "Epoch 232/1000\n",
      "25/25 [==============================] - 0s 959us/step - loss: 2.7893e-04\n",
      "Epoch 233/1000\n",
      "25/25 [==============================] - 0s 944us/step - loss: 3.7285e-04\n",
      "Epoch 234/1000\n",
      "25/25 [==============================] - 0s 955us/step - loss: 5.3704e-04\n",
      "Epoch 235/1000\n",
      "25/25 [==============================] - 0s 949us/step - loss: 4.0032e-04\n",
      "Epoch 236/1000\n",
      "25/25 [==============================] - 0s 962us/step - loss: 7.2924e-04\n",
      "Epoch 237/1000\n",
      "25/25 [==============================] - 0s 958us/step - loss: 5.2408e-04\n",
      "Epoch 238/1000\n",
      "25/25 [==============================] - 0s 947us/step - loss: 3.2964e-04\n",
      "Epoch 239/1000\n",
      "25/25 [==============================] - 0s 955us/step - loss: 7.1950e-04\n",
      "Epoch 240/1000\n",
      "25/25 [==============================] - 0s 957us/step - loss: 3.2814e-04\n",
      "Epoch 241/1000\n",
      "25/25 [==============================] - 0s 934us/step - loss: 4.1492e-04\n",
      "Epoch 242/1000\n",
      "25/25 [==============================] - 0s 945us/step - loss: 3.2859e-04\n",
      "Epoch 243/1000\n",
      "25/25 [==============================] - 0s 956us/step - loss: 1.8361e-04\n",
      "Epoch 244/1000\n",
      "25/25 [==============================] - 0s 1ms/step - loss: 4.8656e-04\n",
      "Epoch 245/1000\n",
      "25/25 [==============================] - 0s 1ms/step - loss: 8.3729e-04\n",
      "Epoch 246/1000\n",
      "25/25 [==============================] - 0s 1ms/step - loss: 8.0100e-04\n",
      "Epoch 247/1000\n",
      "25/25 [==============================] - 0s 1ms/step - loss: 4.4135e-04\n",
      "Epoch 248/1000\n",
      "25/25 [==============================] - 0s 1ms/step - loss: 5.3067e-04\n",
      "Epoch 249/1000\n",
      "25/25 [==============================] - 0s 931us/step - loss: 0.0011\n",
      "Epoch 250/1000\n",
      "25/25 [==============================] - 0s 945us/step - loss: 6.9002e-04\n",
      "Epoch 251/1000\n",
      "25/25 [==============================] - 0s 933us/step - loss: 5.0380e-04\n",
      "Epoch 252/1000\n",
      "25/25 [==============================] - 0s 946us/step - loss: 2.7993e-04\n",
      "Epoch 253/1000\n",
      "25/25 [==============================] - 0s 949us/step - loss: 6.3508e-04\n",
      "Epoch 254/1000\n",
      "25/25 [==============================] - 0s 984us/step - loss: 2.8979e-04\n",
      "Epoch 255/1000\n",
      "25/25 [==============================] - 0s 978us/step - loss: 3.9976e-04\n",
      "Epoch 256/1000\n",
      "25/25 [==============================] - 0s 984us/step - loss: 4.6810e-04\n",
      "Epoch 257/1000\n",
      "25/25 [==============================] - 0s 979us/step - loss: 4.8779e-04\n",
      "Epoch 258/1000\n",
      "25/25 [==============================] - 0s 983us/step - loss: 5.9353e-04\n",
      "Epoch 259/1000\n",
      "25/25 [==============================] - 0s 1ms/step - loss: 3.4973e-04\n",
      "Epoch 260/1000\n",
      "25/25 [==============================] - 0s 1ms/step - loss: 3.5298e-04\n",
      "Epoch 261/1000\n",
      "25/25 [==============================] - 0s 1ms/step - loss: 5.5408e-04\n",
      "Epoch 262/1000\n",
      "25/25 [==============================] - 0s 1ms/step - loss: 2.7199e-04\n",
      "Epoch 263/1000\n",
      "25/25 [==============================] - 0s 998us/step - loss: 3.3763e-04\n",
      "Epoch 264/1000\n",
      "25/25 [==============================] - 0s 972us/step - loss: 4.7022e-04\n",
      "Epoch 265/1000\n",
      "25/25 [==============================] - 0s 962us/step - loss: 4.4462e-04\n",
      "Epoch 266/1000\n",
      "25/25 [==============================] - 0s 964us/step - loss: 4.5551e-04\n",
      "Epoch 267/1000\n",
      "25/25 [==============================] - 0s 970us/step - loss: 3.8075e-04\n",
      "Epoch 268/1000\n",
      "25/25 [==============================] - 0s 991us/step - loss: 1.9866e-04\n",
      "Epoch 269/1000\n",
      "25/25 [==============================] - 0s 1ms/step - loss: 6.0592e-04\n",
      "Epoch 270/1000\n",
      "25/25 [==============================] - 0s 1ms/step - loss: 8.0573e-04\n",
      "Epoch 271/1000\n",
      "25/25 [==============================] - 0s 1ms/step - loss: 3.8187e-04\n",
      "Epoch 272/1000\n",
      "25/25 [==============================] - 0s 1ms/step - loss: 3.5909e-04\n",
      "Epoch 273/1000\n",
      "25/25 [==============================] - 0s 998us/step - loss: 3.5101e-04\n",
      "Epoch 274/1000\n",
      "25/25 [==============================] - 0s 941us/step - loss: 5.4742e-04\n",
      "Epoch 275/1000\n",
      "25/25 [==============================] - 0s 927us/step - loss: 5.3806e-04\n",
      "Epoch 276/1000\n",
      "25/25 [==============================] - 0s 939us/step - loss: 4.4674e-04\n",
      "Epoch 277/1000\n",
      "25/25 [==============================] - 0s 957us/step - loss: 2.9904e-04\n",
      "Epoch 278/1000\n",
      "25/25 [==============================] - 0s 960us/step - loss: 4.1391e-04\n",
      "Epoch 279/1000\n",
      "25/25 [==============================] - 0s 969us/step - loss: 3.3485e-04\n",
      "Epoch 280/1000\n",
      "25/25 [==============================] - 0s 961us/step - loss: 3.1312e-04\n",
      "Epoch 281/1000\n",
      "25/25 [==============================] - 0s 939us/step - loss: 2.6554e-04\n",
      "Epoch 282/1000\n",
      "25/25 [==============================] - 0s 928us/step - loss: 6.7303e-04\n",
      "Epoch 283/1000\n",
      "25/25 [==============================] - 0s 957us/step - loss: 3.3509e-04\n",
      "Epoch 284/1000\n",
      "25/25 [==============================] - 0s 942us/step - loss: 3.5946e-04\n",
      "Epoch 285/1000\n",
      "25/25 [==============================] - 0s 937us/step - loss: 2.7726e-04\n",
      "Epoch 286/1000\n",
      "25/25 [==============================] - 0s 969us/step - loss: 4.1948e-04\n",
      "Epoch 287/1000\n",
      "25/25 [==============================] - 0s 936us/step - loss: 5.4808e-04\n",
      "Epoch 288/1000\n",
      "25/25 [==============================] - 0s 964us/step - loss: 3.6437e-04\n",
      "Epoch 289/1000\n",
      "25/25 [==============================] - 0s 956us/step - loss: 3.6713e-04\n",
      "Epoch 290/1000\n",
      "25/25 [==============================] - 0s 942us/step - loss: 4.3678e-04\n",
      "Epoch 291/1000\n",
      "25/25 [==============================] - 0s 943us/step - loss: 5.1777e-04\n",
      "Epoch 292/1000\n",
      "25/25 [==============================] - 0s 941us/step - loss: 0.0010\n",
      "Epoch 293/1000\n",
      "25/25 [==============================] - 0s 946us/step - loss: 7.5826e-04\n",
      "Epoch 294/1000\n",
      "25/25 [==============================] - 0s 962us/step - loss: 4.6394e-04\n",
      "Epoch 295/1000\n",
      "25/25 [==============================] - 0s 945us/step - loss: 4.0168e-04\n",
      "Epoch 296/1000\n",
      "25/25 [==============================] - 0s 934us/step - loss: 3.9050e-04\n",
      "Epoch 297/1000\n",
      "25/25 [==============================] - 0s 930us/step - loss: 3.5084e-04\n",
      "Epoch 298/1000\n",
      "25/25 [==============================] - 0s 939us/step - loss: 4.3587e-04\n",
      "Epoch 299/1000\n",
      "25/25 [==============================] - 0s 935us/step - loss: 5.2635e-04\n",
      "Epoch 300/1000\n",
      "25/25 [==============================] - 0s 961us/step - loss: 2.6099e-04\n",
      "Epoch 301/1000\n",
      "25/25 [==============================] - 0s 936us/step - loss: 3.2122e-04\n",
      "Epoch 302/1000\n",
      "25/25 [==============================] - 0s 949us/step - loss: 1.6188e-04\n",
      "Epoch 303/1000\n",
      "25/25 [==============================] - 0s 950us/step - loss: 3.8260e-04\n",
      "Epoch 304/1000\n",
      "25/25 [==============================] - 0s 934us/step - loss: 3.0977e-04\n",
      "Epoch 305/1000\n",
      "25/25 [==============================] - 0s 957us/step - loss: 6.5424e-04\n",
      "Epoch 306/1000\n",
      "25/25 [==============================] - 0s 951us/step - loss: 4.3247e-04\n",
      "Epoch 307/1000\n",
      "25/25 [==============================] - 0s 952us/step - loss: 2.6336e-04\n",
      "Epoch 308/1000\n",
      "25/25 [==============================] - 0s 936us/step - loss: 4.8925e-04\n",
      "Epoch 309/1000\n",
      "25/25 [==============================] - 0s 967us/step - loss: 4.3593e-04\n",
      "Epoch 310/1000\n",
      "25/25 [==============================] - 0s 999us/step - loss: 8.4581e-04\n",
      "Epoch 311/1000\n",
      "25/25 [==============================] - 0s 980us/step - loss: 8.7563e-04\n",
      "Epoch 312/1000\n",
      "25/25 [==============================] - 0s 994us/step - loss: 7.3439e-04\n",
      "Epoch 313/1000\n",
      "25/25 [==============================] - 0s 1ms/step - loss: 5.5694e-04\n",
      "Epoch 314/1000\n",
      "25/25 [==============================] - 0s 966us/step - loss: 6.0808e-04\n",
      "Epoch 315/1000\n",
      "25/25 [==============================] - 0s 956us/step - loss: 3.7727e-04\n",
      "Epoch 316/1000\n",
      "25/25 [==============================] - 0s 962us/step - loss: 3.5901e-04\n",
      "Epoch 317/1000\n",
      "25/25 [==============================] - 0s 956us/step - loss: 3.7999e-04\n",
      "Epoch 318/1000\n",
      "25/25 [==============================] - 0s 934us/step - loss: 4.7131e-04\n",
      "Epoch 319/1000\n",
      "25/25 [==============================] - 0s 957us/step - loss: 3.2447e-04\n",
      "Epoch 320/1000\n",
      "25/25 [==============================] - 0s 970us/step - loss: 2.8141e-04\n",
      "Epoch 321/1000\n",
      "25/25 [==============================] - 0s 981us/step - loss: 4.6302e-04\n",
      "Epoch 322/1000\n",
      "25/25 [==============================] - 0s 948us/step - loss: 2.6655e-04\n",
      "Epoch 323/1000\n",
      "25/25 [==============================] - 0s 964us/step - loss: 4.1965e-04\n",
      "Epoch 324/1000\n",
      "25/25 [==============================] - 0s 958us/step - loss: 5.6861e-04\n",
      "Epoch 325/1000\n",
      "25/25 [==============================] - 0s 928us/step - loss: 3.6606e-04\n",
      "Epoch 326/1000\n",
      "25/25 [==============================] - 0s 956us/step - loss: 2.9391e-04\n",
      "Epoch 327/1000\n",
      "25/25 [==============================] - 0s 937us/step - loss: 3.3215e-04\n",
      "Epoch 328/1000\n",
      "25/25 [==============================] - 0s 953us/step - loss: 2.5115e-04\n",
      "Epoch 329/1000\n",
      "25/25 [==============================] - 0s 935us/step - loss: 4.9263e-04\n",
      "Epoch 330/1000\n",
      "25/25 [==============================] - 0s 960us/step - loss: 2.3633e-04\n",
      "Epoch 331/1000\n",
      "25/25 [==============================] - 0s 972us/step - loss: 2.6108e-04\n",
      "Epoch 332/1000\n",
      "25/25 [==============================] - 0s 947us/step - loss: 2.0168e-04\n",
      "Epoch 333/1000\n",
      "25/25 [==============================] - 0s 949us/step - loss: 2.9635e-04\n",
      "Epoch 334/1000\n",
      "25/25 [==============================] - 0s 960us/step - loss: 2.5895e-04\n",
      "Epoch 335/1000\n",
      "25/25 [==============================] - 0s 957us/step - loss: 3.2018e-04\n",
      "Epoch 336/1000\n",
      "25/25 [==============================] - 0s 935us/step - loss: 5.5680e-04\n",
      "Epoch 337/1000\n",
      "25/25 [==============================] - 0s 971us/step - loss: 3.5015e-04\n",
      "Epoch 338/1000\n",
      "25/25 [==============================] - 0s 973us/step - loss: 2.5045e-04\n",
      "Epoch 339/1000\n",
      "25/25 [==============================] - 0s 955us/step - loss: 3.0624e-04\n",
      "Epoch 340/1000\n",
      "25/25 [==============================] - 0s 946us/step - loss: 3.1596e-04\n",
      "Epoch 341/1000\n",
      "25/25 [==============================] - 0s 945us/step - loss: 4.0188e-04\n",
      "Epoch 342/1000\n",
      "25/25 [==============================] - 0s 947us/step - loss: 5.4526e-04\n",
      "Epoch 343/1000\n",
      "25/25 [==============================] - 0s 980us/step - loss: 4.1041e-04\n",
      "Epoch 344/1000\n",
      "25/25 [==============================] - 0s 968us/step - loss: 3.1388e-04\n",
      "Epoch 345/1000\n",
      "25/25 [==============================] - 0s 970us/step - loss: 2.1079e-04\n",
      "Epoch 346/1000\n",
      "25/25 [==============================] - 0s 949us/step - loss: 2.9065e-04\n",
      "Epoch 347/1000\n",
      "25/25 [==============================] - 0s 960us/step - loss: 2.7017e-04\n",
      "Epoch 348/1000\n",
      "25/25 [==============================] - 0s 963us/step - loss: 2.7211e-04\n",
      "Epoch 349/1000\n",
      "25/25 [==============================] - 0s 972us/step - loss: 1.9437e-04\n",
      "Epoch 350/1000\n",
      "25/25 [==============================] - 0s 939us/step - loss: 5.1510e-04\n",
      "Epoch 351/1000\n",
      "25/25 [==============================] - 0s 954us/step - loss: 4.8748e-04\n",
      "Epoch 352/1000\n",
      "25/25 [==============================] - 0s 952us/step - loss: 3.8577e-04\n",
      "Epoch 353/1000\n",
      "25/25 [==============================] - 0s 961us/step - loss: 3.7563e-04\n",
      "Epoch 354/1000\n",
      "25/25 [==============================] - 0s 937us/step - loss: 4.8757e-04\n",
      "Epoch 355/1000\n",
      "25/25 [==============================] - 0s 948us/step - loss: 0.0010\n",
      "Epoch 356/1000\n",
      "25/25 [==============================] - 0s 967us/step - loss: 3.2453e-04\n",
      "Epoch 357/1000\n",
      "25/25 [==============================] - 0s 946us/step - loss: 5.5737e-04\n",
      "Epoch 358/1000\n",
      "25/25 [==============================] - 0s 956us/step - loss: 4.7261e-04\n",
      "Epoch 359/1000\n",
      "25/25 [==============================] - 0s 949us/step - loss: 4.2845e-04\n",
      "Epoch 360/1000\n",
      "25/25 [==============================] - 0s 945us/step - loss: 4.8309e-04\n",
      "Epoch 361/1000\n",
      "25/25 [==============================] - 0s 958us/step - loss: 4.0461e-04\n",
      "Epoch 362/1000\n",
      "25/25 [==============================] - 0s 958us/step - loss: 3.3896e-04\n",
      "Epoch 363/1000\n",
      "25/25 [==============================] - 0s 951us/step - loss: 2.3862e-04\n",
      "Epoch 364/1000\n",
      "25/25 [==============================] - 0s 932us/step - loss: 3.5635e-04\n",
      "Epoch 365/1000\n",
      "25/25 [==============================] - 0s 952us/step - loss: 5.0746e-04\n",
      "Epoch 366/1000\n",
      "25/25 [==============================] - 0s 949us/step - loss: 4.3831e-04\n",
      "Epoch 367/1000\n",
      "25/25 [==============================] - 0s 951us/step - loss: 3.8165e-04\n",
      "Epoch 368/1000\n",
      "25/25 [==============================] - 0s 951us/step - loss: 3.4167e-04\n",
      "Epoch 369/1000\n",
      "25/25 [==============================] - 0s 957us/step - loss: 4.1567e-04\n",
      "Epoch 370/1000\n",
      "25/25 [==============================] - 0s 953us/step - loss: 2.2345e-04\n",
      "Epoch 371/1000\n",
      "25/25 [==============================] - 0s 959us/step - loss: 4.5837e-04\n",
      "Epoch 372/1000\n",
      "25/25 [==============================] - 0s 1ms/step - loss: 6.9911e-04\n",
      "Epoch 373/1000\n",
      "25/25 [==============================] - 0s 945us/step - loss: 6.2004e-04\n",
      "Epoch 374/1000\n",
      "25/25 [==============================] - 0s 951us/step - loss: 9.7851e-04\n",
      "Epoch 375/1000\n",
      "25/25 [==============================] - 0s 943us/step - loss: 3.5801e-04\n",
      "Epoch 376/1000\n",
      "25/25 [==============================] - 0s 994us/step - loss: 4.1226e-04\n",
      "Epoch 377/1000\n",
      "25/25 [==============================] - 0s 995us/step - loss: 6.5040e-04\n",
      "Epoch 378/1000\n",
      "25/25 [==============================] - 0s 1ms/step - loss: 1.9984e-04\n",
      "Epoch 379/1000\n",
      "25/25 [==============================] - 0s 951us/step - loss: 4.4072e-04\n",
      "Epoch 380/1000\n",
      "25/25 [==============================] - 0s 982us/step - loss: 2.5707e-04\n",
      "Epoch 381/1000\n",
      "25/25 [==============================] - 0s 1ms/step - loss: 4.5579e-04\n",
      "Epoch 382/1000\n",
      "25/25 [==============================] - 0s 998us/step - loss: 2.9867e-04\n",
      "Epoch 383/1000\n",
      "25/25 [==============================] - 0s 972us/step - loss: 5.6517e-04\n",
      "Epoch 384/1000\n",
      "25/25 [==============================] - 0s 997us/step - loss: 4.9393e-04\n",
      "Epoch 385/1000\n",
      "25/25 [==============================] - 0s 1ms/step - loss: 5.2177e-04\n",
      "Epoch 386/1000\n",
      "25/25 [==============================] - 0s 1ms/step - loss: 3.8437e-04\n",
      "Epoch 387/1000\n",
      "25/25 [==============================] - 0s 1ms/step - loss: 2.3145e-04\n",
      "Epoch 388/1000\n",
      "25/25 [==============================] - 0s 1ms/step - loss: 2.4270e-04\n",
      "Epoch 389/1000\n",
      "25/25 [==============================] - 0s 1ms/step - loss: 2.0078e-04\n",
      "Epoch 390/1000\n",
      "25/25 [==============================] - 0s 983us/step - loss: 7.9530e-04\n",
      "Epoch 391/1000\n",
      "25/25 [==============================] - 0s 956us/step - loss: 2.8194e-04\n",
      "Epoch 392/1000\n",
      "25/25 [==============================] - 0s 990us/step - loss: 2.1212e-04\n",
      "Epoch 393/1000\n",
      "25/25 [==============================] - 0s 976us/step - loss: 2.0045e-04\n",
      "Epoch 394/1000\n",
      "25/25 [==============================] - 0s 983us/step - loss: 2.8813e-04\n",
      "Epoch 395/1000\n",
      "25/25 [==============================] - 0s 949us/step - loss: 4.4866e-04\n",
      "Epoch 396/1000\n",
      "25/25 [==============================] - 0s 961us/step - loss: 4.9727e-04\n",
      "Epoch 397/1000\n",
      "25/25 [==============================] - 0s 947us/step - loss: 2.7562e-04\n",
      "Epoch 398/1000\n",
      "25/25 [==============================] - 0s 981us/step - loss: 3.4120e-04\n",
      "Epoch 399/1000\n",
      "25/25 [==============================] - 0s 971us/step - loss: 4.1823e-04\n",
      "Epoch 400/1000\n",
      "25/25 [==============================] - 0s 988us/step - loss: 2.0693e-04\n",
      "Epoch 401/1000\n",
      "25/25 [==============================] - 0s 962us/step - loss: 2.6460e-04\n",
      "Epoch 402/1000\n",
      "25/25 [==============================] - 0s 994us/step - loss: 3.5093e-04\n",
      "Epoch 403/1000\n",
      "25/25 [==============================] - 0s 978us/step - loss: 5.4475e-04\n",
      "Epoch 404/1000\n",
      "25/25 [==============================] - 0s 963us/step - loss: 3.6314e-04\n",
      "Epoch 405/1000\n",
      "25/25 [==============================] - 0s 966us/step - loss: 5.4224e-04\n",
      "Epoch 406/1000\n",
      "25/25 [==============================] - 0s 957us/step - loss: 2.8060e-04\n",
      "Epoch 407/1000\n",
      "25/25 [==============================] - 0s 955us/step - loss: 5.6611e-04\n",
      "Epoch 408/1000\n",
      "25/25 [==============================] - 0s 986us/step - loss: 4.0404e-04\n",
      "Epoch 409/1000\n",
      "25/25 [==============================] - 0s 977us/step - loss: 2.3691e-04\n",
      "Epoch 410/1000\n",
      "25/25 [==============================] - 0s 982us/step - loss: 2.9273e-04\n",
      "Epoch 411/1000\n",
      "25/25 [==============================] - 0s 969us/step - loss: 2.6715e-04\n",
      "Epoch 412/1000\n",
      "25/25 [==============================] - 0s 981us/step - loss: 2.1411e-04\n",
      "Epoch 413/1000\n",
      "25/25 [==============================] - 0s 980us/step - loss: 3.3221e-04\n",
      "Epoch 414/1000\n",
      "25/25 [==============================] - 0s 994us/step - loss: 1.8259e-04\n",
      "Epoch 415/1000\n",
      "25/25 [==============================] - 0s 1ms/step - loss: 1.9195e-04\n",
      "Epoch 416/1000\n",
      "25/25 [==============================] - 0s 992us/step - loss: 3.0803e-04\n",
      "Epoch 417/1000\n",
      "25/25 [==============================] - 0s 1ms/step - loss: 2.5777e-04\n",
      "Epoch 418/1000\n",
      "25/25 [==============================] - 0s 975us/step - loss: 3.9064e-04\n",
      "Epoch 419/1000\n",
      "25/25 [==============================] - 0s 987us/step - loss: 3.0080e-04\n",
      "Epoch 420/1000\n",
      "25/25 [==============================] - 0s 977us/step - loss: 3.3887e-04\n",
      "Epoch 421/1000\n",
      "25/25 [==============================] - 0s 970us/step - loss: 2.4098e-04\n",
      "Epoch 422/1000\n",
      "25/25 [==============================] - 0s 986us/step - loss: 4.0345e-04\n",
      "Epoch 423/1000\n",
      "25/25 [==============================] - 0s 962us/step - loss: 4.9820e-04\n",
      "Epoch 424/1000\n",
      "25/25 [==============================] - 0s 976us/step - loss: 3.4235e-04\n",
      "Epoch 425/1000\n",
      "25/25 [==============================] - 0s 964us/step - loss: 3.0990e-04\n",
      "Epoch 426/1000\n",
      "25/25 [==============================] - 0s 955us/step - loss: 4.2686e-04\n",
      "Epoch 427/1000\n",
      "25/25 [==============================] - 0s 977us/step - loss: 3.3858e-04\n",
      "Epoch 428/1000\n",
      "25/25 [==============================] - 0s 984us/step - loss: 1.9321e-04\n",
      "Epoch 429/1000\n",
      "25/25 [==============================] - 0s 1ms/step - loss: 3.5828e-04\n",
      "Epoch 430/1000\n",
      "25/25 [==============================] - 0s 1000us/step - loss: 3.7396e-04\n",
      "Epoch 431/1000\n",
      "25/25 [==============================] - 0s 982us/step - loss: 8.0134e-04\n",
      "Epoch 432/1000\n",
      "25/25 [==============================] - 0s 974us/step - loss: 1.7981e-04\n",
      "Epoch 433/1000\n",
      "25/25 [==============================] - 0s 1ms/step - loss: 6.8656e-04\n",
      "Epoch 434/1000\n",
      "25/25 [==============================] - 0s 965us/step - loss: 5.6612e-04\n",
      "Epoch 435/1000\n",
      "25/25 [==============================] - 0s 986us/step - loss: 1.6393e-04\n",
      "Epoch 436/1000\n",
      "25/25 [==============================] - 0s 943us/step - loss: 4.6413e-04\n",
      "Epoch 437/1000\n",
      "25/25 [==============================] - 0s 957us/step - loss: 5.1261e-04\n",
      "Epoch 438/1000\n",
      "25/25 [==============================] - 0s 965us/step - loss: 3.0147e-04\n",
      "Epoch 439/1000\n",
      "25/25 [==============================] - 0s 939us/step - loss: 2.0414e-04\n",
      "Epoch 440/1000\n",
      "25/25 [==============================] - 0s 964us/step - loss: 4.1667e-04\n",
      "Epoch 441/1000\n",
      "25/25 [==============================] - 0s 980us/step - loss: 2.3469e-04\n",
      "Epoch 442/1000\n",
      "25/25 [==============================] - 0s 955us/step - loss: 3.3353e-04\n",
      "Epoch 443/1000\n",
      "25/25 [==============================] - 0s 993us/step - loss: 2.5746e-04\n",
      "Epoch 444/1000\n",
      "25/25 [==============================] - 0s 961us/step - loss: 2.3066e-04\n",
      "Epoch 445/1000\n",
      "25/25 [==============================] - 0s 980us/step - loss: 3.5783e-04\n",
      "Epoch 446/1000\n",
      "25/25 [==============================] - 0s 956us/step - loss: 2.9484e-04\n",
      "Epoch 447/1000\n",
      "25/25 [==============================] - 0s 986us/step - loss: 2.3027e-04\n",
      "Epoch 448/1000\n",
      "25/25 [==============================] - 0s 981us/step - loss: 2.5642e-04\n",
      "Epoch 449/1000\n",
      "25/25 [==============================] - 0s 1ms/step - loss: 2.2646e-04\n",
      "Epoch 450/1000\n",
      "25/25 [==============================] - 0s 1ms/step - loss: 2.1038e-04\n",
      "Epoch 451/1000\n",
      "25/25 [==============================] - 0s 1ms/step - loss: 2.5298e-04\n",
      "Epoch 452/1000\n",
      "25/25 [==============================] - 0s 1ms/step - loss: 2.5629e-04\n",
      "Epoch 453/1000\n",
      "25/25 [==============================] - 0s 1ms/step - loss: 1.4462e-04\n",
      "Epoch 454/1000\n",
      "25/25 [==============================] - 0s 998us/step - loss: 4.3310e-04\n",
      "Epoch 455/1000\n",
      "25/25 [==============================] - 0s 1ms/step - loss: 4.6822e-04\n",
      "Epoch 456/1000\n",
      "25/25 [==============================] - 0s 1ms/step - loss: 4.0103e-04\n",
      "Epoch 457/1000\n",
      "25/25 [==============================] - 0s 1ms/step - loss: 3.8982e-04\n",
      "Epoch 458/1000\n",
      "25/25 [==============================] - 0s 1ms/step - loss: 3.0191e-04\n",
      "Epoch 459/1000\n",
      "25/25 [==============================] - 0s 953us/step - loss: 4.8248e-04\n",
      "Epoch 460/1000\n",
      "25/25 [==============================] - 0s 960us/step - loss: 3.3045e-04\n",
      "Epoch 461/1000\n",
      "25/25 [==============================] - 0s 971us/step - loss: 1.4870e-04\n",
      "Epoch 462/1000\n",
      "25/25 [==============================] - 0s 964us/step - loss: 2.9389e-04\n",
      "Epoch 463/1000\n",
      "25/25 [==============================] - 0s 972us/step - loss: 4.1983e-04\n",
      "Epoch 464/1000\n",
      "25/25 [==============================] - 0s 970us/step - loss: 2.8038e-04\n",
      "Epoch 465/1000\n",
      "25/25 [==============================] - 0s 970us/step - loss: 2.3677e-04\n",
      "Epoch 466/1000\n",
      "25/25 [==============================] - 0s 964us/step - loss: 2.7521e-04\n",
      "Epoch 467/1000\n",
      "25/25 [==============================] - 0s 998us/step - loss: 4.1354e-04\n",
      "Epoch 468/1000\n",
      "25/25 [==============================] - 0s 994us/step - loss: 3.8113e-04\n",
      "Epoch 469/1000\n",
      "25/25 [==============================] - 0s 1ms/step - loss: 4.9139e-04\n",
      "Epoch 470/1000\n",
      "25/25 [==============================] - 0s 1ms/step - loss: 1.8074e-04\n",
      "Epoch 471/1000\n",
      "25/25 [==============================] - 0s 1ms/step - loss: 3.4345e-04\n",
      "Epoch 472/1000\n",
      "25/25 [==============================] - 0s 1ms/step - loss: 1.6426e-04\n",
      "Epoch 473/1000\n",
      "25/25 [==============================] - 0s 1ms/step - loss: 3.0915e-04\n",
      "Epoch 474/1000\n",
      "25/25 [==============================] - 0s 1ms/step - loss: 2.7763e-04\n",
      "Epoch 475/1000\n",
      "25/25 [==============================] - 0s 1ms/step - loss: 2.9762e-04\n",
      "Epoch 476/1000\n",
      "25/25 [==============================] - 0s 1ms/step - loss: 2.7158e-04\n",
      "Epoch 477/1000\n",
      "25/25 [==============================] - 0s 1ms/step - loss: 2.9803e-04\n",
      "Epoch 478/1000\n",
      "25/25 [==============================] - 0s 1ms/step - loss: 3.7295e-04\n",
      "Epoch 479/1000\n",
      "25/25 [==============================] - 0s 1ms/step - loss: 2.1079e-04\n",
      "Epoch 480/1000\n",
      "25/25 [==============================] - 0s 1ms/step - loss: 3.8993e-04\n",
      "Epoch 481/1000\n",
      "25/25 [==============================] - 0s 1ms/step - loss: 1.5590e-04\n",
      "Epoch 482/1000\n",
      "25/25 [==============================] - 0s 1ms/step - loss: 4.6881e-04\n",
      "Epoch 483/1000\n",
      "25/25 [==============================] - 0s 975us/step - loss: 2.8997e-04\n",
      "Epoch 484/1000\n",
      "25/25 [==============================] - 0s 956us/step - loss: 5.4363e-04\n",
      "Epoch 485/1000\n",
      "25/25 [==============================] - 0s 978us/step - loss: 3.1332e-04\n",
      "Epoch 486/1000\n",
      "25/25 [==============================] - 0s 965us/step - loss: 2.3154e-04\n",
      "Epoch 487/1000\n",
      "25/25 [==============================] - 0s 982us/step - loss: 5.7282e-04\n",
      "Epoch 488/1000\n",
      "25/25 [==============================] - 0s 967us/step - loss: 3.4004e-04\n",
      "Epoch 489/1000\n",
      "25/25 [==============================] - 0s 973us/step - loss: 2.4367e-04\n",
      "Epoch 490/1000\n",
      "25/25 [==============================] - 0s 958us/step - loss: 3.3256e-04\n",
      "Epoch 491/1000\n",
      "25/25 [==============================] - 0s 1ms/step - loss: 2.9986e-04\n",
      "Epoch 492/1000\n",
      "25/25 [==============================] - 0s 978us/step - loss: 1.5523e-04\n",
      "Epoch 493/1000\n",
      "25/25 [==============================] - 0s 992us/step - loss: 6.3432e-04\n",
      "Epoch 494/1000\n",
      "25/25 [==============================] - 0s 1ms/step - loss: 2.7093e-04\n",
      "Epoch 495/1000\n",
      "25/25 [==============================] - 0s 1000us/step - loss: 4.1565e-04\n",
      "Epoch 496/1000\n",
      "25/25 [==============================] - 0s 1ms/step - loss: 3.4683e-04\n",
      "Epoch 497/1000\n",
      "25/25 [==============================] - 0s 981us/step - loss: 4.2902e-04\n",
      "Epoch 498/1000\n",
      "25/25 [==============================] - 0s 963us/step - loss: 2.2885e-04\n",
      "Epoch 499/1000\n",
      "25/25 [==============================] - 0s 969us/step - loss: 4.5014e-04\n",
      "Epoch 500/1000\n",
      "25/25 [==============================] - 0s 959us/step - loss: 5.9200e-04\n",
      "Epoch 501/1000\n",
      "25/25 [==============================] - 0s 958us/step - loss: 2.4882e-04\n",
      "Epoch 502/1000\n",
      "25/25 [==============================] - 0s 975us/step - loss: 3.9714e-04\n",
      "Epoch 503/1000\n",
      "25/25 [==============================] - 0s 975us/step - loss: 3.3950e-04\n",
      "Epoch 504/1000\n",
      "25/25 [==============================] - 0s 973us/step - loss: 3.5253e-04\n",
      "Epoch 505/1000\n",
      "25/25 [==============================] - 0s 975us/step - loss: 1.9056e-04\n",
      "Epoch 506/1000\n",
      "25/25 [==============================] - 0s 976us/step - loss: 2.0728e-04\n",
      "Epoch 507/1000\n",
      "25/25 [==============================] - 0s 987us/step - loss: 1.5877e-04\n",
      "Epoch 508/1000\n",
      "25/25 [==============================] - 0s 970us/step - loss: 1.9499e-04\n",
      "Epoch 509/1000\n",
      "25/25 [==============================] - 0s 991us/step - loss: 2.9881e-04\n",
      "Epoch 510/1000\n",
      "25/25 [==============================] - 0s 970us/step - loss: 1.4210e-04\n",
      "Epoch 511/1000\n",
      "25/25 [==============================] - 0s 966us/step - loss: 3.1983e-04\n",
      "Epoch 512/1000\n",
      "25/25 [==============================] - 0s 987us/step - loss: 2.6024e-04\n",
      "Epoch 513/1000\n",
      "25/25 [==============================] - 0s 984us/step - loss: 2.4131e-04\n",
      "Epoch 514/1000\n",
      "25/25 [==============================] - 0s 962us/step - loss: 3.1601e-04\n",
      "Epoch 515/1000\n",
      "25/25 [==============================] - 0s 1ms/step - loss: 1.8936e-04\n",
      "Epoch 516/1000\n",
      "25/25 [==============================] - 0s 988us/step - loss: 6.3925e-04\n",
      "Epoch 517/1000\n",
      "25/25 [==============================] - 0s 997us/step - loss: 2.2769e-04\n",
      "Epoch 518/1000\n",
      "25/25 [==============================] - 0s 974us/step - loss: 3.0677e-04\n",
      "Epoch 519/1000\n",
      "25/25 [==============================] - 0s 962us/step - loss: 2.4540e-04\n",
      "Epoch 520/1000\n",
      "25/25 [==============================] - 0s 956us/step - loss: 1.6631e-04\n",
      "Epoch 521/1000\n",
      "25/25 [==============================] - 0s 990us/step - loss: 2.9109e-04\n",
      "Epoch 522/1000\n",
      "25/25 [==============================] - 0s 972us/step - loss: 3.1172e-04\n",
      "Epoch 523/1000\n",
      "25/25 [==============================] - 0s 973us/step - loss: 3.2428e-04\n",
      "Epoch 524/1000\n",
      "25/25 [==============================] - 0s 989us/step - loss: 3.4845e-04\n",
      "Epoch 525/1000\n",
      "25/25 [==============================] - 0s 978us/step - loss: 2.3590e-04\n",
      "Epoch 526/1000\n",
      "25/25 [==============================] - 0s 960us/step - loss: 3.5959e-04\n",
      "Epoch 527/1000\n",
      "25/25 [==============================] - 0s 965us/step - loss: 3.3979e-04\n",
      "Epoch 528/1000\n",
      "25/25 [==============================] - 0s 1000us/step - loss: 3.8413e-04\n",
      "Epoch 529/1000\n",
      "25/25 [==============================] - 0s 1ms/step - loss: 3.1821e-04\n",
      "Epoch 530/1000\n",
      "25/25 [==============================] - 0s 982us/step - loss: 3.2654e-04\n",
      "Epoch 531/1000\n",
      "25/25 [==============================] - 0s 981us/step - loss: 3.9290e-04\n",
      "Epoch 532/1000\n",
      "25/25 [==============================] - 0s 983us/step - loss: 4.5776e-04\n",
      "Epoch 533/1000\n",
      "25/25 [==============================] - 0s 973us/step - loss: 2.1144e-04\n",
      "Epoch 534/1000\n",
      "25/25 [==============================] - 0s 968us/step - loss: 4.7452e-04\n",
      "Epoch 535/1000\n",
      "25/25 [==============================] - 0s 964us/step - loss: 2.7946e-04\n",
      "Epoch 536/1000\n",
      "25/25 [==============================] - 0s 979us/step - loss: 4.3122e-04\n",
      "Epoch 537/1000\n",
      "25/25 [==============================] - 0s 985us/step - loss: 5.3622e-04\n",
      "Epoch 538/1000\n",
      "25/25 [==============================] - 0s 980us/step - loss: 3.3236e-04\n",
      "Epoch 539/1000\n",
      "25/25 [==============================] - 0s 972us/step - loss: 2.2697e-04\n",
      "Epoch 540/1000\n",
      "25/25 [==============================] - 0s 993us/step - loss: 2.6926e-04\n",
      "Epoch 541/1000\n",
      "25/25 [==============================] - 0s 980us/step - loss: 3.9532e-04\n",
      "Epoch 542/1000\n",
      "25/25 [==============================] - 0s 1ms/step - loss: 1.9602e-04\n",
      "Epoch 543/1000\n",
      "25/25 [==============================] - 0s 1ms/step - loss: 4.0775e-04\n",
      "Epoch 544/1000\n",
      "25/25 [==============================] - 0s 1ms/step - loss: 2.8625e-04\n",
      "Epoch 545/1000\n",
      "25/25 [==============================] - 0s 1ms/step - loss: 3.1911e-04\n",
      "Epoch 546/1000\n",
      "25/25 [==============================] - 0s 1ms/step - loss: 3.0010e-04\n",
      "Epoch 547/1000\n",
      "25/25 [==============================] - 0s 971us/step - loss: 2.9695e-04\n",
      "Epoch 548/1000\n",
      "25/25 [==============================] - 0s 953us/step - loss: 3.0967e-04\n",
      "Epoch 549/1000\n",
      "25/25 [==============================] - 0s 964us/step - loss: 2.9532e-04\n",
      "Epoch 550/1000\n",
      "25/25 [==============================] - 0s 997us/step - loss: 2.2786e-04\n",
      "Epoch 551/1000\n",
      "25/25 [==============================] - 0s 973us/step - loss: 2.8851e-04\n",
      "Epoch 552/1000\n",
      "25/25 [==============================] - 0s 990us/step - loss: 2.3830e-04\n",
      "Epoch 553/1000\n",
      "25/25 [==============================] - 0s 966us/step - loss: 2.3205e-04\n",
      "Epoch 554/1000\n",
      "25/25 [==============================] - 0s 981us/step - loss: 1.4512e-04\n",
      "Epoch 555/1000\n",
      "25/25 [==============================] - 0s 962us/step - loss: 2.2141e-04\n",
      "Epoch 556/1000\n",
      "25/25 [==============================] - 0s 958us/step - loss: 4.5031e-04\n",
      "Epoch 557/1000\n",
      "25/25 [==============================] - 0s 984us/step - loss: 2.0673e-04\n",
      "Epoch 558/1000\n",
      "25/25 [==============================] - 0s 979us/step - loss: 5.0294e-04\n",
      "Epoch 559/1000\n",
      "25/25 [==============================] - 0s 960us/step - loss: 3.8628e-04\n",
      "Epoch 560/1000\n",
      "25/25 [==============================] - 0s 977us/step - loss: 5.4956e-04\n",
      "Epoch 561/1000\n",
      "25/25 [==============================] - 0s 974us/step - loss: 5.3707e-04\n",
      "Epoch 562/1000\n",
      "25/25 [==============================] - 0s 959us/step - loss: 2.9426e-04\n",
      "Epoch 563/1000\n",
      "25/25 [==============================] - 0s 974us/step - loss: 2.1290e-04\n",
      "Epoch 564/1000\n",
      "25/25 [==============================] - 0s 962us/step - loss: 1.4060e-04\n",
      "Epoch 565/1000\n",
      "25/25 [==============================] - 0s 969us/step - loss: 2.3352e-04\n",
      "Epoch 566/1000\n",
      "25/25 [==============================] - 0s 1ms/step - loss: 2.4738e-04\n",
      "Epoch 567/1000\n",
      "25/25 [==============================] - 0s 964us/step - loss: 1.6384e-04\n",
      "Epoch 568/1000\n",
      "25/25 [==============================] - 0s 985us/step - loss: 2.3860e-04\n",
      "Epoch 569/1000\n",
      "25/25 [==============================] - 0s 990us/step - loss: 2.1017e-04\n",
      "Epoch 570/1000\n",
      "25/25 [==============================] - 0s 969us/step - loss: 1.7476e-04\n",
      "Epoch 571/1000\n",
      "25/25 [==============================] - 0s 968us/step - loss: 2.6371e-04\n",
      "Epoch 572/1000\n",
      "25/25 [==============================] - 0s 996us/step - loss: 3.4351e-04\n",
      "Epoch 573/1000\n",
      "25/25 [==============================] - 0s 981us/step - loss: 3.9845e-04\n",
      "Epoch 574/1000\n",
      "25/25 [==============================] - 0s 984us/step - loss: 5.6905e-04\n",
      "Epoch 575/1000\n",
      "25/25 [==============================] - 0s 965us/step - loss: 4.3812e-04\n",
      "Epoch 576/1000\n",
      "25/25 [==============================] - 0s 969us/step - loss: 3.1079e-04\n",
      "Epoch 577/1000\n",
      "25/25 [==============================] - 0s 969us/step - loss: 1.9285e-04\n",
      "Epoch 578/1000\n",
      "25/25 [==============================] - 0s 973us/step - loss: 2.7289e-04\n",
      "Epoch 579/1000\n",
      "25/25 [==============================] - 0s 973us/step - loss: 3.2392e-04\n",
      "Epoch 580/1000\n",
      "25/25 [==============================] - 0s 983us/step - loss: 2.8364e-04\n",
      "Epoch 581/1000\n",
      "25/25 [==============================] - 0s 962us/step - loss: 2.8186e-04\n",
      "Epoch 582/1000\n",
      "25/25 [==============================] - 0s 967us/step - loss: 1.7113e-04\n",
      "Epoch 583/1000\n",
      "25/25 [==============================] - 0s 977us/step - loss: 2.5093e-04\n",
      "Epoch 584/1000\n",
      "25/25 [==============================] - 0s 979us/step - loss: 1.8164e-04\n",
      "Epoch 585/1000\n",
      "25/25 [==============================] - 0s 976us/step - loss: 2.1472e-04\n",
      "Epoch 586/1000\n",
      "25/25 [==============================] - 0s 976us/step - loss: 2.8887e-04\n",
      "Epoch 587/1000\n",
      "25/25 [==============================] - 0s 975us/step - loss: 3.2942e-04\n",
      "Epoch 588/1000\n",
      "25/25 [==============================] - 0s 994us/step - loss: 1.8575e-04\n",
      "Epoch 589/1000\n",
      "25/25 [==============================] - 0s 984us/step - loss: 1.6595e-04\n",
      "Epoch 590/1000\n",
      "25/25 [==============================] - 0s 972us/step - loss: 2.6157e-04\n",
      "Epoch 591/1000\n",
      "25/25 [==============================] - 0s 982us/step - loss: 1.6914e-04\n",
      "Epoch 592/1000\n",
      "25/25 [==============================] - 0s 981us/step - loss: 2.1165e-04\n",
      "Epoch 593/1000\n",
      "25/25 [==============================] - 0s 985us/step - loss: 2.1741e-04\n",
      "Epoch 594/1000\n",
      "25/25 [==============================] - 0s 979us/step - loss: 2.1885e-04\n",
      "Epoch 595/1000\n",
      "25/25 [==============================] - 0s 1ms/step - loss: 2.2940e-04\n",
      "Epoch 596/1000\n",
      "25/25 [==============================] - 0s 991us/step - loss: 3.0107e-04\n",
      "Epoch 597/1000\n",
      "25/25 [==============================] - 0s 975us/step - loss: 2.7652e-04\n",
      "Epoch 598/1000\n",
      "25/25 [==============================] - 0s 968us/step - loss: 1.5909e-04\n",
      "Epoch 599/1000\n",
      "25/25 [==============================] - 0s 975us/step - loss: 1.5524e-04\n",
      "Epoch 600/1000\n",
      "25/25 [==============================] - 0s 970us/step - loss: 2.5067e-04\n",
      "Epoch 601/1000\n",
      "25/25 [==============================] - 0s 956us/step - loss: 2.4141e-04\n",
      "Epoch 602/1000\n",
      "25/25 [==============================] - 0s 996us/step - loss: 5.6969e-04\n",
      "Epoch 603/1000\n",
      "25/25 [==============================] - 0s 975us/step - loss: 3.9385e-04\n",
      "Epoch 604/1000\n",
      "25/25 [==============================] - 0s 955us/step - loss: 3.0236e-04\n",
      "Epoch 605/1000\n",
      "25/25 [==============================] - 0s 959us/step - loss: 4.2826e-04\n",
      "Epoch 606/1000\n",
      "25/25 [==============================] - 0s 968us/step - loss: 1.5324e-04\n",
      "Epoch 607/1000\n",
      "25/25 [==============================] - 0s 978us/step - loss: 2.4811e-04\n",
      "Epoch 608/1000\n",
      "25/25 [==============================] - 0s 1000us/step - loss: 3.8381e-04\n",
      "Epoch 609/1000\n",
      "25/25 [==============================] - 0s 966us/step - loss: 2.5829e-04\n",
      "Epoch 610/1000\n",
      "25/25 [==============================] - 0s 970us/step - loss: 5.0652e-04\n",
      "Epoch 611/1000\n",
      "25/25 [==============================] - 0s 983us/step - loss: 5.1402e-04\n",
      "Epoch 612/1000\n",
      "25/25 [==============================] - 0s 953us/step - loss: 3.4691e-04\n",
      "Epoch 613/1000\n",
      "25/25 [==============================] - 0s 993us/step - loss: 3.8754e-04\n",
      "Epoch 614/1000\n",
      "25/25 [==============================] - 0s 1ms/step - loss: 6.0876e-04\n",
      "Epoch 615/1000\n",
      "25/25 [==============================] - 0s 986us/step - loss: 2.5334e-04\n",
      "Epoch 616/1000\n",
      "25/25 [==============================] - 0s 987us/step - loss: 4.2048e-04\n",
      "Epoch 617/1000\n",
      "25/25 [==============================] - 0s 974us/step - loss: 2.2264e-04\n",
      "Epoch 618/1000\n",
      "25/25 [==============================] - 0s 962us/step - loss: 4.1638e-04\n",
      "Epoch 619/1000\n",
      "25/25 [==============================] - 0s 968us/step - loss: 2.0838e-04\n",
      "Epoch 620/1000\n",
      "25/25 [==============================] - 0s 979us/step - loss: 2.4925e-04\n",
      "Epoch 621/1000\n",
      "25/25 [==============================] - 0s 979us/step - loss: 4.8316e-04\n",
      "Epoch 622/1000\n",
      "25/25 [==============================] - 0s 980us/step - loss: 3.3733e-04\n",
      "Epoch 623/1000\n",
      "25/25 [==============================] - 0s 2ms/step - loss: 3.1929e-04\n",
      "Epoch 624/1000\n",
      "25/25 [==============================] - 0s 1ms/step - loss: 2.2963e-04\n",
      "Epoch 625/1000\n",
      "25/25 [==============================] - 0s 1ms/step - loss: 2.5620e-04\n",
      "Epoch 626/1000\n",
      "25/25 [==============================] - 0s 992us/step - loss: 2.3706e-04\n",
      "Epoch 627/1000\n",
      "25/25 [==============================] - 0s 979us/step - loss: 1.7628e-04\n",
      "Epoch 628/1000\n",
      "25/25 [==============================] - 0s 975us/step - loss: 2.1389e-04\n",
      "Epoch 629/1000\n",
      "25/25 [==============================] - 0s 991us/step - loss: 2.0602e-04\n",
      "Epoch 630/1000\n",
      "25/25 [==============================] - 0s 1ms/step - loss: 2.5268e-04\n",
      "Epoch 631/1000\n",
      "25/25 [==============================] - 0s 984us/step - loss: 2.5722e-04\n",
      "Epoch 632/1000\n",
      "25/25 [==============================] - 0s 953us/step - loss: 2.1430e-04\n",
      "Epoch 633/1000\n",
      "25/25 [==============================] - 0s 994us/step - loss: 4.1721e-04\n",
      "Epoch 634/1000\n",
      "25/25 [==============================] - 0s 966us/step - loss: 3.7266e-04\n",
      "Epoch 635/1000\n",
      "25/25 [==============================] - 0s 980us/step - loss: 2.8437e-04\n",
      "Epoch 636/1000\n",
      "25/25 [==============================] - 0s 987us/step - loss: 2.4479e-04\n",
      "Epoch 637/1000\n",
      "25/25 [==============================] - 0s 970us/step - loss: 2.4401e-04\n",
      "Epoch 638/1000\n",
      "25/25 [==============================] - 0s 998us/step - loss: 1.7437e-04\n",
      "Epoch 639/1000\n",
      "25/25 [==============================] - 0s 974us/step - loss: 3.3500e-04\n",
      "Epoch 640/1000\n",
      "25/25 [==============================] - 0s 971us/step - loss: 2.3847e-04\n",
      "Epoch 641/1000\n",
      "25/25 [==============================] - 0s 941us/step - loss: 2.7562e-04\n",
      "Epoch 642/1000\n",
      "25/25 [==============================] - 0s 989us/step - loss: 2.6554e-04\n",
      "Epoch 643/1000\n",
      "25/25 [==============================] - 0s 970us/step - loss: 1.6141e-04\n",
      "Epoch 644/1000\n",
      "25/25 [==============================] - 0s 961us/step - loss: 2.1318e-04\n",
      "Epoch 645/1000\n",
      "25/25 [==============================] - 0s 970us/step - loss: 2.1659e-04\n",
      "Epoch 646/1000\n",
      "25/25 [==============================] - 0s 972us/step - loss: 2.8384e-04\n",
      "Epoch 647/1000\n",
      "25/25 [==============================] - 0s 1ms/step - loss: 4.1491e-04\n",
      "Epoch 648/1000\n",
      "25/25 [==============================] - 0s 961us/step - loss: 2.5965e-04\n",
      "Epoch 649/1000\n",
      "25/25 [==============================] - 0s 971us/step - loss: 2.6960e-04\n",
      "Epoch 650/1000\n",
      "25/25 [==============================] - 0s 979us/step - loss: 2.6607e-04\n",
      "Epoch 651/1000\n",
      "25/25 [==============================] - 0s 978us/step - loss: 2.0340e-04\n",
      "Epoch 652/1000\n",
      "25/25 [==============================] - 0s 932us/step - loss: 2.1439e-04\n",
      "Epoch 653/1000\n",
      "25/25 [==============================] - 0s 975us/step - loss: 1.2410e-04\n",
      "Epoch 654/1000\n",
      "25/25 [==============================] - 0s 978us/step - loss: 1.5344e-04\n",
      "Epoch 655/1000\n",
      "25/25 [==============================] - 0s 1ms/step - loss: 1.2103e-04\n",
      "Epoch 656/1000\n",
      "25/25 [==============================] - 0s 987us/step - loss: 2.2683e-04\n",
      "Epoch 657/1000\n",
      "25/25 [==============================] - 0s 980us/step - loss: 2.6897e-04\n",
      "Epoch 658/1000\n",
      "25/25 [==============================] - 0s 990us/step - loss: 3.5697e-04\n",
      "Epoch 659/1000\n",
      "25/25 [==============================] - 0s 963us/step - loss: 2.9589e-04\n",
      "Epoch 660/1000\n",
      "25/25 [==============================] - 0s 949us/step - loss: 1.4501e-04\n",
      "Epoch 661/1000\n",
      "25/25 [==============================] - 0s 964us/step - loss: 3.6453e-04\n",
      "Epoch 662/1000\n",
      "25/25 [==============================] - 0s 954us/step - loss: 2.0053e-04\n",
      "Epoch 663/1000\n",
      "25/25 [==============================] - 0s 1ms/step - loss: 3.7991e-04\n",
      "Epoch 664/1000\n",
      "25/25 [==============================] - 0s 973us/step - loss: 9.6463e-05\n",
      "Epoch 665/1000\n",
      "25/25 [==============================] - 0s 990us/step - loss: 2.0627e-04\n",
      "Epoch 666/1000\n",
      "25/25 [==============================] - 0s 992us/step - loss: 2.0569e-04\n",
      "Epoch 667/1000\n",
      "25/25 [==============================] - 0s 1ms/step - loss: 1.3737e-04\n",
      "Epoch 668/1000\n",
      "25/25 [==============================] - 0s 974us/step - loss: 1.4708e-04\n",
      "Epoch 669/1000\n",
      "25/25 [==============================] - 0s 987us/step - loss: 3.5527e-04\n",
      "Epoch 670/1000\n",
      "25/25 [==============================] - 0s 978us/step - loss: 1.3777e-04\n",
      "Epoch 671/1000\n",
      "25/25 [==============================] - 0s 990us/step - loss: 2.6667e-04\n",
      "Epoch 672/1000\n",
      "25/25 [==============================] - 0s 982us/step - loss: 1.4401e-04\n",
      "Epoch 673/1000\n",
      "25/25 [==============================] - 0s 997us/step - loss: 2.9800e-04\n",
      "Epoch 674/1000\n",
      "25/25 [==============================] - 0s 1000us/step - loss: 3.4997e-04\n",
      "Epoch 675/1000\n",
      "25/25 [==============================] - 0s 946us/step - loss: 2.4000e-04\n",
      "Epoch 676/1000\n",
      "25/25 [==============================] - 0s 970us/step - loss: 4.0057e-04\n",
      "Epoch 677/1000\n",
      "25/25 [==============================] - 0s 962us/step - loss: 5.6574e-04\n",
      "Epoch 678/1000\n",
      "25/25 [==============================] - 0s 971us/step - loss: 2.2169e-04\n",
      "Epoch 679/1000\n",
      "25/25 [==============================] - 0s 956us/step - loss: 3.9820e-04\n",
      "Epoch 680/1000\n",
      "25/25 [==============================] - 0s 973us/step - loss: 2.5345e-04\n",
      "Epoch 681/1000\n",
      "25/25 [==============================] - 0s 972us/step - loss: 2.4579e-04\n",
      "Epoch 682/1000\n",
      "25/25 [==============================] - 0s 985us/step - loss: 1.9589e-04\n",
      "Epoch 683/1000\n",
      "25/25 [==============================] - 0s 996us/step - loss: 1.8725e-04\n",
      "Epoch 684/1000\n",
      "25/25 [==============================] - 0s 976us/step - loss: 2.9035e-04\n",
      "Epoch 685/1000\n",
      "25/25 [==============================] - 0s 996us/step - loss: 2.9415e-04\n",
      "Epoch 686/1000\n",
      "25/25 [==============================] - 0s 972us/step - loss: 1.5303e-04\n",
      "Epoch 687/1000\n",
      "25/25 [==============================] - 0s 941us/step - loss: 3.4416e-04\n",
      "Epoch 688/1000\n",
      "25/25 [==============================] - 0s 990us/step - loss: 1.5828e-04\n",
      "Epoch 689/1000\n",
      "25/25 [==============================] - 0s 982us/step - loss: 1.8818e-04\n",
      "Epoch 690/1000\n",
      "25/25 [==============================] - 0s 990us/step - loss: 3.9973e-04\n",
      "Epoch 691/1000\n",
      "25/25 [==============================] - 0s 985us/step - loss: 2.6410e-04\n",
      "Epoch 692/1000\n",
      "25/25 [==============================] - 0s 971us/step - loss: 1.4565e-04\n",
      "Epoch 693/1000\n",
      "25/25 [==============================] - 0s 963us/step - loss: 1.5889e-04\n",
      "Epoch 694/1000\n",
      "25/25 [==============================] - 0s 954us/step - loss: 1.9264e-04\n",
      "Epoch 695/1000\n",
      "25/25 [==============================] - 0s 1ms/step - loss: 9.8740e-05\n",
      "Epoch 696/1000\n",
      "25/25 [==============================] - 0s 976us/step - loss: 1.8073e-04\n",
      "Epoch 697/1000\n",
      "25/25 [==============================] - 0s 983us/step - loss: 9.9719e-05\n",
      "Epoch 698/1000\n",
      "25/25 [==============================] - 0s 961us/step - loss: 1.9988e-04\n",
      "Epoch 699/1000\n",
      "25/25 [==============================] - 0s 975us/step - loss: 3.0223e-04\n",
      "Epoch 700/1000\n",
      "25/25 [==============================] - 0s 1ms/step - loss: 2.6788e-04\n",
      "Epoch 701/1000\n",
      "25/25 [==============================] - 0s 1ms/step - loss: 2.7118e-04\n",
      "Epoch 702/1000\n",
      "25/25 [==============================] - 0s 1ms/step - loss: 2.7275e-04\n",
      "Epoch 703/1000\n",
      "25/25 [==============================] - 0s 1ms/step - loss: 4.2023e-04\n",
      "Epoch 704/1000\n",
      "25/25 [==============================] - 0s 1ms/step - loss: 3.3686e-04\n",
      "Epoch 705/1000\n",
      "25/25 [==============================] - 0s 972us/step - loss: 2.7896e-04\n",
      "Epoch 706/1000\n",
      "25/25 [==============================] - 0s 978us/step - loss: 3.0369e-04\n",
      "Epoch 707/1000\n",
      "25/25 [==============================] - 0s 976us/step - loss: 1.6006e-04\n",
      "Epoch 708/1000\n",
      "25/25 [==============================] - 0s 964us/step - loss: 1.6515e-04\n",
      "Epoch 709/1000\n",
      "25/25 [==============================] - 0s 966us/step - loss: 2.5629e-04\n",
      "Epoch 710/1000\n",
      "25/25 [==============================] - 0s 964us/step - loss: 2.7526e-04\n",
      "Epoch 711/1000\n",
      "25/25 [==============================] - 0s 964us/step - loss: 3.6159e-04\n",
      "Epoch 712/1000\n",
      "25/25 [==============================] - 0s 972us/step - loss: 2.7323e-04\n",
      "Epoch 713/1000\n",
      "25/25 [==============================] - 0s 1ms/step - loss: 2.7799e-04\n",
      "Epoch 714/1000\n",
      "25/25 [==============================] - 0s 973us/step - loss: 5.3725e-04\n",
      "Epoch 715/1000\n",
      "25/25 [==============================] - 0s 974us/step - loss: 2.6525e-04\n",
      "Epoch 716/1000\n",
      "25/25 [==============================] - 0s 976us/step - loss: 2.6617e-04\n",
      "Epoch 717/1000\n",
      "25/25 [==============================] - 0s 997us/step - loss: 1.5622e-04\n",
      "Epoch 718/1000\n",
      "25/25 [==============================] - 0s 973us/step - loss: 2.1662e-04\n",
      "Epoch 719/1000\n",
      "25/25 [==============================] - 0s 990us/step - loss: 1.5478e-04\n",
      "Epoch 720/1000\n",
      "25/25 [==============================] - 0s 962us/step - loss: 1.8754e-04\n",
      "Epoch 721/1000\n",
      "25/25 [==============================] - 0s 968us/step - loss: 2.6106e-04\n",
      "Epoch 722/1000\n",
      "25/25 [==============================] - 0s 958us/step - loss: 1.9286e-04\n",
      "Epoch 723/1000\n",
      "25/25 [==============================] - 0s 988us/step - loss: 3.0898e-04\n",
      "Epoch 724/1000\n",
      "25/25 [==============================] - 0s 983us/step - loss: 1.8413e-04\n",
      "Epoch 725/1000\n",
      "25/25 [==============================] - 0s 978us/step - loss: 1.1988e-04\n",
      "Epoch 726/1000\n",
      "25/25 [==============================] - 0s 988us/step - loss: 1.7083e-04\n",
      "Epoch 727/1000\n",
      "25/25 [==============================] - 0s 975us/step - loss: 2.1146e-04\n",
      "Epoch 728/1000\n",
      "25/25 [==============================] - 0s 973us/step - loss: 1.4196e-04\n",
      "Epoch 729/1000\n",
      "25/25 [==============================] - 0s 978us/step - loss: 3.2142e-04\n",
      "Epoch 730/1000\n",
      "25/25 [==============================] - 0s 970us/step - loss: 1.9718e-04\n",
      "Epoch 731/1000\n",
      "25/25 [==============================] - 0s 981us/step - loss: 2.1430e-04\n",
      "Epoch 732/1000\n",
      "25/25 [==============================] - 0s 986us/step - loss: 2.7429e-04\n",
      "Epoch 733/1000\n",
      "25/25 [==============================] - 0s 999us/step - loss: 1.3794e-04\n",
      "Epoch 734/1000\n",
      "25/25 [==============================] - 0s 963us/step - loss: 5.1227e-04\n",
      "Epoch 735/1000\n",
      "25/25 [==============================] - 0s 971us/step - loss: 2.7350e-04\n",
      "Epoch 736/1000\n",
      "25/25 [==============================] - 0s 985us/step - loss: 2.8783e-04\n",
      "Epoch 737/1000\n",
      "25/25 [==============================] - 0s 974us/step - loss: 5.1329e-04\n",
      "Epoch 738/1000\n",
      "25/25 [==============================] - 0s 970us/step - loss: 4.3271e-04\n",
      "Epoch 739/1000\n",
      "25/25 [==============================] - 0s 974us/step - loss: 1.8557e-04\n",
      "Epoch 740/1000\n",
      "25/25 [==============================] - 0s 999us/step - loss: 2.2674e-04\n",
      "Epoch 741/1000\n",
      "25/25 [==============================] - 0s 994us/step - loss: 2.2162e-04\n",
      "Epoch 742/1000\n",
      "25/25 [==============================] - 0s 978us/step - loss: 2.3482e-04\n",
      "Epoch 743/1000\n",
      "25/25 [==============================] - 0s 973us/step - loss: 1.5721e-04\n",
      "Epoch 744/1000\n",
      "25/25 [==============================] - 0s 976us/step - loss: 2.1690e-04\n",
      "Epoch 745/1000\n",
      "25/25 [==============================] - 0s 952us/step - loss: 2.6381e-04\n",
      "Epoch 746/1000\n",
      "25/25 [==============================] - 0s 977us/step - loss: 1.7613e-04\n",
      "Epoch 747/1000\n",
      "25/25 [==============================] - 0s 941us/step - loss: 1.9516e-04\n",
      "Epoch 748/1000\n",
      "25/25 [==============================] - 0s 990us/step - loss: 2.2762e-04\n",
      "Epoch 749/1000\n",
      "25/25 [==============================] - 0s 1ms/step - loss: 1.7675e-04\n",
      "Epoch 750/1000\n",
      "25/25 [==============================] - 0s 973us/step - loss: 4.5196e-04\n",
      "Epoch 751/1000\n",
      "25/25 [==============================] - 0s 978us/step - loss: 3.3770e-04\n",
      "Epoch 752/1000\n",
      "25/25 [==============================] - 0s 977us/step - loss: 2.1349e-04\n",
      "Epoch 753/1000\n",
      "25/25 [==============================] - 0s 945us/step - loss: 1.5807e-04\n",
      "Epoch 754/1000\n",
      "25/25 [==============================] - 0s 975us/step - loss: 1.4494e-04\n",
      "Epoch 755/1000\n",
      "25/25 [==============================] - 0s 977us/step - loss: 2.6129e-04\n",
      "Epoch 756/1000\n",
      "25/25 [==============================] - 0s 976us/step - loss: 2.4373e-04\n",
      "Epoch 757/1000\n",
      "25/25 [==============================] - 0s 988us/step - loss: 2.6866e-04\n",
      "Epoch 758/1000\n",
      "25/25 [==============================] - 0s 982us/step - loss: 1.1610e-04\n",
      "Epoch 759/1000\n",
      "25/25 [==============================] - 0s 1ms/step - loss: 1.3597e-04\n",
      "Epoch 760/1000\n",
      "25/25 [==============================] - 0s 1ms/step - loss: 3.1991e-04\n",
      "Epoch 761/1000\n",
      "25/25 [==============================] - 0s 1ms/step - loss: 2.3414e-04\n",
      "Epoch 762/1000\n",
      "25/25 [==============================] - 0s 1ms/step - loss: 2.1817e-04\n",
      "Epoch 763/1000\n",
      "25/25 [==============================] - 0s 1ms/step - loss: 1.8194e-04\n",
      "Epoch 764/1000\n",
      "25/25 [==============================] - 0s 1000us/step - loss: 2.5714e-04\n",
      "Epoch 765/1000\n",
      "25/25 [==============================] - 0s 1ms/step - loss: 2.2579e-04\n",
      "Epoch 766/1000\n",
      "25/25 [==============================] - 0s 1ms/step - loss: 1.2845e-04\n",
      "Epoch 767/1000\n",
      "25/25 [==============================] - 0s 1ms/step - loss: 2.7378e-04\n",
      "Epoch 768/1000\n",
      "25/25 [==============================] - 0s 984us/step - loss: 1.4796e-04\n",
      "Epoch 769/1000\n",
      "25/25 [==============================] - 0s 993us/step - loss: 3.6688e-04\n",
      "Epoch 770/1000\n",
      "25/25 [==============================] - 0s 966us/step - loss: 2.3803e-04\n",
      "Epoch 771/1000\n",
      "25/25 [==============================] - 0s 988us/step - loss: 3.2409e-04\n",
      "Epoch 772/1000\n",
      "25/25 [==============================] - 0s 972us/step - loss: 2.7532e-04\n",
      "Epoch 773/1000\n",
      "25/25 [==============================] - 0s 968us/step - loss: 5.6736e-04\n",
      "Epoch 774/1000\n",
      "25/25 [==============================] - 0s 969us/step - loss: 6.9172e-04\n",
      "Epoch 775/1000\n",
      "25/25 [==============================] - 0s 1ms/step - loss: 2.9658e-04\n",
      "Epoch 776/1000\n",
      "25/25 [==============================] - 0s 964us/step - loss: 2.6845e-04\n",
      "Epoch 777/1000\n",
      "25/25 [==============================] - 0s 975us/step - loss: 1.7775e-04\n",
      "Epoch 778/1000\n",
      "25/25 [==============================] - 0s 974us/step - loss: 2.6498e-04\n",
      "Epoch 779/1000\n",
      "25/25 [==============================] - 0s 993us/step - loss: 3.1017e-04\n",
      "Epoch 780/1000\n",
      "25/25 [==============================] - 0s 991us/step - loss: 2.8878e-04\n",
      "Epoch 781/1000\n",
      "25/25 [==============================] - 0s 995us/step - loss: 3.1500e-04\n",
      "Epoch 782/1000\n",
      "25/25 [==============================] - 0s 1ms/step - loss: 1.3156e-04\n",
      "Epoch 783/1000\n",
      "25/25 [==============================] - 0s 969us/step - loss: 2.8963e-04\n",
      "Epoch 784/1000\n",
      "25/25 [==============================] - 0s 960us/step - loss: 1.3783e-04\n",
      "Epoch 785/1000\n",
      "25/25 [==============================] - 0s 971us/step - loss: 2.8016e-04\n",
      "Epoch 786/1000\n",
      "25/25 [==============================] - 0s 982us/step - loss: 3.6907e-04\n",
      "Epoch 787/1000\n",
      "25/25 [==============================] - 0s 988us/step - loss: 3.5914e-04\n",
      "Epoch 788/1000\n",
      "25/25 [==============================] - 0s 991us/step - loss: 1.1087e-04\n",
      "Epoch 789/1000\n",
      "25/25 [==============================] - 0s 980us/step - loss: 1.3276e-04\n",
      "Epoch 790/1000\n",
      "25/25 [==============================] - 0s 975us/step - loss: 1.5841e-04\n",
      "Epoch 791/1000\n",
      "25/25 [==============================] - 0s 972us/step - loss: 2.8625e-04\n",
      "Epoch 792/1000\n",
      "25/25 [==============================] - 0s 964us/step - loss: 1.7421e-04\n",
      "Epoch 793/1000\n",
      "25/25 [==============================] - 0s 980us/step - loss: 1.5155e-04\n",
      "Epoch 794/1000\n",
      "25/25 [==============================] - 0s 977us/step - loss: 1.5965e-04\n",
      "Epoch 795/1000\n",
      "25/25 [==============================] - 0s 976us/step - loss: 1.9586e-04\n",
      "Epoch 796/1000\n",
      "25/25 [==============================] - 0s 972us/step - loss: 2.7090e-04\n",
      "Epoch 797/1000\n",
      "25/25 [==============================] - 0s 985us/step - loss: 1.7595e-04\n",
      "Epoch 798/1000\n",
      "25/25 [==============================] - 0s 974us/step - loss: 1.6911e-04\n",
      "Epoch 799/1000\n",
      "25/25 [==============================] - 0s 968us/step - loss: 3.9015e-04\n",
      "Epoch 800/1000\n",
      "25/25 [==============================] - 0s 959us/step - loss: 2.9985e-04\n",
      "Epoch 801/1000\n",
      "25/25 [==============================] - 0s 930us/step - loss: 1.8948e-04\n",
      "Epoch 802/1000\n",
      "25/25 [==============================] - 0s 997us/step - loss: 1.8528e-04\n",
      "Epoch 803/1000\n",
      "25/25 [==============================] - 0s 995us/step - loss: 1.9558e-04\n",
      "Epoch 804/1000\n",
      "25/25 [==============================] - 0s 979us/step - loss: 3.0976e-04\n",
      "Epoch 805/1000\n",
      "25/25 [==============================] - 0s 948us/step - loss: 3.7058e-04\n",
      "Epoch 806/1000\n",
      "25/25 [==============================] - 0s 998us/step - loss: 2.0155e-04\n",
      "Epoch 807/1000\n",
      "25/25 [==============================] - 0s 979us/step - loss: 3.3707e-04\n",
      "Epoch 808/1000\n",
      "25/25 [==============================] - 0s 977us/step - loss: 2.2565e-04\n",
      "Epoch 809/1000\n",
      "25/25 [==============================] - 0s 989us/step - loss: 3.3387e-04\n",
      "Epoch 810/1000\n",
      "25/25 [==============================] - 0s 985us/step - loss: 1.9798e-04\n",
      "Epoch 811/1000\n",
      "25/25 [==============================] - 0s 976us/step - loss: 2.6062e-04\n",
      "Epoch 812/1000\n",
      "25/25 [==============================] - 0s 991us/step - loss: 2.3303e-04\n",
      "Epoch 813/1000\n",
      "25/25 [==============================] - 0s 979us/step - loss: 2.4755e-04\n",
      "Epoch 814/1000\n",
      "25/25 [==============================] - 0s 959us/step - loss: 2.5554e-04\n",
      "Epoch 815/1000\n",
      "25/25 [==============================] - 0s 975us/step - loss: 1.6692e-04\n",
      "Epoch 816/1000\n",
      "25/25 [==============================] - 0s 987us/step - loss: 1.5712e-04\n",
      "Epoch 817/1000\n",
      "25/25 [==============================] - 0s 972us/step - loss: 2.3223e-04\n",
      "Epoch 818/1000\n",
      "25/25 [==============================] - 0s 974us/step - loss: 4.2363e-04\n",
      "Epoch 819/1000\n",
      "25/25 [==============================] - 0s 987us/step - loss: 3.1226e-04\n",
      "Epoch 820/1000\n",
      "25/25 [==============================] - 0s 984us/step - loss: 2.8584e-04\n",
      "Epoch 821/1000\n",
      "25/25 [==============================] - 0s 975us/step - loss: 1.6600e-04\n",
      "Epoch 822/1000\n",
      "25/25 [==============================] - 0s 932us/step - loss: 2.2120e-04\n",
      "Epoch 823/1000\n",
      "25/25 [==============================] - 0s 967us/step - loss: 1.7099e-04\n",
      "Epoch 824/1000\n",
      "25/25 [==============================] - 0s 977us/step - loss: 1.9915e-04\n",
      "Epoch 825/1000\n",
      "25/25 [==============================] - 0s 970us/step - loss: 5.2555e-04\n",
      "Epoch 826/1000\n",
      "25/25 [==============================] - 0s 1ms/step - loss: 2.4656e-04\n",
      "Epoch 827/1000\n",
      "25/25 [==============================] - 0s 991us/step - loss: 2.7855e-04\n",
      "Epoch 828/1000\n",
      "25/25 [==============================] - 0s 985us/step - loss: 9.4273e-05\n",
      "Epoch 829/1000\n",
      "25/25 [==============================] - 0s 980us/step - loss: 1.3380e-04\n",
      "Epoch 830/1000\n",
      "25/25 [==============================] - 0s 982us/step - loss: 2.4636e-04\n",
      "Epoch 831/1000\n",
      "25/25 [==============================] - 0s 972us/step - loss: 1.0884e-04\n",
      "Epoch 832/1000\n",
      "25/25 [==============================] - 0s 975us/step - loss: 3.0410e-04\n",
      "Epoch 833/1000\n",
      "25/25 [==============================] - 0s 964us/step - loss: 1.9697e-04\n",
      "Epoch 834/1000\n",
      "25/25 [==============================] - 0s 984us/step - loss: 1.8320e-04\n",
      "Epoch 835/1000\n",
      "25/25 [==============================] - 0s 981us/step - loss: 2.6964e-04\n",
      "Epoch 836/1000\n",
      "25/25 [==============================] - 0s 974us/step - loss: 1.5071e-04\n",
      "Epoch 837/1000\n",
      "25/25 [==============================] - 0s 988us/step - loss: 2.4358e-04\n",
      "Epoch 838/1000\n",
      "25/25 [==============================] - 0s 991us/step - loss: 1.4172e-04\n",
      "Epoch 839/1000\n",
      "25/25 [==============================] - 0s 985us/step - loss: 1.9115e-04\n",
      "Epoch 840/1000\n",
      "25/25 [==============================] - 0s 972us/step - loss: 8.7096e-05\n",
      "Epoch 841/1000\n",
      "25/25 [==============================] - 0s 987us/step - loss: 1.7268e-04\n",
      "Epoch 842/1000\n",
      "25/25 [==============================] - 0s 967us/step - loss: 2.9236e-04\n",
      "Epoch 843/1000\n",
      "25/25 [==============================] - 0s 971us/step - loss: 1.7963e-04\n",
      "Epoch 844/1000\n",
      "25/25 [==============================] - 0s 979us/step - loss: 1.4964e-04\n",
      "Epoch 845/1000\n",
      "25/25 [==============================] - 0s 984us/step - loss: 2.7314e-04\n",
      "Epoch 846/1000\n",
      "25/25 [==============================] - 0s 990us/step - loss: 2.8425e-04\n",
      "Epoch 847/1000\n",
      "25/25 [==============================] - 0s 951us/step - loss: 1.4875e-04\n",
      "Epoch 848/1000\n",
      "25/25 [==============================] - 0s 980us/step - loss: 1.4562e-04\n",
      "Epoch 849/1000\n",
      "25/25 [==============================] - 0s 974us/step - loss: 2.3200e-04\n",
      "Epoch 850/1000\n",
      "25/25 [==============================] - 0s 1ms/step - loss: 7.4110e-04\n",
      "Epoch 851/1000\n",
      "25/25 [==============================] - 0s 987us/step - loss: 3.9960e-04\n",
      "Epoch 852/1000\n",
      "25/25 [==============================] - 0s 988us/step - loss: 3.2622e-04\n",
      "Epoch 853/1000\n",
      "25/25 [==============================] - 0s 946us/step - loss: 3.5892e-04\n",
      "Epoch 854/1000\n",
      "25/25 [==============================] - 0s 968us/step - loss: 3.7743e-04\n",
      "Epoch 855/1000\n",
      "25/25 [==============================] - 0s 992us/step - loss: 2.5282e-04\n",
      "Epoch 856/1000\n",
      "25/25 [==============================] - 0s 975us/step - loss: 3.5460e-04\n",
      "Epoch 857/1000\n",
      "25/25 [==============================] - 0s 973us/step - loss: 2.0359e-04\n",
      "Epoch 858/1000\n",
      "25/25 [==============================] - 0s 971us/step - loss: 2.5599e-04\n",
      "Epoch 859/1000\n",
      "25/25 [==============================] - 0s 1ms/step - loss: 4.4990e-04\n",
      "Epoch 860/1000\n",
      "25/25 [==============================] - 0s 979us/step - loss: 2.9565e-04\n",
      "Epoch 861/1000\n",
      "25/25 [==============================] - 0s 977us/step - loss: 2.3851e-04\n",
      "Epoch 862/1000\n",
      "25/25 [==============================] - 0s 961us/step - loss: 4.4803e-04\n",
      "Epoch 863/1000\n",
      "25/25 [==============================] - 0s 1000us/step - loss: 2.1585e-04\n",
      "Epoch 864/1000\n",
      "25/25 [==============================] - 0s 966us/step - loss: 2.5309e-04\n",
      "Epoch 865/1000\n",
      "25/25 [==============================] - 0s 966us/step - loss: 3.6886e-04\n",
      "Epoch 866/1000\n",
      "25/25 [==============================] - 0s 967us/step - loss: 1.2335e-04\n",
      "Epoch 867/1000\n",
      "25/25 [==============================] - 0s 984us/step - loss: 1.6606e-04\n",
      "Epoch 868/1000\n",
      "25/25 [==============================] - 0s 981us/step - loss: 3.6742e-04\n",
      "Epoch 869/1000\n",
      "25/25 [==============================] - 0s 992us/step - loss: 3.0152e-04\n",
      "Epoch 870/1000\n",
      "25/25 [==============================] - 0s 986us/step - loss: 1.2968e-04\n",
      "Epoch 871/1000\n",
      "25/25 [==============================] - 0s 986us/step - loss: 1.7863e-04\n",
      "Epoch 872/1000\n",
      "25/25 [==============================] - 0s 989us/step - loss: 2.8565e-04\n",
      "Epoch 873/1000\n",
      "25/25 [==============================] - 0s 978us/step - loss: 3.7254e-04\n",
      "Epoch 874/1000\n",
      "25/25 [==============================] - 0s 971us/step - loss: 4.2514e-04\n",
      "Epoch 875/1000\n",
      "25/25 [==============================] - 0s 982us/step - loss: 4.4083e-04\n",
      "Epoch 876/1000\n",
      "25/25 [==============================] - 0s 976us/step - loss: 5.7099e-04\n",
      "Epoch 877/1000\n",
      "25/25 [==============================] - 0s 992us/step - loss: 4.8204e-04\n",
      "Epoch 878/1000\n",
      "25/25 [==============================] - 0s 965us/step - loss: 4.3039e-04\n",
      "Epoch 879/1000\n",
      "25/25 [==============================] - 0s 994us/step - loss: 2.0297e-04\n",
      "Epoch 880/1000\n",
      "25/25 [==============================] - 0s 986us/step - loss: 3.2785e-04\n",
      "Epoch 881/1000\n",
      "25/25 [==============================] - 0s 975us/step - loss: 2.2308e-04\n",
      "Epoch 882/1000\n",
      "25/25 [==============================] - 0s 979us/step - loss: 3.9684e-04\n",
      "Epoch 883/1000\n",
      "25/25 [==============================] - 0s 959us/step - loss: 2.0478e-04\n",
      "Epoch 884/1000\n",
      "25/25 [==============================] - 0s 984us/step - loss: 1.4929e-04\n",
      "Epoch 885/1000\n",
      "25/25 [==============================] - 0s 987us/step - loss: 2.7478e-04\n",
      "Epoch 886/1000\n",
      "25/25 [==============================] - 0s 970us/step - loss: 3.3235e-04\n",
      "Epoch 887/1000\n",
      "25/25 [==============================] - 0s 975us/step - loss: 4.6644e-04\n",
      "Epoch 888/1000\n",
      "25/25 [==============================] - 0s 985us/step - loss: 3.2996e-04\n",
      "Epoch 889/1000\n",
      "25/25 [==============================] - 0s 1ms/step - loss: 3.2913e-04\n",
      "Epoch 890/1000\n",
      "25/25 [==============================] - 0s 986us/step - loss: 1.5992e-04\n",
      "Epoch 891/1000\n",
      "25/25 [==============================] - 0s 979us/step - loss: 3.1478e-04\n",
      "Epoch 892/1000\n",
      "25/25 [==============================] - 0s 988us/step - loss: 1.6113e-04\n",
      "Epoch 893/1000\n",
      "25/25 [==============================] - 0s 991us/step - loss: 1.7926e-04\n",
      "Epoch 894/1000\n",
      "25/25 [==============================] - 0s 993us/step - loss: 2.7035e-04\n",
      "Epoch 895/1000\n",
      "25/25 [==============================] - 0s 977us/step - loss: 1.4483e-04\n",
      "Epoch 896/1000\n",
      "25/25 [==============================] - 0s 1ms/step - loss: 1.9447e-04\n",
      "Epoch 897/1000\n",
      "25/25 [==============================] - 0s 995us/step - loss: 3.7808e-04\n",
      "Epoch 898/1000\n",
      "25/25 [==============================] - 0s 992us/step - loss: 1.0527e-04\n",
      "Epoch 899/1000\n",
      "25/25 [==============================] - 0s 1ms/step - loss: 3.2140e-04\n",
      "Epoch 900/1000\n",
      "25/25 [==============================] - 0s 996us/step - loss: 1.3450e-04\n",
      "Epoch 901/1000\n",
      "25/25 [==============================] - 0s 1ms/step - loss: 2.9303e-04\n",
      "Epoch 902/1000\n",
      "25/25 [==============================] - 0s 1ms/step - loss: 2.1351e-04\n",
      "Epoch 903/1000\n",
      "25/25 [==============================] - 0s 1ms/step - loss: 9.7924e-05\n",
      "Epoch 904/1000\n",
      "25/25 [==============================] - 0s 1ms/step - loss: 2.0179e-04\n",
      "Epoch 905/1000\n",
      "25/25 [==============================] - 0s 1ms/step - loss: 1.0935e-04\n",
      "Epoch 906/1000\n",
      "25/25 [==============================] - 0s 1ms/step - loss: 3.2155e-04\n",
      "Epoch 907/1000\n",
      "25/25 [==============================] - 0s 962us/step - loss: 2.1199e-04\n",
      "Epoch 908/1000\n",
      "25/25 [==============================] - 0s 996us/step - loss: 1.5478e-04\n",
      "Epoch 909/1000\n",
      "25/25 [==============================] - 0s 981us/step - loss: 2.7536e-04\n",
      "Epoch 910/1000\n",
      "25/25 [==============================] - 0s 987us/step - loss: 2.1915e-04\n",
      "Epoch 911/1000\n",
      "25/25 [==============================] - 0s 963us/step - loss: 1.4252e-04\n",
      "Epoch 912/1000\n",
      "25/25 [==============================] - 0s 977us/step - loss: 2.4632e-04\n",
      "Epoch 913/1000\n",
      "25/25 [==============================] - 0s 998us/step - loss: 1.7279e-04\n",
      "Epoch 914/1000\n",
      "25/25 [==============================] - 0s 979us/step - loss: 2.7023e-04\n",
      "Epoch 915/1000\n",
      "25/25 [==============================] - 0s 983us/step - loss: 2.0826e-04\n",
      "Epoch 916/1000\n",
      "25/25 [==============================] - 0s 994us/step - loss: 2.5494e-04\n",
      "Epoch 917/1000\n",
      "25/25 [==============================] - 0s 985us/step - loss: 2.4100e-04\n",
      "Epoch 918/1000\n",
      "25/25 [==============================] - 0s 985us/step - loss: 8.5014e-05\n",
      "Epoch 919/1000\n",
      "25/25 [==============================] - 0s 958us/step - loss: 1.3846e-04\n",
      "Epoch 920/1000\n",
      "25/25 [==============================] - 0s 993us/step - loss: 2.8070e-04\n",
      "Epoch 921/1000\n",
      "25/25 [==============================] - 0s 987us/step - loss: 1.2145e-04\n",
      "Epoch 922/1000\n",
      "25/25 [==============================] - 0s 977us/step - loss: 2.1492e-04\n",
      "Epoch 923/1000\n",
      "25/25 [==============================] - 0s 991us/step - loss: 1.5602e-04\n",
      "Epoch 924/1000\n",
      "25/25 [==============================] - 0s 985us/step - loss: 2.6159e-04\n",
      "Epoch 925/1000\n",
      "25/25 [==============================] - 0s 967us/step - loss: 1.6588e-04\n",
      "Epoch 926/1000\n",
      "25/25 [==============================] - 0s 1ms/step - loss: 2.7394e-04\n",
      "Epoch 927/1000\n",
      "25/25 [==============================] - 0s 1ms/step - loss: 3.4645e-04\n",
      "Epoch 928/1000\n",
      "25/25 [==============================] - 0s 1ms/step - loss: 2.6526e-04\n",
      "Epoch 929/1000\n",
      "25/25 [==============================] - 0s 1ms/step - loss: 2.7942e-04\n",
      "Epoch 930/1000\n",
      "25/25 [==============================] - 0s 1ms/step - loss: 1.3657e-04\n",
      "Epoch 931/1000\n",
      "25/25 [==============================] - 0s 989us/step - loss: 2.1210e-04\n",
      "Epoch 932/1000\n",
      "25/25 [==============================] - 0s 989us/step - loss: 3.1504e-04\n",
      "Epoch 933/1000\n",
      "25/25 [==============================] - 0s 1ms/step - loss: 1.9230e-04\n",
      "Epoch 934/1000\n",
      "25/25 [==============================] - 0s 981us/step - loss: 2.0443e-04\n",
      "Epoch 935/1000\n",
      "25/25 [==============================] - 0s 1ms/step - loss: 3.0869e-04\n",
      "Epoch 936/1000\n",
      "25/25 [==============================] - 0s 1ms/step - loss: 1.6591e-04\n",
      "Epoch 937/1000\n",
      "25/25 [==============================] - 0s 998us/step - loss: 2.3787e-04\n",
      "Epoch 938/1000\n",
      "25/25 [==============================] - 0s 991us/step - loss: 2.0672e-04\n",
      "Epoch 939/1000\n",
      "25/25 [==============================] - 0s 988us/step - loss: 1.6324e-04\n",
      "Epoch 940/1000\n",
      "25/25 [==============================] - 0s 970us/step - loss: 1.5011e-04\n",
      "Epoch 941/1000\n",
      "25/25 [==============================] - 0s 986us/step - loss: 1.8467e-04\n",
      "Epoch 942/1000\n",
      "25/25 [==============================] - 0s 982us/step - loss: 1.4247e-04\n",
      "Epoch 943/1000\n",
      "25/25 [==============================] - 0s 956us/step - loss: 3.2155e-04\n",
      "Epoch 944/1000\n",
      "25/25 [==============================] - 0s 982us/step - loss: 1.8484e-04\n",
      "Epoch 945/1000\n",
      "25/25 [==============================] - 0s 971us/step - loss: 1.8766e-04\n",
      "Epoch 946/1000\n",
      "25/25 [==============================] - 0s 974us/step - loss: 1.8967e-04\n",
      "Epoch 947/1000\n",
      "25/25 [==============================] - 0s 979us/step - loss: 1.5263e-04\n",
      "Epoch 948/1000\n",
      "25/25 [==============================] - 0s 968us/step - loss: 2.9678e-04\n",
      "Epoch 949/1000\n",
      "25/25 [==============================] - 0s 981us/step - loss: 1.6548e-04\n",
      "Epoch 950/1000\n",
      "25/25 [==============================] - 0s 971us/step - loss: 3.0684e-04\n",
      "Epoch 951/1000\n",
      "25/25 [==============================] - 0s 989us/step - loss: 2.0623e-04\n",
      "Epoch 952/1000\n",
      "25/25 [==============================] - 0s 976us/step - loss: 2.8112e-04\n",
      "Epoch 953/1000\n",
      "25/25 [==============================] - 0s 984us/step - loss: 1.3654e-04\n",
      "Epoch 954/1000\n",
      "25/25 [==============================] - 0s 964us/step - loss: 2.7417e-04\n",
      "Epoch 955/1000\n",
      "25/25 [==============================] - 0s 995us/step - loss: 3.2265e-04\n",
      "Epoch 956/1000\n",
      "25/25 [==============================] - 0s 967us/step - loss: 3.4626e-04\n",
      "Epoch 957/1000\n",
      "25/25 [==============================] - 0s 978us/step - loss: 3.5855e-04\n",
      "Epoch 958/1000\n",
      "25/25 [==============================] - 0s 973us/step - loss: 4.6900e-04\n",
      "Epoch 959/1000\n",
      "25/25 [==============================] - 0s 983us/step - loss: 6.1250e-04\n",
      "Epoch 960/1000\n",
      "25/25 [==============================] - 0s 1ms/step - loss: 3.5487e-04\n",
      "Epoch 961/1000\n",
      "25/25 [==============================] - 0s 1ms/step - loss: 3.2810e-04\n",
      "Epoch 962/1000\n",
      "25/25 [==============================] - 0s 1ms/step - loss: 2.6056e-04\n",
      "Epoch 963/1000\n",
      "25/25 [==============================] - 0s 1ms/step - loss: 2.8225e-04\n",
      "Epoch 964/1000\n",
      "25/25 [==============================] - 0s 1ms/step - loss: 1.7949e-04\n",
      "Epoch 965/1000\n",
      "25/25 [==============================] - 0s 975us/step - loss: 2.5401e-04\n",
      "Epoch 966/1000\n",
      "25/25 [==============================] - 0s 986us/step - loss: 2.7564e-04\n",
      "Epoch 967/1000\n",
      "25/25 [==============================] - 0s 971us/step - loss: 1.3584e-04\n",
      "Epoch 968/1000\n",
      "25/25 [==============================] - 0s 986us/step - loss: 2.3843e-04\n",
      "Epoch 969/1000\n",
      "25/25 [==============================] - 0s 988us/step - loss: 3.0121e-04\n",
      "Epoch 970/1000\n",
      "25/25 [==============================] - 0s 982us/step - loss: 1.6642e-04\n",
      "Epoch 971/1000\n",
      "25/25 [==============================] - 0s 982us/step - loss: 3.2902e-04\n",
      "Epoch 972/1000\n",
      "25/25 [==============================] - 0s 1ms/step - loss: 1.4687e-04\n",
      "Epoch 973/1000\n",
      "25/25 [==============================] - 0s 977us/step - loss: 3.1972e-04\n",
      "Epoch 974/1000\n",
      "25/25 [==============================] - 0s 991us/step - loss: 2.9286e-04\n",
      "Epoch 975/1000\n",
      "25/25 [==============================] - 0s 979us/step - loss: 2.1927e-04\n",
      "Epoch 976/1000\n",
      "25/25 [==============================] - 0s 979us/step - loss: 1.8394e-04\n",
      "Epoch 977/1000\n",
      "25/25 [==============================] - 0s 992us/step - loss: 2.6852e-04\n",
      "Epoch 978/1000\n",
      "25/25 [==============================] - 0s 996us/step - loss: 2.7362e-04\n",
      "Epoch 979/1000\n",
      "25/25 [==============================] - 0s 996us/step - loss: 1.8222e-04\n",
      "Epoch 980/1000\n",
      "25/25 [==============================] - 0s 963us/step - loss: 1.3795e-04\n",
      "Epoch 981/1000\n",
      "25/25 [==============================] - 0s 959us/step - loss: 2.8185e-04\n",
      "Epoch 982/1000\n",
      "25/25 [==============================] - 0s 970us/step - loss: 1.4210e-04\n",
      "Epoch 983/1000\n",
      "25/25 [==============================] - 0s 989us/step - loss: 3.2354e-04\n",
      "Epoch 984/1000\n",
      "25/25 [==============================] - 0s 977us/step - loss: 1.8227e-04\n",
      "Epoch 985/1000\n",
      "25/25 [==============================] - 0s 982us/step - loss: 3.2918e-04\n",
      "Epoch 986/1000\n",
      "25/25 [==============================] - 0s 994us/step - loss: 1.8395e-04\n",
      "Epoch 987/1000\n",
      "25/25 [==============================] - 0s 1ms/step - loss: 2.9757e-04\n",
      "Epoch 988/1000\n",
      "25/25 [==============================] - 0s 986us/step - loss: 3.0374e-04\n",
      "Epoch 989/1000\n",
      "25/25 [==============================] - 0s 974us/step - loss: 1.5960e-04\n",
      "Epoch 990/1000\n",
      "25/25 [==============================] - 0s 979us/step - loss: 2.8433e-04\n",
      "Epoch 991/1000\n",
      "25/25 [==============================] - 0s 980us/step - loss: 3.0713e-04\n",
      "Epoch 992/1000\n",
      "25/25 [==============================] - 0s 985us/step - loss: 5.3456e-04\n",
      "Epoch 993/1000\n",
      "25/25 [==============================] - 0s 992us/step - loss: 3.1745e-04\n",
      "Epoch 994/1000\n",
      "25/25 [==============================] - 0s 976us/step - loss: 1.4747e-04\n",
      "Epoch 995/1000\n",
      "25/25 [==============================] - 0s 968us/step - loss: 2.0112e-04\n",
      "Epoch 996/1000\n",
      "25/25 [==============================] - 0s 1ms/step - loss: 2.7931e-04\n",
      "Epoch 997/1000\n",
      "25/25 [==============================] - 0s 975us/step - loss: 2.6603e-04\n",
      "Epoch 998/1000\n",
      "25/25 [==============================] - 0s 1ms/step - loss: 1.8071e-04\n",
      "Epoch 999/1000\n",
      "25/25 [==============================] - 0s 994us/step - loss: 1.5484e-04\n",
      "Epoch 1000/1000\n",
      "25/25 [==============================] - 0s 981us/step - loss: 1.5139e-04\n"
     ]
    },
    {
     "data": {
      "text/plain": [
       "<tensorflow.python.keras.callbacks.History at 0x7ff1185adc70>"
      ]
     },
     "execution_count": 243,
     "metadata": {},
     "output_type": "execute_result"
    }
   ],
   "source": [
    "ann = tf.keras.models.Sequential()\n",
    "ann.add(tf.keras.layers.Dense(units=64, activation='relu'))\n",
    "ann.add(tf.keras.layers.Dense(units=64, activation='relu'))\n",
    "ann.add(tf.keras.layers.Dense(units=64, activation='relu'))\n",
    "ann.add(tf.keras.layers.Dense(units=64, activation='relu'))\n",
    "ann.add(tf.keras.layers.Dense(units=64, activation='relu'))\n",
    "ann.add(tf.keras.layers.Dense(units=64, activation='relu'))\n",
    "ann.add(tf.keras.layers.Dense(units=64, activation='relu'))\n",
    "ann.add(tf.keras.layers.Dense(units=64, activation='relu'))\n",
    "ann.add(tf.keras.layers.Dense(units=64, activation='relu'))\n",
    "ann.add(tf.keras.layers.Dense(units=64, activation='relu'))\n",
    "ann.add(tf.keras.layers.Dense(units=64, activation='relu'))\n",
    "ann.add(tf.keras.layers.Dense(units=64, activation='relu'))\n",
    "\n",
    "ann.add(tf.keras.layers.Dense(units=1))\n",
    "ann.compile(optimizer = 'adam', loss = 'mean_squared_error')\n",
    "ann.fit(X_train, y_train, batch_size = 32, epochs = 1000, verbose=1)"
   ]
  },
  {
   "cell_type": "code",
   "execution_count": 244,
   "id": "ff4f9cbf-2bb8-4b29-aebe-3cccf032a8fe",
   "metadata": {},
   "outputs": [
    {
     "name": "stdout",
     "output_type": "stream",
     "text": [
      "mean_squared_error: 0.00019869699382417234\n",
      "neg_mean_squared_error: 0.014095992119186657\n",
      "r2: 0.9504266973360911\n"
     ]
    }
   ],
   "source": [
    "print(\"mean_squared_error:\", mean_squared_error(y_test, ann.predict(X_test)))\n",
    "print(\"neg_mean_squared_error:\", mean_squared_error(y_test, ann.predict(X_test), squared=False))\n",
    "print(\"r2:\", r2_score(y_test, ann.predict(X_test)))"
   ]
  },
  {
   "cell_type": "code",
   "execution_count": 245,
   "id": "ba9df244-6fc5-4d41-bb0c-ee9504bb426c",
   "metadata": {},
   "outputs": [
    {
     "data": {
      "text/html": [
       "<div>\n",
       "<style scoped>\n",
       "    .dataframe tbody tr th:only-of-type {\n",
       "        vertical-align: middle;\n",
       "    }\n",
       "\n",
       "    .dataframe tbody tr th {\n",
       "        vertical-align: top;\n",
       "    }\n",
       "\n",
       "    .dataframe thead th {\n",
       "        text-align: right;\n",
       "    }\n",
       "</style>\n",
       "<table border=\"1\" class=\"dataframe\">\n",
       "  <thead>\n",
       "    <tr style=\"text-align: right;\">\n",
       "      <th></th>\n",
       "      <th>Predictions</th>\n",
       "      <th>Actuals</th>\n",
       "      <th>Diff</th>\n",
       "    </tr>\n",
       "  </thead>\n",
       "  <tbody>\n",
       "    <tr>\n",
       "      <th>0</th>\n",
       "      <td>0.744197</td>\n",
       "      <td>0.745251</td>\n",
       "      <td>-0.001054</td>\n",
       "    </tr>\n",
       "    <tr>\n",
       "      <th>1</th>\n",
       "      <td>0.796159</td>\n",
       "      <td>0.807192</td>\n",
       "      <td>-0.011032</td>\n",
       "    </tr>\n",
       "    <tr>\n",
       "      <th>2</th>\n",
       "      <td>0.772687</td>\n",
       "      <td>0.766747</td>\n",
       "      <td>0.005940</td>\n",
       "    </tr>\n",
       "    <tr>\n",
       "      <th>3</th>\n",
       "      <td>0.807060</td>\n",
       "      <td>0.795058</td>\n",
       "      <td>0.012002</td>\n",
       "    </tr>\n",
       "    <tr>\n",
       "      <th>4</th>\n",
       "      <td>0.812958</td>\n",
       "      <td>0.812411</td>\n",
       "      <td>0.000547</td>\n",
       "    </tr>\n",
       "    <tr>\n",
       "      <th>...</th>\n",
       "      <td>...</td>\n",
       "      <td>...</td>\n",
       "      <td>...</td>\n",
       "    </tr>\n",
       "    <tr>\n",
       "      <th>195</th>\n",
       "      <td>0.762087</td>\n",
       "      <td>0.758284</td>\n",
       "      <td>0.003803</td>\n",
       "    </tr>\n",
       "    <tr>\n",
       "      <th>196</th>\n",
       "      <td>0.842198</td>\n",
       "      <td>0.850687</td>\n",
       "      <td>-0.008489</td>\n",
       "    </tr>\n",
       "    <tr>\n",
       "      <th>197</th>\n",
       "      <td>0.872905</td>\n",
       "      <td>0.882541</td>\n",
       "      <td>-0.009636</td>\n",
       "    </tr>\n",
       "    <tr>\n",
       "      <th>198</th>\n",
       "      <td>0.777659</td>\n",
       "      <td>0.781551</td>\n",
       "      <td>-0.003892</td>\n",
       "    </tr>\n",
       "    <tr>\n",
       "      <th>199</th>\n",
       "      <td>0.715365</td>\n",
       "      <td>0.715422</td>\n",
       "      <td>-0.000057</td>\n",
       "    </tr>\n",
       "  </tbody>\n",
       "</table>\n",
       "<p>200 rows × 3 columns</p>\n",
       "</div>"
      ],
      "text/plain": [
       "     Predictions   Actuals      Diff\n",
       "0       0.744197  0.745251 -0.001054\n",
       "1       0.796159  0.807192 -0.011032\n",
       "2       0.772687  0.766747  0.005940\n",
       "3       0.807060  0.795058  0.012002\n",
       "4       0.812958  0.812411  0.000547\n",
       "..           ...       ...       ...\n",
       "195     0.762087  0.758284  0.003803\n",
       "196     0.842198  0.850687 -0.008489\n",
       "197     0.872905  0.882541 -0.009636\n",
       "198     0.777659  0.781551 -0.003892\n",
       "199     0.715365  0.715422 -0.000057\n",
       "\n",
       "[200 rows x 3 columns]"
      ]
     },
     "execution_count": 245,
     "metadata": {},
     "output_type": "execute_result"
    }
   ],
   "source": [
    "prediction = ann.predict(X_test)\n",
    "\n",
    "res_ann = pd.DataFrame()\n",
    "res_ann[\"Predictions\"] = pd.Series(prediction.ravel())\n",
    "res_ann[\"Actuals\"] = y_test.values\n",
    "res_ann[\"Diff\"] = res_ann.Predictions - res_ann.Actuals\n",
    "res_ann"
   ]
  },
  {
   "cell_type": "code",
   "execution_count": 246,
   "id": "563731d1-5d76-45fb-bcbc-cfea8b6b1c93",
   "metadata": {},
   "outputs": [
    {
     "data": {
      "text/html": [
       "<div>\n",
       "<style scoped>\n",
       "    .dataframe tbody tr th:only-of-type {\n",
       "        vertical-align: middle;\n",
       "    }\n",
       "\n",
       "    .dataframe tbody tr th {\n",
       "        vertical-align: top;\n",
       "    }\n",
       "\n",
       "    .dataframe thead th {\n",
       "        text-align: right;\n",
       "    }\n",
       "</style>\n",
       "<table border=\"1\" class=\"dataframe\">\n",
       "  <thead>\n",
       "    <tr style=\"text-align: right;\">\n",
       "      <th></th>\n",
       "      <th>Predictions</th>\n",
       "      <th>Actuals</th>\n",
       "      <th>Diff</th>\n",
       "    </tr>\n",
       "  </thead>\n",
       "  <tbody>\n",
       "    <tr>\n",
       "      <th>count</th>\n",
       "      <td>200.000000</td>\n",
       "      <td>200.000000</td>\n",
       "      <td>200.000000</td>\n",
       "    </tr>\n",
       "    <tr>\n",
       "      <th>mean</th>\n",
       "      <td>0.811816</td>\n",
       "      <td>0.818345</td>\n",
       "      <td>-0.006529</td>\n",
       "    </tr>\n",
       "    <tr>\n",
       "      <th>std</th>\n",
       "      <td>0.059476</td>\n",
       "      <td>0.063469</td>\n",
       "      <td>0.012524</td>\n",
       "    </tr>\n",
       "    <tr>\n",
       "      <th>min</th>\n",
       "      <td>0.680616</td>\n",
       "      <td>0.684559</td>\n",
       "      <td>-0.088876</td>\n",
       "    </tr>\n",
       "    <tr>\n",
       "      <th>25%</th>\n",
       "      <td>0.772274</td>\n",
       "      <td>0.772292</td>\n",
       "      <td>-0.011179</td>\n",
       "    </tr>\n",
       "    <tr>\n",
       "      <th>50%</th>\n",
       "      <td>0.805708</td>\n",
       "      <td>0.813249</td>\n",
       "      <td>-0.004431</td>\n",
       "    </tr>\n",
       "    <tr>\n",
       "      <th>75%</th>\n",
       "      <td>0.843751</td>\n",
       "      <td>0.852951</td>\n",
       "      <td>-0.000335</td>\n",
       "    </tr>\n",
       "    <tr>\n",
       "      <th>max</th>\n",
       "      <td>1.006948</td>\n",
       "      <td>1.000000</td>\n",
       "      <td>0.032140</td>\n",
       "    </tr>\n",
       "  </tbody>\n",
       "</table>\n",
       "</div>"
      ],
      "text/plain": [
       "       Predictions     Actuals        Diff\n",
       "count   200.000000  200.000000  200.000000\n",
       "mean      0.811816    0.818345   -0.006529\n",
       "std       0.059476    0.063469    0.012524\n",
       "min       0.680616    0.684559   -0.088876\n",
       "25%       0.772274    0.772292   -0.011179\n",
       "50%       0.805708    0.813249   -0.004431\n",
       "75%       0.843751    0.852951   -0.000335\n",
       "max       1.006948    1.000000    0.032140"
      ]
     },
     "execution_count": 246,
     "metadata": {},
     "output_type": "execute_result"
    }
   ],
   "source": [
    "res_ann.describe()"
   ]
  },
  {
   "cell_type": "code",
   "execution_count": 247,
   "id": "415d684d-1591-48f3-a311-bf2296db5f95",
   "metadata": {},
   "outputs": [
    {
     "data": {
      "application/vnd.plotly.v1+json": {
       "config": {
        "plotlyServerURL": "https://plot.ly"
       },
       "data": [
        {
         "hovertemplate": "Actuals=%{x}<br>Predictions=%{y}<extra></extra>",
         "legendgroup": "",
         "marker": {
          "color": "#636efa",
          "symbol": "circle"
         },
         "mode": "markers",
         "name": "",
         "orientation": "v",
         "showlegend": false,
         "type": "scatter",
         "x": [
          0.74525122,
          0.80719154,
          0.76674695,
          0.79505772,
          0.81241101,
          0.86134701,
          0.90468812,
          0.85103009,
          0.77182039,
          0.70066118,
          0.81768832,
          1,
          0.78305576,
          0.74833171,
          0.82660331,
          0.78962693,
          0.89947619,
          0.85469652,
          0.78904825,
          0.75907567,
          0.7677634,
          0.89400282,
          0.81870602,
          0.80720134,
          0.82477871,
          0.77418435,
          0.81551534,
          0.80496574,
          0.79328858,
          0.7676004,
          0.88804641,
          0.82193679,
          0.78369663,
          1,
          0.82827362,
          0.70000039,
          0.89584094,
          0.76334157,
          0.82965901,
          0.8591451,
          0.73621553,
          0.89156141,
          0.85197427,
          0.76741907,
          0.85460019,
          0.85626535,
          0.80664068,
          0.77793174,
          0.84350456,
          0.94983503,
          0.90798819,
          0.83991976,
          0.79963788,
          0.91142379,
          0.80382829,
          0.95146776,
          0.85317481,
          0.79540472,
          0.87825293,
          0.83144058,
          0.84012413,
          0.83410714,
          0.88673818,
          0.92451575,
          0.80283011,
          0.71247567,
          0.81368294,
          0.72823401,
          0.89870977,
          0.78180562,
          0.80434532,
          0.77088727,
          0.7683598,
          0.76868934,
          0.89265665,
          0.79975868,
          0.75328916,
          0.84350379,
          0.90041445,
          0.96130031,
          0.86591302,
          0.78830362,
          0.81096454,
          0.86696688,
          0.88232881,
          0.86075833,
          0.81866559,
          0.7724488,
          0.80974095,
          0.74301044,
          0.71645331,
          0.77591164,
          0.74799494,
          0.76977625,
          0.90410347,
          0.82444617,
          0.76988357,
          0.78322412,
          0.83006116,
          0.74568305,
          0.93951833,
          0.78738665,
          0.80203096,
          0.75346368,
          0.83616868,
          0.77596526,
          0.85853838,
          0.87074096,
          0.90011555,
          0.81530551,
          0.79846428,
          0.81752814,
          0.83259718,
          0.70420052,
          0.81281486,
          0.76300219,
          0.81373223,
          0.73862917,
          0.76413299,
          0.73199534,
          0.83969023,
          0.77430318,
          0.81680246,
          0.80486503,
          0.78009319,
          0.88080692,
          0.91403331,
          0.8285439,
          0.7347921,
          0.79928106,
          0.8306354,
          0.76650118,
          0.81836356,
          0.81742643,
          0.82082126,
          0.80340467,
          0.76381847,
          0.79675245,
          0.77562264,
          0.88569823,
          0.77929651,
          0.87414479,
          0.79610225,
          0.75697736,
          0.95682483,
          0.71413569,
          0.77284964,
          0.74737445,
          0.68455894,
          0.77475956,
          0.819557,
          0.87584641,
          0.80592936,
          1,
          1,
          0.7816967,
          0.86401906,
          0.76521486,
          0.83460262,
          0.81612808,
          0.7678533,
          0.82487981,
          0.82503265,
          0.79801942,
          0.83243185,
          0.81972325,
          0.83719985,
          0.76424533,
          0.87112882,
          0.79539807,
          0.71267834,
          0.79264889,
          0.75315688,
          0.79964138,
          0.8430687,
          0.75659944,
          0.8528759,
          0.83471864,
          0.85078669,
          0.77649589,
          0.92300465,
          0.85127855,
          0.75638041,
          0.72179621,
          0.72855489,
          0.86814575,
          0.74708621,
          0.84087953,
          0.82841333,
          0.98656449,
          0.84940519,
          0.88367942,
          0.82980996,
          1,
          0.76509682,
          0.75828382,
          0.85068656,
          0.88254067,
          0.78155093,
          0.71542171
         ],
         "xaxis": "x",
         "y": [
          0.7441970705986023,
          0.7961591482162476,
          0.7726870775222778,
          0.8070598244667053,
          0.8129578232765198,
          0.8302239179611206,
          0.9001935124397278,
          0.8438616394996643,
          0.7520659565925598,
          0.7000867128372192,
          0.821008026599884,
          0.9865847826004028,
          0.7825809717178345,
          0.7483397126197815,
          0.8200828433036804,
          0.7922465205192566,
          0.8791362643241882,
          0.8506481051445007,
          0.7909284234046936,
          0.7552973031997681,
          0.7650508284568787,
          0.8861082196235657,
          0.8034873008728027,
          0.8004626631736755,
          0.8198364973068237,
          0.7823842763900757,
          0.8031570315361023,
          0.7761988043785095,
          0.7827894687652588,
          0.7679207921028137,
          0.8777102828025818,
          0.8215184807777405,
          0.7733288407325745,
          0.9111241698265076,
          0.8260707259178162,
          0.6988514065742493,
          0.8819603323936462,
          0.7807304263114929,
          0.833432137966156,
          0.8544178009033203,
          0.7328843474388123,
          0.8760398626327515,
          0.843714714050293,
          0.7522929310798645,
          0.8458648324012756,
          0.8450930714607239,
          0.8053606152534485,
          0.760309100151062,
          0.8419838547706604,
          0.9150915741920471,
          0.9047125577926636,
          0.8337648510932922,
          0.7775707840919495,
          0.9023485779762268,
          0.8027963042259216,
          0.9226230978965759,
          0.8382182121276855,
          0.7931154370307922,
          0.8717254996299744,
          0.8118367791175842,
          0.8322968482971191,
          0.8184944987297058,
          0.8718100786209106,
          0.9045131206512451,
          0.7941901087760925,
          0.711022138595581,
          0.8220040202140808,
          0.7257598042488098,
          0.912316620349884,
          0.7788332104682922,
          0.7869102358818054,
          0.7710105776786804,
          0.7688081860542297,
          0.7817801833152771,
          0.8591836094856262,
          0.789320170879364,
          0.7521916031837463,
          0.8364496231079102,
          0.8880900144577026,
          0.9406217932701111,
          0.8602764010429382,
          0.7945395112037659,
          0.8080588579177856,
          0.8582636713981628,
          0.867311954498291,
          0.8615019917488098,
          0.8133247494697571,
          0.7745316624641418,
          0.8020122051239014,
          0.7418439388275146,
          0.694364070892334,
          0.7782503962516785,
          0.7427017688751221,
          0.7719632983207703,
          0.8938983082771301,
          0.8318319320678711,
          0.7715697884559631,
          0.7807053327560425,
          0.8252960443496704,
          0.7624973654747009,
          0.903388261795044,
          0.7864946126937866,
          0.7815419435501099,
          0.7431124448776245,
          0.8130736947059631,
          0.7776975631713867,
          0.8398633599281311,
          0.8572277426719666,
          0.9322555661201477,
          0.8044663071632385,
          0.7770999670028687,
          0.8144760727882385,
          0.8245367407798767,
          0.7012823224067688,
          0.8089501261711121,
          0.7637447714805603,
          0.8039490580558777,
          0.7375265955924988,
          0.7597646117210388,
          0.730959415435791,
          0.8322036862373352,
          0.7591008543968201,
          0.7899572253227234,
          0.8060563206672668,
          0.7786641716957092,
          0.8675886988639832,
          0.9022594094276428,
          0.822649359703064,
          0.7369123697280884,
          0.7753655910491943,
          0.827555239200592,
          0.766523540019989,
          0.8231304883956909,
          0.8198940753936768,
          0.820065438747406,
          0.8021928668022156,
          0.7621555924415588,
          0.8086445927619934,
          0.7748090624809265,
          0.8670828938484192,
          0.7723780274391174,
          0.8611368536949158,
          0.7854198813438416,
          0.7593044638633728,
          0.9582269787788391,
          0.7102505564689636,
          0.7760996222496033,
          0.7520796656608582,
          0.6806157231330872,
          0.7718536257743835,
          0.8083591461181641,
          0.8708513379096985,
          0.7911239266395569,
          1.0069482326507568,
          0.9924461245536804,
          0.777730405330658,
          0.8581426739692688,
          0.7590436339378357,
          0.8202019333839417,
          0.811863124370575,
          0.7607071995735168,
          0.814821183681488,
          0.8273648619651794,
          0.7940484881401062,
          0.820746123790741,
          0.7975080609321594,
          0.8409806489944458,
          0.7660109400749207,
          0.8704817891120911,
          0.7890637516975403,
          0.7054740786552429,
          0.7895504236221313,
          0.7561109066009521,
          0.7967677712440491,
          0.821280300617218,
          0.7581096887588501,
          0.8524926900863647,
          0.826505720615387,
          0.8364238142967224,
          0.7763057947158813,
          0.9290080666542053,
          0.848168671131134,
          0.7564697861671448,
          0.7361158132553101,
          0.725062906742096,
          0.8526293635368347,
          0.745435357093811,
          0.8338034749031067,
          0.8101293444633484,
          0.9776355028152466,
          0.8425617814064026,
          0.9148208498954773,
          0.8092712163925171,
          0.9293917417526245,
          0.7628384232521057,
          0.7620869874954224,
          0.842197835445404,
          0.8729045391082764,
          0.7776585221290588,
          0.7153645753860474
         ],
         "yaxis": "y"
        }
       ],
       "layout": {
        "autosize": false,
        "height": 500,
        "legend": {
         "tracegroupgap": 0
        },
        "margin": {
         "t": 60
        },
        "template": {
         "data": {
          "bar": [
           {
            "error_x": {
             "color": "#2a3f5f"
            },
            "error_y": {
             "color": "#2a3f5f"
            },
            "marker": {
             "line": {
              "color": "#E5ECF6",
              "width": 0.5
             },
             "pattern": {
              "fillmode": "overlay",
              "size": 10,
              "solidity": 0.2
             }
            },
            "type": "bar"
           }
          ],
          "barpolar": [
           {
            "marker": {
             "line": {
              "color": "#E5ECF6",
              "width": 0.5
             },
             "pattern": {
              "fillmode": "overlay",
              "size": 10,
              "solidity": 0.2
             }
            },
            "type": "barpolar"
           }
          ],
          "carpet": [
           {
            "aaxis": {
             "endlinecolor": "#2a3f5f",
             "gridcolor": "white",
             "linecolor": "white",
             "minorgridcolor": "white",
             "startlinecolor": "#2a3f5f"
            },
            "baxis": {
             "endlinecolor": "#2a3f5f",
             "gridcolor": "white",
             "linecolor": "white",
             "minorgridcolor": "white",
             "startlinecolor": "#2a3f5f"
            },
            "type": "carpet"
           }
          ],
          "choropleth": [
           {
            "colorbar": {
             "outlinewidth": 0,
             "ticks": ""
            },
            "type": "choropleth"
           }
          ],
          "contour": [
           {
            "colorbar": {
             "outlinewidth": 0,
             "ticks": ""
            },
            "colorscale": [
             [
              0,
              "#0d0887"
             ],
             [
              0.1111111111111111,
              "#46039f"
             ],
             [
              0.2222222222222222,
              "#7201a8"
             ],
             [
              0.3333333333333333,
              "#9c179e"
             ],
             [
              0.4444444444444444,
              "#bd3786"
             ],
             [
              0.5555555555555556,
              "#d8576b"
             ],
             [
              0.6666666666666666,
              "#ed7953"
             ],
             [
              0.7777777777777778,
              "#fb9f3a"
             ],
             [
              0.8888888888888888,
              "#fdca26"
             ],
             [
              1,
              "#f0f921"
             ]
            ],
            "type": "contour"
           }
          ],
          "contourcarpet": [
           {
            "colorbar": {
             "outlinewidth": 0,
             "ticks": ""
            },
            "type": "contourcarpet"
           }
          ],
          "heatmap": [
           {
            "colorbar": {
             "outlinewidth": 0,
             "ticks": ""
            },
            "colorscale": [
             [
              0,
              "#0d0887"
             ],
             [
              0.1111111111111111,
              "#46039f"
             ],
             [
              0.2222222222222222,
              "#7201a8"
             ],
             [
              0.3333333333333333,
              "#9c179e"
             ],
             [
              0.4444444444444444,
              "#bd3786"
             ],
             [
              0.5555555555555556,
              "#d8576b"
             ],
             [
              0.6666666666666666,
              "#ed7953"
             ],
             [
              0.7777777777777778,
              "#fb9f3a"
             ],
             [
              0.8888888888888888,
              "#fdca26"
             ],
             [
              1,
              "#f0f921"
             ]
            ],
            "type": "heatmap"
           }
          ],
          "heatmapgl": [
           {
            "colorbar": {
             "outlinewidth": 0,
             "ticks": ""
            },
            "colorscale": [
             [
              0,
              "#0d0887"
             ],
             [
              0.1111111111111111,
              "#46039f"
             ],
             [
              0.2222222222222222,
              "#7201a8"
             ],
             [
              0.3333333333333333,
              "#9c179e"
             ],
             [
              0.4444444444444444,
              "#bd3786"
             ],
             [
              0.5555555555555556,
              "#d8576b"
             ],
             [
              0.6666666666666666,
              "#ed7953"
             ],
             [
              0.7777777777777778,
              "#fb9f3a"
             ],
             [
              0.8888888888888888,
              "#fdca26"
             ],
             [
              1,
              "#f0f921"
             ]
            ],
            "type": "heatmapgl"
           }
          ],
          "histogram": [
           {
            "marker": {
             "pattern": {
              "fillmode": "overlay",
              "size": 10,
              "solidity": 0.2
             }
            },
            "type": "histogram"
           }
          ],
          "histogram2d": [
           {
            "colorbar": {
             "outlinewidth": 0,
             "ticks": ""
            },
            "colorscale": [
             [
              0,
              "#0d0887"
             ],
             [
              0.1111111111111111,
              "#46039f"
             ],
             [
              0.2222222222222222,
              "#7201a8"
             ],
             [
              0.3333333333333333,
              "#9c179e"
             ],
             [
              0.4444444444444444,
              "#bd3786"
             ],
             [
              0.5555555555555556,
              "#d8576b"
             ],
             [
              0.6666666666666666,
              "#ed7953"
             ],
             [
              0.7777777777777778,
              "#fb9f3a"
             ],
             [
              0.8888888888888888,
              "#fdca26"
             ],
             [
              1,
              "#f0f921"
             ]
            ],
            "type": "histogram2d"
           }
          ],
          "histogram2dcontour": [
           {
            "colorbar": {
             "outlinewidth": 0,
             "ticks": ""
            },
            "colorscale": [
             [
              0,
              "#0d0887"
             ],
             [
              0.1111111111111111,
              "#46039f"
             ],
             [
              0.2222222222222222,
              "#7201a8"
             ],
             [
              0.3333333333333333,
              "#9c179e"
             ],
             [
              0.4444444444444444,
              "#bd3786"
             ],
             [
              0.5555555555555556,
              "#d8576b"
             ],
             [
              0.6666666666666666,
              "#ed7953"
             ],
             [
              0.7777777777777778,
              "#fb9f3a"
             ],
             [
              0.8888888888888888,
              "#fdca26"
             ],
             [
              1,
              "#f0f921"
             ]
            ],
            "type": "histogram2dcontour"
           }
          ],
          "mesh3d": [
           {
            "colorbar": {
             "outlinewidth": 0,
             "ticks": ""
            },
            "type": "mesh3d"
           }
          ],
          "parcoords": [
           {
            "line": {
             "colorbar": {
              "outlinewidth": 0,
              "ticks": ""
             }
            },
            "type": "parcoords"
           }
          ],
          "pie": [
           {
            "automargin": true,
            "type": "pie"
           }
          ],
          "scatter": [
           {
            "marker": {
             "colorbar": {
              "outlinewidth": 0,
              "ticks": ""
             }
            },
            "type": "scatter"
           }
          ],
          "scatter3d": [
           {
            "line": {
             "colorbar": {
              "outlinewidth": 0,
              "ticks": ""
             }
            },
            "marker": {
             "colorbar": {
              "outlinewidth": 0,
              "ticks": ""
             }
            },
            "type": "scatter3d"
           }
          ],
          "scattercarpet": [
           {
            "marker": {
             "colorbar": {
              "outlinewidth": 0,
              "ticks": ""
             }
            },
            "type": "scattercarpet"
           }
          ],
          "scattergeo": [
           {
            "marker": {
             "colorbar": {
              "outlinewidth": 0,
              "ticks": ""
             }
            },
            "type": "scattergeo"
           }
          ],
          "scattergl": [
           {
            "marker": {
             "colorbar": {
              "outlinewidth": 0,
              "ticks": ""
             }
            },
            "type": "scattergl"
           }
          ],
          "scattermapbox": [
           {
            "marker": {
             "colorbar": {
              "outlinewidth": 0,
              "ticks": ""
             }
            },
            "type": "scattermapbox"
           }
          ],
          "scatterpolar": [
           {
            "marker": {
             "colorbar": {
              "outlinewidth": 0,
              "ticks": ""
             }
            },
            "type": "scatterpolar"
           }
          ],
          "scatterpolargl": [
           {
            "marker": {
             "colorbar": {
              "outlinewidth": 0,
              "ticks": ""
             }
            },
            "type": "scatterpolargl"
           }
          ],
          "scatterternary": [
           {
            "marker": {
             "colorbar": {
              "outlinewidth": 0,
              "ticks": ""
             }
            },
            "type": "scatterternary"
           }
          ],
          "surface": [
           {
            "colorbar": {
             "outlinewidth": 0,
             "ticks": ""
            },
            "colorscale": [
             [
              0,
              "#0d0887"
             ],
             [
              0.1111111111111111,
              "#46039f"
             ],
             [
              0.2222222222222222,
              "#7201a8"
             ],
             [
              0.3333333333333333,
              "#9c179e"
             ],
             [
              0.4444444444444444,
              "#bd3786"
             ],
             [
              0.5555555555555556,
              "#d8576b"
             ],
             [
              0.6666666666666666,
              "#ed7953"
             ],
             [
              0.7777777777777778,
              "#fb9f3a"
             ],
             [
              0.8888888888888888,
              "#fdca26"
             ],
             [
              1,
              "#f0f921"
             ]
            ],
            "type": "surface"
           }
          ],
          "table": [
           {
            "cells": {
             "fill": {
              "color": "#EBF0F8"
             },
             "line": {
              "color": "white"
             }
            },
            "header": {
             "fill": {
              "color": "#C8D4E3"
             },
             "line": {
              "color": "white"
             }
            },
            "type": "table"
           }
          ]
         },
         "layout": {
          "annotationdefaults": {
           "arrowcolor": "#2a3f5f",
           "arrowhead": 0,
           "arrowwidth": 1
          },
          "autotypenumbers": "strict",
          "coloraxis": {
           "colorbar": {
            "outlinewidth": 0,
            "ticks": ""
           }
          },
          "colorscale": {
           "diverging": [
            [
             0,
             "#8e0152"
            ],
            [
             0.1,
             "#c51b7d"
            ],
            [
             0.2,
             "#de77ae"
            ],
            [
             0.3,
             "#f1b6da"
            ],
            [
             0.4,
             "#fde0ef"
            ],
            [
             0.5,
             "#f7f7f7"
            ],
            [
             0.6,
             "#e6f5d0"
            ],
            [
             0.7,
             "#b8e186"
            ],
            [
             0.8,
             "#7fbc41"
            ],
            [
             0.9,
             "#4d9221"
            ],
            [
             1,
             "#276419"
            ]
           ],
           "sequential": [
            [
             0,
             "#0d0887"
            ],
            [
             0.1111111111111111,
             "#46039f"
            ],
            [
             0.2222222222222222,
             "#7201a8"
            ],
            [
             0.3333333333333333,
             "#9c179e"
            ],
            [
             0.4444444444444444,
             "#bd3786"
            ],
            [
             0.5555555555555556,
             "#d8576b"
            ],
            [
             0.6666666666666666,
             "#ed7953"
            ],
            [
             0.7777777777777778,
             "#fb9f3a"
            ],
            [
             0.8888888888888888,
             "#fdca26"
            ],
            [
             1,
             "#f0f921"
            ]
           ],
           "sequentialminus": [
            [
             0,
             "#0d0887"
            ],
            [
             0.1111111111111111,
             "#46039f"
            ],
            [
             0.2222222222222222,
             "#7201a8"
            ],
            [
             0.3333333333333333,
             "#9c179e"
            ],
            [
             0.4444444444444444,
             "#bd3786"
            ],
            [
             0.5555555555555556,
             "#d8576b"
            ],
            [
             0.6666666666666666,
             "#ed7953"
            ],
            [
             0.7777777777777778,
             "#fb9f3a"
            ],
            [
             0.8888888888888888,
             "#fdca26"
            ],
            [
             1,
             "#f0f921"
            ]
           ]
          },
          "colorway": [
           "#636efa",
           "#EF553B",
           "#00cc96",
           "#ab63fa",
           "#FFA15A",
           "#19d3f3",
           "#FF6692",
           "#B6E880",
           "#FF97FF",
           "#FECB52"
          ],
          "font": {
           "color": "#2a3f5f"
          },
          "geo": {
           "bgcolor": "white",
           "lakecolor": "white",
           "landcolor": "#E5ECF6",
           "showlakes": true,
           "showland": true,
           "subunitcolor": "white"
          },
          "hoverlabel": {
           "align": "left"
          },
          "hovermode": "closest",
          "mapbox": {
           "style": "light"
          },
          "paper_bgcolor": "white",
          "plot_bgcolor": "#E5ECF6",
          "polar": {
           "angularaxis": {
            "gridcolor": "white",
            "linecolor": "white",
            "ticks": ""
           },
           "bgcolor": "#E5ECF6",
           "radialaxis": {
            "gridcolor": "white",
            "linecolor": "white",
            "ticks": ""
           }
          },
          "scene": {
           "xaxis": {
            "backgroundcolor": "#E5ECF6",
            "gridcolor": "white",
            "gridwidth": 2,
            "linecolor": "white",
            "showbackground": true,
            "ticks": "",
            "zerolinecolor": "white"
           },
           "yaxis": {
            "backgroundcolor": "#E5ECF6",
            "gridcolor": "white",
            "gridwidth": 2,
            "linecolor": "white",
            "showbackground": true,
            "ticks": "",
            "zerolinecolor": "white"
           },
           "zaxis": {
            "backgroundcolor": "#E5ECF6",
            "gridcolor": "white",
            "gridwidth": 2,
            "linecolor": "white",
            "showbackground": true,
            "ticks": "",
            "zerolinecolor": "white"
           }
          },
          "shapedefaults": {
           "line": {
            "color": "#2a3f5f"
           }
          },
          "ternary": {
           "aaxis": {
            "gridcolor": "white",
            "linecolor": "white",
            "ticks": ""
           },
           "baxis": {
            "gridcolor": "white",
            "linecolor": "white",
            "ticks": ""
           },
           "bgcolor": "#E5ECF6",
           "caxis": {
            "gridcolor": "white",
            "linecolor": "white",
            "ticks": ""
           }
          },
          "title": {
           "x": 0.05
          },
          "xaxis": {
           "automargin": true,
           "gridcolor": "white",
           "linecolor": "white",
           "ticks": "",
           "title": {
            "standoff": 15
           },
           "zerolinecolor": "white",
           "zerolinewidth": 2
          },
          "yaxis": {
           "automargin": true,
           "gridcolor": "white",
           "linecolor": "white",
           "ticks": "",
           "title": {
            "standoff": 15
           },
           "zerolinecolor": "white",
           "zerolinewidth": 2
          }
         }
        },
        "title": {
         "text": "Predictions - Actuals Comparison"
        },
        "width": 800,
        "xaxis": {
         "anchor": "y",
         "autorange": true,
         "domain": [
          0,
          1
         ],
         "range": [
          0.6647224969129287,
          1.0198364430870712
         ],
         "title": {
          "text": "Actuals"
         },
         "type": "linear"
        },
        "yaxis": {
         "anchor": "x",
         "autorange": true,
         "domain": [
          0,
          1
         ],
         "range": [
          0.6581900293510672,
          1.0293739264327768
         ],
         "title": {
          "text": "Predictions"
         },
         "type": "linear"
        }
       }
      },
      "text/html": [
       "<div>                            <div id=\"a628bdde-fc23-4df0-87da-8f89adfc9c5f\" class=\"plotly-graph-div\" style=\"height:500px; width:800px;\"></div>            <script type=\"text/javascript\">                require([\"plotly\"], function(Plotly) {                    window.PLOTLYENV=window.PLOTLYENV || {};                                    if (document.getElementById(\"a628bdde-fc23-4df0-87da-8f89adfc9c5f\")) {                    Plotly.newPlot(                        \"a628bdde-fc23-4df0-87da-8f89adfc9c5f\",                        [{\"hovertemplate\":\"Actuals=%{x}<br>Predictions=%{y}<extra></extra>\",\"legendgroup\":\"\",\"marker\":{\"color\":\"#636efa\",\"symbol\":\"circle\"},\"mode\":\"markers\",\"name\":\"\",\"orientation\":\"v\",\"showlegend\":false,\"x\":[0.74525122,0.80719154,0.76674695,0.79505772,0.81241101,0.86134701,0.90468812,0.85103009,0.77182039,0.70066118,0.81768832,1.0,0.78305576,0.74833171,0.82660331,0.78962693,0.89947619,0.85469652,0.78904825,0.75907567,0.7677634,0.89400282,0.81870602,0.80720134,0.82477871,0.77418435,0.81551534,0.80496574,0.79328858,0.7676004,0.88804641,0.82193679,0.78369663,1.0,0.82827362,0.70000039,0.89584094,0.76334157,0.82965901,0.8591451,0.73621553,0.89156141,0.85197427,0.76741907,0.85460019,0.85626535,0.80664068,0.77793174,0.84350456,0.94983503,0.90798819,0.83991976,0.79963788,0.91142379,0.80382829,0.95146776,0.85317481,0.79540472,0.87825293,0.83144058,0.84012413,0.83410714,0.88673818,0.92451575,0.80283011,0.71247567,0.81368294,0.72823401,0.89870977,0.78180562,0.80434532,0.77088727,0.7683598,0.76868934,0.89265665,0.79975868,0.75328916,0.84350379,0.90041445,0.96130031,0.86591302,0.78830362,0.81096454,0.86696688,0.88232881,0.86075833,0.81866559,0.7724488,0.80974095,0.74301044,0.71645331,0.77591164,0.74799494,0.76977625,0.90410347,0.82444617,0.76988357,0.78322412,0.83006116,0.74568305,0.93951833,0.78738665,0.80203096,0.75346368,0.83616868,0.77596526,0.85853838,0.87074096,0.90011555,0.81530551,0.79846428,0.81752814,0.83259718,0.70420052,0.81281486,0.76300219,0.81373223,0.73862917,0.76413299,0.73199534,0.83969023,0.77430318,0.81680246,0.80486503,0.78009319,0.88080692,0.91403331,0.8285439,0.7347921,0.79928106,0.8306354,0.76650118,0.81836356,0.81742643,0.82082126,0.80340467,0.76381847,0.79675245,0.77562264,0.88569823,0.77929651,0.87414479,0.79610225,0.75697736,0.95682483,0.71413569,0.77284964,0.74737445,0.68455894,0.77475956,0.819557,0.87584641,0.80592936,1.0,1.0,0.7816967,0.86401906,0.76521486,0.83460262,0.81612808,0.7678533,0.82487981,0.82503265,0.79801942,0.83243185,0.81972325,0.83719985,0.76424533,0.87112882,0.79539807,0.71267834,0.79264889,0.75315688,0.79964138,0.8430687,0.75659944,0.8528759,0.83471864,0.85078669,0.77649589,0.92300465,0.85127855,0.75638041,0.72179621,0.72855489,0.86814575,0.74708621,0.84087953,0.82841333,0.98656449,0.84940519,0.88367942,0.82980996,1.0,0.76509682,0.75828382,0.85068656,0.88254067,0.78155093,0.71542171],\"xaxis\":\"x\",\"y\":[0.7441970705986023,0.7961591482162476,0.7726870775222778,0.8070598244667053,0.8129578232765198,0.8302239179611206,0.9001935124397278,0.8438616394996643,0.7520659565925598,0.7000867128372192,0.821008026599884,0.9865847826004028,0.7825809717178345,0.7483397126197815,0.8200828433036804,0.7922465205192566,0.8791362643241882,0.8506481051445007,0.7909284234046936,0.7552973031997681,0.7650508284568787,0.8861082196235657,0.8034873008728027,0.8004626631736755,0.8198364973068237,0.7823842763900757,0.8031570315361023,0.7761988043785095,0.7827894687652588,0.7679207921028137,0.8777102828025818,0.8215184807777405,0.7733288407325745,0.9111241698265076,0.8260707259178162,0.6988514065742493,0.8819603323936462,0.7807304263114929,0.833432137966156,0.8544178009033203,0.7328843474388123,0.8760398626327515,0.843714714050293,0.7522929310798645,0.8458648324012756,0.8450930714607239,0.8053606152534485,0.760309100151062,0.8419838547706604,0.9150915741920471,0.9047125577926636,0.8337648510932922,0.7775707840919495,0.9023485779762268,0.8027963042259216,0.9226230978965759,0.8382182121276855,0.7931154370307922,0.8717254996299744,0.8118367791175842,0.8322968482971191,0.8184944987297058,0.8718100786209106,0.9045131206512451,0.7941901087760925,0.711022138595581,0.8220040202140808,0.7257598042488098,0.912316620349884,0.7788332104682922,0.7869102358818054,0.7710105776786804,0.7688081860542297,0.7817801833152771,0.8591836094856262,0.789320170879364,0.7521916031837463,0.8364496231079102,0.8880900144577026,0.9406217932701111,0.8602764010429382,0.7945395112037659,0.8080588579177856,0.8582636713981628,0.867311954498291,0.8615019917488098,0.8133247494697571,0.7745316624641418,0.8020122051239014,0.7418439388275146,0.694364070892334,0.7782503962516785,0.7427017688751221,0.7719632983207703,0.8938983082771301,0.8318319320678711,0.7715697884559631,0.7807053327560425,0.8252960443496704,0.7624973654747009,0.903388261795044,0.7864946126937866,0.7815419435501099,0.7431124448776245,0.8130736947059631,0.7776975631713867,0.8398633599281311,0.8572277426719666,0.9322555661201477,0.8044663071632385,0.7770999670028687,0.8144760727882385,0.8245367407798767,0.7012823224067688,0.8089501261711121,0.7637447714805603,0.8039490580558777,0.7375265955924988,0.7597646117210388,0.730959415435791,0.8322036862373352,0.7591008543968201,0.7899572253227234,0.8060563206672668,0.7786641716957092,0.8675886988639832,0.9022594094276428,0.822649359703064,0.7369123697280884,0.7753655910491943,0.827555239200592,0.766523540019989,0.8231304883956909,0.8198940753936768,0.820065438747406,0.8021928668022156,0.7621555924415588,0.8086445927619934,0.7748090624809265,0.8670828938484192,0.7723780274391174,0.8611368536949158,0.7854198813438416,0.7593044638633728,0.9582269787788391,0.7102505564689636,0.7760996222496033,0.7520796656608582,0.6806157231330872,0.7718536257743835,0.8083591461181641,0.8708513379096985,0.7911239266395569,1.0069482326507568,0.9924461245536804,0.777730405330658,0.8581426739692688,0.7590436339378357,0.8202019333839417,0.811863124370575,0.7607071995735168,0.814821183681488,0.8273648619651794,0.7940484881401062,0.820746123790741,0.7975080609321594,0.8409806489944458,0.7660109400749207,0.8704817891120911,0.7890637516975403,0.7054740786552429,0.7895504236221313,0.7561109066009521,0.7967677712440491,0.821280300617218,0.7581096887588501,0.8524926900863647,0.826505720615387,0.8364238142967224,0.7763057947158813,0.9290080666542053,0.848168671131134,0.7564697861671448,0.7361158132553101,0.725062906742096,0.8526293635368347,0.745435357093811,0.8338034749031067,0.8101293444633484,0.9776355028152466,0.8425617814064026,0.9148208498954773,0.8092712163925171,0.9293917417526245,0.7628384232521057,0.7620869874954224,0.842197835445404,0.8729045391082764,0.7776585221290588,0.7153645753860474],\"yaxis\":\"y\",\"type\":\"scatter\"}],                        {\"template\":{\"data\":{\"bar\":[{\"error_x\":{\"color\":\"#2a3f5f\"},\"error_y\":{\"color\":\"#2a3f5f\"},\"marker\":{\"line\":{\"color\":\"#E5ECF6\",\"width\":0.5},\"pattern\":{\"fillmode\":\"overlay\",\"size\":10,\"solidity\":0.2}},\"type\":\"bar\"}],\"barpolar\":[{\"marker\":{\"line\":{\"color\":\"#E5ECF6\",\"width\":0.5},\"pattern\":{\"fillmode\":\"overlay\",\"size\":10,\"solidity\":0.2}},\"type\":\"barpolar\"}],\"carpet\":[{\"aaxis\":{\"endlinecolor\":\"#2a3f5f\",\"gridcolor\":\"white\",\"linecolor\":\"white\",\"minorgridcolor\":\"white\",\"startlinecolor\":\"#2a3f5f\"},\"baxis\":{\"endlinecolor\":\"#2a3f5f\",\"gridcolor\":\"white\",\"linecolor\":\"white\",\"minorgridcolor\":\"white\",\"startlinecolor\":\"#2a3f5f\"},\"type\":\"carpet\"}],\"choropleth\":[{\"colorbar\":{\"outlinewidth\":0,\"ticks\":\"\"},\"type\":\"choropleth\"}],\"contour\":[{\"colorbar\":{\"outlinewidth\":0,\"ticks\":\"\"},\"colorscale\":[[0.0,\"#0d0887\"],[0.1111111111111111,\"#46039f\"],[0.2222222222222222,\"#7201a8\"],[0.3333333333333333,\"#9c179e\"],[0.4444444444444444,\"#bd3786\"],[0.5555555555555556,\"#d8576b\"],[0.6666666666666666,\"#ed7953\"],[0.7777777777777778,\"#fb9f3a\"],[0.8888888888888888,\"#fdca26\"],[1.0,\"#f0f921\"]],\"type\":\"contour\"}],\"contourcarpet\":[{\"colorbar\":{\"outlinewidth\":0,\"ticks\":\"\"},\"type\":\"contourcarpet\"}],\"heatmap\":[{\"colorbar\":{\"outlinewidth\":0,\"ticks\":\"\"},\"colorscale\":[[0.0,\"#0d0887\"],[0.1111111111111111,\"#46039f\"],[0.2222222222222222,\"#7201a8\"],[0.3333333333333333,\"#9c179e\"],[0.4444444444444444,\"#bd3786\"],[0.5555555555555556,\"#d8576b\"],[0.6666666666666666,\"#ed7953\"],[0.7777777777777778,\"#fb9f3a\"],[0.8888888888888888,\"#fdca26\"],[1.0,\"#f0f921\"]],\"type\":\"heatmap\"}],\"heatmapgl\":[{\"colorbar\":{\"outlinewidth\":0,\"ticks\":\"\"},\"colorscale\":[[0.0,\"#0d0887\"],[0.1111111111111111,\"#46039f\"],[0.2222222222222222,\"#7201a8\"],[0.3333333333333333,\"#9c179e\"],[0.4444444444444444,\"#bd3786\"],[0.5555555555555556,\"#d8576b\"],[0.6666666666666666,\"#ed7953\"],[0.7777777777777778,\"#fb9f3a\"],[0.8888888888888888,\"#fdca26\"],[1.0,\"#f0f921\"]],\"type\":\"heatmapgl\"}],\"histogram\":[{\"marker\":{\"pattern\":{\"fillmode\":\"overlay\",\"size\":10,\"solidity\":0.2}},\"type\":\"histogram\"}],\"histogram2d\":[{\"colorbar\":{\"outlinewidth\":0,\"ticks\":\"\"},\"colorscale\":[[0.0,\"#0d0887\"],[0.1111111111111111,\"#46039f\"],[0.2222222222222222,\"#7201a8\"],[0.3333333333333333,\"#9c179e\"],[0.4444444444444444,\"#bd3786\"],[0.5555555555555556,\"#d8576b\"],[0.6666666666666666,\"#ed7953\"],[0.7777777777777778,\"#fb9f3a\"],[0.8888888888888888,\"#fdca26\"],[1.0,\"#f0f921\"]],\"type\":\"histogram2d\"}],\"histogram2dcontour\":[{\"colorbar\":{\"outlinewidth\":0,\"ticks\":\"\"},\"colorscale\":[[0.0,\"#0d0887\"],[0.1111111111111111,\"#46039f\"],[0.2222222222222222,\"#7201a8\"],[0.3333333333333333,\"#9c179e\"],[0.4444444444444444,\"#bd3786\"],[0.5555555555555556,\"#d8576b\"],[0.6666666666666666,\"#ed7953\"],[0.7777777777777778,\"#fb9f3a\"],[0.8888888888888888,\"#fdca26\"],[1.0,\"#f0f921\"]],\"type\":\"histogram2dcontour\"}],\"mesh3d\":[{\"colorbar\":{\"outlinewidth\":0,\"ticks\":\"\"},\"type\":\"mesh3d\"}],\"parcoords\":[{\"line\":{\"colorbar\":{\"outlinewidth\":0,\"ticks\":\"\"}},\"type\":\"parcoords\"}],\"pie\":[{\"automargin\":true,\"type\":\"pie\"}],\"scatter\":[{\"marker\":{\"colorbar\":{\"outlinewidth\":0,\"ticks\":\"\"}},\"type\":\"scatter\"}],\"scatter3d\":[{\"line\":{\"colorbar\":{\"outlinewidth\":0,\"ticks\":\"\"}},\"marker\":{\"colorbar\":{\"outlinewidth\":0,\"ticks\":\"\"}},\"type\":\"scatter3d\"}],\"scattercarpet\":[{\"marker\":{\"colorbar\":{\"outlinewidth\":0,\"ticks\":\"\"}},\"type\":\"scattercarpet\"}],\"scattergeo\":[{\"marker\":{\"colorbar\":{\"outlinewidth\":0,\"ticks\":\"\"}},\"type\":\"scattergeo\"}],\"scattergl\":[{\"marker\":{\"colorbar\":{\"outlinewidth\":0,\"ticks\":\"\"}},\"type\":\"scattergl\"}],\"scattermapbox\":[{\"marker\":{\"colorbar\":{\"outlinewidth\":0,\"ticks\":\"\"}},\"type\":\"scattermapbox\"}],\"scatterpolar\":[{\"marker\":{\"colorbar\":{\"outlinewidth\":0,\"ticks\":\"\"}},\"type\":\"scatterpolar\"}],\"scatterpolargl\":[{\"marker\":{\"colorbar\":{\"outlinewidth\":0,\"ticks\":\"\"}},\"type\":\"scatterpolargl\"}],\"scatterternary\":[{\"marker\":{\"colorbar\":{\"outlinewidth\":0,\"ticks\":\"\"}},\"type\":\"scatterternary\"}],\"surface\":[{\"colorbar\":{\"outlinewidth\":0,\"ticks\":\"\"},\"colorscale\":[[0.0,\"#0d0887\"],[0.1111111111111111,\"#46039f\"],[0.2222222222222222,\"#7201a8\"],[0.3333333333333333,\"#9c179e\"],[0.4444444444444444,\"#bd3786\"],[0.5555555555555556,\"#d8576b\"],[0.6666666666666666,\"#ed7953\"],[0.7777777777777778,\"#fb9f3a\"],[0.8888888888888888,\"#fdca26\"],[1.0,\"#f0f921\"]],\"type\":\"surface\"}],\"table\":[{\"cells\":{\"fill\":{\"color\":\"#EBF0F8\"},\"line\":{\"color\":\"white\"}},\"header\":{\"fill\":{\"color\":\"#C8D4E3\"},\"line\":{\"color\":\"white\"}},\"type\":\"table\"}]},\"layout\":{\"annotationdefaults\":{\"arrowcolor\":\"#2a3f5f\",\"arrowhead\":0,\"arrowwidth\":1},\"autotypenumbers\":\"strict\",\"coloraxis\":{\"colorbar\":{\"outlinewidth\":0,\"ticks\":\"\"}},\"colorscale\":{\"diverging\":[[0,\"#8e0152\"],[0.1,\"#c51b7d\"],[0.2,\"#de77ae\"],[0.3,\"#f1b6da\"],[0.4,\"#fde0ef\"],[0.5,\"#f7f7f7\"],[0.6,\"#e6f5d0\"],[0.7,\"#b8e186\"],[0.8,\"#7fbc41\"],[0.9,\"#4d9221\"],[1,\"#276419\"]],\"sequential\":[[0.0,\"#0d0887\"],[0.1111111111111111,\"#46039f\"],[0.2222222222222222,\"#7201a8\"],[0.3333333333333333,\"#9c179e\"],[0.4444444444444444,\"#bd3786\"],[0.5555555555555556,\"#d8576b\"],[0.6666666666666666,\"#ed7953\"],[0.7777777777777778,\"#fb9f3a\"],[0.8888888888888888,\"#fdca26\"],[1.0,\"#f0f921\"]],\"sequentialminus\":[[0.0,\"#0d0887\"],[0.1111111111111111,\"#46039f\"],[0.2222222222222222,\"#7201a8\"],[0.3333333333333333,\"#9c179e\"],[0.4444444444444444,\"#bd3786\"],[0.5555555555555556,\"#d8576b\"],[0.6666666666666666,\"#ed7953\"],[0.7777777777777778,\"#fb9f3a\"],[0.8888888888888888,\"#fdca26\"],[1.0,\"#f0f921\"]]},\"colorway\":[\"#636efa\",\"#EF553B\",\"#00cc96\",\"#ab63fa\",\"#FFA15A\",\"#19d3f3\",\"#FF6692\",\"#B6E880\",\"#FF97FF\",\"#FECB52\"],\"font\":{\"color\":\"#2a3f5f\"},\"geo\":{\"bgcolor\":\"white\",\"lakecolor\":\"white\",\"landcolor\":\"#E5ECF6\",\"showlakes\":true,\"showland\":true,\"subunitcolor\":\"white\"},\"hoverlabel\":{\"align\":\"left\"},\"hovermode\":\"closest\",\"mapbox\":{\"style\":\"light\"},\"paper_bgcolor\":\"white\",\"plot_bgcolor\":\"#E5ECF6\",\"polar\":{\"angularaxis\":{\"gridcolor\":\"white\",\"linecolor\":\"white\",\"ticks\":\"\"},\"bgcolor\":\"#E5ECF6\",\"radialaxis\":{\"gridcolor\":\"white\",\"linecolor\":\"white\",\"ticks\":\"\"}},\"scene\":{\"xaxis\":{\"backgroundcolor\":\"#E5ECF6\",\"gridcolor\":\"white\",\"gridwidth\":2,\"linecolor\":\"white\",\"showbackground\":true,\"ticks\":\"\",\"zerolinecolor\":\"white\"},\"yaxis\":{\"backgroundcolor\":\"#E5ECF6\",\"gridcolor\":\"white\",\"gridwidth\":2,\"linecolor\":\"white\",\"showbackground\":true,\"ticks\":\"\",\"zerolinecolor\":\"white\"},\"zaxis\":{\"backgroundcolor\":\"#E5ECF6\",\"gridcolor\":\"white\",\"gridwidth\":2,\"linecolor\":\"white\",\"showbackground\":true,\"ticks\":\"\",\"zerolinecolor\":\"white\"}},\"shapedefaults\":{\"line\":{\"color\":\"#2a3f5f\"}},\"ternary\":{\"aaxis\":{\"gridcolor\":\"white\",\"linecolor\":\"white\",\"ticks\":\"\"},\"baxis\":{\"gridcolor\":\"white\",\"linecolor\":\"white\",\"ticks\":\"\"},\"bgcolor\":\"#E5ECF6\",\"caxis\":{\"gridcolor\":\"white\",\"linecolor\":\"white\",\"ticks\":\"\"}},\"title\":{\"x\":0.05},\"xaxis\":{\"automargin\":true,\"gridcolor\":\"white\",\"linecolor\":\"white\",\"ticks\":\"\",\"title\":{\"standoff\":15},\"zerolinecolor\":\"white\",\"zerolinewidth\":2},\"yaxis\":{\"automargin\":true,\"gridcolor\":\"white\",\"linecolor\":\"white\",\"ticks\":\"\",\"title\":{\"standoff\":15},\"zerolinecolor\":\"white\",\"zerolinewidth\":2}}},\"xaxis\":{\"anchor\":\"y\",\"domain\":[0.0,1.0],\"title\":{\"text\":\"Actuals\"}},\"yaxis\":{\"anchor\":\"x\",\"domain\":[0.0,1.0],\"title\":{\"text\":\"Predictions\"}},\"legend\":{\"tracegroupgap\":0},\"margin\":{\"t\":60},\"title\":{\"text\":\"Predictions - Actuals Comparison\"},\"autosize\":false,\"width\":800,\"height\":500},                        {\"responsive\": true}                    ).then(function(){\n",
       "                            \n",
       "var gd = document.getElementById('a628bdde-fc23-4df0-87da-8f89adfc9c5f');\n",
       "var x = new MutationObserver(function (mutations, observer) {{\n",
       "        var display = window.getComputedStyle(gd).display;\n",
       "        if (!display || display === 'none') {{\n",
       "            console.log([gd, 'removed!']);\n",
       "            Plotly.purge(gd);\n",
       "            observer.disconnect();\n",
       "        }}\n",
       "}});\n",
       "\n",
       "// Listen for the removal of the full notebook cells\n",
       "var notebookContainer = gd.closest('#notebook-container');\n",
       "if (notebookContainer) {{\n",
       "    x.observe(notebookContainer, {childList: true});\n",
       "}}\n",
       "\n",
       "// Listen for the clearing of the current output cell\n",
       "var outputEl = gd.closest('.output');\n",
       "if (outputEl) {{\n",
       "    x.observe(outputEl, {childList: true});\n",
       "}}\n",
       "\n",
       "                        })                };                });            </script>        </div>"
      ]
     },
     "metadata": {},
     "output_type": "display_data"
    }
   ],
   "source": [
    "fig = px.scatter(res_ann, x=\"Actuals\", y=\"Predictions\")\n",
    "\n",
    "fig.update_layout(\n",
    "    autosize=False,\n",
    "    width=800,\n",
    "    height=500,\n",
    "    title_text=\"Predictions - Actuals Comparison\",\n",
    ")\n",
    "\n",
    "fig.show()"
   ]
  },
  {
   "cell_type": "markdown",
   "id": "de7b2ee0-60b3-4f25-991a-7251046b9647",
   "metadata": {
    "jp-MarkdownHeadingCollapsed": true,
    "tags": []
   },
   "source": [
    "### US55_IO_VRS "
   ]
  },
  {
   "cell_type": "code",
   "execution_count": 248,
   "id": "93bedeee-d30b-4dfb-b372-99565362022e",
   "metadata": {},
   "outputs": [
    {
     "data": {
      "text/html": [
       "<div>\n",
       "<style scoped>\n",
       "    .dataframe tbody tr th:only-of-type {\n",
       "        vertical-align: middle;\n",
       "    }\n",
       "\n",
       "    .dataframe tbody tr th {\n",
       "        vertical-align: top;\n",
       "    }\n",
       "\n",
       "    .dataframe thead th {\n",
       "        text-align: right;\n",
       "    }\n",
       "</style>\n",
       "<table border=\"1\" class=\"dataframe\">\n",
       "  <thead>\n",
       "    <tr style=\"text-align: right;\">\n",
       "      <th></th>\n",
       "      <th>Input 1</th>\n",
       "      <th>Input 2</th>\n",
       "      <th>Input 3</th>\n",
       "      <th>Input 4</th>\n",
       "      <th>Input 5</th>\n",
       "      <th>Output 1</th>\n",
       "      <th>Output 2</th>\n",
       "      <th>Output 3</th>\n",
       "      <th>Output 4</th>\n",
       "      <th>Output 5</th>\n",
       "    </tr>\n",
       "  </thead>\n",
       "  <tbody>\n",
       "    <tr>\n",
       "      <th>DMU 1</th>\n",
       "      <td>262.93</td>\n",
       "      <td>368.02</td>\n",
       "      <td>311.81</td>\n",
       "      <td>369.14</td>\n",
       "      <td>158.95</td>\n",
       "      <td>373.54</td>\n",
       "      <td>165.68</td>\n",
       "      <td>625.17</td>\n",
       "      <td>620.95</td>\n",
       "      <td>193.29</td>\n",
       "    </tr>\n",
       "    <tr>\n",
       "      <th>DMU 2</th>\n",
       "      <td>267.81</td>\n",
       "      <td>449.71</td>\n",
       "      <td>300.84</td>\n",
       "      <td>194.85</td>\n",
       "      <td>195.14</td>\n",
       "      <td>312.06</td>\n",
       "      <td>154.78</td>\n",
       "      <td>360.41</td>\n",
       "      <td>510.36</td>\n",
       "      <td>291.05</td>\n",
       "    </tr>\n",
       "    <tr>\n",
       "      <th>DMU 3</th>\n",
       "      <td>315.52</td>\n",
       "      <td>467.64</td>\n",
       "      <td>249.35</td>\n",
       "      <td>285.36</td>\n",
       "      <td>251.24</td>\n",
       "      <td>224.69</td>\n",
       "      <td>214.17</td>\n",
       "      <td>333.71</td>\n",
       "      <td>378.87</td>\n",
       "      <td>180.60</td>\n",
       "    </tr>\n",
       "    <tr>\n",
       "      <th>DMU 4</th>\n",
       "      <td>273.62</td>\n",
       "      <td>219.07</td>\n",
       "      <td>245.76</td>\n",
       "      <td>379.23</td>\n",
       "      <td>164.55</td>\n",
       "      <td>345.12</td>\n",
       "      <td>200.72</td>\n",
       "      <td>466.64</td>\n",
       "      <td>560.33</td>\n",
       "      <td>172.56</td>\n",
       "    </tr>\n",
       "    <tr>\n",
       "      <th>DMU 5</th>\n",
       "      <td>323.65</td>\n",
       "      <td>298.21</td>\n",
       "      <td>369.23</td>\n",
       "      <td>380.81</td>\n",
       "      <td>117.59</td>\n",
       "      <td>406.04</td>\n",
       "      <td>218.08</td>\n",
       "      <td>513.41</td>\n",
       "      <td>583.01</td>\n",
       "      <td>152.26</td>\n",
       "    </tr>\n",
       "  </tbody>\n",
       "</table>\n",
       "</div>"
      ],
      "text/plain": [
       "       Input 1  Input 2  Input 3  Input 4  Input 5  Output 1  Output 2  \\\n",
       "DMU 1   262.93   368.02   311.81   369.14   158.95    373.54    165.68   \n",
       "DMU 2   267.81   449.71   300.84   194.85   195.14    312.06    154.78   \n",
       "DMU 3   315.52   467.64   249.35   285.36   251.24    224.69    214.17   \n",
       "DMU 4   273.62   219.07   245.76   379.23   164.55    345.12    200.72   \n",
       "DMU 5   323.65   298.21   369.23   380.81   117.59    406.04    218.08   \n",
       "\n",
       "       Output 3  Output 4  Output 5  \n",
       "DMU 1    625.17    620.95    193.29  \n",
       "DMU 2    360.41    510.36    291.05  \n",
       "DMU 3    333.71    378.87    180.60  \n",
       "DMU 4    466.64    560.33    172.56  \n",
       "DMU 5    513.41    583.01    152.26  "
      ]
     },
     "execution_count": 248,
     "metadata": {},
     "output_type": "execute_result"
    }
   ],
   "source": [
    "X = dfs_data[2]\n",
    "X.head()"
   ]
  },
  {
   "cell_type": "code",
   "execution_count": 249,
   "id": "5ac40ef5-abba-4ab9-84d3-3461792d2b98",
   "metadata": {},
   "outputs": [
    {
     "data": {
      "text/html": [
       "<div>\n",
       "<style scoped>\n",
       "    .dataframe tbody tr th:only-of-type {\n",
       "        vertical-align: middle;\n",
       "    }\n",
       "\n",
       "    .dataframe tbody tr th {\n",
       "        vertical-align: top;\n",
       "    }\n",
       "\n",
       "    .dataframe thead th {\n",
       "        text-align: right;\n",
       "    }\n",
       "</style>\n",
       "<table border=\"1\" class=\"dataframe\">\n",
       "  <thead>\n",
       "    <tr style=\"text-align: right;\">\n",
       "      <th></th>\n",
       "      <th>Efficiency</th>\n",
       "    </tr>\n",
       "    <tr>\n",
       "      <th>DMU</th>\n",
       "      <th></th>\n",
       "    </tr>\n",
       "  </thead>\n",
       "  <tbody>\n",
       "    <tr>\n",
       "      <th>DMU 1</th>\n",
       "      <td>0.907674</td>\n",
       "    </tr>\n",
       "    <tr>\n",
       "      <th>DMU 2</th>\n",
       "      <td>0.873908</td>\n",
       "    </tr>\n",
       "    <tr>\n",
       "      <th>DMU 3</th>\n",
       "      <td>0.739374</td>\n",
       "    </tr>\n",
       "    <tr>\n",
       "      <th>DMU 4</th>\n",
       "      <td>0.966396</td>\n",
       "    </tr>\n",
       "    <tr>\n",
       "      <th>DMU 5</th>\n",
       "      <td>0.984420</td>\n",
       "    </tr>\n",
       "  </tbody>\n",
       "</table>\n",
       "</div>"
      ],
      "text/plain": [
       "       Efficiency\n",
       "DMU              \n",
       "DMU 1    0.907674\n",
       "DMU 2    0.873908\n",
       "DMU 3    0.739374\n",
       "DMU 4    0.966396\n",
       "DMU 5    0.984420"
      ]
     },
     "execution_count": 249,
     "metadata": {},
     "output_type": "execute_result"
    }
   ],
   "source": [
    "y = dfs_es[8]\n",
    "y.head()"
   ]
  },
  {
   "cell_type": "code",
   "execution_count": 250,
   "id": "73d7f42b-11d0-43df-84a0-787a45057429",
   "metadata": {},
   "outputs": [
    {
     "name": "stdout",
     "output_type": "stream",
     "text": [
      "neg_mean_squared_error: -0.002436713177744296\n",
      "neg_root_mean_squared_error: -0.049315247895884255\n",
      "r2: 0.606325923154546\n"
     ]
    }
   ],
   "source": [
    "scaler = StandardScaler()\n",
    "reg_model = LinearRegression()\n",
    "\n",
    "pipe = make_pipeline(scaler, reg_model)\n",
    "\n",
    "# cross-validate the pipeline\n",
    "print(\"neg_mean_squared_error:\", cross_val_score(pipe, X, y, scoring=\"neg_mean_squared_error\").mean())\n",
    "print(\"neg_root_mean_squared_error:\", cross_val_score(pipe, X, y, scoring=\"neg_root_mean_squared_error\").mean())\n",
    "print(\"r2:\", cross_val_score(pipe, X, y, scoring=\"r2\").mean())"
   ]
  },
  {
   "cell_type": "code",
   "execution_count": 251,
   "id": "f8d2260d-d93e-4f79-8854-d8c77697aed3",
   "metadata": {},
   "outputs": [
    {
     "name": "stdout",
     "output_type": "stream",
     "text": [
      "neg_mean_squared_error: -0.005127654578746241\n",
      "neg_root_mean_squared_error: -0.07182187772803438\n",
      "r2: 0.19391543734261357\n"
     ]
    }
   ],
   "source": [
    "reg_model = DecisionTreeRegressor()\n",
    "\n",
    "pipe = make_pipeline(scaler, reg_model)\n",
    "\n",
    "# cross-validate the pipeline\n",
    "print(\"neg_mean_squared_error:\", cross_val_score(pipe, X, y, scoring=\"neg_mean_squared_error\").mean())\n",
    "print(\"neg_root_mean_squared_error:\", cross_val_score(pipe, X, y, scoring=\"neg_root_mean_squared_error\").mean())\n",
    "print(\"r2:\", cross_val_score(pipe, X, y, scoring=\"r2\").mean())"
   ]
  },
  {
   "cell_type": "code",
   "execution_count": 252,
   "id": "9fa438bd-2423-4429-99c0-ea04255f0b87",
   "metadata": {},
   "outputs": [
    {
     "name": "stdout",
     "output_type": "stream",
     "text": [
      "neg_mean_squared_error: -0.002944484977517348\n",
      "neg_root_mean_squared_error: -0.05421718343108302\n",
      "r2: 0.5244282238246727\n"
     ]
    }
   ],
   "source": [
    "reg_model = KNeighborsRegressor()\n",
    "\n",
    "pipe = make_pipeline(scaler, reg_model)\n",
    "\n",
    "# cross-validate the pipeline\n",
    "print(\"neg_mean_squared_error:\", cross_val_score(pipe, X, y, scoring=\"neg_mean_squared_error\").mean())\n",
    "print(\"neg_root_mean_squared_error:\", cross_val_score(pipe, X, y, scoring=\"neg_root_mean_squared_error\").mean())\n",
    "print(\"r2:\", cross_val_score(pipe, X, y, scoring=\"r2\").mean())"
   ]
  },
  {
   "cell_type": "code",
   "execution_count": 253,
   "id": "84c21ec0-c5cc-4372-8170-90cd1f08d99f",
   "metadata": {},
   "outputs": [
    {
     "name": "stdout",
     "output_type": "stream",
     "text": [
      "neg_mean_squared_error: -0.002168837672593889\n",
      "neg_root_mean_squared_error: -0.04668119089357251\n",
      "r2: 0.6460682629003176\n"
     ]
    }
   ],
   "source": [
    "reg_model = RandomForestRegressor()\n",
    "\n",
    "pipe = make_pipeline(scaler, reg_model)\n",
    "\n",
    "\n",
    "# cross-validate the pipeline\n",
    "print(\"neg_mean_squared_error:\", cross_val_score(pipe, X, y.values.ravel(), scoring=\"neg_mean_squared_error\").mean())\n",
    "print(\"neg_root_mean_squared_error:\", cross_val_score(pipe, X, y.values.ravel(), scoring=\"neg_root_mean_squared_error\").mean())\n",
    "print(\"r2:\", cross_val_score(pipe, X, y.values.ravel(), scoring=\"r2\").mean())"
   ]
  },
  {
   "cell_type": "code",
   "execution_count": 254,
   "id": "8b341645-d88e-4b8c-a8c7-7db80951bac4",
   "metadata": {},
   "outputs": [
    {
     "name": "stdout",
     "output_type": "stream",
     "text": [
      "neg_mean_squared_error: -0.001612768779396937\n",
      "neg_root_mean_squared_error: -0.040070158062951576\n",
      "r2: 0.740466775211754\n"
     ]
    }
   ],
   "source": [
    "reg_model = GradientBoostingRegressor()\n",
    "\n",
    "pipe = make_pipeline(scaler, reg_model)\n",
    "\n",
    "# cross-validate the pipeline\n",
    "print(\"neg_mean_squared_error:\", cross_val_score(pipe, X, y.values.ravel(), scoring=\"neg_mean_squared_error\").mean())\n",
    "print(\"neg_root_mean_squared_error:\", cross_val_score(pipe, X, y.values.ravel(), scoring=\"neg_root_mean_squared_error\").mean())\n",
    "print(\"r2:\", cross_val_score(pipe, X, y.values.ravel(), scoring=\"r2\").mean())"
   ]
  },
  {
   "cell_type": "code",
   "execution_count": 255,
   "id": "7ae6fb43-9708-46db-b97d-5c77eea25b78",
   "metadata": {},
   "outputs": [
    {
     "name": "stdout",
     "output_type": "stream",
     "text": [
      "neg_mean_squared_error: -0.0034624085692240266\n",
      "neg_root_mean_squared_error: -0.05878355566144139\n",
      "r2: 0.44259809788438675\n"
     ]
    }
   ],
   "source": [
    "# Determination of the kernel used and the value lenght_scale at which the optimization process starts\n",
    "kernel = 1.0 * RBF(length_scale=1.0, length_scale_bounds=(1e-2, 1e3))\n",
    "\n",
    "# Application of the regressor (alpha makes a statement about a possible noise of the training data)\n",
    "reg_model = GaussianProcessRegressor(kernel=kernel, alpha=0.1)\n",
    "\n",
    "pipe = make_pipeline(scaler, reg_model)\n",
    "\n",
    "# cross-validate the pipeline\n",
    "print(\"neg_mean_squared_error:\", cross_val_score(pipe, X, y.values.ravel(), scoring=\"neg_mean_squared_error\").mean())\n",
    "print(\"neg_root_mean_squared_error:\", cross_val_score(pipe, X, y.values.ravel(), scoring=\"neg_root_mean_squared_error\").mean())\n",
    "print(\"r2:\", cross_val_score(pipe, X, y.values.ravel(), scoring=\"r2\").mean())"
   ]
  },
  {
   "cell_type": "code",
   "execution_count": 256,
   "id": "f520c7a1-ca75-4cee-b80a-d43fcc6ec9d8",
   "metadata": {},
   "outputs": [
    {
     "name": "stdout",
     "output_type": "stream",
     "text": [
      "neg_mean_squared_error: -0.004043931168079254\n",
      "neg_root_mean_squared_error: -0.06350995298513483\n",
      "r2: 0.34932712280426187\n"
     ]
    }
   ],
   "source": [
    "# Choose regression method and set hyperparameter\n",
    "reg_model=SVR()\n",
    "\n",
    "pipe = make_pipeline(scaler, reg_model)\n",
    "\n",
    "# cross-validate the pipeline\n",
    "print(\"neg_mean_squared_error:\", cross_val_score(pipe, X, y.values.ravel(), scoring=\"neg_mean_squared_error\").mean())\n",
    "print(\"neg_root_mean_squared_error:\", cross_val_score(pipe, X, y.values.ravel(), scoring=\"neg_root_mean_squared_error\").mean())\n",
    "print(\"r2:\", cross_val_score(pipe, X, y.values.ravel(), scoring=\"r2\").mean())"
   ]
  },
  {
   "cell_type": "code",
   "execution_count": 257,
   "id": "3ec4f3dc-3dd3-45f8-97a8-28a7ea4121cf",
   "metadata": {},
   "outputs": [
    {
     "name": "stdout",
     "output_type": "stream",
     "text": [
      "neg_mean_squared_error: -0.0016347077126266836\n",
      "neg_root_mean_squared_error: -0.04038942999592146\n",
      "r2: 0.7372528592511428\n"
     ]
    }
   ],
   "source": [
    "poly = PolynomialFeatures(degree=2)\n",
    "\n",
    "# Choose regression method and set hyperparameter\n",
    "reg_model=GradientBoostingRegressor()\n",
    "\n",
    "pipe = make_pipeline(scaler, poly, reg_model)\n",
    "\n",
    "# cross-validate the pipeline\n",
    "print(\"neg_mean_squared_error:\", cross_val_score(pipe, X, y.values.ravel(), scoring=\"neg_mean_squared_error\").mean())\n",
    "print(\"neg_root_mean_squared_error:\", cross_val_score(pipe, X, y.values.ravel(), scoring=\"neg_root_mean_squared_error\").mean())\n",
    "print(\"r2:\", cross_val_score(pipe, X, y.values.ravel(), scoring=\"r2\").mean())"
   ]
  },
  {
   "cell_type": "code",
   "execution_count": 258,
   "id": "0674c7fa-2074-48f5-9c1a-b995de58fe74",
   "metadata": {},
   "outputs": [
    {
     "name": "stdout",
     "output_type": "stream",
     "text": [
      "neg_mean_squared_error: -0.0009530136197947418\n",
      "neg_root_mean_squared_error: -0.030832886103533286\n",
      "r2: 0.8465176657124862\n"
     ]
    }
   ],
   "source": [
    "poly = PolynomialFeatures(degree=3)\n",
    "\n",
    "# Choose regression method and set hyperparameter\n",
    "reg_model=LinearRegression()\n",
    "\n",
    "pipe = make_pipeline(scaler, poly, reg_model)\n",
    "\n",
    "# cross-validate the pipeline\n",
    "print(\"neg_mean_squared_error:\", cross_val_score(pipe, X, y, scoring=\"neg_mean_squared_error\").mean())\n",
    "print(\"neg_root_mean_squared_error:\", cross_val_score(pipe, X, y, scoring=\"neg_root_mean_squared_error\").mean())\n",
    "print(\"r2:\", cross_val_score(pipe, X, y, scoring=\"r2\").mean())"
   ]
  },
  {
   "cell_type": "code",
   "execution_count": 259,
   "id": "849c8f11-64c9-48c6-8765-63972b64c88b",
   "metadata": {},
   "outputs": [
    {
     "data": {
      "text/html": [
       "<div>\n",
       "<style scoped>\n",
       "    .dataframe tbody tr th:only-of-type {\n",
       "        vertical-align: middle;\n",
       "    }\n",
       "\n",
       "    .dataframe tbody tr th {\n",
       "        vertical-align: top;\n",
       "    }\n",
       "\n",
       "    .dataframe thead th {\n",
       "        text-align: right;\n",
       "    }\n",
       "</style>\n",
       "<table border=\"1\" class=\"dataframe\">\n",
       "  <thead>\n",
       "    <tr style=\"text-align: right;\">\n",
       "      <th></th>\n",
       "      <th>Predictions</th>\n",
       "      <th>Actuals</th>\n",
       "      <th>Diff</th>\n",
       "    </tr>\n",
       "  </thead>\n",
       "  <tbody>\n",
       "    <tr>\n",
       "      <th>0</th>\n",
       "      <td>0.826411</td>\n",
       "      <td>0.821676</td>\n",
       "      <td>0.004735</td>\n",
       "    </tr>\n",
       "    <tr>\n",
       "      <th>1</th>\n",
       "      <td>0.916095</td>\n",
       "      <td>0.985831</td>\n",
       "      <td>-0.069737</td>\n",
       "    </tr>\n",
       "    <tr>\n",
       "      <th>2</th>\n",
       "      <td>0.931442</td>\n",
       "      <td>0.932265</td>\n",
       "      <td>-0.000823</td>\n",
       "    </tr>\n",
       "    <tr>\n",
       "      <th>3</th>\n",
       "      <td>0.884257</td>\n",
       "      <td>0.874330</td>\n",
       "      <td>0.009926</td>\n",
       "    </tr>\n",
       "    <tr>\n",
       "      <th>4</th>\n",
       "      <td>0.790637</td>\n",
       "      <td>0.800853</td>\n",
       "      <td>-0.010216</td>\n",
       "    </tr>\n",
       "    <tr>\n",
       "      <th>...</th>\n",
       "      <td>...</td>\n",
       "      <td>...</td>\n",
       "      <td>...</td>\n",
       "    </tr>\n",
       "    <tr>\n",
       "      <th>195</th>\n",
       "      <td>0.858488</td>\n",
       "      <td>0.815900</td>\n",
       "      <td>0.042588</td>\n",
       "    </tr>\n",
       "    <tr>\n",
       "      <th>196</th>\n",
       "      <td>1.070451</td>\n",
       "      <td>1.000000</td>\n",
       "      <td>0.070451</td>\n",
       "    </tr>\n",
       "    <tr>\n",
       "      <th>197</th>\n",
       "      <td>0.861158</td>\n",
       "      <td>0.848628</td>\n",
       "      <td>0.012531</td>\n",
       "    </tr>\n",
       "    <tr>\n",
       "      <th>198</th>\n",
       "      <td>0.871185</td>\n",
       "      <td>0.866911</td>\n",
       "      <td>0.004273</td>\n",
       "    </tr>\n",
       "    <tr>\n",
       "      <th>199</th>\n",
       "      <td>0.775775</td>\n",
       "      <td>0.798335</td>\n",
       "      <td>-0.022560</td>\n",
       "    </tr>\n",
       "  </tbody>\n",
       "</table>\n",
       "<p>200 rows × 3 columns</p>\n",
       "</div>"
      ],
      "text/plain": [
       "     Predictions   Actuals      Diff\n",
       "0       0.826411  0.821676  0.004735\n",
       "1       0.916095  0.985831 -0.069737\n",
       "2       0.931442  0.932265 -0.000823\n",
       "3       0.884257  0.874330  0.009926\n",
       "4       0.790637  0.800853 -0.010216\n",
       "..           ...       ...       ...\n",
       "195     0.858488  0.815900  0.042588\n",
       "196     1.070451  1.000000  0.070451\n",
       "197     0.861158  0.848628  0.012531\n",
       "198     0.871185  0.866911  0.004273\n",
       "199     0.775775  0.798335 -0.022560\n",
       "\n",
       "[200 rows x 3 columns]"
      ]
     },
     "execution_count": 259,
     "metadata": {},
     "output_type": "execute_result"
    }
   ],
   "source": [
    "X_train, X_test, y_train, y_test = train_test_split(X, y, test_size=0.2, random_state=42)\n",
    "\n",
    "model = pipe.fit(X_train, y_train)\n",
    "prediction = model.predict(X_test)\n",
    "\n",
    "res = pd.DataFrame()\n",
    "res[\"Predictions\"] = pd.Series(prediction.ravel())\n",
    "res[\"Actuals\"] = y_test.values\n",
    "res[\"Diff\"] = res.Predictions - res.Actuals\n",
    "res"
   ]
  },
  {
   "cell_type": "code",
   "execution_count": 260,
   "id": "4271402a-f5b8-4109-bd5e-1253ce947a74",
   "metadata": {},
   "outputs": [
    {
     "name": "stdout",
     "output_type": "stream",
     "text": [
      "       Predictions     Actuals        Diff\n",
      "count   200.000000  200.000000  200.000000\n",
      "mean      0.899997    0.900382   -0.000385\n",
      "std       0.079335    0.077496    0.025403\n",
      "min       0.716178    0.726383   -0.097323\n",
      "25%       0.838967    0.835980   -0.013543\n",
      "50%       0.895896    0.898883    0.000752\n",
      "75%       0.953776    0.986030    0.013642\n",
      "max       1.095061    1.000000    0.095061\n"
     ]
    }
   ],
   "source": [
    "print(res.describe())"
   ]
  },
  {
   "cell_type": "code",
   "execution_count": 261,
   "id": "52aabb29-eba7-4fa0-99c3-73a3ddaef7a9",
   "metadata": {},
   "outputs": [
    {
     "data": {
      "application/vnd.plotly.v1+json": {
       "config": {
        "plotlyServerURL": "https://plot.ly"
       },
       "data": [
        {
         "hovertemplate": "Actuals=%{x}<br>Predictions=%{y}<extra></extra>",
         "legendgroup": "",
         "marker": {
          "color": "#636efa",
          "symbol": "circle"
         },
         "mode": "markers",
         "name": "",
         "orientation": "v",
         "showlegend": false,
         "type": "scatter",
         "x": [
          0.82167569,
          0.98583123,
          0.93226504,
          0.87433002,
          0.80085277,
          0.98985511,
          0.90468548,
          0.93491081,
          0.77576286,
          0.92904924,
          0.8551731,
          0.8378007,
          0.91802823,
          0.9328437,
          0.89712599,
          0.97533127,
          0.89358515,
          0.81661972,
          0.98696456,
          0.91322873,
          1,
          0.97398727,
          1,
          0.80238988,
          0.97570772,
          1,
          0.86567743,
          0.83636912,
          0.74341709,
          0.881861,
          0.8428121,
          0.95735222,
          1,
          0.80549921,
          0.91428975,
          0.87060569,
          0.77818172,
          0.90976719,
          0.81226636,
          1,
          0.76435834,
          0.86935395,
          1,
          1,
          0.7844086,
          1,
          0.80911557,
          0.80649194,
          1,
          0.97971301,
          0.81640179,
          0.81541892,
          0.80762016,
          0.97133974,
          0.88576113,
          0.90238025,
          0.94539074,
          0.83364411,
          0.89203184,
          0.878892,
          0.82516666,
          1,
          1,
          0.89085358,
          0.94902409,
          0.85774158,
          0.9046312,
          1,
          0.75889766,
          1,
          0.9503942,
          0.83764228,
          1,
          1,
          1,
          0.93116969,
          0.77719999,
          0.92383274,
          0.79277721,
          0.85159728,
          0.75738802,
          0.86085366,
          1,
          1,
          0.90781308,
          0.86447933,
          1,
          1,
          1,
          1,
          0.99231267,
          0.80435528,
          0.95636695,
          0.93169231,
          0.98662477,
          0.87210503,
          0.86785173,
          1,
          1,
          0.81186648,
          0.77717866,
          0.86041067,
          0.89136585,
          1,
          0.89440198,
          0.91931981,
          0.8982262,
          0.84122774,
          0.87708933,
          0.91997596,
          0.91152684,
          0.82467093,
          0.79843653,
          0.81514863,
          0.98185653,
          0.86684318,
          0.98678307,
          1,
          0.96748445,
          0.98976807,
          0.89808702,
          1,
          0.82661112,
          0.95415998,
          0.91090883,
          0.74174855,
          0.85675145,
          1,
          0.90135263,
          1,
          1,
          0.90723465,
          0.88742286,
          0.72638324,
          1,
          0.92278355,
          0.80673029,
          0.77339636,
          0.84221769,
          0.89203365,
          0.86101207,
          1,
          0.86776745,
          0.77370636,
          0.80313033,
          0.86617919,
          0.83609202,
          1,
          0.85358371,
          0.86982635,
          0.89113477,
          0.82457968,
          0.86416798,
          1,
          0.79677796,
          0.9897241,
          1,
          0.92377109,
          0.93073952,
          0.87970574,
          0.9328574,
          0.89721654,
          0.93089139,
          0.94293678,
          0.8171816,
          0.78531306,
          0.87723316,
          0.92017826,
          0.98527472,
          0.85301652,
          1,
          0.96353401,
          1,
          0.9277132,
          0.820438,
          0.91269686,
          1,
          0.92201385,
          0.92769514,
          1,
          1,
          0.8995401,
          0.83051431,
          0.82939235,
          1,
          0.88700042,
          0.93265422,
          0.79373892,
          0.81409556,
          1,
          0.8068399,
          0.74502827,
          0.83564319,
          0.88784881,
          0.79367308,
          0.81589962,
          1,
          0.84862775,
          0.86691147,
          0.79833485
         ],
         "xaxis": "x",
         "y": [
          0.8264109454333641,
          0.9160945849188955,
          0.9314424461194949,
          0.8842565152825511,
          0.7906369477716657,
          0.9578845612458252,
          0.8925285576748947,
          0.9492282976480906,
          0.764937439598574,
          0.929778336607664,
          0.8785682725344375,
          0.840227067286239,
          0.9362277624845329,
          0.9347423122438572,
          0.9170431964133849,
          0.9435082047710186,
          0.8979799081563801,
          0.825796074216594,
          0.977859877263576,
          0.9101912632430637,
          0.9379349338283138,
          0.9143657178558029,
          0.9739318219013575,
          0.8187041872963773,
          0.899907485180906,
          0.9802506874937228,
          0.8187127161052926,
          0.8602668659373128,
          0.7191114019036833,
          0.8763565183289347,
          0.8573952671272447,
          0.8969751369365897,
          0.9814831444127596,
          0.8114836859408491,
          0.8918025577747307,
          0.8631559975522123,
          0.7858532943047304,
          0.9221012401071186,
          0.828658472147539,
          0.9026774884184778,
          0.7643725404557663,
          0.866610071755495,
          0.9585192987812559,
          1.0065818462405705,
          0.7922893989499777,
          0.987066152887395,
          0.8105176003678194,
          0.811309441655578,
          1.0130918820087391,
          0.9512940365237784,
          0.8086161746173468,
          0.8260076367883088,
          0.8024286447575504,
          0.9505798754432366,
          0.9036929269434488,
          0.8882898142183493,
          0.9180340379735903,
          0.8344342299522831,
          0.882306682624799,
          0.894354397708008,
          0.8080688615840269,
          1.0157731373684804,
          1.0178785848735359,
          0.9100548725878063,
          0.9478310798771854,
          0.8498324366123855,
          0.93173002552468,
          1.0048910167105514,
          0.7472150809392234,
          1.0122683056943447,
          0.9427017731912859,
          0.8447704274839261,
          0.9886359132855601,
          1.0205535461281283,
          0.9966805006073342,
          0.9335296094653501,
          0.7947360604177953,
          0.8943136908542995,
          0.7981042784363691,
          0.8750488125547699,
          0.7822839334834287,
          0.871890661018808,
          0.9715940611823192,
          0.9665276129404561,
          0.941543502510692,
          0.8419089311567316,
          0.9888562272746146,
          1.0159248514903247,
          0.9638670864593774,
          0.9748183953162075,
          0.9970651427676906,
          0.7897886897334632,
          0.9347045996169153,
          0.9265228345076489,
          0.9807092491617146,
          0.881110362772558,
          0.8710496430468134,
          1.0692840773506114,
          1.006876053386123,
          0.8116062482600317,
          0.7430924712266882,
          0.8762258487858465,
          0.89567102050611,
          1.0157649038192822,
          0.892906492341402,
          0.91306128819205,
          0.8954917624213231,
          0.8223638625678403,
          0.8869544934559869,
          0.9174298828263635,
          0.8987541684322026,
          0.8310873754189799,
          0.784901191355676,
          0.8022283971759276,
          0.9700507664689126,
          0.882699466999323,
          1.0112388645930754,
          1.0950608048397403,
          0.9600594359401255,
          0.9552114439019683,
          0.8886678886131746,
          1.0674798313964167,
          0.8206182363844715,
          0.9549731285054401,
          0.8999600272279126,
          0.7298835338819815,
          0.8588077429456308,
          1.0493797690909858,
          0.8935542939785726,
          1.0302721093662521,
          1.0473091510488697,
          0.9020518986369828,
          0.8708054559930963,
          0.7161780426820488,
          1.0249972543152575,
          0.9208045586376956,
          0.835809708811536,
          0.7466518428231205,
          0.8197366908455331,
          0.8757208137357458,
          0.8894312584989261,
          0.9942144034643772,
          0.8760684487146868,
          0.7825760979395556,
          0.822126054840026,
          0.8733068181667423,
          0.8502468253879721,
          1.0245099294227415,
          0.8400189005881821,
          0.8927409433626219,
          0.9022895530179015,
          0.8211903172861359,
          0.8945702208199341,
          1.0091281478648608,
          0.813782138685946,
          0.9777619918023572,
          0.9764308795467687,
          0.907597835555717,
          0.9393811309763804,
          0.8898254219103788,
          0.9463101752291107,
          0.8885981934426828,
          0.9533776108324956,
          0.9228575098618281,
          0.8491204039814488,
          0.7857513711126284,
          0.8863522699481443,
          0.9313815524953778,
          0.9423844893313147,
          0.8537917608477894,
          0.9857546129197673,
          0.9388856656132072,
          0.9383020870281554,
          0.8961200831929654,
          0.8026216960788832,
          0.9261678416692984,
          0.9894025877784428,
          0.8945939081087263,
          0.9357673886776658,
          0.9825113787081873,
          1.0669233779817981,
          0.8762627358414473,
          0.8610381503560887,
          0.8233351343555388,
          1.0244617289270763,
          0.9135254578599867,
          0.9401726099344647,
          0.8048045046412923,
          0.8201055434398982,
          1.0273761284081495,
          0.8134441416997786,
          0.7297339751056797,
          0.8333762594592042,
          0.941090831310936,
          0.8160592406143249,
          0.8584875797858694,
          1.0704513415394192,
          0.8611583772230856,
          0.8711849483352753,
          0.7757748307767621
         ],
         "yaxis": "y"
        }
       ],
       "layout": {
        "autosize": false,
        "height": 500,
        "legend": {
         "tracegroupgap": 0
        },
        "margin": {
         "t": 60
        },
        "template": {
         "data": {
          "bar": [
           {
            "error_x": {
             "color": "#2a3f5f"
            },
            "error_y": {
             "color": "#2a3f5f"
            },
            "marker": {
             "line": {
              "color": "#E5ECF6",
              "width": 0.5
             },
             "pattern": {
              "fillmode": "overlay",
              "size": 10,
              "solidity": 0.2
             }
            },
            "type": "bar"
           }
          ],
          "barpolar": [
           {
            "marker": {
             "line": {
              "color": "#E5ECF6",
              "width": 0.5
             },
             "pattern": {
              "fillmode": "overlay",
              "size": 10,
              "solidity": 0.2
             }
            },
            "type": "barpolar"
           }
          ],
          "carpet": [
           {
            "aaxis": {
             "endlinecolor": "#2a3f5f",
             "gridcolor": "white",
             "linecolor": "white",
             "minorgridcolor": "white",
             "startlinecolor": "#2a3f5f"
            },
            "baxis": {
             "endlinecolor": "#2a3f5f",
             "gridcolor": "white",
             "linecolor": "white",
             "minorgridcolor": "white",
             "startlinecolor": "#2a3f5f"
            },
            "type": "carpet"
           }
          ],
          "choropleth": [
           {
            "colorbar": {
             "outlinewidth": 0,
             "ticks": ""
            },
            "type": "choropleth"
           }
          ],
          "contour": [
           {
            "colorbar": {
             "outlinewidth": 0,
             "ticks": ""
            },
            "colorscale": [
             [
              0,
              "#0d0887"
             ],
             [
              0.1111111111111111,
              "#46039f"
             ],
             [
              0.2222222222222222,
              "#7201a8"
             ],
             [
              0.3333333333333333,
              "#9c179e"
             ],
             [
              0.4444444444444444,
              "#bd3786"
             ],
             [
              0.5555555555555556,
              "#d8576b"
             ],
             [
              0.6666666666666666,
              "#ed7953"
             ],
             [
              0.7777777777777778,
              "#fb9f3a"
             ],
             [
              0.8888888888888888,
              "#fdca26"
             ],
             [
              1,
              "#f0f921"
             ]
            ],
            "type": "contour"
           }
          ],
          "contourcarpet": [
           {
            "colorbar": {
             "outlinewidth": 0,
             "ticks": ""
            },
            "type": "contourcarpet"
           }
          ],
          "heatmap": [
           {
            "colorbar": {
             "outlinewidth": 0,
             "ticks": ""
            },
            "colorscale": [
             [
              0,
              "#0d0887"
             ],
             [
              0.1111111111111111,
              "#46039f"
             ],
             [
              0.2222222222222222,
              "#7201a8"
             ],
             [
              0.3333333333333333,
              "#9c179e"
             ],
             [
              0.4444444444444444,
              "#bd3786"
             ],
             [
              0.5555555555555556,
              "#d8576b"
             ],
             [
              0.6666666666666666,
              "#ed7953"
             ],
             [
              0.7777777777777778,
              "#fb9f3a"
             ],
             [
              0.8888888888888888,
              "#fdca26"
             ],
             [
              1,
              "#f0f921"
             ]
            ],
            "type": "heatmap"
           }
          ],
          "heatmapgl": [
           {
            "colorbar": {
             "outlinewidth": 0,
             "ticks": ""
            },
            "colorscale": [
             [
              0,
              "#0d0887"
             ],
             [
              0.1111111111111111,
              "#46039f"
             ],
             [
              0.2222222222222222,
              "#7201a8"
             ],
             [
              0.3333333333333333,
              "#9c179e"
             ],
             [
              0.4444444444444444,
              "#bd3786"
             ],
             [
              0.5555555555555556,
              "#d8576b"
             ],
             [
              0.6666666666666666,
              "#ed7953"
             ],
             [
              0.7777777777777778,
              "#fb9f3a"
             ],
             [
              0.8888888888888888,
              "#fdca26"
             ],
             [
              1,
              "#f0f921"
             ]
            ],
            "type": "heatmapgl"
           }
          ],
          "histogram": [
           {
            "marker": {
             "pattern": {
              "fillmode": "overlay",
              "size": 10,
              "solidity": 0.2
             }
            },
            "type": "histogram"
           }
          ],
          "histogram2d": [
           {
            "colorbar": {
             "outlinewidth": 0,
             "ticks": ""
            },
            "colorscale": [
             [
              0,
              "#0d0887"
             ],
             [
              0.1111111111111111,
              "#46039f"
             ],
             [
              0.2222222222222222,
              "#7201a8"
             ],
             [
              0.3333333333333333,
              "#9c179e"
             ],
             [
              0.4444444444444444,
              "#bd3786"
             ],
             [
              0.5555555555555556,
              "#d8576b"
             ],
             [
              0.6666666666666666,
              "#ed7953"
             ],
             [
              0.7777777777777778,
              "#fb9f3a"
             ],
             [
              0.8888888888888888,
              "#fdca26"
             ],
             [
              1,
              "#f0f921"
             ]
            ],
            "type": "histogram2d"
           }
          ],
          "histogram2dcontour": [
           {
            "colorbar": {
             "outlinewidth": 0,
             "ticks": ""
            },
            "colorscale": [
             [
              0,
              "#0d0887"
             ],
             [
              0.1111111111111111,
              "#46039f"
             ],
             [
              0.2222222222222222,
              "#7201a8"
             ],
             [
              0.3333333333333333,
              "#9c179e"
             ],
             [
              0.4444444444444444,
              "#bd3786"
             ],
             [
              0.5555555555555556,
              "#d8576b"
             ],
             [
              0.6666666666666666,
              "#ed7953"
             ],
             [
              0.7777777777777778,
              "#fb9f3a"
             ],
             [
              0.8888888888888888,
              "#fdca26"
             ],
             [
              1,
              "#f0f921"
             ]
            ],
            "type": "histogram2dcontour"
           }
          ],
          "mesh3d": [
           {
            "colorbar": {
             "outlinewidth": 0,
             "ticks": ""
            },
            "type": "mesh3d"
           }
          ],
          "parcoords": [
           {
            "line": {
             "colorbar": {
              "outlinewidth": 0,
              "ticks": ""
             }
            },
            "type": "parcoords"
           }
          ],
          "pie": [
           {
            "automargin": true,
            "type": "pie"
           }
          ],
          "scatter": [
           {
            "marker": {
             "colorbar": {
              "outlinewidth": 0,
              "ticks": ""
             }
            },
            "type": "scatter"
           }
          ],
          "scatter3d": [
           {
            "line": {
             "colorbar": {
              "outlinewidth": 0,
              "ticks": ""
             }
            },
            "marker": {
             "colorbar": {
              "outlinewidth": 0,
              "ticks": ""
             }
            },
            "type": "scatter3d"
           }
          ],
          "scattercarpet": [
           {
            "marker": {
             "colorbar": {
              "outlinewidth": 0,
              "ticks": ""
             }
            },
            "type": "scattercarpet"
           }
          ],
          "scattergeo": [
           {
            "marker": {
             "colorbar": {
              "outlinewidth": 0,
              "ticks": ""
             }
            },
            "type": "scattergeo"
           }
          ],
          "scattergl": [
           {
            "marker": {
             "colorbar": {
              "outlinewidth": 0,
              "ticks": ""
             }
            },
            "type": "scattergl"
           }
          ],
          "scattermapbox": [
           {
            "marker": {
             "colorbar": {
              "outlinewidth": 0,
              "ticks": ""
             }
            },
            "type": "scattermapbox"
           }
          ],
          "scatterpolar": [
           {
            "marker": {
             "colorbar": {
              "outlinewidth": 0,
              "ticks": ""
             }
            },
            "type": "scatterpolar"
           }
          ],
          "scatterpolargl": [
           {
            "marker": {
             "colorbar": {
              "outlinewidth": 0,
              "ticks": ""
             }
            },
            "type": "scatterpolargl"
           }
          ],
          "scatterternary": [
           {
            "marker": {
             "colorbar": {
              "outlinewidth": 0,
              "ticks": ""
             }
            },
            "type": "scatterternary"
           }
          ],
          "surface": [
           {
            "colorbar": {
             "outlinewidth": 0,
             "ticks": ""
            },
            "colorscale": [
             [
              0,
              "#0d0887"
             ],
             [
              0.1111111111111111,
              "#46039f"
             ],
             [
              0.2222222222222222,
              "#7201a8"
             ],
             [
              0.3333333333333333,
              "#9c179e"
             ],
             [
              0.4444444444444444,
              "#bd3786"
             ],
             [
              0.5555555555555556,
              "#d8576b"
             ],
             [
              0.6666666666666666,
              "#ed7953"
             ],
             [
              0.7777777777777778,
              "#fb9f3a"
             ],
             [
              0.8888888888888888,
              "#fdca26"
             ],
             [
              1,
              "#f0f921"
             ]
            ],
            "type": "surface"
           }
          ],
          "table": [
           {
            "cells": {
             "fill": {
              "color": "#EBF0F8"
             },
             "line": {
              "color": "white"
             }
            },
            "header": {
             "fill": {
              "color": "#C8D4E3"
             },
             "line": {
              "color": "white"
             }
            },
            "type": "table"
           }
          ]
         },
         "layout": {
          "annotationdefaults": {
           "arrowcolor": "#2a3f5f",
           "arrowhead": 0,
           "arrowwidth": 1
          },
          "autotypenumbers": "strict",
          "coloraxis": {
           "colorbar": {
            "outlinewidth": 0,
            "ticks": ""
           }
          },
          "colorscale": {
           "diverging": [
            [
             0,
             "#8e0152"
            ],
            [
             0.1,
             "#c51b7d"
            ],
            [
             0.2,
             "#de77ae"
            ],
            [
             0.3,
             "#f1b6da"
            ],
            [
             0.4,
             "#fde0ef"
            ],
            [
             0.5,
             "#f7f7f7"
            ],
            [
             0.6,
             "#e6f5d0"
            ],
            [
             0.7,
             "#b8e186"
            ],
            [
             0.8,
             "#7fbc41"
            ],
            [
             0.9,
             "#4d9221"
            ],
            [
             1,
             "#276419"
            ]
           ],
           "sequential": [
            [
             0,
             "#0d0887"
            ],
            [
             0.1111111111111111,
             "#46039f"
            ],
            [
             0.2222222222222222,
             "#7201a8"
            ],
            [
             0.3333333333333333,
             "#9c179e"
            ],
            [
             0.4444444444444444,
             "#bd3786"
            ],
            [
             0.5555555555555556,
             "#d8576b"
            ],
            [
             0.6666666666666666,
             "#ed7953"
            ],
            [
             0.7777777777777778,
             "#fb9f3a"
            ],
            [
             0.8888888888888888,
             "#fdca26"
            ],
            [
             1,
             "#f0f921"
            ]
           ],
           "sequentialminus": [
            [
             0,
             "#0d0887"
            ],
            [
             0.1111111111111111,
             "#46039f"
            ],
            [
             0.2222222222222222,
             "#7201a8"
            ],
            [
             0.3333333333333333,
             "#9c179e"
            ],
            [
             0.4444444444444444,
             "#bd3786"
            ],
            [
             0.5555555555555556,
             "#d8576b"
            ],
            [
             0.6666666666666666,
             "#ed7953"
            ],
            [
             0.7777777777777778,
             "#fb9f3a"
            ],
            [
             0.8888888888888888,
             "#fdca26"
            ],
            [
             1,
             "#f0f921"
            ]
           ]
          },
          "colorway": [
           "#636efa",
           "#EF553B",
           "#00cc96",
           "#ab63fa",
           "#FFA15A",
           "#19d3f3",
           "#FF6692",
           "#B6E880",
           "#FF97FF",
           "#FECB52"
          ],
          "font": {
           "color": "#2a3f5f"
          },
          "geo": {
           "bgcolor": "white",
           "lakecolor": "white",
           "landcolor": "#E5ECF6",
           "showlakes": true,
           "showland": true,
           "subunitcolor": "white"
          },
          "hoverlabel": {
           "align": "left"
          },
          "hovermode": "closest",
          "mapbox": {
           "style": "light"
          },
          "paper_bgcolor": "white",
          "plot_bgcolor": "#E5ECF6",
          "polar": {
           "angularaxis": {
            "gridcolor": "white",
            "linecolor": "white",
            "ticks": ""
           },
           "bgcolor": "#E5ECF6",
           "radialaxis": {
            "gridcolor": "white",
            "linecolor": "white",
            "ticks": ""
           }
          },
          "scene": {
           "xaxis": {
            "backgroundcolor": "#E5ECF6",
            "gridcolor": "white",
            "gridwidth": 2,
            "linecolor": "white",
            "showbackground": true,
            "ticks": "",
            "zerolinecolor": "white"
           },
           "yaxis": {
            "backgroundcolor": "#E5ECF6",
            "gridcolor": "white",
            "gridwidth": 2,
            "linecolor": "white",
            "showbackground": true,
            "ticks": "",
            "zerolinecolor": "white"
           },
           "zaxis": {
            "backgroundcolor": "#E5ECF6",
            "gridcolor": "white",
            "gridwidth": 2,
            "linecolor": "white",
            "showbackground": true,
            "ticks": "",
            "zerolinecolor": "white"
           }
          },
          "shapedefaults": {
           "line": {
            "color": "#2a3f5f"
           }
          },
          "ternary": {
           "aaxis": {
            "gridcolor": "white",
            "linecolor": "white",
            "ticks": ""
           },
           "baxis": {
            "gridcolor": "white",
            "linecolor": "white",
            "ticks": ""
           },
           "bgcolor": "#E5ECF6",
           "caxis": {
            "gridcolor": "white",
            "linecolor": "white",
            "ticks": ""
           }
          },
          "title": {
           "x": 0.05
          },
          "xaxis": {
           "automargin": true,
           "gridcolor": "white",
           "linecolor": "white",
           "ticks": "",
           "title": {
            "standoff": 15
           },
           "zerolinecolor": "white",
           "zerolinewidth": 2
          },
          "yaxis": {
           "automargin": true,
           "gridcolor": "white",
           "linecolor": "white",
           "ticks": "",
           "title": {
            "standoff": 15
           },
           "zerolinecolor": "white",
           "zerolinewidth": 2
          }
         }
        },
        "title": {
         "text": "Predictions - Actuals Comparison"
        },
        "width": 800,
        "xaxis": {
         "anchor": "y",
         "autorange": true,
         "domain": [
          0,
          1
         ],
         "range": [
          0.7091769090061565,
          1.0172063309938435
         ],
         "title": {
          "text": "Actuals"
         },
         "type": "linear"
        },
        "yaxis": {
         "anchor": "x",
         "autorange": true,
         "domain": [
          0,
          1
         ],
         "range": [
          0.6901410756143401,
          1.121097771907449
         ],
         "title": {
          "text": "Predictions"
         },
         "type": "linear"
        }
       }
      },
      "text/html": [
       "<div>                            <div id=\"63afc2e9-6e0e-4550-acb7-ac2ef472469d\" class=\"plotly-graph-div\" style=\"height:500px; width:800px;\"></div>            <script type=\"text/javascript\">                require([\"plotly\"], function(Plotly) {                    window.PLOTLYENV=window.PLOTLYENV || {};                                    if (document.getElementById(\"63afc2e9-6e0e-4550-acb7-ac2ef472469d\")) {                    Plotly.newPlot(                        \"63afc2e9-6e0e-4550-acb7-ac2ef472469d\",                        [{\"hovertemplate\":\"Actuals=%{x}<br>Predictions=%{y}<extra></extra>\",\"legendgroup\":\"\",\"marker\":{\"color\":\"#636efa\",\"symbol\":\"circle\"},\"mode\":\"markers\",\"name\":\"\",\"orientation\":\"v\",\"showlegend\":false,\"x\":[0.82167569,0.98583123,0.93226504,0.87433002,0.80085277,0.98985511,0.90468548,0.93491081,0.77576286,0.92904924,0.8551731,0.8378007,0.91802823,0.9328437,0.89712599,0.97533127,0.89358515,0.81661972,0.98696456,0.91322873,1.0,0.97398727,1.0,0.80238988,0.97570772,1.0,0.86567743,0.83636912,0.74341709,0.881861,0.8428121,0.95735222,1.0,0.80549921,0.91428975,0.87060569,0.77818172,0.90976719,0.81226636,1.0,0.76435834,0.86935395,1.0,1.0,0.7844086,1.0,0.80911557,0.80649194,1.0,0.97971301,0.81640179,0.81541892,0.80762016,0.97133974,0.88576113,0.90238025,0.94539074,0.83364411,0.89203184,0.878892,0.82516666,1.0,1.0,0.89085358,0.94902409,0.85774158,0.9046312,1.0,0.75889766,1.0,0.9503942,0.83764228,1.0,1.0,1.0,0.93116969,0.77719999,0.92383274,0.79277721,0.85159728,0.75738802,0.86085366,1.0,1.0,0.90781308,0.86447933,1.0,1.0,1.0,1.0,0.99231267,0.80435528,0.95636695,0.93169231,0.98662477,0.87210503,0.86785173,1.0,1.0,0.81186648,0.77717866,0.86041067,0.89136585,1.0,0.89440198,0.91931981,0.8982262,0.84122774,0.87708933,0.91997596,0.91152684,0.82467093,0.79843653,0.81514863,0.98185653,0.86684318,0.98678307,1.0,0.96748445,0.98976807,0.89808702,1.0,0.82661112,0.95415998,0.91090883,0.74174855,0.85675145,1.0,0.90135263,1.0,1.0,0.90723465,0.88742286,0.72638324,1.0,0.92278355,0.80673029,0.77339636,0.84221769,0.89203365,0.86101207,1.0,0.86776745,0.77370636,0.80313033,0.86617919,0.83609202,1.0,0.85358371,0.86982635,0.89113477,0.82457968,0.86416798,1.0,0.79677796,0.9897241,1.0,0.92377109,0.93073952,0.87970574,0.9328574,0.89721654,0.93089139,0.94293678,0.8171816,0.78531306,0.87723316,0.92017826,0.98527472,0.85301652,1.0,0.96353401,1.0,0.9277132,0.820438,0.91269686,1.0,0.92201385,0.92769514,1.0,1.0,0.8995401,0.83051431,0.82939235,1.0,0.88700042,0.93265422,0.79373892,0.81409556,1.0,0.8068399,0.74502827,0.83564319,0.88784881,0.79367308,0.81589962,1.0,0.84862775,0.86691147,0.79833485],\"xaxis\":\"x\",\"y\":[0.8264109454333641,0.9160945849188955,0.9314424461194949,0.8842565152825511,0.7906369477716657,0.9578845612458252,0.8925285576748947,0.9492282976480906,0.764937439598574,0.929778336607664,0.8785682725344375,0.840227067286239,0.9362277624845329,0.9347423122438572,0.9170431964133849,0.9435082047710186,0.8979799081563801,0.825796074216594,0.977859877263576,0.9101912632430637,0.9379349338283138,0.9143657178558029,0.9739318219013575,0.8187041872963773,0.899907485180906,0.9802506874937228,0.8187127161052926,0.8602668659373128,0.7191114019036833,0.8763565183289347,0.8573952671272447,0.8969751369365897,0.9814831444127596,0.8114836859408491,0.8918025577747307,0.8631559975522123,0.7858532943047304,0.9221012401071186,0.828658472147539,0.9026774884184778,0.7643725404557663,0.866610071755495,0.9585192987812559,1.0065818462405705,0.7922893989499777,0.987066152887395,0.8105176003678194,0.811309441655578,1.0130918820087391,0.9512940365237784,0.8086161746173468,0.8260076367883088,0.8024286447575504,0.9505798754432366,0.9036929269434488,0.8882898142183493,0.9180340379735903,0.8344342299522831,0.882306682624799,0.894354397708008,0.8080688615840269,1.0157731373684804,1.0178785848735359,0.9100548725878063,0.9478310798771854,0.8498324366123855,0.93173002552468,1.0048910167105514,0.7472150809392234,1.0122683056943447,0.9427017731912859,0.8447704274839261,0.9886359132855601,1.0205535461281283,0.9966805006073342,0.9335296094653501,0.7947360604177953,0.8943136908542995,0.7981042784363691,0.8750488125547699,0.7822839334834287,0.871890661018808,0.9715940611823192,0.9665276129404561,0.941543502510692,0.8419089311567316,0.9888562272746146,1.0159248514903247,0.9638670864593774,0.9748183953162075,0.9970651427676906,0.7897886897334632,0.9347045996169153,0.9265228345076489,0.9807092491617146,0.881110362772558,0.8710496430468134,1.0692840773506114,1.006876053386123,0.8116062482600317,0.7430924712266882,0.8762258487858465,0.89567102050611,1.0157649038192822,0.892906492341402,0.91306128819205,0.8954917624213231,0.8223638625678403,0.8869544934559869,0.9174298828263635,0.8987541684322026,0.8310873754189799,0.784901191355676,0.8022283971759276,0.9700507664689126,0.882699466999323,1.0112388645930754,1.0950608048397403,0.9600594359401255,0.9552114439019683,0.8886678886131746,1.0674798313964167,0.8206182363844715,0.9549731285054401,0.8999600272279126,0.7298835338819815,0.8588077429456308,1.0493797690909858,0.8935542939785726,1.0302721093662521,1.0473091510488697,0.9020518986369828,0.8708054559930963,0.7161780426820488,1.0249972543152575,0.9208045586376956,0.835809708811536,0.7466518428231205,0.8197366908455331,0.8757208137357458,0.8894312584989261,0.9942144034643772,0.8760684487146868,0.7825760979395556,0.822126054840026,0.8733068181667423,0.8502468253879721,1.0245099294227415,0.8400189005881821,0.8927409433626219,0.9022895530179015,0.8211903172861359,0.8945702208199341,1.0091281478648608,0.813782138685946,0.9777619918023572,0.9764308795467687,0.907597835555717,0.9393811309763804,0.8898254219103788,0.9463101752291107,0.8885981934426828,0.9533776108324956,0.9228575098618281,0.8491204039814488,0.7857513711126284,0.8863522699481443,0.9313815524953778,0.9423844893313147,0.8537917608477894,0.9857546129197673,0.9388856656132072,0.9383020870281554,0.8961200831929654,0.8026216960788832,0.9261678416692984,0.9894025877784428,0.8945939081087263,0.9357673886776658,0.9825113787081873,1.0669233779817981,0.8762627358414473,0.8610381503560887,0.8233351343555388,1.0244617289270763,0.9135254578599867,0.9401726099344647,0.8048045046412923,0.8201055434398982,1.0273761284081495,0.8134441416997786,0.7297339751056797,0.8333762594592042,0.941090831310936,0.8160592406143249,0.8584875797858694,1.0704513415394192,0.8611583772230856,0.8711849483352753,0.7757748307767621],\"yaxis\":\"y\",\"type\":\"scatter\"}],                        {\"template\":{\"data\":{\"bar\":[{\"error_x\":{\"color\":\"#2a3f5f\"},\"error_y\":{\"color\":\"#2a3f5f\"},\"marker\":{\"line\":{\"color\":\"#E5ECF6\",\"width\":0.5},\"pattern\":{\"fillmode\":\"overlay\",\"size\":10,\"solidity\":0.2}},\"type\":\"bar\"}],\"barpolar\":[{\"marker\":{\"line\":{\"color\":\"#E5ECF6\",\"width\":0.5},\"pattern\":{\"fillmode\":\"overlay\",\"size\":10,\"solidity\":0.2}},\"type\":\"barpolar\"}],\"carpet\":[{\"aaxis\":{\"endlinecolor\":\"#2a3f5f\",\"gridcolor\":\"white\",\"linecolor\":\"white\",\"minorgridcolor\":\"white\",\"startlinecolor\":\"#2a3f5f\"},\"baxis\":{\"endlinecolor\":\"#2a3f5f\",\"gridcolor\":\"white\",\"linecolor\":\"white\",\"minorgridcolor\":\"white\",\"startlinecolor\":\"#2a3f5f\"},\"type\":\"carpet\"}],\"choropleth\":[{\"colorbar\":{\"outlinewidth\":0,\"ticks\":\"\"},\"type\":\"choropleth\"}],\"contour\":[{\"colorbar\":{\"outlinewidth\":0,\"ticks\":\"\"},\"colorscale\":[[0.0,\"#0d0887\"],[0.1111111111111111,\"#46039f\"],[0.2222222222222222,\"#7201a8\"],[0.3333333333333333,\"#9c179e\"],[0.4444444444444444,\"#bd3786\"],[0.5555555555555556,\"#d8576b\"],[0.6666666666666666,\"#ed7953\"],[0.7777777777777778,\"#fb9f3a\"],[0.8888888888888888,\"#fdca26\"],[1.0,\"#f0f921\"]],\"type\":\"contour\"}],\"contourcarpet\":[{\"colorbar\":{\"outlinewidth\":0,\"ticks\":\"\"},\"type\":\"contourcarpet\"}],\"heatmap\":[{\"colorbar\":{\"outlinewidth\":0,\"ticks\":\"\"},\"colorscale\":[[0.0,\"#0d0887\"],[0.1111111111111111,\"#46039f\"],[0.2222222222222222,\"#7201a8\"],[0.3333333333333333,\"#9c179e\"],[0.4444444444444444,\"#bd3786\"],[0.5555555555555556,\"#d8576b\"],[0.6666666666666666,\"#ed7953\"],[0.7777777777777778,\"#fb9f3a\"],[0.8888888888888888,\"#fdca26\"],[1.0,\"#f0f921\"]],\"type\":\"heatmap\"}],\"heatmapgl\":[{\"colorbar\":{\"outlinewidth\":0,\"ticks\":\"\"},\"colorscale\":[[0.0,\"#0d0887\"],[0.1111111111111111,\"#46039f\"],[0.2222222222222222,\"#7201a8\"],[0.3333333333333333,\"#9c179e\"],[0.4444444444444444,\"#bd3786\"],[0.5555555555555556,\"#d8576b\"],[0.6666666666666666,\"#ed7953\"],[0.7777777777777778,\"#fb9f3a\"],[0.8888888888888888,\"#fdca26\"],[1.0,\"#f0f921\"]],\"type\":\"heatmapgl\"}],\"histogram\":[{\"marker\":{\"pattern\":{\"fillmode\":\"overlay\",\"size\":10,\"solidity\":0.2}},\"type\":\"histogram\"}],\"histogram2d\":[{\"colorbar\":{\"outlinewidth\":0,\"ticks\":\"\"},\"colorscale\":[[0.0,\"#0d0887\"],[0.1111111111111111,\"#46039f\"],[0.2222222222222222,\"#7201a8\"],[0.3333333333333333,\"#9c179e\"],[0.4444444444444444,\"#bd3786\"],[0.5555555555555556,\"#d8576b\"],[0.6666666666666666,\"#ed7953\"],[0.7777777777777778,\"#fb9f3a\"],[0.8888888888888888,\"#fdca26\"],[1.0,\"#f0f921\"]],\"type\":\"histogram2d\"}],\"histogram2dcontour\":[{\"colorbar\":{\"outlinewidth\":0,\"ticks\":\"\"},\"colorscale\":[[0.0,\"#0d0887\"],[0.1111111111111111,\"#46039f\"],[0.2222222222222222,\"#7201a8\"],[0.3333333333333333,\"#9c179e\"],[0.4444444444444444,\"#bd3786\"],[0.5555555555555556,\"#d8576b\"],[0.6666666666666666,\"#ed7953\"],[0.7777777777777778,\"#fb9f3a\"],[0.8888888888888888,\"#fdca26\"],[1.0,\"#f0f921\"]],\"type\":\"histogram2dcontour\"}],\"mesh3d\":[{\"colorbar\":{\"outlinewidth\":0,\"ticks\":\"\"},\"type\":\"mesh3d\"}],\"parcoords\":[{\"line\":{\"colorbar\":{\"outlinewidth\":0,\"ticks\":\"\"}},\"type\":\"parcoords\"}],\"pie\":[{\"automargin\":true,\"type\":\"pie\"}],\"scatter\":[{\"marker\":{\"colorbar\":{\"outlinewidth\":0,\"ticks\":\"\"}},\"type\":\"scatter\"}],\"scatter3d\":[{\"line\":{\"colorbar\":{\"outlinewidth\":0,\"ticks\":\"\"}},\"marker\":{\"colorbar\":{\"outlinewidth\":0,\"ticks\":\"\"}},\"type\":\"scatter3d\"}],\"scattercarpet\":[{\"marker\":{\"colorbar\":{\"outlinewidth\":0,\"ticks\":\"\"}},\"type\":\"scattercarpet\"}],\"scattergeo\":[{\"marker\":{\"colorbar\":{\"outlinewidth\":0,\"ticks\":\"\"}},\"type\":\"scattergeo\"}],\"scattergl\":[{\"marker\":{\"colorbar\":{\"outlinewidth\":0,\"ticks\":\"\"}},\"type\":\"scattergl\"}],\"scattermapbox\":[{\"marker\":{\"colorbar\":{\"outlinewidth\":0,\"ticks\":\"\"}},\"type\":\"scattermapbox\"}],\"scatterpolar\":[{\"marker\":{\"colorbar\":{\"outlinewidth\":0,\"ticks\":\"\"}},\"type\":\"scatterpolar\"}],\"scatterpolargl\":[{\"marker\":{\"colorbar\":{\"outlinewidth\":0,\"ticks\":\"\"}},\"type\":\"scatterpolargl\"}],\"scatterternary\":[{\"marker\":{\"colorbar\":{\"outlinewidth\":0,\"ticks\":\"\"}},\"type\":\"scatterternary\"}],\"surface\":[{\"colorbar\":{\"outlinewidth\":0,\"ticks\":\"\"},\"colorscale\":[[0.0,\"#0d0887\"],[0.1111111111111111,\"#46039f\"],[0.2222222222222222,\"#7201a8\"],[0.3333333333333333,\"#9c179e\"],[0.4444444444444444,\"#bd3786\"],[0.5555555555555556,\"#d8576b\"],[0.6666666666666666,\"#ed7953\"],[0.7777777777777778,\"#fb9f3a\"],[0.8888888888888888,\"#fdca26\"],[1.0,\"#f0f921\"]],\"type\":\"surface\"}],\"table\":[{\"cells\":{\"fill\":{\"color\":\"#EBF0F8\"},\"line\":{\"color\":\"white\"}},\"header\":{\"fill\":{\"color\":\"#C8D4E3\"},\"line\":{\"color\":\"white\"}},\"type\":\"table\"}]},\"layout\":{\"annotationdefaults\":{\"arrowcolor\":\"#2a3f5f\",\"arrowhead\":0,\"arrowwidth\":1},\"autotypenumbers\":\"strict\",\"coloraxis\":{\"colorbar\":{\"outlinewidth\":0,\"ticks\":\"\"}},\"colorscale\":{\"diverging\":[[0,\"#8e0152\"],[0.1,\"#c51b7d\"],[0.2,\"#de77ae\"],[0.3,\"#f1b6da\"],[0.4,\"#fde0ef\"],[0.5,\"#f7f7f7\"],[0.6,\"#e6f5d0\"],[0.7,\"#b8e186\"],[0.8,\"#7fbc41\"],[0.9,\"#4d9221\"],[1,\"#276419\"]],\"sequential\":[[0.0,\"#0d0887\"],[0.1111111111111111,\"#46039f\"],[0.2222222222222222,\"#7201a8\"],[0.3333333333333333,\"#9c179e\"],[0.4444444444444444,\"#bd3786\"],[0.5555555555555556,\"#d8576b\"],[0.6666666666666666,\"#ed7953\"],[0.7777777777777778,\"#fb9f3a\"],[0.8888888888888888,\"#fdca26\"],[1.0,\"#f0f921\"]],\"sequentialminus\":[[0.0,\"#0d0887\"],[0.1111111111111111,\"#46039f\"],[0.2222222222222222,\"#7201a8\"],[0.3333333333333333,\"#9c179e\"],[0.4444444444444444,\"#bd3786\"],[0.5555555555555556,\"#d8576b\"],[0.6666666666666666,\"#ed7953\"],[0.7777777777777778,\"#fb9f3a\"],[0.8888888888888888,\"#fdca26\"],[1.0,\"#f0f921\"]]},\"colorway\":[\"#636efa\",\"#EF553B\",\"#00cc96\",\"#ab63fa\",\"#FFA15A\",\"#19d3f3\",\"#FF6692\",\"#B6E880\",\"#FF97FF\",\"#FECB52\"],\"font\":{\"color\":\"#2a3f5f\"},\"geo\":{\"bgcolor\":\"white\",\"lakecolor\":\"white\",\"landcolor\":\"#E5ECF6\",\"showlakes\":true,\"showland\":true,\"subunitcolor\":\"white\"},\"hoverlabel\":{\"align\":\"left\"},\"hovermode\":\"closest\",\"mapbox\":{\"style\":\"light\"},\"paper_bgcolor\":\"white\",\"plot_bgcolor\":\"#E5ECF6\",\"polar\":{\"angularaxis\":{\"gridcolor\":\"white\",\"linecolor\":\"white\",\"ticks\":\"\"},\"bgcolor\":\"#E5ECF6\",\"radialaxis\":{\"gridcolor\":\"white\",\"linecolor\":\"white\",\"ticks\":\"\"}},\"scene\":{\"xaxis\":{\"backgroundcolor\":\"#E5ECF6\",\"gridcolor\":\"white\",\"gridwidth\":2,\"linecolor\":\"white\",\"showbackground\":true,\"ticks\":\"\",\"zerolinecolor\":\"white\"},\"yaxis\":{\"backgroundcolor\":\"#E5ECF6\",\"gridcolor\":\"white\",\"gridwidth\":2,\"linecolor\":\"white\",\"showbackground\":true,\"ticks\":\"\",\"zerolinecolor\":\"white\"},\"zaxis\":{\"backgroundcolor\":\"#E5ECF6\",\"gridcolor\":\"white\",\"gridwidth\":2,\"linecolor\":\"white\",\"showbackground\":true,\"ticks\":\"\",\"zerolinecolor\":\"white\"}},\"shapedefaults\":{\"line\":{\"color\":\"#2a3f5f\"}},\"ternary\":{\"aaxis\":{\"gridcolor\":\"white\",\"linecolor\":\"white\",\"ticks\":\"\"},\"baxis\":{\"gridcolor\":\"white\",\"linecolor\":\"white\",\"ticks\":\"\"},\"bgcolor\":\"#E5ECF6\",\"caxis\":{\"gridcolor\":\"white\",\"linecolor\":\"white\",\"ticks\":\"\"}},\"title\":{\"x\":0.05},\"xaxis\":{\"automargin\":true,\"gridcolor\":\"white\",\"linecolor\":\"white\",\"ticks\":\"\",\"title\":{\"standoff\":15},\"zerolinecolor\":\"white\",\"zerolinewidth\":2},\"yaxis\":{\"automargin\":true,\"gridcolor\":\"white\",\"linecolor\":\"white\",\"ticks\":\"\",\"title\":{\"standoff\":15},\"zerolinecolor\":\"white\",\"zerolinewidth\":2}}},\"xaxis\":{\"anchor\":\"y\",\"domain\":[0.0,1.0],\"title\":{\"text\":\"Actuals\"}},\"yaxis\":{\"anchor\":\"x\",\"domain\":[0.0,1.0],\"title\":{\"text\":\"Predictions\"}},\"legend\":{\"tracegroupgap\":0},\"margin\":{\"t\":60},\"title\":{\"text\":\"Predictions - Actuals Comparison\"},\"autosize\":false,\"width\":800,\"height\":500},                        {\"responsive\": true}                    ).then(function(){\n",
       "                            \n",
       "var gd = document.getElementById('63afc2e9-6e0e-4550-acb7-ac2ef472469d');\n",
       "var x = new MutationObserver(function (mutations, observer) {{\n",
       "        var display = window.getComputedStyle(gd).display;\n",
       "        if (!display || display === 'none') {{\n",
       "            console.log([gd, 'removed!']);\n",
       "            Plotly.purge(gd);\n",
       "            observer.disconnect();\n",
       "        }}\n",
       "}});\n",
       "\n",
       "// Listen for the removal of the full notebook cells\n",
       "var notebookContainer = gd.closest('#notebook-container');\n",
       "if (notebookContainer) {{\n",
       "    x.observe(notebookContainer, {childList: true});\n",
       "}}\n",
       "\n",
       "// Listen for the clearing of the current output cell\n",
       "var outputEl = gd.closest('.output');\n",
       "if (outputEl) {{\n",
       "    x.observe(outputEl, {childList: true});\n",
       "}}\n",
       "\n",
       "                        })                };                });            </script>        </div>"
      ]
     },
     "metadata": {},
     "output_type": "display_data"
    }
   ],
   "source": [
    "fig = px.scatter(res, x=\"Actuals\", y=\"Predictions\")\n",
    "\n",
    "fig.update_layout(\n",
    "    autosize=False,\n",
    "    width=800,\n",
    "    height=500,\n",
    "    title_text=\"Predictions - Actuals Comparison\",\n",
    ")\n",
    "\n",
    "fig.show()"
   ]
  },
  {
   "cell_type": "code",
   "execution_count": 262,
   "id": "ff6404a7-6db1-4d82-9954-ac7c4c4a1737",
   "metadata": {},
   "outputs": [
    {
     "name": "stdout",
     "output_type": "stream",
     "text": [
      "Epoch 1/1000\n",
      "25/25 [==============================] - 0s 1ms/step - loss: 0.6605\n",
      "Epoch 2/1000\n",
      "25/25 [==============================] - 0s 964us/step - loss: 0.0139\n",
      "Epoch 3/1000\n",
      "25/25 [==============================] - 0s 964us/step - loss: 0.0113\n",
      "Epoch 4/1000\n",
      "25/25 [==============================] - 0s 959us/step - loss: 0.0103\n",
      "Epoch 5/1000\n",
      "25/25 [==============================] - 0s 985us/step - loss: 0.0093\n",
      "Epoch 6/1000\n",
      "25/25 [==============================] - 0s 972us/step - loss: 0.0078\n",
      "Epoch 7/1000\n",
      "25/25 [==============================] - 0s 979us/step - loss: 0.0084\n",
      "Epoch 8/1000\n",
      "25/25 [==============================] - 0s 1ms/step - loss: 0.0076\n",
      "Epoch 9/1000\n",
      "25/25 [==============================] - 0s 969us/step - loss: 0.0071\n",
      "Epoch 10/1000\n",
      "25/25 [==============================] - 0s 997us/step - loss: 0.0067\n",
      "Epoch 11/1000\n",
      "25/25 [==============================] - 0s 980us/step - loss: 0.0070\n",
      "Epoch 12/1000\n",
      "25/25 [==============================] - 0s 936us/step - loss: 0.0073\n",
      "Epoch 13/1000\n",
      "25/25 [==============================] - 0s 962us/step - loss: 0.0067\n",
      "Epoch 14/1000\n",
      "25/25 [==============================] - 0s 971us/step - loss: 0.0056\n",
      "Epoch 15/1000\n",
      "25/25 [==============================] - 0s 973us/step - loss: 0.0059\n",
      "Epoch 16/1000\n",
      "25/25 [==============================] - 0s 990us/step - loss: 0.0061\n",
      "Epoch 17/1000\n",
      "25/25 [==============================] - 0s 964us/step - loss: 0.0054\n",
      "Epoch 18/1000\n",
      "25/25 [==============================] - 0s 971us/step - loss: 0.0051\n",
      "Epoch 19/1000\n",
      "25/25 [==============================] - 0s 978us/step - loss: 0.0055\n",
      "Epoch 20/1000\n",
      "25/25 [==============================] - 0s 970us/step - loss: 0.0044\n",
      "Epoch 21/1000\n",
      "25/25 [==============================] - 0s 962us/step - loss: 0.0050\n",
      "Epoch 22/1000\n",
      "25/25 [==============================] - 0s 988us/step - loss: 0.0053\n",
      "Epoch 23/1000\n",
      "25/25 [==============================] - 0s 967us/step - loss: 0.0046\n",
      "Epoch 24/1000\n",
      "25/25 [==============================] - 0s 963us/step - loss: 0.0039\n",
      "Epoch 25/1000\n",
      "25/25 [==============================] - 0s 980us/step - loss: 0.0050\n",
      "Epoch 26/1000\n",
      "25/25 [==============================] - 0s 961us/step - loss: 0.0037\n",
      "Epoch 27/1000\n",
      "25/25 [==============================] - 0s 960us/step - loss: 0.0036\n",
      "Epoch 28/1000\n",
      "25/25 [==============================] - 0s 969us/step - loss: 0.0037\n",
      "Epoch 29/1000\n",
      "25/25 [==============================] - 0s 983us/step - loss: 0.0051\n",
      "Epoch 30/1000\n",
      "25/25 [==============================] - 0s 959us/step - loss: 0.0033\n",
      "Epoch 31/1000\n",
      "25/25 [==============================] - 0s 1000us/step - loss: 0.0031\n",
      "Epoch 32/1000\n",
      "25/25 [==============================] - 0s 987us/step - loss: 0.0030\n",
      "Epoch 33/1000\n",
      "25/25 [==============================] - 0s 970us/step - loss: 0.0029\n",
      "Epoch 34/1000\n",
      "25/25 [==============================] - 0s 965us/step - loss: 0.0030\n",
      "Epoch 35/1000\n",
      "25/25 [==============================] - 0s 980us/step - loss: 0.0031\n",
      "Epoch 36/1000\n",
      "25/25 [==============================] - 0s 978us/step - loss: 0.0026\n",
      "Epoch 37/1000\n",
      "25/25 [==============================] - 0s 967us/step - loss: 0.0023\n",
      "Epoch 38/1000\n",
      "25/25 [==============================] - 0s 968us/step - loss: 0.0024\n",
      "Epoch 39/1000\n",
      "25/25 [==============================] - 0s 969us/step - loss: 0.0030\n",
      "Epoch 40/1000\n",
      "25/25 [==============================] - 0s 972us/step - loss: 0.0026\n",
      "Epoch 41/1000\n",
      "25/25 [==============================] - 0s 973us/step - loss: 0.0023\n",
      "Epoch 42/1000\n",
      "25/25 [==============================] - 0s 980us/step - loss: 0.0022\n",
      "Epoch 43/1000\n",
      "25/25 [==============================] - 0s 959us/step - loss: 0.0027\n",
      "Epoch 44/1000\n",
      "25/25 [==============================] - 0s 974us/step - loss: 0.0035\n",
      "Epoch 45/1000\n",
      "25/25 [==============================] - 0s 956us/step - loss: 0.0021\n",
      "Epoch 46/1000\n",
      "25/25 [==============================] - 0s 959us/step - loss: 0.0018\n",
      "Epoch 47/1000\n",
      "25/25 [==============================] - 0s 1ms/step - loss: 0.0019\n",
      "Epoch 48/1000\n",
      "25/25 [==============================] - 0s 1ms/step - loss: 0.0022\n",
      "Epoch 49/1000\n",
      "25/25 [==============================] - 0s 1ms/step - loss: 0.0026\n",
      "Epoch 50/1000\n",
      "25/25 [==============================] - 0s 1ms/step - loss: 0.0032\n",
      "Epoch 51/1000\n",
      "25/25 [==============================] - 0s 997us/step - loss: 0.0019\n",
      "Epoch 52/1000\n",
      "25/25 [==============================] - 0s 968us/step - loss: 0.0018\n",
      "Epoch 53/1000\n",
      "25/25 [==============================] - 0s 961us/step - loss: 0.0024\n",
      "Epoch 54/1000\n",
      "25/25 [==============================] - 0s 975us/step - loss: 0.0021\n",
      "Epoch 55/1000\n",
      "25/25 [==============================] - 0s 960us/step - loss: 0.0018\n",
      "Epoch 56/1000\n",
      "25/25 [==============================] - 0s 980us/step - loss: 0.0017\n",
      "Epoch 57/1000\n",
      "25/25 [==============================] - 0s 947us/step - loss: 0.0015\n",
      "Epoch 58/1000\n",
      "25/25 [==============================] - 0s 964us/step - loss: 0.0014\n",
      "Epoch 59/1000\n",
      "25/25 [==============================] - 0s 980us/step - loss: 0.0014\n",
      "Epoch 60/1000\n",
      "25/25 [==============================] - 0s 962us/step - loss: 0.0013\n",
      "Epoch 61/1000\n",
      "25/25 [==============================] - 0s 969us/step - loss: 0.0014\n",
      "Epoch 62/1000\n",
      "25/25 [==============================] - 0s 961us/step - loss: 0.0012\n",
      "Epoch 63/1000\n",
      "25/25 [==============================] - 0s 966us/step - loss: 0.0017\n",
      "Epoch 64/1000\n",
      "25/25 [==============================] - 0s 972us/step - loss: 0.0013\n",
      "Epoch 65/1000\n",
      "25/25 [==============================] - 0s 957us/step - loss: 0.0012\n",
      "Epoch 66/1000\n",
      "25/25 [==============================] - 0s 983us/step - loss: 0.0015\n",
      "Epoch 67/1000\n",
      "25/25 [==============================] - 0s 1ms/step - loss: 0.0011\n",
      "Epoch 68/1000\n",
      "25/25 [==============================] - 0s 1ms/step - loss: 0.0011\n",
      "Epoch 69/1000\n",
      "25/25 [==============================] - 0s 1ms/step - loss: 9.1118e-04\n",
      "Epoch 70/1000\n",
      "25/25 [==============================] - 0s 1ms/step - loss: 0.0012\n",
      "Epoch 71/1000\n",
      "25/25 [==============================] - 0s 1ms/step - loss: 9.5936e-04\n",
      "Epoch 72/1000\n",
      "25/25 [==============================] - 0s 991us/step - loss: 8.2057e-04\n",
      "Epoch 73/1000\n",
      "25/25 [==============================] - 0s 1ms/step - loss: 8.6146e-04\n",
      "Epoch 74/1000\n",
      "25/25 [==============================] - 0s 1ms/step - loss: 7.7691e-04\n",
      "Epoch 75/1000\n",
      "25/25 [==============================] - 0s 1ms/step - loss: 9.9217e-04\n",
      "Epoch 76/1000\n",
      "25/25 [==============================] - 0s 970us/step - loss: 0.0013\n",
      "Epoch 77/1000\n",
      "25/25 [==============================] - 0s 937us/step - loss: 0.0013\n",
      "Epoch 78/1000\n",
      "25/25 [==============================] - 0s 958us/step - loss: 9.4848e-04\n",
      "Epoch 79/1000\n",
      "25/25 [==============================] - 0s 964us/step - loss: 8.6178e-04\n",
      "Epoch 80/1000\n",
      "25/25 [==============================] - 0s 972us/step - loss: 9.1541e-04\n",
      "Epoch 81/1000\n",
      "25/25 [==============================] - 0s 1ms/step - loss: 7.9397e-04\n",
      "Epoch 82/1000\n",
      "25/25 [==============================] - 0s 1ms/step - loss: 9.7622e-04\n",
      "Epoch 83/1000\n",
      "25/25 [==============================] - 0s 1ms/step - loss: 9.2351e-04\n",
      "Epoch 84/1000\n",
      "25/25 [==============================] - 0s 1ms/step - loss: 0.0012\n",
      "Epoch 85/1000\n",
      "25/25 [==============================] - 0s 1ms/step - loss: 0.0012\n",
      "Epoch 86/1000\n",
      "25/25 [==============================] - 0s 990us/step - loss: 7.2585e-04\n",
      "Epoch 87/1000\n",
      "25/25 [==============================] - 0s 987us/step - loss: 0.0011\n",
      "Epoch 88/1000\n",
      "25/25 [==============================] - 0s 983us/step - loss: 9.0800e-04\n",
      "Epoch 89/1000\n",
      "25/25 [==============================] - 0s 990us/step - loss: 7.7679e-04\n",
      "Epoch 90/1000\n",
      "25/25 [==============================] - 0s 990us/step - loss: 6.9305e-04\n",
      "Epoch 91/1000\n",
      "25/25 [==============================] - 0s 966us/step - loss: 5.5735e-04\n",
      "Epoch 92/1000\n",
      "25/25 [==============================] - 0s 943us/step - loss: 7.3479e-04\n",
      "Epoch 93/1000\n",
      "25/25 [==============================] - 0s 961us/step - loss: 0.0013\n",
      "Epoch 94/1000\n",
      "25/25 [==============================] - 0s 951us/step - loss: 9.0805e-04\n",
      "Epoch 95/1000\n",
      "25/25 [==============================] - 0s 966us/step - loss: 6.5953e-04\n",
      "Epoch 96/1000\n",
      "25/25 [==============================] - 0s 963us/step - loss: 5.1307e-04\n",
      "Epoch 97/1000\n",
      "25/25 [==============================] - 0s 966us/step - loss: 4.2678e-04\n",
      "Epoch 98/1000\n",
      "25/25 [==============================] - 0s 962us/step - loss: 6.8410e-04\n",
      "Epoch 99/1000\n",
      "25/25 [==============================] - 0s 965us/step - loss: 5.6681e-04\n",
      "Epoch 100/1000\n",
      "25/25 [==============================] - 0s 990us/step - loss: 5.1429e-04\n",
      "Epoch 101/1000\n",
      "25/25 [==============================] - 0s 948us/step - loss: 5.2600e-04\n",
      "Epoch 102/1000\n",
      "25/25 [==============================] - 0s 960us/step - loss: 7.7237e-04\n",
      "Epoch 103/1000\n",
      "25/25 [==============================] - 0s 967us/step - loss: 6.1580e-04\n",
      "Epoch 104/1000\n",
      "25/25 [==============================] - 0s 967us/step - loss: 6.0011e-04\n",
      "Epoch 105/1000\n",
      "25/25 [==============================] - 0s 953us/step - loss: 5.2939e-04\n",
      "Epoch 106/1000\n",
      "25/25 [==============================] - 0s 985us/step - loss: 3.9384e-04\n",
      "Epoch 107/1000\n",
      "25/25 [==============================] - 0s 938us/step - loss: 5.2713e-04\n",
      "Epoch 108/1000\n",
      "25/25 [==============================] - 0s 961us/step - loss: 6.2905e-04\n",
      "Epoch 109/1000\n",
      "25/25 [==============================] - 0s 950us/step - loss: 4.3307e-04\n",
      "Epoch 110/1000\n",
      "25/25 [==============================] - 0s 952us/step - loss: 3.7447e-04\n",
      "Epoch 111/1000\n",
      "25/25 [==============================] - 0s 953us/step - loss: 3.8590e-04\n",
      "Epoch 112/1000\n",
      "25/25 [==============================] - 0s 969us/step - loss: 4.3365e-04\n",
      "Epoch 113/1000\n",
      "25/25 [==============================] - 0s 967us/step - loss: 4.7177e-04\n",
      "Epoch 114/1000\n",
      "25/25 [==============================] - 0s 961us/step - loss: 3.4474e-04\n",
      "Epoch 115/1000\n",
      "25/25 [==============================] - 0s 962us/step - loss: 3.7692e-04\n",
      "Epoch 116/1000\n",
      "25/25 [==============================] - 0s 962us/step - loss: 3.6269e-04\n",
      "Epoch 117/1000\n",
      "25/25 [==============================] - 0s 957us/step - loss: 3.5942e-04\n",
      "Epoch 118/1000\n",
      "25/25 [==============================] - 0s 974us/step - loss: 3.9266e-04\n",
      "Epoch 119/1000\n",
      "25/25 [==============================] - 0s 966us/step - loss: 2.7647e-04\n",
      "Epoch 120/1000\n",
      "25/25 [==============================] - 0s 976us/step - loss: 4.5477e-04\n",
      "Epoch 121/1000\n",
      "25/25 [==============================] - 0s 947us/step - loss: 4.2545e-04\n",
      "Epoch 122/1000\n",
      "25/25 [==============================] - 0s 962us/step - loss: 7.2016e-04\n",
      "Epoch 123/1000\n",
      "25/25 [==============================] - 0s 951us/step - loss: 6.2215e-04\n",
      "Epoch 124/1000\n",
      "25/25 [==============================] - 0s 956us/step - loss: 6.8903e-04\n",
      "Epoch 125/1000\n",
      "25/25 [==============================] - 0s 943us/step - loss: 5.3952e-04\n",
      "Epoch 126/1000\n",
      "25/25 [==============================] - 0s 962us/step - loss: 4.9151e-04\n",
      "Epoch 127/1000\n",
      "25/25 [==============================] - 0s 954us/step - loss: 4.1288e-04\n",
      "Epoch 128/1000\n",
      "25/25 [==============================] - 0s 936us/step - loss: 7.0029e-04\n",
      "Epoch 129/1000\n",
      "25/25 [==============================] - 0s 966us/step - loss: 4.5400e-04\n",
      "Epoch 130/1000\n",
      "25/25 [==============================] - 0s 974us/step - loss: 7.7393e-04\n",
      "Epoch 131/1000\n",
      "25/25 [==============================] - 0s 958us/step - loss: 6.5909e-04\n",
      "Epoch 132/1000\n",
      "25/25 [==============================] - 0s 962us/step - loss: 3.6217e-04\n",
      "Epoch 133/1000\n",
      "25/25 [==============================] - 0s 958us/step - loss: 6.5050e-04\n",
      "Epoch 134/1000\n",
      "25/25 [==============================] - 0s 969us/step - loss: 4.6507e-04\n",
      "Epoch 135/1000\n",
      "25/25 [==============================] - 0s 954us/step - loss: 4.1654e-04\n",
      "Epoch 136/1000\n",
      "25/25 [==============================] - 0s 951us/step - loss: 6.1925e-04\n",
      "Epoch 137/1000\n",
      "25/25 [==============================] - 0s 974us/step - loss: 4.3413e-04\n",
      "Epoch 138/1000\n",
      "25/25 [==============================] - 0s 952us/step - loss: 3.4899e-04\n",
      "Epoch 139/1000\n",
      "25/25 [==============================] - 0s 966us/step - loss: 3.0811e-04\n",
      "Epoch 140/1000\n",
      "25/25 [==============================] - 0s 968us/step - loss: 3.1845e-04\n",
      "Epoch 141/1000\n",
      "25/25 [==============================] - 0s 957us/step - loss: 2.4313e-04\n",
      "Epoch 142/1000\n",
      "25/25 [==============================] - 0s 946us/step - loss: 2.9645e-04\n",
      "Epoch 143/1000\n",
      "25/25 [==============================] - 0s 976us/step - loss: 3.1228e-04\n",
      "Epoch 144/1000\n",
      "25/25 [==============================] - 0s 937us/step - loss: 3.1912e-04\n",
      "Epoch 145/1000\n",
      "25/25 [==============================] - 0s 947us/step - loss: 5.4739e-04\n",
      "Epoch 146/1000\n",
      "25/25 [==============================] - 0s 960us/step - loss: 5.6778e-04\n",
      "Epoch 147/1000\n",
      "25/25 [==============================] - 0s 970us/step - loss: 3.8939e-04\n",
      "Epoch 148/1000\n",
      "25/25 [==============================] - 0s 981us/step - loss: 5.5321e-04\n",
      "Epoch 149/1000\n",
      "25/25 [==============================] - 0s 946us/step - loss: 7.5913e-04\n",
      "Epoch 150/1000\n",
      "25/25 [==============================] - 0s 974us/step - loss: 5.6644e-04\n",
      "Epoch 151/1000\n",
      "25/25 [==============================] - 0s 947us/step - loss: 4.4926e-04\n",
      "Epoch 152/1000\n",
      "25/25 [==============================] - 0s 980us/step - loss: 4.0332e-04\n",
      "Epoch 153/1000\n",
      "25/25 [==============================] - 0s 948us/step - loss: 2.5689e-04\n",
      "Epoch 154/1000\n",
      "25/25 [==============================] - 0s 942us/step - loss: 2.9764e-04\n",
      "Epoch 155/1000\n",
      "25/25 [==============================] - 0s 969us/step - loss: 4.8858e-04\n",
      "Epoch 156/1000\n",
      "25/25 [==============================] - 0s 980us/step - loss: 2.6295e-04\n",
      "Epoch 157/1000\n",
      "25/25 [==============================] - 0s 956us/step - loss: 2.7751e-04\n",
      "Epoch 158/1000\n",
      "25/25 [==============================] - 0s 960us/step - loss: 1.9542e-04\n",
      "Epoch 159/1000\n",
      "25/25 [==============================] - 0s 961us/step - loss: 2.4750e-04\n",
      "Epoch 160/1000\n",
      "25/25 [==============================] - 0s 971us/step - loss: 1.9174e-04\n",
      "Epoch 161/1000\n",
      "25/25 [==============================] - 0s 954us/step - loss: 1.9962e-04\n",
      "Epoch 162/1000\n",
      "25/25 [==============================] - 0s 964us/step - loss: 2.1146e-04\n",
      "Epoch 163/1000\n",
      "25/25 [==============================] - 0s 961us/step - loss: 1.9557e-04\n",
      "Epoch 164/1000\n",
      "25/25 [==============================] - 0s 912us/step - loss: 2.1748e-04\n",
      "Epoch 165/1000\n",
      "25/25 [==============================] - 0s 912us/step - loss: 2.5312e-04\n",
      "Epoch 166/1000\n",
      "25/25 [==============================] - 0s 903us/step - loss: 2.1395e-04\n",
      "Epoch 167/1000\n",
      "25/25 [==============================] - 0s 916us/step - loss: 2.7353e-04\n",
      "Epoch 168/1000\n",
      "25/25 [==============================] - 0s 942us/step - loss: 2.5937e-04\n",
      "Epoch 169/1000\n",
      "25/25 [==============================] - 0s 943us/step - loss: 2.6679e-04\n",
      "Epoch 170/1000\n",
      "25/25 [==============================] - 0s 943us/step - loss: 3.0921e-04\n",
      "Epoch 171/1000\n",
      "25/25 [==============================] - 0s 966us/step - loss: 5.1264e-04\n",
      "Epoch 172/1000\n",
      "25/25 [==============================] - 0s 947us/step - loss: 8.0048e-04\n",
      "Epoch 173/1000\n",
      "25/25 [==============================] - 0s 953us/step - loss: 6.0282e-04\n",
      "Epoch 174/1000\n",
      "25/25 [==============================] - 0s 946us/step - loss: 4.8125e-04\n",
      "Epoch 175/1000\n",
      "25/25 [==============================] - 0s 965us/step - loss: 8.1574e-04\n",
      "Epoch 176/1000\n",
      "25/25 [==============================] - 0s 952us/step - loss: 4.1833e-04\n",
      "Epoch 177/1000\n",
      "25/25 [==============================] - 0s 954us/step - loss: 0.0010\n",
      "Epoch 178/1000\n",
      "25/25 [==============================] - 0s 941us/step - loss: 8.2408e-04\n",
      "Epoch 179/1000\n",
      "25/25 [==============================] - 0s 954us/step - loss: 7.3830e-04\n",
      "Epoch 180/1000\n",
      "25/25 [==============================] - 0s 963us/step - loss: 3.6920e-04\n",
      "Epoch 181/1000\n",
      "25/25 [==============================] - 0s 954us/step - loss: 3.3096e-04\n",
      "Epoch 182/1000\n",
      "25/25 [==============================] - 0s 1ms/step - loss: 3.6630e-04\n",
      "Epoch 183/1000\n",
      "25/25 [==============================] - 0s 1ms/step - loss: 3.9474e-04\n",
      "Epoch 184/1000\n",
      "25/25 [==============================] - 0s 1ms/step - loss: 4.0766e-04\n",
      "Epoch 185/1000\n",
      "25/25 [==============================] - 0s 1ms/step - loss: 3.4448e-04\n",
      "Epoch 186/1000\n",
      "25/25 [==============================] - 0s 1ms/step - loss: 3.1450e-04\n",
      "Epoch 187/1000\n",
      "25/25 [==============================] - 0s 976us/step - loss: 3.8751e-04\n",
      "Epoch 188/1000\n",
      "25/25 [==============================] - 0s 979us/step - loss: 4.8371e-04\n",
      "Epoch 189/1000\n",
      "25/25 [==============================] - 0s 948us/step - loss: 3.3882e-04\n",
      "Epoch 190/1000\n",
      "25/25 [==============================] - 0s 953us/step - loss: 2.4297e-04\n",
      "Epoch 191/1000\n",
      "25/25 [==============================] - 0s 986us/step - loss: 2.5110e-04\n",
      "Epoch 192/1000\n",
      "25/25 [==============================] - 0s 943us/step - loss: 1.9470e-04\n",
      "Epoch 193/1000\n",
      "25/25 [==============================] - 0s 965us/step - loss: 1.9314e-04\n",
      "Epoch 194/1000\n",
      "25/25 [==============================] - 0s 969us/step - loss: 1.7758e-04\n",
      "Epoch 195/1000\n",
      "25/25 [==============================] - 0s 984us/step - loss: 3.2582e-04\n",
      "Epoch 196/1000\n",
      "25/25 [==============================] - 0s 1ms/step - loss: 5.3826e-04\n",
      "Epoch 197/1000\n",
      "25/25 [==============================] - 0s 982us/step - loss: 3.8316e-04\n",
      "Epoch 198/1000\n",
      "25/25 [==============================] - 0s 959us/step - loss: 3.0821e-04\n",
      "Epoch 199/1000\n",
      "25/25 [==============================] - 0s 994us/step - loss: 4.6900e-04\n",
      "Epoch 200/1000\n",
      "25/25 [==============================] - 0s 982us/step - loss: 3.6787e-04\n",
      "Epoch 201/1000\n",
      "25/25 [==============================] - 0s 946us/step - loss: 3.8501e-04\n",
      "Epoch 202/1000\n",
      "25/25 [==============================] - 0s 980us/step - loss: 3.4523e-04\n",
      "Epoch 203/1000\n",
      "25/25 [==============================] - 0s 965us/step - loss: 3.1495e-04\n",
      "Epoch 204/1000\n",
      "25/25 [==============================] - 0s 963us/step - loss: 1.7889e-04\n",
      "Epoch 205/1000\n",
      "25/25 [==============================] - 0s 981us/step - loss: 2.4757e-04\n",
      "Epoch 206/1000\n",
      "25/25 [==============================] - 0s 989us/step - loss: 5.0476e-04\n",
      "Epoch 207/1000\n",
      "25/25 [==============================] - 0s 980us/step - loss: 3.6600e-04\n",
      "Epoch 208/1000\n",
      "25/25 [==============================] - 0s 979us/step - loss: 2.7896e-04\n",
      "Epoch 209/1000\n",
      "25/25 [==============================] - 0s 969us/step - loss: 2.7885e-04\n",
      "Epoch 210/1000\n",
      "25/25 [==============================] - 0s 972us/step - loss: 2.1461e-04\n",
      "Epoch 211/1000\n",
      "25/25 [==============================] - 0s 971us/step - loss: 3.8701e-04\n",
      "Epoch 212/1000\n",
      "25/25 [==============================] - 0s 1ms/step - loss: 5.4010e-04\n",
      "Epoch 213/1000\n",
      "25/25 [==============================] - 0s 997us/step - loss: 6.6325e-04\n",
      "Epoch 214/1000\n",
      "25/25 [==============================] - 0s 993us/step - loss: 5.8562e-04\n",
      "Epoch 215/1000\n",
      "25/25 [==============================] - 0s 977us/step - loss: 4.7560e-04\n",
      "Epoch 216/1000\n",
      "25/25 [==============================] - 0s 971us/step - loss: 4.1780e-04\n",
      "Epoch 217/1000\n",
      "25/25 [==============================] - 0s 1ms/step - loss: 3.7254e-04\n",
      "Epoch 218/1000\n",
      "25/25 [==============================] - 0s 1ms/step - loss: 3.1909e-04\n",
      "Epoch 219/1000\n",
      "25/25 [==============================] - 0s 1ms/step - loss: 3.0666e-04\n",
      "Epoch 220/1000\n",
      "25/25 [==============================] - 0s 1ms/step - loss: 2.2087e-04\n",
      "Epoch 221/1000\n",
      "25/25 [==============================] - 0s 1ms/step - loss: 1.6913e-04\n",
      "Epoch 222/1000\n",
      "25/25 [==============================] - 0s 958us/step - loss: 2.1781e-04\n",
      "Epoch 223/1000\n",
      "25/25 [==============================] - 0s 992us/step - loss: 2.3957e-04\n",
      "Epoch 224/1000\n",
      "25/25 [==============================] - 0s 964us/step - loss: 4.3792e-04\n",
      "Epoch 225/1000\n",
      "25/25 [==============================] - 0s 976us/step - loss: 3.0806e-04\n",
      "Epoch 226/1000\n",
      "25/25 [==============================] - 0s 998us/step - loss: 2.3533e-04\n",
      "Epoch 227/1000\n",
      "25/25 [==============================] - 0s 1ms/step - loss: 2.4539e-04\n",
      "Epoch 228/1000\n",
      "25/25 [==============================] - 0s 1ms/step - loss: 1.1748e-04\n",
      "Epoch 229/1000\n",
      "25/25 [==============================] - 0s 1ms/step - loss: 1.4369e-04\n",
      "Epoch 230/1000\n",
      "25/25 [==============================] - 0s 1ms/step - loss: 1.5595e-04\n",
      "Epoch 231/1000\n",
      "25/25 [==============================] - 0s 996us/step - loss: 1.5856e-04\n",
      "Epoch 232/1000\n",
      "25/25 [==============================] - 0s 980us/step - loss: 2.0082e-04\n",
      "Epoch 233/1000\n",
      "25/25 [==============================] - 0s 981us/step - loss: 3.0728e-04\n",
      "Epoch 234/1000\n",
      "25/25 [==============================] - 0s 974us/step - loss: 3.1956e-04\n",
      "Epoch 235/1000\n",
      "25/25 [==============================] - 0s 961us/step - loss: 4.8916e-04\n",
      "Epoch 236/1000\n",
      "25/25 [==============================] - 0s 1ms/step - loss: 9.4335e-04\n",
      "Epoch 237/1000\n",
      "25/25 [==============================] - 0s 1ms/step - loss: 8.0549e-04\n",
      "Epoch 238/1000\n",
      "25/25 [==============================] - 0s 984us/step - loss: 4.7569e-04\n",
      "Epoch 239/1000\n",
      "25/25 [==============================] - 0s 1ms/step - loss: 3.8538e-04\n",
      "Epoch 240/1000\n",
      "25/25 [==============================] - 0s 1ms/step - loss: 2.9274e-04\n",
      "Epoch 241/1000\n",
      "25/25 [==============================] - 0s 959us/step - loss: 4.0037e-04\n",
      "Epoch 242/1000\n",
      "25/25 [==============================] - 0s 961us/step - loss: 4.0052e-04\n",
      "Epoch 243/1000\n",
      "25/25 [==============================] - 0s 951us/step - loss: 2.8107e-04\n",
      "Epoch 244/1000\n",
      "25/25 [==============================] - 0s 969us/step - loss: 4.1026e-04\n",
      "Epoch 245/1000\n",
      "25/25 [==============================] - 0s 979us/step - loss: 3.5154e-04\n",
      "Epoch 246/1000\n",
      "25/25 [==============================] - 0s 971us/step - loss: 3.8813e-04\n",
      "Epoch 247/1000\n",
      "25/25 [==============================] - 0s 979us/step - loss: 4.0770e-04\n",
      "Epoch 248/1000\n",
      "25/25 [==============================] - 0s 980us/step - loss: 4.8363e-04\n",
      "Epoch 249/1000\n",
      "25/25 [==============================] - 0s 986us/step - loss: 4.3042e-04\n",
      "Epoch 250/1000\n",
      "25/25 [==============================] - 0s 964us/step - loss: 6.5166e-04\n",
      "Epoch 251/1000\n",
      "25/25 [==============================] - 0s 1ms/step - loss: 4.9349e-04\n",
      "Epoch 252/1000\n",
      "25/25 [==============================] - 0s 960us/step - loss: 0.0011\n",
      "Epoch 253/1000\n",
      "25/25 [==============================] - 0s 978us/step - loss: 8.5450e-04\n",
      "Epoch 254/1000\n",
      "25/25 [==============================] - 0s 963us/step - loss: 4.1608e-04\n",
      "Epoch 255/1000\n",
      "25/25 [==============================] - 0s 965us/step - loss: 4.7942e-04\n",
      "Epoch 256/1000\n",
      "25/25 [==============================] - 0s 989us/step - loss: 3.8862e-04\n",
      "Epoch 257/1000\n",
      "25/25 [==============================] - 0s 1ms/step - loss: 3.2271e-04\n",
      "Epoch 258/1000\n",
      "25/25 [==============================] - 0s 973us/step - loss: 2.7876e-04\n",
      "Epoch 259/1000\n",
      "25/25 [==============================] - 0s 982us/step - loss: 6.7750e-04\n",
      "Epoch 260/1000\n",
      "25/25 [==============================] - 0s 978us/step - loss: 0.0011\n",
      "Epoch 261/1000\n",
      "25/25 [==============================] - 0s 991us/step - loss: 8.5391e-04\n",
      "Epoch 262/1000\n",
      "25/25 [==============================] - 0s 968us/step - loss: 0.0012\n",
      "Epoch 263/1000\n",
      "25/25 [==============================] - 0s 977us/step - loss: 7.3425e-04\n",
      "Epoch 264/1000\n",
      "25/25 [==============================] - 0s 975us/step - loss: 4.6367e-04\n",
      "Epoch 265/1000\n",
      "25/25 [==============================] - 0s 963us/step - loss: 4.3701e-04\n",
      "Epoch 266/1000\n",
      "25/25 [==============================] - 0s 975us/step - loss: 4.3289e-04\n",
      "Epoch 267/1000\n",
      "25/25 [==============================] - 0s 970us/step - loss: 3.2295e-04\n",
      "Epoch 268/1000\n",
      "25/25 [==============================] - 0s 952us/step - loss: 3.1023e-04\n",
      "Epoch 269/1000\n",
      "25/25 [==============================] - 0s 978us/step - loss: 2.9165e-04\n",
      "Epoch 270/1000\n",
      "25/25 [==============================] - 0s 984us/step - loss: 2.8967e-04\n",
      "Epoch 271/1000\n",
      "25/25 [==============================] - 0s 971us/step - loss: 1.9235e-04\n",
      "Epoch 272/1000\n",
      "25/25 [==============================] - 0s 998us/step - loss: 2.3224e-04\n",
      "Epoch 273/1000\n",
      "25/25 [==============================] - 0s 961us/step - loss: 2.6222e-04\n",
      "Epoch 274/1000\n",
      "25/25 [==============================] - 0s 945us/step - loss: 3.1700e-04\n",
      "Epoch 275/1000\n",
      "25/25 [==============================] - 0s 986us/step - loss: 2.6913e-04\n",
      "Epoch 276/1000\n",
      "25/25 [==============================] - 0s 968us/step - loss: 3.0421e-04\n",
      "Epoch 277/1000\n",
      "25/25 [==============================] - 0s 979us/step - loss: 1.9175e-04\n",
      "Epoch 278/1000\n",
      "25/25 [==============================] - 0s 987us/step - loss: 2.5667e-04\n",
      "Epoch 279/1000\n",
      "25/25 [==============================] - 0s 980us/step - loss: 2.4927e-04\n",
      "Epoch 280/1000\n",
      "25/25 [==============================] - 0s 997us/step - loss: 1.3275e-04\n",
      "Epoch 281/1000\n",
      "25/25 [==============================] - 0s 963us/step - loss: 1.4746e-04\n",
      "Epoch 282/1000\n",
      "25/25 [==============================] - 0s 957us/step - loss: 2.0430e-04\n",
      "Epoch 283/1000\n",
      "25/25 [==============================] - 0s 999us/step - loss: 1.3068e-04\n",
      "Epoch 284/1000\n",
      "25/25 [==============================] - 0s 997us/step - loss: 1.4830e-04\n",
      "Epoch 285/1000\n",
      "25/25 [==============================] - 0s 958us/step - loss: 1.0346e-04\n",
      "Epoch 286/1000\n",
      "25/25 [==============================] - 0s 998us/step - loss: 1.4988e-04\n",
      "Epoch 287/1000\n",
      "25/25 [==============================] - 0s 953us/step - loss: 1.4099e-04\n",
      "Epoch 288/1000\n",
      "25/25 [==============================] - 0s 983us/step - loss: 1.2411e-04\n",
      "Epoch 289/1000\n",
      "25/25 [==============================] - 0s 969us/step - loss: 1.5317e-04\n",
      "Epoch 290/1000\n",
      "25/25 [==============================] - 0s 991us/step - loss: 1.1156e-04\n",
      "Epoch 291/1000\n",
      "25/25 [==============================] - 0s 949us/step - loss: 1.0873e-04\n",
      "Epoch 292/1000\n",
      "25/25 [==============================] - 0s 987us/step - loss: 8.0920e-05\n",
      "Epoch 293/1000\n",
      "25/25 [==============================] - 0s 1ms/step - loss: 1.4341e-04\n",
      "Epoch 294/1000\n",
      "25/25 [==============================] - 0s 972us/step - loss: 3.1076e-04\n",
      "Epoch 295/1000\n",
      "25/25 [==============================] - 0s 992us/step - loss: 2.9860e-04\n",
      "Epoch 296/1000\n",
      "25/25 [==============================] - 0s 1ms/step - loss: 2.5182e-04\n",
      "Epoch 297/1000\n",
      "25/25 [==============================] - 0s 1ms/step - loss: 1.2368e-04\n",
      "Epoch 298/1000\n",
      "25/25 [==============================] - 0s 1ms/step - loss: 1.5416e-04\n",
      "Epoch 299/1000\n",
      "25/25 [==============================] - 0s 1ms/step - loss: 1.4210e-04\n",
      "Epoch 300/1000\n",
      "25/25 [==============================] - 0s 1ms/step - loss: 1.0523e-04\n",
      "Epoch 301/1000\n",
      "25/25 [==============================] - 0s 981us/step - loss: 1.6647e-04\n",
      "Epoch 302/1000\n",
      "25/25 [==============================] - 0s 962us/step - loss: 1.2039e-04\n",
      "Epoch 303/1000\n",
      "25/25 [==============================] - 0s 986us/step - loss: 1.4954e-04\n",
      "Epoch 304/1000\n",
      "25/25 [==============================] - 0s 986us/step - loss: 1.4212e-04\n",
      "Epoch 305/1000\n",
      "25/25 [==============================] - 0s 971us/step - loss: 1.1306e-04\n",
      "Epoch 306/1000\n",
      "25/25 [==============================] - 0s 947us/step - loss: 1.2141e-04\n",
      "Epoch 307/1000\n",
      "25/25 [==============================] - 0s 983us/step - loss: 9.8655e-05\n",
      "Epoch 308/1000\n",
      "25/25 [==============================] - 0s 957us/step - loss: 9.1864e-05\n",
      "Epoch 309/1000\n",
      "25/25 [==============================] - 0s 977us/step - loss: 6.8086e-05\n",
      "Epoch 310/1000\n",
      "25/25 [==============================] - 0s 1000us/step - loss: 5.7055e-05\n",
      "Epoch 311/1000\n",
      "25/25 [==============================] - 0s 984us/step - loss: 7.5503e-05\n",
      "Epoch 312/1000\n",
      "25/25 [==============================] - 0s 969us/step - loss: 9.1244e-05\n",
      "Epoch 313/1000\n",
      "25/25 [==============================] - 0s 990us/step - loss: 7.6842e-05\n",
      "Epoch 314/1000\n",
      "25/25 [==============================] - 0s 973us/step - loss: 5.8179e-05\n",
      "Epoch 315/1000\n",
      "25/25 [==============================] - 0s 985us/step - loss: 6.6929e-05\n",
      "Epoch 316/1000\n",
      "25/25 [==============================] - 0s 998us/step - loss: 5.8744e-05\n",
      "Epoch 317/1000\n",
      "25/25 [==============================] - 0s 964us/step - loss: 5.2529e-05\n",
      "Epoch 318/1000\n",
      "25/25 [==============================] - 0s 1ms/step - loss: 6.6775e-05\n",
      "Epoch 319/1000\n",
      "25/25 [==============================] - 0s 958us/step - loss: 6.2480e-05\n",
      "Epoch 320/1000\n",
      "25/25 [==============================] - 0s 1ms/step - loss: 9.9011e-05\n",
      "Epoch 321/1000\n",
      "25/25 [==============================] - 0s 961us/step - loss: 7.4238e-05\n",
      "Epoch 322/1000\n",
      "25/25 [==============================] - 0s 992us/step - loss: 5.8936e-05\n",
      "Epoch 323/1000\n",
      "25/25 [==============================] - 0s 1ms/step - loss: 5.2987e-05\n",
      "Epoch 324/1000\n",
      "25/25 [==============================] - 0s 984us/step - loss: 5.3593e-05\n",
      "Epoch 325/1000\n",
      "25/25 [==============================] - 0s 977us/step - loss: 7.6512e-05\n",
      "Epoch 326/1000\n",
      "25/25 [==============================] - 0s 961us/step - loss: 1.6500e-04\n",
      "Epoch 327/1000\n",
      "25/25 [==============================] - 0s 986us/step - loss: 1.3531e-04\n",
      "Epoch 328/1000\n",
      "25/25 [==============================] - 0s 974us/step - loss: 2.0825e-04\n",
      "Epoch 329/1000\n",
      "25/25 [==============================] - 0s 959us/step - loss: 2.2559e-04\n",
      "Epoch 330/1000\n",
      "25/25 [==============================] - 0s 974us/step - loss: 4.6301e-04\n",
      "Epoch 331/1000\n",
      "25/25 [==============================] - 0s 958us/step - loss: 9.8777e-04\n",
      "Epoch 332/1000\n",
      "25/25 [==============================] - 0s 1ms/step - loss: 0.0015\n",
      "Epoch 333/1000\n",
      "25/25 [==============================] - 0s 958us/step - loss: 0.0015\n",
      "Epoch 334/1000\n",
      "25/25 [==============================] - 0s 991us/step - loss: 0.0013\n",
      "Epoch 335/1000\n",
      "25/25 [==============================] - 0s 1ms/step - loss: 0.0011\n",
      "Epoch 336/1000\n",
      "25/25 [==============================] - 0s 1ms/step - loss: 0.0012\n",
      "Epoch 337/1000\n",
      "25/25 [==============================] - 0s 983us/step - loss: 7.8534e-04\n",
      "Epoch 338/1000\n",
      "25/25 [==============================] - 0s 983us/step - loss: 6.4692e-04\n",
      "Epoch 339/1000\n",
      "25/25 [==============================] - 0s 978us/step - loss: 6.4844e-04\n",
      "Epoch 340/1000\n",
      "25/25 [==============================] - 0s 988us/step - loss: 7.5149e-04\n",
      "Epoch 341/1000\n",
      "25/25 [==============================] - 0s 978us/step - loss: 5.1885e-04\n",
      "Epoch 342/1000\n",
      "25/25 [==============================] - 0s 993us/step - loss: 5.0141e-04\n",
      "Epoch 343/1000\n",
      "25/25 [==============================] - 0s 1ms/step - loss: 4.7180e-04\n",
      "Epoch 344/1000\n",
      "25/25 [==============================] - 0s 983us/step - loss: 4.3163e-04\n",
      "Epoch 345/1000\n",
      "25/25 [==============================] - 0s 982us/step - loss: 4.4655e-04\n",
      "Epoch 346/1000\n",
      "25/25 [==============================] - 0s 982us/step - loss: 3.9440e-04\n",
      "Epoch 347/1000\n",
      "25/25 [==============================] - 0s 982us/step - loss: 3.6427e-04\n",
      "Epoch 348/1000\n",
      "25/25 [==============================] - 0s 965us/step - loss: 4.0977e-04\n",
      "Epoch 349/1000\n",
      "25/25 [==============================] - 0s 976us/step - loss: 3.5557e-04\n",
      "Epoch 350/1000\n",
      "25/25 [==============================] - 0s 966us/step - loss: 4.8110e-04\n",
      "Epoch 351/1000\n",
      "25/25 [==============================] - 0s 956us/step - loss: 5.9701e-04\n",
      "Epoch 352/1000\n",
      "25/25 [==============================] - 0s 961us/step - loss: 4.2777e-04\n",
      "Epoch 353/1000\n",
      "25/25 [==============================] - 0s 993us/step - loss: 4.3008e-04\n",
      "Epoch 354/1000\n",
      "25/25 [==============================] - 0s 975us/step - loss: 2.5771e-04\n",
      "Epoch 355/1000\n",
      "25/25 [==============================] - 0s 985us/step - loss: 2.8722e-04\n",
      "Epoch 356/1000\n",
      "25/25 [==============================] - 0s 984us/step - loss: 3.9900e-04\n",
      "Epoch 357/1000\n",
      "25/25 [==============================] - 0s 978us/step - loss: 2.8597e-04\n",
      "Epoch 358/1000\n",
      "25/25 [==============================] - 0s 992us/step - loss: 2.7235e-04\n",
      "Epoch 359/1000\n",
      "25/25 [==============================] - 0s 997us/step - loss: 2.1649e-04\n",
      "Epoch 360/1000\n",
      "25/25 [==============================] - 0s 990us/step - loss: 1.8798e-04\n",
      "Epoch 361/1000\n",
      "25/25 [==============================] - 0s 991us/step - loss: 2.6031e-04\n",
      "Epoch 362/1000\n",
      "25/25 [==============================] - 0s 979us/step - loss: 2.3071e-04\n",
      "Epoch 363/1000\n",
      "25/25 [==============================] - 0s 999us/step - loss: 1.8601e-04\n",
      "Epoch 364/1000\n",
      "25/25 [==============================] - 0s 959us/step - loss: 2.7940e-04\n",
      "Epoch 365/1000\n",
      "25/25 [==============================] - 0s 978us/step - loss: 3.0554e-04\n",
      "Epoch 366/1000\n",
      "25/25 [==============================] - 0s 982us/step - loss: 2.3425e-04\n",
      "Epoch 367/1000\n",
      "25/25 [==============================] - 0s 984us/step - loss: 1.7068e-04\n",
      "Epoch 368/1000\n",
      "25/25 [==============================] - 0s 979us/step - loss: 1.3930e-04\n",
      "Epoch 369/1000\n",
      "25/25 [==============================] - 0s 964us/step - loss: 1.1208e-04\n",
      "Epoch 370/1000\n",
      "25/25 [==============================] - 0s 996us/step - loss: 1.0680e-04\n",
      "Epoch 371/1000\n",
      "25/25 [==============================] - 0s 964us/step - loss: 1.2398e-04\n",
      "Epoch 372/1000\n",
      "25/25 [==============================] - 0s 987us/step - loss: 1.5912e-04\n",
      "Epoch 373/1000\n",
      "25/25 [==============================] - 0s 971us/step - loss: 1.8974e-04\n",
      "Epoch 374/1000\n",
      "25/25 [==============================] - 0s 978us/step - loss: 1.4794e-04\n",
      "Epoch 375/1000\n",
      "25/25 [==============================] - 0s 962us/step - loss: 1.5445e-04\n",
      "Epoch 376/1000\n",
      "25/25 [==============================] - 0s 982us/step - loss: 1.7167e-04\n",
      "Epoch 377/1000\n",
      "25/25 [==============================] - 0s 960us/step - loss: 1.7007e-04\n",
      "Epoch 378/1000\n",
      "25/25 [==============================] - 0s 958us/step - loss: 1.5118e-04\n",
      "Epoch 379/1000\n",
      "25/25 [==============================] - 0s 1ms/step - loss: 1.0176e-04\n",
      "Epoch 380/1000\n",
      "25/25 [==============================] - 0s 1ms/step - loss: 8.6325e-05\n",
      "Epoch 381/1000\n",
      "25/25 [==============================] - 0s 946us/step - loss: 7.6541e-05\n",
      "Epoch 382/1000\n",
      "25/25 [==============================] - 0s 978us/step - loss: 6.1235e-05\n",
      "Epoch 383/1000\n",
      "25/25 [==============================] - 0s 979us/step - loss: 7.6032e-05\n",
      "Epoch 384/1000\n",
      "25/25 [==============================] - 0s 992us/step - loss: 7.0407e-05\n",
      "Epoch 385/1000\n",
      "25/25 [==============================] - 0s 975us/step - loss: 7.2803e-05\n",
      "Epoch 386/1000\n",
      "25/25 [==============================] - 0s 989us/step - loss: 9.2064e-05\n",
      "Epoch 387/1000\n",
      "25/25 [==============================] - 0s 1ms/step - loss: 6.2763e-05\n",
      "Epoch 388/1000\n",
      "25/25 [==============================] - 0s 1ms/step - loss: 7.0233e-05\n",
      "Epoch 389/1000\n",
      "25/25 [==============================] - 0s 1ms/step - loss: 7.7257e-05\n",
      "Epoch 390/1000\n",
      "25/25 [==============================] - 0s 968us/step - loss: 1.1047e-04\n",
      "Epoch 391/1000\n",
      "25/25 [==============================] - 0s 978us/step - loss: 7.6890e-05\n",
      "Epoch 392/1000\n",
      "25/25 [==============================] - 0s 999us/step - loss: 8.6858e-05\n",
      "Epoch 393/1000\n",
      "25/25 [==============================] - 0s 965us/step - loss: 7.7942e-05\n",
      "Epoch 394/1000\n",
      "25/25 [==============================] - 0s 969us/step - loss: 1.0599e-04\n",
      "Epoch 395/1000\n",
      "25/25 [==============================] - 0s 993us/step - loss: 1.2954e-04\n",
      "Epoch 396/1000\n",
      "25/25 [==============================] - 0s 977us/step - loss: 9.2392e-05\n",
      "Epoch 397/1000\n",
      "25/25 [==============================] - 0s 947us/step - loss: 1.4468e-04\n",
      "Epoch 398/1000\n",
      "25/25 [==============================] - 0s 999us/step - loss: 1.3050e-04\n",
      "Epoch 399/1000\n",
      "25/25 [==============================] - 0s 961us/step - loss: 1.2513e-04\n",
      "Epoch 400/1000\n",
      "25/25 [==============================] - 0s 991us/step - loss: 1.8825e-04\n",
      "Epoch 401/1000\n",
      "25/25 [==============================] - 0s 984us/step - loss: 2.3720e-04\n",
      "Epoch 402/1000\n",
      "25/25 [==============================] - 0s 988us/step - loss: 1.5779e-04\n",
      "Epoch 403/1000\n",
      "25/25 [==============================] - 0s 977us/step - loss: 1.1291e-04\n",
      "Epoch 404/1000\n",
      "25/25 [==============================] - 0s 993us/step - loss: 1.6110e-04\n",
      "Epoch 405/1000\n",
      "25/25 [==============================] - 0s 987us/step - loss: 2.9584e-04\n",
      "Epoch 406/1000\n",
      "25/25 [==============================] - 0s 978us/step - loss: 2.7133e-04\n",
      "Epoch 407/1000\n",
      "25/25 [==============================] - 0s 962us/step - loss: 2.9814e-04\n",
      "Epoch 408/1000\n",
      "25/25 [==============================] - 0s 985us/step - loss: 2.2788e-04\n",
      "Epoch 409/1000\n",
      "25/25 [==============================] - 0s 984us/step - loss: 2.3683e-04\n",
      "Epoch 410/1000\n",
      "25/25 [==============================] - 0s 919us/step - loss: 3.0204e-04\n",
      "Epoch 411/1000\n",
      "25/25 [==============================] - 0s 972us/step - loss: 2.2364e-04\n",
      "Epoch 412/1000\n",
      "25/25 [==============================] - 0s 987us/step - loss: 1.5509e-04\n",
      "Epoch 413/1000\n",
      "25/25 [==============================] - 0s 992us/step - loss: 1.4266e-04\n",
      "Epoch 414/1000\n",
      "25/25 [==============================] - 0s 973us/step - loss: 1.2761e-04\n",
      "Epoch 415/1000\n",
      "25/25 [==============================] - 0s 975us/step - loss: 1.3103e-04\n",
      "Epoch 416/1000\n",
      "25/25 [==============================] - 0s 958us/step - loss: 8.0323e-05\n",
      "Epoch 417/1000\n",
      "25/25 [==============================] - 0s 966us/step - loss: 7.8745e-05\n",
      "Epoch 418/1000\n",
      "25/25 [==============================] - 0s 1ms/step - loss: 5.6903e-05\n",
      "Epoch 419/1000\n",
      "25/25 [==============================] - 0s 978us/step - loss: 5.8722e-05\n",
      "Epoch 420/1000\n",
      "25/25 [==============================] - 0s 985us/step - loss: 5.9847e-05\n",
      "Epoch 421/1000\n",
      "25/25 [==============================] - 0s 989us/step - loss: 7.2713e-05\n",
      "Epoch 422/1000\n",
      "25/25 [==============================] - 0s 967us/step - loss: 7.8582e-05\n",
      "Epoch 423/1000\n",
      "25/25 [==============================] - 0s 968us/step - loss: 6.7651e-05\n",
      "Epoch 424/1000\n",
      "25/25 [==============================] - 0s 1ms/step - loss: 6.4926e-05\n",
      "Epoch 425/1000\n",
      "25/25 [==============================] - 0s 971us/step - loss: 8.3276e-05\n",
      "Epoch 426/1000\n",
      "25/25 [==============================] - 0s 988us/step - loss: 6.8243e-05\n",
      "Epoch 427/1000\n",
      "25/25 [==============================] - 0s 999us/step - loss: 5.8729e-05\n",
      "Epoch 428/1000\n",
      "25/25 [==============================] - 0s 970us/step - loss: 3.8047e-05\n",
      "Epoch 429/1000\n",
      "25/25 [==============================] - 0s 970us/step - loss: 3.5478e-05\n",
      "Epoch 430/1000\n",
      "25/25 [==============================] - 0s 991us/step - loss: 5.9584e-05\n",
      "Epoch 431/1000\n",
      "25/25 [==============================] - 0s 992us/step - loss: 5.4130e-05\n",
      "Epoch 432/1000\n",
      "25/25 [==============================] - 0s 991us/step - loss: 7.1187e-05\n",
      "Epoch 433/1000\n",
      "25/25 [==============================] - 0s 982us/step - loss: 1.0343e-04\n",
      "Epoch 434/1000\n",
      "25/25 [==============================] - 0s 997us/step - loss: 5.9725e-05\n",
      "Epoch 435/1000\n",
      "25/25 [==============================] - 0s 994us/step - loss: 5.2526e-05\n",
      "Epoch 436/1000\n",
      "25/25 [==============================] - 0s 994us/step - loss: 4.9803e-05\n",
      "Epoch 437/1000\n",
      "25/25 [==============================] - 0s 964us/step - loss: 4.1306e-05\n",
      "Epoch 438/1000\n",
      "25/25 [==============================] - 0s 968us/step - loss: 3.6252e-05\n",
      "Epoch 439/1000\n",
      "25/25 [==============================] - 0s 951us/step - loss: 6.9421e-05\n",
      "Epoch 440/1000\n",
      "25/25 [==============================] - 0s 997us/step - loss: 1.5396e-04\n",
      "Epoch 441/1000\n",
      "25/25 [==============================] - 0s 961us/step - loss: 1.3446e-04\n",
      "Epoch 442/1000\n",
      "25/25 [==============================] - 0s 985us/step - loss: 1.4841e-04\n",
      "Epoch 443/1000\n",
      "25/25 [==============================] - 0s 993us/step - loss: 3.1108e-04\n",
      "Epoch 444/1000\n",
      "25/25 [==============================] - 0s 976us/step - loss: 5.2159e-04\n",
      "Epoch 445/1000\n",
      "25/25 [==============================] - 0s 1ms/step - loss: 5.4019e-04\n",
      "Epoch 446/1000\n",
      "25/25 [==============================] - 0s 986us/step - loss: 5.1312e-04\n",
      "Epoch 447/1000\n",
      "25/25 [==============================] - 0s 987us/step - loss: 4.6088e-04\n",
      "Epoch 448/1000\n",
      "25/25 [==============================] - 0s 984us/step - loss: 6.1775e-04\n",
      "Epoch 449/1000\n",
      "25/25 [==============================] - 0s 997us/step - loss: 9.8952e-04\n",
      "Epoch 450/1000\n",
      "25/25 [==============================] - 0s 962us/step - loss: 7.9711e-04\n",
      "Epoch 451/1000\n",
      "25/25 [==============================] - 0s 998us/step - loss: 5.2806e-04\n",
      "Epoch 452/1000\n",
      "25/25 [==============================] - 0s 986us/step - loss: 3.6281e-04\n",
      "Epoch 453/1000\n",
      "25/25 [==============================] - 0s 964us/step - loss: 3.1210e-04\n",
      "Epoch 454/1000\n",
      "25/25 [==============================] - 0s 996us/step - loss: 2.2795e-04\n",
      "Epoch 455/1000\n",
      "25/25 [==============================] - 0s 960us/step - loss: 3.2402e-04\n",
      "Epoch 456/1000\n",
      "25/25 [==============================] - 0s 982us/step - loss: 2.9550e-04\n",
      "Epoch 457/1000\n",
      "25/25 [==============================] - 0s 971us/step - loss: 1.8801e-04\n",
      "Epoch 458/1000\n",
      "25/25 [==============================] - 0s 942us/step - loss: 2.2331e-04\n",
      "Epoch 459/1000\n",
      "25/25 [==============================] - 0s 974us/step - loss: 1.5282e-04\n",
      "Epoch 460/1000\n",
      "25/25 [==============================] - 0s 981us/step - loss: 1.3837e-04\n",
      "Epoch 461/1000\n",
      "25/25 [==============================] - 0s 979us/step - loss: 9.9650e-05\n",
      "Epoch 462/1000\n",
      "25/25 [==============================] - 0s 982us/step - loss: 8.0285e-05\n",
      "Epoch 463/1000\n",
      "25/25 [==============================] - 0s 984us/step - loss: 6.3146e-05\n",
      "Epoch 464/1000\n",
      "25/25 [==============================] - 0s 987us/step - loss: 7.1544e-05\n",
      "Epoch 465/1000\n",
      "25/25 [==============================] - 0s 965us/step - loss: 7.2026e-05\n",
      "Epoch 466/1000\n",
      "25/25 [==============================] - 0s 1ms/step - loss: 6.4710e-05\n",
      "Epoch 467/1000\n",
      "25/25 [==============================] - 0s 994us/step - loss: 4.9373e-05\n",
      "Epoch 468/1000\n",
      "25/25 [==============================] - 0s 991us/step - loss: 5.3875e-05\n",
      "Epoch 469/1000\n",
      "25/25 [==============================] - 0s 975us/step - loss: 4.1147e-05\n",
      "Epoch 470/1000\n",
      "25/25 [==============================] - 0s 988us/step - loss: 5.2457e-05\n",
      "Epoch 471/1000\n",
      "25/25 [==============================] - 0s 990us/step - loss: 5.8994e-05\n",
      "Epoch 472/1000\n",
      "25/25 [==============================] - 0s 982us/step - loss: 1.0890e-04\n",
      "Epoch 473/1000\n",
      "25/25 [==============================] - 0s 1ms/step - loss: 6.3121e-05\n",
      "Epoch 474/1000\n",
      "25/25 [==============================] - 0s 961us/step - loss: 1.0080e-04\n",
      "Epoch 475/1000\n",
      "25/25 [==============================] - 0s 982us/step - loss: 7.0160e-05\n",
      "Epoch 476/1000\n",
      "25/25 [==============================] - 0s 964us/step - loss: 4.8246e-05\n",
      "Epoch 477/1000\n",
      "25/25 [==============================] - 0s 974us/step - loss: 4.6249e-05\n",
      "Epoch 478/1000\n",
      "25/25 [==============================] - 0s 990us/step - loss: 7.6130e-05\n",
      "Epoch 479/1000\n",
      "25/25 [==============================] - 0s 983us/step - loss: 5.0680e-05\n",
      "Epoch 480/1000\n",
      "25/25 [==============================] - 0s 969us/step - loss: 3.4696e-05\n",
      "Epoch 481/1000\n",
      "25/25 [==============================] - 0s 998us/step - loss: 2.3653e-05\n",
      "Epoch 482/1000\n",
      "25/25 [==============================] - 0s 1ms/step - loss: 3.7876e-05\n",
      "Epoch 483/1000\n",
      "25/25 [==============================] - 0s 984us/step - loss: 5.4840e-05\n",
      "Epoch 484/1000\n",
      "25/25 [==============================] - 0s 994us/step - loss: 5.7323e-05\n",
      "Epoch 485/1000\n",
      "25/25 [==============================] - 0s 1ms/step - loss: 9.1681e-05\n",
      "Epoch 486/1000\n",
      "25/25 [==============================] - 0s 996us/step - loss: 1.0118e-04\n",
      "Epoch 487/1000\n",
      "25/25 [==============================] - 0s 1ms/step - loss: 8.9182e-05\n",
      "Epoch 488/1000\n",
      "25/25 [==============================] - 0s 995us/step - loss: 8.7875e-05\n",
      "Epoch 489/1000\n",
      "25/25 [==============================] - 0s 993us/step - loss: 7.2045e-05\n",
      "Epoch 490/1000\n",
      "25/25 [==============================] - 0s 975us/step - loss: 1.2540e-04\n",
      "Epoch 491/1000\n",
      "25/25 [==============================] - 0s 991us/step - loss: 2.5044e-04\n",
      "Epoch 492/1000\n",
      "25/25 [==============================] - 0s 985us/step - loss: 4.7335e-04\n",
      "Epoch 493/1000\n",
      "25/25 [==============================] - 0s 992us/step - loss: 3.4729e-04\n",
      "Epoch 494/1000\n",
      "25/25 [==============================] - 0s 984us/step - loss: 3.4577e-04\n",
      "Epoch 495/1000\n",
      "25/25 [==============================] - 0s 975us/step - loss: 4.1305e-04\n",
      "Epoch 496/1000\n",
      "25/25 [==============================] - 0s 978us/step - loss: 4.0038e-04\n",
      "Epoch 497/1000\n",
      "25/25 [==============================] - 0s 978us/step - loss: 3.3796e-04\n",
      "Epoch 498/1000\n",
      "25/25 [==============================] - 0s 992us/step - loss: 2.4941e-04\n",
      "Epoch 499/1000\n",
      "25/25 [==============================] - 0s 1ms/step - loss: 3.2703e-04\n",
      "Epoch 500/1000\n",
      "25/25 [==============================] - 0s 1ms/step - loss: 3.3233e-04\n",
      "Epoch 501/1000\n",
      "25/25 [==============================] - 0s 959us/step - loss: 1.4816e-04\n",
      "Epoch 502/1000\n",
      "25/25 [==============================] - 0s 989us/step - loss: 1.3266e-04\n",
      "Epoch 503/1000\n",
      "25/25 [==============================] - 0s 998us/step - loss: 9.5183e-05\n",
      "Epoch 504/1000\n",
      "25/25 [==============================] - 0s 996us/step - loss: 1.0910e-04\n",
      "Epoch 505/1000\n",
      "25/25 [==============================] - 0s 997us/step - loss: 7.4378e-05\n",
      "Epoch 506/1000\n",
      "25/25 [==============================] - 0s 1ms/step - loss: 8.4303e-05\n",
      "Epoch 507/1000\n",
      "25/25 [==============================] - 0s 984us/step - loss: 5.3979e-05\n",
      "Epoch 508/1000\n",
      "25/25 [==============================] - 0s 998us/step - loss: 3.1576e-05\n",
      "Epoch 509/1000\n",
      "25/25 [==============================] - 0s 1ms/step - loss: 2.8413e-05\n",
      "Epoch 510/1000\n",
      "25/25 [==============================] - 0s 1ms/step - loss: 4.0672e-05\n",
      "Epoch 511/1000\n",
      "25/25 [==============================] - 0s 999us/step - loss: 2.4957e-05\n",
      "Epoch 512/1000\n",
      "25/25 [==============================] - 0s 1ms/step - loss: 2.2195e-05\n",
      "Epoch 513/1000\n",
      "25/25 [==============================] - 0s 1ms/step - loss: 2.1448e-05\n",
      "Epoch 514/1000\n",
      "25/25 [==============================] - 0s 1ms/step - loss: 2.9176e-05\n",
      "Epoch 515/1000\n",
      "25/25 [==============================] - 0s 1ms/step - loss: 3.3544e-05\n",
      "Epoch 516/1000\n",
      "25/25 [==============================] - 0s 1ms/step - loss: 2.8556e-05\n",
      "Epoch 517/1000\n",
      "25/25 [==============================] - 0s 994us/step - loss: 2.4251e-05\n",
      "Epoch 518/1000\n",
      "25/25 [==============================] - 0s 978us/step - loss: 2.6996e-05\n",
      "Epoch 519/1000\n",
      "25/25 [==============================] - 0s 1ms/step - loss: 3.4508e-05\n",
      "Epoch 520/1000\n",
      "25/25 [==============================] - 0s 1ms/step - loss: 2.4074e-05\n",
      "Epoch 521/1000\n",
      "25/25 [==============================] - 0s 1ms/step - loss: 2.0757e-05\n",
      "Epoch 522/1000\n",
      "25/25 [==============================] - 0s 958us/step - loss: 2.1542e-05\n",
      "Epoch 523/1000\n",
      "25/25 [==============================] - 0s 1ms/step - loss: 4.7573e-05\n",
      "Epoch 524/1000\n",
      "25/25 [==============================] - 0s 977us/step - loss: 2.9357e-05\n",
      "Epoch 525/1000\n",
      "25/25 [==============================] - 0s 977us/step - loss: 2.8901e-05\n",
      "Epoch 526/1000\n",
      "25/25 [==============================] - 0s 981us/step - loss: 2.4830e-05\n",
      "Epoch 527/1000\n",
      "25/25 [==============================] - 0s 973us/step - loss: 1.6139e-05\n",
      "Epoch 528/1000\n",
      "25/25 [==============================] - 0s 977us/step - loss: 1.3807e-05\n",
      "Epoch 529/1000\n",
      "25/25 [==============================] - 0s 1ms/step - loss: 1.4124e-05\n",
      "Epoch 530/1000\n",
      "25/25 [==============================] - 0s 967us/step - loss: 2.6431e-05\n",
      "Epoch 531/1000\n",
      "25/25 [==============================] - 0s 998us/step - loss: 1.4361e-05\n",
      "Epoch 532/1000\n",
      "25/25 [==============================] - 0s 991us/step - loss: 1.5025e-05\n",
      "Epoch 533/1000\n",
      "25/25 [==============================] - 0s 993us/step - loss: 1.5005e-05\n",
      "Epoch 534/1000\n",
      "25/25 [==============================] - 0s 1ms/step - loss: 1.4168e-05\n",
      "Epoch 535/1000\n",
      "25/25 [==============================] - 0s 985us/step - loss: 8.5584e-06\n",
      "Epoch 536/1000\n",
      "25/25 [==============================] - 0s 972us/step - loss: 1.0839e-05\n",
      "Epoch 537/1000\n",
      "25/25 [==============================] - 0s 970us/step - loss: 1.7403e-05\n",
      "Epoch 538/1000\n",
      "25/25 [==============================] - 0s 995us/step - loss: 2.7009e-05\n",
      "Epoch 539/1000\n",
      "25/25 [==============================] - 0s 990us/step - loss: 3.2897e-05\n",
      "Epoch 540/1000\n",
      "25/25 [==============================] - 0s 996us/step - loss: 2.8397e-05\n",
      "Epoch 541/1000\n",
      "25/25 [==============================] - 0s 995us/step - loss: 2.1067e-05\n",
      "Epoch 542/1000\n",
      "25/25 [==============================] - 0s 996us/step - loss: 1.7211e-05\n",
      "Epoch 543/1000\n",
      "25/25 [==============================] - 0s 980us/step - loss: 2.1967e-05\n",
      "Epoch 544/1000\n",
      "25/25 [==============================] - 0s 993us/step - loss: 1.4336e-05\n",
      "Epoch 545/1000\n",
      "25/25 [==============================] - 0s 971us/step - loss: 1.8937e-05\n",
      "Epoch 546/1000\n",
      "25/25 [==============================] - 0s 973us/step - loss: 4.2543e-05\n",
      "Epoch 547/1000\n",
      "25/25 [==============================] - 0s 998us/step - loss: 3.6749e-05\n",
      "Epoch 548/1000\n",
      "25/25 [==============================] - 0s 994us/step - loss: 7.2168e-05\n",
      "Epoch 549/1000\n",
      "25/25 [==============================] - 0s 996us/step - loss: 3.0027e-04\n",
      "Epoch 550/1000\n",
      "25/25 [==============================] - 0s 984us/step - loss: 0.0014\n",
      "Epoch 551/1000\n",
      "25/25 [==============================] - 0s 975us/step - loss: 0.0010\n",
      "Epoch 552/1000\n",
      "25/25 [==============================] - 0s 993us/step - loss: 0.0013\n",
      "Epoch 553/1000\n",
      "25/25 [==============================] - 0s 986us/step - loss: 0.0011\n",
      "Epoch 554/1000\n",
      "25/25 [==============================] - 0s 1ms/step - loss: 5.6954e-04\n",
      "Epoch 555/1000\n",
      "25/25 [==============================] - 0s 975us/step - loss: 5.5995e-04\n",
      "Epoch 556/1000\n",
      "25/25 [==============================] - 0s 982us/step - loss: 3.9280e-04\n",
      "Epoch 557/1000\n",
      "25/25 [==============================] - 0s 1ms/step - loss: 2.3662e-04\n",
      "Epoch 558/1000\n",
      "25/25 [==============================] - 0s 973us/step - loss: 3.0487e-04\n",
      "Epoch 559/1000\n",
      "25/25 [==============================] - 0s 985us/step - loss: 1.7214e-04\n",
      "Epoch 560/1000\n",
      "25/25 [==============================] - 0s 987us/step - loss: 1.9358e-04\n",
      "Epoch 561/1000\n",
      "25/25 [==============================] - 0s 994us/step - loss: 1.8796e-04\n",
      "Epoch 562/1000\n",
      "25/25 [==============================] - 0s 972us/step - loss: 1.6671e-04\n",
      "Epoch 563/1000\n",
      "25/25 [==============================] - 0s 992us/step - loss: 1.6785e-04\n",
      "Epoch 564/1000\n",
      "25/25 [==============================] - 0s 979us/step - loss: 1.9799e-04\n",
      "Epoch 565/1000\n",
      "25/25 [==============================] - 0s 982us/step - loss: 1.4505e-04\n",
      "Epoch 566/1000\n",
      "25/25 [==============================] - 0s 994us/step - loss: 1.3115e-04\n",
      "Epoch 567/1000\n",
      "25/25 [==============================] - 0s 1ms/step - loss: 2.2547e-04\n",
      "Epoch 568/1000\n",
      "25/25 [==============================] - 0s 990us/step - loss: 2.6947e-04\n",
      "Epoch 569/1000\n",
      "25/25 [==============================] - 0s 984us/step - loss: 1.5795e-04\n",
      "Epoch 570/1000\n",
      "25/25 [==============================] - 0s 973us/step - loss: 1.0459e-04\n",
      "Epoch 571/1000\n",
      "25/25 [==============================] - 0s 981us/step - loss: 1.1025e-04\n",
      "Epoch 572/1000\n",
      "25/25 [==============================] - 0s 986us/step - loss: 1.8856e-04\n",
      "Epoch 573/1000\n",
      "25/25 [==============================] - 0s 983us/step - loss: 2.1973e-04\n",
      "Epoch 574/1000\n",
      "25/25 [==============================] - 0s 991us/step - loss: 1.4056e-04\n",
      "Epoch 575/1000\n",
      "25/25 [==============================] - 0s 997us/step - loss: 1.5999e-04\n",
      "Epoch 576/1000\n",
      "25/25 [==============================] - 0s 964us/step - loss: 1.2474e-04\n",
      "Epoch 577/1000\n",
      "25/25 [==============================] - 0s 997us/step - loss: 1.7030e-04\n",
      "Epoch 578/1000\n",
      "25/25 [==============================] - 0s 1ms/step - loss: 8.6565e-05\n",
      "Epoch 579/1000\n",
      "25/25 [==============================] - 0s 987us/step - loss: 9.2950e-05\n",
      "Epoch 580/1000\n",
      "25/25 [==============================] - 0s 975us/step - loss: 7.8456e-05\n",
      "Epoch 581/1000\n",
      "25/25 [==============================] - 0s 1ms/step - loss: 6.0008e-05\n",
      "Epoch 582/1000\n",
      "25/25 [==============================] - 0s 1ms/step - loss: 4.2150e-05\n",
      "Epoch 583/1000\n",
      "25/25 [==============================] - 0s 1ms/step - loss: 4.6529e-05\n",
      "Epoch 584/1000\n",
      "25/25 [==============================] - 0s 1ms/step - loss: 3.9073e-05\n",
      "Epoch 585/1000\n",
      "25/25 [==============================] - 0s 989us/step - loss: 4.5572e-05\n",
      "Epoch 586/1000\n",
      "25/25 [==============================] - 0s 988us/step - loss: 6.2090e-05\n",
      "Epoch 587/1000\n",
      "25/25 [==============================] - 0s 992us/step - loss: 5.6667e-05\n",
      "Epoch 588/1000\n",
      "25/25 [==============================] - 0s 1ms/step - loss: 5.4466e-05\n",
      "Epoch 589/1000\n",
      "25/25 [==============================] - 0s 989us/step - loss: 3.0722e-05\n",
      "Epoch 590/1000\n",
      "25/25 [==============================] - 0s 997us/step - loss: 2.2876e-05\n",
      "Epoch 591/1000\n",
      "25/25 [==============================] - 0s 996us/step - loss: 2.2933e-05\n",
      "Epoch 592/1000\n",
      "25/25 [==============================] - 0s 980us/step - loss: 2.1861e-05\n",
      "Epoch 593/1000\n",
      "25/25 [==============================] - 0s 1ms/step - loss: 2.1437e-05\n",
      "Epoch 594/1000\n",
      "25/25 [==============================] - 0s 1ms/step - loss: 3.5137e-05\n",
      "Epoch 595/1000\n",
      "25/25 [==============================] - 0s 1ms/step - loss: 3.0378e-05\n",
      "Epoch 596/1000\n",
      "25/25 [==============================] - 0s 1ms/step - loss: 2.3846e-05\n",
      "Epoch 597/1000\n",
      "25/25 [==============================] - 0s 990us/step - loss: 2.8372e-05\n",
      "Epoch 598/1000\n",
      "25/25 [==============================] - 0s 1ms/step - loss: 4.0742e-05\n",
      "Epoch 599/1000\n",
      "25/25 [==============================] - 0s 1ms/step - loss: 4.3504e-05\n",
      "Epoch 600/1000\n",
      "25/25 [==============================] - 0s 976us/step - loss: 3.8807e-05\n",
      "Epoch 601/1000\n",
      "25/25 [==============================] - 0s 946us/step - loss: 3.2168e-05\n",
      "Epoch 602/1000\n",
      "25/25 [==============================] - 0s 1ms/step - loss: 2.0808e-05\n",
      "Epoch 603/1000\n",
      "25/25 [==============================] - 0s 1ms/step - loss: 2.3020e-05\n",
      "Epoch 604/1000\n",
      "25/25 [==============================] - 0s 994us/step - loss: 2.3710e-05\n",
      "Epoch 605/1000\n",
      "25/25 [==============================] - 0s 1ms/step - loss: 1.7851e-05\n",
      "Epoch 606/1000\n",
      "25/25 [==============================] - 0s 1ms/step - loss: 1.6650e-05\n",
      "Epoch 607/1000\n",
      "25/25 [==============================] - 0s 989us/step - loss: 1.4986e-05\n",
      "Epoch 608/1000\n",
      "25/25 [==============================] - 0s 990us/step - loss: 1.7988e-05\n",
      "Epoch 609/1000\n",
      "25/25 [==============================] - 0s 975us/step - loss: 1.9269e-05\n",
      "Epoch 610/1000\n",
      "25/25 [==============================] - 0s 1ms/step - loss: 1.2732e-05\n",
      "Epoch 611/1000\n",
      "25/25 [==============================] - 0s 979us/step - loss: 1.0324e-05\n",
      "Epoch 612/1000\n",
      "25/25 [==============================] - 0s 1ms/step - loss: 2.3381e-05\n",
      "Epoch 613/1000\n",
      "25/25 [==============================] - 0s 974us/step - loss: 3.1211e-05\n",
      "Epoch 614/1000\n",
      "25/25 [==============================] - 0s 986us/step - loss: 1.6196e-05\n",
      "Epoch 615/1000\n",
      "25/25 [==============================] - 0s 991us/step - loss: 2.8296e-05\n",
      "Epoch 616/1000\n",
      "25/25 [==============================] - 0s 994us/step - loss: 2.3147e-05\n",
      "Epoch 617/1000\n",
      "25/25 [==============================] - 0s 976us/step - loss: 5.3569e-05\n",
      "Epoch 618/1000\n",
      "25/25 [==============================] - 0s 989us/step - loss: 7.4399e-05\n",
      "Epoch 619/1000\n",
      "25/25 [==============================] - 0s 1ms/step - loss: 9.4168e-05\n",
      "Epoch 620/1000\n",
      "25/25 [==============================] - 0s 1ms/step - loss: 1.1679e-04\n",
      "Epoch 621/1000\n",
      "25/25 [==============================] - 0s 996us/step - loss: 6.3004e-05\n",
      "Epoch 622/1000\n",
      "25/25 [==============================] - 0s 989us/step - loss: 8.4998e-05\n",
      "Epoch 623/1000\n",
      "25/25 [==============================] - 0s 1ms/step - loss: 1.2580e-04\n",
      "Epoch 624/1000\n",
      "25/25 [==============================] - 0s 990us/step - loss: 2.8622e-04\n",
      "Epoch 625/1000\n",
      "25/25 [==============================] - 0s 981us/step - loss: 2.2281e-04\n",
      "Epoch 626/1000\n",
      "25/25 [==============================] - 0s 984us/step - loss: 2.8790e-04\n",
      "Epoch 627/1000\n",
      "25/25 [==============================] - 0s 1ms/step - loss: 6.3143e-04\n",
      "Epoch 628/1000\n",
      "25/25 [==============================] - 0s 997us/step - loss: 8.6749e-04\n",
      "Epoch 629/1000\n",
      "25/25 [==============================] - 0s 1ms/step - loss: 8.2359e-04\n",
      "Epoch 630/1000\n",
      "25/25 [==============================] - 0s 1ms/step - loss: 0.0015\n",
      "Epoch 631/1000\n",
      "25/25 [==============================] - 0s 1ms/step - loss: 6.2884e-04\n",
      "Epoch 632/1000\n",
      "25/25 [==============================] - 0s 1ms/step - loss: 4.6307e-04\n",
      "Epoch 633/1000\n",
      "25/25 [==============================] - 0s 1ms/step - loss: 2.3699e-04\n",
      "Epoch 634/1000\n",
      "25/25 [==============================] - 0s 1ms/step - loss: 1.9756e-04\n",
      "Epoch 635/1000\n",
      "25/25 [==============================] - 0s 1ms/step - loss: 1.6646e-04\n",
      "Epoch 636/1000\n",
      "25/25 [==============================] - 0s 997us/step - loss: 1.6684e-04\n",
      "Epoch 637/1000\n",
      "25/25 [==============================] - 0s 976us/step - loss: 1.2373e-04\n",
      "Epoch 638/1000\n",
      "25/25 [==============================] - 0s 991us/step - loss: 7.0190e-05\n",
      "Epoch 639/1000\n",
      "25/25 [==============================] - 0s 1ms/step - loss: 8.2322e-05\n",
      "Epoch 640/1000\n",
      "25/25 [==============================] - 0s 968us/step - loss: 7.5443e-05\n",
      "Epoch 641/1000\n",
      "25/25 [==============================] - 0s 981us/step - loss: 7.1859e-05\n",
      "Epoch 642/1000\n",
      "25/25 [==============================] - 0s 992us/step - loss: 5.7739e-05\n",
      "Epoch 643/1000\n",
      "25/25 [==============================] - 0s 1000us/step - loss: 5.0706e-05\n",
      "Epoch 644/1000\n",
      "25/25 [==============================] - 0s 983us/step - loss: 4.1106e-05\n",
      "Epoch 645/1000\n",
      "25/25 [==============================] - 0s 974us/step - loss: 3.2453e-05\n",
      "Epoch 646/1000\n",
      "25/25 [==============================] - 0s 1ms/step - loss: 2.9040e-05\n",
      "Epoch 647/1000\n",
      "25/25 [==============================] - 0s 1ms/step - loss: 3.3952e-05\n",
      "Epoch 648/1000\n",
      "25/25 [==============================] - 0s 992us/step - loss: 2.6157e-05\n",
      "Epoch 649/1000\n",
      "25/25 [==============================] - 0s 1ms/step - loss: 2.1111e-05\n",
      "Epoch 650/1000\n",
      "25/25 [==============================] - 0s 986us/step - loss: 1.7150e-05\n",
      "Epoch 651/1000\n",
      "25/25 [==============================] - 0s 990us/step - loss: 1.8567e-05\n",
      "Epoch 652/1000\n",
      "25/25 [==============================] - 0s 991us/step - loss: 1.9286e-05\n",
      "Epoch 653/1000\n",
      "25/25 [==============================] - 0s 966us/step - loss: 1.5231e-05\n",
      "Epoch 654/1000\n",
      "25/25 [==============================] - 0s 979us/step - loss: 1.3200e-05\n",
      "Epoch 655/1000\n",
      "25/25 [==============================] - 0s 1ms/step - loss: 1.2574e-05\n",
      "Epoch 656/1000\n",
      "25/25 [==============================] - 0s 974us/step - loss: 1.2512e-05\n",
      "Epoch 657/1000\n",
      "25/25 [==============================] - 0s 998us/step - loss: 1.7590e-05\n",
      "Epoch 658/1000\n",
      "25/25 [==============================] - 0s 973us/step - loss: 1.3014e-05\n",
      "Epoch 659/1000\n",
      "25/25 [==============================] - 0s 982us/step - loss: 1.0952e-05\n",
      "Epoch 660/1000\n",
      "25/25 [==============================] - 0s 986us/step - loss: 1.0672e-05\n",
      "Epoch 661/1000\n",
      "25/25 [==============================] - 0s 981us/step - loss: 2.2840e-05\n",
      "Epoch 662/1000\n",
      "25/25 [==============================] - 0s 978us/step - loss: 2.4087e-05\n",
      "Epoch 663/1000\n",
      "25/25 [==============================] - 0s 995us/step - loss: 2.4889e-05\n",
      "Epoch 664/1000\n",
      "25/25 [==============================] - 0s 976us/step - loss: 2.7722e-05\n",
      "Epoch 665/1000\n",
      "25/25 [==============================] - 0s 998us/step - loss: 3.4592e-05\n",
      "Epoch 666/1000\n",
      "25/25 [==============================] - 0s 1ms/step - loss: 1.8500e-05\n",
      "Epoch 667/1000\n",
      "25/25 [==============================] - 0s 993us/step - loss: 1.0597e-05\n",
      "Epoch 668/1000\n",
      "25/25 [==============================] - 0s 994us/step - loss: 1.1120e-05\n",
      "Epoch 669/1000\n",
      "25/25 [==============================] - 0s 998us/step - loss: 7.4220e-06\n",
      "Epoch 670/1000\n",
      "25/25 [==============================] - 0s 1ms/step - loss: 1.4308e-05\n",
      "Epoch 671/1000\n",
      "25/25 [==============================] - 0s 974us/step - loss: 8.3965e-06\n",
      "Epoch 672/1000\n",
      "25/25 [==============================] - 0s 981us/step - loss: 8.6364e-06\n",
      "Epoch 673/1000\n",
      "25/25 [==============================] - 0s 986us/step - loss: 9.2078e-06\n",
      "Epoch 674/1000\n",
      "25/25 [==============================] - 0s 983us/step - loss: 8.2070e-06\n",
      "Epoch 675/1000\n",
      "25/25 [==============================] - 0s 1ms/step - loss: 1.3258e-05\n",
      "Epoch 676/1000\n",
      "25/25 [==============================] - 0s 995us/step - loss: 2.0562e-05\n",
      "Epoch 677/1000\n",
      "25/25 [==============================] - 0s 987us/step - loss: 1.9746e-05\n",
      "Epoch 678/1000\n",
      "25/25 [==============================] - 0s 983us/step - loss: 2.2976e-05\n",
      "Epoch 679/1000\n",
      "25/25 [==============================] - 0s 1ms/step - loss: 1.3985e-05\n",
      "Epoch 680/1000\n",
      "25/25 [==============================] - 0s 981us/step - loss: 1.1651e-05\n",
      "Epoch 681/1000\n",
      "25/25 [==============================] - 0s 972us/step - loss: 8.7810e-06\n",
      "Epoch 682/1000\n",
      "25/25 [==============================] - 0s 1ms/step - loss: 1.4124e-05\n",
      "Epoch 683/1000\n",
      "25/25 [==============================] - 0s 983us/step - loss: 1.0481e-05\n",
      "Epoch 684/1000\n",
      "25/25 [==============================] - 0s 982us/step - loss: 9.8849e-06\n",
      "Epoch 685/1000\n",
      "25/25 [==============================] - 0s 981us/step - loss: 7.2701e-06\n",
      "Epoch 686/1000\n",
      "25/25 [==============================] - 0s 996us/step - loss: 1.1964e-05\n",
      "Epoch 687/1000\n",
      "25/25 [==============================] - 0s 997us/step - loss: 9.5853e-06\n",
      "Epoch 688/1000\n",
      "25/25 [==============================] - 0s 979us/step - loss: 1.3479e-05\n",
      "Epoch 689/1000\n",
      "25/25 [==============================] - 0s 1ms/step - loss: 2.2823e-05\n",
      "Epoch 690/1000\n",
      "25/25 [==============================] - 0s 988us/step - loss: 1.4134e-05\n",
      "Epoch 691/1000\n",
      "25/25 [==============================] - 0s 976us/step - loss: 1.9704e-05\n",
      "Epoch 692/1000\n",
      "25/25 [==============================] - 0s 980us/step - loss: 1.8376e-05\n",
      "Epoch 693/1000\n",
      "25/25 [==============================] - 0s 978us/step - loss: 2.1743e-05\n",
      "Epoch 694/1000\n",
      "25/25 [==============================] - 0s 997us/step - loss: 4.7636e-05\n",
      "Epoch 695/1000\n",
      "25/25 [==============================] - 0s 1ms/step - loss: 2.4888e-04\n",
      "Epoch 696/1000\n",
      "25/25 [==============================] - 0s 987us/step - loss: 6.2551e-04\n",
      "Epoch 697/1000\n",
      "25/25 [==============================] - 0s 995us/step - loss: 3.5295e-04\n",
      "Epoch 698/1000\n",
      "25/25 [==============================] - 0s 981us/step - loss: 7.1513e-04\n",
      "Epoch 699/1000\n",
      "25/25 [==============================] - 0s 995us/step - loss: 4.5060e-04\n",
      "Epoch 700/1000\n",
      "25/25 [==============================] - 0s 1ms/step - loss: 3.6219e-04\n",
      "Epoch 701/1000\n",
      "25/25 [==============================] - 0s 1ms/step - loss: 7.8089e-04\n",
      "Epoch 702/1000\n",
      "25/25 [==============================] - 0s 986us/step - loss: 3.7657e-04\n",
      "Epoch 703/1000\n",
      "25/25 [==============================] - 0s 990us/step - loss: 2.3462e-04\n",
      "Epoch 704/1000\n",
      "25/25 [==============================] - 0s 988us/step - loss: 1.5868e-04\n",
      "Epoch 705/1000\n",
      "25/25 [==============================] - 0s 1ms/step - loss: 2.1468e-04\n",
      "Epoch 706/1000\n",
      "25/25 [==============================] - 0s 991us/step - loss: 1.5771e-04\n",
      "Epoch 707/1000\n",
      "25/25 [==============================] - 0s 1ms/step - loss: 1.1047e-04\n",
      "Epoch 708/1000\n",
      "25/25 [==============================] - 0s 1ms/step - loss: 1.1676e-04\n",
      "Epoch 709/1000\n",
      "25/25 [==============================] - 0s 1ms/step - loss: 4.9193e-04\n",
      "Epoch 710/1000\n",
      "25/25 [==============================] - 0s 1ms/step - loss: 9.2037e-04\n",
      "Epoch 711/1000\n",
      "25/25 [==============================] - 0s 1ms/step - loss: 5.3873e-04\n",
      "Epoch 712/1000\n",
      "25/25 [==============================] - 0s 1ms/step - loss: 5.3296e-04\n",
      "Epoch 713/1000\n",
      "25/25 [==============================] - 0s 1ms/step - loss: 2.2997e-04\n",
      "Epoch 714/1000\n",
      "25/25 [==============================] - 0s 1ms/step - loss: 1.5584e-04\n",
      "Epoch 715/1000\n",
      "25/25 [==============================] - 0s 1ms/step - loss: 7.6271e-05\n",
      "Epoch 716/1000\n",
      "25/25 [==============================] - 0s 1ms/step - loss: 5.5739e-05\n",
      "Epoch 717/1000\n",
      "25/25 [==============================] - 0s 1ms/step - loss: 5.0165e-05\n",
      "Epoch 718/1000\n",
      "25/25 [==============================] - 0s 995us/step - loss: 3.5047e-05\n",
      "Epoch 719/1000\n",
      "25/25 [==============================] - 0s 995us/step - loss: 3.9938e-05\n",
      "Epoch 720/1000\n",
      "25/25 [==============================] - 0s 989us/step - loss: 4.8047e-05\n",
      "Epoch 721/1000\n",
      "25/25 [==============================] - 0s 1ms/step - loss: 3.6031e-05\n",
      "Epoch 722/1000\n",
      "25/25 [==============================] - 0s 978us/step - loss: 2.9498e-05\n",
      "Epoch 723/1000\n",
      "25/25 [==============================] - 0s 977us/step - loss: 4.3175e-05\n",
      "Epoch 724/1000\n",
      "25/25 [==============================] - 0s 985us/step - loss: 3.1503e-05\n",
      "Epoch 725/1000\n",
      "25/25 [==============================] - 0s 952us/step - loss: 1.8559e-05\n",
      "Epoch 726/1000\n",
      "25/25 [==============================] - 0s 996us/step - loss: 2.1898e-05\n",
      "Epoch 727/1000\n",
      "25/25 [==============================] - 0s 1ms/step - loss: 1.3838e-05\n",
      "Epoch 728/1000\n",
      "25/25 [==============================] - 0s 988us/step - loss: 1.8279e-05\n",
      "Epoch 729/1000\n",
      "25/25 [==============================] - 0s 1ms/step - loss: 1.8382e-05\n",
      "Epoch 730/1000\n",
      "25/25 [==============================] - 0s 1ms/step - loss: 1.2807e-05\n",
      "Epoch 731/1000\n",
      "25/25 [==============================] - 0s 1ms/step - loss: 1.3649e-05\n",
      "Epoch 732/1000\n",
      "25/25 [==============================] - 0s 968us/step - loss: 1.0687e-05\n",
      "Epoch 733/1000\n",
      "25/25 [==============================] - 0s 1ms/step - loss: 1.0832e-05\n",
      "Epoch 734/1000\n",
      "25/25 [==============================] - 0s 1ms/step - loss: 8.6510e-06\n",
      "Epoch 735/1000\n",
      "25/25 [==============================] - 0s 987us/step - loss: 7.4235e-06\n",
      "Epoch 736/1000\n",
      "25/25 [==============================] - 0s 993us/step - loss: 7.8060e-06\n",
      "Epoch 737/1000\n",
      "25/25 [==============================] - 0s 993us/step - loss: 8.0608e-06\n",
      "Epoch 738/1000\n",
      "25/25 [==============================] - 0s 993us/step - loss: 9.0429e-06\n",
      "Epoch 739/1000\n",
      "25/25 [==============================] - 0s 995us/step - loss: 8.1851e-06\n",
      "Epoch 740/1000\n",
      "25/25 [==============================] - 0s 991us/step - loss: 5.8820e-06\n",
      "Epoch 741/1000\n",
      "25/25 [==============================] - 0s 983us/step - loss: 5.5353e-06\n",
      "Epoch 742/1000\n",
      "25/25 [==============================] - 0s 978us/step - loss: 5.5105e-06\n",
      "Epoch 743/1000\n",
      "25/25 [==============================] - 0s 972us/step - loss: 5.7764e-06\n",
      "Epoch 744/1000\n",
      "25/25 [==============================] - 0s 991us/step - loss: 4.4274e-06\n",
      "Epoch 745/1000\n",
      "25/25 [==============================] - 0s 989us/step - loss: 6.2952e-06\n",
      "Epoch 746/1000\n",
      "25/25 [==============================] - 0s 994us/step - loss: 4.5543e-06\n",
      "Epoch 747/1000\n",
      "25/25 [==============================] - 0s 947us/step - loss: 6.3752e-06\n",
      "Epoch 748/1000\n",
      "25/25 [==============================] - 0s 933us/step - loss: 4.6503e-06\n",
      "Epoch 749/1000\n",
      "25/25 [==============================] - 0s 928us/step - loss: 4.8821e-06\n",
      "Epoch 750/1000\n",
      "25/25 [==============================] - 0s 927us/step - loss: 7.0770e-06\n",
      "Epoch 751/1000\n",
      "25/25 [==============================] - 0s 970us/step - loss: 6.5308e-06\n",
      "Epoch 752/1000\n",
      "25/25 [==============================] - 0s 961us/step - loss: 6.4922e-06\n",
      "Epoch 753/1000\n",
      "25/25 [==============================] - 0s 978us/step - loss: 8.3526e-06\n",
      "Epoch 754/1000\n",
      "25/25 [==============================] - 0s 986us/step - loss: 7.9746e-06\n",
      "Epoch 755/1000\n",
      "25/25 [==============================] - 0s 973us/step - loss: 1.1013e-05\n",
      "Epoch 756/1000\n",
      "25/25 [==============================] - 0s 1ms/step - loss: 1.8501e-05\n",
      "Epoch 757/1000\n",
      "25/25 [==============================] - 0s 1ms/step - loss: 2.9107e-05\n",
      "Epoch 758/1000\n",
      "25/25 [==============================] - 0s 999us/step - loss: 3.8075e-05\n",
      "Epoch 759/1000\n",
      "25/25 [==============================] - 0s 980us/step - loss: 4.7920e-05\n",
      "Epoch 760/1000\n",
      "25/25 [==============================] - 0s 989us/step - loss: 3.7204e-05\n",
      "Epoch 761/1000\n",
      "25/25 [==============================] - 0s 1ms/step - loss: 3.7518e-05\n",
      "Epoch 762/1000\n",
      "25/25 [==============================] - 0s 998us/step - loss: 3.1389e-05\n",
      "Epoch 763/1000\n",
      "25/25 [==============================] - 0s 990us/step - loss: 3.4669e-05\n",
      "Epoch 764/1000\n",
      "25/25 [==============================] - 0s 983us/step - loss: 3.9584e-05\n",
      "Epoch 765/1000\n",
      "25/25 [==============================] - 0s 1ms/step - loss: 4.7684e-05\n",
      "Epoch 766/1000\n",
      "25/25 [==============================] - 0s 994us/step - loss: 4.5423e-05\n",
      "Epoch 767/1000\n",
      "25/25 [==============================] - 0s 984us/step - loss: 4.9988e-05\n",
      "Epoch 768/1000\n",
      "25/25 [==============================] - 0s 1ms/step - loss: 4.5584e-05\n",
      "Epoch 769/1000\n",
      "25/25 [==============================] - 0s 999us/step - loss: 3.5222e-05\n",
      "Epoch 770/1000\n",
      "25/25 [==============================] - 0s 1ms/step - loss: 4.8627e-05\n",
      "Epoch 771/1000\n",
      "25/25 [==============================] - 0s 1ms/step - loss: 2.4238e-05\n",
      "Epoch 772/1000\n",
      "25/25 [==============================] - 0s 1ms/step - loss: 1.2560e-05\n",
      "Epoch 773/1000\n",
      "25/25 [==============================] - 0s 980us/step - loss: 8.0899e-06\n",
      "Epoch 774/1000\n",
      "25/25 [==============================] - 0s 989us/step - loss: 1.4287e-05\n",
      "Epoch 775/1000\n",
      "25/25 [==============================] - 0s 997us/step - loss: 1.5828e-05\n",
      "Epoch 776/1000\n",
      "25/25 [==============================] - 0s 1ms/step - loss: 2.1082e-05\n",
      "Epoch 777/1000\n",
      "25/25 [==============================] - 0s 1ms/step - loss: 1.3965e-05\n",
      "Epoch 778/1000\n",
      "25/25 [==============================] - 0s 1ms/step - loss: 1.7666e-05\n",
      "Epoch 779/1000\n",
      "25/25 [==============================] - 0s 991us/step - loss: 2.0209e-05\n",
      "Epoch 780/1000\n",
      "25/25 [==============================] - 0s 979us/step - loss: 1.8140e-05\n",
      "Epoch 781/1000\n",
      "25/25 [==============================] - 0s 986us/step - loss: 1.3698e-05\n",
      "Epoch 782/1000\n",
      "25/25 [==============================] - 0s 982us/step - loss: 8.4324e-06\n",
      "Epoch 783/1000\n",
      "25/25 [==============================] - 0s 1ms/step - loss: 1.0415e-05\n",
      "Epoch 784/1000\n",
      "25/25 [==============================] - 0s 1ms/step - loss: 8.5159e-06\n",
      "Epoch 785/1000\n",
      "25/25 [==============================] - 0s 988us/step - loss: 1.3299e-05\n",
      "Epoch 786/1000\n",
      "25/25 [==============================] - 0s 1ms/step - loss: 1.4782e-05\n",
      "Epoch 787/1000\n",
      "25/25 [==============================] - 0s 1ms/step - loss: 1.2745e-05\n",
      "Epoch 788/1000\n",
      "25/25 [==============================] - 0s 1ms/step - loss: 8.3382e-06\n",
      "Epoch 789/1000\n",
      "25/25 [==============================] - 0s 977us/step - loss: 8.2080e-06\n",
      "Epoch 790/1000\n",
      "25/25 [==============================] - 0s 990us/step - loss: 5.6519e-06\n",
      "Epoch 791/1000\n",
      "25/25 [==============================] - 0s 1ms/step - loss: 4.3658e-06\n",
      "Epoch 792/1000\n",
      "25/25 [==============================] - 0s 1ms/step - loss: 3.5049e-06\n",
      "Epoch 793/1000\n",
      "25/25 [==============================] - 0s 1ms/step - loss: 4.0515e-06\n",
      "Epoch 794/1000\n",
      "25/25 [==============================] - 0s 1ms/step - loss: 4.4688e-06\n",
      "Epoch 795/1000\n",
      "25/25 [==============================] - 0s 1ms/step - loss: 5.5081e-06\n",
      "Epoch 796/1000\n",
      "25/25 [==============================] - 0s 987us/step - loss: 6.4730e-06\n",
      "Epoch 797/1000\n",
      "25/25 [==============================] - 0s 973us/step - loss: 5.1725e-06\n",
      "Epoch 798/1000\n",
      "25/25 [==============================] - 0s 1ms/step - loss: 3.4855e-06\n",
      "Epoch 799/1000\n",
      "25/25 [==============================] - 0s 1ms/step - loss: 6.0062e-06\n",
      "Epoch 800/1000\n",
      "25/25 [==============================] - 0s 1ms/step - loss: 6.3183e-06\n",
      "Epoch 801/1000\n",
      "25/25 [==============================] - 0s 1000us/step - loss: 5.4043e-06\n",
      "Epoch 802/1000\n",
      "25/25 [==============================] - 0s 987us/step - loss: 5.6745e-06\n",
      "Epoch 803/1000\n",
      "25/25 [==============================] - 0s 1000us/step - loss: 5.3147e-06\n",
      "Epoch 804/1000\n",
      "25/25 [==============================] - 0s 993us/step - loss: 1.2212e-05\n",
      "Epoch 805/1000\n",
      "25/25 [==============================] - 0s 998us/step - loss: 8.3547e-06\n",
      "Epoch 806/1000\n",
      "25/25 [==============================] - 0s 992us/step - loss: 7.5758e-06\n",
      "Epoch 807/1000\n",
      "25/25 [==============================] - 0s 1ms/step - loss: 1.0165e-05\n",
      "Epoch 808/1000\n",
      "25/25 [==============================] - 0s 1ms/step - loss: 1.4114e-05\n",
      "Epoch 809/1000\n",
      "25/25 [==============================] - 0s 991us/step - loss: 1.6465e-05\n",
      "Epoch 810/1000\n",
      "25/25 [==============================] - 0s 990us/step - loss: 1.7773e-05\n",
      "Epoch 811/1000\n",
      "25/25 [==============================] - 0s 996us/step - loss: 1.4584e-05\n",
      "Epoch 812/1000\n",
      "25/25 [==============================] - 0s 995us/step - loss: 1.7079e-05\n",
      "Epoch 813/1000\n",
      "25/25 [==============================] - 0s 995us/step - loss: 2.4455e-05\n",
      "Epoch 814/1000\n",
      "25/25 [==============================] - 0s 970us/step - loss: 3.8244e-05\n",
      "Epoch 815/1000\n",
      "25/25 [==============================] - 0s 2ms/step - loss: 5.8191e-05\n",
      "Epoch 816/1000\n",
      "25/25 [==============================] - 0s 1ms/step - loss: 8.9888e-05\n",
      "Epoch 817/1000\n",
      "25/25 [==============================] - 0s 1ms/step - loss: 2.3534e-04\n",
      "Epoch 818/1000\n",
      "25/25 [==============================] - 0s 1ms/step - loss: 0.0016\n",
      "Epoch 819/1000\n",
      "25/25 [==============================] - 0s 992us/step - loss: 0.0011\n",
      "Epoch 820/1000\n",
      "25/25 [==============================] - 0s 1ms/step - loss: 8.8421e-04\n",
      "Epoch 821/1000\n",
      "25/25 [==============================] - 0s 1ms/step - loss: 5.5181e-04\n",
      "Epoch 822/1000\n",
      "25/25 [==============================] - 0s 1ms/step - loss: 3.7124e-04\n",
      "Epoch 823/1000\n",
      "25/25 [==============================] - 0s 1ms/step - loss: 3.2924e-04\n",
      "Epoch 824/1000\n",
      "25/25 [==============================] - 0s 1ms/step - loss: 4.2012e-04\n",
      "Epoch 825/1000\n",
      "25/25 [==============================] - 0s 994us/step - loss: 3.2860e-04\n",
      "Epoch 826/1000\n",
      "25/25 [==============================] - 0s 1ms/step - loss: 2.6057e-04\n",
      "Epoch 827/1000\n",
      "25/25 [==============================] - 0s 998us/step - loss: 2.6891e-04\n",
      "Epoch 828/1000\n",
      "25/25 [==============================] - 0s 1ms/step - loss: 1.6395e-04\n",
      "Epoch 829/1000\n",
      "25/25 [==============================] - 0s 983us/step - loss: 1.7914e-04\n",
      "Epoch 830/1000\n",
      "25/25 [==============================] - 0s 1ms/step - loss: 2.1859e-04\n",
      "Epoch 831/1000\n",
      "25/25 [==============================] - 0s 985us/step - loss: 1.5110e-04\n",
      "Epoch 832/1000\n",
      "25/25 [==============================] - 0s 991us/step - loss: 1.4017e-04\n",
      "Epoch 833/1000\n",
      "25/25 [==============================] - 0s 984us/step - loss: 1.0986e-04\n",
      "Epoch 834/1000\n",
      "25/25 [==============================] - 0s 1ms/step - loss: 1.0119e-04\n",
      "Epoch 835/1000\n",
      "25/25 [==============================] - 0s 997us/step - loss: 7.7880e-05\n",
      "Epoch 836/1000\n",
      "25/25 [==============================] - 0s 1ms/step - loss: 9.6344e-05\n",
      "Epoch 837/1000\n",
      "25/25 [==============================] - 0s 991us/step - loss: 9.4517e-05\n",
      "Epoch 838/1000\n",
      "25/25 [==============================] - 0s 1ms/step - loss: 9.5457e-05\n",
      "Epoch 839/1000\n",
      "25/25 [==============================] - 0s 1ms/step - loss: 8.0382e-05\n",
      "Epoch 840/1000\n",
      "25/25 [==============================] - 0s 982us/step - loss: 8.9153e-05\n",
      "Epoch 841/1000\n",
      "25/25 [==============================] - 0s 995us/step - loss: 6.5114e-05\n",
      "Epoch 842/1000\n",
      "25/25 [==============================] - 0s 972us/step - loss: 7.3263e-05\n",
      "Epoch 843/1000\n",
      "25/25 [==============================] - 0s 987us/step - loss: 6.2064e-05\n",
      "Epoch 844/1000\n",
      "25/25 [==============================] - 0s 995us/step - loss: 3.9650e-05\n",
      "Epoch 845/1000\n",
      "25/25 [==============================] - 0s 984us/step - loss: 3.1707e-05\n",
      "Epoch 846/1000\n",
      "25/25 [==============================] - 0s 1ms/step - loss: 2.8526e-05\n",
      "Epoch 847/1000\n",
      "25/25 [==============================] - 0s 1ms/step - loss: 2.1953e-05\n",
      "Epoch 848/1000\n",
      "25/25 [==============================] - 0s 1ms/step - loss: 2.9182e-05\n",
      "Epoch 849/1000\n",
      "25/25 [==============================] - 0s 1ms/step - loss: 2.2351e-05\n",
      "Epoch 850/1000\n",
      "25/25 [==============================] - 0s 1ms/step - loss: 2.0156e-05\n",
      "Epoch 851/1000\n",
      "25/25 [==============================] - 0s 1ms/step - loss: 2.0254e-05\n",
      "Epoch 852/1000\n",
      "25/25 [==============================] - 0s 1000us/step - loss: 2.1307e-05\n",
      "Epoch 853/1000\n",
      "25/25 [==============================] - 0s 1ms/step - loss: 2.3416e-05\n",
      "Epoch 854/1000\n",
      "25/25 [==============================] - 0s 1ms/step - loss: 2.0903e-05\n",
      "Epoch 855/1000\n",
      "25/25 [==============================] - 0s 982us/step - loss: 1.6144e-05\n",
      "Epoch 856/1000\n",
      "25/25 [==============================] - 0s 1ms/step - loss: 2.4494e-05\n",
      "Epoch 857/1000\n",
      "25/25 [==============================] - 0s 992us/step - loss: 2.8048e-05\n",
      "Epoch 858/1000\n",
      "25/25 [==============================] - 0s 1ms/step - loss: 3.5575e-05\n",
      "Epoch 859/1000\n",
      "25/25 [==============================] - 0s 993us/step - loss: 2.1600e-05\n",
      "Epoch 860/1000\n",
      "25/25 [==============================] - 0s 1ms/step - loss: 2.1933e-05\n",
      "Epoch 861/1000\n",
      "25/25 [==============================] - 0s 998us/step - loss: 1.9348e-05\n",
      "Epoch 862/1000\n",
      "25/25 [==============================] - 0s 974us/step - loss: 1.7041e-05\n",
      "Epoch 863/1000\n",
      "25/25 [==============================] - 0s 1ms/step - loss: 1.6276e-05\n",
      "Epoch 864/1000\n",
      "25/25 [==============================] - 0s 989us/step - loss: 1.3571e-05\n",
      "Epoch 865/1000\n",
      "25/25 [==============================] - 0s 1ms/step - loss: 1.2986e-05\n",
      "Epoch 866/1000\n",
      "25/25 [==============================] - 0s 1ms/step - loss: 9.6379e-06\n",
      "Epoch 867/1000\n",
      "25/25 [==============================] - 0s 1ms/step - loss: 6.9584e-06\n",
      "Epoch 868/1000\n",
      "25/25 [==============================] - 0s 999us/step - loss: 7.2875e-06\n",
      "Epoch 869/1000\n",
      "25/25 [==============================] - 0s 1ms/step - loss: 8.5565e-06\n",
      "Epoch 870/1000\n",
      "25/25 [==============================] - 0s 1ms/step - loss: 9.8530e-06\n",
      "Epoch 871/1000\n",
      "25/25 [==============================] - 0s 1ms/step - loss: 1.8101e-05\n",
      "Epoch 872/1000\n",
      "25/25 [==============================] - 0s 1ms/step - loss: 3.8391e-05\n",
      "Epoch 873/1000\n",
      "25/25 [==============================] - 0s 1ms/step - loss: 2.9398e-05\n",
      "Epoch 874/1000\n",
      "25/25 [==============================] - 0s 1ms/step - loss: 1.9768e-05\n",
      "Epoch 875/1000\n",
      "25/25 [==============================] - 0s 1ms/step - loss: 2.4863e-05\n",
      "Epoch 876/1000\n",
      "25/25 [==============================] - 0s 992us/step - loss: 1.8998e-05\n",
      "Epoch 877/1000\n",
      "25/25 [==============================] - 0s 1ms/step - loss: 1.4608e-05\n",
      "Epoch 878/1000\n",
      "25/25 [==============================] - 0s 1ms/step - loss: 1.4125e-05\n",
      "Epoch 879/1000\n",
      "25/25 [==============================] - 0s 1ms/step - loss: 1.5119e-05\n",
      "Epoch 880/1000\n",
      "25/25 [==============================] - 0s 998us/step - loss: 1.7858e-05\n",
      "Epoch 881/1000\n",
      "25/25 [==============================] - 0s 1ms/step - loss: 2.8905e-05\n",
      "Epoch 882/1000\n",
      "25/25 [==============================] - 0s 982us/step - loss: 1.8668e-05\n",
      "Epoch 883/1000\n",
      "25/25 [==============================] - 0s 997us/step - loss: 4.1338e-05\n",
      "Epoch 884/1000\n",
      "25/25 [==============================] - 0s 1ms/step - loss: 8.3937e-05\n",
      "Epoch 885/1000\n",
      "25/25 [==============================] - 0s 1ms/step - loss: 2.0720e-04\n",
      "Epoch 886/1000\n",
      "25/25 [==============================] - 0s 1ms/step - loss: 1.4933e-04\n",
      "Epoch 887/1000\n",
      "25/25 [==============================] - 0s 1ms/step - loss: 1.6027e-04\n",
      "Epoch 888/1000\n",
      "25/25 [==============================] - 0s 1ms/step - loss: 1.3920e-04\n",
      "Epoch 889/1000\n",
      "25/25 [==============================] - 0s 1ms/step - loss: 5.4363e-04\n",
      "Epoch 890/1000\n",
      "25/25 [==============================] - 0s 1ms/step - loss: 2.8410e-04\n",
      "Epoch 891/1000\n",
      "25/25 [==============================] - 0s 1ms/step - loss: 2.9704e-04\n",
      "Epoch 892/1000\n",
      "25/25 [==============================] - 0s 1ms/step - loss: 3.9150e-04\n",
      "Epoch 893/1000\n",
      "25/25 [==============================] - 0s 1ms/step - loss: 2.4022e-04\n",
      "Epoch 894/1000\n",
      "25/25 [==============================] - 0s 1ms/step - loss: 1.2616e-04\n",
      "Epoch 895/1000\n",
      "25/25 [==============================] - 0s 1ms/step - loss: 1.0978e-04\n",
      "Epoch 896/1000\n",
      "25/25 [==============================] - 0s 1ms/step - loss: 2.1058e-04\n",
      "Epoch 897/1000\n",
      "25/25 [==============================] - 0s 1ms/step - loss: 1.1331e-04\n",
      "Epoch 898/1000\n",
      "25/25 [==============================] - 0s 986us/step - loss: 8.3497e-05\n",
      "Epoch 899/1000\n",
      "25/25 [==============================] - 0s 999us/step - loss: 3.8448e-05\n",
      "Epoch 900/1000\n",
      "25/25 [==============================] - 0s 994us/step - loss: 2.7272e-05\n",
      "Epoch 901/1000\n",
      "25/25 [==============================] - 0s 1ms/step - loss: 3.2159e-05\n",
      "Epoch 902/1000\n",
      "25/25 [==============================] - 0s 993us/step - loss: 3.9716e-05\n",
      "Epoch 903/1000\n",
      "25/25 [==============================] - 0s 1ms/step - loss: 2.9355e-05\n",
      "Epoch 904/1000\n",
      "25/25 [==============================] - 0s 1ms/step - loss: 2.3905e-05\n",
      "Epoch 905/1000\n",
      "25/25 [==============================] - 0s 990us/step - loss: 1.6357e-05\n",
      "Epoch 906/1000\n",
      "25/25 [==============================] - 0s 1ms/step - loss: 1.4700e-05\n",
      "Epoch 907/1000\n",
      "25/25 [==============================] - 0s 985us/step - loss: 1.2343e-05\n",
      "Epoch 908/1000\n",
      "25/25 [==============================] - 0s 979us/step - loss: 1.5306e-05\n",
      "Epoch 909/1000\n",
      "25/25 [==============================] - 0s 1ms/step - loss: 1.9519e-05\n",
      "Epoch 910/1000\n",
      "25/25 [==============================] - 0s 976us/step - loss: 1.0466e-05\n",
      "Epoch 911/1000\n",
      "25/25 [==============================] - 0s 998us/step - loss: 9.3225e-06\n",
      "Epoch 912/1000\n",
      "25/25 [==============================] - 0s 996us/step - loss: 1.1746e-05\n",
      "Epoch 913/1000\n",
      "25/25 [==============================] - 0s 999us/step - loss: 6.2796e-06\n",
      "Epoch 914/1000\n",
      "25/25 [==============================] - 0s 988us/step - loss: 1.0593e-05\n",
      "Epoch 915/1000\n",
      "25/25 [==============================] - 0s 1ms/step - loss: 1.4479e-05\n",
      "Epoch 916/1000\n",
      "25/25 [==============================] - 0s 1ms/step - loss: 1.3487e-05\n",
      "Epoch 917/1000\n",
      "25/25 [==============================] - 0s 1ms/step - loss: 1.5695e-05\n",
      "Epoch 918/1000\n",
      "25/25 [==============================] - 0s 988us/step - loss: 1.1195e-05\n",
      "Epoch 919/1000\n",
      "25/25 [==============================] - 0s 1ms/step - loss: 1.2214e-05\n",
      "Epoch 920/1000\n",
      "25/25 [==============================] - 0s 1ms/step - loss: 1.0736e-05\n",
      "Epoch 921/1000\n",
      "25/25 [==============================] - 0s 993us/step - loss: 2.2201e-05\n",
      "Epoch 922/1000\n",
      "25/25 [==============================] - 0s 1ms/step - loss: 1.1534e-05\n",
      "Epoch 923/1000\n",
      "25/25 [==============================] - 0s 1ms/step - loss: 8.4170e-06\n",
      "Epoch 924/1000\n",
      "25/25 [==============================] - 0s 1ms/step - loss: 7.4329e-06\n",
      "Epoch 925/1000\n",
      "25/25 [==============================] - 0s 1ms/step - loss: 8.4580e-06\n",
      "Epoch 926/1000\n",
      "25/25 [==============================] - 0s 1ms/step - loss: 9.0178e-06\n",
      "Epoch 927/1000\n",
      "25/25 [==============================] - 0s 1ms/step - loss: 7.4167e-06\n",
      "Epoch 928/1000\n",
      "25/25 [==============================] - 0s 991us/step - loss: 5.6225e-06\n",
      "Epoch 929/1000\n",
      "25/25 [==============================] - 0s 1ms/step - loss: 4.4372e-06\n",
      "Epoch 930/1000\n",
      "25/25 [==============================] - 0s 1ms/step - loss: 4.4515e-06\n",
      "Epoch 931/1000\n",
      "25/25 [==============================] - 0s 990us/step - loss: 3.9339e-06\n",
      "Epoch 932/1000\n",
      "25/25 [==============================] - 0s 1ms/step - loss: 4.1208e-06\n",
      "Epoch 933/1000\n",
      "25/25 [==============================] - 0s 1ms/step - loss: 2.6307e-06\n",
      "Epoch 934/1000\n",
      "25/25 [==============================] - 0s 1ms/step - loss: 2.7651e-06\n",
      "Epoch 935/1000\n",
      "25/25 [==============================] - 0s 1ms/step - loss: 4.9398e-06\n",
      "Epoch 936/1000\n",
      "25/25 [==============================] - 0s 1ms/step - loss: 4.6674e-06\n",
      "Epoch 937/1000\n",
      "25/25 [==============================] - 0s 994us/step - loss: 3.8488e-06\n",
      "Epoch 938/1000\n",
      "25/25 [==============================] - 0s 994us/step - loss: 3.3265e-06\n",
      "Epoch 939/1000\n",
      "25/25 [==============================] - 0s 1ms/step - loss: 2.7705e-06\n",
      "Epoch 940/1000\n",
      "25/25 [==============================] - 0s 977us/step - loss: 2.8507e-06\n",
      "Epoch 941/1000\n",
      "25/25 [==============================] - 0s 984us/step - loss: 3.8129e-06\n",
      "Epoch 942/1000\n",
      "25/25 [==============================] - 0s 979us/step - loss: 2.2897e-06\n",
      "Epoch 943/1000\n",
      "25/25 [==============================] - 0s 998us/step - loss: 3.9493e-06\n",
      "Epoch 944/1000\n",
      "25/25 [==============================] - 0s 993us/step - loss: 4.3484e-06\n",
      "Epoch 945/1000\n",
      "25/25 [==============================] - 0s 1ms/step - loss: 4.7242e-06\n",
      "Epoch 946/1000\n",
      "25/25 [==============================] - 0s 973us/step - loss: 3.8761e-06\n",
      "Epoch 947/1000\n",
      "25/25 [==============================] - 0s 1ms/step - loss: 3.9752e-06\n",
      "Epoch 948/1000\n",
      "25/25 [==============================] - 0s 994us/step - loss: 3.1018e-06\n",
      "Epoch 949/1000\n",
      "25/25 [==============================] - 0s 1ms/step - loss: 4.6324e-06\n",
      "Epoch 950/1000\n",
      "25/25 [==============================] - 0s 1ms/step - loss: 3.5235e-06\n",
      "Epoch 951/1000\n",
      "25/25 [==============================] - 0s 1ms/step - loss: 4.1609e-06\n",
      "Epoch 952/1000\n",
      "25/25 [==============================] - 0s 1ms/step - loss: 8.8624e-06\n",
      "Epoch 953/1000\n",
      "25/25 [==============================] - 0s 1ms/step - loss: 6.0253e-06\n",
      "Epoch 954/1000\n",
      "25/25 [==============================] - 0s 1ms/step - loss: 1.6073e-05\n",
      "Epoch 955/1000\n",
      "25/25 [==============================] - 0s 1ms/step - loss: 3.3287e-05\n",
      "Epoch 956/1000\n",
      "25/25 [==============================] - 0s 1ms/step - loss: 7.3041e-05\n",
      "Epoch 957/1000\n",
      "25/25 [==============================] - 0s 1ms/step - loss: 2.8601e-04\n",
      "Epoch 958/1000\n",
      "25/25 [==============================] - 0s 1ms/step - loss: 6.8293e-04\n",
      "Epoch 959/1000\n",
      "25/25 [==============================] - 0s 1ms/step - loss: 7.7307e-04\n",
      "Epoch 960/1000\n",
      "25/25 [==============================] - 0s 1ms/step - loss: 6.9473e-04\n",
      "Epoch 961/1000\n",
      "25/25 [==============================] - 0s 1ms/step - loss: 6.5937e-04\n",
      "Epoch 962/1000\n",
      "25/25 [==============================] - 0s 990us/step - loss: 3.8324e-04\n",
      "Epoch 963/1000\n",
      "25/25 [==============================] - 0s 1ms/step - loss: 2.0241e-04\n",
      "Epoch 964/1000\n",
      "25/25 [==============================] - 0s 998us/step - loss: 1.4952e-04\n",
      "Epoch 965/1000\n",
      "25/25 [==============================] - 0s 1ms/step - loss: 1.4040e-04\n",
      "Epoch 966/1000\n",
      "25/25 [==============================] - 0s 1ms/step - loss: 8.6828e-05\n",
      "Epoch 967/1000\n",
      "25/25 [==============================] - 0s 1ms/step - loss: 5.7026e-05\n",
      "Epoch 968/1000\n",
      "25/25 [==============================] - 0s 1ms/step - loss: 4.7686e-05\n",
      "Epoch 969/1000\n",
      "25/25 [==============================] - 0s 989us/step - loss: 4.5060e-05\n",
      "Epoch 970/1000\n",
      "25/25 [==============================] - 0s 1ms/step - loss: 3.9875e-05\n",
      "Epoch 971/1000\n",
      "25/25 [==============================] - 0s 1ms/step - loss: 2.9499e-05\n",
      "Epoch 972/1000\n",
      "25/25 [==============================] - 0s 1ms/step - loss: 2.7665e-05\n",
      "Epoch 973/1000\n",
      "25/25 [==============================] - 0s 1ms/step - loss: 2.4002e-05\n",
      "Epoch 974/1000\n",
      "25/25 [==============================] - 0s 1ms/step - loss: 2.9510e-05\n",
      "Epoch 975/1000\n",
      "25/25 [==============================] - 0s 1ms/step - loss: 2.9984e-05\n",
      "Epoch 976/1000\n",
      "25/25 [==============================] - 0s 1ms/step - loss: 1.7005e-05\n",
      "Epoch 977/1000\n",
      "25/25 [==============================] - 0s 1ms/step - loss: 1.7893e-05\n",
      "Epoch 978/1000\n",
      "25/25 [==============================] - 0s 1ms/step - loss: 1.7128e-05\n",
      "Epoch 979/1000\n",
      "25/25 [==============================] - 0s 1ms/step - loss: 1.1117e-05\n",
      "Epoch 980/1000\n",
      "25/25 [==============================] - 0s 1ms/step - loss: 8.1190e-06\n",
      "Epoch 981/1000\n",
      "25/25 [==============================] - 0s 1ms/step - loss: 1.0066e-05\n",
      "Epoch 982/1000\n",
      "25/25 [==============================] - 0s 1ms/step - loss: 1.1273e-05\n",
      "Epoch 983/1000\n",
      "25/25 [==============================] - 0s 1ms/step - loss: 8.6907e-06\n",
      "Epoch 984/1000\n",
      "25/25 [==============================] - 0s 1ms/step - loss: 6.2760e-06\n",
      "Epoch 985/1000\n",
      "25/25 [==============================] - 0s 1ms/step - loss: 6.6233e-06\n",
      "Epoch 986/1000\n",
      "25/25 [==============================] - 0s 1ms/step - loss: 8.0013e-06\n",
      "Epoch 987/1000\n",
      "25/25 [==============================] - 0s 1ms/step - loss: 5.9153e-06\n",
      "Epoch 988/1000\n",
      "25/25 [==============================] - 0s 1ms/step - loss: 4.7149e-06\n",
      "Epoch 989/1000\n",
      "25/25 [==============================] - 0s 1ms/step - loss: 3.6868e-06\n",
      "Epoch 990/1000\n",
      "25/25 [==============================] - 0s 996us/step - loss: 5.2906e-06\n",
      "Epoch 991/1000\n",
      "25/25 [==============================] - 0s 1ms/step - loss: 4.2297e-06\n",
      "Epoch 992/1000\n",
      "25/25 [==============================] - 0s 1ms/step - loss: 3.6723e-06\n",
      "Epoch 993/1000\n",
      "25/25 [==============================] - 0s 1000us/step - loss: 6.6793e-06\n",
      "Epoch 994/1000\n",
      "25/25 [==============================] - 0s 991us/step - loss: 8.8134e-06\n",
      "Epoch 995/1000\n",
      "25/25 [==============================] - 0s 988us/step - loss: 9.0157e-06\n",
      "Epoch 996/1000\n",
      "25/25 [==============================] - 0s 1ms/step - loss: 6.2610e-06\n",
      "Epoch 997/1000\n",
      "25/25 [==============================] - 0s 1ms/step - loss: 5.4547e-06\n",
      "Epoch 998/1000\n",
      "25/25 [==============================] - 0s 994us/step - loss: 6.8556e-06\n",
      "Epoch 999/1000\n",
      "25/25 [==============================] - 0s 998us/step - loss: 6.7408e-06\n",
      "Epoch 1000/1000\n",
      "25/25 [==============================] - 0s 1ms/step - loss: 6.9172e-06\n"
     ]
    },
    {
     "data": {
      "text/plain": [
       "<tensorflow.python.keras.callbacks.History at 0x7ff0fa2cc970>"
      ]
     },
     "execution_count": 262,
     "metadata": {},
     "output_type": "execute_result"
    }
   ],
   "source": [
    "ann = tf.keras.models.Sequential()\n",
    "ann.add(tf.keras.layers.Dense(units=64, activation='relu'))\n",
    "ann.add(tf.keras.layers.Dense(units=64, activation='relu'))\n",
    "ann.add(tf.keras.layers.Dense(units=64, activation='relu'))\n",
    "ann.add(tf.keras.layers.Dense(units=64, activation='relu'))\n",
    "ann.add(tf.keras.layers.Dense(units=64, activation='relu'))\n",
    "ann.add(tf.keras.layers.Dense(units=64, activation='relu'))\n",
    "ann.add(tf.keras.layers.Dense(units=64, activation='relu'))\n",
    "ann.add(tf.keras.layers.Dense(units=64, activation='relu'))\n",
    "ann.add(tf.keras.layers.Dense(units=64, activation='relu'))\n",
    "ann.add(tf.keras.layers.Dense(units=64, activation='relu'))\n",
    "ann.add(tf.keras.layers.Dense(units=64, activation='relu'))\n",
    "ann.add(tf.keras.layers.Dense(units=64, activation='relu'))\n",
    "\n",
    "ann.add(tf.keras.layers.Dense(units=1))\n",
    "ann.compile(optimizer = 'adam', loss = 'mean_squared_error')\n",
    "ann.fit(X_train, y_train, batch_size = 32, epochs = 1000, verbose=1)"
   ]
  },
  {
   "cell_type": "code",
   "execution_count": 263,
   "id": "03320427-d3da-4e67-8511-bf16ffc3479a",
   "metadata": {},
   "outputs": [
    {
     "name": "stdout",
     "output_type": "stream",
     "text": [
      "mean_squared_error: 0.0006608070602103394\n",
      "neg_mean_squared_error: 0.02570616774648332\n",
      "r2: 0.8894155746186694\n"
     ]
    }
   ],
   "source": [
    "print(\"mean_squared_error:\", mean_squared_error(y_test, ann.predict(X_test)))\n",
    "print(\"neg_mean_squared_error:\", mean_squared_error(y_test, ann.predict(X_test), squared=False))\n",
    "print(\"r2:\", r2_score(y_test, ann.predict(X_test)))"
   ]
  },
  {
   "cell_type": "code",
   "execution_count": 264,
   "id": "817688bc-5b91-45e6-8d2d-550dd4021048",
   "metadata": {},
   "outputs": [
    {
     "data": {
      "text/html": [
       "<div>\n",
       "<style scoped>\n",
       "    .dataframe tbody tr th:only-of-type {\n",
       "        vertical-align: middle;\n",
       "    }\n",
       "\n",
       "    .dataframe tbody tr th {\n",
       "        vertical-align: top;\n",
       "    }\n",
       "\n",
       "    .dataframe thead th {\n",
       "        text-align: right;\n",
       "    }\n",
       "</style>\n",
       "<table border=\"1\" class=\"dataframe\">\n",
       "  <thead>\n",
       "    <tr style=\"text-align: right;\">\n",
       "      <th></th>\n",
       "      <th>Predictions</th>\n",
       "      <th>Actuals</th>\n",
       "      <th>Diff</th>\n",
       "    </tr>\n",
       "  </thead>\n",
       "  <tbody>\n",
       "    <tr>\n",
       "      <th>0</th>\n",
       "      <td>0.825455</td>\n",
       "      <td>0.821676</td>\n",
       "      <td>0.003779</td>\n",
       "    </tr>\n",
       "    <tr>\n",
       "      <th>1</th>\n",
       "      <td>0.941411</td>\n",
       "      <td>0.985831</td>\n",
       "      <td>-0.044420</td>\n",
       "    </tr>\n",
       "    <tr>\n",
       "      <th>2</th>\n",
       "      <td>0.987290</td>\n",
       "      <td>0.932265</td>\n",
       "      <td>0.055025</td>\n",
       "    </tr>\n",
       "    <tr>\n",
       "      <th>3</th>\n",
       "      <td>0.884849</td>\n",
       "      <td>0.874330</td>\n",
       "      <td>0.010519</td>\n",
       "    </tr>\n",
       "    <tr>\n",
       "      <th>4</th>\n",
       "      <td>0.800374</td>\n",
       "      <td>0.800853</td>\n",
       "      <td>-0.000479</td>\n",
       "    </tr>\n",
       "    <tr>\n",
       "      <th>...</th>\n",
       "      <td>...</td>\n",
       "      <td>...</td>\n",
       "      <td>...</td>\n",
       "    </tr>\n",
       "    <tr>\n",
       "      <th>195</th>\n",
       "      <td>0.870762</td>\n",
       "      <td>0.815900</td>\n",
       "      <td>0.054863</td>\n",
       "    </tr>\n",
       "    <tr>\n",
       "      <th>196</th>\n",
       "      <td>1.000501</td>\n",
       "      <td>1.000000</td>\n",
       "      <td>0.000501</td>\n",
       "    </tr>\n",
       "    <tr>\n",
       "      <th>197</th>\n",
       "      <td>0.845268</td>\n",
       "      <td>0.848628</td>\n",
       "      <td>-0.003360</td>\n",
       "    </tr>\n",
       "    <tr>\n",
       "      <th>198</th>\n",
       "      <td>0.834664</td>\n",
       "      <td>0.866911</td>\n",
       "      <td>-0.032248</td>\n",
       "    </tr>\n",
       "    <tr>\n",
       "      <th>199</th>\n",
       "      <td>0.783204</td>\n",
       "      <td>0.798335</td>\n",
       "      <td>-0.015131</td>\n",
       "    </tr>\n",
       "  </tbody>\n",
       "</table>\n",
       "<p>200 rows × 3 columns</p>\n",
       "</div>"
      ],
      "text/plain": [
       "     Predictions   Actuals      Diff\n",
       "0       0.825455  0.821676  0.003779\n",
       "1       0.941411  0.985831 -0.044420\n",
       "2       0.987290  0.932265  0.055025\n",
       "3       0.884849  0.874330  0.010519\n",
       "4       0.800374  0.800853 -0.000479\n",
       "..           ...       ...       ...\n",
       "195     0.870762  0.815900  0.054863\n",
       "196     1.000501  1.000000  0.000501\n",
       "197     0.845268  0.848628 -0.003360\n",
       "198     0.834664  0.866911 -0.032248\n",
       "199     0.783204  0.798335 -0.015131\n",
       "\n",
       "[200 rows x 3 columns]"
      ]
     },
     "execution_count": 264,
     "metadata": {},
     "output_type": "execute_result"
    }
   ],
   "source": [
    "prediction = ann.predict(X_test)\n",
    "\n",
    "res_ann = pd.DataFrame()\n",
    "res_ann[\"Predictions\"] = pd.Series(prediction.ravel())\n",
    "res_ann[\"Actuals\"] = y_test.values\n",
    "res_ann[\"Diff\"] = res_ann.Predictions - res_ann.Actuals\n",
    "res_ann"
   ]
  },
  {
   "cell_type": "code",
   "execution_count": 265,
   "id": "77c50e75-cb4b-41d1-9caa-7dcb3c78a480",
   "metadata": {},
   "outputs": [
    {
     "data": {
      "text/html": [
       "<div>\n",
       "<style scoped>\n",
       "    .dataframe tbody tr th:only-of-type {\n",
       "        vertical-align: middle;\n",
       "    }\n",
       "\n",
       "    .dataframe tbody tr th {\n",
       "        vertical-align: top;\n",
       "    }\n",
       "\n",
       "    .dataframe thead th {\n",
       "        text-align: right;\n",
       "    }\n",
       "</style>\n",
       "<table border=\"1\" class=\"dataframe\">\n",
       "  <thead>\n",
       "    <tr style=\"text-align: right;\">\n",
       "      <th></th>\n",
       "      <th>Predictions</th>\n",
       "      <th>Actuals</th>\n",
       "      <th>Diff</th>\n",
       "    </tr>\n",
       "  </thead>\n",
       "  <tbody>\n",
       "    <tr>\n",
       "      <th>count</th>\n",
       "      <td>200.000000</td>\n",
       "      <td>200.000000</td>\n",
       "      <td>200.000000</td>\n",
       "    </tr>\n",
       "    <tr>\n",
       "      <th>mean</th>\n",
       "      <td>0.901834</td>\n",
       "      <td>0.900382</td>\n",
       "      <td>0.001452</td>\n",
       "    </tr>\n",
       "    <tr>\n",
       "      <th>std</th>\n",
       "      <td>0.075442</td>\n",
       "      <td>0.077496</td>\n",
       "      <td>0.025730</td>\n",
       "    </tr>\n",
       "    <tr>\n",
       "      <th>min</th>\n",
       "      <td>0.731003</td>\n",
       "      <td>0.726383</td>\n",
       "      <td>-0.070185</td>\n",
       "    </tr>\n",
       "    <tr>\n",
       "      <th>25%</th>\n",
       "      <td>0.837535</td>\n",
       "      <td>0.835980</td>\n",
       "      <td>-0.012113</td>\n",
       "    </tr>\n",
       "    <tr>\n",
       "      <th>50%</th>\n",
       "      <td>0.900726</td>\n",
       "      <td>0.898883</td>\n",
       "      <td>0.000478</td>\n",
       "    </tr>\n",
       "    <tr>\n",
       "      <th>75%</th>\n",
       "      <td>0.972427</td>\n",
       "      <td>0.986030</td>\n",
       "      <td>0.011623</td>\n",
       "    </tr>\n",
       "    <tr>\n",
       "      <th>max</th>\n",
       "      <td>1.001295</td>\n",
       "      <td>1.000000</td>\n",
       "      <td>0.071863</td>\n",
       "    </tr>\n",
       "  </tbody>\n",
       "</table>\n",
       "</div>"
      ],
      "text/plain": [
       "       Predictions     Actuals        Diff\n",
       "count   200.000000  200.000000  200.000000\n",
       "mean      0.901834    0.900382    0.001452\n",
       "std       0.075442    0.077496    0.025730\n",
       "min       0.731003    0.726383   -0.070185\n",
       "25%       0.837535    0.835980   -0.012113\n",
       "50%       0.900726    0.898883    0.000478\n",
       "75%       0.972427    0.986030    0.011623\n",
       "max       1.001295    1.000000    0.071863"
      ]
     },
     "execution_count": 265,
     "metadata": {},
     "output_type": "execute_result"
    }
   ],
   "source": [
    "res_ann.describe()"
   ]
  },
  {
   "cell_type": "code",
   "execution_count": 266,
   "id": "64f8ae6a-7f03-4447-865e-b0f49d8640d3",
   "metadata": {},
   "outputs": [
    {
     "data": {
      "application/vnd.plotly.v1+json": {
       "config": {
        "plotlyServerURL": "https://plot.ly"
       },
       "data": [
        {
         "hovertemplate": "Actuals=%{x}<br>Predictions=%{y}<extra></extra>",
         "legendgroup": "",
         "marker": {
          "color": "#636efa",
          "symbol": "circle"
         },
         "mode": "markers",
         "name": "",
         "orientation": "v",
         "showlegend": false,
         "type": "scatter",
         "x": [
          0.82167569,
          0.98583123,
          0.93226504,
          0.87433002,
          0.80085277,
          0.98985511,
          0.90468548,
          0.93491081,
          0.77576286,
          0.92904924,
          0.8551731,
          0.8378007,
          0.91802823,
          0.9328437,
          0.89712599,
          0.97533127,
          0.89358515,
          0.81661972,
          0.98696456,
          0.91322873,
          1,
          0.97398727,
          1,
          0.80238988,
          0.97570772,
          1,
          0.86567743,
          0.83636912,
          0.74341709,
          0.881861,
          0.8428121,
          0.95735222,
          1,
          0.80549921,
          0.91428975,
          0.87060569,
          0.77818172,
          0.90976719,
          0.81226636,
          1,
          0.76435834,
          0.86935395,
          1,
          1,
          0.7844086,
          1,
          0.80911557,
          0.80649194,
          1,
          0.97971301,
          0.81640179,
          0.81541892,
          0.80762016,
          0.97133974,
          0.88576113,
          0.90238025,
          0.94539074,
          0.83364411,
          0.89203184,
          0.878892,
          0.82516666,
          1,
          1,
          0.89085358,
          0.94902409,
          0.85774158,
          0.9046312,
          1,
          0.75889766,
          1,
          0.9503942,
          0.83764228,
          1,
          1,
          1,
          0.93116969,
          0.77719999,
          0.92383274,
          0.79277721,
          0.85159728,
          0.75738802,
          0.86085366,
          1,
          1,
          0.90781308,
          0.86447933,
          1,
          1,
          1,
          1,
          0.99231267,
          0.80435528,
          0.95636695,
          0.93169231,
          0.98662477,
          0.87210503,
          0.86785173,
          1,
          1,
          0.81186648,
          0.77717866,
          0.86041067,
          0.89136585,
          1,
          0.89440198,
          0.91931981,
          0.8982262,
          0.84122774,
          0.87708933,
          0.91997596,
          0.91152684,
          0.82467093,
          0.79843653,
          0.81514863,
          0.98185653,
          0.86684318,
          0.98678307,
          1,
          0.96748445,
          0.98976807,
          0.89808702,
          1,
          0.82661112,
          0.95415998,
          0.91090883,
          0.74174855,
          0.85675145,
          1,
          0.90135263,
          1,
          1,
          0.90723465,
          0.88742286,
          0.72638324,
          1,
          0.92278355,
          0.80673029,
          0.77339636,
          0.84221769,
          0.89203365,
          0.86101207,
          1,
          0.86776745,
          0.77370636,
          0.80313033,
          0.86617919,
          0.83609202,
          1,
          0.85358371,
          0.86982635,
          0.89113477,
          0.82457968,
          0.86416798,
          1,
          0.79677796,
          0.9897241,
          1,
          0.92377109,
          0.93073952,
          0.87970574,
          0.9328574,
          0.89721654,
          0.93089139,
          0.94293678,
          0.8171816,
          0.78531306,
          0.87723316,
          0.92017826,
          0.98527472,
          0.85301652,
          1,
          0.96353401,
          1,
          0.9277132,
          0.820438,
          0.91269686,
          1,
          0.92201385,
          0.92769514,
          1,
          1,
          0.8995401,
          0.83051431,
          0.82939235,
          1,
          0.88700042,
          0.93265422,
          0.79373892,
          0.81409556,
          1,
          0.8068399,
          0.74502827,
          0.83564319,
          0.88784881,
          0.79367308,
          0.81589962,
          1,
          0.84862775,
          0.86691147,
          0.79833485
         ],
         "xaxis": "x",
         "y": [
          0.825454592704773,
          0.9414108991622925,
          0.9872897863388062,
          0.8848488330841064,
          0.8003740310668945,
          1.000564694404602,
          0.8379708528518677,
          0.9761523008346558,
          0.7701160907745361,
          0.8872472047805786,
          0.7898687124252319,
          0.8700603246688843,
          0.9262361526489258,
          0.9486688375473022,
          0.907078742980957,
          0.9428269863128662,
          0.9603629112243652,
          0.7963589429855347,
          1.0005321502685547,
          0.9427599906921387,
          0.9383525848388672,
          0.9503347873687744,
          0.9696773290634155,
          0.8049111366271973,
          0.9819591045379639,
          0.9829230308532715,
          0.8555166721343994,
          0.8080991506576538,
          0.731002688407898,
          0.8796586990356445,
          0.8227335214614868,
          0.8871669769287109,
          0.9519940614700317,
          0.8426978588104248,
          0.9225436449050903,
          0.8874474763870239,
          0.7815093994140625,
          0.9087196588516235,
          0.8133401870727539,
          0.9910699129104614,
          0.7480298280715942,
          0.8442085981369019,
          1.000199317932129,
          0.9997338056564331,
          0.7801237106323242,
          1.0006695985794067,
          0.7981913089752197,
          0.8475979566574097,
          0.9684416055679321,
          1.0002444982528687,
          0.7983942031860352,
          0.8010015487670898,
          0.806510329246521,
          0.9883217811584473,
          0.8972796201705933,
          0.9462505578994751,
          0.9186675548553467,
          0.8985939025878906,
          0.8830091953277588,
          0.8872979879379272,
          0.8258064985275269,
          1.00074303150177,
          1.000649094581604,
          0.8771142959594727,
          0.9598814249038696,
          0.83167564868927,
          0.9340857267379761,
          1.000344157218933,
          0.7933945655822754,
          0.9995907545089722,
          0.9542802572250366,
          0.8362271785736084,
          1.000815987586975,
          1.0012953281402588,
          0.9673048257827759,
          0.9455190896987915,
          0.7576155662536621,
          0.9109714031219482,
          0.8129106760025024,
          0.8811149597167969,
          0.8005813360214233,
          0.9028587341308594,
          1.0002564191818237,
          0.9408746957778931,
          0.884087085723877,
          0.8431928157806396,
          1.000458836555481,
          1.0003535747528076,
          1.0011974573135376,
          0.9935522079467773,
          0.9880218505859375,
          0.7768573760986328,
          0.9467940330505371,
          0.9688237905502319,
          0.9819538593292236,
          0.8768370151519775,
          0.9031610488891602,
          1.0006846189498901,
          1.000632882118225,
          0.8003398180007935,
          0.8005691766738892,
          0.8676705360412598,
          0.8845434188842773,
          1.0004743337631226,
          0.92582106590271,
          0.9044383764266968,
          0.8952126502990723,
          0.8303592205047607,
          0.876663088798523,
          0.8936941623687744,
          0.9759922027587891,
          0.8218755722045898,
          0.7965710163116455,
          0.8190956115722656,
          0.9568406343460083,
          0.8858999013900757,
          0.9647778272628784,
          1.0006654262542725,
          0.9764997959136963,
          0.9930990934371948,
          0.8837921619415283,
          1.0006564855575562,
          0.8327372074127197,
          0.9555201530456543,
          0.9046941995620728,
          0.7547166347503662,
          0.8572361469268799,
          1.00058913230896,
          0.8537095785140991,
          1.000628113746643,
          0.9962044954299927,
          0.9314298629760742,
          0.8752385377883911,
          0.7629983425140381,
          1.000583529472351,
          0.9229956865310669,
          0.8558353185653687,
          0.7945663928985596,
          0.8547909259796143,
          0.8804287910461426,
          0.9328751564025879,
          1.000590205192566,
          0.8923262357711792,
          0.8452128171920776,
          0.8218526840209961,
          0.8940246105194092,
          0.8301092386245728,
          1.00017511844635,
          0.8860844373703003,
          0.8557243347167969,
          0.8970789909362793,
          0.8279317617416382,
          0.919614315032959,
          1.0005764961242676,
          0.8256106376647949,
          0.9867366552352905,
          1.000481128692627,
          0.9326850175857544,
          0.9585713148117065,
          0.8584103584289551,
          0.9167819023132324,
          0.8933857679367065,
          0.9578304290771484,
          0.9300788640975952,
          0.8099333047866821,
          0.7525650262832642,
          0.8714932203292847,
          0.9224897623062134,
          0.9714702367782593,
          0.8409276008605957,
          1.00039803981781,
          0.949022650718689,
          0.9752978086471558,
          0.8609803915023804,
          0.8228392601013184,
          0.9516041278839111,
          0.9998676776885986,
          0.8865556716918945,
          0.9345130920410156,
          0.9998558759689331,
          1.000622034072876,
          0.8887617588043213,
          0.8003960847854614,
          0.8191627264022827,
          1.0008527040481567,
          0.937362551689148,
          0.9242384433746338,
          0.8389400243759155,
          0.8260335922241211,
          1.000429391860962,
          0.8130128383636475,
          0.7747770547866821,
          0.8458806276321411,
          0.9431101083755493,
          0.7907618284225464,
          0.8707624673843384,
          1.0005007982254028,
          0.8452675342559814,
          0.8346636295318604,
          0.7832036018371582
         ],
         "yaxis": "y"
        }
       ],
       "layout": {
        "autosize": false,
        "height": 500,
        "legend": {
         "tracegroupgap": 0
        },
        "margin": {
         "t": 60
        },
        "template": {
         "data": {
          "bar": [
           {
            "error_x": {
             "color": "#2a3f5f"
            },
            "error_y": {
             "color": "#2a3f5f"
            },
            "marker": {
             "line": {
              "color": "#E5ECF6",
              "width": 0.5
             },
             "pattern": {
              "fillmode": "overlay",
              "size": 10,
              "solidity": 0.2
             }
            },
            "type": "bar"
           }
          ],
          "barpolar": [
           {
            "marker": {
             "line": {
              "color": "#E5ECF6",
              "width": 0.5
             },
             "pattern": {
              "fillmode": "overlay",
              "size": 10,
              "solidity": 0.2
             }
            },
            "type": "barpolar"
           }
          ],
          "carpet": [
           {
            "aaxis": {
             "endlinecolor": "#2a3f5f",
             "gridcolor": "white",
             "linecolor": "white",
             "minorgridcolor": "white",
             "startlinecolor": "#2a3f5f"
            },
            "baxis": {
             "endlinecolor": "#2a3f5f",
             "gridcolor": "white",
             "linecolor": "white",
             "minorgridcolor": "white",
             "startlinecolor": "#2a3f5f"
            },
            "type": "carpet"
           }
          ],
          "choropleth": [
           {
            "colorbar": {
             "outlinewidth": 0,
             "ticks": ""
            },
            "type": "choropleth"
           }
          ],
          "contour": [
           {
            "colorbar": {
             "outlinewidth": 0,
             "ticks": ""
            },
            "colorscale": [
             [
              0,
              "#0d0887"
             ],
             [
              0.1111111111111111,
              "#46039f"
             ],
             [
              0.2222222222222222,
              "#7201a8"
             ],
             [
              0.3333333333333333,
              "#9c179e"
             ],
             [
              0.4444444444444444,
              "#bd3786"
             ],
             [
              0.5555555555555556,
              "#d8576b"
             ],
             [
              0.6666666666666666,
              "#ed7953"
             ],
             [
              0.7777777777777778,
              "#fb9f3a"
             ],
             [
              0.8888888888888888,
              "#fdca26"
             ],
             [
              1,
              "#f0f921"
             ]
            ],
            "type": "contour"
           }
          ],
          "contourcarpet": [
           {
            "colorbar": {
             "outlinewidth": 0,
             "ticks": ""
            },
            "type": "contourcarpet"
           }
          ],
          "heatmap": [
           {
            "colorbar": {
             "outlinewidth": 0,
             "ticks": ""
            },
            "colorscale": [
             [
              0,
              "#0d0887"
             ],
             [
              0.1111111111111111,
              "#46039f"
             ],
             [
              0.2222222222222222,
              "#7201a8"
             ],
             [
              0.3333333333333333,
              "#9c179e"
             ],
             [
              0.4444444444444444,
              "#bd3786"
             ],
             [
              0.5555555555555556,
              "#d8576b"
             ],
             [
              0.6666666666666666,
              "#ed7953"
             ],
             [
              0.7777777777777778,
              "#fb9f3a"
             ],
             [
              0.8888888888888888,
              "#fdca26"
             ],
             [
              1,
              "#f0f921"
             ]
            ],
            "type": "heatmap"
           }
          ],
          "heatmapgl": [
           {
            "colorbar": {
             "outlinewidth": 0,
             "ticks": ""
            },
            "colorscale": [
             [
              0,
              "#0d0887"
             ],
             [
              0.1111111111111111,
              "#46039f"
             ],
             [
              0.2222222222222222,
              "#7201a8"
             ],
             [
              0.3333333333333333,
              "#9c179e"
             ],
             [
              0.4444444444444444,
              "#bd3786"
             ],
             [
              0.5555555555555556,
              "#d8576b"
             ],
             [
              0.6666666666666666,
              "#ed7953"
             ],
             [
              0.7777777777777778,
              "#fb9f3a"
             ],
             [
              0.8888888888888888,
              "#fdca26"
             ],
             [
              1,
              "#f0f921"
             ]
            ],
            "type": "heatmapgl"
           }
          ],
          "histogram": [
           {
            "marker": {
             "pattern": {
              "fillmode": "overlay",
              "size": 10,
              "solidity": 0.2
             }
            },
            "type": "histogram"
           }
          ],
          "histogram2d": [
           {
            "colorbar": {
             "outlinewidth": 0,
             "ticks": ""
            },
            "colorscale": [
             [
              0,
              "#0d0887"
             ],
             [
              0.1111111111111111,
              "#46039f"
             ],
             [
              0.2222222222222222,
              "#7201a8"
             ],
             [
              0.3333333333333333,
              "#9c179e"
             ],
             [
              0.4444444444444444,
              "#bd3786"
             ],
             [
              0.5555555555555556,
              "#d8576b"
             ],
             [
              0.6666666666666666,
              "#ed7953"
             ],
             [
              0.7777777777777778,
              "#fb9f3a"
             ],
             [
              0.8888888888888888,
              "#fdca26"
             ],
             [
              1,
              "#f0f921"
             ]
            ],
            "type": "histogram2d"
           }
          ],
          "histogram2dcontour": [
           {
            "colorbar": {
             "outlinewidth": 0,
             "ticks": ""
            },
            "colorscale": [
             [
              0,
              "#0d0887"
             ],
             [
              0.1111111111111111,
              "#46039f"
             ],
             [
              0.2222222222222222,
              "#7201a8"
             ],
             [
              0.3333333333333333,
              "#9c179e"
             ],
             [
              0.4444444444444444,
              "#bd3786"
             ],
             [
              0.5555555555555556,
              "#d8576b"
             ],
             [
              0.6666666666666666,
              "#ed7953"
             ],
             [
              0.7777777777777778,
              "#fb9f3a"
             ],
             [
              0.8888888888888888,
              "#fdca26"
             ],
             [
              1,
              "#f0f921"
             ]
            ],
            "type": "histogram2dcontour"
           }
          ],
          "mesh3d": [
           {
            "colorbar": {
             "outlinewidth": 0,
             "ticks": ""
            },
            "type": "mesh3d"
           }
          ],
          "parcoords": [
           {
            "line": {
             "colorbar": {
              "outlinewidth": 0,
              "ticks": ""
             }
            },
            "type": "parcoords"
           }
          ],
          "pie": [
           {
            "automargin": true,
            "type": "pie"
           }
          ],
          "scatter": [
           {
            "marker": {
             "colorbar": {
              "outlinewidth": 0,
              "ticks": ""
             }
            },
            "type": "scatter"
           }
          ],
          "scatter3d": [
           {
            "line": {
             "colorbar": {
              "outlinewidth": 0,
              "ticks": ""
             }
            },
            "marker": {
             "colorbar": {
              "outlinewidth": 0,
              "ticks": ""
             }
            },
            "type": "scatter3d"
           }
          ],
          "scattercarpet": [
           {
            "marker": {
             "colorbar": {
              "outlinewidth": 0,
              "ticks": ""
             }
            },
            "type": "scattercarpet"
           }
          ],
          "scattergeo": [
           {
            "marker": {
             "colorbar": {
              "outlinewidth": 0,
              "ticks": ""
             }
            },
            "type": "scattergeo"
           }
          ],
          "scattergl": [
           {
            "marker": {
             "colorbar": {
              "outlinewidth": 0,
              "ticks": ""
             }
            },
            "type": "scattergl"
           }
          ],
          "scattermapbox": [
           {
            "marker": {
             "colorbar": {
              "outlinewidth": 0,
              "ticks": ""
             }
            },
            "type": "scattermapbox"
           }
          ],
          "scatterpolar": [
           {
            "marker": {
             "colorbar": {
              "outlinewidth": 0,
              "ticks": ""
             }
            },
            "type": "scatterpolar"
           }
          ],
          "scatterpolargl": [
           {
            "marker": {
             "colorbar": {
              "outlinewidth": 0,
              "ticks": ""
             }
            },
            "type": "scatterpolargl"
           }
          ],
          "scatterternary": [
           {
            "marker": {
             "colorbar": {
              "outlinewidth": 0,
              "ticks": ""
             }
            },
            "type": "scatterternary"
           }
          ],
          "surface": [
           {
            "colorbar": {
             "outlinewidth": 0,
             "ticks": ""
            },
            "colorscale": [
             [
              0,
              "#0d0887"
             ],
             [
              0.1111111111111111,
              "#46039f"
             ],
             [
              0.2222222222222222,
              "#7201a8"
             ],
             [
              0.3333333333333333,
              "#9c179e"
             ],
             [
              0.4444444444444444,
              "#bd3786"
             ],
             [
              0.5555555555555556,
              "#d8576b"
             ],
             [
              0.6666666666666666,
              "#ed7953"
             ],
             [
              0.7777777777777778,
              "#fb9f3a"
             ],
             [
              0.8888888888888888,
              "#fdca26"
             ],
             [
              1,
              "#f0f921"
             ]
            ],
            "type": "surface"
           }
          ],
          "table": [
           {
            "cells": {
             "fill": {
              "color": "#EBF0F8"
             },
             "line": {
              "color": "white"
             }
            },
            "header": {
             "fill": {
              "color": "#C8D4E3"
             },
             "line": {
              "color": "white"
             }
            },
            "type": "table"
           }
          ]
         },
         "layout": {
          "annotationdefaults": {
           "arrowcolor": "#2a3f5f",
           "arrowhead": 0,
           "arrowwidth": 1
          },
          "autotypenumbers": "strict",
          "coloraxis": {
           "colorbar": {
            "outlinewidth": 0,
            "ticks": ""
           }
          },
          "colorscale": {
           "diverging": [
            [
             0,
             "#8e0152"
            ],
            [
             0.1,
             "#c51b7d"
            ],
            [
             0.2,
             "#de77ae"
            ],
            [
             0.3,
             "#f1b6da"
            ],
            [
             0.4,
             "#fde0ef"
            ],
            [
             0.5,
             "#f7f7f7"
            ],
            [
             0.6,
             "#e6f5d0"
            ],
            [
             0.7,
             "#b8e186"
            ],
            [
             0.8,
             "#7fbc41"
            ],
            [
             0.9,
             "#4d9221"
            ],
            [
             1,
             "#276419"
            ]
           ],
           "sequential": [
            [
             0,
             "#0d0887"
            ],
            [
             0.1111111111111111,
             "#46039f"
            ],
            [
             0.2222222222222222,
             "#7201a8"
            ],
            [
             0.3333333333333333,
             "#9c179e"
            ],
            [
             0.4444444444444444,
             "#bd3786"
            ],
            [
             0.5555555555555556,
             "#d8576b"
            ],
            [
             0.6666666666666666,
             "#ed7953"
            ],
            [
             0.7777777777777778,
             "#fb9f3a"
            ],
            [
             0.8888888888888888,
             "#fdca26"
            ],
            [
             1,
             "#f0f921"
            ]
           ],
           "sequentialminus": [
            [
             0,
             "#0d0887"
            ],
            [
             0.1111111111111111,
             "#46039f"
            ],
            [
             0.2222222222222222,
             "#7201a8"
            ],
            [
             0.3333333333333333,
             "#9c179e"
            ],
            [
             0.4444444444444444,
             "#bd3786"
            ],
            [
             0.5555555555555556,
             "#d8576b"
            ],
            [
             0.6666666666666666,
             "#ed7953"
            ],
            [
             0.7777777777777778,
             "#fb9f3a"
            ],
            [
             0.8888888888888888,
             "#fdca26"
            ],
            [
             1,
             "#f0f921"
            ]
           ]
          },
          "colorway": [
           "#636efa",
           "#EF553B",
           "#00cc96",
           "#ab63fa",
           "#FFA15A",
           "#19d3f3",
           "#FF6692",
           "#B6E880",
           "#FF97FF",
           "#FECB52"
          ],
          "font": {
           "color": "#2a3f5f"
          },
          "geo": {
           "bgcolor": "white",
           "lakecolor": "white",
           "landcolor": "#E5ECF6",
           "showlakes": true,
           "showland": true,
           "subunitcolor": "white"
          },
          "hoverlabel": {
           "align": "left"
          },
          "hovermode": "closest",
          "mapbox": {
           "style": "light"
          },
          "paper_bgcolor": "white",
          "plot_bgcolor": "#E5ECF6",
          "polar": {
           "angularaxis": {
            "gridcolor": "white",
            "linecolor": "white",
            "ticks": ""
           },
           "bgcolor": "#E5ECF6",
           "radialaxis": {
            "gridcolor": "white",
            "linecolor": "white",
            "ticks": ""
           }
          },
          "scene": {
           "xaxis": {
            "backgroundcolor": "#E5ECF6",
            "gridcolor": "white",
            "gridwidth": 2,
            "linecolor": "white",
            "showbackground": true,
            "ticks": "",
            "zerolinecolor": "white"
           },
           "yaxis": {
            "backgroundcolor": "#E5ECF6",
            "gridcolor": "white",
            "gridwidth": 2,
            "linecolor": "white",
            "showbackground": true,
            "ticks": "",
            "zerolinecolor": "white"
           },
           "zaxis": {
            "backgroundcolor": "#E5ECF6",
            "gridcolor": "white",
            "gridwidth": 2,
            "linecolor": "white",
            "showbackground": true,
            "ticks": "",
            "zerolinecolor": "white"
           }
          },
          "shapedefaults": {
           "line": {
            "color": "#2a3f5f"
           }
          },
          "ternary": {
           "aaxis": {
            "gridcolor": "white",
            "linecolor": "white",
            "ticks": ""
           },
           "baxis": {
            "gridcolor": "white",
            "linecolor": "white",
            "ticks": ""
           },
           "bgcolor": "#E5ECF6",
           "caxis": {
            "gridcolor": "white",
            "linecolor": "white",
            "ticks": ""
           }
          },
          "title": {
           "x": 0.05
          },
          "xaxis": {
           "automargin": true,
           "gridcolor": "white",
           "linecolor": "white",
           "ticks": "",
           "title": {
            "standoff": 15
           },
           "zerolinecolor": "white",
           "zerolinewidth": 2
          },
          "yaxis": {
           "automargin": true,
           "gridcolor": "white",
           "linecolor": "white",
           "ticks": "",
           "title": {
            "standoff": 15
           },
           "zerolinecolor": "white",
           "zerolinewidth": 2
          }
         }
        },
        "title": {
         "text": "Predictions - Actuals Comparison"
        },
        "width": 800,
        "xaxis": {
         "anchor": "y",
         "autorange": true,
         "domain": [
          0,
          1
         ],
         "range": [
          0.7091769090061565,
          1.0172063309938435
         ],
         "title": {
          "text": "Actuals"
         },
         "type": "linear"
        },
        "yaxis": {
         "anchor": "x",
         "autorange": true,
         "domain": [
          0,
          1
         ],
         "range": [
          0.7124280757248684,
          1.0198699408232883
         ],
         "title": {
          "text": "Predictions"
         },
         "type": "linear"
        }
       }
      },
      "text/html": [
       "<div>                            <div id=\"60a0d8c8-2e82-4220-86e2-c653a5e6925a\" class=\"plotly-graph-div\" style=\"height:500px; width:800px;\"></div>            <script type=\"text/javascript\">                require([\"plotly\"], function(Plotly) {                    window.PLOTLYENV=window.PLOTLYENV || {};                                    if (document.getElementById(\"60a0d8c8-2e82-4220-86e2-c653a5e6925a\")) {                    Plotly.newPlot(                        \"60a0d8c8-2e82-4220-86e2-c653a5e6925a\",                        [{\"hovertemplate\":\"Actuals=%{x}<br>Predictions=%{y}<extra></extra>\",\"legendgroup\":\"\",\"marker\":{\"color\":\"#636efa\",\"symbol\":\"circle\"},\"mode\":\"markers\",\"name\":\"\",\"orientation\":\"v\",\"showlegend\":false,\"x\":[0.82167569,0.98583123,0.93226504,0.87433002,0.80085277,0.98985511,0.90468548,0.93491081,0.77576286,0.92904924,0.8551731,0.8378007,0.91802823,0.9328437,0.89712599,0.97533127,0.89358515,0.81661972,0.98696456,0.91322873,1.0,0.97398727,1.0,0.80238988,0.97570772,1.0,0.86567743,0.83636912,0.74341709,0.881861,0.8428121,0.95735222,1.0,0.80549921,0.91428975,0.87060569,0.77818172,0.90976719,0.81226636,1.0,0.76435834,0.86935395,1.0,1.0,0.7844086,1.0,0.80911557,0.80649194,1.0,0.97971301,0.81640179,0.81541892,0.80762016,0.97133974,0.88576113,0.90238025,0.94539074,0.83364411,0.89203184,0.878892,0.82516666,1.0,1.0,0.89085358,0.94902409,0.85774158,0.9046312,1.0,0.75889766,1.0,0.9503942,0.83764228,1.0,1.0,1.0,0.93116969,0.77719999,0.92383274,0.79277721,0.85159728,0.75738802,0.86085366,1.0,1.0,0.90781308,0.86447933,1.0,1.0,1.0,1.0,0.99231267,0.80435528,0.95636695,0.93169231,0.98662477,0.87210503,0.86785173,1.0,1.0,0.81186648,0.77717866,0.86041067,0.89136585,1.0,0.89440198,0.91931981,0.8982262,0.84122774,0.87708933,0.91997596,0.91152684,0.82467093,0.79843653,0.81514863,0.98185653,0.86684318,0.98678307,1.0,0.96748445,0.98976807,0.89808702,1.0,0.82661112,0.95415998,0.91090883,0.74174855,0.85675145,1.0,0.90135263,1.0,1.0,0.90723465,0.88742286,0.72638324,1.0,0.92278355,0.80673029,0.77339636,0.84221769,0.89203365,0.86101207,1.0,0.86776745,0.77370636,0.80313033,0.86617919,0.83609202,1.0,0.85358371,0.86982635,0.89113477,0.82457968,0.86416798,1.0,0.79677796,0.9897241,1.0,0.92377109,0.93073952,0.87970574,0.9328574,0.89721654,0.93089139,0.94293678,0.8171816,0.78531306,0.87723316,0.92017826,0.98527472,0.85301652,1.0,0.96353401,1.0,0.9277132,0.820438,0.91269686,1.0,0.92201385,0.92769514,1.0,1.0,0.8995401,0.83051431,0.82939235,1.0,0.88700042,0.93265422,0.79373892,0.81409556,1.0,0.8068399,0.74502827,0.83564319,0.88784881,0.79367308,0.81589962,1.0,0.84862775,0.86691147,0.79833485],\"xaxis\":\"x\",\"y\":[0.825454592704773,0.9414108991622925,0.9872897863388062,0.8848488330841064,0.8003740310668945,1.000564694404602,0.8379708528518677,0.9761523008346558,0.7701160907745361,0.8872472047805786,0.7898687124252319,0.8700603246688843,0.9262361526489258,0.9486688375473022,0.907078742980957,0.9428269863128662,0.9603629112243652,0.7963589429855347,1.0005321502685547,0.9427599906921387,0.9383525848388672,0.9503347873687744,0.9696773290634155,0.8049111366271973,0.9819591045379639,0.9829230308532715,0.8555166721343994,0.8080991506576538,0.731002688407898,0.8796586990356445,0.8227335214614868,0.8871669769287109,0.9519940614700317,0.8426978588104248,0.9225436449050903,0.8874474763870239,0.7815093994140625,0.9087196588516235,0.8133401870727539,0.9910699129104614,0.7480298280715942,0.8442085981369019,1.000199317932129,0.9997338056564331,0.7801237106323242,1.0006695985794067,0.7981913089752197,0.8475979566574097,0.9684416055679321,1.0002444982528687,0.7983942031860352,0.8010015487670898,0.806510329246521,0.9883217811584473,0.8972796201705933,0.9462505578994751,0.9186675548553467,0.8985939025878906,0.8830091953277588,0.8872979879379272,0.8258064985275269,1.00074303150177,1.000649094581604,0.8771142959594727,0.9598814249038696,0.83167564868927,0.9340857267379761,1.000344157218933,0.7933945655822754,0.9995907545089722,0.9542802572250366,0.8362271785736084,1.000815987586975,1.0012953281402588,0.9673048257827759,0.9455190896987915,0.7576155662536621,0.9109714031219482,0.8129106760025024,0.8811149597167969,0.8005813360214233,0.9028587341308594,1.0002564191818237,0.9408746957778931,0.884087085723877,0.8431928157806396,1.000458836555481,1.0003535747528076,1.0011974573135376,0.9935522079467773,0.9880218505859375,0.7768573760986328,0.9467940330505371,0.9688237905502319,0.9819538593292236,0.8768370151519775,0.9031610488891602,1.0006846189498901,1.000632882118225,0.8003398180007935,0.8005691766738892,0.8676705360412598,0.8845434188842773,1.0004743337631226,0.92582106590271,0.9044383764266968,0.8952126502990723,0.8303592205047607,0.876663088798523,0.8936941623687744,0.9759922027587891,0.8218755722045898,0.7965710163116455,0.8190956115722656,0.9568406343460083,0.8858999013900757,0.9647778272628784,1.0006654262542725,0.9764997959136963,0.9930990934371948,0.8837921619415283,1.0006564855575562,0.8327372074127197,0.9555201530456543,0.9046941995620728,0.7547166347503662,0.8572361469268799,1.00058913230896,0.8537095785140991,1.000628113746643,0.9962044954299927,0.9314298629760742,0.8752385377883911,0.7629983425140381,1.000583529472351,0.9229956865310669,0.8558353185653687,0.7945663928985596,0.8547909259796143,0.8804287910461426,0.9328751564025879,1.000590205192566,0.8923262357711792,0.8452128171920776,0.8218526840209961,0.8940246105194092,0.8301092386245728,1.00017511844635,0.8860844373703003,0.8557243347167969,0.8970789909362793,0.8279317617416382,0.919614315032959,1.0005764961242676,0.8256106376647949,0.9867366552352905,1.000481128692627,0.9326850175857544,0.9585713148117065,0.8584103584289551,0.9167819023132324,0.8933857679367065,0.9578304290771484,0.9300788640975952,0.8099333047866821,0.7525650262832642,0.8714932203292847,0.9224897623062134,0.9714702367782593,0.8409276008605957,1.00039803981781,0.949022650718689,0.9752978086471558,0.8609803915023804,0.8228392601013184,0.9516041278839111,0.9998676776885986,0.8865556716918945,0.9345130920410156,0.9998558759689331,1.000622034072876,0.8887617588043213,0.8003960847854614,0.8191627264022827,1.0008527040481567,0.937362551689148,0.9242384433746338,0.8389400243759155,0.8260335922241211,1.000429391860962,0.8130128383636475,0.7747770547866821,0.8458806276321411,0.9431101083755493,0.7907618284225464,0.8707624673843384,1.0005007982254028,0.8452675342559814,0.8346636295318604,0.7832036018371582],\"yaxis\":\"y\",\"type\":\"scatter\"}],                        {\"template\":{\"data\":{\"bar\":[{\"error_x\":{\"color\":\"#2a3f5f\"},\"error_y\":{\"color\":\"#2a3f5f\"},\"marker\":{\"line\":{\"color\":\"#E5ECF6\",\"width\":0.5},\"pattern\":{\"fillmode\":\"overlay\",\"size\":10,\"solidity\":0.2}},\"type\":\"bar\"}],\"barpolar\":[{\"marker\":{\"line\":{\"color\":\"#E5ECF6\",\"width\":0.5},\"pattern\":{\"fillmode\":\"overlay\",\"size\":10,\"solidity\":0.2}},\"type\":\"barpolar\"}],\"carpet\":[{\"aaxis\":{\"endlinecolor\":\"#2a3f5f\",\"gridcolor\":\"white\",\"linecolor\":\"white\",\"minorgridcolor\":\"white\",\"startlinecolor\":\"#2a3f5f\"},\"baxis\":{\"endlinecolor\":\"#2a3f5f\",\"gridcolor\":\"white\",\"linecolor\":\"white\",\"minorgridcolor\":\"white\",\"startlinecolor\":\"#2a3f5f\"},\"type\":\"carpet\"}],\"choropleth\":[{\"colorbar\":{\"outlinewidth\":0,\"ticks\":\"\"},\"type\":\"choropleth\"}],\"contour\":[{\"colorbar\":{\"outlinewidth\":0,\"ticks\":\"\"},\"colorscale\":[[0.0,\"#0d0887\"],[0.1111111111111111,\"#46039f\"],[0.2222222222222222,\"#7201a8\"],[0.3333333333333333,\"#9c179e\"],[0.4444444444444444,\"#bd3786\"],[0.5555555555555556,\"#d8576b\"],[0.6666666666666666,\"#ed7953\"],[0.7777777777777778,\"#fb9f3a\"],[0.8888888888888888,\"#fdca26\"],[1.0,\"#f0f921\"]],\"type\":\"contour\"}],\"contourcarpet\":[{\"colorbar\":{\"outlinewidth\":0,\"ticks\":\"\"},\"type\":\"contourcarpet\"}],\"heatmap\":[{\"colorbar\":{\"outlinewidth\":0,\"ticks\":\"\"},\"colorscale\":[[0.0,\"#0d0887\"],[0.1111111111111111,\"#46039f\"],[0.2222222222222222,\"#7201a8\"],[0.3333333333333333,\"#9c179e\"],[0.4444444444444444,\"#bd3786\"],[0.5555555555555556,\"#d8576b\"],[0.6666666666666666,\"#ed7953\"],[0.7777777777777778,\"#fb9f3a\"],[0.8888888888888888,\"#fdca26\"],[1.0,\"#f0f921\"]],\"type\":\"heatmap\"}],\"heatmapgl\":[{\"colorbar\":{\"outlinewidth\":0,\"ticks\":\"\"},\"colorscale\":[[0.0,\"#0d0887\"],[0.1111111111111111,\"#46039f\"],[0.2222222222222222,\"#7201a8\"],[0.3333333333333333,\"#9c179e\"],[0.4444444444444444,\"#bd3786\"],[0.5555555555555556,\"#d8576b\"],[0.6666666666666666,\"#ed7953\"],[0.7777777777777778,\"#fb9f3a\"],[0.8888888888888888,\"#fdca26\"],[1.0,\"#f0f921\"]],\"type\":\"heatmapgl\"}],\"histogram\":[{\"marker\":{\"pattern\":{\"fillmode\":\"overlay\",\"size\":10,\"solidity\":0.2}},\"type\":\"histogram\"}],\"histogram2d\":[{\"colorbar\":{\"outlinewidth\":0,\"ticks\":\"\"},\"colorscale\":[[0.0,\"#0d0887\"],[0.1111111111111111,\"#46039f\"],[0.2222222222222222,\"#7201a8\"],[0.3333333333333333,\"#9c179e\"],[0.4444444444444444,\"#bd3786\"],[0.5555555555555556,\"#d8576b\"],[0.6666666666666666,\"#ed7953\"],[0.7777777777777778,\"#fb9f3a\"],[0.8888888888888888,\"#fdca26\"],[1.0,\"#f0f921\"]],\"type\":\"histogram2d\"}],\"histogram2dcontour\":[{\"colorbar\":{\"outlinewidth\":0,\"ticks\":\"\"},\"colorscale\":[[0.0,\"#0d0887\"],[0.1111111111111111,\"#46039f\"],[0.2222222222222222,\"#7201a8\"],[0.3333333333333333,\"#9c179e\"],[0.4444444444444444,\"#bd3786\"],[0.5555555555555556,\"#d8576b\"],[0.6666666666666666,\"#ed7953\"],[0.7777777777777778,\"#fb9f3a\"],[0.8888888888888888,\"#fdca26\"],[1.0,\"#f0f921\"]],\"type\":\"histogram2dcontour\"}],\"mesh3d\":[{\"colorbar\":{\"outlinewidth\":0,\"ticks\":\"\"},\"type\":\"mesh3d\"}],\"parcoords\":[{\"line\":{\"colorbar\":{\"outlinewidth\":0,\"ticks\":\"\"}},\"type\":\"parcoords\"}],\"pie\":[{\"automargin\":true,\"type\":\"pie\"}],\"scatter\":[{\"marker\":{\"colorbar\":{\"outlinewidth\":0,\"ticks\":\"\"}},\"type\":\"scatter\"}],\"scatter3d\":[{\"line\":{\"colorbar\":{\"outlinewidth\":0,\"ticks\":\"\"}},\"marker\":{\"colorbar\":{\"outlinewidth\":0,\"ticks\":\"\"}},\"type\":\"scatter3d\"}],\"scattercarpet\":[{\"marker\":{\"colorbar\":{\"outlinewidth\":0,\"ticks\":\"\"}},\"type\":\"scattercarpet\"}],\"scattergeo\":[{\"marker\":{\"colorbar\":{\"outlinewidth\":0,\"ticks\":\"\"}},\"type\":\"scattergeo\"}],\"scattergl\":[{\"marker\":{\"colorbar\":{\"outlinewidth\":0,\"ticks\":\"\"}},\"type\":\"scattergl\"}],\"scattermapbox\":[{\"marker\":{\"colorbar\":{\"outlinewidth\":0,\"ticks\":\"\"}},\"type\":\"scattermapbox\"}],\"scatterpolar\":[{\"marker\":{\"colorbar\":{\"outlinewidth\":0,\"ticks\":\"\"}},\"type\":\"scatterpolar\"}],\"scatterpolargl\":[{\"marker\":{\"colorbar\":{\"outlinewidth\":0,\"ticks\":\"\"}},\"type\":\"scatterpolargl\"}],\"scatterternary\":[{\"marker\":{\"colorbar\":{\"outlinewidth\":0,\"ticks\":\"\"}},\"type\":\"scatterternary\"}],\"surface\":[{\"colorbar\":{\"outlinewidth\":0,\"ticks\":\"\"},\"colorscale\":[[0.0,\"#0d0887\"],[0.1111111111111111,\"#46039f\"],[0.2222222222222222,\"#7201a8\"],[0.3333333333333333,\"#9c179e\"],[0.4444444444444444,\"#bd3786\"],[0.5555555555555556,\"#d8576b\"],[0.6666666666666666,\"#ed7953\"],[0.7777777777777778,\"#fb9f3a\"],[0.8888888888888888,\"#fdca26\"],[1.0,\"#f0f921\"]],\"type\":\"surface\"}],\"table\":[{\"cells\":{\"fill\":{\"color\":\"#EBF0F8\"},\"line\":{\"color\":\"white\"}},\"header\":{\"fill\":{\"color\":\"#C8D4E3\"},\"line\":{\"color\":\"white\"}},\"type\":\"table\"}]},\"layout\":{\"annotationdefaults\":{\"arrowcolor\":\"#2a3f5f\",\"arrowhead\":0,\"arrowwidth\":1},\"autotypenumbers\":\"strict\",\"coloraxis\":{\"colorbar\":{\"outlinewidth\":0,\"ticks\":\"\"}},\"colorscale\":{\"diverging\":[[0,\"#8e0152\"],[0.1,\"#c51b7d\"],[0.2,\"#de77ae\"],[0.3,\"#f1b6da\"],[0.4,\"#fde0ef\"],[0.5,\"#f7f7f7\"],[0.6,\"#e6f5d0\"],[0.7,\"#b8e186\"],[0.8,\"#7fbc41\"],[0.9,\"#4d9221\"],[1,\"#276419\"]],\"sequential\":[[0.0,\"#0d0887\"],[0.1111111111111111,\"#46039f\"],[0.2222222222222222,\"#7201a8\"],[0.3333333333333333,\"#9c179e\"],[0.4444444444444444,\"#bd3786\"],[0.5555555555555556,\"#d8576b\"],[0.6666666666666666,\"#ed7953\"],[0.7777777777777778,\"#fb9f3a\"],[0.8888888888888888,\"#fdca26\"],[1.0,\"#f0f921\"]],\"sequentialminus\":[[0.0,\"#0d0887\"],[0.1111111111111111,\"#46039f\"],[0.2222222222222222,\"#7201a8\"],[0.3333333333333333,\"#9c179e\"],[0.4444444444444444,\"#bd3786\"],[0.5555555555555556,\"#d8576b\"],[0.6666666666666666,\"#ed7953\"],[0.7777777777777778,\"#fb9f3a\"],[0.8888888888888888,\"#fdca26\"],[1.0,\"#f0f921\"]]},\"colorway\":[\"#636efa\",\"#EF553B\",\"#00cc96\",\"#ab63fa\",\"#FFA15A\",\"#19d3f3\",\"#FF6692\",\"#B6E880\",\"#FF97FF\",\"#FECB52\"],\"font\":{\"color\":\"#2a3f5f\"},\"geo\":{\"bgcolor\":\"white\",\"lakecolor\":\"white\",\"landcolor\":\"#E5ECF6\",\"showlakes\":true,\"showland\":true,\"subunitcolor\":\"white\"},\"hoverlabel\":{\"align\":\"left\"},\"hovermode\":\"closest\",\"mapbox\":{\"style\":\"light\"},\"paper_bgcolor\":\"white\",\"plot_bgcolor\":\"#E5ECF6\",\"polar\":{\"angularaxis\":{\"gridcolor\":\"white\",\"linecolor\":\"white\",\"ticks\":\"\"},\"bgcolor\":\"#E5ECF6\",\"radialaxis\":{\"gridcolor\":\"white\",\"linecolor\":\"white\",\"ticks\":\"\"}},\"scene\":{\"xaxis\":{\"backgroundcolor\":\"#E5ECF6\",\"gridcolor\":\"white\",\"gridwidth\":2,\"linecolor\":\"white\",\"showbackground\":true,\"ticks\":\"\",\"zerolinecolor\":\"white\"},\"yaxis\":{\"backgroundcolor\":\"#E5ECF6\",\"gridcolor\":\"white\",\"gridwidth\":2,\"linecolor\":\"white\",\"showbackground\":true,\"ticks\":\"\",\"zerolinecolor\":\"white\"},\"zaxis\":{\"backgroundcolor\":\"#E5ECF6\",\"gridcolor\":\"white\",\"gridwidth\":2,\"linecolor\":\"white\",\"showbackground\":true,\"ticks\":\"\",\"zerolinecolor\":\"white\"}},\"shapedefaults\":{\"line\":{\"color\":\"#2a3f5f\"}},\"ternary\":{\"aaxis\":{\"gridcolor\":\"white\",\"linecolor\":\"white\",\"ticks\":\"\"},\"baxis\":{\"gridcolor\":\"white\",\"linecolor\":\"white\",\"ticks\":\"\"},\"bgcolor\":\"#E5ECF6\",\"caxis\":{\"gridcolor\":\"white\",\"linecolor\":\"white\",\"ticks\":\"\"}},\"title\":{\"x\":0.05},\"xaxis\":{\"automargin\":true,\"gridcolor\":\"white\",\"linecolor\":\"white\",\"ticks\":\"\",\"title\":{\"standoff\":15},\"zerolinecolor\":\"white\",\"zerolinewidth\":2},\"yaxis\":{\"automargin\":true,\"gridcolor\":\"white\",\"linecolor\":\"white\",\"ticks\":\"\",\"title\":{\"standoff\":15},\"zerolinecolor\":\"white\",\"zerolinewidth\":2}}},\"xaxis\":{\"anchor\":\"y\",\"domain\":[0.0,1.0],\"title\":{\"text\":\"Actuals\"}},\"yaxis\":{\"anchor\":\"x\",\"domain\":[0.0,1.0],\"title\":{\"text\":\"Predictions\"}},\"legend\":{\"tracegroupgap\":0},\"margin\":{\"t\":60},\"title\":{\"text\":\"Predictions - Actuals Comparison\"},\"autosize\":false,\"width\":800,\"height\":500},                        {\"responsive\": true}                    ).then(function(){\n",
       "                            \n",
       "var gd = document.getElementById('60a0d8c8-2e82-4220-86e2-c653a5e6925a');\n",
       "var x = new MutationObserver(function (mutations, observer) {{\n",
       "        var display = window.getComputedStyle(gd).display;\n",
       "        if (!display || display === 'none') {{\n",
       "            console.log([gd, 'removed!']);\n",
       "            Plotly.purge(gd);\n",
       "            observer.disconnect();\n",
       "        }}\n",
       "}});\n",
       "\n",
       "// Listen for the removal of the full notebook cells\n",
       "var notebookContainer = gd.closest('#notebook-container');\n",
       "if (notebookContainer) {{\n",
       "    x.observe(notebookContainer, {childList: true});\n",
       "}}\n",
       "\n",
       "// Listen for the clearing of the current output cell\n",
       "var outputEl = gd.closest('.output');\n",
       "if (outputEl) {{\n",
       "    x.observe(outputEl, {childList: true});\n",
       "}}\n",
       "\n",
       "                        })                };                });            </script>        </div>"
      ]
     },
     "metadata": {},
     "output_type": "display_data"
    }
   ],
   "source": [
    "fig = px.scatter(res_ann, x=\"Actuals\", y=\"Predictions\")\n",
    "\n",
    "fig.update_layout(\n",
    "    autosize=False,\n",
    "    width=800,\n",
    "    height=500,\n",
    "    title_text=\"Predictions - Actuals Comparison\",\n",
    ")\n",
    "\n",
    "fig.show()"
   ]
  },
  {
   "cell_type": "markdown",
   "id": "6feaf3d7-49cb-4708-af4f-6416e2b53df5",
   "metadata": {
    "tags": []
   },
   "source": [
    "### S55_IO_VRS "
   ]
  },
  {
   "cell_type": "code",
   "execution_count": 267,
   "id": "f29c6360-cc51-474d-9084-236b8e1ff57d",
   "metadata": {},
   "outputs": [
    {
     "data": {
      "text/html": [
       "<div>\n",
       "<style scoped>\n",
       "    .dataframe tbody tr th:only-of-type {\n",
       "        vertical-align: middle;\n",
       "    }\n",
       "\n",
       "    .dataframe tbody tr th {\n",
       "        vertical-align: top;\n",
       "    }\n",
       "\n",
       "    .dataframe thead th {\n",
       "        text-align: right;\n",
       "    }\n",
       "</style>\n",
       "<table border=\"1\" class=\"dataframe\">\n",
       "  <thead>\n",
       "    <tr style=\"text-align: right;\">\n",
       "      <th></th>\n",
       "      <th>Input 1</th>\n",
       "      <th>Input 2</th>\n",
       "      <th>Input 3</th>\n",
       "      <th>Input 4</th>\n",
       "      <th>Input 5</th>\n",
       "      <th>Output 1</th>\n",
       "      <th>Output 2</th>\n",
       "      <th>Output 3</th>\n",
       "      <th>Output 4</th>\n",
       "      <th>Output 5</th>\n",
       "    </tr>\n",
       "  </thead>\n",
       "  <tbody>\n",
       "    <tr>\n",
       "      <th>DMU 1</th>\n",
       "      <td>131.39</td>\n",
       "      <td>286.47</td>\n",
       "      <td>202.38</td>\n",
       "      <td>40.80</td>\n",
       "      <td>111.03</td>\n",
       "      <td>120.31</td>\n",
       "      <td>296.53</td>\n",
       "      <td>79.58</td>\n",
       "      <td>38.23</td>\n",
       "      <td>647.46</td>\n",
       "    </tr>\n",
       "    <tr>\n",
       "      <th>DMU 2</th>\n",
       "      <td>142.72</td>\n",
       "      <td>264.52</td>\n",
       "      <td>279.50</td>\n",
       "      <td>22.60</td>\n",
       "      <td>254.68</td>\n",
       "      <td>118.96</td>\n",
       "      <td>282.88</td>\n",
       "      <td>61.63</td>\n",
       "      <td>24.77</td>\n",
       "      <td>548.66</td>\n",
       "    </tr>\n",
       "    <tr>\n",
       "      <th>DMU 3</th>\n",
       "      <td>97.01</td>\n",
       "      <td>272.04</td>\n",
       "      <td>159.24</td>\n",
       "      <td>13.35</td>\n",
       "      <td>295.80</td>\n",
       "      <td>123.64</td>\n",
       "      <td>386.05</td>\n",
       "      <td>75.11</td>\n",
       "      <td>40.29</td>\n",
       "      <td>638.46</td>\n",
       "    </tr>\n",
       "    <tr>\n",
       "      <th>DMU 4</th>\n",
       "      <td>105.69</td>\n",
       "      <td>305.87</td>\n",
       "      <td>289.20</td>\n",
       "      <td>24.67</td>\n",
       "      <td>251.61</td>\n",
       "      <td>113.56</td>\n",
       "      <td>329.53</td>\n",
       "      <td>76.88</td>\n",
       "      <td>29.79</td>\n",
       "      <td>393.48</td>\n",
       "    </tr>\n",
       "    <tr>\n",
       "      <th>DMU 5</th>\n",
       "      <td>103.88</td>\n",
       "      <td>295.52</td>\n",
       "      <td>335.36</td>\n",
       "      <td>28.92</td>\n",
       "      <td>165.44</td>\n",
       "      <td>149.03</td>\n",
       "      <td>383.41</td>\n",
       "      <td>73.48</td>\n",
       "      <td>36.82</td>\n",
       "      <td>453.68</td>\n",
       "    </tr>\n",
       "  </tbody>\n",
       "</table>\n",
       "</div>"
      ],
      "text/plain": [
       "       Input 1  Input 2  Input 3  Input 4  Input 5  Output 1  Output 2  \\\n",
       "DMU 1   131.39   286.47   202.38    40.80   111.03    120.31    296.53   \n",
       "DMU 2   142.72   264.52   279.50    22.60   254.68    118.96    282.88   \n",
       "DMU 3    97.01   272.04   159.24    13.35   295.80    123.64    386.05   \n",
       "DMU 4   105.69   305.87   289.20    24.67   251.61    113.56    329.53   \n",
       "DMU 5   103.88   295.52   335.36    28.92   165.44    149.03    383.41   \n",
       "\n",
       "       Output 3  Output 4  Output 5  \n",
       "DMU 1     79.58     38.23    647.46  \n",
       "DMU 2     61.63     24.77    548.66  \n",
       "DMU 3     75.11     40.29    638.46  \n",
       "DMU 4     76.88     29.79    393.48  \n",
       "DMU 5     73.48     36.82    453.68  "
      ]
     },
     "execution_count": 267,
     "metadata": {},
     "output_type": "execute_result"
    }
   ],
   "source": [
    "X = dfs_data[3]\n",
    "X.head()"
   ]
  },
  {
   "cell_type": "code",
   "execution_count": 268,
   "id": "33d9733f-7486-4068-82c4-bfc79ac82635",
   "metadata": {},
   "outputs": [
    {
     "data": {
      "text/html": [
       "<div>\n",
       "<style scoped>\n",
       "    .dataframe tbody tr th:only-of-type {\n",
       "        vertical-align: middle;\n",
       "    }\n",
       "\n",
       "    .dataframe tbody tr th {\n",
       "        vertical-align: top;\n",
       "    }\n",
       "\n",
       "    .dataframe thead th {\n",
       "        text-align: right;\n",
       "    }\n",
       "</style>\n",
       "<table border=\"1\" class=\"dataframe\">\n",
       "  <thead>\n",
       "    <tr style=\"text-align: right;\">\n",
       "      <th></th>\n",
       "      <th>Efficiency</th>\n",
       "    </tr>\n",
       "    <tr>\n",
       "      <th>DMU</th>\n",
       "      <th></th>\n",
       "    </tr>\n",
       "  </thead>\n",
       "  <tbody>\n",
       "    <tr>\n",
       "      <th>DMU 1</th>\n",
       "      <td>0.923897</td>\n",
       "    </tr>\n",
       "    <tr>\n",
       "      <th>DMU 2</th>\n",
       "      <td>0.841657</td>\n",
       "    </tr>\n",
       "    <tr>\n",
       "      <th>DMU 3</th>\n",
       "      <td>1.000000</td>\n",
       "    </tr>\n",
       "    <tr>\n",
       "      <th>DMU 4</th>\n",
       "      <td>0.737903</td>\n",
       "    </tr>\n",
       "    <tr>\n",
       "      <th>DMU 5</th>\n",
       "      <td>0.827554</td>\n",
       "    </tr>\n",
       "  </tbody>\n",
       "</table>\n",
       "</div>"
      ],
      "text/plain": [
       "       Efficiency\n",
       "DMU              \n",
       "DMU 1    0.923897\n",
       "DMU 2    0.841657\n",
       "DMU 3    1.000000\n",
       "DMU 4    0.737903\n",
       "DMU 5    0.827554"
      ]
     },
     "execution_count": 268,
     "metadata": {},
     "output_type": "execute_result"
    }
   ],
   "source": [
    "y = dfs_es[12]\n",
    "y.head()"
   ]
  },
  {
   "cell_type": "code",
   "execution_count": 269,
   "id": "a9e57aef-ee64-410d-b8fb-46dbff20ec33",
   "metadata": {},
   "outputs": [
    {
     "name": "stdout",
     "output_type": "stream",
     "text": [
      "neg_mean_squared_error: -0.001821633578637572\n",
      "neg_root_mean_squared_error: -0.04256147605530848\n",
      "r2: 0.6763417523205554\n"
     ]
    }
   ],
   "source": [
    "scaler = StandardScaler()\n",
    "reg_model = LinearRegression()\n",
    "\n",
    "pipe = make_pipeline(scaler, reg_model)\n",
    "\n",
    "# cross-validate the pipeline\n",
    "print(\"neg_mean_squared_error:\", cross_val_score(pipe, X, y, scoring=\"neg_mean_squared_error\").mean())\n",
    "print(\"neg_root_mean_squared_error:\", cross_val_score(pipe, X, y, scoring=\"neg_root_mean_squared_error\").mean())\n",
    "print(\"r2:\", cross_val_score(pipe, X, y, scoring=\"r2\").mean())"
   ]
  },
  {
   "cell_type": "code",
   "execution_count": 270,
   "id": "36e3a96f-1721-49c1-9606-4f17a07ebd2b",
   "metadata": {},
   "outputs": [
    {
     "name": "stdout",
     "output_type": "stream",
     "text": [
      "neg_mean_squared_error: -0.0032599050528082443\n",
      "neg_root_mean_squared_error: -0.05732502552566467\n",
      "r2: 0.42328788924999056\n"
     ]
    }
   ],
   "source": [
    "reg_model = DecisionTreeRegressor()\n",
    "\n",
    "pipe = make_pipeline(scaler, reg_model)\n",
    "\n",
    "# cross-validate the pipeline\n",
    "print(\"neg_mean_squared_error:\", cross_val_score(pipe, X, y, scoring=\"neg_mean_squared_error\").mean())\n",
    "print(\"neg_root_mean_squared_error:\", cross_val_score(pipe, X, y, scoring=\"neg_root_mean_squared_error\").mean())\n",
    "print(\"r2:\", cross_val_score(pipe, X, y, scoring=\"r2\").mean())"
   ]
  },
  {
   "cell_type": "code",
   "execution_count": 271,
   "id": "5ebb2961-430f-4594-97a0-c3e4d1a1c87f",
   "metadata": {},
   "outputs": [
    {
     "name": "stdout",
     "output_type": "stream",
     "text": [
      "neg_mean_squared_error: -0.0021544661149984997\n",
      "neg_root_mean_squared_error: -0.04634122244318924\n",
      "r2: 0.616178279499972\n"
     ]
    }
   ],
   "source": [
    "reg_model = KNeighborsRegressor()\n",
    "\n",
    "pipe = make_pipeline(scaler, reg_model)\n",
    "\n",
    "# cross-validate the pipeline\n",
    "print(\"neg_mean_squared_error:\", cross_val_score(pipe, X, y, scoring=\"neg_mean_squared_error\").mean())\n",
    "print(\"neg_root_mean_squared_error:\", cross_val_score(pipe, X, y, scoring=\"neg_root_mean_squared_error\").mean())\n",
    "print(\"r2:\", cross_val_score(pipe, X, y, scoring=\"r2\").mean())"
   ]
  },
  {
   "cell_type": "code",
   "execution_count": 272,
   "id": "839c0845-50a5-4791-b015-eb4addfb4f16",
   "metadata": {},
   "outputs": [
    {
     "name": "stdout",
     "output_type": "stream",
     "text": [
      "neg_mean_squared_error: -0.001460311354144029\n",
      "neg_root_mean_squared_error: -0.03770191544681693\n",
      "r2: 0.7426514841192604\n"
     ]
    }
   ],
   "source": [
    "reg_model = RandomForestRegressor()\n",
    "\n",
    "pipe = make_pipeline(scaler, reg_model)\n",
    "\n",
    "\n",
    "# cross-validate the pipeline\n",
    "print(\"neg_mean_squared_error:\", cross_val_score(pipe, X, y.values.ravel(), scoring=\"neg_mean_squared_error\").mean())\n",
    "print(\"neg_root_mean_squared_error:\", cross_val_score(pipe, X, y.values.ravel(), scoring=\"neg_root_mean_squared_error\").mean())\n",
    "print(\"r2:\", cross_val_score(pipe, X, y.values.ravel(), scoring=\"r2\").mean())"
   ]
  },
  {
   "cell_type": "code",
   "execution_count": 273,
   "id": "1fa510cd-4d0b-408b-bf51-9492f4e7691d",
   "metadata": {},
   "outputs": [
    {
     "name": "stdout",
     "output_type": "stream",
     "text": [
      "neg_mean_squared_error: -0.0008932617283478406\n",
      "neg_root_mean_squared_error: -0.02983047097476642\n",
      "r2: 0.8414789552972254\n"
     ]
    }
   ],
   "source": [
    "reg_model = GradientBoostingRegressor()\n",
    "\n",
    "pipe = make_pipeline(scaler, reg_model)\n",
    "\n",
    "# cross-validate the pipeline\n",
    "print(\"neg_mean_squared_error:\", cross_val_score(pipe, X, y.values.ravel(), scoring=\"neg_mean_squared_error\").mean())\n",
    "print(\"neg_root_mean_squared_error:\", cross_val_score(pipe, X, y.values.ravel(), scoring=\"neg_root_mean_squared_error\").mean())\n",
    "print(\"r2:\", cross_val_score(pipe, X, y.values.ravel(), scoring=\"r2\").mean())"
   ]
  },
  {
   "cell_type": "code",
   "execution_count": 274,
   "id": "f045edd9-ea34-493b-af88-c3d36ce9ba69",
   "metadata": {},
   "outputs": [
    {
     "name": "stdout",
     "output_type": "stream",
     "text": [
      "neg_mean_squared_error: -0.002263283175834343\n",
      "neg_root_mean_squared_error: -0.04749395737674551\n",
      "r2: 0.5983451380949482\n"
     ]
    }
   ],
   "source": [
    "# Determination of the kernel used and the value lenght_scale at which the optimization process starts\n",
    "kernel = 1.0 * RBF(length_scale=1.0, length_scale_bounds=(1e-2, 1e3))\n",
    "\n",
    "# Application of the regressor (alpha makes a statement about a possible noise of the training data)\n",
    "reg_model = GaussianProcessRegressor(kernel=kernel, alpha=0.1)\n",
    "\n",
    "pipe = make_pipeline(scaler, reg_model)\n",
    "\n",
    "# cross-validate the pipeline\n",
    "print(\"neg_mean_squared_error:\", cross_val_score(pipe, X, y.values.ravel(), scoring=\"neg_mean_squared_error\").mean())\n",
    "print(\"neg_root_mean_squared_error:\", cross_val_score(pipe, X, y.values.ravel(), scoring=\"neg_root_mean_squared_error\").mean())\n",
    "print(\"r2:\", cross_val_score(pipe, X, y.values.ravel(), scoring=\"r2\").mean())"
   ]
  },
  {
   "cell_type": "code",
   "execution_count": 275,
   "id": "3a1be2d7-ab0b-421c-8e17-5010286925af",
   "metadata": {},
   "outputs": [
    {
     "name": "stdout",
     "output_type": "stream",
     "text": [
      "neg_mean_squared_error: -0.004006311200542106\n",
      "neg_root_mean_squared_error: -0.06328148982016958\n",
      "r2: 0.28833874130678516\n"
     ]
    }
   ],
   "source": [
    "# Choose regression method and set hyperparameter\n",
    "reg_model=SVR()\n",
    "\n",
    "pipe = make_pipeline(scaler, reg_model)\n",
    "\n",
    "# cross-validate the pipeline\n",
    "print(\"neg_mean_squared_error:\", cross_val_score(pipe, X, y.values.ravel(), scoring=\"neg_mean_squared_error\").mean())\n",
    "print(\"neg_root_mean_squared_error:\", cross_val_score(pipe, X, y.values.ravel(), scoring=\"neg_root_mean_squared_error\").mean())\n",
    "print(\"r2:\", cross_val_score(pipe, X, y.values.ravel(), scoring=\"r2\").mean())"
   ]
  },
  {
   "cell_type": "code",
   "execution_count": null,
   "id": "e04da568-c6f1-42dd-95bf-c26508e879d3",
   "metadata": {},
   "outputs": [],
   "source": [
    "poly = PolynomialFeatures(degree=2)\n",
    "\n",
    "# Choose regression method and set hyperparameter\n",
    "reg_model=GradientBoostingRegressor()\n",
    "\n",
    "pipe = make_pipeline(scaler, poly, reg_model)\n",
    "\n",
    "# cross-validate the pipeline\n",
    "print(\"neg_mean_squared_error:\", cross_val_score(pipe, X, y.values.ravel(), scoring=\"neg_mean_squared_error\").mean())\n",
    "print(\"neg_root_mean_squared_error:\", cross_val_score(pipe, X, y.values.ravel(), scoring=\"neg_root_mean_squared_error\").mean())\n",
    "print(\"r2:\", cross_val_score(pipe, X, y.values.ravel(), scoring=\"r2\").mean())"
   ]
  },
  {
   "cell_type": "code",
   "execution_count": null,
   "id": "e797077e-2855-4fd0-b58a-b1cae8d9c206",
   "metadata": {},
   "outputs": [],
   "source": [
    "poly = PolynomialFeatures(degree=3)\n",
    "\n",
    "# Choose regression method and set hyperparameter\n",
    "reg_model=LinearRegression()\n",
    "\n",
    "pipe = make_pipeline(scaler, poly, reg_model)\n",
    "\n",
    "# cross-validate the pipeline\n",
    "print(\"neg_mean_squared_error:\", cross_val_score(pipe, X, y, scoring=\"neg_mean_squared_error\").mean())\n",
    "print(\"neg_root_mean_squared_error:\", cross_val_score(pipe, X, y, scoring=\"neg_root_mean_squared_error\").mean())\n",
    "print(\"r2:\", cross_val_score(pipe, X, y, scoring=\"r2\").mean())"
   ]
  },
  {
   "cell_type": "code",
   "execution_count": null,
   "id": "38debf63-6923-4e56-b548-3b7fbf1697a5",
   "metadata": {},
   "outputs": [],
   "source": [
    "X_train, X_test, y_train, y_test = train_test_split(X, y, test_size=0.2, random_state=42)\n",
    "\n",
    "model = pipe.fit(X_train, y_train)\n",
    "prediction = model.predict(X_test)\n",
    "\n",
    "res = pd.DataFrame()\n",
    "res[\"Predictions\"] = pd.Series(prediction.ravel())\n",
    "res[\"Actuals\"] = y_test.values\n",
    "res[\"Diff\"] = res.Predictions - res.Actuals\n",
    "res"
   ]
  },
  {
   "cell_type": "code",
   "execution_count": null,
   "id": "98aa2035-0659-486c-992a-dd484e4c0d5c",
   "metadata": {},
   "outputs": [],
   "source": [
    "print(res.describe())"
   ]
  },
  {
   "cell_type": "code",
   "execution_count": null,
   "id": "1b64d4b5-ad19-4ec1-a816-cf433df36612",
   "metadata": {},
   "outputs": [],
   "source": [
    "fig = px.scatter(res, x=\"Actuals\", y=\"Predictions\")\n",
    "\n",
    "fig.update_layout(\n",
    "    autosize=False,\n",
    "    width=800,\n",
    "    height=500,\n",
    "    title_text=\"Predictions - Actuals Comparison\",\n",
    ")\n",
    "\n",
    "fig.show()"
   ]
  },
  {
   "cell_type": "code",
   "execution_count": null,
   "id": "073e1f7e-9d88-40e8-8f0f-338db40d5571",
   "metadata": {},
   "outputs": [],
   "source": [
    "ann = tf.keras.models.Sequential()\n",
    "ann.add(tf.keras.layers.Dense(units=64, activation='relu'))\n",
    "ann.add(tf.keras.layers.Dense(units=64, activation='relu'))\n",
    "ann.add(tf.keras.layers.Dense(units=64, activation='relu'))\n",
    "ann.add(tf.keras.layers.Dense(units=64, activation='relu'))\n",
    "ann.add(tf.keras.layers.Dense(units=64, activation='relu'))\n",
    "ann.add(tf.keras.layers.Dense(units=64, activation='relu'))\n",
    "ann.add(tf.keras.layers.Dense(units=64, activation='relu'))\n",
    "ann.add(tf.keras.layers.Dense(units=64, activation='relu'))\n",
    "ann.add(tf.keras.layers.Dense(units=64, activation='relu'))\n",
    "ann.add(tf.keras.layers.Dense(units=64, activation='relu'))\n",
    "ann.add(tf.keras.layers.Dense(units=64, activation='relu'))\n",
    "ann.add(tf.keras.layers.Dense(units=64, activation='relu'))\n",
    "\n",
    "ann.add(tf.keras.layers.Dense(units=1))\n",
    "ann.compile(optimizer = 'adam', loss = 'mean_squared_error')\n",
    "ann.fit(X_train, y_train, batch_size = 32, epochs = 1000, verbose=1)"
   ]
  },
  {
   "cell_type": "code",
   "execution_count": null,
   "id": "fb47165e-7f1c-4e0e-8ad8-1ffc6567c9a8",
   "metadata": {},
   "outputs": [],
   "source": [
    "print(\"mean_squared_error:\", mean_squared_error(y_test, ann.predict(X_test)))\n",
    "print(\"neg_mean_squared_error:\", mean_squared_error(y_test, ann.predict(X_test), squared=False))\n",
    "print(\"r2:\", r2_score(y_test, ann.predict(X_test)))"
   ]
  },
  {
   "cell_type": "code",
   "execution_count": null,
   "id": "65e0dee9-c099-45ef-aab0-c90ad53eebd4",
   "metadata": {},
   "outputs": [],
   "source": [
    "prediction = ann.predict(X_test)\n",
    "\n",
    "res_ann = pd.DataFrame()\n",
    "res_ann[\"Predictions\"] = pd.Series(prediction.ravel())\n",
    "res_ann[\"Actuals\"] = y_test.values\n",
    "res_ann[\"Diff\"] = res_ann.Predictions - res_ann.Actuals\n",
    "res_ann"
   ]
  },
  {
   "cell_type": "code",
   "execution_count": null,
   "id": "7cf4ca49-9e90-4662-a9ca-06e137fa0d6b",
   "metadata": {},
   "outputs": [],
   "source": [
    "res_ann.describe()"
   ]
  },
  {
   "cell_type": "code",
   "execution_count": null,
   "id": "11c01ca0-2970-4551-a310-93482a860d7b",
   "metadata": {},
   "outputs": [],
   "source": [
    "fig = px.scatter(res_ann, x=\"Actuals\", y=\"Predictions\")\n",
    "\n",
    "fig.update_layout(\n",
    "    autosize=False,\n",
    "    width=800,\n",
    "    height=500,\n",
    "    title_text=\"Predictions - Actuals Comparison\",\n",
    ")\n",
    "\n",
    "fig.show()"
   ]
  }
 ],
 "metadata": {
  "kernelspec": {
   "display_name": "Python 3 (ipykernel)",
   "language": "python",
   "name": "python3"
  },
  "language_info": {
   "codemirror_mode": {
    "name": "ipython",
    "version": 3
   },
   "file_extension": ".py",
   "mimetype": "text/x-python",
   "name": "python",
   "nbconvert_exporter": "python",
   "pygments_lexer": "ipython3",
   "version": "3.8.11"
  }
 },
 "nbformat": 4,
 "nbformat_minor": 5
}

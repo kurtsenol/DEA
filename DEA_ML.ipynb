{
 "cells": [
  {
   "cell_type": "code",
   "execution_count": 37,
   "id": "617ae255-43c8-4579-8c38-0ce66a36b9c3",
   "metadata": {},
   "outputs": [],
   "source": [
    "import pandas as pd\n",
    "import numpy as np\n",
    "\n",
    "import matplotlib.pyplot as plt\n",
    "import seaborn as sns\n",
    "\n",
    "from sklearn.pipeline import make_pipeline\n",
    "from sklearn.compose import make_column_transformer\n",
    "from sklearn.model_selection import train_test_split, cross_val_score\n",
    "from sklearn.preprocessing import MinMaxScaler, StandardScaler, PolynomialFeatures\n",
    "from sklearn.metrics import mean_squared_error \n",
    "\n",
    "\n",
    "from sklearn.linear_model import LinearRegression, Lasso, Ridge, ElasticNet\n",
    "from sklearn.tree import DecisionTreeRegressor\n",
    "from sklearn.ensemble import GradientBoostingRegressor\n",
    "from sklearn.neighbors import KNeighborsRegressor\n",
    "from sklearn.ensemble import RandomForestRegressor\n",
    "\n",
    "import tensorflow as tf\n",
    "\n",
    "from sklearn.gaussian_process.kernels import (RBF, Matern, RationalQuadratic,ExpSineSquared, DotProduct,ConstantKernel)\n",
    "from sklearn.gaussian_process import GaussianProcessRegressor  \n",
    "from sklearn.svm import SVR"
   ]
  },
  {
   "cell_type": "code",
   "execution_count": 2,
   "id": "a2c11c3c-1292-4538-975e-b88f1ef86854",
   "metadata": {},
   "outputs": [],
   "source": [
    "def configure_plotly_browser_state():\n",
    "    import IPython\n",
    "    display(IPython.core.display.HTML('''\n",
    "    <script src=\"/static/components/requirejs/require.js\"></script>\n",
    "      requirejs.config({\n",
    "        paths: {\n",
    "          base: '/static/base',\n",
    "          plotly: '/https://cdn.plot.ly/plotly-1.5.1.min.js?noext',\n",
    "        },\n",
    "      });\n",
    "    </script>\n",
    "    '''))"
   ]
  },
  {
   "cell_type": "code",
   "execution_count": 3,
   "id": "18110d3d-cf50-447e-b6d8-5ddee717fb7c",
   "metadata": {},
   "outputs": [
    {
     "data": {
      "text/html": [
       "        <script type=\"text/javascript\">\n",
       "        window.PlotlyConfig = {MathJaxConfig: 'local'};\n",
       "        if (window.MathJax) {MathJax.Hub.Config({SVG: {font: \"STIX-Web\"}});}\n",
       "        if (typeof require !== 'undefined') {\n",
       "        require.undef(\"plotly\");\n",
       "        requirejs.config({\n",
       "            paths: {\n",
       "                'plotly': ['https://cdn.plot.ly/plotly-2.6.3.min']\n",
       "            }\n",
       "        });\n",
       "        require(['plotly'], function(Plotly) {\n",
       "            window._Plotly = Plotly;\n",
       "        });\n",
       "        }\n",
       "        </script>\n",
       "        "
      ]
     },
     "metadata": {},
     "output_type": "display_data"
    }
   ],
   "source": [
    "import plotly.express as px\n",
    "import plotly.offline as pyo\n",
    "import plotly.graph_objs as go\n",
    "from plotly.subplots import make_subplots\n",
    "\n",
    "# Set notebook mode to work in offline\n",
    "#pyo.init_notebook_mode()\n",
    "\n",
    "\n",
    "#configure_plotly_browser_state()\n",
    "\n",
    "pyo.init_notebook_mode(connected=True)"
   ]
  },
  {
   "cell_type": "code",
   "execution_count": 4,
   "id": "ba0cc7a8-a9be-4698-a055-c7b01cf7cb22",
   "metadata": {},
   "outputs": [],
   "source": [
    "dea_types = [\"IO_VRS\", \"OO_CRS\", \"OO_VRS\", \"IO_CRS\"]\n",
    "dea_list = [\"US22\", \"S22\",\"US55\",\"S55\"]\n",
    "\n",
    "for t in dea_list:\n",
    "    \n",
    "    exec(f\"{t} = pd.read_excel('Data/{t}.xlsx', index_col=0)\")\n",
    "    \n",
    "    for i, d in enumerate(dea_types):\n",
    "        \n",
    "        exec(f\"{t}_{d} = pd.read_excel('Data/{t}_Solution.xlsx', index_col=0, header=[1], nrows=1000, skiprows = i * 1000 + i * 2)\")\n",
    "        "
   ]
  },
  {
   "cell_type": "code",
   "execution_count": 5,
   "id": "7d0dab47-b883-4b19-a860-97c29474e2c2",
   "metadata": {},
   "outputs": [],
   "source": [
    "dfs_data = [US22, S22, US55, S55]\n",
    "\n",
    "dfs_es = [US22_IO_VRS, US22_OO_CRS, US22_OO_VRS, US22_IO_CRS,\n",
    "      S22_IO_VRS, S22_OO_CRS, S22_OO_VRS, S22_IO_CRS,\n",
    "      US55_IO_VRS, US55_OO_CRS, US55_OO_VRS, US55_IO_CRS,\n",
    "      S55_IO_VRS, S55_OO_CRS, S55_OO_VRS, S55_IO_CRS]"
   ]
  },
  {
   "cell_type": "code",
   "execution_count": 6,
   "id": "ca4d138a-4aaa-440e-94ce-661dce334187",
   "metadata": {},
   "outputs": [
    {
     "data": {
      "text/html": [
       "<div>\n",
       "<style scoped>\n",
       "    .dataframe tbody tr th:only-of-type {\n",
       "        vertical-align: middle;\n",
       "    }\n",
       "\n",
       "    .dataframe tbody tr th {\n",
       "        vertical-align: top;\n",
       "    }\n",
       "\n",
       "    .dataframe thead th {\n",
       "        text-align: right;\n",
       "    }\n",
       "</style>\n",
       "<table border=\"1\" class=\"dataframe\">\n",
       "  <thead>\n",
       "    <tr style=\"text-align: right;\">\n",
       "      <th></th>\n",
       "      <th>Input 1</th>\n",
       "      <th>Input 2</th>\n",
       "      <th>Output 1</th>\n",
       "      <th>Output 2</th>\n",
       "    </tr>\n",
       "  </thead>\n",
       "  <tbody>\n",
       "    <tr>\n",
       "      <th>DMU 1</th>\n",
       "      <td>151.42</td>\n",
       "      <td>324.96</td>\n",
       "      <td>303.04</td>\n",
       "      <td>321.64</td>\n",
       "    </tr>\n",
       "    <tr>\n",
       "      <th>DMU 2</th>\n",
       "      <td>234.02</td>\n",
       "      <td>516.63</td>\n",
       "      <td>235.08</td>\n",
       "      <td>248.36</td>\n",
       "    </tr>\n",
       "    <tr>\n",
       "      <th>DMU 3</th>\n",
       "      <td>184.48</td>\n",
       "      <td>510.16</td>\n",
       "      <td>183.22</td>\n",
       "      <td>338.86</td>\n",
       "    </tr>\n",
       "    <tr>\n",
       "      <th>DMU 4</th>\n",
       "      <td>208.45</td>\n",
       "      <td>476.52</td>\n",
       "      <td>251.44</td>\n",
       "      <td>299.36</td>\n",
       "    </tr>\n",
       "    <tr>\n",
       "      <th>DMU 5</th>\n",
       "      <td>357.47</td>\n",
       "      <td>375.87</td>\n",
       "      <td>327.81</td>\n",
       "      <td>282.08</td>\n",
       "    </tr>\n",
       "  </tbody>\n",
       "</table>\n",
       "</div>"
      ],
      "text/plain": [
       "       Input 1  Input 2  Output 1  Output 2\n",
       "DMU 1   151.42   324.96    303.04    321.64\n",
       "DMU 2   234.02   516.63    235.08    248.36\n",
       "DMU 3   184.48   510.16    183.22    338.86\n",
       "DMU 4   208.45   476.52    251.44    299.36\n",
       "DMU 5   357.47   375.87    327.81    282.08"
      ]
     },
     "execution_count": 6,
     "metadata": {},
     "output_type": "execute_result"
    }
   ],
   "source": [
    "X = dfs_data[0]\n",
    "X.head()"
   ]
  },
  {
   "cell_type": "code",
   "execution_count": 7,
   "id": "82cb75d2-e174-4fcd-99b1-d9434f934381",
   "metadata": {},
   "outputs": [
    {
     "data": {
      "text/html": [
       "<div>\n",
       "<style scoped>\n",
       "    .dataframe tbody tr th:only-of-type {\n",
       "        vertical-align: middle;\n",
       "    }\n",
       "\n",
       "    .dataframe tbody tr th {\n",
       "        vertical-align: top;\n",
       "    }\n",
       "\n",
       "    .dataframe thead th {\n",
       "        text-align: right;\n",
       "    }\n",
       "</style>\n",
       "<table border=\"1\" class=\"dataframe\">\n",
       "  <thead>\n",
       "    <tr style=\"text-align: right;\">\n",
       "      <th></th>\n",
       "      <th>Efficiency</th>\n",
       "    </tr>\n",
       "    <tr>\n",
       "      <th>DMU</th>\n",
       "      <th></th>\n",
       "    </tr>\n",
       "  </thead>\n",
       "  <tbody>\n",
       "    <tr>\n",
       "      <th>DMU 1</th>\n",
       "      <td>0.970309</td>\n",
       "    </tr>\n",
       "    <tr>\n",
       "      <th>DMU 2</th>\n",
       "      <td>0.594647</td>\n",
       "    </tr>\n",
       "    <tr>\n",
       "      <th>DMU 3</th>\n",
       "      <td>0.680770</td>\n",
       "    </tr>\n",
       "    <tr>\n",
       "      <th>DMU 4</th>\n",
       "      <td>0.657605</td>\n",
       "    </tr>\n",
       "    <tr>\n",
       "      <th>DMU 5</th>\n",
       "      <td>0.533526</td>\n",
       "    </tr>\n",
       "  </tbody>\n",
       "</table>\n",
       "</div>"
      ],
      "text/plain": [
       "       Efficiency\n",
       "DMU              \n",
       "DMU 1    0.970309\n",
       "DMU 2    0.594647\n",
       "DMU 3    0.680770\n",
       "DMU 4    0.657605\n",
       "DMU 5    0.533526"
      ]
     },
     "execution_count": 7,
     "metadata": {},
     "output_type": "execute_result"
    }
   ],
   "source": [
    "y = dfs_es[0]\n",
    "y.head()"
   ]
  },
  {
   "cell_type": "code",
   "execution_count": 8,
   "id": "262bf01b-ff47-4717-a9a6-f76ade5a1fd1",
   "metadata": {},
   "outputs": [
    {
     "name": "stdout",
     "output_type": "stream",
     "text": [
      "-0.002184376088244929\n",
      "-0.04655673241541188\n",
      "0.8239035428870964\n"
     ]
    }
   ],
   "source": [
    "scaler = StandardScaler()\n",
    "reg_model = LinearRegression()\n",
    "\n",
    "pipe = make_pipeline(scaler, reg_model)\n",
    "\n",
    "# cross-validate the pipeline\n",
    "print(cross_val_score(pipe, X, y, scoring=\"neg_mean_squared_error\").mean())\n",
    "print(cross_val_score(pipe, X, y, scoring=\"neg_root_mean_squared_error\").mean())\n",
    "print(cross_val_score(pipe, X, y, scoring=\"r2\").mean())"
   ]
  },
  {
   "cell_type": "code",
   "execution_count": 9,
   "id": "da6c2c43-012f-4fee-84d7-eef4a4d1b54f",
   "metadata": {},
   "outputs": [
    {
     "name": "stdout",
     "output_type": "stream",
     "text": [
      "-0.0015024433327722384\n",
      "-0.0386263089338145\n",
      "0.8837835732833106\n"
     ]
    }
   ],
   "source": [
    "reg_model = DecisionTreeRegressor()\n",
    "\n",
    "pipe = make_pipeline(scaler, reg_model)\n",
    "\n",
    "# cross-validate the pipeline\n",
    "print(cross_val_score(pipe, X, y, scoring=\"neg_mean_squared_error\").mean())\n",
    "print(cross_val_score(pipe, X, y, scoring=\"neg_root_mean_squared_error\").mean())\n",
    "print(cross_val_score(pipe, X, y, scoring=\"r2\").mean())"
   ]
  },
  {
   "cell_type": "code",
   "execution_count": 10,
   "id": "195c3152-28d2-4908-8c40-2a4710ddf7de",
   "metadata": {},
   "outputs": [
    {
     "name": "stdout",
     "output_type": "stream",
     "text": [
      "-0.001227791754644722\n",
      "-0.03474405006082483\n",
      "0.9009677565586367\n"
     ]
    }
   ],
   "source": [
    "reg_model = KNeighborsRegressor()\n",
    "\n",
    "pipe = make_pipeline(scaler, reg_model)\n",
    "\n",
    "# cross-validate the pipeline\n",
    "print(cross_val_score(pipe, X, y, scoring=\"neg_mean_squared_error\").mean())\n",
    "print(cross_val_score(pipe, X, y, scoring=\"neg_root_mean_squared_error\").mean())\n",
    "print(cross_val_score(pipe, X, y, scoring=\"r2\").mean())"
   ]
  },
  {
   "cell_type": "code",
   "execution_count": 11,
   "id": "8dfb468d-2313-425f-a287-991f5b8f3963",
   "metadata": {},
   "outputs": [
    {
     "name": "stdout",
     "output_type": "stream",
     "text": [
      "-0.0007667693278378695\n",
      "-0.027325143705441462\n",
      "0.936769588615434\n"
     ]
    }
   ],
   "source": [
    "reg_model = RandomForestRegressor()\n",
    "\n",
    "pipe = make_pipeline(scaler, reg_model)\n",
    "\n",
    "# cross-validate the pipeline\n",
    "print(cross_val_score(pipe, X, y.values.ravel(), scoring=\"neg_mean_squared_error\").mean())\n",
    "print(cross_val_score(pipe, X, y.values.ravel(), scoring=\"neg_root_mean_squared_error\").mean())\n",
    "print(cross_val_score(pipe, X, y.values.ravel(), scoring=\"r2\").mean())"
   ]
  },
  {
   "cell_type": "code",
   "execution_count": 12,
   "id": "4c42955b-0385-4425-adc0-5cc18ea10433",
   "metadata": {},
   "outputs": [
    {
     "name": "stdout",
     "output_type": "stream",
     "text": [
      "-0.0004392444301867522\n",
      "-0.020894032702550847\n",
      "0.9643600311019516\n"
     ]
    }
   ],
   "source": [
    "reg_model = GradientBoostingRegressor()\n",
    "\n",
    "pipe = make_pipeline(scaler, reg_model)\n",
    "\n",
    "# cross-validate the pipeline\n",
    "print(cross_val_score(pipe, X, y.values.ravel(), scoring=\"neg_mean_squared_error\").mean())\n",
    "print(cross_val_score(pipe, X, y.values.ravel(), scoring=\"neg_root_mean_squared_error\").mean())\n",
    "print(cross_val_score(pipe, X, y.values.ravel(), scoring=\"r2\").mean())"
   ]
  },
  {
   "cell_type": "code",
   "execution_count": 13,
   "id": "0c1af85a-5664-49ad-a59a-f13f55e09bb0",
   "metadata": {},
   "outputs": [
    {
     "name": "stdout",
     "output_type": "stream",
     "text": [
      "-0.0020419088053296114\n",
      "-0.04494517338937362\n",
      "0.8356445647785469\n"
     ]
    }
   ],
   "source": [
    "# Determination of the kernel used and the value lenght_scale at which the optimization process starts\n",
    "kernel = 1.0 * RBF(length_scale=1.0, length_scale_bounds=(1e-2, 1e3))\n",
    "\n",
    "# Application of the regressor (alpha makes a statement about a possible noise of the training data)\n",
    "reg_model = GaussianProcessRegressor(kernel=kernel, alpha=0.1)\n",
    "\n",
    "pipe = make_pipeline(scaler, reg_model)\n",
    "\n",
    "# cross-validate the pipeline\n",
    "print(cross_val_score(pipe, X, y.values.ravel(), scoring=\"neg_mean_squared_error\").mean())\n",
    "print(cross_val_score(pipe, X, y.values.ravel(), scoring=\"neg_root_mean_squared_error\").mean())\n",
    "print(cross_val_score(pipe, X, y.values.ravel(), scoring=\"r2\").mean())"
   ]
  },
  {
   "cell_type": "code",
   "execution_count": 14,
   "id": "5d60350e-9d52-4a56-af3f-d03a2f8f475f",
   "metadata": {},
   "outputs": [
    {
     "name": "stdout",
     "output_type": "stream",
     "text": [
      "-0.005015068218399024\n",
      "-0.07075858991254506\n",
      "0.5935202489578921\n"
     ]
    }
   ],
   "source": [
    "# Choose regression method and set hyperparameter\n",
    "reg_model=SVR()\n",
    "\n",
    "pipe = make_pipeline(scaler, reg_model)\n",
    "\n",
    "# cross-validate the pipeline\n",
    "print(cross_val_score(pipe, X, y.values.ravel(), scoring=\"neg_mean_squared_error\").mean())\n",
    "print(cross_val_score(pipe, X, y.values.ravel(), scoring=\"neg_root_mean_squared_error\").mean())\n",
    "print(cross_val_score(pipe, X, y.values.ravel(), scoring=\"r2\").mean())"
   ]
  },
  {
   "cell_type": "code",
   "execution_count": 15,
   "id": "b659059d-21d1-47ad-9780-7fd4393bcf3a",
   "metadata": {},
   "outputs": [
    {
     "name": "stdout",
     "output_type": "stream",
     "text": [
      "-0.0004954141278803026\n",
      "-0.022087652093699037\n",
      "0.9606468555244991\n"
     ]
    }
   ],
   "source": [
    "poly = PolynomialFeatures(degree=2)\n",
    "\n",
    "# Choose regression method and set hyperparameter\n",
    "reg_model=GradientBoostingRegressor()\n",
    "\n",
    "pipe = make_pipeline(scaler, poly, reg_model)\n",
    "\n",
    "# cross-validate the pipeline\n",
    "print(cross_val_score(pipe, X, y.values.ravel(), scoring=\"neg_mean_squared_error\").mean())\n",
    "print(cross_val_score(pipe, X, y.values.ravel(), scoring=\"neg_root_mean_squared_error\").mean())\n",
    "print(cross_val_score(pipe, X, y.values.ravel(), scoring=\"r2\").mean())"
   ]
  },
  {
   "cell_type": "code",
   "execution_count": 16,
   "id": "1faaf63b-3a7b-4a1d-9128-262a9cde55f5",
   "metadata": {},
   "outputs": [
    {
     "name": "stdout",
     "output_type": "stream",
     "text": [
      "-0.0001745313223957783\n",
      "-0.013096150727647759\n",
      "0.9859085110429298\n"
     ]
    }
   ],
   "source": [
    "poly = PolynomialFeatures(degree=3)\n",
    "\n",
    "# Choose regression method and set hyperparameter\n",
    "reg_model=LinearRegression()\n",
    "\n",
    "pipe = make_pipeline(scaler, poly, reg_model)\n",
    "\n",
    "# cross-validate the pipeline\n",
    "print(cross_val_score(pipe, X, y, scoring=\"neg_mean_squared_error\").mean())\n",
    "print(cross_val_score(pipe, X, y, scoring=\"neg_root_mean_squared_error\").mean())\n",
    "print(cross_val_score(pipe, X, y, scoring=\"r2\").mean())"
   ]
  },
  {
   "cell_type": "code",
   "execution_count": 17,
   "id": "f27a1cfb-449d-4b00-ae78-6373cb542f09",
   "metadata": {},
   "outputs": [
    {
     "data": {
      "text/html": [
       "<div>\n",
       "<style scoped>\n",
       "    .dataframe tbody tr th:only-of-type {\n",
       "        vertical-align: middle;\n",
       "    }\n",
       "\n",
       "    .dataframe tbody tr th {\n",
       "        vertical-align: top;\n",
       "    }\n",
       "\n",
       "    .dataframe thead th {\n",
       "        text-align: right;\n",
       "    }\n",
       "</style>\n",
       "<table border=\"1\" class=\"dataframe\">\n",
       "  <thead>\n",
       "    <tr style=\"text-align: right;\">\n",
       "      <th></th>\n",
       "      <th>Predictions</th>\n",
       "      <th>Actuals</th>\n",
       "      <th>Diff</th>\n",
       "    </tr>\n",
       "  </thead>\n",
       "  <tbody>\n",
       "    <tr>\n",
       "      <th>0</th>\n",
       "      <td>0.717139</td>\n",
       "      <td>0.738444</td>\n",
       "      <td>-0.021305</td>\n",
       "    </tr>\n",
       "    <tr>\n",
       "      <th>1</th>\n",
       "      <td>0.741255</td>\n",
       "      <td>0.733762</td>\n",
       "      <td>0.007493</td>\n",
       "    </tr>\n",
       "    <tr>\n",
       "      <th>2</th>\n",
       "      <td>0.725978</td>\n",
       "      <td>0.722304</td>\n",
       "      <td>0.003674</td>\n",
       "    </tr>\n",
       "    <tr>\n",
       "      <th>3</th>\n",
       "      <td>0.532412</td>\n",
       "      <td>0.532461</td>\n",
       "      <td>-0.000049</td>\n",
       "    </tr>\n",
       "    <tr>\n",
       "      <th>4</th>\n",
       "      <td>0.513408</td>\n",
       "      <td>0.516163</td>\n",
       "      <td>-0.002755</td>\n",
       "    </tr>\n",
       "    <tr>\n",
       "      <th>...</th>\n",
       "      <td>...</td>\n",
       "      <td>...</td>\n",
       "      <td>...</td>\n",
       "    </tr>\n",
       "    <tr>\n",
       "      <th>195</th>\n",
       "      <td>0.713032</td>\n",
       "      <td>0.719291</td>\n",
       "      <td>-0.006259</td>\n",
       "    </tr>\n",
       "    <tr>\n",
       "      <th>196</th>\n",
       "      <td>0.658181</td>\n",
       "      <td>0.655715</td>\n",
       "      <td>0.002466</td>\n",
       "    </tr>\n",
       "    <tr>\n",
       "      <th>197</th>\n",
       "      <td>0.587740</td>\n",
       "      <td>0.585884</td>\n",
       "      <td>0.001856</td>\n",
       "    </tr>\n",
       "    <tr>\n",
       "      <th>198</th>\n",
       "      <td>0.783630</td>\n",
       "      <td>0.805055</td>\n",
       "      <td>-0.021426</td>\n",
       "    </tr>\n",
       "    <tr>\n",
       "      <th>199</th>\n",
       "      <td>0.489678</td>\n",
       "      <td>0.482074</td>\n",
       "      <td>0.007604</td>\n",
       "    </tr>\n",
       "  </tbody>\n",
       "</table>\n",
       "<p>200 rows × 3 columns</p>\n",
       "</div>"
      ],
      "text/plain": [
       "     Predictions   Actuals      Diff\n",
       "0       0.717139  0.738444 -0.021305\n",
       "1       0.741255  0.733762  0.007493\n",
       "2       0.725978  0.722304  0.003674\n",
       "3       0.532412  0.532461 -0.000049\n",
       "4       0.513408  0.516163 -0.002755\n",
       "..           ...       ...       ...\n",
       "195     0.713032  0.719291 -0.006259\n",
       "196     0.658181  0.655715  0.002466\n",
       "197     0.587740  0.585884  0.001856\n",
       "198     0.783630  0.805055 -0.021426\n",
       "199     0.489678  0.482074  0.007604\n",
       "\n",
       "[200 rows x 3 columns]"
      ]
     },
     "execution_count": 17,
     "metadata": {},
     "output_type": "execute_result"
    }
   ],
   "source": [
    "X_train, X_test, y_train, y_test = train_test_split(X, y, test_size=0.2, random_state=42)\n",
    "\n",
    "model = pipe.fit(X_train, y_train)\n",
    "prediction = model.predict(X_test)\n",
    "\n",
    "res = pd.DataFrame()\n",
    "res[\"Predictions\"] = pd.Series(prediction.ravel())\n",
    "res[\"Actuals\"] = y_test.values\n",
    "res[\"Diff\"] = res.Predictions - res.Actuals\n",
    "res"
   ]
  },
  {
   "cell_type": "code",
   "execution_count": 182,
   "id": "98a04428-64b3-43d5-bb6f-b61f0ae5e8fc",
   "metadata": {},
   "outputs": [
    {
     "name": "stdout",
     "output_type": "stream",
     "text": [
      "       Predictions     Actuals        Diff\n",
      "count   200.000000  200.000000  200.000000\n",
      "mean      0.677802    0.680477   -0.002675\n",
      "std       0.113849    0.120284    0.016100\n",
      "min       0.467952    0.455656   -0.139690\n",
      "25%       0.585180    0.586770   -0.007160\n",
      "50%       0.661920    0.660770   -0.001561\n",
      "75%       0.733400    0.738383    0.004383\n",
      "max       0.996447    1.000000    0.032153\n"
     ]
    }
   ],
   "source": [
    "print(res.describe())"
   ]
  },
  {
   "cell_type": "code",
   "execution_count": 24,
   "id": "6ba45126-c90b-4b04-8113-f9cf97bb63de",
   "metadata": {},
   "outputs": [
    {
     "data": {
      "application/vnd.plotly.v1+json": {
       "config": {
        "plotlyServerURL": "https://plot.ly"
       },
       "data": [
        {
         "hovertemplate": "Actuals=%{x}<br>Predictions=%{y}<extra></extra>",
         "legendgroup": "",
         "marker": {
          "color": "#636efa",
          "symbol": "circle"
         },
         "mode": "markers",
         "name": "",
         "orientation": "v",
         "showlegend": false,
         "type": "scatter",
         "x": [
          0.7384442,
          0.73376239,
          0.72230384,
          0.53246076,
          0.51616329,
          0.96336483,
          0.67098905,
          0.71171478,
          0.67916698,
          0.74361626,
          0.90528937,
          0.70889569,
          0.51104023,
          0.75194972,
          0.5434895,
          0.69164226,
          0.93743959,
          0.76276188,
          0.81167856,
          0.58469904,
          0.79625676,
          0.65894324,
          1,
          0.5887795,
          0.59797309,
          0.7227172,
          0.86927816,
          0.66087333,
          0.80259969,
          0.56959259,
          0.6483484,
          0.70224112,
          0.51921474,
          0.54753098,
          0.66066764,
          0.71037392,
          0.57979038,
          0.82904739,
          0.54767064,
          0.73361427,
          0.57786739,
          0.62965242,
          0.75661113,
          0.58856543,
          0.59423058,
          0.65445616,
          0.6180638,
          0.67534882,
          0.72684409,
          0.65210758,
          0.59003472,
          0.72993045,
          0.65482257,
          1,
          0.58286615,
          0.48413374,
          0.4601164,
          0.72364259,
          0.74764051,
          0.56104427,
          0.64969212,
          0.5688136,
          0.56834883,
          0.58178173,
          0.55980337,
          0.56374627,
          0.68870019,
          0.56269342,
          0.57866113,
          0.54552189,
          0.53909477,
          0.64895309,
          0.67885294,
          0.57952193,
          0.52761138,
          0.58047194,
          0.61063596,
          0.71339824,
          0.66642786,
          0.5457118,
          0.6616516,
          0.62858972,
          0.85845155,
          0.51554291,
          0.78841538,
          0.73836209,
          0.69420056,
          0.64458675,
          0.78461273,
          0.71516634,
          0.96447129,
          0.80652511,
          0.65947849,
          0.64798891,
          0.65173542,
          0.593676,
          0.57091219,
          0.71173102,
          0.7066877,
          0.57410991,
          0.58706504,
          0.64306354,
          0.58960352,
          0.67878983,
          0.73250484,
          0.47530942,
          0.57891929,
          0.61411078,
          0.68392306,
          0.60427085,
          0.53960483,
          0.72151207,
          0.86488199,
          0.68967942,
          0.71040288,
          0.57661682,
          1,
          1,
          0.79628407,
          0.71768808,
          0.75660264,
          0.7105446,
          0.61643514,
          0.71130736,
          0.5978892,
          0.7417454,
          0.61414542,
          0.59066643,
          0.70533936,
          0.74946577,
          0.57567461,
          0.81205372,
          0.61245114,
          0.60764739,
          0.87135304,
          0.45565628,
          0.66412937,
          0.6730554,
          0.54628545,
          0.68098005,
          0.55508632,
          0.6024248,
          0.7660951,
          0.6610094,
          0.85395965,
          0.98213417,
          0.72406364,
          0.66948785,
          0.80151889,
          0.67321311,
          0.96864799,
          0.58006283,
          0.5917353,
          0.75478667,
          0.75719697,
          0.63153449,
          0.73633785,
          0.69494143,
          0.6561177,
          0.56617759,
          0.70182301,
          0.51625621,
          0.79404039,
          0.64084632,
          0.86321305,
          0.92227219,
          0.63553279,
          0.77406185,
          0.62712654,
          0.64918999,
          0.53934719,
          0.57750935,
          0.64216181,
          0.7263451,
          0.62201419,
          0.77574627,
          0.94320709,
          0.55437257,
          0.65797636,
          0.72858291,
          0.52264911,
          0.9510686,
          0.61501818,
          0.82954756,
          0.73433167,
          0.88660721,
          0.61332524,
          1,
          0.79635784,
          0.8254783,
          0.65226798,
          0.61819229,
          0.56541682,
          0.59306312,
          0.57863281,
          0.71929123,
          0.65571471,
          0.58588369,
          0.80505535,
          0.48207362
         ],
         "xaxis": "x",
         "y": [
          0.7171393427892044,
          0.7412554615342188,
          0.7259778789532076,
          0.5324121488043467,
          0.5134083624047064,
          0.925930175167997,
          0.6678565751108283,
          0.7051972553917637,
          0.6596213398966417,
          0.7306103584232702,
          0.863616189131033,
          0.7021940985235027,
          0.5321982676212806,
          0.7292315300905975,
          0.547688921290745,
          0.6974733143168836,
          0.8915721632689425,
          0.7698698442705709,
          0.8158639237988414,
          0.5782056027138883,
          0.8018250058497889,
          0.6612613272216165,
          0.989722368584431,
          0.5834756902110154,
          0.6041434790994413,
          0.7265491395931,
          0.8569963622909813,
          0.649073326438086,
          0.7828276174713323,
          0.5663083203186412,
          0.6354394416561914,
          0.6985329117907031,
          0.5173579788085283,
          0.5599824456162943,
          0.6638321960442484,
          0.7070071979206696,
          0.5962766592238324,
          0.8120821724072783,
          0.5410363542812973,
          0.7581148269692408,
          0.5778544792772782,
          0.6428599085440111,
          0.7568682413894959,
          0.5886354755993858,
          0.5925473236818366,
          0.6595876216786889,
          0.6123357077194477,
          0.6648405404521284,
          0.7269702705295443,
          0.6450907885945222,
          0.5790250161906427,
          0.7324947050247205,
          0.6589666571449253,
          0.9964472708403314,
          0.5779251479918073,
          0.4756749586867979,
          0.469860395859067,
          0.7133651986391125,
          0.7323031496828343,
          0.5586400570031296,
          0.6572419670641341,
          0.5617092480401069,
          0.5694368276972708,
          0.5814161344144742,
          0.5510095506751747,
          0.5699768025895176,
          0.6833138820662927,
          0.5583143567556764,
          0.5809804832564041,
          0.547447256703135,
          0.5614581286175431,
          0.6735568863225365,
          0.6861041252174435,
          0.5944716374391443,
          0.517635593271161,
          0.5834160553263474,
          0.6088767461434803,
          0.7312742814067563,
          0.6660189186802227,
          0.558806369387341,
          0.6615259290695673,
          0.6414253875522168,
          0.8479023562629049,
          0.5221186993661211,
          0.8038243018025878,
          0.7705153002179439,
          0.7239047675687175,
          0.6326880055510132,
          0.7843340462745219,
          0.7245181235292633,
          0.8247810498835864,
          0.796964209188653,
          0.6623150367466688,
          0.6569024023027691,
          0.6566677917160062,
          0.5972355784485355,
          0.5833279619450716,
          0.7072362199905379,
          0.7055026666858774,
          0.576769333014105,
          0.5856266857798217,
          0.6409215410481611,
          0.5835577575674132,
          0.6714614976745952,
          0.7129277636159697,
          0.4716410113269506,
          0.5784992719591701,
          0.6169531918443832,
          0.6793199729748248,
          0.6064534649830258,
          0.5401621158675238,
          0.7286941637544012,
          0.8844219758481707,
          0.6838631777949157,
          0.7227688220360518,
          0.5967792173211333,
          0.9806884429227283,
          0.9333369165924854,
          0.7800855507744744,
          0.7205159963438639,
          0.7410017903468913,
          0.7178674504449977,
          0.6192258256377902,
          0.6975687830315253,
          0.5951272005888618,
          0.7214174275819418,
          0.6041911871344593,
          0.5838411906565002,
          0.6929013001105472,
          0.7398062742701921,
          0.5711336293494118,
          0.8152477133204875,
          0.6083860930523375,
          0.6029994652443074,
          0.8673477800102825,
          0.467952432321897,
          0.6721621257532242,
          0.6782712429436657,
          0.5518332612016151,
          0.6812535802422788,
          0.5488432063951858,
          0.5929308345718132,
          0.7845630884943994,
          0.6517631843971428,
          0.8507561378018853,
          0.9609524808594678,
          0.717254738520972,
          0.6768653663153146,
          0.79821471582236,
          0.6745259040095603,
          0.958478725802872,
          0.5743019411104991,
          0.58879966103036,
          0.7608267194927353,
          0.7639439999626347,
          0.639987063618118,
          0.7378588412638973,
          0.6960745426162097,
          0.6551304336165067,
          0.5626561027454413,
          0.6910437446824259,
          0.5232287880495147,
          0.7966290909332567,
          0.6328575863451624,
          0.8650716291103768,
          0.8805921447840199,
          0.6385086880320948,
          0.7678349708567549,
          0.6249872721300263,
          0.6455320115605819,
          0.5306689095224454,
          0.5727595011753487,
          0.6573647483661159,
          0.7279594625345691,
          0.626019914972843,
          0.7560299325706283,
          0.9273698660528109,
          0.565357650112025,
          0.6556279892496428,
          0.7305864579196233,
          0.5233466141251716,
          0.9432848971686598,
          0.612622423811237,
          0.8282406642597065,
          0.7361166931472436,
          0.8815186286551788,
          0.6143502179212196,
          0.9519423559283323,
          0.7862411721464533,
          0.8206831363666869,
          0.6665101288636699,
          0.6383812551857722,
          0.5736142848869797,
          0.5860069787927454,
          0.5619190679411771,
          0.7130321511867763,
          0.6581806289078458,
          0.5877396746652862,
          0.7836296472045348,
          0.4896778033549679
         ],
         "yaxis": "y"
        }
       ],
       "layout": {
        "autosize": false,
        "height": 500,
        "legend": {
         "tracegroupgap": 0
        },
        "margin": {
         "t": 60
        },
        "template": {
         "data": {
          "bar": [
           {
            "error_x": {
             "color": "#2a3f5f"
            },
            "error_y": {
             "color": "#2a3f5f"
            },
            "marker": {
             "line": {
              "color": "#E5ECF6",
              "width": 0.5
             },
             "pattern": {
              "fillmode": "overlay",
              "size": 10,
              "solidity": 0.2
             }
            },
            "type": "bar"
           }
          ],
          "barpolar": [
           {
            "marker": {
             "line": {
              "color": "#E5ECF6",
              "width": 0.5
             },
             "pattern": {
              "fillmode": "overlay",
              "size": 10,
              "solidity": 0.2
             }
            },
            "type": "barpolar"
           }
          ],
          "carpet": [
           {
            "aaxis": {
             "endlinecolor": "#2a3f5f",
             "gridcolor": "white",
             "linecolor": "white",
             "minorgridcolor": "white",
             "startlinecolor": "#2a3f5f"
            },
            "baxis": {
             "endlinecolor": "#2a3f5f",
             "gridcolor": "white",
             "linecolor": "white",
             "minorgridcolor": "white",
             "startlinecolor": "#2a3f5f"
            },
            "type": "carpet"
           }
          ],
          "choropleth": [
           {
            "colorbar": {
             "outlinewidth": 0,
             "ticks": ""
            },
            "type": "choropleth"
           }
          ],
          "contour": [
           {
            "colorbar": {
             "outlinewidth": 0,
             "ticks": ""
            },
            "colorscale": [
             [
              0,
              "#0d0887"
             ],
             [
              0.1111111111111111,
              "#46039f"
             ],
             [
              0.2222222222222222,
              "#7201a8"
             ],
             [
              0.3333333333333333,
              "#9c179e"
             ],
             [
              0.4444444444444444,
              "#bd3786"
             ],
             [
              0.5555555555555556,
              "#d8576b"
             ],
             [
              0.6666666666666666,
              "#ed7953"
             ],
             [
              0.7777777777777778,
              "#fb9f3a"
             ],
             [
              0.8888888888888888,
              "#fdca26"
             ],
             [
              1,
              "#f0f921"
             ]
            ],
            "type": "contour"
           }
          ],
          "contourcarpet": [
           {
            "colorbar": {
             "outlinewidth": 0,
             "ticks": ""
            },
            "type": "contourcarpet"
           }
          ],
          "heatmap": [
           {
            "colorbar": {
             "outlinewidth": 0,
             "ticks": ""
            },
            "colorscale": [
             [
              0,
              "#0d0887"
             ],
             [
              0.1111111111111111,
              "#46039f"
             ],
             [
              0.2222222222222222,
              "#7201a8"
             ],
             [
              0.3333333333333333,
              "#9c179e"
             ],
             [
              0.4444444444444444,
              "#bd3786"
             ],
             [
              0.5555555555555556,
              "#d8576b"
             ],
             [
              0.6666666666666666,
              "#ed7953"
             ],
             [
              0.7777777777777778,
              "#fb9f3a"
             ],
             [
              0.8888888888888888,
              "#fdca26"
             ],
             [
              1,
              "#f0f921"
             ]
            ],
            "type": "heatmap"
           }
          ],
          "heatmapgl": [
           {
            "colorbar": {
             "outlinewidth": 0,
             "ticks": ""
            },
            "colorscale": [
             [
              0,
              "#0d0887"
             ],
             [
              0.1111111111111111,
              "#46039f"
             ],
             [
              0.2222222222222222,
              "#7201a8"
             ],
             [
              0.3333333333333333,
              "#9c179e"
             ],
             [
              0.4444444444444444,
              "#bd3786"
             ],
             [
              0.5555555555555556,
              "#d8576b"
             ],
             [
              0.6666666666666666,
              "#ed7953"
             ],
             [
              0.7777777777777778,
              "#fb9f3a"
             ],
             [
              0.8888888888888888,
              "#fdca26"
             ],
             [
              1,
              "#f0f921"
             ]
            ],
            "type": "heatmapgl"
           }
          ],
          "histogram": [
           {
            "marker": {
             "pattern": {
              "fillmode": "overlay",
              "size": 10,
              "solidity": 0.2
             }
            },
            "type": "histogram"
           }
          ],
          "histogram2d": [
           {
            "colorbar": {
             "outlinewidth": 0,
             "ticks": ""
            },
            "colorscale": [
             [
              0,
              "#0d0887"
             ],
             [
              0.1111111111111111,
              "#46039f"
             ],
             [
              0.2222222222222222,
              "#7201a8"
             ],
             [
              0.3333333333333333,
              "#9c179e"
             ],
             [
              0.4444444444444444,
              "#bd3786"
             ],
             [
              0.5555555555555556,
              "#d8576b"
             ],
             [
              0.6666666666666666,
              "#ed7953"
             ],
             [
              0.7777777777777778,
              "#fb9f3a"
             ],
             [
              0.8888888888888888,
              "#fdca26"
             ],
             [
              1,
              "#f0f921"
             ]
            ],
            "type": "histogram2d"
           }
          ],
          "histogram2dcontour": [
           {
            "colorbar": {
             "outlinewidth": 0,
             "ticks": ""
            },
            "colorscale": [
             [
              0,
              "#0d0887"
             ],
             [
              0.1111111111111111,
              "#46039f"
             ],
             [
              0.2222222222222222,
              "#7201a8"
             ],
             [
              0.3333333333333333,
              "#9c179e"
             ],
             [
              0.4444444444444444,
              "#bd3786"
             ],
             [
              0.5555555555555556,
              "#d8576b"
             ],
             [
              0.6666666666666666,
              "#ed7953"
             ],
             [
              0.7777777777777778,
              "#fb9f3a"
             ],
             [
              0.8888888888888888,
              "#fdca26"
             ],
             [
              1,
              "#f0f921"
             ]
            ],
            "type": "histogram2dcontour"
           }
          ],
          "mesh3d": [
           {
            "colorbar": {
             "outlinewidth": 0,
             "ticks": ""
            },
            "type": "mesh3d"
           }
          ],
          "parcoords": [
           {
            "line": {
             "colorbar": {
              "outlinewidth": 0,
              "ticks": ""
             }
            },
            "type": "parcoords"
           }
          ],
          "pie": [
           {
            "automargin": true,
            "type": "pie"
           }
          ],
          "scatter": [
           {
            "marker": {
             "colorbar": {
              "outlinewidth": 0,
              "ticks": ""
             }
            },
            "type": "scatter"
           }
          ],
          "scatter3d": [
           {
            "line": {
             "colorbar": {
              "outlinewidth": 0,
              "ticks": ""
             }
            },
            "marker": {
             "colorbar": {
              "outlinewidth": 0,
              "ticks": ""
             }
            },
            "type": "scatter3d"
           }
          ],
          "scattercarpet": [
           {
            "marker": {
             "colorbar": {
              "outlinewidth": 0,
              "ticks": ""
             }
            },
            "type": "scattercarpet"
           }
          ],
          "scattergeo": [
           {
            "marker": {
             "colorbar": {
              "outlinewidth": 0,
              "ticks": ""
             }
            },
            "type": "scattergeo"
           }
          ],
          "scattergl": [
           {
            "marker": {
             "colorbar": {
              "outlinewidth": 0,
              "ticks": ""
             }
            },
            "type": "scattergl"
           }
          ],
          "scattermapbox": [
           {
            "marker": {
             "colorbar": {
              "outlinewidth": 0,
              "ticks": ""
             }
            },
            "type": "scattermapbox"
           }
          ],
          "scatterpolar": [
           {
            "marker": {
             "colorbar": {
              "outlinewidth": 0,
              "ticks": ""
             }
            },
            "type": "scatterpolar"
           }
          ],
          "scatterpolargl": [
           {
            "marker": {
             "colorbar": {
              "outlinewidth": 0,
              "ticks": ""
             }
            },
            "type": "scatterpolargl"
           }
          ],
          "scatterternary": [
           {
            "marker": {
             "colorbar": {
              "outlinewidth": 0,
              "ticks": ""
             }
            },
            "type": "scatterternary"
           }
          ],
          "surface": [
           {
            "colorbar": {
             "outlinewidth": 0,
             "ticks": ""
            },
            "colorscale": [
             [
              0,
              "#0d0887"
             ],
             [
              0.1111111111111111,
              "#46039f"
             ],
             [
              0.2222222222222222,
              "#7201a8"
             ],
             [
              0.3333333333333333,
              "#9c179e"
             ],
             [
              0.4444444444444444,
              "#bd3786"
             ],
             [
              0.5555555555555556,
              "#d8576b"
             ],
             [
              0.6666666666666666,
              "#ed7953"
             ],
             [
              0.7777777777777778,
              "#fb9f3a"
             ],
             [
              0.8888888888888888,
              "#fdca26"
             ],
             [
              1,
              "#f0f921"
             ]
            ],
            "type": "surface"
           }
          ],
          "table": [
           {
            "cells": {
             "fill": {
              "color": "#EBF0F8"
             },
             "line": {
              "color": "white"
             }
            },
            "header": {
             "fill": {
              "color": "#C8D4E3"
             },
             "line": {
              "color": "white"
             }
            },
            "type": "table"
           }
          ]
         },
         "layout": {
          "annotationdefaults": {
           "arrowcolor": "#2a3f5f",
           "arrowhead": 0,
           "arrowwidth": 1
          },
          "autotypenumbers": "strict",
          "coloraxis": {
           "colorbar": {
            "outlinewidth": 0,
            "ticks": ""
           }
          },
          "colorscale": {
           "diverging": [
            [
             0,
             "#8e0152"
            ],
            [
             0.1,
             "#c51b7d"
            ],
            [
             0.2,
             "#de77ae"
            ],
            [
             0.3,
             "#f1b6da"
            ],
            [
             0.4,
             "#fde0ef"
            ],
            [
             0.5,
             "#f7f7f7"
            ],
            [
             0.6,
             "#e6f5d0"
            ],
            [
             0.7,
             "#b8e186"
            ],
            [
             0.8,
             "#7fbc41"
            ],
            [
             0.9,
             "#4d9221"
            ],
            [
             1,
             "#276419"
            ]
           ],
           "sequential": [
            [
             0,
             "#0d0887"
            ],
            [
             0.1111111111111111,
             "#46039f"
            ],
            [
             0.2222222222222222,
             "#7201a8"
            ],
            [
             0.3333333333333333,
             "#9c179e"
            ],
            [
             0.4444444444444444,
             "#bd3786"
            ],
            [
             0.5555555555555556,
             "#d8576b"
            ],
            [
             0.6666666666666666,
             "#ed7953"
            ],
            [
             0.7777777777777778,
             "#fb9f3a"
            ],
            [
             0.8888888888888888,
             "#fdca26"
            ],
            [
             1,
             "#f0f921"
            ]
           ],
           "sequentialminus": [
            [
             0,
             "#0d0887"
            ],
            [
             0.1111111111111111,
             "#46039f"
            ],
            [
             0.2222222222222222,
             "#7201a8"
            ],
            [
             0.3333333333333333,
             "#9c179e"
            ],
            [
             0.4444444444444444,
             "#bd3786"
            ],
            [
             0.5555555555555556,
             "#d8576b"
            ],
            [
             0.6666666666666666,
             "#ed7953"
            ],
            [
             0.7777777777777778,
             "#fb9f3a"
            ],
            [
             0.8888888888888888,
             "#fdca26"
            ],
            [
             1,
             "#f0f921"
            ]
           ]
          },
          "colorway": [
           "#636efa",
           "#EF553B",
           "#00cc96",
           "#ab63fa",
           "#FFA15A",
           "#19d3f3",
           "#FF6692",
           "#B6E880",
           "#FF97FF",
           "#FECB52"
          ],
          "font": {
           "color": "#2a3f5f"
          },
          "geo": {
           "bgcolor": "white",
           "lakecolor": "white",
           "landcolor": "#E5ECF6",
           "showlakes": true,
           "showland": true,
           "subunitcolor": "white"
          },
          "hoverlabel": {
           "align": "left"
          },
          "hovermode": "closest",
          "mapbox": {
           "style": "light"
          },
          "paper_bgcolor": "white",
          "plot_bgcolor": "#E5ECF6",
          "polar": {
           "angularaxis": {
            "gridcolor": "white",
            "linecolor": "white",
            "ticks": ""
           },
           "bgcolor": "#E5ECF6",
           "radialaxis": {
            "gridcolor": "white",
            "linecolor": "white",
            "ticks": ""
           }
          },
          "scene": {
           "xaxis": {
            "backgroundcolor": "#E5ECF6",
            "gridcolor": "white",
            "gridwidth": 2,
            "linecolor": "white",
            "showbackground": true,
            "ticks": "",
            "zerolinecolor": "white"
           },
           "yaxis": {
            "backgroundcolor": "#E5ECF6",
            "gridcolor": "white",
            "gridwidth": 2,
            "linecolor": "white",
            "showbackground": true,
            "ticks": "",
            "zerolinecolor": "white"
           },
           "zaxis": {
            "backgroundcolor": "#E5ECF6",
            "gridcolor": "white",
            "gridwidth": 2,
            "linecolor": "white",
            "showbackground": true,
            "ticks": "",
            "zerolinecolor": "white"
           }
          },
          "shapedefaults": {
           "line": {
            "color": "#2a3f5f"
           }
          },
          "ternary": {
           "aaxis": {
            "gridcolor": "white",
            "linecolor": "white",
            "ticks": ""
           },
           "baxis": {
            "gridcolor": "white",
            "linecolor": "white",
            "ticks": ""
           },
           "bgcolor": "#E5ECF6",
           "caxis": {
            "gridcolor": "white",
            "linecolor": "white",
            "ticks": ""
           }
          },
          "title": {
           "x": 0.05
          },
          "xaxis": {
           "automargin": true,
           "gridcolor": "white",
           "linecolor": "white",
           "ticks": "",
           "title": {
            "standoff": 15
           },
           "zerolinecolor": "white",
           "zerolinewidth": 2
          },
          "yaxis": {
           "automargin": true,
           "gridcolor": "white",
           "linecolor": "white",
           "ticks": "",
           "title": {
            "standoff": 15
           },
           "zerolinecolor": "white",
           "zerolinewidth": 2
          }
         }
        },
        "title": {
         "text": "Predictions - Actuals Comparison"
        },
        "width": 800,
        "xaxis": {
         "anchor": "y",
         "autorange": true,
         "domain": [
          0,
          1
         ],
         "range": [
          0.421425342462621,
          1.034230937537379
         ],
         "title": {
          "text": "Actuals"
         },
         "type": "linear"
        },
        "yaxis": {
         "anchor": "x",
         "autorange": true,
         "domain": [
          0,
          1
         ],
         "range": [
          0.4316340666417202,
          1.0327656365205082
         ],
         "title": {
          "text": "Predictions"
         },
         "type": "linear"
        }
       }
      },
      "image/png": "[encoded data removed]",
      "text/html": [
       "<div>                            <div id=\"cc6181ed-26b9-4550-a2f6-57a854aa2175\" class=\"plotly-graph-div\" style=\"height:500px; width:800px;\"></div>            <script type=\"text/javascript\">                require([\"plotly\"], function(Plotly) {                    window.PLOTLYENV=window.PLOTLYENV || {};                                    if (document.getElementById(\"cc6181ed-26b9-4550-a2f6-57a854aa2175\")) {                    Plotly.newPlot(                        \"cc6181ed-26b9-4550-a2f6-57a854aa2175\",                        [{\"hovertemplate\":\"Actuals=%{x}<br>Predictions=%{y}<extra></extra>\",\"legendgroup\":\"\",\"marker\":{\"color\":\"#636efa\",\"symbol\":\"circle\"},\"mode\":\"markers\",\"name\":\"\",\"orientation\":\"v\",\"showlegend\":false,\"x\":[0.7384442,0.73376239,0.72230384,0.53246076,0.51616329,0.96336483,0.67098905,0.71171478,0.67916698,0.74361626,0.90528937,0.70889569,0.51104023,0.75194972,0.5434895,0.69164226,0.93743959,0.76276188,0.81167856,0.58469904,0.79625676,0.65894324,1.0,0.5887795,0.59797309,0.7227172,0.86927816,0.66087333,0.80259969,0.56959259,0.6483484,0.70224112,0.51921474,0.54753098,0.66066764,0.71037392,0.57979038,0.82904739,0.54767064,0.73361427,0.57786739,0.62965242,0.75661113,0.58856543,0.59423058,0.65445616,0.6180638,0.67534882,0.72684409,0.65210758,0.59003472,0.72993045,0.65482257,1.0,0.58286615,0.48413374,0.4601164,0.72364259,0.74764051,0.56104427,0.64969212,0.5688136,0.56834883,0.58178173,0.55980337,0.56374627,0.68870019,0.56269342,0.57866113,0.54552189,0.53909477,0.64895309,0.67885294,0.57952193,0.52761138,0.58047194,0.61063596,0.71339824,0.66642786,0.5457118,0.6616516,0.62858972,0.85845155,0.51554291,0.78841538,0.73836209,0.69420056,0.64458675,0.78461273,0.71516634,0.96447129,0.80652511,0.65947849,0.64798891,0.65173542,0.593676,0.57091219,0.71173102,0.7066877,0.57410991,0.58706504,0.64306354,0.58960352,0.67878983,0.73250484,0.47530942,0.57891929,0.61411078,0.68392306,0.60427085,0.53960483,0.72151207,0.86488199,0.68967942,0.71040288,0.57661682,1.0,1.0,0.79628407,0.71768808,0.75660264,0.7105446,0.61643514,0.71130736,0.5978892,0.7417454,0.61414542,0.59066643,0.70533936,0.74946577,0.57567461,0.81205372,0.61245114,0.60764739,0.87135304,0.45565628,0.66412937,0.6730554,0.54628545,0.68098005,0.55508632,0.6024248,0.7660951,0.6610094,0.85395965,0.98213417,0.72406364,0.66948785,0.80151889,0.67321311,0.96864799,0.58006283,0.5917353,0.75478667,0.75719697,0.63153449,0.73633785,0.69494143,0.6561177,0.56617759,0.70182301,0.51625621,0.79404039,0.64084632,0.86321305,0.92227219,0.63553279,0.77406185,0.62712654,0.64918999,0.53934719,0.57750935,0.64216181,0.7263451,0.62201419,0.77574627,0.94320709,0.55437257,0.65797636,0.72858291,0.52264911,0.9510686,0.61501818,0.82954756,0.73433167,0.88660721,0.61332524,1.0,0.79635784,0.8254783,0.65226798,0.61819229,0.56541682,0.59306312,0.57863281,0.71929123,0.65571471,0.58588369,0.80505535,0.48207362],\"xaxis\":\"x\",\"y\":[0.7171393427892044,0.7412554615342188,0.7259778789532076,0.5324121488043467,0.5134083624047064,0.925930175167997,0.6678565751108283,0.7051972553917637,0.6596213398966417,0.7306103584232702,0.863616189131033,0.7021940985235027,0.5321982676212806,0.7292315300905975,0.547688921290745,0.6974733143168836,0.8915721632689425,0.7698698442705709,0.8158639237988414,0.5782056027138883,0.8018250058497889,0.6612613272216165,0.989722368584431,0.5834756902110154,0.6041434790994413,0.7265491395931,0.8569963622909813,0.649073326438086,0.7828276174713323,0.5663083203186412,0.6354394416561914,0.6985329117907031,0.5173579788085283,0.5599824456162943,0.6638321960442484,0.7070071979206696,0.5962766592238324,0.8120821724072783,0.5410363542812973,0.7581148269692408,0.5778544792772782,0.6428599085440111,0.7568682413894959,0.5886354755993858,0.5925473236818366,0.6595876216786889,0.6123357077194477,0.6648405404521284,0.7269702705295443,0.6450907885945222,0.5790250161906427,0.7324947050247205,0.6589666571449253,0.9964472708403314,0.5779251479918073,0.4756749586867979,0.469860395859067,0.7133651986391125,0.7323031496828343,0.5586400570031296,0.6572419670641341,0.5617092480401069,0.5694368276972708,0.5814161344144742,0.5510095506751747,0.5699768025895176,0.6833138820662927,0.5583143567556764,0.5809804832564041,0.547447256703135,0.5614581286175431,0.6735568863225365,0.6861041252174435,0.5944716374391443,0.517635593271161,0.5834160553263474,0.6088767461434803,0.7312742814067563,0.6660189186802227,0.558806369387341,0.6615259290695673,0.6414253875522168,0.8479023562629049,0.5221186993661211,0.8038243018025878,0.7705153002179439,0.7239047675687175,0.6326880055510132,0.7843340462745219,0.7245181235292633,0.8247810498835864,0.796964209188653,0.6623150367466688,0.6569024023027691,0.6566677917160062,0.5972355784485355,0.5833279619450716,0.7072362199905379,0.7055026666858774,0.576769333014105,0.5856266857798217,0.6409215410481611,0.5835577575674132,0.6714614976745952,0.7129277636159697,0.4716410113269506,0.5784992719591701,0.6169531918443832,0.6793199729748248,0.6064534649830258,0.5401621158675238,0.7286941637544012,0.8844219758481707,0.6838631777949157,0.7227688220360518,0.5967792173211333,0.9806884429227283,0.9333369165924854,0.7800855507744744,0.7205159963438639,0.7410017903468913,0.7178674504449977,0.6192258256377902,0.6975687830315253,0.5951272005888618,0.7214174275819418,0.6041911871344593,0.5838411906565002,0.6929013001105472,0.7398062742701921,0.5711336293494118,0.8152477133204875,0.6083860930523375,0.6029994652443074,0.8673477800102825,0.467952432321897,0.6721621257532242,0.6782712429436657,0.5518332612016151,0.6812535802422788,0.5488432063951858,0.5929308345718132,0.7845630884943994,0.6517631843971428,0.8507561378018853,0.9609524808594678,0.717254738520972,0.6768653663153146,0.79821471582236,0.6745259040095603,0.958478725802872,0.5743019411104991,0.58879966103036,0.7608267194927353,0.7639439999626347,0.639987063618118,0.7378588412638973,0.6960745426162097,0.6551304336165067,0.5626561027454413,0.6910437446824259,0.5232287880495147,0.7966290909332567,0.6328575863451624,0.8650716291103768,0.8805921447840199,0.6385086880320948,0.7678349708567549,0.6249872721300263,0.6455320115605819,0.5306689095224454,0.5727595011753487,0.6573647483661159,0.7279594625345691,0.626019914972843,0.7560299325706283,0.9273698660528109,0.565357650112025,0.6556279892496428,0.7305864579196233,0.5233466141251716,0.9432848971686598,0.612622423811237,0.8282406642597065,0.7361166931472436,0.8815186286551788,0.6143502179212196,0.9519423559283323,0.7862411721464533,0.8206831363666869,0.6665101288636699,0.6383812551857722,0.5736142848869797,0.5860069787927454,0.5619190679411771,0.7130321511867763,0.6581806289078458,0.5877396746652862,0.7836296472045348,0.4896778033549679],\"yaxis\":\"y\",\"type\":\"scatter\"}],                        {\"template\":{\"data\":{\"bar\":[{\"error_x\":{\"color\":\"#2a3f5f\"},\"error_y\":{\"color\":\"#2a3f5f\"},\"marker\":{\"line\":{\"color\":\"#E5ECF6\",\"width\":0.5},\"pattern\":{\"fillmode\":\"overlay\",\"size\":10,\"solidity\":0.2}},\"type\":\"bar\"}],\"barpolar\":[{\"marker\":{\"line\":{\"color\":\"#E5ECF6\",\"width\":0.5},\"pattern\":{\"fillmode\":\"overlay\",\"size\":10,\"solidity\":0.2}},\"type\":\"barpolar\"}],\"carpet\":[{\"aaxis\":{\"endlinecolor\":\"#2a3f5f\",\"gridcolor\":\"white\",\"linecolor\":\"white\",\"minorgridcolor\":\"white\",\"startlinecolor\":\"#2a3f5f\"},\"baxis\":{\"endlinecolor\":\"#2a3f5f\",\"gridcolor\":\"white\",\"linecolor\":\"white\",\"minorgridcolor\":\"white\",\"startlinecolor\":\"#2a3f5f\"},\"type\":\"carpet\"}],\"choropleth\":[{\"colorbar\":{\"outlinewidth\":0,\"ticks\":\"\"},\"type\":\"choropleth\"}],\"contour\":[{\"colorbar\":{\"outlinewidth\":0,\"ticks\":\"\"},\"colorscale\":[[0.0,\"#0d0887\"],[0.1111111111111111,\"#46039f\"],[0.2222222222222222,\"#7201a8\"],[0.3333333333333333,\"#9c179e\"],[0.4444444444444444,\"#bd3786\"],[0.5555555555555556,\"#d8576b\"],[0.6666666666666666,\"#ed7953\"],[0.7777777777777778,\"#fb9f3a\"],[0.8888888888888888,\"#fdca26\"],[1.0,\"#f0f921\"]],\"type\":\"contour\"}],\"contourcarpet\":[{\"colorbar\":{\"outlinewidth\":0,\"ticks\":\"\"},\"type\":\"contourcarpet\"}],\"heatmap\":[{\"colorbar\":{\"outlinewidth\":0,\"ticks\":\"\"},\"colorscale\":[[0.0,\"#0d0887\"],[0.1111111111111111,\"#46039f\"],[0.2222222222222222,\"#7201a8\"],[0.3333333333333333,\"#9c179e\"],[0.4444444444444444,\"#bd3786\"],[0.5555555555555556,\"#d8576b\"],[0.6666666666666666,\"#ed7953\"],[0.7777777777777778,\"#fb9f3a\"],[0.8888888888888888,\"#fdca26\"],[1.0,\"#f0f921\"]],\"type\":\"heatmap\"}],\"heatmapgl\":[{\"colorbar\":{\"outlinewidth\":0,\"ticks\":\"\"},\"colorscale\":[[0.0,\"#0d0887\"],[0.1111111111111111,\"#46039f\"],[0.2222222222222222,\"#7201a8\"],[0.3333333333333333,\"#9c179e\"],[0.4444444444444444,\"#bd3786\"],[0.5555555555555556,\"#d8576b\"],[0.6666666666666666,\"#ed7953\"],[0.7777777777777778,\"#fb9f3a\"],[0.8888888888888888,\"#fdca26\"],[1.0,\"#f0f921\"]],\"type\":\"heatmapgl\"}],\"histogram\":[{\"marker\":{\"pattern\":{\"fillmode\":\"overlay\",\"size\":10,\"solidity\":0.2}},\"type\":\"histogram\"}],\"histogram2d\":[{\"colorbar\":{\"outlinewidth\":0,\"ticks\":\"\"},\"colorscale\":[[0.0,\"#0d0887\"],[0.1111111111111111,\"#46039f\"],[0.2222222222222222,\"#7201a8\"],[0.3333333333333333,\"#9c179e\"],[0.4444444444444444,\"#bd3786\"],[0.5555555555555556,\"#d8576b\"],[0.6666666666666666,\"#ed7953\"],[0.7777777777777778,\"#fb9f3a\"],[0.8888888888888888,\"#fdca26\"],[1.0,\"#f0f921\"]],\"type\":\"histogram2d\"}],\"histogram2dcontour\":[{\"colorbar\":{\"outlinewidth\":0,\"ticks\":\"\"},\"colorscale\":[[0.0,\"#0d0887\"],[0.1111111111111111,\"#46039f\"],[0.2222222222222222,\"#7201a8\"],[0.3333333333333333,\"#9c179e\"],[0.4444444444444444,\"#bd3786\"],[0.5555555555555556,\"#d8576b\"],[0.6666666666666666,\"#ed7953\"],[0.7777777777777778,\"#fb9f3a\"],[0.8888888888888888,\"#fdca26\"],[1.0,\"#f0f921\"]],\"type\":\"histogram2dcontour\"}],\"mesh3d\":[{\"colorbar\":{\"outlinewidth\":0,\"ticks\":\"\"},\"type\":\"mesh3d\"}],\"parcoords\":[{\"line\":{\"colorbar\":{\"outlinewidth\":0,\"ticks\":\"\"}},\"type\":\"parcoords\"}],\"pie\":[{\"automargin\":true,\"type\":\"pie\"}],\"scatter\":[{\"marker\":{\"colorbar\":{\"outlinewidth\":0,\"ticks\":\"\"}},\"type\":\"scatter\"}],\"scatter3d\":[{\"line\":{\"colorbar\":{\"outlinewidth\":0,\"ticks\":\"\"}},\"marker\":{\"colorbar\":{\"outlinewidth\":0,\"ticks\":\"\"}},\"type\":\"scatter3d\"}],\"scattercarpet\":[{\"marker\":{\"colorbar\":{\"outlinewidth\":0,\"ticks\":\"\"}},\"type\":\"scattercarpet\"}],\"scattergeo\":[{\"marker\":{\"colorbar\":{\"outlinewidth\":0,\"ticks\":\"\"}},\"type\":\"scattergeo\"}],\"scattergl\":[{\"marker\":{\"colorbar\":{\"outlinewidth\":0,\"ticks\":\"\"}},\"type\":\"scattergl\"}],\"scattermapbox\":[{\"marker\":{\"colorbar\":{\"outlinewidth\":0,\"ticks\":\"\"}},\"type\":\"scattermapbox\"}],\"scatterpolar\":[{\"marker\":{\"colorbar\":{\"outlinewidth\":0,\"ticks\":\"\"}},\"type\":\"scatterpolar\"}],\"scatterpolargl\":[{\"marker\":{\"colorbar\":{\"outlinewidth\":0,\"ticks\":\"\"}},\"type\":\"scatterpolargl\"}],\"scatterternary\":[{\"marker\":{\"colorbar\":{\"outlinewidth\":0,\"ticks\":\"\"}},\"type\":\"scatterternary\"}],\"surface\":[{\"colorbar\":{\"outlinewidth\":0,\"ticks\":\"\"},\"colorscale\":[[0.0,\"#0d0887\"],[0.1111111111111111,\"#46039f\"],[0.2222222222222222,\"#7201a8\"],[0.3333333333333333,\"#9c179e\"],[0.4444444444444444,\"#bd3786\"],[0.5555555555555556,\"#d8576b\"],[0.6666666666666666,\"#ed7953\"],[0.7777777777777778,\"#fb9f3a\"],[0.8888888888888888,\"#fdca26\"],[1.0,\"#f0f921\"]],\"type\":\"surface\"}],\"table\":[{\"cells\":{\"fill\":{\"color\":\"#EBF0F8\"},\"line\":{\"color\":\"white\"}},\"header\":{\"fill\":{\"color\":\"#C8D4E3\"},\"line\":{\"color\":\"white\"}},\"type\":\"table\"}]},\"layout\":{\"annotationdefaults\":{\"arrowcolor\":\"#2a3f5f\",\"arrowhead\":0,\"arrowwidth\":1},\"autotypenumbers\":\"strict\",\"coloraxis\":{\"colorbar\":{\"outlinewidth\":0,\"ticks\":\"\"}},\"colorscale\":{\"diverging\":[[0,\"#8e0152\"],[0.1,\"#c51b7d\"],[0.2,\"#de77ae\"],[0.3,\"#f1b6da\"],[0.4,\"#fde0ef\"],[0.5,\"#f7f7f7\"],[0.6,\"#e6f5d0\"],[0.7,\"#b8e186\"],[0.8,\"#7fbc41\"],[0.9,\"#4d9221\"],[1,\"#276419\"]],\"sequential\":[[0.0,\"#0d0887\"],[0.1111111111111111,\"#46039f\"],[0.2222222222222222,\"#7201a8\"],[0.3333333333333333,\"#9c179e\"],[0.4444444444444444,\"#bd3786\"],[0.5555555555555556,\"#d8576b\"],[0.6666666666666666,\"#ed7953\"],[0.7777777777777778,\"#fb9f3a\"],[0.8888888888888888,\"#fdca26\"],[1.0,\"#f0f921\"]],\"sequentialminus\":[[0.0,\"#0d0887\"],[0.1111111111111111,\"#46039f\"],[0.2222222222222222,\"#7201a8\"],[0.3333333333333333,\"#9c179e\"],[0.4444444444444444,\"#bd3786\"],[0.5555555555555556,\"#d8576b\"],[0.6666666666666666,\"#ed7953\"],[0.7777777777777778,\"#fb9f3a\"],[0.8888888888888888,\"#fdca26\"],[1.0,\"#f0f921\"]]},\"colorway\":[\"#636efa\",\"#EF553B\",\"#00cc96\",\"#ab63fa\",\"#FFA15A\",\"#19d3f3\",\"#FF6692\",\"#B6E880\",\"#FF97FF\",\"#FECB52\"],\"font\":{\"color\":\"#2a3f5f\"},\"geo\":{\"bgcolor\":\"white\",\"lakecolor\":\"white\",\"landcolor\":\"#E5ECF6\",\"showlakes\":true,\"showland\":true,\"subunitcolor\":\"white\"},\"hoverlabel\":{\"align\":\"left\"},\"hovermode\":\"closest\",\"mapbox\":{\"style\":\"light\"},\"paper_bgcolor\":\"white\",\"plot_bgcolor\":\"#E5ECF6\",\"polar\":{\"angularaxis\":{\"gridcolor\":\"white\",\"linecolor\":\"white\",\"ticks\":\"\"},\"bgcolor\":\"#E5ECF6\",\"radialaxis\":{\"gridcolor\":\"white\",\"linecolor\":\"white\",\"ticks\":\"\"}},\"scene\":{\"xaxis\":{\"backgroundcolor\":\"#E5ECF6\",\"gridcolor\":\"white\",\"gridwidth\":2,\"linecolor\":\"white\",\"showbackground\":true,\"ticks\":\"\",\"zerolinecolor\":\"white\"},\"yaxis\":{\"backgroundcolor\":\"#E5ECF6\",\"gridcolor\":\"white\",\"gridwidth\":2,\"linecolor\":\"white\",\"showbackground\":true,\"ticks\":\"\",\"zerolinecolor\":\"white\"},\"zaxis\":{\"backgroundcolor\":\"#E5ECF6\",\"gridcolor\":\"white\",\"gridwidth\":2,\"linecolor\":\"white\",\"showbackground\":true,\"ticks\":\"\",\"zerolinecolor\":\"white\"}},\"shapedefaults\":{\"line\":{\"color\":\"#2a3f5f\"}},\"ternary\":{\"aaxis\":{\"gridcolor\":\"white\",\"linecolor\":\"white\",\"ticks\":\"\"},\"baxis\":{\"gridcolor\":\"white\",\"linecolor\":\"white\",\"ticks\":\"\"},\"bgcolor\":\"#E5ECF6\",\"caxis\":{\"gridcolor\":\"white\",\"linecolor\":\"white\",\"ticks\":\"\"}},\"title\":{\"x\":0.05},\"xaxis\":{\"automargin\":true,\"gridcolor\":\"white\",\"linecolor\":\"white\",\"ticks\":\"\",\"title\":{\"standoff\":15},\"zerolinecolor\":\"white\",\"zerolinewidth\":2},\"yaxis\":{\"automargin\":true,\"gridcolor\":\"white\",\"linecolor\":\"white\",\"ticks\":\"\",\"title\":{\"standoff\":15},\"zerolinecolor\":\"white\",\"zerolinewidth\":2}}},\"xaxis\":{\"anchor\":\"y\",\"domain\":[0.0,1.0],\"title\":{\"text\":\"Actuals\"}},\"yaxis\":{\"anchor\":\"x\",\"domain\":[0.0,1.0],\"title\":{\"text\":\"Predictions\"}},\"legend\":{\"tracegroupgap\":0},\"margin\":{\"t\":60},\"title\":{\"text\":\"Predictions - Actuals Comparison\"},\"autosize\":false,\"width\":800,\"height\":500},                        {\"responsive\": true}                    ).then(function(){\n",
       "                            \n",
       "var gd = document.getElementById('cc6181ed-26b9-4550-a2f6-57a854aa2175');\n",
       "var x = new MutationObserver(function (mutations, observer) {{\n",
       "        var display = window.getComputedStyle(gd).display;\n",
       "        if (!display || display === 'none') {{\n",
       "            console.log([gd, 'removed!']);\n",
       "            Plotly.purge(gd);\n",
       "            observer.disconnect();\n",
       "        }}\n",
       "}});\n",
       "\n",
       "// Listen for the removal of the full notebook cells\n",
       "var notebookContainer = gd.closest('#notebook-container');\n",
       "if (notebookContainer) {{\n",
       "    x.observe(notebookContainer, {childList: true});\n",
       "}}\n",
       "\n",
       "// Listen for the clearing of the current output cell\n",
       "var outputEl = gd.closest('.output');\n",
       "if (outputEl) {{\n",
       "    x.observe(outputEl, {childList: true});\n",
       "}}\n",
       "\n",
       "                        })                };                });            </script>        </div>"
      ]
     },
     "metadata": {},
     "output_type": "display_data"
    }
   ],
   "source": [
    "fig = px.scatter(res, x=\"Actuals\", y=\"Predictions\")\n",
    "\n",
    "fig.update_layout(\n",
    "    autosize=False,\n",
    "    width=800,\n",
    "    height=500,\n",
    "    title_text=\"Predictions - Actuals Comparison\",\n",
    ")\n",
    "\n",
    "fig.show()"
   ]
  },
  {
   "cell_type": "code",
   "execution_count": 102,
   "id": "851f1e93-0e51-41d1-8b91-a9fc41daac63",
   "metadata": {},
   "outputs": [
    {
     "name": "stdout",
     "output_type": "stream",
     "text": [
      "Epoch 1/1000\n",
      "25/25 [==============================] - 0s 1ms/step - loss: 0.5834\n",
      "Epoch 2/1000\n",
      "25/25 [==============================] - 0s 1ms/step - loss: 0.0110\n",
      "Epoch 3/1000\n",
      "25/25 [==============================] - 0s 1ms/step - loss: 0.0081\n",
      "Epoch 4/1000\n",
      "25/25 [==============================] - 0s 1ms/step - loss: 0.0054\n",
      "Epoch 5/1000\n",
      "25/25 [==============================] - 0s 1ms/step - loss: 0.0060\n",
      "Epoch 6/1000\n",
      "25/25 [==============================] - 0s 1ms/step - loss: 0.0062\n",
      "Epoch 7/1000\n",
      "25/25 [==============================] - 0s 1ms/step - loss: 0.0054\n",
      "Epoch 8/1000\n",
      "25/25 [==============================] - 0s 1ms/step - loss: 0.0046\n",
      "Epoch 9/1000\n",
      "25/25 [==============================] - 0s 1ms/step - loss: 0.0046\n",
      "Epoch 10/1000\n",
      "25/25 [==============================] - 0s 1ms/step - loss: 0.0046\n",
      "Epoch 11/1000\n",
      "25/25 [==============================] - 0s 1ms/step - loss: 0.0045\n",
      "Epoch 12/1000\n",
      "25/25 [==============================] - 0s 1ms/step - loss: 0.0041\n",
      "Epoch 13/1000\n",
      "25/25 [==============================] - 0s 1ms/step - loss: 0.0045\n",
      "Epoch 14/1000\n",
      "25/25 [==============================] - 0s 1ms/step - loss: 0.0039\n",
      "Epoch 15/1000\n",
      "25/25 [==============================] - 0s 1ms/step - loss: 0.0036\n",
      "Epoch 16/1000\n",
      "25/25 [==============================] - 0s 1ms/step - loss: 0.0039\n",
      "Epoch 17/1000\n",
      "25/25 [==============================] - 0s 1ms/step - loss: 0.0038\n",
      "Epoch 18/1000\n",
      "25/25 [==============================] - 0s 1ms/step - loss: 0.0035\n",
      "Epoch 19/1000\n",
      "25/25 [==============================] - 0s 1ms/step - loss: 0.0035\n",
      "Epoch 20/1000\n",
      "25/25 [==============================] - 0s 1ms/step - loss: 0.0037\n",
      "Epoch 21/1000\n",
      "25/25 [==============================] - 0s 1ms/step - loss: 0.0041\n",
      "Epoch 22/1000\n",
      "25/25 [==============================] - 0s 1ms/step - loss: 0.0042\n",
      "Epoch 23/1000\n",
      "25/25 [==============================] - 0s 1ms/step - loss: 0.0034\n",
      "Epoch 24/1000\n",
      "25/25 [==============================] - 0s 1ms/step - loss: 0.0030\n",
      "Epoch 25/1000\n",
      "25/25 [==============================] - 0s 1ms/step - loss: 0.0029\n",
      "Epoch 26/1000\n",
      "25/25 [==============================] - 0s 1ms/step - loss: 0.0037\n",
      "Epoch 27/1000\n",
      "25/25 [==============================] - 0s 1ms/step - loss: 0.0032\n",
      "Epoch 28/1000\n",
      "25/25 [==============================] - 0s 1ms/step - loss: 0.0028\n",
      "Epoch 29/1000\n",
      "25/25 [==============================] - 0s 1ms/step - loss: 0.0026\n",
      "Epoch 30/1000\n",
      "25/25 [==============================] - 0s 1ms/step - loss: 0.0033\n",
      "Epoch 31/1000\n",
      "25/25 [==============================] - 0s 1ms/step - loss: 0.0025\n",
      "Epoch 32/1000\n",
      "25/25 [==============================] - 0s 1ms/step - loss: 0.0028\n",
      "Epoch 33/1000\n",
      "25/25 [==============================] - 0s 1ms/step - loss: 0.0023\n",
      "Epoch 34/1000\n",
      "25/25 [==============================] - 0s 1ms/step - loss: 0.0023\n",
      "Epoch 35/1000\n",
      "25/25 [==============================] - 0s 1ms/step - loss: 0.0020\n",
      "Epoch 36/1000\n",
      "25/25 [==============================] - 0s 1ms/step - loss: 0.0018\n",
      "Epoch 37/1000\n",
      "25/25 [==============================] - 0s 1ms/step - loss: 0.0017\n",
      "Epoch 38/1000\n",
      "25/25 [==============================] - 0s 1ms/step - loss: 0.0023\n",
      "Epoch 39/1000\n",
      "25/25 [==============================] - 0s 1ms/step - loss: 0.0018\n",
      "Epoch 40/1000\n",
      "25/25 [==============================] - 0s 1ms/step - loss: 0.0019\n",
      "Epoch 41/1000\n",
      "25/25 [==============================] - 0s 1ms/step - loss: 0.0025\n",
      "Epoch 42/1000\n",
      "25/25 [==============================] - 0s 1ms/step - loss: 0.0016\n",
      "Epoch 43/1000\n",
      "25/25 [==============================] - 0s 1ms/step - loss: 0.0018\n",
      "Epoch 44/1000\n",
      "25/25 [==============================] - 0s 1ms/step - loss: 0.0017\n",
      "Epoch 45/1000\n",
      "25/25 [==============================] - 0s 1ms/step - loss: 0.0017\n",
      "Epoch 46/1000\n",
      "25/25 [==============================] - 0s 1ms/step - loss: 0.0019\n",
      "Epoch 47/1000\n",
      "25/25 [==============================] - 0s 1ms/step - loss: 0.0013\n",
      "Epoch 48/1000\n",
      "25/25 [==============================] - 0s 1ms/step - loss: 0.0013\n",
      "Epoch 49/1000\n",
      "25/25 [==============================] - 0s 1ms/step - loss: 0.0012\n",
      "Epoch 50/1000\n",
      "25/25 [==============================] - 0s 1ms/step - loss: 0.0012\n",
      "Epoch 51/1000\n",
      "25/25 [==============================] - 0s 1ms/step - loss: 0.0011\n",
      "Epoch 52/1000\n",
      "25/25 [==============================] - 0s 1ms/step - loss: 0.0012\n",
      "Epoch 53/1000\n",
      "25/25 [==============================] - 0s 1ms/step - loss: 0.0010\n",
      "Epoch 54/1000\n",
      "25/25 [==============================] - 0s 1ms/step - loss: 0.0011\n",
      "Epoch 55/1000\n",
      "25/25 [==============================] - 0s 1ms/step - loss: 0.0011\n",
      "Epoch 56/1000\n",
      "25/25 [==============================] - 0s 1ms/step - loss: 0.0012\n",
      "Epoch 57/1000\n",
      "25/25 [==============================] - 0s 1ms/step - loss: 7.8911e-04\n",
      "Epoch 58/1000\n",
      "25/25 [==============================] - 0s 1ms/step - loss: 0.0012\n",
      "Epoch 59/1000\n",
      "25/25 [==============================] - 0s 1ms/step - loss: 9.0813e-04\n",
      "Epoch 60/1000\n",
      "25/25 [==============================] - 0s 1ms/step - loss: 7.3298e-04\n",
      "Epoch 61/1000\n",
      "25/25 [==============================] - 0s 1ms/step - loss: 5.9615e-04\n",
      "Epoch 62/1000\n",
      "25/25 [==============================] - 0s 1ms/step - loss: 5.6547e-04\n",
      "Epoch 63/1000\n",
      "25/25 [==============================] - 0s 1ms/step - loss: 6.3367e-04\n",
      "Epoch 64/1000\n",
      "25/25 [==============================] - 0s 1ms/step - loss: 5.7714e-04\n",
      "Epoch 65/1000\n",
      "25/25 [==============================] - 0s 1ms/step - loss: 6.0002e-04\n",
      "Epoch 66/1000\n",
      "25/25 [==============================] - 0s 1ms/step - loss: 6.8628e-04\n",
      "Epoch 67/1000\n",
      "25/25 [==============================] - 0s 1ms/step - loss: 6.3744e-04\n",
      "Epoch 68/1000\n",
      "25/25 [==============================] - 0s 1ms/step - loss: 7.1404e-04\n",
      "Epoch 69/1000\n",
      "25/25 [==============================] - 0s 1ms/step - loss: 8.3487e-04\n",
      "Epoch 70/1000\n",
      "25/25 [==============================] - 0s 1ms/step - loss: 5.4757e-04\n",
      "Epoch 71/1000\n",
      "25/25 [==============================] - 0s 1ms/step - loss: 4.6250e-04\n",
      "Epoch 72/1000\n",
      "25/25 [==============================] - 0s 1ms/step - loss: 7.9497e-04\n",
      "Epoch 73/1000\n",
      "25/25 [==============================] - 0s 1ms/step - loss: 4.7766e-04\n",
      "Epoch 74/1000\n",
      "25/25 [==============================] - 0s 1ms/step - loss: 5.7637e-04\n",
      "Epoch 75/1000\n",
      "25/25 [==============================] - 0s 1ms/step - loss: 4.6526e-04\n",
      "Epoch 76/1000\n",
      "25/25 [==============================] - 0s 1ms/step - loss: 5.2945e-04\n",
      "Epoch 77/1000\n",
      "25/25 [==============================] - 0s 1ms/step - loss: 3.7806e-04\n",
      "Epoch 78/1000\n",
      "25/25 [==============================] - 0s 1ms/step - loss: 4.0484e-04\n",
      "Epoch 79/1000\n",
      "25/25 [==============================] - 0s 1ms/step - loss: 3.5813e-04\n",
      "Epoch 80/1000\n",
      "25/25 [==============================] - 0s 1ms/step - loss: 2.9680e-04\n",
      "Epoch 81/1000\n",
      "25/25 [==============================] - 0s 1ms/step - loss: 4.6775e-04\n",
      "Epoch 82/1000\n",
      "25/25 [==============================] - 0s 1ms/step - loss: 3.1159e-04\n",
      "Epoch 83/1000\n",
      "25/25 [==============================] - 0s 1ms/step - loss: 4.6621e-04\n",
      "Epoch 84/1000\n",
      "25/25 [==============================] - 0s 1000us/step - loss: 2.7654e-04\n",
      "Epoch 85/1000\n",
      "25/25 [==============================] - 0s 1ms/step - loss: 2.3883e-04\n",
      "Epoch 86/1000\n",
      "25/25 [==============================] - 0s 1ms/step - loss: 3.3480e-04\n",
      "Epoch 87/1000\n",
      "25/25 [==============================] - 0s 1ms/step - loss: 2.4797e-04\n",
      "Epoch 88/1000\n",
      "25/25 [==============================] - 0s 1ms/step - loss: 7.0549e-04\n",
      "Epoch 89/1000\n",
      "25/25 [==============================] - 0s 1ms/step - loss: 3.2947e-04\n",
      "Epoch 90/1000\n",
      "25/25 [==============================] - 0s 1ms/step - loss: 2.9881e-04\n",
      "Epoch 91/1000\n",
      "25/25 [==============================] - 0s 1ms/step - loss: 2.8900e-04\n",
      "Epoch 92/1000\n",
      "25/25 [==============================] - 0s 1ms/step - loss: 2.7090e-04\n",
      "Epoch 93/1000\n",
      "25/25 [==============================] - 0s 1ms/step - loss: 2.4814e-04\n",
      "Epoch 94/1000\n",
      "25/25 [==============================] - 0s 1ms/step - loss: 3.6173e-04\n",
      "Epoch 95/1000\n",
      "25/25 [==============================] - 0s 1ms/step - loss: 2.0215e-04\n",
      "Epoch 96/1000\n",
      "25/25 [==============================] - 0s 1ms/step - loss: 3.6124e-04\n",
      "Epoch 97/1000\n",
      "25/25 [==============================] - 0s 1ms/step - loss: 3.0101e-04\n",
      "Epoch 98/1000\n",
      "25/25 [==============================] - 0s 1ms/step - loss: 3.0520e-04\n",
      "Epoch 99/1000\n",
      "25/25 [==============================] - 0s 1ms/step - loss: 3.4659e-04\n",
      "Epoch 100/1000\n",
      "25/25 [==============================] - 0s 1ms/step - loss: 2.2734e-04\n",
      "Epoch 101/1000\n",
      "25/25 [==============================] - 0s 1ms/step - loss: 1.8696e-04\n",
      "Epoch 102/1000\n",
      "25/25 [==============================] - 0s 1ms/step - loss: 2.3594e-04\n",
      "Epoch 103/1000\n",
      "25/25 [==============================] - 0s 1ms/step - loss: 2.6655e-04\n",
      "Epoch 104/1000\n",
      "25/25 [==============================] - 0s 1ms/step - loss: 1.9438e-04\n",
      "Epoch 105/1000\n",
      "25/25 [==============================] - 0s 1ms/step - loss: 2.0994e-04\n",
      "Epoch 106/1000\n",
      "25/25 [==============================] - 0s 1ms/step - loss: 1.9623e-04\n",
      "Epoch 107/1000\n",
      "25/25 [==============================] - 0s 1ms/step - loss: 2.1554e-04\n",
      "Epoch 108/1000\n",
      "25/25 [==============================] - 0s 1ms/step - loss: 3.7257e-04\n",
      "Epoch 109/1000\n",
      "25/25 [==============================] - 0s 1ms/step - loss: 2.5714e-04\n",
      "Epoch 110/1000\n",
      "25/25 [==============================] - 0s 1ms/step - loss: 3.4528e-04\n",
      "Epoch 111/1000\n",
      "25/25 [==============================] - 0s 1ms/step - loss: 3.1219e-04\n",
      "Epoch 112/1000\n",
      "25/25 [==============================] - 0s 1ms/step - loss: 1.9307e-04\n",
      "Epoch 113/1000\n",
      "25/25 [==============================] - 0s 1ms/step - loss: 1.7740e-04\n",
      "Epoch 114/1000\n",
      "25/25 [==============================] - 0s 1ms/step - loss: 3.0337e-04\n",
      "Epoch 115/1000\n",
      "25/25 [==============================] - 0s 1ms/step - loss: 2.8404e-04\n",
      "Epoch 116/1000\n",
      "25/25 [==============================] - 0s 1ms/step - loss: 2.3247e-04\n",
      "Epoch 117/1000\n",
      "25/25 [==============================] - 0s 1ms/step - loss: 2.3583e-04\n",
      "Epoch 118/1000\n",
      "25/25 [==============================] - 0s 1ms/step - loss: 2.0867e-04\n",
      "Epoch 119/1000\n",
      "25/25 [==============================] - 0s 1ms/step - loss: 2.5118e-04\n",
      "Epoch 120/1000\n",
      "25/25 [==============================] - 0s 1ms/step - loss: 4.6894e-04\n",
      "Epoch 121/1000\n",
      "25/25 [==============================] - 0s 1ms/step - loss: 1.7837e-04\n",
      "Epoch 122/1000\n",
      "25/25 [==============================] - 0s 1ms/step - loss: 1.5949e-04\n",
      "Epoch 123/1000\n",
      "25/25 [==============================] - 0s 1ms/step - loss: 1.7230e-04\n",
      "Epoch 124/1000\n",
      "25/25 [==============================] - 0s 1ms/step - loss: 2.1743e-04\n",
      "Epoch 125/1000\n",
      "25/25 [==============================] - 0s 2ms/step - loss: 2.4934e-04\n",
      "Epoch 126/1000\n",
      "25/25 [==============================] - 0s 1ms/step - loss: 2.1713e-04\n",
      "Epoch 127/1000\n",
      "25/25 [==============================] - 0s 1ms/step - loss: 1.4598e-04\n",
      "Epoch 128/1000\n",
      "25/25 [==============================] - 0s 1ms/step - loss: 1.7202e-04\n",
      "Epoch 129/1000\n",
      "25/25 [==============================] - 0s 1ms/step - loss: 1.8389e-04\n",
      "Epoch 130/1000\n",
      "25/25 [==============================] - 0s 1ms/step - loss: 3.5495e-04\n",
      "Epoch 131/1000\n",
      "25/25 [==============================] - 0s 1ms/step - loss: 2.2940e-04\n",
      "Epoch 132/1000\n",
      "25/25 [==============================] - 0s 1ms/step - loss: 2.0740e-04\n",
      "Epoch 133/1000\n",
      "25/25 [==============================] - 0s 1ms/step - loss: 2.3717e-04\n",
      "Epoch 134/1000\n",
      "25/25 [==============================] - 0s 1ms/step - loss: 1.7456e-04\n",
      "Epoch 135/1000\n",
      "25/25 [==============================] - 0s 1ms/step - loss: 1.4636e-04\n",
      "Epoch 136/1000\n",
      "25/25 [==============================] - 0s 1ms/step - loss: 2.0044e-04\n",
      "Epoch 137/1000\n",
      "25/25 [==============================] - 0s 1ms/step - loss: 2.2407e-04\n",
      "Epoch 138/1000\n",
      "25/25 [==============================] - 0s 1ms/step - loss: 4.6897e-04\n",
      "Epoch 139/1000\n",
      "25/25 [==============================] - 0s 1ms/step - loss: 5.4308e-04\n",
      "Epoch 140/1000\n",
      "25/25 [==============================] - 0s 1ms/step - loss: 4.2610e-04\n",
      "Epoch 141/1000\n",
      "25/25 [==============================] - 0s 1ms/step - loss: 2.6647e-04\n",
      "Epoch 142/1000\n",
      "25/25 [==============================] - 0s 1ms/step - loss: 2.3161e-04\n",
      "Epoch 143/1000\n",
      "25/25 [==============================] - 0s 1ms/step - loss: 2.3455e-04\n",
      "Epoch 144/1000\n",
      "25/25 [==============================] - 0s 1ms/step - loss: 1.8161e-04\n",
      "Epoch 145/1000\n",
      "25/25 [==============================] - 0s 1ms/step - loss: 4.2903e-04\n",
      "Epoch 146/1000\n",
      "25/25 [==============================] - 0s 1ms/step - loss: 4.5337e-04\n",
      "Epoch 147/1000\n",
      "25/25 [==============================] - 0s 1ms/step - loss: 3.7938e-04\n",
      "Epoch 148/1000\n",
      "25/25 [==============================] - 0s 1ms/step - loss: 2.4435e-04\n",
      "Epoch 149/1000\n",
      "25/25 [==============================] - 0s 1ms/step - loss: 2.2362e-04\n",
      "Epoch 150/1000\n",
      "25/25 [==============================] - 0s 1ms/step - loss: 3.0799e-04\n",
      "Epoch 151/1000\n",
      "25/25 [==============================] - 0s 1ms/step - loss: 1.9720e-04\n",
      "Epoch 152/1000\n",
      "25/25 [==============================] - 0s 1ms/step - loss: 1.4165e-04\n",
      "Epoch 153/1000\n",
      "25/25 [==============================] - 0s 1ms/step - loss: 1.6217e-04\n",
      "Epoch 154/1000\n",
      "25/25 [==============================] - 0s 1ms/step - loss: 1.2255e-04\n",
      "Epoch 155/1000\n",
      "25/25 [==============================] - 0s 1ms/step - loss: 1.4519e-04\n",
      "Epoch 156/1000\n",
      "25/25 [==============================] - 0s 1ms/step - loss: 1.8751e-04\n",
      "Epoch 157/1000\n",
      "25/25 [==============================] - 0s 1ms/step - loss: 2.4500e-04\n",
      "Epoch 158/1000\n",
      "25/25 [==============================] - 0s 1ms/step - loss: 2.6675e-04\n",
      "Epoch 159/1000\n",
      "25/25 [==============================] - 0s 1ms/step - loss: 1.6007e-04\n",
      "Epoch 160/1000\n",
      "25/25 [==============================] - 0s 1ms/step - loss: 1.3745e-04\n",
      "Epoch 161/1000\n",
      "25/25 [==============================] - 0s 1ms/step - loss: 1.3823e-04\n",
      "Epoch 162/1000\n",
      "25/25 [==============================] - 0s 1ms/step - loss: 2.4453e-04\n",
      "Epoch 163/1000\n",
      "25/25 [==============================] - 0s 1ms/step - loss: 2.1065e-04\n",
      "Epoch 164/1000\n",
      "25/25 [==============================] - 0s 1ms/step - loss: 2.1414e-04\n",
      "Epoch 165/1000\n",
      "25/25 [==============================] - 0s 1ms/step - loss: 4.0237e-04\n",
      "Epoch 166/1000\n",
      "25/25 [==============================] - 0s 1ms/step - loss: 2.2172e-04\n",
      "Epoch 167/1000\n",
      "25/25 [==============================] - 0s 1ms/step - loss: 2.1464e-04\n",
      "Epoch 168/1000\n",
      "25/25 [==============================] - 0s 1ms/step - loss: 1.2746e-04\n",
      "Epoch 169/1000\n",
      "25/25 [==============================] - 0s 1ms/step - loss: 1.7023e-04\n",
      "Epoch 170/1000\n",
      "25/25 [==============================] - 0s 1ms/step - loss: 1.5842e-04\n",
      "Epoch 171/1000\n",
      "25/25 [==============================] - 0s 1ms/step - loss: 1.8268e-04\n",
      "Epoch 172/1000\n",
      "25/25 [==============================] - 0s 1ms/step - loss: 1.7093e-04\n",
      "Epoch 173/1000\n",
      "25/25 [==============================] - 0s 1ms/step - loss: 2.1134e-04\n",
      "Epoch 174/1000\n",
      "25/25 [==============================] - 0s 2ms/step - loss: 1.8232e-04\n",
      "Epoch 175/1000\n",
      "25/25 [==============================] - 0s 1ms/step - loss: 2.9602e-04\n",
      "Epoch 176/1000\n",
      "25/25 [==============================] - 0s 1ms/step - loss: 4.4322e-04\n",
      "Epoch 177/1000\n",
      "25/25 [==============================] - 0s 1ms/step - loss: 3.2631e-04\n",
      "Epoch 178/1000\n",
      "25/25 [==============================] - 0s 1ms/step - loss: 2.1872e-04\n",
      "Epoch 179/1000\n",
      "25/25 [==============================] - 0s 1ms/step - loss: 2.3831e-04\n",
      "Epoch 180/1000\n",
      "25/25 [==============================] - 0s 1ms/step - loss: 1.7645e-04\n",
      "Epoch 181/1000\n",
      "25/25 [==============================] - 0s 1ms/step - loss: 2.0211e-04\n",
      "Epoch 182/1000\n",
      "25/25 [==============================] - 0s 1ms/step - loss: 1.8914e-04\n",
      "Epoch 183/1000\n",
      "25/25 [==============================] - 0s 1ms/step - loss: 1.2404e-04\n",
      "Epoch 184/1000\n",
      "25/25 [==============================] - 0s 1ms/step - loss: 2.9476e-04\n",
      "Epoch 185/1000\n",
      "25/25 [==============================] - 0s 1ms/step - loss: 2.6001e-04\n",
      "Epoch 186/1000\n",
      "25/25 [==============================] - 0s 1ms/step - loss: 2.4137e-04\n",
      "Epoch 187/1000\n",
      "25/25 [==============================] - 0s 1ms/step - loss: 1.3996e-04\n",
      "Epoch 188/1000\n",
      "25/25 [==============================] - 0s 1ms/step - loss: 1.3979e-04\n",
      "Epoch 189/1000\n",
      "25/25 [==============================] - 0s 1ms/step - loss: 1.3594e-04\n",
      "Epoch 190/1000\n",
      "25/25 [==============================] - 0s 1ms/step - loss: 2.5655e-04\n",
      "Epoch 191/1000\n",
      "25/25 [==============================] - 0s 1ms/step - loss: 1.6133e-04\n",
      "Epoch 192/1000\n",
      "25/25 [==============================] - 0s 1ms/step - loss: 2.1668e-04\n",
      "Epoch 193/1000\n",
      "25/25 [==============================] - 0s 1ms/step - loss: 3.9945e-04\n",
      "Epoch 194/1000\n",
      "25/25 [==============================] - 0s 1ms/step - loss: 2.6570e-04\n",
      "Epoch 195/1000\n",
      "25/25 [==============================] - 0s 1ms/step - loss: 2.3094e-04\n",
      "Epoch 196/1000\n",
      "25/25 [==============================] - 0s 1ms/step - loss: 1.4154e-04\n",
      "Epoch 197/1000\n",
      "25/25 [==============================] - 0s 1ms/step - loss: 1.4592e-04\n",
      "Epoch 198/1000\n",
      "25/25 [==============================] - 0s 1ms/step - loss: 1.4883e-04\n",
      "Epoch 199/1000\n",
      "25/25 [==============================] - 0s 1ms/step - loss: 2.5082e-04\n",
      "Epoch 200/1000\n",
      "25/25 [==============================] - 0s 1ms/step - loss: 2.7621e-04\n",
      "Epoch 201/1000\n",
      "25/25 [==============================] - 0s 1ms/step - loss: 1.6656e-04\n",
      "Epoch 202/1000\n",
      "25/25 [==============================] - 0s 1ms/step - loss: 2.2215e-04\n",
      "Epoch 203/1000\n",
      "25/25 [==============================] - 0s 1ms/step - loss: 5.1865e-04\n",
      "Epoch 204/1000\n",
      "25/25 [==============================] - 0s 1ms/step - loss: 4.8924e-04\n",
      "Epoch 205/1000\n",
      "25/25 [==============================] - 0s 1ms/step - loss: 2.5603e-04\n",
      "Epoch 206/1000\n",
      "25/25 [==============================] - 0s 1ms/step - loss: 3.4442e-04\n",
      "Epoch 207/1000\n",
      "25/25 [==============================] - 0s 1ms/step - loss: 1.8859e-04\n",
      "Epoch 208/1000\n",
      "25/25 [==============================] - 0s 1ms/step - loss: 1.5485e-04\n",
      "Epoch 209/1000\n",
      "25/25 [==============================] - 0s 1ms/step - loss: 4.7071e-04\n",
      "Epoch 210/1000\n",
      "25/25 [==============================] - 0s 1ms/step - loss: 2.3669e-04\n",
      "Epoch 211/1000\n",
      "25/25 [==============================] - 0s 1ms/step - loss: 1.4014e-04\n",
      "Epoch 212/1000\n",
      "25/25 [==============================] - 0s 1ms/step - loss: 2.1564e-04\n",
      "Epoch 213/1000\n",
      "25/25 [==============================] - 0s 1ms/step - loss: 2.0849e-04\n",
      "Epoch 214/1000\n",
      "25/25 [==============================] - 0s 1ms/step - loss: 1.8046e-04\n",
      "Epoch 215/1000\n",
      "25/25 [==============================] - 0s 1ms/step - loss: 1.5550e-04\n",
      "Epoch 216/1000\n",
      "25/25 [==============================] - 0s 1ms/step - loss: 1.4439e-04\n",
      "Epoch 217/1000\n",
      "25/25 [==============================] - 0s 1ms/step - loss: 1.2370e-04\n",
      "Epoch 218/1000\n",
      "25/25 [==============================] - 0s 1ms/step - loss: 1.2968e-04\n",
      "Epoch 219/1000\n",
      "25/25 [==============================] - 0s 1ms/step - loss: 2.0371e-04\n",
      "Epoch 220/1000\n",
      "25/25 [==============================] - 0s 1ms/step - loss: 1.9548e-04\n",
      "Epoch 221/1000\n",
      "25/25 [==============================] - 0s 1ms/step - loss: 1.2203e-04\n",
      "Epoch 222/1000\n",
      "25/25 [==============================] - 0s 1ms/step - loss: 1.5480e-04\n",
      "Epoch 223/1000\n",
      "25/25 [==============================] - 0s 1ms/step - loss: 2.9658e-04\n",
      "Epoch 224/1000\n",
      "25/25 [==============================] - 0s 1ms/step - loss: 3.1874e-04\n",
      "Epoch 225/1000\n",
      "25/25 [==============================] - 0s 1ms/step - loss: 4.2446e-04\n",
      "Epoch 226/1000\n",
      "25/25 [==============================] - 0s 1ms/step - loss: 2.7405e-04\n",
      "Epoch 227/1000\n",
      "25/25 [==============================] - 0s 1ms/step - loss: 3.4335e-04\n",
      "Epoch 228/1000\n",
      "25/25 [==============================] - 0s 1ms/step - loss: 3.3266e-04\n",
      "Epoch 229/1000\n",
      "25/25 [==============================] - 0s 1ms/step - loss: 4.7222e-04\n",
      "Epoch 230/1000\n",
      "25/25 [==============================] - 0s 1ms/step - loss: 2.0975e-04\n",
      "Epoch 231/1000\n",
      "25/25 [==============================] - 0s 1ms/step - loss: 1.6359e-04\n",
      "Epoch 232/1000\n",
      "25/25 [==============================] - 0s 1ms/step - loss: 3.0967e-04\n",
      "Epoch 233/1000\n",
      "25/25 [==============================] - 0s 1ms/step - loss: 2.2054e-04\n",
      "Epoch 234/1000\n",
      "25/25 [==============================] - 0s 1ms/step - loss: 2.2829e-04\n",
      "Epoch 235/1000\n",
      "25/25 [==============================] - 0s 2ms/step - loss: 2.2606e-04\n",
      "Epoch 236/1000\n",
      "25/25 [==============================] - 0s 1ms/step - loss: 1.8522e-04\n",
      "Epoch 237/1000\n",
      "25/25 [==============================] - 0s 1ms/step - loss: 1.6834e-04\n",
      "Epoch 238/1000\n",
      "25/25 [==============================] - 0s 1ms/step - loss: 2.2361e-04\n",
      "Epoch 239/1000\n",
      "25/25 [==============================] - 0s 1ms/step - loss: 1.5584e-04\n",
      "Epoch 240/1000\n",
      "25/25 [==============================] - 0s 1ms/step - loss: 3.3927e-04\n",
      "Epoch 241/1000\n",
      "25/25 [==============================] - 0s 1ms/step - loss: 3.9570e-04\n",
      "Epoch 242/1000\n",
      "25/25 [==============================] - 0s 1ms/step - loss: 4.8537e-04\n",
      "Epoch 243/1000\n",
      "25/25 [==============================] - 0s 1ms/step - loss: 2.6375e-04\n",
      "Epoch 244/1000\n",
      "25/25 [==============================] - 0s 1ms/step - loss: 2.0224e-04\n",
      "Epoch 245/1000\n",
      "25/25 [==============================] - 0s 1ms/step - loss: 4.8712e-04\n",
      "Epoch 246/1000\n",
      "25/25 [==============================] - 0s 1ms/step - loss: 3.4392e-04\n",
      "Epoch 247/1000\n",
      "25/25 [==============================] - 0s 1ms/step - loss: 1.9986e-04\n",
      "Epoch 248/1000\n",
      "25/25 [==============================] - 0s 1ms/step - loss: 2.0578e-04\n",
      "Epoch 249/1000\n",
      "25/25 [==============================] - 0s 1ms/step - loss: 1.3652e-04\n",
      "Epoch 250/1000\n",
      "25/25 [==============================] - 0s 1ms/step - loss: 1.4793e-04\n",
      "Epoch 251/1000\n",
      "25/25 [==============================] - 0s 1ms/step - loss: 9.5365e-05\n",
      "Epoch 252/1000\n",
      "25/25 [==============================] - 0s 1ms/step - loss: 1.1083e-04\n",
      "Epoch 253/1000\n",
      "25/25 [==============================] - 0s 1ms/step - loss: 1.2417e-04\n",
      "Epoch 254/1000\n",
      "25/25 [==============================] - 0s 1ms/step - loss: 9.1334e-05\n",
      "Epoch 255/1000\n",
      "25/25 [==============================] - 0s 1ms/step - loss: 1.3055e-04\n",
      "Epoch 256/1000\n",
      "25/25 [==============================] - 0s 1ms/step - loss: 1.2338e-04\n",
      "Epoch 257/1000\n",
      "25/25 [==============================] - 0s 1ms/step - loss: 1.8112e-04\n",
      "Epoch 258/1000\n",
      "25/25 [==============================] - 0s 1ms/step - loss: 1.5135e-04\n",
      "Epoch 259/1000\n",
      "25/25 [==============================] - 0s 1ms/step - loss: 2.8447e-04\n",
      "Epoch 260/1000\n",
      "25/25 [==============================] - 0s 1ms/step - loss: 2.8931e-04\n",
      "Epoch 261/1000\n",
      "25/25 [==============================] - 0s 1ms/step - loss: 2.7790e-04\n",
      "Epoch 262/1000\n",
      "25/25 [==============================] - 0s 1ms/step - loss: 2.0384e-04\n",
      "Epoch 263/1000\n",
      "25/25 [==============================] - 0s 1ms/step - loss: 2.1113e-04\n",
      "Epoch 264/1000\n",
      "25/25 [==============================] - 0s 1ms/step - loss: 2.1022e-04\n",
      "Epoch 265/1000\n",
      "25/25 [==============================] - 0s 1ms/step - loss: 1.9853e-04\n",
      "Epoch 266/1000\n",
      "25/25 [==============================] - 0s 1ms/step - loss: 1.6622e-04\n",
      "Epoch 267/1000\n",
      "25/25 [==============================] - 0s 1ms/step - loss: 2.4765e-04\n",
      "Epoch 268/1000\n",
      "25/25 [==============================] - 0s 1ms/step - loss: 2.2625e-04\n",
      "Epoch 269/1000\n",
      "25/25 [==============================] - 0s 1ms/step - loss: 3.3847e-04\n",
      "Epoch 270/1000\n",
      "25/25 [==============================] - 0s 1ms/step - loss: 4.2539e-04\n",
      "Epoch 271/1000\n",
      "25/25 [==============================] - 0s 1ms/step - loss: 3.0510e-04\n",
      "Epoch 272/1000\n",
      "25/25 [==============================] - 0s 1ms/step - loss: 7.0958e-04\n",
      "Epoch 273/1000\n",
      "25/25 [==============================] - 0s 1ms/step - loss: 7.7920e-04\n",
      "Epoch 274/1000\n",
      "25/25 [==============================] - 0s 1ms/step - loss: 6.1422e-04\n",
      "Epoch 275/1000\n",
      "25/25 [==============================] - 0s 1ms/step - loss: 4.4280e-04\n",
      "Epoch 276/1000\n",
      "25/25 [==============================] - 0s 1ms/step - loss: 7.3119e-04\n",
      "Epoch 277/1000\n",
      "25/25 [==============================] - 0s 1ms/step - loss: 4.7065e-04\n",
      "Epoch 278/1000\n",
      "25/25 [==============================] - 0s 1ms/step - loss: 2.7151e-04\n",
      "Epoch 279/1000\n",
      "25/25 [==============================] - 0s 1ms/step - loss: 2.9655e-04\n",
      "Epoch 280/1000\n",
      "25/25 [==============================] - 0s 1ms/step - loss: 2.0862e-04\n",
      "Epoch 281/1000\n",
      "25/25 [==============================] - 0s 1ms/step - loss: 1.6650e-04\n",
      "Epoch 282/1000\n",
      "25/25 [==============================] - 0s 1ms/step - loss: 1.6969e-04\n",
      "Epoch 283/1000\n",
      "25/25 [==============================] - 0s 1ms/step - loss: 2.5325e-04\n",
      "Epoch 284/1000\n",
      "25/25 [==============================] - 0s 1ms/step - loss: 1.5891e-04\n",
      "Epoch 285/1000\n",
      "25/25 [==============================] - 0s 1ms/step - loss: 2.1129e-04\n",
      "Epoch 286/1000\n",
      "25/25 [==============================] - 0s 1ms/step - loss: 3.4931e-04\n",
      "Epoch 287/1000\n",
      "25/25 [==============================] - 0s 1ms/step - loss: 2.1341e-04\n",
      "Epoch 288/1000\n",
      "25/25 [==============================] - 0s 1ms/step - loss: 1.6066e-04\n",
      "Epoch 289/1000\n",
      "25/25 [==============================] - 0s 2ms/step - loss: 1.8528e-04\n",
      "Epoch 290/1000\n",
      "25/25 [==============================] - 0s 1ms/step - loss: 1.5821e-04\n",
      "Epoch 291/1000\n",
      "25/25 [==============================] - 0s 1ms/step - loss: 2.2644e-04\n",
      "Epoch 292/1000\n",
      "25/25 [==============================] - 0s 1ms/step - loss: 1.9780e-04\n",
      "Epoch 293/1000\n",
      "25/25 [==============================] - 0s 1ms/step - loss: 1.7857e-04\n",
      "Epoch 294/1000\n",
      "25/25 [==============================] - 0s 1ms/step - loss: 1.6382e-04\n",
      "Epoch 295/1000\n",
      "25/25 [==============================] - 0s 1ms/step - loss: 1.5332e-04\n",
      "Epoch 296/1000\n",
      "25/25 [==============================] - 0s 1ms/step - loss: 8.3238e-05\n",
      "Epoch 297/1000\n",
      "25/25 [==============================] - 0s 1ms/step - loss: 8.9837e-05\n",
      "Epoch 298/1000\n",
      "25/25 [==============================] - 0s 1ms/step - loss: 2.3634e-04\n",
      "Epoch 299/1000\n",
      "25/25 [==============================] - 0s 1ms/step - loss: 3.0443e-04\n",
      "Epoch 300/1000\n",
      "25/25 [==============================] - 0s 1ms/step - loss: 1.8176e-04\n",
      "Epoch 301/1000\n",
      "25/25 [==============================] - 0s 1ms/step - loss: 1.5819e-04\n",
      "Epoch 302/1000\n",
      "25/25 [==============================] - 0s 1ms/step - loss: 2.4635e-04\n",
      "Epoch 303/1000\n",
      "25/25 [==============================] - 0s 1ms/step - loss: 2.7453e-04\n",
      "Epoch 304/1000\n",
      "25/25 [==============================] - 0s 1ms/step - loss: 3.5571e-04\n",
      "Epoch 305/1000\n",
      "25/25 [==============================] - 0s 1ms/step - loss: 1.9637e-04\n",
      "Epoch 306/1000\n",
      "25/25 [==============================] - 0s 1ms/step - loss: 1.1092e-04\n",
      "Epoch 307/1000\n",
      "25/25 [==============================] - 0s 1ms/step - loss: 8.1804e-05\n",
      "Epoch 308/1000\n",
      "25/25 [==============================] - 0s 1ms/step - loss: 1.1575e-04\n",
      "Epoch 309/1000\n",
      "25/25 [==============================] - 0s 1ms/step - loss: 9.0876e-05\n",
      "Epoch 310/1000\n",
      "25/25 [==============================] - 0s 1ms/step - loss: 9.0008e-05\n",
      "Epoch 311/1000\n",
      "25/25 [==============================] - 0s 1ms/step - loss: 1.2519e-04\n",
      "Epoch 312/1000\n",
      "25/25 [==============================] - 0s 1ms/step - loss: 1.4085e-04\n",
      "Epoch 313/1000\n",
      "25/25 [==============================] - 0s 1ms/step - loss: 1.0077e-04\n",
      "Epoch 314/1000\n",
      "25/25 [==============================] - 0s 1ms/step - loss: 8.7889e-05\n",
      "Epoch 315/1000\n",
      "25/25 [==============================] - 0s 1ms/step - loss: 9.2729e-05\n",
      "Epoch 316/1000\n",
      "25/25 [==============================] - 0s 1ms/step - loss: 1.4854e-04\n",
      "Epoch 317/1000\n",
      "25/25 [==============================] - 0s 1ms/step - loss: 2.4114e-04\n",
      "Epoch 318/1000\n",
      "25/25 [==============================] - 0s 1ms/step - loss: 1.1048e-04\n",
      "Epoch 319/1000\n",
      "25/25 [==============================] - 0s 1ms/step - loss: 1.3768e-04\n",
      "Epoch 320/1000\n",
      "25/25 [==============================] - 0s 1ms/step - loss: 1.4692e-04\n",
      "Epoch 321/1000\n",
      "25/25 [==============================] - 0s 1ms/step - loss: 1.6201e-04\n",
      "Epoch 322/1000\n",
      "25/25 [==============================] - 0s 2ms/step - loss: 1.1257e-04\n",
      "Epoch 323/1000\n",
      "25/25 [==============================] - 0s 1ms/step - loss: 1.2850e-04\n",
      "Epoch 324/1000\n",
      "25/25 [==============================] - 0s 1ms/step - loss: 8.0780e-05\n",
      "Epoch 325/1000\n",
      "25/25 [==============================] - 0s 1ms/step - loss: 9.3397e-05\n",
      "Epoch 326/1000\n",
      "25/25 [==============================] - 0s 1ms/step - loss: 1.3374e-04\n",
      "Epoch 327/1000\n",
      "25/25 [==============================] - 0s 1ms/step - loss: 1.4036e-04\n",
      "Epoch 328/1000\n",
      "25/25 [==============================] - 0s 1ms/step - loss: 1.8768e-04\n",
      "Epoch 329/1000\n",
      "25/25 [==============================] - 0s 1ms/step - loss: 1.6951e-04\n",
      "Epoch 330/1000\n",
      "25/25 [==============================] - 0s 1ms/step - loss: 1.1552e-04\n",
      "Epoch 331/1000\n",
      "25/25 [==============================] - 0s 1ms/step - loss: 7.6688e-05\n",
      "Epoch 332/1000\n",
      "25/25 [==============================] - 0s 1ms/step - loss: 9.3947e-05\n",
      "Epoch 333/1000\n",
      "25/25 [==============================] - 0s 1ms/step - loss: 1.6308e-04\n",
      "Epoch 334/1000\n",
      "25/25 [==============================] - 0s 1ms/step - loss: 1.0988e-04\n",
      "Epoch 335/1000\n",
      "25/25 [==============================] - 0s 1ms/step - loss: 1.4677e-04\n",
      "Epoch 336/1000\n",
      "25/25 [==============================] - 0s 1ms/step - loss: 1.7089e-04\n",
      "Epoch 337/1000\n",
      "25/25 [==============================] - 0s 1ms/step - loss: 2.7441e-04\n",
      "Epoch 338/1000\n",
      "25/25 [==============================] - 0s 1ms/step - loss: 1.5513e-04\n",
      "Epoch 339/1000\n",
      "25/25 [==============================] - 0s 1ms/step - loss: 1.5547e-04\n",
      "Epoch 340/1000\n",
      "25/25 [==============================] - 0s 1ms/step - loss: 1.2472e-04\n",
      "Epoch 341/1000\n",
      "25/25 [==============================] - 0s 1ms/step - loss: 2.0616e-04\n",
      "Epoch 342/1000\n",
      "25/25 [==============================] - 0s 1ms/step - loss: 2.0145e-04\n",
      "Epoch 343/1000\n",
      "25/25 [==============================] - 0s 1ms/step - loss: 2.9733e-04\n",
      "Epoch 344/1000\n",
      "25/25 [==============================] - 0s 1ms/step - loss: 3.7685e-04\n",
      "Epoch 345/1000\n",
      "25/25 [==============================] - 0s 1ms/step - loss: 2.2235e-04\n",
      "Epoch 346/1000\n",
      "25/25 [==============================] - 0s 1ms/step - loss: 1.5005e-04\n",
      "Epoch 347/1000\n",
      "25/25 [==============================] - 0s 1ms/step - loss: 1.6441e-04\n",
      "Epoch 348/1000\n",
      "25/25 [==============================] - 0s 1ms/step - loss: 9.7663e-05\n",
      "Epoch 349/1000\n",
      "25/25 [==============================] - 0s 1ms/step - loss: 1.1152e-04\n",
      "Epoch 350/1000\n",
      "25/25 [==============================] - 0s 1ms/step - loss: 1.4451e-04\n",
      "Epoch 351/1000\n",
      "25/25 [==============================] - 0s 1ms/step - loss: 1.4636e-04\n",
      "Epoch 352/1000\n",
      "25/25 [==============================] - 0s 1ms/step - loss: 8.4401e-05\n",
      "Epoch 353/1000\n",
      "25/25 [==============================] - 0s 1ms/step - loss: 1.5962e-04\n",
      "Epoch 354/1000\n",
      "25/25 [==============================] - 0s 1ms/step - loss: 2.4765e-04\n",
      "Epoch 355/1000\n",
      "25/25 [==============================] - 0s 1ms/step - loss: 1.1443e-04\n",
      "Epoch 356/1000\n",
      "25/25 [==============================] - 0s 1ms/step - loss: 8.6694e-05\n",
      "Epoch 357/1000\n",
      "25/25 [==============================] - 0s 1ms/step - loss: 1.5132e-04\n",
      "Epoch 358/1000\n",
      "25/25 [==============================] - 0s 1ms/step - loss: 2.9800e-04\n",
      "Epoch 359/1000\n",
      "25/25 [==============================] - 0s 1ms/step - loss: 2.5466e-04\n",
      "Epoch 360/1000\n",
      "25/25 [==============================] - 0s 1ms/step - loss: 5.5952e-04\n",
      "Epoch 361/1000\n",
      "25/25 [==============================] - 0s 1ms/step - loss: 5.2328e-04\n",
      "Epoch 362/1000\n",
      "25/25 [==============================] - 0s 1ms/step - loss: 3.2337e-04\n",
      "Epoch 363/1000\n",
      "25/25 [==============================] - 0s 1ms/step - loss: 3.1512e-04\n",
      "Epoch 364/1000\n",
      "25/25 [==============================] - 0s 2ms/step - loss: 2.7267e-04\n",
      "Epoch 365/1000\n",
      "25/25 [==============================] - 0s 1ms/step - loss: 3.6182e-04\n",
      "Epoch 366/1000\n",
      "25/25 [==============================] - 0s 1ms/step - loss: 3.0846e-04\n",
      "Epoch 367/1000\n",
      "25/25 [==============================] - 0s 1ms/step - loss: 1.7976e-04\n",
      "Epoch 368/1000\n",
      "25/25 [==============================] - 0s 1ms/step - loss: 1.8213e-04\n",
      "Epoch 369/1000\n",
      "25/25 [==============================] - 0s 1ms/step - loss: 3.0106e-04\n",
      "Epoch 370/1000\n",
      "25/25 [==============================] - 0s 1ms/step - loss: 1.2926e-04\n",
      "Epoch 371/1000\n",
      "25/25 [==============================] - 0s 1ms/step - loss: 1.7477e-04\n",
      "Epoch 372/1000\n",
      "25/25 [==============================] - 0s 1ms/step - loss: 3.6493e-04\n",
      "Epoch 373/1000\n",
      "25/25 [==============================] - 0s 1ms/step - loss: 3.7349e-04\n",
      "Epoch 374/1000\n",
      "25/25 [==============================] - 0s 1ms/step - loss: 1.9017e-04\n",
      "Epoch 375/1000\n",
      "25/25 [==============================] - 0s 1ms/step - loss: 2.9630e-04\n",
      "Epoch 376/1000\n",
      "25/25 [==============================] - 0s 1ms/step - loss: 1.7879e-04\n",
      "Epoch 377/1000\n",
      "25/25 [==============================] - 0s 1ms/step - loss: 2.9002e-04\n",
      "Epoch 378/1000\n",
      "25/25 [==============================] - 0s 1ms/step - loss: 1.5545e-04\n",
      "Epoch 379/1000\n",
      "25/25 [==============================] - 0s 1ms/step - loss: 1.8039e-04\n",
      "Epoch 380/1000\n",
      "25/25 [==============================] - 0s 1ms/step - loss: 1.2075e-04\n",
      "Epoch 381/1000\n",
      "25/25 [==============================] - 0s 1ms/step - loss: 1.2136e-04\n",
      "Epoch 382/1000\n",
      "25/25 [==============================] - 0s 1ms/step - loss: 7.0645e-05\n",
      "Epoch 383/1000\n",
      "25/25 [==============================] - 0s 1ms/step - loss: 1.4916e-04\n",
      "Epoch 384/1000\n",
      "25/25 [==============================] - 0s 1ms/step - loss: 1.9095e-04\n",
      "Epoch 385/1000\n",
      "25/25 [==============================] - 0s 1ms/step - loss: 8.3294e-05\n",
      "Epoch 386/1000\n",
      "25/25 [==============================] - 0s 1ms/step - loss: 6.1428e-05\n",
      "Epoch 387/1000\n",
      "25/25 [==============================] - 0s 1ms/step - loss: 1.0744e-04\n",
      "Epoch 388/1000\n",
      "25/25 [==============================] - 0s 1ms/step - loss: 1.8114e-04\n",
      "Epoch 389/1000\n",
      "25/25 [==============================] - 0s 1ms/step - loss: 2.1341e-04\n",
      "Epoch 390/1000\n",
      "25/25 [==============================] - 0s 1ms/step - loss: 1.1436e-04\n",
      "Epoch 391/1000\n",
      "25/25 [==============================] - 0s 1ms/step - loss: 8.5906e-05\n",
      "Epoch 392/1000\n",
      "25/25 [==============================] - 0s 1ms/step - loss: 1.3729e-04\n",
      "Epoch 393/1000\n",
      "25/25 [==============================] - 0s 1ms/step - loss: 1.6605e-04\n",
      "Epoch 394/1000\n",
      "25/25 [==============================] - 0s 1ms/step - loss: 1.5653e-04\n",
      "Epoch 395/1000\n",
      "25/25 [==============================] - 0s 1ms/step - loss: 1.4174e-04\n",
      "Epoch 396/1000\n",
      "25/25 [==============================] - 0s 1ms/step - loss: 7.8914e-05\n",
      "Epoch 397/1000\n",
      "25/25 [==============================] - 0s 1ms/step - loss: 8.0308e-05\n",
      "Epoch 398/1000\n",
      "25/25 [==============================] - 0s 1ms/step - loss: 8.4971e-05\n",
      "Epoch 399/1000\n",
      "25/25 [==============================] - 0s 1ms/step - loss: 1.2564e-04\n",
      "Epoch 400/1000\n",
      "25/25 [==============================] - 0s 1ms/step - loss: 1.1453e-04\n",
      "Epoch 401/1000\n",
      "25/25 [==============================] - 0s 1ms/step - loss: 9.4322e-05\n",
      "Epoch 402/1000\n",
      "25/25 [==============================] - 0s 1ms/step - loss: 1.4728e-04\n",
      "Epoch 403/1000\n",
      "25/25 [==============================] - 0s 1ms/step - loss: 2.8162e-04\n",
      "Epoch 404/1000\n",
      "25/25 [==============================] - 0s 1ms/step - loss: 2.4455e-04\n",
      "Epoch 405/1000\n",
      "25/25 [==============================] - 0s 2ms/step - loss: 2.5300e-04\n",
      "Epoch 406/1000\n",
      "25/25 [==============================] - 0s 1ms/step - loss: 2.3334e-04\n",
      "Epoch 407/1000\n",
      "25/25 [==============================] - 0s 1ms/step - loss: 1.1701e-04\n",
      "Epoch 408/1000\n",
      "25/25 [==============================] - 0s 1ms/step - loss: 1.6416e-04\n",
      "Epoch 409/1000\n",
      "25/25 [==============================] - 0s 1ms/step - loss: 1.1559e-04\n",
      "Epoch 410/1000\n",
      "25/25 [==============================] - 0s 1ms/step - loss: 1.7248e-04\n",
      "Epoch 411/1000\n",
      "25/25 [==============================] - 0s 1ms/step - loss: 1.0260e-04\n",
      "Epoch 412/1000\n",
      "25/25 [==============================] - 0s 1ms/step - loss: 2.6026e-04\n",
      "Epoch 413/1000\n",
      "25/25 [==============================] - 0s 1ms/step - loss: 1.4871e-04\n",
      "Epoch 414/1000\n",
      "25/25 [==============================] - 0s 1ms/step - loss: 1.4234e-04\n",
      "Epoch 415/1000\n",
      "25/25 [==============================] - 0s 1ms/step - loss: 1.3664e-04\n",
      "Epoch 416/1000\n",
      "25/25 [==============================] - 0s 1ms/step - loss: 1.8077e-04\n",
      "Epoch 417/1000\n",
      "25/25 [==============================] - 0s 1ms/step - loss: 1.0742e-04\n",
      "Epoch 418/1000\n",
      "25/25 [==============================] - 0s 1ms/step - loss: 1.1681e-04\n",
      "Epoch 419/1000\n",
      "25/25 [==============================] - 0s 1ms/step - loss: 9.0088e-05\n",
      "Epoch 420/1000\n",
      "25/25 [==============================] - 0s 1ms/step - loss: 9.9409e-05\n",
      "Epoch 421/1000\n",
      "25/25 [==============================] - 0s 1ms/step - loss: 1.7400e-04\n",
      "Epoch 422/1000\n",
      "25/25 [==============================] - 0s 1ms/step - loss: 8.5840e-05\n",
      "Epoch 423/1000\n",
      "25/25 [==============================] - 0s 1ms/step - loss: 3.4768e-04\n",
      "Epoch 424/1000\n",
      "25/25 [==============================] - 0s 1ms/step - loss: 2.2805e-04\n",
      "Epoch 425/1000\n",
      "25/25 [==============================] - 0s 1ms/step - loss: 1.6597e-04\n",
      "Epoch 426/1000\n",
      "25/25 [==============================] - 0s 1ms/step - loss: 1.6237e-04\n",
      "Epoch 427/1000\n",
      "25/25 [==============================] - 0s 1ms/step - loss: 1.1981e-04\n",
      "Epoch 428/1000\n",
      "25/25 [==============================] - 0s 1ms/step - loss: 1.9449e-04\n",
      "Epoch 429/1000\n",
      "25/25 [==============================] - 0s 1ms/step - loss: 3.6547e-04\n",
      "Epoch 430/1000\n",
      "25/25 [==============================] - 0s 1ms/step - loss: 2.8883e-04\n",
      "Epoch 431/1000\n",
      "25/25 [==============================] - 0s 1ms/step - loss: 3.1640e-04\n",
      "Epoch 432/1000\n",
      "25/25 [==============================] - 0s 1ms/step - loss: 2.6029e-04\n",
      "Epoch 433/1000\n",
      "25/25 [==============================] - 0s 1ms/step - loss: 2.7332e-04\n",
      "Epoch 434/1000\n",
      "25/25 [==============================] - 0s 1ms/step - loss: 1.7675e-04\n",
      "Epoch 435/1000\n",
      "25/25 [==============================] - 0s 1ms/step - loss: 1.6181e-04\n",
      "Epoch 436/1000\n",
      "25/25 [==============================] - 0s 1ms/step - loss: 1.0197e-04\n",
      "Epoch 437/1000\n",
      "25/25 [==============================] - 0s 1ms/step - loss: 1.3349e-04\n",
      "Epoch 438/1000\n",
      "25/25 [==============================] - 0s 1ms/step - loss: 1.5882e-04\n",
      "Epoch 439/1000\n",
      "25/25 [==============================] - 0s 1ms/step - loss: 1.7247e-04\n",
      "Epoch 440/1000\n",
      "25/25 [==============================] - 0s 1ms/step - loss: 3.6394e-04\n",
      "Epoch 441/1000\n",
      "25/25 [==============================] - 0s 1ms/step - loss: 1.9166e-04\n",
      "Epoch 442/1000\n",
      "25/25 [==============================] - 0s 1ms/step - loss: 9.5837e-05\n",
      "Epoch 443/1000\n",
      "25/25 [==============================] - 0s 1ms/step - loss: 6.5716e-05\n",
      "Epoch 444/1000\n",
      "25/25 [==============================] - 0s 1ms/step - loss: 1.2541e-04\n",
      "Epoch 445/1000\n",
      "25/25 [==============================] - 0s 1ms/step - loss: 1.3907e-04\n",
      "Epoch 446/1000\n",
      "25/25 [==============================] - 0s 1ms/step - loss: 1.0618e-04\n",
      "Epoch 447/1000\n",
      "25/25 [==============================] - 0s 2ms/step - loss: 9.3307e-05\n",
      "Epoch 448/1000\n",
      "25/25 [==============================] - 0s 1ms/step - loss: 1.1010e-04\n",
      "Epoch 449/1000\n",
      "25/25 [==============================] - 0s 1ms/step - loss: 1.1577e-04\n",
      "Epoch 450/1000\n",
      "25/25 [==============================] - 0s 1ms/step - loss: 1.0445e-04\n",
      "Epoch 451/1000\n",
      "25/25 [==============================] - 0s 1ms/step - loss: 5.6666e-05\n",
      "Epoch 452/1000\n",
      "25/25 [==============================] - 0s 1ms/step - loss: 4.1810e-05\n",
      "Epoch 453/1000\n",
      "25/25 [==============================] - 0s 1ms/step - loss: 5.8414e-05\n",
      "Epoch 454/1000\n",
      "25/25 [==============================] - 0s 1ms/step - loss: 7.0638e-05\n",
      "Epoch 455/1000\n",
      "25/25 [==============================] - 0s 1ms/step - loss: 6.8814e-05\n",
      "Epoch 456/1000\n",
      "25/25 [==============================] - 0s 1ms/step - loss: 2.5255e-04\n",
      "Epoch 457/1000\n",
      "25/25 [==============================] - 0s 1ms/step - loss: 1.0733e-04\n",
      "Epoch 458/1000\n",
      "25/25 [==============================] - 0s 1ms/step - loss: 7.2637e-05\n",
      "Epoch 459/1000\n",
      "25/25 [==============================] - 0s 1ms/step - loss: 1.0956e-04\n",
      "Epoch 460/1000\n",
      "25/25 [==============================] - 0s 1ms/step - loss: 1.0294e-04\n",
      "Epoch 461/1000\n",
      "25/25 [==============================] - 0s 1ms/step - loss: 6.4090e-05\n",
      "Epoch 462/1000\n",
      "25/25 [==============================] - 0s 1ms/step - loss: 9.3293e-05\n",
      "Epoch 463/1000\n",
      "25/25 [==============================] - 0s 1ms/step - loss: 8.8746e-05\n",
      "Epoch 464/1000\n",
      "25/25 [==============================] - 0s 1ms/step - loss: 1.9642e-04\n",
      "Epoch 465/1000\n",
      "25/25 [==============================] - 0s 1ms/step - loss: 1.4224e-04\n",
      "Epoch 466/1000\n",
      "25/25 [==============================] - 0s 1ms/step - loss: 2.4444e-04\n",
      "Epoch 467/1000\n",
      "25/25 [==============================] - 0s 1ms/step - loss: 8.2550e-05\n",
      "Epoch 468/1000\n",
      "25/25 [==============================] - 0s 1ms/step - loss: 1.4228e-04\n",
      "Epoch 469/1000\n",
      "25/25 [==============================] - 0s 1ms/step - loss: 1.4288e-04\n",
      "Epoch 470/1000\n",
      "25/25 [==============================] - 0s 1ms/step - loss: 1.0729e-04\n",
      "Epoch 471/1000\n",
      "25/25 [==============================] - 0s 1ms/step - loss: 8.5895e-05\n",
      "Epoch 472/1000\n",
      "25/25 [==============================] - 0s 1ms/step - loss: 1.0270e-04\n",
      "Epoch 473/1000\n",
      "25/25 [==============================] - 0s 1ms/step - loss: 6.8154e-05\n",
      "Epoch 474/1000\n",
      "25/25 [==============================] - 0s 1ms/step - loss: 9.4769e-05\n",
      "Epoch 475/1000\n",
      "25/25 [==============================] - 0s 1ms/step - loss: 9.3964e-05\n",
      "Epoch 476/1000\n",
      "25/25 [==============================] - 0s 1ms/step - loss: 7.5148e-05\n",
      "Epoch 477/1000\n",
      "25/25 [==============================] - 0s 1ms/step - loss: 2.0373e-04\n",
      "Epoch 478/1000\n",
      "25/25 [==============================] - 0s 1ms/step - loss: 0.0010\n",
      "Epoch 479/1000\n",
      "25/25 [==============================] - 0s 1ms/step - loss: 0.0011\n",
      "Epoch 480/1000\n",
      "25/25 [==============================] - 0s 1ms/step - loss: 5.9195e-04\n",
      "Epoch 481/1000\n",
      "25/25 [==============================] - 0s 1ms/step - loss: 3.7347e-04\n",
      "Epoch 482/1000\n",
      "25/25 [==============================] - 0s 1ms/step - loss: 3.1975e-04\n",
      "Epoch 483/1000\n",
      "25/25 [==============================] - 0s 1ms/step - loss: 3.8567e-04\n",
      "Epoch 484/1000\n",
      "25/25 [==============================] - 0s 1ms/step - loss: 2.3598e-04\n",
      "Epoch 485/1000\n",
      "25/25 [==============================] - 0s 1ms/step - loss: 1.4111e-04\n",
      "Epoch 486/1000\n",
      "25/25 [==============================] - 0s 1ms/step - loss: 1.8872e-04\n",
      "Epoch 487/1000\n",
      "25/25 [==============================] - 0s 1ms/step - loss: 1.7790e-04\n",
      "Epoch 488/1000\n",
      "25/25 [==============================] - 0s 1ms/step - loss: 1.0163e-04\n",
      "Epoch 489/1000\n",
      "25/25 [==============================] - 0s 2ms/step - loss: 1.5159e-04\n",
      "Epoch 490/1000\n",
      "25/25 [==============================] - 0s 1ms/step - loss: 1.4813e-04\n",
      "Epoch 491/1000\n",
      "25/25 [==============================] - 0s 1ms/step - loss: 9.1529e-05\n",
      "Epoch 492/1000\n",
      "25/25 [==============================] - 0s 1ms/step - loss: 1.7487e-04\n",
      "Epoch 493/1000\n",
      "25/25 [==============================] - 0s 1ms/step - loss: 8.6048e-05\n",
      "Epoch 494/1000\n",
      "25/25 [==============================] - 0s 1ms/step - loss: 1.6156e-04\n",
      "Epoch 495/1000\n",
      "25/25 [==============================] - 0s 1ms/step - loss: 1.2015e-04\n",
      "Epoch 496/1000\n",
      "25/25 [==============================] - 0s 1ms/step - loss: 1.4606e-04\n",
      "Epoch 497/1000\n",
      "25/25 [==============================] - 0s 1ms/step - loss: 1.3886e-04\n",
      "Epoch 498/1000\n",
      "25/25 [==============================] - 0s 1ms/step - loss: 2.2826e-04\n",
      "Epoch 499/1000\n",
      "25/25 [==============================] - 0s 1ms/step - loss: 3.8736e-04\n",
      "Epoch 500/1000\n",
      "25/25 [==============================] - 0s 1ms/step - loss: 1.8322e-04\n",
      "Epoch 501/1000\n",
      "25/25 [==============================] - 0s 1ms/step - loss: 2.3639e-04\n",
      "Epoch 502/1000\n",
      "25/25 [==============================] - 0s 1ms/step - loss: 9.8026e-05\n",
      "Epoch 503/1000\n",
      "25/25 [==============================] - 0s 1ms/step - loss: 1.0670e-04\n",
      "Epoch 504/1000\n",
      "25/25 [==============================] - 0s 1ms/step - loss: 6.4816e-05\n",
      "Epoch 505/1000\n",
      "25/25 [==============================] - 0s 1ms/step - loss: 8.4002e-05\n",
      "Epoch 506/1000\n",
      "25/25 [==============================] - 0s 1ms/step - loss: 6.3663e-05\n",
      "Epoch 507/1000\n",
      "25/25 [==============================] - 0s 1ms/step - loss: 5.5227e-05\n",
      "Epoch 508/1000\n",
      "25/25 [==============================] - 0s 1ms/step - loss: 5.3314e-05\n",
      "Epoch 509/1000\n",
      "25/25 [==============================] - 0s 1ms/step - loss: 6.0274e-05\n",
      "Epoch 510/1000\n",
      "25/25 [==============================] - 0s 1ms/step - loss: 6.8327e-05\n",
      "Epoch 511/1000\n",
      "25/25 [==============================] - 0s 1ms/step - loss: 1.2094e-04\n",
      "Epoch 512/1000\n",
      "25/25 [==============================] - 0s 1ms/step - loss: 1.1830e-04\n",
      "Epoch 513/1000\n",
      "25/25 [==============================] - 0s 1ms/step - loss: 2.3887e-04\n",
      "Epoch 514/1000\n",
      "25/25 [==============================] - 0s 1ms/step - loss: 5.7149e-04\n",
      "Epoch 515/1000\n",
      "25/25 [==============================] - 0s 1ms/step - loss: 9.8228e-04\n",
      "Epoch 516/1000\n",
      "25/25 [==============================] - 0s 1ms/step - loss: 6.0271e-04\n",
      "Epoch 517/1000\n",
      "25/25 [==============================] - 0s 1ms/step - loss: 7.2536e-04\n",
      "Epoch 518/1000\n",
      "25/25 [==============================] - 0s 1ms/step - loss: 3.3149e-04\n",
      "Epoch 519/1000\n",
      "25/25 [==============================] - 0s 1ms/step - loss: 2.5306e-04\n",
      "Epoch 520/1000\n",
      "25/25 [==============================] - 0s 1ms/step - loss: 1.1278e-04\n",
      "Epoch 521/1000\n",
      "25/25 [==============================] - 0s 1ms/step - loss: 1.1504e-04\n",
      "Epoch 522/1000\n",
      "25/25 [==============================] - 0s 1ms/step - loss: 1.9154e-04\n",
      "Epoch 523/1000\n",
      "25/25 [==============================] - 0s 1ms/step - loss: 1.8196e-04\n",
      "Epoch 524/1000\n",
      "25/25 [==============================] - 0s 1ms/step - loss: 1.1941e-04\n",
      "Epoch 525/1000\n",
      "25/25 [==============================] - 0s 1ms/step - loss: 1.1375e-04\n",
      "Epoch 526/1000\n",
      "25/25 [==============================] - 0s 1ms/step - loss: 1.1300e-04\n",
      "Epoch 527/1000\n",
      "25/25 [==============================] - 0s 1ms/step - loss: 1.0233e-04\n",
      "Epoch 528/1000\n",
      "25/25 [==============================] - 0s 2ms/step - loss: 7.8429e-05\n",
      "Epoch 529/1000\n",
      "25/25 [==============================] - 0s 1ms/step - loss: 9.6336e-05\n",
      "Epoch 530/1000\n",
      "25/25 [==============================] - 0s 1ms/step - loss: 9.5073e-05\n",
      "Epoch 531/1000\n",
      "25/25 [==============================] - 0s 1ms/step - loss: 1.7266e-04\n",
      "Epoch 532/1000\n",
      "25/25 [==============================] - 0s 1ms/step - loss: 2.7832e-04\n",
      "Epoch 533/1000\n",
      "25/25 [==============================] - 0s 1ms/step - loss: 1.8464e-04\n",
      "Epoch 534/1000\n",
      "25/25 [==============================] - 0s 1ms/step - loss: 7.7039e-05\n",
      "Epoch 535/1000\n",
      "25/25 [==============================] - 0s 1ms/step - loss: 1.4798e-04\n",
      "Epoch 536/1000\n",
      "25/25 [==============================] - 0s 1ms/step - loss: 1.0143e-04\n",
      "Epoch 537/1000\n",
      "25/25 [==============================] - 0s 1ms/step - loss: 1.1245e-04\n",
      "Epoch 538/1000\n",
      "25/25 [==============================] - 0s 1ms/step - loss: 1.1718e-04\n",
      "Epoch 539/1000\n",
      "25/25 [==============================] - 0s 1ms/step - loss: 1.3420e-04\n",
      "Epoch 540/1000\n",
      "25/25 [==============================] - 0s 1ms/step - loss: 1.0029e-04\n",
      "Epoch 541/1000\n",
      "25/25 [==============================] - 0s 1ms/step - loss: 1.1267e-04\n",
      "Epoch 542/1000\n",
      "25/25 [==============================] - 0s 1ms/step - loss: 1.7387e-04\n",
      "Epoch 543/1000\n",
      "25/25 [==============================] - 0s 1ms/step - loss: 8.4615e-05\n",
      "Epoch 544/1000\n",
      "25/25 [==============================] - 0s 1ms/step - loss: 6.1416e-05\n",
      "Epoch 545/1000\n",
      "25/25 [==============================] - 0s 1ms/step - loss: 4.4832e-05\n",
      "Epoch 546/1000\n",
      "25/25 [==============================] - 0s 1ms/step - loss: 1.6767e-04\n",
      "Epoch 547/1000\n",
      "25/25 [==============================] - 0s 1ms/step - loss: 7.8600e-05\n",
      "Epoch 548/1000\n",
      "25/25 [==============================] - 0s 1ms/step - loss: 6.5508e-05\n",
      "Epoch 549/1000\n",
      "25/25 [==============================] - 0s 1ms/step - loss: 5.4807e-05\n",
      "Epoch 550/1000\n",
      "25/25 [==============================] - 0s 1ms/step - loss: 5.1929e-05\n",
      "Epoch 551/1000\n",
      "25/25 [==============================] - 0s 1ms/step - loss: 5.5559e-05\n",
      "Epoch 552/1000\n",
      "25/25 [==============================] - 0s 1ms/step - loss: 5.7910e-05\n",
      "Epoch 553/1000\n",
      "25/25 [==============================] - 0s 1ms/step - loss: 5.8030e-05\n",
      "Epoch 554/1000\n",
      "25/25 [==============================] - 0s 1ms/step - loss: 7.3317e-05\n",
      "Epoch 555/1000\n",
      "25/25 [==============================] - 0s 1ms/step - loss: 1.5910e-04\n",
      "Epoch 556/1000\n",
      "25/25 [==============================] - 0s 1ms/step - loss: 4.2012e-04\n",
      "Epoch 557/1000\n",
      "25/25 [==============================] - 0s 1ms/step - loss: 4.4739e-04\n",
      "Epoch 558/1000\n",
      "25/25 [==============================] - 0s 1ms/step - loss: 3.7363e-04\n",
      "Epoch 559/1000\n",
      "25/25 [==============================] - 0s 1ms/step - loss: 1.3651e-04\n",
      "Epoch 560/1000\n",
      "25/25 [==============================] - 0s 1ms/step - loss: 1.1859e-04\n",
      "Epoch 561/1000\n",
      "25/25 [==============================] - 0s 1ms/step - loss: 1.7933e-04\n",
      "Epoch 562/1000\n",
      "25/25 [==============================] - 0s 1ms/step - loss: 1.0044e-04\n",
      "Epoch 563/1000\n",
      "25/25 [==============================] - 0s 1ms/step - loss: 9.2384e-05\n",
      "Epoch 564/1000\n",
      "25/25 [==============================] - 0s 2ms/step - loss: 5.7155e-05\n",
      "Epoch 565/1000\n",
      "25/25 [==============================] - 0s 1ms/step - loss: 7.9823e-05\n",
      "Epoch 566/1000\n",
      "25/25 [==============================] - 0s 1ms/step - loss: 5.9361e-05\n",
      "Epoch 567/1000\n",
      "25/25 [==============================] - 0s 1ms/step - loss: 6.6772e-05\n",
      "Epoch 568/1000\n",
      "25/25 [==============================] - 0s 1ms/step - loss: 1.2133e-04\n",
      "Epoch 569/1000\n",
      "25/25 [==============================] - 0s 1ms/step - loss: 8.0662e-05\n",
      "Epoch 570/1000\n",
      "25/25 [==============================] - 0s 1ms/step - loss: 1.0113e-04\n",
      "Epoch 571/1000\n",
      "25/25 [==============================] - 0s 1ms/step - loss: 8.3847e-05\n",
      "Epoch 572/1000\n",
      "25/25 [==============================] - 0s 1ms/step - loss: 8.7471e-05\n",
      "Epoch 573/1000\n",
      "25/25 [==============================] - 0s 1ms/step - loss: 5.4769e-05\n",
      "Epoch 574/1000\n",
      "25/25 [==============================] - 0s 1ms/step - loss: 1.1272e-04\n",
      "Epoch 575/1000\n",
      "25/25 [==============================] - 0s 1ms/step - loss: 7.0933e-05\n",
      "Epoch 576/1000\n",
      "25/25 [==============================] - 0s 1ms/step - loss: 1.1661e-04\n",
      "Epoch 577/1000\n",
      "25/25 [==============================] - 0s 1ms/step - loss: 8.7053e-05\n",
      "Epoch 578/1000\n",
      "25/25 [==============================] - 0s 1ms/step - loss: 7.5663e-05\n",
      "Epoch 579/1000\n",
      "25/25 [==============================] - 0s 1ms/step - loss: 7.0217e-05\n",
      "Epoch 580/1000\n",
      "25/25 [==============================] - 0s 1ms/step - loss: 8.2851e-05\n",
      "Epoch 581/1000\n",
      "25/25 [==============================] - 0s 1ms/step - loss: 8.3689e-05\n",
      "Epoch 582/1000\n",
      "25/25 [==============================] - 0s 1ms/step - loss: 8.7263e-05\n",
      "Epoch 583/1000\n",
      "25/25 [==============================] - 0s 1ms/step - loss: 5.6746e-05\n",
      "Epoch 584/1000\n",
      "25/25 [==============================] - 0s 1ms/step - loss: 8.8019e-05\n",
      "Epoch 585/1000\n",
      "25/25 [==============================] - 0s 1ms/step - loss: 6.6302e-05\n",
      "Epoch 586/1000\n",
      "25/25 [==============================] - 0s 1ms/step - loss: 1.6975e-04\n",
      "Epoch 587/1000\n",
      "25/25 [==============================] - 0s 1ms/step - loss: 1.0671e-04\n",
      "Epoch 588/1000\n",
      "25/25 [==============================] - 0s 1ms/step - loss: 8.1057e-05\n",
      "Epoch 589/1000\n",
      "25/25 [==============================] - 0s 1ms/step - loss: 9.4595e-05\n",
      "Epoch 590/1000\n",
      "25/25 [==============================] - 0s 1ms/step - loss: 9.2877e-05\n",
      "Epoch 591/1000\n",
      "25/25 [==============================] - 0s 1ms/step - loss: 1.1045e-04\n",
      "Epoch 592/1000\n",
      "25/25 [==============================] - 0s 1ms/step - loss: 2.6832e-04\n",
      "Epoch 593/1000\n",
      "25/25 [==============================] - 0s 1ms/step - loss: 2.1680e-04\n",
      "Epoch 594/1000\n",
      "25/25 [==============================] - 0s 1ms/step - loss: 9.0554e-05\n",
      "Epoch 595/1000\n",
      "25/25 [==============================] - 0s 1ms/step - loss: 8.5576e-05\n",
      "Epoch 596/1000\n",
      "25/25 [==============================] - 0s 1ms/step - loss: 8.4319e-05\n",
      "Epoch 597/1000\n",
      "25/25 [==============================] - 0s 1ms/step - loss: 1.0243e-04\n",
      "Epoch 598/1000\n",
      "25/25 [==============================] - 0s 1ms/step - loss: 1.0824e-04\n",
      "Epoch 599/1000\n",
      "25/25 [==============================] - 0s 1ms/step - loss: 8.0040e-05\n",
      "Epoch 600/1000\n",
      "25/25 [==============================] - 0s 1ms/step - loss: 6.7119e-05\n",
      "Epoch 601/1000\n",
      "25/25 [==============================] - 0s 1ms/step - loss: 6.4038e-05\n",
      "Epoch 602/1000\n",
      "25/25 [==============================] - 0s 1ms/step - loss: 5.7073e-05\n",
      "Epoch 603/1000\n",
      "25/25 [==============================] - 0s 1ms/step - loss: 3.2500e-05\n",
      "Epoch 604/1000\n",
      "25/25 [==============================] - 0s 1ms/step - loss: 4.6926e-05\n",
      "Epoch 605/1000\n",
      "25/25 [==============================] - 0s 1ms/step - loss: 6.0498e-05\n",
      "Epoch 606/1000\n",
      "25/25 [==============================] - 0s 1ms/step - loss: 1.7704e-04\n",
      "Epoch 607/1000\n",
      "25/25 [==============================] - 0s 1ms/step - loss: 1.4328e-04\n",
      "Epoch 608/1000\n",
      "25/25 [==============================] - 0s 1ms/step - loss: 1.5896e-04\n",
      "Epoch 609/1000\n",
      "25/25 [==============================] - 0s 1ms/step - loss: 1.5710e-04\n",
      "Epoch 610/1000\n",
      "25/25 [==============================] - 0s 1ms/step - loss: 9.3856e-05\n",
      "Epoch 611/1000\n",
      "25/25 [==============================] - 0s 1ms/step - loss: 1.3178e-04\n",
      "Epoch 612/1000\n",
      "25/25 [==============================] - 0s 1ms/step - loss: 2.0835e-04\n",
      "Epoch 613/1000\n",
      "25/25 [==============================] - 0s 1ms/step - loss: 1.9682e-04\n",
      "Epoch 614/1000\n",
      "25/25 [==============================] - 0s 1ms/step - loss: 1.2721e-04\n",
      "Epoch 615/1000\n",
      "25/25 [==============================] - 0s 1ms/step - loss: 1.2090e-04\n",
      "Epoch 616/1000\n",
      "25/25 [==============================] - 0s 1ms/step - loss: 8.8609e-05\n",
      "Epoch 617/1000\n",
      "25/25 [==============================] - 0s 1ms/step - loss: 6.0213e-05\n",
      "Epoch 618/1000\n",
      "25/25 [==============================] - 0s 1ms/step - loss: 7.9992e-05\n",
      "Epoch 619/1000\n",
      "25/25 [==============================] - 0s 1ms/step - loss: 9.7864e-05\n",
      "Epoch 620/1000\n",
      "25/25 [==============================] - 0s 1ms/step - loss: 9.9793e-05\n",
      "Epoch 621/1000\n",
      "25/25 [==============================] - 0s 1ms/step - loss: 4.6002e-05\n",
      "Epoch 622/1000\n",
      "25/25 [==============================] - 0s 1ms/step - loss: 4.9061e-05\n",
      "Epoch 623/1000\n",
      "25/25 [==============================] - 0s 1ms/step - loss: 4.2142e-05\n",
      "Epoch 624/1000\n",
      "25/25 [==============================] - 0s 1ms/step - loss: 4.8343e-05\n",
      "Epoch 625/1000\n",
      "25/25 [==============================] - 0s 1ms/step - loss: 5.9522e-05\n",
      "Epoch 626/1000\n",
      "25/25 [==============================] - 0s 1ms/step - loss: 1.3075e-04\n",
      "Epoch 627/1000\n",
      "25/25 [==============================] - 0s 1ms/step - loss: 7.4244e-05\n",
      "Epoch 628/1000\n",
      "25/25 [==============================] - 0s 1ms/step - loss: 2.5159e-04\n",
      "Epoch 629/1000\n",
      "25/25 [==============================] - 0s 1ms/step - loss: 5.8904e-04\n",
      "Epoch 630/1000\n",
      "25/25 [==============================] - 0s 1ms/step - loss: 5.5981e-04\n",
      "Epoch 631/1000\n",
      "25/25 [==============================] - 0s 1ms/step - loss: 2.9042e-04\n",
      "Epoch 632/1000\n",
      "25/25 [==============================] - 0s 1ms/step - loss: 2.2612e-04\n",
      "Epoch 633/1000\n",
      "25/25 [==============================] - 0s 1ms/step - loss: 2.6242e-04\n",
      "Epoch 634/1000\n",
      "25/25 [==============================] - 0s 1ms/step - loss: 1.6976e-04\n",
      "Epoch 635/1000\n",
      "25/25 [==============================] - 0s 1ms/step - loss: 2.9138e-04\n",
      "Epoch 636/1000\n",
      "25/25 [==============================] - 0s 1ms/step - loss: 4.6858e-04\n",
      "Epoch 637/1000\n",
      "25/25 [==============================] - 0s 1ms/step - loss: 1.7998e-04\n",
      "Epoch 638/1000\n",
      "25/25 [==============================] - 0s 1ms/step - loss: 2.5829e-04\n",
      "Epoch 639/1000\n",
      "25/25 [==============================] - 0s 1ms/step - loss: 1.8845e-04\n",
      "Epoch 640/1000\n",
      "25/25 [==============================] - 0s 1ms/step - loss: 1.2760e-04\n",
      "Epoch 641/1000\n",
      "25/25 [==============================] - 0s 1ms/step - loss: 1.9342e-04\n",
      "Epoch 642/1000\n",
      "25/25 [==============================] - 0s 1ms/step - loss: 1.3650e-04\n",
      "Epoch 643/1000\n",
      "25/25 [==============================] - 0s 1ms/step - loss: 1.6680e-04\n",
      "Epoch 644/1000\n",
      "25/25 [==============================] - 0s 1ms/step - loss: 2.3225e-04\n",
      "Epoch 645/1000\n",
      "25/25 [==============================] - 0s 1ms/step - loss: 1.5880e-04\n",
      "Epoch 646/1000\n",
      "25/25 [==============================] - 0s 1ms/step - loss: 9.8062e-05\n",
      "Epoch 647/1000\n",
      "25/25 [==============================] - 0s 1ms/step - loss: 1.6658e-04\n",
      "Epoch 648/1000\n",
      "25/25 [==============================] - 0s 1ms/step - loss: 1.3657e-04\n",
      "Epoch 649/1000\n",
      "25/25 [==============================] - 0s 1ms/step - loss: 1.4447e-04\n",
      "Epoch 650/1000\n",
      "25/25 [==============================] - 0s 1ms/step - loss: 1.3238e-04\n",
      "Epoch 651/1000\n",
      "25/25 [==============================] - 0s 1ms/step - loss: 8.3076e-05\n",
      "Epoch 652/1000\n",
      "25/25 [==============================] - 0s 1ms/step - loss: 5.7552e-05\n",
      "Epoch 653/1000\n",
      "25/25 [==============================] - 0s 1ms/step - loss: 4.6709e-05\n",
      "Epoch 654/1000\n",
      "25/25 [==============================] - 0s 1ms/step - loss: 4.5254e-05\n",
      "Epoch 655/1000\n",
      "25/25 [==============================] - 0s 1ms/step - loss: 6.5069e-05\n",
      "Epoch 656/1000\n",
      "25/25 [==============================] - 0s 1ms/step - loss: 8.3296e-05\n",
      "Epoch 657/1000\n",
      "25/25 [==============================] - 0s 1ms/step - loss: 9.8272e-05\n",
      "Epoch 658/1000\n",
      "25/25 [==============================] - 0s 1ms/step - loss: 9.4347e-05\n",
      "Epoch 659/1000\n",
      "25/25 [==============================] - 0s 1ms/step - loss: 1.0366e-04\n",
      "Epoch 660/1000\n",
      "25/25 [==============================] - 0s 1ms/step - loss: 1.4018e-04\n",
      "Epoch 661/1000\n",
      "25/25 [==============================] - 0s 2ms/step - loss: 1.2327e-04\n",
      "Epoch 662/1000\n",
      "25/25 [==============================] - 0s 1ms/step - loss: 9.7108e-05\n",
      "Epoch 663/1000\n",
      "25/25 [==============================] - 0s 1ms/step - loss: 1.1372e-04\n",
      "Epoch 664/1000\n",
      "25/25 [==============================] - 0s 1ms/step - loss: 6.5297e-05\n",
      "Epoch 665/1000\n",
      "25/25 [==============================] - 0s 1ms/step - loss: 5.5070e-05\n",
      "Epoch 666/1000\n",
      "25/25 [==============================] - 0s 1ms/step - loss: 7.5462e-05\n",
      "Epoch 667/1000\n",
      "25/25 [==============================] - 0s 1ms/step - loss: 1.2040e-04\n",
      "Epoch 668/1000\n",
      "25/25 [==============================] - 0s 1ms/step - loss: 1.5959e-04\n",
      "Epoch 669/1000\n",
      "25/25 [==============================] - 0s 1ms/step - loss: 5.9849e-05\n",
      "Epoch 670/1000\n",
      "25/25 [==============================] - 0s 1ms/step - loss: 4.6312e-05\n",
      "Epoch 671/1000\n",
      "25/25 [==============================] - 0s 1ms/step - loss: 5.6053e-05\n",
      "Epoch 672/1000\n",
      "25/25 [==============================] - 0s 1ms/step - loss: 9.8685e-05\n",
      "Epoch 673/1000\n",
      "25/25 [==============================] - 0s 1ms/step - loss: 2.0363e-04\n",
      "Epoch 674/1000\n",
      "25/25 [==============================] - 0s 1ms/step - loss: 8.1154e-05\n",
      "Epoch 675/1000\n",
      "25/25 [==============================] - 0s 1ms/step - loss: 7.8426e-05\n",
      "Epoch 676/1000\n",
      "25/25 [==============================] - 0s 1ms/step - loss: 8.6619e-05\n",
      "Epoch 677/1000\n",
      "25/25 [==============================] - 0s 1ms/step - loss: 8.4984e-05\n",
      "Epoch 678/1000\n",
      "25/25 [==============================] - 0s 1ms/step - loss: 6.4985e-05\n",
      "Epoch 679/1000\n",
      "25/25 [==============================] - 0s 1ms/step - loss: 4.5556e-05\n",
      "Epoch 680/1000\n",
      "25/25 [==============================] - 0s 1ms/step - loss: 4.5811e-05\n",
      "Epoch 681/1000\n",
      "25/25 [==============================] - 0s 1ms/step - loss: 1.0888e-04\n",
      "Epoch 682/1000\n",
      "25/25 [==============================] - 0s 1ms/step - loss: 1.6917e-04\n",
      "Epoch 683/1000\n",
      "25/25 [==============================] - 0s 1ms/step - loss: 2.0354e-04\n",
      "Epoch 684/1000\n",
      "25/25 [==============================] - 0s 1ms/step - loss: 2.0922e-04\n",
      "Epoch 685/1000\n",
      "25/25 [==============================] - 0s 1ms/step - loss: 9.0043e-05\n",
      "Epoch 686/1000\n",
      "25/25 [==============================] - 0s 1ms/step - loss: 1.9522e-04\n",
      "Epoch 687/1000\n",
      "25/25 [==============================] - 0s 1ms/step - loss: 2.8623e-04\n",
      "Epoch 688/1000\n",
      "25/25 [==============================] - 0s 1ms/step - loss: 2.8139e-04\n",
      "Epoch 689/1000\n",
      "25/25 [==============================] - 0s 1ms/step - loss: 1.7618e-04\n",
      "Epoch 690/1000\n",
      "25/25 [==============================] - 0s 1ms/step - loss: 2.4242e-04\n",
      "Epoch 691/1000\n",
      "25/25 [==============================] - 0s 1ms/step - loss: 3.3654e-04\n",
      "Epoch 692/1000\n",
      "25/25 [==============================] - 0s 1ms/step - loss: 2.5112e-04\n",
      "Epoch 693/1000\n",
      "25/25 [==============================] - 0s 1ms/step - loss: 5.6386e-05\n",
      "Epoch 694/1000\n",
      "25/25 [==============================] - 0s 1ms/step - loss: 5.2852e-05\n",
      "Epoch 695/1000\n",
      "25/25 [==============================] - 0s 1ms/step - loss: 6.4797e-05\n",
      "Epoch 696/1000\n",
      "25/25 [==============================] - 0s 1ms/step - loss: 4.6515e-05\n",
      "Epoch 697/1000\n",
      "25/25 [==============================] - 0s 1ms/step - loss: 3.9333e-05\n",
      "Epoch 698/1000\n",
      "25/25 [==============================] - 0s 1ms/step - loss: 4.3630e-05\n",
      "Epoch 699/1000\n",
      "25/25 [==============================] - 0s 1ms/step - loss: 5.4915e-05\n",
      "Epoch 700/1000\n",
      "25/25 [==============================] - 0s 1ms/step - loss: 5.9068e-05\n",
      "Epoch 701/1000\n",
      "25/25 [==============================] - 0s 1ms/step - loss: 1.1860e-04\n",
      "Epoch 702/1000\n",
      "25/25 [==============================] - 0s 1ms/step - loss: 6.2311e-05\n",
      "Epoch 703/1000\n",
      "25/25 [==============================] - 0s 1ms/step - loss: 4.7461e-05\n",
      "Epoch 704/1000\n",
      "25/25 [==============================] - 0s 1ms/step - loss: 1.8339e-04\n",
      "Epoch 705/1000\n",
      "25/25 [==============================] - 0s 1ms/step - loss: 8.3161e-05\n",
      "Epoch 706/1000\n",
      "25/25 [==============================] - 0s 1ms/step - loss: 1.4806e-04\n",
      "Epoch 707/1000\n",
      "25/25 [==============================] - 0s 1ms/step - loss: 1.7520e-04\n",
      "Epoch 708/1000\n",
      "25/25 [==============================] - 0s 1ms/step - loss: 5.5041e-05\n",
      "Epoch 709/1000\n",
      "25/25 [==============================] - 0s 1ms/step - loss: 3.4134e-05\n",
      "Epoch 710/1000\n",
      "25/25 [==============================] - 0s 1ms/step - loss: 3.0346e-05\n",
      "Epoch 711/1000\n",
      "25/25 [==============================] - 0s 1ms/step - loss: 3.9792e-05\n",
      "Epoch 712/1000\n",
      "25/25 [==============================] - 0s 1ms/step - loss: 3.9249e-05\n",
      "Epoch 713/1000\n",
      "25/25 [==============================] - 0s 1ms/step - loss: 8.9967e-05\n",
      "Epoch 714/1000\n",
      "25/25 [==============================] - 0s 1ms/step - loss: 7.7015e-05\n",
      "Epoch 715/1000\n",
      "25/25 [==============================] - 0s 1ms/step - loss: 4.4337e-05\n",
      "Epoch 716/1000\n",
      "25/25 [==============================] - 0s 1ms/step - loss: 3.3777e-05\n",
      "Epoch 717/1000\n",
      "25/25 [==============================] - 0s 1ms/step - loss: 3.6778e-05\n",
      "Epoch 718/1000\n",
      "25/25 [==============================] - 0s 1ms/step - loss: 3.9733e-05\n",
      "Epoch 719/1000\n",
      "25/25 [==============================] - 0s 1ms/step - loss: 1.0200e-04\n",
      "Epoch 720/1000\n",
      "25/25 [==============================] - 0s 1ms/step - loss: 1.0844e-04\n",
      "Epoch 721/1000\n",
      "25/25 [==============================] - 0s 1ms/step - loss: 4.1459e-05\n",
      "Epoch 722/1000\n",
      "25/25 [==============================] - 0s 1ms/step - loss: 3.0560e-05\n",
      "Epoch 723/1000\n",
      "25/25 [==============================] - 0s 1ms/step - loss: 6.0555e-05\n",
      "Epoch 724/1000\n",
      "25/25 [==============================] - 0s 1ms/step - loss: 9.9566e-05\n",
      "Epoch 725/1000\n",
      "25/25 [==============================] - 0s 2ms/step - loss: 7.2452e-05\n",
      "Epoch 726/1000\n",
      "25/25 [==============================] - 0s 1ms/step - loss: 3.4953e-05\n",
      "Epoch 727/1000\n",
      "25/25 [==============================] - 0s 1ms/step - loss: 3.7213e-05\n",
      "Epoch 728/1000\n",
      "25/25 [==============================] - 0s 1ms/step - loss: 3.5654e-05\n",
      "Epoch 729/1000\n",
      "25/25 [==============================] - 0s 1ms/step - loss: 2.7632e-05\n",
      "Epoch 730/1000\n",
      "25/25 [==============================] - 0s 1ms/step - loss: 6.3509e-05\n",
      "Epoch 731/1000\n",
      "25/25 [==============================] - 0s 1ms/step - loss: 6.2530e-05\n",
      "Epoch 732/1000\n",
      "25/25 [==============================] - 0s 1ms/step - loss: 9.4008e-05\n",
      "Epoch 733/1000\n",
      "25/25 [==============================] - 0s 1ms/step - loss: 7.0013e-05\n",
      "Epoch 734/1000\n",
      "25/25 [==============================] - 0s 1ms/step - loss: 5.3958e-05\n",
      "Epoch 735/1000\n",
      "25/25 [==============================] - 0s 1ms/step - loss: 2.9362e-05\n",
      "Epoch 736/1000\n",
      "25/25 [==============================] - 0s 1ms/step - loss: 3.7678e-05\n",
      "Epoch 737/1000\n",
      "25/25 [==============================] - 0s 1ms/step - loss: 9.2678e-05\n",
      "Epoch 738/1000\n",
      "25/25 [==============================] - 0s 1ms/step - loss: 8.1581e-05\n",
      "Epoch 739/1000\n",
      "25/25 [==============================] - 0s 1ms/step - loss: 2.2176e-04\n",
      "Epoch 740/1000\n",
      "25/25 [==============================] - 0s 1ms/step - loss: 1.8300e-04\n",
      "Epoch 741/1000\n",
      "25/25 [==============================] - 0s 1ms/step - loss: 1.4679e-04\n",
      "Epoch 742/1000\n",
      "25/25 [==============================] - 0s 1ms/step - loss: 8.5830e-05\n",
      "Epoch 743/1000\n",
      "25/25 [==============================] - 0s 1ms/step - loss: 6.6158e-05\n",
      "Epoch 744/1000\n",
      "25/25 [==============================] - 0s 1ms/step - loss: 1.2076e-04\n",
      "Epoch 745/1000\n",
      "25/25 [==============================] - 0s 1ms/step - loss: 1.7629e-04\n",
      "Epoch 746/1000\n",
      "25/25 [==============================] - 0s 1ms/step - loss: 2.1612e-04\n",
      "Epoch 747/1000\n",
      "25/25 [==============================] - 0s 1ms/step - loss: 1.2295e-04\n",
      "Epoch 748/1000\n",
      "25/25 [==============================] - 0s 1ms/step - loss: 1.0523e-04\n",
      "Epoch 749/1000\n",
      "25/25 [==============================] - 0s 1ms/step - loss: 1.1099e-04\n",
      "Epoch 750/1000\n",
      "25/25 [==============================] - 0s 1ms/step - loss: 6.4788e-05\n",
      "Epoch 751/1000\n",
      "25/25 [==============================] - 0s 1ms/step - loss: 7.2651e-05\n",
      "Epoch 752/1000\n",
      "25/25 [==============================] - 0s 1ms/step - loss: 1.3241e-04\n",
      "Epoch 753/1000\n",
      "25/25 [==============================] - 0s 1ms/step - loss: 1.6709e-04\n",
      "Epoch 754/1000\n",
      "25/25 [==============================] - 0s 1ms/step - loss: 1.5589e-04\n",
      "Epoch 755/1000\n",
      "25/25 [==============================] - 0s 2ms/step - loss: 6.1819e-05\n",
      "Epoch 756/1000\n",
      "25/25 [==============================] - 0s 1ms/step - loss: 1.0242e-04\n",
      "Epoch 757/1000\n",
      "25/25 [==============================] - 0s 1ms/step - loss: 1.2014e-04\n",
      "Epoch 758/1000\n",
      "25/25 [==============================] - 0s 1ms/step - loss: 7.3179e-05\n",
      "Epoch 759/1000\n",
      "25/25 [==============================] - 0s 1ms/step - loss: 7.3891e-05\n",
      "Epoch 760/1000\n",
      "25/25 [==============================] - 0s 1ms/step - loss: 4.8215e-05\n",
      "Epoch 761/1000\n",
      "25/25 [==============================] - 0s 1ms/step - loss: 3.2434e-05\n",
      "Epoch 762/1000\n",
      "25/25 [==============================] - 0s 1ms/step - loss: 3.9969e-05\n",
      "Epoch 763/1000\n",
      "25/25 [==============================] - 0s 1ms/step - loss: 1.1156e-04\n",
      "Epoch 764/1000\n",
      "25/25 [==============================] - 0s 1ms/step - loss: 1.0463e-04\n",
      "Epoch 765/1000\n",
      "25/25 [==============================] - 0s 1ms/step - loss: 6.0956e-05\n",
      "Epoch 766/1000\n",
      "25/25 [==============================] - 0s 1ms/step - loss: 5.5284e-05\n",
      "Epoch 767/1000\n",
      "25/25 [==============================] - 0s 1ms/step - loss: 3.9146e-05\n",
      "Epoch 768/1000\n",
      "25/25 [==============================] - 0s 1ms/step - loss: 5.4499e-05\n",
      "Epoch 769/1000\n",
      "25/25 [==============================] - 0s 1ms/step - loss: 5.7463e-05\n",
      "Epoch 770/1000\n",
      "25/25 [==============================] - 0s 1ms/step - loss: 5.3352e-05\n",
      "Epoch 771/1000\n",
      "25/25 [==============================] - 0s 1ms/step - loss: 8.2409e-05\n",
      "Epoch 772/1000\n",
      "25/25 [==============================] - 0s 1ms/step - loss: 7.6467e-05\n",
      "Epoch 773/1000\n",
      "25/25 [==============================] - 0s 1ms/step - loss: 5.5198e-05\n",
      "Epoch 774/1000\n",
      "25/25 [==============================] - 0s 1ms/step - loss: 3.6943e-05\n",
      "Epoch 775/1000\n",
      "25/25 [==============================] - 0s 1ms/step - loss: 2.8694e-05\n",
      "Epoch 776/1000\n",
      "25/25 [==============================] - 0s 1ms/step - loss: 9.1100e-05\n",
      "Epoch 777/1000\n",
      "25/25 [==============================] - 0s 1ms/step - loss: 1.4059e-04\n",
      "Epoch 778/1000\n",
      "25/25 [==============================] - 0s 1ms/step - loss: 1.0105e-04\n",
      "Epoch 779/1000\n",
      "25/25 [==============================] - 0s 1ms/step - loss: 7.5131e-05\n",
      "Epoch 780/1000\n",
      "25/25 [==============================] - 0s 1ms/step - loss: 6.3939e-05\n",
      "Epoch 781/1000\n",
      "25/25 [==============================] - 0s 1ms/step - loss: 8.2297e-05\n",
      "Epoch 782/1000\n",
      "25/25 [==============================] - 0s 1ms/step - loss: 5.2643e-05\n",
      "Epoch 783/1000\n",
      "25/25 [==============================] - 0s 1ms/step - loss: 9.4479e-05\n",
      "Epoch 784/1000\n",
      "25/25 [==============================] - 0s 1ms/step - loss: 1.0013e-04\n",
      "Epoch 785/1000\n",
      "25/25 [==============================] - 0s 1ms/step - loss: 1.0563e-04\n",
      "Epoch 786/1000\n",
      "25/25 [==============================] - 0s 1ms/step - loss: 1.2370e-04\n",
      "Epoch 787/1000\n",
      "25/25 [==============================] - 0s 1ms/step - loss: 1.0715e-04\n",
      "Epoch 788/1000\n",
      "25/25 [==============================] - 0s 1ms/step - loss: 5.6695e-05\n",
      "Epoch 789/1000\n",
      "25/25 [==============================] - 0s 1ms/step - loss: 5.2289e-05\n",
      "Epoch 790/1000\n",
      "25/25 [==============================] - 0s 1ms/step - loss: 1.4071e-04\n",
      "Epoch 791/1000\n",
      "25/25 [==============================] - 0s 1ms/step - loss: 9.7409e-05\n",
      "Epoch 792/1000\n",
      "25/25 [==============================] - 0s 1ms/step - loss: 6.3316e-05\n",
      "Epoch 793/1000\n",
      "25/25 [==============================] - 0s 1ms/step - loss: 9.7199e-05\n",
      "Epoch 794/1000\n",
      "25/25 [==============================] - 0s 1ms/step - loss: 4.5383e-05\n",
      "Epoch 795/1000\n",
      "25/25 [==============================] - 0s 1ms/step - loss: 3.4023e-05\n",
      "Epoch 796/1000\n",
      "25/25 [==============================] - 0s 1ms/step - loss: 5.7734e-05\n",
      "Epoch 797/1000\n",
      "25/25 [==============================] - 0s 2ms/step - loss: 1.0521e-04\n",
      "Epoch 798/1000\n",
      "25/25 [==============================] - 0s 1ms/step - loss: 7.6024e-05\n",
      "Epoch 799/1000\n",
      "25/25 [==============================] - 0s 1ms/step - loss: 1.0843e-04\n",
      "Epoch 800/1000\n",
      "25/25 [==============================] - 0s 1ms/step - loss: 1.2250e-04\n",
      "Epoch 801/1000\n",
      "25/25 [==============================] - 0s 1ms/step - loss: 1.0542e-04\n",
      "Epoch 802/1000\n",
      "25/25 [==============================] - 0s 1ms/step - loss: 1.0294e-04\n",
      "Epoch 803/1000\n",
      "25/25 [==============================] - 0s 1ms/step - loss: 9.1226e-05\n",
      "Epoch 804/1000\n",
      "25/25 [==============================] - 0s 1ms/step - loss: 9.3963e-05\n",
      "Epoch 805/1000\n",
      "25/25 [==============================] - 0s 1ms/step - loss: 8.7552e-05\n",
      "Epoch 806/1000\n",
      "25/25 [==============================] - 0s 1ms/step - loss: 8.5843e-05\n",
      "Epoch 807/1000\n",
      "25/25 [==============================] - 0s 1ms/step - loss: 5.3761e-05\n",
      "Epoch 808/1000\n",
      "25/25 [==============================] - 0s 1ms/step - loss: 5.8735e-05\n",
      "Epoch 809/1000\n",
      "25/25 [==============================] - 0s 1ms/step - loss: 6.4357e-05\n",
      "Epoch 810/1000\n",
      "25/25 [==============================] - 0s 1ms/step - loss: 8.3643e-05\n",
      "Epoch 811/1000\n",
      "25/25 [==============================] - 0s 1ms/step - loss: 9.4827e-05\n",
      "Epoch 812/1000\n",
      "25/25 [==============================] - 0s 1ms/step - loss: 5.6718e-05\n",
      "Epoch 813/1000\n",
      "25/25 [==============================] - 0s 1ms/step - loss: 7.3731e-05\n",
      "Epoch 814/1000\n",
      "25/25 [==============================] - 0s 1ms/step - loss: 4.8928e-05\n",
      "Epoch 815/1000\n",
      "25/25 [==============================] - 0s 1ms/step - loss: 7.5851e-05\n",
      "Epoch 816/1000\n",
      "25/25 [==============================] - 0s 1ms/step - loss: 1.0494e-04\n",
      "Epoch 817/1000\n",
      "25/25 [==============================] - 0s 1ms/step - loss: 3.9049e-05\n",
      "Epoch 818/1000\n",
      "25/25 [==============================] - 0s 1ms/step - loss: 5.6282e-05\n",
      "Epoch 819/1000\n",
      "25/25 [==============================] - 0s 1ms/step - loss: 5.2984e-05\n",
      "Epoch 820/1000\n",
      "25/25 [==============================] - 0s 1ms/step - loss: 8.0124e-05\n",
      "Epoch 821/1000\n",
      "25/25 [==============================] - 0s 1ms/step - loss: 1.0852e-04\n",
      "Epoch 822/1000\n",
      "25/25 [==============================] - 0s 1ms/step - loss: 1.0712e-04\n",
      "Epoch 823/1000\n",
      "25/25 [==============================] - 0s 1ms/step - loss: 6.4244e-05\n",
      "Epoch 824/1000\n",
      "25/25 [==============================] - 0s 1ms/step - loss: 1.8514e-04\n",
      "Epoch 825/1000\n",
      "25/25 [==============================] - 0s 1ms/step - loss: 1.9777e-04\n",
      "Epoch 826/1000\n",
      "25/25 [==============================] - 0s 1ms/step - loss: 2.2208e-04\n",
      "Epoch 827/1000\n",
      "25/25 [==============================] - 0s 1ms/step - loss: 1.9587e-04\n",
      "Epoch 828/1000\n",
      "25/25 [==============================] - 0s 1ms/step - loss: 1.1724e-04\n",
      "Epoch 829/1000\n",
      "25/25 [==============================] - 0s 1ms/step - loss: 9.2815e-05\n",
      "Epoch 830/1000\n",
      "25/25 [==============================] - 0s 1ms/step - loss: 4.6217e-05\n",
      "Epoch 831/1000\n",
      "25/25 [==============================] - 0s 1ms/step - loss: 5.6120e-05\n",
      "Epoch 832/1000\n",
      "25/25 [==============================] - 0s 1ms/step - loss: 5.5126e-05\n",
      "Epoch 833/1000\n",
      "25/25 [==============================] - 0s 1ms/step - loss: 6.0047e-05\n",
      "Epoch 834/1000\n",
      "25/25 [==============================] - 0s 1ms/step - loss: 1.6831e-04\n",
      "Epoch 835/1000\n",
      "25/25 [==============================] - 0s 2ms/step - loss: 2.3880e-04\n",
      "Epoch 836/1000\n",
      "25/25 [==============================] - 0s 1ms/step - loss: 9.8366e-05\n",
      "Epoch 837/1000\n",
      "25/25 [==============================] - 0s 1ms/step - loss: 1.3516e-04\n",
      "Epoch 838/1000\n",
      "25/25 [==============================] - 0s 1ms/step - loss: 1.4238e-04\n",
      "Epoch 839/1000\n",
      "25/25 [==============================] - 0s 1ms/step - loss: 5.9822e-05\n",
      "Epoch 840/1000\n",
      "25/25 [==============================] - 0s 1ms/step - loss: 6.9604e-05\n",
      "Epoch 841/1000\n",
      "25/25 [==============================] - 0s 1ms/step - loss: 3.8310e-05\n",
      "Epoch 842/1000\n",
      "25/25 [==============================] - 0s 1ms/step - loss: 5.9302e-05\n",
      "Epoch 843/1000\n",
      "25/25 [==============================] - 0s 1ms/step - loss: 3.7618e-05\n",
      "Epoch 844/1000\n",
      "25/25 [==============================] - 0s 1ms/step - loss: 5.4218e-05\n",
      "Epoch 845/1000\n",
      "25/25 [==============================] - 0s 1ms/step - loss: 9.6182e-05\n",
      "Epoch 846/1000\n",
      "25/25 [==============================] - 0s 1ms/step - loss: 8.1066e-05\n",
      "Epoch 847/1000\n",
      "25/25 [==============================] - 0s 1ms/step - loss: 7.4851e-05\n",
      "Epoch 848/1000\n",
      "25/25 [==============================] - 0s 1ms/step - loss: 6.1759e-05\n",
      "Epoch 849/1000\n",
      "25/25 [==============================] - 0s 1ms/step - loss: 4.1457e-05\n",
      "Epoch 850/1000\n",
      "25/25 [==============================] - 0s 1ms/step - loss: 5.9717e-05\n",
      "Epoch 851/1000\n",
      "25/25 [==============================] - 0s 1ms/step - loss: 2.8545e-05\n",
      "Epoch 852/1000\n",
      "25/25 [==============================] - 0s 1ms/step - loss: 3.8873e-05\n",
      "Epoch 853/1000\n",
      "25/25 [==============================] - 0s 1ms/step - loss: 3.1083e-05\n",
      "Epoch 854/1000\n",
      "25/25 [==============================] - 0s 1ms/step - loss: 2.4685e-05\n",
      "Epoch 855/1000\n",
      "25/25 [==============================] - 0s 1ms/step - loss: 2.3976e-05\n",
      "Epoch 856/1000\n",
      "25/25 [==============================] - 0s 1ms/step - loss: 3.7530e-05\n",
      "Epoch 857/1000\n",
      "25/25 [==============================] - 0s 1ms/step - loss: 4.1431e-05\n",
      "Epoch 858/1000\n",
      "25/25 [==============================] - 0s 1ms/step - loss: 5.1004e-05\n",
      "Epoch 859/1000\n",
      "25/25 [==============================] - 0s 1ms/step - loss: 5.0076e-05\n",
      "Epoch 860/1000\n",
      "25/25 [==============================] - 0s 1ms/step - loss: 5.1124e-05\n",
      "Epoch 861/1000\n",
      "25/25 [==============================] - 0s 1ms/step - loss: 5.6959e-05\n",
      "Epoch 862/1000\n",
      "25/25 [==============================] - 0s 1ms/step - loss: 3.9179e-05\n",
      "Epoch 863/1000\n",
      "25/25 [==============================] - 0s 1ms/step - loss: 5.2215e-05\n",
      "Epoch 864/1000\n",
      "25/25 [==============================] - 0s 1ms/step - loss: 5.0942e-05\n",
      "Epoch 865/1000\n",
      "25/25 [==============================] - 0s 1ms/step - loss: 1.8444e-04\n",
      "Epoch 866/1000\n",
      "25/25 [==============================] - 0s 1ms/step - loss: 6.0563e-05\n",
      "Epoch 867/1000\n",
      "25/25 [==============================] - 0s 1ms/step - loss: 1.0351e-04\n",
      "Epoch 868/1000\n",
      "25/25 [==============================] - 0s 1ms/step - loss: 1.3175e-04\n",
      "Epoch 869/1000\n",
      "25/25 [==============================] - 0s 1ms/step - loss: 9.1161e-05\n",
      "Epoch 870/1000\n",
      "25/25 [==============================] - 0s 2ms/step - loss: 5.5709e-05\n",
      "Epoch 871/1000\n",
      "25/25 [==============================] - 0s 1ms/step - loss: 6.4564e-05\n",
      "Epoch 872/1000\n",
      "25/25 [==============================] - 0s 1ms/step - loss: 6.4675e-05\n",
      "Epoch 873/1000\n",
      "25/25 [==============================] - 0s 1ms/step - loss: 4.5657e-04\n",
      "Epoch 874/1000\n",
      "25/25 [==============================] - 0s 1ms/step - loss: 5.9151e-04\n",
      "Epoch 875/1000\n",
      "25/25 [==============================] - 0s 1ms/step - loss: 2.7911e-04\n",
      "Epoch 876/1000\n",
      "25/25 [==============================] - 0s 1ms/step - loss: 2.4044e-04\n",
      "Epoch 877/1000\n",
      "25/25 [==============================] - 0s 1ms/step - loss: 1.8182e-04\n",
      "Epoch 878/1000\n",
      "25/25 [==============================] - 0s 1ms/step - loss: 9.9554e-05\n",
      "Epoch 879/1000\n",
      "25/25 [==============================] - 0s 1ms/step - loss: 2.8094e-04\n",
      "Epoch 880/1000\n",
      "25/25 [==============================] - 0s 1ms/step - loss: 2.0813e-04\n",
      "Epoch 881/1000\n",
      "25/25 [==============================] - 0s 1ms/step - loss: 1.6753e-04\n",
      "Epoch 882/1000\n",
      "25/25 [==============================] - 0s 1ms/step - loss: 9.9934e-05\n",
      "Epoch 883/1000\n",
      "25/25 [==============================] - 0s 1ms/step - loss: 1.1335e-04\n",
      "Epoch 884/1000\n",
      "25/25 [==============================] - 0s 1ms/step - loss: 1.3390e-04\n",
      "Epoch 885/1000\n",
      "25/25 [==============================] - 0s 1ms/step - loss: 9.5996e-05\n",
      "Epoch 886/1000\n",
      "25/25 [==============================] - 0s 1ms/step - loss: 2.4555e-04\n",
      "Epoch 887/1000\n",
      "25/25 [==============================] - 0s 1ms/step - loss: 1.2411e-04\n",
      "Epoch 888/1000\n",
      "25/25 [==============================] - 0s 1ms/step - loss: 6.4265e-05\n",
      "Epoch 889/1000\n",
      "25/25 [==============================] - 0s 1ms/step - loss: 4.4338e-05\n",
      "Epoch 890/1000\n",
      "25/25 [==============================] - 0s 1ms/step - loss: 4.7829e-05\n",
      "Epoch 891/1000\n",
      "25/25 [==============================] - 0s 1ms/step - loss: 4.5953e-05\n",
      "Epoch 892/1000\n",
      "25/25 [==============================] - 0s 1ms/step - loss: 3.5842e-05\n",
      "Epoch 893/1000\n",
      "25/25 [==============================] - 0s 1ms/step - loss: 5.2678e-05\n",
      "Epoch 894/1000\n",
      "25/25 [==============================] - 0s 1ms/step - loss: 6.5326e-05\n",
      "Epoch 895/1000\n",
      "25/25 [==============================] - 0s 1ms/step - loss: 4.0327e-05\n",
      "Epoch 896/1000\n",
      "25/25 [==============================] - 0s 1ms/step - loss: 5.6935e-05\n",
      "Epoch 897/1000\n",
      "25/25 [==============================] - 0s 1ms/step - loss: 5.1101e-05\n",
      "Epoch 898/1000\n",
      "25/25 [==============================] - 0s 1ms/step - loss: 7.0688e-05\n",
      "Epoch 899/1000\n",
      "25/25 [==============================] - 0s 1ms/step - loss: 5.6160e-05\n",
      "Epoch 900/1000\n",
      "25/25 [==============================] - 0s 1ms/step - loss: 4.4463e-05\n",
      "Epoch 901/1000\n",
      "25/25 [==============================] - 0s 1ms/step - loss: 4.2783e-05\n",
      "Epoch 902/1000\n",
      "25/25 [==============================] - 0s 1ms/step - loss: 5.3818e-05\n",
      "Epoch 903/1000\n",
      "25/25 [==============================] - 0s 1ms/step - loss: 2.5583e-05\n",
      "Epoch 904/1000\n",
      "25/25 [==============================] - 0s 1ms/step - loss: 2.5962e-05\n",
      "Epoch 905/1000\n",
      "25/25 [==============================] - 0s 1ms/step - loss: 3.8753e-05\n",
      "Epoch 906/1000\n",
      "25/25 [==============================] - 0s 1ms/step - loss: 4.0301e-05\n",
      "Epoch 907/1000\n",
      "25/25 [==============================] - 0s 1ms/step - loss: 5.6338e-05\n",
      "Epoch 908/1000\n",
      "25/25 [==============================] - 0s 1ms/step - loss: 1.4442e-04\n",
      "Epoch 909/1000\n",
      "25/25 [==============================] - 0s 1ms/step - loss: 4.4043e-04\n",
      "Epoch 910/1000\n",
      "25/25 [==============================] - 0s 1ms/step - loss: 3.2638e-04\n",
      "Epoch 911/1000\n",
      "25/25 [==============================] - 0s 1ms/step - loss: 1.3920e-04\n",
      "Epoch 912/1000\n",
      "25/25 [==============================] - 0s 1ms/step - loss: 1.1768e-04\n",
      "Epoch 913/1000\n",
      "25/25 [==============================] - 0s 1ms/step - loss: 7.7144e-05\n",
      "Epoch 914/1000\n",
      "25/25 [==============================] - 0s 1ms/step - loss: 7.2882e-05\n",
      "Epoch 915/1000\n",
      "25/25 [==============================] - 0s 1ms/step - loss: 3.9202e-05\n",
      "Epoch 916/1000\n",
      "25/25 [==============================] - 0s 1ms/step - loss: 6.0493e-05\n",
      "Epoch 917/1000\n",
      "25/25 [==============================] - 0s 1ms/step - loss: 7.5644e-05\n",
      "Epoch 918/1000\n",
      "25/25 [==============================] - 0s 1ms/step - loss: 1.5489e-04\n",
      "Epoch 919/1000\n",
      "25/25 [==============================] - 0s 1ms/step - loss: 9.5808e-05\n",
      "Epoch 920/1000\n",
      "25/25 [==============================] - 0s 1ms/step - loss: 9.4196e-05\n",
      "Epoch 921/1000\n",
      "25/25 [==============================] - 0s 1ms/step - loss: 6.8993e-05\n",
      "Epoch 922/1000\n",
      "25/25 [==============================] - 0s 1ms/step - loss: 6.0426e-05\n",
      "Epoch 923/1000\n",
      "25/25 [==============================] - 0s 1ms/step - loss: 5.6735e-05\n",
      "Epoch 924/1000\n",
      "25/25 [==============================] - 0s 1ms/step - loss: 4.2231e-05\n",
      "Epoch 925/1000\n",
      "25/25 [==============================] - 0s 1ms/step - loss: 2.9409e-05\n",
      "Epoch 926/1000\n",
      "25/25 [==============================] - 0s 1ms/step - loss: 4.4864e-05\n",
      "Epoch 927/1000\n",
      "25/25 [==============================] - 0s 1ms/step - loss: 5.3481e-05\n",
      "Epoch 928/1000\n",
      "25/25 [==============================] - 0s 1ms/step - loss: 1.1560e-04\n",
      "Epoch 929/1000\n",
      "25/25 [==============================] - 0s 1ms/step - loss: 5.9984e-05\n",
      "Epoch 930/1000\n",
      "25/25 [==============================] - 0s 1ms/step - loss: 6.8896e-05\n",
      "Epoch 931/1000\n",
      "25/25 [==============================] - 0s 1ms/step - loss: 6.6975e-05\n",
      "Epoch 932/1000\n",
      "25/25 [==============================] - 0s 1ms/step - loss: 5.0992e-05\n",
      "Epoch 933/1000\n",
      "25/25 [==============================] - 0s 1ms/step - loss: 4.3236e-05\n",
      "Epoch 934/1000\n",
      "25/25 [==============================] - 0s 1ms/step - loss: 4.3909e-05\n",
      "Epoch 935/1000\n",
      "25/25 [==============================] - 0s 1ms/step - loss: 2.1363e-05\n",
      "Epoch 936/1000\n",
      "25/25 [==============================] - 0s 1ms/step - loss: 2.6129e-05\n",
      "Epoch 937/1000\n",
      "25/25 [==============================] - 0s 1ms/step - loss: 4.0986e-05\n",
      "Epoch 938/1000\n",
      "25/25 [==============================] - 0s 1ms/step - loss: 6.0830e-05\n",
      "Epoch 939/1000\n",
      "25/25 [==============================] - 0s 2ms/step - loss: 6.2173e-05\n",
      "Epoch 940/1000\n",
      "25/25 [==============================] - 0s 1ms/step - loss: 6.5067e-05\n",
      "Epoch 941/1000\n",
      "25/25 [==============================] - 0s 1ms/step - loss: 7.5385e-05\n",
      "Epoch 942/1000\n",
      "25/25 [==============================] - 0s 1ms/step - loss: 5.6851e-05\n",
      "Epoch 943/1000\n",
      "25/25 [==============================] - 0s 1ms/step - loss: 8.7897e-05\n",
      "Epoch 944/1000\n",
      "25/25 [==============================] - 0s 1ms/step - loss: 5.3865e-05\n",
      "Epoch 945/1000\n",
      "25/25 [==============================] - 0s 1ms/step - loss: 7.2692e-05\n",
      "Epoch 946/1000\n",
      "25/25 [==============================] - 0s 1ms/step - loss: 6.3719e-05\n",
      "Epoch 947/1000\n",
      "25/25 [==============================] - 0s 1ms/step - loss: 7.1202e-05\n",
      "Epoch 948/1000\n",
      "25/25 [==============================] - 0s 1ms/step - loss: 1.2057e-04\n",
      "Epoch 949/1000\n",
      "25/25 [==============================] - 0s 1ms/step - loss: 5.3549e-05\n",
      "Epoch 950/1000\n",
      "25/25 [==============================] - 0s 1ms/step - loss: 9.6105e-05\n",
      "Epoch 951/1000\n",
      "25/25 [==============================] - 0s 1ms/step - loss: 6.8781e-05\n",
      "Epoch 952/1000\n",
      "25/25 [==============================] - 0s 1ms/step - loss: 7.9907e-05\n",
      "Epoch 953/1000\n",
      "25/25 [==============================] - 0s 1ms/step - loss: 9.9884e-05\n",
      "Epoch 954/1000\n",
      "25/25 [==============================] - 0s 1ms/step - loss: 1.3016e-04\n",
      "Epoch 955/1000\n",
      "25/25 [==============================] - 0s 1ms/step - loss: 5.5555e-05\n",
      "Epoch 956/1000\n",
      "25/25 [==============================] - 0s 1ms/step - loss: 4.7571e-05\n",
      "Epoch 957/1000\n",
      "25/25 [==============================] - 0s 1ms/step - loss: 2.9680e-05\n",
      "Epoch 958/1000\n",
      "25/25 [==============================] - 0s 1ms/step - loss: 3.3038e-05\n",
      "Epoch 959/1000\n",
      "25/25 [==============================] - 0s 1ms/step - loss: 3.4753e-05\n",
      "Epoch 960/1000\n",
      "25/25 [==============================] - 0s 1ms/step - loss: 2.7473e-05\n",
      "Epoch 961/1000\n",
      "25/25 [==============================] - 0s 1ms/step - loss: 3.1702e-05\n",
      "Epoch 962/1000\n",
      "25/25 [==============================] - 0s 1ms/step - loss: 5.2191e-05\n",
      "Epoch 963/1000\n",
      "25/25 [==============================] - 0s 1ms/step - loss: 2.6328e-05\n",
      "Epoch 964/1000\n",
      "25/25 [==============================] - 0s 1ms/step - loss: 5.6215e-05\n",
      "Epoch 965/1000\n",
      "25/25 [==============================] - 0s 1ms/step - loss: 1.3840e-04\n",
      "Epoch 966/1000\n",
      "25/25 [==============================] - 0s 1ms/step - loss: 6.5585e-05\n",
      "Epoch 967/1000\n",
      "25/25 [==============================] - 0s 1ms/step - loss: 8.8585e-05\n",
      "Epoch 968/1000\n",
      "25/25 [==============================] - 0s 1ms/step - loss: 1.0689e-04\n",
      "Epoch 969/1000\n",
      "25/25 [==============================] - 0s 1ms/step - loss: 1.8592e-04\n",
      "Epoch 970/1000\n",
      "25/25 [==============================] - 0s 1ms/step - loss: 1.2289e-04\n",
      "Epoch 971/1000\n",
      "25/25 [==============================] - 0s 1ms/step - loss: 6.6191e-05\n",
      "Epoch 972/1000\n",
      "25/25 [==============================] - 0s 1ms/step - loss: 6.4668e-05\n",
      "Epoch 973/1000\n",
      "25/25 [==============================] - 0s 1ms/step - loss: 2.5882e-05\n",
      "Epoch 974/1000\n",
      "25/25 [==============================] - 0s 1ms/step - loss: 4.5438e-05\n",
      "Epoch 975/1000\n",
      "25/25 [==============================] - 0s 1ms/step - loss: 5.2785e-05\n",
      "Epoch 976/1000\n",
      "25/25 [==============================] - 0s 1ms/step - loss: 5.5667e-05\n",
      "Epoch 977/1000\n",
      "25/25 [==============================] - 0s 1ms/step - loss: 4.2222e-05\n",
      "Epoch 978/1000\n",
      "25/25 [==============================] - 0s 1ms/step - loss: 6.3847e-05\n",
      "Epoch 979/1000\n",
      "25/25 [==============================] - 0s 1ms/step - loss: 5.9417e-05\n",
      "Epoch 980/1000\n",
      "25/25 [==============================] - 0s 1ms/step - loss: 7.3867e-05\n",
      "Epoch 981/1000\n",
      "25/25 [==============================] - 0s 1ms/step - loss: 1.4030e-04\n",
      "Epoch 982/1000\n",
      "25/25 [==============================] - 0s 1ms/step - loss: 9.4866e-05\n",
      "Epoch 983/1000\n",
      "25/25 [==============================] - 0s 1ms/step - loss: 8.5655e-05\n",
      "Epoch 984/1000\n",
      "25/25 [==============================] - 0s 1ms/step - loss: 6.0284e-05\n",
      "Epoch 985/1000\n",
      "25/25 [==============================] - 0s 1ms/step - loss: 6.2814e-05\n",
      "Epoch 986/1000\n",
      "25/25 [==============================] - 0s 1ms/step - loss: 7.4140e-05\n",
      "Epoch 987/1000\n",
      "25/25 [==============================] - 0s 1ms/step - loss: 6.3047e-05\n",
      "Epoch 988/1000\n",
      "25/25 [==============================] - 0s 1ms/step - loss: 6.1112e-05\n",
      "Epoch 989/1000\n",
      "25/25 [==============================] - 0s 1ms/step - loss: 5.3048e-05\n",
      "Epoch 990/1000\n",
      "25/25 [==============================] - 0s 1ms/step - loss: 6.3420e-05\n",
      "Epoch 991/1000\n",
      "25/25 [==============================] - 0s 1ms/step - loss: 6.6210e-05\n",
      "Epoch 992/1000\n",
      "25/25 [==============================] - 0s 1ms/step - loss: 6.1240e-05\n",
      "Epoch 993/1000\n",
      "25/25 [==============================] - 0s 1ms/step - loss: 4.4708e-05\n",
      "Epoch 994/1000\n",
      "25/25 [==============================] - 0s 1ms/step - loss: 7.6157e-05\n",
      "Epoch 995/1000\n",
      "25/25 [==============================] - 0s 1ms/step - loss: 8.1824e-05\n",
      "Epoch 996/1000\n",
      "25/25 [==============================] - 0s 1ms/step - loss: 1.0713e-04\n",
      "Epoch 997/1000\n",
      "25/25 [==============================] - 0s 1ms/step - loss: 2.6093e-04\n",
      "Epoch 998/1000\n",
      "25/25 [==============================] - 0s 1ms/step - loss: 3.5464e-04\n",
      "Epoch 999/1000\n",
      "25/25 [==============================] - 0s 1ms/step - loss: 2.8878e-04\n",
      "Epoch 1000/1000\n",
      "25/25 [==============================] - 0s 1ms/step - loss: 2.1293e-04\n"
     ]
    },
    {
     "data": {
      "text/plain": [
       "<tensorflow.python.keras.callbacks.History at 0x7f82e1977040>"
      ]
     },
     "execution_count": 102,
     "metadata": {},
     "output_type": "execute_result"
    }
   ],
   "source": [
    "ann = tf.keras.models.Sequential()\n",
    "ann.add(tf.keras.layers.Dense(units=64, activation='relu'))\n",
    "ann.add(tf.keras.layers.Dense(units=64, activation='relu'))\n",
    "ann.add(tf.keras.layers.Dense(units=64, activation='relu'))\n",
    "ann.add(tf.keras.layers.Dense(units=64, activation='relu'))\n",
    "ann.add(tf.keras.layers.Dense(units=64, activation='relu'))\n",
    "ann.add(tf.keras.layers.Dense(units=64, activation='relu'))\n",
    "ann.add(tf.keras.layers.Dense(units=64, activation='relu'))\n",
    "ann.add(tf.keras.layers.Dense(units=64, activation='relu'))\n",
    "ann.add(tf.keras.layers.Dense(units=64, activation='relu'))\n",
    "ann.add(tf.keras.layers.Dense(units=64, activation='relu'))\n",
    "ann.add(tf.keras.layers.Dense(units=64, activation='relu'))\n",
    "ann.add(tf.keras.layers.Dense(units=64, activation='relu'))\n",
    "\n",
    "ann.add(tf.keras.layers.Dense(units=1))\n",
    "ann.compile(optimizer = 'adam', loss = 'mean_squared_error')\n",
    "ann.fit(X_train, y_train, batch_size = 32, epochs = 1000, verbose=1)"
   ]
  },
  {
   "cell_type": "code",
   "execution_count": 103,
   "id": "b923c007-c93b-4674-af48-758edaa5c1b1",
   "metadata": {},
   "outputs": [
    {
     "data": {
      "text/plain": [
       "0.0199502927877566"
      ]
     },
     "execution_count": 103,
     "metadata": {},
     "output_type": "execute_result"
    }
   ],
   "source": [
    "mean_squared_error(y_test, ann.predict(X_test), squared=False)"
   ]
  },
  {
   "cell_type": "code",
   "execution_count": 116,
   "id": "994e2d18-8bf3-40a5-b92f-73dd7675b749",
   "metadata": {},
   "outputs": [
    {
     "data": {
      "text/html": [
       "<div>\n",
       "<style scoped>\n",
       "    .dataframe tbody tr th:only-of-type {\n",
       "        vertical-align: middle;\n",
       "    }\n",
       "\n",
       "    .dataframe tbody tr th {\n",
       "        vertical-align: top;\n",
       "    }\n",
       "\n",
       "    .dataframe thead th {\n",
       "        text-align: right;\n",
       "    }\n",
       "</style>\n",
       "<table border=\"1\" class=\"dataframe\">\n",
       "  <thead>\n",
       "    <tr style=\"text-align: right;\">\n",
       "      <th></th>\n",
       "      <th>Predictions</th>\n",
       "      <th>Actuals</th>\n",
       "      <th>Diff</th>\n",
       "    </tr>\n",
       "  </thead>\n",
       "  <tbody>\n",
       "    <tr>\n",
       "      <th>0</th>\n",
       "      <td>0.741781</td>\n",
       "      <td>0.738444</td>\n",
       "      <td>0.003337</td>\n",
       "    </tr>\n",
       "    <tr>\n",
       "      <th>1</th>\n",
       "      <td>0.746105</td>\n",
       "      <td>0.733762</td>\n",
       "      <td>0.012343</td>\n",
       "    </tr>\n",
       "    <tr>\n",
       "      <th>2</th>\n",
       "      <td>0.720723</td>\n",
       "      <td>0.722304</td>\n",
       "      <td>-0.001580</td>\n",
       "    </tr>\n",
       "    <tr>\n",
       "      <th>3</th>\n",
       "      <td>0.537965</td>\n",
       "      <td>0.532461</td>\n",
       "      <td>0.005504</td>\n",
       "    </tr>\n",
       "    <tr>\n",
       "      <th>4</th>\n",
       "      <td>0.521350</td>\n",
       "      <td>0.516163</td>\n",
       "      <td>0.005186</td>\n",
       "    </tr>\n",
       "    <tr>\n",
       "      <th>...</th>\n",
       "      <td>...</td>\n",
       "      <td>...</td>\n",
       "      <td>...</td>\n",
       "    </tr>\n",
       "    <tr>\n",
       "      <th>195</th>\n",
       "      <td>0.707716</td>\n",
       "      <td>0.719291</td>\n",
       "      <td>-0.011575</td>\n",
       "    </tr>\n",
       "    <tr>\n",
       "      <th>196</th>\n",
       "      <td>0.651549</td>\n",
       "      <td>0.655715</td>\n",
       "      <td>-0.004166</td>\n",
       "    </tr>\n",
       "    <tr>\n",
       "      <th>197</th>\n",
       "      <td>0.586085</td>\n",
       "      <td>0.585884</td>\n",
       "      <td>0.000202</td>\n",
       "    </tr>\n",
       "    <tr>\n",
       "      <th>198</th>\n",
       "      <td>0.806921</td>\n",
       "      <td>0.805055</td>\n",
       "      <td>0.001865</td>\n",
       "    </tr>\n",
       "    <tr>\n",
       "      <th>199</th>\n",
       "      <td>0.490966</td>\n",
       "      <td>0.482074</td>\n",
       "      <td>0.008893</td>\n",
       "    </tr>\n",
       "  </tbody>\n",
       "</table>\n",
       "<p>200 rows × 3 columns</p>\n",
       "</div>"
      ],
      "text/plain": [
       "     Predictions   Actuals      Diff\n",
       "0       0.741781  0.738444  0.003337\n",
       "1       0.746105  0.733762  0.012343\n",
       "2       0.720723  0.722304 -0.001580\n",
       "3       0.537965  0.532461  0.005504\n",
       "4       0.521350  0.516163  0.005186\n",
       "..           ...       ...       ...\n",
       "195     0.707716  0.719291 -0.011575\n",
       "196     0.651549  0.655715 -0.004166\n",
       "197     0.586085  0.585884  0.000202\n",
       "198     0.806921  0.805055  0.001865\n",
       "199     0.490966  0.482074  0.008893\n",
       "\n",
       "[200 rows x 3 columns]"
      ]
     },
     "execution_count": 116,
     "metadata": {},
     "output_type": "execute_result"
    }
   ],
   "source": [
    "prediction = ann.predict(X_test)\n",
    "\n",
    "res_ann = pd.DataFrame()\n",
    "res_ann[\"Predictions\"] = pd.Series(prediction.ravel())\n",
    "res_ann[\"Actuals\"] = y_test.values\n",
    "res_ann[\"Diff\"] = res_ann.Predictions - res_ann.Actuals\n",
    "res_ann"
   ]
  },
  {
   "cell_type": "code",
   "execution_count": 118,
   "id": "95858acc-58e3-4afa-9674-3e4d0af4779f",
   "metadata": {},
   "outputs": [
    {
     "data": {
      "text/html": [
       "<div>\n",
       "<style scoped>\n",
       "    .dataframe tbody tr th:only-of-type {\n",
       "        vertical-align: middle;\n",
       "    }\n",
       "\n",
       "    .dataframe tbody tr th {\n",
       "        vertical-align: top;\n",
       "    }\n",
       "\n",
       "    .dataframe thead th {\n",
       "        text-align: right;\n",
       "    }\n",
       "</style>\n",
       "<table border=\"1\" class=\"dataframe\">\n",
       "  <thead>\n",
       "    <tr style=\"text-align: right;\">\n",
       "      <th></th>\n",
       "      <th>Predictions</th>\n",
       "      <th>Actuals</th>\n",
       "      <th>Diff</th>\n",
       "    </tr>\n",
       "  </thead>\n",
       "  <tbody>\n",
       "    <tr>\n",
       "      <th>count</th>\n",
       "      <td>200.000000</td>\n",
       "      <td>200.000000</td>\n",
       "      <td>200.000000</td>\n",
       "    </tr>\n",
       "    <tr>\n",
       "      <th>mean</th>\n",
       "      <td>0.677213</td>\n",
       "      <td>0.680477</td>\n",
       "      <td>-0.003264</td>\n",
       "    </tr>\n",
       "    <tr>\n",
       "      <th>std</th>\n",
       "      <td>0.116464</td>\n",
       "      <td>0.120284</td>\n",
       "      <td>0.019731</td>\n",
       "    </tr>\n",
       "    <tr>\n",
       "      <th>min</th>\n",
       "      <td>0.459425</td>\n",
       "      <td>0.455656</td>\n",
       "      <td>-0.118662</td>\n",
       "    </tr>\n",
       "    <tr>\n",
       "      <th>25%</th>\n",
       "      <td>0.585974</td>\n",
       "      <td>0.586770</td>\n",
       "      <td>-0.006696</td>\n",
       "    </tr>\n",
       "    <tr>\n",
       "      <th>50%</th>\n",
       "      <td>0.656343</td>\n",
       "      <td>0.660770</td>\n",
       "      <td>-0.001293</td>\n",
       "    </tr>\n",
       "    <tr>\n",
       "      <th>75%</th>\n",
       "      <td>0.738359</td>\n",
       "      <td>0.738383</td>\n",
       "      <td>0.004675</td>\n",
       "    </tr>\n",
       "    <tr>\n",
       "      <th>max</th>\n",
       "      <td>1.067363</td>\n",
       "      <td>1.000000</td>\n",
       "      <td>0.067363</td>\n",
       "    </tr>\n",
       "  </tbody>\n",
       "</table>\n",
       "</div>"
      ],
      "text/plain": [
       "       Predictions     Actuals        Diff\n",
       "count   200.000000  200.000000  200.000000\n",
       "mean      0.677213    0.680477   -0.003264\n",
       "std       0.116464    0.120284    0.019731\n",
       "min       0.459425    0.455656   -0.118662\n",
       "25%       0.585974    0.586770   -0.006696\n",
       "50%       0.656343    0.660770   -0.001293\n",
       "75%       0.738359    0.738383    0.004675\n",
       "max       1.067363    1.000000    0.067363"
      ]
     },
     "execution_count": 118,
     "metadata": {},
     "output_type": "execute_result"
    }
   ],
   "source": [
    "res_ann.describe()"
   ]
  },
  {
   "cell_type": "code",
   "execution_count": 119,
   "id": "93dd0015-2eaa-4d99-a93b-fff3a5fba256",
   "metadata": {},
   "outputs": [
    {
     "data": {
      "application/vnd.plotly.v1+json": {
       "config": {
        "plotlyServerURL": "https://plot.ly"
       },
       "data": [
        {
         "hovertemplate": "Actuals=%{x}<br>Predictions=%{y}<extra></extra>",
         "legendgroup": "",
         "marker": {
          "color": "#636efa",
          "symbol": "circle"
         },
         "mode": "markers",
         "name": "",
         "orientation": "v",
         "showlegend": false,
         "type": "scatter",
         "x": [
          0.7384442,
          0.73376239,
          0.72230384,
          0.53246076,
          0.51616329,
          0.96336483,
          0.67098905,
          0.71171478,
          0.67916698,
          0.74361626,
          0.90528937,
          0.70889569,
          0.51104023,
          0.75194972,
          0.5434895,
          0.69164226,
          0.93743959,
          0.76276188,
          0.81167856,
          0.58469904,
          0.79625676,
          0.65894324,
          1,
          0.5887795,
          0.59797309,
          0.7227172,
          0.86927816,
          0.66087333,
          0.80259969,
          0.56959259,
          0.6483484,
          0.70224112,
          0.51921474,
          0.54753098,
          0.66066764,
          0.71037392,
          0.57979038,
          0.82904739,
          0.54767064,
          0.73361427,
          0.57786739,
          0.62965242,
          0.75661113,
          0.58856543,
          0.59423058,
          0.65445616,
          0.6180638,
          0.67534882,
          0.72684409,
          0.65210758,
          0.59003472,
          0.72993045,
          0.65482257,
          1,
          0.58286615,
          0.48413374,
          0.4601164,
          0.72364259,
          0.74764051,
          0.56104427,
          0.64969212,
          0.5688136,
          0.56834883,
          0.58178173,
          0.55980337,
          0.56374627,
          0.68870019,
          0.56269342,
          0.57866113,
          0.54552189,
          0.53909477,
          0.64895309,
          0.67885294,
          0.57952193,
          0.52761138,
          0.58047194,
          0.61063596,
          0.71339824,
          0.66642786,
          0.5457118,
          0.6616516,
          0.62858972,
          0.85845155,
          0.51554291,
          0.78841538,
          0.73836209,
          0.69420056,
          0.64458675,
          0.78461273,
          0.71516634,
          0.96447129,
          0.80652511,
          0.65947849,
          0.64798891,
          0.65173542,
          0.593676,
          0.57091219,
          0.71173102,
          0.7066877,
          0.57410991,
          0.58706504,
          0.64306354,
          0.58960352,
          0.67878983,
          0.73250484,
          0.47530942,
          0.57891929,
          0.61411078,
          0.68392306,
          0.60427085,
          0.53960483,
          0.72151207,
          0.86488199,
          0.68967942,
          0.71040288,
          0.57661682,
          1,
          1,
          0.79628407,
          0.71768808,
          0.75660264,
          0.7105446,
          0.61643514,
          0.71130736,
          0.5978892,
          0.7417454,
          0.61414542,
          0.59066643,
          0.70533936,
          0.74946577,
          0.57567461,
          0.81205372,
          0.61245114,
          0.60764739,
          0.87135304,
          0.45565628,
          0.66412937,
          0.6730554,
          0.54628545,
          0.68098005,
          0.55508632,
          0.6024248,
          0.7660951,
          0.6610094,
          0.85395965,
          0.98213417,
          0.72406364,
          0.66948785,
          0.80151889,
          0.67321311,
          0.96864799,
          0.58006283,
          0.5917353,
          0.75478667,
          0.75719697,
          0.63153449,
          0.73633785,
          0.69494143,
          0.6561177,
          0.56617759,
          0.70182301,
          0.51625621,
          0.79404039,
          0.64084632,
          0.86321305,
          0.92227219,
          0.63553279,
          0.77406185,
          0.62712654,
          0.64918999,
          0.53934719,
          0.57750935,
          0.64216181,
          0.7263451,
          0.62201419,
          0.77574627,
          0.94320709,
          0.55437257,
          0.65797636,
          0.72858291,
          0.52264911,
          0.9510686,
          0.61501818,
          0.82954756,
          0.73433167,
          0.88660721,
          0.61332524,
          1,
          0.79635784,
          0.8254783,
          0.65226798,
          0.61819229,
          0.56541682,
          0.59306312,
          0.57863281,
          0.71929123,
          0.65571471,
          0.58588369,
          0.80505535,
          0.48207362
         ],
         "xaxis": "x",
         "y": [
          0.7417811751365662,
          0.746105432510376,
          0.7207233905792236,
          0.5379651784896851,
          0.5213496088981628,
          0.98499596118927,
          0.674228310585022,
          0.700566828250885,
          0.655664324760437,
          0.7382078766822815,
          0.8570767641067505,
          0.7045228481292725,
          0.5185678005218506,
          0.7532567977905273,
          0.5372968316078186,
          0.6891376972198486,
          0.8409191966056824,
          0.7666116952896118,
          0.79472416639328,
          0.5756643414497375,
          0.8048943281173706,
          0.6492713093757629,
          1.0171006917953491,
          0.5855540633201599,
          0.6093774437904358,
          0.7168174982070923,
          0.8634909987449646,
          0.6483697891235352,
          0.7956858277320862,
          0.5734487771987915,
          0.6309919357299805,
          0.6941108107566833,
          0.5234900712966919,
          0.5486609935760498,
          0.6516355276107788,
          0.704006016254425,
          0.5746885538101196,
          0.8262403011322021,
          0.5383672118186951,
          0.7435508966445923,
          0.5788614749908447,
          0.6355146765708923,
          0.7425844669342041,
          0.5854805111885071,
          0.6031755208969116,
          0.6537142992019653,
          0.6145105361938477,
          0.6635770201683044,
          0.7354933619499207,
          0.641930878162384,
          0.5888410806655884,
          0.7313787937164307,
          0.6481990814208984,
          1.0673633813858032,
          0.5811934471130371,
          0.4594246745109558,
          0.47235405445098877,
          0.7254499793052673,
          0.7508801221847534,
          0.5457009077072144,
          0.6462774276733398,
          0.5678651928901672,
          0.5629605650901794,
          0.5812232494354248,
          0.5489679574966431,
          0.5651240348815918,
          0.6844856142997742,
          0.5594316720962524,
          0.5785805583000183,
          0.5462459921836853,
          0.5507532358169556,
          0.6345189809799194,
          0.6745638251304626,
          0.5870134234428406,
          0.5173316597938538,
          0.5774165391921997,
          0.6190120577812195,
          0.72254478931427,
          0.6734672784805298,
          0.5538889765739441,
          0.6602075695991516,
          0.6333096623420715,
          0.8611013293266296,
          0.5160183310508728,
          0.7903162837028503,
          0.7785649299621582,
          0.7184804081916809,
          0.6340433955192566,
          0.7965599894523621,
          0.7222356200218201,
          0.8458091020584106,
          0.839138388633728,
          0.6545994877815247,
          0.6501999497413635,
          0.6493239402770996,
          0.5972249507904053,
          0.5652885437011719,
          0.7037670016288757,
          0.7045961618423462,
          0.5734583139419556,
          0.5888537168502808,
          0.633650004863739,
          0.5856412053108215,
          0.6693031191825867,
          0.7320314049720764,
          0.4822566509246826,
          0.5799238085746765,
          0.6149994730949402,
          0.6763622164726257,
          0.599952757358551,
          0.5445896983146667,
          0.7313177585601807,
          0.8407164216041565,
          0.686528205871582,
          0.7154731154441833,
          0.5916953086853027,
          0.9394401907920837,
          0.905731737613678,
          0.7939056158065796,
          0.7021557092666626,
          0.7116789817810059,
          0.7141196727752686,
          0.6195576786994934,
          0.7047604322433472,
          0.5990684032440186,
          0.7325965762138367,
          0.6060792207717896,
          0.5967394113540649,
          0.6994811296463013,
          0.7065168619155884,
          0.5721516013145447,
          0.8186661601066589,
          0.6096474528312683,
          0.6024035811424255,
          0.8962228894233704,
          0.46491730213165283,
          0.6627041101455688,
          0.6792296767234802,
          0.5461671948432922,
          0.6751227378845215,
          0.5589935779571533,
          0.603247344493866,
          0.776395857334137,
          0.6571973562240601,
          0.9050076007843018,
          0.9254568219184875,
          0.6982046365737915,
          0.6674371957778931,
          0.8061788082122803,
          0.6785802245140076,
          0.9033455848693848,
          0.5750482082366943,
          0.597578763961792,
          0.7629362940788269,
          0.7448465824127197,
          0.6316831707954407,
          0.7340342402458191,
          0.680161714553833,
          0.6570225954055786,
          0.5608353018760681,
          0.7028349041938782,
          0.5207229256629944,
          0.7888489365577698,
          0.6289463639259338,
          0.913293182849884,
          0.9283027052879333,
          0.6305370330810547,
          0.7451657056808472,
          0.6233193278312683,
          0.6508535742759705,
          0.5448684096336365,
          0.5812808275222778,
          0.6399891972541809,
          0.7276351451873779,
          0.6230044960975647,
          0.7707603573799133,
          0.9034220576286316,
          0.555026650428772,
          0.6641213297843933,
          0.7388136386871338,
          0.5280242562294006,
          0.9496755599975586,
          0.6115097999572754,
          0.8122692704200745,
          0.7257892489433289,
          0.9175766110420227,
          0.6246781945228577,
          0.9705008864402771,
          0.7806331515312195,
          0.8248195052146912,
          0.6440532803535461,
          0.5977495908737183,
          0.5674887299537659,
          0.5948206782341003,
          0.5809325575828552,
          0.707716166973114,
          0.6515491604804993,
          0.5860852599143982,
          0.8069205284118652,
          0.49096643924713135
         ],
         "yaxis": "y"
        }
       ],
       "layout": {
        "autosize": false,
        "height": 500,
        "legend": {
         "tracegroupgap": 0
        },
        "margin": {
         "t": 60
        },
        "template": {
         "data": {
          "bar": [
           {
            "error_x": {
             "color": "#2a3f5f"
            },
            "error_y": {
             "color": "#2a3f5f"
            },
            "marker": {
             "line": {
              "color": "#E5ECF6",
              "width": 0.5
             },
             "pattern": {
              "fillmode": "overlay",
              "size": 10,
              "solidity": 0.2
             }
            },
            "type": "bar"
           }
          ],
          "barpolar": [
           {
            "marker": {
             "line": {
              "color": "#E5ECF6",
              "width": 0.5
             },
             "pattern": {
              "fillmode": "overlay",
              "size": 10,
              "solidity": 0.2
             }
            },
            "type": "barpolar"
           }
          ],
          "carpet": [
           {
            "aaxis": {
             "endlinecolor": "#2a3f5f",
             "gridcolor": "white",
             "linecolor": "white",
             "minorgridcolor": "white",
             "startlinecolor": "#2a3f5f"
            },
            "baxis": {
             "endlinecolor": "#2a3f5f",
             "gridcolor": "white",
             "linecolor": "white",
             "minorgridcolor": "white",
             "startlinecolor": "#2a3f5f"
            },
            "type": "carpet"
           }
          ],
          "choropleth": [
           {
            "colorbar": {
             "outlinewidth": 0,
             "ticks": ""
            },
            "type": "choropleth"
           }
          ],
          "contour": [
           {
            "colorbar": {
             "outlinewidth": 0,
             "ticks": ""
            },
            "colorscale": [
             [
              0,
              "#0d0887"
             ],
             [
              0.1111111111111111,
              "#46039f"
             ],
             [
              0.2222222222222222,
              "#7201a8"
             ],
             [
              0.3333333333333333,
              "#9c179e"
             ],
             [
              0.4444444444444444,
              "#bd3786"
             ],
             [
              0.5555555555555556,
              "#d8576b"
             ],
             [
              0.6666666666666666,
              "#ed7953"
             ],
             [
              0.7777777777777778,
              "#fb9f3a"
             ],
             [
              0.8888888888888888,
              "#fdca26"
             ],
             [
              1,
              "#f0f921"
             ]
            ],
            "type": "contour"
           }
          ],
          "contourcarpet": [
           {
            "colorbar": {
             "outlinewidth": 0,
             "ticks": ""
            },
            "type": "contourcarpet"
           }
          ],
          "heatmap": [
           {
            "colorbar": {
             "outlinewidth": 0,
             "ticks": ""
            },
            "colorscale": [
             [
              0,
              "#0d0887"
             ],
             [
              0.1111111111111111,
              "#46039f"
             ],
             [
              0.2222222222222222,
              "#7201a8"
             ],
             [
              0.3333333333333333,
              "#9c179e"
             ],
             [
              0.4444444444444444,
              "#bd3786"
             ],
             [
              0.5555555555555556,
              "#d8576b"
             ],
             [
              0.6666666666666666,
              "#ed7953"
             ],
             [
              0.7777777777777778,
              "#fb9f3a"
             ],
             [
              0.8888888888888888,
              "#fdca26"
             ],
             [
              1,
              "#f0f921"
             ]
            ],
            "type": "heatmap"
           }
          ],
          "heatmapgl": [
           {
            "colorbar": {
             "outlinewidth": 0,
             "ticks": ""
            },
            "colorscale": [
             [
              0,
              "#0d0887"
             ],
             [
              0.1111111111111111,
              "#46039f"
             ],
             [
              0.2222222222222222,
              "#7201a8"
             ],
             [
              0.3333333333333333,
              "#9c179e"
             ],
             [
              0.4444444444444444,
              "#bd3786"
             ],
             [
              0.5555555555555556,
              "#d8576b"
             ],
             [
              0.6666666666666666,
              "#ed7953"
             ],
             [
              0.7777777777777778,
              "#fb9f3a"
             ],
             [
              0.8888888888888888,
              "#fdca26"
             ],
             [
              1,
              "#f0f921"
             ]
            ],
            "type": "heatmapgl"
           }
          ],
          "histogram": [
           {
            "marker": {
             "pattern": {
              "fillmode": "overlay",
              "size": 10,
              "solidity": 0.2
             }
            },
            "type": "histogram"
           }
          ],
          "histogram2d": [
           {
            "colorbar": {
             "outlinewidth": 0,
             "ticks": ""
            },
            "colorscale": [
             [
              0,
              "#0d0887"
             ],
             [
              0.1111111111111111,
              "#46039f"
             ],
             [
              0.2222222222222222,
              "#7201a8"
             ],
             [
              0.3333333333333333,
              "#9c179e"
             ],
             [
              0.4444444444444444,
              "#bd3786"
             ],
             [
              0.5555555555555556,
              "#d8576b"
             ],
             [
              0.6666666666666666,
              "#ed7953"
             ],
             [
              0.7777777777777778,
              "#fb9f3a"
             ],
             [
              0.8888888888888888,
              "#fdca26"
             ],
             [
              1,
              "#f0f921"
             ]
            ],
            "type": "histogram2d"
           }
          ],
          "histogram2dcontour": [
           {
            "colorbar": {
             "outlinewidth": 0,
             "ticks": ""
            },
            "colorscale": [
             [
              0,
              "#0d0887"
             ],
             [
              0.1111111111111111,
              "#46039f"
             ],
             [
              0.2222222222222222,
              "#7201a8"
             ],
             [
              0.3333333333333333,
              "#9c179e"
             ],
             [
              0.4444444444444444,
              "#bd3786"
             ],
             [
              0.5555555555555556,
              "#d8576b"
             ],
             [
              0.6666666666666666,
              "#ed7953"
             ],
             [
              0.7777777777777778,
              "#fb9f3a"
             ],
             [
              0.8888888888888888,
              "#fdca26"
             ],
             [
              1,
              "#f0f921"
             ]
            ],
            "type": "histogram2dcontour"
           }
          ],
          "mesh3d": [
           {
            "colorbar": {
             "outlinewidth": 0,
             "ticks": ""
            },
            "type": "mesh3d"
           }
          ],
          "parcoords": [
           {
            "line": {
             "colorbar": {
              "outlinewidth": 0,
              "ticks": ""
             }
            },
            "type": "parcoords"
           }
          ],
          "pie": [
           {
            "automargin": true,
            "type": "pie"
           }
          ],
          "scatter": [
           {
            "marker": {
             "colorbar": {
              "outlinewidth": 0,
              "ticks": ""
             }
            },
            "type": "scatter"
           }
          ],
          "scatter3d": [
           {
            "line": {
             "colorbar": {
              "outlinewidth": 0,
              "ticks": ""
             }
            },
            "marker": {
             "colorbar": {
              "outlinewidth": 0,
              "ticks": ""
             }
            },
            "type": "scatter3d"
           }
          ],
          "scattercarpet": [
           {
            "marker": {
             "colorbar": {
              "outlinewidth": 0,
              "ticks": ""
             }
            },
            "type": "scattercarpet"
           }
          ],
          "scattergeo": [
           {
            "marker": {
             "colorbar": {
              "outlinewidth": 0,
              "ticks": ""
             }
            },
            "type": "scattergeo"
           }
          ],
          "scattergl": [
           {
            "marker": {
             "colorbar": {
              "outlinewidth": 0,
              "ticks": ""
             }
            },
            "type": "scattergl"
           }
          ],
          "scattermapbox": [
           {
            "marker": {
             "colorbar": {
              "outlinewidth": 0,
              "ticks": ""
             }
            },
            "type": "scattermapbox"
           }
          ],
          "scatterpolar": [
           {
            "marker": {
             "colorbar": {
              "outlinewidth": 0,
              "ticks": ""
             }
            },
            "type": "scatterpolar"
           }
          ],
          "scatterpolargl": [
           {
            "marker": {
             "colorbar": {
              "outlinewidth": 0,
              "ticks": ""
             }
            },
            "type": "scatterpolargl"
           }
          ],
          "scatterternary": [
           {
            "marker": {
             "colorbar": {
              "outlinewidth": 0,
              "ticks": ""
             }
            },
            "type": "scatterternary"
           }
          ],
          "surface": [
           {
            "colorbar": {
             "outlinewidth": 0,
             "ticks": ""
            },
            "colorscale": [
             [
              0,
              "#0d0887"
             ],
             [
              0.1111111111111111,
              "#46039f"
             ],
             [
              0.2222222222222222,
              "#7201a8"
             ],
             [
              0.3333333333333333,
              "#9c179e"
             ],
             [
              0.4444444444444444,
              "#bd3786"
             ],
             [
              0.5555555555555556,
              "#d8576b"
             ],
             [
              0.6666666666666666,
              "#ed7953"
             ],
             [
              0.7777777777777778,
              "#fb9f3a"
             ],
             [
              0.8888888888888888,
              "#fdca26"
             ],
             [
              1,
              "#f0f921"
             ]
            ],
            "type": "surface"
           }
          ],
          "table": [
           {
            "cells": {
             "fill": {
              "color": "#EBF0F8"
             },
             "line": {
              "color": "white"
             }
            },
            "header": {
             "fill": {
              "color": "#C8D4E3"
             },
             "line": {
              "color": "white"
             }
            },
            "type": "table"
           }
          ]
         },
         "layout": {
          "annotationdefaults": {
           "arrowcolor": "#2a3f5f",
           "arrowhead": 0,
           "arrowwidth": 1
          },
          "autotypenumbers": "strict",
          "coloraxis": {
           "colorbar": {
            "outlinewidth": 0,
            "ticks": ""
           }
          },
          "colorscale": {
           "diverging": [
            [
             0,
             "#8e0152"
            ],
            [
             0.1,
             "#c51b7d"
            ],
            [
             0.2,
             "#de77ae"
            ],
            [
             0.3,
             "#f1b6da"
            ],
            [
             0.4,
             "#fde0ef"
            ],
            [
             0.5,
             "#f7f7f7"
            ],
            [
             0.6,
             "#e6f5d0"
            ],
            [
             0.7,
             "#b8e186"
            ],
            [
             0.8,
             "#7fbc41"
            ],
            [
             0.9,
             "#4d9221"
            ],
            [
             1,
             "#276419"
            ]
           ],
           "sequential": [
            [
             0,
             "#0d0887"
            ],
            [
             0.1111111111111111,
             "#46039f"
            ],
            [
             0.2222222222222222,
             "#7201a8"
            ],
            [
             0.3333333333333333,
             "#9c179e"
            ],
            [
             0.4444444444444444,
             "#bd3786"
            ],
            [
             0.5555555555555556,
             "#d8576b"
            ],
            [
             0.6666666666666666,
             "#ed7953"
            ],
            [
             0.7777777777777778,
             "#fb9f3a"
            ],
            [
             0.8888888888888888,
             "#fdca26"
            ],
            [
             1,
             "#f0f921"
            ]
           ],
           "sequentialminus": [
            [
             0,
             "#0d0887"
            ],
            [
             0.1111111111111111,
             "#46039f"
            ],
            [
             0.2222222222222222,
             "#7201a8"
            ],
            [
             0.3333333333333333,
             "#9c179e"
            ],
            [
             0.4444444444444444,
             "#bd3786"
            ],
            [
             0.5555555555555556,
             "#d8576b"
            ],
            [
             0.6666666666666666,
             "#ed7953"
            ],
            [
             0.7777777777777778,
             "#fb9f3a"
            ],
            [
             0.8888888888888888,
             "#fdca26"
            ],
            [
             1,
             "#f0f921"
            ]
           ]
          },
          "colorway": [
           "#636efa",
           "#EF553B",
           "#00cc96",
           "#ab63fa",
           "#FFA15A",
           "#19d3f3",
           "#FF6692",
           "#B6E880",
           "#FF97FF",
           "#FECB52"
          ],
          "font": {
           "color": "#2a3f5f"
          },
          "geo": {
           "bgcolor": "white",
           "lakecolor": "white",
           "landcolor": "#E5ECF6",
           "showlakes": true,
           "showland": true,
           "subunitcolor": "white"
          },
          "hoverlabel": {
           "align": "left"
          },
          "hovermode": "closest",
          "mapbox": {
           "style": "light"
          },
          "paper_bgcolor": "white",
          "plot_bgcolor": "#E5ECF6",
          "polar": {
           "angularaxis": {
            "gridcolor": "white",
            "linecolor": "white",
            "ticks": ""
           },
           "bgcolor": "#E5ECF6",
           "radialaxis": {
            "gridcolor": "white",
            "linecolor": "white",
            "ticks": ""
           }
          },
          "scene": {
           "xaxis": {
            "backgroundcolor": "#E5ECF6",
            "gridcolor": "white",
            "gridwidth": 2,
            "linecolor": "white",
            "showbackground": true,
            "ticks": "",
            "zerolinecolor": "white"
           },
           "yaxis": {
            "backgroundcolor": "#E5ECF6",
            "gridcolor": "white",
            "gridwidth": 2,
            "linecolor": "white",
            "showbackground": true,
            "ticks": "",
            "zerolinecolor": "white"
           },
           "zaxis": {
            "backgroundcolor": "#E5ECF6",
            "gridcolor": "white",
            "gridwidth": 2,
            "linecolor": "white",
            "showbackground": true,
            "ticks": "",
            "zerolinecolor": "white"
           }
          },
          "shapedefaults": {
           "line": {
            "color": "#2a3f5f"
           }
          },
          "ternary": {
           "aaxis": {
            "gridcolor": "white",
            "linecolor": "white",
            "ticks": ""
           },
           "baxis": {
            "gridcolor": "white",
            "linecolor": "white",
            "ticks": ""
           },
           "bgcolor": "#E5ECF6",
           "caxis": {
            "gridcolor": "white",
            "linecolor": "white",
            "ticks": ""
           }
          },
          "title": {
           "x": 0.05
          },
          "xaxis": {
           "automargin": true,
           "gridcolor": "white",
           "linecolor": "white",
           "ticks": "",
           "title": {
            "standoff": 15
           },
           "zerolinecolor": "white",
           "zerolinewidth": 2
          },
          "yaxis": {
           "automargin": true,
           "gridcolor": "white",
           "linecolor": "white",
           "ticks": "",
           "title": {
            "standoff": 15
           },
           "zerolinecolor": "white",
           "zerolinewidth": 2
          }
         }
        },
        "title": {
         "text": "Predictions - Actuals Comparison"
        },
        "width": 800,
        "xaxis": {
         "anchor": "y",
         "autorange": true,
         "domain": [
          0,
          1
         ],
         "range": [
          0.421425342462621,
          1.034230937537379
         ],
         "title": {
          "text": "Actuals"
         },
         "type": "linear"
        },
        "yaxis": {
         "anchor": "x",
         "autorange": true,
         "domain": [
          0,
          1
         ],
         "range": [
          0.41764689607642835,
          1.1091411598203307
         ],
         "title": {
          "text": "Predictions"
         },
         "type": "linear"
        }
       }
      },
      "image/png": "[encoded data removed]",
      "text/html": [
       "<div>                            <div id=\"e0493c95-cd93-41fa-a165-57dc0ea019b4\" class=\"plotly-graph-div\" style=\"height:500px; width:800px;\"></div>            <script type=\"text/javascript\">                require([\"plotly\"], function(Plotly) {                    window.PLOTLYENV=window.PLOTLYENV || {};                                    if (document.getElementById(\"e0493c95-cd93-41fa-a165-57dc0ea019b4\")) {                    Plotly.newPlot(                        \"e0493c95-cd93-41fa-a165-57dc0ea019b4\",                        [{\"hovertemplate\":\"Actuals=%{x}<br>Predictions=%{y}<extra></extra>\",\"legendgroup\":\"\",\"marker\":{\"color\":\"#636efa\",\"symbol\":\"circle\"},\"mode\":\"markers\",\"name\":\"\",\"orientation\":\"v\",\"showlegend\":false,\"x\":[0.7384442,0.73376239,0.72230384,0.53246076,0.51616329,0.96336483,0.67098905,0.71171478,0.67916698,0.74361626,0.90528937,0.70889569,0.51104023,0.75194972,0.5434895,0.69164226,0.93743959,0.76276188,0.81167856,0.58469904,0.79625676,0.65894324,1.0,0.5887795,0.59797309,0.7227172,0.86927816,0.66087333,0.80259969,0.56959259,0.6483484,0.70224112,0.51921474,0.54753098,0.66066764,0.71037392,0.57979038,0.82904739,0.54767064,0.73361427,0.57786739,0.62965242,0.75661113,0.58856543,0.59423058,0.65445616,0.6180638,0.67534882,0.72684409,0.65210758,0.59003472,0.72993045,0.65482257,1.0,0.58286615,0.48413374,0.4601164,0.72364259,0.74764051,0.56104427,0.64969212,0.5688136,0.56834883,0.58178173,0.55980337,0.56374627,0.68870019,0.56269342,0.57866113,0.54552189,0.53909477,0.64895309,0.67885294,0.57952193,0.52761138,0.58047194,0.61063596,0.71339824,0.66642786,0.5457118,0.6616516,0.62858972,0.85845155,0.51554291,0.78841538,0.73836209,0.69420056,0.64458675,0.78461273,0.71516634,0.96447129,0.80652511,0.65947849,0.64798891,0.65173542,0.593676,0.57091219,0.71173102,0.7066877,0.57410991,0.58706504,0.64306354,0.58960352,0.67878983,0.73250484,0.47530942,0.57891929,0.61411078,0.68392306,0.60427085,0.53960483,0.72151207,0.86488199,0.68967942,0.71040288,0.57661682,1.0,1.0,0.79628407,0.71768808,0.75660264,0.7105446,0.61643514,0.71130736,0.5978892,0.7417454,0.61414542,0.59066643,0.70533936,0.74946577,0.57567461,0.81205372,0.61245114,0.60764739,0.87135304,0.45565628,0.66412937,0.6730554,0.54628545,0.68098005,0.55508632,0.6024248,0.7660951,0.6610094,0.85395965,0.98213417,0.72406364,0.66948785,0.80151889,0.67321311,0.96864799,0.58006283,0.5917353,0.75478667,0.75719697,0.63153449,0.73633785,0.69494143,0.6561177,0.56617759,0.70182301,0.51625621,0.79404039,0.64084632,0.86321305,0.92227219,0.63553279,0.77406185,0.62712654,0.64918999,0.53934719,0.57750935,0.64216181,0.7263451,0.62201419,0.77574627,0.94320709,0.55437257,0.65797636,0.72858291,0.52264911,0.9510686,0.61501818,0.82954756,0.73433167,0.88660721,0.61332524,1.0,0.79635784,0.8254783,0.65226798,0.61819229,0.56541682,0.59306312,0.57863281,0.71929123,0.65571471,0.58588369,0.80505535,0.48207362],\"xaxis\":\"x\",\"y\":[0.7417811751365662,0.746105432510376,0.7207233905792236,0.5379651784896851,0.5213496088981628,0.98499596118927,0.674228310585022,0.700566828250885,0.655664324760437,0.7382078766822815,0.8570767641067505,0.7045228481292725,0.5185678005218506,0.7532567977905273,0.5372968316078186,0.6891376972198486,0.8409191966056824,0.7666116952896118,0.79472416639328,0.5756643414497375,0.8048943281173706,0.6492713093757629,1.0171006917953491,0.5855540633201599,0.6093774437904358,0.7168174982070923,0.8634909987449646,0.6483697891235352,0.7956858277320862,0.5734487771987915,0.6309919357299805,0.6941108107566833,0.5234900712966919,0.5486609935760498,0.6516355276107788,0.704006016254425,0.5746885538101196,0.8262403011322021,0.5383672118186951,0.7435508966445923,0.5788614749908447,0.6355146765708923,0.7425844669342041,0.5854805111885071,0.6031755208969116,0.6537142992019653,0.6145105361938477,0.6635770201683044,0.7354933619499207,0.641930878162384,0.5888410806655884,0.7313787937164307,0.6481990814208984,1.0673633813858032,0.5811934471130371,0.4594246745109558,0.47235405445098877,0.7254499793052673,0.7508801221847534,0.5457009077072144,0.6462774276733398,0.5678651928901672,0.5629605650901794,0.5812232494354248,0.5489679574966431,0.5651240348815918,0.6844856142997742,0.5594316720962524,0.5785805583000183,0.5462459921836853,0.5507532358169556,0.6345189809799194,0.6745638251304626,0.5870134234428406,0.5173316597938538,0.5774165391921997,0.6190120577812195,0.72254478931427,0.6734672784805298,0.5538889765739441,0.6602075695991516,0.6333096623420715,0.8611013293266296,0.5160183310508728,0.7903162837028503,0.7785649299621582,0.7184804081916809,0.6340433955192566,0.7965599894523621,0.7222356200218201,0.8458091020584106,0.839138388633728,0.6545994877815247,0.6501999497413635,0.6493239402770996,0.5972249507904053,0.5652885437011719,0.7037670016288757,0.7045961618423462,0.5734583139419556,0.5888537168502808,0.633650004863739,0.5856412053108215,0.6693031191825867,0.7320314049720764,0.4822566509246826,0.5799238085746765,0.6149994730949402,0.6763622164726257,0.599952757358551,0.5445896983146667,0.7313177585601807,0.8407164216041565,0.686528205871582,0.7154731154441833,0.5916953086853027,0.9394401907920837,0.905731737613678,0.7939056158065796,0.7021557092666626,0.7116789817810059,0.7141196727752686,0.6195576786994934,0.7047604322433472,0.5990684032440186,0.7325965762138367,0.6060792207717896,0.5967394113540649,0.6994811296463013,0.7065168619155884,0.5721516013145447,0.8186661601066589,0.6096474528312683,0.6024035811424255,0.8962228894233704,0.46491730213165283,0.6627041101455688,0.6792296767234802,0.5461671948432922,0.6751227378845215,0.5589935779571533,0.603247344493866,0.776395857334137,0.6571973562240601,0.9050076007843018,0.9254568219184875,0.6982046365737915,0.6674371957778931,0.8061788082122803,0.6785802245140076,0.9033455848693848,0.5750482082366943,0.597578763961792,0.7629362940788269,0.7448465824127197,0.6316831707954407,0.7340342402458191,0.680161714553833,0.6570225954055786,0.5608353018760681,0.7028349041938782,0.5207229256629944,0.7888489365577698,0.6289463639259338,0.913293182849884,0.9283027052879333,0.6305370330810547,0.7451657056808472,0.6233193278312683,0.6508535742759705,0.5448684096336365,0.5812808275222778,0.6399891972541809,0.7276351451873779,0.6230044960975647,0.7707603573799133,0.9034220576286316,0.555026650428772,0.6641213297843933,0.7388136386871338,0.5280242562294006,0.9496755599975586,0.6115097999572754,0.8122692704200745,0.7257892489433289,0.9175766110420227,0.6246781945228577,0.9705008864402771,0.7806331515312195,0.8248195052146912,0.6440532803535461,0.5977495908737183,0.5674887299537659,0.5948206782341003,0.5809325575828552,0.707716166973114,0.6515491604804993,0.5860852599143982,0.8069205284118652,0.49096643924713135],\"yaxis\":\"y\",\"type\":\"scatter\"}],                        {\"template\":{\"data\":{\"bar\":[{\"error_x\":{\"color\":\"#2a3f5f\"},\"error_y\":{\"color\":\"#2a3f5f\"},\"marker\":{\"line\":{\"color\":\"#E5ECF6\",\"width\":0.5},\"pattern\":{\"fillmode\":\"overlay\",\"size\":10,\"solidity\":0.2}},\"type\":\"bar\"}],\"barpolar\":[{\"marker\":{\"line\":{\"color\":\"#E5ECF6\",\"width\":0.5},\"pattern\":{\"fillmode\":\"overlay\",\"size\":10,\"solidity\":0.2}},\"type\":\"barpolar\"}],\"carpet\":[{\"aaxis\":{\"endlinecolor\":\"#2a3f5f\",\"gridcolor\":\"white\",\"linecolor\":\"white\",\"minorgridcolor\":\"white\",\"startlinecolor\":\"#2a3f5f\"},\"baxis\":{\"endlinecolor\":\"#2a3f5f\",\"gridcolor\":\"white\",\"linecolor\":\"white\",\"minorgridcolor\":\"white\",\"startlinecolor\":\"#2a3f5f\"},\"type\":\"carpet\"}],\"choropleth\":[{\"colorbar\":{\"outlinewidth\":0,\"ticks\":\"\"},\"type\":\"choropleth\"}],\"contour\":[{\"colorbar\":{\"outlinewidth\":0,\"ticks\":\"\"},\"colorscale\":[[0.0,\"#0d0887\"],[0.1111111111111111,\"#46039f\"],[0.2222222222222222,\"#7201a8\"],[0.3333333333333333,\"#9c179e\"],[0.4444444444444444,\"#bd3786\"],[0.5555555555555556,\"#d8576b\"],[0.6666666666666666,\"#ed7953\"],[0.7777777777777778,\"#fb9f3a\"],[0.8888888888888888,\"#fdca26\"],[1.0,\"#f0f921\"]],\"type\":\"contour\"}],\"contourcarpet\":[{\"colorbar\":{\"outlinewidth\":0,\"ticks\":\"\"},\"type\":\"contourcarpet\"}],\"heatmap\":[{\"colorbar\":{\"outlinewidth\":0,\"ticks\":\"\"},\"colorscale\":[[0.0,\"#0d0887\"],[0.1111111111111111,\"#46039f\"],[0.2222222222222222,\"#7201a8\"],[0.3333333333333333,\"#9c179e\"],[0.4444444444444444,\"#bd3786\"],[0.5555555555555556,\"#d8576b\"],[0.6666666666666666,\"#ed7953\"],[0.7777777777777778,\"#fb9f3a\"],[0.8888888888888888,\"#fdca26\"],[1.0,\"#f0f921\"]],\"type\":\"heatmap\"}],\"heatmapgl\":[{\"colorbar\":{\"outlinewidth\":0,\"ticks\":\"\"},\"colorscale\":[[0.0,\"#0d0887\"],[0.1111111111111111,\"#46039f\"],[0.2222222222222222,\"#7201a8\"],[0.3333333333333333,\"#9c179e\"],[0.4444444444444444,\"#bd3786\"],[0.5555555555555556,\"#d8576b\"],[0.6666666666666666,\"#ed7953\"],[0.7777777777777778,\"#fb9f3a\"],[0.8888888888888888,\"#fdca26\"],[1.0,\"#f0f921\"]],\"type\":\"heatmapgl\"}],\"histogram\":[{\"marker\":{\"pattern\":{\"fillmode\":\"overlay\",\"size\":10,\"solidity\":0.2}},\"type\":\"histogram\"}],\"histogram2d\":[{\"colorbar\":{\"outlinewidth\":0,\"ticks\":\"\"},\"colorscale\":[[0.0,\"#0d0887\"],[0.1111111111111111,\"#46039f\"],[0.2222222222222222,\"#7201a8\"],[0.3333333333333333,\"#9c179e\"],[0.4444444444444444,\"#bd3786\"],[0.5555555555555556,\"#d8576b\"],[0.6666666666666666,\"#ed7953\"],[0.7777777777777778,\"#fb9f3a\"],[0.8888888888888888,\"#fdca26\"],[1.0,\"#f0f921\"]],\"type\":\"histogram2d\"}],\"histogram2dcontour\":[{\"colorbar\":{\"outlinewidth\":0,\"ticks\":\"\"},\"colorscale\":[[0.0,\"#0d0887\"],[0.1111111111111111,\"#46039f\"],[0.2222222222222222,\"#7201a8\"],[0.3333333333333333,\"#9c179e\"],[0.4444444444444444,\"#bd3786\"],[0.5555555555555556,\"#d8576b\"],[0.6666666666666666,\"#ed7953\"],[0.7777777777777778,\"#fb9f3a\"],[0.8888888888888888,\"#fdca26\"],[1.0,\"#f0f921\"]],\"type\":\"histogram2dcontour\"}],\"mesh3d\":[{\"colorbar\":{\"outlinewidth\":0,\"ticks\":\"\"},\"type\":\"mesh3d\"}],\"parcoords\":[{\"line\":{\"colorbar\":{\"outlinewidth\":0,\"ticks\":\"\"}},\"type\":\"parcoords\"}],\"pie\":[{\"automargin\":true,\"type\":\"pie\"}],\"scatter\":[{\"marker\":{\"colorbar\":{\"outlinewidth\":0,\"ticks\":\"\"}},\"type\":\"scatter\"}],\"scatter3d\":[{\"line\":{\"colorbar\":{\"outlinewidth\":0,\"ticks\":\"\"}},\"marker\":{\"colorbar\":{\"outlinewidth\":0,\"ticks\":\"\"}},\"type\":\"scatter3d\"}],\"scattercarpet\":[{\"marker\":{\"colorbar\":{\"outlinewidth\":0,\"ticks\":\"\"}},\"type\":\"scattercarpet\"}],\"scattergeo\":[{\"marker\":{\"colorbar\":{\"outlinewidth\":0,\"ticks\":\"\"}},\"type\":\"scattergeo\"}],\"scattergl\":[{\"marker\":{\"colorbar\":{\"outlinewidth\":0,\"ticks\":\"\"}},\"type\":\"scattergl\"}],\"scattermapbox\":[{\"marker\":{\"colorbar\":{\"outlinewidth\":0,\"ticks\":\"\"}},\"type\":\"scattermapbox\"}],\"scatterpolar\":[{\"marker\":{\"colorbar\":{\"outlinewidth\":0,\"ticks\":\"\"}},\"type\":\"scatterpolar\"}],\"scatterpolargl\":[{\"marker\":{\"colorbar\":{\"outlinewidth\":0,\"ticks\":\"\"}},\"type\":\"scatterpolargl\"}],\"scatterternary\":[{\"marker\":{\"colorbar\":{\"outlinewidth\":0,\"ticks\":\"\"}},\"type\":\"scatterternary\"}],\"surface\":[{\"colorbar\":{\"outlinewidth\":0,\"ticks\":\"\"},\"colorscale\":[[0.0,\"#0d0887\"],[0.1111111111111111,\"#46039f\"],[0.2222222222222222,\"#7201a8\"],[0.3333333333333333,\"#9c179e\"],[0.4444444444444444,\"#bd3786\"],[0.5555555555555556,\"#d8576b\"],[0.6666666666666666,\"#ed7953\"],[0.7777777777777778,\"#fb9f3a\"],[0.8888888888888888,\"#fdca26\"],[1.0,\"#f0f921\"]],\"type\":\"surface\"}],\"table\":[{\"cells\":{\"fill\":{\"color\":\"#EBF0F8\"},\"line\":{\"color\":\"white\"}},\"header\":{\"fill\":{\"color\":\"#C8D4E3\"},\"line\":{\"color\":\"white\"}},\"type\":\"table\"}]},\"layout\":{\"annotationdefaults\":{\"arrowcolor\":\"#2a3f5f\",\"arrowhead\":0,\"arrowwidth\":1},\"autotypenumbers\":\"strict\",\"coloraxis\":{\"colorbar\":{\"outlinewidth\":0,\"ticks\":\"\"}},\"colorscale\":{\"diverging\":[[0,\"#8e0152\"],[0.1,\"#c51b7d\"],[0.2,\"#de77ae\"],[0.3,\"#f1b6da\"],[0.4,\"#fde0ef\"],[0.5,\"#f7f7f7\"],[0.6,\"#e6f5d0\"],[0.7,\"#b8e186\"],[0.8,\"#7fbc41\"],[0.9,\"#4d9221\"],[1,\"#276419\"]],\"sequential\":[[0.0,\"#0d0887\"],[0.1111111111111111,\"#46039f\"],[0.2222222222222222,\"#7201a8\"],[0.3333333333333333,\"#9c179e\"],[0.4444444444444444,\"#bd3786\"],[0.5555555555555556,\"#d8576b\"],[0.6666666666666666,\"#ed7953\"],[0.7777777777777778,\"#fb9f3a\"],[0.8888888888888888,\"#fdca26\"],[1.0,\"#f0f921\"]],\"sequentialminus\":[[0.0,\"#0d0887\"],[0.1111111111111111,\"#46039f\"],[0.2222222222222222,\"#7201a8\"],[0.3333333333333333,\"#9c179e\"],[0.4444444444444444,\"#bd3786\"],[0.5555555555555556,\"#d8576b\"],[0.6666666666666666,\"#ed7953\"],[0.7777777777777778,\"#fb9f3a\"],[0.8888888888888888,\"#fdca26\"],[1.0,\"#f0f921\"]]},\"colorway\":[\"#636efa\",\"#EF553B\",\"#00cc96\",\"#ab63fa\",\"#FFA15A\",\"#19d3f3\",\"#FF6692\",\"#B6E880\",\"#FF97FF\",\"#FECB52\"],\"font\":{\"color\":\"#2a3f5f\"},\"geo\":{\"bgcolor\":\"white\",\"lakecolor\":\"white\",\"landcolor\":\"#E5ECF6\",\"showlakes\":true,\"showland\":true,\"subunitcolor\":\"white\"},\"hoverlabel\":{\"align\":\"left\"},\"hovermode\":\"closest\",\"mapbox\":{\"style\":\"light\"},\"paper_bgcolor\":\"white\",\"plot_bgcolor\":\"#E5ECF6\",\"polar\":{\"angularaxis\":{\"gridcolor\":\"white\",\"linecolor\":\"white\",\"ticks\":\"\"},\"bgcolor\":\"#E5ECF6\",\"radialaxis\":{\"gridcolor\":\"white\",\"linecolor\":\"white\",\"ticks\":\"\"}},\"scene\":{\"xaxis\":{\"backgroundcolor\":\"#E5ECF6\",\"gridcolor\":\"white\",\"gridwidth\":2,\"linecolor\":\"white\",\"showbackground\":true,\"ticks\":\"\",\"zerolinecolor\":\"white\"},\"yaxis\":{\"backgroundcolor\":\"#E5ECF6\",\"gridcolor\":\"white\",\"gridwidth\":2,\"linecolor\":\"white\",\"showbackground\":true,\"ticks\":\"\",\"zerolinecolor\":\"white\"},\"zaxis\":{\"backgroundcolor\":\"#E5ECF6\",\"gridcolor\":\"white\",\"gridwidth\":2,\"linecolor\":\"white\",\"showbackground\":true,\"ticks\":\"\",\"zerolinecolor\":\"white\"}},\"shapedefaults\":{\"line\":{\"color\":\"#2a3f5f\"}},\"ternary\":{\"aaxis\":{\"gridcolor\":\"white\",\"linecolor\":\"white\",\"ticks\":\"\"},\"baxis\":{\"gridcolor\":\"white\",\"linecolor\":\"white\",\"ticks\":\"\"},\"bgcolor\":\"#E5ECF6\",\"caxis\":{\"gridcolor\":\"white\",\"linecolor\":\"white\",\"ticks\":\"\"}},\"title\":{\"x\":0.05},\"xaxis\":{\"automargin\":true,\"gridcolor\":\"white\",\"linecolor\":\"white\",\"ticks\":\"\",\"title\":{\"standoff\":15},\"zerolinecolor\":\"white\",\"zerolinewidth\":2},\"yaxis\":{\"automargin\":true,\"gridcolor\":\"white\",\"linecolor\":\"white\",\"ticks\":\"\",\"title\":{\"standoff\":15},\"zerolinecolor\":\"white\",\"zerolinewidth\":2}}},\"xaxis\":{\"anchor\":\"y\",\"domain\":[0.0,1.0],\"title\":{\"text\":\"Actuals\"}},\"yaxis\":{\"anchor\":\"x\",\"domain\":[0.0,1.0],\"title\":{\"text\":\"Predictions\"}},\"legend\":{\"tracegroupgap\":0},\"margin\":{\"t\":60},\"title\":{\"text\":\"Predictions - Actuals Comparison\"},\"autosize\":false,\"width\":800,\"height\":500},                        {\"responsive\": true}                    ).then(function(){\n",
       "                            \n",
       "var gd = document.getElementById('e0493c95-cd93-41fa-a165-57dc0ea019b4');\n",
       "var x = new MutationObserver(function (mutations, observer) {{\n",
       "        var display = window.getComputedStyle(gd).display;\n",
       "        if (!display || display === 'none') {{\n",
       "            console.log([gd, 'removed!']);\n",
       "            Plotly.purge(gd);\n",
       "            observer.disconnect();\n",
       "        }}\n",
       "}});\n",
       "\n",
       "// Listen for the removal of the full notebook cells\n",
       "var notebookContainer = gd.closest('#notebook-container');\n",
       "if (notebookContainer) {{\n",
       "    x.observe(notebookContainer, {childList: true});\n",
       "}}\n",
       "\n",
       "// Listen for the clearing of the current output cell\n",
       "var outputEl = gd.closest('.output');\n",
       "if (outputEl) {{\n",
       "    x.observe(outputEl, {childList: true});\n",
       "}}\n",
       "\n",
       "                        })                };                });            </script>        </div>"
      ]
     },
     "metadata": {},
     "output_type": "display_data"
    }
   ],
   "source": [
    "fig = px.scatter(res_ann, x=\"Actuals\", y=\"Predictions\")\n",
    "\n",
    "fig.update_layout(\n",
    "    autosize=False,\n",
    "    width=800,\n",
    "    height=500,\n",
    "    title_text=\"Predictions - Actuals Comparison\",\n",
    ")\n",
    "\n",
    "fig.show()"
   ]
  },
  {
   "cell_type": "code",
   "execution_count": null,
   "id": "aaa75470-6342-4530-a58f-efda9650e9e5",
   "metadata": {},
   "outputs": [],
   "source": []
  }
 ],
 "metadata": {
  "kernelspec": {
   "display_name": "Python 3 (ipykernel)",
   "language": "python",
   "name": "python3"
  },
  "language_info": {
   "codemirror_mode": {
    "name": "ipython",
    "version": 3
   },
   "file_extension": ".py",
   "mimetype": "text/x-python",
   "name": "python",
   "nbconvert_exporter": "python",
   "pygments_lexer": "ipython3",
   "version": "3.8.11"
  }
 },
 "nbformat": 4,
 "nbformat_minor": 5
}

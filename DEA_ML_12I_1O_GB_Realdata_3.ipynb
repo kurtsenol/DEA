{
 "cells": [
  {
   "cell_type": "code",
   "execution_count": 1,
   "id": "a86954ba-3efc-4b5d-b5f8-d37efabd5366",
   "metadata": {},
   "outputs": [
    {
     "data": {
      "text/html": [
       "<script>\n",
       "code_show=true; \n",
       "function code_toggle() {\n",
       " if (code_show){\n",
       " $('div.input').hide();\n",
       " } else {\n",
       " $('div.input').show();\n",
       " }\n",
       " code_show = !code_show\n",
       "} \n",
       "$( document ).ready(code_toggle);\n",
       "</script>\n",
       "To toggle on/off the raw code, click <a href=\"javascript:code_toggle()\">here</a>."
      ],
      "text/plain": [
       "<IPython.core.display.HTML object>"
      ]
     },
     "execution_count": 1,
     "metadata": {},
     "output_type": "execute_result"
    }
   ],
   "source": [
    "from IPython.display import HTML\n",
    "HTML('''<script>\n",
    "code_show=true; \n",
    "function code_toggle() {\n",
    " if (code_show){\n",
    " $('div.input').hide();\n",
    " } else {\n",
    " $('div.input').show();\n",
    " }\n",
    " code_show = !code_show\n",
    "} \n",
    "$( document ).ready(code_toggle);\n",
    "</script>\n",
    "To toggle on/off the raw code, click <a href=\"javascript:code_toggle()\">here</a>.''')"
   ]
  },
  {
   "cell_type": "code",
   "execution_count": 2,
   "id": "fc798ec7",
   "metadata": {},
   "outputs": [
    {
     "name": "stderr",
     "output_type": "stream",
     "text": [
      "/opt/anaconda3/envs/myenv/lib/python3.8/site-packages/xgboost/compat.py:36: FutureWarning: pandas.Int64Index is deprecated and will be removed from pandas in a future version. Use pandas.Index with the appropriate dtype instead.\n",
      "  from pandas import MultiIndex, Int64Index\n"
     ]
    }
   ],
   "source": [
    "import pandas as pd\n",
    "import numpy as np\n",
    "from scipy import stats\n",
    "import pickle\n",
    "import os\n",
    "\n",
    "import matplotlib.pyplot as plt\n",
    "import seaborn as sns\n",
    "\n",
    "import xgboost as xgb\n",
    "\n",
    "np.set_printoptions(linewidth=np.inf, suppress=True, precision=2)"
   ]
  },
  {
   "cell_type": "code",
   "execution_count": 3,
   "id": "0dc16ee5-c9ac-4236-9b59-996fecd94413",
   "metadata": {},
   "outputs": [],
   "source": [
    "from sklearn.pipeline import make_pipeline\n",
    "from sklearn.compose import make_column_transformer\n",
    "from sklearn.model_selection import train_test_split, cross_val_score\n",
    "from sklearn.preprocessing import MinMaxScaler, StandardScaler, PolynomialFeatures\n",
    "from sklearn.metrics import mean_squared_error, r2_score \n",
    "\n",
    "from sklearn.linear_model import LinearRegression, Lasso, Ridge, ElasticNet\n",
    "from sklearn.ensemble import GradientBoostingRegressor\n",
    "from sklearn.neighbors import KNeighborsRegressor\n",
    "from sklearn.ensemble import RandomForestRegressor\n",
    "from sklearn.model_selection import GridSearchCV, RandomizedSearchCV\n",
    "\n",
    "import tensorflow as tf\n",
    "\n",
    "from sklearn.gaussian_process.kernels import (RBF, Matern, RationalQuadratic,ExpSineSquared, DotProduct,ConstantKernel)\n",
    "from sklearn.gaussian_process import GaussianProcessRegressor  \n",
    "from sklearn.svm import SVR"
   ]
  },
  {
   "cell_type": "code",
   "execution_count": 4,
   "id": "6d565361-d152-4459-be65-97e811d5d01e",
   "metadata": {},
   "outputs": [
    {
     "data": {
      "text/html": [
       "        <script type=\"text/javascript\">\n",
       "        window.PlotlyConfig = {MathJaxConfig: 'local'};\n",
       "        if (window.MathJax) {MathJax.Hub.Config({SVG: {font: \"STIX-Web\"}});}\n",
       "        if (typeof require !== 'undefined') {\n",
       "        require.undef(\"plotly\");\n",
       "        requirejs.config({\n",
       "            paths: {\n",
       "                'plotly': ['https://cdn.plot.ly/plotly-2.4.1.min']\n",
       "            }\n",
       "        });\n",
       "        require(['plotly'], function(Plotly) {\n",
       "            window._Plotly = Plotly;\n",
       "        });\n",
       "        }\n",
       "        </script>\n",
       "        "
      ]
     },
     "metadata": {},
     "output_type": "display_data"
    }
   ],
   "source": [
    "import plotly.express as px\n",
    "import plotly.offline as pyo\n",
    "import plotly.graph_objs as go\n",
    "from plotly.subplots import make_subplots\n",
    "import plotly.figure_factory as ff\n",
    "\n",
    "pyo.init_notebook_mode(connected=True)"
   ]
  },
  {
   "cell_type": "code",
   "execution_count": 5,
   "id": "ffd53b41-3b20-4c45-b78a-cea77e036c16",
   "metadata": {},
   "outputs": [],
   "source": [
    "from solver import deasolver"
   ]
  },
  {
   "cell_type": "code",
   "execution_count": 6,
   "id": "97bd60f9-a6b6-4bd3-a9eb-e3345f3bd74b",
   "metadata": {},
   "outputs": [],
   "source": [
    "results = []\n",
    "df_imp = pd.DataFrame()"
   ]
  },
  {
   "cell_type": "code",
   "execution_count": 12,
   "id": "517f52c7-ef75-4204-93b7-f306f554a44b",
   "metadata": {},
   "outputs": [],
   "source": [
    "path = \"Data/RealData/eGrid/recent/\""
   ]
  },
  {
   "cell_type": "code",
   "execution_count": 13,
   "id": "de36dfbd-bb24-49c8-8c14-b65f667c980e",
   "metadata": {},
   "outputs": [],
   "source": [
    "df = pd.read_excel(path + \"egrid2020_data.xlsx\", sheet_name=\"PLNT20\", usecols=\"D, W, AB, AL, AN, AP, AR, AS, AT, AU\").drop(0)"
   ]
  },
  {
   "cell_type": "code",
   "execution_count": 9,
   "id": "dbcaff76-c400-4163-b859-a879d9272a22",
   "metadata": {},
   "outputs": [],
   "source": [
    "# os.listdir(path)"
   ]
  },
  {
   "cell_type": "code",
   "execution_count": 31,
   "id": "87439975-0840-4691-af3f-04fe6e3e2516",
   "metadata": {},
   "outputs": [
    {
     "name": "stdout",
     "output_type": "stream",
     "text": [
      "0\n",
      "0\n",
      "0\n"
     ]
    }
   ],
   "source": [
    "# df= pd.DataFrame()\n",
    "# i=0\n",
    "# for file in os.listdir(path):\n",
    "#     if os.path.splitext(file)[1] == \".xlsx\" and not \"copy\" in file:\n",
    "#         df_temp = pd.read_excel(path + file, sheet_name=3, usecols=\"D, W, AB, AL, AN, AP, AR, AS, AT, AU\").drop(0)\n",
    "#         df = pd.concat([df, df_temp], ignore_index=True)\n",
    "#         print(i)"
   ]
  },
  {
   "cell_type": "code",
   "execution_count": 10,
   "id": "8d6bb9d1-f1d7-48d8-896d-3f67351b8519",
   "metadata": {},
   "outputs": [],
   "source": [
    "df.set_index(\"Plant name\", inplace=True)\n",
    "df.dropna(inplace=True)"
   ]
  },
  {
   "cell_type": "code",
   "execution_count": 11,
   "id": "9e901138-081b-496b-945f-52ad05c5e3a2",
   "metadata": {},
   "outputs": [],
   "source": [
    "df = df[(df!=0).all(axis=1)]"
   ]
  },
  {
   "cell_type": "code",
   "execution_count": 12,
   "id": "11b269fd-a523-45da-901e-0e2007405f33",
   "metadata": {},
   "outputs": [],
   "source": [
    "for col in df.columns:\n",
    "    df[col] = df[col].astype(\"float\")"
   ]
  },
  {
   "cell_type": "code",
   "execution_count": 13,
   "id": "06e444b1-6e2c-40e4-b741-c243a6505698",
   "metadata": {},
   "outputs": [
    {
     "name": "stdout",
     "output_type": "stream",
     "text": [
      "All Bad indexes:['Stored Solar Fitchburg, LLC', 'Scrubgrass Generating Plant', 'McManus', 'Ackerman Combined Cycle Plant', 'Sikeston']\n"
     ]
    }
   ],
   "source": [
    "def find_outliers(df_in, col_name):\n",
    "    Q1 = df_in[col_name].quantile(0.25)\n",
    "    Q3 = df_in[col_name].quantile(0.75)\n",
    "    IQR = Q3-Q1\n",
    "    fence_low  = Q1-1.5*IQR\n",
    "    fence_high = Q3+1.5*IQR\n",
    "    outlier_indexes=df_in[(df_in[col_name] <= fence_low) | (df_in[col_name] >= fence_high)].index.tolist()\n",
    "    return outlier_indexes\n",
    "\n",
    "bad_indexes=[]\n",
    "for col in df.columns:\n",
    "    if df[col].dtype in [\"int64\", \"float64\"]:\n",
    "        outlierindexes= find_outliers(df, col)\n",
    "        bad_indexes.extend(outlierindexes)\n",
    "bad_index_list = list(set(bad_indexes))\n",
    "print(f\"All Bad indexes:{bad_index_list[:5]}\")  "
   ]
  },
  {
   "cell_type": "code",
   "execution_count": 14,
   "id": "3ec234b7-09bb-4286-aad5-e9a18ba8f129",
   "metadata": {},
   "outputs": [
    {
     "data": {
      "text/plain": [
       "1018"
      ]
     },
     "execution_count": 14,
     "metadata": {},
     "output_type": "execute_result"
    }
   ],
   "source": [
    "len(bad_index_list)"
   ]
  },
  {
   "cell_type": "code",
   "execution_count": 15,
   "id": "3ae035eb-fb11-48f1-acbe-921e5b243326",
   "metadata": {},
   "outputs": [],
   "source": [
    "df.drop(bad_index_list, inplace=True)"
   ]
  },
  {
   "cell_type": "code",
   "execution_count": 16,
   "id": "7890281a-dc62-42b6-8068-654e08add827",
   "metadata": {},
   "outputs": [
    {
     "data": {
      "text/plain": [
       "(1736, 9)"
      ]
     },
     "execution_count": 16,
     "metadata": {},
     "output_type": "execute_result"
    }
   ],
   "source": [
    "df.shape"
   ]
  },
  {
   "cell_type": "code",
   "execution_count": 17,
   "id": "33e48366-6c4f-4d32-b58c-89bfa1a3028a",
   "metadata": {},
   "outputs": [
    {
     "data": {
      "text/html": [
       "<div><div id=36d310fb-ede3-4565-8520-67ec6e1c514e style=\"display:none; background-color:#9D6CFF; color:white; width:200px; height:30px; padding-left:5px; border-radius:4px; flex-direction:row; justify-content:space-around; align-items:center;\" onmouseover=\"this.style.backgroundColor='#BA9BF8'\" onmouseout=\"this.style.backgroundColor='#9D6CFF'\" onclick=\"window.commands?.execute('create-mitosheet-from-dataframe-output');\">See Full Dataframe in Mito</div> <script> if (window.commands.hasCommand('create-mitosheet-from-dataframe-output')) document.getElementById('36d310fb-ede3-4565-8520-67ec6e1c514e').style.display = 'flex' </script> <table border=\"1\" class=\"dataframe\">\n",
       "  <thead>\n",
       "    <tr style=\"text-align: right;\">\n",
       "      <th></th>\n",
       "      <th>Number of generators</th>\n",
       "      <th>Plant nameplate capacity (MW)</th>\n",
       "      <th>Plant total annual heat input (MMBtu)</th>\n",
       "      <th>Plant annual net generation (MWh)</th>\n",
       "      <th>Plant annual NOx emissions (tons)</th>\n",
       "      <th>Plant annual SO2 emissions (tons)</th>\n",
       "      <th>Plant annual CO2 emissions (tons)</th>\n",
       "      <th>Plant annual CH4 emissions (lbs)</th>\n",
       "      <th>Plant annual N2O emissions (lbs)</th>\n",
       "    </tr>\n",
       "  </thead>\n",
       "  <tbody>\n",
       "    <tr>\n",
       "      <th>Number of generators</th>\n",
       "      <td>1.000000</td>\n",
       "      <td>0.181480</td>\n",
       "      <td>-0.003909</td>\n",
       "      <td>-0.022683</td>\n",
       "      <td>0.038609</td>\n",
       "      <td>0.021377</td>\n",
       "      <td>-0.001940</td>\n",
       "      <td>-0.059766</td>\n",
       "      <td>-0.065294</td>\n",
       "    </tr>\n",
       "    <tr>\n",
       "      <th>Plant nameplate capacity (MW)</th>\n",
       "      <td>0.181480</td>\n",
       "      <td>1.000000</td>\n",
       "      <td>0.637682</td>\n",
       "      <td>0.549069</td>\n",
       "      <td>0.223820</td>\n",
       "      <td>0.114721</td>\n",
       "      <td>0.632469</td>\n",
       "      <td>0.343939</td>\n",
       "      <td>0.271035</td>\n",
       "    </tr>\n",
       "    <tr>\n",
       "      <th>Plant total annual heat input (MMBtu)</th>\n",
       "      <td>-0.003909</td>\n",
       "      <td>0.637682</td>\n",
       "      <td>1.000000</td>\n",
       "      <td>0.947835</td>\n",
       "      <td>0.403749</td>\n",
       "      <td>0.182435</td>\n",
       "      <td>0.990138</td>\n",
       "      <td>0.587933</td>\n",
       "      <td>0.478235</td>\n",
       "    </tr>\n",
       "    <tr>\n",
       "      <th>Plant annual net generation (MWh)</th>\n",
       "      <td>-0.022683</td>\n",
       "      <td>0.549069</td>\n",
       "      <td>0.947835</td>\n",
       "      <td>1.000000</td>\n",
       "      <td>0.396695</td>\n",
       "      <td>0.189016</td>\n",
       "      <td>0.944962</td>\n",
       "      <td>0.580786</td>\n",
       "      <td>0.477823</td>\n",
       "    </tr>\n",
       "    <tr>\n",
       "      <th>Plant annual NOx emissions (tons)</th>\n",
       "      <td>0.038609</td>\n",
       "      <td>0.223820</td>\n",
       "      <td>0.403749</td>\n",
       "      <td>0.396695</td>\n",
       "      <td>1.000000</td>\n",
       "      <td>0.221986</td>\n",
       "      <td>0.397671</td>\n",
       "      <td>0.276437</td>\n",
       "      <td>0.241109</td>\n",
       "    </tr>\n",
       "    <tr>\n",
       "      <th>Plant annual SO2 emissions (tons)</th>\n",
       "      <td>0.021377</td>\n",
       "      <td>0.114721</td>\n",
       "      <td>0.182435</td>\n",
       "      <td>0.189016</td>\n",
       "      <td>0.221986</td>\n",
       "      <td>1.000000</td>\n",
       "      <td>0.170689</td>\n",
       "      <td>0.466099</td>\n",
       "      <td>0.489287</td>\n",
       "    </tr>\n",
       "    <tr>\n",
       "      <th>Plant annual CO2 emissions (tons)</th>\n",
       "      <td>-0.001940</td>\n",
       "      <td>0.632469</td>\n",
       "      <td>0.990138</td>\n",
       "      <td>0.944962</td>\n",
       "      <td>0.397671</td>\n",
       "      <td>0.170689</td>\n",
       "      <td>1.000000</td>\n",
       "      <td>0.556909</td>\n",
       "      <td>0.446684</td>\n",
       "    </tr>\n",
       "    <tr>\n",
       "      <th>Plant annual CH4 emissions (lbs)</th>\n",
       "      <td>-0.059766</td>\n",
       "      <td>0.343939</td>\n",
       "      <td>0.587933</td>\n",
       "      <td>0.580786</td>\n",
       "      <td>0.276437</td>\n",
       "      <td>0.466099</td>\n",
       "      <td>0.556909</td>\n",
       "      <td>1.000000</td>\n",
       "      <td>0.987415</td>\n",
       "    </tr>\n",
       "    <tr>\n",
       "      <th>Plant annual N2O emissions (lbs)</th>\n",
       "      <td>-0.065294</td>\n",
       "      <td>0.271035</td>\n",
       "      <td>0.478235</td>\n",
       "      <td>0.477823</td>\n",
       "      <td>0.241109</td>\n",
       "      <td>0.489287</td>\n",
       "      <td>0.446684</td>\n",
       "      <td>0.987415</td>\n",
       "      <td>1.000000</td>\n",
       "    </tr>\n",
       "  </tbody>\n",
       "</table></div>"
      ],
      "text/plain": [
       "                                       Number of generators  \\\n",
       "Number of generators                               1.000000   \n",
       "Plant nameplate capacity (MW)                      0.181480   \n",
       "Plant total annual heat input (MMBtu)             -0.003909   \n",
       "Plant annual net generation (MWh)                 -0.022683   \n",
       "Plant annual NOx emissions (tons)                  0.038609   \n",
       "Plant annual SO2 emissions (tons)                  0.021377   \n",
       "Plant annual CO2 emissions (tons)                 -0.001940   \n",
       "Plant annual CH4 emissions (lbs)                  -0.059766   \n",
       "Plant annual N2O emissions (lbs)                  -0.065294   \n",
       "\n",
       "                                       Plant nameplate capacity (MW)  \\\n",
       "Number of generators                                        0.181480   \n",
       "Plant nameplate capacity (MW)                               1.000000   \n",
       "Plant total annual heat input (MMBtu)                       0.637682   \n",
       "Plant annual net generation (MWh)                           0.549069   \n",
       "Plant annual NOx emissions (tons)                           0.223820   \n",
       "Plant annual SO2 emissions (tons)                           0.114721   \n",
       "Plant annual CO2 emissions (tons)                           0.632469   \n",
       "Plant annual CH4 emissions (lbs)                            0.343939   \n",
       "Plant annual N2O emissions (lbs)                            0.271035   \n",
       "\n",
       "                                       Plant total annual heat input (MMBtu)  \\\n",
       "Number of generators                                               -0.003909   \n",
       "Plant nameplate capacity (MW)                                       0.637682   \n",
       "Plant total annual heat input (MMBtu)                               1.000000   \n",
       "Plant annual net generation (MWh)                                   0.947835   \n",
       "Plant annual NOx emissions (tons)                                   0.403749   \n",
       "Plant annual SO2 emissions (tons)                                   0.182435   \n",
       "Plant annual CO2 emissions (tons)                                   0.990138   \n",
       "Plant annual CH4 emissions (lbs)                                    0.587933   \n",
       "Plant annual N2O emissions (lbs)                                    0.478235   \n",
       "\n",
       "                                       Plant annual net generation (MWh)  \\\n",
       "Number of generators                                           -0.022683   \n",
       "Plant nameplate capacity (MW)                                   0.549069   \n",
       "Plant total annual heat input (MMBtu)                           0.947835   \n",
       "Plant annual net generation (MWh)                               1.000000   \n",
       "Plant annual NOx emissions (tons)                               0.396695   \n",
       "Plant annual SO2 emissions (tons)                               0.189016   \n",
       "Plant annual CO2 emissions (tons)                               0.944962   \n",
       "Plant annual CH4 emissions (lbs)                                0.580786   \n",
       "Plant annual N2O emissions (lbs)                                0.477823   \n",
       "\n",
       "                                       Plant annual NOx emissions (tons)  \\\n",
       "Number of generators                                            0.038609   \n",
       "Plant nameplate capacity (MW)                                   0.223820   \n",
       "Plant total annual heat input (MMBtu)                           0.403749   \n",
       "Plant annual net generation (MWh)                               0.396695   \n",
       "Plant annual NOx emissions (tons)                               1.000000   \n",
       "Plant annual SO2 emissions (tons)                               0.221986   \n",
       "Plant annual CO2 emissions (tons)                               0.397671   \n",
       "Plant annual CH4 emissions (lbs)                                0.276437   \n",
       "Plant annual N2O emissions (lbs)                                0.241109   \n",
       "\n",
       "                                       Plant annual SO2 emissions (tons)  \\\n",
       "Number of generators                                            0.021377   \n",
       "Plant nameplate capacity (MW)                                   0.114721   \n",
       "Plant total annual heat input (MMBtu)                           0.182435   \n",
       "Plant annual net generation (MWh)                               0.189016   \n",
       "Plant annual NOx emissions (tons)                               0.221986   \n",
       "Plant annual SO2 emissions (tons)                               1.000000   \n",
       "Plant annual CO2 emissions (tons)                               0.170689   \n",
       "Plant annual CH4 emissions (lbs)                                0.466099   \n",
       "Plant annual N2O emissions (lbs)                                0.489287   \n",
       "\n",
       "                                       Plant annual CO2 emissions (tons)  \\\n",
       "Number of generators                                           -0.001940   \n",
       "Plant nameplate capacity (MW)                                   0.632469   \n",
       "Plant total annual heat input (MMBtu)                           0.990138   \n",
       "Plant annual net generation (MWh)                               0.944962   \n",
       "Plant annual NOx emissions (tons)                               0.397671   \n",
       "Plant annual SO2 emissions (tons)                               0.170689   \n",
       "Plant annual CO2 emissions (tons)                               1.000000   \n",
       "Plant annual CH4 emissions (lbs)                                0.556909   \n",
       "Plant annual N2O emissions (lbs)                                0.446684   \n",
       "\n",
       "                                       Plant annual CH4 emissions (lbs)  \\\n",
       "Number of generators                                          -0.059766   \n",
       "Plant nameplate capacity (MW)                                  0.343939   \n",
       "Plant total annual heat input (MMBtu)                          0.587933   \n",
       "Plant annual net generation (MWh)                              0.580786   \n",
       "Plant annual NOx emissions (tons)                              0.276437   \n",
       "Plant annual SO2 emissions (tons)                              0.466099   \n",
       "Plant annual CO2 emissions (tons)                              0.556909   \n",
       "Plant annual CH4 emissions (lbs)                               1.000000   \n",
       "Plant annual N2O emissions (lbs)                               0.987415   \n",
       "\n",
       "                                       Plant annual N2O emissions (lbs)  \n",
       "Number of generators                                          -0.065294  \n",
       "Plant nameplate capacity (MW)                                  0.271035  \n",
       "Plant total annual heat input (MMBtu)                          0.478235  \n",
       "Plant annual net generation (MWh)                              0.477823  \n",
       "Plant annual NOx emissions (tons)                              0.241109  \n",
       "Plant annual SO2 emissions (tons)                              0.489287  \n",
       "Plant annual CO2 emissions (tons)                              0.446684  \n",
       "Plant annual CH4 emissions (lbs)                               0.987415  \n",
       "Plant annual N2O emissions (lbs)                               1.000000  "
      ]
     },
     "execution_count": 17,
     "metadata": {},
     "output_type": "execute_result"
    }
   ],
   "source": [
    "df.corr()"
   ]
  },
  {
   "cell_type": "code",
   "execution_count": 18,
   "id": "6afbb1bc-f579-48b8-b5bc-84c0abe1ae59",
   "metadata": {},
   "outputs": [],
   "source": [
    "df.index.name = None"
   ]
  },
  {
   "cell_type": "code",
   "execution_count": 19,
   "id": "293ae9dc-0f4f-4c0a-8eff-0f9925414da5",
   "metadata": {},
   "outputs": [
    {
     "data": {
      "text/html": [
       "<div><div id=f205e39f-288b-4820-87a7-5487d8199e3a style=\"display:none; background-color:#9D6CFF; color:white; width:200px; height:30px; padding-left:5px; border-radius:4px; flex-direction:row; justify-content:space-around; align-items:center;\" onmouseover=\"this.style.backgroundColor='#BA9BF8'\" onmouseout=\"this.style.backgroundColor='#9D6CFF'\" onclick=\"window.commands?.execute('create-mitosheet-from-dataframe-output');\">See Full Dataframe in Mito</div> <script> if (window.commands.hasCommand('create-mitosheet-from-dataframe-output')) document.getElementById('f205e39f-288b-4820-87a7-5487d8199e3a').style.display = 'flex' </script> <table border=\"1\" class=\"dataframe\">\n",
       "  <thead>\n",
       "    <tr style=\"text-align: right;\">\n",
       "      <th></th>\n",
       "      <th>Number of generators</th>\n",
       "      <th>Plant nameplate capacity (MW)</th>\n",
       "      <th>Plant total annual heat input (MMBtu)</th>\n",
       "      <th>Plant annual net generation (MWh)</th>\n",
       "      <th>Plant annual NOx emissions (tons)</th>\n",
       "      <th>Plant annual SO2 emissions (tons)</th>\n",
       "      <th>Plant annual CO2 emissions (tons)</th>\n",
       "      <th>Plant annual CH4 emissions (lbs)</th>\n",
       "      <th>Plant annual N2O emissions (lbs)</th>\n",
       "    </tr>\n",
       "  </thead>\n",
       "  <tbody>\n",
       "    <tr>\n",
       "      <th>Ambler</th>\n",
       "      <td>4.0</td>\n",
       "      <td>1.5</td>\n",
       "      <td>11554.999</td>\n",
       "      <td>1212.000</td>\n",
       "      <td>19.200</td>\n",
       "      <td>1.675</td>\n",
       "      <td>943.616</td>\n",
       "      <td>76.423</td>\n",
       "      <td>15.285</td>\n",
       "    </tr>\n",
       "    <tr>\n",
       "      <th>Anchorage 1</th>\n",
       "      <td>8.0</td>\n",
       "      <td>121.4</td>\n",
       "      <td>115024.996</td>\n",
       "      <td>7646.000</td>\n",
       "      <td>18.056</td>\n",
       "      <td>0.193</td>\n",
       "      <td>6724.603</td>\n",
       "      <td>262.106</td>\n",
       "      <td>27.488</td>\n",
       "    </tr>\n",
       "    <tr>\n",
       "      <th>Angoon</th>\n",
       "      <td>4.0</td>\n",
       "      <td>1.9</td>\n",
       "      <td>16506.999</td>\n",
       "      <td>1641.999</td>\n",
       "      <td>26.523</td>\n",
       "      <td>2.393</td>\n",
       "      <td>1348.008</td>\n",
       "      <td>109.175</td>\n",
       "      <td>21.835</td>\n",
       "    </tr>\n",
       "    <tr>\n",
       "      <th>Aniak</th>\n",
       "      <td>6.0</td>\n",
       "      <td>2.6</td>\n",
       "      <td>26541.000</td>\n",
       "      <td>2183.001</td>\n",
       "      <td>44.968</td>\n",
       "      <td>3.848</td>\n",
       "      <td>2167.415</td>\n",
       "      <td>175.539</td>\n",
       "      <td>35.108</td>\n",
       "    </tr>\n",
       "    <tr>\n",
       "      <th>Auke Bay</th>\n",
       "      <td>3.0</td>\n",
       "      <td>36.2</td>\n",
       "      <td>5298.000</td>\n",
       "      <td>-143.000</td>\n",
       "      <td>3.051</td>\n",
       "      <td>1.279</td>\n",
       "      <td>432.650</td>\n",
       "      <td>35.040</td>\n",
       "      <td>7.008</td>\n",
       "    </tr>\n",
       "    <tr>\n",
       "      <th>...</th>\n",
       "      <td>...</td>\n",
       "      <td>...</td>\n",
       "      <td>...</td>\n",
       "      <td>...</td>\n",
       "      <td>...</td>\n",
       "      <td>...</td>\n",
       "      <td>...</td>\n",
       "      <td>...</td>\n",
       "      <td>...</td>\n",
       "    </tr>\n",
       "    <tr>\n",
       "      <th>Hartzog</th>\n",
       "      <td>3.0</td>\n",
       "      <td>22.5</td>\n",
       "      <td>11058.999</td>\n",
       "      <td>615.999</td>\n",
       "      <td>1.842</td>\n",
       "      <td>0.018</td>\n",
       "      <td>646.338</td>\n",
       "      <td>24.381</td>\n",
       "      <td>2.438</td>\n",
       "    </tr>\n",
       "    <tr>\n",
       "      <th>Lake (WY)</th>\n",
       "      <td>1.0</td>\n",
       "      <td>2.7</td>\n",
       "      <td>1335.000</td>\n",
       "      <td>100.000</td>\n",
       "      <td>2.134</td>\n",
       "      <td>0.194</td>\n",
       "      <td>109.020</td>\n",
       "      <td>8.830</td>\n",
       "      <td>1.766</td>\n",
       "    </tr>\n",
       "    <tr>\n",
       "      <th>Neil Simpson II (CT2)</th>\n",
       "      <td>1.0</td>\n",
       "      <td>40.0</td>\n",
       "      <td>168852.656</td>\n",
       "      <td>15983.000</td>\n",
       "      <td>4.926</td>\n",
       "      <td>0.100</td>\n",
       "      <td>10034.400</td>\n",
       "      <td>375.908</td>\n",
       "      <td>37.591</td>\n",
       "    </tr>\n",
       "    <tr>\n",
       "      <th>Old Faithful</th>\n",
       "      <td>2.0</td>\n",
       "      <td>2.0</td>\n",
       "      <td>1299.000</td>\n",
       "      <td>85.000</td>\n",
       "      <td>2.078</td>\n",
       "      <td>0.188</td>\n",
       "      <td>106.080</td>\n",
       "      <td>8.591</td>\n",
       "      <td>1.718</td>\n",
       "    </tr>\n",
       "    <tr>\n",
       "      <th>Sinclair Oil Refinery</th>\n",
       "      <td>8.0</td>\n",
       "      <td>8.4</td>\n",
       "      <td>68567.022</td>\n",
       "      <td>11814.570</td>\n",
       "      <td>9.274</td>\n",
       "      <td>0.035</td>\n",
       "      <td>4025.981</td>\n",
       "      <td>151.544</td>\n",
       "      <td>15.175</td>\n",
       "    </tr>\n",
       "  </tbody>\n",
       "</table></div>"
      ],
      "text/plain": [
       "                       Number of generators  Plant nameplate capacity (MW)  \\\n",
       "Ambler                                  4.0                            1.5   \n",
       "Anchorage 1                             8.0                          121.4   \n",
       "Angoon                                  4.0                            1.9   \n",
       "Aniak                                   6.0                            2.6   \n",
       "Auke Bay                                3.0                           36.2   \n",
       "...                                     ...                            ...   \n",
       "Hartzog                                 3.0                           22.5   \n",
       "Lake (WY)                               1.0                            2.7   \n",
       "Neil Simpson II (CT2)                   1.0                           40.0   \n",
       "Old Faithful                            2.0                            2.0   \n",
       "Sinclair Oil Refinery                   8.0                            8.4   \n",
       "\n",
       "                       Plant total annual heat input (MMBtu)  \\\n",
       "Ambler                                             11554.999   \n",
       "Anchorage 1                                       115024.996   \n",
       "Angoon                                             16506.999   \n",
       "Aniak                                              26541.000   \n",
       "Auke Bay                                            5298.000   \n",
       "...                                                      ...   \n",
       "Hartzog                                            11058.999   \n",
       "Lake (WY)                                           1335.000   \n",
       "Neil Simpson II (CT2)                             168852.656   \n",
       "Old Faithful                                        1299.000   \n",
       "Sinclair Oil Refinery                              68567.022   \n",
       "\n",
       "                       Plant annual net generation (MWh)  \\\n",
       "Ambler                                          1212.000   \n",
       "Anchorage 1                                     7646.000   \n",
       "Angoon                                          1641.999   \n",
       "Aniak                                           2183.001   \n",
       "Auke Bay                                        -143.000   \n",
       "...                                                  ...   \n",
       "Hartzog                                          615.999   \n",
       "Lake (WY)                                        100.000   \n",
       "Neil Simpson II (CT2)                          15983.000   \n",
       "Old Faithful                                      85.000   \n",
       "Sinclair Oil Refinery                          11814.570   \n",
       "\n",
       "                       Plant annual NOx emissions (tons)  \\\n",
       "Ambler                                            19.200   \n",
       "Anchorage 1                                       18.056   \n",
       "Angoon                                            26.523   \n",
       "Aniak                                             44.968   \n",
       "Auke Bay                                           3.051   \n",
       "...                                                  ...   \n",
       "Hartzog                                            1.842   \n",
       "Lake (WY)                                          2.134   \n",
       "Neil Simpson II (CT2)                              4.926   \n",
       "Old Faithful                                       2.078   \n",
       "Sinclair Oil Refinery                              9.274   \n",
       "\n",
       "                       Plant annual SO2 emissions (tons)  \\\n",
       "Ambler                                             1.675   \n",
       "Anchorage 1                                        0.193   \n",
       "Angoon                                             2.393   \n",
       "Aniak                                              3.848   \n",
       "Auke Bay                                           1.279   \n",
       "...                                                  ...   \n",
       "Hartzog                                            0.018   \n",
       "Lake (WY)                                          0.194   \n",
       "Neil Simpson II (CT2)                              0.100   \n",
       "Old Faithful                                       0.188   \n",
       "Sinclair Oil Refinery                              0.035   \n",
       "\n",
       "                       Plant annual CO2 emissions (tons)  \\\n",
       "Ambler                                           943.616   \n",
       "Anchorage 1                                     6724.603   \n",
       "Angoon                                          1348.008   \n",
       "Aniak                                           2167.415   \n",
       "Auke Bay                                         432.650   \n",
       "...                                                  ...   \n",
       "Hartzog                                          646.338   \n",
       "Lake (WY)                                        109.020   \n",
       "Neil Simpson II (CT2)                          10034.400   \n",
       "Old Faithful                                     106.080   \n",
       "Sinclair Oil Refinery                           4025.981   \n",
       "\n",
       "                       Plant annual CH4 emissions (lbs)  \\\n",
       "Ambler                                           76.423   \n",
       "Anchorage 1                                     262.106   \n",
       "Angoon                                          109.175   \n",
       "Aniak                                           175.539   \n",
       "Auke Bay                                         35.040   \n",
       "...                                                 ...   \n",
       "Hartzog                                          24.381   \n",
       "Lake (WY)                                         8.830   \n",
       "Neil Simpson II (CT2)                           375.908   \n",
       "Old Faithful                                      8.591   \n",
       "Sinclair Oil Refinery                           151.544   \n",
       "\n",
       "                       Plant annual N2O emissions (lbs)  \n",
       "Ambler                                           15.285  \n",
       "Anchorage 1                                      27.488  \n",
       "Angoon                                           21.835  \n",
       "Aniak                                            35.108  \n",
       "Auke Bay                                          7.008  \n",
       "...                                                 ...  \n",
       "Hartzog                                           2.438  \n",
       "Lake (WY)                                         1.766  \n",
       "Neil Simpson II (CT2)                            37.591  \n",
       "Old Faithful                                      1.718  \n",
       "Sinclair Oil Refinery                            15.175  \n",
       "\n",
       "[1736 rows x 9 columns]"
      ]
     },
     "execution_count": 19,
     "metadata": {},
     "output_type": "execute_result"
    }
   ],
   "source": [
    "df"
   ]
  },
  {
   "cell_type": "code",
   "execution_count": 20,
   "id": "8f8ee0e1-1123-4a94-ac9a-764cf08c513d",
   "metadata": {},
   "outputs": [
    {
     "data": {
      "text/plain": [
       "Index(['Number of generators', 'Plant nameplate capacity (MW)',\n",
       "       'Plant total annual heat input (MMBtu)',\n",
       "       'Plant annual net generation (MWh)',\n",
       "       'Plant annual NOx emissions (tons)',\n",
       "       'Plant annual SO2 emissions (tons)',\n",
       "       'Plant annual CO2 emissions (tons)', 'Plant annual CH4 emissions (lbs)',\n",
       "       'Plant annual N2O emissions (lbs)'],\n",
       "      dtype='object')"
      ]
     },
     "execution_count": 20,
     "metadata": {},
     "output_type": "execute_result"
    }
   ],
   "source": [
    "df.columns"
   ]
  },
  {
   "cell_type": "code",
   "execution_count": 21,
   "id": "df3c0384-98ec-47ab-b165-27b253e702af",
   "metadata": {},
   "outputs": [],
   "source": [
    "df.columns = ['Number of generators', 'Plant nameplate capacity (MW)',\n",
    "       'Plant total annual heat input (MMBtu)',\n",
    "       'Plant annual NOx emissions (tons)',\n",
    "       'Plant annual SO2 emissions (tons)',\n",
    "       'Plant annual CO2 emissions (tons)', 'Plant annual CH4 emissions (lbs)',\n",
    "       'Plant annual N2O emissions (lbs)',\n",
    "       'Plant annual net generation (MWh)']"
   ]
  },
  {
   "cell_type": "code",
   "execution_count": 22,
   "id": "6eb9b49a-b4cd-4c9c-8542-b18fb2e7654b",
   "metadata": {},
   "outputs": [],
   "source": [
    "df.columns = [\"Output_\" + col if \"MWh\" in col else \"Input_\" + col for col in df.columns]"
   ]
  },
  {
   "cell_type": "code",
   "execution_count": 23,
   "id": "0ce48676-a884-49d4-9c54-0d47e7b833e7",
   "metadata": {},
   "outputs": [],
   "source": [
    "df.to_excel(path + 'egrid2020_data_copy_1.xlsx')"
   ]
  },
  {
   "cell_type": "code",
   "execution_count": 14,
   "id": "a8be81ce-03cc-4435-ad5b-13e93cd9af5a",
   "metadata": {},
   "outputs": [
    {
     "data": {
      "text/html": [
       "<div><div id=08fef7de-e824-471b-a3b4-6d8fdd1b914c style=\"display:none; background-color:#9D6CFF; color:white; width:200px; height:30px; padding-left:5px; border-radius:4px; flex-direction:row; justify-content:space-around; align-items:center;\" onmouseover=\"this.style.backgroundColor='#BA9BF8'\" onmouseout=\"this.style.backgroundColor='#9D6CFF'\" onclick=\"window.commands?.execute('create-mitosheet-from-dataframe-output');\">See Full Dataframe in Mito</div> <script> if (window.commands.hasCommand('create-mitosheet-from-dataframe-output')) document.getElementById('08fef7de-e824-471b-a3b4-6d8fdd1b914c').style.display = 'flex' </script> <table border=\"1\" class=\"dataframe\">\n",
       "  <thead>\n",
       "    <tr style=\"text-align: right;\">\n",
       "      <th></th>\n",
       "      <th>Input_Number of generators</th>\n",
       "      <th>Input_Plant nameplate capacity (MW)</th>\n",
       "      <th>Input_Plant total annual heat input (MMBtu)</th>\n",
       "      <th>Input_Plant annual NOx emissions (tons)</th>\n",
       "      <th>Input_Plant annual SO2 emissions (tons)</th>\n",
       "      <th>Input_Plant annual CO2 emissions (tons)</th>\n",
       "      <th>Input_Plant annual CH4 emissions (lbs)</th>\n",
       "      <th>Input_Plant annual N2O emissions (lbs)</th>\n",
       "      <th>Output_Plant annual net generation (MWh)</th>\n",
       "    </tr>\n",
       "  </thead>\n",
       "  <tbody>\n",
       "    <tr>\n",
       "      <th>DMU 0001</th>\n",
       "      <td>4</td>\n",
       "      <td>1.5</td>\n",
       "      <td>11554.999</td>\n",
       "      <td>1212.000</td>\n",
       "      <td>19.200</td>\n",
       "      <td>1.675</td>\n",
       "      <td>943.616</td>\n",
       "      <td>76.423</td>\n",
       "      <td>15.285</td>\n",
       "    </tr>\n",
       "    <tr>\n",
       "      <th>DMU 0002</th>\n",
       "      <td>8</td>\n",
       "      <td>121.4</td>\n",
       "      <td>115024.996</td>\n",
       "      <td>7646.000</td>\n",
       "      <td>18.056</td>\n",
       "      <td>0.193</td>\n",
       "      <td>6724.603</td>\n",
       "      <td>262.106</td>\n",
       "      <td>27.488</td>\n",
       "    </tr>\n",
       "    <tr>\n",
       "      <th>DMU 0003</th>\n",
       "      <td>4</td>\n",
       "      <td>1.9</td>\n",
       "      <td>16506.999</td>\n",
       "      <td>1641.999</td>\n",
       "      <td>26.523</td>\n",
       "      <td>2.393</td>\n",
       "      <td>1348.008</td>\n",
       "      <td>109.175</td>\n",
       "      <td>21.835</td>\n",
       "    </tr>\n",
       "    <tr>\n",
       "      <th>DMU 0004</th>\n",
       "      <td>6</td>\n",
       "      <td>2.6</td>\n",
       "      <td>26541.000</td>\n",
       "      <td>2183.001</td>\n",
       "      <td>44.968</td>\n",
       "      <td>3.848</td>\n",
       "      <td>2167.415</td>\n",
       "      <td>175.539</td>\n",
       "      <td>35.108</td>\n",
       "    </tr>\n",
       "    <tr>\n",
       "      <th>DMU 0005</th>\n",
       "      <td>3</td>\n",
       "      <td>36.2</td>\n",
       "      <td>5298.000</td>\n",
       "      <td>-143.000</td>\n",
       "      <td>3.051</td>\n",
       "      <td>1.279</td>\n",
       "      <td>432.650</td>\n",
       "      <td>35.040</td>\n",
       "      <td>7.008</td>\n",
       "    </tr>\n",
       "    <tr>\n",
       "      <th>...</th>\n",
       "      <td>...</td>\n",
       "      <td>...</td>\n",
       "      <td>...</td>\n",
       "      <td>...</td>\n",
       "      <td>...</td>\n",
       "      <td>...</td>\n",
       "      <td>...</td>\n",
       "      <td>...</td>\n",
       "      <td>...</td>\n",
       "    </tr>\n",
       "    <tr>\n",
       "      <th>DMU 1729</th>\n",
       "      <td>3</td>\n",
       "      <td>22.5</td>\n",
       "      <td>11058.999</td>\n",
       "      <td>615.999</td>\n",
       "      <td>1.842</td>\n",
       "      <td>0.018</td>\n",
       "      <td>646.338</td>\n",
       "      <td>24.381</td>\n",
       "      <td>2.438</td>\n",
       "    </tr>\n",
       "    <tr>\n",
       "      <th>DMU 1730</th>\n",
       "      <td>1</td>\n",
       "      <td>2.7</td>\n",
       "      <td>1335.000</td>\n",
       "      <td>100.000</td>\n",
       "      <td>2.134</td>\n",
       "      <td>0.194</td>\n",
       "      <td>109.020</td>\n",
       "      <td>8.830</td>\n",
       "      <td>1.766</td>\n",
       "    </tr>\n",
       "    <tr>\n",
       "      <th>DMU 1731</th>\n",
       "      <td>1</td>\n",
       "      <td>40.0</td>\n",
       "      <td>168852.656</td>\n",
       "      <td>15983.000</td>\n",
       "      <td>4.926</td>\n",
       "      <td>0.100</td>\n",
       "      <td>10034.400</td>\n",
       "      <td>375.908</td>\n",
       "      <td>37.591</td>\n",
       "    </tr>\n",
       "    <tr>\n",
       "      <th>DMU 1732</th>\n",
       "      <td>2</td>\n",
       "      <td>2.0</td>\n",
       "      <td>1299.000</td>\n",
       "      <td>85.000</td>\n",
       "      <td>2.078</td>\n",
       "      <td>0.188</td>\n",
       "      <td>106.080</td>\n",
       "      <td>8.591</td>\n",
       "      <td>1.718</td>\n",
       "    </tr>\n",
       "    <tr>\n",
       "      <th>DMU 1733</th>\n",
       "      <td>8</td>\n",
       "      <td>8.4</td>\n",
       "      <td>68567.022</td>\n",
       "      <td>11814.570</td>\n",
       "      <td>9.274</td>\n",
       "      <td>0.035</td>\n",
       "      <td>4025.981</td>\n",
       "      <td>151.544</td>\n",
       "      <td>15.175</td>\n",
       "    </tr>\n",
       "  </tbody>\n",
       "</table></div>"
      ],
      "text/plain": [
       "          Input_Number of generators  Input_Plant nameplate capacity (MW)  \\\n",
       "DMU 0001                           4                                  1.5   \n",
       "DMU 0002                           8                                121.4   \n",
       "DMU 0003                           4                                  1.9   \n",
       "DMU 0004                           6                                  2.6   \n",
       "DMU 0005                           3                                 36.2   \n",
       "...                              ...                                  ...   \n",
       "DMU 1729                           3                                 22.5   \n",
       "DMU 1730                           1                                  2.7   \n",
       "DMU 1731                           1                                 40.0   \n",
       "DMU 1732                           2                                  2.0   \n",
       "DMU 1733                           8                                  8.4   \n",
       "\n",
       "          Input_Plant total annual heat input (MMBtu)  \\\n",
       "DMU 0001                                    11554.999   \n",
       "DMU 0002                                   115024.996   \n",
       "DMU 0003                                    16506.999   \n",
       "DMU 0004                                    26541.000   \n",
       "DMU 0005                                     5298.000   \n",
       "...                                               ...   \n",
       "DMU 1729                                    11058.999   \n",
       "DMU 1730                                     1335.000   \n",
       "DMU 1731                                   168852.656   \n",
       "DMU 1732                                     1299.000   \n",
       "DMU 1733                                    68567.022   \n",
       "\n",
       "          Input_Plant annual NOx emissions (tons)  \\\n",
       "DMU 0001                                 1212.000   \n",
       "DMU 0002                                 7646.000   \n",
       "DMU 0003                                 1641.999   \n",
       "DMU 0004                                 2183.001   \n",
       "DMU 0005                                 -143.000   \n",
       "...                                           ...   \n",
       "DMU 1729                                  615.999   \n",
       "DMU 1730                                  100.000   \n",
       "DMU 1731                                15983.000   \n",
       "DMU 1732                                   85.000   \n",
       "DMU 1733                                11814.570   \n",
       "\n",
       "          Input_Plant annual SO2 emissions (tons)  \\\n",
       "DMU 0001                                   19.200   \n",
       "DMU 0002                                   18.056   \n",
       "DMU 0003                                   26.523   \n",
       "DMU 0004                                   44.968   \n",
       "DMU 0005                                    3.051   \n",
       "...                                           ...   \n",
       "DMU 1729                                    1.842   \n",
       "DMU 1730                                    2.134   \n",
       "DMU 1731                                    4.926   \n",
       "DMU 1732                                    2.078   \n",
       "DMU 1733                                    9.274   \n",
       "\n",
       "          Input_Plant annual CO2 emissions (tons)  \\\n",
       "DMU 0001                                    1.675   \n",
       "DMU 0002                                    0.193   \n",
       "DMU 0003                                    2.393   \n",
       "DMU 0004                                    3.848   \n",
       "DMU 0005                                    1.279   \n",
       "...                                           ...   \n",
       "DMU 1729                                    0.018   \n",
       "DMU 1730                                    0.194   \n",
       "DMU 1731                                    0.100   \n",
       "DMU 1732                                    0.188   \n",
       "DMU 1733                                    0.035   \n",
       "\n",
       "          Input_Plant annual CH4 emissions (lbs)  \\\n",
       "DMU 0001                                 943.616   \n",
       "DMU 0002                                6724.603   \n",
       "DMU 0003                                1348.008   \n",
       "DMU 0004                                2167.415   \n",
       "DMU 0005                                 432.650   \n",
       "...                                          ...   \n",
       "DMU 1729                                 646.338   \n",
       "DMU 1730                                 109.020   \n",
       "DMU 1731                               10034.400   \n",
       "DMU 1732                                 106.080   \n",
       "DMU 1733                                4025.981   \n",
       "\n",
       "          Input_Plant annual N2O emissions (lbs)  \\\n",
       "DMU 0001                                  76.423   \n",
       "DMU 0002                                 262.106   \n",
       "DMU 0003                                 109.175   \n",
       "DMU 0004                                 175.539   \n",
       "DMU 0005                                  35.040   \n",
       "...                                          ...   \n",
       "DMU 1729                                  24.381   \n",
       "DMU 1730                                   8.830   \n",
       "DMU 1731                                 375.908   \n",
       "DMU 1732                                   8.591   \n",
       "DMU 1733                                 151.544   \n",
       "\n",
       "          Output_Plant annual net generation (MWh)  \n",
       "DMU 0001                                    15.285  \n",
       "DMU 0002                                    27.488  \n",
       "DMU 0003                                    21.835  \n",
       "DMU 0004                                    35.108  \n",
       "DMU 0005                                     7.008  \n",
       "...                                            ...  \n",
       "DMU 1729                                     2.438  \n",
       "DMU 1730                                     1.766  \n",
       "DMU 1731                                    37.591  \n",
       "DMU 1732                                     1.718  \n",
       "DMU 1733                                    15.175  \n",
       "\n",
       "[1733 rows x 9 columns]"
      ]
     },
     "execution_count": 14,
     "metadata": {},
     "output_type": "execute_result"
    }
   ],
   "source": [
    "df = pd.read_excel(path + 'egrid2020_data_copy_1.xlsx', index_col=0)\n",
    "df"
   ]
  },
  {
   "cell_type": "code",
   "execution_count": 21,
   "id": "75ed771c-5f26-4732-b0eb-103113228cc2",
   "metadata": {},
   "outputs": [
    {
     "name": "stdout",
     "output_type": "stream",
     "text": [
      "<class 'pandas.core.frame.DataFrame'>\n",
      "Index: 1733 entries, DMU 0001 to DMU 1733\n",
      "Data columns (total 9 columns):\n",
      " #   Column                                       Non-Null Count  Dtype  \n",
      "---  ------                                       --------------  -----  \n",
      " 0   Input_Number of generators                   1733 non-null   int64  \n",
      " 1   Input_Plant nameplate capacity (MW)          1733 non-null   float64\n",
      " 2   Input_Plant total annual heat input (MMBtu)  1733 non-null   float64\n",
      " 3   Input_Plant annual NOx emissions (tons)      1733 non-null   float64\n",
      " 4   Input_Plant annual SO2 emissions (tons)      1733 non-null   float64\n",
      " 5   Input_Plant annual CO2 emissions (tons)      1733 non-null   float64\n",
      " 6   Input_Plant annual CH4 emissions (lbs)       1733 non-null   float64\n",
      " 7   Input_Plant annual N2O emissions (lbs)       1733 non-null   float64\n",
      " 8   Output_Plant annual net generation (MWh)     1733 non-null   float64\n",
      "dtypes: float64(8), int64(1)\n",
      "memory usage: 135.4+ KB\n"
     ]
    }
   ],
   "source": [
    "df.info()"
   ]
  },
  {
   "cell_type": "code",
   "execution_count": 22,
   "id": "21088a87-f37d-46bd-9bd5-6d1bcf59dbfe",
   "metadata": {},
   "outputs": [
    {
     "name": "stdout",
     "output_type": "stream",
     "text": [
      "Restricted license - for non-production use only - expires 2023-10-25\n"
     ]
    },
    {
     "name": "stderr",
     "output_type": "stream",
     "text": [
      "Restricted license - for non-production use only - expires 2023-10-25\n"
     ]
    },
    {
     "name": "stdout",
     "output_type": "stream",
     "text": [
      "100.0\n",
      "Solution file saved outputfile\n"
     ]
    }
   ],
   "source": [
    "deasolver(inputfile = path + 'egrid2020_data_copy_1.xlsx', folder = \"Data/RealData/eGrid/recent/\", out_suffix1=\"_Sol\")"
   ]
  },
  {
   "cell_type": "code",
   "execution_count": 6,
   "id": "94d0eaf6-949a-41c1-b0c3-c61de4c58f64",
   "metadata": {},
   "outputs": [
    {
     "data": {
      "text/html": [
       "<div><div id=95173e10-c9c2-422b-9b3e-caad6363806a style=\"display:none; background-color:#9D6CFF; color:white; width:200px; height:30px; padding-left:5px; border-radius:4px; flex-direction:row; justify-content:space-around; align-items:center;\" onmouseover=\"this.style.backgroundColor='#BA9BF8'\" onmouseout=\"this.style.backgroundColor='#9D6CFF'\" onclick=\"window.commands?.execute('create-mitosheet-from-dataframe-output');\">See Full Dataframe in Mito</div> <script> if (window.commands.hasCommand('create-mitosheet-from-dataframe-output')) document.getElementById('95173e10-c9c2-422b-9b3e-caad6363806a').style.display = 'flex' </script> <table border=\"1\" class=\"dataframe\">\n",
       "  <thead>\n",
       "    <tr style=\"text-align: right;\">\n",
       "      <th></th>\n",
       "      <th>Weight_Input_Number of generators</th>\n",
       "      <th>Weight_Input_Plant annual CH4 emissions (lbs)</th>\n",
       "      <th>Weight_Input_Plant annual CO2 emissions (tons)</th>\n",
       "      <th>Weight_Input_Plant annual N2O emissions (lbs)</th>\n",
       "      <th>Weight_Input_Plant annual NOx emissions (tons)</th>\n",
       "      <th>Weight_Input_Plant annual SO2 emissions (tons)</th>\n",
       "      <th>Weight_Input_Plant nameplate capacity (MW)</th>\n",
       "      <th>Weight_Input_Plant total annual heat input (MMBtu)</th>\n",
       "      <th>Weight_Output_Plant annual net generation (MWh)</th>\n",
       "    </tr>\n",
       "  </thead>\n",
       "  <tbody>\n",
       "    <tr>\n",
       "      <th>DMU 0001</th>\n",
       "      <td>0.000000</td>\n",
       "      <td>0.0</td>\n",
       "      <td>0.000000</td>\n",
       "      <td>0.007748</td>\n",
       "      <td>0.000282</td>\n",
       "      <td>0.000000</td>\n",
       "      <td>0.043676</td>\n",
       "      <td>0.000000</td>\n",
       "      <td>0.047188</td>\n",
       "    </tr>\n",
       "    <tr>\n",
       "      <th>DMU 0002</th>\n",
       "      <td>0.003882</td>\n",
       "      <td>0.0</td>\n",
       "      <td>0.168543</td>\n",
       "      <td>0.002937</td>\n",
       "      <td>0.000022</td>\n",
       "      <td>0.000000</td>\n",
       "      <td>0.000000</td>\n",
       "      <td>0.000000</td>\n",
       "      <td>0.009145</td>\n",
       "    </tr>\n",
       "    <tr>\n",
       "      <th>DMU 0003</th>\n",
       "      <td>0.000000</td>\n",
       "      <td>0.0</td>\n",
       "      <td>0.000000</td>\n",
       "      <td>0.005563</td>\n",
       "      <td>0.000203</td>\n",
       "      <td>0.000000</td>\n",
       "      <td>0.031361</td>\n",
       "      <td>0.000000</td>\n",
       "      <td>0.033883</td>\n",
       "    </tr>\n",
       "    <tr>\n",
       "      <th>DMU 0004</th>\n",
       "      <td>0.000000</td>\n",
       "      <td>0.0</td>\n",
       "      <td>0.000000</td>\n",
       "      <td>0.003707</td>\n",
       "      <td>0.000135</td>\n",
       "      <td>0.000000</td>\n",
       "      <td>0.020895</td>\n",
       "      <td>0.000000</td>\n",
       "      <td>0.022575</td>\n",
       "    </tr>\n",
       "    <tr>\n",
       "      <th>DMU 0005</th>\n",
       "      <td>0.106627</td>\n",
       "      <td>0.0</td>\n",
       "      <td>0.000000</td>\n",
       "      <td>0.012964</td>\n",
       "      <td>0.000261</td>\n",
       "      <td>0.000000</td>\n",
       "      <td>0.000000</td>\n",
       "      <td>0.000050</td>\n",
       "      <td>0.077712</td>\n",
       "    </tr>\n",
       "    <tr>\n",
       "      <th>...</th>\n",
       "      <td>...</td>\n",
       "      <td>...</td>\n",
       "      <td>...</td>\n",
       "      <td>...</td>\n",
       "      <td>...</td>\n",
       "      <td>...</td>\n",
       "      <td>...</td>\n",
       "      <td>...</td>\n",
       "      <td>...</td>\n",
       "    </tr>\n",
       "    <tr>\n",
       "      <th>DMU 1729</th>\n",
       "      <td>0.000776</td>\n",
       "      <td>0.0</td>\n",
       "      <td>0.546873</td>\n",
       "      <td>0.038826</td>\n",
       "      <td>0.000067</td>\n",
       "      <td>0.000000</td>\n",
       "      <td>0.000000</td>\n",
       "      <td>0.000000</td>\n",
       "      <td>0.095109</td>\n",
       "    </tr>\n",
       "    <tr>\n",
       "      <th>DMU 1730</th>\n",
       "      <td>0.000000</td>\n",
       "      <td>0.0</td>\n",
       "      <td>0.000000</td>\n",
       "      <td>0.047312</td>\n",
       "      <td>0.000786</td>\n",
       "      <td>0.000000</td>\n",
       "      <td>0.043375</td>\n",
       "      <td>0.000290</td>\n",
       "      <td>0.306928</td>\n",
       "    </tr>\n",
       "    <tr>\n",
       "      <th>DMU 1731</th>\n",
       "      <td>0.000000</td>\n",
       "      <td>0.0</td>\n",
       "      <td>0.289059</td>\n",
       "      <td>0.001763</td>\n",
       "      <td>0.000000</td>\n",
       "      <td>0.062621</td>\n",
       "      <td>0.000000</td>\n",
       "      <td>0.000000</td>\n",
       "      <td>0.009504</td>\n",
       "    </tr>\n",
       "    <tr>\n",
       "      <th>DMU 1732</th>\n",
       "      <td>0.000000</td>\n",
       "      <td>0.0</td>\n",
       "      <td>0.000000</td>\n",
       "      <td>0.050541</td>\n",
       "      <td>0.000839</td>\n",
       "      <td>0.000000</td>\n",
       "      <td>0.046335</td>\n",
       "      <td>0.000309</td>\n",
       "      <td>0.327873</td>\n",
       "    </tr>\n",
       "    <tr>\n",
       "      <th>DMU 1733</th>\n",
       "      <td>0.000000</td>\n",
       "      <td>0.0</td>\n",
       "      <td>0.097026</td>\n",
       "      <td>0.006576</td>\n",
       "      <td>0.000000</td>\n",
       "      <td>0.000000</td>\n",
       "      <td>0.000000</td>\n",
       "      <td>0.000000</td>\n",
       "      <td>0.014833</td>\n",
       "    </tr>\n",
       "  </tbody>\n",
       "</table></div>"
      ],
      "text/plain": [
       "          Weight_Input_Number of generators  \\\n",
       "DMU 0001                           0.000000   \n",
       "DMU 0002                           0.003882   \n",
       "DMU 0003                           0.000000   \n",
       "DMU 0004                           0.000000   \n",
       "DMU 0005                           0.106627   \n",
       "...                                     ...   \n",
       "DMU 1729                           0.000776   \n",
       "DMU 1730                           0.000000   \n",
       "DMU 1731                           0.000000   \n",
       "DMU 1732                           0.000000   \n",
       "DMU 1733                           0.000000   \n",
       "\n",
       "          Weight_Input_Plant annual CH4 emissions (lbs)  \\\n",
       "DMU 0001                                            0.0   \n",
       "DMU 0002                                            0.0   \n",
       "DMU 0003                                            0.0   \n",
       "DMU 0004                                            0.0   \n",
       "DMU 0005                                            0.0   \n",
       "...                                                 ...   \n",
       "DMU 1729                                            0.0   \n",
       "DMU 1730                                            0.0   \n",
       "DMU 1731                                            0.0   \n",
       "DMU 1732                                            0.0   \n",
       "DMU 1733                                            0.0   \n",
       "\n",
       "          Weight_Input_Plant annual CO2 emissions (tons)  \\\n",
       "DMU 0001                                        0.000000   \n",
       "DMU 0002                                        0.168543   \n",
       "DMU 0003                                        0.000000   \n",
       "DMU 0004                                        0.000000   \n",
       "DMU 0005                                        0.000000   \n",
       "...                                                  ...   \n",
       "DMU 1729                                        0.546873   \n",
       "DMU 1730                                        0.000000   \n",
       "DMU 1731                                        0.289059   \n",
       "DMU 1732                                        0.000000   \n",
       "DMU 1733                                        0.097026   \n",
       "\n",
       "          Weight_Input_Plant annual N2O emissions (lbs)  \\\n",
       "DMU 0001                                       0.007748   \n",
       "DMU 0002                                       0.002937   \n",
       "DMU 0003                                       0.005563   \n",
       "DMU 0004                                       0.003707   \n",
       "DMU 0005                                       0.012964   \n",
       "...                                                 ...   \n",
       "DMU 1729                                       0.038826   \n",
       "DMU 1730                                       0.047312   \n",
       "DMU 1731                                       0.001763   \n",
       "DMU 1732                                       0.050541   \n",
       "DMU 1733                                       0.006576   \n",
       "\n",
       "          Weight_Input_Plant annual NOx emissions (tons)  \\\n",
       "DMU 0001                                        0.000282   \n",
       "DMU 0002                                        0.000022   \n",
       "DMU 0003                                        0.000203   \n",
       "DMU 0004                                        0.000135   \n",
       "DMU 0005                                        0.000261   \n",
       "...                                                  ...   \n",
       "DMU 1729                                        0.000067   \n",
       "DMU 1730                                        0.000786   \n",
       "DMU 1731                                        0.000000   \n",
       "DMU 1732                                        0.000839   \n",
       "DMU 1733                                        0.000000   \n",
       "\n",
       "          Weight_Input_Plant annual SO2 emissions (tons)  \\\n",
       "DMU 0001                                        0.000000   \n",
       "DMU 0002                                        0.000000   \n",
       "DMU 0003                                        0.000000   \n",
       "DMU 0004                                        0.000000   \n",
       "DMU 0005                                        0.000000   \n",
       "...                                                  ...   \n",
       "DMU 1729                                        0.000000   \n",
       "DMU 1730                                        0.000000   \n",
       "DMU 1731                                        0.062621   \n",
       "DMU 1732                                        0.000000   \n",
       "DMU 1733                                        0.000000   \n",
       "\n",
       "          Weight_Input_Plant nameplate capacity (MW)  \\\n",
       "DMU 0001                                    0.043676   \n",
       "DMU 0002                                    0.000000   \n",
       "DMU 0003                                    0.031361   \n",
       "DMU 0004                                    0.020895   \n",
       "DMU 0005                                    0.000000   \n",
       "...                                              ...   \n",
       "DMU 1729                                    0.000000   \n",
       "DMU 1730                                    0.043375   \n",
       "DMU 1731                                    0.000000   \n",
       "DMU 1732                                    0.046335   \n",
       "DMU 1733                                    0.000000   \n",
       "\n",
       "          Weight_Input_Plant total annual heat input (MMBtu)  \\\n",
       "DMU 0001                                           0.000000    \n",
       "DMU 0002                                           0.000000    \n",
       "DMU 0003                                           0.000000    \n",
       "DMU 0004                                           0.000000    \n",
       "DMU 0005                                           0.000050    \n",
       "...                                                     ...    \n",
       "DMU 1729                                           0.000000    \n",
       "DMU 1730                                           0.000290    \n",
       "DMU 1731                                           0.000000    \n",
       "DMU 1732                                           0.000309    \n",
       "DMU 1733                                           0.000000    \n",
       "\n",
       "          Weight_Output_Plant annual net generation (MWh)  \n",
       "DMU 0001                                         0.047188  \n",
       "DMU 0002                                         0.009145  \n",
       "DMU 0003                                         0.033883  \n",
       "DMU 0004                                         0.022575  \n",
       "DMU 0005                                         0.077712  \n",
       "...                                                   ...  \n",
       "DMU 1729                                         0.095109  \n",
       "DMU 1730                                         0.306928  \n",
       "DMU 1731                                         0.009504  \n",
       "DMU 1732                                         0.327873  \n",
       "DMU 1733                                         0.014833  \n",
       "\n",
       "[1733 rows x 9 columns]"
      ]
     },
     "execution_count": 6,
     "metadata": {},
     "output_type": "execute_result"
    }
   ],
   "source": [
    "df_weights = pd.read_excel(\"Data/RealData/eGrid/recent/egrid2020_data_copy_1_Sol.xlsx\", index_col = 0).iloc[:, 1:]\n",
    "df_weights"
   ]
  },
  {
   "cell_type": "code",
   "execution_count": 7,
   "id": "22916a7b-bda6-4ea3-813c-f83b77e9d67d",
   "metadata": {},
   "outputs": [
    {
     "data": {
      "text/plain": [
       "Weight_Input_Number of generators                     1065\n",
       "Weight_Input_Plant annual CH4 emissions (lbs)         1677\n",
       "Weight_Input_Plant annual CO2 emissions (tons)         982\n",
       "Weight_Input_Plant annual N2O emissions (lbs)           16\n",
       "Weight_Input_Plant annual NOx emissions (tons)         721\n",
       "Weight_Input_Plant annual SO2 emissions (tons)        1219\n",
       "Weight_Input_Plant nameplate capacity (MW)            1153\n",
       "Weight_Input_Plant total annual heat input (MMBtu)    1196\n",
       "Weight_Output_Plant annual net generation (MWh)          0\n",
       "dtype: int64"
      ]
     },
     "execution_count": 7,
     "metadata": {},
     "output_type": "execute_result"
    }
   ],
   "source": [
    "df_zero =(df_weights==0).sum()\n",
    "df_zero"
   ]
  },
  {
   "cell_type": "code",
   "execution_count": 8,
   "id": "3d4ffd5f-4876-4b2f-9110-e770ecd9babd",
   "metadata": {},
   "outputs": [
    {
     "data": {
      "text/plain": [
       "Weight_Input_Number of generators                     61.45\n",
       "Weight_Input_Plant annual CH4 emissions (lbs)         96.77\n",
       "Weight_Input_Plant annual CO2 emissions (tons)        56.66\n",
       "Weight_Input_Plant annual N2O emissions (lbs)          0.92\n",
       "Weight_Input_Plant annual NOx emissions (tons)        41.60\n",
       "Weight_Input_Plant annual SO2 emissions (tons)        70.34\n",
       "Weight_Input_Plant nameplate capacity (MW)            66.53\n",
       "Weight_Input_Plant total annual heat input (MMBtu)    69.01\n",
       "Weight_Output_Plant annual net generation (MWh)        0.00\n",
       "dtype: float64"
      ]
     },
     "execution_count": 8,
     "metadata": {},
     "output_type": "execute_result"
    }
   ],
   "source": [
    "df_zero = (((df_weights==0).sum() / df_weights.shape[0]) * 100).round(2)\n",
    "df_zero"
   ]
  },
  {
   "cell_type": "markdown",
   "id": "90f8e58b-578b-4138-81f8-5012589d87a7",
   "metadata": {
    "tags": []
   },
   "source": [
    "### ML"
   ]
  },
  {
   "cell_type": "code",
   "execution_count": 9,
   "id": "ca4d138a-4aaa-440e-94ce-661dce334187",
   "metadata": {},
   "outputs": [
    {
     "ename": "NameError",
     "evalue": "name 'df' is not defined",
     "output_type": "error",
     "traceback": [
      "\u001b[0;31m---------------------------------------------------------------------------\u001b[0m",
      "\u001b[0;31mNameError\u001b[0m                                 Traceback (most recent call last)",
      "Cell \u001b[0;32mIn[9], line 1\u001b[0m\n\u001b[0;32m----> 1\u001b[0m X \u001b[38;5;241m=\u001b[39m \u001b[43mdf\u001b[49m\u001b[38;5;241m.\u001b[39miloc[:,:\u001b[38;5;241m-\u001b[39m\u001b[38;5;241m1\u001b[39m]\n\u001b[1;32m      2\u001b[0m X\u001b[38;5;241m.\u001b[39mhead()\n",
      "\u001b[0;31mNameError\u001b[0m: name 'df' is not defined"
     ]
    }
   ],
   "source": [
    "X = df.iloc[:,:-1]\n",
    "X.head()"
   ]
  },
  {
   "cell_type": "code",
   "execution_count": 19,
   "id": "82cb75d2-e174-4fcd-99b1-d9434f934381",
   "metadata": {},
   "outputs": [
    {
     "data": {
      "text/html": [
       "<div><div id=10570f11-571a-467b-b525-b72128632200 style=\"display:none; background-color:#9D6CFF; color:white; width:200px; height:30px; padding-left:5px; border-radius:4px; flex-direction:row; justify-content:space-around; align-items:center;\" onmouseover=\"this.style.backgroundColor='#BA9BF8'\" onmouseout=\"this.style.backgroundColor='#9D6CFF'\" onclick=\"window.commands?.execute('create-mitosheet-from-dataframe-output');\">See Full Dataframe in Mito</div> <script> if (window.commands.hasCommand('create-mitosheet-from-dataframe-output')) document.getElementById('10570f11-571a-467b-b525-b72128632200').style.display = 'flex' </script> <table border=\"1\" class=\"dataframe\">\n",
       "  <thead>\n",
       "    <tr style=\"text-align: right;\">\n",
       "      <th></th>\n",
       "      <th>Output_Plant annual net generation (MWh)</th>\n",
       "    </tr>\n",
       "  </thead>\n",
       "  <tbody>\n",
       "    <tr>\n",
       "      <th>DMU 0001</th>\n",
       "      <td>15.285</td>\n",
       "    </tr>\n",
       "    <tr>\n",
       "      <th>DMU 0002</th>\n",
       "      <td>27.488</td>\n",
       "    </tr>\n",
       "    <tr>\n",
       "      <th>DMU 0003</th>\n",
       "      <td>21.835</td>\n",
       "    </tr>\n",
       "    <tr>\n",
       "      <th>DMU 0004</th>\n",
       "      <td>35.108</td>\n",
       "    </tr>\n",
       "    <tr>\n",
       "      <th>DMU 0005</th>\n",
       "      <td>7.008</td>\n",
       "    </tr>\n",
       "  </tbody>\n",
       "</table></div>"
      ],
      "text/plain": [
       "          Output_Plant annual net generation (MWh)\n",
       "DMU 0001                                    15.285\n",
       "DMU 0002                                    27.488\n",
       "DMU 0003                                    21.835\n",
       "DMU 0004                                    35.108\n",
       "DMU 0005                                     7.008"
      ]
     },
     "execution_count": 19,
     "metadata": {},
     "output_type": "execute_result"
    }
   ],
   "source": [
    "y = df.iloc[:,-1:]\n",
    "y.head()"
   ]
  },
  {
   "cell_type": "code",
   "execution_count": 20,
   "id": "81e210f9-b24d-489a-993d-025509b46399",
   "metadata": {},
   "outputs": [],
   "source": [
    "X_train, X_test, y_train, y_test = train_test_split(X, y, test_size=0.2, random_state=42)"
   ]
  },
  {
   "cell_type": "code",
   "execution_count": 21,
   "id": "262bf01b-ff47-4717-a9a6-f76ade5a1fd1",
   "metadata": {},
   "outputs": [],
   "source": [
    "std_scaler = StandardScaler()\n",
    "mm_scaler = MinMaxScaler()"
   ]
  },
  {
   "cell_type": "code",
   "execution_count": 22,
   "id": "ecb61b18-f0c5-4ce8-8499-a55b8ef21a12",
   "metadata": {},
   "outputs": [
    {
     "name": "stdout",
     "output_type": "stream",
     "text": [
      "neg_mean_squared_error: -9856.804480569948\n",
      "neg_root_mean_squared_error: -97.812388982155\n",
      "r2: 0.9781446803255811\n"
     ]
    }
   ],
   "source": [
    "gb_model = GradientBoostingRegressor(random_state=42)\n",
    "\n",
    "pipe_gb = make_pipeline(std_scaler, gb_model)\n",
    "\n",
    "# cross-validate the pipeline\n",
    "print(\"neg_mean_squared_error:\", cross_val_score(pipe_gb, X, y.values.ravel(), scoring=\"neg_mean_squared_error\").mean())\n",
    "print(\"neg_root_mean_squared_error:\", cross_val_score(pipe_gb, X, y.values.ravel(), scoring=\"neg_root_mean_squared_error\").mean())\n",
    "print(\"r2:\", cross_val_score(pipe_gb, X, y.values.ravel(), scoring=\"r2\").mean())"
   ]
  },
  {
   "cell_type": "code",
   "execution_count": 23,
   "id": "f0893cf3-b2d0-4438-aa5e-67a1658722dd",
   "metadata": {},
   "outputs": [],
   "source": [
    "learning_rate = [1, 0.5, 0.1,  0.01]\n",
    "n_estimators = [50, 100, 200, 500, 1000, 2000]\n",
    "max_depth = [3, 5, 10, None]\n",
    "# Minimum number of samples required to split a node\n",
    "min_samples_split = [2, 5, 10, 20, 30]\n",
    "# Minimum number of samples required at each leaf node\n",
    "min_samples_leaf = [1, 2, 4]\n",
    "subsample = [0.3, 0.5, 0.75, 1.0]"
   ]
  },
  {
   "cell_type": "code",
   "execution_count": 24,
   "id": "aef6348a-cb1d-4570-9107-5bf9a37304fe",
   "metadata": {},
   "outputs": [],
   "source": [
    "# specify parameter values to search\n",
    "params = {}\n",
    "params['gradientboostingregressor__learning_rate'] = learning_rate\n",
    "params['gradientboostingregressor__n_estimators'] = n_estimators\n",
    "params['gradientboostingregressor__max_depth'] = max_depth\n",
    "params['gradientboostingregressor__min_samples_split'] = min_samples_split\n",
    "params['gradientboostingregressor__min_samples_leaf'] = min_samples_leaf\n",
    "params['gradientboostingregressor__subsample'] = subsample"
   ]
  },
  {
   "cell_type": "code",
   "execution_count": 25,
   "id": "1108df62-201c-4d47-b0da-6c2d8a873629",
   "metadata": {},
   "outputs": [
    {
     "data": {
      "text/plain": [
       "RandomizedSearchCV(cv=5,\n",
       "                   estimator=Pipeline(steps=[('standardscaler',\n",
       "                                              StandardScaler()),\n",
       "                                             ('gradientboostingregressor',\n",
       "                                              GradientBoostingRegressor(random_state=42))]),\n",
       "                   param_distributions={'gradientboostingregressor__learning_rate': [1,\n",
       "                                                                                     0.5,\n",
       "                                                                                     0.1,\n",
       "                                                                                     0.01],\n",
       "                                        'gradientboostingregressor__max_depth': [3,\n",
       "                                                                                 5,\n",
       "                                                                                 10,\n",
       "                                                                                 None],\n",
       "                                        'gradientboostingregressor__min_samples_leaf': [1,\n",
       "                                                                                        2,\n",
       "                                                                                        4],\n",
       "                                        'gradientboostingregressor__min_samples_split': [2,\n",
       "                                                                                         5,\n",
       "                                                                                         10,\n",
       "                                                                                         20,\n",
       "                                                                                         30],\n",
       "                                        'gradientboostingregressor__n_estimators': [50,\n",
       "                                                                                    100,\n",
       "                                                                                    200,\n",
       "                                                                                    500,\n",
       "                                                                                    1000,\n",
       "                                                                                    2000],\n",
       "                                        'gradientboostingregressor__subsample': [0.3,\n",
       "                                                                                 0.5,\n",
       "                                                                                 0.75,\n",
       "                                                                                 1.0]},\n",
       "                   random_state=1, scoring='neg_root_mean_squared_error')"
      ]
     },
     "execution_count": 25,
     "metadata": {},
     "output_type": "execute_result"
    }
   ],
   "source": [
    "grid = RandomizedSearchCV(pipe_gb, params, cv=5, scoring=\"neg_root_mean_squared_error\", random_state=1)\n",
    "grid.fit(X, y.values.ravel())"
   ]
  },
  {
   "cell_type": "code",
   "execution_count": 26,
   "id": "13b2dd41-835b-405c-b3bc-4baf3fc6c0b8",
   "metadata": {},
   "outputs": [
    {
     "name": "stdout",
     "output_type": "stream",
     "text": [
      "-94.53945887235345\n",
      "{'gradientboostingregressor__subsample': 0.5, 'gradientboostingregressor__n_estimators': 2000, 'gradientboostingregressor__min_samples_split': 30, 'gradientboostingregressor__min_samples_leaf': 1, 'gradientboostingregressor__max_depth': 10, 'gradientboostingregressor__learning_rate': 0.01}\n",
      "Pipeline(steps=[('standardscaler', StandardScaler()),\n",
      "                ('gradientboostingregressor',\n",
      "                 GradientBoostingRegressor(learning_rate=0.01, max_depth=10,\n",
      "                                           min_samples_split=30,\n",
      "                                           n_estimators=2000, random_state=42,\n",
      "                                           subsample=0.5))])\n",
      "r2: 0.9771663596300371\n"
     ]
    }
   ],
   "source": [
    "print(grid.best_score_)\n",
    "print(grid.best_params_)\n",
    "print(grid.best_estimator_)\n",
    "print(\"r2:\", cross_val_score(grid.best_estimator_, X, y.values.ravel(), scoring=\"r2\").mean())"
   ]
  },
  {
   "cell_type": "code",
   "execution_count": 27,
   "id": "4ee8815d-b350-4c27-96b9-f52e9c37a540",
   "metadata": {},
   "outputs": [
    {
     "data": {
      "text/plain": [
       "array([0.  , 0.  , 0.01, 0.  , 0.  , 0.  , 0.01, 0.98])"
      ]
     },
     "execution_count": 27,
     "metadata": {},
     "output_type": "execute_result"
    }
   ],
   "source": [
    "imp_gb = grid.best_estimator_.steps[1][1].feature_importances_\n",
    "imp_gb"
   ]
  },
  {
   "cell_type": "code",
   "execution_count": 28,
   "id": "8edbc3da-9f03-48df-9dbe-8899be196518",
   "metadata": {},
   "outputs": [
    {
     "data": {
      "text/html": [
       "<div><div id=0338cb2b-7a88-4949-84ee-0759848fba88 style=\"display:none; background-color:#9D6CFF; color:white; width:200px; height:30px; padding-left:5px; border-radius:4px; flex-direction:row; justify-content:space-around; align-items:center;\" onmouseover=\"this.style.backgroundColor='#BA9BF8'\" onmouseout=\"this.style.backgroundColor='#9D6CFF'\" onclick=\"window.commands?.execute('create-mitosheet-from-dataframe-output');\">See Full Dataframe in Mito</div> <script> if (window.commands.hasCommand('create-mitosheet-from-dataframe-output')) document.getElementById('0338cb2b-7a88-4949-84ee-0759848fba88').style.display = 'flex' </script> <table border=\"1\" class=\"dataframe\">\n",
       "  <thead>\n",
       "    <tr style=\"text-align: right;\">\n",
       "      <th></th>\n",
       "      <th>Feature Name</th>\n",
       "      <th>Importance</th>\n",
       "    </tr>\n",
       "  </thead>\n",
       "  <tbody>\n",
       "    <tr>\n",
       "      <th>7</th>\n",
       "      <td>Input_Plant annual N2O emissions (lbs)</td>\n",
       "      <td>0.982515</td>\n",
       "    </tr>\n",
       "    <tr>\n",
       "      <th>2</th>\n",
       "      <td>Input_Plant total annual heat input (MMBtu)</td>\n",
       "      <td>0.005400</td>\n",
       "    </tr>\n",
       "    <tr>\n",
       "      <th>6</th>\n",
       "      <td>Input_Plant annual CH4 emissions (lbs)</td>\n",
       "      <td>0.005132</td>\n",
       "    </tr>\n",
       "    <tr>\n",
       "      <th>5</th>\n",
       "      <td>Input_Plant annual CO2 emissions (tons)</td>\n",
       "      <td>0.004288</td>\n",
       "    </tr>\n",
       "    <tr>\n",
       "      <th>3</th>\n",
       "      <td>Input_Plant annual NOx emissions (tons)</td>\n",
       "      <td>0.001282</td>\n",
       "    </tr>\n",
       "    <tr>\n",
       "      <th>1</th>\n",
       "      <td>Input_Plant nameplate capacity (MW)</td>\n",
       "      <td>0.001056</td>\n",
       "    </tr>\n",
       "    <tr>\n",
       "      <th>4</th>\n",
       "      <td>Input_Plant annual SO2 emissions (tons)</td>\n",
       "      <td>0.000203</td>\n",
       "    </tr>\n",
       "    <tr>\n",
       "      <th>0</th>\n",
       "      <td>Input_Number of generators</td>\n",
       "      <td>0.000124</td>\n",
       "    </tr>\n",
       "  </tbody>\n",
       "</table></div>"
      ],
      "text/plain": [
       "                                  Feature Name  Importance\n",
       "7       Input_Plant annual N2O emissions (lbs)    0.982515\n",
       "2  Input_Plant total annual heat input (MMBtu)    0.005400\n",
       "6       Input_Plant annual CH4 emissions (lbs)    0.005132\n",
       "5      Input_Plant annual CO2 emissions (tons)    0.004288\n",
       "3      Input_Plant annual NOx emissions (tons)    0.001282\n",
       "1          Input_Plant nameplate capacity (MW)    0.001056\n",
       "4      Input_Plant annual SO2 emissions (tons)    0.000203\n",
       "0                   Input_Number of generators    0.000124"
      ]
     },
     "execution_count": 28,
     "metadata": {},
     "output_type": "execute_result"
    }
   ],
   "source": [
    "df_gb = pd.DataFrame({\"Feature Name\":X.columns, \"Importance\": imp_gb}).sort_values(\"Importance\", ascending=False)\n",
    "df_gb"
   ]
  },
  {
   "cell_type": "code",
   "execution_count": 29,
   "id": "83505479-6a82-45a1-91a1-79fcb979e85b",
   "metadata": {},
   "outputs": [],
   "source": [
    "input_imp = list(df_gb[\"Feature Name\"].values)\n",
    "results.append((0, grid.best_estimator_.steps[1][0], input_imp,\n",
    "                {\"r2\" : cross_val_score(grid.best_estimator_, X, y.values.ravel(), scoring=\"r2\").mean(),\n",
    "                \"neg_root_mean_squared_error\": grid.best_score_}))"
   ]
  },
  {
   "cell_type": "code",
   "execution_count": 31,
   "id": "28d99369-537f-43e3-8004-6cb60b364819",
   "metadata": {},
   "outputs": [
    {
     "data": {
      "application/vnd.plotly.v1+json": {
       "config": {
        "plotlyServerURL": "https://plot.ly"
       },
       "data": [
        {
         "alignmentgroup": "True",
         "hovertemplate": "Importance=%{x}<br>Feature Name=%{y}<extra></extra>",
         "legendgroup": "",
         "marker": {
          "color": "#636efa",
          "pattern": {
           "shape": ""
          }
         },
         "name": "",
         "offsetgroup": "",
         "orientation": "h",
         "showlegend": false,
         "textposition": "auto",
         "type": "bar",
         "x": [
          0.982514677544347,
          0.005399791339295378,
          0.005132348827105039,
          0.004288402486828444,
          0.0012824035002787745,
          0.001055869508577512,
          0.00020292337390838508,
          0.0001235834196596236
         ],
         "xaxis": "x",
         "y": [
          "Input_Plant annual N2O emissions (lbs)",
          "Input_Plant total annual heat input (MMBtu)",
          "Input_Plant annual CH4 emissions (lbs)",
          "Input_Plant annual CO2 emissions (tons)",
          "Input_Plant annual NOx emissions (tons)",
          "Input_Plant nameplate capacity (MW)",
          "Input_Plant annual SO2 emissions (tons)",
          "Input_Number of generators"
         ],
         "yaxis": "y"
        }
       ],
       "layout": {
        "autosize": false,
        "barmode": "relative",
        "height": 300,
        "legend": {
         "tracegroupgap": 0
        },
        "margin": {
         "t": 60
        },
        "template": {
         "data": {
          "bar": [
           {
            "error_x": {
             "color": "#2a3f5f"
            },
            "error_y": {
             "color": "#2a3f5f"
            },
            "marker": {
             "line": {
              "color": "#E5ECF6",
              "width": 0.5
             },
             "pattern": {
              "fillmode": "overlay",
              "size": 10,
              "solidity": 0.2
             }
            },
            "type": "bar"
           }
          ],
          "barpolar": [
           {
            "marker": {
             "line": {
              "color": "#E5ECF6",
              "width": 0.5
             },
             "pattern": {
              "fillmode": "overlay",
              "size": 10,
              "solidity": 0.2
             }
            },
            "type": "barpolar"
           }
          ],
          "carpet": [
           {
            "aaxis": {
             "endlinecolor": "#2a3f5f",
             "gridcolor": "white",
             "linecolor": "white",
             "minorgridcolor": "white",
             "startlinecolor": "#2a3f5f"
            },
            "baxis": {
             "endlinecolor": "#2a3f5f",
             "gridcolor": "white",
             "linecolor": "white",
             "minorgridcolor": "white",
             "startlinecolor": "#2a3f5f"
            },
            "type": "carpet"
           }
          ],
          "choropleth": [
           {
            "colorbar": {
             "outlinewidth": 0,
             "ticks": ""
            },
            "type": "choropleth"
           }
          ],
          "contour": [
           {
            "colorbar": {
             "outlinewidth": 0,
             "ticks": ""
            },
            "colorscale": [
             [
              0,
              "#0d0887"
             ],
             [
              0.1111111111111111,
              "#46039f"
             ],
             [
              0.2222222222222222,
              "#7201a8"
             ],
             [
              0.3333333333333333,
              "#9c179e"
             ],
             [
              0.4444444444444444,
              "#bd3786"
             ],
             [
              0.5555555555555556,
              "#d8576b"
             ],
             [
              0.6666666666666666,
              "#ed7953"
             ],
             [
              0.7777777777777778,
              "#fb9f3a"
             ],
             [
              0.8888888888888888,
              "#fdca26"
             ],
             [
              1,
              "#f0f921"
             ]
            ],
            "type": "contour"
           }
          ],
          "contourcarpet": [
           {
            "colorbar": {
             "outlinewidth": 0,
             "ticks": ""
            },
            "type": "contourcarpet"
           }
          ],
          "heatmap": [
           {
            "colorbar": {
             "outlinewidth": 0,
             "ticks": ""
            },
            "colorscale": [
             [
              0,
              "#0d0887"
             ],
             [
              0.1111111111111111,
              "#46039f"
             ],
             [
              0.2222222222222222,
              "#7201a8"
             ],
             [
              0.3333333333333333,
              "#9c179e"
             ],
             [
              0.4444444444444444,
              "#bd3786"
             ],
             [
              0.5555555555555556,
              "#d8576b"
             ],
             [
              0.6666666666666666,
              "#ed7953"
             ],
             [
              0.7777777777777778,
              "#fb9f3a"
             ],
             [
              0.8888888888888888,
              "#fdca26"
             ],
             [
              1,
              "#f0f921"
             ]
            ],
            "type": "heatmap"
           }
          ],
          "heatmapgl": [
           {
            "colorbar": {
             "outlinewidth": 0,
             "ticks": ""
            },
            "colorscale": [
             [
              0,
              "#0d0887"
             ],
             [
              0.1111111111111111,
              "#46039f"
             ],
             [
              0.2222222222222222,
              "#7201a8"
             ],
             [
              0.3333333333333333,
              "#9c179e"
             ],
             [
              0.4444444444444444,
              "#bd3786"
             ],
             [
              0.5555555555555556,
              "#d8576b"
             ],
             [
              0.6666666666666666,
              "#ed7953"
             ],
             [
              0.7777777777777778,
              "#fb9f3a"
             ],
             [
              0.8888888888888888,
              "#fdca26"
             ],
             [
              1,
              "#f0f921"
             ]
            ],
            "type": "heatmapgl"
           }
          ],
          "histogram": [
           {
            "marker": {
             "pattern": {
              "fillmode": "overlay",
              "size": 10,
              "solidity": 0.2
             }
            },
            "type": "histogram"
           }
          ],
          "histogram2d": [
           {
            "colorbar": {
             "outlinewidth": 0,
             "ticks": ""
            },
            "colorscale": [
             [
              0,
              "#0d0887"
             ],
             [
              0.1111111111111111,
              "#46039f"
             ],
             [
              0.2222222222222222,
              "#7201a8"
             ],
             [
              0.3333333333333333,
              "#9c179e"
             ],
             [
              0.4444444444444444,
              "#bd3786"
             ],
             [
              0.5555555555555556,
              "#d8576b"
             ],
             [
              0.6666666666666666,
              "#ed7953"
             ],
             [
              0.7777777777777778,
              "#fb9f3a"
             ],
             [
              0.8888888888888888,
              "#fdca26"
             ],
             [
              1,
              "#f0f921"
             ]
            ],
            "type": "histogram2d"
           }
          ],
          "histogram2dcontour": [
           {
            "colorbar": {
             "outlinewidth": 0,
             "ticks": ""
            },
            "colorscale": [
             [
              0,
              "#0d0887"
             ],
             [
              0.1111111111111111,
              "#46039f"
             ],
             [
              0.2222222222222222,
              "#7201a8"
             ],
             [
              0.3333333333333333,
              "#9c179e"
             ],
             [
              0.4444444444444444,
              "#bd3786"
             ],
             [
              0.5555555555555556,
              "#d8576b"
             ],
             [
              0.6666666666666666,
              "#ed7953"
             ],
             [
              0.7777777777777778,
              "#fb9f3a"
             ],
             [
              0.8888888888888888,
              "#fdca26"
             ],
             [
              1,
              "#f0f921"
             ]
            ],
            "type": "histogram2dcontour"
           }
          ],
          "mesh3d": [
           {
            "colorbar": {
             "outlinewidth": 0,
             "ticks": ""
            },
            "type": "mesh3d"
           }
          ],
          "parcoords": [
           {
            "line": {
             "colorbar": {
              "outlinewidth": 0,
              "ticks": ""
             }
            },
            "type": "parcoords"
           }
          ],
          "pie": [
           {
            "automargin": true,
            "type": "pie"
           }
          ],
          "scatter": [
           {
            "marker": {
             "colorbar": {
              "outlinewidth": 0,
              "ticks": ""
             }
            },
            "type": "scatter"
           }
          ],
          "scatter3d": [
           {
            "line": {
             "colorbar": {
              "outlinewidth": 0,
              "ticks": ""
             }
            },
            "marker": {
             "colorbar": {
              "outlinewidth": 0,
              "ticks": ""
             }
            },
            "type": "scatter3d"
           }
          ],
          "scattercarpet": [
           {
            "marker": {
             "colorbar": {
              "outlinewidth": 0,
              "ticks": ""
             }
            },
            "type": "scattercarpet"
           }
          ],
          "scattergeo": [
           {
            "marker": {
             "colorbar": {
              "outlinewidth": 0,
              "ticks": ""
             }
            },
            "type": "scattergeo"
           }
          ],
          "scattergl": [
           {
            "marker": {
             "colorbar": {
              "outlinewidth": 0,
              "ticks": ""
             }
            },
            "type": "scattergl"
           }
          ],
          "scattermapbox": [
           {
            "marker": {
             "colorbar": {
              "outlinewidth": 0,
              "ticks": ""
             }
            },
            "type": "scattermapbox"
           }
          ],
          "scatterpolar": [
           {
            "marker": {
             "colorbar": {
              "outlinewidth": 0,
              "ticks": ""
             }
            },
            "type": "scatterpolar"
           }
          ],
          "scatterpolargl": [
           {
            "marker": {
             "colorbar": {
              "outlinewidth": 0,
              "ticks": ""
             }
            },
            "type": "scatterpolargl"
           }
          ],
          "scatterternary": [
           {
            "marker": {
             "colorbar": {
              "outlinewidth": 0,
              "ticks": ""
             }
            },
            "type": "scatterternary"
           }
          ],
          "surface": [
           {
            "colorbar": {
             "outlinewidth": 0,
             "ticks": ""
            },
            "colorscale": [
             [
              0,
              "#0d0887"
             ],
             [
              0.1111111111111111,
              "#46039f"
             ],
             [
              0.2222222222222222,
              "#7201a8"
             ],
             [
              0.3333333333333333,
              "#9c179e"
             ],
             [
              0.4444444444444444,
              "#bd3786"
             ],
             [
              0.5555555555555556,
              "#d8576b"
             ],
             [
              0.6666666666666666,
              "#ed7953"
             ],
             [
              0.7777777777777778,
              "#fb9f3a"
             ],
             [
              0.8888888888888888,
              "#fdca26"
             ],
             [
              1,
              "#f0f921"
             ]
            ],
            "type": "surface"
           }
          ],
          "table": [
           {
            "cells": {
             "fill": {
              "color": "#EBF0F8"
             },
             "line": {
              "color": "white"
             }
            },
            "header": {
             "fill": {
              "color": "#C8D4E3"
             },
             "line": {
              "color": "white"
             }
            },
            "type": "table"
           }
          ]
         },
         "layout": {
          "annotationdefaults": {
           "arrowcolor": "#2a3f5f",
           "arrowhead": 0,
           "arrowwidth": 1
          },
          "autotypenumbers": "strict",
          "coloraxis": {
           "colorbar": {
            "outlinewidth": 0,
            "ticks": ""
           }
          },
          "colorscale": {
           "diverging": [
            [
             0,
             "#8e0152"
            ],
            [
             0.1,
             "#c51b7d"
            ],
            [
             0.2,
             "#de77ae"
            ],
            [
             0.3,
             "#f1b6da"
            ],
            [
             0.4,
             "#fde0ef"
            ],
            [
             0.5,
             "#f7f7f7"
            ],
            [
             0.6,
             "#e6f5d0"
            ],
            [
             0.7,
             "#b8e186"
            ],
            [
             0.8,
             "#7fbc41"
            ],
            [
             0.9,
             "#4d9221"
            ],
            [
             1,
             "#276419"
            ]
           ],
           "sequential": [
            [
             0,
             "#0d0887"
            ],
            [
             0.1111111111111111,
             "#46039f"
            ],
            [
             0.2222222222222222,
             "#7201a8"
            ],
            [
             0.3333333333333333,
             "#9c179e"
            ],
            [
             0.4444444444444444,
             "#bd3786"
            ],
            [
             0.5555555555555556,
             "#d8576b"
            ],
            [
             0.6666666666666666,
             "#ed7953"
            ],
            [
             0.7777777777777778,
             "#fb9f3a"
            ],
            [
             0.8888888888888888,
             "#fdca26"
            ],
            [
             1,
             "#f0f921"
            ]
           ],
           "sequentialminus": [
            [
             0,
             "#0d0887"
            ],
            [
             0.1111111111111111,
             "#46039f"
            ],
            [
             0.2222222222222222,
             "#7201a8"
            ],
            [
             0.3333333333333333,
             "#9c179e"
            ],
            [
             0.4444444444444444,
             "#bd3786"
            ],
            [
             0.5555555555555556,
             "#d8576b"
            ],
            [
             0.6666666666666666,
             "#ed7953"
            ],
            [
             0.7777777777777778,
             "#fb9f3a"
            ],
            [
             0.8888888888888888,
             "#fdca26"
            ],
            [
             1,
             "#f0f921"
            ]
           ]
          },
          "colorway": [
           "#636efa",
           "#EF553B",
           "#00cc96",
           "#ab63fa",
           "#FFA15A",
           "#19d3f3",
           "#FF6692",
           "#B6E880",
           "#FF97FF",
           "#FECB52"
          ],
          "font": {
           "color": "#2a3f5f"
          },
          "geo": {
           "bgcolor": "white",
           "lakecolor": "white",
           "landcolor": "#E5ECF6",
           "showlakes": true,
           "showland": true,
           "subunitcolor": "white"
          },
          "hoverlabel": {
           "align": "left"
          },
          "hovermode": "closest",
          "mapbox": {
           "style": "light"
          },
          "paper_bgcolor": "white",
          "plot_bgcolor": "#E5ECF6",
          "polar": {
           "angularaxis": {
            "gridcolor": "white",
            "linecolor": "white",
            "ticks": ""
           },
           "bgcolor": "#E5ECF6",
           "radialaxis": {
            "gridcolor": "white",
            "linecolor": "white",
            "ticks": ""
           }
          },
          "scene": {
           "xaxis": {
            "backgroundcolor": "#E5ECF6",
            "gridcolor": "white",
            "gridwidth": 2,
            "linecolor": "white",
            "showbackground": true,
            "ticks": "",
            "zerolinecolor": "white"
           },
           "yaxis": {
            "backgroundcolor": "#E5ECF6",
            "gridcolor": "white",
            "gridwidth": 2,
            "linecolor": "white",
            "showbackground": true,
            "ticks": "",
            "zerolinecolor": "white"
           },
           "zaxis": {
            "backgroundcolor": "#E5ECF6",
            "gridcolor": "white",
            "gridwidth": 2,
            "linecolor": "white",
            "showbackground": true,
            "ticks": "",
            "zerolinecolor": "white"
           }
          },
          "shapedefaults": {
           "line": {
            "color": "#2a3f5f"
           }
          },
          "ternary": {
           "aaxis": {
            "gridcolor": "white",
            "linecolor": "white",
            "ticks": ""
           },
           "baxis": {
            "gridcolor": "white",
            "linecolor": "white",
            "ticks": ""
           },
           "bgcolor": "#E5ECF6",
           "caxis": {
            "gridcolor": "white",
            "linecolor": "white",
            "ticks": ""
           }
          },
          "title": {
           "x": 0.05
          },
          "xaxis": {
           "automargin": true,
           "gridcolor": "white",
           "linecolor": "white",
           "ticks": "",
           "title": {
            "standoff": 15
           },
           "zerolinecolor": "white",
           "zerolinewidth": 2
          },
          "yaxis": {
           "automargin": true,
           "gridcolor": "white",
           "linecolor": "white",
           "ticks": "",
           "title": {
            "standoff": 15
           },
           "zerolinecolor": "white",
           "zerolinewidth": 2
          }
         }
        },
        "title": {
         "text": "GradientBoostingRegressor Feature Importances"
        },
        "width": 600,
        "xaxis": {
         "anchor": "y",
         "autorange": true,
         "domain": [
          0,
          1
         ],
         "range": [
          0,
          1.0342259763624704
         ],
         "title": {
          "text": "Importance"
         },
         "type": "linear"
        },
        "yaxis": {
         "anchor": "x",
         "autorange": true,
         "categoryorder": "total ascending",
         "domain": [
          0,
          1
         ],
         "range": [
          -0.5,
          7.5
         ],
         "title": {
          "text": "Feature Name"
         },
         "type": "category"
        }
       }
      },
      "image/png": "[encoded data removed]",
      "text/html": [
       "<div>                            <div id=\"86cd2be0-256d-4f7b-9072-628d1888fa26\" class=\"plotly-graph-div\" style=\"height:300px; width:600px;\"></div>            <script type=\"text/javascript\">                require([\"plotly\"], function(Plotly) {                    window.PLOTLYENV=window.PLOTLYENV || {};                                    if (document.getElementById(\"86cd2be0-256d-4f7b-9072-628d1888fa26\")) {                    Plotly.newPlot(                        \"86cd2be0-256d-4f7b-9072-628d1888fa26\",                        [{\"alignmentgroup\":\"True\",\"hovertemplate\":\"Importance=%{x}<br>Feature Name=%{y}<extra></extra>\",\"legendgroup\":\"\",\"marker\":{\"color\":\"#636efa\",\"pattern\":{\"shape\":\"\"}},\"name\":\"\",\"offsetgroup\":\"\",\"orientation\":\"h\",\"showlegend\":false,\"textposition\":\"auto\",\"type\":\"bar\",\"x\":[0.982514677544347,0.005399791339295378,0.005132348827105039,0.004288402486828444,0.0012824035002787745,0.001055869508577512,0.00020292337390838508,0.0001235834196596236],\"xaxis\":\"x\",\"y\":[\"Input_Plant annual N2O emissions (lbs)\",\"Input_Plant total annual heat input (MMBtu)\",\"Input_Plant annual CH4 emissions (lbs)\",\"Input_Plant annual CO2 emissions (tons)\",\"Input_Plant annual NOx emissions (tons)\",\"Input_Plant nameplate capacity (MW)\",\"Input_Plant annual SO2 emissions (tons)\",\"Input_Number of generators\"],\"yaxis\":\"y\"}],                        {\"autosize\":false,\"barmode\":\"relative\",\"height\":300,\"legend\":{\"tracegroupgap\":0},\"margin\":{\"t\":60},\"template\":{\"data\":{\"bar\":[{\"error_x\":{\"color\":\"#2a3f5f\"},\"error_y\":{\"color\":\"#2a3f5f\"},\"marker\":{\"line\":{\"color\":\"#E5ECF6\",\"width\":0.5},\"pattern\":{\"fillmode\":\"overlay\",\"size\":10,\"solidity\":0.2}},\"type\":\"bar\"}],\"barpolar\":[{\"marker\":{\"line\":{\"color\":\"#E5ECF6\",\"width\":0.5},\"pattern\":{\"fillmode\":\"overlay\",\"size\":10,\"solidity\":0.2}},\"type\":\"barpolar\"}],\"carpet\":[{\"aaxis\":{\"endlinecolor\":\"#2a3f5f\",\"gridcolor\":\"white\",\"linecolor\":\"white\",\"minorgridcolor\":\"white\",\"startlinecolor\":\"#2a3f5f\"},\"baxis\":{\"endlinecolor\":\"#2a3f5f\",\"gridcolor\":\"white\",\"linecolor\":\"white\",\"minorgridcolor\":\"white\",\"startlinecolor\":\"#2a3f5f\"},\"type\":\"carpet\"}],\"choropleth\":[{\"colorbar\":{\"outlinewidth\":0,\"ticks\":\"\"},\"type\":\"choropleth\"}],\"contour\":[{\"colorbar\":{\"outlinewidth\":0,\"ticks\":\"\"},\"colorscale\":[[0.0,\"#0d0887\"],[0.1111111111111111,\"#46039f\"],[0.2222222222222222,\"#7201a8\"],[0.3333333333333333,\"#9c179e\"],[0.4444444444444444,\"#bd3786\"],[0.5555555555555556,\"#d8576b\"],[0.6666666666666666,\"#ed7953\"],[0.7777777777777778,\"#fb9f3a\"],[0.8888888888888888,\"#fdca26\"],[1.0,\"#f0f921\"]],\"type\":\"contour\"}],\"contourcarpet\":[{\"colorbar\":{\"outlinewidth\":0,\"ticks\":\"\"},\"type\":\"contourcarpet\"}],\"heatmap\":[{\"colorbar\":{\"outlinewidth\":0,\"ticks\":\"\"},\"colorscale\":[[0.0,\"#0d0887\"],[0.1111111111111111,\"#46039f\"],[0.2222222222222222,\"#7201a8\"],[0.3333333333333333,\"#9c179e\"],[0.4444444444444444,\"#bd3786\"],[0.5555555555555556,\"#d8576b\"],[0.6666666666666666,\"#ed7953\"],[0.7777777777777778,\"#fb9f3a\"],[0.8888888888888888,\"#fdca26\"],[1.0,\"#f0f921\"]],\"type\":\"heatmap\"}],\"heatmapgl\":[{\"colorbar\":{\"outlinewidth\":0,\"ticks\":\"\"},\"colorscale\":[[0.0,\"#0d0887\"],[0.1111111111111111,\"#46039f\"],[0.2222222222222222,\"#7201a8\"],[0.3333333333333333,\"#9c179e\"],[0.4444444444444444,\"#bd3786\"],[0.5555555555555556,\"#d8576b\"],[0.6666666666666666,\"#ed7953\"],[0.7777777777777778,\"#fb9f3a\"],[0.8888888888888888,\"#fdca26\"],[1.0,\"#f0f921\"]],\"type\":\"heatmapgl\"}],\"histogram\":[{\"marker\":{\"pattern\":{\"fillmode\":\"overlay\",\"size\":10,\"solidity\":0.2}},\"type\":\"histogram\"}],\"histogram2d\":[{\"colorbar\":{\"outlinewidth\":0,\"ticks\":\"\"},\"colorscale\":[[0.0,\"#0d0887\"],[0.1111111111111111,\"#46039f\"],[0.2222222222222222,\"#7201a8\"],[0.3333333333333333,\"#9c179e\"],[0.4444444444444444,\"#bd3786\"],[0.5555555555555556,\"#d8576b\"],[0.6666666666666666,\"#ed7953\"],[0.7777777777777778,\"#fb9f3a\"],[0.8888888888888888,\"#fdca26\"],[1.0,\"#f0f921\"]],\"type\":\"histogram2d\"}],\"histogram2dcontour\":[{\"colorbar\":{\"outlinewidth\":0,\"ticks\":\"\"},\"colorscale\":[[0.0,\"#0d0887\"],[0.1111111111111111,\"#46039f\"],[0.2222222222222222,\"#7201a8\"],[0.3333333333333333,\"#9c179e\"],[0.4444444444444444,\"#bd3786\"],[0.5555555555555556,\"#d8576b\"],[0.6666666666666666,\"#ed7953\"],[0.7777777777777778,\"#fb9f3a\"],[0.8888888888888888,\"#fdca26\"],[1.0,\"#f0f921\"]],\"type\":\"histogram2dcontour\"}],\"mesh3d\":[{\"colorbar\":{\"outlinewidth\":0,\"ticks\":\"\"},\"type\":\"mesh3d\"}],\"parcoords\":[{\"line\":{\"colorbar\":{\"outlinewidth\":0,\"ticks\":\"\"}},\"type\":\"parcoords\"}],\"pie\":[{\"automargin\":true,\"type\":\"pie\"}],\"scatter\":[{\"marker\":{\"colorbar\":{\"outlinewidth\":0,\"ticks\":\"\"}},\"type\":\"scatter\"}],\"scatter3d\":[{\"line\":{\"colorbar\":{\"outlinewidth\":0,\"ticks\":\"\"}},\"marker\":{\"colorbar\":{\"outlinewidth\":0,\"ticks\":\"\"}},\"type\":\"scatter3d\"}],\"scattercarpet\":[{\"marker\":{\"colorbar\":{\"outlinewidth\":0,\"ticks\":\"\"}},\"type\":\"scattercarpet\"}],\"scattergeo\":[{\"marker\":{\"colorbar\":{\"outlinewidth\":0,\"ticks\":\"\"}},\"type\":\"scattergeo\"}],\"scattergl\":[{\"marker\":{\"colorbar\":{\"outlinewidth\":0,\"ticks\":\"\"}},\"type\":\"scattergl\"}],\"scattermapbox\":[{\"marker\":{\"colorbar\":{\"outlinewidth\":0,\"ticks\":\"\"}},\"type\":\"scattermapbox\"}],\"scatterpolar\":[{\"marker\":{\"colorbar\":{\"outlinewidth\":0,\"ticks\":\"\"}},\"type\":\"scatterpolar\"}],\"scatterpolargl\":[{\"marker\":{\"colorbar\":{\"outlinewidth\":0,\"ticks\":\"\"}},\"type\":\"scatterpolargl\"}],\"scatterternary\":[{\"marker\":{\"colorbar\":{\"outlinewidth\":0,\"ticks\":\"\"}},\"type\":\"scatterternary\"}],\"surface\":[{\"colorbar\":{\"outlinewidth\":0,\"ticks\":\"\"},\"colorscale\":[[0.0,\"#0d0887\"],[0.1111111111111111,\"#46039f\"],[0.2222222222222222,\"#7201a8\"],[0.3333333333333333,\"#9c179e\"],[0.4444444444444444,\"#bd3786\"],[0.5555555555555556,\"#d8576b\"],[0.6666666666666666,\"#ed7953\"],[0.7777777777777778,\"#fb9f3a\"],[0.8888888888888888,\"#fdca26\"],[1.0,\"#f0f921\"]],\"type\":\"surface\"}],\"table\":[{\"cells\":{\"fill\":{\"color\":\"#EBF0F8\"},\"line\":{\"color\":\"white\"}},\"header\":{\"fill\":{\"color\":\"#C8D4E3\"},\"line\":{\"color\":\"white\"}},\"type\":\"table\"}]},\"layout\":{\"annotationdefaults\":{\"arrowcolor\":\"#2a3f5f\",\"arrowhead\":0,\"arrowwidth\":1},\"autotypenumbers\":\"strict\",\"coloraxis\":{\"colorbar\":{\"outlinewidth\":0,\"ticks\":\"\"}},\"colorscale\":{\"diverging\":[[0,\"#8e0152\"],[0.1,\"#c51b7d\"],[0.2,\"#de77ae\"],[0.3,\"#f1b6da\"],[0.4,\"#fde0ef\"],[0.5,\"#f7f7f7\"],[0.6,\"#e6f5d0\"],[0.7,\"#b8e186\"],[0.8,\"#7fbc41\"],[0.9,\"#4d9221\"],[1,\"#276419\"]],\"sequential\":[[0.0,\"#0d0887\"],[0.1111111111111111,\"#46039f\"],[0.2222222222222222,\"#7201a8\"],[0.3333333333333333,\"#9c179e\"],[0.4444444444444444,\"#bd3786\"],[0.5555555555555556,\"#d8576b\"],[0.6666666666666666,\"#ed7953\"],[0.7777777777777778,\"#fb9f3a\"],[0.8888888888888888,\"#fdca26\"],[1.0,\"#f0f921\"]],\"sequentialminus\":[[0.0,\"#0d0887\"],[0.1111111111111111,\"#46039f\"],[0.2222222222222222,\"#7201a8\"],[0.3333333333333333,\"#9c179e\"],[0.4444444444444444,\"#bd3786\"],[0.5555555555555556,\"#d8576b\"],[0.6666666666666666,\"#ed7953\"],[0.7777777777777778,\"#fb9f3a\"],[0.8888888888888888,\"#fdca26\"],[1.0,\"#f0f921\"]]},\"colorway\":[\"#636efa\",\"#EF553B\",\"#00cc96\",\"#ab63fa\",\"#FFA15A\",\"#19d3f3\",\"#FF6692\",\"#B6E880\",\"#FF97FF\",\"#FECB52\"],\"font\":{\"color\":\"#2a3f5f\"},\"geo\":{\"bgcolor\":\"white\",\"lakecolor\":\"white\",\"landcolor\":\"#E5ECF6\",\"showlakes\":true,\"showland\":true,\"subunitcolor\":\"white\"},\"hoverlabel\":{\"align\":\"left\"},\"hovermode\":\"closest\",\"mapbox\":{\"style\":\"light\"},\"paper_bgcolor\":\"white\",\"plot_bgcolor\":\"#E5ECF6\",\"polar\":{\"angularaxis\":{\"gridcolor\":\"white\",\"linecolor\":\"white\",\"ticks\":\"\"},\"bgcolor\":\"#E5ECF6\",\"radialaxis\":{\"gridcolor\":\"white\",\"linecolor\":\"white\",\"ticks\":\"\"}},\"scene\":{\"xaxis\":{\"backgroundcolor\":\"#E5ECF6\",\"gridcolor\":\"white\",\"gridwidth\":2,\"linecolor\":\"white\",\"showbackground\":true,\"ticks\":\"\",\"zerolinecolor\":\"white\"},\"yaxis\":{\"backgroundcolor\":\"#E5ECF6\",\"gridcolor\":\"white\",\"gridwidth\":2,\"linecolor\":\"white\",\"showbackground\":true,\"ticks\":\"\",\"zerolinecolor\":\"white\"},\"zaxis\":{\"backgroundcolor\":\"#E5ECF6\",\"gridcolor\":\"white\",\"gridwidth\":2,\"linecolor\":\"white\",\"showbackground\":true,\"ticks\":\"\",\"zerolinecolor\":\"white\"}},\"shapedefaults\":{\"line\":{\"color\":\"#2a3f5f\"}},\"ternary\":{\"aaxis\":{\"gridcolor\":\"white\",\"linecolor\":\"white\",\"ticks\":\"\"},\"baxis\":{\"gridcolor\":\"white\",\"linecolor\":\"white\",\"ticks\":\"\"},\"bgcolor\":\"#E5ECF6\",\"caxis\":{\"gridcolor\":\"white\",\"linecolor\":\"white\",\"ticks\":\"\"}},\"title\":{\"x\":0.05},\"xaxis\":{\"automargin\":true,\"gridcolor\":\"white\",\"linecolor\":\"white\",\"ticks\":\"\",\"title\":{\"standoff\":15},\"zerolinecolor\":\"white\",\"zerolinewidth\":2},\"yaxis\":{\"automargin\":true,\"gridcolor\":\"white\",\"linecolor\":\"white\",\"ticks\":\"\",\"title\":{\"standoff\":15},\"zerolinecolor\":\"white\",\"zerolinewidth\":2}}},\"title\":{\"text\":\"GradientBoostingRegressor Feature Importances\"},\"width\":600,\"xaxis\":{\"anchor\":\"y\",\"domain\":[0.0,1.0],\"title\":{\"text\":\"Importance\"}},\"yaxis\":{\"anchor\":\"x\",\"categoryorder\":\"total ascending\",\"domain\":[0.0,1.0],\"title\":{\"text\":\"Feature Name\"}}},                        {\"responsive\": true}                    ).then(function(){\n",
       "                            \n",
       "var gd = document.getElementById('86cd2be0-256d-4f7b-9072-628d1888fa26');\n",
       "var x = new MutationObserver(function (mutations, observer) {{\n",
       "        var display = window.getComputedStyle(gd).display;\n",
       "        if (!display || display === 'none') {{\n",
       "            console.log([gd, 'removed!']);\n",
       "            Plotly.purge(gd);\n",
       "            observer.disconnect();\n",
       "        }}\n",
       "}});\n",
       "\n",
       "// Listen for the removal of the full notebook cells\n",
       "var notebookContainer = gd.closest('#notebook-container');\n",
       "if (notebookContainer) {{\n",
       "    x.observe(notebookContainer, {childList: true});\n",
       "}}\n",
       "\n",
       "// Listen for the clearing of the current output cell\n",
       "var outputEl = gd.closest('.output');\n",
       "if (outputEl) {{\n",
       "    x.observe(outputEl, {childList: true});\n",
       "}}\n",
       "\n",
       "                        })                };                });            </script>        </div>"
      ]
     },
     "metadata": {},
     "output_type": "display_data"
    }
   ],
   "source": [
    "fig = px.bar(df_gb, x=\"Importance\", y=\"Feature Name\")\n",
    "\n",
    "fig.update_layout(\n",
    "    autosize=False,\n",
    "    width=600,\n",
    "    height=300,\n",
    "    title_text=f\"GradientBoostingRegressor Feature Importances\",\n",
    "    yaxis={'categoryorder':'total ascending'}\n",
    ")\n",
    "\n",
    "fig.show()"
   ]
  },
  {
   "cell_type": "code",
   "execution_count": 32,
   "id": "3a90db0d-c276-4331-8774-daf050e712d6",
   "metadata": {},
   "outputs": [
    {
     "data": {
      "text/html": [
       "<div><div id=78b6d9cf-6467-4de6-85ce-940eb574b3af style=\"display:none; background-color:#9D6CFF; color:white; width:200px; height:30px; padding-left:5px; border-radius:4px; flex-direction:row; justify-content:space-around; align-items:center;\" onmouseover=\"this.style.backgroundColor='#BA9BF8'\" onmouseout=\"this.style.backgroundColor='#9D6CFF'\" onclick=\"window.commands?.execute('create-mitosheet-from-dataframe-output');\">See Full Dataframe in Mito</div> <script> if (window.commands.hasCommand('create-mitosheet-from-dataframe-output')) document.getElementById('78b6d9cf-6467-4de6-85ce-940eb574b3af').style.display = 'flex' </script> <table border=\"1\" class=\"dataframe\">\n",
       "  <thead>\n",
       "    <tr style=\"text-align: right;\">\n",
       "      <th></th>\n",
       "      <th>Feature Name</th>\n",
       "      <th>Importance</th>\n",
       "    </tr>\n",
       "  </thead>\n",
       "  <tbody>\n",
       "    <tr>\n",
       "      <th>7</th>\n",
       "      <td>Input_Plant annual N2O emissions (lbs)</td>\n",
       "      <td>0.982515</td>\n",
       "    </tr>\n",
       "    <tr>\n",
       "      <th>2</th>\n",
       "      <td>Input_Plant total annual heat input (MMBtu)</td>\n",
       "      <td>0.005400</td>\n",
       "    </tr>\n",
       "    <tr>\n",
       "      <th>6</th>\n",
       "      <td>Input_Plant annual CH4 emissions (lbs)</td>\n",
       "      <td>0.005132</td>\n",
       "    </tr>\n",
       "    <tr>\n",
       "      <th>5</th>\n",
       "      <td>Input_Plant annual CO2 emissions (tons)</td>\n",
       "      <td>0.004288</td>\n",
       "    </tr>\n",
       "    <tr>\n",
       "      <th>3</th>\n",
       "      <td>Input_Plant annual NOx emissions (tons)</td>\n",
       "      <td>0.001282</td>\n",
       "    </tr>\n",
       "    <tr>\n",
       "      <th>1</th>\n",
       "      <td>Input_Plant nameplate capacity (MW)</td>\n",
       "      <td>0.001056</td>\n",
       "    </tr>\n",
       "    <tr>\n",
       "      <th>4</th>\n",
       "      <td>Input_Plant annual SO2 emissions (tons)</td>\n",
       "      <td>0.000203</td>\n",
       "    </tr>\n",
       "    <tr>\n",
       "      <th>0</th>\n",
       "      <td>Input_Number of generators</td>\n",
       "      <td>0.000124</td>\n",
       "    </tr>\n",
       "  </tbody>\n",
       "</table></div>"
      ],
      "text/plain": [
       "                                  Feature Name  Importance\n",
       "7       Input_Plant annual N2O emissions (lbs)    0.982515\n",
       "2  Input_Plant total annual heat input (MMBtu)    0.005400\n",
       "6       Input_Plant annual CH4 emissions (lbs)    0.005132\n",
       "5      Input_Plant annual CO2 emissions (tons)    0.004288\n",
       "3      Input_Plant annual NOx emissions (tons)    0.001282\n",
       "1          Input_Plant nameplate capacity (MW)    0.001056\n",
       "4      Input_Plant annual SO2 emissions (tons)    0.000203\n",
       "0                   Input_Number of generators    0.000124"
      ]
     },
     "execution_count": 32,
     "metadata": {},
     "output_type": "execute_result"
    }
   ],
   "source": [
    "df_gb"
   ]
  },
  {
   "cell_type": "code",
   "execution_count": 33,
   "id": "e3cfcf32-0246-4af9-b8f3-f74fe91292e2",
   "metadata": {},
   "outputs": [],
   "source": [
    "df_zero.index = [\"_\".join(f.split(\"_\")[1:]) for f in df_zero.index]"
   ]
  },
  {
   "cell_type": "code",
   "execution_count": 34,
   "id": "e8f5350e-f390-4ac0-90e3-333d7d6b8228",
   "metadata": {},
   "outputs": [
    {
     "data": {
      "text/plain": [
       "Input_Number of generators                     1065\n",
       "Input_Plant annual CH4 emissions (lbs)         1677\n",
       "Input_Plant annual CO2 emissions (tons)         982\n",
       "Input_Plant annual N2O emissions (lbs)           16\n",
       "Input_Plant annual NOx emissions (tons)         721\n",
       "Input_Plant annual SO2 emissions (tons)        1219\n",
       "Input_Plant nameplate capacity (MW)            1153\n",
       "Input_Plant total annual heat input (MMBtu)    1196\n",
       "Output_Plant annual net generation (MWh)          0\n",
       "dtype: int64"
      ]
     },
     "execution_count": 34,
     "metadata": {},
     "output_type": "execute_result"
    }
   ],
   "source": [
    "df_zero"
   ]
  },
  {
   "cell_type": "code",
   "execution_count": 35,
   "id": "694488a2-cea6-4397-b1fe-b07e5d9bf908",
   "metadata": {},
   "outputs": [
    {
     "data": {
      "text/html": [
       "<div><div id=14f48866-375d-4624-9950-a99ca43644d8 style=\"display:none; background-color:#9D6CFF; color:white; width:200px; height:30px; padding-left:5px; border-radius:4px; flex-direction:row; justify-content:space-around; align-items:center;\" onmouseover=\"this.style.backgroundColor='#BA9BF8'\" onmouseout=\"this.style.backgroundColor='#9D6CFF'\" onclick=\"window.commands?.execute('create-mitosheet-from-dataframe-output');\">See Full Dataframe in Mito</div> <script> if (window.commands.hasCommand('create-mitosheet-from-dataframe-output')) document.getElementById('14f48866-375d-4624-9950-a99ca43644d8').style.display = 'flex' </script> <table border=\"1\" class=\"dataframe\">\n",
       "  <thead>\n",
       "    <tr style=\"text-align: right;\">\n",
       "      <th></th>\n",
       "      <th>Feature Name</th>\n",
       "      <th>Importance</th>\n",
       "      <th>index</th>\n",
       "      <th>Zero_Count</th>\n",
       "    </tr>\n",
       "  </thead>\n",
       "  <tbody>\n",
       "    <tr>\n",
       "      <th>0</th>\n",
       "      <td>Input_Plant annual N2O emissions (lbs)</td>\n",
       "      <td>0.982515</td>\n",
       "      <td>Input_Plant annual N2O emissions (lbs)</td>\n",
       "      <td>16</td>\n",
       "    </tr>\n",
       "    <tr>\n",
       "      <th>1</th>\n",
       "      <td>Input_Plant total annual heat input (MMBtu)</td>\n",
       "      <td>0.005400</td>\n",
       "      <td>Input_Plant total annual heat input (MMBtu)</td>\n",
       "      <td>1196</td>\n",
       "    </tr>\n",
       "    <tr>\n",
       "      <th>2</th>\n",
       "      <td>Input_Plant annual CH4 emissions (lbs)</td>\n",
       "      <td>0.005132</td>\n",
       "      <td>Input_Plant annual CH4 emissions (lbs)</td>\n",
       "      <td>1677</td>\n",
       "    </tr>\n",
       "    <tr>\n",
       "      <th>3</th>\n",
       "      <td>Input_Plant annual CO2 emissions (tons)</td>\n",
       "      <td>0.004288</td>\n",
       "      <td>Input_Plant annual CO2 emissions (tons)</td>\n",
       "      <td>982</td>\n",
       "    </tr>\n",
       "    <tr>\n",
       "      <th>4</th>\n",
       "      <td>Input_Plant annual NOx emissions (tons)</td>\n",
       "      <td>0.001282</td>\n",
       "      <td>Input_Plant annual NOx emissions (tons)</td>\n",
       "      <td>721</td>\n",
       "    </tr>\n",
       "    <tr>\n",
       "      <th>5</th>\n",
       "      <td>Input_Plant nameplate capacity (MW)</td>\n",
       "      <td>0.001056</td>\n",
       "      <td>Input_Plant nameplate capacity (MW)</td>\n",
       "      <td>1153</td>\n",
       "    </tr>\n",
       "    <tr>\n",
       "      <th>6</th>\n",
       "      <td>Input_Plant annual SO2 emissions (tons)</td>\n",
       "      <td>0.000203</td>\n",
       "      <td>Input_Plant annual SO2 emissions (tons)</td>\n",
       "      <td>1219</td>\n",
       "    </tr>\n",
       "    <tr>\n",
       "      <th>7</th>\n",
       "      <td>Input_Number of generators</td>\n",
       "      <td>0.000124</td>\n",
       "      <td>Input_Number of generators</td>\n",
       "      <td>1065</td>\n",
       "    </tr>\n",
       "  </tbody>\n",
       "</table></div>"
      ],
      "text/plain": [
       "                                  Feature Name  Importance  \\\n",
       "0       Input_Plant annual N2O emissions (lbs)    0.982515   \n",
       "1  Input_Plant total annual heat input (MMBtu)    0.005400   \n",
       "2       Input_Plant annual CH4 emissions (lbs)    0.005132   \n",
       "3      Input_Plant annual CO2 emissions (tons)    0.004288   \n",
       "4      Input_Plant annual NOx emissions (tons)    0.001282   \n",
       "5          Input_Plant nameplate capacity (MW)    0.001056   \n",
       "6      Input_Plant annual SO2 emissions (tons)    0.000203   \n",
       "7                   Input_Number of generators    0.000124   \n",
       "\n",
       "                                         index  Zero_Count  \n",
       "0       Input_Plant annual N2O emissions (lbs)          16  \n",
       "1  Input_Plant total annual heat input (MMBtu)        1196  \n",
       "2       Input_Plant annual CH4 emissions (lbs)        1677  \n",
       "3      Input_Plant annual CO2 emissions (tons)         982  \n",
       "4      Input_Plant annual NOx emissions (tons)         721  \n",
       "5          Input_Plant nameplate capacity (MW)        1153  \n",
       "6      Input_Plant annual SO2 emissions (tons)        1219  \n",
       "7                   Input_Number of generators        1065  "
      ]
     },
     "execution_count": 35,
     "metadata": {},
     "output_type": "execute_result"
    }
   ],
   "source": [
    "df_merged = pd.merge(df_gb, df_zero.reset_index(), left_on=\"Feature Name\", right_on=\"index\")\n",
    "df_merged.rename(columns = {0: \"Zero_Count\"}, inplace=True)\n",
    "df_merged"
   ]
  },
  {
   "cell_type": "code",
   "execution_count": 36,
   "id": "21761176-39d5-4a59-884f-b79db8c4236f",
   "metadata": {},
   "outputs": [
    {
     "data": {
      "application/vnd.plotly.v1+json": {
       "config": {
        "plotlyServerURL": "https://plot.ly"
       },
       "data": [
        {
         "customdata": [
          [
           "Input_Plant annual N2O emissions (lbs)"
          ],
          [
           "Input_Plant total annual heat input (MMBtu)"
          ],
          [
           "Input_Plant annual CH4 emissions (lbs)"
          ],
          [
           "Input_Plant annual CO2 emissions (tons)"
          ],
          [
           "Input_Plant annual NOx emissions (tons)"
          ],
          [
           "Input_Plant nameplate capacity (MW)"
          ],
          [
           "Input_Plant annual SO2 emissions (tons)"
          ],
          [
           "Input_Number of generators"
          ]
         ],
         "hovertemplate": "Zero_Count=%{x}<br>Importance=%{y}<br>Feature Name=%{customdata[0]}<extra></extra>",
         "legendgroup": "",
         "marker": {
          "color": "#636efa",
          "symbol": "circle"
         },
         "mode": "markers",
         "name": "",
         "orientation": "v",
         "showlegend": false,
         "type": "scatter",
         "x": [
          16,
          1196,
          1677,
          982,
          721,
          1153,
          1219,
          1065
         ],
         "xaxis": "x",
         "y": [
          0.982514677544347,
          0.005399791339295378,
          0.005132348827105039,
          0.004288402486828444,
          0.0012824035002787745,
          0.001055869508577512,
          0.00020292337390838508,
          0.0001235834196596236
         ],
         "yaxis": "y"
        }
       ],
       "layout": {
        "autosize": false,
        "height": 500,
        "legend": {
         "tracegroupgap": 0
        },
        "margin": {
         "t": 60
        },
        "template": {
         "data": {
          "bar": [
           {
            "error_x": {
             "color": "#2a3f5f"
            },
            "error_y": {
             "color": "#2a3f5f"
            },
            "marker": {
             "line": {
              "color": "#E5ECF6",
              "width": 0.5
             },
             "pattern": {
              "fillmode": "overlay",
              "size": 10,
              "solidity": 0.2
             }
            },
            "type": "bar"
           }
          ],
          "barpolar": [
           {
            "marker": {
             "line": {
              "color": "#E5ECF6",
              "width": 0.5
             },
             "pattern": {
              "fillmode": "overlay",
              "size": 10,
              "solidity": 0.2
             }
            },
            "type": "barpolar"
           }
          ],
          "carpet": [
           {
            "aaxis": {
             "endlinecolor": "#2a3f5f",
             "gridcolor": "white",
             "linecolor": "white",
             "minorgridcolor": "white",
             "startlinecolor": "#2a3f5f"
            },
            "baxis": {
             "endlinecolor": "#2a3f5f",
             "gridcolor": "white",
             "linecolor": "white",
             "minorgridcolor": "white",
             "startlinecolor": "#2a3f5f"
            },
            "type": "carpet"
           }
          ],
          "choropleth": [
           {
            "colorbar": {
             "outlinewidth": 0,
             "ticks": ""
            },
            "type": "choropleth"
           }
          ],
          "contour": [
           {
            "colorbar": {
             "outlinewidth": 0,
             "ticks": ""
            },
            "colorscale": [
             [
              0,
              "#0d0887"
             ],
             [
              0.1111111111111111,
              "#46039f"
             ],
             [
              0.2222222222222222,
              "#7201a8"
             ],
             [
              0.3333333333333333,
              "#9c179e"
             ],
             [
              0.4444444444444444,
              "#bd3786"
             ],
             [
              0.5555555555555556,
              "#d8576b"
             ],
             [
              0.6666666666666666,
              "#ed7953"
             ],
             [
              0.7777777777777778,
              "#fb9f3a"
             ],
             [
              0.8888888888888888,
              "#fdca26"
             ],
             [
              1,
              "#f0f921"
             ]
            ],
            "type": "contour"
           }
          ],
          "contourcarpet": [
           {
            "colorbar": {
             "outlinewidth": 0,
             "ticks": ""
            },
            "type": "contourcarpet"
           }
          ],
          "heatmap": [
           {
            "colorbar": {
             "outlinewidth": 0,
             "ticks": ""
            },
            "colorscale": [
             [
              0,
              "#0d0887"
             ],
             [
              0.1111111111111111,
              "#46039f"
             ],
             [
              0.2222222222222222,
              "#7201a8"
             ],
             [
              0.3333333333333333,
              "#9c179e"
             ],
             [
              0.4444444444444444,
              "#bd3786"
             ],
             [
              0.5555555555555556,
              "#d8576b"
             ],
             [
              0.6666666666666666,
              "#ed7953"
             ],
             [
              0.7777777777777778,
              "#fb9f3a"
             ],
             [
              0.8888888888888888,
              "#fdca26"
             ],
             [
              1,
              "#f0f921"
             ]
            ],
            "type": "heatmap"
           }
          ],
          "heatmapgl": [
           {
            "colorbar": {
             "outlinewidth": 0,
             "ticks": ""
            },
            "colorscale": [
             [
              0,
              "#0d0887"
             ],
             [
              0.1111111111111111,
              "#46039f"
             ],
             [
              0.2222222222222222,
              "#7201a8"
             ],
             [
              0.3333333333333333,
              "#9c179e"
             ],
             [
              0.4444444444444444,
              "#bd3786"
             ],
             [
              0.5555555555555556,
              "#d8576b"
             ],
             [
              0.6666666666666666,
              "#ed7953"
             ],
             [
              0.7777777777777778,
              "#fb9f3a"
             ],
             [
              0.8888888888888888,
              "#fdca26"
             ],
             [
              1,
              "#f0f921"
             ]
            ],
            "type": "heatmapgl"
           }
          ],
          "histogram": [
           {
            "marker": {
             "pattern": {
              "fillmode": "overlay",
              "size": 10,
              "solidity": 0.2
             }
            },
            "type": "histogram"
           }
          ],
          "histogram2d": [
           {
            "colorbar": {
             "outlinewidth": 0,
             "ticks": ""
            },
            "colorscale": [
             [
              0,
              "#0d0887"
             ],
             [
              0.1111111111111111,
              "#46039f"
             ],
             [
              0.2222222222222222,
              "#7201a8"
             ],
             [
              0.3333333333333333,
              "#9c179e"
             ],
             [
              0.4444444444444444,
              "#bd3786"
             ],
             [
              0.5555555555555556,
              "#d8576b"
             ],
             [
              0.6666666666666666,
              "#ed7953"
             ],
             [
              0.7777777777777778,
              "#fb9f3a"
             ],
             [
              0.8888888888888888,
              "#fdca26"
             ],
             [
              1,
              "#f0f921"
             ]
            ],
            "type": "histogram2d"
           }
          ],
          "histogram2dcontour": [
           {
            "colorbar": {
             "outlinewidth": 0,
             "ticks": ""
            },
            "colorscale": [
             [
              0,
              "#0d0887"
             ],
             [
              0.1111111111111111,
              "#46039f"
             ],
             [
              0.2222222222222222,
              "#7201a8"
             ],
             [
              0.3333333333333333,
              "#9c179e"
             ],
             [
              0.4444444444444444,
              "#bd3786"
             ],
             [
              0.5555555555555556,
              "#d8576b"
             ],
             [
              0.6666666666666666,
              "#ed7953"
             ],
             [
              0.7777777777777778,
              "#fb9f3a"
             ],
             [
              0.8888888888888888,
              "#fdca26"
             ],
             [
              1,
              "#f0f921"
             ]
            ],
            "type": "histogram2dcontour"
           }
          ],
          "mesh3d": [
           {
            "colorbar": {
             "outlinewidth": 0,
             "ticks": ""
            },
            "type": "mesh3d"
           }
          ],
          "parcoords": [
           {
            "line": {
             "colorbar": {
              "outlinewidth": 0,
              "ticks": ""
             }
            },
            "type": "parcoords"
           }
          ],
          "pie": [
           {
            "automargin": true,
            "type": "pie"
           }
          ],
          "scatter": [
           {
            "marker": {
             "colorbar": {
              "outlinewidth": 0,
              "ticks": ""
             }
            },
            "type": "scatter"
           }
          ],
          "scatter3d": [
           {
            "line": {
             "colorbar": {
              "outlinewidth": 0,
              "ticks": ""
             }
            },
            "marker": {
             "colorbar": {
              "outlinewidth": 0,
              "ticks": ""
             }
            },
            "type": "scatter3d"
           }
          ],
          "scattercarpet": [
           {
            "marker": {
             "colorbar": {
              "outlinewidth": 0,
              "ticks": ""
             }
            },
            "type": "scattercarpet"
           }
          ],
          "scattergeo": [
           {
            "marker": {
             "colorbar": {
              "outlinewidth": 0,
              "ticks": ""
             }
            },
            "type": "scattergeo"
           }
          ],
          "scattergl": [
           {
            "marker": {
             "colorbar": {
              "outlinewidth": 0,
              "ticks": ""
             }
            },
            "type": "scattergl"
           }
          ],
          "scattermapbox": [
           {
            "marker": {
             "colorbar": {
              "outlinewidth": 0,
              "ticks": ""
             }
            },
            "type": "scattermapbox"
           }
          ],
          "scatterpolar": [
           {
            "marker": {
             "colorbar": {
              "outlinewidth": 0,
              "ticks": ""
             }
            },
            "type": "scatterpolar"
           }
          ],
          "scatterpolargl": [
           {
            "marker": {
             "colorbar": {
              "outlinewidth": 0,
              "ticks": ""
             }
            },
            "type": "scatterpolargl"
           }
          ],
          "scatterternary": [
           {
            "marker": {
             "colorbar": {
              "outlinewidth": 0,
              "ticks": ""
             }
            },
            "type": "scatterternary"
           }
          ],
          "surface": [
           {
            "colorbar": {
             "outlinewidth": 0,
             "ticks": ""
            },
            "colorscale": [
             [
              0,
              "#0d0887"
             ],
             [
              0.1111111111111111,
              "#46039f"
             ],
             [
              0.2222222222222222,
              "#7201a8"
             ],
             [
              0.3333333333333333,
              "#9c179e"
             ],
             [
              0.4444444444444444,
              "#bd3786"
             ],
             [
              0.5555555555555556,
              "#d8576b"
             ],
             [
              0.6666666666666666,
              "#ed7953"
             ],
             [
              0.7777777777777778,
              "#fb9f3a"
             ],
             [
              0.8888888888888888,
              "#fdca26"
             ],
             [
              1,
              "#f0f921"
             ]
            ],
            "type": "surface"
           }
          ],
          "table": [
           {
            "cells": {
             "fill": {
              "color": "#EBF0F8"
             },
             "line": {
              "color": "white"
             }
            },
            "header": {
             "fill": {
              "color": "#C8D4E3"
             },
             "line": {
              "color": "white"
             }
            },
            "type": "table"
           }
          ]
         },
         "layout": {
          "annotationdefaults": {
           "arrowcolor": "#2a3f5f",
           "arrowhead": 0,
           "arrowwidth": 1
          },
          "autotypenumbers": "strict",
          "coloraxis": {
           "colorbar": {
            "outlinewidth": 0,
            "ticks": ""
           }
          },
          "colorscale": {
           "diverging": [
            [
             0,
             "#8e0152"
            ],
            [
             0.1,
             "#c51b7d"
            ],
            [
             0.2,
             "#de77ae"
            ],
            [
             0.3,
             "#f1b6da"
            ],
            [
             0.4,
             "#fde0ef"
            ],
            [
             0.5,
             "#f7f7f7"
            ],
            [
             0.6,
             "#e6f5d0"
            ],
            [
             0.7,
             "#b8e186"
            ],
            [
             0.8,
             "#7fbc41"
            ],
            [
             0.9,
             "#4d9221"
            ],
            [
             1,
             "#276419"
            ]
           ],
           "sequential": [
            [
             0,
             "#0d0887"
            ],
            [
             0.1111111111111111,
             "#46039f"
            ],
            [
             0.2222222222222222,
             "#7201a8"
            ],
            [
             0.3333333333333333,
             "#9c179e"
            ],
            [
             0.4444444444444444,
             "#bd3786"
            ],
            [
             0.5555555555555556,
             "#d8576b"
            ],
            [
             0.6666666666666666,
             "#ed7953"
            ],
            [
             0.7777777777777778,
             "#fb9f3a"
            ],
            [
             0.8888888888888888,
             "#fdca26"
            ],
            [
             1,
             "#f0f921"
            ]
           ],
           "sequentialminus": [
            [
             0,
             "#0d0887"
            ],
            [
             0.1111111111111111,
             "#46039f"
            ],
            [
             0.2222222222222222,
             "#7201a8"
            ],
            [
             0.3333333333333333,
             "#9c179e"
            ],
            [
             0.4444444444444444,
             "#bd3786"
            ],
            [
             0.5555555555555556,
             "#d8576b"
            ],
            [
             0.6666666666666666,
             "#ed7953"
            ],
            [
             0.7777777777777778,
             "#fb9f3a"
            ],
            [
             0.8888888888888888,
             "#fdca26"
            ],
            [
             1,
             "#f0f921"
            ]
           ]
          },
          "colorway": [
           "#636efa",
           "#EF553B",
           "#00cc96",
           "#ab63fa",
           "#FFA15A",
           "#19d3f3",
           "#FF6692",
           "#B6E880",
           "#FF97FF",
           "#FECB52"
          ],
          "font": {
           "color": "#2a3f5f"
          },
          "geo": {
           "bgcolor": "white",
           "lakecolor": "white",
           "landcolor": "#E5ECF6",
           "showlakes": true,
           "showland": true,
           "subunitcolor": "white"
          },
          "hoverlabel": {
           "align": "left"
          },
          "hovermode": "closest",
          "mapbox": {
           "style": "light"
          },
          "paper_bgcolor": "white",
          "plot_bgcolor": "#E5ECF6",
          "polar": {
           "angularaxis": {
            "gridcolor": "white",
            "linecolor": "white",
            "ticks": ""
           },
           "bgcolor": "#E5ECF6",
           "radialaxis": {
            "gridcolor": "white",
            "linecolor": "white",
            "ticks": ""
           }
          },
          "scene": {
           "xaxis": {
            "backgroundcolor": "#E5ECF6",
            "gridcolor": "white",
            "gridwidth": 2,
            "linecolor": "white",
            "showbackground": true,
            "ticks": "",
            "zerolinecolor": "white"
           },
           "yaxis": {
            "backgroundcolor": "#E5ECF6",
            "gridcolor": "white",
            "gridwidth": 2,
            "linecolor": "white",
            "showbackground": true,
            "ticks": "",
            "zerolinecolor": "white"
           },
           "zaxis": {
            "backgroundcolor": "#E5ECF6",
            "gridcolor": "white",
            "gridwidth": 2,
            "linecolor": "white",
            "showbackground": true,
            "ticks": "",
            "zerolinecolor": "white"
           }
          },
          "shapedefaults": {
           "line": {
            "color": "#2a3f5f"
           }
          },
          "ternary": {
           "aaxis": {
            "gridcolor": "white",
            "linecolor": "white",
            "ticks": ""
           },
           "baxis": {
            "gridcolor": "white",
            "linecolor": "white",
            "ticks": ""
           },
           "bgcolor": "#E5ECF6",
           "caxis": {
            "gridcolor": "white",
            "linecolor": "white",
            "ticks": ""
           }
          },
          "title": {
           "x": 0.05
          },
          "xaxis": {
           "automargin": true,
           "gridcolor": "white",
           "linecolor": "white",
           "ticks": "",
           "title": {
            "standoff": 15
           },
           "zerolinecolor": "white",
           "zerolinewidth": 2
          },
          "yaxis": {
           "automargin": true,
           "gridcolor": "white",
           "linecolor": "white",
           "ticks": "",
           "title": {
            "standoff": 15
           },
           "zerolinecolor": "white",
           "zerolinewidth": 2
          }
         }
        },
        "title": {
         "text": "GradientBoostingRegressor Feature Importance - Zero_Count Relationship"
        },
        "width": 800,
        "xaxis": {
         "anchor": "y",
         "autorange": true,
         "domain": [
          0,
          1
         ],
         "range": [
          -88.45162708883026,
          1781.4516270888303
         ],
         "title": {
          "text": "Zero_Count"
         },
         "type": "linear"
        },
        "yaxis": {
         "anchor": "x",
         "autorange": true,
         "domain": [
          0,
          1
         ],
         "range": [
          -0.0673867050391459,
          1.0500249660031524
         ],
         "title": {
          "text": "Importance"
         },
         "type": "linear"
        }
       }
      },
      "image/png": "[encoded data removed]",
      "text/html": [
       "<div>                            <div id=\"9974e54f-8a40-4662-a6ee-4dbbeeb8b1e1\" class=\"plotly-graph-div\" style=\"height:500px; width:800px;\"></div>            <script type=\"text/javascript\">                require([\"plotly\"], function(Plotly) {                    window.PLOTLYENV=window.PLOTLYENV || {};                                    if (document.getElementById(\"9974e54f-8a40-4662-a6ee-4dbbeeb8b1e1\")) {                    Plotly.newPlot(                        \"9974e54f-8a40-4662-a6ee-4dbbeeb8b1e1\",                        [{\"customdata\":[[\"Input_Plant annual N2O emissions (lbs)\"],[\"Input_Plant total annual heat input (MMBtu)\"],[\"Input_Plant annual CH4 emissions (lbs)\"],[\"Input_Plant annual CO2 emissions (tons)\"],[\"Input_Plant annual NOx emissions (tons)\"],[\"Input_Plant nameplate capacity (MW)\"],[\"Input_Plant annual SO2 emissions (tons)\"],[\"Input_Number of generators\"]],\"hovertemplate\":\"Zero_Count=%{x}<br>Importance=%{y}<br>Feature Name=%{customdata[0]}<extra></extra>\",\"legendgroup\":\"\",\"marker\":{\"color\":\"#636efa\",\"symbol\":\"circle\"},\"mode\":\"markers\",\"name\":\"\",\"orientation\":\"v\",\"showlegend\":false,\"type\":\"scatter\",\"x\":[16,1196,1677,982,721,1153,1219,1065],\"xaxis\":\"x\",\"y\":[0.982514677544347,0.005399791339295378,0.005132348827105039,0.004288402486828444,0.0012824035002787745,0.001055869508577512,0.00020292337390838508,0.0001235834196596236],\"yaxis\":\"y\"}],                        {\"autosize\":false,\"height\":500,\"legend\":{\"tracegroupgap\":0},\"margin\":{\"t\":60},\"template\":{\"data\":{\"bar\":[{\"error_x\":{\"color\":\"#2a3f5f\"},\"error_y\":{\"color\":\"#2a3f5f\"},\"marker\":{\"line\":{\"color\":\"#E5ECF6\",\"width\":0.5},\"pattern\":{\"fillmode\":\"overlay\",\"size\":10,\"solidity\":0.2}},\"type\":\"bar\"}],\"barpolar\":[{\"marker\":{\"line\":{\"color\":\"#E5ECF6\",\"width\":0.5},\"pattern\":{\"fillmode\":\"overlay\",\"size\":10,\"solidity\":0.2}},\"type\":\"barpolar\"}],\"carpet\":[{\"aaxis\":{\"endlinecolor\":\"#2a3f5f\",\"gridcolor\":\"white\",\"linecolor\":\"white\",\"minorgridcolor\":\"white\",\"startlinecolor\":\"#2a3f5f\"},\"baxis\":{\"endlinecolor\":\"#2a3f5f\",\"gridcolor\":\"white\",\"linecolor\":\"white\",\"minorgridcolor\":\"white\",\"startlinecolor\":\"#2a3f5f\"},\"type\":\"carpet\"}],\"choropleth\":[{\"colorbar\":{\"outlinewidth\":0,\"ticks\":\"\"},\"type\":\"choropleth\"}],\"contour\":[{\"colorbar\":{\"outlinewidth\":0,\"ticks\":\"\"},\"colorscale\":[[0.0,\"#0d0887\"],[0.1111111111111111,\"#46039f\"],[0.2222222222222222,\"#7201a8\"],[0.3333333333333333,\"#9c179e\"],[0.4444444444444444,\"#bd3786\"],[0.5555555555555556,\"#d8576b\"],[0.6666666666666666,\"#ed7953\"],[0.7777777777777778,\"#fb9f3a\"],[0.8888888888888888,\"#fdca26\"],[1.0,\"#f0f921\"]],\"type\":\"contour\"}],\"contourcarpet\":[{\"colorbar\":{\"outlinewidth\":0,\"ticks\":\"\"},\"type\":\"contourcarpet\"}],\"heatmap\":[{\"colorbar\":{\"outlinewidth\":0,\"ticks\":\"\"},\"colorscale\":[[0.0,\"#0d0887\"],[0.1111111111111111,\"#46039f\"],[0.2222222222222222,\"#7201a8\"],[0.3333333333333333,\"#9c179e\"],[0.4444444444444444,\"#bd3786\"],[0.5555555555555556,\"#d8576b\"],[0.6666666666666666,\"#ed7953\"],[0.7777777777777778,\"#fb9f3a\"],[0.8888888888888888,\"#fdca26\"],[1.0,\"#f0f921\"]],\"type\":\"heatmap\"}],\"heatmapgl\":[{\"colorbar\":{\"outlinewidth\":0,\"ticks\":\"\"},\"colorscale\":[[0.0,\"#0d0887\"],[0.1111111111111111,\"#46039f\"],[0.2222222222222222,\"#7201a8\"],[0.3333333333333333,\"#9c179e\"],[0.4444444444444444,\"#bd3786\"],[0.5555555555555556,\"#d8576b\"],[0.6666666666666666,\"#ed7953\"],[0.7777777777777778,\"#fb9f3a\"],[0.8888888888888888,\"#fdca26\"],[1.0,\"#f0f921\"]],\"type\":\"heatmapgl\"}],\"histogram\":[{\"marker\":{\"pattern\":{\"fillmode\":\"overlay\",\"size\":10,\"solidity\":0.2}},\"type\":\"histogram\"}],\"histogram2d\":[{\"colorbar\":{\"outlinewidth\":0,\"ticks\":\"\"},\"colorscale\":[[0.0,\"#0d0887\"],[0.1111111111111111,\"#46039f\"],[0.2222222222222222,\"#7201a8\"],[0.3333333333333333,\"#9c179e\"],[0.4444444444444444,\"#bd3786\"],[0.5555555555555556,\"#d8576b\"],[0.6666666666666666,\"#ed7953\"],[0.7777777777777778,\"#fb9f3a\"],[0.8888888888888888,\"#fdca26\"],[1.0,\"#f0f921\"]],\"type\":\"histogram2d\"}],\"histogram2dcontour\":[{\"colorbar\":{\"outlinewidth\":0,\"ticks\":\"\"},\"colorscale\":[[0.0,\"#0d0887\"],[0.1111111111111111,\"#46039f\"],[0.2222222222222222,\"#7201a8\"],[0.3333333333333333,\"#9c179e\"],[0.4444444444444444,\"#bd3786\"],[0.5555555555555556,\"#d8576b\"],[0.6666666666666666,\"#ed7953\"],[0.7777777777777778,\"#fb9f3a\"],[0.8888888888888888,\"#fdca26\"],[1.0,\"#f0f921\"]],\"type\":\"histogram2dcontour\"}],\"mesh3d\":[{\"colorbar\":{\"outlinewidth\":0,\"ticks\":\"\"},\"type\":\"mesh3d\"}],\"parcoords\":[{\"line\":{\"colorbar\":{\"outlinewidth\":0,\"ticks\":\"\"}},\"type\":\"parcoords\"}],\"pie\":[{\"automargin\":true,\"type\":\"pie\"}],\"scatter\":[{\"marker\":{\"colorbar\":{\"outlinewidth\":0,\"ticks\":\"\"}},\"type\":\"scatter\"}],\"scatter3d\":[{\"line\":{\"colorbar\":{\"outlinewidth\":0,\"ticks\":\"\"}},\"marker\":{\"colorbar\":{\"outlinewidth\":0,\"ticks\":\"\"}},\"type\":\"scatter3d\"}],\"scattercarpet\":[{\"marker\":{\"colorbar\":{\"outlinewidth\":0,\"ticks\":\"\"}},\"type\":\"scattercarpet\"}],\"scattergeo\":[{\"marker\":{\"colorbar\":{\"outlinewidth\":0,\"ticks\":\"\"}},\"type\":\"scattergeo\"}],\"scattergl\":[{\"marker\":{\"colorbar\":{\"outlinewidth\":0,\"ticks\":\"\"}},\"type\":\"scattergl\"}],\"scattermapbox\":[{\"marker\":{\"colorbar\":{\"outlinewidth\":0,\"ticks\":\"\"}},\"type\":\"scattermapbox\"}],\"scatterpolar\":[{\"marker\":{\"colorbar\":{\"outlinewidth\":0,\"ticks\":\"\"}},\"type\":\"scatterpolar\"}],\"scatterpolargl\":[{\"marker\":{\"colorbar\":{\"outlinewidth\":0,\"ticks\":\"\"}},\"type\":\"scatterpolargl\"}],\"scatterternary\":[{\"marker\":{\"colorbar\":{\"outlinewidth\":0,\"ticks\":\"\"}},\"type\":\"scatterternary\"}],\"surface\":[{\"colorbar\":{\"outlinewidth\":0,\"ticks\":\"\"},\"colorscale\":[[0.0,\"#0d0887\"],[0.1111111111111111,\"#46039f\"],[0.2222222222222222,\"#7201a8\"],[0.3333333333333333,\"#9c179e\"],[0.4444444444444444,\"#bd3786\"],[0.5555555555555556,\"#d8576b\"],[0.6666666666666666,\"#ed7953\"],[0.7777777777777778,\"#fb9f3a\"],[0.8888888888888888,\"#fdca26\"],[1.0,\"#f0f921\"]],\"type\":\"surface\"}],\"table\":[{\"cells\":{\"fill\":{\"color\":\"#EBF0F8\"},\"line\":{\"color\":\"white\"}},\"header\":{\"fill\":{\"color\":\"#C8D4E3\"},\"line\":{\"color\":\"white\"}},\"type\":\"table\"}]},\"layout\":{\"annotationdefaults\":{\"arrowcolor\":\"#2a3f5f\",\"arrowhead\":0,\"arrowwidth\":1},\"autotypenumbers\":\"strict\",\"coloraxis\":{\"colorbar\":{\"outlinewidth\":0,\"ticks\":\"\"}},\"colorscale\":{\"diverging\":[[0,\"#8e0152\"],[0.1,\"#c51b7d\"],[0.2,\"#de77ae\"],[0.3,\"#f1b6da\"],[0.4,\"#fde0ef\"],[0.5,\"#f7f7f7\"],[0.6,\"#e6f5d0\"],[0.7,\"#b8e186\"],[0.8,\"#7fbc41\"],[0.9,\"#4d9221\"],[1,\"#276419\"]],\"sequential\":[[0.0,\"#0d0887\"],[0.1111111111111111,\"#46039f\"],[0.2222222222222222,\"#7201a8\"],[0.3333333333333333,\"#9c179e\"],[0.4444444444444444,\"#bd3786\"],[0.5555555555555556,\"#d8576b\"],[0.6666666666666666,\"#ed7953\"],[0.7777777777777778,\"#fb9f3a\"],[0.8888888888888888,\"#fdca26\"],[1.0,\"#f0f921\"]],\"sequentialminus\":[[0.0,\"#0d0887\"],[0.1111111111111111,\"#46039f\"],[0.2222222222222222,\"#7201a8\"],[0.3333333333333333,\"#9c179e\"],[0.4444444444444444,\"#bd3786\"],[0.5555555555555556,\"#d8576b\"],[0.6666666666666666,\"#ed7953\"],[0.7777777777777778,\"#fb9f3a\"],[0.8888888888888888,\"#fdca26\"],[1.0,\"#f0f921\"]]},\"colorway\":[\"#636efa\",\"#EF553B\",\"#00cc96\",\"#ab63fa\",\"#FFA15A\",\"#19d3f3\",\"#FF6692\",\"#B6E880\",\"#FF97FF\",\"#FECB52\"],\"font\":{\"color\":\"#2a3f5f\"},\"geo\":{\"bgcolor\":\"white\",\"lakecolor\":\"white\",\"landcolor\":\"#E5ECF6\",\"showlakes\":true,\"showland\":true,\"subunitcolor\":\"white\"},\"hoverlabel\":{\"align\":\"left\"},\"hovermode\":\"closest\",\"mapbox\":{\"style\":\"light\"},\"paper_bgcolor\":\"white\",\"plot_bgcolor\":\"#E5ECF6\",\"polar\":{\"angularaxis\":{\"gridcolor\":\"white\",\"linecolor\":\"white\",\"ticks\":\"\"},\"bgcolor\":\"#E5ECF6\",\"radialaxis\":{\"gridcolor\":\"white\",\"linecolor\":\"white\",\"ticks\":\"\"}},\"scene\":{\"xaxis\":{\"backgroundcolor\":\"#E5ECF6\",\"gridcolor\":\"white\",\"gridwidth\":2,\"linecolor\":\"white\",\"showbackground\":true,\"ticks\":\"\",\"zerolinecolor\":\"white\"},\"yaxis\":{\"backgroundcolor\":\"#E5ECF6\",\"gridcolor\":\"white\",\"gridwidth\":2,\"linecolor\":\"white\",\"showbackground\":true,\"ticks\":\"\",\"zerolinecolor\":\"white\"},\"zaxis\":{\"backgroundcolor\":\"#E5ECF6\",\"gridcolor\":\"white\",\"gridwidth\":2,\"linecolor\":\"white\",\"showbackground\":true,\"ticks\":\"\",\"zerolinecolor\":\"white\"}},\"shapedefaults\":{\"line\":{\"color\":\"#2a3f5f\"}},\"ternary\":{\"aaxis\":{\"gridcolor\":\"white\",\"linecolor\":\"white\",\"ticks\":\"\"},\"baxis\":{\"gridcolor\":\"white\",\"linecolor\":\"white\",\"ticks\":\"\"},\"bgcolor\":\"#E5ECF6\",\"caxis\":{\"gridcolor\":\"white\",\"linecolor\":\"white\",\"ticks\":\"\"}},\"title\":{\"x\":0.05},\"xaxis\":{\"automargin\":true,\"gridcolor\":\"white\",\"linecolor\":\"white\",\"ticks\":\"\",\"title\":{\"standoff\":15},\"zerolinecolor\":\"white\",\"zerolinewidth\":2},\"yaxis\":{\"automargin\":true,\"gridcolor\":\"white\",\"linecolor\":\"white\",\"ticks\":\"\",\"title\":{\"standoff\":15},\"zerolinecolor\":\"white\",\"zerolinewidth\":2}}},\"title\":{\"text\":\"GradientBoostingRegressor Feature Importance - Zero_Count Relationship\"},\"width\":800,\"xaxis\":{\"anchor\":\"y\",\"domain\":[0.0,1.0],\"title\":{\"text\":\"Zero_Count\"}},\"yaxis\":{\"anchor\":\"x\",\"domain\":[0.0,1.0],\"title\":{\"text\":\"Importance\"}}},                        {\"responsive\": true}                    ).then(function(){\n",
       "                            \n",
       "var gd = document.getElementById('9974e54f-8a40-4662-a6ee-4dbbeeb8b1e1');\n",
       "var x = new MutationObserver(function (mutations, observer) {{\n",
       "        var display = window.getComputedStyle(gd).display;\n",
       "        if (!display || display === 'none') {{\n",
       "            console.log([gd, 'removed!']);\n",
       "            Plotly.purge(gd);\n",
       "            observer.disconnect();\n",
       "        }}\n",
       "}});\n",
       "\n",
       "// Listen for the removal of the full notebook cells\n",
       "var notebookContainer = gd.closest('#notebook-container');\n",
       "if (notebookContainer) {{\n",
       "    x.observe(notebookContainer, {childList: true});\n",
       "}}\n",
       "\n",
       "// Listen for the clearing of the current output cell\n",
       "var outputEl = gd.closest('.output');\n",
       "if (outputEl) {{\n",
       "    x.observe(outputEl, {childList: true});\n",
       "}}\n",
       "\n",
       "                        })                };                });            </script>        </div>"
      ]
     },
     "metadata": {},
     "output_type": "display_data"
    }
   ],
   "source": [
    "fig = px.scatter(df_merged[~df_merged[\"Feature Name\"].str.contains(\"Output\")], x=\"Zero_Count\", y=\"Importance\",\n",
    "                hover_data=[\"Feature Name\"])\n",
    "\n",
    "fig.update_layout(\n",
    "    autosize=False,\n",
    "    width=800,\n",
    "    height=500,\n",
    "    title_text=f\"GradientBoostingRegressor Feature Importance - Zero_Count Relationship\",\n",
    ")\n",
    "\n",
    "fig.show()"
   ]
  },
  {
   "cell_type": "code",
   "execution_count": 37,
   "id": "8659da73-6b03-410b-a2f4-e8ed9e49662f",
   "metadata": {},
   "outputs": [
    {
     "data": {
      "image/png": "[encoded data removed]",
      "text/plain": [
       "<Figure size 1296x864 with 1 Axes>"
      ]
     },
     "metadata": {
      "needs_background": "light"
     },
     "output_type": "display_data"
    }
   ],
   "source": [
    "plt.figure(figsize=(18,12))\n",
    "sns.heatmap(df_weights.eq(0).transpose(),\n",
    "        cmap=\"YlGnBu\",\n",
    "        cbar=False,\n",
    "        cbar_kws={'label': 'Zero Values'});"
   ]
  },
  {
   "cell_type": "code",
   "execution_count": 38,
   "id": "935e1c37-b012-4a4d-8a6b-99347f1fcb1f",
   "metadata": {},
   "outputs": [
    {
     "data": {
      "text/plain": [
       "[(0,\n",
       "  'gradientboostingregressor',\n",
       "  ['Input_Plant annual N2O emissions (lbs)',\n",
       "   'Input_Plant total annual heat input (MMBtu)',\n",
       "   'Input_Plant annual CH4 emissions (lbs)',\n",
       "   'Input_Plant annual CO2 emissions (tons)',\n",
       "   'Input_Plant annual NOx emissions (tons)',\n",
       "   'Input_Plant nameplate capacity (MW)',\n",
       "   'Input_Plant annual SO2 emissions (tons)',\n",
       "   'Input_Number of generators'],\n",
       "  {'r2': 0.9771663596300371,\n",
       "   'neg_root_mean_squared_error': -94.53945887235345})]"
      ]
     },
     "execution_count": 38,
     "metadata": {},
     "output_type": "execute_result"
    }
   ],
   "source": [
    "results "
   ]
  },
  {
   "cell_type": "code",
   "execution_count": 39,
   "id": "bb0ed408-1bf8-4562-99e4-ab532b39960c",
   "metadata": {},
   "outputs": [
    {
     "name": "stdout",
     "output_type": "stream",
     "text": [
      "Restricted license - for non-production use only - expires 2023-10-25\n"
     ]
    },
    {
     "name": "stderr",
     "output_type": "stream",
     "text": [
      "Restricted license - for non-production use only - expires 2023-10-25\n"
     ]
    },
    {
     "name": "stdout",
     "output_type": "stream",
     "text": [
      "100.0\n",
      "Solution file saved outputfile\n"
     ]
    }
   ],
   "source": [
    "deasolver(inputfile=\"Data/RealData/eGrid/recent/egrid2020_data_copy_1.xlsx\", folder = \"Data/RealData/eGrid/recent/\", out_suffix1=\"_Sol_1\", input_imp = results[0])"
   ]
  },
  {
   "cell_type": "code",
   "execution_count": 40,
   "id": "0f05d0f8-5a46-4c88-ac98-17af9e2ea21b",
   "metadata": {},
   "outputs": [
    {
     "data": {
      "text/html": [
       "<div><div id=0a71e215-d8ae-41bf-9ed4-90e1377f0e9d style=\"display:none; background-color:#9D6CFF; color:white; width:200px; height:30px; padding-left:5px; border-radius:4px; flex-direction:row; justify-content:space-around; align-items:center;\" onmouseover=\"this.style.backgroundColor='#BA9BF8'\" onmouseout=\"this.style.backgroundColor='#9D6CFF'\" onclick=\"window.commands?.execute('create-mitosheet-from-dataframe-output');\">See Full Dataframe in Mito</div> <script> if (window.commands.hasCommand('create-mitosheet-from-dataframe-output')) document.getElementById('0a71e215-d8ae-41bf-9ed4-90e1377f0e9d').style.display = 'flex' </script> <table border=\"1\" class=\"dataframe\">\n",
       "  <thead>\n",
       "    <tr style=\"text-align: right;\">\n",
       "      <th></th>\n",
       "      <th>Weight_Input_Number of generators</th>\n",
       "      <th>Weight_Input_Plant annual CH4 emissions (lbs)</th>\n",
       "      <th>Weight_Input_Plant annual CO2 emissions (tons)</th>\n",
       "      <th>Weight_Input_Plant annual N2O emissions (lbs)</th>\n",
       "      <th>Weight_Input_Plant annual NOx emissions (tons)</th>\n",
       "      <th>Weight_Input_Plant annual SO2 emissions (tons)</th>\n",
       "      <th>Weight_Input_Plant nameplate capacity (MW)</th>\n",
       "      <th>Weight_Input_Plant total annual heat input (MMBtu)</th>\n",
       "      <th>Weight_Output_Plant annual net generation (MWh)</th>\n",
       "    </tr>\n",
       "  </thead>\n",
       "  <tbody>\n",
       "    <tr>\n",
       "      <th>DMU 0001</th>\n",
       "      <td>0.000003</td>\n",
       "      <td>2.930752e-06</td>\n",
       "      <td>2.930752e-06</td>\n",
       "      <td>0.003678</td>\n",
       "      <td>2.930752e-06</td>\n",
       "      <td>0.000003</td>\n",
       "      <td>0.000003</td>\n",
       "      <td>6.166599e-05</td>\n",
       "      <td>0.032120</td>\n",
       "    </tr>\n",
       "    <tr>\n",
       "      <th>DMU 0002</th>\n",
       "      <td>0.000000</td>\n",
       "      <td>1.364793e-07</td>\n",
       "      <td>1.364793e-07</td>\n",
       "      <td>0.003748</td>\n",
       "      <td>1.364793e-07</td>\n",
       "      <td>0.000000</td>\n",
       "      <td>0.000000</td>\n",
       "      <td>1.364793e-07</td>\n",
       "      <td>0.008496</td>\n",
       "    </tr>\n",
       "    <tr>\n",
       "      <th>DMU 0003</th>\n",
       "      <td>0.000002</td>\n",
       "      <td>2.051931e-06</td>\n",
       "      <td>2.051931e-06</td>\n",
       "      <td>0.002575</td>\n",
       "      <td>2.051931e-06</td>\n",
       "      <td>0.000002</td>\n",
       "      <td>0.000002</td>\n",
       "      <td>4.317471e-05</td>\n",
       "      <td>0.022489</td>\n",
       "    </tr>\n",
       "    <tr>\n",
       "      <th>DMU 0004</th>\n",
       "      <td>0.000001</td>\n",
       "      <td>1.276927e-06</td>\n",
       "      <td>1.276927e-06</td>\n",
       "      <td>0.001602</td>\n",
       "      <td>1.276927e-06</td>\n",
       "      <td>0.000001</td>\n",
       "      <td>0.000001</td>\n",
       "      <td>2.686783e-05</td>\n",
       "      <td>0.013995</td>\n",
       "    </tr>\n",
       "    <tr>\n",
       "      <th>DMU 0005</th>\n",
       "      <td>0.000006</td>\n",
       "      <td>6.419392e-06</td>\n",
       "      <td>6.419392e-06</td>\n",
       "      <td>0.008055</td>\n",
       "      <td>6.419392e-06</td>\n",
       "      <td>0.000006</td>\n",
       "      <td>0.000006</td>\n",
       "      <td>1.350705e-04</td>\n",
       "      <td>0.070355</td>\n",
       "    </tr>\n",
       "    <tr>\n",
       "      <th>...</th>\n",
       "      <td>...</td>\n",
       "      <td>...</td>\n",
       "      <td>...</td>\n",
       "      <td>...</td>\n",
       "      <td>...</td>\n",
       "      <td>...</td>\n",
       "      <td>...</td>\n",
       "      <td>...</td>\n",
       "      <td>...</td>\n",
       "    </tr>\n",
       "    <tr>\n",
       "      <th>DMU 1729</th>\n",
       "      <td>0.000000</td>\n",
       "      <td>1.466597e-06</td>\n",
       "      <td>1.466597e-06</td>\n",
       "      <td>0.040274</td>\n",
       "      <td>1.466597e-06</td>\n",
       "      <td>0.000000</td>\n",
       "      <td>0.000000</td>\n",
       "      <td>1.466597e-06</td>\n",
       "      <td>0.091294</td>\n",
       "    </tr>\n",
       "    <tr>\n",
       "      <th>DMU 1730</th>\n",
       "      <td>0.000025</td>\n",
       "      <td>2.539036e-05</td>\n",
       "      <td>2.539036e-05</td>\n",
       "      <td>0.031861</td>\n",
       "      <td>2.539036e-05</td>\n",
       "      <td>0.000025</td>\n",
       "      <td>0.000025</td>\n",
       "      <td>5.342390e-04</td>\n",
       "      <td>0.278271</td>\n",
       "    </tr>\n",
       "    <tr>\n",
       "      <th>DMU 1731</th>\n",
       "      <td>0.000000</td>\n",
       "      <td>9.507764e-08</td>\n",
       "      <td>9.507764e-08</td>\n",
       "      <td>0.002611</td>\n",
       "      <td>9.507764e-08</td>\n",
       "      <td>0.000000</td>\n",
       "      <td>0.000000</td>\n",
       "      <td>9.507764e-08</td>\n",
       "      <td>0.005918</td>\n",
       "    </tr>\n",
       "    <tr>\n",
       "      <th>DMU 1732</th>\n",
       "      <td>0.000026</td>\n",
       "      <td>2.610289e-05</td>\n",
       "      <td>2.610289e-05</td>\n",
       "      <td>0.032755</td>\n",
       "      <td>2.610289e-05</td>\n",
       "      <td>0.000026</td>\n",
       "      <td>0.000026</td>\n",
       "      <td>5.492312e-04</td>\n",
       "      <td>0.286080</td>\n",
       "    </tr>\n",
       "    <tr>\n",
       "      <th>DMU 1733</th>\n",
       "      <td>0.000000</td>\n",
       "      <td>2.355173e-07</td>\n",
       "      <td>2.355173e-07</td>\n",
       "      <td>0.006468</td>\n",
       "      <td>2.355173e-07</td>\n",
       "      <td>0.000000</td>\n",
       "      <td>0.000000</td>\n",
       "      <td>2.355173e-07</td>\n",
       "      <td>0.014661</td>\n",
       "    </tr>\n",
       "  </tbody>\n",
       "</table></div>"
      ],
      "text/plain": [
       "          Weight_Input_Number of generators  \\\n",
       "DMU 0001                           0.000003   \n",
       "DMU 0002                           0.000000   \n",
       "DMU 0003                           0.000002   \n",
       "DMU 0004                           0.000001   \n",
       "DMU 0005                           0.000006   \n",
       "...                                     ...   \n",
       "DMU 1729                           0.000000   \n",
       "DMU 1730                           0.000025   \n",
       "DMU 1731                           0.000000   \n",
       "DMU 1732                           0.000026   \n",
       "DMU 1733                           0.000000   \n",
       "\n",
       "          Weight_Input_Plant annual CH4 emissions (lbs)  \\\n",
       "DMU 0001                                   2.930752e-06   \n",
       "DMU 0002                                   1.364793e-07   \n",
       "DMU 0003                                   2.051931e-06   \n",
       "DMU 0004                                   1.276927e-06   \n",
       "DMU 0005                                   6.419392e-06   \n",
       "...                                                 ...   \n",
       "DMU 1729                                   1.466597e-06   \n",
       "DMU 1730                                   2.539036e-05   \n",
       "DMU 1731                                   9.507764e-08   \n",
       "DMU 1732                                   2.610289e-05   \n",
       "DMU 1733                                   2.355173e-07   \n",
       "\n",
       "          Weight_Input_Plant annual CO2 emissions (tons)  \\\n",
       "DMU 0001                                    2.930752e-06   \n",
       "DMU 0002                                    1.364793e-07   \n",
       "DMU 0003                                    2.051931e-06   \n",
       "DMU 0004                                    1.276927e-06   \n",
       "DMU 0005                                    6.419392e-06   \n",
       "...                                                  ...   \n",
       "DMU 1729                                    1.466597e-06   \n",
       "DMU 1730                                    2.539036e-05   \n",
       "DMU 1731                                    9.507764e-08   \n",
       "DMU 1732                                    2.610289e-05   \n",
       "DMU 1733                                    2.355173e-07   \n",
       "\n",
       "          Weight_Input_Plant annual N2O emissions (lbs)  \\\n",
       "DMU 0001                                       0.003678   \n",
       "DMU 0002                                       0.003748   \n",
       "DMU 0003                                       0.002575   \n",
       "DMU 0004                                       0.001602   \n",
       "DMU 0005                                       0.008055   \n",
       "...                                                 ...   \n",
       "DMU 1729                                       0.040274   \n",
       "DMU 1730                                       0.031861   \n",
       "DMU 1731                                       0.002611   \n",
       "DMU 1732                                       0.032755   \n",
       "DMU 1733                                       0.006468   \n",
       "\n",
       "          Weight_Input_Plant annual NOx emissions (tons)  \\\n",
       "DMU 0001                                    2.930752e-06   \n",
       "DMU 0002                                    1.364793e-07   \n",
       "DMU 0003                                    2.051931e-06   \n",
       "DMU 0004                                    1.276927e-06   \n",
       "DMU 0005                                    6.419392e-06   \n",
       "...                                                  ...   \n",
       "DMU 1729                                    1.466597e-06   \n",
       "DMU 1730                                    2.539036e-05   \n",
       "DMU 1731                                    9.507764e-08   \n",
       "DMU 1732                                    2.610289e-05   \n",
       "DMU 1733                                    2.355173e-07   \n",
       "\n",
       "          Weight_Input_Plant annual SO2 emissions (tons)  \\\n",
       "DMU 0001                                        0.000003   \n",
       "DMU 0002                                        0.000000   \n",
       "DMU 0003                                        0.000002   \n",
       "DMU 0004                                        0.000001   \n",
       "DMU 0005                                        0.000006   \n",
       "...                                                  ...   \n",
       "DMU 1729                                        0.000000   \n",
       "DMU 1730                                        0.000025   \n",
       "DMU 1731                                        0.000000   \n",
       "DMU 1732                                        0.000026   \n",
       "DMU 1733                                        0.000000   \n",
       "\n",
       "          Weight_Input_Plant nameplate capacity (MW)  \\\n",
       "DMU 0001                                    0.000003   \n",
       "DMU 0002                                    0.000000   \n",
       "DMU 0003                                    0.000002   \n",
       "DMU 0004                                    0.000001   \n",
       "DMU 0005                                    0.000006   \n",
       "...                                              ...   \n",
       "DMU 1729                                    0.000000   \n",
       "DMU 1730                                    0.000025   \n",
       "DMU 1731                                    0.000000   \n",
       "DMU 1732                                    0.000026   \n",
       "DMU 1733                                    0.000000   \n",
       "\n",
       "          Weight_Input_Plant total annual heat input (MMBtu)  \\\n",
       "DMU 0001                                       6.166599e-05    \n",
       "DMU 0002                                       1.364793e-07    \n",
       "DMU 0003                                       4.317471e-05    \n",
       "DMU 0004                                       2.686783e-05    \n",
       "DMU 0005                                       1.350705e-04    \n",
       "...                                                     ...    \n",
       "DMU 1729                                       1.466597e-06    \n",
       "DMU 1730                                       5.342390e-04    \n",
       "DMU 1731                                       9.507764e-08    \n",
       "DMU 1732                                       5.492312e-04    \n",
       "DMU 1733                                       2.355173e-07    \n",
       "\n",
       "          Weight_Output_Plant annual net generation (MWh)  \n",
       "DMU 0001                                         0.032120  \n",
       "DMU 0002                                         0.008496  \n",
       "DMU 0003                                         0.022489  \n",
       "DMU 0004                                         0.013995  \n",
       "DMU 0005                                         0.070355  \n",
       "...                                                   ...  \n",
       "DMU 1729                                         0.091294  \n",
       "DMU 1730                                         0.278271  \n",
       "DMU 1731                                         0.005918  \n",
       "DMU 1732                                         0.286080  \n",
       "DMU 1733                                         0.014661  \n",
       "\n",
       "[1733 rows x 9 columns]"
      ]
     },
     "execution_count": 40,
     "metadata": {},
     "output_type": "execute_result"
    }
   ],
   "source": [
    "df_weights_1 = pd.read_excel(\"Data/RealData/eGrid/recent/egrid2020_data_copy_1_Sol_1.xlsx\", index_col = 0).iloc[:, 1:]\n",
    "df_weights_1"
   ]
  },
  {
   "cell_type": "code",
   "execution_count": 41,
   "id": "16173e50-9cb4-440c-b1e8-30ac48c95e55",
   "metadata": {},
   "outputs": [],
   "source": [
    "df_es = pd.read_excel(\"Data/RealData/eGrid/recent/egrid2020_data_copy_1_Sol.xlsx\", index_col = 0).iloc[:, :1]\n",
    "df_es_1 = pd.read_excel(\"Data/RealData/eGrid/recent/egrid2020_data_copy_1_Sol_1.xlsx\", index_col = 0).iloc[:, :1]"
   ]
  },
  {
   "cell_type": "code",
   "execution_count": 42,
   "id": "4a138562-5671-4535-a241-c08785c38921",
   "metadata": {},
   "outputs": [
    {
     "name": "stdout",
     "output_type": "stream",
     "text": [
      "count of efficient units : 22\n"
     ]
    }
   ],
   "source": [
    "es = (df_es.Efficiency_Scores==1).sum()\n",
    "print(f\"count of efficient units : {es}\")"
   ]
  },
  {
   "cell_type": "code",
   "execution_count": 43,
   "id": "e75ac299-ea2e-4c79-aa44-7445ab658f44",
   "metadata": {},
   "outputs": [
    {
     "name": "stdout",
     "output_type": "stream",
     "text": [
      "count of efficient units : 2\n"
     ]
    }
   ],
   "source": [
    "es_1 = (df_es_1.Efficiency_Scores==1).sum()\n",
    "print(f\"count of efficient units : {es_1}\")"
   ]
  },
  {
   "cell_type": "code",
   "execution_count": 44,
   "id": "b94a7a06-cc54-4308-ae26-eb7f07157e07",
   "metadata": {},
   "outputs": [
    {
     "data": {
      "text/plain": [
       "Weight_Input_Number of generators                     1065\n",
       "Weight_Input_Plant annual CH4 emissions (lbs)         1677\n",
       "Weight_Input_Plant annual CO2 emissions (tons)         982\n",
       "Weight_Input_Plant annual N2O emissions (lbs)           16\n",
       "Weight_Input_Plant annual NOx emissions (tons)         721\n",
       "Weight_Input_Plant annual SO2 emissions (tons)        1219\n",
       "Weight_Input_Plant nameplate capacity (MW)            1153\n",
       "Weight_Input_Plant total annual heat input (MMBtu)    1196\n",
       "Weight_Output_Plant annual net generation (MWh)          0\n",
       "dtype: int64"
      ]
     },
     "execution_count": 44,
     "metadata": {},
     "output_type": "execute_result"
    }
   ],
   "source": [
    "df_zero =(df_weights==0).sum()\n",
    "df_zero"
   ]
  },
  {
   "cell_type": "code",
   "execution_count": 45,
   "id": "7728a6ca-2df9-4bcc-81a2-3cbcf3d8910f",
   "metadata": {},
   "outputs": [
    {
     "data": {
      "text/plain": [
       "Weight_Input_Number of generators                     823\n",
       "Weight_Input_Plant annual CH4 emissions (lbs)         526\n",
       "Weight_Input_Plant annual CO2 emissions (tons)        523\n",
       "Weight_Input_Plant annual N2O emissions (lbs)           0\n",
       "Weight_Input_Plant annual NOx emissions (tons)         54\n",
       "Weight_Input_Plant annual SO2 emissions (tons)        807\n",
       "Weight_Input_Plant nameplate capacity (MW)            654\n",
       "Weight_Input_Plant total annual heat input (MMBtu)    117\n",
       "Weight_Output_Plant annual net generation (MWh)         0\n",
       "dtype: int64"
      ]
     },
     "execution_count": 45,
     "metadata": {},
     "output_type": "execute_result"
    }
   ],
   "source": [
    "df_zero =(df_weights_1==0).sum()\n",
    "df_zero"
   ]
  },
  {
   "cell_type": "code",
   "execution_count": 46,
   "id": "143ed942-2db1-4948-bfdd-b40077e2a94f",
   "metadata": {},
   "outputs": [
    {
     "data": {
      "text/html": [
       "<div><div id=d2af53d0-8483-47d4-9421-aa852bb187ab style=\"display:none; background-color:#9D6CFF; color:white; width:200px; height:30px; padding-left:5px; border-radius:4px; flex-direction:row; justify-content:space-around; align-items:center;\" onmouseover=\"this.style.backgroundColor='#BA9BF8'\" onmouseout=\"this.style.backgroundColor='#9D6CFF'\" onclick=\"window.commands?.execute('create-mitosheet-from-dataframe-output');\">See Full Dataframe in Mito</div> <script> if (window.commands.hasCommand('create-mitosheet-from-dataframe-output')) document.getElementById('d2af53d0-8483-47d4-9421-aa852bb187ab').style.display = 'flex' </script> <table border=\"1\" class=\"dataframe\">\n",
       "  <thead>\n",
       "    <tr style=\"text-align: right;\">\n",
       "      <th></th>\n",
       "      <th>Efficiency_Scores</th>\n",
       "    </tr>\n",
       "  </thead>\n",
       "  <tbody>\n",
       "    <tr>\n",
       "      <th>DMU 0001</th>\n",
       "      <td>0.721272</td>\n",
       "    </tr>\n",
       "    <tr>\n",
       "      <th>DMU 0002</th>\n",
       "      <td>0.251382</td>\n",
       "    </tr>\n",
       "    <tr>\n",
       "      <th>DMU 0003</th>\n",
       "      <td>0.739827</td>\n",
       "    </tr>\n",
       "    <tr>\n",
       "      <th>DMU 0004</th>\n",
       "      <td>0.792566</td>\n",
       "    </tr>\n",
       "    <tr>\n",
       "      <th>DMU 0005</th>\n",
       "      <td>0.544606</td>\n",
       "    </tr>\n",
       "    <tr>\n",
       "      <th>...</th>\n",
       "      <td>...</td>\n",
       "    </tr>\n",
       "    <tr>\n",
       "      <th>DMU 1729</th>\n",
       "      <td>0.231875</td>\n",
       "    </tr>\n",
       "    <tr>\n",
       "      <th>DMU 1730</th>\n",
       "      <td>0.542035</td>\n",
       "    </tr>\n",
       "    <tr>\n",
       "      <th>DMU 1731</th>\n",
       "      <td>0.357247</td>\n",
       "    </tr>\n",
       "    <tr>\n",
       "      <th>DMU 1732</th>\n",
       "      <td>0.563285</td>\n",
       "    </tr>\n",
       "    <tr>\n",
       "      <th>DMU 1733</th>\n",
       "      <td>0.225086</td>\n",
       "    </tr>\n",
       "  </tbody>\n",
       "</table></div>"
      ],
      "text/plain": [
       "          Efficiency_Scores\n",
       "DMU 0001           0.721272\n",
       "DMU 0002           0.251382\n",
       "DMU 0003           0.739827\n",
       "DMU 0004           0.792566\n",
       "DMU 0005           0.544606\n",
       "...                     ...\n",
       "DMU 1729           0.231875\n",
       "DMU 1730           0.542035\n",
       "DMU 1731           0.357247\n",
       "DMU 1732           0.563285\n",
       "DMU 1733           0.225086\n",
       "\n",
       "[1733 rows x 1 columns]"
      ]
     },
     "execution_count": 46,
     "metadata": {},
     "output_type": "execute_result"
    }
   ],
   "source": [
    "df_es"
   ]
  },
  {
   "cell_type": "code",
   "execution_count": 47,
   "id": "b852b03b-3d7c-4fb6-8a30-5507323cfb4b",
   "metadata": {},
   "outputs": [
    {
     "data": {
      "text/html": [
       "<div><div id=390abfc4-35bc-4506-86db-68e37491c85f style=\"display:none; background-color:#9D6CFF; color:white; width:200px; height:30px; padding-left:5px; border-radius:4px; flex-direction:row; justify-content:space-around; align-items:center;\" onmouseover=\"this.style.backgroundColor='#BA9BF8'\" onmouseout=\"this.style.backgroundColor='#9D6CFF'\" onclick=\"window.commands?.execute('create-mitosheet-from-dataframe-output');\">See Full Dataframe in Mito</div> <script> if (window.commands.hasCommand('create-mitosheet-from-dataframe-output')) document.getElementById('390abfc4-35bc-4506-86db-68e37491c85f').style.display = 'flex' </script> <table border=\"1\" class=\"dataframe\">\n",
       "  <thead>\n",
       "    <tr style=\"text-align: right;\">\n",
       "      <th></th>\n",
       "      <th>Efficiency_Scores</th>\n",
       "    </tr>\n",
       "  </thead>\n",
       "  <tbody>\n",
       "    <tr>\n",
       "      <th>DMU 0001</th>\n",
       "      <td>0.490957</td>\n",
       "    </tr>\n",
       "    <tr>\n",
       "      <th>DMU 0002</th>\n",
       "      <td>0.233529</td>\n",
       "    </tr>\n",
       "    <tr>\n",
       "      <th>DMU 0003</th>\n",
       "      <td>0.491038</td>\n",
       "    </tr>\n",
       "    <tr>\n",
       "      <th>DMU 0004</th>\n",
       "      <td>0.491328</td>\n",
       "    </tr>\n",
       "    <tr>\n",
       "      <th>DMU 0005</th>\n",
       "      <td>0.493046</td>\n",
       "    </tr>\n",
       "    <tr>\n",
       "      <th>...</th>\n",
       "      <td>...</td>\n",
       "    </tr>\n",
       "    <tr>\n",
       "      <th>DMU 1729</th>\n",
       "      <td>0.222575</td>\n",
       "    </tr>\n",
       "    <tr>\n",
       "      <th>DMU 1730</th>\n",
       "      <td>0.491427</td>\n",
       "    </tr>\n",
       "    <tr>\n",
       "      <th>DMU 1731</th>\n",
       "      <td>0.222481</td>\n",
       "    </tr>\n",
       "    <tr>\n",
       "      <th>DMU 1732</th>\n",
       "      <td>0.491486</td>\n",
       "    </tr>\n",
       "    <tr>\n",
       "      <th>DMU 1733</th>\n",
       "      <td>0.222476</td>\n",
       "    </tr>\n",
       "  </tbody>\n",
       "</table></div>"
      ],
      "text/plain": [
       "          Efficiency_Scores\n",
       "DMU 0001           0.490957\n",
       "DMU 0002           0.233529\n",
       "DMU 0003           0.491038\n",
       "DMU 0004           0.491328\n",
       "DMU 0005           0.493046\n",
       "...                     ...\n",
       "DMU 1729           0.222575\n",
       "DMU 1730           0.491427\n",
       "DMU 1731           0.222481\n",
       "DMU 1732           0.491486\n",
       "DMU 1733           0.222476\n",
       "\n",
       "[1733 rows x 1 columns]"
      ]
     },
     "execution_count": 47,
     "metadata": {},
     "output_type": "execute_result"
    }
   ],
   "source": [
    "df_es_1"
   ]
  },
  {
   "cell_type": "code",
   "execution_count": 51,
   "id": "591a163a-8965-43b1-98b2-00b6b29b4418",
   "metadata": {},
   "outputs": [],
   "source": [
    "df_res = df_es.join(df_es_1, lsuffix = \"_Basic\", rsuffix=\"_with_ML\")"
   ]
  },
  {
   "cell_type": "code",
   "execution_count": 52,
   "id": "6bc62bae-e8a0-40fe-a7cc-2cddf037f9e6",
   "metadata": {},
   "outputs": [
    {
     "data": {
      "text/html": [
       "<div><div id=80ff0226-553b-4b20-aa42-9416f06ed02e style=\"display:none; background-color:#9D6CFF; color:white; width:200px; height:30px; padding-left:5px; border-radius:4px; flex-direction:row; justify-content:space-around; align-items:center;\" onmouseover=\"this.style.backgroundColor='#BA9BF8'\" onmouseout=\"this.style.backgroundColor='#9D6CFF'\" onclick=\"window.commands?.execute('create-mitosheet-from-dataframe-output');\">See Full Dataframe in Mito</div> <script> if (window.commands.hasCommand('create-mitosheet-from-dataframe-output')) document.getElementById('80ff0226-553b-4b20-aa42-9416f06ed02e').style.display = 'flex' </script> <table border=\"1\" class=\"dataframe\">\n",
       "  <thead>\n",
       "    <tr style=\"text-align: right;\">\n",
       "      <th></th>\n",
       "      <th>Efficiency_Scores_Basic</th>\n",
       "      <th>Efficiency_Scores_with_ML</th>\n",
       "      <th>Diff</th>\n",
       "      <th>Diff_Perc</th>\n",
       "      <th>Diff_Perc &lt; 10</th>\n",
       "    </tr>\n",
       "  </thead>\n",
       "  <tbody>\n",
       "    <tr>\n",
       "      <th>DMU 0001</th>\n",
       "      <td>0.7213</td>\n",
       "      <td>0.4910</td>\n",
       "      <td>0.2303</td>\n",
       "      <td>31.9317</td>\n",
       "      <td>False</td>\n",
       "    </tr>\n",
       "    <tr>\n",
       "      <th>DMU 0002</th>\n",
       "      <td>0.2514</td>\n",
       "      <td>0.2335</td>\n",
       "      <td>0.0179</td>\n",
       "      <td>7.1017</td>\n",
       "      <td>True</td>\n",
       "    </tr>\n",
       "    <tr>\n",
       "      <th>DMU 0003</th>\n",
       "      <td>0.7398</td>\n",
       "      <td>0.4910</td>\n",
       "      <td>0.2488</td>\n",
       "      <td>33.6280</td>\n",
       "      <td>False</td>\n",
       "    </tr>\n",
       "    <tr>\n",
       "      <th>DMU 0004</th>\n",
       "      <td>0.7926</td>\n",
       "      <td>0.4913</td>\n",
       "      <td>0.3012</td>\n",
       "      <td>38.0080</td>\n",
       "      <td>False</td>\n",
       "    </tr>\n",
       "    <tr>\n",
       "      <th>DMU 0005</th>\n",
       "      <td>0.5446</td>\n",
       "      <td>0.4930</td>\n",
       "      <td>0.0516</td>\n",
       "      <td>9.4675</td>\n",
       "      <td>True</td>\n",
       "    </tr>\n",
       "    <tr>\n",
       "      <th>...</th>\n",
       "      <td>...</td>\n",
       "      <td>...</td>\n",
       "      <td>...</td>\n",
       "      <td>...</td>\n",
       "      <td>...</td>\n",
       "    </tr>\n",
       "    <tr>\n",
       "      <th>DMU 1729</th>\n",
       "      <td>0.2319</td>\n",
       "      <td>0.2226</td>\n",
       "      <td>0.0093</td>\n",
       "      <td>4.0109</td>\n",
       "      <td>True</td>\n",
       "    </tr>\n",
       "    <tr>\n",
       "      <th>DMU 1730</th>\n",
       "      <td>0.5420</td>\n",
       "      <td>0.4914</td>\n",
       "      <td>0.0506</td>\n",
       "      <td>9.3367</td>\n",
       "      <td>True</td>\n",
       "    </tr>\n",
       "    <tr>\n",
       "      <th>DMU 1731</th>\n",
       "      <td>0.3572</td>\n",
       "      <td>0.2225</td>\n",
       "      <td>0.1348</td>\n",
       "      <td>37.7233</td>\n",
       "      <td>False</td>\n",
       "    </tr>\n",
       "    <tr>\n",
       "      <th>DMU 1732</th>\n",
       "      <td>0.5633</td>\n",
       "      <td>0.4915</td>\n",
       "      <td>0.0718</td>\n",
       "      <td>12.7466</td>\n",
       "      <td>False</td>\n",
       "    </tr>\n",
       "    <tr>\n",
       "      <th>DMU 1733</th>\n",
       "      <td>0.2251</td>\n",
       "      <td>0.2225</td>\n",
       "      <td>0.0026</td>\n",
       "      <td>1.1596</td>\n",
       "      <td>True</td>\n",
       "    </tr>\n",
       "  </tbody>\n",
       "</table></div>"
      ],
      "text/plain": [
       "          Efficiency_Scores_Basic  Efficiency_Scores_with_ML    Diff  \\\n",
       "DMU 0001                   0.7213                     0.4910  0.2303   \n",
       "DMU 0002                   0.2514                     0.2335  0.0179   \n",
       "DMU 0003                   0.7398                     0.4910  0.2488   \n",
       "DMU 0004                   0.7926                     0.4913  0.3012   \n",
       "DMU 0005                   0.5446                     0.4930  0.0516   \n",
       "...                           ...                        ...     ...   \n",
       "DMU 1729                   0.2319                     0.2226  0.0093   \n",
       "DMU 1730                   0.5420                     0.4914  0.0506   \n",
       "DMU 1731                   0.3572                     0.2225  0.1348   \n",
       "DMU 1732                   0.5633                     0.4915  0.0718   \n",
       "DMU 1733                   0.2251                     0.2225  0.0026   \n",
       "\n",
       "          Diff_Perc  Diff_Perc < 10  \n",
       "DMU 0001    31.9317           False  \n",
       "DMU 0002     7.1017            True  \n",
       "DMU 0003    33.6280           False  \n",
       "DMU 0004    38.0080           False  \n",
       "DMU 0005     9.4675            True  \n",
       "...             ...             ...  \n",
       "DMU 1729     4.0109            True  \n",
       "DMU 1730     9.3367            True  \n",
       "DMU 1731    37.7233           False  \n",
       "DMU 1732    12.7466           False  \n",
       "DMU 1733     1.1596            True  \n",
       "\n",
       "[1733 rows x 5 columns]"
      ]
     },
     "execution_count": 52,
     "metadata": {},
     "output_type": "execute_result"
    }
   ],
   "source": [
    "df_res[\"Diff\"] = df_res[\"Efficiency_Scores_Basic\"]  - df_res[\"Efficiency_Scores_with_ML\"]\n",
    "df_res[\"Diff_Perc\"] = (df_res[\"Diff\"] / df_res[\"Efficiency_Scores_Basic\"]) * 100 \n",
    "df_res[\"Diff_Perc < 10\"] = np.abs(df_res[\"Diff_Perc\"]) < 10  \n",
    "df_res = df_res.round(4)\n",
    "df_res"
   ]
  },
  {
   "cell_type": "code",
   "execution_count": 55,
   "id": "c4474381-9b7d-40e9-8792-596457e6971b",
   "metadata": {},
   "outputs": [
    {
     "name": "stdout",
     "output_type": "stream",
     "text": [
      "blue :  886\n",
      "red :  847\n"
     ]
    }
   ],
   "source": [
    "blue = df_res[\"Diff_Perc < 10\"].sum()\n",
    "print(\"blue : \", blue)\n",
    "red = len(df_res[\"Diff_Perc < 10\"]) - (df_res[\"Diff_Perc < 10\"].sum())\n",
    "print(\"red : \", red)"
   ]
  },
  {
   "cell_type": "code",
   "execution_count": 56,
   "id": "dcf9accf-3bc5-48e5-bd87-c875a1074406",
   "metadata": {},
   "outputs": [
    {
     "data": {
      "application/vnd.plotly.v1+json": {
       "config": {
        "plotlyServerURL": "https://plot.ly"
       },
       "data": [
        {
         "customdata": [
          [
           31.9317,
           "DMU 0001"
          ],
          [
           33.628,
           "DMU 0003"
          ],
          [
           38.008,
           "DMU 0004"
          ],
          [
           24.6981,
           "DMU 0006"
          ],
          [
           14.9663,
           "DMU 0007"
          ],
          [
           16.4699,
           "DMU 0008"
          ],
          [
           30.423,
           "DMU 0009"
          ],
          [
           27.27,
           "DMU 0010"
          ],
          [
           24.699,
           "DMU 0011"
          ],
          [
           12.3085,
           "DMU 0012"
          ],
          [
           13.2335,
           "DMU 0013"
          ],
          [
           29.0532,
           "DMU 0014"
          ],
          [
           29.5617,
           "DMU 0015"
          ],
          [
           30.299,
           "DMU 0016"
          ],
          [
           34.9828,
           "DMU 0018"
          ],
          [
           30.9004,
           "DMU 0019"
          ],
          [
           31.6191,
           "DMU 0020"
          ],
          [
           43.0396,
           "DMU 0021"
          ],
          [
           29.1117,
           "DMU 0022"
          ],
          [
           12.0383,
           "DMU 0023"
          ],
          [
           34.8279,
           "DMU 0024"
          ],
          [
           31.9279,
           "DMU 0025"
          ],
          [
           11.5311,
           "DMU 0026"
          ],
          [
           21.2446,
           "DMU 0027"
          ],
          [
           25.8514,
           "DMU 0028"
          ],
          [
           24.6366,
           "DMU 0029"
          ],
          [
           30.6814,
           "DMU 0030"
          ],
          [
           34.3606,
           "DMU 0031"
          ],
          [
           33.0876,
           "DMU 0033"
          ],
          [
           24.6851,
           "DMU 0034"
          ],
          [
           33.2278,
           "DMU 0035"
          ],
          [
           31.633,
           "DMU 0036"
          ],
          [
           29.9327,
           "DMU 0038"
          ],
          [
           29.0015,
           "DMU 0039"
          ],
          [
           35.0645,
           "DMU 0040"
          ],
          [
           33.5097,
           "DMU 0042"
          ],
          [
           32.6037,
           "DMU 0043"
          ],
          [
           35.1951,
           "DMU 0044"
          ],
          [
           36.948,
           "DMU 0045"
          ],
          [
           38.9205,
           "DMU 0046"
          ],
          [
           41.1937,
           "DMU 0047"
          ],
          [
           38.573,
           "DMU 0048"
          ],
          [
           37.9966,
           "DMU 0049"
          ],
          [
           38.8606,
           "DMU 0050"
          ],
          [
           31.8523,
           "DMU 0051"
          ],
          [
           29.7554,
           "DMU 0052"
          ],
          [
           34.0985,
           "DMU 0054"
          ],
          [
           29.9615,
           "DMU 0055"
          ],
          [
           25.8407,
           "DMU 0056"
          ],
          [
           32.7955,
           "DMU 0057"
          ],
          [
           34.1035,
           "DMU 0058"
          ],
          [
           31.326,
           "DMU 0059"
          ],
          [
           33.3544,
           "DMU 0061"
          ],
          [
           36.2037,
           "DMU 0062"
          ],
          [
           10.592,
           "DMU 0063"
          ],
          [
           33.2861,
           "DMU 0064"
          ],
          [
           13.0947,
           "DMU 0066"
          ],
          [
           32.4648,
           "DMU 0067"
          ],
          [
           21.2703,
           "DMU 0069"
          ],
          [
           16.8714,
           "DMU 0070"
          ],
          [
           77.0812,
           "DMU 0071"
          ],
          [
           27.6028,
           "DMU 0072"
          ],
          [
           35.3259,
           "DMU 0073"
          ],
          [
           31.1503,
           "DMU 0074"
          ],
          [
           32.5495,
           "DMU 0075"
          ],
          [
           41.7681,
           "DMU 0076"
          ],
          [
           34.2292,
           "DMU 0077"
          ],
          [
           31.64,
           "DMU 0078"
          ],
          [
           13.6943,
           "DMU 0080"
          ],
          [
           30.8186,
           "DMU 0082"
          ],
          [
           17.5185,
           "DMU 0083"
          ],
          [
           28.3778,
           "DMU 0084"
          ],
          [
           47.6482,
           "DMU 0085"
          ],
          [
           10.6419,
           "DMU 0086"
          ],
          [
           43.8399,
           "DMU 0089"
          ],
          [
           50.0046,
           "DMU 0090"
          ],
          [
           46.7419,
           "DMU 0092"
          ],
          [
           43.5938,
           "DMU 0094"
          ],
          [
           23.7045,
           "DMU 0095"
          ],
          [
           38.8184,
           "DMU 0098"
          ],
          [
           29.7808,
           "DMU 0100"
          ],
          [
           12.8838,
           "DMU 0101"
          ],
          [
           36.3839,
           "DMU 0102"
          ],
          [
           57.6328,
           "DMU 0104"
          ],
          [
           38.5404,
           "DMU 0106"
          ],
          [
           42.2087,
           "DMU 0107"
          ],
          [
           49.9441,
           "DMU 0108"
          ],
          [
           23.9813,
           "DMU 0110"
          ],
          [
           33.6479,
           "DMU 0117"
          ],
          [
           31.3482,
           "DMU 0118"
          ],
          [
           70.273,
           "DMU 0119"
          ],
          [
           36.8303,
           "DMU 0121"
          ],
          [
           12.3947,
           "DMU 0123"
          ],
          [
           51.9988,
           "DMU 0124"
          ],
          [
           54.3142,
           "DMU 0125"
          ],
          [
           27.8399,
           "DMU 0127"
          ],
          [
           21.3936,
           "DMU 0129"
          ],
          [
           56.5869,
           "DMU 0130"
          ],
          [
           42.6843,
           "DMU 0131"
          ],
          [
           28.5867,
           "DMU 0133"
          ],
          [
           19.0879,
           "DMU 0134"
          ],
          [
           42.865,
           "DMU 0135"
          ],
          [
           12.1232,
           "DMU 0136"
          ],
          [
           39.3612,
           "DMU 0138"
          ],
          [
           16.5344,
           "DMU 0139"
          ],
          [
           55.7138,
           "DMU 0141"
          ],
          [
           53.5074,
           "DMU 0143"
          ],
          [
           52.2066,
           "DMU 0144"
          ],
          [
           42.5521,
           "DMU 0145"
          ],
          [
           52.6145,
           "DMU 0146"
          ],
          [
           47.0467,
           "DMU 0147"
          ],
          [
           58.8816,
           "DMU 0148"
          ],
          [
           53.9892,
           "DMU 0149"
          ],
          [
           57.697,
           "DMU 0150"
          ],
          [
           16.6734,
           "DMU 0151"
          ],
          [
           53.8697,
           "DMU 0153"
          ],
          [
           18.3709,
           "DMU 0159"
          ],
          [
           10.3205,
           "DMU 0161"
          ],
          [
           10.893,
           "DMU 0163"
          ],
          [
           52.5748,
           "DMU 0164"
          ],
          [
           26.4201,
           "DMU 0170"
          ],
          [
           58.5822,
           "DMU 0171"
          ],
          [
           50.8366,
           "DMU 0174"
          ],
          [
           50.449,
           "DMU 0176"
          ],
          [
           10.2706,
           "DMU 0179"
          ],
          [
           15.254,
           "DMU 0180"
          ],
          [
           30.7334,
           "DMU 0182"
          ],
          [
           10.2213,
           "DMU 0183"
          ],
          [
           24.0305,
           "DMU 0184"
          ],
          [
           10.4426,
           "DMU 0187"
          ],
          [
           53.2899,
           "DMU 0188"
          ],
          [
           50.1377,
           "DMU 0189"
          ],
          [
           51.7501,
           "DMU 0190"
          ],
          [
           51.1977,
           "DMU 0191"
          ],
          [
           46.6654,
           "DMU 0192"
          ],
          [
           56.0449,
           "DMU 0196"
          ],
          [
           52.7323,
           "DMU 0197"
          ],
          [
           19.3503,
           "DMU 0202"
          ],
          [
           51.0889,
           "DMU 0203"
          ],
          [
           56.5613,
           "DMU 0205"
          ],
          [
           56.5457,
           "DMU 0206"
          ],
          [
           56.5374,
           "DMU 0207"
          ],
          [
           35.8295,
           "DMU 0208"
          ],
          [
           47.1964,
           "DMU 0210"
          ],
          [
           43.7422,
           "DMU 0214"
          ],
          [
           15.1306,
           "DMU 0215"
          ],
          [
           49.8451,
           "DMU 0217"
          ],
          [
           51.2397,
           "DMU 0218"
          ],
          [
           51.6858,
           "DMU 0219"
          ],
          [
           21.8443,
           "DMU 0220"
          ],
          [
           11.3701,
           "DMU 0221"
          ],
          [
           60.3702,
           "DMU 0222"
          ],
          [
           51.1713,
           "DMU 0224"
          ],
          [
           59.7241,
           "DMU 0225"
          ],
          [
           66.2443,
           "DMU 0227"
          ],
          [
           57.3859,
           "DMU 0228"
          ],
          [
           52.7489,
           "DMU 0229"
          ],
          [
           56.0139,
           "DMU 0230"
          ],
          [
           17.1191,
           "DMU 0233"
          ],
          [
           53.6357,
           "DMU 0234"
          ],
          [
           15.6829,
           "DMU 0235"
          ],
          [
           46.4942,
           "DMU 0236"
          ],
          [
           52.5868,
           "DMU 0237"
          ],
          [
           52.0224,
           "DMU 0238"
          ],
          [
           53.3255,
           "DMU 0242"
          ],
          [
           17.5872,
           "DMU 0243"
          ],
          [
           56.8218,
           "DMU 0244"
          ],
          [
           53.635,
           "DMU 0252"
          ],
          [
           43.54,
           "DMU 0255"
          ],
          [
           53.3171,
           "DMU 0256"
          ],
          [
           17.893,
           "DMU 0257"
          ],
          [
           62.7305,
           "DMU 0258"
          ],
          [
           53.4621,
           "DMU 0261"
          ],
          [
           52.2153,
           "DMU 0262"
          ],
          [
           57.7929,
           "DMU 0264"
          ],
          [
           61.215,
           "DMU 0266"
          ],
          [
           57.6813,
           "DMU 0267"
          ],
          [
           57.4798,
           "DMU 0269"
          ],
          [
           25.794,
           "DMU 0270"
          ],
          [
           12.3831,
           "DMU 0272"
          ],
          [
           25.3504,
           "DMU 0273"
          ],
          [
           47.1924,
           "DMU 0274"
          ],
          [
           56.9747,
           "DMU 0275"
          ],
          [
           47.6381,
           "DMU 0276"
          ],
          [
           52.4809,
           "DMU 0277"
          ],
          [
           53.672,
           "DMU 0278"
          ],
          [
           50.7907,
           "DMU 0280"
          ],
          [
           51.5812,
           "DMU 0289"
          ],
          [
           30.3237,
           "DMU 0292"
          ],
          [
           55.9571,
           "DMU 0294"
          ],
          [
           33.0528,
           "DMU 0301"
          ],
          [
           39.0607,
           "DMU 0302"
          ],
          [
           38.9422,
           "DMU 0303"
          ],
          [
           70.2775,
           "DMU 0304"
          ],
          [
           19.5908,
           "DMU 0305"
          ],
          [
           21.8622,
           "DMU 0306"
          ],
          [
           53.682,
           "DMU 0307"
          ],
          [
           62.7222,
           "DMU 0308"
          ],
          [
           19.025,
           "DMU 0309"
          ],
          [
           20.5452,
           "DMU 0310"
          ],
          [
           58.3918,
           "DMU 0313"
          ],
          [
           40.7163,
           "DMU 0316"
          ],
          [
           11.124,
           "DMU 0317"
          ],
          [
           41.674,
           "DMU 0318"
          ],
          [
           30.8873,
           "DMU 0320"
          ],
          [
           31.7799,
           "DMU 0321"
          ],
          [
           49.2196,
           "DMU 0322"
          ],
          [
           55.3566,
           "DMU 0323"
          ],
          [
           39.5781,
           "DMU 0324"
          ],
          [
           23.226,
           "DMU 0325"
          ],
          [
           11.4418,
           "DMU 0327"
          ],
          [
           19.4125,
           "DMU 0328"
          ],
          [
           48.3291,
           "DMU 0329"
          ],
          [
           10.7647,
           "DMU 0330"
          ],
          [
           12.459,
           "DMU 0331"
          ],
          [
           34.514,
           "DMU 0332"
          ],
          [
           48.6182,
           "DMU 0333"
          ],
          [
           49.8949,
           "DMU 0334"
          ],
          [
           58.3585,
           "DMU 0337"
          ],
          [
           52.4835,
           "DMU 0340"
          ],
          [
           14.5728,
           "DMU 0346"
          ],
          [
           16.2365,
           "DMU 0349"
          ],
          [
           24.6795,
           "DMU 0351"
          ],
          [
           11.6453,
           "DMU 0352"
          ],
          [
           10.9741,
           "DMU 0353"
          ],
          [
           21.3755,
           "DMU 0354"
          ],
          [
           11.1804,
           "DMU 0356"
          ],
          [
           41.7241,
           "DMU 0359"
          ],
          [
           16.3273,
           "DMU 0360"
          ],
          [
           27.9651,
           "DMU 0361"
          ],
          [
           14.4023,
           "DMU 0364"
          ],
          [
           15.6089,
           "DMU 0366"
          ],
          [
           17.2618,
           "DMU 0367"
          ],
          [
           61.0122,
           "DMU 0368"
          ],
          [
           12.0162,
           "DMU 0370"
          ],
          [
           13.6799,
           "DMU 0371"
          ],
          [
           50.438,
           "DMU 0374"
          ],
          [
           16.8433,
           "DMU 0375"
          ],
          [
           31.0715,
           "DMU 0376"
          ],
          [
           18.0151,
           "DMU 0377"
          ],
          [
           19.7682,
           "DMU 0379"
          ],
          [
           53.6199,
           "DMU 0381"
          ],
          [
           16.5471,
           "DMU 0382"
          ],
          [
           52.1533,
           "DMU 0383"
          ],
          [
           17.5677,
           "DMU 0385"
          ],
          [
           39.4329,
           "DMU 0386"
          ],
          [
           16.7121,
           "DMU 0388"
          ],
          [
           25.821,
           "DMU 0389"
          ],
          [
           24.98,
           "DMU 0390"
          ],
          [
           47.0957,
           "DMU 0391"
          ],
          [
           52.2481,
           "DMU 0392"
          ],
          [
           17.014,
           "DMU 0393"
          ],
          [
           18.3808,
           "DMU 0394"
          ],
          [
           23.6028,
           "DMU 0396"
          ],
          [
           40.7256,
           "DMU 0397"
          ],
          [
           30.4379,
           "DMU 0398"
          ],
          [
           24.1878,
           "DMU 0399"
          ],
          [
           31.81,
           "DMU 0400"
          ],
          [
           40.7944,
           "DMU 0401"
          ],
          [
           13.546,
           "DMU 0402"
          ],
          [
           48.4979,
           "DMU 0403"
          ],
          [
           52.6178,
           "DMU 0405"
          ],
          [
           38.7974,
           "DMU 0406"
          ],
          [
           45.6318,
           "DMU 0407"
          ],
          [
           49.2323,
           "DMU 0408"
          ],
          [
           45.9757,
           "DMU 0410"
          ],
          [
           48.0013,
           "DMU 0412"
          ],
          [
           40.1531,
           "DMU 0413"
          ],
          [
           65.7652,
           "DMU 0414"
          ],
          [
           45.2295,
           "DMU 0415"
          ],
          [
           12.1181,
           "DMU 0416"
          ],
          [
           50.2805,
           "DMU 0417"
          ],
          [
           30.9949,
           "DMU 0418"
          ],
          [
           46.4155,
           "DMU 0419"
          ],
          [
           58.0226,
           "DMU 0426"
          ],
          [
           51.6491,
           "DMU 0428"
          ],
          [
           40.5077,
           "DMU 0429"
          ],
          [
           26.05,
           "DMU 0430"
          ],
          [
           28.5078,
           "DMU 0432"
          ],
          [
           47.6589,
           "DMU 0435"
          ],
          [
           40.4626,
           "DMU 0436"
          ],
          [
           45.2727,
           "DMU 0437"
          ],
          [
           37.1503,
           "DMU 0440"
          ],
          [
           50.4506,
           "DMU 0441"
          ],
          [
           18.6981,
           "DMU 0442"
          ],
          [
           10.8279,
           "DMU 0443"
          ],
          [
           43.915,
           "DMU 0444"
          ],
          [
           36.5292,
           "DMU 0447"
          ],
          [
           43.6514,
           "DMU 0448"
          ],
          [
           28.8583,
           "DMU 0449"
          ],
          [
           47.4137,
           "DMU 0452"
          ],
          [
           25.8315,
           "DMU 0453"
          ],
          [
           40.1163,
           "DMU 0454"
          ],
          [
           57.1692,
           "DMU 0455"
          ],
          [
           11.1417,
           "DMU 0457"
          ],
          [
           34.2985,
           "DMU 0459"
          ],
          [
           10.8871,
           "DMU 0460"
          ],
          [
           13.6582,
           "DMU 0461"
          ],
          [
           15.6094,
           "DMU 0480"
          ],
          [
           36.8969,
           "DMU 0485"
          ],
          [
           17.6233,
           "DMU 0489"
          ],
          [
           24.2401,
           "DMU 0493"
          ],
          [
           10.8157,
           "DMU 0495"
          ],
          [
           42.9577,
           "DMU 0498"
          ],
          [
           24.1712,
           "DMU 0501"
          ],
          [
           30.215,
           "DMU 0504"
          ],
          [
           54.7209,
           "DMU 0509"
          ],
          [
           32.7999,
           "DMU 0520"
          ],
          [
           14.0834,
           "DMU 0521"
          ],
          [
           17.1396,
           "DMU 0522"
          ],
          [
           13.9861,
           "DMU 0524"
          ],
          [
           23.6746,
           "DMU 0539"
          ],
          [
           14.8435,
           "DMU 0542"
          ],
          [
           19.3868,
           "DMU 0551"
          ],
          [
           17.358,
           "DMU 0555"
          ],
          [
           28.0939,
           "DMU 0557"
          ],
          [
           31.5369,
           "DMU 0559"
          ],
          [
           15.3975,
           "DMU 0561"
          ],
          [
           30.585,
           "DMU 0571"
          ],
          [
           43.7772,
           "DMU 0573"
          ],
          [
           49.6246,
           "DMU 0574"
          ],
          [
           46.3257,
           "DMU 0579"
          ],
          [
           34.3015,
           "DMU 0580"
          ],
          [
           19.857,
           "DMU 0582"
          ],
          [
           36.2559,
           "DMU 0588"
          ],
          [
           47.9451,
           "DMU 0590"
          ],
          [
           34.5879,
           "DMU 0591"
          ],
          [
           37.7251,
           "DMU 0592"
          ],
          [
           48.6646,
           "DMU 0593"
          ],
          [
           20.3564,
           "DMU 0594"
          ],
          [
           33.9689,
           "DMU 0602"
          ],
          [
           47.5583,
           "DMU 0603"
          ],
          [
           18.4743,
           "DMU 0604"
          ],
          [
           77.6795,
           "DMU 0609"
          ],
          [
           46.6314,
           "DMU 0612"
          ],
          [
           43.1499,
           "DMU 0615"
          ],
          [
           41.9262,
           "DMU 0617"
          ],
          [
           27.0089,
           "DMU 0624"
          ],
          [
           12.2257,
           "DMU 0628"
          ],
          [
           39.7956,
           "DMU 0629"
          ],
          [
           41.2347,
           "DMU 0630"
          ],
          [
           28.0622,
           "DMU 0631"
          ],
          [
           32.4994,
           "DMU 0632"
          ],
          [
           20.5247,
           "DMU 0635"
          ],
          [
           43.7623,
           "DMU 0637"
          ],
          [
           24.2675,
           "DMU 0639"
          ],
          [
           10.7519,
           "DMU 0640"
          ],
          [
           45.8826,
           "DMU 0641"
          ],
          [
           46.6333,
           "DMU 0642"
          ],
          [
           35.9105,
           "DMU 0649"
          ],
          [
           30.8255,
           "DMU 0651"
          ],
          [
           70.2648,
           "DMU 0652"
          ],
          [
           54.4479,
           "DMU 0657"
          ],
          [
           20.3916,
           "DMU 0662"
          ],
          [
           46.5076,
           "DMU 0664"
          ],
          [
           44.0852,
           "DMU 0665"
          ],
          [
           17.8121,
           "DMU 0666"
          ],
          [
           28.0647,
           "DMU 0667"
          ],
          [
           11.5832,
           "DMU 0672"
          ],
          [
           28.488,
           "DMU 0679"
          ],
          [
           38.3084,
           "DMU 0680"
          ],
          [
           61.8824,
           "DMU 0681"
          ],
          [
           36.7917,
           "DMU 0686"
          ],
          [
           11.9595,
           "DMU 0688"
          ],
          [
           67.9151,
           "DMU 0692"
          ],
          [
           42.5014,
           "DMU 0693"
          ],
          [
           11.6775,
           "DMU 0696"
          ],
          [
           10.3,
           "DMU 0698"
          ],
          [
           12.1984,
           "DMU 0700"
          ],
          [
           50.076,
           "DMU 0712"
          ],
          [
           20.9661,
           "DMU 0716"
          ],
          [
           23.0444,
           "DMU 0723"
          ],
          [
           20.0358,
           "DMU 0724"
          ],
          [
           19.9408,
           "DMU 0729"
          ],
          [
           48.0233,
           "DMU 0734"
          ],
          [
           11.4082,
           "DMU 0735"
          ],
          [
           40.9232,
           "DMU 0736"
          ],
          [
           14.0162,
           "DMU 0737"
          ],
          [
           28.8615,
           "DMU 0738"
          ],
          [
           43.1486,
           "DMU 0739"
          ],
          [
           30.4072,
           "DMU 0740"
          ],
          [
           72.8322,
           "DMU 0742"
          ],
          [
           30.4535,
           "DMU 0744"
          ],
          [
           41.4154,
           "DMU 0745"
          ],
          [
           31.5728,
           "DMU 0746"
          ],
          [
           26.263,
           "DMU 0747"
          ],
          [
           45.3561,
           "DMU 0748"
          ],
          [
           16.145,
           "DMU 0751"
          ],
          [
           38.8098,
           "DMU 0752"
          ],
          [
           31.9847,
           "DMU 0754"
          ],
          [
           52.4659,
           "DMU 0755"
          ],
          [
           11.9925,
           "DMU 0759"
          ],
          [
           42.4704,
           "DMU 0760"
          ],
          [
           59.8256,
           "DMU 0765"
          ],
          [
           18.6677,
           "DMU 0769"
          ],
          [
           64.3319,
           "DMU 0770"
          ],
          [
           66.0975,
           "DMU 0771"
          ],
          [
           30.9348,
           "DMU 0772"
          ],
          [
           13.2102,
           "DMU 0776"
          ],
          [
           49.5151,
           "DMU 0777"
          ],
          [
           49.9277,
           "DMU 0778"
          ],
          [
           52.748,
           "DMU 0779"
          ],
          [
           54.3313,
           "DMU 0782"
          ],
          [
           16.7018,
           "DMU 0783"
          ],
          [
           18.2126,
           "DMU 0785"
          ],
          [
           54.1542,
           "DMU 0790"
          ],
          [
           46.4184,
           "DMU 0791"
          ],
          [
           32.7382,
           "DMU 0792"
          ],
          [
           22.4194,
           "DMU 0794"
          ],
          [
           48.1209,
           "DMU 0795"
          ],
          [
           62.7629,
           "DMU 0796"
          ],
          [
           31.7748,
           "DMU 0797"
          ],
          [
           14.603,
           "DMU 0800"
          ],
          [
           46.664,
           "DMU 0801"
          ],
          [
           70.1481,
           "DMU 0802"
          ],
          [
           60.1726,
           "DMU 0804"
          ],
          [
           47.909,
           "DMU 0809"
          ],
          [
           44.7508,
           "DMU 0811"
          ],
          [
           22.0325,
           "DMU 0814"
          ],
          [
           15.3552,
           "DMU 0815"
          ],
          [
           50.6988,
           "DMU 0818"
          ],
          [
           17.6684,
           "DMU 0819"
          ],
          [
           70.3868,
           "DMU 0820"
          ],
          [
           49.5224,
           "DMU 0822"
          ],
          [
           11.8605,
           "DMU 0826"
          ],
          [
           45.1765,
           "DMU 0827"
          ],
          [
           36.2041,
           "DMU 0829"
          ],
          [
           34.0665,
           "DMU 0830"
          ],
          [
           27.0299,
           "DMU 0831"
          ],
          [
           46.1918,
           "DMU 0832"
          ],
          [
           46.7126,
           "DMU 0835"
          ],
          [
           52.8323,
           "DMU 0836"
          ],
          [
           17.6396,
           "DMU 0838"
          ],
          [
           30.2817,
           "DMU 0839"
          ],
          [
           19.4607,
           "DMU 0840"
          ],
          [
           50.6434,
           "DMU 0843"
          ],
          [
           50.4034,
           "DMU 0845"
          ],
          [
           57.8806,
           "DMU 0846"
          ],
          [
           34.3643,
           "DMU 0847"
          ],
          [
           60.1837,
           "DMU 0849"
          ],
          [
           18.5611,
           "DMU 0852"
          ],
          [
           14.349,
           "DMU 0860"
          ],
          [
           54.2952,
           "DMU 0861"
          ],
          [
           38.8111,
           "DMU 0862"
          ],
          [
           26.8573,
           "DMU 0863"
          ],
          [
           44.4673,
           "DMU 0864"
          ],
          [
           20.6397,
           "DMU 0865"
          ],
          [
           18.9068,
           "DMU 0868"
          ],
          [
           11.397,
           "DMU 0870"
          ],
          [
           55.7637,
           "DMU 0873"
          ],
          [
           40.2412,
           "DMU 0874"
          ],
          [
           44.2933,
           "DMU 0875"
          ],
          [
           23.8572,
           "DMU 0878"
          ],
          [
           58.8855,
           "DMU 0880"
          ],
          [
           37.9179,
           "DMU 0882"
          ],
          [
           11.9671,
           "DMU 0885"
          ],
          [
           26.1172,
           "DMU 0887"
          ],
          [
           10.9889,
           "DMU 0890"
          ],
          [
           14.3049,
           "DMU 0891"
          ],
          [
           54.9857,
           "DMU 0894"
          ],
          [
           46.3191,
           "DMU 0900"
          ],
          [
           21.0742,
           "DMU 0901"
          ],
          [
           12.7024,
           "DMU 0910"
          ],
          [
           27.3869,
           "DMU 0911"
          ],
          [
           43.7714,
           "DMU 0919"
          ],
          [
           27.6357,
           "DMU 0920"
          ],
          [
           44.1538,
           "DMU 0921"
          ],
          [
           54.0678,
           "DMU 0925"
          ],
          [
           44.9088,
           "DMU 0928"
          ],
          [
           58.4629,
           "DMU 0931"
          ],
          [
           11.104,
           "DMU 0940"
          ],
          [
           25.1123,
           "DMU 0947"
          ],
          [
           27.9698,
           "DMU 0958"
          ],
          [
           29.2428,
           "DMU 0963"
          ],
          [
           45.0309,
           "DMU 0967"
          ],
          [
           12.6154,
           "DMU 0972"
          ],
          [
           22.2312,
           "DMU 0974"
          ],
          [
           11.7857,
           "DMU 0978"
          ],
          [
           25.1615,
           "DMU 0979"
          ],
          [
           41.2862,
           "DMU 0988"
          ],
          [
           22.2755,
           "DMU 0999"
          ],
          [
           42.7331,
           "DMU 1000"
          ],
          [
           25.065,
           "DMU 1002"
          ],
          [
           28.0649,
           "DMU 1003"
          ],
          [
           22.1871,
           "DMU 1004"
          ],
          [
           18.8598,
           "DMU 1007"
          ],
          [
           14.3254,
           "DMU 1008"
          ],
          [
           48.5033,
           "DMU 1011"
          ],
          [
           22.2974,
           "DMU 1012"
          ],
          [
           18.8436,
           "DMU 1013"
          ],
          [
           23.4392,
           "DMU 1017"
          ],
          [
           20.3638,
           "DMU 1021"
          ],
          [
           17.416,
           "DMU 1022"
          ],
          [
           13.7603,
           "DMU 1023"
          ],
          [
           20.6033,
           "DMU 1024"
          ],
          [
           30.6738,
           "DMU 1025"
          ],
          [
           14.4952,
           "DMU 1027"
          ],
          [
           29.737,
           "DMU 1028"
          ],
          [
           31.0605,
           "DMU 1032"
          ],
          [
           62.6962,
           "DMU 1034"
          ],
          [
           36.302,
           "DMU 1035"
          ],
          [
           27.5142,
           "DMU 1036"
          ],
          [
           56.3273,
           "DMU 1042"
          ],
          [
           47.4578,
           "DMU 1043"
          ],
          [
           12.648,
           "DMU 1044"
          ],
          [
           43.5432,
           "DMU 1045"
          ],
          [
           47.8012,
           "DMU 1046"
          ],
          [
           47.6273,
           "DMU 1049"
          ],
          [
           26.699,
           "DMU 1050"
          ],
          [
           30.6138,
           "DMU 1051"
          ],
          [
           42.3292,
           "DMU 1052"
          ],
          [
           53.3756,
           "DMU 1053"
          ],
          [
           11.2855,
           "DMU 1054"
          ],
          [
           14.2676,
           "DMU 1056"
          ],
          [
           19.8286,
           "DMU 1059"
          ],
          [
           12.9758,
           "DMU 1061"
          ],
          [
           10.9654,
           "DMU 1062"
          ],
          [
           15.4527,
           "DMU 1063"
          ],
          [
           16.0038,
           "DMU 1067"
          ],
          [
           10.1919,
           "DMU 1070"
          ],
          [
           19.0828,
           "DMU 1071"
          ],
          [
           12.6382,
           "DMU 1072"
          ],
          [
           10.7178,
           "DMU 1073"
          ],
          [
           17.6971,
           "DMU 1074"
          ],
          [
           10.594,
           "DMU 1078"
          ],
          [
           11.0644,
           "DMU 1080"
          ],
          [
           11.8606,
           "DMU 1081"
          ],
          [
           11.5472,
           "DMU 1082"
          ],
          [
           14.695,
           "DMU 1086"
          ],
          [
           32.8491,
           "DMU 1087"
          ],
          [
           11.9649,
           "DMU 1088"
          ],
          [
           44.1919,
           "DMU 1090"
          ],
          [
           25.5272,
           "DMU 1091"
          ],
          [
           11.4487,
           "DMU 1092"
          ],
          [
           10.3856,
           "DMU 1093"
          ],
          [
           21.4687,
           "DMU 1095"
          ],
          [
           12.1857,
           "DMU 1096"
          ],
          [
           13.8559,
           "DMU 1097"
          ],
          [
           19.3425,
           "DMU 1103"
          ],
          [
           52.9095,
           "DMU 1105"
          ],
          [
           51.8472,
           "DMU 1108"
          ],
          [
           34.1558,
           "DMU 1109"
          ],
          [
           55.954,
           "DMU 1112"
          ],
          [
           35.7938,
           "DMU 1116"
          ],
          [
           12.1817,
           "DMU 1121"
          ],
          [
           23.3685,
           "DMU 1124"
          ],
          [
           23.7655,
           "DMU 1125"
          ],
          [
           19.972,
           "DMU 1126"
          ],
          [
           22.2585,
           "DMU 1127"
          ],
          [
           21.7393,
           "DMU 1130"
          ],
          [
           65.3415,
           "DMU 1133"
          ],
          [
           60.6778,
           "DMU 1134"
          ],
          [
           77.6455,
           "DMU 1135"
          ],
          [
           10.2462,
           "DMU 1137"
          ],
          [
           27.2776,
           "DMU 1142"
          ],
          [
           19.5193,
           "DMU 1156"
          ],
          [
           26.5271,
           "DMU 1157"
          ],
          [
           53.0657,
           "DMU 1158"
          ],
          [
           55.2238,
           "DMU 1160"
          ],
          [
           39.7887,
           "DMU 1161"
          ],
          [
           54.9194,
           "DMU 1162"
          ],
          [
           16.1548,
           "DMU 1164"
          ],
          [
           43.7619,
           "DMU 1166"
          ],
          [
           15.5606,
           "DMU 1167"
          ],
          [
           52.6693,
           "DMU 1169"
          ],
          [
           48.8908,
           "DMU 1171"
          ],
          [
           13.5692,
           "DMU 1172"
          ],
          [
           51.3242,
           "DMU 1173"
          ],
          [
           11.0225,
           "DMU 1174"
          ],
          [
           48.6535,
           "DMU 1175"
          ],
          [
           11.5688,
           "DMU 1176"
          ],
          [
           40.4781,
           "DMU 1177"
          ],
          [
           52.7549,
           "DMU 1180"
          ],
          [
           51.2613,
           "DMU 1182"
          ],
          [
           48.3792,
           "DMU 1184"
          ],
          [
           41.1329,
           "DMU 1186"
          ],
          [
           46.7516,
           "DMU 1187"
          ],
          [
           32.8508,
           "DMU 1189"
          ],
          [
           40.8094,
           "DMU 1194"
          ],
          [
           27.2624,
           "DMU 1195"
          ],
          [
           34.6299,
           "DMU 1196"
          ],
          [
           55.9908,
           "DMU 1198"
          ],
          [
           47.311,
           "DMU 1200"
          ],
          [
           26.901,
           "DMU 1201"
          ],
          [
           18.901,
           "DMU 1204"
          ],
          [
           22.0514,
           "DMU 1205"
          ],
          [
           15.9279,
           "DMU 1206"
          ],
          [
           26.6484,
           "DMU 1207"
          ],
          [
           46.2742,
           "DMU 1208"
          ],
          [
           18.5245,
           "DMU 1209"
          ],
          [
           45.3317,
           "DMU 1210"
          ],
          [
           59.3792,
           "DMU 1212"
          ],
          [
           53.1279,
           "DMU 1213"
          ],
          [
           29.7901,
           "DMU 1215"
          ],
          [
           53.9044,
           "DMU 1216"
          ],
          [
           20.7241,
           "DMU 1217"
          ],
          [
           14.339,
           "DMU 1218"
          ],
          [
           56.5878,
           "DMU 1220"
          ],
          [
           52.4115,
           "DMU 1222"
          ],
          [
           42.4483,
           "DMU 1223"
          ],
          [
           53.4905,
           "DMU 1224"
          ],
          [
           30.0449,
           "DMU 1227"
          ],
          [
           47.8941,
           "DMU 1228"
          ],
          [
           31.1876,
           "DMU 1229"
          ],
          [
           11.0678,
           "DMU 1230"
          ],
          [
           54.2275,
           "DMU 1232"
          ],
          [
           52.5328,
           "DMU 1233"
          ],
          [
           24.9277,
           "DMU 1234"
          ],
          [
           11.6583,
           "DMU 1235"
          ],
          [
           30.8148,
           "DMU 1236"
          ],
          [
           51.3502,
           "DMU 1237"
          ],
          [
           54.2424,
           "DMU 1239"
          ],
          [
           53.7542,
           "DMU 1242"
          ],
          [
           50.2276,
           "DMU 1243"
          ],
          [
           53.7278,
           "DMU 1244"
          ],
          [
           11.5459,
           "DMU 1246"
          ],
          [
           48.4479,
           "DMU 1247"
          ],
          [
           44.7783,
           "DMU 1248"
          ],
          [
           18.5858,
           "DMU 1249"
          ],
          [
           36.8165,
           "DMU 1250"
          ],
          [
           48.3769,
           "DMU 1254"
          ],
          [
           23.9684,
           "DMU 1258"
          ],
          [
           23.4016,
           "DMU 1264"
          ],
          [
           39.0984,
           "DMU 1267"
          ],
          [
           53.5048,
           "DMU 1268"
          ],
          [
           13.2159,
           "DMU 1269"
          ],
          [
           55.946,
           "DMU 1281"
          ],
          [
           53.6993,
           "DMU 1283"
          ],
          [
           52.1214,
           "DMU 1284"
          ],
          [
           21.6706,
           "DMU 1287"
          ],
          [
           46.3977,
           "DMU 1289"
          ],
          [
           44.7739,
           "DMU 1290"
          ],
          [
           24.397,
           "DMU 1291"
          ],
          [
           47.5622,
           "DMU 1292"
          ],
          [
           44.4558,
           "DMU 1294"
          ],
          [
           46.6216,
           "DMU 1296"
          ],
          [
           31.3561,
           "DMU 1303"
          ],
          [
           53.2484,
           "DMU 1305"
          ],
          [
           49.0448,
           "DMU 1306"
          ],
          [
           49.1186,
           "DMU 1310"
          ],
          [
           25.1416,
           "DMU 1312"
          ],
          [
           11.6834,
           "DMU 1316"
          ],
          [
           13.8823,
           "DMU 1322"
          ],
          [
           20.6253,
           "DMU 1324"
          ],
          [
           18.8601,
           "DMU 1325"
          ],
          [
           37.4251,
           "DMU 1332"
          ],
          [
           50.6161,
           "DMU 1333"
          ],
          [
           46.2785,
           "DMU 1335"
          ],
          [
           50.5352,
           "DMU 1336"
          ],
          [
           12.4016,
           "DMU 1347"
          ],
          [
           10.0095,
           "DMU 1348"
          ],
          [
           28.4656,
           "DMU 1351"
          ],
          [
           12.0416,
           "DMU 1352"
          ],
          [
           41.6163,
           "DMU 1353"
          ],
          [
           12.0686,
           "DMU 1357"
          ],
          [
           18.1718,
           "DMU 1359"
          ],
          [
           53.6533,
           "DMU 1364"
          ],
          [
           34.322,
           "DMU 1367"
          ],
          [
           25.2106,
           "DMU 1368"
          ],
          [
           38.1584,
           "DMU 1369"
          ],
          [
           35.0091,
           "DMU 1370"
          ],
          [
           14.8895,
           "DMU 1371"
          ],
          [
           45.5911,
           "DMU 1372"
          ],
          [
           45.3343,
           "DMU 1373"
          ],
          [
           26.659,
           "DMU 1376"
          ],
          [
           16.8253,
           "DMU 1379"
          ],
          [
           47.8999,
           "DMU 1381"
          ],
          [
           10.1087,
           "DMU 1383"
          ],
          [
           27.5686,
           "DMU 1384"
          ],
          [
           24.2804,
           "DMU 1386"
          ],
          [
           11.9536,
           "DMU 1387"
          ],
          [
           34.7056,
           "DMU 1391"
          ],
          [
           57.1522,
           "DMU 1393"
          ],
          [
           31.5683,
           "DMU 1394"
          ],
          [
           46.483,
           "DMU 1395"
          ],
          [
           32.0366,
           "DMU 1397"
          ],
          [
           11.3896,
           "DMU 1401"
          ],
          [
           19.5718,
           "DMU 1402"
          ],
          [
           31.2219,
           "DMU 1405"
          ],
          [
           50.7845,
           "DMU 1406"
          ],
          [
           57.3911,
           "DMU 1407"
          ],
          [
           18.8819,
           "DMU 1408"
          ],
          [
           60.8032,
           "DMU 1409"
          ],
          [
           53.7992,
           "DMU 1411"
          ],
          [
           32.2381,
           "DMU 1412"
          ],
          [
           12.1647,
           "DMU 1413"
          ],
          [
           34.6218,
           "DMU 1420"
          ],
          [
           33.397,
           "DMU 1422"
          ],
          [
           17.7047,
           "DMU 1424"
          ],
          [
           19.0847,
           "DMU 1426"
          ],
          [
           36.5972,
           "DMU 1429"
          ],
          [
           12.577,
           "DMU 1430"
          ],
          [
           40.8,
           "DMU 1437"
          ],
          [
           37.5437,
           "DMU 1438"
          ],
          [
           14.2919,
           "DMU 1443"
          ],
          [
           12.1141,
           "DMU 1449"
          ],
          [
           29.4446,
           "DMU 1450"
          ],
          [
           50.4636,
           "DMU 1467"
          ],
          [
           49.5432,
           "DMU 1468"
          ],
          [
           20.9039,
           "DMU 1469"
          ],
          [
           45.0295,
           "DMU 1470"
          ],
          [
           48.0166,
           "DMU 1472"
          ],
          [
           15.9077,
           "DMU 1474"
          ],
          [
           31.3933,
           "DMU 1476"
          ],
          [
           18.7935,
           "DMU 1477"
          ],
          [
           63.3354,
           "DMU 1479"
          ],
          [
           45.0957,
           "DMU 1481"
          ],
          [
           46.3441,
           "DMU 1483"
          ],
          [
           13.8957,
           "DMU 1485"
          ],
          [
           16.8079,
           "DMU 1487"
          ],
          [
           18.5806,
           "DMU 1490"
          ],
          [
           31.9342,
           "DMU 1496"
          ],
          [
           43.0499,
           "DMU 1497"
          ],
          [
           10.7887,
           "DMU 1498"
          ],
          [
           59.7906,
           "DMU 1499"
          ],
          [
           18.2151,
           "DMU 1500"
          ],
          [
           27.6616,
           "DMU 1502"
          ],
          [
           10.8637,
           "DMU 1503"
          ],
          [
           37.4695,
           "DMU 1504"
          ],
          [
           23.7475,
           "DMU 1506"
          ],
          [
           23.5659,
           "DMU 1508"
          ],
          [
           26.2013,
           "DMU 1509"
          ],
          [
           33.6952,
           "DMU 1510"
          ],
          [
           40.1594,
           "DMU 1511"
          ],
          [
           12.1932,
           "DMU 1514"
          ],
          [
           12.5014,
           "DMU 1516"
          ],
          [
           20.9727,
           "DMU 1519"
          ],
          [
           41.5683,
           "DMU 1523"
          ],
          [
           57.2405,
           "DMU 1524"
          ],
          [
           61.5457,
           "DMU 1526"
          ],
          [
           50.2358,
           "DMU 1527"
          ],
          [
           36.4793,
           "DMU 1528"
          ],
          [
           27.9486,
           "DMU 1530"
          ],
          [
           55.0691,
           "DMU 1531"
          ],
          [
           28.5105,
           "DMU 1532"
          ],
          [
           57.2279,
           "DMU 1533"
          ],
          [
           41.5047,
           "DMU 1534"
          ],
          [
           15.0188,
           "DMU 1535"
          ],
          [
           34.5802,
           "DMU 1536"
          ],
          [
           27.4216,
           "DMU 1537"
          ],
          [
           25.6895,
           "DMU 1538"
          ],
          [
           48.5172,
           "DMU 1539"
          ],
          [
           46.8978,
           "DMU 1541"
          ],
          [
           45.2718,
           "DMU 1542"
          ],
          [
           30.2904,
           "DMU 1543"
          ],
          [
           24.6568,
           "DMU 1544"
          ],
          [
           58.2994,
           "DMU 1545"
          ],
          [
           20.185,
           "DMU 1546"
          ],
          [
           52.7306,
           "DMU 1547"
          ],
          [
           53.6192,
           "DMU 1548"
          ],
          [
           51.6728,
           "DMU 1549"
          ],
          [
           56.6014,
           "DMU 1551"
          ],
          [
           33.5083,
           "DMU 1552"
          ],
          [
           20.3405,
           "DMU 1553"
          ],
          [
           38.0252,
           "DMU 1554"
          ],
          [
           53.4965,
           "DMU 1555"
          ],
          [
           25.8549,
           "DMU 1556"
          ],
          [
           48.2474,
           "DMU 1559"
          ],
          [
           23.6936,
           "DMU 1562"
          ],
          [
           17.7473,
           "DMU 1565"
          ],
          [
           31.967,
           "DMU 1566"
          ],
          [
           51.427,
           "DMU 1567"
          ],
          [
           50.3384,
           "DMU 1568"
          ],
          [
           48.5489,
           "DMU 1569"
          ],
          [
           63.9115,
           "DMU 1570"
          ],
          [
           32.7268,
           "DMU 1574"
          ],
          [
           51.458,
           "DMU 1576"
          ],
          [
           27.9791,
           "DMU 1579"
          ],
          [
           15.3146,
           "DMU 1580"
          ],
          [
           15.0814,
           "DMU 1581"
          ],
          [
           54.1839,
           "DMU 1583"
          ],
          [
           50.5402,
           "DMU 1584"
          ],
          [
           53.4477,
           "DMU 1585"
          ],
          [
           42.278,
           "DMU 1586"
          ],
          [
           31.7444,
           "DMU 1588"
          ],
          [
           10.2665,
           "DMU 1589"
          ],
          [
           22.8351,
           "DMU 1590"
          ],
          [
           70.2576,
           "DMU 1593"
          ],
          [
           44.2577,
           "DMU 1596"
          ],
          [
           32.6956,
           "DMU 1597"
          ],
          [
           47.6646,
           "DMU 1602"
          ],
          [
           55.5604,
           "DMU 1604"
          ],
          [
           36.0804,
           "DMU 1608"
          ],
          [
           50.8657,
           "DMU 1611"
          ],
          [
           15.2857,
           "DMU 1613"
          ],
          [
           48.7368,
           "DMU 1615"
          ],
          [
           42.602,
           "DMU 1618"
          ],
          [
           13.2874,
           "DMU 1622"
          ],
          [
           11.2357,
           "DMU 1625"
          ],
          [
           17.5981,
           "DMU 1626"
          ],
          [
           55.3314,
           "DMU 1630"
          ],
          [
           14.175,
           "DMU 1632"
          ],
          [
           53.3861,
           "DMU 1634"
          ],
          [
           47.2501,
           "DMU 1635"
          ],
          [
           48.0634,
           "DMU 1637"
          ],
          [
           18.5835,
           "DMU 1639"
          ],
          [
           17.9759,
           "DMU 1640"
          ],
          [
           30.9482,
           "DMU 1643"
          ],
          [
           21.8422,
           "DMU 1645"
          ],
          [
           13.0747,
           "DMU 1646"
          ],
          [
           62.1882,
           "DMU 1648"
          ],
          [
           49.6526,
           "DMU 1649"
          ],
          [
           47.7319,
           "DMU 1653"
          ],
          [
           11.7999,
           "DMU 1654"
          ],
          [
           21.6954,
           "DMU 1655"
          ],
          [
           21.1118,
           "DMU 1656"
          ],
          [
           17.7215,
           "DMU 1660"
          ],
          [
           21.0418,
           "DMU 1663"
          ],
          [
           17.3774,
           "DMU 1664"
          ],
          [
           14.8069,
           "DMU 1666"
          ],
          [
           17.333,
           "DMU 1667"
          ],
          [
           29.2944,
           "DMU 1668"
          ],
          [
           46.8985,
           "DMU 1669"
          ],
          [
           53.2139,
           "DMU 1670"
          ],
          [
           17.4876,
           "DMU 1671"
          ],
          [
           62.291,
           "DMU 1672"
          ],
          [
           47.8892,
           "DMU 1673"
          ],
          [
           51.5889,
           "DMU 1678"
          ],
          [
           14.0103,
           "DMU 1680"
          ],
          [
           58.1824,
           "DMU 1681"
          ],
          [
           10.8411,
           "DMU 1682"
          ],
          [
           31.2542,
           "DMU 1685"
          ],
          [
           35.7097,
           "DMU 1688"
          ],
          [
           13.5978,
           "DMU 1689"
          ],
          [
           16.4579,
           "DMU 1694"
          ],
          [
           29.491,
           "DMU 1695"
          ],
          [
           48.4172,
           "DMU 1699"
          ],
          [
           29.2572,
           "DMU 1702"
          ],
          [
           49.1113,
           "DMU 1703"
          ],
          [
           34.7677,
           "DMU 1704"
          ],
          [
           47.3287,
           "DMU 1705"
          ],
          [
           57.3927,
           "DMU 1706"
          ],
          [
           77.6352,
           "DMU 1708"
          ],
          [
           36.1088,
           "DMU 1709"
          ],
          [
           54.0246,
           "DMU 1712"
          ],
          [
           24.3312,
           "DMU 1713"
          ],
          [
           10.0351,
           "DMU 1714"
          ],
          [
           59.6871,
           "DMU 1715"
          ],
          [
           11.4011,
           "DMU 1716"
          ],
          [
           10.8584,
           "DMU 1718"
          ],
          [
           11.1442,
           "DMU 1719"
          ],
          [
           45.6198,
           "DMU 1720"
          ],
          [
           54.9325,
           "DMU 1725"
          ],
          [
           23.7617,
           "DMU 1727"
          ],
          [
           22.9547,
           "DMU 1728"
          ],
          [
           37.7233,
           "DMU 1731"
          ],
          [
           12.7466,
           "DMU 1732"
          ]
         ],
         "hovertemplate": "Diff_Perc < 10=False<br>Efficiency_Scores_Basic=%{x}<br>Efficiency_Scores_with_ML=%{y}<br>Diff_Perc=%{customdata[0]}<br>index=%{customdata[1]}<extra></extra>",
         "legendgroup": "False",
         "line": {
          "color": "lightgreen",
          "width": 3
         },
         "marker": {
          "color": "red",
          "symbol": "circle"
         },
         "mode": "markers",
         "name": "False",
         "showlegend": true,
         "type": "scattergl",
         "x": [
          0.7213,
          0.7398,
          0.7926,
          0.2998,
          0.2618,
          0.2666,
          0.7055,
          0.6755,
          0.6513,
          0.5604,
          0.5684,
          0.6919,
          0.6966,
          0.7045,
          0.7555,
          0.7103,
          0.7182,
          1,
          0.6927,
          0.5595,
          0.7536,
          0.7211,
          0.5563,
          0.6256,
          0.3006,
          0.6512,
          0.708,
          0.7482,
          0.7336,
          0.6523,
          0.7352,
          0.7179,
          0.7008,
          0.6913,
          0.7563,
          0.7384,
          0.7285,
          0.7579,
          0.779,
          0.8045,
          0.8357,
          0.5397,
          0.7923,
          0.8035,
          0.7206,
          0.641,
          0.7451,
          0.7007,
          0.6648,
          0.7305,
          0.7451,
          0.715,
          0.7368,
          0.7698,
          0.4999,
          0.7359,
          0.5636,
          0.7269,
          0.6253,
          0.2712,
          1,
          0.6781,
          0.7592,
          0.7128,
          0.7279,
          0.8437,
          0.7465,
          0.7186,
          0.5669,
          0.7096,
          0.2689,
          0.3104,
          0.4923,
          0.5496,
          0.4012,
          0.4457,
          0.4178,
          0.3946,
          0.5164,
          0.3677,
          0.3212,
          0.2588,
          0.3532,
          0.5266,
          0.3657,
          0.3896,
          0.4509,
          0.2959,
          0.3506,
          0.3264,
          0.75,
          0.3548,
          0.2541,
          0.4666,
          0.4926,
          1,
          0.2829,
          0.5181,
          0.3879,
          0.3121,
          0.2755,
          0.3954,
          0.2537,
          0.3715,
          0.2663,
          0.5085,
          0.4785,
          0.4655,
          0.3693,
          0.4695,
          0.4231,
          0.5458,
          0.489,
          0.5301,
          0.2672,
          0.4823,
          0.2721,
          0.2561,
          0.2493,
          0.4691,
          0.302,
          0.5423,
          1,
          0.4534,
          0.2483,
          0.2625,
          0.3216,
          0.9931,
          0.2928,
          0.2485,
          0.4814,
          0.4457,
          0.461,
          0.456,
          0.4227,
          0.5129,
          0.4708,
          0.2792,
          0.4548,
          0.4892,
          0.4885,
          0.4871,
          0.3468,
          0.4272,
          0.3982,
          0.2621,
          0.4435,
          0.4563,
          0.4603,
          0.2846,
          0.2511,
          0.5655,
          0.4556,
          0.5575,
          0.6645,
          0.5272,
          0.4766,
          0.5121,
          0.4293,
          0.4799,
          0.2671,
          0.4083,
          0.4691,
          0.4689,
          0.4768,
          0.2733,
          0.5209,
          0.4847,
          0.3942,
          0.4817,
          0.2705,
          0.6027,
          0.4836,
          0.4655,
          0.5318,
          0.5783,
          0.5304,
          0.526,
          0.2998,
          0.2537,
          0.2979,
          0.4208,
          0.5205,
          0.4241,
          0.4674,
          0.4854,
          0.4576,
          0.4514,
          0.319,
          0.5099,
          0.3329,
          0.365,
          0.3681,
          0.75,
          0.2763,
          0.3917,
          0.4856,
          0.602,
          0.2748,
          0.2797,
          0.5398,
          0.3779,
          0.2534,
          0.3805,
          0.349,
          0.3268,
          0.4425,
          0.5051,
          0.3729,
          0.64,
          0.2543,
          0.2796,
          0.4415,
          0.2581,
          0.2629,
          0.3434,
          0.4476,
          0.4492,
          0.5398,
          0.4739,
          0.5748,
          0.5862,
          0.2953,
          0.512,
          0.2495,
          0.5256,
          0.5528,
          0.3819,
          0.5869,
          0.5988,
          0.5737,
          0.5818,
          0.5935,
          0.9247,
          0.2528,
          0.5202,
          0.4482,
          0.2677,
          0.3261,
          0.585,
          0.5576,
          0.4853,
          0.5883,
          0.4717,
          0.2697,
          0.3718,
          0.265,
          0.3945,
          0.3168,
          0.4233,
          0.4996,
          0.2676,
          0.5728,
          0.6435,
          0.3798,
          0.32,
          0.2977,
          0.3894,
          0.38,
          0.8769,
          1,
          0.4776,
          0.3699,
          0.4166,
          0.4427,
          0.4152,
          0.4331,
          0.3744,
          0.6552,
          0.4129,
          0.2678,
          0.4516,
          0.323,
          0.4205,
          0.5347,
          0.4645,
          0.3858,
          0.6746,
          0.3145,
          0.4312,
          0.3783,
          0.4142,
          0.3612,
          0.4544,
          0.3186,
          0.2618,
          0.4045,
          0.3549,
          0.3996,
          0.3162,
          0.43,
          0.6058,
          0.3758,
          0.5261,
          0.5527,
          0.7487,
          0.9481,
          0.5688,
          0.4056,
          0.3534,
          0.2705,
          0.7256,
          0.5509,
          0.3976,
          0.3025,
          0.3196,
          0.4953,
          0.7317,
          0.5722,
          0.5054,
          0.2589,
          0.2921,
          0.6669,
          0.3064,
          0.6004,
          0.6883,
          0.4582,
          0.3951,
          0.3243,
          0.4003,
          0.4475,
          0.4135,
          0.3386,
          0.2772,
          0.3492,
          0.4332,
          0.3402,
          0.3617,
          0.4346,
          0.6183,
          0.3413,
          0.4281,
          0.5724,
          1,
          0.4225,
          0.3913,
          0.3851,
          0.3085,
          0.5601,
          0.3738,
          0.3828,
          0.3133,
          0.3334,
          0.2832,
          0.395,
          0.2971,
          0.2739,
          0.421,
          0.5465,
          0.3475,
          0.3253,
          0.75,
          0.498,
          0.377,
          0.4214,
          0.4028,
          0.2743,
          0.3129,
          0.3055,
          0.3152,
          0.7489,
          1,
          0.3563,
          0.5578,
          1,
          0.3937,
          0.3068,
          0.2658,
          0.5594,
          0.447,
          0.3896,
          0.5779,
          0.6144,
          0.3402,
          0.434,
          0.5544,
          0.5314,
          0.259,
          0.3131,
          0.4931,
          0.3197,
          1,
          0.3196,
          0.3849,
          0.3294,
          0.3056,
          0.4071,
          0.2658,
          0.3646,
          0.328,
          0.4723,
          0.253,
          0.3935,
          0.5595,
          0.2854,
          0.6286,
          0.6619,
          0.3221,
          0.2633,
          0.45,
          0.5318,
          0.4748,
          0.5116,
          0.5377,
          0.2727,
          0.4879,
          0.4193,
          0.6686,
          0.8062,
          0.4329,
          0.602,
          0.3248,
          0.575,
          0.4256,
          0.9142,
          0.5636,
          0.4348,
          0.5896,
          0.6298,
          0.5799,
          0.4571,
          0.2711,
          0.7499,
          0.4477,
          0.5599,
          0.4111,
          0.5857,
          0.4454,
          0.6739,
          0.4182,
          0.8525,
          0.4765,
          0.33,
          0.7057,
          0.2759,
          0.4543,
          0.4521,
          0.5322,
          0.3429,
          0.5653,
          0.6046,
          0.5754,
          0.4929,
          0.3677,
          0.3537,
          0.4007,
          0.6201,
          0.2745,
          0.5609,
          0.5066,
          0.3771,
          0.4004,
          0.6458,
          0.5433,
          0.4833,
          0.3995,
          0.3015,
          0.5534,
          0.5751,
          0.5001,
          0.4201,
          0.6235,
          0.5639,
          0.312,
          0.4169,
          0.3269,
          0.4048,
          0.483,
          0.4188,
          0.5398,
          0.2625,
          0.2972,
          0.4663,
          0.3144,
          0.4013,
          0.2575,
          0.3435,
          0.993,
          0.6397,
          0.3878,
          0.4828,
          0.7057,
          0.311,
          0.3132,
          0.5771,
          0.2738,
          0.2715,
          0.4394,
          0.6333,
          0.2951,
          0.2911,
          0.5634,
          0.2695,
          0.5188,
          0.5657,
          0.7075,
          0.2788,
          0.3166,
          0.327,
          0.601,
          0.3497,
          0.6789,
          0.5155,
          0.4293,
          0.2543,
          0.3988,
          0.4319,
          0.4303,
          0.3026,
          0.3242,
          0.3907,
          0.4839,
          0.2882,
          0.5744,
          0.6753,
          0.5658,
          0.5524,
          0.6067,
          0.5855,
          0.548,
          0.6395,
          0.5629,
          0.5507,
          0.6267,
          0.55,
          0.553,
          0.3282,
          0.5561,
          0.2633,
          0.3313,
          0.56,
          0.4098,
          0.6258,
          0.5747,
          0.5476,
          0.6636,
          0.5763,
          0.5218,
          0.6102,
          0.4776,
          0.7603,
          0.3369,
          0.51,
          0.3508,
          0.2537,
          0.608,
          0.6241,
          0.3579,
          0.5757,
          0.6076,
          1,
          1,
          1,
          0.2481,
          0.3806,
          0.555,
          0.4105,
          0.5467,
          1,
          0.3714,
          0.4991,
          0.2663,
          0.3995,
          0.3275,
          0.4755,
          0.4918,
          0.2573,
          0.4643,
          0.2519,
          0.4381,
          0.2515,
          0.4947,
          0.4763,
          0.4604,
          0.4314,
          0.3816,
          0.4227,
          0.3349,
          0.7082,
          0.3087,
          0.3407,
          0.5099,
          0.426,
          0.3044,
          0.274,
          0.2922,
          0.5848,
          0.3074,
          0.4274,
          0.2733,
          0.4121,
          0.5526,
          0.4796,
          0.3212,
          0.4885,
          0.2806,
          0.525,
          0.5189,
          0.4732,
          0.3904,
          0.4839,
          0.318,
          0.431,
          0.3267,
          0.5254,
          0.4917,
          0.474,
          0.7729,
          0.5558,
          0.3206,
          0.4735,
          0.4938,
          0.487,
          1,
          0.4866,
          0.2524,
          0.4352,
          0.4078,
          0.2736,
          0.356,
          0.4352,
          0.2955,
          0.2923,
          0.3663,
          0.4843,
          0.2613,
          0.5098,
          0.4862,
          0.4717,
          0.2866,
          0.4144,
          0.4058,
          0.6505,
          0.9563,
          0.8859,
          0.9217,
          0.3237,
          0.4817,
          0.9028,
          0.9682,
          0.2959,
          0.2934,
          0.5696,
          0.2889,
          0.2732,
          0.3596,
          0.4503,
          0.4201,
          0.4495,
          0.2536,
          0.5458,
          0.3153,
          0.2762,
          0.3856,
          0.5587,
          0.4574,
          0.4883,
          0.3833,
          0.3105,
          0.3669,
          0.3461,
          0.5769,
          0.4144,
          0.4111,
          0.3058,
          0.2713,
          0.433,
          0.2479,
          0.3116,
          0.2937,
          0.2558,
          0.341,
          0.5274,
          0.326,
          0.4211,
          0.3311,
          0.2511,
          0.2765,
          0.3272,
          1,
          0.5235,
          0.6068,
          0.576,
          0.4862,
          0.3283,
          0.2743,
          0.6924,
          0.3384,
          0.9406,
          0.6082,
          0.3508,
          0.8163,
          0.3759,
          0.3605,
          0.5738,
          0.5644,
          0.6414,
          0.4544,
          0.4462,
          0.3151,
          0.41,
          0.4314,
          0.3554,
          0.4115,
          0.5718,
          0.6139,
          0.4725,
          1,
          0.3621,
          0.2678,
          0.603,
          0.3979,
          0.4047,
          0.2505,
          0.558,
          0.6079,
          0.311,
          0.5522,
          0.3562,
          0.6446,
          0.6433,
          0.7063,
          0.3384,
          0.3754,
          0.2529,
          0.2539,
          0.2855,
          0.3847,
          0.529,
          0.5864,
          0.4468,
          0.356,
          0.309,
          0.5009,
          0.3154,
          0.5243,
          0.3857,
          0.2652,
          0.3943,
          0.3105,
          0.3038,
          0.4366,
          0.4246,
          0.4104,
          0.319,
          0.2954,
          0.5386,
          0.2822,
          0.4768,
          0.4846,
          0.4658,
          0.518,
          0.3388,
          0.2798,
          0.3631,
          0.4824,
          0.3032,
          0.4351,
          0.2994,
          0.2709,
          0.3317,
          0.463,
          0.4555,
          0.4381,
          0.6248,
          0.3357,
          0.4584,
          0.3089,
          0.2655,
          0.2654,
          0.4913,
          0.4555,
          0.482,
          0.386,
          0.329,
          0.2479,
          0.2884,
          0.7498,
          0.4049,
          0.3354,
          0.4298,
          0.5057,
          0.3522,
          0.4581,
          0.5796,
          0.4388,
          0.8319,
          0.2836,
          0.5532,
          0.2869,
          0.5063,
          0.2733,
          0.5016,
          0.4282,
          0.4343,
          0.6036,
          0.5985,
          0.3219,
          0.6289,
          0.5648,
          0.6007,
          0.4505,
          0.4253,
          0.5567,
          0.5738,
          0.3352,
          0.5979,
          0.6551,
          0.5955,
          0.5772,
          0.8744,
          0.695,
          0.4233,
          0.4792,
          0.2766,
          0.5943,
          0.8751,
          0.4639,
          0.2908,
          0.5366,
          0.4883,
          0.3281,
          0.3541,
          0.5683,
          0.3847,
          0.7442,
          0.4364,
          0.3222,
          0.444,
          0.4785,
          0.4304,
          0.5282,
          1,
          0.3508,
          0.5091,
          0.2973,
          0.2617,
          0.557,
          0.5718,
          0.2497,
          0.2535,
          0.4144,
          0.498,
          0.8555,
          0.8275,
          0.3572,
          0.5633
         ],
         "xaxis": "x",
         "y": [
          0.491,
          0.491,
          0.4913,
          0.2258,
          0.2226,
          0.2227,
          0.4909,
          0.4913,
          0.4905,
          0.4914,
          0.4932,
          0.4909,
          0.4907,
          0.491,
          0.4912,
          0.4908,
          0.4911,
          0.5696,
          0.4911,
          0.4922,
          0.4911,
          0.4909,
          0.4922,
          0.4927,
          0.2229,
          0.4908,
          0.4908,
          0.4911,
          0.4909,
          0.4913,
          0.4909,
          0.4908,
          0.491,
          0.4908,
          0.4911,
          0.491,
          0.491,
          0.4912,
          0.4912,
          0.4914,
          0.4915,
          0.3315,
          0.4912,
          0.4912,
          0.491,
          0.4503,
          0.491,
          0.4907,
          0.493,
          0.4909,
          0.491,
          0.491,
          0.491,
          0.4911,
          0.4469,
          0.4909,
          0.4898,
          0.4909,
          0.4923,
          0.2254,
          0.2292,
          0.4909,
          0.491,
          0.4908,
          0.491,
          0.4913,
          0.491,
          0.4912,
          0.4892,
          0.4909,
          0.2218,
          0.2223,
          0.2577,
          0.4911,
          0.2253,
          0.2228,
          0.2225,
          0.2226,
          0.394,
          0.225,
          0.2255,
          0.2255,
          0.2247,
          0.2231,
          0.2248,
          0.2252,
          0.2257,
          0.225,
          0.2326,
          0.2241,
          0.2229,
          0.2241,
          0.2226,
          0.224,
          0.2251,
          0.7216,
          0.2224,
          0.2249,
          0.2223,
          0.2229,
          0.2229,
          0.2259,
          0.2229,
          0.2252,
          0.2223,
          0.2252,
          0.2225,
          0.2225,
          0.2121,
          0.2225,
          0.224,
          0.2244,
          0.225,
          0.2243,
          0.2226,
          0.2225,
          0.2221,
          0.2296,
          0.2221,
          0.2225,
          0.2222,
          0.2246,
          0.4916,
          0.2247,
          0.2228,
          0.2225,
          0.2227,
          0.8916,
          0.2224,
          0.2225,
          0.2249,
          0.2222,
          0.2224,
          0.2225,
          0.2255,
          0.2254,
          0.2225,
          0.2252,
          0.2224,
          0.2125,
          0.2123,
          0.2117,
          0.2226,
          0.2256,
          0.224,
          0.2225,
          0.2224,
          0.2225,
          0.2224,
          0.2225,
          0.2226,
          0.2241,
          0.2225,
          0.2246,
          0.2243,
          0.2247,
          0.2252,
          0.2253,
          0.3558,
          0.2225,
          0.2253,
          0.2185,
          0.2224,
          0.225,
          0.2226,
          0.2252,
          0.2249,
          0.2247,
          0.2225,
          0.2249,
          0.2221,
          0.2246,
          0.2251,
          0.2225,
          0.2245,
          0.2243,
          0.2245,
          0.2236,
          0.2225,
          0.2223,
          0.2224,
          0.2222,
          0.224,
          0.2221,
          0.2221,
          0.2249,
          0.2252,
          0.2185,
          0.2223,
          0.2246,
          0.2229,
          0.2224,
          0.2247,
          0.2229,
          0.2222,
          0.3061,
          0.2249,
          0.2244,
          0.2225,
          0.2222,
          0.2246,
          0.224,
          0.2252,
          0.2219,
          0.2412,
          0.2229,
          0.2247,
          0.2255,
          0.2253,
          0.4914,
          0.2252,
          0.2253,
          0.2281,
          0.2303,
          0.2302,
          0.2248,
          0.23,
          0.2251,
          0.2248,
          0.2252,
          0.4911,
          0.491,
          0.2225,
          0.4523,
          0.2221,
          0.4132,
          0.491,
          0.2226,
          0.491,
          0.4313,
          0.491,
          0.491,
          0.491,
          0.3605,
          0.2224,
          0.449,
          0.2221,
          0.2226,
          0.2247,
          0.4796,
          0.4474,
          0.2251,
          0.491,
          0.2257,
          0.2223,
          0.2252,
          0.2207,
          0.2926,
          0.2376,
          0.224,
          0.2386,
          0.2221,
          0.4675,
          0.4916,
          0.2251,
          0.2226,
          0.2257,
          0.2655,
          0.225,
          0.7581,
          0.515,
          0.2263,
          0.2264,
          0.2265,
          0.2247,
          0.2243,
          0.2252,
          0.2241,
          0.2243,
          0.2262,
          0.2354,
          0.2245,
          0.2229,
          0.2253,
          0.2245,
          0.2246,
          0.2295,
          0.4989,
          0.2248,
          0.2257,
          0.2252,
          0.2267,
          0.227,
          0.2251,
          0.259,
          0.2335,
          0.2269,
          0.2253,
          0.2252,
          0.2249,
          0.2261,
          0.4493,
          0.2251,
          0.2254,
          0.4911,
          0.4919,
          0.8449,
          0.4911,
          0.3423,
          0.223,
          0.2228,
          0.5497,
          0.4913,
          0.2268,
          0.2294,
          0.223,
          0.2243,
          0.4917,
          0.4916,
          0.4187,
          0.2227,
          0.2229,
          0.5679,
          0.247,
          0.4962,
          0.4949,
          0.3137,
          0.3343,
          0.2251,
          0.2251,
          0.2254,
          0.222,
          0.2224,
          0.2221,
          0.2226,
          0.2255,
          0.2225,
          0.2252,
          0.2231,
          0.4924,
          0.2253,
          0.2245,
          0.4666,
          0.2232,
          0.2255,
          0.2224,
          0.2237,
          0.2252,
          0.4916,
          0.2251,
          0.225,
          0.2254,
          0.2251,
          0.2251,
          0.2221,
          0.225,
          0.2444,
          0.2278,
          0.2916,
          0.2227,
          0.225,
          0.223,
          0.2268,
          0.3001,
          0.2254,
          0.2252,
          0.2254,
          0.2251,
          0.2701,
          0.2254,
          0.462,
          0.3812,
          0.2252,
          0.4911,
          0.3208,
          0.2264,
          0.271,
          0.2385,
          0.4911,
          0.2232,
          0.3079,
          0.4447,
          0.4913,
          0.2724,
          0.2256,
          0.4911,
          0.3139,
          0.2227,
          0.2227,
          0.2803,
          0.2225,
          0.2717,
          0.2223,
          0.2255,
          0.2254,
          0.2254,
          0.2224,
          0.2229,
          0.2231,
          0.2231,
          0.2245,
          0.2227,
          0.2264,
          0.2248,
          0.2322,
          0.2242,
          0.2244,
          0.2225,
          0.2285,
          0.2272,
          0.2663,
          0.2243,
          0.2337,
          0.4479,
          0.223,
          0.2237,
          0.2247,
          0.4497,
          0.6255,
          0.2246,
          0.2242,
          0.2216,
          0.491,
          0.227,
          0.2729,
          0.2245,
          0.2265,
          0.3258,
          0.4911,
          0.4909,
          0.2254,
          0.2232,
          0.2221,
          0.226,
          0.4935,
          0.2254,
          0.3737,
          0.2937,
          0.4918,
          0.225,
          0.4543,
          0.2247,
          0.2718,
          0.492,
          0.2222,
          0.2242,
          0.2242,
          0.2242,
          0.225,
          0.2251,
          0.4924,
          0.4928,
          0.2253,
          0.225,
          0.2587,
          0.2225,
          0.4921,
          0.2226,
          0.497,
          0.2241,
          0.2254,
          0.2231,
          0.4917,
          0.2234,
          0.3001,
          0.3517,
          0.2227,
          0.4926,
          0.4928,
          0.2251,
          0.2255,
          0.4921,
          0.4922,
          0.2265,
          0.2344,
          0.2366,
          0.2261,
          0.2219,
          0.2307,
          0.2242,
          0.2333,
          0.2226,
          0.3359,
          0.2225,
          0.2206,
          0.225,
          0.2671,
          0.876,
          0.4787,
          0.2277,
          0.3753,
          0.4041,
          0.233,
          0.2253,
          0.4491,
          0.2221,
          0.2326,
          0.2263,
          0.4921,
          0.2395,
          0.2229,
          0.4487,
          0.2225,
          0.4474,
          0.4491,
          0.4904,
          0.2384,
          0.2224,
          0.2254,
          0.2242,
          0.2227,
          0.4921,
          0.2251,
          0.2256,
          0.2221,
          0.2252,
          0.2254,
          0.2254,
          0.2218,
          0.2249,
          0.2253,
          0.2256,
          0.2557,
          0.4925,
          0.5414,
          0.4924,
          0.4918,
          0.5129,
          0.4918,
          0.4921,
          0.5174,
          0.4917,
          0.4917,
          0.5158,
          0.4918,
          0.4918,
          0.2893,
          0.4919,
          0.2246,
          0.2224,
          0.493,
          0.2287,
          0.4661,
          0.5089,
          0.4908,
          0.5211,
          0.5061,
          0.4495,
          0.4922,
          0.2249,
          0.3661,
          0.2219,
          0.2246,
          0.2252,
          0.2228,
          0.4659,
          0.4758,
          0.2864,
          0.4475,
          0.4755,
          0.3466,
          0.3932,
          0.2235,
          0.2227,
          0.2768,
          0.4467,
          0.3016,
          0.2566,
          0.4478,
          0.2236,
          0.225,
          0.2233,
          0.2247,
          0.2765,
          0.2251,
          0.2513,
          0.2224,
          0.226,
          0.2241,
          0.2249,
          0.2224,
          0.2945,
          0.225,
          0.2244,
          0.2227,
          0.2246,
          0.2251,
          0.2249,
          0.4192,
          0.2246,
          0.2227,
          0.2244,
          0.2244,
          0.2225,
          0.2222,
          0.2277,
          0.4917,
          0.2255,
          0.2296,
          0.2227,
          0.2253,
          0.2245,
          0.2248,
          0.2255,
          0.2252,
          0.2225,
          0.4497,
          0.2253,
          0.2252,
          0.2247,
          0.225,
          0.2225,
          0.2246,
          0.2248,
          0.4672,
          0.225,
          0.225,
          0.5803,
          0.491,
          0.2218,
          0.2304,
          0.226,
          0.2252,
          0.4977,
          0.2252,
          0.2233,
          0.2244,
          0.2252,
          0.2228,
          0.2249,
          0.2247,
          0.2247,
          0.2239,
          0.2231,
          0.2252,
          0.2267,
          0.2246,
          0.2251,
          0.2258,
          0.2245,
          0.2221,
          0.2241,
          0.4918,
          0.5015,
          0.492,
          0.492,
          0.2222,
          0.2252,
          0.46,
          0.4927,
          0.2215,
          0.2592,
          0.4905,
          0.2293,
          0.2217,
          0.225,
          0.2224,
          0.2257,
          0.2223,
          0.2222,
          0.4912,
          0.2255,
          0.2429,
          0.2251,
          0.4912,
          0.3743,
          0.2263,
          0.2517,
          0.2322,
          0.2269,
          0.2249,
          0.491,
          0.2254,
          0.2247,
          0.2243,
          0.2256,
          0.2256,
          0.2229,
          0.2257,
          0.2224,
          0.2253,
          0.2226,
          0.226,
          0.2231,
          0.2254,
          0.225,
          0.2225,
          0.2224,
          0.225,
          0.4922,
          0.223,
          0.4922,
          0.2258,
          0.2246,
          0.2225,
          0.2409,
          0.4527,
          0.2254,
          0.7741,
          0.4922,
          0.2224,
          0.7136,
          0.2225,
          0.2251,
          0.4918,
          0.496,
          0.4525,
          0.2251,
          0.2251,
          0.2492,
          0.2254,
          0.2243,
          0.2989,
          0.2823,
          0.4644,
          0.2251,
          0.2594,
          0.5366,
          0.3118,
          0.2228,
          0.4909,
          0.2708,
          0.2305,
          0.2234,
          0.2244,
          0.4971,
          0.2249,
          0.4922,
          0.2227,
          0.4916,
          0.4917,
          0.5212,
          0.2244,
          0.2246,
          0.2221,
          0.2221,
          0.2256,
          0.2248,
          0.2262,
          0.2255,
          0.2223,
          0.2261,
          0.2226,
          0.2251,
          0.2255,
          0.2243,
          0.2256,
          0.2254,
          0.2579,
          0.2253,
          0.2257,
          0.2248,
          0.2255,
          0.2246,
          0.2224,
          0.2226,
          0.2246,
          0.2253,
          0.2254,
          0.2247,
          0.2251,
          0.2248,
          0.2253,
          0.2229,
          0.225,
          0.2243,
          0.2248,
          0.2252,
          0.2285,
          0.2228,
          0.2256,
          0.2249,
          0.2262,
          0.2254,
          0.2255,
          0.2258,
          0.2225,
          0.2225,
          0.2249,
          0.2253,
          0.2251,
          0.2253,
          0.2244,
          0.2228,
          0.2246,
          0.2225,
          0.2225,
          0.223,
          0.2257,
          0.2257,
          0.2249,
          0.2247,
          0.2251,
          0.2251,
          0.491,
          0.2249,
          0.4775,
          0.2459,
          0.491,
          0.2364,
          0.2262,
          0.2346,
          0.2338,
          0.2259,
          0.2256,
          0.4914,
          0.4909,
          0.2223,
          0.4915,
          0.491,
          0.2271,
          0.2268,
          0.2223,
          0.491,
          0.4494,
          0.2644,
          0.4919,
          0.5173,
          0.492,
          0.4917,
          0.7228,
          0.4914,
          0.2248,
          0.2242,
          0.2282,
          0.2241,
          0.456,
          0.2246,
          0.2501,
          0.2244,
          0.4354,
          0.2256,
          0.2276,
          0.491,
          0.3214,
          0.5248,
          0.2251,
          0.2279,
          0.2259,
          0.3121,
          0.2267,
          0.2251,
          0.2236,
          0.2241,
          0.234,
          0.2249,
          0.2355,
          0.2246,
          0.5066,
          0.2226,
          0.2252,
          0.2254,
          0.2244,
          0.6522,
          0.6375,
          0.2225,
          0.4915
         ],
         "yaxis": "y"
        },
        {
         "customdata": [
          [
           7.1017,
           "DMU 0002"
          ],
          [
           9.4675,
           "DMU 0005"
          ],
          [
           1.2379,
           "DMU 0017"
          ],
          [
           2.3901,
           "DMU 0032"
          ],
          [
           6.35,
           "DMU 0037"
          ],
          [
           7.8293,
           "DMU 0041"
          ],
          [
           6.5407,
           "DMU 0053"
          ],
          [
           2.9563,
           "DMU 0060"
          ],
          [
           3.3297,
           "DMU 0065"
          ],
          [
           0.4431,
           "DMU 0068"
          ],
          [
           6.2579,
           "DMU 0079"
          ],
          [
           2.793,
           "DMU 0081"
          ],
          [
           6.764,
           "DMU 0087"
          ],
          [
           0,
           "DMU 0088"
          ],
          [
           0.757,
           "DMU 0091"
          ],
          [
           6.5903,
           "DMU 0093"
          ],
          [
           1.0809,
           "DMU 0096"
          ],
          [
           0.9964,
           "DMU 0097"
          ],
          [
           0.4544,
           "DMU 0099"
          ],
          [
           1.2278,
           "DMU 0103"
          ],
          [
           5.4188,
           "DMU 0105"
          ],
          [
           0.4729,
           "DMU 0109"
          ],
          [
           3.976,
           "DMU 0111"
          ],
          [
           6.8583,
           "DMU 0112"
          ],
          [
           4.0735,
           "DMU 0113"
          ],
          [
           5.1722,
           "DMU 0114"
          ],
          [
           4.2955,
           "DMU 0115"
          ],
          [
           2.1083,
           "DMU 0116"
          ],
          [
           0.4508,
           "DMU 0120"
          ],
          [
           1.2986,
           "DMU 0122"
          ],
          [
           3.2744,
           "DMU 0126"
          ],
          [
           4.039,
           "DMU 0128"
          ],
          [
           1.4669,
           "DMU 0132"
          ],
          [
           0.4761,
           "DMU 0137"
          ],
          [
           0.0645,
           "DMU 0140"
          ],
          [
           0.4684,
           "DMU 0142"
          ],
          [
           8.4793,
           "DMU 0152"
          ],
          [
           0.4862,
           "DMU 0154"
          ],
          [
           6.0484,
           "DMU 0155"
          ],
          [
           0.8004,
           "DMU 0156"
          ],
          [
           0.8284,
           "DMU 0157"
          ],
          [
           1.5938,
           "DMU 0158"
          ],
          [
           0.7816,
           "DMU 0160"
          ],
          [
           0.5138,
           "DMU 0162"
          ],
          [
           0.7601,
           "DMU 0165"
          ],
          [
           1.0362,
           "DMU 0166"
          ],
          [
           0.5485,
           "DMU 0167"
          ],
          [
           0.4752,
           "DMU 0168"
          ],
          [
           6.6309,
           "DMU 0169"
          ],
          [
           4.9948,
           "DMU 0172"
          ],
          [
           3.4151,
           "DMU 0173"
          ],
          [
           1.0011,
           "DMU 0175"
          ],
          [
           0.8866,
           "DMU 0177"
          ],
          [
           9.8508,
           "DMU 0178"
          ],
          [
           0.5062,
           "DMU 0181"
          ],
          [
           1.0068,
           "DMU 0185"
          ],
          [
           0.4747,
           "DMU 0186"
          ],
          [
           0.505,
           "DMU 0193"
          ],
          [
           1.9011,
           "DMU 0194"
          ],
          [
           8.2657,
           "DMU 0195"
          ],
          [
           4.5145,
           "DMU 0198"
          ],
          [
           1.0898,
           "DMU 0199"
          ],
          [
           1.0791,
           "DMU 0200"
          ],
          [
           6.6066,
           "DMU 0201"
          ],
          [
           2.0275,
           "DMU 0204"
          ],
          [
           4.7998,
           "DMU 0209"
          ],
          [
           0.1937,
           "DMU 0211"
          ],
          [
           0.3035,
           "DMU 0212"
          ],
          [
           4.89,
           "DMU 0213"
          ],
          [
           0.5605,
           "DMU 0216"
          ],
          [
           0.5511,
           "DMU 0223"
          ],
          [
           0.7102,
           "DMU 0226"
          ],
          [
           0.4787,
           "DMU 0231"
          ],
          [
           4.1413,
           "DMU 0232"
          ],
          [
           0.3766,
           "DMU 0239"
          ],
          [
           7.8922,
           "DMU 0240"
          ],
          [
           0.7197,
           "DMU 0241"
          ],
          [
           0.4673,
           "DMU 0245"
          ],
          [
           0.869,
           "DMU 0246"
          ],
          [
           0.4319,
           "DMU 0247"
          ],
          [
           0.6473,
           "DMU 0248"
          ],
          [
           9.2262,
           "DMU 0249"
          ],
          [
           0.7957,
           "DMU 0250"
          ],
          [
           0.7028,
           "DMU 0251"
          ],
          [
           1.0808,
           "DMU 0253"
          ],
          [
           4.4917,
           "DMU 0254"
          ],
          [
           1.3249,
           "DMU 0259"
          ],
          [
           0.4762,
           "DMU 0260"
          ],
          [
           9.4647,
           "DMU 0263"
          ],
          [
           8.9162,
           "DMU 0265"
          ],
          [
           0.4832,
           "DMU 0268"
          ],
          [
           0.6254,
           "DMU 0271"
          ],
          [
           1.2323,
           "DMU 0279"
          ],
          [
           0.9312,
           "DMU 0281"
          ],
          [
           8.8791,
           "DMU 0282"
          ],
          [
           5.1513,
           "DMU 0283"
          ],
          [
           0.1158,
           "DMU 0284"
          ],
          [
           6.748,
           "DMU 0285"
          ],
          [
           0.6964,
           "DMU 0286"
          ],
          [
           3.157,
           "DMU 0287"
          ],
          [
           0.8339,
           "DMU 0288"
          ],
          [
           1.1027,
           "DMU 0290"
          ],
          [
           5.2406,
           "DMU 0291"
          ],
          [
           5.9796,
           "DMU 0293"
          ],
          [
           0.5247,
           "DMU 0295"
          ],
          [
           0.3828,
           "DMU 0296"
          ],
          [
           3.5654,
           "DMU 0297"
          ],
          [
           0.568,
           "DMU 0298"
          ],
          [
           6.5972,
           "DMU 0299"
          ],
          [
           6.3271,
           "DMU 0300"
          ],
          [
           0.2546,
           "DMU 0311"
          ],
          [
           6.6695,
           "DMU 0312"
          ],
          [
           0.9813,
           "DMU 0314"
          ],
          [
           0.8545,
           "DMU 0315"
          ],
          [
           8.2446,
           "DMU 0319"
          ],
          [
           3.0657,
           "DMU 0326"
          ],
          [
           0.8665,
           "DMU 0335"
          ],
          [
           7.105,
           "DMU 0336"
          ],
          [
           1.484,
           "DMU 0338"
          ],
          [
           7.5771,
           "DMU 0339"
          ],
          [
           0.1881,
           "DMU 0341"
          ],
          [
           0.4547,
           "DMU 0342"
          ],
          [
           7.3247,
           "DMU 0343"
          ],
          [
           3.5575,
           "DMU 0344"
          ],
          [
           5.5884,
           "DMU 0345"
          ],
          [
           0.6246,
           "DMU 0347"
          ],
          [
           7.1041,
           "DMU 0348"
          ],
          [
           0.4881,
           "DMU 0350"
          ],
          [
           6.5119,
           "DMU 0355"
          ],
          [
           0.4605,
           "DMU 0357"
          ],
          [
           9.8733,
           "DMU 0358"
          ],
          [
           1.092,
           "DMU 0362"
          ],
          [
           9.3308,
           "DMU 0363"
          ],
          [
           5.985,
           "DMU 0365"
          ],
          [
           1.3866,
           "DMU 0369"
          ],
          [
           8.2128,
           "DMU 0372"
          ],
          [
           0.0315,
           "DMU 0373"
          ],
          [
           1.405,
           "DMU 0378"
          ],
          [
           0.1685,
           "DMU 0380"
          ],
          [
           5.226,
           "DMU 0384"
          ],
          [
           1.4411,
           "DMU 0387"
          ],
          [
           0.4543,
           "DMU 0395"
          ],
          [
           0.4816,
           "DMU 0404"
          ],
          [
           4.9853,
           "DMU 0409"
          ],
          [
           5.7504,
           "DMU 0411"
          ],
          [
           0.5842,
           "DMU 0420"
          ],
          [
           0.4878,
           "DMU 0421"
          ],
          [
           1.3023,
           "DMU 0422"
          ],
          [
           1.1113,
           "DMU 0423"
          ],
          [
           9.8383,
           "DMU 0424"
          ],
          [
           6.5863,
           "DMU 0425"
          ],
          [
           8.936,
           "DMU 0427"
          ],
          [
           0.2144,
           "DMU 0431"
          ],
          [
           5.3303,
           "DMU 0433"
          ],
          [
           1.7017,
           "DMU 0434"
          ],
          [
           0.5077,
           "DMU 0438"
          ],
          [
           0.2136,
           "DMU 0439"
          ],
          [
           8.0475,
           "DMU 0445"
          ],
          [
           9.3353,
           "DMU 0446"
          ],
          [
           1.0913,
           "DMU 0450"
          ],
          [
           0,
           "DMU 0451"
          ],
          [
           6.6482,
           "DMU 0456"
          ],
          [
           5.9714,
           "DMU 0458"
          ],
          [
           1.6761,
           "DMU 0462"
          ],
          [
           8.1067,
           "DMU 0463"
          ],
          [
           0.8829,
           "DMU 0464"
          ],
          [
           2.4339,
           "DMU 0465"
          ],
          [
           0.5154,
           "DMU 0466"
          ],
          [
           8.9846,
           "DMU 0467"
          ],
          [
           3.4848,
           "DMU 0468"
          ],
          [
           0.4499,
           "DMU 0469"
          ],
          [
           0.2136,
           "DMU 0470"
          ],
          [
           2.1235,
           "DMU 0471"
          ],
          [
           3.1369,
           "DMU 0472"
          ],
          [
           8.7193,
           "DMU 0473"
          ],
          [
           1.7644,
           "DMU 0474"
          ],
          [
           2.8808,
           "DMU 0475"
          ],
          [
           1.1945,
           "DMU 0476"
          ],
          [
           0.2139,
           "DMU 0477"
          ],
          [
           0.2138,
           "DMU 0478"
          ],
          [
           4.2409,
           "DMU 0479"
          ],
          [
           0.214,
           "DMU 0481"
          ],
          [
           0.2139,
           "DMU 0482"
          ],
          [
           1.1437,
           "DMU 0483"
          ],
          [
           2.0108,
           "DMU 0484"
          ],
          [
           0.2526,
           "DMU 0486"
          ],
          [
           1.5736,
           "DMU 0487"
          ],
          [
           0.2137,
           "DMU 0488"
          ],
          [
           1.4354,
           "DMU 0490"
          ],
          [
           1.0094,
           "DMU 0491"
          ],
          [
           0.2474,
           "DMU 0492"
          ],
          [
           1.042,
           "DMU 0494"
          ],
          [
           2.0594,
           "DMU 0496"
          ],
          [
           0.2139,
           "DMU 0497"
          ],
          [
           0.9674,
           "DMU 0499"
          ],
          [
           1.2562,
           "DMU 0500"
          ],
          [
           2.2384,
           "DMU 0502"
          ],
          [
           2.567,
           "DMU 0503"
          ],
          [
           1.6085,
           "DMU 0505"
          ],
          [
           3.8962,
           "DMU 0506"
          ],
          [
           0.2139,
           "DMU 0507"
          ],
          [
           2.1521,
           "DMU 0508"
          ],
          [
           1.793,
           "DMU 0510"
          ],
          [
           1.2042,
           "DMU 0511"
          ],
          [
           5.2057,
           "DMU 0512"
          ],
          [
           0.2291,
           "DMU 0513"
          ],
          [
           1.8546,
           "DMU 0514"
          ],
          [
           2.012,
           "DMU 0515"
          ],
          [
           3.2567,
           "DMU 0516"
          ],
          [
           2.0739,
           "DMU 0517"
          ],
          [
           1.4284,
           "DMU 0518"
          ],
          [
           0.4383,
           "DMU 0519"
          ],
          [
           1.2574,
           "DMU 0523"
          ],
          [
           0.5146,
           "DMU 0525"
          ],
          [
           3.0209,
           "DMU 0526"
          ],
          [
           2.3414,
           "DMU 0527"
          ],
          [
           1.9525,
           "DMU 0528"
          ],
          [
           3.1136,
           "DMU 0529"
          ],
          [
           8.1668,
           "DMU 0530"
          ],
          [
           7.6073,
           "DMU 0531"
          ],
          [
           0.4676,
           "DMU 0532"
          ],
          [
           0.8766,
           "DMU 0533"
          ],
          [
           1.2322,
           "DMU 0534"
          ],
          [
           1.2241,
           "DMU 0535"
          ],
          [
           2.8926,
           "DMU 0536"
          ],
          [
           1.1464,
           "DMU 0537"
          ],
          [
           0.7451,
           "DMU 0538"
          ],
          [
           1.2308,
           "DMU 0540"
          ],
          [
           0.2327,
           "DMU 0541"
          ],
          [
           1.8234,
           "DMU 0543"
          ],
          [
           3.9246,
           "DMU 0544"
          ],
          [
           2.1639,
           "DMU 0545"
          ],
          [
           0.4071,
           "DMU 0546"
          ],
          [
           0.3811,
           "DMU 0547"
          ],
          [
           3.6347,
           "DMU 0548"
          ],
          [
           5.5186,
           "DMU 0549"
          ],
          [
           2.6454,
           "DMU 0550"
          ],
          [
           0.2135,
           "DMU 0552"
          ],
          [
           0.2138,
           "DMU 0553"
          ],
          [
           1.7004,
           "DMU 0554"
          ],
          [
           2.5838,
           "DMU 0556"
          ],
          [
           4.6649,
           "DMU 0558"
          ],
          [
           0.7916,
           "DMU 0560"
          ],
          [
           1.6793,
           "DMU 0562"
          ],
          [
           2.1876,
           "DMU 0563"
          ],
          [
           3.3065,
           "DMU 0564"
          ],
          [
           0.2137,
           "DMU 0565"
          ],
          [
           3.2852,
           "DMU 0566"
          ],
          [
           0.5043,
           "DMU 0567"
          ],
          [
           0.2139,
           "DMU 0568"
          ],
          [
           1.3131,
           "DMU 0569"
          ],
          [
           5.5986,
           "DMU 0570"
          ],
          [
           9.8018,
           "DMU 0572"
          ],
          [
           1.5772,
           "DMU 0575"
          ],
          [
           3.5192,
           "DMU 0576"
          ],
          [
           0.4696,
           "DMU 0577"
          ],
          [
           1.5053,
           "DMU 0578"
          ],
          [
           6.3139,
           "DMU 0581"
          ],
          [
           1.9809,
           "DMU 0583"
          ],
          [
           2.4934,
           "DMU 0584"
          ],
          [
           2.4989,
           "DMU 0585"
          ],
          [
           0.2139,
           "DMU 0586"
          ],
          [
           1.6859,
           "DMU 0587"
          ],
          [
           0.6025,
           "DMU 0589"
          ],
          [
           0.1863,
           "DMU 0595"
          ],
          [
           6.6432,
           "DMU 0596"
          ],
          [
           1.5223,
           "DMU 0597"
          ],
          [
           1.5309,
           "DMU 0598"
          ],
          [
           4.508,
           "DMU 0599"
          ],
          [
           8.0139,
           "DMU 0600"
          ],
          [
           1.043,
           "DMU 0601"
          ],
          [
           1.5443,
           "DMU 0605"
          ],
          [
           2.8446,
           "DMU 0606"
          ],
          [
           1.4096,
           "DMU 0607"
          ],
          [
           6.0215,
           "DMU 0608"
          ],
          [
           1.0179,
           "DMU 0610"
          ],
          [
           1.9547,
           "DMU 0611"
          ],
          [
           1.0816,
           "DMU 0613"
          ],
          [
           0.2141,
           "DMU 0614"
          ],
          [
           7.909,
           "DMU 0616"
          ],
          [
           0.2138,
           "DMU 0618"
          ],
          [
           0.4638,
           "DMU 0619"
          ],
          [
           0.4546,
           "DMU 0620"
          ],
          [
           2.1809,
           "DMU 0621"
          ],
          [
           1.1193,
           "DMU 0622"
          ],
          [
           3.7799,
           "DMU 0623"
          ],
          [
           0.8447,
           "DMU 0625"
          ],
          [
           4.4647,
           "DMU 0626"
          ],
          [
           2.0793,
           "DMU 0627"
          ],
          [
           9.1738,
           "DMU 0633"
          ],
          [
           1.8795,
           "DMU 0634"
          ],
          [
           0.7196,
           "DMU 0636"
          ],
          [
           0.1571,
           "DMU 0638"
          ],
          [
           1.065,
           "DMU 0643"
          ],
          [
           0.0831,
           "DMU 0644"
          ],
          [
           8.3409,
           "DMU 0645"
          ],
          [
           0.6263,
           "DMU 0646"
          ],
          [
           6.834,
           "DMU 0647"
          ],
          [
           1.7097,
           "DMU 0648"
          ],
          [
           1.9016,
           "DMU 0650"
          ],
          [
           9.1461,
           "DMU 0653"
          ],
          [
           5.7835,
           "DMU 0654"
          ],
          [
           2.4378,
           "DMU 0655"
          ],
          [
           3.0006,
           "DMU 0656"
          ],
          [
           1.1109,
           "DMU 0658"
          ],
          [
           0.7235,
           "DMU 0659"
          ],
          [
           3.7977,
           "DMU 0660"
          ],
          [
           0,
           "DMU 0661"
          ],
          [
           1.6069,
           "DMU 0663"
          ],
          [
           5.8862,
           "DMU 0668"
          ],
          [
           0.4501,
           "DMU 0669"
          ],
          [
           1.6651,
           "DMU 0670"
          ],
          [
           3.222,
           "DMU 0671"
          ],
          [
           1.2735,
           "DMU 0673"
          ],
          [
           4.9113,
           "DMU 0674"
          ],
          [
           1.7578,
           "DMU 0675"
          ],
          [
           1.2819,
           "DMU 0676"
          ],
          [
           3.4273,
           "DMU 0677"
          ],
          [
           2.2265,
           "DMU 0678"
          ],
          [
           9.3239,
           "DMU 0682"
          ],
          [
           1.0484,
           "DMU 0683"
          ],
          [
           7.295,
           "DMU 0684"
          ],
          [
           0.8285,
           "DMU 0685"
          ],
          [
           0.2137,
           "DMU 0687"
          ],
          [
           2.6353,
           "DMU 0689"
          ],
          [
           0.2719,
           "DMU 0690"
          ],
          [
           0.8598,
           "DMU 0691"
          ],
          [
           0.214,
           "DMU 0694"
          ],
          [
           0.6579,
           "DMU 0695"
          ],
          [
           0.8852,
           "DMU 0697"
          ],
          [
           1.8955,
           "DMU 0699"
          ],
          [
           0.2138,
           "DMU 0701"
          ],
          [
           7.617,
           "DMU 0702"
          ],
          [
           1.8022,
           "DMU 0703"
          ],
          [
           5.8534,
           "DMU 0704"
          ],
          [
           1.0704,
           "DMU 0705"
          ],
          [
           1.0952,
           "DMU 0706"
          ],
          [
           0.8802,
           "DMU 0707"
          ],
          [
           0.2135,
           "DMU 0708"
          ],
          [
           0.2137,
           "DMU 0709"
          ],
          [
           3.7945,
           "DMU 0710"
          ],
          [
           0.8327,
           "DMU 0711"
          ],
          [
           0.2139,
           "DMU 0713"
          ],
          [
           0.2139,
           "DMU 0714"
          ],
          [
           0.6258,
           "DMU 0715"
          ],
          [
           0.2137,
           "DMU 0717"
          ],
          [
           0.5834,
           "DMU 0718"
          ],
          [
           8.3154,
           "DMU 0719"
          ],
          [
           2.7757,
           "DMU 0720"
          ],
          [
           0.9087,
           "DMU 0721"
          ],
          [
           2.2418,
           "DMU 0722"
          ],
          [
           0.2142,
           "DMU 0725"
          ],
          [
           0.6947,
           "DMU 0726"
          ],
          [
           9.9205,
           "DMU 0727"
          ],
          [
           9.6752,
           "DMU 0728"
          ],
          [
           0.6465,
           "DMU 0730"
          ],
          [
           0.2142,
           "DMU 0731"
          ],
          [
           3.6029,
           "DMU 0732"
          ],
          [
           7.2633,
           "DMU 0733"
          ],
          [
           0.591,
           "DMU 0741"
          ],
          [
           7.5717,
           "DMU 0743"
          ],
          [
           0.4556,
           "DMU 0749"
          ],
          [
           0.0477,
           "DMU 0750"
          ],
          [
           0.0514,
           "DMU 0753"
          ],
          [
           6.4288,
           "DMU 0756"
          ],
          [
           0.4589,
           "DMU 0757"
          ],
          [
           0.4728,
           "DMU 0758"
          ],
          [
           5.2179,
           "DMU 0761"
          ],
          [
           0.2268,
           "DMU 0762"
          ],
          [
           7.5651,
           "DMU 0763"
          ],
          [
           1.2538,
           "DMU 0764"
          ],
          [
           9.7718,
           "DMU 0766"
          ],
          [
           0.287,
           "DMU 0767"
          ],
          [
           0,
           "DMU 0768"
          ],
          [
           0.6607,
           "DMU 0773"
          ],
          [
           2.7102,
           "DMU 0774"
          ],
          [
           0.4984,
           "DMU 0775"
          ],
          [
           5.2668,
           "DMU 0780"
          ],
          [
           0.4651,
           "DMU 0781"
          ],
          [
           4.8585,
           "DMU 0784"
          ],
          [
           0.4836,
           "DMU 0786"
          ],
          [
           2.9428,
           "DMU 0787"
          ],
          [
           0.4648,
           "DMU 0788"
          ],
          [
           1.4218,
           "DMU 0789"
          ],
          [
           0.0341,
           "DMU 0793"
          ],
          [
           3.0906,
           "DMU 0798"
          ],
          [
           8.4551,
           "DMU 0799"
          ],
          [
           0.4692,
           "DMU 0803"
          ],
          [
           6.7196,
           "DMU 0805"
          ],
          [
           6.3319,
           "DMU 0806"
          ],
          [
           0.4761,
           "DMU 0807"
          ],
          [
           5.1033,
           "DMU 0808"
          ],
          [
           1.5281,
           "DMU 0810"
          ],
          [
           1.1004,
           "DMU 0812"
          ],
          [
           3.3247,
           "DMU 0813"
          ],
          [
           1.5234,
           "DMU 0816"
          ],
          [
           1.7433,
           "DMU 0817"
          ],
          [
           4.3126,
           "DMU 0821"
          ],
          [
           2.9488,
           "DMU 0823"
          ],
          [
           6.1322,
           "DMU 0824"
          ],
          [
           8.392,
           "DMU 0825"
          ],
          [
           2.4755,
           "DMU 0828"
          ],
          [
           3.1691,
           "DMU 0833"
          ],
          [
           0.4813,
           "DMU 0834"
          ],
          [
           6.5985,
           "DMU 0837"
          ],
          [
           6.6096,
           "DMU 0841"
          ],
          [
           6.5721,
           "DMU 0842"
          ],
          [
           1.6273,
           "DMU 0844"
          ],
          [
           0.4261,
           "DMU 0848"
          ],
          [
           7.4104,
           "DMU 0850"
          ],
          [
           1.1085,
           "DMU 0851"
          ],
          [
           0.4508,
           "DMU 0853"
          ],
          [
           2.8534,
           "DMU 0854"
          ],
          [
           0.5083,
           "DMU 0855"
          ],
          [
           2.2487,
           "DMU 0856"
          ],
          [
           5.9986,
           "DMU 0857"
          ],
          [
           1.1252,
           "DMU 0858"
          ],
          [
           4.1804,
           "DMU 0859"
          ],
          [
           3.5985,
           "DMU 0866"
          ],
          [
           0.4718,
           "DMU 0867"
          ],
          [
           4.5655,
           "DMU 0869"
          ],
          [
           1.2175,
           "DMU 0871"
          ],
          [
           0.9831,
           "DMU 0872"
          ],
          [
           0.4588,
           "DMU 0876"
          ],
          [
           1.532,
           "DMU 0877"
          ],
          [
           2.0059,
           "DMU 0879"
          ],
          [
           1.3122,
           "DMU 0881"
          ],
          [
           1.5166,
           "DMU 0883"
          ],
          [
           0.8063,
           "DMU 0884"
          ],
          [
           6.998,
           "DMU 0886"
          ],
          [
           9.3178,
           "DMU 0888"
          ],
          [
           0.9378,
           "DMU 0889"
          ],
          [
           1.1892,
           "DMU 0892"
          ],
          [
           8.3577,
           "DMU 0893"
          ],
          [
           2.1658,
           "DMU 0895"
          ],
          [
           6.6034,
           "DMU 0896"
          ],
          [
           3.4125,
           "DMU 0897"
          ],
          [
           7.8291,
           "DMU 0898"
          ],
          [
           5.0629,
           "DMU 0899"
          ],
          [
           0.1391,
           "DMU 0902"
          ],
          [
           2.6088,
           "DMU 0903"
          ],
          [
           3.0369,
           "DMU 0904"
          ],
          [
           0.0304,
           "DMU 0905"
          ],
          [
           4.4083,
           "DMU 0906"
          ],
          [
           0.3184,
           "DMU 0907"
          ],
          [
           2.0207,
           "DMU 0908"
          ],
          [
           0.4663,
           "DMU 0909"
          ],
          [
           8.2623,
           "DMU 0912"
          ],
          [
           1.5078,
           "DMU 0913"
          ],
          [
           0.6605,
           "DMU 0914"
          ],
          [
           1.2998,
           "DMU 0915"
          ],
          [
           0.9837,
           "DMU 0916"
          ],
          [
           1.7248,
           "DMU 0917"
          ],
          [
           0.3838,
           "DMU 0918"
          ],
          [
           7.8296,
           "DMU 0922"
          ],
          [
           6.5429,
           "DMU 0923"
          ],
          [
           8.4953,
           "DMU 0924"
          ],
          [
           0.4105,
           "DMU 0926"
          ],
          [
           2.8191,
           "DMU 0927"
          ],
          [
           0.2143,
           "DMU 0929"
          ],
          [
           1.0552,
           "DMU 0930"
          ],
          [
           0.8574,
           "DMU 0932"
          ],
          [
           1.6582,
           "DMU 0933"
          ],
          [
           1.6581,
           "DMU 0934"
          ],
          [
           9.1417,
           "DMU 0935"
          ],
          [
           0.2289,
           "DMU 0936"
          ],
          [
           5.4491,
           "DMU 0937"
          ],
          [
           1.0459,
           "DMU 0938"
          ],
          [
           2.072,
           "DMU 0939"
          ],
          [
           0.6149,
           "DMU 0941"
          ],
          [
           1.5924,
           "DMU 0942"
          ],
          [
           6.3505,
           "DMU 0943"
          ],
          [
           0.2141,
           "DMU 0944"
          ],
          [
           0.2139,
           "DMU 0945"
          ],
          [
           0.2139,
           "DMU 0946"
          ],
          [
           1.4965,
           "DMU 0948"
          ],
          [
           1.2935,
           "DMU 0949"
          ],
          [
           5.5815,
           "DMU 0950"
          ],
          [
           3.7129,
           "DMU 0951"
          ],
          [
           1.632,
           "DMU 0952"
          ],
          [
           0.2226,
           "DMU 0953"
          ],
          [
           1.4717,
           "DMU 0954"
          ],
          [
           2.4755,
           "DMU 0955"
          ],
          [
           8.7451,
           "DMU 0956"
          ],
          [
           7.7435,
           "DMU 0957"
          ],
          [
           0,
           "DMU 0959"
          ],
          [
           2.0031,
           "DMU 0960"
          ],
          [
           6.3284,
           "DMU 0961"
          ],
          [
           1.147,
           "DMU 0962"
          ],
          [
           0.5127,
           "DMU 0964"
          ],
          [
           1.7937,
           "DMU 0965"
          ],
          [
           8.0405,
           "DMU 0966"
          ],
          [
           6.5236,
           "DMU 0968"
          ],
          [
           0.321,
           "DMU 0969"
          ],
          [
           1.0517,
           "DMU 0970"
          ],
          [
           1.6163,
           "DMU 0971"
          ],
          [
           3.2592,
           "DMU 0973"
          ],
          [
           7.0314,
           "DMU 0975"
          ],
          [
           4.6126,
           "DMU 0976"
          ],
          [
           0.5343,
           "DMU 0977"
          ],
          [
           1.4232,
           "DMU 0980"
          ],
          [
           1.8472,
           "DMU 0981"
          ],
          [
           2.8807,
           "DMU 0982"
          ],
          [
           7.8294,
           "DMU 0983"
          ],
          [
           1.6325,
           "DMU 0984"
          ],
          [
           1.2922,
           "DMU 0985"
          ],
          [
           2.1654,
           "DMU 0986"
          ],
          [
           0.2139,
           "DMU 0987"
          ],
          [
           0.2963,
           "DMU 0989"
          ],
          [
           6.5605,
           "DMU 0990"
          ],
          [
           8.2601,
           "DMU 0991"
          ],
          [
           1.405,
           "DMU 0992"
          ],
          [
           1.0314,
           "DMU 0993"
          ],
          [
           1.0421,
           "DMU 0994"
          ],
          [
           0.9945,
           "DMU 0995"
          ],
          [
           0.2139,
           "DMU 0996"
          ],
          [
           1.8321,
           "DMU 0997"
          ],
          [
           0.2685,
           "DMU 0998"
          ],
          [
           0.2254,
           "DMU 1001"
          ],
          [
           1.6979,
           "DMU 1005"
          ],
          [
           4.0149,
           "DMU 1006"
          ],
          [
           0.2138,
           "DMU 1009"
          ],
          [
           0.2137,
           "DMU 1010"
          ],
          [
           0.1871,
           "DMU 1014"
          ],
          [
           0.214,
           "DMU 1015"
          ],
          [
           0,
           "DMU 1016"
          ],
          [
           1.3019,
           "DMU 1018"
          ],
          [
           0.2139,
           "DMU 1019"
          ],
          [
           3.4934,
           "DMU 1020"
          ],
          [
           0.7795,
           "DMU 1026"
          ],
          [
           0.2732,
           "DMU 1029"
          ],
          [
           1.464,
           "DMU 1030"
          ],
          [
           1.8764,
           "DMU 1031"
          ],
          [
           0.2352,
           "DMU 1033"
          ],
          [
           1.5781,
           "DMU 1037"
          ],
          [
           1.143,
           "DMU 1038"
          ],
          [
           0.2139,
           "DMU 1039"
          ],
          [
           0.2136,
           "DMU 1040"
          ],
          [
           9.1167,
           "DMU 1041"
          ],
          [
           5.3622,
           "DMU 1047"
          ],
          [
           0.8552,
           "DMU 1048"
          ],
          [
           8.1426,
           "DMU 1055"
          ],
          [
           8.7759,
           "DMU 1057"
          ],
          [
           7.5677,
           "DMU 1058"
          ],
          [
           8.9508,
           "DMU 1060"
          ],
          [
           7.6693,
           "DMU 1064"
          ],
          [
           1.9507,
           "DMU 1065"
          ],
          [
           3.8699,
           "DMU 1066"
          ],
          [
           4.0455,
           "DMU 1068"
          ],
          [
           7.1211,
           "DMU 1069"
          ],
          [
           5.7866,
           "DMU 1075"
          ],
          [
           8.4257,
           "DMU 1076"
          ],
          [
           9.8228,
           "DMU 1077"
          ],
          [
           9.6979,
           "DMU 1079"
          ],
          [
           7.6576,
           "DMU 1083"
          ],
          [
           8.3663,
           "DMU 1084"
          ],
          [
           1.4064,
           "DMU 1085"
          ],
          [
           9.152,
           "DMU 1089"
          ],
          [
           7.7871,
           "DMU 1094"
          ],
          [
           2.5847,
           "DMU 1098"
          ],
          [
           4.0925,
           "DMU 1099"
          ],
          [
           4.8158,
           "DMU 1100"
          ],
          [
           0.2136,
           "DMU 1101"
          ],
          [
           0.2451,
           "DMU 1102"
          ],
          [
           0.2652,
           "DMU 1104"
          ],
          [
           0.2139,
           "DMU 1106"
          ],
          [
           0.2139,
           "DMU 1107"
          ],
          [
           0.7694,
           "DMU 1110"
          ],
          [
           0.7918,
           "DMU 1111"
          ],
          [
           0.1186,
           "DMU 1113"
          ],
          [
           1.2195,
           "DMU 1114"
          ],
          [
           0.2139,
           "DMU 1115"
          ],
          [
           0.2139,
           "DMU 1117"
          ],
          [
           1.278,
           "DMU 1118"
          ],
          [
           1.1713,
           "DMU 1119"
          ],
          [
           0.1854,
           "DMU 1120"
          ],
          [
           0.5881,
           "DMU 1122"
          ],
          [
           1.9408,
           "DMU 1123"
          ],
          [
           0.2354,
           "DMU 1128"
          ],
          [
           0.5845,
           "DMU 1129"
          ],
          [
           6.8597,
           "DMU 1131"
          ],
          [
           0.2468,
           "DMU 1132"
          ],
          [
           1.604,
           "DMU 1136"
          ],
          [
           2.4117,
           "DMU 1138"
          ],
          [
           1.4833,
           "DMU 1139"
          ],
          [
           9.0633,
           "DMU 1140"
          ],
          [
           0.2144,
           "DMU 1141"
          ],
          [
           0.2404,
           "DMU 1143"
          ],
          [
           0.1609,
           "DMU 1144"
          ],
          [
           0.2137,
           "DMU 1145"
          ],
          [
           1.9304,
           "DMU 1146"
          ],
          [
           0.2202,
           "DMU 1147"
          ],
          [
           0.7979,
           "DMU 1148"
          ],
          [
           0.2139,
           "DMU 1149"
          ],
          [
           1.183,
           "DMU 1150"
          ],
          [
           0.8421,
           "DMU 1151"
          ],
          [
           0.2137,
           "DMU 1152"
          ],
          [
           1.3951,
           "DMU 1153"
          ],
          [
           0.2144,
           "DMU 1154"
          ],
          [
           0.5596,
           "DMU 1155"
          ],
          [
           9.4667,
           "DMU 1159"
          ],
          [
           0.3726,
           "DMU 1163"
          ],
          [
           0.6069,
           "DMU 1165"
          ],
          [
           0.4721,
           "DMU 1168"
          ],
          [
           0.4762,
           "DMU 1170"
          ],
          [
           0.4873,
           "DMU 1178"
          ],
          [
           1.9095,
           "DMU 1179"
          ],
          [
           2.1921,
           "DMU 1181"
          ],
          [
           4.1774,
           "DMU 1183"
          ],
          [
           1.2853,
           "DMU 1185"
          ],
          [
           1.2256,
           "DMU 1188"
          ],
          [
           8.1415,
           "DMU 1190"
          ],
          [
           1.0581,
           "DMU 1191"
          ],
          [
           7.6397,
           "DMU 1192"
          ],
          [
           0.4538,
           "DMU 1193"
          ],
          [
           0.4101,
           "DMU 1197"
          ],
          [
           3.9004,
           "DMU 1199"
          ],
          [
           0.4592,
           "DMU 1202"
          ],
          [
           1.4536,
           "DMU 1203"
          ],
          [
           9.4175,
           "DMU 1211"
          ],
          [
           0.6492,
           "DMU 1214"
          ],
          [
           0.4746,
           "DMU 1219"
          ],
          [
           1.3594,
           "DMU 1221"
          ],
          [
           3.9348,
           "DMU 1225"
          ],
          [
           2.6886,
           "DMU 1226"
          ],
          [
           1.2978,
           "DMU 1231"
          ],
          [
           2.9229,
           "DMU 1238"
          ],
          [
           0.4158,
           "DMU 1240"
          ],
          [
           3.3478,
           "DMU 1241"
          ],
          [
           8.8341,
           "DMU 1245"
          ],
          [
           8.6509,
           "DMU 1251"
          ],
          [
           5.9876,
           "DMU 1252"
          ],
          [
           0.8186,
           "DMU 1253"
          ],
          [
           8.16,
           "DMU 1255"
          ],
          [
           0.0203,
           "DMU 1256"
          ],
          [
           6.3549,
           "DMU 1257"
          ],
          [
           0.9512,
           "DMU 1259"
          ],
          [
           3.1364,
           "DMU 1260"
          ],
          [
           1.467,
           "DMU 1261"
          ],
          [
           1.3319,
           "DMU 1262"
          ],
          [
           0.2142,
           "DMU 1263"
          ],
          [
           0.2139,
           "DMU 1265"
          ],
          [
           1.8942,
           "DMU 1266"
          ],
          [
           2.1184,
           "DMU 1270"
          ],
          [
           1.3216,
           "DMU 1271"
          ],
          [
           1.5448,
           "DMU 1272"
          ],
          [
           1.0699,
           "DMU 1273"
          ],
          [
           1.6418,
           "DMU 1274"
          ],
          [
           1.9702,
           "DMU 1275"
          ],
          [
           0.089,
           "DMU 1276"
          ],
          [
           0.6539,
           "DMU 1277"
          ],
          [
           9.0197,
           "DMU 1278"
          ],
          [
           6.369,
           "DMU 1279"
          ],
          [
           0.4593,
           "DMU 1280"
          ],
          [
           0.6197,
           "DMU 1282"
          ],
          [
           8.929,
           "DMU 1285"
          ],
          [
           3.1034,
           "DMU 1286"
          ],
          [
           1.8569,
           "DMU 1288"
          ],
          [
           4.0078,
           "DMU 1293"
          ],
          [
           0.4812,
           "DMU 1295"
          ],
          [
           1.9995,
           "DMU 1297"
          ],
          [
           1.3951,
           "DMU 1298"
          ],
          [
           0.289,
           "DMU 1299"
          ],
          [
           1.9366,
           "DMU 1300"
          ],
          [
           0.214,
           "DMU 1301"
          ],
          [
           0.1827,
           "DMU 1302"
          ],
          [
           0.4565,
           "DMU 1304"
          ],
          [
           6.448,
           "DMU 1307"
          ],
          [
           0.4679,
           "DMU 1308"
          ],
          [
           2.0863,
           "DMU 1309"
          ],
          [
           8.065,
           "DMU 1311"
          ],
          [
           7.0695,
           "DMU 1313"
          ],
          [
           1.3684,
           "DMU 1314"
          ],
          [
           1.1936,
           "DMU 1315"
          ],
          [
           7.9687,
           "DMU 1317"
          ],
          [
           0.0771,
           "DMU 1318"
          ],
          [
           6.0004,
           "DMU 1319"
          ],
          [
           3.693,
           "DMU 1320"
          ],
          [
           2.8312,
           "DMU 1321"
          ],
          [
           7.7164,
           "DMU 1323"
          ],
          [
           0.5282,
           "DMU 1326"
          ],
          [
           6.9837,
           "DMU 1327"
          ],
          [
           1.4493,
           "DMU 1328"
          ],
          [
           8.7286,
           "DMU 1329"
          ],
          [
           7.1437,
           "DMU 1330"
          ],
          [
           4.1617,
           "DMU 1331"
          ],
          [
           7.7088,
           "DMU 1334"
          ],
          [
           8.712,
           "DMU 1337"
          ],
          [
           0.7221,
           "DMU 1338"
          ],
          [
           2.4641,
           "DMU 1339"
          ],
          [
           8.4716,
           "DMU 1340"
          ],
          [
           7.2843,
           "DMU 1341"
          ],
          [
           8.2852,
           "DMU 1342"
          ],
          [
           8.401,
           "DMU 1343"
          ],
          [
           1.1184,
           "DMU 1344"
          ],
          [
           1.1178,
           "DMU 1345"
          ],
          [
           1.0522,
           "DMU 1346"
          ],
          [
           0.2144,
           "DMU 1349"
          ],
          [
           0.2137,
           "DMU 1350"
          ],
          [
           6.2505,
           "DMU 1354"
          ],
          [
           8.454,
           "DMU 1355"
          ],
          [
           8.4363,
           "DMU 1356"
          ],
          [
           1.1192,
           "DMU 1358"
          ],
          [
           0.2422,
           "DMU 1360"
          ],
          [
           6.4785,
           "DMU 1361"
          ],
          [
           0.4665,
           "DMU 1362"
          ],
          [
           1.9023,
           "DMU 1363"
          ],
          [
           5.9311,
           "DMU 1365"
          ],
          [
           5.95,
           "DMU 1366"
          ],
          [
           6.2853,
           "DMU 1374"
          ],
          [
           1.3677,
           "DMU 1375"
          ],
          [
           0.2144,
           "DMU 1377"
          ],
          [
           0.2449,
           "DMU 1378"
          ],
          [
           1.6917,
           "DMU 1380"
          ],
          [
           1.4979,
           "DMU 1382"
          ],
          [
           1.1763,
           "DMU 1385"
          ],
          [
           6.0433,
           "DMU 1388"
          ],
          [
           6.3282,
           "DMU 1389"
          ],
          [
           0.9335,
           "DMU 1390"
          ],
          [
           1.1293,
           "DMU 1392"
          ],
          [
           0.8724,
           "DMU 1396"
          ],
          [
           3.1734,
           "DMU 1398"
          ],
          [
           5.7894,
           "DMU 1399"
          ],
          [
           3.0689,
           "DMU 1400"
          ],
          [
           2.2818,
           "DMU 1403"
          ],
          [
           3.9419,
           "DMU 1404"
          ],
          [
           7.7649,
           "DMU 1410"
          ],
          [
           0.5266,
           "DMU 1414"
          ],
          [
           1.4436,
           "DMU 1415"
          ],
          [
           0,
           "DMU 1416"
          ],
          [
           1.1464,
           "DMU 1417"
          ],
          [
           3.9443,
           "DMU 1418"
          ],
          [
           1.2797,
           "DMU 1419"
          ],
          [
           1.389,
           "DMU 1421"
          ],
          [
           3.2001,
           "DMU 1423"
          ],
          [
           1.2088,
           "DMU 1425"
          ],
          [
           1.0013,
           "DMU 1427"
          ],
          [
           1.0969,
           "DMU 1428"
          ],
          [
           0.2134,
           "DMU 1431"
          ],
          [
           2.8388,
           "DMU 1432"
          ],
          [
           1.8596,
           "DMU 1433"
          ],
          [
           6.3697,
           "DMU 1434"
          ],
          [
           9.1505,
           "DMU 1435"
          ],
          [
           3.4927,
           "DMU 1436"
          ],
          [
           2.8108,
           "DMU 1439"
          ],
          [
           3.7222,
           "DMU 1440"
          ],
          [
           3.2934,
           "DMU 1441"
          ],
          [
           7.3182,
           "DMU 1442"
          ],
          [
           3.5612,
           "DMU 1444"
          ],
          [
           2.6653,
           "DMU 1445"
          ],
          [
           3.6353,
           "DMU 1446"
          ],
          [
           2.9159,
           "DMU 1447"
          ],
          [
           1.938,
           "DMU 1448"
          ],
          [
           2.0567,
           "DMU 1451"
          ],
          [
           0,
           "DMU 1452"
          ],
          [
           2.3072,
           "DMU 1453"
          ],
          [
           0.4631,
           "DMU 1454"
          ],
          [
           3.4671,
           "DMU 1455"
          ],
          [
           1.5184,
           "DMU 1456"
          ],
          [
           0,
           "DMU 1457"
          ],
          [
           3.9535,
           "DMU 1458"
          ],
          [
           1.5612,
           "DMU 1459"
          ],
          [
           2.1311,
           "DMU 1460"
          ],
          [
           1.6616,
           "DMU 1461"
          ],
          [
           1.0913,
           "DMU 1462"
          ],
          [
           7.8295,
           "DMU 1463"
          ],
          [
           7.4817,
           "DMU 1464"
          ],
          [
           0.2139,
           "DMU 1465"
          ],
          [
           0.4577,
           "DMU 1466"
          ],
          [
           0.2135,
           "DMU 1471"
          ],
          [
           1.1572,
           "DMU 1473"
          ],
          [
           6.5512,
           "DMU 1475"
          ],
          [
           4.1001,
           "DMU 1478"
          ],
          [
           1.4444,
           "DMU 1480"
          ],
          [
           7.0538,
           "DMU 1482"
          ],
          [
           7.4353,
           "DMU 1484"
          ],
          [
           0.7195,
           "DMU 1486"
          ],
          [
           6.9366,
           "DMU 1488"
          ],
          [
           2.6388,
           "DMU 1489"
          ],
          [
           5.8597,
           "DMU 1491"
          ],
          [
           7.8294,
           "DMU 1492"
          ],
          [
           4.3331,
           "DMU 1493"
          ],
          [
           4.1856,
           "DMU 1494"
          ],
          [
           3.9996,
           "DMU 1495"
          ],
          [
           1.3863,
           "DMU 1501"
          ],
          [
           1.3038,
           "DMU 1505"
          ],
          [
           0.2157,
           "DMU 1507"
          ],
          [
           3.646,
           "DMU 1512"
          ],
          [
           0.6224,
           "DMU 1513"
          ],
          [
           0.2134,
           "DMU 1515"
          ],
          [
           0.2588,
           "DMU 1517"
          ],
          [
           4.1975,
           "DMU 1518"
          ],
          [
           0.0907,
           "DMU 1520"
          ],
          [
           3.1636,
           "DMU 1521"
          ],
          [
           3.7666,
           "DMU 1522"
          ],
          [
           0.0474,
           "DMU 1525"
          ],
          [
           0.1073,
           "DMU 1529"
          ],
          [
           0.2868,
           "DMU 1540"
          ],
          [
           9.0339,
           "DMU 1550"
          ],
          [
           0.4655,
           "DMU 1557"
          ],
          [
           8.3443,
           "DMU 1558"
          ],
          [
           0.3009,
           "DMU 1560"
          ],
          [
           1.586,
           "DMU 1561"
          ],
          [
           0.475,
           "DMU 1563"
          ],
          [
           5.3797,
           "DMU 1564"
          ],
          [
           5.6545,
           "DMU 1571"
          ],
          [
           1.3473,
           "DMU 1572"
          ],
          [
           0.2137,
           "DMU 1573"
          ],
          [
           0.4662,
           "DMU 1575"
          ],
          [
           1.4977,
           "DMU 1577"
          ],
          [
           4.1153,
           "DMU 1578"
          ],
          [
           3.6959,
           "DMU 1582"
          ],
          [
           4.569,
           "DMU 1587"
          ],
          [
           1.4868,
           "DMU 1591"
          ],
          [
           0.2139,
           "DMU 1592"
          ],
          [
           3.6846,
           "DMU 1594"
          ],
          [
           2.39,
           "DMU 1595"
          ],
          [
           0.4765,
           "DMU 1598"
          ],
          [
           3.7775,
           "DMU 1599"
          ],
          [
           4.6821,
           "DMU 1600"
          ],
          [
           3.717,
           "DMU 1601"
          ],
          [
           3.4485,
           "DMU 1603"
          ],
          [
           1.1863,
           "DMU 1605"
          ],
          [
           0.858,
           "DMU 1606"
          ],
          [
           2.3373,
           "DMU 1607"
          ],
          [
           0.0702,
           "DMU 1609"
          ],
          [
           0.5269,
           "DMU 1610"
          ],
          [
           2.3976,
           "DMU 1612"
          ],
          [
           9.0117,
           "DMU 1614"
          ],
          [
           6.2349,
           "DMU 1616"
          ],
          [
           1.1562,
           "DMU 1617"
          ],
          [
           9.0377,
           "DMU 1619"
          ],
          [
           3.3192,
           "DMU 1620"
          ],
          [
           5.7238,
           "DMU 1621"
          ],
          [
           3.0218,
           "DMU 1623"
          ],
          [
           2.0777,
           "DMU 1624"
          ],
          [
           0.5607,
           "DMU 1627"
          ],
          [
           3.6239,
           "DMU 1628"
          ],
          [
           1.0042,
           "DMU 1629"
          ],
          [
           5.7785,
           "DMU 1631"
          ],
          [
           0.8239,
           "DMU 1633"
          ],
          [
           3.3245,
           "DMU 1636"
          ],
          [
           2.7898,
           "DMU 1638"
          ],
          [
           8.5446,
           "DMU 1641"
          ],
          [
           8.3158,
           "DMU 1642"
          ],
          [
           9.6848,
           "DMU 1644"
          ],
          [
           9.9207,
           "DMU 1647"
          ],
          [
           3.1654,
           "DMU 1650"
          ],
          [
           2.7382,
           "DMU 1651"
          ],
          [
           2.4499,
           "DMU 1652"
          ],
          [
           4.2431,
           "DMU 1657"
          ],
          [
           1.611,
           "DMU 1658"
          ],
          [
           1.2447,
           "DMU 1659"
          ],
          [
           3.4789,
           "DMU 1661"
          ],
          [
           9.5445,
           "DMU 1662"
          ],
          [
           7.8294,
           "DMU 1665"
          ],
          [
           8.7741,
           "DMU 1674"
          ],
          [
           2.6491,
           "DMU 1675"
          ],
          [
           6.7177,
           "DMU 1676"
          ],
          [
           6.7084,
           "DMU 1677"
          ],
          [
           2.6341,
           "DMU 1679"
          ],
          [
           2.2039,
           "DMU 1683"
          ],
          [
           7.8307,
           "DMU 1684"
          ],
          [
           2.0227,
           "DMU 1686"
          ],
          [
           6.4603,
           "DMU 1687"
          ],
          [
           1.0219,
           "DMU 1690"
          ],
          [
           0.2136,
           "DMU 1691"
          ],
          [
           1.521,
           "DMU 1692"
          ],
          [
           0,
           "DMU 1693"
          ],
          [
           8.7904,
           "DMU 1696"
          ],
          [
           1.6845,
           "DMU 1697"
          ],
          [
           0.7729,
           "DMU 1698"
          ],
          [
           1.1566,
           "DMU 1700"
          ],
          [
           2.9151,
           "DMU 1701"
          ],
          [
           0.5921,
           "DMU 1707"
          ],
          [
           1.6005,
           "DMU 1710"
          ],
          [
           0.2137,
           "DMU 1711"
          ],
          [
           0.214,
           "DMU 1717"
          ],
          [
           4.0243,
           "DMU 1721"
          ],
          [
           4.0942,
           "DMU 1722"
          ],
          [
           0.6241,
           "DMU 1723"
          ],
          [
           8.6352,
           "DMU 1724"
          ],
          [
           1.1654,
           "DMU 1726"
          ],
          [
           4.0109,
           "DMU 1729"
          ],
          [
           9.3367,
           "DMU 1730"
          ],
          [
           1.1596,
           "DMU 1733"
          ]
         ],
         "hovertemplate": "Diff_Perc < 10=True<br>Efficiency_Scores_Basic=%{x}<br>Efficiency_Scores_with_ML=%{y}<br>Diff_Perc=%{customdata[0]}<br>index=%{customdata[1]}<extra></extra>",
         "legendgroup": "True",
         "line": {
          "color": "lightgreen",
          "width": 3
         },
         "marker": {
          "color": "blue",
          "symbol": "circle"
         },
         "mode": "markers",
         "name": "True",
         "showlegend": true,
         "type": "scattergl",
         "x": [
          0.2514,
          0.5446,
          0.4969,
          0.4459,
          0.5283,
          0.4465,
          0.4459,
          0.5062,
          0.2301,
          0.2612,
          1,
          0.5049,
          0.2413,
          1,
          0.2238,
          0.9988,
          0.2248,
          0.2247,
          0.2232,
          0.2251,
          1,
          0.2232,
          0.2313,
          0.2384,
          0.5125,
          0.2347,
          0.3557,
          0.2272,
          0.2232,
          0.2253,
          0.23,
          0.2315,
          0.2258,
          0.2232,
          0.2232,
          0.2232,
          0.2428,
          0.2232,
          0.237,
          0.2241,
          0.2244,
          0.2248,
          0.224,
          0.2232,
          0.224,
          0.2232,
          0.2233,
          0.2232,
          0.2379,
          0.2342,
          0.2304,
          0.227,
          0.2243,
          0.2468,
          0.2237,
          0.2245,
          0.2232,
          0.2233,
          0.2268,
          0.2426,
          0.2327,
          0.2248,
          0.2248,
          0.9991,
          0.2235,
          0.2337,
          0.2236,
          0.2232,
          0.2339,
          0.2237,
          0.2234,
          0.2238,
          0.2232,
          0.2321,
          0.2232,
          0.2415,
          0.2239,
          0.2232,
          0.2242,
          0.223,
          0.2236,
          0.2457,
          0.2244,
          0.2238,
          0.2251,
          0.2335,
          0.2264,
          0.2231,
          0.382,
          0.2449,
          0.2232,
          0.2235,
          0.2232,
          0.2246,
          0.2439,
          0.2354,
          0.2232,
          1,
          0.2237,
          0.2298,
          0.224,
          0.2249,
          0.2344,
          0.2395,
          0.2234,
          0.2238,
          0.231,
          0.2235,
          0.238,
          0.2384,
          0.2246,
          1,
          0.2317,
          0.2242,
          0.5419,
          0.2301,
          0.2246,
          0.5398,
          0.2258,
          0.5388,
          0.4907,
          0.2232,
          0.2401,
          0.2303,
          0.6283,
          0.2236,
          0.4818,
          0.2232,
          0.2377,
          0.2232,
          0.4977,
          0.2232,
          0.245,
          0.237,
          0.4977,
          0.5354,
          0.2389,
          0.4978,
          0.2255,
          0.4727,
          0.2276,
          0.2232,
          0.2232,
          0.5208,
          0.9657,
          0.2238,
          0.2232,
          0.2254,
          0.2249,
          0.2636,
          1,
          0.2443,
          0.4897,
          0.5238,
          0.4993,
          0.4933,
          0.4914,
          0.8965,
          0.2492,
          0.4969,
          0.488,
          1,
          0.9662,
          0.4821,
          0.5348,
          0.4955,
          0.5037,
          0.4934,
          0.5399,
          0.5089,
          0.4922,
          0.4907,
          0.5018,
          0.508,
          0.5386,
          0.4999,
          0.5061,
          0.225,
          0.4911,
          0.4851,
          0.5127,
          0.4929,
          0.4913,
          0.4968,
          0.5008,
          0.4916,
          0.4988,
          0.4926,
          0.498,
          0.2249,
          0.4933,
          0.2248,
          0.5017,
          0.492,
          0.4959,
          0.4968,
          0.5019,
          0.5039,
          0.4991,
          0.5106,
          0.4909,
          0.5026,
          0.4279,
          0.4968,
          0.5206,
          0.4917,
          0.5001,
          0.501,
          0.5083,
          0.5018,
          0.4982,
          0.4923,
          0.4972,
          0.4928,
          0.4295,
          0.4435,
          0.5018,
          0.2296,
          0.5372,
          0.3864,
          0.2232,
          0.495,
          0.225,
          0.225,
          0.2288,
          0.2248,
          0.365,
          0.4972,
          0.4924,
          0.5,
          0.4447,
          0.4265,
          0.4929,
          0.4914,
          0.5098,
          0.4458,
          0.4572,
          0.4913,
          0.4921,
          0.4996,
          0.4014,
          0.7948,
          0.4942,
          0.4992,
          0.4226,
          0.5081,
          0.4931,
          0.5081,
          0.4922,
          0.4922,
          0.411,
          0.2353,
          0.2462,
          0.4986,
          0.2306,
          0.2232,
          0.4984,
          0.524,
          0.5003,
          0.5037,
          0.5035,
          0.4919,
          0.4995,
          0.2235,
          0.4908,
          0.4855,
          0.4985,
          0.4982,
          0.5153,
          0.4459,
          0.2247,
          0.4984,
          0.229,
          0.4977,
          0.5226,
          0.2248,
          0.2268,
          0.2248,
          0.4904,
          0.2232,
          0.493,
          0.2232,
          0.2232,
          0.297,
          0.2249,
          0.5109,
          0.4361,
          0.3822,
          0.5014,
          0.5407,
          0.5012,
          0.2241,
          0.2246,
          0.2248,
          0.2229,
          0.2424,
          0.2237,
          0.989,
          0.4995,
          0.5013,
          0.5405,
          0.2391,
          0.2278,
          0.2291,
          0.2247,
          0.2244,
          0.2312,
          0.3815,
          0.2259,
          0.3305,
          0.2231,
          0.4992,
          0.5304,
          0.4976,
          0.3874,
          0.3791,
          0.3459,
          0.23,
          0.5009,
          0.2456,
          0.4945,
          0.2407,
          0.3254,
          0.4926,
          0.2294,
          0.4922,
          0.3561,
          0.4955,
          0.4053,
          0.3237,
          0.2268,
          0.4916,
          0.2953,
          0.5004,
          0.5262,
          0.4492,
          0.2991,
          0.3089,
          0.4932,
          0.4873,
          0.3394,
          0.4961,
          0.4929,
          0.491,
          0.4152,
          0.4904,
          0.2235,
          0.2438,
          0.3262,
          0.3487,
          0.2276,
          0.4898,
          0.3688,
          0.3182,
          0.5434,
          0.405,
          0.4964,
          0.231,
          0.24,
          0.494,
          1,
          0.2232,
          0.2234,
          0.2235,
          0.2376,
          0.2232,
          0.2232,
          0.2349,
          0.2232,
          0.2403,
          0.2252,
          0.2561,
          0.2237,
          0.4885,
          0.2237,
          0.4304,
          0.2233,
          0.4742,
          0.2316,
          0.5161,
          0.2283,
          0.2754,
          0.2232,
          0.3172,
          0.2248,
          0.5075,
          0.2427,
          0.2232,
          0.2754,
          0.5243,
          0.2232,
          0.2573,
          0.2267,
          0.2246,
          0.3201,
          0.4978,
          0.235,
          0.45,
          0.506,
          0.9932,
          0.5381,
          0.2281,
          0.5072,
          0.23,
          1,
          1,
          0.9994,
          0.4982,
          0.2248,
          0.2399,
          0.4961,
          0.2231,
          0.2289,
          0.2233,
          0.228,
          0.2367,
          0.2249,
          0.5136,
          0.2305,
          0.2232,
          0.2331,
          0.2765,
          0.2916,
          0.2232,
          0.4986,
          0.2865,
          0.2248,
          0.2258,
          0.4946,
          0.5334,
          0.2465,
          0.2244,
          0.2249,
          0.5378,
          0.2274,
          0.5295,
          0.5091,
          0.448,
          0.3392,
          0.2235,
          0.2281,
          0.5067,
          0.2269,
          0.2328,
          0.2239,
          0.2852,
          0.2232,
          0.3102,
          0.4982,
          0.4947,
          0.4971,
          0.4956,
          0.4996,
          0.4921,
          0.4462,
          0.2398,
          0.5461,
          0.4927,
          0.5052,
          0.4884,
          0.2269,
          0.2255,
          0.4932,
          0.499,
          0.5547,
          0.492,
          0.9752,
          0.2257,
          0.5016,
          0.413,
          0.4993,
          0.9661,
          0.4915,
          0.4932,
          0.4925,
          0.4706,
          0.4976,
          0.5249,
          0.5104,
          0.4991,
          0.4956,
          0.4973,
          0.4092,
          0.4485,
          0.4323,
          0.8683,
          0.5007,
          0.9839,
          0.225,
          0.225,
          0.3254,
          0.5349,
          0.3304,
          0.2513,
          0.2247,
          0.499,
          0.5074,
          0.7235,
          0.4735,
          0.493,
          0.4979,
          0.5002,
          0.506,
          0.4468,
          0.4987,
          0.4974,
          0.5019,
          0.4923,
          0.3995,
          0.5257,
          0.536,
          0.4975,
          0.2247,
          0.4956,
          0.4949,
          0.4929,
          0.2263,
          0.4918,
          0.492,
          0.2263,
          0.2318,
          0.4917,
          0.4926,
          0.4965,
          0.4914,
          1,
          0.497,
          0.4923,
          0.2385,
          0.4946,
          0.4913,
          0.4979,
          0.5003,
          0.4915,
          0.4989,
          0.4965,
          0.4962,
          0.4944,
          0.2454,
          0.2352,
          0.4961,
          0.6912,
          0.5392,
          0.4447,
          0.5411,
          0.5325,
          0.3789,
          0.5104,
          0.5135,
          0.5299,
          0.9759,
          0.5484,
          0.5584,
          0.544,
          0.5427,
          0.5513,
          0.4991,
          0.5536,
          0.5316,
          0.5041,
          0.5136,
          0.5162,
          0.4938,
          0.492,
          0.4897,
          0.4902,
          0.4905,
          0.4791,
          0.358,
          0.489,
          0.497,
          0.4914,
          0.4897,
          0.4958,
          0.2649,
          0.4923,
          0.4228,
          0.2655,
          0.492,
          0.4251,
          0.2391,
          0.4912,
          0.4987,
          0.4436,
          0.4985,
          0.2831,
          0.4953,
          0.491,
          0.4959,
          0.4935,
          0.3539,
          0.449,
          0.3473,
          0.4932,
          0.4968,
          0.3156,
          0.4909,
          0.4978,
          0.4892,
          0.2234,
          0.9738,
          0.248,
          0.2266,
          0.2233,
          0.2232,
          0.2232,
          0.2268,
          0.2274,
          0.2319,
          0.2253,
          0.2311,
          0.2421,
          0.2232,
          0.222,
          0.2232,
          0.3591,
          0.2316,
          0.2236,
          0.2257,
          0.2452,
          0.2235,
          0.2232,
          0.4978,
          0.2313,
          0.5049,
          0.2286,
          0.4801,
          0.4934,
          0.2235,
          0.4938,
          0.2435,
          0.2366,
          0.4938,
          0.2422,
          0.4903,
          0.2859,
          0.4954,
          0.5091,
          0.5009,
          0.4974,
          0.4914,
          0.4907,
          0.5008,
          0.5017,
          0.4965,
          0.4989,
          0.4972,
          0.4994,
          0.5015,
          0.2254,
          0.493,
          0.2442,
          0.9872,
          0.2232,
          0.4944,
          0.2649,
          0.3781,
          0.5005,
          0.5123,
          0.2231,
          0.5016,
          0.4964,
          0.4916,
          0.4997,
          0.491,
          1,
          0.2232,
          0.2379,
          0.2232,
          0.5014,
          0.5342,
          0.2396,
          0.3149,
          0.2251,
          0.5335,
          0.224,
          0.5223,
          0.2307,
          0.2291,
          0.532,
          0.4923,
          0.5278,
          0.4978,
          0.5379,
          0.5287,
          0.5122,
          0.532,
          0.5378,
          0.4938,
          0.2278,
          0.5364,
          0.5565,
          0.5353,
          0.5371,
          0.2247,
          0.2247,
          0.2246,
          0.494,
          0.4898,
          0.9932,
          0.5363,
          0.5361,
          0.4959,
          0.4963,
          0.5258,
          0.2231,
          0.4986,
          0.522,
          0.5218,
          0.9839,
          0.3933,
          0.4892,
          0.4291,
          0.4993,
          0.2258,
          0.2245,
          0.9865,
          0.2382,
          0.2284,
          0.2249,
          0.2243,
          0.5074,
          0.522,
          0.5067,
          0.2773,
          0.5118,
          1,
          0.2713,
          0.2257,
          1,
          0.225,
          0.5119,
          0.2247,
          0.2256,
          0.2351,
          0.2393,
          0.2246,
          0.2582,
          0.4893,
          0.6363,
          0.2266,
          0.5246,
          0.5432,
          0.5091,
          0.5054,
          0.5106,
          0.5081,
          0.5304,
          0.5095,
          0.5051,
          0.5099,
          0.5058,
          0.2269,
          0.2273,
          1,
          0.5028,
          0.2232,
          0.2304,
          0.2258,
          0.4882,
          0.5116,
          0.4982,
          0.5016,
          0.4987,
          0.4971,
          0.4458,
          0.5323,
          0.4883,
          0.2232,
          0.4878,
          0.4961,
          0.2381,
          0.5137,
          0.2256,
          0.6193,
          0.5384,
          0.4538,
          1,
          0.5053,
          0.9347,
          0.4459,
          0.5147,
          0.5137,
          0.5131,
          0.4978,
          0.2252,
          0.4919,
          0.2452,
          0.2236,
          0.4933,
          0.2232,
          0.2325,
          0.9232,
          0.2297,
          0.2313,
          0.2232,
          0.2244,
          0.2232,
          0.2449,
          0.2232,
          0.2428,
          0.2238,
          0.4972,
          0.2232,
          0.9841,
          0.2359,
          0.2254,
          0.4921,
          0.2232,
          0.4975,
          0.2324,
          0.2311,
          0.2331,
          0.4977,
          0.4911,
          0.231,
          0.2303,
          0.2232,
          0.2563,
          0.2232,
          0.2312,
          0.2304,
          0.2251,
          0.2242,
          0.502,
          0.224,
          0.2232,
          0.2286,
          0.5396,
          0.2377,
          0.4956,
          0.5398,
          0.5071,
          0.5217,
          0.5065,
          0.5012,
          0.2251,
          0.5092,
          0.4943,
          1,
          0.2244,
          0.5081,
          0.505,
          0.5368,
          0.5353,
          0.5435,
          0.5451,
          0.5069,
          0.5051,
          0.5033,
          0.5128,
          0.498,
          0.4968,
          0.5089,
          0.8913,
          0.4459,
          0.4046,
          0.2286,
          1,
          0.9999,
          0.2289,
          0.4463,
          0.4447,
          0.4174,
          0.2379,
          0.4957,
          0.5065,
          0.4988,
          1,
          0.244,
          0.4993,
          0.2242,
          0.4962,
          0.2303,
          0.2235,
          0.499,
          0.4932,
          0.4959,
          0.2319,
          0.2321,
          0.2236,
          0.2435,
          0.2243,
          0.2319,
          0.542,
          0.2251
         ],
         "xaxis": "x",
         "y": [
          0.2335,
          0.493,
          0.4907,
          0.4353,
          0.4948,
          0.4115,
          0.4168,
          0.4912,
          0.2224,
          0.26,
          0.9374,
          0.4908,
          0.225,
          1,
          0.2221,
          0.9329,
          0.2224,
          0.2224,
          0.2221,
          0.2223,
          0.9458,
          0.2221,
          0.2221,
          0.2221,
          0.4916,
          0.2226,
          0.3404,
          0.2225,
          0.2222,
          0.2224,
          0.2224,
          0.2221,
          0.2224,
          0.2221,
          0.223,
          0.2221,
          0.2222,
          0.2221,
          0.2226,
          0.2223,
          0.2225,
          0.2212,
          0.2223,
          0.2221,
          0.2223,
          0.2208,
          0.2221,
          0.2221,
          0.2221,
          0.2225,
          0.2225,
          0.2247,
          0.2223,
          0.2225,
          0.2225,
          0.2223,
          0.2222,
          0.2222,
          0.2225,
          0.2225,
          0.2222,
          0.2224,
          0.2224,
          0.933,
          0.219,
          0.2225,
          0.2232,
          0.2225,
          0.2225,
          0.2225,
          0.2222,
          0.2222,
          0.2221,
          0.2225,
          0.2224,
          0.2224,
          0.2222,
          0.2221,
          0.2223,
          0.2221,
          0.2221,
          0.223,
          0.2226,
          0.2222,
          0.2227,
          0.2231,
          0.2234,
          0.2221,
          0.3458,
          0.2231,
          0.2221,
          0.2221,
          0.2204,
          0.2225,
          0.2223,
          0.2232,
          0.2229,
          0.9325,
          0.2221,
          0.2225,
          0.2222,
          0.2224,
          0.2221,
          0.2252,
          0.2222,
          0.2229,
          0.2227,
          0.2222,
          0.2223,
          0.2233,
          0.224,
          0.9333,
          0.2295,
          0.2223,
          0.4972,
          0.2231,
          0.2227,
          0.5014,
          0.2224,
          0.4979,
          0.4898,
          0.2221,
          0.2225,
          0.2221,
          0.5931,
          0.2222,
          0.4475,
          0.2221,
          0.2222,
          0.2221,
          0.4486,
          0.2207,
          0.2221,
          0.2228,
          0.4908,
          0.4915,
          0.2388,
          0.4908,
          0.2251,
          0.448,
          0.2243,
          0.2222,
          0.2221,
          0.4948,
          0.9102,
          0.2225,
          0.2221,
          0.2225,
          0.2224,
          0.2377,
          0.9341,
          0.2225,
          0.4887,
          0.4958,
          0.4908,
          0.4908,
          0.4904,
          0.8244,
          0.226,
          0.4914,
          0.488,
          0.9335,
          0.9085,
          0.4741,
          0.4915,
          0.4911,
          0.4914,
          0.4908,
          0.4914,
          0.4911,
          0.4899,
          0.4897,
          0.4912,
          0.492,
          0.4916,
          0.491,
          0.4915,
          0.2223,
          0.49,
          0.484,
          0.491,
          0.4918,
          0.4903,
          0.4911,
          0.4907,
          0.4904,
          0.4909,
          0.4916,
          0.4909,
          0.2226,
          0.4921,
          0.2225,
          0.4914,
          0.4909,
          0.4911,
          0.4905,
          0.4907,
          0.4909,
          0.491,
          0.4907,
          0.4899,
          0.4918,
          0.4202,
          0.4908,
          0.4935,
          0.4905,
          0.4909,
          0.4909,
          0.4917,
          0.4914,
          0.4911,
          0.4902,
          0.4909,
          0.4902,
          0.4165,
          0.4331,
          0.492,
          0.2224,
          0.4934,
          0.357,
          0.2221,
          0.4906,
          0.2222,
          0.2222,
          0.2222,
          0.2222,
          0.3623,
          0.4911,
          0.4912,
          0.4909,
          0.4272,
          0.4172,
          0.4909,
          0.4895,
          0.4912,
          0.4212,
          0.4451,
          0.4902,
          0.4911,
          0.4911,
          0.3911,
          0.7577,
          0.4903,
          0.4909,
          0.4133,
          0.4913,
          0.4921,
          0.4914,
          0.4897,
          0.4911,
          0.4056,
          0.2221,
          0.2221,
          0.4907,
          0.2225,
          0.2221,
          0.4909,
          0.4909,
          0.4904,
          0.4911,
          0.4909,
          0.4908,
          0.4911,
          0.2222,
          0.4899,
          0.4532,
          0.4909,
          0.4906,
          0.4921,
          0.4101,
          0.2224,
          0.4907,
          0.2225,
          0.4906,
          0.4911,
          0.2225,
          0.2224,
          0.2223,
          0.4894,
          0.2055,
          0.4919,
          0.2221,
          0.2221,
          0.2905,
          0.2224,
          0.4916,
          0.4324,
          0.3651,
          0.491,
          0.4911,
          0.4917,
          0.2224,
          0.2243,
          0.2224,
          0.2227,
          0.2221,
          0.2223,
          0.9215,
          0.4909,
          0.4917,
          0.4911,
          0.2253,
          0.2222,
          0.2222,
          0.2222,
          0.2227,
          0.2224,
          0.3815,
          0.2223,
          0.311,
          0.2221,
          0.4909,
          0.5133,
          0.4913,
          0.3683,
          0.3724,
          0.3414,
          0.2221,
          0.4897,
          0.2227,
          0.4893,
          0.2232,
          0.3227,
          0.4916,
          0.2233,
          0.4909,
          0.353,
          0.4945,
          0.4026,
          0.3209,
          0.2225,
          0.4905,
          0.2728,
          0.4914,
          0.4954,
          0.4444,
          0.2958,
          0.3062,
          0.4921,
          0.4863,
          0.3265,
          0.492,
          0.4918,
          0.49,
          0.4126,
          0.4894,
          0.2222,
          0.2236,
          0.3171,
          0.3455,
          0.2225,
          0.4888,
          0.3662,
          0.2867,
          0.4908,
          0.4024,
          0.4954,
          0.2227,
          0.2225,
          0.4911,
          0.9243,
          0.2221,
          0.2233,
          0.2234,
          0.2223,
          0.2221,
          0.2221,
          0.2226,
          0.2227,
          0.2221,
          0.2223,
          0.2311,
          0.223,
          0.4885,
          0.2222,
          0.4187,
          0.2222,
          0.4492,
          0.2305,
          0.4911,
          0.2272,
          0.2673,
          0.2222,
          0.3127,
          0.2247,
          0.4918,
          0.2222,
          0.2221,
          0.2569,
          0.4911,
          0.2221,
          0.2442,
          0.2232,
          0.2221,
          0.3094,
          0.4902,
          0.2309,
          0.4306,
          0.4911,
          0.9323,
          0.493,
          0.2225,
          0.4911,
          0.2289,
          0.934,
          0.9339,
          0.9337,
          0.4901,
          0.2239,
          0.2221,
          0.4906,
          0.2221,
          0.2224,
          0.2221,
          0.2229,
          0.2225,
          0.2224,
          0.4922,
          0.2222,
          0.2221,
          0.2225,
          0.2731,
          0.2887,
          0.2222,
          0.4909,
          0.2807,
          0.2218,
          0.2224,
          0.4906,
          0.4961,
          0.2236,
          0.2223,
          0.2222,
          0.4928,
          0.2225,
          0.4945,
          0.4917,
          0.4129,
          0.3221,
          0.2232,
          0.2221,
          0.4913,
          0.2268,
          0.2226,
          0.2232,
          0.2794,
          0.2221,
          0.2846,
          0.4907,
          0.4914,
          0.4906,
          0.4907,
          0.491,
          0.4902,
          0.4113,
          0.2241,
          0.4998,
          0.4907,
          0.4909,
          0.4874,
          0.2245,
          0.2236,
          0.4851,
          0.4907,
          0.504,
          0.4908,
          0.9221,
          0.2234,
          0.4912,
          0.4105,
          0.4913,
          0.9047,
          0.4905,
          0.4922,
          0.4915,
          0.4636,
          0.4912,
          0.4956,
          0.4915,
          0.4909,
          0.4945,
          0.49,
          0.3991,
          0.4093,
          0.3989,
          0.8683,
          0.4907,
          0.9216,
          0.2224,
          0.2239,
          0.3195,
          0.4919,
          0.3088,
          0.2505,
          0.2224,
          0.4909,
          0.4908,
          0.6727,
          0.4516,
          0.4904,
          0.4909,
          0.491,
          0.4914,
          0.4118,
          0.4906,
          0.491,
          0.4911,
          0.4912,
          0.3984,
          0.4912,
          0.4917,
          0.4905,
          0.2224,
          0.4905,
          0.49,
          0.4919,
          0.2222,
          0.4905,
          0.4909,
          0.2224,
          0.2225,
          0.4907,
          0.4915,
          0.4955,
          0.4903,
          1,
          0.4905,
          0.4912,
          0.2301,
          0.4908,
          0.49,
          0.4906,
          0.491,
          0.4904,
          0.491,
          0.4909,
          0.4952,
          0.4934,
          0.2231,
          0.2225,
          0.4918,
          0.6349,
          0.4919,
          0.411,
          0.4927,
          0.4917,
          0.3715,
          0.4907,
          0.4927,
          0.4921,
          0.9194,
          0.5022,
          0.5036,
          0.4912,
          0.5011,
          0.5052,
          0.492,
          0.5029,
          0.4902,
          0.4911,
          0.4926,
          0.4913,
          0.4928,
          0.4908,
          0.4884,
          0.4891,
          0.4895,
          0.4754,
          0.3552,
          0.4884,
          0.4909,
          0.4904,
          0.4886,
          0.4894,
          0.2618,
          0.4914,
          0.4203,
          0.2603,
          0.4908,
          0.4227,
          0.2227,
          0.4899,
          0.4907,
          0.4329,
          0.4911,
          0.2574,
          0.4943,
          0.4898,
          0.4951,
          0.4924,
          0.3471,
          0.448,
          0.3446,
          0.4921,
          0.491,
          0.313,
          0.4898,
          0.4909,
          0.4881,
          0.2222,
          0.8816,
          0.2471,
          0.2252,
          0.2222,
          0.2221,
          0.2221,
          0.2225,
          0.2224,
          0.2222,
          0.2224,
          0.2282,
          0.2224,
          0.2208,
          0.205,
          0.2221,
          0.3576,
          0.2226,
          0.2226,
          0.2224,
          0.2221,
          0.2221,
          0.2222,
          0.4911,
          0.2222,
          0.4913,
          0.2257,
          0.4661,
          0.4914,
          0.216,
          0.4502,
          0.2224,
          0.2224,
          0.4898,
          0.2225,
          0.4902,
          0.2677,
          0.4907,
          0.4932,
          0.4936,
          0.4908,
          0.4904,
          0.4897,
          0.4913,
          0.4911,
          0.4899,
          0.4912,
          0.4919,
          0.4912,
          0.4916,
          0.2252,
          0.4898,
          0.2222,
          0.9243,
          0.2221,
          0.4913,
          0.2413,
          0.3664,
          0.4912,
          0.4917,
          0.2221,
          0.4916,
          0.4895,
          0.4902,
          0.49,
          0.4899,
          0.9982,
          0.2221,
          0.2226,
          0.2221,
          0.4909,
          0.4911,
          0.2227,
          0.3106,
          0.2224,
          0.491,
          0.2238,
          0.4909,
          0.2222,
          0.2226,
          0.491,
          0.4897,
          0.4909,
          0.4906,
          0.491,
          0.4909,
          0.4909,
          0.491,
          0.491,
          0.4903,
          0.2221,
          0.4909,
          0.516,
          0.491,
          0.492,
          0.2222,
          0.2222,
          0.2222,
          0.4929,
          0.4887,
          0.9311,
          0.4909,
          0.4908,
          0.4903,
          0.4951,
          0.4917,
          0.2221,
          0.4891,
          0.491,
          0.4907,
          0.922,
          0.3879,
          0.4881,
          0.4281,
          0.4908,
          0.2224,
          0.2219,
          0.9269,
          0.2231,
          0.2262,
          0.2224,
          0.2223,
          0.4913,
          0.4917,
          0.4912,
          0.2709,
          0.4917,
          0.9224,
          0.2698,
          0.2224,
          1,
          0.2224,
          0.4917,
          0.2219,
          0.2224,
          0.2275,
          0.2364,
          0.2223,
          0.2554,
          0.4883,
          0.6182,
          0.2224,
          0.4912,
          0.4935,
          0.4913,
          0.4912,
          0.4916,
          0.4913,
          0.4916,
          0.4914,
          0.4916,
          0.4914,
          0.491,
          0.2225,
          0.2226,
          1,
          0.4912,
          0.2222,
          0.2225,
          0.2224,
          0.4882,
          0.4914,
          0.4904,
          0.4909,
          0.4905,
          0.4916,
          0.4109,
          0.4925,
          0.4872,
          0.2221,
          0.4867,
          0.4903,
          0.2225,
          0.4926,
          0.2224,
          0.5757,
          0.4984,
          0.4505,
          0.9306,
          0.4919,
          0.8799,
          0.411,
          0.4924,
          0.4922,
          0.4926,
          0.4909,
          0.2222,
          0.4908,
          0.2363,
          0.2222,
          0.4922,
          0.2226,
          0.2227,
          0.9224,
          0.2224,
          0.2225,
          0.2231,
          0.2241,
          0.2225,
          0.2228,
          0.2221,
          0.2226,
          0.2231,
          0.4893,
          0.2221,
          0.9311,
          0.2225,
          0.2224,
          0.491,
          0.2221,
          0.4901,
          0.2229,
          0.2226,
          0.2224,
          0.4903,
          0.49,
          0.2225,
          0.2248,
          0.2221,
          0.2467,
          0.2127,
          0.2226,
          0.2225,
          0.2224,
          0.2223,
          0.4903,
          0.2238,
          0.222,
          0.2231,
          0.491,
          0.2229,
          0.4899,
          0.491,
          0.4902,
          0.4918,
          0.4912,
          0.4908,
          0.2239,
          0.4907,
          0.4893,
          0.9422,
          0.2225,
          0.4912,
          0.4909,
          0.4909,
          0.4908,
          0.4909,
          0.491,
          0.4909,
          0.4913,
          0.491,
          0.491,
          0.49,
          0.4906,
          0.4912,
          0.8063,
          0.411,
          0.3691,
          0.2225,
          0.9328,
          0.9328,
          0.2229,
          0.4365,
          0.4099,
          0.4089,
          0.2225,
          0.4906,
          0.5054,
          0.4912,
          1,
          0.2226,
          0.4909,
          0.2225,
          0.4905,
          0.2236,
          0.2222,
          0.4911,
          0.4921,
          0.4948,
          0.2226,
          0.2226,
          0.2222,
          0.2224,
          0.2216,
          0.2226,
          0.4914,
          0.2225
         ],
         "yaxis": "y"
        },
        {
         "hovertemplate": "x=%{x}<br>y=%{y}<extra></extra>",
         "legendgroup": "",
         "line": {
          "color": "lightgreen",
          "dash": "solid",
          "width": 3
         },
         "marker": {
          "symbol": "circle"
         },
         "mode": "lines",
         "name": "",
         "orientation": "v",
         "showlegend": false,
         "type": "scatter",
         "x": [
          0.3,
          1
         ],
         "xaxis": "x",
         "y": [
          0.3,
          1
         ],
         "yaxis": "y"
        }
       ],
       "layout": {
        "autosize": false,
        "height": 500,
        "legend": {
         "title": {
          "text": "Diff_Perc < 10"
         },
         "tracegroupgap": 0
        },
        "margin": {
         "t": 60
        },
        "template": {
         "data": {
          "bar": [
           {
            "error_x": {
             "color": "#2a3f5f"
            },
            "error_y": {
             "color": "#2a3f5f"
            },
            "marker": {
             "line": {
              "color": "#E5ECF6",
              "width": 0.5
             },
             "pattern": {
              "fillmode": "overlay",
              "size": 10,
              "solidity": 0.2
             }
            },
            "type": "bar"
           }
          ],
          "barpolar": [
           {
            "marker": {
             "line": {
              "color": "#E5ECF6",
              "width": 0.5
             },
             "pattern": {
              "fillmode": "overlay",
              "size": 10,
              "solidity": 0.2
             }
            },
            "type": "barpolar"
           }
          ],
          "carpet": [
           {
            "aaxis": {
             "endlinecolor": "#2a3f5f",
             "gridcolor": "white",
             "linecolor": "white",
             "minorgridcolor": "white",
             "startlinecolor": "#2a3f5f"
            },
            "baxis": {
             "endlinecolor": "#2a3f5f",
             "gridcolor": "white",
             "linecolor": "white",
             "minorgridcolor": "white",
             "startlinecolor": "#2a3f5f"
            },
            "type": "carpet"
           }
          ],
          "choropleth": [
           {
            "colorbar": {
             "outlinewidth": 0,
             "ticks": ""
            },
            "type": "choropleth"
           }
          ],
          "contour": [
           {
            "colorbar": {
             "outlinewidth": 0,
             "ticks": ""
            },
            "colorscale": [
             [
              0,
              "#0d0887"
             ],
             [
              0.1111111111111111,
              "#46039f"
             ],
             [
              0.2222222222222222,
              "#7201a8"
             ],
             [
              0.3333333333333333,
              "#9c179e"
             ],
             [
              0.4444444444444444,
              "#bd3786"
             ],
             [
              0.5555555555555556,
              "#d8576b"
             ],
             [
              0.6666666666666666,
              "#ed7953"
             ],
             [
              0.7777777777777778,
              "#fb9f3a"
             ],
             [
              0.8888888888888888,
              "#fdca26"
             ],
             [
              1,
              "#f0f921"
             ]
            ],
            "type": "contour"
           }
          ],
          "contourcarpet": [
           {
            "colorbar": {
             "outlinewidth": 0,
             "ticks": ""
            },
            "type": "contourcarpet"
           }
          ],
          "heatmap": [
           {
            "colorbar": {
             "outlinewidth": 0,
             "ticks": ""
            },
            "colorscale": [
             [
              0,
              "#0d0887"
             ],
             [
              0.1111111111111111,
              "#46039f"
             ],
             [
              0.2222222222222222,
              "#7201a8"
             ],
             [
              0.3333333333333333,
              "#9c179e"
             ],
             [
              0.4444444444444444,
              "#bd3786"
             ],
             [
              0.5555555555555556,
              "#d8576b"
             ],
             [
              0.6666666666666666,
              "#ed7953"
             ],
             [
              0.7777777777777778,
              "#fb9f3a"
             ],
             [
              0.8888888888888888,
              "#fdca26"
             ],
             [
              1,
              "#f0f921"
             ]
            ],
            "type": "heatmap"
           }
          ],
          "heatmapgl": [
           {
            "colorbar": {
             "outlinewidth": 0,
             "ticks": ""
            },
            "colorscale": [
             [
              0,
              "#0d0887"
             ],
             [
              0.1111111111111111,
              "#46039f"
             ],
             [
              0.2222222222222222,
              "#7201a8"
             ],
             [
              0.3333333333333333,
              "#9c179e"
             ],
             [
              0.4444444444444444,
              "#bd3786"
             ],
             [
              0.5555555555555556,
              "#d8576b"
             ],
             [
              0.6666666666666666,
              "#ed7953"
             ],
             [
              0.7777777777777778,
              "#fb9f3a"
             ],
             [
              0.8888888888888888,
              "#fdca26"
             ],
             [
              1,
              "#f0f921"
             ]
            ],
            "type": "heatmapgl"
           }
          ],
          "histogram": [
           {
            "marker": {
             "pattern": {
              "fillmode": "overlay",
              "size": 10,
              "solidity": 0.2
             }
            },
            "type": "histogram"
           }
          ],
          "histogram2d": [
           {
            "colorbar": {
             "outlinewidth": 0,
             "ticks": ""
            },
            "colorscale": [
             [
              0,
              "#0d0887"
             ],
             [
              0.1111111111111111,
              "#46039f"
             ],
             [
              0.2222222222222222,
              "#7201a8"
             ],
             [
              0.3333333333333333,
              "#9c179e"
             ],
             [
              0.4444444444444444,
              "#bd3786"
             ],
             [
              0.5555555555555556,
              "#d8576b"
             ],
             [
              0.6666666666666666,
              "#ed7953"
             ],
             [
              0.7777777777777778,
              "#fb9f3a"
             ],
             [
              0.8888888888888888,
              "#fdca26"
             ],
             [
              1,
              "#f0f921"
             ]
            ],
            "type": "histogram2d"
           }
          ],
          "histogram2dcontour": [
           {
            "colorbar": {
             "outlinewidth": 0,
             "ticks": ""
            },
            "colorscale": [
             [
              0,
              "#0d0887"
             ],
             [
              0.1111111111111111,
              "#46039f"
             ],
             [
              0.2222222222222222,
              "#7201a8"
             ],
             [
              0.3333333333333333,
              "#9c179e"
             ],
             [
              0.4444444444444444,
              "#bd3786"
             ],
             [
              0.5555555555555556,
              "#d8576b"
             ],
             [
              0.6666666666666666,
              "#ed7953"
             ],
             [
              0.7777777777777778,
              "#fb9f3a"
             ],
             [
              0.8888888888888888,
              "#fdca26"
             ],
             [
              1,
              "#f0f921"
             ]
            ],
            "type": "histogram2dcontour"
           }
          ],
          "mesh3d": [
           {
            "colorbar": {
             "outlinewidth": 0,
             "ticks": ""
            },
            "type": "mesh3d"
           }
          ],
          "parcoords": [
           {
            "line": {
             "colorbar": {
              "outlinewidth": 0,
              "ticks": ""
             }
            },
            "type": "parcoords"
           }
          ],
          "pie": [
           {
            "automargin": true,
            "type": "pie"
           }
          ],
          "scatter": [
           {
            "marker": {
             "colorbar": {
              "outlinewidth": 0,
              "ticks": ""
             }
            },
            "type": "scatter"
           }
          ],
          "scatter3d": [
           {
            "line": {
             "colorbar": {
              "outlinewidth": 0,
              "ticks": ""
             }
            },
            "marker": {
             "colorbar": {
              "outlinewidth": 0,
              "ticks": ""
             }
            },
            "type": "scatter3d"
           }
          ],
          "scattercarpet": [
           {
            "marker": {
             "colorbar": {
              "outlinewidth": 0,
              "ticks": ""
             }
            },
            "type": "scattercarpet"
           }
          ],
          "scattergeo": [
           {
            "marker": {
             "colorbar": {
              "outlinewidth": 0,
              "ticks": ""
             }
            },
            "type": "scattergeo"
           }
          ],
          "scattergl": [
           {
            "marker": {
             "colorbar": {
              "outlinewidth": 0,
              "ticks": ""
             }
            },
            "type": "scattergl"
           }
          ],
          "scattermapbox": [
           {
            "marker": {
             "colorbar": {
              "outlinewidth": 0,
              "ticks": ""
             }
            },
            "type": "scattermapbox"
           }
          ],
          "scatterpolar": [
           {
            "marker": {
             "colorbar": {
              "outlinewidth": 0,
              "ticks": ""
             }
            },
            "type": "scatterpolar"
           }
          ],
          "scatterpolargl": [
           {
            "marker": {
             "colorbar": {
              "outlinewidth": 0,
              "ticks": ""
             }
            },
            "type": "scatterpolargl"
           }
          ],
          "scatterternary": [
           {
            "marker": {
             "colorbar": {
              "outlinewidth": 0,
              "ticks": ""
             }
            },
            "type": "scatterternary"
           }
          ],
          "surface": [
           {
            "colorbar": {
             "outlinewidth": 0,
             "ticks": ""
            },
            "colorscale": [
             [
              0,
              "#0d0887"
             ],
             [
              0.1111111111111111,
              "#46039f"
             ],
             [
              0.2222222222222222,
              "#7201a8"
             ],
             [
              0.3333333333333333,
              "#9c179e"
             ],
             [
              0.4444444444444444,
              "#bd3786"
             ],
             [
              0.5555555555555556,
              "#d8576b"
             ],
             [
              0.6666666666666666,
              "#ed7953"
             ],
             [
              0.7777777777777778,
              "#fb9f3a"
             ],
             [
              0.8888888888888888,
              "#fdca26"
             ],
             [
              1,
              "#f0f921"
             ]
            ],
            "type": "surface"
           }
          ],
          "table": [
           {
            "cells": {
             "fill": {
              "color": "#EBF0F8"
             },
             "line": {
              "color": "white"
             }
            },
            "header": {
             "fill": {
              "color": "#C8D4E3"
             },
             "line": {
              "color": "white"
             }
            },
            "type": "table"
           }
          ]
         },
         "layout": {
          "annotationdefaults": {
           "arrowcolor": "#2a3f5f",
           "arrowhead": 0,
           "arrowwidth": 1
          },
          "autotypenumbers": "strict",
          "coloraxis": {
           "colorbar": {
            "outlinewidth": 0,
            "ticks": ""
           }
          },
          "colorscale": {
           "diverging": [
            [
             0,
             "#8e0152"
            ],
            [
             0.1,
             "#c51b7d"
            ],
            [
             0.2,
             "#de77ae"
            ],
            [
             0.3,
             "#f1b6da"
            ],
            [
             0.4,
             "#fde0ef"
            ],
            [
             0.5,
             "#f7f7f7"
            ],
            [
             0.6,
             "#e6f5d0"
            ],
            [
             0.7,
             "#b8e186"
            ],
            [
             0.8,
             "#7fbc41"
            ],
            [
             0.9,
             "#4d9221"
            ],
            [
             1,
             "#276419"
            ]
           ],
           "sequential": [
            [
             0,
             "#0d0887"
            ],
            [
             0.1111111111111111,
             "#46039f"
            ],
            [
             0.2222222222222222,
             "#7201a8"
            ],
            [
             0.3333333333333333,
             "#9c179e"
            ],
            [
             0.4444444444444444,
             "#bd3786"
            ],
            [
             0.5555555555555556,
             "#d8576b"
            ],
            [
             0.6666666666666666,
             "#ed7953"
            ],
            [
             0.7777777777777778,
             "#fb9f3a"
            ],
            [
             0.8888888888888888,
             "#fdca26"
            ],
            [
             1,
             "#f0f921"
            ]
           ],
           "sequentialminus": [
            [
             0,
             "#0d0887"
            ],
            [
             0.1111111111111111,
             "#46039f"
            ],
            [
             0.2222222222222222,
             "#7201a8"
            ],
            [
             0.3333333333333333,
             "#9c179e"
            ],
            [
             0.4444444444444444,
             "#bd3786"
            ],
            [
             0.5555555555555556,
             "#d8576b"
            ],
            [
             0.6666666666666666,
             "#ed7953"
            ],
            [
             0.7777777777777778,
             "#fb9f3a"
            ],
            [
             0.8888888888888888,
             "#fdca26"
            ],
            [
             1,
             "#f0f921"
            ]
           ]
          },
          "colorway": [
           "#636efa",
           "#EF553B",
           "#00cc96",
           "#ab63fa",
           "#FFA15A",
           "#19d3f3",
           "#FF6692",
           "#B6E880",
           "#FF97FF",
           "#FECB52"
          ],
          "font": {
           "color": "#2a3f5f"
          },
          "geo": {
           "bgcolor": "white",
           "lakecolor": "white",
           "landcolor": "#E5ECF6",
           "showlakes": true,
           "showland": true,
           "subunitcolor": "white"
          },
          "hoverlabel": {
           "align": "left"
          },
          "hovermode": "closest",
          "mapbox": {
           "style": "light"
          },
          "paper_bgcolor": "white",
          "plot_bgcolor": "#E5ECF6",
          "polar": {
           "angularaxis": {
            "gridcolor": "white",
            "linecolor": "white",
            "ticks": ""
           },
           "bgcolor": "#E5ECF6",
           "radialaxis": {
            "gridcolor": "white",
            "linecolor": "white",
            "ticks": ""
           }
          },
          "scene": {
           "xaxis": {
            "backgroundcolor": "#E5ECF6",
            "gridcolor": "white",
            "gridwidth": 2,
            "linecolor": "white",
            "showbackground": true,
            "ticks": "",
            "zerolinecolor": "white"
           },
           "yaxis": {
            "backgroundcolor": "#E5ECF6",
            "gridcolor": "white",
            "gridwidth": 2,
            "linecolor": "white",
            "showbackground": true,
            "ticks": "",
            "zerolinecolor": "white"
           },
           "zaxis": {
            "backgroundcolor": "#E5ECF6",
            "gridcolor": "white",
            "gridwidth": 2,
            "linecolor": "white",
            "showbackground": true,
            "ticks": "",
            "zerolinecolor": "white"
           }
          },
          "shapedefaults": {
           "line": {
            "color": "#2a3f5f"
           }
          },
          "ternary": {
           "aaxis": {
            "gridcolor": "white",
            "linecolor": "white",
            "ticks": ""
           },
           "baxis": {
            "gridcolor": "white",
            "linecolor": "white",
            "ticks": ""
           },
           "bgcolor": "#E5ECF6",
           "caxis": {
            "gridcolor": "white",
            "linecolor": "white",
            "ticks": ""
           }
          },
          "title": {
           "x": 0.05
          },
          "xaxis": {
           "automargin": true,
           "gridcolor": "white",
           "linecolor": "white",
           "ticks": "",
           "title": {
            "standoff": 15
           },
           "zerolinecolor": "white",
           "zerolinewidth": 2
          },
          "yaxis": {
           "automargin": true,
           "gridcolor": "white",
           "linecolor": "white",
           "ticks": "",
           "title": {
            "standoff": 15
           },
           "zerolinecolor": "white",
           "zerolinewidth": 2
          }
         }
        },
        "title": {
         "text": "Efficiency Scores Comparison (Blue: 886, Red: 847)"
        },
        "width": 800,
        "xaxis": {
         "anchor": "y",
         "autorange": true,
         "domain": [
          0,
          1
         ],
         "range": [
          0.17257481821660925,
          1.0494251817833908
         ],
         "title": {
          "text": "Efficiency_Scores_Basic"
         },
         "type": "linear"
        },
        "yaxis": {
         "anchor": "x",
         "autorange": true,
         "domain": [
          0,
          1
         ],
         "range": [
          0.15036729857819903,
          1.0546327014218009
         ],
         "title": {
          "text": "Efficiency_Scores_with_ML"
         },
         "type": "linear"
        }
       }
      },
      "image/png": "[encoded data removed]",
      "text/html": [
       "<div>                            <div id=\"0bf6bcc5-0241-4ac8-98a5-2f541fa801ba\" class=\"plotly-graph-div\" style=\"height:500px; width:800px;\"></div>            <script type=\"text/javascript\">                require([\"plotly\"], function(Plotly) {                    window.PLOTLYENV=window.PLOTLYENV || {};                                    if (document.getElementById(\"0bf6bcc5-0241-4ac8-98a5-2f541fa801ba\")) {                    Plotly.newPlot(                        \"0bf6bcc5-0241-4ac8-98a5-2f541fa801ba\",                        [{\"customdata\":[[31.9317,\"DMU 0001\"],[33.628,\"DMU 0003\"],[38.008,\"DMU 0004\"],[24.6981,\"DMU 0006\"],[14.9663,\"DMU 0007\"],[16.4699,\"DMU 0008\"],[30.423,\"DMU 0009\"],[27.27,\"DMU 0010\"],[24.699,\"DMU 0011\"],[12.3085,\"DMU 0012\"],[13.2335,\"DMU 0013\"],[29.0532,\"DMU 0014\"],[29.5617,\"DMU 0015\"],[30.299,\"DMU 0016\"],[34.9828,\"DMU 0018\"],[30.9004,\"DMU 0019\"],[31.6191,\"DMU 0020\"],[43.0396,\"DMU 0021\"],[29.1117,\"DMU 0022\"],[12.0383,\"DMU 0023\"],[34.8279,\"DMU 0024\"],[31.9279,\"DMU 0025\"],[11.5311,\"DMU 0026\"],[21.2446,\"DMU 0027\"],[25.8514,\"DMU 0028\"],[24.6366,\"DMU 0029\"],[30.6814,\"DMU 0030\"],[34.3606,\"DMU 0031\"],[33.0876,\"DMU 0033\"],[24.6851,\"DMU 0034\"],[33.2278,\"DMU 0035\"],[31.633,\"DMU 0036\"],[29.9327,\"DMU 0038\"],[29.0015,\"DMU 0039\"],[35.0645,\"DMU 0040\"],[33.5097,\"DMU 0042\"],[32.6037,\"DMU 0043\"],[35.1951,\"DMU 0044\"],[36.948,\"DMU 0045\"],[38.9205,\"DMU 0046\"],[41.1937,\"DMU 0047\"],[38.573,\"DMU 0048\"],[37.9966,\"DMU 0049\"],[38.8606,\"DMU 0050\"],[31.8523,\"DMU 0051\"],[29.7554,\"DMU 0052\"],[34.0985,\"DMU 0054\"],[29.9615,\"DMU 0055\"],[25.8407,\"DMU 0056\"],[32.7955,\"DMU 0057\"],[34.1035,\"DMU 0058\"],[31.326,\"DMU 0059\"],[33.3544,\"DMU 0061\"],[36.2037,\"DMU 0062\"],[10.592,\"DMU 0063\"],[33.2861,\"DMU 0064\"],[13.0947,\"DMU 0066\"],[32.4648,\"DMU 0067\"],[21.2703,\"DMU 0069\"],[16.8714,\"DMU 0070\"],[77.0812,\"DMU 0071\"],[27.6028,\"DMU 0072\"],[35.3259,\"DMU 0073\"],[31.1503,\"DMU 0074\"],[32.5495,\"DMU 0075\"],[41.7681,\"DMU 0076\"],[34.2292,\"DMU 0077\"],[31.64,\"DMU 0078\"],[13.6943,\"DMU 0080\"],[30.8186,\"DMU 0082\"],[17.5185,\"DMU 0083\"],[28.3778,\"DMU 0084\"],[47.6482,\"DMU 0085\"],[10.6419,\"DMU 0086\"],[43.8399,\"DMU 0089\"],[50.0046,\"DMU 0090\"],[46.7419,\"DMU 0092\"],[43.5938,\"DMU 0094\"],[23.7045,\"DMU 0095\"],[38.8184,\"DMU 0098\"],[29.7808,\"DMU 0100\"],[12.8838,\"DMU 0101\"],[36.3839,\"DMU 0102\"],[57.6328,\"DMU 0104\"],[38.5404,\"DMU 0106\"],[42.2087,\"DMU 0107\"],[49.9441,\"DMU 0108\"],[23.9813,\"DMU 0110\"],[33.6479,\"DMU 0117\"],[31.3482,\"DMU 0118\"],[70.273,\"DMU 0119\"],[36.8303,\"DMU 0121\"],[12.3947,\"DMU 0123\"],[51.9988,\"DMU 0124\"],[54.3142,\"DMU 0125\"],[27.8399,\"DMU 0127\"],[21.3936,\"DMU 0129\"],[56.5869,\"DMU 0130\"],[42.6843,\"DMU 0131\"],[28.5867,\"DMU 0133\"],[19.0879,\"DMU 0134\"],[42.865,\"DMU 0135\"],[12.1232,\"DMU 0136\"],[39.3612,\"DMU 0138\"],[16.5344,\"DMU 0139\"],[55.7138,\"DMU 0141\"],[53.5074,\"DMU 0143\"],[52.2066,\"DMU 0144\"],[42.5521,\"DMU 0145\"],[52.6145,\"DMU 0146\"],[47.0467,\"DMU 0147\"],[58.8816,\"DMU 0148\"],[53.9892,\"DMU 0149\"],[57.697,\"DMU 0150\"],[16.6734,\"DMU 0151\"],[53.8697,\"DMU 0153\"],[18.3709,\"DMU 0159\"],[10.3205,\"DMU 0161\"],[10.893,\"DMU 0163\"],[52.5748,\"DMU 0164\"],[26.4201,\"DMU 0170\"],[58.5822,\"DMU 0171\"],[50.8366,\"DMU 0174\"],[50.449,\"DMU 0176\"],[10.2706,\"DMU 0179\"],[15.254,\"DMU 0180\"],[30.7334,\"DMU 0182\"],[10.2213,\"DMU 0183\"],[24.0305,\"DMU 0184\"],[10.4426,\"DMU 0187\"],[53.2899,\"DMU 0188\"],[50.1377,\"DMU 0189\"],[51.7501,\"DMU 0190\"],[51.1977,\"DMU 0191\"],[46.6654,\"DMU 0192\"],[56.0449,\"DMU 0196\"],[52.7323,\"DMU 0197\"],[19.3503,\"DMU 0202\"],[51.0889,\"DMU 0203\"],[56.5613,\"DMU 0205\"],[56.5457,\"DMU 0206\"],[56.5374,\"DMU 0207\"],[35.8295,\"DMU 0208\"],[47.1964,\"DMU 0210\"],[43.7422,\"DMU 0214\"],[15.1306,\"DMU 0215\"],[49.8451,\"DMU 0217\"],[51.2397,\"DMU 0218\"],[51.6858,\"DMU 0219\"],[21.8443,\"DMU 0220\"],[11.3701,\"DMU 0221\"],[60.3702,\"DMU 0222\"],[51.1713,\"DMU 0224\"],[59.7241,\"DMU 0225\"],[66.2443,\"DMU 0227\"],[57.3859,\"DMU 0228\"],[52.7489,\"DMU 0229\"],[56.0139,\"DMU 0230\"],[17.1191,\"DMU 0233\"],[53.6357,\"DMU 0234\"],[15.6829,\"DMU 0235\"],[46.4942,\"DMU 0236\"],[52.5868,\"DMU 0237\"],[52.0224,\"DMU 0238\"],[53.3255,\"DMU 0242\"],[17.5872,\"DMU 0243\"],[56.8218,\"DMU 0244\"],[53.635,\"DMU 0252\"],[43.54,\"DMU 0255\"],[53.3171,\"DMU 0256\"],[17.893,\"DMU 0257\"],[62.7305,\"DMU 0258\"],[53.4621,\"DMU 0261\"],[52.2153,\"DMU 0262\"],[57.7929,\"DMU 0264\"],[61.215,\"DMU 0266\"],[57.6813,\"DMU 0267\"],[57.4798,\"DMU 0269\"],[25.794,\"DMU 0270\"],[12.3831,\"DMU 0272\"],[25.3504,\"DMU 0273\"],[47.1924,\"DMU 0274\"],[56.9747,\"DMU 0275\"],[47.6381,\"DMU 0276\"],[52.4809,\"DMU 0277\"],[53.672,\"DMU 0278\"],[50.7907,\"DMU 0280\"],[51.5812,\"DMU 0289\"],[30.3237,\"DMU 0292\"],[55.9571,\"DMU 0294\"],[33.0528,\"DMU 0301\"],[39.0607,\"DMU 0302\"],[38.9422,\"DMU 0303\"],[70.2775,\"DMU 0304\"],[19.5908,\"DMU 0305\"],[21.8622,\"DMU 0306\"],[53.682,\"DMU 0307\"],[62.7222,\"DMU 0308\"],[19.025,\"DMU 0309\"],[20.5452,\"DMU 0310\"],[58.3918,\"DMU 0313\"],[40.7163,\"DMU 0316\"],[11.124,\"DMU 0317\"],[41.674,\"DMU 0318\"],[30.8873,\"DMU 0320\"],[31.7799,\"DMU 0321\"],[49.2196,\"DMU 0322\"],[55.3566,\"DMU 0323\"],[39.5781,\"DMU 0324\"],[23.226,\"DMU 0325\"],[11.4418,\"DMU 0327\"],[19.4125,\"DMU 0328\"],[48.3291,\"DMU 0329\"],[10.7647,\"DMU 0330\"],[12.459,\"DMU 0331\"],[34.514,\"DMU 0332\"],[48.6182,\"DMU 0333\"],[49.8949,\"DMU 0334\"],[58.3585,\"DMU 0337\"],[52.4835,\"DMU 0340\"],[14.5728,\"DMU 0346\"],[16.2365,\"DMU 0349\"],[24.6795,\"DMU 0351\"],[11.6453,\"DMU 0352\"],[10.9741,\"DMU 0353\"],[21.3755,\"DMU 0354\"],[11.1804,\"DMU 0356\"],[41.7241,\"DMU 0359\"],[16.3273,\"DMU 0360\"],[27.9651,\"DMU 0361\"],[14.4023,\"DMU 0364\"],[15.6089,\"DMU 0366\"],[17.2618,\"DMU 0367\"],[61.0122,\"DMU 0368\"],[12.0162,\"DMU 0370\"],[13.6799,\"DMU 0371\"],[50.438,\"DMU 0374\"],[16.8433,\"DMU 0375\"],[31.0715,\"DMU 0376\"],[18.0151,\"DMU 0377\"],[19.7682,\"DMU 0379\"],[53.6199,\"DMU 0381\"],[16.5471,\"DMU 0382\"],[52.1533,\"DMU 0383\"],[17.5677,\"DMU 0385\"],[39.4329,\"DMU 0386\"],[16.7121,\"DMU 0388\"],[25.821,\"DMU 0389\"],[24.98,\"DMU 0390\"],[47.0957,\"DMU 0391\"],[52.2481,\"DMU 0392\"],[17.014,\"DMU 0393\"],[18.3808,\"DMU 0394\"],[23.6028,\"DMU 0396\"],[40.7256,\"DMU 0397\"],[30.4379,\"DMU 0398\"],[24.1878,\"DMU 0399\"],[31.81,\"DMU 0400\"],[40.7944,\"DMU 0401\"],[13.546,\"DMU 0402\"],[48.4979,\"DMU 0403\"],[52.6178,\"DMU 0405\"],[38.7974,\"DMU 0406\"],[45.6318,\"DMU 0407\"],[49.2323,\"DMU 0408\"],[45.9757,\"DMU 0410\"],[48.0013,\"DMU 0412\"],[40.1531,\"DMU 0413\"],[65.7652,\"DMU 0414\"],[45.2295,\"DMU 0415\"],[12.1181,\"DMU 0416\"],[50.2805,\"DMU 0417\"],[30.9949,\"DMU 0418\"],[46.4155,\"DMU 0419\"],[58.0226,\"DMU 0426\"],[51.6491,\"DMU 0428\"],[40.5077,\"DMU 0429\"],[26.05,\"DMU 0430\"],[28.5078,\"DMU 0432\"],[47.6589,\"DMU 0435\"],[40.4626,\"DMU 0436\"],[45.2727,\"DMU 0437\"],[37.1503,\"DMU 0440\"],[50.4506,\"DMU 0441\"],[18.6981,\"DMU 0442\"],[10.8279,\"DMU 0443\"],[43.915,\"DMU 0444\"],[36.5292,\"DMU 0447\"],[43.6514,\"DMU 0448\"],[28.8583,\"DMU 0449\"],[47.4137,\"DMU 0452\"],[25.8315,\"DMU 0453\"],[40.1163,\"DMU 0454\"],[57.1692,\"DMU 0455\"],[11.1417,\"DMU 0457\"],[34.2985,\"DMU 0459\"],[10.8871,\"DMU 0460\"],[13.6582,\"DMU 0461\"],[15.6094,\"DMU 0480\"],[36.8969,\"DMU 0485\"],[17.6233,\"DMU 0489\"],[24.2401,\"DMU 0493\"],[10.8157,\"DMU 0495\"],[42.9577,\"DMU 0498\"],[24.1712,\"DMU 0501\"],[30.215,\"DMU 0504\"],[54.7209,\"DMU 0509\"],[32.7999,\"DMU 0520\"],[14.0834,\"DMU 0521\"],[17.1396,\"DMU 0522\"],[13.9861,\"DMU 0524\"],[23.6746,\"DMU 0539\"],[14.8435,\"DMU 0542\"],[19.3868,\"DMU 0551\"],[17.358,\"DMU 0555\"],[28.0939,\"DMU 0557\"],[31.5369,\"DMU 0559\"],[15.3975,\"DMU 0561\"],[30.585,\"DMU 0571\"],[43.7772,\"DMU 0573\"],[49.6246,\"DMU 0574\"],[46.3257,\"DMU 0579\"],[34.3015,\"DMU 0580\"],[19.857,\"DMU 0582\"],[36.2559,\"DMU 0588\"],[47.9451,\"DMU 0590\"],[34.5879,\"DMU 0591\"],[37.7251,\"DMU 0592\"],[48.6646,\"DMU 0593\"],[20.3564,\"DMU 0594\"],[33.9689,\"DMU 0602\"],[47.5583,\"DMU 0603\"],[18.4743,\"DMU 0604\"],[77.6795,\"DMU 0609\"],[46.6314,\"DMU 0612\"],[43.1499,\"DMU 0615\"],[41.9262,\"DMU 0617\"],[27.0089,\"DMU 0624\"],[12.2257,\"DMU 0628\"],[39.7956,\"DMU 0629\"],[41.2347,\"DMU 0630\"],[28.0622,\"DMU 0631\"],[32.4994,\"DMU 0632\"],[20.5247,\"DMU 0635\"],[43.7623,\"DMU 0637\"],[24.2675,\"DMU 0639\"],[10.7519,\"DMU 0640\"],[45.8826,\"DMU 0641\"],[46.6333,\"DMU 0642\"],[35.9105,\"DMU 0649\"],[30.8255,\"DMU 0651\"],[70.2648,\"DMU 0652\"],[54.4479,\"DMU 0657\"],[20.3916,\"DMU 0662\"],[46.5076,\"DMU 0664\"],[44.0852,\"DMU 0665\"],[17.8121,\"DMU 0666\"],[28.0647,\"DMU 0667\"],[11.5832,\"DMU 0672\"],[28.488,\"DMU 0679\"],[38.3084,\"DMU 0680\"],[61.8824,\"DMU 0681\"],[36.7917,\"DMU 0686\"],[11.9595,\"DMU 0688\"],[67.9151,\"DMU 0692\"],[42.5014,\"DMU 0693\"],[11.6775,\"DMU 0696\"],[10.3,\"DMU 0698\"],[12.1984,\"DMU 0700\"],[50.076,\"DMU 0712\"],[20.9661,\"DMU 0716\"],[23.0444,\"DMU 0723\"],[20.0358,\"DMU 0724\"],[19.9408,\"DMU 0729\"],[48.0233,\"DMU 0734\"],[11.4082,\"DMU 0735\"],[40.9232,\"DMU 0736\"],[14.0162,\"DMU 0737\"],[28.8615,\"DMU 0738\"],[43.1486,\"DMU 0739\"],[30.4072,\"DMU 0740\"],[72.8322,\"DMU 0742\"],[30.4535,\"DMU 0744\"],[41.4154,\"DMU 0745\"],[31.5728,\"DMU 0746\"],[26.263,\"DMU 0747\"],[45.3561,\"DMU 0748\"],[16.145,\"DMU 0751\"],[38.8098,\"DMU 0752\"],[31.9847,\"DMU 0754\"],[52.4659,\"DMU 0755\"],[11.9925,\"DMU 0759\"],[42.4704,\"DMU 0760\"],[59.8256,\"DMU 0765\"],[18.6677,\"DMU 0769\"],[64.3319,\"DMU 0770\"],[66.0975,\"DMU 0771\"],[30.9348,\"DMU 0772\"],[13.2102,\"DMU 0776\"],[49.5151,\"DMU 0777\"],[49.9277,\"DMU 0778\"],[52.748,\"DMU 0779\"],[54.3313,\"DMU 0782\"],[16.7018,\"DMU 0783\"],[18.2126,\"DMU 0785\"],[54.1542,\"DMU 0790\"],[46.4184,\"DMU 0791\"],[32.7382,\"DMU 0792\"],[22.4194,\"DMU 0794\"],[48.1209,\"DMU 0795\"],[62.7629,\"DMU 0796\"],[31.7748,\"DMU 0797\"],[14.603,\"DMU 0800\"],[46.664,\"DMU 0801\"],[70.1481,\"DMU 0802\"],[60.1726,\"DMU 0804\"],[47.909,\"DMU 0809\"],[44.7508,\"DMU 0811\"],[22.0325,\"DMU 0814\"],[15.3552,\"DMU 0815\"],[50.6988,\"DMU 0818\"],[17.6684,\"DMU 0819\"],[70.3868,\"DMU 0820\"],[49.5224,\"DMU 0822\"],[11.8605,\"DMU 0826\"],[45.1765,\"DMU 0827\"],[36.2041,\"DMU 0829\"],[34.0665,\"DMU 0830\"],[27.0299,\"DMU 0831\"],[46.1918,\"DMU 0832\"],[46.7126,\"DMU 0835\"],[52.8323,\"DMU 0836\"],[17.6396,\"DMU 0838\"],[30.2817,\"DMU 0839\"],[19.4607,\"DMU 0840\"],[50.6434,\"DMU 0843\"],[50.4034,\"DMU 0845\"],[57.8806,\"DMU 0846\"],[34.3643,\"DMU 0847\"],[60.1837,\"DMU 0849\"],[18.5611,\"DMU 0852\"],[14.349,\"DMU 0860\"],[54.2952,\"DMU 0861\"],[38.8111,\"DMU 0862\"],[26.8573,\"DMU 0863\"],[44.4673,\"DMU 0864\"],[20.6397,\"DMU 0865\"],[18.9068,\"DMU 0868\"],[11.397,\"DMU 0870\"],[55.7637,\"DMU 0873\"],[40.2412,\"DMU 0874\"],[44.2933,\"DMU 0875\"],[23.8572,\"DMU 0878\"],[58.8855,\"DMU 0880\"],[37.9179,\"DMU 0882\"],[11.9671,\"DMU 0885\"],[26.1172,\"DMU 0887\"],[10.9889,\"DMU 0890\"],[14.3049,\"DMU 0891\"],[54.9857,\"DMU 0894\"],[46.3191,\"DMU 0900\"],[21.0742,\"DMU 0901\"],[12.7024,\"DMU 0910\"],[27.3869,\"DMU 0911\"],[43.7714,\"DMU 0919\"],[27.6357,\"DMU 0920\"],[44.1538,\"DMU 0921\"],[54.0678,\"DMU 0925\"],[44.9088,\"DMU 0928\"],[58.4629,\"DMU 0931\"],[11.104,\"DMU 0940\"],[25.1123,\"DMU 0947\"],[27.9698,\"DMU 0958\"],[29.2428,\"DMU 0963\"],[45.0309,\"DMU 0967\"],[12.6154,\"DMU 0972\"],[22.2312,\"DMU 0974\"],[11.7857,\"DMU 0978\"],[25.1615,\"DMU 0979\"],[41.2862,\"DMU 0988\"],[22.2755,\"DMU 0999\"],[42.7331,\"DMU 1000\"],[25.065,\"DMU 1002\"],[28.0649,\"DMU 1003\"],[22.1871,\"DMU 1004\"],[18.8598,\"DMU 1007\"],[14.3254,\"DMU 1008\"],[48.5033,\"DMU 1011\"],[22.2974,\"DMU 1012\"],[18.8436,\"DMU 1013\"],[23.4392,\"DMU 1017\"],[20.3638,\"DMU 1021\"],[17.416,\"DMU 1022\"],[13.7603,\"DMU 1023\"],[20.6033,\"DMU 1024\"],[30.6738,\"DMU 1025\"],[14.4952,\"DMU 1027\"],[29.737,\"DMU 1028\"],[31.0605,\"DMU 1032\"],[62.6962,\"DMU 1034\"],[36.302,\"DMU 1035\"],[27.5142,\"DMU 1036\"],[56.3273,\"DMU 1042\"],[47.4578,\"DMU 1043\"],[12.648,\"DMU 1044\"],[43.5432,\"DMU 1045\"],[47.8012,\"DMU 1046\"],[47.6273,\"DMU 1049\"],[26.699,\"DMU 1050\"],[30.6138,\"DMU 1051\"],[42.3292,\"DMU 1052\"],[53.3756,\"DMU 1053\"],[11.2855,\"DMU 1054\"],[14.2676,\"DMU 1056\"],[19.8286,\"DMU 1059\"],[12.9758,\"DMU 1061\"],[10.9654,\"DMU 1062\"],[15.4527,\"DMU 1063\"],[16.0038,\"DMU 1067\"],[10.1919,\"DMU 1070\"],[19.0828,\"DMU 1071\"],[12.6382,\"DMU 1072\"],[10.7178,\"DMU 1073\"],[17.6971,\"DMU 1074\"],[10.594,\"DMU 1078\"],[11.0644,\"DMU 1080\"],[11.8606,\"DMU 1081\"],[11.5472,\"DMU 1082\"],[14.695,\"DMU 1086\"],[32.8491,\"DMU 1087\"],[11.9649,\"DMU 1088\"],[44.1919,\"DMU 1090\"],[25.5272,\"DMU 1091\"],[11.4487,\"DMU 1092\"],[10.3856,\"DMU 1093\"],[21.4687,\"DMU 1095\"],[12.1857,\"DMU 1096\"],[13.8559,\"DMU 1097\"],[19.3425,\"DMU 1103\"],[52.9095,\"DMU 1105\"],[51.8472,\"DMU 1108\"],[34.1558,\"DMU 1109\"],[55.954,\"DMU 1112\"],[35.7938,\"DMU 1116\"],[12.1817,\"DMU 1121\"],[23.3685,\"DMU 1124\"],[23.7655,\"DMU 1125\"],[19.972,\"DMU 1126\"],[22.2585,\"DMU 1127\"],[21.7393,\"DMU 1130\"],[65.3415,\"DMU 1133\"],[60.6778,\"DMU 1134\"],[77.6455,\"DMU 1135\"],[10.2462,\"DMU 1137\"],[27.2776,\"DMU 1142\"],[19.5193,\"DMU 1156\"],[26.5271,\"DMU 1157\"],[53.0657,\"DMU 1158\"],[55.2238,\"DMU 1160\"],[39.7887,\"DMU 1161\"],[54.9194,\"DMU 1162\"],[16.1548,\"DMU 1164\"],[43.7619,\"DMU 1166\"],[15.5606,\"DMU 1167\"],[52.6693,\"DMU 1169\"],[48.8908,\"DMU 1171\"],[13.5692,\"DMU 1172\"],[51.3242,\"DMU 1173\"],[11.0225,\"DMU 1174\"],[48.6535,\"DMU 1175\"],[11.5688,\"DMU 1176\"],[40.4781,\"DMU 1177\"],[52.7549,\"DMU 1180\"],[51.2613,\"DMU 1182\"],[48.3792,\"DMU 1184\"],[41.1329,\"DMU 1186\"],[46.7516,\"DMU 1187\"],[32.8508,\"DMU 1189\"],[40.8094,\"DMU 1194\"],[27.2624,\"DMU 1195\"],[34.6299,\"DMU 1196\"],[55.9908,\"DMU 1198\"],[47.311,\"DMU 1200\"],[26.901,\"DMU 1201\"],[18.901,\"DMU 1204\"],[22.0514,\"DMU 1205\"],[15.9279,\"DMU 1206\"],[26.6484,\"DMU 1207\"],[46.2742,\"DMU 1208\"],[18.5245,\"DMU 1209\"],[45.3317,\"DMU 1210\"],[59.3792,\"DMU 1212\"],[53.1279,\"DMU 1213\"],[29.7901,\"DMU 1215\"],[53.9044,\"DMU 1216\"],[20.7241,\"DMU 1217\"],[14.339,\"DMU 1218\"],[56.5878,\"DMU 1220\"],[52.4115,\"DMU 1222\"],[42.4483,\"DMU 1223\"],[53.4905,\"DMU 1224\"],[30.0449,\"DMU 1227\"],[47.8941,\"DMU 1228\"],[31.1876,\"DMU 1229\"],[11.0678,\"DMU 1230\"],[54.2275,\"DMU 1232\"],[52.5328,\"DMU 1233\"],[24.9277,\"DMU 1234\"],[11.6583,\"DMU 1235\"],[30.8148,\"DMU 1236\"],[51.3502,\"DMU 1237\"],[54.2424,\"DMU 1239\"],[53.7542,\"DMU 1242\"],[50.2276,\"DMU 1243\"],[53.7278,\"DMU 1244\"],[11.5459,\"DMU 1246\"],[48.4479,\"DMU 1247\"],[44.7783,\"DMU 1248\"],[18.5858,\"DMU 1249\"],[36.8165,\"DMU 1250\"],[48.3769,\"DMU 1254\"],[23.9684,\"DMU 1258\"],[23.4016,\"DMU 1264\"],[39.0984,\"DMU 1267\"],[53.5048,\"DMU 1268\"],[13.2159,\"DMU 1269\"],[55.946,\"DMU 1281\"],[53.6993,\"DMU 1283\"],[52.1214,\"DMU 1284\"],[21.6706,\"DMU 1287\"],[46.3977,\"DMU 1289\"],[44.7739,\"DMU 1290\"],[24.397,\"DMU 1291\"],[47.5622,\"DMU 1292\"],[44.4558,\"DMU 1294\"],[46.6216,\"DMU 1296\"],[31.3561,\"DMU 1303\"],[53.2484,\"DMU 1305\"],[49.0448,\"DMU 1306\"],[49.1186,\"DMU 1310\"],[25.1416,\"DMU 1312\"],[11.6834,\"DMU 1316\"],[13.8823,\"DMU 1322\"],[20.6253,\"DMU 1324\"],[18.8601,\"DMU 1325\"],[37.4251,\"DMU 1332\"],[50.6161,\"DMU 1333\"],[46.2785,\"DMU 1335\"],[50.5352,\"DMU 1336\"],[12.4016,\"DMU 1347\"],[10.0095,\"DMU 1348\"],[28.4656,\"DMU 1351\"],[12.0416,\"DMU 1352\"],[41.6163,\"DMU 1353\"],[12.0686,\"DMU 1357\"],[18.1718,\"DMU 1359\"],[53.6533,\"DMU 1364\"],[34.322,\"DMU 1367\"],[25.2106,\"DMU 1368\"],[38.1584,\"DMU 1369\"],[35.0091,\"DMU 1370\"],[14.8895,\"DMU 1371\"],[45.5911,\"DMU 1372\"],[45.3343,\"DMU 1373\"],[26.659,\"DMU 1376\"],[16.8253,\"DMU 1379\"],[47.8999,\"DMU 1381\"],[10.1087,\"DMU 1383\"],[27.5686,\"DMU 1384\"],[24.2804,\"DMU 1386\"],[11.9536,\"DMU 1387\"],[34.7056,\"DMU 1391\"],[57.1522,\"DMU 1393\"],[31.5683,\"DMU 1394\"],[46.483,\"DMU 1395\"],[32.0366,\"DMU 1397\"],[11.3896,\"DMU 1401\"],[19.5718,\"DMU 1402\"],[31.2219,\"DMU 1405\"],[50.7845,\"DMU 1406\"],[57.3911,\"DMU 1407\"],[18.8819,\"DMU 1408\"],[60.8032,\"DMU 1409\"],[53.7992,\"DMU 1411\"],[32.2381,\"DMU 1412\"],[12.1647,\"DMU 1413\"],[34.6218,\"DMU 1420\"],[33.397,\"DMU 1422\"],[17.7047,\"DMU 1424\"],[19.0847,\"DMU 1426\"],[36.5972,\"DMU 1429\"],[12.577,\"DMU 1430\"],[40.8,\"DMU 1437\"],[37.5437,\"DMU 1438\"],[14.2919,\"DMU 1443\"],[12.1141,\"DMU 1449\"],[29.4446,\"DMU 1450\"],[50.4636,\"DMU 1467\"],[49.5432,\"DMU 1468\"],[20.9039,\"DMU 1469\"],[45.0295,\"DMU 1470\"],[48.0166,\"DMU 1472\"],[15.9077,\"DMU 1474\"],[31.3933,\"DMU 1476\"],[18.7935,\"DMU 1477\"],[63.3354,\"DMU 1479\"],[45.0957,\"DMU 1481\"],[46.3441,\"DMU 1483\"],[13.8957,\"DMU 1485\"],[16.8079,\"DMU 1487\"],[18.5806,\"DMU 1490\"],[31.9342,\"DMU 1496\"],[43.0499,\"DMU 1497\"],[10.7887,\"DMU 1498\"],[59.7906,\"DMU 1499\"],[18.2151,\"DMU 1500\"],[27.6616,\"DMU 1502\"],[10.8637,\"DMU 1503\"],[37.4695,\"DMU 1504\"],[23.7475,\"DMU 1506\"],[23.5659,\"DMU 1508\"],[26.2013,\"DMU 1509\"],[33.6952,\"DMU 1510\"],[40.1594,\"DMU 1511\"],[12.1932,\"DMU 1514\"],[12.5014,\"DMU 1516\"],[20.9727,\"DMU 1519\"],[41.5683,\"DMU 1523\"],[57.2405,\"DMU 1524\"],[61.5457,\"DMU 1526\"],[50.2358,\"DMU 1527\"],[36.4793,\"DMU 1528\"],[27.9486,\"DMU 1530\"],[55.0691,\"DMU 1531\"],[28.5105,\"DMU 1532\"],[57.2279,\"DMU 1533\"],[41.5047,\"DMU 1534\"],[15.0188,\"DMU 1535\"],[34.5802,\"DMU 1536\"],[27.4216,\"DMU 1537\"],[25.6895,\"DMU 1538\"],[48.5172,\"DMU 1539\"],[46.8978,\"DMU 1541\"],[45.2718,\"DMU 1542\"],[30.2904,\"DMU 1543\"],[24.6568,\"DMU 1544\"],[58.2994,\"DMU 1545\"],[20.185,\"DMU 1546\"],[52.7306,\"DMU 1547\"],[53.6192,\"DMU 1548\"],[51.6728,\"DMU 1549\"],[56.6014,\"DMU 1551\"],[33.5083,\"DMU 1552\"],[20.3405,\"DMU 1553\"],[38.0252,\"DMU 1554\"],[53.4965,\"DMU 1555\"],[25.8549,\"DMU 1556\"],[48.2474,\"DMU 1559\"],[23.6936,\"DMU 1562\"],[17.7473,\"DMU 1565\"],[31.967,\"DMU 1566\"],[51.427,\"DMU 1567\"],[50.3384,\"DMU 1568\"],[48.5489,\"DMU 1569\"],[63.9115,\"DMU 1570\"],[32.7268,\"DMU 1574\"],[51.458,\"DMU 1576\"],[27.9791,\"DMU 1579\"],[15.3146,\"DMU 1580\"],[15.0814,\"DMU 1581\"],[54.1839,\"DMU 1583\"],[50.5402,\"DMU 1584\"],[53.4477,\"DMU 1585\"],[42.278,\"DMU 1586\"],[31.7444,\"DMU 1588\"],[10.2665,\"DMU 1589\"],[22.8351,\"DMU 1590\"],[70.2576,\"DMU 1593\"],[44.2577,\"DMU 1596\"],[32.6956,\"DMU 1597\"],[47.6646,\"DMU 1602\"],[55.5604,\"DMU 1604\"],[36.0804,\"DMU 1608\"],[50.8657,\"DMU 1611\"],[15.2857,\"DMU 1613\"],[48.7368,\"DMU 1615\"],[42.602,\"DMU 1618\"],[13.2874,\"DMU 1622\"],[11.2357,\"DMU 1625\"],[17.5981,\"DMU 1626\"],[55.3314,\"DMU 1630\"],[14.175,\"DMU 1632\"],[53.3861,\"DMU 1634\"],[47.2501,\"DMU 1635\"],[48.0634,\"DMU 1637\"],[18.5835,\"DMU 1639\"],[17.9759,\"DMU 1640\"],[30.9482,\"DMU 1643\"],[21.8422,\"DMU 1645\"],[13.0747,\"DMU 1646\"],[62.1882,\"DMU 1648\"],[49.6526,\"DMU 1649\"],[47.7319,\"DMU 1653\"],[11.7999,\"DMU 1654\"],[21.6954,\"DMU 1655\"],[21.1118,\"DMU 1656\"],[17.7215,\"DMU 1660\"],[21.0418,\"DMU 1663\"],[17.3774,\"DMU 1664\"],[14.8069,\"DMU 1666\"],[17.333,\"DMU 1667\"],[29.2944,\"DMU 1668\"],[46.8985,\"DMU 1669\"],[53.2139,\"DMU 1670\"],[17.4876,\"DMU 1671\"],[62.291,\"DMU 1672\"],[47.8892,\"DMU 1673\"],[51.5889,\"DMU 1678\"],[14.0103,\"DMU 1680\"],[58.1824,\"DMU 1681\"],[10.8411,\"DMU 1682\"],[31.2542,\"DMU 1685\"],[35.7097,\"DMU 1688\"],[13.5978,\"DMU 1689\"],[16.4579,\"DMU 1694\"],[29.491,\"DMU 1695\"],[48.4172,\"DMU 1699\"],[29.2572,\"DMU 1702\"],[49.1113,\"DMU 1703\"],[34.7677,\"DMU 1704\"],[47.3287,\"DMU 1705\"],[57.3927,\"DMU 1706\"],[77.6352,\"DMU 1708\"],[36.1088,\"DMU 1709\"],[54.0246,\"DMU 1712\"],[24.3312,\"DMU 1713\"],[10.0351,\"DMU 1714\"],[59.6871,\"DMU 1715\"],[11.4011,\"DMU 1716\"],[10.8584,\"DMU 1718\"],[11.1442,\"DMU 1719\"],[45.6198,\"DMU 1720\"],[54.9325,\"DMU 1725\"],[23.7617,\"DMU 1727\"],[22.9547,\"DMU 1728\"],[37.7233,\"DMU 1731\"],[12.7466,\"DMU 1732\"]],\"hovertemplate\":\"Diff_Perc < 10=False<br>Efficiency_Scores_Basic=%{x}<br>Efficiency_Scores_with_ML=%{y}<br>Diff_Perc=%{customdata[0]}<br>index=%{customdata[1]}<extra></extra>\",\"legendgroup\":\"False\",\"line\":{\"color\":\"lightgreen\",\"width\":3},\"marker\":{\"color\":\"red\",\"symbol\":\"circle\"},\"mode\":\"markers\",\"name\":\"False\",\"showlegend\":true,\"type\":\"scattergl\",\"x\":[0.7213,0.7398,0.7926,0.2998,0.2618,0.2666,0.7055,0.6755,0.6513,0.5604,0.5684,0.6919,0.6966,0.7045,0.7555,0.7103,0.7182,1.0,0.6927,0.5595,0.7536,0.7211,0.5563,0.6256,0.3006,0.6512,0.708,0.7482,0.7336,0.6523,0.7352,0.7179,0.7008,0.6913,0.7563,0.7384,0.7285,0.7579,0.779,0.8045,0.8357,0.5397,0.7923,0.8035,0.7206,0.641,0.7451,0.7007,0.6648,0.7305,0.7451,0.715,0.7368,0.7698,0.4999,0.7359,0.5636,0.7269,0.6253,0.2712,1.0,0.6781,0.7592,0.7128,0.7279,0.8437,0.7465,0.7186,0.5669,0.7096,0.2689,0.3104,0.4923,0.5496,0.4012,0.4457,0.4178,0.3946,0.5164,0.3677,0.3212,0.2588,0.3532,0.5266,0.3657,0.3896,0.4509,0.2959,0.3506,0.3264,0.75,0.3548,0.2541,0.4666,0.4926,1.0,0.2829,0.5181,0.3879,0.3121,0.2755,0.3954,0.2537,0.3715,0.2663,0.5085,0.4785,0.4655,0.3693,0.4695,0.4231,0.5458,0.489,0.5301,0.2672,0.4823,0.2721,0.2561,0.2493,0.4691,0.302,0.5423,1.0,0.4534,0.2483,0.2625,0.3216,0.9931,0.2928,0.2485,0.4814,0.4457,0.461,0.456,0.4227,0.5129,0.4708,0.2792,0.4548,0.4892,0.4885,0.4871,0.3468,0.4272,0.3982,0.2621,0.4435,0.4563,0.4603,0.2846,0.2511,0.5655,0.4556,0.5575,0.6645,0.5272,0.4766,0.5121,0.4293,0.4799,0.2671,0.4083,0.4691,0.4689,0.4768,0.2733,0.5209,0.4847,0.3942,0.4817,0.2705,0.6027,0.4836,0.4655,0.5318,0.5783,0.5304,0.526,0.2998,0.2537,0.2979,0.4208,0.5205,0.4241,0.4674,0.4854,0.4576,0.4514,0.319,0.5099,0.3329,0.365,0.3681,0.75,0.2763,0.3917,0.4856,0.602,0.2748,0.2797,0.5398,0.3779,0.2534,0.3805,0.349,0.3268,0.4425,0.5051,0.3729,0.64,0.2543,0.2796,0.4415,0.2581,0.2629,0.3434,0.4476,0.4492,0.5398,0.4739,0.5748,0.5862,0.2953,0.512,0.2495,0.5256,0.5528,0.3819,0.5869,0.5988,0.5737,0.5818,0.5935,0.9247,0.2528,0.5202,0.4482,0.2677,0.3261,0.585,0.5576,0.4853,0.5883,0.4717,0.2697,0.3718,0.265,0.3945,0.3168,0.4233,0.4996,0.2676,0.5728,0.6435,0.3798,0.32,0.2977,0.3894,0.38,0.8769,1.0,0.4776,0.3699,0.4166,0.4427,0.4152,0.4331,0.3744,0.6552,0.4129,0.2678,0.4516,0.323,0.4205,0.5347,0.4645,0.3858,0.6746,0.3145,0.4312,0.3783,0.4142,0.3612,0.4544,0.3186,0.2618,0.4045,0.3549,0.3996,0.3162,0.43,0.6058,0.3758,0.5261,0.5527,0.7487,0.9481,0.5688,0.4056,0.3534,0.2705,0.7256,0.5509,0.3976,0.3025,0.3196,0.4953,0.7317,0.5722,0.5054,0.2589,0.2921,0.6669,0.3064,0.6004,0.6883,0.4582,0.3951,0.3243,0.4003,0.4475,0.4135,0.3386,0.2772,0.3492,0.4332,0.3402,0.3617,0.4346,0.6183,0.3413,0.4281,0.5724,1.0,0.4225,0.3913,0.3851,0.3085,0.5601,0.3738,0.3828,0.3133,0.3334,0.2832,0.395,0.2971,0.2739,0.421,0.5465,0.3475,0.3253,0.75,0.498,0.377,0.4214,0.4028,0.2743,0.3129,0.3055,0.3152,0.7489,1.0,0.3563,0.5578,1.0,0.3937,0.3068,0.2658,0.5594,0.447,0.3896,0.5779,0.6144,0.3402,0.434,0.5544,0.5314,0.259,0.3131,0.4931,0.3197,1.0,0.3196,0.3849,0.3294,0.3056,0.4071,0.2658,0.3646,0.328,0.4723,0.253,0.3935,0.5595,0.2854,0.6286,0.6619,0.3221,0.2633,0.45,0.5318,0.4748,0.5116,0.5377,0.2727,0.4879,0.4193,0.6686,0.8062,0.4329,0.602,0.3248,0.575,0.4256,0.9142,0.5636,0.4348,0.5896,0.6298,0.5799,0.4571,0.2711,0.7499,0.4477,0.5599,0.4111,0.5857,0.4454,0.6739,0.4182,0.8525,0.4765,0.33,0.7057,0.2759,0.4543,0.4521,0.5322,0.3429,0.5653,0.6046,0.5754,0.4929,0.3677,0.3537,0.4007,0.6201,0.2745,0.5609,0.5066,0.3771,0.4004,0.6458,0.5433,0.4833,0.3995,0.3015,0.5534,0.5751,0.5001,0.4201,0.6235,0.5639,0.312,0.4169,0.3269,0.4048,0.483,0.4188,0.5398,0.2625,0.2972,0.4663,0.3144,0.4013,0.2575,0.3435,0.993,0.6397,0.3878,0.4828,0.7057,0.311,0.3132,0.5771,0.2738,0.2715,0.4394,0.6333,0.2951,0.2911,0.5634,0.2695,0.5188,0.5657,0.7075,0.2788,0.3166,0.327,0.601,0.3497,0.6789,0.5155,0.4293,0.2543,0.3988,0.4319,0.4303,0.3026,0.3242,0.3907,0.4839,0.2882,0.5744,0.6753,0.5658,0.5524,0.6067,0.5855,0.548,0.6395,0.5629,0.5507,0.6267,0.55,0.553,0.3282,0.5561,0.2633,0.3313,0.56,0.4098,0.6258,0.5747,0.5476,0.6636,0.5763,0.5218,0.6102,0.4776,0.7603,0.3369,0.51,0.3508,0.2537,0.608,0.6241,0.3579,0.5757,0.6076,1.0,1.0,1.0,0.2481,0.3806,0.555,0.4105,0.5467,1.0,0.3714,0.4991,0.2663,0.3995,0.3275,0.4755,0.4918,0.2573,0.4643,0.2519,0.4381,0.2515,0.4947,0.4763,0.4604,0.4314,0.3816,0.4227,0.3349,0.7082,0.3087,0.3407,0.5099,0.426,0.3044,0.274,0.2922,0.5848,0.3074,0.4274,0.2733,0.4121,0.5526,0.4796,0.3212,0.4885,0.2806,0.525,0.5189,0.4732,0.3904,0.4839,0.318,0.431,0.3267,0.5254,0.4917,0.474,0.7729,0.5558,0.3206,0.4735,0.4938,0.487,1.0,0.4866,0.2524,0.4352,0.4078,0.2736,0.356,0.4352,0.2955,0.2923,0.3663,0.4843,0.2613,0.5098,0.4862,0.4717,0.2866,0.4144,0.4058,0.6505,0.9563,0.8859,0.9217,0.3237,0.4817,0.9028,0.9682,0.2959,0.2934,0.5696,0.2889,0.2732,0.3596,0.4503,0.4201,0.4495,0.2536,0.5458,0.3153,0.2762,0.3856,0.5587,0.4574,0.4883,0.3833,0.3105,0.3669,0.3461,0.5769,0.4144,0.4111,0.3058,0.2713,0.433,0.2479,0.3116,0.2937,0.2558,0.341,0.5274,0.326,0.4211,0.3311,0.2511,0.2765,0.3272,1.0,0.5235,0.6068,0.576,0.4862,0.3283,0.2743,0.6924,0.3384,0.9406,0.6082,0.3508,0.8163,0.3759,0.3605,0.5738,0.5644,0.6414,0.4544,0.4462,0.3151,0.41,0.4314,0.3554,0.4115,0.5718,0.6139,0.4725,1.0,0.3621,0.2678,0.603,0.3979,0.4047,0.2505,0.558,0.6079,0.311,0.5522,0.3562,0.6446,0.6433,0.7063,0.3384,0.3754,0.2529,0.2539,0.2855,0.3847,0.529,0.5864,0.4468,0.356,0.309,0.5009,0.3154,0.5243,0.3857,0.2652,0.3943,0.3105,0.3038,0.4366,0.4246,0.4104,0.319,0.2954,0.5386,0.2822,0.4768,0.4846,0.4658,0.518,0.3388,0.2798,0.3631,0.4824,0.3032,0.4351,0.2994,0.2709,0.3317,0.463,0.4555,0.4381,0.6248,0.3357,0.4584,0.3089,0.2655,0.2654,0.4913,0.4555,0.482,0.386,0.329,0.2479,0.2884,0.7498,0.4049,0.3354,0.4298,0.5057,0.3522,0.4581,0.5796,0.4388,0.8319,0.2836,0.5532,0.2869,0.5063,0.2733,0.5016,0.4282,0.4343,0.6036,0.5985,0.3219,0.6289,0.5648,0.6007,0.4505,0.4253,0.5567,0.5738,0.3352,0.5979,0.6551,0.5955,0.5772,0.8744,0.695,0.4233,0.4792,0.2766,0.5943,0.8751,0.4639,0.2908,0.5366,0.4883,0.3281,0.3541,0.5683,0.3847,0.7442,0.4364,0.3222,0.444,0.4785,0.4304,0.5282,1.0,0.3508,0.5091,0.2973,0.2617,0.557,0.5718,0.2497,0.2535,0.4144,0.498,0.8555,0.8275,0.3572,0.5633],\"xaxis\":\"x\",\"y\":[0.491,0.491,0.4913,0.2258,0.2226,0.2227,0.4909,0.4913,0.4905,0.4914,0.4932,0.4909,0.4907,0.491,0.4912,0.4908,0.4911,0.5696,0.4911,0.4922,0.4911,0.4909,0.4922,0.4927,0.2229,0.4908,0.4908,0.4911,0.4909,0.4913,0.4909,0.4908,0.491,0.4908,0.4911,0.491,0.491,0.4912,0.4912,0.4914,0.4915,0.3315,0.4912,0.4912,0.491,0.4503,0.491,0.4907,0.493,0.4909,0.491,0.491,0.491,0.4911,0.4469,0.4909,0.4898,0.4909,0.4923,0.2254,0.2292,0.4909,0.491,0.4908,0.491,0.4913,0.491,0.4912,0.4892,0.4909,0.2218,0.2223,0.2577,0.4911,0.2253,0.2228,0.2225,0.2226,0.394,0.225,0.2255,0.2255,0.2247,0.2231,0.2248,0.2252,0.2257,0.225,0.2326,0.2241,0.2229,0.2241,0.2226,0.224,0.2251,0.7216,0.2224,0.2249,0.2223,0.2229,0.2229,0.2259,0.2229,0.2252,0.2223,0.2252,0.2225,0.2225,0.2121,0.2225,0.224,0.2244,0.225,0.2243,0.2226,0.2225,0.2221,0.2296,0.2221,0.2225,0.2222,0.2246,0.4916,0.2247,0.2228,0.2225,0.2227,0.8916,0.2224,0.2225,0.2249,0.2222,0.2224,0.2225,0.2255,0.2254,0.2225,0.2252,0.2224,0.2125,0.2123,0.2117,0.2226,0.2256,0.224,0.2225,0.2224,0.2225,0.2224,0.2225,0.2226,0.2241,0.2225,0.2246,0.2243,0.2247,0.2252,0.2253,0.3558,0.2225,0.2253,0.2185,0.2224,0.225,0.2226,0.2252,0.2249,0.2247,0.2225,0.2249,0.2221,0.2246,0.2251,0.2225,0.2245,0.2243,0.2245,0.2236,0.2225,0.2223,0.2224,0.2222,0.224,0.2221,0.2221,0.2249,0.2252,0.2185,0.2223,0.2246,0.2229,0.2224,0.2247,0.2229,0.2222,0.3061,0.2249,0.2244,0.2225,0.2222,0.2246,0.224,0.2252,0.2219,0.2412,0.2229,0.2247,0.2255,0.2253,0.4914,0.2252,0.2253,0.2281,0.2303,0.2302,0.2248,0.23,0.2251,0.2248,0.2252,0.4911,0.491,0.2225,0.4523,0.2221,0.4132,0.491,0.2226,0.491,0.4313,0.491,0.491,0.491,0.3605,0.2224,0.449,0.2221,0.2226,0.2247,0.4796,0.4474,0.2251,0.491,0.2257,0.2223,0.2252,0.2207,0.2926,0.2376,0.224,0.2386,0.2221,0.4675,0.4916,0.2251,0.2226,0.2257,0.2655,0.225,0.7581,0.515,0.2263,0.2264,0.2265,0.2247,0.2243,0.2252,0.2241,0.2243,0.2262,0.2354,0.2245,0.2229,0.2253,0.2245,0.2246,0.2295,0.4989,0.2248,0.2257,0.2252,0.2267,0.227,0.2251,0.259,0.2335,0.2269,0.2253,0.2252,0.2249,0.2261,0.4493,0.2251,0.2254,0.4911,0.4919,0.8449,0.4911,0.3423,0.223,0.2228,0.5497,0.4913,0.2268,0.2294,0.223,0.2243,0.4917,0.4916,0.4187,0.2227,0.2229,0.5679,0.247,0.4962,0.4949,0.3137,0.3343,0.2251,0.2251,0.2254,0.222,0.2224,0.2221,0.2226,0.2255,0.2225,0.2252,0.2231,0.4924,0.2253,0.2245,0.4666,0.2232,0.2255,0.2224,0.2237,0.2252,0.4916,0.2251,0.225,0.2254,0.2251,0.2251,0.2221,0.225,0.2444,0.2278,0.2916,0.2227,0.225,0.223,0.2268,0.3001,0.2254,0.2252,0.2254,0.2251,0.2701,0.2254,0.462,0.3812,0.2252,0.4911,0.3208,0.2264,0.271,0.2385,0.4911,0.2232,0.3079,0.4447,0.4913,0.2724,0.2256,0.4911,0.3139,0.2227,0.2227,0.2803,0.2225,0.2717,0.2223,0.2255,0.2254,0.2254,0.2224,0.2229,0.2231,0.2231,0.2245,0.2227,0.2264,0.2248,0.2322,0.2242,0.2244,0.2225,0.2285,0.2272,0.2663,0.2243,0.2337,0.4479,0.223,0.2237,0.2247,0.4497,0.6255,0.2246,0.2242,0.2216,0.491,0.227,0.2729,0.2245,0.2265,0.3258,0.4911,0.4909,0.2254,0.2232,0.2221,0.226,0.4935,0.2254,0.3737,0.2937,0.4918,0.225,0.4543,0.2247,0.2718,0.492,0.2222,0.2242,0.2242,0.2242,0.225,0.2251,0.4924,0.4928,0.2253,0.225,0.2587,0.2225,0.4921,0.2226,0.497,0.2241,0.2254,0.2231,0.4917,0.2234,0.3001,0.3517,0.2227,0.4926,0.4928,0.2251,0.2255,0.4921,0.4922,0.2265,0.2344,0.2366,0.2261,0.2219,0.2307,0.2242,0.2333,0.2226,0.3359,0.2225,0.2206,0.225,0.2671,0.876,0.4787,0.2277,0.3753,0.4041,0.233,0.2253,0.4491,0.2221,0.2326,0.2263,0.4921,0.2395,0.2229,0.4487,0.2225,0.4474,0.4491,0.4904,0.2384,0.2224,0.2254,0.2242,0.2227,0.4921,0.2251,0.2256,0.2221,0.2252,0.2254,0.2254,0.2218,0.2249,0.2253,0.2256,0.2557,0.4925,0.5414,0.4924,0.4918,0.5129,0.4918,0.4921,0.5174,0.4917,0.4917,0.5158,0.4918,0.4918,0.2893,0.4919,0.2246,0.2224,0.493,0.2287,0.4661,0.5089,0.4908,0.5211,0.5061,0.4495,0.4922,0.2249,0.3661,0.2219,0.2246,0.2252,0.2228,0.4659,0.4758,0.2864,0.4475,0.4755,0.3466,0.3932,0.2235,0.2227,0.2768,0.4467,0.3016,0.2566,0.4478,0.2236,0.225,0.2233,0.2247,0.2765,0.2251,0.2513,0.2224,0.226,0.2241,0.2249,0.2224,0.2945,0.225,0.2244,0.2227,0.2246,0.2251,0.2249,0.4192,0.2246,0.2227,0.2244,0.2244,0.2225,0.2222,0.2277,0.4917,0.2255,0.2296,0.2227,0.2253,0.2245,0.2248,0.2255,0.2252,0.2225,0.4497,0.2253,0.2252,0.2247,0.225,0.2225,0.2246,0.2248,0.4672,0.225,0.225,0.5803,0.491,0.2218,0.2304,0.226,0.2252,0.4977,0.2252,0.2233,0.2244,0.2252,0.2228,0.2249,0.2247,0.2247,0.2239,0.2231,0.2252,0.2267,0.2246,0.2251,0.2258,0.2245,0.2221,0.2241,0.4918,0.5015,0.492,0.492,0.2222,0.2252,0.46,0.4927,0.2215,0.2592,0.4905,0.2293,0.2217,0.225,0.2224,0.2257,0.2223,0.2222,0.4912,0.2255,0.2429,0.2251,0.4912,0.3743,0.2263,0.2517,0.2322,0.2269,0.2249,0.491,0.2254,0.2247,0.2243,0.2256,0.2256,0.2229,0.2257,0.2224,0.2253,0.2226,0.226,0.2231,0.2254,0.225,0.2225,0.2224,0.225,0.4922,0.223,0.4922,0.2258,0.2246,0.2225,0.2409,0.4527,0.2254,0.7741,0.4922,0.2224,0.7136,0.2225,0.2251,0.4918,0.496,0.4525,0.2251,0.2251,0.2492,0.2254,0.2243,0.2989,0.2823,0.4644,0.2251,0.2594,0.5366,0.3118,0.2228,0.4909,0.2708,0.2305,0.2234,0.2244,0.4971,0.2249,0.4922,0.2227,0.4916,0.4917,0.5212,0.2244,0.2246,0.2221,0.2221,0.2256,0.2248,0.2262,0.2255,0.2223,0.2261,0.2226,0.2251,0.2255,0.2243,0.2256,0.2254,0.2579,0.2253,0.2257,0.2248,0.2255,0.2246,0.2224,0.2226,0.2246,0.2253,0.2254,0.2247,0.2251,0.2248,0.2253,0.2229,0.225,0.2243,0.2248,0.2252,0.2285,0.2228,0.2256,0.2249,0.2262,0.2254,0.2255,0.2258,0.2225,0.2225,0.2249,0.2253,0.2251,0.2253,0.2244,0.2228,0.2246,0.2225,0.2225,0.223,0.2257,0.2257,0.2249,0.2247,0.2251,0.2251,0.491,0.2249,0.4775,0.2459,0.491,0.2364,0.2262,0.2346,0.2338,0.2259,0.2256,0.4914,0.4909,0.2223,0.4915,0.491,0.2271,0.2268,0.2223,0.491,0.4494,0.2644,0.4919,0.5173,0.492,0.4917,0.7228,0.4914,0.2248,0.2242,0.2282,0.2241,0.456,0.2246,0.2501,0.2244,0.4354,0.2256,0.2276,0.491,0.3214,0.5248,0.2251,0.2279,0.2259,0.3121,0.2267,0.2251,0.2236,0.2241,0.234,0.2249,0.2355,0.2246,0.5066,0.2226,0.2252,0.2254,0.2244,0.6522,0.6375,0.2225,0.4915],\"yaxis\":\"y\"},{\"customdata\":[[7.1017,\"DMU 0002\"],[9.4675,\"DMU 0005\"],[1.2379,\"DMU 0017\"],[2.3901,\"DMU 0032\"],[6.35,\"DMU 0037\"],[7.8293,\"DMU 0041\"],[6.5407,\"DMU 0053\"],[2.9563,\"DMU 0060\"],[3.3297,\"DMU 0065\"],[0.4431,\"DMU 0068\"],[6.2579,\"DMU 0079\"],[2.793,\"DMU 0081\"],[6.764,\"DMU 0087\"],[-0.0,\"DMU 0088\"],[0.757,\"DMU 0091\"],[6.5903,\"DMU 0093\"],[1.0809,\"DMU 0096\"],[0.9964,\"DMU 0097\"],[0.4544,\"DMU 0099\"],[1.2278,\"DMU 0103\"],[5.4188,\"DMU 0105\"],[0.4729,\"DMU 0109\"],[3.976,\"DMU 0111\"],[6.8583,\"DMU 0112\"],[4.0735,\"DMU 0113\"],[5.1722,\"DMU 0114\"],[4.2955,\"DMU 0115\"],[2.1083,\"DMU 0116\"],[0.4508,\"DMU 0120\"],[1.2986,\"DMU 0122\"],[3.2744,\"DMU 0126\"],[4.039,\"DMU 0128\"],[1.4669,\"DMU 0132\"],[0.4761,\"DMU 0137\"],[0.0645,\"DMU 0140\"],[0.4684,\"DMU 0142\"],[8.4793,\"DMU 0152\"],[0.4862,\"DMU 0154\"],[6.0484,\"DMU 0155\"],[0.8004,\"DMU 0156\"],[0.8284,\"DMU 0157\"],[1.5938,\"DMU 0158\"],[0.7816,\"DMU 0160\"],[0.5138,\"DMU 0162\"],[0.7601,\"DMU 0165\"],[1.0362,\"DMU 0166\"],[0.5485,\"DMU 0167\"],[0.4752,\"DMU 0168\"],[6.6309,\"DMU 0169\"],[4.9948,\"DMU 0172\"],[3.4151,\"DMU 0173\"],[1.0011,\"DMU 0175\"],[0.8866,\"DMU 0177\"],[9.8508,\"DMU 0178\"],[0.5062,\"DMU 0181\"],[1.0068,\"DMU 0185\"],[0.4747,\"DMU 0186\"],[0.505,\"DMU 0193\"],[1.9011,\"DMU 0194\"],[8.2657,\"DMU 0195\"],[4.5145,\"DMU 0198\"],[1.0898,\"DMU 0199\"],[1.0791,\"DMU 0200\"],[6.6066,\"DMU 0201\"],[2.0275,\"DMU 0204\"],[4.7998,\"DMU 0209\"],[0.1937,\"DMU 0211\"],[0.3035,\"DMU 0212\"],[4.89,\"DMU 0213\"],[0.5605,\"DMU 0216\"],[0.5511,\"DMU 0223\"],[0.7102,\"DMU 0226\"],[0.4787,\"DMU 0231\"],[4.1413,\"DMU 0232\"],[0.3766,\"DMU 0239\"],[7.8922,\"DMU 0240\"],[0.7197,\"DMU 0241\"],[0.4673,\"DMU 0245\"],[0.869,\"DMU 0246\"],[0.4319,\"DMU 0247\"],[0.6473,\"DMU 0248\"],[9.2262,\"DMU 0249\"],[0.7957,\"DMU 0250\"],[0.7028,\"DMU 0251\"],[1.0808,\"DMU 0253\"],[4.4917,\"DMU 0254\"],[1.3249,\"DMU 0259\"],[0.4762,\"DMU 0260\"],[9.4647,\"DMU 0263\"],[8.9162,\"DMU 0265\"],[0.4832,\"DMU 0268\"],[0.6254,\"DMU 0271\"],[1.2323,\"DMU 0279\"],[0.9312,\"DMU 0281\"],[8.8791,\"DMU 0282\"],[5.1513,\"DMU 0283\"],[0.1158,\"DMU 0284\"],[6.748,\"DMU 0285\"],[0.6964,\"DMU 0286\"],[3.157,\"DMU 0287\"],[0.8339,\"DMU 0288\"],[1.1027,\"DMU 0290\"],[5.2406,\"DMU 0291\"],[5.9796,\"DMU 0293\"],[0.5247,\"DMU 0295\"],[0.3828,\"DMU 0296\"],[3.5654,\"DMU 0297\"],[0.568,\"DMU 0298\"],[6.5972,\"DMU 0299\"],[6.3271,\"DMU 0300\"],[0.2546,\"DMU 0311\"],[6.6695,\"DMU 0312\"],[0.9813,\"DMU 0314\"],[0.8545,\"DMU 0315\"],[8.2446,\"DMU 0319\"],[3.0657,\"DMU 0326\"],[0.8665,\"DMU 0335\"],[7.105,\"DMU 0336\"],[1.484,\"DMU 0338\"],[7.5771,\"DMU 0339\"],[0.1881,\"DMU 0341\"],[0.4547,\"DMU 0342\"],[7.3247,\"DMU 0343\"],[3.5575,\"DMU 0344\"],[5.5884,\"DMU 0345\"],[0.6246,\"DMU 0347\"],[7.1041,\"DMU 0348\"],[0.4881,\"DMU 0350\"],[6.5119,\"DMU 0355\"],[0.4605,\"DMU 0357\"],[9.8733,\"DMU 0358\"],[1.092,\"DMU 0362\"],[9.3308,\"DMU 0363\"],[5.985,\"DMU 0365\"],[1.3866,\"DMU 0369\"],[8.2128,\"DMU 0372\"],[0.0315,\"DMU 0373\"],[1.405,\"DMU 0378\"],[0.1685,\"DMU 0380\"],[5.226,\"DMU 0384\"],[1.4411,\"DMU 0387\"],[0.4543,\"DMU 0395\"],[0.4816,\"DMU 0404\"],[4.9853,\"DMU 0409\"],[5.7504,\"DMU 0411\"],[0.5842,\"DMU 0420\"],[0.4878,\"DMU 0421\"],[1.3023,\"DMU 0422\"],[1.1113,\"DMU 0423\"],[9.8383,\"DMU 0424\"],[6.5863,\"DMU 0425\"],[8.936,\"DMU 0427\"],[0.2144,\"DMU 0431\"],[5.3303,\"DMU 0433\"],[1.7017,\"DMU 0434\"],[0.5077,\"DMU 0438\"],[0.2136,\"DMU 0439\"],[8.0475,\"DMU 0445\"],[9.3353,\"DMU 0446\"],[1.0913,\"DMU 0450\"],[0.0,\"DMU 0451\"],[6.6482,\"DMU 0456\"],[5.9714,\"DMU 0458\"],[1.6761,\"DMU 0462\"],[8.1067,\"DMU 0463\"],[0.8829,\"DMU 0464\"],[2.4339,\"DMU 0465\"],[0.5154,\"DMU 0466\"],[8.9846,\"DMU 0467\"],[3.4848,\"DMU 0468\"],[0.4499,\"DMU 0469\"],[0.2136,\"DMU 0470\"],[2.1235,\"DMU 0471\"],[3.1369,\"DMU 0472\"],[8.7193,\"DMU 0473\"],[1.7644,\"DMU 0474\"],[2.8808,\"DMU 0475\"],[1.1945,\"DMU 0476\"],[0.2139,\"DMU 0477\"],[0.2138,\"DMU 0478\"],[4.2409,\"DMU 0479\"],[0.214,\"DMU 0481\"],[0.2139,\"DMU 0482\"],[1.1437,\"DMU 0483\"],[2.0108,\"DMU 0484\"],[0.2526,\"DMU 0486\"],[1.5736,\"DMU 0487\"],[0.2137,\"DMU 0488\"],[1.4354,\"DMU 0490\"],[1.0094,\"DMU 0491\"],[0.2474,\"DMU 0492\"],[1.042,\"DMU 0494\"],[2.0594,\"DMU 0496\"],[0.2139,\"DMU 0497\"],[0.9674,\"DMU 0499\"],[1.2562,\"DMU 0500\"],[2.2384,\"DMU 0502\"],[2.567,\"DMU 0503\"],[1.6085,\"DMU 0505\"],[3.8962,\"DMU 0506\"],[0.2139,\"DMU 0507\"],[2.1521,\"DMU 0508\"],[1.793,\"DMU 0510\"],[1.2042,\"DMU 0511\"],[5.2057,\"DMU 0512\"],[0.2291,\"DMU 0513\"],[1.8546,\"DMU 0514\"],[2.012,\"DMU 0515\"],[3.2567,\"DMU 0516\"],[2.0739,\"DMU 0517\"],[1.4284,\"DMU 0518\"],[0.4383,\"DMU 0519\"],[1.2574,\"DMU 0523\"],[0.5146,\"DMU 0525\"],[3.0209,\"DMU 0526\"],[2.3414,\"DMU 0527\"],[1.9525,\"DMU 0528\"],[3.1136,\"DMU 0529\"],[8.1668,\"DMU 0530\"],[7.6073,\"DMU 0531\"],[0.4676,\"DMU 0532\"],[0.8766,\"DMU 0533\"],[1.2322,\"DMU 0534\"],[1.2241,\"DMU 0535\"],[2.8926,\"DMU 0536\"],[1.1464,\"DMU 0537\"],[0.7451,\"DMU 0538\"],[1.2308,\"DMU 0540\"],[0.2327,\"DMU 0541\"],[1.8234,\"DMU 0543\"],[3.9246,\"DMU 0544\"],[2.1639,\"DMU 0545\"],[0.4071,\"DMU 0546\"],[0.3811,\"DMU 0547\"],[3.6347,\"DMU 0548\"],[5.5186,\"DMU 0549\"],[2.6454,\"DMU 0550\"],[0.2135,\"DMU 0552\"],[0.2138,\"DMU 0553\"],[1.7004,\"DMU 0554\"],[2.5838,\"DMU 0556\"],[4.6649,\"DMU 0558\"],[0.7916,\"DMU 0560\"],[1.6793,\"DMU 0562\"],[2.1876,\"DMU 0563\"],[3.3065,\"DMU 0564\"],[0.2137,\"DMU 0565\"],[3.2852,\"DMU 0566\"],[0.5043,\"DMU 0567\"],[0.2139,\"DMU 0568\"],[1.3131,\"DMU 0569\"],[5.5986,\"DMU 0570\"],[9.8018,\"DMU 0572\"],[1.5772,\"DMU 0575\"],[3.5192,\"DMU 0576\"],[0.4696,\"DMU 0577\"],[1.5053,\"DMU 0578\"],[6.3139,\"DMU 0581\"],[1.9809,\"DMU 0583\"],[2.4934,\"DMU 0584\"],[2.4989,\"DMU 0585\"],[0.2139,\"DMU 0586\"],[1.6859,\"DMU 0587\"],[0.6025,\"DMU 0589\"],[0.1863,\"DMU 0595\"],[6.6432,\"DMU 0596\"],[1.5223,\"DMU 0597\"],[1.5309,\"DMU 0598\"],[4.508,\"DMU 0599\"],[8.0139,\"DMU 0600\"],[1.043,\"DMU 0601\"],[1.5443,\"DMU 0605\"],[2.8446,\"DMU 0606\"],[1.4096,\"DMU 0607\"],[6.0215,\"DMU 0608\"],[1.0179,\"DMU 0610\"],[1.9547,\"DMU 0611\"],[1.0816,\"DMU 0613\"],[0.2141,\"DMU 0614\"],[7.909,\"DMU 0616\"],[0.2138,\"DMU 0618\"],[0.4638,\"DMU 0619\"],[0.4546,\"DMU 0620\"],[2.1809,\"DMU 0621\"],[1.1193,\"DMU 0622\"],[3.7799,\"DMU 0623\"],[0.8447,\"DMU 0625\"],[4.4647,\"DMU 0626\"],[2.0793,\"DMU 0627\"],[9.1738,\"DMU 0633\"],[1.8795,\"DMU 0634\"],[0.7196,\"DMU 0636\"],[0.1571,\"DMU 0638\"],[1.065,\"DMU 0643\"],[0.0831,\"DMU 0644\"],[8.3409,\"DMU 0645\"],[0.6263,\"DMU 0646\"],[6.834,\"DMU 0647\"],[1.7097,\"DMU 0648\"],[1.9016,\"DMU 0650\"],[9.1461,\"DMU 0653\"],[5.7835,\"DMU 0654\"],[2.4378,\"DMU 0655\"],[3.0006,\"DMU 0656\"],[1.1109,\"DMU 0658\"],[0.7235,\"DMU 0659\"],[3.7977,\"DMU 0660\"],[0.0,\"DMU 0661\"],[1.6069,\"DMU 0663\"],[5.8862,\"DMU 0668\"],[0.4501,\"DMU 0669\"],[1.6651,\"DMU 0670\"],[3.222,\"DMU 0671\"],[1.2735,\"DMU 0673\"],[4.9113,\"DMU 0674\"],[1.7578,\"DMU 0675\"],[1.2819,\"DMU 0676\"],[3.4273,\"DMU 0677\"],[2.2265,\"DMU 0678\"],[9.3239,\"DMU 0682\"],[1.0484,\"DMU 0683\"],[7.295,\"DMU 0684\"],[0.8285,\"DMU 0685\"],[0.2137,\"DMU 0687\"],[2.6353,\"DMU 0689\"],[0.2719,\"DMU 0690\"],[0.8598,\"DMU 0691\"],[0.214,\"DMU 0694\"],[0.6579,\"DMU 0695\"],[0.8852,\"DMU 0697\"],[1.8955,\"DMU 0699\"],[0.2138,\"DMU 0701\"],[7.617,\"DMU 0702\"],[1.8022,\"DMU 0703\"],[5.8534,\"DMU 0704\"],[1.0704,\"DMU 0705\"],[1.0952,\"DMU 0706\"],[0.8802,\"DMU 0707\"],[0.2135,\"DMU 0708\"],[0.2137,\"DMU 0709\"],[3.7945,\"DMU 0710\"],[0.8327,\"DMU 0711\"],[0.2139,\"DMU 0713\"],[0.2139,\"DMU 0714\"],[0.6258,\"DMU 0715\"],[0.2137,\"DMU 0717\"],[0.5834,\"DMU 0718\"],[8.3154,\"DMU 0719\"],[2.7757,\"DMU 0720\"],[0.9087,\"DMU 0721\"],[2.2418,\"DMU 0722\"],[0.2142,\"DMU 0725\"],[0.6947,\"DMU 0726\"],[9.9205,\"DMU 0727\"],[9.6752,\"DMU 0728\"],[0.6465,\"DMU 0730\"],[0.2142,\"DMU 0731\"],[3.6029,\"DMU 0732\"],[7.2633,\"DMU 0733\"],[0.591,\"DMU 0741\"],[7.5717,\"DMU 0743\"],[0.4556,\"DMU 0749\"],[0.0477,\"DMU 0750\"],[0.0514,\"DMU 0753\"],[6.4288,\"DMU 0756\"],[0.4589,\"DMU 0757\"],[0.4728,\"DMU 0758\"],[5.2179,\"DMU 0761\"],[0.2268,\"DMU 0762\"],[7.5651,\"DMU 0763\"],[1.2538,\"DMU 0764\"],[9.7718,\"DMU 0766\"],[0.287,\"DMU 0767\"],[0.0,\"DMU 0768\"],[0.6607,\"DMU 0773\"],[2.7102,\"DMU 0774\"],[0.4984,\"DMU 0775\"],[5.2668,\"DMU 0780\"],[0.4651,\"DMU 0781\"],[4.8585,\"DMU 0784\"],[0.4836,\"DMU 0786\"],[2.9428,\"DMU 0787\"],[0.4648,\"DMU 0788\"],[1.4218,\"DMU 0789\"],[0.0341,\"DMU 0793\"],[3.0906,\"DMU 0798\"],[8.4551,\"DMU 0799\"],[0.4692,\"DMU 0803\"],[6.7196,\"DMU 0805\"],[6.3319,\"DMU 0806\"],[0.4761,\"DMU 0807\"],[5.1033,\"DMU 0808\"],[1.5281,\"DMU 0810\"],[1.1004,\"DMU 0812\"],[3.3247,\"DMU 0813\"],[1.5234,\"DMU 0816\"],[1.7433,\"DMU 0817\"],[4.3126,\"DMU 0821\"],[2.9488,\"DMU 0823\"],[6.1322,\"DMU 0824\"],[8.392,\"DMU 0825\"],[2.4755,\"DMU 0828\"],[3.1691,\"DMU 0833\"],[0.4813,\"DMU 0834\"],[6.5985,\"DMU 0837\"],[6.6096,\"DMU 0841\"],[6.5721,\"DMU 0842\"],[1.6273,\"DMU 0844\"],[0.4261,\"DMU 0848\"],[7.4104,\"DMU 0850\"],[1.1085,\"DMU 0851\"],[0.4508,\"DMU 0853\"],[2.8534,\"DMU 0854\"],[0.5083,\"DMU 0855\"],[2.2487,\"DMU 0856\"],[5.9986,\"DMU 0857\"],[1.1252,\"DMU 0858\"],[4.1804,\"DMU 0859\"],[3.5985,\"DMU 0866\"],[0.4718,\"DMU 0867\"],[4.5655,\"DMU 0869\"],[1.2175,\"DMU 0871\"],[0.9831,\"DMU 0872\"],[0.4588,\"DMU 0876\"],[1.532,\"DMU 0877\"],[2.0059,\"DMU 0879\"],[1.3122,\"DMU 0881\"],[1.5166,\"DMU 0883\"],[0.8063,\"DMU 0884\"],[6.998,\"DMU 0886\"],[9.3178,\"DMU 0888\"],[0.9378,\"DMU 0889\"],[1.1892,\"DMU 0892\"],[8.3577,\"DMU 0893\"],[2.1658,\"DMU 0895\"],[6.6034,\"DMU 0896\"],[3.4125,\"DMU 0897\"],[7.8291,\"DMU 0898\"],[5.0629,\"DMU 0899\"],[0.1391,\"DMU 0902\"],[2.6088,\"DMU 0903\"],[3.0369,\"DMU 0904\"],[0.0304,\"DMU 0905\"],[4.4083,\"DMU 0906\"],[0.3184,\"DMU 0907\"],[2.0207,\"DMU 0908\"],[0.4663,\"DMU 0909\"],[8.2623,\"DMU 0912\"],[1.5078,\"DMU 0913\"],[0.6605,\"DMU 0914\"],[1.2998,\"DMU 0915\"],[0.9837,\"DMU 0916\"],[1.7248,\"DMU 0917\"],[0.3838,\"DMU 0918\"],[7.8296,\"DMU 0922\"],[6.5429,\"DMU 0923\"],[8.4953,\"DMU 0924\"],[0.4105,\"DMU 0926\"],[2.8191,\"DMU 0927\"],[0.2143,\"DMU 0929\"],[1.0552,\"DMU 0930\"],[0.8574,\"DMU 0932\"],[1.6582,\"DMU 0933\"],[1.6581,\"DMU 0934\"],[9.1417,\"DMU 0935\"],[0.2289,\"DMU 0936\"],[5.4491,\"DMU 0937\"],[1.0459,\"DMU 0938\"],[2.072,\"DMU 0939\"],[0.6149,\"DMU 0941\"],[1.5924,\"DMU 0942\"],[6.3505,\"DMU 0943\"],[0.2141,\"DMU 0944\"],[0.2139,\"DMU 0945\"],[0.2139,\"DMU 0946\"],[1.4965,\"DMU 0948\"],[1.2935,\"DMU 0949\"],[5.5815,\"DMU 0950\"],[3.7129,\"DMU 0951\"],[1.632,\"DMU 0952\"],[0.2226,\"DMU 0953\"],[1.4717,\"DMU 0954\"],[2.4755,\"DMU 0955\"],[8.7451,\"DMU 0956\"],[7.7435,\"DMU 0957\"],[0.0,\"DMU 0959\"],[2.0031,\"DMU 0960\"],[6.3284,\"DMU 0961\"],[1.147,\"DMU 0962\"],[0.5127,\"DMU 0964\"],[1.7937,\"DMU 0965\"],[8.0405,\"DMU 0966\"],[6.5236,\"DMU 0968\"],[0.321,\"DMU 0969\"],[1.0517,\"DMU 0970\"],[1.6163,\"DMU 0971\"],[3.2592,\"DMU 0973\"],[7.0314,\"DMU 0975\"],[4.6126,\"DMU 0976\"],[0.5343,\"DMU 0977\"],[1.4232,\"DMU 0980\"],[1.8472,\"DMU 0981\"],[2.8807,\"DMU 0982\"],[7.8294,\"DMU 0983\"],[1.6325,\"DMU 0984\"],[1.2922,\"DMU 0985\"],[2.1654,\"DMU 0986\"],[0.2139,\"DMU 0987\"],[0.2963,\"DMU 0989\"],[6.5605,\"DMU 0990\"],[8.2601,\"DMU 0991\"],[1.405,\"DMU 0992\"],[1.0314,\"DMU 0993\"],[1.0421,\"DMU 0994\"],[0.9945,\"DMU 0995\"],[0.2139,\"DMU 0996\"],[1.8321,\"DMU 0997\"],[0.2685,\"DMU 0998\"],[0.2254,\"DMU 1001\"],[1.6979,\"DMU 1005\"],[4.0149,\"DMU 1006\"],[0.2138,\"DMU 1009\"],[0.2137,\"DMU 1010\"],[0.1871,\"DMU 1014\"],[0.214,\"DMU 1015\"],[0.0,\"DMU 1016\"],[1.3019,\"DMU 1018\"],[0.2139,\"DMU 1019\"],[3.4934,\"DMU 1020\"],[0.7795,\"DMU 1026\"],[0.2732,\"DMU 1029\"],[1.464,\"DMU 1030\"],[1.8764,\"DMU 1031\"],[0.2352,\"DMU 1033\"],[1.5781,\"DMU 1037\"],[1.143,\"DMU 1038\"],[0.2139,\"DMU 1039\"],[0.2136,\"DMU 1040\"],[9.1167,\"DMU 1041\"],[5.3622,\"DMU 1047\"],[0.8552,\"DMU 1048\"],[8.1426,\"DMU 1055\"],[8.7759,\"DMU 1057\"],[7.5677,\"DMU 1058\"],[8.9508,\"DMU 1060\"],[7.6693,\"DMU 1064\"],[1.9507,\"DMU 1065\"],[3.8699,\"DMU 1066\"],[4.0455,\"DMU 1068\"],[7.1211,\"DMU 1069\"],[5.7866,\"DMU 1075\"],[8.4257,\"DMU 1076\"],[9.8228,\"DMU 1077\"],[9.6979,\"DMU 1079\"],[7.6576,\"DMU 1083\"],[8.3663,\"DMU 1084\"],[1.4064,\"DMU 1085\"],[9.152,\"DMU 1089\"],[7.7871,\"DMU 1094\"],[2.5847,\"DMU 1098\"],[4.0925,\"DMU 1099\"],[4.8158,\"DMU 1100\"],[0.2136,\"DMU 1101\"],[0.2451,\"DMU 1102\"],[0.2652,\"DMU 1104\"],[0.2139,\"DMU 1106\"],[0.2139,\"DMU 1107\"],[0.7694,\"DMU 1110\"],[0.7918,\"DMU 1111\"],[0.1186,\"DMU 1113\"],[1.2195,\"DMU 1114\"],[0.2139,\"DMU 1115\"],[0.2139,\"DMU 1117\"],[1.278,\"DMU 1118\"],[1.1713,\"DMU 1119\"],[0.1854,\"DMU 1120\"],[0.5881,\"DMU 1122\"],[1.9408,\"DMU 1123\"],[0.2354,\"DMU 1128\"],[0.5845,\"DMU 1129\"],[6.8597,\"DMU 1131\"],[0.2468,\"DMU 1132\"],[1.604,\"DMU 1136\"],[2.4117,\"DMU 1138\"],[1.4833,\"DMU 1139\"],[9.0633,\"DMU 1140\"],[0.2144,\"DMU 1141\"],[0.2404,\"DMU 1143\"],[0.1609,\"DMU 1144\"],[0.2137,\"DMU 1145\"],[1.9304,\"DMU 1146\"],[0.2202,\"DMU 1147\"],[0.7979,\"DMU 1148\"],[0.2139,\"DMU 1149\"],[1.183,\"DMU 1150\"],[0.8421,\"DMU 1151\"],[0.2137,\"DMU 1152\"],[1.3951,\"DMU 1153\"],[0.2144,\"DMU 1154\"],[0.5596,\"DMU 1155\"],[9.4667,\"DMU 1159\"],[0.3726,\"DMU 1163\"],[0.6069,\"DMU 1165\"],[0.4721,\"DMU 1168\"],[0.4762,\"DMU 1170\"],[0.4873,\"DMU 1178\"],[1.9095,\"DMU 1179\"],[2.1921,\"DMU 1181\"],[4.1774,\"DMU 1183\"],[1.2853,\"DMU 1185\"],[1.2256,\"DMU 1188\"],[8.1415,\"DMU 1190\"],[1.0581,\"DMU 1191\"],[7.6397,\"DMU 1192\"],[0.4538,\"DMU 1193\"],[0.4101,\"DMU 1197\"],[3.9004,\"DMU 1199\"],[0.4592,\"DMU 1202\"],[1.4536,\"DMU 1203\"],[9.4175,\"DMU 1211\"],[0.6492,\"DMU 1214\"],[0.4746,\"DMU 1219\"],[1.3594,\"DMU 1221\"],[3.9348,\"DMU 1225\"],[2.6886,\"DMU 1226\"],[1.2978,\"DMU 1231\"],[2.9229,\"DMU 1238\"],[0.4158,\"DMU 1240\"],[3.3478,\"DMU 1241\"],[8.8341,\"DMU 1245\"],[8.6509,\"DMU 1251\"],[5.9876,\"DMU 1252\"],[0.8186,\"DMU 1253\"],[8.16,\"DMU 1255\"],[0.0203,\"DMU 1256\"],[6.3549,\"DMU 1257\"],[0.9512,\"DMU 1259\"],[3.1364,\"DMU 1260\"],[1.467,\"DMU 1261\"],[1.3319,\"DMU 1262\"],[0.2142,\"DMU 1263\"],[0.2139,\"DMU 1265\"],[1.8942,\"DMU 1266\"],[2.1184,\"DMU 1270\"],[1.3216,\"DMU 1271\"],[1.5448,\"DMU 1272\"],[1.0699,\"DMU 1273\"],[1.6418,\"DMU 1274\"],[1.9702,\"DMU 1275\"],[0.089,\"DMU 1276\"],[0.6539,\"DMU 1277\"],[9.0197,\"DMU 1278\"],[6.369,\"DMU 1279\"],[0.4593,\"DMU 1280\"],[0.6197,\"DMU 1282\"],[8.929,\"DMU 1285\"],[3.1034,\"DMU 1286\"],[1.8569,\"DMU 1288\"],[4.0078,\"DMU 1293\"],[0.4812,\"DMU 1295\"],[1.9995,\"DMU 1297\"],[1.3951,\"DMU 1298\"],[0.289,\"DMU 1299\"],[1.9366,\"DMU 1300\"],[0.214,\"DMU 1301\"],[0.1827,\"DMU 1302\"],[0.4565,\"DMU 1304\"],[6.448,\"DMU 1307\"],[0.4679,\"DMU 1308\"],[2.0863,\"DMU 1309\"],[8.065,\"DMU 1311\"],[7.0695,\"DMU 1313\"],[1.3684,\"DMU 1314\"],[1.1936,\"DMU 1315\"],[7.9687,\"DMU 1317\"],[0.0771,\"DMU 1318\"],[6.0004,\"DMU 1319\"],[3.693,\"DMU 1320\"],[2.8312,\"DMU 1321\"],[7.7164,\"DMU 1323\"],[0.5282,\"DMU 1326\"],[6.9837,\"DMU 1327\"],[1.4493,\"DMU 1328\"],[8.7286,\"DMU 1329\"],[7.1437,\"DMU 1330\"],[4.1617,\"DMU 1331\"],[7.7088,\"DMU 1334\"],[8.712,\"DMU 1337\"],[0.7221,\"DMU 1338\"],[2.4641,\"DMU 1339\"],[8.4716,\"DMU 1340\"],[7.2843,\"DMU 1341\"],[8.2852,\"DMU 1342\"],[8.401,\"DMU 1343\"],[1.1184,\"DMU 1344\"],[1.1178,\"DMU 1345\"],[1.0522,\"DMU 1346\"],[0.2144,\"DMU 1349\"],[0.2137,\"DMU 1350\"],[6.2505,\"DMU 1354\"],[8.454,\"DMU 1355\"],[8.4363,\"DMU 1356\"],[1.1192,\"DMU 1358\"],[0.2422,\"DMU 1360\"],[6.4785,\"DMU 1361\"],[0.4665,\"DMU 1362\"],[1.9023,\"DMU 1363\"],[5.9311,\"DMU 1365\"],[5.95,\"DMU 1366\"],[6.2853,\"DMU 1374\"],[1.3677,\"DMU 1375\"],[0.2144,\"DMU 1377\"],[0.2449,\"DMU 1378\"],[1.6917,\"DMU 1380\"],[1.4979,\"DMU 1382\"],[1.1763,\"DMU 1385\"],[6.0433,\"DMU 1388\"],[6.3282,\"DMU 1389\"],[0.9335,\"DMU 1390\"],[1.1293,\"DMU 1392\"],[0.8724,\"DMU 1396\"],[3.1734,\"DMU 1398\"],[5.7894,\"DMU 1399\"],[3.0689,\"DMU 1400\"],[2.2818,\"DMU 1403\"],[3.9419,\"DMU 1404\"],[7.7649,\"DMU 1410\"],[0.5266,\"DMU 1414\"],[1.4436,\"DMU 1415\"],[-0.0,\"DMU 1416\"],[1.1464,\"DMU 1417\"],[3.9443,\"DMU 1418\"],[1.2797,\"DMU 1419\"],[1.389,\"DMU 1421\"],[3.2001,\"DMU 1423\"],[1.2088,\"DMU 1425\"],[1.0013,\"DMU 1427\"],[1.0969,\"DMU 1428\"],[0.2134,\"DMU 1431\"],[2.8388,\"DMU 1432\"],[1.8596,\"DMU 1433\"],[6.3697,\"DMU 1434\"],[9.1505,\"DMU 1435\"],[3.4927,\"DMU 1436\"],[2.8108,\"DMU 1439\"],[3.7222,\"DMU 1440\"],[3.2934,\"DMU 1441\"],[7.3182,\"DMU 1442\"],[3.5612,\"DMU 1444\"],[2.6653,\"DMU 1445\"],[3.6353,\"DMU 1446\"],[2.9159,\"DMU 1447\"],[1.938,\"DMU 1448\"],[2.0567,\"DMU 1451\"],[0.0,\"DMU 1452\"],[2.3072,\"DMU 1453\"],[0.4631,\"DMU 1454\"],[3.4671,\"DMU 1455\"],[1.5184,\"DMU 1456\"],[0.0,\"DMU 1457\"],[3.9535,\"DMU 1458\"],[1.5612,\"DMU 1459\"],[2.1311,\"DMU 1460\"],[1.6616,\"DMU 1461\"],[1.0913,\"DMU 1462\"],[7.8295,\"DMU 1463\"],[7.4817,\"DMU 1464\"],[0.2139,\"DMU 1465\"],[0.4577,\"DMU 1466\"],[0.2135,\"DMU 1471\"],[1.1572,\"DMU 1473\"],[6.5512,\"DMU 1475\"],[4.1001,\"DMU 1478\"],[1.4444,\"DMU 1480\"],[7.0538,\"DMU 1482\"],[7.4353,\"DMU 1484\"],[0.7195,\"DMU 1486\"],[6.9366,\"DMU 1488\"],[2.6388,\"DMU 1489\"],[5.8597,\"DMU 1491\"],[7.8294,\"DMU 1492\"],[4.3331,\"DMU 1493\"],[4.1856,\"DMU 1494\"],[3.9996,\"DMU 1495\"],[1.3863,\"DMU 1501\"],[1.3038,\"DMU 1505\"],[0.2157,\"DMU 1507\"],[3.646,\"DMU 1512\"],[0.6224,\"DMU 1513\"],[0.2134,\"DMU 1515\"],[0.2588,\"DMU 1517\"],[4.1975,\"DMU 1518\"],[0.0907,\"DMU 1520\"],[3.1636,\"DMU 1521\"],[3.7666,\"DMU 1522\"],[0.0474,\"DMU 1525\"],[0.1073,\"DMU 1529\"],[0.2868,\"DMU 1540\"],[9.0339,\"DMU 1550\"],[0.4655,\"DMU 1557\"],[8.3443,\"DMU 1558\"],[0.3009,\"DMU 1560\"],[1.586,\"DMU 1561\"],[0.475,\"DMU 1563\"],[5.3797,\"DMU 1564\"],[5.6545,\"DMU 1571\"],[1.3473,\"DMU 1572\"],[0.2137,\"DMU 1573\"],[0.4662,\"DMU 1575\"],[1.4977,\"DMU 1577\"],[4.1153,\"DMU 1578\"],[3.6959,\"DMU 1582\"],[4.569,\"DMU 1587\"],[1.4868,\"DMU 1591\"],[0.2139,\"DMU 1592\"],[3.6846,\"DMU 1594\"],[2.39,\"DMU 1595\"],[0.4765,\"DMU 1598\"],[3.7775,\"DMU 1599\"],[4.6821,\"DMU 1600\"],[3.717,\"DMU 1601\"],[3.4485,\"DMU 1603\"],[1.1863,\"DMU 1605\"],[0.858,\"DMU 1606\"],[2.3373,\"DMU 1607\"],[0.0702,\"DMU 1609\"],[0.5269,\"DMU 1610\"],[2.3976,\"DMU 1612\"],[9.0117,\"DMU 1614\"],[6.2349,\"DMU 1616\"],[1.1562,\"DMU 1617\"],[9.0377,\"DMU 1619\"],[3.3192,\"DMU 1620\"],[5.7238,\"DMU 1621\"],[3.0218,\"DMU 1623\"],[2.0777,\"DMU 1624\"],[0.5607,\"DMU 1627\"],[3.6239,\"DMU 1628\"],[1.0042,\"DMU 1629\"],[5.7785,\"DMU 1631\"],[0.8239,\"DMU 1633\"],[3.3245,\"DMU 1636\"],[2.7898,\"DMU 1638\"],[8.5446,\"DMU 1641\"],[8.3158,\"DMU 1642\"],[9.6848,\"DMU 1644\"],[9.9207,\"DMU 1647\"],[3.1654,\"DMU 1650\"],[2.7382,\"DMU 1651\"],[2.4499,\"DMU 1652\"],[4.2431,\"DMU 1657\"],[1.611,\"DMU 1658\"],[1.2447,\"DMU 1659\"],[3.4789,\"DMU 1661\"],[9.5445,\"DMU 1662\"],[7.8294,\"DMU 1665\"],[8.7741,\"DMU 1674\"],[2.6491,\"DMU 1675\"],[6.7177,\"DMU 1676\"],[6.7084,\"DMU 1677\"],[2.6341,\"DMU 1679\"],[2.2039,\"DMU 1683\"],[7.8307,\"DMU 1684\"],[2.0227,\"DMU 1686\"],[6.4603,\"DMU 1687\"],[1.0219,\"DMU 1690\"],[0.2136,\"DMU 1691\"],[1.521,\"DMU 1692\"],[0.0,\"DMU 1693\"],[8.7904,\"DMU 1696\"],[1.6845,\"DMU 1697\"],[0.7729,\"DMU 1698\"],[1.1566,\"DMU 1700\"],[2.9151,\"DMU 1701\"],[0.5921,\"DMU 1707\"],[1.6005,\"DMU 1710\"],[0.2137,\"DMU 1711\"],[0.214,\"DMU 1717\"],[4.0243,\"DMU 1721\"],[4.0942,\"DMU 1722\"],[0.6241,\"DMU 1723\"],[8.6352,\"DMU 1724\"],[1.1654,\"DMU 1726\"],[4.0109,\"DMU 1729\"],[9.3367,\"DMU 1730\"],[1.1596,\"DMU 1733\"]],\"hovertemplate\":\"Diff_Perc < 10=True<br>Efficiency_Scores_Basic=%{x}<br>Efficiency_Scores_with_ML=%{y}<br>Diff_Perc=%{customdata[0]}<br>index=%{customdata[1]}<extra></extra>\",\"legendgroup\":\"True\",\"line\":{\"color\":\"lightgreen\",\"width\":3},\"marker\":{\"color\":\"blue\",\"symbol\":\"circle\"},\"mode\":\"markers\",\"name\":\"True\",\"showlegend\":true,\"type\":\"scattergl\",\"x\":[0.2514,0.5446,0.4969,0.4459,0.5283,0.4465,0.4459,0.5062,0.2301,0.2612,1.0,0.5049,0.2413,1.0,0.2238,0.9988,0.2248,0.2247,0.2232,0.2251,1.0,0.2232,0.2313,0.2384,0.5125,0.2347,0.3557,0.2272,0.2232,0.2253,0.23,0.2315,0.2258,0.2232,0.2232,0.2232,0.2428,0.2232,0.237,0.2241,0.2244,0.2248,0.224,0.2232,0.224,0.2232,0.2233,0.2232,0.2379,0.2342,0.2304,0.227,0.2243,0.2468,0.2237,0.2245,0.2232,0.2233,0.2268,0.2426,0.2327,0.2248,0.2248,0.9991,0.2235,0.2337,0.2236,0.2232,0.2339,0.2237,0.2234,0.2238,0.2232,0.2321,0.2232,0.2415,0.2239,0.2232,0.2242,0.223,0.2236,0.2457,0.2244,0.2238,0.2251,0.2335,0.2264,0.2231,0.382,0.2449,0.2232,0.2235,0.2232,0.2246,0.2439,0.2354,0.2232,1.0,0.2237,0.2298,0.224,0.2249,0.2344,0.2395,0.2234,0.2238,0.231,0.2235,0.238,0.2384,0.2246,1.0,0.2317,0.2242,0.5419,0.2301,0.2246,0.5398,0.2258,0.5388,0.4907,0.2232,0.2401,0.2303,0.6283,0.2236,0.4818,0.2232,0.2377,0.2232,0.4977,0.2232,0.245,0.237,0.4977,0.5354,0.2389,0.4978,0.2255,0.4727,0.2276,0.2232,0.2232,0.5208,0.9657,0.2238,0.2232,0.2254,0.2249,0.2636,1.0,0.2443,0.4897,0.5238,0.4993,0.4933,0.4914,0.8965,0.2492,0.4969,0.488,1.0,0.9662,0.4821,0.5348,0.4955,0.5037,0.4934,0.5399,0.5089,0.4922,0.4907,0.5018,0.508,0.5386,0.4999,0.5061,0.225,0.4911,0.4851,0.5127,0.4929,0.4913,0.4968,0.5008,0.4916,0.4988,0.4926,0.498,0.2249,0.4933,0.2248,0.5017,0.492,0.4959,0.4968,0.5019,0.5039,0.4991,0.5106,0.4909,0.5026,0.4279,0.4968,0.5206,0.4917,0.5001,0.501,0.5083,0.5018,0.4982,0.4923,0.4972,0.4928,0.4295,0.4435,0.5018,0.2296,0.5372,0.3864,0.2232,0.495,0.225,0.225,0.2288,0.2248,0.365,0.4972,0.4924,0.5,0.4447,0.4265,0.4929,0.4914,0.5098,0.4458,0.4572,0.4913,0.4921,0.4996,0.4014,0.7948,0.4942,0.4992,0.4226,0.5081,0.4931,0.5081,0.4922,0.4922,0.411,0.2353,0.2462,0.4986,0.2306,0.2232,0.4984,0.524,0.5003,0.5037,0.5035,0.4919,0.4995,0.2235,0.4908,0.4855,0.4985,0.4982,0.5153,0.4459,0.2247,0.4984,0.229,0.4977,0.5226,0.2248,0.2268,0.2248,0.4904,0.2232,0.493,0.2232,0.2232,0.297,0.2249,0.5109,0.4361,0.3822,0.5014,0.5407,0.5012,0.2241,0.2246,0.2248,0.2229,0.2424,0.2237,0.989,0.4995,0.5013,0.5405,0.2391,0.2278,0.2291,0.2247,0.2244,0.2312,0.3815,0.2259,0.3305,0.2231,0.4992,0.5304,0.4976,0.3874,0.3791,0.3459,0.23,0.5009,0.2456,0.4945,0.2407,0.3254,0.4926,0.2294,0.4922,0.3561,0.4955,0.4053,0.3237,0.2268,0.4916,0.2953,0.5004,0.5262,0.4492,0.2991,0.3089,0.4932,0.4873,0.3394,0.4961,0.4929,0.491,0.4152,0.4904,0.2235,0.2438,0.3262,0.3487,0.2276,0.4898,0.3688,0.3182,0.5434,0.405,0.4964,0.231,0.24,0.494,1.0,0.2232,0.2234,0.2235,0.2376,0.2232,0.2232,0.2349,0.2232,0.2403,0.2252,0.2561,0.2237,0.4885,0.2237,0.4304,0.2233,0.4742,0.2316,0.5161,0.2283,0.2754,0.2232,0.3172,0.2248,0.5075,0.2427,0.2232,0.2754,0.5243,0.2232,0.2573,0.2267,0.2246,0.3201,0.4978,0.235,0.45,0.506,0.9932,0.5381,0.2281,0.5072,0.23,1.0,1.0,0.9994,0.4982,0.2248,0.2399,0.4961,0.2231,0.2289,0.2233,0.228,0.2367,0.2249,0.5136,0.2305,0.2232,0.2331,0.2765,0.2916,0.2232,0.4986,0.2865,0.2248,0.2258,0.4946,0.5334,0.2465,0.2244,0.2249,0.5378,0.2274,0.5295,0.5091,0.448,0.3392,0.2235,0.2281,0.5067,0.2269,0.2328,0.2239,0.2852,0.2232,0.3102,0.4982,0.4947,0.4971,0.4956,0.4996,0.4921,0.4462,0.2398,0.5461,0.4927,0.5052,0.4884,0.2269,0.2255,0.4932,0.499,0.5547,0.492,0.9752,0.2257,0.5016,0.413,0.4993,0.9661,0.4915,0.4932,0.4925,0.4706,0.4976,0.5249,0.5104,0.4991,0.4956,0.4973,0.4092,0.4485,0.4323,0.8683,0.5007,0.9839,0.225,0.225,0.3254,0.5349,0.3304,0.2513,0.2247,0.499,0.5074,0.7235,0.4735,0.493,0.4979,0.5002,0.506,0.4468,0.4987,0.4974,0.5019,0.4923,0.3995,0.5257,0.536,0.4975,0.2247,0.4956,0.4949,0.4929,0.2263,0.4918,0.492,0.2263,0.2318,0.4917,0.4926,0.4965,0.4914,1.0,0.497,0.4923,0.2385,0.4946,0.4913,0.4979,0.5003,0.4915,0.4989,0.4965,0.4962,0.4944,0.2454,0.2352,0.4961,0.6912,0.5392,0.4447,0.5411,0.5325,0.3789,0.5104,0.5135,0.5299,0.9759,0.5484,0.5584,0.544,0.5427,0.5513,0.4991,0.5536,0.5316,0.5041,0.5136,0.5162,0.4938,0.492,0.4897,0.4902,0.4905,0.4791,0.358,0.489,0.497,0.4914,0.4897,0.4958,0.2649,0.4923,0.4228,0.2655,0.492,0.4251,0.2391,0.4912,0.4987,0.4436,0.4985,0.2831,0.4953,0.491,0.4959,0.4935,0.3539,0.449,0.3473,0.4932,0.4968,0.3156,0.4909,0.4978,0.4892,0.2234,0.9738,0.248,0.2266,0.2233,0.2232,0.2232,0.2268,0.2274,0.2319,0.2253,0.2311,0.2421,0.2232,0.222,0.2232,0.3591,0.2316,0.2236,0.2257,0.2452,0.2235,0.2232,0.4978,0.2313,0.5049,0.2286,0.4801,0.4934,0.2235,0.4938,0.2435,0.2366,0.4938,0.2422,0.4903,0.2859,0.4954,0.5091,0.5009,0.4974,0.4914,0.4907,0.5008,0.5017,0.4965,0.4989,0.4972,0.4994,0.5015,0.2254,0.493,0.2442,0.9872,0.2232,0.4944,0.2649,0.3781,0.5005,0.5123,0.2231,0.5016,0.4964,0.4916,0.4997,0.491,1.0,0.2232,0.2379,0.2232,0.5014,0.5342,0.2396,0.3149,0.2251,0.5335,0.224,0.5223,0.2307,0.2291,0.532,0.4923,0.5278,0.4978,0.5379,0.5287,0.5122,0.532,0.5378,0.4938,0.2278,0.5364,0.5565,0.5353,0.5371,0.2247,0.2247,0.2246,0.494,0.4898,0.9932,0.5363,0.5361,0.4959,0.4963,0.5258,0.2231,0.4986,0.522,0.5218,0.9839,0.3933,0.4892,0.4291,0.4993,0.2258,0.2245,0.9865,0.2382,0.2284,0.2249,0.2243,0.5074,0.522,0.5067,0.2773,0.5118,1.0,0.2713,0.2257,1.0,0.225,0.5119,0.2247,0.2256,0.2351,0.2393,0.2246,0.2582,0.4893,0.6363,0.2266,0.5246,0.5432,0.5091,0.5054,0.5106,0.5081,0.5304,0.5095,0.5051,0.5099,0.5058,0.2269,0.2273,1.0,0.5028,0.2232,0.2304,0.2258,0.4882,0.5116,0.4982,0.5016,0.4987,0.4971,0.4458,0.5323,0.4883,0.2232,0.4878,0.4961,0.2381,0.5137,0.2256,0.6193,0.5384,0.4538,1.0,0.5053,0.9347,0.4459,0.5147,0.5137,0.5131,0.4978,0.2252,0.4919,0.2452,0.2236,0.4933,0.2232,0.2325,0.9232,0.2297,0.2313,0.2232,0.2244,0.2232,0.2449,0.2232,0.2428,0.2238,0.4972,0.2232,0.9841,0.2359,0.2254,0.4921,0.2232,0.4975,0.2324,0.2311,0.2331,0.4977,0.4911,0.231,0.2303,0.2232,0.2563,0.2232,0.2312,0.2304,0.2251,0.2242,0.502,0.224,0.2232,0.2286,0.5396,0.2377,0.4956,0.5398,0.5071,0.5217,0.5065,0.5012,0.2251,0.5092,0.4943,1.0,0.2244,0.5081,0.505,0.5368,0.5353,0.5435,0.5451,0.5069,0.5051,0.5033,0.5128,0.498,0.4968,0.5089,0.8913,0.4459,0.4046,0.2286,1.0,0.9999,0.2289,0.4463,0.4447,0.4174,0.2379,0.4957,0.5065,0.4988,1.0,0.244,0.4993,0.2242,0.4962,0.2303,0.2235,0.499,0.4932,0.4959,0.2319,0.2321,0.2236,0.2435,0.2243,0.2319,0.542,0.2251],\"xaxis\":\"x\",\"y\":[0.2335,0.493,0.4907,0.4353,0.4948,0.4115,0.4168,0.4912,0.2224,0.26,0.9374,0.4908,0.225,1.0,0.2221,0.9329,0.2224,0.2224,0.2221,0.2223,0.9458,0.2221,0.2221,0.2221,0.4916,0.2226,0.3404,0.2225,0.2222,0.2224,0.2224,0.2221,0.2224,0.2221,0.223,0.2221,0.2222,0.2221,0.2226,0.2223,0.2225,0.2212,0.2223,0.2221,0.2223,0.2208,0.2221,0.2221,0.2221,0.2225,0.2225,0.2247,0.2223,0.2225,0.2225,0.2223,0.2222,0.2222,0.2225,0.2225,0.2222,0.2224,0.2224,0.933,0.219,0.2225,0.2232,0.2225,0.2225,0.2225,0.2222,0.2222,0.2221,0.2225,0.2224,0.2224,0.2222,0.2221,0.2223,0.2221,0.2221,0.223,0.2226,0.2222,0.2227,0.2231,0.2234,0.2221,0.3458,0.2231,0.2221,0.2221,0.2204,0.2225,0.2223,0.2232,0.2229,0.9325,0.2221,0.2225,0.2222,0.2224,0.2221,0.2252,0.2222,0.2229,0.2227,0.2222,0.2223,0.2233,0.224,0.9333,0.2295,0.2223,0.4972,0.2231,0.2227,0.5014,0.2224,0.4979,0.4898,0.2221,0.2225,0.2221,0.5931,0.2222,0.4475,0.2221,0.2222,0.2221,0.4486,0.2207,0.2221,0.2228,0.4908,0.4915,0.2388,0.4908,0.2251,0.448,0.2243,0.2222,0.2221,0.4948,0.9102,0.2225,0.2221,0.2225,0.2224,0.2377,0.9341,0.2225,0.4887,0.4958,0.4908,0.4908,0.4904,0.8244,0.226,0.4914,0.488,0.9335,0.9085,0.4741,0.4915,0.4911,0.4914,0.4908,0.4914,0.4911,0.4899,0.4897,0.4912,0.492,0.4916,0.491,0.4915,0.2223,0.49,0.484,0.491,0.4918,0.4903,0.4911,0.4907,0.4904,0.4909,0.4916,0.4909,0.2226,0.4921,0.2225,0.4914,0.4909,0.4911,0.4905,0.4907,0.4909,0.491,0.4907,0.4899,0.4918,0.4202,0.4908,0.4935,0.4905,0.4909,0.4909,0.4917,0.4914,0.4911,0.4902,0.4909,0.4902,0.4165,0.4331,0.492,0.2224,0.4934,0.357,0.2221,0.4906,0.2222,0.2222,0.2222,0.2222,0.3623,0.4911,0.4912,0.4909,0.4272,0.4172,0.4909,0.4895,0.4912,0.4212,0.4451,0.4902,0.4911,0.4911,0.3911,0.7577,0.4903,0.4909,0.4133,0.4913,0.4921,0.4914,0.4897,0.4911,0.4056,0.2221,0.2221,0.4907,0.2225,0.2221,0.4909,0.4909,0.4904,0.4911,0.4909,0.4908,0.4911,0.2222,0.4899,0.4532,0.4909,0.4906,0.4921,0.4101,0.2224,0.4907,0.2225,0.4906,0.4911,0.2225,0.2224,0.2223,0.4894,0.2055,0.4919,0.2221,0.2221,0.2905,0.2224,0.4916,0.4324,0.3651,0.491,0.4911,0.4917,0.2224,0.2243,0.2224,0.2227,0.2221,0.2223,0.9215,0.4909,0.4917,0.4911,0.2253,0.2222,0.2222,0.2222,0.2227,0.2224,0.3815,0.2223,0.311,0.2221,0.4909,0.5133,0.4913,0.3683,0.3724,0.3414,0.2221,0.4897,0.2227,0.4893,0.2232,0.3227,0.4916,0.2233,0.4909,0.353,0.4945,0.4026,0.3209,0.2225,0.4905,0.2728,0.4914,0.4954,0.4444,0.2958,0.3062,0.4921,0.4863,0.3265,0.492,0.4918,0.49,0.4126,0.4894,0.2222,0.2236,0.3171,0.3455,0.2225,0.4888,0.3662,0.2867,0.4908,0.4024,0.4954,0.2227,0.2225,0.4911,0.9243,0.2221,0.2233,0.2234,0.2223,0.2221,0.2221,0.2226,0.2227,0.2221,0.2223,0.2311,0.223,0.4885,0.2222,0.4187,0.2222,0.4492,0.2305,0.4911,0.2272,0.2673,0.2222,0.3127,0.2247,0.4918,0.2222,0.2221,0.2569,0.4911,0.2221,0.2442,0.2232,0.2221,0.3094,0.4902,0.2309,0.4306,0.4911,0.9323,0.493,0.2225,0.4911,0.2289,0.934,0.9339,0.9337,0.4901,0.2239,0.2221,0.4906,0.2221,0.2224,0.2221,0.2229,0.2225,0.2224,0.4922,0.2222,0.2221,0.2225,0.2731,0.2887,0.2222,0.4909,0.2807,0.2218,0.2224,0.4906,0.4961,0.2236,0.2223,0.2222,0.4928,0.2225,0.4945,0.4917,0.4129,0.3221,0.2232,0.2221,0.4913,0.2268,0.2226,0.2232,0.2794,0.2221,0.2846,0.4907,0.4914,0.4906,0.4907,0.491,0.4902,0.4113,0.2241,0.4998,0.4907,0.4909,0.4874,0.2245,0.2236,0.4851,0.4907,0.504,0.4908,0.9221,0.2234,0.4912,0.4105,0.4913,0.9047,0.4905,0.4922,0.4915,0.4636,0.4912,0.4956,0.4915,0.4909,0.4945,0.49,0.3991,0.4093,0.3989,0.8683,0.4907,0.9216,0.2224,0.2239,0.3195,0.4919,0.3088,0.2505,0.2224,0.4909,0.4908,0.6727,0.4516,0.4904,0.4909,0.491,0.4914,0.4118,0.4906,0.491,0.4911,0.4912,0.3984,0.4912,0.4917,0.4905,0.2224,0.4905,0.49,0.4919,0.2222,0.4905,0.4909,0.2224,0.2225,0.4907,0.4915,0.4955,0.4903,1.0,0.4905,0.4912,0.2301,0.4908,0.49,0.4906,0.491,0.4904,0.491,0.4909,0.4952,0.4934,0.2231,0.2225,0.4918,0.6349,0.4919,0.411,0.4927,0.4917,0.3715,0.4907,0.4927,0.4921,0.9194,0.5022,0.5036,0.4912,0.5011,0.5052,0.492,0.5029,0.4902,0.4911,0.4926,0.4913,0.4928,0.4908,0.4884,0.4891,0.4895,0.4754,0.3552,0.4884,0.4909,0.4904,0.4886,0.4894,0.2618,0.4914,0.4203,0.2603,0.4908,0.4227,0.2227,0.4899,0.4907,0.4329,0.4911,0.2574,0.4943,0.4898,0.4951,0.4924,0.3471,0.448,0.3446,0.4921,0.491,0.313,0.4898,0.4909,0.4881,0.2222,0.8816,0.2471,0.2252,0.2222,0.2221,0.2221,0.2225,0.2224,0.2222,0.2224,0.2282,0.2224,0.2208,0.205,0.2221,0.3576,0.2226,0.2226,0.2224,0.2221,0.2221,0.2222,0.4911,0.2222,0.4913,0.2257,0.4661,0.4914,0.216,0.4502,0.2224,0.2224,0.4898,0.2225,0.4902,0.2677,0.4907,0.4932,0.4936,0.4908,0.4904,0.4897,0.4913,0.4911,0.4899,0.4912,0.4919,0.4912,0.4916,0.2252,0.4898,0.2222,0.9243,0.2221,0.4913,0.2413,0.3664,0.4912,0.4917,0.2221,0.4916,0.4895,0.4902,0.49,0.4899,0.9982,0.2221,0.2226,0.2221,0.4909,0.4911,0.2227,0.3106,0.2224,0.491,0.2238,0.4909,0.2222,0.2226,0.491,0.4897,0.4909,0.4906,0.491,0.4909,0.4909,0.491,0.491,0.4903,0.2221,0.4909,0.516,0.491,0.492,0.2222,0.2222,0.2222,0.4929,0.4887,0.9311,0.4909,0.4908,0.4903,0.4951,0.4917,0.2221,0.4891,0.491,0.4907,0.922,0.3879,0.4881,0.4281,0.4908,0.2224,0.2219,0.9269,0.2231,0.2262,0.2224,0.2223,0.4913,0.4917,0.4912,0.2709,0.4917,0.9224,0.2698,0.2224,1.0,0.2224,0.4917,0.2219,0.2224,0.2275,0.2364,0.2223,0.2554,0.4883,0.6182,0.2224,0.4912,0.4935,0.4913,0.4912,0.4916,0.4913,0.4916,0.4914,0.4916,0.4914,0.491,0.2225,0.2226,1.0,0.4912,0.2222,0.2225,0.2224,0.4882,0.4914,0.4904,0.4909,0.4905,0.4916,0.4109,0.4925,0.4872,0.2221,0.4867,0.4903,0.2225,0.4926,0.2224,0.5757,0.4984,0.4505,0.9306,0.4919,0.8799,0.411,0.4924,0.4922,0.4926,0.4909,0.2222,0.4908,0.2363,0.2222,0.4922,0.2226,0.2227,0.9224,0.2224,0.2225,0.2231,0.2241,0.2225,0.2228,0.2221,0.2226,0.2231,0.4893,0.2221,0.9311,0.2225,0.2224,0.491,0.2221,0.4901,0.2229,0.2226,0.2224,0.4903,0.49,0.2225,0.2248,0.2221,0.2467,0.2127,0.2226,0.2225,0.2224,0.2223,0.4903,0.2238,0.222,0.2231,0.491,0.2229,0.4899,0.491,0.4902,0.4918,0.4912,0.4908,0.2239,0.4907,0.4893,0.9422,0.2225,0.4912,0.4909,0.4909,0.4908,0.4909,0.491,0.4909,0.4913,0.491,0.491,0.49,0.4906,0.4912,0.8063,0.411,0.3691,0.2225,0.9328,0.9328,0.2229,0.4365,0.4099,0.4089,0.2225,0.4906,0.5054,0.4912,1.0,0.2226,0.4909,0.2225,0.4905,0.2236,0.2222,0.4911,0.4921,0.4948,0.2226,0.2226,0.2222,0.2224,0.2216,0.2226,0.4914,0.2225],\"yaxis\":\"y\"},{\"hovertemplate\":\"x=%{x}<br>y=%{y}<extra></extra>\",\"legendgroup\":\"\",\"line\":{\"color\":\"lightgreen\",\"dash\":\"solid\",\"width\":3},\"marker\":{\"symbol\":\"circle\"},\"mode\":\"lines\",\"name\":\"\",\"orientation\":\"v\",\"showlegend\":false,\"type\":\"scatter\",\"x\":[0.3,1.0],\"xaxis\":\"x\",\"y\":[0.3,1.0],\"yaxis\":\"y\"}],                        {\"autosize\":false,\"height\":500,\"legend\":{\"title\":{\"text\":\"Diff_Perc < 10\"},\"tracegroupgap\":0},\"margin\":{\"t\":60},\"template\":{\"data\":{\"bar\":[{\"error_x\":{\"color\":\"#2a3f5f\"},\"error_y\":{\"color\":\"#2a3f5f\"},\"marker\":{\"line\":{\"color\":\"#E5ECF6\",\"width\":0.5},\"pattern\":{\"fillmode\":\"overlay\",\"size\":10,\"solidity\":0.2}},\"type\":\"bar\"}],\"barpolar\":[{\"marker\":{\"line\":{\"color\":\"#E5ECF6\",\"width\":0.5},\"pattern\":{\"fillmode\":\"overlay\",\"size\":10,\"solidity\":0.2}},\"type\":\"barpolar\"}],\"carpet\":[{\"aaxis\":{\"endlinecolor\":\"#2a3f5f\",\"gridcolor\":\"white\",\"linecolor\":\"white\",\"minorgridcolor\":\"white\",\"startlinecolor\":\"#2a3f5f\"},\"baxis\":{\"endlinecolor\":\"#2a3f5f\",\"gridcolor\":\"white\",\"linecolor\":\"white\",\"minorgridcolor\":\"white\",\"startlinecolor\":\"#2a3f5f\"},\"type\":\"carpet\"}],\"choropleth\":[{\"colorbar\":{\"outlinewidth\":0,\"ticks\":\"\"},\"type\":\"choropleth\"}],\"contour\":[{\"colorbar\":{\"outlinewidth\":0,\"ticks\":\"\"},\"colorscale\":[[0.0,\"#0d0887\"],[0.1111111111111111,\"#46039f\"],[0.2222222222222222,\"#7201a8\"],[0.3333333333333333,\"#9c179e\"],[0.4444444444444444,\"#bd3786\"],[0.5555555555555556,\"#d8576b\"],[0.6666666666666666,\"#ed7953\"],[0.7777777777777778,\"#fb9f3a\"],[0.8888888888888888,\"#fdca26\"],[1.0,\"#f0f921\"]],\"type\":\"contour\"}],\"contourcarpet\":[{\"colorbar\":{\"outlinewidth\":0,\"ticks\":\"\"},\"type\":\"contourcarpet\"}],\"heatmap\":[{\"colorbar\":{\"outlinewidth\":0,\"ticks\":\"\"},\"colorscale\":[[0.0,\"#0d0887\"],[0.1111111111111111,\"#46039f\"],[0.2222222222222222,\"#7201a8\"],[0.3333333333333333,\"#9c179e\"],[0.4444444444444444,\"#bd3786\"],[0.5555555555555556,\"#d8576b\"],[0.6666666666666666,\"#ed7953\"],[0.7777777777777778,\"#fb9f3a\"],[0.8888888888888888,\"#fdca26\"],[1.0,\"#f0f921\"]],\"type\":\"heatmap\"}],\"heatmapgl\":[{\"colorbar\":{\"outlinewidth\":0,\"ticks\":\"\"},\"colorscale\":[[0.0,\"#0d0887\"],[0.1111111111111111,\"#46039f\"],[0.2222222222222222,\"#7201a8\"],[0.3333333333333333,\"#9c179e\"],[0.4444444444444444,\"#bd3786\"],[0.5555555555555556,\"#d8576b\"],[0.6666666666666666,\"#ed7953\"],[0.7777777777777778,\"#fb9f3a\"],[0.8888888888888888,\"#fdca26\"],[1.0,\"#f0f921\"]],\"type\":\"heatmapgl\"}],\"histogram\":[{\"marker\":{\"pattern\":{\"fillmode\":\"overlay\",\"size\":10,\"solidity\":0.2}},\"type\":\"histogram\"}],\"histogram2d\":[{\"colorbar\":{\"outlinewidth\":0,\"ticks\":\"\"},\"colorscale\":[[0.0,\"#0d0887\"],[0.1111111111111111,\"#46039f\"],[0.2222222222222222,\"#7201a8\"],[0.3333333333333333,\"#9c179e\"],[0.4444444444444444,\"#bd3786\"],[0.5555555555555556,\"#d8576b\"],[0.6666666666666666,\"#ed7953\"],[0.7777777777777778,\"#fb9f3a\"],[0.8888888888888888,\"#fdca26\"],[1.0,\"#f0f921\"]],\"type\":\"histogram2d\"}],\"histogram2dcontour\":[{\"colorbar\":{\"outlinewidth\":0,\"ticks\":\"\"},\"colorscale\":[[0.0,\"#0d0887\"],[0.1111111111111111,\"#46039f\"],[0.2222222222222222,\"#7201a8\"],[0.3333333333333333,\"#9c179e\"],[0.4444444444444444,\"#bd3786\"],[0.5555555555555556,\"#d8576b\"],[0.6666666666666666,\"#ed7953\"],[0.7777777777777778,\"#fb9f3a\"],[0.8888888888888888,\"#fdca26\"],[1.0,\"#f0f921\"]],\"type\":\"histogram2dcontour\"}],\"mesh3d\":[{\"colorbar\":{\"outlinewidth\":0,\"ticks\":\"\"},\"type\":\"mesh3d\"}],\"parcoords\":[{\"line\":{\"colorbar\":{\"outlinewidth\":0,\"ticks\":\"\"}},\"type\":\"parcoords\"}],\"pie\":[{\"automargin\":true,\"type\":\"pie\"}],\"scatter\":[{\"marker\":{\"colorbar\":{\"outlinewidth\":0,\"ticks\":\"\"}},\"type\":\"scatter\"}],\"scatter3d\":[{\"line\":{\"colorbar\":{\"outlinewidth\":0,\"ticks\":\"\"}},\"marker\":{\"colorbar\":{\"outlinewidth\":0,\"ticks\":\"\"}},\"type\":\"scatter3d\"}],\"scattercarpet\":[{\"marker\":{\"colorbar\":{\"outlinewidth\":0,\"ticks\":\"\"}},\"type\":\"scattercarpet\"}],\"scattergeo\":[{\"marker\":{\"colorbar\":{\"outlinewidth\":0,\"ticks\":\"\"}},\"type\":\"scattergeo\"}],\"scattergl\":[{\"marker\":{\"colorbar\":{\"outlinewidth\":0,\"ticks\":\"\"}},\"type\":\"scattergl\"}],\"scattermapbox\":[{\"marker\":{\"colorbar\":{\"outlinewidth\":0,\"ticks\":\"\"}},\"type\":\"scattermapbox\"}],\"scatterpolar\":[{\"marker\":{\"colorbar\":{\"outlinewidth\":0,\"ticks\":\"\"}},\"type\":\"scatterpolar\"}],\"scatterpolargl\":[{\"marker\":{\"colorbar\":{\"outlinewidth\":0,\"ticks\":\"\"}},\"type\":\"scatterpolargl\"}],\"scatterternary\":[{\"marker\":{\"colorbar\":{\"outlinewidth\":0,\"ticks\":\"\"}},\"type\":\"scatterternary\"}],\"surface\":[{\"colorbar\":{\"outlinewidth\":0,\"ticks\":\"\"},\"colorscale\":[[0.0,\"#0d0887\"],[0.1111111111111111,\"#46039f\"],[0.2222222222222222,\"#7201a8\"],[0.3333333333333333,\"#9c179e\"],[0.4444444444444444,\"#bd3786\"],[0.5555555555555556,\"#d8576b\"],[0.6666666666666666,\"#ed7953\"],[0.7777777777777778,\"#fb9f3a\"],[0.8888888888888888,\"#fdca26\"],[1.0,\"#f0f921\"]],\"type\":\"surface\"}],\"table\":[{\"cells\":{\"fill\":{\"color\":\"#EBF0F8\"},\"line\":{\"color\":\"white\"}},\"header\":{\"fill\":{\"color\":\"#C8D4E3\"},\"line\":{\"color\":\"white\"}},\"type\":\"table\"}]},\"layout\":{\"annotationdefaults\":{\"arrowcolor\":\"#2a3f5f\",\"arrowhead\":0,\"arrowwidth\":1},\"autotypenumbers\":\"strict\",\"coloraxis\":{\"colorbar\":{\"outlinewidth\":0,\"ticks\":\"\"}},\"colorscale\":{\"diverging\":[[0,\"#8e0152\"],[0.1,\"#c51b7d\"],[0.2,\"#de77ae\"],[0.3,\"#f1b6da\"],[0.4,\"#fde0ef\"],[0.5,\"#f7f7f7\"],[0.6,\"#e6f5d0\"],[0.7,\"#b8e186\"],[0.8,\"#7fbc41\"],[0.9,\"#4d9221\"],[1,\"#276419\"]],\"sequential\":[[0.0,\"#0d0887\"],[0.1111111111111111,\"#46039f\"],[0.2222222222222222,\"#7201a8\"],[0.3333333333333333,\"#9c179e\"],[0.4444444444444444,\"#bd3786\"],[0.5555555555555556,\"#d8576b\"],[0.6666666666666666,\"#ed7953\"],[0.7777777777777778,\"#fb9f3a\"],[0.8888888888888888,\"#fdca26\"],[1.0,\"#f0f921\"]],\"sequentialminus\":[[0.0,\"#0d0887\"],[0.1111111111111111,\"#46039f\"],[0.2222222222222222,\"#7201a8\"],[0.3333333333333333,\"#9c179e\"],[0.4444444444444444,\"#bd3786\"],[0.5555555555555556,\"#d8576b\"],[0.6666666666666666,\"#ed7953\"],[0.7777777777777778,\"#fb9f3a\"],[0.8888888888888888,\"#fdca26\"],[1.0,\"#f0f921\"]]},\"colorway\":[\"#636efa\",\"#EF553B\",\"#00cc96\",\"#ab63fa\",\"#FFA15A\",\"#19d3f3\",\"#FF6692\",\"#B6E880\",\"#FF97FF\",\"#FECB52\"],\"font\":{\"color\":\"#2a3f5f\"},\"geo\":{\"bgcolor\":\"white\",\"lakecolor\":\"white\",\"landcolor\":\"#E5ECF6\",\"showlakes\":true,\"showland\":true,\"subunitcolor\":\"white\"},\"hoverlabel\":{\"align\":\"left\"},\"hovermode\":\"closest\",\"mapbox\":{\"style\":\"light\"},\"paper_bgcolor\":\"white\",\"plot_bgcolor\":\"#E5ECF6\",\"polar\":{\"angularaxis\":{\"gridcolor\":\"white\",\"linecolor\":\"white\",\"ticks\":\"\"},\"bgcolor\":\"#E5ECF6\",\"radialaxis\":{\"gridcolor\":\"white\",\"linecolor\":\"white\",\"ticks\":\"\"}},\"scene\":{\"xaxis\":{\"backgroundcolor\":\"#E5ECF6\",\"gridcolor\":\"white\",\"gridwidth\":2,\"linecolor\":\"white\",\"showbackground\":true,\"ticks\":\"\",\"zerolinecolor\":\"white\"},\"yaxis\":{\"backgroundcolor\":\"#E5ECF6\",\"gridcolor\":\"white\",\"gridwidth\":2,\"linecolor\":\"white\",\"showbackground\":true,\"ticks\":\"\",\"zerolinecolor\":\"white\"},\"zaxis\":{\"backgroundcolor\":\"#E5ECF6\",\"gridcolor\":\"white\",\"gridwidth\":2,\"linecolor\":\"white\",\"showbackground\":true,\"ticks\":\"\",\"zerolinecolor\":\"white\"}},\"shapedefaults\":{\"line\":{\"color\":\"#2a3f5f\"}},\"ternary\":{\"aaxis\":{\"gridcolor\":\"white\",\"linecolor\":\"white\",\"ticks\":\"\"},\"baxis\":{\"gridcolor\":\"white\",\"linecolor\":\"white\",\"ticks\":\"\"},\"bgcolor\":\"#E5ECF6\",\"caxis\":{\"gridcolor\":\"white\",\"linecolor\":\"white\",\"ticks\":\"\"}},\"title\":{\"x\":0.05},\"xaxis\":{\"automargin\":true,\"gridcolor\":\"white\",\"linecolor\":\"white\",\"ticks\":\"\",\"title\":{\"standoff\":15},\"zerolinecolor\":\"white\",\"zerolinewidth\":2},\"yaxis\":{\"automargin\":true,\"gridcolor\":\"white\",\"linecolor\":\"white\",\"ticks\":\"\",\"title\":{\"standoff\":15},\"zerolinecolor\":\"white\",\"zerolinewidth\":2}}},\"title\":{\"text\":\"Efficiency Scores Comparison (Blue: 886, Red: 847)\"},\"width\":800,\"xaxis\":{\"anchor\":\"y\",\"domain\":[0.0,1.0],\"title\":{\"text\":\"Efficiency_Scores_Basic\"}},\"yaxis\":{\"anchor\":\"x\",\"domain\":[0.0,1.0],\"title\":{\"text\":\"Efficiency_Scores_with_ML\"}}},                        {\"responsive\": true}                    ).then(function(){\n",
       "                            \n",
       "var gd = document.getElementById('0bf6bcc5-0241-4ac8-98a5-2f541fa801ba');\n",
       "var x = new MutationObserver(function (mutations, observer) {{\n",
       "        var display = window.getComputedStyle(gd).display;\n",
       "        if (!display || display === 'none') {{\n",
       "            console.log([gd, 'removed!']);\n",
       "            Plotly.purge(gd);\n",
       "            observer.disconnect();\n",
       "        }}\n",
       "}});\n",
       "\n",
       "// Listen for the removal of the full notebook cells\n",
       "var notebookContainer = gd.closest('#notebook-container');\n",
       "if (notebookContainer) {{\n",
       "    x.observe(notebookContainer, {childList: true});\n",
       "}}\n",
       "\n",
       "// Listen for the clearing of the current output cell\n",
       "var outputEl = gd.closest('.output');\n",
       "if (outputEl) {{\n",
       "    x.observe(outputEl, {childList: true});\n",
       "}}\n",
       "\n",
       "                        })                };                });            </script>        </div>"
      ]
     },
     "metadata": {},
     "output_type": "display_data"
    }
   ],
   "source": [
    "fig = px.scatter(df_res, x=\"Efficiency_Scores_Basic\", y=\"Efficiency_Scores_with_ML\", color = \"Diff_Perc < 10\", color_discrete_map= {True:\"blue\", False: \"red\"},\n",
    "                 hover_data=[\"Efficiency_Scores_Basic\", \"Efficiency_Scores_with_ML\", \"Diff_Perc\"] + [df_res.index])\n",
    "\n",
    "fig.add_traces(\n",
    "    list(px.line(x = np.linspace(0.3, 1, num=2), y = np.linspace(0.3, 1, num=2)).select_traces())\n",
    ")\n",
    "\n",
    "fig.update_traces(line_color='lightgreen', line_width=3)\n",
    "\n",
    "fig.update_layout(\n",
    "    autosize=False,\n",
    "    width=800,\n",
    "    height=500,\n",
    "    title_text=f\"Efficiency Scores Comparison (Blue: {blue}, Red: {red})\",\n",
    ")\n",
    "\n",
    "fig.show()"
   ]
  },
  {
   "cell_type": "code",
   "execution_count": null,
   "id": "e8783c0b-1b6c-4c8f-9eab-44201f30bdaa",
   "metadata": {},
   "outputs": [],
   "source": []
  }
 ],
 "metadata": {
  "kernelspec": {
   "display_name": "Python 3 (ipykernel)",
   "language": "python",
   "name": "python3"
  },
  "language_info": {
   "codemirror_mode": {
    "name": "ipython",
    "version": 3
   },
   "file_extension": ".py",
   "mimetype": "text/x-python",
   "name": "python",
   "nbconvert_exporter": "python",
   "pygments_lexer": "ipython3",
   "version": "3.8.11"
  }
 },
 "nbformat": 4,
 "nbformat_minor": 5
}
